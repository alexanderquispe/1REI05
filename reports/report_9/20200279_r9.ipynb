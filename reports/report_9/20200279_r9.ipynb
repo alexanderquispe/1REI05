{
 "cells": [
  {
   "cell_type": "markdown",
   "id": "52484f15",
   "metadata": {},
   "source": [
    "# REPORTE 9\n",
    "### Estudiante: Greysi Arrelucea Castañeda (20200279)\n",
    "## Redes Sociales y Salud Mental - Braghieri, Levy & Makarin"
   ]
  },
  {
   "cell_type": "markdown",
   "id": "0d1b4be8",
   "metadata": {},
   "source": [
    "El estudio “Redes Sociales y Salud Mental” de Braghieri, Levy y Makarin tiene como objetivo central identificar el impacto causal que las redes sociales pueden tener sobre la salud mental de universitarios estadounidenses. Para ello, aprovecha el hecho de que la implementación de Facebook en las universidades de Estados Unidos durante la década de los 2000 fue realizada de manera escalonada y aguda, proporcionando una fuente de variación cuasi-experimental que resulta muy útil para identificar relaciones de causalidad en cuanto al fenómeno de exposición a las redes sociales. En tal sentido, se plantea la siguiente pregunta de investigación: ¿Cuáles son los efectos de las redes sociales en la salud mental de los adolescentes y jóvenes adultos universitarios en EE.UU.? La evidencia cuasi experimental demostró que la introducción de Facebook en las universidades tuvo efectos negativos sobre la salud mental de los estudiantes, generando principalmente problemas de ansiedad y depresión lo que, en consecuencia, también perjudicó sus niveles de rendimiento académico. \n",
    "\n",
    "La investigación utiliza un enfoque cuantitativo cuasi-experimental, en conjunto con un diseño de investigación generalizado de diferencias en diferencias. Esta estrategia empírica tiene como principal fortaleza permitir el hallazgo de relaciones de causalidad pues, en base a la fuente cuasi-experimental de la que se dispone sobre la introducción escalonada de Facebook, esta estrategia logra descartar varios factores de confusión (como diferencias específicas de la universidad o diferencias en el tiempo en que Facebook fue introducido a estas), así como posibles problemas de endogeneidad (como problemas de causalidad inversa o sesgos omitidos). En consecuencia, la investigación logra brindar una interpretación causal creíble. Asimismo, otra fortaleza a resaltar es la inclusión de un análisis de heterogeneidad, que incorpora un conjunto de estimadores robustos (como abordar si en realidad los resultados se deben a la reducción del estigma de las enfermedades mentales, situación que el análisis permitió desestimar) para permitir la heterogeneidad en los efectos del tratamiento a lo largo del tiempo y las unidades tratadas. \n",
    "\n",
    "Por otro lado, el enfoque adoptado por el documento presenta ciertas debilidades que deben ser tomadas en cuenta al momento de interpretar los resultados. Primero, Facebook ha atravesado por constantes actualizaciones en sus funcionalidades, de modo que las estimaciones de la presente investigación no pueden dar cuenta de los efectos de las características específicas de las redes sociales que fueron introducidas después del periodo analizado, la década de los 2000. Segundo, los autoinformes utilizados en el estudio aún pueden sufrir errores de medición, a causa de sesgos de recuerdo, falta de incentivos y preocupaciones de la imagen social. Por último, los resultados solo tienen un alcance local -para estudiantes universitarios estadounidenses- de modo que faltaría comprobarse si las redes continúan teniendo los mismos efectos negativos en otros grupos demográficos. \n",
    "\n",
    "Por supuesto, pese a las debilidades, el documento tiene una enorme contribución teórica y práctica. En primer lugar, la investigación constituye un paso fundamental en la evaluación de la hipótesis de que la difusión de las redes sociales afecta la salud mental de las personas, pues es una de las primeras en la literatura en brindar evidencia causal más completa y con variables de salud mental mucho más detalladas. En el ámbito práctico, aunque no se pueda afirmar que los efectos generales de bienestar de las redes sociales son necesariamente negativos, los resultados siguen siendo informativos para que los usuarios de las redes sociales como los representantes políticos tomen conciencia de este problema. Así, aunque aún no se generen soluciones específicas, su sola identificación constituye una gran ayuda para los jóvenes que, cabe resaltar, están en una edad muy vulnerable en términos de salud mental y en la que deben tomar decisiones trascendentales para sus vidas. \n",
    "\n",
    "Por último, un paso a seguir para profundizar en el conocimiento de la investigación es precisamente abordar una de sus limitaciones: su aplicabilidad a otros grupos demográficos. Considero que sería muy interesante contrastar los efectos entre diferentes grupos de edades, de modo que se puedan identificar aquellos más y menos afectados, además de comprobar si los efectos continúan siendo negativos o varían en función del grupo. Por ejemplo, Torre y Fourade (2012) investigan los efectos del uso de las redes sociales en niños argentinos, resaltando que estas se han convertido en una herramienta poderosa para la socialización con sus pares. Así, un segundo paso para continuar la investigación sería evaluar el impacto de las redes sociales no solo en otros grupos de estudio, sino también en otros ámbitos de la vida, de tal manera que se pueda tener una visión mucho más holística sobre el papel que estas juegan en la cotidianidad de las personas.  \n",
    "\n",
    "### Bibliografía\n",
    "Torre, L. & Fourcade, H. (2012). El uso de las redes sociales en niños, niñas y adolescentes. Infancias imágenes. 2(11), 69-73. Recuperado de: https://dialnet.unirioja.es/descarga/articulo/4817208.pdf\n",
    "\n"
   ]
  }
 ],
 "metadata": {
  "kernelspec": {
   "display_name": "Python 3 (ipykernel)",
   "language": "python",
   "name": "python3"
  },
  "language_info": {
   "codemirror_mode": {
    "name": "ipython",
    "version": 3
   },
   "file_extension": ".py",
   "mimetype": "text/x-python",
   "name": "python",
   "nbconvert_exporter": "python",
   "pygments_lexer": "ipython3",
   "version": "3.9.12"
  }
 },
 "nbformat": 4,
 "nbformat_minor": 5
}
