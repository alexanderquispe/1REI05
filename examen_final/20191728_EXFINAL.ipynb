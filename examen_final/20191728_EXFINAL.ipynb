{
 "cells": [
  {
   "cell_type": "markdown",
   "id": "2c50bb44",
   "metadata": {},
   "source": [
    "# Examen Final - Bruno Merino 20191728"
   ]
  },
  {
   "cell_type": "markdown",
   "id": "c8d26be8",
   "metadata": {},
   "source": [
    "<h1>Pregunta 1<h1>"
   ]
  },
  {
   "cell_type": "markdown",
   "id": "5216fb1b",
   "metadata": {},
   "source": [
    "<h1>Indentifique todos los elementos necesarios para implementar un enfoque de IV en este ejemplo.<h1>"
   ]
  },
  {
   "cell_type": "markdown",
   "id": "dda77002",
   "metadata": {},
   "source": [
    "* \tEl primer elemento necesario es el de relevancia, es decir que la covarianza de la variable explicativa y la variable instrumental tiene que ser diferente de 0. En otras palabras, la variable explicativa y la variable instrumental tiene que tener una correlación alta o relevante. \n",
    "* \tUn segundo elemento necesario es el de exogeneidad, es decir que el instrumento escogido no se debe relacionar con el error, en caso no se cumpla esta condición el estimador puede salir sesgado.  "
   ]
  },
  {
   "cell_type": "markdown",
   "id": "1ebe6d50",
   "metadata": {},
   "source": [
    "<h1>Explique el procedimiento para encontrar el efecto causal en este escenario. Puede utilizar ecuaciones<h1>"
   ]
  },
  {
   "cell_type": "markdown",
   "id": "be62ffcc",
   "metadata": {},
   "source": [
    "* Para encontrar el efecto causal en este caso sería necesario encontrar el estadístico F de la regresión usando la variable instrumental. Si el resultado es mayor que 10, sugiere que nuestro instrumento es suficientemente fuerte para la identificación. Por lo tanto, hay un efecto causal. "
   ]
  },
  {
   "cell_type": "markdown",
   "id": "6b5bf41f",
   "metadata": {},
   "source": [
    "<h1>¿El efecto de la educación sobre el nivel de ingresos es positivo o negativo? Argumente si los resultados serian causales o solamente de correlación<h1>"
   ]
  },
  {
   "cell_type": "markdown",
   "id": "3b6cea56",
   "metadata": {},
   "source": [
    "* \tEs de esperar que el efecto de la educación sobre el nivel de ingresos será positivo, pues mientras más cantidad de años de educación de años tengas podrías alcanzar un mejor puesto laboral o exigir un mejor salario. En este sentido, la correlación podría ser diferente de 0; sin embargo, no habría una causalidad entre “Z” y “Y” o “Z” y “X”, ya que esta variable instrumental no tiene ningún efecto causal directo sobre ninguna de las variables. No obstante, sí entre educación y nivel de ingresos."
   ]
  },
  {
   "cell_type": "markdown",
   "id": "390c6587",
   "metadata": {},
   "source": [
    "<h1>Pregunta 2<h1>"
   ]
  },
  {
   "cell_type": "markdown",
   "id": "96b108c6",
   "metadata": {},
   "source": [
    "<h1>Indetifique todos los elementos necesarios para implementar un RDD en este ejemplo.<h1>"
   ]
  },
  {
   "cell_type": "markdown",
   "id": "1c130e61",
   "metadata": {},
   "source": [
    "* \tRunning variable (forcing variable) (RV): Variable que determinará si es del grupo de control (estudiantes que tienen un promedio inferior durante la secundaria igual a 16) o del grupo de tratamiento (estudiantes que tienen un promedio superior durante la secundaria igual a 16). "
   ]
  },
  {
   "cell_type": "markdown",
   "id": "b18fcea3",
   "metadata": {},
   "source": [
    "* \tCut off: Es la variable dentro del RV (un elemento de observación de la variable RV) y que determinan a partir de qué observación perteneces al grupo de control o al grupo de tratamiento. "
   ]
  },
  {
   "cell_type": "markdown",
   "id": "da97938b",
   "metadata": {},
   "source": [
    "* Bond Width: este elemento de un RDD determina qué tan lejos o cerca se está de la discontinuidad (cut off). "
   ]
  },
  {
   "cell_type": "markdown",
   "id": "cc77f806",
   "metadata": {},
   "source": [
    "<h1>Explique el procedimiento para encontrar el efecto causal en este escenario. Puede utilizar ecuaciones.<h1>"
   ]
  },
  {
   "cell_type": "markdown",
   "id": "9b32a9f8",
   "metadata": {},
   "source": [
    "* \tEl efecto causal en este escenario se puede encontrar comparando el promedio de notas tanto del grupo de control como el de tratamiento. Y dado que el grupo de tratamiento tiene un mayor promedio de notas en el primer semestre de la universidad, se puede concluir que el efecto causal es positivo. "
   ]
  },
  {
   "cell_type": "markdown",
   "id": "e816304a",
   "metadata": {},
   "source": [
    "<h1>¿El efecto de la politica sobre el rendimiento de los estudiantes sería positivo o negativo (solo necesitan usar su intuición)? Argumente si los resultados serian causales o solamente de correlación .<h1>"
   ]
  },
  {
   "cell_type": "markdown",
   "id": "863c3f97",
   "metadata": {},
   "source": [
    "* El efecto de la política aplicada sobre el rendimiento de los estudiantes, es de esperar que será positivo, pues la muestra recogida a la que se aplicó la beca son estudiantes con un promedio alto en la secundaria, entonces estos alumnos tienen un potencial alto para sacar buenas notas en el primer semestre de la universidad, independientemente de la beca. Por lo tanto, se puede concluir que solo haya una relación fuerte de correlación, mas no de causalidad. "
   ]
  },
  {
   "cell_type": "markdown",
   "id": "a83a860a",
   "metadata": {},
   "source": [
    "<h1>Pregunta 3<h1>"
   ]
  },
  {
   "cell_type": "markdown",
   "id": "3e8ea8f6",
   "metadata": {},
   "source": [
    "<h1>Indetifique todos los elementos necesarios para implementar un DiD en este ejemplo.<h1>"
   ]
  },
  {
   "cell_type": "markdown",
   "id": "31c33da4",
   "metadata": {},
   "source": [
    "*\tEl grupo de tratamiento y el grupo de control\n",
    "*\tEl punto de cambio donde se aplica una política \n",
    "*\tEl efecto en el grupo de tratamiento (grupo de control debería seguir igual)\n",
    "*\tAntes de la política ambos grupos deben mantener unas rectas paralelas\n",
    "*\tPosterior a la política la recta del grupo de control debe permanecer con la misma pendiente\n",
    "*\tLuego de la política el grupo de tratamiento debe presentar un cambio en la pendiente\n"
   ]
  },
  {
   "cell_type": "markdown",
   "id": "88549fee",
   "metadata": {},
   "source": [
    "<h1>Explique el procedimiento para encontrar el efecto causal en este escenario. Puede utilizar ecuaciones.<h1>"
   ]
  },
  {
   "cell_type": "markdown",
   "id": "4bbc0ec3",
   "metadata": {},
   "source": [
    "* Para encontrar el efecto causal se tiene que hacer una doble resta. Es decir, restar el grupo de tratamiento después de la política menos el grupo de tratamiento antes de la política menos la resta entre grupo de control después de la política menos el grupo de control antes de la política. Para así poder encontrar la TE."
   ]
  },
  {
   "cell_type": "markdown",
   "id": "3d9595ec",
   "metadata": {},
   "source": [
    "<h1>¿El efecto de la migración sobre la tasa de empleo sería positivo o negativo (solo necesitan usar su intuición)? Argumente si los resultados serian causales o solamente de correlación<h1>"
   ]
  },
  {
   "cell_type": "markdown",
   "id": "01df375c",
   "metadata": {},
   "source": [
    "* En este caso se tendría que hacer un análisis sobre los inmigrantes, pues el resultado varía dependiendo del nivel de estudio, o de forma general, del potencial para ocupar un puesto de trabajo de estos. Pues si el potencial es alto respecto al promedio del país donde migran, se puede esperar una disminución de la tasa de empleo ya que aumenta la demanda de empleo y viceversa en caso el potencial se menor al promedio del país a donde migran. En este caso, se podría esperar que exista una relación causal y una correlación alta. Ya que partimos de una aleatoriedad."
   ]
  },
  {
   "cell_type": "markdown",
   "id": "8cb8c4fb",
   "metadata": {},
   "source": [
    "<h1>Lecturas"
   ]
  },
  {
   "cell_type": "markdown",
   "id": "daee28a0",
   "metadata": {},
   "source": [
    "* ¿Cuáles son las debilidades del enfoque del paper para responder su pregunta de investigación\n",
    "\n",
    "Las debilidades del articulo podrían ser la omisión de variables como la clase social, la alimentación, la educación, el acceso a internet, entre otros; ya que, son factores que pueden influir en la innovación\n",
    "\n",
    "* ¿Cuáles serían dos próximos pasos específicos para avanzar en su pregunta de investigación?\n",
    "\n",
    "En primer lugar, se podría realizar comparación histórica de lugares en los que se haya dado la mita a través de documentación recopilada de artículos de la época de las colonias e inicios de la república y según los resultados analizar los factores que generan que los resultados sean similares o diferentes. \n",
    "En segundo lugar, se podrían analizar factores sociales que permitieron que los efectos de la mina perduraran más o menos según los lugares en los que se dio.\n",
    "\n"
   ]
  },
  {
   "cell_type": "markdown",
   "id": "92d4c2b5",
   "metadata": {},
   "source": [
    "<h1>Código<h1>"
   ]
  },
  {
   "cell_type": "code",
   "execution_count": 1,
   "id": "d6411e0c",
   "metadata": {},
   "outputs": [
    {
     "name": "stdout",
     "output_type": "stream",
     "text": [
      "Requirement already satisfied: linearmodels in c:\\users\\catono\\documents\\anaconda\\lib\\site-packages (4.27)\n",
      "Requirement already satisfied: pyhdfe>=0.1 in c:\\users\\catono\\documents\\anaconda\\lib\\site-packages (from linearmodels) (0.1.0)\n",
      "Requirement already satisfied: formulaic~=0.3.2 in c:\\users\\catono\\documents\\anaconda\\lib\\site-packages (from linearmodels) (0.3.4)\n",
      "Requirement already satisfied: scipy>=1.2 in c:\\users\\catono\\documents\\anaconda\\lib\\site-packages (from linearmodels) (1.7.1)\n",
      "Requirement already satisfied: pandas>=0.24 in c:\\users\\catono\\documents\\anaconda\\lib\\site-packages (from linearmodels) (1.3.4)\n",
      "Requirement already satisfied: mypy-extensions>=0.4 in c:\\users\\catono\\documents\\anaconda\\lib\\site-packages (from linearmodels) (0.4.3)\n",
      "Requirement already satisfied: statsmodels>=0.11 in c:\\users\\catono\\documents\\anaconda\\lib\\site-packages (from linearmodels) (0.12.2)\n",
      "Requirement already satisfied: numpy>=1.16 in c:\\users\\catono\\documents\\anaconda\\lib\\site-packages (from linearmodels) (1.20.3)\n",
      "Requirement already satisfied: setuptools-scm<7.0.0,>=6.4.2 in c:\\users\\catono\\documents\\anaconda\\lib\\site-packages (from linearmodels) (6.4.2)\n",
      "Requirement already satisfied: property-cached>=1.6.3 in c:\\users\\catono\\documents\\anaconda\\lib\\site-packages (from linearmodels) (1.6.4)\n",
      "Requirement already satisfied: Cython>=0.29.21 in c:\\users\\catono\\documents\\anaconda\\lib\\site-packages (from linearmodels) (0.29.24)\n",
      "Requirement already satisfied: astor>=0.8 in c:\\users\\catono\\documents\\anaconda\\lib\\site-packages (from formulaic~=0.3.2->linearmodels) (0.8.1)\n",
      "Requirement already satisfied: interface-meta<2.0.0,>=1.2.0 in c:\\users\\catono\\documents\\anaconda\\lib\\site-packages (from formulaic~=0.3.2->linearmodels) (1.3.0)\n",
      "Requirement already satisfied: wrapt>=1.0 in c:\\users\\catono\\documents\\anaconda\\lib\\site-packages (from formulaic~=0.3.2->linearmodels) (1.12.1)\n",
      "Requirement already satisfied: pytz>=2017.3 in c:\\users\\catono\\documents\\anaconda\\lib\\site-packages (from pandas>=0.24->linearmodels) (2021.3)\n",
      "Requirement already satisfied: python-dateutil>=2.7.3 in c:\\users\\catono\\documents\\anaconda\\lib\\site-packages (from pandas>=0.24->linearmodels) (2.8.2)\n",
      "Requirement already satisfied: six>=1.5 in c:\\users\\catono\\documents\\anaconda\\lib\\site-packages (from python-dateutil>=2.7.3->pandas>=0.24->linearmodels) (1.16.0)\n",
      "Requirement already satisfied: setuptools in c:\\users\\catono\\documents\\anaconda\\lib\\site-packages (from setuptools-scm<7.0.0,>=6.4.2->linearmodels) (58.0.4)\n",
      "Requirement already satisfied: packaging>=20.0 in c:\\users\\catono\\documents\\anaconda\\lib\\site-packages (from setuptools-scm<7.0.0,>=6.4.2->linearmodels) (21.0)\n",
      "Requirement already satisfied: tomli>=1.0.0 in c:\\users\\catono\\documents\\anaconda\\lib\\site-packages (from setuptools-scm<7.0.0,>=6.4.2->linearmodels) (2.0.1)\n",
      "Requirement already satisfied: pyparsing>=2.0.2 in c:\\users\\catono\\documents\\anaconda\\lib\\site-packages (from packaging>=20.0->setuptools-scm<7.0.0,>=6.4.2->linearmodels) (3.0.4)\n",
      "Requirement already satisfied: patsy>=0.5 in c:\\users\\catono\\documents\\anaconda\\lib\\site-packages (from statsmodels>=0.11->linearmodels) (0.5.2)\n",
      "Note: you may need to restart the kernel to use updated packages.\n"
     ]
    }
   ],
   "source": [
    "pip install linearmodels"
   ]
  },
  {
   "cell_type": "code",
   "execution_count": 2,
   "id": "0180c73a",
   "metadata": {},
   "outputs": [
    {
     "name": "stdout",
     "output_type": "stream",
     "text": [
      "Requirement already satisfied: seaborn in c:\\users\\catono\\documents\\anaconda\\lib\\site-packages (0.11.2)\n",
      "Requirement already satisfied: scipy>=1.0 in c:\\users\\catono\\documents\\anaconda\\lib\\site-packages (from seaborn) (1.7.1)\n",
      "Requirement already satisfied: matplotlib>=2.2 in c:\\users\\catono\\documents\\anaconda\\lib\\site-packages (from seaborn) (3.4.3)\n",
      "Requirement already satisfied: pandas>=0.23 in c:\\users\\catono\\documents\\anaconda\\lib\\site-packages (from seaborn) (1.3.4)\n",
      "Requirement already satisfied: numpy>=1.15 in c:\\users\\catono\\documents\\anaconda\\lib\\site-packages (from seaborn) (1.20.3)\n",
      "Requirement already satisfied: pyparsing>=2.2.1 in c:\\users\\catono\\documents\\anaconda\\lib\\site-packages (from matplotlib>=2.2->seaborn) (3.0.4)\n",
      "Requirement already satisfied: cycler>=0.10 in c:\\users\\catono\\documents\\anaconda\\lib\\site-packages (from matplotlib>=2.2->seaborn) (0.10.0)\n",
      "Requirement already satisfied: kiwisolver>=1.0.1 in c:\\users\\catono\\documents\\anaconda\\lib\\site-packages (from matplotlib>=2.2->seaborn) (1.3.1)\n",
      "Requirement already satisfied: pillow>=6.2.0 in c:\\users\\catono\\documents\\anaconda\\lib\\site-packages (from matplotlib>=2.2->seaborn) (8.4.0)\n",
      "Requirement already satisfied: python-dateutil>=2.7 in c:\\users\\catono\\documents\\anaconda\\lib\\site-packages (from matplotlib>=2.2->seaborn) (2.8.2)\n",
      "Requirement already satisfied: six in c:\\users\\catono\\documents\\anaconda\\lib\\site-packages (from cycler>=0.10->matplotlib>=2.2->seaborn) (1.16.0)\n",
      "Requirement already satisfied: pytz>=2017.3 in c:\\users\\catono\\documents\\anaconda\\lib\\site-packages (from pandas>=0.23->seaborn) (2021.3)\n",
      "Note: you may need to restart the kernel to use updated packages.\n"
     ]
    }
   ],
   "source": [
    "pip install seaborn"
   ]
  },
  {
   "cell_type": "code",
   "execution_count": 5,
   "id": "71634e37",
   "metadata": {},
   "outputs": [],
   "source": [
    "# pip install causalgraphicalmodels\n",
    "# pip install linearmodels\n",
    "\n",
    "from causalgraphicalmodels import CausalGraphicalModel\n",
    "import os\n",
    "import numpy as np \n",
    "import pandas as pd \n",
    "import statsmodels.api as sm \n",
    "import statsmodels.formula.api as smf \n",
    "from itertools import combinations \n",
    "import statsmodels.api as sm\n",
    "import statsmodels.formula.api as smf\n",
    "import linearmodels.iv.model as lm\n",
    "from linearmodels.iv import IV2SLS\n",
    "from statsmodels.iolib.summary2 import summary_col\n",
    "import seaborn as sns\n"
   ]
  },
  {
   "cell_type": "code",
   "execution_count": 6,
   "id": "e94742b2",
   "metadata": {},
   "outputs": [
    {
     "data": {
      "text/html": [
       "<div>\n",
       "<style scoped>\n",
       "    .dataframe tbody tr th:only-of-type {\n",
       "        vertical-align: middle;\n",
       "    }\n",
       "\n",
       "    .dataframe tbody tr th {\n",
       "        vertical-align: top;\n",
       "    }\n",
       "\n",
       "    .dataframe thead th {\n",
       "        text-align: right;\n",
       "    }\n",
       "</style>\n",
       "<table border=\"1\" class=\"dataframe\">\n",
       "  <thead>\n",
       "    <tr style=\"text-align: right;\">\n",
       "      <th></th>\n",
       "      <th>id</th>\n",
       "      <th>nearc2</th>\n",
       "      <th>nearc4</th>\n",
       "      <th>educ</th>\n",
       "      <th>age</th>\n",
       "      <th>fatheduc</th>\n",
       "      <th>motheduc</th>\n",
       "      <th>weight</th>\n",
       "      <th>momdad14</th>\n",
       "      <th>sinmom14</th>\n",
       "      <th>...</th>\n",
       "      <th>KWW</th>\n",
       "      <th>IQ</th>\n",
       "      <th>married</th>\n",
       "      <th>libcrd14</th>\n",
       "      <th>exper</th>\n",
       "      <th>lwage</th>\n",
       "      <th>expersq</th>\n",
       "      <th>u_lwage</th>\n",
       "      <th>lwage_hat</th>\n",
       "      <th>u_educ</th>\n",
       "    </tr>\n",
       "  </thead>\n",
       "  <tbody>\n",
       "    <tr>\n",
       "      <th>0</th>\n",
       "      <td>2.0</td>\n",
       "      <td>0.0</td>\n",
       "      <td>0.0</td>\n",
       "      <td>7.0</td>\n",
       "      <td>29.0</td>\n",
       "      <td>NaN</td>\n",
       "      <td>NaN</td>\n",
       "      <td>158413.0</td>\n",
       "      <td>1.0</td>\n",
       "      <td>0.0</td>\n",
       "      <td>...</td>\n",
       "      <td>15.0</td>\n",
       "      <td>NaN</td>\n",
       "      <td>1.0</td>\n",
       "      <td>0.0</td>\n",
       "      <td>16.0</td>\n",
       "      <td>6.306275</td>\n",
       "      <td>256.0</td>\n",
       "      <td>0.198047</td>\n",
       "      <td>6.108228</td>\n",
       "      <td>-3.067539</td>\n",
       "    </tr>\n",
       "    <tr>\n",
       "      <th>1</th>\n",
       "      <td>3.0</td>\n",
       "      <td>0.0</td>\n",
       "      <td>0.0</td>\n",
       "      <td>12.0</td>\n",
       "      <td>27.0</td>\n",
       "      <td>8.0</td>\n",
       "      <td>8.0</td>\n",
       "      <td>380166.0</td>\n",
       "      <td>1.0</td>\n",
       "      <td>0.0</td>\n",
       "      <td>...</td>\n",
       "      <td>35.0</td>\n",
       "      <td>93.0</td>\n",
       "      <td>1.0</td>\n",
       "      <td>1.0</td>\n",
       "      <td>9.0</td>\n",
       "      <td>6.175867</td>\n",
       "      <td>81.0</td>\n",
       "      <td>-0.211160</td>\n",
       "      <td>6.387027</td>\n",
       "      <td>-1.727562</td>\n",
       "    </tr>\n",
       "    <tr>\n",
       "      <th>2</th>\n",
       "      <td>4.0</td>\n",
       "      <td>0.0</td>\n",
       "      <td>0.0</td>\n",
       "      <td>12.0</td>\n",
       "      <td>34.0</td>\n",
       "      <td>14.0</td>\n",
       "      <td>12.0</td>\n",
       "      <td>367470.0</td>\n",
       "      <td>1.0</td>\n",
       "      <td>0.0</td>\n",
       "      <td>...</td>\n",
       "      <td>42.0</td>\n",
       "      <td>103.0</td>\n",
       "      <td>1.0</td>\n",
       "      <td>1.0</td>\n",
       "      <td>16.0</td>\n",
       "      <td>6.580639</td>\n",
       "      <td>256.0</td>\n",
       "      <td>0.204719</td>\n",
       "      <td>6.375920</td>\n",
       "      <td>1.012975</td>\n",
       "    </tr>\n",
       "    <tr>\n",
       "      <th>3</th>\n",
       "      <td>5.0</td>\n",
       "      <td>1.0</td>\n",
       "      <td>1.0</td>\n",
       "      <td>11.0</td>\n",
       "      <td>27.0</td>\n",
       "      <td>11.0</td>\n",
       "      <td>12.0</td>\n",
       "      <td>380166.0</td>\n",
       "      <td>1.0</td>\n",
       "      <td>0.0</td>\n",
       "      <td>...</td>\n",
       "      <td>25.0</td>\n",
       "      <td>88.0</td>\n",
       "      <td>1.0</td>\n",
       "      <td>1.0</td>\n",
       "      <td>10.0</td>\n",
       "      <td>5.521461</td>\n",
       "      <td>100.0</td>\n",
       "      <td>-0.967905</td>\n",
       "      <td>6.489366</td>\n",
       "      <td>-2.253536</td>\n",
       "    </tr>\n",
       "    <tr>\n",
       "      <th>4</th>\n",
       "      <td>6.0</td>\n",
       "      <td>1.0</td>\n",
       "      <td>1.0</td>\n",
       "      <td>12.0</td>\n",
       "      <td>34.0</td>\n",
       "      <td>8.0</td>\n",
       "      <td>7.0</td>\n",
       "      <td>367470.0</td>\n",
       "      <td>1.0</td>\n",
       "      <td>0.0</td>\n",
       "      <td>...</td>\n",
       "      <td>34.0</td>\n",
       "      <td>108.0</td>\n",
       "      <td>1.0</td>\n",
       "      <td>0.0</td>\n",
       "      <td>16.0</td>\n",
       "      <td>6.591674</td>\n",
       "      <td>256.0</td>\n",
       "      <td>0.125173</td>\n",
       "      <td>6.466501</td>\n",
       "      <td>1.090437</td>\n",
       "    </tr>\n",
       "  </tbody>\n",
       "</table>\n",
       "<p>5 rows × 37 columns</p>\n",
       "</div>"
      ],
      "text/plain": [
       "    id  nearc2  nearc4  educ   age  fatheduc  motheduc    weight  momdad14  \\\n",
       "0  2.0     0.0     0.0   7.0  29.0       NaN       NaN  158413.0       1.0   \n",
       "1  3.0     0.0     0.0  12.0  27.0       8.0       8.0  380166.0       1.0   \n",
       "2  4.0     0.0     0.0  12.0  34.0      14.0      12.0  367470.0       1.0   \n",
       "3  5.0     1.0     1.0  11.0  27.0      11.0      12.0  380166.0       1.0   \n",
       "4  6.0     1.0     1.0  12.0  34.0       8.0       7.0  367470.0       1.0   \n",
       "\n",
       "   sinmom14  ...   KWW     IQ  married  libcrd14  exper     lwage  expersq  \\\n",
       "0       0.0  ...  15.0    NaN      1.0       0.0   16.0  6.306275    256.0   \n",
       "1       0.0  ...  35.0   93.0      1.0       1.0    9.0  6.175867     81.0   \n",
       "2       0.0  ...  42.0  103.0      1.0       1.0   16.0  6.580639    256.0   \n",
       "3       0.0  ...  25.0   88.0      1.0       1.0   10.0  5.521461    100.0   \n",
       "4       0.0  ...  34.0  108.0      1.0       0.0   16.0  6.591674    256.0   \n",
       "\n",
       "    u_lwage  lwage_hat    u_educ  \n",
       "0  0.198047   6.108228 -3.067539  \n",
       "1 -0.211160   6.387027 -1.727562  \n",
       "2  0.204719   6.375920  1.012975  \n",
       "3 -0.967905   6.489366 -2.253536  \n",
       "4  0.125173   6.466501  1.090437  \n",
       "\n",
       "[5 rows x 37 columns]"
      ]
     },
     "execution_count": 6,
     "metadata": {},
     "output_type": "execute_result"
    }
   ],
   "source": [
    "# load data\n",
    "\n",
    "import ssl\n",
    "ssl._create_default_https_context = ssl._create_unverified_context\n",
    "\n",
    "def read_data(file): \n",
    "    return pd.read_stata(\"https://raw.github.com/scunning1975/mixtape/master/\" + file)\n",
    "\n",
    "card = read_data(\"card.dta\")\n",
    "card.head()"
   ]
  },
  {
   "cell_type": "markdown",
   "id": "f1a2faf6",
   "metadata": {},
   "source": [
    "<h1>histogramas para la variable años de educación <h1>"
   ]
  },
  {
   "cell_type": "code",
   "execution_count": 7,
   "id": "dd38f451",
   "metadata": {},
   "outputs": [
    {
     "data": {
      "text/html": [
       "<div>\n",
       "<style scoped>\n",
       "    .dataframe tbody tr th:only-of-type {\n",
       "        vertical-align: middle;\n",
       "    }\n",
       "\n",
       "    .dataframe tbody tr th {\n",
       "        vertical-align: top;\n",
       "    }\n",
       "\n",
       "    .dataframe thead th {\n",
       "        text-align: right;\n",
       "    }\n",
       "</style>\n",
       "<table border=\"1\" class=\"dataframe\">\n",
       "  <thead>\n",
       "    <tr style=\"text-align: right;\">\n",
       "      <th></th>\n",
       "      <th>educ</th>\n",
       "      <th>nearc2</th>\n",
       "    </tr>\n",
       "  </thead>\n",
       "  <tbody>\n",
       "    <tr>\n",
       "      <th>0</th>\n",
       "      <td>7.0</td>\n",
       "      <td>0.0</td>\n",
       "    </tr>\n",
       "    <tr>\n",
       "      <th>1</th>\n",
       "      <td>12.0</td>\n",
       "      <td>0.0</td>\n",
       "    </tr>\n",
       "    <tr>\n",
       "      <th>2</th>\n",
       "      <td>12.0</td>\n",
       "      <td>0.0</td>\n",
       "    </tr>\n",
       "    <tr>\n",
       "      <th>3</th>\n",
       "      <td>11.0</td>\n",
       "      <td>1.0</td>\n",
       "    </tr>\n",
       "    <tr>\n",
       "      <th>4</th>\n",
       "      <td>12.0</td>\n",
       "      <td>1.0</td>\n",
       "    </tr>\n",
       "    <tr>\n",
       "      <th>...</th>\n",
       "      <td>...</td>\n",
       "      <td>...</td>\n",
       "    </tr>\n",
       "    <tr>\n",
       "      <th>3005</th>\n",
       "      <td>12.0</td>\n",
       "      <td>0.0</td>\n",
       "    </tr>\n",
       "    <tr>\n",
       "      <th>3006</th>\n",
       "      <td>13.0</td>\n",
       "      <td>0.0</td>\n",
       "    </tr>\n",
       "    <tr>\n",
       "      <th>3007</th>\n",
       "      <td>12.0</td>\n",
       "      <td>0.0</td>\n",
       "    </tr>\n",
       "    <tr>\n",
       "      <th>3008</th>\n",
       "      <td>12.0</td>\n",
       "      <td>0.0</td>\n",
       "    </tr>\n",
       "    <tr>\n",
       "      <th>3009</th>\n",
       "      <td>13.0</td>\n",
       "      <td>0.0</td>\n",
       "    </tr>\n",
       "  </tbody>\n",
       "</table>\n",
       "<p>3010 rows × 2 columns</p>\n",
       "</div>"
      ],
      "text/plain": [
       "      educ  nearc2\n",
       "0      7.0     0.0\n",
       "1     12.0     0.0\n",
       "2     12.0     0.0\n",
       "3     11.0     1.0\n",
       "4     12.0     1.0\n",
       "...    ...     ...\n",
       "3005  12.0     0.0\n",
       "3006  13.0     0.0\n",
       "3007  12.0     0.0\n",
       "3008  12.0     0.0\n",
       "3009  13.0     0.0\n",
       "\n",
       "[3010 rows x 2 columns]"
      ]
     },
     "execution_count": 7,
     "metadata": {},
     "output_type": "execute_result"
    }
   ],
   "source": [
    "#Analizamos las variables educ y nearc2\n",
    "data_educ = card[['educ','nearc2']]\n",
    "data_educ"
   ]
  },
  {
   "cell_type": "code",
   "execution_count": 11,
   "id": "40808c03",
   "metadata": {},
   "outputs": [
    {
     "data": {
      "text/html": [
       "<div>\n",
       "<style scoped>\n",
       "    .dataframe tbody tr th:only-of-type {\n",
       "        vertical-align: middle;\n",
       "    }\n",
       "\n",
       "    .dataframe tbody tr th {\n",
       "        vertical-align: top;\n",
       "    }\n",
       "\n",
       "    .dataframe thead th {\n",
       "        text-align: right;\n",
       "    }\n",
       "</style>\n",
       "<table border=\"1\" class=\"dataframe\">\n",
       "  <thead>\n",
       "    <tr style=\"text-align: right;\">\n",
       "      <th></th>\n",
       "      <th>educ</th>\n",
       "      <th>nearc2</th>\n",
       "      <th>nearc2_char</th>\n",
       "    </tr>\n",
       "  </thead>\n",
       "  <tbody>\n",
       "    <tr>\n",
       "      <th>0</th>\n",
       "      <td>7.0</td>\n",
       "      <td>0.0</td>\n",
       "      <td>N_college</td>\n",
       "    </tr>\n",
       "    <tr>\n",
       "      <th>1</th>\n",
       "      <td>12.0</td>\n",
       "      <td>0.0</td>\n",
       "      <td>N_college</td>\n",
       "    </tr>\n",
       "    <tr>\n",
       "      <th>2</th>\n",
       "      <td>12.0</td>\n",
       "      <td>0.0</td>\n",
       "      <td>N_college</td>\n",
       "    </tr>\n",
       "    <tr>\n",
       "      <th>3</th>\n",
       "      <td>11.0</td>\n",
       "      <td>1.0</td>\n",
       "      <td>college</td>\n",
       "    </tr>\n",
       "    <tr>\n",
       "      <th>4</th>\n",
       "      <td>12.0</td>\n",
       "      <td>1.0</td>\n",
       "      <td>college</td>\n",
       "    </tr>\n",
       "    <tr>\n",
       "      <th>...</th>\n",
       "      <td>...</td>\n",
       "      <td>...</td>\n",
       "      <td>...</td>\n",
       "    </tr>\n",
       "    <tr>\n",
       "      <th>3005</th>\n",
       "      <td>12.0</td>\n",
       "      <td>0.0</td>\n",
       "      <td>N_college</td>\n",
       "    </tr>\n",
       "    <tr>\n",
       "      <th>3006</th>\n",
       "      <td>13.0</td>\n",
       "      <td>0.0</td>\n",
       "      <td>N_college</td>\n",
       "    </tr>\n",
       "    <tr>\n",
       "      <th>3007</th>\n",
       "      <td>12.0</td>\n",
       "      <td>0.0</td>\n",
       "      <td>N_college</td>\n",
       "    </tr>\n",
       "    <tr>\n",
       "      <th>3008</th>\n",
       "      <td>12.0</td>\n",
       "      <td>0.0</td>\n",
       "      <td>N_college</td>\n",
       "    </tr>\n",
       "    <tr>\n",
       "      <th>3009</th>\n",
       "      <td>13.0</td>\n",
       "      <td>0.0</td>\n",
       "      <td>N_college</td>\n",
       "    </tr>\n",
       "  </tbody>\n",
       "</table>\n",
       "<p>3010 rows × 3 columns</p>\n",
       "</div>"
      ],
      "text/plain": [
       "      educ  nearc2 nearc2_char\n",
       "0      7.0     0.0   N_college\n",
       "1     12.0     0.0   N_college\n",
       "2     12.0     0.0   N_college\n",
       "3     11.0     1.0     college\n",
       "4     12.0     1.0     college\n",
       "...    ...     ...         ...\n",
       "3005  12.0     0.0   N_college\n",
       "3006  13.0     0.0   N_college\n",
       "3007  12.0     0.0   N_college\n",
       "3008  12.0     0.0   N_college\n",
       "3009  13.0     0.0   N_college\n",
       "\n",
       "[3010 rows x 3 columns]"
      ]
     },
     "execution_count": 11,
     "metadata": {},
     "output_type": "execute_result"
    }
   ],
   "source": [
    "## formacion de la variable  nearc2_char para la asignacion de existencia de colegios \n",
    "#\"0.0=N_college\"\n",
    "#\"1.0=college\"\n",
    "\n",
    "data_educ2 = (data_educ\n",
    " .assign(nearc2_char = np.select(\n",
    "     [data_educ[\"nearc2\"].astype(bool), data_educ[\"educ\"].astype(bool)],\n",
    "     [\"college\", \"N_college\"]\n",
    " ))) \n",
    "data_educ2"
   ]
  },
  {
   "cell_type": "code",
   "execution_count": 12,
   "id": "e2c55d1f",
   "metadata": {},
   "outputs": [
    {
     "data": {
      "text/html": [
       "<div>\n",
       "<style scoped>\n",
       "    .dataframe tbody tr th:only-of-type {\n",
       "        vertical-align: middle;\n",
       "    }\n",
       "\n",
       "    .dataframe tbody tr th {\n",
       "        vertical-align: top;\n",
       "    }\n",
       "\n",
       "    .dataframe thead th {\n",
       "        text-align: right;\n",
       "    }\n",
       "</style>\n",
       "<table border=\"1\" class=\"dataframe\">\n",
       "  <thead>\n",
       "    <tr style=\"text-align: right;\">\n",
       "      <th></th>\n",
       "      <th>educ</th>\n",
       "      <th>nearc2_char</th>\n",
       "    </tr>\n",
       "  </thead>\n",
       "  <tbody>\n",
       "    <tr>\n",
       "      <th>0</th>\n",
       "      <td>7.0</td>\n",
       "      <td>N_college</td>\n",
       "    </tr>\n",
       "    <tr>\n",
       "      <th>1</th>\n",
       "      <td>12.0</td>\n",
       "      <td>N_college</td>\n",
       "    </tr>\n",
       "    <tr>\n",
       "      <th>2</th>\n",
       "      <td>12.0</td>\n",
       "      <td>N_college</td>\n",
       "    </tr>\n",
       "    <tr>\n",
       "      <th>3</th>\n",
       "      <td>11.0</td>\n",
       "      <td>college</td>\n",
       "    </tr>\n",
       "    <tr>\n",
       "      <th>4</th>\n",
       "      <td>12.0</td>\n",
       "      <td>college</td>\n",
       "    </tr>\n",
       "    <tr>\n",
       "      <th>...</th>\n",
       "      <td>...</td>\n",
       "      <td>...</td>\n",
       "    </tr>\n",
       "    <tr>\n",
       "      <th>3005</th>\n",
       "      <td>12.0</td>\n",
       "      <td>N_college</td>\n",
       "    </tr>\n",
       "    <tr>\n",
       "      <th>3006</th>\n",
       "      <td>13.0</td>\n",
       "      <td>N_college</td>\n",
       "    </tr>\n",
       "    <tr>\n",
       "      <th>3007</th>\n",
       "      <td>12.0</td>\n",
       "      <td>N_college</td>\n",
       "    </tr>\n",
       "    <tr>\n",
       "      <th>3008</th>\n",
       "      <td>12.0</td>\n",
       "      <td>N_college</td>\n",
       "    </tr>\n",
       "    <tr>\n",
       "      <th>3009</th>\n",
       "      <td>13.0</td>\n",
       "      <td>N_college</td>\n",
       "    </tr>\n",
       "  </tbody>\n",
       "</table>\n",
       "<p>3010 rows × 2 columns</p>\n",
       "</div>"
      ],
      "text/plain": [
       "      educ nearc2_char\n",
       "0      7.0   N_college\n",
       "1     12.0   N_college\n",
       "2     12.0   N_college\n",
       "3     11.0     college\n",
       "4     12.0     college\n",
       "...    ...         ...\n",
       "3005  12.0   N_college\n",
       "3006  13.0   N_college\n",
       "3007  12.0   N_college\n",
       "3008  12.0   N_college\n",
       "3009  13.0   N_college\n",
       "\n",
       "[3010 rows x 2 columns]"
      ]
     },
     "execution_count": 12,
     "metadata": {},
     "output_type": "execute_result"
    }
   ],
   "source": [
    "#agrupacion entre nearc2_char y educ\n",
    "data_educ3 = data_educ2[['educ','nearc2_char']]\n",
    "data_educ3"
   ]
  },
  {
   "cell_type": "markdown",
   "id": "22c99eff",
   "metadata": {},
   "source": [
    "<h1> Ploteo de Histogramas <h1>"
   ]
  },
  {
   "cell_type": "markdown",
   "id": "1c881d5e",
   "metadata": {},
   "source": [
    "* **Grafique dos histogramas para la variable años de educación educ para cuando nearc2 == 1, y cuando nearc2 == 0. Compare y describa los patrones que encuentra.**"
   ]
  },
  {
   "cell_type": "markdown",
   "id": "057577cf",
   "metadata": {},
   "source": [
    "**cuando nearc2==0**"
   ]
  },
  {
   "cell_type": "code",
   "execution_count": 13,
   "id": "4475ed5d",
   "metadata": {},
   "outputs": [
    {
     "data": {
      "text/html": [
       "<div>\n",
       "<style scoped>\n",
       "    .dataframe tbody tr th:only-of-type {\n",
       "        vertical-align: middle;\n",
       "    }\n",
       "\n",
       "    .dataframe tbody tr th {\n",
       "        vertical-align: top;\n",
       "    }\n",
       "\n",
       "    .dataframe thead th {\n",
       "        text-align: right;\n",
       "    }\n",
       "</style>\n",
       "<table border=\"1\" class=\"dataframe\">\n",
       "  <thead>\n",
       "    <tr style=\"text-align: right;\">\n",
       "      <th></th>\n",
       "      <th>educ</th>\n",
       "      <th>nearc2_char</th>\n",
       "    </tr>\n",
       "  </thead>\n",
       "  <tbody>\n",
       "    <tr>\n",
       "      <th>0</th>\n",
       "      <td>7.0</td>\n",
       "      <td>N_college</td>\n",
       "    </tr>\n",
       "    <tr>\n",
       "      <th>1</th>\n",
       "      <td>12.0</td>\n",
       "      <td>N_college</td>\n",
       "    </tr>\n",
       "    <tr>\n",
       "      <th>2</th>\n",
       "      <td>12.0</td>\n",
       "      <td>N_college</td>\n",
       "    </tr>\n",
       "    <tr>\n",
       "      <th>23</th>\n",
       "      <td>12.0</td>\n",
       "      <td>N_college</td>\n",
       "    </tr>\n",
       "    <tr>\n",
       "      <th>24</th>\n",
       "      <td>12.0</td>\n",
       "      <td>N_college</td>\n",
       "    </tr>\n",
       "    <tr>\n",
       "      <th>...</th>\n",
       "      <td>...</td>\n",
       "      <td>...</td>\n",
       "    </tr>\n",
       "    <tr>\n",
       "      <th>3005</th>\n",
       "      <td>12.0</td>\n",
       "      <td>N_college</td>\n",
       "    </tr>\n",
       "    <tr>\n",
       "      <th>3006</th>\n",
       "      <td>13.0</td>\n",
       "      <td>N_college</td>\n",
       "    </tr>\n",
       "    <tr>\n",
       "      <th>3007</th>\n",
       "      <td>12.0</td>\n",
       "      <td>N_college</td>\n",
       "    </tr>\n",
       "    <tr>\n",
       "      <th>3008</th>\n",
       "      <td>12.0</td>\n",
       "      <td>N_college</td>\n",
       "    </tr>\n",
       "    <tr>\n",
       "      <th>3009</th>\n",
       "      <td>13.0</td>\n",
       "      <td>N_college</td>\n",
       "    </tr>\n",
       "  </tbody>\n",
       "</table>\n",
       "<p>1683 rows × 2 columns</p>\n",
       "</div>"
      ],
      "text/plain": [
       "      educ nearc2_char\n",
       "0      7.0   N_college\n",
       "1     12.0   N_college\n",
       "2     12.0   N_college\n",
       "23    12.0   N_college\n",
       "24    12.0   N_college\n",
       "...    ...         ...\n",
       "3005  12.0   N_college\n",
       "3006  13.0   N_college\n",
       "3007  12.0   N_college\n",
       "3008  12.0   N_college\n",
       "3009  13.0   N_college\n",
       "\n",
       "[1683 rows x 2 columns]"
      ]
     },
     "execution_count": 13,
     "metadata": {},
     "output_type": "execute_result"
    }
   ],
   "source": [
    "Groups = [\"N_college\"]\n",
    "DIM = data_educ3[data_educ3['nearc2_char'].isin(Groups)]\n",
    "DIM"
   ]
  },
  {
   "cell_type": "code",
   "execution_count": 14,
   "id": "f3f52059",
   "metadata": {},
   "outputs": [
    {
     "data": {
      "text/plain": [
       "<seaborn.axisgrid.FacetGrid at 0x10ff9073130>"
      ]
     },
     "execution_count": 14,
     "metadata": {},
     "output_type": "execute_result"
    },
    {
     "data": {
      "image/png": "[encoded data removed]",
      "text/plain": [
       "<Figure size 444.375x360 with 1 Axes>"
      ]
     },
     "metadata": {
      "needs_background": "light"
     },
     "output_type": "display_data"
    }
   ],
   "source": [
    "sns.displot(DIM, x=\"educ\", hue= \"nearc2_char\")"
   ]
  },
  {
   "cell_type": "markdown",
   "id": "1629ceb7",
   "metadata": {},
   "source": [
    "**cuando nearc2==1**"
   ]
  },
  {
   "cell_type": "code",
   "execution_count": 15,
   "id": "67013423",
   "metadata": {},
   "outputs": [
    {
     "data": {
      "text/html": [
       "<div>\n",
       "<style scoped>\n",
       "    .dataframe tbody tr th:only-of-type {\n",
       "        vertical-align: middle;\n",
       "    }\n",
       "\n",
       "    .dataframe tbody tr th {\n",
       "        vertical-align: top;\n",
       "    }\n",
       "\n",
       "    .dataframe thead th {\n",
       "        text-align: right;\n",
       "    }\n",
       "</style>\n",
       "<table border=\"1\" class=\"dataframe\">\n",
       "  <thead>\n",
       "    <tr style=\"text-align: right;\">\n",
       "      <th></th>\n",
       "      <th>educ</th>\n",
       "      <th>nearc2_char</th>\n",
       "    </tr>\n",
       "  </thead>\n",
       "  <tbody>\n",
       "    <tr>\n",
       "      <th>3</th>\n",
       "      <td>11.0</td>\n",
       "      <td>college</td>\n",
       "    </tr>\n",
       "    <tr>\n",
       "      <th>4</th>\n",
       "      <td>12.0</td>\n",
       "      <td>college</td>\n",
       "    </tr>\n",
       "    <tr>\n",
       "      <th>5</th>\n",
       "      <td>12.0</td>\n",
       "      <td>college</td>\n",
       "    </tr>\n",
       "    <tr>\n",
       "      <th>6</th>\n",
       "      <td>18.0</td>\n",
       "      <td>college</td>\n",
       "    </tr>\n",
       "    <tr>\n",
       "      <th>7</th>\n",
       "      <td>14.0</td>\n",
       "      <td>college</td>\n",
       "    </tr>\n",
       "    <tr>\n",
       "      <th>...</th>\n",
       "      <td>...</td>\n",
       "      <td>...</td>\n",
       "    </tr>\n",
       "    <tr>\n",
       "      <th>2899</th>\n",
       "      <td>10.0</td>\n",
       "      <td>college</td>\n",
       "    </tr>\n",
       "    <tr>\n",
       "      <th>2900</th>\n",
       "      <td>4.0</td>\n",
       "      <td>college</td>\n",
       "    </tr>\n",
       "    <tr>\n",
       "      <th>2901</th>\n",
       "      <td>8.0</td>\n",
       "      <td>college</td>\n",
       "    </tr>\n",
       "    <tr>\n",
       "      <th>2902</th>\n",
       "      <td>10.0</td>\n",
       "      <td>college</td>\n",
       "    </tr>\n",
       "    <tr>\n",
       "      <th>2903</th>\n",
       "      <td>12.0</td>\n",
       "      <td>college</td>\n",
       "    </tr>\n",
       "  </tbody>\n",
       "</table>\n",
       "<p>1327 rows × 2 columns</p>\n",
       "</div>"
      ],
      "text/plain": [
       "      educ nearc2_char\n",
       "3     11.0     college\n",
       "4     12.0     college\n",
       "5     12.0     college\n",
       "6     18.0     college\n",
       "7     14.0     college\n",
       "...    ...         ...\n",
       "2899  10.0     college\n",
       "2900   4.0     college\n",
       "2901   8.0     college\n",
       "2902  10.0     college\n",
       "2903  12.0     college\n",
       "\n",
       "[1327 rows x 2 columns]"
      ]
     },
     "execution_count": 15,
     "metadata": {},
     "output_type": "execute_result"
    }
   ],
   "source": [
    "Groups = [\"college\"]\n",
    "DIM2 = data_educ3[data_educ3['nearc2_char'].isin(Groups)]\n",
    "DIM2"
   ]
  },
  {
   "cell_type": "code",
   "execution_count": 16,
   "id": "4fcee3ae",
   "metadata": {},
   "outputs": [
    {
     "data": {
      "text/plain": [
       "<seaborn.axisgrid.FacetGrid at 0x10fff8f6bb0>"
      ]
     },
     "execution_count": 16,
     "metadata": {},
     "output_type": "execute_result"
    },
    {
     "data": {
      "image/png": "[encoded data removed]",
      "text/plain": [
       "<Figure size 431.875x360 with 1 Axes>"
      ]
     },
     "metadata": {
      "needs_background": "light"
     },
     "output_type": "display_data"
    }
   ],
   "source": [
    "sns.displot(DIM2, x=\"educ\", hue= \"nearc2_char\")"
   ]
  },
  {
   "cell_type": "markdown",
   "id": "751f9e81",
   "metadata": {},
   "source": [
    "**Interpretacion**"
   ]
  },
  {
   "cell_type": "markdown",
   "id": "6c9e8852",
   "metadata": {},
   "source": [
    "* Siendo nearc2, se espera que nearc2 aumente los años de educación en más cantidad de personas. Efectivamente, como se ve en los histogramas, cuando la Dummy nearc2 = 1, la cantidad de personas con más años de educación casi de duplican. Por ejemplo, en las personas con 12 años de educación pasan de 350 a más de 600 personas aproximadamente. Esto se puede ver en la similitud que hay en la forma de los histogramas; sin embargo, en las personas con menos de 10 años de educación, la presencia de un colegio o no se hace menos determinante en comparación con los demás años de educación, pues la cantidad de años de educación es casi la misma con nerac2 =1 o =0."
   ]
  },
  {
   "cell_type": "markdown",
   "id": "54ddd41e",
   "metadata": {},
   "source": [
    "<h1>histogramas para la variable logaritmos de los ingresos<h1>"
   ]
  },
  {
   "cell_type": "code",
   "execution_count": 17,
   "id": "258b1254",
   "metadata": {},
   "outputs": [
    {
     "data": {
      "text/html": [
       "<div>\n",
       "<style scoped>\n",
       "    .dataframe tbody tr th:only-of-type {\n",
       "        vertical-align: middle;\n",
       "    }\n",
       "\n",
       "    .dataframe tbody tr th {\n",
       "        vertical-align: top;\n",
       "    }\n",
       "\n",
       "    .dataframe thead th {\n",
       "        text-align: right;\n",
       "    }\n",
       "</style>\n",
       "<table border=\"1\" class=\"dataframe\">\n",
       "  <thead>\n",
       "    <tr style=\"text-align: right;\">\n",
       "      <th></th>\n",
       "      <th>lwage</th>\n",
       "      <th>nearc2</th>\n",
       "    </tr>\n",
       "  </thead>\n",
       "  <tbody>\n",
       "    <tr>\n",
       "      <th>0</th>\n",
       "      <td>6.306275</td>\n",
       "      <td>0.0</td>\n",
       "    </tr>\n",
       "    <tr>\n",
       "      <th>1</th>\n",
       "      <td>6.175867</td>\n",
       "      <td>0.0</td>\n",
       "    </tr>\n",
       "    <tr>\n",
       "      <th>2</th>\n",
       "      <td>6.580639</td>\n",
       "      <td>0.0</td>\n",
       "    </tr>\n",
       "    <tr>\n",
       "      <th>3</th>\n",
       "      <td>5.521461</td>\n",
       "      <td>1.0</td>\n",
       "    </tr>\n",
       "    <tr>\n",
       "      <th>4</th>\n",
       "      <td>6.591674</td>\n",
       "      <td>1.0</td>\n",
       "    </tr>\n",
       "    <tr>\n",
       "      <th>...</th>\n",
       "      <td>...</td>\n",
       "      <td>...</td>\n",
       "    </tr>\n",
       "    <tr>\n",
       "      <th>3005</th>\n",
       "      <td>5.814130</td>\n",
       "      <td>0.0</td>\n",
       "    </tr>\n",
       "    <tr>\n",
       "      <th>3006</th>\n",
       "      <td>6.175867</td>\n",
       "      <td>0.0</td>\n",
       "    </tr>\n",
       "    <tr>\n",
       "      <th>3007</th>\n",
       "      <td>6.214608</td>\n",
       "      <td>0.0</td>\n",
       "    </tr>\n",
       "    <tr>\n",
       "      <th>3008</th>\n",
       "      <td>6.569481</td>\n",
       "      <td>0.0</td>\n",
       "    </tr>\n",
       "    <tr>\n",
       "      <th>3009</th>\n",
       "      <td>6.263398</td>\n",
       "      <td>0.0</td>\n",
       "    </tr>\n",
       "  </tbody>\n",
       "</table>\n",
       "<p>3010 rows × 2 columns</p>\n",
       "</div>"
      ],
      "text/plain": [
       "         lwage  nearc2\n",
       "0     6.306275     0.0\n",
       "1     6.175867     0.0\n",
       "2     6.580639     0.0\n",
       "3     5.521461     1.0\n",
       "4     6.591674     1.0\n",
       "...        ...     ...\n",
       "3005  5.814130     0.0\n",
       "3006  6.175867     0.0\n",
       "3007  6.214608     0.0\n",
       "3008  6.569481     0.0\n",
       "3009  6.263398     0.0\n",
       "\n",
       "[3010 rows x 2 columns]"
      ]
     },
     "execution_count": 17,
     "metadata": {},
     "output_type": "execute_result"
    }
   ],
   "source": [
    "#Analizamos las variables lwage y nearc2\n",
    "data_lwage = card[['lwage','nearc2']]\n",
    "data_lwage"
   ]
  },
  {
   "cell_type": "code",
   "execution_count": 18,
   "id": "713b6821",
   "metadata": {},
   "outputs": [
    {
     "data": {
      "text/html": [
       "<div>\n",
       "<style scoped>\n",
       "    .dataframe tbody tr th:only-of-type {\n",
       "        vertical-align: middle;\n",
       "    }\n",
       "\n",
       "    .dataframe tbody tr th {\n",
       "        vertical-align: top;\n",
       "    }\n",
       "\n",
       "    .dataframe thead th {\n",
       "        text-align: right;\n",
       "    }\n",
       "</style>\n",
       "<table border=\"1\" class=\"dataframe\">\n",
       "  <thead>\n",
       "    <tr style=\"text-align: right;\">\n",
       "      <th></th>\n",
       "      <th>lwage</th>\n",
       "      <th>nearc2</th>\n",
       "      <th>nearc2_char</th>\n",
       "    </tr>\n",
       "  </thead>\n",
       "  <tbody>\n",
       "    <tr>\n",
       "      <th>0</th>\n",
       "      <td>6.306275</td>\n",
       "      <td>0.0</td>\n",
       "      <td>N_college</td>\n",
       "    </tr>\n",
       "    <tr>\n",
       "      <th>1</th>\n",
       "      <td>6.175867</td>\n",
       "      <td>0.0</td>\n",
       "      <td>N_college</td>\n",
       "    </tr>\n",
       "    <tr>\n",
       "      <th>2</th>\n",
       "      <td>6.580639</td>\n",
       "      <td>0.0</td>\n",
       "      <td>N_college</td>\n",
       "    </tr>\n",
       "    <tr>\n",
       "      <th>3</th>\n",
       "      <td>5.521461</td>\n",
       "      <td>1.0</td>\n",
       "      <td>college</td>\n",
       "    </tr>\n",
       "    <tr>\n",
       "      <th>4</th>\n",
       "      <td>6.591674</td>\n",
       "      <td>1.0</td>\n",
       "      <td>college</td>\n",
       "    </tr>\n",
       "    <tr>\n",
       "      <th>...</th>\n",
       "      <td>...</td>\n",
       "      <td>...</td>\n",
       "      <td>...</td>\n",
       "    </tr>\n",
       "    <tr>\n",
       "      <th>3005</th>\n",
       "      <td>5.814130</td>\n",
       "      <td>0.0</td>\n",
       "      <td>N_college</td>\n",
       "    </tr>\n",
       "    <tr>\n",
       "      <th>3006</th>\n",
       "      <td>6.175867</td>\n",
       "      <td>0.0</td>\n",
       "      <td>N_college</td>\n",
       "    </tr>\n",
       "    <tr>\n",
       "      <th>3007</th>\n",
       "      <td>6.214608</td>\n",
       "      <td>0.0</td>\n",
       "      <td>N_college</td>\n",
       "    </tr>\n",
       "    <tr>\n",
       "      <th>3008</th>\n",
       "      <td>6.569481</td>\n",
       "      <td>0.0</td>\n",
       "      <td>N_college</td>\n",
       "    </tr>\n",
       "    <tr>\n",
       "      <th>3009</th>\n",
       "      <td>6.263398</td>\n",
       "      <td>0.0</td>\n",
       "      <td>N_college</td>\n",
       "    </tr>\n",
       "  </tbody>\n",
       "</table>\n",
       "<p>3010 rows × 3 columns</p>\n",
       "</div>"
      ],
      "text/plain": [
       "         lwage  nearc2 nearc2_char\n",
       "0     6.306275     0.0   N_college\n",
       "1     6.175867     0.0   N_college\n",
       "2     6.580639     0.0   N_college\n",
       "3     5.521461     1.0     college\n",
       "4     6.591674     1.0     college\n",
       "...        ...     ...         ...\n",
       "3005  5.814130     0.0   N_college\n",
       "3006  6.175867     0.0   N_college\n",
       "3007  6.214608     0.0   N_college\n",
       "3008  6.569481     0.0   N_college\n",
       "3009  6.263398     0.0   N_college\n",
       "\n",
       "[3010 rows x 3 columns]"
      ]
     },
     "execution_count": 18,
     "metadata": {},
     "output_type": "execute_result"
    }
   ],
   "source": [
    "## formacion de la variable  nearc2_char para la asignacion de existencia de colegios \n",
    "#\"0.0=N_college\"\n",
    "#\"1.0=college\"\n",
    "\n",
    "data_lwage2 = (data_lwage\n",
    " .assign(nearc2_char = np.select(\n",
    "     [data_lwage[\"nearc2\"].astype(bool), data_lwage[\"lwage\"].astype(bool)],\n",
    "     [\"college\", \"N_college\"]\n",
    " ))) \n",
    "data_lwage2"
   ]
  },
  {
   "cell_type": "code",
   "execution_count": 19,
   "id": "ac81ab4c",
   "metadata": {},
   "outputs": [
    {
     "data": {
      "text/html": [
       "<div>\n",
       "<style scoped>\n",
       "    .dataframe tbody tr th:only-of-type {\n",
       "        vertical-align: middle;\n",
       "    }\n",
       "\n",
       "    .dataframe tbody tr th {\n",
       "        vertical-align: top;\n",
       "    }\n",
       "\n",
       "    .dataframe thead th {\n",
       "        text-align: right;\n",
       "    }\n",
       "</style>\n",
       "<table border=\"1\" class=\"dataframe\">\n",
       "  <thead>\n",
       "    <tr style=\"text-align: right;\">\n",
       "      <th></th>\n",
       "      <th>lwage</th>\n",
       "      <th>nearc2_char</th>\n",
       "    </tr>\n",
       "  </thead>\n",
       "  <tbody>\n",
       "    <tr>\n",
       "      <th>0</th>\n",
       "      <td>6.306275</td>\n",
       "      <td>N_college</td>\n",
       "    </tr>\n",
       "    <tr>\n",
       "      <th>1</th>\n",
       "      <td>6.175867</td>\n",
       "      <td>N_college</td>\n",
       "    </tr>\n",
       "    <tr>\n",
       "      <th>2</th>\n",
       "      <td>6.580639</td>\n",
       "      <td>N_college</td>\n",
       "    </tr>\n",
       "    <tr>\n",
       "      <th>3</th>\n",
       "      <td>5.521461</td>\n",
       "      <td>college</td>\n",
       "    </tr>\n",
       "    <tr>\n",
       "      <th>4</th>\n",
       "      <td>6.591674</td>\n",
       "      <td>college</td>\n",
       "    </tr>\n",
       "    <tr>\n",
       "      <th>...</th>\n",
       "      <td>...</td>\n",
       "      <td>...</td>\n",
       "    </tr>\n",
       "    <tr>\n",
       "      <th>3005</th>\n",
       "      <td>5.814130</td>\n",
       "      <td>N_college</td>\n",
       "    </tr>\n",
       "    <tr>\n",
       "      <th>3006</th>\n",
       "      <td>6.175867</td>\n",
       "      <td>N_college</td>\n",
       "    </tr>\n",
       "    <tr>\n",
       "      <th>3007</th>\n",
       "      <td>6.214608</td>\n",
       "      <td>N_college</td>\n",
       "    </tr>\n",
       "    <tr>\n",
       "      <th>3008</th>\n",
       "      <td>6.569481</td>\n",
       "      <td>N_college</td>\n",
       "    </tr>\n",
       "    <tr>\n",
       "      <th>3009</th>\n",
       "      <td>6.263398</td>\n",
       "      <td>N_college</td>\n",
       "    </tr>\n",
       "  </tbody>\n",
       "</table>\n",
       "<p>3010 rows × 2 columns</p>\n",
       "</div>"
      ],
      "text/plain": [
       "         lwage nearc2_char\n",
       "0     6.306275   N_college\n",
       "1     6.175867   N_college\n",
       "2     6.580639   N_college\n",
       "3     5.521461     college\n",
       "4     6.591674     college\n",
       "...        ...         ...\n",
       "3005  5.814130   N_college\n",
       "3006  6.175867   N_college\n",
       "3007  6.214608   N_college\n",
       "3008  6.569481   N_college\n",
       "3009  6.263398   N_college\n",
       "\n",
       "[3010 rows x 2 columns]"
      ]
     },
     "execution_count": 19,
     "metadata": {},
     "output_type": "execute_result"
    }
   ],
   "source": [
    "#agrupacion entre nearc2_char y lwage\n",
    "data_lwage3 = data_lwage2[['lwage','nearc2_char']]\n",
    "data_lwage3"
   ]
  },
  {
   "cell_type": "markdown",
   "id": "00f09657",
   "metadata": {},
   "source": [
    "<h1> Ploteo de Histogramas <h1>"
   ]
  },
  {
   "cell_type": "markdown",
   "id": "0443067d",
   "metadata": {},
   "source": [
    "* **Grafique dos histogramas para la variable logaritmos de los ingresos lwage para cuando nearc2 == 1, y cuando nearc2 == 0. Compare y describa los patrones que encuentra.**"
   ]
  },
  {
   "cell_type": "markdown",
   "id": "0d912783",
   "metadata": {},
   "source": [
    "**cuando nearc2==0**"
   ]
  },
  {
   "cell_type": "code",
   "execution_count": 20,
   "id": "92aec633",
   "metadata": {},
   "outputs": [
    {
     "data": {
      "text/html": [
       "<div>\n",
       "<style scoped>\n",
       "    .dataframe tbody tr th:only-of-type {\n",
       "        vertical-align: middle;\n",
       "    }\n",
       "\n",
       "    .dataframe tbody tr th {\n",
       "        vertical-align: top;\n",
       "    }\n",
       "\n",
       "    .dataframe thead th {\n",
       "        text-align: right;\n",
       "    }\n",
       "</style>\n",
       "<table border=\"1\" class=\"dataframe\">\n",
       "  <thead>\n",
       "    <tr style=\"text-align: right;\">\n",
       "      <th></th>\n",
       "      <th>lwage</th>\n",
       "      <th>nearc2_char</th>\n",
       "    </tr>\n",
       "  </thead>\n",
       "  <tbody>\n",
       "    <tr>\n",
       "      <th>0</th>\n",
       "      <td>6.306275</td>\n",
       "      <td>N_college</td>\n",
       "    </tr>\n",
       "    <tr>\n",
       "      <th>1</th>\n",
       "      <td>6.175867</td>\n",
       "      <td>N_college</td>\n",
       "    </tr>\n",
       "    <tr>\n",
       "      <th>2</th>\n",
       "      <td>6.580639</td>\n",
       "      <td>N_college</td>\n",
       "    </tr>\n",
       "    <tr>\n",
       "      <th>23</th>\n",
       "      <td>6.403574</td>\n",
       "      <td>N_college</td>\n",
       "    </tr>\n",
       "    <tr>\n",
       "      <th>24</th>\n",
       "      <td>6.541030</td>\n",
       "      <td>N_college</td>\n",
       "    </tr>\n",
       "    <tr>\n",
       "      <th>...</th>\n",
       "      <td>...</td>\n",
       "      <td>...</td>\n",
       "    </tr>\n",
       "    <tr>\n",
       "      <th>3005</th>\n",
       "      <td>5.814130</td>\n",
       "      <td>N_college</td>\n",
       "    </tr>\n",
       "    <tr>\n",
       "      <th>3006</th>\n",
       "      <td>6.175867</td>\n",
       "      <td>N_college</td>\n",
       "    </tr>\n",
       "    <tr>\n",
       "      <th>3007</th>\n",
       "      <td>6.214608</td>\n",
       "      <td>N_college</td>\n",
       "    </tr>\n",
       "    <tr>\n",
       "      <th>3008</th>\n",
       "      <td>6.569481</td>\n",
       "      <td>N_college</td>\n",
       "    </tr>\n",
       "    <tr>\n",
       "      <th>3009</th>\n",
       "      <td>6.263398</td>\n",
       "      <td>N_college</td>\n",
       "    </tr>\n",
       "  </tbody>\n",
       "</table>\n",
       "<p>1683 rows × 2 columns</p>\n",
       "</div>"
      ],
      "text/plain": [
       "         lwage nearc2_char\n",
       "0     6.306275   N_college\n",
       "1     6.175867   N_college\n",
       "2     6.580639   N_college\n",
       "23    6.403574   N_college\n",
       "24    6.541030   N_college\n",
       "...        ...         ...\n",
       "3005  5.814130   N_college\n",
       "3006  6.175867   N_college\n",
       "3007  6.214608   N_college\n",
       "3008  6.569481   N_college\n",
       "3009  6.263398   N_college\n",
       "\n",
       "[1683 rows x 2 columns]"
      ]
     },
     "execution_count": 20,
     "metadata": {},
     "output_type": "execute_result"
    }
   ],
   "source": [
    "Groups = [\"N_college\"]\n",
    "DIM3 = data_lwage3[data_lwage3['nearc2_char'].isin(Groups)]\n",
    "DIM3"
   ]
  },
  {
   "cell_type": "code",
   "execution_count": 22,
   "id": "63a49348",
   "metadata": {},
   "outputs": [
    {
     "data": {
      "text/plain": [
       "<seaborn.axisgrid.FacetGrid at 0x10f81161fd0>"
      ]
     },
     "execution_count": 22,
     "metadata": {},
     "output_type": "execute_result"
    },
    {
     "data": {
      "image/png": "[encoded data removed]",
      "text/plain": [
       "<Figure size 444.375x360 with 1 Axes>"
      ]
     },
     "metadata": {
      "needs_background": "light"
     },
     "output_type": "display_data"
    }
   ],
   "source": [
    "sns.displot(DIM3, x=\"lwage\", hue= \"nearc2_char\")"
   ]
  },
  {
   "cell_type": "markdown",
   "id": "7bcf1f4b",
   "metadata": {},
   "source": [
    "**cuando nearc2==1**"
   ]
  },
  {
   "cell_type": "code",
   "execution_count": 23,
   "id": "24cb49ba",
   "metadata": {},
   "outputs": [
    {
     "data": {
      "text/html": [
       "<div>\n",
       "<style scoped>\n",
       "    .dataframe tbody tr th:only-of-type {\n",
       "        vertical-align: middle;\n",
       "    }\n",
       "\n",
       "    .dataframe tbody tr th {\n",
       "        vertical-align: top;\n",
       "    }\n",
       "\n",
       "    .dataframe thead th {\n",
       "        text-align: right;\n",
       "    }\n",
       "</style>\n",
       "<table border=\"1\" class=\"dataframe\">\n",
       "  <thead>\n",
       "    <tr style=\"text-align: right;\">\n",
       "      <th></th>\n",
       "      <th>lwage</th>\n",
       "      <th>nearc2_char</th>\n",
       "    </tr>\n",
       "  </thead>\n",
       "  <tbody>\n",
       "    <tr>\n",
       "      <th>3</th>\n",
       "      <td>5.521461</td>\n",
       "      <td>college</td>\n",
       "    </tr>\n",
       "    <tr>\n",
       "      <th>4</th>\n",
       "      <td>6.591674</td>\n",
       "      <td>college</td>\n",
       "    </tr>\n",
       "    <tr>\n",
       "      <th>5</th>\n",
       "      <td>6.214608</td>\n",
       "      <td>college</td>\n",
       "    </tr>\n",
       "    <tr>\n",
       "      <th>6</th>\n",
       "      <td>6.336826</td>\n",
       "      <td>college</td>\n",
       "    </tr>\n",
       "    <tr>\n",
       "      <th>7</th>\n",
       "      <td>6.410175</td>\n",
       "      <td>college</td>\n",
       "    </tr>\n",
       "    <tr>\n",
       "      <th>...</th>\n",
       "      <td>...</td>\n",
       "      <td>...</td>\n",
       "    </tr>\n",
       "    <tr>\n",
       "      <th>2899</th>\n",
       "      <td>5.669881</td>\n",
       "      <td>college</td>\n",
       "    </tr>\n",
       "    <tr>\n",
       "      <th>2900</th>\n",
       "      <td>5.521461</td>\n",
       "      <td>college</td>\n",
       "    </tr>\n",
       "    <tr>\n",
       "      <th>2901</th>\n",
       "      <td>6.725034</td>\n",
       "      <td>college</td>\n",
       "    </tr>\n",
       "    <tr>\n",
       "      <th>2902</th>\n",
       "      <td>6.075346</td>\n",
       "      <td>college</td>\n",
       "    </tr>\n",
       "    <tr>\n",
       "      <th>2903</th>\n",
       "      <td>5.808143</td>\n",
       "      <td>college</td>\n",
       "    </tr>\n",
       "  </tbody>\n",
       "</table>\n",
       "<p>1327 rows × 2 columns</p>\n",
       "</div>"
      ],
      "text/plain": [
       "         lwage nearc2_char\n",
       "3     5.521461     college\n",
       "4     6.591674     college\n",
       "5     6.214608     college\n",
       "6     6.336826     college\n",
       "7     6.410175     college\n",
       "...        ...         ...\n",
       "2899  5.669881     college\n",
       "2900  5.521461     college\n",
       "2901  6.725034     college\n",
       "2902  6.075346     college\n",
       "2903  5.808143     college\n",
       "\n",
       "[1327 rows x 2 columns]"
      ]
     },
     "execution_count": 23,
     "metadata": {},
     "output_type": "execute_result"
    }
   ],
   "source": [
    "Groups = [\"college\"]\n",
    "DIM4 = data_lwage3[data_lwage3['nearc2_char'].isin(Groups)]\n",
    "DIM4"
   ]
  },
  {
   "cell_type": "code",
   "execution_count": 24,
   "id": "0730f2a3",
   "metadata": {},
   "outputs": [
    {
     "data": {
      "text/plain": [
       "<seaborn.axisgrid.FacetGrid at 0x10f81051e20>"
      ]
     },
     "execution_count": 24,
     "metadata": {},
     "output_type": "execute_result"
    },
    {
     "data": {
      "image/png": "[encoded data removed]",
      "text/plain": [
       "<Figure size 431.875x360 with 1 Axes>"
      ]
     },
     "metadata": {
      "needs_background": "light"
     },
     "output_type": "display_data"
    }
   ],
   "source": [
    "sns.displot(DIM4, x=\"lwage\", hue= \"nearc2_char\")"
   ]
  },
  {
   "cell_type": "markdown",
   "id": "dcfe1fc9",
   "metadata": {},
   "source": [
    "**Interpretacion**"
   ]
  },
  {
   "cell_type": "markdown",
   "id": "6685578b",
   "metadata": {},
   "source": [
    "* Del mismo modo que para el caso de educación, es esperable que nearc2 haga que el logaritmo de los salarios aumente, pues se puede ver en los histogramas que cuando nearc2 = 1, el logaritmo del salario aumenta más del doble respecto a cuando nearc2 = 0. Sin embargo, cuando el logaritmo del salario es menor o igual a 5.5, la influencia de colegios no es tan fuerte, pues incluso llega a ser mayor el logaritmo del salario cuando nearc2 = 0, en algunos casos."
   ]
  },
  {
   "cell_type": "markdown",
   "id": "b00621c3",
   "metadata": {},
   "source": [
    "<h1> Regresiones <h1>"
   ]
  },
  {
   "cell_type": "markdown",
   "id": "d230c049",
   "metadata": {},
   "source": [
    "* **Corran una regresion lineal del tipo \"lwage ~ educ + exper + black + south + married + smsa\", y expliquen los resultados que encuentran.**"
   ]
  },
  {
   "cell_type": "code",
   "execution_count": 27,
   "id": "080dd018",
   "metadata": {},
   "outputs": [
    {
     "data": {
      "text/html": [
       "<table class=\"simpletable\">\n",
       "<caption>OLS Regression Results</caption>\n",
       "<tr>\n",
       "  <th>Dep. Variable:</th>          <td>lwage</td>      <th>  R-squared:         </th> <td>   0.305</td> \n",
       "</tr>\n",
       "<tr>\n",
       "  <th>Model:</th>                   <td>OLS</td>       <th>  Adj. R-squared:    </th> <td>   0.304</td> \n",
       "</tr>\n",
       "<tr>\n",
       "  <th>Method:</th>             <td>Least Squares</td>  <th>  F-statistic:       </th> <td>   219.2</td> \n",
       "</tr>\n",
       "<tr>\n",
       "  <th>Date:</th>             <td>Fri, 09 Dec 2022</td> <th>  Prob (F-statistic):</th> <td>1.97e-232</td>\n",
       "</tr>\n",
       "<tr>\n",
       "  <th>Time:</th>                 <td>15:29:48</td>     <th>  Log-Likelihood:    </th> <td> -1273.9</td> \n",
       "</tr>\n",
       "<tr>\n",
       "  <th>No. Observations:</th>      <td>  3003</td>      <th>  AIC:               </th> <td>   2562.</td> \n",
       "</tr>\n",
       "<tr>\n",
       "  <th>Df Residuals:</th>          <td>  2996</td>      <th>  BIC:               </th> <td>   2604.</td> \n",
       "</tr>\n",
       "<tr>\n",
       "  <th>Df Model:</th>              <td>     6</td>      <th>                     </th>     <td> </td>    \n",
       "</tr>\n",
       "<tr>\n",
       "  <th>Covariance Type:</th>      <td>nonrobust</td>    <th>                     </th>     <td> </td>    \n",
       "</tr>\n",
       "</table>\n",
       "<table class=\"simpletable\">\n",
       "<tr>\n",
       "      <td></td>         <th>coef</th>     <th>std err</th>      <th>t</th>      <th>P>|t|</th>  <th>[0.025</th>    <th>0.975]</th>  \n",
       "</tr>\n",
       "<tr>\n",
       "  <th>Intercept</th> <td>    5.0633</td> <td>    0.064</td> <td>   79.437</td> <td> 0.000</td> <td>    4.938</td> <td>    5.188</td>\n",
       "</tr>\n",
       "<tr>\n",
       "  <th>educ</th>      <td>    0.0712</td> <td>    0.003</td> <td>   20.438</td> <td> 0.000</td> <td>    0.064</td> <td>    0.078</td>\n",
       "</tr>\n",
       "<tr>\n",
       "  <th>exper</th>     <td>    0.0342</td> <td>    0.002</td> <td>   15.422</td> <td> 0.000</td> <td>    0.030</td> <td>    0.038</td>\n",
       "</tr>\n",
       "<tr>\n",
       "  <th>black</th>     <td>   -0.1660</td> <td>    0.018</td> <td>   -9.426</td> <td> 0.000</td> <td>   -0.201</td> <td>   -0.131</td>\n",
       "</tr>\n",
       "<tr>\n",
       "  <th>south</th>     <td>   -0.1316</td> <td>    0.015</td> <td>   -8.788</td> <td> 0.000</td> <td>   -0.161</td> <td>   -0.102</td>\n",
       "</tr>\n",
       "<tr>\n",
       "  <th>married</th>   <td>   -0.0359</td> <td>    0.003</td> <td>  -10.547</td> <td> 0.000</td> <td>   -0.043</td> <td>   -0.029</td>\n",
       "</tr>\n",
       "<tr>\n",
       "  <th>smsa</th>      <td>    0.1758</td> <td>    0.015</td> <td>   11.372</td> <td> 0.000</td> <td>    0.145</td> <td>    0.206</td>\n",
       "</tr>\n",
       "</table>\n",
       "<table class=\"simpletable\">\n",
       "<tr>\n",
       "  <th>Omnibus:</th>       <td>53.196</td> <th>  Durbin-Watson:     </th> <td>   1.858</td>\n",
       "</tr>\n",
       "<tr>\n",
       "  <th>Prob(Omnibus):</th> <td> 0.000</td> <th>  Jarque-Bera (JB):  </th> <td>  69.430</td>\n",
       "</tr>\n",
       "<tr>\n",
       "  <th>Skew:</th>          <td>-0.231</td> <th>  Prob(JB):          </th> <td>8.38e-16</td>\n",
       "</tr>\n",
       "<tr>\n",
       "  <th>Kurtosis:</th>      <td> 3.584</td> <th>  Cond. No.          </th> <td>    154.</td>\n",
       "</tr>\n",
       "</table><br/><br/>Notes:<br/>[1] Standard Errors assume that the covariance matrix of the errors is correctly specified."
      ],
      "text/plain": [
       "<class 'statsmodels.iolib.summary.Summary'>\n",
       "\"\"\"\n",
       "                            OLS Regression Results                            \n",
       "==============================================================================\n",
       "Dep. Variable:                  lwage   R-squared:                       0.305\n",
       "Model:                            OLS   Adj. R-squared:                  0.304\n",
       "Method:                 Least Squares   F-statistic:                     219.2\n",
       "Date:                Fri, 09 Dec 2022   Prob (F-statistic):          1.97e-232\n",
       "Time:                        15:29:48   Log-Likelihood:                -1273.9\n",
       "No. Observations:                3003   AIC:                             2562.\n",
       "Df Residuals:                    2996   BIC:                             2604.\n",
       "Df Model:                           6                                         \n",
       "Covariance Type:            nonrobust                                         \n",
       "==============================================================================\n",
       "                 coef    std err          t      P>|t|      [0.025      0.975]\n",
       "------------------------------------------------------------------------------\n",
       "Intercept      5.0633      0.064     79.437      0.000       4.938       5.188\n",
       "educ           0.0712      0.003     20.438      0.000       0.064       0.078\n",
       "exper          0.0342      0.002     15.422      0.000       0.030       0.038\n",
       "black         -0.1660      0.018     -9.426      0.000      -0.201      -0.131\n",
       "south         -0.1316      0.015     -8.788      0.000      -0.161      -0.102\n",
       "married       -0.0359      0.003    -10.547      0.000      -0.043      -0.029\n",
       "smsa           0.1758      0.015     11.372      0.000       0.145       0.206\n",
       "==============================================================================\n",
       "Omnibus:                       53.196   Durbin-Watson:                   1.858\n",
       "Prob(Omnibus):                  0.000   Jarque-Bera (JB):               69.430\n",
       "Skew:                          -0.231   Prob(JB):                     8.38e-16\n",
       "Kurtosis:                       3.584   Cond. No.                         154.\n",
       "==============================================================================\n",
       "\n",
       "Notes:\n",
       "[1] Standard Errors assume that the covariance matrix of the errors is correctly specified.\n",
       "\"\"\""
      ]
     },
     "execution_count": 27,
     "metadata": {},
     "output_type": "execute_result"
    }
   ],
   "source": [
    "#OLS\n",
    "ols_reg = sm.OLS.from_formula(\"lwage ~ educ + exper + black + south + married + smsa\", \n",
    "              data = card).fit()\n",
    "\n",
    "ols_reg.summary()"
   ]
  },
  {
   "cell_type": "markdown",
   "id": "06f7a16c",
   "metadata": {},
   "source": [
    "**Interpretacion**"
   ]
  },
  {
   "cell_type": "markdown",
   "id": "096b80da",
   "metadata": {},
   "source": [
    "* La regresión del salario versus las variables de: educación, experiencia, Dummy de afro-decendencia, Dummy de región sur, Dummy de casado y smsa. Muestran que el intercepto de la variable endógena \"Logaritmo del Salario\" es 5.06 unidades logarítmicas. Por otro lado, por cada unidad adicional de cada variable, la variable endógena aumenta menos de 0.2 unidades logarítmicas. Además, si quitamos el logaritmo de la variable endógena se puede observar otro intercepto y otra relación entre las demás variables versus el \"Salario\""
   ]
  },
  {
   "cell_type": "markdown",
   "id": "34913c45",
   "metadata": {},
   "source": [
    "* **Corran una regresion de tipo IV(usando el paquete IV2SLS) donde van a instrumentalizar la variable educ con nearc2. Compare los resultados encontrados usando IV2SLS con la primera regresión. ¿Cambió el coeficiente relacionado a educ , por qué?**"
   ]
  },
  {
   "cell_type": "code",
   "execution_count": 28,
   "id": "5685fd11",
   "metadata": {},
   "outputs": [],
   "source": [
    "# There are null values in the dataset, we will fill them with 0\n",
    "card['married'] = card['married'].fillna(0)"
   ]
  },
  {
   "cell_type": "code",
   "execution_count": 29,
   "id": "1fd68004",
   "metadata": {},
   "outputs": [
    {
     "data": {
      "text/html": [
       "<table class=\"simpletable\">\n",
       "<caption>IV-2SLS Estimation Summary</caption>\n",
       "<tr>\n",
       "  <th>Dep. Variable:</th>          <td>lwage</td>      <th>  R-squared:         </th> <td>-1.3114</td>\n",
       "</tr>\n",
       "<tr>\n",
       "  <th>Estimator:</th>             <td>IV-2SLS</td>     <th>  Adj. R-squared:    </th> <td>-1.3160</td>\n",
       "</tr>\n",
       "<tr>\n",
       "  <th>No. Observations:</th>       <td>3010</td>       <th>  F-statistic:       </th> <td>289.62</td> \n",
       "</tr>\n",
       "<tr>\n",
       "  <th>Date:</th>             <td>Fri, Dec 09 2022</td> <th>  P-value (F-stat)   </th> <td>0.0000</td> \n",
       "</tr>\n",
       "<tr>\n",
       "  <th>Time:</th>                 <td>15:33:00</td>     <th>  Distribution:      </th> <td>chi2(6)</td>\n",
       "</tr>\n",
       "<tr>\n",
       "  <th>Cov. Estimator:</th>        <td>robust</td>      <th>                     </th>    <td></td>    \n",
       "</tr>\n",
       "<tr>\n",
       "  <th></th>                          <td></td>         <th>                     </th>    <td></td>    \n",
       "</tr>\n",
       "</table>\n",
       "<table class=\"simpletable\">\n",
       "<caption>Parameter Estimates</caption>\n",
       "<tr>\n",
       "      <td></td>      <th>Parameter</th> <th>Std. Err.</th> <th>T-stat</th>  <th>P-value</th> <th>Lower CI</th> <th>Upper CI</th>\n",
       "</tr>\n",
       "<tr>\n",
       "  <th>Intercept</th>  <td>0.1276</td>    <td>3.1412</td>   <td>0.0406</td>  <td>0.9676</td>   <td>-6.0290</td>  <td>6.2843</td> \n",
       "</tr>\n",
       "<tr>\n",
       "  <th>black</th>      <td>0.1134</td>    <td>0.1816</td>   <td>0.6244</td>  <td>0.5324</td>   <td>-0.2425</td>  <td>0.4692</td> \n",
       "</tr>\n",
       "<tr>\n",
       "  <th>exper</th>      <td>0.1515</td>    <td>0.0747</td>   <td>2.0274</td>  <td>0.0426</td>   <td>0.0050</td>   <td>0.2980</td> \n",
       "</tr>\n",
       "<tr>\n",
       "  <th>married</th>    <td>-0.0151</td>   <td>0.0147</td>   <td>-1.0258</td> <td>0.3050</td>   <td>-0.0438</td>  <td>0.0137</td> \n",
       "</tr>\n",
       "<tr>\n",
       "  <th>smsa</th>       <td>0.0201</td>    <td>0.1030</td>   <td>0.1949</td>  <td>0.8455</td>   <td>-0.1819</td>  <td>0.2220</td> \n",
       "</tr>\n",
       "<tr>\n",
       "  <th>south</th>      <td>-0.0319</td>   <td>0.0692</td>   <td>-0.4603</td> <td>0.6453</td>   <td>-0.1675</td>  <td>0.1038</td> \n",
       "</tr>\n",
       "<tr>\n",
       "  <th>educ</th>       <td>0.3618</td>    <td>0.1849</td>   <td>1.9562</td>  <td>0.0504</td>   <td>-0.0007</td>  <td>0.7243</td> \n",
       "</tr>\n",
       "</table><br/><br/>Endogenous: educ<br/>Instruments: nearc2<br/>Robust Covariance (Heteroskedastic)<br/>Debiased: False"
      ],
      "text/plain": [
       "<class 'linearmodels.compat.statsmodels.Summary'>\n",
       "\"\"\"\n",
       "                          IV-2SLS Estimation Summary                          \n",
       "==============================================================================\n",
       "Dep. Variable:                  lwage   R-squared:                     -1.3114\n",
       "Estimator:                    IV-2SLS   Adj. R-squared:                -1.3160\n",
       "No. Observations:                3010   F-statistic:                    289.62\n",
       "Date:                Fri, Dec 09 2022   P-value (F-stat)                0.0000\n",
       "Time:                        15:33:00   Distribution:                  chi2(6)\n",
       "Cov. Estimator:                robust                                         \n",
       "                                                                              \n",
       "                             Parameter Estimates                              \n",
       "==============================================================================\n",
       "            Parameter  Std. Err.     T-stat    P-value    Lower CI    Upper CI\n",
       "------------------------------------------------------------------------------\n",
       "Intercept      0.1276     3.1412     0.0406     0.9676     -6.0290      6.2843\n",
       "black          0.1134     0.1816     0.6244     0.5324     -0.2425      0.4692\n",
       "exper          0.1515     0.0747     2.0274     0.0426      0.0050      0.2980\n",
       "married       -0.0151     0.0147    -1.0258     0.3050     -0.0438      0.0137\n",
       "smsa           0.0201     0.1030     0.1949     0.8455     -0.1819      0.2220\n",
       "south         -0.0319     0.0692    -0.4603     0.6453     -0.1675      0.1038\n",
       "educ           0.3618     0.1849     1.9562     0.0504     -0.0007      0.7243\n",
       "==============================================================================\n",
       "\n",
       "Endogenous: educ\n",
       "Instruments: nearc2\n",
       "Robust Covariance (Heteroskedastic)\n",
       "Debiased: False\n",
       "\"\"\""
      ]
     },
     "execution_count": 29,
     "metadata": {},
     "output_type": "execute_result"
    }
   ],
   "source": [
    "#2SLS\n",
    "iv_reg = IV2SLS.from_formula(\"lwage ~  1 + exper + black + south + married + smsa + [educ ~ nearc2]\", card).fit()\n",
    "iv_reg.summary"
   ]
  },
  {
   "cell_type": "markdown",
   "id": "dade15a5",
   "metadata": {},
   "source": [
    "**Interpretacion**"
   ]
  },
  {
   "cell_type": "markdown",
   "id": "2edd9175",
   "metadata": {},
   "source": [
    "* Comparando ambas regresiones podemos ver que el intercepto ha disminuido considerablemente. Por ejemplo, la Dammy black se hace positiva, lo que quiere decir que si black=1 el intercepto sería mayor, es decir mayor salario.\n",
    "* Respecto al coeficiente relacionando con la variable educ pasó de 0.1279 a 0.3618: esto quiere decir que, en la segunda regresión, por un año más de educación las unidades logarítmicas del salario aumentan más.\n",
    "* Sin embargo el P-value no es significativo"
   ]
  },
  {
   "cell_type": "code",
   "execution_count": null,
   "id": "8ff54c10",
   "metadata": {},
   "outputs": [],
   "source": []
  }
 ],
 "metadata": {
  "kernelspec": {
   "display_name": "Python 3 (ipykernel)",
   "language": "python",
   "name": "python3"
  },
  "language_info": {
   "codemirror_mode": {
    "name": "ipython",
    "version": 3
   },
   "file_extension": ".py",
   "mimetype": "text/x-python",
   "name": "python",
   "nbconvert_exporter": "python",
   "pygments_lexer": "ipython3",
   "version": "3.9.12"
  }
 },
 "nbformat": 4,
 "nbformat_minor": 5
}
