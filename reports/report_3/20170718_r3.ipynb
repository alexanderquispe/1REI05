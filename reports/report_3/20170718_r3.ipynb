{
 "cells": [
  {
   "cell_type": "markdown",
   "id": "0bcc6587",
   "metadata": {},
   "source": [
    "PARTE I: REPORTE DE LA LECTURA\n",
    "\n",
    "El siguiente artículo “La Macroeconomía de la cuarentena: Un modelo de dos sectores” nos describe como la pandemia covid provocó la caída del PBI en un 11% en el 2020, la cual fue la más dura en América Latina desde 1989. Sin embargo, la recuperación en el 2021 fue la más vigorosa de la región. En este contexto, el objetivo del artículo es proponer un modelo macroeconómico que procure reproducir los hechos descritos, simulando los efectos macroeconómicos de una cuarentena, debido al covid-19, en una economía de 2 sectores. Estos son, por un lado, el sector 1 que son los hoteles, restaurantes, líneas aéreas, entre otros; los cuales se ven afectados directamente por el cierre de actividades durante la cuarentena. Por otro lado, se encuentra el sector 2 que son la producción de alimentos, y bienes y servicios indispensables; los cuales pudieron seguir operando durante la cuarentena, pero que recibieron el efecto demanda del otro sector. \n",
    "\n",
    "En este sentido, la fortaleza del artículo es que dentro del modelo macroeconómico se presentan los subsistemas del modelo: el corto plazo, el equilibrio estacionario y el tránsito hacia el equilibrio estacionario. En el primer caso, el precio esperado está dado, es decir, es exógeno; donde la producción se determina en la demanda agregada y el nivel de precios en la oferta agregada. En el segundo caso, el nivel de precios esperado es igual al nivel de precios observado y a diferencia del modelo de corto plazo, el producto se determina en la oferta agregada y los precios, en la demanda agregada. En el tercer caso, a diferencia de los dos anteriores subsistemas que eran estáticos, este tercer modelo es dinámico. Por lo que además de conocer los valores de equilibrio de la producción y el nivel de precios en el período de impacto y en el equilibrio final, se estudia la transición de las variables endógenas desde un equilibrio estacionario inicial hacia un equilibrio estacionario final. En conclusión, este último modelo no representa una limitación de la estática comparativa, sino que es dinámicamente estable y converge al equilibrio estacionario sin fluctuaciones.\n",
    "Por otro lado, una debilidad del artículo es que podrían usarse alternativas respecto al modelo macroeconómico estudiado; tal como menciona Mendoza (2018), una alternativa es postular la existencia de agentes con expectativas racionales, por lo que el precio esperado se igualaría al precio de equilibrio, lo que generaría una dinámica diferente en la convergencia al estado estacionario. Además, otra alternativa sería un modelo que analice el efecto de la duración de la cuarentena sobre el producto potencial.\n",
    "\n",
    "La contribución del artículo es presentar un modelo macroeconómico que simula los efectos de la cuarentena en el nivel de producción y el nivel de precios del sector directamente afectado por la cuarentena, el sector 1, y el sector 2 afectado indirectamente por la menor demanda proveniente del primer sector. En este sentido, el autor resalta dos ejercicios; en el primero de ellos trabaja bajo el supuesto de que el producto potencial y el consumo autónomo en el sector 1 son permanentes; es decir, sus nuevos niveles se mantienen en el nuevo equilibrio estacionario. Luego de los descensos en la producción y los precios en ambos sectores durante el primer período, en los siguientes períodos la economía se recupera de manera constante hasta alcanzar un nuevo equilibrio estacionario con el nuevo producto potencial del sector 1 y el mismo producto potencial del sector 2. En el segundo ejercicio,  tal como menciona Mendoza (2018) las caídas del PBI potencial y el consumo autónomo son transitorias; en el sentido de que sus valores se restablecen en al cabo de 4 períodos; la interrupción en el cuarto período conduce a fuerte elevación del PBI en ambos sectores; por lo que en los siguientes períodos el incremento sostenido de los precios esperados conducirá al descenso del PBI en ambos sectores, hasta que tanto precios como producto retornen a su nivel inicial, pre pandemia, de estado estacionario.\n",
    "\n",
    "Finalmente, cabe preguntarse cuáles serían los pasos a seguir respecto a este nuevo modelo macroeconómico que simula los efectos macroeconómicos de una cuarentena. Según Powell (2021) en su artículo llamado “Sobre la macroeconomía de la pandemia COVID-19 y los riesgos que esta dejará a su paso” trata de entender los aspectos macroeconómicos de la crisis y plantea dos preguntas críticas para los próximos dos meses de recuperación económica.  La primera de ellas es respecto a qué tan rápido nos recuperaremos. En este sentido, respecto al caso de América Latina y el Caribe, la capacidad hospitalaria es limitada, por lo que la aparición de nuevos brotes y confinamientos podrían perjudicar el escenario de recuperación del crecimiento del FMI; en caso se aplique el modelo macroeconómico propuesto en nuestro artículo analizado o ya sea cualquier otra alternativa. Por otro lado; la segunda pregunta busca responder cómo será la economía después de la pandemia COVID-19, por lo que se toma en cuenta que existen oportunidades de adoptar nuevas tecnologías que mejoren la productividad. Tal como menciona Powell (2021): “Pero más reasignación significa que más empresas se hunden, y las economías formales de la región tienen una flexibilidad limitada. La reasignación tiene implicación. Aún no sabemos cuán significativo será el efecto de la reasignación.” \n"
   ]
  },
  {
   "cell_type": "code",
   "execution_count": 6,
   "id": "ed8376c0",
   "metadata": {},
   "outputs": [],
   "source": [
    "#Antes de pasar a la parte de códigos en Python, procederemos a instalar las librerías correspondientes\n",
    "\n",
    "import ipywidgets as widgets\n",
    "import matplotlib.pyplot as plt\n",
    "import numpy as np\n",
    "import sympy as sy\n",
    "from sympy import *\n",
    "import pandas as pd\n",
    "from causalgraphicalmodels import CausalGraphicalModel"
   ]
  },
  {
   "cell_type": "markdown",
   "id": "506e18a8",
   "metadata": {},
   "source": [
    "PARTE II: CÓDIGO EN PYTHON\n",
    "\n",
    "1. Explique cuáles son los intrumentos de política monetaria que puede utilizar el Banco Central.\n",
    "\n",
    "Hay tres posibles instrumentos de polítia monetaria: La oferta Monetaria como instrumento de política, el coeficiente legal de encaje como instrumento de política y la tasa de interés como instrumento de política. \n",
    "\n",
    "-Oferta Monetaria:\n",
    "\n",
    "En este caso, se asume que la oferta monetaria es una variable exógena.El primer instrumento de política monetaria que utiliza el Banco Central para aumentar o disminuir la oferta monetaria, es la Operación de Mercado Abierto. El Banco Central hace estas operaciones mediante la compra o venta de activos financieros o bonos a los bancos comerciales. \n",
    "\n",
    "\n",
    "En una política monetaria expansiva, se realiza mediante la compra de bonos del mercado. Con la operación de compra de bonos, el Banco Central inyecta dinero (soles) a la economía. En el balance del Banco Central se registra un incremento de sus activos. Esto origina un incremento de los depósitos de los bancos comerciales en el Banco Central.Esta operación, entonces aumenta la base monetaria y en consecuencia la oferta monetaria. Mientras que en una política monetaria contractiva, se realiza mediante la venta de bonos al mercado (bancos comerciales). Con la operación de venta de bonos, el Banco Central retira dinero (soles) de la economía. En el balance del Banco Central se registra una disminución de los depósitos de los bancos comerciales (disminuye el rubro de reservas legales en el pasivo del Banco Central), con lo cual se reduce base monetaria y por tanto la oferta monetaria.\n",
    "\n",
    "-El coeficiente legal de encaje: \n",
    "\n",
    "En una política monetaria expansiva, el Banco Central puede incrementar la cantidad de dinero que tienen los bancos para realizar préstamos mediante la disminución de la tasa de encaje, esta disminución aumenta el multiplicador del dinero bancario; y, este aumento del dinero bancario implica un aumento de la oferta monetaria. Mientras que en una política monetaria contractiva,  cuando  el Banco Central aumenta el coeficiente de encaje, los bancos comerciales deben tener una mayor proporción de depósitos en forma de reservas, lo que reduce el multiplicador bancario y, por tanto, origina una disminución de la oferta monetaria.\n",
    "\n",
    "-La tasa de interés:\n",
    "\n",
    "En una política monetaria expansiva, el Banco Central reduce la tasa de interés de referencia para aumentar la cantidad de dinero prestada a los bancos comerciales lo que aumenta la base monetaria y con ello la oferta monetaria. Mientras que en una política monetaria contractiva, el Banco Central aumenta la tasa de interés de referencia para disminuir la cantidad de dinero prestada (el crédito) a los bancos comerciales, lo que reduce la base monetaria y con ello la oferta monetaria.\n",
    "\n",
    "2. Derive la oferta real de dinero y explique cada uno de sus componentes.\n",
    "\n",
    "Se supone que la oferta nominal de dinero (𝑀𝑠) es una variable exógena e instrumento de política monetaria. Para expresarla en términos reales o a precios constantes, la oferta nominal de dinero se divide entre en nivel general de precios de la economía, (𝑃). \n",
    "\n",
    "$$ \\frac{M^s}{P} = \\frac{M^so}{P} $$\n",
    "\n",
    "3. Derive la demanda real de dinero. Explique qué papel cumplen los parametros \"k\" y \"j\"\n",
    "\n",
    "Hay varios motivos por lo que las familias y empresas demandan dinero y estos motivos están relacionados directamente con sus funciones. Estos son:\n",
    "\n",
    "Motivo Transacción: Se demanda dinero por su función de medio de intercambio, para realizar transacciones. La magnitud de las transacciones de bienes y servicios está en relación directa con el ingreso o producto de la economía. Por esta razón, la demanda de dinero por el motivo transacción depende directamente del Ingreso (Y).\n",
    "\n",
    "Motivo Precaución: Las familias y empresas se endeudan y deben amortizarlas y pagar sus servicios de intereses en plazos determinados. Por lo tanto, se demanda dinero por el motivo precaución para honrar estos servicios de la deuda. Como los que se endeudan deben tener capacidad de pago y esta capacidad depende de sus ingresos, a nivel macroeconómico la demanda de dinero por el motivo precaución también depende positivamente del ingreso(Y).\n",
    "\n",
    "La demanda de dinero por los motivos transacción y precaución, será:\n",
    "\n",
    "$$ 𝐿1 = 𝑘Y $$\n",
    "\n",
    "Motivo Especulación: El activo financiero dinero compite con el activo financiero no monetario bono en la función de reserva de valor. Se preferirá mantener liquidez en forma de dinero y no en forma de bonos cuando la tasa de interés o rendimiento de mercado de los bonos se reduce y lo contrario si aumenta. Por lo tanto, esta demanda de dinero dependerá negativa o inversamente de la tasa de interés de los bonos.\n",
    "\n",
    "$$ 𝐿2 = −𝑗i $$\n",
    "\n",
    "\n",
    "5. Grafique el equilibrio en el mercado de dinero."
   ]
  },
  {
   "cell_type": "code",
   "execution_count": 2,
   "id": "03f09643",
   "metadata": {},
   "outputs": [],
   "source": [
    "# Parameters\n",
    "\n",
    "r_size = 100\n",
    "\n",
    "k = 0.4\n",
    "j = 0.1                \n",
    "P  = 8 \n",
    "Y = 32\n",
    "\n",
    "r = np.arange(r_size)\n",
    "\n",
    "    # Ecuación\n",
    "\n",
    "def Ms_MD(k, j, P, r, Y):\n",
    "    Ms_MD = P*(k*Y - j*r)\n",
    "    return Ms_MD\n",
    "\n",
    "Ms_MD = Ms_MD(k, j, P, r, Y)"
   ]
  },
  {
   "cell_type": "code",
   "execution_count": 3,
   "id": "696e048d",
   "metadata": {},
   "outputs": [
    {
     "data": {
      "image/png": "[encoded data removed]",
      "text/plain": [
       "<Figure size 720x576 with 1 Axes>"
      ]
     },
     "metadata": {},
     "output_type": "display_data"
    }
   ],
   "source": [
    " # Equilibrio en el mercado de dinero\n",
    "\n",
    "fig, ax1 = plt.subplots(figsize=(10, 8))\n",
    "\n",
    "ax1.set(title=\"Money Market Equilibrium\", xlabel=r'M^s / P', ylabel=r'r')\n",
    "ax1.plot(Ms_MD, label= '$L_0$', color = '#CD5C5C')\n",
    "\n",
    "ax1.axvline(x = 45,  ymin= 0, ymax= 1, color = \"grey\")\n",
    "ax1.axhline(y=66.5, xmin= 0, xmax= 0.46, linestyle = \":\", color = \"black\")\n",
    "ax1.text(0, 70, \"$r_0$\", fontsize = 12, color = 'black')\n",
    "\n",
    "ax1.yaxis.set_major_locator(plt.NullLocator())   \n",
    "ax1.xaxis.set_major_locator(plt.NullLocator())\n",
    "\n",
    "ax1.legend()\n",
    "\n",
    "plt.show()"
   ]
  },
  {
   "cell_type": "code",
   "execution_count": null,
   "id": "614466cf",
   "metadata": {},
   "outputs": [],
   "source": []
  }
 ],
 "metadata": {
  "kernelspec": {
   "display_name": "Python 3 (ipykernel)",
   "language": "python",
   "name": "python3"
  },
  "language_info": {
   "codemirror_mode": {
    "name": "ipython",
    "version": 3
   },
   "file_extension": ".py",
   "mimetype": "text/x-python",
   "name": "python",
   "nbconvert_exporter": "python",
   "pygments_lexer": "ipython3",
   "version": "3.9.12"
  }
 },
 "nbformat": 4,
 "nbformat_minor": 5
}
