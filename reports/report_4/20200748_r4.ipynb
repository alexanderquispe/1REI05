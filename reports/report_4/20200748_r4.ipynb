{
 "cells": [
  {
   "cell_type": "code",
   "execution_count": 1,
   "id": "37b8f9d7",
   "metadata": {},
   "outputs": [],
   "source": [
    "import ipywidgets as widgets\n",
    "import matplotlib.pyplot as plt\n",
    "import numpy as np\n",
    "import sympy as sy\n",
    "from sympy import *\n",
    "import pandas as pd\n",
    "#from causalgraphicalmodels import CausalGraphicalModel"
   ]
  },
  {
   "cell_type": "markdown",
   "id": "f53c7ad6",
   "metadata": {},
   "source": [
    "# Parte 1: Código"
   ]
  },
  {
   "cell_type": "markdown",
   "id": "64a66168",
   "metadata": {},
   "source": [
    "Trabajo conjunto con María Fernanda Carrillo "
   ]
  },
  {
   "cell_type": "markdown",
   "id": "68a810de",
   "metadata": {},
   "source": [
    "## A partir del siguiente sistema de ecuaciones que representan el modelo IS-LM"
   ]
  },
  {
   "cell_type": "markdown",
   "id": "412e7b9a",
   "metadata": {},
   "source": [
    "### Ecuaciones de Ingreso (Ye) y la tasa de interés (re) de equilibrio"
   ]
  },
  {
   "cell_type": "markdown",
   "id": "6443c0ff",
   "metadata": {},
   "source": [
    "La ecuación de la Curva IS es: \n",
    "\n",
    "$$ r = \\frac{1}{h}(C_0 + G_0 + I_0 + X_0) - \\frac{1-(b-m(1-t)}{h}(Y)$$"
   ]
  },
  {
   "cell_type": "markdown",
   "id": "0b5de978",
   "metadata": {},
   "source": [
    "De manera más simplifica sería:\n",
    "\n",
    "$$ r = \\frac{B_0}{h} - \\frac{B_1}{h}(Y)$$"
   ]
  },
  {
   "cell_type": "markdown",
   "id": "8f5392da",
   "metadata": {},
   "source": [
    "La ecuaación de la Curva LM es:\n",
    "\n",
    "$$ r = - \\frac{1}{j}\\frac{M^s_0}{P_0} + \\frac{k}{j}Y $$ "
   ]
  },
  {
   "cell_type": "markdown",
   "id": "a9bbd35c",
   "metadata": {},
   "source": [
    "Al igualar ambas Curvas logramos obtener el nivel de ingresos en equilibrio (Ye) y la tasa de interés de equilibrio (re). Se crea así el modelo IS-LM:\n",
    "\n",
    "$$ r = \\frac{B_0}{h} - \\frac{B_1}{h}(Y)= - \\frac{1}{j}\\frac{M^s_0}{Pj} + \\frac{k}{j}Y $$"
   ]
  },
  {
   "cell_type": "markdown",
   "id": "51cabfb5",
   "metadata": {},
   "source": [
    "- Ingreso de equilibrio: \n",
    "\n",
    "$$ Y^e = \\frac{jB_0}{kh + jB_1} + (\\frac{h}{kh + jB_1})\\frac{Ms_0}{P_0} $$"
   ]
  },
  {
   "cell_type": "markdown",
   "id": "74538598",
   "metadata": {},
   "source": [
    "- Tasa de interés de equilibrio:\n",
    "\n",
    "$$ r^e = \\frac{kB_0}{kh + jB_1} + (\\frac{B_1}{kh + jB_1})\\frac{Ms_0}{P_0} $$"
   ]
  },
  {
   "cell_type": "markdown",
   "id": "5e1322b4",
   "metadata": {},
   "source": [
    "### Grafico del equilibrio simultáneo en los mercados de bienes y de dinero"
   ]
  },
  {
   "cell_type": "markdown",
   "id": "326d5a88",
   "metadata": {},
   "source": [
    "Cambiar colores "
   ]
  },
  {
   "cell_type": "code",
   "execution_count": 2,
   "id": "d8851eaf",
   "metadata": {},
   "outputs": [],
   "source": [
    "#--------------------------------------------------\n",
    "    # Curva IS\n",
    "\n",
    "# Parámetros\n",
    "\n",
    "Y_size = 100 \n",
    "\n",
    "Co = 35\n",
    "Io = 40\n",
    "Go = 50\n",
    "Xo = 2\n",
    "h = 0.8\n",
    "b = 0.5\n",
    "m = 0.4\n",
    "t = 0.8\n",
    "\n",
    "Y = np.arange(Y_size)\n",
    "\n",
    "\n",
    "# Ecuación \n",
    "def r_IS(b, m, t, Co, Io, Go, Xo, h, Y):\n",
    "    r_IS = (Co + Io + Go + Xo)/h - ( ( 1-(b-m)*(1-t) ) / h)*Y  \n",
    "    return r_IS\n",
    "\n",
    "r_is = r_IS(b, m, t, Co, Io, Go, Xo, h, Y)\n",
    "\n",
    "\n",
    "#--------------------------------------------------\n",
    "    # Curva LM \n",
    "\n",
    "# Parámetros\n",
    "\n",
    "Y_size = 100\n",
    "\n",
    "k = 2\n",
    "j = 1                \n",
    "Ms = 200             \n",
    "P  = 20               \n",
    "\n",
    "Y = np.arange(Y_size)\n",
    "\n",
    "# Ecuación\n",
    "\n",
    "def r_LM(k, j, Ms, P, Y):\n",
    "    r_LM = - (1/j)*(Ms/P) + (k/j)*Y\n",
    "    return r_LM\n",
    "\n",
    "r_lm = r_LM( k, j, Ms, P, Y)"
   ]
  },
  {
   "cell_type": "code",
   "execution_count": 67,
   "id": "60315209",
   "metadata": {},
   "outputs": [
    {
     "data": {
      "image/png": "[encoded data removed]",
      "text/plain": [
       "<Figure size 720x576 with 1 Axes>"
      ]
     },
     "metadata": {},
     "output_type": "display_data"
    }
   ],
   "source": [
    "# Gráfico del modelo IS-LM\n",
    "\n",
    "# Dimensiones del gráfico\n",
    "y_max = np.max(r_lm)\n",
    "fig, ax = plt.subplots(figsize=(10, 8))\n",
    "\n",
    "# Curvas a graficar\n",
    "# Curva IS\n",
    "ax.plot(Y, r_is, label = \"IS\", color = \"#8edecb\") #IS\n",
    "# Curva LM\n",
    "ax.plot(Y, r_lm, label=\"LM\", color = \"#de8ea1\")  #LM\n",
    "\n",
    "# Eliminar las cantidades de los ejes\n",
    "ax.yaxis.set_major_locator(plt.NullLocator())   \n",
    "ax.xaxis.set_major_locator(plt.NullLocator())\n",
    "\n",
    "# Texto y figuras agregadas\n",
    "# Graficar la linea horizontal - r\n",
    "plt.axvline(x=52.5,  ymin= 0, ymax= 0.53, linestyle = \":\", color = \"black\")\n",
    "# Grafica la linea vertical - Y\n",
    "plt.axhline(y=94, xmin= 0, xmax= 0.53, linestyle = \":\", color = \"black\")\n",
    "\n",
    "# Plotear los textos \n",
    "plt.text(49,100, '$E_0$', fontsize = 14, color = 'black')\n",
    "plt.text(0,100, '$r_0$', fontsize = 12, color = 'black')\n",
    "plt.text(53,-10, '$Y_0$', fontsize = 12, color = 'black')\n",
    "\n",
    "\n",
    "# Título, ejes y leyenda\n",
    "ax.set(title=\"Equilibrio simultáneo en los mercados de bienes y de dinero\", xlabel= r'Y', ylabel= r'r')\n",
    "ax.legend()\n",
    "\n",
    "plt.show()"
   ]
  },
  {
   "cell_type": "markdown",
   "id": "e463c505",
   "metadata": {},
   "source": [
    "## Estática Comparativa"
   ]
  },
  {
   "cell_type": "markdown",
   "id": "5d07c07a",
   "metadata": {},
   "source": [
    "### Efectos sobre Y y r en una disminución del gasto fiscal    ( ∆Go < 0)"
   ]
  },
  {
   "cell_type": "markdown",
   "id": "f6653036",
   "metadata": {},
   "source": [
    "### Intuición: "
   ]
  },
  {
   "cell_type": "markdown",
   "id": "f2a72e07",
   "metadata": {},
   "source": [
    "#### Mercado de bienes (IS):"
   ]
  },
  {
   "cell_type": "markdown",
   "id": "93ad689e",
   "metadata": {},
   "source": [
    "$$ Go↓ → DA↓ → DA < Y → Y↓ $$"
   ]
  },
  {
   "cell_type": "markdown",
   "id": "a52c247a",
   "metadata": {},
   "source": [
    "#### Mercado de dinero (Lm): "
   ]
  },
  {
   "cell_type": "markdown",
   "id": "acfad217",
   "metadata": {},
   "source": [
    "$$ Y↓ → Md↓ → Md < Ms → r↓ $$"
   ]
  },
  {
   "cell_type": "markdown",
   "id": "d04dafa6",
   "metadata": {},
   "source": [
    "### Matemáticamente: "
   ]
  },
  {
   "cell_type": "code",
   "execution_count": 4,
   "id": "92b06bec",
   "metadata": {},
   "outputs": [],
   "source": [
    "# Beta_0 y beta_1\n",
    "beta_0 = (Co + Io + Go + Xo)\n",
    "beta_1 = ( 1-(b-m)*(1-t) )\n",
    "\n",
    "# Producto de equilibrio y la tasa de interes de equilibrio en el modelo IS-LM\n",
    "r_eq = (j*beta_0)/(k*h + j*beta_1) - ( beta_1 / (k*h + j*beta_1) )*(Ms/P)\n",
    "Y_eq = (k*beta_0)/(k*h + j*beta_1) + ( h / (k*h + j*beta_1) )*(Ms/P)"
   ]
  },
  {
   "cell_type": "code",
   "execution_count": 5,
   "id": "122022fa",
   "metadata": {},
   "outputs": [],
   "source": [
    "# nombrar variables como símbolos\n",
    "Co, Io, Go, Xo, h, r, b, m, t, beta_0, beta_1  = symbols('Co Io Go Xo h r b m t beta_0, beta_1')\n",
    "\n",
    "# nombrar variables como símbolos\n",
    "k, j, Ms, P, Y = symbols('k j Ms P Y')\n",
    "\n",
    "# Beta_0 y beta_1\n",
    "beta_0 = (Co + Io + Go + Xo)\n",
    "beta_1 = ( 1-(b-m)*(1-t) )\n",
    "\n",
    "# Producto de equilibrio y la tasa de interes de equilibrio en el modelo IS-LM\n",
    "r_eq = (k*beta_0)/(k*h + j*beta_1) - ( beta_1 / (k*h + j*beta_1) )*(Ms/P)\n",
    "Y_eq = (j*beta_0)/(k*h + j*beta_1) + ( h / (k*h + j*beta_1) )*(Ms/P)"
   ]
  },
  {
   "cell_type": "code",
   "execution_count": 6,
   "id": "43e6df51",
   "metadata": {},
   "outputs": [
    {
     "name": "stdout",
     "output_type": "stream",
     "text": [
      "El Diferencial del producto con respecto al diferencial del gasto autonomo =  j/(h*k + j*(-(1 - t)*(b - m) + 1))\n"
     ]
    }
   ],
   "source": [
    "df_Y_eq_Go = diff(Y_eq, Go)\n",
    "print(\"El Diferencial del producto con respecto al diferencial del gasto autonomo = \", df_Y_eq_Go)  # este diferencial es positivo"
   ]
  },
  {
   "cell_type": "code",
   "execution_count": 7,
   "id": "a2d58955",
   "metadata": {},
   "outputs": [
    {
     "name": "stdout",
     "output_type": "stream",
     "text": [
      "El Diferencial de la tasa de interes con respecto al diferencial del gasto autonomo =  k/(h*k + j*(-(1 - t)*(b - m) + 1))\n"
     ]
    }
   ],
   "source": [
    "df_r_eq_Go = diff(r_eq, Go)\n",
    "print(\"El Diferencial de la tasa de interes con respecto al diferencial del gasto autonomo = \", df_r_eq_Go)  # este diferencial es positivo"
   ]
  },
  {
   "cell_type": "markdown",
   "id": "1e9de0aa",
   "metadata": {},
   "source": [
    " - Cambios en el ingreso de equilibrio:\n",
    " $$ ∆Y^e = \\frac{j}{hk + jB_1} ∆G_0 $$\n",
    " \n",
    " $$ ∆Y^e = (+)(-) = (-) < 0 $$\n"
   ]
  },
  {
   "cell_type": "markdown",
   "id": "0ce2bbb5",
   "metadata": {},
   "source": [
    "- Cambios en la tasa de interés de equilibrio:\n",
    "\n",
    "$$ ∆r^e = \\frac{k}{h*k + jB_1} ∆G_0 $$\n",
    "\n",
    "$$ ∆r^e = (+)(-) = (-) < 0 $$"
   ]
  },
  {
   "cell_type": "markdown",
   "id": "db8bbd0c",
   "metadata": {},
   "source": [
    "### Gráficos:"
   ]
  },
  {
   "cell_type": "code",
   "execution_count": 69,
   "id": "7fa24e1d",
   "metadata": {},
   "outputs": [],
   "source": [
    "#1--------------------------------------------------\n",
    "    # Curva IS ORIGINAL\n",
    "\n",
    "# Parámetros\n",
    "\n",
    "Y_size = 100 \n",
    "\n",
    "Co = 35\n",
    "Io = 40\n",
    "Go = 84\n",
    "Xo = 2\n",
    "h = 0.8\n",
    "b = 0.5\n",
    "m = 0.4\n",
    "t = 0.8\n",
    "\n",
    "Y = np.arange(Y_size)\n",
    "\n",
    "\n",
    "# Ecuación \n",
    "def r_IS(b, m, t, Co, Io, Go, Xo, h, Y):\n",
    "    r_IS = (Co + Io + Go + Xo - Y * (1-(b-m)*(1-t)))/h\n",
    "    return r_IS\n",
    "\n",
    "r = r_IS(b, m, t, Co, Io, Go, Xo, h, Y)\n",
    "\n",
    "\n",
    "#2--------------------------------------------------\n",
    "    # Curva LM ORIGINAL\n",
    "\n",
    "# Parámetros\n",
    "\n",
    "Y_size = 100\n",
    "\n",
    "k = 2\n",
    "j = 1                \n",
    "Ms = 200             \n",
    "P  = 20               \n",
    "\n",
    "Y = np.arange(Y_size)\n",
    "\n",
    "# Ecuación\n",
    "\n",
    "def i_LM( k, j, Ms, P, Y):\n",
    "    i_LM = (-Ms/P)/j + k/j*Y\n",
    "    return i_LM\n",
    "\n",
    "i = i_LM( k, j, Ms, P, Y)"
   ]
  },
  {
   "cell_type": "code",
   "execution_count": 70,
   "id": "04543c99",
   "metadata": {},
   "outputs": [],
   "source": [
    "#--------------------------------------------------\n",
    "    # NUEVA curva IS: reducción del Gasto Monetario (Go)\n",
    "    \n",
    "# Definir SOLO el parámetro cambiado\n",
    "Go = 54\n",
    "\n",
    "# Generar la ecuación con el nuevo parámetro\n",
    "def r_IS(b, m, t, Co, Io, Go, Xo, h, Y):\n",
    "    r_IS = (Co + Io + Go + Xo - Y * (1-(b-m)*(1-t)))/h\n",
    "    return r_IS\n",
    "\n",
    "r_G = r_IS(b, m, t, Co, Io, Go, Xo, h, Y)"
   ]
  },
  {
   "cell_type": "code",
   "execution_count": 71,
   "id": "77491c2e",
   "metadata": {},
   "outputs": [
    {
     "data": {
      "image/png": "[encoded data removed]",
      "text/plain": [
       "<Figure size 720x576 with 1 Axes>"
      ]
     },
     "metadata": {
      "needs_background": "light"
     },
     "output_type": "display_data"
    }
   ],
   "source": [
    "# Gráfico\n",
    "\n",
    "# Dimensiones del gráfico\n",
    "y_max = np.max(i)\n",
    "fig, ax = plt.subplots(figsize=(10, 8))\n",
    "\n",
    "# Curvas a graficar\n",
    "ax.plot(Y, r, label = \"IS_(G_0)\", color = \"#dea38e\") #IS_orginal\n",
    "ax.plot(Y, r_G, label = \"IS_(G_1)\", color = \"#dea38e\", linestyle = 'dashed') #IS_modificada\n",
    "\n",
    "ax.plot(Y, i, label=\"LM\", color = \"C0\")  #LM_original\n",
    "\n",
    "# Texto y figuras agregadas\n",
    "plt.axvline(x=54,  ymin= 0, ymax= 0.51, linestyle = \":\", color = \"grey\")\n",
    "plt.axhline(y=97, xmin= 0, xmax= 0.54, linestyle = \":\", color = \"grey\")\n",
    "\n",
    "plt.axvline(x=65.5,  ymin= 0, ymax= 0.61, linestyle = \":\", color = \"grey\")\n",
    "plt.axhline(y=121, xmin= 0, xmax= 0.65, linestyle = \":\", color = \"grey\")\n",
    "plt.text(63,124, '$E_0$', fontsize = 14, color = 'black')\n",
    "\n",
    "plt.text(50,106, '$E_1$', fontsize = 14, color = 'black')\n",
    "plt.text(-1,100, '$r_1$', fontsize = 12, color = 'black')\n",
    "plt.text(-1,124, '$r_0$', fontsize = 12, color = 'black')\n",
    "plt.text(61,5, '$Y_0$', fontsize = 12, color = 'black')\n",
    "#plt.text(50,52, '$E_1$', fontsize = 14, color = '#3D59AB')\n",
    "#plt.text(-1,72, '$r_1$', fontsize = 12, color = '#3D59AB')\n",
    "plt.text(48,5, '$Y_1$', fontsize = 12, color = '#3D59AB')\n",
    "\n",
    "plt.text(40, 128, '$∆Go$', fontsize=15, color='grey')\n",
    "plt.text(42, 120, '←', fontsize=15, color='grey')\n",
    "plt.text(59, 17, '←', fontsize=15, color='grey')\n",
    "\n",
    "# Título, ejes y leyenda\n",
    "ax.set(title=\"Disminución del Gasto autónomio - Politica Fiscal Contractiva\", xlabel= r'Y', ylabel= r'r')\n",
    "ax.legend()\n",
    "\n",
    "plt.show()"
   ]
  },
  {
   "cell_type": "markdown",
   "id": "c4e0b825",
   "metadata": {},
   "source": [
    "### Efectos sobre Y y r en una disminución de la masa monetaria (Ms < 0)"
   ]
  },
  {
   "cell_type": "markdown",
   "id": "a1db6d97",
   "metadata": {},
   "source": [
    "### Intuición:"
   ]
  },
  {
   "cell_type": "markdown",
   "id": "7a6d03d6",
   "metadata": {},
   "source": [
    "#### Mercado de Bienes:"
   ]
  },
  {
   "cell_type": "markdown",
   "id": "ea3b0bfa",
   "metadata": {},
   "source": [
    "$$ r↑ → I↓ → DA < Y → Y↓ $$"
   ]
  },
  {
   "cell_type": "markdown",
   "id": "7690ed9a",
   "metadata": {},
   "source": [
    "#### Mercado de Dinero"
   ]
  },
  {
   "cell_type": "markdown",
   "id": "158d01e0",
   "metadata": {},
   "source": [
    "$$ M_s↓ → M^o↓ → M^o < M^d → r↑ $$"
   ]
  },
  {
   "cell_type": "markdown",
   "id": "ca1220dd",
   "metadata": {},
   "source": [
    "### Matemáticamente: Revisar "
   ]
  },
  {
   "cell_type": "code",
   "execution_count": 11,
   "id": "81ad4fb7",
   "metadata": {},
   "outputs": [],
   "source": [
    "# nombrar variables como símbolos\n",
    "Co, Io, Go, Xo, h, r, b, m, t, beta_0, beta_1  = symbols('Co Io Go Xo h r b m t beta_0, beta_1')\n",
    "\n",
    "# nombrar variables como símbolos\n",
    "k, j, Ms, P, Y = symbols('k j Ms P Y')\n",
    "\n",
    "# Beta_0 y beta_1\n",
    "beta_0 = (Co + Io + Go + Xo)\n",
    "beta_1 = ( 1-(b-m)*(1-t) )\n",
    "\n",
    "# Producto de equilibrio y la tasa de interes de equilibrio en el modelo IS-LM\n",
    "r_eq = (k*beta_0)/(k*h + j*beta_1) - ( beta_1 / (k*h + j*beta_1) )*(Ms/P)\n",
    "Y_eq = (j*beta_0)/(k*h + j*beta_1) + ( h / (k*h + j*beta_1) )*(Ms/P)"
   ]
  },
  {
   "cell_type": "code",
   "execution_count": 12,
   "id": "39068251",
   "metadata": {},
   "outputs": [
    {
     "name": "stdout",
     "output_type": "stream",
     "text": [
      "El Diferencial del Producto con respecto al diferencial de la masa monetaria =  h/(P*(h*k + j*(-(1 - t)*(b - m) + 1)))\n"
     ]
    }
   ],
   "source": [
    "df_Y_eq_Ms = diff(Y_eq, Ms)\n",
    "print(\"El Diferencial del Producto con respecto al diferencial de la masa monetaria = \", df_Y_eq_Ms)  # este diferencial es positivo"
   ]
  },
  {
   "cell_type": "code",
   "execution_count": 13,
   "id": "dd908749",
   "metadata": {},
   "outputs": [
    {
     "name": "stdout",
     "output_type": "stream",
     "text": [
      "El Diferencial de la tasa de interes con respecto al diferencial de la masa monetaria =  -(-(1 - t)*(b - m) + 1)/(P*(h*k + j*(-(1 - t)*(b - m) + 1)))\n"
     ]
    }
   ],
   "source": [
    "df_r_eq_Ms = diff(r_eq, Ms)\n",
    "print(\"El Diferencial de la tasa de interes con respecto al diferencial de la masa monetaria = \", df_r_eq_Ms)  # este diferencial es positivo"
   ]
  },
  {
   "cell_type": "markdown",
   "id": "e4982e58",
   "metadata": {},
   "source": [
    "- Cambios en el ingreso de equilibrio:\n",
    "\n",
    "$$ ∆Y^e = \\frac{h}{hk + jB_1} \\frac{1}{P}  ∆M^s_o < 0 $$\n",
    "\n",
    "$$ ∆Y^e = (+)(+)(-) = (-) < 0 $$"
   ]
  },
  {
   "cell_type": "markdown",
   "id": "9570ad05",
   "metadata": {},
   "source": [
    "- Cambios en la tasa de interés de equilibrio:\n",
    "\n",
    "$$ ∆r^e = \\frac{B_1}{hk + jB_1} \\frac{1}{P} ∆M^s_o $$\n",
    "\n",
    "$$ ∆r^e = (-)(+)(+)(-) = (+) > 0 $$"
   ]
  },
  {
   "cell_type": "markdown",
   "id": "61392770",
   "metadata": {},
   "source": [
    "### Gráfico:"
   ]
  },
  {
   "cell_type": "code",
   "execution_count": 73,
   "id": "30dac457",
   "metadata": {},
   "outputs": [],
   "source": [
    "#1--------------------------------------------------\n",
    "    # Curva IS ORIGINAL\n",
    "\n",
    "# Parámetros\n",
    "\n",
    "Y_size = 100 \n",
    "\n",
    "Co = 35\n",
    "Io = 40\n",
    "Go = 50\n",
    "Xo = 2\n",
    "h = 0.8\n",
    "b = 0.5\n",
    "m = 0.4\n",
    "t = 0.8\n",
    "\n",
    "Y = np.arange(Y_size)\n",
    "\n",
    "\n",
    "# Ecuación \n",
    "def r_IS(b, m, t, Co, Io, Go, Xo, h, Y):\n",
    "    r_IS = (Co + Io + Go + Xo - Y * (1-(b-m)*(1-t)))/h\n",
    "    return r_IS\n",
    "\n",
    "r = r_IS(b, m, t, Co, Io, Go, Xo, h, Y)\n",
    "\n",
    "\n",
    "#2--------------------------------------------------\n",
    "    # Curva LM ORIGINAL\n",
    "\n",
    "# Parámetros\n",
    "\n",
    "Y_size = 100\n",
    "\n",
    "k = 2\n",
    "j = 1                \n",
    "Ms = 700             \n",
    "P  = 20               \n",
    "\n",
    "Y = np.arange(Y_size)\n",
    "\n",
    "# Ecuación\n",
    "\n",
    "def i_LM( k, j, Ms, P, Y):\n",
    "    i_LM = (-Ms/P)/j + k/j*Y\n",
    "    return i_LM\n",
    "\n",
    "i = i_LM( k, j, Ms, P, Y)"
   ]
  },
  {
   "cell_type": "code",
   "execution_count": 74,
   "id": "25b21fd4",
   "metadata": {},
   "outputs": [],
   "source": [
    "# Definir SOLO el parámetro cambiado\n",
    "Ms = 200\n",
    "\n",
    "# Generar nueva curva LM con la variacion del Ms\n",
    "def i_LM_Ms( k, j, Ms, P, Y):\n",
    "    i_LM = (-Ms/P)/j + k/j*Y\n",
    "    return i_LM\n",
    "\n",
    "i_Ms = i_LM_Ms( k, j, Ms, P, Y)"
   ]
  },
  {
   "cell_type": "code",
   "execution_count": 75,
   "id": "57015ae7",
   "metadata": {
    "scrolled": false
   },
   "outputs": [
    {
     "data": {
      "image/png": "[encoded data removed]",
      "text/plain": [
       "<Figure size 720x576 with 1 Axes>"
      ]
     },
     "metadata": {
      "needs_background": "light"
     },
     "output_type": "display_data"
    }
   ],
   "source": [
    "# Gráfico\n",
    "\n",
    "# Dimensiones del gráfico\n",
    "y_max = np.max(i)\n",
    "fig, ax = plt.subplots(figsize=(10, 8))\n",
    "\n",
    "# Curvas a graficar\n",
    "ax.plot(Y, r, label = \"IS\", color = \"C1\") #IS_orginal\n",
    "ax.plot(Y, i, label=\"LM_(MS_0)\", color = \"#8edea3\")  #LM_original\n",
    "\n",
    "ax.plot(Y, i_Ms, label=\"LM_(MS_1)\", color = \"#8edea3\", linestyle = 'dashed')  #LM_modificada\n",
    "\n",
    "# Lineas de equilibrio_0 \n",
    "plt.axvline(x=52,  ymin= 0, ymax= 0.58, linestyle = \":\", color = \"grey\")\n",
    "plt.axhline(y=95, xmin= 0, xmax= 0.53, linestyle = \":\", color = \"grey\")\n",
    "\n",
    "# Lineas de equilibrio_1 \n",
    "plt.axvline(x=60,  ymin= 0, ymax= 0.54, linestyle = \":\", color = \"grey\")\n",
    "plt.axhline(y=85, xmin= 0, xmax= 0.6, linestyle = \":\", color = \"grey\")\n",
    "plt.text(59,89, '$E_0$', fontsize = 14, color = 'black')\n",
    "\n",
    "#plt.axhline(y=68, xmin= 0, xmax= 0.52, linestyle = \":\", color = \"grey\")\n",
    "\n",
    "# Textos ploteados\n",
    "plt.text(49,100, '$E_1$', fontsize = 14, color = 'black')\n",
    "plt.text(-1,100, '$r_1$', fontsize = 12, color = 'black')\n",
    "plt.text(53,-40, '$Y_0$', fontsize = 12, color = 'black')\n",
    "#plt.text(50,52, '$E_1$', fontsize = 14, color = '#3D59AB')\n",
    "plt.text(-1,74, '$r_0$', fontsize = 12, color = 'black')\n",
    "plt.text(63,-40, '$Y_1$', fontsize = 12, color = 'black')\n",
    "plt.text(75, 128, '$∆Ms$', fontsize=15, color='grey')\n",
    "plt.text(72, 120, '←', fontsize=15, color='grey')\n",
    "\n",
    "#plt.text(69, 115, '→', fontsize=15, color='grey')\n",
    "#plt.text(69, 52, '←', fontsize=15, color='grey')\n",
    "\n",
    "# Título, ejes y leyenda\n",
    "ax.set(title=\"Disminución de la masa monetaria\", xlabel= r'Y', ylabel= r'r')\n",
    "ax.legend()\n",
    "\n",
    "plt.show()"
   ]
  },
  {
   "cell_type": "markdown",
   "id": "6679b3f8",
   "metadata": {},
   "source": [
    "### Efectos sobre Y y r en un incremento de la tasa de impuestos (t > 0)"
   ]
  },
  {
   "cell_type": "markdown",
   "id": "c93abb39",
   "metadata": {},
   "source": [
    "### Intuición:"
   ]
  },
  {
   "cell_type": "markdown",
   "id": "35ad0e85",
   "metadata": {},
   "source": [
    "#### Mercado de Bienes:"
   ]
  },
  {
   "cell_type": "markdown",
   "id": "b80e0c82",
   "metadata": {},
   "source": [
    "$$ t↑ → DA↓ → DA < Y → Y↓$$"
   ]
  },
  {
   "cell_type": "markdown",
   "id": "dc89e910",
   "metadata": {},
   "source": [
    "#### Mercado de Dinero:"
   ]
  },
  {
   "cell_type": "markdown",
   "id": "df486d48",
   "metadata": {},
   "source": [
    "$$ Y↓ → Md↓ → Md < Ms → r↓ $$"
   ]
  },
  {
   "cell_type": "markdown",
   "id": "35ed3db6",
   "metadata": {},
   "source": [
    "### Matemáticamente: REVISAR!"
   ]
  },
  {
   "cell_type": "code",
   "execution_count": 17,
   "id": "1cd1c13a",
   "metadata": {},
   "outputs": [],
   "source": [
    "# nombrar variables como símbolos\n",
    "Co, Io, Go, Xo, h, r, b, m, t, beta_0, beta_1  = symbols('Co Io Go Xo h r b m t beta_0, beta_1')\n",
    "\n",
    "# nombrar variables como símbolos\n",
    "k, j, Ms, P, Y = symbols('k j Ms P Y')\n",
    "\n",
    "# Beta_0 y beta_1\n",
    "beta_0 = (Co + Io + Go + Xo)\n",
    "beta_1 = ( 1-(b-m)*(1-t) )\n",
    "\n",
    "# Producto de equilibrio y la tasa de interes de equilibrio en el modelo IS-LM\n",
    "r_eq = (k*beta_0)/(k*h + j*beta_1) - ( beta_1 / (k*h + j*beta_1) )*(Ms/P)\n",
    "Y_eq = (j*beta_0)/(k*h + j*beta_1) + ( h / (k*h + j*beta_1) )*(Ms/P)"
   ]
  },
  {
   "cell_type": "code",
   "execution_count": 18,
   "id": "5a9f41e8",
   "metadata": {},
   "outputs": [
    {
     "name": "stdout",
     "output_type": "stream",
     "text": [
      "El Diferencial del producto con respecto al diferencial de la tasa impositiva =  -Ms*h*j*(b - m)/(P*(h*k + j*(-(1 - t)*(b - m) + 1))**2) - j**2*(b - m)*(Co + Go + Io + Xo)/(h*k + j*(-(1 - t)*(b - m) + 1))**2\n"
     ]
    }
   ],
   "source": [
    "df_Y_eq_t = diff(Y_eq, t)\n",
    "print(\"El Diferencial del producto con respecto al diferencial de la tasa impositiva = \", df_Y_eq_t)  # este diferencial es positivo"
   ]
  },
  {
   "cell_type": "code",
   "execution_count": 19,
   "id": "b6110cd7",
   "metadata": {},
   "outputs": [
    {
     "name": "stdout",
     "output_type": "stream",
     "text": [
      "El Diferencial de la tasa de interes con respecto al diferencial a la tasa impositiva=  Ms*j*(b - m)*(-(1 - t)*(b - m) + 1)/(P*(h*k + j*(-(1 - t)*(b - m) + 1))**2) - Ms*(b - m)/(P*(h*k + j*(-(1 - t)*(b - m) + 1))) - j*k*(b - m)*(Co + Go + Io + Xo)/(h*k + j*(-(1 - t)*(b - m) + 1))**2\n"
     ]
    }
   ],
   "source": [
    "df_r_eq_t = diff(r_eq, t)\n",
    "print(\"El Diferencial de la tasa de interes con respecto al diferencial a la tasa impositiva= \", df_r_eq_t)  # este diferencial es positivo"
   ]
  },
  {
   "cell_type": "markdown",
   "id": "ce2dcd3b",
   "metadata": {},
   "source": [
    " - Cambios en el ingreso de equilibrio:\n",
    "\n",
    "$$ \\frac{∆Y^e}{∆t} = (-) $$\n",
    "\n",
    "$$ \\frac{∆Y^e}{(+)} = (-) $$\n",
    "\n",
    "$$ ∆Y^e = (-) < 0 $$\n",
    "\n",
    "$$ ∆Y = \\frac{+}{-} + \\frac{+}{-} = (-) $$"
   ]
  },
  {
   "cell_type": "markdown",
   "id": "ad59d1e8",
   "metadata": {},
   "source": [
    "- Cambios en la tasa de interés de equilibrio:\n",
    "$$ \\frac{∆r^e}{∆t} = (-) $$\n",
    "\n",
    "$$ \\frac{∆r^e}{(+)} = (-) $$\n",
    "\n",
    "$$ ∆r^e = (-) < 0 $$\n",
    "\n",
    "$$ ∆r^e = \\frac{+}{-} + \\frac{+}{-} = (-) $$"
   ]
  },
  {
   "cell_type": "markdown",
   "id": "7040c474",
   "metadata": {},
   "source": [
    "### Gráfico: "
   ]
  },
  {
   "cell_type": "code",
   "execution_count": 77,
   "id": "0d314e22",
   "metadata": {},
   "outputs": [],
   "source": [
    "#1--------------------------------------------------\n",
    "    # Curva IS ORIGINAL\n",
    "\n",
    "# Parámetros\n",
    "\n",
    "Y_size = 100 \n",
    "\n",
    "Co = 35\n",
    "Io = 40\n",
    "Go = 50\n",
    "Xo = 2\n",
    "h = 0.8\n",
    "b = 0.5\n",
    "m = 0.4\n",
    "t = 0.3\n",
    "\n",
    "Y = np.arange(Y_size)\n",
    "\n",
    "\n",
    "# Ecuación \n",
    "def r_IS(b, m, t, Co, Io, Go, Xo, h, Y):\n",
    "    r_IS = (Co + Io + Go + Xo - Y * (1-(b-m)*(1-t)))/h\n",
    "    return r_IS\n",
    "\n",
    "r = r_IS(b, m, t, Co, Io, Go, Xo, h, Y)\n",
    "\n",
    "\n",
    "#2--------------------------------------------------\n",
    "    # Curva LM ORIGINAL\n",
    "\n",
    "# Parámetros\n",
    "\n",
    "Y_size = 100\n",
    "\n",
    "k = 2\n",
    "j = 1                \n",
    "Ms = 200             \n",
    "P  = 20               \n",
    "\n",
    "Y = np.arange(Y_size)\n",
    "\n",
    "# Ecuación\n",
    "\n",
    "def i_LM( k, j, Ms, P, Y):\n",
    "    i_LM = (-Ms/P)/j + k/j*Y\n",
    "    return i_LM\n",
    "\n",
    "i = i_LM( k, j, Ms, P, Y)"
   ]
  },
  {
   "cell_type": "code",
   "execution_count": 78,
   "id": "613b1490",
   "metadata": {},
   "outputs": [],
   "source": [
    "# Nueva curva IS: aumento de la tasa impositiva (t)\n",
    "\n",
    "# Definir SOLO el parámetro cambiado\n",
    "t = 0.9\n",
    "\n",
    "# Generar la ecuación con el nuevo parámetro\n",
    "def r_IS(b, m, t, Co, Io, Go, Xo, h, Y):\n",
    "    r_IS = (Co + Io + Go + Xo - Y * (1-(b-m)*(1-t)))/h\n",
    "    return r_IS\n",
    "\n",
    "r_t = r_IS(b, m, t, Co, Io, Go, Xo, h, Y)"
   ]
  },
  {
   "cell_type": "code",
   "execution_count": 84,
   "id": "115f3f22",
   "metadata": {
    "scrolled": false
   },
   "outputs": [
    {
     "data": {
      "image/png": "[encoded data removed]",
      "text/plain": [
       "<Figure size 720x576 with 1 Axes>"
      ]
     },
     "metadata": {
      "needs_background": "light"
     },
     "output_type": "display_data"
    }
   ],
   "source": [
    "# Gráfico\n",
    "\n",
    "# Dimensiones del gráfico\n",
    "y_max = np.max(i)\n",
    "fig, ax = plt.subplots(figsize=(10, 8))\n",
    "\n",
    "# Curvas a graficar\n",
    "ax.plot(Y, r, label = \"IS_(T_0)\", color = \"C1\") #IS_orginal\n",
    "ax.plot(Y, r_t, label = \"IS_(G_1)\", color = \"C1\", linestyle = 'dashed') #IS_modificada\n",
    "\n",
    "ax.plot(Y, i, label=\"LM\", color = \"#a38ede\")  #LM_original\n",
    "\n",
    "# Texto y figuras agregadas\n",
    "plt.axvline(x=52,  ymin= 0, ymax= 0.52, linestyle = \":\", color = \"grey\")\n",
    "plt.axhline(y=94, xmin= 0, xmax= 0.53, linestyle = \":\", color = \"grey\")\n",
    "\n",
    "plt.axvline(x=53.6,  ymin= 0, ymax= 0.54, linestyle = \":\", color = \"grey\")\n",
    "plt.axhline(y=97, xmin= 0, xmax= 0.53, linestyle = \":\", color = \"grey\")\n",
    "plt.text(63,124, '$E_0$', fontsize = 14, color = 'black')\n",
    "\n",
    "plt.text(50,106, '$E_1$', fontsize = 14, color = 'black')\n",
    "plt.text(-1,100, '$r_1$', fontsize = 12, color = 'black')\n",
    "plt.text(-1,124, '$r_0$', fontsize = 12, color = 'black')\n",
    "plt.text(55,5, '$Y_0$', fontsize = 12, color = 'black')\n",
    "#plt.text(50,52, '$E_1$', fontsize = 14, color = '#3D59AB')\n",
    "#plt.text(-1,72, '$r_1$', fontsize = 12, color = '#3D59AB')\n",
    "plt.text(48,5, '$Y_1$', fontsize = 12, color = '#3D59AB')\n",
    "\n",
    "\n",
    "plt.text(83, 80, '$∆Ms$', fontsize=15, color='grey')\n",
    "plt.text(80, 80, '←', fontsize=15, color='grey')\n",
    "\n",
    "# Título, ejes y leyenda\n",
    "ax.set(title=\"Incremento de la Tasa Impositiva\", xlabel= r'Y', ylabel= r'r')\n",
    "ax.legend()\n",
    "\n",
    "plt.show()"
   ]
  },
  {
   "cell_type": "markdown",
   "id": "0a9952a8",
   "metadata": {},
   "source": [
    "## A partir del modelo IS - LM [puntos extras]: "
   ]
  },
  {
   "cell_type": "markdown",
   "id": "8a2a4925",
   "metadata": {},
   "source": [
    "### Encuentre ecuaciones de Ingreso (Ye) y la tasa de interés (re) de equilibrio"
   ]
  },
  {
   "cell_type": "markdown",
   "id": "5316b6ba",
   "metadata": {},
   "source": [
    "- Nueva Curva IS: \n",
    "\n",
    "Partimos del Ingreso-Costo y se busca llegar al equilibrio ahorro-inversión\n",
    "\n",
    "$$(Y^d-C)+(T-G)=I$$\n",
    "\n",
    "Reemplazamos con el  ahorro privado ($Sp=Y^d-C$) y ahorro del gobierno ($Sg=T-G$)\n",
    "\n",
    "$$S=Sp+Sg$$\n",
    "\n",
    "Ahora igualamos el ahorro total ($S$) a la inversión($I$):\n",
    "\n",
    "$$Sp+Sg=I$$\n",
    "\n",
    "$$S(Y)=I(r)$$\n",
    "\n",
    "\n",
    "$$Sp+Sg=I_0-hr$$\n",
    "\n",
    "$$(Y^d-C_0-bY^d)+(tY-G_0)=I_0-hr$$\n",
    "\n",
    "Sabiendo que Y^d=(1-t)Y\n",
    "\n",
    "$$ [1 - b(1 - t)]Y - (C_0 + G_0) = I_0 - hr $$\n",
    "\n",
    "La curva IS se expresa se expresa de la siguiente manera\n",
    "\n",
    "$$ hr = (C_0 + G_0 + I_0) - [1 - b(1 - t)]Y $$\n",
    "\n",
    "$$ r = \\frac{1}{h}(C_0 + G_0 + I_0) - \\frac{1 - b(1 - t)}{h}Y $$\n"
   ]
  },
  {
   "cell_type": "markdown",
   "id": "c4f4e6e1",
   "metadata": {},
   "source": [
    "- Nueva Curva LM:\n",
    "\n",
    "\n",
    "$$\\frac{M^s_0}{P_0}= kj - j(r+π^e)$$\n",
    "\n",
    "$$kY-\\frac{M^s_0}{P_0}= j(r+π^e)$$\n",
    "\n",
    "$$r=\\frac{kY}{j}\\frac{M^s_0}{jP_0}= r + π^e $$\n",
    "\n",
    "$$ r = - \\frac{1}{j}\\frac{M^s_0}{P_0} + \\frac{k}{j}Y - π^e $$ \n"
   ]
  },
  {
   "cell_type": "markdown",
   "id": "3972c214",
   "metadata": {},
   "source": [
    "- Nueva Curva IS-LM:\n",
    "\n",
    "$$ \\frac{1}{h}(C_0 + G_0 + I_0) - \\frac{1 - b(1 - t)}{h}Y + π^e = -\\frac{1}{j}\\frac{M^s_0}{P_0}+\\frac{k}{j}Y - π^e $$\n",
    "\n",
    "$$ Y^e=\\frac{M^s_0}{P_0}\\frac{h}{hk+j(1-b(1-t))}+\\frac{(C_0+I_0+G_0)j}{hk+j(1-b(1-t))}+\\frac{jhπ^e}{hk+j(1-b(1-t))}$$\n",
    "\n",
    "???\n",
    "\n",
    "falta factorizar aun más para tener un intercepto y pendiente + falta re y Ye"
   ]
  },
  {
   "cell_type": "markdown",
   "id": "cfadfce7",
   "metadata": {},
   "source": [
    "### Grafico del equilibrio simultáneo en los mercados de bienes y de dinero"
   ]
  },
  {
   "cell_type": "markdown",
   "id": "c64b6fac",
   "metadata": {},
   "source": [
    "\n"
   ]
  },
  {
   "cell_type": "markdown",
   "id": "4a038e3b",
   "metadata": {},
   "source": [
    "## Estática Comparativa"
   ]
  },
  {
   "cell_type": "markdown",
   "id": "72fc4bf9",
   "metadata": {},
   "source": [
    "### Efectos sobre Y y r en una disminución de los Precios (Po < 0)"
   ]
  },
  {
   "cell_type": "markdown",
   "id": "25d9f8b8",
   "metadata": {},
   "source": [
    "### Intuición:"
   ]
  },
  {
   "cell_type": "markdown",
   "id": "d8c7c33b",
   "metadata": {},
   "source": [
    "- Mercado de bienes: \n",
    "\n",
    "$$ P_0↓ → M^s↓ → M^s < M^d → r↑ $$"
   ]
  },
  {
   "cell_type": "markdown",
   "id": "67373ecb",
   "metadata": {},
   "source": [
    "- Mercado de dinero: \n",
    "\n",
    "$$ r↑ → I↓  → DA↓ → DA < Y → Y↓ $$"
   ]
  },
  {
   "cell_type": "markdown",
   "id": "686de7cf",
   "metadata": {},
   "source": [
    "### Matemáticamente:"
   ]
  },
  {
   "cell_type": "code",
   "execution_count": null,
   "id": "dd6df267",
   "metadata": {},
   "outputs": [],
   "source": []
  },
  {
   "cell_type": "markdown",
   "id": "b37fcce1",
   "metadata": {},
   "source": [
    "### Gráfico:"
   ]
  },
  {
   "cell_type": "code",
   "execution_count": null,
   "id": "ae2230a7",
   "metadata": {},
   "outputs": [],
   "source": []
  },
  {
   "cell_type": "markdown",
   "id": "37829262",
   "metadata": {},
   "source": [
    "### Efectos sobre Y y r en una disminución de la inflación esperada (π < 0)"
   ]
  },
  {
   "cell_type": "markdown",
   "id": "d7e88d82",
   "metadata": {},
   "source": [
    "### Intuición:"
   ]
  },
  {
   "cell_type": "markdown",
   "id": "9747dd16",
   "metadata": {},
   "source": [
    "### Matemáticamente:"
   ]
  },
  {
   "cell_type": "markdown",
   "id": "b2216741",
   "metadata": {},
   "source": [
    "### Gráfico:"
   ]
  },
  {
   "cell_type": "markdown",
   "id": "5f3ebf4e",
   "metadata": {},
   "source": [
    "# Parte 2: Reporte"
   ]
  },
  {
   "cell_type": "markdown",
   "id": "34b73318",
   "metadata": {},
   "source": [
    "La pregunta de investigación de este artículo es la siguiente: ¿Pueden todavía los viejos métodos y modelos macroeconómicos como el modelo IS-LM explicar los problemas macroeconómicos contemporáneos mediante políticas monetarias no convencionales? En este caso, se aplica esta pregunta sobre las secuelas de la crisis económica del 2008 y las políticas aplicadas por la Reserva Federal de los Estados Unidos para contrarrestarlas: una tasa de interés casi nula ‘el tiempo que sea necesario’ y la intervención (mediante la compra) en el mercado de bonos de largo plazo. Así se buscó que la oferta y la demanda se ajustaran con tipos de intereses más bajos y así reestabilizar la confianza financiera."
   ]
  },
  {
   "cell_type": "markdown",
   "id": "3d2afa72",
   "metadata": {},
   "source": [
    "Una fortaleza de este enfoque es el poder analizar los efectos de políticas fiscales y los choques adversos de oferta. Asimismo, una fortaleza es como logran presentan un modelo más dinámico, es decir, en el cual se puede conocer la trayectoria de las variables endógenas en el cambio entre el equilibrio de corto plazo y el equilibrio final. Aunque igual es un modelo básico, el agregar la variable de tiempo es importante para poder ver su estabilidad y si ocurrirán fluctuaciones. Sin embargo, una debilidad suya es no considerar el factor de la ‘trampa de liquidez’ con mayor profundidad y como esta se relaciona con la capacidad de los bancos de aumentar o reducir el dinero, así como las expectativas de las mismas personas y su rol frente a tasas tan bajas. Por esta razón, sería interesante también darle un enfoque a la política fiscal frente a ciertas limitaciones que puede tener las políticas monetarias frente a la amenaza de la liquidez y/otros factores externos. "
   ]
  },
  {
   "cell_type": "markdown",
   "id": "68ae89dc",
   "metadata": {},
   "source": [
    "La contribución de este artículo es definitivamente su enfoque más keynesiano que nos permite utilizar instrumentos no convencionales como una mayor atención a los mercados de deuda a largo plazo. Asimismo, el uso del modelo IS-LM +BB con un giro en el cuál analiza las políticas del Fed cambiando la variable endógena de oferta de dinero a tasa de interés de corto plazo, así como incluir el elemento de mercado de bonos de largo plazo, en lugar de solo uno a corto plazo, afectando así la demanda agregada. Todo esto en términos mucho más sencillo que si fuera analizado mediante modelos macroeconómicos contemporáneos. Asimismo, considero que este análisis de la política monetaria no convencional y como se utilizó para combatir la postcrisis 2008 nos permite también hablar sobre los límites de las políticas convencionales para evitar un riesgo de estanflación y estimular la actividad económica ante el desempleo, de esta manera cuestionando las políticas monetarias convencionales en base del control de tasa de interés de corto plazo y la intervención el mercado de bonos de corto plazo. "
   ]
  },
  {
   "cell_type": "markdown",
   "id": "bed55283",
   "metadata": {},
   "source": [
    "Sería interesante ver si este modelo keynesiano y el uso de políticas no convencionales también se podría aplicar a la época postpandemia en la cuál la economía fue fuertemente impactada. A pesar de que ahora no estamos frente a una crisis financiera, sino que han sufrido un shock el funcionamiento de las empresas y la estabilidad de los empleos. Aun así, la demanda y oferta han sufrido en gran magnitud. Centrándonos en la región latinoamericana, el Banco de Desarrollo de América Latina señala que podríamos seguir los pasos de la Reserva Federal o del Banco de Inglaterra que ya han comenzado a aplicar política no convencionales, pero para que se puedan aplicar de manera efectiva en toda Latinoamérica se necesitan de ciertas condiciones básicas como: tasas de interés bajas, expectativas de inflación fijas o mercados de renta fija profundos, así como un marco institucional que le de mayor liberta de movimiento a las acciones del banco central (2020). De esta manera, se logra entender que hay otros factores externos que juegan un rol fundamental a la hora de aplicar políticas monetarias no convencionales. "
   ]
  },
  {
   "cell_type": "markdown",
   "id": "63ac5bfd",
   "metadata": {},
   "source": [
    "- BIBLIOGRAFÍA\n",
    "\n",
    "Banco de Desarrollo de América Latina. (2020, 18 mayo). ¿Hay espacio para medidas de política monetaria no convencionales en América Latina? CAF. Recuperado 25 de septiembre de 2022, de https://www.caf.com/es/conocimiento/visiones/2020/05/hay-espacio-medidas-de-politica-monetaria-no-convencionales-en-america-latina//.\n"
   ]
  }
 ],
 "metadata": {
  "kernelspec": {
   "display_name": "Python 3 (ipykernel)",
   "language": "python",
   "name": "python3"
  },
  "language_info": {
   "codemirror_mode": {
    "name": "ipython",
    "version": 3
   },
   "file_extension": ".py",
   "mimetype": "text/x-python",
   "name": "python",
   "nbconvert_exporter": "python",
   "pygments_lexer": "ipython3",
   "version": "3.9.12"
  }
 },
 "nbformat": 4,
 "nbformat_minor": 5
}
