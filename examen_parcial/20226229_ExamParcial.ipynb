{
 "cells": [
  {
   "cell_type": "markdown",
   "id": "bba0b385",
   "metadata": {},
   "source": [
    "## EXAMEN PARCIAL:\n",
    "#### Alumno: Sonia Margarita Lecaros Jimenez / Código: 20226229\n",
    "#### Curso: Fundamentos de Macroeconomia - 1REI05"
   ]
  },
  {
   "cell_type": "markdown",
   "id": "28635020",
   "metadata": {},
   "source": [
    "## TEORIA 1 \n",
    "\n",
    "Defina el Multiplicador Keynesiano y dé un ejemplo de cómo influye este en el modelo Ingreso-Gasto Keynesiano.\n",
    "\n",
    "El multiplicador keynesiano es el efecto que se produce cuando se incrementa una variable (X), y esta produce una fluctuación e incremento en otra variable (Y). Esto hace que la variable X se integre como uno de los componentes en la variable Y.\n",
    "\n",
    "Un ejemplo es aumentar el gasto publico, que provoca la expansión en la demanda agregada, lo que a su vez aumenta la producción, el empleo y la inversión.\n"
   ]
  },
  {
   "cell_type": "markdown",
   "id": "bcdf8772",
   "metadata": {},
   "source": [
    "## TEORIA 2 \n",
    "\n",
    "Grafique y explique cúando sucede un exceso y déficit de demanda en el modelo Ingreso-Gasto. \n",
    "Señale las áreas donde ocurre cada caso. \n",
    "Explique cómo se converge al equilibrio a partir de estos dos escenarios"
   ]
  },
  {
   "cell_type": "markdown",
   "id": "0ac3d2d7",
   "metadata": {},
   "source": [
    "## TEORIA 3\n",
    "\n",
    "¿Cuáles son las herramientas de política fiscal y política monetaria? \n",
    "Dea un ejemplo para cada una de ellas dentro del contexto peruano. \n",
    "Coloque su fuente en caso sea necesario. (Solo necesita 1 para pol. Fiscal y 1 para Monetaria).\n",
    "\n",
    "Dentro de la política monetaria se encuentra uso de un nivel de referencia para la tasa de interés del mercado interbancario, este es usado por el BCR que evalua las condiciones de la economía (presiones inflacionarias o deflacionarias), y según esto modifica la tasa de interés de referencia (hacia arriba o hacia abajo, respectivamente) de manera preventiva para mantener la inflación en el rango meta. (BCR, Estabilidad Monetaria: Diseño e Implementación de la Política Monetaria).\n",
    "Dentro de la política fiscal a raiz del covid en el Perú se adopto la política fiscal de emisión de bonos y para las empresas se realizo la provision de garantías de crédito, prestamos al sector privado, etc.\n"
   ]
  },
  {
   "cell_type": "markdown",
   "id": "4c367887",
   "metadata": {},
   "source": [
    "## TEORIA 4\n",
    "\n",
    "Explique qué funciones del dinero respaldan el éxito de de Yape y Plin\n",
    "(Aplicativos moviles para intercambio de dinero).\n",
    "\n",
    "Función transacción donde se demanda dinero para realizar transacciones, por medio de esta se compran venden bienes y servicios.\n",
    "Funcion Precaución, aquí las personas usan el aplicativo para pagar deudas, servicios, esta capacidad de pago esta relacionada a los ingresos de las personas.\n",
    "\n"
   ]
  },
  {
   "cell_type": "markdown",
   "id": "38f15e7f",
   "metadata": {},
   "source": [
    "## TEORIA 5\n",
    "\n",
    "Cuáles son las conclusiones principales del paper de Dancurt \n",
    "\"Inflation Targeting in Peru: The Reasons for the Success\"\n",
    "\n",
    "Las conclusiones principales de la lectura es que el BCR tomo grandes decisiones en los anos 2002 a 2013, implementando el esquema de metas de inflación y la acumulación de grandes reservas de divisas, esto permitió al BCR mantener la estabilidad macroeconómica .\n",
    "Asimismo, plantea que lecciones no se deben olvidar, esto es la reducción de la tasa de interés y venta de divisas en respuesta a contextos externos adversos y como segunda lección incrementar la tasa de interés y comprar moneda extranjera en respuesta a contexto externo favorable.\n",
    "Adicionalmente, para prevenir la crisis financiera, el BCR debe limitar los prestamos externos de los bancos comerciales, sin esto la desdolarización del crédito bancario no es posible.   \n"
   ]
  },
  {
   "cell_type": "code",
   "execution_count": 2,
   "id": "2430a512",
   "metadata": {},
   "outputs": [],
   "source": [
    "import ipywidgets as widgets\n",
    "import matplotlib.pyplot as plt\n",
    "import numpy as np\n",
    "import sympy as sy\n",
    "from sympy import *\n",
    "import pandas as pd\n",
    "#from causalgraphicalmodels import CausalGraphicalModel"
   ]
  },
  {
   "cell_type": "markdown",
   "id": "d87da549",
   "metadata": {},
   "source": [
    "## Ejercicio No1: El modelo de ingreso-gasto en una economia abierta"
   ]
  },
  {
   "cell_type": "markdown",
   "id": "c8741cf4",
   "metadata": {},
   "source": [
    "* El modelo de Ingreso-Gasto Agregado en una economia abierta con libre movilidad de capitales esta conformado por las siguientes ecuaciones\n",
    " \n",
    "Funcion de Consumo: (1)\n",
    " $$ C = C_O +  bY^d $$\n",
    " \n",
    "Funcion de Inversion: (2)\n",
    " $$ I = I_O +  hr $$\n",
    " \n",
    "Gasto del gobierno: (3)\n",
    " $$ G = G_O $$\n",
    "\n",
    "Funcion Exportaciones: (4) \n",
    " $$ X = x_1Y^* +x_2e $$\n",
    "\n",
    "Funcion Importaciones (5)\n",
    "$$ M = m_1Y^d +m_2e $$\n",
    "\n",
    "Funcion Tributacion (6)\n",
    "$$ T = tY $$\n",
    "\n",
    "Ingreso Disponible (7)\n",
    "$$ Y^d = Y - T $$\n",
    "\n",
    "Demanda Agreagada (8)\n",
    "$$ DA = C + I + G + (X - M)$$\n",
    "\n",
    "Equilibrio Ingreso Gasto (9)\n",
    "$$ Y = DA $$\n",
    "\n",
    "Tipo de cambio\n",
    "El valor del tipo de cambio real en el corto plazo depende de su valor de largo plazo y del diferencial de tasas reales domestica y externa. Esto es así porque el ajuste de los precios se supone que es lento\n",
    "\n",
    "$$ e = e_0 - p(r-r^*) $$ (10)\n",
    "\n",
    "Las exportaciones dependen directamente de la demanda del resto del mundo $Y^*$. De otro lado, mientras las exportaciones responden postivamente a las variaciones del tipo de cambio, las importaciones hacen el sentido contrario"
   ]
  },
  {
   "cell_type": "markdown",
   "id": "84b34bea",
   "metadata": {},
   "source": [
    "## Ejercicio No1: Encuentre  el ingreso de Equilibrio $Y_e$ e indentifique el multiplicador keynesiano"
   ]
  },
  {
   "cell_type": "markdown",
   "id": "5b3be06f",
   "metadata": {},
   "source": [
    "* Para hallar la funcion del equilibrio (10), se requiere colocar $DA =f(Y)$\n",
    "* Remplazando (1) en (10)\n",
    "$$ DA = C_O +  bY^d + I + G + (X - M) ... (11)$$\n",
    "* Remplazando (2) en (11)\n",
    "$$ DA = C_O +  bY^d + I_O +  hr + G + (X - M) ... (12)$$\n",
    "* Remplazando (3) en (12)\n",
    "$$ DA = C_O +  bY^d + I_O +  hr + G_O + (X - M) ... (13)$$\n",
    "* Remplazando (4) en (13)\n",
    "$$ DA = C_O +  bY^d + I_O +  hr + G_O + (x_1Y^* +x_2e - M) ... (14)$$\n",
    "* Remplazando (5) en (14)\n",
    "$$ DA = C_O +  bY^d + I_O +  hr + G_O + (x_1Y^* +x_2e - (m_1Y^d +m_2e)) ... (15)$$\n",
    "* Remplazando (7) en (15)\n",
    "$$ DA = C_O +  b(Y - T) + I_O +  hr + G_O + (x_1Y^* +x_2e - (m_1(Y - T) +m_2e)) ... (16)$$\n",
    "* Remplazando (6) en (16)\n",
    "$$ DA = C_O +  b(Y - tY) + I_O +  hr + G_O + (x_1Y^* +x_2e - (m_1(Y - tY) +m_2e)) $$\n",
    "* Ecuacion (4)  \n",
    "$$ Y^* = \\frac{X - x_2e}{x_1} ...(17) $$ \n",
    "* DA =f(Y)\n",
    "$$ DA = C_O +  Yb(1 - t) + I_O +  hr + G_O + x_1Y^* +x_2e - Ym_1(1 - t) - m_2e$$\n",
    "\n",
    "$$ DA = C_O  + I_O +  hr + G_O + x_1Y^* +x_2e - m_2e - Ym_1(1 - t) +  Yb(1 - t) ... (18)$$ \n",
    "* Remplazando (17) en (18)\n",
    "$$ DA = C_O  + I_O +  hr + G_O + x_1\\frac{X - x_2e}{x_1} +x_2e - m_2e - Y(m_1(1 - t) +  b(1 - t))$$ \n",
    "\n",
    "$$ DA = C_O  + I_O +  hr + G_O + X - x_2e + x_2e - m_2e - Y((1 - t) (b + m_1 )) $$ \n",
    "\n",
    "$$ DA = C_O  + I_O + + G_O + X + hr - m_2e - Y((1 - t)(b + m_1 ))$$ \n",
    "\n",
    "* Donde:$DA =f(Y)$ es una ecuacion lineal $DA =b + Ym ...(21)$ \n",
    "\n",
    "la intercetion $ b = C_O  + I_O + + G_O + X + hr - m_2e  ... (22)$ \n",
    "la pendiente negativa  $ m = - ((1 - t) (b + m_1 )) ...(23) $\n",
    "\n",
    "* Hallando el ingreso de equilibrio $Y_e$ donde $Y_e = DA = Y$\n",
    "$$Y_e =b + Y_em$$\n",
    "$$Y_e(1-m) =b $$\n",
    "$$Y_e =\\frac{b}{1-m} ...(24) $$\n",
    "\n",
    "* Remplazando (22) ,(23) en (24)\n",
    "$$Y_e =\\frac{C_O  + I_O + + G_O + X + hr - m_2e}{1 + ((1 - t) (b + m_1 )) } $$\n"
   ]
  },
  {
   "cell_type": "markdown",
   "id": "4c4b7246",
   "metadata": {},
   "source": [
    "## Ejercicio: Analice los efectos sobre la variable endógena  de una disminución del gasto fiscal $G_0$. El análisis debe ser intuitivo, matemático y gráfico"
   ]
  },
  {
   "cell_type": "code",
   "execution_count": 6,
   "id": "bb7f2fe2",
   "metadata": {},
   "outputs": [],
   "source": [
    "#--------------------------------------------------\n",
    "# Curva de ingreso de equilibrio ORIGINAL\n",
    "\n",
    "# Parámetros\n",
    "Y_size = 100 \n",
    "\n",
    "Co = 25\n",
    "Io = 30\n",
    "Go = 60\n",
    "Xo = 2\n",
    "h = 0.7\n",
    "b = 0.8\n",
    "m2 = 0.2\n",
    "m1 = 0.3\n",
    "t = 0.3 #tasa de tributación\n",
    "r = 0.9\n",
    "e = 0.2\n",
    "\n",
    "Y = np.arange(Y_size)\n",
    "\n",
    "    # Ecuación \n",
    "def DA_K(Co, Io, Go, Xo, h, r, b, m2, m1, e, t, Y):\n",
    "    DA_K = (Co + Io + Go + Xo + h*r - m2*e) - ((b + m1)*(1 - t)*Y)\n",
    "    return DA_K\n",
    "\n",
    "DA = DA_K(Co, Io, Go, Xo, h, r, b, m2, m1, e, t, Y)\n",
    "\n",
    "#--------------------------------------------------\n",
    "# NUEVA curva de ingreso de equilibrio\n",
    "Go = 40\n",
    "DA_G0 = DA_K(Co, Io, Go, Xo, h, r, b, m2, m1, e, t, Y)"
   ]
  },
  {
   "cell_type": "code",
   "execution_count": 11,
   "id": "c9ecc20d",
   "metadata": {},
   "outputs": [
    {
     "data": {
      "image/png": "[encoded data removed]",
      "text/plain": [
       "<Figure size 720x576 with 1 Axes>"
      ]
     },
     "metadata": {
      "needs_background": "light"
     },
     "output_type": "display_data"
    }
   ],
   "source": [
    "# Graph\n",
    "\n",
    "# Dimensions\n",
    "y_max = np.max(DA)\n",
    "fig, ax = plt.subplots(figsize=(10, 8))\n",
    "\n",
    "# Curves to plot\n",
    "ax.plot(Y, DA, label = \"Go = 60\", color = \"black\") \n",
    "ax.plot(Y, DA_G0, label = \"Go = 40\", color = \"blue\", linestyle = 'dashed') \n",
    "\n",
    "# Text added\n",
    "plt.text(47, 70, '∆Go', fontsize=12, color='black')\n",
    "plt.text(49, 65, '↓', fontsize=15, color='grey')\n",
    "\n",
    "# Title and legend\n",
    "ax.set(title = \"Disminucion del gasto fiscal $(G_0)$\", xlabel= 'Y', ylabel= 'DA')\n",
    "ax.legend()\n",
    "\n",
    "plt.show()"
   ]
  },
  {
   "cell_type": "markdown",
   "id": "600fe7f4",
   "metadata": {},
   "source": [
    "## Ejercicio: Analice los efectos sobre la variable endógena  de un incremento del PBI mundial $ ∆Y^* > 0$).  El análisis debe ser intuitivo, matemático y gráfico."
   ]
  },
  {
   "cell_type": "markdown",
   "id": "78ef5616",
   "metadata": {},
   "source": [
    "$$ DA = C_O  + I_O +  hr + G_O + x_1Y^* +x_2e - m_2e - Ym_1(1 - t) +  Yb(1 - t) ... (18)$$ \n",
    "* DA Usando $Y^*$\n",
    "$$ DA = C_O  + I_O  + G_O +  hr + x_1Y^* +x_2e - m_2e - Y((1 - t)(m1 + b))$$ \n",
    "$$ DA = C_O  + I_O  + G_O +  hr + x_1Y^* +e(x_2 - m_2) - Y((1 - t)(m1 + b))$$ \n",
    "\n",
    "la intercetion $ b = C_O  + I_O  + G_O +  hr + x_1Y^* +e(x_2 - m_2)  ... (22)$ \n",
    "la pendiente negativa  $ m = - ((1 - t) (b + m_1 )) ...(23) $"
   ]
  },
  {
   "cell_type": "code",
   "execution_count": 25,
   "id": "a702d82c",
   "metadata": {},
   "outputs": [
    {
     "data": {
      "text/plain": [
       "array([139.07, 138.3 , 137.53, 136.76, 135.99, 135.22, 134.45, 133.68,\n",
       "       132.91, 132.14, 131.37, 130.6 , 129.83, 129.06, 128.29, 127.52,\n",
       "       126.75, 125.98, 125.21, 124.44, 123.67, 122.9 , 122.13, 121.36,\n",
       "       120.59, 119.82, 119.05, 118.28, 117.51, 116.74, 115.97, 115.2 ,\n",
       "       114.43, 113.66, 112.89, 112.12, 111.35, 110.58, 109.81, 109.04,\n",
       "       108.27, 107.5 , 106.73, 105.96, 105.19, 104.42, 103.65, 102.88,\n",
       "       102.11, 101.34, 100.57,  99.8 ,  99.03,  98.26,  97.49,  96.72,\n",
       "        95.95,  95.18,  94.41,  93.64,  92.87,  92.1 ,  91.33,  90.56,\n",
       "        89.79,  89.02,  88.25,  87.48,  86.71,  85.94,  85.17,  84.4 ,\n",
       "        83.63,  82.86,  82.09,  81.32,  80.55,  79.78,  79.01,  78.24,\n",
       "        77.47,  76.7 ,  75.93,  75.16,  74.39,  73.62,  72.85,  72.08,\n",
       "        71.31,  70.54,  69.77,  69.  ,  68.23,  67.46,  66.69,  65.92,\n",
       "        65.15,  64.38,  63.61,  62.84])"
      ]
     },
     "execution_count": 25,
     "metadata": {},
     "output_type": "execute_result"
    }
   ],
   "source": [
    "#--------------------------------------------------\n",
    "# Curva de ingreso de equilibrio ORIGINAL\n",
    "\n",
    "# Parámetros\n",
    "Y_size = 100 \n",
    "\n",
    "Co = 25\n",
    "Io = 30\n",
    "Go = 60\n",
    "x1 = 2\n",
    "x2 = 3\n",
    "Yx = 3\n",
    "h = 0.7\n",
    "b = 0.8\n",
    "m2 = 0.2\n",
    "m1 = 0.3\n",
    "t = 0.3 #tasa de tributación\n",
    "r = 0.9\n",
    "e = 0.2\n",
    "\n",
    "Y = np.arange(Y_size)\n",
    "\n",
    "    # Ecuación \n",
    "def DA_Y(Co, Io, Go, x1, x2,Yx, h, r, b, m2, m1, e, t, Y):\n",
    "    DA_Y= (Co + Io + Go + h*r + x1*Yx  - e*(x2-m2)) - ((b + m1)*(1 - t)*Y)\n",
    "    return DA_Y\n",
    "\n",
    "DA_Y1 = DA_Y(Co, Io, Go, x1, x2,Yx, h, r, b, m2, m1, e, t, Y)\n",
    "\n",
    "#--------------------------------------------------\n",
    "# NUEVA curva de ingreso de equilibrio\n",
    "Yx = 12\n",
    "DA_Y2= DA_Y(Co, Io, Go, x1, x2,Yx, h, r, b, m2, m1, e, t, Y)"
   ]
  },
  {
   "cell_type": "code",
   "execution_count": 28,
   "id": "5b15b4be",
   "metadata": {},
   "outputs": [
    {
     "data": {
      "image/png": "[encoded data removed]",
      "text/plain": [
       "<Figure size 720x576 with 1 Axes>"
      ]
     },
     "metadata": {
      "needs_background": "light"
     },
     "output_type": "display_data"
    }
   ],
   "source": [
    "# Graph\n",
    "\n",
    "# Dimensions\n",
    "y_max = np.max(DA_Y1)\n",
    "fig, ax = plt.subplots(figsize=(10, 8))\n",
    "\n",
    "# Curves to plot\n",
    "ax.plot(Y, DA_Y1, label = \"Y* = 3\", color = \"black\") \n",
    "ax.plot(Y, DA_Y2, label = \"Y* = 12\", color = \"blue\", linestyle = 'dashed') \n",
    "\n",
    "# Text added\n",
    "plt.text(47, 95, '∆Y*', fontsize=12, color='black')\n",
    "plt.text(49,90, '↓', fontsize=15, color='grey')\n",
    "\n",
    "# Title and legend\n",
    "ax.set(title = \"Incremento del PBI Mundial\", xlabel= 'Y', ylabel= 'DA')\n",
    "ax.legend()\n",
    "\n",
    "plt.show()"
   ]
  },
  {
   "cell_type": "markdown",
   "id": "5e9ab8f5",
   "metadata": {},
   "source": [
    "# Modelo de OA-DA y el nuevo esquema institucional de Política Monetaria, donde la tasa de interés de referencia  es usada como instrumento."
   ]
  },
  {
   "cell_type": "markdown",
   "id": "d43af6dd",
   "metadata": {},
   "source": [
    "* Demanda agregada\n",
    "$$ IS: (1-b)(1-t)Y= C_O + I_O +G_O - hr_0$$\n",
    "\n",
    "$$ LM: M_O^S - P = kY - jr_0 $$\n",
    "\n",
    "* Oferta Agregada\n",
    "\n",
    "$$ P = P^e - θ(Y - Y^-) $$\n",
    "\n",
    "* De la Curva IS $r_0 = f(Y)$\n",
    "$$ IS: r_0 = \\frac{C_O + I_O +G_O}{h} - \\frac{(1-b)(1-t)}{h} Y $$\n",
    "\n",
    "$$ r_0 = \\frac{B_0}{h} - \\frac{B_1}{h}Y ...(31) $$ \n",
    "\n",
    "* Donde \n",
    "$$B_0 =\\frac{C_O + I_O +G_O}{h}$$ \n",
    "$$B_1 = \\frac{(1-b)(1-t)}{h}$$\n",
    " \n",
    "* De la Curva LM $r_0 = f(Y)$\n",
    "\n",
    "$$ LM: jr_0 = kY - M_O^S + P  $$\n",
    "\n",
    "$$ LM: r_0 = \\frac{P - M_O^S}{j} +  \\frac{k}{j}Y  $$\n",
    "\n",
    "$$ LM: r_0 = \\frac{1}{j}\\frac{P - M_O^S}{1} +  \\frac{k}{j}Y  ...(32)  $$\n",
    "\n",
    "* Igualando (31) y (32) para hallar $Y^e$\n",
    "\n",
    "$$  \\frac{B_0}{h} - \\frac{B_1}{h}Y^e= \\frac{P - M_O^S}{j} +  \\frac{k}{j}Y^e $$ \n",
    "\n",
    "$$ Y^e\\frac{kh + B_1j }{jh} = \\frac{B_0}{h} - \\frac{P - M_O^S}{j}$$ \n",
    "\n",
    "$$ Y^e\\frac{kh + B_1j }{jh} = \\frac{B_0j - Ph + M_O^Sh}{jh}$$\n",
    "\n",
    "$$ Y^e(kh + B_1j)= B_0j - Ph + M_O^Sh$$\n",
    "\n",
    "$$ Y^e= \\frac{B_0j - Ph + M_O^Sh}{kh + B_1j}$$\n"
   ]
  }
 ],
 "metadata": {
  "kernelspec": {
   "display_name": "Python 3 (ipykernel)",
   "language": "python",
   "name": "python3"
  },
  "language_info": {
   "codemirror_mode": {
    "name": "ipython",
    "version": 3
   },
   "file_extension": ".py",
   "mimetype": "text/x-python",
   "name": "python",
   "nbconvert_exporter": "python",
   "pygments_lexer": "ipython3",
   "version": "3.9.12"
  }
 },
 "nbformat": 4,
 "nbformat_minor": 5
}
