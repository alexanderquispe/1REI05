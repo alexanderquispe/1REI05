{
 "cells": [
  {
   "cell_type": "markdown",
   "id": "cdaea5e9",
   "metadata": {},
   "source": [
    "# Reporte 9\n",
    "##### Curso: Fundamentos de Macroeconomía (0651)\n",
    "##### Nombre: Sebastián Daniel Gómez Farje\n",
    "##### Código: 20200901\n",
    "##### Fecha: 20/11/2022"
   ]
  },
  {
   "cell_type": "markdown",
   "id": "8f666b82",
   "metadata": {},
   "source": [
    "## Reporte de Lectura"
   ]
  },
  {
   "cell_type": "markdown",
   "id": "30170f16",
   "metadata": {},
   "source": [
    "En su artículo ‘Social Media and Mental Health’, Braghieri, Levy y Makarin buscan aportar una posible respuesta a la problemática del incremento de estudiantes que padecen de enfermedades mentales. Los autores parten de la correlación que existe entre la aparición de redes sociales y un incremento en estudiantes con condiciones de depresión, ansiedad, desorden de bipolaridad, esquizofrenia, entre otros. De este modo, el artículo se centra en el caso estadounidense y recoge información acerca de alumnos en campuses, separando un periodo antes y uno después de la aparición de la red social Facebook.\n",
    "\n",
    "La pregunta de investigación que los autores indirectamente presentan para su artículo es la siguiente: ¿La aparición de las redes sociales afecta en la salud mental de jóvenes estudiantes en E.E.U.U.? Para ello, los autores comienzan con proveer los antecedentes, es decir, explican la red social Facebook y su desarrollo inicial. Luego, se explica las bases de datos utilizadas para el estudio. La primera contiene las fechas exactas de la introducción de Facebook en 775 colegios estadounidenses (los ‘cut off’s de ‘Running Variable’). La segunda base de datos explicada es una que fue construida en base a 17 encuestas consecutivas de la National College Health Assesment (NCHA). Posteriormente, se delimita la estrategia empírica para abordar la data y comparar resultados para así finalizar el estudio con los resultados y conclusiones.\n",
    "\n",
    "El artículo presenta tanto fortalezas como debilidades. Como el estudio orquestado por los autores es una regresión discontinua, tiene sentido comparar directamente los resultados de salud mental de las universidades usando como punto de separación la fecha en que Facebook, la primera gran red social para universitarios, fue introducido. Es también una fortaleza el hecho de que los autores reconozcan las diferencias preexistentes entre universidades ya que, como ellos mismos mencionan, debe considerarse que universidades más exigentes debieran contar con mayores índices de problemas de salud mental per se. No obstante, a pesar de que el estudio, para ser de regresión discontinua, es adecuado, la falta de poder contar con un grupo de control (universidades que no habrían sido expuestas a Facebook) puede llegar a ser perjudicial para los intentos de responder la pregunta de investigación. Sin una variable de control para asegurar, cabe la posibilidad de que el incremento en problemas de salud mental pueda solo estar correlacionado levemente con las redes sociales y estas no representen una directa causalidad. Aunque es verdad que las regresiones de por sí ya indican un nivel estimado de causalidad.\n",
    "\n",
    "El documento avanza la pregunta de investigación porque provee a la literatura de la evidencia causal más precisa. Esto se debe a la naturaleza del experimento, que utiliza numerosas encuestas de salud mental y forma una regresión discontinua. El artículo cuenta, de este modo, con mejor capacidad para responder la pregunta de investigación. A comparación, estudios anteriores habían intentado explicar el fenómeno de manera más micro, incentivando a un grupo intervenido de alumnos de universidades a que no usen redes sociales. El presente artículo presenta resultados más macro y en el transcurso de más tiempo.\n",
    "\n",
    "Siguientes pasos para avanzar la pregunta de investigación y trascenderla podrían ser buscar otras explicaciones para el aumento de padecimiento de enfermedades mentales. Por ejemplo, Paul y Moser en 2009, en su trabajo ‘Unemployment impairs mental health: Meta-analyses’, buscan explicar el alza en enfermedades de salud mental por el desempleo. Otros autores, como Persson y Rossin-Slater en 2018, relacionan el alza en enfermedades de salud mental a la pérdida o separación de familiares y seres queridos. Otra manera de avanzar la pregunta de investigación y trascenderla sería buscando de qué otras maneras la introducción de redes sociales como Facebook afectó a alumnos universitarios. Un artículo de Armona en 2019, por ejemplo, correlaciona la introducción de redes sociales a cambios en el mercado laboral. Finalmente, otra manera de avanzar la pregunta, pero de manera más sutil, es aplicándola a otros países o regiones. Por ejemplo, el artículo ‘La influencia de las redes sociales en los estudiantes universitarios’, de Flores et al., estudió en 2017 está misma cuestión pero para el caso mexicano.\n"
   ]
  }
 ],
 "metadata": {
  "kernelspec": {
   "display_name": "Python 3 (ipykernel)",
   "language": "python",
   "name": "python3"
  },
  "language_info": {
   "codemirror_mode": {
    "name": "ipython",
    "version": 3
   },
   "file_extension": ".py",
   "mimetype": "text/x-python",
   "name": "python",
   "nbconvert_exporter": "python",
   "pygments_lexer": "ipython3",
   "version": "3.9.12"
  }
 },
 "nbformat": 4,
 "nbformat_minor": 5
}
