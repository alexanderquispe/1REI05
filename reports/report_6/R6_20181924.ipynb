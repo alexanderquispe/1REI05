{
 "cells": [
  {
   "cell_type": "markdown",
   "id": "2a6176f4",
   "metadata": {},
   "source": [
    "El texto trata sobre los autores intento explicar lo que está detras de un estudiante de alto rendimiento en el momento de realizar la eleccion sobre su centro de estudios superiores, en Michigan, Estados Unidos. Ocurre que existe una tendencia de que los estudiantes de menores ingresos economicos no suelen estudiar en unviersidades prestigiosas (es decir ubicado entre las mejores segun los rankings), en comparación de los estudiantes de ingresos más altos, a pesar de contar con un rendimiento academico similar. Esto supondría una elección que no puede ser explicado mediante el modelo racional de que un estudiante con menos recursos debería estudiar en una universidad que peuda ofrecerle mejores retornos en el futuro, sino por otros factores como los costos de transacción y asimetría en la información. En ese sentido, la pregunta de investigación planteada por los autores debería ser  ¿Cuales son los factores que explican que los alumnos de ingresos mayores tiendan a elegir universidades más selectivas (prestigiosas), y no los de ingresos menores, a pesar de contar con un rendimiento academico similar?, así como ¿qué tanto puede influir factores como la aplicación de Becas universitarias y la correcta difusión de la misma en la elección de un estudiante?"
   ]
  },
  {
   "cell_type": "markdown",
   "id": "96e1eb14",
   "metadata": {},
   "source": [
    "Ahora bien, la metodología que usa para responder dicha pregunta de investigación es la de una experimento simple con un grupo de control. Así, a un grupo se le aplico una estrategia de comunicación de la beca HAIL  de la universidad de Michigan (lo cual limita solo a la publicidad y no al monto), mientras que a otro grupo se le presento la información normal de las becas de dicha universidad. En consecuencia, se obtuvo que las aplicaciones a la Universidad de Michigan fueron 26% en el grupo de control y 68% en el grupo experimental, así como las tasas de inscripción con 17% en el grupo de control y 27% en el expermiental. Concluyendo que existe una correlacion estrecha entre el entorno, el manejo de informacion y la toma de decisiones. Y que los costos de transacción como los tramites burocráticos o la poca claridad en las campañas de información de una beca, pueden descinventivar a los estudiantes a aplicarlas. La principal fortaleza de este articulo es el hecho de que el experimento, llevado de manera riguraza y procedimentaria, logra dar con el punto y establecer algunos patrones de correlación y casualidad para ayudar en la busqueda de la pregunta de investigación. No obstante, como el propio paper reconoce, no puede brindar una explicación completa si es que no encuentra y no profundiza en una cantidad mayor de factores, sobretodo cuando se trabaja con fenomenos multidimensionales, como lo es la toma de decisiones de dos estudiantes de distinto poder adquisitivo y status social en escoger una universidad como Michigan en los EEUU."
   ]
  },
  {
   "cell_type": "markdown",
   "id": "568224de",
   "metadata": {},
   "source": [
    "De esta manera, una de la principales contribuciones de este grupo de autores/as es el de intentar dar respuesta de porque estas politicas publicas y universitarias (privadas) no suelen tener mucho impacto, sobretodo en la población objetivo (estudiantes con alto rendimiento academico y pocos recursos economicos). Pues asuntos como los costos de transacción pueden ser factores que puedan no ser tomadas en cuenta pero que sí tienen un impacto. Así, como este, deben existir otros factores que  no se toman en cuenta, pero que estpan muy relacionadas con la toma de decisiones de los estudiantes al querer elegir aplicar o no a una universidad selectiva. De esta forma, sento algunas bases para futuras investigaciones que aborden estas problematicas.\n",
    "Por último, uno de los siguientes pasos que se deberían de seguir para dar con la respuestas de las preguntas formuladas por los autores, sería la de abordar otros casos en caso se quiera validar la tesis de estos. Estos casos pueden ser comparativamente similares como dentro de los EEUU, o con ciertas diferencias en otras universidades como la de Oxford o Cambridge. Asimismo, se debería de complementar estas investigaciones  e intentar encontrar otros factores o patrones dentro de los propios estudiantes, que puedan tener relación (o no) con la elección de un estudiante al escoger una universidad selectiva; tales como el lugar o sector en el que vive, la formación academica de sus padres, aplicaciones a otros programas, su raza, genero, etc. O de la propia universidad ofertante, como su ubicación geografica, el numero de plazas que ofrece, el numero de plaza que ofrece en sus programas de becas, etc."
   ]
  },
  {
   "cell_type": "markdown",
   "id": "bb7b9913",
   "metadata": {},
   "source": []
  },
  {
   "cell_type": "code",
   "execution_count": null,
   "id": "43c6e901",
   "metadata": {},
   "outputs": [],
   "source": []
  },
  {
   "cell_type": "code",
   "execution_count": null,
   "id": "2d55beee",
   "metadata": {},
   "outputs": [],
   "source": []
  },
  {
   "cell_type": "code",
   "execution_count": null,
   "id": "2526a4bf",
   "metadata": {},
   "outputs": [],
   "source": []
  },
  {
   "cell_type": "code",
   "execution_count": null,
   "id": "e7ed2d21",
   "metadata": {},
   "outputs": [],
   "source": []
  }
 ],
 "metadata": {
  "kernelspec": {
   "display_name": "Python 3 (ipykernel)",
   "language": "python",
   "name": "python3"
  },
  "language_info": {
   "codemirror_mode": {
    "name": "ipython",
    "version": 3
   },
   "file_extension": ".py",
   "mimetype": "text/x-python",
   "name": "python",
   "nbconvert_exporter": "python",
   "pygments_lexer": "ipython3",
   "version": "3.9.12"
  }
 },
 "nbformat": 4,
 "nbformat_minor": 5
}
