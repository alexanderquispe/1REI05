{
  "nbformat": 4,
  "nbformat_minor": 0,
  "metadata": {
    "colab": {
      "provenance": [],
      "collapsed_sections": []
    },
    "kernelspec": {
      "name": "python3",
      "display_name": "Python 3"
    },
    "language_info": {
      "name": "python"
    }
  },
  "cells": [
    {
      "cell_type": "markdown",
      "source": [
        "**PARTE I: REPORTE DE LA LECTURA**\n",
        "\n",
        "El siguiente artículo “THE PERSISTENT EFFECTS OF PERU’S MINING MITA” , la autora analiza los efectos que produce la mita minera en el Perú a largo plazo y los canales por los cuales; sus efectos han generado un impacto en la actualidad o como es que estos efectos aún tienen consecuencia en la vida actual de los distritos; es decir, las zonas, que estuvieron sometidas al sistema de la mita. En este sentido, el estudio argumenta que la mita, empleada en la era colonial, ha tenido un impacto negativo sobre el consumo de los hogares y el crecimiento infantil; y los canales en los cuales aún persisten son: la tenencia de la tierra, los bienes públicos y la participación en el mercado. De esta manera, el enfoque principal del artículo es analizar cómo estos efectos de este sistema, que obligaba a los hombres adultos a trabajar en minas de plata y mercurio en Potosí y Huancavelica; muestran grandes repercusiones hoy en día, como una reducción en el consumo de los hogares y el retraso en el crecimiento de los niños.\n",
        "En este sentido, la fortaleza del artículo es que analiza los canales de persistencia a través de los cuales, la mita sigue generando efectos de calidad de vida de los distritos que pertenecieron a este sistema; para ello, la autora se centra solo en tres canales principales; los cuales son: la tenencia de la tierra, los bienes públicos y la participación en el mercado. A partir de ello, el estudio utiliza un enfoque de aproximación de la regresión discontinua (RD) para analizar el impacto de la mita minera sobre los niveles de vida en Perú. Los datos requeridos para esta investigación fueron extraídos principalmente de la ENAHO 2001 y el microcenso del Ministerio de Educación. \tLa estimación de la metodología muestra que en las zonas que se estableció este sistema, el consumo doméstico se ha visto reducido en aproximadamente 25%, mientras que el retraso en el crecimiento en niños y niñas, se ha incrementado en alrededor de seis puntos porcentuales. Asimismo, el estudio muestra que en la actualidad, estos distritos sujetos a la mita han tenido un menor número de grandes terratenientes; están menos integrados a la red de carreteras y sus pobladores son mucho más propensos a ser agricultores de subsistencia.\n",
        "Por otra lado, la debilidad del artículo, es que si bien se analiza el impacto de la mita sobre el consumo de los hogares y el crecimiento infantil; lo cual resulta muy interesante y convincente a la vez, debido a que los resultados los respaldan contundentemente. Se podrían haber analizado también otros aspectos  importantes que afecten a la calidad de vida, tales como el nivel de pobreza monetaria de las familias pertenecientes a los distritos afectados por la mita minera, su nivel de ingreso per cápita o hasta el nivel de educación que los miembros de las familias afectadas llegan a cursar durantes sus vidas; asì como también cómo es que el efecto mita ha impactado sobre su nivel de ahorro o inversión de cada familia.\n",
        "La contribución del artículo es que documenta y aprovecha la posible variación exógena en la asignación de la mita para identificar los canales a través de los cuales influye en el desarrollo económico contemporáneo; documentando la tenencia de la tierra, los bienes públicos y la participación en el mercado como canales a través de los cuales persisten efectos. Asimismo, respecto al contrafactual implícito a los grandes terratenientes en Latinoamérica, se llegó a la conclusión de que no es adecuado para el caso peruano o muchos otros lugares de la región debido a que las estructuras institucionales no proporcionaron derechos de propiedad firmes, protección frente a la explotación o una serie de otras garantías a los pequeños productores potenciales. Además, el estudio de las restricciones acerca de la forma en la que el Estado puede ser utilizado para dar forma a las interacciones económicas es un punto de partida más útil que la desigualdad en el acceso a la tierra para modelar la trayectoria del crecimiento de largo plazo de Latinoamérica. \n",
        "Finalmente, el desarrollo de modelos generales de evolución institucional y la investigación empírica acerca de la forma en la que estas limitaciones se ven influidas por las fuerzas que promueven el cambio son temas particularmente importantes para futuras investigaciones. Según Siancas (2019) en “Análisis  de los efectos persistentes de la mita minera en el Perú: una revisión del trabajo de Dell (2010)”, la revisión del trabajo de Dell (2010), se espera que ayude a entender nuestro presente en temas de crecimiento y desarrollo, pues los resultados arrojados pueden ser de utilidad para trabajar políticas públicas o como modelo para futuras investigaciones.\n"
      ],
      "metadata": {
        "id": "nrrgt_t_y4nm"
      }
    },
    {
      "cell_type": "markdown",
      "source": [
        "**PARTE II: CÓDIGO**\n",
        "\n",
        "COLABORADORES:\n",
        "\n",
        "DANIEL CUBEÑAS (20170718)\n",
        "INGRY BENEL (20191301)"
      ],
      "metadata": {
        "id": "pJIXPEoCydLe"
      }
    },
    {
      "cell_type": "code",
      "execution_count": 23,
      "metadata": {
        "id": "QwyD06843J4Q"
      },
      "outputs": [],
      "source": [
        "#Antes de pasar a la parte de códigos en Python, procederemos a instalar las librerías correspondientes\n",
        "import numpy as np \n",
        "import pandas as pd \n",
        "import statsmodels.api as sm \n",
        "import statsmodels.formula.api as smf \n",
        "from itertools import combinations \n",
        "import plotnine as p"
      ]
    },
    {
      "cell_type": "code",
      "source": [
        "import pandas as pd\n",
        "import numpy as np\n",
        "from scipy import stats\n",
        "from scipy.stats import norm\n",
        "import statsmodels.api as sm\n",
        "import matplotlib\n",
        "import string\n",
        "import warnings\n",
        "warnings.filterwarnings('ignore')"
      ],
      "metadata": {
        "id": "bU0Mp5f23PLu"
      },
      "execution_count": 2,
      "outputs": []
    },
    {
      "cell_type": "code",
      "source": [
        "import seaborn as sns\n",
        "sns.set_theme(style=\"darkgrid\")"
      ],
      "metadata": {
        "id": "vxe3kjRl3S9e"
      },
      "execution_count": 3,
      "outputs": []
    },
    {
      "cell_type": "code",
      "source": [
        "import matplotlib.pyplot as plt"
      ],
      "metadata": {
        "id": "Wm_nejT-3UIN"
      },
      "execution_count": 4,
      "outputs": []
    },
    {
      "cell_type": "code",
      "source": [
        "pip install causalgraphicalmodels"
      ],
      "metadata": {
        "colab": {
          "base_uri": "https://localhost:8080/"
        },
        "id": "qaYIrvDk3WnD",
        "outputId": "501b9a1f-2ce0-4e33-f7c1-731c02d5214f"
      },
      "execution_count": 5,
      "outputs": [
        {
          "output_type": "stream",
          "name": "stdout",
          "text": [
            "Looking in indexes: https://pypi.org/simple, https://us-python.pkg.dev/colab-wheels/public/simple/\n",
            "Collecting causalgraphicalmodels\n",
            "  Downloading causalgraphicalmodels-0.0.4-py3-none-any.whl (11 kB)\n",
            "Requirement already satisfied: pandas in /usr/local/lib/python3.7/dist-packages (from causalgraphicalmodels) (1.3.5)\n",
            "Requirement already satisfied: numpy in /usr/local/lib/python3.7/dist-packages (from causalgraphicalmodels) (1.21.6)\n",
            "Requirement already satisfied: networkx in /usr/local/lib/python3.7/dist-packages (from causalgraphicalmodels) (2.6.3)\n",
            "Requirement already satisfied: graphviz in /usr/local/lib/python3.7/dist-packages (from causalgraphicalmodels) (0.10.1)\n",
            "Requirement already satisfied: python-dateutil>=2.7.3 in /usr/local/lib/python3.7/dist-packages (from pandas->causalgraphicalmodels) (2.8.2)\n",
            "Requirement already satisfied: pytz>=2017.3 in /usr/local/lib/python3.7/dist-packages (from pandas->causalgraphicalmodels) (2022.6)\n",
            "Requirement already satisfied: six>=1.5 in /usr/local/lib/python3.7/dist-packages (from python-dateutil>=2.7.3->pandas->causalgraphicalmodels) (1.15.0)\n",
            "Installing collected packages: causalgraphicalmodels\n",
            "Successfully installed causalgraphicalmodels-0.0.4\n"
          ]
        }
      ]
    },
    {
      "cell_type": "code",
      "source": [
        "pip install seaborn"
      ],
      "metadata": {
        "colab": {
          "base_uri": "https://localhost:8080/"
        },
        "id": "47H8O9Cm4Alu",
        "outputId": "2a31e04b-1f0a-4d32-c119-b4ad1424229f"
      },
      "execution_count": 7,
      "outputs": [
        {
          "output_type": "stream",
          "name": "stdout",
          "text": [
            "Looking in indexes: https://pypi.org/simple, https://us-python.pkg.dev/colab-wheels/public/simple/\n",
            "Requirement already satisfied: seaborn in /usr/local/lib/python3.7/dist-packages (0.11.2)\n",
            "Requirement already satisfied: numpy>=1.15 in /usr/local/lib/python3.7/dist-packages (from seaborn) (1.21.6)\n",
            "Requirement already satisfied: scipy>=1.0 in /usr/local/lib/python3.7/dist-packages (from seaborn) (1.7.3)\n",
            "Requirement already satisfied: matplotlib>=2.2 in /usr/local/lib/python3.7/dist-packages (from seaborn) (3.2.2)\n",
            "Requirement already satisfied: pandas>=0.23 in /usr/local/lib/python3.7/dist-packages (from seaborn) (1.3.5)\n",
            "Requirement already satisfied: cycler>=0.10 in /usr/local/lib/python3.7/dist-packages (from matplotlib>=2.2->seaborn) (0.11.0)\n",
            "Requirement already satisfied: python-dateutil>=2.1 in /usr/local/lib/python3.7/dist-packages (from matplotlib>=2.2->seaborn) (2.8.2)\n",
            "Requirement already satisfied: kiwisolver>=1.0.1 in /usr/local/lib/python3.7/dist-packages (from matplotlib>=2.2->seaborn) (1.4.4)\n",
            "Requirement already satisfied: pyparsing!=2.0.4,!=2.1.2,!=2.1.6,>=2.0.1 in /usr/local/lib/python3.7/dist-packages (from matplotlib>=2.2->seaborn) (3.0.9)\n",
            "Requirement already satisfied: typing-extensions in /usr/local/lib/python3.7/dist-packages (from kiwisolver>=1.0.1->matplotlib>=2.2->seaborn) (4.4.0)\n",
            "Requirement already satisfied: pytz>=2017.3 in /usr/local/lib/python3.7/dist-packages (from pandas>=0.23->seaborn) (2022.6)\n",
            "Requirement already satisfied: six>=1.5 in /usr/local/lib/python3.7/dist-packages (from python-dateutil>=2.1->matplotlib>=2.2->seaborn) (1.15.0)\n"
          ]
        }
      ]
    },
    {
      "cell_type": "code",
      "source": [
        "# pip install causalgraphicalmodels\n",
        "# pip install linearmodels\n",
        "\n",
        "from causalgraphicalmodels import CausalGraphicalModel"
      ],
      "metadata": {
        "id": "j6TSWUhH4F4M"
      },
      "execution_count": 8,
      "outputs": []
    },
    {
      "cell_type": "code",
      "source": [
        "import os\n",
        "import numpy as np \n",
        "import pandas as pd \n",
        "import statsmodels.api as sm \n",
        "import statsmodels.formula.api as smf \n",
        "from itertools import combinations \n",
        "import plotnine as p\n",
        "import statsmodels.api as sm\n",
        "import statsmodels.formula.api as smf\n",
        "import linearmodels.iv.model as lm\n",
        "from linearmodels.iv import IV2SLS\n",
        "from statsmodels.iolib.summary2 import summary_col\n",
        "import seaborn as sns"
      ],
      "metadata": {
        "id": "lJujTVxn4QQ8"
      },
      "execution_count": 9,
      "outputs": []
    },
    {
      "cell_type": "markdown",
      "source": [
        "**1. Instrumental Variables**\n",
        "\n",
        "**CONCEPTOS**\n",
        "\n",
        "Para que las variables instrumentales funcionen, debemos satisfacer dos supuestos: relevancia del instrumento y validez del instrumento.  \n",
        "\n",
        "La **relevancia** es bastante sencilla. La idea de las variables instrumentales es que usamos la parte de X, el tratamiento, que se explica por Z, el instrumento. Aunque si ninguna parte de X se explica por Z; las variables instrumentales no funcionan. Así que tenemos que estar seguros de que Z en realidad se relaciona con X.  Basta con mirar la relación entrey X y Z mira lo fuerte que es. Cuanto más fuerte sea, más confianza tendrá en la suposición de relevancia y menos saltará la estimación de una muestra a otra. \n",
        "\n",
        "Quizás el más tenso de los dos supuestos es el supuesto de **validez** . La validez es, en efecto, la suposición de que el instrumento Z es una variable que no tiene puertas traseras abiertas propias. En otras palabras, en una relación, Z→X→Y, ? No tenemos que identificar Z→X, solo necesitamos que no haya forma de salir de Z a Y excepto a través X. Cualquier ruta (path) entre el instrumento y el resultado debe pasar por el tratamiento o cerrarse."
      ],
      "metadata": {
        "id": "W75NQtcXvJ9C"
      }
    },
    {
      "cell_type": "markdown",
      "source": [
        "**2. Ploteo de Histogramas**"
      ],
      "metadata": {
        "id": "9nyCc12Y0kGO"
      }
    },
    {
      "cell_type": "code",
      "source": [
        "# load data\n",
        "\n",
        "import ssl\n",
        "ssl._create_default_https_context = ssl._create_unverified_context\n",
        "\n",
        "def read_data(file): \n",
        "    return pd.read_stata(\"https://raw.github.com/scunning1975/mixtape/master/\" + file)\n",
        "\n",
        "data = read_data(\"card.dta\")\n",
        "data.head()"
      ],
      "metadata": {
        "colab": {
          "base_uri": "https://localhost:8080/",
          "height": 235
        },
        "id": "_DU8J4g04YLj",
        "outputId": "76883841-667d-49d0-820e-d3190a90aa7e"
      },
      "execution_count": 10,
      "outputs": [
        {
          "output_type": "execute_result",
          "data": {
            "text/plain": [
              "    id  nearc2  nearc4  educ   age  fatheduc  motheduc    weight  momdad14  \\\n",
              "0  2.0     0.0     0.0   7.0  29.0       NaN       NaN  158413.0       1.0   \n",
              "1  3.0     0.0     0.0  12.0  27.0       8.0       8.0  380166.0       1.0   \n",
              "2  4.0     0.0     0.0  12.0  34.0      14.0      12.0  367470.0       1.0   \n",
              "3  5.0     1.0     1.0  11.0  27.0      11.0      12.0  380166.0       1.0   \n",
              "4  6.0     1.0     1.0  12.0  34.0       8.0       7.0  367470.0       1.0   \n",
              "\n",
              "   sinmom14  ...   KWW     IQ  married  libcrd14  exper     lwage  expersq  \\\n",
              "0       0.0  ...  15.0    NaN      1.0       0.0   16.0  6.306275    256.0   \n",
              "1       0.0  ...  35.0   93.0      1.0       1.0    9.0  6.175867     81.0   \n",
              "2       0.0  ...  42.0  103.0      1.0       1.0   16.0  6.580639    256.0   \n",
              "3       0.0  ...  25.0   88.0      1.0       1.0   10.0  5.521461    100.0   \n",
              "4       0.0  ...  34.0  108.0      1.0       0.0   16.0  6.591674    256.0   \n",
              "\n",
              "    u_lwage  lwage_hat    u_educ  \n",
              "0  0.198047   6.108228 -3.067539  \n",
              "1 -0.211160   6.387027 -1.727562  \n",
              "2  0.204719   6.375920  1.012975  \n",
              "3 -0.967905   6.489366 -2.253536  \n",
              "4  0.125173   6.466501  1.090437  \n",
              "\n",
              "[5 rows x 37 columns]"
            ],
            "text/html": [
              "\n",
              "  <div id=\"df-842e3ce1-8e46-4a8f-bf6e-3f38d033095c\">\n",
              "    <div class=\"colab-df-container\">\n",
              "      <div>\n",
              "<style scoped>\n",
              "    .dataframe tbody tr th:only-of-type {\n",
              "        vertical-align: middle;\n",
              "    }\n",
              "\n",
              "    .dataframe tbody tr th {\n",
              "        vertical-align: top;\n",
              "    }\n",
              "\n",
              "    .dataframe thead th {\n",
              "        text-align: right;\n",
              "    }\n",
              "</style>\n",
              "<table border=\"1\" class=\"dataframe\">\n",
              "  <thead>\n",
              "    <tr style=\"text-align: right;\">\n",
              "      <th></th>\n",
              "      <th>id</th>\n",
              "      <th>nearc2</th>\n",
              "      <th>nearc4</th>\n",
              "      <th>educ</th>\n",
              "      <th>age</th>\n",
              "      <th>fatheduc</th>\n",
              "      <th>motheduc</th>\n",
              "      <th>weight</th>\n",
              "      <th>momdad14</th>\n",
              "      <th>sinmom14</th>\n",
              "      <th>...</th>\n",
              "      <th>KWW</th>\n",
              "      <th>IQ</th>\n",
              "      <th>married</th>\n",
              "      <th>libcrd14</th>\n",
              "      <th>exper</th>\n",
              "      <th>lwage</th>\n",
              "      <th>expersq</th>\n",
              "      <th>u_lwage</th>\n",
              "      <th>lwage_hat</th>\n",
              "      <th>u_educ</th>\n",
              "    </tr>\n",
              "  </thead>\n",
              "  <tbody>\n",
              "    <tr>\n",
              "      <th>0</th>\n",
              "      <td>2.0</td>\n",
              "      <td>0.0</td>\n",
              "      <td>0.0</td>\n",
              "      <td>7.0</td>\n",
              "      <td>29.0</td>\n",
              "      <td>NaN</td>\n",
              "      <td>NaN</td>\n",
              "      <td>158413.0</td>\n",
              "      <td>1.0</td>\n",
              "      <td>0.0</td>\n",
              "      <td>...</td>\n",
              "      <td>15.0</td>\n",
              "      <td>NaN</td>\n",
              "      <td>1.0</td>\n",
              "      <td>0.0</td>\n",
              "      <td>16.0</td>\n",
              "      <td>6.306275</td>\n",
              "      <td>256.0</td>\n",
              "      <td>0.198047</td>\n",
              "      <td>6.108228</td>\n",
              "      <td>-3.067539</td>\n",
              "    </tr>\n",
              "    <tr>\n",
              "      <th>1</th>\n",
              "      <td>3.0</td>\n",
              "      <td>0.0</td>\n",
              "      <td>0.0</td>\n",
              "      <td>12.0</td>\n",
              "      <td>27.0</td>\n",
              "      <td>8.0</td>\n",
              "      <td>8.0</td>\n",
              "      <td>380166.0</td>\n",
              "      <td>1.0</td>\n",
              "      <td>0.0</td>\n",
              "      <td>...</td>\n",
              "      <td>35.0</td>\n",
              "      <td>93.0</td>\n",
              "      <td>1.0</td>\n",
              "      <td>1.0</td>\n",
              "      <td>9.0</td>\n",
              "      <td>6.175867</td>\n",
              "      <td>81.0</td>\n",
              "      <td>-0.211160</td>\n",
              "      <td>6.387027</td>\n",
              "      <td>-1.727562</td>\n",
              "    </tr>\n",
              "    <tr>\n",
              "      <th>2</th>\n",
              "      <td>4.0</td>\n",
              "      <td>0.0</td>\n",
              "      <td>0.0</td>\n",
              "      <td>12.0</td>\n",
              "      <td>34.0</td>\n",
              "      <td>14.0</td>\n",
              "      <td>12.0</td>\n",
              "      <td>367470.0</td>\n",
              "      <td>1.0</td>\n",
              "      <td>0.0</td>\n",
              "      <td>...</td>\n",
              "      <td>42.0</td>\n",
              "      <td>103.0</td>\n",
              "      <td>1.0</td>\n",
              "      <td>1.0</td>\n",
              "      <td>16.0</td>\n",
              "      <td>6.580639</td>\n",
              "      <td>256.0</td>\n",
              "      <td>0.204719</td>\n",
              "      <td>6.375920</td>\n",
              "      <td>1.012975</td>\n",
              "    </tr>\n",
              "    <tr>\n",
              "      <th>3</th>\n",
              "      <td>5.0</td>\n",
              "      <td>1.0</td>\n",
              "      <td>1.0</td>\n",
              "      <td>11.0</td>\n",
              "      <td>27.0</td>\n",
              "      <td>11.0</td>\n",
              "      <td>12.0</td>\n",
              "      <td>380166.0</td>\n",
              "      <td>1.0</td>\n",
              "      <td>0.0</td>\n",
              "      <td>...</td>\n",
              "      <td>25.0</td>\n",
              "      <td>88.0</td>\n",
              "      <td>1.0</td>\n",
              "      <td>1.0</td>\n",
              "      <td>10.0</td>\n",
              "      <td>5.521461</td>\n",
              "      <td>100.0</td>\n",
              "      <td>-0.967905</td>\n",
              "      <td>6.489366</td>\n",
              "      <td>-2.253536</td>\n",
              "    </tr>\n",
              "    <tr>\n",
              "      <th>4</th>\n",
              "      <td>6.0</td>\n",
              "      <td>1.0</td>\n",
              "      <td>1.0</td>\n",
              "      <td>12.0</td>\n",
              "      <td>34.0</td>\n",
              "      <td>8.0</td>\n",
              "      <td>7.0</td>\n",
              "      <td>367470.0</td>\n",
              "      <td>1.0</td>\n",
              "      <td>0.0</td>\n",
              "      <td>...</td>\n",
              "      <td>34.0</td>\n",
              "      <td>108.0</td>\n",
              "      <td>1.0</td>\n",
              "      <td>0.0</td>\n",
              "      <td>16.0</td>\n",
              "      <td>6.591674</td>\n",
              "      <td>256.0</td>\n",
              "      <td>0.125173</td>\n",
              "      <td>6.466501</td>\n",
              "      <td>1.090437</td>\n",
              "    </tr>\n",
              "  </tbody>\n",
              "</table>\n",
              "<p>5 rows × 37 columns</p>\n",
              "</div>\n",
              "      <button class=\"colab-df-convert\" onclick=\"convertToInteractive('df-842e3ce1-8e46-4a8f-bf6e-3f38d033095c')\"\n",
              "              title=\"Convert this dataframe to an interactive table.\"\n",
              "              style=\"display:none;\">\n",
              "        \n",
              "  <svg xmlns=\"http://www.w3.org/2000/svg\" height=\"24px\"viewBox=\"0 0 24 24\"\n",
              "       width=\"24px\">\n",
              "    <path d=\"M0 0h24v24H0V0z\" fill=\"none\"/>\n",
              "    <path d=\"M18.56 5.44l.94 2.06.94-2.06 2.06-.94-2.06-.94-.94-2.06-.94 2.06-2.06.94zm-11 1L8.5 8.5l.94-2.06 2.06-.94-2.06-.94L8.5 2.5l-.94 2.06-2.06.94zm10 10l.94 2.06.94-2.06 2.06-.94-2.06-.94-.94-2.06-.94 2.06-2.06.94z\"/><path d=\"M17.41 7.96l-1.37-1.37c-.4-.4-.92-.59-1.43-.59-.52 0-1.04.2-1.43.59L10.3 9.45l-7.72 7.72c-.78.78-.78 2.05 0 2.83L4 21.41c.39.39.9.59 1.41.59.51 0 1.02-.2 1.41-.59l7.78-7.78 2.81-2.81c.8-.78.8-2.07 0-2.86zM5.41 20L4 18.59l7.72-7.72 1.47 1.35L5.41 20z\"/>\n",
              "  </svg>\n",
              "      </button>\n",
              "      \n",
              "  <style>\n",
              "    .colab-df-container {\n",
              "      display:flex;\n",
              "      flex-wrap:wrap;\n",
              "      gap: 12px;\n",
              "    }\n",
              "\n",
              "    .colab-df-convert {\n",
              "      background-color: #E8F0FE;\n",
              "      border: none;\n",
              "      border-radius: 50%;\n",
              "      cursor: pointer;\n",
              "      display: none;\n",
              "      fill: #1967D2;\n",
              "      height: 32px;\n",
              "      padding: 0 0 0 0;\n",
              "      width: 32px;\n",
              "    }\n",
              "\n",
              "    .colab-df-convert:hover {\n",
              "      background-color: #E2EBFA;\n",
              "      box-shadow: 0px 1px 2px rgba(60, 64, 67, 0.3), 0px 1px 3px 1px rgba(60, 64, 67, 0.15);\n",
              "      fill: #174EA6;\n",
              "    }\n",
              "\n",
              "    [theme=dark] .colab-df-convert {\n",
              "      background-color: #3B4455;\n",
              "      fill: #D2E3FC;\n",
              "    }\n",
              "\n",
              "    [theme=dark] .colab-df-convert:hover {\n",
              "      background-color: #434B5C;\n",
              "      box-shadow: 0px 1px 3px 1px rgba(0, 0, 0, 0.15);\n",
              "      filter: drop-shadow(0px 1px 2px rgba(0, 0, 0, 0.3));\n",
              "      fill: #FFFFFF;\n",
              "    }\n",
              "  </style>\n",
              "\n",
              "      <script>\n",
              "        const buttonEl =\n",
              "          document.querySelector('#df-842e3ce1-8e46-4a8f-bf6e-3f38d033095c button.colab-df-convert');\n",
              "        buttonEl.style.display =\n",
              "          google.colab.kernel.accessAllowed ? 'block' : 'none';\n",
              "\n",
              "        async function convertToInteractive(key) {\n",
              "          const element = document.querySelector('#df-842e3ce1-8e46-4a8f-bf6e-3f38d033095c');\n",
              "          const dataTable =\n",
              "            await google.colab.kernel.invokeFunction('convertToInteractive',\n",
              "                                                     [key], {});\n",
              "          if (!dataTable) return;\n",
              "\n",
              "          const docLinkHtml = 'Like what you see? Visit the ' +\n",
              "            '<a target=\"_blank\" href=https://colab.research.google.com/notebooks/data_table.ipynb>data table notebook</a>'\n",
              "            + ' to learn more about interactive tables.';\n",
              "          element.innerHTML = '';\n",
              "          dataTable['output_type'] = 'display_data';\n",
              "          await google.colab.output.renderOutput(dataTable, element);\n",
              "          const docLink = document.createElement('div');\n",
              "          docLink.innerHTML = docLinkHtml;\n",
              "          element.appendChild(docLink);\n",
              "        }\n",
              "      </script>\n",
              "    </div>\n",
              "  </div>\n",
              "  "
            ]
          },
          "metadata": {},
          "execution_count": 10
        }
      ]
    },
    {
      "cell_type": "code",
      "source": [
        "sns.displot(data, x = \"educ\", col = \"nearc4\", color='red')"
      ],
      "metadata": {
        "colab": {
          "base_uri": "https://localhost:8080/",
          "height": 382
        },
        "id": "4LzTe_gaspyU",
        "outputId": "ff65fc3b-1284-45af-ff30-59bac1f8151f"
      },
      "execution_count": 33,
      "outputs": [
        {
          "output_type": "execute_result",
          "data": {
            "text/plain": [
              "<seaborn.axisgrid.FacetGrid at 0x7fa531f46490>"
            ]
          },
          "metadata": {},
          "execution_count": 33
        },
        {
          "output_type": "display_data",
          "data": {
            "text/plain": [
              "<Figure size 720x360 with 2 Axes>"
            ],
            "image/png": "[encoded data removed]"
          },
          "metadata": {}
        }
      ]
    },
    {
      "cell_type": "markdown",
      "source": [
        "**Intuición:** Al plotear los histogramas, podemos observar que el número de estudiantes que tiene una universidad es mayor cuando estos alumnos presentan una universidad en su condado (grupo de tratamiento) respecto a cuando no presentan una universidad en su condado (grupo de control). En ambos casos, podemos observar una proporción similar en la movilidad de las barras; aunque, en el caso de de 12 años de studio si se puede observar una diferencia importante cuando si se cuenta con una universidad en el condado; casi el doble de estudiantes en el grupo de tratamiento respecto al grupo de control. Además, los estudiantes que cuentan con una universidad en su condado alcanzan una mayor proporción respecto a los años de estudio, tal como podemos ver en el caso de los 18 años de educación. Esto puede deberse a condiciones como localidad, transporte, mudanza, entre otras; aunque ambos histogrmas presentan una gran similitud."
      ],
      "metadata": {
        "id": "zhQgqwTf8d3A"
      }
    },
    {
      "cell_type": "code",
      "source": [
        "sns.displot(data, x = \"lwage\", col = \"nearc4\", color='green')"
      ],
      "metadata": {
        "colab": {
          "base_uri": "https://localhost:8080/",
          "height": 382
        },
        "id": "FEY7kT1o4XCs",
        "outputId": "22cc28a3-38e8-4881-c944-d576e58aef8d"
      },
      "execution_count": 26,
      "outputs": [
        {
          "output_type": "execute_result",
          "data": {
            "text/plain": [
              "<seaborn.axisgrid.FacetGrid at 0x7fa53258ad50>"
            ]
          },
          "metadata": {},
          "execution_count": 26
        },
        {
          "output_type": "display_data",
          "data": {
            "text/plain": [
              "<Figure size 720x360 with 2 Axes>"
            ],
            "image/png": "[encoded data removed]"
          },
          "metadata": {}
        }
      ]
    },
    {
      "cell_type": "markdown",
      "source": [
        "**Intuición:** En ambos histogramas, respecto al caso del algoritmo de ingreso, podemos observar que la muestra de estudiantes sigue siendo mayor en el caso de los estudiantes que viven cerca de la universidad de su condado (grupo de tratamiento). En ambos casos, los histogramas presentan una distribucióm similar; sin embargo, los datos cercanos al rango de 6 a 6.5 es realmente distintos; ya que en el caso del grupo de tratamiento este es mayor respecto al grupo de control (los que no viven cerca a la universidad). De esta manera, estas ligeras diferencias muestran que los ingresos son ligeramente más altos en el caso de los estudiantes que viven cerca de la universidad; es decir, una mayor percepción de ingresos del grupo de tratamiento respecto al grupo de control. A pesar de ello, no se puede concluir de manera fija que existe una relación de ingresos respecto a si bien o no cerca a una universidad en su condado."
      ],
      "metadata": {
        "id": "NAsgVBL2_qGd"
      }
    },
    {
      "cell_type": "markdown",
      "source": [
        "**3. REGRESIONES**"
      ],
      "metadata": {
        "id": "TCh0XIUR0sM3"
      }
    },
    {
      "cell_type": "code",
      "source": [
        "#OLS\n",
        "ols_reg = sm.OLS.from_formula(\"lwage ~ educ + exper + black + south + married + smsa\", \n",
        "              data = data).fit()\n",
        "\n",
        "ols_reg.summary()"
      ],
      "metadata": {
        "colab": {
          "base_uri": "https://localhost:8080/",
          "height": 549
        },
        "id": "bExM6lyi63kH",
        "outputId": "51562bac-75a4-4c29-d9fb-4b2db6b62e31"
      },
      "execution_count": 31,
      "outputs": [
        {
          "output_type": "execute_result",
          "data": {
            "text/plain": [
              "<class 'statsmodels.iolib.summary.Summary'>\n",
              "\"\"\"\n",
              "                            OLS Regression Results                            \n",
              "==============================================================================\n",
              "Dep. Variable:                  lwage   R-squared:                       0.305\n",
              "Model:                            OLS   Adj. R-squared:                  0.303\n",
              "Method:                 Least Squares   F-statistic:                     219.1\n",
              "Date:                Sun, 13 Nov 2022   Prob (F-statistic):          1.69e-232\n",
              "Time:                        21:32:33   Log-Likelihood:                -1278.7\n",
              "No. Observations:                3010   AIC:                             2571.\n",
              "Df Residuals:                    3003   BIC:                             2613.\n",
              "Df Model:                           6                                         \n",
              "Covariance Type:            nonrobust                                         \n",
              "==============================================================================\n",
              "                 coef    std err          t      P>|t|      [0.025      0.975]\n",
              "------------------------------------------------------------------------------\n",
              "Intercept      5.0642      0.064     79.594      0.000       4.939       5.189\n",
              "educ           0.0711      0.003     20.439      0.000       0.064       0.078\n",
              "exper          0.0342      0.002     15.459      0.000       0.030       0.039\n",
              "black         -0.1654      0.018     -9.408      0.000      -0.200      -0.131\n",
              "south         -0.1325      0.015     -8.855      0.000      -0.162      -0.103\n",
              "married       -0.0358      0.003    -10.542      0.000      -0.042      -0.029\n",
              "smsa           0.1751      0.015     11.338      0.000       0.145       0.205\n",
              "==============================================================================\n",
              "Omnibus:                       52.534   Durbin-Watson:                   1.853\n",
              "Prob(Omnibus):                  0.000   Jarque-Bera (JB):               68.142\n",
              "Skew:                          -0.231   Prob(JB):                     1.60e-15\n",
              "Kurtosis:                       3.575   Cond. No.                         154.\n",
              "==============================================================================\n",
              "\n",
              "Notes:\n",
              "[1] Standard Errors assume that the covariance matrix of the errors is correctly specified.\n",
              "\"\"\""
            ],
            "text/html": [
              "<table class=\"simpletable\">\n",
              "<caption>OLS Regression Results</caption>\n",
              "<tr>\n",
              "  <th>Dep. Variable:</th>          <td>lwage</td>      <th>  R-squared:         </th> <td>   0.305</td> \n",
              "</tr>\n",
              "<tr>\n",
              "  <th>Model:</th>                   <td>OLS</td>       <th>  Adj. R-squared:    </th> <td>   0.303</td> \n",
              "</tr>\n",
              "<tr>\n",
              "  <th>Method:</th>             <td>Least Squares</td>  <th>  F-statistic:       </th> <td>   219.1</td> \n",
              "</tr>\n",
              "<tr>\n",
              "  <th>Date:</th>             <td>Sun, 13 Nov 2022</td> <th>  Prob (F-statistic):</th> <td>1.69e-232</td>\n",
              "</tr>\n",
              "<tr>\n",
              "  <th>Time:</th>                 <td>21:32:33</td>     <th>  Log-Likelihood:    </th> <td> -1278.7</td> \n",
              "</tr>\n",
              "<tr>\n",
              "  <th>No. Observations:</th>      <td>  3010</td>      <th>  AIC:               </th> <td>   2571.</td> \n",
              "</tr>\n",
              "<tr>\n",
              "  <th>Df Residuals:</th>          <td>  3003</td>      <th>  BIC:               </th> <td>   2613.</td> \n",
              "</tr>\n",
              "<tr>\n",
              "  <th>Df Model:</th>              <td>     6</td>      <th>                     </th>     <td> </td>    \n",
              "</tr>\n",
              "<tr>\n",
              "  <th>Covariance Type:</th>      <td>nonrobust</td>    <th>                     </th>     <td> </td>    \n",
              "</tr>\n",
              "</table>\n",
              "<table class=\"simpletable\">\n",
              "<tr>\n",
              "      <td></td>         <th>coef</th>     <th>std err</th>      <th>t</th>      <th>P>|t|</th>  <th>[0.025</th>    <th>0.975]</th>  \n",
              "</tr>\n",
              "<tr>\n",
              "  <th>Intercept</th> <td>    5.0642</td> <td>    0.064</td> <td>   79.594</td> <td> 0.000</td> <td>    4.939</td> <td>    5.189</td>\n",
              "</tr>\n",
              "<tr>\n",
              "  <th>educ</th>      <td>    0.0711</td> <td>    0.003</td> <td>   20.439</td> <td> 0.000</td> <td>    0.064</td> <td>    0.078</td>\n",
              "</tr>\n",
              "<tr>\n",
              "  <th>exper</th>     <td>    0.0342</td> <td>    0.002</td> <td>   15.459</td> <td> 0.000</td> <td>    0.030</td> <td>    0.039</td>\n",
              "</tr>\n",
              "<tr>\n",
              "  <th>black</th>     <td>   -0.1654</td> <td>    0.018</td> <td>   -9.408</td> <td> 0.000</td> <td>   -0.200</td> <td>   -0.131</td>\n",
              "</tr>\n",
              "<tr>\n",
              "  <th>south</th>     <td>   -0.1325</td> <td>    0.015</td> <td>   -8.855</td> <td> 0.000</td> <td>   -0.162</td> <td>   -0.103</td>\n",
              "</tr>\n",
              "<tr>\n",
              "  <th>married</th>   <td>   -0.0358</td> <td>    0.003</td> <td>  -10.542</td> <td> 0.000</td> <td>   -0.042</td> <td>   -0.029</td>\n",
              "</tr>\n",
              "<tr>\n",
              "  <th>smsa</th>      <td>    0.1751</td> <td>    0.015</td> <td>   11.338</td> <td> 0.000</td> <td>    0.145</td> <td>    0.205</td>\n",
              "</tr>\n",
              "</table>\n",
              "<table class=\"simpletable\">\n",
              "<tr>\n",
              "  <th>Omnibus:</th>       <td>52.534</td> <th>  Durbin-Watson:     </th> <td>   1.853</td>\n",
              "</tr>\n",
              "<tr>\n",
              "  <th>Prob(Omnibus):</th> <td> 0.000</td> <th>  Jarque-Bera (JB):  </th> <td>  68.142</td>\n",
              "</tr>\n",
              "<tr>\n",
              "  <th>Skew:</th>          <td>-0.231</td> <th>  Prob(JB):          </th> <td>1.60e-15</td>\n",
              "</tr>\n",
              "<tr>\n",
              "  <th>Kurtosis:</th>      <td> 3.575</td> <th>  Cond. No.          </th> <td>    154.</td>\n",
              "</tr>\n",
              "</table><br/><br/>Notes:<br/>[1] Standard Errors assume that the covariance matrix of the errors is correctly specified."
            ]
          },
          "metadata": {},
          "execution_count": 31
        }
      ]
    },
    {
      "cell_type": "markdown",
      "source": [
        "**Intuición:** El modelo de regresión logísitco seguro (OLS) es significativo y explica un 30.3% la variabilidad de la variable ingreso \"lwage\", expresado de manera logarítimica.\n",
        "\n",
        "Asimismo, todas las variables analizadas previamente son significativas debido a que presentan un p.value menor a 0.05:\n",
        "\n",
        "Observaciones:\n",
        "\n",
        "1. Por cada año adicional de educación, el nivel de ingreso aumentará en 0.07 unidades logaritmicas.\n",
        "\n",
        "2. Por cada año de experiencia laboral. el nivel de ingreso aumenta en 0.03 unidades logaritmicas.\n",
        "\n",
        "3. Si el individuo es afroamericano, el nivel de ingreso se reduce en 0.17 unidades logaritmicas \n",
        "\n",
        "4. Si el individuo es del sur, se reduce en 0.13 unidades logaritmicas.\n",
        "\n",
        "4. Si el individuo está casado, se reduce en 0.03 unidades logaritmicas.\n",
        "\n",
        "4. Si vive en SMSA, aumenta en 0.18 unidades logaritmicas.\n",
        "\n",
        "\n"
      ],
      "metadata": {
        "id": "QtJ9PuJIIhCc"
      }
    },
    {
      "cell_type": "code",
      "source": [
        "# There are null values in the dataset, we will fill them with 0\n",
        "data['married'] = data['married'].fillna(0)"
      ],
      "metadata": {
        "id": "_rlr--a66DZZ"
      },
      "execution_count": 30,
      "outputs": []
    },
    {
      "cell_type": "code",
      "source": [
        "sns.histplot(data=data, x=\"nearc2\")"
      ],
      "metadata": {
        "colab": {
          "base_uri": "https://localhost:8080/",
          "height": 302
        },
        "id": "C9F9i9bnRtPl",
        "outputId": "918f5694-95fb-4c1a-e088-d1b53a2e9898"
      },
      "execution_count": 21,
      "outputs": [
        {
          "output_type": "execute_result",
          "data": {
            "text/plain": [
              "<matplotlib.axes._subplots.AxesSubplot at 0x7fa53386b090>"
            ]
          },
          "metadata": {},
          "execution_count": 21
        },
        {
          "output_type": "display_data",
          "data": {
            "text/plain": [
              "<Figure size 432x288 with 1 Axes>"
            ],
            "image/png": "[encoded data removed]"
          },
          "metadata": {}
        }
      ]
    },
    {
      "cell_type": "code",
      "source": [
        "iv_reg2 = IV2SLS.from_formula(\"lwage ~  1 + exper + black + south + married + smsa + [educ ~ nearc2]\", data).fit()\n",
        "iv_reg2.summary"
      ],
      "metadata": {
        "colab": {
          "base_uri": "https://localhost:8080/",
          "height": 456
        },
        "id": "MBJ8XwlVSNqW",
        "outputId": "928890ad-fccb-4af7-fdd8-2b9a624e64e0"
      },
      "execution_count": 22,
      "outputs": [
        {
          "output_type": "execute_result",
          "data": {
            "text/plain": [
              "<class 'linearmodels.compat.statsmodels.Summary'>\n",
              "\"\"\"\n",
              "                          IV-2SLS Estimation Summary                          \n",
              "==============================================================================\n",
              "Dep. Variable:                  lwage   R-squared:                     -1.3114\n",
              "Estimator:                    IV-2SLS   Adj. R-squared:                -1.3160\n",
              "No. Observations:                3010   F-statistic:                    289.62\n",
              "Date:                Sun, Nov 13 2022   P-value (F-stat)                0.0000\n",
              "Time:                        20:32:24   Distribution:                  chi2(6)\n",
              "Cov. Estimator:                robust                                         \n",
              "                                                                              \n",
              "                             Parameter Estimates                              \n",
              "==============================================================================\n",
              "            Parameter  Std. Err.     T-stat    P-value    Lower CI    Upper CI\n",
              "------------------------------------------------------------------------------\n",
              "Intercept      0.1276     3.1412     0.0406     0.9676     -6.0290      6.2843\n",
              "black          0.1134     0.1816     0.6244     0.5324     -0.2425      0.4692\n",
              "exper          0.1515     0.0747     2.0274     0.0426      0.0050      0.2980\n",
              "married       -0.0151     0.0147    -1.0258     0.3050     -0.0438      0.0137\n",
              "smsa           0.0201     0.1030     0.1949     0.8455     -0.1819      0.2220\n",
              "south         -0.0319     0.0692    -0.4603     0.6453     -0.1675      0.1038\n",
              "educ           0.3618     0.1849     1.9562     0.0504     -0.0007      0.7243\n",
              "==============================================================================\n",
              "\n",
              "Endogenous: educ\n",
              "Instruments: nearc2\n",
              "Robust Covariance (Heteroskedastic)\n",
              "Debiased: False\n",
              "\"\"\""
            ],
            "text/html": [
              "<table class=\"simpletable\">\n",
              "<caption>IV-2SLS Estimation Summary</caption>\n",
              "<tr>\n",
              "  <th>Dep. Variable:</th>          <td>lwage</td>      <th>  R-squared:         </th> <td>-1.3114</td>\n",
              "</tr>\n",
              "<tr>\n",
              "  <th>Estimator:</th>             <td>IV-2SLS</td>     <th>  Adj. R-squared:    </th> <td>-1.3160</td>\n",
              "</tr>\n",
              "<tr>\n",
              "  <th>No. Observations:</th>       <td>3010</td>       <th>  F-statistic:       </th> <td>289.62</td> \n",
              "</tr>\n",
              "<tr>\n",
              "  <th>Date:</th>             <td>Sun, Nov 13 2022</td> <th>  P-value (F-stat)   </th> <td>0.0000</td> \n",
              "</tr>\n",
              "<tr>\n",
              "  <th>Time:</th>                 <td>20:32:24</td>     <th>  Distribution:      </th> <td>chi2(6)</td>\n",
              "</tr>\n",
              "<tr>\n",
              "  <th>Cov. Estimator:</th>        <td>robust</td>      <th>                     </th>    <td></td>    \n",
              "</tr>\n",
              "<tr>\n",
              "  <th></th>                          <td></td>         <th>                     </th>    <td></td>    \n",
              "</tr>\n",
              "</table>\n",
              "<table class=\"simpletable\">\n",
              "<caption>Parameter Estimates</caption>\n",
              "<tr>\n",
              "      <td></td>      <th>Parameter</th> <th>Std. Err.</th> <th>T-stat</th>  <th>P-value</th> <th>Lower CI</th> <th>Upper CI</th>\n",
              "</tr>\n",
              "<tr>\n",
              "  <th>Intercept</th>  <td>0.1276</td>    <td>3.1412</td>   <td>0.0406</td>  <td>0.9676</td>   <td>-6.0290</td>  <td>6.2843</td> \n",
              "</tr>\n",
              "<tr>\n",
              "  <th>black</th>      <td>0.1134</td>    <td>0.1816</td>   <td>0.6244</td>  <td>0.5324</td>   <td>-0.2425</td>  <td>0.4692</td> \n",
              "</tr>\n",
              "<tr>\n",
              "  <th>exper</th>      <td>0.1515</td>    <td>0.0747</td>   <td>2.0274</td>  <td>0.0426</td>   <td>0.0050</td>   <td>0.2980</td> \n",
              "</tr>\n",
              "<tr>\n",
              "  <th>married</th>    <td>-0.0151</td>   <td>0.0147</td>   <td>-1.0258</td> <td>0.3050</td>   <td>-0.0438</td>  <td>0.0137</td> \n",
              "</tr>\n",
              "<tr>\n",
              "  <th>smsa</th>       <td>0.0201</td>    <td>0.1030</td>   <td>0.1949</td>  <td>0.8455</td>   <td>-0.1819</td>  <td>0.2220</td> \n",
              "</tr>\n",
              "<tr>\n",
              "  <th>south</th>      <td>-0.0319</td>   <td>0.0692</td>   <td>-0.4603</td> <td>0.6453</td>   <td>-0.1675</td>  <td>0.1038</td> \n",
              "</tr>\n",
              "<tr>\n",
              "  <th>educ</th>       <td>0.3618</td>    <td>0.1849</td>   <td>1.9562</td>  <td>0.0504</td>   <td>-0.0007</td>  <td>0.7243</td> \n",
              "</tr>\n",
              "</table><br/><br/>Endogenous: educ<br/>Instruments: nearc2<br/>Robust Covariance (Heteroskedastic)<br/>Debiased: False"
            ]
          },
          "metadata": {},
          "execution_count": 22
        }
      ]
    },
    {
      "cell_type": "markdown",
      "source": [
        "Intuición: El modelo de regresión logísitco seguro (OLS) es significativo y explica un 1.3% la variabilidad de la variable ingreso \"lwage\", expresado de manera logarítimica. El instrumento \"near2\" no es débil.\n",
        "\n",
        "Sin embarog, no todas las variables analizadas previamente son significativas debido a que no todas presentan un p.value menor a 0.05. Por lo que solo tomamos en cuenta la variable de experiencia laboral.\n",
        "\n",
        "Observaciones:\n",
        "\n",
        "Por cada año de experiencia laboral. el nivel de ingreso aumenta en 0.15 unidades logaritmicas.\n"
      ],
      "metadata": {
        "id": "i_UXTG4kK9Bi"
      }
    }
  ]
}