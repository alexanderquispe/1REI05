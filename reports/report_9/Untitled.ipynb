{
 "cells": [
  {
   "cell_type": "markdown",
   "id": "d64cf912",
   "metadata": {},
   "source": [
    "# REPORT 9\n",
    "## CLAUDIA CABREL\n",
    "### 20183351"
   ]
  },
  {
   "cell_type": "markdown",
   "id": "0445c5f8",
   "metadata": {},
   "source": [
    "* Social media and mental health - American Economic Review"
   ]
  },
  {
   "cell_type": "markdown",
   "id": "293a66ad",
   "metadata": {},
   "source": [
    "    ¿Cuál es la pregunta de investigación?\n",
    "    En el artículo de Braghieri, Levy y Makarin se observa que el tema central es la búsqueda de una relación causal entre el uso de las redes sociales, utilizando como principal ejemplo Facebook, y la salud mental de jóvenes y adultos.\n",
    "    ¿Fortalezas y debilidades?\n",
    "    Una fortaleza observada en el texto es que el autor contextualiza al lector acerca de la salud mental y las enfermedades o trastornos relacionadas a esta cuando no se encuentra estable. Hace mención y descripción de algunas enfermedades mentales, como lo son la ansiedad y la depresión, encontradas en los alumnos bajo el estudio. Asimismo, otra fortaleza es que, a pesar de haber utilizado una base relativamente amplia de variables que puedan afectar a la variable dependiente, los autores hacen uso de una data limpia y concreta y de esta forma logran obtener resultados claros. Sin embargo, la principal debilidad encontrada en el texto es que no existe un grupo de control definido, lo cual ocasiona que no se observe precisamente cuál fue la exposición de las variables influenciadas por Facebook.\n",
    "    ¿Aporte del autor a la pregunta de investigación?\n",
    "    Se comprende que la pregunta de investigación ha sido respondida gracias a los resultados obtenidos, fuertemente se comprobó que existe una relación estadística entre el uso de las redes sociales y una posible inestabilidad en la salud mental de quienes hacen uso de esta.\n",
    "    ¿Qué pasos pueden seguirse para aportar a la pregunta de investigación?\n",
    "    Los autores podrían agregar testimonios y una especia de focus groups con los estudiantes puestos en análisis en los que se entendería a mayor profundidad la relación de las redes sociales y la salud mental. De igual forma, sería una buena idea agregar otras redes sociales que sean de mayor uso en la actualidad, tal vez hacer una comparación de los resultados obtenidos en este estudio junto con un posible análisis de las mismas universidades y otras aplicaciones como Tiktok e Instagram."
   ]
  }
 ],
 "metadata": {
  "kernelspec": {
   "display_name": "Python 3 (ipykernel)",
   "language": "python",
   "name": "python3"
  },
  "language_info": {
   "codemirror_mode": {
    "name": "ipython",
    "version": 3
   },
   "file_extension": ".py",
   "mimetype": "text/x-python",
   "name": "python",
   "nbconvert_exporter": "python",
   "pygments_lexer": "ipython3",
   "version": "3.9.12"
  }
 },
 "nbformat": 4,
 "nbformat_minor": 5
}
