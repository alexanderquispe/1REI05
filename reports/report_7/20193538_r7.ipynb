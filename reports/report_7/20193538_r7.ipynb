{
 "cells": [
  {
   "cell_type": "markdown",
   "id": "60cebe18",
   "metadata": {},
   "source": [
    "# REPORTE 7\n",
    "**MariaJose Murillo Q.**\n",
    "**20193538**\n",
    "\n",
    "## Lectura\n",
    "Los autores, mediante el articulo “The Effects of Exposure to Better Neighborhoods on Children” nos ofrece una revisión al programa Moving to Opportunity (MTO), dirigido por el Departamento de Vivienda y Desarrollo Urbano de los Estados Unidos que ofrecía a las familias la oportunidad de mudarse a barrios de menor pobreza, llevado a cabo entre 1994 y 1998. Investigaciones anteriores sugieren que este cambio de entorno beneficio tanto como a la salud física y mental como al bienestar y seguridad de los adultos. Centrando el análisis en los niños, Wilson y Mayer (1990) ya sugerían que una infancia en condiciones de pobreza extrema conduce a efectos negativos en el rendimiento académico (finalización de la secundaria) mientras que Chetty y Hendren (2015), siguiendo esta línea, indican que vivir en una mejor área aumenta las tasas de asistencia a la universidad asi como ingresos. Es por ello que la pregunta que guía esta investigación es _¿Cuál es el impacto a largo plazo en los niños que eran jóvenes cuando sus familias se mudaron a mejores barrios?_, la cual es respondida teniendo una población experimental a más de 4 mil familias de bajos ingresos residentes de viviendas públicas o asistidas en distritos de alta pobreza de las ciudades de New York, Los Ángeles, Boston, Baltimore y Chicago del programa MTO, a quienes se les separan en 3 grupos aleatoriamente, quienes recibían un bono de vivienda protegida, quienes recibieron uno estándar sin contingencias adicionales y a quienes no se les ofreció nada.\n",
    "\n",
    "El articulo presenta muchas fortalezas, como por ejemplo, enmarcar el análisis costo beneficio del programa MTO en la política, en donde, como se explicara en los siguientes párrafos, a pesar de ser un plan gubernamental que beneficiara a miles de familias y contribuyentes, mejorando el futuro académico y profesional de niños y sus generaciones posteriores, no están bien orientados, dejando grupos que realmente lo necesitan en interminables listas de espera sin considerar como esto afectara el desempeño del programa. \n",
    "Otra fortaleza que se identifico es la diferenciación que existe entre los resultados encontrados entre niños de temprana edad expuestos a la mudanza con los mayores, ya que da a entender que el factor académico y económico por si solos no son lo suficientemente importantes para garantizar asistencias a las universidades o ingresos, si no también el factor social y psicológico, especialmente porque la investigación gira en torno a personas que no han alcanzando la adultez y que pueden verse influenciados fácilmente por su entorno, lo cual es confirmado al final del documento cuando menciona que “las condiciones ambientales en los primeros años de la niñez (por ejemplo, antes de los cinco años) tienen impactos a largo plazo mucho mayores que condiciones en años posteriores”\n",
    "En cuanto a las debilidades del artículo, considero que se centraron en ver los efectos negativos de las mudanzas en niños mayores de 13 años que no pudieron considerar otros resultados como la reducción de probabilidades de pertenecer a una pandilla (menos delincuencia), lo cual, si bien fue hallado en un estudio anterior, no fue reiterado en este, haciendo parecer que no existe ningún efecto positivo el mudarse a esa edad a un barrio que les dará más seguridad y bienestar.\n",
    "\n",
    "Para responder la pregunta, se plantean dos hipótesis, la primera es “Mudarse a un área de menor pobreza mejora los resultados económicos a largo plazo para los niños que eran pequeños al momento de la asignación aleatoria” y la segunda “Las ganancias de mudarse a un área de menor pobreza disminuyen con la edad del niño en el momento de la mudanza”.\n",
    "Como resultados, se obtuvo que los niños menores de 13 años pertenecientes al primer grupo tenían más probabilidades a largo plazo de asistir a la universidad (los autores puntualizan “a las mejores universidades”), además de vivir en vecindarios de menor pobreza cuando sean adultos y menores probabilidades de ser padres solteros. Los del segundo grupo. No obstante, para los mayores de 13 años, se observan resultados negativos, esto debido a que mudarse a un entorno diferente en la etapa de la adolescencia provoca un quiebre en las relaciones sociales asi como otros efectos adversos, lo cual afectara su asistencia a la universidad. Por otro lado, no se encontraron resultados significativos correspondientes a los impactos de la mudanza en los adultos.\n",
    "Mientras tanto, en los niños menores de 13 años pertenecientes al segundo grupo, se encontró que los ingresos individuales cuando sean mayores se incrementaran alrededor de la mitad de los ingresos del primer grupo. Otra diferencia entre estos y los del primer grupo es que tanto los menores y mayores de 13 años tendrán las mismas probabilidades de reducción de mono parentalidad y aumentos en la tasa de matrimonio.\n",
    "Sumado a estos hallazgos, los autores puntualizan en la importancia de cupones experimentales tipo MTO, en donde se pueden aumentar las ganancias individuales en la adultez a niños que solían vivir en condiciones de pobreza. Asimismo, el aumento de los ingresos de los niños que se mudaron incrementa los ingresos fiscales, reduciría el costo del programa para el gobierno, siendo fundamental su ejecución en familias con niños menores de 13 años para que estos puedan obtener los beneficios, en vez de ponerlos en listas de espera y hacer que reciban el bono cuando estos crezcan, lo cual resultaría contraproducente.\n",
    "\n",
    "Al finalizar el artículo, indican que el MTO tuvo más efectos positivos en niñas que en niños en resultados a mediano plazo, lo cual se puede entender con el artículo de Ceja (2021), en donde se indica que, al estar en una situación de pobreza, las mujeres en edad escolar se exponen a una mayor carga de trabajo doméstico, presentando índices de desnutrición y capacidades cognitivas mayores a las de los hombres, en especial aquellas que viven en entornos rurales. Sabiendo esto, el siguiente paso para la investigación podría ser profundizar en las brechas de genero existentes en la sociedad estadounidense, centrándose hacer una comparación entre los resultados académicos de las niñas y niños cuando están expuestos a entornos de pobreza y los de cuando están en \n",
    "Los autores indican que exploraron la heterogeneidad de los efectos del programa MTO por raza y etnia, en donde se obtuvo que este bono aumento los ingresos individuales y la calidad universitaria de los niños menores de 13 años de cada grupo racial, en donde considera a los hispanos, negros y blancos. Entonces, otro paso para avanzar en la pregunta seria cuestionar si existiría una diferencia entre estos diferentes grupos a pesar de haber tenido las mismas oportunidades y haberles augurado el mismo futuro económico y académico, esto es porque el porcentaje de la población en los Estados Unidos con la mayor tasa de pobreza pertenece a los afrodescendientes (19.5%) e hispanos (17%), mientras que los blancos solo representan un 8.2%. También se puede ampliar la pregunta orientando el estudio hacia los estados más pobres del país (Mississippi, Arkansas, Alabama, etc.) en vez de los tomados en cuenta para esta investigación (New York, Los Ángeles, Boston, Baltimore y Chicago), los cuales se encuentran en los estados mas ricos de EEUU (New York en 1er puesto de los más ricos; California, en el 5to; Massachusetts, en el 2ndo; Maryland, en el 8vo; Illinois, en el 11vo respectivamente) según su PBI per cápita, y asi averiguar si se producen los mismos resultados con el programa MTO o existen dificultades.\n",
    "\n",
    "\n",
    "**REFERENCIAS**\n",
    "- Ceja, S., Cespedes, S., Pacheco, E. & Vasquez, L. (2021) *Pobreza, género y emprendimiento en estudiantes de una institución de educación superior* https://www.cucs.udg.mx/revistas/edu_desarrollo/anteriores/59/59_Vazquez.pdf\n",
    "- Fernandez, R (2021) *Tasa de pobreza en Estados Unidos en 2020, por grupo étnico* https://es.statista.com/estadisticas/634043/tasa-de-pobreza-en-estados-unidos-en--por-grupo-etnico/ \n",
    "- Bureau of Economic Analysis (s.f.) https://www.bea.gov/data/gdp/gdp-state \n"
   ]
  },
  {
   "cell_type": "code",
   "execution_count": 1,
   "id": "84f3236a",
   "metadata": {},
   "outputs": [],
   "source": [
    "import numpy as np \n",
    "import pandas as pd \n",
    "import statsmodels.api as sm \n",
    "import statsmodels.formula.api as smf \n",
    "from itertools import combinations\n",
    "import plotnine as p\n",
    "import seaborn as sns"
   ]
  },
  {
   "cell_type": "markdown",
   "id": "e586d167",
   "metadata": {},
   "source": [
    "## CODIGO\n",
    "## 1) Ploteo de Histogramas"
   ]
  },
  {
   "cell_type": "code",
   "execution_count": 4,
   "id": "0ac58572",
   "metadata": {
    "scrolled": false
   },
   "outputs": [
    {
     "name": "stdout",
     "output_type": "stream",
     "text": [
      "(323, 10)\n"
     ]
    },
    {
     "data": {
      "text/html": [
       "<div>\n",
       "<style scoped>\n",
       "    .dataframe tbody tr th:only-of-type {\n",
       "        vertical-align: middle;\n",
       "    }\n",
       "\n",
       "    .dataframe tbody tr th {\n",
       "        vertical-align: top;\n",
       "    }\n",
       "\n",
       "    .dataframe thead th {\n",
       "        text-align: right;\n",
       "    }\n",
       "</style>\n",
       "<table border=\"1\" class=\"dataframe\">\n",
       "  <thead>\n",
       "    <tr style=\"text-align: right;\">\n",
       "      <th></th>\n",
       "      <th>gender</th>\n",
       "      <th>asian</th>\n",
       "      <th>black</th>\n",
       "      <th>hawaiian</th>\n",
       "      <th>hispanic</th>\n",
       "      <th>unknown</th>\n",
       "      <th>white</th>\n",
       "      <th>format_ol</th>\n",
       "      <th>format_blended</th>\n",
       "      <th>falsexam</th>\n",
       "    </tr>\n",
       "  </thead>\n",
       "  <tbody>\n",
       "    <tr>\n",
       "      <th>0</th>\n",
       "      <td>0</td>\n",
       "      <td>0.0</td>\n",
       "      <td>0.0</td>\n",
       "      <td>0.0</td>\n",
       "      <td>0.0</td>\n",
       "      <td>0.0</td>\n",
       "      <td>1.0</td>\n",
       "      <td>0</td>\n",
       "      <td>0.0</td>\n",
       "      <td>63.29997</td>\n",
       "    </tr>\n",
       "    <tr>\n",
       "      <th>1</th>\n",
       "      <td>1</td>\n",
       "      <td>0.0</td>\n",
       "      <td>0.0</td>\n",
       "      <td>0.0</td>\n",
       "      <td>0.0</td>\n",
       "      <td>0.0</td>\n",
       "      <td>1.0</td>\n",
       "      <td>0</td>\n",
       "      <td>0.0</td>\n",
       "      <td>79.96000</td>\n",
       "    </tr>\n",
       "    <tr>\n",
       "      <th>2</th>\n",
       "      <td>1</td>\n",
       "      <td>0.0</td>\n",
       "      <td>0.0</td>\n",
       "      <td>0.0</td>\n",
       "      <td>0.0</td>\n",
       "      <td>0.0</td>\n",
       "      <td>1.0</td>\n",
       "      <td>0</td>\n",
       "      <td>1.0</td>\n",
       "      <td>83.37000</td>\n",
       "    </tr>\n",
       "    <tr>\n",
       "      <th>3</th>\n",
       "      <td>1</td>\n",
       "      <td>0.0</td>\n",
       "      <td>0.0</td>\n",
       "      <td>0.0</td>\n",
       "      <td>0.0</td>\n",
       "      <td>0.0</td>\n",
       "      <td>1.0</td>\n",
       "      <td>0</td>\n",
       "      <td>1.0</td>\n",
       "      <td>90.01994</td>\n",
       "    </tr>\n",
       "    <tr>\n",
       "      <th>4</th>\n",
       "      <td>1</td>\n",
       "      <td>0.0</td>\n",
       "      <td>0.0</td>\n",
       "      <td>0.0</td>\n",
       "      <td>0.0</td>\n",
       "      <td>0.0</td>\n",
       "      <td>1.0</td>\n",
       "      <td>1</td>\n",
       "      <td>0.0</td>\n",
       "      <td>83.30000</td>\n",
       "    </tr>\n",
       "  </tbody>\n",
       "</table>\n",
       "</div>"
      ],
      "text/plain": [
       "   gender  asian  black  hawaiian  hispanic  unknown  white  format_ol  \\\n",
       "0       0    0.0    0.0       0.0       0.0      0.0    1.0          0   \n",
       "1       1    0.0    0.0       0.0       0.0      0.0    1.0          0   \n",
       "2       1    0.0    0.0       0.0       0.0      0.0    1.0          0   \n",
       "3       1    0.0    0.0       0.0       0.0      0.0    1.0          0   \n",
       "4       1    0.0    0.0       0.0       0.0      0.0    1.0          1   \n",
       "\n",
       "   format_blended  falsexam  \n",
       "0             0.0  63.29997  \n",
       "1             0.0  79.96000  \n",
       "2             1.0  83.37000  \n",
       "3             1.0  90.01994  \n",
       "4             0.0  83.30000  "
      ]
     },
     "execution_count": 4,
     "metadata": {},
     "output_type": "execute_result"
    }
   ],
   "source": [
    "data = pd.read_csv('https://github.com/matheusfacure/python-causality-handbook/raw/master/causal-inference-for-the-brave-and-true/data/online_classroom.csv')\n",
    "print(data.shape)\n",
    "data.head()"
   ]
  },
  {
   "cell_type": "code",
   "execution_count": 50,
   "id": "829ec898",
   "metadata": {},
   "outputs": [],
   "source": [
    "# creado una columna extra para clasificar\n",
    "data_2 = (data\n",
    " .assign(class_format = np.select(\n",
    "     [data[\"format_ol\"].astype(bool), data[\"format_blended\"].astype(bool)],\n",
    "     [\"online\", \"blended\"],\n",
    "     default=\"face_to_face\" #create a new variable\n",
    " ))) #group by the new variable (treatments)"
   ]
  },
  {
   "cell_type": "code",
   "execution_count": 6,
   "id": "68b953f7",
   "metadata": {},
   "outputs": [
    {
     "data": {
      "text/html": [
       "<div>\n",
       "<style scoped>\n",
       "    .dataframe tbody tr th:only-of-type {\n",
       "        vertical-align: middle;\n",
       "    }\n",
       "\n",
       "    .dataframe tbody tr th {\n",
       "        vertical-align: top;\n",
       "    }\n",
       "\n",
       "    .dataframe thead th {\n",
       "        text-align: right;\n",
       "    }\n",
       "</style>\n",
       "<table border=\"1\" class=\"dataframe\">\n",
       "  <thead>\n",
       "    <tr style=\"text-align: right;\">\n",
       "      <th></th>\n",
       "      <th>gender</th>\n",
       "      <th>asian</th>\n",
       "      <th>black</th>\n",
       "      <th>hawaiian</th>\n",
       "      <th>hispanic</th>\n",
       "      <th>unknown</th>\n",
       "      <th>white</th>\n",
       "      <th>format_ol</th>\n",
       "      <th>format_blended</th>\n",
       "      <th>falsexam</th>\n",
       "      <th>class_format</th>\n",
       "    </tr>\n",
       "  </thead>\n",
       "  <tbody>\n",
       "    <tr>\n",
       "      <th>0</th>\n",
       "      <td>0</td>\n",
       "      <td>0.0</td>\n",
       "      <td>0.0</td>\n",
       "      <td>0.0</td>\n",
       "      <td>0.0</td>\n",
       "      <td>0.0</td>\n",
       "      <td>1.0</td>\n",
       "      <td>0</td>\n",
       "      <td>0.0</td>\n",
       "      <td>63.29997</td>\n",
       "      <td>face_to_face</td>\n",
       "    </tr>\n",
       "    <tr>\n",
       "      <th>1</th>\n",
       "      <td>1</td>\n",
       "      <td>0.0</td>\n",
       "      <td>0.0</td>\n",
       "      <td>0.0</td>\n",
       "      <td>0.0</td>\n",
       "      <td>0.0</td>\n",
       "      <td>1.0</td>\n",
       "      <td>0</td>\n",
       "      <td>0.0</td>\n",
       "      <td>79.96000</td>\n",
       "      <td>face_to_face</td>\n",
       "    </tr>\n",
       "    <tr>\n",
       "      <th>2</th>\n",
       "      <td>1</td>\n",
       "      <td>0.0</td>\n",
       "      <td>0.0</td>\n",
       "      <td>0.0</td>\n",
       "      <td>0.0</td>\n",
       "      <td>0.0</td>\n",
       "      <td>1.0</td>\n",
       "      <td>0</td>\n",
       "      <td>1.0</td>\n",
       "      <td>83.37000</td>\n",
       "      <td>blended</td>\n",
       "    </tr>\n",
       "    <tr>\n",
       "      <th>3</th>\n",
       "      <td>1</td>\n",
       "      <td>0.0</td>\n",
       "      <td>0.0</td>\n",
       "      <td>0.0</td>\n",
       "      <td>0.0</td>\n",
       "      <td>0.0</td>\n",
       "      <td>1.0</td>\n",
       "      <td>0</td>\n",
       "      <td>1.0</td>\n",
       "      <td>90.01994</td>\n",
       "      <td>blended</td>\n",
       "    </tr>\n",
       "    <tr>\n",
       "      <th>4</th>\n",
       "      <td>1</td>\n",
       "      <td>0.0</td>\n",
       "      <td>0.0</td>\n",
       "      <td>0.0</td>\n",
       "      <td>0.0</td>\n",
       "      <td>0.0</td>\n",
       "      <td>1.0</td>\n",
       "      <td>1</td>\n",
       "      <td>0.0</td>\n",
       "      <td>83.30000</td>\n",
       "      <td>online</td>\n",
       "    </tr>\n",
       "    <tr>\n",
       "      <th>...</th>\n",
       "      <td>...</td>\n",
       "      <td>...</td>\n",
       "      <td>...</td>\n",
       "      <td>...</td>\n",
       "      <td>...</td>\n",
       "      <td>...</td>\n",
       "      <td>...</td>\n",
       "      <td>...</td>\n",
       "      <td>...</td>\n",
       "      <td>...</td>\n",
       "      <td>...</td>\n",
       "    </tr>\n",
       "    <tr>\n",
       "      <th>318</th>\n",
       "      <td>0</td>\n",
       "      <td>0.0</td>\n",
       "      <td>0.0</td>\n",
       "      <td>0.0</td>\n",
       "      <td>0.0</td>\n",
       "      <td>0.0</td>\n",
       "      <td>1.0</td>\n",
       "      <td>0</td>\n",
       "      <td>1.0</td>\n",
       "      <td>68.36000</td>\n",
       "      <td>blended</td>\n",
       "    </tr>\n",
       "    <tr>\n",
       "      <th>319</th>\n",
       "      <td>1</td>\n",
       "      <td>NaN</td>\n",
       "      <td>NaN</td>\n",
       "      <td>NaN</td>\n",
       "      <td>NaN</td>\n",
       "      <td>NaN</td>\n",
       "      <td>NaN</td>\n",
       "      <td>1</td>\n",
       "      <td>0.0</td>\n",
       "      <td>70.05000</td>\n",
       "      <td>online</td>\n",
       "    </tr>\n",
       "    <tr>\n",
       "      <th>320</th>\n",
       "      <td>0</td>\n",
       "      <td>NaN</td>\n",
       "      <td>NaN</td>\n",
       "      <td>NaN</td>\n",
       "      <td>NaN</td>\n",
       "      <td>NaN</td>\n",
       "      <td>NaN</td>\n",
       "      <td>1</td>\n",
       "      <td>0.0</td>\n",
       "      <td>66.69000</td>\n",
       "      <td>online</td>\n",
       "    </tr>\n",
       "    <tr>\n",
       "      <th>321</th>\n",
       "      <td>1</td>\n",
       "      <td>NaN</td>\n",
       "      <td>NaN</td>\n",
       "      <td>NaN</td>\n",
       "      <td>NaN</td>\n",
       "      <td>NaN</td>\n",
       "      <td>NaN</td>\n",
       "      <td>1</td>\n",
       "      <td>0.0</td>\n",
       "      <td>83.29997</td>\n",
       "      <td>online</td>\n",
       "    </tr>\n",
       "    <tr>\n",
       "      <th>322</th>\n",
       "      <td>1</td>\n",
       "      <td>0.0</td>\n",
       "      <td>0.0</td>\n",
       "      <td>0.0</td>\n",
       "      <td>0.0</td>\n",
       "      <td>0.0</td>\n",
       "      <td>1.0</td>\n",
       "      <td>0</td>\n",
       "      <td>1.0</td>\n",
       "      <td>96.68000</td>\n",
       "      <td>blended</td>\n",
       "    </tr>\n",
       "  </tbody>\n",
       "</table>\n",
       "<p>323 rows × 11 columns</p>\n",
       "</div>"
      ],
      "text/plain": [
       "     gender  asian  black  hawaiian  hispanic  unknown  white  format_ol  \\\n",
       "0         0    0.0    0.0       0.0       0.0      0.0    1.0          0   \n",
       "1         1    0.0    0.0       0.0       0.0      0.0    1.0          0   \n",
       "2         1    0.0    0.0       0.0       0.0      0.0    1.0          0   \n",
       "3         1    0.0    0.0       0.0       0.0      0.0    1.0          0   \n",
       "4         1    0.0    0.0       0.0       0.0      0.0    1.0          1   \n",
       "..      ...    ...    ...       ...       ...      ...    ...        ...   \n",
       "318       0    0.0    0.0       0.0       0.0      0.0    1.0          0   \n",
       "319       1    NaN    NaN       NaN       NaN      NaN    NaN          1   \n",
       "320       0    NaN    NaN       NaN       NaN      NaN    NaN          1   \n",
       "321       1    NaN    NaN       NaN       NaN      NaN    NaN          1   \n",
       "322       1    0.0    0.0       0.0       0.0      0.0    1.0          0   \n",
       "\n",
       "     format_blended  falsexam  class_format  \n",
       "0               0.0  63.29997  face_to_face  \n",
       "1               0.0  79.96000  face_to_face  \n",
       "2               1.0  83.37000       blended  \n",
       "3               1.0  90.01994       blended  \n",
       "4               0.0  83.30000        online  \n",
       "..              ...       ...           ...  \n",
       "318             1.0  68.36000       blended  \n",
       "319             0.0  70.05000        online  \n",
       "320             0.0  66.69000        online  \n",
       "321             0.0  83.29997        online  \n",
       "322             1.0  96.68000       blended  \n",
       "\n",
       "[323 rows x 11 columns]"
      ]
     },
     "execution_count": 6,
     "metadata": {},
     "output_type": "execute_result"
    }
   ],
   "source": [
    "data_2"
   ]
  },
  {
   "cell_type": "code",
   "execution_count": 7,
   "id": "c28fa16b",
   "metadata": {
    "scrolled": true
   },
   "outputs": [
    {
     "data": {
      "text/html": [
       "<div>\n",
       "<style scoped>\n",
       "    .dataframe tbody tr th:only-of-type {\n",
       "        vertical-align: middle;\n",
       "    }\n",
       "\n",
       "    .dataframe tbody tr th {\n",
       "        vertical-align: top;\n",
       "    }\n",
       "\n",
       "    .dataframe thead th {\n",
       "        text-align: right;\n",
       "    }\n",
       "</style>\n",
       "<table border=\"1\" class=\"dataframe\">\n",
       "  <thead>\n",
       "    <tr style=\"text-align: right;\">\n",
       "      <th></th>\n",
       "      <th>gender</th>\n",
       "      <th>asian</th>\n",
       "      <th>black</th>\n",
       "      <th>hawaiian</th>\n",
       "      <th>hispanic</th>\n",
       "      <th>unknown</th>\n",
       "      <th>white</th>\n",
       "      <th>format_ol</th>\n",
       "      <th>format_blended</th>\n",
       "      <th>falsexam</th>\n",
       "    </tr>\n",
       "    <tr>\n",
       "      <th>class_format</th>\n",
       "      <th></th>\n",
       "      <th></th>\n",
       "      <th></th>\n",
       "      <th></th>\n",
       "      <th></th>\n",
       "      <th></th>\n",
       "      <th></th>\n",
       "      <th></th>\n",
       "      <th></th>\n",
       "      <th></th>\n",
       "    </tr>\n",
       "  </thead>\n",
       "  <tbody>\n",
       "    <tr>\n",
       "      <th>blended</th>\n",
       "      <td>0.550459</td>\n",
       "      <td>0.217949</td>\n",
       "      <td>0.102564</td>\n",
       "      <td>0.025641</td>\n",
       "      <td>0.012821</td>\n",
       "      <td>0.012821</td>\n",
       "      <td>0.628205</td>\n",
       "      <td>0.0</td>\n",
       "      <td>1.0</td>\n",
       "      <td>77.093731</td>\n",
       "    </tr>\n",
       "    <tr>\n",
       "      <th>face_to_face</th>\n",
       "      <td>0.633333</td>\n",
       "      <td>0.202020</td>\n",
       "      <td>0.070707</td>\n",
       "      <td>0.000000</td>\n",
       "      <td>0.010101</td>\n",
       "      <td>0.000000</td>\n",
       "      <td>0.717172</td>\n",
       "      <td>0.0</td>\n",
       "      <td>0.0</td>\n",
       "      <td>78.547485</td>\n",
       "    </tr>\n",
       "    <tr>\n",
       "      <th>online</th>\n",
       "      <td>0.542553</td>\n",
       "      <td>0.228571</td>\n",
       "      <td>0.028571</td>\n",
       "      <td>0.014286</td>\n",
       "      <td>0.028571</td>\n",
       "      <td>0.000000</td>\n",
       "      <td>0.700000</td>\n",
       "      <td>1.0</td>\n",
       "      <td>0.0</td>\n",
       "      <td>73.635263</td>\n",
       "    </tr>\n",
       "  </tbody>\n",
       "</table>\n",
       "</div>"
      ],
      "text/plain": [
       "                gender     asian     black  hawaiian  hispanic   unknown  \\\n",
       "class_format                                                               \n",
       "blended       0.550459  0.217949  0.102564  0.025641  0.012821  0.012821   \n",
       "face_to_face  0.633333  0.202020  0.070707  0.000000  0.010101  0.000000   \n",
       "online        0.542553  0.228571  0.028571  0.014286  0.028571  0.000000   \n",
       "\n",
       "                 white  format_ol  format_blended   falsexam  \n",
       "class_format                                                  \n",
       "blended       0.628205        0.0             1.0  77.093731  \n",
       "face_to_face  0.717172        0.0             0.0  78.547485  \n",
       "online        0.700000        1.0             0.0  73.635263  "
      ]
     },
     "execution_count": 7,
     "metadata": {},
     "output_type": "execute_result"
    }
   ],
   "source": [
    "data_2.groupby([\"class_format\"]).mean()"
   ]
  },
  {
   "cell_type": "code",
   "execution_count": 8,
   "id": "b3526042",
   "metadata": {},
   "outputs": [
    {
     "name": "stdout",
     "output_type": "stream",
     "text": [
      "   class_format\n",
      "0       blended\n",
      "1  face_to_face\n",
      "2        online\n"
     ]
    },
    {
     "data": {
      "text/html": [
       "<div>\n",
       "<style scoped>\n",
       "    .dataframe tbody tr th:only-of-type {\n",
       "        vertical-align: middle;\n",
       "    }\n",
       "\n",
       "    .dataframe tbody tr th {\n",
       "        vertical-align: top;\n",
       "    }\n",
       "\n",
       "    .dataframe thead th {\n",
       "        text-align: right;\n",
       "    }\n",
       "</style>\n",
       "<table border=\"1\" class=\"dataframe\">\n",
       "  <thead>\n",
       "    <tr style=\"text-align: right;\">\n",
       "      <th></th>\n",
       "      <th>class_format_blended</th>\n",
       "      <th>class_format_face_to_face</th>\n",
       "      <th>class_format_online</th>\n",
       "    </tr>\n",
       "  </thead>\n",
       "  <tbody>\n",
       "    <tr>\n",
       "      <th>0</th>\n",
       "      <td>1</td>\n",
       "      <td>0</td>\n",
       "      <td>0</td>\n",
       "    </tr>\n",
       "    <tr>\n",
       "      <th>1</th>\n",
       "      <td>0</td>\n",
       "      <td>1</td>\n",
       "      <td>0</td>\n",
       "    </tr>\n",
       "    <tr>\n",
       "      <th>2</th>\n",
       "      <td>0</td>\n",
       "      <td>0</td>\n",
       "      <td>1</td>\n",
       "    </tr>\n",
       "  </tbody>\n",
       "</table>\n",
       "</div>"
      ],
      "text/plain": [
       "   class_format_blended  class_format_face_to_face  class_format_online\n",
       "0                     1                          0                    0\n",
       "1                     0                          1                    0\n",
       "2                     0                          0                    1"
      ]
     },
     "execution_count": 8,
     "metadata": {},
     "output_type": "execute_result"
    }
   ],
   "source": [
    "# create dataset\n",
    "df = pd.DataFrame({'class_format': ['blended', 'face_to_face', 'online'],\n",
    "                   })\n",
    " \n",
    "# display dataset\n",
    "print(df)\n",
    " \n",
    "# create dummy variables\n",
    "pd.get_dummies(df)"
   ]
  },
  {
   "cell_type": "markdown",
   "id": "5833ad03",
   "metadata": {},
   "source": [
    "### Face-to-face, Online lessons y Blended format:"
   ]
  },
  {
   "cell_type": "code",
   "execution_count": 42,
   "id": "996e95b9",
   "metadata": {},
   "outputs": [
    {
     "data": {
      "text/plain": [
       "[Text(0.5, 1.0, 'HISTOGRAMA'), Text(0.5, 0, 'FORMATO DE CLASES')]"
      ]
     },
     "execution_count": 42,
     "metadata": {},
     "output_type": "execute_result"
    },
    {
     "data": {
      "image/png": "[encoded data removed]",
      "text/plain": [
       "<Figure size 432x288 with 1 Axes>"
      ]
     },
     "metadata": {
      "needs_background": "light"
     },
     "output_type": "display_data"
    }
   ],
   "source": [
    "grafico = sns.countplot (x='class_format', palette='ocean', data=data_2)\n",
    "grafico.set(title='HISTOGRAMA', xlabel='FORMATO DE CLASES')"
   ]
  },
  {
   "cell_type": "markdown",
   "id": "7f514cda",
   "metadata": {},
   "source": [
    "## Graficos separados"
   ]
  },
  {
   "cell_type": "code",
   "execution_count": 58,
   "id": "45e59311",
   "metadata": {},
   "outputs": [
    {
     "data": {
      "text/plain": [
       "<seaborn.axisgrid.FacetGrid at 0x1ec92515dc0>"
      ]
     },
     "execution_count": 58,
     "metadata": {},
     "output_type": "execute_result"
    },
    {
     "data": {
      "image/png": "[encoded data removed]",
      "text/plain": [
       "<Figure size 1080x360 with 3 Axes>"
      ]
     },
     "metadata": {
      "needs_background": "light"
     },
     "output_type": "display_data"
    }
   ],
   "source": [
    "sns.displot(data_2, x=\"falsexam\", col=\"class_format\", color='green')"
   ]
  },
  {
   "cell_type": "markdown",
   "id": "669a2d6f",
   "metadata": {},
   "source": [
    "## Comparacion de graficos"
   ]
  },
  {
   "cell_type": "code",
   "execution_count": 59,
   "id": "983576e1",
   "metadata": {},
   "outputs": [
    {
     "data": {
      "text/plain": [
       "<seaborn.axisgrid.FacetGrid at 0x1ec91ae1f70>"
      ]
     },
     "execution_count": 59,
     "metadata": {},
     "output_type": "execute_result"
    },
    {
     "data": {
      "image/png": "[encoded data removed]",
      "text/plain": [
       "<Figure size 458.625x360 with 1 Axes>"
      ]
     },
     "metadata": {
      "needs_background": "light"
     },
     "output_type": "display_data"
    }
   ],
   "source": [
    "sns.displot(data_2, x=\"falsexam\", hue=\"class_format\", multiple=\"stack\")"
   ]
  },
  {
   "cell_type": "markdown",
   "id": "133f7bea",
   "metadata": {},
   "source": [
    "### DEL GRAFICO:\n",
    "**A simple vista, podemos observar que las clases en linea hacen que los estudiantes rindan menos de el promedio, mientras que las clases presenciales son las que muestran un mayor rendimiento academico entre sus estudiantes. Estas clases son las que tambien poseen la mayor cantidad de estudiantes probados (x>60) y quienes alcanzaron el puntaje del 100, lo cual demuestra la efectividad de la educacion presencial. Por otro lado, si bien las clases hibridas tampoco se quedan atras en cuanto rendimiento academico se trate, es en donde se presentan notas menores a 60, en donde si bien nos hace dudar de su efectividad, son mejores comparadas a las de las clases en linea. Acerca de estas ultimas, es el unico formato de clase donde se encuentra la menor nota (cero) asi como menor cantidad de estudiantes con notas mayores a 60, lo cual es realmente preocupante, especialmente si tomamos en cuenta que esta fue la modalidad que se tomo al momento de la pandemia**\n",
    "\n",
    "Los resultados de la observacion de los graficos se pueden demostrar numericamente si tomamos en cuenta la penultima tabla"
   ]
  },
  {
   "cell_type": "code",
   "execution_count": 60,
   "id": "f9ac813a",
   "metadata": {},
   "outputs": [
    {
     "data": {
      "text/html": [
       "<div>\n",
       "<style scoped>\n",
       "    .dataframe tbody tr th:only-of-type {\n",
       "        vertical-align: middle;\n",
       "    }\n",
       "\n",
       "    .dataframe tbody tr th {\n",
       "        vertical-align: top;\n",
       "    }\n",
       "\n",
       "    .dataframe thead th {\n",
       "        text-align: right;\n",
       "    }\n",
       "</style>\n",
       "<table border=\"1\" class=\"dataframe\">\n",
       "  <thead>\n",
       "    <tr style=\"text-align: right;\">\n",
       "      <th></th>\n",
       "      <th>gender</th>\n",
       "      <th>asian</th>\n",
       "      <th>black</th>\n",
       "      <th>hawaiian</th>\n",
       "      <th>hispanic</th>\n",
       "      <th>unknown</th>\n",
       "      <th>white</th>\n",
       "      <th>format_ol</th>\n",
       "      <th>format_blended</th>\n",
       "      <th>falsexam</th>\n",
       "    </tr>\n",
       "    <tr>\n",
       "      <th>class_format</th>\n",
       "      <th></th>\n",
       "      <th></th>\n",
       "      <th></th>\n",
       "      <th></th>\n",
       "      <th></th>\n",
       "      <th></th>\n",
       "      <th></th>\n",
       "      <th></th>\n",
       "      <th></th>\n",
       "      <th></th>\n",
       "    </tr>\n",
       "  </thead>\n",
       "  <tbody>\n",
       "    <tr>\n",
       "      <th>blended</th>\n",
       "      <td>0.550459</td>\n",
       "      <td>0.217949</td>\n",
       "      <td>0.102564</td>\n",
       "      <td>0.025641</td>\n",
       "      <td>0.012821</td>\n",
       "      <td>0.012821</td>\n",
       "      <td>0.628205</td>\n",
       "      <td>0.0</td>\n",
       "      <td>1.0</td>\n",
       "      <td>77.093731</td>\n",
       "    </tr>\n",
       "    <tr>\n",
       "      <th>face_to_face</th>\n",
       "      <td>0.633333</td>\n",
       "      <td>0.202020</td>\n",
       "      <td>0.070707</td>\n",
       "      <td>0.000000</td>\n",
       "      <td>0.010101</td>\n",
       "      <td>0.000000</td>\n",
       "      <td>0.717172</td>\n",
       "      <td>0.0</td>\n",
       "      <td>0.0</td>\n",
       "      <td>78.547485</td>\n",
       "    </tr>\n",
       "    <tr>\n",
       "      <th>online</th>\n",
       "      <td>0.542553</td>\n",
       "      <td>0.228571</td>\n",
       "      <td>0.028571</td>\n",
       "      <td>0.014286</td>\n",
       "      <td>0.028571</td>\n",
       "      <td>0.000000</td>\n",
       "      <td>0.700000</td>\n",
       "      <td>1.0</td>\n",
       "      <td>0.0</td>\n",
       "      <td>73.635263</td>\n",
       "    </tr>\n",
       "  </tbody>\n",
       "</table>\n",
       "</div>"
      ],
      "text/plain": [
       "                gender     asian     black  hawaiian  hispanic   unknown  \\\n",
       "class_format                                                               \n",
       "blended       0.550459  0.217949  0.102564  0.025641  0.012821  0.012821   \n",
       "face_to_face  0.633333  0.202020  0.070707  0.000000  0.010101  0.000000   \n",
       "online        0.542553  0.228571  0.028571  0.014286  0.028571  0.000000   \n",
       "\n",
       "                 white  format_ol  format_blended   falsexam  \n",
       "class_format                                                  \n",
       "blended       0.628205        0.0             1.0  77.093731  \n",
       "face_to_face  0.717172        0.0             0.0  78.547485  \n",
       "online        0.700000        1.0             0.0  73.635263  "
      ]
     },
     "execution_count": 60,
     "metadata": {},
     "output_type": "execute_result"
    }
   ],
   "source": [
    "data_2.groupby([\"class_format\"]).mean()"
   ]
  },
  {
   "cell_type": "markdown",
   "id": "82f93159",
   "metadata": {},
   "source": [
    "## 2) DIFFERENCE-IN-MEANS ESTIMATOR"
   ]
  },
  {
   "cell_type": "code",
   "execution_count": 6,
   "id": "bcb4727b",
   "metadata": {},
   "outputs": [
    {
     "name": "stdout",
     "output_type": "stream",
     "text": [
      "(323, 10)\n"
     ]
    },
    {
     "data": {
      "text/html": [
       "<div>\n",
       "<style scoped>\n",
       "    .dataframe tbody tr th:only-of-type {\n",
       "        vertical-align: middle;\n",
       "    }\n",
       "\n",
       "    .dataframe tbody tr th {\n",
       "        vertical-align: top;\n",
       "    }\n",
       "\n",
       "    .dataframe thead th {\n",
       "        text-align: right;\n",
       "    }\n",
       "</style>\n",
       "<table border=\"1\" class=\"dataframe\">\n",
       "  <thead>\n",
       "    <tr style=\"text-align: right;\">\n",
       "      <th></th>\n",
       "      <th>gender</th>\n",
       "      <th>asian</th>\n",
       "      <th>black</th>\n",
       "      <th>hawaiian</th>\n",
       "      <th>hispanic</th>\n",
       "      <th>unknown</th>\n",
       "      <th>white</th>\n",
       "      <th>format_ol</th>\n",
       "      <th>format_blended</th>\n",
       "      <th>falsexam</th>\n",
       "    </tr>\n",
       "  </thead>\n",
       "  <tbody>\n",
       "    <tr>\n",
       "      <th>0</th>\n",
       "      <td>0</td>\n",
       "      <td>0.0</td>\n",
       "      <td>0.0</td>\n",
       "      <td>0.0</td>\n",
       "      <td>0.0</td>\n",
       "      <td>0.0</td>\n",
       "      <td>1.0</td>\n",
       "      <td>0</td>\n",
       "      <td>0.0</td>\n",
       "      <td>63.29997</td>\n",
       "    </tr>\n",
       "    <tr>\n",
       "      <th>1</th>\n",
       "      <td>1</td>\n",
       "      <td>0.0</td>\n",
       "      <td>0.0</td>\n",
       "      <td>0.0</td>\n",
       "      <td>0.0</td>\n",
       "      <td>0.0</td>\n",
       "      <td>1.0</td>\n",
       "      <td>0</td>\n",
       "      <td>0.0</td>\n",
       "      <td>79.96000</td>\n",
       "    </tr>\n",
       "    <tr>\n",
       "      <th>2</th>\n",
       "      <td>1</td>\n",
       "      <td>0.0</td>\n",
       "      <td>0.0</td>\n",
       "      <td>0.0</td>\n",
       "      <td>0.0</td>\n",
       "      <td>0.0</td>\n",
       "      <td>1.0</td>\n",
       "      <td>0</td>\n",
       "      <td>1.0</td>\n",
       "      <td>83.37000</td>\n",
       "    </tr>\n",
       "    <tr>\n",
       "      <th>3</th>\n",
       "      <td>1</td>\n",
       "      <td>0.0</td>\n",
       "      <td>0.0</td>\n",
       "      <td>0.0</td>\n",
       "      <td>0.0</td>\n",
       "      <td>0.0</td>\n",
       "      <td>1.0</td>\n",
       "      <td>0</td>\n",
       "      <td>1.0</td>\n",
       "      <td>90.01994</td>\n",
       "    </tr>\n",
       "    <tr>\n",
       "      <th>4</th>\n",
       "      <td>1</td>\n",
       "      <td>0.0</td>\n",
       "      <td>0.0</td>\n",
       "      <td>0.0</td>\n",
       "      <td>0.0</td>\n",
       "      <td>0.0</td>\n",
       "      <td>1.0</td>\n",
       "      <td>1</td>\n",
       "      <td>0.0</td>\n",
       "      <td>83.30000</td>\n",
       "    </tr>\n",
       "  </tbody>\n",
       "</table>\n",
       "</div>"
      ],
      "text/plain": [
       "   gender  asian  black  hawaiian  hispanic  unknown  white  format_ol  \\\n",
       "0       0    0.0    0.0       0.0       0.0      0.0    1.0          0   \n",
       "1       1    0.0    0.0       0.0       0.0      0.0    1.0          0   \n",
       "2       1    0.0    0.0       0.0       0.0      0.0    1.0          0   \n",
       "3       1    0.0    0.0       0.0       0.0      0.0    1.0          0   \n",
       "4       1    0.0    0.0       0.0       0.0      0.0    1.0          1   \n",
       "\n",
       "   format_blended  falsexam  \n",
       "0             0.0  63.29997  \n",
       "1             0.0  79.96000  \n",
       "2             1.0  83.37000  \n",
       "3             1.0  90.01994  \n",
       "4             0.0  83.30000  "
      ]
     },
     "execution_count": 6,
     "metadata": {},
     "output_type": "execute_result"
    }
   ],
   "source": [
    "data = pd.read_csv('https://github.com/matheusfacure/python-causality-handbook/raw/master/causal-inference-for-the-brave-and-true/data/online_classroom.csv')\n",
    "print(data.shape)\n",
    "data.head()"
   ]
  },
  {
   "cell_type": "code",
   "execution_count": 27,
   "id": "e2ee5116",
   "metadata": {},
   "outputs": [],
   "source": [
    "data = data.assign(format_ol_or_blended = data.format_ol + data.format_blended)\n",
    "data = data.assign(format_ftf = (data.format_ol_or_blended - 1)**2)"
   ]
  },
  {
   "cell_type": "code",
   "execution_count": 28,
   "id": "3fc6787a",
   "metadata": {},
   "outputs": [],
   "source": [
    "data= data.assign(valor_ol = data.format_ol*1, valor_blended = data.format_blended*2, valor_ftf = data.format_ftf*3)\n",
    "data = data.assign(format_type = data.valor_ol + data.valor_blended + data.valor_ftf)"
   ]
  },
  {
   "cell_type": "code",
   "execution_count": 29,
   "id": "2ebf84c6",
   "metadata": {},
   "outputs": [],
   "source": [
    "FAR = data[['format_type','falsexam']]\n",
    "separar=[1.0, 3.0]"
   ]
  },
  {
   "cell_type": "code",
   "execution_count": 30,
   "id": "7622a309",
   "metadata": {},
   "outputs": [
    {
     "data": {
      "text/html": [
       "<div>\n",
       "<style scoped>\n",
       "    .dataframe tbody tr th:only-of-type {\n",
       "        vertical-align: middle;\n",
       "    }\n",
       "\n",
       "    .dataframe tbody tr th {\n",
       "        vertical-align: top;\n",
       "    }\n",
       "\n",
       "    .dataframe thead th {\n",
       "        text-align: right;\n",
       "    }\n",
       "</style>\n",
       "<table border=\"1\" class=\"dataframe\">\n",
       "  <thead>\n",
       "    <tr style=\"text-align: right;\">\n",
       "      <th></th>\n",
       "      <th>falsexam</th>\n",
       "    </tr>\n",
       "    <tr>\n",
       "      <th>format_type</th>\n",
       "      <th></th>\n",
       "    </tr>\n",
       "  </thead>\n",
       "  <tbody>\n",
       "    <tr>\n",
       "      <th>1.0</th>\n",
       "      <td>73.635263</td>\n",
       "    </tr>\n",
       "    <tr>\n",
       "      <th>3.0</th>\n",
       "      <td>78.547485</td>\n",
       "    </tr>\n",
       "  </tbody>\n",
       "</table>\n",
       "</div>"
      ],
      "text/plain": [
       "              falsexam\n",
       "format_type           \n",
       "1.0          73.635263\n",
       "3.0          78.547485"
      ]
     },
     "execution_count": 30,
     "metadata": {},
     "output_type": "execute_result"
    }
   ],
   "source": [
    "Mod = FAR[FAR['format_type'].isin(separar)]\n",
    "Mod.groupby([\"format_type\"]).mean()"
   ]
  },
  {
   "cell_type": "code",
   "execution_count": 31,
   "id": "0a122a80",
   "metadata": {},
   "outputs": [
    {
     "data": {
      "text/plain": [
       "4.912222"
      ]
     },
     "execution_count": 31,
     "metadata": {},
     "output_type": "execute_result"
    }
   ],
   "source": [
    "Diference = 78.547485 - 73.635263\n",
    "Diference"
   ]
  },
  {
   "cell_type": "markdown",
   "id": "5e268ce0",
   "metadata": {},
   "source": [
    "### INTERPRETACION\n",
    "**Se puede hallar otra vez que las clases presenciales obtienen un mejor rendimiento en sus estudiantes a comparacion de las clases en lineas con una diferencia de $4.912222$, en otras palabras, los alumnos de las clases online rinden aproximadamente 5 puntos menos que la media estimada**"
   ]
  },
  {
   "cell_type": "markdown",
   "id": "8d599378",
   "metadata": {},
   "source": [
    "## 3) DIFFERENCE-IN-MEANS ESTIMATOR VIA LINEAR REGRESSION"
   ]
  },
  {
   "cell_type": "code",
   "execution_count": 3,
   "id": "8b252b60",
   "metadata": {},
   "outputs": [],
   "source": [
    "from scipy import stats\n",
    "from scipy.stats import norm\n",
    "import patsy\n",
    "from SyncRNG import SyncRNG\n",
    "import patsy\n",
    "%matplotlib inline\n",
    "import matplotlib\n",
    "import matplotlib.mlab as mlab\n",
    "import matplotlib.pyplot as plt\n",
    "import pyreadr\n",
    "import random\n",
    "import string\n",
    "import graphviz as gr\n",
    "import warnings\n",
    "warnings.filterwarnings('ignore')"
   ]
  },
  {
   "cell_type": "code",
   "execution_count": 14,
   "id": "f3fbd6e6",
   "metadata": {},
   "outputs": [
    {
     "data": {
      "text/plain": [
       "(323, 10)"
      ]
     },
     "execution_count": 14,
     "metadata": {},
     "output_type": "execute_result"
    }
   ],
   "source": [
    "data = pd.read_csv('https://github.com/matheusfacure/python-causality-handbook/raw/master/causal-inference-for-the-brave-and-true/data/online_classroom.csv')\n",
    "data.shape"
   ]
  },
  {
   "cell_type": "code",
   "execution_count": 15,
   "id": "b168ac02",
   "metadata": {},
   "outputs": [
    {
     "data": {
      "text/html": [
       "<div>\n",
       "<style scoped>\n",
       "    .dataframe tbody tr th:only-of-type {\n",
       "        vertical-align: middle;\n",
       "    }\n",
       "\n",
       "    .dataframe tbody tr th {\n",
       "        vertical-align: top;\n",
       "    }\n",
       "\n",
       "    .dataframe thead th {\n",
       "        text-align: right;\n",
       "    }\n",
       "</style>\n",
       "<table border=\"1\" class=\"dataframe\">\n",
       "  <thead>\n",
       "    <tr style=\"text-align: right;\">\n",
       "      <th></th>\n",
       "      <th>gender</th>\n",
       "      <th>asian</th>\n",
       "      <th>black</th>\n",
       "      <th>hawaiian</th>\n",
       "      <th>hispanic</th>\n",
       "      <th>unknown</th>\n",
       "      <th>white</th>\n",
       "      <th>format_ol</th>\n",
       "      <th>format_blended</th>\n",
       "      <th>falsexam</th>\n",
       "    </tr>\n",
       "  </thead>\n",
       "  <tbody>\n",
       "    <tr>\n",
       "      <th>0</th>\n",
       "      <td>0</td>\n",
       "      <td>0.0</td>\n",
       "      <td>0.0</td>\n",
       "      <td>0.0</td>\n",
       "      <td>0.0</td>\n",
       "      <td>0.0</td>\n",
       "      <td>1.0</td>\n",
       "      <td>0</td>\n",
       "      <td>0.0</td>\n",
       "      <td>63.29997</td>\n",
       "    </tr>\n",
       "    <tr>\n",
       "      <th>1</th>\n",
       "      <td>1</td>\n",
       "      <td>0.0</td>\n",
       "      <td>0.0</td>\n",
       "      <td>0.0</td>\n",
       "      <td>0.0</td>\n",
       "      <td>0.0</td>\n",
       "      <td>1.0</td>\n",
       "      <td>0</td>\n",
       "      <td>0.0</td>\n",
       "      <td>79.96000</td>\n",
       "    </tr>\n",
       "    <tr>\n",
       "      <th>2</th>\n",
       "      <td>1</td>\n",
       "      <td>0.0</td>\n",
       "      <td>0.0</td>\n",
       "      <td>0.0</td>\n",
       "      <td>0.0</td>\n",
       "      <td>0.0</td>\n",
       "      <td>1.0</td>\n",
       "      <td>0</td>\n",
       "      <td>1.0</td>\n",
       "      <td>83.37000</td>\n",
       "    </tr>\n",
       "    <tr>\n",
       "      <th>3</th>\n",
       "      <td>1</td>\n",
       "      <td>0.0</td>\n",
       "      <td>0.0</td>\n",
       "      <td>0.0</td>\n",
       "      <td>0.0</td>\n",
       "      <td>0.0</td>\n",
       "      <td>1.0</td>\n",
       "      <td>0</td>\n",
       "      <td>1.0</td>\n",
       "      <td>90.01994</td>\n",
       "    </tr>\n",
       "    <tr>\n",
       "      <th>4</th>\n",
       "      <td>1</td>\n",
       "      <td>0.0</td>\n",
       "      <td>0.0</td>\n",
       "      <td>0.0</td>\n",
       "      <td>0.0</td>\n",
       "      <td>0.0</td>\n",
       "      <td>1.0</td>\n",
       "      <td>1</td>\n",
       "      <td>0.0</td>\n",
       "      <td>83.30000</td>\n",
       "    </tr>\n",
       "  </tbody>\n",
       "</table>\n",
       "</div>"
      ],
      "text/plain": [
       "   gender  asian  black  hawaiian  hispanic  unknown  white  format_ol  \\\n",
       "0       0    0.0    0.0       0.0       0.0      0.0    1.0          0   \n",
       "1       1    0.0    0.0       0.0       0.0      0.0    1.0          0   \n",
       "2       1    0.0    0.0       0.0       0.0      0.0    1.0          0   \n",
       "3       1    0.0    0.0       0.0       0.0      0.0    1.0          0   \n",
       "4       1    0.0    0.0       0.0       0.0      0.0    1.0          1   \n",
       "\n",
       "   format_blended  falsexam  \n",
       "0             0.0  63.29997  \n",
       "1             0.0  79.96000  \n",
       "2             1.0  83.37000  \n",
       "3             1.0  90.01994  \n",
       "4             0.0  83.30000  "
      ]
     },
     "execution_count": 15,
     "metadata": {},
     "output_type": "execute_result"
    }
   ],
   "source": [
    "data.head()"
   ]
  },
  {
   "cell_type": "markdown",
   "id": "2cedb976",
   "metadata": {},
   "source": [
    "### Regresion Lineal"
   ]
  },
  {
   "cell_type": "code",
   "execution_count": 16,
   "id": "5c27e160",
   "metadata": {},
   "outputs": [
    {
     "data": {
      "text/html": [
       "<table class=\"simpletable\">\n",
       "<tr>\n",
       "      <td></td>         <th>coef</th>     <th>std err</th>      <th>t</th>      <th>P>|t|</th>  <th>[0.025</th>    <th>0.975]</th>  \n",
       "</tr>\n",
       "<tr>\n",
       "  <th>Intercept</th> <td>   78.5475</td> <td>    1.113</td> <td>   70.563</td> <td> 0.000</td> <td>   76.353</td> <td>   80.742</td>\n",
       "</tr>\n",
       "<tr>\n",
       "  <th>format_ol</th> <td>   -4.9122</td> <td>    1.680</td> <td>   -2.925</td> <td> 0.004</td> <td>   -8.223</td> <td>   -1.601</td>\n",
       "</tr>\n",
       "</table>"
      ],
      "text/plain": [
       "<class 'statsmodels.iolib.table.SimpleTable'>"
      ]
     },
     "execution_count": 16,
     "metadata": {},
     "output_type": "execute_result"
    }
   ],
   "source": [
    "data = pd.read_csv('https://github.com/matheusfacure/python-causality-handbook/raw/master/causal-inference-for-the-brave-and-true/data/online_classroom.csv').query(\"format_blended==0\")\n",
    "\n",
    "result = smf.ols('falsexam ~ format_ol', data=data).fit()\n",
    "result.summary().tables[1]"
   ]
  },
  {
   "cell_type": "code",
   "execution_count": 17,
   "id": "5cc67edf",
   "metadata": {},
   "outputs": [
    {
     "data": {
      "text/plain": [
       "format_ol\n",
       "0    78.547485\n",
       "1    73.635263\n",
       "Name: falsexam, dtype: float64"
      ]
     },
     "execution_count": 17,
     "metadata": {},
     "output_type": "execute_result"
    }
   ],
   "source": [
    "(data\n",
    " .groupby(\"format_ol\")\n",
    " [\"falsexam\"]\n",
    " .mean())"
   ]
  },
  {
   "cell_type": "markdown",
   "id": "7c71c723",
   "metadata": {},
   "source": [
    "Donde **\"0\"** representa a los estudiantes de la modalidad **face-to-face**, mientras que **\"1\"** representa a los de la modalidad **online**\n",
    "\n",
    "La regresion lineal es:\n",
    "\n",
    "$$Y = beta_0 + beta_1 * T + e$$\n",
    "\n",
    "Donde ya sabemos que **Y** equivale a **73.635263** por el resultado que nos dio el codigo anterior\n",
    "\n",
    "**Entonces para hallar $beta_0$:**"
   ]
  },
  {
   "cell_type": "code",
   "execution_count": 18,
   "id": "69af7571",
   "metadata": {},
   "outputs": [
    {
     "data": {
      "text/plain": [
       "array([-4.9122215 , 78.54748458])"
      ]
     },
     "execution_count": 18,
     "metadata": {},
     "output_type": "execute_result"
    }
   ],
   "source": [
    "X = data[[\"format_ol\"]].assign(intercep=1)\n",
    "y = data[\"falsexam\"]\n",
    "\n",
    "def regress(y, X): \n",
    "    return np.linalg.inv(X.T.dot(X)).dot(X.T.dot(y))\n",
    "\n",
    "beta = regress(y, X)\n",
    "beta"
   ]
  },
  {
   "cell_type": "markdown",
   "id": "bdd99e34",
   "metadata": {},
   "source": [
    "Ahora se quiere estimar el impacto causal de la variable $T$ en el resultado $Y$, y para estimar este efecto se usa la regresion con una unica variable.\n",
    "\n",
    "Tomando en cuenta que tenemos una sola variable de regresion $T$, el parametro asociado a esta sera dado por $beta_1$, en donde:\n",
    "\n",
    "$$beta_1 = \\frac{Cov(Y_i, T_i)}{Var(T_i)}$$\n",
    "\n",
    "Entonces, si nuestra variable $T$ se asigna aleatoriamente a Y, sera el average treatment effect, que se explicaria en el siguiente codigo:"
   ]
  },
  {
   "cell_type": "code",
   "execution_count": 19,
   "id": "5b21e82e",
   "metadata": {},
   "outputs": [
    {
     "data": {
      "text/plain": [
       "-4.912221498226954"
      ]
     },
     "execution_count": 19,
     "metadata": {},
     "output_type": "execute_result"
    }
   ],
   "source": [
    "kapa = data[\"falsexam\"].cov(data[\"format_ol\"]) / data[\"format_ol\"].var()\n",
    "kapa"
   ]
  },
  {
   "cell_type": "markdown",
   "id": "cd5c4dcf",
   "metadata": {},
   "source": [
    "Con este resultado podemos ver que el valor que encuentren para beta_1 es el average treatment effect es igual al Difference-in-means estimator encontrado arriba, es decir $4.9$"
   ]
  },
  {
   "cell_type": "markdown",
   "id": "f0a80221",
   "metadata": {},
   "source": [
    "**Finalmente para hallar el residuo, osea $e$\":**"
   ]
  },
  {
   "cell_type": "code",
   "execution_count": 20,
   "id": "9de174f5",
   "metadata": {},
   "outputs": [
    {
     "name": "stdout",
     "output_type": "stream",
     "text": [
      "Orthogonality imply that the dot product is zero: [-5.18696197e-13  1.64135372e-12]\n"
     ]
    },
    {
     "data": {
      "text/html": [
       "<div>\n",
       "<style scoped>\n",
       "    .dataframe tbody tr th:only-of-type {\n",
       "        vertical-align: middle;\n",
       "    }\n",
       "\n",
       "    .dataframe tbody tr th {\n",
       "        vertical-align: top;\n",
       "    }\n",
       "\n",
       "    .dataframe thead th {\n",
       "        text-align: right;\n",
       "    }\n",
       "</style>\n",
       "<table border=\"1\" class=\"dataframe\">\n",
       "  <thead>\n",
       "    <tr style=\"text-align: right;\">\n",
       "      <th></th>\n",
       "      <th>format_ol</th>\n",
       "      <th>e</th>\n",
       "    </tr>\n",
       "  </thead>\n",
       "  <tbody>\n",
       "    <tr>\n",
       "      <th>format_ol</th>\n",
       "      <td>1.000000e+00</td>\n",
       "      <td>-9.653303e-16</td>\n",
       "    </tr>\n",
       "    <tr>\n",
       "      <th>e</th>\n",
       "      <td>-9.653303e-16</td>\n",
       "      <td>1.000000e+00</td>\n",
       "    </tr>\n",
       "  </tbody>\n",
       "</table>\n",
       "</div>"
      ],
      "text/plain": [
       "              format_ol             e\n",
       "format_ol  1.000000e+00 -9.653303e-16\n",
       "e         -9.653303e-16  1.000000e+00"
      ]
     },
     "execution_count": 20,
     "metadata": {},
     "output_type": "execute_result"
    }
   ],
   "source": [
    "e = y - X.dot(beta)\n",
    "print(\"Orthogonality imply that the dot product is zero:\", np.dot(e, X))\n",
    "X[[\"format_ol\"]].assign(e=e).corr()"
   ]
  },
  {
   "cell_type": "markdown",
   "id": "95942cb6",
   "metadata": {},
   "source": [
    "### INTERPRETACION\n",
    "\n",
    "**Como ya se menciono, se puede observar que beta_1 equivale a -4.912221498226954, la cual es la diferencia entre el formato de clases online (73.635263 y representado por \"1\") y presencial (78.54748458 y representado por \"2\") que tambien se pudo apreciar en el primer ejercicio. Este resultado nos deja en claro la importancia de la enseñanza y la interaccion presencial, la cual se dejo de lado por el periodo de covid19**. \n",
    "\n",
    "**Por otro lado, los residuales son siempre ortogonales o no correlacionados con ninguna de las variables del modelo que los creó**"
   ]
  },
  {
   "cell_type": "markdown",
   "id": "7d187865",
   "metadata": {},
   "source": [
    "#### REFERENCIAS: \n",
    "\n",
    "https://github.com/donelianc/introduccion-inferencia-causal/blob/spanish-translation/causal-inference-for-the-brave-and-true/05-The-Unreasonable-Effectiveness-of-Linear-Regression.ipynb"
   ]
  }
 ],
 "metadata": {
  "kernelspec": {
   "display_name": "Python 3 (ipykernel)",
   "language": "python",
   "name": "python3"
  },
  "language_info": {
   "codemirror_mode": {
    "name": "ipython",
    "version": 3
   },
   "file_extension": ".py",
   "mimetype": "text/x-python",
   "name": "python",
   "nbconvert_exporter": "python",
   "pygments_lexer": "ipython3",
   "version": "3.9.12"
  }
 },
 "nbformat": 4,
 "nbformat_minor": 5
}
