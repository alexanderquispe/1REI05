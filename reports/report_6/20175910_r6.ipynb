{
 "cells": [
  {
   "cell_type": "markdown",
   "id": "17e02100",
   "metadata": {},
   "source": [
    "# Reporte 6"
   ]
  },
  {
   "cell_type": "markdown",
   "id": "d363c071",
   "metadata": {},
   "source": [
    "El artículo busca responder a la pregunta de ¿por qué los estudiantes de bajos ingresos pero de alto rendimiento no buscan aplicar a las universidades más selectivas? Esta pregunta, ciertamente, es formulada luego de una introducción a la problemática que identifica el artículo. Como se evidencia, a través de la data extraída de una base que contiene la información de los estudiantes, existe una amplia brecha entre los estudiantes que son admitidos en las universidades selectivas y que poseen recursos respecto de los estudiantes de bajos recursos, pero alto rendimiento. Es decir, la problemática que lleva a la pregunta tiene un componente empírico, en donde se identifica el problema y permite el cuestionamiento de si dos estudiantes, con las mismas capacidades (según las métricas) pueden afrontar la misma carga académica que supone una universidad selectiva ¿por qué existe esta brecha?\n",
    "\n",
    "Asimismo, se parte de que dicha brecha existe para los alumnos a la Universidad de Michigan, pese a que esta cuenta con un programa de subvención que busca alivianar dicha brecha (aunque se mantiene persistente). Entonces, aún con este tipo de ayuda, el artículo busca responder entonces la pregunta de investigación (la cual sigue siendo la misma planteada inicialmente) pero que se justifica aún más teniendo en cuenta la subvención mencionada para los alumnos de escasos recursos. Como se justificará posteriormente, la problemática principal radica en que existe un problema de desinformación, la cual, a pesar del beneficio, no permite reducir la brecha planteada.\n",
    "\n",
    "La fortaleza del artículo es que esta parte de un estudio focalizado, en donde toma una muestra de alumnos que postulan a la Universidad de Michigan. Dicha fortaleza radica en que tiene una población bien delimitada en donde cuenta con la data necesaria para poder realizar el estudio. Asimismo, este estudio busca tener la menor cantidad de sesos, aplicando métodos que permitan no afectar la muestra ni sesgarla. Por ello, toma en consideración dos componentes: el grupo de control y el grupo de tratamiento. \n",
    "\n",
    "Entonces, el estudio planteado es uno experimental, debido a que estudiará los efectos que puede tener el impacto de ciertos cambios o incentivos en el grupo de tratamiento respecto del grupo de control. Asimismo, tiene en consideración las estadísticas previas que permiten comparar aún mejor los efectos de la introducción de un nuevo sistema para la información de el beneficio para el grupo de tratamiento. \n",
    "\n",
    "Además, esta toma en consideración diversas variables que finalmente permiten establecer un modelo de regresión para identificar la probabilidad de un estudiante de ir a una escuela altamente selectiva, como la Universidad de Michigan. Además, gracias a todo ello, finalmente se pudo establecer una relación causal para responder a la pregunta en cuestión\t\n",
    "\n",
    "Sin embargo, las debilidades radican en que dicho estudio no explica de forma cuantitativa los sesgos que puedan surgir a causa de dicho estudio, como el impacto en los estudiantes que podrían haber sido influenciados a causa del incentivo para los estudiantes de bajos recursos. Es decir, si bien explica algunos, finalmente no aborda los sesgos que puedan surgir tanto en la población, como en la población externa (que serían los compañeros de clase de los alumnos). \n",
    "\n",
    "Asimismo, otra debilidad radica en que este estudio, finalmente, no ofrece una explicación más amplia respecto a cómo podría ser extrapolado, o las posibles problemáticas de extrapolar este estudio a un contexto más generalizado. Esto resulta importante dado que dicho estudio, en definitiva, podría tener un impacto no solo para la región en donde se estudia, sino en otras. Entonces, al haber realizado el estudio, podría proponer ciertos aspectos a considerar al momento de la extrapolación\n",
    "\n",
    "La contribución del experimento es bastante destacable dado que permite identificar resolver la problemática principal de la desinformación. Asimismo, permite cuestionar si dicha problemática podría surgir en otros contextos. Entonces, dicho estudio permitió identificar que el impacto del nuevo incentivo imapacto en todos los procesos de admisión de forma significativa. Asimismo, permitió comprobar que el nuevo incentivo es mucho más eficaz que la propuesta previa al estudio.\n",
    "\n",
    "Considero que otro paso a seguir en la investigación es el efecto que puede tener haber realizado dicho incentivo en los alumnos con mayor rendimiento académico que podrían haber no asistido a la universidad. Como se menciona, el estudio no tomó en consideración que alumnos con alto rendimiento podrían haber considerado dicha posibilidad previo al incentivo. Por tanto, responder dicha cuestión resulta muy importante dado el rendimiento y capacidad de dichos alumnos. \n",
    "\n"
   ]
  }
 ],
 "metadata": {
  "kernelspec": {
   "display_name": "Python 3 (ipykernel)",
   "language": "python",
   "name": "python3"
  },
  "language_info": {
   "codemirror_mode": {
    "name": "ipython",
    "version": 3
   },
   "file_extension": ".py",
   "mimetype": "text/x-python",
   "name": "python",
   "nbconvert_exporter": "python",
   "pygments_lexer": "ipython3",
   "version": "3.9.12"
  }
 },
 "nbformat": 4,
 "nbformat_minor": 5
}
