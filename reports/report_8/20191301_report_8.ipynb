{
 "cells": [
  {
   "cell_type": "markdown",
   "id": "f65de3b4",
   "metadata": {},
   "source": [
    "# ENSAYO"
   ]
  },
  {
   "attachments": {},
   "cell_type": "markdown",
   "id": "8c8e488a",
   "metadata": {},
   "source": [
    "La práctica de la mita fue un sistema de trabajo arduo y forzoso que, en consecuencia, afectó la calidad de vida de la población. En el presente texto, la autora busca desarrollar una respuesta a la siguiente pregunta: ¿Cuáles fueron los efectos a largo plazo de esta práctica colonial, como la reducción del consumo en hogares y el retraso en el crecimiento de los niños?\n",
    "\n",
    "La principal fortaleza de este artículo es que brinda un análisis multidimensional del enfoque en el impacto de la mita mostrados en la regresión para comprender la calidad de vida. Sin embargo, la debilidad qeu presenta es que toma toda el área geográfica como una sola, sin tener en consideración las distinciones entre las regiones incluidas; ello, considero, resulta perjudicial, ya que pudo permitir un análisis más detallado y un contraste sobre si el resultado es el mismo en todas las regiones consideradas o identificar otros factores que estén involucrados.\n",
    "\n",
    "Pese a todo, el principal avance de este trabajo es que permite concientizar sobre las consecuencias a largo plazo de la mita en la zona andina y vizualizar variables importantes sobre la calidad de vida humana.\n",
    "\n",
    "Para concluir, como ya se mencionó, el siguiente paso a seguir para avanzar esta pregunta sería profundizar y enfocar el análisis en las diferentes regiones consideradas. Además, focalizar el estudio en futuras políticas que prevengan este tipo de problemas en fuentes mineras actuales."
   ]
  },
  {
   "cell_type": "markdown",
   "id": "da603371",
   "metadata": {},
   "source": [
    "# CODIFICACIÓN"
   ]
  },
  {
   "cell_type": "markdown",
   "id": "6a1b5ff0",
   "metadata": {},
   "source": [
    "**Colaboradores:**\n",
    "\n",
    "Ingry Benel (20191301)\n",
    "\n",
    "Daniel Cubeñas (20170718)"
   ]
  },
  {
   "cell_type": "code",
   "execution_count": 4,
   "id": "2a741bed",
   "metadata": {},
   "outputs": [
    {
     "ename": "ModuleNotFoundError",
     "evalue": "No module named 'plotnine'",
     "output_type": "error",
     "traceback": [
      "\u001b[1;31m---------------------------------------------------------------------------\u001b[0m",
      "\u001b[1;31mModuleNotFoundError\u001b[0m                       Traceback (most recent call last)",
      "Input \u001b[1;32mIn [4]\u001b[0m, in \u001b[0;36m<cell line: 7>\u001b[1;34m()\u001b[0m\n\u001b[0;32m      5\u001b[0m \u001b[38;5;28;01mimport\u001b[39;00m \u001b[38;5;21;01mstatsmodels\u001b[39;00m\u001b[38;5;21;01m.\u001b[39;00m\u001b[38;5;21;01mformula\u001b[39;00m\u001b[38;5;21;01m.\u001b[39;00m\u001b[38;5;21;01mapi\u001b[39;00m \u001b[38;5;28;01mas\u001b[39;00m \u001b[38;5;21;01msmf\u001b[39;00m \n\u001b[0;32m      6\u001b[0m \u001b[38;5;28;01mfrom\u001b[39;00m \u001b[38;5;21;01mitertools\u001b[39;00m \u001b[38;5;28;01mimport\u001b[39;00m combinations \n\u001b[1;32m----> 7\u001b[0m \u001b[38;5;28;01mimport\u001b[39;00m \u001b[38;5;21;01mplotnine\u001b[39;00m \u001b[38;5;28;01mas\u001b[39;00m \u001b[38;5;21;01mp\u001b[39;00m\n",
      "\u001b[1;31mModuleNotFoundError\u001b[0m: No module named 'plotnine'"
     ]
    }
   ],
   "source": [
    "#Antes de pasar a la parte de códigos en Python, procederemos a instalar las librerías correspondientes\n",
    "import numpy as np \n",
    "import pandas as pd \n",
    "import statsmodels.api as sm \n",
    "import statsmodels.formula.api as smf \n",
    "from itertools import combinations \n",
    "import plotnine as p"
   ]
  },
  {
   "cell_type": "code",
   "execution_count": 2,
   "id": "cf8b5907",
   "metadata": {},
   "outputs": [],
   "source": [
    "import pandas as pd\n",
    "import numpy as np\n",
    "from scipy import stats\n",
    "from scipy.stats import norm\n",
    "import statsmodels.api as sm\n",
    "import matplotlib\n",
    "import string\n",
    "import warnings\n",
    "warnings.filterwarnings('ignore')"
   ]
  },
  {
   "cell_type": "code",
   "execution_count": 5,
   "id": "cdbfb645",
   "metadata": {},
   "outputs": [],
   "source": [
    "import seaborn as sns\n",
    "sns.set_theme(style=\"darkgrid\")"
   ]
  },
  {
   "cell_type": "code",
   "execution_count": 6,
   "id": "083f25f5",
   "metadata": {},
   "outputs": [],
   "source": [
    "import matplotlib.pyplot as plt"
   ]
  },
  {
   "cell_type": "code",
   "execution_count": 7,
   "id": "15870c6e",
   "metadata": {},
   "outputs": [
    {
     "name": "stdout",
     "output_type": "stream",
     "text": [
      "Requirement already satisfied: causalgraphicalmodels in c:\\users\\hp\\anaconda3\\lib\\site-packages (0.0.4)\n",
      "Requirement already satisfied: networkx in c:\\users\\hp\\anaconda3\\lib\\site-packages (from causalgraphicalmodels) (2.7.1)\n",
      "Requirement already satisfied: numpy in c:\\users\\hp\\anaconda3\\lib\\site-packages (from causalgraphicalmodels) (1.21.5)\n",
      "Requirement already satisfied: graphviz in c:\\users\\hp\\anaconda3\\lib\\site-packages (from causalgraphicalmodels) (0.18)\n",
      "Requirement already satisfied: pandas in c:\\users\\hp\\anaconda3\\lib\\site-packages (from causalgraphicalmodels) (1.4.2)\n",
      "Requirement already satisfied: pytz>=2020.1 in c:\\users\\hp\\anaconda3\\lib\\site-packages (from pandas->causalgraphicalmodels) (2021.3)\n",
      "Requirement already satisfied: python-dateutil>=2.8.1 in c:\\users\\hp\\anaconda3\\lib\\site-packages (from pandas->causalgraphicalmodels) (2.8.2)\n",
      "Requirement already satisfied: six>=1.5 in c:\\users\\hp\\anaconda3\\lib\\site-packages (from python-dateutil>=2.8.1->pandas->causalgraphicalmodels) (1.16.0)\n",
      "Note: you may need to restart the kernel to use updated packages.\n"
     ]
    }
   ],
   "source": [
    "pip install causalgraphicalmodels"
   ]
  },
  {
   "cell_type": "code",
   "execution_count": 8,
   "id": "a3dc87ab",
   "metadata": {},
   "outputs": [
    {
     "name": "stdout",
     "output_type": "stream",
     "text": [
      "Requirement already satisfied: seaborn in c:\\users\\hp\\anaconda3\\lib\\site-packages (0.11.2)\n",
      "Requirement already satisfied: numpy>=1.15 in c:\\users\\hp\\anaconda3\\lib\\site-packages (from seaborn) (1.21.5)\n",
      "Requirement already satisfied: pandas>=0.23 in c:\\users\\hp\\anaconda3\\lib\\site-packages (from seaborn) (1.4.2)\n",
      "Requirement already satisfied: matplotlib>=2.2 in c:\\users\\hp\\anaconda3\\lib\\site-packages (from seaborn) (3.5.1)\n",
      "Requirement already satisfied: scipy>=1.0 in c:\\users\\hp\\anaconda3\\lib\\site-packages (from seaborn) (1.7.3)\n",
      "Requirement already satisfied: cycler>=0.10 in c:\\users\\hp\\anaconda3\\lib\\site-packages (from matplotlib>=2.2->seaborn) (0.11.0)\n",
      "Requirement already satisfied: python-dateutil>=2.7 in c:\\users\\hp\\anaconda3\\lib\\site-packages (from matplotlib>=2.2->seaborn) (2.8.2)\n",
      "Requirement already satisfied: pyparsing>=2.2.1 in c:\\users\\hp\\anaconda3\\lib\\site-packages (from matplotlib>=2.2->seaborn) (3.0.4)\n",
      "Requirement already satisfied: fonttools>=4.22.0 in c:\\users\\hp\\anaconda3\\lib\\site-packages (from matplotlib>=2.2->seaborn) (4.25.0)\n",
      "Requirement already satisfied: kiwisolver>=1.0.1 in c:\\users\\hp\\anaconda3\\lib\\site-packages (from matplotlib>=2.2->seaborn) (1.3.2)\n",
      "Requirement already satisfied: pillow>=6.2.0 in c:\\users\\hp\\anaconda3\\lib\\site-packages (from matplotlib>=2.2->seaborn) (9.0.1)\n",
      "Requirement already satisfied: packaging>=20.0 in c:\\users\\hp\\anaconda3\\lib\\site-packages (from matplotlib>=2.2->seaborn) (21.3)\n",
      "Requirement already satisfied: pytz>=2020.1 in c:\\users\\hp\\anaconda3\\lib\\site-packages (from pandas>=0.23->seaborn) (2021.3)\n",
      "Requirement already satisfied: six>=1.5 in c:\\users\\hp\\anaconda3\\lib\\site-packages (from python-dateutil>=2.7->matplotlib>=2.2->seaborn) (1.16.0)\n",
      "Note: you may need to restart the kernel to use updated packages.\n"
     ]
    }
   ],
   "source": [
    "pip install seaborn"
   ]
  },
  {
   "cell_type": "code",
   "execution_count": 9,
   "id": "ea956906",
   "metadata": {},
   "outputs": [],
   "source": [
    "# pip install causalgraphicalmodels\n",
    "# pip install linearmodels\n",
    "\n",
    "from causalgraphicalmodels import CausalGraphicalModel"
   ]
  },
  {
   "cell_type": "code",
   "execution_count": 10,
   "id": "003c23b2",
   "metadata": {},
   "outputs": [
    {
     "ename": "ModuleNotFoundError",
     "evalue": "No module named 'plotnine'",
     "output_type": "error",
     "traceback": [
      "\u001b[1;31m---------------------------------------------------------------------------\u001b[0m",
      "\u001b[1;31mModuleNotFoundError\u001b[0m                       Traceback (most recent call last)",
      "Input \u001b[1;32mIn [10]\u001b[0m, in \u001b[0;36m<cell line: 7>\u001b[1;34m()\u001b[0m\n\u001b[0;32m      5\u001b[0m \u001b[38;5;28;01mimport\u001b[39;00m \u001b[38;5;21;01mstatsmodels\u001b[39;00m\u001b[38;5;21;01m.\u001b[39;00m\u001b[38;5;21;01mformula\u001b[39;00m\u001b[38;5;21;01m.\u001b[39;00m\u001b[38;5;21;01mapi\u001b[39;00m \u001b[38;5;28;01mas\u001b[39;00m \u001b[38;5;21;01msmf\u001b[39;00m \n\u001b[0;32m      6\u001b[0m \u001b[38;5;28;01mfrom\u001b[39;00m \u001b[38;5;21;01mitertools\u001b[39;00m \u001b[38;5;28;01mimport\u001b[39;00m combinations \n\u001b[1;32m----> 7\u001b[0m \u001b[38;5;28;01mimport\u001b[39;00m \u001b[38;5;21;01mplotnine\u001b[39;00m \u001b[38;5;28;01mas\u001b[39;00m \u001b[38;5;21;01mp\u001b[39;00m\n\u001b[0;32m      8\u001b[0m \u001b[38;5;28;01mimport\u001b[39;00m \u001b[38;5;21;01mstatsmodels\u001b[39;00m\u001b[38;5;21;01m.\u001b[39;00m\u001b[38;5;21;01mapi\u001b[39;00m \u001b[38;5;28;01mas\u001b[39;00m \u001b[38;5;21;01msm\u001b[39;00m\n\u001b[0;32m      9\u001b[0m \u001b[38;5;28;01mimport\u001b[39;00m \u001b[38;5;21;01mstatsmodels\u001b[39;00m\u001b[38;5;21;01m.\u001b[39;00m\u001b[38;5;21;01mformula\u001b[39;00m\u001b[38;5;21;01m.\u001b[39;00m\u001b[38;5;21;01mapi\u001b[39;00m \u001b[38;5;28;01mas\u001b[39;00m \u001b[38;5;21;01msmf\u001b[39;00m\n",
      "\u001b[1;31mModuleNotFoundError\u001b[0m: No module named 'plotnine'"
     ]
    }
   ],
   "source": [
    "import os\n",
    "import numpy as np \n",
    "import pandas as pd \n",
    "import statsmodels.api as sm \n",
    "import statsmodels.formula.api as smf \n",
    "from itertools import combinations \n",
    "import plotnine as p\n",
    "import statsmodels.api as sm\n",
    "import statsmodels.formula.api as smf\n",
    "import linearmodels.iv.model as lm\n",
    "from linearmodels.iv import IV2SLS\n",
    "from statsmodels.iolib.summary2 import summary_col\n",
    "import seaborn as sns"
   ]
  },
  {
   "cell_type": "markdown",
   "id": "1987b928",
   "metadata": {},
   "source": [
    "**1. Instrumental Variables**"
   ]
  },
  {
   "cell_type": "markdown",
   "id": "789bc071",
   "metadata": {},
   "source": [
    "***CONCEPTOS***\n",
    "\n",
    "Para que las variables instrumentales funcionen, debemos satisfacer dos supuestos: relevancia del instrumento y validez del instrumento.\n",
    "\n",
    "La **relevancia** es bastante sencilla. La idea de las variables instrumentales es que usamos la parte de X, el tratamiento, que se explica por Z, el instrumento. Aunque si ninguna parte de X se explica por Z; las variables instrumentales no funcionan. Así que tenemos que estar seguros de que Z en realidad se relaciona con X. Basta con mirar la relación entrey X y Z mira lo fuerte que es. Cuanto más fuerte sea, más confianza tendrá en la suposición de relevancia y menos saltará la estimación de una muestra a otra.\n",
    "\n",
    "Quizás el más tenso de los dos supuestos es el supuesto de validez . La validez es, en efecto, la suposición de que el instrumento Z es una variable que no tiene puertas traseras abiertas propias. En otras palabras, en una relación, Z→X→Y, ? No tenemos que identificar Z→X, solo necesitamos que no haya forma de salir de Z a Y excepto a través X. Cualquier ruta (path) entre el instrumento y el resultado debe pasar por el tratamiento o cerrarse."
   ]
  },
  {
   "cell_type": "markdown",
   "id": "e7e2dc94",
   "metadata": {},
   "source": [
    "**2. Ploteo de Histogramas**"
   ]
  },
  {
   "cell_type": "code",
   "execution_count": 11,
   "id": "128f98f4",
   "metadata": {},
   "outputs": [
    {
     "data": {
      "text/html": [
       "<div>\n",
       "<style scoped>\n",
       "    .dataframe tbody tr th:only-of-type {\n",
       "        vertical-align: middle;\n",
       "    }\n",
       "\n",
       "    .dataframe tbody tr th {\n",
       "        vertical-align: top;\n",
       "    }\n",
       "\n",
       "    .dataframe thead th {\n",
       "        text-align: right;\n",
       "    }\n",
       "</style>\n",
       "<table border=\"1\" class=\"dataframe\">\n",
       "  <thead>\n",
       "    <tr style=\"text-align: right;\">\n",
       "      <th></th>\n",
       "      <th>id</th>\n",
       "      <th>nearc2</th>\n",
       "      <th>nearc4</th>\n",
       "      <th>educ</th>\n",
       "      <th>age</th>\n",
       "      <th>fatheduc</th>\n",
       "      <th>motheduc</th>\n",
       "      <th>weight</th>\n",
       "      <th>momdad14</th>\n",
       "      <th>sinmom14</th>\n",
       "      <th>...</th>\n",
       "      <th>KWW</th>\n",
       "      <th>IQ</th>\n",
       "      <th>married</th>\n",
       "      <th>libcrd14</th>\n",
       "      <th>exper</th>\n",
       "      <th>lwage</th>\n",
       "      <th>expersq</th>\n",
       "      <th>u_lwage</th>\n",
       "      <th>lwage_hat</th>\n",
       "      <th>u_educ</th>\n",
       "    </tr>\n",
       "  </thead>\n",
       "  <tbody>\n",
       "    <tr>\n",
       "      <th>0</th>\n",
       "      <td>2.0</td>\n",
       "      <td>0.0</td>\n",
       "      <td>0.0</td>\n",
       "      <td>7.0</td>\n",
       "      <td>29.0</td>\n",
       "      <td>NaN</td>\n",
       "      <td>NaN</td>\n",
       "      <td>158413.0</td>\n",
       "      <td>1.0</td>\n",
       "      <td>0.0</td>\n",
       "      <td>...</td>\n",
       "      <td>15.0</td>\n",
       "      <td>NaN</td>\n",
       "      <td>1.0</td>\n",
       "      <td>0.0</td>\n",
       "      <td>16.0</td>\n",
       "      <td>6.306275</td>\n",
       "      <td>256.0</td>\n",
       "      <td>0.198047</td>\n",
       "      <td>6.108228</td>\n",
       "      <td>-3.067539</td>\n",
       "    </tr>\n",
       "    <tr>\n",
       "      <th>1</th>\n",
       "      <td>3.0</td>\n",
       "      <td>0.0</td>\n",
       "      <td>0.0</td>\n",
       "      <td>12.0</td>\n",
       "      <td>27.0</td>\n",
       "      <td>8.0</td>\n",
       "      <td>8.0</td>\n",
       "      <td>380166.0</td>\n",
       "      <td>1.0</td>\n",
       "      <td>0.0</td>\n",
       "      <td>...</td>\n",
       "      <td>35.0</td>\n",
       "      <td>93.0</td>\n",
       "      <td>1.0</td>\n",
       "      <td>1.0</td>\n",
       "      <td>9.0</td>\n",
       "      <td>6.175867</td>\n",
       "      <td>81.0</td>\n",
       "      <td>-0.211160</td>\n",
       "      <td>6.387027</td>\n",
       "      <td>-1.727562</td>\n",
       "    </tr>\n",
       "    <tr>\n",
       "      <th>2</th>\n",
       "      <td>4.0</td>\n",
       "      <td>0.0</td>\n",
       "      <td>0.0</td>\n",
       "      <td>12.0</td>\n",
       "      <td>34.0</td>\n",
       "      <td>14.0</td>\n",
       "      <td>12.0</td>\n",
       "      <td>367470.0</td>\n",
       "      <td>1.0</td>\n",
       "      <td>0.0</td>\n",
       "      <td>...</td>\n",
       "      <td>42.0</td>\n",
       "      <td>103.0</td>\n",
       "      <td>1.0</td>\n",
       "      <td>1.0</td>\n",
       "      <td>16.0</td>\n",
       "      <td>6.580639</td>\n",
       "      <td>256.0</td>\n",
       "      <td>0.204719</td>\n",
       "      <td>6.375920</td>\n",
       "      <td>1.012975</td>\n",
       "    </tr>\n",
       "    <tr>\n",
       "      <th>3</th>\n",
       "      <td>5.0</td>\n",
       "      <td>1.0</td>\n",
       "      <td>1.0</td>\n",
       "      <td>11.0</td>\n",
       "      <td>27.0</td>\n",
       "      <td>11.0</td>\n",
       "      <td>12.0</td>\n",
       "      <td>380166.0</td>\n",
       "      <td>1.0</td>\n",
       "      <td>0.0</td>\n",
       "      <td>...</td>\n",
       "      <td>25.0</td>\n",
       "      <td>88.0</td>\n",
       "      <td>1.0</td>\n",
       "      <td>1.0</td>\n",
       "      <td>10.0</td>\n",
       "      <td>5.521461</td>\n",
       "      <td>100.0</td>\n",
       "      <td>-0.967905</td>\n",
       "      <td>6.489366</td>\n",
       "      <td>-2.253536</td>\n",
       "    </tr>\n",
       "    <tr>\n",
       "      <th>4</th>\n",
       "      <td>6.0</td>\n",
       "      <td>1.0</td>\n",
       "      <td>1.0</td>\n",
       "      <td>12.0</td>\n",
       "      <td>34.0</td>\n",
       "      <td>8.0</td>\n",
       "      <td>7.0</td>\n",
       "      <td>367470.0</td>\n",
       "      <td>1.0</td>\n",
       "      <td>0.0</td>\n",
       "      <td>...</td>\n",
       "      <td>34.0</td>\n",
       "      <td>108.0</td>\n",
       "      <td>1.0</td>\n",
       "      <td>0.0</td>\n",
       "      <td>16.0</td>\n",
       "      <td>6.591674</td>\n",
       "      <td>256.0</td>\n",
       "      <td>0.125173</td>\n",
       "      <td>6.466501</td>\n",
       "      <td>1.090437</td>\n",
       "    </tr>\n",
       "  </tbody>\n",
       "</table>\n",
       "<p>5 rows × 37 columns</p>\n",
       "</div>"
      ],
      "text/plain": [
       "    id  nearc2  nearc4  educ   age  fatheduc  motheduc    weight  momdad14  \\\n",
       "0  2.0     0.0     0.0   7.0  29.0       NaN       NaN  158413.0       1.0   \n",
       "1  3.0     0.0     0.0  12.0  27.0       8.0       8.0  380166.0       1.0   \n",
       "2  4.0     0.0     0.0  12.0  34.0      14.0      12.0  367470.0       1.0   \n",
       "3  5.0     1.0     1.0  11.0  27.0      11.0      12.0  380166.0       1.0   \n",
       "4  6.0     1.0     1.0  12.0  34.0       8.0       7.0  367470.0       1.0   \n",
       "\n",
       "   sinmom14  ...   KWW     IQ  married  libcrd14  exper     lwage  expersq  \\\n",
       "0       0.0  ...  15.0    NaN      1.0       0.0   16.0  6.306275    256.0   \n",
       "1       0.0  ...  35.0   93.0      1.0       1.0    9.0  6.175867     81.0   \n",
       "2       0.0  ...  42.0  103.0      1.0       1.0   16.0  6.580639    256.0   \n",
       "3       0.0  ...  25.0   88.0      1.0       1.0   10.0  5.521461    100.0   \n",
       "4       0.0  ...  34.0  108.0      1.0       0.0   16.0  6.591674    256.0   \n",
       "\n",
       "    u_lwage  lwage_hat    u_educ  \n",
       "0  0.198047   6.108228 -3.067539  \n",
       "1 -0.211160   6.387027 -1.727562  \n",
       "2  0.204719   6.375920  1.012975  \n",
       "3 -0.967905   6.489366 -2.253536  \n",
       "4  0.125173   6.466501  1.090437  \n",
       "\n",
       "[5 rows x 37 columns]"
      ]
     },
     "execution_count": 11,
     "metadata": {},
     "output_type": "execute_result"
    }
   ],
   "source": [
    "# load data\n",
    "\n",
    "import ssl\n",
    "ssl._create_default_https_context = ssl._create_unverified_context\n",
    "\n",
    "def read_data(file): \n",
    "    return pd.read_stata(\"https://raw.github.com/scunning1975/mixtape/master/\" + file)\n",
    "\n",
    "data = read_data(\"card.dta\")\n",
    "data.head()"
   ]
  },
  {
   "cell_type": "code",
   "execution_count": 12,
   "id": "697a15a5",
   "metadata": {},
   "outputs": [
    {
     "data": {
      "text/plain": [
       "<seaborn.axisgrid.FacetGrid at 0x29b9d192e50>"
      ]
     },
     "execution_count": 12,
     "metadata": {},
     "output_type": "execute_result"
    },
    {
     "data": {
      "image/png": "[encoded data removed]",
      "text/plain": [
       "<Figure size 720x360 with 2 Axes>"
      ]
     },
     "metadata": {},
     "output_type": "display_data"
    }
   ],
   "source": [
    "sns.displot(data, x = \"educ\", col = \"nearc4\", color='red')"
   ]
  },
  {
   "cell_type": "markdown",
   "id": "1a73dbef",
   "metadata": {},
   "source": [
    "Intuición:"
   ]
  },
  {
   "cell_type": "code",
   "execution_count": 13,
   "id": "3a39b7ce",
   "metadata": {},
   "outputs": [
    {
     "data": {
      "text/plain": [
       "<seaborn.axisgrid.FacetGrid at 0x29b9d18d4f0>"
      ]
     },
     "execution_count": 13,
     "metadata": {},
     "output_type": "execute_result"
    },
    {
     "data": {
      "image/png": "[encoded data removed]",
      "text/plain": [
       "<Figure size 720x360 with 2 Axes>"
      ]
     },
     "metadata": {},
     "output_type": "display_data"
    }
   ],
   "source": [
    "sns.displot(data, x = \"lwage\", col = \"nearc4\", color='green')"
   ]
  },
  {
   "cell_type": "markdown",
   "id": "f16c1d60",
   "metadata": {},
   "source": [
    "**Intuición:**\n",
    "\n"
   ]
  },
  {
   "cell_type": "markdown",
   "id": "ae89ccbc",
   "metadata": {},
   "source": [
    "**3. Regresiones**"
   ]
  },
  {
   "cell_type": "code",
   "execution_count": 14,
   "id": "a8e7970b",
   "metadata": {},
   "outputs": [
    {
     "data": {
      "text/html": [
       "<table class=\"simpletable\">\n",
       "<caption>OLS Regression Results</caption>\n",
       "<tr>\n",
       "  <th>Dep. Variable:</th>          <td>lwage</td>      <th>  R-squared:         </th> <td>   0.305</td> \n",
       "</tr>\n",
       "<tr>\n",
       "  <th>Model:</th>                   <td>OLS</td>       <th>  Adj. R-squared:    </th> <td>   0.304</td> \n",
       "</tr>\n",
       "<tr>\n",
       "  <th>Method:</th>             <td>Least Squares</td>  <th>  F-statistic:       </th> <td>   219.2</td> \n",
       "</tr>\n",
       "<tr>\n",
       "  <th>Date:</th>             <td>Mon, 14 Nov 2022</td> <th>  Prob (F-statistic):</th> <td>1.97e-232</td>\n",
       "</tr>\n",
       "<tr>\n",
       "  <th>Time:</th>                 <td>02:14:57</td>     <th>  Log-Likelihood:    </th> <td> -1273.9</td> \n",
       "</tr>\n",
       "<tr>\n",
       "  <th>No. Observations:</th>      <td>  3003</td>      <th>  AIC:               </th> <td>   2562.</td> \n",
       "</tr>\n",
       "<tr>\n",
       "  <th>Df Residuals:</th>          <td>  2996</td>      <th>  BIC:               </th> <td>   2604.</td> \n",
       "</tr>\n",
       "<tr>\n",
       "  <th>Df Model:</th>              <td>     6</td>      <th>                     </th>     <td> </td>    \n",
       "</tr>\n",
       "<tr>\n",
       "  <th>Covariance Type:</th>      <td>nonrobust</td>    <th>                     </th>     <td> </td>    \n",
       "</tr>\n",
       "</table>\n",
       "<table class=\"simpletable\">\n",
       "<tr>\n",
       "      <td></td>         <th>coef</th>     <th>std err</th>      <th>t</th>      <th>P>|t|</th>  <th>[0.025</th>    <th>0.975]</th>  \n",
       "</tr>\n",
       "<tr>\n",
       "  <th>Intercept</th> <td>    5.0633</td> <td>    0.064</td> <td>   79.437</td> <td> 0.000</td> <td>    4.938</td> <td>    5.188</td>\n",
       "</tr>\n",
       "<tr>\n",
       "  <th>educ</th>      <td>    0.0712</td> <td>    0.003</td> <td>   20.438</td> <td> 0.000</td> <td>    0.064</td> <td>    0.078</td>\n",
       "</tr>\n",
       "<tr>\n",
       "  <th>exper</th>     <td>    0.0342</td> <td>    0.002</td> <td>   15.422</td> <td> 0.000</td> <td>    0.030</td> <td>    0.038</td>\n",
       "</tr>\n",
       "<tr>\n",
       "  <th>black</th>     <td>   -0.1660</td> <td>    0.018</td> <td>   -9.426</td> <td> 0.000</td> <td>   -0.201</td> <td>   -0.131</td>\n",
       "</tr>\n",
       "<tr>\n",
       "  <th>south</th>     <td>   -0.1316</td> <td>    0.015</td> <td>   -8.788</td> <td> 0.000</td> <td>   -0.161</td> <td>   -0.102</td>\n",
       "</tr>\n",
       "<tr>\n",
       "  <th>married</th>   <td>   -0.0359</td> <td>    0.003</td> <td>  -10.547</td> <td> 0.000</td> <td>   -0.043</td> <td>   -0.029</td>\n",
       "</tr>\n",
       "<tr>\n",
       "  <th>smsa</th>      <td>    0.1758</td> <td>    0.015</td> <td>   11.372</td> <td> 0.000</td> <td>    0.145</td> <td>    0.206</td>\n",
       "</tr>\n",
       "</table>\n",
       "<table class=\"simpletable\">\n",
       "<tr>\n",
       "  <th>Omnibus:</th>       <td>53.196</td> <th>  Durbin-Watson:     </th> <td>   1.858</td>\n",
       "</tr>\n",
       "<tr>\n",
       "  <th>Prob(Omnibus):</th> <td> 0.000</td> <th>  Jarque-Bera (JB):  </th> <td>  69.430</td>\n",
       "</tr>\n",
       "<tr>\n",
       "  <th>Skew:</th>          <td>-0.231</td> <th>  Prob(JB):          </th> <td>8.38e-16</td>\n",
       "</tr>\n",
       "<tr>\n",
       "  <th>Kurtosis:</th>      <td> 3.584</td> <th>  Cond. No.          </th> <td>    154.</td>\n",
       "</tr>\n",
       "</table><br/><br/>Notes:<br/>[1] Standard Errors assume that the covariance matrix of the errors is correctly specified."
      ],
      "text/plain": [
       "<class 'statsmodels.iolib.summary.Summary'>\n",
       "\"\"\"\n",
       "                            OLS Regression Results                            \n",
       "==============================================================================\n",
       "Dep. Variable:                  lwage   R-squared:                       0.305\n",
       "Model:                            OLS   Adj. R-squared:                  0.304\n",
       "Method:                 Least Squares   F-statistic:                     219.2\n",
       "Date:                Mon, 14 Nov 2022   Prob (F-statistic):          1.97e-232\n",
       "Time:                        02:14:57   Log-Likelihood:                -1273.9\n",
       "No. Observations:                3003   AIC:                             2562.\n",
       "Df Residuals:                    2996   BIC:                             2604.\n",
       "Df Model:                           6                                         \n",
       "Covariance Type:            nonrobust                                         \n",
       "==============================================================================\n",
       "                 coef    std err          t      P>|t|      [0.025      0.975]\n",
       "------------------------------------------------------------------------------\n",
       "Intercept      5.0633      0.064     79.437      0.000       4.938       5.188\n",
       "educ           0.0712      0.003     20.438      0.000       0.064       0.078\n",
       "exper          0.0342      0.002     15.422      0.000       0.030       0.038\n",
       "black         -0.1660      0.018     -9.426      0.000      -0.201      -0.131\n",
       "south         -0.1316      0.015     -8.788      0.000      -0.161      -0.102\n",
       "married       -0.0359      0.003    -10.547      0.000      -0.043      -0.029\n",
       "smsa           0.1758      0.015     11.372      0.000       0.145       0.206\n",
       "==============================================================================\n",
       "Omnibus:                       53.196   Durbin-Watson:                   1.858\n",
       "Prob(Omnibus):                  0.000   Jarque-Bera (JB):               69.430\n",
       "Skew:                          -0.231   Prob(JB):                     8.38e-16\n",
       "Kurtosis:                       3.584   Cond. No.                         154.\n",
       "==============================================================================\n",
       "\n",
       "Notes:\n",
       "[1] Standard Errors assume that the covariance matrix of the errors is correctly specified.\n",
       "\"\"\""
      ]
     },
     "execution_count": 14,
     "metadata": {},
     "output_type": "execute_result"
    }
   ],
   "source": [
    "#OLS\n",
    "ols_reg = sm.OLS.from_formula(\"lwage ~ educ + exper + black + south + married + smsa\", \n",
    "              data = data).fit()\n",
    "\n",
    "ols_reg.summary()"
   ]
  },
  {
   "cell_type": "markdown",
   "id": "985f9c3e",
   "metadata": {},
   "source": [
    "**Intuición:**\n",
    "\n",
    "El modelo de regresión logísitco seguro (OLS) es significativo y, expresado de manera logarítimica, explica un 30.3% la variabilidad de la variable ingreso \"lwage\".\n",
    "\n",
    "De esta manera, todas las variables analizadas previamente son significativas debido a que presentan un p.value menor a 0.05:\n",
    "\n",
    "**Observaciones:**\n",
    "\n",
    "1. Por cada año adicional de educación, el nivel de ingreso aumentará en 0.07 unidades logaritmicas.\n",
    "\n",
    "2. Por cada año de experiencia laboral. el nivel de ingreso aumenta en 0.03 unidades logaritmicas.\n",
    "\n",
    "3. Si el individuo es afroamericano, el nivel de ingreso se reduce en 0.17 unidades logaritmicas\n",
    "\n",
    "4. Si el individuo es del sur, se reduce en 0.13 unidades logaritmicas.\n",
    "\n",
    "5. Si el individuo está casado, se reduce en 0.03 unidades logaritmicas.\n",
    "\n",
    "6. Si vive en SMSA, aumenta en 0.18 unidades logaritmicas."
   ]
  },
  {
   "cell_type": "code",
   "execution_count": 15,
   "id": "ed8c4466",
   "metadata": {},
   "outputs": [],
   "source": [
    "# There are null values in the dataset, we will fill them with 0\n",
    "data['married'] = data['married'].fillna(0)"
   ]
  },
  {
   "cell_type": "code",
   "execution_count": 16,
   "id": "a79b647e",
   "metadata": {},
   "outputs": [
    {
     "data": {
      "text/plain": [
       "<AxesSubplot:xlabel='nearc2', ylabel='Count'>"
      ]
     },
     "execution_count": 16,
     "metadata": {},
     "output_type": "execute_result"
    },
    {
     "data": {
      "image/png": "[encoded data removed]",
      "text/plain": [
       "<Figure size 432x288 with 1 Axes>"
      ]
     },
     "metadata": {},
     "output_type": "display_data"
    }
   ],
   "source": [
    "sns.histplot(data=data, x=\"nearc2\")"
   ]
  },
  {
   "cell_type": "code",
   "execution_count": 9,
   "id": "5cf70f40",
   "metadata": {},
   "outputs": [
    {
     "ename": "NameError",
     "evalue": "name 'data' is not defined",
     "output_type": "error",
     "traceback": [
      "\u001b[1;31m---------------------------------------------------------------------------\u001b[0m",
      "\u001b[1;31mNameError\u001b[0m                                 Traceback (most recent call last)",
      "Input \u001b[1;32mIn [9]\u001b[0m, in \u001b[0;36m<cell line: 2>\u001b[1;34m()\u001b[0m\n\u001b[0;32m      1\u001b[0m \u001b[38;5;66;03m#llenamos los casos de 0 en married, para que la función corra#\u001b[39;00m\n\u001b[1;32m----> 2\u001b[0m data[\u001b[38;5;124m'\u001b[39m\u001b[38;5;124mmarried\u001b[39m\u001b[38;5;124m'\u001b[39m] \u001b[38;5;241m=\u001b[39m \u001b[43mdata\u001b[49m[\u001b[38;5;124m'\u001b[39m\u001b[38;5;124mmarried\u001b[39m\u001b[38;5;124m'\u001b[39m]\u001b[38;5;241m.\u001b[39mfillna(\u001b[38;5;241m0\u001b[39m)\n",
      "\u001b[1;31mNameError\u001b[0m: name 'data' is not defined"
     ]
    }
   ],
   "source": [
    "#llenamos los casos de 0 en married, para que la función corra#\n",
    "data['married'] = data['married'].fillna(0)"
   ]
  },
  {
   "cell_type": "code",
   "execution_count": 10,
   "id": "ff2a082a",
   "metadata": {},
   "outputs": [
    {
     "ename": "ModuleNotFoundError",
     "evalue": "No module named 'linearmodels'",
     "output_type": "error",
     "traceback": [
      "\u001b[1;31m---------------------------------------------------------------------------\u001b[0m",
      "\u001b[1;31mModuleNotFoundError\u001b[0m                       Traceback (most recent call last)",
      "Input \u001b[1;32mIn [10]\u001b[0m, in \u001b[0;36m<cell line: 1>\u001b[1;34m()\u001b[0m\n\u001b[1;32m----> 1\u001b[0m \u001b[38;5;28;01mimport\u001b[39;00m \u001b[38;5;21;01mlinearmodels\u001b[39;00m\u001b[38;5;21;01m.\u001b[39;00m\u001b[38;5;21;01miv\u001b[39;00m\u001b[38;5;21;01m.\u001b[39;00m\u001b[38;5;21;01mmodel\u001b[39;00m \u001b[38;5;28;01mas\u001b[39;00m \u001b[38;5;21;01mlm\u001b[39;00m\n\u001b[0;32m      2\u001b[0m \u001b[38;5;28;01mfrom\u001b[39;00m \u001b[38;5;21;01mlinearmodels\u001b[39;00m\u001b[38;5;21;01m.\u001b[39;00m\u001b[38;5;21;01miv\u001b[39;00m \u001b[38;5;28;01mimport\u001b[39;00m IV2SLS\n",
      "\u001b[1;31mModuleNotFoundError\u001b[0m: No module named 'linearmodels'"
     ]
    }
   ],
   "source": [
    "import linearmodels.iv.model as lm\n",
    "from linearmodels.iv import IV2SLS"
   ]
  },
  {
   "cell_type": "code",
   "execution_count": 11,
   "id": "9794f9fd",
   "metadata": {},
   "outputs": [
    {
     "ename": "NameError",
     "evalue": "name 'IV2SLS' is not defined",
     "output_type": "error",
     "traceback": [
      "\u001b[1;31m---------------------------------------------------------------------------\u001b[0m",
      "\u001b[1;31mNameError\u001b[0m                                 Traceback (most recent call last)",
      "Input \u001b[1;32mIn [11]\u001b[0m, in \u001b[0;36m<cell line: 1>\u001b[1;34m()\u001b[0m\n\u001b[1;32m----> 1\u001b[0m iv_reg2 \u001b[38;5;241m=\u001b[39m \u001b[43mIV2SLS\u001b[49m\u001b[38;5;241m.\u001b[39mfrom_formula(\u001b[38;5;124m\"\u001b[39m\u001b[38;5;124mlwage ~  1 + exper + black + south + married + smsa + [educ ~ nearc2]\u001b[39m\u001b[38;5;124m\"\u001b[39m, data)\u001b[38;5;241m.\u001b[39mfit()\n\u001b[0;32m      2\u001b[0m iv_reg2\u001b[38;5;241m.\u001b[39msummary\n",
      "\u001b[1;31mNameError\u001b[0m: name 'IV2SLS' is not defined"
     ]
    }
   ],
   "source": [
    "iv_reg2 = IV2SLS.from_formula(\"lwage ~  1 + exper + black + south + married + smsa + [educ ~ nearc2]\", data).fit()\n",
    "iv_reg2.summary"
   ]
  },
  {
   "cell_type": "markdown",
   "id": "5cf1a68f",
   "metadata": {},
   "source": [
    "**Intuición:**\n",
    "\n",
    "El modelo de regresión logístico seguro (OLS) es significativo y ,  expresado de manera logarítimica, explica un 1.3% la variabilidad de la variable ingreso \"lwage\". El instrumento \"near2\" no es débil.\n",
    "\n",
    "No obstante, no todas las variables analizadas previamente son significativas, debido a que no todas presentan un p.value menor a 0.05. Por lo que solo tomamos en cuenta la variable de experiencia laboral.\n",
    "\n",
    "**Observaciones:**\n",
    "\n",
    "El nivel de ingreso aumenta en 0.15 unidades logarítmicas por cada año de experiencia laboral."
   ]
  }
 ],
 "metadata": {
  "kernelspec": {
   "display_name": "Python 3 (ipykernel)",
   "language": "python",
   "name": "python3"
  },
  "language_info": {
   "codemirror_mode": {
    "name": "ipython",
    "version": 3
   },
   "file_extension": ".py",
   "mimetype": "text/x-python",
   "name": "python",
   "nbconvert_exporter": "python",
   "pygments_lexer": "ipython3",
   "version": "3.9.12"
  }
 },
 "nbformat": 4,
 "nbformat_minor": 5
}
