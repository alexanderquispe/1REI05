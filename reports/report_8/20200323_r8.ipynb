{
 "cells": [
  {
   "cell_type": "markdown",
   "id": "482e4776",
   "metadata": {},
   "source": [
    "# REPORTE 8\n",
    "\n",
    "## Alexander Du-Bois Arana\n",
    "\n",
    "## Código: 20200323"
   ]
  },
  {
   "cell_type": "markdown",
   "id": "245c1e7f",
   "metadata": {},
   "source": [
    "### Lectura"
   ]
  },
  {
   "cell_type": "markdown",
   "id": "f0eac509",
   "metadata": {},
   "source": [
    "La lectura de Dell busca analizar cuál ha sido el impacto causal a largo plazo del sistema de trabajo forzado de la mita durante el Virreinato Español en el Perú. Se busca entender cuál es el impacto en la calidad de vida contemporánea de aquellos distritos que estuvieron relacionados en el pasado con esta red de trabajo, a comparación de aquellos donde no había mita. Por lo tanto, se busca comprobar o rechazar la hipótesis de que las instituciones históricas extractivas influyen en la prosperidad económica a largo plazo. Asimismo, la autora plantea la hipótesis de que la presencia de terratenientes en las zonas donde no hubo mita facilitó un sistema de tenendica de tierra estable que promovió la provisión de bienes públicos, mientras que en las zonas de la mita, al ser abolida la tenencia comunal, esto derivó en revueltas campesinas, y una administración en menor escala de las tierras, que los alejó de los bienes y servicios públicos hasta el día de hoy.\n",
    "\n",
    "Una ventaja de esta investigación corresponde con su diseño metodológico, que hace uso de un enfoque de regresión discontinua para evaluar los efectos a largo plazo de la mita. Esto se hace ya que existiía una clara diferencia en los distritos donde había mita y donde no, ya que los primeros debían enviar a la séptima parte de su población masculina a trabajar, mientas que los demás distritos no. Y justamente esta diferenciación se divide en dos áreas territoriales, que pueden ser usadas por la regresión discontinua. Este tipo de diseño permite evidenciar los mecanismos causales por medio de un umbral, donde se toma como límite la región sometida a la mita, y se la compara con aquella que no fue sometida. Esto también permite controlar ciertos aspectos que podrían afectar a nuestras variables explicativas, como por ejemplo la altitud del territorio o la distribución étnica, que se mantienen estadísticamente idénticos dentro del límite territorial que plantea esta regresión discontinua.\n",
    "\n",
    "Por otro lado, también se pueden identificar algunas debilidades de este enfoque de investigación. En primer lugar, el trabajo analiza el impacto de la mita a largo plazo, pero no se toman en cuenta las variaciones que se han tenido desde la independencia del Perú hasta el día de hoy en las localidades donde había mita. Es probable que el impacto de la mita se vea en mayor medida reflejado en la posterior relación del Estado Peruano con estas zonas, ya que la administración de las minas y de las tierras cambió con la construcción del Estado. Asimismo, considero que hace falta evaluar la variación interna entre aquellas zonas con mita, lo que podría evidenciar variaciones endógenas que explicarían los diferentes niveles de crecimiento entre las zonas que tenían mita. El trabajo analiza los efectos de la mita en la cordillera, pero creo que sería importante considerar las variaciones entre las localidades de cada uno de los grupos analizados.\n",
    "\n",
    "En relación a la pregunta, el trabajo compara un listado de los distritos sometidos a la mita con los distritos modernos, haciendo uso de datos independientes de caidad de vida de la Encuesta Nacional de Hogares del Perú del 2001, así como del Ministerio de Educación. Para ello, se utiliza una regresión discontínua, donde se toma como grupo de control a los distritos que no tuvieron mita, y el grupo de tratamiento se compondría de aquellos distritos donde si hubo mita. El trabajo logra encontrar resultados significativos acerca de que el impacto de la mita genera que exista un retraso actual de crecimiento infantil, así como una disminución histórica del nivel educativo, y un menor nivel de integración a la red de carreteras. Asimismo, se puede observar que las haciendas se desarrollaron fuera de la zona de influencia de la mita, lo que ha generado que en las zonas de la mita haya prevalecido hasta hoy la agricultura de subsistencia y que el consumo doméstico de estos distritos que tenían mita sea 25% menor que los demás. Además, el trabajo logra contraargumentar el conocido argumento de que la desgualdad histórica en el acceso en la tierra es lo que ha causado el limitado crecimiento de América Latina. Por medio de esta investigación, se demuestra que los grandes terratenientes que no estaban en localidades relacionadas con la mita fueron atractivos para la clase trabajadores, ya que les ofrecián una coartada frenten a la explotación del Estado en la mita, lo que les garantizaba el acceso a bienes y servicios públicos.\n",
    "\n",
    "Finalmente, este trabajo corresponde a un precedente para entender como las instituciones históricas nos permiten entender las condiciones desiguales de desarrollo en la actualidad. El autor propone que se debería investigar el papel del Estado en la economía a nivel histórico como un purto de partida interesante para entender las dinámicas de desigualdad que se perpetúan hasta el día de hoy. Asimismo, existen trabajos que han realizado esta evaluación de instituciones históricas en otro países. Por ejemplo, el trabajo de Robinson (2015) analiza las facetas extractivas de las instituciones políticas de Colombia desde los años 1850, y demuestra que estas se han tornado menos extractivas con el paso del tiempo, lo que ha generado modernización en el país, pero cuya pobreza y violencia persisten por causa de otros factores. Trabajos como este podrían usarse para realizar comparaciones con el Perú, u otros países con un pasado colonial. Esto es lo que Michalopoulos y Papaioannou (2013) realizan acerca del desarrollo contemporáneo de África, y logran evidenciar que la distribución étnica centralizada de la época colonial ha tenido un efecto en el desarrollo regional.\n",
    "\n",
    "Bibliografía\n",
    "\n",
    "- Dell, M. (2010). The persistent effects of Peru's mining mita. Econometrica, 78(6), 1863-1903.\n",
    "- Michalopoulos, S., & Papaioannou, E. (2013). Pre‐colonial ethnic institutions and contemporary African development. Econometrica, 81(1), 113-152.\n",
    "- Robinson, J. A. (2015). The misery in Colombia. Desarrollo y sociedad, (76), 9-90."
   ]
  },
  {
   "cell_type": "markdown",
   "id": "dd1a0551",
   "metadata": {},
   "source": [
    "### Código"
   ]
  },
  {
   "cell_type": "code",
   "execution_count": 11,
   "id": "ff24e302",
   "metadata": {},
   "outputs": [],
   "source": [
    "import os\n",
    "import numpy as np \n",
    "import pandas as pd \n",
    "import statsmodels.api as sm \n",
    "import statsmodels.formula.api as smf \n",
    "from itertools import combinations \n",
    "import plotnine as p\n",
    "import statsmodels.api as sm\n",
    "import statsmodels.formula.api as smf\n",
    "import linearmodels.iv.model as lm\n",
    "from linearmodels.iv import IV2SLS\n",
    "from statsmodels.iolib.summary2 import summary_col\n",
    "import seaborn as sns"
   ]
  },
  {
   "cell_type": "code",
   "execution_count": 12,
   "id": "b6df3678",
   "metadata": {},
   "outputs": [
    {
     "data": {
      "text/html": [
       "<div>\n",
       "<style scoped>\n",
       "    .dataframe tbody tr th:only-of-type {\n",
       "        vertical-align: middle;\n",
       "    }\n",
       "\n",
       "    .dataframe tbody tr th {\n",
       "        vertical-align: top;\n",
       "    }\n",
       "\n",
       "    .dataframe thead th {\n",
       "        text-align: right;\n",
       "    }\n",
       "</style>\n",
       "<table border=\"1\" class=\"dataframe\">\n",
       "  <thead>\n",
       "    <tr style=\"text-align: right;\">\n",
       "      <th></th>\n",
       "      <th>id</th>\n",
       "      <th>nearc2</th>\n",
       "      <th>nearc4</th>\n",
       "      <th>educ</th>\n",
       "      <th>age</th>\n",
       "      <th>fatheduc</th>\n",
       "      <th>motheduc</th>\n",
       "      <th>weight</th>\n",
       "      <th>momdad14</th>\n",
       "      <th>sinmom14</th>\n",
       "      <th>...</th>\n",
       "      <th>KWW</th>\n",
       "      <th>IQ</th>\n",
       "      <th>married</th>\n",
       "      <th>libcrd14</th>\n",
       "      <th>exper</th>\n",
       "      <th>lwage</th>\n",
       "      <th>expersq</th>\n",
       "      <th>u_lwage</th>\n",
       "      <th>lwage_hat</th>\n",
       "      <th>u_educ</th>\n",
       "    </tr>\n",
       "  </thead>\n",
       "  <tbody>\n",
       "    <tr>\n",
       "      <th>0</th>\n",
       "      <td>2.0</td>\n",
       "      <td>0.0</td>\n",
       "      <td>0.0</td>\n",
       "      <td>7.0</td>\n",
       "      <td>29.0</td>\n",
       "      <td>NaN</td>\n",
       "      <td>NaN</td>\n",
       "      <td>158413.0</td>\n",
       "      <td>1.0</td>\n",
       "      <td>0.0</td>\n",
       "      <td>...</td>\n",
       "      <td>15.0</td>\n",
       "      <td>NaN</td>\n",
       "      <td>1.0</td>\n",
       "      <td>0.0</td>\n",
       "      <td>16.0</td>\n",
       "      <td>6.306275</td>\n",
       "      <td>256.0</td>\n",
       "      <td>0.198047</td>\n",
       "      <td>6.108228</td>\n",
       "      <td>-3.067539</td>\n",
       "    </tr>\n",
       "    <tr>\n",
       "      <th>1</th>\n",
       "      <td>3.0</td>\n",
       "      <td>0.0</td>\n",
       "      <td>0.0</td>\n",
       "      <td>12.0</td>\n",
       "      <td>27.0</td>\n",
       "      <td>8.0</td>\n",
       "      <td>8.0</td>\n",
       "      <td>380166.0</td>\n",
       "      <td>1.0</td>\n",
       "      <td>0.0</td>\n",
       "      <td>...</td>\n",
       "      <td>35.0</td>\n",
       "      <td>93.0</td>\n",
       "      <td>1.0</td>\n",
       "      <td>1.0</td>\n",
       "      <td>9.0</td>\n",
       "      <td>6.175867</td>\n",
       "      <td>81.0</td>\n",
       "      <td>-0.211160</td>\n",
       "      <td>6.387027</td>\n",
       "      <td>-1.727562</td>\n",
       "    </tr>\n",
       "    <tr>\n",
       "      <th>2</th>\n",
       "      <td>4.0</td>\n",
       "      <td>0.0</td>\n",
       "      <td>0.0</td>\n",
       "      <td>12.0</td>\n",
       "      <td>34.0</td>\n",
       "      <td>14.0</td>\n",
       "      <td>12.0</td>\n",
       "      <td>367470.0</td>\n",
       "      <td>1.0</td>\n",
       "      <td>0.0</td>\n",
       "      <td>...</td>\n",
       "      <td>42.0</td>\n",
       "      <td>103.0</td>\n",
       "      <td>1.0</td>\n",
       "      <td>1.0</td>\n",
       "      <td>16.0</td>\n",
       "      <td>6.580639</td>\n",
       "      <td>256.0</td>\n",
       "      <td>0.204719</td>\n",
       "      <td>6.375920</td>\n",
       "      <td>1.012975</td>\n",
       "    </tr>\n",
       "    <tr>\n",
       "      <th>3</th>\n",
       "      <td>5.0</td>\n",
       "      <td>1.0</td>\n",
       "      <td>1.0</td>\n",
       "      <td>11.0</td>\n",
       "      <td>27.0</td>\n",
       "      <td>11.0</td>\n",
       "      <td>12.0</td>\n",
       "      <td>380166.0</td>\n",
       "      <td>1.0</td>\n",
       "      <td>0.0</td>\n",
       "      <td>...</td>\n",
       "      <td>25.0</td>\n",
       "      <td>88.0</td>\n",
       "      <td>1.0</td>\n",
       "      <td>1.0</td>\n",
       "      <td>10.0</td>\n",
       "      <td>5.521461</td>\n",
       "      <td>100.0</td>\n",
       "      <td>-0.967905</td>\n",
       "      <td>6.489366</td>\n",
       "      <td>-2.253536</td>\n",
       "    </tr>\n",
       "    <tr>\n",
       "      <th>4</th>\n",
       "      <td>6.0</td>\n",
       "      <td>1.0</td>\n",
       "      <td>1.0</td>\n",
       "      <td>12.0</td>\n",
       "      <td>34.0</td>\n",
       "      <td>8.0</td>\n",
       "      <td>7.0</td>\n",
       "      <td>367470.0</td>\n",
       "      <td>1.0</td>\n",
       "      <td>0.0</td>\n",
       "      <td>...</td>\n",
       "      <td>34.0</td>\n",
       "      <td>108.0</td>\n",
       "      <td>1.0</td>\n",
       "      <td>0.0</td>\n",
       "      <td>16.0</td>\n",
       "      <td>6.591674</td>\n",
       "      <td>256.0</td>\n",
       "      <td>0.125173</td>\n",
       "      <td>6.466501</td>\n",
       "      <td>1.090437</td>\n",
       "    </tr>\n",
       "  </tbody>\n",
       "</table>\n",
       "<p>5 rows × 37 columns</p>\n",
       "</div>"
      ],
      "text/plain": [
       "    id  nearc2  nearc4  educ   age  fatheduc  motheduc    weight  momdad14  \\\n",
       "0  2.0     0.0     0.0   7.0  29.0       NaN       NaN  158413.0       1.0   \n",
       "1  3.0     0.0     0.0  12.0  27.0       8.0       8.0  380166.0       1.0   \n",
       "2  4.0     0.0     0.0  12.0  34.0      14.0      12.0  367470.0       1.0   \n",
       "3  5.0     1.0     1.0  11.0  27.0      11.0      12.0  380166.0       1.0   \n",
       "4  6.0     1.0     1.0  12.0  34.0       8.0       7.0  367470.0       1.0   \n",
       "\n",
       "   sinmom14  ...   KWW     IQ  married  libcrd14  exper     lwage  expersq  \\\n",
       "0       0.0  ...  15.0    NaN      1.0       0.0   16.0  6.306275    256.0   \n",
       "1       0.0  ...  35.0   93.0      1.0       1.0    9.0  6.175867     81.0   \n",
       "2       0.0  ...  42.0  103.0      1.0       1.0   16.0  6.580639    256.0   \n",
       "3       0.0  ...  25.0   88.0      1.0       1.0   10.0  5.521461    100.0   \n",
       "4       0.0  ...  34.0  108.0      1.0       0.0   16.0  6.591674    256.0   \n",
       "\n",
       "    u_lwage  lwage_hat    u_educ  \n",
       "0  0.198047   6.108228 -3.067539  \n",
       "1 -0.211160   6.387027 -1.727562  \n",
       "2  0.204719   6.375920  1.012975  \n",
       "3 -0.967905   6.489366 -2.253536  \n",
       "4  0.125173   6.466501  1.090437  \n",
       "\n",
       "[5 rows x 37 columns]"
      ]
     },
     "execution_count": 12,
     "metadata": {},
     "output_type": "execute_result"
    }
   ],
   "source": [
    "import ssl\n",
    "ssl._create_default_https_context = ssl._create_unverified_context\n",
    "\n",
    "def read_data(file): \n",
    "    return pd.read_stata(\"https://raw.github.com/scunning1975/mixtape/master/\" + file)\n",
    "\n",
    "card = read_data(\"card.dta\")\n",
    "card.head()"
   ]
  },
  {
   "cell_type": "markdown",
   "id": "ab04270e",
   "metadata": {},
   "source": [
    "#### Instrumental Variables"
   ]
  },
  {
   "cell_type": "markdown",
   "id": "794c8add",
   "metadata": {},
   "source": [
    "El supuesto de relevancia y validez son las dos condiciones mínimas que se deben satisfacer para que una variable instrumental funcione correctamente.\n",
    "\n",
    "Cuando hablamos de \"relevancia\" nos estamos refiriendo a que debe existir una relación mínima entre la variable de tratamiento X y la variable instrumental Z. Cuando usamos variables instrumentales, lo que buscamos es usar la parte de X que se explica por Z. Por lo tanto, la \"relevancia\" refiere a la condición indispensable de que Z efectivamente se relacione con X. Mientras más fuerte sea esta correlación, es decir mientras más se acerque a 1, entonces podemos tener más confianza de que esta relación permitirá que la variable instrumental funcione correctamente.\n",
    "\n",
    "En cambio, cuando nos referimos a la \"validez\", nos referimos a que la variable instrumental Z debe ser una variable que no tenga puertas traseras propias. Esto quiere decir que no debe haber ningún otro camino que lleve a Z a afectar a Y, excepto el camino de X, que es nuestra variable de tratamiento. A la validez también podemos llamar la condición de \"restricción de exclusión\", en el sentido de que Z puede ser retirada del modelo de Y luego de haber construído el camino de Z a X. La idea de la \"validez\" es que la variable Z se encargue de cerrar algunas de las puertas traseras de X, y para ello la variable Z no debe tener puertas traseras de su parte. Por lo tanto, si nuestra variable Z es válida, todo mecanismo causal debe empezar por Z, lo que cierra las puertas de las demás variables que afectan a X dentro de ese modelo. Pero siempre resulta difícil identificar la validez de una variable instrumental, a menos que este represente una aleatoreidad real, o provenga de un entorno totalmente diferente al de la variable Y, pero que igual pueda relacionarse con X."
   ]
  },
  {
   "cell_type": "markdown",
   "id": "34323aef",
   "metadata": {},
   "source": [
    "#### Ploteo de Histogramas"
   ]
  },
  {
   "cell_type": "code",
   "execution_count": 4,
   "id": "f3559bb5",
   "metadata": {},
   "outputs": [
    {
     "data": {
      "text/plain": [
       "<seaborn.axisgrid.FacetGrid at 0x201637643d0>"
      ]
     },
     "execution_count": 4,
     "metadata": {},
     "output_type": "execute_result"
    },
    {
     "data": {
      "image/png": "[encoded data removed]",
      "text/plain": [
       "<Figure size 720x360 with 2 Axes>"
      ]
     },
     "metadata": {
      "needs_background": "light"
     },
     "output_type": "display_data"
    }
   ],
   "source": [
    "g = sns.displot(data=card, x=\"educ\", col=\"nearc4\", stat=\"count\")\n",
    "g.set(xlabel = \"Años de Educación\", ylabel = \"Frecuencia\")"
   ]
  },
  {
   "cell_type": "markdown",
   "id": "d1d859a5",
   "metadata": {},
   "source": [
    "Viendo ambos histogramas, se puede observar que la variable \"vivir cerca a la universidad\" afecta los años de educación de las personas. En general, se puede afirmar que vivir cerca a una universidad aumenta los años de educación en promedio que reciben los jóvenes de la investigación. El primer gráfico muestra el nivel de educación de jóvenes que no viven cerca a su universidad al ser la variable \"nearc4\" con categoría 0. Alrededor de 350 jóvenes llegaron a tener 12 años y medio de educación, y solo alrededor de 40 lograron alcanzar 17 años y medio de educación. En cambio, en el segundo gráfico, de aquellos jóvenes con universidades ubicadas cerca al lugar donde viven, se observa que los años de educación de muchos de ellos son más altos que los del primer gráfico. Aquí más de 600 jóvenes alcanzaron los 12 años y medio de educación, y alrededor de 200 llegaron a las 17 años y medio. Por lo tanto, vemos que existe un aumento de los años de educación al vivir cerca a una universidad. "
   ]
  },
  {
   "cell_type": "code",
   "execution_count": 6,
   "id": "790f1c1f",
   "metadata": {},
   "outputs": [
    {
     "data": {
      "text/plain": [
       "<seaborn.axisgrid.FacetGrid at 0x20164f390d0>"
      ]
     },
     "execution_count": 6,
     "metadata": {},
     "output_type": "execute_result"
    },
    {
     "data": {
      "image/png": "[encoded data removed]",
      "text/plain": [
       "<Figure size 720x360 with 2 Axes>"
      ]
     },
     "metadata": {
      "needs_background": "light"
     },
     "output_type": "display_data"
    }
   ],
   "source": [
    "g = sns.displot(data=card, x=\"lwage\", col=\"nearc4\", stat=\"count\")\n",
    "g.set(xlabel = \"Logaritmo de los ingresos\", ylabel = \"Frecuencia\")"
   ]
  },
  {
   "cell_type": "markdown",
   "id": "36e31afb",
   "metadata": {},
   "source": [
    "Ambos histogramas muestran la distribución de ingresos de las personas que viven cerca a una universidad y las que no. Sin embargo, no se ven diferencias significativas en el patrón, ya que se observa una distribución normal en ambos casos. Es verdad que en el gráfico 2 hay un poco más de concentración en las personas con logaritmo de ingresos 6.5 a 6.7, pero esto se debe a la cantidad de casos del grupo. En ambos gráficos, existen pocos personas con logaritmos de ingresos menos a 5 o mayores a 7, y la mayor concentración de estos logaritmos se encuentran entre 6 y 6.5 logaritmo de ingresos. Por lo tanto, no parece observarse una relación entre vivir cerca a una universidad y tener más o menos ingresos. Lo único que cambia es la cantidad de casos por grupo, donde el grupo de personas que viven en una universidad es mayor. Sin embargo, la distribución de los ingresos no cambia de manera significativa entre ambos gráficos."
   ]
  },
  {
   "cell_type": "markdown",
   "id": "23b5f38f",
   "metadata": {},
   "source": [
    "#### Regresiones"
   ]
  },
  {
   "cell_type": "code",
   "execution_count": 13,
   "id": "0f9db2f8",
   "metadata": {},
   "outputs": [
    {
     "data": {
      "text/html": [
       "<table class=\"simpletable\">\n",
       "<caption>OLS Regression Results</caption>\n",
       "<tr>\n",
       "  <th>Dep. Variable:</th>          <td>lwage</td>      <th>  R-squared:         </th> <td>   0.305</td> \n",
       "</tr>\n",
       "<tr>\n",
       "  <th>Model:</th>                   <td>OLS</td>       <th>  Adj. R-squared:    </th> <td>   0.304</td> \n",
       "</tr>\n",
       "<tr>\n",
       "  <th>Method:</th>             <td>Least Squares</td>  <th>  F-statistic:       </th> <td>   219.2</td> \n",
       "</tr>\n",
       "<tr>\n",
       "  <th>Date:</th>             <td>Fri, 11 Nov 2022</td> <th>  Prob (F-statistic):</th> <td>1.97e-232</td>\n",
       "</tr>\n",
       "<tr>\n",
       "  <th>Time:</th>                 <td>17:18:06</td>     <th>  Log-Likelihood:    </th> <td> -1273.9</td> \n",
       "</tr>\n",
       "<tr>\n",
       "  <th>No. Observations:</th>      <td>  3003</td>      <th>  AIC:               </th> <td>   2562.</td> \n",
       "</tr>\n",
       "<tr>\n",
       "  <th>Df Residuals:</th>          <td>  2996</td>      <th>  BIC:               </th> <td>   2604.</td> \n",
       "</tr>\n",
       "<tr>\n",
       "  <th>Df Model:</th>              <td>     6</td>      <th>                     </th>     <td> </td>    \n",
       "</tr>\n",
       "<tr>\n",
       "  <th>Covariance Type:</th>      <td>nonrobust</td>    <th>                     </th>     <td> </td>    \n",
       "</tr>\n",
       "</table>\n",
       "<table class=\"simpletable\">\n",
       "<tr>\n",
       "      <td></td>         <th>coef</th>     <th>std err</th>      <th>t</th>      <th>P>|t|</th>  <th>[0.025</th>    <th>0.975]</th>  \n",
       "</tr>\n",
       "<tr>\n",
       "  <th>Intercept</th> <td>    5.0633</td> <td>    0.064</td> <td>   79.437</td> <td> 0.000</td> <td>    4.938</td> <td>    5.188</td>\n",
       "</tr>\n",
       "<tr>\n",
       "  <th>educ</th>      <td>    0.0712</td> <td>    0.003</td> <td>   20.438</td> <td> 0.000</td> <td>    0.064</td> <td>    0.078</td>\n",
       "</tr>\n",
       "<tr>\n",
       "  <th>exper</th>     <td>    0.0342</td> <td>    0.002</td> <td>   15.422</td> <td> 0.000</td> <td>    0.030</td> <td>    0.038</td>\n",
       "</tr>\n",
       "<tr>\n",
       "  <th>black</th>     <td>   -0.1660</td> <td>    0.018</td> <td>   -9.426</td> <td> 0.000</td> <td>   -0.201</td> <td>   -0.131</td>\n",
       "</tr>\n",
       "<tr>\n",
       "  <th>south</th>     <td>   -0.1316</td> <td>    0.015</td> <td>   -8.788</td> <td> 0.000</td> <td>   -0.161</td> <td>   -0.102</td>\n",
       "</tr>\n",
       "<tr>\n",
       "  <th>married</th>   <td>   -0.0359</td> <td>    0.003</td> <td>  -10.547</td> <td> 0.000</td> <td>   -0.043</td> <td>   -0.029</td>\n",
       "</tr>\n",
       "<tr>\n",
       "  <th>smsa</th>      <td>    0.1758</td> <td>    0.015</td> <td>   11.372</td> <td> 0.000</td> <td>    0.145</td> <td>    0.206</td>\n",
       "</tr>\n",
       "</table>\n",
       "<table class=\"simpletable\">\n",
       "<tr>\n",
       "  <th>Omnibus:</th>       <td>53.196</td> <th>  Durbin-Watson:     </th> <td>   1.858</td>\n",
       "</tr>\n",
       "<tr>\n",
       "  <th>Prob(Omnibus):</th> <td> 0.000</td> <th>  Jarque-Bera (JB):  </th> <td>  69.430</td>\n",
       "</tr>\n",
       "<tr>\n",
       "  <th>Skew:</th>          <td>-0.231</td> <th>  Prob(JB):          </th> <td>8.38e-16</td>\n",
       "</tr>\n",
       "<tr>\n",
       "  <th>Kurtosis:</th>      <td> 3.584</td> <th>  Cond. No.          </th> <td>    154.</td>\n",
       "</tr>\n",
       "</table><br/><br/>Notes:<br/>[1] Standard Errors assume that the covariance matrix of the errors is correctly specified."
      ],
      "text/plain": [
       "<class 'statsmodels.iolib.summary.Summary'>\n",
       "\"\"\"\n",
       "                            OLS Regression Results                            \n",
       "==============================================================================\n",
       "Dep. Variable:                  lwage   R-squared:                       0.305\n",
       "Model:                            OLS   Adj. R-squared:                  0.304\n",
       "Method:                 Least Squares   F-statistic:                     219.2\n",
       "Date:                Fri, 11 Nov 2022   Prob (F-statistic):          1.97e-232\n",
       "Time:                        17:18:06   Log-Likelihood:                -1273.9\n",
       "No. Observations:                3003   AIC:                             2562.\n",
       "Df Residuals:                    2996   BIC:                             2604.\n",
       "Df Model:                           6                                         \n",
       "Covariance Type:            nonrobust                                         \n",
       "==============================================================================\n",
       "                 coef    std err          t      P>|t|      [0.025      0.975]\n",
       "------------------------------------------------------------------------------\n",
       "Intercept      5.0633      0.064     79.437      0.000       4.938       5.188\n",
       "educ           0.0712      0.003     20.438      0.000       0.064       0.078\n",
       "exper          0.0342      0.002     15.422      0.000       0.030       0.038\n",
       "black         -0.1660      0.018     -9.426      0.000      -0.201      -0.131\n",
       "south         -0.1316      0.015     -8.788      0.000      -0.161      -0.102\n",
       "married       -0.0359      0.003    -10.547      0.000      -0.043      -0.029\n",
       "smsa           0.1758      0.015     11.372      0.000       0.145       0.206\n",
       "==============================================================================\n",
       "Omnibus:                       53.196   Durbin-Watson:                   1.858\n",
       "Prob(Omnibus):                  0.000   Jarque-Bera (JB):               69.430\n",
       "Skew:                          -0.231   Prob(JB):                     8.38e-16\n",
       "Kurtosis:                       3.584   Cond. No.                         154.\n",
       "==============================================================================\n",
       "\n",
       "Notes:\n",
       "[1] Standard Errors assume that the covariance matrix of the errors is correctly specified.\n",
       "\"\"\""
      ]
     },
     "execution_count": 13,
     "metadata": {},
     "output_type": "execute_result"
    }
   ],
   "source": [
    "ols_reg = sm.OLS.from_formula(\"lwage ~ educ + exper + black + south + married + smsa\", \n",
    "              data = card).fit()\n",
    "\n",
    "ols_reg.summary()"
   ]
  },
  {
   "cell_type": "markdown",
   "id": "43e9ae4d",
   "metadata": {},
   "source": [
    "Esta regresión nos muestra un p value menor a 0.05, por lo que podemos decir que los resultados son significativos. En este caso, todas las variables tienen un efecto sobre los ingresos. Las variables \"educ\", \"exper\" y \"smsa\", con coeficientes de 0.07, 0.03 y 0.18 tienen un efecto positivo en el ingreso. Esto quiere decir que si aumenta en una unidad la variable educación o la variable experiencia, es decir, que aumentan en un año, entonces el logaritmo de ingresos aumentará en 0.07 o 0.03 respectivamente. En el caso de vivir en SMSA, si se cumple esta condición, entonces el logaritmo del ingreso aumentará en 0.18. Sin embargo, ser afroamericano, vivir en el sur, o estar casado, son variables que afectan negativamente al ingreso. Esto quiere decir que si eres afroamericano, vives en el sur de EEUU o estas casado, el logaritmo del ingreso va a disminuir en 0.17, 0.12 o 0.04 puntos respectivamente."
   ]
  },
  {
   "cell_type": "code",
   "execution_count": 14,
   "id": "f31078f8",
   "metadata": {},
   "outputs": [
    {
     "data": {
      "text/html": [
       "<table class=\"simpletable\">\n",
       "<caption>IV-2SLS Estimation Summary</caption>\n",
       "<tr>\n",
       "  <th>Dep. Variable:</th>          <td>lwage</td>      <th>  R-squared:         </th> <td>-1.3114</td>\n",
       "</tr>\n",
       "<tr>\n",
       "  <th>Estimator:</th>             <td>IV-2SLS</td>     <th>  Adj. R-squared:    </th> <td>-1.3160</td>\n",
       "</tr>\n",
       "<tr>\n",
       "  <th>No. Observations:</th>       <td>3010</td>       <th>  F-statistic:       </th> <td>289.62</td> \n",
       "</tr>\n",
       "<tr>\n",
       "  <th>Date:</th>             <td>Fri, Nov 11 2022</td> <th>  P-value (F-stat)   </th> <td>0.0000</td> \n",
       "</tr>\n",
       "<tr>\n",
       "  <th>Time:</th>                 <td>17:18:11</td>     <th>  Distribution:      </th> <td>chi2(6)</td>\n",
       "</tr>\n",
       "<tr>\n",
       "  <th>Cov. Estimator:</th>        <td>robust</td>      <th>                     </th>    <td></td>    \n",
       "</tr>\n",
       "<tr>\n",
       "  <th></th>                          <td></td>         <th>                     </th>    <td></td>    \n",
       "</tr>\n",
       "</table>\n",
       "<table class=\"simpletable\">\n",
       "<caption>Parameter Estimates</caption>\n",
       "<tr>\n",
       "      <td></td>      <th>Parameter</th> <th>Std. Err.</th> <th>T-stat</th>  <th>P-value</th> <th>Lower CI</th> <th>Upper CI</th>\n",
       "</tr>\n",
       "<tr>\n",
       "  <th>Intercept</th>  <td>0.1276</td>    <td>3.1412</td>   <td>0.0406</td>  <td>0.9676</td>   <td>-6.0290</td>  <td>6.2843</td> \n",
       "</tr>\n",
       "<tr>\n",
       "  <th>black</th>      <td>0.1134</td>    <td>0.1816</td>   <td>0.6244</td>  <td>0.5324</td>   <td>-0.2425</td>  <td>0.4692</td> \n",
       "</tr>\n",
       "<tr>\n",
       "  <th>exper</th>      <td>0.1515</td>    <td>0.0747</td>   <td>2.0274</td>  <td>0.0426</td>   <td>0.0050</td>   <td>0.2980</td> \n",
       "</tr>\n",
       "<tr>\n",
       "  <th>married</th>    <td>-0.0151</td>   <td>0.0147</td>   <td>-1.0258</td> <td>0.3050</td>   <td>-0.0438</td>  <td>0.0137</td> \n",
       "</tr>\n",
       "<tr>\n",
       "  <th>smsa</th>       <td>0.0201</td>    <td>0.1030</td>   <td>0.1949</td>  <td>0.8455</td>   <td>-0.1819</td>  <td>0.2220</td> \n",
       "</tr>\n",
       "<tr>\n",
       "  <th>south</th>      <td>-0.0319</td>   <td>0.0692</td>   <td>-0.4603</td> <td>0.6453</td>   <td>-0.1675</td>  <td>0.1038</td> \n",
       "</tr>\n",
       "<tr>\n",
       "  <th>educ</th>       <td>0.3618</td>    <td>0.1849</td>   <td>1.9562</td>  <td>0.0504</td>   <td>-0.0007</td>  <td>0.7243</td> \n",
       "</tr>\n",
       "</table><br/><br/>Endogenous: educ<br/>Instruments: nearc2<br/>Robust Covariance (Heteroskedastic)<br/>Debiased: False"
      ],
      "text/plain": [
       "<class 'linearmodels.compat.statsmodels.Summary'>\n",
       "\"\"\"\n",
       "                          IV-2SLS Estimation Summary                          \n",
       "==============================================================================\n",
       "Dep. Variable:                  lwage   R-squared:                     -1.3114\n",
       "Estimator:                    IV-2SLS   Adj. R-squared:                -1.3160\n",
       "No. Observations:                3010   F-statistic:                    289.62\n",
       "Date:                Fri, Nov 11 2022   P-value (F-stat)                0.0000\n",
       "Time:                        17:18:11   Distribution:                  chi2(6)\n",
       "Cov. Estimator:                robust                                         \n",
       "                                                                              \n",
       "                             Parameter Estimates                              \n",
       "==============================================================================\n",
       "            Parameter  Std. Err.     T-stat    P-value    Lower CI    Upper CI\n",
       "------------------------------------------------------------------------------\n",
       "Intercept      0.1276     3.1412     0.0406     0.9676     -6.0290      6.2843\n",
       "black          0.1134     0.1816     0.6244     0.5324     -0.2425      0.4692\n",
       "exper          0.1515     0.0747     2.0274     0.0426      0.0050      0.2980\n",
       "married       -0.0151     0.0147    -1.0258     0.3050     -0.0438      0.0137\n",
       "smsa           0.0201     0.1030     0.1949     0.8455     -0.1819      0.2220\n",
       "south         -0.0319     0.0692    -0.4603     0.6453     -0.1675      0.1038\n",
       "educ           0.3618     0.1849     1.9562     0.0504     -0.0007      0.7243\n",
       "==============================================================================\n",
       "\n",
       "Endogenous: educ\n",
       "Instruments: nearc2\n",
       "Robust Covariance (Heteroskedastic)\n",
       "Debiased: False\n",
       "\"\"\""
      ]
     },
     "execution_count": 14,
     "metadata": {},
     "output_type": "execute_result"
    }
   ],
   "source": [
    "card['married'] = card['married'].fillna(0)\n",
    "\n",
    "iv_reg = IV2SLS.from_formula(\"lwage ~  1 + exper + black + south + married + smsa + [educ ~ nearc2 ]\", card).fit()\n",
    "iv_reg.summary"
   ]
  },
  {
   "cell_type": "markdown",
   "id": "85011291",
   "metadata": {},
   "source": [
    "A comparación de la regresión sin variables instrumentales, esta regresión ha generado que cambie el coeficiente de la variable \"educ\" cuando tomamos a la variable \"nearc2\", que significa vivir cerca a una universidad. Su p value es un poco mayor a 0.05, por lo que podríamos argumentar que no es un valor significativo. Sin embargo, igual podemos analizar estos resultados. En la primer regresión, el coeficiente de \"educ\" fue de 0.0712. Ahora, con la variable instrumental, el coeficiente de educ fue de 0.36, es decir, 5 veces mayor que cuando no instrumentalizamos a la variable. Esto quiere decir que cuando instrumentalizamos a la variable \"educación\", en este caso con la variable de \"vivir cerca a una universidad\", su capacidad de afectar a la variable \"ingreso\" aumenta considerablemente. Este cambio se debe claramente al efecto de la variable instrumental de cerrar las puertas traseras que afectaban a la variable de tratamiento \"educación\". Asimismo, podemos estar seguros de la fuerza de esta variable instrumental \"nearc2\" por el F statistic, que es mucho mayor que 15. En resumen, ahora podemos decir que cuando asociamos la educación con la cercanía de una universidad, por cada año extra de educación, el logaritmo de ingresos aumentará en 0.36, o 36%."
   ]
  }
 ],
 "metadata": {
  "kernelspec": {
   "display_name": "Python 3 (ipykernel)",
   "language": "python",
   "name": "python3"
  },
  "language_info": {
   "codemirror_mode": {
    "name": "ipython",
    "version": 3
   },
   "file_extension": ".py",
   "mimetype": "text/x-python",
   "name": "python",
   "nbconvert_exporter": "python",
   "pygments_lexer": "ipython3",
   "version": "3.9.12"
  }
 },
 "nbformat": 4,
 "nbformat_minor": 5
}
