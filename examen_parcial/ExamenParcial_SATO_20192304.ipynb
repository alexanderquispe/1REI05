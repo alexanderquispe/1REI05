{
 "cells": [
  {
   "cell_type": "markdown",
   "id": "ee750e44",
   "metadata": {},
   "source": [
    "Ariana Sato Flores 20192304"
   ]
  },
  {
   "cell_type": "markdown",
   "id": "50b63e70",
   "metadata": {},
   "source": [
    "**Teoría (11 puntos)**"
   ]
  },
  {
   "cell_type": "markdown",
   "id": "856f3480",
   "metadata": {},
   "source": [
    "1.Defina el Multiplicador Keynesiano y dé un ejemplo de cómo influye este en el modelo Ingreso-Gasto Keynesiano."
   ]
  },
  {
   "cell_type": "markdown",
   "id": "b20bf79f",
   "metadata": {},
   "source": [
    "El multiplicador Keynesiano de inversión muestra el aumento del gasto en una inversión provoca\n",
    "un aumento multiplicado de la producción y de la renta.\n",
    "Es decir, nos muestra lo que ocurre cuando se produce un incremento o disminución en el gasto público.\n",
    "Con respecto al modelo Ingreso-Gasto Keynesiano, este se ve influido porque se señala cómo varía el nivel\n",
    "de gasto con respecto a la producción economómica, en donde se explica que si aumenta el gasto, también lo hace\n",
    "la demanda agregada y el ingreso de equilibrio. Por ejemplo,un aumento en la inversión autónoma tiene\n",
    "una efecto expansivo sobre el producto o ingreso, entonces cuando la macroeconomía está en equilibrio, debe ser evidente\n",
    "que los gastos agregados de la economía son iguales al PIB real, ya que el PIB es la medida de lo que se gasta en la venta de bienes\n",
    "y servicios finales producidos por una economía."
   ]
  },
  {
   "cell_type": "markdown",
   "id": "72f4afa1",
   "metadata": {},
   "source": [
    "**2.Grafique y explique cúando sucede un exceso y déficit de demanda en el modelo Ingreso-Gasto. Señale las áreas donde ocurre cada caso. Explique cómo se converge al equilibrio a partir de estos dos escenarios.**"
   ]
  },
  {
   "cell_type": "markdown",
   "id": "086ab512",
   "metadata": {},
   "source": [
    "El exceso del modelo Ingreso-Gasto, sucede cuando la demanda agregada es mayor que el nivel de producción, entonces\n",
    "se indica que existe un exceso de demanda que provoca una disminución de los inventarios y aumentos de la producción\n",
    "hasta llegar al equilibrio. Por otro lado, un déficit de demanda sucede cuando existe se da un aumento de los inventarios y\n",
    "a disminuciones de la producción hasta llegar al equilibrio."
   ]
  },
  {
   "cell_type": "code",
   "execution_count": 1,
   "id": "0672a5e6",
   "metadata": {},
   "outputs": [],
   "source": [
    "%matplotlib widget\n",
    "%matplotlib inline\n",
    "import ipywidgets as widgets\n",
    "import matplotlib.pyplot as plt\n",
    "import numpy as np\n",
    "import sympy as sy\n",
    "from sympy import *\n",
    "import pandas as pd"
   ]
  },
  {
   "cell_type": "code",
   "execution_count": 2,
   "id": "8a1c93e2",
   "metadata": {},
   "outputs": [],
   "source": [
    "#Gráfico\n",
    "Y_size = 100 \n",
    "\n",
    "Co = 35\n",
    "Io = 40\n",
    "Go = 70\n",
    "Xo = 2\n",
    "h = 0.7\n",
    "b = 0.8\n",
    "m = 0.2\n",
    "t = 0.3\n",
    "\n",
    "Y = np.arange(Y_size)\n",
    "\n",
    "\n",
    "# Ecuación \n",
    "def r_IS(b, m, t, Co, Io, Go, Xo, h, Y):\n",
    "    r_IS = (Co + Io + Go + Xo - Y * (1-(b-m)*(1-t)))/h\n",
    "    return r_IS\n",
    "\n",
    "r = r_IS(b, m, t, Co, Io, Go, Xo, h, Y)"
   ]
  },
  {
   "cell_type": "code",
   "execution_count": 4,
   "id": "ebefaf67",
   "metadata": {},
   "outputs": [],
   "source": [
    "# Gráfico de la curva IS\n",
    "\n",
    "# Parámetros\n",
    "\n",
    "Y_size = 100 \n",
    "\n",
    "Co = 35\n",
    "Io = 40\n",
    "Go = 70\n",
    "Xo = 2\n",
    "h = 0.7\n",
    "b = 0.8\n",
    "m = 0.2\n",
    "t = 0.3\n",
    "r = 0.9\n",
    "\n",
    "Y = np.arange(Y_size)\n",
    "\n",
    "# Ecuación de la curva del ingreso de equilibrio\n",
    "\n",
    "def DA_K(Co, Io, Go, Xo, h, r, b, m, t, Y):\n",
    "    DA_K = (Co + Io + Go + Xo - h*r) + ((b - m)*(1 - t)*Y)\n",
    "    return DA_K\n",
    "\n",
    "DA_IS_K = DA_K(Co, Io, Go, Xo, h, r, b, m, t, Y)\n",
    "\n",
    "#--------------------------------------------------\n",
    "# Recta de 45°\n",
    "\n",
    "a = 2.5 \n",
    "\n",
    "def L_45(a, Y):\n",
    "    L_45 = a*Y\n",
    "    return L_45\n",
    "\n",
    "L_45 = L_45(a, Y)\n",
    "\n",
    "#--------------------------------------------------\n",
    "# Segunda curva de ingreso de equilibrio\n",
    "\n",
    "    # Definir cualquier parámetro autónomo\n",
    "Go = 35\n",
    "\n",
    "# Generar la ecuación con el nuevo parámetro\n",
    "def DA_K(Co, Io, Go, Xo, h, r, b, m, t, Y):\n",
    "    DA_K = (Co + Io + Go + Xo - h*r) + ((b - m)*(1 - t)*Y)\n",
    "    return DA_K\n",
    "\n",
    "DA_G = DA_K(Co, Io, Go, Xo, h, r, b, m, t, Y)"
   ]
  },
  {
   "cell_type": "code",
   "execution_count": 5,
   "id": "8c7a2712",
   "metadata": {},
   "outputs": [],
   "source": [
    "# Parámetros\n",
    "\n",
    "Y_size = 100 \n",
    "\n",
    "Co = 35\n",
    "Io = 40\n",
    "Go = 70\n",
    "Xo = 2\n",
    "h = 0.7\n",
    "b = 0.8\n",
    "m = 0.2\n",
    "t = 0.3\n",
    "\n",
    "Y = np.arange(Y_size)\n",
    "\n",
    "\n",
    "# Ecuación \n",
    "def r_IS(b, m, t, Co, Io, Go, Xo, h, Y):\n",
    "    r_IS = (Co + Io + Go + Xo - Y * (1-(b-m)*(1-t)))/h\n",
    "    return r_IS\n",
    "\n",
    "r = r_IS(b, m, t, Co, Io, Go, Xo, h, Y)"
   ]
  },
  {
   "cell_type": "code",
   "execution_count": 7,
   "id": "5a7ce17a",
   "metadata": {},
   "outputs": [
    {
     "data": {
      "image/png": "[encoded data removed]",
      "text/plain": [
       "<Figure size 720x576 with 1 Axes>"
      ]
     },
     "metadata": {},
     "output_type": "display_data"
    }
   ],
   "source": [
    "# Curves to plot\n",
    "# Parameters\n",
    "\n",
    "Y_size = 100 \n",
    "\n",
    "Co = 35\n",
    "Io = 40\n",
    "Go = 70\n",
    "Xo = 2\n",
    "h = 0.7\n",
    "b = 0.8\n",
    "m = 0.2\n",
    "t = 0.3\n",
    "Y = np.arange(Y_size)\n",
    "# Equation \n",
    "def r_IS(b, m, t, Co, Io, Go, Xo, h, Y):\n",
    "    r_IS = (1/h)*(Co + Io + Go + Xo) - (1/h)*(1-(b-m)*(1-t))*Y\n",
    "    return r_IS\n",
    "r = r_IS(b, m, t, Co, Io, Go, Xo, h, Y)\n",
    "\n",
    "# Dimensions\n",
    "y_max = np.max(r)\n",
    "fig, ax = plt.subplots(figsize=(10, 8))\n",
    "\n",
    "# Curves to plot\n",
    "ax.plot(Y, r, label = \"IS\", color = \"#7FFFD4\") #Demanda agregada\n",
    "\n",
    "# Remove the quantities from the axes\n",
    "ax.yaxis.set_major_locator(plt.NullLocator())   \n",
    "ax.xaxis.set_major_locator(plt.NullLocator())\n",
    "ax.text(0, 180, '$r_A$', fontsize = 12, color = 'red')\n",
    "ax.text(22, 180, 'C', fontsize = 12, color = 'red')\n",
    "ax.text(37, 180, 'A', fontsize = 12, color = 'red')\n",
    "ax.text(52, 180, 'B', fontsize = 12, color = 'red')\n",
    "ax.text(22, 127, '$Y_C$', fontsize = 12, color = 'red')\n",
    "ax.text(37, 127, '$Y_A$', fontsize = 12, color = 'red')\n",
    "ax.text(52, 127, '$Y_B$', fontsize = 12, color = 'red')\n",
    "#/// Lineas horizontales | Lineas verticales\n",
    "plt.axvline(x = 22,  ymin= 0, ymax= 0.69, linestyle = \":\", color = \"green\")\n",
    "plt.axvline(x = 37,  ymin= 0, ymax= 0.69, linestyle = \":\", color = \"green\")\n",
    "plt.axvline(x = 52,  ymin= 0, ymax= 0.69, linestyle = \":\", color = \"green\")\n",
    "plt.axhline(y = 180, xmin= 0, xmax = 0.7, linestyle = \":\", color = \"green\")\n",
    "#// Texto\n",
    "plt.text(24, 160, 'Exceso de', fontsize = 11.5, color = '#FFEBCD')\n",
    "plt.text(24, 155, 'demanda', fontsize = 11.5, color = '#FFEBCD')\n",
    "#// Texto\n",
    "plt.text(65, 190, 'Exceso de', fontsize = 11.5, color = '#FFEBCD')\n",
    "plt.text(65, 185, 'Oferta', fontsize = 11.5, color = '#FFEBCD')\n",
    "\n",
    "# Title, axes adn legend\n",
    "ax.set(title = \"Equilibrio y Desequilibrio en el Mercado de Bienes\", xlabel= 'Y', ylabel= 'r')\n",
    "ax.legend()\n",
    "\n",
    "ax.legend()\n",
    "plt.show()\n"
   ]
  },
  {
   "cell_type": "markdown",
   "id": "aa837fab",
   "metadata": {},
   "source": [
    "El desquilibrio en los mercados pueden ocurrir porque, por ejemplo, un precio real está por encima del precio de equilbrio, la demanda de los productos aumenta, pero como los precios son altos puede que haya menos demanda y por consiguiente el llamado \"exceso de oferta\".Por otro lado, cuando real es inferior al precio de equilibrio, habrá menos oferta de los productos y más demandantes dispuestos a adquirir esos productos. Se producirá por tanto un exceso de demanda, por lo tanto, el precio real tenderá a aumentar debido a la cantidad de personas que quieren el producto.Es por ello que no estos casos no son considerados dentro del punto de equilibrio en el mercado de bienes."
   ]
  },
  {
   "cell_type": "markdown",
   "id": "39e25a70",
   "metadata": {},
   "source": [
    " **3. ¿Cuáles son las herramientas de política fiscal y política monetaria? \n",
    "    De un ejemplo para cada una de ellas dentro del contexto peruano. Coloque su fuente en caso sea necesario.\n",
    "    (Solo necesita 1 para pol. Fiscal y 1 para Monetaria).**"
   ]
  },
  {
   "cell_type": "markdown",
   "id": "fec6b08c",
   "metadata": {},
   "source": [
    "Las herramientas de la política fiscal son la tributación, el gasto público y la política\n",
    "de precios de las empresas públicas con el objetivo de asegurar y mantener una estabilidad econmómica.\n",
    "Para aplicar un ejemplo en el contexto peruano, podría mencionar la baja recaudación de impuestos en el país\n",
    "durante el año 2020, ya que según la OCDE (2022), el PIB de Perú en 2020 (15.2%) estuvo por debajo del promedio\n",
    "de ALC (21.9%).Ello puede ser explicado por la elevada evasión tributaria y los excesivos beneficios tributarios.\n",
    "\n",
    "En cuanto a las herramientas de política monetaria son el tipo de interés de intervención,\n",
    "las operaciones de mercado abierto, las facilidades permanentes o las reservas mínimas para obtener una estabilidad \n",
    "en los precios. Como ejemplo en el Perú, tenemos al BCRP y el control sobre la inflación que viene ejecutando la entidad.\n",
    "Pues, uno de sus instrumentos es el uso de la tasa de referencia en donde diariamente realizan operaciones monetarias pertinentes\n",
    "para regular la liquidez, de forma tal que la tasa de interés interbancaria sea consistente con este nivel de referencia.\n",
    "\n",
    "Fuentes:\n",
    "https://www.bcrp.gob.pe/\n",
    "https://www.bcrp.gob.pe/docs/Publicaciones/Revista-Estudios-Economicos/36/ree-36-castillo-lahura.pdf\n",
    "https://www.oecd.org/tax/tax-policy/estadisticas-tributarias-america-latina-caribe-peru.pdf"
   ]
  },
  {
   "cell_type": "markdown",
   "id": "3c601198",
   "metadata": {},
   "source": [
    "4.**Explique qué funciones del dinero respaldan el éxito de de Yape y Plin(Aplicativos moviles para intercambio de dinero)**\n"
   ]
  },
  {
   "cell_type": "markdown",
   "id": "c4d6b4e4",
   "metadata": {},
   "source": [
    "Una de las funciones que respaldan el éxito de estos aplicativos es que de por sí las personas necesitan liquidez económica\n",
    "y al no poder tener el dinero físicamente, a través de estas apps se hace fácil el intercambio de bienes y servicios,\n",
    "ya que sabemos que podemos hacer nuestras compras directamente desde el celular sin tener que retirar dinero y a la vez \n",
    "recibir. Además, agiliza las transacciones y facilita el comercio. Cabe resaltar que son medios de depósito de valor porque\n",
    "podemos recaudar nuestros bienes virtualmente y se mantendrá así en un futuro se puede utilizar en cualquier momento y lograr\n",
    "hacer un gran número de transacciones de forma fácil y rápida."
   ]
  },
  {
   "cell_type": "markdown",
   "id": "9b5676db",
   "metadata": {},
   "source": [
    "5.**Cuáles son las conclusiones principales del paper de Dancurt \"Inflation Targeting in Peru: The Reasons for the Success**"
   ]
  },
  {
   "cell_type": "markdown",
   "id": "b400cf55",
   "metadata": {},
   "source": [
    "A través del texto se analiza el impacto de los instrumentos considerados importantes dentro de la política monetaria peruana, tales como la tasa de interés de referencia, las tasas de encaje en soles y en dólares, y la intervención esterilizada en el mercado cambiario. También se pasa revista al proceso de desdolarizacion del crédito bancario.\n",
    "A manera de conclusión, las decisiones dentro del sistema de política monetaria utilizadas permitió al banco central mantener la estabilidad macroeconómica. Pero, para que el BCRP logre alcanzar los objetivos de estabilidad de precios e\n",
    "intervención esterilizada mencionados en el artículo, la entidad debe contar con suficiente reservas de divisas.\n",
    "Para evitar las crisis bancarias, el banco central debe limitar los préstamos externos de\n",
    "de los bancos comerciales e imponer requisitos de reserva más elevados a la deuda extranjera de los bancos comerciales. \n"
   ]
  },
  {
   "cell_type": "markdown",
   "id": "4d44026e",
   "metadata": {},
   "source": [
    "**EJERCIOS**"
   ]
  },
  {
   "cell_type": "markdown",
   "id": "f93adb33",
   "metadata": {},
   "source": [
    "*Ejercicio 1 (6 puntos). El modelo ingreso-gasto en una economía abierta*\n"
   ]
  },
  {
   "cell_type": "code",
   "execution_count": null,
   "id": "309d71e4",
   "metadata": {},
   "outputs": [],
   "source": [
    "Al hacer derivaciones sobre la ecuación DA, obtenemos:\n",
    " DA = C0 + b(1 − t)Y + I0 − hr +G0 + x1Y* + x2ε− m1(1 − t)Y + m2ε\n",
    "\n",
    " DA = C0 + I0 +G0 + [b(1 − t)− m1(1 −t)]Y − hr + x1Y∗ + (x2 + m2)ε\n",
    "    \n",
    " DA = w −hr + x1Y∗ + (x2 + m2)ε0 − (x2 + m2)ρr + (x2 + m2)ρr∗ + [(b− m1)(1− t)]Y\n",
    "\n",
    " Donde: w = C0 +I0 + G0\n",
    "        \n",
    " DA = [𝑤 + x1Y∗ + (x2 + m2)ε0 + (x2 + m2)ρr∗ − (h + (x2 + m2)ρ)r] + [(b− m1)(1 − t)]Y\n",
    "\n",
    " DA = α0 + α1Y"
   ]
  },
  {
   "cell_type": "code",
   "execution_count": null,
   "id": "eb79e648",
   "metadata": {},
   "outputs": [],
   "source": [
    "Encontramos que:\n",
    "    Intercepto: su magnitud depende en este caso de variable exógenas\n",
    "                como la tasa de interés mundial y el tipo de cmabio \n",
    "                real de equilibrio.\n",
    "        α0 = [C0 + I0 + G0 + x1Y∗ + (x2 + m2)ε0 + (x2 + m2)ρr∗ − (h + (x2 + m2)ρ)r]\n",
    "        \n",
    "    Pendiente:\n",
    "        α1 = [(b− m1)(1 − t)]"
   ]
  },
  {
   "cell_type": "code",
   "execution_count": null,
   "id": "4f59d815",
   "metadata": {},
   "outputs": [],
   "source": [
    "El ingreso de equilibrio se obtiene cuando:\n",
    "    Y = DA:Y = w − [h + (x2 + m2)ρ]r + x1Y∗ + (x2 + m2)ε0 + (x2 + m2)ρr∗ + [(b − m1)(1 − t)]Y\n",
    "    Y =(1)/(1 − (b− m1)(1 −t)[w + (x2 + m2)ε0 + (x2 + m2)ρr∗ + x1Y∗] − [(h + (x2 + m2)ρ) / (1 −(b− m1)(1− t)] r\n",
    "Donde \n",
    "(1)/(1-(b−m1)(1−t)\n",
    "es el multiplicador."
   ]
  },
  {
   "attachments": {},
   "cell_type": "markdown",
   "id": "8c42e582",
   "metadata": {},
   "source": [
    "2.Analice los efectos sobre la variable endógena  de una disminución del gasto fiscal . El análisis debe ser intuitivo, matemático y gráfico."
   ]
  },
  {
   "cell_type": "code",
   "execution_count": null,
   "id": "4a9a5675",
   "metadata": {},
   "outputs": [],
   "source": [
    "Para poder encontrar cuando se  disminuye el gasto fiscal o la\n",
    "cantidad de dinero, se debe, primero, encontrar los respectivos multiplicadores. \n",
    "\n",
    "La inversa de la matriz relevante que pre multiplica al vector de las variables endógenas,\n",
    "es:\n",
    "    \n",
    "𝐵−1 = [−[1 − 𝐶𝑌𝑑(1 − 𝑇𝑌) − 𝐼𝑌] 𝐼𝑟𝐿𝑦 𝐿𝑟]−1=1/|𝐵|[𝐿𝑟 −𝐼𝑟−𝐿𝑦 −[1 − 𝐶𝑌𝑑(1 − 𝑇𝑌) − 𝐼𝑌]]\n",
    "\n",
    "Resolviendo el sistema, se obtiene:\n",
    "[𝑑𝑌𝑑𝑟] =1|𝐵|[𝐿𝑟 −𝐼𝑟−𝐿𝑦 −[1 − 𝐶𝑌𝑑(1 − 𝑇𝑌) − 𝐼𝑌]][−1 00 1][𝑑𝐺0𝑑𝑚0𝑠][𝑑𝑌𝑑𝑟] =1|𝐵|[−𝐿𝑟 −𝐼𝑟𝐿𝑌 −[1 − 𝐶𝑌𝑑(1 − 𝑇𝑌) − 𝐼𝑌]][𝑑𝐺0𝑑𝑚0𝑠]\n",
    "\n",
    "La matriz de los multiplicadores es:\n",
    "1|𝐵|[−𝐿𝑟 −𝐼𝑟𝐿𝑌 −[1 − 𝐶𝑌𝑑(1 − 𝑇𝑌) − 𝐼𝑌]]\n",
    "\n",
    "En lo que sigue se supondrá que el determinante de la matriz relevante es mayor que cero,\n",
    "|B| > 0.\n"
   ]
  },
  {
   "cell_type": "code",
   "execution_count": 9,
   "id": "6f48f81a",
   "metadata": {},
   "outputs": [],
   "source": [
    "#--------------------------------------------------\n",
    "\n",
    "# Curva IS\n",
    "\n",
    "r_size = 100 \n",
    "\n",
    "Co = 13\n",
    "b = 0.7\n",
    "t = 0.25\n",
    "Io = 6.4\n",
    "Go = 5\n",
    "h = 0.3\n",
    "Xo = 2\n",
    "m = 0.4\n",
    "\n",
    "r = np.arange(r_size)\n",
    "\n",
    "# Ecuación\n",
    "\n",
    "def IS_CB(Co, b, t, Io, h, Xo, m, Go):\n",
    "    IS_CB = (1/(1 - (b - m)*(1 - t)))*(Co + Io + Go + Xo - h*r)\n",
    "    return IS_CB\n",
    "\n",
    "IS_CB = IS_CB(Co, b, t, Io, h, Xo, m, Go)"
   ]
  },
  {
   "cell_type": "code",
   "execution_count": 10,
   "id": "7c1a5f2e",
   "metadata": {},
   "outputs": [],
   "source": [
    "#--------------------------------------------------\n",
    "# Curva LM\n",
    "    \n",
    "# Parámetros\n",
    "\n",
    "Y_size = 100\n",
    "\n",
    "P = 3.5\n",
    "k = 1.76\n",
    "j = 3\n",
    "r = 15\n",
    "\n",
    "Y = np.arange(Y_size)\n",
    "\n",
    "# Ecuación\n",
    "\n",
    "def LM_CB(Y, P, k, j, r):\n",
    "    LM_CB = P*(k*Y - j*r)\n",
    "    return LM_CB\n",
    "\n",
    "LM_CB = LM_CB(Y, P, k, j, r)"
   ]
  },
  {
   "cell_type": "code",
   "execution_count": 11,
   "id": "2d0c6e25",
   "metadata": {},
   "outputs": [],
   "source": [
    "# líneas punteadas autómaticas\n",
    "\n",
    "    # definir la función line_intersection\n",
    "def line_intersection(line1, line2):\n",
    "    xdiff = (line1[0][0] - line1[1][0], line2[0][0] - line2[1][0])\n",
    "    ydiff = (line1[0][1] - line1[1][1], line2[0][1] - line2[1][1])\n",
    "\n",
    "    def det(a, b):\n",
    "        return a[0] * b[1] - a[1] * b[0]\n",
    "\n",
    "    div = det(xdiff, ydiff)\n",
    "    if div == 0:\n",
    "       raise Exception('lines do not intersect')\n",
    "\n",
    "    d = (det(*line1), det(*line2))\n",
    "    x = det(d, xdiff) / div\n",
    "    y = det(d, ydiff) / div\n",
    "    return x, y\n"
   ]
  },
  {
   "cell_type": "code",
   "execution_count": 12,
   "id": "88af1d95",
   "metadata": {},
   "outputs": [
    {
     "data": {
      "text/plain": [
       "(15.000000000000002, 49.25)"
      ]
     },
     "execution_count": 12,
     "metadata": {},
     "output_type": "execute_result"
    }
   ],
   "source": [
    "r_ec = np.full((100), 15)\n",
    "\n",
    "# coordenadas de las curvas (x,y)\n",
    "A = [IS_CB[0], Y[0]] # DA, coordenada inicio\n",
    "B = [IS_CB[-1], Y[-1]] # DA, coordenada fin\n",
    "\n",
    "C = [r_ec[0], Y[0]] # L_45, coordenada inicio\n",
    "D = [r_ec[-1], Y[-1]] # L_45, coordenada fin\n",
    "\n",
    "# creación de intersección\n",
    "\n",
    "intersec_1 = line_intersection((A, B), (C, D))\n",
    "intersec_1 # (y,x)"
   ]
  },
  {
   "cell_type": "code",
   "execution_count": 13,
   "id": "aabe19a5",
   "metadata": {},
   "outputs": [
    {
     "data": {
      "image/png": "[encoded data removed]",
      "text/plain": [
       "<Figure size 720x576 with 1 Axes>"
      ]
     },
     "metadata": {},
     "output_type": "display_data"
    }
   ],
   "source": [
    "# Gráfico del modelo IS-PM\n",
    "\n",
    "# Dimensiones del gráfico\n",
    "y_max = np.max(Y)\n",
    "fig, ax = plt.subplots(figsize=(10, 8))\n",
    "\n",
    "# Curvas a graficar\n",
    "ax.plot(IS_CB, label = \"IS\", color = \"C1\") #IS\n",
    "ax.plot(r_ec, color = \"blue\", label =\"PM\") #r: tasa de interés\n",
    "\n",
    "plt.axvline(intersec_1[1], ymin= 0, ymax= 1, linestyle = \":\", color = \"grey\")\n",
    "plt.axline((intersec_1[1], intersec_1[0]), slope=0.25, color=\"C0\", label = 'LM')\n",
    "\n",
    "ax.yaxis.set_major_locator(plt.NullLocator())   \n",
    "ax.xaxis.set_major_locator(plt.NullLocator())\n",
    "\n",
    "ax.text(0, 16, '$r_0$', fontsize = 13, color = 'black')\n",
    "ax.text(51, -5, '$Y_0$', fontsize = 13, color = 'black')\n",
    "ax.text(48, 16.5, '$E_0$', fontsize = 13, color = 'black')\n",
    "\n",
    "ax.set(title=\"IS-LM con r exógena\", xlabel= 'Y', ylabel= 'r')\n",
    "ax.legend()\n",
    "\n",
    "plt.show()\n"
   ]
  },
  {
   "cell_type": "markdown",
   "id": "9560ce01",
   "metadata": {},
   "source": [
    "3.Analice los efectos sobre la variable endógena de un incremento del PBI mundial . \n",
    "El análisis debe ser intuitivo, matemático y gráfico."
   ]
  },
  {
   "cell_type": "code",
   "execution_count": 16,
   "id": "99a20d23",
   "metadata": {},
   "outputs": [],
   "source": [
    "#--------------------------------------------------\n",
    "    # Curva LM ORIGINAL\n",
    "\n",
    "# Parámetros\n",
    "\n",
    "Y_size = 100\n",
    "\n",
    "k = 2\n",
    "j = 1                \n",
    "Ms = 200             \n",
    "P  = 20               \n",
    "\n",
    "Y = np.arange(Y_size)\n",
    "\n",
    "# Ecuación\n",
    "\n",
    "def i_LM( k, j, Ms, P, Y):\n",
    "    i_LM = (-Ms/P)/j + k/j*Y\n",
    "    return i_LM\n",
    "\n",
    "i = i_LM( k, j, Ms, P, Y)\n",
    "\n",
    "#--------------------------------------------------\n",
    "    # NUEVA curva LM\n",
    "\n",
    "# Definir SOLO el parámetro cambiado\n",
    "Ms = 700\n",
    "\n",
    "# Generar la ecuación con el nuevo parámetro\n",
    "def i_LM_Ms( k, j, Ms, P, Y):\n",
    "    i_LM = (-Ms/P)/j + k/j*Y\n",
    "    return i_LM\n",
    "\n",
    "i_Ms = i_LM_Ms( k, j, Ms, P, Y)"
   ]
  },
  {
   "cell_type": "code",
   "execution_count": 18,
   "id": "ca3d8bd7",
   "metadata": {},
   "outputs": [
    {
     "data": {
      "image/png": "[encoded data removed]",
      "text/plain": [
       "<Figure size 720x576 with 1 Axes>"
      ]
     },
     "metadata": {
      "needs_background": "light"
     },
     "output_type": "display_data"
    }
   ],
   "source": [
    "# Dimensiones del gráfico\n",
    "y_max = np.max(i)\n",
    "v = [0, Y_size, 0, y_max]   \n",
    "fig, ax = plt.subplots(figsize=(10, 8))\n",
    "\n",
    "# Curvas a graficar\n",
    "ax.plot(Y, i, label=\"LM\", color = 'black')\n",
    "ax.plot(Y, i_Ms, label=\"LM_Ms\", color = '#3D59AB', linestyle = 'dashed')\n",
    "\n",
    "# Texto agregado\n",
    "plt.text(47, 76, '∆$M^s$', fontsize=12, color='black')\n",
    "plt.text(49, 70, '→', fontsize=15, color='grey')\n",
    "\n",
    "# Título y leyenda\n",
    "ax.set(title = \"Incremento en la Masa Monetaria $(M^s)$\", xlabel=r'Y', ylabel=r'r')\n",
    "ax.legend()\n",
    "\n",
    "\n",
    "plt.show()"
   ]
  },
  {
   "cell_type": "markdown",
   "id": "eaa3af2a",
   "metadata": {},
   "source": [
    "Desde un análisis intuitivo, el aumento del PBI genera mayor consumo, por lo que existe un aumento de la DA.\n",
    "Entonces su aumento tiene un efecto expansivo sobre el nivel de producción y empleo. \n",
    "La política monetaria es, entonces expansiva, si con el aumento de la oferta monetaria se reduce la tasa de interés"
   ]
  },
  {
   "cell_type": "code",
   "execution_count": null,
   "id": "8876e3b9",
   "metadata": {},
   "outputs": [],
   "source": [
    "Desde un análisis matemático:\n",
    "    La tasa de interés que equilibra el mercado monetario será igual a:\n",
    "        \n",
    "𝑟 = −1𝑗𝑀0𝑠𝑃0+(𝑘/𝑗)Y\n",
    "\n",
    "Si la tasa de interés es cero, es decir, cuando la demanda de dinero es insensible a la tasa de\n",
    "interés, entonces la LM será vertical e igual:\n",
    "    𝑌 =(1Ms0)/(𝑘𝑃s0)"
   ]
  }
 ],
 "metadata": {
  "kernelspec": {
   "display_name": "Python 3 (ipykernel)",
   "language": "python",
   "name": "python3"
  },
  "language_info": {
   "codemirror_mode": {
    "name": "ipython",
    "version": 3
   },
   "file_extension": ".py",
   "mimetype": "text/x-python",
   "name": "python",
   "nbconvert_exporter": "python",
   "pygments_lexer": "ipython3",
   "version": "3.9.12"
  }
 },
 "nbformat": 4,
 "nbformat_minor": 5
}
