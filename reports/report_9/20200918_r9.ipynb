{
 "cells": [
  {
   "cell_type": "markdown",
   "id": "8bfe1a38",
   "metadata": {},
   "source": [
    "### REPORTE 9"
   ]
  },
  {
   "cell_type": "markdown",
   "id": "d27417c6",
   "metadata": {},
   "source": [
    "camila Durand 20200918"
   ]
  },
  {
   "cell_type": "markdown",
   "id": "6c352991",
   "metadata": {},
   "source": [
    "El presente artículo busca analizar el impacto de las redes sociales, en particular facebook, en la salud mental de jóvenes adultos de EEUU. La razón principal del texto es comprobar si es coincidencia la difusión de redes sociales y el empeoramiento de las condiciones de salud mental entre los adolescentes y adultos jóvenes mediante la introducción escalonada de facebook en las universidades de EEUU a mediados de los 2000. La estrategia empírica utilizada es de diferencias en diferencias para profundizar la investigación en síntomas de mala salud mental, uso de medicación psiquiátrica, rendimiento académico y suicidios.En esta investigación se usa principalmente facebook como ejemplo de redes sociales, pues muy pocas tecnologías desde la televisión han tenido tanta dramatización  y han cambiado en tal grado como las personas pasan su tiempo e interactúan.\n",
    "\n",
    "Una de las principales fortalezas del estudia es su misma estrategia pues permite descartar varios factores de confusión como las diferencias específicas de las universidades en el tiempo,las diferencias a lo largo del tiempo que afectan a todos los estudiantes de manera similar y las tendencias de salud mental que afectan a las universidades en diferentes grupos de expansión de manera diferencial. Asimismo, ello se complementa con una especificación que explota la variación en la duración de la exposición a facebook lo que permite ver una variación cuasi- experimenta con la que se puede realizar una identificación causal. Asimismo otra de las fortalezas del artículo es que toma en consideración el efecto diferenciado que tiene facebook según el contexto de cada estudiante, como si vive o no dentro del campus, el género y la edad. Además de tomar como base investigaciones y encuestas previas para crear sus propios indicadores agrupados que les permite  tener amyor profundidad en su análisis. Posiblemente una de las mayores debilidades del artículo además de los posibles errores considerando la desviación estándar, es que no es tan definitivo pues los resultados pueden cambiar significativamente en otros grupos demográficos. Asimismo, le hace falta tomar en cuenta investigaciones previas sobre los efectos generales de bienestar de las redes sociales que necesita añadir más dimensiones \n",
    "\n",
    "El documento avanza en la pregunta inicial al brindar evidencia causal más completa a los estudios anteriores sobre los efectos de las redes sociales en la salud mental, pues complementa la literatura previamente analizada para su análisis. Además sus variables de resultados de salud mental son más integrales y detalladas que las de experimentos anteriores. Adicionalmente a ello el artículo ayuda a la nueva literatura sobre la expansión de las plataformas de medios para estudiar los efectos de las redes sociales. Otro de sus aportes a las investigaciones en este ámbito es que entiende el bienestar basado en varias preguntas que considera los antecedentes de salud mental e incorpora de manera dinámica el efecto de las redes sociales en ello.\n",
    "\n",
    "Finalmente, las áreas de investigación con las que se podrían continuar los avances del presente artículo es evidenciar los efectos de las redes sociales en otros grupos demográficos, para comprobar si estas son realmente negativas o eso depende de la edad y grupo al que se pertenezca. Ello podría realizarse siguiendo la línea de Ron, Nuñez y Álvarez o la línea de Alegría para enfocar el impacto en otros grupos particularmente vulnerables como la comunidad LGBTIQ+. Asimismo sería bueno contrastar los hallazgos encontrados en el presente texto y explorar alternativas de solución para los efectos negativos en la salud mental encontrados. Ello podría seguir los avances de Odriozola sobre la protección de jóvenes y adolescentes a las nuevas tecnologías, entre ellas las redes sociales como Facebook.\n",
    "Ron, R., Núñez, P., & Álvarez, A. (2013). Niños, adolescentes y redes sociales.¿ Conectados o atrapados?. ESIC Editorial.\n",
    "\n",
    "Alegría Grana, L. A. El Impacto de las Redes Sociales en el Bienestar Psicológico de los Jóvenes LGBTIQ+.\n",
    "\n",
    "Odriozola, E. E. (2012). Factores de riesgo y factores de protección en la adicción a las nuevas tecnologías y redes sociales en jóvenes y adolescentes. Revista española de drogodependencias, 4, 435-48.\n",
    "\n"
   ]
  },
  {
   "cell_type": "code",
   "execution_count": null,
   "id": "ab1037d5",
   "metadata": {},
   "outputs": [],
   "source": []
  }
 ],
 "metadata": {
  "kernelspec": {
   "display_name": "Python 3 (ipykernel)",
   "language": "python",
   "name": "python3"
  },
  "language_info": {
   "codemirror_mode": {
    "name": "ipython",
    "version": 3
   },
   "file_extension": ".py",
   "mimetype": "text/x-python",
   "name": "python",
   "nbconvert_exporter": "python",
   "pygments_lexer": "ipython3",
   "version": "3.9.12"
  }
 },
 "nbformat": 4,
 "nbformat_minor": 5
}
