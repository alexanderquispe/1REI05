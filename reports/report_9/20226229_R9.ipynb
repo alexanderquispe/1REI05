{
 "cells": [
  {
   "cell_type": "markdown",
   "id": "bba0b385",
   "metadata": {},
   "source": [
    "## REPORTE Nº9:\n",
    "#### Alumno: Sonia Margarita Lecaros Jimenez / Código: 20226229\n",
    "#### Curso: Fundamentos de Macroeconomia - 1REI05"
   ]
  },
  {
   "cell_type": "markdown",
   "id": "3da0eb96",
   "metadata": {},
   "source": [
    "## PARTE 1\n",
    "\n",
    "The report for this week is social media and Mental Health by Luca Braghieri, Ro'ee Levy, and Alexey Makarin. The objective of the report is to estimate social media's impact on people's mental health, especially students.\n",
    "\n",
    "\n",
    "There are 4.3 billion people with social media accounts, and the average time user is around two and a half hours per day. Social media change the way how people interact with others. Social media also start to increase mental health problems like depression, suicides, and more in several individuals between 18 to 24 years old.\n",
    "\n",
    "\n",
    "The report presents quasi-experimental estimates of social media on mental health using the introduction of Facebook across US colleges in the mid-2000s. \n",
    "\n",
    "\n",
    "The author used two primary datasets in their analysis, the first one when Facebook was introduced at 775 US colleges, and the second was taken from a universe of answers from a survey about student mental health available at the time of Facebook's expansion. The analysis relies on a difference-in-differences research design, with one dimension of variation being the college a student attends and the other is whether the student took the survey before or after the introduction of Facebook at their college. The main finding of this experiment is that the introduction of Facebook at a college harmed students' mental health. \n",
    "\n",
    "\n",
    "The report also finds additional results. First, the adverse effects on mental health are most substantial for students who, based on immutable characteristics such as gender and age, are predicted to be most susceptible to mental illness. Second, in the short-to-medium run, the adverse effects of Facebook on mental health increase with the length of exposure to the platform. Third, students reported suffering some adverse downstream effects due to worsened mental health conditions. \n",
    "Why Facebook has adverse effects on mental health? Because Facebook increases students' ability to engage in unfavorable social comparisons. \n",
    "\n",
    "\n",
    "The strength of the report is to show how social media in this case Facebook can affect mental health in adults and students or young adults. The weakness can be that only the experiment was realised about Facebook, and now more social media can affect people’s mental health in major grades. \n"
   ]
  },
  {
   "cell_type": "code",
   "execution_count": null,
   "id": "f402f201",
   "metadata": {},
   "outputs": [],
   "source": []
  },
  {
   "cell_type": "code",
   "execution_count": null,
   "id": "b45954ed",
   "metadata": {},
   "outputs": [],
   "source": []
  }
 ],
 "metadata": {
  "kernelspec": {
   "display_name": "Python 3 (ipykernel)",
   "language": "python",
   "name": "python3"
  },
  "language_info": {
   "codemirror_mode": {
    "name": "ipython",
    "version": 3
   },
   "file_extension": ".py",
   "mimetype": "text/x-python",
   "name": "python",
   "nbconvert_exporter": "python",
   "pygments_lexer": "ipython3",
   "version": "3.9.12"
  }
 },
 "nbformat": 4,
 "nbformat_minor": 5
}
