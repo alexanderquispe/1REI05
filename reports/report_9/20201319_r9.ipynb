{
  "nbformat": 4,
  "nbformat_minor": 0,
  "metadata": {
    "colab": {
      "provenance": []
    },
    "kernelspec": {
      "name": "python3",
      "display_name": "Python 3"
    },
    "language_info": {
      "name": "python"
    }
  },
  "cells": [
    {
      "cell_type": "markdown",
      "source": [
        "#**REPORTE**\n",
        "\n",
        "**Nombre:** Alessandra Marcela Marocho Pacheco \n",
        "\n",
        "**Código:** 20201319\n"
      ],
      "metadata": {
        "id": "3oMDvGGvhGNs"
      }
    },
    {
      "cell_type": "markdown",
      "source": [
        "##**LECTURA**\n",
        "\n",
        "La presente investigación se encuentra enfocada en reconocer cuál ha sido el impacto de las redes sociales sobre la salud mental de jóvenes. Para ser más precisos, con la introducción de Facebook en 2004, una de las redes sociales más importantes del último siglo, de manera selectiva en algunas universidades Estados Unidos, se evidenció un incremento en el deterioro de la salud mental del grupo de análisis. De acuerdo con el artículo, el efecto de la introducción de una red social como Facebook significó un aumento en el número de estudiantes que padecían enfermedades tales como depresión o ansiedad. Con la finalidad de analizar si efectivamente existe una relación entre ambas variables, la presente investigación utilizó los datos de la encuesta National College Health Assessment (NCHA), específicamente preguntas relacionadas con enfermedades mentales en las universidades que tuvieron acceso a Facebook.\n",
        "\n",
        " \n",
        "\n",
        "Entre las fortalezas de la investigación es posible reconocer que el análisis realizado permite elaborar estimaciones causales sobre la influencia de Facebook en el deterioro de la salud mental de jóvenes y adolescentes. Al emplear una variación cuasi – experimental y la estrategia de diferencias en diferencias, es posible comparar los resultados sobre la salud mental en las universidades antes y después de la introducción de Facebook en las mismas. Resulta acertado el empleo del mencionado método, puesto que logra ayudar a responder la pregunta de investigación del artículo. De igual manera, aprovecha el ambiente de datos selectivo, previo al lanzamiento de la aplicación para el público general en 2006, para estimar su efecto sobre la salud mental en los jóvenes estudiantes. Facebook, al haber sido empleada de manera exclusiva por estudiantes desde 2004, permite contar con un grupo de análisis inicial sobre los efectos notables de las redes sociales; que en la actualidad puede ser mayormente diversificado. Asimismo, en el marco de la investigación, logra descartar que el incremento del número evidenciado de casos relacionados con enfermedades mentales, tales como la depresión y la ansiedad, se expliquen por la reducción de estigmas sobre estos.\n",
        "\n",
        " \n",
        "\n",
        "El trabajo analizado aportaría a estudios relacionados con la salud mental al reconocer los primeros efectos que tuvo Facebook sobre la salud mental de estudiantes universitarios. Por medio de los resultados obtenidos, es posible reconocer que la red social verdaderamente influyó en el incremento de enfermedades mentales, especialmente cuando estuvieron conectados a esta durante un periodo prolongado de tiempo. En la actualidad, al contar con un marco de análisis más grande, se hace más notorio que los efectos de las redes sociales también se encuentran dentro de diferentes grupos etarios. No obstante, al igual que en esta investigación se demostró que algunos individuos eran más vulnerables que otros, también podrían presentar los mismos efectos en magnitud diferente. Por otra parte, es posible aseverar, a partir de la investigación, que también se generó un efecto negativo sobre el desempeño académico de los estudiantes debido al mal estado de la salud mental. El artículo logra abordar que, con la introducción de las redes sociales, el estado mental puede tener implicancias en aquellos más susceptibles a los trastornos mentales y, posteriormente, influir sobre su desarrollo académico.\n",
        "\n",
        " \n",
        "\n",
        "Finalmente, entre los siguientes pasos a emprender dentro del marco de la presente investigación también se podía encontrar en los efectos negativos de las redes sociales sobre la salud mental [en el marco de la discriminación racial](https://pubmed.ncbi.nlm.nih.gov/34686952/). En el artículo «Exposure to Social Media Racial Discrimination and Mental Health among Adolescents of Color», los autores reconocen que, en el marco de la pandemia, el uso de las redes sociales por parte de las poblaciones más jóvenes vislumbró un claro incremento que trajo, a su vez, una mayor discriminación racial sobre jóvenes de color. Al mismo tiempo, uno de los principales aportes de su trabajo es el cuestionamiento sobre el efecto de los algoritmos de las redes sociales, debido al reconocimiento de la exposición de los sesgos raciales y el peligro sobre el bienestar psicológico de estas poblaciones.\n",
        "\n",
        "\n",
        "\n",
        "**Bibliografía:**\n",
        "\n",
        "1. Tao X, Fisher CB. Exposure to Social Media Racial Discrimination and Mental Health among Adolescents of Color. J Youth Adolesc. 2022 Jan;51(1):30-44. doi: 10.1007/s10964-021-01514-z. Epub\n"
      ],
      "metadata": {
        "id": "j3v-pJDghYQs"
      }
    }
  ]
}