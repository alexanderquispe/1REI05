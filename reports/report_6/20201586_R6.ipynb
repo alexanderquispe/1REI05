{
 "cells": [
  {
   "cell_type": "markdown",
   "id": "e899369e",
   "metadata": {},
   "source": [
    "# Reporte 6:\n",
    "\n",
    "#### Sebastian Torres Tapia - 20201586\n",
    "\n",
    "## Dynarski, S., Libassi, C. J., Michelmore, K., & Owen, S. (2018). Closing the gap: The effect of a targeted, tuition-free promise on college choices of high-achieving, low-income students (No. w25349). National Bureau of Economic Research.\n",
    "\n",
    "#### Informe: \n",
    "\n",
    "En el presente artículo, Dynarski y otros buscan aportar frente a la creciente brecha de desigualdad en la elección universitaria: los estudiantes con ingresos familiares bajos pero con un alto rendimiento académico aplican en menor proporción a universidades destacadas respecto a estudiantes de rendimiento similar pero con familias de ingresos altos. Si bien las universidades más selectivas ofrecen mayores niveles de ayuda económica y pueden asegurar un mejor futuro laboral, estas no suelen ser el destino del grupo de estudiantes con bajos recursos y alto rendimiento académico. En este sentido, los autores identifican que la razón detrás de ello es la desinformación de los aplicantes. En consecuencia, a partir de un experimento aleatorio y controlado, los autores buscan responder la siguiente pregunta: ¿qué efecto tiene la comunicación dirigida y personalizada en las decisiones universitarias de los estudiantes de alto rendimiento académico? \n",
    "\n",
    "Para responder dicha pregunta, se promociona la beca “High Achieving Involved Leader” (HAIL), la cual proporciona información sobre una garantía anticipada e incondicional de matrícula gratuita y sin trámites administrativos. El público objetivo fueron estudiantes de alto rendimiento (estandarizado mediante el SAT y GPA) con intención de aplicar a la Universidad de Michigan. Por otro lado, se armó un grupo de control al cual no se le dió la especificidad ni tipo de información sobre dicha beca. Como resultado, se demostró que una intervención con costos menores, que elimine obstáculos administrativos y de comportamiento, aumentó significativamente la decisión y probabilidades de inscripción, matrícula y constancia de los estudiantes en la universidad. \n",
    "\n",
    "Es posible identificar dos fortalezas: la revisión de literatura contraria, la inclusión de dimensiones socio-étnicas y el empleo de una técnica de aleatoriedad en su metodología. En primer lugar, es académicamente destacable la constante interacción entre los argumentos planteados por los autores respecto a aquellos otros estudios o investigaciones que en el pasado tuvieron hallazgos parcialmente distintos. Asimismo, resulta útil la presencia de una basta revisión de literatura respecto a contenidos teóricos específicos desarrollados por otras disciplinas pero empleados para el desarrollo del presente trabajo (como los heurísticos, la aversión a la pérdida o la relación entre identidad social y la toma de decisiones). \n",
    "\n",
    "En segundo lugar, resulta importante la inclusión de una dimensión socio-étnica respecto al tipo de respuesta de los estudiantes hacia las universidades. Si bien no se profundiza al respecto, los resultados muestran que existe un problema relacionado a la marginación de minorías étnicas reflejado en la mayor presión o el desincentivo social para aplicar a estos programas hacia sectores afrodescendientes, latinos, etc. En un contexto social como el norteamericano, este tipo de datos aportan para reconocer y denunciar este tipo de limitaciones y problemas. \n",
    "\n",
    "En tercer lugar, el principal aporte de este estudio radica en su uso de la aleatoriedad como técnica para evitar los sesgos de la investigación.  El proceso de randomización entre dos grupos: uno de tratamiento, al que se le brindó abundante y detallada información sobre la beca y simplificación del proceso; y otro de control, al que se le brindó información simplificada habitual. Así, luego de un proceso de estratificación y aleatorización en cuatro grupos de estudiantes, fue posible verificar la heterogeneidad en el efecto de tratamiento. En este sentido, la aleatorización garantiza la eliminación de posibles sesgos de información o durante el proceso de investigación. El efecto causal no está afectado, razón por la cual se puede evaluar si la promoción anticipada de la beca aumentó o no la tasa de inscripción de estudiantes (aislados o segmentados por región, etnia, género, etc). \n",
    "\n",
    "En este punto, se puede identificar una principal debilidad a lo largo de la investigación. Por un lado, resulta evidente la limitación local del estudio. Es muy probable que, dada la complejidad social e incluso política estadounidense, los hallazgos obtenidos se encuentren en gran medida asociados a la realidad del estado analizado. Lamentablemente, dado que el proceso de investigación se realizó en base a una estandarización local, sus resultados no pueden extrapolarse a un nivel macro dado que sus efectos serían distintos. Asimismo, los propios autores reconocen que, producto de la centralidad de un solo caso de estudio (Michigan), existen datos que no han sido posibles de comparar. \n",
    "\n",
    "Por otro lado, parecería necesario una profundización en los indicadores para la medición del nivel socioeconómico y de ingresos familiares. Dada la ausencia de datos, los autores asumen como indicador el tipo de ayuda alimentaria que reciben los estudiantes en la escuela de manera que obtienen una aproximación relativa. Sin embargo, como bien se reconoce, este tipo de indicadores resultan insuficientes frente a la realidad de la gran diversidad de niveles de pobreza y necesidad. Esto resulta una debilidad dado que, en la materialidad, estos diversos niveles de pobreza se traducen en grados de necesidad y dificultades reales que influyen en el tipo de decisión de los estudiantes y/o de sus familiares. \n",
    "\n",
    "Con todo lo mencionado anteriormente, dicha investigación representa un avance en la literatura dedicada a la disminución de las brechas basadas en los ingresos en las opciones universitarias, así como en la relacionada a la economía conductual sobre la toma de decisiones. La aplicación de dicho contenido teórico a un caso de estudio permite corroborar la hipótesis sobre la importancia de la información para el proceso de toma de decisiones. Adicionalmente, este tipo de estudios son de utilidad para el proceso de elaboración de políticas públicas gracias a la identificación de las principales limitaciones para los estudiantes (distancia geográfica, condición socioeconómica, pertenencia a minorías étnicas, etc). \n",
    "\n",
    "Por último, considero que son necesarios dos pasos esenciales para complejizar esta investigación. Primero, se debería incluir un análisis respecto al nivel de confianza o autoestima de los estudiantes y su impacto en el proceso de decisión para la postulación. Como destacan Gurantz y otros (2020), la presencia de información respecto a los procesos de aplicación no es el único factor que influye en la decisión de los estudiantes. La gran dificultad que muchos de estos estudiantes experimentan es la presión por parte de sus familiares o círculo social cercano frente a la postulación dada su condición de necesidad frente a esos recursos. Por ende, una aproximación útil sería analizar el proceso de apoyo emocional, valorativo y el nivel de autoestima de los posibles aplicantes. Finalmente, se debería analizar el nivel de apoyo académico, social o psicológico de las diversas universidades para los estudiantes de bajos recursos dadas las dificultades adicionales a la carga académica que se espera puedan asumir (Oreopoulos y otros 2020; Perna y otros 2020). La presencia, por ejemplo, de canales de coaching o la disponibilidad de sesiones de salud mental para este tipo de estudiantes influye fuertemente de manera positiva en su capacidad para continuar sus estudios, lidiar con la presión o estrés y poder continuar con actividades extracurriculares -ya sea trabajo, atención doméstica, etc. \n",
    "\n",
    "\n",
    "\n",
    "Bibliografía: \n",
    "\n",
    "\n",
    "- Gurantz, O., Howell, J., Hurwitz, M., Larson, C., Pender, M., & White, B. (2020). Realizing your college potential? Impacts of College Board’s RYCP campaign on postsecondary enrollment.\n",
    "\n",
    "\n",
    "- Oreopoulos, P., Petronijevic, U., Logel, C., & Beattie, G. (2020). Improving non-academic student outcomes using online and text-message coaching. Journal of Economic Behavior & Organization, 171, 342-360.\n",
    "\n",
    "\n",
    "- Perna, L. W., Wright-Kim, J., & Leigh, E. W. (2020). Is a college promise program an effective use of resources? Understanding the implications of program design and resource investments for equity and efficiency. AERA Open, 6(4), 2332858420967633."
   ]
  },
  {
   "cell_type": "code",
   "execution_count": null,
   "id": "432f5179",
   "metadata": {},
   "outputs": [],
   "source": []
  }
 ],
 "metadata": {
  "kernelspec": {
   "display_name": "Python 3 (ipykernel)",
   "language": "python",
   "name": "python3"
  },
  "language_info": {
   "codemirror_mode": {
    "name": "ipython",
    "version": 3
   },
   "file_extension": ".py",
   "mimetype": "text/x-python",
   "name": "python",
   "nbconvert_exporter": "python",
   "pygments_lexer": "ipython3",
   "version": "3.9.13"
  }
 },
 "nbformat": 4,
 "nbformat_minor": 5
}
