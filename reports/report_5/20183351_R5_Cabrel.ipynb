{
 "cells": [
  {
   "cell_type": "markdown",
   "id": "add3d7c7",
   "metadata": {},
   "source": [
    "# REPORTE 5\n",
    "\n",
    "$CLAUDIA  -  CABREL$\n",
    "\n",
    "$20183351$"
   ]
  },
  {
   "cell_type": "markdown",
   "id": "f20f3e53",
   "metadata": {},
   "source": [
    "## PARTE 1 - ENSAYO: \n",
    "### INFLATION TARGETING IN PERU: THE REASONS FOR THE SUCCESS"
   ]
  },
  {
   "cell_type": "markdown",
   "id": "05e6659e",
   "metadata": {},
   "source": [
    "    En primer lugar..."
   ]
  },
  {
   "cell_type": "markdown",
   "id": "92193157",
   "metadata": {},
   "source": [
    "## PARTE 2 - CODIGO PYTHON\n",
    "    - Claudia Cabrel\n",
    "    - Aisha Martinez"
   ]
  },
  {
   "cell_type": "markdown",
   "id": "659db368",
   "metadata": {},
   "source": [
    "### A partir del siguiente sistema de ecuaciones que representan el modelo DA-OA"
   ]
  },
  {
   "cell_type": "code",
   "execution_count": 5,
   "id": "3a9f223e",
   "metadata": {},
   "outputs": [],
   "source": [
    "%matplotlib inline\n",
    "import ipywidgets as widgets\n",
    "import matplotlib.pyplot as plt\n",
    "import numpy as np\n",
    "import sympy as sy\n",
    "from sympy import *\n",
    "import pandas as pd"
   ]
  },
  {
   "cell_type": "markdown",
   "id": "4058298d",
   "metadata": {},
   "source": [
    "* Encuentre las ecuaciones de Ingreso $(Y^e)$ , tasa de interés $(r^e)$,  $(P^e)$ de equilibrio (Escriba paso a paso la derivación de estas ecuaciones):"
   ]
  },
  {
   "cell_type": "markdown",
   "id": "130d5b34",
   "metadata": {},
   "source": [
    "1. Demanda Agregada $(DA)$:"
   ]
  },
  {
   "cell_type": "markdown",
   "id": "31157bd3",
   "metadata": {},
   "source": [
    "$$ IS:[1-b(1-t)Y=C_0+I_0+G_0-hr$$\n",
    "$$LM: \\frac{M_0^s}{P_0}=kY-jr $$"
   ]
  },
  {
   "cell_type": "markdown",
   "id": "b9370e16",
   "metadata": {},
   "source": [
    "2. Oferta Agregada $(OA)$"
   ]
  },
  {
   "cell_type": "markdown",
   "id": "541ac3de",
   "metadata": {},
   "source": [
    "$$ P=P^e+θ(Y-\\bar{Y})\n",
    "donde\n",
    "\\bar{Y}=Y_f $$"
   ]
  },
  {
   "cell_type": "markdown",
   "id": "c46fa385",
   "metadata": {},
   "source": [
    "La $DA$ se obtiene de la curva IS y LM, luego se debe despejar la tasa de interés $r$ "
   ]
  },
  {
   "cell_type": "markdown",
   "id": "7fb9d379",
   "metadata": {},
   "source": [
    "$$ IS = r = \\frac{B_o}{h} - \\frac{B_1}{h}Y $$"
   ]
  },
  {
   "cell_type": "markdown",
   "id": "811a35f2",
   "metadata": {},
   "source": [
    "$$  LM = r = -\\frac{1}{j}\\frac{Mo^s}{P} + \\frac{k}{j}Y $$"
   ]
  },
  {
   "cell_type": "markdown",
   "id": "b55626b0",
   "metadata": {},
   "source": [
    "* Para hallar la ecuación de Ingreso ($Y^e$):\n",
    "\n",
    "$$ \\frac{h Mo^s + jB_o}{h} - \\frac{jB_1 + hk}{h}Y = P^e + θ(Y - \\bar{Y}) $$\n",
    "\n",
    "$$ Y^e = [ \\frac{1}{(θ + \\frac{jB_1 + hk}{h})} ]*[(\\frac{h Mo^s + jB_o}{h} - P^e + θ\\bar{Y})]$$"
   ]
  },
  {
   "cell_type": "markdown",
   "id": "2c9232f2",
   "metadata": {},
   "source": [
    "* Para hallar la ecuación de Equilibrio ($P^e$) podemos reemplazar $(Y^e)$ en la ecuación de Oferta Agregada $(OA)$:\n",
    "   \n",
    "$$ P^e = P^e + θ( Y^{eq\\_da\\_oa} - \\bar{Y} ) $$\n",
    "\n",
    "$$ P^e = P^e + θ( [ \\frac{1}{(θ + \\frac{jB_1 + hk}{h})} ]*[(\\frac{h Mo^s + jB_o}{h} - P^e + θ\\bar{Y})] - \\bar{Y} ) $$"
   ]
  },
  {
   "cell_type": "markdown",
   "id": "d1da796b",
   "metadata": {},
   "source": [
    "* Para hallar la tasa de interés ($r^e$), reemplazamos ($P^e$) es dicha ecuación de interés.\n",
    "\n",
    "    Tasa de interés de equilibrio ($Y^e$) :\n",
    "\n",
    "$$ r^e = \\frac{kB_o}{kh + jB_1} - (\\frac{B_1}{kh + jB_1})*(Ms_o - P)$$\n",
    "\n",
    "    Tasa de interés de equilibrio en (DA - OA):\n",
    "\n",
    "$$ r^e = \\frac{kB_o}{kh + jB_1} - (\\frac{B_1}{kh + jB_1})*(Ms_o - P^e)$$\n",
    "$$ r^e = \\frac{kB_o}{kh + jB_1} - (\\frac{B_1}{kh + jB_1})*(Ms_o - P^e + θ( [ \\frac{1}{(θ + \\frac{jB_1 + hk}{h})} ]*[(\\frac{h Mo^s + jB_o}{h} - P^e + θ\\bar{Y})] - \\bar{Y} ) ) $$"
   ]
  },
  {
   "cell_type": "markdown",
   "id": "5444115b",
   "metadata": {},
   "source": [
    "Las ecuaciones finales de equilibrio de las variables endógenas son:\n",
    "\n",
    "1. Ingreso ($Y^e$): \n",
    "$$ Y^e = [ \\frac{1}{(θ + \\frac{jB_1 + hk}{h})} ]*[(\\frac{h Mo^s + jB_o}{h} - P^e + θ\\bar{Y})]$$\n",
    "\n",
    "2. Tasa de interés ($r^e$):\n",
    "$$ r^e = \\frac{kB_o}{kh + jB_1} - (\\frac{B_1}{kh + jB_1})*(Ms_o - P^e + θ( [ \\frac{1}{(θ + \\frac{jB_1 + hk}{h})} ]*\\\\\\\\\n",
    "    [(\\frac{h Mo^s + jB_o}{h} - P^e + θ\\bar{Y})] - \\bar{Y} ) ) $$\n",
    "\n",
    "3. Equilibrio ($P^e$): \n",
    "$$ P^e = P^e + θ( [ \\frac{1}{(θ + \\frac{jB_1 + hk}{h})} ]*[(\\frac{h Mo^s + jB_o}{h} - P^e + θ\\bar{Y})] - \\bar{Y} ) $$"
   ]
  },
  {
   "cell_type": "markdown",
   "id": "aedf4dbc",
   "metadata": {},
   "source": [
    "* Grafique el equilibrio simultáneo en el modelo DA-OA."
   ]
  },
  {
   "cell_type": "code",
   "execution_count": 16,
   "id": "b7951408",
   "metadata": {},
   "outputs": [],
   "source": [
    "Y_size = 100 \n",
    "\n",
    "Co = 35\n",
    "Io = 40\n",
    "Go = 50\n",
    "Xo = 2\n",
    "h = 0.8\n",
    "b = 0.4\n",
    "m = 0.5\n",
    "t = 0.8\n",
    "\n",
    "k = 2\n",
    "j = 1                \n",
    "Ms = 200             \n",
    "P  = 8  \n",
    "\n",
    "Y = np.arange(Y_size)\n",
    "\n",
    "B0 = Co + Io + Go + Xo\n",
    "B1 = 1 - (b-m)*(1-t)\n",
    "\n",
    "def P_AD(h, Ms, j, B0, B1, k, Y):\n",
    "    P_AD = ((h*Ms + j*B0)/h) - (Y*(j*B1 + h*k)/h)\n",
    "    return P_AD\n",
    "\n",
    "P_AD = P_AD(h, Ms, j, B0, B1, k, Y)\n",
    "\n",
    "Y_size = 100\n",
    "\n",
    "Pe = 100 \n",
    "θ = 3\n",
    "_Y = 20   \n",
    "\n",
    "Y = np.arange(Y_size)\n",
    "\n",
    "def P_AS(Pe, _Y, Y, θ):\n",
    "    P_AS = Pe + θ*(Y-_Y)\n",
    "    return P_AS\n",
    "\n",
    "P_AS = P_AS(Pe, _Y, Y, θ)"
   ]
  },
  {
   "cell_type": "code",
   "execution_count": 17,
   "id": "e10b1a17",
   "metadata": {},
   "outputs": [
    {
     "data": {
      "text/plain": [
       "(192.39043824701196, 50.79681274900399)"
      ]
     },
     "execution_count": 17,
     "metadata": {},
     "output_type": "execute_result"
    }
   ],
   "source": [
    "def line_intersection(line1, line2):\n",
    "    xdiff = (line1[0][0] - line1[1][0], line2[0][0] - line2[1][0])\n",
    "    ydiff = (line1[0][1] - line1[1][1], line2[0][1] - line2[1][1])\n",
    "\n",
    "    def det(a, b):\n",
    "        return a[0] * b[1] - a[1] * b[0]\n",
    "\n",
    "    div = det(xdiff, ydiff)\n",
    "    if div == 0:\n",
    "        raise Exception('lines do not intersect')\n",
    "    d = (det(*line1), det(*line2))\n",
    "    x = det(d, xdiff) / div\n",
    "    y = det(d, ydiff) / div\n",
    "    return x, y\n",
    "\n",
    "A = [P_AD[0], Y[0]]\n",
    "B = [P_AD[-1], Y[-1]]\n",
    "C = [P_AS[0], Y[0]]\n",
    "D = [P_AS[-1], Y[-1]]\n",
    "\n",
    "intersec = line_intersection((A, B), (C, D))\n",
    "intersec"
   ]
  },
  {
   "cell_type": "code",
   "execution_count": 18,
   "id": "8e0646f8",
   "metadata": {},
   "outputs": [
    {
     "data": {
      "image/png": "[encoded data removed]",
      "text/plain": [
       "<Figure size 720x576 with 1 Axes>"
      ]
     },
     "metadata": {},
     "output_type": "display_data"
    }
   ],
   "source": [
    "y_max = np.max(P)\n",
    "fig, ax = plt.subplots(figsize=(10, 8))\n",
    "\n",
    "ax.plot(Y, P_AD, label = \"DA\", color = \"PINK\")\n",
    "ax.plot(Y, P_AS, label = \"OA\", color = \"MAGENTA\")\n",
    "\n",
    "plt.axhline(y=intersec[0], xmin= 0, xmax= 0.5, linestyle = \":\", color = \"grey\")\n",
    "plt.axvline(x=intersec[1],  ymin= 0, ymax= 0.49, linestyle = \":\", color = \"grey\")\n",
    "\n",
    "plt.text(0, 200, '$P_0$', fontsize = 12, color = 'MAGENTA')\n",
    "plt.text(53, 25, '$Y_0$', fontsize = 12, color = 'MAGENTA')\n",
    "plt.text(50, 202, '$E_0$', fontsize = 12, color = 'MAGENTA')\n",
    "\n",
    "ax.yaxis.set_major_locator(plt.NullLocator())   \n",
    "ax.xaxis.set_major_locator(plt.NullLocator())\n",
    "\n",
    "ax.set(title=\"MODELA DA-OA\", xlabel= r'Y', ylabel= r'P')\n",
    "ax.legend()\n",
    "\n",
    "plt.show()"
   ]
  },
  {
   "cell_type": "markdown",
   "id": "98769111",
   "metadata": {},
   "source": [
    "## Estática comparativa"
   ]
  },
  {
   "cell_type": "markdown",
   "id": "5fde16c8",
   "metadata": {},
   "source": [
    "Analice los efectos sobre las variables endógenas Y, P y r de una disminución del gasto fiscal. . El análisis debe ser intuitivo, matemático y gráfico. En una figura, se debe que usar los ejes r e Y (modelo IS-LM), y en la otra, los ejes P y r (modelo DA-OA).\n",
    "\n",
    "Analice los efectos sobre las variables endógenas Y, P y r de una disminución de la masa monetaria. . El análisis debe ser intuitivo, matemático y gráfico. En una figura, se debe que usar los ejes r e Y (modelo IS-LM), y en la otra, los ejes P, Y (modelo DA-OA).\n",
    "\n",
    "Analice los efectos sobre las variables endógenas Y, P y r de un incremento de la tasa de impuestos. . El análisis debe ser intuitivo, matemático y gráfico. En una figura, se debe que usar los ejes r e Y (modelo IS-LM), y en la otra, los ejes P, Y (modelo DA-OA)."
   ]
  },
  {
   "cell_type": "code",
   "execution_count": null,
   "id": "f4b21dd3",
   "metadata": {},
   "outputs": [],
   "source": []
  }
 ],
 "metadata": {
  "kernelspec": {
   "display_name": "Python 3 (ipykernel)",
   "language": "python",
   "name": "python3"
  },
  "language_info": {
   "codemirror_mode": {
    "name": "ipython",
    "version": 3
   },
   "file_extension": ".py",
   "mimetype": "text/x-python",
   "name": "python",
   "nbconvert_exporter": "python",
   "pygments_lexer": "ipython3",
   "version": "3.9.12"
  }
 },
 "nbformat": 4,
 "nbformat_minor": 5
}
