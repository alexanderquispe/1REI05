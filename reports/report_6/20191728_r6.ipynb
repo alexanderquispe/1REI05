{
 "cells": [
  {
   "cell_type": "markdown",
   "id": "eb92726e",
   "metadata": {},
   "source": [
    "# Reporte 6\n",
    "\n",
    "# Bruno Merino 20191728\n",
    "\n",
    "La pregunta de investigación es el como se crean las brechas en el logro educativo entre los estudiantes de bajos y altos ingresos y como se ven afectadas por distintas variables más allá de las económicas. Entre las fortalezas de el enfoque que muestra este documento esta el analizar variables como la creación del programa HAIL, la etapa en la que se dan las ofertas de parte de las universidades, la etapa de la toma de decisión del estudiante, el pago promedio universitario, entre otras; y la utilización de gráficos para ejemplificar las diferencias Algunas debilidades que se puede encontrar en el documento son el no tomar en cuenta variables sociales, como apoyo familiar, necesidades sociales, metas o aspiraciones para tener una mejor noción de las decisiones tomadas por los estudiantes.  La contribución de este documento es explicar, desarrollar y ejemplificar las brechas entre estudiantes de bajos y altos ingresos para buscar una forma de solucionar o acortar las marcadas diferencias entre estos. Un siguiente paso para este documento seria centrarse en la tasa de abandono de los estudios entre los estudiantes de menores y mayores ingresos para analizar la viabilidad de culminar una carrera universitaria para los alumnos y que factores influirían en esta. \n",
    "\n"
   ]
  },
  {
   "cell_type": "code",
   "execution_count": null,
   "id": "948c3596",
   "metadata": {},
   "outputs": [],
   "source": []
  }
 ],
 "metadata": {
  "kernelspec": {
   "display_name": "Python 3 (ipykernel)",
   "language": "python",
   "name": "python3"
  },
  "language_info": {
   "codemirror_mode": {
    "name": "ipython",
    "version": 3
   },
   "file_extension": ".py",
   "mimetype": "text/x-python",
   "name": "python",
   "nbconvert_exporter": "python",
   "pygments_lexer": "ipython3",
   "version": "3.9.12"
  }
 },
 "nbformat": 4,
 "nbformat_minor": 5
}
