{
 "cells": [
  {
   "cell_type": "markdown",
   "id": "c98edcdc",
   "metadata": {},
   "source": [
    "PARTE I: REPORTE DE LA LECTURA\n",
    "\n",
    "El siguiente artículo “ The Effect of a Targeted, Tuition-Free Promise on College Choices of High-Achieving, Low-Income Students”,  los autores analizan un programa piloto en el que se duplicaron las probabilidades de que los estudiantes elegibles de bajos recursos y alto rendimiento, accedieron a becas de matrícula completa matriculandose en la Universidad de Michigan. Esta iniciativa propuesta por esta universidad sugirió una forma de bajo costo para que las universidades altamente selectivas  atrajeran a estudiantes de bajos recursos y académicamente brillantes; que según los datos estadísticos presentados en el artículo, es poco probable que presentan una solicitud hacia alguna de estas universidades en comparación de los estudiantes que no son de bajos recursos con alto rendimiento académico. Debido a que muchas de las decisiones respecto universitarias de estos estudiantes con estas características se ven influenciadas por la incertidumbre, el sesgo actual y la aversión a la pérdida.\n",
    "\n",
    "En este sentido, la fortaleza del artículo es que este experimento a gran escala permitió que la oferta de  tasas de solicitud de estudiantes de bajos recursos y de alto rendimiento aumentará de un 68% (los estudiantes de secundaria involucrados en el programa piloto) respecto a un 26% (los estudiantes involucrados en el grupo de control) y la proporción de aquellos en el programa que finalmente se inscribieron en la universidad fue del 27 por ciento, en comparación con el 12 por ciento del grupo de control. Esto fue posible gracias a la implementación del programa de Michigan,conocido con Beca HAIL (High Achieving Involved Leader), la cual alentó a los estudiantes a postularse a través de sobres, correos personalizados; asimismo también brindó notificaciones a los padres y directores de las escuelas respecto a los estudiantes elegibles para dicha beca. Además, de la promesa explícita de cuatro años de matrícula gratuita y sin obligación de presentar informes financieros; asimismo, los estudiantes fueron notificados de su elegibilidad a través de un paquete pesado, grande y brillante con los colores de la Universidad de Michigan. Esto hizo que fuera difícil ignorar el correo y mejoró su legitimidad.\n",
    "\n",
    "Por otro lado, una debilidad que el artículo menciona es que los críticos han señalado que algunos de estos programas no hacen nada para reducir los costos universitarios de los estudiantes de bajos ingresos, que ya son elegibles para ayuda basada en la necesidad que puede cubrir completamente el costo de la matrícula; por lo tanto, según el argumento, se benefician principalmente estudiantes de ingresos medios y altos que reciben ayuda basada en la necesidad. Sin embargo, como descubrimos en nuestro experimento, los detalles de cómo se presenta la “matrícula gratuita” moldea sustancialmente su impacto. Los programas universitarios gratuitos se pueden diseñar como formularios de ayuda requeridos y se pueden recargar información sobre elegibilidad, que es lo que experimentaron los estudiantes del grupo de control. De manera alternativa, pueden ofrecer una garantía temprana, amplia que es el trato que se le dió a los estudiantes.\n",
    "\n",
    "La contribución del artículo es que los hallazgos encontrados sugieren que un sistema basado en matrículas altas para estudiantes de bajos ingresos puede no ser tan efectivo como un régimen de matrícula gratuita  puede valer la pena perder la focalización si ayuda a reducir la desigualdad en las decisiones educativas. El programa tuvo su mayor impacto entre los estudiantes que vivían en áreas rurales y comunidades más alejadas de la Universidad de Michigan. Además, la intervención con la beca HAIL igualó los resultados entre los grupos raciales. El programa también redujo la brecha de solicitud entre hombres y mujeres. A pesar de todo ello, es importante considerar que este programa, al igual que muchos otros con verificación de recursos, el sistema de ayuda para los estudiantes en los Estados Unidos, está plagado de reglas detalladas y mucho papeleo . La conclusión más amplia que se puede sacar es que la “última milla” de la implementación de políticas puede tener serias consecuencias distributivas. Tanto el diseño de la interfaz del usuario, la longitud del formulario y el momento de la información pueden tener efectos profundos en el comportamiento; especialmente para los estudiantes de bajos recursos.\n",
    "\n"
   ]
  }
 ],
 "metadata": {
  "kernelspec": {
   "display_name": "Python 3 (ipykernel)",
   "language": "python",
   "name": "python3"
  },
  "language_info": {
   "codemirror_mode": {
    "name": "ipython",
    "version": 3
   },
   "file_extension": ".py",
   "mimetype": "text/x-python",
   "name": "python",
   "nbconvert_exporter": "python",
   "pygments_lexer": "ipython3",
   "version": "3.9.12"
  }
 },
 "nbformat": 4,
 "nbformat_minor": 5
}
