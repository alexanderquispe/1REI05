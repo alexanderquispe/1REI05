{
 "cells": [
  {
   "cell_type": "markdown",
   "id": "fc236c35",
   "metadata": {},
   "source": [
    "# REPORTE 6"
   ]
  },
  {
   "cell_type": "markdown",
   "id": "d0a1dfc9",
   "metadata": {},
   "source": [
    "**Nombre:** Alessandra Marcela Marocho Pacheco\n",
    "\n",
    "**Código:** 20201319"
   ]
  },
  {
   "cell_type": "markdown",
   "id": "22842134",
   "metadata": {},
   "source": [
    "El presente artículo busca explorar los motivos que explicarían por qué estudiantes de bajos ingresos económicos no deciden postular a universidades de alto nivel académico. En un primer momento, se relaciona esta diferencia con su preparación académica. No obstante, se reconoce que, entre los estudiantes con mejor rendimiento y de recursos limitados, también existe esta tendencia a no postular a una universidad prestigiosa. Teniendo en cuenta que ingresar a una universidad de gran prestigio puede ayudar potencialmente a mejorar sus ingresos, con base en el salario promedio de los alumnos egresados, el comportamiento de esta población no parecería ser del todo racional. Frente a ello, el artículo busca responder si, ante la difusión de información sobre la existencia de la beca HAIL en la Universidad de Michigan, se puede influir en la decisión de los estudiantes por postular a la mencionada universidad.\n",
    "\n",
    " \n",
    "\n",
    "Con respecto a las fortalezas del artículo, podemos identificar distintos aspectos. La investigación realizada detalla que, se elaboró un mecanismo concreto por medio de las notas por los estudiantes en el SAT, su puntaje en el GPA, y su clasificación en los alumnos subsidiados; para identificar a los estudiantes con las características deseadas: alto rendimiento académico y con ingresos económicos reducidos. Por medio de estas fuentes de datos, las variables logran ser eficazmente ejemplificadas y nos permiten identificar ampliamente a los estudiantes de interés para el experimento. Otra de las fortalezas de la investigación se posiciona en la aleatoriedad de la intervención efectuada. El esfuerzo ejecutado por parte de los investigadores por definir de manera aleatoria a los alumnos que agruparon las escuelas de tratamiento y de control, permite conseguir posteriormente resultados más certeros acerca de los efectos de una beca de completo apoyo económico por la universidad. De igual manera, el mecanismo empleado permitió contar con información sobre todo el proceso de ingreso de aquellos estudiantes pertenecientes al grupo de control y de tratamiento. Gracias a este, fue posible responder a la pregunta planteada por el artículo y reconocer que, por medio de la intervención, se logró influir en un cambio en las decisiones de los estudiantes de menos recursos económicos de apostar por universidades menos competitivas y postular a una institución más selectiva. No obstante, una de las debilidades de la presente investigación se concentra en la posibilidad de replicar un modelo de trabajo de similar en otros espacios geográficos. Muchas de las herramientas empleadas, como son sus fuentes de datos, al igual que la intervención de nuevas variables que desalientan a los estudiantes a postular a universidades selectivas; es posible que modifique el desarrollo de un experimento similar.\n",
    "\n",
    " \n",
    "\n",
    "Frente a lo mencionado, podemos afirmar que el principal aporte realizado por la presente investigación se encuentra en la demostración sobre el efecto que tiene el conocimiento sobre la existencia de una beca, como HAIL, en la decisión de estudiantes sobre su futuro profesional. De acuerdo con los resultados obtenidos, se visibilizó un incremento entre los postulantes, admitidos y matriculados en la Universidad de Michigan, que eran pertenecientes al grupo de tratamiento. Esto se puede ver ejemplificado en la diferencia de 42 puntos porcentuales en la tasa de postulación entre las escuelas de control y de tratamiento, siendo favorecedor para esta última. Es decir, se logró reducir la brecha de postulación entre aquellos estudiantes de altos y bajos recursos económicos. Reafirma, a su vez, argumentos de la literatura previa como son los efectos que tiene la economía del comportamiento en las decisiones tomadas por personas jóvenes ante beneficios a largo plazo, como lo son programas de ayuda económica a lo largo de la carrera. También resulta significativo cómo, entre estudiantes que no habían mantenido contacto con alumnos que habían postulado a la Universidad de Michigan, mostraron un mayor efecto que otros grupos de los estudiantes de tratamiento."
   ]
  },
  {
   "cell_type": "code",
   "execution_count": null,
   "id": "a16eeffe",
   "metadata": {},
   "outputs": [],
   "source": []
  }
 ],
 "metadata": {
  "kernelspec": {
   "display_name": "Python 3 (ipykernel)",
   "language": "python",
   "name": "python3"
  },
  "language_info": {
   "codemirror_mode": {
    "name": "ipython",
    "version": 3
   },
   "file_extension": ".py",
   "mimetype": "text/x-python",
   "name": "python",
   "nbconvert_exporter": "python",
   "pygments_lexer": "ipython3",
   "version": "3.9.12"
  }
 },
 "nbformat": 4,
 "nbformat_minor": 5
}
