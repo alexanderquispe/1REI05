{
 "cells": [
  {
   "cell_type": "code",
   "execution_count": 2,
   "id": "ef96fa9d",
   "metadata": {},
   "outputs": [],
   "source": [
    "%matplotlib widget\n",
    "%matplotlib inline\n",
    "import ipywidgets as widgets\n",
    "import matplotlib.pyplot as plt\n",
    "import numpy as np\n",
    "import sympy as sy\n",
    "from sympy import *\n",
    "import pandas as pd"
   ]
  },
  {
   "cell_type": "markdown",
   "id": "fce3a490",
   "metadata": {},
   "source": [
    "                                                    PARCIAL"
   ]
  },
  {
   "cell_type": "markdown",
   "id": "cd6fb7a3",
   "metadata": {},
   "source": [
    "Nombre: Claudia Andrea Zevallos Amaya\n",
    "Código: 20191511\n"
   ]
  },
  {
   "cell_type": "markdown",
   "id": "2bdf9fdc",
   "metadata": {},
   "source": [
    "TEORÍA\n",
    "---"
   ]
  },
  {
   "cell_type": "markdown",
   "id": "1632738d",
   "metadata": {},
   "source": [
    "1. Defina el Multiplicador Keynesiano y dé un ejemplo de cómo influye este en el modelo Ingreso-Gasto Keynesiano"
   ]
  },
  {
   "cell_type": "markdown",
   "id": "13b8f774",
   "metadata": {},
   "source": [
    "El multiplicador Keynesiano dentro del modelo Ingreso- Gasto Keynesiano  lo conocemos como \n",
    "$$1/1 − (𝑏 − 𝑚)(1 − 𝑡)$$\n",
    "\n",
    "se define como el intercepto formando por las varibles independientes de la demanda (b,m y t) que van a un cambio que modifica el multiplicador y la pendiente, en especial, el punto de equilibrio. Pongamos un ejemplo, un disminución de  la tasa de impuestos, implicaría que la pendiente no baje y sube, significaría todo un cambio de ángulo en nuestro modelo, sería un cambio completo al punto de equilibrio que deseamos encontrar."
   ]
  },
  {
   "cell_type": "markdown",
   "id": "a79d8cce",
   "metadata": {},
   "source": [
    "2. Grafique y explique cúando sucede un exceso y déficit de demanda en el modelo Ingreso-Gasto. Señale las áreas donde ocurre cada caso. Explique cómo se converge al equilibrio a partir de estos dos escenarios."
   ]
  },
  {
   "cell_type": "markdown",
   "id": "1975cdb7",
   "metadata": {},
   "source": []
  },
  {
   "cell_type": "code",
   "execution_count": 57,
   "id": "6ff18b61",
   "metadata": {},
   "outputs": [],
   "source": []
  },
  {
   "cell_type": "code",
   "execution_count": null,
   "id": "069c4f75",
   "metadata": {},
   "outputs": [],
   "source": [
    "\n"
   ]
  },
  {
   "cell_type": "code",
   "execution_count": null,
   "id": "e6546514",
   "metadata": {},
   "outputs": [],
   "source": []
  },
  {
   "cell_type": "markdown",
   "id": "0c9f3026",
   "metadata": {},
   "source": [
    "3. ¿Cuáles son las herramientas de política fiscal y política monetaria? Dea un ejemplo para cada una de ellas dentro del contexto peruano. Coloque su fuente en caso sea necesario. "
   ]
  },
  {
   "cell_type": "code",
   "execution_count": null,
   "id": "ada1e6b3",
   "metadata": {},
   "outputs": [],
   "source": []
  },
  {
   "cell_type": "code",
   "execution_count": null,
   "id": "54dea2df",
   "metadata": {},
   "outputs": [],
   "source": []
  },
  {
   "cell_type": "markdown",
   "id": "e9c2f35a",
   "metadata": {},
   "source": [
    "4.  Explique qué funciones del dinero respaldan el éxito de de Yape y Plin(Aplicativos moviles para intercambio de dinero)."
   ]
  },
  {
   "cell_type": "markdown",
   "id": "46e14889",
   "metadata": {},
   "source": [
    "El Yape y Plin son los medios de aplciativos moviles para intercambio de dinero más usado en el Perú; sin embargo, es importante especificar en el éxito de Yape y Plin con las funciones de dinero. En primer lugar, la función de medio de intercambio, pues dichas dos aplicaciones moviles brindan una facilidad al intercambio o transaccion de dinero, lo cual es muy últil cuando se busca fácilidad, rapidez y sencilles. Por otra parte, el éxitos del Yape y Plin puede ser explicado por un medio sencillo y rápido de medio de pago, un medio en donde los peruanos y peruanas confian para realizar pagos y cobros de deudas o servicios."
   ]
  },
  {
   "cell_type": "markdown",
   "id": "37b1e235",
   "metadata": {},
   "source": [
    "5. Cuáles son las conclusiones principales del paper de Dancurt"
   ]
  },
  {
   "cell_type": "markdown",
   "id": "86a1e7b9",
   "metadata": {},
   "source": [
    "Dentro de las conclusiones del trabajo de rabajo de Oscar Dancourt titulado “Inflation Targeting in Peru: The reasons for the Success” que busca explicar las ncógnita de la política peruana de cómo se han podido controlar y mantener los índices de la inflación en las últimas décadas. Es por ello que sus dos importantes conclusiones parten de laas deciones en 2008-2009 pàra reducir la tasa de interes y vender divisas y en despues, aumentar la tasa de interes y comprar divisas en shocks que son favorables para mantenerse. Estos dos supuestos, segun Dancurt ayyudan a crear una expectativa de aco hacer para mantener la economia peruana en casos de crisis.\n",
    "\n"
   ]
  },
  {
   "cell_type": "markdown",
   "id": "440f6850",
   "metadata": {},
   "source": [
    "Ejercicio 1: . El modelo ingreso-gasto en una economía abierta\n",
    "---\n",
    "    "
   ]
  },
  {
   "cell_type": "markdown",
   "id": "ee64137f",
   "metadata": {},
   "source": [
    "1. Encuentre el Ingreso de Equilibrio  e identifique el multiplicador keynesiano"
   ]
  },
  {
   "cell_type": "code",
   "execution_count": null,
   "id": "62b1378d",
   "metadata": {},
   "outputs": [],
   "source": [
    "   ###t↑ = Co   ###t↑ = Co↓ = DA↓ → DA<Y = Y↓  → Δr = DA↓ → DA<Y = Y↓  → Δr"
   ]
  },
  {
   "cell_type": "markdown",
   "id": "a69cd95e",
   "metadata": {},
   "source": [
    "-Para encontrar el Ingreso de Eqilibrio en el moder ingreso-gasto en una economía abierta, tenemos en cuenta que nuestra formula de Demanda Agregada (DA)\n",
    "\n",
    "$$DA=C+I+G(X-M)$$\n",
    "\n",
    "La formula de demanda puede ser reemplzada\n",
    "\n",
    "$$DA= Co + b(1 − t)Y + Io − hr + Go + x1Y*+ x2ε − m1(1 − t)Y + m2ε$$\n",
    "\n",
    "Ordenamos y reemplzamos \n",
    "\n",
    "$$DA= Co + Io + Go+ (b(1 − t) − m1(1 − t))Y − hr + x1Y* (x2 + m2)ε$$\n",
    "$$DA= w− hr + x1Y∗ + (x2 + m2)ε0− (x2 + m2)ρr + (x2 + m2)ρr*+ ((b − m1)(1 − t))Y$$\n",
    "$$DA=(𝑤 + x1Y∗ + (x2 + m2)ε0 + (x2 + m2)ρr∗ − (h + (x2 + m2)ρ)r) + ((b − m1)(1 − t))Y$$\n",
    "\n",
    "Aquí tenemos nuestros dos interceptos:\n",
    "\n",
    "$$DA= B0+B1Y$$\n",
    "\n",
    "En donde:\n",
    "$$B0= (𝑤 + x1Y∗ + (x2 + m2)ε0 + (x2 + m2)ρr∗ − (h + (x2 + m2)ρ)r)$$\n",
    "$$B1= ((b − m1)(1 − t))$$\n",
    "\n",
    "A partir de dicho modelo y teniendo en cuenta que para encontrar el equilibrio \"Y=DA\"\n",
    "\n",
    "$$Y=DA$$\n",
    "$$Y=w-(h + (x2 + m2)ρ)r + x1Y∗ + (x2 + m2)ε0 + (x2 + m2)ρr* + ((b − m1)(1 − t))Y $$\n",
    "\n",
    "En donde reemplazamos:\n",
    "$$ Y = (1/1 − (b − m1)(1 − t))(w + (x2 + m2)ε0 + (x2 + m2)ρr∗ + x1Y∗) − ((h + (x2 + m2)ρ)/(1 − (b − m1)(1 − t)))* r$$\n",
    "\n",
    "En donde nuestro multiplicador Keynesiano será:\n",
    "\n",
    "$$1/1 − (b − m1)(1 − t) $$\n",
    "\n"
   ]
  },
  {
   "cell_type": "markdown",
   "id": "5945338e",
   "metadata": {},
   "source": [
    "2. Analice los efectos sobre la variable endógena  de una disminución del gasto fiscal . El análisis debe ser intuitivo, matemático y gráfico."
   ]
  },
  {
   "cell_type": "markdown",
   "id": "ee502208",
   "metadata": {},
   "source": [
    "Una política fiscal de contracción del gasto fiscal, una variable enxógena afecta de la siguiente manera\n",
    "\n",
    "$$ Co+Io+Go↓ = w↓ → DA↓ $$\n",
    "$$ DA↓ = DA<Y → Y↓$$\n",
    "\n",
    "Si el gasto fiscal baja, nuestra varible Y también baja\n",
    "\n",
    "\n"
   ]
  },
  {
   "cell_type": "markdown",
   "id": "ee1212f0",
   "metadata": {},
   "source": [
    "Matemáticamente"
   ]
  },
  {
   "cell_type": "code",
   "execution_count": 4,
   "id": "b35bda39",
   "metadata": {},
   "outputs": [],
   "source": [
    "Co, Io, Go, Xo, h, b, m, t = symbols('Co Io Go Xo h b m t')\n",
    "\n",
    "x1, Yº, x2, m2, Eo, p, rº, m1 = symbols('x1 Yº x2 m2 Eo p rº m1')\n",
    "\n",
    "\n",
    "\n",
    "Y_eq =((Co + Io + Go + (x2+m2)*Eo + (x2+m2)*p*rº+x1*Yº)/(h+(x2+m2)*p)) - (((1-(b-m1)*(1-t))*Yº)/(h+(x2+m2)*p))\n",
    "\n"
   ]
  },
  {
   "cell_type": "code",
   "execution_count": 5,
   "id": "84578804",
   "metadata": {},
   "outputs": [
    {
     "name": "stdout",
     "output_type": "stream",
     "text": [
      "El Diferencial del Producto con respecto al diferencial del gato público =  1/(h + p*(m2 + x2))\n"
     ]
    }
   ],
   "source": [
    "df_Y_eq_Go = diff(Y_eq, Go)\n",
    "print(\"El Diferencial del Producto con respecto al diferencial del gato público = \", df_Y_eq_Go)"
   ]
  },
  {
   "cell_type": "markdown",
   "id": "fc127545",
   "metadata": {},
   "source": [
    "La pendiente es representada por el diferencial de $ ∆Go/∆Y $: $ \\frac{1}{(h + p*(m2 + x2))} $ y es negativo"
   ]
  },
  {
   "cell_type": "markdown",
   "id": "021f763c",
   "metadata": {},
   "source": [
    "Ahora graficamos:\n"
   ]
  },
  {
   "cell_type": "code",
   "execution_count": 16,
   "id": "5adc2d58",
   "metadata": {},
   "outputs": [],
   "source": [
    "#Creamos parametros                \n",
    "Y_size = 100 \n",
    "\n",
    "Co = 25\n",
    "Io = 5\n",
    "Go = 40\n",
    "h = 0.8\n",
    "b = 0.4\n",
    "m = 0.5\n",
    "t = 0.1\n",
    "\n",
    "x1 = 0.3\n",
    "Yº = 12\n",
    "x2 = 0.6\n",
    "m2 = 0.4\n",
    "Eo = 8\n",
    "p = 0.8\n",
    "rº = 8\n",
    "r = 12\n",
    "m1 = 0.1\n",
    "\n",
    "Y = np.arange(Y_size)\n",
    "\n",
    "\n",
    "\n",
    "def r_IS(Co, Io, Go, h, b, m, t, x1, Yº, x2, m2, Eo, p, rº, r,  m1):\n",
    "    r_IS = ((Co + Io + Go + (x2+m2)*Eo + (x2+m2)*p*rº+x1*Yº)/(h+(x2+m2)*p)) - (((1-(b-m1)*(1-t))*Y)/(h+(x2+m2)*p))\n",
    "    return r_IS\n",
    "\n",
    "r_IS = r_IS(Co, Io, Go, h, b, m, t, x1, Yº, x2, m2, Eo, p, rº, r, m1)\n",
    "\n",
    "#------------\n",
    "Go = 15\n",
    "\n",
    "\n",
    "\n",
    "def r_IS_G(Co, Io, Go, h, b, m, t, x1, Yº, x2, m2, Eo, p, rº, r, m1):\n",
    "    r_IS = ((Co + Io + Go + (x2+m2)*Eo + (x2+m2)*p*rº+x1*Yº)/(h+(x2+m2)*p)) - (((1-(b-m1)*(1-t))*Y)/(h+(x2+m2)*p))\n",
    "    return r_IS\n",
    "\n",
    "r_IS_G = r_IS_G(Co, Io, Go, h, b, m, t, x1, Yº, x2, m2, Eo, p, rº, r, m1)"
   ]
  },
  {
   "cell_type": "code",
   "execution_count": 17,
   "id": "972e51a1",
   "metadata": {},
   "outputs": [],
   "source": [
    "\n",
    "Y_size = 100 \n",
    "\n",
    "k = 0.4\n",
    "j = 0.7               \n",
    "Ms = 70             \n",
    "Po  = 20 \n",
    "\n",
    "Y = np.arange(Y_size)\n",
    "\n",
    "# Ecuación\n",
    "\n",
    "def r_LM( k, j, Ms, Po, Y):\n",
    "    r_LM = (-Ms/Po)/j + k/j*Y\n",
    "    return r_LM\n",
    "\n",
    "r_LM = r_LM( k, j, Ms, Po, Y)"
   ]
  },
  {
   "cell_type": "code",
   "execution_count": 41,
   "id": "19c5cf3c",
   "metadata": {},
   "outputs": [
    {
     "data": {
      "image/png": "[encoded data removed]",
      "text/plain": [
       "<Figure size 720x576 with 1 Axes>"
      ]
     },
     "metadata": {
      "needs_background": "light"
     },
     "output_type": "display_data"
    }
   ],
   "source": [
    "    # Gráfico del modelo IS-LM\n",
    "\n",
    "# Dimensiones del gráfico\n",
    "y_max = np.max(Y)\n",
    "fig, ax = plt.subplots(figsize=(10, 8))\n",
    "\n",
    "ax.plot(Y, r_IS, label = \"IS\", color = \"#24C3C1\") \n",
    "ax.plot(Y, r_IS_G, label = \"IS_G\", color = \"#24C3C1\", linestyle ='dashed') \n",
    "ax.plot(Y, r_LM, label=\"LM\", color = \"#8E24C3\")  \n",
    "\n",
    "\n",
    "plt.axhline(y=20, xmin= 0, xmax= 1, linestyle = \":\", color = \"grey\")\n",
    "plt.axvline(x=42,  ymin= 0, ymax= 1, linestyle = \":\", color = \"grey\")\n",
    "plt.axhline(y=29, xmin= 0, xmax= 1, linestyle = \":\", color = \"grey\")\n",
    "plt.axvline(x=57,  ymin= 0, ymax= 1, linestyle = \":\", color = \"grey\")\n",
    "\n",
    "\n",
    "plt.text(57.6, -6, '$Y_0$', fontsize = 12, color = 'black')\n",
    "plt.text(47, -6, '$Y_1$', fontsize = 12, color = 'C1')\n",
    "plt.text(73, 11, '$→$', fontsize = 11, color = 'grey')\n",
    "plt.text(3, 23, '$↑$', fontsize = 11, color = 'grey')\n",
    "\n",
    "\n",
    "\n",
    "ax.set(title=\"Política fiscal de contracción del Gasto Público$(G_0)$\", xlabel= r'Y', ylabel= r'r')\n",
    "ax.legend()\n",
    "\n",
    "plt.show()"
   ]
  },
  {
   "cell_type": "markdown",
   "id": "782e9e19",
   "metadata": {},
   "source": [
    "3.  Analice los efectos sobre la variable endógena  de un incremento del PBI mundial . El análisis debe ser intuitivo, matemático y gráfico."
   ]
  },
  {
   "cell_type": "markdown",
   "id": "8cb99e4f",
   "metadata": {},
   "source": [
    "Una política de incremento del PBI mundial, una variable endógnea afecta de la siguiente manera\n",
    "\n",
    "$$  Mso↑ →Ms>Md → r↓ $$\n",
    "$$  r↓= Io↑ = DA↑ → DA>Y = Y↑ $$\n",
    "\n",
    "Si existe un incremetento del PBI la varible Y también sube\n"
   ]
  },
  {
   "cell_type": "markdown",
   "id": "16cd2ec8",
   "metadata": {},
   "source": [
    " Matemáticamente\n",
    "    "
   ]
  },
  {
   "cell_type": "markdown",
   "id": "086b7aa2",
   "metadata": {},
   "source": [
    "La pendiente es representada por el diferencial de $ ∆Mo/∆Y es positiva"
   ]
  },
  {
   "cell_type": "markdown",
   "id": "4089cab2",
   "metadata": {},
   "source": [
    "Ahora gráficamente:\n"
   ]
  },
  {
   "cell_type": "code",
   "execution_count": 19,
   "id": "67d72e83",
   "metadata": {},
   "outputs": [],
   "source": [
    "Y_size = 100 \n",
    "\n",
    "k = 0.4\n",
    "j = 0.7               \n",
    "Ms = 50             \n",
    "Po  = 20 \n",
    "\n",
    "Y = np.arange(Y_size)\n",
    "\n",
    "# Ecuación\n",
    "\n",
    "def r_LM( k, j, Ms, Po, Y):\n",
    "    r_LM = (-Ms/Po)/j + k/j*Y\n",
    "    return r_LM\n",
    "\n",
    "r_LM = r_LM( k, j, Ms, Po, Y)\n",
    "\n",
    "\n",
    "#------------------------------------------------\n",
    "\n",
    "# Nueva Curva LM\n",
    "Ms = 150\n",
    "\n",
    "# Ecuación\n",
    "\n",
    "def r_LM_Ms( k, j, Ms, Po, Y):\n",
    "    r_LM = (-Ms/Po)/j + k/j*Y\n",
    "    return r_LM\n",
    "\n",
    "r_LM_Ms = r_LM_Ms( k, j, Ms, Po, Y)"
   ]
  },
  {
   "cell_type": "code",
   "execution_count": 31,
   "id": "24d5a341",
   "metadata": {},
   "outputs": [
    {
     "data": {
      "image/png": "[encoded data removed]",
      "text/plain": [
       "<Figure size 720x576 with 1 Axes>"
      ]
     },
     "metadata": {
      "needs_background": "light"
     },
     "output_type": "display_data"
    }
   ],
   "source": [
    "\n",
    "y_max = np.max(Y)\n",
    "fig, ax = plt.subplots(figsize=(10, 8))\n",
    "\n",
    "\n",
    "ax.plot(Y, r_IS, label = \"IS\", color = \"#C33024\") \n",
    "ax.plot(Y, r_LM, label=\"LM\", color = \"#E5DA39\")  \n",
    "ax.plot(Y, r_LM_Ms, label=\"LM_Ms\", color = \"#E5DA39\", linestyle = 'dashed')  \n",
    "\n",
    "\n",
    "plt.axhline(y=29, xmin= 0, xmax= 1, linestyle = \":\", color = \"grey\")\n",
    "plt.axvline(x=57,  ymin= 0, ymax= 1, linestyle = \":\", color = \"grey\")\n",
    "plt.axhline(y=26, xmin= 0, xmax= 1, linestyle = \":\", color = \"grey\")\n",
    "plt.axvline(x=64,  ymin= 0, ymax= 1, linestyle = \":\", color = \"grey\")\n",
    "\n",
    "plt.text(0, 22, '$r_0$', fontsize = 12, color = 'black')\n",
    "plt.text(54, -16, '$Y_0$', fontsize = 12, color = 'black')\n",
    "plt.text(0, 14, '$r_1$', fontsize = 12, color = 'C0')\n",
    "plt.text(64, -16, '$Y_1$', fontsize = 12, color = 'C0')\n",
    "\n",
    "plt.text(70, 29, '$→$', fontsize = 11, color = 'grey')\n",
    "plt.text(49, -10, '$→$', fontsize = 11, color = 'grey')\n",
    "plt.text(3, 18, '$↑$', fontsize = 11, color = 'grey')\n",
    "plt.text(68, 30.5, '$△Ms$', fontsize = 12, color = 'black')\n",
    "\n",
    "\n",
    "ax.set(title=\"Incremento del PBI\", xlabel= r'Y', ylabel= r'r')\n",
    "ax.legend()\n",
    "\n",
    "plt.show()"
   ]
  },
  {
   "cell_type": "markdown",
   "id": "26ebd5fc",
   "metadata": {},
   "source": [
    "\n"
   ]
  },
  {
   "cell_type": "code",
   "execution_count": null,
   "id": "64216cb5",
   "metadata": {},
   "outputs": [],
   "source": []
  },
  {
   "cell_type": "code",
   "execution_count": null,
   "id": "27067c94",
   "metadata": {},
   "outputs": [],
   "source": []
  },
  {
   "cell_type": "code",
   "execution_count": null,
   "id": "15fbe72f",
   "metadata": {},
   "outputs": [],
   "source": []
  }
 ],
 "metadata": {
  "kernelspec": {
   "display_name": "Python 3 (ipykernel)",
   "language": "python",
   "name": "python3"
  },
  "language_info": {
   "codemirror_mode": {
    "name": "ipython",
    "version": 3
   },
   "file_extension": ".py",
   "mimetype": "text/x-python",
   "name": "python",
   "nbconvert_exporter": "python",
   "pygments_lexer": "ipython3",
   "version": "3.9.12"
  }
 },
 "nbformat": 4,
 "nbformat_minor": 5
}
