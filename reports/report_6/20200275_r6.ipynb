{
  "nbformat": 4,
  "nbformat_minor": 0,
  "metadata": {
    "colab": {
      "provenance": [],
      "collapsed_sections": []
    },
    "kernelspec": {
      "name": "python3",
      "display_name": "Python 3"
    },
    "language_info": {
      "name": "python"
    }
  },
  "cells": [
    {
      "cell_type": "markdown",
      "source": [
        "# Reporte 6: \n",
        "\n",
        "- Mayeli Charra 20200275\n",
        "\n",
        "El artículo titulado “Cerrando la brecha: El efecto de una promesa específica de gratuidad de la matrícula en las elecciones universitarias de los estudiantes de alto rendimiento y bajos ingresos”  los autores se preguntan si las comunicaciones dirigidas y personalizadas, pero que no reducen necesariamente costos cruciales en comparación contras becas pero que ofrecía una garantía de subvenciones que les aseguraba ser elegibles para la ayuda financiera pueden influir en las decisiones universitarias de estudiantes de alto rendimiento y bajos recursos.  \n",
        "\n",
        "A partir de la revisión de la literatura encontraron que las universidades selectivas no son el destino de más estudiantes de bajos ingresos y alto rendimiento a pesar de los beneficios que brindan, encontrando que es debido a la desinformación. De tal manera, el artículo se enfoca en encontrar otros factores como intentar cerrar la desinformación influye en las decisiones de los estudiantes.\n",
        "\n",
        "Entre las fortalezas del artículo encontramos que en cuanto a su diseño de recolección de datos el artículo logró  la identificación de estos estudiantes a través de datos administrativos y en base al GPA de las escuelas  y el SAT. También, encontraron datos sobre sus ingresos a partir de datos sobre la calificación para el programa federal de almuerzos subvencionados y los centros escolares fueron escogidos de manera aleatoria de manera que evita el sesgo en la selección de estudiantes. A su vez, en cuanto a la estrategia empírica el artículo logró conducir análisis de subgrupos para revisar la heterogeneidad en el efecto del tratamiento, donde estos subgrupos permitieron identificar los posibles mecanismos a través de los cuales la beca HAIL pudo afectar la aplicación y matrícula. Por otro lado, entre las limitaciones se encuentra que no se pudo observar si un alumno recibe realmente el paquete de información es decir el tratamiento, lo que es crucial para determinar si la información influye en la decisión de los estudiantes a aplicar las instituciones selectivas o hay otros factores detrás.\n",
        "\n",
        "La contribución del artículo presenta respecto a las decisiones de solicitud de plaza, la admisión, la matrícula y la persistencia en la Universidad de Michigan de los estudiantes es amplia. En primer lugar, encontraron pruebas a partir de la actividad del sitio web donde entre los resultados a partir de pruebas de concienciación  sobre el tema del HAL y encontraron que los estudiantes de las escuelas tratadas tenían más probabilidad de solicitar, obtener la admisión y matricularse en la UM, es decir los materiales animaban a presentarse antes de la fecha límite. En segundo lugar, encontraron que HAIL influyó en las áreas rurales los estudiantes aislados y desconectados que eran menos propensos a solicitar admisiones asimismo el grado de desventaja económica fue estadísticamente indistinguible pero son consistentemente mayores en magnitud que para sus compañeros más aventajados. En tercer lugar, encontraron que si bien HAIL tuvo mayor éxito para inducir a los estudiantes con un rendimiento bajo solicitar la admisión, los estudiantes con mejores resultados y calificaciones la intervención tuvo más éxito en su matrícula. Por último el hallazgo de que las características adicionales como la raza y grupos étnicos así como el género influyen en las decisiones de los estudiantes es una contribución importante del artículo. \n",
        "\n",
        "A modo de cierre, para avanzar en esta pregunta, el artículo podría abarcar las otras características de los estudiantes de alto rendimiento y bajos ingresos puesto que a partir de sus resultados se evidenció que estas características adicionales ofrecen diferencias sustanciales en los efectos del tratamiento por lo que siguiendo esa línea un próximo paso sería considerar el aspecto racial que explica la decisión de algunos estudiantes, el artículo de Comeaux, E., Chapman, T. K., & Contreras, F. (2020) encontró que estos estudiantes de alto rendimiento investigaron y experimentaron una serie de problemas de clima racial en los campus, incluyendo actividades racistas y la falta de diversidad de composición, lo que contribuyó a su decisión de no inscribirse en el caso de la Universidad de California a pesar de ser un estado mayoritariamente liberal por lo que podría resultar un gran avance la comparación con otras universidades en otros estados. \n",
        "\n",
        "- Referencias\n",
        "\n",
        "Comeaux, E., Chapman, T. K., & Contreras, F. (2020). The college access and choice processes of high-achieving African American students: A critical race theory analysis. American Educational Research Journal, 57(1), 411-439.\n",
        "\n",
        "\n",
        "Dynarski, S., Libassi, C. J., Michelmore, K., & Owen, S. (2018). Closing the gap: The effect of a targeted, tuition-free promise on college choices of high-achieving, low-income students (No. w25349). National Bureau of Economic Research.\n",
        "\n",
        "\n",
        "\n",
        "\n"
      ],
      "metadata": {
        "id": "4VpeRCt-m_Ss"
      }
    }
  ]
}