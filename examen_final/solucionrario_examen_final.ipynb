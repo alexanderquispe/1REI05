{
 "cells": [
  {
   "cell_type": "markdown",
   "id": "048ca356",
   "metadata": {},
   "source": [
    "## Solucionario examen final:"
   ]
  },
  {
   "cell_type": "markdown",
   "id": "b04ba09e",
   "metadata": {},
   "source": [
    "### 1. (3 puntos) Instrumental Variables (IV)"
   ]
  },
  {
   "cell_type": "markdown",
   "id": "f50026c9",
   "metadata": {},
   "source": [
    "Suponga que estamos interesados en estudiar la relación entre educación $(X)$ y el nivel de ingresos $(Y)$.\n",
    "\n",
    "Un investigador propone utilizar como variable instrumental $(Z)$ el numero de horas que una persona utilizó para ver televisión cuando era niño.\n",
    "\n",
    "- **Indetifique todos los elementos necesarios para implementar un enfoque de IV en este ejemplo**.\n",
    "\n",
    "Las Variables Instrumentales $(VI)$ suelen emplearse para resolver problemas de endogeneidad de variables omitidas. La estimación con $VI$ hace uso de una variable adicional $(Z)$ para  identificar la correlación oculta (no observada) que permita ver la verdadera correlación entre la variable explicativa $(X)$ y la variable de respuesta $(Y)$. \n",
    "\n",
    "En el caso presentado, se debe encontrar una vía mediada entre educación $(X)$ y el nivel de ingresos $(Y)$. Esta podría ser el número de horas que una persona utilizó para ver televisión cuando era niño $(Z)$. Ahora bien, esta VI debe cumplir con dos supuestos: el de relevancia y el de validez. \n",
    "\n",
    "Por un lado, la relevancia supone que el instrumento $(Z)$ debe estar correlacionado con la variable de tratamiento $(X)$. En este sentido, las horas que uno vio televisión de niño se vincula con la educación, debido a que más horas de TV pueden significar menos horas dedicando al estudio. Por otro lado, el criterio de validez implica que la variable instrumental debe ser una variable que no tenga puertas traseras propias. Es decir, cualquier vínculo entre el instrumento y el resultado debe ser influenciado por el tratamiento y no por otras variables externas. En este caso, las horas de TV no se ven afectadas por otros sesgos que sí afectan a la educación, como los ingresos económicos, el lugar y tipo de residencia, el sexo, etc. \n",
    "\n"
   ]
  },
  {
   "cell_type": "markdown",
   "id": "c201899a",
   "metadata": {},
   "source": [
    "- **Explique el procedimiento para encontrar el efecto causal en este escenario. Puede utilizar ecuaciones**\n",
    "\n",
    "Para encontrar el efecto causal entre la educación y el nivel de ingresos, se debe instrumentalizar a la variable independiente educación $(X)$ con la variable instrumental de horas viendo TV $ (Z) $. El uso de esta última variable nos permite eliminar cualquier sesgo o variable no observable que afecte a la variable $X$ y, en consecuencia, su relación con $Y$. \n",
    "\n",
    "A partir de esta instrumentalización, y si se comprueba el efecto de la variable instrumental $(Z)$ sobre la variable independiente $(X)$, se deberá correr una regresión entre la variable educación $(X)$ y el nivel de ingresos $(Y)$ para encontrar si es que existe o no una relación de causalidad, ahora sin sesgos gracias a la instrumentalización de las horas viendo TV $(Z)$.\n"
   ]
  },
  {
   "cell_type": "markdown",
   "id": "f2f73031",
   "metadata": {},
   "source": [
    "- **¿El efecto de la educación sobre el nivel de ingresos es positivo o negativo? Argumente si los resultados serian causales o solamente de correlación**\n",
    "\n",
    "De forma intuitiva, se puede argumentar que el efecto de la educación sobre el nivel de ingresos es positivo: mientras una persona tenga más años de estudio, es esperable que sus ingresos sean mayores. Aismismo, si estos resultados fueran ciertos, sí se trataría de una relación causal. Ello debido a que, como se mencionó anteriormente, la variable instrumental $(Z)$, las horas que una persona utilizó para ver TV cuando era niño, cumple con los supuestos de validez y relevancia en relación a la variable independiente $(X)$."
   ]
  },
  {
   "cell_type": "markdown",
   "id": "67b01dab",
   "metadata": {},
   "source": [
    "### 2. (3 puntos) Regression Discontinuity Design (RDD)"
   ]
  },
  {
   "cell_type": "markdown",
   "id": "757de557",
   "metadata": {},
   "source": [
    "Supongamos que estamos estudiando la eficacia de un programa de becas creado por el gobierno Peruano sobre las notas de los alumnos al final del primer semestre en la universidad. PRONABEC ha decidido que entregará becas a aquellos postulantes que tengan un promedio superior durante la secundaria igual a 16.\n",
    "\n",
    "- **Indetifique todos los elementos necesarios para implementar un RDD en este ejemplo.**\n",
    "\n",
    "El diseño de regresión discontinua $(RDD)$ busca determinar el efecto causal de la variable de ejecución $(X)$ en la variable de resultados $(Y)$. Y son 4 los elementos necesarios para realizar un RDD: la mencionada variable de ejecución $(X)$, el cuttoff o límite de la variable de ejecución, el bandwidth o ancho de banda y el tratamiento.\n",
    "\n",
    "Con respecto al primero, la variable que determina si recibes o no el tratamiento, en el  caso esta sería el promedio de la secundaria. Sobre el cutoff, este debe ser un límite objetivo y no puede ser manipulado por los participantes. Tal y como es tener un promedio mayor a 16 para recibir el tratamiento de la beca. Sobre el área límite comparable del cutoff, el investigador encargado deberá determinar el puntaje para medir el impacto. Por último, está el tratamiento, en este caso, obtener o no la beca de PRONABEC."
   ]
  },
  {
   "cell_type": "markdown",
   "id": "74e322f1",
   "metadata": {},
   "source": [
    "- **Explique el procedimiento para encontrar el efecto causal en este escenario. Puede utilizar ecuaciones.**\n",
    "\n",
    "Con la regresión discontinua, se busca la diferencia entre los grupos a cada lado del cutoff. Para medir la eficacia de este programa de becas, se debe comparar al grupo de estudiantes seleccionados con otro que haya obtenido un promedio un poco menor a 16 para, posteriormente, comparar sus notas del primer semestre de la universidad.\n",
    "\n",
    "En este caso, estamos frente a un \"sharp design\" ya que la probabilidad de obtener la beca es de 1 si el promedio es mayor a 16, y de 0 si es que no se llega a este promedio. Ahora se debe encontrar el \"salto\" en el cutoff, dado que este nos indicará el efecto de obtener la beca sobre el rendimiento académico universitario."
   ]
  },
  {
   "cell_type": "markdown",
   "id": "a4d29b96",
   "metadata": {},
   "source": [
    "- **¿El efecto de la politica sobre el rendimiento de los estudiantes sería positivo o negativo (solo necesitan usar su intuición)? Argumente si los resultados serian causales o solamente de correlación.**\n",
    "\n",
    "El efecto de la política de becas a alumnos con un promedio superior a 16, probablemente tenga efectos positivos sobre su rendimiento. Debido a que, esta ayuda no solo constituye un reconocimiento y estímulo al esfuerzo académico, sino que también, usualmente para mantener una beca es necesario obtener notas sobresalientes. Sin embargo, no se podría hablar de una relación causal entre obtener una beca y buenos resultados académicos, solo de correlación. Pues pueden existir factores no observables que afectan el rendimiento de los estudiantes y consecuentemente, su propensión a obtener una beca."
   ]
  },
  {
   "cell_type": "markdown",
   "id": "91d4ac36",
   "metadata": {},
   "source": [
    "### 3. (3 puntos) Difference in Difference (DiD)\n"
   ]
  },
  {
   "cell_type": "markdown",
   "id": "ad330a04",
   "metadata": {},
   "source": [
    "Supongamos que estamos interesados ​​en estudiar el impacto de la migración en la tasa de empleo en dos regiones del Perú en 2017-2018. Tenemos datos anuales sobre la tasa de empleo en Lima, que experimentó una afluencia significativa de inmigrantes en 2018, y Puno que no experimentó el ingreso de migrantes (2017 ninguna de las regiones experimentó afluencia de migrantes). Podemos usar un análisis DID para comparar el cambio en las tasas de empleo entre las dos regiones a lo largo del tiempo para ver si la migración tuvo algún efecto.\n",
    "\n",
    "- **Indetifique todos los elementos necesarios para implementar un DiD en este ejemplo.**\n",
    "\n",
    "Para implementar un Did es necesario tener dos grupos comparables: uno de control, que no sufrío ningún tipo de cambio, y uno de tratamiento, el que fue expuesto a algún estímulo. En el ejemplo, Lima, al experimentar una afluencia significativa de migrantes, sería el grupo de tratamiento. Mientras que Puno, al no experimentar este mismo fenómeno, sería el grupo de control. De esta manera, al tener un grupo expuesto a algún tratamiento, la comparación entre sus resultados, permitirá observar si la migración explica las variaciones en la tasa de empleo de estas regiones peruanas.\n",
    "\n",
    "Además, es necesario que se cumpla el supuesto de \"tendencias paralelas\". Este implica que ante la ausencia del tratamiento, el comportamiento de ambos grupos debería ser el mismo.\n"
   ]
  },
  {
   "cell_type": "markdown",
   "id": "06ef8e5a",
   "metadata": {},
   "source": [
    "- **Explique el procedimiento para encontrar el efecto causal en este escenario. Puede utilizar ecuaciones.**"
   ]
  },
  {
   "cell_type": "markdown",
   "id": "199a3acf",
   "metadata": {},
   "source": [
    "En primer lugar, se debe obtener los 4 promedios, de ambos grupos en los 2 periodos de tiempo: de Lima antes y después de la ola migratoria, y de Puno, a pesar de no recibir el tratamiento, en los mismos periodos de tiempo. Posteriormente, se debe identificar si hubo algún cambio en las tasas de empleo de ambas regiones. Ahora, con estos resultados, se puede aplicar el método de DiD: se resta  la diferencia del grupo de tratamiento menos la diferencia del grupo de control. Este resultado representa el efecto causal de la migración sobre la tasa de empleo, ya que se está comparando la tasa de empleo en un lugar donde hubo tratamiendo con un lugar donde no lo hubo."
   ]
  },
  {
   "cell_type": "markdown",
   "id": "808bd561",
   "metadata": {},
   "source": [
    "- **¿El efecto de la migración sobre la tasa de empleo sería positivo o negativo (solo necesitan usar su intuición)? Argumente si los resultados serian causales o solamente de correlación.**"
   ]
  },
  {
   "cell_type": "markdown",
   "id": "586e58b4",
   "metadata": {},
   "source": [
    "En este caso, el efecto de la migración sobre la tasa de empleo podría ser negativo, debido a que ante un mayor número de migrantes, los puestos de trabajo disponibles serán menores. Si bien ello también depende de la oferta y la necesidad de mano de obra de ciudad, usualmente el efecto sobre la tasa de empleo sería negativo. Sin embargo, en el caso de Lima y Puno, podría tratarse solo de una correlación y no de una relación causal. Ello debido a que las ciudades a comparar deben ser lo suficientemente similares para establecer la causalidad del tratamiento.\n",
    "\n"
   ]
  },
  {
   "cell_type": "markdown",
   "id": "c0964718",
   "metadata": {},
   "source": [
    "### 5. (4 puntos) Código"
   ]
  },
  {
   "cell_type": "code",
   "execution_count": 1,
   "id": "dffb8659",
   "metadata": {},
   "outputs": [],
   "source": [
    "from causalgraphicalmodels import CausalGraphicalModel\n",
    "import os\n",
    "import numpy as np \n",
    "import matplotlib.pyplot as plt\n",
    "import pandas as pd \n",
    "import statsmodels.api as sm \n",
    "import statsmodels.formula.api as smf \n",
    "from itertools import combinations \n",
    "import plotnine as p\n",
    "import statsmodels.api as sm\n",
    "import statsmodels.formula.api as smf\n",
    "import linearmodels.iv.model as lm\n",
    "from linearmodels.iv import IV2SLS\n",
    "from statsmodels.iolib.summary2 import summary_col\n",
    "import seaborn as sns"
   ]
  },
  {
   "cell_type": "markdown",
   "id": "8872ee29",
   "metadata": {},
   "source": [
    "#### 5.1 Ploteo de Histogramas\n",
    "\n",
    "Tienen que trabajar con la misma data de educacion que utilicé en la clase_11. En este documento encontrarán una descripción detallada de todas las variables en el dataset.\n",
    "\n",
    "Tomando en cuenta que la variable nearc2 representa si existe un college en el county debe realizar los siguientes ploteos de histogramas.\n",
    "\n",
    "- **Grafique dos histogramas para la variable años de educación educ para cuando $nearc2 == 1$, y cuando $nearc2 == 0$. Compare y describa los patrones que encuentra.**\n"
   ]
  },
  {
   "cell_type": "code",
   "execution_count": 2,
   "id": "9eecb44f",
   "metadata": {},
   "outputs": [
    {
     "data": {
      "text/html": [
       "<div>\n",
       "<style scoped>\n",
       "    .dataframe tbody tr th:only-of-type {\n",
       "        vertical-align: middle;\n",
       "    }\n",
       "\n",
       "    .dataframe tbody tr th {\n",
       "        vertical-align: top;\n",
       "    }\n",
       "\n",
       "    .dataframe thead th {\n",
       "        text-align: right;\n",
       "    }\n",
       "</style>\n",
       "<table border=\"1\" class=\"dataframe\">\n",
       "  <thead>\n",
       "    <tr style=\"text-align: right;\">\n",
       "      <th></th>\n",
       "      <th>id</th>\n",
       "      <th>nearc2</th>\n",
       "      <th>nearc4</th>\n",
       "      <th>educ</th>\n",
       "      <th>age</th>\n",
       "      <th>fatheduc</th>\n",
       "      <th>motheduc</th>\n",
       "      <th>weight</th>\n",
       "      <th>momdad14</th>\n",
       "      <th>sinmom14</th>\n",
       "      <th>...</th>\n",
       "      <th>KWW</th>\n",
       "      <th>IQ</th>\n",
       "      <th>married</th>\n",
       "      <th>libcrd14</th>\n",
       "      <th>exper</th>\n",
       "      <th>lwage</th>\n",
       "      <th>expersq</th>\n",
       "      <th>u_lwage</th>\n",
       "      <th>lwage_hat</th>\n",
       "      <th>u_educ</th>\n",
       "    </tr>\n",
       "  </thead>\n",
       "  <tbody>\n",
       "    <tr>\n",
       "      <th>0</th>\n",
       "      <td>2.0</td>\n",
       "      <td>0.0</td>\n",
       "      <td>0.0</td>\n",
       "      <td>7.0</td>\n",
       "      <td>29.0</td>\n",
       "      <td>NaN</td>\n",
       "      <td>NaN</td>\n",
       "      <td>158413.0</td>\n",
       "      <td>1.0</td>\n",
       "      <td>0.0</td>\n",
       "      <td>...</td>\n",
       "      <td>15.0</td>\n",
       "      <td>NaN</td>\n",
       "      <td>1.0</td>\n",
       "      <td>0.0</td>\n",
       "      <td>16.0</td>\n",
       "      <td>6.306275</td>\n",
       "      <td>256.0</td>\n",
       "      <td>0.198047</td>\n",
       "      <td>6.108228</td>\n",
       "      <td>-3.067539</td>\n",
       "    </tr>\n",
       "    <tr>\n",
       "      <th>1</th>\n",
       "      <td>3.0</td>\n",
       "      <td>0.0</td>\n",
       "      <td>0.0</td>\n",
       "      <td>12.0</td>\n",
       "      <td>27.0</td>\n",
       "      <td>8.0</td>\n",
       "      <td>8.0</td>\n",
       "      <td>380166.0</td>\n",
       "      <td>1.0</td>\n",
       "      <td>0.0</td>\n",
       "      <td>...</td>\n",
       "      <td>35.0</td>\n",
       "      <td>93.0</td>\n",
       "      <td>1.0</td>\n",
       "      <td>1.0</td>\n",
       "      <td>9.0</td>\n",
       "      <td>6.175867</td>\n",
       "      <td>81.0</td>\n",
       "      <td>-0.211160</td>\n",
       "      <td>6.387027</td>\n",
       "      <td>-1.727562</td>\n",
       "    </tr>\n",
       "    <tr>\n",
       "      <th>2</th>\n",
       "      <td>4.0</td>\n",
       "      <td>0.0</td>\n",
       "      <td>0.0</td>\n",
       "      <td>12.0</td>\n",
       "      <td>34.0</td>\n",
       "      <td>14.0</td>\n",
       "      <td>12.0</td>\n",
       "      <td>367470.0</td>\n",
       "      <td>1.0</td>\n",
       "      <td>0.0</td>\n",
       "      <td>...</td>\n",
       "      <td>42.0</td>\n",
       "      <td>103.0</td>\n",
       "      <td>1.0</td>\n",
       "      <td>1.0</td>\n",
       "      <td>16.0</td>\n",
       "      <td>6.580639</td>\n",
       "      <td>256.0</td>\n",
       "      <td>0.204719</td>\n",
       "      <td>6.375920</td>\n",
       "      <td>1.012975</td>\n",
       "    </tr>\n",
       "    <tr>\n",
       "      <th>3</th>\n",
       "      <td>5.0</td>\n",
       "      <td>1.0</td>\n",
       "      <td>1.0</td>\n",
       "      <td>11.0</td>\n",
       "      <td>27.0</td>\n",
       "      <td>11.0</td>\n",
       "      <td>12.0</td>\n",
       "      <td>380166.0</td>\n",
       "      <td>1.0</td>\n",
       "      <td>0.0</td>\n",
       "      <td>...</td>\n",
       "      <td>25.0</td>\n",
       "      <td>88.0</td>\n",
       "      <td>1.0</td>\n",
       "      <td>1.0</td>\n",
       "      <td>10.0</td>\n",
       "      <td>5.521461</td>\n",
       "      <td>100.0</td>\n",
       "      <td>-0.967905</td>\n",
       "      <td>6.489366</td>\n",
       "      <td>-2.253536</td>\n",
       "    </tr>\n",
       "    <tr>\n",
       "      <th>4</th>\n",
       "      <td>6.0</td>\n",
       "      <td>1.0</td>\n",
       "      <td>1.0</td>\n",
       "      <td>12.0</td>\n",
       "      <td>34.0</td>\n",
       "      <td>8.0</td>\n",
       "      <td>7.0</td>\n",
       "      <td>367470.0</td>\n",
       "      <td>1.0</td>\n",
       "      <td>0.0</td>\n",
       "      <td>...</td>\n",
       "      <td>34.0</td>\n",
       "      <td>108.0</td>\n",
       "      <td>1.0</td>\n",
       "      <td>0.0</td>\n",
       "      <td>16.0</td>\n",
       "      <td>6.591674</td>\n",
       "      <td>256.0</td>\n",
       "      <td>0.125173</td>\n",
       "      <td>6.466501</td>\n",
       "      <td>1.090437</td>\n",
       "    </tr>\n",
       "  </tbody>\n",
       "</table>\n",
       "<p>5 rows × 37 columns</p>\n",
       "</div>"
      ],
      "text/plain": [
       "    id  nearc2  nearc4  educ   age  fatheduc  motheduc    weight  momdad14  \\\n",
       "0  2.0     0.0     0.0   7.0  29.0       NaN       NaN  158413.0       1.0   \n",
       "1  3.0     0.0     0.0  12.0  27.0       8.0       8.0  380166.0       1.0   \n",
       "2  4.0     0.0     0.0  12.0  34.0      14.0      12.0  367470.0       1.0   \n",
       "3  5.0     1.0     1.0  11.0  27.0      11.0      12.0  380166.0       1.0   \n",
       "4  6.0     1.0     1.0  12.0  34.0       8.0       7.0  367470.0       1.0   \n",
       "\n",
       "   sinmom14  ...   KWW     IQ  married  libcrd14  exper     lwage  expersq  \\\n",
       "0       0.0  ...  15.0    NaN      1.0       0.0   16.0  6.306275    256.0   \n",
       "1       0.0  ...  35.0   93.0      1.0       1.0    9.0  6.175867     81.0   \n",
       "2       0.0  ...  42.0  103.0      1.0       1.0   16.0  6.580639    256.0   \n",
       "3       0.0  ...  25.0   88.0      1.0       1.0   10.0  5.521461    100.0   \n",
       "4       0.0  ...  34.0  108.0      1.0       0.0   16.0  6.591674    256.0   \n",
       "\n",
       "    u_lwage  lwage_hat    u_educ  \n",
       "0  0.198047   6.108228 -3.067539  \n",
       "1 -0.211160   6.387027 -1.727562  \n",
       "2  0.204719   6.375920  1.012975  \n",
       "3 -0.967905   6.489366 -2.253536  \n",
       "4  0.125173   6.466501  1.090437  \n",
       "\n",
       "[5 rows x 37 columns]"
      ]
     },
     "execution_count": 2,
     "metadata": {},
     "output_type": "execute_result"
    }
   ],
   "source": [
    "# load data\n",
    "\n",
    "import ssl\n",
    "ssl._create_default_https_context = ssl._create_unverified_context\n",
    "\n",
    "def read_data(file): \n",
    "    return pd.read_stata(\"https://raw.github.com/scunning1975/mixtape/master/\" + file)\n",
    "\n",
    "card = read_data(\"card.dta\")\n",
    "card.head()\n"
   ]
  },
  {
   "cell_type": "code",
   "execution_count": 5,
   "id": "b1ecb615",
   "metadata": {},
   "outputs": [
    {
     "data": {
      "text/plain": [
       "<seaborn.axisgrid.FacetGrid at 0x7f85a5197dc0>"
      ]
     },
     "execution_count": 5,
     "metadata": {},
     "output_type": "execute_result"
    },
    {
     "data": {
      "image/png": "[encoded data removed]",
      "text/plain": [
       "<Figure size 720x360 with 2 Axes>"
      ]
     },
     "metadata": {
      "needs_background": "light"
     },
     "output_type": "display_data"
    }
   ],
   "source": [
    "sns.displot(card, x = \"educ\", col = \"nearc2\")\n"
   ]
  },
  {
   "cell_type": "markdown",
   "id": "c33e84ed",
   "metadata": {},
   "source": [
    "En general, se observa una distribución similar de los datos en ambos histogramas. Por lo tanto, se puede concluir que la presencia de un college en el condado no tiene efecto significativo en la cantidad de años de educación.\n",
    "\n"
   ]
  },
  {
   "cell_type": "markdown",
   "id": "acfe1a64",
   "metadata": {},
   "source": [
    "- **Grafique dos histogramas para la variable logaritmos de los ingresos lwage para cuando $nearc2 == 1$, y cuando $nearc2 == 0$. Compare y describa los patrones que encuentra.**"
   ]
  },
  {
   "cell_type": "code",
   "execution_count": 4,
   "id": "2df9324f",
   "metadata": {},
   "outputs": [
    {
     "data": {
      "text/plain": [
       "<seaborn.axisgrid.FacetGrid at 0x7f85a4c0ce20>"
      ]
     },
     "execution_count": 4,
     "metadata": {},
     "output_type": "execute_result"
    },
    {
     "data": {
      "image/png": "[encoded data removed]",
      "text/plain": [
       "<Figure size 720x360 with 2 Axes>"
      ]
     },
     "metadata": {
      "needs_background": "light"
     },
     "output_type": "display_data"
    }
   ],
   "source": [
    "sns.displot(card, x = \"lwage\", col = \"nearc2\")\n"
   ]
  },
  {
   "cell_type": "markdown",
   "id": "f4ac6dad",
   "metadata": {},
   "source": [
    "Si bien se observa una diferencia en cuanto a los ingresos que reciben aquellos con un college en su condado y aquellos que no, siendo mayores los ingresos del primer grupo, esta no es una diferencia drástica, ya que la distribución de los datos es similar en ambos grupos. Por ello, es posible afirmar que la presencia o no de un college en el condado, no afecra el nivel de ingresos."
   ]
  },
  {
   "cell_type": "markdown",
   "id": "baa67442",
   "metadata": {},
   "source": [
    "#### 5.2 Regresiones\n",
    "\n",
    "- **Corran una regresion lineal del tipo \"lwage ~ educ + exper + black + south + married + smsa\", y expliquen los resultados que encuentran.**\n"
   ]
  },
  {
   "cell_type": "code",
   "execution_count": 6,
   "id": "04ab4bfe",
   "metadata": {},
   "outputs": [
    {
     "data": {
      "text/html": [
       "<table class=\"simpletable\">\n",
       "<caption>OLS Regression Results</caption>\n",
       "<tr>\n",
       "  <th>Dep. Variable:</th>          <td>lwage</td>      <th>  R-squared:         </th> <td>   0.305</td> \n",
       "</tr>\n",
       "<tr>\n",
       "  <th>Model:</th>                   <td>OLS</td>       <th>  Adj. R-squared:    </th> <td>   0.304</td> \n",
       "</tr>\n",
       "<tr>\n",
       "  <th>Method:</th>             <td>Least Squares</td>  <th>  F-statistic:       </th> <td>   219.2</td> \n",
       "</tr>\n",
       "<tr>\n",
       "  <th>Date:</th>             <td>Sun, 11 Dec 2022</td> <th>  Prob (F-statistic):</th> <td>1.97e-232</td>\n",
       "</tr>\n",
       "<tr>\n",
       "  <th>Time:</th>                 <td>18:21:44</td>     <th>  Log-Likelihood:    </th> <td> -1273.9</td> \n",
       "</tr>\n",
       "<tr>\n",
       "  <th>No. Observations:</th>      <td>  3003</td>      <th>  AIC:               </th> <td>   2562.</td> \n",
       "</tr>\n",
       "<tr>\n",
       "  <th>Df Residuals:</th>          <td>  2996</td>      <th>  BIC:               </th> <td>   2604.</td> \n",
       "</tr>\n",
       "<tr>\n",
       "  <th>Df Model:</th>              <td>     6</td>      <th>                     </th>     <td> </td>    \n",
       "</tr>\n",
       "<tr>\n",
       "  <th>Covariance Type:</th>      <td>nonrobust</td>    <th>                     </th>     <td> </td>    \n",
       "</tr>\n",
       "</table>\n",
       "<table class=\"simpletable\">\n",
       "<tr>\n",
       "      <td></td>         <th>coef</th>     <th>std err</th>      <th>t</th>      <th>P>|t|</th>  <th>[0.025</th>    <th>0.975]</th>  \n",
       "</tr>\n",
       "<tr>\n",
       "  <th>Intercept</th> <td>    5.0633</td> <td>    0.064</td> <td>   79.437</td> <td> 0.000</td> <td>    4.938</td> <td>    5.188</td>\n",
       "</tr>\n",
       "<tr>\n",
       "  <th>educ</th>      <td>    0.0712</td> <td>    0.003</td> <td>   20.438</td> <td> 0.000</td> <td>    0.064</td> <td>    0.078</td>\n",
       "</tr>\n",
       "<tr>\n",
       "  <th>exper</th>     <td>    0.0342</td> <td>    0.002</td> <td>   15.422</td> <td> 0.000</td> <td>    0.030</td> <td>    0.038</td>\n",
       "</tr>\n",
       "<tr>\n",
       "  <th>black</th>     <td>   -0.1660</td> <td>    0.018</td> <td>   -9.426</td> <td> 0.000</td> <td>   -0.201</td> <td>   -0.131</td>\n",
       "</tr>\n",
       "<tr>\n",
       "  <th>south</th>     <td>   -0.1316</td> <td>    0.015</td> <td>   -8.788</td> <td> 0.000</td> <td>   -0.161</td> <td>   -0.102</td>\n",
       "</tr>\n",
       "<tr>\n",
       "  <th>married</th>   <td>   -0.0359</td> <td>    0.003</td> <td>  -10.547</td> <td> 0.000</td> <td>   -0.043</td> <td>   -0.029</td>\n",
       "</tr>\n",
       "<tr>\n",
       "  <th>smsa</th>      <td>    0.1758</td> <td>    0.015</td> <td>   11.372</td> <td> 0.000</td> <td>    0.145</td> <td>    0.206</td>\n",
       "</tr>\n",
       "</table>\n",
       "<table class=\"simpletable\">\n",
       "<tr>\n",
       "  <th>Omnibus:</th>       <td>53.196</td> <th>  Durbin-Watson:     </th> <td>   1.858</td>\n",
       "</tr>\n",
       "<tr>\n",
       "  <th>Prob(Omnibus):</th> <td> 0.000</td> <th>  Jarque-Bera (JB):  </th> <td>  69.430</td>\n",
       "</tr>\n",
       "<tr>\n",
       "  <th>Skew:</th>          <td>-0.231</td> <th>  Prob(JB):          </th> <td>8.38e-16</td>\n",
       "</tr>\n",
       "<tr>\n",
       "  <th>Kurtosis:</th>      <td> 3.584</td> <th>  Cond. No.          </th> <td>    154.</td>\n",
       "</tr>\n",
       "</table><br/><br/>Notes:<br/>[1] Standard Errors assume that the covariance matrix of the errors is correctly specified."
      ],
      "text/plain": [
       "<class 'statsmodels.iolib.summary.Summary'>\n",
       "\"\"\"\n",
       "                            OLS Regression Results                            \n",
       "==============================================================================\n",
       "Dep. Variable:                  lwage   R-squared:                       0.305\n",
       "Model:                            OLS   Adj. R-squared:                  0.304\n",
       "Method:                 Least Squares   F-statistic:                     219.2\n",
       "Date:                Sun, 11 Dec 2022   Prob (F-statistic):          1.97e-232\n",
       "Time:                        18:21:44   Log-Likelihood:                -1273.9\n",
       "No. Observations:                3003   AIC:                             2562.\n",
       "Df Residuals:                    2996   BIC:                             2604.\n",
       "Df Model:                           6                                         \n",
       "Covariance Type:            nonrobust                                         \n",
       "==============================================================================\n",
       "                 coef    std err          t      P>|t|      [0.025      0.975]\n",
       "------------------------------------------------------------------------------\n",
       "Intercept      5.0633      0.064     79.437      0.000       4.938       5.188\n",
       "educ           0.0712      0.003     20.438      0.000       0.064       0.078\n",
       "exper          0.0342      0.002     15.422      0.000       0.030       0.038\n",
       "black         -0.1660      0.018     -9.426      0.000      -0.201      -0.131\n",
       "south         -0.1316      0.015     -8.788      0.000      -0.161      -0.102\n",
       "married       -0.0359      0.003    -10.547      0.000      -0.043      -0.029\n",
       "smsa           0.1758      0.015     11.372      0.000       0.145       0.206\n",
       "==============================================================================\n",
       "Omnibus:                       53.196   Durbin-Watson:                   1.858\n",
       "Prob(Omnibus):                  0.000   Jarque-Bera (JB):               69.430\n",
       "Skew:                          -0.231   Prob(JB):                     8.38e-16\n",
       "Kurtosis:                       3.584   Cond. No.                         154.\n",
       "==============================================================================\n",
       "\n",
       "Notes:\n",
       "[1] Standard Errors assume that the covariance matrix of the errors is correctly specified.\n",
       "\"\"\""
      ]
     },
     "execution_count": 6,
     "metadata": {},
     "output_type": "execute_result"
    }
   ],
   "source": [
    "ols_reg = sm.OLS.from_formula(\"lwage ~ educ + exper + black + south + married + smsa\", \n",
    "              data = card).fit()\n",
    "\n",
    "ols_reg.summary()"
   ]
  },
  {
   "cell_type": "markdown",
   "id": "311112a2",
   "metadata": {},
   "source": [
    "**Interpretación:** Considerando que todas las variables tienen un p-valor menor a 0.05 y que son significativas, se puede concluir lo siguiente:\n",
    "\n",
    "- Por cada año adicional de educación, se espera que el nivel de ingreso aumente en 0.07 unidades logaritmicas.\n",
    "\n",
    "- Por cada año adicional de experiencia laboral, se espera que el nivel de ingresos aumente en 0.03 unidades logaritimicas.\n",
    "\n",
    "- Si se trata de una persona afroamericana, se espera que el nivel de ingresos disminuya en 0.16 unidades logaritmicas .\n",
    "\n",
    "- Si la persona vive en el sur, se espera que el nivel de ingresos disminuya en 0.13 unidades logarítmicas.\n",
    "\n",
    "- Si se trata de una persona casada, se espera que el nivel de ingresos disminuya en 0.03 unidades logarítimas.\n",
    "\n",
    "- Si la persona vive en SMSA, se espera que el nivel de ingresos aumente en 0.17 unidades logarítmicas."
   ]
  },
  {
   "cell_type": "markdown",
   "id": "48071478",
   "metadata": {},
   "source": [
    "- **Corran una regresion de tipo IV(usando el paquete IV2SLS) donde van a instrumentalizar la variable educ con nearc2 .**"
   ]
  },
  {
   "cell_type": "code",
   "execution_count": 7,
   "id": "48233bd3",
   "metadata": {},
   "outputs": [],
   "source": [
    "card['married'] = card['married'].fillna(0) "
   ]
  },
  {
   "cell_type": "code",
   "execution_count": 8,
   "id": "1035a8cf",
   "metadata": {},
   "outputs": [
    {
     "data": {
      "text/html": [
       "<table class=\"simpletable\">\n",
       "<caption>IV-2SLS Estimation Summary</caption>\n",
       "<tr>\n",
       "  <th>Dep. Variable:</th>          <td>lwage</td>      <th>  R-squared:         </th> <td>-1.3114</td>\n",
       "</tr>\n",
       "<tr>\n",
       "  <th>Estimator:</th>             <td>IV-2SLS</td>     <th>  Adj. R-squared:    </th> <td>-1.3160</td>\n",
       "</tr>\n",
       "<tr>\n",
       "  <th>No. Observations:</th>       <td>3010</td>       <th>  F-statistic:       </th> <td>289.62</td> \n",
       "</tr>\n",
       "<tr>\n",
       "  <th>Date:</th>             <td>Sun, Dec 11 2022</td> <th>  P-value (F-stat)   </th> <td>0.0000</td> \n",
       "</tr>\n",
       "<tr>\n",
       "  <th>Time:</th>                 <td>18:23:46</td>     <th>  Distribution:      </th> <td>chi2(6)</td>\n",
       "</tr>\n",
       "<tr>\n",
       "  <th>Cov. Estimator:</th>        <td>robust</td>      <th>                     </th>    <td></td>    \n",
       "</tr>\n",
       "<tr>\n",
       "  <th></th>                          <td></td>         <th>                     </th>    <td></td>    \n",
       "</tr>\n",
       "</table>\n",
       "<table class=\"simpletable\">\n",
       "<caption>Parameter Estimates</caption>\n",
       "<tr>\n",
       "      <td></td>      <th>Parameter</th> <th>Std. Err.</th> <th>T-stat</th>  <th>P-value</th> <th>Lower CI</th> <th>Upper CI</th>\n",
       "</tr>\n",
       "<tr>\n",
       "  <th>Intercept</th>  <td>0.1276</td>    <td>3.1412</td>   <td>0.0406</td>  <td>0.9676</td>   <td>-6.0290</td>  <td>6.2843</td> \n",
       "</tr>\n",
       "<tr>\n",
       "  <th>black</th>      <td>0.1134</td>    <td>0.1816</td>   <td>0.6244</td>  <td>0.5324</td>   <td>-0.2425</td>  <td>0.4692</td> \n",
       "</tr>\n",
       "<tr>\n",
       "  <th>exper</th>      <td>0.1515</td>    <td>0.0747</td>   <td>2.0274</td>  <td>0.0426</td>   <td>0.0050</td>   <td>0.2980</td> \n",
       "</tr>\n",
       "<tr>\n",
       "  <th>married</th>    <td>-0.0151</td>   <td>0.0147</td>   <td>-1.0258</td> <td>0.3050</td>   <td>-0.0438</td>  <td>0.0137</td> \n",
       "</tr>\n",
       "<tr>\n",
       "  <th>smsa</th>       <td>0.0201</td>    <td>0.1030</td>   <td>0.1949</td>  <td>0.8455</td>   <td>-0.1819</td>  <td>0.2220</td> \n",
       "</tr>\n",
       "<tr>\n",
       "  <th>south</th>      <td>-0.0319</td>   <td>0.0692</td>   <td>-0.4603</td> <td>0.6453</td>   <td>-0.1675</td>  <td>0.1038</td> \n",
       "</tr>\n",
       "<tr>\n",
       "  <th>educ</th>       <td>0.3618</td>    <td>0.1849</td>   <td>1.9562</td>  <td>0.0504</td>   <td>-0.0007</td>  <td>0.7243</td> \n",
       "</tr>\n",
       "</table><br/><br/>Endogenous: educ<br/>Instruments: nearc2<br/>Robust Covariance (Heteroskedastic)<br/>Debiased: False"
      ],
      "text/plain": [
       "<class 'linearmodels.compat.statsmodels.Summary'>\n",
       "\"\"\"\n",
       "                          IV-2SLS Estimation Summary                          \n",
       "==============================================================================\n",
       "Dep. Variable:                  lwage   R-squared:                     -1.3114\n",
       "Estimator:                    IV-2SLS   Adj. R-squared:                -1.3160\n",
       "No. Observations:                3010   F-statistic:                    289.62\n",
       "Date:                Sun, Dec 11 2022   P-value (F-stat)                0.0000\n",
       "Time:                        18:23:46   Distribution:                  chi2(6)\n",
       "Cov. Estimator:                robust                                         \n",
       "                                                                              \n",
       "                             Parameter Estimates                              \n",
       "==============================================================================\n",
       "            Parameter  Std. Err.     T-stat    P-value    Lower CI    Upper CI\n",
       "------------------------------------------------------------------------------\n",
       "Intercept      0.1276     3.1412     0.0406     0.9676     -6.0290      6.2843\n",
       "black          0.1134     0.1816     0.6244     0.5324     -0.2425      0.4692\n",
       "exper          0.1515     0.0747     2.0274     0.0426      0.0050      0.2980\n",
       "married       -0.0151     0.0147    -1.0258     0.3050     -0.0438      0.0137\n",
       "smsa           0.0201     0.1030     0.1949     0.8455     -0.1819      0.2220\n",
       "south         -0.0319     0.0692    -0.4603     0.6453     -0.1675      0.1038\n",
       "educ           0.3618     0.1849     1.9562     0.0504     -0.0007      0.7243\n",
       "==============================================================================\n",
       "\n",
       "Endogenous: educ\n",
       "Instruments: nearc2\n",
       "Robust Covariance (Heteroskedastic)\n",
       "Debiased: False\n",
       "\"\"\""
      ]
     },
     "execution_count": 8,
     "metadata": {},
     "output_type": "execute_result"
    }
   ],
   "source": [
    "iv_reg = IV2SLS.from_formula(\"lwage ~ 1 + exper + black + south + married + smsa + [educ ~ nearc2]\", card).fit()\n",
    "iv_reg.summary\n"
   ]
  },
  {
   "cell_type": "markdown",
   "id": "28b270ff",
   "metadata": {},
   "source": [
    "- **Compare los resultados encontrados usando IV2SLS con la primera regresión. ¿Cambió el coeficiente relacionado a educ , por qué?**"
   ]
  },
  {
   "cell_type": "markdown",
   "id": "af8f2301",
   "metadata": {},
   "source": [
    "**Comparación:** En general, se observa que cada año adicional de escolaridad genera que los ingresos de los encuestados aumenten en aproximadamente 7,1%. Por otra parte, con respecto a la instrumentalización de variables, se observa que el coeficiente de la variable educación es mucho mayor que el encontrado en la regresión lineal: alrededor de un 75% mayor. Asimismo, dado que el F-statistic excede a 15, no se advierte un problema de instrumento débil. De esta manera, el rendimiento de la educación asociado con esta estimación 2SLS es 0,127; es decir, por cada año adicional de educación se espera que los ingresos aumenten en un 12,7%."
   ]
  }
 ],
 "metadata": {
  "kernelspec": {
   "display_name": "Python 3 (ipykernel)",
   "language": "python",
   "name": "python3"
  },
  "language_info": {
   "codemirror_mode": {
    "name": "ipython",
    "version": 3
   },
   "file_extension": ".py",
   "mimetype": "text/x-python",
   "name": "python",
   "nbconvert_exporter": "python",
   "pygments_lexer": "ipython3",
   "version": "3.9.7"
  }
 },
 "nbformat": 4,
 "nbformat_minor": 5
}
