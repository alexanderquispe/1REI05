{
 "cells": [
  {
   "cell_type": "markdown",
   "id": "e73ecbbb",
   "metadata": {},
   "source": [
    "# Reporte 6\n",
    "\n",
    "#### Claudia Katherine Milla Rojas 20200526\n",
    "\n",
    "# Lectura \n",
    "\n",
    "El presente artículo se basa en la premisa de que los estudiantes de bajos recursos económicos y alto rendimiento académico estudian en universidades selectivas en menor medida que los estudiantes que poseen mayores recursos, quienes incluso demuestran tener un rendimiento académico similar. Así, el texto responde a la siguiente pregunta de investigación: ¿Pueden las comunicaciones dirigidas y personalizadas, que reformulan pero no incrementan el apoyo financiero, afectar en las decisiones universitarias de aquellos estudiantes con menores ingresos económicos? Para ello, los autores realizan una investigación experimental en la que se trabaja con los alumnos de bajos recursos y alto rendimiento académico. En este se interviene específicamente con la Beca HAIL (High Achieving Involved Leader), la cual brinda una garantía anticipada e incondicional de una matrícula gratis. Los alumnos aún deben presentar una solicitud. Sin embargo, a diferencia de las becas tradicionales donde el proceso de clasificación es muy tedioso, los alumnos no deben realizar ningún trámite adicional o pasar por algún filtro para conseguirla.  \t\t\n",
    "\n",
    "De esta manera, a lo largo del texto se pueden identificar múltiples fortalezas. Por un lado, considero que una de ellas es el hecho de dejar en claro la razón por la cuál esta brecha posiblemente sigue creciendo. En este sentido, los autores argumentan que esta brecha es causada por una desigualdad en la preparación académica de los estudiantes. No obstante, aunque se logren encontrar estudiantes de bajos y altos ingresos con una preparación académica de buena calidad siguen existiendo estas brechas en su inscripción universitaria y la calidad de la misma. Asimismo, mencionan que aquello que incrementa aún más esta brecha es aquella desigualdad en la inscripción universitaria en sí, pues el estudiar en una universidad de mejor calidad aumenta, por consiguiente, tanto los ingresos como el logro educativo. En otras palabras, considero que los autores permiten entender y reflexionar acerca de esta brecha al mencionar las variables de causa y efecto, cómo estas siguen teniendo relevancia a día de hoy y por qué deberíamos de erradicar estas diferencias.\n",
    "\n",
    "Por otro lado, considero otra fortaleza el hecho de que su estudio tenga una base experimental, pues esto conlleva a que los autores hayan podido recopilar información de primera mano. Asimismo, este mismo enfoque es el que les ha permitido identificar estas relaciones de causa - efecto mencionadas anteriormente. De esta forma, pueden seguir analizando estas relaciones para construir más ideas. Otro aspecto importante también es la aleatorización de grupos, pues los autores realizan su experimento en base a los estudiantes con un buen rendimiento matriculados en escuelas públicas de Michigan. Así, estratificaron la muestra en cuatro grupos con alumnos que eran elegibles para la beca HAIL. \n",
    "\n",
    "Sin embargo, existen ciertas debilidades al emplear este enfoque. En primer lugar, la manipulación de las variables puede no ser objetiva, pues al realizar una investigación de este tipo los autores tienen mayor control sobre las variables con el objetivo de obtener los resultados deseados. En segundo lugar, el entorno puede tener un efecto externo a la investigación sobre los participantes. Existen variables presentes en los estudiantes que son complejas de controlar o identificar para los investigadores. Por ende, para estas investigaciones en el campo de la educación es recomendable y en su mayoría se emplea un diseño cuasiexperimental. Por último, si bien es una fortaleza que se haya estudiado Michigan, también puede considerarse como una debilidad, puesto a que no es un estudio que se pueda generalizar para otros casos en otros países, regiones o estados, donde se vive una situación distinta. Asimismo, algunas otras falencias de la investigación es que los mismos autores admiten que debido a que la aplicación se ve afectada por el tratamiento no tienen evidencia experimental del efecto de la intervención con respecto al ingreso condicionado a la solicitud. Además, mencionan que tampoco tuvieron información acerca de los ingresos familiares, por lo que se basaron en los datos del programa federal de almuerzos subsidiados para clasificar a los estudiantes de menores ingresos.\n",
    "\n",
    "En cuanto a sus contribuciones, considero importantes muchos de los puntos que concluye el autor. En primer lugar, gracias a las divisiones y subdivisiones de grupos se observó que la solicitud anticipada es una opción popular para los estudiantes que desean aplicar a la Universidad de Michigan. Efectivamente, se halló que aproximadamente tres de las cuartas partes de los estudiantes del grupo de control emplearon la solicitud temprana, y la intervención no hizo que aquella proporción varíe. En segundo lugar, se logró comprobar que una investigación de bajo coste que elimine los obstáculos al momento de la inscripción puede alterar las decisiones de los estudiantes, ya que la premisa era de que las personas no suelen realizar tareas que implican muchos obstáculos de por medio. En efecto, la beca HAIL consiguió disminuir la brecha con respecto a las tasas de inscripción entre las escuelas de las zonas rurales y urbanas en un 50%: se logró una disminución de 14 puntos porcentuales en el grupo de control a 7 en el grupo de tratamiento. En otras palabras, se logró concluir que las comunicaciones dirigidas y personalizadas si afectan en las decisiones universitarias de los estudiantes con menores ingresos económicos.\n",
    "\n",
    "Finalmente, el enfoque de la investigación permite recoger datos con los cuales se pueden construir más ideas y realizar más investigaciones. Un estudio en la misma línea de investigación podría incluir estos factores externos que también tienen influencia e impactan en la vida de los estudiantes. Asimismo, el mismo enfoque del estudio permite que los resultados puedan ser replicables y/o comprobables, por lo que sería un gran aporte que se realicen experimentos similares en países menos desarrollados, como Latinoamérica, para observar en qué medida cambian los resultados y cuáles serían las principales razones de ello. Un ejemplo similar de ambas situaciones es el estudio realizado por Chong (2017), quien se centró en los factores que influyen en el rendimiento académico de los estudiantes en una universidad de México: la Universidad Politécnica del Valle de Toluca. El factor principal analizado es el apoyo familiar, pues se observa que los alumnos tienen sus propias expectativas sobre su carrera, pero también las expectativas de su familia les afectan. Se observa una relación con el apoyo familiar y su rendimiento académico, como también la relevancia que tiene la familia para que un alumno deje o no sus estudios. De esta forma, la autora propone soluciones para lograr una participación familiar positiva en el ámbito de los estudiantes.\n",
    "\n",
    "\n"
   ]
  },
  {
   "cell_type": "markdown",
   "id": "2d8d5b7f",
   "metadata": {},
   "source": [
    "Bibliografía:\n",
    "\n",
    "- Dynarski, S., Libassi, C. J., Michelmore, K., & Owen, S. (2018). Closing the gap: The effect of a targeted, tuition-free promise on college choices of high-achieving, low-income students (No. w25349). National Bureau of Economic Research.\n",
    "- Factores que inciden en el rendimiento académico de los estudiantes de la Universidad Politécnica del Valle de Toluca. Revista Latinoamericana de Estudios Educativos (México), vol. XLVII, núm. 1, pp. 91-108, 2017. Centro de Estudios Educativos, A.C.\n",
    "https://www.redalyc.org/journal/270/27050422005/html/"
   ]
  },
  {
   "cell_type": "code",
   "execution_count": null,
   "id": "119f6d50",
   "metadata": {},
   "outputs": [],
   "source": []
  }
 ],
 "metadata": {
  "kernelspec": {
   "display_name": "Python 3 (ipykernel)",
   "language": "python",
   "name": "python3"
  },
  "language_info": {
   "codemirror_mode": {
    "name": "ipython",
    "version": 3
   },
   "file_extension": ".py",
   "mimetype": "text/x-python",
   "name": "python",
   "nbconvert_exporter": "python",
   "pygments_lexer": "ipython3",
   "version": "3.9.12"
  }
 },
 "nbformat": 4,
 "nbformat_minor": 5
}
