{
 "cells": [
  {
   "cell_type": "markdown",
   "id": "377d1e4d",
   "metadata": {},
   "source": [
    "# REPORTE 9\n",
    "\n",
    "Estudiante: Roxana Jimena Rodriguez Pilco - 20200373"
   ]
  },
  {
   "cell_type": "markdown",
   "id": "d6a3b793",
   "metadata": {},
   "source": [
    "“Redes Sociales y Salud Mental” de Luca Braghieri, Roee Levy y Alexey Makarin es una investigación que analiza las especulaciones sobre si las redes sociales llegan a ser perjudiciales para la salud mental de adolescentes y adultos jóvenes estadounidenses. Para el estudio de este fenómeno, los investigadores aprovechan la implementación escalonada y aguda de Facebook en las universidades de EE.UU como un experimento único que les permitió proveer estimaciones cuasi-experimentales del impacto de las redes sociales en la salud mental de dichos estudiantes. En este sentido, la pregunta de investigación que plantean los investigadores es: ¿Cuál es el impacto de la exposición a las redes sociales en la salud mental de los estudiantes universitarios estadounidenses? \n",
    "A partir de este análisis, la evidencia cuasi-experimental demuestra que dicha exposición a las redes sociales aumentó los síntomas de salud mental negativa, dio paso a una mayor utilización de centros de salud mental y consecuentemente afectó de manera negativa el rendimiento académico de estos estudiantes, debido a que la red social promueve comparaciones sociales desfavorables entre los usuarios.\n",
    "\n",
    "El estudio presenta un enfoque cuantitativo cuasi-experimental con un diseño de investigación empírico generalizado de diferencias en diferencias. Por un lado, este enfoque cuenta con determinadas fortalezas. En primer lugar, una fortaleza del enfoque, al combinar datos sobre la salud mental de los estudiantes en los años de la expansión de Facebook con una estrategia empírica generalizada, es que les permitió a los investigadores hallar relaciones de causalidad entre las redes sociales y la salud mental negativa de dichos estudiantes. Esto debido a que, a partir de la fuente de datos sobre la introducción escalonada de Facebook se puede descartar varios factores de confusión durante la investigación, como las diferencias propias de cada universidad o las diferencias en cuanto al tiempo en que Facebook fue introducido en cada universidad. Al mismo tiempo, gracias a esta fuente cuasi-experimental de datos, también se descartan problemas de endogeneidad como la causalidad inversa o la omisión de sesgos.  En segundo lugar, otra fortaleza del estudio es que se puede incluir un análisis de heterogeneidad que al incorporar una serie de estimadores robustos permite que el desarrollo de heterogeneidad en los efectos del tratamiento perdure en el tiempo y las unidades tratadas.\n",
    "\n",
    "Por otro lado, el enfoque adoptado también admite ciertas debilidades. Una debilidad es que al realizar estimaciones cuasi-experimentales a partir de la introducción de Facebook en las universidades estadounidenses, el estudio no podrá dar cuenta de las nuevas funciones y características de la red social que sus creadores fueron añadiendo en las diversas actualizaciones luego del periodo analizado por el estudio, por lo que, habría ciertas funciones que no serían consideradas durante la evaluación del impacto. Otra debilidad es que los autoinformes que fueron utilizados por los investigadores durante el estudio pueden haber sufrido errores de medición debido a la falta de incentivos, las preocupaciones de los estudiantes sobre la imagen social y las posibles falencias o sesgos de sus recuerdos. Finalmente, otra debilidad del estudio es que su alcance solo es local y para determinado grupo etario, pues los resultados solo dan cuenta del impacto negativo de las redes sociales en la salud mental de adolescentes y jóvenes estudiantes de universidades de Estados Unidos, mas no de otras realidades ni grupos de edad, por lo que, aun faltaría comprobar si este impacto persiste en jóvenes estudiantes de otras regiones del mundo y en usuarios de otros grupos etarios. \n",
    "\n",
    "No obstante, si bien esta investigación tiene ciertas debilidades, no se puede olvidar que cuenta con una relevante contribución teórica y práctica. Por una parte, a nivel teórico, este estudio significa un avance fundamental en la revisión de literatura sobre la premisa de que la exposición a las redes sociales afecta negativamente la salud mental de los estudiantes, pues es el primer estudio en utilizar variables de salud mental más detalladas para el análisis y presentar evidencia causal más sólida. Por otra parte, a nivel práctico, los resultados de esta evaluación permiten que tanto los usuarios que consumen contenido de estas redes sociales como los que no, entre ellos autoridades estatales y tomadores de decisiones, sean conscientes de sus efectos en la salud mental de adolescentes y jóvenes y a partir de esto planteen soluciones de mayor escala. De modo que, a partir de este conocimiento, se creen proyectos focalizados para mejorar la salud mental y mantener un uso adecuado de las redes sociales, pues así estos estudiantes que están atravesando una etapa vulnerable en cuanto a salud mental y manejo de emociones podrían recibir apoyo del Estado.\n",
    "\n",
    "Para finalizar, considero que un paso específico para avanzar en el conocimiento de la pregunta de investigación es analizar la persistencia de estos efectos negativos en la salud mental de personas de otras regiones del mundo y también para otros sectores etarios.  De esta manera, se puede comprobar si el impacto negativo persiste al analizar otros grupos geográficos y etarios o si estos llegan a variar y ser positivos. Por ejemplo, Tobón et al. (2022) realizan una investigación sobre los efectos del uso de redes sociales en la autoimagen de adolescentes escolares de diferentes instituciones educativas de Antioquía (Colombia), llegando a la conclusión de que no se puede generalizar que las redes sociales tienen un impacto negativo en la autoimagen de estos escolares, pues para algunos el efecto fue positivo o simplemente no tuvo ningun efecto. De modo que, investigar el efecto de las redes sociales en personas de otros grupos demográficos posibilitará la obtención de una visión más integral sobre el rol de las redes sociales en la salud mental de las personas. Asimismo, abordar el tiempo de uso de redes sociales, también puede ser un paso importante, ya que se puede analizar si a mayor o menor tiempo de uso el impacto en la salud mental de los estudiantes se intensifica o permanece igual. Para ilustrar, Rodríguez y Fernández (2014) investigan si existen diferencias entre grupos de adolescentes de séptimo grado de la ciudad de Bogotá (Colombia), con diferentes tiempos de uso de las redes sociales, en problemáticas de salud mental de tipo internalizante y externalizante, resultando que mientras más tiempo usen las redes sociales, mayores son los problemas de tipo externalizante que padecen, como conducta agresiva y pérdida de atención. Por consiguiente, evaluar esta nueva variable podría tener un efecto en los resultados de próximas investigaciones y por eso debe ser tomada en cuenta. \n",
    "\n",
    "- Bibliografía:\n",
    "\n",
    "Rodríguez, A. P., y Fernández, A. (2014). Relación entre el tiempo de uso de las redes sociales en internet y la salud mental en adolescentes colombianos. Acta colombiana de psicología, 17(1), 131-140.\n",
    "\n",
    "Tobón, S. A. A., Arroyave, A. Y. R., Álvarez, Y. A. S., Ortiz, J. U., y Mejía, N. R. (2022). Uso de redes sociales y autoimagen en adolescentes de Instituciones Educativas en Antioquia, Colombia. Revista Senderos Pedagógicos, 13(13)."
   ]
  },
  {
   "cell_type": "code",
   "execution_count": null,
   "id": "003898c9",
   "metadata": {},
   "outputs": [],
   "source": []
  }
 ],
 "metadata": {
  "kernelspec": {
   "display_name": "Python 3 (ipykernel)",
   "language": "python",
   "name": "python3"
  },
  "language_info": {
   "codemirror_mode": {
    "name": "ipython",
    "version": 3
   },
   "file_extension": ".py",
   "mimetype": "text/x-python",
   "name": "python",
   "nbconvert_exporter": "python",
   "pygments_lexer": "ipython3",
   "version": "3.9.12"
  }
 },
 "nbformat": 4,
 "nbformat_minor": 5
}
