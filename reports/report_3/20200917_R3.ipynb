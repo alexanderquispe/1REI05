{
 "cells": [
  {
   "cell_type": "markdown",
   "id": "5cbf102b",
   "metadata": {},
   "source": [
    "# REPORTE ESCRITO\n",
    "\n",
    "Nombre: Maysa Ríos Camargo (20200917)\n",
    "\n",
    "Para muchos de nosotros la cuarentena resultante de la pandemia por el Covid-19 fue una experiencia completamente nueva, lo mismo significó para el desarrollo de la economía. El artículo de Mendoza, Mancilla y Velarde desarrolla la aplicación del modelo macroeconómico de uno del primer autor mencionado al contexto de la cuarentena y cuando ésta haya terminado. \n",
    "Por un lado, vemos que una de las mayores fortalezas del texto es la explicación a detalle del modelo aplicado en los sectores más golpeados por la cuarentena como el turismo, los restaurantes, etc. pero también el impacto en el otro sector afectado indirectamente como la agricultura, ganadería, etc. Es importante resaltar ello porque la diferenciación nos ayuda a comprender la interrelación de ambos sectores y la importancia de reactivar ambos y no solo uno de ellos, aunque hayan sido afectados en diferentes grados. Asimismo, mostrar la derivación del modelo antes de aplicarlo a los dos sectores económicos nos ayuda a comprender la lógica detrás para mostrar la regulación de la tasa de interés y el impacto que tuvo para la reactivación económica. \n",
    "Por otro lado, podemos mencionar que una de las mayores debilidades del enfoque de este artículo es que deja de lado la materialización de su propuesta. Con esto me refiero a que no explica con ejemplos tangibles como su el modelo planteado funciona para explicar lo que proponen. A veces la explicación se queda en el ámbito conceptual y no hay ejemplos que nos permitan relacionar la propuesta metodológica con los tres escenarios que se plantean (corto plazo, equilibrio estacionario y tránsito hacia el equilibrio estacionario).\n",
    "El artículo contribuye a la literatura sobre el desenvolvimiento de la economía durante la cuarentena pues nos muestra una forma alternativa de comprender la contracción que esta sufrió, dividiendo el análisis en los dos sectores afectados. Esto me parece fundamental en tanto al final dl texto nos plantea posibles líneas de desarrollo, una de ellas es sobre las políticas de estabilización que se pudieron aplicar a la economía durante y después de la cuarentena. En ese marco, el artículo de Alberto Pasco-Font, titulado “Políticas de estabilización y reformas estructurales: Perú” si bien no está enfocado en la cuarentena si nos explica las reformas que podrían ser de ayuda para mantener la económica peruana estable y tal vez utilizando su propuesta se puede complementar el análisis de como se pudo mejorar la forma en la que se afrontó esta situación nueva, mencionando más posibilidades de solución a parte de Reactívate Perú.\n",
    "\n",
    "# Reporte Código\n",
    "\n",
    "Hice esta parte en grupo con Andrea Canaval, está en su reporte"
   ]
  }
 ],
 "metadata": {
  "kernelspec": {
   "display_name": "Python 3 (ipykernel)",
   "language": "python",
   "name": "python3"
  },
  "language_info": {
   "codemirror_mode": {
    "name": "ipython",
    "version": 3
   },
   "file_extension": ".py",
   "mimetype": "text/x-python",
   "name": "python",
   "nbconvert_exporter": "python",
   "pygments_lexer": "ipython3",
   "version": "3.9.12"
  }
 },
 "nbformat": 4,
 "nbformat_minor": 5
}
