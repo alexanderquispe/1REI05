{
 "cells": [
  {
   "cell_type": "markdown",
   "id": "72db9391",
   "metadata": {},
   "source": [
    "### Ensayo"
   ]
  },
  {
   "cell_type": "markdown",
   "id": "ae1adbc6",
   "metadata": {},
   "source": [
    "El texto que tiene como titulo “Social Media and Mental Health”, busca de alguna manera encontrar una relación entre las redes sociales y el incremento de estudiantes con enfermedades mentales como depresión, ansiedad, bipolaridad, o esquizofrenia. En este caso la pregunta de investigación es Cuál es la relación entre la creación de las redes sociales y el aumento de las enfermedades mentales en los jóvenes universitarios de Estados Unidos? \n",
    "\n",
    "Algunas de las fortalezas que podemos identificar, por ejemplo notamos que se usa dos variables, primero se usa data de diversas universidades y luego se evalúa los censos en la prueba de salud mental. Ambas variables son estudiadas en el tiempo, con lo cual proporciona un resultado progresivo del efecto del uso de las redes sociales en la salud mental del joven estudiante. Si tomamos en cuenta y consideramos los resultados que obtuvieron , estos resultan de mayor eficacia estadística. Por otro lado,  hay un detalle que se mencionó, pero no se profundiza es el hecho de que las redes sociales han disminuido el desempeño académico de los estudiantes. Ademas, una de las debilidades que notamos en el texto, es la misma limitación que se da con el componente de estudio de Facebook, ya que a pesar de que la publicación ha sido el presente año, las estimaciones no pueden hablar de otras redes sociales y el efecto que pudo haber tenido la saturación de estas luego de la aparición de Facebook.\n",
    "\n",
    "El texto de investigación nos da a entender  de manera mas efectiva esta problemática con 3 resultados adicionales que pueden ayudar a caracterizar las vulnerabilidades de los adolescentes y jóvenes afectado; mencionan que los efectos negativos sobre la salud mental son mayores para los estudiantes y esto vuelve mas propensos que su rendimiento académico se vea afectado negativamente por condiciones relacionadas con la mala salud mental. El estudio concluyó que algunos jóvenes son más susceptibles a las comparaciones desfavorables que implica el uso de Facebook en los casos en que: los estudiantes podrían considerarse desfavorables con respecto a sus compañeros, como los estudiantes que viven fuera del campus, los estudiantes de nivel socioeconómico más bajo y los estudiantes que no esta familiarizado a las fraternidades. "
   ]
  },
  {
   "cell_type": "code",
   "execution_count": null,
   "id": "9fda5fc0",
   "metadata": {},
   "outputs": [],
   "source": []
  }
 ],
 "metadata": {
  "kernelspec": {
   "display_name": "Python 3 (ipykernel)",
   "language": "python",
   "name": "python3"
  },
  "language_info": {
   "codemirror_mode": {
    "name": "ipython",
    "version": 3
   },
   "file_extension": ".py",
   "mimetype": "text/x-python",
   "name": "python",
   "nbconvert_exporter": "python",
   "pygments_lexer": "ipython3",
   "version": "3.9.12"
  }
 },
 "nbformat": 4,
 "nbformat_minor": 5
}
