{
 "cells": [
  {
   "cell_type": "markdown",
   "id": "176925ad",
   "metadata": {},
   "source": [
    "## Reporte 8"
   ]
  },
  {
   "cell_type": "markdown",
   "id": "2053ab94",
   "metadata": {},
   "source": [
    "1. ¿Cuál es la pregunta de investigación del artículo?\n",
    "\n",
    "Según lo planteado por la autora, la pregunta de investigación sería: ¿Cuáles son los efectos a largo plazo de la mita en el desarrollo económico de las regiones del ande peruano?\n",
    "\n",
    "2. ¿Cuáles son las fortalezas y debilidades del enfoque del documento para responder a esa pregunta?\n",
    "\n",
    "Una de las fotalezas del documento es la utilización la discontinuidad de regresión como método para brindar respuesta a la pregunta de investigación. Esto, en combinación con el uso de información provista por los registros del Imperio Español y La República del Perú, permitió desarrollar un método adecuado para la elaboración de un análisis a largo plazo. Otra fortaleza es que, mediante el tratamiento del largo plazo, logra complementar los estudios previos sobre el impacto de las instituciones históricas en el desarrollo económico actual. \n",
    "\n",
    "Por otro lado, una debilidad que el documento podría presentar es su focalización, ya que se centra en el ande peruano para la elaboración de una teoría sobre los efectos de la mita, institución que estuvo presente no solo en esta región, sino también en países como Ecuador y Bolivia. De esta manera, un estudio comparado que involucrase los casos de tres países podría otorgar mayor solidez a las conclusiones establecidas o, en todo caso, determinar una mejor aproximación sobre el efecto real de la mita sobre el desarrollo económico actual.\n",
    "\n",
    "3. ¿Cómo avanza este documento el conocimiento sobre la pregunta, es decir, cuál es la contribución? (Si no puede encontrar ninguna contribución, pregúntese por qué el editor y los árbitros decidieron publicar el artículo).\n",
    "\n",
    "Como se mencionó en la pregunta anterior, el documento logra establecer un método adecuado para la determinación de los efectos a largo plazo de la mita. En este sentido, logra contribuir a la pregunta sugiriendo que, a largo plazo, la institución de la mita ha implicado una reducción del consumo por hogar en un 25%, a la vez que ha generado un retraso en el crecimiento de los niños en 6 puntos porcentuales. A su vez, la autora añade que los impactos de la mita persisten en la actualidad a través de canales como \"la tenencia de la tierra, los bienes públicos y la participación en el mercado\".\n",
    "\n",
    "4. ¿Cuáles serían uno o dos próximos pasos específicos para avanzar en esta pregunta? (Lean otros artículos relacionados)\n",
    "\n",
    "Finalmente, un paso adicional para complementar esta preguntar sería el análisis de cómo estos efectos económicos generados por instituciones históricas como la mita han repercutido también en la estructura social de las regiones en que fueron aplicadas. A este respecto, autores como Norby M. Andrade establecen que, en el ande Boliviano, la institución de la mita fue el \"principio de enormes transformaciones en las bases de la reproducción social de la comunidad indígena\".\n",
    "\n",
    "Referencias:\n",
    "\n",
    "MELISSA DELL. THE PERSISTENT EFFECTS OF PERU’S MINING MITA. Econometrica, Vol. 78, No. 6 (November, 2010), 1863–1903\n",
    "\n",
    "NORBY M. ANDRADE ALVAREZ. LA MITA EN LOS ANDES BOLIVIANOS DE LA PROVINCIA COLONIAL DE OMASUYOS EN EL SIGLO XVII. Estudios Latinoamericanos.\n",
    "\n",
    "\n"
   ]
  }
 ],
 "metadata": {
  "kernelspec": {
   "display_name": "Python 3 (ipykernel)",
   "language": "python",
   "name": "python3"
  },
  "language_info": {
   "codemirror_mode": {
    "name": "ipython",
    "version": 3
   },
   "file_extension": ".py",
   "mimetype": "text/x-python",
   "name": "python",
   "nbconvert_exporter": "python",
   "pygments_lexer": "ipython3",
   "version": "3.9.12"
  }
 },
 "nbformat": 4,
 "nbformat_minor": 5
}
