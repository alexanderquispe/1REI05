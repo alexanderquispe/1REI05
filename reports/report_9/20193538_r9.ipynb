{
 "cells": [
  {
   "cell_type": "markdown",
   "id": "10b0d701",
   "metadata": {},
   "source": [
    "# Reporte 9\n",
    "- MariaJose Murillo\n",
    "\n",
    "- Codigo: 20193538\n",
    "\n",
    "\n",
    "En el paper “Social Media and Mental Health” empieza remarcando la cantidad de personas tienen una red social, la cual ha influido no solo en la forma en que las personas pasan su tiempo e interactúan con los demás, si no también en la salud mental de los adultos jóvenes que las están usando. Esto es debido a que, en los últimos años, el numero de personas que ha experimentado depresión o intentos de suicidio ha ascendido dramáticamente, convirtiendo incluso a este ultimo en la segunda causa de muerte en Estados Unidos. Es por ello que los autores plantean la pregunta de investigación de *¿Cuáles son las estimaciones cuasi experimentales del impacto de las redes sociales en la salud mental?* Esto en el contexto de la creación de Facebook en el 2004, la cual se introdujo de manera definitiva al mercado en 2006, en las universidades estadounidenses, basándose además en un diseño de investigación que toma como población a los estudiantes de las 775 universidades en tener acceso a Facebook antes de que este esté disponible al público general y como fuente principal de datos las respuestas recibidas en la encuesta National Collegue Health Assesment (NCHA) sobre salud mental. Asi mismo, la hipótesis planteada es que las redes sociales han tenido un impacto negativo en la salud mental, desempeñando un papel fundamental en el deterioro de este en los adolescentes y adultos jóvenes.\n",
    "\n",
    "\n",
    "La principal fortaleza de este articulo es que, a diferencia de otros estudios, se enfoca en la salud mental de los estudiantes, quienes, según los mismos autores, han experimentado el deterioro mas severo en cuanto a salud mental en las ultimas décadas, siendo una población significativa en la comunidad, puesto que a esa edad es en la que los individuos toman decisiones vitales críticas. Según Blattman (2017), citado en el paper, una mejor salud mental se asocia con menos delitos, asi como mayor inversión en los niños y mejores resultados en el mercado laboral, lo cual a la larga podrá contribuir con la sociedad estadounidense positivamente, demostrando la importancia de hablar de temas como estos (depresión, trastornos, adicción, etc.) en espacios académicos y no solo relegarlos al sector médico.\n",
    "Siguiendo esa línea, otra de sus fortalezas es contribuir a la expansión de investigación acerca de los efectos de las redes sociales. Si bien otros trabajos como el de Armona (2019), quien estudio los efectos de Facebook en el mercado; el de Molina (2020), que relaciona las redes sociales de VK en Rusia y Facebook con el aumento de la participación en las protestas; o el de Bursztyn (2019), que une VK y Twitter con el aumento de la prevalencia de los crímenes de odio, ya lo han hecho antes, el presente trabajo se caracteriza por medir estos efectos “del fuerte despliegue de la mayor plataforma de redes sociales en el mundo en un momento en el que había muy pocos sustitutos cercanos disponibles.”\n",
    "Por otro lado, en cuanto a las debilidades, podemos descartar la falta de diferenciación entre universidades. Los autores al momento de describir sus fuentes de datos, la única distinción que hace es entre las 100 universidades que recibieron acceso a Facebook y los 675 restantes, sin embargo, sigue siendo un grupo grande en donde no se puede saber si el factor económico (universidades costosas como la de New York y económicas como la de Texas), social (clases sociales, entorno cultural y étnico) o geográfico puede influir en el mayor o menor uso y efectos de Facebook.\n",
    "\n",
    "\n",
    "Este articulo contribuye al presentar una evaluación causal mas completa sobre la relación redes sociales/salud mental, teniendo como antescedentes a estudios de Allicot y Mosquera (2020), quienes encontraron efectos negativos en su uso y el bienestar general. Es este trabajo se profundiza acerca de los síntomas, diagnósticos y recuperación de la depresión asi como otras enfermedades como trastornos afectivos o alimenticios asi como sus posteriores recuperaciones gracias a la psicoterapia. Asimismo, innova en la justificación de la investigación, ya que mientras oros trabajos se enfocaban en los efectos de los individuos con el fin de reducir su consumo de redes sociales, este trabajo desea ver los efectos del equilibrio general de las redes sociales en una comunidad. \n",
    "Como respuesta a la pregunta de investigación, se podría argumentar que los autores tenían razón. Ellos indican que la variable de salud mental ha estado presente desde el inicio de las redes sociales y siguen estando ahí incluso e la actualidad, esto es debido a la gran cantidad de información compartida allí (fotos, videos, detalles personales, noticias), que a pesar que puede facilitar mantenerse en contacto con los demás, también puede hacer propensos a los jóvenes de comparaciones sociales, que afectaría la autoestima y la salud mental de los usuarios\n",
    "Sumado a ello, el uso desmedido de plataformas como Facebook puede desencadenar problemas relacionados a la salud mental como trastorno por déficit de atención, ansiedad, dificultades para dormir, y que estos efectos aumentan cuanto más tiempo los estudiantes estén expuestos a Facebook, en otras palabras “el número de semestres tiene un efecto significativo en el índice principal y en los síntomas de salud mental”\n",
    "\n",
    "\n",
    "Finalmente, los próximos pasos en la investigación podrían ser enfocar el estudio en otra red social como Instagram, la cual según informes de la CNBS (2021), sobrepaso los 2 mil millones de usuarios activos, convirtiéndose en una de las plataformas mas importantes y relevantes en el mercado. Sin embargo, según un articulo de El País (2017), es también la red social con mas efectos negativos en los jóvenes, atentando contra su bienestar y salud mental, haciéndolos mas propensos a sufrir problemas como ansiedad, sensación de soledad, depresión, y hasta inducir a trastornos de sueño y alimenticios al “lograr fácilmente que las niñas y mujeres se sientan como si sus cuerpos no fueran lo suficientemente buenos”. Siguiendo esa línea, también se podría cambiar la población a estudiar, tomando como ejemplo a España, el cual es el país con mayor uso de redes sociales y telefonía móvil de la Unión Europea. \n",
    "Además de eso, en vez de enfocarse en la salud mental de los estudiantes, se podría ver los efectos de las redes sociales en el rendimiento académico de los estudiantes como lo hace el articulo Mendoza, J. (2018), el cual tiene como población a universitarios de 21 a 31 años, en el cual se descubre una correlación negativa baja entre el uso excesivo de redes sociales con el rendimiento académico, es decir, “entre más tiempo están los estudiantes en las redes sociales, su rendimiento académico disminuye”. Esta misma perspectiva es compartida por el trabajo de Amador-Ortiz (2021), en donde se mostró una relación significativa entre la alta adicción a las redes sociales y la reprobación escolar y bajo rendimiento académico, invocando a las instituciones educativas a buscar estrategias de prevención para este tipo de estudiantes.\n",
    "\n",
    "\n",
    "**REFERENCIAS**\n",
    "- Amador-Ortiz, C. (2021) Influence of addiction to social networks on school failure in bachelor level students https://www.redalyc.org/journal/4419/441970374004/html/\n",
    "- Mendoza, J. (2018) Uso excesivo de redes sociales de internet y rendimiento académico en estudiantes de cuarto año de la carrera de psicología UMSA http://www.scielo.org.bo/scielo.php?script=sci_arttext&pid=S2518-82832018000200008\n",
    "- Rodriguez, S. (2021) Instagram surpasses 2 billion monthly users while powering through a year of turmoil https://www.cnbc.com/2021/12/14/instagram-surpasses-2-billion-monthly-users.html\n",
    "- Salas, J (2017) Instagram, la peor red para la salud mental de los adolescentes https://elpais.com/tecnologia/2017/05/19/actualidad/1495189858_566160.html"
   ]
  }
 ],
 "metadata": {
  "kernelspec": {
   "display_name": "Python 3 (ipykernel)",
   "language": "python",
   "name": "python3"
  },
  "language_info": {
   "codemirror_mode": {
    "name": "ipython",
    "version": 3
   },
   "file_extension": ".py",
   "mimetype": "text/x-python",
   "name": "python",
   "nbconvert_exporter": "python",
   "pygments_lexer": "ipython3",
   "version": "3.9.12"
  }
 },
 "nbformat": 4,
 "nbformat_minor": 5
}
