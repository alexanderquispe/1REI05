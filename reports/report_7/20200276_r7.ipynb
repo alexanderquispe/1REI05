{
 "cells": [
  {
   "cell_type": "markdown",
   "id": "d8c5473d",
   "metadata": {
    "id": "d8c5473d"
   },
   "source": [
    "# Reporte 7: \n",
    "   ### Nombre: Karen Arevalo Calle 20200276"
   ]
  },
  {
   "cell_type": "markdown",
   "id": "2e3cfb55",
   "metadata": {
    "id": "2e3cfb55"
   },
   "source": [
    "## Parte 1: Reporte de lectura"
   ]
  },
  {
   "cell_type": "markdown",
   "id": "d5f2f2bd",
   "metadata": {
    "id": "d5f2f2bd"
   },
   "source": [
    "Lectura: Chetty, R., Hendren, N. y Katz, LF (2016). Los efectos de la exposición a mejores vecindarios en los niños: nueva evidencia del experimento de mudarse a la oportunidad. Revista Económica Estadounidense, 106(4), 855-902.\n",
    "\n",
    "El artículo de Chetty, Hendren y Katz, está dado por la problemática de que los individuos que viven en zonas de alta pobreza tienen peores resultados económicos, sanitarios y educativos que los que viven en barrios de menor pobreza. Los autores proponen un nuevo análisis del experimento MTO y se centran en sus efectos a largo plazo sobre los niños que eran pequeños cuando sus familias se trasladaron a barrios mejores. En ese sentido, su investigación se guía por la siguiente pregunta: ¿Cómo influye el barrio en el que crece un niño en resultados a largo plazo como la asistencia a una universidad, sus ingresos o embarazos adolescentes? Para responder a esta pregunta, los autores deciden comparar a los niños que se trasladaron de un lugar a otro a diferentes edades para ver si hay diferencias sistemáticas y utilizar los datos del experimento Moving to Opportunity para comparar a los niños de las familias que fueron seleccionadas al azar para recibir vales de reubicación con un grupo de control. Ante esto, los autores plantean dos hipótesis, primero, que el traslado a una zona de menor pobreza mejora los resultados económicos a largo plazo de los niños que eran pequeños en el momento de la random assignment (RA). Y, segundo, que los beneficios de trasladarse a una zona de menor pobreza disminuyen con la edad del niño en el momento del traslado.\n",
    "\n",
    "Seguidamente, los autores muestran información teórica sobre el experimento de MTO. No obstante, es importante mencionar algunas debilidades o limitaciones del MTO. En ese sentido, se puede observar que los efectos de la exposición superan el coste de la perturbación para los niños que se trasladan cuando son jóvenes, pero no para los niños que se trasladan a edades más avanzadas. Si bien estos resultados lucen coherentes, el diseño experimental del MTO no puede utilizarse para establecer de forma concluyente que la exposición en la infancia a un entorno mejor tiene un efecto causal en los resultados a largo plazo, ya que las edades a las que los niños se trasladan están perfectamente correlacionadas con el tiempo de exposición a un barrio de menor pobreza. Consecuentemente, no se pueden distinguir las diferencias en los efectos de la perturbación según la edad en el momento de la mudanza de un coste de la perturbación invariable por la edad junto con un efecto de exposición. Además, los efectos del tratamiento para las familias con niños pequeños y mayores podrían ser diferentes. Por otro lado, el MTO también tiene fortalezas o ventajas, los resultados experimentales son adecuados para concluir que proporcionar vales de vivienda subvencionados para trasladarse a zonas de menor pobreza produce mayores beneficios para los niños más pequeños.\n",
    "\n",
    "Luego, los autores examinan la data MTO, para cada participante se usó dos sets de información del dataset del MTO. En primer lugar, obtener información sobre las características de los individuos y los hogares a partir de la encuesta de referencia de los participantes en el MTO. En segundo lugar, obtener información anual sobre el vecindario residencial (zona censal) de cada participante en el MTO. En esta misma línea se identificaron las siguientes variables: income, household income, college attendance, college quality, neighborhood characteristics in adulthood, marital status and fertility y, tax filing and taxes paid. Para la parte metodológica, los autores hicieron un balance de las encuestas y un resúmen estadístico. Para lo cual, los autores dividieron a los niños en dos grupos: los que tenían menos de 13 años en el momento de la AR y los que tenían entre 13 a 18 años en el momento del AR. En la tabla 1 de la investigación se presentan las estadísticas de resumen y las pruebas de equilibrio para las covariables de base seleccionadas para estos dos grupos. Sin embargo, me gustaría presentar una crítica al paper en este apartado.\n",
    "\n",
    "En la tabla 1 en la parte de exp. vs. control se puede encontrar un poco de sesgo en la variable de “household head completed high school (%)”. Los que tomaron la decisión de la chance tienen 4.2 puntos porcentuales por encima del grupo de control, siendo así, un sesgo de autoselección. Esto puede significar una limitación para el paper, pero; por otro lado, también existe un punto positivo o fortaleza que reside en el enfoque que los autores decidieron darle al análisis, ya que analizan los efectos a largo plazo del MTO.\n",
    "\n",
    "Dejando de lado estos aspectos, los autores finalmente parten por presentar la sección de análisis y resultados. Los autores estimaron los efectos \"por intención de tratar\" (ITT) de los tratamientos MTO, que son esencialmente diferencias entre las medias de los grupos de tratamiento y de control. Después, eliminaron los errores estándar e identificaron el impacto causal de que se les ofrezca un vale para para pasar por el MTO. En resumen, para responder a la pregunta de investigación, sus resultados muestran que hay efectos de exposición infantil grandes y significativos en la infancia asociados a vivir en barrios buenos o malos. Estos resultados sugieren que una parte sustancial de la variación sistemática de los resultados económicos entre zonas puede explicarse efectivamente por efectos causales de barrios.\n",
    "\n",
    "Finalmente, algunos pasos específicos para avanzar en la pregunta de investigación de este paper, serán presentados a continuación. Los autores observaron los resultados a largo plazo de los niños que tenían cuatro años o más en el momento de la asignación aleatoria y sus resultados demuestran que las mejoras en la educación de los niños son más importantes que las condiciones de los años posteriores. Sin embargo, se puede dar un paso más y estudiar si los efectos serían aún mayores a edades más tempranas. En ese sentido, [Minh (2017)](https://www.sciencedirect.com/science/article/pii/S1353829216303525) se encarga de ahondar precisamente en lo anterior al hacer una revisión de los efectos del vecindario y el desarrollo de la primera infancia. Por otro lado, si bien los autores Chetty, Hendren y Katz del paper que hemos analizado establecen que el lugar es importante para la movilidad intergeneracional, no nos dicen qué áreas producen los mejores resultados, ni identifican las características de los vecindarios que generan buenos resultados. Bajo esta misma, se puede ahondar el análisis para estimar el [efecto causal de cada condado de EE.UU](https://academic.oup.com/qje/article/133/3/1163/4850659). Por último, este análisis puede ser replicado a nivel regional, a nivel de latinoamérica. Siguiendo el estudio de [Balzano y Hourquebie (2015)](https://repositorio.uca.edu.ar/bitstream/123456789/8255/1/vivir-bordes-vida-ocho-barrios.pdf), ellas establecen un marco para estimar el impacto de la vida en distintos barrios de Buenos Aires y su influencia en distintas variables. Sin embargo, con lo observado en este paper, el análisis de Balzano y Hourquebie puede ser profundizado."
   ]
  },
  {
   "cell_type": "markdown",
   "id": "f1c12ba3",
   "metadata": {
    "id": "f1c12ba3"
   },
   "source": [
    "## Parte 2: Código en Python - \n",
    "#### Código hecho por Karen Arevalo y Mayeli Charra\n",
    "\n",
    "### Ploteo de Histogramas"
   ]
  },
  {
   "cell_type": "code",
   "execution_count": 1,
   "id": "35761afe",
   "metadata": {
    "id": "35761afe"
   },
   "outputs": [],
   "source": [
    "from causalgraphicalmodels import CausalGraphicalModel\n",
    "import os\n",
    "import numpy as np \n",
    "import pandas as pd \n",
    "import statsmodels.api as sm \n",
    "import statsmodels.formula.api as smf \n",
    "from itertools import combinations \n",
    "import plotnine as p\n",
    "import statsmodels.api as sm\n",
    "import statsmodels.formula.api as smf\n",
    "import linearmodels.iv.model as lm\n",
    "from linearmodels.iv import IV2SLS\n",
    "from statsmodels.iolib.summary2 import summary_col\n",
    "import seaborn as sns"
   ]
  },
  {
   "cell_type": "markdown",
   "id": "09e768a8",
   "metadata": {},
   "source": [
    "Insertamos la data"
   ]
  },
  {
   "cell_type": "code",
   "execution_count": 33,
   "id": "2827e5d6",
   "metadata": {},
   "outputs": [
    {
     "name": "stdout",
     "output_type": "stream",
     "text": [
      "(323, 10)\n"
     ]
    },
    {
     "data": {
      "text/html": [
       "<div>\n",
       "<style scoped>\n",
       "    .dataframe tbody tr th:only-of-type {\n",
       "        vertical-align: middle;\n",
       "    }\n",
       "\n",
       "    .dataframe tbody tr th {\n",
       "        vertical-align: top;\n",
       "    }\n",
       "\n",
       "    .dataframe thead th {\n",
       "        text-align: right;\n",
       "    }\n",
       "</style>\n",
       "<table border=\"1\" class=\"dataframe\">\n",
       "  <thead>\n",
       "    <tr style=\"text-align: right;\">\n",
       "      <th></th>\n",
       "      <th>gender</th>\n",
       "      <th>asian</th>\n",
       "      <th>black</th>\n",
       "      <th>hawaiian</th>\n",
       "      <th>hispanic</th>\n",
       "      <th>unknown</th>\n",
       "      <th>white</th>\n",
       "      <th>format_ol</th>\n",
       "      <th>format_blended</th>\n",
       "      <th>falsexam</th>\n",
       "    </tr>\n",
       "  </thead>\n",
       "  <tbody>\n",
       "    <tr>\n",
       "      <th>0</th>\n",
       "      <td>0</td>\n",
       "      <td>0.0</td>\n",
       "      <td>0.0</td>\n",
       "      <td>0.0</td>\n",
       "      <td>0.0</td>\n",
       "      <td>0.0</td>\n",
       "      <td>1.0</td>\n",
       "      <td>0</td>\n",
       "      <td>0.0</td>\n",
       "      <td>63.29997</td>\n",
       "    </tr>\n",
       "    <tr>\n",
       "      <th>1</th>\n",
       "      <td>1</td>\n",
       "      <td>0.0</td>\n",
       "      <td>0.0</td>\n",
       "      <td>0.0</td>\n",
       "      <td>0.0</td>\n",
       "      <td>0.0</td>\n",
       "      <td>1.0</td>\n",
       "      <td>0</td>\n",
       "      <td>0.0</td>\n",
       "      <td>79.96000</td>\n",
       "    </tr>\n",
       "    <tr>\n",
       "      <th>2</th>\n",
       "      <td>1</td>\n",
       "      <td>0.0</td>\n",
       "      <td>0.0</td>\n",
       "      <td>0.0</td>\n",
       "      <td>0.0</td>\n",
       "      <td>0.0</td>\n",
       "      <td>1.0</td>\n",
       "      <td>0</td>\n",
       "      <td>1.0</td>\n",
       "      <td>83.37000</td>\n",
       "    </tr>\n",
       "    <tr>\n",
       "      <th>3</th>\n",
       "      <td>1</td>\n",
       "      <td>0.0</td>\n",
       "      <td>0.0</td>\n",
       "      <td>0.0</td>\n",
       "      <td>0.0</td>\n",
       "      <td>0.0</td>\n",
       "      <td>1.0</td>\n",
       "      <td>0</td>\n",
       "      <td>1.0</td>\n",
       "      <td>90.01994</td>\n",
       "    </tr>\n",
       "    <tr>\n",
       "      <th>4</th>\n",
       "      <td>1</td>\n",
       "      <td>0.0</td>\n",
       "      <td>0.0</td>\n",
       "      <td>0.0</td>\n",
       "      <td>0.0</td>\n",
       "      <td>0.0</td>\n",
       "      <td>1.0</td>\n",
       "      <td>1</td>\n",
       "      <td>0.0</td>\n",
       "      <td>83.30000</td>\n",
       "    </tr>\n",
       "  </tbody>\n",
       "</table>\n",
       "</div>"
      ],
      "text/plain": [
       "   gender  asian  black  hawaiian  hispanic  unknown  white  format_ol  \\\n",
       "0       0    0.0    0.0       0.0       0.0      0.0    1.0          0   \n",
       "1       1    0.0    0.0       0.0       0.0      0.0    1.0          0   \n",
       "2       1    0.0    0.0       0.0       0.0      0.0    1.0          0   \n",
       "3       1    0.0    0.0       0.0       0.0      0.0    1.0          0   \n",
       "4       1    0.0    0.0       0.0       0.0      0.0    1.0          1   \n",
       "\n",
       "   format_blended  falsexam  \n",
       "0             0.0  63.29997  \n",
       "1             0.0  79.96000  \n",
       "2             1.0  83.37000  \n",
       "3             1.0  90.01994  \n",
       "4             0.0  83.30000  "
      ]
     },
     "execution_count": 33,
     "metadata": {},
     "output_type": "execute_result"
    }
   ],
   "source": [
    "data = pd.read_csv('https://github.com/matheusfacure/python-causality-handbook/raw/master/causal-inference-for-the-brave-and-true/data/online_classroom.csv')\n",
    "print(data.shape)\n",
    "data.head()"
   ]
  },
  {
   "cell_type": "markdown",
   "id": "a315d6af",
   "metadata": {},
   "source": [
    "1. Ploteando las notas de los grupos \"Face to face\", \"Online\" y \"Blended\""
   ]
  },
  {
   "cell_type": "code",
   "execution_count": 36,
   "id": "4f5bb81d",
   "metadata": {},
   "outputs": [],
   "source": [
    "data_2 = (data\n",
    " .assign(class_format = np.select(\n",
    "     [data[\"format_ol\"].astype(bool), data[\"format_blended\"].astype(bool)],\n",
    "     [\"online\", \"blended\"],\n",
    "     default=\"face_to_face\" #create a new variable\n",
    " ))) #group by the new variable (treatments)"
   ]
  },
  {
   "cell_type": "code",
   "execution_count": 34,
   "id": "ac433dad",
   "metadata": {},
   "outputs": [
    {
     "data": {
      "text/plain": [
       "<AxesSubplot:xlabel='falsexam', ylabel='Count'>"
      ]
     },
     "execution_count": 34,
     "metadata": {},
     "output_type": "execute_result"
    },
    {
     "data": {
      "image/png": "[encoded data removed]",
      "text/plain": [
       "<Figure size 432x288 with 1 Axes>"
      ]
     },
     "metadata": {
      "needs_background": "light"
     },
     "output_type": "display_data"
    }
   ],
   "source": [
    "sns.histplot(data=data_2, x=\"falsexam\" , hue=\"class_format\", multiple =\"stack\", common_norm=False)"
   ]
  },
  {
   "cell_type": "code",
   "execution_count": 35,
   "id": "f0a70fe0",
   "metadata": {},
   "outputs": [
    {
     "data": {
      "text/plain": [
       "<seaborn.axisgrid.FacetGrid at 0x2398d569dc0>"
      ]
     },
     "execution_count": 35,
     "metadata": {},
     "output_type": "execute_result"
    },
    {
     "data": {
      "image/png": "[encoded data removed]",
      "text/plain": [
       "<Figure size 1080x360 with 3 Axes>"
      ]
     },
     "metadata": {
      "needs_background": "light"
     },
     "output_type": "display_data"
    }
   ],
   "source": [
    "sns.displot(data=data_2, x=\"falsexam\", col=\"class_format\")"
   ]
  },
  {
   "cell_type": "markdown",
   "id": "23f4069e",
   "metadata": {},
   "source": [
    "Explicación: A partir de los graficos se evidencia que en cuanto al formato de clase online se encuentran datos con muy bajas notas a diferencia de los otros formatos, de modo que identificamos valores atípicos ello pued deberse a problemas técnicos con las clases online donde no es posible evaluar con exactitud el rendimiento académico. Por otro parte la distribución en en el formato de clase face-to-face las notas de los exámenes comienzan por encima de 50 mientras el formato de clases blended desde 45. En cuanto al formato face-to-face la mayor cantidad de estudiantes tuvieron de nota entre 80 y 85. Mientras para los demas formatos la cantidad de estudiantes para ese rango de notas disminuye. La cantidad de estudiantes con notas de 90 a 95 se mantienen para los tres tipos de formatos de clases."
   ]
  },
  {
   "cell_type": "markdown",
   "id": "52870ccd",
   "metadata": {
    "id": "52870ccd"
   },
   "source": [
    "### Estimador de diferencia de medias."
   ]
  },
  {
   "cell_type": "markdown",
   "id": "d35e3037",
   "metadata": {},
   "source": [
    "1. Creando un nuevo dataset que incluye face-to-face y online lessons"
   ]
  },
  {
   "cell_type": "markdown",
   "id": "3e91855f",
   "metadata": {},
   "source": [
    "Insertamos la data:"
   ]
  },
  {
   "cell_type": "code",
   "execution_count": 2,
   "id": "fc4b3d00",
   "metadata": {},
   "outputs": [
    {
     "name": "stdout",
     "output_type": "stream",
     "text": [
      "(323, 10)\n"
     ]
    },
    {
     "data": {
      "text/html": [
       "<div>\n",
       "<style scoped>\n",
       "    .dataframe tbody tr th:only-of-type {\n",
       "        vertical-align: middle;\n",
       "    }\n",
       "\n",
       "    .dataframe tbody tr th {\n",
       "        vertical-align: top;\n",
       "    }\n",
       "\n",
       "    .dataframe thead th {\n",
       "        text-align: right;\n",
       "    }\n",
       "</style>\n",
       "<table border=\"1\" class=\"dataframe\">\n",
       "  <thead>\n",
       "    <tr style=\"text-align: right;\">\n",
       "      <th></th>\n",
       "      <th>gender</th>\n",
       "      <th>asian</th>\n",
       "      <th>black</th>\n",
       "      <th>hawaiian</th>\n",
       "      <th>hispanic</th>\n",
       "      <th>unknown</th>\n",
       "      <th>white</th>\n",
       "      <th>format_ol</th>\n",
       "      <th>format_blended</th>\n",
       "      <th>falsexam</th>\n",
       "    </tr>\n",
       "  </thead>\n",
       "  <tbody>\n",
       "    <tr>\n",
       "      <th>0</th>\n",
       "      <td>0</td>\n",
       "      <td>0.0</td>\n",
       "      <td>0.0</td>\n",
       "      <td>0.0</td>\n",
       "      <td>0.0</td>\n",
       "      <td>0.0</td>\n",
       "      <td>1.0</td>\n",
       "      <td>0</td>\n",
       "      <td>0.0</td>\n",
       "      <td>63.29997</td>\n",
       "    </tr>\n",
       "    <tr>\n",
       "      <th>1</th>\n",
       "      <td>1</td>\n",
       "      <td>0.0</td>\n",
       "      <td>0.0</td>\n",
       "      <td>0.0</td>\n",
       "      <td>0.0</td>\n",
       "      <td>0.0</td>\n",
       "      <td>1.0</td>\n",
       "      <td>0</td>\n",
       "      <td>0.0</td>\n",
       "      <td>79.96000</td>\n",
       "    </tr>\n",
       "    <tr>\n",
       "      <th>2</th>\n",
       "      <td>1</td>\n",
       "      <td>0.0</td>\n",
       "      <td>0.0</td>\n",
       "      <td>0.0</td>\n",
       "      <td>0.0</td>\n",
       "      <td>0.0</td>\n",
       "      <td>1.0</td>\n",
       "      <td>0</td>\n",
       "      <td>1.0</td>\n",
       "      <td>83.37000</td>\n",
       "    </tr>\n",
       "    <tr>\n",
       "      <th>3</th>\n",
       "      <td>1</td>\n",
       "      <td>0.0</td>\n",
       "      <td>0.0</td>\n",
       "      <td>0.0</td>\n",
       "      <td>0.0</td>\n",
       "      <td>0.0</td>\n",
       "      <td>1.0</td>\n",
       "      <td>0</td>\n",
       "      <td>1.0</td>\n",
       "      <td>90.01994</td>\n",
       "    </tr>\n",
       "    <tr>\n",
       "      <th>4</th>\n",
       "      <td>1</td>\n",
       "      <td>0.0</td>\n",
       "      <td>0.0</td>\n",
       "      <td>0.0</td>\n",
       "      <td>0.0</td>\n",
       "      <td>0.0</td>\n",
       "      <td>1.0</td>\n",
       "      <td>1</td>\n",
       "      <td>0.0</td>\n",
       "      <td>83.30000</td>\n",
       "    </tr>\n",
       "  </tbody>\n",
       "</table>\n",
       "</div>"
      ],
      "text/plain": [
       "   gender  asian  black  hawaiian  hispanic  unknown  white  format_ol  \\\n",
       "0       0    0.0    0.0       0.0       0.0      0.0    1.0          0   \n",
       "1       1    0.0    0.0       0.0       0.0      0.0    1.0          0   \n",
       "2       1    0.0    0.0       0.0       0.0      0.0    1.0          0   \n",
       "3       1    0.0    0.0       0.0       0.0      0.0    1.0          0   \n",
       "4       1    0.0    0.0       0.0       0.0      0.0    1.0          1   \n",
       "\n",
       "   format_blended  falsexam  \n",
       "0             0.0  63.29997  \n",
       "1             0.0  79.96000  \n",
       "2             1.0  83.37000  \n",
       "3             1.0  90.01994  \n",
       "4             0.0  83.30000  "
      ]
     },
     "execution_count": 2,
     "metadata": {},
     "output_type": "execute_result"
    }
   ],
   "source": [
    "data = pd.read_csv('https://github.com/matheusfacure/python-causality-handbook/raw/master/causal-inference-for-the-brave-and-true/data/online_classroom.csv')\n",
    "print(data.shape)\n",
    "data.head()"
   ]
  },
  {
   "cell_type": "code",
   "execution_count": 3,
   "id": "08fb6361",
   "metadata": {},
   "outputs": [],
   "source": [
    "data_2 = (data\n",
    " .assign(class_format = np.select(\n",
    "     [data[\"format_ol\"].astype(bool), data[\"format_blended\"].astype(bool)],\n",
    "     [\"online\", \"blended\"],\n",
    "     default=\"face_to_face\" #create a new variable\n",
    " ))) #group by the new variable (treatments)"
   ]
  },
  {
   "cell_type": "code",
   "execution_count": 4,
   "id": "d1fdd28b",
   "metadata": {},
   "outputs": [
    {
     "data": {
      "text/html": [
       "<div>\n",
       "<style scoped>\n",
       "    .dataframe tbody tr th:only-of-type {\n",
       "        vertical-align: middle;\n",
       "    }\n",
       "\n",
       "    .dataframe tbody tr th {\n",
       "        vertical-align: top;\n",
       "    }\n",
       "\n",
       "    .dataframe thead th {\n",
       "        text-align: right;\n",
       "    }\n",
       "</style>\n",
       "<table border=\"1\" class=\"dataframe\">\n",
       "  <thead>\n",
       "    <tr style=\"text-align: right;\">\n",
       "      <th></th>\n",
       "      <th>gender</th>\n",
       "      <th>asian</th>\n",
       "      <th>black</th>\n",
       "      <th>hawaiian</th>\n",
       "      <th>hispanic</th>\n",
       "      <th>unknown</th>\n",
       "      <th>white</th>\n",
       "      <th>format_ol</th>\n",
       "      <th>format_blended</th>\n",
       "      <th>falsexam</th>\n",
       "      <th>class_format</th>\n",
       "    </tr>\n",
       "  </thead>\n",
       "  <tbody>\n",
       "    <tr>\n",
       "      <th>0</th>\n",
       "      <td>0</td>\n",
       "      <td>0.0</td>\n",
       "      <td>0.0</td>\n",
       "      <td>0.0</td>\n",
       "      <td>0.0</td>\n",
       "      <td>0.0</td>\n",
       "      <td>1.0</td>\n",
       "      <td>0</td>\n",
       "      <td>0.0</td>\n",
       "      <td>63.29997</td>\n",
       "      <td>face_to_face</td>\n",
       "    </tr>\n",
       "    <tr>\n",
       "      <th>1</th>\n",
       "      <td>1</td>\n",
       "      <td>0.0</td>\n",
       "      <td>0.0</td>\n",
       "      <td>0.0</td>\n",
       "      <td>0.0</td>\n",
       "      <td>0.0</td>\n",
       "      <td>1.0</td>\n",
       "      <td>0</td>\n",
       "      <td>0.0</td>\n",
       "      <td>79.96000</td>\n",
       "      <td>face_to_face</td>\n",
       "    </tr>\n",
       "    <tr>\n",
       "      <th>2</th>\n",
       "      <td>1</td>\n",
       "      <td>0.0</td>\n",
       "      <td>0.0</td>\n",
       "      <td>0.0</td>\n",
       "      <td>0.0</td>\n",
       "      <td>0.0</td>\n",
       "      <td>1.0</td>\n",
       "      <td>0</td>\n",
       "      <td>1.0</td>\n",
       "      <td>83.37000</td>\n",
       "      <td>blended</td>\n",
       "    </tr>\n",
       "    <tr>\n",
       "      <th>3</th>\n",
       "      <td>1</td>\n",
       "      <td>0.0</td>\n",
       "      <td>0.0</td>\n",
       "      <td>0.0</td>\n",
       "      <td>0.0</td>\n",
       "      <td>0.0</td>\n",
       "      <td>1.0</td>\n",
       "      <td>0</td>\n",
       "      <td>1.0</td>\n",
       "      <td>90.01994</td>\n",
       "      <td>blended</td>\n",
       "    </tr>\n",
       "    <tr>\n",
       "      <th>4</th>\n",
       "      <td>1</td>\n",
       "      <td>0.0</td>\n",
       "      <td>0.0</td>\n",
       "      <td>0.0</td>\n",
       "      <td>0.0</td>\n",
       "      <td>0.0</td>\n",
       "      <td>1.0</td>\n",
       "      <td>1</td>\n",
       "      <td>0.0</td>\n",
       "      <td>83.30000</td>\n",
       "      <td>online</td>\n",
       "    </tr>\n",
       "    <tr>\n",
       "      <th>...</th>\n",
       "      <td>...</td>\n",
       "      <td>...</td>\n",
       "      <td>...</td>\n",
       "      <td>...</td>\n",
       "      <td>...</td>\n",
       "      <td>...</td>\n",
       "      <td>...</td>\n",
       "      <td>...</td>\n",
       "      <td>...</td>\n",
       "      <td>...</td>\n",
       "      <td>...</td>\n",
       "    </tr>\n",
       "    <tr>\n",
       "      <th>318</th>\n",
       "      <td>0</td>\n",
       "      <td>0.0</td>\n",
       "      <td>0.0</td>\n",
       "      <td>0.0</td>\n",
       "      <td>0.0</td>\n",
       "      <td>0.0</td>\n",
       "      <td>1.0</td>\n",
       "      <td>0</td>\n",
       "      <td>1.0</td>\n",
       "      <td>68.36000</td>\n",
       "      <td>blended</td>\n",
       "    </tr>\n",
       "    <tr>\n",
       "      <th>319</th>\n",
       "      <td>1</td>\n",
       "      <td>NaN</td>\n",
       "      <td>NaN</td>\n",
       "      <td>NaN</td>\n",
       "      <td>NaN</td>\n",
       "      <td>NaN</td>\n",
       "      <td>NaN</td>\n",
       "      <td>1</td>\n",
       "      <td>0.0</td>\n",
       "      <td>70.05000</td>\n",
       "      <td>online</td>\n",
       "    </tr>\n",
       "    <tr>\n",
       "      <th>320</th>\n",
       "      <td>0</td>\n",
       "      <td>NaN</td>\n",
       "      <td>NaN</td>\n",
       "      <td>NaN</td>\n",
       "      <td>NaN</td>\n",
       "      <td>NaN</td>\n",
       "      <td>NaN</td>\n",
       "      <td>1</td>\n",
       "      <td>0.0</td>\n",
       "      <td>66.69000</td>\n",
       "      <td>online</td>\n",
       "    </tr>\n",
       "    <tr>\n",
       "      <th>321</th>\n",
       "      <td>1</td>\n",
       "      <td>NaN</td>\n",
       "      <td>NaN</td>\n",
       "      <td>NaN</td>\n",
       "      <td>NaN</td>\n",
       "      <td>NaN</td>\n",
       "      <td>NaN</td>\n",
       "      <td>1</td>\n",
       "      <td>0.0</td>\n",
       "      <td>83.29997</td>\n",
       "      <td>online</td>\n",
       "    </tr>\n",
       "    <tr>\n",
       "      <th>322</th>\n",
       "      <td>1</td>\n",
       "      <td>0.0</td>\n",
       "      <td>0.0</td>\n",
       "      <td>0.0</td>\n",
       "      <td>0.0</td>\n",
       "      <td>0.0</td>\n",
       "      <td>1.0</td>\n",
       "      <td>0</td>\n",
       "      <td>1.0</td>\n",
       "      <td>96.68000</td>\n",
       "      <td>blended</td>\n",
       "    </tr>\n",
       "  </tbody>\n",
       "</table>\n",
       "<p>323 rows × 11 columns</p>\n",
       "</div>"
      ],
      "text/plain": [
       "     gender  asian  black  hawaiian  hispanic  unknown  white  format_ol  \\\n",
       "0         0    0.0    0.0       0.0       0.0      0.0    1.0          0   \n",
       "1         1    0.0    0.0       0.0       0.0      0.0    1.0          0   \n",
       "2         1    0.0    0.0       0.0       0.0      0.0    1.0          0   \n",
       "3         1    0.0    0.0       0.0       0.0      0.0    1.0          0   \n",
       "4         1    0.0    0.0       0.0       0.0      0.0    1.0          1   \n",
       "..      ...    ...    ...       ...       ...      ...    ...        ...   \n",
       "318       0    0.0    0.0       0.0       0.0      0.0    1.0          0   \n",
       "319       1    NaN    NaN       NaN       NaN      NaN    NaN          1   \n",
       "320       0    NaN    NaN       NaN       NaN      NaN    NaN          1   \n",
       "321       1    NaN    NaN       NaN       NaN      NaN    NaN          1   \n",
       "322       1    0.0    0.0       0.0       0.0      0.0    1.0          0   \n",
       "\n",
       "     format_blended  falsexam  class_format  \n",
       "0               0.0  63.29997  face_to_face  \n",
       "1               0.0  79.96000  face_to_face  \n",
       "2               1.0  83.37000       blended  \n",
       "3               1.0  90.01994       blended  \n",
       "4               0.0  83.30000        online  \n",
       "..              ...       ...           ...  \n",
       "318             1.0  68.36000       blended  \n",
       "319             0.0  70.05000        online  \n",
       "320             0.0  66.69000        online  \n",
       "321             0.0  83.29997        online  \n",
       "322             1.0  96.68000       blended  \n",
       "\n",
       "[323 rows x 11 columns]"
      ]
     },
     "execution_count": 4,
     "metadata": {},
     "output_type": "execute_result"
    }
   ],
   "source": [
    "data_2"
   ]
  },
  {
   "cell_type": "markdown",
   "id": "3cbd9c8b",
   "metadata": {},
   "source": [
    "Promedios del grupo online lessons y face-to-face"
   ]
  },
  {
   "cell_type": "code",
   "execution_count": 17,
   "id": "52c1e4d7",
   "metadata": {
    "scrolled": true
   },
   "outputs": [
    {
     "data": {
      "text/html": [
       "<div>\n",
       "<style scoped>\n",
       "    .dataframe tbody tr th:only-of-type {\n",
       "        vertical-align: middle;\n",
       "    }\n",
       "\n",
       "    .dataframe tbody tr th {\n",
       "        vertical-align: top;\n",
       "    }\n",
       "\n",
       "    .dataframe thead th {\n",
       "        text-align: right;\n",
       "    }\n",
       "</style>\n",
       "<table border=\"1\" class=\"dataframe\">\n",
       "  <thead>\n",
       "    <tr style=\"text-align: right;\">\n",
       "      <th></th>\n",
       "      <th>gender</th>\n",
       "      <th>asian</th>\n",
       "      <th>black</th>\n",
       "      <th>hawaiian</th>\n",
       "      <th>hispanic</th>\n",
       "      <th>unknown</th>\n",
       "      <th>white</th>\n",
       "      <th>format_ol</th>\n",
       "      <th>format_blended</th>\n",
       "      <th>falsexam</th>\n",
       "    </tr>\n",
       "    <tr>\n",
       "      <th>class_format</th>\n",
       "      <th></th>\n",
       "      <th></th>\n",
       "      <th></th>\n",
       "      <th></th>\n",
       "      <th></th>\n",
       "      <th></th>\n",
       "      <th></th>\n",
       "      <th></th>\n",
       "      <th></th>\n",
       "      <th></th>\n",
       "    </tr>\n",
       "  </thead>\n",
       "  <tbody>\n",
       "    <tr>\n",
       "      <th>blended</th>\n",
       "      <td>0.550459</td>\n",
       "      <td>0.217949</td>\n",
       "      <td>0.102564</td>\n",
       "      <td>0.025641</td>\n",
       "      <td>0.012821</td>\n",
       "      <td>0.012821</td>\n",
       "      <td>0.628205</td>\n",
       "      <td>0.0</td>\n",
       "      <td>1.0</td>\n",
       "      <td>77.093731</td>\n",
       "    </tr>\n",
       "    <tr>\n",
       "      <th>face_to_face</th>\n",
       "      <td>0.633333</td>\n",
       "      <td>0.202020</td>\n",
       "      <td>0.070707</td>\n",
       "      <td>0.000000</td>\n",
       "      <td>0.010101</td>\n",
       "      <td>0.000000</td>\n",
       "      <td>0.717172</td>\n",
       "      <td>0.0</td>\n",
       "      <td>0.0</td>\n",
       "      <td>78.547485</td>\n",
       "    </tr>\n",
       "    <tr>\n",
       "      <th>online</th>\n",
       "      <td>0.542553</td>\n",
       "      <td>0.228571</td>\n",
       "      <td>0.028571</td>\n",
       "      <td>0.014286</td>\n",
       "      <td>0.028571</td>\n",
       "      <td>0.000000</td>\n",
       "      <td>0.700000</td>\n",
       "      <td>1.0</td>\n",
       "      <td>0.0</td>\n",
       "      <td>73.635263</td>\n",
       "    </tr>\n",
       "  </tbody>\n",
       "</table>\n",
       "</div>"
      ],
      "text/plain": [
       "                gender     asian     black  hawaiian  hispanic   unknown  \\\n",
       "class_format                                                               \n",
       "blended       0.550459  0.217949  0.102564  0.025641  0.012821  0.012821   \n",
       "face_to_face  0.633333  0.202020  0.070707  0.000000  0.010101  0.000000   \n",
       "online        0.542553  0.228571  0.028571  0.014286  0.028571  0.000000   \n",
       "\n",
       "                 white  format_ol  format_blended   falsexam  \n",
       "class_format                                                  \n",
       "blended       0.628205        0.0             1.0  77.093731  \n",
       "face_to_face  0.717172        0.0             0.0  78.547485  \n",
       "online        0.700000        1.0             0.0  73.635263  "
      ]
     },
     "execution_count": 17,
     "metadata": {},
     "output_type": "execute_result"
    }
   ],
   "source": [
    "data_2.groupby([\"class_format\"]).mean() #get the exam's mean"
   ]
  },
  {
   "cell_type": "markdown",
   "id": "e399c1e7",
   "metadata": {},
   "source": [
    "Ignorando \"blended\""
   ]
  },
  {
   "cell_type": "markdown",
   "id": "3b5f6772",
   "metadata": {},
   "source": [
    "Diferencias de valor entre el grupo 2 y 3"
   ]
  },
  {
   "cell_type": "code",
   "execution_count": 8,
   "id": "dc2ca19a",
   "metadata": {},
   "outputs": [
    {
     "data": {
      "text/plain": [
       "-4.912222"
      ]
     },
     "execution_count": 8,
     "metadata": {},
     "output_type": "execute_result"
    }
   ],
   "source": [
    "# Y(1)- Y(0) = ATE Average Treatment Effect - Causal \n",
    "# Y(1) -> online, Y(0) -> face_to_face\n",
    "73.635263 - 78.547485"
   ]
  },
  {
   "cell_type": "markdown",
   "id": "5e26915b",
   "metadata": {},
   "source": [
    "Interpretación de resultados:\n",
    "\n",
    "Podemos ver que la variable de clases presenciales tien una media de 78,54, mientras que los cursos en línea una media de 73,63. Esto significa que hay mayor apoyo hacia las clases presenciales que en línea.  Por otro lado, las diferencias de valor entre el grupo 2 y3 es de -4,91. Esto significa que las clases en línea hacen que los estudiantes rindan al rededor de 5 puntos menos en la media."
   ]
  },
  {
   "cell_type": "markdown",
   "id": "20d3219e",
   "metadata": {},
   "source": [
    "### Estimador de diferencia de medias mediante regresión lineal"
   ]
  },
  {
   "cell_type": "markdown",
   "id": "ec4e9c96",
   "metadata": {},
   "source": [
    "Creando variable dummy"
   ]
  },
  {
   "cell_type": "code",
   "execution_count": 28,
   "id": "45d2fae7",
   "metadata": {},
   "outputs": [],
   "source": [
    "import numpy as np\n",
    "import statsmodels.formula.api as smf\n",
    "import graphviz as gr\n",
    "%matplotlib inline"
   ]
  },
  {
   "cell_type": "code",
   "execution_count": 29,
   "id": "6c28936c",
   "metadata": {},
   "outputs": [
    {
     "data": {
      "text/html": [
       "<table class=\"simpletable\">\n",
       "<tr>\n",
       "      <td></td>         <th>coef</th>     <th>std err</th>      <th>t</th>      <th>P>|t|</th>  <th>[0.025</th>    <th>0.975]</th>  \n",
       "</tr>\n",
       "<tr>\n",
       "  <th>Intercept</th> <td>   78.5475</td> <td>    1.113</td> <td>   70.563</td> <td> 0.000</td> <td>   76.353</td> <td>   80.742</td>\n",
       "</tr>\n",
       "<tr>\n",
       "  <th>format_ol</th> <td>   -4.9122</td> <td>    1.680</td> <td>   -2.925</td> <td> 0.004</td> <td>   -8.223</td> <td>   -1.601</td>\n",
       "</tr>\n",
       "</table>"
      ],
      "text/plain": [
       "<class 'statsmodels.iolib.table.SimpleTable'>"
      ]
     },
     "execution_count": 29,
     "metadata": {},
     "output_type": "execute_result"
    }
   ],
   "source": [
    "data = pd.read_csv(\"https://github.com/matheusfacure/python-causality-handbook/raw/master/causal-inference-for-the-brave-and-true/data/online_classroom.csv\").query(\"format_blended==0\")\n",
    "\n",
    "result = smf.ols('falsexam ~ format_ol', data=data).fit()\n",
    "result.summary().tables[1]"
   ]
  },
  {
   "cell_type": "code",
   "execution_count": 38,
   "id": "9c443429",
   "metadata": {},
   "outputs": [
    {
     "data": {
      "text/plain": [
       "format_ol\n",
       "0    77.855523\n",
       "1    73.635263\n",
       "Name: falsexam, dtype: float64"
      ]
     },
     "execution_count": 38,
     "metadata": {},
     "output_type": "execute_result"
    }
   ],
   "source": [
    "(data\n",
    " .groupby(\"format_ol\")\n",
    " [\"falsexam\"]\n",
    " .mean())"
   ]
  },
  {
   "cell_type": "markdown",
   "id": "ea6a095b",
   "metadata": {},
   "source": [
    "Realizando una regresión lineal donde Y = Las notas, T = Dummy creada para el tipo de clase.\n",
    "Esta regresión es de la siguiente manera Y = beta_0 + beta_1*T + e.\n"
   ]
  },
  {
   "cell_type": "markdown",
   "id": "2398d569",
   "metadata": {},
   "source": [
    "El valor que encontramos para beta_1 es el efecto de tratamiento promedio que debería ser igual al estimador de diferencia de medias encontrado arriba."
   ]
  },
  {
   "cell_type": "code",
   "execution_count": 30,
   "id": "6b7e396e",
   "metadata": {},
   "outputs": [
    {
     "data": {
      "text/plain": [
       "array([-4.9122215 , 78.54748458])"
      ]
     },
     "execution_count": 30,
     "metadata": {},
     "output_type": "execute_result"
    }
   ],
   "source": [
    "X = data[[\"format_ol\"]].assign(intercep=1)\n",
    "y = data[\"falsexam\"]\n",
    "\n",
    "def regress(y, X): \n",
    "    return np.linalg.inv(X.T.dot(X)).dot(X.T.dot(y))\n",
    "\n",
    "beta = regress(y, X)\n",
    "beta"
   ]
  },
  {
   "cell_type": "code",
   "execution_count": 31,
   "id": "f8f8f7de",
   "metadata": {},
   "outputs": [
    {
     "data": {
      "text/plain": [
       "-4.912221498226952"
      ]
     },
     "execution_count": 31,
     "metadata": {},
     "output_type": "execute_result"
    }
   ],
   "source": [
    "k = data[\"falsexam\"].cov(data[\"format_ol\"]) / data[\"format_ol\"].var()\n",
    "k"
   ]
  },
  {
   "cell_type": "code",
   "execution_count": 37,
   "id": "f6351d2c",
   "metadata": {},
   "outputs": [
    {
     "name": "stdout",
     "output_type": "stream",
     "text": [
      "Orthogonality imply that the dot product is zero: [-5.25801624e-13 -1.76214598e-12]\n"
     ]
    },
    {
     "data": {
      "text/html": [
       "<div>\n",
       "<style scoped>\n",
       "    .dataframe tbody tr th:only-of-type {\n",
       "        vertical-align: middle;\n",
       "    }\n",
       "\n",
       "    .dataframe tbody tr th {\n",
       "        vertical-align: top;\n",
       "    }\n",
       "\n",
       "    .dataframe thead th {\n",
       "        text-align: right;\n",
       "    }\n",
       "</style>\n",
       "<table border=\"1\" class=\"dataframe\">\n",
       "  <thead>\n",
       "    <tr style=\"text-align: right;\">\n",
       "      <th></th>\n",
       "      <th>format_ol</th>\n",
       "      <th>e</th>\n",
       "    </tr>\n",
       "  </thead>\n",
       "  <tbody>\n",
       "    <tr>\n",
       "      <th>format_ol</th>\n",
       "      <td>1.000000e+00</td>\n",
       "      <td>1.660561e-16</td>\n",
       "    </tr>\n",
       "    <tr>\n",
       "      <th>e</th>\n",
       "      <td>1.660561e-16</td>\n",
       "      <td>1.000000e+00</td>\n",
       "    </tr>\n",
       "  </tbody>\n",
       "</table>\n",
       "</div>"
      ],
      "text/plain": [
       "              format_ol             e\n",
       "format_ol  1.000000e+00  1.660561e-16\n",
       "e          1.660561e-16  1.000000e+00"
      ]
     },
     "execution_count": 37,
     "metadata": {},
     "output_type": "execute_result"
    }
   ],
   "source": [
    "e = y - X.dot(beta)\n",
    "print(\"Orthogonality imply that the dot product is zero:\", np.dot(e, X))\n",
    "X[[\"format_ol\"]].assign(e=e).corr()"
   ]
  },
  {
   "cell_type": "markdown",
   "id": "cd7c4dbc",
   "metadata": {},
   "source": [
    "Lo anterior muestra que en la inferencia causal solemos querer estimar el impacto causal de una variable T en un resultado Y. En este caso las notas y la variable dummy. La regresión sirve para estimar este efecto. Incluso si incluimos otras variables en el modelo, suelen ser sólo auxiliares. Añadir otras variables puede ayudarnos a estimar el efecto causal del tratamiento."
   ]
  }
 ],
 "metadata": {
  "colab": {
   "provenance": []
  },
  "kernelspec": {
   "display_name": "Python 3 (ipykernel)",
   "language": "python",
   "name": "python3"
  },
  "language_info": {
   "codemirror_mode": {
    "name": "ipython",
    "version": 3
   },
   "file_extension": ".py",
   "mimetype": "text/x-python",
   "name": "python",
   "nbconvert_exporter": "python",
   "pygments_lexer": "ipython3",
   "version": "3.9.12"
  }
 },
 "nbformat": 4,
 "nbformat_minor": 5
}
