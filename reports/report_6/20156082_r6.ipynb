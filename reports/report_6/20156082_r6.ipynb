{
 "cells": [
  {
   "cell_type": "markdown",
   "id": "5e0fd527",
   "metadata": {},
   "source": [
    "# REPORTE 6"
   ]
  },
  {
   "cell_type": "markdown",
   "id": "4ce95b7b",
   "metadata": {},
   "source": [
    "## LECTURA"
   ]
  },
  {
   "cell_type": "markdown",
   "id": "0dca3941",
   "metadata": {},
   "source": [
    "### Dynarski, S., Libassi, C. J., Michelmore, K., & Owen, S. (2018). \"Closing the gap: The effect of a targeted, tuition-free promise on college choices of high-achieving, low-income students\"."
   ]
  },
  {
   "cell_type": "markdown",
   "id": "467be101",
   "metadata": {},
   "source": [
    "En la actualidad existen brechas en la elección de universidades entre los estudiantes de bajos ingresos y sus pares de mayores ingresos en Michigan. Dynarski, Libassi, Michelmore y Owen (2018) en su artículo Closing the gap: the effect of a targeted, tuition-free promise on college choices of high-achieving, low-income students exponen el aumento de las brechas en las últimas décadas respecto de los logros educativos de los estudiantes de bajos y altos ingresos. En ese sentido, los autores abordan la pregunta de investigación acerca de si las comunicaciones dirigidas y personalizadas pueden alterar las decisiones universitarias de los estudiantes de bajos ingresos, pese a que estas no necesariamente aumentan la ayuda financiera, sino que son reformuladas.\n",
    "\n",
    "A lo largo del artículo, los autores encuentran que los estudiantes de bajos ingresos terminan en escuelas de menor selectividad no porque fueron rechazados de las mejores escuelas, sino porque nunca postularon. En efecto, los autores sugieren que los modelos de inversión estándar de capital humano no logran explicar dichos comportamientos, sino que se observan muchos patrones de comportamiento. De esta manera, los autores realizan un seguimiento de los efectos de la intervención en la carrera universitaria, la persistencia y la graduación.\n",
    "\n",
    "Los autores desarrollan una estructura que facilita la comprensión del artículo económico, de modo que presentan gráficos para mostrar resultados. Por ejemplo, muestran gráficos de barras con las varianzas en los que comparan los resultados para ambos grupos de estudiantes (bajos y altos ingresos). Asimismo, gráficos de dispersión de los estudiantes de HAIL, así como tablas de varianzas de la primera y segunda cohortes de la beca HAIL. Los datos recolectados para la realización de tablas y gráficos se logró gracias a la identificación de los estudiantes de alto rendimiento y bajos recursos principalmente. Esto se realizó en base al GPA de las escuelas y el SAT para estudiantes de altos ingresos, y calificaciones para subvención de almuerzos y otros datos de estudiantes que asisten a escuelas públicas. Además, se señala en el texto que la selección de los centros de educación fue de manera aleatoria, al mismo tiempo que se realizó el ensayo de forma controlada, es decir, estableciendo un grupo de control y ordenando a los estudiantes en subgrupos.\n",
    "\n",
    "La contribución de este artículo es diversa. En primer lugar, exponen las brechas existentes en la elección de universidades como un tema relevante, pues los estudiantes de bajos recursos optan por ni siquiera postular a universidades más selectivas, incluso cuando estas suelen ofrecer mayores beneficios para ellos, a comparación de las menos selectivas. Además, muestran que los datos establecen que hay mayores ingresos para egresados de universidades más selectivas. En segundo lugar, se encontró que la beca HAIL influyó sustancialmente en las decisiones de los estudiantes pertenecientes a áreas rurales, pues al estar un poco aislados y contar con menos recursos, eran más propensos a no seguir el proceso de admisión, que suele ser muy extenso. En tercer lugar, se destaca el uso de materiales distintivos y llamativos en las cartas de admisión, así como que se opta por no mencionar el factor económico, solamente se menciona lo relevante respecto a la aplicación al programa.\n",
    "\n",
    "En este artículo, los autores explican que, frente a la presencia de una sobrecarga de información, los cambios que pueden ser aparentemente pequeños en los entornos en los que las personas realizan una serie de toma de decisiones pueden tener consecuencias significativas. En este sentido, las intervenciones destinadas a simplificar o ayudar con el proceso de solicitud y ayuda financiera, como en este caso, pueden lograr generar aumentos muy significativos en la inscripción de los estudiantes, principalmente los de bajos ingresos, así como la persistencia en la universidad. Por el lado opuesto, los autores demostraron que cambiar la opción predeterminada que se presenta a las personas, aunque no se haya cambiado nada sobre las opciones disponibles, influye fuertemente en la elección que estos hacen.\n",
    "\n",
    "Finalmente, es importante tomar en cuenta otros factores de gran relevancia que se desarrollaron, de modo que abarquen de forma más amplia las otras características de los estudiantes de alto rendimiento y bajos ingresos, pues con los resultados se ha demostrado que estas características adicionales ofrecen también diferencias sustanciales en sus decisiones. De esta manera, para avanzar en la pregunta de investigación, se debe ahondar en los factores sociológicos de los estudiantes de bajos ingresos durante el proceso de educación universitaria. Como lo explican Aramburú y Nuñez (2019), los factores afectivos y la falta de integración social al nuevo medio suelen llevar a los estudiantes de bajos ingresos a desertar de las universidades más selectivas. De esta manera, señalan la importancia de mantener un acompañamiento durante el proceso, principalmente al inicio del proceso, de manera que cuenten con cierto respaldo u orientación.\n"
   ]
  },
  {
   "cell_type": "code",
   "execution_count": null,
   "id": "3c4a19f6",
   "metadata": {},
   "outputs": [],
   "source": []
  }
 ],
 "metadata": {
  "kernelspec": {
   "display_name": "Python 3 (ipykernel)",
   "language": "python",
   "name": "python3"
  },
  "language_info": {
   "codemirror_mode": {
    "name": "ipython",
    "version": 3
   },
   "file_extension": ".py",
   "mimetype": "text/x-python",
   "name": "python",
   "nbconvert_exporter": "python",
   "pygments_lexer": "ipython3",
   "version": "3.9.12"
  }
 },
 "nbformat": 4,
 "nbformat_minor": 5
}
