{
 "cells": [
  {
   "cell_type": "markdown",
   "id": "b12b8441",
   "metadata": {},
   "source": [
    "#Reporte3 nombre:Ariana Sato Flores código:20192304"
   ]
  },
  {
   "cell_type": "markdown",
   "id": "c8a8b095",
   "metadata": {},
   "source": [
    "La intención del autor con el artículo presentado,  es la presentación de un modelo macroeconómico que intente reproducir el golpe que tuvo la economía durante la cuarentena, específicamente, con la importancia del sector terciario que es el turismo que implica los hoteles, restaurantes, aerolíneas, etc y el sector de producción de alimentos ,bienes y servicios indispensables para, se vieron afectados por la cuarentena y la falta de consumo trajo consigo una caída del PBI desencadenando una recesión a nivel general. Por último, este modelo macroeconómico también buscará simular los efectos del fin de la cuarentena con las  políticas para que se  siga impidiendo el deterioro de la capacidad productiva y  haya una recuperación de la economía fuertemente golpeada que afecta directamente a la población latinoamericana, teniendo en cuenta que la caída del PBI durante la cuarentena fue una de las más duras.\n",
    "\n",
    " Las fortalezas de este artículo, son claramente el enfoque económico que se brinda sobre la cuarentena. El uso de información de instituciones como la INEI nos muestra una data existente y verídica,  aquello ofrece a los lectores una perspectiva más realista para un mejor entendimiento. Cabe resaltar el esfuerzo del autor por aplicar el uso de método de inversión de Keynes, y demás fórmulas para una mayor comprensión del contexto económico y las afectaciones en la producción y demanda en los sectores mencionados. Además, para la comprensión gráfica de las fórmulas, se describe bien el las derivaciones de la función como por ejemplo, hace mención de la demanda agregada y el ingreso disponible  de los sectores.\n",
    "En el  modelo propuesto, plantea un ejercicio de estática comparativa realista en donde se considere las políticas del estado en respuesta al campo sanitario, pero sin dejar el lado la importancia el aspecto económico. En adición, propone también medidas de alivio fiscal para el estímulo monetario a través de una reducción de la tasa impositiva y la tasa de interés.\n",
    "Si bien, el autor muestra gráficos y seguido las especificaciones y explicaciones de las fórmulas, desde mi punto de vista podría decir que para los lectores no asociados a términos de economía, podría ser un poco dificultoso si no le prestas atención suficiente, pues se requiere de atención para poder seguir la línea explicativa y entender lo que se quiere aplicar para explicar el fenómeno.\n",
    "La investigación del autor ofrece un aporte para un modelo alternativo usando hechos que pasan en la vida real, tal como fue el golpe duro de la pandemia y la cuarentena. Esos hechos necesitan explicaciones y en el enfoque macroeconómico, el autor busca lograr esa explicación con el uso de sectores keynesianos del efecto de la cuarentena en el nivel de producción y nivel de precios. \n",
    " \n",
    "Si bien el autor quiere un modelo macroeconómico que de explicación a la caída de la economía durante la pandemia, también tiene la intención de proponer la recuperación de la economía a través de soluciones con políticas fiscales. Frente a ello, autores como Prieto (1989) coinciden que “los servicios se alimentan de la producción de bienes y ésta de la de servicios. En consecuencia, no podría pensarse en el desarrollo dinámico de una agricultura o de una manufactura competitiva y eficiente -—tanto a nivel doméstico como internacional— al margen de estas nuevas transformaciones que entrelazan tan estrechamente los servicios y los bienes”.\n",
    "Menciona que el uso de las tecnologías puede ayudar a acelerar el ritmo del crecimiento agricultor y aquello puede ser de gran significancia para sobrellevar los impactos de un problema económico.\n",
    "\n"
   ]
  }
 ],
 "metadata": {
  "kernelspec": {
   "display_name": "Python 3 (ipykernel)",
   "language": "python",
   "name": "python3"
  },
  "language_info": {
   "codemirror_mode": {
    "name": "ipython",
    "version": 3
   },
   "file_extension": ".py",
   "mimetype": "text/x-python",
   "name": "python",
   "nbconvert_exporter": "python",
   "pygments_lexer": "ipython3",
   "version": "3.9.12"
  }
 },
 "nbformat": 4,
 "nbformat_minor": 5
}
