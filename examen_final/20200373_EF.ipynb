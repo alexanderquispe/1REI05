{
 "cells": [
  {
   "cell_type": "markdown",
   "id": "6642f5f3",
   "metadata": {},
   "source": [
    "# Examen Final\n",
    "- Estudiante: Roxana Jimena Rodriguez Pilco\n",
    "- Código: 20200373"
   ]
  },
  {
   "cell_type": "markdown",
   "id": "252024ad",
   "metadata": {},
   "source": [
    "## 1. (3 puntos) Instrumental Variables (IV)\n",
    "Suponga que estamos interesados en estudiar la relación entre educación(X) y el nivel de ingresos(Y).\n",
    "Un investigador propone utilizar como variable instrumental(Z) el numero de horas que una persona utilizó para ver televisión cuando era niño."
   ]
  },
  {
   "cell_type": "markdown",
   "id": "a63bdd46",
   "metadata": {},
   "source": [
    "#### 1.1. Identifique todos los elementos necesarios para implementar un enfoque de IV en este ejemplo.\n"
   ]
  },
  {
   "cell_type": "markdown",
   "id": "4341819b",
   "metadata": {},
   "source": [
    "Una variable instrumental no pertenece a la ecuación explicativa, sino que se correlaciona con las variables endógenas y condiciona a las otras variables.\n",
    "Así, el método de la variable instrumental posibilita la estimación del efecto de una variable de interés (para efectos de este caso la variable de interés es EDUCACIÓN) sobre una variable dependiente( para este caso, la VD es NIVEL DE INGRESOS) en base a un instrumento (para efectos de este caso, el instrumento utilizado es NÚMERO DE HORAS QUE UNA PERSONA UTILIZÓ PARA VER TELEVISIÓN CUANDO ERA NIÑO). Este instrumento se convierte en la variable de interés, pero sin presentar el problema de endogeneidad.\n",
    "\n",
    "Para que se pueda implementar un enfoque de IV, una vez que ya se cuenta con un instrumento, una variable independiente y una dependiente, se debe satisfacer principalmente 2 supuestos para llevar a cabo este método: el suspuesto de relevancia y el de validez del instrumento.\n",
    "\n",
    "El supuesto de relevancia posibilita que veamos los supuestos de identificación y uso de variables instrumentales más certeramente, para que de esta manera sepamos que la variable instrumental 'Z' realmente se relaciona  con la variable de tratamiento 'X'. Es así que, se busca que el instrumento Z funcione y de esta manera se evada la endogeneidad 'D'. Cabe destacar que por endonegeneidad se hace referencia a cuando la variable independiente se correlaciona con el de error en una regresión. Así pues, este supuesto evalúa la fortaleza de la relación entre parte de la variable independiente'X' y la variable instrumental 'Z', en otras palabras, evalúa si el instrumento (Z) puede explicar en parte o en su totalidad la variable independiente (X). De modo que, mientras más fuerte sea la relación entre estas 2 variables, el supuesto de relevancia será más confiable y la estimación de una muestra a la otra saltará menos. Para efectos de este caso, se comprobaría el supuesto de relevancia para el instrumento X (número de horas que una persona utilizó para ver televisión cuando era niño) si este se relaciona con la variable independiente X (educación).\n",
    "\n",
    "En segundo lugar, el supuesto de validez es también llamado \"restricción de exclusión\", pues supone que es razonable que la variable instrumental Z pueda excluirse del modelo de la variable independiente cuando la ruta de Z a X sea incluida. Este supuesto consiste en que cualquier ruta entre la variable instrumental Z y la variable dependiente o el resultado Y o bien pasa antes por la variable independiente X o se cierra, de suceder esto, este supuesto es válido. Para que el supuesto de validez se cumpla para el insturmento Z, se necesita el cierre de las rutas Z ← B →Y y Z → A → Y, pues si se controla las variables A y B el supuesto se cumpliría. Para efectos de este caso, es necesario que se compruebe el suspuesto de validez del instrumento Z (número de horas que una persona utilizó para ver televisión cuando era niño). Este se comprobaría si se demuestra que la variable instrumental no tiene puertas abiertas, es decir, que cualquier ruta entre esta y la variable dependiente Y o bien pasa por la variable de tratamiento o sino se ha cerrado, obteniendose una relación causal verdadera entre el tratamiento y el resultado.\n",
    "Por tanto, si el instrumento presentado cumple con los 3 supuestos, se puede implementar el enfoque IV."
   ]
  },
  {
   "cell_type": "markdown",
   "id": "4818f4c5",
   "metadata": {},
   "source": [
    "#### 1.2. Explique el procedimiento para encontrar el efecto causal en este escenario. Puede utilizar ecuaciones\n"
   ]
  },
  {
   "cell_type": "code",
   "execution_count": null,
   "id": "ae9c716a",
   "metadata": {},
   "outputs": [],
   "source": []
  },
  {
   "cell_type": "markdown",
   "id": "43486dea",
   "metadata": {},
   "source": [
    "#### 1.3. ¿El efecto de la educación sobre el nivel de ingresos es positivo o negativo? Argumente si los resultados serian causales o solamente de correlación"
   ]
  },
  {
   "cell_type": "markdown",
   "id": "ac5f71a8",
   "metadata": {},
   "source": [
    "Considero que el efecto de la educación sobre el nivel de ingresos será positivo, porque mientras más educación reciba una persona tendrá acceso a mayores conocimientos que le permitirán desempeñarse en más cosas y ganar más habilidades en el proceso, lo que en consecuencia incrementaria su nivel de ingresos. Además, considero que los resultados obtenidos a partir del enfoque IV donde se toma como un instrumento (Z) a la variable número de horas que una persona utilizó para ver televisión cuando era niño, luego de realizarse una regresión brindará resultados causales no solo que indiquen la existencia de una correlación, pues al utilizarse una variable instrumental se evitan los sesgos y se obtiene un efecto limpio de la variable X sobre Y. De modo que, el uso de este enfoque, permite estimar el efecto de la variable independiente X sobre el resultado Y, sin caer en problemas de endogeneidad, es decir, que se omitiera una variable correlacionada con otras. Es así que, los resultados de este diseño serán causales y limpios."
   ]
  },
  {
   "cell_type": "markdown",
   "id": "dcea8e02",
   "metadata": {},
   "source": [
    "## 2. (3 puntos) Regression Discontinuity Design (RDD)\n",
    "Supongamos que estamos estudiando la eficacia de un programa de becas creado por el gobierno Peruano sobre las notas de los alumnos al final del primer semestre en la universidad. PRONABEC ha decidido que entregará becas a aquellos postulantes que tengan un promedio superior durante la secundaria igual a 16 ."
   ]
  },
  {
   "cell_type": "markdown",
   "id": "3729998e",
   "metadata": {},
   "source": [
    "#### 2.1. Identifique todos los elementos necesarios para implementar un RDD en este ejemplo."
   ]
  },
  {
   "cell_type": "markdown",
   "id": "adcae821",
   "metadata": {},
   "source": [
    "Para implementar un diseño de regresión discontinua, se debe contar con 3 elementos importantes: una variable en ejecución (running variable), un punto de corte o umbral (cut-off) y un ancho de banda (Bandwith). En cuanto a la variable de ejecución, se debe revisar que lo único que cambia alrededor del punto de corte es la probabilidad de ser tratado en base a la variable explicativa en ejecución, las otras variables de la muestra son iguales. Para el punto de corte, este pone un límite que determina si una persona es del grupo tratado o de control, generando una discontinuidad en la implementación del tratamiento. En el caso del ancho de banda, este representa el rango de casos utilizados para medir el impacto de una variable. \n",
    "Contextualizando, la variable de ejecución detrás de este caso propuesto es el promedio de notas de secundaria de los alumnos, a partir de esta variable se buscará hallar el efecto causal del programa de becas en las notas de los alumnos al final del primer semestre de la universidad. Además, el punto de corte es tener 16 de promedio de notas durante la secundaria. Por tanto, lo que determina quién recibe la beca (crédito-subsidio)  de PRONABEC y quién no, es únicamente la regla de obtener un promedio de notas igual o superior a 16 durante la secundaria. Finalmente, con respecto al ancho de banda, el diseño definirá un intervalo de promedios a utilizar que esté por encima o por debajo del punto de corte.\n",
    "\n",
    "Por tanto, este caso propuesto cuenta con los 3 elementos para llevar a cabo una regresión discontinua.\n"
   ]
  },
  {
   "cell_type": "markdown",
   "id": "c58fc1dc",
   "metadata": {},
   "source": [
    "#### 2.2 Explique el procedimiento para encontrar el efecto causal en este escenario. Puede utilizar ecuaciones."
   ]
  },
  {
   "cell_type": "markdown",
   "id": "79ad1e1a",
   "metadata": {},
   "source": [
    "Para encontrar el efecto causal de la intervención (programa de becas) en la variable dependiente (notas de universidad del primer semestre) es necesario definir una variable en ejecución, un punto de corte y un ancho de banda para en base a estos límites y la variable se lleve a cabo el proceso de regresión discontinua. En términos específicos, hallar el impacto causal de la intervención en la VD, implica que se realizará una diferencia de medias en los resultados de la variable de interés para aquellos valores que se encuentren por encima (grupo de tratamiento que contiene a las personas con notas mayores o iguales a 16 en la secundaria) o por debajo (grupo de control que contiene a los postulantes con promedio de notas menor a 16) del punto de corte o umbral. Por lo que,  se estima restando la media del grupo de tratamiento con la media del grupo de control. "
   ]
  },
  {
   "cell_type": "markdown",
   "id": "b55c8bd5",
   "metadata": {},
   "source": [
    "#### 2.3. ¿El efecto de la politica sobre el rendimiento de los estudiantes sería positivo o negativo (solo necesitan usar su intuición)? Argumente si los resultados serian causales o solamente de correlación ."
   ]
  },
  {
   "cell_type": "markdown",
   "id": "fcb138bc",
   "metadata": {},
   "source": [
    "De manera intuitiva, considero que los efectos del programa de becas de Pronabec sobre las notas de los alumnos al final del primer semestre en la universidad será positivo, pues dado que el umbral del RDD es 16, entonces, es evidente que los postulantes a la beca, desde antes de ingresar a la universidad, ya tenían un rendimiento alto o muy alto, por lo que, su desempeño en la universidad considero que no sería tan diferente. Asimismo, los resultados obtenidos a partir de la regresión discontinua, considero que serían causales, pues la regresión discontinua es un diseño cuasi-experimental que nos permite poder realizar inferencias causales en ausencia de aleatorización, es decir, los resultados de esta regresión hacen posible determinar la relación causal de los cambios en la variable en ejecución (promedio de notas) sobre la variable dependiente (promedio de notas de estudiantes universitarios en primer semestre). De modo que, al analizar el efecto causal de la intervención estudiada a partir de la asignación de un valor de corte se produce una discontinuidad entre los 2 grupos de personas que obtienen valores menores o mayores i guales al punto de corte que permite estimar el efecto causal del tratamiento en una variable independiente mediante la resta de la media del grupo de tratamiento con la media del grupo de control. Por tanto, este diseño de regresión puede explotar características exógenas de una intervención (programa de becas) y mostrarnos sus efectos causales en la variable dependiente (notas del primer semestre de universidad de becados)."
   ]
  },
  {
   "cell_type": "markdown",
   "id": "fa6354df",
   "metadata": {},
   "source": [
    "## 3. (3 puntos) Difference in Difference (DiD)\n",
    "Supongamos que estamos interesados ​​en estudiar el impacto de la migración en la tasa de empleo en dos regiones del Perú en 2017-2018. Tenemos datos anuales sobre la tasa de empleo en Lima, que experimentó una afluencia significativa de inmigrantes en 2018, y Puno que no experimentó el ingreso de migrantes (2017 ninguna de las regiones experimentó afluencia de migrantes). Podemos usar un análisis DID para comparar el cambio en las tasas de empleo entre las dos regiones a lo largo del tiempo para ver si la migración tuvo algún efecto."
   ]
  },
  {
   "cell_type": "markdown",
   "id": "5b169a59",
   "metadata": {},
   "source": [
    "#### 3.1. Identifique todos los elementos necesarios para implementar un DiD en este ejemplo."
   ]
  },
  {
   "cell_type": "markdown",
   "id": "7e0a3308",
   "metadata": {},
   "source": [
    "Para poder implementar un método de diferencia en diferencia es recomendable que se utilice un experimento natural que determine las diferencias entre un grupo de control y uno de tratamiento, es decir, al que se le aplicó el experimento y en base a detemrinados años.\n",
    "Además, para implementar este método es necesario que se cumpla el supuesto de tendencias paralelas. Las tendencias paralelas implica que la tendencia del grupo de control y del grupo de tratamiento sean paralelas tanto antes como después de aplicado el tratamiento, de modo que, se pueda comprobar que el tratamiento aplicado no es endógeno, pues solo comprobándose la exogeneidad mediante las tendencias paralelas, se comprueba el supuesto. Cabe resaltar, que el grupo de tratamiento hubiera variado ante la incidencia de un contrafactual incluso sin habersele aplicado este tratamiento. De modo que, este método se aplica teniendo en cuenta el tiempo, ya que se evalúa a las personas a través del tiempo donde un experimento se llevó a cabo, los afectó y puede haber una variación con respecto al tiempo, o simplemente no fueron afectados, pero igualmente hubo una variación con el paso del tiempo. A partir del caso, ya que se cuenta con una base de datos sobre la tasa de desempleo en el periodo de 20717 a 2018\n",
    "En este caso, se cuenta con una base de datos con la tasa de desempleo a lo largo del periodo 2017-2018, se puede comprobar el supuesto de tendencias y al ser un experimento natural se puede ver la variación del tratamiento a través del tiempo. "
   ]
  },
  {
   "cell_type": "markdown",
   "id": "ab7ca444",
   "metadata": {},
   "source": [
    "#### 3.2. Explique el procedimiento para encontrar el efecto causal en este escenario. Puede utilizar ecuaciones."
   ]
  },
  {
   "cell_type": "markdown",
   "id": "d98fd786",
   "metadata": {},
   "source": [
    "El método de diferencias en diferencias es considero como una estrategia de identificación cuasi-experimental temprana para estimar los efectos causales que preceden a un experimento aleatorio en un determinado periodo de tiempo. Para ello, lo que hace es que compara los cambios en el tiempo en la variable de interés cuando no es posible aleatorizar. Precisamente, por este motivo, el DiD trabaja con contrafactuales, es decir, casos con los cuales se pueda contrastar. Así, en este escenario en particular, se busca comparar el impacto de la migración sobre la tasa de empleo tanto en Lima, que recibió una gran cantidad de migrantes entre 2017-2018, como en Puno, región que no experimentó el ingreso de migrantes en tal periodo de tiempo. Para esto, se evaluará el efecto del tratamiento en el grupo de control antes y después del arribo de migrantes, e igualmente con el grupo de tratamiento, esto permitirá observar los cambios en el tiempo en la variable de interés entre el grupo de tratamiento y el grupo de control, trabajándose en el proceso con contrafactuales, pues como se sabe Puno no experimentó el arribo de migrantes. Sin embargo, por medio de este hecho contrafactual, el método de diferencias de diferecnias podrá observar si el impacto de la migración en el empleo observado en Lima también se habría generado en Puno, en caso esta región también hubiera recibido migrantes, y así determinar si hay una relación de causalidad entre la llegada de migrantes y la tasa de desempleo\n",
    "\n",
    "Este metodo es una estrategia de identificación cuasi experimental para estimar los efectos causales de un experimento aleatorio en un periodo en el tiempo. Para esto, se compara la diferencia en el tiempo de la variable de interés en ausencia de aleatoriedad. Para esto primero se hace una diferencia entre los efectos de la variable de interés antes y después de un periodo de tiempo en el grupo de control que no recibió tratamiento y luego se hace una diferencia entre el efecto de la variable de interés en un determinado periodo de tiempo en el grupo de tratamiento que fue afectado por el experimento natural, para finalmente realizar una diferencia grande entre la variación de ambos grupos. De modo que se busca comparar el impacto de la migración sobre la tasa de empleo tanto en Lima, que recibió gran cantidad de migrantes entre 2017-2018, como en Puno que no recibió y se compara la diferencia en puno que es el grupo de control del efecto de migrantes y luego el efecto para lima de la migracion en ambos en el periodo de 2018 y luego 2017, poara finalmente restar el efecto de la migración en ambos grupos, obteniendose resultados causales del impacto d ela migración."
   ]
  },
  {
   "cell_type": "markdown",
   "id": "86373c61",
   "metadata": {},
   "source": [
    "#### 3.3. ¿El efecto de la migración sobre la tasa de empleo sería positivo o negativo (solo necesitan usar su intuición)? Argumente si los resultados serian causales o solamente de correlación ."
   ]
  },
  {
   "cell_type": "markdown",
   "id": "1e32360a",
   "metadata": {},
   "source": []
  },
  {
   "cell_type": "markdown",
   "id": "7466bfdf",
   "metadata": {},
   "source": [
    "## 4. (3 puntos) Lecturas"
   ]
  },
  {
   "cell_type": "markdown",
   "id": "02cca65b",
   "metadata": {},
   "source": [
    "#### 4.1) Bell, A., Chetty, R., Jaravel, X., Petkova, N., & Van Reenen, J. (2019). Who becomes an inventor in America? The importance of exposure to innovation. The Quarterly Journal of Economics, 134(2), 647-713., ¿Cuáles son las debilidades del enfoque del paper para responder su pregunta de investigación?"
   ]
  },
  {
   "cell_type": "markdown",
   "id": "6e5adac2",
   "metadata": {},
   "source": [
    "#### 4.2) Dell, M. (2010). The persistent effects of Peru's mining mita. Econometrica, 78(6), 1863-1903, ¿Cuáles serían dos próximos pasos específicos para avanzar en su pregunta de investigación?"
   ]
  },
  {
   "cell_type": "markdown",
   "id": "aa1e5908",
   "metadata": {},
   "source": [
    "Este estudio emplea un enfoque de regresión discontinua (RD) para analizar los efectos a largo plazo de la mita minera en el desarrollo económico de ciertos distritos en Perú y Bolivia. Además, la pregunta de investigación es: ¿Cuáles son los efectos a largo plazo de la mita minera en el desarrollo económico actual de los distritos de Perú y Bolivia donde se aplicó este sistema de trabajo forzado? Ante esta pregunta, los investigadores identifican que la tenencia de la tierra, los bienes públicos y la participación en el mercado son tres canales mediante los cuales la mita tiene un efecto a largo plazo persistente en el desarrollo económico actual de dichos distritos.\n",
    "\n",
    "Por consiguiente, para avanzar en esta pregunta de investigación, de antemano la autora recomienda un primer paso específico, el cual es realizar más modelos generales sobre la evolución de instituciones históricas en base a investigaciones empíricas que muestren como estas cambian a partir de fuerzas externas. Asimismo, un segundo paso a seguir sería profundizar en el efecto de la mita minera en el desarrollo económico de Bolivia, pues el presente estudio no se centró mucho en esta zona e igualmente también se debería estudiar el efecto de la mita en otras zonas de América Latina donde este sistema de trabajo forzado fue aplicado. De manera que se pueda corroborar si los efectos también fueron a largo plazo en estas zonas y similares o contrastantes con respecto a los resultados encontrados para el caso peruano. Por ejemplo, Quezada (1996) establece que la aplicación de la mita durante la colonia originó el estancamiento de la economía boliviana durante el siglo XIX, pues ocasionó que la inserción de dicha economía al mercado mundial fuera difícil y en condiciones competitivas desventajosas con respecto a otros países. Asimismo, el autor presume que, dado que la mita tiene un efecto a largo plazo, este continuaría limitando a futuro el desarrollo agropecuario y económico del país. Por tal motivo, es de suma importancia que se continúe investigando los efectos de esta institución histórica en la región latinoamericana para los años siguientes al siglo 19, tal como se estudió el caso peruano.\n",
    "\n",
    "- BIBLIOGRAFÍA\n",
    "\n",
    "Quezada,O. (1996). La mita como forma de organización y explotación del factor trabajo [Tesis doctoral,Universidad Mayor de San Andrés].Repositorio institucional de la Universidad Mayor de San Andrés.http://repositorio.umsa.bo/xmlui/handle/123456789/25145"
   ]
  },
  {
   "cell_type": "markdown",
   "id": "f660efff",
   "metadata": {},
   "source": [
    "## 5. (4 puntos) Código"
   ]
  },
  {
   "cell_type": "code",
   "execution_count": 1,
   "id": "be6c2e9f",
   "metadata": {},
   "outputs": [],
   "source": [
    "from causalgraphicalmodels import CausalGraphicalModel\n",
    "import matplotlib.pyplot as plt\n",
    "import os\n",
    "import numpy as np \n",
    "import pandas as pd \n",
    "import statsmodels.api as sm \n",
    "import statsmodels.formula.api as smf \n",
    "from itertools import combinations \n",
    "import plotnine as p\n",
    "import statsmodels.api as sm\n",
    "import statsmodels.formula.api as smf\n",
    "import linearmodels.iv.model as lm\n",
    "from linearmodels.iv import IV2SLS\n",
    "from statsmodels.iolib.summary2 import summary_col\n",
    "import seaborn as sns"
   ]
  },
  {
   "cell_type": "markdown",
   "id": "56e0bdac",
   "metadata": {},
   "source": [
    "### Ploteo de Histogramas"
   ]
  },
  {
   "cell_type": "markdown",
   "id": "14e979b7",
   "metadata": {},
   "source": [
    "Tienen que trabajar con la misma data de educacion que utilicé en la clase_11. En este documento encontrarán una descripción detallada de todas las variables en el dataset.Además se debe tomar en cuenta que la variable nearc2 representa si existe un college en el county para realizar los siguientes ploteos de histogramas."
   ]
  },
  {
   "cell_type": "code",
   "execution_count": 16,
   "id": "fa4dd261",
   "metadata": {},
   "outputs": [
    {
     "data": {
      "text/html": [
       "<div>\n",
       "<style scoped>\n",
       "    .dataframe tbody tr th:only-of-type {\n",
       "        vertical-align: middle;\n",
       "    }\n",
       "\n",
       "    .dataframe tbody tr th {\n",
       "        vertical-align: top;\n",
       "    }\n",
       "\n",
       "    .dataframe thead th {\n",
       "        text-align: right;\n",
       "    }\n",
       "</style>\n",
       "<table border=\"1\" class=\"dataframe\">\n",
       "  <thead>\n",
       "    <tr style=\"text-align: right;\">\n",
       "      <th></th>\n",
       "      <th>id</th>\n",
       "      <th>nearc2</th>\n",
       "      <th>nearc4</th>\n",
       "      <th>educ</th>\n",
       "      <th>age</th>\n",
       "      <th>fatheduc</th>\n",
       "      <th>motheduc</th>\n",
       "      <th>weight</th>\n",
       "      <th>momdad14</th>\n",
       "      <th>sinmom14</th>\n",
       "      <th>...</th>\n",
       "      <th>KWW</th>\n",
       "      <th>IQ</th>\n",
       "      <th>married</th>\n",
       "      <th>libcrd14</th>\n",
       "      <th>exper</th>\n",
       "      <th>lwage</th>\n",
       "      <th>expersq</th>\n",
       "      <th>u_lwage</th>\n",
       "      <th>lwage_hat</th>\n",
       "      <th>u_educ</th>\n",
       "    </tr>\n",
       "  </thead>\n",
       "  <tbody>\n",
       "    <tr>\n",
       "      <th>0</th>\n",
       "      <td>2.0</td>\n",
       "      <td>0.0</td>\n",
       "      <td>0.0</td>\n",
       "      <td>7.0</td>\n",
       "      <td>29.0</td>\n",
       "      <td>NaN</td>\n",
       "      <td>NaN</td>\n",
       "      <td>158413.0</td>\n",
       "      <td>1.0</td>\n",
       "      <td>0.0</td>\n",
       "      <td>...</td>\n",
       "      <td>15.0</td>\n",
       "      <td>NaN</td>\n",
       "      <td>1.0</td>\n",
       "      <td>0.0</td>\n",
       "      <td>16.0</td>\n",
       "      <td>6.306275</td>\n",
       "      <td>256.0</td>\n",
       "      <td>0.198047</td>\n",
       "      <td>6.108228</td>\n",
       "      <td>-3.067539</td>\n",
       "    </tr>\n",
       "    <tr>\n",
       "      <th>1</th>\n",
       "      <td>3.0</td>\n",
       "      <td>0.0</td>\n",
       "      <td>0.0</td>\n",
       "      <td>12.0</td>\n",
       "      <td>27.0</td>\n",
       "      <td>8.0</td>\n",
       "      <td>8.0</td>\n",
       "      <td>380166.0</td>\n",
       "      <td>1.0</td>\n",
       "      <td>0.0</td>\n",
       "      <td>...</td>\n",
       "      <td>35.0</td>\n",
       "      <td>93.0</td>\n",
       "      <td>1.0</td>\n",
       "      <td>1.0</td>\n",
       "      <td>9.0</td>\n",
       "      <td>6.175867</td>\n",
       "      <td>81.0</td>\n",
       "      <td>-0.211160</td>\n",
       "      <td>6.387027</td>\n",
       "      <td>-1.727562</td>\n",
       "    </tr>\n",
       "    <tr>\n",
       "      <th>2</th>\n",
       "      <td>4.0</td>\n",
       "      <td>0.0</td>\n",
       "      <td>0.0</td>\n",
       "      <td>12.0</td>\n",
       "      <td>34.0</td>\n",
       "      <td>14.0</td>\n",
       "      <td>12.0</td>\n",
       "      <td>367470.0</td>\n",
       "      <td>1.0</td>\n",
       "      <td>0.0</td>\n",
       "      <td>...</td>\n",
       "      <td>42.0</td>\n",
       "      <td>103.0</td>\n",
       "      <td>1.0</td>\n",
       "      <td>1.0</td>\n",
       "      <td>16.0</td>\n",
       "      <td>6.580639</td>\n",
       "      <td>256.0</td>\n",
       "      <td>0.204719</td>\n",
       "      <td>6.375920</td>\n",
       "      <td>1.012975</td>\n",
       "    </tr>\n",
       "    <tr>\n",
       "      <th>3</th>\n",
       "      <td>5.0</td>\n",
       "      <td>1.0</td>\n",
       "      <td>1.0</td>\n",
       "      <td>11.0</td>\n",
       "      <td>27.0</td>\n",
       "      <td>11.0</td>\n",
       "      <td>12.0</td>\n",
       "      <td>380166.0</td>\n",
       "      <td>1.0</td>\n",
       "      <td>0.0</td>\n",
       "      <td>...</td>\n",
       "      <td>25.0</td>\n",
       "      <td>88.0</td>\n",
       "      <td>1.0</td>\n",
       "      <td>1.0</td>\n",
       "      <td>10.0</td>\n",
       "      <td>5.521461</td>\n",
       "      <td>100.0</td>\n",
       "      <td>-0.967905</td>\n",
       "      <td>6.489366</td>\n",
       "      <td>-2.253536</td>\n",
       "    </tr>\n",
       "    <tr>\n",
       "      <th>4</th>\n",
       "      <td>6.0</td>\n",
       "      <td>1.0</td>\n",
       "      <td>1.0</td>\n",
       "      <td>12.0</td>\n",
       "      <td>34.0</td>\n",
       "      <td>8.0</td>\n",
       "      <td>7.0</td>\n",
       "      <td>367470.0</td>\n",
       "      <td>1.0</td>\n",
       "      <td>0.0</td>\n",
       "      <td>...</td>\n",
       "      <td>34.0</td>\n",
       "      <td>108.0</td>\n",
       "      <td>1.0</td>\n",
       "      <td>0.0</td>\n",
       "      <td>16.0</td>\n",
       "      <td>6.591674</td>\n",
       "      <td>256.0</td>\n",
       "      <td>0.125173</td>\n",
       "      <td>6.466501</td>\n",
       "      <td>1.090437</td>\n",
       "    </tr>\n",
       "    <tr>\n",
       "      <th>5</th>\n",
       "      <td>7.0</td>\n",
       "      <td>1.0</td>\n",
       "      <td>1.0</td>\n",
       "      <td>12.0</td>\n",
       "      <td>26.0</td>\n",
       "      <td>9.0</td>\n",
       "      <td>12.0</td>\n",
       "      <td>380166.0</td>\n",
       "      <td>1.0</td>\n",
       "      <td>0.0</td>\n",
       "      <td>...</td>\n",
       "      <td>38.0</td>\n",
       "      <td>85.0</td>\n",
       "      <td>1.0</td>\n",
       "      <td>1.0</td>\n",
       "      <td>8.0</td>\n",
       "      <td>6.214608</td>\n",
       "      <td>64.0</td>\n",
       "      <td>-0.246795</td>\n",
       "      <td>6.461403</td>\n",
       "      <td>-2.048351</td>\n",
       "    </tr>\n",
       "    <tr>\n",
       "      <th>6</th>\n",
       "      <td>8.0</td>\n",
       "      <td>1.0</td>\n",
       "      <td>1.0</td>\n",
       "      <td>18.0</td>\n",
       "      <td>33.0</td>\n",
       "      <td>14.0</td>\n",
       "      <td>14.0</td>\n",
       "      <td>367470.0</td>\n",
       "      <td>1.0</td>\n",
       "      <td>0.0</td>\n",
       "      <td>...</td>\n",
       "      <td>41.0</td>\n",
       "      <td>119.0</td>\n",
       "      <td>1.0</td>\n",
       "      <td>1.0</td>\n",
       "      <td>9.0</td>\n",
       "      <td>6.336826</td>\n",
       "      <td>81.0</td>\n",
       "      <td>-0.140783</td>\n",
       "      <td>6.477609</td>\n",
       "      <td>4.349900</td>\n",
       "    </tr>\n",
       "    <tr>\n",
       "      <th>7</th>\n",
       "      <td>9.0</td>\n",
       "      <td>1.0</td>\n",
       "      <td>1.0</td>\n",
       "      <td>14.0</td>\n",
       "      <td>29.0</td>\n",
       "      <td>14.0</td>\n",
       "      <td>14.0</td>\n",
       "      <td>496635.0</td>\n",
       "      <td>1.0</td>\n",
       "      <td>0.0</td>\n",
       "      <td>...</td>\n",
       "      <td>46.0</td>\n",
       "      <td>108.0</td>\n",
       "      <td>1.0</td>\n",
       "      <td>1.0</td>\n",
       "      <td>9.0</td>\n",
       "      <td>6.410175</td>\n",
       "      <td>81.0</td>\n",
       "      <td>-0.067434</td>\n",
       "      <td>6.477609</td>\n",
       "      <td>0.349900</td>\n",
       "    </tr>\n",
       "    <tr>\n",
       "      <th>8</th>\n",
       "      <td>10.0</td>\n",
       "      <td>1.0</td>\n",
       "      <td>1.0</td>\n",
       "      <td>12.0</td>\n",
       "      <td>28.0</td>\n",
       "      <td>12.0</td>\n",
       "      <td>12.0</td>\n",
       "      <td>367772.0</td>\n",
       "      <td>1.0</td>\n",
       "      <td>0.0</td>\n",
       "      <td>...</td>\n",
       "      <td>32.0</td>\n",
       "      <td>96.0</td>\n",
       "      <td>4.0</td>\n",
       "      <td>0.0</td>\n",
       "      <td>10.0</td>\n",
       "      <td>6.052089</td>\n",
       "      <td>100.0</td>\n",
       "      <td>-0.437277</td>\n",
       "      <td>6.489366</td>\n",
       "      <td>-1.253536</td>\n",
       "    </tr>\n",
       "    <tr>\n",
       "      <th>9</th>\n",
       "      <td>11.0</td>\n",
       "      <td>1.0</td>\n",
       "      <td>1.0</td>\n",
       "      <td>12.0</td>\n",
       "      <td>29.0</td>\n",
       "      <td>12.0</td>\n",
       "      <td>12.0</td>\n",
       "      <td>480445.0</td>\n",
       "      <td>1.0</td>\n",
       "      <td>0.0</td>\n",
       "      <td>...</td>\n",
       "      <td>34.0</td>\n",
       "      <td>97.0</td>\n",
       "      <td>1.0</td>\n",
       "      <td>1.0</td>\n",
       "      <td>11.0</td>\n",
       "      <td>6.244167</td>\n",
       "      <td>121.0</td>\n",
       "      <td>-0.252509</td>\n",
       "      <td>6.496676</td>\n",
       "      <td>-0.858659</td>\n",
       "    </tr>\n",
       "    <tr>\n",
       "      <th>10</th>\n",
       "      <td>12.0</td>\n",
       "      <td>1.0</td>\n",
       "      <td>1.0</td>\n",
       "      <td>9.0</td>\n",
       "      <td>28.0</td>\n",
       "      <td>11.0</td>\n",
       "      <td>12.0</td>\n",
       "      <td>380166.0</td>\n",
       "      <td>1.0</td>\n",
       "      <td>0.0</td>\n",
       "      <td>...</td>\n",
       "      <td>29.0</td>\n",
       "      <td>84.0</td>\n",
       "      <td>1.0</td>\n",
       "      <td>0.0</td>\n",
       "      <td>13.0</td>\n",
       "      <td>5.416101</td>\n",
       "      <td>169.0</td>\n",
       "      <td>-1.123979</td>\n",
       "      <td>6.540080</td>\n",
       "      <td>-3.340746</td>\n",
       "    </tr>\n",
       "    <tr>\n",
       "      <th>11</th>\n",
       "      <td>13.0</td>\n",
       "      <td>1.0</td>\n",
       "      <td>1.0</td>\n",
       "      <td>12.0</td>\n",
       "      <td>26.0</td>\n",
       "      <td>11.0</td>\n",
       "      <td>6.0</td>\n",
       "      <td>380166.0</td>\n",
       "      <td>1.0</td>\n",
       "      <td>0.0</td>\n",
       "      <td>...</td>\n",
       "      <td>34.0</td>\n",
       "      <td>89.0</td>\n",
       "      <td>1.0</td>\n",
       "      <td>1.0</td>\n",
       "      <td>8.0</td>\n",
       "      <td>5.991465</td>\n",
       "      <td>64.0</td>\n",
       "      <td>-0.469938</td>\n",
       "      <td>6.461403</td>\n",
       "      <td>-2.048351</td>\n",
       "    </tr>\n",
       "    <tr>\n",
       "      <th>12</th>\n",
       "      <td>14.0</td>\n",
       "      <td>1.0</td>\n",
       "      <td>1.0</td>\n",
       "      <td>11.0</td>\n",
       "      <td>24.0</td>\n",
       "      <td>11.0</td>\n",
       "      <td>6.0</td>\n",
       "      <td>369567.0</td>\n",
       "      <td>1.0</td>\n",
       "      <td>0.0</td>\n",
       "      <td>...</td>\n",
       "      <td>22.0</td>\n",
       "      <td>93.0</td>\n",
       "      <td>1.0</td>\n",
       "      <td>1.0</td>\n",
       "      <td>7.0</td>\n",
       "      <td>6.033086</td>\n",
       "      <td>49.0</td>\n",
       "      <td>-0.407663</td>\n",
       "      <td>6.440749</td>\n",
       "      <td>-3.448287</td>\n",
       "    </tr>\n",
       "    <tr>\n",
       "      <th>13</th>\n",
       "      <td>15.0</td>\n",
       "      <td>1.0</td>\n",
       "      <td>1.0</td>\n",
       "      <td>11.0</td>\n",
       "      <td>30.0</td>\n",
       "      <td>11.0</td>\n",
       "      <td>6.0</td>\n",
       "      <td>496635.0</td>\n",
       "      <td>1.0</td>\n",
       "      <td>0.0</td>\n",
       "      <td>...</td>\n",
       "      <td>27.0</td>\n",
       "      <td>74.0</td>\n",
       "      <td>1.0</td>\n",
       "      <td>0.0</td>\n",
       "      <td>13.0</td>\n",
       "      <td>5.379897</td>\n",
       "      <td>169.0</td>\n",
       "      <td>-1.118053</td>\n",
       "      <td>6.497950</td>\n",
       "      <td>-1.073962</td>\n",
       "    </tr>\n",
       "    <tr>\n",
       "      <th>14</th>\n",
       "      <td>16.0</td>\n",
       "      <td>1.0</td>\n",
       "      <td>1.0</td>\n",
       "      <td>16.0</td>\n",
       "      <td>31.0</td>\n",
       "      <td>NaN</td>\n",
       "      <td>8.0</td>\n",
       "      <td>648053.0</td>\n",
       "      <td>0.0</td>\n",
       "      <td>1.0</td>\n",
       "      <td>...</td>\n",
       "      <td>43.0</td>\n",
       "      <td>116.0</td>\n",
       "      <td>1.0</td>\n",
       "      <td>1.0</td>\n",
       "      <td>9.0</td>\n",
       "      <td>6.795706</td>\n",
       "      <td>81.0</td>\n",
       "      <td>0.585789</td>\n",
       "      <td>6.209917</td>\n",
       "      <td>3.269385</td>\n",
       "    </tr>\n",
       "    <tr>\n",
       "      <th>15</th>\n",
       "      <td>17.0</td>\n",
       "      <td>1.0</td>\n",
       "      <td>1.0</td>\n",
       "      <td>14.0</td>\n",
       "      <td>24.0</td>\n",
       "      <td>15.0</td>\n",
       "      <td>12.0</td>\n",
       "      <td>357519.0</td>\n",
       "      <td>1.0</td>\n",
       "      <td>0.0</td>\n",
       "      <td>...</td>\n",
       "      <td>36.0</td>\n",
       "      <td>NaN</td>\n",
       "      <td>6.0</td>\n",
       "      <td>1.0</td>\n",
       "      <td>4.0</td>\n",
       "      <td>5.703783</td>\n",
       "      <td>16.0</td>\n",
       "      <td>-0.648316</td>\n",
       "      <td>6.352098</td>\n",
       "      <td>-1.658213</td>\n",
       "    </tr>\n",
       "    <tr>\n",
       "      <th>16</th>\n",
       "      <td>19.0</td>\n",
       "      <td>1.0</td>\n",
       "      <td>1.0</td>\n",
       "      <td>12.0</td>\n",
       "      <td>34.0</td>\n",
       "      <td>12.0</td>\n",
       "      <td>8.0</td>\n",
       "      <td>367470.0</td>\n",
       "      <td>1.0</td>\n",
       "      <td>0.0</td>\n",
       "      <td>...</td>\n",
       "      <td>40.0</td>\n",
       "      <td>93.0</td>\n",
       "      <td>1.0</td>\n",
       "      <td>1.0</td>\n",
       "      <td>16.0</td>\n",
       "      <td>5.846439</td>\n",
       "      <td>256.0</td>\n",
       "      <td>-0.620062</td>\n",
       "      <td>6.466501</td>\n",
       "      <td>1.090437</td>\n",
       "    </tr>\n",
       "    <tr>\n",
       "      <th>17</th>\n",
       "      <td>20.0</td>\n",
       "      <td>1.0</td>\n",
       "      <td>1.0</td>\n",
       "      <td>14.0</td>\n",
       "      <td>29.0</td>\n",
       "      <td>NaN</td>\n",
       "      <td>12.0</td>\n",
       "      <td>496635.0</td>\n",
       "      <td>0.0</td>\n",
       "      <td>1.0</td>\n",
       "      <td>...</td>\n",
       "      <td>35.0</td>\n",
       "      <td>100.0</td>\n",
       "      <td>1.0</td>\n",
       "      <td>1.0</td>\n",
       "      <td>9.0</td>\n",
       "      <td>6.489205</td>\n",
       "      <td>81.0</td>\n",
       "      <td>0.011596</td>\n",
       "      <td>6.477609</td>\n",
       "      <td>0.349900</td>\n",
       "    </tr>\n",
       "    <tr>\n",
       "      <th>18</th>\n",
       "      <td>22.0</td>\n",
       "      <td>1.0</td>\n",
       "      <td>1.0</td>\n",
       "      <td>10.0</td>\n",
       "      <td>26.0</td>\n",
       "      <td>8.0</td>\n",
       "      <td>8.0</td>\n",
       "      <td>367772.0</td>\n",
       "      <td>1.0</td>\n",
       "      <td>0.0</td>\n",
       "      <td>...</td>\n",
       "      <td>24.0</td>\n",
       "      <td>91.0</td>\n",
       "      <td>6.0</td>\n",
       "      <td>0.0</td>\n",
       "      <td>10.0</td>\n",
       "      <td>6.354370</td>\n",
       "      <td>100.0</td>\n",
       "      <td>-0.134996</td>\n",
       "      <td>6.489366</td>\n",
       "      <td>-3.253536</td>\n",
       "    </tr>\n",
       "    <tr>\n",
       "      <th>19</th>\n",
       "      <td>25.0</td>\n",
       "      <td>1.0</td>\n",
       "      <td>1.0</td>\n",
       "      <td>12.0</td>\n",
       "      <td>32.0</td>\n",
       "      <td>8.0</td>\n",
       "      <td>8.0</td>\n",
       "      <td>355491.0</td>\n",
       "      <td>1.0</td>\n",
       "      <td>0.0</td>\n",
       "      <td>...</td>\n",
       "      <td>35.0</td>\n",
       "      <td>88.0</td>\n",
       "      <td>1.0</td>\n",
       "      <td>0.0</td>\n",
       "      <td>14.0</td>\n",
       "      <td>6.475433</td>\n",
       "      <td>196.0</td>\n",
       "      <td>-0.016483</td>\n",
       "      <td>6.491915</td>\n",
       "      <td>0.315857</td>\n",
       "    </tr>\n",
       "  </tbody>\n",
       "</table>\n",
       "<p>20 rows × 37 columns</p>\n",
       "</div>"
      ],
      "text/plain": [
       "      id  nearc2  nearc4  educ   age  fatheduc  motheduc    weight  momdad14  \\\n",
       "0    2.0     0.0     0.0   7.0  29.0       NaN       NaN  158413.0       1.0   \n",
       "1    3.0     0.0     0.0  12.0  27.0       8.0       8.0  380166.0       1.0   \n",
       "2    4.0     0.0     0.0  12.0  34.0      14.0      12.0  367470.0       1.0   \n",
       "3    5.0     1.0     1.0  11.0  27.0      11.0      12.0  380166.0       1.0   \n",
       "4    6.0     1.0     1.0  12.0  34.0       8.0       7.0  367470.0       1.0   \n",
       "5    7.0     1.0     1.0  12.0  26.0       9.0      12.0  380166.0       1.0   \n",
       "6    8.0     1.0     1.0  18.0  33.0      14.0      14.0  367470.0       1.0   \n",
       "7    9.0     1.0     1.0  14.0  29.0      14.0      14.0  496635.0       1.0   \n",
       "8   10.0     1.0     1.0  12.0  28.0      12.0      12.0  367772.0       1.0   \n",
       "9   11.0     1.0     1.0  12.0  29.0      12.0      12.0  480445.0       1.0   \n",
       "10  12.0     1.0     1.0   9.0  28.0      11.0      12.0  380166.0       1.0   \n",
       "11  13.0     1.0     1.0  12.0  26.0      11.0       6.0  380166.0       1.0   \n",
       "12  14.0     1.0     1.0  11.0  24.0      11.0       6.0  369567.0       1.0   \n",
       "13  15.0     1.0     1.0  11.0  30.0      11.0       6.0  496635.0       1.0   \n",
       "14  16.0     1.0     1.0  16.0  31.0       NaN       8.0  648053.0       0.0   \n",
       "15  17.0     1.0     1.0  14.0  24.0      15.0      12.0  357519.0       1.0   \n",
       "16  19.0     1.0     1.0  12.0  34.0      12.0       8.0  367470.0       1.0   \n",
       "17  20.0     1.0     1.0  14.0  29.0       NaN      12.0  496635.0       0.0   \n",
       "18  22.0     1.0     1.0  10.0  26.0       8.0       8.0  367772.0       1.0   \n",
       "19  25.0     1.0     1.0  12.0  32.0       8.0       8.0  355491.0       1.0   \n",
       "\n",
       "    sinmom14  ...   KWW     IQ  married  libcrd14  exper     lwage  expersq  \\\n",
       "0        0.0  ...  15.0    NaN      1.0       0.0   16.0  6.306275    256.0   \n",
       "1        0.0  ...  35.0   93.0      1.0       1.0    9.0  6.175867     81.0   \n",
       "2        0.0  ...  42.0  103.0      1.0       1.0   16.0  6.580639    256.0   \n",
       "3        0.0  ...  25.0   88.0      1.0       1.0   10.0  5.521461    100.0   \n",
       "4        0.0  ...  34.0  108.0      1.0       0.0   16.0  6.591674    256.0   \n",
       "5        0.0  ...  38.0   85.0      1.0       1.0    8.0  6.214608     64.0   \n",
       "6        0.0  ...  41.0  119.0      1.0       1.0    9.0  6.336826     81.0   \n",
       "7        0.0  ...  46.0  108.0      1.0       1.0    9.0  6.410175     81.0   \n",
       "8        0.0  ...  32.0   96.0      4.0       0.0   10.0  6.052089    100.0   \n",
       "9        0.0  ...  34.0   97.0      1.0       1.0   11.0  6.244167    121.0   \n",
       "10       0.0  ...  29.0   84.0      1.0       0.0   13.0  5.416101    169.0   \n",
       "11       0.0  ...  34.0   89.0      1.0       1.0    8.0  5.991465     64.0   \n",
       "12       0.0  ...  22.0   93.0      1.0       1.0    7.0  6.033086     49.0   \n",
       "13       0.0  ...  27.0   74.0      1.0       0.0   13.0  5.379897    169.0   \n",
       "14       1.0  ...  43.0  116.0      1.0       1.0    9.0  6.795706     81.0   \n",
       "15       0.0  ...  36.0    NaN      6.0       1.0    4.0  5.703783     16.0   \n",
       "16       0.0  ...  40.0   93.0      1.0       1.0   16.0  5.846439    256.0   \n",
       "17       1.0  ...  35.0  100.0      1.0       1.0    9.0  6.489205     81.0   \n",
       "18       0.0  ...  24.0   91.0      6.0       0.0   10.0  6.354370    100.0   \n",
       "19       0.0  ...  35.0   88.0      1.0       0.0   14.0  6.475433    196.0   \n",
       "\n",
       "     u_lwage  lwage_hat    u_educ  \n",
       "0   0.198047   6.108228 -3.067539  \n",
       "1  -0.211160   6.387027 -1.727562  \n",
       "2   0.204719   6.375920  1.012975  \n",
       "3  -0.967905   6.489366 -2.253536  \n",
       "4   0.125173   6.466501  1.090437  \n",
       "5  -0.246795   6.461403 -2.048351  \n",
       "6  -0.140783   6.477609  4.349900  \n",
       "7  -0.067434   6.477609  0.349900  \n",
       "8  -0.437277   6.489366 -1.253536  \n",
       "9  -0.252509   6.496676 -0.858659  \n",
       "10 -1.123979   6.540080 -3.340746  \n",
       "11 -0.469938   6.461403 -2.048351  \n",
       "12 -0.407663   6.440749 -3.448287  \n",
       "13 -1.118053   6.497950 -1.073962  \n",
       "14  0.585789   6.209917  3.269385  \n",
       "15 -0.648316   6.352098 -1.658213  \n",
       "16 -0.620062   6.466501  1.090437  \n",
       "17  0.011596   6.477609  0.349900  \n",
       "18 -0.134996   6.489366 -3.253536  \n",
       "19 -0.016483   6.491915  0.315857  \n",
       "\n",
       "[20 rows x 37 columns]"
      ]
     },
     "execution_count": 16,
     "metadata": {},
     "output_type": "execute_result"
    }
   ],
   "source": [
    "# se carga la data\n",
    "import ssl\n",
    "ssl._create_default_https_context = ssl._create_unverified_context\n",
    "\n",
    "def read_data(file): \n",
    "    return pd.read_stata(\"https://raw.github.com/scunning1975/mixtape/master/\" + file)\n",
    "\n",
    "card = read_data(\"card.dta\")\n",
    "card.head(20)"
   ]
  },
  {
   "cell_type": "markdown",
   "id": "48eb0d28",
   "metadata": {},
   "source": [
    "#### 5.1) Grafique dos histogramas para la variable años de educación \"educ\" para cuando nearc2 == 1, y cuando nearc2 == 0. Compare y describa los patrones que encuentra."
   ]
  },
  {
   "cell_type": "markdown",
   "id": "583c22eb",
   "metadata": {},
   "source": [
    "- Histogramas separados de la variable educ (años de eduación) a partir de la variable nearc2 (si no existe (0) o existe (1) un college en el condado)"
   ]
  },
  {
   "cell_type": "code",
   "execution_count": 3,
   "id": "ae27d54d",
   "metadata": {},
   "outputs": [
    {
     "data": {
      "text/plain": [
       "<seaborn.axisgrid.FacetGrid at 0x212061ae370>"
      ]
     },
     "execution_count": 3,
     "metadata": {},
     "output_type": "execute_result"
    },
    {
     "data": {
      "image/png": "[encoded data removed]",
      "text/plain": [
       "<Figure size 720x360 with 2 Axes>"
      ]
     },
     "metadata": {
      "needs_background": "light"
     },
     "output_type": "display_data"
    }
   ],
   "source": [
    "sns.displot(card, x=\"educ\", col=\"nearc2\", color='purple') "
   ]
  },
  {
   "cell_type": "markdown",
   "id": "00cdfdc7",
   "metadata": {},
   "source": [
    "- Histogramas traslapados"
   ]
  },
  {
   "cell_type": "code",
   "execution_count": 5,
   "id": "999c8e76",
   "metadata": {},
   "outputs": [
    {
     "data": {
      "text/plain": [
       "Text(8.557222222222222, 0.5, 'Frecuencia')"
      ]
     },
     "execution_count": 5,
     "metadata": {},
     "output_type": "execute_result"
    },
    {
     "data": {
      "image/png": "[encoded data removed]",
      "text/plain": [
       "<Figure size 412x360 with 1 Axes>"
      ]
     },
     "metadata": {
      "needs_background": "light"
     },
     "output_type": "display_data"
    }
   ],
   "source": [
    "sns.displot(card, x=\"educ\", hue=\"nearc2\")  \n",
    "plt.title(\"Histograma de distribución de los años de educación\", fontsize=16)\n",
    "plt.xlabel(\"Años de educación\", fontsize=13)\n",
    "plt.ylabel(\"Frecuencia\", fontsize=13)"
   ]
  },
  {
   "cell_type": "markdown",
   "id": "ef69d9a9",
   "metadata": {},
   "source": [
    "A partir de los histogramas, por un lado se puede analizar que la la proximidad de una institución de educación superior se correlaciona con el aumento de años de educación de manera inversa. Incluso, se podría decir que la presencia de universidades (colleges) de 2 años en el condado de la población que conforma la muestra aumenta la posibilidad de asistir a la universidad y obtener estudios superiores. Por otro lado, la ausencia de una institución de educación superior de 2 años cercana al condado no muestra una relación fuerte a comparación con la situación donde estas si están cercanas al condado.\n",
    "\n",
    "Cabe destacar que en EE.UU, se empieza la educación en kindergarden a los 4 o 5 años y a los 18 años los estudiantes se preparan para postular a la universidad, por tanto son aproximadamente 12.5 o 13 años de educación inicial, primaria y secundaria hasta antes de empezar educación superior. Así pues, se evidencia que cuando hay instituciones de educación superior de 2 años cerca del condado de la muestra, estos tienen menores probabilidades de alcanzar un mayor nivel de educación y continuar estudios superiores, es decir, el resultado es contraintuitivo. Por tanto, mediante la tendencia y distribución podemos decir que este efecto de los centros de educacion superior de 2 años cercanos al condado en las probabilidades de menor nivel de educación se muestra a partir de los 13 años de educación en adelante. Incluso, se podría decir que los efectos son mínimos mientras  mayores niveles de educación años hay o incluso hay una neutralidad, pues tanto habiendo universidades de 2 años cercanas como no, el nivel de educación de la muestra es similar. Por tanto, podemos decir que cuando hay universidades con cursos de 2 años, los niveles de educación son iguales o decaen."
   ]
  },
  {
   "cell_type": "markdown",
   "id": "9aaea509",
   "metadata": {},
   "source": [
    "#### 5.2) Grafique dos histogramas para la variable años del logaritmos de los ingresos \"lwage\" para cuando nearc2 == 1, y cuando nearc2 == 0. Compare y describa los patrones que encuentra."
   ]
  },
  {
   "cell_type": "markdown",
   "id": "107cc2d6",
   "metadata": {},
   "source": [
    "- Histogramas separados de la variable lwage (logaritmo de los ingresos) a partir de la variable nearc2(si no existe (0) o existe (1) un college en el condado) "
   ]
  },
  {
   "cell_type": "code",
   "execution_count": 9,
   "id": "5088c313",
   "metadata": {},
   "outputs": [
    {
     "data": {
      "text/plain": [
       "<seaborn.axisgrid.FacetGrid at 0x212113a45e0>"
      ]
     },
     "execution_count": 9,
     "metadata": {},
     "output_type": "execute_result"
    },
    {
     "data": {
      "image/png": "[encoded data removed]",
      "text/plain": [
       "<Figure size 720x360 with 2 Axes>"
      ]
     },
     "metadata": {
      "needs_background": "light"
     },
     "output_type": "display_data"
    }
   ],
   "source": [
    "sns.displot(card, x=\"lwage\", col=\"nearc2\", color='pink') "
   ]
  },
  {
   "cell_type": "markdown",
   "id": "af11cd32",
   "metadata": {},
   "source": [
    "- Histogramas traslapados"
   ]
  },
  {
   "cell_type": "code",
   "execution_count": 10,
   "id": "3ca8f435",
   "metadata": {},
   "outputs": [
    {
     "data": {
      "text/plain": [
       "Text(8.557222222222222, 0.5, 'Frecuencia')"
      ]
     },
     "execution_count": 10,
     "metadata": {},
     "output_type": "execute_result"
    },
    {
     "data": {
      "image/png": "[encoded data removed]",
      "text/plain": [
       "<Figure size 412x360 with 1 Axes>"
      ]
     },
     "metadata": {
      "needs_background": "light"
     },
     "output_type": "display_data"
    }
   ],
   "source": [
    "sns.displot(card, x=\"lwage\", hue=\"nearc2\") \n",
    "plt.title(\"Histograma de distribución en el logaritmo de ingresos\", fontsize=16)\n",
    "plt.xlabel(\"Logaritmo de ingresos\", fontsize=13)\n",
    "plt.ylabel(\"Frecuencia\", fontsize=13)"
   ]
  },
  {
   "cell_type": "markdown",
   "id": "42bd35cc",
   "metadata": {},
   "source": [
    "- Interpretación:\n",
    "\n",
    "A partir de los histogramas tanto separados como traslapados, se puede observar que la cercanía a un centro de estudios superiores con programas de 2 años de estudio tiene algun efecto o relación con el logaritmo de ingresos de la muestra. Se evidencia que hay una distribución normal tanto en los casos cuando hay universidades con programas de 2 años cercanas al condado como cuando no las hay, lo que implica que existe una distribución simétrica de datos. \n",
    "\n",
    "También se muestra que la existencia de centros de educación superior con programas de 2 años en las cercanías del condado tiene un impacto negativo visible y significativo en los logaritmos de ingresos de la muestra. Estos se ven mayormente hasta los logaritmos de 7, donde se muestra como se reducen los logaritmos de ingresos cuando hay universidades con programas de 2 años en las proximidades del hogar y para los mayores años.  En suma, la presencia de universidades con programas de 2 años en las proximidades del condado tiene un efecto significativo e inverso sobre el logaritmo de ingresos."
   ]
  },
  {
   "cell_type": "markdown",
   "id": "52d9fb1b",
   "metadata": {},
   "source": [
    "### Regresiones"
   ]
  },
  {
   "cell_type": "markdown",
   "id": "2033768c",
   "metadata": {},
   "source": [
    "#### 5.3) Corran una regresion lineal del tipo \"lwage ~ educ + exper + black + south + married + smsa\", y expliquen los resultados que encuentran."
   ]
  },
  {
   "cell_type": "code",
   "execution_count": 11,
   "id": "f7f9bcc3",
   "metadata": {},
   "outputs": [
    {
     "data": {
      "text/html": [
       "<table class=\"simpletable\">\n",
       "<caption>OLS Regression Results</caption>\n",
       "<tr>\n",
       "  <th>Dep. Variable:</th>          <td>lwage</td>      <th>  R-squared:         </th> <td>   0.305</td> \n",
       "</tr>\n",
       "<tr>\n",
       "  <th>Model:</th>                   <td>OLS</td>       <th>  Adj. R-squared:    </th> <td>   0.304</td> \n",
       "</tr>\n",
       "<tr>\n",
       "  <th>Method:</th>             <td>Least Squares</td>  <th>  F-statistic:       </th> <td>   219.2</td> \n",
       "</tr>\n",
       "<tr>\n",
       "  <th>Date:</th>             <td>Fri, 09 Dec 2022</td> <th>  Prob (F-statistic):</th> <td>1.97e-232</td>\n",
       "</tr>\n",
       "<tr>\n",
       "  <th>Time:</th>                 <td>15:26:48</td>     <th>  Log-Likelihood:    </th> <td> -1273.9</td> \n",
       "</tr>\n",
       "<tr>\n",
       "  <th>No. Observations:</th>      <td>  3003</td>      <th>  AIC:               </th> <td>   2562.</td> \n",
       "</tr>\n",
       "<tr>\n",
       "  <th>Df Residuals:</th>          <td>  2996</td>      <th>  BIC:               </th> <td>   2604.</td> \n",
       "</tr>\n",
       "<tr>\n",
       "  <th>Df Model:</th>              <td>     6</td>      <th>                     </th>     <td> </td>    \n",
       "</tr>\n",
       "<tr>\n",
       "  <th>Covariance Type:</th>      <td>nonrobust</td>    <th>                     </th>     <td> </td>    \n",
       "</tr>\n",
       "</table>\n",
       "<table class=\"simpletable\">\n",
       "<tr>\n",
       "      <td></td>         <th>coef</th>     <th>std err</th>      <th>t</th>      <th>P>|t|</th>  <th>[0.025</th>    <th>0.975]</th>  \n",
       "</tr>\n",
       "<tr>\n",
       "  <th>Intercept</th> <td>    5.0633</td> <td>    0.064</td> <td>   79.437</td> <td> 0.000</td> <td>    4.938</td> <td>    5.188</td>\n",
       "</tr>\n",
       "<tr>\n",
       "  <th>educ</th>      <td>    0.0712</td> <td>    0.003</td> <td>   20.438</td> <td> 0.000</td> <td>    0.064</td> <td>    0.078</td>\n",
       "</tr>\n",
       "<tr>\n",
       "  <th>exper</th>     <td>    0.0342</td> <td>    0.002</td> <td>   15.422</td> <td> 0.000</td> <td>    0.030</td> <td>    0.038</td>\n",
       "</tr>\n",
       "<tr>\n",
       "  <th>black</th>     <td>   -0.1660</td> <td>    0.018</td> <td>   -9.426</td> <td> 0.000</td> <td>   -0.201</td> <td>   -0.131</td>\n",
       "</tr>\n",
       "<tr>\n",
       "  <th>south</th>     <td>   -0.1316</td> <td>    0.015</td> <td>   -8.788</td> <td> 0.000</td> <td>   -0.161</td> <td>   -0.102</td>\n",
       "</tr>\n",
       "<tr>\n",
       "  <th>married</th>   <td>   -0.0359</td> <td>    0.003</td> <td>  -10.547</td> <td> 0.000</td> <td>   -0.043</td> <td>   -0.029</td>\n",
       "</tr>\n",
       "<tr>\n",
       "  <th>smsa</th>      <td>    0.1758</td> <td>    0.015</td> <td>   11.372</td> <td> 0.000</td> <td>    0.145</td> <td>    0.206</td>\n",
       "</tr>\n",
       "</table>\n",
       "<table class=\"simpletable\">\n",
       "<tr>\n",
       "  <th>Omnibus:</th>       <td>53.196</td> <th>  Durbin-Watson:     </th> <td>   1.858</td>\n",
       "</tr>\n",
       "<tr>\n",
       "  <th>Prob(Omnibus):</th> <td> 0.000</td> <th>  Jarque-Bera (JB):  </th> <td>  69.430</td>\n",
       "</tr>\n",
       "<tr>\n",
       "  <th>Skew:</th>          <td>-0.231</td> <th>  Prob(JB):          </th> <td>8.38e-16</td>\n",
       "</tr>\n",
       "<tr>\n",
       "  <th>Kurtosis:</th>      <td> 3.584</td> <th>  Cond. No.          </th> <td>    154.</td>\n",
       "</tr>\n",
       "</table><br/><br/>Notes:<br/>[1] Standard Errors assume that the covariance matrix of the errors is correctly specified."
      ],
      "text/plain": [
       "<class 'statsmodels.iolib.summary.Summary'>\n",
       "\"\"\"\n",
       "                            OLS Regression Results                            \n",
       "==============================================================================\n",
       "Dep. Variable:                  lwage   R-squared:                       0.305\n",
       "Model:                            OLS   Adj. R-squared:                  0.304\n",
       "Method:                 Least Squares   F-statistic:                     219.2\n",
       "Date:                Fri, 09 Dec 2022   Prob (F-statistic):          1.97e-232\n",
       "Time:                        15:26:48   Log-Likelihood:                -1273.9\n",
       "No. Observations:                3003   AIC:                             2562.\n",
       "Df Residuals:                    2996   BIC:                             2604.\n",
       "Df Model:                           6                                         \n",
       "Covariance Type:            nonrobust                                         \n",
       "==============================================================================\n",
       "                 coef    std err          t      P>|t|      [0.025      0.975]\n",
       "------------------------------------------------------------------------------\n",
       "Intercept      5.0633      0.064     79.437      0.000       4.938       5.188\n",
       "educ           0.0712      0.003     20.438      0.000       0.064       0.078\n",
       "exper          0.0342      0.002     15.422      0.000       0.030       0.038\n",
       "black         -0.1660      0.018     -9.426      0.000      -0.201      -0.131\n",
       "south         -0.1316      0.015     -8.788      0.000      -0.161      -0.102\n",
       "married       -0.0359      0.003    -10.547      0.000      -0.043      -0.029\n",
       "smsa           0.1758      0.015     11.372      0.000       0.145       0.206\n",
       "==============================================================================\n",
       "Omnibus:                       53.196   Durbin-Watson:                   1.858\n",
       "Prob(Omnibus):                  0.000   Jarque-Bera (JB):               69.430\n",
       "Skew:                          -0.231   Prob(JB):                     8.38e-16\n",
       "Kurtosis:                       3.584   Cond. No.                         154.\n",
       "==============================================================================\n",
       "\n",
       "Notes:\n",
       "[1] Standard Errors assume that the covariance matrix of the errors is correctly specified.\n",
       "\"\"\""
      ]
     },
     "execution_count": 11,
     "metadata": {},
     "output_type": "execute_result"
    }
   ],
   "source": [
    "#OLS\n",
    "ols_reg = sm.OLS.from_formula(\"lwage ~ educ + exper + black + south + married + smsa\", \n",
    "              data = card).fit()\n",
    "\n",
    "ols_reg.summary()"
   ]
  },
  {
   "cell_type": "markdown",
   "id": "1b2783b1",
   "metadata": {},
   "source": [
    "###### Explicación de resultados:\n",
    "\n",
    "En este modelo de regresión se busca encontrar si existe una correlación entre el logaritmo de ingresos (lwage) y las variables independientes (años de educación[educ], experiencia [exper], si es de raza negra o no[black], si es del sur o no[south], si es casado o no[married] y la variable smsa). No se considera a las variables nearc4 ni nearc2. Como todas las variables cuentan con un p-value menor a 0.05, todas son significativas para el modelo. El R2(r-square) indica que el modelo explica en 30% la variabilidad de la variable dependiente(logaritmos de ingresos), por ende, el modelo no es tan fuerte, ya que no sobrepasa el 50%. El coeficiente de la variable años de educación (educ) nos indica que por cada aumento de los años de educación, los ingresos de los encuestados aumentan en 7.1%."
   ]
  },
  {
   "cell_type": "markdown",
   "id": "a5cc4b09",
   "metadata": {},
   "source": [
    "- Al haber valores invalidos en la variable married,esto se rellenan con ceros para que no afecte el resultado del modelo de regresión."
   ]
  },
  {
   "cell_type": "code",
   "execution_count": 12,
   "id": "d9dafc97",
   "metadata": {},
   "outputs": [],
   "source": [
    "card['married'] = card['married'].fillna(0)"
   ]
  },
  {
   "cell_type": "markdown",
   "id": "2ae39f9d",
   "metadata": {},
   "source": [
    "#### 5.4) Corran una regresion de tipo IV(usando el paquete IV2SLS) donde van a instrumentalizar la variable educ con nearc2 .\n",
    "Compare los resultados encontrados usando IV2SLS con la primera regresión. ¿Cambió el coeficiente relacionado a educ , por qué?"
   ]
  },
  {
   "cell_type": "markdown",
   "id": "c5bb7a48",
   "metadata": {},
   "source": [
    "La regresión debería tener una forma de este tipo \"lwage ~ 1 + exper + black + south + married + smsa + [educ ~ nearc2]\"."
   ]
  },
  {
   "cell_type": "code",
   "execution_count": 14,
   "id": "8835ba7b",
   "metadata": {},
   "outputs": [
    {
     "data": {
      "text/html": [
       "<table class=\"simpletable\">\n",
       "<caption>IV-2SLS Estimation Summary</caption>\n",
       "<tr>\n",
       "  <th>Dep. Variable:</th>          <td>lwage</td>      <th>  R-squared:         </th> <td>-1.3114</td>\n",
       "</tr>\n",
       "<tr>\n",
       "  <th>Estimator:</th>             <td>IV-2SLS</td>     <th>  Adj. R-squared:    </th> <td>-1.3160</td>\n",
       "</tr>\n",
       "<tr>\n",
       "  <th>No. Observations:</th>       <td>3010</td>       <th>  F-statistic:       </th> <td>289.62</td> \n",
       "</tr>\n",
       "<tr>\n",
       "  <th>Date:</th>             <td>Fri, Dec 09 2022</td> <th>  P-value (F-stat)   </th> <td>0.0000</td> \n",
       "</tr>\n",
       "<tr>\n",
       "  <th>Time:</th>                 <td>15:33:31</td>     <th>  Distribution:      </th> <td>chi2(6)</td>\n",
       "</tr>\n",
       "<tr>\n",
       "  <th>Cov. Estimator:</th>        <td>robust</td>      <th>                     </th>    <td></td>    \n",
       "</tr>\n",
       "<tr>\n",
       "  <th></th>                          <td></td>         <th>                     </th>    <td></td>    \n",
       "</tr>\n",
       "</table>\n",
       "<table class=\"simpletable\">\n",
       "<caption>Parameter Estimates</caption>\n",
       "<tr>\n",
       "      <td></td>      <th>Parameter</th> <th>Std. Err.</th> <th>T-stat</th>  <th>P-value</th> <th>Lower CI</th> <th>Upper CI</th>\n",
       "</tr>\n",
       "<tr>\n",
       "  <th>Intercept</th>  <td>0.1276</td>    <td>3.1412</td>   <td>0.0406</td>  <td>0.9676</td>   <td>-6.0290</td>  <td>6.2843</td> \n",
       "</tr>\n",
       "<tr>\n",
       "  <th>black</th>      <td>0.1134</td>    <td>0.1816</td>   <td>0.6244</td>  <td>0.5324</td>   <td>-0.2425</td>  <td>0.4692</td> \n",
       "</tr>\n",
       "<tr>\n",
       "  <th>exper</th>      <td>0.1515</td>    <td>0.0747</td>   <td>2.0274</td>  <td>0.0426</td>   <td>0.0050</td>   <td>0.2980</td> \n",
       "</tr>\n",
       "<tr>\n",
       "  <th>married</th>    <td>-0.0151</td>   <td>0.0147</td>   <td>-1.0258</td> <td>0.3050</td>   <td>-0.0438</td>  <td>0.0137</td> \n",
       "</tr>\n",
       "<tr>\n",
       "  <th>smsa</th>       <td>0.0201</td>    <td>0.1030</td>   <td>0.1949</td>  <td>0.8455</td>   <td>-0.1819</td>  <td>0.2220</td> \n",
       "</tr>\n",
       "<tr>\n",
       "  <th>south</th>      <td>-0.0319</td>   <td>0.0692</td>   <td>-0.4603</td> <td>0.6453</td>   <td>-0.1675</td>  <td>0.1038</td> \n",
       "</tr>\n",
       "<tr>\n",
       "  <th>educ</th>       <td>0.3618</td>    <td>0.1849</td>   <td>1.9562</td>  <td>0.0504</td>   <td>-0.0007</td>  <td>0.7243</td> \n",
       "</tr>\n",
       "</table><br/><br/>Endogenous: educ<br/>Instruments: nearc2<br/>Robust Covariance (Heteroskedastic)<br/>Debiased: False"
      ],
      "text/plain": [
       "<class 'linearmodels.compat.statsmodels.Summary'>\n",
       "\"\"\"\n",
       "                          IV-2SLS Estimation Summary                          \n",
       "==============================================================================\n",
       "Dep. Variable:                  lwage   R-squared:                     -1.3114\n",
       "Estimator:                    IV-2SLS   Adj. R-squared:                -1.3160\n",
       "No. Observations:                3010   F-statistic:                    289.62\n",
       "Date:                Fri, Dec 09 2022   P-value (F-stat)                0.0000\n",
       "Time:                        15:33:31   Distribution:                  chi2(6)\n",
       "Cov. Estimator:                robust                                         \n",
       "                                                                              \n",
       "                             Parameter Estimates                              \n",
       "==============================================================================\n",
       "            Parameter  Std. Err.     T-stat    P-value    Lower CI    Upper CI\n",
       "------------------------------------------------------------------------------\n",
       "Intercept      0.1276     3.1412     0.0406     0.9676     -6.0290      6.2843\n",
       "black          0.1134     0.1816     0.6244     0.5324     -0.2425      0.4692\n",
       "exper          0.1515     0.0747     2.0274     0.0426      0.0050      0.2980\n",
       "married       -0.0151     0.0147    -1.0258     0.3050     -0.0438      0.0137\n",
       "smsa           0.0201     0.1030     0.1949     0.8455     -0.1819      0.2220\n",
       "south         -0.0319     0.0692    -0.4603     0.6453     -0.1675      0.1038\n",
       "educ           0.3618     0.1849     1.9562     0.0504     -0.0007      0.7243\n",
       "==============================================================================\n",
       "\n",
       "Endogenous: educ\n",
       "Instruments: nearc2\n",
       "Robust Covariance (Heteroskedastic)\n",
       "Debiased: False\n",
       "\"\"\""
      ]
     },
     "execution_count": 14,
     "metadata": {},
     "output_type": "execute_result"
    }
   ],
   "source": [
    "#IV2SLS\n",
    "iv_reg = IV2SLS.from_formula(\"lwage ~  1 + exper + black + south + married + smsa + [educ ~ nearc2]\", card).fit()\n",
    "iv_reg.summary"
   ]
  },
  {
   "cell_type": "markdown",
   "id": "da28b71a",
   "metadata": {},
   "source": [
    "###### Explicación de resultados:\n",
    "\n",
    "Al crear un nuevo modelo de regresión lineal donde se utilice como instrumento (Z) a la variable nearc2 (la presencia o no de centros de estudios superiores con programas de 2 años), se busca encontrar que esta tiene un efecto en la variable años de educación (educ=X) y mediante X esta tiene un efecto en el resultado (logaritmos de ingresos=Y). Se observa que no todas las variables son significativas a diferencia del modelo de regresión anterior, pues solo las variables experiencia y años de educación (esta presenta un p.value redondeado de 0.05, por lo que aun lo consideraremos) lo son. Además, por cada año adicional de educación, los ingresos de las personas que conforman la muestra aumentan aproximadamente en un 36%.  En este sentido, se puede decir que se encuentra un mayor aumento del logaritmo de ingresos al instrumentalizar el modelo de regresión en comparación con el modelo de regresión OSL. El modelo presenta un r ajustado negativo que señala la neutralidad ante la introducción de variables adicionales y el F-statistics tiene un exceso de 15, por tanto,se señala que el instrumento no es débil. "
   ]
  },
  {
   "cell_type": "markdown",
   "id": "fdcff5ba",
   "metadata": {},
   "source": [
    "###### Compare los resultados encontrados en la regresión de arriba. ¿Cambió el coeficiente relacionado a educ , por qué?\n",
    "\n",
    "Al observar ambos modelos de regresión , tanto el instrumentalizado (de tipo IV) en base a la variable instrumental nearc2 como el que no presenta ninguna variable instrumental (OSL), se evidencia un cambio en el coeficiente de la variable años de educación (educ), lo que se presume que está relacionado con la introducción del instrumento nearc2 (presencia (==1) o no(==0) de un centro de educación superior con programas de 2 años de estudios cerca al condado) en el modelo 2 (regresión de tipo IV). Confirmándose así que la presencia de centros de estudios superiores con programas de 2 años cerca al lugar de residencia de la muestra cumple un rol importante en la continuación de estudios superiores, en los años de educación y finalmente en el logaritmo de ingresos."
   ]
  },
  {
   "cell_type": "code",
   "execution_count": null,
   "id": "e41a89b4",
   "metadata": {},
   "outputs": [],
   "source": []
  }
 ],
 "metadata": {
  "kernelspec": {
   "display_name": "Python 3 (ipykernel)",
   "language": "python",
   "name": "python3"
  },
  "language_info": {
   "codemirror_mode": {
    "name": "ipython",
    "version": 3
   },
   "file_extension": ".py",
   "mimetype": "text/x-python",
   "name": "python",
   "nbconvert_exporter": "python",
   "pygments_lexer": "ipython3",
   "version": "3.9.12"
  }
 },
 "nbformat": 4,
 "nbformat_minor": 5
}
