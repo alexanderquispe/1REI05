{
 "cells": [
  {
   "cell_type": "markdown",
   "id": "7551a6d9",
   "metadata": {},
   "source": [
    "# REPORT 6 "
   ]
  },
  {
   "cell_type": "markdown",
   "id": "e80e8ca9",
   "metadata": {},
   "source": [
    "#### Belén Herrada Ruiz - 20203026"
   ]
  },
  {
   "cell_type": "markdown",
   "id": "0c3cfaeb",
   "metadata": {},
   "source": [
    "### Lectura: Dynarski, S., Libassi, C. J., Michelmore, K., & Owen, S. (2018). Closing the gap: The effect of a targeted, tuition-free promise on college choices of high-achieving, low-income students"
   ]
  },
  {
   "cell_type": "markdown",
   "id": "eccbbaab",
   "metadata": {},
   "source": [
    "La investigación por Dynarski, Libassi, Michelmore y Owen, titulada “Closing the gap: The effect of a targeted, tuition-free promise on college choices of high-achieving, low-income students”, explica y analiza un experimento a gran escala que se plantea observar la posibilidad de alguna variación de comportamiento de estudiantes secundarios de bajos recursos con alto rendimiento que tienden a ingresar a universidades tasas bastante bajas. Por lo que se plantea: ¿Por qué las universidades selectivas no son el destino para más estudiantes de bajos ingresos y alto rendimiento? Así, busca tener un acercamiento a la brecha de ingresos que se manifiestan en sesgos de comportamiento, los cuales son intensificados por la complejidad y la incertidumbre en el proceso de admisión y ayuda a una universidad. Para poder lograr analizar la variación hipotetizada, las autoras utilizan una beca denominada ‘HAIL’ (High Achieving Involved Leader) que provee un financiamiento completo de educación de manera temprana e incondicional por cuatro años de estudio universitario, lo cual reduce la incertidumbre de la universidad al “al convertir el posibilidad de ayuda futura en una certeza presente” (reduces the uncertainty of future college costs, by converting the possibility of future aid into a present certainty). \n",
    "\n",
    "A lo largo del documento se ha podido ciertas debilidades reconocidas por las mismas autoras, quienes admiten la carencia de acceso a información, por un lado, sobre el el costo (neto) de la universidad para una universidad de élite, por otro lado, en relación a los ingresos de personas de bajos recursos para identificar a los estudiantes con mayores desventajas. Por lo que realizar este tipo de experimentos a gran escala puede verse dificultado ante el no acceso de información sustancial para poder lograr una categorización adecuada. Con respecto a las fortalezas, se ha identificado un abordaje bastante integrado, ya que la investigación tiene como punto base una problemática coyuntural económica, al poner como centro la brecha de ingresos , la cual se puede ubicar de manera transversal en la sociedad al emprender aspectos sociológicos y psicológicos acerca al peso que tiene la identidad social en la toma decisiones, la “raza” y género. Aspectos mencionados que demuestran como parte importante la heterogeneidad del estudio. Asimismo,  otra fortaleza es el corte empírico que se tiene al analizar los resultados de los estudiantes de ‘control’ y ‘tratamiento’ dentro del experimento, también la matematización de parámetros que representan los efectos de los resultados. \n",
    "\n",
    "En consideración a la contribución que traen Dynarski, Libassi, Michelmore y Owen he podido identificar la priorización de patrones de comportamiento para poder determinar el resultado del experimento, al tener en cuenta presente factores influyentes en este caso cómo la dependencia excesiva de la rutina o los incumplimientos o la aversión a la deuda dentro de estudiantes secundarios de bajos recursos y alto rendimiento al momento de elegir una universidad. De igual manera, su misma formulación de pregunta de investigación demuestra el reconocimiento de problemas estructurales que se enfrentan estudiantes y el camino que se debería tomar con respectos a políticas que garanticen un acceso a educación superior de calidad de manera más equitativa. Así, para poder avanzar con respecto a la pregunta planteada es su aplicación ambitos más regionales y solo a ciudades, en este caso el Estado de Michigan, tal cómo plantea García de Fanelli, Ana; Adrogué con \"Equidad en el acceso y la graduación en la Educación Superior: Reflexiones desde el Cono Sur\", quienes realizan un analizar más regional sobre las oportunidades que tienen los y las jóvenes de los sectores de menores ingresos de acceder y obtener un título en America Latina. \n"
   ]
  },
  {
   "cell_type": "code",
   "execution_count": null,
   "id": "473c7aaa",
   "metadata": {},
   "outputs": [],
   "source": []
  }
 ],
 "metadata": {
  "kernelspec": {
   "display_name": "Python 3 (ipykernel)",
   "language": "python",
   "name": "python3"
  },
  "language_info": {
   "codemirror_mode": {
    "name": "ipython",
    "version": 3
   },
   "file_extension": ".py",
   "mimetype": "text/x-python",
   "name": "python",
   "nbconvert_exporter": "python",
   "pygments_lexer": "ipython3",
   "version": "3.9.12"
  }
 },
 "nbformat": 4,
 "nbformat_minor": 5
}
