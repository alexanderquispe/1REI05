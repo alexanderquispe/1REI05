{
  "cells": [
    {
      "cell_type": "markdown",
      "id": "d8c5473d",
      "metadata": {
        "id": "d8c5473d"
      },
      "source": [
        "# Reporte 7: \n",
        "   ### Nombre: Mayeli Charra 20200275"
      ]
    },
    {
      "cell_type": "markdown",
      "id": "2e3cfb55",
      "metadata": {
        "id": "2e3cfb55"
      },
      "source": [
        "## Parte 1: Reporte"
      ]
    },
    {
      "cell_type": "markdown",
      "source": [
        "El artículo “Los efectos de la exposición a mejores vecindarios en los niños: nueva evidencia del experimento de mudarse a la oportunidad”  los autores Chetty, R., Hendren, N. y Katz, LF (2016) se plantean responder ¿De qué manera los subsidios ofrecidos por el gobierno americano como parte de la investigación “Moving To Opportunity” MTO para mejorar la exposición de los familias con niños de ciertas edades  a mejores vecindarios tiene un impacto a largo plazo en los resultados económicos de estos niños?  Sostienen que los beneficios de trasladarse a zonas de menor pobreza disminuyen con la edad del niño en el momento del traslado, lo que sugiere que cada año adicional de exposición a un entorno de baja pobreza durante la infancia es beneficioso.\n",
        "\n",
        "De manera que, encontramos que el artículo presenta entre sus fortalezas que trabaja en mejorar un trabajo previo el experimento MTO de manera que busca ampliar esta investigación al buscar sus efectos a largo plazo sobre los niños pequeños cuando sus familias se mudaron a vecindarios mejores. En cuanto al diseño de la investigación tenemos que para la investigación se tomó en cuenta tanto el grupo de tratamiento, como el de control. Donde, se reproduce el balance necesario entre los grupos de tratamiento y control, es decir, ambos tienen las mismas características, y además, fueron asignados a cada grupo de forma aleatoria. \n",
        "\n",
        "\n",
        "Por otro lado entre las debilidades del artículo se tiene que está limitada por los instrumentos de recopilación de datos del sistema de investigación anterior. Por lo mismo, los autores señalan que el diseño experimental del MTO no puede utilizarse para establecer de forma concluyente que la exposición en la infancia a un entorno mejor tiene un efecto causal en los resultados a largo plazo, ya que las edades a las que los niños se trasladan están perfectamente correlacionadas con el tiempo de exposición a un barrio de menor pobreza. De forma que no distingue las diferencias en los efectos de la perturbación según la edad en el momento de la mudanza de un coste de la perturbación invariable por la edad junto con un efecto de exposición. Finalmente que, los efectos del tratamiento para las familias con niños pequeños y mayores podrían ser diferentes porque el conjunto de familias que aceptaron el bono y las zonas a las que se trasladaron podrían variar entre los dos grupos. Ademas, los grupos de familias son diferentes entre si y pueden existir causas que la investigacion no esta tomando en cuenta. \n",
        "\n",
        "El artículo avanza en el experimento MTO ya que encuentra que si los niños se mudan a vecindarios con menos pobreza antes de los 13 años, son más propensos a ir a la universidad y tener ingresos más altos cuando sean adultos, es decir mejorar su situación económica a largo plazo. Además que en el caso de los niños pequeños, el costo de irrupción, que genera el mudarse es menor que los beneficios de exponerse a vecindarios menos pobres, pero, para los niños mayores, esta situación es al revés. En cuanto a algunos hallazgos sobre estos niños a largo plazo encontraron que son menos propensos a ser padres solteros ellos mismos.  Aunque MTO tiene un pequeño impacto en los ingresos de los adultos. El artículo determina que es importante darle este beneficio a familias con hijos pequeños (hasta recién nacidos) para maximizar los beneficios. Finalmente, el experimento demuestra que integrar a familias más pobres a comunidades de ingreso mixto, probablemente reducirá la pobreza persistente por generaciones. Por lo tanto, el bono experimental MTO parece mejorar la calidad de vida de la generación más joven.\n",
        "\n",
        "A modo de cierre, siguiendo las limitaciones identificadas, los próximos pasos que puede tomar el artículo es respecto al estudio a largo plazo no solo el impacto de la edad a largo plazo, otros factores como los problemas de salud, desigualdad generacional o las identidades étnicas de este grupo de familias y niños. De esta forma, se puede identificar el impacto de manera diferenciada para estos subgrupos dentro de la muestra para tener mayor certeza del impacto de dar oportunidades de mudanza y específicamente para el trabajo en políticas que facilite  a grupos identificados  que enfrentan mayores dificultades para la movilidad económica.  Asimismo, sugieren [Kim, H., Schmidt, N. M., Osypuk, T. L., Thyden, N., & Rehkopf, D. (2022).](https://www.tandfonline.com/doi/abs/10.1080/02673037.2022.2112154) en su investigación que que  efectos de los bonos de vivienda sobre las oportunidades pueden no ser uniformes entre los subgrupos. Los resultados de la partición recursiva basada en el modelo para las oportunidades de vecindad identificaron varios modificadores potenciales del efecto del bono de vivienda, incluidos los lugares de estudio, los problemas de salud y desarrollo de los miembros del hogar y el acceso a un vehículo.\n",
        "\n",
        "Referencias: \n",
        "\n",
        "Chetty, R., Hendren, N. y Katz, LF (2016). Los efectos de la exposición a mejores vecindarios en los niños: nueva evidencia del experimento de mudarse a la oportunidad. Revista Económica Estadounidense, 106(4), 855-902.\n",
        "\n",
        "Kim, H., Schmidt, N. M., Osypuk, T. L., Thyden, N., & Rehkopf, D. (2022). Effects of housing vouchers on the long-term exposure to neighbourhood opportunity among low-income families: the moving to opportunity experiment. Housing Studies, 1-24.\n"
      ],
      "metadata": {
        "id": "gbx2GGu89ySK"
      },
      "id": "gbx2GGu89ySK"
    },
    {
      "cell_type": "markdown",
      "id": "f1c12ba3",
      "metadata": {
        "id": "f1c12ba3"
      },
      "source": [
        "## Parte 2: Código en Python - \n",
        "#### Código hecho por Karen Arevalo y Mayeli Charra\n",
        "\n",
        "### Ploteo de Histogramas"
      ]
    },
    {
      "cell_type": "code",
      "source": [
        "!pip install causalgraphicalmodels\n",
        "!pip install linearmodels"
      ],
      "metadata": {
        "colab": {
          "base_uri": "https://localhost:8080/"
        },
        "id": "4ljZxlYYSOa5",
        "outputId": "b74bcc91-0e3a-4857-aecd-db2f8cca6cb2"
      },
      "id": "4ljZxlYYSOa5",
      "execution_count": 3,
      "outputs": [
        {
          "output_type": "stream",
          "name": "stdout",
          "text": [
            "Looking in indexes: https://pypi.org/simple, https://us-python.pkg.dev/colab-wheels/public/simple/\n",
            "Collecting causalgraphicalmodels\n",
            "  Downloading causalgraphicalmodels-0.0.4-py3-none-any.whl (11 kB)\n",
            "Requirement already satisfied: networkx in /usr/local/lib/python3.7/dist-packages (from causalgraphicalmodels) (2.6.3)\n",
            "Requirement already satisfied: numpy in /usr/local/lib/python3.7/dist-packages (from causalgraphicalmodels) (1.21.6)\n",
            "Requirement already satisfied: pandas in /usr/local/lib/python3.7/dist-packages (from causalgraphicalmodels) (1.3.5)\n",
            "Requirement already satisfied: graphviz in /usr/local/lib/python3.7/dist-packages (from causalgraphicalmodels) (0.10.1)\n",
            "Requirement already satisfied: python-dateutil>=2.7.3 in /usr/local/lib/python3.7/dist-packages (from pandas->causalgraphicalmodels) (2.8.2)\n",
            "Requirement already satisfied: pytz>=2017.3 in /usr/local/lib/python3.7/dist-packages (from pandas->causalgraphicalmodels) (2022.6)\n",
            "Requirement already satisfied: six>=1.5 in /usr/local/lib/python3.7/dist-packages (from python-dateutil>=2.7.3->pandas->causalgraphicalmodels) (1.15.0)\n",
            "Installing collected packages: causalgraphicalmodels\n",
            "Successfully installed causalgraphicalmodels-0.0.4\n",
            "Looking in indexes: https://pypi.org/simple, https://us-python.pkg.dev/colab-wheels/public/simple/\n",
            "Collecting linearmodels\n",
            "  Downloading linearmodels-4.25-cp37-cp37m-manylinux_2_17_x86_64.manylinux2014_x86_64.whl (1.5 MB)\n",
            "\u001b[K     |████████████████████████████████| 1.5 MB 5.2 MB/s \n",
            "\u001b[?25hRequirement already satisfied: pandas>=0.24 in /usr/local/lib/python3.7/dist-packages (from linearmodels) (1.3.5)\n",
            "Collecting formulaic\n",
            "  Downloading formulaic-0.5.2-py3-none-any.whl (77 kB)\n",
            "\u001b[K     |████████████████████████████████| 77 kB 5.8 MB/s \n",
            "\u001b[?25hCollecting property-cached>=1.6.3\n",
            "  Downloading property_cached-1.6.4-py2.py3-none-any.whl (7.8 kB)\n",
            "Requirement already satisfied: numpy>=1.16 in /usr/local/lib/python3.7/dist-packages (from linearmodels) (1.21.6)\n",
            "Collecting mypy-extensions>=0.4\n",
            "  Downloading mypy_extensions-0.4.3-py2.py3-none-any.whl (4.5 kB)\n",
            "Requirement already satisfied: patsy in /usr/local/lib/python3.7/dist-packages (from linearmodels) (0.5.3)\n",
            "Collecting pyhdfe>=0.1\n",
            "  Downloading pyhdfe-0.1.0-py3-none-any.whl (18 kB)\n",
            "Requirement already satisfied: statsmodels>=0.11 in /usr/local/lib/python3.7/dist-packages (from linearmodels) (0.12.2)\n",
            "Requirement already satisfied: Cython>=0.29.21 in /usr/local/lib/python3.7/dist-packages (from linearmodels) (0.29.32)\n",
            "Requirement already satisfied: scipy>=1.2 in /usr/local/lib/python3.7/dist-packages (from linearmodels) (1.7.3)\n",
            "Requirement already satisfied: pytz>=2017.3 in /usr/local/lib/python3.7/dist-packages (from pandas>=0.24->linearmodels) (2022.6)\n",
            "Requirement already satisfied: python-dateutil>=2.7.3 in /usr/local/lib/python3.7/dist-packages (from pandas>=0.24->linearmodels) (2.8.2)\n",
            "Requirement already satisfied: six>=1.5 in /usr/local/lib/python3.7/dist-packages (from python-dateutil>=2.7.3->pandas>=0.24->linearmodels) (1.15.0)\n",
            "Collecting graphlib-backport>=1.0.0\n",
            "  Downloading graphlib_backport-1.0.3-py3-none-any.whl (5.1 kB)\n",
            "Collecting interface-meta>=1.2.0\n",
            "  Downloading interface_meta-1.3.0-py3-none-any.whl (14 kB)\n",
            "Requirement already satisfied: cached-property>=1.3.0 in /usr/local/lib/python3.7/dist-packages (from formulaic->linearmodels) (1.5.2)\n",
            "Requirement already satisfied: astor>=0.8 in /usr/local/lib/python3.7/dist-packages (from formulaic->linearmodels) (0.8.1)\n",
            "Collecting typing-extensions>=4.2.0\n",
            "  Downloading typing_extensions-4.4.0-py3-none-any.whl (26 kB)\n",
            "Requirement already satisfied: wrapt>=1.0 in /usr/local/lib/python3.7/dist-packages (from formulaic->linearmodels) (1.14.1)\n",
            "Installing collected packages: typing-extensions, interface-meta, graphlib-backport, pyhdfe, property-cached, mypy-extensions, formulaic, linearmodels\n",
            "  Attempting uninstall: typing-extensions\n",
            "    Found existing installation: typing-extensions 4.1.1\n",
            "    Uninstalling typing-extensions-4.1.1:\n",
            "      Successfully uninstalled typing-extensions-4.1.1\n",
            "\u001b[31mERROR: pip's dependency resolver does not currently take into account all the packages that are installed. This behaviour is the source of the following dependency conflicts.\n",
            "thinc 8.1.5 requires typing-extensions<4.2.0,>=3.7.4.1; python_version < \"3.8\", but you have typing-extensions 4.4.0 which is incompatible.\n",
            "spacy 3.4.2 requires typing-extensions<4.2.0,>=3.7.4; python_version < \"3.8\", but you have typing-extensions 4.4.0 which is incompatible.\n",
            "confection 0.0.3 requires typing-extensions<4.2.0,>=3.7.4.1; python_version < \"3.8\", but you have typing-extensions 4.4.0 which is incompatible.\u001b[0m\n",
            "Successfully installed formulaic-0.5.2 graphlib-backport-1.0.3 interface-meta-1.3.0 linearmodels-4.25 mypy-extensions-0.4.3 property-cached-1.6.4 pyhdfe-0.1.0 typing-extensions-4.4.0\n"
          ]
        }
      ]
    },
    {
      "cell_type": "code",
      "execution_count": 4,
      "id": "35761afe",
      "metadata": {
        "id": "35761afe"
      },
      "outputs": [],
      "source": [
        "from causalgraphicalmodels import CausalGraphicalModel\n",
        "import os\n",
        "import numpy as np \n",
        "import pandas as pd \n",
        "import statsmodels.api as sm \n",
        "import statsmodels.formula.api as smf \n",
        "from itertools import combinations \n",
        "import plotnine as p\n",
        "import statsmodels.api as sm\n",
        "import statsmodels.formula.api as smf\n",
        "import linearmodels.iv.model as lm\n",
        "from linearmodels.iv import IV2SLS\n",
        "from statsmodels.iolib.summary2 import summary_col\n",
        "import seaborn as sns"
      ]
    },
    {
      "cell_type": "markdown",
      "id": "a21c3364",
      "metadata": {
        "id": "a21c3364"
      },
      "source": [
        "Insertamos la data:"
      ]
    },
    {
      "cell_type": "code",
      "execution_count": 5,
      "id": "fc4a1157",
      "metadata": {
        "colab": {
          "base_uri": "https://localhost:8080/",
          "height": 287
        },
        "id": "fc4a1157",
        "outputId": "e8163544-9a98-4f80-81ef-054de7f36ca2"
      },
      "outputs": [
        {
          "output_type": "stream",
          "name": "stdout",
          "text": [
            "(323, 10)\n"
          ]
        },
        {
          "output_type": "execute_result",
          "data": {
            "text/plain": [
              "   gender  asian  black  hawaiian  hispanic  unknown  white  format_ol  \\\n",
              "0       0    0.0    0.0       0.0       0.0      0.0    1.0          0   \n",
              "1       1    0.0    0.0       0.0       0.0      0.0    1.0          0   \n",
              "2       1    0.0    0.0       0.0       0.0      0.0    1.0          0   \n",
              "3       1    0.0    0.0       0.0       0.0      0.0    1.0          0   \n",
              "4       1    0.0    0.0       0.0       0.0      0.0    1.0          1   \n",
              "\n",
              "   format_blended  falsexam  \n",
              "0             0.0  63.29997  \n",
              "1             0.0  79.96000  \n",
              "2             1.0  83.37000  \n",
              "3             1.0  90.01994  \n",
              "4             0.0  83.30000  "
            ],
            "text/html": [
              "\n",
              "  <div id=\"df-6a1e8fb2-c69a-4e10-909b-8ceb613e6ca1\">\n",
              "    <div class=\"colab-df-container\">\n",
              "      <div>\n",
              "<style scoped>\n",
              "    .dataframe tbody tr th:only-of-type {\n",
              "        vertical-align: middle;\n",
              "    }\n",
              "\n",
              "    .dataframe tbody tr th {\n",
              "        vertical-align: top;\n",
              "    }\n",
              "\n",
              "    .dataframe thead th {\n",
              "        text-align: right;\n",
              "    }\n",
              "</style>\n",
              "<table border=\"1\" class=\"dataframe\">\n",
              "  <thead>\n",
              "    <tr style=\"text-align: right;\">\n",
              "      <th></th>\n",
              "      <th>gender</th>\n",
              "      <th>asian</th>\n",
              "      <th>black</th>\n",
              "      <th>hawaiian</th>\n",
              "      <th>hispanic</th>\n",
              "      <th>unknown</th>\n",
              "      <th>white</th>\n",
              "      <th>format_ol</th>\n",
              "      <th>format_blended</th>\n",
              "      <th>falsexam</th>\n",
              "    </tr>\n",
              "  </thead>\n",
              "  <tbody>\n",
              "    <tr>\n",
              "      <th>0</th>\n",
              "      <td>0</td>\n",
              "      <td>0.0</td>\n",
              "      <td>0.0</td>\n",
              "      <td>0.0</td>\n",
              "      <td>0.0</td>\n",
              "      <td>0.0</td>\n",
              "      <td>1.0</td>\n",
              "      <td>0</td>\n",
              "      <td>0.0</td>\n",
              "      <td>63.29997</td>\n",
              "    </tr>\n",
              "    <tr>\n",
              "      <th>1</th>\n",
              "      <td>1</td>\n",
              "      <td>0.0</td>\n",
              "      <td>0.0</td>\n",
              "      <td>0.0</td>\n",
              "      <td>0.0</td>\n",
              "      <td>0.0</td>\n",
              "      <td>1.0</td>\n",
              "      <td>0</td>\n",
              "      <td>0.0</td>\n",
              "      <td>79.96000</td>\n",
              "    </tr>\n",
              "    <tr>\n",
              "      <th>2</th>\n",
              "      <td>1</td>\n",
              "      <td>0.0</td>\n",
              "      <td>0.0</td>\n",
              "      <td>0.0</td>\n",
              "      <td>0.0</td>\n",
              "      <td>0.0</td>\n",
              "      <td>1.0</td>\n",
              "      <td>0</td>\n",
              "      <td>1.0</td>\n",
              "      <td>83.37000</td>\n",
              "    </tr>\n",
              "    <tr>\n",
              "      <th>3</th>\n",
              "      <td>1</td>\n",
              "      <td>0.0</td>\n",
              "      <td>0.0</td>\n",
              "      <td>0.0</td>\n",
              "      <td>0.0</td>\n",
              "      <td>0.0</td>\n",
              "      <td>1.0</td>\n",
              "      <td>0</td>\n",
              "      <td>1.0</td>\n",
              "      <td>90.01994</td>\n",
              "    </tr>\n",
              "    <tr>\n",
              "      <th>4</th>\n",
              "      <td>1</td>\n",
              "      <td>0.0</td>\n",
              "      <td>0.0</td>\n",
              "      <td>0.0</td>\n",
              "      <td>0.0</td>\n",
              "      <td>0.0</td>\n",
              "      <td>1.0</td>\n",
              "      <td>1</td>\n",
              "      <td>0.0</td>\n",
              "      <td>83.30000</td>\n",
              "    </tr>\n",
              "  </tbody>\n",
              "</table>\n",
              "</div>\n",
              "      <button class=\"colab-df-convert\" onclick=\"convertToInteractive('df-6a1e8fb2-c69a-4e10-909b-8ceb613e6ca1')\"\n",
              "              title=\"Convert this dataframe to an interactive table.\"\n",
              "              style=\"display:none;\">\n",
              "        \n",
              "  <svg xmlns=\"http://www.w3.org/2000/svg\" height=\"24px\"viewBox=\"0 0 24 24\"\n",
              "       width=\"24px\">\n",
              "    <path d=\"M0 0h24v24H0V0z\" fill=\"none\"/>\n",
              "    <path d=\"M18.56 5.44l.94 2.06.94-2.06 2.06-.94-2.06-.94-.94-2.06-.94 2.06-2.06.94zm-11 1L8.5 8.5l.94-2.06 2.06-.94-2.06-.94L8.5 2.5l-.94 2.06-2.06.94zm10 10l.94 2.06.94-2.06 2.06-.94-2.06-.94-.94-2.06-.94 2.06-2.06.94z\"/><path d=\"M17.41 7.96l-1.37-1.37c-.4-.4-.92-.59-1.43-.59-.52 0-1.04.2-1.43.59L10.3 9.45l-7.72 7.72c-.78.78-.78 2.05 0 2.83L4 21.41c.39.39.9.59 1.41.59.51 0 1.02-.2 1.41-.59l7.78-7.78 2.81-2.81c.8-.78.8-2.07 0-2.86zM5.41 20L4 18.59l7.72-7.72 1.47 1.35L5.41 20z\"/>\n",
              "  </svg>\n",
              "      </button>\n",
              "      \n",
              "  <style>\n",
              "    .colab-df-container {\n",
              "      display:flex;\n",
              "      flex-wrap:wrap;\n",
              "      gap: 12px;\n",
              "    }\n",
              "\n",
              "    .colab-df-convert {\n",
              "      background-color: #E8F0FE;\n",
              "      border: none;\n",
              "      border-radius: 50%;\n",
              "      cursor: pointer;\n",
              "      display: none;\n",
              "      fill: #1967D2;\n",
              "      height: 32px;\n",
              "      padding: 0 0 0 0;\n",
              "      width: 32px;\n",
              "    }\n",
              "\n",
              "    .colab-df-convert:hover {\n",
              "      background-color: #E2EBFA;\n",
              "      box-shadow: 0px 1px 2px rgba(60, 64, 67, 0.3), 0px 1px 3px 1px rgba(60, 64, 67, 0.15);\n",
              "      fill: #174EA6;\n",
              "    }\n",
              "\n",
              "    [theme=dark] .colab-df-convert {\n",
              "      background-color: #3B4455;\n",
              "      fill: #D2E3FC;\n",
              "    }\n",
              "\n",
              "    [theme=dark] .colab-df-convert:hover {\n",
              "      background-color: #434B5C;\n",
              "      box-shadow: 0px 1px 3px 1px rgba(0, 0, 0, 0.15);\n",
              "      filter: drop-shadow(0px 1px 2px rgba(0, 0, 0, 0.3));\n",
              "      fill: #FFFFFF;\n",
              "    }\n",
              "  </style>\n",
              "\n",
              "      <script>\n",
              "        const buttonEl =\n",
              "          document.querySelector('#df-6a1e8fb2-c69a-4e10-909b-8ceb613e6ca1 button.colab-df-convert');\n",
              "        buttonEl.style.display =\n",
              "          google.colab.kernel.accessAllowed ? 'block' : 'none';\n",
              "\n",
              "        async function convertToInteractive(key) {\n",
              "          const element = document.querySelector('#df-6a1e8fb2-c69a-4e10-909b-8ceb613e6ca1');\n",
              "          const dataTable =\n",
              "            await google.colab.kernel.invokeFunction('convertToInteractive',\n",
              "                                                     [key], {});\n",
              "          if (!dataTable) return;\n",
              "\n",
              "          const docLinkHtml = 'Like what you see? Visit the ' +\n",
              "            '<a target=\"_blank\" href=https://colab.research.google.com/notebooks/data_table.ipynb>data table notebook</a>'\n",
              "            + ' to learn more about interactive tables.';\n",
              "          element.innerHTML = '';\n",
              "          dataTable['output_type'] = 'display_data';\n",
              "          await google.colab.output.renderOutput(dataTable, element);\n",
              "          const docLink = document.createElement('div');\n",
              "          docLink.innerHTML = docLinkHtml;\n",
              "          element.appendChild(docLink);\n",
              "        }\n",
              "      </script>\n",
              "    </div>\n",
              "  </div>\n",
              "  "
            ]
          },
          "metadata": {},
          "execution_count": 5
        }
      ],
      "source": [
        "data = pd.read_csv('https://github.com/matheusfacure/python-causality-handbook/raw/master/causal-inference-for-the-brave-and-true/data/online_classroom.csv')\n",
        "print(data.shape)\n",
        "data.head()"
      ]
    },
    {
      "cell_type": "code",
      "execution_count": 9,
      "id": "9eacda34",
      "metadata": {
        "id": "9eacda34"
      },
      "outputs": [],
      "source": [
        "data_2 = (data\n",
        " .assign(class_format = np.select(\n",
        "     [data[\"format_ol\"].astype(bool), data[\"format_blended\"].astype(bool)],\n",
        "     [\"online\", \"blended\"],\n",
        "     default=\"face_to_face\" #create a new variable\n",
        " ))) #group by the new variable (treatments)"
      ]
    },
    {
      "cell_type": "markdown",
      "id": "0a4cfd04",
      "metadata": {
        "id": "0a4cfd04"
      },
      "source": [
        "1. Gráficos de las notas de los grupos  \"Face to face\", \"Online\" y \"Blended\""
      ]
    },
    {
      "cell_type": "code",
      "execution_count": 10,
      "id": "159db9c6",
      "metadata": {
        "colab": {
          "base_uri": "https://localhost:8080/",
          "height": 296
        },
        "id": "159db9c6",
        "outputId": "d3a09ae8-52b3-4989-d2cc-866bd403ce39"
      },
      "outputs": [
        {
          "output_type": "execute_result",
          "data": {
            "text/plain": [
              "<matplotlib.axes._subplots.AxesSubplot at 0x7f6ff538dd50>"
            ]
          },
          "metadata": {},
          "execution_count": 10
        },
        {
          "output_type": "display_data",
          "data": {
            "text/plain": [
              "<Figure size 432x288 with 1 Axes>"
            ],
            "image/png": "[encoded data removed]"
          },
          "metadata": {
            "needs_background": "light"
          }
        }
      ],
      "source": [
        "sns.histplot(data=data_2, x=\"falsexam\" , hue=\"class_format\", multiple =\"stack\", common_norm=False)"
      ]
    },
    {
      "cell_type": "code",
      "execution_count": 11,
      "id": "d8ba05fa",
      "metadata": {
        "scrolled": true,
        "colab": {
          "base_uri": "https://localhost:8080/",
          "height": 257
        },
        "id": "d8ba05fa",
        "outputId": "cb61679a-ad6c-4816-f9ed-071c39797962"
      },
      "outputs": [
        {
          "output_type": "execute_result",
          "data": {
            "text/plain": [
              "<seaborn.axisgrid.FacetGrid at 0x7f6ff4d073d0>"
            ]
          },
          "metadata": {},
          "execution_count": 11
        },
        {
          "output_type": "display_data",
          "data": {
            "text/plain": [
              "<Figure size 1080x360 with 3 Axes>"
            ],
            "image/png": "[encoded data removed]"
          },
          "metadata": {
            "needs_background": "light"
          }
        }
      ],
      "source": [
        "sns.displot(data=data_2, x=\"falsexam\", col=\"class_format\")"
      ]
    },
    {
      "cell_type": "markdown",
      "id": "2e83b646",
      "metadata": {
        "id": "2e83b646"
      },
      "source": [
        "2. Expliquen qué diferencias encuentran entre los tres histogramas\n",
        "\n",
        "- A partir de los graficos se evidencia que en cuanto al formato de clase online se encuentran datos con muy bajas notas a diferencia de los otros formatos, de modo que identificamos valores atípicos ello pued deberse a problemas técnicos con las clases online donde no es posible evaluar con exactitud el rendimiento académico. Por otro parte la distribución en en el formato de clase face-to-face las notas de los exámenes comienzan por encima de 50 mientras el formato de clases blended desde 45. En cuanto al formato face-to-face la mayor cantidad de estudiantes tuvieron de nota entre 80 y 85. Mientras para los demas formatos la cantidad de estudiantes para ese rango de notas disminuye. La cantidad de estudiantes con notas de 90 a 95 se mantienen para los tres tipos de formatos de clases. "
      ]
    },
    {
      "cell_type": "markdown",
      "id": "52870ccd",
      "metadata": {
        "id": "52870ccd"
      },
      "source": [
        "### Estimador de diferencia de medias."
      ]
    },
    {
      "cell_type": "markdown",
      "id": "65f8ccff",
      "metadata": {
        "id": "65f8ccff"
      },
      "source": [
        "1. Creando un nuevo dataset que incluye face-to-face y online lessons"
      ]
    },
    {
      "cell_type": "code",
      "execution_count": 12,
      "id": "7842cbe9",
      "metadata": {
        "id": "7842cbe9",
        "outputId": "b2c54f53-6af6-4731-849c-34230d307d92",
        "colab": {
          "base_uri": "https://localhost:8080/",
          "height": 488
        }
      },
      "outputs": [
        {
          "output_type": "execute_result",
          "data": {
            "text/plain": [
              "     gender  asian  black  hawaiian  hispanic  unknown  white  format_ol  \\\n",
              "0         0    0.0    0.0       0.0       0.0      0.0    1.0          0   \n",
              "1         1    0.0    0.0       0.0       0.0      0.0    1.0          0   \n",
              "2         1    0.0    0.0       0.0       0.0      0.0    1.0          0   \n",
              "3         1    0.0    0.0       0.0       0.0      0.0    1.0          0   \n",
              "4         1    0.0    0.0       0.0       0.0      0.0    1.0          1   \n",
              "..      ...    ...    ...       ...       ...      ...    ...        ...   \n",
              "318       0    0.0    0.0       0.0       0.0      0.0    1.0          0   \n",
              "319       1    NaN    NaN       NaN       NaN      NaN    NaN          1   \n",
              "320       0    NaN    NaN       NaN       NaN      NaN    NaN          1   \n",
              "321       1    NaN    NaN       NaN       NaN      NaN    NaN          1   \n",
              "322       1    0.0    0.0       0.0       0.0      0.0    1.0          0   \n",
              "\n",
              "     format_blended  falsexam  class_format  \n",
              "0               0.0  63.29997  face_to_face  \n",
              "1               0.0  79.96000  face_to_face  \n",
              "2               1.0  83.37000       blended  \n",
              "3               1.0  90.01994       blended  \n",
              "4               0.0  83.30000        online  \n",
              "..              ...       ...           ...  \n",
              "318             1.0  68.36000       blended  \n",
              "319             0.0  70.05000        online  \n",
              "320             0.0  66.69000        online  \n",
              "321             0.0  83.29997        online  \n",
              "322             1.0  96.68000       blended  \n",
              "\n",
              "[323 rows x 11 columns]"
            ],
            "text/html": [
              "\n",
              "  <div id=\"df-be75552c-4753-443b-91f5-b0e2e1cc460e\">\n",
              "    <div class=\"colab-df-container\">\n",
              "      <div>\n",
              "<style scoped>\n",
              "    .dataframe tbody tr th:only-of-type {\n",
              "        vertical-align: middle;\n",
              "    }\n",
              "\n",
              "    .dataframe tbody tr th {\n",
              "        vertical-align: top;\n",
              "    }\n",
              "\n",
              "    .dataframe thead th {\n",
              "        text-align: right;\n",
              "    }\n",
              "</style>\n",
              "<table border=\"1\" class=\"dataframe\">\n",
              "  <thead>\n",
              "    <tr style=\"text-align: right;\">\n",
              "      <th></th>\n",
              "      <th>gender</th>\n",
              "      <th>asian</th>\n",
              "      <th>black</th>\n",
              "      <th>hawaiian</th>\n",
              "      <th>hispanic</th>\n",
              "      <th>unknown</th>\n",
              "      <th>white</th>\n",
              "      <th>format_ol</th>\n",
              "      <th>format_blended</th>\n",
              "      <th>falsexam</th>\n",
              "      <th>class_format</th>\n",
              "    </tr>\n",
              "  </thead>\n",
              "  <tbody>\n",
              "    <tr>\n",
              "      <th>0</th>\n",
              "      <td>0</td>\n",
              "      <td>0.0</td>\n",
              "      <td>0.0</td>\n",
              "      <td>0.0</td>\n",
              "      <td>0.0</td>\n",
              "      <td>0.0</td>\n",
              "      <td>1.0</td>\n",
              "      <td>0</td>\n",
              "      <td>0.0</td>\n",
              "      <td>63.29997</td>\n",
              "      <td>face_to_face</td>\n",
              "    </tr>\n",
              "    <tr>\n",
              "      <th>1</th>\n",
              "      <td>1</td>\n",
              "      <td>0.0</td>\n",
              "      <td>0.0</td>\n",
              "      <td>0.0</td>\n",
              "      <td>0.0</td>\n",
              "      <td>0.0</td>\n",
              "      <td>1.0</td>\n",
              "      <td>0</td>\n",
              "      <td>0.0</td>\n",
              "      <td>79.96000</td>\n",
              "      <td>face_to_face</td>\n",
              "    </tr>\n",
              "    <tr>\n",
              "      <th>2</th>\n",
              "      <td>1</td>\n",
              "      <td>0.0</td>\n",
              "      <td>0.0</td>\n",
              "      <td>0.0</td>\n",
              "      <td>0.0</td>\n",
              "      <td>0.0</td>\n",
              "      <td>1.0</td>\n",
              "      <td>0</td>\n",
              "      <td>1.0</td>\n",
              "      <td>83.37000</td>\n",
              "      <td>blended</td>\n",
              "    </tr>\n",
              "    <tr>\n",
              "      <th>3</th>\n",
              "      <td>1</td>\n",
              "      <td>0.0</td>\n",
              "      <td>0.0</td>\n",
              "      <td>0.0</td>\n",
              "      <td>0.0</td>\n",
              "      <td>0.0</td>\n",
              "      <td>1.0</td>\n",
              "      <td>0</td>\n",
              "      <td>1.0</td>\n",
              "      <td>90.01994</td>\n",
              "      <td>blended</td>\n",
              "    </tr>\n",
              "    <tr>\n",
              "      <th>4</th>\n",
              "      <td>1</td>\n",
              "      <td>0.0</td>\n",
              "      <td>0.0</td>\n",
              "      <td>0.0</td>\n",
              "      <td>0.0</td>\n",
              "      <td>0.0</td>\n",
              "      <td>1.0</td>\n",
              "      <td>1</td>\n",
              "      <td>0.0</td>\n",
              "      <td>83.30000</td>\n",
              "      <td>online</td>\n",
              "    </tr>\n",
              "    <tr>\n",
              "      <th>...</th>\n",
              "      <td>...</td>\n",
              "      <td>...</td>\n",
              "      <td>...</td>\n",
              "      <td>...</td>\n",
              "      <td>...</td>\n",
              "      <td>...</td>\n",
              "      <td>...</td>\n",
              "      <td>...</td>\n",
              "      <td>...</td>\n",
              "      <td>...</td>\n",
              "      <td>...</td>\n",
              "    </tr>\n",
              "    <tr>\n",
              "      <th>318</th>\n",
              "      <td>0</td>\n",
              "      <td>0.0</td>\n",
              "      <td>0.0</td>\n",
              "      <td>0.0</td>\n",
              "      <td>0.0</td>\n",
              "      <td>0.0</td>\n",
              "      <td>1.0</td>\n",
              "      <td>0</td>\n",
              "      <td>1.0</td>\n",
              "      <td>68.36000</td>\n",
              "      <td>blended</td>\n",
              "    </tr>\n",
              "    <tr>\n",
              "      <th>319</th>\n",
              "      <td>1</td>\n",
              "      <td>NaN</td>\n",
              "      <td>NaN</td>\n",
              "      <td>NaN</td>\n",
              "      <td>NaN</td>\n",
              "      <td>NaN</td>\n",
              "      <td>NaN</td>\n",
              "      <td>1</td>\n",
              "      <td>0.0</td>\n",
              "      <td>70.05000</td>\n",
              "      <td>online</td>\n",
              "    </tr>\n",
              "    <tr>\n",
              "      <th>320</th>\n",
              "      <td>0</td>\n",
              "      <td>NaN</td>\n",
              "      <td>NaN</td>\n",
              "      <td>NaN</td>\n",
              "      <td>NaN</td>\n",
              "      <td>NaN</td>\n",
              "      <td>NaN</td>\n",
              "      <td>1</td>\n",
              "      <td>0.0</td>\n",
              "      <td>66.69000</td>\n",
              "      <td>online</td>\n",
              "    </tr>\n",
              "    <tr>\n",
              "      <th>321</th>\n",
              "      <td>1</td>\n",
              "      <td>NaN</td>\n",
              "      <td>NaN</td>\n",
              "      <td>NaN</td>\n",
              "      <td>NaN</td>\n",
              "      <td>NaN</td>\n",
              "      <td>NaN</td>\n",
              "      <td>1</td>\n",
              "      <td>0.0</td>\n",
              "      <td>83.29997</td>\n",
              "      <td>online</td>\n",
              "    </tr>\n",
              "    <tr>\n",
              "      <th>322</th>\n",
              "      <td>1</td>\n",
              "      <td>0.0</td>\n",
              "      <td>0.0</td>\n",
              "      <td>0.0</td>\n",
              "      <td>0.0</td>\n",
              "      <td>0.0</td>\n",
              "      <td>1.0</td>\n",
              "      <td>0</td>\n",
              "      <td>1.0</td>\n",
              "      <td>96.68000</td>\n",
              "      <td>blended</td>\n",
              "    </tr>\n",
              "  </tbody>\n",
              "</table>\n",
              "<p>323 rows × 11 columns</p>\n",
              "</div>\n",
              "      <button class=\"colab-df-convert\" onclick=\"convertToInteractive('df-be75552c-4753-443b-91f5-b0e2e1cc460e')\"\n",
              "              title=\"Convert this dataframe to an interactive table.\"\n",
              "              style=\"display:none;\">\n",
              "        \n",
              "  <svg xmlns=\"http://www.w3.org/2000/svg\" height=\"24px\"viewBox=\"0 0 24 24\"\n",
              "       width=\"24px\">\n",
              "    <path d=\"M0 0h24v24H0V0z\" fill=\"none\"/>\n",
              "    <path d=\"M18.56 5.44l.94 2.06.94-2.06 2.06-.94-2.06-.94-.94-2.06-.94 2.06-2.06.94zm-11 1L8.5 8.5l.94-2.06 2.06-.94-2.06-.94L8.5 2.5l-.94 2.06-2.06.94zm10 10l.94 2.06.94-2.06 2.06-.94-2.06-.94-.94-2.06-.94 2.06-2.06.94z\"/><path d=\"M17.41 7.96l-1.37-1.37c-.4-.4-.92-.59-1.43-.59-.52 0-1.04.2-1.43.59L10.3 9.45l-7.72 7.72c-.78.78-.78 2.05 0 2.83L4 21.41c.39.39.9.59 1.41.59.51 0 1.02-.2 1.41-.59l7.78-7.78 2.81-2.81c.8-.78.8-2.07 0-2.86zM5.41 20L4 18.59l7.72-7.72 1.47 1.35L5.41 20z\"/>\n",
              "  </svg>\n",
              "      </button>\n",
              "      \n",
              "  <style>\n",
              "    .colab-df-container {\n",
              "      display:flex;\n",
              "      flex-wrap:wrap;\n",
              "      gap: 12px;\n",
              "    }\n",
              "\n",
              "    .colab-df-convert {\n",
              "      background-color: #E8F0FE;\n",
              "      border: none;\n",
              "      border-radius: 50%;\n",
              "      cursor: pointer;\n",
              "      display: none;\n",
              "      fill: #1967D2;\n",
              "      height: 32px;\n",
              "      padding: 0 0 0 0;\n",
              "      width: 32px;\n",
              "    }\n",
              "\n",
              "    .colab-df-convert:hover {\n",
              "      background-color: #E2EBFA;\n",
              "      box-shadow: 0px 1px 2px rgba(60, 64, 67, 0.3), 0px 1px 3px 1px rgba(60, 64, 67, 0.15);\n",
              "      fill: #174EA6;\n",
              "    }\n",
              "\n",
              "    [theme=dark] .colab-df-convert {\n",
              "      background-color: #3B4455;\n",
              "      fill: #D2E3FC;\n",
              "    }\n",
              "\n",
              "    [theme=dark] .colab-df-convert:hover {\n",
              "      background-color: #434B5C;\n",
              "      box-shadow: 0px 1px 3px 1px rgba(0, 0, 0, 0.15);\n",
              "      filter: drop-shadow(0px 1px 2px rgba(0, 0, 0, 0.3));\n",
              "      fill: #FFFFFF;\n",
              "    }\n",
              "  </style>\n",
              "\n",
              "      <script>\n",
              "        const buttonEl =\n",
              "          document.querySelector('#df-be75552c-4753-443b-91f5-b0e2e1cc460e button.colab-df-convert');\n",
              "        buttonEl.style.display =\n",
              "          google.colab.kernel.accessAllowed ? 'block' : 'none';\n",
              "\n",
              "        async function convertToInteractive(key) {\n",
              "          const element = document.querySelector('#df-be75552c-4753-443b-91f5-b0e2e1cc460e');\n",
              "          const dataTable =\n",
              "            await google.colab.kernel.invokeFunction('convertToInteractive',\n",
              "                                                     [key], {});\n",
              "          if (!dataTable) return;\n",
              "\n",
              "          const docLinkHtml = 'Like what you see? Visit the ' +\n",
              "            '<a target=\"_blank\" href=https://colab.research.google.com/notebooks/data_table.ipynb>data table notebook</a>'\n",
              "            + ' to learn more about interactive tables.';\n",
              "          element.innerHTML = '';\n",
              "          dataTable['output_type'] = 'display_data';\n",
              "          await google.colab.output.renderOutput(dataTable, element);\n",
              "          const docLink = document.createElement('div');\n",
              "          docLink.innerHTML = docLinkHtml;\n",
              "          element.appendChild(docLink);\n",
              "        }\n",
              "      </script>\n",
              "    </div>\n",
              "  </div>\n",
              "  "
            ]
          },
          "metadata": {},
          "execution_count": 12
        }
      ],
      "source": [
        "data_2"
      ]
    },
    {
      "cell_type": "markdown",
      "id": "bbd9f196",
      "metadata": {
        "id": "bbd9f196"
      },
      "source": [
        "Promedios del grupo online lessons y face-to-face"
      ]
    },
    {
      "cell_type": "code",
      "execution_count": 13,
      "id": "909c6709",
      "metadata": {
        "id": "909c6709",
        "outputId": "8bfb774c-28c8-4ca2-d3e1-8f011bcecd6c",
        "colab": {
          "base_uri": "https://localhost:8080/",
          "height": 239
        }
      },
      "outputs": [
        {
          "output_type": "execute_result",
          "data": {
            "text/plain": [
              "                gender     asian     black  hawaiian  hispanic   unknown  \\\n",
              "class_format                                                               \n",
              "blended       0.550459  0.217949  0.102564  0.025641  0.012821  0.012821   \n",
              "face_to_face  0.633333  0.202020  0.070707  0.000000  0.010101  0.000000   \n",
              "online        0.542553  0.228571  0.028571  0.014286  0.028571  0.000000   \n",
              "\n",
              "                 white  format_ol  format_blended   falsexam  \n",
              "class_format                                                  \n",
              "blended       0.628205        0.0             1.0  77.093731  \n",
              "face_to_face  0.717172        0.0             0.0  78.547485  \n",
              "online        0.700000        1.0             0.0  73.635263  "
            ],
            "text/html": [
              "\n",
              "  <div id=\"df-2367df42-b19f-4bf0-b0a4-ed4a2edc2580\">\n",
              "    <div class=\"colab-df-container\">\n",
              "      <div>\n",
              "<style scoped>\n",
              "    .dataframe tbody tr th:only-of-type {\n",
              "        vertical-align: middle;\n",
              "    }\n",
              "\n",
              "    .dataframe tbody tr th {\n",
              "        vertical-align: top;\n",
              "    }\n",
              "\n",
              "    .dataframe thead th {\n",
              "        text-align: right;\n",
              "    }\n",
              "</style>\n",
              "<table border=\"1\" class=\"dataframe\">\n",
              "  <thead>\n",
              "    <tr style=\"text-align: right;\">\n",
              "      <th></th>\n",
              "      <th>gender</th>\n",
              "      <th>asian</th>\n",
              "      <th>black</th>\n",
              "      <th>hawaiian</th>\n",
              "      <th>hispanic</th>\n",
              "      <th>unknown</th>\n",
              "      <th>white</th>\n",
              "      <th>format_ol</th>\n",
              "      <th>format_blended</th>\n",
              "      <th>falsexam</th>\n",
              "    </tr>\n",
              "    <tr>\n",
              "      <th>class_format</th>\n",
              "      <th></th>\n",
              "      <th></th>\n",
              "      <th></th>\n",
              "      <th></th>\n",
              "      <th></th>\n",
              "      <th></th>\n",
              "      <th></th>\n",
              "      <th></th>\n",
              "      <th></th>\n",
              "      <th></th>\n",
              "    </tr>\n",
              "  </thead>\n",
              "  <tbody>\n",
              "    <tr>\n",
              "      <th>blended</th>\n",
              "      <td>0.550459</td>\n",
              "      <td>0.217949</td>\n",
              "      <td>0.102564</td>\n",
              "      <td>0.025641</td>\n",
              "      <td>0.012821</td>\n",
              "      <td>0.012821</td>\n",
              "      <td>0.628205</td>\n",
              "      <td>0.0</td>\n",
              "      <td>1.0</td>\n",
              "      <td>77.093731</td>\n",
              "    </tr>\n",
              "    <tr>\n",
              "      <th>face_to_face</th>\n",
              "      <td>0.633333</td>\n",
              "      <td>0.202020</td>\n",
              "      <td>0.070707</td>\n",
              "      <td>0.000000</td>\n",
              "      <td>0.010101</td>\n",
              "      <td>0.000000</td>\n",
              "      <td>0.717172</td>\n",
              "      <td>0.0</td>\n",
              "      <td>0.0</td>\n",
              "      <td>78.547485</td>\n",
              "    </tr>\n",
              "    <tr>\n",
              "      <th>online</th>\n",
              "      <td>0.542553</td>\n",
              "      <td>0.228571</td>\n",
              "      <td>0.028571</td>\n",
              "      <td>0.014286</td>\n",
              "      <td>0.028571</td>\n",
              "      <td>0.000000</td>\n",
              "      <td>0.700000</td>\n",
              "      <td>1.0</td>\n",
              "      <td>0.0</td>\n",
              "      <td>73.635263</td>\n",
              "    </tr>\n",
              "  </tbody>\n",
              "</table>\n",
              "</div>\n",
              "      <button class=\"colab-df-convert\" onclick=\"convertToInteractive('df-2367df42-b19f-4bf0-b0a4-ed4a2edc2580')\"\n",
              "              title=\"Convert this dataframe to an interactive table.\"\n",
              "              style=\"display:none;\">\n",
              "        \n",
              "  <svg xmlns=\"http://www.w3.org/2000/svg\" height=\"24px\"viewBox=\"0 0 24 24\"\n",
              "       width=\"24px\">\n",
              "    <path d=\"M0 0h24v24H0V0z\" fill=\"none\"/>\n",
              "    <path d=\"M18.56 5.44l.94 2.06.94-2.06 2.06-.94-2.06-.94-.94-2.06-.94 2.06-2.06.94zm-11 1L8.5 8.5l.94-2.06 2.06-.94-2.06-.94L8.5 2.5l-.94 2.06-2.06.94zm10 10l.94 2.06.94-2.06 2.06-.94-2.06-.94-.94-2.06-.94 2.06-2.06.94z\"/><path d=\"M17.41 7.96l-1.37-1.37c-.4-.4-.92-.59-1.43-.59-.52 0-1.04.2-1.43.59L10.3 9.45l-7.72 7.72c-.78.78-.78 2.05 0 2.83L4 21.41c.39.39.9.59 1.41.59.51 0 1.02-.2 1.41-.59l7.78-7.78 2.81-2.81c.8-.78.8-2.07 0-2.86zM5.41 20L4 18.59l7.72-7.72 1.47 1.35L5.41 20z\"/>\n",
              "  </svg>\n",
              "      </button>\n",
              "      \n",
              "  <style>\n",
              "    .colab-df-container {\n",
              "      display:flex;\n",
              "      flex-wrap:wrap;\n",
              "      gap: 12px;\n",
              "    }\n",
              "\n",
              "    .colab-df-convert {\n",
              "      background-color: #E8F0FE;\n",
              "      border: none;\n",
              "      border-radius: 50%;\n",
              "      cursor: pointer;\n",
              "      display: none;\n",
              "      fill: #1967D2;\n",
              "      height: 32px;\n",
              "      padding: 0 0 0 0;\n",
              "      width: 32px;\n",
              "    }\n",
              "\n",
              "    .colab-df-convert:hover {\n",
              "      background-color: #E2EBFA;\n",
              "      box-shadow: 0px 1px 2px rgba(60, 64, 67, 0.3), 0px 1px 3px 1px rgba(60, 64, 67, 0.15);\n",
              "      fill: #174EA6;\n",
              "    }\n",
              "\n",
              "    [theme=dark] .colab-df-convert {\n",
              "      background-color: #3B4455;\n",
              "      fill: #D2E3FC;\n",
              "    }\n",
              "\n",
              "    [theme=dark] .colab-df-convert:hover {\n",
              "      background-color: #434B5C;\n",
              "      box-shadow: 0px 1px 3px 1px rgba(0, 0, 0, 0.15);\n",
              "      filter: drop-shadow(0px 1px 2px rgba(0, 0, 0, 0.3));\n",
              "      fill: #FFFFFF;\n",
              "    }\n",
              "  </style>\n",
              "\n",
              "      <script>\n",
              "        const buttonEl =\n",
              "          document.querySelector('#df-2367df42-b19f-4bf0-b0a4-ed4a2edc2580 button.colab-df-convert');\n",
              "        buttonEl.style.display =\n",
              "          google.colab.kernel.accessAllowed ? 'block' : 'none';\n",
              "\n",
              "        async function convertToInteractive(key) {\n",
              "          const element = document.querySelector('#df-2367df42-b19f-4bf0-b0a4-ed4a2edc2580');\n",
              "          const dataTable =\n",
              "            await google.colab.kernel.invokeFunction('convertToInteractive',\n",
              "                                                     [key], {});\n",
              "          if (!dataTable) return;\n",
              "\n",
              "          const docLinkHtml = 'Like what you see? Visit the ' +\n",
              "            '<a target=\"_blank\" href=https://colab.research.google.com/notebooks/data_table.ipynb>data table notebook</a>'\n",
              "            + ' to learn more about interactive tables.';\n",
              "          element.innerHTML = '';\n",
              "          dataTable['output_type'] = 'display_data';\n",
              "          await google.colab.output.renderOutput(dataTable, element);\n",
              "          const docLink = document.createElement('div');\n",
              "          docLink.innerHTML = docLinkHtml;\n",
              "          element.appendChild(docLink);\n",
              "        }\n",
              "      </script>\n",
              "    </div>\n",
              "  </div>\n",
              "  "
            ]
          },
          "metadata": {},
          "execution_count": 13
        }
      ],
      "source": [
        "data_2.groupby([\"class_format\"]).mean() #get the exam's mean"
      ]
    },
    {
      "cell_type": "markdown",
      "id": "63b2fe97",
      "metadata": {
        "id": "63b2fe97"
      },
      "source": [
        "Diferencias de valor entre el grupo 2 y 3"
      ]
    },
    {
      "cell_type": "code",
      "execution_count": 14,
      "id": "82c5000e",
      "metadata": {
        "id": "82c5000e",
        "outputId": "a8770c15-073f-46fd-b837-7eaeddfdd449",
        "colab": {
          "base_uri": "https://localhost:8080/"
        }
      },
      "outputs": [
        {
          "output_type": "execute_result",
          "data": {
            "text/plain": [
              "-4.912222"
            ]
          },
          "metadata": {},
          "execution_count": 14
        }
      ],
      "source": [
        "# Y(1)- Y(0) = ATE Average Treatment Effect - Causal \n",
        "# Y(1) -> online, Y(0) -> face_to_face\n",
        "73.635263 - 78.547485"
      ]
    },
    {
      "cell_type": "markdown",
      "id": "74c17e35",
      "metadata": {
        "id": "74c17e35"
      },
      "source": [
        "Interpretación de resultados:\n",
        "\n",
        "Podemos ver que la variable de clases presenciales tien una media de 78,54, mientras que los cursos en línea una media de 73,63. Esto significa que hay mayor apoyo hacia las clases presenciales que en línea.  Por otro lado, las diferencias de valor entre el grupo 2 y3 es de -4,91. Esto significa que las clases en línea hacen que los estudiantes rindan al rededor de 5 puntos menos en la media."
      ]
    },
    {
      "cell_type": "markdown",
      "id": "6f54fe3a",
      "metadata": {
        "id": "6f54fe3a"
      },
      "source": [
        "### Estimador de diferencia de medias mediante regresión lineal"
      ]
    },
    {
      "cell_type": "markdown",
      "id": "999ef9f5",
      "metadata": {
        "id": "999ef9f5"
      },
      "source": [
        "- Creando variable dummy"
      ]
    },
    {
      "cell_type": "code",
      "execution_count": 15,
      "id": "428448ea",
      "metadata": {
        "id": "428448ea"
      },
      "outputs": [],
      "source": [
        "import numpy as np\n",
        "import statsmodels.formula.api as smf\n",
        "import graphviz as gr\n",
        "%matplotlib inline"
      ]
    },
    {
      "cell_type": "code",
      "execution_count": 16,
      "id": "f844a487",
      "metadata": {
        "id": "f844a487",
        "outputId": "3214d7f3-6ce2-46e8-8e61-8adf1b44e6bb",
        "colab": {
          "base_uri": "https://localhost:8080/",
          "height": 83
        }
      },
      "outputs": [
        {
          "output_type": "execute_result",
          "data": {
            "text/plain": [
              "<class 'statsmodels.iolib.table.SimpleTable'>"
            ],
            "text/html": [
              "<table class=\"simpletable\">\n",
              "<tr>\n",
              "      <td></td>         <th>coef</th>     <th>std err</th>      <th>t</th>      <th>P>|t|</th>  <th>[0.025</th>    <th>0.975]</th>  \n",
              "</tr>\n",
              "<tr>\n",
              "  <th>Intercept</th> <td>   78.5475</td> <td>    1.113</td> <td>   70.563</td> <td> 0.000</td> <td>   76.353</td> <td>   80.742</td>\n",
              "</tr>\n",
              "<tr>\n",
              "  <th>format_ol</th> <td>   -4.9122</td> <td>    1.680</td> <td>   -2.925</td> <td> 0.004</td> <td>   -8.223</td> <td>   -1.601</td>\n",
              "</tr>\n",
              "</table>"
            ]
          },
          "metadata": {},
          "execution_count": 16
        }
      ],
      "source": [
        "data = pd.read_csv(\"https://github.com/matheusfacure/python-causality-handbook/raw/master/causal-inference-for-the-brave-and-true/data/online_classroom.csv\").query(\"format_blended==0\")\n",
        "\n",
        "result = smf.ols('falsexam ~ format_ol', data=data).fit()\n",
        "result.summary().tables[1]"
      ]
    },
    {
      "cell_type": "markdown",
      "id": "31d8ac79",
      "metadata": {
        "id": "31d8ac79"
      },
      "source": [
        "- Realizando una regresión lineal donde Y = Las notas, T = Dummy creada para el tipo de clase.\n",
        "Esta regresión es de la siguiente manera Y = beta_0 + beta_1*T + e.\n"
      ]
    },
    {
      "cell_type": "markdown",
      "id": "ca29d82c",
      "metadata": {
        "id": "ca29d82c"
      },
      "source": [
        "El valor que encontramos para beta_1 es el efecto de tratamiento promedio que debería ser igual al estimador de diferencia de medias encontrado arriba."
      ]
    },
    {
      "cell_type": "code",
      "execution_count": 17,
      "id": "3f546358",
      "metadata": {
        "id": "3f546358",
        "outputId": "35491512-2954-4e2d-c518-01eab3239ca8",
        "colab": {
          "base_uri": "https://localhost:8080/"
        }
      },
      "outputs": [
        {
          "output_type": "execute_result",
          "data": {
            "text/plain": [
              "array([-4.9122215 , 78.54748458])"
            ]
          },
          "metadata": {},
          "execution_count": 17
        }
      ],
      "source": [
        "X = data[[\"format_ol\"]].assign(intercep=1)\n",
        "y = data[\"falsexam\"]\n",
        "\n",
        "def regress(y, X): \n",
        "    return np.linalg.inv(X.T.dot(X)).dot(X.T.dot(y))\n",
        "\n",
        "beta = regress(y, X)\n",
        "beta"
      ]
    },
    {
      "cell_type": "code",
      "execution_count": 18,
      "id": "f97f8ea2",
      "metadata": {
        "id": "f97f8ea2",
        "outputId": "6d4557ca-0c75-42bf-b3f7-d241404e4bc5",
        "colab": {
          "base_uri": "https://localhost:8080/"
        }
      },
      "outputs": [
        {
          "output_type": "execute_result",
          "data": {
            "text/plain": [
              "-4.91222149822695"
            ]
          },
          "metadata": {},
          "execution_count": 18
        }
      ],
      "source": [
        "k = data[\"falsexam\"].cov(data[\"format_ol\"]) / data[\"format_ol\"].var()\n",
        "k"
      ]
    },
    {
      "cell_type": "code",
      "source": [
        "e = y - X.dot(beta)\n",
        "print(\"Orthogonality imply that the dot product is zero:\", np.dot(e, X))\n",
        "X[[\"format_ol\"]].assign(e=e).corr()"
      ],
      "metadata": {
        "id": "pE1-_keqYpoA",
        "outputId": "5693b77b-a0a9-4751-b175-0cf850658baa",
        "colab": {
          "base_uri": "https://localhost:8080/",
          "height": 149
        }
      },
      "id": "pE1-_keqYpoA",
      "execution_count": 19,
      "outputs": [
        {
          "output_type": "stream",
          "name": "stdout",
          "text": [
            "Orthogonality imply that the dot product is zero: [8.24229573e-13 4.68247663e-12]\n"
          ]
        },
        {
          "output_type": "execute_result",
          "data": {
            "text/plain": [
              "              format_ol             e\n",
              "format_ol  1.000000e+00 -9.653303e-16\n",
              "e         -9.653303e-16  1.000000e+00"
            ],
            "text/html": [
              "\n",
              "  <div id=\"df-99b01c46-2f2b-4a42-99ce-62492803c4ec\">\n",
              "    <div class=\"colab-df-container\">\n",
              "      <div>\n",
              "<style scoped>\n",
              "    .dataframe tbody tr th:only-of-type {\n",
              "        vertical-align: middle;\n",
              "    }\n",
              "\n",
              "    .dataframe tbody tr th {\n",
              "        vertical-align: top;\n",
              "    }\n",
              "\n",
              "    .dataframe thead th {\n",
              "        text-align: right;\n",
              "    }\n",
              "</style>\n",
              "<table border=\"1\" class=\"dataframe\">\n",
              "  <thead>\n",
              "    <tr style=\"text-align: right;\">\n",
              "      <th></th>\n",
              "      <th>format_ol</th>\n",
              "      <th>e</th>\n",
              "    </tr>\n",
              "  </thead>\n",
              "  <tbody>\n",
              "    <tr>\n",
              "      <th>format_ol</th>\n",
              "      <td>1.000000e+00</td>\n",
              "      <td>-9.653303e-16</td>\n",
              "    </tr>\n",
              "    <tr>\n",
              "      <th>e</th>\n",
              "      <td>-9.653303e-16</td>\n",
              "      <td>1.000000e+00</td>\n",
              "    </tr>\n",
              "  </tbody>\n",
              "</table>\n",
              "</div>\n",
              "      <button class=\"colab-df-convert\" onclick=\"convertToInteractive('df-99b01c46-2f2b-4a42-99ce-62492803c4ec')\"\n",
              "              title=\"Convert this dataframe to an interactive table.\"\n",
              "              style=\"display:none;\">\n",
              "        \n",
              "  <svg xmlns=\"http://www.w3.org/2000/svg\" height=\"24px\"viewBox=\"0 0 24 24\"\n",
              "       width=\"24px\">\n",
              "    <path d=\"M0 0h24v24H0V0z\" fill=\"none\"/>\n",
              "    <path d=\"M18.56 5.44l.94 2.06.94-2.06 2.06-.94-2.06-.94-.94-2.06-.94 2.06-2.06.94zm-11 1L8.5 8.5l.94-2.06 2.06-.94-2.06-.94L8.5 2.5l-.94 2.06-2.06.94zm10 10l.94 2.06.94-2.06 2.06-.94-2.06-.94-.94-2.06-.94 2.06-2.06.94z\"/><path d=\"M17.41 7.96l-1.37-1.37c-.4-.4-.92-.59-1.43-.59-.52 0-1.04.2-1.43.59L10.3 9.45l-7.72 7.72c-.78.78-.78 2.05 0 2.83L4 21.41c.39.39.9.59 1.41.59.51 0 1.02-.2 1.41-.59l7.78-7.78 2.81-2.81c.8-.78.8-2.07 0-2.86zM5.41 20L4 18.59l7.72-7.72 1.47 1.35L5.41 20z\"/>\n",
              "  </svg>\n",
              "      </button>\n",
              "      \n",
              "  <style>\n",
              "    .colab-df-container {\n",
              "      display:flex;\n",
              "      flex-wrap:wrap;\n",
              "      gap: 12px;\n",
              "    }\n",
              "\n",
              "    .colab-df-convert {\n",
              "      background-color: #E8F0FE;\n",
              "      border: none;\n",
              "      border-radius: 50%;\n",
              "      cursor: pointer;\n",
              "      display: none;\n",
              "      fill: #1967D2;\n",
              "      height: 32px;\n",
              "      padding: 0 0 0 0;\n",
              "      width: 32px;\n",
              "    }\n",
              "\n",
              "    .colab-df-convert:hover {\n",
              "      background-color: #E2EBFA;\n",
              "      box-shadow: 0px 1px 2px rgba(60, 64, 67, 0.3), 0px 1px 3px 1px rgba(60, 64, 67, 0.15);\n",
              "      fill: #174EA6;\n",
              "    }\n",
              "\n",
              "    [theme=dark] .colab-df-convert {\n",
              "      background-color: #3B4455;\n",
              "      fill: #D2E3FC;\n",
              "    }\n",
              "\n",
              "    [theme=dark] .colab-df-convert:hover {\n",
              "      background-color: #434B5C;\n",
              "      box-shadow: 0px 1px 3px 1px rgba(0, 0, 0, 0.15);\n",
              "      filter: drop-shadow(0px 1px 2px rgba(0, 0, 0, 0.3));\n",
              "      fill: #FFFFFF;\n",
              "    }\n",
              "  </style>\n",
              "\n",
              "      <script>\n",
              "        const buttonEl =\n",
              "          document.querySelector('#df-99b01c46-2f2b-4a42-99ce-62492803c4ec button.colab-df-convert');\n",
              "        buttonEl.style.display =\n",
              "          google.colab.kernel.accessAllowed ? 'block' : 'none';\n",
              "\n",
              "        async function convertToInteractive(key) {\n",
              "          const element = document.querySelector('#df-99b01c46-2f2b-4a42-99ce-62492803c4ec');\n",
              "          const dataTable =\n",
              "            await google.colab.kernel.invokeFunction('convertToInteractive',\n",
              "                                                     [key], {});\n",
              "          if (!dataTable) return;\n",
              "\n",
              "          const docLinkHtml = 'Like what you see? Visit the ' +\n",
              "            '<a target=\"_blank\" href=https://colab.research.google.com/notebooks/data_table.ipynb>data table notebook</a>'\n",
              "            + ' to learn more about interactive tables.';\n",
              "          element.innerHTML = '';\n",
              "          dataTable['output_type'] = 'display_data';\n",
              "          await google.colab.output.renderOutput(dataTable, element);\n",
              "          const docLink = document.createElement('div');\n",
              "          docLink.innerHTML = docLinkHtml;\n",
              "          element.appendChild(docLink);\n",
              "        }\n",
              "      </script>\n",
              "    </div>\n",
              "  </div>\n",
              "  "
            ]
          },
          "metadata": {},
          "execution_count": 19
        }
      ]
    },
    {
      "cell_type": "markdown",
      "id": "f2931db2",
      "metadata": {
        "id": "f2931db2"
      },
      "source": [
        "Lo anterior muestra que en la inferencia causal solemos querer estimar el impacto causal de una variable T en un resultado Y. En este caso las notas y la variable dummy. La regresión sirve para estimar este efecto. Incluso si incluimos otras variables en el modelo, suelen ser sólo auxiliares. Añadir otras variables puede ayudarnos a estimar el efecto causal del tratamiento."
      ]
    }
  ],
  "metadata": {
    "colab": {
      "provenance": []
    },
    "kernelspec": {
      "display_name": "Python 3 (ipykernel)",
      "language": "python",
      "name": "python3"
    },
    "language_info": {
      "codemirror_mode": {
        "name": "ipython",
        "version": 3
      },
      "file_extension": ".py",
      "mimetype": "text/x-python",
      "name": "python",
      "nbconvert_exporter": "python",
      "pygments_lexer": "ipython3",
      "version": "3.9.12"
    }
  },
  "nbformat": 4,
  "nbformat_minor": 5
}