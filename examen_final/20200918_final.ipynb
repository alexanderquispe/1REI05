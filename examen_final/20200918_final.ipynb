{
 "cells": [
  {
   "cell_type": "markdown",
   "id": "035ed3c6",
   "metadata": {},
   "source": [
    "# EXAMEN FINAL camila durand"
   ]
  },
  {
   "cell_type": "markdown",
   "id": "36d71b8c",
   "metadata": {},
   "source": [
    "### 1. INSTRUMENTAL VARIABLES IV"
   ]
  },
  {
   "cell_type": "markdown",
   "id": "844f3bb4",
   "metadata": {},
   "source": [
    "Suponga que estamos interesados en estudiar la relación entre educación(X) y el nivel de ingresos(Y).\n",
    "Un investigador propone utilizar como variable instrumental(Z) el numero de horas que una persona utilizó para ver televisión cuando era niño."
   ]
  },
  {
   "cell_type": "markdown",
   "id": "2e8b8832",
   "metadata": {},
   "source": [
    "**Indetifique todos los elementos necesarios para implementar un enfoque de IV en este ejemplo.**"
   ]
  },
  {
   "cell_type": "markdown",
   "id": "084d9b01",
   "metadata": {},
   "source": [
    "Las variables instrumentales se usan para resolver problemas de endogeneidad debido a variables omitidas, para ello se usa una variabilidad adicional, en este caso Z como horas que una persona utilizó viendo tv mientras era niño, ello nos ayudará a ver parte omitida de la relación entre X y Y. El instrumento bajo esta perspectiva sería válido, como manera alternativa para estimar el efecto de la variable de interés sobre la variable dependiente, educación e ingresos respectivamente. Se deben cumplir los requisitos, los supuestos de relevancia y validez.La relevancia supone que el instrumento (Z) debe estar relacionado con la variable de tratamiento (X), para ello seria conveniente realizar una regresión de la variable de interés (Educ) contra el instrumento (Z). La validez se refiere a que el instrumental Z es una variable que no tiene alguna puerta trasera por sí mismo. Es decir, que Z puede ser razonablemente excluido del modelo luego que la relación Z → X esté incluida.\n"
   ]
  },
  {
   "cell_type": "markdown",
   "id": "1d5ade95",
   "metadata": {},
   "source": [
    "**Explique el procedimiento para encontrar el efecto causal en este escenario. Puede utilizar ecuaciones**"
   ]
  },
  {
   "cell_type": "markdown",
   "id": "e1003323",
   "metadata": {},
   "source": [
    "El procedimiento para encontrar el efecto causal del ejemplo planteado seria ver el número de horas que una persona utilizó para ver televisión cuando era niño para que explique la variable de tratamiento, la educación. Por otro lado, la variable instrumental mejora la regresión lineal, ya que remueve todas las partes del tratamiento que no se explican por la variable instrumental, por ende, el instrumento debe ser utilizado para explicar el resultado. En ese caso, se estaría analizando que el numero de horas que una persona utilizó para ver televisión cuando era niño determina el nivel de educación. Asimismo, este debe presentar una relación de causalidad en el nivel de ingresos. Intuitivamente esto puede ser explicado al ver que mientras mas horas pasas viendo tv menos tiempo pasas estudiando, lo que en el largo plazo puede significar menos ingresos al no concluir con ciertas fases educativas\n"
   ]
  },
  {
   "cell_type": "markdown",
   "id": "de118cc1",
   "metadata": {},
   "source": [
    "**¿El efecto de la educación sobre el nivel de ingresos es positivo o negativo? Argumente si los resultados serian causales o solamente de correlación**"
   ]
  },
  {
   "cell_type": "markdown",
   "id": "a7588591",
   "metadata": {},
   "source": [
    "El efecto de la educación sobre el nivel de ingresos es positico. Este caso presenta como resultado una relación de causalidad además de una correlación entre las variables. Esto se debe a que un mayor nivel de educación, como la educación universitaria , determinaría mayores oportunidades laborales, un mejor salario, y por ende, un incremento en los niveles de ingresos.Lo que pueda afectar la educacion y el nivle de alcance del mismo influye en los ingreos y ello en este caso seria las horas viendo tv, por ello hay una relación inversa cuando se incluye Z, ya que si optan por pasar más horas viendo televisión, obtendrían menos ingresos porque supone menos horas de estudio. Esto seria una correlacion pues en si no es el factor que origina puramente el nivel de educacion alcanzado. Sin embargo, tomando en cuenta la influencia d ela variable isntrumental y como soluciona el problema de endogeneidad y el sesgo por variables omitida. Solo de esta manera se podria contemplar una relacion causal, al aislar todos los demas efectos que podrian estar causando o afectando la variable dependiente (educación -> nivel de ingresos)."
   ]
  },
  {
   "cell_type": "markdown",
   "id": "4deb3978",
   "metadata": {},
   "source": [
    "### 2. REGRESSION DISCONTINUITY DESIGN RDD"
   ]
  },
  {
   "cell_type": "markdown",
   "id": "1f6f65cf",
   "metadata": {},
   "source": [
    "Supongamos que estamos estudiando la eficacia de un programa de becas creado por el gobierno Peruano sobre las notas de los alumnos al final del primer semestre en la universidad. PRONABEC ha decidido que entregará becas a aquellos postulantes que tengan un promedio superior durante la secundaria igual a 16 ."
   ]
  },
  {
   "cell_type": "markdown",
   "id": "42e1bae1",
   "metadata": {},
   "source": [
    "**Indetifique todos los elementos necesarios para implementar un RDD en este ejemplo.**"
   ]
  },
  {
   "cell_type": "markdown",
   "id": "bd6e361d",
   "metadata": {},
   "source": [
    "El interés por el diseño de regresiones discontinua ha aumentado debido a su efectividad para determinar los efectos causales de las intervenciones mediante la asignación de un punto de corte. En el caso  asignado sobre la eficacia de las becas PRONABEC, se debe asignar una  runnin variable, también conocida como forcing variable que determina si perteneces al grupo de tratamiento o al de control. Ello se establece por medio del Cutoff, que marca el límite donde se recibe o no tratamiento, en el caso asignado ello está determinado por el promedio durante la secundaria igual a 16. Con esto el grupo de control se encontraría detrás del corte y los que se encuentran a la derecha son los que sí recibieron el tratamiento (en cual en este caso es recibir la beca). Con todo ello solo nos quedaría por determinar el Bandwidth (h)  que es la cantidad de área alrededor del límite que se desea considerar comparable el cual se establecerá de acuerdo a los grupos identificados y a su desempeño durante el primer ciclo universitario.\n"
   ]
  },
  {
   "cell_type": "markdown",
   "id": "14f791ab",
   "metadata": {},
   "source": [
    "**Explique el procedimiento para encontrar el efecto causal en este escenario. Puede utilizar ecuaciones.**"
   ]
  },
  {
   "cell_type": "markdown",
   "id": "abb944bd",
   "metadata": {},
   "source": [
    "El procedimiento para hallar el efecto causal en este escenario es elegir el punto de corte de la running variable que como establecimos es el promedio final al terminar la secundaria igual a 16. Posteriormente es necesario elegir el modelo correcto y predecir los valores cercanos al límite, los modelos posibles a elegir dentro del análisis RDD son los diseños nítidos o difusos. \n",
    "Por un lado, en el diseño nítido la probabilidad de tratamiento va de 0 a 1 en el punto de corte. Por otro lado, en el diseño borroso, se experimenta un salto discontinuo en la probabilidad de tratamiento ya que cruzar el punto de corte no es algo tan determinista y existen otros factores adicionales que el investigador puede tomar en cuenta. \n",
    "Para este caso al tratar de evaluarse el desempeño de una política social sería poco plausible tratar de usar un diseño nítido pues tiende a haber un crossover entre las muestras, muchas de las personas que cumplieron con los requisitos de la beca pudieron no optar por ella y viceversa. Por ello, en este análisis social resulta pertinente usar el diseño borroso, el salto es mayor a 0 y menor a 1\n"
   ]
  },
  {
   "cell_type": "markdown",
   "id": "c9a0f8cd",
   "metadata": {},
   "source": [
    "**¿El efecto de la politica sobre el rendimiento de los estudiantes sería positivo o negativo (solo necesitan usar su intuición)? Argumente si los resultados serian causales o solamente de correlación .**"
   ]
  },
  {
   "cell_type": "markdown",
   "id": "d4f6283e",
   "metadata": {},
   "source": [
    "El efecto de la política sobre el rendimiento será positivo, pues no solo permite que estudiantes capacitados como se demuestra por sus promedios escolares accedan a la educación sino también que en la práctica su desempeño mejore al no estar preocupados por el pago de su universidad. Tomando en cuenta la gran responsabilidad y preocupación que las obligaciones de pago universitarios producen. El diseño de la investigación nos permite entender que existe una relación causal entre el acceso a las becas y el rendimiento académico en el primer ciclo de estudios universitarios, explicado al estar las determinaciones sujetas a una variabilidad aleatoria por error de muestreo (además de la propia variabilidad de las variables biológicas), lo que hace que los individuos que están muy cerca del umbral, por encima o por debajo, sean muy similares en cuanto a las variables que puedan actuar como confusoras Haciendo que las variable que puedan actuar como confusoras se encuentren igualmente en situaciones de similitud en ambos grupos.\n",
    "Ahora lo relevante a seguir analizando por medio de la aplicación del modelo aquí explicado sería entender la magnitud del efecto y la contemplación de otras variables.\n"
   ]
  },
  {
   "cell_type": "markdown",
   "id": "3bc27181",
   "metadata": {},
   "source": [
    "### 3. DIFFERENCE IN DIFFERENCE DiD"
   ]
  },
  {
   "cell_type": "markdown",
   "id": "45ad14c7",
   "metadata": {},
   "source": [
    "Supongamos que estamos interesados ​​en estudiar el impacto de la migración en la tasa de empleo en dos regiones del Perú en 2017-2018. Tenemos datos anuales sobre la tasa de empleo en Lima, que experimentó una afluencia significativa de inmigrantes en 2018, y Puno que no experimentó el ingreso de migrantes (2017 ninguna de las regiones experimentó afluencia de migrantes). Podemos usar un análisis DID para comparar el cambio en las tasas de empleo entre las dos regiones a lo largo del tiempo para ver si la migración tuvo algún efecto."
   ]
  },
  {
   "cell_type": "markdown",
   "id": "b6fbce82",
   "metadata": {},
   "source": [
    "**Indetifique todos los elementos necesarios para implementar un DiD en este ejemplo.**"
   ]
  },
  {
   "cell_type": "markdown",
   "id": "25f4e217",
   "metadata": {},
   "source": [
    "Usas DiD como estrategia busca estimar los efectos de la migración en la tasa de empleo de Lima y Puno con la particularidad de hacerlo comparando diferentes etapas, es decir, el antes y después en los resultados del tratamiento para los grupos estudiados. Los elementos imprescindibles para cumplir con ello son la variable de interés que en este caso es la tasa de empleo en varios puntos del tiempo tomando en cuenta la influencia de la variable interviniente la migración. Asimismo, se necesitaría cumplir con el supuesto de tendencia paralela que sostine que si no hubiera habido migración ni en Lima ni en Puno los dos grupos hubiesen seguido la misma trayectoria en términos de tasa de empleo. Esto no quiere decir que ambas regiones hayan tenido estadísticamente la tasa de empleo estadísticamente igual sino que al menos hayan seguido una trayectoria no tan diferente la una de la otra.Ello se puede verificar comparando la tendencia de las trayectoria de manera visual al verificar que sean paralelas, pero también matemática al revisar que las pendientes de ambas trayectorias sean las mismas antes del estímulo. Para revisar que los resultados sean significativos se pueden utilizar datos de más de un periodo previo al cambio y llevar a cabo un ejercicio de diferencias en diferencias, como con un grupo de control alternativo y evaluar los resultados con el grupo de control inicial."
   ]
  },
  {
   "cell_type": "markdown",
   "id": "9fc56d0e",
   "metadata": {},
   "source": [
    "**Explique el procedimiento para encontrar el efecto causal en este escenario. Puede utilizar ecuaciones.**"
   ]
  },
  {
   "cell_type": "markdown",
   "id": "2870afa3",
   "metadata": {},
   "source": [
    "Para explicar el procedimiento es necesario entender que tenemos dos grupos en donde el grupo 1 es afectado por el cambio y el grupo 0 no ($G_i=(0,1)$), ambos pueden ser observados en cualquien lapso de tiempo aunque para este caso 2018 es el periodo de interes. Se debe tener tambien el tiempo antes (0) y despues (1) de la afluencia migratoria ($T_i=(0,1)$) Finalmente tenemos la variable de interes que para este caso es la tasa de empleo ($Y_i$). En ese sentido nuestra observación incluye estas tres variables $(G_i, T_i, Y_i)$. El primer paso es calcular la media de ambos grupos, el de control y de tratamiento: Una vez hecho esto podemos aplicarlo a los grupos pre y post control y tratamiento. Esta ecuacion es la que arroja la direncia entre ambos grupos y corrobora si la variable tuvo efecto o no.\n"
   ]
  },
  {
   "cell_type": "markdown",
   "id": "1183972b",
   "metadata": {},
   "source": [
    "$${\\delta}^{2\\times 2}_{kU} = \\bigg ( \\overline{y}_k^{-post(k)} - \\overline{y}_k^{-pre(k)} \\bigg ) - \\bigg ( \\overline{y}_U^{-post(k)} - \\overline{y}_U^{-pre(k)} \\bigg )$$\n"
   ]
  },
  {
   "cell_type": "markdown",
   "id": "06697c12",
   "metadata": {},
   "source": [
    "**¿El efecto de la migración sobre la tasa de empleo sería positivo o negativo (solo necesitan usar su intuición)? Argumente si los resultados serian causales o solamente de correlación .**"
   ]
  },
  {
   "cell_type": "markdown",
   "id": "8e786884",
   "metadata": {},
   "source": [
    " Como se puede ver en el planteamiento del problema, la migración es una variable exógena, por tanto se escapa al modelo. A más migración tambien habria una mayor tasa de empleo lo cual traducido sería que el efecto de la migración es positivo. Esto se debe principalmente a que las personas que migran de un país a otro tienden a aceptar trabajos que los residentes no aceptarían, existen muchos ejemplos de ello como la migracion altinoamericana a EEUU. Sin embargo esto puede tener efectos negativos en cuanto a derechos laborales ya que si bien los migrantes producen más empleos y más dinamización en la economía, los empleadores pueden aprovechar su situación de migrantes y ofrecerles puestos sin la calidad minima de derechos. Por todo lo examinado podemos ver que hay una correlacion debido a que la migracion afecta el empleo pero aun no podriamos suponer una causlaidad ya que hay otros factores a contemplar. Sin embargo, debido al diseno del modelo y tomando en cuenta la comparacion de los dos momentos del tiempo que se analizan en ambas regiones es posible hablar de una inferencia causal. \n"
   ]
  },
  {
   "cell_type": "markdown",
   "id": "c11c582a",
   "metadata": {},
   "source": [
    "### 4. LECTURAS"
   ]
  },
  {
   "cell_type": "markdown",
   "id": "85d173cd",
   "metadata": {},
   "source": [
    "**Bell, A., Chetty, R., Jaravel, X., Petkova, N., & Van Reenen, J. (2019). Who becomes an inventor in America? The importance of exposure to innovation. The Quarterly Journal of Economics, 134(2), 647-713., ¿Cuáles son las debilidades del enfoque del paper para responder su pregunta de investigación?**"
   ]
  },
  {
   "cell_type": "markdown",
   "id": "be5acc04",
   "metadata": {},
   "source": [
    "El texto analizado investiga sobre qué factores son los que determinan quién se convierte en inventor y los tipos de innovaciones que se persiguen? El analisis en cuanto a sus principales limitaciones encuentra la extension del mismo al centrarse en la determinación del impacto de las condiciones en las que las personas se desarrollan (sexo, ingresos de los padres, raza, et.) sin desarrollar mayor consideración por el efecto de los programas difundidos por iniciativa pública o privada, los cuales pueden tener también un efecto significativo sobre el hecho de que una persona termine desarrollando innovaciones. Otra de las debilidades del artículo es que carece de una base de datos completa sobre patentes de innovación, lo cual sería necesario si es que se busca que los argumentos expuestos tengan solidez. La última debilidad contemplada en este artículo es que deja de lado los factores que determinan los tipos de innovación perseguida. Convendría analizar factores estructurales como el género y si esto influye sobre el área de innovación, y las brechas de género que pueden existir en áreas relacionadas a la innovación como ingeniería, ciencia y tecnología."
   ]
  },
  {
   "cell_type": "markdown",
   "id": "5363102f",
   "metadata": {},
   "source": [
    "**Dell, M. (2010). The persistent effects of Peru's mining mita. Econometrica, 78(6), 1863-1903, ¿Cuáles serían dos próximos pasos específicos para avanzar en su pregunta de investigación?**"
   ]
  },
  {
   "cell_type": "markdown",
   "id": "e207c216",
   "metadata": {},
   "source": [
    "El texto de Dell mediante la discontinuidad de regresión examina los impactos en el largo plazo de la mita, un extenso sistema de trabajo forzoso minero vigente en Perú y Bolivia durante 1573 y 1812. Bajo este sistema más de 200 comunidades indígenas enviaban una séptima parte de su población masculina adulta a trabajar en las minas de plata de Potosí y de mercurio de Huancavelica. El artículo analiza el efecto de la mita no sólo por las cantidad de personas que involucraba sino también a como la tenencia de la tierra y los bienes públicos intervinieron haciendo que se reduzca el consumo de los hogares y aumentara el retraso de crecimiento de los niños en las áreas afectadas. Algunos de los pasos para avanzar en esta pregunta seria explorar cómo este estudio puede apoyar futuras investigaciones relacionadas a la evolución institucional y la investigaciones empíricas de cómo el estado puede dar forma a las interacciones económicas y las élites pueden usar la maquinaria estatal para obligar al trabajo o los ciudadanos pueden utilizar las garantías estatales para proteger su propiedad como Toro 2020.  Por otro lado, sería interesante comparar los resultados de la mita (realizada en Perú y Bolivia), con otros trabajos mineros realizados en otras zonas del virreinato español, por ejemplo, en la Nueva Granada. En ese sentido según Orche y Puche (2000), en la Nueva Granada al no tener tantos recursos ni infraestructura minera como en Perú y Bolivia, ello generó que no haya un grado de institucionalización grande como el caso de la mita en Perú, no obstante, igualmente la extracción del oro fue de vital importancia. Igualmente mediante la comparación con otros países latinoamericanos con sistemas de dominación se podría ahondar en la pregunta de investigación mediante el análisis del efecto de la mita sobre la composición social de las comunidades indígenas, y de cómo esta ha obligado a muchos indígenas a romper permanente los lazos con su comunidad de origen.Adicionalmente profundizar en como políticas públicas estatales pueden cambiar la situación de desigualdad generadas por estructuras históricas como lo ha hecho Stein en 2003.\n",
    "\n",
    "Stein, R. H. (2003). Capital social, desarrollo y políticas públicas en la realidad latinoamericana.\n",
    "\n",
    "Toro, J. C. (2020, 16 julio). El trabajo indígena en los Andes. La Mita | Julián Córdoba Toro. Iberoamérica Social. https://iberoamericasocial.com/el-trabajo-indigena-en-los-andes-la-mita/\n"
   ]
  },
  {
   "cell_type": "markdown",
   "id": "1fb8370f",
   "metadata": {},
   "source": [
    "### 5. CODIGO"
   ]
  },
  {
   "cell_type": "code",
   "execution_count": 2,
   "id": "9a73be5a",
   "metadata": {},
   "outputs": [],
   "source": [
    "from causalgraphicalmodels import CausalGraphicalModel\n",
    "import os\n",
    "import numpy as np \n",
    "import pandas as pd \n",
    "import statsmodels.api as sm \n",
    "import statsmodels.formula.api as smf \n",
    "from itertools import combinations \n",
    "import plotnine as p\n",
    "import statsmodels.api as sm\n",
    "import statsmodels.formula.api as smf\n",
    "import linearmodels.iv.model as lm\n",
    "from linearmodels.iv import IV2SLS\n",
    "from statsmodels.iolib.summary2 import summary_col\n",
    "import seaborn as sns"
   ]
  },
  {
   "cell_type": "code",
   "execution_count": 3,
   "id": "b6b53aee",
   "metadata": {},
   "outputs": [],
   "source": [
    "import matplotlib.pyplot as plt"
   ]
  },
  {
   "cell_type": "markdown",
   "id": "4d8cf75f",
   "metadata": {},
   "source": [
    "#### HISTOGRAMAS"
   ]
  },
  {
   "cell_type": "code",
   "execution_count": 5,
   "id": "7f4f7d3b",
   "metadata": {},
   "outputs": [
    {
     "data": {
      "text/html": [
       "<div>\n",
       "<style scoped>\n",
       "    .dataframe tbody tr th:only-of-type {\n",
       "        vertical-align: middle;\n",
       "    }\n",
       "\n",
       "    .dataframe tbody tr th {\n",
       "        vertical-align: top;\n",
       "    }\n",
       "\n",
       "    .dataframe thead th {\n",
       "        text-align: right;\n",
       "    }\n",
       "</style>\n",
       "<table border=\"1\" class=\"dataframe\">\n",
       "  <thead>\n",
       "    <tr style=\"text-align: right;\">\n",
       "      <th></th>\n",
       "      <th>id</th>\n",
       "      <th>nearc2</th>\n",
       "      <th>nearc4</th>\n",
       "      <th>educ</th>\n",
       "      <th>age</th>\n",
       "      <th>fatheduc</th>\n",
       "      <th>motheduc</th>\n",
       "      <th>weight</th>\n",
       "      <th>momdad14</th>\n",
       "      <th>sinmom14</th>\n",
       "      <th>...</th>\n",
       "      <th>KWW</th>\n",
       "      <th>IQ</th>\n",
       "      <th>married</th>\n",
       "      <th>libcrd14</th>\n",
       "      <th>exper</th>\n",
       "      <th>lwage</th>\n",
       "      <th>expersq</th>\n",
       "      <th>u_lwage</th>\n",
       "      <th>lwage_hat</th>\n",
       "      <th>u_educ</th>\n",
       "    </tr>\n",
       "  </thead>\n",
       "  <tbody>\n",
       "    <tr>\n",
       "      <th>0</th>\n",
       "      <td>2.0</td>\n",
       "      <td>0.0</td>\n",
       "      <td>0.0</td>\n",
       "      <td>7.0</td>\n",
       "      <td>29.0</td>\n",
       "      <td>NaN</td>\n",
       "      <td>NaN</td>\n",
       "      <td>158413.0</td>\n",
       "      <td>1.0</td>\n",
       "      <td>0.0</td>\n",
       "      <td>...</td>\n",
       "      <td>15.0</td>\n",
       "      <td>NaN</td>\n",
       "      <td>1.0</td>\n",
       "      <td>0.0</td>\n",
       "      <td>16.0</td>\n",
       "      <td>6.306275</td>\n",
       "      <td>256.0</td>\n",
       "      <td>0.198047</td>\n",
       "      <td>6.108228</td>\n",
       "      <td>-3.067539</td>\n",
       "    </tr>\n",
       "    <tr>\n",
       "      <th>1</th>\n",
       "      <td>3.0</td>\n",
       "      <td>0.0</td>\n",
       "      <td>0.0</td>\n",
       "      <td>12.0</td>\n",
       "      <td>27.0</td>\n",
       "      <td>8.0</td>\n",
       "      <td>8.0</td>\n",
       "      <td>380166.0</td>\n",
       "      <td>1.0</td>\n",
       "      <td>0.0</td>\n",
       "      <td>...</td>\n",
       "      <td>35.0</td>\n",
       "      <td>93.0</td>\n",
       "      <td>1.0</td>\n",
       "      <td>1.0</td>\n",
       "      <td>9.0</td>\n",
       "      <td>6.175867</td>\n",
       "      <td>81.0</td>\n",
       "      <td>-0.211160</td>\n",
       "      <td>6.387027</td>\n",
       "      <td>-1.727562</td>\n",
       "    </tr>\n",
       "    <tr>\n",
       "      <th>2</th>\n",
       "      <td>4.0</td>\n",
       "      <td>0.0</td>\n",
       "      <td>0.0</td>\n",
       "      <td>12.0</td>\n",
       "      <td>34.0</td>\n",
       "      <td>14.0</td>\n",
       "      <td>12.0</td>\n",
       "      <td>367470.0</td>\n",
       "      <td>1.0</td>\n",
       "      <td>0.0</td>\n",
       "      <td>...</td>\n",
       "      <td>42.0</td>\n",
       "      <td>103.0</td>\n",
       "      <td>1.0</td>\n",
       "      <td>1.0</td>\n",
       "      <td>16.0</td>\n",
       "      <td>6.580639</td>\n",
       "      <td>256.0</td>\n",
       "      <td>0.204719</td>\n",
       "      <td>6.375920</td>\n",
       "      <td>1.012975</td>\n",
       "    </tr>\n",
       "    <tr>\n",
       "      <th>3</th>\n",
       "      <td>5.0</td>\n",
       "      <td>1.0</td>\n",
       "      <td>1.0</td>\n",
       "      <td>11.0</td>\n",
       "      <td>27.0</td>\n",
       "      <td>11.0</td>\n",
       "      <td>12.0</td>\n",
       "      <td>380166.0</td>\n",
       "      <td>1.0</td>\n",
       "      <td>0.0</td>\n",
       "      <td>...</td>\n",
       "      <td>25.0</td>\n",
       "      <td>88.0</td>\n",
       "      <td>1.0</td>\n",
       "      <td>1.0</td>\n",
       "      <td>10.0</td>\n",
       "      <td>5.521461</td>\n",
       "      <td>100.0</td>\n",
       "      <td>-0.967905</td>\n",
       "      <td>6.489366</td>\n",
       "      <td>-2.253536</td>\n",
       "    </tr>\n",
       "    <tr>\n",
       "      <th>4</th>\n",
       "      <td>6.0</td>\n",
       "      <td>1.0</td>\n",
       "      <td>1.0</td>\n",
       "      <td>12.0</td>\n",
       "      <td>34.0</td>\n",
       "      <td>8.0</td>\n",
       "      <td>7.0</td>\n",
       "      <td>367470.0</td>\n",
       "      <td>1.0</td>\n",
       "      <td>0.0</td>\n",
       "      <td>...</td>\n",
       "      <td>34.0</td>\n",
       "      <td>108.0</td>\n",
       "      <td>1.0</td>\n",
       "      <td>0.0</td>\n",
       "      <td>16.0</td>\n",
       "      <td>6.591674</td>\n",
       "      <td>256.0</td>\n",
       "      <td>0.125173</td>\n",
       "      <td>6.466501</td>\n",
       "      <td>1.090437</td>\n",
       "    </tr>\n",
       "  </tbody>\n",
       "</table>\n",
       "<p>5 rows × 37 columns</p>\n",
       "</div>"
      ],
      "text/plain": [
       "    id  nearc2  nearc4  educ   age  fatheduc  motheduc    weight  momdad14  \\\n",
       "0  2.0     0.0     0.0   7.0  29.0       NaN       NaN  158413.0       1.0   \n",
       "1  3.0     0.0     0.0  12.0  27.0       8.0       8.0  380166.0       1.0   \n",
       "2  4.0     0.0     0.0  12.0  34.0      14.0      12.0  367470.0       1.0   \n",
       "3  5.0     1.0     1.0  11.0  27.0      11.0      12.0  380166.0       1.0   \n",
       "4  6.0     1.0     1.0  12.0  34.0       8.0       7.0  367470.0       1.0   \n",
       "\n",
       "   sinmom14  ...   KWW     IQ  married  libcrd14  exper     lwage  expersq  \\\n",
       "0       0.0  ...  15.0    NaN      1.0       0.0   16.0  6.306275    256.0   \n",
       "1       0.0  ...  35.0   93.0      1.0       1.0    9.0  6.175867     81.0   \n",
       "2       0.0  ...  42.0  103.0      1.0       1.0   16.0  6.580639    256.0   \n",
       "3       0.0  ...  25.0   88.0      1.0       1.0   10.0  5.521461    100.0   \n",
       "4       0.0  ...  34.0  108.0      1.0       0.0   16.0  6.591674    256.0   \n",
       "\n",
       "    u_lwage  lwage_hat    u_educ  \n",
       "0  0.198047   6.108228 -3.067539  \n",
       "1 -0.211160   6.387027 -1.727562  \n",
       "2  0.204719   6.375920  1.012975  \n",
       "3 -0.967905   6.489366 -2.253536  \n",
       "4  0.125173   6.466501  1.090437  \n",
       "\n",
       "[5 rows x 37 columns]"
      ]
     },
     "execution_count": 5,
     "metadata": {},
     "output_type": "execute_result"
    }
   ],
   "source": [
    "import ssl\n",
    "ssl._create_default_https_context = ssl._create_unverified_context\n",
    "\n",
    "def read_data(file): \n",
    "    return pd.read_stata(\"https://raw.github.com/scunning1975/mixtape/master/\" + file)\n",
    "\n",
    "card = read_data(\"card.dta\")\n",
    "card.head()"
   ]
  },
  {
   "cell_type": "code",
   "execution_count": 6,
   "id": "76aea3ab",
   "metadata": {},
   "outputs": [
    {
     "data": {
      "text/html": [
       "<div>\n",
       "<style scoped>\n",
       "    .dataframe tbody tr th:only-of-type {\n",
       "        vertical-align: middle;\n",
       "    }\n",
       "\n",
       "    .dataframe tbody tr th {\n",
       "        vertical-align: top;\n",
       "    }\n",
       "\n",
       "    .dataframe thead th {\n",
       "        text-align: right;\n",
       "    }\n",
       "</style>\n",
       "<table border=\"1\" class=\"dataframe\">\n",
       "  <thead>\n",
       "    <tr style=\"text-align: right;\">\n",
       "      <th></th>\n",
       "      <th>id</th>\n",
       "      <th>nearc2</th>\n",
       "      <th>nearc4</th>\n",
       "      <th>educ</th>\n",
       "      <th>age</th>\n",
       "      <th>fatheduc</th>\n",
       "      <th>motheduc</th>\n",
       "      <th>weight</th>\n",
       "      <th>momdad14</th>\n",
       "      <th>sinmom14</th>\n",
       "      <th>...</th>\n",
       "      <th>IQ</th>\n",
       "      <th>married</th>\n",
       "      <th>libcrd14</th>\n",
       "      <th>exper</th>\n",
       "      <th>lwage</th>\n",
       "      <th>expersq</th>\n",
       "      <th>u_lwage</th>\n",
       "      <th>lwage_hat</th>\n",
       "      <th>u_educ</th>\n",
       "      <th>college_in_county</th>\n",
       "    </tr>\n",
       "  </thead>\n",
       "  <tbody>\n",
       "    <tr>\n",
       "      <th>0</th>\n",
       "      <td>2.0</td>\n",
       "      <td>0.0</td>\n",
       "      <td>0.0</td>\n",
       "      <td>7.0</td>\n",
       "      <td>29.0</td>\n",
       "      <td>NaN</td>\n",
       "      <td>NaN</td>\n",
       "      <td>158413.0</td>\n",
       "      <td>1.0</td>\n",
       "      <td>0.0</td>\n",
       "      <td>...</td>\n",
       "      <td>NaN</td>\n",
       "      <td>1.0</td>\n",
       "      <td>0.0</td>\n",
       "      <td>16.0</td>\n",
       "      <td>6.306275</td>\n",
       "      <td>256.0</td>\n",
       "      <td>0.198047</td>\n",
       "      <td>6.108228</td>\n",
       "      <td>-3.067539</td>\n",
       "      <td>0</td>\n",
       "    </tr>\n",
       "    <tr>\n",
       "      <th>1</th>\n",
       "      <td>3.0</td>\n",
       "      <td>0.0</td>\n",
       "      <td>0.0</td>\n",
       "      <td>12.0</td>\n",
       "      <td>27.0</td>\n",
       "      <td>8.0</td>\n",
       "      <td>8.0</td>\n",
       "      <td>380166.0</td>\n",
       "      <td>1.0</td>\n",
       "      <td>0.0</td>\n",
       "      <td>...</td>\n",
       "      <td>93.0</td>\n",
       "      <td>1.0</td>\n",
       "      <td>1.0</td>\n",
       "      <td>9.0</td>\n",
       "      <td>6.175867</td>\n",
       "      <td>81.0</td>\n",
       "      <td>-0.211160</td>\n",
       "      <td>6.387027</td>\n",
       "      <td>-1.727562</td>\n",
       "      <td>0</td>\n",
       "    </tr>\n",
       "    <tr>\n",
       "      <th>2</th>\n",
       "      <td>4.0</td>\n",
       "      <td>0.0</td>\n",
       "      <td>0.0</td>\n",
       "      <td>12.0</td>\n",
       "      <td>34.0</td>\n",
       "      <td>14.0</td>\n",
       "      <td>12.0</td>\n",
       "      <td>367470.0</td>\n",
       "      <td>1.0</td>\n",
       "      <td>0.0</td>\n",
       "      <td>...</td>\n",
       "      <td>103.0</td>\n",
       "      <td>1.0</td>\n",
       "      <td>1.0</td>\n",
       "      <td>16.0</td>\n",
       "      <td>6.580639</td>\n",
       "      <td>256.0</td>\n",
       "      <td>0.204719</td>\n",
       "      <td>6.375920</td>\n",
       "      <td>1.012975</td>\n",
       "      <td>0</td>\n",
       "    </tr>\n",
       "    <tr>\n",
       "      <th>3</th>\n",
       "      <td>5.0</td>\n",
       "      <td>1.0</td>\n",
       "      <td>1.0</td>\n",
       "      <td>11.0</td>\n",
       "      <td>27.0</td>\n",
       "      <td>11.0</td>\n",
       "      <td>12.0</td>\n",
       "      <td>380166.0</td>\n",
       "      <td>1.0</td>\n",
       "      <td>0.0</td>\n",
       "      <td>...</td>\n",
       "      <td>88.0</td>\n",
       "      <td>1.0</td>\n",
       "      <td>1.0</td>\n",
       "      <td>10.0</td>\n",
       "      <td>5.521461</td>\n",
       "      <td>100.0</td>\n",
       "      <td>-0.967905</td>\n",
       "      <td>6.489366</td>\n",
       "      <td>-2.253536</td>\n",
       "      <td>1</td>\n",
       "    </tr>\n",
       "    <tr>\n",
       "      <th>4</th>\n",
       "      <td>6.0</td>\n",
       "      <td>1.0</td>\n",
       "      <td>1.0</td>\n",
       "      <td>12.0</td>\n",
       "      <td>34.0</td>\n",
       "      <td>8.0</td>\n",
       "      <td>7.0</td>\n",
       "      <td>367470.0</td>\n",
       "      <td>1.0</td>\n",
       "      <td>0.0</td>\n",
       "      <td>...</td>\n",
       "      <td>108.0</td>\n",
       "      <td>1.0</td>\n",
       "      <td>0.0</td>\n",
       "      <td>16.0</td>\n",
       "      <td>6.591674</td>\n",
       "      <td>256.0</td>\n",
       "      <td>0.125173</td>\n",
       "      <td>6.466501</td>\n",
       "      <td>1.090437</td>\n",
       "      <td>1</td>\n",
       "    </tr>\n",
       "    <tr>\n",
       "      <th>...</th>\n",
       "      <td>...</td>\n",
       "      <td>...</td>\n",
       "      <td>...</td>\n",
       "      <td>...</td>\n",
       "      <td>...</td>\n",
       "      <td>...</td>\n",
       "      <td>...</td>\n",
       "      <td>...</td>\n",
       "      <td>...</td>\n",
       "      <td>...</td>\n",
       "      <td>...</td>\n",
       "      <td>...</td>\n",
       "      <td>...</td>\n",
       "      <td>...</td>\n",
       "      <td>...</td>\n",
       "      <td>...</td>\n",
       "      <td>...</td>\n",
       "      <td>...</td>\n",
       "      <td>...</td>\n",
       "      <td>...</td>\n",
       "      <td>...</td>\n",
       "    </tr>\n",
       "    <tr>\n",
       "      <th>3005</th>\n",
       "      <td>5218.0</td>\n",
       "      <td>0.0</td>\n",
       "      <td>1.0</td>\n",
       "      <td>12.0</td>\n",
       "      <td>25.0</td>\n",
       "      <td>8.0</td>\n",
       "      <td>12.0</td>\n",
       "      <td>82135.0</td>\n",
       "      <td>1.0</td>\n",
       "      <td>0.0</td>\n",
       "      <td>...</td>\n",
       "      <td>NaN</td>\n",
       "      <td>1.0</td>\n",
       "      <td>0.0</td>\n",
       "      <td>7.0</td>\n",
       "      <td>5.814130</td>\n",
       "      <td>49.0</td>\n",
       "      <td>-0.289775</td>\n",
       "      <td>6.103905</td>\n",
       "      <td>-1.505588</td>\n",
       "      <td>0</td>\n",
       "    </tr>\n",
       "    <tr>\n",
       "      <th>3006</th>\n",
       "      <td>5219.0</td>\n",
       "      <td>0.0</td>\n",
       "      <td>1.0</td>\n",
       "      <td>13.0</td>\n",
       "      <td>34.0</td>\n",
       "      <td>NaN</td>\n",
       "      <td>NaN</td>\n",
       "      <td>88765.0</td>\n",
       "      <td>1.0</td>\n",
       "      <td>0.0</td>\n",
       "      <td>...</td>\n",
       "      <td>NaN</td>\n",
       "      <td>1.0</td>\n",
       "      <td>1.0</td>\n",
       "      <td>15.0</td>\n",
       "      <td>6.175867</td>\n",
       "      <td>225.0</td>\n",
       "      <td>-0.137418</td>\n",
       "      <td>6.313285</td>\n",
       "      <td>2.214089</td>\n",
       "      <td>0</td>\n",
       "    </tr>\n",
       "    <tr>\n",
       "      <th>3007</th>\n",
       "      <td>5220.0</td>\n",
       "      <td>0.0</td>\n",
       "      <td>1.0</td>\n",
       "      <td>12.0</td>\n",
       "      <td>24.0</td>\n",
       "      <td>11.0</td>\n",
       "      <td>NaN</td>\n",
       "      <td>89271.0</td>\n",
       "      <td>0.0</td>\n",
       "      <td>0.0</td>\n",
       "      <td>...</td>\n",
       "      <td>109.0</td>\n",
       "      <td>1.0</td>\n",
       "      <td>0.0</td>\n",
       "      <td>6.0</td>\n",
       "      <td>6.214608</td>\n",
       "      <td>36.0</td>\n",
       "      <td>0.135805</td>\n",
       "      <td>6.078803</td>\n",
       "      <td>-1.907211</td>\n",
       "      <td>0</td>\n",
       "    </tr>\n",
       "    <tr>\n",
       "      <th>3008</th>\n",
       "      <td>5221.0</td>\n",
       "      <td>0.0</td>\n",
       "      <td>1.0</td>\n",
       "      <td>12.0</td>\n",
       "      <td>31.0</td>\n",
       "      <td>NaN</td>\n",
       "      <td>NaN</td>\n",
       "      <td>110376.0</td>\n",
       "      <td>1.0</td>\n",
       "      <td>0.0</td>\n",
       "      <td>...</td>\n",
       "      <td>107.0</td>\n",
       "      <td>1.0</td>\n",
       "      <td>1.0</td>\n",
       "      <td>13.0</td>\n",
       "      <td>6.569481</td>\n",
       "      <td>169.0</td>\n",
       "      <td>0.408375</td>\n",
       "      <td>6.161106</td>\n",
       "      <td>0.868737</td>\n",
       "      <td>0</td>\n",
       "    </tr>\n",
       "    <tr>\n",
       "      <th>3009</th>\n",
       "      <td>5225.0</td>\n",
       "      <td>0.0</td>\n",
       "      <td>1.0</td>\n",
       "      <td>13.0</td>\n",
       "      <td>26.0</td>\n",
       "      <td>NaN</td>\n",
       "      <td>NaN</td>\n",
       "      <td>81081.0</td>\n",
       "      <td>0.0</td>\n",
       "      <td>0.0</td>\n",
       "      <td>...</td>\n",
       "      <td>NaN</td>\n",
       "      <td>1.0</td>\n",
       "      <td>0.0</td>\n",
       "      <td>7.0</td>\n",
       "      <td>6.263398</td>\n",
       "      <td>49.0</td>\n",
       "      <td>0.427185</td>\n",
       "      <td>5.836213</td>\n",
       "      <td>0.413897</td>\n",
       "      <td>0</td>\n",
       "    </tr>\n",
       "  </tbody>\n",
       "</table>\n",
       "<p>3010 rows × 38 columns</p>\n",
       "</div>"
      ],
      "text/plain": [
       "          id  nearc2  nearc4  educ   age  fatheduc  motheduc    weight  \\\n",
       "0        2.0     0.0     0.0   7.0  29.0       NaN       NaN  158413.0   \n",
       "1        3.0     0.0     0.0  12.0  27.0       8.0       8.0  380166.0   \n",
       "2        4.0     0.0     0.0  12.0  34.0      14.0      12.0  367470.0   \n",
       "3        5.0     1.0     1.0  11.0  27.0      11.0      12.0  380166.0   \n",
       "4        6.0     1.0     1.0  12.0  34.0       8.0       7.0  367470.0   \n",
       "...      ...     ...     ...   ...   ...       ...       ...       ...   \n",
       "3005  5218.0     0.0     1.0  12.0  25.0       8.0      12.0   82135.0   \n",
       "3006  5219.0     0.0     1.0  13.0  34.0       NaN       NaN   88765.0   \n",
       "3007  5220.0     0.0     1.0  12.0  24.0      11.0       NaN   89271.0   \n",
       "3008  5221.0     0.0     1.0  12.0  31.0       NaN       NaN  110376.0   \n",
       "3009  5225.0     0.0     1.0  13.0  26.0       NaN       NaN   81081.0   \n",
       "\n",
       "      momdad14  sinmom14  ...     IQ  married  libcrd14  exper     lwage  \\\n",
       "0          1.0       0.0  ...    NaN      1.0       0.0   16.0  6.306275   \n",
       "1          1.0       0.0  ...   93.0      1.0       1.0    9.0  6.175867   \n",
       "2          1.0       0.0  ...  103.0      1.0       1.0   16.0  6.580639   \n",
       "3          1.0       0.0  ...   88.0      1.0       1.0   10.0  5.521461   \n",
       "4          1.0       0.0  ...  108.0      1.0       0.0   16.0  6.591674   \n",
       "...        ...       ...  ...    ...      ...       ...    ...       ...   \n",
       "3005       1.0       0.0  ...    NaN      1.0       0.0    7.0  5.814130   \n",
       "3006       1.0       0.0  ...    NaN      1.0       1.0   15.0  6.175867   \n",
       "3007       0.0       0.0  ...  109.0      1.0       0.0    6.0  6.214608   \n",
       "3008       1.0       0.0  ...  107.0      1.0       1.0   13.0  6.569481   \n",
       "3009       0.0       0.0  ...    NaN      1.0       0.0    7.0  6.263398   \n",
       "\n",
       "      expersq   u_lwage  lwage_hat    u_educ  college_in_county  \n",
       "0       256.0  0.198047   6.108228 -3.067539                  0  \n",
       "1        81.0 -0.211160   6.387027 -1.727562                  0  \n",
       "2       256.0  0.204719   6.375920  1.012975                  0  \n",
       "3       100.0 -0.967905   6.489366 -2.253536                  1  \n",
       "4       256.0  0.125173   6.466501  1.090437                  1  \n",
       "...       ...       ...        ...       ...                ...  \n",
       "3005     49.0 -0.289775   6.103905 -1.505588                  0  \n",
       "3006    225.0 -0.137418   6.313285  2.214089                  0  \n",
       "3007     36.0  0.135805   6.078803 -1.907211                  0  \n",
       "3008    169.0  0.408375   6.161106  0.868737                  0  \n",
       "3009     49.0  0.427185   5.836213  0.413897                  0  \n",
       "\n",
       "[3010 rows x 38 columns]"
      ]
     },
     "execution_count": 6,
     "metadata": {},
     "output_type": "execute_result"
    }
   ],
   "source": [
    "card_2 = (card\n",
    " .assign(college_in_county = np.select(\n",
    "     [card[\"nearc2\"].astype(bool)],\n",
    "     [\"1\"],\n",
    "      default=\"0\"\n",
    " )))\n",
    "card_2"
   ]
  },
  {
   "cell_type": "markdown",
   "id": "3af115be",
   "metadata": {},
   "source": [
    "**Grafique dos histogramas para la variable años de educación educ para cuando nearc2 == 1, y cuando nearc2 == 0. Compare y describa los patrones que encuentra.**"
   ]
  },
  {
   "cell_type": "code",
   "execution_count": 8,
   "id": "70997628",
   "metadata": {},
   "outputs": [
    {
     "data": {
      "text/plain": [
       "<Figure size 1008x720 with 0 Axes>"
      ]
     },
     "metadata": {},
     "output_type": "display_data"
    },
    {
     "data": {
      "image/png": "[encoded data removed]",
      "text/plain": [
       "<Figure size 360x360 with 1 Axes>"
      ]
     },
     "metadata": {
      "needs_background": "light"
     },
     "output_type": "display_data"
    }
   ],
   "source": [
    "plt.figure(figsize=(14,10))\n",
    "\n",
    "nearc2=card.loc[card['nearc2']==1]\n",
    "ax = sns.displot(nearc2,x=\"educ\")\n",
    "\n",
    "plt.title('nearc2')\n",
    "plt.xlabel('Notes')\n",
    "plt.ylabel('Count')\n",
    "plt.show()"
   ]
  },
  {
   "cell_type": "code",
   "execution_count": 9,
   "id": "460cbe6f",
   "metadata": {},
   "outputs": [
    {
     "data": {
      "text/plain": [
       "<Figure size 1008x720 with 0 Axes>"
      ]
     },
     "metadata": {},
     "output_type": "display_data"
    },
    {
     "data": {
      "image/png": "[encoded data removed]",
      "text/plain": [
       "<Figure size 360x360 with 1 Axes>"
      ]
     },
     "metadata": {
      "needs_background": "light"
     },
     "output_type": "display_data"
    }
   ],
   "source": [
    "plt.figure(figsize=(14,10))\n",
    "\n",
    "nearc2=card.loc[card['nearc2']==0]\n",
    "ax = sns.displot(nearc2,x=\"educ\")\n",
    "\n",
    "plt.title('nearc2')\n",
    "plt.xlabel('Notes')\n",
    "plt.ylabel('Count')\n",
    "plt.show()"
   ]
  },
  {
   "cell_type": "markdown",
   "id": "fece8a81",
   "metadata": {},
   "source": [
    "**interpretacion**\n",
    "\n",
    "hay una mayor cantidad de alumnos sin un college que alumnos que si cuentan con uno en su area. Y pese a que hay multiples similitudes en la distribucion de las barras hay variaciones relevantes alredor del 12. Se observa que la variable que representa si es que existe un college en el county no tiene un efecto en los años de educación de las personas. A nivel de este estudio, se concluye que vivir cerca a algun college no aumenta el promedio de años de educación recibida.\n",
    "\n"
   ]
  },
  {
   "cell_type": "markdown",
   "id": "cde5f79e",
   "metadata": {},
   "source": [
    "**Grafique dos histogramas para la variable logaritmos de los ingresos lwage para cuando nearc2 == 1, y cuando nearc2 == 0. Compare y describa los patrones que encuentra.**"
   ]
  },
  {
   "cell_type": "code",
   "execution_count": 10,
   "id": "0af88ae0",
   "metadata": {},
   "outputs": [
    {
     "data": {
      "text/plain": [
       "<Figure size 1008x720 with 0 Axes>"
      ]
     },
     "metadata": {},
     "output_type": "display_data"
    },
    {
     "data": {
      "image/png": "[encoded data removed]",
      "text/plain": [
       "<Figure size 360x360 with 1 Axes>"
      ]
     },
     "metadata": {
      "needs_background": "light"
     },
     "output_type": "display_data"
    }
   ],
   "source": [
    "plt.figure(figsize=(14,10))\n",
    "\n",
    "nearc2=card.loc[card['nearc2']==1]\n",
    "ax = sns.displot(nearc2,x=\"lwage\")\n",
    "\n",
    "plt.title('nearc2')\n",
    "plt.xlabel('Notes')\n",
    "plt.ylabel('Count')\n",
    "plt.show()"
   ]
  },
  {
   "cell_type": "code",
   "execution_count": 12,
   "id": "95be6682",
   "metadata": {},
   "outputs": [
    {
     "data": {
      "text/plain": [
       "<Figure size 1008x720 with 0 Axes>"
      ]
     },
     "metadata": {},
     "output_type": "display_data"
    },
    {
     "data": {
      "image/png": "[encoded data removed]",
      "text/plain": [
       "<Figure size 360x360 with 1 Axes>"
      ]
     },
     "metadata": {
      "needs_background": "light"
     },
     "output_type": "display_data"
    }
   ],
   "source": [
    "plt.figure(figsize=(14,10))\n",
    "\n",
    "nearc2=card.loc[card['nearc2']==0]\n",
    "ax = sns.displot(nearc2,x=\"lwage\")\n",
    "\n",
    "plt.title('nearc2')\n",
    "plt.xlabel('Notes')\n",
    "plt.ylabel('Count')\n",
    "plt.show()"
   ]
  },
  {
   "cell_type": "markdown",
   "id": "64bfe3ad",
   "metadata": {},
   "source": [
    "**INTERPRETACION**\n",
    "Se aprecia una mayoría de datos en el medio de ambos graficos de barras, en el segundo de manera mas clara que en el primero, pero a grandes rasgos ambos indican una distribución normal debido a la concentración de valores medios de los ingresos económicos, tanto en el grupo de personas que cuentan con la variable de si existe un college en el county como en las que no. Asimismo, al tener ambos graficos mayor concentracion de datos en el centro se entiende que vivir cerca de un college de 2 años o no, no cambia significativamente los ingresos economicos que puedas obtener.\n"
   ]
  },
  {
   "cell_type": "markdown",
   "id": "5f8a79e0",
   "metadata": {},
   "source": [
    "#### REGRESIONES"
   ]
  },
  {
   "cell_type": "markdown",
   "id": "b848020d",
   "metadata": {},
   "source": [
    "**Corran una regresion lineal del tipo \"lwage ~ educ + exper + black + south + married + smsa\", y expliquen los resultados que encuentran.**"
   ]
  },
  {
   "cell_type": "code",
   "execution_count": 13,
   "id": "e739e264",
   "metadata": {},
   "outputs": [
    {
     "data": {
      "text/html": [
       "<table class=\"simpletable\">\n",
       "<caption>OLS Regression Results</caption>\n",
       "<tr>\n",
       "  <th>Dep. Variable:</th>          <td>lwage</td>      <th>  R-squared:         </th> <td>   0.305</td> \n",
       "</tr>\n",
       "<tr>\n",
       "  <th>Model:</th>                   <td>OLS</td>       <th>  Adj. R-squared:    </th> <td>   0.304</td> \n",
       "</tr>\n",
       "<tr>\n",
       "  <th>Method:</th>             <td>Least Squares</td>  <th>  F-statistic:       </th> <td>   219.2</td> \n",
       "</tr>\n",
       "<tr>\n",
       "  <th>Date:</th>             <td>Fri, 09 Dec 2022</td> <th>  Prob (F-statistic):</th> <td>1.97e-232</td>\n",
       "</tr>\n",
       "<tr>\n",
       "  <th>Time:</th>                 <td>16:47:44</td>     <th>  Log-Likelihood:    </th> <td> -1273.9</td> \n",
       "</tr>\n",
       "<tr>\n",
       "  <th>No. Observations:</th>      <td>  3003</td>      <th>  AIC:               </th> <td>   2562.</td> \n",
       "</tr>\n",
       "<tr>\n",
       "  <th>Df Residuals:</th>          <td>  2996</td>      <th>  BIC:               </th> <td>   2604.</td> \n",
       "</tr>\n",
       "<tr>\n",
       "  <th>Df Model:</th>              <td>     6</td>      <th>                     </th>     <td> </td>    \n",
       "</tr>\n",
       "<tr>\n",
       "  <th>Covariance Type:</th>      <td>nonrobust</td>    <th>                     </th>     <td> </td>    \n",
       "</tr>\n",
       "</table>\n",
       "<table class=\"simpletable\">\n",
       "<tr>\n",
       "      <td></td>         <th>coef</th>     <th>std err</th>      <th>t</th>      <th>P>|t|</th>  <th>[0.025</th>    <th>0.975]</th>  \n",
       "</tr>\n",
       "<tr>\n",
       "  <th>Intercept</th> <td>    5.0633</td> <td>    0.064</td> <td>   79.437</td> <td> 0.000</td> <td>    4.938</td> <td>    5.188</td>\n",
       "</tr>\n",
       "<tr>\n",
       "  <th>educ</th>      <td>    0.0712</td> <td>    0.003</td> <td>   20.438</td> <td> 0.000</td> <td>    0.064</td> <td>    0.078</td>\n",
       "</tr>\n",
       "<tr>\n",
       "  <th>exper</th>     <td>    0.0342</td> <td>    0.002</td> <td>   15.422</td> <td> 0.000</td> <td>    0.030</td> <td>    0.038</td>\n",
       "</tr>\n",
       "<tr>\n",
       "  <th>black</th>     <td>   -0.1660</td> <td>    0.018</td> <td>   -9.426</td> <td> 0.000</td> <td>   -0.201</td> <td>   -0.131</td>\n",
       "</tr>\n",
       "<tr>\n",
       "  <th>south</th>     <td>   -0.1316</td> <td>    0.015</td> <td>   -8.788</td> <td> 0.000</td> <td>   -0.161</td> <td>   -0.102</td>\n",
       "</tr>\n",
       "<tr>\n",
       "  <th>married</th>   <td>   -0.0359</td> <td>    0.003</td> <td>  -10.547</td> <td> 0.000</td> <td>   -0.043</td> <td>   -0.029</td>\n",
       "</tr>\n",
       "<tr>\n",
       "  <th>smsa</th>      <td>    0.1758</td> <td>    0.015</td> <td>   11.372</td> <td> 0.000</td> <td>    0.145</td> <td>    0.206</td>\n",
       "</tr>\n",
       "</table>\n",
       "<table class=\"simpletable\">\n",
       "<tr>\n",
       "  <th>Omnibus:</th>       <td>53.196</td> <th>  Durbin-Watson:     </th> <td>   1.858</td>\n",
       "</tr>\n",
       "<tr>\n",
       "  <th>Prob(Omnibus):</th> <td> 0.000</td> <th>  Jarque-Bera (JB):  </th> <td>  69.430</td>\n",
       "</tr>\n",
       "<tr>\n",
       "  <th>Skew:</th>          <td>-0.231</td> <th>  Prob(JB):          </th> <td>8.38e-16</td>\n",
       "</tr>\n",
       "<tr>\n",
       "  <th>Kurtosis:</th>      <td> 3.584</td> <th>  Cond. No.          </th> <td>    154.</td>\n",
       "</tr>\n",
       "</table><br/><br/>Notes:<br/>[1] Standard Errors assume that the covariance matrix of the errors is correctly specified."
      ],
      "text/plain": [
       "<class 'statsmodels.iolib.summary.Summary'>\n",
       "\"\"\"\n",
       "                            OLS Regression Results                            \n",
       "==============================================================================\n",
       "Dep. Variable:                  lwage   R-squared:                       0.305\n",
       "Model:                            OLS   Adj. R-squared:                  0.304\n",
       "Method:                 Least Squares   F-statistic:                     219.2\n",
       "Date:                Fri, 09 Dec 2022   Prob (F-statistic):          1.97e-232\n",
       "Time:                        16:47:44   Log-Likelihood:                -1273.9\n",
       "No. Observations:                3003   AIC:                             2562.\n",
       "Df Residuals:                    2996   BIC:                             2604.\n",
       "Df Model:                           6                                         \n",
       "Covariance Type:            nonrobust                                         \n",
       "==============================================================================\n",
       "                 coef    std err          t      P>|t|      [0.025      0.975]\n",
       "------------------------------------------------------------------------------\n",
       "Intercept      5.0633      0.064     79.437      0.000       4.938       5.188\n",
       "educ           0.0712      0.003     20.438      0.000       0.064       0.078\n",
       "exper          0.0342      0.002     15.422      0.000       0.030       0.038\n",
       "black         -0.1660      0.018     -9.426      0.000      -0.201      -0.131\n",
       "south         -0.1316      0.015     -8.788      0.000      -0.161      -0.102\n",
       "married       -0.0359      0.003    -10.547      0.000      -0.043      -0.029\n",
       "smsa           0.1758      0.015     11.372      0.000       0.145       0.206\n",
       "==============================================================================\n",
       "Omnibus:                       53.196   Durbin-Watson:                   1.858\n",
       "Prob(Omnibus):                  0.000   Jarque-Bera (JB):               69.430\n",
       "Skew:                          -0.231   Prob(JB):                     8.38e-16\n",
       "Kurtosis:                       3.584   Cond. No.                         154.\n",
       "==============================================================================\n",
       "\n",
       "Notes:\n",
       "[1] Standard Errors assume that the covariance matrix of the errors is correctly specified.\n",
       "\"\"\""
      ]
     },
     "execution_count": 13,
     "metadata": {},
     "output_type": "execute_result"
    }
   ],
   "source": [
    "ols_reg = sm.OLS.from_formula(\"lwage ~ educ + exper + black + south + married + smsa\", \n",
    "              data = card).fit()\n",
    "\n",
    "ols_reg.summary()"
   ]
  },
  {
   "cell_type": "markdown",
   "id": "8dfc8ab0",
   "metadata": {},
   "source": [
    "**interpretacion**\n",
    "\n",
    "el modelo presenta un f statistic fuerte ademas logra explicar en un 30.4%la variabilidad d ela variable dependiente. Asimismo podemos aproximar que por cada a;o de escolaridad aumenta el nivel de ingreso de las personas en 7.1%, por cada año de experiencia laboral los ingreso aumentan en un casi 3% y si viven en SMSA los ingreoss aumentan en 17%. Tambien podemos observar como los ingresos varian negativamente, disminuyendo, si es que la persona es afroamericana en 16%, si vive en el sur se ve afectado en 13% y si esta casado o casada disminuira en 3%. Todo ello ha sido significativo pues tienen un pvalue menor a 0.05"
   ]
  },
  {
   "cell_type": "markdown",
   "id": "33d4ca92",
   "metadata": {},
   "source": [
    "**Corran una regresion de tipo IV(usando el paquete IV2SLS) donde van a instrumentalizar la variable educ con nearc2 .\n",
    "Compare los resultados encontrados usando IV2SLS con la primera regresión. ¿Cambió el coeficiente relacionado a educ , por qué?**"
   ]
  },
  {
   "cell_type": "code",
   "execution_count": 14,
   "id": "70d1aae1",
   "metadata": {},
   "outputs": [
    {
     "name": "stderr",
     "output_type": "stream",
     "text": [
      "C:\\Users\\cam17\\anaconda3\\lib\\site-packages\\linearmodels\\iv\\model.py:543: MissingValueWarning: \n",
      "Inputs contain missing values. Dropping rows with missing observations.\n"
     ]
    },
    {
     "data": {
      "text/html": [
       "<table class=\"simpletable\">\n",
       "<caption>IV-2SLS Estimation Summary</caption>\n",
       "<tr>\n",
       "  <th>Dep. Variable:</th>          <td>lwage</td>      <th>  R-squared:         </th> <td>-1.2536</td>\n",
       "</tr>\n",
       "<tr>\n",
       "  <th>Estimator:</th>             <td>IV-2SLS</td>     <th>  Adj. R-squared:    </th> <td>-1.2581</td>\n",
       "</tr>\n",
       "<tr>\n",
       "  <th>No. Observations:</th>       <td>3003</td>       <th>  F-statistic:       </th> <td>296.29</td> \n",
       "</tr>\n",
       "<tr>\n",
       "  <th>Date:</th>             <td>Fri, Dec 09 2022</td> <th>  P-value (F-stat)   </th> <td>0.0000</td> \n",
       "</tr>\n",
       "<tr>\n",
       "  <th>Time:</th>                 <td>16:51:17</td>     <th>  Distribution:      </th> <td>chi2(6)</td>\n",
       "</tr>\n",
       "<tr>\n",
       "  <th>Cov. Estimator:</th>        <td>robust</td>      <th>                     </th>    <td></td>    \n",
       "</tr>\n",
       "<tr>\n",
       "  <th></th>                          <td></td>         <th>                     </th>    <td></td>    \n",
       "</tr>\n",
       "</table>\n",
       "<table class=\"simpletable\">\n",
       "<caption>Parameter Estimates</caption>\n",
       "<tr>\n",
       "      <td></td>      <th>Parameter</th> <th>Std. Err.</th> <th>T-stat</th>  <th>P-value</th> <th>Lower CI</th> <th>Upper CI</th>\n",
       "</tr>\n",
       "<tr>\n",
       "  <th>Intercept</th>  <td>0.2107</td>    <td>3.1235</td>   <td>0.0675</td>  <td>0.9462</td>   <td>-5.9112</td>  <td>6.3327</td> \n",
       "</tr>\n",
       "<tr>\n",
       "  <th>black</th>      <td>0.1051</td>    <td>0.1786</td>   <td>0.5888</td>  <td>0.5560</td>   <td>-0.2449</td>  <td>0.4552</td> \n",
       "</tr>\n",
       "<tr>\n",
       "  <th>exper</th>      <td>0.1496</td>    <td>0.0744</td>   <td>2.0111</td>  <td>0.0443</td>   <td>0.0038</td>   <td>0.2954</td> \n",
       "</tr>\n",
       "<tr>\n",
       "  <th>married</th>    <td>-0.0149</td>   <td>0.0149</td>   <td>-0.9965</td> <td>0.3190</td>   <td>-0.0442</td>  <td>0.0144</td> \n",
       "</tr>\n",
       "<tr>\n",
       "  <th>smsa</th>       <td>0.0245</td>    <td>0.1018</td>   <td>0.2410</td>  <td>0.8095</td>   <td>-0.1749</td>  <td>0.2240</td> \n",
       "</tr>\n",
       "<tr>\n",
       "  <th>south</th>      <td>-0.0325</td>   <td>0.0689</td>   <td>-0.4719</td> <td>0.6370</td>   <td>-0.1675</td>  <td>0.1025</td> \n",
       "</tr>\n",
       "<tr>\n",
       "  <th>educ</th>       <td>0.3566</td>    <td>0.1837</td>   <td>1.9410</td>  <td>0.0523</td>   <td>-0.0035</td>  <td>0.7167</td> \n",
       "</tr>\n",
       "</table><br/><br/>Endogenous: educ<br/>Instruments: nearc2<br/>Robust Covariance (Heteroskedastic)<br/>Debiased: False"
      ],
      "text/plain": [
       "<class 'linearmodels.compat.statsmodels.Summary'>\n",
       "\"\"\"\n",
       "                          IV-2SLS Estimation Summary                          \n",
       "==============================================================================\n",
       "Dep. Variable:                  lwage   R-squared:                     -1.2536\n",
       "Estimator:                    IV-2SLS   Adj. R-squared:                -1.2581\n",
       "No. Observations:                3003   F-statistic:                    296.29\n",
       "Date:                Fri, Dec 09 2022   P-value (F-stat)                0.0000\n",
       "Time:                        16:51:17   Distribution:                  chi2(6)\n",
       "Cov. Estimator:                robust                                         \n",
       "                                                                              \n",
       "                             Parameter Estimates                              \n",
       "==============================================================================\n",
       "            Parameter  Std. Err.     T-stat    P-value    Lower CI    Upper CI\n",
       "------------------------------------------------------------------------------\n",
       "Intercept      0.2107     3.1235     0.0675     0.9462     -5.9112      6.3327\n",
       "black          0.1051     0.1786     0.5888     0.5560     -0.2449      0.4552\n",
       "exper          0.1496     0.0744     2.0111     0.0443      0.0038      0.2954\n",
       "married       -0.0149     0.0149    -0.9965     0.3190     -0.0442      0.0144\n",
       "smsa           0.0245     0.1018     0.2410     0.8095     -0.1749      0.2240\n",
       "south         -0.0325     0.0689    -0.4719     0.6370     -0.1675      0.1025\n",
       "educ           0.3566     0.1837     1.9410     0.0523     -0.0035      0.7167\n",
       "==============================================================================\n",
       "\n",
       "Endogenous: educ\n",
       "Instruments: nearc2\n",
       "Robust Covariance (Heteroskedastic)\n",
       "Debiased: False\n",
       "\"\"\""
      ]
     },
     "execution_count": 14,
     "metadata": {},
     "output_type": "execute_result"
    }
   ],
   "source": [
    "iv_reg = IV2SLS.from_formula(\"lwage ~  1 + exper + black + south + married + smsa + [educ ~ nearc2]\", card).fit()\n",
    "iv_reg.summary"
   ]
  },
  {
   "cell_type": "markdown",
   "id": "e302a3e4",
   "metadata": {},
   "source": [
    "En este modelo hay un f-statistic mayor a 15 que no reporta un instrumento debil ademas de que las variables aqui presentadas ya no son significativas como en el modleo anterior al tener un pvalue mayor de 0.05. En general hay un retorno a la educación mucho mayor que el que habíamos encontrado utilizando OLS. El rendimiento de la educación asociado con esta estimación 2SLS es 0,356, por tanto, por cada año adicional de educación, los ingresos aumentan un 35,6 %."
   ]
  }
 ],
 "metadata": {
  "kernelspec": {
   "display_name": "Python 3 (ipykernel)",
   "language": "python",
   "name": "python3"
  },
  "language_info": {
   "codemirror_mode": {
    "name": "ipython",
    "version": 3
   },
   "file_extension": ".py",
   "mimetype": "text/x-python",
   "name": "python",
   "nbconvert_exporter": "python",
   "pygments_lexer": "ipython3",
   "version": "3.9.12"
  }
 },
 "nbformat": 4,
 "nbformat_minor": 5
}
