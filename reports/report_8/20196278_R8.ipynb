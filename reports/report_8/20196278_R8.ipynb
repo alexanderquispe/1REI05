{
  "nbformat": 4,
  "nbformat_minor": 0,
  "metadata": {
    "colab": {
      "provenance": [],
      "collapsed_sections": []
    },
    "kernelspec": {
      "name": "python3",
      "display_name": "Python 3"
    },
    "language_info": {
      "name": "python"
    }
  },
  "cells": [
    {
      "cell_type": "markdown",
      "source": [
        "$$REPORT_Nº8:$$\n",
        "\n",
        "$$Name: Santiago Alberto Vera Quispe $$\n",
        "\n",
        "$$Code: 20196278$$"
      ],
      "metadata": {
        "id": "RVI4VQPYW5Vr"
      }
    },
    {
      "cell_type": "markdown",
      "source": [
        "$$Lectura$$\n",
        "\n",
        "\n",
        "El texto trabaja la propuesta de pensar los efectos de la minería en su forma de Mita y su impacto en el consumo doméstico y el retraso del crecimientos en niños, desde la colonia con sus terratenientes, hasta antes de la  república en los espacios de Perú y Bolivia.  Para ello se utilizó la regresión discontinua.(RD) para poder evaluar los efectos a largo plazo con variables limitadas en la latitud étnica. El trabajo se desarrolla en relación a la hipótesis de que las industrias extractivas tienen un efecto en la prosperidad económica a largo plazo. Un primer hallazgo sería el indicar que la largo plazo de las comunidades andinas tienden a menos integración educativa y económicas, y, así mismo, se evidencia prevalencia de agricultura substancial \n",
        "\n",
        "Previamente al entrar en temas metodológicos, un el autor aporta al trabajo un contexto histórico de la forma de producción que duró más de doscientos años con el objetivo de satisfacer intereses de España. Para el trabajo de la Mita se realizó una asignación que requería la séptima parte de la población masculina adulta para los trabajos en un momento dado para controlar el trabajo sin afectar a la población.  Así, la ubicación de estas comunidades para su explotación sería importante. Posterior a esta introducción histórica, una característica a resaltar es que el trabajo tiene un revisión transversal de la historia correctamente sustentada con la data. \n",
        "\n",
        "El texto continúa en la especificación metodológica y recolección de datos.  Así, los datos se recogen de Enaho, INEI para poder reflejar la capacidad productiva en la actualidad, y, en relación a la reducción en el crecimiento de los niños, se consideró datos médicos de los mismos sabiendo  que los niveles de pobreza llevan a la desnutrición y, así mismo, a la baja talla., Las co-variables de longitud y latitud serán utilizadas en una regresión discontinua. Para ello, el autor establece supuestos de pensar que  las variables pueden afectar a la Mita: en latitud, se evaluó el terreno, fertilidad, del suelo, precipitación, etc, y para la longitud, principalmente el clima, zona de estudios, etc. En su análisis es preciso aseverar que las comunidades evaluadas para la Mita, fueron evaluadas en su densidad poblacional según arqueológicos y, en relación a  la tributación se consideró los interés de mantener cierta tributación en el virreinato. Por tanto, la tributación y la densidad demográfica no fueron distintas en significancia. La migración es un fenómeno que escapa al estudio, no obstante, se sustentan reportes de no significancia para el caso. \n",
        "\n",
        "El ártico avanza en su especificación de qué tipo de (RD) está realizando: el suyo es semiparamétrico, lo que le permite limitar la muestra a 50 kilómetros del límite del trabajo de la Mita para identificar los efectos causales utilizados en la regresión entre el tratamiento de las variables longitud y latitud. \n",
        "\n",
        "El gran aporte de este estudio se presenta en los resultados. En primera instancia, se presenta la reducción del consumo doméstico de un 25% aproximadamente para el 2001. Sus coeficientes de la variables evaluadas son términos económicos similares y no se puede negar si son estadísticamente idénticas. En un segundo lugar, la información censal sobre su altura o retraso en el crecimiento, ofrece una sustancial data de las estimaciones puntuales que dan efectos estadísticamente significativos. Ambos hallazgos tienen su gráfica logarítmica y sus gráficos ploteados de RD. Por otro lado, la migración que bordea el 4.8% es omitida por el alcance del estudio, ya que la migración no era la principal fuerza responsable del efecto de la Mita. Adicionalmente, para evaluar correctamente prosperidad económica, se utiliza el análisis de regresión logarítmica para establecer de variables dependientes trabajables para con la contribución tributaria. \n",
        "\n",
        "El estudio continúa satisfactoriamente evaluando, la pregunta central: ¿por qué la Mita, afecta la prosperidad de las personas doscientos años después de su abolición, estos lo responde en latitud y longitud con los canales de persistencia. Es precisamente en estos canales en los que el trabajo encuentra mayor soporte. Estos canales serían la tenencia de la tierra, los bienes públicos y la inclusión en el mercado. Estos canales están acordes con lo encontrado anteriormente en la data. \n",
        "\n",
        "El primer canal refiere la formación de la clase que históricamente estaba constituida como primera competencia para establecerse como terrateniente frente al Estado. Los informes parroquiales presentan los datos, en los que se ve un proceso de expansión de haciendas aledañas a zonas extractivas como la minera. Para 1812, la abolición se dio, más esta práctica feudal continuó hasta la reforma agraria de 1970. El segundo canal refiere a los bienes públicos, como en el acceso a la nivel de educación, años de escolaridad, en su infraestructura en carretes en sus diferentes categorías como otro bien público e interconección y desarrollo. Esta variable estaría sujeta al nivel de pobreza en la agrupación de los pueblos que realizaron Mitas. La construcción de pavimentos para 1940 y su continua modernización coinciden también con la densidad demográfica. Los grandes terratenientes condicionaron un sistema estable de tenencia de tierras y estos tuvieron mejores condiciones para garantizar sus condiciones por los recursos del gobierno al organizar a la población trabajadora. La relación entre los dos primeros canales, puede indicar que la formación de clases terrateniente influenció también a la conformación de bienes públicos  Finalmente, el tercer canal en el que se ven los efectos en longitud y latitud, son los efectos del consumo familiar en la persistencia de la participación e impacto económico significativo en el mercado agricultor, ya que este era el principal aporte a la economía familiar; no obstante, no es estadísticamente significativa la participación en el mercado y al forma abrupta de esta región. Así, no hay resultado concluyente respecto a este. No obstante, la participación si se puede evaluar en términos de infraestructura, al ser variables relacionales, la usamos como instrumental y el trabajo de Mita se presenta como una influencia negativa a un trabajo secundario de las comunidades. \n",
        "\n",
        "Este estudio, a pesar de la complicación de la data, podría continuar y expandirse si considera los flujos económicos en relación a la, dentro de su análisis, ya que como bien menciona, no se tenía la data disponible. Esto podría llevar a un análisis más cualitativo; no obstante, sería un complemento de gran importancia. \n",
        "\n"
      ],
      "metadata": {
        "id": "oa80kQxsXA6N"
      }
    },
    {
      "cell_type": "code",
      "execution_count": 12,
      "metadata": {
        "colab": {
          "base_uri": "https://localhost:8080/"
        },
        "id": "e1tlDLcY1-5U",
        "outputId": "ff8d59db-957d-41d0-a7cc-64a71b31087c"
      },
      "outputs": [
        {
          "output_type": "stream",
          "name": "stdout",
          "text": [
            "Looking in indexes: https://pypi.org/simple, https://us-python.pkg.dev/colab-wheels/public/simple/\n",
            "Requirement already satisfied: linearmodels in /usr/local/lib/python3.7/dist-packages (4.25)\n",
            "Requirement already satisfied: scipy>=1.2 in /usr/local/lib/python3.7/dist-packages (from linearmodels) (1.7.3)\n",
            "Requirement already satisfied: property-cached>=1.6.3 in /usr/local/lib/python3.7/dist-packages (from linearmodels) (1.6.4)\n",
            "Requirement already satisfied: mypy-extensions>=0.4 in /usr/local/lib/python3.7/dist-packages (from linearmodels) (0.4.3)\n",
            "Requirement already satisfied: Cython>=0.29.21 in /usr/local/lib/python3.7/dist-packages (from linearmodels) (0.29.32)\n",
            "Requirement already satisfied: pandas>=0.24 in /usr/local/lib/python3.7/dist-packages (from linearmodels) (1.3.5)\n",
            "Requirement already satisfied: statsmodels>=0.11 in /usr/local/lib/python3.7/dist-packages (from linearmodels) (0.12.2)\n",
            "Requirement already satisfied: patsy in /usr/local/lib/python3.7/dist-packages (from linearmodels) (0.5.3)\n",
            "Requirement already satisfied: pyhdfe>=0.1 in /usr/local/lib/python3.7/dist-packages (from linearmodels) (0.1.1)\n",
            "Requirement already satisfied: numpy>=1.16 in /usr/local/lib/python3.7/dist-packages (from linearmodels) (1.21.6)\n",
            "Requirement already satisfied: formulaic in /usr/local/lib/python3.7/dist-packages (from linearmodels) (0.5.2)\n",
            "Requirement already satisfied: pytz>=2017.3 in /usr/local/lib/python3.7/dist-packages (from pandas>=0.24->linearmodels) (2022.6)\n",
            "Requirement already satisfied: python-dateutil>=2.7.3 in /usr/local/lib/python3.7/dist-packages (from pandas>=0.24->linearmodels) (2.8.2)\n",
            "Requirement already satisfied: six>=1.5 in /usr/local/lib/python3.7/dist-packages (from python-dateutil>=2.7.3->pandas>=0.24->linearmodels) (1.15.0)\n",
            "Requirement already satisfied: interface-meta>=1.2.0 in /usr/local/lib/python3.7/dist-packages (from formulaic->linearmodels) (1.3.0)\n",
            "Requirement already satisfied: graphlib-backport>=1.0.0 in /usr/local/lib/python3.7/dist-packages (from formulaic->linearmodels) (1.0.3)\n",
            "Requirement already satisfied: typing-extensions>=4.2.0 in /usr/local/lib/python3.7/dist-packages (from formulaic->linearmodels) (4.4.0)\n",
            "Requirement already satisfied: astor>=0.8 in /usr/local/lib/python3.7/dist-packages (from formulaic->linearmodels) (0.8.1)\n",
            "Requirement already satisfied: wrapt>=1.0 in /usr/local/lib/python3.7/dist-packages (from formulaic->linearmodels) (1.14.1)\n",
            "Requirement already satisfied: cached-property>=1.3.0 in /usr/local/lib/python3.7/dist-packages (from formulaic->linearmodels) (1.5.2)\n"
          ]
        }
      ],
      "source": [
        "pip install linearmodels\n"
      ]
    },
    {
      "cell_type": "code",
      "source": [
        "pip install seaborn"
      ],
      "metadata": {
        "colab": {
          "base_uri": "https://localhost:8080/"
        },
        "id": "R_GRtPCj2RnI",
        "outputId": "8bed8bc1-bcee-4f46-f241-bee5e69742e3"
      },
      "execution_count": 13,
      "outputs": [
        {
          "output_type": "stream",
          "name": "stdout",
          "text": [
            "Looking in indexes: https://pypi.org/simple, https://us-python.pkg.dev/colab-wheels/public/simple/\n",
            "Requirement already satisfied: seaborn in /usr/local/lib/python3.7/dist-packages (0.11.2)\n",
            "Requirement already satisfied: numpy>=1.15 in /usr/local/lib/python3.7/dist-packages (from seaborn) (1.21.6)\n",
            "Requirement already satisfied: scipy>=1.0 in /usr/local/lib/python3.7/dist-packages (from seaborn) (1.7.3)\n",
            "Requirement already satisfied: pandas>=0.23 in /usr/local/lib/python3.7/dist-packages (from seaborn) (1.3.5)\n",
            "Requirement already satisfied: matplotlib>=2.2 in /usr/local/lib/python3.7/dist-packages (from seaborn) (3.2.2)\n",
            "Requirement already satisfied: cycler>=0.10 in /usr/local/lib/python3.7/dist-packages (from matplotlib>=2.2->seaborn) (0.11.0)\n",
            "Requirement already satisfied: kiwisolver>=1.0.1 in /usr/local/lib/python3.7/dist-packages (from matplotlib>=2.2->seaborn) (1.4.4)\n",
            "Requirement already satisfied: pyparsing!=2.0.4,!=2.1.2,!=2.1.6,>=2.0.1 in /usr/local/lib/python3.7/dist-packages (from matplotlib>=2.2->seaborn) (3.0.9)\n",
            "Requirement already satisfied: python-dateutil>=2.1 in /usr/local/lib/python3.7/dist-packages (from matplotlib>=2.2->seaborn) (2.8.2)\n",
            "Requirement already satisfied: typing-extensions in /usr/local/lib/python3.7/dist-packages (from kiwisolver>=1.0.1->matplotlib>=2.2->seaborn) (4.4.0)\n",
            "Requirement already satisfied: pytz>=2017.3 in /usr/local/lib/python3.7/dist-packages (from pandas>=0.23->seaborn) (2022.6)\n",
            "Requirement already satisfied: six>=1.5 in /usr/local/lib/python3.7/dist-packages (from python-dateutil>=2.1->matplotlib>=2.2->seaborn) (1.15.0)\n"
          ]
        }
      ]
    },
    {
      "cell_type": "code",
      "source": [
        "import os\n",
        "import numpy as np \n",
        "import pandas as pd \n",
        "import statsmodels.api as sm \n",
        "import statsmodels.formula.api as smf \n",
        "from itertools import combinations \n",
        "import plotnine as p\n",
        "import statsmodels.api as sm\n",
        "import statsmodels.formula.api as smf\n",
        "import linearmodels.iv.model as lm\n",
        "from linearmodels.iv import IV2SLS\n",
        "from statsmodels.iolib.summary2 import summary_col\n",
        "import seaborn as sns"
      ],
      "metadata": {
        "id": "QMpeONil2a57"
      },
      "execution_count": 14,
      "outputs": []
    },
    {
      "cell_type": "code",
      "source": [
        "pip install causalgraphicalmodels"
      ],
      "metadata": {
        "colab": {
          "base_uri": "https://localhost:8080/"
        },
        "id": "rTyT-E6P2Tg4",
        "outputId": "a91f54a8-4514-495a-c05d-b083d0455228"
      },
      "execution_count": 15,
      "outputs": [
        {
          "output_type": "stream",
          "name": "stdout",
          "text": [
            "Looking in indexes: https://pypi.org/simple, https://us-python.pkg.dev/colab-wheels/public/simple/\n",
            "Requirement already satisfied: causalgraphicalmodels in /usr/local/lib/python3.7/dist-packages (0.0.4)\n",
            "Requirement already satisfied: networkx in /usr/local/lib/python3.7/dist-packages (from causalgraphicalmodels) (2.6.3)\n",
            "Requirement already satisfied: pandas in /usr/local/lib/python3.7/dist-packages (from causalgraphicalmodels) (1.3.5)\n",
            "Requirement already satisfied: numpy in /usr/local/lib/python3.7/dist-packages (from causalgraphicalmodels) (1.21.6)\n",
            "Requirement already satisfied: graphviz in /usr/local/lib/python3.7/dist-packages (from causalgraphicalmodels) (0.10.1)\n",
            "Requirement already satisfied: pytz>=2017.3 in /usr/local/lib/python3.7/dist-packages (from pandas->causalgraphicalmodels) (2022.6)\n",
            "Requirement already satisfied: python-dateutil>=2.7.3 in /usr/local/lib/python3.7/dist-packages (from pandas->causalgraphicalmodels) (2.8.2)\n",
            "Requirement already satisfied: six>=1.5 in /usr/local/lib/python3.7/dist-packages (from python-dateutil>=2.7.3->pandas->causalgraphicalmodels) (1.15.0)\n"
          ]
        }
      ]
    },
    {
      "cell_type": "code",
      "source": [
        "from causalgraphicalmodels import CausalGraphicalModel"
      ],
      "metadata": {
        "id": "IoGeUbq34TE_"
      },
      "execution_count": 16,
      "outputs": []
    },
    {
      "cell_type": "code",
      "source": [
        "# load data\n",
        "\n",
        "import ssl\n",
        "ssl._create_default_https_context = ssl._create_unverified_context\n",
        "\n",
        "def read_data(file): \n",
        "    return pd.read_stata(\"https://raw.github.com/scunning1975/mixtape/master/\" + file)\n",
        "\n",
        "data = read_data(\"card.dta\")\n",
        "data.head()"
      ],
      "metadata": {
        "colab": {
          "base_uri": "https://localhost:8080/",
          "height": 300
        },
        "id": "QJOk9Gql4mWO",
        "outputId": "baf091c7-fccf-4abc-9cf9-9b511af0124b"
      },
      "execution_count": 17,
      "outputs": [
        {
          "output_type": "execute_result",
          "data": {
            "text/plain": [
              "    id  nearc2  nearc4  educ   age  fatheduc  motheduc    weight  momdad14  \\\n",
              "0  2.0     0.0     0.0   7.0  29.0       NaN       NaN  158413.0       1.0   \n",
              "1  3.0     0.0     0.0  12.0  27.0       8.0       8.0  380166.0       1.0   \n",
              "2  4.0     0.0     0.0  12.0  34.0      14.0      12.0  367470.0       1.0   \n",
              "3  5.0     1.0     1.0  11.0  27.0      11.0      12.0  380166.0       1.0   \n",
              "4  6.0     1.0     1.0  12.0  34.0       8.0       7.0  367470.0       1.0   \n",
              "\n",
              "   sinmom14  ...   KWW     IQ  married  libcrd14  exper     lwage  expersq  \\\n",
              "0       0.0  ...  15.0    NaN      1.0       0.0   16.0  6.306275    256.0   \n",
              "1       0.0  ...  35.0   93.0      1.0       1.0    9.0  6.175867     81.0   \n",
              "2       0.0  ...  42.0  103.0      1.0       1.0   16.0  6.580639    256.0   \n",
              "3       0.0  ...  25.0   88.0      1.0       1.0   10.0  5.521461    100.0   \n",
              "4       0.0  ...  34.0  108.0      1.0       0.0   16.0  6.591674    256.0   \n",
              "\n",
              "    u_lwage  lwage_hat    u_educ  \n",
              "0  0.198047   6.108228 -3.067539  \n",
              "1 -0.211160   6.387027 -1.727562  \n",
              "2  0.204719   6.375920  1.012975  \n",
              "3 -0.967905   6.489366 -2.253536  \n",
              "4  0.125173   6.466501  1.090437  \n",
              "\n",
              "[5 rows x 37 columns]"
            ],
            "text/html": [
              "\n",
              "  <div id=\"df-263573cc-413c-417d-ac38-88697cd0809c\">\n",
              "    <div class=\"colab-df-container\">\n",
              "      <div>\n",
              "<style scoped>\n",
              "    .dataframe tbody tr th:only-of-type {\n",
              "        vertical-align: middle;\n",
              "    }\n",
              "\n",
              "    .dataframe tbody tr th {\n",
              "        vertical-align: top;\n",
              "    }\n",
              "\n",
              "    .dataframe thead th {\n",
              "        text-align: right;\n",
              "    }\n",
              "</style>\n",
              "<table border=\"1\" class=\"dataframe\">\n",
              "  <thead>\n",
              "    <tr style=\"text-align: right;\">\n",
              "      <th></th>\n",
              "      <th>id</th>\n",
              "      <th>nearc2</th>\n",
              "      <th>nearc4</th>\n",
              "      <th>educ</th>\n",
              "      <th>age</th>\n",
              "      <th>fatheduc</th>\n",
              "      <th>motheduc</th>\n",
              "      <th>weight</th>\n",
              "      <th>momdad14</th>\n",
              "      <th>sinmom14</th>\n",
              "      <th>...</th>\n",
              "      <th>KWW</th>\n",
              "      <th>IQ</th>\n",
              "      <th>married</th>\n",
              "      <th>libcrd14</th>\n",
              "      <th>exper</th>\n",
              "      <th>lwage</th>\n",
              "      <th>expersq</th>\n",
              "      <th>u_lwage</th>\n",
              "      <th>lwage_hat</th>\n",
              "      <th>u_educ</th>\n",
              "    </tr>\n",
              "  </thead>\n",
              "  <tbody>\n",
              "    <tr>\n",
              "      <th>0</th>\n",
              "      <td>2.0</td>\n",
              "      <td>0.0</td>\n",
              "      <td>0.0</td>\n",
              "      <td>7.0</td>\n",
              "      <td>29.0</td>\n",
              "      <td>NaN</td>\n",
              "      <td>NaN</td>\n",
              "      <td>158413.0</td>\n",
              "      <td>1.0</td>\n",
              "      <td>0.0</td>\n",
              "      <td>...</td>\n",
              "      <td>15.0</td>\n",
              "      <td>NaN</td>\n",
              "      <td>1.0</td>\n",
              "      <td>0.0</td>\n",
              "      <td>16.0</td>\n",
              "      <td>6.306275</td>\n",
              "      <td>256.0</td>\n",
              "      <td>0.198047</td>\n",
              "      <td>6.108228</td>\n",
              "      <td>-3.067539</td>\n",
              "    </tr>\n",
              "    <tr>\n",
              "      <th>1</th>\n",
              "      <td>3.0</td>\n",
              "      <td>0.0</td>\n",
              "      <td>0.0</td>\n",
              "      <td>12.0</td>\n",
              "      <td>27.0</td>\n",
              "      <td>8.0</td>\n",
              "      <td>8.0</td>\n",
              "      <td>380166.0</td>\n",
              "      <td>1.0</td>\n",
              "      <td>0.0</td>\n",
              "      <td>...</td>\n",
              "      <td>35.0</td>\n",
              "      <td>93.0</td>\n",
              "      <td>1.0</td>\n",
              "      <td>1.0</td>\n",
              "      <td>9.0</td>\n",
              "      <td>6.175867</td>\n",
              "      <td>81.0</td>\n",
              "      <td>-0.211160</td>\n",
              "      <td>6.387027</td>\n",
              "      <td>-1.727562</td>\n",
              "    </tr>\n",
              "    <tr>\n",
              "      <th>2</th>\n",
              "      <td>4.0</td>\n",
              "      <td>0.0</td>\n",
              "      <td>0.0</td>\n",
              "      <td>12.0</td>\n",
              "      <td>34.0</td>\n",
              "      <td>14.0</td>\n",
              "      <td>12.0</td>\n",
              "      <td>367470.0</td>\n",
              "      <td>1.0</td>\n",
              "      <td>0.0</td>\n",
              "      <td>...</td>\n",
              "      <td>42.0</td>\n",
              "      <td>103.0</td>\n",
              "      <td>1.0</td>\n",
              "      <td>1.0</td>\n",
              "      <td>16.0</td>\n",
              "      <td>6.580639</td>\n",
              "      <td>256.0</td>\n",
              "      <td>0.204719</td>\n",
              "      <td>6.375920</td>\n",
              "      <td>1.012975</td>\n",
              "    </tr>\n",
              "    <tr>\n",
              "      <th>3</th>\n",
              "      <td>5.0</td>\n",
              "      <td>1.0</td>\n",
              "      <td>1.0</td>\n",
              "      <td>11.0</td>\n",
              "      <td>27.0</td>\n",
              "      <td>11.0</td>\n",
              "      <td>12.0</td>\n",
              "      <td>380166.0</td>\n",
              "      <td>1.0</td>\n",
              "      <td>0.0</td>\n",
              "      <td>...</td>\n",
              "      <td>25.0</td>\n",
              "      <td>88.0</td>\n",
              "      <td>1.0</td>\n",
              "      <td>1.0</td>\n",
              "      <td>10.0</td>\n",
              "      <td>5.521461</td>\n",
              "      <td>100.0</td>\n",
              "      <td>-0.967905</td>\n",
              "      <td>6.489366</td>\n",
              "      <td>-2.253536</td>\n",
              "    </tr>\n",
              "    <tr>\n",
              "      <th>4</th>\n",
              "      <td>6.0</td>\n",
              "      <td>1.0</td>\n",
              "      <td>1.0</td>\n",
              "      <td>12.0</td>\n",
              "      <td>34.0</td>\n",
              "      <td>8.0</td>\n",
              "      <td>7.0</td>\n",
              "      <td>367470.0</td>\n",
              "      <td>1.0</td>\n",
              "      <td>0.0</td>\n",
              "      <td>...</td>\n",
              "      <td>34.0</td>\n",
              "      <td>108.0</td>\n",
              "      <td>1.0</td>\n",
              "      <td>0.0</td>\n",
              "      <td>16.0</td>\n",
              "      <td>6.591674</td>\n",
              "      <td>256.0</td>\n",
              "      <td>0.125173</td>\n",
              "      <td>6.466501</td>\n",
              "      <td>1.090437</td>\n",
              "    </tr>\n",
              "  </tbody>\n",
              "</table>\n",
              "<p>5 rows × 37 columns</p>\n",
              "</div>\n",
              "      <button class=\"colab-df-convert\" onclick=\"convertToInteractive('df-263573cc-413c-417d-ac38-88697cd0809c')\"\n",
              "              title=\"Convert this dataframe to an interactive table.\"\n",
              "              style=\"display:none;\">\n",
              "        \n",
              "  <svg xmlns=\"http://www.w3.org/2000/svg\" height=\"24px\"viewBox=\"0 0 24 24\"\n",
              "       width=\"24px\">\n",
              "    <path d=\"M0 0h24v24H0V0z\" fill=\"none\"/>\n",
              "    <path d=\"M18.56 5.44l.94 2.06.94-2.06 2.06-.94-2.06-.94-.94-2.06-.94 2.06-2.06.94zm-11 1L8.5 8.5l.94-2.06 2.06-.94-2.06-.94L8.5 2.5l-.94 2.06-2.06.94zm10 10l.94 2.06.94-2.06 2.06-.94-2.06-.94-.94-2.06-.94 2.06-2.06.94z\"/><path d=\"M17.41 7.96l-1.37-1.37c-.4-.4-.92-.59-1.43-.59-.52 0-1.04.2-1.43.59L10.3 9.45l-7.72 7.72c-.78.78-.78 2.05 0 2.83L4 21.41c.39.39.9.59 1.41.59.51 0 1.02-.2 1.41-.59l7.78-7.78 2.81-2.81c.8-.78.8-2.07 0-2.86zM5.41 20L4 18.59l7.72-7.72 1.47 1.35L5.41 20z\"/>\n",
              "  </svg>\n",
              "      </button>\n",
              "      \n",
              "  <style>\n",
              "    .colab-df-container {\n",
              "      display:flex;\n",
              "      flex-wrap:wrap;\n",
              "      gap: 12px;\n",
              "    }\n",
              "\n",
              "    .colab-df-convert {\n",
              "      background-color: #E8F0FE;\n",
              "      border: none;\n",
              "      border-radius: 50%;\n",
              "      cursor: pointer;\n",
              "      display: none;\n",
              "      fill: #1967D2;\n",
              "      height: 32px;\n",
              "      padding: 0 0 0 0;\n",
              "      width: 32px;\n",
              "    }\n",
              "\n",
              "    .colab-df-convert:hover {\n",
              "      background-color: #E2EBFA;\n",
              "      box-shadow: 0px 1px 2px rgba(60, 64, 67, 0.3), 0px 1px 3px 1px rgba(60, 64, 67, 0.15);\n",
              "      fill: #174EA6;\n",
              "    }\n",
              "\n",
              "    [theme=dark] .colab-df-convert {\n",
              "      background-color: #3B4455;\n",
              "      fill: #D2E3FC;\n",
              "    }\n",
              "\n",
              "    [theme=dark] .colab-df-convert:hover {\n",
              "      background-color: #434B5C;\n",
              "      box-shadow: 0px 1px 3px 1px rgba(0, 0, 0, 0.15);\n",
              "      filter: drop-shadow(0px 1px 2px rgba(0, 0, 0, 0.3));\n",
              "      fill: #FFFFFF;\n",
              "    }\n",
              "  </style>\n",
              "\n",
              "      <script>\n",
              "        const buttonEl =\n",
              "          document.querySelector('#df-263573cc-413c-417d-ac38-88697cd0809c button.colab-df-convert');\n",
              "        buttonEl.style.display =\n",
              "          google.colab.kernel.accessAllowed ? 'block' : 'none';\n",
              "\n",
              "        async function convertToInteractive(key) {\n",
              "          const element = document.querySelector('#df-263573cc-413c-417d-ac38-88697cd0809c');\n",
              "          const dataTable =\n",
              "            await google.colab.kernel.invokeFunction('convertToInteractive',\n",
              "                                                     [key], {});\n",
              "          if (!dataTable) return;\n",
              "\n",
              "          const docLinkHtml = 'Like what you see? Visit the ' +\n",
              "            '<a target=\"_blank\" href=https://colab.research.google.com/notebooks/data_table.ipynb>data table notebook</a>'\n",
              "            + ' to learn more about interactive tables.';\n",
              "          element.innerHTML = '';\n",
              "          dataTable['output_type'] = 'display_data';\n",
              "          await google.colab.output.renderOutput(dataTable, element);\n",
              "          const docLink = document.createElement('div');\n",
              "          docLink.innerHTML = docLinkHtml;\n",
              "          element.appendChild(docLink);\n",
              "        }\n",
              "      </script>\n",
              "    </div>\n",
              "  </div>\n",
              "  "
            ]
          },
          "metadata": {},
          "execution_count": 17
        }
      ]
    },
    {
      "cell_type": "code",
      "source": [
        "data_1 = pd.get_dummies(data, columns = [\"nearc4\"])\n",
        "data_1"
      ],
      "metadata": {
        "colab": {
          "base_uri": "https://localhost:8080/",
          "height": 488
        },
        "id": "wRf9nBuv4xfw",
        "outputId": "ee16a22a-3b0e-4d14-c981-be5be078e4a6"
      },
      "execution_count": 18,
      "outputs": [
        {
          "output_type": "execute_result",
          "data": {
            "text/plain": [
              "          id  nearc2  educ   age  fatheduc  motheduc    weight  momdad14  \\\n",
              "0        2.0     0.0   7.0  29.0       NaN       NaN  158413.0       1.0   \n",
              "1        3.0     0.0  12.0  27.0       8.0       8.0  380166.0       1.0   \n",
              "2        4.0     0.0  12.0  34.0      14.0      12.0  367470.0       1.0   \n",
              "3        5.0     1.0  11.0  27.0      11.0      12.0  380166.0       1.0   \n",
              "4        6.0     1.0  12.0  34.0       8.0       7.0  367470.0       1.0   \n",
              "...      ...     ...   ...   ...       ...       ...       ...       ...   \n",
              "3005  5218.0     0.0  12.0  25.0       8.0      12.0   82135.0       1.0   \n",
              "3006  5219.0     0.0  13.0  34.0       NaN       NaN   88765.0       1.0   \n",
              "3007  5220.0     0.0  12.0  24.0      11.0       NaN   89271.0       0.0   \n",
              "3008  5221.0     0.0  12.0  31.0       NaN       NaN  110376.0       1.0   \n",
              "3009  5225.0     0.0  13.0  26.0       NaN       NaN   81081.0       0.0   \n",
              "\n",
              "      sinmom14  step14  ...  married  libcrd14  exper     lwage  expersq  \\\n",
              "0          0.0     0.0  ...      1.0       0.0   16.0  6.306275    256.0   \n",
              "1          0.0     0.0  ...      1.0       1.0    9.0  6.175867     81.0   \n",
              "2          0.0     0.0  ...      1.0       1.0   16.0  6.580639    256.0   \n",
              "3          0.0     0.0  ...      1.0       1.0   10.0  5.521461    100.0   \n",
              "4          0.0     0.0  ...      1.0       0.0   16.0  6.591674    256.0   \n",
              "...        ...     ...  ...      ...       ...    ...       ...      ...   \n",
              "3005       0.0     0.0  ...      1.0       0.0    7.0  5.814130     49.0   \n",
              "3006       0.0     0.0  ...      1.0       1.0   15.0  6.175867    225.0   \n",
              "3007       0.0     0.0  ...      1.0       0.0    6.0  6.214608     36.0   \n",
              "3008       0.0     0.0  ...      1.0       1.0   13.0  6.569481    169.0   \n",
              "3009       0.0     0.0  ...      1.0       0.0    7.0  6.263398     49.0   \n",
              "\n",
              "       u_lwage  lwage_hat    u_educ  nearc4_0.0  nearc4_1.0  \n",
              "0     0.198047   6.108228 -3.067539           1           0  \n",
              "1    -0.211160   6.387027 -1.727562           1           0  \n",
              "2     0.204719   6.375920  1.012975           1           0  \n",
              "3    -0.967905   6.489366 -2.253536           0           1  \n",
              "4     0.125173   6.466501  1.090437           0           1  \n",
              "...        ...        ...       ...         ...         ...  \n",
              "3005 -0.289775   6.103905 -1.505588           0           1  \n",
              "3006 -0.137418   6.313285  2.214089           0           1  \n",
              "3007  0.135805   6.078803 -1.907211           0           1  \n",
              "3008  0.408375   6.161106  0.868737           0           1  \n",
              "3009  0.427185   5.836213  0.413897           0           1  \n",
              "\n",
              "[3010 rows x 38 columns]"
            ],
            "text/html": [
              "\n",
              "  <div id=\"df-1c7c2364-4d3b-42b1-bbf6-02e647128cce\">\n",
              "    <div class=\"colab-df-container\">\n",
              "      <div>\n",
              "<style scoped>\n",
              "    .dataframe tbody tr th:only-of-type {\n",
              "        vertical-align: middle;\n",
              "    }\n",
              "\n",
              "    .dataframe tbody tr th {\n",
              "        vertical-align: top;\n",
              "    }\n",
              "\n",
              "    .dataframe thead th {\n",
              "        text-align: right;\n",
              "    }\n",
              "</style>\n",
              "<table border=\"1\" class=\"dataframe\">\n",
              "  <thead>\n",
              "    <tr style=\"text-align: right;\">\n",
              "      <th></th>\n",
              "      <th>id</th>\n",
              "      <th>nearc2</th>\n",
              "      <th>educ</th>\n",
              "      <th>age</th>\n",
              "      <th>fatheduc</th>\n",
              "      <th>motheduc</th>\n",
              "      <th>weight</th>\n",
              "      <th>momdad14</th>\n",
              "      <th>sinmom14</th>\n",
              "      <th>step14</th>\n",
              "      <th>...</th>\n",
              "      <th>married</th>\n",
              "      <th>libcrd14</th>\n",
              "      <th>exper</th>\n",
              "      <th>lwage</th>\n",
              "      <th>expersq</th>\n",
              "      <th>u_lwage</th>\n",
              "      <th>lwage_hat</th>\n",
              "      <th>u_educ</th>\n",
              "      <th>nearc4_0.0</th>\n",
              "      <th>nearc4_1.0</th>\n",
              "    </tr>\n",
              "  </thead>\n",
              "  <tbody>\n",
              "    <tr>\n",
              "      <th>0</th>\n",
              "      <td>2.0</td>\n",
              "      <td>0.0</td>\n",
              "      <td>7.0</td>\n",
              "      <td>29.0</td>\n",
              "      <td>NaN</td>\n",
              "      <td>NaN</td>\n",
              "      <td>158413.0</td>\n",
              "      <td>1.0</td>\n",
              "      <td>0.0</td>\n",
              "      <td>0.0</td>\n",
              "      <td>...</td>\n",
              "      <td>1.0</td>\n",
              "      <td>0.0</td>\n",
              "      <td>16.0</td>\n",
              "      <td>6.306275</td>\n",
              "      <td>256.0</td>\n",
              "      <td>0.198047</td>\n",
              "      <td>6.108228</td>\n",
              "      <td>-3.067539</td>\n",
              "      <td>1</td>\n",
              "      <td>0</td>\n",
              "    </tr>\n",
              "    <tr>\n",
              "      <th>1</th>\n",
              "      <td>3.0</td>\n",
              "      <td>0.0</td>\n",
              "      <td>12.0</td>\n",
              "      <td>27.0</td>\n",
              "      <td>8.0</td>\n",
              "      <td>8.0</td>\n",
              "      <td>380166.0</td>\n",
              "      <td>1.0</td>\n",
              "      <td>0.0</td>\n",
              "      <td>0.0</td>\n",
              "      <td>...</td>\n",
              "      <td>1.0</td>\n",
              "      <td>1.0</td>\n",
              "      <td>9.0</td>\n",
              "      <td>6.175867</td>\n",
              "      <td>81.0</td>\n",
              "      <td>-0.211160</td>\n",
              "      <td>6.387027</td>\n",
              "      <td>-1.727562</td>\n",
              "      <td>1</td>\n",
              "      <td>0</td>\n",
              "    </tr>\n",
              "    <tr>\n",
              "      <th>2</th>\n",
              "      <td>4.0</td>\n",
              "      <td>0.0</td>\n",
              "      <td>12.0</td>\n",
              "      <td>34.0</td>\n",
              "      <td>14.0</td>\n",
              "      <td>12.0</td>\n",
              "      <td>367470.0</td>\n",
              "      <td>1.0</td>\n",
              "      <td>0.0</td>\n",
              "      <td>0.0</td>\n",
              "      <td>...</td>\n",
              "      <td>1.0</td>\n",
              "      <td>1.0</td>\n",
              "      <td>16.0</td>\n",
              "      <td>6.580639</td>\n",
              "      <td>256.0</td>\n",
              "      <td>0.204719</td>\n",
              "      <td>6.375920</td>\n",
              "      <td>1.012975</td>\n",
              "      <td>1</td>\n",
              "      <td>0</td>\n",
              "    </tr>\n",
              "    <tr>\n",
              "      <th>3</th>\n",
              "      <td>5.0</td>\n",
              "      <td>1.0</td>\n",
              "      <td>11.0</td>\n",
              "      <td>27.0</td>\n",
              "      <td>11.0</td>\n",
              "      <td>12.0</td>\n",
              "      <td>380166.0</td>\n",
              "      <td>1.0</td>\n",
              "      <td>0.0</td>\n",
              "      <td>0.0</td>\n",
              "      <td>...</td>\n",
              "      <td>1.0</td>\n",
              "      <td>1.0</td>\n",
              "      <td>10.0</td>\n",
              "      <td>5.521461</td>\n",
              "      <td>100.0</td>\n",
              "      <td>-0.967905</td>\n",
              "      <td>6.489366</td>\n",
              "      <td>-2.253536</td>\n",
              "      <td>0</td>\n",
              "      <td>1</td>\n",
              "    </tr>\n",
              "    <tr>\n",
              "      <th>4</th>\n",
              "      <td>6.0</td>\n",
              "      <td>1.0</td>\n",
              "      <td>12.0</td>\n",
              "      <td>34.0</td>\n",
              "      <td>8.0</td>\n",
              "      <td>7.0</td>\n",
              "      <td>367470.0</td>\n",
              "      <td>1.0</td>\n",
              "      <td>0.0</td>\n",
              "      <td>0.0</td>\n",
              "      <td>...</td>\n",
              "      <td>1.0</td>\n",
              "      <td>0.0</td>\n",
              "      <td>16.0</td>\n",
              "      <td>6.591674</td>\n",
              "      <td>256.0</td>\n",
              "      <td>0.125173</td>\n",
              "      <td>6.466501</td>\n",
              "      <td>1.090437</td>\n",
              "      <td>0</td>\n",
              "      <td>1</td>\n",
              "    </tr>\n",
              "    <tr>\n",
              "      <th>...</th>\n",
              "      <td>...</td>\n",
              "      <td>...</td>\n",
              "      <td>...</td>\n",
              "      <td>...</td>\n",
              "      <td>...</td>\n",
              "      <td>...</td>\n",
              "      <td>...</td>\n",
              "      <td>...</td>\n",
              "      <td>...</td>\n",
              "      <td>...</td>\n",
              "      <td>...</td>\n",
              "      <td>...</td>\n",
              "      <td>...</td>\n",
              "      <td>...</td>\n",
              "      <td>...</td>\n",
              "      <td>...</td>\n",
              "      <td>...</td>\n",
              "      <td>...</td>\n",
              "      <td>...</td>\n",
              "      <td>...</td>\n",
              "      <td>...</td>\n",
              "    </tr>\n",
              "    <tr>\n",
              "      <th>3005</th>\n",
              "      <td>5218.0</td>\n",
              "      <td>0.0</td>\n",
              "      <td>12.0</td>\n",
              "      <td>25.0</td>\n",
              "      <td>8.0</td>\n",
              "      <td>12.0</td>\n",
              "      <td>82135.0</td>\n",
              "      <td>1.0</td>\n",
              "      <td>0.0</td>\n",
              "      <td>0.0</td>\n",
              "      <td>...</td>\n",
              "      <td>1.0</td>\n",
              "      <td>0.0</td>\n",
              "      <td>7.0</td>\n",
              "      <td>5.814130</td>\n",
              "      <td>49.0</td>\n",
              "      <td>-0.289775</td>\n",
              "      <td>6.103905</td>\n",
              "      <td>-1.505588</td>\n",
              "      <td>0</td>\n",
              "      <td>1</td>\n",
              "    </tr>\n",
              "    <tr>\n",
              "      <th>3006</th>\n",
              "      <td>5219.0</td>\n",
              "      <td>0.0</td>\n",
              "      <td>13.0</td>\n",
              "      <td>34.0</td>\n",
              "      <td>NaN</td>\n",
              "      <td>NaN</td>\n",
              "      <td>88765.0</td>\n",
              "      <td>1.0</td>\n",
              "      <td>0.0</td>\n",
              "      <td>0.0</td>\n",
              "      <td>...</td>\n",
              "      <td>1.0</td>\n",
              "      <td>1.0</td>\n",
              "      <td>15.0</td>\n",
              "      <td>6.175867</td>\n",
              "      <td>225.0</td>\n",
              "      <td>-0.137418</td>\n",
              "      <td>6.313285</td>\n",
              "      <td>2.214089</td>\n",
              "      <td>0</td>\n",
              "      <td>1</td>\n",
              "    </tr>\n",
              "    <tr>\n",
              "      <th>3007</th>\n",
              "      <td>5220.0</td>\n",
              "      <td>0.0</td>\n",
              "      <td>12.0</td>\n",
              "      <td>24.0</td>\n",
              "      <td>11.0</td>\n",
              "      <td>NaN</td>\n",
              "      <td>89271.0</td>\n",
              "      <td>0.0</td>\n",
              "      <td>0.0</td>\n",
              "      <td>0.0</td>\n",
              "      <td>...</td>\n",
              "      <td>1.0</td>\n",
              "      <td>0.0</td>\n",
              "      <td>6.0</td>\n",
              "      <td>6.214608</td>\n",
              "      <td>36.0</td>\n",
              "      <td>0.135805</td>\n",
              "      <td>6.078803</td>\n",
              "      <td>-1.907211</td>\n",
              "      <td>0</td>\n",
              "      <td>1</td>\n",
              "    </tr>\n",
              "    <tr>\n",
              "      <th>3008</th>\n",
              "      <td>5221.0</td>\n",
              "      <td>0.0</td>\n",
              "      <td>12.0</td>\n",
              "      <td>31.0</td>\n",
              "      <td>NaN</td>\n",
              "      <td>NaN</td>\n",
              "      <td>110376.0</td>\n",
              "      <td>1.0</td>\n",
              "      <td>0.0</td>\n",
              "      <td>0.0</td>\n",
              "      <td>...</td>\n",
              "      <td>1.0</td>\n",
              "      <td>1.0</td>\n",
              "      <td>13.0</td>\n",
              "      <td>6.569481</td>\n",
              "      <td>169.0</td>\n",
              "      <td>0.408375</td>\n",
              "      <td>6.161106</td>\n",
              "      <td>0.868737</td>\n",
              "      <td>0</td>\n",
              "      <td>1</td>\n",
              "    </tr>\n",
              "    <tr>\n",
              "      <th>3009</th>\n",
              "      <td>5225.0</td>\n",
              "      <td>0.0</td>\n",
              "      <td>13.0</td>\n",
              "      <td>26.0</td>\n",
              "      <td>NaN</td>\n",
              "      <td>NaN</td>\n",
              "      <td>81081.0</td>\n",
              "      <td>0.0</td>\n",
              "      <td>0.0</td>\n",
              "      <td>0.0</td>\n",
              "      <td>...</td>\n",
              "      <td>1.0</td>\n",
              "      <td>0.0</td>\n",
              "      <td>7.0</td>\n",
              "      <td>6.263398</td>\n",
              "      <td>49.0</td>\n",
              "      <td>0.427185</td>\n",
              "      <td>5.836213</td>\n",
              "      <td>0.413897</td>\n",
              "      <td>0</td>\n",
              "      <td>1</td>\n",
              "    </tr>\n",
              "  </tbody>\n",
              "</table>\n",
              "<p>3010 rows × 38 columns</p>\n",
              "</div>\n",
              "      <button class=\"colab-df-convert\" onclick=\"convertToInteractive('df-1c7c2364-4d3b-42b1-bbf6-02e647128cce')\"\n",
              "              title=\"Convert this dataframe to an interactive table.\"\n",
              "              style=\"display:none;\">\n",
              "        \n",
              "  <svg xmlns=\"http://www.w3.org/2000/svg\" height=\"24px\"viewBox=\"0 0 24 24\"\n",
              "       width=\"24px\">\n",
              "    <path d=\"M0 0h24v24H0V0z\" fill=\"none\"/>\n",
              "    <path d=\"M18.56 5.44l.94 2.06.94-2.06 2.06-.94-2.06-.94-.94-2.06-.94 2.06-2.06.94zm-11 1L8.5 8.5l.94-2.06 2.06-.94-2.06-.94L8.5 2.5l-.94 2.06-2.06.94zm10 10l.94 2.06.94-2.06 2.06-.94-2.06-.94-.94-2.06-.94 2.06-2.06.94z\"/><path d=\"M17.41 7.96l-1.37-1.37c-.4-.4-.92-.59-1.43-.59-.52 0-1.04.2-1.43.59L10.3 9.45l-7.72 7.72c-.78.78-.78 2.05 0 2.83L4 21.41c.39.39.9.59 1.41.59.51 0 1.02-.2 1.41-.59l7.78-7.78 2.81-2.81c.8-.78.8-2.07 0-2.86zM5.41 20L4 18.59l7.72-7.72 1.47 1.35L5.41 20z\"/>\n",
              "  </svg>\n",
              "      </button>\n",
              "      \n",
              "  <style>\n",
              "    .colab-df-container {\n",
              "      display:flex;\n",
              "      flex-wrap:wrap;\n",
              "      gap: 12px;\n",
              "    }\n",
              "\n",
              "    .colab-df-convert {\n",
              "      background-color: #E8F0FE;\n",
              "      border: none;\n",
              "      border-radius: 50%;\n",
              "      cursor: pointer;\n",
              "      display: none;\n",
              "      fill: #1967D2;\n",
              "      height: 32px;\n",
              "      padding: 0 0 0 0;\n",
              "      width: 32px;\n",
              "    }\n",
              "\n",
              "    .colab-df-convert:hover {\n",
              "      background-color: #E2EBFA;\n",
              "      box-shadow: 0px 1px 2px rgba(60, 64, 67, 0.3), 0px 1px 3px 1px rgba(60, 64, 67, 0.15);\n",
              "      fill: #174EA6;\n",
              "    }\n",
              "\n",
              "    [theme=dark] .colab-df-convert {\n",
              "      background-color: #3B4455;\n",
              "      fill: #D2E3FC;\n",
              "    }\n",
              "\n",
              "    [theme=dark] .colab-df-convert:hover {\n",
              "      background-color: #434B5C;\n",
              "      box-shadow: 0px 1px 3px 1px rgba(0, 0, 0, 0.15);\n",
              "      filter: drop-shadow(0px 1px 2px rgba(0, 0, 0, 0.3));\n",
              "      fill: #FFFFFF;\n",
              "    }\n",
              "  </style>\n",
              "\n",
              "      <script>\n",
              "        const buttonEl =\n",
              "          document.querySelector('#df-1c7c2364-4d3b-42b1-bbf6-02e647128cce button.colab-df-convert');\n",
              "        buttonEl.style.display =\n",
              "          google.colab.kernel.accessAllowed ? 'block' : 'none';\n",
              "\n",
              "        async function convertToInteractive(key) {\n",
              "          const element = document.querySelector('#df-1c7c2364-4d3b-42b1-bbf6-02e647128cce');\n",
              "          const dataTable =\n",
              "            await google.colab.kernel.invokeFunction('convertToInteractive',\n",
              "                                                     [key], {});\n",
              "          if (!dataTable) return;\n",
              "\n",
              "          const docLinkHtml = 'Like what you see? Visit the ' +\n",
              "            '<a target=\"_blank\" href=https://colab.research.google.com/notebooks/data_table.ipynb>data table notebook</a>'\n",
              "            + ' to learn more about interactive tables.';\n",
              "          element.innerHTML = '';\n",
              "          dataTable['output_type'] = 'display_data';\n",
              "          await google.colab.output.renderOutput(dataTable, element);\n",
              "          const docLink = document.createElement('div');\n",
              "          docLink.innerHTML = docLinkHtml;\n",
              "          element.appendChild(docLink);\n",
              "        }\n",
              "      </script>\n",
              "    </div>\n",
              "  </div>\n",
              "  "
            ]
          },
          "metadata": {},
          "execution_count": 18
        }
      ]
    },
    {
      "cell_type": "code",
      "source": [
        "data.head"
      ],
      "metadata": {
        "colab": {
          "base_uri": "https://localhost:8080/"
        },
        "id": "ooHf6qI05Pko",
        "outputId": "b0901ec0-4173-4fef-d0d7-1f2f931a3b5f"
      },
      "execution_count": 19,
      "outputs": [
        {
          "output_type": "execute_result",
          "data": {
            "text/plain": [
              "<bound method NDFrame.head of           id  nearc2  nearc4  educ   age  fatheduc  motheduc    weight  \\\n",
              "0        2.0     0.0     0.0   7.0  29.0       NaN       NaN  158413.0   \n",
              "1        3.0     0.0     0.0  12.0  27.0       8.0       8.0  380166.0   \n",
              "2        4.0     0.0     0.0  12.0  34.0      14.0      12.0  367470.0   \n",
              "3        5.0     1.0     1.0  11.0  27.0      11.0      12.0  380166.0   \n",
              "4        6.0     1.0     1.0  12.0  34.0       8.0       7.0  367470.0   \n",
              "...      ...     ...     ...   ...   ...       ...       ...       ...   \n",
              "3005  5218.0     0.0     1.0  12.0  25.0       8.0      12.0   82135.0   \n",
              "3006  5219.0     0.0     1.0  13.0  34.0       NaN       NaN   88765.0   \n",
              "3007  5220.0     0.0     1.0  12.0  24.0      11.0       NaN   89271.0   \n",
              "3008  5221.0     0.0     1.0  12.0  31.0       NaN       NaN  110376.0   \n",
              "3009  5225.0     0.0     1.0  13.0  26.0       NaN       NaN   81081.0   \n",
              "\n",
              "      momdad14  sinmom14  ...   KWW     IQ  married  libcrd14  exper  \\\n",
              "0          1.0       0.0  ...  15.0    NaN      1.0       0.0   16.0   \n",
              "1          1.0       0.0  ...  35.0   93.0      1.0       1.0    9.0   \n",
              "2          1.0       0.0  ...  42.0  103.0      1.0       1.0   16.0   \n",
              "3          1.0       0.0  ...  25.0   88.0      1.0       1.0   10.0   \n",
              "4          1.0       0.0  ...  34.0  108.0      1.0       0.0   16.0   \n",
              "...        ...       ...  ...   ...    ...      ...       ...    ...   \n",
              "3005       1.0       0.0  ...  15.0    NaN      1.0       0.0    7.0   \n",
              "3006       1.0       0.0  ...  43.0    NaN      1.0       1.0   15.0   \n",
              "3007       0.0       0.0  ...  25.0  109.0      1.0       0.0    6.0   \n",
              "3008       1.0       0.0  ...  32.0  107.0      1.0       1.0   13.0   \n",
              "3009       0.0       0.0  ...  27.0    NaN      1.0       0.0    7.0   \n",
              "\n",
              "         lwage  expersq   u_lwage  lwage_hat    u_educ  \n",
              "0     6.306275    256.0  0.198047   6.108228 -3.067539  \n",
              "1     6.175867     81.0 -0.211160   6.387027 -1.727562  \n",
              "2     6.580639    256.0  0.204719   6.375920  1.012975  \n",
              "3     5.521461    100.0 -0.967905   6.489366 -2.253536  \n",
              "4     6.591674    256.0  0.125173   6.466501  1.090437  \n",
              "...        ...      ...       ...        ...       ...  \n",
              "3005  5.814130     49.0 -0.289775   6.103905 -1.505588  \n",
              "3006  6.175867    225.0 -0.137418   6.313285  2.214089  \n",
              "3007  6.214608     36.0  0.135805   6.078803 -1.907211  \n",
              "3008  6.569481    169.0  0.408375   6.161106  0.868737  \n",
              "3009  6.263398     49.0  0.427185   5.836213  0.413897  \n",
              "\n",
              "[3010 rows x 37 columns]>"
            ]
          },
          "metadata": {},
          "execution_count": 19
        }
      ]
    },
    {
      "cell_type": "code",
      "source": [
        "data_2 = (data_1\n",
        " .assign(collage = np.select(\n",
        "     [data_1[\"nearc4_0.0\"].astype(bool), data_1[\"nearc4_1.0\"].astype(bool)],\n",
        "     [\"no\", \"yes\"] \n",
        " ))) \n",
        "\n",
        "data_2.head()"
      ],
      "metadata": {
        "colab": {
          "base_uri": "https://localhost:8080/",
          "height": 300
        },
        "id": "buiyogdW5tdG",
        "outputId": "a676ca97-c83f-49c9-d6a8-06bc7bc71ea6"
      },
      "execution_count": 20,
      "outputs": [
        {
          "output_type": "execute_result",
          "data": {
            "text/plain": [
              "    id  nearc2  educ   age  fatheduc  motheduc    weight  momdad14  sinmom14  \\\n",
              "0  2.0     0.0   7.0  29.0       NaN       NaN  158413.0       1.0       0.0   \n",
              "1  3.0     0.0  12.0  27.0       8.0       8.0  380166.0       1.0       0.0   \n",
              "2  4.0     0.0  12.0  34.0      14.0      12.0  367470.0       1.0       0.0   \n",
              "3  5.0     1.0  11.0  27.0      11.0      12.0  380166.0       1.0       0.0   \n",
              "4  6.0     1.0  12.0  34.0       8.0       7.0  367470.0       1.0       0.0   \n",
              "\n",
              "   step14  ...  libcrd14  exper     lwage  expersq   u_lwage  lwage_hat  \\\n",
              "0     0.0  ...       0.0   16.0  6.306275    256.0  0.198047   6.108228   \n",
              "1     0.0  ...       1.0    9.0  6.175867     81.0 -0.211160   6.387027   \n",
              "2     0.0  ...       1.0   16.0  6.580639    256.0  0.204719   6.375920   \n",
              "3     0.0  ...       1.0   10.0  5.521461    100.0 -0.967905   6.489366   \n",
              "4     0.0  ...       0.0   16.0  6.591674    256.0  0.125173   6.466501   \n",
              "\n",
              "     u_educ  nearc4_0.0  nearc4_1.0  collage  \n",
              "0 -3.067539           1           0       no  \n",
              "1 -1.727562           1           0       no  \n",
              "2  1.012975           1           0       no  \n",
              "3 -2.253536           0           1      yes  \n",
              "4  1.090437           0           1      yes  \n",
              "\n",
              "[5 rows x 39 columns]"
            ],
            "text/html": [
              "\n",
              "  <div id=\"df-8e4db345-9e43-406c-bfeb-05bdf13304e1\">\n",
              "    <div class=\"colab-df-container\">\n",
              "      <div>\n",
              "<style scoped>\n",
              "    .dataframe tbody tr th:only-of-type {\n",
              "        vertical-align: middle;\n",
              "    }\n",
              "\n",
              "    .dataframe tbody tr th {\n",
              "        vertical-align: top;\n",
              "    }\n",
              "\n",
              "    .dataframe thead th {\n",
              "        text-align: right;\n",
              "    }\n",
              "</style>\n",
              "<table border=\"1\" class=\"dataframe\">\n",
              "  <thead>\n",
              "    <tr style=\"text-align: right;\">\n",
              "      <th></th>\n",
              "      <th>id</th>\n",
              "      <th>nearc2</th>\n",
              "      <th>educ</th>\n",
              "      <th>age</th>\n",
              "      <th>fatheduc</th>\n",
              "      <th>motheduc</th>\n",
              "      <th>weight</th>\n",
              "      <th>momdad14</th>\n",
              "      <th>sinmom14</th>\n",
              "      <th>step14</th>\n",
              "      <th>...</th>\n",
              "      <th>libcrd14</th>\n",
              "      <th>exper</th>\n",
              "      <th>lwage</th>\n",
              "      <th>expersq</th>\n",
              "      <th>u_lwage</th>\n",
              "      <th>lwage_hat</th>\n",
              "      <th>u_educ</th>\n",
              "      <th>nearc4_0.0</th>\n",
              "      <th>nearc4_1.0</th>\n",
              "      <th>collage</th>\n",
              "    </tr>\n",
              "  </thead>\n",
              "  <tbody>\n",
              "    <tr>\n",
              "      <th>0</th>\n",
              "      <td>2.0</td>\n",
              "      <td>0.0</td>\n",
              "      <td>7.0</td>\n",
              "      <td>29.0</td>\n",
              "      <td>NaN</td>\n",
              "      <td>NaN</td>\n",
              "      <td>158413.0</td>\n",
              "      <td>1.0</td>\n",
              "      <td>0.0</td>\n",
              "      <td>0.0</td>\n",
              "      <td>...</td>\n",
              "      <td>0.0</td>\n",
              "      <td>16.0</td>\n",
              "      <td>6.306275</td>\n",
              "      <td>256.0</td>\n",
              "      <td>0.198047</td>\n",
              "      <td>6.108228</td>\n",
              "      <td>-3.067539</td>\n",
              "      <td>1</td>\n",
              "      <td>0</td>\n",
              "      <td>no</td>\n",
              "    </tr>\n",
              "    <tr>\n",
              "      <th>1</th>\n",
              "      <td>3.0</td>\n",
              "      <td>0.0</td>\n",
              "      <td>12.0</td>\n",
              "      <td>27.0</td>\n",
              "      <td>8.0</td>\n",
              "      <td>8.0</td>\n",
              "      <td>380166.0</td>\n",
              "      <td>1.0</td>\n",
              "      <td>0.0</td>\n",
              "      <td>0.0</td>\n",
              "      <td>...</td>\n",
              "      <td>1.0</td>\n",
              "      <td>9.0</td>\n",
              "      <td>6.175867</td>\n",
              "      <td>81.0</td>\n",
              "      <td>-0.211160</td>\n",
              "      <td>6.387027</td>\n",
              "      <td>-1.727562</td>\n",
              "      <td>1</td>\n",
              "      <td>0</td>\n",
              "      <td>no</td>\n",
              "    </tr>\n",
              "    <tr>\n",
              "      <th>2</th>\n",
              "      <td>4.0</td>\n",
              "      <td>0.0</td>\n",
              "      <td>12.0</td>\n",
              "      <td>34.0</td>\n",
              "      <td>14.0</td>\n",
              "      <td>12.0</td>\n",
              "      <td>367470.0</td>\n",
              "      <td>1.0</td>\n",
              "      <td>0.0</td>\n",
              "      <td>0.0</td>\n",
              "      <td>...</td>\n",
              "      <td>1.0</td>\n",
              "      <td>16.0</td>\n",
              "      <td>6.580639</td>\n",
              "      <td>256.0</td>\n",
              "      <td>0.204719</td>\n",
              "      <td>6.375920</td>\n",
              "      <td>1.012975</td>\n",
              "      <td>1</td>\n",
              "      <td>0</td>\n",
              "      <td>no</td>\n",
              "    </tr>\n",
              "    <tr>\n",
              "      <th>3</th>\n",
              "      <td>5.0</td>\n",
              "      <td>1.0</td>\n",
              "      <td>11.0</td>\n",
              "      <td>27.0</td>\n",
              "      <td>11.0</td>\n",
              "      <td>12.0</td>\n",
              "      <td>380166.0</td>\n",
              "      <td>1.0</td>\n",
              "      <td>0.0</td>\n",
              "      <td>0.0</td>\n",
              "      <td>...</td>\n",
              "      <td>1.0</td>\n",
              "      <td>10.0</td>\n",
              "      <td>5.521461</td>\n",
              "      <td>100.0</td>\n",
              "      <td>-0.967905</td>\n",
              "      <td>6.489366</td>\n",
              "      <td>-2.253536</td>\n",
              "      <td>0</td>\n",
              "      <td>1</td>\n",
              "      <td>yes</td>\n",
              "    </tr>\n",
              "    <tr>\n",
              "      <th>4</th>\n",
              "      <td>6.0</td>\n",
              "      <td>1.0</td>\n",
              "      <td>12.0</td>\n",
              "      <td>34.0</td>\n",
              "      <td>8.0</td>\n",
              "      <td>7.0</td>\n",
              "      <td>367470.0</td>\n",
              "      <td>1.0</td>\n",
              "      <td>0.0</td>\n",
              "      <td>0.0</td>\n",
              "      <td>...</td>\n",
              "      <td>0.0</td>\n",
              "      <td>16.0</td>\n",
              "      <td>6.591674</td>\n",
              "      <td>256.0</td>\n",
              "      <td>0.125173</td>\n",
              "      <td>6.466501</td>\n",
              "      <td>1.090437</td>\n",
              "      <td>0</td>\n",
              "      <td>1</td>\n",
              "      <td>yes</td>\n",
              "    </tr>\n",
              "  </tbody>\n",
              "</table>\n",
              "<p>5 rows × 39 columns</p>\n",
              "</div>\n",
              "      <button class=\"colab-df-convert\" onclick=\"convertToInteractive('df-8e4db345-9e43-406c-bfeb-05bdf13304e1')\"\n",
              "              title=\"Convert this dataframe to an interactive table.\"\n",
              "              style=\"display:none;\">\n",
              "        \n",
              "  <svg xmlns=\"http://www.w3.org/2000/svg\" height=\"24px\"viewBox=\"0 0 24 24\"\n",
              "       width=\"24px\">\n",
              "    <path d=\"M0 0h24v24H0V0z\" fill=\"none\"/>\n",
              "    <path d=\"M18.56 5.44l.94 2.06.94-2.06 2.06-.94-2.06-.94-.94-2.06-.94 2.06-2.06.94zm-11 1L8.5 8.5l.94-2.06 2.06-.94-2.06-.94L8.5 2.5l-.94 2.06-2.06.94zm10 10l.94 2.06.94-2.06 2.06-.94-2.06-.94-.94-2.06-.94 2.06-2.06.94z\"/><path d=\"M17.41 7.96l-1.37-1.37c-.4-.4-.92-.59-1.43-.59-.52 0-1.04.2-1.43.59L10.3 9.45l-7.72 7.72c-.78.78-.78 2.05 0 2.83L4 21.41c.39.39.9.59 1.41.59.51 0 1.02-.2 1.41-.59l7.78-7.78 2.81-2.81c.8-.78.8-2.07 0-2.86zM5.41 20L4 18.59l7.72-7.72 1.47 1.35L5.41 20z\"/>\n",
              "  </svg>\n",
              "      </button>\n",
              "      \n",
              "  <style>\n",
              "    .colab-df-container {\n",
              "      display:flex;\n",
              "      flex-wrap:wrap;\n",
              "      gap: 12px;\n",
              "    }\n",
              "\n",
              "    .colab-df-convert {\n",
              "      background-color: #E8F0FE;\n",
              "      border: none;\n",
              "      border-radius: 50%;\n",
              "      cursor: pointer;\n",
              "      display: none;\n",
              "      fill: #1967D2;\n",
              "      height: 32px;\n",
              "      padding: 0 0 0 0;\n",
              "      width: 32px;\n",
              "    }\n",
              "\n",
              "    .colab-df-convert:hover {\n",
              "      background-color: #E2EBFA;\n",
              "      box-shadow: 0px 1px 2px rgba(60, 64, 67, 0.3), 0px 1px 3px 1px rgba(60, 64, 67, 0.15);\n",
              "      fill: #174EA6;\n",
              "    }\n",
              "\n",
              "    [theme=dark] .colab-df-convert {\n",
              "      background-color: #3B4455;\n",
              "      fill: #D2E3FC;\n",
              "    }\n",
              "\n",
              "    [theme=dark] .colab-df-convert:hover {\n",
              "      background-color: #434B5C;\n",
              "      box-shadow: 0px 1px 3px 1px rgba(0, 0, 0, 0.15);\n",
              "      filter: drop-shadow(0px 1px 2px rgba(0, 0, 0, 0.3));\n",
              "      fill: #FFFFFF;\n",
              "    }\n",
              "  </style>\n",
              "\n",
              "      <script>\n",
              "        const buttonEl =\n",
              "          document.querySelector('#df-8e4db345-9e43-406c-bfeb-05bdf13304e1 button.colab-df-convert');\n",
              "        buttonEl.style.display =\n",
              "          google.colab.kernel.accessAllowed ? 'block' : 'none';\n",
              "\n",
              "        async function convertToInteractive(key) {\n",
              "          const element = document.querySelector('#df-8e4db345-9e43-406c-bfeb-05bdf13304e1');\n",
              "          const dataTable =\n",
              "            await google.colab.kernel.invokeFunction('convertToInteractive',\n",
              "                                                     [key], {});\n",
              "          if (!dataTable) return;\n",
              "\n",
              "          const docLinkHtml = 'Like what you see? Visit the ' +\n",
              "            '<a target=\"_blank\" href=https://colab.research.google.com/notebooks/data_table.ipynb>data table notebook</a>'\n",
              "            + ' to learn more about interactive tables.';\n",
              "          element.innerHTML = '';\n",
              "          dataTable['output_type'] = 'display_data';\n",
              "          await google.colab.output.renderOutput(dataTable, element);\n",
              "          const docLink = document.createElement('div');\n",
              "          docLink.innerHTML = docLinkHtml;\n",
              "          element.appendChild(docLink);\n",
              "        }\n",
              "      </script>\n",
              "    </div>\n",
              "  </div>\n",
              "  "
            ]
          },
          "metadata": {},
          "execution_count": 20
        }
      ]
    },
    {
      "cell_type": "markdown",
      "source": [
        "$Pregunta 1$\n",
        "\n",
        "Los supuestos de Relvance y Validity.\n",
        "Como indica el paper son supestos relacionados a la varaible intrumental. La variable instrumental o instrumento es la varaible que se va a limpiar en una regresión para que pueda ser incluida en la relación causal y, de esa forma evitar el sesgo. Esta varaible tiene precisamente dos supuestos. El primer supuesto es el de relevance que implica satisfacer la correlación fuerte entre las variables de interés y la varaible intrumental. El segundo supuesto es elde validity. Este supuesto implica que, evaluada individualmente, no es afectada por otras varaibles; es decir, es una varible unica que afecta como varaible única. "
      ],
      "metadata": {
        "id": "QjPk12p0ioGl"
      }
    },
    {
      "cell_type": "markdown",
      "source": [
        "$$Graficos -para -la -varaible- nearc4$$"
      ],
      "metadata": {
        "id": "-4UTMY86kJ2A"
      }
    },
    {
      "cell_type": "code",
      "source": [
        "sns.displot(data_2, x = \"educ\", col = \"nearc4_0.0\")"
      ],
      "metadata": {
        "colab": {
          "base_uri": "https://localhost:8080/",
          "height": 386
        },
        "id": "YpwSluoq5usw",
        "outputId": "a5ad8ca9-a8f0-4364-a7f0-31993a8af879"
      },
      "execution_count": 21,
      "outputs": [
        {
          "output_type": "execute_result",
          "data": {
            "text/plain": [
              "<seaborn.axisgrid.FacetGrid at 0x7fb10d6b2a50>"
            ]
          },
          "metadata": {},
          "execution_count": 21
        },
        {
          "output_type": "display_data",
          "data": {
            "text/plain": [
              "<Figure size 720x360 with 2 Axes>"
            ],
            "image/png": "[encoded data removed]"
          },
          "metadata": {
            "needs_background": "light"
          }
        }
      ]
    },
    {
      "cell_type": "code",
      "source": [
        "sns.displot(data_2, x = \"educ\", col = \"nearc4_1.0\")"
      ],
      "metadata": {
        "colab": {
          "base_uri": "https://localhost:8080/",
          "height": 386
        },
        "id": "L2gZWWAYCMVh",
        "outputId": "067b604f-eba7-47f5-f4a5-1c4673d7e347"
      },
      "execution_count": 22,
      "outputs": [
        {
          "output_type": "execute_result",
          "data": {
            "text/plain": [
              "<seaborn.axisgrid.FacetGrid at 0x7fb10c7604d0>"
            ]
          },
          "metadata": {},
          "execution_count": 22
        },
        {
          "output_type": "display_data",
          "data": {
            "text/plain": [
              "<Figure size 720x360 with 2 Axes>"
            ],
            "image/png": "[encoded data removed]"
          },
          "metadata": {
            "needs_background": "light"
          }
        }
      ]
    },
    {
      "cell_type": "code",
      "source": [
        "import matplotlib.pyplot as plt\n",
        "\n",
        "\n",
        "plt.figure(figsize=(14,10))\n",
        "\n",
        "no = data_2.loc[data_2['nearc4_0.0'] == 1]\n",
        "ax = sns.displot(no, x = \"educ\")\n",
        "\n",
        "plt.title('Yes')\n",
        "plt.xlabel('No_existe_ cerca_un_college')\n",
        "plt.ylabel('Count')\n",
        "plt.show()"
      ],
      "metadata": {
        "colab": {
          "base_uri": "https://localhost:8080/",
          "height": 401
        },
        "id": "F4RpzfNR2wTZ",
        "outputId": "b15c4935-d9e7-4e8b-f122-da458a589fd5"
      },
      "execution_count": 26,
      "outputs": [
        {
          "output_type": "display_data",
          "data": {
            "text/plain": [
              "<Figure size 1008x720 with 0 Axes>"
            ]
          },
          "metadata": {}
        },
        {
          "output_type": "display_data",
          "data": {
            "text/plain": [
              "<Figure size 360x360 with 1 Axes>"
            ],
            "image/png": "[encoded data removed]"
          },
          "metadata": {
            "needs_background": "light"
          }
        }
      ]
    },
    {
      "cell_type": "code",
      "source": [
        "plt.figure(figsize=(14,10))\n",
        "\n",
        "no = data_2.loc[data_2['nearc4_1.0'] == 1]\n",
        "ax = sns.displot(no, x = \"educ\")\n",
        "\n",
        "plt.title('Yes')\n",
        "plt.xlabel('No_existe_ cerca_un_college')\n",
        "plt.ylabel('Count')\n",
        "plt.show()"
      ],
      "metadata": {
        "colab": {
          "base_uri": "https://localhost:8080/",
          "height": 403
        },
        "id": "ToTif2dCC5d4",
        "outputId": "ddfa95de-3cfa-4d52-de30-d3a1d9863877"
      },
      "execution_count": 25,
      "outputs": [
        {
          "output_type": "display_data",
          "data": {
            "text/plain": [
              "<Figure size 1008x720 with 0 Axes>"
            ]
          },
          "metadata": {}
        },
        {
          "output_type": "display_data",
          "data": {
            "text/plain": [
              "<Figure size 360x360 with 1 Axes>"
            ],
            "image/png": "[encoded data removed]"
          },
          "metadata": {
            "needs_background": "light"
          }
        }
      ]
    },
    {
      "cell_type": "markdown",
      "source": [
        "$$Gráficos- para- la -varaible- lwag$$"
      ],
      "metadata": {
        "id": "t6g5JLeXkRNp"
      }
    },
    {
      "cell_type": "code",
      "source": [
        "sns.displot(data_2, x = \"lwage\", col = \"nearc4_0.0\")"
      ],
      "metadata": {
        "colab": {
          "base_uri": "https://localhost:8080/",
          "height": 386
        },
        "id": "_eFGEatWsZ7V",
        "outputId": "993a52fd-91bf-471f-b688-8e7ee3c6ec21"
      },
      "execution_count": 27,
      "outputs": [
        {
          "output_type": "execute_result",
          "data": {
            "text/plain": [
              "<seaborn.axisgrid.FacetGrid at 0x7fb10c71d0d0>"
            ]
          },
          "metadata": {},
          "execution_count": 27
        },
        {
          "output_type": "display_data",
          "data": {
            "text/plain": [
              "<Figure size 720x360 with 2 Axes>"
            ],
            "image/png": "[encoded data removed]"
          },
          "metadata": {
            "needs_background": "light"
          }
        }
      ]
    },
    {
      "cell_type": "markdown",
      "source": [
        "$Pregunta- 2- (graficos)$\n",
        "Se ha ploteado de diferente forma los graficos de la distirbución de la varaible NEARC4 que representa si existe proximidad a un college en el county y la varaible EDUC, que representa los niveles de educación \n",
        "\n",
        "Asi mismos se ha graficos la varaible NEARC4, pero en relación a la varaible LWAG que implica nivel de ingresos. \n",
        "\n",
        "$CONCLUSIONES- VARAIBLE -EDUC$\n",
        "Para la varaible nearc4 que represetna la cercanía del Colege, se muestra que la dsitribución de datos de los estudiantes en sus notas son más en la condiciones que vivan cerca durante 4 años. Es decir, en esta condición de nearc4, hay un mayor número de estudiantes que tienen mayor nota. Contrariamente, se ve en la grafica de casos en que este estudiante a vivido más lejos una dsitribución de similar distribución, pero no tiene los mismos picos. Adicional, presenta mas datos atipicos de menor nota. Por tanto, podemos decir, desde el grafico que la infleucai de vivir lejor y cerca a la universidad influye en el rendimiento del estudiante.  \n",
        "\n",
        "$CONCLUSIONES- VARAIBLE -LAWG $\n",
        "Esta variable de LWAG representa el valro futuro de tu ganacia (ingersos) o autcomes en relación a si vivne cerca o lejos del Colege. Así decimos qeu en principio. Ambas dsitribución de los que viven cerca y lejor, presentan una dsitribución normal. No obstante, podemos apreciar que hay más valores altos en las condiciones de que viven cerca al colegio. Por tanto, decimos que el que vivas cerca a una universidad por 4 años, afectara positivamente a tus ingresos futuros. \n",
        "\n",
        "\n"
      ],
      "metadata": {
        "id": "iqGnK1gQZ0xx"
      }
    },
    {
      "cell_type": "code",
      "source": [
        "Regresiones\n",
        "Ahora van a replicar las regresiones que hicimos en clase pero el instrumento Z ya no será nearc4 sino nearc2 .\n",
        "Corran una regresion lineal del tipo \"lwage ~ educ + exper + black + south + married + smsa\", y expliquen los resultados que encuentran.\n",
        "Corran una regresion de tipo IV(usando el paquete IV2SLS) donde van a instrumentalizar la variable educ con nearc2 .\n",
        "La regressión debería tener una forma de este tipo \"lwage ~ 1 + exper + black + south + married + smsa + [educ ~ nearc4 ]\".\n",
        "Compare los resultados encontrados en la regresión de arriba. Cambió el coeficiente relacionado a educ , por qué?"
      ],
      "metadata": {
        "id": "8zamVWxCsyZx"
      },
      "execution_count": null,
      "outputs": []
    },
    {
      "cell_type": "code",
      "source": [],
      "metadata": {
        "id": "VUMjKf7VB-5W"
      },
      "execution_count": null,
      "outputs": []
    },
    {
      "cell_type": "markdown",
      "source": [
        "$REGRESIONES$\n",
        "\n",
        "El instrumento Z o la varaible intrumental será NEARC2 para la regresión IV. \n",
        "La regresión linela será de: \n",
        "- \"lwage ~ educ + exper + black + south + married + smsa\"\n",
        "\n"
      ],
      "metadata": {
        "id": "SmMLyy7LvQnJ"
      }
    },
    {
      "cell_type": "code",
      "source": [
        "iv = CausalGraphicalModel(nodes = [\"Z\",\"D\",\"Y\",\"U\"],\n",
        "                          edges = [(\"Z\",\"D\"),\n",
        "                                   (\"D\",\"Y\"),\n",
        "                                  (\"U\",\"D\"),\n",
        "                                  (\"U\",\"Y\")])\n",
        "iv = iv.do('Z')\n",
        "iv.draw()"
      ],
      "metadata": {
        "colab": {
          "base_uri": "https://localhost:8080/",
          "height": 283
        },
        "id": "0naJohVeB_X3",
        "outputId": "00eb92f0-a2e1-400e-96aa-8297de84b27d"
      },
      "execution_count": 28,
      "outputs": [
        {
          "output_type": "execute_result",
          "data": {
            "text/plain": [
              "<graphviz.dot.Digraph at 0x7fb109d46d10>"
            ],
            "image/svg+xml": "<?xml version=\"1.0\" encoding=\"UTF-8\" standalone=\"no\"?>\n<!DOCTYPE svg PUBLIC \"-//W3C//DTD SVG 1.1//EN\"\n \"http://www.w3.org/Graphics/SVG/1.1/DTD/svg11.dtd\">\n<!-- Generated by graphviz version 2.40.1 (20161225.0304)\n -->\n<!-- Title: %3 Pages: 1 -->\n<svg width=\"142pt\" height=\"196pt\"\n viewBox=\"0.00 0.00 142.00 196.00\" xmlns=\"http://www.w3.org/2000/svg\" xmlns:xlink=\"http://www.w3.org/1999/xlink\">\n<g id=\"graph0\" class=\"graph\" transform=\"scale(1 1) rotate(0) translate(4 192)\">\n<title>%3</title>\n<polygon fill=\"#ffffff\" stroke=\"transparent\" points=\"-4,4 -4,-192 138,-192 138,4 -4,4\"/>\n<!-- Z -->\n<g id=\"node1\" class=\"node\">\n<title>Z</title>\n<ellipse fill=\"none\" stroke=\"#000000\" cx=\"31\" cy=\"-166\" rx=\"27\" ry=\"18\"/>\n<ellipse fill=\"none\" stroke=\"#000000\" cx=\"31\" cy=\"-166\" rx=\"31\" ry=\"22\"/>\n<text text-anchor=\"middle\" x=\"31\" y=\"-162.3\" font-family=\"Times,serif\" font-size=\"14.00\" fill=\"#000000\">Z</text>\n</g>\n<!-- D -->\n<g id=\"node2\" class=\"node\">\n<title>D</title>\n<ellipse fill=\"none\" stroke=\"#000000\" cx=\"52\" cy=\"-90\" rx=\"27\" ry=\"18\"/>\n<text text-anchor=\"middle\" x=\"52\" y=\"-86.3\" font-family=\"Times,serif\" font-size=\"14.00\" fill=\"#000000\">D</text>\n</g>\n<!-- Z&#45;&gt;D -->\n<g id=\"edge1\" class=\"edge\">\n<title>Z&#45;&gt;D</title>\n<path fill=\"none\" stroke=\"#000000\" d=\"M37.0741,-144.0177C39.3378,-135.8252 41.9374,-126.417 44.3262,-117.7718\"/>\n<polygon fill=\"#000000\" stroke=\"#000000\" points=\"47.711,-118.6633 47.0008,-108.0923 40.9638,-116.7989 47.711,-118.6633\"/>\n</g>\n<!-- Y -->\n<g id=\"node4\" class=\"node\">\n<title>Y</title>\n<ellipse fill=\"none\" stroke=\"#000000\" cx=\"79\" cy=\"-18\" rx=\"27\" ry=\"18\"/>\n<text text-anchor=\"middle\" x=\"79\" y=\"-14.3\" font-family=\"Times,serif\" font-size=\"14.00\" fill=\"#000000\">Y</text>\n</g>\n<!-- D&#45;&gt;Y -->\n<g id=\"edge2\" class=\"edge\">\n<title>D&#45;&gt;Y</title>\n<path fill=\"none\" stroke=\"#000000\" d=\"M58.6742,-72.2022C61.7476,-64.0064 65.4616,-54.1024 68.8695,-45.0145\"/>\n<polygon fill=\"#000000\" stroke=\"#000000\" points=\"72.1685,-46.1853 72.4026,-35.593 65.6142,-43.7274 72.1685,-46.1853\"/>\n</g>\n<!-- U -->\n<g id=\"node3\" class=\"node\">\n<title>U</title>\n<ellipse fill=\"none\" stroke=\"#000000\" cx=\"107\" cy=\"-166\" rx=\"27\" ry=\"18\"/>\n<text text-anchor=\"middle\" x=\"107\" y=\"-162.3\" font-family=\"Times,serif\" font-size=\"14.00\" fill=\"#000000\">U</text>\n</g>\n<!-- U&#45;&gt;D -->\n<g id=\"edge3\" class=\"edge\">\n<title>U&#45;&gt;D</title>\n<path fill=\"none\" stroke=\"#000000\" d=\"M95.0658,-149.5091C87.7144,-139.3508 78.1501,-126.1346 69.9026,-114.7382\"/>\n<polygon fill=\"#000000\" stroke=\"#000000\" points=\"72.609,-112.5079 63.9109,-106.4587 66.9382,-116.6118 72.609,-112.5079\"/>\n</g>\n<!-- U&#45;&gt;Y -->\n<g id=\"edge4\" class=\"edge\">\n<title>U&#45;&gt;Y</title>\n<path fill=\"none\" stroke=\"#000000\" d=\"M103.5667,-147.8523C98.7595,-122.443 89.9785,-76.0292 84.3208,-46.124\"/>\n<polygon fill=\"#000000\" stroke=\"#000000\" points=\"87.7594,-45.4712 82.4614,-36.2961 80.8814,-46.7725 87.7594,-45.4712\"/>\n</g>\n</g>\n</svg>\n"
          },
          "metadata": {},
          "execution_count": 28
        }
      ]
    },
    {
      "cell_type": "code",
      "source": [
        "ols_reg = sm.OLS.from_formula(\"lwage ~ educ + exper + black + south + married + smsa + nearc2\", \n",
        "              data = data).fit()\n",
        "\n",
        "ols_reg.summary()"
      ],
      "metadata": {
        "colab": {
          "base_uri": "https://localhost:8080/",
          "height": 580
        },
        "id": "fL48HXyNB_97",
        "outputId": "75373e81-17ed-4941-d631-b6c3f983e1ed"
      },
      "execution_count": 37,
      "outputs": [
        {
          "output_type": "execute_result",
          "data": {
            "text/plain": [
              "<class 'statsmodels.iolib.summary.Summary'>\n",
              "\"\"\"\n",
              "                            OLS Regression Results                            \n",
              "==============================================================================\n",
              "Dep. Variable:                  lwage   R-squared:                       0.307\n",
              "Model:                            OLS   Adj. R-squared:                  0.305\n",
              "Method:                 Least Squares   F-statistic:                     189.4\n",
              "Date:                Mon, 14 Nov 2022   Prob (F-statistic):          5.87e-233\n",
              "Time:                        01:50:51   Log-Likelihood:                -1269.9\n",
              "No. Observations:                3003   AIC:                             2556.\n",
              "Df Residuals:                    2995   BIC:                             2604.\n",
              "Df Model:                           7                                         \n",
              "Covariance Type:            nonrobust                                         \n",
              "==============================================================================\n",
              "                 coef    std err          t      P>|t|      [0.025      0.975]\n",
              "------------------------------------------------------------------------------\n",
              "Intercept      5.0569      0.064     79.379      0.000       4.932       5.182\n",
              "educ           0.0708      0.003     20.353      0.000       0.064       0.078\n",
              "exper          0.0339      0.002     15.298      0.000       0.030       0.038\n",
              "black         -0.1685      0.018     -9.566      0.000      -0.203      -0.134\n",
              "south         -0.1267      0.015     -8.419      0.000      -0.156      -0.097\n",
              "married       -0.0364      0.003    -10.689      0.000      -0.043      -0.030\n",
              "smsa           0.1699      0.016     10.900      0.000       0.139       0.200\n",
              "nearc2         0.0392      0.014      2.818      0.005       0.012       0.066\n",
              "==============================================================================\n",
              "Omnibus:                       56.977   Durbin-Watson:                   1.863\n",
              "Prob(Omnibus):                  0.000   Jarque-Bera (JB):               73.949\n",
              "Skew:                          -0.245   Prob(JB):                     8.75e-17\n",
              "Kurtosis:                       3.592   Cond. No.                         154.\n",
              "==============================================================================\n",
              "\n",
              "Notes:\n",
              "[1] Standard Errors assume that the covariance matrix of the errors is correctly specified.\n",
              "\"\"\""
            ],
            "text/html": [
              "<table class=\"simpletable\">\n",
              "<caption>OLS Regression Results</caption>\n",
              "<tr>\n",
              "  <th>Dep. Variable:</th>          <td>lwage</td>      <th>  R-squared:         </th> <td>   0.307</td> \n",
              "</tr>\n",
              "<tr>\n",
              "  <th>Model:</th>                   <td>OLS</td>       <th>  Adj. R-squared:    </th> <td>   0.305</td> \n",
              "</tr>\n",
              "<tr>\n",
              "  <th>Method:</th>             <td>Least Squares</td>  <th>  F-statistic:       </th> <td>   189.4</td> \n",
              "</tr>\n",
              "<tr>\n",
              "  <th>Date:</th>             <td>Mon, 14 Nov 2022</td> <th>  Prob (F-statistic):</th> <td>5.87e-233</td>\n",
              "</tr>\n",
              "<tr>\n",
              "  <th>Time:</th>                 <td>01:50:51</td>     <th>  Log-Likelihood:    </th> <td> -1269.9</td> \n",
              "</tr>\n",
              "<tr>\n",
              "  <th>No. Observations:</th>      <td>  3003</td>      <th>  AIC:               </th> <td>   2556.</td> \n",
              "</tr>\n",
              "<tr>\n",
              "  <th>Df Residuals:</th>          <td>  2995</td>      <th>  BIC:               </th> <td>   2604.</td> \n",
              "</tr>\n",
              "<tr>\n",
              "  <th>Df Model:</th>              <td>     7</td>      <th>                     </th>     <td> </td>    \n",
              "</tr>\n",
              "<tr>\n",
              "  <th>Covariance Type:</th>      <td>nonrobust</td>    <th>                     </th>     <td> </td>    \n",
              "</tr>\n",
              "</table>\n",
              "<table class=\"simpletable\">\n",
              "<tr>\n",
              "      <td></td>         <th>coef</th>     <th>std err</th>      <th>t</th>      <th>P>|t|</th>  <th>[0.025</th>    <th>0.975]</th>  \n",
              "</tr>\n",
              "<tr>\n",
              "  <th>Intercept</th> <td>    5.0569</td> <td>    0.064</td> <td>   79.379</td> <td> 0.000</td> <td>    4.932</td> <td>    5.182</td>\n",
              "</tr>\n",
              "<tr>\n",
              "  <th>educ</th>      <td>    0.0708</td> <td>    0.003</td> <td>   20.353</td> <td> 0.000</td> <td>    0.064</td> <td>    0.078</td>\n",
              "</tr>\n",
              "<tr>\n",
              "  <th>exper</th>     <td>    0.0339</td> <td>    0.002</td> <td>   15.298</td> <td> 0.000</td> <td>    0.030</td> <td>    0.038</td>\n",
              "</tr>\n",
              "<tr>\n",
              "  <th>black</th>     <td>   -0.1685</td> <td>    0.018</td> <td>   -9.566</td> <td> 0.000</td> <td>   -0.203</td> <td>   -0.134</td>\n",
              "</tr>\n",
              "<tr>\n",
              "  <th>south</th>     <td>   -0.1267</td> <td>    0.015</td> <td>   -8.419</td> <td> 0.000</td> <td>   -0.156</td> <td>   -0.097</td>\n",
              "</tr>\n",
              "<tr>\n",
              "  <th>married</th>   <td>   -0.0364</td> <td>    0.003</td> <td>  -10.689</td> <td> 0.000</td> <td>   -0.043</td> <td>   -0.030</td>\n",
              "</tr>\n",
              "<tr>\n",
              "  <th>smsa</th>      <td>    0.1699</td> <td>    0.016</td> <td>   10.900</td> <td> 0.000</td> <td>    0.139</td> <td>    0.200</td>\n",
              "</tr>\n",
              "<tr>\n",
              "  <th>nearc2</th>    <td>    0.0392</td> <td>    0.014</td> <td>    2.818</td> <td> 0.005</td> <td>    0.012</td> <td>    0.066</td>\n",
              "</tr>\n",
              "</table>\n",
              "<table class=\"simpletable\">\n",
              "<tr>\n",
              "  <th>Omnibus:</th>       <td>56.977</td> <th>  Durbin-Watson:     </th> <td>   1.863</td>\n",
              "</tr>\n",
              "<tr>\n",
              "  <th>Prob(Omnibus):</th> <td> 0.000</td> <th>  Jarque-Bera (JB):  </th> <td>  73.949</td>\n",
              "</tr>\n",
              "<tr>\n",
              "  <th>Skew:</th>          <td>-0.245</td> <th>  Prob(JB):          </th> <td>8.75e-17</td>\n",
              "</tr>\n",
              "<tr>\n",
              "  <th>Kurtosis:</th>      <td> 3.592</td> <th>  Cond. No.          </th> <td>    154.</td>\n",
              "</tr>\n",
              "</table><br/><br/>Notes:<br/>[1] Standard Errors assume that the covariance matrix of the errors is correctly specified."
            ]
          },
          "metadata": {},
          "execution_count": 37
        }
      ]
    },
    {
      "cell_type": "markdown",
      "source": [
        "EVALUANDO LA VARAIBLE NEARC2\n",
        " \n",
        " Los resultados son los siguiente. \n",
        "\n",
        "                  nearc2\t0.0392\t0.014\t2.818\t0.005\t0.012\t0.066\n",
        "\n",
        "Conclusiones: \n",
        "\n",
        "1.   el intercept no se evalua\n",
        "2.   la varaible Nearc2 presenta un 0.0392 puntos logaritmicos más. Es decir, que por cada año que pasa viviendo en las condiciones de Nearc2, son 0.0392 puntos logaritmicos extra. Cabe resaltar que consideramos Logaritmicos ya que se trabaja con una data grande (WAG=LWAG)\n",
        "3. Encontramos además que el p-valor es 0.005, menor a 0.05; por tanto decimos que es significativa.\n",
        "4. Finalmente, este estudio es robusto por el: \n",
        "\n",
        "                        F-statistic:\t189.4\n",
        "\n",
        "Conslsuioens en realción a EDUC:\n",
        "1. esta varaible presenta:\n",
        "\n",
        "              educ\t0.0708\t0.003\t20.353\t0.000\t0.064\t0.078\n",
        "                  \n",
        "2. decimos que el P-valor es 0.000, nemos a 0.05; asi decimos qu es significativo. \n",
        "3.  ´presenta 0.0708 puntos logaritmicos más. Es decir, que por cada año que pasa educandote, son 0.0708  puntos logaritmicos extra. Cabe resaltar que consideramos Logaritmicos ya que se trabaja con una data grande (WAG=LWAG)\n"
      ],
      "metadata": {
        "id": "VSL4WL_rwynR"
      }
    },
    {
      "cell_type": "markdown",
      "source": [
        "geramos un histograma y vemos que es una varaible dicotómica de dummies (0,1)\n"
      ],
      "metadata": {
        "id": "suKmVAB90OEy"
      }
    },
    {
      "cell_type": "code",
      "source": [
        "sns.histplot(data=data, x=\"nearc2\")"
      ],
      "metadata": {
        "colab": {
          "base_uri": "https://localhost:8080/",
          "height": 296
        },
        "id": "g3p9-DF6CAQj",
        "outputId": "d8690e2c-e1b3-4160-ccb1-3f8e0767f40d"
      },
      "execution_count": 32,
      "outputs": [
        {
          "output_type": "execute_result",
          "data": {
            "text/plain": [
              "<matplotlib.axes._subplots.AxesSubplot at 0x7fb10a045d50>"
            ]
          },
          "metadata": {},
          "execution_count": 32
        },
        {
          "output_type": "display_data",
          "data": {
            "text/plain": [
              "<Figure size 432x288 with 1 Axes>"
            ],
            "image/png": "[encoded data removed]"
          },
          "metadata": {
            "needs_background": "light"
          }
        }
      ]
    },
    {
      "cell_type": "code",
      "source": [
        "#2SLS\n",
        "import linearmodels.iv.model as lm\n",
        "from linearmodels.iv import IV2SLS\n"
      ],
      "metadata": {
        "id": "A4YLlfrIB0KW"
      },
      "execution_count": 41,
      "outputs": []
    },
    {
      "cell_type": "code",
      "source": [
        "#llenamos los casos de 0 en married, para que la función corra#\n",
        "data['married'] = data['married'].fillna(0)\n"
      ],
      "metadata": {
        "id": "GcaFi43k1mTQ"
      },
      "execution_count": 46,
      "outputs": []
    },
    {
      "cell_type": "code",
      "source": [
        "iv_reg = IV2SLS.from_formula(\"lwage ~  1 + exper + black + south + married + smsa + [educ ~ nearc2 ]\", data).fit()\n",
        "iv_reg.summary"
      ],
      "metadata": {
        "colab": {
          "base_uri": "https://localhost:8080/",
          "height": 463
        },
        "id": "5_eRRDLiB0og",
        "outputId": "24b48038-4dea-47d1-ae34-30d73e8803f7"
      },
      "execution_count": 47,
      "outputs": [
        {
          "output_type": "execute_result",
          "data": {
            "text/plain": [
              "<class 'linearmodels.compat.statsmodels.Summary'>\n",
              "\"\"\"\n",
              "                          IV-2SLS Estimation Summary                          \n",
              "==============================================================================\n",
              "Dep. Variable:                  lwage   R-squared:                     -1.3114\n",
              "Estimator:                    IV-2SLS   Adj. R-squared:                -1.3160\n",
              "No. Observations:                3010   F-statistic:                    289.62\n",
              "Date:                Mon, Nov 14 2022   P-value (F-stat)                0.0000\n",
              "Time:                        01:53:42   Distribution:                  chi2(6)\n",
              "Cov. Estimator:                robust                                         \n",
              "                                                                              \n",
              "                             Parameter Estimates                              \n",
              "==============================================================================\n",
              "            Parameter  Std. Err.     T-stat    P-value    Lower CI    Upper CI\n",
              "------------------------------------------------------------------------------\n",
              "Intercept      0.1276     3.1412     0.0406     0.9676     -6.0290      6.2843\n",
              "black          0.1134     0.1816     0.6244     0.5324     -0.2425      0.4692\n",
              "exper          0.1515     0.0747     2.0274     0.0426      0.0050      0.2980\n",
              "married       -0.0151     0.0147    -1.0258     0.3050     -0.0438      0.0137\n",
              "smsa           0.0201     0.1030     0.1949     0.8455     -0.1819      0.2220\n",
              "south         -0.0319     0.0692    -0.4603     0.6453     -0.1675      0.1038\n",
              "educ           0.3618     0.1849     1.9562     0.0504     -0.0007      0.7243\n",
              "==============================================================================\n",
              "\n",
              "Endogenous: educ\n",
              "Instruments: nearc2\n",
              "Robust Covariance (Heteroskedastic)\n",
              "Debiased: False\n",
              "\"\"\""
            ],
            "text/html": [
              "<table class=\"simpletable\">\n",
              "<caption>IV-2SLS Estimation Summary</caption>\n",
              "<tr>\n",
              "  <th>Dep. Variable:</th>          <td>lwage</td>      <th>  R-squared:         </th> <td>-1.3114</td>\n",
              "</tr>\n",
              "<tr>\n",
              "  <th>Estimator:</th>             <td>IV-2SLS</td>     <th>  Adj. R-squared:    </th> <td>-1.3160</td>\n",
              "</tr>\n",
              "<tr>\n",
              "  <th>No. Observations:</th>       <td>3010</td>       <th>  F-statistic:       </th> <td>289.62</td> \n",
              "</tr>\n",
              "<tr>\n",
              "  <th>Date:</th>             <td>Mon, Nov 14 2022</td> <th>  P-value (F-stat)   </th> <td>0.0000</td> \n",
              "</tr>\n",
              "<tr>\n",
              "  <th>Time:</th>                 <td>01:53:42</td>     <th>  Distribution:      </th> <td>chi2(6)</td>\n",
              "</tr>\n",
              "<tr>\n",
              "  <th>Cov. Estimator:</th>        <td>robust</td>      <th>                     </th>    <td></td>    \n",
              "</tr>\n",
              "<tr>\n",
              "  <th></th>                          <td></td>         <th>                     </th>    <td></td>    \n",
              "</tr>\n",
              "</table>\n",
              "<table class=\"simpletable\">\n",
              "<caption>Parameter Estimates</caption>\n",
              "<tr>\n",
              "      <td></td>      <th>Parameter</th> <th>Std. Err.</th> <th>T-stat</th>  <th>P-value</th> <th>Lower CI</th> <th>Upper CI</th>\n",
              "</tr>\n",
              "<tr>\n",
              "  <th>Intercept</th>  <td>0.1276</td>    <td>3.1412</td>   <td>0.0406</td>  <td>0.9676</td>   <td>-6.0290</td>  <td>6.2843</td> \n",
              "</tr>\n",
              "<tr>\n",
              "  <th>black</th>      <td>0.1134</td>    <td>0.1816</td>   <td>0.6244</td>  <td>0.5324</td>   <td>-0.2425</td>  <td>0.4692</td> \n",
              "</tr>\n",
              "<tr>\n",
              "  <th>exper</th>      <td>0.1515</td>    <td>0.0747</td>   <td>2.0274</td>  <td>0.0426</td>   <td>0.0050</td>   <td>0.2980</td> \n",
              "</tr>\n",
              "<tr>\n",
              "  <th>married</th>    <td>-0.0151</td>   <td>0.0147</td>   <td>-1.0258</td> <td>0.3050</td>   <td>-0.0438</td>  <td>0.0137</td> \n",
              "</tr>\n",
              "<tr>\n",
              "  <th>smsa</th>       <td>0.0201</td>    <td>0.1030</td>   <td>0.1949</td>  <td>0.8455</td>   <td>-0.1819</td>  <td>0.2220</td> \n",
              "</tr>\n",
              "<tr>\n",
              "  <th>south</th>      <td>-0.0319</td>   <td>0.0692</td>   <td>-0.4603</td> <td>0.6453</td>   <td>-0.1675</td>  <td>0.1038</td> \n",
              "</tr>\n",
              "<tr>\n",
              "  <th>educ</th>       <td>0.3618</td>    <td>0.1849</td>   <td>1.9562</td>  <td>0.0504</td>   <td>-0.0007</td>  <td>0.7243</td> \n",
              "</tr>\n",
              "</table><br/><br/>Endogenous: educ<br/>Instruments: nearc2<br/>Robust Covariance (Heteroskedastic)<br/>Debiased: False"
            ]
          },
          "metadata": {},
          "execution_count": 47
        }
      ]
    },
    {
      "cell_type": "markdown",
      "source": [
        "$Hipotesis$\n",
        "\n",
        "Al colocar al NEARC2 como varaible instrumental, es una varaible que se va a limpiar y va a afectar a la variable EDUC de nivel de educación. Si esta varible NEARC2 cambia el dato inicial que vimos en la primera regresión, entonces decimos que hay una relación causal. \n",
        "\n",
        "Se presentan los siguiente datos\n",
        "\n",
        "              educ\t0.3618\t0.1849\t1.9562\t0.0504\t-0.0007\t0.7243\n",
        "              F-statistic:\t289.62\n",
        "Comparamos con los anteriores resultados: \n",
        "\n",
        "              educ\t0.0708\t0.003\t20.353\t0.000\t0.064\t0.078\n",
        "\n",
        "              0.0708 → 0.3618\n",
        "Conclusiones: \n",
        "1. Vemos que el P-valor continua siendo menor a 0.05; por tanota este resultado es significativo.\n",
        "2. Adicional: el fF-statistic es alto y, por tanto, las estadisticas son robustas. \n",
        "3. Existe un cambio que va de     0.0708 → 0.3618; lo que indica un crecimiento de más del 400%. \n",
        "4. Como conslusión principal decimos que nearc2 se trata de una varaible instrumental. No peuo decir que la varaible educación EDUC es la que causa el salario únicamente; no obstante, si peudo concluir que es independiente y causa un incluencia. Se captura el efecto de este; asi vemos el efecto de esta variable específica. \n",
        "\n"
      ],
      "metadata": {
        "id": "wlk8mB_h17aK"
      }
    }
  ]
}