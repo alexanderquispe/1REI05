{
 "cells": [
  {
   "cell_type": "markdown",
   "id": "39c19880",
   "metadata": {},
   "source": [
    "Gianfranco Polar - 20200841\n",
    "\n",
    "# Reporte 6\n",
    "\n",
    "El artículo elaborado por Dynarski y Michelmore busca responder si el nivel de ingresos y el desconocimiento sobre los programas de asistencia financiera influye en la tasa de atención a universidades selectivas en estudiantes de alto rendimiento escolar. El enfoque utilizado es un ensayo aleatorio y controlado que busca evaluar si las comunicaciones dirigidas y personalizadas, que reformulan pero no aumentan la ayuda financiera, pueden alterar la toma de decisiones de los estudiantes de bajos ingresos para optar por postular o no a una universidad selectiva. Para ello, se implementan modos de comunicación más directa sobre la ayuda económica preexistente, en este caso una beca orientada específicamente a líderes involucrados de alto rendimiento (HAIL). Esta beca buscaría motivar a los estudiantes de bajos ingresos y alto rendimiento a aplicar a universidades selectivas en el estado estadounidense de Michigan, afectando la toma de decisiones para contrastarlo con aquellas decisiones tomadas bajo el condicionante de tener bajos ingresos económicos. \n",
    "\n",
    "La principal fortaleza del enfoque utilizado es que utiliza una herramienta que despeja una de las variables más tomadas en cuenta por un estudiante de alto rendimiento al aplicar a una universidad selectiva: la capacidad de pago. Con la beca HAIL, los estudiantes de bajos ingresos tienen asegurado el pago de sus estudios universitarios sin condiciones, lo que determina su decisión de aplicar o no. Además, la herramienta es sencilla pues la información sobre la beca HAIL es comunicada directamente a la población objetivo, sin necesidad de que los estudiantes tengan que buscar ayuda financiera. Esto acorta el proceso y modifica las variables en la toma de decisiones de los estudiantes.\n",
    "\n",
    "Por otro lado, la principal debilidad del enfoque es que si bien la pregunta de investigación es muy interesante y relevante para entender las variables que determinan la toma de decisiones de estudiantes de alto rendimiento, el estudio cuenta con una muestra muy limitada y poco diversa, pues solamente estudia el efecto de este estímulo en estudiantes del estado de Michigan. El estudio podría contemplar extender la investigación a otros estados de los Estados Unidos, cuyos estudiantes presenten características demográficas distintas, como un nivel de ingresos más bajo, diversidad en la identidad étnica, presencia de inmigrantes, o factores sociales que limiten el acceso de grupos vulnerables a la educación universitaria pese a contar con alto rendimiento escolar.\n",
    "\n",
    "El artículo contribuye a la pregunta de investigación, llegando a la conclusión de que el nivel de ingresos si determina el proceso de decisión de un estudiante de alto rendimiento escolar en su postulación a una universidad selectiva. La capacidad de pago y el desconocimiento sobre los programas de ayuda financiera resultan un limitante para estos estudiantes con altas calificaciones en su GPA y SAT. El porcentaje de estudiantes de bajos ingresos y alto rendimiento que aplicaron a estas universidades presentó una diferencia de 42 puntos entre las escuelas control y objetivo, es decir, entre aquellas en las que se ofreció directamente la beca HAIL y aquellas en las que no. Asimismo, la diferencia en la tasa de admisión entre estos mismos grupos es de 17 puntos porcentuales. Evidentemente, el nivel de ingresos muchas veces obstaculiza a los estudiantes de alto rendimiento de estudiar en prestigiosas universidades, pues temen no poder pagarla. Asimismo, muchos estudiantes no conocen de los programas de ayuda financiera que ofrece su universidad o su programa de asistencia social local, por lo cual debe existir mayor efectividad en los métodos de comunicación.\n",
    "\n",
    "Un siguiente paso en esta investigación sería extender esta investigación evaluando si el\n",
    "nivel de ingresos es una variable que determina la tasa de graduación universitaria y la inserción laboral en estudiantes de alto rendimiento. Sobre la tasa de graduación, en el propio artículo se afirma, citando a otros autores, que los estudiantes tienen más probabilidades de graduarse si asisten a la mejor escuela a la que puedan ingresar, aunque no se ha realizado una investigación al respecto. Autores como Ruiz Alvarado et al. (2020, p. 3), señalan que la predisposición de los estudiantes de bajos ingresos y alto rendimiento a optar por universidades menos selectivas deviene en una menor tasa de graduación universitaria y su inserción laboral en puestos menos remunerados.\n",
    "\n",
    "\n",
    "### BIBLIOGRAFÍA\n",
    "\n",
    "Dynarski, S., Libassi, C. J., Michelmore, K., & Owen, S. (2018). Closing the gap: The effect of a targeted, tuition-free promise on college choices of high-achieving, low-income students (No. w25349). National Bureau of Economic Research.\n",
    "\n",
    "Ruiz Alvarado, A., Stewart-Ambo, T. & Hurtado, S. (2020). High School and College Choice Factors Associated with High-Achieving Low-Income Students’ College Degree Completion. Education Sciences, 10(153)."
   ]
  },
  {
   "cell_type": "markdown",
   "id": "7b906c5b",
   "metadata": {},
   "source": []
  }
 ],
 "metadata": {
  "kernelspec": {
   "display_name": "Python 3 (ipykernel)",
   "language": "python",
   "name": "python3"
  },
  "language_info": {
   "codemirror_mode": {
    "name": "ipython",
    "version": 3
   },
   "file_extension": ".py",
   "mimetype": "text/x-python",
   "name": "python",
   "nbconvert_exporter": "python",
   "pygments_lexer": "ipython3",
   "version": "3.9.12"
  }
 },
 "nbformat": 4,
 "nbformat_minor": 5
}
