{
 "cells": [
  {
   "cell_type": "markdown",
   "id": "b7b4fb89",
   "metadata": {},
   "source": [
    "# Parte 1: Reporte\n",
    "\n",
    "El artículo muestra que las condiciones de salud mental entre adolescentes y adultos en el país de Estados Unidos, ha empeorado por el aumento en el uso de las redes sociales, lo cual significa, que un mal uso de ellas podría ser perjudiciales para la salud de mental. Asimismo, se centra en el uso de Facebook en las universidades estadounidenses, investigando que el despliegue de Facebook aumentó los síntomas de salud mental, haciendo énfasis en la “depresión”. Asimismo, los pacientes que ya tenían enfermedades mentales, aumento el uso de los servicios de salud mental en dicha universidad.  A su vez, el rendimiento académico comenzó a bajar en cada uno de los alumnos. \n",
    "\n",
    "Las fortalezas del artículo, es que muestra como es que Facebook ha experimentado una serie de cambios importantes. En primer lugar, menciona el feed personalizado en donde las publicaciones se clasifican mediante algoritmos. En segundo lugar, el crecimiento de usuarios desde los estudiantes estadounidenses hasta los usuarios de todo el mundo. En tercer lugar, los videos sustituyen a las imágenes y lo escrito. En cuarto lugar, el aumento de aplicación en los celulares. Y, por último, la fomentación de páginas de marcas, empresas y organizaciones dentro de Facebook. Estos 5 cambios mencionados, han repercutido en la salud mental de los estudiantes americanos pues los mecanismos están relacionados con el uso que le da cada persona a esta red social, como sabemos son foros en línea en donde los usuarios publican o comparten casi a diario fotos, videos, post personales, entre otros. Y no siempre, los usuarios receptores, son “amables” con la información compartida. Todo esto, termina influyendo en el estado emocional de los usuarios, conduciéndolos en la mayoría de los casos a tener “depresión”. Sin embargo, el artículo no tiene una investigación completa, pues existen más factores por los que un estudiante elige o no dejar que las redes sociales puedan afectar su vida de una forma negativa, asimismo elige o no compartir sus cosas personales por Facebook, ya que no todos aspiran a lo mismo, o tienen las mismas oportunidades de expresarse o relacionarse, y no solo se habla económicamente, sino social o emocionalmente. Y bien, no todo es malo, pues se ha demostrado que mediante las redes sociales, algunas personas que son introvertidas, se sienten más cómodas expresado lo que sienten o piensan mediante ellas. Las redes sociales pueden contribuir a la salud y al bienestar al facilitar la interacción social, construir comunidades, normalizar el comportamiento de búsqueda de ayuda, inspirar cambios saludables en el estilo de vida y ayudar a la investigación médica. (Bermejo, Fredy, Peña & Espinoza, 2020).\n",
    "\n",
    "Si bien el presente artículo demuestra que existe una relación alta entre las redes sociales y cómo es que estas afectan en la salud mental de los estudiantes universitarios americanos, dejando en claro que los resultados son coherentes con la hipótesis de que los medios sociales podrían ser parcialmente responsables del reciente deterioro de la salud mental, un paso para mejorar la investigación del artículo sería usar otro tipo de redes sociales que son un boom en la actualidad como Tik Tok, Instagram o Whatsapp, y relacionarlas con la salud mental de los usuarios. Asimismo, también tendrían que relacionar si es que el deterioro de la salud mental, solo se relaciona al uso de las redes o es que también influyen otros factores como los problemas personales, contratiempos, carga académica, problemas familiares, entre otros. A su vez, se podría estudiar como es que el aumento del tiempo dedicado al uso de las redes sociales está relacionado con la sensación de aislamiento del mundo real, lo cual puede contribuir al desarrollo de trastornos mentales (Rodrigues, Pereira, Barboza & Pereira, 2020) y de este paso, continuar con la solución a ellos, como, por ejemplo, talleres online, anuncias de aprendizaje sobre el manejo de emociones que el mismo aplicativo puede proponer al usuario. \n",
    "\n",
    "Bermejo F., Peña W. & Espinoza E. (2020). Depresión perinatal en tiempos del COVID-19: rol de las redes sociales en Internet. Acta Médica Peruana, 37(1), 88-93.0\n",
    "https://dx.doi.org/10.35663/amp.2020.371.913\n",
    "\n",
    "Rodrigues S., Borges L. Barboza M. & Pereira L. (2020). ¿Cómo influyen las redes sociales en la salud mental?. SMAD. Revista eletrônica saúde mental álcool e drogas, 16(1), 1-3. https://dx.doi.org/10.11606/issn.1806-6976.smad.2020.0089\n"
   ]
  }
 ],
 "metadata": {
  "kernelspec": {
   "display_name": "Python 3 (ipykernel)",
   "language": "python",
   "name": "python3"
  },
  "language_info": {
   "codemirror_mode": {
    "name": "ipython",
    "version": 3
   },
   "file_extension": ".py",
   "mimetype": "text/x-python",
   "name": "python",
   "nbconvert_exporter": "python",
   "pygments_lexer": "ipython3",
   "version": "3.9.12"
  }
 },
 "nbformat": 4,
 "nbformat_minor": 5
}
