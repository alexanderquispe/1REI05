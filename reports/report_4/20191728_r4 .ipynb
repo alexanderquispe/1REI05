{
 "cells": [
  {
   "cell_type": "markdown",
   "id": "344fe53a",
   "metadata": {},
   "source": [
    "Reporte 4"
   ]
  },
  {
   "cell_type": "markdown",
   "id": "c54f5427",
   "metadata": {},
   "source": [
    "Bruno Merino - 20191728"
   ]
  },
  {
   "cell_type": "code",
   "execution_count": null,
   "id": "03f94b4a",
   "metadata": {},
   "outputs": [],
   "source": []
  },
  {
   "cell_type": "markdown",
   "id": "7175ece9",
   "metadata": {},
   "source": [
    "<h1> Enunciado Phyton"
   ]
  },
  {
   "cell_type": "markdown",
   "id": "0b1b40d8",
   "metadata": {},
   "source": [
    "* Ecuaciones de la IS y LM\n",
    "\n",
    "$$ β_0=C_0+I_0+G_0+X_0 $$\n",
    "\n",
    "\n",
    "$$  β_1=1-(b-m)*(1-t) $$\n",
    "\n",
    "\n",
    "$$  0<b<1 $$\n",
    "\n",
    "\n",
    "\n",
    "* $$ r=\\dfrac{β_0}{h}-\\dfrac{β_1}{h}*Y --->IS  $$\n",
    "\n",
    "\n",
    "\n",
    "* $$ r=-\\dfrac{1}{j}*\\dfrac{(M_0^s)}{P_0} +\\dfrac{k}{j}*Y ---> LM  $$ "
   ]
  },
  {
   "cell_type": "markdown",
   "id": "cf760be7",
   "metadata": {},
   "source": [
    "* **Hallar el ingreso de equilibrio (Y^e) y tasa de interes de equilibrio (r^e) (paso a paso)**\n"
   ]
  },
  {
   "cell_type": "markdown",
   "id": "afdaab67",
   "metadata": {},
   "source": [
    "* 1. Se halla r^e, despejando Y:\n",
    "\n",
    "\n",
    "$$ \\dfrac{β_0}{β_1} -\\dfrac{(h*r)}{β_1} =-\\dfrac{(j*r)}{k}+\\dfrac{1}{k}*\\dfrac{(M_0^s)}{(P_0)} $$\n",
    "\n",
    "\n",
    "$$ β_0*k-\\beta_1*\\dfrac{(M_0^s)}{P_0} =-j*β_1*r+h*k*r $$\n",
    "\n",
    "\n",
    "$$ β_0*k-\\beta_1*\\dfrac{(M_0^s)}{P_0} =r*(h*k-j*β_1 ) $$\n",
    "\n",
    "\n",
    "$$ -> r^e=-\\dfrac{β_1}{(h*k-j*β_1 )}*\\dfrac{(M_0^s)}{P_0}+\\dfrac{(β_0*K)}{(h*k-j*β_1 )}  $$"
   ]
  },
  {
   "cell_type": "markdown",
   "id": "100b950f",
   "metadata": {},
   "source": [
    "* 2. Se halla Y^e, despejado r:\n",
    "\n",
    "$$ \\dfrac{β_0}{h}-\\dfrac{β_1}{h}*Y=-\\dfrac{1}{j}*\\dfrac{(M_0^s)}{P_0} +\\dfrac{k}{j}*Y $$\n",
    "\n",
    "\n",
    "$$ \\dfrac{β_0}{h}+\\dfrac{(M_0^s)}{(P_0*j)}=Y*(\\dfrac{β_1}{h}+\\dfrac{k}{j}) $$\n",
    "\n",
    "\n",
    "$$ \\dfrac{(β_0*P_0*j+h*M_0^s)}{(h*P_0*j)}=Y*\\dfrac{(β_1*j+k*h)}{(h*j)} $$\n",
    "\n",
    "\n",
    "$$ \\dfrac{β_0*P_o*j+h*M_0^s}{P_0*(β_1*j+k*h) }=Y^e <-  $$\n",
    "\n",
    "\n",
    "$$ Ordenando -> Y^e=\\dfrac{h}{(β_1*j+k*h)}*\\dfrac{(M_0^s)}{P_0}+\\dfrac{(j*β_0)}{(β_1*j+k*h)} $$\n"
   ]
  },
  {
   "cell_type": "markdown",
   "id": "e42ec096",
   "metadata": {},
   "source": [
    "* **Grafique el equilibrio simultáneo en los mercados de bienes y de dinero.**"
   ]
  },
  {
   "cell_type": "code",
   "execution_count": 1,
   "id": "57290e72",
   "metadata": {},
   "outputs": [],
   "source": [
    "import ipywidgets as widgets\n",
    "import matplotlib.pyplot as plt\n",
    "import numpy as np               \n",
    "\n",
    "import sympy as sy\n",
    "import pandas as pd"
   ]
  },
  {
   "cell_type": "code",
   "execution_count": 2,
   "id": "904f15fc",
   "metadata": {},
   "outputs": [],
   "source": [
    "# Grafica de la curva IS\n",
    "##Parametros\n",
    "\n",
    "Y_size = 100 \n",
    "b = 0.8                \n",
    "m = 0.3                 \n",
    "t = 0.94                  \n",
    "C0 = 19                \n",
    "I0 = 18                 \n",
    "G0 = 30                  \n",
    "X0 = 15                  \n",
    "h =  0.99                  \n",
    "\n",
    "Y = np.arange(Y_size)\n",
    "\n",
    "def r_Is (b, m, t, C0, I0, G0, X0, h, Y):\n",
    "    r_Is= (C0 + I0 + G0 + X0 - Y*((1-(b-m)*(1-t))/h))\n",
    "    return r_Is\n",
    "\n",
    "def Y_s (b, m, t, C0, I0, G0, X0, h, r):\n",
    "    Y_s= (C0 + I0 + G0 + X0 - h*r)/(1-(b-m)*(1-t))\n",
    "    return Y\n",
    "\n",
    "r_Is = r_Is (b, m, t, C0, I0, G0, X0, h, Y)\n",
    "\n",
    "# Grafico de la curva LM\n",
    "##Parametros\n",
    "\n",
    "Y_size = 100\n",
    "\n",
    "K = 13.35                \n",
    "J = 8.9              \n",
    "Ms = 8013            \n",
    "P  = 20               \n",
    "\n",
    "Y = np.arange(Y_size)\n",
    "\n",
    "def LM( K, J, Ms, P, Y):\n",
    "    LM = ((-Ms/P)* 1/J + K/J*Y)\n",
    "    return LM\n",
    "\n",
    "LM = LM( K, J, Ms, P, Y)\n",
    "\n"
   ]
  },
  {
   "cell_type": "code",
   "execution_count": 3,
   "id": "6e981696",
   "metadata": {},
   "outputs": [
    {
     "name": "stderr",
     "output_type": "stream",
     "text": [
      "C:\\Users\\USUARIO\\AppData\\Local\\Temp\\ipykernel_15280\\3263453951.py:8: UserWarning: color is redundantly defined by the 'color' keyword argument and the fmt string \"k-\" (-> color='k'). The keyword argument will take precedence.\n",
      "  ax.plot(Y, r_Is, \"k-\", label = \"IS\", color = \"red\")\n",
      "C:\\Users\\USUARIO\\AppData\\Local\\Temp\\ipykernel_15280\\3263453951.py:9: UserWarning: color is redundantly defined by the 'color' keyword argument and the fmt string \"b-\" (-> color='b'). The keyword argument will take precedence.\n",
      "  ax.plot(Y, LM, \"b-\", label=\"LM\", color = \"blue\")\n"
     ]
    },
    {
     "data": {
      "image/png": "[encoded data removed]",
      "text/plain": [
       "<Figure size 720x576 with 1 Axes>"
      ]
     },
     "metadata": {},
     "output_type": "display_data"
    }
   ],
   "source": [
    "##Grafico interseccion de IS y LM\n",
    "\n",
    "y_max = np.max(LM)\n",
    "\n",
    "fig, ax = plt.subplots(figsize=(10, 8))\n",
    "ax.set(title=\"Equilibrio Estable\", xlabel= r'Y', ylabel= r'r')\n",
    "\n",
    "ax.plot(Y, r_Is, \"k-\", label = \"IS\", color = \"red\")\n",
    "ax.plot(Y, LM, \"b-\", label=\"LM\", color = \"blue\")\n",
    "\n",
    "ax.yaxis.set_major_locator(plt.NullLocator())   \n",
    "ax.xaxis.set_major_locator(plt.NullLocator())  \n",
    "\n",
    "plt.axvline(x=51.1,  ymin= 0, ymax= 0.52, linestyle = \":\", color = \"black\")\n",
    "plt.axhline(y=32, xmin= 0, xmax= 0.52, linestyle = \":\", color = \"black\")\n",
    "plt.plot(51, 32, marker=\"o\", color=\"black\", label = \"Eo\")\n",
    "plt.text(49,38, 'Eo', fontsize = 14, color = 'black')\n",
    "\n",
    "ax.legend()\n",
    "plt.show()"
   ]
  },
  {
   "cell_type": "markdown",
   "id": "20a97b96",
   "metadata": {},
   "source": [
    "<h1> Estática comparativa."
   ]
  },
  {
   "cell_type": "markdown",
   "id": "96eb26c1",
   "metadata": {},
   "source": [
    "* **Analice los efectos sobre las variables endógenas Y, r de una disminución del gasto fiscal.(ΔG_0<0). El análisis debe ser intuitivo, matemático y gráfico.**"
   ]
  },
  {
   "cell_type": "code",
   "execution_count": 4,
   "id": "c824568b",
   "metadata": {},
   "outputs": [],
   "source": [
    "# Grafica de la curva IS\n",
    "##Parametros\n",
    "\n",
    "Y_size = 100 \n",
    "b = 0.8                \n",
    "m = 0.3                 \n",
    "t = 0.94                  \n",
    "C0 = 19                \n",
    "I0 = 18                 \n",
    "G0 = 30                  \n",
    "X0 = 15                  \n",
    "h =  0.99                  \n",
    "\n",
    "Y = np.arange(Y_size)\n",
    "\n",
    "def r_Is (b, m, t, C0, I0, G0, X0, h, Y):\n",
    "    r_Is= (C0 + I0 + G0 + X0 - Y*((1-(b-m)*(1-t))/h))\n",
    "    return r_Is\n",
    "\n",
    "def Y_s (b, m, t, C0, I0, G0, X0, h, r):\n",
    "    Y_s= (C0 + I0 + G0 + X0 - h*r)/(1-(b-m)*(1-t))\n",
    "    return Y_s\n",
    "\n",
    "r_Is = r_Is (b, m, t, C0, I0, G0, X0, h, Y)\n",
    "\n",
    "# Grafico de la curva LM\n",
    "##Parametros\n",
    "\n",
    "Y_size = 100\n",
    "\n",
    "Y_size = 100\n",
    "\n",
    "K = 13.35                \n",
    "J = 8.9              \n",
    "Ms = 8013            \n",
    "P  = 20                  \n",
    "\n",
    "Y = np.arange(Y_size)\n",
    "\n",
    "def LM( K, J, Ms, P, Y):\n",
    "    LM = ((-Ms/P)* 1/J + K/J*Y)\n",
    "    return LM\n",
    "\n",
    "LM = LM( K, J, Ms, P, Y)\n",
    "\n"
   ]
  },
  {
   "cell_type": "code",
   "execution_count": 5,
   "id": "1ef53e8b",
   "metadata": {},
   "outputs": [],
   "source": [
    "# Grafica de la curva IS_2\n",
    "##Parametros\n",
    "\n",
    "Y_size = 100 \n",
    "b = 0.8                \n",
    "m = 0.3                 \n",
    "t = 0.94                  \n",
    "C0 = 19                \n",
    "I0 = 18                 \n",
    "G0 = 15                  \n",
    "X0 = 15                  \n",
    "h =  0.99                \n",
    "\n",
    "Y = np.arange(Y_size)\n",
    "\n",
    "def r_Is2 (b, m, t, C0, I0, G0, X0, h, Y):\n",
    "    r_Is2= (C0 + I0 + G0 + X0 - Y*((1-(b-m)*(1-t))/h))\n",
    "    return r_Is2\n",
    "\n",
    "def Y_s2 (b, m, t, C0, I0, G0, X0, h, r):\n",
    "    Y_s2= (C0 + I0 + G0 + X0 - h*r)/(1-(b-m)*(1-t))\n",
    "    return Y2_s2\n",
    "\n",
    "r_Is2 = r_Is2 (b, m, t, C0, I0, G0, X0, h, Y)\n"
   ]
  },
  {
   "cell_type": "code",
   "execution_count": 6,
   "id": "bdfb5321",
   "metadata": {},
   "outputs": [
    {
     "name": "stderr",
     "output_type": "stream",
     "text": [
      "C:\\Users\\USUARIO\\AppData\\Local\\Temp\\ipykernel_15280\\1377727205.py:8: UserWarning: color is redundantly defined by the 'color' keyword argument and the fmt string \"k-\" (-> color='k'). The keyword argument will take precedence.\n",
      "  ax.plot(Y, r_Is, \"k-\", label = \"IS\", color = \"red\")\n",
      "C:\\Users\\USUARIO\\AppData\\Local\\Temp\\ipykernel_15280\\1377727205.py:9: UserWarning: linestyle is redundantly defined by the 'linestyle' keyword argument and the fmt string \"k-\" (-> linestyle='-'). The keyword argument will take precedence.\n",
      "  ax.plot(Y, r_Is2, \"k-\", label = \"IS_2\", linestyle = \":\", color = \"red\")\n",
      "C:\\Users\\USUARIO\\AppData\\Local\\Temp\\ipykernel_15280\\1377727205.py:9: UserWarning: color is redundantly defined by the 'color' keyword argument and the fmt string \"k-\" (-> color='k'). The keyword argument will take precedence.\n",
      "  ax.plot(Y, r_Is2, \"k-\", label = \"IS_2\", linestyle = \":\", color = \"red\")\n",
      "C:\\Users\\USUARIO\\AppData\\Local\\Temp\\ipykernel_15280\\1377727205.py:10: UserWarning: color is redundantly defined by the 'color' keyword argument and the fmt string \"b-\" (-> color='b'). The keyword argument will take precedence.\n",
      "  ax.plot(Y, LM, \"b-\", label=\"LM\", color = \"blue\")\n"
     ]
    },
    {
     "data": {
      "image/png": "[encoded data removed]",
      "text/plain": [
       "<Figure size 720x576 with 1 Axes>"
      ]
     },
     "metadata": {},
     "output_type": "display_data"
    }
   ],
   "source": [
    "##Grafico interseccion de IS y LM\n",
    "\n",
    "y_max = np.max(LM)\n",
    "\n",
    "fig, ax = plt.subplots(figsize=(10, 8))\n",
    "ax.set(title=\"Efectos de una Disminucion en el Gasto del Gobierno\", xlabel= r'Y', ylabel= r'r')\n",
    "\n",
    "ax.plot(Y, r_Is, \"k-\", label = \"IS\", color = \"red\")\n",
    "ax.plot(Y, r_Is2, \"k-\", label = \"IS_2\", linestyle = \":\", color = \"red\")\n",
    "ax.plot(Y, LM, \"b-\", label=\"LM\", color = \"blue\")\n",
    "\n",
    "ax.yaxis.set_major_locator(plt.NullLocator())   \n",
    "ax.xaxis.set_major_locator(plt.NullLocator())  \n",
    "\n",
    "plt.axvline(x=51.1,  ymin= 0, ymax= 0.52, linestyle = \":\", color = \"black\")\n",
    "plt.axhline(y=32, xmin= 0, xmax= 0.52, linestyle = \":\", color = \"black\")\n",
    "plt.plot(51, 32, marker=\"o\", color=\"black\", label = \"Eo\")\n",
    "plt.text(49,38, 'Eo', fontsize = 14, color = 'black')\n",
    "\n",
    "\n",
    "\n",
    "##Parametros interseccion IS2 y LM\n",
    "\n",
    "plt.axvline(x=45.17, ymin= 0, ymax= 0.45, linestyle = \":\", color = \"black\")\n",
    "plt.axhline(y=22.74, xmin= 0, xmax= 0.45, linestyle = \":\", color = \"black\")\n",
    "plt.plot(45.17, 22.74, marker=\"o\", color=\"black\", label = \"Eo\")\n",
    "plt.text(45.17, 25.74, 'E1', fontsize = 14, color = 'black')\n",
    "\n",
    "ax.legend()\n",
    "plt.show()"
   ]
  },
  {
   "cell_type": "markdown",
   "id": "c88088fc",
   "metadata": {},
   "source": [
    "* Parte Intuitiva.\n",
    "\n",
    "$$  ΔG_0<0  $$\n",
    "\n",
    "\n",
    "\n",
    "$$  G_0↓→DA↓→DA<Y→Y↓  $$\n",
    "\n",
    "\n",
    "$$  Y↓→M^d↓→M^d<M^s→→r↓  $$\n",
    "\n",
    "\n",
    "* Parte Matematica.\n",
    "\n",
    "$$  Δr=\\dfrac{k*(C_0+I_0+ΔG_0+X_0)}{h*k-j*\\beta_1}-\\dfrac{\\beta_1}{h*k-j*\\beta_1}*\\dfrac{M_0^s}{P_0}  $$\n",
    "\n",
    "\n",
    "$$  Δr=\\dfrac{k*ΔG_0}{h*k-j*\\beta_1}  $$\n",
    "\n",
    "\n",
    "$$  Δr=\\dfrac{k}{h*k-j*\\beta_1}*\\dfrac{G_0}{1}<0  $$\n",
    "\n",
    "\n",
    "$$  ΔY=\\dfrac{j*(C_0+I_0+ΔG_0+X_0)}{\\beta_1*j+k*h}+\\dfrac{h}{\\beta_1*j+k*h}*\\dfrac{M_0^s}{P_0}  $$\n",
    "\n",
    "\n",
    "$$  ΔY=\\dfrac{j*ΔG_0}{\\beta_1*j+k*h}<0  $$\n",
    "\n",
    "\n",
    "$$  ΔY=\\dfrac{j}{\\beta_1*j+k*h}*\\dfrac{ΔG_0}{1}<0  $$\n"
   ]
  },
  {
   "cell_type": "markdown",
   "id": "d93ed799",
   "metadata": {},
   "source": [
    "* **Analice los efectos sobre las variables endógenas Y, r de una disminución de la masa monetaria.(ΔM_0<0). El análisis debe ser intuitivo, matemático y gráfico.**"
   ]
  },
  {
   "cell_type": "code",
   "execution_count": 7,
   "id": "9b8d2d8f",
   "metadata": {},
   "outputs": [],
   "source": [
    "# Grafica de la curva IS\n",
    "##Parametros\n",
    "\n",
    "Y_size = 100 \n",
    "b = 0.8                \n",
    "m = 0.3                 \n",
    "t = 0.94                  \n",
    "C0 = 19                \n",
    "I0 = 18                 \n",
    "G0 = 30                  \n",
    "X0 = 15                  \n",
    "h =  0.99                  \n",
    "\n",
    "Y = np.arange(Y_size)\n",
    "\n",
    "def r_Is (b, m, t, C0, I0, G0, X0, h, Y):\n",
    "    r_Is= (C0 + I0 + G0 + X0 - Y*((1-(b-m)*(1-t))/h))\n",
    "    return r_Is\n",
    "\n",
    "def Y_s (b, m, t, C0, I0, G0, X0, h, r):\n",
    "    Y_s= (C0 + I0 + G0 + X0 - h*r)/(1-(b-m)*(1-t))\n",
    "    return Y_s\n",
    "\n",
    "r_Is = r_Is (b, m, t, C0, I0, G0, X0, h, Y)\n",
    "\n",
    "# Grafico de la curva LM\n",
    "##Parametros\n",
    "\n",
    "Y_size = 100\n",
    "\n",
    "Y_size = 100\n",
    "\n",
    "K = 13.35                \n",
    "J = 8.9              \n",
    "Ms = 8013            \n",
    "P  = 20                  \n",
    "\n",
    "Y = np.arange(Y_size)\n",
    "\n",
    "def LM( K, J, Ms, P, Y):\n",
    "    LM = ((-Ms/P)* 1/J + K/J*Y)\n",
    "    return LM\n",
    "\n",
    "LM = LM( K, J, Ms, P, Y)"
   ]
  },
  {
   "cell_type": "code",
   "execution_count": 8,
   "id": "32a2f372",
   "metadata": {},
   "outputs": [],
   "source": [
    "# Grafico de la curva LM2\n",
    "##Parametros\n",
    "\n",
    "Y_size = 100\n",
    "\n",
    "Y_size = 100\n",
    "\n",
    "K = 13.35                \n",
    "J = 8.9              \n",
    "Ms = 4000            \n",
    "P  = 20                  \n",
    "\n",
    "Y = np.arange(Y_size)\n",
    "\n",
    "def LM2( K, J, Ms, P, Y):\n",
    "    LM2 = ((-Ms/P)* 1/J + K/J*Y)\n",
    "    return LM2\n",
    "\n",
    "LM2 = LM2( K, J, Ms, P, Y)\n"
   ]
  },
  {
   "cell_type": "code",
   "execution_count": 9,
   "id": "df59c02b",
   "metadata": {},
   "outputs": [
    {
     "name": "stderr",
     "output_type": "stream",
     "text": [
      "C:\\Users\\USUARIO\\AppData\\Local\\Temp\\ipykernel_15280\\1105264022.py:8: UserWarning: color is redundantly defined by the 'color' keyword argument and the fmt string \"k-\" (-> color='k'). The keyword argument will take precedence.\n",
      "  ax.plot(Y, r_Is, \"k-\", label = \"IS\", color = \"red\")\n",
      "C:\\Users\\USUARIO\\AppData\\Local\\Temp\\ipykernel_15280\\1105264022.py:9: UserWarning: linestyle is redundantly defined by the 'linestyle' keyword argument and the fmt string \"b-\" (-> linestyle='-'). The keyword argument will take precedence.\n",
      "  ax.plot(Y, LM2, \"b-\", label = \"LM2\", linestyle = \":\", color = \"blue\")\n",
      "C:\\Users\\USUARIO\\AppData\\Local\\Temp\\ipykernel_15280\\1105264022.py:9: UserWarning: color is redundantly defined by the 'color' keyword argument and the fmt string \"b-\" (-> color='b'). The keyword argument will take precedence.\n",
      "  ax.plot(Y, LM2, \"b-\", label = \"LM2\", linestyle = \":\", color = \"blue\")\n",
      "C:\\Users\\USUARIO\\AppData\\Local\\Temp\\ipykernel_15280\\1105264022.py:10: UserWarning: color is redundantly defined by the 'color' keyword argument and the fmt string \"b-\" (-> color='b'). The keyword argument will take precedence.\n",
      "  ax.plot(Y, LM, \"b-\", label=\"LM\", color = \"blue\")\n"
     ]
    },
    {
     "data": {
      "image/png": "[encoded data removed]",
      "text/plain": [
       "<Figure size 720x576 with 1 Axes>"
      ]
     },
     "metadata": {},
     "output_type": "display_data"
    }
   ],
   "source": [
    "##Grafico interseccion de IS y LM\n",
    "\n",
    "y_max = np.max(LM)\n",
    "\n",
    "fig, ax = plt.subplots(figsize=(10, 8))\n",
    "ax.set(title=\"Efectos de la Disminucion en la Oferta del Dinero\", xlabel= r'Y', ylabel= r'r')\n",
    "\n",
    "ax.plot(Y, r_Is, \"k-\", label = \"IS\", color = \"red\")\n",
    "ax.plot(Y, LM2, \"b-\", label = \"LM2\", linestyle = \":\", color = \"blue\")\n",
    "ax.plot(Y, LM, \"b-\", label=\"LM\", color = \"blue\")\n",
    "\n",
    "ax.yaxis.set_major_locator(plt.NullLocator())   \n",
    "ax.xaxis.set_major_locator(plt.NullLocator())  \n",
    "\n",
    "plt.axvline(x=51.1,  ymin= 0, ymax= 0.45, linestyle = \":\", color = \"black\")\n",
    "plt.axhline(y=32, xmin= 0, xmax= 0.52, linestyle = \":\", color = \"black\")\n",
    "plt.plot(51, 32, marker=\"o\", color=\"black\", label = \"Eo\")\n",
    "plt.text(49,38, 'Eo', fontsize = 14, color = 'black')\n",
    "\n",
    "\n",
    "\n",
    "##Parametros interseccion IS y LM2\n",
    "\n",
    "plt.axvline(x=42.13, ymin= 0, ymax= 0.50, linestyle = \":\", color = \"black\")\n",
    "plt.axhline(y=40.72, xmin= 0, xmax= 0.42, linestyle = \":\", color = \"black\")\n",
    "plt.plot(42.13, 40.72, marker=\"o\", color=\"black\", label = \"E1\")\n",
    "plt.text(41.13, 42.72, 'E1', fontsize = 14, color = 'black')\n",
    "\n",
    "ax.legend()\n",
    "plt.show()"
   ]
  },
  {
   "cell_type": "markdown",
   "id": "c430db3d",
   "metadata": {},
   "source": [
    "* Parte Intuitiva.\n",
    "\n",
    "$$  ΔM^s<0  $$\n",
    "\n",
    "\n",
    "$$  M^s↓→M^s<M^d→M^d↓→r↑  $$\n",
    "\n",
    "\n",
    "$$  r↑→b*r↑→I↓→DA↓→DA<Y→Y↓  $$\n",
    "\n",
    "* Parte Matematica.\n",
    "\n",
    "$$  Δr=\\dfrac{k*\\beta_0}{h*k-j*\\beta_1}-\\dfrac{\\beta_1}{h*k-j*\\beta_1}*\\dfrac{ΔM_0^s}{P_0}  $$\n",
    "\n",
    "\n",
    "$$  Δr=-\\dfrac{\\beta_1}{h*k-j*\\beta_1}*\\dfrac{ΔM_0^s}{P_0}  $$\n",
    "\n",
    "\n",
    "$$  Δr=-\\dfrac{\\beta_1}{(h*k-j*\\beta_1)*P_0}*\\dfrac{ΔM_0^s}{1}>0  $$\n",
    "\n",
    "\n",
    "$$  ΔY=\\dfrac{j*\\beta_0}{\\beta1*j+k*h}+\\dfrac{h}{\\beta_1*j+k*h}*\\dfrac{ΔM_0^s}{P_0}  $$\n",
    "\n",
    "\n",
    "$$  ΔY=\\dfrac{h}{\\beta_1*j*k*h}*\\dfrac{ΔM_0^s}{P_0}  $$\n",
    "\n",
    "\n",
    "$$  ΔY=\\dfrac{h}{(\\beta_1*j*k*h)*P_0}*\\dfrac{ΔM_0^s}{1}<0  $$"
   ]
  },
  {
   "cell_type": "markdown",
   "id": "b949cddc",
   "metadata": {},
   "source": [
    "* **Analice los efectos sobre las variables endógenas Y, r de un incremento de la tasa de impuestos.(Δt_0<0). El análisis debe ser intuitivo, matemático y gráfico.**"
   ]
  },
  {
   "cell_type": "code",
   "execution_count": 10,
   "id": "c884ce4f",
   "metadata": {},
   "outputs": [],
   "source": [
    "# Grafica de la curva IS\n",
    "##Parametros\n",
    "\n",
    "Y_size = 100 \n",
    "b = 0.69                \n",
    "m = 0.3                 \n",
    "t = 0.2                  \n",
    "C0 = 19                \n",
    "I0 = 18                 \n",
    "G0 = 30                  \n",
    "X0 = 15                  \n",
    "h =  0.7                  \n",
    "\n",
    "Y = np.arange(Y_size)\n",
    "\n",
    "def r_Is (b, m, t, C0, I0, G0, X0, h, Y):\n",
    "    r_Is= (C0 + I0 + G0 + X0 - Y*((1-(b-m)*(1-t))/h))\n",
    "    return r_Is\n",
    "\n",
    "def Y_s (b, m, t, C0, I0, G0, X0, h, r):\n",
    "    Y_s= (C0 + I0 + G0 + X0 - h*r)/(1-(b-m)*(1-t))\n",
    "    return Y_s\n",
    "\n",
    "r_Is = r_Is (b, m, t, C0, I0, G0, X0, h, Y)\n",
    "\n",
    "# Grafico de la curva LM\n",
    "##Parametros\n",
    "\n",
    "Y_size = 100\n",
    "\n",
    "Y_size = 100\n",
    "\n",
    "K = 13.35                \n",
    "J = 8.9              \n",
    "Ms = 8013            \n",
    "P  = 20                  \n",
    "\n",
    "Y = np.arange(Y_size)\n",
    "\n",
    "def LM( K, J, Ms, P, Y):\n",
    "    LM = ((-Ms/P)* 1/J + K/J*Y)\n",
    "    return LM\n",
    "\n",
    "LM = LM( K, J, Ms, P, Y)\n",
    "\n"
   ]
  },
  {
   "cell_type": "code",
   "execution_count": 11,
   "id": "cec58552",
   "metadata": {},
   "outputs": [],
   "source": [
    "# Grafica de la curva IS_2\n",
    "##Parametros\n",
    "\n",
    "Y_size = 100 \n",
    "b = 0.69                \n",
    "m = 0.3                 \n",
    "t = 0.8                  \n",
    "C0 = 19                \n",
    "I0 = 18                 \n",
    "G0 = 30                  \n",
    "X0 = 15                  \n",
    "h =  0.7                  \n",
    "\n",
    "Y = np.arange(Y_size)\n",
    "\n",
    "def r_Is2 (b, m, t, C0, I0, G0, X0, h, Y):\n",
    "    r_Is2= (C0 + I0 + G0 + X0 - Y*((1-(b-m)*(1-t))/h))\n",
    "    return r_Is2\n",
    "\n",
    "def Y_s2 (b, m, t, C0, I0, G0, X0, h, r):\n",
    "    Y_s2= (C0 + I0 + G0 + X0 - h*r)/(1-(b-m)*(1-t))\n",
    "    return Y2_s2\n",
    "\n",
    "r_Is2 = r_Is2 (b, m, t, C0, I0, G0, X0, h, Y)\n"
   ]
  },
  {
   "cell_type": "code",
   "execution_count": 12,
   "id": "8dc765af",
   "metadata": {},
   "outputs": [
    {
     "name": "stderr",
     "output_type": "stream",
     "text": [
      "C:\\Users\\USUARIO\\AppData\\Local\\Temp\\ipykernel_15280\\534550707.py:8: UserWarning: color is redundantly defined by the 'color' keyword argument and the fmt string \"k-\" (-> color='k'). The keyword argument will take precedence.\n",
      "  ax.plot(Y, r_Is, \"k-\", label = \"IS\", color = \"red\")\n",
      "C:\\Users\\USUARIO\\AppData\\Local\\Temp\\ipykernel_15280\\534550707.py:9: UserWarning: linestyle is redundantly defined by the 'linestyle' keyword argument and the fmt string \"k-\" (-> linestyle='-'). The keyword argument will take precedence.\n",
      "  ax.plot(Y, r_Is2, \"k-\", label = \"IS_2\", linestyle = \":\", color = \"red\")\n",
      "C:\\Users\\USUARIO\\AppData\\Local\\Temp\\ipykernel_15280\\534550707.py:9: UserWarning: color is redundantly defined by the 'color' keyword argument and the fmt string \"k-\" (-> color='k'). The keyword argument will take precedence.\n",
      "  ax.plot(Y, r_Is2, \"k-\", label = \"IS_2\", linestyle = \":\", color = \"red\")\n",
      "C:\\Users\\USUARIO\\AppData\\Local\\Temp\\ipykernel_15280\\534550707.py:10: UserWarning: color is redundantly defined by the 'color' keyword argument and the fmt string \"b-\" (-> color='b'). The keyword argument will take precedence.\n",
      "  ax.plot(Y, LM, \"b-\", label=\"LM\", color = \"blue\")\n"
     ]
    },
    {
     "data": {
      "image/png": "[encoded data removed]",
      "text/plain": [
       "<Figure size 720x576 with 1 Axes>"
      ]
     },
     "metadata": {},
     "output_type": "display_data"
    }
   ],
   "source": [
    "##Grafico interseccion de IS y LM\n",
    "\n",
    "y_max = np.max(LM)\n",
    "\n",
    "fig, ax = plt.subplots(figsize=(10, 8))\n",
    "ax.set(title=\"Efectos de un Aumento en la Tasa de Interes\", xlabel= r'Y', ylabel= r'r')\n",
    "\n",
    "ax.plot(Y, r_Is, \"k-\", label = \"IS\", color = \"red\")\n",
    "ax.plot(Y, r_Is2, \"k-\", label = \"IS_2\", linestyle = \":\", color = \"red\")\n",
    "ax.plot(Y, LM, \"b-\", label=\"LM\", color = \"blue\")\n",
    "\n",
    "ax.yaxis.set_major_locator(plt.NullLocator())   \n",
    "ax.xaxis.set_major_locator(plt.NullLocator())  \n",
    "\n",
    "plt.axvline(x=51.1,  ymin= 0, ymax= 0.52, linestyle = \":\", color = \"black\")\n",
    "plt.axhline(y=32, xmin= 0, xmax= 0.52, linestyle = \":\", color = \"black\")\n",
    "plt.plot(51, 32, marker=\"o\", color=\"black\", label = \"Eo\")\n",
    "plt.text(49,38, 'Eo', fontsize = 14, color = 'black')\n",
    "\n",
    "\n",
    "\n",
    "##Parametros interseccion IS2 y LM\n",
    "\n",
    "plt.axvline(x=45.17, ymin= 0, ymax= 0.45, linestyle = \":\", color = \"black\")\n",
    "plt.axhline(y=22.74, xmin= 0, xmax= 0.45, linestyle = \":\", color = \"black\")\n",
    "plt.plot(45.17, 22.74, marker=\"o\", color=\"black\", label = \"Eo\")\n",
    "plt.text(45.17, 25.74, 'E1', fontsize = 14, color = 'black')\n",
    "\n",
    "ax.legend()\n",
    "plt.show()"
   ]
  },
  {
   "cell_type": "markdown",
   "id": "6e587413",
   "metadata": {},
   "source": [
    "* Parte Intuitiva.\n",
    "\n",
    "$$  Δt>0  $$\n",
    "\n",
    "\n",
    "\n",
    "$$  t↑→b*(1-t)*Y↓→C↓→DA↓→DA<Y→Y↓  $$\n",
    "\n",
    "\n",
    "\n",
    "$$  Y↓→k*y↓→M^d↓→M^d<M^s→r↓  $$\n",
    "\n",
    "\n",
    "\n",
    "* Parte Matematica.\n",
    "\n",
    "\n",
    "$$  t↑→[(1-t)↓→(b-m)*(1-t)]↓→[1-(b-m)*(1-t)]↑→\\beta_1↑  $$\n",
    "\n",
    "\n",
    "$$  Δr=\\dfrac{k*\\beta_0}{k*h+j*Δ\\beta_1}-\\dfrac{Δ\\beta_1}{k*h+j*Δ\\beta_1}*\\dfrac{M_0^s}{P_0}<0  $$\n",
    "\n",
    "\n",
    "$$  ΔY=\\dfrac{j*\\beta_0}{k*h+j*Δ\\beta_1}+\\dfrac{h}{k*h+j*Δ\\beta_1}*\\dfrac{M_0^s}{P_0}<0  $$\n",
    "\n"
   ]
  },
  {
   "cell_type": "code",
   "execution_count": null,
   "id": "b0c3f093",
   "metadata": {},
   "outputs": [],
   "source": []
  }
 ],
 "metadata": {
  "kernelspec": {
   "display_name": "Python 3 (ipykernel)",
   "language": "python",
   "name": "python3"
  },
  "language_info": {
   "codemirror_mode": {
    "name": "ipython",
    "version": 3
   },
   "file_extension": ".py",
   "mimetype": "text/x-python",
   "name": "python",
   "nbconvert_exporter": "python",
   "pygments_lexer": "ipython3",
   "version": "3.9.12"
  }
 },
 "nbformat": 4,
 "nbformat_minor": 5
}
