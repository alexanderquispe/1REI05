{
 "cells": [
  {
   "cell_type": "markdown",
   "id": "8ece71b0",
   "metadata": {},
   "source": [
    "# REPORTE 8"
   ]
  },
  {
   "cell_type": "markdown",
   "id": "29cc51cd",
   "metadata": {},
   "source": [
    "- Con Luis Felipe Acosta (20143350)"
   ]
  },
  {
   "cell_type": "markdown",
   "id": "4b40195f",
   "metadata": {},
   "source": [
    "## PARTE LECTURA"
   ]
  },
  {
   "cell_type": "markdown",
   "id": "f034eaea",
   "metadata": {},
   "source": [
    "\n",
    "Los distintos sistemas de trabajo a lo largo de historia pueden afectar las dinámicas sociales y económicas de las diferentes épocas. La mita fue un sistema de trabajo obligatorio y que tenía mayor concurrencia en trabajos destinados a la extracción de minerales. En este sentido, el artículo histórico de Dell nos expone las implicancias de la práctica de la mita durante la época colonial en Bolivia y Perú. De esta manera, la pregunta de investigación de Dell sería: ¿Cuál es el impacto -a largo plazo- de la mita, como sistema de trabajo forzado, en las poblaciones en las que esta modalidad de trabajo fue más concurrida?.\n",
    "\n",
    "Una de las fortalezas del artículo es que, a pesar de la distancia histórica, expone las implicancias de la mita en las poblaciones afectadas por tal. En este sentido, los principales hallazgos de Dell serían que los efectos de la mita en las zonas previstas son negativas; lo que podría explicar las diferencias y precariedad de dichas zonas del Perú. Por otro lado, a pesar de la dificultad de ser un trabajo enfocado en una etapa histórica antigua, Dell hizo un buen trabajo al presentar una regresión discontinua. Asimismo, Dell supo delimitar muy bien el tema presentado: la MITA (sistema de trabajo geolocalizado en una región específica del mundo) en zonas mineras (aún más delimitado). Esta buena delimitación del tema genera mayor confianza en las conclusiones que se puedan obtener. Sin embargo, una debilidad del trabajo podría ser que no se tomó mucha atención a las diferencias dentro de la misma región, tanto culturales como las pequeñas diferencias que pudieron existir del sistema de trabajo estudiado.\n",
    "\n",
    "Por otro lado, el aporte del documento es que puede explicar y/o dar razones históricas a la precariedad y desigualdad en el país. Sin embargo, aunque el documento usa una regresión discontinua, se debieron tomar en consideración la distancia temporal y que, en esta, pueden haber muchísimas otras variables a tomar en cuenta. Sin embargo, esto no le quita solidez a su trabajo debido a que, la mita -como el autor ha expuesto- ha dañado a diversas comunidades sociales, siendo un factor a tomar en cuenta. \n",
    "\n",
    "Por último, un paso para avanzar a la pregunta de investigación podría ser el artículo de Bohórquez que demuestra las consecuencisa sociales y ambientales de la explotación de recursos mineros en Colombia, este artículo no se aleja dela región y además se puede contrastar con el artículo de Dell debido a que se puede reconocer y hacer un cuadro comparativo de similitudes y diferencias de los efectos y consecuencias de la explotación laboral en ambos casos. Este análisis sería ideal para poder analñizar el cambio después de tantos años de diferencia y también se podría estimar ciuertas consecuencias futuras para el segundo caso.\n",
    "\n",
    "BIBLIOGRAFÍA\n",
    "\n",
    "Dell, M. (2010). The persistent effects of Peru's mining mita. Econometrica, 78(6), 1863-1903\n",
    "\n",
    "Bohórquez Rozo, I. A. (2014). Normatividad para empresas de explotación de carbón en Colombia, sus efectos sociales y ambientales."
   ]
  },
  {
   "cell_type": "markdown",
   "id": "62272e3c",
   "metadata": {},
   "source": [
    "## PARTE PRÁCTICA"
   ]
  },
  {
   "cell_type": "code",
   "execution_count": 27,
   "id": "b6fa3e7b",
   "metadata": {},
   "outputs": [
    {
     "name": "stdout",
     "output_type": "stream",
     "text": [
      "Collecting plotnine\n",
      "  Downloading plotnine-0.10.1-py3-none-any.whl (1.2 MB)\n",
      "\u001b[K     |████████████████████████████████| 1.2 MB 4.5 MB/s eta 0:00:01\n",
      "\u001b[?25hRequirement already satisfied: pandas>=1.3.5 in /Users/lusarmiento/opt/anaconda3/lib/python3.9/site-packages (from plotnine) (1.4.2)\n",
      "Requirement already satisfied: numpy>=1.19.0 in /Users/lusarmiento/opt/anaconda3/lib/python3.9/site-packages (from plotnine) (1.21.5)\n",
      "Requirement already satisfied: statsmodels>=0.13.2 in /Users/lusarmiento/opt/anaconda3/lib/python3.9/site-packages (from plotnine) (0.13.2)\n",
      "Requirement already satisfied: matplotlib>=3.5.0 in /Users/lusarmiento/opt/anaconda3/lib/python3.9/site-packages (from plotnine) (3.5.1)\n",
      "Requirement already satisfied: scipy>=1.5.0 in /Users/lusarmiento/opt/anaconda3/lib/python3.9/site-packages (from plotnine) (1.7.3)\n",
      "Collecting mizani>=0.8.1\n",
      "  Downloading mizani-0.8.1-py3-none-any.whl (64 kB)\n",
      "\u001b[K     |████████████████████████████████| 64 kB 1.7 MB/s eta 0:00:01\n",
      "\u001b[?25hRequirement already satisfied: patsy>=0.5.1 in /Users/lusarmiento/opt/anaconda3/lib/python3.9/site-packages (from plotnine) (0.5.2)\n",
      "Requirement already satisfied: packaging>=20.0 in /Users/lusarmiento/opt/anaconda3/lib/python3.9/site-packages (from matplotlib>=3.5.0->plotnine) (21.3)\n",
      "Requirement already satisfied: pyparsing>=2.2.1 in /Users/lusarmiento/opt/anaconda3/lib/python3.9/site-packages (from matplotlib>=3.5.0->plotnine) (3.0.4)\n",
      "Requirement already satisfied: kiwisolver>=1.0.1 in /Users/lusarmiento/opt/anaconda3/lib/python3.9/site-packages (from matplotlib>=3.5.0->plotnine) (1.3.2)\n",
      "Requirement already satisfied: cycler>=0.10 in /Users/lusarmiento/opt/anaconda3/lib/python3.9/site-packages (from matplotlib>=3.5.0->plotnine) (0.11.0)\n",
      "Requirement already satisfied: fonttools>=4.22.0 in /Users/lusarmiento/opt/anaconda3/lib/python3.9/site-packages (from matplotlib>=3.5.0->plotnine) (4.25.0)\n",
      "Requirement already satisfied: pillow>=6.2.0 in /Users/lusarmiento/opt/anaconda3/lib/python3.9/site-packages (from matplotlib>=3.5.0->plotnine) (9.0.1)\n",
      "Requirement already satisfied: python-dateutil>=2.7 in /Users/lusarmiento/opt/anaconda3/lib/python3.9/site-packages (from matplotlib>=3.5.0->plotnine) (2.8.2)\n",
      "Collecting palettable\n",
      "  Downloading palettable-3.3.0-py2.py3-none-any.whl (111 kB)\n",
      "\u001b[K     |████████████████████████████████| 111 kB 9.4 MB/s eta 0:00:01\n",
      "\u001b[?25hRequirement already satisfied: pytz>=2020.1 in /Users/lusarmiento/opt/anaconda3/lib/python3.9/site-packages (from pandas>=1.3.5->plotnine) (2021.3)\n",
      "Requirement already satisfied: six in /Users/lusarmiento/opt/anaconda3/lib/python3.9/site-packages (from patsy>=0.5.1->plotnine) (1.16.0)\n",
      "Installing collected packages: palettable, mizani, plotnine\n",
      "Successfully installed mizani-0.8.1 palettable-3.3.0 plotnine-0.10.1\n",
      "Note: you may need to restart the kernel to use updated packages.\n"
     ]
    }
   ],
   "source": [
    "pip install plotnine"
   ]
  },
  {
   "cell_type": "code",
   "execution_count": 1,
   "id": "a8913fb5",
   "metadata": {
    "scrolled": false
   },
   "outputs": [
    {
     "name": "stdout",
     "output_type": "stream",
     "text": [
      "Collecting linearmodels\n",
      "  Downloading linearmodels-4.27-cp39-cp39-macosx_10_9_x86_64.whl (1.5 MB)\n",
      "\u001b[K     |████████████████████████████████| 1.5 MB 1.6 MB/s eta 0:00:01\n",
      "\u001b[?25hRequirement already satisfied: mypy-extensions>=0.4 in /Users/lusarmiento/opt/anaconda3/lib/python3.9/site-packages (from linearmodels) (0.4.3)\n",
      "Requirement already satisfied: pandas>=0.24 in /Users/lusarmiento/opt/anaconda3/lib/python3.9/site-packages (from linearmodels) (1.4.2)\n",
      "Collecting property-cached>=1.6.3\n",
      "  Downloading property_cached-1.6.4-py2.py3-none-any.whl (7.8 kB)\n",
      "Collecting formulaic~=0.3.2\n",
      "  Downloading formulaic-0.3.4-py3-none-any.whl (68 kB)\n",
      "\u001b[K     |████████████████████████████████| 68 kB 1.6 MB/s eta 0:00:01\n",
      "\u001b[?25hRequirement already satisfied: numpy>=1.16 in /Users/lusarmiento/opt/anaconda3/lib/python3.9/site-packages (from linearmodels) (1.21.5)\n",
      "Collecting setuptools-scm<7.0.0,>=6.4.2\n",
      "  Downloading setuptools_scm-6.4.2-py3-none-any.whl (37 kB)\n",
      "Requirement already satisfied: scipy>=1.2 in /Users/lusarmiento/opt/anaconda3/lib/python3.9/site-packages (from linearmodels) (1.7.3)\n",
      "Requirement already satisfied: Cython>=0.29.21 in /Users/lusarmiento/opt/anaconda3/lib/python3.9/site-packages (from linearmodels) (0.29.28)\n",
      "Requirement already satisfied: statsmodels>=0.11 in /Users/lusarmiento/opt/anaconda3/lib/python3.9/site-packages (from linearmodels) (0.13.2)\n",
      "Collecting pyhdfe>=0.1\n",
      "  Downloading pyhdfe-0.1.1-py3-none-any.whl (18 kB)\n",
      "Requirement already satisfied: wrapt>=1.0 in /Users/lusarmiento/opt/anaconda3/lib/python3.9/site-packages (from formulaic~=0.3.2->linearmodels) (1.12.1)\n",
      "Collecting astor>=0.8\n",
      "  Downloading astor-0.8.1-py2.py3-none-any.whl (27 kB)\n",
      "Collecting interface-meta<2.0.0,>=1.2.0\n",
      "  Downloading interface_meta-1.3.0-py3-none-any.whl (14 kB)\n",
      "Requirement already satisfied: python-dateutil>=2.8.1 in /Users/lusarmiento/opt/anaconda3/lib/python3.9/site-packages (from pandas>=0.24->linearmodels) (2.8.2)\n",
      "Requirement already satisfied: pytz>=2020.1 in /Users/lusarmiento/opt/anaconda3/lib/python3.9/site-packages (from pandas>=0.24->linearmodels) (2021.3)\n",
      "Requirement already satisfied: six>=1.5 in /Users/lusarmiento/opt/anaconda3/lib/python3.9/site-packages (from python-dateutil>=2.8.1->pandas>=0.24->linearmodels) (1.16.0)\n",
      "Requirement already satisfied: packaging>=20.0 in /Users/lusarmiento/opt/anaconda3/lib/python3.9/site-packages (from setuptools-scm<7.0.0,>=6.4.2->linearmodels) (21.3)\n",
      "Requirement already satisfied: setuptools in /Users/lusarmiento/opt/anaconda3/lib/python3.9/site-packages (from setuptools-scm<7.0.0,>=6.4.2->linearmodels) (61.2.0)\n",
      "Requirement already satisfied: tomli>=1.0.0 in /Users/lusarmiento/opt/anaconda3/lib/python3.9/site-packages (from setuptools-scm<7.0.0,>=6.4.2->linearmodels) (1.2.2)\n",
      "Requirement already satisfied: pyparsing!=3.0.5,>=2.0.2 in /Users/lusarmiento/opt/anaconda3/lib/python3.9/site-packages (from packaging>=20.0->setuptools-scm<7.0.0,>=6.4.2->linearmodels) (3.0.4)\n",
      "Requirement already satisfied: patsy>=0.5.2 in /Users/lusarmiento/opt/anaconda3/lib/python3.9/site-packages (from statsmodels>=0.11->linearmodels) (0.5.2)\n",
      "Installing collected packages: interface-meta, astor, setuptools-scm, pyhdfe, property-cached, formulaic, linearmodels\n",
      "Successfully installed astor-0.8.1 formulaic-0.3.4 interface-meta-1.3.0 linearmodels-4.27 property-cached-1.6.4 pyhdfe-0.1.1 setuptools-scm-6.4.2\n",
      "Note: you may need to restart the kernel to use updated packages.\n"
     ]
    }
   ],
   "source": [
    "pip install linearmodels"
   ]
  },
  {
   "cell_type": "code",
   "execution_count": 2,
   "id": "ccfde49b",
   "metadata": {
    "scrolled": false
   },
   "outputs": [
    {
     "name": "stdout",
     "output_type": "stream",
     "text": [
      "Requirement already satisfied: seaborn in /Users/lusarmiento/opt/anaconda3/lib/python3.9/site-packages (0.11.2)\n",
      "Requirement already satisfied: scipy>=1.0 in /Users/lusarmiento/opt/anaconda3/lib/python3.9/site-packages (from seaborn) (1.7.3)\n",
      "Requirement already satisfied: matplotlib>=2.2 in /Users/lusarmiento/opt/anaconda3/lib/python3.9/site-packages (from seaborn) (3.5.1)\n",
      "Requirement already satisfied: pandas>=0.23 in /Users/lusarmiento/opt/anaconda3/lib/python3.9/site-packages (from seaborn) (1.4.2)\n",
      "Requirement already satisfied: numpy>=1.15 in /Users/lusarmiento/opt/anaconda3/lib/python3.9/site-packages (from seaborn) (1.21.5)\n",
      "Requirement already satisfied: fonttools>=4.22.0 in /Users/lusarmiento/opt/anaconda3/lib/python3.9/site-packages (from matplotlib>=2.2->seaborn) (4.25.0)\n",
      "Requirement already satisfied: cycler>=0.10 in /Users/lusarmiento/opt/anaconda3/lib/python3.9/site-packages (from matplotlib>=2.2->seaborn) (0.11.0)\n",
      "Requirement already satisfied: packaging>=20.0 in /Users/lusarmiento/opt/anaconda3/lib/python3.9/site-packages (from matplotlib>=2.2->seaborn) (21.3)\n",
      "Requirement already satisfied: pillow>=6.2.0 in /Users/lusarmiento/opt/anaconda3/lib/python3.9/site-packages (from matplotlib>=2.2->seaborn) (9.0.1)\n",
      "Requirement already satisfied: python-dateutil>=2.7 in /Users/lusarmiento/opt/anaconda3/lib/python3.9/site-packages (from matplotlib>=2.2->seaborn) (2.8.2)\n",
      "Requirement already satisfied: pyparsing>=2.2.1 in /Users/lusarmiento/opt/anaconda3/lib/python3.9/site-packages (from matplotlib>=2.2->seaborn) (3.0.4)\n",
      "Requirement already satisfied: kiwisolver>=1.0.1 in /Users/lusarmiento/opt/anaconda3/lib/python3.9/site-packages (from matplotlib>=2.2->seaborn) (1.3.2)\n",
      "Requirement already satisfied: pytz>=2020.1 in /Users/lusarmiento/opt/anaconda3/lib/python3.9/site-packages (from pandas>=0.23->seaborn) (2021.3)\n",
      "Requirement already satisfied: six>=1.5 in /Users/lusarmiento/opt/anaconda3/lib/python3.9/site-packages (from python-dateutil>=2.7->matplotlib>=2.2->seaborn) (1.16.0)\n",
      "Note: you may need to restart the kernel to use updated packages.\n"
     ]
    }
   ],
   "source": [
    "pip install seaborn"
   ]
  },
  {
   "cell_type": "code",
   "execution_count": 30,
   "id": "9df61511",
   "metadata": {},
   "outputs": [],
   "source": [
    "import numpy as np \n",
    "import pandas as pd \n",
    "import statsmodels.api as sm \n",
    "import statsmodels.formula.api as smf \n",
    "from itertools import combinations \n",
    "import plotnine as p\n",
    "import seaborn as sns\n",
    "import matplotlib.pyplot as plt\n",
    "import linearmodels.iv.model as lm\n",
    "from linearmodels.iv import IV2SLS"
   ]
  },
  {
   "cell_type": "markdown",
   "id": "e265b3c5",
   "metadata": {},
   "source": [
    "### Instrumental Variables"
   ]
  },
  {
   "cell_type": "markdown",
   "id": "03da7474",
   "metadata": {},
   "source": [
    "El cumplimiento de los supuestos de las variables instrumentales son requeridos para que los instrumentales puedan funcionar. Estos supuestos son:\n",
    "\n",
    "- El supuesto de \"Relevance\": Este supuesto implica que se necesita de un grado considerable de correlación entre el tratamiento y el instrumento; en otras palabras, al menos en parte, el instrumento debe de poder explicar el tratamiento, porque sino es así, la estimación no funcionaría. En este sentido, se debe reconocer que hay cierta relación entre el instrumento y el tratamiento. \n",
    "\n",
    "- El supuesto de \"Validity\": Este supuesto contiene que el uso de la variable instrumental para reconocer un efecto del tratamiento debe estar regulado por observaciones al surgimiento de caminos alternativos que puedan invalidar la función del instrumento. Estos caminos son \"instrumento\" <- \"B\" -> \"Ycamino\" e \"instrumento\" -> \"A\" -> \"Ysendero\""
   ]
  },
  {
   "cell_type": "markdown",
   "id": "0cb8136c",
   "metadata": {},
   "source": [
    "### Ploteo de Histogramas"
   ]
  },
  {
   "cell_type": "markdown",
   "id": "d9f17ef9",
   "metadata": {},
   "source": [
    "- Grafique dos histogramas para la variable años de educación (educ) para cuando (nearc4) == 1, y cuando (nearc4) == 0. Compare y describa los patrones que encuentra."
   ]
  },
  {
   "cell_type": "code",
   "execution_count": 36,
   "id": "ce4aee0d",
   "metadata": {
    "scrolled": false
   },
   "outputs": [
    {
     "data": {
      "text/html": [
       "<div>\n",
       "<style scoped>\n",
       "    .dataframe tbody tr th:only-of-type {\n",
       "        vertical-align: middle;\n",
       "    }\n",
       "\n",
       "    .dataframe tbody tr th {\n",
       "        vertical-align: top;\n",
       "    }\n",
       "\n",
       "    .dataframe thead th {\n",
       "        text-align: right;\n",
       "    }\n",
       "</style>\n",
       "<table border=\"1\" class=\"dataframe\">\n",
       "  <thead>\n",
       "    <tr style=\"text-align: right;\">\n",
       "      <th></th>\n",
       "      <th>id</th>\n",
       "      <th>nearc2</th>\n",
       "      <th>nearc4</th>\n",
       "      <th>educ</th>\n",
       "      <th>age</th>\n",
       "      <th>fatheduc</th>\n",
       "      <th>motheduc</th>\n",
       "      <th>weight</th>\n",
       "      <th>momdad14</th>\n",
       "      <th>sinmom14</th>\n",
       "      <th>...</th>\n",
       "      <th>IQ</th>\n",
       "      <th>married</th>\n",
       "      <th>libcrd14</th>\n",
       "      <th>exper</th>\n",
       "      <th>lwage</th>\n",
       "      <th>expersq</th>\n",
       "      <th>u_lwage</th>\n",
       "      <th>lwage_hat</th>\n",
       "      <th>u_educ</th>\n",
       "      <th>college_in_county</th>\n",
       "    </tr>\n",
       "  </thead>\n",
       "  <tbody>\n",
       "    <tr>\n",
       "      <th>0</th>\n",
       "      <td>2.0</td>\n",
       "      <td>0.0</td>\n",
       "      <td>0.0</td>\n",
       "      <td>7.0</td>\n",
       "      <td>29.0</td>\n",
       "      <td>NaN</td>\n",
       "      <td>NaN</td>\n",
       "      <td>158413.0</td>\n",
       "      <td>1.0</td>\n",
       "      <td>0.0</td>\n",
       "      <td>...</td>\n",
       "      <td>NaN</td>\n",
       "      <td>1.0</td>\n",
       "      <td>0.0</td>\n",
       "      <td>16.0</td>\n",
       "      <td>6.306275</td>\n",
       "      <td>256.0</td>\n",
       "      <td>0.198047</td>\n",
       "      <td>6.108228</td>\n",
       "      <td>-3.067539</td>\n",
       "      <td>0</td>\n",
       "    </tr>\n",
       "    <tr>\n",
       "      <th>1</th>\n",
       "      <td>3.0</td>\n",
       "      <td>0.0</td>\n",
       "      <td>0.0</td>\n",
       "      <td>12.0</td>\n",
       "      <td>27.0</td>\n",
       "      <td>8.0</td>\n",
       "      <td>8.0</td>\n",
       "      <td>380166.0</td>\n",
       "      <td>1.0</td>\n",
       "      <td>0.0</td>\n",
       "      <td>...</td>\n",
       "      <td>93.0</td>\n",
       "      <td>1.0</td>\n",
       "      <td>1.0</td>\n",
       "      <td>9.0</td>\n",
       "      <td>6.175867</td>\n",
       "      <td>81.0</td>\n",
       "      <td>-0.211160</td>\n",
       "      <td>6.387027</td>\n",
       "      <td>-1.727562</td>\n",
       "      <td>0</td>\n",
       "    </tr>\n",
       "    <tr>\n",
       "      <th>2</th>\n",
       "      <td>4.0</td>\n",
       "      <td>0.0</td>\n",
       "      <td>0.0</td>\n",
       "      <td>12.0</td>\n",
       "      <td>34.0</td>\n",
       "      <td>14.0</td>\n",
       "      <td>12.0</td>\n",
       "      <td>367470.0</td>\n",
       "      <td>1.0</td>\n",
       "      <td>0.0</td>\n",
       "      <td>...</td>\n",
       "      <td>103.0</td>\n",
       "      <td>1.0</td>\n",
       "      <td>1.0</td>\n",
       "      <td>16.0</td>\n",
       "      <td>6.580639</td>\n",
       "      <td>256.0</td>\n",
       "      <td>0.204719</td>\n",
       "      <td>6.375920</td>\n",
       "      <td>1.012975</td>\n",
       "      <td>0</td>\n",
       "    </tr>\n",
       "    <tr>\n",
       "      <th>3</th>\n",
       "      <td>5.0</td>\n",
       "      <td>1.0</td>\n",
       "      <td>1.0</td>\n",
       "      <td>11.0</td>\n",
       "      <td>27.0</td>\n",
       "      <td>11.0</td>\n",
       "      <td>12.0</td>\n",
       "      <td>380166.0</td>\n",
       "      <td>1.0</td>\n",
       "      <td>0.0</td>\n",
       "      <td>...</td>\n",
       "      <td>88.0</td>\n",
       "      <td>1.0</td>\n",
       "      <td>1.0</td>\n",
       "      <td>10.0</td>\n",
       "      <td>5.521461</td>\n",
       "      <td>100.0</td>\n",
       "      <td>-0.967905</td>\n",
       "      <td>6.489366</td>\n",
       "      <td>-2.253536</td>\n",
       "      <td>1</td>\n",
       "    </tr>\n",
       "    <tr>\n",
       "      <th>4</th>\n",
       "      <td>6.0</td>\n",
       "      <td>1.0</td>\n",
       "      <td>1.0</td>\n",
       "      <td>12.0</td>\n",
       "      <td>34.0</td>\n",
       "      <td>8.0</td>\n",
       "      <td>7.0</td>\n",
       "      <td>367470.0</td>\n",
       "      <td>1.0</td>\n",
       "      <td>0.0</td>\n",
       "      <td>...</td>\n",
       "      <td>108.0</td>\n",
       "      <td>1.0</td>\n",
       "      <td>0.0</td>\n",
       "      <td>16.0</td>\n",
       "      <td>6.591674</td>\n",
       "      <td>256.0</td>\n",
       "      <td>0.125173</td>\n",
       "      <td>6.466501</td>\n",
       "      <td>1.090437</td>\n",
       "      <td>1</td>\n",
       "    </tr>\n",
       "    <tr>\n",
       "      <th>...</th>\n",
       "      <td>...</td>\n",
       "      <td>...</td>\n",
       "      <td>...</td>\n",
       "      <td>...</td>\n",
       "      <td>...</td>\n",
       "      <td>...</td>\n",
       "      <td>...</td>\n",
       "      <td>...</td>\n",
       "      <td>...</td>\n",
       "      <td>...</td>\n",
       "      <td>...</td>\n",
       "      <td>...</td>\n",
       "      <td>...</td>\n",
       "      <td>...</td>\n",
       "      <td>...</td>\n",
       "      <td>...</td>\n",
       "      <td>...</td>\n",
       "      <td>...</td>\n",
       "      <td>...</td>\n",
       "      <td>...</td>\n",
       "      <td>...</td>\n",
       "    </tr>\n",
       "    <tr>\n",
       "      <th>3005</th>\n",
       "      <td>5218.0</td>\n",
       "      <td>0.0</td>\n",
       "      <td>1.0</td>\n",
       "      <td>12.0</td>\n",
       "      <td>25.0</td>\n",
       "      <td>8.0</td>\n",
       "      <td>12.0</td>\n",
       "      <td>82135.0</td>\n",
       "      <td>1.0</td>\n",
       "      <td>0.0</td>\n",
       "      <td>...</td>\n",
       "      <td>NaN</td>\n",
       "      <td>1.0</td>\n",
       "      <td>0.0</td>\n",
       "      <td>7.0</td>\n",
       "      <td>5.814130</td>\n",
       "      <td>49.0</td>\n",
       "      <td>-0.289775</td>\n",
       "      <td>6.103905</td>\n",
       "      <td>-1.505588</td>\n",
       "      <td>1</td>\n",
       "    </tr>\n",
       "    <tr>\n",
       "      <th>3006</th>\n",
       "      <td>5219.0</td>\n",
       "      <td>0.0</td>\n",
       "      <td>1.0</td>\n",
       "      <td>13.0</td>\n",
       "      <td>34.0</td>\n",
       "      <td>NaN</td>\n",
       "      <td>NaN</td>\n",
       "      <td>88765.0</td>\n",
       "      <td>1.0</td>\n",
       "      <td>0.0</td>\n",
       "      <td>...</td>\n",
       "      <td>NaN</td>\n",
       "      <td>1.0</td>\n",
       "      <td>1.0</td>\n",
       "      <td>15.0</td>\n",
       "      <td>6.175867</td>\n",
       "      <td>225.0</td>\n",
       "      <td>-0.137418</td>\n",
       "      <td>6.313285</td>\n",
       "      <td>2.214089</td>\n",
       "      <td>1</td>\n",
       "    </tr>\n",
       "    <tr>\n",
       "      <th>3007</th>\n",
       "      <td>5220.0</td>\n",
       "      <td>0.0</td>\n",
       "      <td>1.0</td>\n",
       "      <td>12.0</td>\n",
       "      <td>24.0</td>\n",
       "      <td>11.0</td>\n",
       "      <td>NaN</td>\n",
       "      <td>89271.0</td>\n",
       "      <td>0.0</td>\n",
       "      <td>0.0</td>\n",
       "      <td>...</td>\n",
       "      <td>109.0</td>\n",
       "      <td>1.0</td>\n",
       "      <td>0.0</td>\n",
       "      <td>6.0</td>\n",
       "      <td>6.214608</td>\n",
       "      <td>36.0</td>\n",
       "      <td>0.135805</td>\n",
       "      <td>6.078803</td>\n",
       "      <td>-1.907211</td>\n",
       "      <td>1</td>\n",
       "    </tr>\n",
       "    <tr>\n",
       "      <th>3008</th>\n",
       "      <td>5221.0</td>\n",
       "      <td>0.0</td>\n",
       "      <td>1.0</td>\n",
       "      <td>12.0</td>\n",
       "      <td>31.0</td>\n",
       "      <td>NaN</td>\n",
       "      <td>NaN</td>\n",
       "      <td>110376.0</td>\n",
       "      <td>1.0</td>\n",
       "      <td>0.0</td>\n",
       "      <td>...</td>\n",
       "      <td>107.0</td>\n",
       "      <td>1.0</td>\n",
       "      <td>1.0</td>\n",
       "      <td>13.0</td>\n",
       "      <td>6.569481</td>\n",
       "      <td>169.0</td>\n",
       "      <td>0.408375</td>\n",
       "      <td>6.161106</td>\n",
       "      <td>0.868737</td>\n",
       "      <td>1</td>\n",
       "    </tr>\n",
       "    <tr>\n",
       "      <th>3009</th>\n",
       "      <td>5225.0</td>\n",
       "      <td>0.0</td>\n",
       "      <td>1.0</td>\n",
       "      <td>13.0</td>\n",
       "      <td>26.0</td>\n",
       "      <td>NaN</td>\n",
       "      <td>NaN</td>\n",
       "      <td>81081.0</td>\n",
       "      <td>0.0</td>\n",
       "      <td>0.0</td>\n",
       "      <td>...</td>\n",
       "      <td>NaN</td>\n",
       "      <td>1.0</td>\n",
       "      <td>0.0</td>\n",
       "      <td>7.0</td>\n",
       "      <td>6.263398</td>\n",
       "      <td>49.0</td>\n",
       "      <td>0.427185</td>\n",
       "      <td>5.836213</td>\n",
       "      <td>0.413897</td>\n",
       "      <td>1</td>\n",
       "    </tr>\n",
       "  </tbody>\n",
       "</table>\n",
       "<p>3010 rows × 38 columns</p>\n",
       "</div>"
      ],
      "text/plain": [
       "          id  nearc2  nearc4  educ   age  fatheduc  motheduc    weight  \\\n",
       "0        2.0     0.0     0.0   7.0  29.0       NaN       NaN  158413.0   \n",
       "1        3.0     0.0     0.0  12.0  27.0       8.0       8.0  380166.0   \n",
       "2        4.0     0.0     0.0  12.0  34.0      14.0      12.0  367470.0   \n",
       "3        5.0     1.0     1.0  11.0  27.0      11.0      12.0  380166.0   \n",
       "4        6.0     1.0     1.0  12.0  34.0       8.0       7.0  367470.0   \n",
       "...      ...     ...     ...   ...   ...       ...       ...       ...   \n",
       "3005  5218.0     0.0     1.0  12.0  25.0       8.0      12.0   82135.0   \n",
       "3006  5219.0     0.0     1.0  13.0  34.0       NaN       NaN   88765.0   \n",
       "3007  5220.0     0.0     1.0  12.0  24.0      11.0       NaN   89271.0   \n",
       "3008  5221.0     0.0     1.0  12.0  31.0       NaN       NaN  110376.0   \n",
       "3009  5225.0     0.0     1.0  13.0  26.0       NaN       NaN   81081.0   \n",
       "\n",
       "      momdad14  sinmom14  ...     IQ  married  libcrd14  exper     lwage  \\\n",
       "0          1.0       0.0  ...    NaN      1.0       0.0   16.0  6.306275   \n",
       "1          1.0       0.0  ...   93.0      1.0       1.0    9.0  6.175867   \n",
       "2          1.0       0.0  ...  103.0      1.0       1.0   16.0  6.580639   \n",
       "3          1.0       0.0  ...   88.0      1.0       1.0   10.0  5.521461   \n",
       "4          1.0       0.0  ...  108.0      1.0       0.0   16.0  6.591674   \n",
       "...        ...       ...  ...    ...      ...       ...    ...       ...   \n",
       "3005       1.0       0.0  ...    NaN      1.0       0.0    7.0  5.814130   \n",
       "3006       1.0       0.0  ...    NaN      1.0       1.0   15.0  6.175867   \n",
       "3007       0.0       0.0  ...  109.0      1.0       0.0    6.0  6.214608   \n",
       "3008       1.0       0.0  ...  107.0      1.0       1.0   13.0  6.569481   \n",
       "3009       0.0       0.0  ...    NaN      1.0       0.0    7.0  6.263398   \n",
       "\n",
       "      expersq   u_lwage  lwage_hat    u_educ  college_in_county  \n",
       "0       256.0  0.198047   6.108228 -3.067539                  0  \n",
       "1        81.0 -0.211160   6.387027 -1.727562                  0  \n",
       "2       256.0  0.204719   6.375920  1.012975                  0  \n",
       "3       100.0 -0.967905   6.489366 -2.253536                  1  \n",
       "4       256.0  0.125173   6.466501  1.090437                  1  \n",
       "...       ...       ...        ...       ...                ...  \n",
       "3005     49.0 -0.289775   6.103905 -1.505588                  1  \n",
       "3006    225.0 -0.137418   6.313285  2.214089                  1  \n",
       "3007     36.0  0.135805   6.078803 -1.907211                  1  \n",
       "3008    169.0  0.408375   6.161106  0.868737                  1  \n",
       "3009     49.0  0.427185   5.836213  0.413897                  1  \n",
       "\n",
       "[3010 rows x 38 columns]"
      ]
     },
     "execution_count": 36,
     "metadata": {},
     "output_type": "execute_result"
    }
   ],
   "source": [
    "import ssl\n",
    "ssl._create_default_https_context = ssl._create_unverified_context\n",
    "\n",
    "def read_data(file): \n",
    "    return pd.read_stata(\"https://raw.github.com/scunning1975/mixtape/master/\" + file)\n",
    "\n",
    "card = read_data(\"card.dta\")\n",
    "card.head()\n",
    "\n",
    "#Table2\n",
    "card2 = (card\n",
    " .assign(college_in_county = np.select(\n",
    "     [card[\"nearc4\"].astype(bool)],\n",
    "     [\"1\"],\n",
    "      default=\"0\"\n",
    " )))\n",
    "card2"
   ]
  },
  {
   "cell_type": "code",
   "execution_count": 43,
   "id": "04d49583",
   "metadata": {
    "scrolled": false
   },
   "outputs": [
    {
     "data": {
      "text/plain": [
       "<Figure size 1008x720 with 0 Axes>"
      ]
     },
     "metadata": {},
     "output_type": "display_data"
    },
    {
     "data": {
      "image/png": "[encoded data removed]",
      "text/plain": [
       "<Figure size 360x360 with 1 Axes>"
      ]
     },
     "metadata": {
      "needs_background": "light"
     },
     "output_type": "display_data"
    }
   ],
   "source": [
    "plt.figure(figsize=(14,10))\n",
    "\n",
    "nearc4=card.loc[card['nearc4']==1]\n",
    "ax = sns.displot(nearc4,x=\"educ\")\n",
    "\n",
    "plt.title('nearc4')\n",
    "plt.xlabel('educ')\n",
    "plt.ylabel('Count')\n",
    "plt.show()"
   ]
  },
  {
   "cell_type": "code",
   "execution_count": 44,
   "id": "5fe000f0",
   "metadata": {
    "scrolled": false
   },
   "outputs": [
    {
     "data": {
      "text/plain": [
       "<Figure size 1008x720 with 0 Axes>"
      ]
     },
     "metadata": {},
     "output_type": "display_data"
    },
    {
     "data": {
      "image/png": "[encoded data removed]",
      "text/plain": [
       "<Figure size 360x360 with 1 Axes>"
      ]
     },
     "metadata": {
      "needs_background": "light"
     },
     "output_type": "display_data"
    }
   ],
   "source": [
    "plt.figure(figsize=(14,10))\n",
    "\n",
    "nearc4=card.loc[card['nearc4']==0]\n",
    "ax = sns.displot(nearc4,x=\"educ\")\n",
    "\n",
    "plt.title('nearc4')\n",
    "plt.xlabel('educ')\n",
    "plt.ylabel('Count')\n",
    "plt.show()"
   ]
  },
  {
   "cell_type": "markdown",
   "id": "8a1a6435",
   "metadata": {},
   "source": [
    "Comparando y describiendo: Se puede evidenciar que la variable educación varía de manera diferente cuando (nearc4) == 1 y cuando (nearc4) == 0. De manera general hay una evidencia clara: la mayoría de personas, a pesar de la variable nearc4, llegan a los 12 años de educación, en el cual se encuentra un pico acumulativo de personas con esa educación en años. Asimismo, también se aprecia que cuando nearc4 es 1, la tendencia a que las personas estudien más años aumenta, mientras que, cuando la misma variable es 0, la tendencia a que las personas estudien más años si bien aumenta, es menor en comparación a la otra gráfica. Por otro lado, también se puede notar que un porcentaje reducido de la población tiene 10 o menos años de estudio y que, por ende, la mayor parte de la población tiene más de 12 años de estudio, disminuyendo este con los años. Por último, en ambos gráficos  se reconoce un gran porcentaje de personas que estudiaron 16 años."
   ]
  },
  {
   "cell_type": "markdown",
   "id": "b83cb968",
   "metadata": {},
   "source": [
    "- Grafique dos histogramas para la variable años del logaritmos de los ingresos (lwage) para cuando (nearc4) == 1, y cuando (nearc4) == 0. Compare y describa los patrones que encuentra."
   ]
  },
  {
   "cell_type": "code",
   "execution_count": 41,
   "id": "d2cf97d9",
   "metadata": {
    "scrolled": false
   },
   "outputs": [
    {
     "data": {
      "text/plain": [
       "<Figure size 1008x720 with 0 Axes>"
      ]
     },
     "metadata": {},
     "output_type": "display_data"
    },
    {
     "data": {
      "image/png": "[encoded data removed]",
      "text/plain": [
       "<Figure size 360x360 with 1 Axes>"
      ]
     },
     "metadata": {
      "needs_background": "light"
     },
     "output_type": "display_data"
    }
   ],
   "source": [
    "plt.figure(figsize=(14,10))\n",
    "\n",
    "nearc4=card.loc[card['nearc4']==1]\n",
    "ax = sns.displot(nearc4,x=\"lwage\")\n",
    "\n",
    "plt.title('nearc4')\n",
    "plt.xlabel('lwage')\n",
    "plt.ylabel('Count')\n",
    "plt.show()"
   ]
  },
  {
   "cell_type": "code",
   "execution_count": 42,
   "id": "2efe575d",
   "metadata": {
    "scrolled": false
   },
   "outputs": [
    {
     "data": {
      "text/plain": [
       "<Figure size 1008x720 with 0 Axes>"
      ]
     },
     "metadata": {},
     "output_type": "display_data"
    },
    {
     "data": {
      "image/png": "[encoded data removed]",
      "text/plain": [
       "<Figure size 360x360 with 1 Axes>"
      ]
     },
     "metadata": {
      "needs_background": "light"
     },
     "output_type": "display_data"
    }
   ],
   "source": [
    "plt.figure(figsize=(14,10))\n",
    "\n",
    "nearc4=card.loc[card['nearc4']==0]\n",
    "ax = sns.displot(nearc4,x=\"lwage\")\n",
    "\n",
    "plt.title('nearc4')\n",
    "plt.xlabel('lwage')\n",
    "plt.ylabel('Count')\n",
    "plt.show()"
   ]
  },
  {
   "cell_type": "markdown",
   "id": "a85a2cef",
   "metadata": {},
   "source": [
    "Comparando y describiendo: Se puede evidenciar que la variable ingresos varía de manera diferente cuando (nearc4) == 1 y cuando (nearc4) == 0. De manera general se puede visualizar que el efecto de nearc4 es bastante claro. En primer lugar, cuando nearc4 es 1, la mayoría de personas tienen a tener un salario alto; mientras que cuando nearc4 es 0 esto varía y, en realidad, se podría decir que hay una cantidad similiar de personas que tienen un menor y mayor salario. Por otro lado, en el segundo caso no hay personas que pasen los 7.5 de salario, mientras que en el primer caso sí los hay. Asimismo, en ambas partes, pero en proporción distinta, hay personas con un salario bajo."
   ]
  },
  {
   "cell_type": "markdown",
   "id": "d4b4fa89",
   "metadata": {},
   "source": [
    "### Regresiones"
   ]
  },
  {
   "cell_type": "markdown",
   "id": "f015c8c6",
   "metadata": {},
   "source": [
    "- Corran una regresion lineal del tipo \"lwage ~ educ + exper + black + south + married + smsa\", y expliquen los resultados que encuentran."
   ]
  },
  {
   "cell_type": "code",
   "execution_count": 19,
   "id": "db38d155",
   "metadata": {
    "scrolled": false
   },
   "outputs": [
    {
     "data": {
      "text/html": [
       "<table class=\"simpletable\">\n",
       "<caption>OLS Regression Results</caption>\n",
       "<tr>\n",
       "  <th>Dep. Variable:</th>          <td>lwage</td>      <th>  R-squared:         </th> <td>   0.305</td> \n",
       "</tr>\n",
       "<tr>\n",
       "  <th>Model:</th>                   <td>OLS</td>       <th>  Adj. R-squared:    </th> <td>   0.304</td> \n",
       "</tr>\n",
       "<tr>\n",
       "  <th>Method:</th>             <td>Least Squares</td>  <th>  F-statistic:       </th> <td>   219.2</td> \n",
       "</tr>\n",
       "<tr>\n",
       "  <th>Date:</th>             <td>Sun, 13 Nov 2022</td> <th>  Prob (F-statistic):</th> <td>1.97e-232</td>\n",
       "</tr>\n",
       "<tr>\n",
       "  <th>Time:</th>                 <td>12:31:29</td>     <th>  Log-Likelihood:    </th> <td> -1273.9</td> \n",
       "</tr>\n",
       "<tr>\n",
       "  <th>No. Observations:</th>      <td>  3003</td>      <th>  AIC:               </th> <td>   2562.</td> \n",
       "</tr>\n",
       "<tr>\n",
       "  <th>Df Residuals:</th>          <td>  2996</td>      <th>  BIC:               </th> <td>   2604.</td> \n",
       "</tr>\n",
       "<tr>\n",
       "  <th>Df Model:</th>              <td>     6</td>      <th>                     </th>     <td> </td>    \n",
       "</tr>\n",
       "<tr>\n",
       "  <th>Covariance Type:</th>      <td>nonrobust</td>    <th>                     </th>     <td> </td>    \n",
       "</tr>\n",
       "</table>\n",
       "<table class=\"simpletable\">\n",
       "<tr>\n",
       "      <td></td>         <th>coef</th>     <th>std err</th>      <th>t</th>      <th>P>|t|</th>  <th>[0.025</th>    <th>0.975]</th>  \n",
       "</tr>\n",
       "<tr>\n",
       "  <th>Intercept</th> <td>    5.0633</td> <td>    0.064</td> <td>   79.437</td> <td> 0.000</td> <td>    4.938</td> <td>    5.188</td>\n",
       "</tr>\n",
       "<tr>\n",
       "  <th>educ</th>      <td>    0.0712</td> <td>    0.003</td> <td>   20.438</td> <td> 0.000</td> <td>    0.064</td> <td>    0.078</td>\n",
       "</tr>\n",
       "<tr>\n",
       "  <th>exper</th>     <td>    0.0342</td> <td>    0.002</td> <td>   15.422</td> <td> 0.000</td> <td>    0.030</td> <td>    0.038</td>\n",
       "</tr>\n",
       "<tr>\n",
       "  <th>black</th>     <td>   -0.1660</td> <td>    0.018</td> <td>   -9.426</td> <td> 0.000</td> <td>   -0.201</td> <td>   -0.131</td>\n",
       "</tr>\n",
       "<tr>\n",
       "  <th>south</th>     <td>   -0.1316</td> <td>    0.015</td> <td>   -8.788</td> <td> 0.000</td> <td>   -0.161</td> <td>   -0.102</td>\n",
       "</tr>\n",
       "<tr>\n",
       "  <th>married</th>   <td>   -0.0359</td> <td>    0.003</td> <td>  -10.547</td> <td> 0.000</td> <td>   -0.043</td> <td>   -0.029</td>\n",
       "</tr>\n",
       "<tr>\n",
       "  <th>smsa</th>      <td>    0.1758</td> <td>    0.015</td> <td>   11.372</td> <td> 0.000</td> <td>    0.145</td> <td>    0.206</td>\n",
       "</tr>\n",
       "</table>\n",
       "<table class=\"simpletable\">\n",
       "<tr>\n",
       "  <th>Omnibus:</th>       <td>53.196</td> <th>  Durbin-Watson:     </th> <td>   1.858</td>\n",
       "</tr>\n",
       "<tr>\n",
       "  <th>Prob(Omnibus):</th> <td> 0.000</td> <th>  Jarque-Bera (JB):  </th> <td>  69.430</td>\n",
       "</tr>\n",
       "<tr>\n",
       "  <th>Skew:</th>          <td>-0.231</td> <th>  Prob(JB):          </th> <td>8.38e-16</td>\n",
       "</tr>\n",
       "<tr>\n",
       "  <th>Kurtosis:</th>      <td> 3.584</td> <th>  Cond. No.          </th> <td>    154.</td>\n",
       "</tr>\n",
       "</table><br/><br/>Notes:<br/>[1] Standard Errors assume that the covariance matrix of the errors is correctly specified."
      ],
      "text/plain": [
       "<class 'statsmodels.iolib.summary.Summary'>\n",
       "\"\"\"\n",
       "                            OLS Regression Results                            \n",
       "==============================================================================\n",
       "Dep. Variable:                  lwage   R-squared:                       0.305\n",
       "Model:                            OLS   Adj. R-squared:                  0.304\n",
       "Method:                 Least Squares   F-statistic:                     219.2\n",
       "Date:                Sun, 13 Nov 2022   Prob (F-statistic):          1.97e-232\n",
       "Time:                        12:31:29   Log-Likelihood:                -1273.9\n",
       "No. Observations:                3003   AIC:                             2562.\n",
       "Df Residuals:                    2996   BIC:                             2604.\n",
       "Df Model:                           6                                         \n",
       "Covariance Type:            nonrobust                                         \n",
       "==============================================================================\n",
       "                 coef    std err          t      P>|t|      [0.025      0.975]\n",
       "------------------------------------------------------------------------------\n",
       "Intercept      5.0633      0.064     79.437      0.000       4.938       5.188\n",
       "educ           0.0712      0.003     20.438      0.000       0.064       0.078\n",
       "exper          0.0342      0.002     15.422      0.000       0.030       0.038\n",
       "black         -0.1660      0.018     -9.426      0.000      -0.201      -0.131\n",
       "south         -0.1316      0.015     -8.788      0.000      -0.161      -0.102\n",
       "married       -0.0359      0.003    -10.547      0.000      -0.043      -0.029\n",
       "smsa           0.1758      0.015     11.372      0.000       0.145       0.206\n",
       "==============================================================================\n",
       "Omnibus:                       53.196   Durbin-Watson:                   1.858\n",
       "Prob(Omnibus):                  0.000   Jarque-Bera (JB):               69.430\n",
       "Skew:                          -0.231   Prob(JB):                     8.38e-16\n",
       "Kurtosis:                       3.584   Cond. No.                         154.\n",
       "==============================================================================\n",
       "\n",
       "Notes:\n",
       "[1] Standard Errors assume that the covariance matrix of the errors is correctly specified.\n",
       "\"\"\""
      ]
     },
     "execution_count": 19,
     "metadata": {},
     "output_type": "execute_result"
    }
   ],
   "source": [
    "#OLS\n",
    "ols_reg = sm.OLS.from_formula(\"lwage ~ educ + exper + black + south + married + smsa\", \n",
    "              data = card).fit()\n",
    "\n",
    "ols_reg.summary()"
   ]
  },
  {
   "cell_type": "markdown",
   "id": "f7f61130",
   "metadata": {},
   "source": [
    "Resultados: Tras la regresión lineal se puede el efecto de las variables independientes. Primero, educ, exper y smsa son las variables que tienen un relación directa con lwage; mientras que black, south y married  tienen una relación inversa con la misma.\n",
    "En este sentido también se puede decir que:\n",
    "\n",
    "- cuando educación aumenta en uno, lwage (o el nivel de ingresos) aumentaría en 0.07\n",
    "- cuando exper aumenta en uno, lwage aumenta en 0.03\n",
    "- cuando smsa aumenta en uno, lwage aumenta en 0.17\n",
    "- cuando black aumenta en uno, lwage disminuye en 0.16\n",
    "- cuando south aumenta en uno, lwage disminuye en 0.13\n",
    "- y, finalmente, cuando married aumenta en uno, lwage disminuye en 0.03\n",
    "\n",
    "Después de lo mencionado se expone que la variable smsa es la que más hace variar a lwage. Asimismo, también se puede notar que el modelo explica en un 30% a la variable dependiente."
   ]
  },
  {
   "cell_type": "markdown",
   "id": "927766f3",
   "metadata": {},
   "source": [
    "- Corran una regresion de tipo IV (usando el paquete IV2SLS) donde van a instrumentalizar la variable (educ) con (nearc2). La regressión debería tener una forma de este tipo \"lwage ~ 1 + exper + black + south + married + smsa + [educ ~ nearc4]\". Compare los resultados encontrados en la regresión de arriba. Cambió el coeficiente relacionado a (educ), ¿por qué?"
   ]
  },
  {
   "cell_type": "code",
   "execution_count": 20,
   "id": "440fa3b4",
   "metadata": {},
   "outputs": [
    {
     "name": "stderr",
     "output_type": "stream",
     "text": [
      "/Users/lusarmiento/opt/anaconda3/lib/python3.9/site-packages/linearmodels/iv/model.py:543: MissingValueWarning: \n",
      "Inputs contain missing values. Dropping rows with missing observations.\n",
      "  super().__init__(\n"
     ]
    },
    {
     "data": {
      "text/html": [
       "<table class=\"simpletable\">\n",
       "<caption>IV-2SLS Estimation Summary</caption>\n",
       "<tr>\n",
       "  <th>Dep. Variable:</th>          <td>lwage</td>      <th>  R-squared:         </th> <td>0.2513</td> \n",
       "</tr>\n",
       "<tr>\n",
       "  <th>Estimator:</th>             <td>IV-2SLS</td>     <th>  Adj. R-squared:    </th> <td>0.2498</td> \n",
       "</tr>\n",
       "<tr>\n",
       "  <th>No. Observations:</th>       <td>3003</td>       <th>  F-statistic:       </th> <td>892.71</td> \n",
       "</tr>\n",
       "<tr>\n",
       "  <th>Date:</th>             <td>Sun, Nov 13 2022</td> <th>  P-value (F-stat)   </th> <td>0.0000</td> \n",
       "</tr>\n",
       "<tr>\n",
       "  <th>Time:</th>                 <td>12:34:28</td>     <th>  Distribution:      </th> <td>chi2(6)</td>\n",
       "</tr>\n",
       "<tr>\n",
       "  <th>Cov. Estimator:</th>        <td>robust</td>      <th>                     </th>    <td></td>    \n",
       "</tr>\n",
       "<tr>\n",
       "  <th></th>                          <td></td>         <th>                     </th>    <td></td>    \n",
       "</tr>\n",
       "</table>\n",
       "<table class=\"simpletable\">\n",
       "<caption>Parameter Estimates</caption>\n",
       "<tr>\n",
       "      <td></td>      <th>Parameter</th> <th>Std. Err.</th> <th>T-stat</th>  <th>P-value</th> <th>Lower CI</th> <th>Upper CI</th>\n",
       "</tr>\n",
       "<tr>\n",
       "  <th>Intercept</th>  <td>4.1625</td>    <td>0.8349</td>   <td>4.9857</td>  <td>0.0000</td>   <td>2.5262</td>   <td>5.7988</td> \n",
       "</tr>\n",
       "<tr>\n",
       "  <th>black</th>      <td>-0.1157</td>   <td>0.0496</td>   <td>-2.3343</td> <td>0.0196</td>   <td>-0.2128</td>  <td>-0.0186</td>\n",
       "</tr>\n",
       "<tr>\n",
       "  <th>exper</th>      <td>0.0556</td>    <td>0.0199</td>   <td>2.7980</td>  <td>0.0051</td>   <td>0.0166</td>   <td>0.0945</td> \n",
       "</tr>\n",
       "<tr>\n",
       "  <th>married</th>    <td>-0.0320</td>   <td>0.0051</td>   <td>-6.3037</td> <td>0.0000</td>   <td>-0.0419</td>  <td>-0.0220</td>\n",
       "</tr>\n",
       "<tr>\n",
       "  <th>smsa</th>       <td>0.1477</td>    <td>0.0303</td>   <td>4.8721</td>  <td>0.0000</td>   <td>0.0883</td>   <td>0.2071</td> \n",
       "</tr>\n",
       "<tr>\n",
       "  <th>south</th>      <td>-0.1132</td>   <td>0.0229</td>   <td>-4.9314</td> <td>0.0000</td>   <td>-0.1581</td>  <td>-0.0682</td>\n",
       "</tr>\n",
       "<tr>\n",
       "  <th>educ</th>       <td>0.1242</td>    <td>0.0492</td>   <td>2.5258</td>  <td>0.0115</td>   <td>0.0278</td>   <td>0.2205</td> \n",
       "</tr>\n",
       "</table><br/><br/>Endogenous: educ<br/>Instruments: nearc4<br/>Robust Covariance (Heteroskedastic)<br/>Debiased: False"
      ],
      "text/plain": [
       "<class 'linearmodels.compat.statsmodels.Summary'>\n",
       "\"\"\"\n",
       "                          IV-2SLS Estimation Summary                          \n",
       "==============================================================================\n",
       "Dep. Variable:                  lwage   R-squared:                      0.2513\n",
       "Estimator:                    IV-2SLS   Adj. R-squared:                 0.2498\n",
       "No. Observations:                3003   F-statistic:                    892.71\n",
       "Date:                Sun, Nov 13 2022   P-value (F-stat)                0.0000\n",
       "Time:                        12:34:28   Distribution:                  chi2(6)\n",
       "Cov. Estimator:                robust                                         \n",
       "                                                                              \n",
       "                             Parameter Estimates                              \n",
       "==============================================================================\n",
       "            Parameter  Std. Err.     T-stat    P-value    Lower CI    Upper CI\n",
       "------------------------------------------------------------------------------\n",
       "Intercept      4.1625     0.8349     4.9857     0.0000      2.5262      5.7988\n",
       "black         -0.1157     0.0496    -2.3343     0.0196     -0.2128     -0.0186\n",
       "exper          0.0556     0.0199     2.7980     0.0051      0.0166      0.0945\n",
       "married       -0.0320     0.0051    -6.3037     0.0000     -0.0419     -0.0220\n",
       "smsa           0.1477     0.0303     4.8721     0.0000      0.0883      0.2071\n",
       "south         -0.1132     0.0229    -4.9314     0.0000     -0.1581     -0.0682\n",
       "educ           0.1242     0.0492     2.5258     0.0115      0.0278      0.2205\n",
       "==============================================================================\n",
       "\n",
       "Endogenous: educ\n",
       "Instruments: nearc4\n",
       "Robust Covariance (Heteroskedastic)\n",
       "Debiased: False\n",
       "\"\"\""
      ]
     },
     "execution_count": 20,
     "metadata": {},
     "output_type": "execute_result"
    }
   ],
   "source": [
    "#2SLS\n",
    "iv_reg = IV2SLS.from_formula(\"lwage ~  1 + exper + black + south + married + smsa + [educ ~ nearc4 ]\", card).fit()\n",
    "iv_reg.summary"
   ]
  },
  {
   "cell_type": "markdown",
   "id": "6f2d30b5",
   "metadata": {},
   "source": [
    "Comparando resultados:  \n",
    "Tras las regresiones se puede observar que en cuanto a la relación de las independientes con la dependiente no hay variaciones pues estas siguen teniendo la relación de la primera regresión: educ, exper y smsa mantienen una relación directa con lwage; y, black, south y married  mantienen una relación inversa con la misma. Por otro lado, si se puede notar cambios con respecto al estimado de variación de lwage cuando las variables aumentan o disminuyen en uno:\n",
    "\n",
    "- cuando educ aumenta en uno, lwage aumentaría ya no en 0.07, sino en 0.12\n",
    "- cuando exper aumenta en uno, lwage aumentaría ya no en 0.03, sino en 0.05\n",
    "- cuando smsa aumenta en uno, lwage aumentaría ya no en 0.17, sino en 0.14\n",
    "- cuando black aumenta en uno, lwage disminuiría ya no en 0.16, sino en 0.11\n",
    "- cuando south aumenta en uno, lwage disminuiría ya no en 0.13, sino en 0.11\n",
    "- sin embargo, cuando married aumenta en uno, lwage seguiría diminuyendo en 0.03.\n",
    "\n",
    "Asimismo, este segundo modelo de regresión explica menos que el primero pues tiene un porcentaje de explicación de 24%."
   ]
  },
  {
   "cell_type": "code",
   "execution_count": null,
   "id": "46a2fd6e",
   "metadata": {},
   "outputs": [],
   "source": []
  }
 ],
 "metadata": {
  "kernelspec": {
   "display_name": "Python 3 (ipykernel)",
   "language": "python",
   "name": "python3"
  },
  "language_info": {
   "codemirror_mode": {
    "name": "ipython",
    "version": 3
   },
   "file_extension": ".py",
   "mimetype": "text/x-python",
   "name": "python",
   "nbconvert_exporter": "python",
   "pygments_lexer": "ipython3",
   "version": "3.9.12"
  }
 },
 "nbformat": 4,
 "nbformat_minor": 5
}
