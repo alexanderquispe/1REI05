{
 "cells": [
  {
   "cell_type": "markdown",
   "id": "6458006c",
   "metadata": {},
   "source": [
    "# REPORTE 9"
   ]
  },
  {
   "cell_type": "markdown",
   "id": "a7312b10",
   "metadata": {},
   "source": [
    "## Lectura: Social media and mental health. American Economic Review, 112(11), 3660-93. - Braghieri, L., Levy, R. E., & Makarin, A. (2022)"
   ]
  },
  {
   "cell_type": "markdown",
   "id": "2857730c",
   "metadata": {},
   "source": [
    "Ante la preocupación de los posibles efectos negativos del uso de las redes sociales principalmente, Facebokjs, Braghieri, Levy y Makarin decidieron realizar estimaciones cuasiexperimentales sobre este impacto. De esta manera, los autores centran su estudio en universidades en Estados Unidos y separan los periodos que comprenden el tiempo en que Facebook no se usaba y cuando ya se comenzó a utilizar.\n",
    "\n",
    "La pregunta de investigación que los autores plantean en su investigación es acerca de si la aparición de las redes sociales afecta en la salud mental de los jóvenes universitarios en Estados Unidos. En este sentido, los creadores explican de qué trata esta red social y cómo es que se fue dando su desarrollo desde su creación en 2004 hasta su propagación en 2006. Asimismo, los investigadores usaron dos bases de datos para el desarrollo de su análisis. En la primera se especifica las fechas en las que Facebook se introdujo en 775 universidades. El segundo, consiste en las diversas respuestas a diecisiete olas consecutivas de Evaluación Nacional de Salud, los cuales son encuestas completas sobre salud mental y física de los estudiantes. La estrategia del análisis se basa en diseño de investigación de diferencias generalizadas, siendo una de ellas la variación de la universidad a la que un alumno existe y la otra se refiere a si se respondió la encuneta antes o después de la introducción de Facebook.\n",
    "\n",
    "Una fortaleza considerable para este estudio podría ser el análisis del efecto desde el inicio de la difusión y uso de Facebook, lo cual permite un mejor acercamiento a la relación causal en primera instancia. Asimismo, otra fortalece es que en el estudio se toma en cuenta el contexto; es decir, los autores reconocen las diferencias que existen entre universidades, pues aquellos alumnos de las universidades que son más exigentes ya podrían haber contado con ciertos índices de problemas de salud mental. \n",
    "\n",
    "Por otro lado, una debilidad observada en el estudio es que podría contar con sesgos en sus resultados. Estos podrían deberse a recuerdos no tan claros, la falta de incentivos y la preocupación por la imagen social. Además se identifica que en el estudio no se ha incluido universidades en las que no se introdujo el Facebook; es decir, no se ha incluido una variable de control. Esta situación puede afectar en alguna magnitud a los resultados finales.\n",
    "\n",
    "Este artículo contribuye a la literatura proporcionando la evidencia causal más completa acerca de los efectos de las redes sociales en la salud mental. Cabe mencionar que los tres trabajos más cercanos a este presentan experimentos que incentivan un subconjunto de participantes seleccionados al azar para que reduzcan el uso de los medios sociales. Dichos estudios han encontrado efectos negativos del uso de los medios sociales en el bienestar, así como se muestra evidencias de adicción digital. En este sentido, los resultados de esta investigación complementan la literatura mencionada en aspectos como resultados más detallados, efectos del equilibrio del uso de Facebook, así como estimaciones de los efectos hasta varios semestres después de la introducción de la red social.\n",
    "\n",
    "Para avanzar en la pregunta de investigación, se podría hacer una comparación con el uso de esta red social en un tiempo posterior en el que hay cierta preocupación de parte de los desarrolladores por incluir nuevas herramientas, de manera que se pueda evaluar la variación en los resultados. Como Rodrigues (2020) expone en ¿Cómo influyen las redes sociales en la salud mental, a raíz del conocimiento publico de todo lo que implica el uso de redes sociales como Facebook, los desarrolladores se han preocupado por volver la red más segura en cuanto a la exposición de datos personales, fakes news y publicaciones en general."
   ]
  },
  {
   "cell_type": "code",
   "execution_count": null,
   "id": "8adb2369",
   "metadata": {},
   "outputs": [],
   "source": []
  }
 ],
 "metadata": {
  "kernelspec": {
   "display_name": "Python 3 (ipykernel)",
   "language": "python",
   "name": "python3"
  },
  "language_info": {
   "codemirror_mode": {
    "name": "ipython",
    "version": 3
   },
   "file_extension": ".py",
   "mimetype": "text/x-python",
   "name": "python",
   "nbconvert_exporter": "python",
   "pygments_lexer": "ipython3",
   "version": "3.9.12"
  }
 },
 "nbformat": 4,
 "nbformat_minor": 5
}
