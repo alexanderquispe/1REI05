{
 "cells": [
  {
   "cell_type": "markdown",
   "id": "016d1d06",
   "metadata": {},
   "source": [
    "# Reporte 6\n",
    "\n",
    "#### Nombre: Valeria Yesquén\n",
    "#### Código: 20202239\n",
    "\n",
    "## Ensayo\n",
    "\n",
    "El artículo se enfoca en la brecha educativa que existe entre los estudiantes de bajos y altos ingresos. Específicamente, los autores y su estudio, se centran en aquellos estudiantes que, a pesar de tener un alto rendimiento académico, no apuestan por universidades más prestigiosas, exigentes y competitivas, lo cual parece estar sesgado por su condición académica. En ese sentido, se preguntan por qué estas universidades no son la elección principal de los estudiantes de alto rendimiento y bajos ingresos, considerando que muchas de ellas les ofrecen beneficios y ayudas económicas para poder financiar sus estudios en las mismas. \n",
    "\n",
    "Para responder a esta cuestión, plantean un estudio/experimento, que involucra el ofrecimiento de una beca subvencionada por la Universidad de Michigan: HAIL, la cual será ofrecida a diversos estudiantes con un alto rendimiento académico y bajos recursos, para ver su efecto en la decisión de aplicación de los alumnos. Este estudio, es planteado por los autores desde la perspectiva de la economía de comportamiento, que plantea una lectura distinta a la clásica, pues no se énfoca necesariamente en la \"decisión racional\" guíada por la opción más beneficiosa y menos costosa a largo plazo. En consecuencia, este enfoque permite introducir al estudio variables que usualmente en un enfoque más tradicional no se toman en cuenta, como los sesgos del presente, el hecho de las preferencias son incosistentes en el tiempo, la aversión a la pérdida, a las deudas, y la importancia de la identidad social al momento de tomar decisiones. De esa manera, la economía de comportamiento, utilizada por los autores, resulta ser la principal fortaleza del estudio, pues permite entender las decisiones de los alumnos de alto rendimiento y bajos recursos, quienes, a pesar de contar con altas probabilidades de ser seleccionados, muchas veces ni siquiera aplican a estas universidades u optan por otras más pequeñas o menos \"selectivas\".\n",
    "\n",
    "Sin embargo, esta a su vez puede ser planteada como una debilidad del mismo enfoque que los autores emplean en este, pues los patrones y factores que se incluyen, pueden resultar algo abstractos y difíciles de medir, lo que vuelve al estudio menos \"empírico\" de cierta forma. A pesar de ello, coincido en que el enfoque resulta mucho más útil que uno tradicional al momento de enfrentarnos a escenarios como estos, donde la toma de decisiones se vuelve mucho más compleja, debido a la cantidad de información y opciones a las que son enfrentados los sujetos, así como los demás factores intervinientes antes mencionados.\n",
    "\n",
    "En cuanto a la contribución aportada por los autores y este estudio, se pueden desprender diversos hallazgos a los que llegan, en base a la aplicación del \"experimento\" de la beca HAIL. En principio, se encontró que el hecho de que se les haya ofrecido una beca a los estudiantes, durante el periodo usual de aplicación a las universidades, aumentó el índice de aplicación entre los estudiantes del perfil, que recibieron la beca. Esto, según los autores se debió a que \"los costos menores\" o cambios aparaentemente pequeños, pueden ejercer una gran influencia en la toma de decisiones. En este caso, se dempostró que, una de las razones que los impulsó a postular, una vez recibida la oferta de la beca, es el hecho de que se disminuyeron los costos administrativos y el papeleo que usualmente involucra el aplicar a una beca u otro tipo de ayuda económica. Esto pues, muchos estudiantes se abstienen de pedir becas o ayudas financieras, porque el proceso administrativo les implica un costo sobredimensionado por el sesgo del presente, que sobrevaloran por sobre los beneficios a largo plazo. Asimismo, otra de las razones resultó ser el hecho de que, la beca redujo la incertidumbre respecto al futuro, pues les provee una garantía temprana que les asegura la financiación de los próximos cuatro años de estudios universitarios. De igual forma, otro hallazgo importante resultó ser el hecho de que, la beca HAIL, provó ser un modelo de ayuda económica efectivo, al momento de hablar de cerrar las brechas entre los estudiantes de bajos y altos ingresos (respecto a la realización de estudios superiores), pues resultó un importante incentivo y efectivo aliciente frente a los estudiantes de bajos recursos pero alto rendimiento académico. Además, resalta la importancia de construir una intervención enfocada en resaltar el potencial académico, antes que la desventaja económica. Finalmente, el estudio provó que la brecha tratada en el artículo, no solo es un problema de desinformación, pues brindar la misma no es suficiente para generar un impacto y efecto en la decisión del estudiante, sino que, como se mencionó anteriormente, involucra una serie de factores y \"pequeños\" costos relevantes durante el proceso de decisión.\n",
    "\n",
    "Por último, esta línea de investigación puede, por un lado, según Binning y Browman (2020) continuar, ampliando el enfoque más social que plantea la economía del comportamiento, y comenzar a insertar consideraciones, éticas y políticas, al momento de plantear intervenciones sociopsicológicas para cerrar las brechas de rendimiento educativo. Además, estos autores plantean no solo una investigación centrada en las posibles intervenciones efectivas para reducir la brecha entre los alumnos de altos y bajos ingresos económicos, sino también entre los alumnos de alto y bajo rendimiento académica. En ese sentido, este estudio plantea una inversión sociopsicológica efectiva que permita mejorar la equidad educativa, ayudando a que los estudiantes de bajo rendimiento se den cuenta de su potencial y lo exploten. Por otro lado, Chen y otros (2021) plantean una continuación un poco más \"general\", pues en este caso se realiza una revisión de toda la literatura e investigación realizada en torno a la economía del comportamiento, para así, discutir las posibles direcciones que puede tomar este enfoque en el futuro, así como su continua influencia en diversas áreas del sector público y privado. Los autores, a través de la revisión de diversos ejemplos de mercados, como el educacional y laboral, sostienen que el combinar la teoría del diseño de mercados, los conocimientos sobre el comportamiento humano y los métodos experimentales, pueden ayudar a producir diseños de mercado, que resulten ser superiores y mejores que los actuales, al momento de aplicarlos en la práctica/realidad. \n",
    "\n",
    "#### Referencias bibliográficas:\n",
    "\n",
    "- Binning, K. R., & Browman, A. S. (2020). Theoretical, ethical, and policy considerations for conducting social–psychological interventions to close educational achievement gaps. Social Issues and Policy Review, 14(1), 182-216.\n",
    "\n",
    "- Chen, Y., Cramton, P., List, J. A., & Ockenfels, A. (2021). Market design, human behavior, and management. Management Science, 67(9), 5317-5348.\n"
   ]
  }
 ],
 "metadata": {
  "kernelspec": {
   "display_name": "Python 3 (ipykernel)",
   "language": "python",
   "name": "python3"
  },
  "language_info": {
   "codemirror_mode": {
    "name": "ipython",
    "version": 3
   },
   "file_extension": ".py",
   "mimetype": "text/x-python",
   "name": "python",
   "nbconvert_exporter": "python",
   "pygments_lexer": "ipython3",
   "version": "3.9.12"
  }
 },
 "nbformat": 4,
 "nbformat_minor": 5
}
