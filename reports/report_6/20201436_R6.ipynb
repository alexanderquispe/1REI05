{
 "cells": [
  {
   "cell_type": "markdown",
   "id": "804ab968",
   "metadata": {},
   "source": [
    "Reporte:\n",
    "En el artículo realizado por Dynarski, Libassi, Michelmore y Owen se ha desarrollado cómo es menor el porcentaje de los estudiantes de alto rendimiento y bajos ingresos que estudian en universidades selectivas, a comparación de los estudiantes con altos ingresos y con rendimiento similar. Lo cual, se comprobó a través de un experimento a gran escala que consistía en un compromiso temprano de matrícula gratuita en una universidad emblemática. En este sentido, se detalla que los sesgos de comportamiento intensificados por la complejidad e incertidumbre del proceso de admisión podría ser una explicación factible y marcada para responder a dicha diferencia.\n",
    "\n",
    "Entonces, las diferencias en el nivel educativo entre los estudiantes de ingresos bajos e ingresos altos son exorbitantes. Por ello, para los autores resulta importante probar si las comunicaciones personalizadas y dirigidas, que replantean, pero no aumentan la ayuda financiera, pueden alterar las decisiones universitarias de los estudiantes de bajos ingresos. De este modo, la pregunta del artículo, finalmente, sería ¿Cómo la intervención de las comunicaciones personalizadas y dirigidas es capaz de influir en la toma de decisiones de estudiantes con escasez económica sobre su educación superior? Puesto aprueba de manera específica a través de la intervención de la Beca HAIL (High Achieving Involved Leader).\n",
    "\n",
    "Es notorio que el presente artículo posee abundantes fortalezas, en este párrafo presentaremos solo un par.  Una de las principales fortalezas es el uso del experimento que los autores usaron para llegar a la importante conclusión de que una intervención de bajo coste y escasa intervención puede influir en gran medida en la solicitud y la inscripción de los estudiantes en las universidades selectivas. Otra de las principales fortalezas es el tema planteado en cuestión puesto que con ayuda de la metodología cuantitativa utilizada por los autores de este texto es reflejo de su preocupación por proporcionar cuadros estadísticos que brinda ayuda a en la organización, orden y entendimiento del mismo hacia el público en general. En contraste, las debilidades que se han podido percibir del artículo, a pesar de ser un artículo con pocos indicios de poseer debilidades es que no puede ser utilizado como plantilla exacta para explicar la conexión entre el sistema financiero y educativo en otras sociedades puesto que las variables que afectan el ámbito educativo en estudiantes de Estados Unidos varían con la de estudiantes provenientes de otras sociedades como por ejemplo la peruana. \n",
    "\n",
    "Asimismo, es importante recalcar que la contribución de los autores en este texto es su aporte de preocupación por escribir y centrarse en el tema de educación, el cual afecta a toda la población. Debido que, la educación superior tiene un impacto directo en la competitividad del país a través de su efecto sobre la productividad de su mano de obra. Estos autores están siendo capaces incentivar acerca de la realización de más estudios en temas tan valiosos como la gran conexión entre el sistema financiero y el sistema educativo, lo cual brindaría ayuda a los estudiantes con escasez económica sobre su educación superior, puesto que a largo plazo permitiría que dichos estudiantes posean una mejor toma de decisiones respecto a ella.\n",
    "\n",
    "Una forma de avanzar en la pregunta de investigación, entonces, sería a través del cuestionamiento de si en todas las sociedades, las variantes de comunicaciones personalizadas y dirigidas son las únicas capaces de influir en la toma de decisiones de estudiantes con escasez económica sobre su educación superior, para ello, es útil como los autores peruanos Alvarado y Polo muestran acerca de la realidad peruana en temas de educación superior específicamente refiriéndose a las falencias del PRONABEC (Programa Nacional de Becas y Crédito Educativo) que muestran como las brechas de acceso al servicio educativo crean diferencias en la capacidad de generación de ingresos que perduran en el tiempo.\n",
    "\n",
    "Bibliografía:\n",
    "Alvarado, Benjamín & Polo, Aldo. (2017). Problemas en el diseño e implementación de la Política de otorgamiento de becas a cargo del PRONABEC, que afectaron la permanencia de becarios, entre los años 2012 y 2015. Perú: Repositorio Pucp.\n",
    "\n"
   ]
  }
 ],
 "metadata": {
  "kernelspec": {
   "display_name": "Python 3 (ipykernel)",
   "language": "python",
   "name": "python3"
  },
  "language_info": {
   "codemirror_mode": {
    "name": "ipython",
    "version": 3
   },
   "file_extension": ".py",
   "mimetype": "text/x-python",
   "name": "python",
   "nbconvert_exporter": "python",
   "pygments_lexer": "ipython3",
   "version": "3.9.12"
  }
 },
 "nbformat": 4,
 "nbformat_minor": 5
}
