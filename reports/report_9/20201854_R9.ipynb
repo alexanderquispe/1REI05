{
 "cells": [
  {
   "cell_type": "markdown",
   "id": "8bd328cc",
   "metadata": {},
   "source": [
    "# Reporte 9"
   ]
  },
  {
   "cell_type": "markdown",
   "id": "88df8f51",
   "metadata": {},
   "source": [
    "## Aisha Martínez - 20201854"
   ]
  },
  {
   "cell_type": "markdown",
   "id": "8308bc8e",
   "metadata": {},
   "source": [
    "¿cuál es la pregunta de investigación?\n",
    "\n",
    "En el artículo se busca responder si es que existe una relación entre la salud mental y las redes sociales en los usuarios; teniendo como propuesta que estas pueden afectar la estabilidad de la salud mental de los jóvenes usuarios. El estudio basa su muestra en un grupo de universitarios de Estados Unidos durante los 2000.\n",
    "\n",
    "¿fortalezas y debilidades?\n",
    "\n",
    "Se encontraron dos fortalezas y es que en el artículo se observa desde un inicio la implementación de cifras exactas donde detallan la base de datos, así como también las cifras de quienes utilizaron Facebook desde el inicio de este y la data encontrada sobre los estudiantes y su salud mental. De igual forma, se observa que los autores hacen una mención de los cambios ejercidos en la página de Facebook y cómo estos están definitivamente vinculados a cómo se ha visto afectada la salud mental de los estudiantes mediante el nivel de uso que le den estos a la red social, es decir: mientras más uso de las redes sociales los estudiantes se verán proporcionalmente afectados en su salud mental. Por otro lado, no se encontró ninguna debilidad más allá de poder incluir una comparación entre los estudiantes de cada universidad, junto con un análisis de estas en distintos factores, para observar si es que el tipo de universidad era un factor de influencia. \n",
    "\n",
    "¿aporte del autor a la pregunta de investigación?\n",
    "\n",
    "Los autores logran comprobar la hipótesis y también responder la pregunta de investigación mediante el uso de correlaciones estadísticas que brindan respuestas claras y fundamentadas estadísticamente. Asimismo, el autor hace una introducción y pone en contexto al lector acerca de Facebook, su desarrollo y la relación de esta aplicación con la salud mental; asimismo, también brinda al lector un breve desarrollo de lo que son las enfermedades mentales. \n",
    "\n",
    "¿qué pasos pueden seguirse para aportar a la pregunta de investigación?\n",
    "\n",
    "Un paso que se podría dar a continuación es de hecho un factor mencionado por los autores en su artículo, y es que no se implementó “un grupo de control definido”; esto con el fin de poder entender la conexión directa que pudo haber tenido la exposición de Facebook en las universidades y así tener un análisis más certero.\n"
   ]
  }
 ],
 "metadata": {
  "kernelspec": {
   "display_name": "Python 3 (ipykernel)",
   "language": "python",
   "name": "python3"
  },
  "language_info": {
   "codemirror_mode": {
    "name": "ipython",
    "version": 3
   },
   "file_extension": ".py",
   "mimetype": "text/x-python",
   "name": "python",
   "nbconvert_exporter": "python",
   "pygments_lexer": "ipython3",
   "version": "3.9.12"
  }
 },
 "nbformat": 4,
 "nbformat_minor": 5
}
