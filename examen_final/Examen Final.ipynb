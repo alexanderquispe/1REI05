{
 "cells": [
  {
   "cell_type": "markdown",
   "id": "fb0a0464",
   "metadata": {},
   "source": [
    "# Examen Final"
   ]
  },
  {
   "cell_type": "markdown",
   "id": "251ef057",
   "metadata": {},
   "source": [
    "**Nombre**: Hector Delgado Alfaro\n",
    "\n",
    "**Código**: 20200449"
   ]
  },
  {
   "cell_type": "markdown",
   "id": "ff442ab8",
   "metadata": {},
   "source": [
    "**PREGUNTA 1**"
   ]
  },
  {
   "cell_type": "markdown",
   "id": "b7383992",
   "metadata": {},
   "source": [
    "Suponga que estamos interesados en estudiar la relación entre educación(X) y el nivel de ingresos(Y).\n",
    "Un investigador propone utilizar como variable instrumental(Z) el numero de horas que una persona utilizó para ver televisión cuando era niño.\n",
    "\n",
    "1. Indetifique todos los elementos necesarios para implementar un enfoque de IV en este ejemplo.\n",
    "2. Explique el procedimiento para encontrar el efecto causal en este escenario. Puede utilizar ecuaciones\n",
    "3. ¿El efecto de la educación sobre el nivel de ingresos es positivo o negativo? Argumente si los resultados serian causales o solamente de correlación"
   ]
  },
  {
   "cell_type": "markdown",
   "id": "f4e364aa",
   "metadata": {},
   "source": [
    "**Respuesta**"
   ]
  },
  {
   "cell_type": "markdown",
   "id": "cd0fd724",
   "metadata": {},
   "source": [
    "1. Para identificar los supuestos necesarios para el enfoque de IV debemos tener claro las varibles de educación(X) y el nivel de ingresos(Y). Asi mismo, una variable instrumental (Z) que corrobore los efectos.En ese sentido, corroboramos que nuestra varible Z funcione y no está correlacionada con el error del modelo: $C(Z,e) = 0$, que este correlacionada con la variable endógena $C(Z; X) ≠ 0$ y debe satisfacer la relevancia y la exclusión.\n",
    "\n",
    "\n",
    "2. Para encontrar el efecto causal en este caso se debe instrumentalizar a la variable educación (X) con la variable instrumental Z (horas que una persona utilizó para ver televisión cuando era niño) y asi tener una relación limpia con la variable Y (Nivel de ingresos).$$Y = B0 + B1*X + E$$ Por lo que se observa, la variable instrumental Z debe limpiar la relación entre X e Y, eliminando cualquier variable que se encuentre detrás, como la raza, la edad, el sexo, etc.En ese sentido, la variable Z debe afectar a la educación  y demostrar que está correlacionada con X y por su correlación con esta también se ve correlacionada con Y.\n",
    "\n",
    "\n",
    "3. La correlación entre ingresos y educación es positiva ya que mientras mas se eduque una persona mayor cantidad de ingresos percibira. Esto explicado por una relación causal que cumple con relevancia y validez"
   ]
  },
  {
   "cell_type": "markdown",
   "id": "7dd673c8",
   "metadata": {},
   "source": [
    "**PREGUNTA 2**"
   ]
  },
  {
   "cell_type": "markdown",
   "id": "0103c34d",
   "metadata": {},
   "source": [
    "Supongamos que estamos estudiando la eficacia de un programa de becas creado por el gobierno Peruano sobre las notas de los alumnos al final del primer semestre en la universidad. PRONABEC ha decidido que entregará becas a aquellos postulantes que tengan un promedio superior durante la secundaria igual a 16 .\n",
    "\n",
    "1. Indetifique todos los elementos necesarios para implementar un RDD en este ejemplo.\n",
    "2. Explique el procedimiento para encontrar el efecto causal en este escenario. Puede utilizar ecuaciones.\n",
    "3. ¿El efecto de la politica sobre el rendimiento de los estudiantes sería positivo o negativo (solo necesitan usar su intuición)? Argumente si los resultados serian causales o solamente de correlación ."
   ]
  },
  {
   "cell_type": "markdown",
   "id": "55314e91",
   "metadata": {},
   "source": [
    "**Respuesta**\n",
    "\n",
    "1. Lo primero es asignar un execution variable (tambien se conoce como forcing variable) la cual probara si un individuo pertenece a un grupo de control o de tratamiento.Luego seguiría probar si hay un corte el cual sirve para determinar si recibe el tratamiento o no. Los que están detrás del corte son los que no recibieron y los que estan a su derecha son los que si recibieron el tratamiento (en este caso recibir la beca PRONABEC), cabe resaltar que el cutoff no debe verse intervenido por otra variable. Finalmente solo quedaria determinar el Bandwidth (h) que representa la cantidad de area alrededor del limite que es comparable el cual se establece en base a los grupos identificados y el desempeño universitario.\n",
    "\n",
    "\n",
    "\n",
    "2. Para hallar el efecto causal primero debemos escoger el punto de corte de la execution variable que representa el promedio final al terminar la secundaria sea igual a 16. En ese sentido, comparamos a ambos grupos, a los que obtuvieron ese promedio y a los que no mediante un sharp design en donde la probabilidad de obtener la beca es de 1 si el promedio es mayor a 16 y de 0 si es que no se llega a este promedio.Asi mismo, es necesario elegir el modelo correcto y predecir los valores cercanos al límite, los modelos posibles a elegir dentro del análisis RDD son los diseños nítidos o difusos. En este analisis es preferible usal el diseño difuso ya que el salto es mayor a 0 y menor a 1. $D_i = \\begin{cases} 1,\\text{si} & X_i\\\\geq{c_0}, \\\\\\\\ 0, \\text{ if } & X_i < c_0, \\end{cases}$$\n",
    "\n",
    "\n",
    "3. La politica de este caso tendra un efecto positivo ya que permite que estudiantes de alto rendimiento puedan acceder aa educación de calidad y su desempeño mejore al evitarse un gasto como lo es la universidad. El diseño permite comorender la relación causal entre el acceso a universitarios y los alumnos con rendimiento alto (mayor a 16)\n",
    "\n",
    "\n"
   ]
  },
  {
   "cell_type": "markdown",
   "id": "a312d01a",
   "metadata": {},
   "source": [
    "**PREGUNTA 3**"
   ]
  },
  {
   "cell_type": "markdown",
   "id": "860c1e40",
   "metadata": {},
   "source": [
    "Supongamos que estamos interesados en estudiar el impacto de la migración en la tasa de empleo en dos regiones del Perú en 2017-2018. Tenemos datos anuales sobre la tasa de empleo en Lima, que experimentó una afluencia significativa de inmigrantes en 2018, y Puno que no experimentó el ingreso de migrantes (2017 ninguna de las regiones experimentó afluencia de migrantes). Podemos usar un análisis DID para comparar el cambio en las tasas de empleo entre las dos regiones a lo largo del tiempo para ver si la migración tuvo algún efecto.\n",
    "\n",
    "1. Indetifique todos los elementos necesarios para implementar un DiD en este ejemplo.\n",
    "2. Explique el procedimiento para encontrar el efecto causal en este escenario. Puede utilizar ecuaciones.\n",
    "3. ¿El efecto de la migración sobre la tasa de empleo sería positivo o negativo (solo necesitan usar su intuición)? Argumente si los resultados serian causales o solamente de correlación .\n"
   ]
  },
  {
   "cell_type": "markdown",
   "id": "cdc68b2f",
   "metadata": {},
   "source": [
    "**Respuesta**\n",
    "\n",
    "1. Implementar un DiD en este caso buscaria estimar los efectos de la migración en la tasa de empleo de Lima y Puno comparando las diferencias antes y después en el resultado de un grupo de tratamiento y uno de control. En ese sentido, se necesitan algunos elementos para implementar este metodo de diferencias como el tener datos de la variable de interés (tasa de empleo) para varios puntos en el tiempo, especialmente datos de antes y de después de la intervención (migración). Es decir, sería necesario tener la data de la tasa de Empleo antes y despúes de que se haya experimentado una afluencia o no de migrantes. Otro elemento necesario es el supuesto de tendencias paralelas en el que se asume que si no hubiera habido migracion ni en Lima ni en Puno los dos grupos hubiesen seguido la misma trayectoria en terminos de tasa de empleo. Esto no quiere decir que ambas regiones hayan tenido estadisticamente la tasa de empleo estadisticamente igual sino que al menos hayan seguido una trayectoria no tan diferente la una de la otra. En adición existen algunas pruebas de robustez que puede ayudar a ver si los resultados son significagtivos como por ejemplo:  Utilizar datos de más de un periodo previo al cambio y llevar a cabo un ejercicio de diferencias en diferencias, utilizar un grupo de control alternativo y evaluar los resultados con el grupo de control inicial o hacer el mismo ejercicio de diferencias en diferencias utilizando una variable dependiente que no debería haber sido afectada por el cambio. Asi mismo, tambien es necesario un grupo pre control y pre tratamiento asi como post control y post tratamiento.\n",
    "\n",
    "\n",
    "2. Para explicar el procedimiento es necesario entender tres cosas: Primero que tenemos dos grupos en donde el grupo 1 es afectado por el cambio y el grupo 0 no ($G_i=(0,1)$), ambos pueden ser observados en cualquien lapso de tiempo aunque para este caso 2018 es el periodo de interes. Se debe tener tambien el tiempo antes (0) y despues (1) de la afluencia migratoria ($T_i=(0,1)$) Finalmente tenemos la variable de interes que para este caso es la tasa de empleo ($Y_i$). En ese sentido nuestra observación incluye estas tres variables $(G_i, T_i, Y_i)$. Lo primero es calcular la media de ambos grupos tanto el de control como de tratamiento: \n",
    "\n",
    "$$\\overline{Y}(j,t)=\\frac{\\sum\\limits_{i=1}^N1(G_i=j)\\cdot1(T_i=t)\\cdot Y_i}{\\sum\\limits_{i=1}^N1(G_i=j)\\cdot1(T_i=t)},\\text{ para }j=\\{0,1\\}\\text{ y }t=\\{0,1\\}$$\n",
    "\n",
    "Una vez hecho esto podemos aplicarlo a los grupos pre y post control y tratamiento. Esta ecuacion es la que arroja la direncia entre ambos grupos y corrobora si la variable tuvo efecto o no.\n",
    "\n",
    "$${\\delta}^{2\\times 2}_{kU} = \\bigg ( \\overline{y}_k^{-post(k)} - \\overline{y}_k^{-pre(k)} \\bigg ) - \\bigg ( \\overline{y}_U^{-post(k)} - \\overline{y}_U^{-pre(k)} \\bigg )$$\n",
    "\n",
    "\n",
    "\n",
    "\n",
    "3. Como se puede ver en el planteamiento del problema, la migración supone una variable exógena, es decir es una varible que escapa al modelo. Siguiendo la logica e intuición a más migración se produciera una mayor tasa de empleo lo cual traducido sería que el efecto de la migración seria positivo a la tasa de empleo. Esto se debe principalmente a que las personas que migran de un país a otro tienden a aceptar trabajos que los residentes no aceptarían comunmente, un ejemplo de ello puede ser la migración venezolana al país que produjo más puestos de trabajo. Sin embargo esto puede tener efectos negativos en cuanto a derechos laborales ya que si bien los migrantes producen más empleos y más dinamización en la economía, los empleadores pueden aprovechar su situación de migrantes y ofrecerles puestos con sus derechos recortados o con una paga debajo del sueldo minimo. En ese sentido, estos efectos pueden verse por correlación ya que la migración en definitiva afecta a la tasa de empleo.\n"
   ]
  },
  {
   "cell_type": "markdown",
   "id": "db25710f",
   "metadata": {},
   "source": [
    "**PREGUNTA 4: LECTURAS**"
   ]
  },
  {
   "cell_type": "markdown",
   "id": "95dbd557",
   "metadata": {},
   "source": [
    "- ¿Cuáles son las debilidades del enfoque del paper para responder su pregunta de investigación?\n",
    "\n",
    "En el presente paper los autores se preguntan ¿Cuales son las motivaciones que determinan quien se vuelve inventor? y ¿cuales son las innovaciones que presentan?. El articulo esta limitado en muchos aspectos, primero porque unicamente analizan el impactos de las condiciones de las personas como los ingresos de los padres, la raza, etc. Si bien las condiciones de desarrollo son importantes, la inteligencia innata y el desarrollo de la capacidad de ser autodidacta son excluidas, en ese sentido, las personas que nacen con el don de la inteligencia no forman parte del analisis. Los autores hacen mencion a \"reforzar la seguridad economica de las familias\" por lo que quizás su analisis esta orientado unicamente a espacios desiguales y en donde el desarrollo de inventores se da como producto de los incentivos economicos y no del aprendizaje y el ser autodidacta. El estudio unicamente busca encontrar una correlación entre el ser inventor y la innovación, dejando de lado factores claves como los incentivos personales o estructurales los cuales incluyen al Estado y su rol como garante una calida de vida digna para desarrollar cosas y volverse inventor.En adición, el paper carece de una base de datos completa sobre patentes innovación la cual limita la data a pocas patentes y pocos ejemplos. \n"
   ]
  },
  {
   "cell_type": "markdown",
   "id": "de61bb1a",
   "metadata": {},
   "source": [
    "- ¿Cuáles serían dos próximos pasos específicos para avanzar en su pregunta de investigación?\n",
    "\n",
    "El presente paper pretende comprender como las instituciones historicas esta relacionadas a las causales de desgiualdad en el desarrollo de hoy en dia. Un paso que los autores podrian llevar a cabo para seguir con su investigación seria poner en evaluación los regimenes neoliberales que limitaron la participación del estado en muchas partes del mundo durante el siglo XX.Asi mismo, se podria incluir estudios de desigualdad que contemplen factores ligados al desarrollo humano como menciona Amartya Sen (2020). Las instituciones políticas estan ligadas tambien a los niveles de democracia y la cooperación entre los gobiernos sean de coalición o no. Seria interesante analizar esto con la perspectiva compara de las instituciones extractivas ejemplificadas en el libro \"Por que fracasan los paises\" que explica como la oligarquia latinoamericana ha ido moldeando estas instituciones a favor de sus intereses y las compara con instituciones surcoreanas."
   ]
  },
  {
   "cell_type": "markdown",
   "id": "666ea00a",
   "metadata": {},
   "source": [
    "**PREGUNTA 5: CÓDIGO**"
   ]
  },
  {
   "cell_type": "code",
   "execution_count": 4,
   "id": "dc62a22d",
   "metadata": {},
   "outputs": [],
   "source": [
    "from causalgraphicalmodels import CausalGraphicalModel\n",
    "import os\n",
    "import numpy as np \n",
    "import pandas as pd \n",
    "import statsmodels.api as sm \n",
    "import statsmodels.formula.api as smf \n",
    "from itertools import combinations \n",
    "import plotnine as p\n",
    "import statsmodels.api as sm\n",
    "import statsmodels.formula.api as smf\n",
    "import linearmodels.iv.model as lm\n",
    "from linearmodels.iv import IV2SLS\n",
    "from statsmodels.iolib.summary2 import summary_col\n",
    "import seaborn as sns"
   ]
  },
  {
   "cell_type": "code",
   "execution_count": 6,
   "id": "4d610adc",
   "metadata": {},
   "outputs": [
    {
     "data": {
      "text/html": [
       "<div>\n",
       "<style scoped>\n",
       "    .dataframe tbody tr th:only-of-type {\n",
       "        vertical-align: middle;\n",
       "    }\n",
       "\n",
       "    .dataframe tbody tr th {\n",
       "        vertical-align: top;\n",
       "    }\n",
       "\n",
       "    .dataframe thead th {\n",
       "        text-align: right;\n",
       "    }\n",
       "</style>\n",
       "<table border=\"1\" class=\"dataframe\">\n",
       "  <thead>\n",
       "    <tr style=\"text-align: right;\">\n",
       "      <th></th>\n",
       "      <th>id</th>\n",
       "      <th>nearc2</th>\n",
       "      <th>nearc4</th>\n",
       "      <th>educ</th>\n",
       "      <th>age</th>\n",
       "      <th>fatheduc</th>\n",
       "      <th>motheduc</th>\n",
       "      <th>weight</th>\n",
       "      <th>momdad14</th>\n",
       "      <th>sinmom14</th>\n",
       "      <th>...</th>\n",
       "      <th>KWW</th>\n",
       "      <th>IQ</th>\n",
       "      <th>married</th>\n",
       "      <th>libcrd14</th>\n",
       "      <th>exper</th>\n",
       "      <th>lwage</th>\n",
       "      <th>expersq</th>\n",
       "      <th>u_lwage</th>\n",
       "      <th>lwage_hat</th>\n",
       "      <th>u_educ</th>\n",
       "    </tr>\n",
       "  </thead>\n",
       "  <tbody>\n",
       "    <tr>\n",
       "      <th>0</th>\n",
       "      <td>2.0</td>\n",
       "      <td>0.0</td>\n",
       "      <td>0.0</td>\n",
       "      <td>7.0</td>\n",
       "      <td>29.0</td>\n",
       "      <td>NaN</td>\n",
       "      <td>NaN</td>\n",
       "      <td>158413.0</td>\n",
       "      <td>1.0</td>\n",
       "      <td>0.0</td>\n",
       "      <td>...</td>\n",
       "      <td>15.0</td>\n",
       "      <td>NaN</td>\n",
       "      <td>1.0</td>\n",
       "      <td>0.0</td>\n",
       "      <td>16.0</td>\n",
       "      <td>6.306275</td>\n",
       "      <td>256.0</td>\n",
       "      <td>0.198047</td>\n",
       "      <td>6.108228</td>\n",
       "      <td>-3.067539</td>\n",
       "    </tr>\n",
       "    <tr>\n",
       "      <th>1</th>\n",
       "      <td>3.0</td>\n",
       "      <td>0.0</td>\n",
       "      <td>0.0</td>\n",
       "      <td>12.0</td>\n",
       "      <td>27.0</td>\n",
       "      <td>8.0</td>\n",
       "      <td>8.0</td>\n",
       "      <td>380166.0</td>\n",
       "      <td>1.0</td>\n",
       "      <td>0.0</td>\n",
       "      <td>...</td>\n",
       "      <td>35.0</td>\n",
       "      <td>93.0</td>\n",
       "      <td>1.0</td>\n",
       "      <td>1.0</td>\n",
       "      <td>9.0</td>\n",
       "      <td>6.175867</td>\n",
       "      <td>81.0</td>\n",
       "      <td>-0.211160</td>\n",
       "      <td>6.387027</td>\n",
       "      <td>-1.727562</td>\n",
       "    </tr>\n",
       "    <tr>\n",
       "      <th>2</th>\n",
       "      <td>4.0</td>\n",
       "      <td>0.0</td>\n",
       "      <td>0.0</td>\n",
       "      <td>12.0</td>\n",
       "      <td>34.0</td>\n",
       "      <td>14.0</td>\n",
       "      <td>12.0</td>\n",
       "      <td>367470.0</td>\n",
       "      <td>1.0</td>\n",
       "      <td>0.0</td>\n",
       "      <td>...</td>\n",
       "      <td>42.0</td>\n",
       "      <td>103.0</td>\n",
       "      <td>1.0</td>\n",
       "      <td>1.0</td>\n",
       "      <td>16.0</td>\n",
       "      <td>6.580639</td>\n",
       "      <td>256.0</td>\n",
       "      <td>0.204719</td>\n",
       "      <td>6.375920</td>\n",
       "      <td>1.012975</td>\n",
       "    </tr>\n",
       "    <tr>\n",
       "      <th>3</th>\n",
       "      <td>5.0</td>\n",
       "      <td>1.0</td>\n",
       "      <td>1.0</td>\n",
       "      <td>11.0</td>\n",
       "      <td>27.0</td>\n",
       "      <td>11.0</td>\n",
       "      <td>12.0</td>\n",
       "      <td>380166.0</td>\n",
       "      <td>1.0</td>\n",
       "      <td>0.0</td>\n",
       "      <td>...</td>\n",
       "      <td>25.0</td>\n",
       "      <td>88.0</td>\n",
       "      <td>1.0</td>\n",
       "      <td>1.0</td>\n",
       "      <td>10.0</td>\n",
       "      <td>5.521461</td>\n",
       "      <td>100.0</td>\n",
       "      <td>-0.967905</td>\n",
       "      <td>6.489366</td>\n",
       "      <td>-2.253536</td>\n",
       "    </tr>\n",
       "    <tr>\n",
       "      <th>4</th>\n",
       "      <td>6.0</td>\n",
       "      <td>1.0</td>\n",
       "      <td>1.0</td>\n",
       "      <td>12.0</td>\n",
       "      <td>34.0</td>\n",
       "      <td>8.0</td>\n",
       "      <td>7.0</td>\n",
       "      <td>367470.0</td>\n",
       "      <td>1.0</td>\n",
       "      <td>0.0</td>\n",
       "      <td>...</td>\n",
       "      <td>34.0</td>\n",
       "      <td>108.0</td>\n",
       "      <td>1.0</td>\n",
       "      <td>0.0</td>\n",
       "      <td>16.0</td>\n",
       "      <td>6.591674</td>\n",
       "      <td>256.0</td>\n",
       "      <td>0.125173</td>\n",
       "      <td>6.466501</td>\n",
       "      <td>1.090437</td>\n",
       "    </tr>\n",
       "  </tbody>\n",
       "</table>\n",
       "<p>5 rows × 37 columns</p>\n",
       "</div>"
      ],
      "text/plain": [
       "    id  nearc2  nearc4  educ   age  fatheduc  motheduc    weight  momdad14  \\\n",
       "0  2.0     0.0     0.0   7.0  29.0       NaN       NaN  158413.0       1.0   \n",
       "1  3.0     0.0     0.0  12.0  27.0       8.0       8.0  380166.0       1.0   \n",
       "2  4.0     0.0     0.0  12.0  34.0      14.0      12.0  367470.0       1.0   \n",
       "3  5.0     1.0     1.0  11.0  27.0      11.0      12.0  380166.0       1.0   \n",
       "4  6.0     1.0     1.0  12.0  34.0       8.0       7.0  367470.0       1.0   \n",
       "\n",
       "   sinmom14  ...   KWW     IQ  married  libcrd14  exper     lwage  expersq  \\\n",
       "0       0.0  ...  15.0    NaN      1.0       0.0   16.0  6.306275    256.0   \n",
       "1       0.0  ...  35.0   93.0      1.0       1.0    9.0  6.175867     81.0   \n",
       "2       0.0  ...  42.0  103.0      1.0       1.0   16.0  6.580639    256.0   \n",
       "3       0.0  ...  25.0   88.0      1.0       1.0   10.0  5.521461    100.0   \n",
       "4       0.0  ...  34.0  108.0      1.0       0.0   16.0  6.591674    256.0   \n",
       "\n",
       "    u_lwage  lwage_hat    u_educ  \n",
       "0  0.198047   6.108228 -3.067539  \n",
       "1 -0.211160   6.387027 -1.727562  \n",
       "2  0.204719   6.375920  1.012975  \n",
       "3 -0.967905   6.489366 -2.253536  \n",
       "4  0.125173   6.466501  1.090437  \n",
       "\n",
       "[5 rows x 37 columns]"
      ]
     },
     "execution_count": 6,
     "metadata": {},
     "output_type": "execute_result"
    }
   ],
   "source": [
    "#Cargamos la data\n",
    "\n",
    "\n",
    "import ssl\n",
    "ssl._create_default_https_context = ssl._create_unverified_context\n",
    "\n",
    "def read_data(file): \n",
    "    return pd.read_stata(\"https://raw.github.com/scunning1975/mixtape/master/\" + file)\n",
    "\n",
    "card = read_data(\"card.dta\")\n",
    "card.head()\n"
   ]
  },
  {
   "cell_type": "code",
   "execution_count": 13,
   "id": "20f492fa",
   "metadata": {},
   "outputs": [
    {
     "data": {
      "text/plain": [
       "<seaborn.axisgrid.FacetGrid at 0x1ab9cbab130>"
      ]
     },
     "execution_count": 13,
     "metadata": {},
     "output_type": "execute_result"
    },
    {
     "data": {
      "image/png": "[encoded data removed]",
      "text/plain": [
       "<Figure size 720x360 with 2 Axes>"
      ]
     },
     "metadata": {
      "needs_background": "light"
     },
     "output_type": "display_data"
    }
   ],
   "source": [
    "#Ploteamos los graficos\n",
    "g = sns.displot(data=card, x=\"educ\", col=\"nearc2\", stat=\"count\")\n",
    "g.set(xlabel = \"Educación en años\", ylabel = \"Frecuencia\")"
   ]
  },
  {
   "cell_type": "markdown",
   "id": "25d1048f",
   "metadata": {},
   "source": [
    "Los dos histogramar no tienen diferencias significativas entre tener un college en el county o no para obtener más años de educación. Asi mismo, la mayor frecuencia se obseva en 12.5 años de educación, donde tenemos a mayor cantidad de personas en el gráfico donde NO hay un college cerca al county. Se puede concluir que en ambos gráficos no se ofrece una  evidencia significativa para afirmar que tener un college en el county genera más años de educación adquiridos."
   ]
  },
  {
   "cell_type": "code",
   "execution_count": 9,
   "id": "fab3742c",
   "metadata": {},
   "outputs": [
    {
     "data": {
      "text/plain": [
       "<seaborn.axisgrid.FacetGrid at 0x1ab9ba14820>"
      ]
     },
     "execution_count": 9,
     "metadata": {},
     "output_type": "execute_result"
    },
    {
     "data": {
      "image/png": "[encoded data removed]",
      "text/plain": [
       "<Figure size 720x360 with 2 Axes>"
      ]
     },
     "metadata": {
      "needs_background": "light"
     },
     "output_type": "display_data"
    }
   ],
   "source": [
    "g = sns.displot(data=card, x=\"lwage\", col=\"nearc2\", stat=\"count\")\n",
    "g.set(xlabel = \"Ingresos\", ylabel = \"Frecuencia\")\n"
   ]
  },
  {
   "cell_type": "markdown",
   "id": "255723fb",
   "metadata": {},
   "source": []
  },
  {
   "cell_type": "markdown",
   "id": "7407aa3e",
   "metadata": {},
   "source": [
    "**Corremos la regresion para evaluar los estimados**\n",
    "\n",
    "Empezamos con la regresión lineal multiple:"
   ]
  },
  {
   "cell_type": "code",
   "execution_count": 14,
   "id": "02fe8a84",
   "metadata": {},
   "outputs": [
    {
     "data": {
      "text/html": [
       "<table class=\"simpletable\">\n",
       "<caption>OLS Regression Results</caption>\n",
       "<tr>\n",
       "  <th>Dep. Variable:</th>          <td>lwage</td>      <th>  R-squared:         </th> <td>   0.305</td> \n",
       "</tr>\n",
       "<tr>\n",
       "  <th>Model:</th>                   <td>OLS</td>       <th>  Adj. R-squared:    </th> <td>   0.304</td> \n",
       "</tr>\n",
       "<tr>\n",
       "  <th>Method:</th>             <td>Least Squares</td>  <th>  F-statistic:       </th> <td>   219.2</td> \n",
       "</tr>\n",
       "<tr>\n",
       "  <th>Date:</th>             <td>Fri, 09 Dec 2022</td> <th>  Prob (F-statistic):</th> <td>1.97e-232</td>\n",
       "</tr>\n",
       "<tr>\n",
       "  <th>Time:</th>                 <td>17:47:52</td>     <th>  Log-Likelihood:    </th> <td> -1273.9</td> \n",
       "</tr>\n",
       "<tr>\n",
       "  <th>No. Observations:</th>      <td>  3003</td>      <th>  AIC:               </th> <td>   2562.</td> \n",
       "</tr>\n",
       "<tr>\n",
       "  <th>Df Residuals:</th>          <td>  2996</td>      <th>  BIC:               </th> <td>   2604.</td> \n",
       "</tr>\n",
       "<tr>\n",
       "  <th>Df Model:</th>              <td>     6</td>      <th>                     </th>     <td> </td>    \n",
       "</tr>\n",
       "<tr>\n",
       "  <th>Covariance Type:</th>      <td>nonrobust</td>    <th>                     </th>     <td> </td>    \n",
       "</tr>\n",
       "</table>\n",
       "<table class=\"simpletable\">\n",
       "<tr>\n",
       "      <td></td>         <th>coef</th>     <th>std err</th>      <th>t</th>      <th>P>|t|</th>  <th>[0.025</th>    <th>0.975]</th>  \n",
       "</tr>\n",
       "<tr>\n",
       "  <th>Intercept</th> <td>    5.0633</td> <td>    0.064</td> <td>   79.437</td> <td> 0.000</td> <td>    4.938</td> <td>    5.188</td>\n",
       "</tr>\n",
       "<tr>\n",
       "  <th>educ</th>      <td>    0.0712</td> <td>    0.003</td> <td>   20.438</td> <td> 0.000</td> <td>    0.064</td> <td>    0.078</td>\n",
       "</tr>\n",
       "<tr>\n",
       "  <th>exper</th>     <td>    0.0342</td> <td>    0.002</td> <td>   15.422</td> <td> 0.000</td> <td>    0.030</td> <td>    0.038</td>\n",
       "</tr>\n",
       "<tr>\n",
       "  <th>black</th>     <td>   -0.1660</td> <td>    0.018</td> <td>   -9.426</td> <td> 0.000</td> <td>   -0.201</td> <td>   -0.131</td>\n",
       "</tr>\n",
       "<tr>\n",
       "  <th>south</th>     <td>   -0.1316</td> <td>    0.015</td> <td>   -8.788</td> <td> 0.000</td> <td>   -0.161</td> <td>   -0.102</td>\n",
       "</tr>\n",
       "<tr>\n",
       "  <th>married</th>   <td>   -0.0359</td> <td>    0.003</td> <td>  -10.547</td> <td> 0.000</td> <td>   -0.043</td> <td>   -0.029</td>\n",
       "</tr>\n",
       "<tr>\n",
       "  <th>smsa</th>      <td>    0.1758</td> <td>    0.015</td> <td>   11.372</td> <td> 0.000</td> <td>    0.145</td> <td>    0.206</td>\n",
       "</tr>\n",
       "</table>\n",
       "<table class=\"simpletable\">\n",
       "<tr>\n",
       "  <th>Omnibus:</th>       <td>53.196</td> <th>  Durbin-Watson:     </th> <td>   1.858</td>\n",
       "</tr>\n",
       "<tr>\n",
       "  <th>Prob(Omnibus):</th> <td> 0.000</td> <th>  Jarque-Bera (JB):  </th> <td>  69.430</td>\n",
       "</tr>\n",
       "<tr>\n",
       "  <th>Skew:</th>          <td>-0.231</td> <th>  Prob(JB):          </th> <td>8.38e-16</td>\n",
       "</tr>\n",
       "<tr>\n",
       "  <th>Kurtosis:</th>      <td> 3.584</td> <th>  Cond. No.          </th> <td>    154.</td>\n",
       "</tr>\n",
       "</table><br/><br/>Notes:<br/>[1] Standard Errors assume that the covariance matrix of the errors is correctly specified."
      ],
      "text/plain": [
       "<class 'statsmodels.iolib.summary.Summary'>\n",
       "\"\"\"\n",
       "                            OLS Regression Results                            \n",
       "==============================================================================\n",
       "Dep. Variable:                  lwage   R-squared:                       0.305\n",
       "Model:                            OLS   Adj. R-squared:                  0.304\n",
       "Method:                 Least Squares   F-statistic:                     219.2\n",
       "Date:                Fri, 09 Dec 2022   Prob (F-statistic):          1.97e-232\n",
       "Time:                        17:47:52   Log-Likelihood:                -1273.9\n",
       "No. Observations:                3003   AIC:                             2562.\n",
       "Df Residuals:                    2996   BIC:                             2604.\n",
       "Df Model:                           6                                         \n",
       "Covariance Type:            nonrobust                                         \n",
       "==============================================================================\n",
       "                 coef    std err          t      P>|t|      [0.025      0.975]\n",
       "------------------------------------------------------------------------------\n",
       "Intercept      5.0633      0.064     79.437      0.000       4.938       5.188\n",
       "educ           0.0712      0.003     20.438      0.000       0.064       0.078\n",
       "exper          0.0342      0.002     15.422      0.000       0.030       0.038\n",
       "black         -0.1660      0.018     -9.426      0.000      -0.201      -0.131\n",
       "south         -0.1316      0.015     -8.788      0.000      -0.161      -0.102\n",
       "married       -0.0359      0.003    -10.547      0.000      -0.043      -0.029\n",
       "smsa           0.1758      0.015     11.372      0.000       0.145       0.206\n",
       "==============================================================================\n",
       "Omnibus:                       53.196   Durbin-Watson:                   1.858\n",
       "Prob(Omnibus):                  0.000   Jarque-Bera (JB):               69.430\n",
       "Skew:                          -0.231   Prob(JB):                     8.38e-16\n",
       "Kurtosis:                       3.584   Cond. No.                         154.\n",
       "==============================================================================\n",
       "\n",
       "Notes:\n",
       "[1] Standard Errors assume that the covariance matrix of the errors is correctly specified.\n",
       "\"\"\""
      ]
     },
     "execution_count": 14,
     "metadata": {},
     "output_type": "execute_result"
    }
   ],
   "source": [
    "\n",
    "ols_reg = sm.OLS.from_formula(\"lwage ~ educ + exper + black + south + married + smsa\", \n",
    "              data = card).fit()\n",
    "\n",
    "ols_reg.summary()\n"
   ]
  },
  {
   "cell_type": "markdown",
   "id": "4443f98b",
   "metadata": {},
   "source": [
    "Todas las variables tienen un efecto sobre los ingresos. Las variables \"educ\", \"exper\" y \"smsa\", tienen un efecto positivo en la variable \"lwage\". Esto quiere decir que si aumenta en una unidad la variable educación, experiencia, o vives en SMSA, el ingreso aumentará en 0.07, 0.03 y 0.18 puntos respectivamente. \n"
   ]
  },
  {
   "cell_type": "markdown",
   "id": "3f79021b",
   "metadata": {},
   "source": [
    "**regresion de tipo IV**"
   ]
  },
  {
   "cell_type": "code",
   "execution_count": 15,
   "id": "4e0ed541",
   "metadata": {},
   "outputs": [
    {
     "data": {
      "text/html": [
       "<table class=\"simpletable\">\n",
       "<caption>IV-2SLS Estimation Summary</caption>\n",
       "<tr>\n",
       "  <th>Dep. Variable:</th>          <td>lwage</td>      <th>  R-squared:         </th> <td>-1.3114</td>\n",
       "</tr>\n",
       "<tr>\n",
       "  <th>Estimator:</th>             <td>IV-2SLS</td>     <th>  Adj. R-squared:    </th> <td>-1.3160</td>\n",
       "</tr>\n",
       "<tr>\n",
       "  <th>No. Observations:</th>       <td>3010</td>       <th>  F-statistic:       </th> <td>289.62</td> \n",
       "</tr>\n",
       "<tr>\n",
       "  <th>Date:</th>             <td>Fri, Dec 09 2022</td> <th>  P-value (F-stat)   </th> <td>0.0000</td> \n",
       "</tr>\n",
       "<tr>\n",
       "  <th>Time:</th>                 <td>17:49:38</td>     <th>  Distribution:      </th> <td>chi2(6)</td>\n",
       "</tr>\n",
       "<tr>\n",
       "  <th>Cov. Estimator:</th>        <td>robust</td>      <th>                     </th>    <td></td>    \n",
       "</tr>\n",
       "<tr>\n",
       "  <th></th>                          <td></td>         <th>                     </th>    <td></td>    \n",
       "</tr>\n",
       "</table>\n",
       "<table class=\"simpletable\">\n",
       "<caption>Parameter Estimates</caption>\n",
       "<tr>\n",
       "      <td></td>      <th>Parameter</th> <th>Std. Err.</th> <th>T-stat</th>  <th>P-value</th> <th>Lower CI</th> <th>Upper CI</th>\n",
       "</tr>\n",
       "<tr>\n",
       "  <th>Intercept</th>  <td>0.1276</td>    <td>3.1412</td>   <td>0.0406</td>  <td>0.9676</td>   <td>-6.0290</td>  <td>6.2843</td> \n",
       "</tr>\n",
       "<tr>\n",
       "  <th>black</th>      <td>0.1134</td>    <td>0.1816</td>   <td>0.6244</td>  <td>0.5324</td>   <td>-0.2425</td>  <td>0.4692</td> \n",
       "</tr>\n",
       "<tr>\n",
       "  <th>exper</th>      <td>0.1515</td>    <td>0.0747</td>   <td>2.0274</td>  <td>0.0426</td>   <td>0.0050</td>   <td>0.2980</td> \n",
       "</tr>\n",
       "<tr>\n",
       "  <th>married</th>    <td>-0.0151</td>   <td>0.0147</td>   <td>-1.0258</td> <td>0.3050</td>   <td>-0.0438</td>  <td>0.0137</td> \n",
       "</tr>\n",
       "<tr>\n",
       "  <th>smsa</th>       <td>0.0201</td>    <td>0.1030</td>   <td>0.1949</td>  <td>0.8455</td>   <td>-0.1819</td>  <td>0.2220</td> \n",
       "</tr>\n",
       "<tr>\n",
       "  <th>south</th>      <td>-0.0319</td>   <td>0.0692</td>   <td>-0.4603</td> <td>0.6453</td>   <td>-0.1675</td>  <td>0.1038</td> \n",
       "</tr>\n",
       "<tr>\n",
       "  <th>educ</th>       <td>0.3618</td>    <td>0.1849</td>   <td>1.9562</td>  <td>0.0504</td>   <td>-0.0007</td>  <td>0.7243</td> \n",
       "</tr>\n",
       "</table><br/><br/>Endogenous: educ<br/>Instruments: nearc2<br/>Robust Covariance (Heteroskedastic)<br/>Debiased: False"
      ],
      "text/plain": [
       "<class 'linearmodels.compat.statsmodels.Summary'>\n",
       "\"\"\"\n",
       "                          IV-2SLS Estimation Summary                          \n",
       "==============================================================================\n",
       "Dep. Variable:                  lwage   R-squared:                     -1.3114\n",
       "Estimator:                    IV-2SLS   Adj. R-squared:                -1.3160\n",
       "No. Observations:                3010   F-statistic:                    289.62\n",
       "Date:                Fri, Dec 09 2022   P-value (F-stat)                0.0000\n",
       "Time:                        17:49:38   Distribution:                  chi2(6)\n",
       "Cov. Estimator:                robust                                         \n",
       "                                                                              \n",
       "                             Parameter Estimates                              \n",
       "==============================================================================\n",
       "            Parameter  Std. Err.     T-stat    P-value    Lower CI    Upper CI\n",
       "------------------------------------------------------------------------------\n",
       "Intercept      0.1276     3.1412     0.0406     0.9676     -6.0290      6.2843\n",
       "black          0.1134     0.1816     0.6244     0.5324     -0.2425      0.4692\n",
       "exper          0.1515     0.0747     2.0274     0.0426      0.0050      0.2980\n",
       "married       -0.0151     0.0147    -1.0258     0.3050     -0.0438      0.0137\n",
       "smsa           0.0201     0.1030     0.1949     0.8455     -0.1819      0.2220\n",
       "south         -0.0319     0.0692    -0.4603     0.6453     -0.1675      0.1038\n",
       "educ           0.3618     0.1849     1.9562     0.0504     -0.0007      0.7243\n",
       "==============================================================================\n",
       "\n",
       "Endogenous: educ\n",
       "Instruments: nearc2\n",
       "Robust Covariance (Heteroskedastic)\n",
       "Debiased: False\n",
       "\"\"\""
      ]
     },
     "execution_count": 15,
     "metadata": {},
     "output_type": "execute_result"
    }
   ],
   "source": [
    "card['married'] = card['married'].fillna(0) \n",
    "\n",
    "iv_reg = IV2SLS.from_formula(\"lwage ~ 1 + exper + black + south + married + smsa + [educ ~ nearc2]\", card).fit()\n",
    "iv_reg.summary\n"
   ]
  }
 ],
 "metadata": {
  "kernelspec": {
   "display_name": "Python 3 (ipykernel)",
   "language": "python",
   "name": "python3"
  },
  "language_info": {
   "codemirror_mode": {
    "name": "ipython",
    "version": 3
   },
   "file_extension": ".py",
   "mimetype": "text/x-python",
   "name": "python",
   "nbconvert_exporter": "python",
   "pygments_lexer": "ipython3",
   "version": "3.9.12"
  }
 },
 "nbformat": 4,
 "nbformat_minor": 5
}
