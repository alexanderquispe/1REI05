{
 "cells": [
  {
   "cell_type": "markdown",
   "id": "f1530784",
   "metadata": {},
   "source": [
    "# PARCIAL"
   ]
  },
  {
   "cell_type": "markdown",
   "id": "039a3f6f",
   "metadata": {},
   "source": [
    "> Preguntas teóricas sobre macroeconomía del libro Profesor Felix Jimenez. Capítulos 4, 5, 6, 7, 8\n",
    "\n",
    "¿Cuáles son los supuestos del modelo Ingreso-Gasto?\n",
    "El modelo supone que el nivel de precios está fijo, que el nivel del producto se adapta a los cambios en la demanda agregada y que la tasa de interés está determinada fuera del modelo (en el mercado monetario). Es un modelo de corto plazo.\n",
    "\n",
    "¿Qué es el multiplicador Keynesiano?\n",
    "es la variación que puede haber en alguno de los componentes autónomos de la demanda  agregada (DA) que impacta con un efecto multiplicador en el ingreso hasta generar un nuevo ingreso y producto de equilibrio, de manera que el aumento multiplicado del ingreso puede darse directa o indirectamente por el aumento de los componentes autónomos de la DA.\n",
    "\n",
    "¿Cuándo hay desequilibrios en el mercado de bienes? Concepto de Exceso de Demanda y Exceso de Oferta\n",
    "Hay desequilibrios cuando  la DA puede ser mayor o igual que el ingreso o producto. Esto se contrasrresta, por ejemplo ante un aumento de la demanda,  aumentando la producción en un monto similar al  aumento; es decir, con  cambios en la producción. Si hubiese un déficit de demanda, las empresas deciden disminuir su producción y el  empleo de trabajadores. En síntesis, la oferta de producción se ajusta a los cambios  en la demanda agregada. \n",
    "\n",
    "Funciones y caracteristicas del Dinero\n",
    "El dinero tiene 4 funciones principales: expresar materialmente el  precio de todas las mercancías y otras variables económicas , es un medio para el intercambio de bienes y servicios; es un medio de pago para cancelar deudas o sus servicios; y permite mantener la riqueza. \n",
    "\n",
    "Medidas del Stock de dinero\n",
    "El stock del dinero, entendido como la cantidad de dinero disponible en la economía de un país o región en particular en un momento dado, puede medirse en 5 formas: según el dinero de alto poder o base monetaria (emisión primaria), que es lo que emite el Banco Central en billetes y monedas emitidos más depósitos del sistema financiero (encaje), y del sector privado en moneda nacional  mantenidos en el BCR; el dinero circulante en la economía igual en monedas y billetes así como cheques o depósitos; el dinero como depósitos de ahorro del sector privado en el sistema bancario; depósitos a largo plazo en moneda nacional, cédulas hipotecarias y  otros valores en moneda nacional del sector privado en el sistema bancario; y el total de los medios de pago, incluyendo depósitos en moneda extranjera.  Composición de la base monetaria\n",
    "\n",
    "Politica Monetaria/Fiscal Contractiva o Expansiva\n",
    "La política monetaria y fiscal puede entenderse en 2 sentidos: Contractiva o Expansiva. Cuando es expansiva se refiere a que  se centra en la expansión, o aumento, de la oferta monetaria/fiscal en una economía, y viceversa. Cuando aumenta (disminuye) “m” (la propensión marginal a importar), la pendiente de la curva IS se incrementa  (reduce). Por el contrario, el aumento de la propensión marginal a consumir, “b”,  aumenta el tamaño del multiplicador, aumenta la pendiente de la DA y reduce la pendiente  de la curva IS.\n",
    "\n",
    "¿Cuáles son los instrumentos de política Monetaria?\n",
    "Los instrumentos de política Monetaria son el agregado monetario definido como oferta de dinero en sentido estricto, la tasa de interés -el costo de oportunidad de invertir el capital y  reservarlo para el futuro.\n",
    "\n",
    "¿Cuáles son los instrumentos de política Fiscal?\n",
    "Los instrumentos de política Fiscal son el bono -como un contrato de deuda en el que el emisor se compromete a hacer pagos  periódicos de servicios hasta una fecha determinada de  vencimiento; la tasa de  impuestos, que es utilizado por el gobierno para financiar sus gastos, G; y las  transferencias que realiza a las familias, TR, (transferencias a través de la seguridad social  y otros programas). \n",
    "\n",
    "Ley de Walras\n",
    "La ley de Walras es un principio de la teoría del equilibrio general según la cual la suma de la demanda agregada debe igualar la suma de la oferta agregada, teniendo en cuenta los precios.\n",
    "\n",
    "¿Cuáles son las Variables endógenas en el Modelo IS-LM.\n",
    "Las variables que son explicadas por el modelo se conocen como variables endógenas, estas son el consumo (C), la demanda agregada (DA) y  el ingreso o producto (Y); de otro lado, las variables exógenas son: el consumo autónomo  (C0), la inversión autónoma (I0), el gasto del gobierno (G0) y la tributación (T0).  \n",
    "\n",
    "Variables de ajuste en cada mercado?\n",
    "La variable de ajuste en el mercado es la cantidad de bienes y servicios\n",
    "¿Qué representa la funcion de demanda agregada? Explique.\n",
    "La curva de demanda agregada representa gráficamente todas las combinaciones entre el nivel de precios y la producción nacional con el mercado monetario y el mercado de bienes. Por eso, también puede entenderse como la cantidad de bienes y servicios se desean adquirir para cada nivel de precios.\n",
    "\n",
    "Funcion de Oferta Agregada de corto plazo, explicar sus componentes.\n",
    "Los componentes de la oferta se encuentran enfocados en los factores de la producción, estos son la tierra, tanto la tierra cultivable, como otros recursos naturales que proviene de ella; el capital comolos recursos y bienes empleados en la producción de otros bienes; el cambio tecnológico, como las nuevas tecnologías para mejorar la producción; el trabajo; los recursos naturales; y la productividad.\n",
    "\n"
   ]
  },
  {
   "cell_type": "markdown",
   "id": "60cd5c25",
   "metadata": {},
   "source": [
    "- (2 puntos) Defina el Multiplicador Keynesiano y dé un ejemplo de cómo influye este en el modelo Ingreso-Gasto Keynesiano.\n",
    "\n",
    "El Multiplicador Keynesiano es la variación que puede haber en alguno de los componentes autónomos de la demanda  agregada (DA) que impacta con un efecto multiplicador en el ingreso hasta generar un nuevo ingreso y producto de equilibrio, de manera que el aumento multiplicado del ingreso puede darse directa o indirectamente por el aumento de los componentes autónomos de la DA. Ya que el  multiplicador  es  el  monto  por  el  que  un  cambio  ocurrido  en  el  Gasto gubernamental (G), o bien la inversión (I) se ve magnificado o multiplicado para determinar la modificación que habrá en el PIB real. Por ejemplo, si la inversión aumenta, el nivel de equilibrio del PBI también aumenta por efecto del producto del cambio en la inversión con el multiplicador"
   ]
  },
  {
   "cell_type": "markdown",
   "id": "485bc288",
   "metadata": {},
   "source": [
    "- (2 puntos) Grafique y explique cúando sucede un exceso y déficit de demanda en el modelo Ingreso-Gasto. Explique cómo se converge al equilibrio a partir de estos dos escenarios.- (2 puntos)\n",
    "\n",
    "Hay desequilibrios cuando  la DA puede ser mayor o igual que el ingreso o producto. Las áreas donde ocurre esto son, en el caso de exceso de demanda, ; y en el caso de déficit de demanda. Esto se contrasrresta, por ejemplo ante un aumento de la demanda,  aumentando la producción en un monto similar al  aumento; es decir, con  cambios en la producción. Si hubiese un déficit de demanda, las empresas deciden disminuir su producción y el  empleo de trabajadores; y viceversa. En síntesis, la oferta de producción se ajusta a los cambios  en la demanda agregada. "
   ]
  },
  {
   "cell_type": "code",
   "execution_count": 53,
   "id": "c51facfb",
   "metadata": {},
   "outputs": [],
   "source": [
    "%matplotlib inline\n",
    "import matplotlib.pyplot as plt\n",
    "import numpy as np\n",
    "import sympy as sy\n",
    "import pandas as pd\n",
    "import numpy as np\n",
    "import random\n",
    "import math\n",
    "import sklearn\n",
    "import scipy as sp\n",
    "import networkx\n",
    "import statsmodels.api as sm\n",
    "import statsmodels.formula.api as smf\n",
    "from statsmodels.iolib.summary2 import summary_col\n",
    "from causalgraphicalmodels import CausalGraphicalModel\n",
    "\n",
    "import ipywidgets as widgets\n",
    "import matplotlib.pyplot as plt\n",
    "import numpy as np\n",
    "import sympy as sy\n",
    "from sympy import *\n",
    "import pandas as pd\n",
    "#from causalgraphicalmodels import CausalGraphicalModel"
   ]
  },
  {
   "cell_type": "markdown",
   "id": "79a9884c",
   "metadata": {},
   "source": [
    "# GRÁFICO PARA EXCESO DE DEMANDA EN EL MODELO INGRESO-GASTO"
   ]
  },
  {
   "cell_type": "code",
   "execution_count": 54,
   "id": "9273d945",
   "metadata": {},
   "outputs": [],
   "source": [
    "#1--------------------------------------------------\n",
    "    # Curva IS ORIGINAL\n",
    "\n",
    "# Parámetros\n",
    "\n",
    "Y_size = 100 \n",
    "\n",
    "Co = 35\n",
    "Io = 40\n",
    "Go = 50\n",
    "Xo = 2\n",
    "h = 0.8\n",
    "b = 0.5\n",
    "m = 0.4\n",
    "t = 0.8\n",
    "\n",
    "Y = np.arange(Y_size)\n",
    "\n",
    "\n",
    "# Ecuación \n",
    "def r_IS(b, m, t, Co, Io, Go, Xo, h, Y):\n",
    "    r_IS = (Co + Io + Go + Xo - Y * (1-(b-m)*(1-t)))/h\n",
    "    return r_IS\n",
    "\n",
    "r = r_IS(b, m, t, Co, Io, Go, Xo, h, Y)\n",
    "\n",
    "\n",
    "#2--------------------------------------------------\n",
    "    # Curva LM ORIGINAL\n",
    "\n",
    "# Parámetros\n",
    "\n",
    "Y_size = 100\n",
    "\n",
    "k = 2\n",
    "j = 1                \n",
    "Ms = 200             \n",
    "P  = 20               \n",
    "\n",
    "Y = np.arange(Y_size)\n",
    "\n",
    "# Ecuación\n",
    "\n",
    "def i_LM( k, j, Ms, P, Y):\n",
    "    i_LM = (-Ms/P)/j + k/j*Y\n",
    "    return i_LM\n",
    "\n",
    "i = i_LM( k, j, Ms, P, Y)"
   ]
  },
  {
   "cell_type": "code",
   "execution_count": 55,
   "id": "4ad02682",
   "metadata": {},
   "outputs": [],
   "source": [
    "#--------------------------------------------------\n",
    "    # NUEVA curva IS: aumento Gasto de Gobierno (Go)\n",
    "    \n",
    "# Definir SOLO el parámetro cambiado\n",
    "Go = 80\n",
    "\n",
    "# Generar la ecuación con el nuevo parámetro\n",
    "def r_IS(b, m, t, Co, Io, Go, Xo, h, Y):\n",
    "    r_IS = (Co + Io + Go + Xo - Y * (1-(b-m)*(1-t)))/h\n",
    "    return r_IS\n",
    "\n",
    "r_G = r_IS(b, m, t, Co, Io, Go, Xo, h, Y)"
   ]
  },
  {
   "cell_type": "code",
   "execution_count": 56,
   "id": "676163f4",
   "metadata": {},
   "outputs": [
    {
     "data": {
      "image/png": "[encoded data removed]",
      "text/plain": [
       "<Figure size 720x576 with 1 Axes>"
      ]
     },
     "metadata": {
      "needs_background": "light"
     },
     "output_type": "display_data"
    }
   ],
   "source": [
    "# Gráfico\n",
    "\n",
    "# Dimensiones del gráfico\n",
    "y_max = np.max(i)\n",
    "fig, ax = plt.subplots(figsize=(10, 8))\n",
    "\n",
    "# Curvas a graficar\n",
    "ax.plot(Y, r, label = \"IS_(G_0)\", color = \"C1\") #IS_orginal\n",
    "ax.plot(Y, r_G, label = \"IS_(G_1)\", color = \"C1\", linestyle = 'dashed') #IS_modificada\n",
    "\n",
    "ax.plot(Y, i, label=\"LM\", color = \"C0\")  #LM_original\n",
    "\n",
    "# Texto y figuras agregadas\n",
    "plt.axvline(x=51.5,  ymin= 0, ymax= 0.57, linestyle = \":\", color = \"grey\")\n",
    "plt.axhline(y=93, xmin= 0, xmax= 0.52, linestyle = \":\", color = \"grey\")\n",
    "\n",
    "plt.axvline(x=63,  ymin= 0, ymax= 0.57, linestyle = \":\", color = \"grey\")\n",
    "plt.axhline(y=115, xmin= 0, xmax= 0.6, linestyle = \":\", color = \"grey\")\n",
    "plt.text(65,117, '$E_1$', fontsize = 14, color = 'black')\n",
    "\n",
    "plt.text(49,100, '$E_0$', fontsize = 14, color = 'black')\n",
    "plt.text(-1,100, '$r_0$', fontsize = 12, color = 'black')\n",
    "plt.text(53,-40, '$Y_0$', fontsize = 12, color = 'black')\n",
    "#plt.text(50,52, '$E_1$', fontsize = 14, color = '#3D59AB')\n",
    "#plt.text(-1,72, '$r_1$', fontsize = 12, color = '#3D59AB')\n",
    "plt.text(47,-40, '$Y_1$', fontsize = 12, color = '#3D59AB')\n",
    "\n",
    "#plt.text(69, 115, '→', fontsize=15, color='grey')\n",
    "#plt.text(69, 52, '←', fontsize=15, color='grey')\n",
    "\n",
    "# Título, ejes y leyenda\n",
    "ax.set(title=\"Politica Fiscal Expansiva\", xlabel= r'Y', ylabel= r'r')\n",
    "ax.legend()\n",
    "\n",
    "plt.show()"
   ]
  },
  {
   "cell_type": "markdown",
   "id": "4c52e61a",
   "metadata": {},
   "source": [
    "# GRÁFICO PARA DÉFICIT DE DEMANDA EN EL MODELO INGRESO-GASTO"
   ]
  },
  {
   "cell_type": "code",
   "execution_count": 57,
   "id": "9f38d0a2",
   "metadata": {},
   "outputs": [],
   "source": [
    "#1--------------------------------------------------\n",
    "    # Curva IS ORIGINAL\n",
    "\n",
    "# Parámetros\n",
    "\n",
    "Y_size = 100 \n",
    "\n",
    "Co = 35\n",
    "Io = 40\n",
    "Go = 50\n",
    "Xo = 2\n",
    "h = 0.8\n",
    "b = 0.5\n",
    "m = 0.4\n",
    "t = 0.8\n",
    "\n",
    "Y = np.arange(Y_size)\n",
    "\n",
    "\n",
    "# Ecuación \n",
    "def r_IS(b, m, t, Co, Io, Go, Xo, h, Y):\n",
    "    r_IS = (Co + Io + Go + Xo - Y * (1-(b-m)*(1-t)))/h\n",
    "    return r_IS\n",
    "\n",
    "r = r_IS(b, m, t, Co, Io, Go, Xo, h, Y)\n",
    "\n",
    "\n",
    "#2--------------------------------------------------\n",
    "    # Curva LM ORIGINAL\n",
    "\n",
    "# Parámetros\n",
    "\n",
    "Y_size = 100\n",
    "\n",
    "k = 2\n",
    "j = 1                \n",
    "Ms = 200             \n",
    "P  = 20               \n",
    "\n",
    "Y = np.arange(Y_size)\n",
    "\n",
    "# Ecuación\n",
    "\n",
    "def i_LM( k, j, Ms, P, Y):\n",
    "    i_LM = (-Ms/P)/j + k/j*Y\n",
    "    return i_LM\n",
    "\n",
    "i = i_LM( k, j, Ms, P, Y)"
   ]
  },
  {
   "cell_type": "code",
   "execution_count": 58,
   "id": "0df58301",
   "metadata": {},
   "outputs": [],
   "source": [
    "#--------------------------------------------------\n",
    "    # NUEVA curva IS: disminución Gasto de Gobienro (Go)\n",
    "    \n",
    "# Definir SOLO el parámetro cambiado\n",
    "Go = 30\n",
    "\n",
    "# Generar la ecuación con el nuevo parámetro\n",
    "def r_IS(b, m, t, Co, Io, Go, Xo, h, Y):\n",
    "    r_IS = (Co + Io + Go + Xo - Y * (1-(b-m)*(1-t)))/h\n",
    "    return r_IS\n",
    "\n",
    "r_G = r_IS(b, m, t, Co, Io, Go, Xo, h, Y)"
   ]
  },
  {
   "cell_type": "code",
   "execution_count": 59,
   "id": "c98ed559",
   "metadata": {},
   "outputs": [
    {
     "data": {
      "image/png": "[encoded data removed]",
      "text/plain": [
       "<Figure size 720x576 with 1 Axes>"
      ]
     },
     "metadata": {
      "needs_background": "light"
     },
     "output_type": "display_data"
    }
   ],
   "source": [
    "# Gráfico\n",
    "\n",
    "# Dimensiones del gráfico\n",
    "y_max = np.max(i)\n",
    "fig, ax = plt.subplots(figsize=(10, 8))\n",
    "\n",
    "# Curvas a graficar\n",
    "ax.plot(Y, r, label = \"IS_(G_0)\", color = \"C1\") #IS_orginal\n",
    "ax.plot(Y, r_G, label = \"IS_(G_1)\", color = \"C1\", linestyle = 'dashed') #IS_modificada\n",
    "\n",
    "ax.plot(Y, i, label=\"LM\", color = \"C0\")  #LM_original\n",
    "\n",
    "# Texto y figuras agregadas\n",
    "plt.axvline(x=51.5,  ymin= 0, ymax= 0.57, linestyle = \":\", color = \"grey\")\n",
    "plt.axhline(y=93, xmin= 0, xmax= 0.52, linestyle = \":\", color = \"grey\")\n",
    "\n",
    "plt.axvline(x=45,  ymin= 0, ymax= 0.57, linestyle = \":\", color = \"grey\")\n",
    "plt.axhline(y=75, xmin= 0, xmax= 0.6, linestyle = \":\", color = \"grey\")\n",
    "plt.text(45,75, '$E_1$', fontsize = 14, color = 'black')\n",
    "\n",
    "plt.text(49,100, '$E_0$', fontsize = 14, color = 'black')\n",
    "plt.text(-1,100, '$r_0$', fontsize = 12, color = 'black')\n",
    "plt.text(53,-40, '$Y_0$', fontsize = 12, color = 'black')\n",
    "#plt.text(50,52, '$E_1$', fontsize = 14, color = '#3D59AB')\n",
    "#plt.text(-1,72, '$r_1$', fontsize = 12, color = '#3D59AB')\n",
    "plt.text(47,-40, '$Y_1$', fontsize = 12, color = '#3D59AB')\n",
    "\n",
    "#plt.text(69, 115, '→', fontsize=15, color='grey')\n",
    "#plt.text(69, 52, '←', fontsize=15, color='grey')\n",
    "\n",
    "# Título, ejes y leyenda\n",
    "ax.set(title=\"Politica Fiscal Expansiva\", xlabel= r'Y', ylabel= r'r')\n",
    "ax.legend()\n",
    "\n",
    "plt.show()"
   ]
  },
  {
   "cell_type": "markdown",
   "id": "bed12738",
   "metadata": {},
   "source": [
    "- (2 puntos) ¿Cuáles son las herramientas de política fiscal y política monetaria? Dea un ejemplo para cada una de ellas dentro del contexto peruano. Coloque su fuente en caso sea necesario. (Solo necesita 1 para pol. Fiscal y 1 para Monetaria)."
   ]
  },
  {
   "cell_type": "markdown",
   "id": "edcd63ed",
   "metadata": {},
   "source": [
    "Las herramientas de política Monetaria son el agregado monetario definido como oferta de dinero en sentido estricto, la tasa de interés -el costo de oportunidad de invertir el capital y  reservarlo para el futuro. En el caso peruano, Castillo, P., Peréz, F., & Tuesta, V. (2011) consideran al instrumento de tipo de cambio con un doble rol en el mercado interbancario para analizar los choques de política monetaria. Por un lado, como parte del conjunto de información al que responde el banco central,por tanto, el instrumento de política monetaria que responde a la evoluciÛn del tipo de cambio; por otro lado, se considera que los choques cambiarios, generan presiones sobre la demanda por moneda local, en la medida que los bancos requieren incrementar su demanda por esta moneda para tomar posiciones largas en moneda extranjera.\n",
    "\n",
    "Las herramientas de política Fiscal son el bono -como un contrato de deuda en el que el emisor se compromete a hacer pagos  periódicos de servicios hasta una fecha determinada de  vencimiento; la tasa de  impuestos, que es utilizado por el gobierno para financiar sus gastos, G; y las  transferencias que realiza a las familias, TR, (transferencias a través de la seguridad social  y otros programas). En el caso peruano, Manayay A. (2014) usó un marco teórico de la teoría Keynesiana para su análisis del impacto de los shocks macroeconómicos y financieros sobre la posición fiscal en la economía peruana, en el periodo 1993 a 2012, para lo que considero como uno de sus 2 instrumentos principal para la política económica los impuestos.\n",
    "\n",
    "Castillo, P., Peréz, F., & Tuesta, V. (2011). Los mecanismos de transmisión de la política monetaria en Perú. Revista de Estudios Económicos, 21, 41-63.\n",
    "\n",
    "Manayay, P. (2014). Análisis de los shocks macroeconómicos sobre la posicion fiscal enla economía peruana: periodo 1993.m1- 2012. m3, un análisis estructural de vectores autorregresivos (SVAR). [Tesis, Universidad Nacional de Piura]. http://repositorio.unp.edu.pe/handle/UNP/465"
   ]
  },
  {
   "cell_type": "markdown",
   "id": "f2a8e892",
   "metadata": {},
   "source": [
    "- (2) Explique qué funciones del dinero respaldan el éxito de de Yape y Plin (Aplicativos moviles para intercambio de dinero)."
   ]
  },
  {
   "cell_type": "markdown",
   "id": "738a4147",
   "metadata": {},
   "source": [
    "Las funciones del dinero respaldan el éxito de de Yape y Plin (Aplicativos moviles para intercambio de dinero) son que sirven como un medio para el intercambio de bienes y servicios, pues a través de ellos se puede hacer transacciones rápidas, lo cual es muy conveniente; y son un medio de pago para cancelar deudas o sus servicios, pues no se requiere un medio físico para realizar estas obligaciones y pueden darse en cualquier momento del día. No pueden ser un medio para expresar materialmente el  precio de todas las mercancías y otras variables económicas o que permitan mantener la riqueza porque son aplicativos que permiten el intercambio o transacciones de una riqueza que tiene un respaldo material en otra instancia. "
   ]
  },
  {
   "cell_type": "markdown",
   "id": "bc79c354",
   "metadata": {},
   "source": [
    "- (3 puntos) Cuáles son las conclusiones principales del paper de Dancurt \"Inflation Targeting in Peru: The Reasons for the Success\"\n",
    "\n",
    "El artículo de Dancourt se centra en evaluar el papel de la política monetaria para lograr una estibilidad macroeconómica aunque durante periodos limitados. Por eso responde a ¿cómo se utilizaron los principales instrumentos de la política monetaria peruana durante el período 2002-2013? Las principales conclusiones que tiene son que el banco central peruano actúo en 2 sentidos: implementó un sistema de metas de inflación y acumuló suficientes reservas de divisas. Ello se realizó a través del control de los siguientes instrumentos: el tipo de interés a corto plazo fijado por el banco central o tipo de interés de referencia, el coeficiente de reservas obligatorias en moneda local y extranjera, y la intervención esterilizada en el mercado de divisas. También se recurrió a la (des)dolarización del crédito bancario.Estas dos decisiones le permitieron preservar la estabilidad macroeconómica en entornos internacionales favorables o desfavorables. "
   ]
  },
  {
   "cell_type": "markdown",
   "id": "5ab6d7e3",
   "metadata": {},
   "source": [
    "# Ejercicio 1 (6 puntos). El modelo ingreso-gasto en una economía abierta"
   ]
  },
  {
   "cell_type": "markdown",
   "id": "6f889261",
   "metadata": {},
   "source": [
    "-  a) puntos) Encuentre el Ingreso de Equilibrio  e identifique el multiplicador keynesiano."
   ]
  },
  {
   "cell_type": "markdown",
   "id": "a899cd5d",
   "metadata": {},
   "source": [
    "#### Curva IS\n",
    "\n",
    "La curva IS se deriva de la igualdad entre el ingreso $(Y)$ y la demanda agregada $(DA)$:\n",
    "\n",
    "$$ Y = C + I + G + X - M $$\n",
    "\n",
    "Debemos recordar las ecuaciones de cada componente:\n",
    "\n",
    "$$ C = C_0 + bY^d $$\n",
    "\n",
    "$$ I = I_0 - hr $$\n",
    "\n",
    "$$ G = G_0 $$\n",
    "\n",
    "$$ T = tY $$\n",
    "\n",
    "$$ X = X_0 $$\n",
    "\n",
    "$$ M = mY^d $$\n",
    "\n",
    "Con esto, podemos reemplazar en la fórmula con la Tributación.\n",
    "\n",
    "$$ Y - T = C + I - T + G + X - M $$\n",
    "\n",
    "$$ Y^d = C + I - T + G + X - M $$\n",
    "\n",
    "$$ (Y^d - C) + (T - G) + (M - X) = I $$\n",
    "\n",
    "Ahora podemos reemplazar esta fórmula con las demás fórmulas de los componentes de la demanda.\n",
    "\n",
    "$$ (Y^d - C_0 - bY^d) + (T - G_0) + (mY^d - X_0) = I_0 - hr $$\n",
    "\n",
    "$$ [1 - (b - m)(1 - t)]Y - (C_0 + G_0 + X_0) = I_0 - hr $$\n",
    "\n",
    "La parte de la izquierda sería el ahorro S, y la parte de la derecha la inversión I.\n",
    "\n",
    "Por lo tanto, tenemos que el equilibrio es Ahorro = Ingreso, expresado así:\n",
    "\n",
    "$$ S(Y) = I(r) $$\n",
    "\n",
    "Ahora solo falta derivar un poco más para llegar a la ecuación en función con r en función de Y.\n",
    "\n",
    "$$ hr = (C_0 + G_0 + I_0 + X_0) - (1 - (b - m)(1 - t))Y $$\n",
    "\n",
    "$$ r = \\frac{1}{h}(C_0 + G_0 + I_0 + X_0) - \\frac{1 - (b - m)(1 - t)}{h}Y $$\n",
    "\n",
    "Podemos simplificarlo ahora con betas, en vez de los alphas que usamos en la curva de demanda.\n",
    "\n",
    "$$ r = \\frac{B_0}{h} - \\frac{B_1}{h}Y $$\n",
    "\n",
    "Donde B0 es el intercepto y B1 es la pendiente."
   ]
  },
  {
   "cell_type": "markdown",
   "id": "eec8efca",
   "metadata": {},
   "source": [
    "#### Diferencial de r en base a Y"
   ]
  },
  {
   "cell_type": "markdown",
   "id": "4f78feec",
   "metadata": {},
   "source": [
    "#### Derivación curva IS\n",
    "\n",
    "La curva IS representa el equilibrio del mercado de bienes, que es equivalente al Ingreso = Demanda Agregada.\n",
    "\n",
    "Debemos recordar las ecuaciones de cada componente:\n",
    "\n",
    "$$ C = C_0 + bY^d $$\n",
    "\n",
    "$$ I = I_0 - hr $$\n",
    "\n",
    "$$ G = G_0 $$\n",
    "\n",
    "$$ T = tY $$\n",
    "\n",
    "$$ X = X_0 $$\n",
    "\n",
    "$$ M = mY^d $$\n",
    "\n",
    "Asimismo, la Demanda agregada y la condición de equilibrio son las siguientes ecuaciones:\n",
    "\n",
    "$$ DA = C + I + G + X - M $$\n",
    "\n",
    "$$ Y = C + I + G + X - M $$\n",
    "\n",
    "Con esto podemos restar la tributación \"T\" de cada componente y obtener la ecuación de Ingreso disponible \n",
    "\n",
    "$$ Y^d = C + I - T + G + X - M $$\n",
    "\n",
    "$$ (Y^d - C) + (T - G) + (M - X) = I $$\n",
    "\n",
    "En base a esto, podemos reemplazar los valores que se igualan a Y y obtenemos la siguiente ecuación en función de r:\n",
    "\n",
    "$$ Y = \\frac{1}{1 - (b - m)(1 - t)} (C_0 + I_0 + G_0 + X_0) - \\frac{h}{1 - (b - m)(1 - t)}r $$\n",
    "\n",
    "Que también se puede leer así en función de Y:\n",
    "\n",
    "$$ r = \\frac{1}{h}(C_0 + G_0 + I_0 + X_0) - \\frac{1 - (b - m)(1 - t)}{h}Y $$\n",
    "\n",
    "Esta ecuación indica que existe una tasa de interés que se equilibra con los cambios en los componentes autónomos de la demanda agregada y el ingreso disponible. Esta es una relación inversa."
   ]
  },
  {
   "cell_type": "code",
   "execution_count": 91,
   "id": "a26fae01",
   "metadata": {},
   "outputs": [],
   "source": [
    "# Parámetros\n",
    "\n",
    "Y_size = 100 \n",
    "\n",
    "Co = 35\n",
    "Io = 40\n",
    "Go = 70\n",
    "Xo = 2\n",
    "h = 0.7\n",
    "b = 0.8\n",
    "m = 0.2\n",
    "t = 0.3\n",
    "r = 0.9\n",
    "\n",
    "Y = np.arange(Y_size)\n",
    "\n",
    "# Ecuación de la curva del ingreso de equilibrio\n",
    "\n",
    "def DA_K(Co, Io, Go, Xo, h, r, b, m, t, Y):\n",
    "    DA_K = (Co + Io + Go + Xo - h*r) + ((b - m)*(1 - t)*Y)\n",
    "    return DA_K\n",
    "\n",
    "DA_IS_K = DA_K(Co, Io, Go, Xo, h, r, b, m, t, Y)\n",
    "\n",
    "#--------------------------------------------------\n",
    "# Recta de 45°\n",
    "\n",
    "a = 2.5 \n",
    "\n",
    "def L_45(a, Y):\n",
    "    L_45 = a*Y\n",
    "    return L_45\n",
    "\n",
    "L_45 = L_45(a, Y)\n",
    "\n",
    "#--------------------------------------------------\n",
    "# Segunda curva de ingreso de equilibrio\n",
    "\n",
    "    # Definir cualquier parámetro autónomo\n",
    "Go = 35\n",
    "\n",
    "# Generar la ecuación con el nuevo parámetro\n",
    "def DA_K(Co, Io, Go, Xo, h, r, b, m, t, Y):\n",
    "    DA_K = (Co + Io + Go + Xo - h*r) + ((b - m)*(1 - t)*Y)\n",
    "    return DA_K\n",
    "\n",
    "DA_G = DA_K(Co, Io, Go, Xo, h, r, b, m, t, Y)\n"
   ]
  },
  {
   "cell_type": "code",
   "execution_count": 92,
   "id": "98595931",
   "metadata": {},
   "outputs": [],
   "source": [
    "Y_size = 100 \n",
    "\n",
    "Co = 35\n",
    "Io = 40\n",
    "Go = 70\n",
    "Xo = 2\n",
    "h = 0.7\n",
    "b = 0.8\n",
    "m = 0.2\n",
    "t = 0.3\n",
    "\n",
    "Y = np.arange(Y_size)\n",
    "\n",
    "\n",
    "# Ecuación \n",
    "def r_IS(b, m, t, Co, Io, Go, Xo, h, Y):\n",
    "    r_IS = (Co + Io + Go + Xo - Y * (1-(b-m)*(1-t)))/h\n",
    "    return r_IS\n",
    "\n",
    "r = r_IS(b, m, t, Co, Io, Go, Xo, h, Y)"
   ]
  },
  {
   "cell_type": "code",
   "execution_count": 93,
   "id": "19a5de75",
   "metadata": {},
   "outputs": [
    {
     "data": {
      "image/png": "[encoded data removed]",
      "text/plain": [
       "<Figure size 576x1152 with 2 Axes>"
      ]
     },
     "metadata": {},
     "output_type": "display_data"
    }
   ],
   "source": [
    "# Gráfico de la derivación de la curva IS a partir de la igualdad (DA = Y)\n",
    "\n",
    "    # Dos gráficos en un solo cuadro (ax1 para el primero y ax2 para el segundo)\n",
    "fig, (ax1, ax2) = plt.subplots(2, figsize=(8, 16)) \n",
    "\n",
    "#---------------------------------\n",
    "    # Gráfico 1: ingreso de Equilibrio\n",
    "ax1.yaxis.set_major_locator(plt.NullLocator())   \n",
    "ax1.xaxis.set_major_locator(plt.NullLocator())\n",
    "\n",
    "ax1.plot(Y, DA_IS_K, label = \"DA_0\", color = \"C0\") \n",
    "ax1.plot(Y, DA_G, label = \"DA_1\", color = \"C0\") \n",
    "ax1.plot(Y, L_45, color = \"#404040\") \n",
    "\n",
    "ax1.axvline(x = 70.5, ymin= 0, ymax = 0.69, linestyle = \":\", color = \"grey\")\n",
    "ax1.axvline(x = 54,  ymin= 0, ymax = 0.54, linestyle = \":\", color = \"grey\")\n",
    "\n",
    "ax1.text(6, 4, '$45°$', fontsize = 11.5, color = 'black')\n",
    "ax1.text(2.5, -3, '$◝$', fontsize = 30, color = 'black')\n",
    "ax1.text(72, 0, '$Y_1$', fontsize = 12, color = 'black')\n",
    "ax1.text(56, 0, '$Y_0$', fontsize = 12, color = 'black')\n",
    "ax1.text(67, 185, 'E_1', fontsize = 12, color = 'black')\n",
    "ax1.text(50, 142, 'E_0', fontsize = 12, color = 'black')\n",
    "\n",
    "ax1.set(title = \"Derivación de la curva IS a partir del equilibrio $Y=DA$\", xlabel = r'Y', ylabel = r'DA')\n",
    "ax1.legend()\n",
    "\n",
    "#---------------------------------\n",
    "    # Gráfico 2: Curva IS\n",
    "\n",
    "ax2.yaxis.set_major_locator(plt.NullLocator())   \n",
    "ax2.xaxis.set_major_locator(plt.NullLocator())\n",
    "\n",
    "ax2.plot(Y, r, label = \"IS\", color = \"C1\") \n",
    "\n",
    "ax2.axvline(x = 70.5, ymin= 0, ymax = 1, linestyle = \":\", color = \"grey\")\n",
    "ax2.axvline(x = 54,  ymin= 0, ymax = 1, linestyle = \":\", color = \"grey\")\n",
    "plt.axhline(y = 151.5, xmin= 0, xmax = 0.7, linestyle = \":\", color = \"grey\")\n",
    "plt.axhline(y = 165, xmin= 0, xmax = 0.55, linestyle = \":\", color = \"grey\")\n",
    "\n",
    "ax2.text(72, 128, '$Y_1$', fontsize = 12, color = 'black')\n",
    "ax2.text(56, 128, '$Y_0$', fontsize = 12, color = 'black')\n",
    "ax2.text(1, 153, '$r_1$', fontsize = 12, color = 'black')\n",
    "ax2.text(1, 167, '$r_0$', fontsize = 12, color = 'black')\n",
    "ax2.text(72, 152, 'E_1', fontsize = 12, color = 'black')\n",
    "ax2.text(55, 166, 'E_0', fontsize = 12, color = 'black')\n",
    "\n",
    "ax2.set(title = \"\",xlabel = r'Y', ylabel = r'r')\n",
    "ax2.legend()\n",
    "\n",
    "plt.show()"
   ]
  },
  {
   "cell_type": "markdown",
   "id": "aeb24e5b",
   "metadata": {},
   "source": [
    "El multiplicador keynesiano se puede identificar en el primer gráfico pues este indicador se expresa en los cambios en la Demanda Agregada (DA), si aumentase (o disminuye) se desplaza hacia arriba (abajo) y habría un nuevo equilibrio"
   ]
  },
  {
   "cell_type": "markdown",
   "id": "7aea1c1c",
   "metadata": {},
   "source": [
    "- b) (2 puntos) Analice los efectos sobre la variable endógena  de una disminución del gasto fiscal . El análisis debe ser intuitivo, matemático y gráfico.G<0\n"
   ]
  },
  {
   "cell_type": "markdown",
   "id": "6ec17392",
   "metadata": {},
   "source": [
    "Intuición: \n",
    "\n",
    "## En el mercado de Bienes\n",
    "$$ Go↓ → DA↓ → Y>DA → Y↓ $$ \n",
    "## En el mercado de dinero\n",
    "$$ Y↓ → Md↓ → Ms>Md → r↓ $$ \n",
    "\n",
    "#Si disminuye el gasto de gobierno, disminuye la demanda agregada DA, generando un exceso de oferta, por ello las empresas deciden reducir el producto. Es por ello que la demanda de dinero baja, y haya un exceso de oferta de dinero, por lo que la tasa de interés baja."
   ]
  },
  {
   "cell_type": "code",
   "execution_count": 62,
   "id": "3c71d245",
   "metadata": {},
   "outputs": [],
   "source": [
    "#--------------------------------------------------\n",
    "    # Curva IS\n",
    "\n",
    "# Parámetros\n",
    "\n",
    "Y_size = 100 \n",
    "\n",
    "Co = 35\n",
    "Io = 40\n",
    "Go = 50\n",
    "Xo = 2\n",
    "h = 0.8\n",
    "b = 0.5\n",
    "m = 0.4\n",
    "t = 0.8\n",
    "\n",
    "Y = np.arange(Y_size)\n",
    "\n",
    "\n",
    "# Ecuación \n",
    "def r_IS(b, m, t, Co, Io, Go, Xo, h, Y):\n",
    "    r_IS = (Co + Io + Go + Xo)/h - ( ( 1-(b-m)*(1-t) ) / h)*Y  \n",
    "    return r_IS\n",
    "\n",
    "r_is = r_IS(b, m, t, Co, Io, Go, Xo, h, Y)\n",
    "\n",
    "\n",
    "#--------------------------------------------------\n",
    "    # Curva LM \n",
    "\n",
    "# Parámetros\n",
    "\n",
    "Y_size = 100\n",
    "\n",
    "k = 2\n",
    "j = 1                \n",
    "Ms = 200             \n",
    "P  = 20               \n",
    "\n",
    "Y = np.arange(Y_size)\n",
    "\n",
    "# Ecuación\n",
    "\n",
    "def r_LM(k, j, Ms, P, Y):\n",
    "    r_LM = - (1/j)*(Ms/P) + (k/j)*Y\n",
    "    return r_LM\n",
    "\n",
    "r_lm = r_LM( k, j, Ms, P, Y)"
   ]
  },
  {
   "cell_type": "code",
   "execution_count": 63,
   "id": "124a0529",
   "metadata": {},
   "outputs": [
    {
     "name": "stdout",
     "output_type": "stream",
     "text": [
      "La pendiente de la curva IS es -(-(1 - t)*(b - m) + 1)/h\n"
     ]
    }
   ],
   "source": [
    "# Primero declarar los simbolos\n",
    "Co, Io, Go, Xo, h, r, b, m, t, Y = symbols('Co Io Go Xo h r b m t Y')\n",
    "\n",
    "# Ecuacion de la curva IS \n",
    "r_eq_is = (Co + Io + Go + Xo)/h - ( ( 1-(b-m)*(1-t) ) / h)*Y\n",
    "\n",
    "# tomar diferenciales\n",
    "df_r_eq_is_y = diff(r_eq_is, Y)\n",
    "\n",
    "print(\"La pendiente de la curva IS es\", df_r_eq_is_y)  # este diferencial es positivo"
   ]
  },
  {
   "cell_type": "code",
   "execution_count": 64,
   "id": "7c0a3f98",
   "metadata": {},
   "outputs": [
    {
     "name": "stdout",
     "output_type": "stream",
     "text": [
      "La pendiente de la curva IS es k/j\n"
     ]
    }
   ],
   "source": [
    "# Declaren todos los parametros de la curva lm como simbolos\n",
    "k, j, Ms, P, Y = symbols('k j Ms P Y')\n",
    "\n",
    "# Escribir la ecuacion de la LM \n",
    "r_eq_lm = - (1/j)*(Ms/P) + (k/j)*Y\n",
    "\n",
    "# TOMAR el diferencial\n",
    "df_r_eq_lm_y = diff(r_eq_lm, Y)\n",
    "print(\"La pendiente de la curva IS es\", df_r_eq_lm_y)  # este diferencial es positivo"
   ]
  },
  {
   "cell_type": "code",
   "execution_count": 65,
   "id": "8595436e",
   "metadata": {},
   "outputs": [],
   "source": [
    "#Matemática\n",
    "\n",
    "# nombrar variables como símbolos\n",
    "Co, Io, Go, Xo, h, r, b, m, t, beta_0, beta_1  = symbols('Co Io Go Xo h r b m t beta_0, beta_1')\n",
    "\n",
    "# nombrar variables como símbolos\n",
    "k, j, Ms, P, Y = symbols('k j Ms P Y')\n",
    "\n",
    "# Beta_0 y beta_1\n",
    "beta_0 = (Co + Io + Go + Xo)\n",
    "beta_1 = ( 1-(b-m)*(1-t) )\n",
    "\n",
    "# Producto de equilibrio y la tasa de interes de equilibrio en el modelo IS-LM\n",
    "r_eq = (k*beta_0)/(k*h + j*beta_1) - ( beta_1 / (k*h + j*beta_1) )*(Ms/P)\n",
    "Y_eq = (j*beta_0)/(k*h + j*beta_1) + ( h / (k*h + j*beta_1) )*(Ms/P)"
   ]
  },
  {
   "cell_type": "markdown",
   "id": "ce00be66",
   "metadata": {},
   "source": [
    "Ambos diferenciales de Y y r son positivos cuando cambia el gasto autónomo. Sin embargo, en este caso, el gasto autónomo esta disminuyendo, por lo que la multiplicación de los diferenciales será uno positivo por uno negativo.\n",
    "\n",
    "$$ ∆Y^eq = (+)(-) $$\n",
    "$$ ∆r^eq = (+)(-) $$\n",
    "\n",
    "Por lo tanto, tanto el producto como la tasa de interés van a disminuír."
   ]
  },
  {
   "cell_type": "code",
   "execution_count": 66,
   "id": "1e724c3e",
   "metadata": {},
   "outputs": [],
   "source": [
    "#1--------------------------------------------------\n",
    "    # Curva IS ORIGINAL\n",
    "\n",
    "# Parámetros\n",
    "\n",
    "Y_size = 100 \n",
    "\n",
    "Co = 35\n",
    "Io = 40\n",
    "Go = 80\n",
    "Xo = 2\n",
    "h = 0.8\n",
    "b = 0.7\n",
    "m = 0.5\n",
    "t = 0.8\n",
    "\n",
    "Y = np.arange(Y_size)\n",
    "\n",
    "\n",
    "# Ecuación \n",
    "def r_IS(b, m, t, Co, Io, Go, Xo, h, Y):\n",
    "    r_IS = (Co + Io + Go + Xo - Y * (1-(b-m)*(1-t)))/h\n",
    "    return r_IS\n",
    "\n",
    "r = r_IS(b, m, t, Co, Io, Go, Xo, h, Y)\n",
    "\n",
    "\n",
    "#2--------------------------------------------------\n",
    "    # Curva LM ORIGINAL\n",
    "\n",
    "# Parámetros\n",
    "\n",
    "Y_size = 100\n",
    "\n",
    "k = 2\n",
    "j = 1                \n",
    "Ms = 200             \n",
    "P  = 20               \n",
    "\n",
    "Y = np.arange(Y_size)\n",
    "\n",
    "# Ecuación\n",
    "\n",
    "def i_LM( k, j, Ms, P, Y):\n",
    "    i_LM = (-Ms/P)/j + k/j*Y\n",
    "    return i_LM\n",
    "\n",
    "i = i_LM( k, j, Ms, P, Y)"
   ]
  },
  {
   "cell_type": "code",
   "execution_count": 67,
   "id": "a30e59f2",
   "metadata": {},
   "outputs": [],
   "source": [
    "#--------------------------------------------------\n",
    "    # NUEVA curva IS: reducción Gasto de Gobierno (Go)\n",
    "    \n",
    "# Definir SOLO el parámetro cambiado\n",
    "Go = 50\n",
    "\n",
    "# Generar la ecuación con el nuevo parámetro\n",
    "def r_IS(b, m, t, Co, Io, Go, Xo, h, Y):\n",
    "    r_IS = (Co + Io + Go + Xo - Y * (1-(b-m)*(1-t)))/h\n",
    "    return r_IS\n",
    "\n",
    "r_G = r_IS(b, m, t, Co, Io, Go, Xo, h, Y)"
   ]
  },
  {
   "cell_type": "code",
   "execution_count": 68,
   "id": "ff108512",
   "metadata": {},
   "outputs": [
    {
     "data": {
      "image/png": "[encoded data removed]",
      "text/plain": [
       "<Figure size 720x576 with 1 Axes>"
      ]
     },
     "metadata": {
      "needs_background": "light"
     },
     "output_type": "display_data"
    }
   ],
   "source": [
    "# Gráfico\n",
    "\n",
    "# Dimensiones del gráfico\n",
    "y_max = np.max(i)\n",
    "fig, ax = plt.subplots(figsize=(10, 8))\n",
    "\n",
    "# Curvas a graficar\n",
    "ax.plot(Y, r, label = \"IS_(G_0)\", color = \"C1\") #IS_orginal\n",
    "ax.plot(Y, r_G, label = \"IS_(G_1)\", color = \"C1\", linestyle = 'dashed') #IS_modificada\n",
    "\n",
    "ax.plot(Y, i, label=\"LM\", color = \"C0\")  #LM_original\n",
    "\n",
    "# Texto y figuras agregadas\n",
    "plt.axvline(x=51.5,  ymin= 0, ymax= 0.5, linestyle = \":\", color = \"grey\")\n",
    "plt.axhline(y=93, xmin= 0, xmax= 0.52, linestyle = \":\", color = \"grey\")\n",
    "\n",
    "plt.axvline(x=63,  ymin= 0, ymax= 0.6, linestyle = \":\", color = \"grey\")\n",
    "plt.axhline(y=115, xmin= 0, xmax= 0.62, linestyle = \":\", color = \"grey\")\n",
    "plt.text(65,117, '$E_0$', fontsize = 14, color = 'black')\n",
    "\n",
    "plt.text(49,100, '$E_1$', fontsize = 14, color = 'black')\n",
    "plt.text(-1,100, '$r_1$', fontsize = 12, color = 'black')\n",
    "plt.text(60,-40, '$Y_0$', fontsize = 12, color = 'black')\n",
    "plt.text(-1,120, '$r_0$', fontsize = 12, color = 'black')\n",
    "plt.text(53,-40, '$Y_1$', fontsize = 12, color = 'black')\n",
    "\n",
    "#plt.text(69, 115, '→', fontsize=15, color='grey')\n",
    "#plt.text(69, 52, '←', fontsize=15, color='grey')\n",
    "\n",
    "# Título, ejes y leyenda\n",
    "ax.set(title=\"Politica Fiscal Contractiva\", xlabel= r'Y', ylabel= r'r')\n",
    "ax.legend()\n",
    "\n",
    "plt.show()"
   ]
  },
  {
   "cell_type": "markdown",
   "id": "3e4ce784",
   "metadata": {},
   "source": [
    "- c) (2 puntos) Analice los efectos sobre la variable endógena  de un incremento del PBI mundial . El análisis debe ser intuitivo, matemático y gráfico.Y>0"
   ]
  },
  {
   "cell_type": "markdown",
   "id": "3aa867e4",
   "metadata": {},
   "source": [
    "## Intuición\n",
    "\n",
    "Si el diferencial de Y es menor que 0, eso significa que el ingreso Y disminuye. Si disminuye Y, entonces la demanda va a ser mayor Esto genera un exceso de oferta en el mercado, o sea un desequilibrio. Ante ello, tiene que disminuír r para regresar al equilibrio.\n",
    "\n",
    "$$ Y↑ → Y > M_d → r↑ $$"
   ]
  },
  {
   "cell_type": "code",
   "execution_count": 94,
   "id": "f2471e85",
   "metadata": {},
   "outputs": [
    {
     "data": {
      "text/plain": [
       "50.0"
      ]
     },
     "execution_count": 94,
     "metadata": {},
     "output_type": "execute_result"
    }
   ],
   "source": [
    "# Parameters con cambio en el nivel del producto\n",
    "r_size = 100\n",
    "\n",
    "k = 0.5\n",
    "j = 0.2                \n",
    "P  = 10 \n",
    "Y_1 = 50\n",
    "MS_0 = 500\n",
    "\n",
    "r = np.arange(r_size)\n",
    "\n",
    "# Necesitamos crear la funcion de demanda \n",
    "\n",
    "def MD(k, j, P, r, Y):\n",
    "    MD_eq = (k*Y - j*r)\n",
    "    return MD_eq\n",
    "MD_0 = MD(k, j, P, r, Y_1)\n",
    "# Necesitamos crear la oferta de dinero.\n",
    "MS = MS_0 / P\n",
    "MS"
   ]
  },
  {
   "cell_type": "code",
   "execution_count": 95,
   "id": "1d25659e",
   "metadata": {},
   "outputs": [
    {
     "data": {
      "image/png": "[encoded data removed]",
      "text/plain": [
       "<Figure size 720x576 with 1 Axes>"
      ]
     },
     "metadata": {},
     "output_type": "display_data"
    }
   ],
   "source": [
    "# Equilibrio en el mercado de dinero\n",
    "\n",
    "# Creamos el seteo para la figura \n",
    "fig, ax1 = plt.subplots(figsize=(10, 8))\n",
    "\n",
    "# Agregamos titulo t el nombre de las coordenadas\n",
    "ax1.set(title=\"Money Market Equilibrium\", xlabel=r'M^s / P', ylabel=r'r')\n",
    "\n",
    "# Ploteamos la demanda de dinero\n",
    "ax1.plot(MD_0, label= '$L_0$', color = '#CD5C5C')\n",
    "#ax1.plot(MD_1, label= '$L_0$', color = '#CD5C5C')\n",
    "\n",
    "\n",
    "# Para plotear la oferta de dinero solo necesitamos crear una linea vertical\n",
    "ax1.axvline(x = MS,  ymin= 0, ymax= 1, color = \"grey\")\n",
    "\n",
    "# Creamos las lineas puntadas para el equilibrio\n",
    "ax1.axhline(y=7.5, xmin= 0, xmax= 0.5, linestyle = \":\", color = \"black\")\n",
    "\n",
    "# Agregamos texto\n",
    "ax1.text(0, 7.5, \"$r_0$\", fontsize = 12, color = 'black')\n",
    "ax1.text(50, 0, \"$(Ms/P)_0$\", fontsize = 12, color = 'black')\n",
    "ax1.text(50, 7.5, \"$E_0$\", fontsize = 12, color = 'black')\n",
    "\n",
    "# Nuevas curvas a partir del cambio en el nivel del producto\n",
    "ax1.plot(MD_1, label= '$L_1$', color = '#4287f5')\n",
    "ax1.axvline(x = MS,  ymin= 0, ymax= 1, color = \"grey\")\n",
    "ax1.axhline(y=15, xmin= 0, xmax= 0.5, linestyle = \":\", color = \"black\")\n",
    "ax1.text(0, 15, \"$r_1$\", fontsize = 12, color = 'black')\n",
    "ax1.text(50, 15, \"$E_1$\", fontsize = 12, color = 'black')\n",
    "\n",
    "\n",
    "ax1.yaxis.set_major_locator(plt.NullLocator())   \n",
    "ax1.xaxis.set_major_locator(plt.NullLocator())\n",
    "\n",
    "ax1.legend()\n",
    "\n",
    "plt.show()"
   ]
  },
  {
   "cell_type": "markdown",
   "id": "27f23306",
   "metadata": {},
   "source": [
    "> Ejercicio 2 (5 puntos). Modelo de OA-DA y el nuevo esquema institucional de Política Monetaria, donde la tasa de interés de referencia  es usada como instrumento."
   ]
  },
  {
   "cell_type": "markdown",
   "id": "9eb2d4a9",
   "metadata": {},
   "source": [
    "- (2 puntos) Encuentre las ecuaciones de equilibrio de Y^{eq\\_da\\_oa} "
   ]
  },
  {
   "cell_type": "markdown",
   "id": "11b4779a",
   "metadata": {},
   "source": [
    "#### Encontrando el ingreso de equilibrio\n",
    "\n",
    "#curva IS:\n",
    "\n",
    "$$ r = \\frac{B_o}{h} - \\frac{B_1}{h}Y $$\n",
    "\n",
    "- Donde $ B_0 = C_o + I_o + G_o + X_o $ y $ B_1 = 1 - (b - m)(1 - t) $\n",
    "\n",
    "y la curva LM:\n",
    "\n",
    "$$  r = -\\frac{1}{j}\\frac{Mo^s}{P_o} + \\frac{k}{j}Y $$\n",
    "\n",
    "Para encontrar las ecuaciones de equilibrio, debemos entonces igualar ambas funciones, ya que ambas se igualan a r:\n",
    "\n",
    "$$ -\\frac{1}{j}\\frac{Mo^s}{P_o} + \\frac{k}{j}Y = \\frac{B_o}{h} - \\frac{B_1}{h}Y $$\n",
    "\n",
    "Ahora podemos modificar las ecuaciones, y traer Y a la izquierda para la ecuación de ingreso de equilibrio:\n",
    "\n",
    "$$ Y^e = \\frac{j B_o}{k h + j B_1} + (\\frac{h}{k h + j B_1})\\frac{Ms_o}{P_o} $$\n",
    "\n",
    "o r a la izquierda, para tener la ecuación de tasa de interés de equilibrio.\n",
    "\n",
    "$$ r^e = \\frac{kB_o}{kh + jB_1} - (\\frac{B_1}{kh + jB_1})\\frac{Ms_o}{P_o} $$\n",
    "\n",
    "Estas dos ecuaciones representan el modelo IS-LM."
   ]
  },
  {
   "cell_type": "markdown",
   "id": "c7b647ff",
   "metadata": {},
   "source": [
    "## Grafico del equilibrio"
   ]
  },
  {
   "cell_type": "code",
   "execution_count": 87,
   "id": "7f15f6a0",
   "metadata": {},
   "outputs": [],
   "source": [
    "\n",
    "#--------------------------------------------------\n",
    "    # Curva IS\n",
    "\n",
    "# Parámetros\n",
    "\n",
    "Y_size = 100 \n",
    "\n",
    "Co = 35\n",
    "Io = 40\n",
    "Go = 50\n",
    "Xo = 2\n",
    "h = 0.8\n",
    "b = 0.7\n",
    "m = 0.5\n",
    "t = 0.8\n",
    "\n",
    "Y = np.arange(Y_size)\n",
    "\n",
    "\n",
    "# Ecuación \n",
    "def r_IS(b, m, t, Co, Io, Go, Xo, h, Y):\n",
    "    r_IS = (Co + Io + Go + Xo)/h - ( ( 1-(b-m)*(1-t) ) / h)*Y  \n",
    "    return r_IS\n",
    "\n",
    "r_is = r_IS(b, m, t, Co, Io, Go, Xo, h, Y)\n",
    "\n",
    "\n",
    "#--------------------------------------------------\n",
    "    # Curva LM \n",
    "\n",
    "# Parámetros\n",
    "\n",
    "Y_size = 100\n",
    "\n",
    "k = 2\n",
    "j = 1                \n",
    "Ms = 200             \n",
    "P  = 20               \n",
    "\n",
    "Y = np.arange(Y_size)\n",
    "\n",
    "# Ecuación\n",
    "\n",
    "def r_LM(k, j, Ms, P, Y):\n",
    "    r_LM = - (1/j)*(Ms/P) + (k/j)*Y\n",
    "    return r_LM\n",
    "\n",
    "r_lm = r_LM( k, j, Ms, P, Y)"
   ]
  },
  {
   "cell_type": "code",
   "execution_count": 88,
   "id": "98ec1dcb",
   "metadata": {},
   "outputs": [
    {
     "data": {
      "image/png": "[encoded data removed]",
      "text/plain": [
       "<Figure size 720x576 with 1 Axes>"
      ]
     },
     "metadata": {},
     "output_type": "display_data"
    }
   ],
   "source": [
    "# Gráfico del modelo IS-LM\n",
    "\n",
    "# Dimensiones del gráfico\n",
    "y_max = np.max(r_lm)\n",
    "fig, ax = plt.subplots(figsize=(10, 8))\n",
    "\n",
    "# Curvas a graficar\n",
    "# Curva IS\n",
    "ax.plot(Y, r_is, label = \"IS\", color = \"red\") #IS\n",
    "# Curva LM\n",
    "ax.plot(Y, r_lm, label=\"LM\", color = \"blue\")  #LM\n",
    "\n",
    "# Eliminar las cantidades de los ejes\n",
    "ax.yaxis.set_major_locator(plt.NullLocator())   \n",
    "ax.xaxis.set_major_locator(plt.NullLocator())\n",
    "\n",
    "# Texto y figuras agregadas\n",
    "# Graficar la linea horizontal - r\n",
    "plt.axvline(x=53,  ymin= 0, ymax= 0.53, linestyle = \":\", color = \"black\")\n",
    "# Grafica la linea vertical - Y\n",
    "plt.axhline(y=95, xmin= 0, xmax= 0.53, linestyle = \":\", color = \"black\")\n",
    "\n",
    "# Plotear los textos \n",
    "plt.text(49,100, '$E_0$', fontsize = 14, color = 'black')\n",
    "plt.text(0,100, '$r_0$', fontsize = 12, color = 'black')\n",
    "plt.text(53,-10, '$Y_0$', fontsize = 12, color = 'black')\n",
    "\n",
    "plt.text(49,150, 'I', fontsize = 14, color = 'black')\n",
    "plt.text(80,100, 'II', fontsize = 14, color = 'black')\n",
    "plt.text(49,40, 'III', fontsize = 14, color = 'black')\n",
    "plt.text(20,100, 'IV', fontsize = 14, color = 'black')\n",
    "\n",
    "# Título, ejes y leyenda\n",
    "ax.set(title=\"IS-LM Model\", xlabel= r'Y', ylabel= r'r')\n",
    "ax.legend()\n",
    "\n",
    "plt.show()"
   ]
  },
  {
   "cell_type": "markdown",
   "id": "cdf5e446",
   "metadata": {},
   "source": [
    "- (3 puntos) Analice los efectos sobre las variables endógenas Y, P ante una subida de la tasa de interés de referencia . ( △r_o>0). El análisis debe ser intuitivo, matemático y gráfico."
   ]
  },
  {
   "cell_type": "markdown",
   "id": "bf56e275",
   "metadata": {},
   "source": [
    "##### Análisis intuitivo\n",
    "\n",
    " #El aumento de la tasa impositiva o tasa de interés genera una reducción deL ingreso, lo que impacta en un desequilibrio en la econmía porque las personas tienen menos recursos para gastar, por eso la demanda agregada es mayor que el ingreso\n",
    "    $$ r↑ → Y↓ → Y < DA $$"
   ]
  },
  {
   "cell_type": "code",
   "execution_count": 144,
   "id": "76e87818",
   "metadata": {},
   "outputs": [],
   "source": [
    "# nombrar variables como símbolos\n",
    "Co, Io, Go, Xo, h, r, b, m, t, beta_0, beta_1  = symbols('Co Io Go Xo h r b m t beta_0, beta_1')\n",
    "\n",
    "# nombrar variables como símbolos\n",
    "k, j, Ms, P, Y = symbols('k j Ms P Y')\n",
    "\n",
    "# Beta_0 y beta_1\n",
    "beta_0 = (Co + Io + Go + Xo)\n",
    "beta_1 = ( 1-(b-m)*(1-t) )\n",
    "\n",
    "# Producto de equilibrio y la tasa de interes de equilibrio en el modelo IS-LM\n",
    "r_eq = (k*beta_0)/(k*h + j*beta_1) - ( beta_1 / (k*h + j*beta_1) )*(Ms/P)\n",
    "Y_eq = (j*beta_0)/(k*h + j*beta_1) + ( h / (k*h + j*beta_1) )*(Ms/P)"
   ]
  },
  {
   "cell_type": "markdown",
   "id": "2cfc5df1",
   "metadata": {},
   "source": [
    "##### Análisis GRÁFICO"
   ]
  },
  {
   "cell_type": "code",
   "execution_count": 154,
   "id": "067ba88e",
   "metadata": {},
   "outputs": [],
   "source": [
    "#1--------------------------\n",
    "    # Demanda Agregada original\n",
    "    \n",
    "# Parámetros\n",
    "\n",
    "Y_size = 100 \n",
    "\n",
    "Co = 35\n",
    "Io = 40\n",
    "Go = 50\n",
    "Xo = 2\n",
    "h = 0.8\n",
    "b = 0.4\n",
    "m = 0.5\n",
    "t = 0.8\n",
    "r= 0.3\n",
    "\n",
    "k = 2\n",
    "j = 1                \n",
    "Ms = 200             \n",
    "P  = 8  \n",
    "\n",
    "Y = np.arange(Y_size)\n",
    "\n",
    "\n",
    "# Ecuación\n",
    "\n",
    "B0 = Co + Io + Go + Xo\n",
    "B1 = 1 - (b-m)*(1-t)\n",
    "\n",
    "def P_AD(h, Ms, j, B0, B1, k, Y):\n",
    "    P_AD = ((h*Ms + j*B0)/h) - (Y*(j*B1 + h*k)/h)\n",
    "    return P_AD\n",
    "\n",
    "P_AD = P_AD(h, Ms, j, B0, B1, k, Y)\n",
    "\n",
    "\n",
    "#2--------------------------\n",
    "    # Oferta Agregada original\n",
    "    \n",
    "# Parámetros\n",
    "\n",
    "Y_size = 100\n",
    "\n",
    "Pe = 70 \n",
    "θ = 3\n",
    "_Y = 20   \n",
    "\n",
    "Y = np.arange(Y_size)\n",
    "\n",
    "# Ecuación\n",
    "\n",
    "def P_AS(r, _Y, Y, θ):\n",
    "    P_AS = r + θ*(Y-_Y)\n",
    "    return P_AS\n",
    "\n",
    "P_AS = P_AS(r, _Y, Y, θ)"
   ]
  },
  {
   "cell_type": "code",
   "execution_count": 155,
   "id": "76c9c0a3",
   "metadata": {},
   "outputs": [
    {
     "ename": "NameError",
     "evalue": "name 'P_AS_Pe' is not defined",
     "output_type": "error",
     "traceback": [
      "\u001b[1;31m---------------------------------------------------------------------------\u001b[0m",
      "\u001b[1;31mNameError\u001b[0m                                 Traceback (most recent call last)",
      "Input \u001b[1;32mIn [155]\u001b[0m, in \u001b[0;36m<cell line: 13>\u001b[1;34m()\u001b[0m\n\u001b[0;32m     10\u001b[0m     P_AS \u001b[38;5;241m=\u001b[39m Pe \u001b[38;5;241m+\u001b[39m θ\u001b[38;5;241m*\u001b[39m(Y\u001b[38;5;241m-\u001b[39m_Y)\n\u001b[0;32m     11\u001b[0m     \u001b[38;5;28;01mreturn\u001b[39;00m P_AS\n\u001b[1;32m---> 13\u001b[0m P_R \u001b[38;5;241m=\u001b[39m \u001b[43mP_AS_Pe\u001b[49m(Pe, _Y, Y, θ)\n",
      "\u001b[1;31mNameError\u001b[0m: name 'P_AS_Pe' is not defined"
     ]
    }
   ],
   "source": [
    "#--------------------------------------------------\n",
    "    # Nuvea Oferta Agregada\n",
    "    \n",
    "# Definir SOLO el parámetro cambiado\n",
    "r = 0.7\n",
    "\n",
    "# Ecuación\n",
    "\n",
    "def P_AS(Pe, _Y, Y, θ):\n",
    "    P_AS = Pe + θ*(Y-_Y)\n",
    "    return P_AS\n",
    "\n",
    "P_R = P_AS_Pe(Pe, _Y, Y, θ)"
   ]
  },
  {
   "cell_type": "code",
   "execution_count": 156,
   "id": "bcb94214",
   "metadata": {},
   "outputs": [
    {
     "ename": "ValueError",
     "evalue": "x and y must have same first dimension, but have shapes (100,) and (1,)",
     "output_type": "error",
     "traceback": [
      "\u001b[1;31m---------------------------------------------------------------------------\u001b[0m",
      "\u001b[1;31mValueError\u001b[0m                                Traceback (most recent call last)",
      "Input \u001b[1;32mIn [156]\u001b[0m, in \u001b[0;36m<cell line: 9>\u001b[1;34m()\u001b[0m\n\u001b[0;32m      7\u001b[0m \u001b[38;5;66;03m# Curvas a graficar \u001b[39;00m\n\u001b[0;32m      8\u001b[0m ax\u001b[38;5;241m.\u001b[39mplot(Y, P_AD, label \u001b[38;5;241m=\u001b[39m \u001b[38;5;124m\"\u001b[39m\u001b[38;5;124mAD\u001b[39m\u001b[38;5;124m\"\u001b[39m, color \u001b[38;5;241m=\u001b[39m \u001b[38;5;124m\"\u001b[39m\u001b[38;5;124m#8A2BE2\u001b[39m\u001b[38;5;124m\"\u001b[39m) \u001b[38;5;66;03m#DA\u001b[39;00m\n\u001b[1;32m----> 9\u001b[0m \u001b[43max\u001b[49m\u001b[38;5;241;43m.\u001b[39;49m\u001b[43mplot\u001b[49m\u001b[43m(\u001b[49m\u001b[43mY\u001b[49m\u001b[43m,\u001b[49m\u001b[43m \u001b[49m\u001b[43mP_AS\u001b[49m\u001b[43m,\u001b[49m\u001b[43m \u001b[49m\u001b[43mlabel\u001b[49m\u001b[43m \u001b[49m\u001b[38;5;241;43m=\u001b[39;49m\u001b[43m \u001b[49m\u001b[38;5;124;43m\"\u001b[39;49m\u001b[38;5;124;43mAS\u001b[39;49m\u001b[38;5;124;43m\"\u001b[39;49m\u001b[43m,\u001b[49m\u001b[43m \u001b[49m\u001b[43mcolor\u001b[49m\u001b[43m \u001b[49m\u001b[38;5;241;43m=\u001b[39;49m\u001b[43m \u001b[49m\u001b[38;5;124;43m\"\u001b[39;49m\u001b[38;5;124;43m#C0\u001b[39;49m\u001b[38;5;124;43m\"\u001b[39;49m\u001b[43m)\u001b[49m \u001b[38;5;66;03m#OA\u001b[39;00m\n\u001b[0;32m     10\u001b[0m ax\u001b[38;5;241m.\u001b[39mplot(Y, P_R, label \u001b[38;5;241m=\u001b[39m \u001b[38;5;124m\"\u001b[39m\u001b[38;5;124mASR\u001b[39m\u001b[38;5;124m\"\u001b[39m, color \u001b[38;5;241m=\u001b[39m \u001b[38;5;124m\"\u001b[39m\u001b[38;5;124m#7FFF00\u001b[39m\u001b[38;5;124m\"\u001b[39m, linestyle \u001b[38;5;241m=\u001b[39m\u001b[38;5;124m'\u001b[39m\u001b[38;5;124mdashed\u001b[39m\u001b[38;5;124m'\u001b[39m) \u001b[38;5;66;03m#OAR\u001b[39;00m\n\u001b[0;32m     12\u001b[0m \u001b[38;5;66;03m# Eliminar valores de ejes\u001b[39;00m\n",
      "File \u001b[1;32mC:\\ANACONDA\\lib\\site-packages\\matplotlib\\axes\\_axes.py:1632\u001b[0m, in \u001b[0;36mAxes.plot\u001b[1;34m(self, scalex, scaley, data, *args, **kwargs)\u001b[0m\n\u001b[0;32m   1390\u001b[0m \u001b[38;5;124;03m\"\"\"\u001b[39;00m\n\u001b[0;32m   1391\u001b[0m \u001b[38;5;124;03mPlot y versus x as lines and/or markers.\u001b[39;00m\n\u001b[0;32m   1392\u001b[0m \n\u001b[1;32m   (...)\u001b[0m\n\u001b[0;32m   1629\u001b[0m \u001b[38;5;124;03m(``'green'``) or hex strings (``'#008000'``).\u001b[39;00m\n\u001b[0;32m   1630\u001b[0m \u001b[38;5;124;03m\"\"\"\u001b[39;00m\n\u001b[0;32m   1631\u001b[0m kwargs \u001b[38;5;241m=\u001b[39m cbook\u001b[38;5;241m.\u001b[39mnormalize_kwargs(kwargs, mlines\u001b[38;5;241m.\u001b[39mLine2D)\n\u001b[1;32m-> 1632\u001b[0m lines \u001b[38;5;241m=\u001b[39m [\u001b[38;5;241m*\u001b[39m\u001b[38;5;28mself\u001b[39m\u001b[38;5;241m.\u001b[39m_get_lines(\u001b[38;5;241m*\u001b[39margs, data\u001b[38;5;241m=\u001b[39mdata, \u001b[38;5;241m*\u001b[39m\u001b[38;5;241m*\u001b[39mkwargs)]\n\u001b[0;32m   1633\u001b[0m \u001b[38;5;28;01mfor\u001b[39;00m line \u001b[38;5;129;01min\u001b[39;00m lines:\n\u001b[0;32m   1634\u001b[0m     \u001b[38;5;28mself\u001b[39m\u001b[38;5;241m.\u001b[39madd_line(line)\n",
      "File \u001b[1;32mC:\\ANACONDA\\lib\\site-packages\\matplotlib\\axes\\_base.py:312\u001b[0m, in \u001b[0;36m_process_plot_var_args.__call__\u001b[1;34m(self, data, *args, **kwargs)\u001b[0m\n\u001b[0;32m    310\u001b[0m     this \u001b[38;5;241m+\u001b[39m\u001b[38;5;241m=\u001b[39m args[\u001b[38;5;241m0\u001b[39m],\n\u001b[0;32m    311\u001b[0m     args \u001b[38;5;241m=\u001b[39m args[\u001b[38;5;241m1\u001b[39m:]\n\u001b[1;32m--> 312\u001b[0m \u001b[38;5;28;01myield from\u001b[39;00m \u001b[38;5;28;43mself\u001b[39;49m\u001b[38;5;241;43m.\u001b[39;49m\u001b[43m_plot_args\u001b[49m\u001b[43m(\u001b[49m\u001b[43mthis\u001b[49m\u001b[43m,\u001b[49m\u001b[43m \u001b[49m\u001b[43mkwargs\u001b[49m\u001b[43m)\u001b[49m\n",
      "File \u001b[1;32mC:\\ANACONDA\\lib\\site-packages\\matplotlib\\axes\\_base.py:498\u001b[0m, in \u001b[0;36m_process_plot_var_args._plot_args\u001b[1;34m(self, tup, kwargs, return_kwargs)\u001b[0m\n\u001b[0;32m    495\u001b[0m     \u001b[38;5;28mself\u001b[39m\u001b[38;5;241m.\u001b[39maxes\u001b[38;5;241m.\u001b[39myaxis\u001b[38;5;241m.\u001b[39mupdate_units(y)\n\u001b[0;32m    497\u001b[0m \u001b[38;5;28;01mif\u001b[39;00m x\u001b[38;5;241m.\u001b[39mshape[\u001b[38;5;241m0\u001b[39m] \u001b[38;5;241m!=\u001b[39m y\u001b[38;5;241m.\u001b[39mshape[\u001b[38;5;241m0\u001b[39m]:\n\u001b[1;32m--> 498\u001b[0m     \u001b[38;5;28;01mraise\u001b[39;00m \u001b[38;5;167;01mValueError\u001b[39;00m(\u001b[38;5;124mf\u001b[39m\u001b[38;5;124m\"\u001b[39m\u001b[38;5;124mx and y must have same first dimension, but \u001b[39m\u001b[38;5;124m\"\u001b[39m\n\u001b[0;32m    499\u001b[0m                      \u001b[38;5;124mf\u001b[39m\u001b[38;5;124m\"\u001b[39m\u001b[38;5;124mhave shapes \u001b[39m\u001b[38;5;132;01m{\u001b[39;00mx\u001b[38;5;241m.\u001b[39mshape\u001b[38;5;132;01m}\u001b[39;00m\u001b[38;5;124m and \u001b[39m\u001b[38;5;132;01m{\u001b[39;00my\u001b[38;5;241m.\u001b[39mshape\u001b[38;5;132;01m}\u001b[39;00m\u001b[38;5;124m\"\u001b[39m)\n\u001b[0;32m    500\u001b[0m \u001b[38;5;28;01mif\u001b[39;00m x\u001b[38;5;241m.\u001b[39mndim \u001b[38;5;241m>\u001b[39m \u001b[38;5;241m2\u001b[39m \u001b[38;5;129;01mor\u001b[39;00m y\u001b[38;5;241m.\u001b[39mndim \u001b[38;5;241m>\u001b[39m \u001b[38;5;241m2\u001b[39m:\n\u001b[0;32m    501\u001b[0m     \u001b[38;5;28;01mraise\u001b[39;00m \u001b[38;5;167;01mValueError\u001b[39;00m(\u001b[38;5;124mf\u001b[39m\u001b[38;5;124m\"\u001b[39m\u001b[38;5;124mx and y can be no greater than 2D, but have \u001b[39m\u001b[38;5;124m\"\u001b[39m\n\u001b[0;32m    502\u001b[0m                      \u001b[38;5;124mf\u001b[39m\u001b[38;5;124m\"\u001b[39m\u001b[38;5;124mshapes \u001b[39m\u001b[38;5;132;01m{\u001b[39;00mx\u001b[38;5;241m.\u001b[39mshape\u001b[38;5;132;01m}\u001b[39;00m\u001b[38;5;124m and \u001b[39m\u001b[38;5;132;01m{\u001b[39;00my\u001b[38;5;241m.\u001b[39mshape\u001b[38;5;132;01m}\u001b[39;00m\u001b[38;5;124m\"\u001b[39m)\n",
      "\u001b[1;31mValueError\u001b[0m: x and y must have same first dimension, but have shapes (100,) and (1,)"
     ]
    },
    {
     "data": {
      "image/png": "[encoded data removed]",
      "text/plain": [
       "<Figure size 720x576 with 1 Axes>"
      ]
     },
     "metadata": {
      "needs_background": "light"
     },
     "output_type": "display_data"
    }
   ],
   "source": [
    "# Gráfico del modelo DA-OA\n",
    "\n",
    "# Dimensiones del gráfico\n",
    "y_max = np.max(P)\n",
    "fig, ax = plt.subplots(figsize=(10, 8))\n",
    "\n",
    "# Curvas a graficar \n",
    "ax.plot(Y, P_AD, label = \"AD\", color = \"#8A2BE2\") #DA\n",
    "ax.plot(Y, P_AS, label = \"AS\", color = \"#C0\") #OA\n",
    "ax.plot(Y, P_R, label = \"ASR\", color = \"#7FFF00\", linestyle ='dashed') #OAR\n",
    "\n",
    "# Eliminar valores de ejes\n",
    "ax.yaxis.set_major_locator(plt.NullLocator())   \n",
    "ax.xaxis.set_major_locator(plt.NullLocator())\n",
    "\n",
    "# Título, ejes y leyenda\n",
    "ax.set(title=\"DA-OA\", xlabel= r'Y', ylabel= r'P')\n",
    "ax.legend()\n",
    "\n",
    "plt.show()"
   ]
  },
  {
   "cell_type": "code",
   "execution_count": null,
   "id": "3e6d4c22",
   "metadata": {},
   "outputs": [],
   "source": []
  },
  {
   "cell_type": "code",
   "execution_count": null,
   "id": "2f7e0635",
   "metadata": {},
   "outputs": [],
   "source": []
  },
  {
   "cell_type": "code",
   "execution_count": null,
   "id": "5f1cb0e3",
   "metadata": {},
   "outputs": [],
   "source": []
  },
  {
   "cell_type": "code",
   "execution_count": null,
   "id": "dd9d0e9b",
   "metadata": {},
   "outputs": [],
   "source": []
  },
  {
   "cell_type": "code",
   "execution_count": null,
   "id": "ebb4c2de",
   "metadata": {},
   "outputs": [],
   "source": []
  }
 ],
 "metadata": {
  "kernelspec": {
   "display_name": "Python 3 (ipykernel)",
   "language": "python",
   "name": "python3"
  },
  "language_info": {
   "codemirror_mode": {
    "name": "ipython",
    "version": 3
   },
   "file_extension": ".py",
   "mimetype": "text/x-python",
   "name": "python",
   "nbconvert_exporter": "python",
   "pygments_lexer": "ipython3",
   "version": "3.9.12"
  }
 },
 "nbformat": 4,
 "nbformat_minor": 5
}
