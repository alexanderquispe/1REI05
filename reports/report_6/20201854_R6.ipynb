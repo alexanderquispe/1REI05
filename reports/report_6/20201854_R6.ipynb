{
 "cells": [
  {
   "cell_type": "markdown",
   "id": "3b277c30",
   "metadata": {},
   "source": [
    "AISHA MARTINEZ\n",
    "20201854\n",
    "\n",
    "# REPORTE 6\n",
    "\n",
    "El artículo busca responder a la pregunta de cuál es el papel de las comunicaciones intervinientes en la ayuda financiera y si este es influyente sobre la elección de los alumnos con un alto rendimiento académico pero con bajos recursos a no postular a universidades de alto presitigio.\n",
    "Al leer el texto se pueden llegar a identificar distintas fortalezas y debilidades que fomarán parte del entendimiento de los lectores. Por una parte, como una fortaleza se observó que el autor hizo gran parte del desarrollo de sus argumentos con ayuda de diversos textos de otros autores que ayudaron a hacer del análisis uno más fructífero, así como también se analizó el efecto del programa HAIL, usando data interna de la universidad. También, se logró transimitir al lector un desarrollo muy amplio de la respuesta a la pregunta de investigación, debido a que, con el uso de gráficos y tablas de contenido, se comprendió que este fenómeno estudiado se da debido a la brecha educativa y económica de los estudiantes puestos en investigación. Acerca de las debilidades observadas, se encontró básicamente una que me parece la más fundamental a comparación de las fortalezas, las cuales son bastantes, y es que no se tomó en consideración, a pesar de haber hecho uso de data original sobre el historial de la universidad, de la política universitaria que puedan tener las puestas en análisis. Y esta resulta de gran importancia debido a que dentro de estas existen factores de corrupción o de ofrecimiento de plazas a personas no merecedoras de estas debido al nepotismo existente. \n",
    "Por otra parte, al haber comprendido la lectura, se comprende también que el aporte del autor a la investigación realizada se da en medida en que este haga uso de una variedad de fuente bibliográfica de distintos autores que aportarán al tema desde el mismo y distinto enfoque, haciendo de la lectura una con mayor variedad y sustento que respalda la hipótesis y el argumento presentado.\n",
    "Por último, se podría aportar al texto que para una próxima investigación acerca de un tema de gran similitud o que ronde acerca de los mismos temas, que se debe tener en mayor consideración el asunto de aquellos estudiantes que por razones externas a las estudiadas no decidieron estudiar en aquellas universidades en las que sí fueron aceptados. Tal vez realizar una análisis en un apartado especial en el texto ayudaría a profundizar las razones o variables que influyen en este resultado obtenido.\n"
   ]
  }
 ],
 "metadata": {
  "kernelspec": {
   "display_name": "Python 3 (ipykernel)",
   "language": "python",
   "name": "python3"
  },
  "language_info": {
   "codemirror_mode": {
    "name": "ipython",
    "version": 3
   },
   "file_extension": ".py",
   "mimetype": "text/x-python",
   "name": "python",
   "nbconvert_exporter": "python",
   "pygments_lexer": "ipython3",
   "version": "3.9.12"
  }
 },
 "nbformat": 4,
 "nbformat_minor": 5
}
