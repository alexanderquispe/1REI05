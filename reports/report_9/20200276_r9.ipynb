{
 "cells": [
  {
   "cell_type": "markdown",
   "id": "d8c5473d",
   "metadata": {
    "id": "d8c5473d"
   },
   "source": [
    "# Reporte 6: \n",
    "   ### Nombre: Karen Arevalo Calle 20200276"
   ]
  },
  {
   "cell_type": "markdown",
   "id": "2e3cfb55",
   "metadata": {
    "id": "2e3cfb55"
   },
   "source": [
    "## Lectura de Braghieri, L., Levy, RE y Makarin, A. (2022). Las redes sociales y la salud mental. Revista Económica Estadounidense, 112(11), 3660-93."
   ]
  },
  {
   "cell_type": "markdown",
   "id": "d5f2f2bd",
   "metadata": {
    "id": "d5f2f2bd"
   },
   "source": [
    "La lectura de Braghieri, Levy y Makrin centra su estudio en la cuestión: ¿Cuál es el impacto de las redes sociales en la salud mental de estudiantes universitarios de EEUU?, en específico, se centran en la introducción de Facebook en las universidades a mediados de los años 2000. Para analizar esto, se establecen experimentos quasi-experiemntales implementando 2 data sets. Esta investigación surge tras observar que, mientras las redes sociales aumentaban y crecían, la salud mental de los adolescentes y jóvenes adultos en EEUU iba deteriorándose. Por ejemplo, los autores resaltan que la depresión en individuos entre los 18 y 23 años aumentó en un 83% entre el 2008 y 2018. En ese sentido, un punto positivo de esta investigación es que contribuye a la literatura proporcionando la evidencia más comprensiva a la fecha en los efectos de las redes sociales y salud mental.\n",
    "\n",
    "Para avanzar en esta cuestión, primero, los autores establecen un marco teórico en relación a la salud mental. Así, mencionan que las enfermedades mentales como la depresión, ansiedad, desorden bipolar, esquizofrenia, etc. son muy comunes y pueden ser muy debilitadoras. Además de que tienen efectos secundarios graves como mal desempeño en el trabajo, estudio y productividad. Consecuentemente, las últimas décadas han sido categorizadas como las peores en relación a la salud mental en EEUU, especialmente para los adolescentes y jóvenes. A continuación, se presenta una breve historia de la expansión de Facebook y su popularidad inicial. Tras crearse en Harvard en el 2004, Facebook se expandió a otras universidades y al mundo entero; los autores destacan tres factores de este escalonamiento: restricciones de escala debido a limitada capacidad del servidor, querer mantener el “sabor” de exclusividad y, el deseo de fortalecer los efectos de la red al tener solo una fracción de usuarios que probablemente se conocían en persona.\n",
    "\n",
    "Luego de este análisis teórico-conceptual, los autores abordan los datos y hacen empleo de estadística descriptiva. Se trabajó con dos datas: la primera, aborda fechas específicas en las que Facebook fue presentado a 775 universidad de US y, la segunda, respuestas a 17 oleadas consecutivas de la encuesta National College Health assessment (NCHA) de los estudiantes universitarios al momento de la expansion de Facebook. También se precisa que la data del NCHA contiene información demográfica, salud física, salud mental, alcohol y uso de drogas, comportamiento sexual, y percepciones de esos comportamientos entre estudiantes. Además de que el enfoque de salud mental contienen preguntas sobre síntomas de enfermedades mentales y sobre la asistencia a servicios de salud mental. Sin embargo, un punto negativo para el análisis es que la data no presenta preguntas sobre el uso de redes sociales, por lo que no es posible saber si la persona tenía acceso a Facebook; por lo tanto, estaríamos ante un sesgo en el tratamiento de los datos. Por otro lado, en la sección de estadística descriptiva los autores observan que el número de universidades en la base de datos NCHA recibieron acceso a Facebook en cada semestre entre primavera 2004 y Otoño 2005, además de que los estudiantes que recibieron una introducción temprana a Facebook tenían una peor base de resultados de salud mental que los que atendían la universidad en una expansión tardía. \n",
    "\n",
    "Luego, los autores optan por una estrategía empírica construyendo las outcome de variables primarias; es decir, consdieraron las preguntas del NCHA relacionadas a salud mental y que requiere información pasada, ello para lo referidos a cherry-picking outcome variables. Así, se agruparon las variables individuales de salud mental en familias anidadas y combinadas. Posteriormente, se hicieron análisis por niveles y la construcción de los índices. Para lo primero, se optó por tres análisis que combinen las preguntas de salud mental, dividan los síntomas de la enfermedad mental y la utilización de servicios relacionados con la depresión en familia separadas, y un tercer nivel que divida los síntomas de enfermedad mental en síntomas relacionados con la depresión (índice de síntomas de depresión) y síntomas relacionados a otras condiciones de salud mental. Para la elaboración de los índices, se orientó las variables que componen un índice de manera que los valores más altos indiquen siempre peores resultados de salud mental, se estandarizaron estas variables (por desviaciones estpandar), se tomó una media ponderanda de componentes del índice y se estandarizó el índice final. Después de lo anterior, se procedió con la validación y la construcción del indicador de tratamiento. Los autores también optaron por una estartegia de identificación, para así identificar el impacto causal de los medios sociales en la salud mental. A través de la variación cuasi-experimental generada por el de Facebook se estima el impacto causal de las redes sociales en la salud mental mediante una estrategia de diferencia generalizada. \n",
    "\n",
    "Sobre los resultados, se encontró que la introducción de Facebook en una universidad tuvo impactos negativos en la salud mental de los estudiantes. Además, se encontró que después de introducir facebook los estudiantes reportaron que debido al deterioro en su salud mental, su rendimiento académico disminuyó. Finalmente, se presentan evidencias que sugieren que los resultados son consistentes con que Facebook impacto en que los estudiantes mantuvieran relaciones sociales no favorables. \n",
    "\n",
    "En ese sentido, los resultados de referencia mostraton que las estimaciones son coherentes con la hipótesis de las tendencias paralelas: independientemente del estimador utilizado, los coeficientes de los semestres anteriores a la introducción de Facebook en una universidad son todos cercanos a cero y no muestran tendencias previas discernibles; además de efectos del tratamiento, así, el aumento de los efectos del tratamiento a lo largo del tiempo podría explicarse por: i) mayores tasas de adopción en una universidad a lo largo del tiempo; ii) mayor intensidad de uso a nivel individual a lo largo del tiempo; iii) que los efectos sean más fuertes en función del tiempo de exposición a la plataforma. Teniendo en cuenta los datos presentados en la sección. En cuanto a la heterogeneidad, el resultado LASSO encontró que los efectos de la introducción de Facebook en los síntomas de mala salud mental tienden a ser más fuertes para los individuos con un mayor riesgo inicial de desarrollar enfermedades mentales; también se encontraron efectos más fuertes en los blancos no hispanos, y un efecto más débil en los estudiantes internacionales, los estudiantes más jóvenes y los de primer año. \n",
    "\n",
    "Sobre los efectos según tiempo de exposición, se observó que los efectos negativos de la introducción de Facebook en la salud mental empeoran cuanto más tiempo están los estudiantes expuestos a Facebook. Por último, las implicaciones en el deterioro de la salud mental arrojan que el efecto negativo de Facebook en la salud mental, también genera repercusiones negativas en el desempeño académico, según los estudiantes. Sin embargo, aquí se presenta un punto débil pues no se midió directamente los efectos sobre las calificaciones, y no se descartan posibles efectos positivos de Facebook sobre el rendimiento académico de los estudiantes debido a canales no relacionados con la salud mental, como la mejora del trabajo en equipo.\n",
    "\n",
    "En conclusión, este trabajo aprovecha el \"boom\" de Facebook en las Universidades de EE.UU para estimar el impacto de la misma en la salud mental del estudiantado, descubriendo así un efecto negativo. Por otro lado, existen maneras de potenciar el análisis a través de pasos próximos de investigación. Por ejemplo, se puede trasladar el análisis de los autores al contexto peruano; y, en ese sentido, explorar ¿cuál es el impacto de las redes sociales en la salud mental de estudiantes universitarios del país?. Para ello, el trabajo de investigación de [Ochoa (2019)](https://repositorio.usil.edu.pe/server/api/core/bitstreams/17415f11-e915-4744-807b-9a717c155465/content) supone un marco de partida para este análisis, en tanto investiga de forma micro, la influencia de las redes sociales tecnológicas en la afectividad negativa de estudiantes de una universidad privada de Lima Metropolitana. Dicho estudio se puede extrapolar de manera macro a distintas universidades del país. [Mohanna y Romero (2019)](https://repositorioacademico.upc.edu.pe/bitstream/handle/10757/628014/Mohanna_VG.pdf?sequence=3) dan un paso más en lo propuesto por Ochoa y se detienen a analizar de una manera un poco más macro la adicción a las Redes Sociales y Ansiedad en estudiantes de secundaria de Lima Metropolitana. Por otro lado, a raíz de los eventos de la pandemia en los últimos dos años, sería interesante avanzar en el análisis inicial y proponer un estudio del impacto de las redes sociales en estudiantes universitarios durante la pandemia por el covid-19. [Solano y Ccorahua (2021)](http://repositorio.autonomadeica.edu.pe/bitstream/autonomadeica/1414/1/Fiorela%20Melisa%20Solano%20Cardenas.pdf) establecen un buen punto de partida sobre ello al utilizar como muestra estudiantes de secundaria de la Institución Educativa Nacional San Juan de Ayacucho."
   ]
  },
  {
   "cell_type": "code",
   "execution_count": null,
   "id": "6e8d816e",
   "metadata": {},
   "outputs": [],
   "source": []
  }
 ],
 "metadata": {
  "colab": {
   "provenance": []
  },
  "kernelspec": {
   "display_name": "Python 3 (ipykernel)",
   "language": "python",
   "name": "python3"
  },
  "language_info": {
   "codemirror_mode": {
    "name": "ipython",
    "version": 3
   },
   "file_extension": ".py",
   "mimetype": "text/x-python",
   "name": "python",
   "nbconvert_exporter": "python",
   "pygments_lexer": "ipython3",
   "version": "3.9.12"
  }
 },
 "nbformat": 4,
 "nbformat_minor": 5
}
