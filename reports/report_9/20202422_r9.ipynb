{
 "cells": [
  {
   "cell_type": "markdown",
   "id": "273f6212",
   "metadata": {},
   "source": [
    "# REPORTE 9"
   ]
  },
  {
   "cell_type": "markdown",
   "id": "82c7452a",
   "metadata": {},
   "source": [
    "## Parte Lectura"
   ]
  },
  {
   "cell_type": "markdown",
   "id": "3bdf0b43",
   "metadata": {},
   "source": [
    "El avance de la tecnología ha tenido un efecto inconmensurable en la vida de las personas. La facilidad de la comunicación y de la búsqueda de la información ha generado el acercamiento entre diferentes partes del mundo; bajo este punto, se puede comprender que las redes sociales -como parte de este avance tecnológico- han tenido demasiada influencia en la sociedad y en las personas. Ante esto, Braghieri, Levy y Makarin decidieron explorar el posible efecto de las redes sociales -usando específicamente a Facebook- en el aumento de problemas psicológicos en estudiantes universitarios. Para comprobar la hipótesis planteada se decidió separar la data en dos grupos y hacer una comparación de los mismos. El primer grupo evalúa la salud mental de los estudiantes antes de la aparición de las redes sociales y el segundo grupo analiza la salud mental de los estudiantes después de la aparición de las redes sociales. En este sentido, la pregunta de investigación del ensayo sería: ¿Cuál es el impacto de las redes sociales en la salud mental de los jóvenes y adolescentes en Estados Unidos?. Si bien en el estudio los autores usan particularmente una red social, lo que se quiere comprobar, en realidad, es el efecto del uso de las redes sociales en la salud mental de los jóvenes y, para demostrar esto, usan como ejemplo una de las mayores plataformas de social media, Facebook. \n",
    "\n",
    "La principal fortaleza del artículo se encuentra en la elección de la regresión empleada, una regresión discontinua. Este tipo de regresión permite explorar los efectos causales de intervenciones, en este caso la introducción de las redes sociales a la sociedad. Asimismo, la regresión permite hacer una comparación entre los grupos u observaciones planteadas en el estudio, lo que es necesario si se quiere investigar el efecto de una intervención en el tiempo. Por esto, la elección correcta de la metodología empleada en el estudio fortalece la confianza en el mismo. Otra fortaleza del artículo se encuentra en la data que presenta y cómo sitúa y contextualiza el problema planteado en Estados Unidos. Asimismo, los autores intentan avanzar en cuanto a los efectos de las redes sociales en las personas pues responden que también se hubo efecto en otros aspectos de la vida de las personas.  Por otro lado, una debilidad o recomendación al artículo sería el considerar no solo la relación causal de las redes sociales y los problemas de salud mental, sino también cómo y por qué serían las redes sociales una variable causal para el aumento de problemas mentales. Ante posibles respuestas se puede concluir, por ejemplo, que las redes sociales promueven el cyberbullying, los estereotipos, la disminución de la privacidad, la discriminación, el racismo, etc. Asimismo, otra debilidad del artículo se podría en encontrar en que no se tomó en cuenta la cultura e historia estadounidense, que tiene tendencias a promover la discriminación en cualquier espacio libre de esta. Y que, en este sentido, las redes sociales solo hayan intensificado un problema que se encontraba presente en la sociedad estadounidense. Así, si se considera el racismo y la normalización del bullying en el país, se podrían obtener datos y resultados más precisos y confiables. Por último, también se debió tomar en cuenta que en los últimos años se ha prestado más atención a los problemas psicológicos de las personas, por lo que se debió tomar en cuenta si un porcentaje del aumento de estudiantes con problemas mentales no se debe a que más estudiantes buscan ayuda profesional.   \n",
    "\n",
    "La principal contribución del ensayo a la pregunta de investigación se encuentra en el éxito de la regresión planteada: se encontró que las redes sociales, en efecto, han tenido un efecto causal en el aumento de los problemas mentales en los estudiantes universitarios estadounidenses. Como se mencionó, la confianza en la regresión son la principal base del estudio, por lo que el avance a la pregunta de investigación se encuentra en la solidez de la regresión efectuada. En este sentido, los autores abren un espacio académico para discutir el futuro o actual impacto de las redes sociales en las personas como individuos y como sociedad conjunta.\n",
    "\n",
    "Para poder avanzar en la pregunta de investigación se hace factible considerar la globalización mundial, bajo este punto la tecnología es un bien o mal que ha tocado a casi todo el mundo de manera distinta. Considerando que Estados Unidos representa el auge de la innovación y la tecnología, se puede concluir que el impacto que han tenido las redes sociales en este país ha sido mayor que en otros lugares del mundo hasta el momento. Si bien la tecnología ha avanzado rápidamente, este ha sido un proceso que los estadounidenses han podido llevar paralelamente a los avances tecnológicos; sin embargo, en otras partes del mundo más que un proceso, el ingreso de las redes sociales ha sido un choque abrupto a sus sociedades. En este sentido, resulta pertinente estudiar en qué medida afectaron o afectarán las redes sociales a las personas de diferentes partes de globo que, en un principio, no tuvieron la oportunidad de llevar el avance de la tecnología como un proceso, sino como la introducción abrupta del mismo a sus espacios de desarrollo. En este sentido, para avanzar a la pregunta de investigación se sugiere estudiar el texto “Las redes sociales trastocan los modelos de los medios de comunicación tradicionales” de Freire el cual plantea el acaparamiento de las redes sociales ante medios tradicionales de comunicación, si bien este estudio se enfoca en España, se considera relevante para poder estudiar el golpe de las redes sociales en comparación al uso de métodos tradicionales en la sociedad. Por último, otro artículo para avanzar a la pregunta de investigación sería el de Durante “Trascendencia del uso de las redes sociales y el BlackBerry Messenger en la mundialización de disturbios civiles en Oriente Medio, Europa y Norteamérica” el cual plantea cómo la tecnología ha sido usada como una herramienta por grupos jóvenes beligerantes en Oriente Medio para promover actividades. Este artículo puede ayudar en el avance del documento debido a que se puede analizar cómo diferentes personas del mundo pueden usar las redes sociales y el diferente impacto que esto puede en las sociedades del mundo. \n",
    "\n",
    "\n",
    "BIBLIOGRAFÍA\n",
    "\n",
    "Braghieri, L., Levy, R. E., & Makarin, A. (2022). Social media and mental health. American Economic Review, 112(11), 3660-93.\n",
    "\n",
    "\n",
    "Freire, F. C. (2008). Las redes sociales trastocan los modelos de los medios de comunicación tradicionales. Revista Latina de comunicación social, 11(63).\n",
    "\n",
    "Rincón, E. D. (2012). Trascendencia del uso de las redes sociales y el BlackBerry Messenger en la mundialización de disturbios civiles en Oriente Medio, Europa y Norteamérica. Quorum Académico, 9(1), 86-104."
   ]
  },
  {
   "cell_type": "code",
   "execution_count": null,
   "id": "98edea9a",
   "metadata": {},
   "outputs": [],
   "source": []
  }
 ],
 "metadata": {
  "kernelspec": {
   "display_name": "Python 3 (ipykernel)",
   "language": "python",
   "name": "python3"
  },
  "language_info": {
   "codemirror_mode": {
    "name": "ipython",
    "version": 3
   },
   "file_extension": ".py",
   "mimetype": "text/x-python",
   "name": "python",
   "nbconvert_exporter": "python",
   "pygments_lexer": "ipython3",
   "version": "3.9.12"
  }
 },
 "nbformat": 4,
 "nbformat_minor": 5
}
