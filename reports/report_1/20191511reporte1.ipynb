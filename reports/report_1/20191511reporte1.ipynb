{
 "cells": [
  {
   "cell_type": "markdown",
   "id": "dae15ff9",
   "metadata": {},
   "source": [
    "                                                            REPORTE 1"
   ]
  },
  {
   "cell_type": "markdown",
   "id": "744822e1",
   "metadata": {},
   "source": [
    "Nombre: Claudia Zevallos Cod: 20191511"
   ]
  },
  {
   "cell_type": "markdown",
   "id": "482ec083",
   "metadata": {},
   "source": [
    "Control de Lectura\n",
    "1)\tLa pregunta de investigación del artículo “Las vacas flacas de la economía peruana” del economista e investigador Oscar Dancourt sería ¿Cuáles fueron las políticas fiscales peruanas ante el shock recesivo del 2014-2015? \n",
    "2)\tLas fortalezas presentes en la lectura “Las vacas flacas de la economía peruana” pueden ser, en primer lugar, que hacen uso de la data oficial del Banco Central de Reserva (BCR), por lo cual, entra a una veracidad de análisis, cuenta con explicaciones necesarias y fáciles para entender  y cuenta con formulas económicas-matemáticas para sustentar las explicaciones de las dificultades económicas en el caso peruano, además, desde un análisis en cuanto al contenido , vemos, por una parte que el autor en un excelente conocedor de la materia económica discutida en el artículo ya que Oscar Dancourt ha sido ex director del Banco Central de Reserva del Perú en el periodo de gobierno de Alejandro Toledo; por otra parte, el texto presenta una división de temáticas bastante consisa, pasando de definición tanto de shock e inflación terminado con una explicación de la reseción peruana en el 2014-2015 concluyendo con las conclusiones y recomendación de gobierno.\n",
    "Por otro lado, las debilidades del texto presentan es que no contempla la acción privada, si bien tiene un enfoque total en cuanto a las acciones de entidades públicas, en especial el Banco Central de Reserva, no posee una mirada en cuanto al sector privado que es importante para la circulación económica. Asimismo, no tanto como una debilidad, sino como una recomendación, sería mas objetivo usar las más objetivo usar las fórmulas económicas para explicar el shock recesivo y las acciones del BCR por reducir el impacto negativa de dicha crisis a lo largo del texto en vez de dejarlo en la parte final.\n",
    "\n",
    "3)\tDicho artículo contribuye   a la búsqueda de la solución para manejar posibles choques económicos negativos, puesto que brinda recomendaciones secuenciales y concretas. Además, nos brinda un panorama amplio de las causas y  de lo sucedido durante el periodo de recesión en la economía peruana junto a ser un trabajo calificado para el área.\n"
   ]
  },
  {
   "cell_type": "markdown",
   "id": "35993098",
   "metadata": {},
   "source": [
    "Ejercicio 1: Derive y explique la función de demanda de Consumo. Replique el gráfico siguiente:"
   ]
  },
  {
   "cell_type": "markdown",
   "id": "d362bd93",
   "metadata": {},
   "source": [
    "Para hallar el Gasto de consumo familiar empezamos por la tributación total de la econmoía representado en \n",
    "𝑇 = 𝑡𝑌 \n",
    "    donde (0 < t < 1)\n",
    "    \n",
    "Y donde la t es la tasa impositiva que en Perú sería más conocido como IGV\n",
    "𝑌𝑑 = 𝑌 − 𝑇 \n",
    "𝑌𝑑 = 1𝑌 − 𝑡𝑌  \n",
    "𝑌𝑑 = (1 − 𝑡)𝑌\n",
    "\n",
    "Enronces la función de consumo sería usando la formula anterior con la proporcion marginal\n",
    "𝐂 = 𝐂𝟎 + 𝐛𝑌𝑑 \n",
    "\n",
    "Recordemos que \n",
    "𝑑𝐶/𝑑𝑌𝑑 = 𝑏 , donde (0 < 𝑏 < 1)\n",
    " Para poder encontrar la b \n",
    "𝐂 = 𝐂𝟎 + b(1 − 𝑡)𝑌\n",
    "𝐂 = 𝐂𝟎 + 𝑑𝐶/𝑑𝑌𝑑(1 − 𝑡)𝑌\n",
    "\n",
    "b= 𝑑𝐶/𝑑𝑌𝑑=PMgC\n",
    "B es igual a la diferencia de consumo con la diferencia de ingreso disponible\n",
    "Además\n",
    "\n",
    "𝐂 = 𝐂𝟎 + 𝐛𝑌𝑑\n",
    "𝐂/𝑌𝑑 = 𝐂𝟎/𝑌𝑑 + 𝐛*𝑌𝑑/𝑌𝑑 \n",
    "𝐶/𝑌𝑑 = 𝐶0/𝑌𝑑 + b\n",
    "\n",
    "Además es interesante resaltar que PMgC y PMeC coincide solo cunado el consumo autónomo (Co) es igual a 0"
   ]
  },
  {
   "cell_type": "code",
   "execution_count": 5,
   "id": "621f7663",
   "metadata": {},
   "outputs": [
    {
     "data": {
      "text/plain": [
       "100"
      ]
     },
     "execution_count": 5,
     "metadata": {},
     "output_type": "execute_result"
    }
   ],
   "source": [
    "#Graficamos con una lineal\n",
    "def funcion_1(x, y):        \n",
    "    funcion_1 = (x + y)*10\n",
    "    return funcion_1  \n",
    "funcion_1(0,10)"
   ]
  },
  {
   "cell_type": "code",
   "execution_count": 17,
   "id": "8f6a3b9e",
   "metadata": {},
   "outputs": [
    {
     "ename": "ModuleNotFoundError",
     "evalue": "No module named 'causalgraphicalmodels'",
     "output_type": "error",
     "traceback": [
      "\u001b[1;31m---------------------------------------------------------------------------\u001b[0m",
      "\u001b[1;31mModuleNotFoundError\u001b[0m                       Traceback (most recent call last)",
      "Input \u001b[1;32mIn [17]\u001b[0m, in \u001b[0;36m<cell line: 9>\u001b[1;34m()\u001b[0m\n\u001b[0;32m      6\u001b[0m \u001b[38;5;28;01mimport\u001b[39;00m \u001b[38;5;21;01mmatplotlib\u001b[39;00m\u001b[38;5;21;01m.\u001b[39;00m\u001b[38;5;21;01mpyplot\u001b[39;00m \u001b[38;5;28;01mas\u001b[39;00m \u001b[38;5;21;01mplt\u001b[39;00m\n\u001b[0;32m      8\u001b[0m \u001b[38;5;66;03m# librerías para graficar relaciones causales\u001b[39;00m\n\u001b[1;32m----> 9\u001b[0m \u001b[38;5;28;01mfrom\u001b[39;00m \u001b[38;5;21;01mcausalgraphicalmodels\u001b[39;00m \u001b[38;5;28;01mimport\u001b[39;00m CausalGraphicalModel\n",
      "\u001b[1;31mModuleNotFoundError\u001b[0m: No module named 'causalgraphicalmodels'"
     ]
    }
   ],
   "source": [
    "# librerías para utilizar bases de datos y arrays\n",
    "import numpy as np\n",
    "import pandas as pd\n",
    "\n",
    "# librerías para gráficos\n",
    "import matplotlib.pyplot as plt\n",
    "\n",
    "# librerías para graficar relaciones causales\n",
    "from causalgraphicalmodels import CausalGraphicalModel"
   ]
  },
  {
   "cell_type": "code",
   "execution_count": 14,
   "id": "ca0be60a",
   "metadata": {},
   "outputs": [
    {
     "data": {
      "text/plain": [
       "array([0, 1, 2, 3, 4, 5, 6, 7, 8, 9])"
      ]
     },
     "execution_count": 14,
     "metadata": {},
     "output_type": "execute_result"
    }
   ],
   "source": [
    "z_size = 10  \n",
    "z = np.arange(z_size) \n",
    "z  "
   ]
  },
  {
   "cell_type": "code",
   "execution_count": 15,
   "id": "61172282",
   "metadata": {},
   "outputs": [],
   "source": [
    "f1 = funcion_1(10, z)"
   ]
  },
  {
   "cell_type": "code",
   "execution_count": 24,
   "id": "3ba17fd8",
   "metadata": {},
   "outputs": [
    {
     "data": {
      "image/png": "[encoded data removed]",
      "text/plain": [
       "<Figure size 432x288 with 1 Axes>"
      ]
     },
     "metadata": {
      "needs_background": "light"
     },
     "output_type": "display_data"
    }
   ],
   "source": [
    "plt.plot(f1, color = \"red\")\n",
    "plt.show()"
   ]
  },
  {
   "cell_type": "markdown",
   "id": "ceba3585",
   "metadata": {},
   "source": [
    "Ejercicio 2: Derive y explique la función de Inversión. Replique el gráfico siguiente:"
   ]
  },
  {
   "cell_type": "markdown",
   "id": "749acb06",
   "metadata": {},
   "source": [
    "Entendemos ccon  que la inversión es la cantidad que, pensando en la unidad familiar, invierte una familia y esta tiene las siguientes parte:\n",
    "\n",
    "I = Inversion\n",
    "Io= Inversión autónomo no cambia\n",
    "h= sensibilidad de los inversionista, en donde (0<h<1)\n",
    "r= la tasa de interés\n",
    "\n",
    " A raíz de ello, se forja la siguiente formula: \n",
    "I = I0 − hr\n",
    "I + hr= I0 \n",
    "\n",
    "Por otro lado, es importante mencionar el lo tan variable que es la tasa de interés que ha terminos de negocios o inversiones internacionales juega un valor importante, puesto que se relaciona con la inversión de manera inversamente proporciales, pensado que a mayor tasa de interés, menor es la inversión conseguida.\n",
    " I↓ = r↑\n",
    "\n"
   ]
  },
  {
   "cell_type": "markdown",
   "id": "b62f9da9",
   "metadata": {},
   "source": [
    "Ejercico 3: ¿Cuáles son los supuestos del modelo Ingreso-Gasto Keynesiano?"
   ]
  },
  {
   "cell_type": "markdown",
   "id": "389b50a9",
   "metadata": {},
   "source": [
    "Entendemos al modelo Ingreso-Gasto Keynesiano como un gráfico que expone un punto de encuentro entre la Demanda Agregada (DA) y el Ingreso agregrada (Y) que necesita la economía para estar en equilibrio, entendiendo a una fórmula:\n",
    "\n",
    "D=Y\n",
    "\n",
    "Antes de analizar el punto de equilibrio, es importante denominar variables:\n",
    "\n",
    "Consumo: C = Co + bYd\n",
    "\n",
    "\n",
    "Inversión: I = Io − hr\n",
    "\n",
    "Gasto del Gobierno: G = Go\n",
    "\n",
    "Tributación: T = tY\n",
    "\n",
    "Exportaciones: X = Xo\n",
    "\n",
    "Importaciones: M = mYd\n",
    "\n",
    "La Demanada Agregada significa la suma de todo lo anterior\n",
    "\n",
    "Demanda Agregada: DA = C + I + G + X − M\n",
    "\n",
    "Además sabemos que \n",
    "                  Yd=(1+t)\n",
    "\n",
    "Reemplazamos\n",
    "\n",
    "\n",
    "               DA=Co+bYd+Io-hr+Go+tY+Xo+mYd\n",
    "               Da=Co+Io+Go+Xo-hr+Y(b-m)(1-t)\n",
    "     \n",
    "     \n",
    "     \n",
    "Para encontrar la pendiente que nos dará el equilibrio debemos sintetizar la anterior formular, en donde:\n",
    "𝐷𝐴 = 𝛼0 + 𝛼1𝑌\n",
    "\n",
    "Nuestro intercepto estará determinada por : 𝛼0= (C0 + I0 + G0 + X0 − hr)\n",
    "Nuestra pendiente estará determinada por:   𝛼1= (b − m)(1 − t)\n",
    "               "
   ]
  },
  {
   "attachments": {},
   "cell_type": "markdown",
   "id": "4a903c97",
   "metadata": {},
   "source": [
    "Ejercicio 4: A partir de las siguientes ecuaciones\n",
    "<img src=https://user-images.githubusercontent.com/27368860/187038935-873345af-b5c2-4d91-9643-593d3c433a93.png>\n",
    " "
   ]
  },
  {
   "cell_type": "markdown",
   "id": "9d380021",
   "metadata": {},
   "source": [
    "a) Encuentre el nivel de Ingreso de equilibrio"
   ]
  },
  {
   "cell_type": "code",
   "execution_count": 31,
   "id": "deb95e3d",
   "metadata": {},
   "outputs": [],
   "source": [
    "#Parámetros establecidos:\n",
    "\n",
    "Y_size = 100 \n",
    "\n",
    "Co = 40\n",
    "Io = 45\n",
    "Go = 80\n",
    "Xo = 2\n",
    "h = 0.7\n",
    "b = 0.8 # b > m\n",
    "m = 0.2\n",
    "t = 0.3\n",
    "r = 0.9\n",
    "\n",
    "Y = np.arange(Y_size)\n",
    "\n",
    "def ejer4(Co, Io, Go, Xo, h, r, b, m, t, Y):\n",
    "    ejer4= (Co + Io + Go + Xo - h*r) + ((b - m)*(1 - t)*Y)\n",
    "    return ejer4\n",
    "\n",
    "ejercicio4 = ejer4(Co, Io, Go, Xo, h, r, b, m, t, Y)\n"
   ]
  },
  {
   "cell_type": "code",
   "execution_count": 32,
   "id": "7b7cc0a2",
   "metadata": {},
   "outputs": [],
   "source": [
    "#Marcamos nuestra recta de 45·\n",
    "a= 2.5\n",
    "def L_45(a, Y):\n",
    "    L_45 = a*Y\n",
    "    return L_45\n",
    "\n",
    "L_45 = L_45(a, Y)"
   ]
  },
  {
   "cell_type": "code",
   "execution_count": 38,
   "id": "be72b780",
   "metadata": {},
   "outputs": [
    {
     "data": {
      "text/plain": [
       "(199.96394230769235, 79.98557692307693)"
      ]
     },
     "execution_count": 38,
     "metadata": {},
     "output_type": "execute_result"
    }
   ],
   "source": [
    "# # líneas punteadas autómaticas\n",
    "\n",
    "    # definir la función line_intersection\n",
    "def line_intersection(line1, line2):\n",
    "    xdiff = (line1[0][0] - line1[1][0], line2[0][0] - line2[1][0])\n",
    "    ydiff = (line1[0][1] - line1[1][1], line2[0][1] - line2[1][1])\n",
    "\n",
    "    def det(a, b):\n",
    "        return a[0] * b[1] - a[1] * b[0]\n",
    "\n",
    "    div = det(xdiff, ydiff)\n",
    "    if div == 0:\n",
    "       raise Exception('lines do not intersect')\n",
    "\n",
    "    d = (det(*line1), det(*line2))\n",
    "    x = det(d, xdiff) / div\n",
    "    y = det(d, ydiff) / div\n",
    "    return x, y\n",
    "\n",
    "    # coordenadas de las curvas (x,y)\n",
    "A = [ejercicio4[0], Y[0]] # DA, coordenada inicio\n",
    "B = [ejercicio4[-1], Y[-1]] # DA, coordenada fin\n",
    "\n",
    "C = [L_45[0], Y[0]] # L_45, coordenada inicio\n",
    "D = [L_45[-1], Y[-1]] # L_45, coordenada fin\n",
    "\n",
    "    # creación de intersección\n",
    "\n",
    "intersec = line_intersection((A, B), (C, D))\n",
    "intersec # (y,x)\n"
   ]
  },
  {
   "cell_type": "markdown",
   "id": "5e299304",
   "metadata": {},
   "source": [
    "Dado que el interseccion se define como  "
   ]
  },
  {
   "cell_type": "markdown",
   "id": "a3edb505",
   "metadata": {},
   "source": [
    "b)Replique el siguiente gráfico con todas descripciones encima de las rectas."
   ]
  },
  {
   "cell_type": "markdown",
   "id": "2e78a5b8",
   "metadata": {},
   "source": [
    "Ejercicio 5: Estática comparativa en el modelo de Ingreso-Gasto keynesiano"
   ]
  },
  {
   "cell_type": "code",
   "execution_count": 69,
   "id": "6c220f0d",
   "metadata": {},
   "outputs": [
    {
     "data": {
      "image/png": "[encoded data removed]",
      "text/plain": [
       "<Figure size 720x576 with 1 Axes>"
      ]
     },
     "metadata": {},
     "output_type": "display_data"
    }
   ],
   "source": [
    "y_max = np.max(ejercicio4)\n",
    "fig, ax = plt.subplots(figsize=(10, 8))\n",
    "\n",
    "ax.plot(ejercicio4, label = \"DA\", color = \"#5ebdb2\")\n",
    "ax.plot(Y, L_45, color = \"#e47c5d\")\n",
    "\n",
    "ax.yaxis.set_major_locator(plt.NullLocator())   \n",
    "ax.xaxis.set_major_locator(plt.NullLocator())\n",
    "\n",
    "plt.axvline(x=80,  ymin= 0, ymax= 0.78, linestyle = \":\", color = \"grey\")\n",
    "plt.axhline(y=200, xmin= 0, xmax= 0.78, linestyle = \":\", color = \"grey\")\n",
    "\n",
    "plt.text(0, 180, '$DA^e$', fontsize = 11.5, color = 'black')\n",
    "plt.text(72, 0, '$Y^e$', fontsize = 12, color = 'black')\n",
    "plt.text(0, 152, '$α_o$', fontsize = 15, color = 'black')\n",
    "\n",
    "plt.text(6, 4, '$45°$', fontsize = 11.5, color = 'black')\n",
    "plt.text(2.5, -3, '$◝$', fontsize = 30, color = '#404040')\n",
    "\n",
    "\n",
    "ax.set(title=\"El ingreso de Equilibrio a Corto Plazo\", xlabel= r'Y', ylabel= r'DA')\n",
    "ax.legend() \n",
    "\n",
    "plt.show()"
   ]
  },
  {
   "cell_type": "markdown",
   "id": "0574a448",
   "metadata": {},
   "source": [
    "a)Analice una Política Fiscal Expansiva con aumento del Gasto del Gobierno . El análisis debe ser intuitivo, matemático y gráfico."
   ]
  },
  {
   "cell_type": "code",
   "execution_count": 71,
   "id": "60dd610d",
   "metadata": {
    "scrolled": true
   },
   "outputs": [
    {
     "data": {
      "image/png": "[encoded data removed]",
      "text/plain": [
       "<Figure size 720x576 with 1 Axes>"
      ]
     },
     "metadata": {},
     "output_type": "display_data"
    }
   ],
   "source": [
    "y_max = np.max(ejercicio4)\n",
    "fig, ax = plt.subplots(figsize=(10, 8))\n",
    "\n",
    "ax.plot(Y, ejercicio4, label = \"DA\", color = \"#5ebdb2\")\n",
    "ax.plot(Y, L_45, color = \"#e47c5d\") \n",
    "\n",
    "ax.yaxis.set_major_locator(plt.NullLocator())   \n",
    "ax.xaxis.set_major_locator(plt.NullLocator())\n",
    "\n",
    "plt.axhline(y=intersec[0], xmin= 0, xmax= 0.78, linestyle = \":\", color = \"grey\")\n",
    "plt.axvline(x=intersec[1],  ymin= 0, ymax= 0.78, linestyle = \":\", color = \"grey\")\n",
    "\n",
    "plt.text(0, 180, '$DA^e$', fontsize = 11.5, color = 'black')\n",
    "plt.text(72, 0, '$Y^e$', fontsize = 12, color = 'black')\n",
    "plt.text(0, 152, '$α_o$', fontsize = 15, color = 'black')\n",
    "    \n",
    "plt.text(6, 4, '$45°$', fontsize = 11.5, color = 'black')\n",
    "plt.text(2.5, -3, '$◝$', fontsize = 30, color = '#404040')\n",
    "\n",
    "\n",
    "ax.set(title=\"El ingreso de Equilibrio a Corto Plazo\", xlabel= r'Y', ylabel= r'DA')\n",
    "ax.legend() \n",
    "\n",
    "plt.show()"
   ]
  },
  {
   "cell_type": "code",
   "execution_count": null,
   "id": "7cefed09",
   "metadata": {},
   "outputs": [],
   "source": [
    "Rpta:"
   ]
  },
  {
   "cell_type": "markdown",
   "id": "16cf736c",
   "metadata": {},
   "source": [
    "5)Estática comparativa en el modelo de Ingreso-Gasto keynesiano"
   ]
  },
  {
   "cell_type": "markdown",
   "id": "e9d08d97",
   "metadata": {},
   "source": [
    "a)Analice una Política Fiscal Expansiva con aumento del Gasto del Gobierno . El análisis debe ser intuitivo, matemático y gráfico."
   ]
  },
  {
   "attachments": {},
   "cell_type": "markdown",
   "id": "03f283dc",
   "metadata": {},
   "source": [
    "Una Política Fiscal Expansiva con aumento del Gasto de Gobierno sigue  que distingue por dos variables importantes que es el aumento del gasto público y la reducción de la recaudación fiscal por medio de bajadas de impuestos, tenemos en cuenta que\n",
    "\n",
    "Gasto público G = Go ↑\n",
    "\n",
    "Por lo que se espera que :\n",
    "\n",
    " ↑Go=DA↑, el motivo pues son variables que se relación de manera directamente proporciales\n",
    " \n",
    " DA↑ = DA>Y = Y↑ , ya que la demanda subió y para que que exista un equilibrio,necesita que el Ingreso aumente\n",
    " \n",
    " Matemática se puede representar de la siguiente manera en donde entendemos \"d\" como diferencia\", que sucede cpn dY si dGo>0\n",
    "\n",
    " Y= (1/1-(b-m)(1-t))(Co+Io+Go+Xo-hr)\n",
    " \n",
    " Recordemos que el multuplicador Keynesiano es K>0\n",
    " \n",
    " Y=k(Co+Io+Go+Xo-hr)\n",
    " dY=k(dCo+dIo+dGo+dXo-dhr)\n",
    " \n",
    " \n",
    " Ya que no ha existitdo cambios en Co, Io, Xo, h o r, decimos:\n",
    " dCo=dIo=dXo=dh=dr=0\n",
    " dY=k(dGo)\n",
    " \n",
    " Sabemos que dGo>0 y k>0, la multiplicación de positivos resulta positivos:\n",
    " \n",
    " dY= (+)(+)\n",
    " dY>0\n",
    "\n",
    "\n",
    "\n",
    "                             \n",
    "                                      \n",
    "                                                  "
   ]
  },
  {
   "cell_type": "code",
   "execution_count": 105,
   "id": "0daf3374",
   "metadata": {},
   "outputs": [],
   "source": [
    "#Graficamos\n",
    "Y_size = 100 \n",
    "\n",
    "Co = 35\n",
    "Io = 40\n",
    "Go = 30\n",
    "Xo = 2\n",
    "h = 0.7\n",
    "b = 0.8\n",
    "m = 0.2\n",
    "t = 0.3\n",
    "r = 0.9\n",
    "\n",
    "Y = np.arange(Y_size)\n",
    "\n",
    "    # Ecuación \n",
    "def ejer5(Co, Io, Go, Xo, h, r, b, m, t, Y):\n",
    "    ejer5= (Co + Io + Go + Xo - h*r) + ((b - m)*(1 - t)*Y)\n",
    "    return ejer5\n",
    "\n",
    "ejercicio5= ejer5(Co, Io, Go, Xo, h, r, b, m, t, Y)\n",
    "\n",
    "#--------------\n",
    "Go = 70\n",
    "def ejer5(Co, Io, Go, Xo, h, r, b, m, t, Y):\n",
    "    ejer5 = (Co + Io + Go + Xo - h*r) + ((b - m)*(1 - t)*Y)\n",
    "    return ejer5\n",
    "\n",
    "ejercicio6= ejer5(Co, Io, Go, Xo, h, r, b, m, t, Y)\n",
    "\n"
   ]
  },
  {
   "cell_type": "code",
   "execution_count": 118,
   "id": "386bff4b",
   "metadata": {},
   "outputs": [
    {
     "data": {
      "image/png": "[encoded data removed]",
      "text/plain": [
       "<Figure size 720x576 with 1 Axes>"
      ]
     },
     "metadata": {
      "needs_background": "light"
     },
     "output_type": "display_data"
    }
   ],
   "source": [
    "y_max = np.max(ejercicio5)\n",
    "fig, ax = plt.subplots(figsize=(10, 8))\n",
    "\n",
    "\n",
    "# Curvas a graficar\n",
    "ax.plot(Y, ejercicio5, label = \"DA\", color = \"#3D59AB\") #curva ORIGINAL\n",
    "ax.plot(Y, ejercicio6, label = \"DA_G\", color = \"#EE7600\", linestyle = 'dashed') #NUEVA curva\n",
    "ax.plot(Y, L_45, color = \"#404040\") #línea de 45º\n",
    "\n",
    "# Lineas punteadas\n",
    "plt.axvline(x = 70.5, ymin= 0, ymax = 0.69, linestyle = \":\", color = \"grey\")\n",
    "plt.axhline(y = 176, xmin= 0, xmax = 0.7, linestyle = \":\", color = \"grey\")\n",
    "plt.axvline(x = 51,  ymin= 0, ymax = 0.52, linestyle = \":\", color = \"grey\")\n",
    "plt.axhline(y = 128, xmin= 0, xmax = 0.52, linestyle = \":\", color = \"grey\")\n",
    "\n",
    "# Texto agregado\n",
    "plt.text(0, 180, '$DA^e$', fontsize = 11.5, color = 'black')\n",
    "plt.text(0, 125, '$DA_G$', fontsize = 11.5, color = '#EE7600')\n",
    "plt.text(6, 4, '$45°$', fontsize = 11.5, color = 'black')\n",
    "plt.text(2.5, -3, '$◝$', fontsize = 30, color = '#404040')\n",
    "plt.text(72, 0, '$Y^e$', fontsize = 12, color = 'black')\n",
    "plt.text(56, 0, '$Y_G$', fontsize = 12, color = '#EE7600')\n",
    "plt.text(60, 45, '$←$', fontsize = 18, color = 'grey')\n",
    "plt.text(20, 140, '$↓$', fontsize = 18, color = 'grey')\n",
    "\n",
    "# Título y leyenda\n",
    "ax.set(title = \"Reducción del Gasto del Gobierno $(G_0)$\", xlabel = r'Y', ylabel = r'DA')\n",
    "ax.legend()\n",
    "\n",
    "plt.show()"
   ]
  },
  {
   "cell_type": "markdown",
   "id": "423dffe9",
   "metadata": {},
   "source": [
    "La gráfica significa que la Demanda agregada va a aumentar y como es intercepto, este va a subir arriba y encontrar un nuevo punto de equilibrio"
   ]
  },
  {
   "cell_type": "markdown",
   "id": "07f94508",
   "metadata": {},
   "source": [
    "b)Analice una Pol í t ica f iscal expansiva con una reducción de la Tasa de Tributación (t) . El análisis debe ser intuitivo, matemático y gráfico."
   ]
  },
  {
   "cell_type": "markdown",
   "id": "d60079c6",
   "metadata": {},
   "source": [
    "Una Política Fiscal Expansiva con reducción de la Tasa de Tributación se resumen en que el Estado genera un deficit en cuanto a una necesidad de estabilidad económica, en este caso, será la reducción de la tasa impositiva\n",
    "\n",
    "T=t↓Y\n",
    "\n",
    "Por lo que se espera que :\n",
    "\n",
    " t↓ = Co↑=Da↓ = DA> Y = Y↑, el motivo pues son variables que se relación de manera inversamente proporciales\n",
    "  \n",
    "Matemática se puede representar de la siguiente manera en donde entendemos \"d\" como diferencia\", que sucede con dY si dt<0\n",
    "\n",
    " ((-b+m)(Co+Go+Io+Xo-hr))/(-(1-t)(b-m)+1)^2\n",
    " \n",
    "Consideramos que el de dt:\n",
    "dY/dt= ((m-b)(Co+Go+Io+Xo-hr))/(1-(1-t)(b-m)+1)^2\n",
    "\n",
    "Sabiendo que b>m entonces recordemos que (m-b)<0\n",
    " Ya que no ha existitdo cambios en Co, Io, Xo, h o r, decimos:\n",
    " dCo=dIo=dXo=dh=dr=0\n",
    "\n",
    "Cualquier número elevado al cuadrado será positivo \n",
    "\n",
    "(1-(1-t)(b-m)+1)^2\n",
    "\n",
    "dY/dt= (-)/(+)\n",
    "\n",
    "Dado que que dt<0\n",
    "dY/(-)= (-)/(+)\n",
    "\n",
    " dY>0\n",
    " "
   ]
  },
  {
   "cell_type": "code",
   "execution_count": 120,
   "id": "d72a1921",
   "metadata": {},
   "outputs": [],
   "source": [
    "Y_size = 100 \n",
    "\n",
    "Co = 35\n",
    "Io = 40\n",
    "Go = 70\n",
    "Xo = 2\n",
    "h = 0.7\n",
    "b = 0.8\n",
    "m = 0.2\n",
    "t = 0.3 \n",
    "r = 0.9\n",
    "\n",
    "Y = np.arange(Y_size)\n",
    "\n",
    "    # Ecuación \n",
    "def ejer7(Co, Io, Go, Xo, h, r, b, m, t, Y):\n",
    "    ejer7= (Co + Io + Go + Xo - h*r) + ((b - m)*(1 - t)*Y)\n",
    "    return ejer7\n",
    "\n",
    "ejercicio7 = ejer7(Co, Io, Go, Xo, h, r, b, m, t, Y)\n",
    "\n",
    "\n",
    "#--------------------------------------------------\n",
    "\n",
    "t = 0.025\n",
    "\n",
    "\n",
    "def ejer7(Co, Io, Go, Xo, h, r, b, m, t, Y):\n",
    "    ejer7 = (Co + Io + Go + Xo - h*r) + ((b - m)*(1 - t)*Y)\n",
    "    return ejer7\n",
    "\n",
    "ejercicio8 = ejer7(Co, Io, Go, Xo, h, r, b, m, t, Y)"
   ]
  },
  {
   "cell_type": "code",
   "execution_count": 121,
   "id": "c8a910e4",
   "metadata": {},
   "outputs": [
    {
     "data": {
      "image/png": "[encoded data removed]",
      "text/plain": [
       "<Figure size 720x576 with 1 Axes>"
      ]
     },
     "metadata": {
      "needs_background": "light"
     },
     "output_type": "display_data"
    }
   ],
   "source": [
    "y_max = np.max(ejercicio7)\n",
    "fig, ax = plt.subplots(figsize=(10, 8))\n",
    "\n",
    "\n",
    "# Curvas a graficar\n",
    "ax.plot(Y, ejercicio7, label = \"DA\", color = \"#008080\") \n",
    "ax.plot(Y, ejercicio8, label = \"DA_t\", color = \"#CD5C5C\", linestyle = 'dashed') #NUEVA curva\n",
    "ax.plot(Y, L_45, color = \"#404040\") #línea de 45º\n",
    "\n",
    "# Lineas punteadas\n",
    "plt.axvline(x = 70.5, ymin= 0, ymax = 0.69, linestyle = \":\", color = \"grey\")\n",
    "plt.axhline(y = 176, xmin= 0, xmax = 0.7, linestyle = \":\", color = \"grey\")\n",
    "plt.axvline(x = 77,  ymin= 0, ymax = 0.75, linestyle = \":\", color = \"grey\")\n",
    "plt.axhline(y = 192, xmin= 0, xmax = 0.75, linestyle = \":\", color = \"grey\")\n",
    "\n",
    "# Texto agregado\n",
    "plt.text(0, 180, '$DA^e$', fontsize = 11.5, color = 'black')\n",
    "plt.text(0, 200, '$DA_t$', fontsize = 11.5, color = '#CD5C5C')\n",
    "plt.text(6, 4, '$45°$', fontsize = 11.5, color = 'black')\n",
    "plt.text(2.5, -3, '$◝$', fontsize = 30, color = '#404040')\n",
    "plt.text(72, 0, '$Y^e$', fontsize = 12, color = 'black')\n",
    "plt.text(80, 0, '$Y_t$', fontsize = 12, color = '#CD5C5C')\n",
    "plt.text(72, 45, '$→$', fontsize = 18, color = 'grey')\n",
    "plt.text(20, 180, '$↑$', fontsize = 18, color = 'grey')\n",
    "\n",
    "# Título y leyenda\n",
    "ax.set(title = \"Reducción de la Tasa de Tributación\", xlabel = r'Y', ylabel = r'DA')\n",
    "ax.legend()\n",
    "\n",
    "plt.show()"
   ]
  },
  {
   "cell_type": "markdown",
   "id": "9e4d9733",
   "metadata": {},
   "source": [
    "Vemos como existe una aumento en la pendiente de manera antihorario representado por el cambio a la disminución de tasa tributaria(t)"
   ]
  },
  {
   "cell_type": "markdown",
   "id": "78b52573",
   "metadata": {},
   "source": [
    "Ejercicio 6: Estática comparativa en el modelo de Ingreso-Gasto keynesiano con Regla Contracíclica.\n",
    "Ahora vamos a utilizar un modelo con regla contracíclica. Este tipo de política fiscal hace que los auges y las depresiones no sean muy pronunciados. Se establece como una regla consistente en una variación del Gasto (G) (La magnitud es exactamente igual que en 5) en sentido contrario a la variación del Producto, Y. Uilice las siguientes ecuaciones y responda.\n",
    "\n",
    "<img src=https://user-images.githubusercontent.com/27368860/187039685-95bd201f-8479-4812-9f06-104475858166.png>"
   ]
  },
  {
   "cell_type": "markdown",
   "id": "2e20e771",
   "metadata": {},
   "source": [
    "a)Grafique la Funcion de demanda Agregada y la recta de 45 grados señalando los valores de intercepto y pendiente como en el apartado (4)."
   ]
  },
  {
   "cell_type": "code",
   "execution_count": 125,
   "id": "86e9cf53",
   "metadata": {},
   "outputs": [],
   "source": [
    "#ejercicio 6\n",
    "\n",
    "Co = 35\n",
    "Io = 40\n",
    "Go = 70\n",
    "Xo = 2\n",
    "h = 0.7\n",
    "b = 0.8 # b > m\n",
    "m = 0.2\n",
    "t = 0.3\n",
    "r = 0.9\n",
    "g = 0.2\n",
    "\n",
    "Y = np.arange(Y_size)\n",
    "\n",
    "# Ecuación de la curva del ingreso de equilibrio\n",
    "\n",
    "def ejer9(Co, Io, Go, Xo, h, r, b, m, t, Y, g):\n",
    "    ejer9 = (Co + Io + Go + Xo - h*r) + (((b - m)*(1 - t)+g)*Y)\n",
    "    return ejer9\n",
    "\n",
    "ejercicio9 = ejer9(Co, Io, Go, Xo, h, r, b, m, t, Y, g)\n",
    "\n",
    "\n",
    "\n",
    "\n"
   ]
  },
  {
   "cell_type": "code",
   "execution_count": 126,
   "id": "6e8361f9",
   "metadata": {},
   "outputs": [],
   "source": [
    "a = 2.5 \n",
    "\n",
    "def L_45(a, Y):\n",
    "    L_45 = a*Y\n",
    "    return L_45\n",
    "\n",
    "L_45 = L_45(a, Y)"
   ]
  },
  {
   "cell_type": "code",
   "execution_count": 136,
   "id": "e4c17cff",
   "metadata": {},
   "outputs": [
    {
     "data": {
      "image/png": "[encoded data removed]",
      "text/plain": [
       "<Figure size 720x576 with 1 Axes>"
      ]
     },
     "metadata": {},
     "output_type": "display_data"
    }
   ],
   "source": [
    "\n",
    "y_max = np.max(ejercicio9)\n",
    "fig, ax = plt.subplots(figsize=(10, 8))\n",
    "\n",
    "\n",
    "ax.plot(ejercicio9, label = \"DA\", color = \"#E9967A\") \n",
    "ax.plot(L_45, color = \"#404040\")\n",
    "\n",
    "\n",
    "ax.yaxis.set_major_locator(plt.NullLocator())   \n",
    "ax.xaxis.set_major_locator(plt.NullLocator())\n",
    "\n",
    "\n",
    "plt.axvline(x=78,  ymin= 0, ymax= 0.75, linestyle = \":\", color = \"grey\")\n",
    "plt.axhline(y=194, xmin= 0, xmax= 0.75, linestyle = \":\", color = \"grey\")\n",
    "\n",
    "\n",
    "plt.text(0, 180, '$DA^e$', fontsize = 11.5, color = 'black')\n",
    "plt.text(72, 0, '$Y^e$', fontsize = 12, color = 'black')\n",
    "plt.text(0, 152, '$α_o$', fontsize = 15, color = 'black')\n",
    "    \n",
    "plt.text(6, 4, '$45°$', fontsize = 11.5, color = 'black')\n",
    "plt.text(2.5, -3, '$◝$', fontsize = 30, color = '#404040')\n",
    "\n",
    "\n",
    "ax.set(title=\"Mdelo con regla contracíclica\", xlabel= r'Y', ylabel= r'DA')\n",
    "ax.legend() \n",
    "\n",
    "plt.show()"
   ]
  },
  {
   "cell_type": "code",
   "execution_count": null,
   "id": "f9af27c2",
   "metadata": {},
   "outputs": [],
   "source": []
  },
  {
   "cell_type": "code",
   "execution_count": 131,
   "id": "d4c76bed",
   "metadata": {},
   "outputs": [
    {
     "data": {
      "text/plain": [
       "array([146.37, 146.99, 147.61, 148.23, 148.85, 149.47, 150.09, 150.71,\n",
       "       151.33, 151.95, 152.57, 153.19, 153.81, 154.43, 155.05, 155.67,\n",
       "       156.29, 156.91, 157.53, 158.15, 158.77, 159.39, 160.01, 160.63,\n",
       "       161.25, 161.87, 162.49, 163.11, 163.73, 164.35, 164.97, 165.59,\n",
       "       166.21, 166.83, 167.45, 168.07, 168.69, 169.31, 169.93, 170.55,\n",
       "       171.17, 171.79, 172.41, 173.03, 173.65, 174.27, 174.89, 175.51,\n",
       "       176.13, 176.75, 177.37, 177.99, 178.61, 179.23, 179.85, 180.47,\n",
       "       181.09, 181.71, 182.33, 182.95, 183.57, 184.19, 184.81, 185.43,\n",
       "       186.05, 186.67, 187.29, 187.91, 188.53, 189.15, 189.77, 190.39,\n",
       "       191.01, 191.63, 192.25, 192.87, 193.49, 194.11, 194.73, 195.35,\n",
       "       195.97, 196.59, 197.21, 197.83, 198.45, 199.07, 199.69, 200.31,\n",
       "       200.93, 201.55, 202.17, 202.79, 203.41, 204.03, 204.65, 205.27,\n",
       "       205.89, 206.51, 207.13, 207.75])"
      ]
     },
     "execution_count": 131,
     "metadata": {},
     "output_type": "execute_result"
    }
   ],
   "source": [
    "ejercicio9"
   ]
  },
  {
   "cell_type": "code",
   "execution_count": 132,
   "id": "98f461ce",
   "metadata": {},
   "outputs": [
    {
     "data": {
      "text/plain": [
       "(194.64095744680853, 77.8563829787234)"
      ]
     },
     "execution_count": 132,
     "metadata": {},
     "output_type": "execute_result"
    }
   ],
   "source": [
    " # definir la función line_intersection\n",
    "def line_intersection(line1, line2):\n",
    "    xdiff = (line1[0][0] - line1[1][0], line2[0][0] - line2[1][0])\n",
    "    ydiff = (line1[0][1] - line1[1][1], line2[0][1] - line2[1][1])\n",
    "\n",
    "    def det(a, b):\n",
    "        return a[0] * b[1] - a[1] * b[0]\n",
    "\n",
    "    div = det(xdiff, ydiff)\n",
    "    if div == 0:\n",
    "       raise Exception('lines do not intersect')\n",
    "\n",
    "    d = (det(*line1), det(*line2))\n",
    "    x = det(d, xdiff) / div\n",
    "    y = det(d, ydiff) / div\n",
    "    return x, y\n",
    "\n",
    "    # coordenadas de las curvas (x,y)\n",
    "A = [ejercicio9[0], Y[0]] # DA, coordenada inicio\n",
    "B = [ejercicio9[-1], Y[-1]]\n",
    "\n",
    "C = [L_45[0], Y[0]] # L_45, coordenada inicio\n",
    "D = [L_45[-1], Y[-1]] # L_45, coordenada fin\n",
    "\n",
    "    # creación de intersección\n",
    "\n",
    "intersec = line_intersection((A, B), (C, D))\n",
    "intersec # (y,x)"
   ]
  },
  {
   "cell_type": "markdown",
   "id": "d6784c2a",
   "metadata": {},
   "source": [
    "b)Encuentre el nivel de Ingreso de equilibrio "
   ]
  },
  {
   "cell_type": "markdown",
   "id": "11673616",
   "metadata": {},
   "source": [
    "El Y^e es 78"
   ]
  },
  {
   "cell_type": "markdown",
   "id": "895ba45b",
   "metadata": {},
   "source": [
    "c)Analice una Política Fiscal Expansiva con aumento del Gasto del Gobierno . El análisis debe ser intuitivo, matemático y gráfico."
   ]
  },
  {
   "cell_type": "markdown",
   "id": "38aad663",
   "metadata": {},
   "source": [
    "d)¿Cuál es el papel que juega el parametro  en el multiplicador keynesiano?"
   ]
  },
  {
   "cell_type": "markdown",
   "id": "6a021d13",
   "metadata": {},
   "source": [
    "e) El tamaño del efecto de la politica fiscal encontrado en 6 es el mismo que en el apartado 5 ?"
   ]
  },
  {
   "cell_type": "markdown",
   "id": "3aa5bb3f",
   "metadata": {},
   "source": [
    "f)Analice una crisis mundial que reduce nuestras exportaciones . El análisis debe ser intuitivo, matemático y gráfico.\n"
   ]
  },
  {
   "cell_type": "code",
   "execution_count": null,
   "id": "e46eb3f9",
   "metadata": {},
   "outputs": [],
   "source": []
  }
 ],
 "metadata": {
  "kernelspec": {
   "display_name": "Python 3 (ipykernel)",
   "language": "python",
   "name": "python3"
  },
  "language_info": {
   "codemirror_mode": {
    "name": "ipython",
    "version": 3
   },
   "file_extension": ".py",
   "mimetype": "text/x-python",
   "name": "python",
   "nbconvert_exporter": "python",
   "pygments_lexer": "ipython3",
   "version": "3.9.12"
  }
 },
 "nbformat": 4,
 "nbformat_minor": 5
}
