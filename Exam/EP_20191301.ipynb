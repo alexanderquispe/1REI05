{
 "cells": [
  {
   "cell_type": "markdown",
   "id": "7f89633c",
   "metadata": {},
   "source": [
    "# EXAMEN PARCIAL 2022-2 "
   ]
  },
  {
   "cell_type": "markdown",
   "id": "55d0948f",
   "metadata": {},
   "source": [
    "**Alumna:** Ingry Jarleth Benel Vilca\n",
    "\n",
    "**Código**: 20191301"
   ]
  },
  {
   "cell_type": "markdown",
   "id": "c4387cd9",
   "metadata": {},
   "source": [
    "# $TEORÍA:$"
   ]
  },
  {
   "cell_type": "markdown",
   "id": "312f2040",
   "metadata": {},
   "source": [
    "* **Defina el Multiplicador Keynesiano y dé un ejemplo de cómo influye este en el modelo Ingreso-Gasto Keynesiano.**\n",
    "    \n",
    "    El multiplicador Keynesiano se genera cuando hay un cambio en cualquiera de los componentes autónomos de la Demanda Agregada y, en consecuencia, se produce un proceso multiplicador del Ingreso, generando un nuevo Ingreso y producto de equilibrio. Por ejemplo, si hay un aumento del gasto de gobierno, la Demanda Agragada, al ser directamenete proporcional, aumentará, esto hará que para estar de nuevo en equilibrio, el Ingreso deba aumentar; generando como resultado un nuevo equilibrio.\n",
    "    \n",
    "$$DA= C+I+G+X-M$$\n",
    "    \n",
    "Si  $ΔG > 0$    \n",
    "\n",
    "$$DA↑  →   DA>Y  →  Y↑  →  DA=Y$$\n",
    "    \n",
    "\n",
    "\n",
    "* **Grafique y explique cúando sucede un exceso y déficit de demanda en el modelo Ingreso-Gasto. Señale las áreas donde ocurre cada caso. Explique cómo se converge al equilibrio a partir de estos dos escenarios.**\n",
    "    \n",
    "\n",
    "* **¿Cuáles son las herramientas de política fiscal y política monetaria? De un ejemplo para cada una de ellas dentro del contexto peruano. Coloque su fuente en caso sea necesario. (Solo necesita 1 para pol. Fiscal y 1 para Monetaria).**\n",
    "    \n",
    "    La política monetaria tiene como principal instrumento la oferta de dinero. Sin embargo, también tiene al coeficiente legal de encaje y la tasa de interés. Por otro lado, la política fiscal tiene como principal instrumento el gasto del Gobierno (G) y la tasa de impuestos.\n",
    "    \n",
    "    Por ejemplo, en agosto del 2021, el BCRP empezó a adoptar una política monetaria contractiva debido al aumento de la inflación a finales del primer semestre del mismo año (a un punto de superar las expectativas inflacionarias fijadas). El BCRP usó la tasa de interés y la aumento hasta un 3.5%, para así reducir la oferta monetaria.\n",
    "    \n",
    "    *Profesor, disculpe, estuve buscando ejemplos de política fiscal en el perú pero no encontré ninguno claro.*\n",
    "    \n",
    "    Bibliografía:\n",
    "    \n",
    "    https://www.imf.org/es/News/Articles/2022/03/07/mcs030722-peru-staff-concluding-statement-of-the-2022-article-iv-mission#:~:text=El%20Banco%20Central%20de%20Reserva,3%2C5%25%20en%20febrero.\n",
    "\n",
    "\n",
    "* **Explique qué funciones del dinero respaldan el éxito de de Yape y Plin(Aplicativos moviles para intercambio de dinero).**\n",
    "    \n",
    "    Su función como medio de intercmabio (motivo de transacción) y como medio para preveer pagar algún servicio de interés (motivo de precaución) respaldan eléxito de Ypae y Plin. El uso del dinero como medio de intercambio es algo básico en el día a día de las personas, ya sea si desees pagar por comida, transporte o compras usuales, el motivo de transacción es algo inerente; de igual manera el motivo de precaución, toda persona siempre lleva dinero por si ocurre un imprevisto. Plin y Yape no solo facilitan el intercambio de dinero por otra cosa o servicio, sino que facilitan llevar siempre un monedero online por si deseas pagar por algo que no habías previsto. Ya que cualuier persona puede olvidar sus llaves y monedero, pero casi nunca se depega de su celular.\n",
    "\n",
    "\n",
    "* **Cuáles son las conclusiones principales del paper de Dancurt \"Inflation Targeting in Peru: The Reasons for the Success\"**\n",
    "    \n",
    "    Para Dancourt, los más importantes canales a través de los cuales la política monetaria puede influir en la actividad económica y el nivel de precios son el canal del crédito y el canal del tipo de cambio."
   ]
  },
  {
   "cell_type": "markdown",
   "id": "e787c7ed",
   "metadata": {},
   "source": [
    "#  $CODIFICACIÓN$"
   ]
  },
  {
   "cell_type": "markdown",
   "id": "b4ba22e5",
   "metadata": {},
   "source": [
    "* Encuentre el Ingreso de Equilibrio  e identifique el multiplicador keynesiano.\n",
    "\n",
    "$$ DA = C_0 + bY^d + I_0 - hr + G_0 + X_0 - mY^d $$\n",
    "\n",
    "$$ DA = (C_0 + I_0 +G_0 + X_0 -hr) + (b - m)(1-t) Y $$\n",
    "\n",
    "    Para Ingreso de Equilibrio:\n",
    "\n",
    "$$ Y = DA $$\n",
    "\n",
    "$$ Y = (C_0 + I_0 +G_0 + X_0 -hr) + (b - m)(1-t) Y $$\n",
    "\n",
    "$$ [1-(b-m)(1-t)] Y = C_0 + I_0 + G_0 + X_0 - hr $$\n",
    "\n",
    "$$ Y = [1/(1-(b-m)(1-t))] (C_0+I_0+G_0+X_0-hr) $$\n",
    "\n",
    "    :. El multiplicador es:\n",
    "\n",
    "$$ 1/(1-(b-m)(1-t)) $$"
   ]
  },
  {
   "cell_type": "markdown",
   "id": "1e008ea5",
   "metadata": {},
   "source": [
    "* Analice los efectos sobre la variable endógena  de una disminución del gasto fiscal ($ΔG < 0$). El análisis debe ser intuitivo, matemático y gráfico.\n",
    "\n",
    "    Ante una disminución del gasto fiscal, la demanda agregada cae y la demanda de dinero también, lo que resulta en un desequilibrio del mercado:\n",
    "    \n",
    "    Si  $ΔG < 0$:\n",
    "\n",
    "$$ G↓ → DA↓ → M_d<M_s $$\n",
    "\n",
    "    :. Se requiere de una política monetaria expansiva, disminuyendo la tasa de interés:\n",
    "\n",
    "$$ M_d = kY - ji $$\n",
    "$$ i↓  → M_d ↑ → M_d = M_s $$"
   ]
  },
  {
   "cell_type": "markdown",
   "id": "f60b7828",
   "metadata": {},
   "source": [
    "* Analice los efectos sobre la variable endógena  de un incremento del PBI mundial . El análisis debe ser intuitivo, matemático y gráfico."
   ]
  }
 ],
 "metadata": {
  "kernelspec": {
   "display_name": "Python 3 (ipykernel)",
   "language": "python",
   "name": "python3"
  },
  "language_info": {
   "codemirror_mode": {
    "name": "ipython",
    "version": 3
   },
   "file_extension": ".py",
   "mimetype": "text/x-python",
   "name": "python",
   "nbconvert_exporter": "python",
   "pygments_lexer": "ipython3",
   "version": "3.9.12"
  }
 },
 "nbformat": 4,
 "nbformat_minor": 5
}
