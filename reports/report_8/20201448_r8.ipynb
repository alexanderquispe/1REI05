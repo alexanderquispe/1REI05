{
 "cells": [
  {
   "cell_type": "markdown",
   "metadata": {
    "id": "QHd8iUAfwrna"
   },
   "source": [
    "# Joaquin del Castillo Ugarte"
   ]
  },
  {
   "cell_type": "markdown",
   "metadata": {},
   "source": [
    "## Reporte de lectura:"
   ]
  },
  {
   "cell_type": "markdown",
   "metadata": {},
   "source": [
    "El presente artículo titulado como “Los efectos persistentes de la mita minera en el Perú”, toma como base temporal a la época del virreinato. En este periodo se practicaba la mita, la cual consistía en trabajos forzados en las zonas Andinas (Perú y Bolivia). Los distritos en los cuales se impartía esta practica estaban obligados a brindar aproximadamente un séptimo de los hombres de su comunidad. No obstante, esta práctica solía practicarse en distritos cercanos a las minerias (para ahorrar gastos de transporte) y también en las zonas altas (había la creencia de que la gente que vivía en zonas altas tenía mayor fortaleza física). En base a esta pequeña introducción, la pregunta de investigación es ¿cúales son los efectos de largo plazo de la mita en las comunidades en donde se practicó? \n",
    "\n",
    "Ahora bien, las fortalezas de este trabajo son en primer lugar la correcta implementación de la regresión discontinua. Pues el autor comenta que tomó las previsiones para la correcta implementación de dicha regresión, la cual para ser efectiva necesita que todos sus factores, fuera del tratamiento, varíen moderadamente. Por esta razón, el autor comenta que solo se centró en la zona de la cordillera de los Andes en el sur peruano, pues esta tiene una altitud, distribución étnica, entre otros aspectos muy similares. Por otra parte, datos como la tributación local tampoco presentan mayores cambios. \n",
    "\n",
    "En segundo lugar, que sigue una estructura clara al momento de presentar su investigación, pues primero introduce con lenguaje sencillo qué vamos a encontrar en su texto, describiendo en parte a la mita y sus consecuencias y también esbozando su hipotesis sobre lo que encontraríamos en los resultados, diciendo, por ejemplo, que en zonas donde no se practicó la mita, hubo un mayor número de terratenientes, los cuales facilitaron la construcción de obras públicas, lo cual favoreció a todo el pueblo. Posteriomente, presenta la investigación y finalmente las conclusiones finales. Esta estructura y lenguaje simple seguido en el texto permite a todo tipo de lector poder comprender en todo momento el objetivo y el mensaje del paper. Finalmente, el apoyarse en literatura del tema es otra gran fortaleza, pues permite a sus resultados ganar una mayor validez, al estar respaldados por los estudios de otros autores. \n",
    "\n",
    "Por otro lado, como debilidad se puede identificar su falta de profundización del caso de la mita en Bolivia, pues si bien se concluye que la falta de hacendados en la zonas de mita generó que no haya una mayor realización de obras públicas en esas zonas, en consecuencia de que los hacendados tenían conexiones políticas para movilizar ese tipo de obras, ello podría ser diferente en el caso de Bolivia. Por ello estudiar y sacar conclusiones de este caso también hubiera sido importante. \n",
    "\n",
    "Ahora bien, el aporte que da a la academia es muy importante, pues introduce una posible causa de la desigualdad y pobreza de algunas zonas del país. En base al estudio de condiciones históricas distintas, como lo es la participación de la mita. En base a ello, el autor concluye que las zonas que participaron de la mita tienen en promedio niveles de educación más bajos, mayores tasas de desnutrición, menor conexiones comerciales por falta de vias de acceso como de carreteras, etc. Ello se debe, según el autor, a una falta de consolidación de los terratenientes, los cuales históricamente han sido vistos como una condición o variable que marcan la desigualdad y pobreza de las masas. No obstante, en este estudio el autor explica que contrario a ese pensamiento los hacendados debido a su deseo de maximizar beneficios y productividad utilizaron su presencia en la política peruana para la realización de obras públicas en estas zonas, lo cual permitió construcción de por ejemplo carreteras, lo cual finalmente, permitió a las masas beneficiarse. En este sentido su enfoque en cómo las instituciones generan o explican las consecuencias a largo plazo de las comunidades, nos ayuda a ver cómo es que la mita a perjudicado a los grupos sociales que participaron de esta. \n",
    "\n",
    "Finalmente, sobre los futuros pasos de investigación, en primer lugar podría ser hacer un estudio comparado entre los efectos de los distritos que solían pagar su mita en la mina de Potosí y los distritos que lo hacían en la mina de Huancavelica. Ello con la intención de ver cual de las dos mitas generaron mayores daños a largo plazo en los distritos que la pagaban. En base a ese resultados por ejemplo, se podrían estudiar los efectos causales que explicarían dicha variación en los efectos negativos, los cuales, por ejemplo, se podrían deber a la zona en donde se encuentran ubicadas, la mina Potosí en en Altiplano de Bolivia. Mientras, que la minera de Huancavelica en la Cordillera en Perú o también se puede deber a las condiciones laborales, las cuales cambiaban en las distintas zonas en donde se realizaba la mita. En ese sentido Zagalsky (2014), menciona que la minera Potosí debido a su clima extremo, según el autor el más terrible de la región, sumado a las condiciones laborales extremadamente deplorables, generaron tasas de mortalidad muy elevadas, en comparación a las demás zonas en donde se realizaba la mita. En ese sentido se podría inferir que las zonas que participaron de la mita en Potosí fueron más afectadas que las que participaron en la mita de Huancavelica. No obstante, tendría que comprobarse mediante un estudio extenso. \n",
    "\n",
    "Por otro lado, sería interesante comparar los resultados de la mita (realizada en Perú y Bolivia), con otros trabajos mineros realizados en otras zonas del virreinato español, por ejemplo, en la Nueva Granada. En ese sentido según Orche y Puche (2000), en la Nueva Granada al no tener tantos recursos ni infraestructura minera como en Perú y Bolivia, ello generó que no haya un grado de institucionalización grande como el caso de la mita en Perú, no obstante, igualmente la extracción del oro fue de vital importancia. En base a ello podría decirse que a pesar de que la extracción de minerales fue importante, al no haber un alto grado de institucionalización como la mita, podría traducirse en peores tratos en el caso de Perú y Bolivia, lo cual a largo plazo se podría haber traducido en peores condiciones de vida en los distritos de estos países que participaron de la mita, en comparación con los distritos que participaron del trabajo de extracción de minerales en los actuales países que conformaron Nueva Granada. \n",
    "\n",
    "\n",
    "Bibliografía: \n",
    "\n",
    "Orche. E y Puche. O. (2000). Los asentamientos mineros en la minería aurífera de Nueva Granada durante la época colonial. Instituto Geológico y Minero de España. pp. 415-422.\n",
    "\n",
    "Zagalsky, Paula C. (2014). THE POTOSÍ MITA: AN UNCHANGED COLONIAL IMPOSITION WITHIN A CONTEXT OF MULTIPLE TRANSFORMATIONS (16th AND 17th CENTURIES; CHARCAS, VICEROYALTY OF PERU. Chungará (Arica), 46(3), 375-395.\n",
    "\n"
   ]
  },
  {
   "cell_type": "markdown",
   "metadata": {},
   "source": [
    "# Parte código\n",
    "\n",
    "- Joaquin Alfredo del Castillo Ugarte \n",
    "\n",
    "- Sebastian Elias Torres Tapia\n",
    "\n",
    "- Sebastian Gomez"
   ]
  },
  {
   "cell_type": "code",
   "execution_count": null,
   "metadata": {
    "id": "BxSvk9HDXgaM"
   },
   "outputs": [],
   "source": [
    "from causalgraphicalmodels import CausalGraphicalModel\n",
    "import matplotlib.pyplot as plt\n",
    "import os\n",
    "import numpy as np \n",
    "import pandas as pd \n",
    "import statsmodels.api as sm \n",
    "import statsmodels.formula.api as smf \n",
    "from itertools import combinations \n",
    "import plotnine as p\n",
    "import statsmodels.api as sm\n",
    "import statsmodels.formula.api as smf\n",
    "import linearmodels.iv.model as lm\n",
    "from linearmodels.iv import IV2SLS\n",
    "from statsmodels.iolib.summary2 import summary_col\n",
    "import seaborn as sns"
   ]
  },
  {
   "cell_type": "markdown",
   "metadata": {
    "id": "yWxzuhUFvy1x"
   },
   "source": [
    "## Pregunta 1\n",
    "\n",
    "### Conceptos: Instrumental Variables \n",
    "\n",
    "Relevancia: Significa que para que el instrumento (Z) sea relevante debe de afectar (relacionarse) con la variable a explicar. De lo contrario, la variable de instrumento no será relevante. Mientras mayor sea la covariación entre Z con X, más confianza se puede tener en el concepto de relevancia. \n",
    "\n",
    "Validez: El supuesto de validez, también llamado de “restricción de exclusión”, implica que el instrumento es una variable que no tiene backdoors abiertas de manera que, cualquier ruta (path) entre el instrumento y el resultado debe pasar por el tratamiento o cerrarse. En este supuesto es importante recordar que las variables instrumentales no eximen la necesidad de identificar y cerrar las backdoor sino que trasladan dicha responsabilidad al instrumento."
   ]
  },
  {
   "cell_type": "markdown",
   "metadata": {
    "id": "9iTbSJ3LwEGa"
   },
   "source": [
    "## Pregunta 2: \n",
    "### Ploteo de Histogramas\n",
    "#### 2.1)"
   ]
  },
  {
   "cell_type": "code",
   "execution_count": null,
   "metadata": {
    "colab": {
     "base_uri": "https://localhost:8080/",
     "height": 236
    },
    "id": "GQtoTvsYX0zG",
    "outputId": "9b654273-cb40-4093-a304-76256cd7ecbe"
   },
   "outputs": [],
   "source": [
    "# load data\n",
    "\n",
    "import ssl\n",
    "ssl._create_default_https_context = ssl._create_unverified_context\n",
    "\n",
    "def read_data(file): \n",
    "    return pd.read_stata(\"https://raw.github.com/scunning1975/mixtape/master/\" + file)\n",
    "\n",
    "card = read_data(\"card.dta\")\n",
    "card.head()"
   ]
  },
  {
   "cell_type": "code",
   "execution_count": null,
   "metadata": {
    "colab": {
     "base_uri": "https://localhost:8080/",
     "height": 388
    },
    "id": "FSHWUomPX3YU",
    "outputId": "bc50f7c7-40ce-4860-e9ce-b795156fd9e4"
   },
   "outputs": [],
   "source": [
    "sns.displot(card, x=\"educ\", col = \"nearc4\")"
   ]
  },
  {
   "cell_type": "markdown",
   "metadata": {
    "id": "lkk3ifYTqDv8"
   },
   "source": [
    "Interpretación: \n",
    "\n",
    "En primer lugar, se puede ver que la muestra de alumnos que tienen una universidad en su condado es mayor que la muestra en donde los alumnos no cuentan con una universidad en su condado. Ahora bien, a simple vista parecería que proporcionalmente en ambos grupos de estudio se ve una concurrencia similar en la movilidad de las barras. No obstante, sí existen algunas pequeñas variaciones, por ejemplo, en el caso de 18 años de estudio sí se puede ver una diferencia importante cuando existe universidad en el condado. Ello puede significar que en el grupo de tratamiento es más probable llegar a los años finales de educación universitaria, en comparación con el grupo de control, ello se puede deber a que al haber una universidad en la localidad de los estudiantes no deben gastar en transporte, en mudanza o en otro tipo de requerimiento que signifique asistir a una universidad lejana, aunque esta variable parece no ser del todo definitiva, pues ambos histogramas presentan una gran similitud."
   ]
  },
  {
   "cell_type": "markdown",
   "metadata": {
    "id": "YIhjLt8Ywf9h"
   },
   "source": [
    "#### 2.2)"
   ]
  },
  {
   "cell_type": "code",
   "execution_count": null,
   "metadata": {
    "colab": {
     "base_uri": "https://localhost:8080/",
     "height": 388
    },
    "id": "BWHnJiYyX6iG",
    "outputId": "aad93992-e47b-4fdb-a29f-eec74365f31d"
   },
   "outputs": [],
   "source": [
    "sns.displot(card, x=\"lwage\", col = \"nearc4\")"
   ]
  },
  {
   "cell_type": "markdown",
   "metadata": {
    "id": "9HcwYktJqIyT"
   },
   "source": [
    "Interpretación: \n",
    "\n",
    "Ahora bien, en el caso de logaritmo de ingreso en la mayor parte del histograma presentan una distribución similar a excepción de los datos cercanos a 6.5, pues estos son mayores en el caso del grupo de tratamiento. Ello puede indicar que sí puede existir una diferencia en el caso de los estudiantes que viven cerca o no de una universidad, en donde los primeros perciben más ingresos. Ello se puede deber a que al presentar ligeras diferencias en favor del grupo de tratamiento con respecto a los años de estudio en una universidad, ello se terminó reflejando ligeramente en la percepción de ingresos, aunque como se comentó estas diferencias son pequeñas como para dar una conclusión fija sobre si los ingresos y los años de estudio varían en función de si existe o no una universidad en la localidad. "
   ]
  },
  {
   "cell_type": "markdown",
   "metadata": {
    "id": "_y3W360CwOtq"
   },
   "source": [
    "## Pregunta 3: \n",
    "### Regresiones\n",
    "#### 3.1)"
   ]
  },
  {
   "cell_type": "code",
   "execution_count": null,
   "metadata": {
    "colab": {
     "base_uri": "https://localhost:8080/",
     "height": 545
    },
    "id": "OmLHr6QZaqjO",
    "outputId": "556300d5-81b7-4f0c-d36a-bfc33d317b89"
   },
   "outputs": [],
   "source": [
    "#OLS\n",
    "ols_reg = sm.OLS.from_formula(\"lwage ~ educ + exper + black + south + married + smsa\", \n",
    "              data = card).fit()\n",
    "\n",
    "ols_reg.summary()"
   ]
  },
  {
   "cell_type": "markdown",
   "metadata": {
    "id": "-_R9hyBSeMcC"
   },
   "source": [
    "Interpretación:\n",
    "\n",
    "\n",
    "OLS: El modelo de regresión es significativo (F-statistic fuerte) y explica en un 30.4 porciento la variabilidad de la variable dependiente ingreso (expresada de manera logaritmica). Asimismo, a partir de los coeficientes, observamos que: por cada año adicional de educación, el nivel de ingreso aumentaría en 0.07 unidades logaritmicas. En segundo lugar, por cada año adicional de experiencia laboral, el nivel de ingresos aumentaría en 0.03 unidades logaritimicas. En tercer lugar, si el individuo es afroamericano, el nivel de ingresos se espera que disminuya en 0.16 unidades logaritmicas. En quinto lugar, en caso el individuo viva en el sur, se espera que el nivel de ingresos disminuya en 0.13 unidades logarítmicas. En quinto lugar, de tener el estado civil de casado o casada, se espera que el nivel de ingresos disminuya en 0.03 unidades logarítimas. Finalmente, en caso viva en SMSA, se espera que el nivel de ingresos aumente en 0.17 unidades logarítmicas. En todos los casos anteriores, las variables en cuestión son significativas dado que tienen un p-value menor a 0.05. "
   ]
  },
  {
   "cell_type": "markdown",
   "metadata": {
    "id": "_mzI9pFzwZw0"
   },
   "source": [
    "#### 3.2)"
   ]
  },
  {
   "cell_type": "code",
   "execution_count": null,
   "metadata": {
    "id": "Zoparok_bCBh"
   },
   "outputs": [],
   "source": [
    "#Dado que hay valores nulos en el dataset, se les rellenará con 0\n",
    "card['married'] = card['married'].fillna(0) "
   ]
  },
  {
   "cell_type": "code",
   "execution_count": null,
   "metadata": {
    "colab": {
     "base_uri": "https://localhost:8080/",
     "height": 454
    },
    "id": "aJuYRNGPaxy2",
    "outputId": "f3a4278b-cf6e-4e65-d40c-53041249c968"
   },
   "outputs": [
    {
     "data": {
      "text/html": [
       "<table class=\"simpletable\">\n",
       "<caption>IV-2SLS Estimation Summary</caption>\n",
       "<tr>\n",
       "  <th>Dep. Variable:</th>          <td>lwage</td>      <th>  R-squared:         </th> <td>-1.3114</td>\n",
       "</tr>\n",
       "<tr>\n",
       "  <th>Estimator:</th>             <td>IV-2SLS</td>     <th>  Adj. R-squared:    </th> <td>-1.3160</td>\n",
       "</tr>\n",
       "<tr>\n",
       "  <th>No. Observations:</th>       <td>3010</td>       <th>  F-statistic:       </th> <td>289.62</td> \n",
       "</tr>\n",
       "<tr>\n",
       "  <th>Date:</th>             <td>Sat, Nov 12 2022</td> <th>  P-value (F-stat)   </th> <td>0.0000</td> \n",
       "</tr>\n",
       "<tr>\n",
       "  <th>Time:</th>                 <td>01:20:57</td>     <th>  Distribution:      </th> <td>chi2(6)</td>\n",
       "</tr>\n",
       "<tr>\n",
       "  <th>Cov. Estimator:</th>        <td>robust</td>      <th>                     </th>    <td></td>    \n",
       "</tr>\n",
       "<tr>\n",
       "  <th></th>                          <td></td>         <th>                     </th>    <td></td>    \n",
       "</tr>\n",
       "</table>\n",
       "<table class=\"simpletable\">\n",
       "<caption>Parameter Estimates</caption>\n",
       "<tr>\n",
       "      <td></td>      <th>Parameter</th> <th>Std. Err.</th> <th>T-stat</th>  <th>P-value</th> <th>Lower CI</th> <th>Upper CI</th>\n",
       "</tr>\n",
       "<tr>\n",
       "  <th>Intercept</th>  <td>0.1276</td>    <td>3.1412</td>   <td>0.0406</td>  <td>0.9676</td>   <td>-6.0290</td>  <td>6.2843</td> \n",
       "</tr>\n",
       "<tr>\n",
       "  <th>black</th>      <td>0.1134</td>    <td>0.1816</td>   <td>0.6244</td>  <td>0.5324</td>   <td>-0.2425</td>  <td>0.4692</td> \n",
       "</tr>\n",
       "<tr>\n",
       "  <th>exper</th>      <td>0.1515</td>    <td>0.0747</td>   <td>2.0274</td>  <td>0.0426</td>   <td>0.0050</td>   <td>0.2980</td> \n",
       "</tr>\n",
       "<tr>\n",
       "  <th>married</th>    <td>-0.0151</td>   <td>0.0147</td>   <td>-1.0258</td> <td>0.3050</td>   <td>-0.0438</td>  <td>0.0137</td> \n",
       "</tr>\n",
       "<tr>\n",
       "  <th>smsa</th>       <td>0.0201</td>    <td>0.1030</td>   <td>0.1949</td>  <td>0.8455</td>   <td>-0.1819</td>  <td>0.2220</td> \n",
       "</tr>\n",
       "<tr>\n",
       "  <th>south</th>      <td>-0.0319</td>   <td>0.0692</td>   <td>-0.4603</td> <td>0.6453</td>   <td>-0.1675</td>  <td>0.1038</td> \n",
       "</tr>\n",
       "<tr>\n",
       "  <th>educ</th>       <td>0.3618</td>    <td>0.1849</td>   <td>1.9562</td>  <td>0.0504</td>   <td>-0.0007</td>  <td>0.7243</td> \n",
       "</tr>\n",
       "</table><br/><br/>Endogenous: educ<br/>Instruments: nearc2<br/>Robust Covariance (Heteroskedastic)<br/>Debiased: False"
      ],
      "text/plain": [
       "<class 'linearmodels.compat.statsmodels.Summary'>\n",
       "\"\"\"\n",
       "                          IV-2SLS Estimation Summary                          \n",
       "==============================================================================\n",
       "Dep. Variable:                  lwage   R-squared:                     -1.3114\n",
       "Estimator:                    IV-2SLS   Adj. R-squared:                -1.3160\n",
       "No. Observations:                3010   F-statistic:                    289.62\n",
       "Date:                Sat, Nov 12 2022   P-value (F-stat)                0.0000\n",
       "Time:                        01:20:57   Distribution:                  chi2(6)\n",
       "Cov. Estimator:                robust                                         \n",
       "                                                                              \n",
       "                             Parameter Estimates                              \n",
       "==============================================================================\n",
       "            Parameter  Std. Err.     T-stat    P-value    Lower CI    Upper CI\n",
       "------------------------------------------------------------------------------\n",
       "Intercept      0.1276     3.1412     0.0406     0.9676     -6.0290      6.2843\n",
       "black          0.1134     0.1816     0.6244     0.5324     -0.2425      0.4692\n",
       "exper          0.1515     0.0747     2.0274     0.0426      0.0050      0.2980\n",
       "married       -0.0151     0.0147    -1.0258     0.3050     -0.0438      0.0137\n",
       "smsa           0.0201     0.1030     0.1949     0.8455     -0.1819      0.2220\n",
       "south         -0.0319     0.0692    -0.4603     0.6453     -0.1675      0.1038\n",
       "educ           0.3618     0.1849     1.9562     0.0504     -0.0007      0.7243\n",
       "==============================================================================\n",
       "\n",
       "Endogenous: educ\n",
       "Instruments: nearc2\n",
       "Robust Covariance (Heteroskedastic)\n",
       "Debiased: False\n",
       "\"\"\""
      ]
     },
     "execution_count": 11,
     "metadata": {},
     "output_type": "execute_result"
    }
   ],
   "source": [
    "#2SLS\n",
    "iv_reg = IV2SLS.from_formula(\"lwage ~  1 + exper + black + south + married + smsa + [educ ~ nearc2 ]\", card).fit()\n",
    "iv_reg.summary"
   ]
  },
  {
   "cell_type": "markdown",
   "metadata": {
    "id": "t87Lh8i-i2Ss"
   },
   "source": [
    "Interpretación:\n",
    "\n",
    "\n",
    "En primer lugar, dado el F-statistic (excede a 15), no presentamos un problema de un instrumento debil. Asimismo, En segundo lugar, en este modelo, se está instrumentalizando la regresión lineal con la variable de años de educación junto con la cercanía de institutos educativos superiores de 2 años. La primera diferencia que podemos notar es que, salvo la variable de años de experiencia, todas las variables ya no son significativas para el modelo (p-value mayor a 0.05). \n",
    "\n",
    "De manera particular, cada coeficiente cambia de la siguiente manera. En primer lugar, por cada año adicional de educación, el nivel de ingreso aumentaría en 0.36 unidades logaritmicas. En segundo lugar, por cada año adicional de experiencia laboral, el nivel de ingresos aumentaría en 0.15 unidades logaritimicas. En tercer lugar, si el individuo es afroamericano, el nivel de ingresos se espera que aumente en 0.11 unidades logaritmicas. En quinto lugar, en caso el individuo viva en el sur, se espera que el nivel de ingresos disminuya en 0.03 unidades logarítmicas. En quinto lugar, de tener el estado civil de casado o casada, se espera que el nivel de ingresos disminuya en 0.01 unidades logarítimas. Finalmente, en caso viva en SMSA, se espera que el nivel de ingresos aumente en 0.02 unidades logarítmicas. \n",
    "\n",
    "En este sentido, respondiendo a la pregunta por el cambio en el coeficiente relacionado a educación, por cada año adicional de estudios, el nivel de ingresos de los estudiantes aumenta en un 36% (respecto al 7.1% del modelo anterior). Ello significaría que el nivel de ingresos real (de este modelo) sería mayor al planteado por el anterior (OSL). Se podría explicar dicha variación bajo la explicación de que la presencia de universidades o institutos superiores cerca al lugar de residencia efectivamente juegan un papel importante en la continuación de los estudios. "
   ]
  }
 ],
 "metadata": {
  "colab": {
   "collapsed_sections": [],
   "provenance": []
  },
  "kernelspec": {
   "display_name": "Python 3 (ipykernel)",
   "language": "python",
   "name": "python3"
  },
  "language_info": {
   "codemirror_mode": {
    "name": "ipython",
    "version": 3
   },
   "file_extension": ".py",
   "mimetype": "text/x-python",
   "name": "python",
   "nbconvert_exporter": "python",
   "pygments_lexer": "ipython3",
   "version": "3.9.12"
  }
 },
 "nbformat": 4,
 "nbformat_minor": 1
}
