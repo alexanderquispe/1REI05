{
 "cells": [
  {
   "cell_type": "markdown",
   "id": "58076cd4",
   "metadata": {},
   "source": [
    "# Braghieri, L., Levy, R. E., & Makarin, A. (2022). Social media and mental health. American Economic Review, 112(11), 3660-93."
   ]
  },
  {
   "cell_type": "markdown",
   "id": "fb5709c7",
   "metadata": {},
   "source": [
    "1- ¿Cuál es la pregunta de investigación del artículo?\n",
    "\n",
    "Luca Braghieri, Ro’ee Levy y Alexey Makarin reconocen que el aumento de la difusión de las redes sociales ha coincidido con el empeoramiento de la salud mental entre adolescentes y jóvenes adultos en los Estados Unidos. Por ello, los autores se preguntan ¿realmente la propagación de las redes sociales puede tener parte de la responsabilidad  en el deterioro de la salud mental entre adolescentes y jóvenes adultos?\n",
    "\n",
    "2- ¿Cuáles son las fortalezas y debilidades del enfoque del documento para responder a esa pregunta?\n",
    "\n",
    "El enfoque que se dió para responder esta pregunta fue una metodología de estimaciones cuasi experimentales del impacto de los medios sociales en la salud mental aprovechando un experimento natural único: la introducción escalonada de Facebook en las universidades estadounidenses a mediados de los 2000. Para ello se analizó a estudiantes en los campus universitarios de EE.UU. entre 2004 y 2006. Para este análisis, se tomó como hipótesis la variación entre universidades por oleada de encuestas generada por la introducción brusca pero escalonada de Facebook.obtener estimaciones causales de la introducción de Facebook en la salud mental de los estudiantes. \n",
    "\n",
    "Las fortalezas del enfoque cuasi experimental es que se basa en estrategia empírica para definir las variables para la construccion de indicadores. Con ello, se agrupó las variables individuales de salud mental según niveles. El nivel de análisis más grueso combina todas las preguntas sobre salud mental (índice de mala salud mental); un segundo nivel de análisis divide los síntomas de enfermedad mental (índice de síntomas de mala salud mental) y la utilización de servicios relacionados con la depresión (índice de servicios de depresión) en familias separadas; un tercer nivel de análisis divide los síntomas de enfermedad mental en síntomas relacionados con la depresión (índice de síntomas de depresión) y síntomas relacionados con otras condiciones de salud mental (índice de síntomas de otras condiciones de salud mental); y un nivel que comprende las propias variables individuales\n",
    "\n",
    "Asismismo, este aspecto del enfoque permite descartar varios factores de confusión que podrían afectar los resultados: en primer lugar, las diferencias específicas de la universidad fijadas en el tiempo (por ejemplo, los estudiantes de las universidades más exigentes académicamente pueden tener una peor salud mental de base que los estudiantes de las universidades menos exigentes); en segundo lugar, las diferencias a lo largo del tiempo que afectan a todos los estudiantes de manera similar (por ejemplo, ciertas fluctuaciones macroeconómicas); en tercer lugar, las tendencias de salud mental que afectan a los colegios de los distintos grupos de expansión de Facebook de forma diferencial, pero suave (por ejemplo, los colegios en los que Facebook se implantó antes pueden tener tendencias lineales diferentes en términos de salud mental que los colegios en los que Facebook se implantó después).\n",
    "\n",
    "Algunas debilidades del enfoque son señaladas en el artículo, estas refieren a la validación externa que puede tener el modelo para generalizar los resultados a la población en general. otros grupos demográficos y los resultados están aislados\n",
    "\n",
    "Debe haber una interpretación de los resultados que considere: primero, dela imposibilidad de estimar los efectos de las funciones de las redes sociales -por ejemplo, las páginas de noticias- que se introdujeron después del periodo analizado. Asi como no se puede tratar directamente la posibilidad de que los años de experiencia con la plataforma puedan enseñar a los usuarios formas de mitigar los efectos negativos sobre la salud mental, pues se ha evaluado otro aspecto y el espacio temporal limitado. En segundo lugar, considerar que se realiza un análisis basado en autoinformes que pueden sufrir errores de medición debido al sesgo de recuerdo, la falta de incentivos y las preocupaciones de imagen social. Por último, las estimaciones son sobre estudiantes universitarios, una población de interés directo en el debate sobre el reciente empeoramiento de las tendencias de salud mental entre los adolescentes y los adultos jóvenes. Sin embargo, queda pendiente en investigaciones futuras comprobar si los medios sociales tienen un efecto similar en la salud mental de otros grupos demográficos. "
   ]
  },
  {
   "cell_type": "markdown",
   "id": "536169b5",
   "metadata": {},
   "source": [
    "3- ¿Cómo avanza este documento el conocimiento sobre la pregunta, es decir, cuál es la contribución? (Si no puede encontrar ninguna contribución, pregúntese por qué el editor y los árbitros decidieron publicar el artículo)\n",
    "\n",
    "La principal contribución es que la introducción de Facebook en la universidad tuvo un efecto negativo en la salud mental de los estudiantes, por ejemplo, en el aumento de la prevalencia de la depresión grave. No solo se confirma la hipótesis y concluye que Facebook aumenta la capacidad de los estudiantes para participar en comparaciones sociales desfavorables. También se logra un mejor entendimiento de esta problemática con 3 resultados adicionales que pueden ayudar a caracterizar las vulnerabilidades de los adolescentes y jóvenes afectados. \n",
    "Primero, los efectos negativos sobre la salud mental son mayores para los estudiantes que, basándose en características inmutables como el género y la edad, se predice que son más susceptibles de padecer enfermedades mentales; segundo, la duración de la exposición a la plataforma influye en la erosión de la salud mental; y los estudiantes afectados también eran más propensos a informar que su rendimiento académico se veía afectado negativamente por condiciones relacionadas con la mala salud mental. \n"
   ]
  },
  {
   "cell_type": "markdown",
   "id": "c8df6e9b",
   "metadata": {},
   "source": [
    "4- ¿Cuáles serían uno o dos próximos pasos específicos para avanzar en esta pregunta? (Lean otros artículos relacionados)\n",
    "\n",
    "Los próximos pasos para avanzar en la pregunta de investigación están en relación con las debilidades del enfoque; pues queda pendiente la investigación en otras poblaciones y grupos demográficos, ya que solo se toma en cuenta los adolescentes y adultos jóvenes que estudian en las universidades de los Estados Unidos, mas podría ser válido analizar el impacto de las redes en niños y adolescentes de colegios, por ejemplo. \n",
    "\n",
    "También, se puede investigar también sobre cómo se puede aliviar estos efectos de las redes sociales y cómo hacer frente  a la mayor  vulnerabilidad que ciertos jóvenes presentan frente al uso de redes. Es decir, el estudio concluyó que algunos jóvenes son más susceptibles a las comparaciones desfavorables que implica el uso de Facebook en los casos en que: los estudiantes podrían considerarse desfavorables con respecto a sus compañeros, como los estudiantes que viven fuera del campus -y que, por tanto, tienen más probabilidades de ser excluidos de las actividades sociales en el campus-, los estudiantes de nivel socioeconómico más bajo y los estudiantes que no son adeptos a las fraternidades/sororidades. Entonces, se puede avanzar en estudios de campo que analicen si los cambios en estos aspectos pueden aliviar los efectos negativos de las redes sociales en la salud mental.\n",
    "\n",
    "También, se puede investigar sobre otros aspectos de las redes sociales más que el de una comparación desventajosa que afecta la percepción personal e incide en el deterioro de la salud mental. También se puede relacionar a otras variables en relación al uso de redes sociales, por ejemplo con estudios sobre la adicción a las redes sociales, y cómo se puede afectar la salud mental que afecta el rendimiento academico. En esa línea, estudios como el de Condori y Mamani (2016) dan luces sobre la relación indirecta con la incapacidad de regulación académica y correlación directa con la dimensión de postergación de actividades, lo que incide en la percepción de autorrealización de los estudiantes. También Ortiz (2019) identifica una correlación negativa que impacta en el deterioro de las habilidades sociales a mayor uso de redes sociales.\n",
    "\n",
    " Finalmente, estas investigaciones pueden ser contrastadas con próximos estudios sobre el impacto de otras redes sociales como Instagram o Tiktok y su impacto durante la pandemia.\n",
    "Condori Huanca, Y. N., & Mamani Coaquira, K. Y. (2016). Adicción a Facebook y procrastinación académica en estudiantes de la Facultad de Ingeniería y Arquitectura de la Universidad Peruana Unión, filial Juliaca–2015.\n",
    "\n",
    "Ortiz Nieto, K. C. (2019). La adicción a Facebook y su relación con las habilidades sociales en estudiantes universitarios del cantón Ambato (Bachelor's thesis, Pontificia Universidad Católica del Ecuador).\n"
   ]
  },
  {
   "cell_type": "code",
   "execution_count": null,
   "id": "3d4591a3",
   "metadata": {},
   "outputs": [],
   "source": []
  }
 ],
 "metadata": {
  "kernelspec": {
   "display_name": "Python 3 (ipykernel)",
   "language": "python",
   "name": "python3"
  },
  "language_info": {
   "codemirror_mode": {
    "name": "ipython",
    "version": 3
   },
   "file_extension": ".py",
   "mimetype": "text/x-python",
   "name": "python",
   "nbconvert_exporter": "python",
   "pygments_lexer": "ipython3",
   "version": "3.9.12"
  }
 },
 "nbformat": 4,
 "nbformat_minor": 5
}
