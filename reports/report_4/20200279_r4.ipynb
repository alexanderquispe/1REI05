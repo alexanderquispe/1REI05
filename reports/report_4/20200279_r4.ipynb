{
 "cells": [
  {
   "cell_type": "markdown",
   "id": "e81f58b9",
   "metadata": {},
   "source": [
    "# REPORTE 4"
   ]
  },
  {
   "cell_type": "markdown",
   "id": "329aa548",
   "metadata": {},
   "source": [
    "Estudiante: Greysi Arrelucea Castañeda "
   ]
  },
  {
   "cell_type": "markdown",
   "id": "d5b98e4c",
   "metadata": {},
   "source": [
    "## Lectura\n"
   ]
  },
  {
   "cell_type": "markdown",
   "id": "42cf52e0",
   "metadata": {},
   "source": [
    "La presente investigación busca modelar la política monetaria no convencional aplicada por el Sistema de Reserva Federal de los Estados Unidos (FeD) frente a la crisis financiera internacional del 2008-2009.  Para ello, parte del modelo tradicional IS-LM creado por Hicks (1937) combinandolo con los modelos con activos financieros de Tobin y Brainard (1963), Brason (1977) y Tobin (1981), esto con el fin de lograr incorporar las innovaciones de la política monetaria estadounidense al modelo. En este sentido, el artículo busca responder a la siguiente pregunta de investigación: ¿De qué manera se puede modelar la política monetaria no convencional aplicada por la FeD frente a la crisis internacional de 2008-2009, partiendo del modelo estándar de demanda y oferta agregada de economía cerrada? Ciertamente, se observará que el modelo visibiliza la reinvención de la política monetaria de la FeD, la cual trascendió de su función de prestamista para convertirse en una «creador(a) de mercados de última instancia» (Mendoza, 2014).\n",
    " \n",
    "Este documento hace uso de un enfoque cuantitativo con la inclusión de modelos macroeconómicos que siguen la tradición keynesiana de los años 70. La inclusión de los modelos con activos financieros antes mencionados tiene como principal fortaleza el hecho de que incorpora las innovaciones en la política monetaria “en un lenguaje sencillo y más convincente que el de la macroeconomía moderna, convencional” (Mendoza, 2015). Adicionalmente, el método de las simulaciones permite evaluar los efectos de la política monetaria no convencional en distintos escenarios (en el corto plazo, en el tránsito al equilibrio estacionario y en el equilibrio estacionario), lo cual es una gran fortaleza para los propósitos de la investigación.  Asimismo, un punto fuerte del enfoque utilizado es que las explicaciones se hacen de manera intuitiva, matemática y gráfica, lo que permite un mayor grado de comprensión del modelo. Por otro lado, una debilidad que no se debe ignorar es que los modelos son simulaciones simplificadas de la realidad, es decir, no son reflejos exactos y tienen un pequeño margen de error. Además, ésta simplificación implica que se dejen de lado ciertas variables contextuales que también son importantes en el momento de explicar las políticas monetarias no convencionales.\n",
    " \n",
    "Por supuesto, pese a las debilidades, el documento tiene una sustancial contribución teórica y práctica. Por un lado, ha logrado la creación de un modelo que puede explicar tanto los efectos de la política monetaria convencional, como aquellos de la política monetaria no convencional, en el corto plazo, en el tránsito al equilibrio estacionario y en el equilibrio estacionario. A través de ello, ha demostrado el valor y la utilidad de los modelos tradicionales para la explicación de los problemas macroeconómicos modernos. Por supuesto, esto no elimina la validez de los trabajos que utilizan modelos más actuales de equilibrio general dinámicos y estocásticos, pero sí constituye una innovación en el tratamiento de la macroeconomía contemporánea. Por otro lado, la investigación tiene una importante contribución práctica en tanto puede ser usada por aquellas economías que deseen aplicar políticas monetarias no convencionales, pues el modelo puede funcionar como una guía de la manera en que la economía responderá frente a estas nuevas políticas, siempre considerando las limitaciones antes mencionadas y las particularidades de cada economía.\n",
    " \n",
    "Finalmente, un paso para avanzar en esta pregunta es profundizar en el origen y el funcionamiento de las políticas monetarias no convencionales tanto en EEUU, como en otros países latinoamericanos con economías similares. Según Ubide (2014) tanto las políticas monetarias convencionales como las no convencionales pueden llegar a ser exitosas si los bancos las aplican con convicción y considerando las particularidades de su contexto. Así, además del escenario estadounidense, consideró que sería muy provechoso analizar estas políticas en otras economías parecidas, pero con ciertas características distintivas, como las latinoamericanas. Por otro lado, considero que un segundo paso para avanzar en la pregunta sería la comparación de la funcionalidad este modelo con modelos contemporáneos, precisamente para identificar con mayor precisión la eficacia de cada uno en la tarea de explicar las políticas monetarias no convencionales.\n",
    " \n",
    "\n",
    "#### Bibliografía\n",
    "\n",
    "Mendoza, W. (2014). Demanda y oferta agregada en presencia de políticas monetarias no convencionales. Lima, Fondo Editorial PUCP. \n",
    "\n",
    "Ubide, A. (2014). Políticas monetarias no convencionales: experiencias recientes, impacto y lecciones. Papeles de Economía Española. 2(140). Recuperado de: https://www.funcas.es/wp-content/uploads/Migracion/Articulos/FUNCAS_PEE/140art07.pdf\n",
    "\n"
   ]
  },
  {
   "cell_type": "markdown",
   "id": "c6311bee",
   "metadata": {},
   "source": [
    "# Código"
   ]
  },
  {
   "cell_type": "markdown",
   "id": "6bed8c2f",
   "metadata": {},
   "source": [
    "Estudiantes: Greysi Arrelucea y Roxana Rodriguez"
   ]
  },
  {
   "cell_type": "code",
   "execution_count": 1,
   "id": "423cf31f",
   "metadata": {},
   "outputs": [],
   "source": [
    "import ipywidgets as widgets\n",
    "import matplotlib.pyplot as plt\n",
    "import numpy as np\n",
    "import sympy as sy\n",
    "from sympy import *\n",
    "import pandas as pd\n",
    "#from causalgraphicalmodels import CausalGraphicalModel"
   ]
  },
  {
   "cell_type": "markdown",
   "id": "778202f3",
   "metadata": {},
   "source": [
    "#### A partir del siguiente sistema de ecuaciones que representan el modelo IS-LM"
   ]
  },
  {
   "cell_type": "markdown",
   "id": "9e1ba6be",
   "metadata": {},
   "source": [
    "1) Encuentre las ecuaciones de Ingreso ($Y^e$)  y tasa de interes ($r^e$) de equilibrio (Escriba paso a paso la derivacion de estas ecuaciones)."
   ]
  },
  {
   "cell_type": "markdown",
   "id": "8a39567b",
   "metadata": {},
   "source": [
    "Para encontrar las ecuaciones de Ingreso ($Y^e$)  y tasa de interés ($r^e$) de equilibrio del modelo IS-LM se necesitan las ecuaciones de las curvas IS y LM:\n",
    "\n",
    "Por un lado, la curva IS se deriva de la igualdad entre el ingreso ($Y$) y la demanda agregada ($DA$):\n",
    "\n",
    "$$Y=C+I+G+X-M$$\n",
    "\n",
    "Entonces, considerando las siguientes ecuaciones:\n",
    "\n",
    "$$C= C_0 + bY^d$$\n",
    "\n",
    "$$I= I_0 + hr$$\n",
    "\n",
    "$$G= G_0$$\n",
    "\n",
    "$$T= tY$$\n",
    "\n",
    "$$X= X_0$$\n",
    "\n",
    "$$M= mY^d$$\n",
    "\n",
    "Para llegar al equilibrio Ahorro-Inversión, se debe restar la tributación ($T$) de ambos miembros de la igualdad:\n",
    "\n",
    "$$Y-T = C+I+G+X-M-T$$ \n",
    "\n",
    "$$Y^d=C+I+G+X-M-T$$\n",
    "\n",
    "$$Y^d-C-G-X+M+T = I$$\n",
    "\n",
    "Esta igualdad se puede reescribir de la siguiente forma:\n",
    "\n",
    "$$(Y^d-C)+(T-G)+(M-X)=I$$\n",
    "\n",
    "Las tres partes de la derecha constituyen los tres componentes del ahorro total($S$): ahorro privado ($Sp=Y^d-C$) , ahorro del gobierno ($Sg=T-G$) y ahorro externo ($Se=M-X$):\n",
    "\n",
    "$$S=Sp+Sg+Se$$\n",
    "\n",
    "De modo que, el ahorro total ($S$) es igual a la inversión($I$):\n",
    "\n",
    "$$Sp+Sg+Se=I$$\n",
    "\n",
    "$$S(Y)=I(r)$$\n",
    "\n",
    "Haciendo reemplazos se obtiene que:\n",
    "\n",
    "$$Sp+Sg+Se=I_0-hr$$\n",
    "\n",
    "$$(Y^d-C_0-bY^d)+(T-G_0)+(mY^d-X_0)=I_0-hr$$\n",
    "\n",
    "Considerando las observaciones anteriores sobre los componentes de la condición de equilibrio ($Y$):\n",
    "\n",
    "$$ [1 - (b - m)(1 - t)]Y - (C_0 + G_0 + X_0) = I_0 - hr $$\n",
    "\n",
    "Entonces, la curva IS se puede expresar con una ecuación donde la tasa de interés es una función del ingreso:\n",
    "\n",
    "$$ hr = (C_0 + G_0 + I_0 + X_0) - [1 - (b - m)(1 - t)]Y $$\n",
    "\n",
    "luego, la sensibilidad de inversión ante la tasa de interés $h$ pasa al otro lado de la ecuación dividiendo todos los componentes y resulta:\n",
    "\n",
    "$$ r = \\frac{1}{h}(C_0 + G_0 + I_0 + X_0) - \\frac{1 - (b - m)(1 - t)}{h}Y $$\n",
    "\n",
    "Y puede simplificarse en:\n",
    "\n",
    "$$ r = \\frac{B_0}{h} - \\frac{B_1}{h}Y $$\n",
    "\n",
    "Siendo $ B_0 = C_0 + G_0 + I_0 + X_0  $ el intercepto y la pendiente $  B_1 = 1 - (b - m)(1 - t) $\n",
    "\n",
    "Por otro lado, la ecuación de la curva LM:\n",
    "\n",
    "El equilibrio en el Mercado de Dinero que da origen a la curva LM se genera del equilibrio entre la oferta de dinero $M^s$ y la demanda de dinero $M^d$, resultando:\n",
    "\n",
    "$$M^s=M^d$$\n",
    "Donde:\n",
    "La oferta de dinero ($M^s$) → $ \\frac{M^s}{P}=\\frac{M^s_0}{P_0}$ \n",
    "\n",
    "La demanda de dinero ($M^d$) → $M_d=kY-jr$, pues se asume que la tasa de interés nominal es igual a la real $i=r$\n",
    "\n",
    "Entonces, la igualdad de la demanda y la oferta de dinero resulta:\n",
    "\n",
    "$$ \\frac{M^s_0}{P_0}=kY-jr$$\n",
    "\n",
    "Se realizan ciertas operaciones algebraicas:\n",
    "\n",
    "$$ kY-\\frac{M^s_0}{P_0}=jr $$\n",
    "\n",
    "$$ \\frac{kY}{j} - \\frac{M^s_0}{P_0j}=r $$\n",
    "\n",
    "Entonces, la curva LM se da en función de la tasa de interés $r$:\n",
    " \n",
    "$$ r = - \\frac{1}{j}\\frac{M^s_0}{P_0}  + \\frac{k}{j}Y $$\n",
    "\n",
    "Siendo, -$\\frac{1}{j}\\frac{M^s_0}{P_0}$ el intercepto y $\\frac{k}{j} $ la pendiente\n",
    "\n",
    "Para encontrar el nivel de Ingresos de equilibrio ($Y^e$)  y la tasa de interés de equilibrio ($r^e$) se puede hacer por cualquiera de los tres métodos: reducción, igualación o sustitución.\n",
    "\n",
    "Se igualan las curvas IS y LM:\n",
    "\n",
    "$$-\\frac{1}{j}\\frac{M^s_0}{P_0}+\\frac{k}{j}Y=\\frac{B_0}{h} - \\frac{B_1}{h}Y$$\n",
    "\n",
    "Resultando:\n",
    "\n",
    "- Ingreso de equilibrio ($Y^e$)\n",
    "\n",
    "$$Y^e=\\frac{jB_0}{kh+jB_1}+(\\frac{h}{kh+jB_1})\\frac{M^s_0}{P_0}$$\n",
    "\n",
    "- Tasa de interés de equilibrio ($r^e$)\n",
    "\n",
    "$$r^e=\\frac{kB_0}{kh+jB_1}+(\\frac{B_1}{kh+jB_1})\\frac{M^s_0}{P_0}$$\n",
    "\n",
    "Estas 2 ecuaciones representan el modelo IS-LM"
   ]
  },
  {
   "cell_type": "markdown",
   "id": "08c6f4d6",
   "metadata": {},
   "source": [
    "2) Grafique el equilibrio simultáneo en los mercados de bienes y de dinero."
   ]
  },
  {
   "cell_type": "code",
   "execution_count": 2,
   "id": "1a7c1480",
   "metadata": {},
   "outputs": [],
   "source": [
    "# Curva IS\n",
    "\n",
    "# Parámetros\n",
    "\n",
    "Y_size = 100 \n",
    "\n",
    "Co = 35\n",
    "Io = 40\n",
    "Go = 50\n",
    "Xo = 2\n",
    "h = 0.8\n",
    "b = 0.5\n",
    "m = 0.4\n",
    "t = 0.8\n",
    "\n",
    "Y = np.arange(Y_size)\n",
    "\n",
    "\n",
    "# Ecuación \n",
    "def r_IS(b, m, t, Co, Io, Go, Xo, h, Y):\n",
    "    r_IS = (Co + Io + Go + Xo)/h - ( ( 1-(b-m)*(1-t) ) / h)*Y  \n",
    "    return r_IS\n",
    "\n",
    "r_is = r_IS(b, m, t, Co, Io, Go, Xo, h, Y)\n",
    "\n",
    "\n",
    "#--------------------------------------------------\n",
    "    # Curva LM \n",
    "\n",
    "# Parámetros\n",
    "\n",
    "Y_size = 100\n",
    "\n",
    "k = 2\n",
    "j = 1                \n",
    "Ms = 200             \n",
    "P  = 20               \n",
    "\n",
    "Y = np.arange(Y_size)\n",
    "\n",
    "# Ecuación\n",
    "def r_LM(k, j, Ms, P, Y):\n",
    "    r_LM = - (1/j)*(Ms/P) + (k/j)*Y\n",
    "    return r_LM\n",
    "\n",
    "r_lm = r_LM( k, j, Ms, P, Y)"
   ]
  },
  {
   "cell_type": "code",
   "execution_count": 3,
   "id": "bc3ef663",
   "metadata": {},
   "outputs": [
    {
     "data": {
      "image/png": "[encoded data removed]",
      "text/plain": [
       "<Figure size 720x576 with 1 Axes>"
      ]
     },
     "metadata": {},
     "output_type": "display_data"
    }
   ],
   "source": [
    "# Gráfico del modelo IS-LM\n",
    "\n",
    "# Dimensiones del gráfico\n",
    "y_max = np.max(r_lm)\n",
    "fig, ax = plt.subplots(figsize=(10, 8))\n",
    "\n",
    "# Curvas a graficar\n",
    "# Curva IS\n",
    "ax.plot(Y, r_is, label = \"IS\", color = \"#ffb3ff\") #IS\n",
    "# Curva LM\n",
    "ax.plot(Y, r_lm, label=\"LM\", color = \"#ccccff\")  #LM\n",
    "\n",
    "# Eliminar las cantidades de los ejes\n",
    "ax.yaxis.set_major_locator(plt.NullLocator())   \n",
    "ax.xaxis.set_major_locator(plt.NullLocator())\n",
    "\n",
    "# Texto y figuras agregadas\n",
    "# Graficar la linea horizontal - r\n",
    "plt.axvline(x=52.3,  ymin= 0, ymax= 0.522, linestyle = \":\", color = \"purple\")\n",
    "# Graficar la linea vertical - Y\n",
    "plt.axhline(y=94, xmin= 0, xmax= 0.522, linestyle = \":\", color = \"purple\")\n",
    "\n",
    "# Plotear los textos \n",
    "plt.text(51,102, '$E_0$', fontsize = 14, color = 'black')\n",
    "plt.text(0,100, '$r_0$', fontsize = 12, color = 'black')\n",
    "plt.text(53,-10, '$Y_0$', fontsize = 12, color = 'black')\n",
    "plt.text(49,130, '$I$', fontsize = 14, color = 'blue')\n",
    "plt.text(75,82, '$II$', fontsize = 14, color = 'blue')\n",
    "plt.text(48.5,40, '$III$', fontsize = 14, color = 'blue')\n",
    "plt.text(25,82, '$IV$', fontsize = 14, color = 'blue')\n",
    "\n",
    "# Título, ejes y leyenda\n",
    "ax.set(title=\"Equilibrio simultáneo en los mercados de bienes y dinero\", xlabel='Y', ylabel='r')\n",
    "ax.legend()\n",
    "\n",
    "plt.show()"
   ]
  },
  {
   "cell_type": "markdown",
   "id": "d15df110",
   "metadata": {},
   "source": [
    "### Estática comparativa."
   ]
  },
  {
   "cell_type": "markdown",
   "id": "e1028ebe",
   "metadata": {},
   "source": [
    "1) Analice los efectos sobre las variables endógenas Y, r de una disminución del gasto fiscal $(ΔG_0<0)$ . El análisis debe ser intuitivo, matemático y gráfico."
   ]
  },
  {
   "cell_type": "markdown",
   "id": "d4fa14a9",
   "metadata": {},
   "source": [
    "###### Análisis intuitivo\n",
    "- Mercado de Bienes\n",
    "$$ G_0↓ → DA↓ → DA<Y → Y↓$$\n",
    "- Mercado de dinero\n",
    "$$ Y↓ → Md↓ → Md<Ms → r↓$$"
   ]
  },
  {
   "cell_type": "markdown",
   "id": "3a21d635",
   "metadata": {},
   "source": [
    "###### Análisis matemático"
   ]
  },
  {
   "cell_type": "code",
   "execution_count": 4,
   "id": "5735fa6c",
   "metadata": {},
   "outputs": [],
   "source": [
    "# Beta_0 y beta_1\n",
    "beta_0 = (Co + Io + Go + Xo)\n",
    "beta_1 = ( 1-(b-m)*(1-t) )\n",
    "\n",
    "# Producto de equilibrio y la tasa de interes de equilibrio en el modelo IS-LM\n",
    "r_eq = (k*beta_0)/(k*h + j*beta_1) - ( beta_1 / (k*h + j*beta_1) )*(Ms/P)\n",
    "Y_eq = (j*beta_0)/(k*h + j*beta_1) + ( h / (k*h + j*beta_1) )*(Ms/P)"
   ]
  },
  {
   "cell_type": "code",
   "execution_count": 5,
   "id": "a2fbebd3",
   "metadata": {},
   "outputs": [],
   "source": [
    "# nombrar variables como símbolos\n",
    "Co, Io, Go, Xo, h, r, b, m, t, beta_0, beta_1  = symbols('Co Io Go Xo h r b m t beta_0, beta_1')\n",
    "\n",
    "# nombrar variables como símbolos\n",
    "k, j, Ms, P, Y = symbols('k j Ms P Y')\n",
    "\n",
    "# Beta_0 y beta_1\n",
    "beta_0 = (Co + Io + Go + Xo)\n",
    "beta_1 = ( 1-(b-m)*(1-t) )\n",
    "\n",
    "# Producto de equilibrio y la tasa de interes de equilibrio en el modelo IS-LM\n",
    "r_eq = (k*beta_0)/(k*h + j*beta_1) - ( beta_1 / (k*h + j*beta_1) )*(Ms/P)\n",
    "Y_eq = (j*beta_0)/(k*h + j*beta_1) + ( h / (k*h + j*beta_1) )*(Ms/P)"
   ]
  },
  {
   "cell_type": "code",
   "execution_count": 6,
   "id": "c3e92de4",
   "metadata": {},
   "outputs": [
    {
     "name": "stdout",
     "output_type": "stream",
     "text": [
      "El Diferencial del Producto con respecto al diferencial del gasto autónomo =  j/(h*k + j*(-(1 - t)*(b - m) + 1))\n"
     ]
    }
   ],
   "source": [
    "df_Y_eq_Go = diff(Y_eq, Go)\n",
    "print(\"El Diferencial del Producto con respecto al diferencial del gasto autónomo = \", df_Y_eq_Go)  # este diferencial es positivo"
   ]
  },
  {
   "cell_type": "code",
   "execution_count": 7,
   "id": "32ea68b2",
   "metadata": {},
   "outputs": [
    {
     "name": "stdout",
     "output_type": "stream",
     "text": [
      "El Diferencial de la tasa de interés con respecto al diferencial del gasto autónomo =  k/(h*k + j*(-(1 - t)*(b - m) + 1))\n"
     ]
    }
   ],
   "source": [
    "df_r_eq_Go = diff(r_eq, Go)\n",
    "print(\"El Diferencial de la tasa de interés con respecto al diferencial del gasto autónomo = \", df_r_eq_Go)  # este diferencial es positivo"
   ]
  },
  {
   "cell_type": "markdown",
   "id": "c5abf2d1",
   "metadata": {},
   "source": [
    "El Diferencial de la tasa de interés con respecto al diferencial del gasto autónomo =  k/(h*k + j*(-(1 - t)*(b - m) + 1))\n"
   ]
  },
  {
   "cell_type": "markdown",
   "id": "4641fad3",
   "metadata": {},
   "source": [
    "- Cambios en el producto:\n",
    "$$ΔY_e= \\frac{j}{kh+jB_1}ΔG_0<0 → Y (-)$$\n",
    "\n",
    "$$ΔY_e= (+)(-) < 0 →(-)$$\n",
    "\n",
    "- Cambios en la tasa de interés:\n",
    "$$Δr_e= \\frac{k}{kh+jB_1}ΔG_0 < 0$$\n",
    "\n",
    "$$Δr_e= (+)(-) < 0 →(-)$$"
   ]
  },
  {
   "cell_type": "markdown",
   "id": "8661ed19",
   "metadata": {},
   "source": [
    "###### Gráfico"
   ]
  },
  {
   "cell_type": "code",
   "execution_count": 8,
   "id": "4f571bbf",
   "metadata": {},
   "outputs": [],
   "source": [
    "#1--------------------------------------------------\n",
    "    # Curva IS ORIGINAL\n",
    "\n",
    "# Parámetros\n",
    "\n",
    "Y_size = 100 \n",
    "\n",
    "Co = 35\n",
    "Io = 40\n",
    "Go = 79\n",
    "Xo = 2\n",
    "h = 0.8\n",
    "b = 0.5\n",
    "m = 0.4\n",
    "t = 0.8\n",
    "\n",
    "Y = np.arange(Y_size)\n",
    "\n",
    "\n",
    "# Ecuación \n",
    "def r_IS(b, m, t, Co, Io, Go, Xo, h, Y):\n",
    "    r_IS = (Co + Io + Go + Xo - Y * (1-(b-m)*(1-t)))/h\n",
    "    return r_IS\n",
    "\n",
    "r = r_IS(b, m, t, Co, Io, Go, Xo, h, Y)\n",
    "\n",
    "\n",
    "#2--------------------------------------------------\n",
    "    # Curva LM ORIGINAL\n",
    "\n",
    "# Parámetros\n",
    "\n",
    "Y_size = 100\n",
    "\n",
    "k = 2\n",
    "j = 1                \n",
    "Ms = 200 \n",
    "P  = 20               \n",
    "\n",
    "Y = np.arange(Y_size)\n",
    "\n",
    "# Ecuación\n",
    "\n",
    "def i_LM( k, j, Ms, P, Y):\n",
    "    i_LM = (-Ms/P)/j + k/j*Y\n",
    "    return i_LM\n",
    "\n",
    "i = i_LM( k, j, Ms, P, Y)"
   ]
  },
  {
   "cell_type": "code",
   "execution_count": 9,
   "id": "6a29aef4",
   "metadata": {},
   "outputs": [],
   "source": [
    "#--------------------------------------------------\n",
    "    # NUEVA curva IS: reducción Gasto de Gobienro (Go)\n",
    "    \n",
    "# Definir SOLO el parámetro cambiado\n",
    "Go = 50\n",
    "\n",
    "# Generar la ecuación con el nuevo parámetro\n",
    "def r_IS(b, m, t, Co, Io, Go, Xo, h, Y):\n",
    "    r_IS = (Co + Io + Go + Xo - Y * (1-(b-m)*(1-t)))/h\n",
    "    return r_IS\n",
    "\n",
    "r_G = r_IS(b, m, t, Co, Io, Go, Xo, h, Y)"
   ]
  },
  {
   "cell_type": "code",
   "execution_count": 10,
   "id": "c946e2ee",
   "metadata": {},
   "outputs": [
    {
     "data": {
      "image/png": "[encoded data removed]",
      "text/plain": [
       "<Figure size 720x576 with 1 Axes>"
      ]
     },
     "metadata": {
      "needs_background": "light"
     },
     "output_type": "display_data"
    }
   ],
   "source": [
    "# Gráfico\n",
    "\n",
    "# Dimensiones del gráfico\n",
    "y_max = np.max(i)\n",
    "fig, ax = plt.subplots(figsize=(10, 8))\n",
    "\n",
    "# Curvas a graficar\n",
    "ax.plot(Y, r, label = \"IS_(G_0)\", color = \"#00008b\") #IS_orginal\n",
    "ax.plot(Y, r_G, label = \"IS_(G_1)\", color = \"#33ccff\", linestyle = 'dashed') #IS_modificada\n",
    "\n",
    "ax.plot(Y, i, label=\"LM\", color = \"#9370db\")  #LM_original\n",
    "\n",
    "# Texto y figuras agregadas\n",
    "plt.axvline(x=52.3,  ymin= 0, ymax= 0.505, linestyle = \":\", color = \"#ffb6c1\")\n",
    "plt.axhline(y=94.6, xmin= 0, xmax= 0.526, linestyle = \":\", color = \"#ffb6c1\")\n",
    "plt.axvline(x=63.5,  ymin= 0, ymax= 0.605, linestyle = \":\", color = \"#ffb6c1\")\n",
    "plt.axhline(y=117, xmin= 0, xmax= 0.625, linestyle = \":\", color = \"#ffb6c1\")\n",
    "\n",
    "#Títulos de las variables\n",
    "plt.text(49,100, '$E_1$', fontsize = 14, color = 'black')\n",
    "plt.text(61,122, '$E_0$', fontsize = 14, color = 'black')\n",
    "plt.text(-1,120, '$r_0$', fontsize = 13, color = 'black')\n",
    "plt.text(-1,98, '$r_1$', fontsize = 13, color = 'black')\n",
    "plt.text(65,12, '$Y_0$', fontsize = 13, color = 'black')\n",
    "plt.text(54,12, '$Y_1$', fontsize = 13, color = 'black')\n",
    "plt.text(69, 84, '$ΔG_0$', fontsize=15, color='blue')\n",
    "#Flechas\n",
    "plt.text(70, 78, '←', fontsize=15, color='blue')\n",
    "plt.text(56, 35, '←', fontsize=15, color='blue')\n",
    "plt.text(4, 104, '↓', fontsize=15, color='blue')\n",
    "\n",
    "# Título, ejes y leyenda\n",
    "ax.set(title=\"Efectos de la disminución del Gasto Autónomo($G_0<0$)\", xlabel='Y', ylabel='r')\n",
    "ax.legend()\n",
    "\n",
    "plt.show()"
   ]
  },
  {
   "cell_type": "markdown",
   "id": "d37ee1c8",
   "metadata": {},
   "source": [
    "2) Analice los efectos sobre las variables endógenas Y, r de una disminución de la masa monetaria $(ΔM^s<0)$ . El análisis debe ser intuitivo, matemático y gráfico."
   ]
  },
  {
   "cell_type": "markdown",
   "id": "b6ab92dc",
   "metadata": {},
   "source": [
    "###### Análisis intuitivo\n",
    "- Mercado de dinero\n",
    "$$ M^s_0↓ → M^s<M^d → r↑ $$\n",
    "- Mercado de bienes\n",
    "$$ r↑ → I↓ → DA↓ → DA<Y → Y↓ $$"
   ]
  },
  {
   "cell_type": "code",
   "execution_count": 11,
   "id": "43af343a",
   "metadata": {},
   "outputs": [],
   "source": [
    "# nombrar variables como símbolos\n",
    "Co, Io, Go, Xo, h, r, b, m, t, beta_0, beta_1  = symbols('Co Io Go Xo h r b m t beta_0, beta_1')\n",
    "\n",
    "# nombrar variables como símbolos\n",
    "k, j, Ms, P, Y = symbols('k j Ms P Y')\n",
    "\n",
    "# Beta_0 y beta_1\n",
    "beta_0 = (Co + Io + Go + Xo)\n",
    "beta_1 = ( 1-(b-m)*(1-t) )\n",
    "\n",
    "# Producto de equilibrio y la tasa de interes de equilibrio en el modelo IS-LM\n",
    "r_eq = (k*beta_0)/(k*h + j*beta_1) - ( beta_1 / (k*h + j*beta_1) )*(Ms/P)\n",
    "Y_eq = (j*beta_0)/(k*h + j*beta_1) + ( h / (k*h + j*beta_1) )*(Ms/P)"
   ]
  },
  {
   "cell_type": "code",
   "execution_count": 12,
   "id": "cb05c93c",
   "metadata": {},
   "outputs": [
    {
     "name": "stdout",
     "output_type": "stream",
     "text": [
      "El Diferencial de la tasa de interés con respecto al diferencial de la masa monetaria =  -(-(1 - t)*(b - m) + 1)/(P*(h*k + j*(-(1 - t)*(b - m) + 1)))\n"
     ]
    }
   ],
   "source": [
    "df_r_eq_Ms = diff(r_eq, Ms)\n",
    "print(\"El Diferencial de la tasa de interés con respecto al diferencial de la masa monetaria = \", df_r_eq_Ms)  # este diferencial es positivo"
   ]
  },
  {
   "cell_type": "code",
   "execution_count": 13,
   "id": "ef9dc78d",
   "metadata": {},
   "outputs": [
    {
     "name": "stdout",
     "output_type": "stream",
     "text": [
      "El Diferencial del producto con respecto al diferencial de la masa monetaria =  h/(P*(h*k + j*(-(1 - t)*(b - m) + 1)))\n"
     ]
    }
   ],
   "source": [
    "df_Y_eq_Ms = diff(Y_eq, Ms)\n",
    "print(\"El Diferencial del producto con respecto al diferencial de la masa monetaria = \", df_Y_eq_Ms)  # este diferencial es positivo"
   ]
  },
  {
   "cell_type": "markdown",
   "id": "a9a85ac7",
   "metadata": {},
   "source": [
    "- Cambios en la tasa de interés de equilibrio:\n",
    "\n",
    "$$Δr_e= -\\frac{B_1}{kh+jB_1}\\frac{1}{P}ΔM^s_0 >0$$\n",
    "\n",
    "$$Δr_e= (-)(+)(+)(-) > 0 →(+)$$\n",
    "\n",
    "- Cambios en el ingreso de equilibrio:\n",
    "\n",
    "$$\\fracΔY_e= \\frac{h}{kh+jB_1}\\frac{1}{P}ΔM^s_0 < 0$$\n",
    "\n",
    "$$\\frac{ΔY_e}{ΔM^s_0}= (+)(+)(-) < 0 →(-)$$\n"
   ]
  },
  {
   "cell_type": "code",
   "execution_count": 14,
   "id": "bfaf8bd1",
   "metadata": {},
   "outputs": [],
   "source": [
    "#1--------------------------------------------------\n",
    "    # Curva IS ORIGINAL\n",
    "\n",
    "# Parámetros\n",
    "\n",
    "Y_size = 100 \n",
    "\n",
    "Co = 35\n",
    "Io = 40\n",
    "Go = 50\n",
    "Xo = 2\n",
    "h = 0.8\n",
    "b = 0.5\n",
    "m = 0.4\n",
    "t = 0.8\n",
    "\n",
    "Y = np.arange(Y_size)\n",
    "\n",
    "\n",
    "# Ecuación \n",
    "def r_IS(b, m, t, Co, Io, Go, Xo, h, Y):\n",
    "    r_IS = (Co + Io + Go + Xo - Y * (1-(b-m)*(1-t)))/h\n",
    "    return r_IS\n",
    "\n",
    "r = r_IS(b, m, t, Co, Io, Go, Xo, h, Y)\n",
    "\n",
    "\n",
    "#2--------------------------------------------------\n",
    "    # Curva LM ORIGINAL\n",
    "\n",
    "# Parámetros\n",
    "\n",
    "Y_size = 100\n",
    "\n",
    "k = 2\n",
    "j = 1                \n",
    "Ms = 700             \n",
    "P  = 20               \n",
    "\n",
    "Y = np.arange(Y_size)\n",
    "\n",
    "# Ecuación\n",
    "\n",
    "def i_LM( k, j, Ms, P, Y):\n",
    "    i_LM = (-Ms/P)/j + k/j*Y\n",
    "    return i_LM\n",
    "\n",
    "i = i_LM( k, j, Ms, P, Y)"
   ]
  },
  {
   "cell_type": "code",
   "execution_count": 15,
   "id": "1b0b46df",
   "metadata": {},
   "outputs": [],
   "source": [
    "# Definir SOLO el parámetro cambiado, en este caso, disminuye la masa monetaria\n",
    "Ms = 200\n",
    "\n",
    "# Generar nueva curva LM con la variacion del Ms\n",
    "def i_LM_Ms( k, j, Ms, P, Y):\n",
    "    i_LM = (-Ms/P)/j + k/j*Y\n",
    "    return i_LM\n",
    "\n",
    "i_Ms = i_LM_Ms( k, j, Ms, P, Y)"
   ]
  },
  {
   "cell_type": "code",
   "execution_count": 16,
   "id": "6653df46",
   "metadata": {},
   "outputs": [
    {
     "data": {
      "image/png": "[encoded data removed]",
      "text/plain": [
       "<Figure size 720x576 with 1 Axes>"
      ]
     },
     "metadata": {
      "needs_background": "light"
     },
     "output_type": "display_data"
    }
   ],
   "source": [
    "# Gráfico\n",
    "\n",
    "# Dimensiones del gráfico\n",
    "y_max = np.max(i)\n",
    "fig, ax = plt.subplots(figsize=(10, 8))\n",
    "\n",
    "# Curvas a graficar\n",
    "ax.plot(Y, r, label = \"IS\", color = \"#990099\") #IS_orginal\n",
    "ax.plot(Y, i, label=\"LM_(MS_0)\", color = \"#00cc66\")  #LM_original\n",
    "\n",
    "ax.plot(Y, i_Ms, label=\"LM_(MS_1)\", color = \"#80b8f0\", linestyle = 'dashed')  #LM_modificada\n",
    "\n",
    "# Lineas de equilibrio_1 \n",
    "plt.axvline(x=52.3,  ymin= 0, ymax= 0.57, linestyle = \":\", color = \"grey\")\n",
    "plt.axhline(y=94.3, xmin= 0, xmax= 0.52, linestyle = \":\", color = \"grey\")\n",
    "\n",
    "# Lineas de equilibrio_0 \n",
    "plt.axvline(x=60,  ymin= 0, ymax= 0.53, linestyle = \":\", color = \"grey\")\n",
    "plt.axhline(y=84.7, xmin= 0, xmax= 0.59, linestyle = \":\", color = \"grey\")\n",
    "\n",
    "# Textos ploteados\n",
    "plt.text(64,83, '$E_0$', fontsize = 14, color = 'black')\n",
    "plt.text(-1,72, '$r_0$', fontsize = 12, color = 'black')\n",
    "plt.text(61,-40, '$Y_0$', fontsize = 12, color = 'black')\n",
    "plt.text(49,100, '$E_1$', fontsize = 14, color = 'black')\n",
    "plt.text(-1,100, '$r_1$', fontsize = 12, color = 'black')\n",
    "plt.text(48,-40, '$Y_1$', fontsize = 12, color = 'black')\n",
    "plt.text(69, 120, '$ΔM^s_0$', fontsize=13, color='blue')\n",
    "#Flechas\n",
    "plt.text(70, 115, '←', fontsize=13, color='blue')\n",
    "plt.text(55, 35, '←', fontsize=15, color='blue')\n",
    "plt.text(4, 86, '↓', fontsize=15, color='blue')\n",
    "\n",
    "# Título, ejes y leyenda\n",
    "ax.set(title=\"Efectos de una Reducción de la Masa Monetaria ($M^s_0<0$)\", xlabel='Y', ylabel='r')\n",
    "ax.legend()\n",
    "\n",
    "plt.show()"
   ]
  },
  {
   "cell_type": "markdown",
   "id": "5702d1a4",
   "metadata": {},
   "source": [
    "3) Analice los efectos sobre las variables endógenas Y, r de un incremento de la tasa de impuestos $(Δt>0)$ . El análisis debe ser intuitivo, matemático y gráfico."
   ]
  },
  {
   "cell_type": "markdown",
   "id": "ccb545e1",
   "metadata": {},
   "source": [
    "Análisis intuitivo\n",
    "- Mercado de bienes\n",
    "$$ t↑ → DA↓ → DA<Y → Y↓ $$\n",
    "- Mercado de dinero\n",
    "$$ Y↓ → M^d<M^s → r↓ $$"
   ]
  },
  {
   "cell_type": "markdown",
   "id": "d0e355fd",
   "metadata": {},
   "source": [
    "Análisis matemático"
   ]
  },
  {
   "cell_type": "code",
   "execution_count": 17,
   "id": "dd77c50d",
   "metadata": {},
   "outputs": [],
   "source": [
    "# nombrar variables como símbolos\n",
    "Co, Io, Go, Xo, h, r, b, m, t, beta_0, beta_1  = symbols('Co Io Go Xo h r b m t beta_0, beta_1')\n",
    "\n",
    "# nombrar variables como símbolos\n",
    "k, j, Ms, P, Y = symbols('k j Ms P Y')\n",
    "\n",
    "# Beta_0 y beta_1\n",
    "beta_0 = (Co + Io + Go + Xo)\n",
    "beta_1 = ( 1-(b-m)*(1-t) )\n",
    "\n",
    "# Producto de equilibrio y la tasa de interes de equilibrio en el modelo IS-LM\n",
    "r_eq = (k*beta_0)/(k*h + j*beta_1) - ( beta_1 / (k*h + j*beta_1) )*(Ms/P)\n",
    "Y_eq = (j*beta_0)/(k*h + j*beta_1) + ( h / (k*h + j*beta_1) )*(Ms/P)"
   ]
  },
  {
   "cell_type": "code",
   "execution_count": 18,
   "id": "b4ca16ee",
   "metadata": {},
   "outputs": [
    {
     "name": "stdout",
     "output_type": "stream",
     "text": [
      "El Diferencial de la tasa de interés con respecto al diferencial de la tasa impositiva =  Ms*j*(b - m)*(-(1 - t)*(b - m) + 1)/(P*(h*k + j*(-(1 - t)*(b - m) + 1))**2) - Ms*(b - m)/(P*(h*k + j*(-(1 - t)*(b - m) + 1))) - j*k*(b - m)*(Co + Go + Io + Xo)/(h*k + j*(-(1 - t)*(b - m) + 1))**2\n"
     ]
    }
   ],
   "source": [
    "df_r_eq_t = diff(r_eq, t)\n",
    "print(\"El Diferencial de la tasa de interés con respecto al diferencial de la tasa impositiva = \", df_r_eq_t)  # este diferencial es negativo"
   ]
  },
  {
   "cell_type": "code",
   "execution_count": 19,
   "id": "f932a8b1",
   "metadata": {},
   "outputs": [
    {
     "name": "stdout",
     "output_type": "stream",
     "text": [
      "El Diferencial del producto con respecto al diferencial de la tasa impositiva =  -Ms*h*j*(b - m)/(P*(h*k + j*(-(1 - t)*(b - m) + 1))**2) - j**2*(b - m)*(Co + Go + Io + Xo)/(h*k + j*(-(1 - t)*(b - m) + 1))**2\n"
     ]
    }
   ],
   "source": [
    "df_Y_eq_t = diff(Y_eq, t)\n",
    "print(\"El Diferencial del producto con respecto al diferencial de la tasa impositiva = \", df_Y_eq_t)  # este diferencial es negativo"
   ]
  },
  {
   "cell_type": "markdown",
   "id": "4b75f2e8",
   "metadata": {},
   "source": [
    "Tanto la tasa de interés como el producto se reducen, por ende su diferencial sería negativo y el diferencial de la tasa impositiva sería positivo ya que aumentó. Esto me dice que los diferenciales que aparecen en el código serían negativos.\n",
    "\n",
    "- Cambios en el la tasa de interés de equilibrio:\n",
    "\n",
    "$$Δr^e/Δt = (-)$$\n",
    "$$Δr^e/(+) = (-)$$\n",
    "$$Δr^e = (-)$$\n",
    "\n",
    "- Cambios en el ingreso de equilibrio:\n",
    "\n",
    "$$ΔY^e/Δt = (-)$$\n",
    "$$ΔY^e/(+) = (-)$$\n",
    "$$ΔY^e = (-)$$"
   ]
  },
  {
   "cell_type": "code",
   "execution_count": 20,
   "id": "23852fcc",
   "metadata": {},
   "outputs": [],
   "source": [
    "#1--------------------------------------------------\n",
    "    # Curva IS ORIGINAL\n",
    "\n",
    "# Parámetros\n",
    "\n",
    "Y_size = 100 \n",
    "\n",
    "Co = 35\n",
    "Io = 40\n",
    "Go = 50\n",
    "Xo = 2\n",
    "h = 0.8\n",
    "b = 0.5\n",
    "m = 0.4\n",
    "t = 0.03\n",
    "\n",
    "Y = np.arange(Y_size)\n",
    "\n",
    "\n",
    "# Ecuación \n",
    "def r_IS(b, m, t, Co, Io, Go, Xo, h, Y):\n",
    "    r_IS= (Co + Io + Go + Xo - Y * (1-(b-m)*(1-t)))/h\n",
    "    return r_IS\n",
    "\n",
    "r = r_IS(b, m, t, Co, Io, Go, Xo, h, Y)\n",
    "\n",
    "\n",
    "#2--------------------------------------------------\n",
    "    # Curva LM ORIGINAL\n",
    "\n",
    "# Parámetros\n",
    "\n",
    "Y_size = 100\n",
    "\n",
    "k = 2\n",
    "j = 1                \n",
    "Ms = 200             \n",
    "P  = 20               \n",
    "\n",
    "Y = np.arange(Y_size)\n",
    "\n",
    "# Ecuación\n",
    "\n",
    "def i_LM( k, j, Ms, P, Y):\n",
    "    i_LM = (-Ms/P)/j + k/j*Y\n",
    "    return i_LM\n",
    "\n",
    "i = i_LM( k, j, Ms, P, Y)"
   ]
  },
  {
   "cell_type": "code",
   "execution_count": 21,
   "id": "c747aefe",
   "metadata": {},
   "outputs": [],
   "source": [
    "#--------------------------------------------------\n",
    "    # NUEVA curva IS: aumento de tasa impositiva (t)\n",
    "    \n",
    "# Definir SOLO el parámetro cambiado\n",
    "t = 0.99\n",
    "\n",
    "# Generar la ecuación con el nuevo parámetro\n",
    "def r_IS(b, m, t, Co, Io, Go, Xo, h, Y):\n",
    "    r_IS= (Co + Io + Go + Xo -Y * (1-(b-m)*(1-t)))/h\n",
    "    return r_IS\n",
    "\n",
    "r_t = r_IS(b, m, t, Co, Io, Go, Xo, h, Y)"
   ]
  },
  {
   "cell_type": "code",
   "execution_count": 22,
   "id": "df5fae8c",
   "metadata": {},
   "outputs": [
    {
     "data": {
      "image/png": "[encoded data removed]",
      "text/plain": [
       "<Figure size 720x576 with 1 Axes>"
      ]
     },
     "metadata": {
      "needs_background": "light"
     },
     "output_type": "display_data"
    }
   ],
   "source": [
    "# Gráfico\n",
    "\n",
    "# Dimensiones del gráfico\n",
    "y_max = np.max(i)\n",
    "fig, ax = plt.subplots(figsize=(10, 8))\n",
    "\n",
    "# Curvas a graficar\n",
    "ax.plot(Y, r, label = \"IS_(t_0)\", color = \"#ff5079\") #IS_orginal\n",
    "ax.plot(Y, r_t, label = \"IS_(t_1)\", color = \"#20b2aa\", linestyle = 'dashed') #IS_modificada\n",
    "\n",
    "ax.plot(Y, i, label=\"LM\", color = \"#3399ff\")  #LM_original\n",
    "\n",
    "# Texto y figuras agregadas\n",
    "plt.axvline(x=52,  ymin= 0, ymax= 0.53, linestyle = \":\", color = \"#808080\")\n",
    "plt.axhline(y=93.5, xmin= 0, xmax= 0.53, linestyle = \":\", color = \"#808080\")\n",
    "plt.axvline(x=54,  ymin= 0, ymax= 0.54, linestyle = \":\", color = \"#808080\")\n",
    "plt.axhline(y=97.5, xmin= 0, xmax= 0.54, linestyle = \":\", color = \"#808080\")\n",
    "\n",
    "#Títulos de las variables\n",
    "plt.text(49,82, '$E_1$', fontsize = 12, color = 'black')\n",
    "plt.text(52,102, '$E_0$', fontsize = 12, color = 'black')\n",
    "plt.text(-1,99, '$r_0$', fontsize = 12, color = 'black')\n",
    "plt.text(-1,88, '$r_1$', fontsize = 12, color = 'black')\n",
    "plt.text(54,10, '$Y_0$', fontsize = 12, color = 'black')\n",
    "plt.text(49,10, '$Y_1$', fontsize = 12, color = 'black')\n",
    "plt.text(83, 58.5, '$Δt$', fontsize=11, color='black')\n",
    "#Flechas\n",
    "plt.text(83, 55, '←', fontsize=12, color='black')\n",
    "plt.text(52, 35, '←', fontsize=12, color='blue')\n",
    "plt.text(4, 94, '↓', fontsize=12, color='blue')\n",
    "\n",
    "# Título, ejes y leyenda\n",
    "ax.set(title=\"Efectos del aumento de la Tasa Impositiva($t>0$)\", xlabel='Y', ylabel='r')\n",
    "ax.legend()\n",
    "\n",
    "plt.show()"
   ]
  },
  {
   "cell_type": "markdown",
   "id": "f2fb17f3",
   "metadata": {},
   "source": [
    "## Código (Tres puntos Extra!)"
   ]
  },
  {
   "attachments": {
    "image.png": {
     "image/png": "[encoded data removed]"
    }
   },
   "cell_type": "markdown",
   "id": "6219e8fd",
   "metadata": {},
   "source": [
    "#### A partir del siguiente sistema de ecuaciones que representan el modelo IS-LM\n",
    "![image.png](attachment:image.png)"
   ]
  },
  {
   "cell_type": "markdown",
   "id": "163cad73",
   "metadata": {},
   "source": [
    "1) Encuentre las ecuaciones de Ingreso $(Y^e)$ y tasa de interes $(r^e)$ de equilibrio(Escriba paso a paso la derivacion de estas ecuaciones)."
   ]
  },
  {
   "cell_type": "markdown",
   "id": "91ca4630",
   "metadata": {},
   "source": [
    "Para obtener la curva IS, se parte de la identidad Ingreso-Costo y se busca llegar al equilibrio ahorro-inversión\n",
    "\n",
    "$$Y=C+I+G$$\n",
    "\n",
    "Para llegar al equilibrio Ahorro-Inversión, se debe restar la tributación ($T$) de ambos miembros de la identidad\n",
    "\n",
    "$$Y-T=C+I+G-T$$\n",
    "\n",
    "Si $Y-T=Y^d$, entonces se reemplazan valores\n",
    "\n",
    "$$Y^d=C+I+G-T$$\n",
    "\n",
    "Para trabajar en base a la inversión, se mueven las variables al otro miembro\n",
    "\n",
    "$$Y^d-C-G+T = I$$\n",
    "\n",
    "Esta igualdad se puede reescribir de la siguiente forma:\n",
    "\n",
    "$$(Y^d-C)+(T-G)=I$$\n",
    "\n",
    "Las 2 partes de la derecha constituyen los componentes del ahorro total($S$) para este sistema: ahorro privado ($Sp=Y^d-C$) y ahorro del gobierno ($Sg=T-G$)\n",
    "\n",
    "$$S=Sp+Sg$$\n",
    "\n",
    "De modo que, el ahorro total ($S$) es igual a la inversión($I$):\n",
    "\n",
    "$$Sp+Sg=I$$\n",
    "\n",
    "$$S(Y)=I(r)$$\n",
    "\n",
    "Haciendo reemplazos se obtiene que:\n",
    "\n",
    "$$Sp+Sg=I_0-hr$$\n",
    "\n",
    "$$(Y^d-C_0-bY^d)+(tY-G_0)=I_0-hr$$\n",
    "\n",
    "Siendo Y^d=(1-t)Y\n",
    "\n",
    "$$ [1 - b(1 - t)]Y - (C_0 + G_0) = I_0 - hr $$\n",
    "\n",
    "Entonces, la curva IS se expresa se expresa de la siguiente manera\n",
    "\n",
    "$$ hr = (C_0 + G_0 + I_0) - [1 - b(1 - t)]Y $$\n",
    "\n",
    "Luego, la sensibilidad de inversión ante la tasa de interés $h$ pasa al otro lado de la ecuación dividiendo todos los componentes y resulta:\n",
    "\n",
    "$$ r = \\frac{1}{h}(C_0 + G_0 + I_0) - \\frac{1 - b(1 - t)}{h}Y $$\n",
    "\n",
    "La ecuación de la curva LM surge de la igualdad entre la oferta de dinero y la demanda de dinero\n",
    "\n",
    "$$\\frac{M^s_0}{P_0}= kj - j(r+π^e)$$\n",
    "\n",
    "$$kY-\\frac{M^s_0}{P_0}= j(r+π^e)$$\n",
    "\n",
    "$$\\frac{kY}{j}-\\frac{M^s_0}{jP_0}= r + π^e $$\n",
    "\n",
    "$$r= -\\frac{1}{j}\\frac{M^s_0}{P_0}+\\frac{k}{j}Y - π^e $$\n",
    "\n",
    "Por tanto, para hallar las ecuaciones de ingreso ($Y^e$) y tasa de interés de equilibrio ($r^e$), se igualan las ecuaciones de las curvas IS y LM\n",
    "\n",
    "$$-\\frac{1}{j}\\frac{M^s_0}{P_0}+\\frac{k}{j}Y - π^e = \\frac{1}{h}(C_0 + G_0 + I_0) - \\frac{1 - b(1 - t)}{h}Y$$\n"
   ]
  },
  {
   "cell_type": "markdown",
   "id": "416e25d4",
   "metadata": {},
   "source": [
    "#### Estática comparativa.\n",
    "1) Analice los efectos sobre las variables endógenas Y, r de una disminución de los Precios $(ΔP_0<0)$. El análisis debe ser intuitivo, matemático y gráfico."
   ]
  },
  {
   "cell_type": "markdown",
   "id": "f54954ec",
   "metadata": {},
   "source": [
    "Análisis intuitivo\n",
    "- Mercado de dinero\n",
    "$$ P_0↓ → M^s<M^d → r↑ $$\n",
    "- Mercado de bienes\n",
    "$$ r↑ → I↓ → DA↓ → DA<Y → Y↓ $$"
   ]
  },
  {
   "cell_type": "markdown",
   "id": "12728ce4",
   "metadata": {},
   "source": [
    "Análisis matemático"
   ]
  },
  {
   "cell_type": "markdown",
   "id": "d49e342c",
   "metadata": {},
   "source": [
    "- Cambios en el ingreso de equilibrio:\n",
    "\n",
    "$$ΔY^e/ΔP_0 = (-)$$\n",
    "$$ΔY^e/(-) = (-)$$\n",
    "$$ΔY^e = (+)$$\n",
    "$$(+)\\frac{+}{-}=(-)$$\n",
    "\n",
    "- Cambios en la tasa de interés de equilibrio:\n",
    "\n",
    "$$Δr^e/ΔP_0 = (+)$$\n",
    "$$Δr^e/(-) = (+)$$\n",
    "$$Δr^e = (-)$$\n",
    "$$(-)(-) = (+)$$"
   ]
  }
 ],
 "metadata": {
  "kernelspec": {
   "display_name": "Python 3 (ipykernel)",
   "language": "python",
   "name": "python3"
  },
  "language_info": {
   "codemirror_mode": {
    "name": "ipython",
    "version": 3
   },
   "file_extension": ".py",
   "mimetype": "text/x-python",
   "name": "python",
   "nbconvert_exporter": "python",
   "pygments_lexer": "ipython3",
   "version": "3.9.12"
  }
 },
 "nbformat": 4,
 "nbformat_minor": 5
}
