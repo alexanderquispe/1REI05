{
 "cells": [
  {
   "cell_type": "code",
   "execution_count": 1,
   "id": "3dd3cc9e",
   "metadata": {},
   "outputs": [],
   "source": [
    "import matplotlib.pyplot as plt\n",
    "import numpy as np\n",
    "import sympy as sy\n",
    "import pandas as pd\n",
    "import numpy as np\n",
    "import random\n",
    "import math\n",
    "import sklearn\n",
    "import scipy as sp\n",
    "import networkx\n",
    "import statsmodels.api as sm\n",
    "import statsmodels.formula.api as smf\n",
    "from statsmodels.iolib.summary2 import summary_col\n",
    "from causalgraphicalmodels import CausalGraphicalModel\n",
    "import ipywidgets as widgets\n",
    "from sympy import *\n",
    "from itertools import combinations\n",
    "import plotnine as p\n",
    "import seaborn as sns\n",
    "import graphviz as gr"
   ]
  },
  {
   "cell_type": "markdown",
   "id": "6e1d5658",
   "metadata": {},
   "source": [
    "# Reporte 7\n",
    "\n",
    "#### Nombre: Valeria Yesquén\n",
    "#### Código: 20202239\n",
    "\n",
    "## Ensayo\n",
    "\n",
    "El artículo trata los efectos que genera en los niños vivir en mejores vecindarios (menos pobres), basándose en datos del experimento MTO (Oportunidad de Mudanza) que tuvo lugar en Estados Unidos y fue promovido por el Departamento de Vivienda y Desarrollo Urbano de EE.UU. En ese sentido, los autores contextualizan la situación, sosteniendo que la data revela que, las personas que viven en zonas de alta pobreza tienen peores resultados económicos, sanitarios y educativos, que aquellos que viven en barrios de menor pobreza. Dentro de ese contexto, el MTO provó generar grandes diferencias en las familias que recibieron el voucher de ayuda económica y se mudaron. Por esa razón, el estudio del artículo se centra en responder acerca de los efectos a largo plazo que generó en los niños que eran pequeños cuando sus familias se mudaron. De esa manera, tratan de demostrar que existen mejores resultados o efectos cuando la exposición a mejores barrios se realiza desde una edad más temprana.\n",
    "\n",
    "Asimismo, esta investigación, como se mencionó, se realizó en base al proyecto MTO. En consecuencia, la principal ventaja que proporcionó el trabajar en base dicho tratamiento brindó la garantía de estar trabajando con data \"limpia\" y confiable. Esto porque, los mismos autores reconocen, la asignación aleatoria permitió que la heterogeneidad que los datos podrían tener (en tema de género, raza y lugar de residencia/nacimiento), no afectara los resultados y efectos del tratamiento. En ese sentido, esta es la principal fortaleza de la investigación, trabajar con una data que garantiza que la heterogeneidad de las personas no sea un factor perjudicial para la posterior visibilización y análisis de los datos. \n",
    "\n",
    "Sin embargo, existen limitaciones, como los mismos autores reconocen. Una de ellas, es el hecho de que el diseño del MTO no permite llegar a conclusiones que establescan una relación causal entre la exposición en la infancia a un entorno mejor y sus resultados de vida a largo plazo, en el aspecto educativo, laboral, sanitario, etc. En consecuencia, tampoco se puede establecer diferencias entre los efectos de la perturbación según la edad en el momento de la mudanza y un posible coste fijo de perturbación por la edad. Además, los autores también reconocen que podrían existir otras variables que estuvieran generando estas diferencias entre los efectos para los niños más jóvenes y los mayores. Una de esa posibilidad es el que los efectos sean distintos, porque las familias que recibieron el bono decidieron mudarse a zonas distintas y es esa varibilidad la que esté generando las diferencias entre los niños según su edad.\n",
    "\n",
    "No obstante, la principal contribución que el artículo realiza a partir del análisis realizado, resulta ser demostrar que efectivamente, los niños que se mudan a vecindarios con menos pobreza antes de los 13 años, paracen percibir mayores beneficios a largo plazo. Esto porque se encuentra que, los niños de dicho grupos son más propensos a ir a la universidad, tener ingresos más altos cuando sean adultos y evitar ser padres solteros. Asimismo, se concluye que la movilidad y la exposición a un mejor vecindario no tiene tanto impacto en el caso de los adultos, pero sí en los niños, lo cual ayudará en su vida adulta. De igual forma, el estudio prueba que ofrecerles a las familias de bajos ingresos bonos para que se muden a áreas de menor pobreza, tiene beneficios tanto para las familias como para los pagadores de impuestos. Esto porque, al generar mayores ingresos, las familias son capaces de aumentar su contribución tributaria también. Por últimos, se demuestra que el integrar a familias pobres a comunidades de ingreso mixto, probablemente reducirá la pobreza persistente por generaciones. Por esa razón, los autores recomiendan y resaltan la importancia de ayudar a estas familias, especialmente a aquellas con hijos pequeños, para así tener la oportunidad de maximizar los beneficios. \n",
    "\n",
    "Finalmente, esta línea de investigación, que sostiene que la exposición a mejores vecindarios desde una edad temprana, reduce la pobreza y mejora la condición intergeneracional, puede avanzar desde una línea más específica, que se enfoque también, en aspectos específicos como la \"raza\". Por un lado, Chetty y otros (2019) plantean la posibilidad de analizar las diferencias intergeneracionales, respecto a la mobilidad y los beneficios de mudarse a barrios menos pobres desde la infancia, pero sumándo el factor racial. De esa manera, plantean que incluso entre aquellas familias pobres, existen diferencias racial, al momento de analizar factores como los ingresos, la educación, salud, fertilidad y entre otros. En ese sentido, problematizan el hecho de crecer en barrios menos pobres, pues plantean que incluso dentro de las mismas familias que se supondría, están en la \"misma\" condición económica, existen diferencias, movilizadas por el factor racial al momento de hablar de los efectos a largo plazo que generaría el mudarse. Por otro lado, Bailey y otros (2017), también siguen en esta misma línea de enfocarse en las diferencias que se generan en base al factor racial, enfocándose en el sector salud. En este caso, los autores plantea la necesidad de estudiar y reconocer la existencia de una estructura racista, que limita a las familias en varios aspectos, y genera diferencias entre las personas que, en teoría, tendrían la misma condición socioeconómica. De esa manera, exploran y demuestran que existen diferencias en cuanto al acceso de oportunidades y servicios entre las personas, dependiendo de su identificación racial. Asimismo, postulan que el enfoque utilizado: racismo estructural, ofrece un enfoque concreto, factible y prometedor para impulsar la equidad sanitaria y mejorar la salud de la población. \n",
    "\n",
    "##### Referencias bibliográficas:\n",
    "\n",
    "- Bailey, Z. D., Krieger, N., Agénor, M., Graves, J., Linos, N., & Bassett, M. T. (2017). Structural racism and health inequities in the USA: evidence and interventions. The lancet, 389(10077), 1453-1463.\n",
    "\n",
    "- Chetty, R., Hendren, N., Jones, M. R., & Porter, S. R. (2020). Race and economic opportunity in the United States: An intergenerational perspective. The Quarterly Journal of Economics, 135(2), 711-783."
   ]
  },
  {
   "cell_type": "markdown",
   "id": "bf7aeb19",
   "metadata": {},
   "source": [
    "## Código\n",
    "### Ploteo de Histogramas"
   ]
  },
  {
   "cell_type": "code",
   "execution_count": 2,
   "id": "f72a004e",
   "metadata": {},
   "outputs": [
    {
     "name": "stdout",
     "output_type": "stream",
     "text": [
      "(323, 10)\n"
     ]
    },
    {
     "data": {
      "text/html": [
       "<div>\n",
       "<style scoped>\n",
       "    .dataframe tbody tr th:only-of-type {\n",
       "        vertical-align: middle;\n",
       "    }\n",
       "\n",
       "    .dataframe tbody tr th {\n",
       "        vertical-align: top;\n",
       "    }\n",
       "\n",
       "    .dataframe thead th {\n",
       "        text-align: right;\n",
       "    }\n",
       "</style>\n",
       "<table border=\"1\" class=\"dataframe\">\n",
       "  <thead>\n",
       "    <tr style=\"text-align: right;\">\n",
       "      <th></th>\n",
       "      <th>gender</th>\n",
       "      <th>asian</th>\n",
       "      <th>black</th>\n",
       "      <th>hawaiian</th>\n",
       "      <th>hispanic</th>\n",
       "      <th>unknown</th>\n",
       "      <th>white</th>\n",
       "      <th>format_ol</th>\n",
       "      <th>format_blended</th>\n",
       "      <th>falsexam</th>\n",
       "    </tr>\n",
       "  </thead>\n",
       "  <tbody>\n",
       "    <tr>\n",
       "      <th>0</th>\n",
       "      <td>0</td>\n",
       "      <td>0.0</td>\n",
       "      <td>0.0</td>\n",
       "      <td>0.0</td>\n",
       "      <td>0.0</td>\n",
       "      <td>0.0</td>\n",
       "      <td>1.0</td>\n",
       "      <td>0</td>\n",
       "      <td>0.0</td>\n",
       "      <td>63.29997</td>\n",
       "    </tr>\n",
       "    <tr>\n",
       "      <th>1</th>\n",
       "      <td>1</td>\n",
       "      <td>0.0</td>\n",
       "      <td>0.0</td>\n",
       "      <td>0.0</td>\n",
       "      <td>0.0</td>\n",
       "      <td>0.0</td>\n",
       "      <td>1.0</td>\n",
       "      <td>0</td>\n",
       "      <td>0.0</td>\n",
       "      <td>79.96000</td>\n",
       "    </tr>\n",
       "    <tr>\n",
       "      <th>2</th>\n",
       "      <td>1</td>\n",
       "      <td>0.0</td>\n",
       "      <td>0.0</td>\n",
       "      <td>0.0</td>\n",
       "      <td>0.0</td>\n",
       "      <td>0.0</td>\n",
       "      <td>1.0</td>\n",
       "      <td>0</td>\n",
       "      <td>1.0</td>\n",
       "      <td>83.37000</td>\n",
       "    </tr>\n",
       "    <tr>\n",
       "      <th>3</th>\n",
       "      <td>1</td>\n",
       "      <td>0.0</td>\n",
       "      <td>0.0</td>\n",
       "      <td>0.0</td>\n",
       "      <td>0.0</td>\n",
       "      <td>0.0</td>\n",
       "      <td>1.0</td>\n",
       "      <td>0</td>\n",
       "      <td>1.0</td>\n",
       "      <td>90.01994</td>\n",
       "    </tr>\n",
       "    <tr>\n",
       "      <th>4</th>\n",
       "      <td>1</td>\n",
       "      <td>0.0</td>\n",
       "      <td>0.0</td>\n",
       "      <td>0.0</td>\n",
       "      <td>0.0</td>\n",
       "      <td>0.0</td>\n",
       "      <td>1.0</td>\n",
       "      <td>1</td>\n",
       "      <td>0.0</td>\n",
       "      <td>83.30000</td>\n",
       "    </tr>\n",
       "  </tbody>\n",
       "</table>\n",
       "</div>"
      ],
      "text/plain": [
       "   gender  asian  black  hawaiian  hispanic  unknown  white  format_ol  \\\n",
       "0       0    0.0    0.0       0.0       0.0      0.0    1.0          0   \n",
       "1       1    0.0    0.0       0.0       0.0      0.0    1.0          0   \n",
       "2       1    0.0    0.0       0.0       0.0      0.0    1.0          0   \n",
       "3       1    0.0    0.0       0.0       0.0      0.0    1.0          0   \n",
       "4       1    0.0    0.0       0.0       0.0      0.0    1.0          1   \n",
       "\n",
       "   format_blended  falsexam  \n",
       "0             0.0  63.29997  \n",
       "1             0.0  79.96000  \n",
       "2             1.0  83.37000  \n",
       "3             1.0  90.01994  \n",
       "4             0.0  83.30000  "
      ]
     },
     "execution_count": 2,
     "metadata": {},
     "output_type": "execute_result"
    }
   ],
   "source": [
    "data = pd.read_csv('https://github.com/matheusfacure/python-causality-handbook/raw/master/causal-inference-for-the-brave-and-true/data/online_classroom.csv')\n",
    "print(data.shape)\n",
    "data.head()"
   ]
  },
  {
   "cell_type": "code",
   "execution_count": 3,
   "id": "cab5d1b9",
   "metadata": {},
   "outputs": [],
   "source": [
    "# creado una columna extra para clasificar\n",
    "data_2 = (data\n",
    " .assign(class_format = np.select(\n",
    "     [data[\"format_ol\"].astype(bool), data[\"format_blended\"].astype(bool)],\n",
    "     [\"online\", \"blended\"],\n",
    "     default=\"face_to_face\" #create a new variable\n",
    " ))) #group by the new variable (treatments)"
   ]
  },
  {
   "cell_type": "code",
   "execution_count": 4,
   "id": "cdb9e073",
   "metadata": {},
   "outputs": [
    {
     "data": {
      "text/html": [
       "<div>\n",
       "<style scoped>\n",
       "    .dataframe tbody tr th:only-of-type {\n",
       "        vertical-align: middle;\n",
       "    }\n",
       "\n",
       "    .dataframe tbody tr th {\n",
       "        vertical-align: top;\n",
       "    }\n",
       "\n",
       "    .dataframe thead th {\n",
       "        text-align: right;\n",
       "    }\n",
       "</style>\n",
       "<table border=\"1\" class=\"dataframe\">\n",
       "  <thead>\n",
       "    <tr style=\"text-align: right;\">\n",
       "      <th></th>\n",
       "      <th>gender</th>\n",
       "      <th>asian</th>\n",
       "      <th>black</th>\n",
       "      <th>hawaiian</th>\n",
       "      <th>hispanic</th>\n",
       "      <th>unknown</th>\n",
       "      <th>white</th>\n",
       "      <th>format_ol</th>\n",
       "      <th>format_blended</th>\n",
       "      <th>falsexam</th>\n",
       "      <th>class_format</th>\n",
       "    </tr>\n",
       "  </thead>\n",
       "  <tbody>\n",
       "    <tr>\n",
       "      <th>0</th>\n",
       "      <td>0</td>\n",
       "      <td>0.0</td>\n",
       "      <td>0.0</td>\n",
       "      <td>0.0</td>\n",
       "      <td>0.0</td>\n",
       "      <td>0.0</td>\n",
       "      <td>1.0</td>\n",
       "      <td>0</td>\n",
       "      <td>0.0</td>\n",
       "      <td>63.29997</td>\n",
       "      <td>face_to_face</td>\n",
       "    </tr>\n",
       "    <tr>\n",
       "      <th>1</th>\n",
       "      <td>1</td>\n",
       "      <td>0.0</td>\n",
       "      <td>0.0</td>\n",
       "      <td>0.0</td>\n",
       "      <td>0.0</td>\n",
       "      <td>0.0</td>\n",
       "      <td>1.0</td>\n",
       "      <td>0</td>\n",
       "      <td>0.0</td>\n",
       "      <td>79.96000</td>\n",
       "      <td>face_to_face</td>\n",
       "    </tr>\n",
       "    <tr>\n",
       "      <th>2</th>\n",
       "      <td>1</td>\n",
       "      <td>0.0</td>\n",
       "      <td>0.0</td>\n",
       "      <td>0.0</td>\n",
       "      <td>0.0</td>\n",
       "      <td>0.0</td>\n",
       "      <td>1.0</td>\n",
       "      <td>0</td>\n",
       "      <td>1.0</td>\n",
       "      <td>83.37000</td>\n",
       "      <td>blended</td>\n",
       "    </tr>\n",
       "    <tr>\n",
       "      <th>3</th>\n",
       "      <td>1</td>\n",
       "      <td>0.0</td>\n",
       "      <td>0.0</td>\n",
       "      <td>0.0</td>\n",
       "      <td>0.0</td>\n",
       "      <td>0.0</td>\n",
       "      <td>1.0</td>\n",
       "      <td>0</td>\n",
       "      <td>1.0</td>\n",
       "      <td>90.01994</td>\n",
       "      <td>blended</td>\n",
       "    </tr>\n",
       "    <tr>\n",
       "      <th>4</th>\n",
       "      <td>1</td>\n",
       "      <td>0.0</td>\n",
       "      <td>0.0</td>\n",
       "      <td>0.0</td>\n",
       "      <td>0.0</td>\n",
       "      <td>0.0</td>\n",
       "      <td>1.0</td>\n",
       "      <td>1</td>\n",
       "      <td>0.0</td>\n",
       "      <td>83.30000</td>\n",
       "      <td>online</td>\n",
       "    </tr>\n",
       "    <tr>\n",
       "      <th>...</th>\n",
       "      <td>...</td>\n",
       "      <td>...</td>\n",
       "      <td>...</td>\n",
       "      <td>...</td>\n",
       "      <td>...</td>\n",
       "      <td>...</td>\n",
       "      <td>...</td>\n",
       "      <td>...</td>\n",
       "      <td>...</td>\n",
       "      <td>...</td>\n",
       "      <td>...</td>\n",
       "    </tr>\n",
       "    <tr>\n",
       "      <th>318</th>\n",
       "      <td>0</td>\n",
       "      <td>0.0</td>\n",
       "      <td>0.0</td>\n",
       "      <td>0.0</td>\n",
       "      <td>0.0</td>\n",
       "      <td>0.0</td>\n",
       "      <td>1.0</td>\n",
       "      <td>0</td>\n",
       "      <td>1.0</td>\n",
       "      <td>68.36000</td>\n",
       "      <td>blended</td>\n",
       "    </tr>\n",
       "    <tr>\n",
       "      <th>319</th>\n",
       "      <td>1</td>\n",
       "      <td>NaN</td>\n",
       "      <td>NaN</td>\n",
       "      <td>NaN</td>\n",
       "      <td>NaN</td>\n",
       "      <td>NaN</td>\n",
       "      <td>NaN</td>\n",
       "      <td>1</td>\n",
       "      <td>0.0</td>\n",
       "      <td>70.05000</td>\n",
       "      <td>online</td>\n",
       "    </tr>\n",
       "    <tr>\n",
       "      <th>320</th>\n",
       "      <td>0</td>\n",
       "      <td>NaN</td>\n",
       "      <td>NaN</td>\n",
       "      <td>NaN</td>\n",
       "      <td>NaN</td>\n",
       "      <td>NaN</td>\n",
       "      <td>NaN</td>\n",
       "      <td>1</td>\n",
       "      <td>0.0</td>\n",
       "      <td>66.69000</td>\n",
       "      <td>online</td>\n",
       "    </tr>\n",
       "    <tr>\n",
       "      <th>321</th>\n",
       "      <td>1</td>\n",
       "      <td>NaN</td>\n",
       "      <td>NaN</td>\n",
       "      <td>NaN</td>\n",
       "      <td>NaN</td>\n",
       "      <td>NaN</td>\n",
       "      <td>NaN</td>\n",
       "      <td>1</td>\n",
       "      <td>0.0</td>\n",
       "      <td>83.29997</td>\n",
       "      <td>online</td>\n",
       "    </tr>\n",
       "    <tr>\n",
       "      <th>322</th>\n",
       "      <td>1</td>\n",
       "      <td>0.0</td>\n",
       "      <td>0.0</td>\n",
       "      <td>0.0</td>\n",
       "      <td>0.0</td>\n",
       "      <td>0.0</td>\n",
       "      <td>1.0</td>\n",
       "      <td>0</td>\n",
       "      <td>1.0</td>\n",
       "      <td>96.68000</td>\n",
       "      <td>blended</td>\n",
       "    </tr>\n",
       "  </tbody>\n",
       "</table>\n",
       "<p>323 rows × 11 columns</p>\n",
       "</div>"
      ],
      "text/plain": [
       "     gender  asian  black  hawaiian  hispanic  unknown  white  format_ol  \\\n",
       "0         0    0.0    0.0       0.0       0.0      0.0    1.0          0   \n",
       "1         1    0.0    0.0       0.0       0.0      0.0    1.0          0   \n",
       "2         1    0.0    0.0       0.0       0.0      0.0    1.0          0   \n",
       "3         1    0.0    0.0       0.0       0.0      0.0    1.0          0   \n",
       "4         1    0.0    0.0       0.0       0.0      0.0    1.0          1   \n",
       "..      ...    ...    ...       ...       ...      ...    ...        ...   \n",
       "318       0    0.0    0.0       0.0       0.0      0.0    1.0          0   \n",
       "319       1    NaN    NaN       NaN       NaN      NaN    NaN          1   \n",
       "320       0    NaN    NaN       NaN       NaN      NaN    NaN          1   \n",
       "321       1    NaN    NaN       NaN       NaN      NaN    NaN          1   \n",
       "322       1    0.0    0.0       0.0       0.0      0.0    1.0          0   \n",
       "\n",
       "     format_blended  falsexam  class_format  \n",
       "0               0.0  63.29997  face_to_face  \n",
       "1               0.0  79.96000  face_to_face  \n",
       "2               1.0  83.37000       blended  \n",
       "3               1.0  90.01994       blended  \n",
       "4               0.0  83.30000        online  \n",
       "..              ...       ...           ...  \n",
       "318             1.0  68.36000       blended  \n",
       "319             0.0  70.05000        online  \n",
       "320             0.0  66.69000        online  \n",
       "321             0.0  83.29997        online  \n",
       "322             1.0  96.68000       blended  \n",
       "\n",
       "[323 rows x 11 columns]"
      ]
     },
     "execution_count": 4,
     "metadata": {},
     "output_type": "execute_result"
    }
   ],
   "source": [
    "data_2"
   ]
  },
  {
   "cell_type": "code",
   "execution_count": 5,
   "id": "663e0e34",
   "metadata": {},
   "outputs": [
    {
     "data": {
      "text/plain": [
       "<seaborn.axisgrid.FacetGrid at 0x1dcb11ba070>"
      ]
     },
     "execution_count": 5,
     "metadata": {},
     "output_type": "execute_result"
    },
    {
     "data": {
      "image/png": "[encoded data removed]",
      "text/plain": [
       "<Figure size 1080x360 with 3 Axes>"
      ]
     },
     "metadata": {
      "needs_background": "light"
     },
     "output_type": "display_data"
    }
   ],
   "source": [
    "sns.displot(data_2, x=\"falsexam\", col=\"class_format\", color = \"#8A2BE2\")"
   ]
  },
  {
   "cell_type": "markdown",
   "id": "cbbd4144",
   "metadata": {},
   "source": [
    "Observando los tres gráficos, se encuentra que, si bien los tres grupos parecen haber obtenido casi las mismas notas, los estudiantes que recibieron clases presenciales o \"face to face\", obtuvieron una mayor frecuencia de notas agrupadas entre el rango de 80-100. En otras palabras, el grupo de clases \"face to face\" obtuvo una mayor cantidad de notas altas, en comparación a los otros dos. Además, en el tercer gráfico, que agrupa a los estudiantes que recibieron clases online, se puede observar la existencia de datos atípicos, pues existe una pequeña cantidad de estudiantes que obtuvieron notas cercanas a 0 y menores que 20. \n",
    "\n",
    "Asimismo, se observa que el primer grupo (face to face), tienen notas mínimas más altas que los anteriores. En otras palabras, las notas más bajas de los otros dos grupos, son incluso más bajas que las notas mínimas del primero. Por lo tanto, podemos decir que, el primer grupo acumula notas más altas, mientras que, los otros grupos, a pesar de haber alcanzado casi la misma nota máxima que el primero, también presenta, a su vez, notas más bajas, tanto así que en el caso del tercer grupo, incluso registran notas cercanas al cero. \n",
    "\n",
    "Por esa razón, se podría concluir, que el promedio de notas del primer grupo (face to face) sería mayor al de los otros dos grupos; así como, el promedio del último grupo, podría ser el menor de los tres, pues presenta datos atípicos, con notas muy bajas, que afectarían reduciendo el promedio del grupo. "
   ]
  },
  {
   "cell_type": "markdown",
   "id": "374866c4",
   "metadata": {},
   "source": [
    "### Difference-in-means estimator"
   ]
  },
  {
   "cell_type": "markdown",
   "id": "4b66f332",
   "metadata": {},
   "source": [
    "#### Nueva dataset que \"excluye\" el formato híbrido"
   ]
  },
  {
   "cell_type": "code",
   "execution_count": 6,
   "id": "d3261c34",
   "metadata": {},
   "outputs": [
    {
     "name": "stdout",
     "output_type": "stream",
     "text": [
      "(214, 10)\n"
     ]
    },
    {
     "data": {
      "text/html": [
       "<div>\n",
       "<style scoped>\n",
       "    .dataframe tbody tr th:only-of-type {\n",
       "        vertical-align: middle;\n",
       "    }\n",
       "\n",
       "    .dataframe tbody tr th {\n",
       "        vertical-align: top;\n",
       "    }\n",
       "\n",
       "    .dataframe thead th {\n",
       "        text-align: right;\n",
       "    }\n",
       "</style>\n",
       "<table border=\"1\" class=\"dataframe\">\n",
       "  <thead>\n",
       "    <tr style=\"text-align: right;\">\n",
       "      <th></th>\n",
       "      <th>gender</th>\n",
       "      <th>asian</th>\n",
       "      <th>black</th>\n",
       "      <th>hawaiian</th>\n",
       "      <th>hispanic</th>\n",
       "      <th>unknown</th>\n",
       "      <th>white</th>\n",
       "      <th>format_ol</th>\n",
       "      <th>format_blended</th>\n",
       "      <th>falsexam</th>\n",
       "    </tr>\n",
       "  </thead>\n",
       "  <tbody>\n",
       "    <tr>\n",
       "      <th>0</th>\n",
       "      <td>0</td>\n",
       "      <td>0.0</td>\n",
       "      <td>0.0</td>\n",
       "      <td>0.0</td>\n",
       "      <td>0.0</td>\n",
       "      <td>0.0</td>\n",
       "      <td>1.0</td>\n",
       "      <td>0</td>\n",
       "      <td>0.0</td>\n",
       "      <td>63.29997</td>\n",
       "    </tr>\n",
       "    <tr>\n",
       "      <th>1</th>\n",
       "      <td>1</td>\n",
       "      <td>0.0</td>\n",
       "      <td>0.0</td>\n",
       "      <td>0.0</td>\n",
       "      <td>0.0</td>\n",
       "      <td>0.0</td>\n",
       "      <td>1.0</td>\n",
       "      <td>0</td>\n",
       "      <td>0.0</td>\n",
       "      <td>79.96000</td>\n",
       "    </tr>\n",
       "    <tr>\n",
       "      <th>4</th>\n",
       "      <td>1</td>\n",
       "      <td>0.0</td>\n",
       "      <td>0.0</td>\n",
       "      <td>0.0</td>\n",
       "      <td>0.0</td>\n",
       "      <td>0.0</td>\n",
       "      <td>1.0</td>\n",
       "      <td>1</td>\n",
       "      <td>0.0</td>\n",
       "      <td>83.30000</td>\n",
       "    </tr>\n",
       "    <tr>\n",
       "      <th>5</th>\n",
       "      <td>0</td>\n",
       "      <td>1.0</td>\n",
       "      <td>0.0</td>\n",
       "      <td>0.0</td>\n",
       "      <td>0.0</td>\n",
       "      <td>0.0</td>\n",
       "      <td>0.0</td>\n",
       "      <td>1</td>\n",
       "      <td>0.0</td>\n",
       "      <td>88.34996</td>\n",
       "    </tr>\n",
       "    <tr>\n",
       "      <th>7</th>\n",
       "      <td>1</td>\n",
       "      <td>1.0</td>\n",
       "      <td>0.0</td>\n",
       "      <td>0.0</td>\n",
       "      <td>0.0</td>\n",
       "      <td>0.0</td>\n",
       "      <td>0.0</td>\n",
       "      <td>0</td>\n",
       "      <td>0.0</td>\n",
       "      <td>90.00000</td>\n",
       "    </tr>\n",
       "  </tbody>\n",
       "</table>\n",
       "</div>"
      ],
      "text/plain": [
       "   gender  asian  black  hawaiian  hispanic  unknown  white  format_ol  \\\n",
       "0       0    0.0    0.0       0.0       0.0      0.0    1.0          0   \n",
       "1       1    0.0    0.0       0.0       0.0      0.0    1.0          0   \n",
       "4       1    0.0    0.0       0.0       0.0      0.0    1.0          1   \n",
       "5       0    1.0    0.0       0.0       0.0      0.0    0.0          1   \n",
       "7       1    1.0    0.0       0.0       0.0      0.0    0.0          0   \n",
       "\n",
       "   format_blended  falsexam  \n",
       "0             0.0  63.29997  \n",
       "1             0.0  79.96000  \n",
       "4             0.0  83.30000  \n",
       "5             0.0  88.34996  \n",
       "7             0.0  90.00000  "
      ]
     },
     "execution_count": 6,
     "metadata": {},
     "output_type": "execute_result"
    }
   ],
   "source": [
    "data_3 = pd.read_csv(\"https://github.com/matheusfacure/python-causality-handbook/raw/master/causal-inference-for-the-brave-and-true/data/online_classroom.csv\").query(\"format_blended==0\")\n",
    "print(data_3.shape)\n",
    "data_3.head()"
   ]
  },
  {
   "cell_type": "code",
   "execution_count": 7,
   "id": "fc1c2bcd",
   "metadata": {},
   "outputs": [
    {
     "data": {
      "text/plain": [
       "format_ol\n",
       "0    78.547485\n",
       "1    73.635263\n",
       "Name: falsexam, dtype: float64"
      ]
     },
     "execution_count": 7,
     "metadata": {},
     "output_type": "execute_result"
    }
   ],
   "source": [
    "(data_3\n",
    " .groupby(\"format_ol\")\n",
    " [\"falsexam\"]\n",
    " .mean())"
   ]
  },
  {
   "cell_type": "code",
   "execution_count": 8,
   "id": "028626dc",
   "metadata": {},
   "outputs": [
    {
     "data": {
      "text/plain": [
       "4.912222"
      ]
     },
     "execution_count": 8,
     "metadata": {},
     "output_type": "execute_result"
    }
   ],
   "source": [
    "78.547485 - 73.635263 "
   ]
  },
  {
   "cell_type": "markdown",
   "id": "c3b5d900",
   "metadata": {},
   "source": [
    "En este caso, teniendo en cuenta que el grupo que recibe el tratamiento son aquellos que reciben clases de forma $online$, por lo tanto, será 1 $(E[Y|T=1])$, mientra que, aquelos que reciben clases presenciales o $\"face-to-face\"$, serán los que no reciban el tratamiento, por lo tanto, será 0 cuando esta situación se de $(E[Y|T=0])$.  \n",
    "\n",
    "Asimismo, en el $Out[8]$, se puede ver las medias de las notas de ambos grupos, siendo que la del grupo de clases presenciales es $ 78.547485 $ y la del grupo de clases online es $ 73.635263 $. Por lo tanto:\n",
    "\n",
    "$$ E[Y|T=1] - E[Y|T=0] $$ \n",
    "\n",
    "$$ 78.547485 - 73.635263 $$\n",
    "\n",
    "$$ -4.9122 $$\t\n",
    "\n",
    "En ese sentido, se puede observar que la media de las notas de aquellos alumnos que fueron a clases presenciales es mayor a la media de los alumnos que asistieron a clases online. Por lo tanto, se puede decir que existe una relación entre el formato de la clase y el rendimiento de los alumnos. En este caso, los datos prueban que los alumnos tienen un mejor rendimiento cuando las clases se imparten de manera presencial, a cuando las reciben de forma virtual."
   ]
  },
  {
   "cell_type": "code",
   "execution_count": 9,
   "id": "92c95b90",
   "metadata": {},
   "outputs": [
    {
     "data": {
      "text/plain": [
       "array([-4.9122215 , 78.54748458])"
      ]
     },
     "execution_count": 9,
     "metadata": {},
     "output_type": "execute_result"
    }
   ],
   "source": [
    "X = data_3[[\"format_ol\"]].assign(intercep=1)\n",
    "y = data_3[\"falsexam\"]\n",
    "\n",
    "def regress(y, X): \n",
    "    return np.linalg.inv(X.T.dot(X)).dot(X.T.dot(y))\n",
    "\n",
    "beta = regress(y, X)\n",
    "beta"
   ]
  },
  {
   "cell_type": "code",
   "execution_count": 10,
   "id": "f4f52300",
   "metadata": {},
   "outputs": [
    {
     "data": {
      "text/plain": [
       "-4.912221498226952"
      ]
     },
     "execution_count": 10,
     "metadata": {},
     "output_type": "execute_result"
    }
   ],
   "source": [
    "beta_1 = data_3[\"falsexam\"].cov(data_3[\"format_ol\"]) / data_3[\"format_ol\"].var()\n",
    "beta_1"
   ]
  },
  {
   "cell_type": "code",
   "execution_count": 11,
   "id": "39ccdcaa",
   "metadata": {},
   "outputs": [
    {
     "data": {
      "text/html": [
       "<table class=\"simpletable\">\n",
       "<tr>\n",
       "      <td></td>         <th>coef</th>     <th>std err</th>      <th>t</th>      <th>P>|t|</th>  <th>[0.025</th>    <th>0.975]</th>  \n",
       "</tr>\n",
       "<tr>\n",
       "  <th>Intercept</th> <td>   78.5475</td> <td>    1.113</td> <td>   70.563</td> <td> 0.000</td> <td>   76.353</td> <td>   80.742</td>\n",
       "</tr>\n",
       "<tr>\n",
       "  <th>format_ol</th> <td>   -4.9122</td> <td>    1.680</td> <td>   -2.925</td> <td> 0.004</td> <td>   -8.223</td> <td>   -1.601</td>\n",
       "</tr>\n",
       "</table>"
      ],
      "text/plain": [
       "<class 'statsmodels.iolib.table.SimpleTable'>"
      ]
     },
     "execution_count": 11,
     "metadata": {},
     "output_type": "execute_result"
    }
   ],
   "source": [
    "result = smf.ols('falsexam ~ format_ol', data=data_3).fit()\n",
    "result.summary().tables[1]"
   ]
  },
  {
   "cell_type": "markdown",
   "id": "819229ec",
   "metadata": {},
   "source": [
    "En la inferencia causal, se busca estimar el impacto causal de la variable $T$ en un resultado $y$. Por esa razón, la regresión resulta útil, especialmente en este caso, que se está usando solo una variable, la del formato de clase. En la data se pueden ver otras variables también, pero resultan auxiliares. En este caso, el tratamiento o variable $T$ serían las clases online, y el resultado o outcome $y$, las notas. En ese sentido, en base a los datos observados, el average treatment effect resulta ser $ -4.9122 $, lo cual coincide con las observaciones anteriormente realizadas, y prueba que los efectos del tratamiento son negativos. En otras palabras, se demuestra que las clases online tienen un impacto negativo en las notas de los alumnos, porque resultan menores en comparación con el grupo que no recibió el tratamiento, es decir, que fue a clases presenciales. Por lo tanto, el impacto causal de esta variable (clases online), sería negativo."
   ]
  }
 ],
 "metadata": {
  "kernelspec": {
   "display_name": "Python 3 (ipykernel)",
   "language": "python",
   "name": "python3"
  },
  "language_info": {
   "codemirror_mode": {
    "name": "ipython",
    "version": 3
   },
   "file_extension": ".py",
   "mimetype": "text/x-python",
   "name": "python",
   "nbconvert_exporter": "python",
   "pygments_lexer": "ipython3",
   "version": "3.9.12"
  }
 },
 "nbformat": 4,
 "nbformat_minor": 5
}
