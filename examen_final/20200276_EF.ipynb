{
 "cells": [
  {
   "cell_type": "markdown",
   "id": "a3e2495c",
   "metadata": {},
   "source": [
    "# Examen Final\n",
    "## Karen Andrea Arevalo Calle - 20200276"
   ]
  },
  {
   "cell_type": "markdown",
   "id": "b79180ac",
   "metadata": {},
   "source": [
    "# Teoría"
   ]
  },
  {
   "cell_type": "markdown",
   "id": "9e7a444b",
   "metadata": {},
   "source": [
    "### 1. (3 puntos) Instrumental Variables (IV)"
   ]
  },
  {
   "cell_type": "markdown",
   "id": "de55ce3b",
   "metadata": {},
   "source": [
    "Suponga que estamos interesados en estudiar la relación entre educación(X) y el nivel de ingresos(Y). \n",
    "Un investigador propone utilizar como variable instrumental(Z) el numero de horas que una persona utilizó para ver televisión cuando era niño. "
   ]
  },
  {
   "cell_type": "markdown",
   "id": "af8e7fc2",
   "metadata": {},
   "source": [
    "- Indetifique todos los elementos necesarios para implementar un enfoque de IV en este ejemplo. \n",
    "- Explique el procedimiento para encontrar el efecto causal en este escenario. Puede utilizar ecuaciones\n",
    "- ¿El efecto de la educación sobre el nivel de ingresos es positivo o negativo? Argumente si los resultados serian causales o solamente de correlación"
   ]
  },
  {
   "cell_type": "markdown",
   "id": "d255ba66",
   "metadata": {},
   "source": [
    "En principio, el método de variables instrumentales suele usarse para resolver problemas de endogeneidad relacionados con variables omitidas. La estimación con Variables Instrumentales (VI) utiliza una variable\n",
    "adicional (Z) para aislar la parte de X que no está correlacionada con\n",
    "Y. Por lo que el instrumento sería válido. El método de variables instrumentales es una alternativa para estimar el efecto de dicha variable de interés (eduación) sobre la variable dependiente (ingresos).\n",
    "\n",
    "Asimismo, deben cumplirse ciertos supuestos. Las variables instrumentales se caracterizan por identificar un efecto causal para cualquier grupo de unidades cuyos comportamientos cambian como resultado del instrumento. Y en segundo lugar, suelen tener errores estándar más grandes y, como tales, no se rechazarán en muchos casos, aunque solo sea por la falta de potencia.\n",
    "\n",
    "Para que las variables instrumentales funcionen, debemos satisfacer dos supuestos: relevancia del instrumento y validez del instrumento. En cuanto a la relevancia, esta es sencilla, pues es un supuesto que debemos satisfacer para que las variables instrumentales funcionen. Implica que dado que queremos utilizar al instrumento (Z) para representar a nuestra variable de interés (X), dichas variables deben estar fuertemente correlacionadas. Una manera de evaluar si está condición se satisface es llevar a cabo una regresión de la variable de interés (Educ) contra el instrumento ($Z_i$):\n",
    "\n",
    "$$ Educ_i = η_0 + η_1Z_i + U_i $$\n",
    "\n",
    "\n",
    "Por otro lado, Validity consiste en suponer que el instrumental Z es una variable que no tiene alguna puerta trasera por sí mismo. Es decir, que Z puede ser razonablemente excluido del modelo luego que la relación Z → X esté incluida. \n",
    "\n",
    "De manera intuitiva se puede decir que a más horas que un niño ve televisión, emplea menos tiempo estudiando. Y al estudiar menos, podría implicar una correlación a futuro con su nivel de ingresos. \n",
    "\n",
    "Al correr una regresión, (por la descripción y naturaleza de las variables) puede ser que los resultados muestren causalidad. Pero también se puede dar el caso de que estos muestren correlación. La correlación no implica causalidad sino asociación y examina la relación entre dos variables; inversamente, la causalidad implica asociación, pero no correlación. Podríamos decir que el efecto de la educación sobre el nivel de ingresos sería positivo. De esta manera, asumimos que, si un niño dedica más tiempo al estudio obtendrá más ingresos a futuro. Por otro lado, también existe una relación inversa negativa en la que si optan por pasar más horas viendo televisión, obtendrían menos ingresos porque supone menos horas de estudio. Esto sería una correlación porque y necesariamente puede ser causal. \n"
   ]
  },
  {
   "cell_type": "markdown",
   "id": "c8b64fa3",
   "metadata": {},
   "source": [
    "### 2. (3 puntos) Regression Discontinuity Design (RDD)\n",
    "Supongamos que estamos estudiando la eficacia de un programa de becas creado por el gobierno Peruano sobre las notas de los alumnos al final del primer semestre en la universidad. PRONABEC ha decidido que entregará becas a aquellos postulantes que tengan un promedio superior durante la secundaria igual a 16 . \n",
    "\n",
    "- Indetifique todos los elementos necesarios para implementar un RDD en este ejemplo. \n",
    "- Explique el procedimiento para encontrar el efecto causal en este escenario. Puede utilizar ecuaciones.\n",
    "- ¿El efecto de la politica sobre el rendimiento de los estudiantes sería positivo o negativo (solo necesitan usar su intuición)? Argumente si los resultados serian causales o solamente de correlación ."
   ]
  },
  {
   "cell_type": "markdown",
   "id": "d385f0cd",
   "metadata": {},
   "source": [
    "El RDD o diseño de discontinuidad de regresión es un método que tiene como objetivo determinar los efectos causales de las intervenciones asignando un punto de corte o umbral por encima o por debajo del cual se asigna la intervención. Lo que diferencia al RDD de otros enfoques de investigación y lo hace tan especial es su capacidad para eliminar de manera convincente el sesgo de selección. Este atractivo se debe en parte al hecho de que muchos consideran que sus suposiciones de identificación subyacentes son más fáciles de aceptar y evaluar. Haciendo impotente el sesgo de selección, el procedimiento es capaz de recuperar los efectos de tratamiento promedio para una subpoblación dada de unidades. El método se basa en una idea simple e intuitiva. \n",
    "\n",
    "El principal supuesto de este diseño es la continuidad de la variable, ya que cualquier discontinuidad implica necesariamente alguna causa. Así, el índice de elegibilidad debe ser continuo alrededor del punto de corte. No debe haber saltos en el índice de elegibilidad en el punto de corte ni ninguna otra señal de que las personas manipulen su índice de elegibilidad para aumentar sus posibilidades de ser incluidos o excluidos del programa. La prueba de densidad de McCrary prueba esta suposición al verificar la función de densidad del índice de elegibilidad para discontinuidades alrededor del punto de corte.\n",
    "\n",
    "Asimismo, los individuos cercanos al punto de corte deberían ser muy similares, en promedio, en características observadas y no observadas. En el marco de RD, esto significa que la distribución de las variables observadas y no observadas debe ser continua alrededor del umbral. Aunque los investigadores pueden verificar la similitud entre las covariables observadas, se debe asumir la similitud entre las características no observadas. Esto se considera una suposición plausible para individuos muy cerca del punto de corte, es decir, para una ventana relativamente estrecha.\n",
    "\n",
    "Por otro lado el punto de corte es otro elemento importante pues es el límite de la variable donde se determina si recibe tratamiento o no, las normas detrás de cutoff son las que no recibieron tratamiento, y las de la derecha las que sí. RDD estima los efectos de tratamiento locales promedio alrededor del punto de corte, donde las unidades de tratamiento y comparación son más similares.\n",
    "\n",
    "Además, RDD estima los efectos de tratamiento locales promedio alrededor del punto de corte, donde las unidades de tratamiento y comparación son más similares. En cada uno de estos casos, podemos imaginar de forma bastante razonable que los casos que están apenas a ambos lados del límite son comparables, y que cualquier diferencia entre ellos es realmente culpa del tratamiento. En otras palabras, esto es el efecto del tratamiento.\n",
    "\n",
    "Ahora, para encontrar el efecto causal en el escenario descrito, podemos seguir los siguientes pasos: Elegir el punto límite de la \"variable en funcionamiento\", elegir el modelo correcto y predecir los valores cercanos al límite y estimar el \"salto\" en el \"punto de corte\".\n",
    "\n",
    "Para el diseño de una regresión se puede usar Sharp o Fuzzy:\n",
    "\n",
    "Sharp:\n",
    "\n",
    "$$\n",
    "D_i =\n",
    "   \\begin{cases} 1\n",
    "       \\text{si} & X_i\\geq{c_0}\n",
    "       \\\\ 0\n",
    "       \\text{ if } & X_i < c_0\n",
    "   \\end{cases}\n",
    "$$\n",
    "\n",
    "Fuzzy:\n",
    "\n",
    "$$\n",
    "\\lim_{X_i\\rightarrow{c_0}}\n",
    "   \\Pr\\large(D_i=1\\mid X_i=c_0\\large) \\ne\n",
    "   \\lim_{c_0 \\leftarrow X_i}\n",
    "   \\Pr\\large(D_i=1\\mid X_i=c_0\\large)\n",
    "$$\n",
    "\n",
    "Para este caso, se podría usar Sharp debido a que tenemos un límite establecido.\n",
    "\n",
    "Para formular nuestra ecuación podemos construir una database con las observaciones o notas que tengan un valor de al menos 16 puntos para poder acceder a la Beca de PRONABEC. Luego, visualizamos si hay un aumento del punto de corte y estimamos un modelo para cada lado. Seguidamente medimos el efecto y también podemos usar kernel weight para valuar correctamente el efecto, las observaciones más cercanas al punto de corte deben \"ponderarse\" de forma diferente en el límite en comparación con las observaciones más alejadas de él.\n",
    "\n",
    "$$\n",
    "K(R, c, h) = \\mathcal{1}\\{|R-c| \\leq h\\} * \\left(1-\\frac{|R-c|}{h}\\right)\n",
    "$$\n",
    "\n",
    "Por último, observaríamos que el efecto de la política sobre el rendimiento de los estudiantes sería positivo. Pues, favorece a estudiantes de bajos recursos y excelente renndimiento académico al acceder a una beca. Esto hace que los estudiantes también se motiven académicamente. No obstante, no necesariamente debe existir una relación causal pes pueden haber factores que no se están tomando en cuenta que afectan el rendimiento de los estudiantes y por lo tanto, su propensión a obtener una beca. Por lo cual, podríamos decir que obtener buenas calificaciones por encima de 16, y obtener una beca del PRONABEC sería una correlación. "
   ]
  },
  {
   "cell_type": "markdown",
   "id": "5972cba0",
   "metadata": {},
   "source": [
    "## 3. (3 puntos) Difference in Difference (DiD)\n",
    "Supongamos que estamos interesados ​​en estudiar el impacto de la migración en la tasa de empleo en dos regiones del Perú en 2017-2018. Tenemos datos anuales sobre la tasa de empleo en Lima, que experimentó una afluencia significativa de inmigrantes en 2018,  y Puno que no experimentó el ingreso de migrantes (2017 ninguna de las regiones experimentó afluencia de migrantes). Podemos usar un análisis DID para comparar el cambio en las tasas de empleo entre las dos regiones a lo largo del tiempo para ver si la migración tuvo algún efecto.\n",
    "\n",
    "- Indetifique todos los elementos necesarios para implementar un DiD en este ejemplo. \n",
    "- Explique el procedimiento para encontrar el efecto causal en este escenario. Puede utilizar ecuaciones.\n",
    "- ¿El efecto de la migración sobre la tasa de empleo sería positivo o negativo (solo necesitan usar su intuición)? Argumente si los resultados serian causales o solamente de correlación .\n"
   ]
  },
  {
   "attachments": {
    "image.png": {
     "image/png": "[encoded data removed]"
    }
   },
   "cell_type": "markdown",
   "id": "bcb549e9",
   "metadata": {},
   "source": [
    "Diff-Diff es una herramienta para estimar los efectos del tratamiento comparando las diferencias antes y después del tratamiento en el resultado de un tratamiento y un grupo de control. En general, es distinta de otros enfoques de investigación porque nos permite estimar el efecto de un tratamiento (por ejemplo, en este caso, migración) sobre un resultado (tasa de empleo).\n",
    "\n",
    "Para el método DiD existe la suposición de tendencias paralelas. Esta es una suposición de que nada más cambia al mismo tiempo, \"tendencias paralelas\". Por otro lado, en el Did también hay efecto de tratamiento, la cual es la diferencia del grupo de tratamiento (antes) y después con respecto al grupo de control. En este caso, la diferencia entre el 2017-2018 en Puno y Lima.\n",
    "\n",
    "![image.png](attachment:image.png)"
   ]
  },
  {
   "cell_type": "markdown",
   "id": "064c89bd",
   "metadata": {},
   "source": [
    "A modo de ecuación, esto se puede observar de la siguiente manera:\n",
    "\n",
    "$$\n",
    "\\widehat{\\delta}^{2\\times 2}_{kU} = \\bigg ( \\overline{y}_k^{-post(k)} - \\overline{y}_k^{-pre(k)} \\bigg ) - \\bigg ( \\overline{y}_U^{-post(k)} - \\overline{y}_U^{-pre(k)} \\bigg )\n",
    "$$\n",
    "\n",
    "\n"
   ]
  },
  {
   "cell_type": "markdown",
   "id": "2ce16f55",
   "metadata": {},
   "source": [
    "La pregunta que lidere nuestro Did sería: ¿el impacto de la migración en Puno vio disminuir tasa de empleos 2017-2018 en relación con las el impacto de la migración en la tasa de empleos en Lima?. \n",
    "\n",
    "Primero, calculamos el promedio before y after de los grupos tratados. Identificamos nuestra variable outcome y nuestro indicador dummy. Calculamos en un solo gráfico las medias por tiempo y por grupo, plot trend, plot counterfactual y el efecto. Finalmente, Utilizando la ecuación de cambio, y asumiendo un efecto fijo de estado y un efecto fijo de tiempo constantes, podemos escribir un modelo de regresión simple. Este simple se estima con la siguiente ecuación:\n",
    "\n",
    "$$\n",
    "Y = \\beta_0 + \\beta_1TreatedGroup + \\beta_2AfterTreatment + \\\\ \\beta_3TreatedGroup\\times AfterTreatment + \\varepsilon\n",
    "$$\n",
    "\n",
    "Finalmente, desde la intuición, podríamos suponer que el efecto de la migración sobre la tasa de empleo sería negativo. En primer lugar, se puede ver que aumentaría la demanda por puestos de trabajo ante un mayor número de personas migrantes; sin embargo, esto no implica que se vayan a aperturar mayor número de puestos de trabajo necesariamente. Por lo que habría un exceso de demanda. Tomando el caso de la migración venezolana al Perú como ejemplo, podemos ver que las personas migrantes no solo deben competir por un puesto de trabajo contra otros migrantes sino también con la población nacional; asimismo, sumando factores como la xenofobia o la discriminación, se podría ver un efecto negativo. Por lo tanto, podría ser una correlación pero no necesariamente causalidad, por lo que deberían observarse otros factores.\n"
   ]
  },
  {
   "cell_type": "markdown",
   "id": "7da2e6b0",
   "metadata": {},
   "source": [
    "## 4. (3 puntos) Lecturas\n",
    "- [Bell, A., Chetty, R., Jaravel, X., Petkova, N., & Van Reenen, J. (2019). Who becomes an inventor in America? The importance of exposure to innovation. The Quarterly Journal of Economics, 134(2), 647-713.](https://www.nber.org/system/files/working_papers/w24062/w24062.pdf),  ¿Cuáles son las debilidades del enfoque del paper para responder su pregunta de investigación?\n",
    "\n",
    "En principio, el paper se centra en las siguientes preguntas de investigación: ¿Es posible que factores como la clase, raza y sexo sean determinantes para que una persona se convierte en inventor?, ¿Cuáles son los canales que explican esta diferencia?, ¿Existe mayor posibilidad de que las niñas se dediquen a la innovación si están expuestas a inventoras desde temprana edad?, ¿Es más probable que los niños que se trasladen a áreas con mayor innovación en su edad temprana se conviertan en inventores?, y finalmente, ¿Acaso los niños de familias con bajos ingresos habrían podido terminar teniendo innovaciones de impacto?.\n",
    "\n",
    "Los autores parten por una tesis central que dictamina que la falta de exposición a la innovación puede ser útil para explicar por qué los niños talentosos de familias con bajos ingresos, pertenecientes a las minorías étnicas y/o mujeres, tienen menos probabilidades de convertirse en inventores a largo plazo. Para lo cual, se argumenta que los mecanismos de transmisión seríen el desarrollo del capital humano, mentorías y redes de contacto. Un punto fuerte del análisis es que los autores se dedican también a explorar no se limitan solo al análisis de la probabilidad de convertirse en inventores; sino también a abordar la cuestión de que existiría talento perdido \"lost Einsteins\".  \n",
    "\n",
    "No obstante, en las debilidades y limitaciones del enfoque del paper se identificó que se podrían haber considerado o buscado otras variables relacionadas a la innovación y a las preguntas de investigación para incorporarlas en el manejo de la data (muy a parte de los datos sobre las patentes). Esto debido a que no todas las innovaciones terminan siendo patentadas. Por otro lado, se puede identificar que tampoco se tuvieron los factores intelectuales asociados a la propensión a volverse inventor.Si bien existen factores estructurales como la ecobomía familiar, etc, sexo, etc; serí útil  conocer las capacidades intelectuales (tanto de los jóvenes como de sus padres).\n",
    "\n",
    "- [Dell, M. (2010). The persistent effects of Peru's mining mita. Econometrica, 78(6), 1863-1903](https://scholar.harvard.edu/files/dell/files/ecta8121_0.pdf), ¿Cuáles serían dos próximos pasos específicos para avanzar en su pregunta de investigación? \n",
    "\n",
    "El artículo de Dell se centra en la cuestión de la mita, para ello, su principal pregunta de investigación está dada por: ¿Cuáles son los impactos a largo plazo de la mita en las minas del Perú y Bolivia entre 1573 y 1812?. Para analizar esto, Dell emplea una regresión continua y formula la hipótesis de que la influencia de la mita ha persistido a través de sus impactos sobre la tenencia de la tierra y el aprovisionamiento de bienes públicos.\n",
    "\n",
    "Si bien el artículo de Dell contribuye en gran medida a examinar el impacto a largo plazo de la mita minera, todavía existen puntos que pueden estudiarse a profundidad para avanzar en la pregunta de investigación del paper. Por ejemplo, los hallazgos de subdesarrollo de Dell (2010) en los distritos de la mita podrían sugerir que el desarrollo humano y el retraso en el crecimiento de las empresas están directamente conectados. Por lo que se podría extender el análisis de regresión a las empresas contemporáneas para considerar los patrones y mecanismos de subdesarrollo de Dell (2010) como explicaciones alternativas [(Natividad, 2019)](https://www.sciencedirect.com/science/article/abs/pii/S0304405X19301175). Asimismo, la consecuencia de la migración y desplazamiento producto de la mita colonial que encontró Dell (2010) se puede extender en el análisis del impacto a largo plazo de dicha emigración masiva [(Carpio & Guerrero, 2021)](https://www.researchgate.net/publication/355858323_Did_the_Colonial_mita_Cause_a_Population_Collapse_What_Current_Surnames_Reveal_in_Peru)."
   ]
  },
  {
   "cell_type": "markdown",
   "id": "f2c86dbd",
   "metadata": {},
   "source": [
    "# Código"
   ]
  },
  {
   "cell_type": "markdown",
   "id": "c7a6870e",
   "metadata": {},
   "source": [
    "### Ploteo de Histogramas\n",
    "\n",
    "Tomando en cuenta que la variable nearc2 representa si existe un college en el county debe realizar los siguientes ploteos de histogramas.\n",
    "\n",
    "- Grafique dos histogramas para la variable años de educación educ para cuando nearc2 == 1, y cuando nearc2== 0. Compare y describa los patrones que encuentra.\n",
    "\n",
    "- Grafique dos histogramas para la variable logaritmos de los ingresos lwage para cuando nearc2 == 1, y cuando nearc2== 0. Compare y describa los patrones que encuentra."
   ]
  },
  {
   "cell_type": "code",
   "execution_count": 2,
   "id": "3d35be8c",
   "metadata": {},
   "outputs": [],
   "source": [
    "from causalgraphicalmodels import CausalGraphicalModel\n",
    "import os\n",
    "import numpy as np \n",
    "import pandas as pd \n",
    "import statsmodels.api as sm \n",
    "import statsmodels.formula.api as smf \n",
    "from itertools import combinations \n",
    "import plotnine as p\n",
    "import statsmodels.api as sm\n",
    "import statsmodels.formula.api as smf\n",
    "import linearmodels.iv.model as lm\n",
    "from linearmodels.iv import IV2SLS\n",
    "from statsmodels.iolib.summary2 import summary_col\n",
    "import seaborn as sns\n",
    "import ipywidgets as widgets\n",
    "import matplotlib.pyplot as plt\n",
    "from sympy import *\n",
    "import sklearn\n",
    "import networkx\n",
    "import seaborn as sb "
   ]
  },
  {
   "cell_type": "code",
   "execution_count": 3,
   "id": "2182b969",
   "metadata": {},
   "outputs": [
    {
     "data": {
      "text/html": [
       "<div>\n",
       "<style scoped>\n",
       "    .dataframe tbody tr th:only-of-type {\n",
       "        vertical-align: middle;\n",
       "    }\n",
       "\n",
       "    .dataframe tbody tr th {\n",
       "        vertical-align: top;\n",
       "    }\n",
       "\n",
       "    .dataframe thead th {\n",
       "        text-align: right;\n",
       "    }\n",
       "</style>\n",
       "<table border=\"1\" class=\"dataframe\">\n",
       "  <thead>\n",
       "    <tr style=\"text-align: right;\">\n",
       "      <th></th>\n",
       "      <th>id</th>\n",
       "      <th>nearc2</th>\n",
       "      <th>nearc4</th>\n",
       "      <th>educ</th>\n",
       "      <th>age</th>\n",
       "      <th>fatheduc</th>\n",
       "      <th>motheduc</th>\n",
       "      <th>weight</th>\n",
       "      <th>momdad14</th>\n",
       "      <th>sinmom14</th>\n",
       "      <th>...</th>\n",
       "      <th>KWW</th>\n",
       "      <th>IQ</th>\n",
       "      <th>married</th>\n",
       "      <th>libcrd14</th>\n",
       "      <th>exper</th>\n",
       "      <th>lwage</th>\n",
       "      <th>expersq</th>\n",
       "      <th>u_lwage</th>\n",
       "      <th>lwage_hat</th>\n",
       "      <th>u_educ</th>\n",
       "    </tr>\n",
       "  </thead>\n",
       "  <tbody>\n",
       "    <tr>\n",
       "      <th>0</th>\n",
       "      <td>2.0</td>\n",
       "      <td>0.0</td>\n",
       "      <td>0.0</td>\n",
       "      <td>7.0</td>\n",
       "      <td>29.0</td>\n",
       "      <td>NaN</td>\n",
       "      <td>NaN</td>\n",
       "      <td>158413.0</td>\n",
       "      <td>1.0</td>\n",
       "      <td>0.0</td>\n",
       "      <td>...</td>\n",
       "      <td>15.0</td>\n",
       "      <td>NaN</td>\n",
       "      <td>1.0</td>\n",
       "      <td>0.0</td>\n",
       "      <td>16.0</td>\n",
       "      <td>6.306275</td>\n",
       "      <td>256.0</td>\n",
       "      <td>0.198047</td>\n",
       "      <td>6.108228</td>\n",
       "      <td>-3.067539</td>\n",
       "    </tr>\n",
       "    <tr>\n",
       "      <th>1</th>\n",
       "      <td>3.0</td>\n",
       "      <td>0.0</td>\n",
       "      <td>0.0</td>\n",
       "      <td>12.0</td>\n",
       "      <td>27.0</td>\n",
       "      <td>8.0</td>\n",
       "      <td>8.0</td>\n",
       "      <td>380166.0</td>\n",
       "      <td>1.0</td>\n",
       "      <td>0.0</td>\n",
       "      <td>...</td>\n",
       "      <td>35.0</td>\n",
       "      <td>93.0</td>\n",
       "      <td>1.0</td>\n",
       "      <td>1.0</td>\n",
       "      <td>9.0</td>\n",
       "      <td>6.175867</td>\n",
       "      <td>81.0</td>\n",
       "      <td>-0.211160</td>\n",
       "      <td>6.387027</td>\n",
       "      <td>-1.727562</td>\n",
       "    </tr>\n",
       "    <tr>\n",
       "      <th>2</th>\n",
       "      <td>4.0</td>\n",
       "      <td>0.0</td>\n",
       "      <td>0.0</td>\n",
       "      <td>12.0</td>\n",
       "      <td>34.0</td>\n",
       "      <td>14.0</td>\n",
       "      <td>12.0</td>\n",
       "      <td>367470.0</td>\n",
       "      <td>1.0</td>\n",
       "      <td>0.0</td>\n",
       "      <td>...</td>\n",
       "      <td>42.0</td>\n",
       "      <td>103.0</td>\n",
       "      <td>1.0</td>\n",
       "      <td>1.0</td>\n",
       "      <td>16.0</td>\n",
       "      <td>6.580639</td>\n",
       "      <td>256.0</td>\n",
       "      <td>0.204719</td>\n",
       "      <td>6.375920</td>\n",
       "      <td>1.012975</td>\n",
       "    </tr>\n",
       "    <tr>\n",
       "      <th>3</th>\n",
       "      <td>5.0</td>\n",
       "      <td>1.0</td>\n",
       "      <td>1.0</td>\n",
       "      <td>11.0</td>\n",
       "      <td>27.0</td>\n",
       "      <td>11.0</td>\n",
       "      <td>12.0</td>\n",
       "      <td>380166.0</td>\n",
       "      <td>1.0</td>\n",
       "      <td>0.0</td>\n",
       "      <td>...</td>\n",
       "      <td>25.0</td>\n",
       "      <td>88.0</td>\n",
       "      <td>1.0</td>\n",
       "      <td>1.0</td>\n",
       "      <td>10.0</td>\n",
       "      <td>5.521461</td>\n",
       "      <td>100.0</td>\n",
       "      <td>-0.967905</td>\n",
       "      <td>6.489366</td>\n",
       "      <td>-2.253536</td>\n",
       "    </tr>\n",
       "    <tr>\n",
       "      <th>4</th>\n",
       "      <td>6.0</td>\n",
       "      <td>1.0</td>\n",
       "      <td>1.0</td>\n",
       "      <td>12.0</td>\n",
       "      <td>34.0</td>\n",
       "      <td>8.0</td>\n",
       "      <td>7.0</td>\n",
       "      <td>367470.0</td>\n",
       "      <td>1.0</td>\n",
       "      <td>0.0</td>\n",
       "      <td>...</td>\n",
       "      <td>34.0</td>\n",
       "      <td>108.0</td>\n",
       "      <td>1.0</td>\n",
       "      <td>0.0</td>\n",
       "      <td>16.0</td>\n",
       "      <td>6.591674</td>\n",
       "      <td>256.0</td>\n",
       "      <td>0.125173</td>\n",
       "      <td>6.466501</td>\n",
       "      <td>1.090437</td>\n",
       "    </tr>\n",
       "  </tbody>\n",
       "</table>\n",
       "<p>5 rows × 37 columns</p>\n",
       "</div>"
      ],
      "text/plain": [
       "    id  nearc2  nearc4  educ   age  fatheduc  motheduc    weight  momdad14  \\\n",
       "0  2.0     0.0     0.0   7.0  29.0       NaN       NaN  158413.0       1.0   \n",
       "1  3.0     0.0     0.0  12.0  27.0       8.0       8.0  380166.0       1.0   \n",
       "2  4.0     0.0     0.0  12.0  34.0      14.0      12.0  367470.0       1.0   \n",
       "3  5.0     1.0     1.0  11.0  27.0      11.0      12.0  380166.0       1.0   \n",
       "4  6.0     1.0     1.0  12.0  34.0       8.0       7.0  367470.0       1.0   \n",
       "\n",
       "   sinmom14  ...   KWW     IQ  married  libcrd14  exper     lwage  expersq  \\\n",
       "0       0.0  ...  15.0    NaN      1.0       0.0   16.0  6.306275    256.0   \n",
       "1       0.0  ...  35.0   93.0      1.0       1.0    9.0  6.175867     81.0   \n",
       "2       0.0  ...  42.0  103.0      1.0       1.0   16.0  6.580639    256.0   \n",
       "3       0.0  ...  25.0   88.0      1.0       1.0   10.0  5.521461    100.0   \n",
       "4       0.0  ...  34.0  108.0      1.0       0.0   16.0  6.591674    256.0   \n",
       "\n",
       "    u_lwage  lwage_hat    u_educ  \n",
       "0  0.198047   6.108228 -3.067539  \n",
       "1 -0.211160   6.387027 -1.727562  \n",
       "2  0.204719   6.375920  1.012975  \n",
       "3 -0.967905   6.489366 -2.253536  \n",
       "4  0.125173   6.466501  1.090437  \n",
       "\n",
       "[5 rows x 37 columns]"
      ]
     },
     "execution_count": 3,
     "metadata": {},
     "output_type": "execute_result"
    }
   ],
   "source": [
    "# Cargamos la data\n",
    "\n",
    "import ssl\n",
    "ssl._create_default_https_context = ssl._create_unverified_context\n",
    "\n",
    "def read_data(file): \n",
    "    return pd.read_stata(\"https://raw.github.com/scunning1975/mixtape/master/\" + file)\n",
    "\n",
    "card = read_data(\"card.dta\")\n",
    "card.head()"
   ]
  },
  {
   "cell_type": "markdown",
   "id": "60d5d928",
   "metadata": {},
   "source": [
    "Graficando los histogramas"
   ]
  },
  {
   "cell_type": "code",
   "execution_count": 5,
   "id": "accf8c23",
   "metadata": {},
   "outputs": [
    {
     "data": {
      "image/png": "[encoded data removed]",
      "text/plain": [
       "<Figure size 720x360 with 2 Axes>"
      ]
     },
     "metadata": {
      "needs_background": "light"
     },
     "output_type": "display_data"
    }
   ],
   "source": [
    "sns.displot(card, x=\"educ\", col=\"nearc2\")\n",
    "plt.show()"
   ]
  },
  {
   "cell_type": "code",
   "execution_count": 6,
   "id": "d97536f5",
   "metadata": {},
   "outputs": [
    {
     "data": {
      "image/png": "[encoded data removed]",
      "text/plain": [
       "<Figure size 720x360 with 2 Axes>"
      ]
     },
     "metadata": {
      "needs_background": "light"
     },
     "output_type": "display_data"
    }
   ],
   "source": [
    "sns.displot(card, x=\"lwage\", col=\"nearc2\")\n",
    "plt.show()"
   ]
  },
  {
   "cell_type": "markdown",
   "id": "2e2117f3",
   "metadata": {},
   "source": [
    "Comparación: Por un lado, se puede observar que para la variable educ, cuando nearc2 es igual a 1, la cantidad de personas a partir de los 12 años de educación disminuye a <500. Las diferencias entre nearc2 = 0 y nearc2=1 son de casi el doble en los gráficos. También podemos observar que antes de los 10 años de educación, la variable nearc2 no tiene tanta cantidad en relación a los años de educación. Finalmente, podemos notar que (independientemente de que la variable nearc2 = 0 o =1) el pico más alto suele estar cuando las personas llegan a los 12 años de educación.\n",
    "\n",
    "Por otro lado, para la variable lwge, cuando la variable nearc2 = 1, la cantidad del número de personas con respecto a sus salarios disminuye considerablemente en casi el doble, con respecto a cuando nearc2=0. Finalmente, se puede apreciar que la distribución en ambos gráficos en un poco disitinta, en tanto la distribución de cuando nearc2=1 es más para la derecha."
   ]
  },
  {
   "cell_type": "markdown",
   "id": "b54b06e0",
   "metadata": {},
   "source": [
    "### Regresiones"
   ]
  },
  {
   "cell_type": "markdown",
   "id": "adca3787",
   "metadata": {},
   "source": [
    "- Corran una regresion lineal del tipo \"lwage ~ educ + exper + black + south + married + smsa\", y expliquen los resultados que encuentran.\n",
    "\n",
    "- Corran una regresion de tipo IV(usando el paquete IV2SLS) donde van a instrumentalizar la variable educ con nearc2 . Compare los resultados encontrados en la regresión de arriba. Cambió el coeficiente relacionado a educ , por qué?"
   ]
  },
  {
   "cell_type": "code",
   "execution_count": 7,
   "id": "4fd12d4f",
   "metadata": {},
   "outputs": [
    {
     "data": {
      "text/html": [
       "<table class=\"simpletable\">\n",
       "<caption>OLS Regression Results</caption>\n",
       "<tr>\n",
       "  <th>Dep. Variable:</th>          <td>lwage</td>      <th>  R-squared:         </th> <td>   0.305</td> \n",
       "</tr>\n",
       "<tr>\n",
       "  <th>Model:</th>                   <td>OLS</td>       <th>  Adj. R-squared:    </th> <td>   0.304</td> \n",
       "</tr>\n",
       "<tr>\n",
       "  <th>Method:</th>             <td>Least Squares</td>  <th>  F-statistic:       </th> <td>   219.2</td> \n",
       "</tr>\n",
       "<tr>\n",
       "  <th>Date:</th>             <td>Fri, 09 Dec 2022</td> <th>  Prob (F-statistic):</th> <td>1.97e-232</td>\n",
       "</tr>\n",
       "<tr>\n",
       "  <th>Time:</th>                 <td>15:35:56</td>     <th>  Log-Likelihood:    </th> <td> -1273.9</td> \n",
       "</tr>\n",
       "<tr>\n",
       "  <th>No. Observations:</th>      <td>  3003</td>      <th>  AIC:               </th> <td>   2562.</td> \n",
       "</tr>\n",
       "<tr>\n",
       "  <th>Df Residuals:</th>          <td>  2996</td>      <th>  BIC:               </th> <td>   2604.</td> \n",
       "</tr>\n",
       "<tr>\n",
       "  <th>Df Model:</th>              <td>     6</td>      <th>                     </th>     <td> </td>    \n",
       "</tr>\n",
       "<tr>\n",
       "  <th>Covariance Type:</th>      <td>nonrobust</td>    <th>                     </th>     <td> </td>    \n",
       "</tr>\n",
       "</table>\n",
       "<table class=\"simpletable\">\n",
       "<tr>\n",
       "      <td></td>         <th>coef</th>     <th>std err</th>      <th>t</th>      <th>P>|t|</th>  <th>[0.025</th>    <th>0.975]</th>  \n",
       "</tr>\n",
       "<tr>\n",
       "  <th>Intercept</th> <td>    5.0633</td> <td>    0.064</td> <td>   79.437</td> <td> 0.000</td> <td>    4.938</td> <td>    5.188</td>\n",
       "</tr>\n",
       "<tr>\n",
       "  <th>educ</th>      <td>    0.0712</td> <td>    0.003</td> <td>   20.438</td> <td> 0.000</td> <td>    0.064</td> <td>    0.078</td>\n",
       "</tr>\n",
       "<tr>\n",
       "  <th>exper</th>     <td>    0.0342</td> <td>    0.002</td> <td>   15.422</td> <td> 0.000</td> <td>    0.030</td> <td>    0.038</td>\n",
       "</tr>\n",
       "<tr>\n",
       "  <th>black</th>     <td>   -0.1660</td> <td>    0.018</td> <td>   -9.426</td> <td> 0.000</td> <td>   -0.201</td> <td>   -0.131</td>\n",
       "</tr>\n",
       "<tr>\n",
       "  <th>south</th>     <td>   -0.1316</td> <td>    0.015</td> <td>   -8.788</td> <td> 0.000</td> <td>   -0.161</td> <td>   -0.102</td>\n",
       "</tr>\n",
       "<tr>\n",
       "  <th>married</th>   <td>   -0.0359</td> <td>    0.003</td> <td>  -10.547</td> <td> 0.000</td> <td>   -0.043</td> <td>   -0.029</td>\n",
       "</tr>\n",
       "<tr>\n",
       "  <th>smsa</th>      <td>    0.1758</td> <td>    0.015</td> <td>   11.372</td> <td> 0.000</td> <td>    0.145</td> <td>    0.206</td>\n",
       "</tr>\n",
       "</table>\n",
       "<table class=\"simpletable\">\n",
       "<tr>\n",
       "  <th>Omnibus:</th>       <td>53.196</td> <th>  Durbin-Watson:     </th> <td>   1.858</td>\n",
       "</tr>\n",
       "<tr>\n",
       "  <th>Prob(Omnibus):</th> <td> 0.000</td> <th>  Jarque-Bera (JB):  </th> <td>  69.430</td>\n",
       "</tr>\n",
       "<tr>\n",
       "  <th>Skew:</th>          <td>-0.231</td> <th>  Prob(JB):          </th> <td>8.38e-16</td>\n",
       "</tr>\n",
       "<tr>\n",
       "  <th>Kurtosis:</th>      <td> 3.584</td> <th>  Cond. No.          </th> <td>    154.</td>\n",
       "</tr>\n",
       "</table><br/><br/>Notes:<br/>[1] Standard Errors assume that the covariance matrix of the errors is correctly specified."
      ],
      "text/plain": [
       "<class 'statsmodels.iolib.summary.Summary'>\n",
       "\"\"\"\n",
       "                            OLS Regression Results                            \n",
       "==============================================================================\n",
       "Dep. Variable:                  lwage   R-squared:                       0.305\n",
       "Model:                            OLS   Adj. R-squared:                  0.304\n",
       "Method:                 Least Squares   F-statistic:                     219.2\n",
       "Date:                Fri, 09 Dec 2022   Prob (F-statistic):          1.97e-232\n",
       "Time:                        15:35:56   Log-Likelihood:                -1273.9\n",
       "No. Observations:                3003   AIC:                             2562.\n",
       "Df Residuals:                    2996   BIC:                             2604.\n",
       "Df Model:                           6                                         \n",
       "Covariance Type:            nonrobust                                         \n",
       "==============================================================================\n",
       "                 coef    std err          t      P>|t|      [0.025      0.975]\n",
       "------------------------------------------------------------------------------\n",
       "Intercept      5.0633      0.064     79.437      0.000       4.938       5.188\n",
       "educ           0.0712      0.003     20.438      0.000       0.064       0.078\n",
       "exper          0.0342      0.002     15.422      0.000       0.030       0.038\n",
       "black         -0.1660      0.018     -9.426      0.000      -0.201      -0.131\n",
       "south         -0.1316      0.015     -8.788      0.000      -0.161      -0.102\n",
       "married       -0.0359      0.003    -10.547      0.000      -0.043      -0.029\n",
       "smsa           0.1758      0.015     11.372      0.000       0.145       0.206\n",
       "==============================================================================\n",
       "Omnibus:                       53.196   Durbin-Watson:                   1.858\n",
       "Prob(Omnibus):                  0.000   Jarque-Bera (JB):               69.430\n",
       "Skew:                          -0.231   Prob(JB):                     8.38e-16\n",
       "Kurtosis:                       3.584   Cond. No.                         154.\n",
       "==============================================================================\n",
       "\n",
       "Notes:\n",
       "[1] Standard Errors assume that the covariance matrix of the errors is correctly specified.\n",
       "\"\"\""
      ]
     },
     "execution_count": 7,
     "metadata": {},
     "output_type": "execute_result"
    }
   ],
   "source": [
    "ols_reg = sm.OLS.from_formula(\"lwage ~ educ + exper + black + south + married + smsa\",data=card).fit()\n",
    "\n",
    "ols_reg.summary()"
   ]
  },
  {
   "cell_type": "markdown",
   "id": "8b09788b",
   "metadata": {},
   "source": [
    "A partir de los resultados, se tiene que todas las variable son estadisticamente significativas, es decir hay una correlación revisando todos los p.value estos son inferiores a 0.05. Además, se puede decir que por cada año que aumenta la educación el salario mejora en 0.0712 unidades. "
   ]
  },
  {
   "cell_type": "code",
   "execution_count": 8,
   "id": "8cc2cc8a",
   "metadata": {},
   "outputs": [],
   "source": [
    "# There are null values in the dataset, we will fill them with 0\n",
    "card['married'] = card['married'].fillna(0)"
   ]
  },
  {
   "cell_type": "code",
   "execution_count": 9,
   "id": "4f455749",
   "metadata": {},
   "outputs": [
    {
     "data": {
      "text/html": [
       "<table class=\"simpletable\">\n",
       "<caption>IV-2SLS Estimation Summary</caption>\n",
       "<tr>\n",
       "  <th>Dep. Variable:</th>          <td>lwage</td>      <th>  R-squared:         </th> <td>-1.3114</td>\n",
       "</tr>\n",
       "<tr>\n",
       "  <th>Estimator:</th>             <td>IV-2SLS</td>     <th>  Adj. R-squared:    </th> <td>-1.3160</td>\n",
       "</tr>\n",
       "<tr>\n",
       "  <th>No. Observations:</th>       <td>3010</td>       <th>  F-statistic:       </th> <td>289.62</td> \n",
       "</tr>\n",
       "<tr>\n",
       "  <th>Date:</th>             <td>Fri, Dec 09 2022</td> <th>  P-value (F-stat)   </th> <td>0.0000</td> \n",
       "</tr>\n",
       "<tr>\n",
       "  <th>Time:</th>                 <td>15:38:23</td>     <th>  Distribution:      </th> <td>chi2(6)</td>\n",
       "</tr>\n",
       "<tr>\n",
       "  <th>Cov. Estimator:</th>        <td>robust</td>      <th>                     </th>    <td></td>    \n",
       "</tr>\n",
       "<tr>\n",
       "  <th></th>                          <td></td>         <th>                     </th>    <td></td>    \n",
       "</tr>\n",
       "</table>\n",
       "<table class=\"simpletable\">\n",
       "<caption>Parameter Estimates</caption>\n",
       "<tr>\n",
       "      <td></td>      <th>Parameter</th> <th>Std. Err.</th> <th>T-stat</th>  <th>P-value</th> <th>Lower CI</th> <th>Upper CI</th>\n",
       "</tr>\n",
       "<tr>\n",
       "  <th>Intercept</th>  <td>0.1276</td>    <td>3.1412</td>   <td>0.0406</td>  <td>0.9676</td>   <td>-6.0290</td>  <td>6.2843</td> \n",
       "</tr>\n",
       "<tr>\n",
       "  <th>black</th>      <td>0.1134</td>    <td>0.1816</td>   <td>0.6244</td>  <td>0.5324</td>   <td>-0.2425</td>  <td>0.4692</td> \n",
       "</tr>\n",
       "<tr>\n",
       "  <th>exper</th>      <td>0.1515</td>    <td>0.0747</td>   <td>2.0274</td>  <td>0.0426</td>   <td>0.0050</td>   <td>0.2980</td> \n",
       "</tr>\n",
       "<tr>\n",
       "  <th>married</th>    <td>-0.0151</td>   <td>0.0147</td>   <td>-1.0258</td> <td>0.3050</td>   <td>-0.0438</td>  <td>0.0137</td> \n",
       "</tr>\n",
       "<tr>\n",
       "  <th>smsa</th>       <td>0.0201</td>    <td>0.1030</td>   <td>0.1949</td>  <td>0.8455</td>   <td>-0.1819</td>  <td>0.2220</td> \n",
       "</tr>\n",
       "<tr>\n",
       "  <th>south</th>      <td>-0.0319</td>   <td>0.0692</td>   <td>-0.4603</td> <td>0.6453</td>   <td>-0.1675</td>  <td>0.1038</td> \n",
       "</tr>\n",
       "<tr>\n",
       "  <th>educ</th>       <td>0.3618</td>    <td>0.1849</td>   <td>1.9562</td>  <td>0.0504</td>   <td>-0.0007</td>  <td>0.7243</td> \n",
       "</tr>\n",
       "</table><br/><br/>Endogenous: educ<br/>Instruments: nearc2<br/>Robust Covariance (Heteroskedastic)<br/>Debiased: False"
      ],
      "text/plain": [
       "<class 'linearmodels.compat.statsmodels.Summary'>\n",
       "\"\"\"\n",
       "                          IV-2SLS Estimation Summary                          \n",
       "==============================================================================\n",
       "Dep. Variable:                  lwage   R-squared:                     -1.3114\n",
       "Estimator:                    IV-2SLS   Adj. R-squared:                -1.3160\n",
       "No. Observations:                3010   F-statistic:                    289.62\n",
       "Date:                Fri, Dec 09 2022   P-value (F-stat)                0.0000\n",
       "Time:                        15:38:23   Distribution:                  chi2(6)\n",
       "Cov. Estimator:                robust                                         \n",
       "                                                                              \n",
       "                             Parameter Estimates                              \n",
       "==============================================================================\n",
       "            Parameter  Std. Err.     T-stat    P-value    Lower CI    Upper CI\n",
       "------------------------------------------------------------------------------\n",
       "Intercept      0.1276     3.1412     0.0406     0.9676     -6.0290      6.2843\n",
       "black          0.1134     0.1816     0.6244     0.5324     -0.2425      0.4692\n",
       "exper          0.1515     0.0747     2.0274     0.0426      0.0050      0.2980\n",
       "married       -0.0151     0.0147    -1.0258     0.3050     -0.0438      0.0137\n",
       "smsa           0.0201     0.1030     0.1949     0.8455     -0.1819      0.2220\n",
       "south         -0.0319     0.0692    -0.4603     0.6453     -0.1675      0.1038\n",
       "educ           0.3618     0.1849     1.9562     0.0504     -0.0007      0.7243\n",
       "==============================================================================\n",
       "\n",
       "Endogenous: educ\n",
       "Instruments: nearc2\n",
       "Robust Covariance (Heteroskedastic)\n",
       "Debiased: False\n",
       "\"\"\""
      ]
     },
     "execution_count": 9,
     "metadata": {},
     "output_type": "execute_result"
    }
   ],
   "source": [
    "#2SLS\n",
    "iv_reg = IV2SLS.from_formula(\"lwage ~  1 + exper + black + south + married + smsa + [educ ~ nearc2 ]\", card).fit()\n",
    "iv_reg.summary"
   ]
  },
  {
   "cell_type": "markdown",
   "id": "dbd65c62",
   "metadata": {},
   "source": [
    "Se obtiene un coefiente de 0.3618 a diferencia del 0.0712 de la regresión OLS, es decir aumenta. Sin embargo, revisando el p-value esta variable es mayor a 0.05 siendo de 0.0504 mientras en la regresión OLS esta es menor y cumple con ser estadisticamente significativa. De forma que, aumenta pero no es significativo y este cambio se debe en parte al usar el instrumental la cercanía en la que se vive (nearc2) para explicar la educacción y de esa forma el salario. Por otro lado, evaluando el estadístico F excede 15 y sugiere que no tenemos el porblema de un instrumental débil."
   ]
  }
 ],
 "metadata": {
  "kernelspec": {
   "display_name": "Python 3 (ipykernel)",
   "language": "python",
   "name": "python3"
  },
  "language_info": {
   "codemirror_mode": {
    "name": "ipython",
    "version": 3
   },
   "file_extension": ".py",
   "mimetype": "text/x-python",
   "name": "python",
   "nbconvert_exporter": "python",
   "pygments_lexer": "ipython3",
   "version": "3.9.12"
  }
 },
 "nbformat": 4,
 "nbformat_minor": 5
}
