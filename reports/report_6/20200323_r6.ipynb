{
 "cells": [
  {
   "cell_type": "markdown",
   "id": "f1eecd79",
   "metadata": {},
   "source": [
    "# REPORTE 6\n",
    "\n",
    "## Alexander Du-Bois Arana\n",
    "\n",
    "## Código: 20200323"
   ]
  },
  {
   "cell_type": "markdown",
   "id": "e8a9d8e3",
   "metadata": {},
   "source": [
    "### Lectura\n",
    "\n",
    "La lectura de Dynarski et al. busca responder a la pregunta de por qué los alumnos de bajos recursos con alto rendimiento no atienden a las mejores universidades, a pesar de que estas puedan darles ayuda económica y beneficios debido a su situación. La hipotesis de los autores es que debido a la sobrecarga de información y opciones, los alumnos tienden a elegir las opciones más cómodas a su situación, como por ejemplo una universidad cercana a donde uno vive, o a la cual sea fácil ingresar y graduarse. Asimismo, existen factores psicológiocos y sociales que generan un miedo a postular a universidades que pueden parecer no están al alcance de uno, como también el miedo a tener que pedir préstamos para pagar la universidad, y tener que dejar los estudios si sucede algún problema. Por lo tanto, los investigadores decidieron realizar un experimento de campo, tomando como población a alumnos con bajos recursos económicos y de alto rendimiento en Michigan, de los cuales a un grupo se les otorgó paquetes personalizados de información para postulaciones a la universidad de Michigan, que contenían una oferta de estudios universitarios totalmente pagada debido a su excelente rendimiento académico, explicando todas las condiciones de esta propuesta. Muchas de las comunicaciones acerca de la ayuda universitaria se hacen después de ser aceptados, por lo que muchos posibles postulantes desconocen estas oportunidades de apoyo. Por lo tanto, cambiar el tipo de información y el momento en que está disponible podría cambiar la decisión de estos adolescentes, y se podría explicar una relación de causalidad entre la manera en que los adolescentes de bajos recursos reciben motivación e información sobre las universidades de alto rendimiento, y su decisión de postular a ellas.\n",
    "\n",
    "Como hemos establecido, el trabajo utiliza un diseño de investigación experimental de campo, es decir, que introduce un estímulo a una muestra de la población para evidenciar su efecto en esta. Una de las principales fortalezas de este estudio es el alto grado de validez interna que genera. Con validez interna me refiero a la capacidad del experimento de mostrar una relación de causalidad. En este caso, se evidencia una causalidad del tipo \"efecto de la causa\", es decir, analizar cuál fue el impacto del estímulo en la población. En el caso de este experimento, se pudo comprobar exitosamente una relación causal entre la información recibida por los adolescentes, y los tres indicadores de su decisión de atender a una universidad de alto rendimiento. Y esta capacidad de obtener resultados casuales se debe a otra gran fortaleza del método experimental: la aleatoriedad. Esta herramienta se utilizó para dividir a la muestra de estudiantes en dos grandes grupos: el grupo control sin estímulo, y el grupo de tratamiento con la información personalizada. La división fue aleatoria, por lo que se controló que no existan sesgos en la selección ni otras variables que podían intervenir en la decisión de postular a la universidad, como la raza, el lugar donde vivían, el tamaño de su familia, o el tipo de carrera que querían estudiar.\n",
    "\n",
    "Sin embargo, estas ventajas siempre son un arma de doble filo, ya que también generan ciertas limitaciones en otros aspectos. Por ejemplo, una limitación evidente es la baja capacidad de generalización que estos resultados pueden tener fuera de la muestra con la que se experimento. Esto se conoce como un grado bajo de validez externa. Esto se debe a que los resultados de los experimentos, al ser controlados por los investigadores, son buenos para revelar relaciones causales dentro del entorno en el que el experimento se hizo a cabo. Por ejemplo, podemos afirmar con seguridad que exista una relación causal entre la información recibida y las probabilidades de un alumno de bajos recursos de postular a una universidad de alto rango, pero, en EEUU, especificamente en la Universidad de Michigan. Estos resultados no podrían ser llevados o generalizados al Perú por ejemplo, ya que estamos seguros que el estímulo es el causante de ese cambio, pero solo en el entorno controlado donde se realizó el experimento. Por lo tanto, se necesitarían de otros experimentos en otros contextos para poder generalizar estas conclusiones.\n",
    "\n",
    "La constribución del experimento es muy importante, ya que logra concluír que la información que se les presenta a los adolescentes de bajos recursos afecta su decisión y confianza para postular a una universidad de alto rendimiento. En el experimento se trabajó con dos grupos: el grupo de control, al cuál se entregó el material común de información acerca de las universidades; y el grupo de tratamiento, al cuál se le otorgó el estímulo, es decir, el nuevo material de postulación personalizado. La elección de estos grupos se hizo de manera aleatoria para eliminar cualquier sesgo o variable escondida que pudiese afectar la causalidad final. Para evidenciar este cambio en la probabilidad de postulación, se comparó a estos dos grupos en 3 categorías: aplicación, matriculación y persistencia. Finalmente, se pudo comprobar que esta intervención si tuvo un efecto causal en la selectividad de las postulaciones de alumnos de bajos recursos. Los alumnos de bajos ingresos que fueron expuestos a las nuevas comunicaciones del grupo de tratamiento fueron más propensos a postular a universidades de alto rendimiento como la de Michigan que los de alto ingreso, 6% más propensos para ser exactos. Y además, se redujo a la mitad la diferencia en asistencia a la universidad entre alumnos de altos y bajos ingresos. Este experimento demostró también que los alumnos también se vieron más motivados a explorar otras opciones a parte de la universidad de Michigan, y que el efecto de estas comunicaciones no solo fue para la aplicación, sino que ha logrado que estos alumnos persistan en sus estudios a lo largo del tiempo. Todo esto demuestra que la interfase, la longitud de los formularios, y hasta el momento en el que se entrega la información tienen un importante efecto en las decisiones de los alumnos que desean ir a la universidad, sobre todo aquellos de bajos recursos que tienen mayores dificultades en atender.\n",
    "\n",
    "Un avance que se podría hacer para seguir investigando estos temas es llevar esta investigación a nuevos territorios fuera de los EEUU. Por ejemplo, se podría replicar este tipo de experimentos en Europa, o incluso en Latinoamérica, para poder generar resultados válidos para estas otras regiones, que puede que nos demuestren las particularidades de cada tipo de alumnado y sus necesidades para luego poder trabajar en mejorar la manera en que se apoya a los alumnos de bajos recursos. También se podría analizar más profundamente otras variables, como por ejemplo como la preparación en el colegio afecta las decisiones de los estudiantes de atender a una universidad de alto rendimiento o no. Por otro lado, otros avances significativos ya se han hecho en otras áreas, por ejemplo, en el efecto de las comunicaciones en el bienestar de los alumnos dentro de las universidades. El estudio de Oreopoules et al. (2020) hizo un experimento donde se introdujo un estímulo a un grupo de estudiantes de pregrado, a quienes se les otorgó sesiones de reflexión y coaching a través de plataformas online y mensajes de texto. Los resultados obtenidos confirmaron que este tipo de comunicaciones tuvo un efecto positivo en la salud mental y disciplina y satisfacción escolar de los alumnos. Esto refuerza la idea de que muchas veces lo que necesitan los alumnos es un apoyo comunicativo, tanto para motivarse y decidir postular a las universidades, como para mejorar su bienestar dentro de estas.\n",
    "\n",
    "Bibliografía:\n",
    "\n",
    "- Dynarski, S., Libassi, C. J., Michelmore, K., & Owen, S. (2018). Closing the gap: The effect of a targeted, tuition-free promise on college choices of high-achieving, low-income students (No. w25349). National Bureau of Economic Research.\n",
    "- Oreopoulos, P., Petronijevic, U., Logel, C., & Beattie, G. (2020). Improving non-academic student outcomes using online and text-message coaching. Journal of Economic Behavior & Organization, 171, 342-360."
   ]
  }
 ],
 "metadata": {
  "kernelspec": {
   "display_name": "Python 3 (ipykernel)",
   "language": "python",
   "name": "python3"
  },
  "language_info": {
   "codemirror_mode": {
    "name": "ipython",
    "version": 3
   },
   "file_extension": ".py",
   "mimetype": "text/x-python",
   "name": "python",
   "nbconvert_exporter": "python",
   "pygments_lexer": "ipython3",
   "version": "3.9.12"
  }
 },
 "nbformat": 4,
 "nbformat_minor": 5
}
