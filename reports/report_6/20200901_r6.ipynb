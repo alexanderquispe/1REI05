{
 "cells": [
  {
   "cell_type": "markdown",
   "id": "c69b74bc",
   "metadata": {},
   "source": [
    "# Reporte 6\n",
    "##### Curso: Fundamentos de Macroeconomía (0651)\n",
    "##### Nombre: Sebastián Daniel Gómez Farje\n",
    "##### Código: 20200901\n",
    "##### Fecha: 30/10/2022"
   ]
  },
  {
   "cell_type": "markdown",
   "id": "f726b696",
   "metadata": {},
   "source": [
    "## Reporte de Lectura"
   ]
  },
  {
   "cell_type": "markdown",
   "id": "e0937910",
   "metadata": {},
   "source": [
    "En su artículo ‘Closing the gap: The effect of a targeted, tuition-free promise on college choices of high-achieving, low-income students’, Susan Dynarski et al. buscan aportar una posible respuesta a la problemática de la diferencia en la tasa de asistencia a universidades selectivas entre alumnos de alto rendimiento, pero diferente nivel económico. Los autores parten de la suposición de que, más que razones académicas o económicas, la principal razón por la que estudiantes de alto rendimiento y bajos recursos no postulan a universidades selectivas son motivos de información y fenómenos de comportamiento particulares. Por ejemplo, una priorización de la situación presente, lo cual genera aversión a posibles deudas estudiantiles futuras, y la generalizada presuposición de que, al ser estas universidades muy competitivas y selectas, no se podrían pagar. Así, el artículo presenta un experimento en que, mediante cartas personalizadas, se invita a que alumnos asistan a la University of Michigan, la más selecta del Estado, con toda la información y promesas incondicionales de financiamiento a largo plazo para comprobar si con ello aumenta la tasa de asistencia. Cabe resaltar que estas oportunidades ya existían, la carta solo busca brindarles exposición más directa."
   ]
  },
  {
   "cell_type": "markdown",
   "id": "a3b2b022",
   "metadata": {},
   "source": [
    "La pregunta de investigación que los autores indirectamente presentan para su artículo es la siguiente: ¿La diferencia en la tasa de asistencia a universidades competitivas entre alumnos de alto rendimiento con altos y bajos recursos es, en parte, explicada por la falta de información directa simplificada que pueden tener los tomadores de decisiones al momento de postular? Para ello, los autores presentan en el artículo su ya mencionado experimento. Tras la introducción y los antecedentes, los autores proceden a explicar la data y la muestra aleatoria que fueron utilizadas. Luego, explican la intervención a la muestra, es decir, el envío de las cartas y su contenido específico. Posteriormente, explican cómo o en qué aspectos se compararán los resultados entre quienes recibieron las cartas y quienes no, para finalmente mostrar los resultados y conclusiones del experimento."
   ]
  },
  {
   "cell_type": "markdown",
   "id": "59a53215",
   "metadata": {},
   "source": [
    "El artículo presenta tanto fortalezas como debilidades. Como fortaleza, se destaca la preocupación que los autores prestan a la aleatoriedad de la muestra para los grupos de control e intervenido. Como el experimento se basa en un esfuerzo junto al University of Michigan para enviar las cartas, la aleatoriedad (i.e. distribución de las cartas) fue más manejable. Así, se buscó (y podría argumentarse que se logró efectivamente) aleatoriedad en variables como área de residencia, género, raza, urbano o rural, y resultados SAT o GPA. No obstante, el artículo sí reconoce un único desbalance en la aleatoriedad de la muestra. Según la variable de tasa histórica de aplicación a la University of Michigan, había diferencia ya que las escuelas del grupo de control contaban con 6.7% mientras que las del grupo intervenido solo con 5.5.% aproximadamente. A excepción de aquello, el estudio también es formidable en redacción, presentación de los resultados y metodología (estrategia empírica), por lo que presenta pocas debilidades en general."
   ]
  },
  {
   "cell_type": "markdown",
   "id": "dfc66b8c",
   "metadata": {},
   "source": [
    "El aporte que el estudio brinda a la pregunta de investigación se demarca en las conclusiones. Con el experimento, los autores pudieron probar que la presentación de la información sí juega un factor importante en la toma de decisiones al momento de aplicar a universidades selectivas. Esto se comprueba por los resultados a los que llegaron, ya que el grupo de la muestra que fue intervenido presentó un alza significativa en la aplicación a la universidad selectiva del experimento. Es más, los autores recalcan que la aplicación de la carta con la información simplificada logró, en algunos casos, voltear la situación en tanto ahora había colegios intervenidos en que más estudiantes de bajos recursos aplicaron a la universidad que estudiantes de altos recursos. Los autores también concluyen que una universidad que provea muchas oportunidades de ayuda para estudiantes de bajos recursos puede no ser efectiva en su intento de reclutarlos si es que se requiere considerable tiempo y esfuerzo para informarse acerca de las particularidades de los costos, ayudas y oportunidades."
   ]
  },
  {
   "cell_type": "markdown",
   "id": "d2b095f1",
   "metadata": {},
   "source": [
    "Los siguientes pasos para avanzar la pregunta podría ser comprobar si este caso es particular para la región de estudio o el acceso a información específica y simplificada realmente tiene un efecto generalizado. Esto se debe a que la literatura acerca de las diferencias en la tasa de asistencia a universidades entre estudiantes de diferentes niveles socioeconómicos parece estar de acuerdo en que la información sí juega un importante factor en el porqué de la no asistencia de estudiantes de bajos recursos. Un pequeño artículo del programa de ayuda académica a estudiantes de bajos recursos Minds Matter en 2019 concluyó que el problema de la falta de información como factor determinante estaba también presente en el Estado de Colorado. En términos de estudios profesionales, la investigación de Cecilia Elena Rouse de 2004 ‘Low-Income Students and College Attendance: An Exploration of Income Expectations’ también identifica una baja tasa de asistencia a universidades por parte de estudiantes de bajos recursos, esta vez en Baltimore. El artículo también identifica que la información puede jugar un factor importante al momento de decidir atender, pero el objetivo principal del artículo es desmentir otro posible motivo que no es la falta de información: diferencia en expectativas de ingreso futuro. A nivel internacional, el breve artículo del Instituto para el Futuro de la Educación del Tecnológico de Monterrey, ‘El desafío de ser universitario de bajos recursos’, también concluye que la falta de información concisa de las universidades a estudiantes de bajos recursos es un factor determinante, pero se observa esta problemática en cuanto a la información acerca de relacionar el estudio y trabajo ante la necesidad de ingresos para dichos estudiantes. "
   ]
  }
 ],
 "metadata": {
  "kernelspec": {
   "display_name": "Python 3 (ipykernel)",
   "language": "python",
   "name": "python3"
  },
  "language_info": {
   "codemirror_mode": {
    "name": "ipython",
    "version": 3
   },
   "file_extension": ".py",
   "mimetype": "text/x-python",
   "name": "python",
   "nbconvert_exporter": "python",
   "pygments_lexer": "ipython3",
   "version": "3.9.12"
  }
 },
 "nbformat": 4,
 "nbformat_minor": 5
}
