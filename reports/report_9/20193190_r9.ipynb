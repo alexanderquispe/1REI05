{
 "cells": [
  {
   "cell_type": "markdown",
   "id": "a8904f59",
   "metadata": {},
   "source": [
    "# REPORTE Nº9:\n",
    "\n",
    "**Nombre: Samantha González Paredes**\n",
    "\n",
    "**Código: 20193190**\n",
    "\n",
    "### Social Media and Mental Health -Braghieri, Luca y Levy (2022)\n",
    "\n",
    "El texto de Braghieri, Luca y Levy (2022) se sitúa en el contexto del auge de la difusión de las redes sociales, a mediados de la década de 2000, ya que, a medida que las redes sociales comenzaron popularizarse, se empezó a ver un destacado empeoramiento de la salud mental de adolescentes y adultos jóvenes en los Estados Unidos. Tiendo ello como punto de partida, el texto se enfoca en responder si es que la introducción y difusión escalonada de Facebook en las universidades de EE.UU. tuvo un impacto negativo en la salud mental de los estudiantes, y si es así, por qué.\n",
    "\n",
    "Quizás, la principal fortaleza de este texto es encontrar que el despliegue escalonado de Facebook en las universidades aumentó los síntomas de mala salud mental entre los estudiantes, especialmente los síntomas de depresión. Con ello, también encontraron que los estudiantes más susceptibles a sufrir de trastornos mentales empezaron a utilizar más los servicios de salud mental, y que, tras la introducción de Facebook, aumentaron las probabilidades de que los estudiantes tuviesen dificultades con su rendimiento académico por sufrir de problemas de salud mental. Dicho análisis se basa en un diseño de investigación de diferencias generalizadas, donde una de las dimensiones de variación es la universidad a la que asiste el estudiante, y la otra dimensión es si el estudiante realizó la encuesta antes o después de la introducción de Facebook en su universidad. \n",
    "Para lograrlo, utilizaron datos de la encuesta de acoplamiento sobre la salud mental de los estudiantes universitarios recolectada en los años alrededor de la expansión de Facebook para, así, llegar a concluir que la introducción de dicha red social en las universidades tuvo un impacto negativo en la salud mental de los estudiantes. Además, usaron dos grupos de datos en el análisis: el primero especifica las fechas de la introducción de Facebook en múltiples universidades de EE. UU., y el segundo agrupa las respuestas a la encuesta más integral sobre la salud mental y física de los estudiantes disponible en ese momento (NCHA).\n",
    "\n",
    "Sin embargo, y a pesar de los resultados, la investigación cuenta con algunas debilidades que, además, son reconocidas por los autores. Dichas debilidades tienen que ver con que, en primer lugar, los resultados encontrados y explicados en el texto no se pueden extrapolar para evaluar los efectos de las redes sociales introducidas después del período de tiempo analizado por los autores. En segundo lugar, hay un inconveniente con los autoinformes, a pesar de que estos son el núcleo de la mayoría de los diagnósticos de salud mental y de que también forman parte de la estrategia empírica de este estudio, ya que pueden ser afectados por un error de medición debido al sesgo de recuerdo, falta de incentivos y problemas de imagen social, así que su precisión es reducida. En tercer lugar, la investigación está limitada para el estudio del empeoramiento de la salud mental en el grupo específico de adolescentes y adultos jóvenes, pero el experimento estaría más completo al también emplear la investigación sobre las redes sociales y sus efectos en la salud mental sobre otros grupos demográficos.\n",
    "\n",
    "Así, el documento avanza en la pregunta de investigación argumentando que, después de la introducción de Facebook, los estudiantes fueron más propensos a tener deficiencias en el rendimiento académico debido a su salud mental. Esto lo explican a través de estimaciones cuasi-experimentales del impacto de las redes sociales en la salud mental mediante un experimento natural: la introducción escalonada de Facebook en las universidades de EE. UU. en 2004-2006.\n",
    "En sí, considero que el principal aporte del texto es contribuir con la investigación de los efectos del uso de las redes sociales en la salud mental de los adultos jóvenes, además de ser un importante aporte para la literatura que estudia las causas y consecuencias de las enfermedades mentales en el aspecto específico del efecto de las redes sociales. Otra de las contribuciones del texto está en que proporciona una importante evidencia causal sobre los efectos de las redes sociales en la salud mental. Asimismo, complementa la literatura sobre experimentos relacionados a redes sociales en cuanto sus variables del resultado de salud mental son integrales y detalladas; en que sus estimaciones reportan los efectos de equilibrio generales de la introducción de las redes sociales en toda una comunidad; en que, en lugar de estudiar interrupciones a corto plazo en el uso de las redes sociales como el resto de experimentos, los evalúan durante varios semestres; y en que el estudio está dirigido, específicamente, hacia adultos jóvenes, la población que experimentó el mayor deterioro en salud mental.\n",
    "Aunque, en el caso específico del tema del texto, su principal hallazgo fue el evidenciar que la introducción de Facebook en las  universidades tuvo un efecto negativo en la salud mental de los estudiantes. Derivado de ello, los autores pudieron observar que los efectos negativos sobre la salud mental son más fuertes para aquellos que son más susceptibles a las enfermedades mentales, y que los efectos negativos de Facebook en la salud mental aumentaban según incrementaba la exposición de los estudiantes a dicha plataforma; lo cual se ve explicado por el aumento en las comparaciones sociales desfavorables entre los estudiantes y por un cambio en sus creencias sobre la vida social y los comportamientos de sus compañeros.\n",
    "\n",
    "Para lo que el autor propone, y actualizando el estudio hacia el efecto que tienen las redes sociales en la salud mental en la actualidad, se pueden identificar algunos pasos a seguir. Una alternativa sería seguir la metodología propuesta por Amate, Patil, Jojan y Morankar (2021), quienes buscaron recopilar y analizar información en tiempo real en redes sociales para examinar las interacciones y datos de pacientes psicológicos en sus redes sociales y así detectar patrones inusuales para ayudar a los trabajadores de la salud mental en la toma de decisiones. De esta forma, también buscaron establecer una relación entre las redes sociales y la salud mental, pero en tiempo real y por otros medios. Además de ello, los autores podrían guiarse por el estudio de Berryman, Ferguson y Negy (2018), quienes realizaron un experimento similar, pero obtuvieron resultados opuestos a través del uso de la Escala Multidimensional de Apoyo Social Percibido, un Inventario Breve de Síntomas medido con el índice de severidad global, y otras herramientas; encontrando que en realidad no hay evidencia que sustente las preocupaciones sobre el uso de las redes sociales. Seguir el estudio de Braghieri, Luca y Levy con los parámetros e indicadores de Berryman, Ferguson y Negy, quienes llegan a un resultado opuesto, dotaría de mayor fortaleza al experimento del primero si es que este llega a las mismas conclusiones que en su trabajo del 2022. \n",
    "\n",
    "\n",
    "**Bibliografía:** \n",
    "\n",
    "Amate, N., Patil, S., Jojan, P., y Morankar, S. (2021). Use of Social Media and Smartwatch Data Analytics for Mental Health Diagnosis. International Conference on Innovative Trends in Information Technology (ICITIIT), 2021, pp. 1-6. https://ieeexplore-ieee-org.ezproxybib.pucp.edu.pe/document/9399591?arnumber=9399591 \n",
    "\n",
    "Berryman, C., Ferguson, C. J., & Negy, C. (2018). Social Media Use and Mental Health among Young Adults. Psychiatric Quarterly, 89(2), 307–314. https://doi-org.ezproxybib.pucp.edu.pe/10.1007/s11126-017-9535-6 \n",
    "\n",
    "Braghieri, R., Luca, M., y Levy, A. (2022). Social Media and Mental Health. http://dx.doi.org/10.2139/ssrn.3919760 \n",
    "\n",
    "\n"
   ]
  }
 ],
 "metadata": {
  "kernelspec": {
   "display_name": "Python 3 (ipykernel)",
   "language": "python",
   "name": "python3"
  },
  "language_info": {
   "codemirror_mode": {
    "name": "ipython",
    "version": 3
   },
   "file_extension": ".py",
   "mimetype": "text/x-python",
   "name": "python",
   "nbconvert_exporter": "python",
   "pygments_lexer": "ipython3",
   "version": "3.9.12"
  }
 },
 "nbformat": 4,
 "nbformat_minor": 5
}
