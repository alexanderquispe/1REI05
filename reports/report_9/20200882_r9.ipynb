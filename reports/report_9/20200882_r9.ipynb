{
 "cells": [
  {
   "cell_type": "markdown",
   "id": "e59cbb50",
   "metadata": {},
   "source": [
    "Franco Hurtado Aguilar - 20200882\n",
    "\n",
    "## Reporte\n",
    "\n",
    "A los autores de este artículo les llamó particular atención el incremento de las redes sociales, y su consecuente aumento en el detrimento de la salud mental de los jóvenes, aumentando las tasas de depresión e incluso suicidio, tanto que se convirtió en un tema de discusión en el Senado estadounidense. En este contexto de predominancia de las redes sociales, los autores deciden revisar data acerca de la escalonada aparición de Facebook en las universidades de Estados Unidos, con el fin de responder ¿cuál es el impacto de las redes sociales en la salud mental de los universitarios?\n",
    "\n",
    "Considero que el trabajo realizado por los investigadores fue muy completo, ya que aprovecharon efectivamente la manera en la que Facebook se introdujo a los estudiantes universitarios de Estados Unidos para realizar un análisis del avance progresivo que la red social tuvo. Además, incluyeron y tomaron en cuenta diferentes variables para medir la salud mental de los estudiantes, como la exigencia académica de las universidades a las que los estudiantes asisten, factores externos como la economía y la diferencia en la exposición a Facebook a través del tiempo. Tomando estos detalles en consideración los resultados que obtuvieron resultan de mayor eficacia estadística. Sin embargo, considero que un detalle que se mencionó, pero no se profundiza es el hecho de que las redes sociales han mermado el desempeño académico de los estudiantes. Este es una conclusión que obtuvieron en el estudio, pero también es relevante en sus efectos sobre la salud mental, tal como ellos lo señalaron al incluir la variable de exigencia académica por universidad, pero no llegaron a realizar la conexión.\n",
    "\n",
    "La manera en que esta investigación avanza en el tema es bastante clara, ya que los autores mencionan que, si bien la relación entre el deterioro de la salud mental y las redes sociales era algo que se especulaba entre los académicos, hasta el momento existían pocas pruebas de esto. Tomando esto en cuenta, los investigadores han realizado un trabajo que evidencia satisfactoriamente esta relación.\n",
    "\n",
    "Tras el éxito mundial de Facebook, han ido surgiendo nuevas y más diversas redes sociales, por lo que a día de hoy existen muchas opciones para la población. Por lo tanto, los jóvenes siguen siendo los mayores consumidores de estas, y por lo tanto donde se observan la mayor parte de sus consecuencias. Sin embargo, con el paso de los años, la población juvenil se ha ido separando cada vez más de Facebook, y en la actualidad quienes la utilizan más son personas de un rango de edad mayor al de los sujetos de la investigación estudiada. Por lo tanto, considero que un siguiente paso para esta investigación sería determinar si las redes sociales siguen teniendo el mismo efecto en la salud mental, ya que existen nuevas propuestas que podrían disminuir, por ejemplo, el factor de comparación, considerando que en redes populares como Twitter, Discord o Reddit esta resulta difícil de apreciar, al haber mayor anonimidad y no enfocarse en la vida personal. \n"
   ]
  }
 ],
 "metadata": {
  "kernelspec": {
   "display_name": "Python 3 (ipykernel)",
   "language": "python",
   "name": "python3"
  },
  "language_info": {
   "codemirror_mode": {
    "name": "ipython",
    "version": 3
   },
   "file_extension": ".py",
   "mimetype": "text/x-python",
   "name": "python",
   "nbconvert_exporter": "python",
   "pygments_lexer": "ipython3",
   "version": "3.9.12"
  }
 },
 "nbformat": 4,
 "nbformat_minor": 5
}
