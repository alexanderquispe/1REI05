{
 "cells": [
  {
   "cell_type": "markdown",
   "id": "229ddb12",
   "metadata": {},
   "source": [
    "# Fundamentals of Macroeconomics\n",
    "\n",
    "Clases del curso para la Especialidad de Relaciones Internacionales en la Pontificia Universidad Católica del Perú.\n",
    "\n",
    "\n",
    "# Authors\n",
    "\n",
    "Ms.Sc. Alexander Quispe, Undergraduate Valeria Albarracín, Undergraduate Sandra Martínez\n",
    "\n",
    "\n",
    "\n",
    "\n",
    "```{tableofcontents}\n",
    "```\n",
    "\n",
    "\n",
    "```{admonition} Incoming website\n",
    "This JupyterBook will receive future updates. It's a draft. Not ready for publication.\n",
    "```\n",
    "\n",
    "\n",
    "```{admonition} Repository\n",
    "You can find all of these Python scripts in this [repository](https://github.com/alexanderquispe/1REI05/tree/main/1REI05_jb/notebooks). \n",
    "```"
   ]
  }
 ],
 "metadata": {
  "jupytext": {
   "text_representation": {
    "extension": ".md",
    "format_name": "myst"
   }
  },
  "kernelspec": {
   "display_name": "Python 3",
   "language": "python",
   "name": "python3"
  },
  "language_info": {
   "codemirror_mode": {
    "name": "ipython",
    "version": 3
   },
   "file_extension": ".py",
   "mimetype": "text/x-python",
   "name": "python",
   "nbconvert_exporter": "python",
   "pygments_lexer": "ipython3",
   "version": "3.7.11"
  },
  "source_map": [
   10
  ]
 },
 "nbformat": 4,
 "nbformat_minor": 5
}