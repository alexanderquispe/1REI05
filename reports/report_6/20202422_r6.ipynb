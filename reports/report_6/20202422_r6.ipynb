{
 "cells": [
  {
   "cell_type": "markdown",
   "id": "c214ce4f",
   "metadata": {},
   "source": [
    "# REPORTE 6\n",
    "Sarmiento, Luciana - 20202422"
   ]
  },
  {
   "cell_type": "markdown",
   "id": "258e4887",
   "metadata": {},
   "source": [
    "El artículo comienza con una premisa: “las brechas educativas entre estudiantes de bajos y altos ingresos son significativas y han aumentado en las últimas décadas”. Bajo este punto, el texto plantea una serie de respuestas o variables causales; entre estas se encuentra, principalmente, la diferencia en la preparación escolar. Sin embargo, los autores también reconocen brechas en el momento de la inscripción universitaria y la calidad de la universidad de asistencia. Tras este último punto hay un énfasis especial en los estudiantes de bajos ingresos debido a que se reconoce una serie de dinámicas especiales en las que se estima que la situación económica de dichos estudiantes es una variable a tomar en cuenta y que las comunicaciones personalizadas que brindan ayuda financiera están afectadas por lo dicho con anterioridad. Tras lo mencionado, la pregunta del artículo se puede centrar en: ¿cómo las comunicaciones personalizadas que ofrecen ayuda financiera afectan las decisiones de los estudiantes de bajos ingresos?\n",
    "\n",
    "La fortaleza del artículo es que elabora a profundidad el análisis del caso. El artículo no solo se queda en correlaciones superficiales, sino que avanza en el entendimiento de las relaciones causales de la correlación entre la postulación y la matricula a las universidades y la situación económica del estudiante. En este sentido, el artículo ha logrado encontrar que cuando se presentan comunicaciones específicas para la oferta a una beca, aumenta la probabilidad del estudiante de postular o matricularse en una universidad. Este hallazgo fortalece a la pregunta del artículo debido a que expone que uno o el principal motivo de los estudiantes para no matricularse o postular a la universidad se encuentra en limitaciones monetarias. Por otra parte, la buena metodología en el artículo genera confianza en los resultados. Por una parte, la aleatorización ayuda que no se presenten sesgos en el artículo; la intervención colaboró a evidenciar la causal: las limitaciones monetarias; y por ultimo, la estrategia empírica  basada en la experimentación, la observación y el análisis generó que sea factible poder hacer un estudio limpio del caso. Sin embargo, a pesar de todo lo mencionado, la debilidad más grande del artículo se encuentra en el tamaño de su estudio, si bien profundiza bastante en las respuestas a su pregunta, esto mismo hace que la respuesta no pueda ser extrapolada para otros casos. \n",
    "\n",
    "\n",
    "La mayor contribución del artículo se encuentra en la solidez que presenta el articulo para el análisis de las brechas presentes entre estudiantes de distintos niveles socioeconómicos. Así, el articulo refuerza el entendimiento sobre los problemas de la educación, en específico, sobre la injusticia en la calidad educativa; y, como esta se encuentra determinada por varios factores, entre estos, la brecha salarial entre los estudiantes. Asimismo, el artículo presenta soluciones y con esto, expone el problema y su relación con la brecha salarial: una oferta directa a los estudiantes de bajos ingresos puede afectar el porcentaje de solicitudes y de matrículas de los estudiantes. Esto no solo plantea una solución, sino que evidencia el problema en el sistema educativo y como está, en parte, determinada por la condición económica del estudiante.\n",
    "\n",
    "\n",
    "Un primer encuentro para avanzar a la pregunta de investigación podría ser contextualizar dicho problema en Perú. Según Yamada y Castro : “sobre la matricula en la educación superior en el Perú es su sesgo anti-pobre”. (2012 :23). Según dichos autores existe un sesgo que no permite visualizar el problema detrás de el acceso a la educación superior en el país. Asimismo, dichos autores proponen como principal variable explicativa a las restricciones monetarias de las familias.\n",
    "Un segundo avance a esta pregunta de investigación podría ser analizar si, una vez otorgadas las becas, existiría alguna brecha en los contratos que tendrán ambos estudiantes de distintos orígenes socioeconómicos en el ámbito laboral. Para esto, los estudiantes de alto rendimiento de altos y bajos ingresos tendrían que estar instaurados en los mismos centros de estudio. Considero este punto interesante debido a que si bien los estudiantes de bajos ingresos pueden tener la misma educación universitaria que los estudiantes de altos ingresos, considero que hay un componente social que limitaría el acceso de estos a buenos centros de trabajo, o al menos, requería mayor esfuerzo por parte del estudiante de bajos ingresos que del estudiante de altos ingresos. En este sentido, Jimenez y Zwerg-Villegas exponen en su artículo que se reconoce, en el mercado laboral colombiano, un “escenario de injusticia e inequidad laboral”. \n",
    "\n",
    "\n",
    "BIBLIOGRAFÍA \n",
    "\n",
    "Yamada, G., Castro, J. F., & Rivera, M. (2012). Educación superior en el Perú: Retos para el aseguramiento de la calidad.\n",
    "\n",
    "Dynarski, S., Libassi, C. J., Michelmore, K., & Owen, S. (2018). Closing the gap: The effect of a targeted, tuition-free promise on college choices of high-achieving, low-income students (No. w25349). National Bureau of Economic Research.\n",
    "\n",
    "Zwerg-Villegas, A. M., & Jiménez Aguilar, C. M. (2015). Discriminación Socioeconómica en La Inserción Laboral de Graduados Universitarios: Percepciones de los decanos de facultades de negocios. Revista mexicana de investigación educativa, 20(64), 71-93."
   ]
  },
  {
   "cell_type": "code",
   "execution_count": null,
   "id": "b98d91b3",
   "metadata": {},
   "outputs": [],
   "source": []
  }
 ],
 "metadata": {
  "kernelspec": {
   "display_name": "Python 3 (ipykernel)",
   "language": "python",
   "name": "python3"
  },
  "language_info": {
   "codemirror_mode": {
    "name": "ipython",
    "version": 3
   },
   "file_extension": ".py",
   "mimetype": "text/x-python",
   "name": "python",
   "nbconvert_exporter": "python",
   "pygments_lexer": "ipython3",
   "version": "3.9.12"
  }
 },
 "nbformat": 4,
 "nbformat_minor": 5
}
