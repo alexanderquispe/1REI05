{
 "cells": [
  {
   "cell_type": "markdown",
   "id": "4ec54071",
   "metadata": {},
   "source": [
    "# Examen Final\n",
    "Mariajose Murillo Q.\n",
    "20193538\n",
    "\n",
    "## 1. Instrumental Variables (IV)\n",
    "Suponga que estamos interesados en estudiar la relación entre educación(X) y el nivel de ingresos(Y). \n",
    "Un investigador propone utilizar como variable instrumental(Z) el numero de horas que una persona utilizó para ver televisión cuando era niño. \n",
    "\n",
    "- **Indetifique todos los elementos necesarios para implementar un enfoque de IV en este ejemplo**\n",
    "\n",
    "el \"Numero de horas utilizadas\", el cual es la variable instrumental nos permitiria aislar solo la front-door path que nos interesa y permitiendonos usar estadísticas y configuraciones oportunas en lugar de poder influir o aleatorizar cualquier cosa\n",
    "\n",
    "Asi mismo, debemos satisfacer 2 supuestos:\n",
    "\n",
    "_Relevancia_: Consiste en que para que \"Numero de horas utilizadas para ver television\" tenga relevancia, es decir, debe afectar a \"educacion\". Cuanto más fuerte sea esta covariación, más confianza se tendrá en la suposición de relevancia, si es que esto no sucede, entonces significara que nuestra variable isntrumental es débil y la estimación no funcionaria\n",
    "\n",
    "_Validez_ es la suposición de que \"Numero de horas utilizadas para ver television\" es una variable que no tiene backdoors abiertas propias, en otras palabras, cualquier camino entre la variable instrumental y \"nivel de ingresos\" debe pasar por el tratamiento \"educacion\". Es decir, que el numero de horas utilizadas para ver television debe explicar el actual nivel de ingresos a travez de la variable educacion, en donde si la variable instrumental tiene backdoors abiertas a otras variables (Z→A→Y), significa que hay un problema de validez \n",
    "\n",
    "- **Explique el procedimiento para encontrar el efecto causal en este escenario. Puede utilizar ecuaciones**\n",
    "\n",
    "Para encontrar un efecto causal de X sobre Y tenemos que incluir la variable instrumental Z para que X cumpla los supuestos ya mencionados.\n",
    "Sabiendo ello, debemos de tomar en cuenta el causal effect de Y, en donde cuando cambia, la correlacion para a ser causalidad debido a la relacion existente entre Z y Y, donde cuando Y cambia, Z tambien lo hace.\n",
    "\n",
    "Como lo explicaremos en la siguiente pregunta, se sostiene la hipotesis que cuando la variable instrumental aumenta, el nivel cognitivo disminuye (por lo tanto educacion e ingresos tambien lo haran) lo que nos dara una ecuacion como\n",
    "\n",
    "$$X ← Z → Y$$\n",
    "\n",
    "Psdta. Si queremos que se muestre una cadena de efectos causales que contenga toda la información necesaria para comprender la estrategia de variables instrumentales, se puede contar con DAG\n",
    "\n",
    "- **¿El efecto de la educación sobre el nivel de ingresos es positivo o negativo? Argumente si los resultados serian causales o solamente de correlación**\n",
    "\n",
    "Considero que el efecto de la educacion sobre el nivel de ingresos sera positivo si el individuo estudiado utilizo pocas horas de su ninez viendo television. Esto es porque, tomando en cuenta que la ninez es una etapa de aprendizage y absorcion de conocimientos, el consumo de television derivaria en una persona con un nivel cognitivo deficiente, lo cual afectaria su rendimiento escolar y posteriormente, su rendimiento universitario, haciendo que encuentre un trabajo comun con ingresos normales. Asi mismo, no debemos dejar de lado que la exposicion a la television causa sedentarismo, lo cual tambien perjudicaria su aprendizage \n",
    "\n",
    "Mientras que aquellos que hayan pasado menos tiempo en la television tendrian un mayor nivel de cognicion, que se reflejaria en sus notas, lo que lo llevaria a tener un mejor rendimiento educativo y por consiguiente, mayores probabilidades de tener un trabajo con buenos ingresos. \n",
    "\n",
    "Finalmente, se nos daria a entender que la variable instrumental \"Numero de horas utilizadas para ver television\" estan correlacionadas con el resultado\n",
    "\n",
    "\n",
    ".\n",
    "\n",
    "\n",
    "## 2. Regression Discontinuity Design (RDD)\n",
    "Supongamos que estamos estudiando la eficacia de un programa de becas creado por el gobierno Peruano sobre las notas de los alumnos al final del primer semestre en la universidad. PRONABEC ha decidido que entregará becas a aquellos postulantes que tengan un promedio superior durante la secundaria igual a 16 . \n",
    "\n",
    "- **Indetifique todos los elementos necesarios para implementar un RDD en este ejemplo.**\n",
    "\n",
    "Debemos de tomar en cuenta que la RDD nos permite poder realizar inferencias causales en ausencia de la aleatorización. Se aplica cuando la exposición de interés se asigna, por lo menos en un ámbito parcial, en función del valor de una variable aleatoria continua, si es que esta se encuentra por encima o por debajo de un valor umbral determinado y que a diferencia de otros enfoques, la RDD analiza las causas de la intervención estudiada a través de la asignación de un valor de corte que se encuentre debajo o arriba del asignado por la intervención.\n",
    "\n",
    "Sabiendo esto, identificamos en la premisa el valor del umbral determinado, el cual es _Promedio superior igual a 16_, en donde los estudiantes se encuentran por encima o por debajo de este valor de corte\n",
    "\n",
    "El primer elemento o supuesto necesario es que el resultado debe ser uniforme en el punto de corte: estamos estimando el efecto del corte y atribuyéndolo al tratamiento. Entonces, si algo más está cambiando en el corte, estamos en problemas. En otras palabras, si nadie cerca del punto de corte hubiera recibido tratamiento, o todos lo hubieran hecho o tenido las posibilidades de recibirlo, entonces no habría discontinuidad.\n",
    "\n",
    "Esto aplicado al caso, no se podría usar la RDD para obtener solo el efecto de [Promedios mayores a 16], ya que no se deben separar de [Programa de becas]. Asi mismo, la discontinuidad seguiria presente porque no todos los alumnos han obtenido un promedio superior a 16 ni un promedio inferior a este, en caso de que esto haya ocurrido, no hubiera sido posible emplear el RDD\n",
    "\n",
    "El segundo elemento es que la variable definitoria no puede ser manipulable: Si lo fuera, las unidades de observación podrían elegir su posición con respecto al corte (posiblemente basado en sus características observables y no observables) para influenciar si recibirían el tratamiento o no. esto haría imposible distinguir si las diferencias en la variable dependiente se deberían al tratamiento a alguna de estas características\n",
    "\n",
    "Aplicado al caso, los promedios iguales o mayores a 16 deben ser reales y no falseados/manipulados por alguna fuerza externa (corrección de profesores, corrupción, etc.), si no mantenerse de forma natural\n",
    "\n",
    "Finalmente, el tercero es que la discontinuidad de la regresión necesariamente se enfoca en una pequeña porción de los datos: al comparar solo a las personas de cada lado, estamos limitando severamente el tamaño de nuestra muestra y, por lo tanto, haciendo que nuestra estimación sea más ruidosa. Esto se podría arreglar incorporando más datos de personas más alejadas del límite, pero esto reintroduciría el sesgo del que estábamos tratando de deshacernos\n",
    "\n",
    "Aplicado al caso, nosotros estamos estudiando a los alumnos con promedios de 16, lo cual es una \"pequena porcion de los datos\", entiendiendo los limites de este enfoque, puesto que no nos interesa saber la situacion de aquellos alumnos con promedios menores a 14, 12, etc (porque ellos no recibiran la beca)\n",
    "\n",
    "\n",
    "- **Explique el procedimiento para encontrar el efecto causal en este escenario. Puede utilizar ecuaciones**\n",
    "\n",
    "El metodo en si mismo hara posible determinar la relacion causal de cambios en el status del treatment sobre la variable dependiente.\n",
    "\n",
    "Podemos identificar efectos causales para aquellos sujetos suya puntuacion se encuentra cerca al punto de corte, el cual es el unico punto donde los sujetos de tratamiento y control se superponen en el limite, el cual se puede identificar como\n",
    "$$X → C_0 $$\n",
    "\n",
    "Como sabemos, el limite es 16, entonces, al estar establecido en el mismo caso, podemos usar la Ecuacion Sharp Design\n",
    "\n",
    "- **¿El efecto de la politica sobre el rendimiento de los estudiantes sería positivo o negativo (solo necesitan usar su intuición)? Argumente si los resultados serian causales o solamente de correlación**\n",
    "\n",
    "Si tenemos politicas educativas que buscan implementar beneficios en el sector educativo como ofrecer becas a alumnos sobresalientes, apoyo financiero a estudiantes de bajos recursos, construccion de escuelas en lugares remotos, etc, entonces el efecto de la politica sobre el rendimiento estudiantil sera positivo. Sin embargo, si tenemos politicas que podrian afectar su situacion financiera o social como disminucion del salario de profesores (lo cual desembocara en huelgas y por consiguiente, perdida de clases) o la disminucion de inversion en el sector educacion, entonces el efecto sera negativo\n",
    "\n",
    "Usamos la RDD para identificar efectos causales de algún tratamiento, por lo tanto, los resultados de la regresión serán causales, ya que se establece la relación entre la causa (tener 16 o más de promedio en la secundaria) y el efecto (obtener una beca de PRONABEC). \n",
    "\n",
    "\n",
    ".\n",
    "\n",
    "\n",
    "## 3. Difference in Difference (DiD)\n",
    "Supongamos que estamos interesados en estudiar el impacto de la migración en la tasa de empleo en dos regiones del Perú en 2017-2018. Tenemos datos anuales sobre la tasa de empleo en Lima, que experimentó una afluencia significativa de inmigrantes en 2018,  y Puno que no experimentó el ingreso de migrantes (2017 ninguna de las regiones experimentó afluencia de migrantes). Podemos usar un análisis DID para comparar el cambio en las tasas de empleo entre las dos regiones a lo largo del tiempo para ver si la migración tuvo algún efecto.\n",
    "\n",
    "- **Indetifique todos los elementos necesarios para implementar un DiD en este ejemplo.**\n",
    "\n",
    "El planteamiento de este método requiere observar dos grupos de individuos (o entidades) en al menos dos momentos distintos del tiempo, siendo uno de esos dos grupos afectado por un cambio, cuyo efecto causal se pretende estimar.\n",
    "\n",
    "Siguiendo esa premisa, estos DOS grupos serian Lima y Puno, en donde el primero tuvo un incremento significativo de migrantes (este seria el cambio cuyo efecto causal en las tasas de empleo se quiere estimar) y el segundo no.\n",
    "Asi mismo, el caso cuenta con un periodo de tiempo especifico (2017 al 2018), es decir, que hubo un antes y un despues en la intervencion y ahora con el uso del DiD, nuestra mision seria desenredar el impacto de la intervencion.\n",
    "\n",
    "Asi mismo, tambien debemos tomar en cuenta la suposicion de tendencias paralelas, las cuales indican que si no se hubiera realizado ningún cambio, la diferencia entre el grupo tratado y el grupo no tratado se habría mantenido igual en el período posterior al tratamiento que en el período previo al tratamiento.\n",
    "Es decir, que si no hubieramos tenido una ola de migracion en Lima, las tasas de empleo se hubieran mantenido como estaban y sin cambiar en el tiempo.\n",
    "\n",
    "- **Explique el procedimiento para encontrar el efecto causal en este escenario. Puede utilizar ecuaciones**\n",
    "\n",
    "Como se menciono, se quiere estimar el efecto causal en el grupo afectado por el cambio, para ello, se procederia a la observacion de ambos.\n",
    "No obstante, tambien podriamos tomar dos subgrupos del grupo afectado (Lima) y el no afectado (Puno):\n",
    "- Lima 2017 (no afectado) lo que denominamos L17\n",
    "- Lima 2018 (afectado) = L18\n",
    "- Puno 2017 (no afectado) = P17\n",
    "- Puno 2018 (no afectado ) = P18\n",
    "\n",
    "Luego de ello, al tener valores distintos en los casos Puno y Lima, se procederia a hacer una resta doble para despues comparar los resultados:\n",
    "\n",
    "$$(L18 - L17) - (P18 - P17)$$\n",
    "\n",
    "Haciendo esto podemos saber los efectos causales de la migracion en la tasa de empleo\n",
    "\n",
    "\n",
    "- **¿El efecto de la migración sobre la tasa de empleo sería positivo o negativo (solo necesitan usar su intuición)? Argumente si los resultados serian causales o solamente de correlación**\n",
    "\n",
    "El efecto de la migracion sobre la tasa de empleo seria negativa, es decir, mientras haya mas migracion, la tasa de empleo en regiones como Lima disminuira. Esto se debe al incremento de la demanda de trabajo, la cual no es igual a la oferta (es decir, no existe equilibrio). Esto originaria desempleo no solo en individuos nacionales, si no tambien en los migrantes, y podria originar efectos como la delincuencia, pobreza, etc. Para ello, seria importante, mas alla de crear nuevos puestos de trabajo y oportunidades, implementar politicas que regulen la migracion y la centralizacion de demanda de trabajo en la capital, puesto que incluso antes de la llegada de la migracion, se tiene una tasa de desempleo que solo desemboca en la informalidad, lo cual disminuye las ganancias estatales y a su vez, priva de obras que podrian ser beneficiosas para los nacionales\n",
    "\n",
    "Estos resultados serian causales, ya que se estableceria una relacion entre la causa (migracion) y el efecto (disminucion de la tasa de empleo)\n",
    "\n",
    "\n",
    ".\n",
    "\n",
    "\n",
    "\n",
    "## 4. Lecturas\n",
    "**[Bell, A., Chetty, R., Jaravel, X., Petkova, N., & Van Reenen, J. (2019). Who becomes an inventor in America? The importance of exposure to innovation. The Quarterly Journal of Economics, 134(2), 647-713.]**\n",
    "- **¿Cuáles son las debilidades del enfoque del paper para responder su pregunta de investigación?**\n",
    "\n",
    "En términos generales, no se encontró debilidades significativas al articulo, no obstante, se considera que hubiera sido bueno incluir mas registros de distritos escolares. Es entendible que los autores hayan escogido a la ciudad de New York, puesto que es la que cuenta con mayor numero de habitantes en Estados Unidos, sin embargo, opino que hubiera sido de interés ver si el mismo fenómeno hallado en la presente investigación se refleja en ciudades como Phoenix, Arizona o en Dallas, Texas, quienes a pesar de estar también entre las ciudades más pobladas, el boom demográfico no fue tan centralizado como ha ocurrido en New York, el cual es el centro financiero del país.\n",
    "\n",
    "**[Dell, M. (2010). The persistent effects of Peru's mining mita. Econometrica, 78(6), 1863-1903]** \n",
    "- **¿Cuáles serían dos próximos pasos específicos para avanzar en su pregunta de investigación?**\n",
    "\n",
    "Los pasos específicos que propone la autora es el estudio de como el Estado puede ser utilizado para dar forma a interacciones económicas para apreciar de manera mas eficaz la desigualdad en el acceso a la tierra. Sin embargo, también se puede avanzar en la investigación estableciendo una comparación entre el caso de la minera de Potosí – Huancavelica con los de otros países, por ejemplo, México, en donde se desarrollo el virreinato de Nueva España, donde también se reclutaban personas de poblaciones cercanas para trabajar en las minas, a quienes se les trasladaba a “rancherías, pequeñas poblaciones que se convirtieron en centros que sirvieron para abastecer toda el área minera” (Commons, 1989), convirtiendo a esa zona en una de las fuentes de ingresos mas importantes para la Corona, produciendo hasta 27 000 000 en pesos\n",
    "\n",
    "Otro paso sería enfocarnos en el contexto social, ya que las comunidades quechuas no fueron las únicas afectadas por la invasión española. Morong (2006) explica que la mita “ya había asumido cierta importancia en función de los requerimientos que la economía colonial les imponía a las comunidades indígenas de Tarapacá”, obligando a los aimaras a trabajar en las minas argentinas de Huantajaya además de imponerles el pago de tributos. Ante la explotación, los familiares de los mitayos los acompañaban a las minas, poniendo en riesgo sus parcelas e incluso su posición en la comunidad, lo que, a largo plazo, quebró la sociedad indígena al no contar con suficientes varones adultos, esta baja demográfica, sumada a la dispersión territorial y al mal cuidado de la tierra, trajo miseria a los indígenas Sibaya y, por consiguiente, su desaparición en la zona de Tarapacá\n",
    "\n",
    "**Referencias**\n",
    "- Commons, A. (1989) La mineria en Nueva España en el siglo XVIII https://www.scielo.org.mx/pdf/igeo/n19/n19a6.pdf\n",
    "- Morong, G. (2006) El desierto y la miseria: indios y tributación en el sur peruano (Sibaya, 1822) http://dev.scielo.org.pe/scielo.php?script=sci_arttext&pid=S0254-92122006000100006"
   ]
  },
  {
   "cell_type": "code",
   "execution_count": 1,
   "id": "5494a010",
   "metadata": {},
   "outputs": [],
   "source": [
    "from causalgraphicalmodels import CausalGraphicalModel\n",
    "import os\n",
    "import numpy as np \n",
    "import pandas as pd \n",
    "import statsmodels.api as sm \n",
    "import statsmodels.formula.api as smf \n",
    "from itertools import combinations \n",
    "import statsmodels.api as sm\n",
    "import statsmodels.formula.api as smf\n",
    "from statsmodels.iolib.summary2 import summary_col\n",
    "import seaborn as sns\n",
    "import ipywidgets as widgets\n",
    "import matplotlib.pyplot as plt\n",
    "import numpy as np\n",
    "import sympy as sy\n",
    "import pandas as pd\n",
    "from causalgraphicalmodels import CausalGraphicalModel\n",
    "import plotnine as p\n",
    "import linearmodels.iv.model as lm\n",
    "from linearmodels.iv import IV2SLS"
   ]
  },
  {
   "cell_type": "markdown",
   "id": "f9397e6c",
   "metadata": {},
   "source": [
    "## 5. Codigo:\n",
    "## Ploteo de Histogramas\n",
    "Tienen que trabajar con la misma data de educacion que utilicé en la clase_11. En este documento encontrarán una descripción detallada de todas las variables en el dataset.\n",
    "\n",
    "Tomando en cuenta que **la variable nearc2 representa si existe un college en el county** debe realizar los siguientes ploteos de histogramas.\n",
    "\n",
    "- **Grafique dos histogramas para la variable años de educación educ para cuando nearc2 == 1, y cuando nearc2 == 0. Compare y describa los patrones que encuentra.**"
   ]
  },
  {
   "cell_type": "code",
   "execution_count": 9,
   "id": "5c3ce37d",
   "metadata": {},
   "outputs": [
    {
     "data": {
      "text/html": [
       "<div>\n",
       "<style scoped>\n",
       "    .dataframe tbody tr th:only-of-type {\n",
       "        vertical-align: middle;\n",
       "    }\n",
       "\n",
       "    .dataframe tbody tr th {\n",
       "        vertical-align: top;\n",
       "    }\n",
       "\n",
       "    .dataframe thead th {\n",
       "        text-align: right;\n",
       "    }\n",
       "</style>\n",
       "<table border=\"1\" class=\"dataframe\">\n",
       "  <thead>\n",
       "    <tr style=\"text-align: right;\">\n",
       "      <th></th>\n",
       "      <th>id</th>\n",
       "      <th>nearc2</th>\n",
       "      <th>nearc4</th>\n",
       "      <th>educ</th>\n",
       "      <th>age</th>\n",
       "      <th>fatheduc</th>\n",
       "      <th>motheduc</th>\n",
       "      <th>weight</th>\n",
       "      <th>momdad14</th>\n",
       "      <th>sinmom14</th>\n",
       "      <th>...</th>\n",
       "      <th>KWW</th>\n",
       "      <th>IQ</th>\n",
       "      <th>married</th>\n",
       "      <th>libcrd14</th>\n",
       "      <th>exper</th>\n",
       "      <th>lwage</th>\n",
       "      <th>expersq</th>\n",
       "      <th>u_lwage</th>\n",
       "      <th>lwage_hat</th>\n",
       "      <th>u_educ</th>\n",
       "    </tr>\n",
       "  </thead>\n",
       "  <tbody>\n",
       "    <tr>\n",
       "      <th>0</th>\n",
       "      <td>2.0</td>\n",
       "      <td>0.0</td>\n",
       "      <td>0.0</td>\n",
       "      <td>7.0</td>\n",
       "      <td>29.0</td>\n",
       "      <td>NaN</td>\n",
       "      <td>NaN</td>\n",
       "      <td>158413.0</td>\n",
       "      <td>1.0</td>\n",
       "      <td>0.0</td>\n",
       "      <td>...</td>\n",
       "      <td>15.0</td>\n",
       "      <td>NaN</td>\n",
       "      <td>1.0</td>\n",
       "      <td>0.0</td>\n",
       "      <td>16.0</td>\n",
       "      <td>6.306275</td>\n",
       "      <td>256.0</td>\n",
       "      <td>0.198047</td>\n",
       "      <td>6.108228</td>\n",
       "      <td>-3.067539</td>\n",
       "    </tr>\n",
       "    <tr>\n",
       "      <th>1</th>\n",
       "      <td>3.0</td>\n",
       "      <td>0.0</td>\n",
       "      <td>0.0</td>\n",
       "      <td>12.0</td>\n",
       "      <td>27.0</td>\n",
       "      <td>8.0</td>\n",
       "      <td>8.0</td>\n",
       "      <td>380166.0</td>\n",
       "      <td>1.0</td>\n",
       "      <td>0.0</td>\n",
       "      <td>...</td>\n",
       "      <td>35.0</td>\n",
       "      <td>93.0</td>\n",
       "      <td>1.0</td>\n",
       "      <td>1.0</td>\n",
       "      <td>9.0</td>\n",
       "      <td>6.175867</td>\n",
       "      <td>81.0</td>\n",
       "      <td>-0.211160</td>\n",
       "      <td>6.387027</td>\n",
       "      <td>-1.727562</td>\n",
       "    </tr>\n",
       "    <tr>\n",
       "      <th>2</th>\n",
       "      <td>4.0</td>\n",
       "      <td>0.0</td>\n",
       "      <td>0.0</td>\n",
       "      <td>12.0</td>\n",
       "      <td>34.0</td>\n",
       "      <td>14.0</td>\n",
       "      <td>12.0</td>\n",
       "      <td>367470.0</td>\n",
       "      <td>1.0</td>\n",
       "      <td>0.0</td>\n",
       "      <td>...</td>\n",
       "      <td>42.0</td>\n",
       "      <td>103.0</td>\n",
       "      <td>1.0</td>\n",
       "      <td>1.0</td>\n",
       "      <td>16.0</td>\n",
       "      <td>6.580639</td>\n",
       "      <td>256.0</td>\n",
       "      <td>0.204719</td>\n",
       "      <td>6.375920</td>\n",
       "      <td>1.012975</td>\n",
       "    </tr>\n",
       "    <tr>\n",
       "      <th>3</th>\n",
       "      <td>5.0</td>\n",
       "      <td>1.0</td>\n",
       "      <td>1.0</td>\n",
       "      <td>11.0</td>\n",
       "      <td>27.0</td>\n",
       "      <td>11.0</td>\n",
       "      <td>12.0</td>\n",
       "      <td>380166.0</td>\n",
       "      <td>1.0</td>\n",
       "      <td>0.0</td>\n",
       "      <td>...</td>\n",
       "      <td>25.0</td>\n",
       "      <td>88.0</td>\n",
       "      <td>1.0</td>\n",
       "      <td>1.0</td>\n",
       "      <td>10.0</td>\n",
       "      <td>5.521461</td>\n",
       "      <td>100.0</td>\n",
       "      <td>-0.967905</td>\n",
       "      <td>6.489366</td>\n",
       "      <td>-2.253536</td>\n",
       "    </tr>\n",
       "    <tr>\n",
       "      <th>4</th>\n",
       "      <td>6.0</td>\n",
       "      <td>1.0</td>\n",
       "      <td>1.0</td>\n",
       "      <td>12.0</td>\n",
       "      <td>34.0</td>\n",
       "      <td>8.0</td>\n",
       "      <td>7.0</td>\n",
       "      <td>367470.0</td>\n",
       "      <td>1.0</td>\n",
       "      <td>0.0</td>\n",
       "      <td>...</td>\n",
       "      <td>34.0</td>\n",
       "      <td>108.0</td>\n",
       "      <td>1.0</td>\n",
       "      <td>0.0</td>\n",
       "      <td>16.0</td>\n",
       "      <td>6.591674</td>\n",
       "      <td>256.0</td>\n",
       "      <td>0.125173</td>\n",
       "      <td>6.466501</td>\n",
       "      <td>1.090437</td>\n",
       "    </tr>\n",
       "  </tbody>\n",
       "</table>\n",
       "<p>5 rows × 37 columns</p>\n",
       "</div>"
      ],
      "text/plain": [
       "    id  nearc2  nearc4  educ   age  fatheduc  motheduc    weight  momdad14  \\\n",
       "0  2.0     0.0     0.0   7.0  29.0       NaN       NaN  158413.0       1.0   \n",
       "1  3.0     0.0     0.0  12.0  27.0       8.0       8.0  380166.0       1.0   \n",
       "2  4.0     0.0     0.0  12.0  34.0      14.0      12.0  367470.0       1.0   \n",
       "3  5.0     1.0     1.0  11.0  27.0      11.0      12.0  380166.0       1.0   \n",
       "4  6.0     1.0     1.0  12.0  34.0       8.0       7.0  367470.0       1.0   \n",
       "\n",
       "   sinmom14  ...   KWW     IQ  married  libcrd14  exper     lwage  expersq  \\\n",
       "0       0.0  ...  15.0    NaN      1.0       0.0   16.0  6.306275    256.0   \n",
       "1       0.0  ...  35.0   93.0      1.0       1.0    9.0  6.175867     81.0   \n",
       "2       0.0  ...  42.0  103.0      1.0       1.0   16.0  6.580639    256.0   \n",
       "3       0.0  ...  25.0   88.0      1.0       1.0   10.0  5.521461    100.0   \n",
       "4       0.0  ...  34.0  108.0      1.0       0.0   16.0  6.591674    256.0   \n",
       "\n",
       "    u_lwage  lwage_hat    u_educ  \n",
       "0  0.198047   6.108228 -3.067539  \n",
       "1 -0.211160   6.387027 -1.727562  \n",
       "2  0.204719   6.375920  1.012975  \n",
       "3 -0.967905   6.489366 -2.253536  \n",
       "4  0.125173   6.466501  1.090437  \n",
       "\n",
       "[5 rows x 37 columns]"
      ]
     },
     "execution_count": 9,
     "metadata": {},
     "output_type": "execute_result"
    }
   ],
   "source": [
    "# load data\n",
    "\n",
    "import ssl\n",
    "ssl._create_default_https_context = ssl._create_unverified_context\n",
    "\n",
    "def read_data(file): \n",
    "    return pd.read_stata(\"https://raw.github.com/scunning1975/mixtape/master/\" + file)\n",
    "\n",
    "final = read_data(\"card.dta\")\n",
    "final.head()"
   ]
  },
  {
   "cell_type": "code",
   "execution_count": 10,
   "id": "d3d7c217",
   "metadata": {},
   "outputs": [
    {
     "data": {
      "text/plain": [
       "<seaborn.axisgrid.FacetGrid at 0x1aff8a02190>"
      ]
     },
     "execution_count": 10,
     "metadata": {},
     "output_type": "execute_result"
    },
    {
     "data": {
      "image/png": "[encoded data removed]",
      "text/plain": [
       "<Figure size 720x360 with 2 Axes>"
      ]
     },
     "metadata": {
      "needs_background": "light"
     },
     "output_type": "display_data"
    }
   ],
   "source": [
    "sns.displot(final, x=\"educ\", col = \"nearc2\", color=\"darkred\")"
   ]
  },
  {
   "cell_type": "code",
   "execution_count": 11,
   "id": "c98c2692",
   "metadata": {},
   "outputs": [
    {
     "data": {
      "text/plain": [
       "<seaborn.axisgrid.FacetGrid at 0x1af84ecc7f0>"
      ]
     },
     "execution_count": 11,
     "metadata": {},
     "output_type": "execute_result"
    },
    {
     "data": {
      "image/png": "[encoded data removed]",
      "text/plain": [
       "<Figure size 412x360 with 1 Axes>"
      ]
     },
     "metadata": {
      "needs_background": "light"
     },
     "output_type": "display_data"
    }
   ],
   "source": [
    "sns.displot(final, x=\"educ\", hue=\"nearc2\", multiple=\"stack\")"
   ]
  },
  {
   "cell_type": "markdown",
   "id": "07d915cf",
   "metadata": {},
   "source": [
    "### INTERPRETACION:\n",
    "*tomamos en cuenta que nearc2 corresponde a \"1 if near 2 yr college\"*\n",
    "\n",
    "En los siguientes graficos se puede apreciar que los estudiantes quienes cuentan con un centro educativo cercano por 2 años (grupo de tratamiento) y quienes no (grupo de control=. La primera diferencia que se encuentra es en el grupo de 12 años, en donde ademas se empieza a aumentar la cantidad de personas que acceden a educacion, lo cual es comprensible considerando que es en esos años donde comenzara su formacion academica secundaria que sera un factor clave para el ingreso a la universidad, lo cual nos lleva a revisar a los estudiantes de 17 años, donde tambien hay diferencia entre ambos grupos, dandonos a entender que quienes tienen un centro educativo (en este caso, universidad) cerca, tienes mas posibilidades de acceder a la educacion superior a diferencia de quienes no, lo cual se podria explicar si tomamos en cuenta los costos en transporte, alimentacion y vivienda por un periodo de tiempo medio como lo es 2 años"
   ]
  },
  {
   "cell_type": "markdown",
   "id": "3d6d5d8f",
   "metadata": {},
   "source": [
    "- **Grafique dos histogramas para la variable logaritmos de los ingresos lwage para cuando nearc2 == 1, y cuando nearc2 == 0. Compare y describa los patrones que encuentra.**"
   ]
  },
  {
   "cell_type": "code",
   "execution_count": 12,
   "id": "c733a909",
   "metadata": {},
   "outputs": [
    {
     "data": {
      "text/plain": [
       "<seaborn.axisgrid.FacetGrid at 0x1af86364790>"
      ]
     },
     "execution_count": 12,
     "metadata": {},
     "output_type": "execute_result"
    },
    {
     "data": {
      "image/png": "[encoded data removed]",
      "text/plain": [
       "<Figure size 720x360 with 2 Axes>"
      ]
     },
     "metadata": {
      "needs_background": "light"
     },
     "output_type": "display_data"
    }
   ],
   "source": [
    "sns.displot(final, x=\"lwage\", col = \"nearc2\", color=\"darkolivegreen\")"
   ]
  },
  {
   "cell_type": "code",
   "execution_count": 13,
   "id": "93676bf1",
   "metadata": {},
   "outputs": [
    {
     "data": {
      "text/plain": [
       "<seaborn.axisgrid.FacetGrid at 0x1af8632fe50>"
      ]
     },
     "execution_count": 13,
     "metadata": {},
     "output_type": "execute_result"
    },
    {
     "data": {
      "image/png": "[encoded data removed]",
      "text/plain": [
       "<Figure size 412x360 with 1 Axes>"
      ]
     },
     "metadata": {
      "needs_background": "light"
     },
     "output_type": "display_data"
    }
   ],
   "source": [
    "sns.displot(final, x=\"lwage\", hue=\"nearc2\", multiple=\"stack\")"
   ]
  },
  {
   "cell_type": "markdown",
   "id": "5ce4a37e",
   "metadata": {},
   "source": [
    "### INTERPRETACION:\n",
    "\n",
    "En el ultimo grafico se puede ver con mucho mas claridad la diferencia entre ambos grupos, indicandonos que los estudiantes que viven cerca de una universidad perciben mas ingresos de quienes no lo hacen, en donde los salarios aumentan aproximadamente el doble. Esta informacion, complementada con la del anterior ejercicio, puede deberse a que aquellos estudiantes que no viven cerca a una universidad no pueden concluir sus estudios (recordando los gastos mencionados como vivienda, transporte, alimentacion, etc) debido a problemas economicos e incluso emocionales como estres al estar expuesto a la carga academica y economica a la vez. Otra hipotesis a tomar en cuenta es que a menudo las universidades se encuentran en entornos centricos de la ciudad, sabiendo ello, los que han vivido por mas de 2 años en una zona cercana a la universidad no solo se ahorraran gastos en alquiler de vivienda, si no que tambien conoceran mas el terreno en donde trabajan, habiendo establecido redes de contactos, etc a comparacion de los que no han vivido cerca en 2 años.No obstante, para confirmar estas hipotesis se necesitaria una investigacion a profundidad."
   ]
  },
  {
   "cell_type": "markdown",
   "id": "0a186b9b",
   "metadata": {},
   "source": [
    "## REGRESIONES:\n",
    "- **Corran una regresion lineal del tipo \"lwage ~ educ + exper + black + south + married + smsa\", y expliquen los resultados que encuentran.**"
   ]
  },
  {
   "cell_type": "code",
   "execution_count": 14,
   "id": "eb823fec",
   "metadata": {},
   "outputs": [
    {
     "data": {
      "text/html": [
       "<table class=\"simpletable\">\n",
       "<caption>OLS Regression Results</caption>\n",
       "<tr>\n",
       "  <th>Dep. Variable:</th>          <td>lwage</td>      <th>  R-squared:         </th> <td>   0.305</td> \n",
       "</tr>\n",
       "<tr>\n",
       "  <th>Model:</th>                   <td>OLS</td>       <th>  Adj. R-squared:    </th> <td>   0.304</td> \n",
       "</tr>\n",
       "<tr>\n",
       "  <th>Method:</th>             <td>Least Squares</td>  <th>  F-statistic:       </th> <td>   219.2</td> \n",
       "</tr>\n",
       "<tr>\n",
       "  <th>Date:</th>             <td>Fri, 09 Dec 2022</td> <th>  Prob (F-statistic):</th> <td>1.97e-232</td>\n",
       "</tr>\n",
       "<tr>\n",
       "  <th>Time:</th>                 <td>16:18:23</td>     <th>  Log-Likelihood:    </th> <td> -1273.9</td> \n",
       "</tr>\n",
       "<tr>\n",
       "  <th>No. Observations:</th>      <td>  3003</td>      <th>  AIC:               </th> <td>   2562.</td> \n",
       "</tr>\n",
       "<tr>\n",
       "  <th>Df Residuals:</th>          <td>  2996</td>      <th>  BIC:               </th> <td>   2604.</td> \n",
       "</tr>\n",
       "<tr>\n",
       "  <th>Df Model:</th>              <td>     6</td>      <th>                     </th>     <td> </td>    \n",
       "</tr>\n",
       "<tr>\n",
       "  <th>Covariance Type:</th>      <td>nonrobust</td>    <th>                     </th>     <td> </td>    \n",
       "</tr>\n",
       "</table>\n",
       "<table class=\"simpletable\">\n",
       "<tr>\n",
       "      <td></td>         <th>coef</th>     <th>std err</th>      <th>t</th>      <th>P>|t|</th>  <th>[0.025</th>    <th>0.975]</th>  \n",
       "</tr>\n",
       "<tr>\n",
       "  <th>Intercept</th> <td>    5.0633</td> <td>    0.064</td> <td>   79.437</td> <td> 0.000</td> <td>    4.938</td> <td>    5.188</td>\n",
       "</tr>\n",
       "<tr>\n",
       "  <th>educ</th>      <td>    0.0712</td> <td>    0.003</td> <td>   20.438</td> <td> 0.000</td> <td>    0.064</td> <td>    0.078</td>\n",
       "</tr>\n",
       "<tr>\n",
       "  <th>exper</th>     <td>    0.0342</td> <td>    0.002</td> <td>   15.422</td> <td> 0.000</td> <td>    0.030</td> <td>    0.038</td>\n",
       "</tr>\n",
       "<tr>\n",
       "  <th>black</th>     <td>   -0.1660</td> <td>    0.018</td> <td>   -9.426</td> <td> 0.000</td> <td>   -0.201</td> <td>   -0.131</td>\n",
       "</tr>\n",
       "<tr>\n",
       "  <th>south</th>     <td>   -0.1316</td> <td>    0.015</td> <td>   -8.788</td> <td> 0.000</td> <td>   -0.161</td> <td>   -0.102</td>\n",
       "</tr>\n",
       "<tr>\n",
       "  <th>married</th>   <td>   -0.0359</td> <td>    0.003</td> <td>  -10.547</td> <td> 0.000</td> <td>   -0.043</td> <td>   -0.029</td>\n",
       "</tr>\n",
       "<tr>\n",
       "  <th>smsa</th>      <td>    0.1758</td> <td>    0.015</td> <td>   11.372</td> <td> 0.000</td> <td>    0.145</td> <td>    0.206</td>\n",
       "</tr>\n",
       "</table>\n",
       "<table class=\"simpletable\">\n",
       "<tr>\n",
       "  <th>Omnibus:</th>       <td>53.196</td> <th>  Durbin-Watson:     </th> <td>   1.858</td>\n",
       "</tr>\n",
       "<tr>\n",
       "  <th>Prob(Omnibus):</th> <td> 0.000</td> <th>  Jarque-Bera (JB):  </th> <td>  69.430</td>\n",
       "</tr>\n",
       "<tr>\n",
       "  <th>Skew:</th>          <td>-0.231</td> <th>  Prob(JB):          </th> <td>8.38e-16</td>\n",
       "</tr>\n",
       "<tr>\n",
       "  <th>Kurtosis:</th>      <td> 3.584</td> <th>  Cond. No.          </th> <td>    154.</td>\n",
       "</tr>\n",
       "</table><br/><br/>Notes:<br/>[1] Standard Errors assume that the covariance matrix of the errors is correctly specified."
      ],
      "text/plain": [
       "<class 'statsmodels.iolib.summary.Summary'>\n",
       "\"\"\"\n",
       "                            OLS Regression Results                            \n",
       "==============================================================================\n",
       "Dep. Variable:                  lwage   R-squared:                       0.305\n",
       "Model:                            OLS   Adj. R-squared:                  0.304\n",
       "Method:                 Least Squares   F-statistic:                     219.2\n",
       "Date:                Fri, 09 Dec 2022   Prob (F-statistic):          1.97e-232\n",
       "Time:                        16:18:23   Log-Likelihood:                -1273.9\n",
       "No. Observations:                3003   AIC:                             2562.\n",
       "Df Residuals:                    2996   BIC:                             2604.\n",
       "Df Model:                           6                                         \n",
       "Covariance Type:            nonrobust                                         \n",
       "==============================================================================\n",
       "                 coef    std err          t      P>|t|      [0.025      0.975]\n",
       "------------------------------------------------------------------------------\n",
       "Intercept      5.0633      0.064     79.437      0.000       4.938       5.188\n",
       "educ           0.0712      0.003     20.438      0.000       0.064       0.078\n",
       "exper          0.0342      0.002     15.422      0.000       0.030       0.038\n",
       "black         -0.1660      0.018     -9.426      0.000      -0.201      -0.131\n",
       "south         -0.1316      0.015     -8.788      0.000      -0.161      -0.102\n",
       "married       -0.0359      0.003    -10.547      0.000      -0.043      -0.029\n",
       "smsa           0.1758      0.015     11.372      0.000       0.145       0.206\n",
       "==============================================================================\n",
       "Omnibus:                       53.196   Durbin-Watson:                   1.858\n",
       "Prob(Omnibus):                  0.000   Jarque-Bera (JB):               69.430\n",
       "Skew:                          -0.231   Prob(JB):                     8.38e-16\n",
       "Kurtosis:                       3.584   Cond. No.                         154.\n",
       "==============================================================================\n",
       "\n",
       "Notes:\n",
       "[1] Standard Errors assume that the covariance matrix of the errors is correctly specified.\n",
       "\"\"\""
      ]
     },
     "execution_count": 14,
     "metadata": {},
     "output_type": "execute_result"
    }
   ],
   "source": [
    "#OLS\n",
    "ols_reg = sm.OLS.from_formula(\"lwage ~ educ + exper + black + south + married + smsa\", \n",
    "              data = final).fit()\n",
    "\n",
    "ols_reg.summary()"
   ]
  },
  {
   "cell_type": "markdown",
   "id": "94acc5a1",
   "metadata": {},
   "source": [
    "### INTERPRETACION\n",
    "A partir de las cifras mostradas podemos concluir que las variables son estadisticamente significativas dado que los p-value encontrados son inferiores a 0.05, lo que tambien nos indicaria la existencia de una correlacion. Ademas de ello, que los años adicionales de educacion son proporcionales al niveles de ingreso (aumentando en 0.0712 unidades por cada año). Otro dato es que si la persona es afrodescendiente, los ingresos le seran inversamente proporcionales (disminuyendo 0.16), y se espera que se disminuya aun mas si la persona reside en el sur, disminuyendo 13%, y aun mas si esta casada, lo que reduce su ingreso en 3%"
   ]
  },
  {
   "cell_type": "markdown",
   "id": "bde60915",
   "metadata": {},
   "source": [
    "- **Corran una regresion de tipo IV(usando el paquete IV2SLS) donde van a instrumentalizar la variable educ con nearc2. Compare los resultados encontrados usando IV2SLS con la primera regresión. ¿Cambió el coeficiente relacionado a educ , por qué?**"
   ]
  },
  {
   "cell_type": "code",
   "execution_count": 15,
   "id": "a295d9e6",
   "metadata": {},
   "outputs": [
    {
     "data": {
      "text/html": [
       "<table class=\"simpletable\">\n",
       "<caption>IV-2SLS Estimation Summary</caption>\n",
       "<tr>\n",
       "  <th>Dep. Variable:</th>          <td>lwage</td>      <th>  R-squared:         </th> <td>-1.3114</td>\n",
       "</tr>\n",
       "<tr>\n",
       "  <th>Estimator:</th>             <td>IV-2SLS</td>     <th>  Adj. R-squared:    </th> <td>-1.3160</td>\n",
       "</tr>\n",
       "<tr>\n",
       "  <th>No. Observations:</th>       <td>3010</td>       <th>  F-statistic:       </th> <td>289.62</td> \n",
       "</tr>\n",
       "<tr>\n",
       "  <th>Date:</th>             <td>Fri, Dec 09 2022</td> <th>  P-value (F-stat)   </th> <td>0.0000</td> \n",
       "</tr>\n",
       "<tr>\n",
       "  <th>Time:</th>                 <td>16:19:43</td>     <th>  Distribution:      </th> <td>chi2(6)</td>\n",
       "</tr>\n",
       "<tr>\n",
       "  <th>Cov. Estimator:</th>        <td>robust</td>      <th>                     </th>    <td></td>    \n",
       "</tr>\n",
       "<tr>\n",
       "  <th></th>                          <td></td>         <th>                     </th>    <td></td>    \n",
       "</tr>\n",
       "</table>\n",
       "<table class=\"simpletable\">\n",
       "<caption>Parameter Estimates</caption>\n",
       "<tr>\n",
       "      <td></td>      <th>Parameter</th> <th>Std. Err.</th> <th>T-stat</th>  <th>P-value</th> <th>Lower CI</th> <th>Upper CI</th>\n",
       "</tr>\n",
       "<tr>\n",
       "  <th>Intercept</th>  <td>0.1276</td>    <td>3.1412</td>   <td>0.0406</td>  <td>0.9676</td>   <td>-6.0290</td>  <td>6.2843</td> \n",
       "</tr>\n",
       "<tr>\n",
       "  <th>black</th>      <td>0.1134</td>    <td>0.1816</td>   <td>0.6244</td>  <td>0.5324</td>   <td>-0.2425</td>  <td>0.4692</td> \n",
       "</tr>\n",
       "<tr>\n",
       "  <th>exper</th>      <td>0.1515</td>    <td>0.0747</td>   <td>2.0274</td>  <td>0.0426</td>   <td>0.0050</td>   <td>0.2980</td> \n",
       "</tr>\n",
       "<tr>\n",
       "  <th>married</th>    <td>-0.0151</td>   <td>0.0147</td>   <td>-1.0258</td> <td>0.3050</td>   <td>-0.0438</td>  <td>0.0137</td> \n",
       "</tr>\n",
       "<tr>\n",
       "  <th>smsa</th>       <td>0.0201</td>    <td>0.1030</td>   <td>0.1949</td>  <td>0.8455</td>   <td>-0.1819</td>  <td>0.2220</td> \n",
       "</tr>\n",
       "<tr>\n",
       "  <th>south</th>      <td>-0.0319</td>   <td>0.0692</td>   <td>-0.4603</td> <td>0.6453</td>   <td>-0.1675</td>  <td>0.1038</td> \n",
       "</tr>\n",
       "<tr>\n",
       "  <th>educ</th>       <td>0.3618</td>    <td>0.1849</td>   <td>1.9562</td>  <td>0.0504</td>   <td>-0.0007</td>  <td>0.7243</td> \n",
       "</tr>\n",
       "</table><br/><br/>Endogenous: educ<br/>Instruments: nearc2<br/>Robust Covariance (Heteroskedastic)<br/>Debiased: False"
      ],
      "text/plain": [
       "<class 'linearmodels.compat.statsmodels.Summary'>\n",
       "\"\"\"\n",
       "                          IV-2SLS Estimation Summary                          \n",
       "==============================================================================\n",
       "Dep. Variable:                  lwage   R-squared:                     -1.3114\n",
       "Estimator:                    IV-2SLS   Adj. R-squared:                -1.3160\n",
       "No. Observations:                3010   F-statistic:                    289.62\n",
       "Date:                Fri, Dec 09 2022   P-value (F-stat)                0.0000\n",
       "Time:                        16:19:43   Distribution:                  chi2(6)\n",
       "Cov. Estimator:                robust                                         \n",
       "                                                                              \n",
       "                             Parameter Estimates                              \n",
       "==============================================================================\n",
       "            Parameter  Std. Err.     T-stat    P-value    Lower CI    Upper CI\n",
       "------------------------------------------------------------------------------\n",
       "Intercept      0.1276     3.1412     0.0406     0.9676     -6.0290      6.2843\n",
       "black          0.1134     0.1816     0.6244     0.5324     -0.2425      0.4692\n",
       "exper          0.1515     0.0747     2.0274     0.0426      0.0050      0.2980\n",
       "married       -0.0151     0.0147    -1.0258     0.3050     -0.0438      0.0137\n",
       "smsa           0.0201     0.1030     0.1949     0.8455     -0.1819      0.2220\n",
       "south         -0.0319     0.0692    -0.4603     0.6453     -0.1675      0.1038\n",
       "educ           0.3618     0.1849     1.9562     0.0504     -0.0007      0.7243\n",
       "==============================================================================\n",
       "\n",
       "Endogenous: educ\n",
       "Instruments: nearc2\n",
       "Robust Covariance (Heteroskedastic)\n",
       "Debiased: False\n",
       "\"\"\""
      ]
     },
     "execution_count": 15,
     "metadata": {},
     "output_type": "execute_result"
    }
   ],
   "source": [
    "final['married'] = final['married'].fillna(0)\n",
    "#2SLS\n",
    "iv_reg = IV2SLS.from_formula(\"lwage ~  1 + exper + black + south + married + smsa + [educ ~ nearc2 ]\", final).fit()\n",
    "iv_reg.summary"
   ]
  },
  {
   "cell_type": "markdown",
   "id": "0f34c9a5",
   "metadata": {},
   "source": [
    "### INTERPRETACION:\n",
    "Tomando en cuenta las cifras, la unica variable estadisticamente significativa es exper (años de experiencia), puesto que,a diferencia de las demas, es la unica que tiene un p-value inferior a 0.05. \n",
    "\n",
    "**Comparando esta tabla con la anterior**, podemos apreciar que la variable educacion a aumentado, dando como resultado que el nivel de ingresos de los estudiantes aumenta un 36% (0.3618) por cada año de estudios. Asi mismo, que el instrumental es fuerte dado que el F-statistic supera enormemente a 15"
   ]
  }
 ],
 "metadata": {
  "kernelspec": {
   "display_name": "Python 3 (ipykernel)",
   "language": "python",
   "name": "python3"
  },
  "language_info": {
   "codemirror_mode": {
    "name": "ipython",
    "version": 3
   },
   "file_extension": ".py",
   "mimetype": "text/x-python",
   "name": "python",
   "nbconvert_exporter": "python",
   "pygments_lexer": "ipython3",
   "version": "3.9.12"
  }
 },
 "nbformat": 4,
 "nbformat_minor": 5
}
