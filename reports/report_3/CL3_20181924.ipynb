{
 "cells": [
  {
   "cell_type": "code",
   "execution_count": 1,
   "id": "d9f6fd92",
   "metadata": {},
   "outputs": [],
   "source": [
    "%matplotlib inline\n",
    "import matplotlib.pyplot as plt\n",
    "import numpy as np\n",
    "import sympy as sy\n",
    "import pandas as pd\n",
    "import numpy as np\n",
    "import random\n",
    "import math\n",
    "import sklearn\n",
    "import scipy as sp\n",
    "import networkx\n",
    "import statsmodels.api as sm\n",
    "import statsmodels.formula.api as smf\n",
    "from statsmodels.iolib.summary2 import summary_col\n",
    "from causalgraphicalmodels import CausalGraphicalModel"
   ]
  },
  {
   "cell_type": "markdown",
   "id": "11ffbf4d",
   "metadata": {},
   "source": [
    "En el texto de los autores, Waldo, Mancilla y Velarde, propone emular y poder decribir los hechos ocurridos vinculados a la caida del PIB en el año 2020 como consecuencia de la crisis sanitaria (y economica) del covid19 y la cuaretena obligatoria, así como la pronta y tajante recuperación que ha tenido en el año 2021, siendo el Perú uno de los casos más representativos en ambos casos. Por lo que las preguntas que habrían motivado a los autores a escribir el artículo serían \"¿Como fue que el covid19 y la cuarentena obligatoria provocó la caida del 11% en el PIB en el Perú en el año 2020?\" y \"¿Cómo es que el Perú pudo recuperarse de dicha crisis el año siguiente 2021?\"."
   ]
  },
  {
   "cell_type": "markdown",
   "id": "2b586c19",
   "metadata": {},
   "source": [
    "Un acierto de este artìculo al estudiar la productividad de las actividades economicas, fue el de separarlo en dos sectores en funciòn a su nivel de afectaciòn por la cuarentena. El primer sector eran los rubros directamente afectados (hotelerias, restaurantes, aerolineas) y el segundo eran los afectados inidirectamente  por el shock de demanda negativo del sector 1 (produccion de alimentos, bienes y servicios indispensables), por lo que la recesiòn pudo ser revertida en el momento que se termina la cuarentena. Asimismo, los ejercicios realizados suponiendo que las caidas del consumo y el PIB son o bien permanentes, o bien transitorias, es una buen ejercicio para analizar ambos supuestos dentro del modelo. No obstante, limita "
   ]
  },
  {
   "cell_type": "markdown",
   "id": "c0a7128c",
   "metadata": {},
   "source": [
    "En ese sentido, vemos que la principal contribuciòn es sentar una base para la formulaciòn de futuros modelos alternativos sobre dichos fenomenos de desplome y recuperaciòn del PIB como consecuencia del covid19. Tal vez la idea un ejercicio de estatica comparativa que tome en cuenta la respuesta politica, o considerando a los agentes con expectativas racionales que igualase eñ precio esperado con el precio de equilibrio, o enfocarse más en el producto potencial en lugar de solo en la demanda de una politica de estabilización."
   ]
  },
  {
   "cell_type": "markdown",
   "id": "df8a7190",
   "metadata": {},
   "source": []
  },
  {
   "cell_type": "markdown",
   "id": "15a6fbc6",
   "metadata": {},
   "source": [
    "1) Explique cuáles son los intrumentos de política monetaria que puede utilizar el Banco Central"
   ]
  },
  {
   "cell_type": "markdown",
   "id": "2b6cde5a",
   "metadata": {},
   "source": [
    "El Banco Central es la autoridad monetaria y cabeza del sistema bancario. Como tal tiene la capacidad de controlar o gestionar la oferta monetaria; es decir, de hacer política monetaria expansiva o contractiva mediante el uso de determinados instrumentos, por ejemplo, la oferta de dinero. Los intrumentos con los que cuenta\n"
   ]
  },
  {
   "cell_type": "markdown",
   "id": "e3df26ca",
   "metadata": {},
   "source": [
    "El primer instrumento de política monetaria que utiliza el Banco Central para aumentar o disminuir la oferta monetaria, es la Operación de Mercado Abierto. El Banco Central hace estas operaciones mediante la compra (Politica monetaria expansiva) o venta (Politica Monetaria Contractiva) de activos financieros o bonos a los bancos privados. "
   ]
  },
  {
   "cell_type": "markdown",
   "id": "a92952a8",
   "metadata": {},
   "source": [
    "Aparte de las operaciones de mercado abierto, el banco central dispone como segundo instrumento el coeficiente legal de encaje.\n",
    "Puede incrementar la cantidad de dinero que tienen los bancos y con ello la oferta monetaria para realizar préstamos mediante la disminución de la tasa de encaje (Expansiva), o aumenta el coeficiente de encaje y disminuir la ofeerta monetaria (contractiva)"
   ]
  },
  {
   "cell_type": "markdown",
   "id": "2a851a11",
   "metadata": {},
   "source": [
    "La tasa de interés -en este modelo- se convirtió en instrumento de política y la oferta monetaria pasó a ser una variable endógena. La tasa de política es la tasa de interés de referenciade la política monetaria. De este modo reduce la tasa de interés de referencia y aumenta la cantidad de dinero prestada a los bancos comerciales,lo que aumenta la oferta monetaria (expansiva). Asi también, puede aumentar la tasa de interés de referenciao, lo que disminuye la cantidad de dinero prestada a los bancos comerciales y con ello la oferta monetaria (contractiva).\n"
   ]
  },
  {
   "cell_type": "markdown",
   "id": "6ebe040b",
   "metadata": {},
   "source": [
    "2) Derive la oferta real de dinero y explique cada uno de sus componentes."
   ]
  },
  {
   "cell_type": "markdown",
   "id": "54495ecd",
   "metadata": {},
   "source": [
    "Para ello se parte de que la oferta nominal de dinero (𝑀𝑠) es una variable exógena y un instrumento de la política monetaria del BCR. \n",
    "Para expresarla en términos reales, la oferta nominal de dinero se divide entre en nivel general de precios (𝑃)."
   ]
  },
  {
   "cell_type": "markdown",
   "id": "241a3e89",
   "metadata": {},
   "source": [
    "Oferta Real = Ms/P = Mso /P"
   ]
  },
  {
   "cell_type": "markdown",
   "id": "c89d6679",
   "metadata": {},
   "source": [
    "Asi, para saber el valor real de mis billetes y monedas (Ms) ajusto su valor dividiendola entre el precio(P) -que parte de un ao de referencia- , y asi no se ve afectada por la inflacion."
   ]
  },
  {
   "cell_type": "markdown",
   "id": "a702f55a",
   "metadata": {},
   "source": [
    "3) Derive la demanda real de dinero. Explique qué papel cumplen los parametros \"k\" y \"j\""
   ]
  },
  {
   "cell_type": "markdown",
   "id": "28504797",
   "metadata": {},
   "source": [
    "Partiendo de que:\n",
    "\n",
    "𝐿1 = kY     Dada por motivos de precaución para honrar las deudas y directamente relacionadas al nivel de ingreso\n",
    "\n",
    "𝐿2 = −ji    Dada por motivos de especulación,es decir, mantener liquidez en lugar de bonos, e inversamente relacionadas a la               tasa de interes de bonos\n",
    "\n",
    "\n",
    "Y si asumimos que ambos tipos de demanda están en términos reales, la función de demanda\n",
    "real de dinero será:\n",
    "𝐿 = 𝐿1 + 𝐿2\n",
    "𝐿 = 𝑘𝑌 − 𝑗i"
   ]
  },
  {
   "cell_type": "markdown",
   "id": "782ab23b",
   "metadata": {},
   "source": [
    "En ese sentido, La magnitud del parámetro “k” indica la sensibilidad de la demanda de dinero ante variaciones del ingreso “Y”, y la del parámetro “j” indica cuán sensible es la demanda de dinero ante las variaciones de la tasa de interés nominal de los bonos, “i”. "
   ]
  },
  {
   "cell_type": "markdown",
   "id": "b5cea9b1",
   "metadata": {},
   "source": [
    "4) Asumiendo que no hay inflación podemos asumir que i=r . Escriba en terminos reales la eucacion de equilibrio en el mercado de dinero."
   ]
  },
  {
   "cell_type": "markdown",
   "id": "8f8ea147",
   "metadata": {},
   "source": [
    "El equilibrio en el Mercado de Dinero se deriva del equilibrio entre la Oferta de Dinero  (𝑀𝑠)  y Demanda de Dinero  (𝑀𝑑) :\n",
    "\n",
    "𝑀𝑠=𝑀𝑑\n",
    " \n",
    "𝑀𝑠/𝑃 = 𝑘𝑌−𝑗𝑖\n",
    " \n",
    "\n"
   ]
  },
  {
   "cell_type": "markdown",
   "id": "cba6243c",
   "metadata": {},
   "source": [
    "Se puede suponer que la inflación esperada es cero, ya que a corto plazo el nivel de precios es fijo y exógeno. Por lo tanto, no habría una gran diferencia entre la tasa de interés nominal (𝑖) y la real (𝑟).\n",
    "\n",
    "Entonces la ecuación del equilibrio en el mercado monetario es:\n",
    "\n",
    "𝑀𝑠/𝑃 = 𝑘𝑌−𝑗𝑟\n",
    "\n",
    "\n"
   ]
  },
  {
   "cell_type": "markdown",
   "id": "5bb008b5",
   "metadata": {},
   "source": [
    "5) Grafique el equilibrio en el mercado de dinero."
   ]
  },
  {
   "cell_type": "code",
   "execution_count": null,
   "id": "4407837e",
   "metadata": {},
   "outputs": [],
   "source": []
  },
  {
   "cell_type": "code",
   "execution_count": 2,
   "id": "9ae95603",
   "metadata": {},
   "outputs": [],
   "source": [
    "#1----------------------Equilibrio mercado monetario\n",
    "\n",
    "    # Parameters\n",
    "r_size = 100\n",
    "\n",
    "k = 0.5\n",
    "j = 0.2                \n",
    "P  = 10 \n",
    "Y = 35\n",
    "\n",
    "r = np.arange(r_size)\n",
    "\n",
    "\n",
    "    # Ecuación\n",
    "def Ms_MD(k, j, P, r, Y):\n",
    "    Ms_MD = P*(k*Y - j*r)\n",
    "    return Ms_MD\n",
    "\n",
    "Ms_MD = Ms_MD(k, j, P, r, Y)\n",
    "\n",
    "\n",
    "    # Nuevos valores de Y\n",
    "Y1 = 45\n",
    "\n",
    "def Ms_MD_Y1(k, j, P, r, Y1):\n",
    "    Ms_MD = P*(k*Y1 - j*r)\n",
    "    return Ms_MD\n",
    "\n",
    "Ms_Y1 = Ms_MD_Y1(k, j, P, r, Y1)\n",
    "\n",
    "\n",
    "Y2 = 25\n",
    "\n",
    "def Ms_MD_Y2(k, j, P, r, Y2):\n",
    "    Ms_MD = P*(k*Y2 - j*r)\n",
    "    return Ms_MD\n",
    "\n",
    "Ms_Y2 = Ms_MD_Y2(k, j, P, r, Y2)\n",
    "\n",
    "#2----------------------Curva LM\n",
    "\n",
    "    # Parameters\n",
    "Y_size = 100\n",
    "\n",
    "k = 0.5\n",
    "j = 0.2                \n",
    "P  = 10               \n",
    "Ms = 30            \n",
    "\n",
    "Y = np.arange(Y_size)\n",
    "\n",
    "\n",
    "# Ecuación\n",
    "\n",
    "def i_LM( k, j, Ms, P, Y):\n",
    "    i_LM = (-Ms/P)/j + k/j*Y\n",
    "    return i_LM\n",
    "\n",
    "i = i_LM( k, j, Ms, P, Y)"
   ]
  },
  {
   "cell_type": "code",
   "execution_count": 3,
   "id": "353453c5",
   "metadata": {},
   "outputs": [
    {
     "data": {
      "image/png": "[encoded data removed]",
      "text/plain": [
       "<Figure size 1440x576 with 2 Axes>"
      ]
     },
     "metadata": {},
     "output_type": "display_data"
    }
   ],
   "source": [
    "# Gráfico de la derivación de la curva LM a partir del equilibrio en el mercado monetario\n",
    "\n",
    "    # Dos gráficos en un solo cuadro\n",
    "fig, (ax1, ax2) = plt.subplots(1,2, figsize=(20, 8)) \n",
    "\n",
    "\n",
    "#---------------------------------\n",
    "    # Gráfico 1: Equilibrio en el mercado de dinero\n",
    "    \n",
    "ax1.set(title=\"Money Market Equilibrium\", xlabel=r'M^s / P', ylabel=r'r')\n",
    "ax1.plot(Y, Ms_MD, label= '$L_0$', color = '#CD5C5C')\n",
    "ax1.plot(Y, Ms_Y1, label= '$L_1$', color = '#CD5C5C')\n",
    "ax1.plot(Y, Ms_Y2, label= '$L_2$', color = '#CD5C5C')\n",
    "ax1.axvline(x = 45,  ymin= 0, ymax= 1, color = \"grey\")\n",
    "\n",
    "ax1.axhline(y=35, xmin= 0, xmax= 1, linestyle = \":\", color = \"black\")\n",
    "ax1.axhline(y=135, xmin= 0, xmax= 1, linestyle = \":\", color = \"black\")\n",
    "ax1.axhline(y=85, xmin= 0, xmax= 1, linestyle = \":\", color = \"black\")\n",
    "\n",
    "ax1.text(47, 139, \"C\", fontsize = 12, color = 'black')\n",
    "ax1.text(47, 89, \"B\", fontsize = 12, color = 'black')\n",
    "ax1.text(47, 39, \"A\", fontsize = 12, color = 'black')\n",
    "\n",
    "ax1.text(0, 139, \"$r_2$\", fontsize = 12, color = 'black')\n",
    "ax1.text(0, 89, \"$r_1$\", fontsize = 12, color = 'black')\n",
    "ax1.text(0, 39, \"$r_0$\", fontsize = 12, color = 'black')\n",
    "\n",
    "ax1.yaxis.set_major_locator(plt.NullLocator())   \n",
    "ax1.xaxis.set_major_locator(plt.NullLocator())\n",
    "\n",
    "ax1.legend()\n",
    " \n",
    "\n",
    "#---------------------------------\n",
    "    # Gráfico 2: Curva LM\n",
    "    \n",
    "ax2.set(title=\"LM SCHEDULE\", xlabel=r'Y', ylabel=r'r')\n",
    "ax2.plot(Y, i, label=\"LM\", color = '#3D59AB')\n",
    "\n",
    "ax2.axhline(y=160, xmin= 0, xmax= 0.69, linestyle = \":\", color = \"black\")\n",
    "ax2.axhline(y=118, xmin= 0, xmax= 0.53, linestyle = \":\", color = \"black\")\n",
    "ax2.axhline(y=76, xmin= 0, xmax= 0.38, linestyle = \":\", color = \"black\")\n",
    "\n",
    "ax2.text(67, 164, \"C\", fontsize = 12, color = 'black')\n",
    "ax2.text(51, 122, \"B\", fontsize = 12, color = 'black')\n",
    "ax2.text(35, 80, \"A\", fontsize = 12, color = 'black')\n",
    "\n",
    "ax2.text(0, 164, \"$r_2$\", fontsize = 12, color = 'black')\n",
    "ax2.text(0, 122, \"$r_1$\", fontsize = 12, color = 'black')\n",
    "ax2.text(0, 80, \"$r_0$\", fontsize = 12, color = 'black')\n",
    "\n",
    "ax2.text(72.5, -14, \"$Y_2$\", fontsize = 12, color = 'black')\n",
    "ax2.text(56, -14, \"$Y_1$\", fontsize = 12, color = 'black')\n",
    "ax2.text(39, -14, \"$Y_0$\", fontsize = 12, color = 'black')\n",
    "\n",
    "ax2.axvline(x=70,  ymin= 0, ymax= 0.69, linestyle = \":\", color = \"black\")\n",
    "ax2.axvline(x=53,  ymin= 0, ymax= 0.53, linestyle = \":\", color = \"black\")\n",
    "ax2.axvline(x=36,  ymin= 0, ymax= 0.38, linestyle = \":\", color = \"black\")\n",
    "\n",
    "ax2.yaxis.set_major_locator(plt.NullLocator())   \n",
    "ax2.xaxis.set_major_locator(plt.NullLocator())\n",
    "\n",
    "ax2.legend()\n",
    "\n",
    "plt.show()"
   ]
  },
  {
   "cell_type": "code",
   "execution_count": null,
   "id": "130c7adc",
   "metadata": {},
   "outputs": [],
   "source": []
  }
 ],
 "metadata": {
  "kernelspec": {
   "display_name": "Python 3 (ipykernel)",
   "language": "python",
   "name": "python3"
  },
  "language_info": {
   "codemirror_mode": {
    "name": "ipython",
    "version": 3
   },
   "file_extension": ".py",
   "mimetype": "text/x-python",
   "name": "python",
   "nbconvert_exporter": "python",
   "pygments_lexer": "ipython3",
   "version": "3.9.12"
  }
 },
 "nbformat": 4,
 "nbformat_minor": 5
}
