{
 "cells": [
  {
   "cell_type": "markdown",
   "id": "84a19805",
   "metadata": {},
   "source": [
    "### REPORTE 6\n",
    "-SOFIA DAGER\n",
    "\n",
    "-20201095"
   ]
  },
  {
   "cell_type": "markdown",
   "id": "b10effd7",
   "metadata": {},
   "source": [
    "\n",
    "La pregunta principal de investigación de este artículo es si la beca HAIL y comunicaciones a estudiantes de alto rendimiento - bajos recursos ha incrementado las aplicaciones, ingresos y matrículas en universidades muy selectivas (especialmente UM, que son los datos que se tienen). Además, se intenta probar si lo estudiantes matriculados se quedan inscritos en la universidad o si la dejan. También, la cantidad de alumnos matriculados en universidades de 4 años y de 2 años y ver si estos datos cambian debido a la beca HAIL\n",
    "\n",
    "La principal fortaleza de este artículo es lo bien explicado de la beca HAIL, lo financiero, forma de elección de estudiantes y manera de implementación de la misma. A lo largo de todo el artículo se explica con datos y gráficos de manera muy clara cómo es que esta beca funciona y cómo es que beneficia a los estudiantes. También, explican las estadisticas de ingresos, mantenimiento en universidades y tipo de universidades a las que los estudiantes se matriculan. \n",
    "Por otro lado, considero que una debilidad o algo que se podría mejorar es incluir más testimonios de estudiantes. Algunos que expliquen cómo esta beca y estas comunicaciones los ayudaron a tomar decisiones. Si es que influyó o no y cómo es que lo hizo. \n",
    "\n",
    "El documento responde a la pregunta. El ultimo capítulo sobre todo, responde las preguntas más importantes y la hipótesis del artículo mencionada al inicio. Nos explican la situación financiera de los estudiantes y también la de las universidades. De esta manera demuestran que las universidades no pierden dinero extra por HAIL a comparación de ayuda financiera a otros estudiantes de bajos recursos. En la conclusión explican que la beca HAIL efectivamente funciona y ha ayudado a muchos estudiantes de alto rendimiento - bajos recursos, sin afectar de manera negativa a otros estudiantes ni a las universidades. \n",
    "\n"
   ]
  },
  {
   "cell_type": "code",
   "execution_count": null,
   "id": "fd44403d",
   "metadata": {},
   "outputs": [],
   "source": []
  }
 ],
 "metadata": {
  "kernelspec": {
   "display_name": "Python 3 (ipykernel)",
   "language": "python",
   "name": "python3"
  },
  "language_info": {
   "codemirror_mode": {
    "name": "ipython",
    "version": 3
   },
   "file_extension": ".py",
   "mimetype": "text/x-python",
   "name": "python",
   "nbconvert_exporter": "python",
   "pygments_lexer": "ipython3",
   "version": "3.9.12"
  }
 },
 "nbformat": 4,
 "nbformat_minor": 5
}
