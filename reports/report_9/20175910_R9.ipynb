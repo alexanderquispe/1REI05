{
 "cells": [
  {
   "cell_type": "markdown",
   "id": "9254db0e",
   "metadata": {},
   "source": [
    "# Report 9"
   ]
  },
  {
   "cell_type": "markdown",
   "id": "3d45f7fd",
   "metadata": {},
   "source": [
    "Como se menciona, en las dos últimas décadas se ha producido un empeoramiento de las tendencias de salud mental en Estados Unidos, especialmente entre los adolescentes y los adultos jóvenes los episodios auto informados de angustia psicológica y depresión han aumentado sustancialmente en los últimos quince años, con la mayor tasa de crecimiento entre los adultos jóvenes. Asimismo, ha habido un incremento en el uso de internet y redes sociales, en donde para el 2021 el 90% de la población tiene acceso a internet según We Are Social. Asimismo, según varios postulados de estudiosos del tema, las redes sociales han generado un deterioro en la salud mental de la población. Esto debido a diversos estigmas que surgen en torno al uso y externalidades de estas mismas. En concordancia con lo planteado en el párrafo anterior; entonces, el autor se cuestiona ¿La introducción escalonada de Facebook en las universidades de Estados Unidos ha generado un deterioro en la salud mental de los estudiantes? Como se justificará más adelante, los modelos de regresión planteados en el artículo permiten estimar que Facebook ha provocado un incremento de los servicios de salud mental, deterioro en el rendimiento académico y fomenta las comparaciones sociales desfavorables. Por tanto, se concluye que las redes sociales, como Facebook, son responsables del deterioro de la salud mental de los adolescentes y jóvenes adultos. \n",
    "\n",
    "Por otra parte, respecto a las fortalezas del artículo, se destaca que las variables que aborda son bastante detalladas. De hecho, y como se menciona, las variables de resultados de salud mental son más completas que las de los trabajos experimentales realizados previamente: las variables de resultados incluyen once preguntas relacionadas con la depresión -que cubren los síntomas, el diagnóstico, el uso de psicoterapia y el uso de antidepresivos- y varias preguntas relacionadas con otras enfermedades mentales, que van desde el trastorno de afecto estacional hasta la anorexia.\n",
    "\n",
    "Asimismo, este utiliza dos conjuntos de datos de análisis los cuales están altamente relacionados. El primer conjunto de datos especifica las fechas en las que se introdujo Facebook en 775 universidades estadounidenses; el segundo consiste en el universo de respuestas a diecisiete oleadas consecutivas de la Evaluación Nacional de Salud Universitaria (NCHA), la encuesta más completa sobre la salud mental y física de los estudiantes. Asimismo, se debe mencionar que esta última en cuesta estuvo disponible en el momento de la expansión de Facebook, por lo que permite realizar el estudio de forma apropiada. \n",
    "Además, las universidades incluidas en el conjunto de datos de la NCHA administraron la encuesta a aulas seleccionadas al azar, a estudiantes seleccionados de forma aleatoria o a todos los estudiantes. También, dentro del proceso que adoptó la NCHA, eliminaron cualquier información que pudiera permitirles identificar las universidades. De esta forma, pudieron eliminar sesgos al momento de realizar el estudio. Sin embargo, también se validó validamos externamente las preguntas de la encuesta de la NCHA realizando una encuesta original a más de 500 estudiantes universitarios, en la que se añadieron preguntas de los filtros canónicos de depresión y trastorno de ansiedad generalizada del PHQ-9 y el GAD-7 (otras evaluaciones estandarizadas, pero más actuales). \n",
    "\n",
    "Respecto a las debilidades, la construcción del indicador de tratamiento asume que la persona que responde se considera que una persona que responde a la encuesta de la NCHA ha sido tratada en el momento en que la persona responde a la encuesta, Facebook estaba disponible en su universidad y no ha sido tratada de otro modo. Claramente, asumir esto, claramente perjudica los resultados de las estimaciones. Sin embargo, el autor también menciona que los resultados no cambian sustancialmente si se le asigna un tratamiento de 0.5. \n",
    "\n",
    "Por otra parte, las estimaciones no pueden referirse directamente a los efectos de las funciones de las redes sociales. Por ejemplo, las páginas de noticias, que se introdujeron después del periodo analizado o incluso los reels (que son más actuales). Así también, y como se menciona, las estimaciones no pueden hablar directamente de la posibilidad de que los años de experiencia con la plataforma puedan enseñar a los usuarios formas de mitigar los efectos negativos sobre la salud mental. Así también, a pesar de ser el componente principal de la mayoría de los diagnósticos de salud mental, los autoinformes pueden seguir sufriendo errores de medición debido al sesgo de recuerdo, la falta de incentivos y las preocupaciones de imagen social. \n",
    "Como última debilidad, se puede destacar que el uso de plataformas en aquel momento, si bien el autor propone que en esencia es el mismo, en la actualidad dista mucho tanto el uso como la esencia de cada aplicación. Es decir, debido a los cambios que ha tenido Facebook, y al distinto uso que ahora tiene. Es decir, las imágenes de WayBack Machine muestran que era usual comentar en el muro, publicar imágenes, etcétera. Claramente, eso tendría más relación con Instagram. Por tanto, que el autor considere que la red social Facebook es similar en esencia, puede ser altamente cuestionado y, por ende, tener un impacto diferente al de hoy en día. \n",
    "\n",
    "La contribución que aporta el autor al desarrollar el artículo impacta en la forma en que el uso de las redes sociales puede impactar en las percepciones de las personas, en el modo de vida y, finalmente, en el estado de salud mental de una persona. Resulta impactante corroborar con datos estadísticos los postulados que algunos académicos en la actualidad ya han realizado respecto al uso de redes sociales. Asimismo, permite identificar que los efectos negativos sobre la salud mental son más fuertes para los estudiantes que, basándose en características inmutables como el género y la edad, predice que son más susceptibles a la enfermedad mental. Asimismo, los efectos negativos de Facebook en la salud mental aumentan con el tiempo de exposición a la plataforma. \n",
    "\n",
    "Además, permite llegar a resultado empíricos que se pueden contratas con la actualidad. Como identifica el estudio, el efecto de la introducción de Facebook en el índice de mala salud mental equivale a un aumento de dos puntos porcentuales en la proporción de estudiantes que sufren depresión según el PHQ-9 sobre una base del 25%. Asimismo, estima que la introducción de Facebook explica el 24% explica el aumento de la prevalencia de la depresión grave entre los estudiantes universitarios en las dos últimas décadas. \n",
    "\n",
    "Finalmente, para continuar con el estudio, se podría evaluar si en otros países también se han desarrollado estudios similares respecto a la salud mental de lo jóvenes y respecto a la introducción de redes sociales (según la región). Es decir, en otros continentes como el asiático el uso de redes sociales no inició con Facebook, sino con otro tipo de redes los cuales poseen una configuración diferente. Por tanto, sería conveniente analizar si, partiendo de que se trata de una cultura diferente, el impacto de las redes sociales también es negativo en otras regiones que usan redes sociales diferentes. Asimismo, sería conveniente ahondar en si el uso de redes sociales ha ayudado a personas con depresión o alguna enfermedad mental, dado que en la actualidad las redes también se usan para compartir información relacionada a la salud mental. Por tanto, se podría evaluar si este ha sido más beneficioso que perjudicial, si ha permitido salvar vidas (como el suicidio), si ha permitido brindar asistencia psicológica la alguna ocasión, etcétera. \n",
    "\n",
    "\n"
   ]
  },
  {
   "cell_type": "code",
   "execution_count": null,
   "id": "03b57081",
   "metadata": {},
   "outputs": [],
   "source": []
  }
 ],
 "metadata": {
  "kernelspec": {
   "display_name": "Python 3 (ipykernel)",
   "language": "python",
   "name": "python3"
  },
  "language_info": {
   "codemirror_mode": {
    "name": "ipython",
    "version": 3
   },
   "file_extension": ".py",
   "mimetype": "text/x-python",
   "name": "python",
   "nbconvert_exporter": "python",
   "pygments_lexer": "ipython3",
   "version": "3.9.12"
  }
 },
 "nbformat": 4,
 "nbformat_minor": 5
}
