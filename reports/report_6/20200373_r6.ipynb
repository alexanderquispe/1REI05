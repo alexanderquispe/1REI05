{
 "cells": [
  {
   "cell_type": "markdown",
   "id": "1922c956",
   "metadata": {},
   "source": [
    "# REPORTE 6\n",
    "Estudiante: Roxana Rodriguez Pilco - 20200373"
   ]
  },
  {
   "cell_type": "markdown",
   "id": "0650d000",
   "metadata": {},
   "source": [
    "## Lectura"
   ]
  },
  {
   "cell_type": "markdown",
   "id": "71c28c1f",
   "metadata": {},
   "source": [
    "El artículo “Closing the Gap: The effect of a targeted, tuition-free promise on college choices of high-achieving, low-income students”, elaborado por Susan Dynarski, C.J. Libassi, Katherine Michelmore y Stephanie Owen retrata la marcada brecha entre los estudiantes de secundaria de altos y bajos recursos que presentan alto rendimiento con respecto a la elección universitaria. Los autores mencionan que a pesar de que las universidades más selectivas, específicamente la Universidad de Michigan, ofrecen apoyo económico para estudiantes destacados con bajos ingresos económicos y además les ofrecen la posibilidad de que una vez graduados tendrán acceso a mayores oportunidades laborales e ingresos, estos estudiantes no suelen postular ni atender estos centros de estudio. Por tanto, para buscar una explicación a esta problemática, se realiza un experimento aleatorio y controlado que evalúe si las comunicaciones personalizadas y focalizadas influenciarían las decisiones de postulación universitaria de estudiantes del estado de Michigan que presentan alto rendimiento y bajos ingresos. De modo que, la pregunta de investigación es: ¿De qué manera las comunicaciones focalizadas y personalizadas afectan las decisiones de postulación universitaria de estudiantes destacados con bajos ingresos? \n",
    "Así pues, a partir de la premisa de que esta brecha se debe a la desinformación sobre el apoyo económico y los beneficios que ofrecen estas universidades top, los investigadores empezaron un experimento que consistía en promocionar la beca High Achieving Involved Leader (HAIL) de la Universidad de Michigan ante estudiantes destacados y de bajos recursos. Esta garantizaba que de ser admitidos, la matrícula sería gratuita y los trámites administrativos para acceder a esta serían reducidos. El experimento demostró que al tener información sobre esta beca y apoyo financiero por parte de la universidad, las probabilidades de postular, matricularse y atender esta universidad aumentaron significativamente.\n",
    "\n",
    "La investigación tiene un enfoque experimental, pues parte de un ensayo aleatorio y controlado sobre una población objetivo como lo son los estudiantes de alto rendimiento y bajos recursos, lo cual implica ciertas fortalezas y debilidades. En primero lugar, una fortaleza del enfoque es el uso de la aleatoriedad, pues por medio de este método de muestreo se limitan los sesgos en el estudio. Por tal motivo, se puede ver que entre los estudiantes destacados y con bajos ingresos en el Estado de Michigan, los grupos de control y tratamiento se han seleccionado de manera aleatoria, existiendo cierto balance en las muestras. En segundo lugar, otra fortaleza es que se realizó un análisis de subgrupos para constatar la heterogeneidad en el efecto de la variable. En efecto, la estratificación de la muestra en 4 grupos en base a la cantidad de estudiantes que eran aptos para obtener la beca HAIL y la aleatorización en cada estrato permitió que se evaluara de manera más efectiva el efecto de la comunicación de este beneficio financiero en las tasas de inscripción y asistencia a la Universidad de Michigan entre los estudiantes, los cuales fueron separados por espacio geográfico, género, raza y otras cuestiones más además de la desventaja económica y sus logros académicos. En tercer lugar, una ventaja adicional que surgió de realizar este experimento fue que se creó un índice único sobre la probabilidad de que un estudiante aun cuando no fuera parte de la intervención experimental atienda una universidad muy selectiva. Esto es relevante para la investigación, pues permite que se realicen predicciones y se interprete más efectivamente el efecto de este proceso experimental en las decisiones de postulación universitaria de los respectivos estudiantes, pues los resultados son cuantificables y específicos.\n",
    "\n",
    "No obstante, este enfoque también presenta ciertas desventajas que no se pueden pasar por alto al analizar la plausibilidad de este para responder a la pregunta de investigación. Una debilidad del enfoque es que los resultados del experimento tienen un alcance local (Estado de Michigan, EE.UU), por ende no pueden aplicarse a nivel macro, ya que los efectos podrían no ser los mismos en los estudiantes de otros estados y países. Por tanto, si bien los nuevos estudios sobre esta brecha estudiantil en otras localidades y espacios que comprueben la premisa de este estudio reducirían esta debilidad, aun no se ha experimentado lo suficiente como para eliminar este alcance limitado. Otra debilidad del enfoque experimental es que puede tener externalidades negativas imprevistas. Por ejemplo, existía la posibilidad de que los estudiantes que no hayan recibido esta comunicación personalizada y anticipada sobre la beca HAIL se hayan desanimado a inscribirse en otras universidades selectivas. Sin embargo, se evaluó que esto no sucedió y por el contrario, se impulsó a los estudiantes a inscribirse en otros centros de estudios, aunque en un inicio, ni siquiera planearon asistir a la universidad. Finalmente, otra desventaja es que este tipo de enfoque requiere una gran inversión de tiempo y en el proceso de la experimentación podría haber algunos factores externos, como algun error al brindarles la información sobre la beca HAIL a los estudiantes, que desvirtuaría la significancia de los resultados obtenidos. Por ende, se necesita mucho compromiso y responsabilidad de los investigadores para llevar a cabo este tipo de investigación, que al final, puede presentar resultados que no corroboren su hipótesis inicial.\n",
    "\n",
    "A pesar de las debilidades presentadas, no se puede negar la relevante contribución del artículo para el avance de la pregunta de investigación tanto a nivel teórico como práctico. Por un lado, la investigación contribuye teóricamente, pues llena el vació teórico que el modelo clásico de toma de decisiones no logra explicar en su totalidad. Esto pues a pesar de que los costos de solicitar el apoyo financiero y acceder a una universidad son bajos si los comparamos con los beneficios laborales y económicos que obtendrán estos estudiantes una vez graduados de estas instituciones, aun así los estudiantes no suelen elegir estas instituciones. Así pues, este método experimental ha determinado nuevas variables que influenciarían las decisiones de selección universitaria, entre estos la incertidumbre, la aversión a la pérdida y la desinformación. Con lo que se logró evidenciar que una intervención que elimine las cargas administrativas y los obstáculos en cuanto al comportamiento de los estudiantes, puede alterar la cantidad de opciones que se plantean estos, incluyendo entre ellos, atender una universidad selectiva. Por otro lado, una contribución práctica del estudio es que por medio de una alta promoción de la beca HAIL, se logró reducir la brecha en cuanto a la cantidad de estudiantes con alto rendimiento y bajos recursos que atienden y permanecen en la universidad de Michigan en comparación con los de altos recursos. Además, esto también incentivó a que los estudiantes atiendan otras universidades selectivas. Por último, otro aporte a nivel práctico es que mediante esta investigación se demostró que el diseño del entorno donde las personas toman decisiones influencia de manera significativa el comportamiento de estas, razón por la cual, estos patrones de comportamiento pueden tener implicaciones en otros aspectos no solo el académico.\n",
    "\n",
    "Para finalizar, considero que un paso para avanzar la pregunta de investigación es penetrar en otros factores que también pueden influenciar el proceso de elección de universidad por parte de los estudiantes y al mismo tiempo adaptar estos estudios a otras realidades. Según Cárdenas y Pinos (2021), hay una diversidad de factores que afectan la elección de universidad de los estudiantes de último grado de secundaria en Guayaquil, entre ellos los factores sociales, institucionales, académicos, administrativos, demográficos y sociales. Entre los cuales, los factores académicos, específicamente el prestigio de la universidad y la diversidad de horarios son los más importantes para estos estudiantes, pues de esta manera pueden organizarse mejor para asistir a la universidad y costear su programa académico. De este modo, observamos que es importante completar los resultados obtenidos en este estudio con otros factores encontrados en investigaciones a estudiantes de otras regiones como Latinoamérica, para así tener un conocimiento integral del comportamiento de los estudiantes y su proceso de toma de decisiones respecto a elegir y asistir a una universidad. Asimismo, otro alcance para avanzar en la pregunta sería complementar los hallazgos de los estudios experimentales con los cualitativos, pues tal como menciona Bergerson (2010) si bien el enfoque experimental ha permitido obtener variables específicas que afectan el proceso de elección de universidad, hace falta del enfoque cualitativo para aclarar las razones por las cuales estas variables afectan las decisiones de los estudiantes. En este sentido, ambos enfoques complementan los vacíos teóricos que el otro representa.\n",
    "\n",
    "\n",
    "\n",
    "-Bibliografía:\n",
    "\n",
    "\n",
    "Bergerson, A. A. (2010). College Choice and Access to College: Moving Policy, Research, and Practice to the 21st Century. ASHE Higher Education Report, 35(4), 1-141.\n",
    "\n",
    "Cárdenas, J., & Pinos, G. (2021). Análisis de los factores que influyen en la selección de una Universidad en bachilleres de la ciudad de Guayaquil. COMPENDIUM: Cuadernos de Economía y Administración, 8(3), 317-330."
   ]
  },
  {
   "cell_type": "code",
   "execution_count": null,
   "id": "0e5ce8cc",
   "metadata": {},
   "outputs": [],
   "source": []
  }
 ],
 "metadata": {
  "kernelspec": {
   "display_name": "Python 3 (ipykernel)",
   "language": "python",
   "name": "python3"
  },
  "language_info": {
   "codemirror_mode": {
    "name": "ipython",
    "version": 3
   },
   "file_extension": ".py",
   "mimetype": "text/x-python",
   "name": "python",
   "nbconvert_exporter": "python",
   "pygments_lexer": "ipython3",
   "version": "3.9.12"
  }
 },
 "nbformat": 4,
 "nbformat_minor": 5
}
