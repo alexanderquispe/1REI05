{
 "cells": [
  {
   "cell_type": "markdown",
   "id": "7b09c529",
   "metadata": {},
   "source": [
    "1.\tLos autores desarrollan durante su texto una respuesta a la siguiente pregunta: ¿cómo se vio afectada la economía en el país al encontrarse en el periodo de cuarenta por el Covid-19? Asimismo, más allá de analizar los efectos que tuvo en la economía la pandemia en el 2020, nos explican también, bajo el uso de un modelo macroeconómico utilizando dos sectores económicos influenciados por este fenómeno, cómo esta caída del PBI fue sobrellevada y las medidas de recuperación. \n",
    "2.\tLas fortalezas encontradas en el paper es que está predispuesto para la comprensión de los lectores que probablemente no tengan conocimientos previos de economía. Es decir, por ejemplo, al observar el tema tratado en sí mismo, se comprueba que, al ser un tema actual de contexto mundial, cualquier individuo puede convertirse en un lector que esté en la capacidad de comprender lo que los autores pretenden explicar en el desarrollo de su texto. Asimismo, la estructura con la que el artículo se ha desarrollado también ayuda a la fácil comprensión de este, debido a que desde un principio los autores establecen el camino que seguirán a lo largo de su investigación y teniendo a su vez conclusiones claras. Claramente, hay cuestiones a mejorar que se representan como debilidades, por ejemplo: en el documento no se explica el proceso y conclusión de las ecuaciones matemáticas que se llevan a cabo, esto no ayudará a los lectores a comprender completamente lo que los autores pretenden explicar; a su vez, se observa que la investigación se encuentra limitada debido a que no coloca el rol del factor social y cómo las conductas de compra y venta de los ciudadanos cambiaron debido a la pandemia y cómo esto finalmente afectó a la economía, aspecto que de haberse incluido habría hecho de la investigación un análisis más interesante.\n",
    "3.\tLos autores aportan a la investigación debido que el objeto estudiado y los dos sectores del mercado que se evaluaron (uno directamente afectado y otro indirectamente afectado) nos permiten observar las diferencias entre estos y su manera de operar. Al mismo tiempo, el haber incluido los efectos indirectos de la cuarentena en la economía peruana es de gran utilidad debido a que usualmente los ciudadanos afectados observan únicamente los efectos directos sin prestar atención a otros sectores también afectados de igual, o mayor medida indirectamente. \n",
    "4.\tUn siguiente paso para continuar con la investigación podría ser agregar el papel internacional en la discusión, pues definitivamente esta fue una problemática que afecto a nivel global; por lo tanto, agregar un análisis económico-político comparativo de economías latinoamericanas o similares a la de Perú habría sido de gran ayuda para hacer de la investigación un proceso más digerible para los lectores y también para comprender qué otros factores pueden influir.\n"
   ]
  },
  {
   "cell_type": "markdown",
   "id": "956c7001",
   "metadata": {},
   "source": [
    "PARTE 2: CÓDIGO EN PHYTON\n",
    "CLAUDIA CABREL, AISHA MARTÍNEZ\n"
   ]
  },
  {
   "cell_type": "markdown",
   "id": "77e4ac47",
   "metadata": {},
   "source": [
    "1. Explique cuáles son los intrumentos de política monetaria que puede utilizar el Banco Central."
   ]
  },
  {
   "cell_type": "markdown",
   "id": "2310bf4d",
   "metadata": {},
   "source": [
    "El Banco Central de Reserva del Perú tiene 3 instrumentos de política monetaria principales que pueden ser de caracter expansivas o contractivas:\n",
    "\n",
    "    1) La Oferta Monetaria: Esta se emplea al disminuir o aumentar la oferta monetaria a manera de compra o venta de activos financieros o bonos a bancos comerciales.\n",
    "    Se trata de una política expansiva cuando se compra bonos del mercado, debido a que al aumentar la base monetaria, aumenta la oferta monetaria y por ende, se genera un incremento de los activos, incrementando los depósitos de dichos bancos comerciales.\n",
    "    Por otro lado, se trata de una política contractiva cuando se emplea la venta de bonos al mercado, ya que se registra una disminución de los activos del BCR.\n",
    "    \n",
    "     2) El Coeficiente Legal de Encaje: En esta política el BCR se puede incrementar o disminuir la cantidad de dinero de los bancos al realizar los préstamos.\n",
    "     Se trata de una política monetaria expansiva cuando el BCR al reducir la tasa de encaje, genera un incremento de la cantidad de dinero que los bancos pueden disponer para los préstamos, en consecuencia, se genera un aumento de la oferta monetaria.\n",
    "     Se trata de política monetaria contractiva cuando el BCR aumenta el coeficiente de encaje haciendo que los bancos tengan que tener una depósitos a manera de reservas, y se produce una disminución de la oferta monetaria.\n",
    "     \n",
    "      3) La Tasa de Interés: Este varía la cantidad de dinero que se presta a los bancos comerciales.\n",
    "      Se trata de una política monetaria expansiva cuando el BCR al hacer una política monetaria expansiva reduce su tasa de interés de referencia, de esta manera los bancos pueden obtener dinero prestado, incrementando la oferta monetaria. Finalmente, se habla de una política contractiva cuando el BCR aumenta la tasa de interés, haciendo que los bancos no generen tanto dinero prestado, y por lo tando disminuye la oferta monetaria."
   ]
  },
  {
   "cell_type": "markdown",
   "id": "ddb47c43",
   "metadata": {},
   "source": [
    "2. Derive la oferta real de dinero y explique cada uno de sus componentes."
   ]
  },
  {
   "cell_type": "markdown",
   "id": "ceb6002b",
   "metadata": {},
   "source": [
    "$ M^s $ = Oferta Nominal de Dinero: es una variable exógena\n",
    "\n",
    "$ P $ = Precio\n",
    "\n",
    "$ M_0^s $ = La Oferta Monetaria (dinero líquido en circulacion y el dinero bancario)\n",
    "\n",
    "Para que la variable se exprese en terminos reales, se divide la oferta nominal de dinero entre el nivel general de precios de la economía.\n",
    "\n",
    "Esta es la oferta real de dinero:\n",
    "\n",
    "   $ M^s $ / $ P $   =   $ M_0^s $ / $ P $"
   ]
  },
  {
   "cell_type": "markdown",
   "id": "5d777e4e",
   "metadata": {},
   "source": [
    "3. Derive la demanda real de dinero. Explique qué papel cumplen los parametros \"k\" y \"j\""
   ]
  },
  {
   "cell_type": "markdown",
   "id": "3ade55d4",
   "metadata": {},
   "source": [
    "En primer lugar, la demanda real de dinero explica las razones por las que propiamente se demanda dinero en una economía. Existen 2 razones:\n",
    "    1)Transacción: La demanda de dinero depende del ingreso (Y).\n",
    "    2)Precaución: La demanda de dinero honra los servicios de la deuda, tambien depende de (Y)."
   ]
  },
  {
   "cell_type": "markdown",
   "id": "dabf7952",
   "metadata": {},
   "source": [
    "$ k $ = Elasticidad del Ingreso\n",
    "\n",
    "$ j $ = Elasticidad de Sustitución"
   ]
  },
  {
   "cell_type": "markdown",
   "id": "53d75510",
   "metadata": {},
   "source": [
    "Estas también dependen del parámetro (k) que significa elasticidad del ingreso. Esto al multiplicarse genera:"
   ]
  },
  {
   "cell_type": "markdown",
   "id": "d30faada",
   "metadata": {},
   "source": [
    "$$ L_1=k*Y $$"
   ]
  },
  {
   "cell_type": "markdown",
   "id": "4039a76b",
   "metadata": {},
   "source": [
    "$$ L_2=-j*i $$"
   ]
  },
  {
   "cell_type": "markdown",
   "id": "5ac9ae26",
   "metadata": {},
   "source": [
    "$$ L=L_1+L_2 $$"
   ]
  },
  {
   "cell_type": "markdown",
   "id": "c92c4e25",
   "metadata": {},
   "source": [
    "$$ L = kY - ji $$"
   ]
  },
  {
   "cell_type": "markdown",
   "id": "b52be63e",
   "metadata": {},
   "source": [
    "$$ M^d = kY - ji $$"
   ]
  },
  {
   "cell_type": "markdown",
   "id": "45acdb97",
   "metadata": {},
   "source": [
    "El parámetro $ “k” $ lo que nos indica es la sensibilidad de la demanda de dinero. Por otro lado, $“j”$ indica el nivel de sensibilidad de la demanda de dinero ante las variaciones de una tasa de interés nominal de los bonos $“i”$.ç"
   ]
  },
  {
   "cell_type": "markdown",
   "id": "98e8a87a",
   "metadata": {},
   "source": [
    "4. Asumiendo que no hay inflación podemos asumir que i = r . Escriba en terminos reales la ecuacion de equilibrio en el mercado de dinero."
   ]
  },
  {
   "cell_type": "markdown",
   "id": "553cbd0b",
   "metadata": {},
   "source": [
    "$ i $ = tasa de interés nominal"
   ]
  },
  {
   "cell_type": "markdown",
   "id": "2070959f",
   "metadata": {},
   "source": [
    "$$ M^d = M^s $$"
   ]
  },
  {
   "cell_type": "markdown",
   "id": "809f1155",
   "metadata": {},
   "source": [
    "$$ {M^s} / {P} = kY - ji $$"
   ]
  },
  {
   "cell_type": "markdown",
   "id": "16204b7c",
   "metadata": {},
   "source": [
    "$$ {M^s} / {P} = kY - jr $$"
   ]
  },
  {
   "cell_type": "code",
   "execution_count": 4,
   "id": "1dc96c89",
   "metadata": {},
   "outputs": [],
   "source": [
    "import matplotlib.pyplot as plt\n",
    "import numpy as np\n",
    "import sympy as sy\n",
    "import pandas as pd\n",
    "import numpy as np\n",
    "import random\n",
    "import math\n",
    "import sklearn\n",
    "import scipy as sp\n",
    "import networkx\n",
    "import statsmodels.api as sm\n",
    "import statsmodels.formula.api as smf\n",
    "from statsmodels.iolib.summary2 import summary_col"
   ]
  },
  {
   "cell_type": "code",
   "execution_count": 5,
   "id": "5b0b0bd0",
   "metadata": {},
   "outputs": [
    {
     "data": {
      "text/plain": [
       "50.0"
      ]
     },
     "execution_count": 5,
     "metadata": {},
     "output_type": "execute_result"
    }
   ],
   "source": [
    "r_size = 100\n",
    "\n",
    "k = 0.5\n",
    "j = 0.2                \n",
    "P  = 10 \n",
    "Y = 35\n",
    "MS_0 = 500\n",
    "\n",
    "r = np.arange(r_size)\n",
    "\n",
    "\n",
    "\n",
    "def MD(k, j, P, r, Y):\n",
    "    MD_eq = (k*Y - j*r)\n",
    "    return MD_eq\n",
    "MD_0 = MD(k, j, P, r, Y)\n",
    "\n",
    "\n",
    "MS = MS_0 / P\n",
    "MS"
   ]
  },
  {
   "cell_type": "code",
   "execution_count": 6,
   "id": "23f682f1",
   "metadata": {},
   "outputs": [
    {
     "data": {
      "image/png": "[encoded data removed]",
      "text/plain": [
       "<Figure size 720x576 with 1 Axes>"
      ]
     },
     "metadata": {},
     "output_type": "display_data"
    }
   ],
   "source": [
    "fig, ax1 = plt.subplots(figsize=(10, 8))\n",
    "\n",
    "ax1.set(title=\"EQUILIBRIO DE MERCADO DE DINERO\", xlabel=r'M^s / P', ylabel=r'r')\n",
    "\n",
    "ax1.plot(MD_0, label= '$L_0$', color = 'PINK')\n",
    "\n",
    "ax1.axvline(x = MS,  ymin= 0, ymax= 1, color = \"BLACK\")\n",
    "\n",
    "ax1.axhline(y=7.5, xmin= 0, xmax= 0.47, linestyle = \":\", color = \"black\")\n",
    "\n",
    "ax1.text(0, 8, \"$r^e_0$\", fontsize = 12, color = 'black')\n",
    "\n",
    "ax1.text(100, -1, \"$L(Y_0)$\", fontsize = 12, color = 'black')\n",
    "\n",
    "ax1.text(50, -1, \"$M^s_0 / P_0$\", fontsize = 12, color = 'black')\n",
    "\n",
    "ax1.yaxis.set_major_locator(plt.NullLocator())   \n",
    "ax1.xaxis.set_major_locator(plt.NullLocator())\n",
    "\n",
    "custom_xlim = (-10, 120)\n",
    "custom_ylim = (-10, 20)\n",
    "\n",
    "plt.setp(ax1, xlim=custom_xlim, ylim=custom_ylim)\n",
    "\n",
    "ax1.legend()\n",
    "\n",
    "plt.show()"
   ]
  },
  {
   "cell_type": "code",
   "execution_count": null,
   "id": "4b2bee8a",
   "metadata": {},
   "outputs": [],
   "source": []
  }
 ],
 "metadata": {
  "kernelspec": {
   "display_name": "Python 3 (ipykernel)",
   "language": "python",
   "name": "python3"
  },
  "language_info": {
   "codemirror_mode": {
    "name": "ipython",
    "version": 3
   },
   "file_extension": ".py",
   "mimetype": "text/x-python",
   "name": "python",
   "nbconvert_exporter": "python",
   "pygments_lexer": "ipython3",
   "version": "3.9.12"
  }
 },
 "nbformat": 4,
 "nbformat_minor": 5
}
