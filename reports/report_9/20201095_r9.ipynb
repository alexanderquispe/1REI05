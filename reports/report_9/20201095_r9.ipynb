{
 "cells": [
  {
   "cell_type": "markdown",
   "id": "c1ffe829",
   "metadata": {},
   "source": [
    "### REPORTE 9\n",
    "\n",
    "SOFIA DAGER\n",
    "\n",
    "20201095"
   ]
  },
  {
   "cell_type": "markdown",
   "id": "e4d247ce",
   "metadata": {},
   "source": [
    "#### LECTURA "
   ]
  },
  {
   "cell_type": "markdown",
   "id": "6bd2321f",
   "metadata": {},
   "source": [
    "\n",
    "La principal pregunta de investigación de este artículo es el impacto que la introducción de Facebook ha tenido en la salud mental de los universitarios. Es relevante recordar que a sus inicios, esta aplicación no era universal. Estaba disponible para alumnos de universidades más selectivas, que probablemente se conocían entre ellos. \n",
    "\n",
    "Este artículo está muy bien explicado. Una de las fortalezas que más reconozco es la sección 2 \"Background\". Esto es muy útil para el lector porque ayuda a comprender más sobre la data de salud mental en los Estados Unidos. Además narra una breve historia sobre los inicios de Facebook y su expansión, lo que ayuda a entender mejor toda la data y resultados que serán explicados posteriormente en el artículo. Otra fortaleza es la buena explicación de los datos usados en el experimento. De esta manera se entiende cómo es que se evalúa y así cómo es que se llegan a los resultados. Una última fortaleza que reconozco es que en los resultados no solo quedan en salud mental, sino es extendido al empleo, desempleo, etc. \n",
    "\n",
    "Sin embargo, considero que hubiera sido importante incorporar los testimonios o experiencias de algunos de los universitarios para así saber cómo es que las redes sociales los afectaron personalmente. Los datos presentados son más generales y sería interesante ver un par de testimonios y así poder comparar las experiencias de los estudiantes. \n",
    "\n",
    "Este documento responde a la pregunta y a la hipótesis. En el artículo se concluye que efectivamente las redes sociales han tenido un impacto negativo en la salud mental de los estudiantes universitarios en la época de expansión de Facebook. Los resultados brindados por el artículo sugieren que efectivamente en la población joven adulta, las redes sociales pueden tener un efecto bastante deteriorante emocionalmente y además en el desempeño académico. \n",
    "\n",
    "El artículo cita otros trabajos como el de Allcott et al y Mosquera et al (pp.4). Estos artículos tocan el tema de la adicción a las redes sociales y el efecto económico de Facebook respectivamente. Considero que un buen siguiente paso para continuar con la investigación de esta pregunta es hacer una especie de combinación entre los tres. El artículo de Mosquera et al, menciona que mientras los estudiantes usan menos Facebook gastan menos y tienen menos sintomás de depresión; por otro lado, en el de Allcott se menciona que la adicción a las redes sociales puede causar problemas de autocontrol. Estudiar los efectos económicos, de auto control y salud mental de las redes sociales como conjunto sería interesante porque esto ayudaría a entender de manera más macro el impacto de las redes en la vida de los estudiantes. "
   ]
  },
  {
   "cell_type": "code",
   "execution_count": null,
   "id": "13e67753",
   "metadata": {},
   "outputs": [],
   "source": []
  }
 ],
 "metadata": {
  "kernelspec": {
   "display_name": "Python 3 (ipykernel)",
   "language": "python",
   "name": "python3"
  },
  "language_info": {
   "codemirror_mode": {
    "name": "ipython",
    "version": 3
   },
   "file_extension": ".py",
   "mimetype": "text/x-python",
   "name": "python",
   "nbconvert_exporter": "python",
   "pygments_lexer": "ipython3",
   "version": "3.9.12"
  }
 },
 "nbformat": 4,
 "nbformat_minor": 5
}
