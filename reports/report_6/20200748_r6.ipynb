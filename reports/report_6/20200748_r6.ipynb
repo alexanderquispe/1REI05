{
 "cells": [
  {
   "cell_type": "markdown",
   "id": "66851458",
   "metadata": {},
   "source": [
    "# Reporte 6: "
   ]
  },
  {
   "cell_type": "markdown",
   "id": "364a0eee",
   "metadata": {},
   "source": [
    "Alumna: Angela Rodríguez Fernández\n",
    "Código: 20200748"
   ]
  },
  {
   "cell_type": "markdown",
   "id": "1a9c7a16",
   "metadata": {},
   "source": [
    "La pregunta de investigación de este estudio es: ¿Puede el acceso a mayor información respecto a la ayuda financiera a universidades de alto rendimiento influenciar y alterar las decisiones de estudiantes de bajos ingresos a postular? La importancia de este estudio se debe a que los estudiantes de alto rendimiento y bajos ingresos asisten a universidades selectivas a tasas mucho más bajas que los estudiantes de ingresos altos con logros similares. En este sentido, los autores buscan, a través de un estudio de grupos de tratamiento y grupos de control, probar que comunicaciones dirigidas y personalizadas pueden impactar en la postulación de la universidad de Michigan de Estados Unidos, y así comprobar que pequeños cambios significativos pueden generar grandes diferencias en el comportamiento de los estudiantes. "
   ]
  },
  {
   "cell_type": "markdown",
   "id": "6253b230",
   "metadata": {},
   "source": [
    "La fortaleza de este estudio, a diferencia de previos, ha sido la dimensión de la intervención del HAIL, la beca ofrecida a los estudiantes parte del grupo de tratamiento, y como estos han impacto en el accionar de los estudiantes. Por ejemplo, en este estudio se especificó que se proporcionaría una garantía temprana e incondicional de matrícula gratuita, que la oferta es incondicional y que la garantía es de 4 años. El tipo y la forma en que la información fue brindada jugó un papel importante en aumentar las probabilidades de postular a la universidad ya que, en este caso, ayudó a reducir los costos de postulación, dar certeza sobre la duración del apoyo financiero y tener acceso a esta información en el momento preciso de la toma de decisiones. Asimismo, otro aspecto importante del estudio fue el uso de la aleatorización para escoger al grupo de tratamiento y de control, y así no sesgar las muestras dependiendo de las zonas (rural o urbana), el sexo (femenino o masculino), la raza (blanca o afroamericanos o asiáticos), etc. y los efectos que pueden tener estas variables sobre el resultado final del estudio. Gracias a ello, los autores logran contrarrestar el problema de la inferencia causal y establecer que si hay una relación de causa-efecto respecto a la exposición de información acerca del apoyo y proceso de financiación a estudiantes de alto rendimiento, pero con bajo nivel de ingresos. "
   ]
  },
  {
   "cell_type": "markdown",
   "id": "282d6a29",
   "metadata": {},
   "source": [
    "Las debilidades del estudio están relacionadas con la estandarización local que impide que se aplique a nivel macro el efecto del acceso a mayor información. Asimismo, a pesar de que se menciona que la intervención realizada por el estudio no ha provocado evidentes efectos indirectos, todavía es muy debatible si hubo efectos negativos o positivos que impactaron la toma de decisión de postular o no postular al apoyo financiero de la universidad de otros alumnos elegibles o del mismo grupo de control. Además, aunque se sabe ahora la importancia del acceso a información sobre el proceso de solicitud y ayuda financiera, aun así, hay otras variables que impactan también en la toma de decisión de los alumnos como es el estado de salud mental, si son primera generación de estudiantes universitarios o no, si desean o no continuar con estudios superiores, etc. Estos son factores más individuales y personales, pero también hay otros factores más macro e institucionales que pueden estar arraigados en las propias instituciones como es favoritismo, clasismo, racismo, corrupción, etc. y que afectan el acceso tanto a la información de apoyo financiero, así como el mismo proceso de postulación. "
   ]
  },
  {
   "cell_type": "markdown",
   "id": "6b00ce67",
   "metadata": {},
   "source": [
    "De todas maneras, esto no quita importancia a los logros del proyecto ya que logró reducir, eliminar e incluso revertir las brechas de ingreso en una universidad altamente selectiva. Se ha demostrado que cambiar la opción predeterminada presentada a las personas (el tipo y forma de la información), sin cambiar o aumentar más beneficios, influye fuertemente en la elección y persistencia universitaria de los estudiantes de bajo ingresos, pero de alto rendimiento. Asimismo, confirma que ofertas de becas incondicionales por adelantado cambian significativamente el comportamiento de los estudiantes más aislados y desconectados, y por ende menos propensos a postularse, a universidades de alto rendimiento. Todo esto señala que el momento, el tipo y la forma de acceso a información debe tomarse en cuenta al momento de establecer políticas que buscan acortar las brechas educativas desiguales. "
   ]
  },
  {
   "cell_type": "markdown",
   "id": "0eb6b317",
   "metadata": {},
   "source": [
    "El estudio sobre como disminuir estas brechas educativas universitarias desiguales también se puede abordar a partir de programas de reclutamiento dirigidos y bien diseñados con apoyo necesario que pueden mejorar a largo plazo no solo la entrada, sino también la continuación de estudios para estudiantes de bajos ingresos (Imberman et. al. 2019). Asimismo, también sería bueno seguir el ejemplo de otros estudios en otros países como en Alemania que han tomado en cuenta otros factores al momento de tomar una decisión universitaria como es la intención de continuar estudiando y si sus padres tienen títulos universitarios (Spiess et. al. 2021). En el caso peruano, a pesar de que es una realidad y presenta un proceso muy distinto de aplicación y admisión a las universidades, Mamani y Pintado (2018) señalan que, en general, para entender la toma de decisión de los estudiantes para continuar sus estudios superiores y escoger una universidad está relacionado con perspectivas racionales, emocionales, históricas, etc. "
   ]
  },
  {
   "cell_type": "markdown",
   "id": "65117096",
   "metadata": {},
   "source": [
    "Bibliografía:\n",
    "\n",
    "Peter, F., Spiess, C. K. & Zambre, V. (2021). Informing students about college: Increasing enrollment using a behavioral intervention? Journal of Economic Behavior & Organization, 190, 524-549. https://doi.org/10.1016/j.jebo.2021.07.032\n",
    "\n",
    "Andrews, R. J., Imberman, S. A. & Lovenheim, M. F. (2020). Recruiting and supporting low-income, high-achieving students at flagship universities. Economics of Education Review, 74, 101923. https://doi.org/10.1016/j.econedurev.2019.101923\n",
    "\n",
    "Mamani, O., Pintado, T. (2018). Factores que influyen en la elección de una universidad en los estudiantes jóvenes y adultos del Perú [Tesis de Maestría]. Universidad Complutense\n"
   ]
  }
 ],
 "metadata": {
  "kernelspec": {
   "display_name": "Python 3 (ipykernel)",
   "language": "python",
   "name": "python3"
  },
  "language_info": {
   "codemirror_mode": {
    "name": "ipython",
    "version": 3
   },
   "file_extension": ".py",
   "mimetype": "text/x-python",
   "name": "python",
   "nbconvert_exporter": "python",
   "pygments_lexer": "ipython3",
   "version": "3.9.12"
  }
 },
 "nbformat": 4,
 "nbformat_minor": 5
}
