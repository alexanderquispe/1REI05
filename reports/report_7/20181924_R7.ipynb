{
 "cells": [
  {
   "cell_type": "markdown",
   "id": "4691aa1b",
   "metadata": {},
   "source": [
    "Al margen de las consideraciones eticas que supone realizar algun tipo de experimentacion social, los autores comparten los resultados del experimento MTO en Estados Unidos (Moving to Opportunity) y tratan de medir el impacto que este ha tenido por medio del estudio de data administrativa de quienes participaron en este experimento. En el MTO, se escogió a un grupo de familias que vivian en zonas de alta pobreza, para ofreceles cupones a vecindarios menos pobres. En consecuencia, se observó a los niños/as de las familias escogidas menores a 13 años, y también a los mayores. De esta manera, los niños menores de 13 años percibieron (de adultos) un ingreso anual 31% mas alto que el promedio de sus vecindarios de origen, así como una mejor formacion academica y mas posibilidad de casarse y formar una familia. Lo cual, no suele ocurrir los niños que accedieron al experimento despues de los 13 años, que más bien se vieron afectados por la mudanza. En ese sentido, la pregunta de investigación que guie al texto deberia ser ¿Que efectos tuvieron los niños escogidos de las casi 4000 familias en el experimento MTO en el futuro corto, mediano y largo plazo?"
   ]
  },
  {
   "cell_type": "markdown",
   "id": "ceb08f62",
   "metadata": {},
   "source": [
    "En ese sentido, el autor para intentar abordar las dimensiones que responden a la pregunta, intenta establecer una correlación entre los factores y las variables mediante el experimento, comparando los resultados del grupo de control y el grupo experimental.  Así, se concluye que en el corto plazo, los niños del MTO experimentan cambios positivos y modifican conuctas problematicas dutante los primeros años, seguido de una caida en los años postiores. Mientras que en el mediano plazo, suele identificarse algunos problemas (especialmente entre los 13-18años), sobretodo en el genero masculino, aunque comparativamente menos violento. En el largo plazo, se concluye de que los adultos que participaron en el MTO, tienen menos tasas de participacion en acticvidades ilegales y de mayor ingresos anuales. De esta manera, una de las principales fortalezas del texto es que al haber dividido sus factores oportunamente, le es más facil brindar una explicación por medio de la manipulación de data. Así también logra medir los impactos en el corto, mediano y largo plazo, y aclarar que factores como el tiempo tambien influyen dentro de este experimento. No obstante, uno de los problemas que tiene esta investigación, es el tema etico de experimentar con grupos humanos sobretodo vulnerables, y saber que se está cambiando el rumbo de 4000 familias con el fin de obtener una respuesta o beneficios academicas, lo cual desvirtua de todas maneras el experimento."
   ]
  },
  {
   "cell_type": "markdown",
   "id": "161c94f9",
   "metadata": {},
   "source": [
    "De esta forma, el autor ha logrado desarrollar una respuesta convincente a la pregunta principal de investigación. Esto es importante porque este experimento a evidenciado que existe una relación en el entorno y dinamicas sociales que afectan a un niño, y que pueden tener repercusiones en el corto, mediano y largo plazo. Asimismo, también evidencia es posible apostar por la movilidad social y fomentar el desarrollo o prosperidad de una familia, si es que se garantizan las condiciones adecuadas. Esto ultimo no es solo importante para el plano academico, sino tambien para el desarrollo de posibles polticas publicas. Tambien deja un buen precedente para futuras investigaciones sobre dicho experimento o algunas similares que se hayan realizado. Finalmente, uno de los siguientes pasos que se podrían seguir, sería evaluar si hay otros casos o experimentos similares que confirmen lo descrito por el autor, o en todo caso permita hacer una comparacion. Asimismo, podria tomarse en cuenta otras variables ademas del vecindario o genero, tal vez escuela en la que el niño asista, grupo etnico, indice de criminalidad, etc. O bien profundizar en las variables estudiadas en las brechas sociales y de genero. Para terminar, un siguiente paso en las futuras investigaciones, seria emular futuros escenarios o modelos a partir de los experimentos ya realizados, puesto que recrear un experimento similares en estos tiempos, sería cuestionable."
   ]
  },
  {
   "cell_type": "markdown",
   "id": "3d481b94",
   "metadata": {},
   "source": []
  },
  {
   "cell_type": "code",
   "execution_count": null,
   "id": "5722534a",
   "metadata": {},
   "outputs": [],
   "source": []
  },
  {
   "cell_type": "code",
   "execution_count": null,
   "id": "efd0d815",
   "metadata": {},
   "outputs": [],
   "source": []
  },
  {
   "cell_type": "code",
   "execution_count": null,
   "id": "a4aff4c2",
   "metadata": {},
   "outputs": [],
   "source": []
  },
  {
   "cell_type": "code",
   "execution_count": null,
   "id": "a83acb17",
   "metadata": {},
   "outputs": [],
   "source": []
  },
  {
   "cell_type": "code",
   "execution_count": null,
   "id": "c622c103",
   "metadata": {},
   "outputs": [],
   "source": []
  },
  {
   "cell_type": "code",
   "execution_count": null,
   "id": "7767bf60",
   "metadata": {},
   "outputs": [],
   "source": []
  },
  {
   "cell_type": "code",
   "execution_count": null,
   "id": "9a46bcfa",
   "metadata": {},
   "outputs": [],
   "source": []
  },
  {
   "cell_type": "code",
   "execution_count": null,
   "id": "7f56b0f8",
   "metadata": {},
   "outputs": [],
   "source": []
  },
  {
   "cell_type": "code",
   "execution_count": null,
   "id": "773a0126",
   "metadata": {},
   "outputs": [],
   "source": []
  },
  {
   "cell_type": "code",
   "execution_count": null,
   "id": "ecda56c0",
   "metadata": {},
   "outputs": [],
   "source": []
  },
  {
   "cell_type": "code",
   "execution_count": null,
   "id": "3ba08fd7",
   "metadata": {},
   "outputs": [],
   "source": []
  },
  {
   "cell_type": "code",
   "execution_count": null,
   "id": "0cc6b293",
   "metadata": {},
   "outputs": [],
   "source": []
  },
  {
   "cell_type": "code",
   "execution_count": null,
   "id": "69b0b08e",
   "metadata": {},
   "outputs": [],
   "source": []
  }
 ],
 "metadata": {
  "kernelspec": {
   "display_name": "Python 3 (ipykernel)",
   "language": "python",
   "name": "python3"
  },
  "language_info": {
   "codemirror_mode": {
    "name": "ipython",
    "version": 3
   },
   "file_extension": ".py",
   "mimetype": "text/x-python",
   "name": "python",
   "nbconvert_exporter": "python",
   "pygments_lexer": "ipython3",
   "version": "3.9.12"
  }
 },
 "nbformat": 4,
 "nbformat_minor": 5
}
