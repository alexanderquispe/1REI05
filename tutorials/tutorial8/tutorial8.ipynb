{
 "cells": [
  {
   "cell_type": "code",
   "execution_count": 6,
   "id": "119add9b",
   "metadata": {},
   "outputs": [],
   "source": [
    "import numpy as np \n",
    "import pandas as pd \n",
    "import statsmodels.api as sm \n",
    "import statsmodels.formula.api as smf \n",
    "from itertools import combinations \n",
    "import plotnine as p"
   ]
  },
  {
   "cell_type": "markdown",
   "id": "da1b9605",
   "metadata": {},
   "source": [
    "## Randomized Control Trial (RCT):"
   ]
  },
  {
   "cell_type": "markdown",
   "id": "38ce3fc1",
   "metadata": {},
   "source": [
    "- Key Idea: Remember that our goal is to find clever ways to remove bias and make the treatment group and the control group comparable. Thus all the differences that we see will be only the average effect of the applied treatment. So, we require to make association be causation:\n",
    "\n",
    "$$ E[Y|T=1] - E[Y|T=0] = \\underbrace{E[Y_1 - Y_0|T=1]}_{ATET} + \\underbrace{E[Y_0|T=1] - E[Y_0|T=0]}_{BIAS} $$\n",
    "    "
   ]
  },
  {
   "cell_type": "markdown",
   "id": "faa5cc96",
   "metadata": {},
   "source": [
    "The first tool we have to make the bias vanish is **Randomized Experiments**.\n",
    "\n",
    "In short, an RCT is an study design that **randomly assigns** participants into an experimental group or a control group. As the study is conducted, the **only expected difference** between the control and experimental groups in a RCT is the outcome variable being studied."
   ]
  },
  {
   "cell_type": "markdown",
   "id": "a5f8a48b",
   "metadata": {},
   "source": [
    "Randomisation annihilates bias by making the potential outcomes independent of the treatment: \n",
    "\n",
    "$$ (Y_0, Y_1) \\,\\bot\\, T  $$\n",
    "\n",
    "Saying that the potential outcomes are independent of the treatment is saying that they would be, in expectation, the same in the treatment or the control group. In simpler terms, it means that treatment and control groups are comparable.\n",
    "\n",
    "Therefore, this means that the treatment is the only thing generating a difference between the outcome in the treated and in the control group."
   ]
  },
  {
   "cell_type": "markdown",
   "id": "4115785f",
   "metadata": {},
   "source": [
    "### Example 1: the ideal experiment"
   ]
  },
  {
   "cell_type": "markdown",
   "id": "34c1cbe0",
   "metadata": {},
   "source": [
    "In 2020, the Coronavirus Pandemic forced businesses to adapt to social distancing. In this context, we want to answer if online learning has a negative or positive impact on the student’s academic performance.\n",
    "\n",
    "To solve that, we need to make the treated and untreated comparable. One way to force this is by randomly assigning the online and presential classes to students.\n",
    "\n",
    "Imagine that we've randomized classes: some students were assigned to have face-to-face lectures, others to have only online lessons, and a third group to have a blended format of both online and face-to-face classes. Then, we collect data on a standard exam at the end of the semester:"
   ]
  },
  {
   "cell_type": "code",
   "execution_count": 7,
   "id": "58b111a4",
   "metadata": {},
   "outputs": [
    {
     "name": "stdout",
     "output_type": "stream",
     "text": [
      "(323, 10)\n"
     ]
    },
    {
     "data": {
      "text/html": [
       "<div>\n",
       "<style scoped>\n",
       "    .dataframe tbody tr th:only-of-type {\n",
       "        vertical-align: middle;\n",
       "    }\n",
       "\n",
       "    .dataframe tbody tr th {\n",
       "        vertical-align: top;\n",
       "    }\n",
       "\n",
       "    .dataframe thead th {\n",
       "        text-align: right;\n",
       "    }\n",
       "</style>\n",
       "<table border=\"1\" class=\"dataframe\">\n",
       "  <thead>\n",
       "    <tr style=\"text-align: right;\">\n",
       "      <th></th>\n",
       "      <th>gender</th>\n",
       "      <th>asian</th>\n",
       "      <th>black</th>\n",
       "      <th>hawaiian</th>\n",
       "      <th>hispanic</th>\n",
       "      <th>unknown</th>\n",
       "      <th>white</th>\n",
       "      <th>format_ol</th>\n",
       "      <th>format_blended</th>\n",
       "      <th>falsexam</th>\n",
       "    </tr>\n",
       "  </thead>\n",
       "  <tbody>\n",
       "    <tr>\n",
       "      <th>0</th>\n",
       "      <td>0</td>\n",
       "      <td>0.0</td>\n",
       "      <td>0.0</td>\n",
       "      <td>0.0</td>\n",
       "      <td>0.0</td>\n",
       "      <td>0.0</td>\n",
       "      <td>1.0</td>\n",
       "      <td>0</td>\n",
       "      <td>0.0</td>\n",
       "      <td>63.29997</td>\n",
       "    </tr>\n",
       "    <tr>\n",
       "      <th>1</th>\n",
       "      <td>1</td>\n",
       "      <td>0.0</td>\n",
       "      <td>0.0</td>\n",
       "      <td>0.0</td>\n",
       "      <td>0.0</td>\n",
       "      <td>0.0</td>\n",
       "      <td>1.0</td>\n",
       "      <td>0</td>\n",
       "      <td>0.0</td>\n",
       "      <td>79.96000</td>\n",
       "    </tr>\n",
       "    <tr>\n",
       "      <th>2</th>\n",
       "      <td>1</td>\n",
       "      <td>0.0</td>\n",
       "      <td>0.0</td>\n",
       "      <td>0.0</td>\n",
       "      <td>0.0</td>\n",
       "      <td>0.0</td>\n",
       "      <td>1.0</td>\n",
       "      <td>0</td>\n",
       "      <td>1.0</td>\n",
       "      <td>83.37000</td>\n",
       "    </tr>\n",
       "    <tr>\n",
       "      <th>3</th>\n",
       "      <td>1</td>\n",
       "      <td>0.0</td>\n",
       "      <td>0.0</td>\n",
       "      <td>0.0</td>\n",
       "      <td>0.0</td>\n",
       "      <td>0.0</td>\n",
       "      <td>1.0</td>\n",
       "      <td>0</td>\n",
       "      <td>1.0</td>\n",
       "      <td>90.01994</td>\n",
       "    </tr>\n",
       "    <tr>\n",
       "      <th>4</th>\n",
       "      <td>1</td>\n",
       "      <td>0.0</td>\n",
       "      <td>0.0</td>\n",
       "      <td>0.0</td>\n",
       "      <td>0.0</td>\n",
       "      <td>0.0</td>\n",
       "      <td>1.0</td>\n",
       "      <td>1</td>\n",
       "      <td>0.0</td>\n",
       "      <td>83.30000</td>\n",
       "    </tr>\n",
       "  </tbody>\n",
       "</table>\n",
       "</div>"
      ],
      "text/plain": [
       "   gender  asian  black  hawaiian  hispanic  unknown  white  format_ol  \\\n",
       "0       0    0.0    0.0       0.0       0.0      0.0    1.0          0   \n",
       "1       1    0.0    0.0       0.0       0.0      0.0    1.0          0   \n",
       "2       1    0.0    0.0       0.0       0.0      0.0    1.0          0   \n",
       "3       1    0.0    0.0       0.0       0.0      0.0    1.0          0   \n",
       "4       1    0.0    0.0       0.0       0.0      0.0    1.0          1   \n",
       "\n",
       "   format_blended  falsexam  \n",
       "0             0.0  63.29997  \n",
       "1             0.0  79.96000  \n",
       "2             1.0  83.37000  \n",
       "3             1.0  90.01994  \n",
       "4             0.0  83.30000  "
      ]
     },
     "execution_count": 7,
     "metadata": {},
     "output_type": "execute_result"
    }
   ],
   "source": [
    "data = pd.read_csv('https://github.com/matheusfacure/python-causality-handbook/raw/master/causal-inference-for-the-brave-and-true/data/online_classroom.csv')\n",
    "print(data.shape)\n",
    "data.head()\n"
   ]
  },
  {
   "cell_type": "markdown",
   "id": "880ef67f",
   "metadata": {},
   "source": [
    "To estimate the causal effect, we can simply compute the mean score for each of the treatment groups."
   ]
  },
  {
   "cell_type": "code",
   "execution_count": 8,
   "id": "a982eb23",
   "metadata": {},
   "outputs": [
    {
     "data": {
      "text/html": [
       "<div>\n",
       "<style scoped>\n",
       "    .dataframe tbody tr th:only-of-type {\n",
       "        vertical-align: middle;\n",
       "    }\n",
       "\n",
       "    .dataframe tbody tr th {\n",
       "        vertical-align: top;\n",
       "    }\n",
       "\n",
       "    .dataframe thead th {\n",
       "        text-align: right;\n",
       "    }\n",
       "</style>\n",
       "<table border=\"1\" class=\"dataframe\">\n",
       "  <thead>\n",
       "    <tr style=\"text-align: right;\">\n",
       "      <th></th>\n",
       "      <th>gender</th>\n",
       "      <th>asian</th>\n",
       "      <th>black</th>\n",
       "      <th>hawaiian</th>\n",
       "      <th>hispanic</th>\n",
       "      <th>unknown</th>\n",
       "      <th>white</th>\n",
       "      <th>format_ol</th>\n",
       "      <th>format_blended</th>\n",
       "      <th>falsexam</th>\n",
       "    </tr>\n",
       "    <tr>\n",
       "      <th>class_format</th>\n",
       "      <th></th>\n",
       "      <th></th>\n",
       "      <th></th>\n",
       "      <th></th>\n",
       "      <th></th>\n",
       "      <th></th>\n",
       "      <th></th>\n",
       "      <th></th>\n",
       "      <th></th>\n",
       "      <th></th>\n",
       "    </tr>\n",
       "  </thead>\n",
       "  <tbody>\n",
       "    <tr>\n",
       "      <th>blended</th>\n",
       "      <td>0.550459</td>\n",
       "      <td>0.217949</td>\n",
       "      <td>0.102564</td>\n",
       "      <td>0.025641</td>\n",
       "      <td>0.012821</td>\n",
       "      <td>0.012821</td>\n",
       "      <td>0.628205</td>\n",
       "      <td>0.0</td>\n",
       "      <td>1.0</td>\n",
       "      <td>77.093731</td>\n",
       "    </tr>\n",
       "    <tr>\n",
       "      <th>face_to_face</th>\n",
       "      <td>0.633333</td>\n",
       "      <td>0.202020</td>\n",
       "      <td>0.070707</td>\n",
       "      <td>0.000000</td>\n",
       "      <td>0.010101</td>\n",
       "      <td>0.000000</td>\n",
       "      <td>0.717172</td>\n",
       "      <td>0.0</td>\n",
       "      <td>0.0</td>\n",
       "      <td>78.547485</td>\n",
       "    </tr>\n",
       "    <tr>\n",
       "      <th>online</th>\n",
       "      <td>0.542553</td>\n",
       "      <td>0.228571</td>\n",
       "      <td>0.028571</td>\n",
       "      <td>0.014286</td>\n",
       "      <td>0.028571</td>\n",
       "      <td>0.000000</td>\n",
       "      <td>0.700000</td>\n",
       "      <td>1.0</td>\n",
       "      <td>0.0</td>\n",
       "      <td>73.635263</td>\n",
       "    </tr>\n",
       "  </tbody>\n",
       "</table>\n",
       "</div>"
      ],
      "text/plain": [
       "                gender     asian     black  hawaiian  hispanic   unknown  \\\n",
       "class_format                                                               \n",
       "blended       0.550459  0.217949  0.102564  0.025641  0.012821  0.012821   \n",
       "face_to_face  0.633333  0.202020  0.070707  0.000000  0.010101  0.000000   \n",
       "online        0.542553  0.228571  0.028571  0.014286  0.028571  0.000000   \n",
       "\n",
       "                 white  format_ol  format_blended   falsexam  \n",
       "class_format                                                  \n",
       "blended       0.628205        0.0             1.0  77.093731  \n",
       "face_to_face  0.717172        0.0             0.0  78.547485  \n",
       "online        0.700000        1.0             0.0  73.635263  "
      ]
     },
     "execution_count": 8,
     "metadata": {},
     "output_type": "execute_result"
    }
   ],
   "source": [
    "(data\n",
    " .assign(class_format = np.select(\n",
    "     [data[\"format_ol\"].astype(bool), data[\"format_blended\"].astype(bool)],\n",
    "     [\"online\", \"blended\"],\n",
    "     default=\"face_to_face\" #create a new variable\n",
    " ))\n",
    " .groupby([\"class_format\"]) #group by the new variable (treatments)\n",
    " .mean()) #get the exam's mean\n"
   ]
  },
  {
   "cell_type": "markdown",
   "id": "1dcabd4d",
   "metadata": {},
   "source": [
    "We can see that face-to-face classes yield a 78.54 average score, while online courses yield a 73.63 average score. Not so good news for the proponents of online learning. The ATT for an online class is thus -4.91. This means that online classes cause students to perform about 5 points lower, on average. "
   ]
  },
  {
   "cell_type": "markdown",
   "id": "0c999675",
   "metadata": {},
   "source": [
    "A good sanity check to see if the randomization was done right (or if you are looking at the correct data) is to check if the treated are equal to the untreated in pre-treatment variables. Our data has information on gender and ethnicity to see if they are similar across groups. We can say that they look pretty similar for the gender, asian, hispanic, and white variables. The black variable, however, seems a little bit different."
   ]
  },
  {
   "cell_type": "markdown",
   "id": "e02030ae",
   "metadata": {},
   "source": [
    "### Example 2: the Methodology of Fisher’s sharp null"
   ]
  },
  {
   "cell_type": "markdown",
   "id": "396faa65",
   "metadata": {},
   "source": [
    "The main advantage of randomization inference is that it allows us to make probability calculations revealing whether the data are likely a draw from a truly random distribution or not.\n",
    "\n",
    "**Fisher’s sharp null** is a claim we make wherein no unit in our data, when treated, had a causal effect. The value of Fisher’s sharp null is that it allows us to make an “exact” inference that does not depend on hypothesized distributions.\n"
   ]
  },
  {
   "cell_type": "markdown",
   "id": "ab388f26",
   "metadata": {},
   "source": [
    "### Methodological steps for an RCT:"
   ]
  },
  {
   "cell_type": "markdown",
   "id": "7a641f27",
   "metadata": {},
   "source": [
    "There are six steps to randomization inference: (1) the choice of the sharp null, (2) the construction of the null, (3) the picking of a different treatment vector, (4) the calculation of the corresponding test statistic for that new treatment vector, (5) the randomization over step 3 as you cycle through a number of new treatment vectors (ideally all possible combinations), and (6) the calculation the exact p-value."
   ]
  },
  {
   "cell_type": "markdown",
   "id": "33f6193b",
   "metadata": {},
   "source": [
    "Imagine that you work for a homeless shelter with a cognitive behavioral therapy (CBT) program for treating mental illness and substance abuse. You have enough funding to enlist four people into the study, but you have eight residents. Therefore, there are four in treatment and four in control. After concluding the CBT, residents are interviewed to determine the severity of their mental illness symptoms."
   ]
  },
  {
   "cell_type": "code",
   "execution_count": 9,
   "id": "afa05318",
   "metadata": {},
   "outputs": [
    {
     "data": {
      "text/html": [
       "<div>\n",
       "<style scoped>\n",
       "    .dataframe tbody tr th:only-of-type {\n",
       "        vertical-align: middle;\n",
       "    }\n",
       "\n",
       "    .dataframe tbody tr th {\n",
       "        vertical-align: top;\n",
       "    }\n",
       "\n",
       "    .dataframe thead th {\n",
       "        text-align: right;\n",
       "    }\n",
       "</style>\n",
       "<table border=\"1\" class=\"dataframe\">\n",
       "  <thead>\n",
       "    <tr style=\"text-align: right;\">\n",
       "      <th></th>\n",
       "      <th>name</th>\n",
       "      <th>d</th>\n",
       "      <th>y</th>\n",
       "      <th>y0</th>\n",
       "      <th>y1</th>\n",
       "    </tr>\n",
       "  </thead>\n",
       "  <tbody>\n",
       "    <tr>\n",
       "      <th>0</th>\n",
       "      <td>Andy</td>\n",
       "      <td>1</td>\n",
       "      <td>10</td>\n",
       "      <td>.</td>\n",
       "      <td>10</td>\n",
       "    </tr>\n",
       "    <tr>\n",
       "      <th>1</th>\n",
       "      <td>Ben</td>\n",
       "      <td>1</td>\n",
       "      <td>5</td>\n",
       "      <td>.</td>\n",
       "      <td>5</td>\n",
       "    </tr>\n",
       "    <tr>\n",
       "      <th>2</th>\n",
       "      <td>Chad</td>\n",
       "      <td>1</td>\n",
       "      <td>16</td>\n",
       "      <td>.</td>\n",
       "      <td>16</td>\n",
       "    </tr>\n",
       "    <tr>\n",
       "      <th>3</th>\n",
       "      <td>Daniel</td>\n",
       "      <td>1</td>\n",
       "      <td>3</td>\n",
       "      <td>.</td>\n",
       "      <td>3</td>\n",
       "    </tr>\n",
       "    <tr>\n",
       "      <th>4</th>\n",
       "      <td>Edith</td>\n",
       "      <td>0</td>\n",
       "      <td>5</td>\n",
       "      <td>5</td>\n",
       "      <td>.</td>\n",
       "    </tr>\n",
       "    <tr>\n",
       "      <th>5</th>\n",
       "      <td>Frank</td>\n",
       "      <td>0</td>\n",
       "      <td>7</td>\n",
       "      <td>7</td>\n",
       "      <td>.</td>\n",
       "    </tr>\n",
       "    <tr>\n",
       "      <th>6</th>\n",
       "      <td>George</td>\n",
       "      <td>0</td>\n",
       "      <td>8</td>\n",
       "      <td>8</td>\n",
       "      <td>.</td>\n",
       "    </tr>\n",
       "    <tr>\n",
       "      <th>7</th>\n",
       "      <td>Hank</td>\n",
       "      <td>0</td>\n",
       "      <td>10</td>\n",
       "      <td>10</td>\n",
       "      <td>.</td>\n",
       "    </tr>\n",
       "  </tbody>\n",
       "</table>\n",
       "</div>"
      ],
      "text/plain": [
       "     name  d   y  y0  y1\n",
       "0    Andy  1  10   .  10\n",
       "1     Ben  1   5   .   5\n",
       "2    Chad  1  16   .  16\n",
       "3  Daniel  1   3   .   3\n",
       "4   Edith  0   5   5   .\n",
       "5   Frank  0   7   7   .\n",
       "6  George  0   8   8   .\n",
       "7    Hank  0  10  10   ."
      ]
     },
     "execution_count": 9,
     "metadata": {},
     "output_type": "execute_result"
    }
   ],
   "source": [
    "def read_data(file): \n",
    "    return pd.read_stata(\"https://raw.github.com/scunning1975/mixtape/master/\" + file)\n",
    "\n",
    "ri = read_data('ri.dta')\n",
    "ri\n"
   ]
  },
  {
   "cell_type": "markdown",
   "id": "ddc36c0b",
   "metadata": {},
   "source": [
    "To calculate the exact p-value in this example, it is necessary to create the assignment of values of being able to be treated ($D = 1$) or not be treated ($D = 0$), from them take the average of the potential results and obtaining the result $Y(D=1) - Y(D=0)$, repeat this procedure until the combinations of $D$ can no longer be repeated.\n",
    "\n",
    "Finally put the results in the following formula:\n",
    "\n",
    "$$\\Pr\\Big(t(D',Y)\\geq t(D_{observed},Y) \\mid \\delta_i=0, \\forall i)\\Big)= \\dfrac{\\sum_{D'\\in \\Omega } I(t(D',Y) \\geq t(D_{observed},Y))}{K}$$"
   ]
  },
  {
   "cell_type": "markdown",
   "id": "08a4926b",
   "metadata": {},
   "source": [
    "The following code illustrates the procedure performed manually"
   ]
  },
  {
   "cell_type": "code",
   "execution_count": 10,
   "id": "25b8f45e",
   "metadata": {},
   "outputs": [
    {
     "data": {
      "text/plain": [
       "0    0.371429\n",
       "Name: rank, dtype: float64"
      ]
     },
     "execution_count": 10,
     "metadata": {},
     "output_type": "execute_result"
    }
   ],
   "source": [
    "# data 1: grupos de control y tratamiento\n",
    "import ssl\n",
    "ssl._create_default_https_context = ssl._create_unverified_context\n",
    "def read_data(file): \n",
    "    return pd.read_stata(\"https://raw.github.com/scunning1975/mixtape/master/\" + file)\n",
    "\n",
    "ri = read_data('ri.dta') # leer data\n",
    "ri['id'] = range(1,9) # colocar id\n",
    "treated = range(1,5) # numero de elementos tratados\n",
    "\n",
    "\n",
    "#data 2: posibles combinaciónes\n",
    "combo = pd.DataFrame(np.array(list(combinations(ri['id'], 4))), \n",
    "                     columns=['treated1', 'treated2', 'treated3', 'treated4']) # fijar 4 casos tratados\n",
    "combo['permutation'] = np.arange(1,71) # combinatoria de 8 elementos en 4 grupos (70)\n",
    "\n",
    "\n",
    "# combinar dos datas:\n",
    "combo['key'] = 1 #variable para combinar dos datas (key)\n",
    "ri['key'] = 1\n",
    "combo2 = pd.merge(ri, combo, on='key')\n",
    "\n",
    "combo2 = combo2.sort_values(['permutation', 'name']) # ordenar data\n",
    "\n",
    "# Permutaciones: aleatorizar el tratamiento \n",
    "combo2['d'] = 0\n",
    "combo2.loc[(combo2.treated1==combo2.id) | \n",
    "          (combo2.treated2==combo2.id) | \n",
    "          (combo2.treated3==combo2.id) | \n",
    "          (combo2.treated4==combo2.id), 'd'] = 1\n",
    "\n",
    "# media de resultados por grupo de tratamiento y control\n",
    "te1 = combo2[combo2.d==1].groupby('permutation')['y'].mean() # media tratamiento\n",
    "te0 = combo2[combo2.d==0].groupby('permutation')['y'].mean() # media control\n",
    "\n",
    "# ATE\n",
    "p_value = pd.merge(te1, te0, how='inner', on=\"permutation\")\n",
    "p_value.columns = ['te1', 'te0']\n",
    "p_value = p_value.reset_index()\n",
    "p_value['ate'] = p_value['te1'] - p_value['te0']\n",
    "p_value = p_value.sort_values(by='ate', ascending=False)\n",
    "\n",
    "# rank\n",
    "p_value['rank'] = range(1, p_value.shape[0]+1)\n",
    "p_value = p_value[p_value['permutation'] == 1]\n",
    "x = p_value['rank'] / 70 # p-valor\n",
    "x\n",
    "\n"
   ]
  }
 ],
 "metadata": {
  "kernelspec": {
   "display_name": "Python 3.8.0 64-bit",
   "language": "python",
   "name": "python3"
  },
  "language_info": {
   "codemirror_mode": {
    "name": "ipython",
    "version": 3
   },
   "file_extension": ".py",
   "mimetype": "text/x-python",
   "name": "python",
   "nbconvert_exporter": "python",
   "pygments_lexer": "ipython3",
   "version": "3.8.0"
  },
  "vscode": {
   "interpreter": {
    "hash": "9650cb4e16cdd4a8e8e2d128bf38d875813998db22a3c986335f89e0cb4d7bb2"
   }
  }
 },
 "nbformat": 4,
 "nbformat_minor": 5
}
