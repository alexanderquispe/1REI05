{
 "cells": [
  {
   "cell_type": "code",
   "execution_count": 1,
   "id": "eb9a8171",
   "metadata": {},
   "outputs": [
    {
     "name": "stdout",
     "output_type": "stream",
     "text": [
      "Collecting linearmodels\n",
      "  Downloading linearmodels-4.27-cp39-cp39-win_amd64.whl (1.6 MB)Note: you may need to restart the kernel to use updated packages.\n",
      "\n",
      "Requirement already satisfied: numpy>=1.16 in c:\\users\\samia\\downloads\\anaconda\\lib\\site-packages (from linearmodels) (1.21.5)\n",
      "Requirement already satisfied: Cython>=0.29.21 in c:\\users\\samia\\downloads\\anaconda\\lib\\site-packages (from linearmodels) (0.29.28)\n",
      "Requirement already satisfied: statsmodels>=0.11 in c:\\users\\samia\\downloads\\anaconda\\lib\\site-packages (from linearmodels) (0.13.2)\n",
      "Collecting property-cached>=1.6.3\n",
      "  Downloading property_cached-1.6.4-py2.py3-none-any.whl (7.8 kB)\n",
      "Collecting pyhdfe>=0.1\n",
      "  Downloading pyhdfe-0.1.1-py3-none-any.whl (18 kB)\n",
      "Collecting setuptools-scm<7.0.0,>=6.4.2\n",
      "  Downloading setuptools_scm-6.4.2-py3-none-any.whl (37 kB)\n",
      "Requirement already satisfied: pandas>=0.24 in c:\\users\\samia\\downloads\\anaconda\\lib\\site-packages (from linearmodels) (1.4.2)\n",
      "Requirement already satisfied: scipy>=1.2 in c:\\users\\samia\\downloads\\anaconda\\lib\\site-packages (from linearmodels) (1.7.3)\n",
      "Collecting formulaic~=0.3.2\n",
      "  Downloading formulaic-0.3.4-py3-none-any.whl (68 kB)\n",
      "Requirement already satisfied: mypy-extensions>=0.4 in c:\\users\\samia\\downloads\\anaconda\\lib\\site-packages (from linearmodels) (0.4.3)\n",
      "Collecting interface-meta<2.0.0,>=1.2.0\n",
      "  Downloading interface_meta-1.3.0-py3-none-any.whl (14 kB)\n",
      "Requirement already satisfied: wrapt>=1.0 in c:\\users\\samia\\downloads\\anaconda\\lib\\site-packages (from formulaic~=0.3.2->linearmodels) (1.12.1)\n",
      "Collecting astor>=0.8\n",
      "  Downloading astor-0.8.1-py2.py3-none-any.whl (27 kB)\n",
      "Requirement already satisfied: pytz>=2020.1 in c:\\users\\samia\\downloads\\anaconda\\lib\\site-packages (from pandas>=0.24->linearmodels) (2021.3)\n",
      "Requirement already satisfied: python-dateutil>=2.8.1 in c:\\users\\samia\\downloads\\anaconda\\lib\\site-packages (from pandas>=0.24->linearmodels) (2.8.2)\n",
      "Requirement already satisfied: six>=1.5 in c:\\users\\samia\\downloads\\anaconda\\lib\\site-packages (from python-dateutil>=2.8.1->pandas>=0.24->linearmodels) (1.16.0)\n",
      "Requirement already satisfied: packaging>=20.0 in c:\\users\\samia\\downloads\\anaconda\\lib\\site-packages (from setuptools-scm<7.0.0,>=6.4.2->linearmodels) (21.3)\n",
      "Requirement already satisfied: tomli>=1.0.0 in c:\\users\\samia\\downloads\\anaconda\\lib\\site-packages (from setuptools-scm<7.0.0,>=6.4.2->linearmodels) (1.2.2)\n",
      "Requirement already satisfied: setuptools in c:\\users\\samia\\downloads\\anaconda\\lib\\site-packages (from setuptools-scm<7.0.0,>=6.4.2->linearmodels) (61.2.0)\n",
      "Requirement already satisfied: pyparsing!=3.0.5,>=2.0.2 in c:\\users\\samia\\downloads\\anaconda\\lib\\site-packages (from packaging>=20.0->setuptools-scm<7.0.0,>=6.4.2->linearmodels) (3.0.4)\n",
      "Requirement already satisfied: patsy>=0.5.2 in c:\\users\\samia\\downloads\\anaconda\\lib\\site-packages (from statsmodels>=0.11->linearmodels) (0.5.2)\n",
      "Installing collected packages: interface-meta, astor, setuptools-scm, pyhdfe, property-cached, formulaic, linearmodels\n",
      "Successfully installed astor-0.8.1 formulaic-0.3.4 interface-meta-1.3.0 linearmodels-4.27 property-cached-1.6.4 pyhdfe-0.1.1 setuptools-scm-6.4.2\n"
     ]
    }
   ],
   "source": [
    "pip install linearmodels"
   ]
  },
  {
   "cell_type": "code",
   "execution_count": 2,
   "id": "bc3b6346",
   "metadata": {},
   "outputs": [
    {
     "name": "stdout",
     "output_type": "stream",
     "text": [
      "Requirement already satisfied: seaborn in c:\\users\\samia\\downloads\\anaconda\\lib\\site-packages (0.11.2)Note: you may need to restart the kernel to use updated packages.\n",
      "Requirement already satisfied: numpy>=1.15 in c:\\users\\samia\\downloads\\anaconda\\lib\\site-packages (from seaborn) (1.21.5)\n",
      "Requirement already satisfied: matplotlib>=2.2 in c:\\users\\samia\\downloads\\anaconda\\lib\\site-packages (from seaborn) (3.5.1)\n",
      "Requirement already satisfied: pandas>=0.23 in c:\\users\\samia\\downloads\\anaconda\\lib\\site-packages (from seaborn) (1.4.2)\n",
      "Requirement already satisfied: scipy>=1.0 in c:\\users\\samia\\downloads\\anaconda\\lib\\site-packages (from seaborn) (1.7.3)\n",
      "Requirement already satisfied: packaging>=20.0 in c:\\users\\samia\\downloads\\anaconda\\lib\\site-packages (from matplotlib>=2.2->seaborn) (21.3)\n",
      "Requirement already satisfied: pillow>=6.2.0 in c:\\users\\samia\\downloads\\anaconda\\lib\\site-packages (from matplotlib>=2.2->seaborn) (9.0.1)\n",
      "\n",
      "Requirement already satisfied: pyparsing>=2.2.1 in c:\\users\\samia\\downloads\\anaconda\\lib\\site-packages (from matplotlib>=2.2->seaborn) (3.0.4)\n",
      "Requirement already satisfied: kiwisolver>=1.0.1 in c:\\users\\samia\\downloads\\anaconda\\lib\\site-packages (from matplotlib>=2.2->seaborn) (1.3.2)\n",
      "Requirement already satisfied: fonttools>=4.22.0 in c:\\users\\samia\\downloads\\anaconda\\lib\\site-packages (from matplotlib>=2.2->seaborn) (4.25.0)\n",
      "Requirement already satisfied: python-dateutil>=2.7 in c:\\users\\samia\\downloads\\anaconda\\lib\\site-packages (from matplotlib>=2.2->seaborn) (2.8.2)\n",
      "Requirement already satisfied: cycler>=0.10 in c:\\users\\samia\\downloads\\anaconda\\lib\\site-packages (from matplotlib>=2.2->seaborn) (0.11.0)\n",
      "Requirement already satisfied: pytz>=2020.1 in c:\\users\\samia\\downloads\\anaconda\\lib\\site-packages (from pandas>=0.23->seaborn) (2021.3)\n",
      "Requirement already satisfied: six>=1.5 in c:\\users\\samia\\downloads\\anaconda\\lib\\site-packages (from python-dateutil>=2.7->matplotlib>=2.2->seaborn) (1.16.0)\n"
     ]
    }
   ],
   "source": [
    "pip install seaborn"
   ]
  },
  {
   "cell_type": "code",
   "execution_count": 4,
   "id": "14e11cc5",
   "metadata": {},
   "outputs": [],
   "source": [
    "# pip install causalgraphicalmodels\n",
    "# pip install linearmodels\n",
    "\n",
    "from causalgraphicalmodels import CausalGraphicalModel\n",
    "import os\n",
    "import numpy as np \n",
    "import pandas as pd \n",
    "import statsmodels.api as sm \n",
    "import statsmodels.formula.api as smf \n",
    "from itertools import combinations \n",
    "import statsmodels.api as sm\n",
    "import statsmodels.formula.api as smf\n",
    "import linearmodels.iv.model as lm\n",
    "from linearmodels.iv import IV2SLS\n",
    "from statsmodels.iolib.summary2 import summary_col\n",
    "import seaborn as sns"
   ]
  },
  {
   "cell_type": "markdown",
   "id": "50c048c6",
   "metadata": {},
   "source": [
    "# REPORTE Nº8:\n",
    "\n",
    "**Nombre: Samantha González Paredes**\n",
    "\n",
    "**Código: 20193190**\n",
    "\n",
    "**PARTE1: Lectura**\n",
    "\n",
    "### The Persistent Effects of Peru's Mining Mita -Dell (2010)\n",
    "\n",
    "El texto se basa en la mita, un sistema laboral forzado que fue instituido por el gobierno español en Perú y Bolivia en 1573, y abolido en 1812. Históricamente, se sabe que los distritos de Mita tenían menos grandes terratenientes y un nivel educativo más bajo, considerando ello, el texto de Dell se enfoca en encontrar cuáles son los impactos a largo plazo de la mita minera en el desarrollo del Perú contemporáneo. \n",
    "\n",
    "El documento avanza en dicha pregunta de investigación partiendo del hecho de que la mita requería que más de 200 comunidades indígenas enviasen una séptima parte de su población masculina adulta a trabajar en la plata de Potosí y Minas de mercurio de Huancavelica, pero hubo un cambio discreto en la contribución de los reclutas de la mita, ya que, de un lado, todas las comunidades enviaron el mismo porcentaje de su población, mientras que por el otro lado, todas las comunidades estaban exentas.\n",
    "Así, se argumenta que dicho cambio se puede explicar a través de un enfoque de regresión discontinua (RD) para evaluar los efectos a largo plazo de la mita, considerando que el límite de la mita forma una discontinuidad multidimensional en el espacio de longitud-latitud. Tomando en cuenta que la validez del diseño de RD requiere que todos los factores relevantes, además del tratamiento, varíen suavemente en el límite de la mita, la autora se enfoca solo en la porción que transita la cordillera de los Andes en el sur del Perú.\n",
    "\n",
    "Además, después de examinar los niveles de vida contemporáneos, Dell utiliza datos del Imperio y República Peruana, combinado con el enfoque de RD, para investigar canales de persistencia; enfocándose en los tres más importantes. El primero de ellos tiene que ver con la inexistencia de una élite terrateniente al momento de la promulgación de la mita, ya que ello minimizó la competencia que enfrentó el Estado para acceder a la escasa mano de obra de la mita, promoviendo así la tenencia de la tierra. El segundo es la evidencia que indica que el efecto de la mita redujo históricamente la educación y que los distritos en los que se realizó esta práctica permanecen menos integrados a las redes viales. El tercero son los datos del censo agropecuario que sirven como evidencia de que el impacto a largo plazo de la mita aumenta la prevalencia de la agricultura de subsistencia.\n",
    "\n",
    "Quizás, la principal fortaleza de este texto es que, usando el enfoque RD y los datos de la encuesta de hogares, se puede estimar que a largo plazo el efecto mita reduce actualmente el consumo de los hogares equivalentes en alrededor de un 25% en los distritos que fueron sometidos. Sin embargo, una de las debilidades del estudio se encuentra en que la encuesta de hogares proporciona poca potencia para estimar modelos flexibles, pero, a pesar de eso, la magnitud del efecto de la mita estimado es robusto a una cantidad de especificaciones alternativas. Además, hay datos del censo nacional de altura de niños en edad escolar que proporciona evidencia sólida de que el impacto persistente de la mita aumenta el retraso del crecimiento infantil en alrededor de un 6 por ciento puntos en los distritos sometidos hoy. Asimismo, otro gran aporte del texto es que contribuye con el debate que se ha generado al rededor del papel de las instituciones históricas en la explicación del subdesarrollo contemporáneo, ya que el texto utiliza la variación en el encargo de una institución histórica en el Perú para identificar la tenencia de la tierra y bienes públicos como canales a través de los cuales persisten sus efectos. De esta manera, todos estos resultados representan la mayor fortaleza del texto, ya que respaldan la hipótesis de que las instituciones históricas extractivas influyen en la prosperidad económica a largo plazo, y dan evidencia de la relación entre las instituciones históricas y los resultados económicos contemporáneos usando datos agregados. \n",
    "\n",
    "Por último, para lo que el autor propone, se pueden identificar algunos pasos a seguir, como los propuestos por Spruk y Kovac (2020), quienes tienen un enfoque alternativo al legado de las instituciones coloniales en sudamérica. Los autores estudian la discontinuidad en la integración para estimar cómo las instituciones coloniales han impactado el desarrollo local actual de las comunidades que viven en esos espacios. La estrategia de identificación que utiliza aprovecha las divisiones de límites espaciales georreferenciados con cuasi aleatorización local entre las localidades integradas en la jurisdicción de la corte colonial y las localidades fuera de su jurisdicción. Centrándose en ello, también logra mostrar el fuerte y persistente impacto de las instituciones coloniales en la actualidad. También se puede seguir avanzando en la pregunta de investigación a través del marco teórico utilizado por El Kallab y Terra (2021), quienes siguen una perspectiva de la maldición de los recursos para explorar el papel de la herencia colonial en el desarrollo económico a largo plazo. Ello lo hacen a través del estudio del impacto directo de la dependencia económica de los recursos naturales y del impacto indirecto a través de su efecto sobre las instituciones coloniales, que persistió en el tiempo e influyó en el desarrollo económico actual. \n",
    "\n",
    "**Bibliografía:** \n",
    "\n",
    "Dell, M. (2010), \"The Persistent Effects of Peru's Mining Mita\", Econometrica Journal of the Econometric Society, Vol. 78, No. 6, pp. 1863-1903. https://doi-org.ezproxybib.pucp.edu.pe/10.3982/ECTA8121 \n",
    "\n",
    "El Kallab, T. and Terra, C. (2021), \"The colonial exports pattern, institutions and current economic performance\", Journal of Economic Studies, Vol. 48 No. 8, pp. 1591-1623. https://doi-org.ezproxybib.pucp.edu.pe/10.1108/JES-06-2020-0266\n",
    "\n",
    "Spruk, R., & Kovac, M. (2020). Persistent Effects of Colonial Institutions on Long‐Run Development: Local Evidence from Regression Discontinuity Design in Argentina. Journal of Empirical Legal Studies, 17(4), 820–861. https://doi-org.ezproxybib.pucp.edu.pe/10.1111/jels.12266"
   ]
  },
  {
   "cell_type": "markdown",
   "id": "6e87d1f2",
   "metadata": {},
   "source": [
    "**PARTE2: Código**\n",
    "\n",
    "### Instrumental Variables\n",
    "\n",
    "* **Explique en qué consiste el supuesto de \"Relevance\" y de \"Validity\"**\n",
    "\n",
    "El supuesto de \"Relevance\" es uno de los dos que se deben cumplir para que las variables instrumentales funcionen. La idea de las variables instrumentales es que usamos la parte de x, el tratamiento, que es explicada por z, el instrumento. Pero si ninguna parte de x se explica por z, las variables instrumentales no funcionan. Sin embargo, en el mundo real, casi ninguna correlación es realmente cero, así que solo hay que asegurarse de que z se relacione de alguna manera con x.\n",
    "Con ello, el supuesto de relevancia se trata de mirar la relación entre x y z y observar qué tan fuerte es. Así, cuanto más fuerte sea, más confianza tendrá en la suposición de relevancia y menos saltará la estimación de una muestra a otra.\n",
    "\n",
    "El otro de los supuestos a cumplir es el de validez, que es la suposición de que el instrumento Z es una variable que no tiene sus propias puertas traseras abiertas. Es decir, cualquier ruta entre el instrumento Z y el resultado Y debe pasar por el tratamiento X o cerrarse. Entonces, las alternativas deben ser controladas para que la validez se mantenga; pero probar validez es muy complicado. No solo es difícil justificar que existe una variable fuertemente relacionada con el tratamiento que no está relacionada con todas las fuentes de puertas traseras no controladas del tratamiento, sino que también hay instrumentos que se pensaba que funcionarían bien, pero resultó que no. Entonces, no se pueden usar datos para demostrar que un instrumento es válido, y es difícil convencer a otros de que es válido sobre la base de que se cree que el diagrama causal es correcto. Pero todo ello no significa que se deba renunciar por completo a las variables instrumentales, sino que se deba ser un poco más selectivo al aplicarlo.\n",
    "\n",
    "\n",
    "### Ploteo de Histogramas "
   ]
  },
  {
   "cell_type": "code",
   "execution_count": 5,
   "id": "f70cdf0c",
   "metadata": {},
   "outputs": [
    {
     "data": {
      "text/html": [
       "<div>\n",
       "<style scoped>\n",
       "    .dataframe tbody tr th:only-of-type {\n",
       "        vertical-align: middle;\n",
       "    }\n",
       "\n",
       "    .dataframe tbody tr th {\n",
       "        vertical-align: top;\n",
       "    }\n",
       "\n",
       "    .dataframe thead th {\n",
       "        text-align: right;\n",
       "    }\n",
       "</style>\n",
       "<table border=\"1\" class=\"dataframe\">\n",
       "  <thead>\n",
       "    <tr style=\"text-align: right;\">\n",
       "      <th></th>\n",
       "      <th>id</th>\n",
       "      <th>nearc2</th>\n",
       "      <th>nearc4</th>\n",
       "      <th>educ</th>\n",
       "      <th>age</th>\n",
       "      <th>fatheduc</th>\n",
       "      <th>motheduc</th>\n",
       "      <th>weight</th>\n",
       "      <th>momdad14</th>\n",
       "      <th>sinmom14</th>\n",
       "      <th>...</th>\n",
       "      <th>KWW</th>\n",
       "      <th>IQ</th>\n",
       "      <th>married</th>\n",
       "      <th>libcrd14</th>\n",
       "      <th>exper</th>\n",
       "      <th>lwage</th>\n",
       "      <th>expersq</th>\n",
       "      <th>u_lwage</th>\n",
       "      <th>lwage_hat</th>\n",
       "      <th>u_educ</th>\n",
       "    </tr>\n",
       "  </thead>\n",
       "  <tbody>\n",
       "    <tr>\n",
       "      <th>0</th>\n",
       "      <td>2.0</td>\n",
       "      <td>0.0</td>\n",
       "      <td>0.0</td>\n",
       "      <td>7.0</td>\n",
       "      <td>29.0</td>\n",
       "      <td>NaN</td>\n",
       "      <td>NaN</td>\n",
       "      <td>158413.0</td>\n",
       "      <td>1.0</td>\n",
       "      <td>0.0</td>\n",
       "      <td>...</td>\n",
       "      <td>15.0</td>\n",
       "      <td>NaN</td>\n",
       "      <td>1.0</td>\n",
       "      <td>0.0</td>\n",
       "      <td>16.0</td>\n",
       "      <td>6.306275</td>\n",
       "      <td>256.0</td>\n",
       "      <td>0.198047</td>\n",
       "      <td>6.108228</td>\n",
       "      <td>-3.067539</td>\n",
       "    </tr>\n",
       "    <tr>\n",
       "      <th>1</th>\n",
       "      <td>3.0</td>\n",
       "      <td>0.0</td>\n",
       "      <td>0.0</td>\n",
       "      <td>12.0</td>\n",
       "      <td>27.0</td>\n",
       "      <td>8.0</td>\n",
       "      <td>8.0</td>\n",
       "      <td>380166.0</td>\n",
       "      <td>1.0</td>\n",
       "      <td>0.0</td>\n",
       "      <td>...</td>\n",
       "      <td>35.0</td>\n",
       "      <td>93.0</td>\n",
       "      <td>1.0</td>\n",
       "      <td>1.0</td>\n",
       "      <td>9.0</td>\n",
       "      <td>6.175867</td>\n",
       "      <td>81.0</td>\n",
       "      <td>-0.211160</td>\n",
       "      <td>6.387027</td>\n",
       "      <td>-1.727562</td>\n",
       "    </tr>\n",
       "    <tr>\n",
       "      <th>2</th>\n",
       "      <td>4.0</td>\n",
       "      <td>0.0</td>\n",
       "      <td>0.0</td>\n",
       "      <td>12.0</td>\n",
       "      <td>34.0</td>\n",
       "      <td>14.0</td>\n",
       "      <td>12.0</td>\n",
       "      <td>367470.0</td>\n",
       "      <td>1.0</td>\n",
       "      <td>0.0</td>\n",
       "      <td>...</td>\n",
       "      <td>42.0</td>\n",
       "      <td>103.0</td>\n",
       "      <td>1.0</td>\n",
       "      <td>1.0</td>\n",
       "      <td>16.0</td>\n",
       "      <td>6.580639</td>\n",
       "      <td>256.0</td>\n",
       "      <td>0.204719</td>\n",
       "      <td>6.375920</td>\n",
       "      <td>1.012975</td>\n",
       "    </tr>\n",
       "    <tr>\n",
       "      <th>3</th>\n",
       "      <td>5.0</td>\n",
       "      <td>1.0</td>\n",
       "      <td>1.0</td>\n",
       "      <td>11.0</td>\n",
       "      <td>27.0</td>\n",
       "      <td>11.0</td>\n",
       "      <td>12.0</td>\n",
       "      <td>380166.0</td>\n",
       "      <td>1.0</td>\n",
       "      <td>0.0</td>\n",
       "      <td>...</td>\n",
       "      <td>25.0</td>\n",
       "      <td>88.0</td>\n",
       "      <td>1.0</td>\n",
       "      <td>1.0</td>\n",
       "      <td>10.0</td>\n",
       "      <td>5.521461</td>\n",
       "      <td>100.0</td>\n",
       "      <td>-0.967905</td>\n",
       "      <td>6.489366</td>\n",
       "      <td>-2.253536</td>\n",
       "    </tr>\n",
       "    <tr>\n",
       "      <th>4</th>\n",
       "      <td>6.0</td>\n",
       "      <td>1.0</td>\n",
       "      <td>1.0</td>\n",
       "      <td>12.0</td>\n",
       "      <td>34.0</td>\n",
       "      <td>8.0</td>\n",
       "      <td>7.0</td>\n",
       "      <td>367470.0</td>\n",
       "      <td>1.0</td>\n",
       "      <td>0.0</td>\n",
       "      <td>...</td>\n",
       "      <td>34.0</td>\n",
       "      <td>108.0</td>\n",
       "      <td>1.0</td>\n",
       "      <td>0.0</td>\n",
       "      <td>16.0</td>\n",
       "      <td>6.591674</td>\n",
       "      <td>256.0</td>\n",
       "      <td>0.125173</td>\n",
       "      <td>6.466501</td>\n",
       "      <td>1.090437</td>\n",
       "    </tr>\n",
       "  </tbody>\n",
       "</table>\n",
       "<p>5 rows × 37 columns</p>\n",
       "</div>"
      ],
      "text/plain": [
       "    id  nearc2  nearc4  educ   age  fatheduc  motheduc    weight  momdad14  \\\n",
       "0  2.0     0.0     0.0   7.0  29.0       NaN       NaN  158413.0       1.0   \n",
       "1  3.0     0.0     0.0  12.0  27.0       8.0       8.0  380166.0       1.0   \n",
       "2  4.0     0.0     0.0  12.0  34.0      14.0      12.0  367470.0       1.0   \n",
       "3  5.0     1.0     1.0  11.0  27.0      11.0      12.0  380166.0       1.0   \n",
       "4  6.0     1.0     1.0  12.0  34.0       8.0       7.0  367470.0       1.0   \n",
       "\n",
       "   sinmom14  ...   KWW     IQ  married  libcrd14  exper     lwage  expersq  \\\n",
       "0       0.0  ...  15.0    NaN      1.0       0.0   16.0  6.306275    256.0   \n",
       "1       0.0  ...  35.0   93.0      1.0       1.0    9.0  6.175867     81.0   \n",
       "2       0.0  ...  42.0  103.0      1.0       1.0   16.0  6.580639    256.0   \n",
       "3       0.0  ...  25.0   88.0      1.0       1.0   10.0  5.521461    100.0   \n",
       "4       0.0  ...  34.0  108.0      1.0       0.0   16.0  6.591674    256.0   \n",
       "\n",
       "    u_lwage  lwage_hat    u_educ  \n",
       "0  0.198047   6.108228 -3.067539  \n",
       "1 -0.211160   6.387027 -1.727562  \n",
       "2  0.204719   6.375920  1.012975  \n",
       "3 -0.967905   6.489366 -2.253536  \n",
       "4  0.125173   6.466501  1.090437  \n",
       "\n",
       "[5 rows x 37 columns]"
      ]
     },
     "execution_count": 5,
     "metadata": {},
     "output_type": "execute_result"
    }
   ],
   "source": [
    "# load data\n",
    "\n",
    "import ssl\n",
    "ssl._create_default_https_context = ssl._create_unverified_context\n",
    "\n",
    "def read_data(file): \n",
    "    return pd.read_stata(\"https://raw.github.com/scunning1975/mixtape/master/\" + file)\n",
    "\n",
    "card = read_data(\"card.dta\")\n",
    "card.head()"
   ]
  },
  {
   "cell_type": "markdown",
   "id": "c4246788",
   "metadata": {},
   "source": [
    "* **Grafique dos histogramas para la variable años de educación (educ) para cuando nearc4 == 1, y cuando nearc4 == 0. Compare y describa los patrones que encuentra.**"
   ]
  },
  {
   "cell_type": "code",
   "execution_count": 8,
   "id": "fda5f172",
   "metadata": {},
   "outputs": [
    {
     "data": {
      "text/plain": [
       "<seaborn.axisgrid.FacetGrid at 0x2d6b8972310>"
      ]
     },
     "execution_count": 8,
     "metadata": {},
     "output_type": "execute_result"
    },
    {
     "data": {
      "image/png": "[encoded data removed]",
      "text/plain": [
       "<Figure size 720x360 with 2 Axes>"
      ]
     },
     "metadata": {
      "needs_background": "light"
     },
     "output_type": "display_data"
    }
   ],
   "source": [
    "sns.displot(data=card, x=\"educ\", col = \"nearc4\")"
   ]
  },
  {
   "cell_type": "markdown",
   "id": "177e6c03",
   "metadata": {},
   "source": [
    "Se nota que aquellos que sí cuentan con un college en su condado tienen una distribución mayor en cuanto a la cantidad de años estudiados, a comparación de aquellos que no. Esto es significativamente notorio a partir de los 12 años y medio de estudio, ya que la diferencia entre un grupo y otro, en cuanto a la cantidad de personas que alcanzó este tiempo de estudios, es de casi del doble. Además, si bien ambos grupos se encuentran dentro del mismo rango de años de estudio, en el que no se exceden los 18 años, la cantidad de personas que continuaron los estudios después de los 12 años de educación es mucho menor si no cuentan con un college en su condado. Así, también se podría afirmar que la distribución de los años de educación en los histogramas indica que es mayor la cantidad de personas que vivieron en un condado con un college en él y que continuaron estudiando tras terminar la secundaria, a comparación de aquellos cuyo condado no tenía un college."
   ]
  },
  {
   "cell_type": "markdown",
   "id": "00551ec7",
   "metadata": {},
   "source": [
    "* **Grafique dos histogramas para la variable años del logaritmos de los ingresos (lwage) para cuando nearc4 == 1, y cuando nearc4 == 0. Compare y describa los patrones que encuentra.**"
   ]
  },
  {
   "cell_type": "code",
   "execution_count": 9,
   "id": "ee89cd48",
   "metadata": {},
   "outputs": [
    {
     "data": {
      "text/plain": [
       "<seaborn.axisgrid.FacetGrid at 0x2d6bcf5a9d0>"
      ]
     },
     "execution_count": 9,
     "metadata": {},
     "output_type": "execute_result"
    },
    {
     "data": {
      "image/png": "[encoded data removed]",
      "text/plain": [
       "<Figure size 720x360 with 2 Axes>"
      ]
     },
     "metadata": {
      "needs_background": "light"
     },
     "output_type": "display_data"
    }
   ],
   "source": [
    "sns.displot(data=card, x=\"lwage\", col = \"nearc4\")"
   ]
  },
  {
   "cell_type": "markdown",
   "id": "ca15a8a0",
   "metadata": {},
   "source": [
    "Al analizar la distribución de la variable que indica los años del logaritmo de los ingresos, se puede identificar una diferencia en cuanto a los ingresos que reciben aquellos con un college en su condado, y aquellos que no, siendo mayores los ingresos del primer grupo. También se debe observar que la forma de la curva es similar en ambos grupos, teniendo la mayor concentración de los ingresos entre el rango de 6 y 6.5 en los dos casos, pero con la diferencia de que es mayor la cantidad de personas del grupo que cuentan con un college en su condado. Sin embargo, no se podría dar una conclusión fija en cuanto al efecto que tiene la presencia de un college en el condado sobre los años que estudiaron y la cantidad de ingresos que perciben; pero, a pesar de ello, estos histogramas permiten tener una primera idea de cuál podría ser la conclusión final. "
   ]
  },
  {
   "cell_type": "markdown",
   "id": "b2299776",
   "metadata": {},
   "source": [
    "### Regresiones\n",
    "\n",
    "* **Corran una regresión lineal del tipo \"lwage ~ educ + exper + black + south + married + smsa\", y expliquen los resultados que encuentran.**"
   ]
  },
  {
   "cell_type": "code",
   "execution_count": 10,
   "id": "47dc9a62",
   "metadata": {},
   "outputs": [
    {
     "data": {
      "text/html": [
       "<table class=\"simpletable\">\n",
       "<caption>OLS Regression Results</caption>\n",
       "<tr>\n",
       "  <th>Dep. Variable:</th>          <td>lwage</td>      <th>  R-squared:         </th> <td>   0.305</td> \n",
       "</tr>\n",
       "<tr>\n",
       "  <th>Model:</th>                   <td>OLS</td>       <th>  Adj. R-squared:    </th> <td>   0.304</td> \n",
       "</tr>\n",
       "<tr>\n",
       "  <th>Method:</th>             <td>Least Squares</td>  <th>  F-statistic:       </th> <td>   219.2</td> \n",
       "</tr>\n",
       "<tr>\n",
       "  <th>Date:</th>             <td>Sat, 12 Nov 2022</td> <th>  Prob (F-statistic):</th> <td>1.97e-232</td>\n",
       "</tr>\n",
       "<tr>\n",
       "  <th>Time:</th>                 <td>19:27:48</td>     <th>  Log-Likelihood:    </th> <td> -1273.9</td> \n",
       "</tr>\n",
       "<tr>\n",
       "  <th>No. Observations:</th>      <td>  3003</td>      <th>  AIC:               </th> <td>   2562.</td> \n",
       "</tr>\n",
       "<tr>\n",
       "  <th>Df Residuals:</th>          <td>  2996</td>      <th>  BIC:               </th> <td>   2604.</td> \n",
       "</tr>\n",
       "<tr>\n",
       "  <th>Df Model:</th>              <td>     6</td>      <th>                     </th>     <td> </td>    \n",
       "</tr>\n",
       "<tr>\n",
       "  <th>Covariance Type:</th>      <td>nonrobust</td>    <th>                     </th>     <td> </td>    \n",
       "</tr>\n",
       "</table>\n",
       "<table class=\"simpletable\">\n",
       "<tr>\n",
       "      <td></td>         <th>coef</th>     <th>std err</th>      <th>t</th>      <th>P>|t|</th>  <th>[0.025</th>    <th>0.975]</th>  \n",
       "</tr>\n",
       "<tr>\n",
       "  <th>Intercept</th> <td>    5.0633</td> <td>    0.064</td> <td>   79.437</td> <td> 0.000</td> <td>    4.938</td> <td>    5.188</td>\n",
       "</tr>\n",
       "<tr>\n",
       "  <th>educ</th>      <td>    0.0712</td> <td>    0.003</td> <td>   20.438</td> <td> 0.000</td> <td>    0.064</td> <td>    0.078</td>\n",
       "</tr>\n",
       "<tr>\n",
       "  <th>exper</th>     <td>    0.0342</td> <td>    0.002</td> <td>   15.422</td> <td> 0.000</td> <td>    0.030</td> <td>    0.038</td>\n",
       "</tr>\n",
       "<tr>\n",
       "  <th>black</th>     <td>   -0.1660</td> <td>    0.018</td> <td>   -9.426</td> <td> 0.000</td> <td>   -0.201</td> <td>   -0.131</td>\n",
       "</tr>\n",
       "<tr>\n",
       "  <th>south</th>     <td>   -0.1316</td> <td>    0.015</td> <td>   -8.788</td> <td> 0.000</td> <td>   -0.161</td> <td>   -0.102</td>\n",
       "</tr>\n",
       "<tr>\n",
       "  <th>married</th>   <td>   -0.0359</td> <td>    0.003</td> <td>  -10.547</td> <td> 0.000</td> <td>   -0.043</td> <td>   -0.029</td>\n",
       "</tr>\n",
       "<tr>\n",
       "  <th>smsa</th>      <td>    0.1758</td> <td>    0.015</td> <td>   11.372</td> <td> 0.000</td> <td>    0.145</td> <td>    0.206</td>\n",
       "</tr>\n",
       "</table>\n",
       "<table class=\"simpletable\">\n",
       "<tr>\n",
       "  <th>Omnibus:</th>       <td>53.196</td> <th>  Durbin-Watson:     </th> <td>   1.858</td>\n",
       "</tr>\n",
       "<tr>\n",
       "  <th>Prob(Omnibus):</th> <td> 0.000</td> <th>  Jarque-Bera (JB):  </th> <td>  69.430</td>\n",
       "</tr>\n",
       "<tr>\n",
       "  <th>Skew:</th>          <td>-0.231</td> <th>  Prob(JB):          </th> <td>8.38e-16</td>\n",
       "</tr>\n",
       "<tr>\n",
       "  <th>Kurtosis:</th>      <td> 3.584</td> <th>  Cond. No.          </th> <td>    154.</td>\n",
       "</tr>\n",
       "</table><br/><br/>Notes:<br/>[1] Standard Errors assume that the covariance matrix of the errors is correctly specified."
      ],
      "text/plain": [
       "<class 'statsmodels.iolib.summary.Summary'>\n",
       "\"\"\"\n",
       "                            OLS Regression Results                            \n",
       "==============================================================================\n",
       "Dep. Variable:                  lwage   R-squared:                       0.305\n",
       "Model:                            OLS   Adj. R-squared:                  0.304\n",
       "Method:                 Least Squares   F-statistic:                     219.2\n",
       "Date:                Sat, 12 Nov 2022   Prob (F-statistic):          1.97e-232\n",
       "Time:                        19:27:48   Log-Likelihood:                -1273.9\n",
       "No. Observations:                3003   AIC:                             2562.\n",
       "Df Residuals:                    2996   BIC:                             2604.\n",
       "Df Model:                           6                                         \n",
       "Covariance Type:            nonrobust                                         \n",
       "==============================================================================\n",
       "                 coef    std err          t      P>|t|      [0.025      0.975]\n",
       "------------------------------------------------------------------------------\n",
       "Intercept      5.0633      0.064     79.437      0.000       4.938       5.188\n",
       "educ           0.0712      0.003     20.438      0.000       0.064       0.078\n",
       "exper          0.0342      0.002     15.422      0.000       0.030       0.038\n",
       "black         -0.1660      0.018     -9.426      0.000      -0.201      -0.131\n",
       "south         -0.1316      0.015     -8.788      0.000      -0.161      -0.102\n",
       "married       -0.0359      0.003    -10.547      0.000      -0.043      -0.029\n",
       "smsa           0.1758      0.015     11.372      0.000       0.145       0.206\n",
       "==============================================================================\n",
       "Omnibus:                       53.196   Durbin-Watson:                   1.858\n",
       "Prob(Omnibus):                  0.000   Jarque-Bera (JB):               69.430\n",
       "Skew:                          -0.231   Prob(JB):                     8.38e-16\n",
       "Kurtosis:                       3.584   Cond. No.                         154.\n",
       "==============================================================================\n",
       "\n",
       "Notes:\n",
       "[1] Standard Errors assume that the covariance matrix of the errors is correctly specified.\n",
       "\"\"\""
      ]
     },
     "execution_count": 10,
     "metadata": {},
     "output_type": "execute_result"
    }
   ],
   "source": [
    "#OLS\n",
    "ols_reg = sm.OLS.from_formula(\"lwage ~ educ + exper + black + south + married + smsa\", \n",
    "              data = card).fit()\n",
    "\n",
    "ols_reg.summary()"
   ]
  },
  {
   "cell_type": "markdown",
   "id": "709ea5a3",
   "metadata": {},
   "source": [
    "Los resultados obtenidos reflejan, en primer lugar, que todas las variables consideradas en la regresión son significativas (por su p-value < 0.05). En segundo lugar, el coeficiente positivo de las variables educ, exper y smsa indica que el intercepto de la variable “logaritmo del salario” aumentará en la medida en que las variables anteriormente mencionadas también aumenten (por ejemplo, se nota que los ingresos aumentarán un 0.07 por cada año extra de educación). Por último, se debe resaltar que ocurrirá lo contrario con las otras variables: black, south y married (lo que indica que el salario disminuirá en cuanto se trate de personas morenas, del sur o casadas). "
   ]
  },
  {
   "cell_type": "markdown",
   "id": "f21e46bd",
   "metadata": {},
   "source": [
    "* **Corran una regresion de tipo IV(usando el paquete IV2SLS) donde van a instrumentalizar la variable educ con nearc2. La regressión debería tener una forma de este tipo \"lwage ~ 1 + exper + black + south + married + smsa + [educ ~ nearc4 ]\".**"
   ]
  },
  {
   "cell_type": "code",
   "execution_count": 13,
   "id": "eed3cf91",
   "metadata": {},
   "outputs": [
    {
     "data": {
      "text/html": [
       "<table class=\"simpletable\">\n",
       "<caption>IV-2SLS Estimation Summary</caption>\n",
       "<tr>\n",
       "  <th>Dep. Variable:</th>          <td>lwage</td>      <th>  R-squared:         </th> <td>-1.3114</td>\n",
       "</tr>\n",
       "<tr>\n",
       "  <th>Estimator:</th>             <td>IV-2SLS</td>     <th>  Adj. R-squared:    </th> <td>-1.3160</td>\n",
       "</tr>\n",
       "<tr>\n",
       "  <th>No. Observations:</th>       <td>3010</td>       <th>  F-statistic:       </th> <td>289.62</td> \n",
       "</tr>\n",
       "<tr>\n",
       "  <th>Date:</th>             <td>Sat, Nov 12 2022</td> <th>  P-value (F-stat)   </th> <td>0.0000</td> \n",
       "</tr>\n",
       "<tr>\n",
       "  <th>Time:</th>                 <td>19:30:14</td>     <th>  Distribution:      </th> <td>chi2(6)</td>\n",
       "</tr>\n",
       "<tr>\n",
       "  <th>Cov. Estimator:</th>        <td>robust</td>      <th>                     </th>    <td></td>    \n",
       "</tr>\n",
       "<tr>\n",
       "  <th></th>                          <td></td>         <th>                     </th>    <td></td>    \n",
       "</tr>\n",
       "</table>\n",
       "<table class=\"simpletable\">\n",
       "<caption>Parameter Estimates</caption>\n",
       "<tr>\n",
       "      <td></td>      <th>Parameter</th> <th>Std. Err.</th> <th>T-stat</th>  <th>P-value</th> <th>Lower CI</th> <th>Upper CI</th>\n",
       "</tr>\n",
       "<tr>\n",
       "  <th>Intercept</th>  <td>0.1276</td>    <td>3.1412</td>   <td>0.0406</td>  <td>0.9676</td>   <td>-6.0290</td>  <td>6.2843</td> \n",
       "</tr>\n",
       "<tr>\n",
       "  <th>black</th>      <td>0.1134</td>    <td>0.1816</td>   <td>0.6244</td>  <td>0.5324</td>   <td>-0.2425</td>  <td>0.4692</td> \n",
       "</tr>\n",
       "<tr>\n",
       "  <th>exper</th>      <td>0.1515</td>    <td>0.0747</td>   <td>2.0274</td>  <td>0.0426</td>   <td>0.0050</td>   <td>0.2980</td> \n",
       "</tr>\n",
       "<tr>\n",
       "  <th>married</th>    <td>-0.0151</td>   <td>0.0147</td>   <td>-1.0258</td> <td>0.3050</td>   <td>-0.0438</td>  <td>0.0137</td> \n",
       "</tr>\n",
       "<tr>\n",
       "  <th>smsa</th>       <td>0.0201</td>    <td>0.1030</td>   <td>0.1949</td>  <td>0.8455</td>   <td>-0.1819</td>  <td>0.2220</td> \n",
       "</tr>\n",
       "<tr>\n",
       "  <th>south</th>      <td>-0.0319</td>   <td>0.0692</td>   <td>-0.4603</td> <td>0.6453</td>   <td>-0.1675</td>  <td>0.1038</td> \n",
       "</tr>\n",
       "<tr>\n",
       "  <th>educ</th>       <td>0.3618</td>    <td>0.1849</td>   <td>1.9562</td>  <td>0.0504</td>   <td>-0.0007</td>  <td>0.7243</td> \n",
       "</tr>\n",
       "</table><br/><br/>Endogenous: educ<br/>Instruments: nearc2<br/>Robust Covariance (Heteroskedastic)<br/>Debiased: False"
      ],
      "text/plain": [
       "<class 'linearmodels.compat.statsmodels.Summary'>\n",
       "\"\"\"\n",
       "                          IV-2SLS Estimation Summary                          \n",
       "==============================================================================\n",
       "Dep. Variable:                  lwage   R-squared:                     -1.3114\n",
       "Estimator:                    IV-2SLS   Adj. R-squared:                -1.3160\n",
       "No. Observations:                3010   F-statistic:                    289.62\n",
       "Date:                Sat, Nov 12 2022   P-value (F-stat)                0.0000\n",
       "Time:                        19:30:14   Distribution:                  chi2(6)\n",
       "Cov. Estimator:                robust                                         \n",
       "                                                                              \n",
       "                             Parameter Estimates                              \n",
       "==============================================================================\n",
       "            Parameter  Std. Err.     T-stat    P-value    Lower CI    Upper CI\n",
       "------------------------------------------------------------------------------\n",
       "Intercept      0.1276     3.1412     0.0406     0.9676     -6.0290      6.2843\n",
       "black          0.1134     0.1816     0.6244     0.5324     -0.2425      0.4692\n",
       "exper          0.1515     0.0747     2.0274     0.0426      0.0050      0.2980\n",
       "married       -0.0151     0.0147    -1.0258     0.3050     -0.0438      0.0137\n",
       "smsa           0.0201     0.1030     0.1949     0.8455     -0.1819      0.2220\n",
       "south         -0.0319     0.0692    -0.4603     0.6453     -0.1675      0.1038\n",
       "educ           0.3618     0.1849     1.9562     0.0504     -0.0007      0.7243\n",
       "==============================================================================\n",
       "\n",
       "Endogenous: educ\n",
       "Instruments: nearc2\n",
       "Robust Covariance (Heteroskedastic)\n",
       "Debiased: False\n",
       "\"\"\""
      ]
     },
     "execution_count": 13,
     "metadata": {},
     "output_type": "execute_result"
    }
   ],
   "source": [
    "#2SLS\n",
    "iv_reg = IV2SLS.from_formula(\"lwage ~  1 + exper + black + south + married + smsa + [educ ~ nearc2]\", card).fit()\n",
    "iv_reg.summary"
   ]
  },
  {
   "cell_type": "markdown",
   "id": "2bf94ba1",
   "metadata": {},
   "source": [
    "* **Compare los resultados encontrados en la regresión de arriba. ¿Cambió el coeficiente relacionado a educ, por qué?**\n",
    "\n",
    "En este caso (en que el instrumento es nearc2), ha aumentado el coeficiente a comparación del de la regresión anterior, ya que este resultado muestra un coefiente de 0.3618, mientras que el de la regresión OLS era de 0.0712. También se debe destacar que el coeficiente de \"black\" pasó de tener una relación negativa a una positiva con el nivel de ingresos. Sin embargo, se debe considerar que, en este resultado, la mayor parte de las variables consideradas en la regresión no son significativas (ya que sus p-value > 0.05, a excepción de las variables educ, la cual está justo en el margen, y exper). Así, se nota que hubo un cambio significativo en el coeficiente de la variable educ, ya que esta, en la regresión OLS, era mucho menor a 0.05 y no cabían dudas en cuanto a su nivel de significancia. Mientras que, con esta última regresión, la decisión quería en manos del investigador para considerarla como significativa por estar justo en el margen. Así, esta variable aumenta, haciéndola más relevante en esta segunda regresión (y con un aumento de salario mayor al de la primera regresión a medida que aumenten los años de estudios), pero es posible que muchos investigadores la consideren como no significativa. Respecto al motivo de este cambio, parte de este se debe al instrumental que se está usando para explicar los años de educación (que es la variable que considera qué tan cerca se vive de institutos educativos superiores de 2 años). Por último, como el F-statistic es mayor a 15, se sabe que no se está frente a un problema de un instrumento débil. "
   ]
  }
 ],
 "metadata": {
  "kernelspec": {
   "display_name": "Python 3 (ipykernel)",
   "language": "python",
   "name": "python3"
  },
  "language_info": {
   "codemirror_mode": {
    "name": "ipython",
    "version": 3
   },
   "file_extension": ".py",
   "mimetype": "text/x-python",
   "name": "python",
   "nbconvert_exporter": "python",
   "pygments_lexer": "ipython3",
   "version": "3.9.12"
  }
 },
 "nbformat": 4,
 "nbformat_minor": 5
}
