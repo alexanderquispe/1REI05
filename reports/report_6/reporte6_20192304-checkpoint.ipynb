{
 "cells": [
  {
   "cell_type": "markdown",
   "id": "71cf446c",
   "metadata": {},
   "source": [
    "Reporte 6 : Ariana Sato Flores 20192304"
   ]
  },
  {
   "cell_type": "markdown",
   "id": "0347ccc7",
   "metadata": {},
   "source": [
    "El objetivo de los autores es analizar mediante una investigación a modo de ensayo acerca de las disparidades\n",
    "en la preparación académica de estudiantes de bajos y altos ingresos en relación a su rendimiento. \n",
    "En este sentido, la pregunta de investigación es si la intervención de ayuda en la economía universitaria, es decir, \n",
    "una intervención de bajo coste elimina ciertos obstáculos conductuales y administrativos que alteran las decisiones\n",
    "de los estudiantes, de esa manera se busca examinar el efecto de los cambios inducidosen los logros académicos sobre\n",
    "los ingresos y otras medidas de bienestar que toman los adultos.\n",
    "\n",
    "Dentro de las fortalezas a rescatar, se puede decir que los métodos de investigación utilizados son muy bien explicados y utilizados \n",
    "con el objetivo de responder a la pregunta. Por ejemplo, se hace el uso de un ensayo aleatorio y controlado para\n",
    "comprobar su hipótesis de investigación y era si las comunicaciones personalizadas y específicas, que no aumentan\n",
    "la ayuda financiera, pueden alterar las decisiones universitarias de los estudiantes de bajos ingresos.\n",
    "Cabe resaltar el uso de datos administrativos de Michigan y datos del National Student Clearinghouse , lo cual le \n",
    "brindan una credibilidad al estudio, además de utilizar gráficos para la explicación y demostración al lector las\n",
    "diferencias en la selectividad de las universidades a las que asisten los estudiantes de alto rendimiento de Michigan \n",
    "de acuerdo a su nivel de ingresos. Así como también la aplicación estadística es elemental para un mejor entendimiento\n",
    "siempre y cuando esté bien explicada y los autores logran este objetivo. Por último, hay que reconocer el uso de varias\n",
    "investigaciones que utilizan los autores para completar su trabajo, aquellas investigaciones demuestran que las diferencias\n",
    "aparentemente menores en el diseño de políticas pueden tener efectos profundos en los resultados económicos reales, de esta manera \n",
    "enriquecen el paper.\n",
    "\n",
    "Por otro lado, como debilidad no podría encontrar muchas, pero sí puedo mencionar que conforme se va avanzando\n",
    "en el paper, en algunos casos no se encuentra mucha evidencia para la investigación, pues en algún punto se encontraron\n",
    "pruebas débiles sobre las intervenciones, pero eso no significa que no sume al trabajo, sino que simplemente no siempre \n",
    "se reúne la información suficiente si la muestra estadística es muy grande.\n",
    "\n",
    "Ahora, tras haber comentado acerca de las fortalezas del artículo, es claro que encuentro una contribución\n",
    "de esta investigación, la cual considero son las sugerencias de los resultados de las pruebas tomadas. \n",
    "Pues, se sugiere que un sistema en el que las matrículas universitarias son muy elevadas, especialmente en los EEUU, y\n",
    "una ayuda a los estudiantes de bajos ingresos, no puede ser eficaz así la matrícula sea gratuita.\n",
    "Aquello se debe a que el estudiante al hacerse cargo de sus decisiones, debe invertir tiempo y esfuerzo para conocer el\n",
    "coste neto de asistencia. Un régimen de matrícula gratuita puede valer la pena si ayuda a reducir la desigualdad en las \n",
    "decisiones educativas. Además, la evidencia de que asistir a una universidad de mayor calidad aumenta tanto los logros\n",
    "educativos como los ingresos de por sí ya nos muestra que existe una disparidad tanto académica como laboral. \n",
    "Entonces, por más que un alumno se esfuerce demasiado y no tiene los ingresos suficientes para una universidad “reconocida”, es muy probable que no alcance oportunidades laborales.\n",
    "\n",
    "\n",
    "Finalmente, a manera de ampliar las conclusiones aportadas por el paper. Autores como Renn (2021) en donde se resaltan \n",
    "las características y experiencias a nivel universitario en EEUU, coincide en que existen patrones en el entorno que \n",
    "influencian en las decisiones de los alumnos y están altamente relacionados con sus ingresos y rendimiento académico, así como menciona también que\n",
    "tienen el deseo de mejorar sus vidas mediante una educación superior. \n",
    "En adición, Andrews (2020) también hace un estudio acerca de una intervención diseñada para superar los múltiples obstáculos que los estudiantes universitarios \n",
    "con bajos ingresos y altas capacidades enfrentan, de esta manera se quiere determinar si afecta a los resultados a largo plazo de los estudiantes y\n",
    "cómo es que sucede, de esta investigación se rescata que los programas de captación bien diseñados y con un apoyo adecuado pueden mejorar los resultados a largo plazo\n",
    "de los estudiantes con bajos ingresos.\n",
    "A modo de cierre, podemos decir que se llegan a las mismas conclusiones en los artículos mencionados y\n",
    "que se complementan las investigaciones, cabe mencionar que existen muchas más observaciones e intervenciones \n",
    "dentro de la literatura existente. "
   ]
  }
 ],
 "metadata": {
  "kernelspec": {
   "display_name": "Python 3 (ipykernel)",
   "language": "python",
   "name": "python3"
  },
  "language_info": {
   "codemirror_mode": {
    "name": "ipython",
    "version": 3
   },
   "file_extension": ".py",
   "mimetype": "text/x-python",
   "name": "python",
   "nbconvert_exporter": "python",
   "pygments_lexer": "ipython3",
   "version": "3.9.12"
  }
 },
 "nbformat": 4,
 "nbformat_minor": 5
}
