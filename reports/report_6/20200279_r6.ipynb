{
 "cells": [
  {
   "cell_type": "markdown",
   "id": "c4a8829b",
   "metadata": {},
   "source": [
    "# REPORTE 6"
   ]
  },
  {
   "cell_type": "markdown",
   "id": "a5a68b43",
   "metadata": {},
   "source": [
    "### Estudiante: Greysi Arrelucea Castañeda "
   ]
  },
  {
   "cell_type": "markdown",
   "id": "373c1bea",
   "metadata": {},
   "source": [
    "## Lectura\n",
    "\n"
   ]
  },
  {
   "cell_type": "markdown",
   "id": "43f57392",
   "metadata": {},
   "source": [
    "La presente investigación parte de la problemática marcada por la brecha en la elección universitaria entre estudiantes de alto rendimiento con altos recursos y bajos recursos. A pesar de que las universidades más selectivas ofrecen ayuda económica y mejores posibilidades laborales en el futuro, estas no suelen ser el destino de los estudiantes de alto desempeño y bajos recursos. Para explicar esta compleja situación, se realiza un ensayo aleatorio y controlado que permita evaluar si las comunicaciones dirigidas y personalizadas pueden influir en las decisiones universitarias de estudiantes con bajos ingresos. Precisamente, la pregunta de investigación de este artículo es ¿Cuál es el efecto de las comunicaciones dirigidas y personalizadas en las decisiones universitarias de estudiantes de alto rendimiento y bajos ingresos? Así, partiendo de la premisa de que pequeños cambios en el marco de la toma de decisiones pueden inducir grandes cambios en el comportamiento, se emprendió la promoción temprana de la beca High Achieving Involved Leader (HAIL) de la Universidad de Michigan, la cual proporciona una garantía anticipada e incondicional de matrícula gratuita y la reducción de trámites administrativos para acceder a ella. Como resultado, se demostró que la oferta de becas incondicionales y por adelantado cambió el comportamiento de los estudiantes, aumentando significativamente sus probabilidades de inscribirse, matricularse y permanecer en la universidad. \n",
    "\n",
    "En este sentido, la investigación utiliza un enfoque experimental que le brinda importantes fortalezas, pero también ciertas debilidades. Por un lado, un ineludible punto fuerte de este enfoque es que permite el uso de la aleatoriedad como técnica para evitar los sesgos en la investigación. En efecto, el presente estudio ha seleccionado los grupos de tratamiento y de control de manera aleatoria entre los estudiantes de alto rendimiento y bajos ingresos en Michigan. De este modo, se estratificó la muestra en cuatro grupos según el número de estudiantes aptos para HAIL y se aleatorizó dentro de cada estrato. Es así que otra fortaleza a resaltar es que se utilizó un análisis de subgrupos para verificar la heterogeneidad en el efecto del tratamiento. Esto permitió evaluar si efectivamente la promoción anticipada de la beca HAIL aumentó las tasas de inscripción entre estudiantes aislados por región, urbanización, género, raza, logro académico y nivel de desventaja económica. Adicionalmente, esto convergió en la creación de un índice único de la probabilidad de que un estudiante –en ausencia de la intervención– asista a una escuela altamente selectiva, el cual es de suma utilidad para generar predicciones e interpretar más fácilmente el impacto de este experimento en las decisiones universitarias. \n",
    "\n",
    "\n",
    "No obstante, este enfoque tiene ciertas debilidades que no se deben ignorar. En primer lugar, un punto débil de los experimentos es que generalmente tienen una estandarización local, por lo que sus resultados no pueden ser aplicados a nivel macro en tanto los efectos no necesariamente serán los mismos. En esta línea, aunque el experimento fue a gran escala, sus resultados pueden ser aplicados para la población de los estudiantes con alto desempeño y bajos recursos en Michigan, pero no para los estudiantes en todo el país o el mundo. Por supuesto, el incremento de investigaciones en nuevos contextos que comprueben las hipótesis de este estudio podría atenuar esta debilidad, pero por ahora su alcance local no debe perderse de vista. Por otro lado, una limitación moral es que la investigación pudo tener efectos negativos imprevistos. Por ejemplo, se menciona que probablemente se pudo desanimar a los estudios que no recibieron la comunicación anticipada y personalizada para inscribirse en una universidad selectiva. No obstante, la investigación comprobó que HAIL no desalentó a los estudiantes a inscribirse en otras instituciones selectivas, sino que, por el contrario, animó a escolares que ni siquiera habían previsto inscribirse en una universidad. De todos modos, se debe siempre tener en cuenta el margen de error marcado por el propio contexto, pues, aunque este sea controlado, en la realidad práctica pueden presentarse numerosas variables complejas que pueden influir en el experimento. \n",
    "\n",
    "\n",
    "La presente investigación tiene una enorme contribución tanto teórica como práctica. En primer lugar, este estudio llena el vacío teórico dejado por los modelos estándar de inversión en capital humano. A pesar de que los costos de solicitar ayuda financiera y acceder a una universidad son pequeños comparados a los beneficios a largo plazo, los estudiantes tienden a no elegir estas instituciones selectivas. Por ello, el modelo clásico de toma de decisiones no logra explicar por completo esta situación, de modo que el presente estudio ha revelado nuevas variables –como la incertidumbre, el sesgo presente y la aversión a la pérdida– que juegan un rol esencial en la toma de decisiones universitarias de los estudiantes. Con ello, se ha logrado demostrar que una intervención de bajo costo que elimine los obstáculos administrativos y de comportamiento puede alterar profundamente las opciones de los estudiantes. Al mismo tiempo, este estudio tiene una contribución práctica pues, a través de una intervención poco costosa, HAIL cerró a la mitad la brecha en la asistencia a la universidad entre los estudiantes de alto rendimiento, además de incentivarlos a inscribirse otras universidades selectivas y a su permanencia en la universidad. Esto nos lleva a otra contribución práctica muy importante, y es que los patrones de comportamiento descubiertos tienen implicaciones para la política, pues se ha demostrado que el diseño cuidadoso de los entornos en que las personas toman decisiones puede tener una influencia significativa en su comportamiento. Esta consideración es muy importante para las actuales discusiones políticas de la “universidad gratuita”, pues revela nuevos aspectos a tomarse en cuenta en el diseño de políticas de matrícula y marketing universitario con el fin de atraer a más estudiantes. \n",
    "\n",
    "\n",
    "Finalmente, un paso para avanzar en la pregunta de investigación es profundizar en otros factores influyentes en la elección de universidad por parte de los escolares. Según Mamani (2018), existen diferencias significativas en las elecciones de los estudiantes tradicionales (jóvenes) y no tradicionales (adultos), de modo que es de vital importancia complementar los conocimientos adquiridos con otros factores que intervienen en el comportamiento de los estudiantes para tener una comprensión holística de las dinámicas que están detrás de sus decisiones. Por otro lado, considero que una valiosa forma de profundizar en los alcances de esta investigación es adaptando este experimento a nuevos contextos, como el latinoamericano, para evaluar si estos mismos factores no tradicionales, es decir, la incertidumbre, el sesgo presente y la aversión a la pérdida, juegan un papel importante en la toma de decisiones de estudiantes pertenecientes a otros escenarios. \n"
   ]
  },
  {
   "cell_type": "markdown",
   "id": "7475dab1",
   "metadata": {},
   "source": [
    "## Bibliografía"
   ]
  },
  {
   "cell_type": "markdown",
   "id": "3b99a9cd",
   "metadata": {},
   "source": [
    "Mamani, O. (2018) Factores que influyen en la elección de una universidad en los estudiantes jóvenes y adultos del Perú. (Tesis para Magíster). Universidad Complutense de Madrid. Recuperado de: https://eprints.ucm.es/id/eprint/49860/1/TFM_Sept2018_Mamami_E-prints.pdf"
   ]
  }
 ],
 "metadata": {
  "kernelspec": {
   "display_name": "Python 3 (ipykernel)",
   "language": "python",
   "name": "python3"
  },
  "language_info": {
   "codemirror_mode": {
    "name": "ipython",
    "version": 3
   },
   "file_extension": ".py",
   "mimetype": "text/x-python",
   "name": "python",
   "nbconvert_exporter": "python",
   "pygments_lexer": "ipython3",
   "version": "3.9.12"
  }
 },
 "nbformat": 4,
 "nbformat_minor": 5
}
