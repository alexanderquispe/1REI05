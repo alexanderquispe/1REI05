{
 "cells": [
  {
   "cell_type": "markdown",
   "id": "dbe3af01",
   "metadata": {},
   "source": [
    "# EXAMEN PARCIAL"
   ]
  },
  {
   "cell_type": "markdown",
   "id": "7a753369",
   "metadata": {},
   "source": [
    "**Nombre:** Alessandra Marcela Marocho Pacheco\n",
    "\n",
    "**Código:** 20201319"
   ]
  },
  {
   "cell_type": "code",
   "execution_count": 8,
   "id": "c365f2eb",
   "metadata": {},
   "outputs": [],
   "source": [
    "#%matplotlib widget\n",
    "#%matplotlib inline\n",
    "import ipywidgets as widgets\n",
    "import matplotlib.pyplot as plt\n",
    "import numpy as np\n",
    "import sympy as sy\n",
    "from sympy import *\n",
    "import pandas as pd"
   ]
  },
  {
   "cell_type": "markdown",
   "id": "a8e979d2",
   "metadata": {},
   "source": [
    "## PARTE TEÓRICA"
   ]
  },
  {
   "cell_type": "markdown",
   "id": "4bc3a456",
   "metadata": {},
   "source": [
    "**(1.5 puntos) Defina el Multiplicador Keynesiano y dé un ejemplo de cómo influye este en el modelo Ingreso-Gasto Keynesiano.**\n",
    "\n",
    "El  multiplicador keynesiano toma como referencia a los componentes autónomos de la demanda agregada y considera que el cambio en cualquiera de ellos tiene efecto en el ingreso y el punto de equilibrio.\n",
    "\n",
    "$$\\frac {1}{1- α} = \\frac {1}{1-(b-m)(1-t)}$$\n",
    "\n",
    "**(2 puntos) Grafique y explique cuándo sucede un exceso y déficit de demanda en el modelo Ingreso-Gasto. Señale las áreas donde ocurre cada caso. Explique cómo se converge al equilibrio a partir de estos dos escenarios.**\n",
    "\n",
    "\n",
    "**(2 puntos) ¿Cuáles son las herramientas de política fiscal y política monetaria? De un ejemplo para cada una de ellas dentro del contexto peruano. Coloque su fuente. (Solo necesita 1 para pol. Fiscal y 1 para Monetaria).**\n",
    "\n",
    "Por un lado, las herramientas de política fiscal son aquellas utilizadas por el gobierno de un país en relación con sus ingresos y gastos. En consecuencia, se trata principalmente del gasto de gobierno y la tasa impositiva. En primer lugar, el gasto del gobierno se relaciona de manera directa con la demanda agregada y representa el dinero utilizado por el Estado para, por ejemplo, educación, infraestructura, etc. Por su parte, la tasa impositiva representa los ingresos que recibe el Estado. Un ejemplo de [política fiscal](https://ideasparaelfuturo.caf.com/media/3011/peru-ganador-10567_peru-_la-implementacio-n-de-una-poli-tica-fiscal-eficiente.pdf) en el Perú se puede mencionar los bonos ofrecidos por el Estado durante el periodo de pandemia, tales como \"Yo me quedo en casa\" o el bono \"Familiar Universal\". \n",
    "\n",
    "Por otro lado, son consideradas como herramientas de la política monetaria la oferta monetaria, el coeficiente legal de encaje y la tasa de interés. La oferta monetaria se encuentra relacionada con la compra y venta de bonos por parte de los bancos. A su vez, la tasa de encaje repercute en la cantidad de dinero que los bancos mantienen en reserva. Finalmente, la tasa de interés es el instrumento de política monetaria más utilizado a nivel mundial, posicionando a la oferta monetaria como una variable endógena. El incremento o reducción de la tasa de interés provoca que la cantidad de dinero prestado por los bancos disminuya o se incremente, respectivamente. Un ejemplo de política monetaria es la emprendida desde el 2002 por el [BCRP](https://www.bcrp.gob.pe/docs/Publicaciones/Revista-Moneda/Moneda-138/Moneda-138-04.pdf) bajo un \"esquema de metas explícitas de inflación\", denominado como MEI, por el medio del cual ha buscado mantener una mayor estabilidad económica. \n",
    "\n",
    "Fuente: \n",
    "1: https://ideasparaelfuturo.caf.com/media/3011/peru-ganador-10567_peru-_la-implementacio-n-de-una-poli-tica-fiscal-eficiente.pdf\n",
    "2: https://www.bcrp.gob.pe/docs/Publicaciones/Revista-Moneda/Moneda-138/Moneda-138-04.pdf\n",
    "\n",
    "**(1.5) Explique qué funciones del dinero respaldan el exito de de Yape y Plin (Aplicativos moviles para intercambio de dinero).**\n",
    "\n",
    "En primer lugar, el empleo de estas de aplicaciones, como es el caso de Yape o Plin, ha facilitado el desarrollo de transacciones en nuestra vida cotidiana. Teniendo en cuenta las funciones del dinero, el principal motivo por el que las personas demandaban dinero se debía a la transacción. Es decir, en la vida diaria resultaba imperativo siempre con liquidez para enfrentar distintos gastos. Debido a ello, las facilidades que ofrecen estos aplicativos para realizar intercambios de dinero, sin la necesidad de contar con una cuenta de ahorros en un banco, hacen que sea una herramienta efectiva para la transacción. \n",
    "\n",
    "\n",
    "**(3 puntos) Cuáles son las conclusiones principales del paper de Dancurt \"Inflation Targeting in Peru: The Reasons for the Success\"**\n",
    "\n",
    "En su artículo, Dancourt nos señala cuáles son los principales instrumentos de la política monetaria peruana desde el año 2002 y nos explica la manera en que fueron empleados durante, por ejemplos, periodos de crisis mundial.  Con las políticas macroeconómicas en estos nos referimos a un sistema de metas de inflación con una tasa de interés de referencia y la acumulación de suficientes reservas de divisa extranjera. Debido a ellas, el autor reconoce que nuestro país ha vivido en general una etapa de mayor estabilidad macroeconómica.\n",
    "\n",
    "Con el respecto al primero, el autor critica la respuesta a situación de shock externo como fue la desaceleración de la economía peruana durante 2013-2014, puesto que el BCRP, en lugar de reducir la tasa de interés de referencia, reaccionó contrario a ello. Señala que la entidad debió actuar de la misma manera que durante la crisis económica de 2008, en la que si se observo una reducción del coeficiente del encaje global y de la tasa de referencia. En consecuencia, concluye que este sería la reacción adecuada.\n",
    "\n",
    "Con respecto al segundo, Dancourt afirma que los bancos comerciales deben evitar el endeudamiento en divisas extranjeras y la importancia de llevar adelante un incremento del crédito en soles para ver una desdolarización de los mismos. Asimismo, también describe como fue empleada esta herramienta durante la crisis de 2008-2009 y, como con el aumento del tipo de cambio, el BCRP decidió la venta de sus visitas y; como posteriormente, con la disminución del tipo de cambio, volvió a comprar.\n",
    "\n"
   ]
  },
  {
   "cell_type": "markdown",
   "id": "920b706d",
   "metadata": {},
   "source": [
    "## EJERCICIO 1"
   ]
  },
  {
   "cell_type": "markdown",
   "id": "b14fde0b",
   "metadata": {},
   "source": [
    "**Encuentre el Ingreso de Equilibrio e identifique el multiplicador keynesiano.**\n",
    "\n",
    "Teniendo en cuenta la ecuación IS\n",
    "\n",
    "$$Y = C + G + I + X - M$$\n",
    "\n",
    "Se reemplaza con sus componentes: \n",
    "\n",
    "$$Y = C_o + B(1-t)Y + I_o + G_o + X_o - hr- mY$$\n",
    "\n",
    "En función de Y: \n",
    "\n",
    "$$Y = \\frac {1}{1-(b-m)(1-t)}(C_o + I_o + X_o - hr)$$\n",
    "\n",
    "Y el ingreso de equlibrio es igual a este: \n",
    "\n",
    "$$Y^e = \\frac {1}{1-(b-m)(1-t)}(C_o + I_o + X_o - hr)$$"
   ]
  },
  {
   "cell_type": "markdown",
   "id": "70591f6f",
   "metadata": {},
   "source": [
    "**(2 puntos) Analice los efectos sobre la variable endógena  de una disminución del gasto fiscal (∆Go<0). El análisis debe ser intuitivo, matemático y gráfico.**\n"
   ]
  },
  {
   "cell_type": "code",
   "execution_count": 14,
   "id": "1124b092",
   "metadata": {},
   "outputs": [],
   "source": [
    "#--------------------------------------------------\n",
    "    # Curva IS\n",
    "\n",
    "r_size = 100 \n",
    "\n",
    "Co = 13\n",
    "b = 0.7\n",
    "t = 0.25\n",
    "Io = 6.4\n",
    "Go = 5\n",
    "h = 0.3\n",
    "Xo = 2\n",
    "m = 0.4\n",
    "\n",
    "r = np.arange(r_size)\n",
    "\n",
    "# Ecuación\n",
    "\n",
    "def IS_CB(Co, b, t, Io, h, Xo, m, Go):\n",
    "    IS_CB = (1/(1 - (b - m)*(1 - t)))*(Co + Io + Go + Xo - h*r)\n",
    "    return IS_CB\n",
    "\n",
    "IS_CB = IS_CB(Co, b, t, Io, h, Xo, m, Go)\n",
    "\n",
    "\n",
    "#--------------------------------------------------\n",
    "    # Curva LM\n",
    "    \n",
    "# Parámetros\n",
    "\n",
    "Y_size = 100\n",
    "\n",
    "P = 3.5\n",
    "k = 1.76\n",
    "j = 3\n",
    "r = 15\n",
    "\n",
    "Y = np.arange(Y_size)\n",
    "\n",
    "# Ecuación\n",
    "\n",
    "def LM_CB(Y, P, k, j, r):\n",
    "    LM_CB = P*(k*Y - j*r)\n",
    "    return LM_CB\n",
    "\n",
    "LM_CB = LM_CB(Y, P, k, j, r)\n",
    "\n",
    "#---------------------------------------------------\n",
    "    # Nueva IS\n",
    "\n",
    "Go = 2\n",
    "\n",
    "def IS_CB_2(Co, b, t, Io, h, Xo, m, Go):\n",
    "    IS_CB_2 = (1/(1 - (b - m)*(1 - t)))*(Co + Io + Go + Xo - h*r)\n",
    "    return IS_CB_2\n",
    "\n",
    "IS_CB_2 = IS_CB_2(Co, b, t, Io, h, Xo, m, Go)"
   ]
  },
  {
   "cell_type": "code",
   "execution_count": 10,
   "id": "cf790d46",
   "metadata": {},
   "outputs": [],
   "source": [
    "# líneas punteadas autómaticas\n",
    "\n",
    "    # definir la función line_intersection\n",
    "def line_intersection(line1, line2):\n",
    "    xdiff = (line1[0][0] - line1[1][0], line2[0][0] - line2[1][0])\n",
    "    ydiff = (line1[0][1] - line1[1][1], line2[0][1] - line2[1][1])\n",
    "\n",
    "    def det(a, b):\n",
    "        return a[0] * b[1] - a[1] * b[0]\n",
    "\n",
    "    div = det(xdiff, ydiff)\n",
    "    if div == 0:\n",
    "       raise Exception('lines do not intersect')\n",
    "\n",
    "    d = (det(*line1), det(*line2))\n",
    "    x = det(d, xdiff) / div\n",
    "    y = det(d, ydiff) / div\n",
    "    return x, y"
   ]
  },
  {
   "cell_type": "code",
   "execution_count": 11,
   "id": "0bdb64f9",
   "metadata": {},
   "outputs": [
    {
     "data": {
      "text/plain": [
       "(15.000000000000002, 49.25)"
      ]
     },
     "execution_count": 11,
     "metadata": {},
     "output_type": "execute_result"
    }
   ],
   "source": [
    "r_ec = np.full((100), 15)\n",
    "\n",
    "    # coordenadas de las curvas (x,y)\n",
    "A = [IS_CB[0], Y[0]] # DA, coordenada inicio\n",
    "B = [IS_CB[-1], Y[-1]] # DA, coordenada fin\n",
    "\n",
    "C = [r_ec[0], Y[0]] # L_45, coordenada inicio\n",
    "D = [r_ec[-1], Y[-1]] # L_45, coordenada fin\n",
    "\n",
    "    # creación de intersección\n",
    "\n",
    "intersec_1 = line_intersection((A, B), (C, D))\n",
    "intersec_1 # (y,x)"
   ]
  },
  {
   "cell_type": "code",
   "execution_count": 12,
   "id": "7a4f3cb0",
   "metadata": {},
   "outputs": [
    {
     "data": {
      "text/plain": [
       "(20.0, 36.333333333333336)"
      ]
     },
     "execution_count": 12,
     "metadata": {},
     "output_type": "execute_result"
    }
   ],
   "source": [
    "Go_ec_2 = np.full((100), 20)\n",
    "\n",
    "    # coordenadas de las curvas (x,y)\n",
    "A = [IS_CB[0], Y[0]] # DA, coordenada inicio\n",
    "B = [IS_CB[-1], Y[-1]] # DA, coordenada fin\n",
    "\n",
    "C = [_ec_2[0], Y[0]] # L_45, coordenada inicio\n",
    "D = [r_ec_2[-1], Y[-1]] # L_45, coordenada fin\n",
    "\n",
    "    # creación de intersección\n",
    "\n",
    "intersec_2 = line_intersection((A, B), (C, D))\n",
    "intersec_2 # (y,x)"
   ]
  },
  {
   "cell_type": "code",
   "execution_count": 13,
   "id": "25c3303d",
   "metadata": {},
   "outputs": [
    {
     "data": {
      "image/png": "[encoded data removed]",
      "text/plain": [
       "<Figure size 720x576 with 1 Axes>"
      ]
     },
     "metadata": {
      "needs_background": "light"
     },
     "output_type": "display_data"
    }
   ],
   "source": [
    "    # Gráfico del modelo IS-PM\n",
    "\n",
    "# Dimensiones del gráfico\n",
    "y_max = np.max(Y)\n",
    "fig, ax = plt.subplots(figsize=(10, 8))\n",
    "\n",
    "# Curvas a graficar\n",
    "ax.plot(IS_CB, label = \"IS\", color = \"C1\") #IS\n",
    "ax.plot(r_ec, color = \"red\", label =\"PM\") #r: tasa de interés\n",
    "ax.plot(r_ec_2, color = \"red\", label =\"PM_2\", linestyle = 'dashed') #r: tasa de interés\n",
    "\n",
    "plt.axline((intersec_1[1], intersec_1[0]), slope=0.25, color=\"C0\", label = 'LM')\n",
    "plt.axline((intersec_2[1], intersec_2[0]), slope=0.25, color=\"C0\", label = 'LM_2', linestyle = 'dashed')\n",
    "\n",
    "plt.axvline(x=intersec_1[1], ymin= 0, ymax= 1, linestyle = \":\", color = \"grey\")\n",
    "plt.axvline(x=intersec_2[1], ymin= 0, ymax= 1, linestyle = \":\", color = \"grey\")\n",
    "\n",
    "ax.text(0, 16, '$r_0$', fontsize = 13, color = 'black')\n",
    "ax.text(51, -5, '$Y_0$', fontsize = 13, color = 'black')\n",
    "ax.text(48, 16.5, '$E_0$', fontsize = 13, color = 'black')\n",
    "\n",
    "ax.text(0, 21, '$r_1$', fontsize = 13, color = 'red')\n",
    "ax.text(40, -5, '$Y_1$', fontsize = 13, color = 'red')\n",
    "ax.text(35, 22, '$E_1$', fontsize = 13, color = 'red')\n",
    "\n",
    "ax.set(title=\"Incremento de la tasa de interés en el plano $(Y, r)$\", xlabel= 'Y', ylabel= 'r')\n",
    "ax.legend()\n",
    "\n",
    "plt.show()"
   ]
  },
  {
   "cell_type": "markdown",
   "id": "bb030544",
   "metadata": {},
   "source": [
    "(2 puntos) Analice los efectos sobre la variable endógena  de un incremento del PBI mundial . El análisis debe ser intuitivo, matemático y gráfico."
   ]
  },
  {
   "cell_type": "markdown",
   "id": "8a35b611",
   "metadata": {},
   "source": [
    "## EJERCICIO 2"
   ]
  },
  {
   "cell_type": "markdown",
   "id": "e6d8dea0",
   "metadata": {},
   "source": [
    "**Encuentre las ecuaciones de equilibrio**\n",
    "\n",
    "Demanda agregada:\n",
    "\n",
    "$$IS = [1-b(1-t)]Y = C_o + I_o + G_o - hr$$\n",
    "\n",
    "$$LM: M^s_o - P = kY - jr_o$$\n",
    "\n",
    "Oferta agregada:\n",
    "\n",
    "$$P^e = P^e + θ(Y^e - \\bar{Y})$$\n",
    "\n"
   ]
  },
  {
   "cell_type": "code",
   "execution_count": null,
   "id": "7b9bbea8",
   "metadata": {},
   "outputs": [],
   "source": []
  }
 ],
 "metadata": {
  "kernelspec": {
   "display_name": "Python 3 (ipykernel)",
   "language": "python",
   "name": "python3"
  },
  "language_info": {
   "codemirror_mode": {
    "name": "ipython",
    "version": 3
   },
   "file_extension": ".py",
   "mimetype": "text/x-python",
   "name": "python",
   "nbconvert_exporter": "python",
   "pygments_lexer": "ipython3",
   "version": "3.9.12"
  }
 },
 "nbformat": 4,
 "nbformat_minor": 5
}
