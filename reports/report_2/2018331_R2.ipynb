{
 "cells": [
  {
   "cell_type": "markdown",
   "id": "920a804b",
   "metadata": {},
   "source": [
    "REPORTE 2\n",
    "CLAUDIA CABREL - 20183351\n",
    "\n",
    "- ENSAYO - THE MONETARY AND FISCAL HISTORY OF PERÚ\n",
    "\n",
    "\n",
    "En primer lugar, el artículo de Martinelli y Vega se plantea un desarrollo de lo que fue la inflación en Perú entre los años 1970 – 1980, y para ello realizan una serie de análisis que proceden a argumentar porqué históricamente los factores políticos y económicos influyeron, así como la intención del gobierno de saldar sus deudas mediante una mala gestión también, en que se produzca una época de inflación. Asimismo, se han podido encontrar dos fortalezas y dos debilidades en el texto de Martinelli y Vega. Por una parte, respecto a las fortalezas, se puede afirmar que los autores realizaron una serie de ejercicios que finalmente ayudarían a comprender histórica y económicamente los motivos por los que se llegó a la hiperinflación destacando el papel de las políticas fiscales y monetarias específicamente en Perú; en suma, los autores hablan también de las medidas por las que se optaron, gubernamentalmente, para solucionar y evitar la continuación de la hiperinflación a la que se llegó en 1990 junto a una explicación de porqué se cambiaron las políticas monetarias en el país. Por otra parte, dos debilidades encontradas en el artículo son que (1) no se desarrolla el aspecto social, pues se trata de una época de constantes movimientos sociales, de hechos históricos que mercaron la historia y que claramente afectaban distintos aspectos que gestionaban el progreso del país, como el sector económico y político (los cuales sí se ven desarrollados en el texto); y (2) se observa que otra debilidad es que si bien en muchas partes del texto se desarrollan los conceptos técnicos utilizados para su análisis, se expresa una tendencia bastante teórica que impide la fácil comprensión del texto. Por otro lado, respecto al aporte de los autores a la investigación se observa que incluyeron al análisis una perspectiva internacional, mencionando cómo las variables del mundo exterior podían afectar también al suceso de inflación en el Perú. Hicieron uso de distintos casos que ayudaron a comprender y explicar este periodo de crisis económica. Finalmente, un siguiente paso para continuar con la investigación podría ser que los autores aconsejen acerca de la relación de esta clase de crisis financieras con la eficiencia de los gobiernos de cargo, debido a que justamente se vio empeorada la crisis al querer saldar la deuda del gobierno.\n"
   ]
  },
  {
   "attachments": {},
   "cell_type": "markdown",
   "id": "97908151",
   "metadata": {},
   "source": [
    "CODIGO EN PYTHON\n",
    "GRUPO:\n",
    "CLAUDIA CABREL &\n",
    "AISHA MARTÍNEZ\n",
    "\n",
    "\n",
    "- A. EL MODELO DE INGRESO - GASTO: LA CURVA IS"
   ]
  },
  {
   "cell_type": "markdown",
   "id": "337f87d2",
   "metadata": {},
   "source": [
    "C = C_0 + bY^d"
   ]
  },
  {
   "cell_type": "markdown",
   "id": "47ef3d5f",
   "metadata": {},
   "source": [
    "I = I_0 - hr"
   ]
  },
  {
   "cell_type": "markdown",
   "id": "76ca132e",
   "metadata": {},
   "source": [
    "G = G_0"
   ]
  },
  {
   "cell_type": "markdown",
   "id": "c5e04997",
   "metadata": {},
   "source": [
    "T = tY"
   ]
  },
  {
   "cell_type": "markdown",
   "id": "2c174665",
   "metadata": {},
   "source": [
    "X = X_0"
   ]
  },
  {
   "cell_type": "markdown",
   "id": "b51bc7fe",
   "metadata": {},
   "source": [
    "M = mY^d"
   ]
  },
  {
   "cell_type": "markdown",
   "id": "6778e096",
   "metadata": {},
   "source": [
    "1.1 Utilizando las ecuaciones derive paso a paso la curva IS matemáticamente (a partir de la condición de equilibrio Y = DA)"
   ]
  },
  {
   "cell_type": "markdown",
   "id": "b2ac364d",
   "metadata": {},
   "source": [
    "Y=DA"
   ]
  },
  {
   "cell_type": "markdown",
   "id": "317e692f",
   "metadata": {},
   "source": [
    "Y=C+I+G+X-M"
   ]
  },
  {
   "cell_type": "markdown",
   "id": "aaaff51a",
   "metadata": {},
   "source": [
    "Y=C0+b*Y^d+I0-h*r+G0+X0-m*Y^d"
   ]
  },
  {
   "cell_type": "markdown",
   "id": "4592a84b",
   "metadata": {},
   "source": [
    "Y^d=Y-T=(1-t)*Y"
   ]
  },
  {
   "cell_type": "markdown",
   "id": "91cc63e0",
   "metadata": {},
   "source": [
    "Y=C0+b*(1-t)*Y+I0-h*r+G0+X0-m*(1-t)*Y"
   ]
  },
  {
   "cell_type": "markdown",
   "id": "2bd478ef",
   "metadata": {},
   "source": [
    "-Y*(1-(1-t)*(b-m)))=-C0-I0-G0-X0+h*r"
   ]
  },
  {
   "cell_type": "markdown",
   "id": "cb9938e6",
   "metadata": {},
   "source": [
    "IS:   \\dfrac{-Y*(1-(1-t)*(b-m))}{h}+ \\dfrac{(C0+I0+G0+X0)}{h}=r"
   ]
  },
  {
   "cell_type": "markdown",
   "id": "03df284a",
   "metadata": {},
   "source": [
    "1.2 Utilizando la función de equilibrio IS donde r está en función de Y, encuentre  que representa la pendiente y qué signo tiene?"
   ]
  },
  {
   "cell_type": "markdown",
   "id": "94054658",
   "metadata": {},
   "source": [
    "<math xmlns=\"http://www.w3.org/1998/Math/MathML\" display=\"block\">\n",
    "  <mi>&#x394;</mi>\n",
    "  <mi>r</mi>\n",
    "  <mrow data-mjx-texclass=\"ORD\">\n",
    "    <mo>/</mo>\n",
    "  </mrow>\n",
    "  <mi>&#x394;</mi>\n",
    "  <mi>Y</mi>\n",
    "  <mo>=</mo>\n",
    "  <mo>&#x2212;</mo>\n",
    "  <mo stretchy=\"false\">(</mo>\n",
    "  <mn>1</mn>\n",
    "  <mo>&#x2212;</mo>\n",
    "  <mo stretchy=\"false\">(</mo>\n",
    "  <mn>1</mn>\n",
    "  <mo>&#x2212;</mo>\n",
    "  <mi>t</mi>\n",
    "  <mo stretchy=\"false\">)</mo>\n",
    "  <mo>&#x2217;</mo>\n",
    "  <mo stretchy=\"false\">(</mo>\n",
    "  <mi>b</mi>\n",
    "  <mo>&#x2212;</mo>\n",
    "  <mi>m</mi>\n",
    "  <mo stretchy=\"false\">)</mo>\n",
    "  <mo stretchy=\"false\">)</mo>\n",
    "  <mrow data-mjx-texclass=\"ORD\">\n",
    "    <mo>/</mo>\n",
    "  </mrow>\n",
    "  <mi>h</mi>\n",
    "</math>"
   ]
  },
  {
   "cell_type": "markdown",
   "id": "7ddd3c39",
   "metadata": {},
   "source": [
    "Se representa con una pendiente negativa debido a que la pendiente de la curva IS es mayor que cero. Por ende, al tratarse de una pendiente negativa, su signo sería NEGATIVO:"
   ]
  },
  {
   "cell_type": "markdown",
   "id": "83bb0d62",
   "metadata": {},
   "source": [
    "<math xmlns=\"http://www.w3.org/1998/Math/MathML\" display=\"block\">\n",
    "  <mfrac>\n",
    "    <mrow>\n",
    "      <mo>&#x2206;</mo>\n",
    "      <mi>r</mi>\n",
    "    </mrow>\n",
    "    <mrow>\n",
    "      <mo>&#x2206;</mo>\n",
    "      <mi>Y</mi>\n",
    "    </mrow>\n",
    "  </mfrac>\n",
    "  <mo>=</mo>\n",
    "  <mo stretchy=\"false\">(</mo>\n",
    "  <mo>&#x2212;</mo>\n",
    "  <mo stretchy=\"false\">)</mo>\n",
    "</math>"
   ]
  },
  {
   "cell_type": "markdown",
   "id": "3c90bf6b",
   "metadata": {},
   "source": [
    "<math xmlns=\"http://www.w3.org/1998/Math/MathML\" display=\"block\">\n",
    "  <mfrac>\n",
    "    <mrow>\n",
    "      <mo>&#x2206;</mo>\n",
    "      <mi>r</mi>\n",
    "    </mrow>\n",
    "    <mrow>\n",
    "      <mo>&#x2206;</mo>\n",
    "      <mi>Y</mi>\n",
    "    </mrow>\n",
    "  </mfrac>\n",
    "  <mo>&lt;</mo>\n",
    "  <mn>0</mn>\n",
    "</math>"
   ]
  },
  {
   "cell_type": "markdown",
   "id": "4ee62f27",
   "metadata": {},
   "source": [
    "1.3 Lea la sección 4.4 del material de enseñanza y explique cómo se deriva la curva IS a partir del equilibrio  y grafique lo siguiente:"
   ]
  },
  {
   "cell_type": "markdown",
   "id": "75f7d242",
   "metadata": {},
   "source": [
    "<math xmlns=\"http://www.w3.org/1998/Math/MathML\">\n",
    "  <mi>r</mi>\n",
    "  <mo>=</mo>\n",
    "  <mfrac>\n",
    "    <mn>1</mn>\n",
    "    <mi>h</mi>\n",
    "  </mfrac>\n",
    "  <mo stretchy=\"false\">(</mo>\n",
    "  <msub>\n",
    "    <mi>C</mi>\n",
    "    <mn>0</mn>\n",
    "  </msub>\n",
    "  <mo>+</mo>\n",
    "  <msub>\n",
    "    <mi>G</mi>\n",
    "    <mn>0</mn>\n",
    "  </msub>\n",
    "  <mo>+</mo>\n",
    "  <msub>\n",
    "    <mi>I</mi>\n",
    "    <mn>0</mn>\n",
    "  </msub>\n",
    "  <mo>+</mo>\n",
    "  <msub>\n",
    "    <mi>X</mi>\n",
    "    <mn>0</mn>\n",
    "  </msub>\n",
    "  <mo stretchy=\"false\">)</mo>\n",
    "  <mo>&#x2212;</mo>\n",
    "  <mfrac>\n",
    "    <mrow>\n",
    "      <mn>1</mn>\n",
    "      <mo>&#x2212;</mo>\n",
    "      <mo stretchy=\"false\">(</mo>\n",
    "      <mi>b</mi>\n",
    "      <mo>&#x2212;</mo>\n",
    "      <mi>m</mi>\n",
    "      <mo stretchy=\"false\">)</mo>\n",
    "      <mo stretchy=\"false\">(</mo>\n",
    "      <mn>1</mn>\n",
    "      <mo>&#x2212;</mo>\n",
    "      <mi>t</mi>\n",
    "      <mo stretchy=\"false\">)</mo>\n",
    "    </mrow>\n",
    "    <mi>h</mi>\n",
    "  </mfrac>\n",
    "  <mo>&#x2217;</mo>\n",
    "  <mi>Y</mi>\n",
    "</math>"
   ]
  },
  {
   "cell_type": "markdown",
   "id": "e82bbe2e",
   "metadata": {},
   "source": [
    "En esta ecuación el ingreso (y) y la taza de equilibrio (r), equilibran el mercado de bienes."
   ]
  },
  {
   "cell_type": "code",
   "execution_count": 48,
   "id": "e417e52f",
   "metadata": {},
   "outputs": [],
   "source": [
    "import matplotlib.pyplot as plt\n",
    "import numpy as np\n",
    "import sympy as sy\n",
    "import pandas as pd\n",
    "from causalgraphicalmodels import CausalGraphicalModel\n",
    "from sympy import *"
   ]
  },
  {
   "cell_type": "markdown",
   "id": "f7c921e8",
   "metadata": {},
   "source": [
    "- DEMANDA AGREGADA"
   ]
  },
  {
   "cell_type": "code",
   "execution_count": 49,
   "id": "6a52209c",
   "metadata": {},
   "outputs": [],
   "source": [
    "Y_size = 100 \n",
    "\n",
    "Co = 35\n",
    "Io = 40\n",
    "Go = 70\n",
    "Xo = 2\n",
    "h = 0.7\n",
    "b = 0.8\n",
    "m = 0.2\n",
    "t = 0.3\n",
    "r = 0.9\n",
    "\n",
    "Y = np.arange(Y_size)"
   ]
  },
  {
   "cell_type": "code",
   "execution_count": 50,
   "id": "e46959fe",
   "metadata": {},
   "outputs": [],
   "source": [
    "def DA_K(Co, Io, Go, Xo, h, r, b, m, t, Y):\n",
    "    DA_K = (Co + Io + Go + Xo - h*r) + ((b - m)*(1 - t)*Y)\n",
    "    return DA_K\n",
    "\n",
    "DA_IS_K = DA_K(Co, Io, Go, Xo, h, r, b, m, t, Y)"
   ]
  },
  {
   "cell_type": "code",
   "execution_count": 51,
   "id": "826d16e4",
   "metadata": {},
   "outputs": [],
   "source": [
    "a = 2.5\n",
    "\n",
    "def L_45(a, Y):\n",
    "    L_45 = a*Y\n",
    "    return L_45\n",
    "\n",
    "L_45 = L_45(a, Y)"
   ]
  },
  {
   "cell_type": "code",
   "execution_count": 52,
   "id": "6a90ccc0",
   "metadata": {},
   "outputs": [],
   "source": [
    "Go = 35\n",
    "\n",
    "def DA_K(Co, Io, Go, Xo, h, r, b, m, t, Y):\n",
    "    DA_K = (Co + Io + Go + Xo - h*r) + ((b - m)*(1 - t)*Y)\n",
    "    return DA_K\n",
    "\n",
    "DA_G = DA_K(Co, Io, Go, Xo, h, r, b, m, t, Y)"
   ]
  },
  {
   "cell_type": "markdown",
   "id": "e003fbbb",
   "metadata": {},
   "source": [
    "- CURVA IS"
   ]
  },
  {
   "cell_type": "code",
   "execution_count": 53,
   "id": "8d4ce468",
   "metadata": {},
   "outputs": [],
   "source": [
    "Y_size = 100 \n",
    "\n",
    "Co = 36\n",
    "Io = 41\n",
    "Go = 71\n",
    "Xo = 3\n",
    "h = 0.6\n",
    "b = 0.7 \n",
    "m = 0.1\n",
    "t = 0.2\n",
    "r = 0.8\n",
    "\n",
    "Y = np.arange(Y_size)"
   ]
  },
  {
   "cell_type": "code",
   "execution_count": 54,
   "id": "823bd442",
   "metadata": {},
   "outputs": [],
   "source": [
    "def r_IS(b, m, t, Co, Io, Go, Xo, h, Y):\n",
    "    r_IS = (Co + Io + Go + Xo - Y * (1-(b-m)*(1-t)))/h\n",
    "    return r_IS\n",
    "\n",
    "r = r_IS(b, m, t, Co, Io, Go, Xo, h, Y)"
   ]
  },
  {
   "cell_type": "code",
   "execution_count": 55,
   "id": "e879031e",
   "metadata": {},
   "outputs": [
    {
     "data": {
      "image/png": "[encoded data removed]",
      "text/plain": [
       "<Figure size 576x1152 with 2 Axes>"
      ]
     },
     "metadata": {},
     "output_type": "display_data"
    }
   ],
   "source": [
    "fig, (ax1, ax2) = plt.subplots(2, figsize=(8, 16))\n",
    "\n",
    "ax1.yaxis.set_major_locator(plt.NullLocator())   \n",
    "ax1.xaxis.set_major_locator(plt.NullLocator())\n",
    "\n",
    "ax1.plot(Y, DA_IS_K, label = \"DA_0\", color = \"BLACK\") \n",
    "ax1.plot(Y, DA_G, label = \"DA_1\", color = \"RED\") \n",
    "ax1.plot(Y, L_45, color = \"GREY\") \n",
    "\n",
    "ax1.axvline(x = 70.5, ymin= 0, ymax = 0.69, linestyle = \":\", color = \"PINK\")\n",
    "ax1.axvline(x = 80,  ymin= 0, ymax = 0.79, linestyle = \":\", color = \"PINK\")\n",
    "\n",
    "ax1.text(6, 4, '$45°$', fontsize = 11.5, color = 'black')\n",
    "ax1.text(2.5, -3, '$◝$', fontsize = 30, color = 'black')\n",
    "ax1.text(77, 0, '$Y_1$', fontsize = 12, color = 'black')\n",
    "ax1.text(66, 0, '$Y_0$', fontsize = 12, color = 'black')\n",
    "ax1.text(65, 150, 'E_0', fontsize = 12, color = 'black')\n",
    "ax1.text(80, 154, 'DA(r0)', fontsize = 12, color = 'black')\n",
    "ax1.text(82, 194, 'E_1', fontsize = 12, color = 'black')\n",
    "ax1.text(90, 194, 'DA(r1; siendo r1 < r0)', fontsize = 12, color = 'black')\n",
    "\n",
    "ax1.set(title = \"DERIVACIÓN DE LA CURVA IS A PARTIR DEL EQUILIBRIO Y=DA\", xlabel = r'Y', ylabel = r'DA')\n",
    "ax1.legend()\n",
    "\n",
    "\n",
    "ax2.yaxis.set_major_locator(plt.NullLocator())   \n",
    "ax2.xaxis.set_major_locator(plt.NullLocator())\n",
    "\n",
    "ax2.plot(Y, r, label = \"IS\", color = \"PINK\") \n",
    "\n",
    "ax2.axvline(x = 80, ymin= 0, ymax = 0.99, linestyle = \":\", color = \"lightgray\")\n",
    "ax2.axvline(x = 70,  ymin= 0, ymax = 0.99, linestyle = \":\", color = \"lightgray\")\n",
    "plt.axhline(y = 151.5, xmin= 0, xmax = 0.69, linestyle = \":\", color = \"lightgray\")\n",
    "plt.axhline(y = 143, xmin= 0, xmax = 0.79, linestyle = \":\", color = \"lightgray\")\n",
    "\n",
    "ax2.text(72, 128, '$Y_0$', fontsize = 12, color = 'black')\n",
    "ax2.text(80, 128, '$Y_1$', fontsize = 12, color = 'black')\n",
    "ax2.text(1, 153, '$r_0$', fontsize = 12, color = 'black')\n",
    "ax2.text(1, 145, '$r_1$', fontsize = 12, color = 'black')\n",
    "ax2.text(72, 152, 'E_0', fontsize = 12, color = 'black')\n",
    "ax2.text(83, 144, 'E_1', fontsize = 12, color = 'black')\n",
    "\n",
    "ax2.set(title = \"CURVA IS\", xlabel = r'Y', ylabel = r'r' )\n",
    "ax2.legend()\n",
    "\n",
    "plt.show()\n",
    "\n"
   ]
  },
  {
   "cell_type": "markdown",
   "id": "c5ebe359",
   "metadata": {},
   "source": [
    "- B. LA CURVA IS O EL QUILIBRIO DE AHORRO - INVERSIÓN"
   ]
  },
  {
   "cell_type": "markdown",
   "id": "4edf900b",
   "metadata": {},
   "source": [
    "2.1 Derive la ecuación de IS a partir de la igualdad Ahorro-Inversión y grafique la curva IS de equilibrio en el Mercado de Bienes."
   ]
  },
  {
   "cell_type": "markdown",
   "id": "3412e853",
   "metadata": {},
   "source": [
    "Ahorro privado + ahorro del gobierno + ahorro externo = Inversión"
   ]
  },
  {
   "cell_type": "markdown",
   "id": "440f6b61",
   "metadata": {},
   "source": [
    "Ahorro total = I"
   ]
  },
  {
   "cell_type": "markdown",
   "id": "61da290f",
   "metadata": {},
   "source": [
    "<math xmlns=\"http://www.w3.org/1998/Math/MathML\" display=\"block\">\n",
    "  <mi>S</mi>\n",
    "  <mo>=</mo>\n",
    "  <mi>I</mi>\n",
    "</math>"
   ]
  },
  {
   "cell_type": "markdown",
   "id": "acb05fe7",
   "metadata": {},
   "source": [
    "Sp+Sg+Se=I0-h*r"
   ]
  },
  {
   "cell_type": "markdown",
   "id": "6fe8623e",
   "metadata": {},
   "source": [
    "(Yd-C)+(T-G)+(M-X)= I"
   ]
  },
  {
   "cell_type": "markdown",
   "id": "b20a5a69",
   "metadata": {},
   "source": [
    "Io-hr=1-(b-m)(1-t)*Y-(Co+Go+Xo)"
   ]
  },
  {
   "cell_type": "markdown",
   "id": "68f9314e",
   "metadata": {},
   "source": [
    "r=1/h*(Co+Go+Xo)-1/h*(1-(b-m)*(1-t)* Y"
   ]
  },
  {
   "cell_type": "markdown",
   "id": "303a4332",
   "metadata": {},
   "source": [
    "- CURVA IS"
   ]
  },
  {
   "cell_type": "code",
   "execution_count": 56,
   "id": "52793634",
   "metadata": {},
   "outputs": [],
   "source": [
    "Y_size = 100 \n",
    "\n",
    "Co = 35\n",
    "Io = 40\n",
    "Go = 70\n",
    "Xo = 2\n",
    "h = 0.7\n",
    "b = 0.8\n",
    "m = 0.2\n",
    "t = 0.3\n",
    "\n",
    "Y = np.arange(Y_size)\n"
   ]
  },
  {
   "cell_type": "code",
   "execution_count": 57,
   "id": "13d8216a",
   "metadata": {},
   "outputs": [],
   "source": [
    "def r_IS(b, m, t, Co, Io, Go, Xo, h, Y):\n",
    "    r_IS = (Co + Io + Go + Xo - Y * (1-(b-m)*(1-t)))/h\n",
    "    return r_IS\n",
    "\n",
    "r = r_IS(b, m, t, Co, Io, Go, Xo, h, Y)"
   ]
  },
  {
   "cell_type": "code",
   "execution_count": 58,
   "id": "e4a4e579",
   "metadata": {},
   "outputs": [
    {
     "data": {
      "image/png": "[encoded data removed]",
      "text/plain": [
       "<Figure size 720x576 with 1 Axes>"
      ]
     },
     "metadata": {},
     "output_type": "display_data"
    }
   ],
   "source": [
    "y_max = np.max(r)\n",
    "fig, ax = plt.subplots(figsize=(10, 8))\n",
    "\n",
    "ax.plot(Y, r, label = \"IS\", color = \"PINK\")\n",
    "\n",
    "ax.yaxis.set_major_locator(plt.NullLocator())   \n",
    "ax.xaxis.set_major_locator(plt.NullLocator())\n",
    "\n",
    "ax.text(98, 130, '$IS$', fontsize = 15, color = 'black')\n",
    "\n",
    "ax.set(title = \"CURVA IS\", xlabel= 'Y', ylabel= 'r')\n",
    "ax.legend()\n",
    "\n",
    "plt.show()"
   ]
  },
  {
   "cell_type": "markdown",
   "id": "397f860b",
   "metadata": {},
   "source": [
    "- C. DESQUILIBRIOS EN EL MERCADO DE BIENES"
   ]
  },
  {
   "cell_type": "markdown",
   "id": "9ddb31eb",
   "metadata": {},
   "source": [
    "3.1 Grafique las áreas de exceso de oferta o exceso de demanda en el mercado de bienes. Explique por qué estos puntos están fuera de los puntos de equilibrio en el mercado de bienes."
   ]
  },
  {
   "cell_type": "markdown",
   "id": "85293497",
   "metadata": {},
   "source": [
    "- CURVA IS"
   ]
  },
  {
   "cell_type": "code",
   "execution_count": 59,
   "id": "81ab163e",
   "metadata": {},
   "outputs": [],
   "source": [
    "Y_size = 100 \n",
    "\n",
    "Co = 15\n",
    "Io = 18\n",
    "Go = 28\n",
    "Xo = 5\n",
    "h = 0.8\n",
    "b = 0.5\n",
    "m = 0.3\n",
    "t = 0.3\n",
    "\n",
    "Y = np.arange(Y_size)\n"
   ]
  },
  {
   "cell_type": "code",
   "execution_count": 60,
   "id": "b63d78f6",
   "metadata": {},
   "outputs": [],
   "source": [
    "def r_IS(b, m, t, Co, Io, Go, Xo, h, Y):\n",
    "    r_IS = ((Co+Io+Go+Xo)/h-Y*((1-(1-t)*(b-m))/h))\n",
    "    return r_IS\n",
    "\n",
    "IS = r_IS(b, m, t, Co, Io, Go, Xo, h, Y)"
   ]
  },
  {
   "cell_type": "code",
   "execution_count": 61,
   "id": "cf710390",
   "metadata": {},
   "outputs": [
    {
     "data": {
      "image/png": "[encoded data removed]",
      "text/plain": [
       "<Figure size 720x576 with 1 Axes>"
      ]
     },
     "metadata": {},
     "output_type": "display_data"
    }
   ],
   "source": [
    "fig, ax = plt.subplots(figsize=(10, 8))\n",
    "ax.set(title=\"LA CURVA IS DE EQUILIBRIO EN EL MERCADO DE BIENES\", xlabel=r'Y', ylabel=r'r')\n",
    "\n",
    "ax.text(100, -20, '$IS$', fontsize = 12, color = 'black')\n",
    "ax.text(45, 34.13, '$A$', fontsize = 12, color = 'black')\n",
    "ax.text(15, 34.13, '$C$', fontsize = 12, color = 'black')\n",
    "ax.text(75, 34.13, '$B$', fontsize = 12, color = 'black')\n",
    "ax.text(-10, 34.13, '$r_A$', fontsize = 12, color = 'black')\n",
    "ax.text(18, 15, 'EXCESO DE DEMANDA', fontsize = 12, color = 'RED')\n",
    "ax.text(55, 50, 'EXCESO DE OFERTA', fontsize = 12, color = 'RED')\n",
    "\n",
    "\n",
    "\n",
    "ax.axvline(x = 45, ymin= 0, ymax = 0.55, linestyle = \":\", color = \"BLUE\")\n",
    "ax.axvline(x = 75, ymin= 0, ymax = 0.55, linestyle = \":\", color = \"BLUE\")\n",
    "ax.axvline(x = 15, ymin= 0, ymax = 0.55, linestyle = \":\", color = \"BLUE\")\n",
    "plt.axhline(y = 34.13, xmin= 0, xmax = 0.75, linestyle = \":\", color = \"BLUE\")\n",
    "\n",
    "ax.plot(IS, \"k-\")\n",
    "ax.yaxis.set_major_locator(plt.NullLocator())   \n",
    "ax.xaxis.set_major_locator(plt.NullLocator())                                     \n",
    "plt.show()"
   ]
  },
  {
   "cell_type": "markdown",
   "id": "7e5bf102",
   "metadata": {},
   "source": [
    "Estos puntos están fuera de los puntos de equilibrio en el mercado de bienes debido a que los puntos de equilibro estan ubicados dentro de la curva is. En ese sentido, los puntos de la derecha (A y B) se encontrarían en el exceso de oferta y, por otro lado, el punto C se encontraría dentro del exceso de demanda."
   ]
  },
  {
   "cell_type": "markdown",
   "id": "d5cde323",
   "metadata": {},
   "source": [
    "- D. MOVIMIENTOS DE LA CURVA IS"
   ]
  },
  {
   "cell_type": "markdown",
   "id": "8cb67d15",
   "metadata": {},
   "source": [
    "4.1 Analice una Política Fiscal Contractiva con caída del Gasto del Gobierno . El análisis debe ser intuitivo y gráfico."
   ]
  },
  {
   "cell_type": "code",
   "execution_count": 62,
   "id": "daabe6bd",
   "metadata": {},
   "outputs": [],
   "source": [
    "Y_size = 100 \n",
    "\n",
    "Co = 35\n",
    "Io = 40\n",
    "Go = 70\n",
    "Xo = 2\n",
    "h = 0.7\n",
    "b = 0.8\n",
    "m = 0.2\n",
    "t = 0.3\n",
    "\n",
    "Y = np.arange(Y_size)\n",
    "\n",
    "\n",
    "def r_IS(b, m, t, Co, Io, Go, Xo, h, Y):\n",
    "    r_IS = (Co + Io + Go + Xo - Y * (1-(b-m)*(1-t)))/h\n",
    "    return r_IS\n",
    "\n",
    "r = r_IS(b, m, t, Co, Io, Go, Xo, h, Y)\n",
    "\n",
    "\n",
    "Go = 35\n",
    "\n",
    "\n",
    "def r_IS (b, m, t, Co, Io, Go, Xo, h, Y):\n",
    "    r_IS = (Co + Io + Go + Xo - Y * (1-(b-m)*(1-t)))/h\n",
    "    return r_IS\n",
    "\n",
    "r_1 = r_IS(b, m, t, Co, Io, Go, Xo, h, Y)"
   ]
  },
  {
   "cell_type": "code",
   "execution_count": 63,
   "id": "844463b4",
   "metadata": {},
   "outputs": [
    {
     "data": {
      "image/png": "[encoded data removed]",
      "text/plain": [
       "<Figure size 720x576 with 1 Axes>"
      ]
     },
     "metadata": {},
     "output_type": "display_data"
    }
   ],
   "source": [
    "y_max = np.max(r)\n",
    "fig, ax = plt.subplots(figsize=(10, 8))\n",
    "\n",
    "ax.plot(Y, r, label = \"r_0\", color = \"MAGENTA\")\n",
    "ax.plot(Y, r_1, label = \"r_1\", color = \"BLUE\", linestyle = 'dashed')\n",
    "ax.plot(Y, L_45, color = \"black\") \n",
    "\n",
    "ax.axvline(x = 63, ymin= 0, ymax = 0.62, linestyle = \":\", color = \"RED\")\n",
    "ax.axvline(x = 48,  ymin= 0, ymax = 0.49, linestyle = \":\", color = \"RED\")\n",
    "plt.axhline(y = 120, xmin= 0, xmax = 0.49, linestyle = \":\", color = \"RED\")\n",
    "plt.axhline(y = 157, xmin= 0, xmax = 0.62, linestyle = \":\", color = \"RED\")\n",
    "\n",
    "ax.yaxis.set_major_locator(plt.NullLocator())   \n",
    "ax.xaxis.set_major_locator(plt.NullLocator())\n",
    "\n",
    "ax.text(98, 131, '$IS_0$', fontsize = 15, color = 'black')\n",
    "ax.text(98, 85, '$IS_1$', fontsize = 15, color = 'black')\n",
    "ax.text(64, -1, '$Y_0$', fontsize = 15, color = 'black')\n",
    "ax.text(49, -1, '$Y_1$', fontsize = 15, color = 'black')\n",
    "ax.text(42, 145, '$∆G < 0$', fontsize = 15, color = 'black')\n",
    "ax.text(45, 137, '$←$', fontsize = 25, color = 'black')\n",
    "\n",
    "ax.set(title = \"CURVA IS\", xlabel= 'Y', ylabel= 'r')\n",
    "ax.legend()\n",
    "\n",
    "plt.show()"
   ]
  },
  {
   "cell_type": "markdown",
   "id": "73718cf0",
   "metadata": {},
   "source": [
    "Podemos decir bajo un análisis intuitivo que hay una caída del Gasto del Gobierno en una política fiscal contractiva, por ende, la Demanda Agregada también caerá, esto implicaría una disminución de la producción para poder regresar a un equilibrio."
   ]
  },
  {
   "cell_type": "markdown",
   "id": "841cf13a",
   "metadata": {},
   "source": [
    "4.2 Analice una Política Fiscal Expansiva con una caída de la Tasa de Impuestos . El análisis debe ser intuitivo y gráfico."
   ]
  },
  {
   "cell_type": "code",
   "execution_count": 65,
   "id": "6216db1a",
   "metadata": {},
   "outputs": [
    {
     "data": {
      "image/png": "[encoded data removed]",
      "text/plain": [
       "<Figure size 720x576 with 1 Axes>"
      ]
     },
     "metadata": {
      "needs_background": "light"
     },
     "output_type": "display_data"
    }
   ],
   "source": [
    "Y_size = 100 \n",
    "\n",
    "Co = 35\n",
    "Io = 40\n",
    "Go = 50\n",
    "Xo = 2\n",
    "h = 0.7\n",
    "b = 0.8\n",
    "m = 0.2\n",
    "t = 0.3\n",
    "\n",
    "Y = np.arange(Y_size)\n",
    "\n",
    "def r_IS(b, m, t, Co, Io, Go, Xo, h, Y):\n",
    "    r_IS = (Co + Io + Go + Xo - Y * (1-(b-m)*(1-t)))/h\n",
    "    return r_IS\n",
    "\n",
    "r = r_IS(b, m, t, Co, Io, Go, Xo, h, Y)\n",
    "\n",
    "t = 0.2\n",
    "\n",
    "def r_IS(b, m, t, Co, Io, Go, Xo, h, Y):\n",
    "    r_IS = (Co + Io + Go + Xo - Y * (1-(b-m)*(1-t)))/h\n",
    "    return r_IS\n",
    "\n",
    "r_G = r_IS(b, m, t, Co, Io, Go, Xo, h, Y)\n",
    "\n",
    "y_max = np.max(r)\n",
    "fig, ax = plt.subplots(figsize=(10, 8))\n",
    "\n",
    "ax.plot(Y, r, label = \"IS\", color = \"PINK\") \n",
    "ax.plot(Y, r_G, label = \"IS_t\", color = \"BLUE\", linestyle = 'dashed')\n",
    "\n",
    "plt.text(47, 130, '∆t', fontsize=12, color='RED')\n",
    "plt.text(50, 140, '→', fontsize=15, color='grey')\n",
    "\n",
    "ax.set(title = \"BAJA LA TASA DE IMPUESTOS (t)\", xlabel= 'Y', ylabel= 'r')\n",
    "ax.legend()\n",
    "\n",
    "plt.show()"
   ]
  },
  {
   "cell_type": "code",
   "execution_count": null,
   "id": "92efc850",
   "metadata": {},
   "outputs": [],
   "source": []
  }
 ],
 "metadata": {
  "kernelspec": {
   "display_name": "Python 3 (ipykernel)",
   "language": "python",
   "name": "python3"
  },
  "language_info": {
   "codemirror_mode": {
    "name": "ipython",
    "version": 3
   },
   "file_extension": ".py",
   "mimetype": "text/x-python",
   "name": "python",
   "nbconvert_exporter": "python",
   "pygments_lexer": "ipython3",
   "version": "3.9.12"
  }
 },
 "nbformat": 4,
 "nbformat_minor": 5
}
