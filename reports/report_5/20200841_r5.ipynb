{
 "cells": [
  {
   "cell_type": "code",
   "execution_count": 1,
   "id": "605ded6a",
   "metadata": {},
   "outputs": [],
   "source": [
    "import matplotlib.pyplot as plt\n",
    "import numpy as np\n",
    "import sympy as sy\n",
    "import pandas as pd\n",
    "import numpy as np\n",
    "import random\n",
    "import math\n",
    "import sklearn\n",
    "import scipy as sp\n",
    "import networkx\n",
    "import statsmodels.api as sm\n",
    "import statsmodels.formula.api as smf\n",
    "from statsmodels.iolib.summary2 import summary_col\n",
    "from causalgraphicalmodels import CausalGraphicalModel\n",
    "import ipywidgets as widgets\n",
    "from sympy import *"
   ]
  },
  {
   "cell_type": "markdown",
   "id": "cda620d3",
   "metadata": {},
   "source": [
    "20200841\n",
    "\n",
    "Gianfranco Polar\n",
    "\n",
    "# Reporte 5\n",
    "\n",
    "## Lectura\n",
    "\n",
    "El artículo “Inflation Targeting in Peru: The Reasons for the Success”, elaborado por Óscar Dancourt, busca responder cuál es el impacto de la política monetaria de metas de inflación del Banco Central de Reserva en el buen desempeño macroeconómico del Perú durante la década 2002-2013. Para ello, Dancourt centra su análisis en la política monetaria en los que él considera los dos canales más importantes e influyentes en la actividad económica y el nivel de precios: el canal de crédito y el canal de tipo de cambio. \n",
    "\n",
    "Dancourt evalúa el impacto de medidas como el coeficiente de encaje y la tasa de interés de referencia en la oferta y demanda de crédito en la banca comercial privada. Concluye que el crédito en el Perú se expandió y se desdolarizó. Dancourt llega a esta conclusión tomando en cuenta también factores externos como la crisis de 2008-2009 que limitó el financiamiento externo reduciendo el crédito en moneda extranjera, así como variables internas como el desarrollo del mercado local de bonos públicos. Asimismo, en el canal del tipo de cambio, Dancourt sostiene que el Banco Central de Reserva tomó medidas acertadas pero incompletas frente a los choques externos adversos. Esta capacidad de considerar múltiples factores para el análisis de la situación macroeconómica del Perú, más allá de la política monetaria, es una de las grandes fortalezas del artículo. Por otro lado, se podría considerar como una debilidad del artículo el hecho de que no contempla elementos de la política fiscal tomada en el período de análisis, que también contribuyeron a preservar la estabilidad macroeconómica del Perú.\n",
    "\n",
    "La principal contribución del artículo son las recomendaciones que brinda al Banco Central de Reserva que permitirían elaborar una política monetaria que no dependa tanto de la tasa de interés de referencia. Estas son: la intervención esterilizada en el mercado de divisas y la limitación del endeudamiento de los bancos comerciales en moneda extranjera. En ese sentido, un siguiente paso en la investigación sería evaluar el impacto que esas medidas han tenido en la estabilidad macroeconómica de otros países. Al respecto, Rosas (2011) sostiene que las economías emergentes tienden a tener “miedo a flotar”, por lo cual intervienen en el mercado de divisas para estabilizar su moneda. Esta es la medida optada por países de América Latina como Chile, México y Brasil para lograr sus metas de inflación. Sin embargo, esta medida puede ser contraproducente pues “resta competitividad a la producción doméstica y genera riesgos sistémicos por la aparición de los déficit gemelos, que causan reversiones violentas de capital externo de corto plazo”. Asimismo, compromete los ingresos públicos en pagar los intereses de una creciente deuda interna, obstaculizando la creación de infraestructura y otros estímulos a la inversión productiva.\n",
    "\n",
    "**Bibliografía**\n",
    "\n",
    "Rosas Rojas, E. (2011). Intervención esterilizada en los mercados de cambios de América Latina: Brasil, Chile y México. Problemas del desarrollo, 42(167). https://www.scielo.org.mx/scielo.php?script=sci_arttext&pid=S0301-70362011000400005 "
   ]
  },
  {
   "cell_type": "markdown",
   "id": "83fb56de",
   "metadata": {},
   "source": [
    "## Código\n",
    "\n",
    "### Encontrar las ecuaciones de Ingreso $(Y^e)$, tasa de interés $(r^e)$, $(P^e_q)$ de equilibrio (escriba paso a paso la derivación de estas ecuaciones).\n",
    "\n",
    "\n",
    "1. ($Y^e$) Ingreso: $$ Y^e = [ \\frac{1}{(θ + \\frac{jB_1 + hk}{h})} ]*[(\\frac{h Mo^s + jB_o}{h} - P^e + θ\\bar{Y})]$$\n",
    "\n",
    "2. ($r^e$) Tasa de interés: $$ r^e = \\frac{kB_o}{kh + jB_1} - (\\frac{B_1}{kh + jB_1})*(Ms_o - P^e + θ( [ \\frac{1}{(θ + \\frac{jB_1 + hk}{h})} ]*\\\\\n",
    "[(\\frac{h Mo^s + jB_o}{h} - P^e + θ\\bar{Y})] - \\bar{Y} ) ) $$\n",
    "\n",
    "3. ($P^e$) Equilibrio: $$ P^e = P^e + θ( [ \\frac{1}{(θ + \\frac{jB_1 + hk}{h})} ]*[(\\frac{h Mo^s + jB_o}{h} - P^e + θ\\bar{Y})] - \\bar{Y} ) $$ "
   ]
  },
  {
   "cell_type": "code",
   "execution_count": 60,
   "id": "0ce03d78",
   "metadata": {},
   "outputs": [],
   "source": [
    "#1--------------------------\n",
    "    # Demanda Agregada\n",
    "    \n",
    "# Parámetros\n",
    "\n",
    "Y_size = 100 \n",
    "\n",
    "Co = 40\n",
    "Io = 45\n",
    "Go = 40\n",
    "Xo = 2\n",
    "h = 0.8\n",
    "b = 0.4\n",
    "m = 0.5\n",
    "t = 0.8\n",
    "\n",
    "k = 2\n",
    "j = 1                \n",
    "Ms = 200             \n",
    "P  = 8  \n",
    "\n",
    "Y = np.arange(Y_size)\n",
    "\n",
    "\n",
    "# Ecuación\n",
    "\n",
    "B0 = Co + Io + Go + Xo\n",
    "B1 = 1 - (b-m)*(1-t)\n",
    "\n",
    "def P_AD(h, Ms, j, B0, B1, k, Y):\n",
    "    P_AD = ((h*Ms + j*B0)/h) - (Y*(j*B1 + h*k)/h)\n",
    "    return P_AD\n",
    "\n",
    "P_AD = P_AD(h, Ms, j, B0, B1, k, Y)\n",
    "\n",
    "\n",
    "# Oferta Agregada\n",
    "    \n",
    "# Parámetros\n",
    "\n",
    "Y_size = 100\n",
    "\n",
    "Pe = 100 \n",
    "θ = 3\n",
    "_Y = 20   \n",
    "\n",
    "Y = np.arange(Y_size)\n",
    "\n",
    "\n",
    "# Ecuación\n",
    "\n",
    "def P_AS(Pe, _Y, Y, θ):\n",
    "    P_AS = Pe + θ*(Y-_Y)\n",
    "    return P_AS\n",
    "\n",
    "P_AS = P_AS(Pe, _Y, Y, θ)"
   ]
  },
  {
   "cell_type": "code",
   "execution_count": 61,
   "id": "44788fca",
   "metadata": {},
   "outputs": [
    {
     "data": {
      "text/plain": [
       "(192.39043824701196, 50.79681274900399)"
      ]
     },
     "execution_count": 61,
     "metadata": {},
     "output_type": "execute_result"
    }
   ],
   "source": [
    "# líneas punteadas autómaticas\n",
    "\n",
    "    # definir la función line_intersection\n",
    "def line_intersection(line1, line2):\n",
    "    xdiff = (line1[0][0] - line1[1][0], line2[0][0] - line2[1][0])\n",
    "    ydiff = (line1[0][1] - line1[1][1], line2[0][1] - line2[1][1])\n",
    "\n",
    "    def det(a, b):\n",
    "        return a[0] * b[1] - a[1] * b[0]\n",
    "\n",
    "    div = det(xdiff, ydiff)\n",
    "    if div == 0:\n",
    "       raise Exception('lines do not intersect')\n",
    "\n",
    "    d = (det(*line1), det(*line2))\n",
    "    x = det(d, xdiff) / div\n",
    "    y = det(d, ydiff) / div\n",
    "    return x, y\n",
    "\n",
    "    # coordenadas de las curvas\n",
    "A = [P_AD[0], Y[0]]\n",
    "B = [P_AD[-1], Y[-1]]\n",
    "\n",
    "C = [P_AS[0], Y[0]]\n",
    "D = [P_AS[-1], Y[-1]]\n",
    "\n",
    "intersec = line_intersection((A, B), (C, D))\n",
    "intersec # (y,x)"
   ]
  },
  {
   "cell_type": "code",
   "execution_count": 62,
   "id": "2daa5cbc",
   "metadata": {},
   "outputs": [
    {
     "data": {
      "image/png": "[encoded data removed]",
      "text/plain": [
       "<Figure size 720x576 with 1 Axes>"
      ]
     },
     "metadata": {},
     "output_type": "display_data"
    }
   ],
   "source": [
    "# Gráfico del modelo DA-OA\n",
    "\n",
    "# Dimensiones del gráfico\n",
    "y_max = np.max(P)\n",
    "fig, ax = plt.subplots(figsize=(10, 8))\n",
    "\n",
    "# Curvas a graficar \n",
    "ax.plot(Y, P_AD, label = \"DA\", color = \"green\")\n",
    "ax.plot(Y, P_AS, label = \"OA\", color = \"red\") \n",
    "\n",
    "# Líneas punteadas\n",
    "plt.axhline(y=intersec[0], xmin= 0, xmax= 0.5, linestyle = \":\", color = \"#8B7355\")\n",
    "plt.axvline(x=intersec[1],  ymin= 0, ymax= 0.49, linestyle = \":\", color = \"#8B7355\")\n",
    "\n",
    "# Texto agregado\n",
    "plt.text(0, 200, '$P_0$', fontsize = 12, color = 'black')\n",
    "plt.text(53, 25, '$Y_0$', fontsize = 12, color = 'black')\n",
    "plt.text(50, 202, '$E_0$', fontsize = 12, color = 'black')\n",
    "\n",
    "\n",
    "# Eliminar valores de ejes\n",
    "ax.yaxis.set_major_locator(plt.NullLocator())   \n",
    "ax.xaxis.set_major_locator(plt.NullLocator())\n",
    "\n",
    "# Título, ejes y leyenda\n",
    "ax.set(title=\"DA-OA\", xlabel= r'Y', ylabel= r'P')\n",
    "ax.legend()\n",
    "\n",
    "plt.show()"
   ]
  },
  {
   "cell_type": "markdown",
   "id": "9c9b0e43",
   "metadata": {},
   "source": [
    "### Estática comparativa\n",
    "#### Analice los efectos sobre las variables endógenas P y r de una disminución del gasto fiscal $(∆G_0 < 0)$. El análisis debe ser intuitivo, matemático y gráfico. En una figura, se debe que usar los ejes r e Y (modelo IS-LM), y en la otra, los ejes P y r (modelo DA-OA).\n",
    "\n",
    "**Análisis intuitivo**\n",
    "\n",
    "En el modelo IS-LM\n",
    "\n",
    "En el mercado de bienes:\n",
    "$$ G_o↓ → DA↓ → DA < Y → Y↓ $$\n",
    "\n",
    "En el mercado de dinero:\n",
    " $$ Y↓ → Md↓ → Md < Ms → r↓ $$\n",
    "\n",
    "En el modelo DA-OA:\n",
    "$$ Y↓ → θ(Y - \\bar{Y})↓ → P↓ $$\n",
    "\n",
    "**Análisis matemático**\n",
    "\n",
    "En el modelo IS-LM"
   ]
  },
  {
   "cell_type": "code",
   "execution_count": 63,
   "id": "a6d584f0",
   "metadata": {},
   "outputs": [],
   "source": [
    "# nombrar variables como símbolos\n",
    "Co, Io, Go, Xo, h, r, b, m, t, beta_0, beta_1  = symbols('Co Io Go Xo h r b m t beta_0, beta_1')\n",
    "\n",
    "# nombrar variables como símbolos\n",
    "k, j, Ms, P, Y = symbols('k j Ms P Y')\n",
    "\n",
    "# Beta_0 y beta_1\n",
    "beta_0 = (Co + Io + Go + Xo)\n",
    "beta_1 = ( 1-(b-m)*(1-t) )\n",
    "\n",
    "# Producto de equilibrio y la tasa de interes de equilibrio en el modelo IS-LM\n",
    "r_eq = (k*beta_0)/(k*h + j*beta_1) - ( beta_1 / (k*h + j*beta_1) )*(Ms/P)\n",
    "Y_eq = (j*beta_0)/(k*h + j*beta_1) + ( h / (k*h + j*beta_1) )*(Ms/P)\n"
   ]
  },
  {
   "cell_type": "code",
   "execution_count": 64,
   "id": "442ecd9a",
   "metadata": {},
   "outputs": [
    {
     "data": {
      "text/latex": [
       "$\\displaystyle \\frac{j}{h k + j \\left(- \\left(1 - t\\right) \\left(b - m\\right) + 1\\right)}$"
      ],
      "text/plain": [
       "j/(h*k + j*(-(1 - t)*(b - m) + 1))"
      ]
     },
     "execution_count": 64,
     "metadata": {},
     "output_type": "execute_result"
    }
   ],
   "source": [
    "df_Y_eq_Go = diff(Y_eq, Go)\n",
    "df_Y_eq_Go"
   ]
  },
  {
   "cell_type": "markdown",
   "id": "28ca1579",
   "metadata": {},
   "source": [
    "$$ \\frac{∆Y_q^e}{∆G_o} = \\frac{j}{hk + j(-(1-t)(b-m)+1} $$\n",
    "\n",
    "$$ \\frac{∆Y_q^e}{(-)} = (+) $$\n",
    "\n",
    "$$ ∆Y_q^e = (+)(-) $$\n",
    "\n",
    "$$ ∆Y_q^e = (-) $$\n",
    "\n",
    "$$ ∆Y_q^e < 0 $$"
   ]
  },
  {
   "cell_type": "code",
   "execution_count": 65,
   "id": "33a0cba1",
   "metadata": {},
   "outputs": [
    {
     "data": {
      "text/latex": [
       "$\\displaystyle \\frac{k}{h k + j \\left(- \\left(1 - t\\right) \\left(b - m\\right) + 1\\right)}$"
      ],
      "text/plain": [
       "k/(h*k + j*(-(1 - t)*(b - m) + 1))"
      ]
     },
     "execution_count": 65,
     "metadata": {},
     "output_type": "execute_result"
    }
   ],
   "source": [
    "df_r_eq_Go = diff(r_eq, Go)\n",
    "df_r_eq_Go"
   ]
  },
  {
   "cell_type": "markdown",
   "id": "a1085660",
   "metadata": {},
   "source": [
    "$$ \\frac{∆r_q^e}{∆G_o} = \\frac{k}{hk + j(-(1-t)(b-m)+1} $$\n",
    "\n",
    "\n",
    "$$ \\frac{∆r_q^e}{(-)} = (+) $$\n",
    "\n",
    "\n",
    "$$ ∆r_q^e = (+)(-) $$\n",
    "\n",
    "$$ ∆r_q^e = (-) $$\n",
    "\n",
    "$$ ∆r_q^e < 0 $$"
   ]
  },
  {
   "cell_type": "markdown",
   "id": "96dd68cd",
   "metadata": {},
   "source": [
    "En el modelo DA-OA"
   ]
  },
  {
   "cell_type": "code",
   "execution_count": 66,
   "id": "5333fa41",
   "metadata": {},
   "outputs": [],
   "source": [
    "# nombrar variables como símbolos\n",
    "h, Ms, j, beta_0, beta_1, k, Y, Pe, _Y, θ  = symbols('h, Ms, j, beta_0, beta_1, k, Y, Pe, _Y, θ ')\n",
    "\n",
    "# Beta_0 y beta_1\n",
    "beta_0 = (Co + Io + Go + Xo)\n",
    "beta_1 = ( 1-(b-m)*(1-t) )\n",
    "\n",
    "# Producto de equilibrio y la tasa de interes de equilibrio en el modelo IS-LM\n",
    "Y_eq = (((h*Ms+j*beta_0)/h) - (Pe + θ*_Y))/(θ - ((j*beta_1+h*r)/h))\n",
    "P_eq = ((h*Ms+j*beta_0)/h) - (((j*beta_1+h*r)/h)*((P-Pe-θ*_Y)/θ))"
   ]
  },
  {
   "cell_type": "code",
   "execution_count": 67,
   "id": "c944c3b3",
   "metadata": {},
   "outputs": [
    {
     "data": {
      "text/latex": [
       "$\\displaystyle \\frac{j}{h \\left(θ - \\frac{h r + j \\left(- \\left(1 - t\\right) \\left(b - m\\right) + 1\\right)}{h}\\right)}$"
      ],
      "text/plain": [
       "j/(h*(θ - (h*r + j*(-(1 - t)*(b - m) + 1))/h))"
      ]
     },
     "execution_count": 67,
     "metadata": {},
     "output_type": "execute_result"
    }
   ],
   "source": [
    "df_Y_eq_Go = diff(Y_eq, Go)\n",
    "df_Y_eq_Go"
   ]
  },
  {
   "cell_type": "markdown",
   "id": "6bcb367f",
   "metadata": {},
   "source": [
    "$$ \\frac{∆Y_q^e}{∆G_o} = \\frac{j}{h(θ - \\frac{hr + j(-(1-t)(b-m)+1}{h})} $$\n",
    "\n",
    "$$ \\frac{∆Y_q^e}{(-)} = (+) $$\n",
    "\n",
    "$$ ∆Y_q^e = (+)(-) $$\n",
    "\n",
    "$$ ∆Y_q^e = (-) $$\n",
    "\n",
    "$$ ∆Y_q^e < 0 $$"
   ]
  },
  {
   "cell_type": "code",
   "execution_count": 68,
   "id": "330db657",
   "metadata": {},
   "outputs": [
    {
     "data": {
      "text/latex": [
       "$\\displaystyle \\frac{j}{h}$"
      ],
      "text/plain": [
       "j/h"
      ]
     },
     "execution_count": 68,
     "metadata": {},
     "output_type": "execute_result"
    }
   ],
   "source": [
    "df_P_eq_Go = diff(P_eq, Go)\n",
    "df_P_eq_Go"
   ]
  },
  {
   "cell_type": "markdown",
   "id": "9badca1d",
   "metadata": {},
   "source": [
    "$$ \\frac{∆P_q^e}{∆G_o} = \\frac{j}{h} $$\n",
    "\n",
    "$$ \\frac{∆P_q^e}{(-)} = (+) $$\n",
    "\n",
    "$$ ∆P_q^e = (+)(-) $$\n",
    "\n",
    "$$ ∆P_q^e = (-) $$\n",
    "\n",
    "$$ ∆P_q^e < 0 $$"
   ]
  },
  {
   "cell_type": "code",
   "execution_count": 69,
   "id": "b74d3bd9",
   "metadata": {},
   "outputs": [],
   "source": [
    "# MODELO IS-LM\n",
    "\n",
    "# Curva IS ORIGINAL\n",
    "\n",
    "# Parámetros\n",
    "\n",
    "Y_size = 100 \n",
    "\n",
    "Co = 30\n",
    "Io = 40\n",
    "Go = 50\n",
    "Xo = 2\n",
    "h = 0.8\n",
    "b = 0.4\n",
    "m = 0.5\n",
    "t = 0.8\n",
    "\n",
    "Y = np.arange(Y_size)\n",
    "\n",
    "\n",
    "# Ecuación \n",
    "def r_IS(b, m, t, Co, Io, Go, Xo, h, Y):\n",
    "    r_IS = (Co + Io + Go + Xo - Y * (1-(b-m)*(1-t)))/h\n",
    "    return r_IS\n",
    "\n",
    "r = r_IS(b, m, t, Co, Io, Go, Xo, h, Y)\n",
    "\n",
    "\n",
    "#LM \n",
    "\n",
    "# Parámetros\n",
    "\n",
    "Y_size = 100\n",
    "\n",
    "k = 2\n",
    "j = 1                \n",
    "Ms = 200             \n",
    "P  = 8           \n",
    "\n",
    "Y = np.arange(Y_size)\n",
    "\n",
    "# Ecuación\n",
    "\n",
    "def i_LM( k, j, Ms, P, Y):\n",
    "    i_LM = (-Ms/P)/j + k/j*Y\n",
    "    return i_LM\n",
    "\n",
    "i = i_LM( k, j, Ms, P, Y)\n",
    "\n",
    "#NUEVA curva IS: dismonución del gasto fiscal (Go)\n",
    "\n",
    "# Definir SOLO el parámetro cambiado\n",
    "Go = 25\n",
    "\n",
    "# Generar la ecuación con el nuevo parámetro\n",
    "def r_IS(b, m, t, Co, Io, Go, Xo, h, Y):\n",
    "    r_IS = (Co + Io + Go + Xo - Y * (1-(b-m)*(1-t)))/h\n",
    "    return r_IS\n",
    "\n",
    "r_Go = r_IS(b, m, t, Co, Io, Go, Xo, h, Y)"
   ]
  },
  {
   "cell_type": "code",
   "execution_count": 70,
   "id": "8a693978",
   "metadata": {},
   "outputs": [
    {
     "data": {
      "text/plain": [
       "(83.3969465648855, 54.19847328244275)"
      ]
     },
     "execution_count": 70,
     "metadata": {},
     "output_type": "execute_result"
    }
   ],
   "source": [
    "# líneas punteadas autómaticas\n",
    "\n",
    "    # definir la función line_intersection\n",
    "def line_intersection(line1, line2):\n",
    "    xdiff = (line1[0][0] - line1[1][0], line2[0][0] - line2[1][0])\n",
    "    ydiff = (line1[0][1] - line1[1][1], line2[0][1] - line2[1][1])\n",
    "\n",
    "    def det(a, b):\n",
    "        return a[0] * b[1] - a[1] * b[0]\n",
    "\n",
    "    div = det(xdiff, ydiff)\n",
    "    if div == 0:\n",
    "       raise Exception('lines do not intersect')\n",
    "\n",
    "    d = (det(*line1), det(*line2))\n",
    "    x = det(d, xdiff) / div\n",
    "    y = det(d, ydiff) / div\n",
    "    return x, y\n",
    "\n",
    "    # coordenadas de las curvas (x,y)\n",
    "A = [r[0], Y[0]] \n",
    "B = [r[-1], Y[-1]] \n",
    "\n",
    "C = [i[0], Y[0]] \n",
    "D = [i[-1], Y[-1]] \n",
    "\n",
    "E = [r_Go[0], Y[0]]\n",
    "F = [r_Go[-1], Y[-1]] \n",
    "\n",
    "    # creación de intersección\n",
    "\n",
    "intersec = line_intersection((A, B), (C, D))\n",
    "intersec # (y,x)"
   ]
  },
  {
   "cell_type": "code",
   "execution_count": 71,
   "id": "94451c59",
   "metadata": {},
   "outputs": [
    {
     "data": {
      "text/plain": [
       "(64.31297709923663, 44.65648854961832)"
      ]
     },
     "execution_count": 71,
     "metadata": {},
     "output_type": "execute_result"
    }
   ],
   "source": [
    "intersec2 = line_intersection((E, F), (C, D))\n",
    "intersec2"
   ]
  },
  {
   "cell_type": "code",
   "execution_count": 72,
   "id": "626105dd",
   "metadata": {},
   "outputs": [
    {
     "data": {
      "image/png": "[encoded data removed]",
      "text/plain": [
       "<Figure size 720x576 with 1 Axes>"
      ]
     },
     "metadata": {
      "needs_background": "light"
     },
     "output_type": "display_data"
    }
   ],
   "source": [
    "y_max = np.max(i)\n",
    "fig, ax = plt.subplots(figsize=(10, 8))\n",
    "#---------------------------------\n",
    "    # Gráfico 1: IS-LM\n",
    "    \n",
    "ax.plot(Y, r, label = \"IS\", color = \"orange\") #IS\n",
    "ax.plot(Y, i, label=\"LM\", color = \"blue\")  #LM\n",
    "ax.plot(Y, r_Go, label=\"IS_Go\", color = \"orange\", linestyle ='dashed')  #IS\n",
    "\n",
    "ax.axvline(x=intersec[1],  ymin= 0, ymax= 0.57, linestyle = \":\", color = \"grey\")\n",
    "ax.axvline(x=intersec2[1],  ymin= 0, ymax= 0.48, linestyle = \":\", color = \"grey\")\n",
    "ax.axhline(y=intersec2[0],  xmin= 0, xmax= 0.48, linestyle = \":\", color = \"grey\")\n",
    "ax.axhline(y=intersec[0],  xmin= 0, xmax= 0.6, linestyle = \":\", color = \"grey\")\n",
    "\n",
    "ax.text(51, 0, '←', fontsize=15, color='grey')\n",
    "ax.text(10, 77, '↓', fontsize=15, color='grey')\n",
    "ax.text(58, -25, '$Y_0$', fontsize=12, color='black')\n",
    "ax.text(48, -25, '$Y_1$', fontsize=12, color='C0')\n",
    "ax.text(0, 89, '$r_0$', fontsize=12, color='black')\n",
    "ax.text(0, 70, '$r_1$', fontsize=12, color='C0')\n",
    "\n",
    "\n",
    "ax.set(title=\"Efectos de una disminución del Gasto fiscal\", xlabel= r'Y', ylabel= r'r')\n",
    "ax.legend()\n",
    "\n",
    "plt.show()"
   ]
  },
  {
   "cell_type": "code",
   "execution_count": 73,
   "id": "a72d90a7",
   "metadata": {},
   "outputs": [],
   "source": [
    "#DA-OA\n",
    "\n",
    "#Demanda agregada Original\n",
    "    \n",
    "# Parámetros\n",
    "\n",
    "Y_size = 100 \n",
    "\n",
    "Co = 35\n",
    "Io = 40\n",
    "Go = 50\n",
    "Xo = 2\n",
    "h = 0.8\n",
    "b = 0.4\n",
    "m = 0.5\n",
    "t = 0.8\n",
    "\n",
    "k = 2\n",
    "j = 1                \n",
    "Ms = 200             \n",
    "P  = 8  \n",
    "\n",
    "Y = np.arange(Y_size)\n",
    "\n",
    "\n",
    "# Ecuación\n",
    "\n",
    "B0 = Co + Io + Go + Xo\n",
    "B1 = 1 - (b-m)*(1-t)\n",
    "\n",
    "def P_AD(h, Ms, j, B0, B1, k, Y):\n",
    "    P_AD = ((h*Ms + j*B0)/h) - (Y*(j*B1 + h*k)/h)\n",
    "    return P_AD\n",
    "\n",
    "P_AD = P_AD(h, Ms, j, B0, B1, k, Y)\n",
    "\n",
    "#--------------------------------------------------\n",
    "    # NUEVA Demanda Agregada\n",
    "\n",
    "# Definir SOLO el parámetro cambiado\n",
    "\n",
    "Go = 25\n",
    "\n",
    "B0 = Co + Io + Go + Xo\n",
    "\n",
    "# Generar la ecuación con el nuevo parámetro\n",
    "\n",
    "def P_AD_Go(h, Ms, j, B0, B1, k, Y):\n",
    "    P_AD = ((h*Ms + j*B0)/h) - (Y*(j*B1 + h*k)/h)\n",
    "    return P_AD\n",
    "\n",
    "P_Go = P_AD_Go(h, Ms, j, B0, B1, k, Y)\n",
    "\n",
    "\n",
    "#2--------------------------\n",
    "    # Oferta Agregada ORIGINAL\n",
    "    \n",
    "# Parámetros\n",
    "\n",
    "Y_size = 100\n",
    "\n",
    "Pe = 70\n",
    "θ = 3\n",
    "_Y = 20  \n",
    "\n",
    "Y = np.arange(Y_size)\n",
    "\n",
    "# Ecuación\n",
    "\n",
    "def P_AS(Pe, _Y, Y, θ):\n",
    "    P_AS = Pe + θ*(Y-_Y)\n",
    "    return P_AS\n",
    "\n",
    "P_AS = P_AS(Pe, _Y, Y, θ)"
   ]
  },
  {
   "cell_type": "code",
   "execution_count": 74,
   "id": "0a62266c",
   "metadata": {},
   "outputs": [
    {
     "data": {
      "text/plain": [
       "(176.73306772908367, 55.57768924302789)"
      ]
     },
     "execution_count": 74,
     "metadata": {},
     "output_type": "execute_result"
    }
   ],
   "source": [
    "# líneas punteadas autómaticas\n",
    "\n",
    "    # definir la función line_intersection\n",
    "def line_intersection(line1, line2):\n",
    "    xdiff = (line1[0][0] - line1[1][0], line2[0][0] - line2[1][0])\n",
    "    ydiff = (line1[0][1] - line1[1][1], line2[0][1] - line2[1][1])\n",
    "\n",
    "    def det(a, b):\n",
    "        return a[0] * b[1] - a[1] * b[0]\n",
    "\n",
    "    div = det(xdiff, ydiff)\n",
    "    if div == 0:\n",
    "       raise Exception('lines do not intersect')\n",
    "\n",
    "    d = (det(*line1), det(*line2))\n",
    "    x = det(d, xdiff) / div\n",
    "    y = det(d, ydiff) / div\n",
    "    return x, y\n",
    "\n",
    "    # coordenadas de las curvas (x,y)\n",
    "G = [P_AD[0], Y[0]] \n",
    "H = [P_AD[-1], Y[-1]] \n",
    "\n",
    "I = [P_Go[0], Y[0]] \n",
    "J = [P_Go[-1], Y[-1]] \n",
    "\n",
    "K = [P_AS[0], Y[0]]\n",
    "L = [P_AS[-1], Y[-1]] \n",
    "\n",
    "    # creación de intersección\n",
    "\n",
    "intersec = line_intersection((G, H), (K, L))\n",
    "intersec # (y,x)\n"
   ]
  },
  {
   "cell_type": "code",
   "execution_count": 75,
   "id": "812fd94a",
   "metadata": {},
   "outputs": [
    {
     "data": {
      "text/plain": [
       "(161.79282868525897, 50.59760956175299)"
      ]
     },
     "execution_count": 75,
     "metadata": {},
     "output_type": "execute_result"
    }
   ],
   "source": [
    "intersec2 = line_intersection((I, J), (K, L))\n",
    "intersec2"
   ]
  },
  {
   "cell_type": "code",
   "execution_count": 78,
   "id": "ac5d4cc9",
   "metadata": {},
   "outputs": [
    {
     "data": {
      "image/png": "[encoded data removed]",
      "text/plain": [
       "<Figure size 720x576 with 1 Axes>"
      ]
     },
     "metadata": {},
     "output_type": "display_data"
    }
   ],
   "source": [
    "    # Gráfico del modelo DA-OA\n",
    "\n",
    "# Dimensiones del gráfico\n",
    "\n",
    "y_max = np.max(P_AD)\n",
    "fig, ax = plt.subplots(figsize=(10, 8))\n",
    "\n",
    "# Curvas a graficar \n",
    "ax.plot(Y, P_AD, label = \"DA\", color = \"green\") #DA\n",
    "ax.plot(Y, P_AS, label = \"OA\", color = \"red\") #OA\n",
    "ax.plot(Y, P_Go, label = \"DA_Go\", color = \"red\", linestyle = 'dashed') #OA_Pe\n",
    "\n",
    "ax.axvline(x=intersec[1],  ymin= 0, ymax= 0.49, linestyle = \":\", color = \"grey\")\n",
    "ax.axvline(x=intersec2[1],  ymin= 0, ymax= 0.45, linestyle = \":\", color = \"grey\")\n",
    "ax.axhline(y=intersec2[0],  xmin= 0, xmax= 0.5, linestyle = \":\", color = \"grey\")\n",
    "ax.axhline(y=intersec[0],  xmin= 0, xmax= 0.56, linestyle = \":\", color = \"grey\")\n",
    "\n",
    "ax.text(52, 30, '←', fontsize=15, color='grey')\n",
    "ax.text(36, 215, '←', fontsize=15, color='grey')\n",
    "ax.text(35, 225, '∆$G_o$', fontsize=12, color='black')\n",
    "ax.text(0, 164, '↓', fontsize=15, color='grey')\n",
    "\n",
    "ax.text(56, 0, '$Y_0$', fontsize=12, color='black')\n",
    "ax.text(47, 0, '$Y_1$', fontsize=12, color='C4')\n",
    "ax.text(0, 185, '$P_0$', fontsize=12, color='black')\n",
    "ax.text(0, 145, '$P_1$', fontsize=12, color='C4')\n",
    "\n",
    "# Eliminar valores de ejes\n",
    "ax.yaxis.set_major_locator(plt.NullLocator())   \n",
    "ax.xaxis.set_major_locator(plt.NullLocator())\n",
    "\n",
    "# Título, ejes y leyenda\n",
    "ax.set(title=\"Efectos de una disminución del Gasto fiscal\", xlabel= r'Y', ylabel= r'P')\n",
    "ax.legend()\n",
    "\n",
    "plt.show()"
   ]
  },
  {
   "cell_type": "markdown",
   "id": "cd7940a4",
   "metadata": {},
   "source": [
    "#### - Analice los efectos sobre las variables endógenas P y r de una disminución de la masa monetaria $(∆M^s < 0)$ . El análisis debe ser intuitivo, matemático y gráfico. En una figura, se debe que usar los ejes r e Y (modelo IS-LM), y en la otra, los ejes P y r (modelo DA-OA).\n",
    "\n",
    "###### Análisis intuitivo\n",
    "\n",
    "Modelo IS-LM\n",
    "    \n",
    "En el mercado de dinero:\n",
    "$$ Ms↓ → Mo↓ → Mo < Md → r↑ $$\n",
    "    \n",
    "En el mercado de bienes:\n",
    "$$ r↑ → I↓ → DA↓ → DA < Y → Y↓ $$\n",
    "    \n",
    "Modelo DA-OA:    \n",
    "$$ Y↓ → θ(Y-\\bar{Y})↓ → P↓ $$"
   ]
  },
  {
   "cell_type": "markdown",
   "id": "5f7dc2ca",
   "metadata": {},
   "source": [
    "**Análisis matemático**\n",
    "\n",
    "Modelo IS-LM"
   ]
  },
  {
   "cell_type": "code",
   "execution_count": 31,
   "id": "9cc38fd9",
   "metadata": {},
   "outputs": [],
   "source": [
    "# nombrar variables como símbolos\n",
    "Co, Io, Go, Xo, h, r, b, m, t, beta_0, beta_1  = symbols('Co Io Go Xo h r b m t beta_0, beta_1')\n",
    "\n",
    "# nombrar variables como símbolos\n",
    "k, j, Ms, P, Y = symbols('k j Ms P Y')\n",
    "\n",
    "# Beta_0 y beta_1\n",
    "beta_0 = (Co + Io + Go + Xo)\n",
    "beta_1 = ( 1-(b-m)*(1-t) )\n",
    "\n",
    "# Producto de equilibrio y la tasa de interes de equilibrio en el modelo IS-LM\n",
    "r_eq = (k*beta_0)/(k*h + j*beta_1) - ( beta_1 / (k*h + j*beta_1) )*(Ms/P)\n",
    "Y_eq = (j*beta_0)/(k*h + j*beta_1) + ( h / (k*h + j*beta_1) )*(Ms/P)"
   ]
  },
  {
   "cell_type": "code",
   "execution_count": 32,
   "id": "3c659573",
   "metadata": {},
   "outputs": [
    {
     "data": {
      "text/latex": [
       "$\\displaystyle \\frac{h}{P \\left(h k + j \\left(- \\left(1 - t\\right) \\left(b - m\\right) + 1\\right)\\right)}$"
      ],
      "text/plain": [
       "h/(P*(h*k + j*(-(1 - t)*(b - m) + 1)))"
      ]
     },
     "execution_count": 32,
     "metadata": {},
     "output_type": "execute_result"
    }
   ],
   "source": [
    "df_Y_eq_Ms = diff(Y_eq, Ms)\n",
    "df_Y_eq_Ms"
   ]
  },
  {
   "cell_type": "markdown",
   "id": "0522d489",
   "metadata": {},
   "source": [
    "$$ \\frac{∆Y_q^e}{∆Ms} = \\frac{h}{P(hk + j(-(1-t)(b-m)+1)} $$\n",
    "\n",
    "$$ \\frac{∆Y_q^e}{(-)} = (+) $$\n",
    "\n",
    "$$ ∆Y_q^e = (+)(-) $$\n",
    "\n",
    "$$ ∆Y_q^e = (-) $$\n",
    "\n",
    "$$ ∆Y_q^e < 0 $$"
   ]
  },
  {
   "cell_type": "code",
   "execution_count": 33,
   "id": "353a97c4",
   "metadata": {},
   "outputs": [
    {
     "data": {
      "text/latex": [
       "$\\displaystyle - \\frac{- \\left(1 - t\\right) \\left(b - m\\right) + 1}{P \\left(h k + j \\left(- \\left(1 - t\\right) \\left(b - m\\right) + 1\\right)\\right)}$"
      ],
      "text/plain": [
       "-(-(1 - t)*(b - m) + 1)/(P*(h*k + j*(-(1 - t)*(b - m) + 1)))"
      ]
     },
     "execution_count": 33,
     "metadata": {},
     "output_type": "execute_result"
    }
   ],
   "source": [
    "df_r_eq_Ms = diff(r_eq, Ms)\n",
    "df_r_eq_Ms"
   ]
  },
  {
   "cell_type": "markdown",
   "id": "e02cc4c1",
   "metadata": {},
   "source": [
    "$$ \\frac{∆r_q^e}{∆Ms} = - \\frac{- (1-t)(b-m)+1}{P(hk + j(-(1-t)(b-m)+1))} $$\n",
    "\n",
    "$$ \\frac{∆r_q^e}{(-)} = (-) $$\n",
    "\n",
    "$$ ∆r_q^e = (-)(-) $$\n",
    "\n",
    "$$ ∆r_q^e = (+) $$\n",
    "\n",
    "$$ ∆r_q^e > 0 $$"
   ]
  },
  {
   "cell_type": "markdown",
   "id": "4837d4e3",
   "metadata": {},
   "source": [
    "Modelo DA-OA"
   ]
  },
  {
   "cell_type": "code",
   "execution_count": 34,
   "id": "67e6b0c5",
   "metadata": {},
   "outputs": [],
   "source": [
    "# nombrar variables como símbolos\n",
    "h, Ms, j, beta_0, beta_1, k, Y, Pe, _Y, θ  = symbols('h, Ms, j, beta_0, beta_1, k, Y, Pe, _Y, θ ')\n",
    "\n",
    "# Beta_0 y beta_1\n",
    "beta_0 = (Co + Io + Go + Xo)\n",
    "beta_1 = ( 1-(b-m)*(1-t) )\n",
    "\n",
    "# Producto de equilibrio y la tasa de interes de equilibrio en el modelo IS-LM\n",
    "Y_eq = (((h*Ms+j*beta_0)/h) - Pe + θ*_Y)/(θ + ((j*beta_1+h*r)/h))\n",
    "P_eq = ((h*Ms+j*beta_0)/h) - (((j*beta_1+h*r)/h)*((P-Pe-θ*_Y)/θ))"
   ]
  },
  {
   "cell_type": "code",
   "execution_count": 35,
   "id": "6fec581f",
   "metadata": {},
   "outputs": [
    {
     "data": {
      "text/latex": [
       "$\\displaystyle \\frac{1}{θ + \\frac{h r + j \\left(- \\left(1 - t\\right) \\left(b - m\\right) + 1\\right)}{h}}$"
      ],
      "text/plain": [
       "1/(θ + (h*r + j*(-(1 - t)*(b - m) + 1))/h)"
      ]
     },
     "execution_count": 35,
     "metadata": {},
     "output_type": "execute_result"
    }
   ],
   "source": [
    "df_Y_eq_Ms = diff(Y_eq, Ms)\n",
    "df_Y_eq_Ms"
   ]
  },
  {
   "cell_type": "markdown",
   "id": "e3526bf4",
   "metadata": {},
   "source": [
    "$$ \\frac{∆Y_q^e}{∆Ms} = \\frac{1}{θ + \\frac{hr + j(-(1-t)(b-m)+1}{h})} $$\n",
    "\n",
    "$$ \\frac{∆Y_q^e}{(-)} = (+) $$\n",
    "\n",
    "$$ ∆Y_q^e = (+)(-) $$\n",
    "\n",
    "$$ ∆Y_q^e = (-) $$\n",
    "\n",
    "$$ ∆Y_q^e < 0 $$"
   ]
  },
  {
   "cell_type": "code",
   "execution_count": 36,
   "id": "12e1e572",
   "metadata": {},
   "outputs": [
    {
     "data": {
      "text/latex": [
       "$\\displaystyle 1$"
      ],
      "text/plain": [
       "1"
      ]
     },
     "execution_count": 36,
     "metadata": {},
     "output_type": "execute_result"
    }
   ],
   "source": [
    "df_P_eq_Ms = diff(P_eq, Ms)\n",
    "df_P_eq_Ms"
   ]
  },
  {
   "cell_type": "markdown",
   "id": "a7697010",
   "metadata": {},
   "source": [
    "$$ \\frac{∆P_q^e}{∆Ms} = 1 $$\n",
    "\n",
    "$$ \\frac{∆P_q^e}{(-)} = (+) $$\n",
    "\n",
    "$$ ∆P_q^e = (+)(-) $$\n",
    "\n",
    "$$ ∆P_q^e = (-) $$\n",
    "\n",
    "$$ ∆P_q^e < 0 $$\n",
    "\n",
    "\n",
    "**Análisis gráfico**"
   ]
  },
  {
   "cell_type": "code",
   "execution_count": 79,
   "id": "9dabecc3",
   "metadata": {},
   "outputs": [],
   "source": [
    "# IS-LM\n",
    "\n",
    "# Curva IS ORIGINAL\n",
    "\n",
    "# Parámetros\n",
    "\n",
    "Y_size = 100 \n",
    "\n",
    "Co = 35\n",
    "Io = 40\n",
    "Go = 50\n",
    "Xo = 2\n",
    "h = 0.8\n",
    "b = 0.4\n",
    "m = 0.5\n",
    "t = 0.8\n",
    "\n",
    "Y = np.arange(Y_size)\n",
    "\n",
    "\n",
    "# Ecuación \n",
    "def r_IS(b, m, t, Co, Io, Go, Xo, h, Y):\n",
    "    r_IS = (Co + Io + Go + Xo - Y * (1-(b-m)*(1-t)))/h\n",
    "    return r_IS\n",
    "\n",
    "r = r_IS(b, m, t, Co, Io, Go, Xo, h, Y)\n",
    "\n",
    "\n",
    "# Curva LM ORIGINAL\n",
    "\n",
    "# Parámetros\n",
    "\n",
    "Y_size = 100\n",
    "\n",
    "k = 2\n",
    "j = 1                \n",
    "Ms = 500             \n",
    "P  = 8           \n",
    "\n",
    "Y = np.arange(Y_size)\n",
    "\n",
    "# Ecuación\n",
    "\n",
    "def i_LM( k, j, Ms, P, Y):\n",
    "    i_LM = (-Ms/P)/j + k/j*Y\n",
    "    return i_LM\n",
    "\n",
    "i = i_LM( k, j, Ms, P, Y)\n",
    "\n",
    "#--------------------------------------------------\n",
    "    # NUEVA curva LM: incremento en la Masa Monetaria (Ms)\n",
    "\n",
    "# Definir SOLO el parámetro cambiado\n",
    "Ms = 200\n",
    "\n",
    "# Generar la ecuación con el nuevo parámetro\n",
    "def i_LM_Ms( k, j, Ms, P, Y):\n",
    "    i_LM = (-Ms/P)/j + k/j*Y\n",
    "    return i_LM\n",
    "\n",
    "i_Ms = i_LM_Ms( k, j, Ms, P, Y)"
   ]
  },
  {
   "cell_type": "code",
   "execution_count": 87,
   "id": "4e643830",
   "metadata": {},
   "outputs": [],
   "source": [
    "#DA-OA\n",
    "\n",
    "# DA ORIGINAL\n",
    "    \n",
    "# Parámetros\n",
    "\n",
    "Y_size = 100 \n",
    "\n",
    "Co = 35\n",
    "Io = 40\n",
    "Go = 50\n",
    "Xo = 2\n",
    "h = 0.8\n",
    "b = 0.4\n",
    "m = 0.5\n",
    "t = 0.8\n",
    "\n",
    "k = 2\n",
    "j = 1                \n",
    "Ms = 275             \n",
    "P  = 8  \n",
    "\n",
    "Y = np.arange(Y_size)\n",
    "\n",
    "\n",
    "# Ecuación\n",
    "\n",
    "B0 = Co + Io + Go + Xo\n",
    "B1 = 1 - (b-m)*(1-t)\n",
    "\n",
    "def P_AD(h, Ms, j, B0, B1, k, Y):\n",
    "    P_AD = ((h*Ms + j*B0)/h) - (Y*(j*B1 + h*k)/h)\n",
    "    return P_AD\n",
    "\n",
    "P_AD = P_AD(h, Ms, j, B0, B1, k, Y)\n",
    "\n",
    "#NUEVA DA\n",
    "\n",
    "# Definir SOLO el parámetro cambiado\n",
    "\n",
    "Ms = 200\n",
    "\n",
    "# Generar la ecuación con el nuevo parámetro\n",
    "\n",
    "def P_AD_Ms(h, Ms, j, B0, B1, k, Y):\n",
    "    P_AD = ((h*Ms + j*B0)/h) - (Y*(j*B1 + h*k)/h)\n",
    "    return P_AD\n",
    "\n",
    "P_Ms = P_AD_Ms(h, Ms, j, B0, B1, k, Y)\n",
    "\n",
    "\n",
    "# OA ORIGINAL\n",
    "    \n",
    "# Parámetros\n",
    "\n",
    "Y_size = 100\n",
    "\n",
    "Pe = 70\n",
    "θ = 3\n",
    "_Y = 20  \n",
    "\n",
    "Y = np.arange(Y_size)\n",
    "\n",
    "# Ecuación\n",
    "\n",
    "def P_AS(Pe, _Y, Y, θ):\n",
    "    P_AS = Pe + θ*(Y-_Y)\n",
    "    return P_AS\n",
    "\n",
    "P_AS = P_AS(Pe, _Y, Y, θ)"
   ]
  },
  {
   "cell_type": "code",
   "execution_count": 89,
   "id": "8724ee67",
   "metadata": {},
   "outputs": [
    {
     "data": {
      "text/plain": [
       "<function matplotlib.pyplot.show(close=None, block=None)>"
      ]
     },
     "execution_count": 89,
     "metadata": {},
     "output_type": "execute_result"
    },
    {
     "data": {
      "image/png": "[encoded data removed]",
      "text/plain": [
       "<Figure size 576x1152 with 2 Axes>"
      ]
     },
     "metadata": {
      "needs_background": "light"
     },
     "output_type": "display_data"
    }
   ],
   "source": [
    "\n",
    "#---------------------------------\n",
    "    # Gráfico 1: IS-LM\n",
    "fig, (ax1, ax2) = plt.subplots(2, figsize=(8, 16)) \n",
    "ax1.plot(Y, r, label = \"IS\", color = \"orange\") #IS\n",
    "ax1.plot(Y, i, label=\"LM\", color = \"blue\")  #LM\n",
    "ax1.plot(Y, i_Ms, label=\"LM_Ms\", color = \"blue\", linestyle ='dashed')  #LM\n",
    "\n",
    "ax1.axvline(x=67.5,  ymin= 0, ymax= 1, linestyle = \":\", color = \"grey\")\n",
    "ax1.axvline(x=56,  ymin= 0, ymax= 1, linestyle = \":\", color = \"grey\")\n",
    "ax1.axhline(y=72,  xmin= 0, xmax= 0.66, linestyle = \":\", color = \"grey\")\n",
    "ax1.axhline(y=87,  xmin= 0, xmax= 0.56, linestyle = \":\", color = \"grey\")\n",
    "\n",
    "ax1.text(75, 110, '∆$M_s$', fontsize=12, color='black')\n",
    "ax1.text(76, 102, '←', fontsize=15, color='grey')\n",
    "ax1.text(60, -60, '←', fontsize=15, color='grey')\n",
    "ax1.text(0, 77, '↑', fontsize=15, color='grey')\n",
    "ax1.text(50, -65, '$Y_1$', fontsize=12, color='black')\n",
    "ax1.text(70, -65, '$Y_0$', fontsize=12, color='C0')\n",
    "ax1.text(0, 91, '$r_1$', fontsize=12, color='black')\n",
    "ax1.text(0, 63, '$r_0$', fontsize=12, color='C0')\n",
    "\n",
    "\n",
    "ax1.set(title=\"Efectos de una reducción en la masa monetaria\", xlabel= r'Y', ylabel= r'r')\n",
    "ax1.legend()\n",
    "\n",
    "#---------------------------------\n",
    "    # Gráfico 2: DA-OA\n",
    "\n",
    "ax2.plot(Y, P_AD, label = \"DA\", color = \"green\") #DA\n",
    "ax2.plot(Y, P_Ms, label = \"DA_Ms\", color = \"green\", linestyle = 'dashed') #DA_Ms\n",
    "ax2.plot(Y, P_AS, label = \"OA\", color = \"red\") #OA\n",
    "\n",
    "ax2.axvline(x=67.5,  ymin= 0, ymax= 1, linestyle = \":\", color = \"grey\")\n",
    "ax2.axvline(x=56,  ymin= 0, ymax= 1, linestyle = \":\", color = \"grey\")\n",
    "ax2.axhline(y=213,  xmin= 0, xmax= 0.67, linestyle = \":\", color = \"grey\")\n",
    "ax2.axhline(y=175,  xmin= 0, xmax= 0.56, linestyle = \":\", color = \"grey\")\n",
    "\n",
    "ax2.text(60, 30, '←', fontsize=15, color='grey')\n",
    "ax2.text(36, 260, '←', fontsize=15, color='grey')\n",
    "ax2.text(35, 272, '∆$M_s$', fontsize=12, color='black')\n",
    "ax2.text(0, 187, '↓', fontsize=15, color='grey')\n",
    "\n",
    "ax2.text(58, 0, '$Y_1$', fontsize=12, color='black')\n",
    "ax2.text(70, 0, '$Y_0$', fontsize=12, color='C4')\n",
    "ax2.text(0, 158, '$P_1$', fontsize=12, color='black')\n",
    "ax2.text(0, 220, '$P_0$', fontsize=12, color='C4')\n",
    "\n",
    "ax2.set(xlabel= r'Y', ylabel= r'P')\n",
    "ax2.legend()\n",
    "\n",
    "plt.show"
   ]
  },
  {
   "cell_type": "markdown",
   "id": "cc4b8254",
   "metadata": {},
   "source": [
    "#### - Analice los efectos sobre las variables endógenas P y r de un incremento de la tasa de impuestos $(∆t > 0)$. El análisis debe ser intuitivo, matemático y gráfico. En una figura, se debe que usar los ejes r e Y (modelo IS-LM), y en la otra, los ejes P y r (modelo DA-OA).\n",
    "\n",
    "**Análisis intuitivo**\n",
    "\n",
    "Modelo IS-LM\n",
    "\n",
    "En el mercado de bienes:    \n",
    "$$ t↑ → C↓ → DA↓ → DA < Y → Y↓ $$\n",
    "    \n",
    "En el mercado de dinero:\n",
    "$$ Y↓ → M_d↓ → M_d < M_S → r↓ $$\n",
    "    \n",
    "Modelo DA-OA:\n",
    "$$ Y↓ → θ(Y-\\bar{Y})↓ → P↓ $$\n",
    "\n",
    "\n",
    "**Análisis gráfico**\n",
    "\n",
    "Modelo IS-LM"
   ]
  },
  {
   "cell_type": "code",
   "execution_count": 39,
   "id": "7f7b6b51",
   "metadata": {},
   "outputs": [],
   "source": [
    "# nombrar variables como símbolos\n",
    "Co, Io, Go, Xo, h, r, b, m, t, beta_0, beta_1  = symbols('Co Io Go Xo h r b m t beta_0, beta_1')\n",
    "\n",
    "# nombrar variables como símbolos\n",
    "k, j, Ms, P, Y = symbols('k j Ms P Y')\n",
    "\n",
    "# Beta_0 y beta_1\n",
    "beta_0 = (Co + Io + Go + Xo)\n",
    "beta_1 = ( 1-(b-m)*(1-t) )\n",
    "\n",
    "# Producto de equilibrio y la tasa de interes de equilibrio en el modelo IS-LM\n",
    "r_eq = (k*beta_0)/(k*h + j*beta_1) - ( beta_1 / (k*h + j*beta_1) )*(Ms/P)\n",
    "Y_eq = (j*beta_0)/(k*h + j*beta_1) + ( h / (k*h + j*beta_1) )*(Ms/P)"
   ]
  },
  {
   "cell_type": "code",
   "execution_count": 40,
   "id": "79a2e932",
   "metadata": {},
   "outputs": [
    {
     "data": {
      "text/latex": [
       "$\\displaystyle - \\frac{Ms h j \\left(b - m\\right)}{P \\left(h k + j \\left(- \\left(1 - t\\right) \\left(b - m\\right) + 1\\right)\\right)^{2}} - \\frac{j^{2} \\left(b - m\\right) \\left(Co + Go + Io + Xo\\right)}{\\left(h k + j \\left(- \\left(1 - t\\right) \\left(b - m\\right) + 1\\right)\\right)^{2}}$"
      ],
      "text/plain": [
       "-Ms*h*j*(b - m)/(P*(h*k + j*(-(1 - t)*(b - m) + 1))**2) - j**2*(b - m)*(Co + Go + Io + Xo)/(h*k + j*(-(1 - t)*(b - m) + 1))**2"
      ]
     },
     "execution_count": 40,
     "metadata": {},
     "output_type": "execute_result"
    }
   ],
   "source": [
    "# Diferencia para el nivel de producción de equilibrio:\n",
    "df_Y_eq_t = diff(Y_eq, t)\n",
    "df_Y_eq_t"
   ]
  },
  {
   "cell_type": "markdown",
   "id": "f54927fb",
   "metadata": {},
   "source": [
    "$$ \\frac{∆Y_q^e}{∆t} = - \\frac{M_shj(b - m)}{P(hk + j(- (1 - t)(b - m) + 1))^2} - \\frac{j^2(b - m)(C_0 + G_0 + I_0 + X_0)}{(hk + j(- (1 - t)(b - m) + 1))^2} $$\n",
    "\n",
    "$$ \\frac{∆Y_q^e}{(+)} = (-) $$\n",
    "\n",
    "$$ ∆Y_q^e = (-)(+) $$\n",
    "\n",
    "$$ ∆Y_q^e = (-) $$\n",
    "\n",
    "$$ ∆Y_q^e < 0 $$"
   ]
  },
  {
   "cell_type": "code",
   "execution_count": 41,
   "id": "0483859d",
   "metadata": {},
   "outputs": [
    {
     "data": {
      "text/latex": [
       "$\\displaystyle \\frac{Ms j \\left(b - m\\right) \\left(- \\left(1 - t\\right) \\left(b - m\\right) + 1\\right)}{P \\left(h k + j \\left(- \\left(1 - t\\right) \\left(b - m\\right) + 1\\right)\\right)^{2}} - \\frac{Ms \\left(b - m\\right)}{P \\left(h k + j \\left(- \\left(1 - t\\right) \\left(b - m\\right) + 1\\right)\\right)} - \\frac{j k \\left(b - m\\right) \\left(Co + Go + Io + Xo\\right)}{\\left(h k + j \\left(- \\left(1 - t\\right) \\left(b - m\\right) + 1\\right)\\right)^{2}}$"
      ],
      "text/plain": [
       "Ms*j*(b - m)*(-(1 - t)*(b - m) + 1)/(P*(h*k + j*(-(1 - t)*(b - m) + 1))**2) - Ms*(b - m)/(P*(h*k + j*(-(1 - t)*(b - m) + 1))) - j*k*(b - m)*(Co + Go + Io + Xo)/(h*k + j*(-(1 - t)*(b - m) + 1))**2"
      ]
     },
     "execution_count": 41,
     "metadata": {},
     "output_type": "execute_result"
    }
   ],
   "source": [
    "df_r_eq_t = diff(r_eq, t)\n",
    "df_r_eq_t"
   ]
  },
  {
   "cell_type": "markdown",
   "id": "acb97bf4",
   "metadata": {},
   "source": [
    "$$ \\frac{∆r_q^e}{∆t} = \\frac{M_sj(b - m)(-(1 - t)(b - m) + 1)}{P(hk + j(- (1 - t)(b - m) + 1))^2} - \\frac{M_s(b - m)}{P(hk + j(- (1 - t)(b - m) + 1))} - \\frac{jk(b - m)(C_0 + G_0 + I_0 + X_0)}{(hk + j(- (1 - t)(b - m) + 1))^2} $$\n",
    "\n",
    "$$ \\frac{∆r_q^e}{(+)} = (+)(-)(+) $$\n",
    "\n",
    "$$ ∆r_q^e = (-)(+) $$\n",
    "\n",
    "$$ ∆r_q^e = (-) $$\n",
    "\n",
    "$$ ∆r_q^e < 0 $$"
   ]
  },
  {
   "cell_type": "markdown",
   "id": "e5b3f27b",
   "metadata": {},
   "source": [
    "Modelo DA-OA"
   ]
  },
  {
   "cell_type": "code",
   "execution_count": 42,
   "id": "78c4f47b",
   "metadata": {},
   "outputs": [],
   "source": [
    "# nombrar variables como símbolos\n",
    "h, Ms, j, beta_0, beta_1, k, Y, Pe, _Y, θ  = symbols('h, Ms, j, beta_0, beta_1, k, Y, Pe, _Y, θ ')\n",
    "\n",
    "# Beta_0 y beta_1\n",
    "beta_0 = (Co + Io + Go + Xo)\n",
    "beta_1 = ( 1-(b-m)*(1-t) )\n",
    "\n",
    "# Producto de equilibrio y la tasa de interes de equilibrio en el modelo IS-LM\n",
    "Y_eq = (((h*Ms+j*beta_0)/h) - Pe + θ*_Y)/(θ + ((j*beta_1+h*r)/h))\n",
    "P_eq = ((h*Ms+j*beta_0)/h) - (((j*beta_1+h*r)/h)*((P-Pe-θ*_Y)/θ))"
   ]
  },
  {
   "cell_type": "code",
   "execution_count": 43,
   "id": "f1925848",
   "metadata": {},
   "outputs": [
    {
     "data": {
      "text/latex": [
       "$\\displaystyle - \\frac{j \\left(b - m\\right) \\left(- Pe + _Y θ + \\frac{Ms h + j \\left(Co + Go + Io + Xo\\right)}{h}\\right)}{h \\left(θ + \\frac{h r + j \\left(- \\left(1 - t\\right) \\left(b - m\\right) + 1\\right)}{h}\\right)^{2}}$"
      ],
      "text/plain": [
       "-j*(b - m)*(-Pe + _Y*θ + (Ms*h + j*(Co + Go + Io + Xo))/h)/(h*(θ + (h*r + j*(-(1 - t)*(b - m) + 1))/h)**2)"
      ]
     },
     "execution_count": 43,
     "metadata": {},
     "output_type": "execute_result"
    }
   ],
   "source": [
    "# Diferencia para el nivel de producción de equilibrio:\n",
    "df_Y_eq_t = diff(Y_eq, t)\n",
    "df_Y_eq_t"
   ]
  },
  {
   "cell_type": "markdown",
   "id": "86156e02",
   "metadata": {},
   "source": [
    "$$ \\frac{∆Y_q^e}{∆t} = - \\frac{j(b - m)(-Pe+_Yθ+\\frac{M_sh(C_0 + G_0 + I_0 + X_0)}{h})}{h(θ + \\frac{hk + j(- (1 - t)(b - m) + 1}{h})^2} $$\n",
    "\n",
    "$$ \\frac{∆Y_q^e}{(+)} = (-) $$\n",
    "\n",
    "$$ ∆Y_q^e = (+)(-) $$\n",
    "\n",
    "$$ ∆Y_q^e = (-) $$\n",
    "\n",
    "$$ ∆Y_q^e < 0 $$"
   ]
  },
  {
   "cell_type": "code",
   "execution_count": 44,
   "id": "6f6d675b",
   "metadata": {},
   "outputs": [
    {
     "data": {
      "text/latex": [
       "$\\displaystyle - \\frac{j \\left(b - m\\right) \\left(P - Pe - _Y θ\\right)}{h θ}$"
      ],
      "text/plain": [
       "-j*(b - m)*(P - Pe - _Y*θ)/(h*θ)"
      ]
     },
     "execution_count": 44,
     "metadata": {},
     "output_type": "execute_result"
    }
   ],
   "source": [
    "df_P_eq_t = diff(P_eq, t)\n",
    "df_P_eq_t"
   ]
  },
  {
   "cell_type": "markdown",
   "id": "65b55f40",
   "metadata": {},
   "source": [
    "$$ \\frac{∆P_q^e}{∆t} = - \\frac{j(b - m)(P - Pe - _Yθ)}{hθ} $$\n",
    "\n",
    "$$ \\frac{∆P_q^e}{(+)} = (-) $$\n",
    "\n",
    "$$ ∆P_q^e = (+)(-) $$\n",
    "\n",
    "$$ ∆P_q^e = (-) $$\n",
    "\n",
    "$$ ∆P_q^e < 0 $$"
   ]
  },
  {
   "cell_type": "markdown",
   "id": "29c07c26",
   "metadata": {},
   "source": [
    "**Análisis gráfico**"
   ]
  },
  {
   "cell_type": "code",
   "execution_count": 47,
   "id": "8ba80dc6",
   "metadata": {},
   "outputs": [],
   "source": [
    "# Curva IS ORIGINAL\n",
    "\n",
    "# Parámetros\n",
    "\n",
    "Y_size = 100 \n",
    "\n",
    "Co = 40\n",
    "Io = 45\n",
    "Go = 40\n",
    "Xo = 2\n",
    "h = 0.8\n",
    "b = 0.5\n",
    "m = 0.4\n",
    "t = 0.1\n",
    "\n",
    "Y = np.arange(Y_size)\n",
    "\n",
    "\n",
    "# Ecuación \n",
    "def r_IS(b, m, t, Co, Io, Go, Xo, h, Y):\n",
    "    r_IS = (Co + Io + Go + Xo - Y * (1-(b-m)*(1-t)))/h\n",
    "    return r_IS\n",
    "\n",
    "r_t = r_IS(b, m, t, Co, Io, Go, Xo, h, Y)\n",
    "\n",
    "\n",
    "# Curva LM ORIGINAL\n",
    "\n",
    "# Parámetros\n",
    "\n",
    "Y_size = 100\n",
    "\n",
    "k = 2\n",
    "j = 1                \n",
    "Ms = 200             \n",
    "P  = 20               \n",
    "\n",
    "Y = np.arange(Y_size)\n",
    "\n",
    "# Ecuación\n",
    "\n",
    "def i_LM( k, j, Ms, P, Y):\n",
    "    i_LM = (-Ms/P)/j + k/j*Y\n",
    "    return i_LM\n",
    "\n",
    "i_t = i_LM( k, j, Ms, P, Y)"
   ]
  },
  {
   "cell_type": "code",
   "execution_count": 48,
   "id": "317bd558",
   "metadata": {},
   "outputs": [],
   "source": [
    "# NUEVA curva IS: \n",
    "    \n",
    "# Definir SOLO el parámetro cambiado\n",
    "t = 3\n",
    "\n",
    "# Generar la ecuación con el nuevo parámetro\n",
    "def r_IS(b, m, t, Co, Io, Go, Xo, h, Y):\n",
    "    r_IS = (Co + Io + Go + Xo - Y * (1-(b-m)*(1-t)))/h\n",
    "    return r_IS\n",
    "\n",
    "r_t1 = r_IS(b, m, t, Co, Io, Go, Xo, h, Y)"
   ]
  },
  {
   "cell_type": "code",
   "execution_count": 49,
   "id": "5fadf027",
   "metadata": {},
   "outputs": [
    {
     "data": {
      "image/png": "[encoded data removed]",
      "text/plain": [
       "<Figure size 720x576 with 1 Axes>"
      ]
     },
     "metadata": {
      "needs_background": "light"
     },
     "output_type": "display_data"
    }
   ],
   "source": [
    "# Gráfico\n",
    "\n",
    "# Dimensiones del gráfico\n",
    "y_max = np.max(i_t)\n",
    "fig, ax = plt.subplots(figsize=(10, 8))\n",
    "\n",
    "# Curvas a graficar\n",
    "ax.plot(Y, r_t, label = \"IS_(t_0)\", color = \"orange\") #IS_orginal\n",
    "ax.plot(Y, r_t1, label = \"IS_(t_1)\", color = \"orange\", linestyle = 'dashed') #IS_modificada\n",
    "\n",
    "ax.plot(Y, i_t, label=\"LM\", color = \"blue\")  #LM_original\n",
    "\n",
    "# Texto y figuras agregadas\n",
    "plt.axvline(x=48,  ymin= 0, ymax= 0.48, linestyle = \":\", color = \"grey\")\n",
    "plt.axhline(y=86, xmin= 0, xmax= 0.48, linestyle = \":\", color = \"grey\")\n",
    "\n",
    "plt.axvline(x=54,  ymin= 0, ymax= 0.54, linestyle = \":\", color = \"grey\")\n",
    "plt.axhline(y=98, xmin= 0, xmax= 0.54, linestyle = \":\", color = \"grey\")\n",
    "\n",
    "plt.text(43,70, '$E_1$', fontsize = 14, color = 'black')\n",
    "plt.text(52,103, '$E_0$', fontsize = 14, color = 'black')\n",
    "plt.text(-1,101, '$r_0$', fontsize = 12, color = 'black')\n",
    "plt.text(-1,79, '$r_1$', fontsize = 12, color = 'grey')\n",
    "plt.text(55,-10, '$Y_0$', fontsize = 12, color = 'black')\n",
    "plt.text(44,-10, '$Y_1$', fontsize = 12, color = 'grey')\n",
    "\n",
    "plt.text(49, 15, '←', fontsize=15, color='grey')\n",
    "plt.text(10, 89, '↓', fontsize=15, color='grey')\n",
    "\n",
    "# Título, ejes y leyenda\n",
    "ax.set(title=\"Aumento en la Tasa Impositiva\", xlabel= r'Y', ylabel= r'r')\n",
    "ax.legend()\n",
    "\n",
    "plt.show()"
   ]
  },
  {
   "cell_type": "code",
   "execution_count": 50,
   "id": "1a38a8a4",
   "metadata": {},
   "outputs": [],
   "source": [
    "#DA-OA\n",
    "\n",
    "# DA ORIGINAL\n",
    "    \n",
    "# Parámetros\n",
    "\n",
    "Y_size = 100 \n",
    "\n",
    "Co = 40\n",
    "Io = 45\n",
    "Go = 40\n",
    "Xo = 2\n",
    "h = 0.8\n",
    "b = 0.4\n",
    "m = 0.5\n",
    "t = 0.1\n",
    "\n",
    "k = 2\n",
    "j = 1                \n",
    "Ms = 200             \n",
    "P  = 8  \n",
    "\n",
    "Y = np.arange(Y_size)\n",
    "\n",
    "\n",
    "# Ecuación\n",
    "\n",
    "B0 = Co + Io + Go + Xo\n",
    "B1 = 1 - (b-m)*(1-t)\n",
    "\n",
    "def P_AD(h, Ms, j, B0, B1, k, Y):\n",
    "    P_AD = ((h*Ms + j*B0)/h) - (Y*(j*B1 + h*k)/h)\n",
    "    return P_AD\n",
    "\n",
    "P_AD_t = P_AD(h, Ms, j, B0, B1, k, Y)\n",
    "\n",
    "\n",
    "# OA ORIGINAL\n",
    "    \n",
    "# Parámetros\n",
    "\n",
    "Y_size = 100\n",
    "\n",
    "Pe = 70\n",
    "θ = 3\n",
    "_Y = 20  \n",
    "\n",
    "Y = np.arange(Y_size)\n",
    "\n",
    "# Ecuación\n",
    "\n",
    "def P_AS(Pe, _Y, Y, θ):\n",
    "    P_AS = Pe + θ*(Y-_Y)\n",
    "    return P_AS\n",
    "\n",
    "P_AS_t = P_AS(Pe, _Y, Y, θ)"
   ]
  },
  {
   "cell_type": "code",
   "execution_count": 51,
   "id": "da4668cc",
   "metadata": {},
   "outputs": [],
   "source": [
    "# Nueva DA\n",
    "\n",
    "# Definir SOLO el parámetro cambiado\n",
    "\n",
    "t = 5\n",
    "\n",
    "B1 = 1 - (b-m)*(1-t)\n",
    "\n",
    "# Generar la ecuación con el nuevo parámetro\n",
    "\n",
    "def P_AD(h, Ms, j, B0, B1, k, Y):\n",
    "    P_AD = ((h*Ms + j*B0)/h) - (Y*(j*B1 + h*k)/h)\n",
    "    return P_AD\n",
    "\n",
    "P_AD_t1 = P_AD(h, Ms, j, B0, B1, k, Y)"
   ]
  },
  {
   "cell_type": "code",
   "execution_count": 52,
   "id": "ab5d84df",
   "metadata": {},
   "outputs": [
    {
     "data": {
      "image/png": "[encoded data removed]",
      "text/plain": [
       "<Figure size 720x576 with 1 Axes>"
      ]
     },
     "metadata": {
      "needs_background": "light"
     },
     "output_type": "display_data"
    }
   ],
   "source": [
    "# Gráfico\n",
    "\n",
    "# Dimensiones del gráfico\n",
    "y_max = np.max(P_AS_t)\n",
    "fig, ax = plt.subplots(figsize=(10, 8))\n",
    "\n",
    "# Curvas a graficar\n",
    "ax.plot(Y, P_AD_t1, label = \"DA_(t_0)\", color = \"green\") \n",
    "ax.plot(Y, P_AD_t, label = \"DA_(t_1)\", color = \"green\", linestyle = 'dashed')\n",
    "\n",
    "ax.plot(Y, P_AS_t, label=\"OA\", color = \"red\")  \n",
    "\n",
    "# Texto y figuras agregadas\n",
    "plt.axvline(x=55,  ymin= 0, ymax= 0.48, linestyle = \":\", color = \"grey\")\n",
    "plt.axhline(y=175, xmin= 0, xmax= 0.55, linestyle = \":\", color = \"grey\")\n",
    "\n",
    "plt.axvline(x=61,  ymin= 0, ymax= 0.52, linestyle = \":\", color = \"grey\")\n",
    "plt.axhline(y=193, xmin= 0, xmax= 0.6, linestyle = \":\", color = \"grey\")\n",
    "\n",
    "plt.text(52,150, '$E_1$', fontsize = 14, color = 'black')\n",
    "plt.text(60,200, '$E_0$', fontsize = 14, color = 'black')\n",
    "plt.text(-1,200, '$P_0$', fontsize = 12, color = 'black')\n",
    "plt.text(-1,158, '$P_1$', fontsize = 12, color = 'grey')\n",
    "plt.text(63,0, '$Y_0$', fontsize = 12, color = 'black')\n",
    "plt.text(56, 0, '$Y_1$', fontsize = 12, color = 'grey')\n",
    "\n",
    "plt.text(57, 55, '←', fontsize=15, color='grey')\n",
    "plt.text(10, 179, '↓', fontsize=15, color='grey')\n",
    "\n",
    "# Título, ejes y leyenda\n",
    "ax.set(title=\"Aumento en la Tasa Impositiva\", xlabel= r'Y', ylabel= r'P')\n",
    "ax.legend()\n",
    "\n",
    "plt.show()"
   ]
  },
  {
   "cell_type": "code",
   "execution_count": null,
   "id": "efcf9277",
   "metadata": {},
   "outputs": [],
   "source": []
  }
 ],
 "metadata": {
  "kernelspec": {
   "display_name": "Python 3 (ipykernel)",
   "language": "python",
   "name": "python3"
  },
  "language_info": {
   "codemirror_mode": {
    "name": "ipython",
    "version": 3
   },
   "file_extension": ".py",
   "mimetype": "text/x-python",
   "name": "python",
   "nbconvert_exporter": "python",
   "pygments_lexer": "ipython3",
   "version": "3.9.12"
  }
 },
 "nbformat": 4,
 "nbformat_minor": 5
}
