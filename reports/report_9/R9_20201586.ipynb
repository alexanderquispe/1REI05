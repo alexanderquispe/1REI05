{
 "cells": [
  {
   "cell_type": "markdown",
   "id": "09a48a9e",
   "metadata": {},
   "source": [
    "# Reporte 9\n",
    "\n",
    "Sebastian Torres Tapia - 20201586\n",
    "\n",
    "## Informe escrito: \n",
    "\n",
    "En su artículo Social Media and Mental Health, Braghieri, Levy y Makarin identifican una aparente correlación entre el empeoramiento de las condiciones de salud mental entre adolescentes y jóvenes adultos en los Estados Unidos que padecen de enfermedades mentales y el uso de redes sociales. En este sentido, plantean una investigación para aportar una posible respuesta a dicha problemática a partir de una posible identificación causal respecto a los efectos de las redes sociales. \n",
    "\n",
    "En este sentido, los autores plantean la siguiente pregunta de investigación: ¿cuál es el impacto de las redes sociales en la salud mental? Asimismo, proporcionan estimaciones cuasi experimentales del impacto de dichas redes en la salud mental aprovechando un experimento natural único: la introducción escalonada de Facebook en las universidades. Así, su artículo se centra en un análisis del caso estadounidense a través de la recolección de información de alumnos durante el periodo anterior y posterior a la aparición de Facebook.\n",
    " \n",
    "Por un lado, las fortalezas de este artículo son dos: su diseño de investigación generalized difference-in-difference y  el uso del Two Way Fixed-Effect (TWFE) model. En primer lugar, dicha estrategia de investigación empírica se basa en dos dimensiones: la variación de la universidad a la que los estudiantes asisten y la identificación temporal de la realización de la encuesta -antes o después de la introducción de Facebook. En este sentido, bajo el supuesto de tendencias paralelas, es posible obtener estimaciones causales de la introducción de esta red social en la salud mental de los estudiantes. Asimismo,  permite descartar posibles “confounding” factors”. Primero, las diferencias específicas de la universidad fijadas en el tiempo. Segundo, las diferencias a lo largo del tiempo que afectan a todos los estudiantes de manera similar. Tercero, las tendencias de salud mental que afectan a las universidades en diferentes grupos de expansión de Facebook de manera diferente. Finalmente, se abordan preocupaciones econométricas para mostrar solidez en los estimadores alternativos planteados. Este diseño es complementado con una especificación que explota la variación en la duración de la exposición a Facebook entre los estudiantes dentro de una universidad y una serie de encuestas. \n",
    "\n",
    "En segundo lugar, el artículo es particularmente valioso por el tipo de método que usa en la regresión (TWFE). Dicho método permite estimar los efectos causales a partir de datos de panel y, asimismo, ajustar los factores de confusión específicos de la unidad y del tiempo no observados al mismo tiempo. Bajo estos supuestos, el modelo de la presente investigación permite descartar varias preocupaciones que de otro modo podrían afectar nuestra capacidad de interpretar los resultados como causales. Primero, permite descartar que los resultados se deban a diferencias invariables en el tiempo en la salud mental entre universidades. Específicamente, uno podría preocuparse de que las universidades más selectivas recluten a estudiantes más ricos que pueden tener mejores (o peores) resultados de salud mental de referencia. Segundo, hace posible descartar que los resultados estén impulsados por resultados de salud mental que evolucionan con el tiempo de una manera que es común entre los estudiantes de diferentes universidades. Por ejemplo, ciertas fluctuaciones macroeconómicas pueden influir en las perspectivas laborales de todos los estudiantes de manera similar y, a su vez, afectar su salud mental. \n",
    "\n",
    "Sin embargo, existen ciertas debilidades que debemos tomar en cuenta de la investigación. Por un lado, los propios autores son conscientes de las limitaciones propias de los modelos TWFE. Así, aunque este tipo de regresiones son los modelos de trabajo para diseños de investigación de adopción escalonada, se ha demostrado que ofrecen estimaciones consistentes sólo bajo suposiciones relativamente fuertes sobre la homogeneidad en los efectos del tratamiento. Si bien se plantea una solución en base al uso de estimadores robustos incluso frente a efectos de tratamiento heterogéneos, existe aún una fuerte duda sobre la capacidad del modelo para ajustarse simultáneamente a estos dos tipos de factores de confusión no observados en tanto se basa críticamente en la suposición de efectos aditivos lineales. \n",
    "\n",
    "Por otro lado, a pesar de las estimaciones presentadas como hallazgos, la naturaleza de la variación que se plantea emplear no permitió a los autores identificar el impacto de estas características de las redes sociales. Por ejemplo, las estimaciones encontradas no pueden arrojar luz sobre si la mayor dependencia de Facebook para el consumo de noticias ha exacerbado o mitigado los efectos de Facebook en la salud mental. Del mismo modo, no podemos proporcionar evidencia sobre si los años de experiencia con la plataforma mitigan o exacerban los efectos sobre la salud mental. Asimismo, este problema puede ser explicado desde la falta de evidencia causal correctamente identificada en trabajos previos. \n",
    "\n",
    "Respecto a la contribución de esta investigación al cuerpo de trabajos previos, su principal mérito es haber proporcionado la mayor cantidad de evidencia causal más completa sobre los efectos de las redes sociales en la salud mental. En esta línea, las variables de resultados son completas, presentan estimaciones capaces de capturar los efectos del equilibrio general de la introducción de las redes sociales en toda una comunidad, proyectan un análisis menos propenso a la demanda del experimentador y los efectos sobre los ingresos y finalmente es capaz de estimar los efectos hasta varios semestres después de la introducción de Facebook en una universidad.\n",
    "\n",
    "Finalmente, considero que los próximos pasos para avanzar en esta investigación deberían estar centrados en plantear explicaciones alternativas sobre el padecimiento de enfermedades mentales para así comparar los niveles de significancia. Existen otras variables que pueden estar igual o incluso más fuertemente correlacionadas con el deterioro de la salud mental a partir de las valoraciones sociales como el rechazo o la reprobación social. Problemas como el desempleo juvenil, la asimetría de género laboral y las relaciones familiares ya sea desde presión académica hasta la pérdida de algún miembro cercano (Meier y Reinecke  2021; Naslund et al., 2020). Asimismo, adicionalmente a las evaluaciones de factores sociales,  resulta importante analizar cómo el factor biológico juega un rol en el tipo de afecciones socioemocionales que los jóvenes experimentan (Abi-Jaoude et al., 2020; Gkotsis et al., 2016). En este sentido, se recomienda un estudio comparado que incluya sobre cuestiones como la influencia del tiempo de exposición a los dispositivos electrónicos o el tipo de red social empleada. \n",
    "\n",
    "Bibliografía: \n",
    "\n",
    "- Abi-Jaoude, E., Naylor, K. T., & Pignatiello, A. (2020). Smartphones, social media use and youth mental health. Cmaj, 192(6), E136-E141.\n",
    "\n",
    "\n",
    "- Gkotsis, G., Oellrich, A., Hubbard, T., Dobson, R., Liakata, M., Velupillai, S., & Dutta, R. (2016, June). The language of mental health problems in social media. In Proceedings of the third workshop on computational linguistics and clinical psychology (pp. 63-73).\n",
    "\n",
    "\n",
    "- Meier, A., & Reinecke, L. (2021). Computer-mediated communication, social media, and mental health: A conceptual and empirical meta-review. Communication Research, 48(8), 1182-1209.\n",
    "\n",
    "\n",
    "- Naslund, J. A., Bondre, A., Torous, J., & Aschbrenner, K. A. (2020). Social media and mental health: benefits, risks, and opportunities for research and practice. Journal of technology in behavioral science, 5(3), 245-257.\n",
    "\n"
   ]
  }
 ],
 "metadata": {
  "kernelspec": {
   "display_name": "Python 3 (ipykernel)",
   "language": "python",
   "name": "python3"
  },
  "language_info": {
   "codemirror_mode": {
    "name": "ipython",
    "version": 3
   },
   "file_extension": ".py",
   "mimetype": "text/x-python",
   "name": "python",
   "nbconvert_exporter": "python",
   "pygments_lexer": "ipython3",
   "version": "3.9.13"
  }
 },
 "nbformat": 4,
 "nbformat_minor": 5
}
