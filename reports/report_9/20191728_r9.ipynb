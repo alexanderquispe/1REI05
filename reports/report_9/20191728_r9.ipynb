{
 "cells": [
  {
   "cell_type": "markdown",
   "id": "0b125b99",
   "metadata": {},
   "source": [
    "# REPORTE 9\n",
    "\n",
    "# Bruno Merino           20191728"
   ]
  },
  {
   "cell_type": "markdown",
   "id": "d40ebf7a",
   "metadata": {},
   "source": [
    "El artículo de Braghieri, L., Levy, R. E., & Makarin, A. (2022) busca dar una respuesta a la relación entre la salud mental y las redes social, centrándose en Facebook y como este afecta la salud mental de los estudiantes universitarios. Este artículo, logra su objetivo al encontrar esta relación, y concluyendo que quienes usan las redes sociales tienen un 23% más de probabilidades de padecer problemas de salud mental.\n",
    "\n",
    "En cuanto a las fortalezas del enfoque, es destacable el uso de dos conjuntos de datos principales: el primer conjunto de datos específicos de cuando Facebook se introdujo a 775 universidades de EE.UU y el segundo conformado por las respuestas a diecisiete olas consecutivas de la Evaluación Nacional de Salud Universitaria; ya que, permite ver diversos periodos de tiempos y con diferencias de contextos social. También, se puede resaltar el descarte de los factores de confusión que ayudan a tener resultados más exactos y verificables. Entre estos factores, se encuentran las diferencias especificas entre las universidades y su exigencia, las diferencias a lo largo del tiempo, y las tendencias de salud mental que afectan a las universidades en diferentes grupos de expansión de Facebook de manera diferencial, pero sin problemas.  En cuanto a las debilidades, se podría mencionar la omisión de factores como clase social, problemas sociales o familiares, fases de duelo, entre otros.\n",
    "\n",
    "En cuanto a la contribución de este artículo, después de utilizar bases de datos confiables, este contribuye a las ciencias de la salud y a las ciencias sociales; ya que, encuentra la razón por la que incrementan los problemas de salud mental, que son la comparación entre los jóvenes que utilizan Facebook, lo que influye en temas de depresión. \n",
    "\n",
    "Los siguientes pasos que considero necesarios para la investigación de este artículo, seria hacer la comparación con otras redes sociales para verificar si son todas las redes sociales o solo Facebook, la red que influye en la salud mental. Otro paso que podría tomarse en cuenta, sería el efecto que tienen las redes sociales en personas que ya padecen problemas de salud mental. \n"
   ]
  },
  {
   "cell_type": "code",
   "execution_count": null,
   "id": "164ce3e5",
   "metadata": {},
   "outputs": [],
   "source": []
  }
 ],
 "metadata": {
  "kernelspec": {
   "display_name": "Python 3 (ipykernel)",
   "language": "python",
   "name": "python3"
  },
  "language_info": {
   "codemirror_mode": {
    "name": "ipython",
    "version": 3
   },
   "file_extension": ".py",
   "mimetype": "text/x-python",
   "name": "python",
   "nbconvert_exporter": "python",
   "pygments_lexer": "ipython3",
   "version": "3.9.12"
  }
 },
 "nbformat": 4,
 "nbformat_minor": 5
}
