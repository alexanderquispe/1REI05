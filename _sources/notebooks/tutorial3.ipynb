{
 "cells": [
  {
   "cell_type": "code",
   "execution_count": 9,
   "id": "11336223",
   "metadata": {},
   "outputs": [],
   "source": [
    "%matplotlib widget\n",
    "%matplotlib inline\n",
    "import ipywidgets as widgets\n",
    "import matplotlib.pyplot as plt\n",
    "import numpy as np\n",
    "import sympy as sy\n",
    "import pandas as pd\n",
    "from causalgraphicalmodels import CausalGraphicalModel\n",
    "import warnings\n",
    "warnings.filterwarnings('ignore')"
   ]
  },
  {
   "cell_type": "markdown",
   "id": "68765d25",
   "metadata": {},
   "source": [
    "## 2. La curva IS (Inversión-Ahorro)"
   ]
  },
  {
   "cell_type": "markdown",
   "id": "df5cd31b",
   "metadata": {},
   "source": [
    "### 2.1. Derivación de la curva IS"
   ]
  },
  {
   "cell_type": "markdown",
   "id": "1ff077a5",
   "metadata": {},
   "source": [
    "La curva IS se deriva de la igualdad entre el ingreso $(Y)$ y la demanda agregada $(DA)$:\n",
    "\n",
    "$$ Y = C + I + G + X - M $$\n"
   ]
  },
  {
   "cell_type": "markdown",
   "id": "1608c4c8",
   "metadata": {},
   "source": [
    "Considerando que: \n",
    "\n",
    "$$ C = C_0 + bY^d $$\n",
    "\n",
    "$$ I = I_0 - hr $$\n",
    "\n",
    "$$ G = G_0 $$\n",
    "\n",
    "$$ T = tY $$\n",
    "\n",
    "$$ X = X_0 $$\n",
    "\n",
    "$$ M = mY^d $$"
   ]
  },
  {
   "cell_type": "markdown",
   "id": "6eab21f8",
   "metadata": {},
   "source": [
    "Para llegar al equilibrio Ahorro-Inversión, debemos restar la tributación $(T)$ de ambos miembros de la igualdad.\n",
    "\n",
    "$$ Y - T = C + I - T + G + X - M $$\n",
    "\n",
    "$$ Y^d = C + I - T + G + X - M $$"
   ]
  },
  {
   "cell_type": "markdown",
   "id": "b71918ec",
   "metadata": {},
   "source": [
    "Esta igualdad se puede reescribir de la siguiente forma:\n",
    "\n",
    "$$ (Y^d - C) + (T - G) + (M - X) = I $$"
   ]
  },
  {
   "cell_type": "markdown",
   "id": "3fd40fb3",
   "metadata": {},
   "source": [
    "Las tres partes de la derecha constituyen los tres componentes del ahorro total $ (S) $: ahorro privado $ (S_p) $, ahorro del gobierno $ (S_g) $ y ahorro externo $ (S_e) $:\n",
    "\n",
    "$$ S = S_p + S_g + S_e $$\n"
   ]
  },
  {
   "cell_type": "markdown",
   "id": "7fba9888",
   "metadata": {},
   "source": [
    "Entonces, el ahorro total es igual a la inversión\n",
    "\n",
    "$$ S_p + S_g + S_e = I $$\n",
    "\n",
    "$$ S(Y) = I(r) $$"
   ]
  },
  {
   "cell_type": "markdown",
   "id": "4606c2f3",
   "metadata": {},
   "source": [
    "Haciendo reemplazos se obtiene que:\n",
    "\n",
    "$$ S_p + S_g + S_e = I_0 - hr $$\n",
    "\n",
    "$$ (Y^d - C_0 - bY^d) + (T - G_0) + (mY^d - X_0) = I_0 - hr $$"
   ]
  },
  {
   "cell_type": "markdown",
   "id": "91a9c2b7",
   "metadata": {},
   "source": [
    "Considerando las observaciones anteriores sobre los componentes de la condición de equilibrio $(Y)$:\n",
    "\n",
    "$$ [1 - (b - m)(1 - t)]Y - (C_0 + G_0 + X_0) = I_0 - hr $$"
   ]
  },
  {
   "cell_type": "markdown",
   "id": "edd51d43",
   "metadata": {},
   "source": [
    "La curva IS se puede expresar con una ecuación donde la tasa de interés es una función del ingreso:\n",
    "\n",
    "$$ hr = (C_0 + G_0 + I_0 + X_0) - (1 - (b - m)(1 - t))Y $$\n",
    "\n",
    "$$ r = \\frac{1}{h}(C_0 + G_0 + I_0 + X_0) - \\frac{1 - (b - m)(1 - t)}{h}Y $$"
   ]
  },
  {
   "cell_type": "markdown",
   "id": "3a84309d",
   "metadata": {},
   "source": [
    "Y puede simplificarse en:\n",
    "\n",
    "$$ r = \\frac{B_0}{h} - \\frac{B_1}{h}Y $$\n",
    "\n",
    "Donde $ B_0 = C_0 + G_0 + I_0 + X_0  $ es el intercepto y $  B_1 = 1 - (b - m)(1 - t) $ es la pendiente."
   ]
  },
  {
   "cell_type": "markdown",
   "id": "428dd716",
   "metadata": {},
   "source": [
    "Y la curva IS se grafica de la siguiente manera:"
   ]
  },
  {
   "cell_type": "code",
   "execution_count": 23,
   "id": "ae972723",
   "metadata": {},
   "outputs": [],
   "source": [
    "# Parámetros\n",
    "\n",
    "Y_size = 100 \n",
    "\n",
    "Co = 35\n",
    "Io = 40\n",
    "Go = 70\n",
    "Xo = 2\n",
    "h = 0.7\n",
    "b = 0.8\n",
    "m = 0.2\n",
    "t = 0.3\n",
    "\n",
    "Y = np.arange(Y_size)\n",
    "\n",
    "\n",
    "# Ecuación \n",
    "def r_IS(b, m, t, Co, Io, Go, Xo, h, Y):\n",
    "    r_IS = (Co + Io + Go + Xo - Y * (1-(b-m)*(1-t)))/h\n",
    "    return r_IS\n",
    "\n",
    "r = r_IS(b, m, t, Co, Io, Go, Xo, h, Y)"
   ]
  },
  {
   "cell_type": "code",
   "execution_count": 20,
   "id": "37d2a8e1",
   "metadata": {},
   "outputs": [
    {
     "data": {
      "image/png": "[encoded data removed]",
      "text/plain": [
       "<Figure size 720x576 with 1 Axes>"
      ]
     },
     "metadata": {},
     "output_type": "display_data"
    }
   ],
   "source": [
    "# Gráfico de la curva IS\n",
    "\n",
    "# Dimensiones del gráfico\n",
    "y_max = np.max(r)\n",
    "fig, ax = plt.subplots(figsize=(10, 8))\n",
    "\n",
    "# Curvas a graficar\n",
    "ax.plot(Y, r, label = \"IS\", color = \"#8B0A50\") #Demanda agregada\n",
    "\n",
    "# Eliminar las cantidades de los ejes\n",
    "ax.yaxis.set_major_locator(plt.NullLocator())   \n",
    "ax.xaxis.set_major_locator(plt.NullLocator())\n",
    "\n",
    "# Título, ejes y leyenda\n",
    "ax.set(title = \"Curva IS\", xlabel= 'Y', ylabel= 'r')\n",
    "ax.legend()\n",
    "\n",
    "plt.show()\n"
   ]
  },
  {
   "cell_type": "markdown",
   "id": "4cef3dd0",
   "metadata": {},
   "source": [
    "### 2.2. Derivación de la curva IS a partir de la Demanda Agregada"
   ]
  },
  {
   "cell_type": "markdown",
   "id": "daf8ed96",
   "metadata": {},
   "source": [
    "Recordemos la ecuación del ingreso de equilibrio a corto plazo que fue obtenida a partir del equilibrio $(Y = DA)$:\n",
    "\n",
    "$$ Y = \\frac{1}{1 - (b - m)(1 - t)} (C_0 + I_0 + G_0 + X_0 - hr) $$"
   ]
  },
  {
   "cell_type": "markdown",
   "id": "26d1f7b7",
   "metadata": {},
   "source": [
    "Esta ecuación, después de algunas operaciones, puede expresarse en función de la tasa de interés $(r)$:\n",
    "\n",
    "$$ r = \\frac{1}{h}(C_0 + G_0 + I_0 + X_0) - \\frac{1 - (b - m)(1 - t)}{h}Y $$"
   ]
  },
  {
   "cell_type": "markdown",
   "id": "77ba4e79",
   "metadata": {},
   "source": [
    "Entonces, la curva IS puede ser simplificada de la siguiente manera:\n",
    "\n",
    "$$ r = \\frac{B_0}{h} - \\frac{B_1}{h}Y $$\n",
    "\n",
    "Donde $ B_0 = C_0 + G_0 + I_0 + X_0  $ y $  B_1 = 1 - (b - m)(1 - t) $"
   ]
  },
  {
   "cell_type": "markdown",
   "id": "56f896e7",
   "metadata": {},
   "source": [
    "Para la derivación gráfica, se tiene que recordar la ecuación de la Demanda Agregada $(DA)$:"
   ]
  },
  {
   "cell_type": "markdown",
   "id": "e3f0edb7",
   "metadata": {},
   "source": [
    "- **Demanda Agregada**:"
   ]
  },
  {
   "cell_type": "code",
   "execution_count": 34,
   "id": "146f5aeb",
   "metadata": {},
   "outputs": [],
   "source": [
    "# Parámetros\n",
    "\n",
    "Y_size = 100 \n",
    "\n",
    "Co = 35\n",
    "Io = 40\n",
    "Go = 70\n",
    "Xo = 2\n",
    "h = 0.7\n",
    "b = 0.8\n",
    "m = 0.2\n",
    "t = 0.3\n",
    "r = 0.9\n",
    "\n",
    "Y = np.arange(Y_size)\n",
    "\n",
    "# Ecuación de la curva del ingreso de equilibrio\n",
    "\n",
    "def DA_K(Co, Io, Go, Xo, h, r, b, m, t, Y):\n",
    "    DA_K = (Co + Io + Go + Xo - h*r) + ((b - m)*(1 - t)*Y)\n",
    "    return DA_K\n",
    "\n",
    "DA_IS_K = DA_K(Co, Io, Go, Xo, h, r, b, m, t, Y)\n",
    "\n",
    "#--------------------------------------------------\n",
    "# Recta de 45°\n",
    "\n",
    "a = 2.5 \n",
    "\n",
    "def L_45(a, Y):\n",
    "    L_45 = a*Y\n",
    "    return L_45\n",
    "\n",
    "L_45 = L_45(a, Y)\n",
    "\n",
    "#--------------------------------------------------\n",
    "# Segunda curva de ingreso de equilibrio\n",
    "\n",
    "    # Definir cualquier parámetro autónomo\n",
    "Go = 35\n",
    "\n",
    "# Generar la ecuación con el nuevo parámetro\n",
    "def DA_K(Co, Io, Go, Xo, h, r, b, m, t, Y):\n",
    "    DA_K = (Co + Io + Go + Xo - h*r) + ((b - m)*(1 - t)*Y)\n",
    "    return DA_K\n",
    "\n",
    "DA_G = DA_K(Co, Io, Go, Xo, h, r, b, m, t, Y)\n"
   ]
  },
  {
   "cell_type": "markdown",
   "id": "69b217a9",
   "metadata": {},
   "source": [
    "**- Curva IS**:"
   ]
  },
  {
   "cell_type": "code",
   "execution_count": 35,
   "id": "4447eff9",
   "metadata": {},
   "outputs": [],
   "source": [
    "# Parámetros\n",
    "\n",
    "Y_size = 100 \n",
    "\n",
    "Co = 35\n",
    "Io = 40\n",
    "Go = 70\n",
    "Xo = 2\n",
    "h = 0.7\n",
    "b = 0.8\n",
    "m = 0.2\n",
    "t = 0.3\n",
    "\n",
    "Y = np.arange(Y_size)\n",
    "\n",
    "\n",
    "# Ecuación \n",
    "def r_IS(b, m, t, Co, Io, Go, Xo, h, Y):\n",
    "    r_IS = (Co + Io + Go + Xo - Y * (1-(b-m)*(1-t)))/h\n",
    "    return r_IS\n",
    "\n",
    "r = r_IS(b, m, t, Co, Io, Go, Xo, h, Y)"
   ]
  },
  {
   "cell_type": "code",
   "execution_count": 43,
   "id": "d1ae7d14",
   "metadata": {},
   "outputs": [
    {
     "data": {
      "image/png": "[encoded data removed]",
      "text/plain": [
       "<Figure size 576x1152 with 2 Axes>"
      ]
     },
     "metadata": {},
     "output_type": "display_data"
    }
   ],
   "source": [
    "# Gráfico de la derivación de la curva IS a partir de la igualdad (DA = Y)\n",
    "\n",
    "    # Dos gráficos en un solo cuadro (ax1 para el primero y ax2 para el segundo)\n",
    "fig, (ax1, ax2) = plt.subplots(2, figsize=(8, 16)) \n",
    "\n",
    "#---------------------------------\n",
    "    # Gráfico 1: ingreso de Equilibrio\n",
    "ax1.yaxis.set_major_locator(plt.NullLocator())   \n",
    "ax1.xaxis.set_major_locator(plt.NullLocator())\n",
    "\n",
    "ax1.plot(Y, DA_IS_K, label = \"DA_0\", color = \"C0\") \n",
    "ax1.plot(Y, DA_G, label = \"DA_1\", color = \"C0\") \n",
    "ax1.plot(Y, L_45, color = \"#404040\") \n",
    "\n",
    "ax1.axvline(x = 70.5, ymin= 0, ymax = 0.69, linestyle = \":\", color = \"grey\")\n",
    "ax1.axvline(x = 54,  ymin= 0, ymax = 0.54, linestyle = \":\", color = \"grey\")\n",
    "\n",
    "ax1.text(6, 4, '$45°$', fontsize = 11.5, color = 'black')\n",
    "ax1.text(2.5, -3, '$◝$', fontsize = 30, color = 'black')\n",
    "ax1.text(72, 0, '$Y_0$', fontsize = 12, color = 'black')\n",
    "ax1.text(56, 0, '$Y_1$', fontsize = 12, color = 'black')\n",
    "ax1.text(67, 185, 'E_0', fontsize = 12, color = 'black')\n",
    "ax1.text(50, 142, 'E_1', fontsize = 12, color = 'black')\n",
    "\n",
    "ax1.set(title = \"Derivación de la curva IS a partir del equilibrio $Y=DA$\", xlabel = r'Y', ylabel = r'DA')\n",
    "ax1.legend()\n",
    "\n",
    "#---------------------------------\n",
    "    # Gráfico 2: Curva IS\n",
    "\n",
    "ax2.yaxis.set_major_locator(plt.NullLocator())   \n",
    "ax2.xaxis.set_major_locator(plt.NullLocator())\n",
    "\n",
    "ax2.plot(Y, r, label = \"IS\", color = \"C1\") \n",
    "\n",
    "ax2.axvline(x = 70.5, ymin= 0, ymax = 1, linestyle = \":\", color = \"grey\")\n",
    "ax2.axvline(x = 54,  ymin= 0, ymax = 1, linestyle = \":\", color = \"grey\")\n",
    "plt.axhline(y = 151.5, xmin= 0, xmax = 0.7, linestyle = \":\", color = \"grey\")\n",
    "plt.axhline(y = 165, xmin= 0, xmax = 0.55, linestyle = \":\", color = \"grey\")\n",
    "\n",
    "ax2.text(72, 128, '$Y_0$', fontsize = 12, color = 'black')\n",
    "ax2.text(56, 128, '$Y_1$', fontsize = 12, color = 'black')\n",
    "ax2.text(1, 153, '$r_0$', fontsize = 12, color = 'black')\n",
    "ax2.text(1, 167, '$r_1$', fontsize = 12, color = 'black')\n",
    "ax2.text(72, 152, 'E_0', fontsize = 12, color = 'black')\n",
    "ax2.text(55, 166, 'E_1', fontsize = 12, color = 'black')\n",
    "\n",
    "ax2.legend()\n",
    "\n",
    "plt.show()"
   ]
  },
  {
   "cell_type": "markdown",
   "id": "cf4919f0",
   "metadata": {},
   "source": [
    "### 2.3. Estática comparativa en la curva IS"
   ]
  },
  {
   "cell_type": "markdown",
   "id": "ebe0aec9",
   "metadata": {},
   "source": [
    "#### 2.3.1. Disminución en el Gasto de Gobierno $(G_0)$:"
   ]
  },
  {
   "cell_type": "code",
   "execution_count": 37,
   "id": "09020fbe",
   "metadata": {},
   "outputs": [],
   "source": [
    "#--------------------------------------------------\n",
    "    # Curva IS ORIGINAL\n",
    "\n",
    "# Parámetros\n",
    "\n",
    "Y_size = 100 \n",
    "\n",
    "Co = 35\n",
    "Io = 40\n",
    "Go = 70\n",
    "Xo = 2\n",
    "h = 0.7\n",
    "b = 0.8\n",
    "m = 0.2\n",
    "t = 0.3\n",
    "\n",
    "Y = np.arange(Y_size)\n",
    "\n",
    "\n",
    "# Ecuación \n",
    "def r_IS(b, m, t, Co, Io, Go, Xo, h, Y):\n",
    "    r_IS = (Co + Io + Go + Xo - Y * (1-(b-m)*(1-t)))/h\n",
    "    return r_IS\n",
    "\n",
    "r = r_IS(b, m, t, Co, Io, Go, Xo, h, Y)\n",
    "\n",
    "\n",
    "#--------------------------------------------------\n",
    "    # NUEVA curva IS\n",
    "    \n",
    "# Definir SOLO el parámetro cambiado\n",
    "Go = 60\n",
    "\n",
    "# Generar la ecuación con el nuevo parámetro\n",
    "def r_IS(b, m, t, Co, Io, Go, Xo, h, Y):\n",
    "    r_IS = (Co + Io + Go + Xo - Y * (1-(b-m)*(1-t)))/h\n",
    "    return r_IS\n",
    "\n",
    "r_G = r_IS(b, m, t, Co, Io, Go, Xo, h, Y)\n"
   ]
  },
  {
   "cell_type": "code",
   "execution_count": 38,
   "id": "b21be21d",
   "metadata": {},
   "outputs": [
    {
     "data": {
      "image/png": "[encoded data removed]",
      "text/plain": [
       "<Figure size 720x576 with 1 Axes>"
      ]
     },
     "metadata": {
      "needs_background": "light"
     },
     "output_type": "display_data"
    }
   ],
   "source": [
    "    # Gráfico\n",
    "\n",
    "# Dimensiones del gráfico\n",
    "y_max = np.max(r)\n",
    "fig, ax = plt.subplots(figsize=(10, 8))\n",
    "\n",
    "# Curvas a graficar\n",
    "ax.plot(Y, r, label = \"IS\", color = \"black\") #IS orginal\n",
    "ax.plot(Y, r_G, label = \"IS_G\", color = \"C1\", linestyle = 'dashed') #Nueva IS\n",
    "\n",
    "# Texto agregado\n",
    "plt.text(47, 162, '∆Go', fontsize=12, color='black')\n",
    "plt.text(49, 159, '←', fontsize=15, color='grey')\n",
    "\n",
    "# Título, ejes y leyenda\n",
    "ax.set(title = \"Incremento en el Gasto de Gobierno $(G_0)$\", xlabel= 'Y', ylabel= 'r')\n",
    "ax.legend()\n",
    "\n",
    "plt.show()"
   ]
  },
  {
   "cell_type": "code",
   "execution_count": 39,
   "id": "6628cfa3",
   "metadata": {},
   "outputs": [
    {
     "data": {
      "application/vnd.jupyter.widget-view+json": {
       "model_id": "14bb94e7b46c4e0bab04ebafa76fc68f",
       "version_major": 2,
       "version_minor": 0
      },
      "text/plain": [
       "interactive(children=(FloatSlider(value=70.0, description='Go', max=110.0), Output()), _dom_classes=('widget-i…"
      ]
     },
     "metadata": {},
     "output_type": "display_data"
    },
    {
     "data": {
      "text/plain": [
       "<function __main__.r_IS_1(Go)>"
      ]
     },
     "execution_count": 39,
     "metadata": {},
     "output_type": "execute_result"
    }
   ],
   "source": [
    "# Gráfico con movimiento\n",
    "\n",
    "# Parámetros\n",
    "\n",
    "Y_size = 100 \n",
    "\n",
    "Co = 35\n",
    "Io = 40\n",
    "Go = 70\n",
    "Xo = 2\n",
    "h = 0.7\n",
    "b = 0.8\n",
    "m = 0.2\n",
    "t = 0.3\n",
    "\n",
    "Y = np.arange(Y_size)\n",
    "\n",
    "def r_IS(b, m, t, Co, Io, Go, Xo, h, Y): # ecuación original\n",
    "    r_IS = (Co + Io + Go + Xo - Y * (1-(b-m)*(1-t)))/h\n",
    "    return r_IS\n",
    "\n",
    "r_G = r_IS(b, m, t, Co, Io, Go, Xo, h, Y)\n",
    "\n",
    "\n",
    "    # Definir ecuación y gráfico para el parámetro específico\n",
    "def r_IS_1(Go):\n",
    "    r_IS_1 = (Co + Io + Go + Xo - Y * (1-(b-m)*(1-t)))/h  \n",
    "    \n",
    "    # gráfico\n",
    "    plt.subplots(figsize=(10, 8))\n",
    "    plt.plot(r_IS_1, label = \"IS\", color = \"C1\") # Curva IS orginal\n",
    "    plt.plot(r_G, label = \"IS_Go\", color = \"black\") # Curva IS con movimiento\n",
    "    plt.title('Gasto de Gobierno')\n",
    "    plt.legend()    \n",
    "    \n",
    "    # crear gráfico con movimiento/control\n",
    "Go_slide = widgets.FloatSlider(value = 70, min = 0, max = 110)  #widgets.FloatSlider(valor_inicial, min, max)\n",
    "widgets.interact(r_IS_1, Go = Go_slide) #widgets.interact(nombre_función, parámetro = parámetro:_con_mov)\n"
   ]
  },
  {
   "cell_type": "markdown",
   "id": "3037c64b",
   "metadata": {},
   "source": [
    "#### 2.3.2. Incremento en la tasa impositiva $(t)$:"
   ]
  },
  {
   "cell_type": "code",
   "execution_count": 40,
   "id": "0af6ac43",
   "metadata": {},
   "outputs": [],
   "source": [
    "#--------------------------------------------------\n",
    "    # Curva IS ORIGINAL\n",
    "\n",
    "# Parámetros\n",
    "\n",
    "Y_size = 100 \n",
    "\n",
    "Co = 35\n",
    "Io = 40\n",
    "Go = 70\n",
    "Xo = 2\n",
    "h = 0.7\n",
    "b = 0.8\n",
    "m = 0.2\n",
    "t = 0.3\n",
    "\n",
    "Y = np.arange(Y_size)\n",
    "\n",
    "\n",
    "# Ecuación \n",
    "def r_IS(b, m, t, Co, Io, Go, Xo, h, Y):\n",
    "    r_IS = (Co + Io + Go + Xo - Y * (1-(b-m)*(1-t)))/h\n",
    "    return r_IS\n",
    "\n",
    "r = r_IS(b, m, t, Co, Io, Go, Xo, h, Y)\n",
    "\n",
    "\n",
    "#--------------------------------------------------\n",
    "    # NUEVA curva IS\n",
    "    \n",
    "# Definir SOLO el parámetro cambiado\n",
    "t = 0.7\n",
    "\n",
    "# Generar la ecuación con el nuevo parámetro\n",
    "def r_IS(b, m, t, Co, Io, Go, Xo, h, Y):\n",
    "    r_IS = (Co + Io + Go + Xo - Y * (1-(b-m)*(1-t)))/h\n",
    "    return r_IS\n",
    "\n",
    "r_t = r_IS(b, m, t, Co, Io, Go, Xo, h, Y)\n"
   ]
  },
  {
   "cell_type": "code",
   "execution_count": 32,
   "id": "3df39f20",
   "metadata": {},
   "outputs": [
    {
     "data": {
      "image/png": "[encoded data removed]",
      "text/plain": [
       "<Figure size 720x576 with 1 Axes>"
      ]
     },
     "metadata": {
      "needs_background": "light"
     },
     "output_type": "display_data"
    }
   ],
   "source": [
    "    # Gráfico\n",
    "\n",
    "# Dimensiones del gráfico\n",
    "y_max = np.max(r)\n",
    "fig, ax = plt.subplots(figsize=(10, 8))\n",
    "\n",
    "# Curvas a graficar\n",
    "ax.plot(Y, r, label = \"IS\", color = \"black\") #IS orginal\n",
    "ax.plot(Y, r_t, label = \"IS_t\", color = \"C1\", linestyle = 'dashed') #Nueva IS\n",
    "\n",
    "# Texto agregado\n",
    "plt.text(47, 162, '∆t', fontsize=12, color='black')\n",
    "plt.text(47, 158, '←', fontsize=15, color='grey')\n",
    "\n",
    "# Título, ejes y leyenda\n",
    "ax.set(title = \"Incremento en la Tasa de Interés $(t)$\", xlabel= 'Y', ylabel= 'r')\n",
    "ax.legend()\n",
    "\n",
    "plt.show()"
   ]
  },
  {
   "cell_type": "code",
   "execution_count": 42,
   "id": "171984dd",
   "metadata": {},
   "outputs": [
    {
     "data": {
      "application/vnd.jupyter.widget-view+json": {
       "model_id": "84417a6bd9054cbc9e43805bf07f2e32",
       "version_major": 2,
       "version_minor": 0
      },
      "text/plain": [
       "interactive(children=(FloatSlider(value=0.3, description='t', max=1.0), Output()), _dom_classes=('widget-inter…"
      ]
     },
     "metadata": {},
     "output_type": "display_data"
    },
    {
     "data": {
      "text/plain": [
       "<function __main__.r_IS_1(t)>"
      ]
     },
     "execution_count": 42,
     "metadata": {},
     "output_type": "execute_result"
    }
   ],
   "source": [
    "# Gráfico con movimiento\n",
    "\n",
    "# Parámetros\n",
    "\n",
    "Y_size = 100 \n",
    "\n",
    "Co = 35\n",
    "Io = 40\n",
    "Go = 70\n",
    "Xo = 2\n",
    "h = 0.7\n",
    "b = 0.8\n",
    "m = 0.2\n",
    "t = 0.3\n",
    "\n",
    "Y = np.arange(Y_size)\n",
    "\n",
    "def r_IS(b, m, t, Co, Io, Go, Xo, h, Y): # ecuación original\n",
    "    r_IS = (Co + Io + Go + Xo - Y * (1-(b-m)*(1-t)))/h\n",
    "    return r_IS\n",
    "\n",
    "r_t = r_IS(b, m, t, Co, Io, Go, Xo, h, Y)\n",
    "\n",
    "    # Definir ecuación y gráfico para el parámetro específico\n",
    "def r_IS_1(t):\n",
    "    r_IS_1 = (Co + Io + Go + Xo - Y * (1-(b-m)*(1-t)))/h  \n",
    "    \n",
    "    # gráfico\n",
    "    plt.subplots(figsize=(10, 8))\n",
    "    plt.plot(r_IS_1, label = \"IS\", color = \"C1\") # Curva IS orginal\n",
    "    plt.plot(r_t, label = \"IS_t\", color = \"black\") # Curva IS con movimiento\n",
    "    plt.title('Tasa de Interés $(t)$')\n",
    "    plt.legend()    \n",
    "    \n",
    "    # crear gráfico con movimiento/control\n",
    "t_slide = widgets.FloatSlider(value = 0.3, min = 0, max = 1)  #widgets.FloatSlider(valor_inicial, min, max)\n",
    "widgets.interact(r_IS_1, t = t_slide) #widgets.interact(nombre_función, parámetro = parámetro:_con_mov)\n"
   ]
  }
 ],
 "metadata": {
  "kernelspec": {
   "display_name": "Python 3 (ipykernel)",
   "language": "python",
   "name": "python3"
  },
  "language_info": {
   "codemirror_mode": {
    "name": "ipython",
    "version": 3
   },
   "file_extension": ".py",
   "mimetype": "text/x-python",
   "name": "python",
   "nbconvert_exporter": "python",
   "pygments_lexer": "ipython3",
   "version": "3.9.7"
  }
 },
 "nbformat": 4,
 "nbformat_minor": 5
}
