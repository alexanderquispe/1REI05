{
 "cells": [
  {
   "cell_type": "markdown",
   "id": "076d269e",
   "metadata": {},
   "source": [
    "## 1. (3 puntos) Instrumental Variables (IV)\n",
    "\n",
    "Suponga que estamos interesados en estudiar la relación entre educación(X) y el nivel de ingresos(Y).\n",
    "Un investigador propone utilizar como variable instrumental(Z) el numero de horas que una persona utilizó para ver televisión cuando era niño.\n",
    "\n",
    "Indetifique todos los elementos necesarios para implementar un enfoque de IV en este ejemplo.\n",
    "\n",
    "Explique el procedimiento para encontrar el efecto causal en este escenario. Puede utilizar ecuaciones\n",
    "\n",
    "¿El efecto de la educación sobre el nivel de ingresos es positivo o negativo? Argumente si los resultados serian causales o solamente de correlación"
   ]
  },
  {
   "cell_type": "markdown",
   "id": "d2940f3c",
   "metadata": {},
   "source": [
    "## Respuesta: \n",
    "\n",
    "### A) \n",
    "\n",
    "Para ver si el instrumento es válido o no es necesario consultar con dos supuestos, los cuales nos indicarán si el instrumento Z es efectivamente útil o no. \n",
    "\n",
    "En primer lugar identificamos al instrumento de relevancia, este nos da la posibilidad de visualizar los spuestos de identificación y el uso de las variables de instrumento de forma mucho más confiable para de esta forma poder saber si efectivamente Z (horas de televisión cuando eran niños) se relacionan verdaderamente con nuestra variable X (educación). En nuestro modelo por tanto lo esperable es que la correlación de nuestra variable horas dedicadas a ver televisión cuando eran niños con la educación sea relevante. Pues hace sentido a que medida que se dediquen más horas de tiempo en ver televisión, se pase menos horas estudiando, por tanto si existe una relación fuerte. \n",
    "\n",
    "En segundo lugar, debe cumplir con el supuesto de validez. Este supuesto indica que cualquier trayectoria o vía entre el instrumento (horas de televisión vistas de niño) y el resultado Y (ingresos) debe pasar a través del tratamiento X (educación) o cerrarse, pasando la responsabilidad de bloquear los posibles backdoors que puedan haber hacia nuestro instrumento (horas de ver televisión cuando eran niños). Ahora bien, a priori nuestro instrumento Z (horas de ver televisión cuando eran niños) presenta una correlación de 0 con nuestra variable Y (nivel de ingresos), lo cual significa que no tiene un efecto preliminar en la variable Y. Además, no debería mostrarse correlacionada con otra variable omitida relacionada con el salario (Y). \n",
    "\n",
    "Entonces, al cumplirse los dos supuestos se ve que el instrumento (horas de ver televisión cuando eran niños) es efectivamente útil. "
   ]
  },
  {
   "cell_type": "markdown",
   "id": "6244e351",
   "metadata": {},
   "source": []
  },
  {
   "cell_type": "markdown",
   "id": "5d794aff",
   "metadata": {},
   "source": [
    "### C) \n",
    "\n",
    "Se puede ver que el efecto de la educación en los ingresos es positiva, pues a mayor educación lo lógico es que tengas más herrameintas con las cuales poder ocupar mayores puestos y con ello percibir mejores salarios. Ahora bien, sobre la cuestión de causalidad, si este fuera un modelo de regresión normal hay una posibilidad importante de que ocurra un problema de endogeneidad o también un problema de sesgo debido a variables omitidas en la relación entre nuestras variables que fueron planteadas. Por tanto, se podría llegar a identificar una correlación, mas no sería posible aseverar que sea una relación causal. No obstante, los diseños de variables instrumentales, como este, utilizan el empleo del concepto de experimentos aleatorios controlados, por tanto, solucionan el problema de endogenenidad y de sesgo de variables omitidas. Por tanto sí es posible afirmar que existe causalidad, ya que en nuestro caso nuestra variable instrumental (horas de ver televisión cuando son niños) es útil. \n",
    "\n"
   ]
  },
  {
   "cell_type": "markdown",
   "id": "ea053dc8",
   "metadata": {},
   "source": [
    "## 2. (3 puntos) Regression Discontinuity Design (RDD)\n",
    "\n",
    "Supongamos que estamos estudiando la eficacia de un programa de becas creado por el gobierno Peruano sobre las notas de los alumnos al final del primer semestre en la universidad. PRONABEC ha decidido que entregará becas a aquellos postulantes que tengan un promedio superior durante la secundaria igual a 16 .\n",
    "\n",
    "Indetifique todos los elementos necesarios para implementar un RDD en este ejemplo.\n",
    "\n",
    "Explique el procedimiento para encontrar el efecto causal en este escenario. Puede utilizar ecuaciones.\n",
    "\n",
    "¿El efecto de la politica sobre el rendimiento de los estudiantes sería positivo o negativo (solo necesitan usar su intuición)? Argumente si los resultados serian causales o solamente de correlación ."
   ]
  },
  {
   "cell_type": "markdown",
   "id": "196eb24e",
   "metadata": {},
   "source": [
    "### A) \n",
    "\n",
    "Según la clase los elementos son los siguientes que se encuentran dentro del siguiente parrafo: \n",
    "\n",
    "En primer lugar, tenemos que observar el tipo de variable que vamos a estudiar, la cual se denomina running variable, en este caso vemos que son las notas de los alumnos al final del primer semestre de la universidad. Posteriormente, tenemos que tener el cut off, que vendría a representar el punto de corte que termina separando al grupo de tratamiento, en este caso es la nota de 16. En base a ello se determina si se pertenece o no al grupo de tratamiento. Finalmente, tenemos que tener el bandwith, el cual viene a representar el intervalo de elementos que vamos a estudiar. Esta cuestión depende mucho del investigador, en este caso al momento de evaluar la efectividad de la beca, se podría estudiar a los chicos que tengan un intervalo de 14 a 18 puntos y ver cómo es su desempeño con la beca, ello con la intención de ver si efectivamente de evaluar si la nota que se coloca como parametro para recibir o no la beca es el adecuado o si sería mejor cambiar.\n",
    "\n",
    "Ahora bien, según los libros del curso también se podría catalogar los siguientes elementos: \n",
    "\n",
    "El primer elemento es la uniformidad del resultado en el punto de corte, pues estamos estimando el efecto del corte y explicandolo mediante el tratamiento, por tanto, si se encuentra algo más cambiando en este punto, pues nuestro modelo estaría mal. O sea, si nadie cerca del punto de corte hubiera recibido tratamiento, o todos lo hubieran hecho, entonces no existiría discontinuidad. En nuestro ejemplo, no se puede utilizar para conocer solamente el efecto de los promedios de mayores 16, ya que no se deben separar de [Programa de becas]. También, la discontinuidad sigue existiendo porque no todos los estudiantes tienen una nota mayor a 16 o menor a esta. \n",
    "\n",
    "En segundo lugar,  nuestra variable definitoria no puede ser manipulable, pues si ello aconteciera nuestras unidades de observación serían capaces de elegir la ubicación con relación al corte para con ello influenciar si reciben o no el tratamiento, lo cual haría imposible distinguir si las diferencias en la variable dependiente se deben al tratamiento o a estas características. Por lo cual en nuestro ejemplo, las notas deben ser reales y no manipuladas por algun factor externo como la corrupción, por ejemplo. \n",
    "\n",
    "En tercer lugar, se percibe que la discontinuidad de la regresión se canaliza en solo una porción pequeña de datos. En este sentido, en nuestro caso estamos viendo una pequeña muestra de los datos que son principalmente los promedios de 16, pues los datos de promedios menores como 12 o menos no es de mucha utilidad, a priori, para ver el efecto de la beca. \n",
    "\n",
    "\n",
    "\n",
    "\n",
    "    \n"
   ]
  },
  {
   "cell_type": "markdown",
   "id": "8b98f2c7",
   "metadata": {},
   "source": [
    "### B)"
   ]
  },
  {
   "attachments": {},
   "cell_type": "markdown",
   "id": "def18dba",
   "metadata": {},
   "source": []
  },
  {
   "cell_type": "markdown",
   "id": "150cce43",
   "metadata": {},
   "source": [
    "### C) \n",
    "\n",
    "Los efectos de dicha beca serían positivos en los estudiantes que la reciban. Pues, muchos estudiantes suelen trabajar, por ejemplo, para pagar sus estudios. En este sentido, al recibir la beca tendrán menos necesidad de trabajar, por lo que tendrán más tiempo de estudiar y por ello más posibilidades de sacar mejores calificaciones. El método de la RDD es un modelo cuasiexperimental que nos da la posibilidad de realizar inferencias causales de algún tratamiento. En ese sentido se puede comprobar que sí hay una relación causal. En este sentido al momento de identificar un punto de corte que busque explicar la causalidad del cambio en nuestra running variable, vemos que efectivamente estamos ante un modelo que explica la causalidad. \n",
    "\n",
    "\n"
   ]
  },
  {
   "cell_type": "markdown",
   "id": "a3643549",
   "metadata": {},
   "source": [
    "## 3. (3 puntos) Difference in Difference (DiD)\n",
    "Supongamos que estamos interesados ​​en estudiar el impacto de la migración en la tasa de empleo en dos regiones del Perú en 2017-2018. Tenemos datos anuales sobre la tasa de empleo en Lima, que experimentó una afluencia significativa de inmigrantes en 2018, y Puno que no experimentó el ingreso de migrantes (2017 ninguna de las regiones experimentó afluencia de migrantes). Podemos usar un análisis DID para comparar el cambio en las tasas de empleo entre las dos regiones a lo largo del tiempo para ver si la migración tuvo algún efecto.\n",
    "\n",
    "Indetifique todos los elementos necesarios para implementar un DiD en este ejemplo.\n",
    "\n",
    "Explique el procedimiento para encontrar el efecto causal en este escenario. Puede utilizar ecuaciones.\n",
    "\n",
    "¿El efecto de la migración sobre la tasa de empleo sería positivo o negativo (solo necesitan usar su intuición)? Argumente si \n",
    "los resultados serian causales o solamente de correlación ."
   ]
  },
  {
   "cell_type": "markdown",
   "id": "12e30368",
   "metadata": {},
   "source": [
    "### A. \n",
    "\n",
    "El presente metodo necesita de observar dos grupos en por lo menos dos periodos distintos de tiempo, dentro de los cuales uno presenta un cambio que se entiende (o se trata de entender) en función de una relación causal. \n",
    "\n",
    "En función de ello, en primer lugar, nuestros grupos son Lima (región que experimentó un incremento en la tasa de migrantes y de la que se quiere estudiar el efecto causal con las tasas de empleo) mientras que el segundo es Puno. También se puede ver que hay un periodo específico de estudio, que en este caso es del 2017 al 2018, lo cual indica que hubo un tiempo anterior como posterior en el analisis y con nuestro modelo (DID) buscamos evaluar el impacto de este. Por otro lado, tendriamos que evaluar la suposición de tendencias paralelas, las cuales nos indican que de no haberse producido el cambio, las diferencias entre el grupo de tratamiento y de control serían las mismas. En otras palabras que si no hubieran habido olas de migrantes en Lima, las tasa en el empleo seguirían como estuvieron antes del tratamiento y sin virar en el transcurso del tiempo. \n"
   ]
  },
  {
   "cell_type": "markdown",
   "id": "d9ac0658",
   "metadata": {},
   "source": [
    "### B)"
   ]
  },
  {
   "cell_type": "markdown",
   "id": "4d2c02be",
   "metadata": {},
   "source": [
    "Para hallar la causalidad se tiene que realizar un resta doble y posteriomente debería compararse ambos resultados, en este caso los de Lima de 2017 a 2018 y los de Puno de 2017 a 2018, en otras palabras sería lo siguiente: (Resta de Lima 2018-Lima 2017) - (Resta de Puno 2018- Puno 2017) De esta forma podríamos hallar si efectivamente hubo o no efectos de la migración en la tasa de empleo. De esta forma al tener dos valores distintos en el de Puno y en el de Lima, pues los podemos restar y con ello hallamos el efecto causal de la migración en la tasa de empleo."
   ]
  },
  {
   "cell_type": "markdown",
   "id": "e5234e67",
   "metadata": {},
   "source": [
    "### C)"
   ]
  },
  {
   "cell_type": "markdown",
   "id": "cb89202c",
   "metadata": {},
   "source": [
    "3.3 El efecto de la migracion sobre la tasa de empleo debe ser negativa, es decir, mientras haya mas migracion, la tasa de empleo en regiones como Lima disminuira, pues habrá más gente pero la cantidad de empleo seguirá siendo el mismo, a menos que se pruebe mediante otro experimento lo contrario. Esta es nuestra conclusión, pues el incremento en la demanda de empleo no es igual a la oferta. Es más, ello podría generar que las empresas al ver tanta mano de obra desempleada pues bajen los salarios al haber mucha demanda y poca oferta laboral. Por otro lado, podría incrementar los indices de pobreza y delincuencia, al haber más gente sin un empleo estable. El efecto claramente es causal, pues se evidencia una relación entre un factor que en este caso en la migración y como termina generando que la tasa de empleabilidad baje, pues al haber más gente ello significa que va a haber más gente desempleada pues no hay más trabajos. Ahora bien, por otro lado, la relación también podría ser positiva en caso se compruebe que las empresas tienen más incentivos de dar más trabajo al momento de que estos migran, no obstante, por las razones brindadas en este parrafo se considera que lo más probable es que solo contribuya a una baja en la tasa de empleos. \n"
   ]
  },
  {
   "cell_type": "markdown",
   "id": "49d8a14c",
   "metadata": {},
   "source": [
    "## 4. (3 puntos) Lecturas\n",
    "\n",
    "Bell, A., Chetty, R., Jaravel, X., Petkova, N., & Van Reenen, J. (2019). Who becomes an inventor in America? The importance of exposure to innovation. The Quarterly Journal of Economics, 134(2), 647-713., ¿Cuáles son las debilidades del enfoque del paper para responder su pregunta de investigación?\n",
    "\n",
    "Dell, M. (2010). The persistent effects of Peru's mining mita. Econometrica, 78(6), 1863-1903, ¿Cuáles serían dos próximos pasos específicos para avanzar en su pregunta de investigación?"
   ]
  },
  {
   "cell_type": "markdown",
   "id": "852a067b",
   "metadata": {},
   "source": [
    "### A)\n",
    "\n",
    "\n",
    "En esta investigación se llega a diversas conclusiones cómo que si estas ligado a una familia que está relacionada a patentes, pues es más probable que también cree patentes, o también la mayor tasa de patentes que crean los hombres en comparación a las mujeres, lo cual denota un claro machismo que se encuentra en la creación de patentes. \n",
    "\n",
    "En este sentido una debilidad clara es que no incluye suficientes registros de distritos escolares, si bien es comprensible que los autores hayan seleccionado como su área de estudio a New York, ya que es la ciudad que cuenta con mayor cantidad de habitantes en Estados Unidos. Hubiera sido sumamente interesante ver si los presentes resultados se pueden extrapolar a diferentes ciudades como el caso de Arizona o Texas, las cuales también cuentan con una gran cantidad de población comparandolas con el caso de EEUU. Este suceso genera que la respuesta a la pregunta de investigación sea en parte incompleta, pues termina asumiendo como una generalidad los resultados hallados en su muestra, pero sin contar con una basta cantidad de registros de distritos escolares, lo cual podría afectar los resultados hallados. \n"
   ]
  },
  {
   "cell_type": "markdown",
   "id": "f4fce60e",
   "metadata": {},
   "source": [
    "### B)"
   ]
  },
  {
   "cell_type": "markdown",
   "id": "3a16d85d",
   "metadata": {},
   "source": [
    "Sobre los futuros pasos de investigación, en primer lugar podría ser hacer un estudio comparado entre los efectos de los distritos que solían pagar su mita en la mina de Potosí y los distritos que lo hacían en la mina de Huancavelica. Ello con la intención de ver cual de las dos mitas generaron mayores daños a largo plazo en los distritos que la pagaban. En base a ese resultados por ejemplo, se podrían estudiar los efectos causales que explicarían dicha variación en los efectos negativos, los cuales, por ejemplo, se podrían deber a la zona en donde se encuentran ubicadas, la mina Potosí en en Altiplano de Bolivia. Mientras, que la minera de Huancavelica en la Cordillera en Perú o también se puede deber a las condiciones laborales, las cuales cambiaban en las distintas zonas en donde se realizaba la mita. En ese sentido Zagalsky (2014), menciona que la minera Potosí debido a su clima extremo, según el autor el más terrible de la región, sumado a las condiciones laborales extremadamente deplorables, generaron tasas de mortalidad muy elevadas, en comparación a las demás zonas en donde se realizaba la mita. En ese sentido se podría inferir que las zonas que participaron de la mita en Potosí fueron más afectadas que las que participaron en la mita de Huancavelica. No obstante, tendría que comprobarse mediante un estudio extenso.\n",
    "\n",
    "Por otro lado, sería interesante comparar los resultados de la mita (realizada en Perú y Bolivia), con otros trabajos mineros realizados en otras zonas del virreinato español, por ejemplo, en la Nueva Granada. En ese sentido según Orche y Puche (2000), en la Nueva Granada al no tener tantos recursos ni infraestructura minera como en Perú y Bolivia, ello generó que no haya un grado de institucionalización grande como el caso de la mita en Perú, no obstante, igualmente la extracción del oro fue de vital importancia. En base a ello podría decirse que a pesar de que la extracción de minerales fue importante, al no haber un alto grado de institucionalización como la mita, podría traducirse en peores tratos en el caso de Perú y Bolivia, lo cual a largo plazo se podría haber traducido en peores condiciones de vida en los distritos de estos países que participaron de la mita, en comparación con los distritos que participaron del trabajo de extracción de minerales en los actuales países que conformaron Nueva Granada.\n",
    "\n",
    "Bibliografía:\n",
    "\n",
    "Orche. E y Puche. O. (2000). Los asentamientos mineros en la minería aurífera de Nueva Granada durante la época colonial. Instituto Geológico y Minero de España. pp. 415-422.\n",
    "\n",
    "Zagalsky, Paula C. (2014). THE POTOSÍ MITA: AN UNCHANGED COLONIAL IMPOSITION WITHIN A CONTEXT OF MULTIPLE TRANSFORMATIONS (16th AND 17th CENTURIES; CHARCAS, VICEROYALTY OF PERU. Chungará (Arica), 46(3), 375-395."
   ]
  },
  {
   "cell_type": "code",
   "execution_count": 12,
   "id": "6b7c649b",
   "metadata": {},
   "outputs": [],
   "source": [
    "from causalgraphicalmodels import CausalGraphicalModel\n",
    "import os\n",
    "import numpy as np \n",
    "import pandas as pd \n",
    "import statsmodels.api as sm \n",
    "import statsmodels.formula.api as smf \n",
    "from itertools import combinations \n",
    "import statsmodels.api as sm\n",
    "import statsmodels.formula.api as smf\n",
    "from statsmodels.iolib.summary2 import summary_col\n",
    "import seaborn as sns\n",
    "import ipywidgets as widgets\n",
    "import matplotlib.pyplot as plt\n",
    "import numpy as np\n",
    "import sympy as sy\n",
    "import pandas as pd\n",
    "from causalgraphicalmodels import CausalGraphicalModel\n",
    "import plotnine as p\n",
    "import linearmodels.iv.model as lm\n",
    "from linearmodels.iv import IV2SLS"
   ]
  },
  {
   "cell_type": "markdown",
   "id": "f7807bf2",
   "metadata": {},
   "source": [
    "## 5. (4 puntos) Código\n",
    "\n",
    "### Ploteo de Histogramas\n",
    "\n",
    "Tienen que trabajar con la misma data de educacion que utilicé en la clase_11. En este documento encontrarán una descripción detallada de todas las variables en el dataset.\n",
    "\n",
    "Tomando en cuenta que la variable nearc2 representa si existe un college en el county debe realizar los siguientes ploteos de histogramas.\n",
    "\n",
    "Grafique dos histogramas para la variable años de educación educ para cuando nearc2 == 1, y cuando nearc2 == 0. Compare y describa los patrones que encuentra.\n"
   ]
  },
  {
   "cell_type": "code",
   "execution_count": 42,
   "id": "4be56553",
   "metadata": {},
   "outputs": [
    {
     "data": {
      "text/html": [
       "<div>\n",
       "<style scoped>\n",
       "    .dataframe tbody tr th:only-of-type {\n",
       "        vertical-align: middle;\n",
       "    }\n",
       "\n",
       "    .dataframe tbody tr th {\n",
       "        vertical-align: top;\n",
       "    }\n",
       "\n",
       "    .dataframe thead th {\n",
       "        text-align: right;\n",
       "    }\n",
       "</style>\n",
       "<table border=\"1\" class=\"dataframe\">\n",
       "  <thead>\n",
       "    <tr style=\"text-align: right;\">\n",
       "      <th></th>\n",
       "      <th>id</th>\n",
       "      <th>nearc2</th>\n",
       "      <th>nearc4</th>\n",
       "      <th>educ</th>\n",
       "      <th>age</th>\n",
       "      <th>fatheduc</th>\n",
       "      <th>motheduc</th>\n",
       "      <th>weight</th>\n",
       "      <th>momdad14</th>\n",
       "      <th>sinmom14</th>\n",
       "      <th>...</th>\n",
       "      <th>KWW</th>\n",
       "      <th>IQ</th>\n",
       "      <th>married</th>\n",
       "      <th>libcrd14</th>\n",
       "      <th>exper</th>\n",
       "      <th>lwage</th>\n",
       "      <th>expersq</th>\n",
       "      <th>u_lwage</th>\n",
       "      <th>lwage_hat</th>\n",
       "      <th>u_educ</th>\n",
       "    </tr>\n",
       "  </thead>\n",
       "  <tbody>\n",
       "    <tr>\n",
       "      <th>0</th>\n",
       "      <td>2.0</td>\n",
       "      <td>0.0</td>\n",
       "      <td>0.0</td>\n",
       "      <td>7.0</td>\n",
       "      <td>29.0</td>\n",
       "      <td>NaN</td>\n",
       "      <td>NaN</td>\n",
       "      <td>158413.0</td>\n",
       "      <td>1.0</td>\n",
       "      <td>0.0</td>\n",
       "      <td>...</td>\n",
       "      <td>15.0</td>\n",
       "      <td>NaN</td>\n",
       "      <td>1.0</td>\n",
       "      <td>0.0</td>\n",
       "      <td>16.0</td>\n",
       "      <td>6.306275</td>\n",
       "      <td>256.0</td>\n",
       "      <td>0.198047</td>\n",
       "      <td>6.108228</td>\n",
       "      <td>-3.067539</td>\n",
       "    </tr>\n",
       "    <tr>\n",
       "      <th>1</th>\n",
       "      <td>3.0</td>\n",
       "      <td>0.0</td>\n",
       "      <td>0.0</td>\n",
       "      <td>12.0</td>\n",
       "      <td>27.0</td>\n",
       "      <td>8.0</td>\n",
       "      <td>8.0</td>\n",
       "      <td>380166.0</td>\n",
       "      <td>1.0</td>\n",
       "      <td>0.0</td>\n",
       "      <td>...</td>\n",
       "      <td>35.0</td>\n",
       "      <td>93.0</td>\n",
       "      <td>1.0</td>\n",
       "      <td>1.0</td>\n",
       "      <td>9.0</td>\n",
       "      <td>6.175867</td>\n",
       "      <td>81.0</td>\n",
       "      <td>-0.211160</td>\n",
       "      <td>6.387027</td>\n",
       "      <td>-1.727562</td>\n",
       "    </tr>\n",
       "    <tr>\n",
       "      <th>2</th>\n",
       "      <td>4.0</td>\n",
       "      <td>0.0</td>\n",
       "      <td>0.0</td>\n",
       "      <td>12.0</td>\n",
       "      <td>34.0</td>\n",
       "      <td>14.0</td>\n",
       "      <td>12.0</td>\n",
       "      <td>367470.0</td>\n",
       "      <td>1.0</td>\n",
       "      <td>0.0</td>\n",
       "      <td>...</td>\n",
       "      <td>42.0</td>\n",
       "      <td>103.0</td>\n",
       "      <td>1.0</td>\n",
       "      <td>1.0</td>\n",
       "      <td>16.0</td>\n",
       "      <td>6.580639</td>\n",
       "      <td>256.0</td>\n",
       "      <td>0.204719</td>\n",
       "      <td>6.375920</td>\n",
       "      <td>1.012975</td>\n",
       "    </tr>\n",
       "    <tr>\n",
       "      <th>3</th>\n",
       "      <td>5.0</td>\n",
       "      <td>1.0</td>\n",
       "      <td>1.0</td>\n",
       "      <td>11.0</td>\n",
       "      <td>27.0</td>\n",
       "      <td>11.0</td>\n",
       "      <td>12.0</td>\n",
       "      <td>380166.0</td>\n",
       "      <td>1.0</td>\n",
       "      <td>0.0</td>\n",
       "      <td>...</td>\n",
       "      <td>25.0</td>\n",
       "      <td>88.0</td>\n",
       "      <td>1.0</td>\n",
       "      <td>1.0</td>\n",
       "      <td>10.0</td>\n",
       "      <td>5.521461</td>\n",
       "      <td>100.0</td>\n",
       "      <td>-0.967905</td>\n",
       "      <td>6.489366</td>\n",
       "      <td>-2.253536</td>\n",
       "    </tr>\n",
       "    <tr>\n",
       "      <th>4</th>\n",
       "      <td>6.0</td>\n",
       "      <td>1.0</td>\n",
       "      <td>1.0</td>\n",
       "      <td>12.0</td>\n",
       "      <td>34.0</td>\n",
       "      <td>8.0</td>\n",
       "      <td>7.0</td>\n",
       "      <td>367470.0</td>\n",
       "      <td>1.0</td>\n",
       "      <td>0.0</td>\n",
       "      <td>...</td>\n",
       "      <td>34.0</td>\n",
       "      <td>108.0</td>\n",
       "      <td>1.0</td>\n",
       "      <td>0.0</td>\n",
       "      <td>16.0</td>\n",
       "      <td>6.591674</td>\n",
       "      <td>256.0</td>\n",
       "      <td>0.125173</td>\n",
       "      <td>6.466501</td>\n",
       "      <td>1.090437</td>\n",
       "    </tr>\n",
       "  </tbody>\n",
       "</table>\n",
       "<p>5 rows × 37 columns</p>\n",
       "</div>"
      ],
      "text/plain": [
       "    id  nearc2  nearc4  educ   age  fatheduc  motheduc    weight  momdad14  \\\n",
       "0  2.0     0.0     0.0   7.0  29.0       NaN       NaN  158413.0       1.0   \n",
       "1  3.0     0.0     0.0  12.0  27.0       8.0       8.0  380166.0       1.0   \n",
       "2  4.0     0.0     0.0  12.0  34.0      14.0      12.0  367470.0       1.0   \n",
       "3  5.0     1.0     1.0  11.0  27.0      11.0      12.0  380166.0       1.0   \n",
       "4  6.0     1.0     1.0  12.0  34.0       8.0       7.0  367470.0       1.0   \n",
       "\n",
       "   sinmom14  ...   KWW     IQ  married  libcrd14  exper     lwage  expersq  \\\n",
       "0       0.0  ...  15.0    NaN      1.0       0.0   16.0  6.306275    256.0   \n",
       "1       0.0  ...  35.0   93.0      1.0       1.0    9.0  6.175867     81.0   \n",
       "2       0.0  ...  42.0  103.0      1.0       1.0   16.0  6.580639    256.0   \n",
       "3       0.0  ...  25.0   88.0      1.0       1.0   10.0  5.521461    100.0   \n",
       "4       0.0  ...  34.0  108.0      1.0       0.0   16.0  6.591674    256.0   \n",
       "\n",
       "    u_lwage  lwage_hat    u_educ  \n",
       "0  0.198047   6.108228 -3.067539  \n",
       "1 -0.211160   6.387027 -1.727562  \n",
       "2  0.204719   6.375920  1.012975  \n",
       "3 -0.967905   6.489366 -2.253536  \n",
       "4  0.125173   6.466501  1.090437  \n",
       "\n",
       "[5 rows x 37 columns]"
      ]
     },
     "execution_count": 42,
     "metadata": {},
     "output_type": "execute_result"
    }
   ],
   "source": [
    "# load data\n",
    "\n",
    "import ssl\n",
    "ssl._create_default_https_context = ssl._create_unverified_context\n",
    "\n",
    "def read_data(file): \n",
    "    return pd.read_stata(\"https://raw.github.com/scunning1975/mixtape/master/\" + file)\n",
    "\n",
    "Macro = read_data(\"card.dta\")\n",
    "Macro.head()"
   ]
  },
  {
   "cell_type": "code",
   "execution_count": 43,
   "id": "66c46ed8",
   "metadata": {},
   "outputs": [
    {
     "data": {
      "text/html": [
       "<div>\n",
       "<style scoped>\n",
       "    .dataframe tbody tr th:only-of-type {\n",
       "        vertical-align: middle;\n",
       "    }\n",
       "\n",
       "    .dataframe tbody tr th {\n",
       "        vertical-align: top;\n",
       "    }\n",
       "\n",
       "    .dataframe thead th {\n",
       "        text-align: right;\n",
       "    }\n",
       "</style>\n",
       "<table border=\"1\" class=\"dataframe\">\n",
       "  <thead>\n",
       "    <tr style=\"text-align: right;\">\n",
       "      <th></th>\n",
       "      <th>id</th>\n",
       "      <th>nearc2</th>\n",
       "      <th>nearc4</th>\n",
       "      <th>educ</th>\n",
       "      <th>age</th>\n",
       "      <th>fatheduc</th>\n",
       "      <th>motheduc</th>\n",
       "      <th>weight</th>\n",
       "      <th>momdad14</th>\n",
       "      <th>sinmom14</th>\n",
       "      <th>...</th>\n",
       "      <th>KWW</th>\n",
       "      <th>IQ</th>\n",
       "      <th>married</th>\n",
       "      <th>libcrd14</th>\n",
       "      <th>exper</th>\n",
       "      <th>lwage</th>\n",
       "      <th>expersq</th>\n",
       "      <th>u_lwage</th>\n",
       "      <th>lwage_hat</th>\n",
       "      <th>u_educ</th>\n",
       "    </tr>\n",
       "  </thead>\n",
       "  <tbody>\n",
       "    <tr>\n",
       "      <th>0</th>\n",
       "      <td>2.0</td>\n",
       "      <td>0.0</td>\n",
       "      <td>0.0</td>\n",
       "      <td>7.0</td>\n",
       "      <td>29.0</td>\n",
       "      <td>NaN</td>\n",
       "      <td>NaN</td>\n",
       "      <td>158413.0</td>\n",
       "      <td>1.0</td>\n",
       "      <td>0.0</td>\n",
       "      <td>...</td>\n",
       "      <td>15.0</td>\n",
       "      <td>NaN</td>\n",
       "      <td>1.0</td>\n",
       "      <td>0.0</td>\n",
       "      <td>16.0</td>\n",
       "      <td>6.306275</td>\n",
       "      <td>256.0</td>\n",
       "      <td>0.198047</td>\n",
       "      <td>6.108228</td>\n",
       "      <td>-3.067539</td>\n",
       "    </tr>\n",
       "    <tr>\n",
       "      <th>1</th>\n",
       "      <td>3.0</td>\n",
       "      <td>0.0</td>\n",
       "      <td>0.0</td>\n",
       "      <td>12.0</td>\n",
       "      <td>27.0</td>\n",
       "      <td>8.0</td>\n",
       "      <td>8.0</td>\n",
       "      <td>380166.0</td>\n",
       "      <td>1.0</td>\n",
       "      <td>0.0</td>\n",
       "      <td>...</td>\n",
       "      <td>35.0</td>\n",
       "      <td>93.0</td>\n",
       "      <td>1.0</td>\n",
       "      <td>1.0</td>\n",
       "      <td>9.0</td>\n",
       "      <td>6.175867</td>\n",
       "      <td>81.0</td>\n",
       "      <td>-0.211160</td>\n",
       "      <td>6.387027</td>\n",
       "      <td>-1.727562</td>\n",
       "    </tr>\n",
       "    <tr>\n",
       "      <th>2</th>\n",
       "      <td>4.0</td>\n",
       "      <td>0.0</td>\n",
       "      <td>0.0</td>\n",
       "      <td>12.0</td>\n",
       "      <td>34.0</td>\n",
       "      <td>14.0</td>\n",
       "      <td>12.0</td>\n",
       "      <td>367470.0</td>\n",
       "      <td>1.0</td>\n",
       "      <td>0.0</td>\n",
       "      <td>...</td>\n",
       "      <td>42.0</td>\n",
       "      <td>103.0</td>\n",
       "      <td>1.0</td>\n",
       "      <td>1.0</td>\n",
       "      <td>16.0</td>\n",
       "      <td>6.580639</td>\n",
       "      <td>256.0</td>\n",
       "      <td>0.204719</td>\n",
       "      <td>6.375920</td>\n",
       "      <td>1.012975</td>\n",
       "    </tr>\n",
       "    <tr>\n",
       "      <th>3</th>\n",
       "      <td>5.0</td>\n",
       "      <td>1.0</td>\n",
       "      <td>1.0</td>\n",
       "      <td>11.0</td>\n",
       "      <td>27.0</td>\n",
       "      <td>11.0</td>\n",
       "      <td>12.0</td>\n",
       "      <td>380166.0</td>\n",
       "      <td>1.0</td>\n",
       "      <td>0.0</td>\n",
       "      <td>...</td>\n",
       "      <td>25.0</td>\n",
       "      <td>88.0</td>\n",
       "      <td>1.0</td>\n",
       "      <td>1.0</td>\n",
       "      <td>10.0</td>\n",
       "      <td>5.521461</td>\n",
       "      <td>100.0</td>\n",
       "      <td>-0.967905</td>\n",
       "      <td>6.489366</td>\n",
       "      <td>-2.253536</td>\n",
       "    </tr>\n",
       "    <tr>\n",
       "      <th>4</th>\n",
       "      <td>6.0</td>\n",
       "      <td>1.0</td>\n",
       "      <td>1.0</td>\n",
       "      <td>12.0</td>\n",
       "      <td>34.0</td>\n",
       "      <td>8.0</td>\n",
       "      <td>7.0</td>\n",
       "      <td>367470.0</td>\n",
       "      <td>1.0</td>\n",
       "      <td>0.0</td>\n",
       "      <td>...</td>\n",
       "      <td>34.0</td>\n",
       "      <td>108.0</td>\n",
       "      <td>1.0</td>\n",
       "      <td>0.0</td>\n",
       "      <td>16.0</td>\n",
       "      <td>6.591674</td>\n",
       "      <td>256.0</td>\n",
       "      <td>0.125173</td>\n",
       "      <td>6.466501</td>\n",
       "      <td>1.090437</td>\n",
       "    </tr>\n",
       "  </tbody>\n",
       "</table>\n",
       "<p>5 rows × 37 columns</p>\n",
       "</div>"
      ],
      "text/plain": [
       "    id  nearc2  nearc4  educ   age  fatheduc  motheduc    weight  momdad14  \\\n",
       "0  2.0     0.0     0.0   7.0  29.0       NaN       NaN  158413.0       1.0   \n",
       "1  3.0     0.0     0.0  12.0  27.0       8.0       8.0  380166.0       1.0   \n",
       "2  4.0     0.0     0.0  12.0  34.0      14.0      12.0  367470.0       1.0   \n",
       "3  5.0     1.0     1.0  11.0  27.0      11.0      12.0  380166.0       1.0   \n",
       "4  6.0     1.0     1.0  12.0  34.0       8.0       7.0  367470.0       1.0   \n",
       "\n",
       "   sinmom14  ...   KWW     IQ  married  libcrd14  exper     lwage  expersq  \\\n",
       "0       0.0  ...  15.0    NaN      1.0       0.0   16.0  6.306275    256.0   \n",
       "1       0.0  ...  35.0   93.0      1.0       1.0    9.0  6.175867     81.0   \n",
       "2       0.0  ...  42.0  103.0      1.0       1.0   16.0  6.580639    256.0   \n",
       "3       0.0  ...  25.0   88.0      1.0       1.0   10.0  5.521461    100.0   \n",
       "4       0.0  ...  34.0  108.0      1.0       0.0   16.0  6.591674    256.0   \n",
       "\n",
       "    u_lwage  lwage_hat    u_educ  \n",
       "0  0.198047   6.108228 -3.067539  \n",
       "1 -0.211160   6.387027 -1.727562  \n",
       "2  0.204719   6.375920  1.012975  \n",
       "3 -0.967905   6.489366 -2.253536  \n",
       "4  0.125173   6.466501  1.090437  \n",
       "\n",
       "[5 rows x 37 columns]"
      ]
     },
     "execution_count": 43,
     "metadata": {},
     "output_type": "execute_result"
    }
   ],
   "source": [
    "# load data\n",
    "\n",
    "import ssl\n",
    "ssl._create_default_https_context = ssl._create_unverified_context\n",
    "\n",
    "def read_data(file): \n",
    "    return pd.read_stata(\"https://raw.github.com/scunning1975/mixtape/master/\" + file)\n",
    "\n",
    "Macro = read_data(\"card.dta\")\n",
    "Macro.head()"
   ]
  },
  {
   "cell_type": "code",
   "execution_count": 44,
   "id": "dc2abe69",
   "metadata": {},
   "outputs": [
    {
     "data": {
      "text/plain": [
       "<seaborn.axisgrid.FacetGrid at 0x2377ffa9cd0>"
      ]
     },
     "execution_count": 44,
     "metadata": {},
     "output_type": "execute_result"
    },
    {
     "data": {
      "image/png": "[encoded data removed]",
      "text/plain": [
       "<Figure size 720x360 with 2 Axes>"
      ]
     },
     "metadata": {
      "needs_background": "light"
     },
     "output_type": "display_data"
    }
   ],
   "source": [
    "sns.displot(Macro, x=\"educ\", col = \"nearc2\", color=\"blue\")\n"
   ]
  },
  {
   "cell_type": "code",
   "execution_count": 45,
   "id": "1d8cb126",
   "metadata": {},
   "outputs": [
    {
     "data": {
      "text/plain": [
       "<seaborn.axisgrid.FacetGrid at 0x2377feca910>"
      ]
     },
     "execution_count": 45,
     "metadata": {},
     "output_type": "execute_result"
    },
    {
     "data": {
      "image/png": "[encoded data removed]",
      "text/plain": [
       "<Figure size 412x360 with 1 Axes>"
      ]
     },
     "metadata": {
      "needs_background": "light"
     },
     "output_type": "display_data"
    }
   ],
   "source": [
    "sns.displot(Macro, x=\"educ\", hue=\"nearc2\", multiple=\"stack\")\n"
   ]
  },
  {
   "cell_type": "markdown",
   "id": "aa8b318d",
   "metadata": {},
   "source": [
    "Interpretaciones: \n",
    "    \n",
    "Se puede ver en primer lugar, que los estudiantes que tienen un college en su ciudad son mucho menores en comparación a los que no lo tienen cuestión que demuestra que no es común tener un centro de estudios cerca. Por otro lado, se puede ver que al margen de la cantidad la distribución es similar, pues en ambos grupos se presenta una mayor presencia de unidades en 12 años y medio. No obstante, se percibe que en 17.5 años si hay una diferencia positiva para los que presentan un college en su localidad, pues en función de la distribución general, se percibe que en el caso de los alumnos que tienen un college en su localidad es más probable que lleguen a los últimos grados de estudio, lo cual se podría entender porque movilizarse a un college fuera de la ciudad o localidad suele ser costoso o también es mucho más engorroso pues demoras más tiempo. "
   ]
  },
  {
   "cell_type": "markdown",
   "id": "eb9dd767",
   "metadata": {},
   "source": [
    "#### Grafique dos histogramas para la variable logaritmos de los ingresos lwage para cuando nearc2 == 1, y cuando nearc2 == 0. Compare y describa los patrones que encuentra.\n"
   ]
  },
  {
   "cell_type": "code",
   "execution_count": 46,
   "id": "669b7b3f",
   "metadata": {},
   "outputs": [
    {
     "data": {
      "text/plain": [
       "<seaborn.axisgrid.FacetGrid at 0x237020ede50>"
      ]
     },
     "execution_count": 46,
     "metadata": {},
     "output_type": "execute_result"
    },
    {
     "data": {
      "image/png": "[encoded data removed]",
      "text/plain": [
       "<Figure size 720x360 with 2 Axes>"
      ]
     },
     "metadata": {
      "needs_background": "light"
     },
     "output_type": "display_data"
    }
   ],
   "source": [
    "sns.displot(Macro, x=\"lwage\", col = \"nearc2\", color=\"red\")\n"
   ]
  },
  {
   "cell_type": "code",
   "execution_count": 47,
   "id": "fd1f0b8d",
   "metadata": {},
   "outputs": [
    {
     "data": {
      "text/plain": [
       "<seaborn.axisgrid.FacetGrid at 0x2377fd9faf0>"
      ]
     },
     "execution_count": 47,
     "metadata": {},
     "output_type": "execute_result"
    },
    {
     "data": {
      "image/png": "[encoded data removed]",
      "text/plain": [
       "<Figure size 412x360 with 1 Axes>"
      ]
     },
     "metadata": {
      "needs_background": "light"
     },
     "output_type": "display_data"
    }
   ],
   "source": [
    "sns.displot(Macro, x=\"lwage\", hue=\"nearc2\", multiple=\"stack\")\n"
   ]
  },
  {
   "cell_type": "markdown",
   "id": "3441b35a",
   "metadata": {},
   "source": [
    "En función de este gráfico se percibe que los estudiantes que viven cerca de su centro de estudios perciben más dinero (ingresos) que los que no viven cerca a su centro de estudio. Ello se peude ver porque en el grafico de los estudiantes que viven cerca a su college se percibe que la mayor concentración de los datos está tirando a 6.5 logaritmo de ingreso, mientras que en el caso de los que no viven cerca su college se ve la mayoria de datos se concentra en 6, lo cual indica que efectivamente los estudiantes que viven cerca a su collegue ganan más. Ello se puede deber a que tienen más tiempo de estudiar, pues no gastan tiempo en movilizarse, lo cual finalmente se traduce en que están más preparados y con ello ganan más. Ahora bien, si analizamos este con el anterior gráfico podemos concluir que los alumnos que viven cerca su college en promedio logran llegar a años de estudios más altos (17 años) y que perciben más dinero. "
   ]
  },
  {
   "cell_type": "markdown",
   "id": "326983ee",
   "metadata": {},
   "source": [
    "### Regresiones\n",
    "\n",
    "#### Corran una regresion lineal del tipo \"lwage ~ educ + exper + black + south + married + smsa\", y expliquen los resultados que encuentran.\n"
   ]
  },
  {
   "cell_type": "code",
   "execution_count": 48,
   "id": "c642574f",
   "metadata": {},
   "outputs": [
    {
     "data": {
      "text/html": [
       "<table class=\"simpletable\">\n",
       "<caption>OLS Regression Results</caption>\n",
       "<tr>\n",
       "  <th>Dep. Variable:</th>          <td>lwage</td>      <th>  R-squared:         </th> <td>   0.305</td> \n",
       "</tr>\n",
       "<tr>\n",
       "  <th>Model:</th>                   <td>OLS</td>       <th>  Adj. R-squared:    </th> <td>   0.304</td> \n",
       "</tr>\n",
       "<tr>\n",
       "  <th>Method:</th>             <td>Least Squares</td>  <th>  F-statistic:       </th> <td>   219.2</td> \n",
       "</tr>\n",
       "<tr>\n",
       "  <th>Date:</th>             <td>Fri, 09 Dec 2022</td> <th>  Prob (F-statistic):</th> <td>1.97e-232</td>\n",
       "</tr>\n",
       "<tr>\n",
       "  <th>Time:</th>                 <td>17:14:16</td>     <th>  Log-Likelihood:    </th> <td> -1273.9</td> \n",
       "</tr>\n",
       "<tr>\n",
       "  <th>No. Observations:</th>      <td>  3003</td>      <th>  AIC:               </th> <td>   2562.</td> \n",
       "</tr>\n",
       "<tr>\n",
       "  <th>Df Residuals:</th>          <td>  2996</td>      <th>  BIC:               </th> <td>   2604.</td> \n",
       "</tr>\n",
       "<tr>\n",
       "  <th>Df Model:</th>              <td>     6</td>      <th>                     </th>     <td> </td>    \n",
       "</tr>\n",
       "<tr>\n",
       "  <th>Covariance Type:</th>      <td>nonrobust</td>    <th>                     </th>     <td> </td>    \n",
       "</tr>\n",
       "</table>\n",
       "<table class=\"simpletable\">\n",
       "<tr>\n",
       "      <td></td>         <th>coef</th>     <th>std err</th>      <th>t</th>      <th>P>|t|</th>  <th>[0.025</th>    <th>0.975]</th>  \n",
       "</tr>\n",
       "<tr>\n",
       "  <th>Intercept</th> <td>    5.0633</td> <td>    0.064</td> <td>   79.437</td> <td> 0.000</td> <td>    4.938</td> <td>    5.188</td>\n",
       "</tr>\n",
       "<tr>\n",
       "  <th>educ</th>      <td>    0.0712</td> <td>    0.003</td> <td>   20.438</td> <td> 0.000</td> <td>    0.064</td> <td>    0.078</td>\n",
       "</tr>\n",
       "<tr>\n",
       "  <th>exper</th>     <td>    0.0342</td> <td>    0.002</td> <td>   15.422</td> <td> 0.000</td> <td>    0.030</td> <td>    0.038</td>\n",
       "</tr>\n",
       "<tr>\n",
       "  <th>black</th>     <td>   -0.1660</td> <td>    0.018</td> <td>   -9.426</td> <td> 0.000</td> <td>   -0.201</td> <td>   -0.131</td>\n",
       "</tr>\n",
       "<tr>\n",
       "  <th>south</th>     <td>   -0.1316</td> <td>    0.015</td> <td>   -8.788</td> <td> 0.000</td> <td>   -0.161</td> <td>   -0.102</td>\n",
       "</tr>\n",
       "<tr>\n",
       "  <th>married</th>   <td>   -0.0359</td> <td>    0.003</td> <td>  -10.547</td> <td> 0.000</td> <td>   -0.043</td> <td>   -0.029</td>\n",
       "</tr>\n",
       "<tr>\n",
       "  <th>smsa</th>      <td>    0.1758</td> <td>    0.015</td> <td>   11.372</td> <td> 0.000</td> <td>    0.145</td> <td>    0.206</td>\n",
       "</tr>\n",
       "</table>\n",
       "<table class=\"simpletable\">\n",
       "<tr>\n",
       "  <th>Omnibus:</th>       <td>53.196</td> <th>  Durbin-Watson:     </th> <td>   1.858</td>\n",
       "</tr>\n",
       "<tr>\n",
       "  <th>Prob(Omnibus):</th> <td> 0.000</td> <th>  Jarque-Bera (JB):  </th> <td>  69.430</td>\n",
       "</tr>\n",
       "<tr>\n",
       "  <th>Skew:</th>          <td>-0.231</td> <th>  Prob(JB):          </th> <td>8.38e-16</td>\n",
       "</tr>\n",
       "<tr>\n",
       "  <th>Kurtosis:</th>      <td> 3.584</td> <th>  Cond. No.          </th> <td>    154.</td>\n",
       "</tr>\n",
       "</table><br/><br/>Notes:<br/>[1] Standard Errors assume that the covariance matrix of the errors is correctly specified."
      ],
      "text/plain": [
       "<class 'statsmodels.iolib.summary.Summary'>\n",
       "\"\"\"\n",
       "                            OLS Regression Results                            \n",
       "==============================================================================\n",
       "Dep. Variable:                  lwage   R-squared:                       0.305\n",
       "Model:                            OLS   Adj. R-squared:                  0.304\n",
       "Method:                 Least Squares   F-statistic:                     219.2\n",
       "Date:                Fri, 09 Dec 2022   Prob (F-statistic):          1.97e-232\n",
       "Time:                        17:14:16   Log-Likelihood:                -1273.9\n",
       "No. Observations:                3003   AIC:                             2562.\n",
       "Df Residuals:                    2996   BIC:                             2604.\n",
       "Df Model:                           6                                         \n",
       "Covariance Type:            nonrobust                                         \n",
       "==============================================================================\n",
       "                 coef    std err          t      P>|t|      [0.025      0.975]\n",
       "------------------------------------------------------------------------------\n",
       "Intercept      5.0633      0.064     79.437      0.000       4.938       5.188\n",
       "educ           0.0712      0.003     20.438      0.000       0.064       0.078\n",
       "exper          0.0342      0.002     15.422      0.000       0.030       0.038\n",
       "black         -0.1660      0.018     -9.426      0.000      -0.201      -0.131\n",
       "south         -0.1316      0.015     -8.788      0.000      -0.161      -0.102\n",
       "married       -0.0359      0.003    -10.547      0.000      -0.043      -0.029\n",
       "smsa           0.1758      0.015     11.372      0.000       0.145       0.206\n",
       "==============================================================================\n",
       "Omnibus:                       53.196   Durbin-Watson:                   1.858\n",
       "Prob(Omnibus):                  0.000   Jarque-Bera (JB):               69.430\n",
       "Skew:                          -0.231   Prob(JB):                     8.38e-16\n",
       "Kurtosis:                       3.584   Cond. No.                         154.\n",
       "==============================================================================\n",
       "\n",
       "Notes:\n",
       "[1] Standard Errors assume that the covariance matrix of the errors is correctly specified.\n",
       "\"\"\""
      ]
     },
     "execution_count": 48,
     "metadata": {},
     "output_type": "execute_result"
    }
   ],
   "source": [
    "#OLS\n",
    "ols_reg = sm.OLS.from_formula(\"lwage ~ educ + exper + black + south + married + smsa\", \n",
    "              data = Macro).fit()\n",
    "\n",
    "ols_reg.summary()"
   ]
  },
  {
   "cell_type": "markdown",
   "id": "87286311",
   "metadata": {},
   "source": [
    "En base a esta regresión realizada se concluye que nuestras variables son estadisticamente significativas dado que el p value es menor de 0.05 en todos los casos, lo cual indica que aportan todas a explicar el modelo. Ahora bien, se puede ver que mientras más años de estudios tengas más ingresos vas a percibir lo cual se entiende porque si estudias más estarás más preparado. Por otro lado, si la persona es afrodescendiente pues los ingresos se reducirán, al igual si por ejemplo te encuentras casado. SI se reside en el sur se espera que esta disminuya en aproximadamente 13%. "
   ]
  },
  {
   "cell_type": "markdown",
   "id": "50b4700f",
   "metadata": {},
   "source": [
    "#### Corran una regresion de tipo IV(usando el paquete IV2SLS) donde van a instrumentalizar la variable educ con nearc2 .\n",
    "\n",
    "#### Compare los resultados encontrados usando IV2SLS con la primera regresión. ¿Cambió el coeficiente relacionado a educ , por qué?"
   ]
  },
  {
   "cell_type": "code",
   "execution_count": 50,
   "id": "083a4a4e",
   "metadata": {},
   "outputs": [
    {
     "data": {
      "text/html": [
       "<table class=\"simpletable\">\n",
       "<caption>IV-2SLS Estimation Summary</caption>\n",
       "<tr>\n",
       "  <th>Dep. Variable:</th>          <td>lwage</td>      <th>  R-squared:         </th> <td>-1.3114</td>\n",
       "</tr>\n",
       "<tr>\n",
       "  <th>Estimator:</th>             <td>IV-2SLS</td>     <th>  Adj. R-squared:    </th> <td>-1.3160</td>\n",
       "</tr>\n",
       "<tr>\n",
       "  <th>No. Observations:</th>       <td>3010</td>       <th>  F-statistic:       </th> <td>289.62</td> \n",
       "</tr>\n",
       "<tr>\n",
       "  <th>Date:</th>             <td>Fri, Dec 09 2022</td> <th>  P-value (F-stat)   </th> <td>0.0000</td> \n",
       "</tr>\n",
       "<tr>\n",
       "  <th>Time:</th>                 <td>17:15:50</td>     <th>  Distribution:      </th> <td>chi2(6)</td>\n",
       "</tr>\n",
       "<tr>\n",
       "  <th>Cov. Estimator:</th>        <td>robust</td>      <th>                     </th>    <td></td>    \n",
       "</tr>\n",
       "<tr>\n",
       "  <th></th>                          <td></td>         <th>                     </th>    <td></td>    \n",
       "</tr>\n",
       "</table>\n",
       "<table class=\"simpletable\">\n",
       "<caption>Parameter Estimates</caption>\n",
       "<tr>\n",
       "      <td></td>      <th>Parameter</th> <th>Std. Err.</th> <th>T-stat</th>  <th>P-value</th> <th>Lower CI</th> <th>Upper CI</th>\n",
       "</tr>\n",
       "<tr>\n",
       "  <th>Intercept</th>  <td>0.1276</td>    <td>3.1412</td>   <td>0.0406</td>  <td>0.9676</td>   <td>-6.0290</td>  <td>6.2843</td> \n",
       "</tr>\n",
       "<tr>\n",
       "  <th>black</th>      <td>0.1134</td>    <td>0.1816</td>   <td>0.6244</td>  <td>0.5324</td>   <td>-0.2425</td>  <td>0.4692</td> \n",
       "</tr>\n",
       "<tr>\n",
       "  <th>exper</th>      <td>0.1515</td>    <td>0.0747</td>   <td>2.0274</td>  <td>0.0426</td>   <td>0.0050</td>   <td>0.2980</td> \n",
       "</tr>\n",
       "<tr>\n",
       "  <th>married</th>    <td>-0.0151</td>   <td>0.0147</td>   <td>-1.0258</td> <td>0.3050</td>   <td>-0.0438</td>  <td>0.0137</td> \n",
       "</tr>\n",
       "<tr>\n",
       "  <th>smsa</th>       <td>0.0201</td>    <td>0.1030</td>   <td>0.1949</td>  <td>0.8455</td>   <td>-0.1819</td>  <td>0.2220</td> \n",
       "</tr>\n",
       "<tr>\n",
       "  <th>south</th>      <td>-0.0319</td>   <td>0.0692</td>   <td>-0.4603</td> <td>0.6453</td>   <td>-0.1675</td>  <td>0.1038</td> \n",
       "</tr>\n",
       "<tr>\n",
       "  <th>educ</th>       <td>0.3618</td>    <td>0.1849</td>   <td>1.9562</td>  <td>0.0504</td>   <td>-0.0007</td>  <td>0.7243</td> \n",
       "</tr>\n",
       "</table><br/><br/>Endogenous: educ<br/>Instruments: nearc2<br/>Robust Covariance (Heteroskedastic)<br/>Debiased: False"
      ],
      "text/plain": [
       "<class 'linearmodels.compat.statsmodels.Summary'>\n",
       "\"\"\"\n",
       "                          IV-2SLS Estimation Summary                          \n",
       "==============================================================================\n",
       "Dep. Variable:                  lwage   R-squared:                     -1.3114\n",
       "Estimator:                    IV-2SLS   Adj. R-squared:                -1.3160\n",
       "No. Observations:                3010   F-statistic:                    289.62\n",
       "Date:                Fri, Dec 09 2022   P-value (F-stat)                0.0000\n",
       "Time:                        17:15:50   Distribution:                  chi2(6)\n",
       "Cov. Estimator:                robust                                         \n",
       "                                                                              \n",
       "                             Parameter Estimates                              \n",
       "==============================================================================\n",
       "            Parameter  Std. Err.     T-stat    P-value    Lower CI    Upper CI\n",
       "------------------------------------------------------------------------------\n",
       "Intercept      0.1276     3.1412     0.0406     0.9676     -6.0290      6.2843\n",
       "black          0.1134     0.1816     0.6244     0.5324     -0.2425      0.4692\n",
       "exper          0.1515     0.0747     2.0274     0.0426      0.0050      0.2980\n",
       "married       -0.0151     0.0147    -1.0258     0.3050     -0.0438      0.0137\n",
       "smsa           0.0201     0.1030     0.1949     0.8455     -0.1819      0.2220\n",
       "south         -0.0319     0.0692    -0.4603     0.6453     -0.1675      0.1038\n",
       "educ           0.3618     0.1849     1.9562     0.0504     -0.0007      0.7243\n",
       "==============================================================================\n",
       "\n",
       "Endogenous: educ\n",
       "Instruments: nearc2\n",
       "Robust Covariance (Heteroskedastic)\n",
       "Debiased: False\n",
       "\"\"\""
      ]
     },
     "execution_count": 50,
     "metadata": {},
     "output_type": "execute_result"
    }
   ],
   "source": [
    "Macro['married'] = Macro['married'].fillna(0)\n",
    "#2SLS\n",
    "iv_reg = IV2SLS.from_formula(\"lwage ~  1 + exper + black + south + married + smsa + [educ ~ nearc2 ]\", Macro).fit()\n",
    "iv_reg.summary"
   ]
  },
  {
   "cell_type": "markdown",
   "id": "8243240a",
   "metadata": {},
   "source": [
    "En este modelo Se puede ver que la unica variable significativa es expert porque es la unica que tiene un p value menor a 0.05. En esta se ha utilizado la cercania con los institutos de educación superiores a 2 años. Se puede ver que si es una persona negra aumenta en 11%, mientras que si esta casada disminuye en un 1%. Por otro lado, si es del sur se percibe que disminuye en un 3%.\n",
    "\n",
    "3)Además aumenta la variable educación en un 36%, lo cual demuestra que esta variable a aumentado en comparación al del otro grafico. F static es mucho mas grande\n",
    "\n"
   ]
  }
 ],
 "metadata": {
  "kernelspec": {
   "display_name": "Python 3 (ipykernel)",
   "language": "python",
   "name": "python3"
  },
  "language_info": {
   "codemirror_mode": {
    "name": "ipython",
    "version": 3
   },
   "file_extension": ".py",
   "mimetype": "text/x-python",
   "name": "python",
   "nbconvert_exporter": "python",
   "pygments_lexer": "ipython3",
   "version": "3.9.12"
  }
 },
 "nbformat": 4,
 "nbformat_minor": 5
}
