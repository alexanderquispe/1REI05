{
  "cells": [
    {
      "cell_type": "code",
      "execution_count": 9,
      "id": "5d0f1dc5",
      "metadata": {
        "id": "5d0f1dc5"
      },
      "outputs": [],
      "source": [
        "from causalgraphicalmodels import CausalGraphicalModel\n",
        "import os\n",
        "import numpy as np \n",
        "import pandas as pd \n",
        "import statsmodels.api as sm \n",
        "import statsmodels.formula.api as smf \n",
        "from itertools import combinations \n",
        "import plotnine as p\n",
        "import statsmodels.api as sm\n",
        "import statsmodels.formula.api as smf\n",
        "import linearmodels.iv.model as lm\n",
        "from linearmodels.iv import IV2SLS\n",
        "from statsmodels.iolib.summary2 import summary_col\n",
        "import seaborn as sns"
      ]
    },
    {
      "cell_type": "markdown",
      "id": "f045f6c9",
      "metadata": {
        "id": "f045f6c9"
      },
      "source": [
        "# Reporte N°8\n",
        "##### Nombre: Valeria Yesquén\n",
        "##### Código: 20202239\n"
      ]
    },
    {
      "cell_type": "markdown",
      "id": "6e211ef9",
      "metadata": {
        "id": "6e211ef9"
      },
      "source": [
        "## Ensayo\n",
        "\n",
        "El artículo se pregunta principalmente por el posible impacto que pueden haber tenido las mitas, que se dieron durante el periodo de 1573-1812, en nuestra sociedad peruana a largo plazo. En ese sentido, la autora plantea un análisis de datos recolectados por medio de encuentras a diversos hogares en las zonas sobre las, según los registros históricos, se instituyeron las mitas (Cordillera de los Andes - Sur del Perú). Asimismo, se aproxima a la data, a través de la aplicación de una regresión discontinua. \n",
        "\n",
        "Por consiguiente, la principal fortaleza de utilizar un enfoque de regresión discontinua (semiparamétrico, además), es que permite limitar la muestra y, por ende el análisis, a los distritos ubicados dentro de los cincuenta kilómetros del límite de la mita. De esa manera, es posible identificar los efectos causales, por medio de un modelo de regresión, pues permite distinguir entre el indicador de tratamiento (función no lineal y discontinua de longitud [x] y latitud [y]) y los efectos suaves de la ubicación geográfica. Sin embargo, el enfoque no termina de ser perfecto y por ende, existen debilidades. La principal, reconocida por la autora, es el hecho de que la encuesta realizada a los hogares determinados, brinda poca información para la estimación de modelos flexibles. No obstante, los datos que son agregados, ofrecen evidencia microeconómica conssitente con estudios que establecen una relación entre las instituciones históricas y los resultados económicos contemporáneos. \n",
        "\n",
        "Siguiendo esa línea, se puede decir que una de las principales contribuciones que tiene el artículo hacia la materia, es el hecho de que explora la variación en la asignación de una institución histótica en el Perú: mita; para identificar la tenencia de la tierra y los bienes públicos como canales de persistencia. En otras palabras, cubre el vacío en la materia, respecto a los efectos a largo plazo de la mita minera, pues los estudios hasta ese punto, solo se habían centrado en la manera en la que las instituciones históricas explican el subdesarrollo contemporáneo y el impacto de la historia en los resultados económicos, mas no en estos canales de persistencia. \n",
        "\n",
        "De igual manera, logra demostrar su hipótesis a cerca de la exitencia de una influencia ejercida por parte de la mita en el consumo doméstico, que ha persistido a través de sus impactos sobre la tenencia de la tierra y el aprovisionamiento de bienes públicos. En ese sentido, los resultados a los que se llegaron, demostraron que la mita ha generado efectos negativos a largo plazo en el consumo doméstico en las zonas donde fue instituida, generando una disminución del mismo, en un 25%. Asimismo, han incrementado el retraso del crecimiento de los niños en un 6%, así como, se demostró que su efecto persiste en canales como: la tenencia de la tierra, los bienes públicos y la participación en el mercado. Finalmente, la autora logró evidenciar, en el artículo, que el estudio de las restricciones acerca de la forma en la que el Estado puede ser utilizado para dar forma a las interacciones económicas es un punto útil. \n",
        "\n",
        "Por último, según Nunn (2020), de manera algo más general, la línea de investigación podría continuar, enfocandose en esta area emergente de investigación, que busca tener un mejor entendimiento de la realidad económica contemporánea, a la luz de una perspectiva histórica. Este enfoque plantea que muchas de las diferencias contemporáneas que se ven en la economía de desarrollo comparativa, tienen sus raíces en el pasado distante de los países y/o sociedades en cuestión. En ese sentido, esta vuelta que se le ha dado a la investigación en materia de desarrollo económico, ha resultado de especial importancia al momento de pensar y elaborar políticas que buscan abordar y promover el desarrollo global.\n",
        "\n",
        "Por otro lado, Acemoglu, Gallego y Robinson (2014) plantean una revisión a la relación entre las instituciones, el capital humano y el desarrollo. Los autores argumentan que los modelos empíricos que tratan las instituciones y el capital humano como exógenos están mal especificados, tanto por los habituales problemas de sesgo de variables omitidas como por el error de medición diferencial de estas variables, y que esta mala especificación es la causa de los elevadísimos rendimientos del capital humano, entre cuatro y cinco veces mayores que los implícitos en las estimaciones micro, encontrados en literatura anterior. En ese sentido, los autores emplean regresiones entre países y regiones para así, mostrar que cuando nos centramos en las diferencias históricas del capital humano y controlamos el efecto de las instituciones, el impacto de las instituciones en el desarrollo a largo plazo es significativo. Finalmente, también demuestran que las diferencias en materia de capital humano de los primeros colonos europeos, no fue un factor importante en el posterior desarrollo institucional de las antiguas colonias.\n",
        "\n",
        "### Referencias bibliográficas:\n",
        "\n",
        "- Nunn, N. (2020). The historical roots of economic development. Science, 367(6485), eaaz9986.\n",
        "\n",
        "- Acemoglu, D., Gallego, F. A., & Robinson, J. A. (2014). Institutions, human capital, and development. Annu. Rev. Econ., 6(1), 875-912."
      ]
    },
    {
      "cell_type": "markdown",
      "id": "14397543",
      "metadata": {
        "id": "14397543"
      },
      "source": [
        "## Instrumental Variables\n",
        "\n",
        "### - \"Relevance\"\n",
        "\n",
        "Este es uno de los dos supuestos que se deben cumplir para que el uso de las variables instrumentales funcionen. Este supuesto de relevancia implica que existe una parte de $X$, el tretamiento, es explicada o puede ser explicada por $Z$, el instrumento. Caso contrario, la variable instrumental no podría funcionar, pues $Z$ no podría explicar $X$, si es que no existe un parte de $X$ relacionada, o explicada en función de $Z$. Entonces, este supuesto implica que debemos asegurarnos que $Z$ realmente se relaciona con $X$, lo cual podemos comprobar con una simple observación sobre la relación entre ambas variables y ver qué tan fuerte es. En ese sentido, mientras más fuerte dicha relación, mayor confianza se tendrá sobre el supuesto de \"relevance\"\n",
        "\n",
        "### - \"Validity\"\n",
        "\n",
        "Este es el segundo de los dos supuestos que se deben cumplir para que el uso de las variables instrumentales funcionen. Este supuesto implica que instrumento es una variables que no tiene \"back doors\" abiertas por sí misma. En otras palabras, cualquier camino entre el instrumento $Z$ y el resultado $Y$ debe pasar por el tratamiento $X$ o estar cerrado. Además, se debe ser capaz de controlar todos esos \"caminos\". "
      ]
    },
    {
      "cell_type": "markdown",
      "source": [
        "## **Ploteo de Histogramas**"
      ],
      "metadata": {
        "id": "vqDadqP6g43z"
      },
      "id": "vqDadqP6g43z"
    },
    {
      "cell_type": "code",
      "source": [
        "import ssl\n",
        "ssl._create_default_https_context = ssl._create_unverified_context\n",
        "\n",
        "def read_data(file): \n",
        "    return pd.read_stata(\"https://raw.github.com/scunning1975/mixtape/master/\" + file)\n",
        "\n",
        "card = read_data(\"card.dta\")\n",
        "card.head()"
      ],
      "metadata": {
        "colab": {
          "base_uri": "https://localhost:8080/",
          "height": 300
        },
        "id": "7Aa6O-aVg064",
        "outputId": "b39c6620-5981-49b0-f0b0-13fad011de89"
      },
      "id": "7Aa6O-aVg064",
      "execution_count": 10,
      "outputs": [
        {
          "output_type": "execute_result",
          "data": {
            "text/plain": [
              "    id  nearc2  nearc4  educ   age  fatheduc  motheduc    weight  momdad14  \\\n",
              "0  2.0     0.0     0.0   7.0  29.0       NaN       NaN  158413.0       1.0   \n",
              "1  3.0     0.0     0.0  12.0  27.0       8.0       8.0  380166.0       1.0   \n",
              "2  4.0     0.0     0.0  12.0  34.0      14.0      12.0  367470.0       1.0   \n",
              "3  5.0     1.0     1.0  11.0  27.0      11.0      12.0  380166.0       1.0   \n",
              "4  6.0     1.0     1.0  12.0  34.0       8.0       7.0  367470.0       1.0   \n",
              "\n",
              "   sinmom14  ...   KWW     IQ  married  libcrd14  exper     lwage  expersq  \\\n",
              "0       0.0  ...  15.0    NaN      1.0       0.0   16.0  6.306275    256.0   \n",
              "1       0.0  ...  35.0   93.0      1.0       1.0    9.0  6.175867     81.0   \n",
              "2       0.0  ...  42.0  103.0      1.0       1.0   16.0  6.580639    256.0   \n",
              "3       0.0  ...  25.0   88.0      1.0       1.0   10.0  5.521461    100.0   \n",
              "4       0.0  ...  34.0  108.0      1.0       0.0   16.0  6.591674    256.0   \n",
              "\n",
              "    u_lwage  lwage_hat    u_educ  \n",
              "0  0.198047   6.108228 -3.067539  \n",
              "1 -0.211160   6.387027 -1.727562  \n",
              "2  0.204719   6.375920  1.012975  \n",
              "3 -0.967905   6.489366 -2.253536  \n",
              "4  0.125173   6.466501  1.090437  \n",
              "\n",
              "[5 rows x 37 columns]"
            ],
            "text/html": [
              "\n",
              "  <div id=\"df-63e4b69d-2d25-41e8-92d6-3f2dc16e1597\">\n",
              "    <div class=\"colab-df-container\">\n",
              "      <div>\n",
              "<style scoped>\n",
              "    .dataframe tbody tr th:only-of-type {\n",
              "        vertical-align: middle;\n",
              "    }\n",
              "\n",
              "    .dataframe tbody tr th {\n",
              "        vertical-align: top;\n",
              "    }\n",
              "\n",
              "    .dataframe thead th {\n",
              "        text-align: right;\n",
              "    }\n",
              "</style>\n",
              "<table border=\"1\" class=\"dataframe\">\n",
              "  <thead>\n",
              "    <tr style=\"text-align: right;\">\n",
              "      <th></th>\n",
              "      <th>id</th>\n",
              "      <th>nearc2</th>\n",
              "      <th>nearc4</th>\n",
              "      <th>educ</th>\n",
              "      <th>age</th>\n",
              "      <th>fatheduc</th>\n",
              "      <th>motheduc</th>\n",
              "      <th>weight</th>\n",
              "      <th>momdad14</th>\n",
              "      <th>sinmom14</th>\n",
              "      <th>...</th>\n",
              "      <th>KWW</th>\n",
              "      <th>IQ</th>\n",
              "      <th>married</th>\n",
              "      <th>libcrd14</th>\n",
              "      <th>exper</th>\n",
              "      <th>lwage</th>\n",
              "      <th>expersq</th>\n",
              "      <th>u_lwage</th>\n",
              "      <th>lwage_hat</th>\n",
              "      <th>u_educ</th>\n",
              "    </tr>\n",
              "  </thead>\n",
              "  <tbody>\n",
              "    <tr>\n",
              "      <th>0</th>\n",
              "      <td>2.0</td>\n",
              "      <td>0.0</td>\n",
              "      <td>0.0</td>\n",
              "      <td>7.0</td>\n",
              "      <td>29.0</td>\n",
              "      <td>NaN</td>\n",
              "      <td>NaN</td>\n",
              "      <td>158413.0</td>\n",
              "      <td>1.0</td>\n",
              "      <td>0.0</td>\n",
              "      <td>...</td>\n",
              "      <td>15.0</td>\n",
              "      <td>NaN</td>\n",
              "      <td>1.0</td>\n",
              "      <td>0.0</td>\n",
              "      <td>16.0</td>\n",
              "      <td>6.306275</td>\n",
              "      <td>256.0</td>\n",
              "      <td>0.198047</td>\n",
              "      <td>6.108228</td>\n",
              "      <td>-3.067539</td>\n",
              "    </tr>\n",
              "    <tr>\n",
              "      <th>1</th>\n",
              "      <td>3.0</td>\n",
              "      <td>0.0</td>\n",
              "      <td>0.0</td>\n",
              "      <td>12.0</td>\n",
              "      <td>27.0</td>\n",
              "      <td>8.0</td>\n",
              "      <td>8.0</td>\n",
              "      <td>380166.0</td>\n",
              "      <td>1.0</td>\n",
              "      <td>0.0</td>\n",
              "      <td>...</td>\n",
              "      <td>35.0</td>\n",
              "      <td>93.0</td>\n",
              "      <td>1.0</td>\n",
              "      <td>1.0</td>\n",
              "      <td>9.0</td>\n",
              "      <td>6.175867</td>\n",
              "      <td>81.0</td>\n",
              "      <td>-0.211160</td>\n",
              "      <td>6.387027</td>\n",
              "      <td>-1.727562</td>\n",
              "    </tr>\n",
              "    <tr>\n",
              "      <th>2</th>\n",
              "      <td>4.0</td>\n",
              "      <td>0.0</td>\n",
              "      <td>0.0</td>\n",
              "      <td>12.0</td>\n",
              "      <td>34.0</td>\n",
              "      <td>14.0</td>\n",
              "      <td>12.0</td>\n",
              "      <td>367470.0</td>\n",
              "      <td>1.0</td>\n",
              "      <td>0.0</td>\n",
              "      <td>...</td>\n",
              "      <td>42.0</td>\n",
              "      <td>103.0</td>\n",
              "      <td>1.0</td>\n",
              "      <td>1.0</td>\n",
              "      <td>16.0</td>\n",
              "      <td>6.580639</td>\n",
              "      <td>256.0</td>\n",
              "      <td>0.204719</td>\n",
              "      <td>6.375920</td>\n",
              "      <td>1.012975</td>\n",
              "    </tr>\n",
              "    <tr>\n",
              "      <th>3</th>\n",
              "      <td>5.0</td>\n",
              "      <td>1.0</td>\n",
              "      <td>1.0</td>\n",
              "      <td>11.0</td>\n",
              "      <td>27.0</td>\n",
              "      <td>11.0</td>\n",
              "      <td>12.0</td>\n",
              "      <td>380166.0</td>\n",
              "      <td>1.0</td>\n",
              "      <td>0.0</td>\n",
              "      <td>...</td>\n",
              "      <td>25.0</td>\n",
              "      <td>88.0</td>\n",
              "      <td>1.0</td>\n",
              "      <td>1.0</td>\n",
              "      <td>10.0</td>\n",
              "      <td>5.521461</td>\n",
              "      <td>100.0</td>\n",
              "      <td>-0.967905</td>\n",
              "      <td>6.489366</td>\n",
              "      <td>-2.253536</td>\n",
              "    </tr>\n",
              "    <tr>\n",
              "      <th>4</th>\n",
              "      <td>6.0</td>\n",
              "      <td>1.0</td>\n",
              "      <td>1.0</td>\n",
              "      <td>12.0</td>\n",
              "      <td>34.0</td>\n",
              "      <td>8.0</td>\n",
              "      <td>7.0</td>\n",
              "      <td>367470.0</td>\n",
              "      <td>1.0</td>\n",
              "      <td>0.0</td>\n",
              "      <td>...</td>\n",
              "      <td>34.0</td>\n",
              "      <td>108.0</td>\n",
              "      <td>1.0</td>\n",
              "      <td>0.0</td>\n",
              "      <td>16.0</td>\n",
              "      <td>6.591674</td>\n",
              "      <td>256.0</td>\n",
              "      <td>0.125173</td>\n",
              "      <td>6.466501</td>\n",
              "      <td>1.090437</td>\n",
              "    </tr>\n",
              "  </tbody>\n",
              "</table>\n",
              "<p>5 rows × 37 columns</p>\n",
              "</div>\n",
              "      <button class=\"colab-df-convert\" onclick=\"convertToInteractive('df-63e4b69d-2d25-41e8-92d6-3f2dc16e1597')\"\n",
              "              title=\"Convert this dataframe to an interactive table.\"\n",
              "              style=\"display:none;\">\n",
              "        \n",
              "  <svg xmlns=\"http://www.w3.org/2000/svg\" height=\"24px\"viewBox=\"0 0 24 24\"\n",
              "       width=\"24px\">\n",
              "    <path d=\"M0 0h24v24H0V0z\" fill=\"none\"/>\n",
              "    <path d=\"M18.56 5.44l.94 2.06.94-2.06 2.06-.94-2.06-.94-.94-2.06-.94 2.06-2.06.94zm-11 1L8.5 8.5l.94-2.06 2.06-.94-2.06-.94L8.5 2.5l-.94 2.06-2.06.94zm10 10l.94 2.06.94-2.06 2.06-.94-2.06-.94-.94-2.06-.94 2.06-2.06.94z\"/><path d=\"M17.41 7.96l-1.37-1.37c-.4-.4-.92-.59-1.43-.59-.52 0-1.04.2-1.43.59L10.3 9.45l-7.72 7.72c-.78.78-.78 2.05 0 2.83L4 21.41c.39.39.9.59 1.41.59.51 0 1.02-.2 1.41-.59l7.78-7.78 2.81-2.81c.8-.78.8-2.07 0-2.86zM5.41 20L4 18.59l7.72-7.72 1.47 1.35L5.41 20z\"/>\n",
              "  </svg>\n",
              "      </button>\n",
              "      \n",
              "  <style>\n",
              "    .colab-df-container {\n",
              "      display:flex;\n",
              "      flex-wrap:wrap;\n",
              "      gap: 12px;\n",
              "    }\n",
              "\n",
              "    .colab-df-convert {\n",
              "      background-color: #E8F0FE;\n",
              "      border: none;\n",
              "      border-radius: 50%;\n",
              "      cursor: pointer;\n",
              "      display: none;\n",
              "      fill: #1967D2;\n",
              "      height: 32px;\n",
              "      padding: 0 0 0 0;\n",
              "      width: 32px;\n",
              "    }\n",
              "\n",
              "    .colab-df-convert:hover {\n",
              "      background-color: #E2EBFA;\n",
              "      box-shadow: 0px 1px 2px rgba(60, 64, 67, 0.3), 0px 1px 3px 1px rgba(60, 64, 67, 0.15);\n",
              "      fill: #174EA6;\n",
              "    }\n",
              "\n",
              "    [theme=dark] .colab-df-convert {\n",
              "      background-color: #3B4455;\n",
              "      fill: #D2E3FC;\n",
              "    }\n",
              "\n",
              "    [theme=dark] .colab-df-convert:hover {\n",
              "      background-color: #434B5C;\n",
              "      box-shadow: 0px 1px 3px 1px rgba(0, 0, 0, 0.15);\n",
              "      filter: drop-shadow(0px 1px 2px rgba(0, 0, 0, 0.3));\n",
              "      fill: #FFFFFF;\n",
              "    }\n",
              "  </style>\n",
              "\n",
              "      <script>\n",
              "        const buttonEl =\n",
              "          document.querySelector('#df-63e4b69d-2d25-41e8-92d6-3f2dc16e1597 button.colab-df-convert');\n",
              "        buttonEl.style.display =\n",
              "          google.colab.kernel.accessAllowed ? 'block' : 'none';\n",
              "\n",
              "        async function convertToInteractive(key) {\n",
              "          const element = document.querySelector('#df-63e4b69d-2d25-41e8-92d6-3f2dc16e1597');\n",
              "          const dataTable =\n",
              "            await google.colab.kernel.invokeFunction('convertToInteractive',\n",
              "                                                     [key], {});\n",
              "          if (!dataTable) return;\n",
              "\n",
              "          const docLinkHtml = 'Like what you see? Visit the ' +\n",
              "            '<a target=\"_blank\" href=https://colab.research.google.com/notebooks/data_table.ipynb>data table notebook</a>'\n",
              "            + ' to learn more about interactive tables.';\n",
              "          element.innerHTML = '';\n",
              "          dataTable['output_type'] = 'display_data';\n",
              "          await google.colab.output.renderOutput(dataTable, element);\n",
              "          const docLink = document.createElement('div');\n",
              "          docLink.innerHTML = docLinkHtml;\n",
              "          element.appendChild(docLink);\n",
              "        }\n",
              "      </script>\n",
              "    </div>\n",
              "  </div>\n",
              "  "
            ]
          },
          "metadata": {},
          "execution_count": 10
        }
      ]
    },
    {
      "cell_type": "code",
      "source": [
        "sns.displot(card, x = \"educ\", col = \"nearc4\", discrete=True, color = \n",
        "            \"#7CFC00\")"
      ],
      "metadata": {
        "colab": {
          "base_uri": "https://localhost:8080/",
          "height": 386
        },
        "id": "McAX9cSCg4KQ",
        "outputId": "088f762d-5d47-4758-cc7f-5588a875b111"
      },
      "id": "McAX9cSCg4KQ",
      "execution_count": 8,
      "outputs": [
        {
          "output_type": "execute_result",
          "data": {
            "text/plain": [
              "<seaborn.axisgrid.FacetGrid at 0x7fdb3f6761d0>"
            ]
          },
          "metadata": {},
          "execution_count": 8
        },
        {
          "output_type": "display_data",
          "data": {
            "text/plain": [
              "<Figure size 720x360 with 2 Axes>"
            ],
            "image/png": "[encoded data removed]"
          },
          "metadata": {
            "needs_background": "light"
          }
        }
      ]
    },
    {
      "cell_type": "markdown",
      "source": [
        "En estos gráficos, se compara los niveles de educación alcanzados, en base a la variable \"cercanía a un college de 4 años **(nearc4)**\". \n",
        "\n",
        "Teniendo en cuenta que cuando dicha situación se da, la variable adopta el valor de 1 y cuando no, el valor de 0, podemos identificar, observando los gráficos, que existe un mayor nivel de educación alcanzado, cuando los hombres se encuentran viviendo relativamente cerca a un college de 4 años. "
      ],
      "metadata": {
        "id": "XRVKqLfChCd5"
      },
      "id": "XRVKqLfChCd5"
    },
    {
      "cell_type": "code",
      "source": [
        "sns.displot(card, x=\"lwage\", col = \"nearc4\", color = \n",
        "            \"#CD00CD\")"
      ],
      "metadata": {
        "colab": {
          "base_uri": "https://localhost:8080/",
          "height": 386
        },
        "id": "LipD8zXNg-02",
        "outputId": "cc5894f9-0566-483c-fd57-e8796f792356"
      },
      "id": "LipD8zXNg-02",
      "execution_count": 11,
      "outputs": [
        {
          "output_type": "execute_result",
          "data": {
            "text/plain": [
              "<seaborn.axisgrid.FacetGrid at 0x7f7d26170a10>"
            ]
          },
          "metadata": {},
          "execution_count": 11
        },
        {
          "output_type": "display_data",
          "data": {
            "text/plain": [
              "<Figure size 720x360 with 2 Axes>"
            ],
            "image/png": "[encoded data removed]"
          },
          "metadata": {
            "needs_background": "light"
          }
        }
      ]
    },
    {
      "cell_type": "markdown",
      "source": [
        "En este caso, se compara el nivel de ingresos alcanzado, en base a la variable \"cercanía a un college de 4 años\".\n",
        "\n",
        "En ese sentido, se observa, al igual que en el caso interior, que los hombres perciben un mayor nivel de ingresos, cuando se encuentran o viven cerca a estos college de 4 años.\n",
        "\n",
        "Entonces, se puede decir, que en base a dicha observación, las probabilidades de percibir mayores ingresos durante la vida adulta, aumentan cuando los sujetos viven cerca a estas instituciones. "
      ],
      "metadata": {
        "id": "B9Aue6N4hJ9P"
      },
      "id": "B9Aue6N4hJ9P"
    },
    {
      "cell_type": "markdown",
      "source": [
        "## **Regresiones**"
      ],
      "metadata": {
        "id": "zpufJQxthLVF"
      },
      "id": "zpufJQxthLVF"
    },
    {
      "cell_type": "code",
      "source": [
        "ols_reg = sm.OLS.from_formula(\"lwage ~ educ + exper + black + south + married + smsa\", \n",
        "              data = card).fit()\n",
        "\n",
        "ols_reg.summary()"
      ],
      "metadata": {
        "colab": {
          "base_uri": "https://localhost:8080/",
          "height": 558
        },
        "id": "ww6TWzInhFT7",
        "outputId": "64a2fc3e-843b-4c72-f3f0-96c4c2caa076"
      },
      "id": "ww6TWzInhFT7",
      "execution_count": 12,
      "outputs": [
        {
          "output_type": "execute_result",
          "data": {
            "text/plain": [
              "<class 'statsmodels.iolib.summary.Summary'>\n",
              "\"\"\"\n",
              "                            OLS Regression Results                            \n",
              "==============================================================================\n",
              "Dep. Variable:                  lwage   R-squared:                       0.305\n",
              "Model:                            OLS   Adj. R-squared:                  0.304\n",
              "Method:                 Least Squares   F-statistic:                     219.2\n",
              "Date:                Sun, 13 Nov 2022   Prob (F-statistic):          1.97e-232\n",
              "Time:                        06:30:31   Log-Likelihood:                -1273.9\n",
              "No. Observations:                3003   AIC:                             2562.\n",
              "Df Residuals:                    2996   BIC:                             2604.\n",
              "Df Model:                           6                                         \n",
              "Covariance Type:            nonrobust                                         \n",
              "==============================================================================\n",
              "                 coef    std err          t      P>|t|      [0.025      0.975]\n",
              "------------------------------------------------------------------------------\n",
              "Intercept      5.0633      0.064     79.437      0.000       4.938       5.188\n",
              "educ           0.0712      0.003     20.438      0.000       0.064       0.078\n",
              "exper          0.0342      0.002     15.422      0.000       0.030       0.038\n",
              "black         -0.1660      0.018     -9.426      0.000      -0.201      -0.131\n",
              "south         -0.1316      0.015     -8.788      0.000      -0.161      -0.102\n",
              "married       -0.0359      0.003    -10.547      0.000      -0.043      -0.029\n",
              "smsa           0.1758      0.015     11.372      0.000       0.145       0.206\n",
              "==============================================================================\n",
              "Omnibus:                       53.196   Durbin-Watson:                   1.858\n",
              "Prob(Omnibus):                  0.000   Jarque-Bera (JB):               69.430\n",
              "Skew:                          -0.231   Prob(JB):                     8.38e-16\n",
              "Kurtosis:                       3.584   Cond. No.                         154.\n",
              "==============================================================================\n",
              "\n",
              "Notes:\n",
              "[1] Standard Errors assume that the covariance matrix of the errors is correctly specified.\n",
              "\"\"\""
            ],
            "text/html": [
              "<table class=\"simpletable\">\n",
              "<caption>OLS Regression Results</caption>\n",
              "<tr>\n",
              "  <th>Dep. Variable:</th>          <td>lwage</td>      <th>  R-squared:         </th> <td>   0.305</td> \n",
              "</tr>\n",
              "<tr>\n",
              "  <th>Model:</th>                   <td>OLS</td>       <th>  Adj. R-squared:    </th> <td>   0.304</td> \n",
              "</tr>\n",
              "<tr>\n",
              "  <th>Method:</th>             <td>Least Squares</td>  <th>  F-statistic:       </th> <td>   219.2</td> \n",
              "</tr>\n",
              "<tr>\n",
              "  <th>Date:</th>             <td>Sun, 13 Nov 2022</td> <th>  Prob (F-statistic):</th> <td>1.97e-232</td>\n",
              "</tr>\n",
              "<tr>\n",
              "  <th>Time:</th>                 <td>06:30:31</td>     <th>  Log-Likelihood:    </th> <td> -1273.9</td> \n",
              "</tr>\n",
              "<tr>\n",
              "  <th>No. Observations:</th>      <td>  3003</td>      <th>  AIC:               </th> <td>   2562.</td> \n",
              "</tr>\n",
              "<tr>\n",
              "  <th>Df Residuals:</th>          <td>  2996</td>      <th>  BIC:               </th> <td>   2604.</td> \n",
              "</tr>\n",
              "<tr>\n",
              "  <th>Df Model:</th>              <td>     6</td>      <th>                     </th>     <td> </td>    \n",
              "</tr>\n",
              "<tr>\n",
              "  <th>Covariance Type:</th>      <td>nonrobust</td>    <th>                     </th>     <td> </td>    \n",
              "</tr>\n",
              "</table>\n",
              "<table class=\"simpletable\">\n",
              "<tr>\n",
              "      <td></td>         <th>coef</th>     <th>std err</th>      <th>t</th>      <th>P>|t|</th>  <th>[0.025</th>    <th>0.975]</th>  \n",
              "</tr>\n",
              "<tr>\n",
              "  <th>Intercept</th> <td>    5.0633</td> <td>    0.064</td> <td>   79.437</td> <td> 0.000</td> <td>    4.938</td> <td>    5.188</td>\n",
              "</tr>\n",
              "<tr>\n",
              "  <th>educ</th>      <td>    0.0712</td> <td>    0.003</td> <td>   20.438</td> <td> 0.000</td> <td>    0.064</td> <td>    0.078</td>\n",
              "</tr>\n",
              "<tr>\n",
              "  <th>exper</th>     <td>    0.0342</td> <td>    0.002</td> <td>   15.422</td> <td> 0.000</td> <td>    0.030</td> <td>    0.038</td>\n",
              "</tr>\n",
              "<tr>\n",
              "  <th>black</th>     <td>   -0.1660</td> <td>    0.018</td> <td>   -9.426</td> <td> 0.000</td> <td>   -0.201</td> <td>   -0.131</td>\n",
              "</tr>\n",
              "<tr>\n",
              "  <th>south</th>     <td>   -0.1316</td> <td>    0.015</td> <td>   -8.788</td> <td> 0.000</td> <td>   -0.161</td> <td>   -0.102</td>\n",
              "</tr>\n",
              "<tr>\n",
              "  <th>married</th>   <td>   -0.0359</td> <td>    0.003</td> <td>  -10.547</td> <td> 0.000</td> <td>   -0.043</td> <td>   -0.029</td>\n",
              "</tr>\n",
              "<tr>\n",
              "  <th>smsa</th>      <td>    0.1758</td> <td>    0.015</td> <td>   11.372</td> <td> 0.000</td> <td>    0.145</td> <td>    0.206</td>\n",
              "</tr>\n",
              "</table>\n",
              "<table class=\"simpletable\">\n",
              "<tr>\n",
              "  <th>Omnibus:</th>       <td>53.196</td> <th>  Durbin-Watson:     </th> <td>   1.858</td>\n",
              "</tr>\n",
              "<tr>\n",
              "  <th>Prob(Omnibus):</th> <td> 0.000</td> <th>  Jarque-Bera (JB):  </th> <td>  69.430</td>\n",
              "</tr>\n",
              "<tr>\n",
              "  <th>Skew:</th>          <td>-0.231</td> <th>  Prob(JB):          </th> <td>8.38e-16</td>\n",
              "</tr>\n",
              "<tr>\n",
              "  <th>Kurtosis:</th>      <td> 3.584</td> <th>  Cond. No.          </th> <td>    154.</td>\n",
              "</tr>\n",
              "</table><br/><br/>Notes:<br/>[1] Standard Errors assume that the covariance matrix of the errors is correctly specified."
            ]
          },
          "metadata": {},
          "execution_count": 12
        }
      ]
    },
    {
      "cell_type": "markdown",
      "source": [
        "En base a los resultados del OLS, se observa que por cada año adicional de estudios cursado, los ingresos de los sujetos aumentan en un aproximado de 7.1%. Asismismo, la experiencia también aumenta el ingreso de estos en un 3.4%, aproximadamente. \n",
        "\n",
        "Sin embargo, también se observan relaciones negativas. Por ejemplo, el hecho de ser de \"raza\" negra, perjudica al nivel de ingresos percibido, reduciendo este en un aproximado de 16.6%. De igual forma, la tasa de proximidad de las universidades también varía, siendo menor en el sur. Por lo tanto, como ya se estableció arriba, con los gráficos, mientras más proximidad a los colleges, mayores sus tasas de educación e ingresos. Entonces, en los resultados del OLS, se puede ver que el vivir en el sur afecta negativamente el nivel de ingresos, reduciéndolos en un aproximado de 13.1%. Por el contrario, el hecho de vivir en una zona metropolitana (smsa) afecta positivamente al nivel de ingresos, pues estos puede aumentar en un aproximado de 17.6%.  "
      ],
      "metadata": {
        "id": "W1w7vz8PhbRl"
      },
      "id": "W1w7vz8PhbRl"
    },
    {
      "cell_type": "code",
      "source": [
        "# There are null values in the dataset, we will fill them with 0\n",
        "card['married'] = card['married'].fillna(0)"
      ],
      "metadata": {
        "id": "QHLpgelkhO8T"
      },
      "id": "QHLpgelkhO8T",
      "execution_count": 13,
      "outputs": []
    },
    {
      "cell_type": "code",
      "source": [
        "sns.histplot(data=card, x=\"nearc2\")"
      ],
      "metadata": {
        "colab": {
          "base_uri": "https://localhost:8080/",
          "height": 296
        },
        "id": "Co5y8aWhhtLo",
        "outputId": "6d6ac534-c827-400d-968f-865f9ab24247"
      },
      "id": "Co5y8aWhhtLo",
      "execution_count": 14,
      "outputs": [
        {
          "output_type": "execute_result",
          "data": {
            "text/plain": [
              "<matplotlib.axes._subplots.AxesSubplot at 0x7f7d229e1450>"
            ]
          },
          "metadata": {},
          "execution_count": 14
        },
        {
          "output_type": "display_data",
          "data": {
            "text/plain": [
              "<Figure size 432x288 with 1 Axes>"
            ],
            "image/png": "[encoded data removed]"
          },
          "metadata": {
            "needs_background": "light"
          }
        }
      ]
    },
    {
      "cell_type": "code",
      "source": [
        "iv_reg = IV2SLS.from_formula(\"lwage ~  1 + exper + black + south + married + smsa + [educ ~ nearc2 ]\", card).fit()\n",
        "iv_reg.summary"
      ],
      "metadata": {
        "colab": {
          "base_uri": "https://localhost:8080/",
          "height": 463
        },
        "id": "5J_FMCDehyan",
        "outputId": "b09545f6-1e61-4782-dcc8-c3f6bbd74927"
      },
      "id": "5J_FMCDehyan",
      "execution_count": 15,
      "outputs": [
        {
          "output_type": "execute_result",
          "data": {
            "text/plain": [
              "<class 'linearmodels.compat.statsmodels.Summary'>\n",
              "\"\"\"\n",
              "                          IV-2SLS Estimation Summary                          \n",
              "==============================================================================\n",
              "Dep. Variable:                  lwage   R-squared:                     -1.3114\n",
              "Estimator:                    IV-2SLS   Adj. R-squared:                -1.3160\n",
              "No. Observations:                3010   F-statistic:                    289.62\n",
              "Date:                Sun, Nov 13 2022   P-value (F-stat)                0.0000\n",
              "Time:                        06:30:41   Distribution:                  chi2(6)\n",
              "Cov. Estimator:                robust                                         \n",
              "                                                                              \n",
              "                             Parameter Estimates                              \n",
              "==============================================================================\n",
              "            Parameter  Std. Err.     T-stat    P-value    Lower CI    Upper CI\n",
              "------------------------------------------------------------------------------\n",
              "Intercept      0.1276     3.1412     0.0406     0.9676     -6.0290      6.2843\n",
              "black          0.1134     0.1816     0.6244     0.5324     -0.2425      0.4692\n",
              "exper          0.1515     0.0747     2.0274     0.0426      0.0050      0.2980\n",
              "married       -0.0151     0.0147    -1.0258     0.3050     -0.0438      0.0137\n",
              "smsa           0.0201     0.1030     0.1949     0.8455     -0.1819      0.2220\n",
              "south         -0.0319     0.0692    -0.4603     0.6453     -0.1675      0.1038\n",
              "educ           0.3618     0.1849     1.9562     0.0504     -0.0007      0.7243\n",
              "==============================================================================\n",
              "\n",
              "Endogenous: educ\n",
              "Instruments: nearc2\n",
              "Robust Covariance (Heteroskedastic)\n",
              "Debiased: False\n",
              "\"\"\""
            ],
            "text/html": [
              "<table class=\"simpletable\">\n",
              "<caption>IV-2SLS Estimation Summary</caption>\n",
              "<tr>\n",
              "  <th>Dep. Variable:</th>          <td>lwage</td>      <th>  R-squared:         </th> <td>-1.3114</td>\n",
              "</tr>\n",
              "<tr>\n",
              "  <th>Estimator:</th>             <td>IV-2SLS</td>     <th>  Adj. R-squared:    </th> <td>-1.3160</td>\n",
              "</tr>\n",
              "<tr>\n",
              "  <th>No. Observations:</th>       <td>3010</td>       <th>  F-statistic:       </th> <td>289.62</td> \n",
              "</tr>\n",
              "<tr>\n",
              "  <th>Date:</th>             <td>Sun, Nov 13 2022</td> <th>  P-value (F-stat)   </th> <td>0.0000</td> \n",
              "</tr>\n",
              "<tr>\n",
              "  <th>Time:</th>                 <td>06:30:41</td>     <th>  Distribution:      </th> <td>chi2(6)</td>\n",
              "</tr>\n",
              "<tr>\n",
              "  <th>Cov. Estimator:</th>        <td>robust</td>      <th>                     </th>    <td></td>    \n",
              "</tr>\n",
              "<tr>\n",
              "  <th></th>                          <td></td>         <th>                     </th>    <td></td>    \n",
              "</tr>\n",
              "</table>\n",
              "<table class=\"simpletable\">\n",
              "<caption>Parameter Estimates</caption>\n",
              "<tr>\n",
              "      <td></td>      <th>Parameter</th> <th>Std. Err.</th> <th>T-stat</th>  <th>P-value</th> <th>Lower CI</th> <th>Upper CI</th>\n",
              "</tr>\n",
              "<tr>\n",
              "  <th>Intercept</th>  <td>0.1276</td>    <td>3.1412</td>   <td>0.0406</td>  <td>0.9676</td>   <td>-6.0290</td>  <td>6.2843</td> \n",
              "</tr>\n",
              "<tr>\n",
              "  <th>black</th>      <td>0.1134</td>    <td>0.1816</td>   <td>0.6244</td>  <td>0.5324</td>   <td>-0.2425</td>  <td>0.4692</td> \n",
              "</tr>\n",
              "<tr>\n",
              "  <th>exper</th>      <td>0.1515</td>    <td>0.0747</td>   <td>2.0274</td>  <td>0.0426</td>   <td>0.0050</td>   <td>0.2980</td> \n",
              "</tr>\n",
              "<tr>\n",
              "  <th>married</th>    <td>-0.0151</td>   <td>0.0147</td>   <td>-1.0258</td> <td>0.3050</td>   <td>-0.0438</td>  <td>0.0137</td> \n",
              "</tr>\n",
              "<tr>\n",
              "  <th>smsa</th>       <td>0.0201</td>    <td>0.1030</td>   <td>0.1949</td>  <td>0.8455</td>   <td>-0.1819</td>  <td>0.2220</td> \n",
              "</tr>\n",
              "<tr>\n",
              "  <th>south</th>      <td>-0.0319</td>   <td>0.0692</td>   <td>-0.4603</td> <td>0.6453</td>   <td>-0.1675</td>  <td>0.1038</td> \n",
              "</tr>\n",
              "<tr>\n",
              "  <th>educ</th>       <td>0.3618</td>    <td>0.1849</td>   <td>1.9562</td>  <td>0.0504</td>   <td>-0.0007</td>  <td>0.7243</td> \n",
              "</tr>\n",
              "</table><br/><br/>Endogenous: educ<br/>Instruments: nearc2<br/>Robust Covariance (Heteroskedastic)<br/>Debiased: False"
            ]
          },
          "metadata": {},
          "execution_count": 15
        }
      ]
    },
    {
      "cell_type": "markdown",
      "source": [
        "En este caso, estimamos el 2SLS, en base a la variable instrumental **(nearc2: cercanía a college de 2 años)**. \n",
        "\n",
        "Observando estos datos, encontramos que por cada año adicional de estudios cursado, los ingresos de los sujetos aumentan en un aproximado de 36.1%, resultados mayores al anterior. Asimismo, el valor del F statictic excede 15, por lo tanto, no se puede hablar de que exista un problema de instrumento débil.\n",
        "\n",
        "En ese sentido, se puede decir que la variable instrumental tiene resultado, por eso los cambios en los coeficientes de la variable \"educación\", pues, el incluir una variable como la **nearc2**, explica el real impacto que posee la educación en el nivel de ingresos percibido por los sujetos. Esto, porque mientras estén cerca a estos colleges, sus posibilidades de alcanzar mayores niveles de educación aumenta. Por ende, al momento de hablar del impacto que tiene cada año adicional de estudios cursado en los ingresos percibidos, el coeficiente aumenta, indicando que a mayor nivel de educación, mayores serán los ingresos percibidos en el futuro. "
      ],
      "metadata": {
        "id": "TC1XBpvwiVY2"
      },
      "id": "TC1XBpvwiVY2"
    }
  ],
  "metadata": {
    "kernelspec": {
      "display_name": "Python 3 (ipykernel)",
      "language": "python",
      "name": "python3"
    },
    "language_info": {
      "codemirror_mode": {
        "name": "ipython",
        "version": 3
      },
      "file_extension": ".py",
      "mimetype": "text/x-python",
      "name": "python",
      "nbconvert_exporter": "python",
      "pygments_lexer": "ipython3",
      "version": "3.9.12"
    },
    "colab": {
      "provenance": []
    }
  },
  "nbformat": 4,
  "nbformat_minor": 5
}