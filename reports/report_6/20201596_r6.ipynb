{
 "cells": [
  {
   "cell_type": "markdown",
   "id": "7f9918b9",
   "metadata": {},
   "source": [
    "# Reporte 6"
   ]
  },
  {
   "cell_type": "markdown",
   "id": "a78b180b",
   "metadata": {},
   "source": [
    "## Reporte"
   ]
  },
  {
   "cell_type": "markdown",
   "id": "17c8e4cf",
   "metadata": {},
   "source": [
    "La pregunta de investigación de este artículo centra su preocupación en la gran diferencia entre los niveles de aplicación a universidades competitivas por parte de estudiantes de altos y bajos ingresos, ambos con altos niveles de rendimiento. Principalmente, adjudicándolo a su diferencia socio-económica, mas sobre todo al desconocimiento por parte de los estudiantes de bajos ingresos (y sus familias) de la complejidad e incertidumbre en las admisiones y las ayudas financieras a las cuales pueden estos acceder al presentarse como candidatos. \n",
    "\n",
    "Una fortaleza en la investigación es que, al ser la economía y el ‘funding’ de los estudiantes a lo largo de la carrera una de las principales preocupaciones por parte de las familias de estos, es que prueba adecuadamente el nivel y calidad del desconocimiento por parte de estos sujetos. Ya que en tanto es una, si no la mayor, inquietud de los candidatos es que poco se puede decir inicialmente que no investigan mucho la financiación en la universidad a que quieren acceder, lo que prueba las fallas burocráticas o de acceso a la información de admisión en su totalidad. Por lo cual el elegir a la ayuda económica como materia de prueba demuestra perfectamente la hipótesis, mas aun siendo que en ningún momento aumentaba la cantidad de lo que la beca valía. \n",
    "\n",
    "No obstante, es que una de las debilidades que se pueden encontrar en el ‘paper’ refiere principalmente a la muestra estudiada. Ya que si bien ha demostrado ser de gran ayuda para los estudiantes de esa universidad en particular es que no lo extrapola a otras, o menciona siquiera si es que alguna clase de iniciativa similar se ha llevado a cabo en otra institución con un mismo nivel de competitividad. Más aún es que en ningún momento se explica porqué es que la Universidad de Michigan o el programa HAIL resulta representativa del resto de universidades o instituciones prestigiosas de un calibre similar. \n",
    "\n",
    "Mas bajo la línea de pensamiento y planteamiento que tienen los autores, en conjunto con los resultados que se desdoblan de este estudio es que concluyen adecuadamente que este es un modelo que se debe de aplicar, la difusión de la información de admisión y ayuda económica que ofrecen las universidades competitivas, con el fin de que estudiantes con altos niveles de desempeño con un nivel bajo de ingresos puedan acceder a sus instituciones educativas. Pues el desconocimiento y la incertidumbre del complejo proceso de la admisión universitaria lleva a ‘biases’ que esta información ayuda a alivianar o eliminar de plano. Por lo cual implementar este sistema en otras instituciones sería óptimo y una contribución no solo al sistema educativo, tal vez no solo estadounidense, sino que, si se prueba adecuado y efectivo, incluso internacionalmente.  \n",
    "\n",
    "Es por ello que para poder avanzar en este proceso es que se debe de estudiar adecuadamente otras instituciones educativas y tratar de implementar este modelo, cada vez en mayor escala. Es decir, básicamente, probar la falibilidad de esta teoría para poder implementarla y generar reales cambios en el sistema educativo. Pues este no es solo un problema que se encuentra en USA, ya que se podría incluso a exportar a países como Chile, donde este problema también es existente, como lo demuestra el ‘paper’ de Carpentier y Román (2022). La solución asimismo radica en campañas difusoras de información, particularmente focalizadas en estudiantes vulnerables y de género femenino. \n",
    "\n",
    "\n",
    "Bibliografía:\n",
    "Carpentier & Román (2022) \n",
    "https://www.iesalc.unesco.org/ess/index.php/ess3/article/view/v34i1-30\n"
   ]
  }
 ],
 "metadata": {
  "kernelspec": {
   "display_name": "Python 3 (ipykernel)",
   "language": "python",
   "name": "python3"
  },
  "language_info": {
   "codemirror_mode": {
    "name": "ipython",
    "version": 3
   },
   "file_extension": ".py",
   "mimetype": "text/x-python",
   "name": "python",
   "nbconvert_exporter": "python",
   "pygments_lexer": "ipython3",
   "version": "3.9.13"
  }
 },
 "nbformat": 4,
 "nbformat_minor": 5
}
