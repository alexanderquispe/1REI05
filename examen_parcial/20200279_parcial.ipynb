{
 "cells": [
  {
   "cell_type": "markdown",
   "id": "8bef0a4b",
   "metadata": {},
   "source": [
    "# Examen Parcial"
   ]
  },
  {
   "cell_type": "markdown",
   "id": "1de24ae2",
   "metadata": {},
   "source": [
    "Nombre: Greysi Milagros Arrelucea Castañeda (20200279)"
   ]
  },
  {
   "cell_type": "markdown",
   "id": "e3e9bac9",
   "metadata": {},
   "source": [
    "## Teoría (11 puntos)"
   ]
  },
  {
   "cell_type": "markdown",
   "id": "e0a8d0cb",
   "metadata": {},
   "source": [
    "#### 1. (2 puntos) Defina el Multiplicador Keynesiano y dé un ejemplo de cómo influye este en el modelo Ingreso-Gasto Keynesiano."
   ]
  },
  {
   "cell_type": "markdown",
   "id": "b70d6a2a",
   "metadata": {},
   "source": [
    "Un cambio en la magnitud de cualquiera de los componentes autónomos de la demanda \n",
    "agregada (que conforman el intercepto), genera un proceso multiplicador del ingreso \n",
    "hasta converger al nuevo ingreso y producto de equilibrio. Así, el aumento multiplicado \n",
    "del ingreso es resultado de los efectos directos e indirectos ocasionados por el aumento \n",
    "de cualquiera de los componentes autónomos de la demanda agregada.\n"
   ]
  },
  {
   "cell_type": "markdown",
   "id": "74328aa2",
   "metadata": {},
   "source": [
    "$$k = \\frac{1}{1 - (b - m)(1 - t)} $$"
   ]
  },
  {
   "cell_type": "markdown",
   "id": "28feef68",
   "metadata": {},
   "source": [
    "Notese que el tamaño de este multiplicador depende de la magnitud de los ˜parámetros “ b”, “m” y “t”. Las filtraciones de demanda son las que reducen su tamano: Estas se expresan en la propension marginal a ahorrar, la propensión marginal a importar y la tasa promedio de impuestos."
   ]
  },
  {
   "cell_type": "markdown",
   "id": "a07b6430",
   "metadata": {},
   "source": [
    "Ejemplo: Cambio en $b$ \n",
    "Cuanto más alta es la propensión marginal a consumir (o cuanto más baja es la propensión marginal a ahorrar), mayor es el multiplicador. Por ejemplo, un aumento de la propension marginal a consumir, aumenta la pendiente de DA. En este caso la recta de la DA gira en el sentido contrario a la rotacion de las agujas del reloj, manteniendo su intercepto constante. El aumento de la propension marginal a consumir, “b”, aumenta el tamaño del multiplicador, aumenta la pendiente de la DA y reduce la pendiente de la curva IS. \n"
   ]
  },
  {
   "cell_type": "markdown",
   "id": "03333847",
   "metadata": {},
   "source": [
    "#### 2. (2 puntos) Grafique y explique cúando sucede un exceso y déficit de demanda en el modelo Ingreso-Gasto. Señale las áreas donde ocurre cada caso. Explique cómo se converge al equilibrio a partir de estos dos escenarios."
   ]
  },
  {
   "cell_type": "code",
   "execution_count": 5,
   "id": "3816b72f",
   "metadata": {},
   "outputs": [],
   "source": [
    "import ipywidgets as widgets\n",
    "import matplotlib.pyplot as plt\n",
    "import numpy as np\n",
    "import sympy as sy\n",
    "import pandas as pd\n",
    "from causalgraphicalmodels import CausalGraphicalModel"
   ]
  },
  {
   "cell_type": "code",
   "execution_count": 6,
   "id": "f22f5861",
   "metadata": {},
   "outputs": [],
   "source": [
    "# Parámetros\n",
    "\n",
    "Y_size = 100 \n",
    "\n",
    "Co = 35\n",
    "Io = 40\n",
    "Go = 70\n",
    "Xo = 2\n",
    "h = 0.7\n",
    "b = 0.8\n",
    "m = 0.2\n",
    "t = 0.3\n",
    "\n",
    "Y = np.arange(Y_size)\n",
    "\n",
    "\n",
    "# Ecuación \n",
    "def r_IS(b, m, t, Co, Io, Go, Xo, h, Y):\n",
    "    r_IS = (Co + Io + Go + Xo - Y * (1-(b-m)*(1-t)))/h\n",
    "    return r_IS\n",
    "\n",
    "r = r_IS(b, m, t, Co, Io, Go, Xo, h, Y)"
   ]
  },
  {
   "cell_type": "code",
   "execution_count": 7,
   "id": "7f7427f4",
   "metadata": {},
   "outputs": [
    {
     "data": {
      "image/png": "[encoded data removed]",
      "text/plain": [
       "<Figure size 720x576 with 1 Axes>"
      ]
     },
     "metadata": {},
     "output_type": "display_data"
    }
   ],
   "source": [
    "# Gráfico: Curva IS\n",
    "# Dimensiones del gráfico\n",
    "y_max = np.max(r)\n",
    "fig, ax = plt.subplots(figsize=(10, 8))\n",
    "ax.yaxis.set_major_locator(plt.NullLocator())   \n",
    "ax.xaxis.set_major_locator(plt.NullLocator())\n",
    "\n",
    "ax.plot(Y, r, label = \"IS\", color = \"#40e0d0\") \n",
    "\n",
    "#Líneas punteadas\n",
    "ax.axvline(x = 70.5, ymin= 0, ymax = 0.45, linestyle = \":\", color = \"#add8e6\")\n",
    "ax.axvline(x = 54,  ymin= 0, ymax = 0.45, linestyle = \":\", color = \"#add8e6\")\n",
    "ax.axvline(x = 37,  ymin= 0, ymax = 0.45, linestyle = \":\", color = \"#add8e6\")\n",
    "plt.axhline(y = 165, xmin= 0, xmax = 0.693, linestyle = \":\", color = \"#add8e6\")\n",
    "\n",
    "#Títulos, ejes y leyenda\n",
    "ax.text(71, 128, '$Y_B$', fontsize = 12, color = 'blue')\n",
    "ax.text(55, 128, '$Y_A$', fontsize = 12, color = 'blue')\n",
    "ax.text(38, 128, '$Y_C$', fontsize = 12, color = 'blue')\n",
    "ax.text(1, 167, '$r_A$', fontsize = 12, color = 'blue')\n",
    "ax.text(71, 166, 'B', fontsize = 12, color = 'blue')\n",
    "ax.text(55, 166, 'A', fontsize = 12, color = 'blue')\n",
    "ax.text(38, 166, 'C', fontsize = 12, color = 'blue')\n",
    "#Coordenadas de excesos\n",
    "ax.text(70, 180, '$Exceso de Oferta$', fontsize = 12, color = 'black')\n",
    "ax.text(34, 150, '$Exceso de Demanda$', fontsize = 12, color = 'black')\n",
    "\n",
    "ax.set(title = \"Equilibrio y desequilibrio en el Mercado de Bienes\", xlabel= 'Y', ylabel= 'r')\n",
    "ax.legend()\n",
    "\n",
    "plt.show()"
   ]
  },
  {
   "cell_type": "markdown",
   "id": "04db75b8",
   "metadata": {},
   "source": [
    "La Demanda agregada (DA) es un locus de puntos de equilibrio que relaciona inversamente el nivel de precios con las cantidades demandas. Puede definirse como el total de compras de productos y servicios de una economía realizada por consumidores, gobierno, empresas y el resto del mundo a un determinado nivel de precios.\n",
    "\n",
    "En este sentido, se produce un exceso de demanda cuando la demanda agregada es mayor que el nivel de producción. Esto sucede, por ejemplo, cuando el gobierno fija precios máximos de ventas, a un precio inferior al precio de equilibrio de mercado. Un exceso de demanda generará una disminución de los inventarios y aumentos de la producción hasta converger al equilibrio. \n",
    "\n",
    "Por otro lado, el déficit de demanda sucede cuando la producción es mayor a la demanda agregada. Esto sucede cuando la balanza de pagos de un país presenta un resultado negativo debido a que las transacciones que implican salida de divisas superan a las transacciones que implican una entrada de estas. Este exceso de producción provoca un aumento de los inventarios, lo que llevará a disminuciones de la producción hasta alcanzar el equilibrio. \n",
    " \n"
   ]
  },
  {
   "cell_type": "markdown",
   "id": "013b87dc",
   "metadata": {},
   "source": [
    "#### 3. (2 puntos) ¿Cuáles son las herramientas de política fiscal y política monetaria? Dea un ejemplo para cada una de ellas dentro del contexto peruano. Coloque su fuente en caso sea necesario. (Solo necesita 1 para pol. Fiscal y 1 para Monetaria)."
   ]
  },
  {
   "cell_type": "markdown",
   "id": "14fbf34a",
   "metadata": {},
   "source": [
    "##### Herramientas de política fiscal\n",
    "\n",
    "Las herramientas de la política fiscal son la tasa impositiva ($t$), referida a la tributación, el gasto del gobierno ($G$), y también se considera a las transferencias TR. Todas son variables exógenas que influyen en el modelo ingreso-gasto y, por ende, pueden ser utilizadas para estabilizar las fluctuaciones del producto. \n",
    "\n",
    "Un ejemplo claro del uso de las herramientas fiscales en el contexto peruano se ubica en el periodo de la pandemia. Se anunciaron diversas medidas de alivio tributario que buscaron proveer liquidez, a fin de estimular el dinamismo del mercado y el consumo nacional. Las modificaciones tributarias estuvieron centradas en la postergación de pagos del impuesto sobre la renta de los hogares, así como facilidades de pago como, por ejemplo, la posibilidad de pagar en cuotas sin que esto genere en un mayor pago por sanciones o intereses.\n",
    " \n",
    "Fuente: https://ideasparaelfuturo.caf.com/media/3011/peru-ganador-10567_peru-_la-implementacio-n-de-una-poli-tica-fiscal-eficiente.pdf\n",
    " \n",
    "\n",
    "##### Herramientas de política monetaria\n",
    "\n",
    "El Banco Central de Reserva del Perú es el encargado de gestionar la política monetaria del Perú y lo realiza mediante tres herramientas: la oferta monetaria, el coeficiente legal de encaje y la tasa de interés (r). \n",
    "\n",
    "En primer lugar, la oferta monetaria es la herramienta por la cual el BCRP ejecuta la compra o venta de activos financieros a los bancos comerciales. Así, la compra de activos o bonos genera una el aumento de la oferta monetaria, por lo que se le denomina política monetaria expansiva. En cambio, la venta de bonos y el retiro del dinero de la economía genera una reducción de la oferta monetaria, a esta práctica se le denomina política monetaria contractiva. \n",
    "\n",
    "Por otro lado, el coeficiente legal de encaje también puede ser usado para implementar políticas expansivas o contractivas. En el primer caso, la disminución de la tasa de encaje aumenta el dinero disponible por los bancos y, por ende, su capacidad de realizar préstamos. En cambio, una política monetaria contractiva se realiza mediante el aumento de la tasa de encaje, la cual reduce el multiplicador bancario, disminuyéndose la oferta monetaria.  \n",
    "\n",
    "Por último, la tasa de interés (r) es un instrumento que entiende la oferta monetaria como una variable endógena. De este modo, cuando se reduce la tasa de interés de referencia, la cantidad de dinero prestada a los bancos comerciales y la base monetaria aumenta, consiguiéndose un incremento en la oferta monetaria, este es el caso de una política expansiva. Por el contrario, el aumento de la tasa de referencia genera una disminución en la cantidad de dinero prestada a los bancos comerciales y en la base monetaria, lo que reduce la oferta monetaria, es decir, se produce una política contractiva. \n",
    " \n",
    "Por ejemplo, durante la pandemia, en marzo de 2020, el BCRP redujo la tasa de encaje en soles de 5,0 a 4,0, y el requerimiento mínimo de cuenta corriente de 1,0 por ciento a 0,75 por ciento del TOSE, con el objetivo de flexibilizar las condiciones financieras en soles. Ello formó parte de las medidas de política monetaria tomadas por el BCRP en respuesta a la crisis del Covid-19.\n",
    " \n",
    "Fuente: https://www.bcrp.gob.pe/docs/Transparencia/Notas-Informativas/2021/nota-informativa-2021-08-31.pdf\n",
    " "
   ]
  },
  {
   "cell_type": "markdown",
   "id": "51352d36",
   "metadata": {},
   "source": [
    "#### 4. (2) Explique qué funciones del dinero respaldan el éxito de de Yape y Plin(Aplicativos moviles para intercambio de dinero)."
   ]
  },
  {
   "cell_type": "markdown",
   "id": "afdf1a12",
   "metadata": {},
   "source": [
    "El dinero funciona principalmente como medio de intercambio, medio de pago y reserva de valor. La primera función se refiere a la capacidad del dinero para actuar como un medio que facilita el intercambio de bienes y servicios. Además, el dinero es un medio de pago mediante el cual se pueden cancelar deudas, como compras; o servicios, como agua, luz o internet. Finalmente, sirve como reserva de valor en tanto es un medio para mantener la riqueza. \n",
    "\n",
    "\n",
    "En este sentido, el éxito de los aplicativos móviles de Yape y Plin se explica porque ambos permiten el cumplimiento de todas estas funciones y lo hacen con suma efectividad y eficiencia. Esto se debe, en parte, a que una de las características de estas herramientas digitales es que utilizan la unidad de cuenta universal en sus transacciones, lo que les permite realizar las funciones del dinero con mucha más facilidad. Así, dado que la mayoría de personas cuentan con smartphones, las transacciones de intercambios pueden ser realizadas de manera inmediata y en cualquier lugar con acceso a internet. Del mismo modo, se pueden realizar pagos de distintos productos y/o servicios con mayor rapidez y seguridad. Adicionalmente, permiten eliminar ciertas desventajas del dinero tradicional como la durabilidad y el reconocimiento. Precisamente, Yape y Plin funcionan como una billetera digital, pues las personas pueden contar con una reserva de dinero que no se deteriora al transcurrir el tiempo, además de ser dinero que pueden tener a su disposición cuando gusten, sin tener que preocuparse por tener que cargar con dinero físico por el simple de hecho de llevar sus celulares. \n",
    "\n"
   ]
  },
  {
   "cell_type": "markdown",
   "id": "1988161c",
   "metadata": {},
   "source": [
    "#### 5. (3 puntos) Cuáles son las conclusiones principales del paper de Dancurt \"Inflation Targeting in Peru: The Reasons for the Success\""
   ]
  },
  {
   "cell_type": "markdown",
   "id": "9ef67426",
   "metadata": {},
   "source": [
    "El paper de Dancurt analiza los principales instrumentos de la política monetaria peruana en el periodo de 2002-2013. Específicamente, la tasa de interés de corto plazo fijada por el banco central, el coeficiente de encaje legal en moneda nacional y extranjera, y la intervención esterilizada en el mercado de divisas. El estudio se centra especialmente en el canal del crédito y el canal del tipo de cambio, por ser los canales de la política monetaria más influyentes en la economía del país. \n",
    "\n",
    "En primer lugar, la investigación demuestra que el banco central peruano adoptó dos políticas monetarias que fueron trascendentales en la estabilidad macroeconómica durante el periodo 2002-20013: la implementación de un sistema de metas de inflación y la acumulación de suficientes reservas de divisas. Sobre el enfrentamiento de la crisis de 2008-2009, el paper hace hincapié en no olvidar las lecciones aprendidas: el banco central debe reducir la tasa de interés de referencia y vender moneda extranjera en respuesta a shocks externos adversos. Por otro lado, el banco central debe subir la tasa de interés y comprar moneda extranjera en respuesta a choques externos favorables. Concluye que estas políticas fueron las más convenientes para estabilizar el nivel de precios, cuidar el pleno empleo y la actividad económica y así evitar recesiones severas, tanto en contextos internacionales favorables como desfavorables. \n",
    "\n",
    "Asimismo, el paper demuestra que las políticas monetarias restrictivas han tenido efectos contraproducentes en el enfrentamiento de choques externos negativos en la historia de la macroeconomía peruana, de modo que estas deben ser evitadas. Finalmente, para prevenir crisis bancarias, se recomienda que el banco central limite el endeudamiento externo de los bancos comerciales y que coloque requisitos de reserva más altos a la deuda externa de los bancos comerciales.\n",
    "\n"
   ]
  },
  {
   "cell_type": "code",
   "execution_count": null,
   "id": "2ee199d3",
   "metadata": {},
   "outputs": [],
   "source": []
  }
 ],
 "metadata": {
  "kernelspec": {
   "display_name": "Python 3 (ipykernel)",
   "language": "python",
   "name": "python3"
  },
  "language_info": {
   "codemirror_mode": {
    "name": "ipython",
    "version": 3
   },
   "file_extension": ".py",
   "mimetype": "text/x-python",
   "name": "python",
   "nbconvert_exporter": "python",
   "pygments_lexer": "ipython3",
   "version": "3.9.12"
  }
 },
 "nbformat": 4,
 "nbformat_minor": 5
}
