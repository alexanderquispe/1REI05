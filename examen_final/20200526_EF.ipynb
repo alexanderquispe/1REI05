{
 "cells": [
  {
   "cell_type": "markdown",
   "id": "0088541f",
   "metadata": {},
   "source": [
    "# Examen Final\n",
    "\n",
    "Estudiante: Claudia Katherine Milla Rojas\n",
    "\n",
    "Código: 20200526\n",
    "\n",
    "## Teoría (10 puntos)\n",
    "\n"
   ]
  },
  {
   "cell_type": "markdown",
   "id": "e8babdbc",
   "metadata": {},
   "source": [
    "### Pregunta 1: Instrumental Variables (IV)\n",
    "\n",
    "Suponga que estamos interesados en estudiar la relación entre educación(X) y el nivel de ingresos(Y).\n",
    "Un investigador propone utilizar como variable instrumental(Z) el numero de horas que una persona utilizó para ver televisión cuando era niño.\n",
    "\n",
    "- Indentifique todos los elementos necesarios para implementar un enfoque de IV en este ejemplo.\n",
    "\n",
    "En el presente ejemplo, los elementos necesarios para implementar un enfoque de IV son los supuestos, los cuales se denominan \"Validity\" y \"Relevance\", y son necesarios para que las variables funcionen. De esta manera, se comenzará analizando el supuesto de la validez del instrumento. Este consiste en la suposición de que el instrumento $Z$ es una variable que no tiene puertas abiertas propias, ya que cualquier procedimiento que se realice entre el instrumento $Z$ y el resultado $Y$ debe pasar por el tratamiento $X$. Por ende, se le considera como el supuesto más tenso de los dos. De manera intuitiva, se podría entender de la siguiente manera:\n",
    "$$ Z → X → Y$$\n",
    "$$ Z → X ← A → Y $$\n",
    "$$ Z ← C → X ← D → Y $$\n",
    "\n",
    "De esta forma, si lo aplicamos al caso presentado se entiende que el número de horas que una persona empleó para ver la televisión cuando era niño (la variable instrumental $Z$) debería ser una variable que no tenga puertas abiertas propias, por lo que cualquier procedimiento que se realice entre $Z$ y $Y$ (nivel de ingresos) debería pasar por la variable $X$ (educación). Así, se podrá obtener la relación causal entre las variables de educación (X) y el nivel de ingresos (Y). Del mismo modo, aplicando el backdoor criterion, Si podemos cerrar todas los backdoor paths abiertos, podremos aislar el efecto causal de X en Y. Esto debería verse de la siguiente manera, en donde las variables A, D y C (además de considerar la variable X = educación) son variables que deberían controlarse para que, así, podamos controlar toda la variable (la ecuación) entera y, así, también ayudar a cerrar los backdoor paths. Cuando se han cerrado todos los backdoor paths, decimos que hemos hecho un diseño de investigación que satisface el backdoor criterion. \n",
    "$$ Z → X → Y$$\n",
    "$$ Z → A → Y $$\n",
    "$$ Z ← C → X ← D → Y $$\n",
    "\n",
    "En segundo lugar, el supuesto de relevancia del instrumento consiste en que la variable $X$ debe tener una relación con el instrumento $Z$, ya que de no ser así las variables instrumentales no funcionan, puesto a que en las variables instrumentales se usa la parte $X$ (el tratamiento) que es explicada por $Z$ (el instrumento). De esta forma, se entiende que habrá más confianza en la suposición de relevancia mientras más fuerte sea la relación entre $X$ (la educación) y $Z$ (el número de horas que una persona empleó para ver la televisión cuando era niño), pero también saltará menos la estimación de una muestra a otra. De esta forma, al observar que cuando el instrumento $Z$ cumple con los dos supuestos mecionados se puede decir que es válido, por lo que se implementa el enfoque de IV correctamente.  "
   ]
  },
  {
   "cell_type": "markdown",
   "id": "c8858b73",
   "metadata": {},
   "source": [
    "- Explique el procedimiento para encontrar el efecto causal en este escenario. Puede utilizar ecuaciones\n"
   ]
  },
  {
   "cell_type": "markdown",
   "id": "1e9f4eba",
   "metadata": {},
   "source": [
    "Para encontrar el efecto causal en este escenario se comenzó implementando los supuestos del enfoque de IV para determinar si las variables mencionadas funcionan. De esta forma, al observar que sí se cumplen, estamos afirmando que existe una correlación entre el número de horas que una persona empleó para ver la televisión cuando era niño (la variable instrumental $Z$ y la variable de educación ($X$): \n",
    "$$ Z → X$$\n",
    "\n",
    "Asimismo, en cuanto a la variable $Y$, se puede mencionar que si bien inicialmente habia un efecto causal entre la relación entre educación(X) y el nivel de ingresos(Y), aquello no significa que exista una correlación entre el instrumento $Z$ y la variable $Y$, pues es de una sola dirección, es acíclico. "
   ]
  },
  {
   "cell_type": "markdown",
   "id": "d97e3b43",
   "metadata": {},
   "source": [
    "- ¿El efecto de la educación sobre el nivel de ingresos es positivo o negativo? Argumente si los resultados serian causales o solamente de correlación"
   ]
  },
  {
   "cell_type": "markdown",
   "id": "9abfb9d3",
   "metadata": {},
   "source": [
    "EL efecto de la educación sobre el nivel de ingresos es positivo, pues desde una perspectiva general y lógica es comprensible que al recibir una mejor educación las personas tengan mayores niveles de ingresos al conseguir mayores y mejores oportunidades laborales. Asimismo, al introducir el instrumento $Z$ se puede observar que, al mismo tiempo, existe una relación de causalidad entre $X$ y $Y$, pues se demostró que el instrumento $Z$ era válida al analizarla mediante los supuestos requeridos. De esta forma, se evidencia que efectivamente, se introduce un intrumento $Z$ con el fin de eliminar los sesgos en la ecuación $X$ → $Y$. Esto lo hace debido a que, primero, se identifica como una variable que podría influir en las variables dependientes y, luego, cierra los backdoor paths para lograr hallar la relación causal entre las mismas. "
   ]
  },
  {
   "cell_type": "markdown",
   "id": "db424b48",
   "metadata": {},
   "source": [
    "### Pregunta 2: Regression Discontinuity Design (RDD)"
   ]
  },
  {
   "cell_type": "markdown",
   "id": "f28e0aef",
   "metadata": {},
   "source": [
    "Supongamos que estamos estudiando la eficacia de un programa de becas creado por el gobierno Peruano sobre las notas de los alumnos al final del primer semestre en la universidad. PRONABEC ha decidido que entregará becas a aquellos postulantes que tengan un promedio superior durante la secundaria igual a 16 ."
   ]
  },
  {
   "cell_type": "markdown",
   "id": "94f5ac0e",
   "metadata": {},
   "source": [
    "- Identifique todos los elementos necesarios para implementar un RDD en este ejemplo.\n"
   ]
  },
  {
   "cell_type": "markdown",
   "id": "95e5a9b8",
   "metadata": {},
   "source": [
    "Los elementos necesarios en el diseño de regresión discontinua (RDD) incluye los siguientes. En primer lugar, se tiene que determinar la running variable. En este caso, vendría a ser las notas de los alumnos al final del primer semestre en la universidad. En segundo lugar, el efecto de tratamiento en este diseño se realiza mediante una variación que este en torno al \"cutoff\". El cutoff se entiende como un punto de corte que aisla y, así, permite identificar al grupo de tratamiento. En el presenta caso, el grupo consiste en aquellos estudiantes que tengan un promedio superior en la secundaria igual a 16. De esta forma, el cutoff nos ayuda a identificar si los alumnos son parte de este grupo de tratamiento o no. Es decir, si es que son posibles ganadores de las becas otorgadas por PRONABEC o no. Por último, debemos identificar el bandwidth, el cual incluye al intervalo de los elementos que se emplearán en el estudio. No obstante, esto dependerá del investigador. A modo de opinión propia, considero que se podrían tomar a un grupo de los estudiantes que tengan promedio de 16 y observar la forma en que estos se desempeñan en el ámbito académico luego de recibir la beca. Así, se podría llegar a distintas conclusiones, una de ellas podría ser que se reduzcan el número de estudiantes mediante un aumento de la nota mínima.  \n",
    "\n"
   ]
  },
  {
   "cell_type": "markdown",
   "id": "c2069972",
   "metadata": {},
   "source": [
    "- Explique el procedimiento para encontrar el efecto causal en este escenario. Puede utilizar ecuaciones.\n"
   ]
  },
  {
   "cell_type": "code",
   "execution_count": null,
   "id": "2fad6f45",
   "metadata": {},
   "outputs": [],
   "source": []
  },
  {
   "cell_type": "markdown",
   "id": "b1b178a7",
   "metadata": {},
   "source": [
    "- ¿El efecto de la politica sobre el rendimiento de los estudiantes sería positivo o negativo (solo necesitan usar su intuición)? Argumente si los resultados serian causales o solamente de correlación ."
   ]
  },
  {
   "cell_type": "markdown",
   "id": "184f72d7",
   "metadata": {},
   "source": [
    "El efecto de la política sobre el rendimiento de los estudiantes seria algo positivo, pues la implementación de becas supone una oportunidad incluso para aquellos estudiantes que destacan en el ámbito académico, pero que no tienen los suficientes recursos como para seguir explotando su potencial. Asimismo, debido a que las becas son otorgadas a estudiantes destacables académicamente, aquello serviría como un incentivo para que sigan estudiando y, así, puedan seguir buscando nuevas oportunidades. Esto incluso beneficia al país en particular, pues contaríamos con mayores profesionales. De esta forma, podemos concluir que los resultados obtenidos son de forma causal, pues una variable tiene efecto en la otra. Como se había mencionado, depende el resultado de si se obtiene una beca o no del grupo de control, pues este puede poseer una nota mayor o inferior al la del cutoff. "
   ]
  },
  {
   "cell_type": "markdown",
   "id": "f2f4bf18",
   "metadata": {},
   "source": [
    "### Pregunta 3: Difference in Difference (DiD)"
   ]
  },
  {
   "cell_type": "markdown",
   "id": "a466155e",
   "metadata": {},
   "source": [
    "- Identifique todos los elementos necesarios para implementar un DiD en este ejemplo.\n",
    "\n",
    "Se deben identificar las regiones a estudiar. En este caso, se incluye a Lima y Puno. De esta forma, se puede identificar una relación que podría ser de causalidad. Sin embargo, para ello es necesario realizar una diferencia entre ambas regiones. "
   ]
  },
  {
   "cell_type": "markdown",
   "id": "2cf34e51",
   "metadata": {},
   "source": [
    "### Pregunta 4: Lecturas"
   ]
  },
  {
   "cell_type": "markdown",
   "id": "057a0ef6",
   "metadata": {},
   "source": [
    "- Bell, A., Chetty, R., Jaravel, X., Petkova, N., & Van Reenen, J. (2019). Who becomes an inventor in America? The importance of exposure to innovation. The Quarterly Journal of Economics, 134(2), 647-713., ¿Cuáles son las debilidades del enfoque del paper para responder su pregunta de investigación?"
   ]
  },
  {
   "cell_type": "markdown",
   "id": "01f5a25d",
   "metadata": {},
   "source": [
    "Una primera debilidad del artículo es que sus conclusiones no necesariamente pueden ser extrapoladas a las otras ciudades de Estados Unidos. En este sentido, se observó que los autores se centraron en estudiar los distritos de la ciudad de Nueva York y los puntajes de las pruebas en la infancia para las personas que asistieron a escuelas públicas en aquella ciudad. Esto resulta interesante, pues abarca aproximadamente 2,5 millones de niños. Sin embargo, el no incluir otras ciudades al igual de importantes puede afectar el análisis, pero a su vez genera que el estudio sea reducido a una sola ciudad, lo cual limita sus posibilidades de hallazgos.\n",
    "\n",
    "Además, como segunda debilidad, no se tienen en cuenta variables externas que podrían haber afectado los resultados. Por ejemplo, en el caso mencionado anteriormente, vivir en una ciudad a diferencia de otra podría afectar aquello debido a que cada ciudad cuenta con características particulares al ser un país tan grande. Inclusive, si se encuentran en estados distintos supone que tengan leyes distintas, como por ejemplo la cantidad de porcentaje de impuestos que se debe pagar."
   ]
  },
  {
   "cell_type": "markdown",
   "id": "bba4b871",
   "metadata": {},
   "source": [
    "- Dell, M. (2010). The persistent effects of Peru's mining mita. Econometrica, 78(6), 1863-1903, ¿Cuáles serían dos próximos pasos específicos para avanzar en su pregunta de investigación?"
   ]
  },
  {
   "cell_type": "markdown",
   "id": "f85d4698",
   "metadata": {},
   "source": [
    "El presente artículo de Melissa Dell estudia los impactos a largo plazo de la mita minera, un sistema de trabajo obligatorio llevado a cabo en 1573 por los españoles en el Perú. De esta manera, el texto responde a la siguiente pregunta de investigación: ¿Cuáles son los impactos que la mita minera pudo tener a largo plazo en el desarrollo económico y cómo ello afectó a los actuales niveles de vida? \n",
    "\n",
    "De esta forma, un primer paso específico para avanzar en su pregunta de investigación puede incluir investigar sobre acontecimientos del pasado que puedan haber tenido un impacto en la vida actual de las personas. Esto debido a que el presente texto ofrece evidencia microeconómica al fijar un vínculo entre los resultados económicos actuales y las instituciones históricas a partir del uso de datos agregados. A su vez, estos datos refuerzan la hipótesis de que las instituciones extractivas históricas tienen impacto en el crecimiento económico a largo plazo. Un ejemplo de ello es el estudio de Paola Sulca (2019), quien en su estudio titulado “¿Pueden los shocks idiosincráticos explicar la demanda por seguros en el Perú?” se encargó de identificar si la experiencia previa de los shocks idiosincráticos pasados impactó de alguna forma en la tenencia de seguros en el caso peruano. Así, halló conclusiones tales como que la clase de seguro afectado dependía del shock que se había experimentado.\n",
    "\n",
    "Asimismo, un segundo paso podría ser considerar una de las conclusiones a las que llegan al realizar futuras investigaciones. Esta conclusión nos menciona que la forma en la que se utiliza al Estado para dar forma a las interacciones a nivel económico puede ser un punto de partida para modelar el crecimiento a largo plazo de América Latina. Esto debido a que se observó un vínculo positivo entre el desarrollo económico actual y las haciendas históricas. Aquello es importante, pues la academia tradicional se basa en una hipótesis que menciona que no se ha podido dar un crecimiento de latinoamérica debido a la desigualdad histórica en el acceso a la tierra. Por ende, próximos estudios podrían tomar como punto de partida la manera en que Latinoamerica puede crecer gracias a las interacciones que realiza el Estado en términos económicos.\n"
   ]
  },
  {
   "cell_type": "markdown",
   "id": "dfa52097",
   "metadata": {},
   "source": [
    "## Código (4 puntos)"
   ]
  },
  {
   "cell_type": "code",
   "execution_count": 20,
   "id": "656fc9f7",
   "metadata": {},
   "outputs": [],
   "source": [
    "# pip install causalgraphicalmodels\n",
    "# pip install linearmodels\n",
    "\n",
    "from causalgraphicalmodels import CausalGraphicalModel\n",
    "import os\n",
    "import numpy as np \n",
    "import pandas as pd \n",
    "import statsmodels.api as sm \n",
    "import statsmodels.formula.api as smf \n",
    "from itertools import combinations \n",
    "import plotnine as p\n",
    "import statsmodels.api as sm\n",
    "import statsmodels.formula.api as smf\n",
    "import linearmodels.iv.model as lm\n",
    "from linearmodels.iv import IV2SLS\n",
    "from statsmodels.iolib.summary2 import summary_col\n",
    "import seaborn as sns\n"
   ]
  },
  {
   "cell_type": "markdown",
   "id": "878a109e",
   "metadata": {},
   "source": [
    "### 1. Ploteo de Histogramas\n",
    "\n",
    "Tienen que trabajar con la misma data de educacion que utilicé en la clase_11. En este documento encontrarán una descripción detallada de todas las variables en el dataset.\n",
    "\n",
    "- Tomando en cuenta que la variable nearc2 representa si existe un college en el county debe realizar los siguientes ploteos de histogramas. Grafique dos histogramas para la variable años de educación educ para cuando nearc2 == 1, y cuando nearc2 == 0. Compare y describa los patrones que encuentra.\n"
   ]
  },
  {
   "cell_type": "code",
   "execution_count": 16,
   "id": "09718841",
   "metadata": {},
   "outputs": [
    {
     "data": {
      "text/html": [
       "<div>\n",
       "<style scoped>\n",
       "    .dataframe tbody tr th:only-of-type {\n",
       "        vertical-align: middle;\n",
       "    }\n",
       "\n",
       "    .dataframe tbody tr th {\n",
       "        vertical-align: top;\n",
       "    }\n",
       "\n",
       "    .dataframe thead th {\n",
       "        text-align: right;\n",
       "    }\n",
       "</style>\n",
       "<table border=\"1\" class=\"dataframe\">\n",
       "  <thead>\n",
       "    <tr style=\"text-align: right;\">\n",
       "      <th></th>\n",
       "      <th>id</th>\n",
       "      <th>nearc2</th>\n",
       "      <th>nearc4</th>\n",
       "      <th>educ</th>\n",
       "      <th>age</th>\n",
       "      <th>fatheduc</th>\n",
       "      <th>motheduc</th>\n",
       "      <th>weight</th>\n",
       "      <th>momdad14</th>\n",
       "      <th>sinmom14</th>\n",
       "      <th>...</th>\n",
       "      <th>KWW</th>\n",
       "      <th>IQ</th>\n",
       "      <th>married</th>\n",
       "      <th>libcrd14</th>\n",
       "      <th>exper</th>\n",
       "      <th>lwage</th>\n",
       "      <th>expersq</th>\n",
       "      <th>u_lwage</th>\n",
       "      <th>lwage_hat</th>\n",
       "      <th>u_educ</th>\n",
       "    </tr>\n",
       "  </thead>\n",
       "  <tbody>\n",
       "    <tr>\n",
       "      <th>0</th>\n",
       "      <td>2.0</td>\n",
       "      <td>0.0</td>\n",
       "      <td>0.0</td>\n",
       "      <td>7.0</td>\n",
       "      <td>29.0</td>\n",
       "      <td>NaN</td>\n",
       "      <td>NaN</td>\n",
       "      <td>158413.0</td>\n",
       "      <td>1.0</td>\n",
       "      <td>0.0</td>\n",
       "      <td>...</td>\n",
       "      <td>15.0</td>\n",
       "      <td>NaN</td>\n",
       "      <td>1.0</td>\n",
       "      <td>0.0</td>\n",
       "      <td>16.0</td>\n",
       "      <td>6.306275</td>\n",
       "      <td>256.0</td>\n",
       "      <td>0.198047</td>\n",
       "      <td>6.108228</td>\n",
       "      <td>-3.067539</td>\n",
       "    </tr>\n",
       "    <tr>\n",
       "      <th>1</th>\n",
       "      <td>3.0</td>\n",
       "      <td>0.0</td>\n",
       "      <td>0.0</td>\n",
       "      <td>12.0</td>\n",
       "      <td>27.0</td>\n",
       "      <td>8.0</td>\n",
       "      <td>8.0</td>\n",
       "      <td>380166.0</td>\n",
       "      <td>1.0</td>\n",
       "      <td>0.0</td>\n",
       "      <td>...</td>\n",
       "      <td>35.0</td>\n",
       "      <td>93.0</td>\n",
       "      <td>1.0</td>\n",
       "      <td>1.0</td>\n",
       "      <td>9.0</td>\n",
       "      <td>6.175867</td>\n",
       "      <td>81.0</td>\n",
       "      <td>-0.211160</td>\n",
       "      <td>6.387027</td>\n",
       "      <td>-1.727562</td>\n",
       "    </tr>\n",
       "    <tr>\n",
       "      <th>2</th>\n",
       "      <td>4.0</td>\n",
       "      <td>0.0</td>\n",
       "      <td>0.0</td>\n",
       "      <td>12.0</td>\n",
       "      <td>34.0</td>\n",
       "      <td>14.0</td>\n",
       "      <td>12.0</td>\n",
       "      <td>367470.0</td>\n",
       "      <td>1.0</td>\n",
       "      <td>0.0</td>\n",
       "      <td>...</td>\n",
       "      <td>42.0</td>\n",
       "      <td>103.0</td>\n",
       "      <td>1.0</td>\n",
       "      <td>1.0</td>\n",
       "      <td>16.0</td>\n",
       "      <td>6.580639</td>\n",
       "      <td>256.0</td>\n",
       "      <td>0.204719</td>\n",
       "      <td>6.375920</td>\n",
       "      <td>1.012975</td>\n",
       "    </tr>\n",
       "    <tr>\n",
       "      <th>3</th>\n",
       "      <td>5.0</td>\n",
       "      <td>1.0</td>\n",
       "      <td>1.0</td>\n",
       "      <td>11.0</td>\n",
       "      <td>27.0</td>\n",
       "      <td>11.0</td>\n",
       "      <td>12.0</td>\n",
       "      <td>380166.0</td>\n",
       "      <td>1.0</td>\n",
       "      <td>0.0</td>\n",
       "      <td>...</td>\n",
       "      <td>25.0</td>\n",
       "      <td>88.0</td>\n",
       "      <td>1.0</td>\n",
       "      <td>1.0</td>\n",
       "      <td>10.0</td>\n",
       "      <td>5.521461</td>\n",
       "      <td>100.0</td>\n",
       "      <td>-0.967905</td>\n",
       "      <td>6.489366</td>\n",
       "      <td>-2.253536</td>\n",
       "    </tr>\n",
       "    <tr>\n",
       "      <th>4</th>\n",
       "      <td>6.0</td>\n",
       "      <td>1.0</td>\n",
       "      <td>1.0</td>\n",
       "      <td>12.0</td>\n",
       "      <td>34.0</td>\n",
       "      <td>8.0</td>\n",
       "      <td>7.0</td>\n",
       "      <td>367470.0</td>\n",
       "      <td>1.0</td>\n",
       "      <td>0.0</td>\n",
       "      <td>...</td>\n",
       "      <td>34.0</td>\n",
       "      <td>108.0</td>\n",
       "      <td>1.0</td>\n",
       "      <td>0.0</td>\n",
       "      <td>16.0</td>\n",
       "      <td>6.591674</td>\n",
       "      <td>256.0</td>\n",
       "      <td>0.125173</td>\n",
       "      <td>6.466501</td>\n",
       "      <td>1.090437</td>\n",
       "    </tr>\n",
       "  </tbody>\n",
       "</table>\n",
       "<p>5 rows × 37 columns</p>\n",
       "</div>"
      ],
      "text/plain": [
       "    id  nearc2  nearc4  educ   age  fatheduc  motheduc    weight  momdad14  \\\n",
       "0  2.0     0.0     0.0   7.0  29.0       NaN       NaN  158413.0       1.0   \n",
       "1  3.0     0.0     0.0  12.0  27.0       8.0       8.0  380166.0       1.0   \n",
       "2  4.0     0.0     0.0  12.0  34.0      14.0      12.0  367470.0       1.0   \n",
       "3  5.0     1.0     1.0  11.0  27.0      11.0      12.0  380166.0       1.0   \n",
       "4  6.0     1.0     1.0  12.0  34.0       8.0       7.0  367470.0       1.0   \n",
       "\n",
       "   sinmom14  ...   KWW     IQ  married  libcrd14  exper     lwage  expersq  \\\n",
       "0       0.0  ...  15.0    NaN      1.0       0.0   16.0  6.306275    256.0   \n",
       "1       0.0  ...  35.0   93.0      1.0       1.0    9.0  6.175867     81.0   \n",
       "2       0.0  ...  42.0  103.0      1.0       1.0   16.0  6.580639    256.0   \n",
       "3       0.0  ...  25.0   88.0      1.0       1.0   10.0  5.521461    100.0   \n",
       "4       0.0  ...  34.0  108.0      1.0       0.0   16.0  6.591674    256.0   \n",
       "\n",
       "    u_lwage  lwage_hat    u_educ  \n",
       "0  0.198047   6.108228 -3.067539  \n",
       "1 -0.211160   6.387027 -1.727562  \n",
       "2  0.204719   6.375920  1.012975  \n",
       "3 -0.967905   6.489366 -2.253536  \n",
       "4  0.125173   6.466501  1.090437  \n",
       "\n",
       "[5 rows x 37 columns]"
      ]
     },
     "execution_count": 16,
     "metadata": {},
     "output_type": "execute_result"
    }
   ],
   "source": [
    "# load data\n",
    "\n",
    "import ssl\n",
    "ssl._create_default_https_context = ssl._create_unverified_context\n",
    "\n",
    "def read_data(file): \n",
    "    return pd.read_stata(\"https://raw.github.com/scunning1975/mixtape/master/\" + file)\n",
    "\n",
    "data = read_data(\"card.dta\")\n",
    "data.head()"
   ]
  },
  {
   "cell_type": "code",
   "execution_count": 17,
   "id": "3bafa211",
   "metadata": {},
   "outputs": [
    {
     "data": {
      "text/plain": [
       "<seaborn.axisgrid.FacetGrid at 0x19c154d3760>"
      ]
     },
     "execution_count": 17,
     "metadata": {},
     "output_type": "execute_result"
    },
    {
     "data": {
      "image/png": "[encoded data removed]",
      "text/plain": [
       "<Figure size 720x360 with 2 Axes>"
      ]
     },
     "metadata": {
      "needs_background": "light"
     },
     "output_type": "display_data"
    }
   ],
   "source": [
    "sns.displot(data, x = \"educ\", col = \"nearc2\")"
   ]
  },
  {
   "cell_type": "markdown",
   "id": "284ae5c4",
   "metadata": {},
   "source": [
    "Interpretación: En el presente gráfico, se puede observar que los valores que toma la variable educación van de 2.5 a 17. Asimismo, ambas variables (nearc2 y educ) tienen una correlación entre sí. Teniendo en cuenta que la variable nearc2 se refiere a qué tan próximo viven los hombres de una universidad con programas de 2 años de estudio y la variable educ refiere a los niveles de educación, se puede decir que el valor de 0 = los que viven lejos de una universidad y 1 = los que viven cerca de una universidad. De esta forma, se puede observar una correlación inversa, en la que se puede interpretar que las personas que viven lejos a una universidad (0) han tenido un mayor nivel de educación a comparación de quienes viven más cerca (1). "
   ]
  },
  {
   "cell_type": "markdown",
   "id": "47efbdce",
   "metadata": {},
   "source": [
    "- Grafique dos histogramas para la variable logaritmos de los ingresos lwage para cuando nearc2 == 1, y cuando nearc2 == 0. Compare y describa los patrones que encuentra."
   ]
  },
  {
   "cell_type": "code",
   "execution_count": 18,
   "id": "c684c23c",
   "metadata": {},
   "outputs": [
    {
     "data": {
      "text/plain": [
       "<seaborn.axisgrid.FacetGrid at 0x19c1c335b80>"
      ]
     },
     "execution_count": 18,
     "metadata": {},
     "output_type": "execute_result"
    },
    {
     "data": {
      "image/png": "[encoded data removed]",
      "text/plain": [
       "<Figure size 720x360 with 2 Axes>"
      ]
     },
     "metadata": {
      "needs_background": "light"
     },
     "output_type": "display_data"
    }
   ],
   "source": [
    "sns.displot(data, x=\"lwage\", col=\"nearc2\")  "
   ]
  },
  {
   "cell_type": "markdown",
   "id": "2fd61de0",
   "metadata": {},
   "source": [
    "Interpretación: Se puede observar que los valores que toma el logaritmo del salario van de 4.5 a 7.5. Por ende, basándonos en la misma lógica anteriormente descrita, se entiende que las personas que viven más lejos de las universidades (cuando nearc2 es 0) tienen ingresos mayores en comparación a quienes viven más cerca (cuando nearc2 es 1)."
   ]
  },
  {
   "cell_type": "markdown",
   "id": "637fabde",
   "metadata": {},
   "source": [
    "### 2. Regresiones\n",
    "\n",
    "- Corran una regresion lineal del tipo \"lwage ~ educ + exper + black + south + married + smsa\", y expliquen los resultados que encuentran.\n"
   ]
  },
  {
   "cell_type": "code",
   "execution_count": 21,
   "id": "32b2f5df",
   "metadata": {},
   "outputs": [
    {
     "data": {
      "text/html": [
       "<table class=\"simpletable\">\n",
       "<caption>OLS Regression Results</caption>\n",
       "<tr>\n",
       "  <th>Dep. Variable:</th>          <td>lwage</td>      <th>  R-squared:         </th> <td>   0.305</td> \n",
       "</tr>\n",
       "<tr>\n",
       "  <th>Model:</th>                   <td>OLS</td>       <th>  Adj. R-squared:    </th> <td>   0.304</td> \n",
       "</tr>\n",
       "<tr>\n",
       "  <th>Method:</th>             <td>Least Squares</td>  <th>  F-statistic:       </th> <td>   219.2</td> \n",
       "</tr>\n",
       "<tr>\n",
       "  <th>Date:</th>             <td>Sat, 10 Dec 2022</td> <th>  Prob (F-statistic):</th> <td>1.97e-232</td>\n",
       "</tr>\n",
       "<tr>\n",
       "  <th>Time:</th>                 <td>16:04:34</td>     <th>  Log-Likelihood:    </th> <td> -1273.9</td> \n",
       "</tr>\n",
       "<tr>\n",
       "  <th>No. Observations:</th>      <td>  3003</td>      <th>  AIC:               </th> <td>   2562.</td> \n",
       "</tr>\n",
       "<tr>\n",
       "  <th>Df Residuals:</th>          <td>  2996</td>      <th>  BIC:               </th> <td>   2604.</td> \n",
       "</tr>\n",
       "<tr>\n",
       "  <th>Df Model:</th>              <td>     6</td>      <th>                     </th>     <td> </td>    \n",
       "</tr>\n",
       "<tr>\n",
       "  <th>Covariance Type:</th>      <td>nonrobust</td>    <th>                     </th>     <td> </td>    \n",
       "</tr>\n",
       "</table>\n",
       "<table class=\"simpletable\">\n",
       "<tr>\n",
       "      <td></td>         <th>coef</th>     <th>std err</th>      <th>t</th>      <th>P>|t|</th>  <th>[0.025</th>    <th>0.975]</th>  \n",
       "</tr>\n",
       "<tr>\n",
       "  <th>Intercept</th> <td>    5.0633</td> <td>    0.064</td> <td>   79.437</td> <td> 0.000</td> <td>    4.938</td> <td>    5.188</td>\n",
       "</tr>\n",
       "<tr>\n",
       "  <th>educ</th>      <td>    0.0712</td> <td>    0.003</td> <td>   20.438</td> <td> 0.000</td> <td>    0.064</td> <td>    0.078</td>\n",
       "</tr>\n",
       "<tr>\n",
       "  <th>exper</th>     <td>    0.0342</td> <td>    0.002</td> <td>   15.422</td> <td> 0.000</td> <td>    0.030</td> <td>    0.038</td>\n",
       "</tr>\n",
       "<tr>\n",
       "  <th>black</th>     <td>   -0.1660</td> <td>    0.018</td> <td>   -9.426</td> <td> 0.000</td> <td>   -0.201</td> <td>   -0.131</td>\n",
       "</tr>\n",
       "<tr>\n",
       "  <th>south</th>     <td>   -0.1316</td> <td>    0.015</td> <td>   -8.788</td> <td> 0.000</td> <td>   -0.161</td> <td>   -0.102</td>\n",
       "</tr>\n",
       "<tr>\n",
       "  <th>married</th>   <td>   -0.0359</td> <td>    0.003</td> <td>  -10.547</td> <td> 0.000</td> <td>   -0.043</td> <td>   -0.029</td>\n",
       "</tr>\n",
       "<tr>\n",
       "  <th>smsa</th>      <td>    0.1758</td> <td>    0.015</td> <td>   11.372</td> <td> 0.000</td> <td>    0.145</td> <td>    0.206</td>\n",
       "</tr>\n",
       "</table>\n",
       "<table class=\"simpletable\">\n",
       "<tr>\n",
       "  <th>Omnibus:</th>       <td>53.196</td> <th>  Durbin-Watson:     </th> <td>   1.858</td>\n",
       "</tr>\n",
       "<tr>\n",
       "  <th>Prob(Omnibus):</th> <td> 0.000</td> <th>  Jarque-Bera (JB):  </th> <td>  69.430</td>\n",
       "</tr>\n",
       "<tr>\n",
       "  <th>Skew:</th>          <td>-0.231</td> <th>  Prob(JB):          </th> <td>8.38e-16</td>\n",
       "</tr>\n",
       "<tr>\n",
       "  <th>Kurtosis:</th>      <td> 3.584</td> <th>  Cond. No.          </th> <td>    154.</td>\n",
       "</tr>\n",
       "</table><br/><br/>Notes:<br/>[1] Standard Errors assume that the covariance matrix of the errors is correctly specified."
      ],
      "text/plain": [
       "<class 'statsmodels.iolib.summary.Summary'>\n",
       "\"\"\"\n",
       "                            OLS Regression Results                            \n",
       "==============================================================================\n",
       "Dep. Variable:                  lwage   R-squared:                       0.305\n",
       "Model:                            OLS   Adj. R-squared:                  0.304\n",
       "Method:                 Least Squares   F-statistic:                     219.2\n",
       "Date:                Sat, 10 Dec 2022   Prob (F-statistic):          1.97e-232\n",
       "Time:                        16:04:34   Log-Likelihood:                -1273.9\n",
       "No. Observations:                3003   AIC:                             2562.\n",
       "Df Residuals:                    2996   BIC:                             2604.\n",
       "Df Model:                           6                                         \n",
       "Covariance Type:            nonrobust                                         \n",
       "==============================================================================\n",
       "                 coef    std err          t      P>|t|      [0.025      0.975]\n",
       "------------------------------------------------------------------------------\n",
       "Intercept      5.0633      0.064     79.437      0.000       4.938       5.188\n",
       "educ           0.0712      0.003     20.438      0.000       0.064       0.078\n",
       "exper          0.0342      0.002     15.422      0.000       0.030       0.038\n",
       "black         -0.1660      0.018     -9.426      0.000      -0.201      -0.131\n",
       "south         -0.1316      0.015     -8.788      0.000      -0.161      -0.102\n",
       "married       -0.0359      0.003    -10.547      0.000      -0.043      -0.029\n",
       "smsa           0.1758      0.015     11.372      0.000       0.145       0.206\n",
       "==============================================================================\n",
       "Omnibus:                       53.196   Durbin-Watson:                   1.858\n",
       "Prob(Omnibus):                  0.000   Jarque-Bera (JB):               69.430\n",
       "Skew:                          -0.231   Prob(JB):                     8.38e-16\n",
       "Kurtosis:                       3.584   Cond. No.                         154.\n",
       "==============================================================================\n",
       "\n",
       "Notes:\n",
       "[1] Standard Errors assume that the covariance matrix of the errors is correctly specified.\n",
       "\"\"\""
      ]
     },
     "execution_count": 21,
     "metadata": {},
     "output_type": "execute_result"
    }
   ],
   "source": [
    "#OLS\n",
    "ols_reg = sm.OLS.from_formula(\"lwage ~ educ + exper + black + south + married + smsa\", \n",
    "              data = data).fit()\n",
    "\n",
    "ols_reg.summary()"
   ]
  },
  {
   "cell_type": "markdown",
   "id": "01c5a864",
   "metadata": {},
   "source": [
    "Interpretación: Se puede observar que, en términos de correlación, todas las variables son estadísticamente significativas, ya que el p-value es menor a 0.05. Asimismo, con respecto a el coeficiente relacionado a educación se obtiene que un año extra de educación me origina 0.07 veces unidades logaritmicas de salario."
   ]
  },
  {
   "cell_type": "markdown",
   "id": "c152a207",
   "metadata": {},
   "source": [
    "- Corran una regresion de tipo IV(usando el paquete IV2SLS) donde van a instrumentalizar la variable educ con nearc2 .\n",
    "Compare los resultados encontrados usando IV2SLS con la primera regresión. ¿Cambió el coeficiente relacionado a educ , por qué?"
   ]
  },
  {
   "cell_type": "code",
   "execution_count": 22,
   "id": "675c483b",
   "metadata": {},
   "outputs": [
    {
     "data": {
      "text/html": [
       "<table class=\"simpletable\">\n",
       "<caption>IV-2SLS Estimation Summary</caption>\n",
       "<tr>\n",
       "  <th>Dep. Variable:</th>          <td>lwage</td>      <th>  R-squared:         </th> <td>-1.2536</td>\n",
       "</tr>\n",
       "<tr>\n",
       "  <th>Estimator:</th>             <td>IV-2SLS</td>     <th>  Adj. R-squared:    </th> <td>-1.2581</td>\n",
       "</tr>\n",
       "<tr>\n",
       "  <th>No. Observations:</th>       <td>3003</td>       <th>  F-statistic:       </th> <td>296.29</td> \n",
       "</tr>\n",
       "<tr>\n",
       "  <th>Date:</th>             <td>Sat, Dec 10 2022</td> <th>  P-value (F-stat)   </th> <td>0.0000</td> \n",
       "</tr>\n",
       "<tr>\n",
       "  <th>Time:</th>                 <td>16:04:58</td>     <th>  Distribution:      </th> <td>chi2(6)</td>\n",
       "</tr>\n",
       "<tr>\n",
       "  <th>Cov. Estimator:</th>        <td>robust</td>      <th>                     </th>    <td></td>    \n",
       "</tr>\n",
       "<tr>\n",
       "  <th></th>                          <td></td>         <th>                     </th>    <td></td>    \n",
       "</tr>\n",
       "</table>\n",
       "<table class=\"simpletable\">\n",
       "<caption>Parameter Estimates</caption>\n",
       "<tr>\n",
       "      <td></td>      <th>Parameter</th> <th>Std. Err.</th> <th>T-stat</th>  <th>P-value</th> <th>Lower CI</th> <th>Upper CI</th>\n",
       "</tr>\n",
       "<tr>\n",
       "  <th>Intercept</th>  <td>0.2107</td>    <td>3.1235</td>   <td>0.0675</td>  <td>0.9462</td>   <td>-5.9112</td>  <td>6.3327</td> \n",
       "</tr>\n",
       "<tr>\n",
       "  <th>black</th>      <td>0.1051</td>    <td>0.1786</td>   <td>0.5888</td>  <td>0.5560</td>   <td>-0.2449</td>  <td>0.4552</td> \n",
       "</tr>\n",
       "<tr>\n",
       "  <th>exper</th>      <td>0.1496</td>    <td>0.0744</td>   <td>2.0111</td>  <td>0.0443</td>   <td>0.0038</td>   <td>0.2954</td> \n",
       "</tr>\n",
       "<tr>\n",
       "  <th>married</th>    <td>-0.0149</td>   <td>0.0149</td>   <td>-0.9965</td> <td>0.3190</td>   <td>-0.0442</td>  <td>0.0144</td> \n",
       "</tr>\n",
       "<tr>\n",
       "  <th>smsa</th>       <td>0.0245</td>    <td>0.1018</td>   <td>0.2410</td>  <td>0.8095</td>   <td>-0.1749</td>  <td>0.2240</td> \n",
       "</tr>\n",
       "<tr>\n",
       "  <th>south</th>      <td>-0.0325</td>   <td>0.0689</td>   <td>-0.4719</td> <td>0.6370</td>   <td>-0.1675</td>  <td>0.1025</td> \n",
       "</tr>\n",
       "<tr>\n",
       "  <th>educ</th>       <td>0.3566</td>    <td>0.1837</td>   <td>1.9410</td>  <td>0.0523</td>   <td>-0.0035</td>  <td>0.7167</td> \n",
       "</tr>\n",
       "</table><br/><br/>Endogenous: educ<br/>Instruments: nearc2<br/>Robust Covariance (Heteroskedastic)<br/>Debiased: False"
      ],
      "text/plain": [
       "<class 'linearmodels.compat.statsmodels.Summary'>\n",
       "\"\"\"\n",
       "                          IV-2SLS Estimation Summary                          \n",
       "==============================================================================\n",
       "Dep. Variable:                  lwage   R-squared:                     -1.2536\n",
       "Estimator:                    IV-2SLS   Adj. R-squared:                -1.2581\n",
       "No. Observations:                3003   F-statistic:                    296.29\n",
       "Date:                Sat, Dec 10 2022   P-value (F-stat)                0.0000\n",
       "Time:                        16:04:58   Distribution:                  chi2(6)\n",
       "Cov. Estimator:                robust                                         \n",
       "                                                                              \n",
       "                             Parameter Estimates                              \n",
       "==============================================================================\n",
       "            Parameter  Std. Err.     T-stat    P-value    Lower CI    Upper CI\n",
       "------------------------------------------------------------------------------\n",
       "Intercept      0.2107     3.1235     0.0675     0.9462     -5.9112      6.3327\n",
       "black          0.1051     0.1786     0.5888     0.5560     -0.2449      0.4552\n",
       "exper          0.1496     0.0744     2.0111     0.0443      0.0038      0.2954\n",
       "married       -0.0149     0.0149    -0.9965     0.3190     -0.0442      0.0144\n",
       "smsa           0.0245     0.1018     0.2410     0.8095     -0.1749      0.2240\n",
       "south         -0.0325     0.0689    -0.4719     0.6370     -0.1675      0.1025\n",
       "educ           0.3566     0.1837     1.9410     0.0523     -0.0035      0.7167\n",
       "==============================================================================\n",
       "\n",
       "Endogenous: educ\n",
       "Instruments: nearc2\n",
       "Robust Covariance (Heteroskedastic)\n",
       "Debiased: False\n",
       "\"\"\""
      ]
     },
     "execution_count": 22,
     "metadata": {},
     "output_type": "execute_result"
    }
   ],
   "source": [
    "#2SLS\n",
    "iv_reg = IV2SLS.from_formula(\"lwage ~  1 + exper + black + south + married + smsa + [educ ~ nearc2 ]\", data).fit()\n",
    "iv_reg.summary\n"
   ]
  },
  {
   "cell_type": "markdown",
   "id": "e9241deb",
   "metadata": {},
   "source": [
    "Interpretación:\n",
    "\n",
    "En la regresión de tipo OLS, se pudo observar al coeficiente relacionado a educ con un valor de 0.0712, mientras que en la regresión de tipo 2SLS se pudo obtener el mismo coeficiente con un valor de 0.3566. Es decir, se puede evidenciar un aumento del coeficiente con la regresión de tipo de 2SLS. Asimismo, a diferencia del primer caso (OLS), en el segundo (2SLS) se observa que no es estadisticamente significativo, pues el p-value es mayor a 0.05. En efecto, tiene un valor de 0.0523.\n",
    "\n",
    "En conclusión, utilizando el instrumento hemos encontrado que el efecto que tiene la educación sobre los salarios es mucho más grande. Este se incrementó debido a que hemos instrumentalizado a la variable educación por la distancia a la que vivimos de la universidad. De esta forma, utilizando un instrumento podemos limpiar el problema de endogeneidad que se presenta en la variable \"educación\" y, a partir de ello, descubrir la relación causal que existe en la educación sobre el nivel de los salarios. En este caso, se ha demostrado que el coeficiente es alrededor de 400% más grande."
   ]
  },
  {
   "cell_type": "code",
   "execution_count": null,
   "id": "f187ac8a",
   "metadata": {},
   "outputs": [],
   "source": []
  }
 ],
 "metadata": {
  "kernelspec": {
   "display_name": "Python 3 (ipykernel)",
   "language": "python",
   "name": "python3"
  },
  "language_info": {
   "codemirror_mode": {
    "name": "ipython",
    "version": 3
   },
   "file_extension": ".py",
   "mimetype": "text/x-python",
   "name": "python",
   "nbconvert_exporter": "python",
   "pygments_lexer": "ipython3",
   "version": "3.9.12"
  }
 },
 "nbformat": 4,
 "nbformat_minor": 5
}
