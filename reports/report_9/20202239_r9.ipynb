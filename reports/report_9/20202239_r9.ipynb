{
 "cells": [
  {
   "cell_type": "markdown",
   "id": "50a75cfa",
   "metadata": {},
   "source": [
    "# Reporte 9\n",
    "##### Nombre: Valeria Yesquén\n",
    "##### Código: 20202239"
   ]
  },
  {
   "cell_type": "markdown",
   "id": "a91a9a0e",
   "metadata": {},
   "source": [
    "El artículo se pregunta principalmente por la existencia o no de una relación de causalidad entre la introducción de Facebook a los estudiantes universitarios y el empeoramiento de su salud mental. En ese sentido, analiza diversas universidades, principalmente las más exigentes (que fueron las que tuvieron un acceso más temprano a dicha red social), y se pregunta por los síntomas de las enfermedades mentales y la asistencia a servicios de salud mental, índices que le sirven principalmente para reconocer y medir el impacto negativo que podría haber tenido la introducción de Facebook a la vida de los estudiantes. Asimismo, se aplicaron encuestas de forma aleatoria, únicamente, a estudiantes de pregrado, y también se empleó la encuesta NCHA para determinar especificaciones en cuanto a salud mental, aunque debe considerarse que la misma no incluía preguntas sobre el uso de redes sociales, por lo que no se pueden determinar conclusiones directas en base a la misma. \n",
    "\n",
    "Dentro del marco del estudio, se plantea el uso del modelo TWFE, al tratarse de una investigación estacionada. En ese sentido, una de las principales fortalezas del artículo es que considera las diferencias que pueden existir dentro de la población a investigar, como por ejemplo, el hecho de que algunas sean mucho más exigentes que otras, lo que podría haber aumentado la tendencia a desarrollar problemas de salud mental. Por esa razón, se vuelve importante y relevante la consideración de la heterogeneidad, que incluyen cuestiones de género, los índices de susceptibilidad predicha, cuestiones étnicas, etc. No obstante, como los autores reconocen el modelo TWFE requiere de que exista homogeneidad en los efectos del tratamiento, y ante esa limitación, los autores plantean una solución, que es utilizar estimadores robustos, los cuales proporcionan estimaciones consistentes incluso en presencia de efectos de tratamiento heterogéneos en el tiempo y/o unidades tratadas. En ese sentido, esas pueden ser reconocidas como las principales fortalezas del texto. Sin embargo, como los mismos autores reconocen, no existe un grupo de control definido al momento de estudiar el tratamiento, por lo mismo de que se trata de algo escalonado y no hay forma de controlar la exposición o no a Facebook. Esta podría ser la principal debilidad del estudio, pues un grupo de control resulta necesario para poder contrastar los resultados entre ambos grupos (tratamiento y control). De esa manera, las observaciones resultarían mucho más significativas y seguras. \n",
    "\n",
    "No obstante, la investigación realiza un aporte importante, pues a través de sus hallazgos, se puede demostrar la hipótesis o pregunta inicial del texto, concluyendo que las redes sociales en efecto, podría ser un factor importante que genera el deterioro de la salud mental entre adolescentes y adultos jóvenes. Además, encuentran que el mecanismo principal por el cual este impacto negativo es generado, son las comparaciones sociales negativas o desfavorables. En otras palabras, se encuentra que las redes sociales aumentan y facilitan el surgimiento de comparaciones entre sus usuarios (adolescentes y adultos jóvenes), pues muchas de las publicaciones son cuidadosamente pensadas y filtradas, generando un choque con la realidad, lo que lleva a un deterioro de la salud mental si es que no se logra alcanzar los estándares que la virtualidad parece plantear sobre la realidad. \n",
    "\n",
    "Finalmente, una forma avanzar en esta línea de investigación, según Jiménez (2022), podría ser el plantear un estudio enfocado en los efectos o impacto de otras redes sociales, como Twitter, la cual. El autor en este estudio, plantea un análisis de los efectos de moderar los discursos de odio en la conducta y el bienestar de los usuarios. Asimismo, otro lado por el que podría continuar esta línea, según Cmpante, Durante y Tesei (2022), es a través de un análisis mucho más amplio, que considere el impacto de los medios tecnológicos en el capital social. De esa manera, se busca cubrir resultados diferentes relacionaciones con distintos aspectos, como la participación social y política, o la confianza interpersonal, concentrándose no solo en los efectos y manifestaciones destructivas, sino también benignas.      \n",
    "\n",
    "##### Referencias Bibliográficas:\n",
    "- Jiménez Durán, R. (2022). The economics of content moderation: Theory and experimental evidence from hate speech on Twitter. Available at SSRN.\n",
    "- Campante, F., Durante, R., & Tesei, A. (2022). Media and social capital. Annual Review of Economics, 14, 69-91."
   ]
  }
 ],
 "metadata": {
  "kernelspec": {
   "display_name": "Python 3 (ipykernel)",
   "language": "python",
   "name": "python3"
  },
  "language_info": {
   "codemirror_mode": {
    "name": "ipython",
    "version": 3
   },
   "file_extension": ".py",
   "mimetype": "text/x-python",
   "name": "python",
   "nbconvert_exporter": "python",
   "pygments_lexer": "ipython3",
   "version": "3.9.12"
  }
 },
 "nbformat": 4,
 "nbformat_minor": 5
}
