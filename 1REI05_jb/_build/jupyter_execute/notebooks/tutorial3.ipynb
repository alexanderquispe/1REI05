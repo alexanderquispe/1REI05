{
 "cells": [
  {
   "cell_type": "code",
   "execution_count": 1,
   "id": "11336223",
   "metadata": {},
   "outputs": [],
   "source": [
    "import ipympl\n",
    "%matplotlib widget\n",
    "%matplotlib inline\n",
    "import ipywidgets as widgets\n",
    "import matplotlib.pyplot as plt\n",
    "import numpy as np\n",
    "import sympy as sy\n",
    "import pandas as pd\n",
    "from causalgraphicalmodels import CausalGraphicalModel\n",
    "import os\n",
    "os.environ[\"PATH\"] += os.pathsep + 'C:/Program Files/Graphviz/bin/'\n",
    "import warnings\n",
    "warnings.filterwarnings('ignore')"
   ]
  },
  {
   "cell_type": "markdown",
   "id": "68765d25",
   "metadata": {},
   "source": [
    "# La curva IS (Inversión-Ahorro)"
   ]
  },
  {
   "cell_type": "markdown",
   "id": "df5cd31b",
   "metadata": {},
   "source": [
    "## Derivación de la curva IS"
   ]
  },
  {
   "cell_type": "markdown",
   "id": "1ff077a5",
   "metadata": {},
   "source": [
    "La curva IS se deriva de la igualdad entre el ingreso $(Y)$ y la demanda agregada $(DA)$:\n",
    "\n",
    "$$ Y = C + I + G + X - M $$\n"
   ]
  },
  {
   "cell_type": "markdown",
   "id": "1608c4c8",
   "metadata": {},
   "source": [
    "Considerando que: \n",
    "\n",
    "$$ C = C_0 + bY^d $$\n",
    "\n",
    "$$ I = I_0 - hr $$\n",
    "\n",
    "$$ G = G_0 $$\n",
    "\n",
    "$$ T = tY $$\n",
    "\n",
    "$$ X = X_0 $$\n",
    "\n",
    "$$ M = mY^d $$"
   ]
  },
  {
   "cell_type": "markdown",
   "id": "6eab21f8",
   "metadata": {},
   "source": [
    "Para llegar al equilibrio Ahorro-Inversión, debemos restar la tributación $(T)$ de ambos miembros de la igualdad.\n",
    "\n",
    "$$ Y - T = C + I - T + G + X - M $$\n",
    "\n",
    "$$ Y^d = C + I - T + G + X - M $$"
   ]
  },
  {
   "cell_type": "markdown",
   "id": "b71918ec",
   "metadata": {},
   "source": [
    "Esta igualdad se puede reescribir de la siguiente forma:\n",
    "\n",
    "$$ (Y^d - C) + (T - G) + (M - X) = I $$"
   ]
  },
  {
   "cell_type": "markdown",
   "id": "3fd40fb3",
   "metadata": {},
   "source": [
    "Las tres partes de la derecha constituyen los tres componentes del ahorro total $ (S) $: ahorro privado $ (S_p) $, ahorro del gobierno $ (S_g) $ y ahorro externo $ (S_e) $:\n",
    "\n",
    "$$ S = S_p + S_g + S_e $$\n"
   ]
  },
  {
   "cell_type": "markdown",
   "id": "7fba9888",
   "metadata": {},
   "source": [
    "Entonces, el ahorro total es igual a la inversión\n",
    "\n",
    "$$ S_p + S_g + S_e = I $$\n",
    "\n",
    "$$ S(Y) = I(r) $$"
   ]
  },
  {
   "cell_type": "markdown",
   "id": "4606c2f3",
   "metadata": {},
   "source": [
    "Haciendo reemplazos se obtiene que:\n",
    "\n",
    "$$ S_p + S_g + S_e = I_0 - hr $$\n",
    "\n",
    "$$ (Y^d - C_0 - bY^d) + (T - G_0) + (mY^d - X_0) = I_0 - hr $$"
   ]
  },
  {
   "cell_type": "markdown",
   "id": "91a9c2b7",
   "metadata": {},
   "source": [
    "Considerando las observaciones anteriores sobre los componentes de la condición de equilibrio $(Y)$:\n",
    "\n",
    "$$ [1 - (b - m)(1 - t)]Y - (C_0 + G_0 + X_0) = I_0 - hr $$"
   ]
  },
  {
   "cell_type": "markdown",
   "id": "edd51d43",
   "metadata": {},
   "source": [
    "La curva IS se puede expresar con una ecuación donde la tasa de interés es una función del ingreso:\n",
    "\n",
    "$$ hr = (C_0 + G_0 + I_0 + X_0) - (1 - (b - m)(1 - t))Y $$\n",
    "\n",
    "$$ r = \\frac{1}{h}(C_0 + G_0 + I_0 + X_0) - \\frac{1 - (b - m)(1 - t)}{h}Y $$"
   ]
  },
  {
   "cell_type": "markdown",
   "id": "3a84309d",
   "metadata": {},
   "source": [
    "Y puede simplificarse en:\n",
    "\n",
    "$$ r = \\frac{B_0}{h} - \\frac{B_1}{h}Y $$\n",
    "\n",
    "Donde $ B_0 = C_0 + G_0 + I_0 + X_0  $ es el intercepto y $  B_1 = 1 - (b - m)(1 - t) $ es la pendiente."
   ]
  },
  {
   "cell_type": "markdown",
   "id": "428dd716",
   "metadata": {},
   "source": [
    "Y la curva IS se grafica de la siguiente manera:"
   ]
  },
  {
   "cell_type": "code",
   "execution_count": 2,
   "id": "ae972723",
   "metadata": {},
   "outputs": [],
   "source": [
    "# Parámetros\n",
    "\n",
    "Y_size = 100 \n",
    "\n",
    "Co = 35\n",
    "Io = 40\n",
    "Go = 70\n",
    "Xo = 2\n",
    "h = 0.7\n",
    "b = 0.8\n",
    "m = 0.2\n",
    "t = 0.3\n",
    "\n",
    "Y = np.arange(Y_size)\n",
    "\n",
    "\n",
    "# Ecuación \n",
    "def r_IS(b, m, t, Co, Io, Go, Xo, h, Y):\n",
    "    r_IS = (Co + Io + Go + Xo - Y * (1-(b-m)*(1-t)))/h\n",
    "    return r_IS\n",
    "\n",
    "r = r_IS(b, m, t, Co, Io, Go, Xo, h, Y)"
   ]
  },
  {
   "cell_type": "code",
   "execution_count": 3,
   "id": "37d2a8e1",
   "metadata": {},
   "outputs": [
    {
     "data": {
      "image/png": "[encoded data removed]",
      "text/plain": [
       "<Figure size 720x576 with 1 Axes>"
      ]
     },
     "metadata": {
      "filenames": {
       "image/png": "C:\\Users\\sandr\\Dropbox\\PUCP\\1REI05\\1REI05_jb\\_build\\jupyter_execute\\notebooks\\tutorial3_15_0.png"
      }
     },
     "output_type": "display_data"
    }
   ],
   "source": [
    "# Gráfico de la curva IS\n",
    "\n",
    "# Dimensiones del gráfico\n",
    "y_max = np.max(r)\n",
    "fig, ax = plt.subplots(figsize=(10, 8))\n",
    "\n",
    "# Curvas a graficar\n",
    "ax.plot(Y, r, label = \"IS\", color = \"#8B0A50\") #Demanda agregada\n",
    "\n",
    "# Eliminar las cantidades de los ejes\n",
    "ax.yaxis.set_major_locator(plt.NullLocator())   \n",
    "ax.xaxis.set_major_locator(plt.NullLocator())\n",
    "\n",
    "# Título, ejes y leyenda\n",
    "ax.set(title = \"Curva IS\", xlabel= 'Y', ylabel= 'r')\n",
    "ax.legend()\n",
    "\n",
    "plt.show()\n"
   ]
  },
  {
   "cell_type": "markdown",
   "id": "4cef3dd0",
   "metadata": {},
   "source": [
    "## Derivación de la curva IS a partir de la Demanda Agregada"
   ]
  },
  {
   "cell_type": "markdown",
   "id": "daf8ed96",
   "metadata": {},
   "source": [
    "Recordemos la ecuación del ingreso de equilibrio a corto plazo que fue obtenida a partir del equilibrio $(Y = DA)$:\n",
    "\n",
    "$$ Y = \\frac{1}{1 - (b - m)(1 - t)} (C_0 + I_0 + G_0 + X_0 - hr) $$"
   ]
  },
  {
   "cell_type": "markdown",
   "id": "26d1f7b7",
   "metadata": {},
   "source": [
    "Esta ecuación, después de algunas operaciones, puede expresarse en función de la tasa de interés $(r)$:\n",
    "\n",
    "$$ r = \\frac{1}{h}(C_0 + G_0 + I_0 + X_0) - \\frac{1 - (b - m)(1 - t)}{h}Y $$"
   ]
  },
  {
   "cell_type": "markdown",
   "id": "77ba4e79",
   "metadata": {},
   "source": [
    "Entonces, la curva IS puede ser simplificada de la siguiente manera:\n",
    "\n",
    "$$ r = \\frac{B_0}{h} - \\frac{B_1}{h}Y $$\n",
    "\n",
    "Donde $ B_0 = C_0 + G_0 + I_0 + X_0  $ y $  B_1 = 1 - (b - m)(1 - t) $"
   ]
  },
  {
   "cell_type": "markdown",
   "id": "56f896e7",
   "metadata": {},
   "source": [
    "Para la derivación gráfica, se tiene que recordar la ecuación de la Demanda Agregada $(DA)$:"
   ]
  },
  {
   "cell_type": "markdown",
   "id": "e3f0edb7",
   "metadata": {},
   "source": [
    "- **Demanda Agregada**:"
   ]
  },
  {
   "cell_type": "code",
   "execution_count": 4,
   "id": "146f5aeb",
   "metadata": {},
   "outputs": [],
   "source": [
    "# Parámetros\n",
    "\n",
    "Y_size = 100 \n",
    "\n",
    "Co = 35\n",
    "Io = 40\n",
    "Go = 70\n",
    "Xo = 2\n",
    "h = 0.7\n",
    "b = 0.8\n",
    "m = 0.2\n",
    "t = 0.3\n",
    "r = 0.9\n",
    "\n",
    "Y = np.arange(Y_size)\n",
    "\n",
    "# Ecuación de la curva del ingreso de equilibrio\n",
    "\n",
    "def DA_K(Co, Io, Go, Xo, h, r, b, m, t, Y):\n",
    "    DA_K = (Co + Io + Go + Xo - h*r) + ((b - m)*(1 - t)*Y)\n",
    "    return DA_K\n",
    "\n",
    "DA_IS_K = DA_K(Co, Io, Go, Xo, h, r, b, m, t, Y)\n",
    "\n",
    "#--------------------------------------------------\n",
    "# Recta de 45°\n",
    "\n",
    "a = 2.5 \n",
    "\n",
    "def L_45(a, Y):\n",
    "    L_45 = a*Y\n",
    "    return L_45\n",
    "\n",
    "L_45 = L_45(a, Y)\n",
    "\n",
    "#--------------------------------------------------\n",
    "# Segunda curva de ingreso de equilibrio\n",
    "\n",
    "    # Definir cualquier parámetro autónomo\n",
    "Go = 35\n",
    "\n",
    "# Generar la ecuación con el nuevo parámetro\n",
    "def DA_K(Co, Io, Go, Xo, h, r, b, m, t, Y):\n",
    "    DA_K = (Co + Io + Go + Xo - h*r) + ((b - m)*(1 - t)*Y)\n",
    "    return DA_K\n",
    "\n",
    "DA_G = DA_K(Co, Io, Go, Xo, h, r, b, m, t, Y)\n"
   ]
  },
  {
   "cell_type": "markdown",
   "id": "69b217a9",
   "metadata": {},
   "source": [
    "**- Curva IS**:"
   ]
  },
  {
   "cell_type": "code",
   "execution_count": 5,
   "id": "4447eff9",
   "metadata": {},
   "outputs": [],
   "source": [
    "# Parámetros\n",
    "\n",
    "Y_size = 100 \n",
    "\n",
    "Co = 35\n",
    "Io = 40\n",
    "Go = 70\n",
    "Xo = 2\n",
    "h = 0.7\n",
    "b = 0.8\n",
    "m = 0.2\n",
    "t = 0.3\n",
    "\n",
    "Y = np.arange(Y_size)\n",
    "\n",
    "\n",
    "# Ecuación \n",
    "def r_IS(b, m, t, Co, Io, Go, Xo, h, Y):\n",
    "    r_IS = (Co + Io + Go + Xo - Y * (1-(b-m)*(1-t)))/h\n",
    "    return r_IS\n",
    "\n",
    "r = r_IS(b, m, t, Co, Io, Go, Xo, h, Y)"
   ]
  },
  {
   "cell_type": "code",
   "execution_count": 6,
   "id": "d1ae7d14",
   "metadata": {},
   "outputs": [
    {
     "data": {
      "image/png": "[encoded data removed]",
      "text/plain": [
       "<Figure size 576x1152 with 2 Axes>"
      ]
     },
     "metadata": {
      "filenames": {
       "image/png": "C:\\Users\\sandr\\Dropbox\\PUCP\\1REI05\\1REI05_jb\\_build\\jupyter_execute\\notebooks\\tutorial3_25_0.png"
      }
     },
     "output_type": "display_data"
    }
   ],
   "source": [
    "# Gráfico de la derivación de la curva IS a partir de la igualdad (DA = Y)\n",
    "\n",
    "    # Dos gráficos en un solo cuadro (ax1 para el primero y ax2 para el segundo)\n",
    "fig, (ax1, ax2) = plt.subplots(2, figsize=(8, 16)) \n",
    "\n",
    "#---------------------------------\n",
    "    # Gráfico 1: ingreso de Equilibrio\n",
    "ax1.yaxis.set_major_locator(plt.NullLocator())   \n",
    "ax1.xaxis.set_major_locator(plt.NullLocator())\n",
    "\n",
    "ax1.plot(Y, DA_IS_K, label = \"DA_0\", color = \"C0\") \n",
    "ax1.plot(Y, DA_G, label = \"DA_1\", color = \"C0\") \n",
    "ax1.plot(Y, L_45, color = \"#404040\") \n",
    "\n",
    "ax1.axvline(x = 70.5, ymin= 0, ymax = 0.69, linestyle = \":\", color = \"grey\")\n",
    "ax1.axvline(x = 54,  ymin= 0, ymax = 0.54, linestyle = \":\", color = \"grey\")\n",
    "\n",
    "ax1.text(6, 4, '$45°$', fontsize = 11.5, color = 'black')\n",
    "ax1.text(2.5, -3, '$◝$', fontsize = 30, color = 'black')\n",
    "ax1.text(72, 0, '$Y_0$', fontsize = 12, color = 'black')\n",
    "ax1.text(56, 0, '$Y_1$', fontsize = 12, color = 'black')\n",
    "ax1.text(67, 185, 'E_0', fontsize = 12, color = 'black')\n",
    "ax1.text(50, 142, 'E_1', fontsize = 12, color = 'black')\n",
    "\n",
    "ax1.set(title = \"Derivación de la curva IS a partir del equilibrio $Y=DA$\", xlabel = r'Y', ylabel = r'DA')\n",
    "ax1.legend()\n",
    "\n",
    "#---------------------------------\n",
    "    # Gráfico 2: Curva IS\n",
    "\n",
    "ax2.yaxis.set_major_locator(plt.NullLocator())   \n",
    "ax2.xaxis.set_major_locator(plt.NullLocator())\n",
    "\n",
    "ax2.plot(Y, r, label = \"IS\", color = \"C1\") \n",
    "\n",
    "ax2.axvline(x = 70.5, ymin= 0, ymax = 1, linestyle = \":\", color = \"grey\")\n",
    "ax2.axvline(x = 54,  ymin= 0, ymax = 1, linestyle = \":\", color = \"grey\")\n",
    "plt.axhline(y = 151.5, xmin= 0, xmax = 0.7, linestyle = \":\", color = \"grey\")\n",
    "plt.axhline(y = 165, xmin= 0, xmax = 0.55, linestyle = \":\", color = \"grey\")\n",
    "\n",
    "ax2.text(72, 128, '$Y_0$', fontsize = 12, color = 'black')\n",
    "ax2.text(56, 128, '$Y_1$', fontsize = 12, color = 'black')\n",
    "ax2.text(1, 153, '$r_0$', fontsize = 12, color = 'black')\n",
    "ax2.text(1, 167, '$r_1$', fontsize = 12, color = 'black')\n",
    "ax2.text(72, 152, 'E_0', fontsize = 12, color = 'black')\n",
    "ax2.text(55, 166, 'E_1', fontsize = 12, color = 'black')\n",
    "\n",
    "ax2.legend()\n",
    "\n",
    "plt.show()"
   ]
  },
  {
   "cell_type": "markdown",
   "id": "cf4919f0",
   "metadata": {},
   "source": [
    "## Estática comparativa en la curva IS"
   ]
  },
  {
   "cell_type": "markdown",
   "id": "ebe0aec9",
   "metadata": {},
   "source": [
    "### Disminución en el Gasto de Gobierno $(G_0)$:"
   ]
  },
  {
   "cell_type": "code",
   "execution_count": 7,
   "id": "09020fbe",
   "metadata": {},
   "outputs": [],
   "source": [
    "#--------------------------------------------------\n",
    "    # Curva IS ORIGINAL\n",
    "\n",
    "# Parámetros\n",
    "\n",
    "Y_size = 100 \n",
    "\n",
    "Co = 35\n",
    "Io = 40\n",
    "Go = 70\n",
    "Xo = 2\n",
    "h = 0.7\n",
    "b = 0.8\n",
    "m = 0.2\n",
    "t = 0.3\n",
    "\n",
    "Y = np.arange(Y_size)\n",
    "\n",
    "\n",
    "# Ecuación \n",
    "def r_IS(b, m, t, Co, Io, Go, Xo, h, Y):\n",
    "    r_IS = (Co + Io + Go + Xo - Y * (1-(b-m)*(1-t)))/h\n",
    "    return r_IS\n",
    "\n",
    "r = r_IS(b, m, t, Co, Io, Go, Xo, h, Y)\n",
    "\n",
    "\n",
    "#--------------------------------------------------\n",
    "    # NUEVA curva IS\n",
    "    \n",
    "# Definir SOLO el parámetro cambiado\n",
    "Go = 60\n",
    "\n",
    "# Generar la ecuación con el nuevo parámetro\n",
    "def r_IS(b, m, t, Co, Io, Go, Xo, h, Y):\n",
    "    r_IS = (Co + Io + Go + Xo - Y * (1-(b-m)*(1-t)))/h\n",
    "    return r_IS\n",
    "\n",
    "r_G = r_IS(b, m, t, Co, Io, Go, Xo, h, Y)\n"
   ]
  },
  {
   "cell_type": "code",
   "execution_count": 8,
   "id": "b21be21d",
   "metadata": {},
   "outputs": [
    {
     "data": {
      "image/png": "[encoded data removed]",
      "text/plain": [
       "<Figure size 720x576 with 1 Axes>"
      ]
     },
     "metadata": {
      "filenames": {
       "image/png": "C:\\Users\\sandr\\Dropbox\\PUCP\\1REI05\\1REI05_jb\\_build\\jupyter_execute\\notebooks\\tutorial3_29_0.png"
      },
      "needs_background": "light"
     },
     "output_type": "display_data"
    }
   ],
   "source": [
    "    # Gráfico\n",
    "\n",
    "# Dimensiones del gráfico\n",
    "y_max = np.max(r)\n",
    "fig, ax = plt.subplots(figsize=(10, 8))\n",
    "\n",
    "# Curvas a graficar\n",
    "ax.plot(Y, r, label = \"IS\", color = \"black\") #IS orginal\n",
    "ax.plot(Y, r_G, label = \"IS_G\", color = \"C1\", linestyle = 'dashed') #Nueva IS\n",
    "\n",
    "# Texto agregado\n",
    "plt.text(47, 162, '∆Go', fontsize=12, color='black')\n",
    "plt.text(49, 159, '←', fontsize=15, color='grey')\n",
    "\n",
    "# Título, ejes y leyenda\n",
    "ax.set(title = \"Incremento en el Gasto de Gobierno $(G_0)$\", xlabel= 'Y', ylabel= 'r')\n",
    "ax.legend()\n",
    "\n",
    "plt.show()"
   ]
  },
  {
   "cell_type": "code",
   "execution_count": 9,
   "id": "6628cfa3",
   "metadata": {},
   "outputs": [
    {
     "data": {
      "application/vnd.jupyter.widget-view+json": {
       "model_id": "ce106cc2fb5744d3a3fe861810ee91e4",
       "version_major": 2,
       "version_minor": 0
      },
      "text/plain": [
       "interactive(children=(FloatSlider(value=70.0, description='Go', max=110.0), Output()), _dom_classes=('widget-i…"
      ]
     },
     "metadata": {},
     "output_type": "display_data"
    },
    {
     "data": {
      "text/plain": [
       "<function __main__.r_IS_1(Go)>"
      ]
     },
     "execution_count": 9,
     "metadata": {},
     "output_type": "execute_result"
    }
   ],
   "source": [
    "# Gráfico con movimiento\n",
    "\n",
    "# Parámetros\n",
    "\n",
    "Y_size = 100 \n",
    "\n",
    "Co = 35\n",
    "Io = 40\n",
    "Go = 70\n",
    "Xo = 2\n",
    "h = 0.7\n",
    "b = 0.8\n",
    "m = 0.2\n",
    "t = 0.3\n",
    "\n",
    "Y = np.arange(Y_size)\n",
    "\n",
    "def r_IS(b, m, t, Co, Io, Go, Xo, h, Y): # ecuación original\n",
    "    r_IS = (Co + Io + Go + Xo - Y * (1-(b-m)*(1-t)))/h\n",
    "    return r_IS\n",
    "\n",
    "r_G = r_IS(b, m, t, Co, Io, Go, Xo, h, Y)\n",
    "\n",
    "\n",
    "    # Definir ecuación y gráfico para el parámetro específico\n",
    "def r_IS_1(Go):\n",
    "    r_IS_1 = (Co + Io + Go + Xo - Y * (1-(b-m)*(1-t)))/h  \n",
    "    \n",
    "    # gráfico\n",
    "    plt.subplots(figsize=(10, 8))\n",
    "    plt.plot(r_IS_1, label = \"IS\", color = \"C1\") # Curva IS orginal\n",
    "    plt.plot(r_G, label = \"IS_Go\", color = \"black\") # Curva IS con movimiento\n",
    "    plt.title('Gasto de Gobierno')\n",
    "    plt.legend()    \n",
    "    \n",
    "    # crear gráfico con movimiento/control\n",
    "Go_slide = widgets.FloatSlider(value = 70, min = 0, max = 110)  #widgets.FloatSlider(valor_inicial, min, max)\n",
    "widgets.interact(r_IS_1, Go = Go_slide) #widgets.interact(nombre_función, parámetro = parámetro:_con_mov)\n"
   ]
  },
  {
   "cell_type": "markdown",
   "id": "3037c64b",
   "metadata": {},
   "source": [
    "### Incremento en la tasa impositiva $(t)$:"
   ]
  },
  {
   "cell_type": "code",
   "execution_count": 10,
   "id": "0af6ac43",
   "metadata": {},
   "outputs": [],
   "source": [
    "#--------------------------------------------------\n",
    "    # Curva IS ORIGINAL\n",
    "\n",
    "# Parámetros\n",
    "\n",
    "Y_size = 100 \n",
    "\n",
    "Co = 35\n",
    "Io = 40\n",
    "Go = 70\n",
    "Xo = 2\n",
    "h = 0.7\n",
    "b = 0.8\n",
    "m = 0.2\n",
    "t = 0.3\n",
    "\n",
    "Y = np.arange(Y_size)\n",
    "\n",
    "\n",
    "# Ecuación \n",
    "def r_IS(b, m, t, Co, Io, Go, Xo, h, Y):\n",
    "    r_IS = (Co + Io + Go + Xo - Y * (1-(b-m)*(1-t)))/h\n",
    "    return r_IS\n",
    "\n",
    "r = r_IS(b, m, t, Co, Io, Go, Xo, h, Y)\n",
    "\n",
    "\n",
    "#--------------------------------------------------\n",
    "    # NUEVA curva IS\n",
    "    \n",
    "# Definir SOLO el parámetro cambiado\n",
    "t = 0.7\n",
    "\n",
    "# Generar la ecuación con el nuevo parámetro\n",
    "def r_IS(b, m, t, Co, Io, Go, Xo, h, Y):\n",
    "    r_IS = (Co + Io + Go + Xo - Y * (1-(b-m)*(1-t)))/h\n",
    "    return r_IS\n",
    "\n",
    "r_t = r_IS(b, m, t, Co, Io, Go, Xo, h, Y)\n"
   ]
  },
  {
   "cell_type": "code",
   "execution_count": 11,
   "id": "3df39f20",
   "metadata": {},
   "outputs": [
    {
     "data": {
      "image/png": "[encoded data removed]",
      "text/plain": [
       "<Figure size 720x576 with 1 Axes>"
      ]
     },
     "metadata": {
      "filenames": {
       "image/png": "C:\\Users\\sandr\\Dropbox\\PUCP\\1REI05\\1REI05_jb\\_build\\jupyter_execute\\notebooks\\tutorial3_33_0.png"
      },
      "needs_background": "light"
     },
     "output_type": "display_data"
    }
   ],
   "source": [
    "    # Gráfico\n",
    "\n",
    "# Dimensiones del gráfico\n",
    "y_max = np.max(r)\n",
    "fig, ax = plt.subplots(figsize=(10, 8))\n",
    "\n",
    "# Curvas a graficar\n",
    "ax.plot(Y, r, label = \"IS\", color = \"black\") #IS orginal\n",
    "ax.plot(Y, r_t, label = \"IS_t\", color = \"C1\", linestyle = 'dashed') #Nueva IS\n",
    "\n",
    "# Texto agregado\n",
    "plt.text(47, 162, '∆t', fontsize=12, color='black')\n",
    "plt.text(47, 158, '←', fontsize=15, color='grey')\n",
    "\n",
    "# Título, ejes y leyenda\n",
    "ax.set(title = \"Incremento en la Tasa de Interés $(t)$\", xlabel= 'Y', ylabel= 'r')\n",
    "ax.legend()\n",
    "\n",
    "plt.show()"
   ]
  },
  {
   "cell_type": "code",
   "execution_count": 12,
   "id": "171984dd",
   "metadata": {},
   "outputs": [
    {
     "data": {
      "application/vnd.jupyter.widget-view+json": {
       "model_id": "c17372c19ab843e1903588ffbeb76251",
       "version_major": 2,
       "version_minor": 0
      },
      "text/plain": [
       "interactive(children=(FloatSlider(value=0.3, description='t', max=1.0), Output()), _dom_classes=('widget-inter…"
      ]
     },
     "metadata": {},
     "output_type": "display_data"
    },
    {
     "data": {
      "text/plain": [
       "<function __main__.r_IS_1(t)>"
      ]
     },
     "execution_count": 12,
     "metadata": {},
     "output_type": "execute_result"
    }
   ],
   "source": [
    "# Gráfico con movimiento\n",
    "\n",
    "# Parámetros\n",
    "\n",
    "Y_size = 100 \n",
    "\n",
    "Co = 35\n",
    "Io = 40\n",
    "Go = 70\n",
    "Xo = 2\n",
    "h = 0.7\n",
    "b = 0.8\n",
    "m = 0.2\n",
    "t = 0.3\n",
    "\n",
    "Y = np.arange(Y_size)\n",
    "\n",
    "def r_IS(b, m, t, Co, Io, Go, Xo, h, Y): # ecuación original\n",
    "    r_IS = (Co + Io + Go + Xo - Y * (1-(b-m)*(1-t)))/h\n",
    "    return r_IS\n",
    "\n",
    "r_t = r_IS(b, m, t, Co, Io, Go, Xo, h, Y)\n",
    "\n",
    "    # Definir ecuación y gráfico para el parámetro específico\n",
    "def r_IS_1(t):\n",
    "    r_IS_1 = (Co + Io + Go + Xo - Y * (1-(b-m)*(1-t)))/h  \n",
    "    \n",
    "    # gráfico\n",
    "    plt.subplots(figsize=(10, 8))\n",
    "    plt.plot(r_IS_1, label = \"IS\", color = \"C1\") # Curva IS orginal\n",
    "    plt.plot(r_t, label = \"IS_t\", color = \"black\") # Curva IS con movimiento\n",
    "    plt.title('Tasa de Interés $(t)$')\n",
    "    plt.legend()    \n",
    "    \n",
    "    # crear gráfico con movimiento/control\n",
    "t_slide = widgets.FloatSlider(value = 0.3, min = 0, max = 1)  #widgets.FloatSlider(valor_inicial, min, max)\n",
    "widgets.interact(r_IS_1, t = t_slide) #widgets.interact(nombre_función, parámetro = parámetro:_con_mov)\n"
   ]
  }
 ],
 "metadata": {
  "kernelspec": {
   "display_name": "Python 3 (ipykernel)",
   "language": "python",
   "name": "python3"
  },
  "language_info": {
   "codemirror_mode": {
    "name": "ipython",
    "version": 3
   },
   "file_extension": ".py",
   "mimetype": "text/x-python",
   "name": "python",
   "nbconvert_exporter": "python",
   "pygments_lexer": "ipython3",
   "version": "3.9.7"
  },
  "widgets": {
   "application/vnd.jupyter.widget-state+json": {
    "state": {
     "43119e8dfecf4492a85969bd68d7a6c6": {
      "model_module": "@jupyter-widgets/output",
      "model_module_version": "1.0.0",
      "model_name": "OutputModel",
      "state": {
       "_dom_classes": [],
       "_model_module": "@jupyter-widgets/output",
       "_model_module_version": "1.0.0",
       "_model_name": "OutputModel",
       "_view_count": null,
       "_view_module": "@jupyter-widgets/output",
       "_view_module_version": "1.0.0",
       "_view_name": "OutputView",
       "layout": "IPY_MODEL_4ca21aaa184e4adc867368410abd7580",
       "msg_id": "",
       "outputs": [
        {
         "data": {
          "image/png": "iVBORw0KGgoAAAANSUhEUgAAAlYAAAHkCAYAAAD8T2H8AAAAOXRFWHRTb2Z0d2FyZQBNYXRwbG90bGliIHZlcnNpb24zLjUuMywgaHR0cHM6Ly9tYXRwbG90bGliLm9yZy/NK7nSAAAACXBIWXMAAAsTAAALEwEAmpwYAABC20lEQVR4nO3deZiN9eP/8df7GEy2lKVkbJGKscxm38cakp3siRYlSpH2EhVJopStJLJlyZqd7LMwM4jsBlkTkS337485n+9PZRmcmfeZc56P65przr2d+3Xmvm69Pvd9n/fHOI4jAAAA3D6X7QAAAAC+gmIFAADgIRQrAAAAD6FYAQAAeAjFCgAAwEMoVgAAAB5CsQIAAPAQihUAAICHUKwAeB1jzNfGmH62c9wMY8wdxphVxpj6t7j9AGNMj+ssX2+MKX7LAQGkCooV4OeMMX9e8XPZGPPXFdNtbOe7GcaYPcaYmim1/g18KWmw4zhzbnZDY0wuSe3d73Hl/ERjTIh7cpCkd287JYAUFWA7AAC7HMfJ8r/Xxpg9kp50HGeRvURpgzEmwHGcS/+bdhyn/W28XUdJcx3H+euK988p6R5JW9yzZkkaYYy513Gc325jXwBSEFesAFyXMaaPMWanMea0MWaLMabxFct6G2MOuJdtM8ZE3miba+wjxBgT415/kqTAK5bdZ4yZZow5aozZbYzpfhPZ9xhjehlj4owxfxhjJhljAt3LvpWUX9KP7qtzr9xoX+73622MiZN0xhgTcL1trvX3uYp6kpZfsV0RSfuV9G/0cWPMcUmXJEVLqpPczw8g9VGsANzITkmVJd0p6R1J440xeYwxD0p6TlKE4zhZlfQf/D3X2+Zqb26MySBphqRvJd0taYqkpu5lLkk/StokKa+kSEk9jDE3Uy5aSKorqZCkkkq6OiTHcdpJ2iepofuq3aBk7qu1pPqSsku6fK1tbvD3+bcSkrb9b8JxnB2Sekma6jhOFsdxcrivjm2VVOomPjuAVEaxAnBdjuNMcRznoOM4lx3HmSTpV0llJP0tKaOkYsaY9I7j7HEcZ+cNtrmacpLSSxriOM5Fx3GmStrgXhYhKZfjOO86jnPBcZxdkkZKanUTH2GoO8sJJZWg0tdYL7n7Guo4zn73bbvrbXPNv89VZJd0+l/zSkna+K95p93rAvBSPGMF4LqMMe0lvSipoHtWFkk5HcfZ4f4W29uSihtjFkh60XGcg9fa5hq7uE/SAcdxnCvm7XX/LiDpPmPMySuWpZO08iY+wpXPI5117+9qkruv/cnZ5np/n6vs+3dJWf81r7SSruRdKaukkwLgtbhiBeCajDEFlHQF5jlJORzHyS4pQZKRJMdxJjiOU0lJBcOR9OGNtrmKQ5LyGmOuXJ7f/Xu/pN2O42S/4ier4ziPeOgjXlnmkruvZG9ztb/PNXLESSr6vwn3LdBg/feK1cNKuu0IwEtRrABcT2YlFYKjkmSM6aSk/+DLGPOgMaaGMSajpHOS/lLSM0fX3OYa1ijpwezuxpj0xpgm+v+3DddLOu1+CPwOY0w6Y0ywMSbCQ5/vsKT7b2Nf19zmOn+fq5krqeoV03e4f/7v32j3Q/dhkhbe0icFkCooVgCuyXGcLZI+VlL5Oaykh6xXuRdnlPSBpGNKut2WW9KrN9jmavu4IKmJkh4qPyGppaQf3Mv+ltRASbfFdrv3NUpJD8V7wgBJr7tv5fW82X3dIN9V/z7XeKtxkh4xxtzhft8zkkZI2mKMSXSv01DSsmvcSgTgJcw/H2sAANhgjOkv6YjjOEOusXydpM6O4ySkajAAN4ViBQAA4CHcCgQAAPAQihUAAICHUKwAAAA8hGIFAADgIV4x8nrOnDmdggUL2o4BAABwQ9HR0cccx8l1tWVeUawKFiyoqKgo2zEAAABuyBiz91rLuBUIAADgIRQrAAAAD6FYAQAAeIhXPGMFAADStosXLyoxMVHnzp2zHcVjAgMDFRQUpPTp0yd7G4oVAAC4bYmJicqaNasKFiwoY4ztOLfNcRwdP35ciYmJKlSoULK341YgAAC4befOnVOOHDl8olRJkjFGOXLkuOkrcBQrAADgEb5Sqv7nVj4PxQoAAPiELFmySJIuX76s7t27Kzg4WCVKlFBERIR2796dKhl4xgoAAPiUSZMm6eDBg4qLi5PL5VJiYqIyZ86cKvumWAEAAJ9y6NAh5cmTRy5X0o25oKCgVNs3xQoAAHjWvD7Sb/Gefc97S0j1PkjWqi1atFClSpW0cuVKRUZGqm3btgoJCfFsnmvgGSsAAOBTgoKCtG3bNg0YMEAul0uRkZFavHhxquybK1YAAMCzknllKSVlzJhR9erVU7169XTPPfdoxowZioyMTPH9csUKAAD4lJiYGB08eFBS0jcE4+LiVKBAgVTZN1esAACATzly5Ii6dOmi8+fPS5LKlCmj5557LlX2TbECAAA+4c8//5Qk1a1bV3Xr1rWSwW9uBe7YkDoPrQEAAP/lF8VqzYzReqhsTfVuWUGXzvvO/+s2AADwLn5RrEJrNVfXuiX10eQ1ql06SId3JdiOBAAAfJBfFKuMmbPp87mb9PU7T2nNjuMKCw3RmhmjbccCAAA+xi+K1f90eHOE1sydpIwBLlVt9qSGv/y4nMuXbccCAAA+wq+KlSSVrtVCUXG/qHaJPHpu0ES1q1ZUZ34/YjsWAADwAX5XrCTprvsKadaGfXr3iVqasHKnygcX4luDAADgtvllsZIkV0CA3hj9k+aN6a8DJ88pvEotzfr8TduxAADALcqSJYukpNHWu3fvruDgYJUoUUIRERHavXv3Nbfr37+/xzL4bbH6nzqdXlX06uUqkjuzGnV7T31bV9bfFy/YjgUAAG7RpEmTdPDgQcXFxSk+Pl7Tp09X9uzZr7m+J4sVI69LKliqkn5O2K/uzSppwPc/a0N8Xk2cs0o5CxS1HQ0AgDSnR48e2rhxo0ffs3Tp0hoyZEiy1j106JDy5Mkjlyvp+lFQUNA11+3Tp4/++usvlS5dWsWLF9d33313Wzn9/orV/wRmza6vFiRo9JudtXLbMYWWLq71P35jOxYAALhJLVq00I8//qjSpUvrpZdeUmxs7DXX/eCDD3THHXdo48aNt12qJK5Y/ccT74xS6QqRavp4B1Vu3FFDX1msrv2+lnHRQQEASI7kXllKKUFBQdq2bZuWLFmiJUuWKDIyUlOmTFFkZGSK75u2cBWhdVoretNW1Sh+j54e8K2eqFVMf506YTsWAABIpowZM6pevXoaOHCg+vbtqxkzZqTKfilW13B3UGHNiU7UW+1r6Jsl21SheH7tilluOxYAALiBmJgYHTx4UFLSNwTj4uJUoECBa66fPn16Xbx40SP7plhdhysgQG9/s1hzRvbT3uN/Kaxidc0d2c92LAAAcB1HjhxRw4YNFRwcrJIlSyogIEDPPffcNdfv2rWrSpYsqTZt2tz2vo3jOLf9JrcrPDzciYqKsh3junZvXKmmj9ZT7P4zerN9db05ar7Spc9gOxYAAF5h69atevjhh23H8LirfS5jTLTjOOFXW58rVslUqHRlrUrYp041HtK745aqflg+Hd+/w3YsAADgRShWN+GObHdr9MLN+uq1jlq65YjCShVT9Pzb/2omAABIeWXLllXp0qX/8RMfH+/RfTDcwk0yLpe69Bur0uWrq1m7J1WxYVsN67NYT743xnY0AABwHevWrUvxfXDF6hZF1G+v6NgEVXkwl7r0G6snaxXTudMnbccCAMAab3hu25Nu5fNQrG5DzgJFNS82Ua89XkWjF21VpeB82rPpZ9uxAABIdYGBgTp+/LjPlCvHcXT8+HEFBgbe1HZ8K9BDfvzibbV78V2lcxl9N7Sf6nZ+1XYkAABSzcWLF5WYmKhz587ZjuIxgYGBCgoKUvr06f8x/3rfCqRYedCODYvVtPGjij9wVm93rKnXR86TK4DH2AAA8CUMt5BKikREak3CXrWpUkRvfb1IDcPz6feDu23HAgAAqYRi5WGZsufUuKXbNPzlx7Uw4TeFlXhQsT9Nsh0LAACkAopVCjAul5796DutmDZaF/92VKF+K339zlO2YwEAgBRGsUpB5Ro9oejYTarwQA51evsrPV2vhM6fOWU7FgAASCEUqxSWu1AxLYhNVJ9WFfXl/ARVDg7Svvi1tmMBAIAUQLFKBQEZAzVg4s/6Yeir+uXQnwotV1GLxg2yHQsAAHgYxSoVNX6+v6KWL9C9d2ZUnY4vq3+Xerp86ZLtWAAAwEMoVqmsaNlaWrd5j1pWuF+vjZqvxuUK6uShvbZjAQAAD6BYWZD5rtz6bsWv+rRnc82NPaDwkkUVt2Sa7VgAAOA2UawsMS6Xug+erGWTR+jshb9Vrm4zje//nO1YAADgNlCsLKvY9CnFRMeqzP13q91rw9WtQWldOPun7VgAAOAWUKy8wL1FSmjRpgPq1aycPp+zSVWC8ypxywbbsQAAwE2iWHmJgIyBGjhljaYMflmbD5xWaJlyWjL+E9uxAADATaBYeZlmPT/ShqVzlDNrBtVq/6I+fKaBnMuXbccCAADJQLHyQg9VqKf1CbvVrFxB9RkxR03KFtAfh/fZjgUAAG6AYuWlsuS4V9//vFODuzfRj9GJiihRVAnLZtqOBQAAroNi5cWMy6Wen07T0knDdfrcJZWt3VgTP+xhOxYAALgGilUaULn5s4qJjlZYwex6vM+neqFROEMyAADghShWaUSeB0ppcVyiejaO0NBZ0apeMkgHt8XajgUAAK5AsUpD0gdm0uAf1mvSwBe1af8phYZHaPn3n9mOBQAA3ChWaVCLXh9r/aJZyp4pQJGPd9fHzzdmSAYAALwAxSqNKla5gdbH71CjiHzqNWyGWlQopNPHDtqOBQCAX6NYpWHZcgdp6po9GvhsI/2wfp/KBBfW1lVzbccCAMBv3bBYGWPyGWOWGmO2GGM2G2NecM+/2xiz0Bjzq/v3Xe75xhgz1BizwxgTZ4wJTekP4c+My6Vew2do8Xef6sSZi4qo0UCTB71kOxYAAH4pOVesLkl6yXGcYpLKSepmjCkmqY+kxY7jPCBpsXtakupJesD901XSFx5Pjf+o1rq7YjasU8l82dTy5cF6sUkZXTx31nYsAAD8yg2LleM4hxzHiXG/Pi1pq6S8khpJ+sa92jeSHnO/biRpnJNkraTsxpg8ng6O/8r7UJiWxSXq+Yah+mT6BkWWDNKhXzfZjgUAgN+4qWesjDEFJYVIWifpHsdxDrkX/SbpHvfrvJL2X7FZonseUkGGTFk0dFa0xvd/TtF7Tio0LEw/Tx1hOxYAAH4h2cXKGJNF0jRJPRzHOXXlMsdxHEnOzezYGNPVGBNljIk6evTozWyKZGjz6mda+9M0ZcmYTtVbPqNPezZnSAYAAFJYsoqVMSa9kkrVd47j/OCeffh/t/jcv4+45x+QlO+KzYPc8/7BcZyvHMcJdxwnPFeuXLeaH9dRolpjRSX8qvohedVjyFS1rlxYfx7/zXYsAAB8VnK+FWgkjZa01XGcwVcsmiWpg/t1B0kzr5jf3v3twHKS/rjiliFS2Z335NcPa/doQNdHNGXNHpUNvl/b1i6wHQsAAJ+UnCtWFSW1k1TDGLPR/fOIpA8k1TLG/CqppntakuZK2iVph6SRkp71fGzcDFdAgPp8OUc/fTNIR06fV0S1epo2pLftWAAA+ByT9HiUXeHh4U5UVJTtGH5h/+b1at6wltbtPqWXm5dX/2+XKCBjoO1YAACkGcaYaMdxwq+2jJHX/Uy+4mW0PH6/nq1fSgOnrFGt0nl1eFeC7VgAAPgEipUfypg5m4bP3qhx/Z7Vup0nFBoSojUzRtuOBQBAmkex8mPtXhuuNfOmKDC9S1WbPalhvVozJAMAALeBYuXnSkU2U3T8dtUtdZ+e//h7tatWVGd+P3LjDQEAwH9QrKDseQpoxrq96vdkHU1YuVPlgwvp1/WLbccCACDNoVhBUtKQDK+NnK/5Yz7QwZPnFF6llmYOf8N2LAAA0hSKFf6hdqfeil6zUkXvzaLHnuunvq0r6++LF2zHAgAgTaBY4T8KlKyglfH71KV2cQ34/mfVKZ1XR/f8YjsWAABej2KFqwrMml1fLUjQmLe66OftxxRauoTW/fi17VgAAHg1ihWuq9PbX2n17AkKSGdUuXEnfdG7LUMyAABwDRQr3FBondaK3rRVNYvfo2c/+k4dIx/W2ZPHbMcCAMDrUKyQLHcHFdbs6ES93TFS3y7brvLBBbQzeqntWAAAeBWKFZLNFRCgt8Yu0pyR/bT/xDmFVYrU7BHv2I4FAIDXoFjhptV78jVFr16m+3NlUsNn3tYb7aoxJAMAAKJY4RYVKl1ZqxL2qVONh9Rv/HI9EppPx/fvsB0LAACrKFa4ZXdku1ujF27WV6911LKtRxRaqpii5o63HQsAAGsoVrgtxuVSl35jtWrWt5Kkio+208jXOzEkAwDAL1Gs4BHhj7RVdGyCqj2cW13f/1qdaxXXX6dO2I4FAECqoljBY3IWKKq5Mfv1etuqGrvkF1UMzq/dG1fajgUAQKqhWMGj0qXPoPe+XaYfv3hbu4+eVViFapo36n3bsQAASBUUK6SIBk+/paifFyt/jjtUv8vreqdTTV2+dMl2LAAAUhTFCimmcFh1rY7fo3bViurtrxerQViQTiTutB0LAIAUQ7FCisqUPae+XrxVX/Ruq0WbDyus1MOK/WmS7VgAAKQIihVSnHG59PQH32rl9LG69Lej8vVbaezbXW3HAgDA4yhWSDVlG3ZUzMZ4VXwgh554Z6S61gnWudMnbccCAMBjKFZIVbkKPqQFsYnq06qiRv60WZVL5NfeuNW2YwEA4BEUK6S6gIyBGjDxZ80Y9rq2//anwspX1k9jP7QdCwCA20axgjWNur2nqBULlSd7RtV9oo/e71KXIRkAAGkaxQpWPVAmUmsT9qh1pcJ6fdQCPVa2gE4e2ms7FgAAt4RiBesy35Vb45dv12cvtdK8jQcVXrKoNi2eajsWAAA3jWIFr2BcLj03aKKWT/lKf124rPL1muvb97vZjgUAwE2hWMGrVGjSRTGxsSpb+G61f/1zPftIKZ0/c8p2LAAAkoViBa9zz/3BWrjxgF5uXl5fzItT1RL5tH/zetuxAAC4IYoVvFJAxkB9NHm1pn7yijYfOK3QsuW1+NuPbccCAOC6KFbwak17fKgNS+coV9YMqt2hlz58poGcy5dtxwIA4KooVvB6D1Wop/UJu9W8fEH1GTFHTcoW0B+H99mOBQDAf1CskCZkyXGvJq7cqU9eaKrZMYmKKFFUCctm2o4FAMA/UKyQZhiXSz2GTNXSSV/o9LlLKlu7sSZ88ILtWAAA/B+KFdKcSs2eVkx0tMIKZlebV4eq+6NhunD2T9uxAACgWCFtyvNAKS2OS9SLTcrosx9jVL1kkA78Em07FgDAz1GskGalD8ykj6et06SBL2rT/lMKjSirZROH2o4FAPBjFCukeS16faz1i2bprkwBqtnmBQ3q9hhDMgAArKBYwScUq9xA6+N36LGI/Hr585lqXr6QTh1JtB0LAOBnKFbwGdlyB2nKmt0a+GwjzdiwT2VKFNGWlbNtxwIA+BGKFXyKcbnUa/gMLZ4wVL+fvaQyNR/VpEEv2o4FAPATFCv4pKqtnlds1AaVypdNrV7+RD0bR+jiubO2YwEAfBzFCj7rvgdDtDQuUd0fDdOQGVGqUTKvDv26yXYsAIAPo1jBp2XIlEWfzozShA9eUMyePxQaFqaVUz63HQsA4KMoVvALrXsP0bqfpitrYICqt+ymT15oypAMAACPo1jBbwRXa6QN8dvVMCxILw79Qa0qFdbpYwdtxwIA+BCKFfzKnffk1w/r9uqDp+tr6to9KluisH5ZPc92LACAj6BYwe8Yl0u9v5itheMG69jpC4qoXl/ThvS2HQsA4AMoVvBbNdr2VMz6tSqeN6ua9fxILzcvr0vnz9mOBQBIwyhW8GtBxSK0PH6/nq1fSoOmrlWt0nl1eFeC7VgAgDSKYgW/lzFzNg2fvVHj+j2rdTtPKDQkRKt/GGk7FgAgDaJYAW7tXhuuNfOm6I4MLlVt3lWfvdSKIRkAADeFYgVcoVRkM0XFbVe90vep++BJalu1qM78fsR2LABAGkGxAv4le54CmrFur/o9WUcTf96pcsEFtX3dQtuxAABpAMUKuApXQIBeGzlfC77+UIdOnldE1Tqa/llf27EAAF6OYgVcR60Oryhm7SoVvTeLmnQfoD6tKjIkAwDgmihWwA3kL1FOK+P3qWudYH04abXqhATpyO4ttmMBALwQxQpIhsCs2fXl/HiNeauLVv96XKEhpbR25hjbsQAAXoZiBdyETm9/pdVzvleGdEZVmnbW56+0YUgGAMD/oVgBNymkdktFbdqqWsH3qtvACepQ4yGdPXnMdiwAgBegWAG34O6gwvoxar/e6VhT45f/qvLBBbQzeqntWAAAyyhWwC1yBQTozbELNXdUf+0/cU5hlSL14xdv244FALCIYgXcprqdX1XMmuUqnDuzHn32Hb3epqr+vnjBdiwAgAUUK8ADCpaqpFUJ+9W55sN6f8IK1QsJ0rG9223HAgCkMooV4CGBWbNr1MItGvl6J63YdlRhIcGKmjvediwAQCqiWAEe9uR7Y/TzzG9lJFV8tJ1Gvt6JIRkAwE9QrIAUEP5IW0Vv2qLqxXKr6/tfq3Ot4vrr1AnbsQAAKYxiBaSQHPmKaE70fr3RtprGLvlFFYPza/fGlbZjAQBSEMUKSEHp0mfQu98u1ewv39Huo2cVVqGa5o7sZzsWACCFUKyAVFC/65uKXrVU+XPcoQZd39BbHWowJAMA+CCKFZBK7g+tqjWb96lDjQf17rilahCeXycSd9qOBQDwIIoVkIruyHa3xizcohGvttOSzYcVVuphxSyYaDsWAMBDKFZAKjMul57qP04rp3+tvy87qtDgcY1560nbsQAAHkCxAiwp07CDomPjVfnBnOr87mh1qV1c506ftB0LAHAbKFaARbkKPqT5sQfU9/HKGrVwiyoF59PeuNW2YwEAbhHFCrAsXfoMev+7FZox7HX9eviMQstX1oKxA2zHAgDcAooV4CUadXtPUSsWKm/2QNV7oq/6da6ry5cu2Y4FALgJFCvAizxQJlJrEnbr8cqF9caYBWpUJr9+P7jbdiwAQDJRrAAvk/mu3Pp22XYN69VaC+IOKbzkQ9q4cLLtWACAZKBYAV7IuFzqNnCClk8dpXMXL6v8Iy017r1nbMcCANwAxQrwYuUf66yY2FiVK3K3Orw5Qs88UlLnz5yyHQsAcA0UK8DL3XN/sBZuPKBXWpTXiHnxqhIcpP2b19uOBQC4CooVkAYEZAzUh5NWa9qQPtp66E+Fli2vReMG2Y4FAPgXihWQhjR5YYA2LJune7JlVJ2OL2vAU48wJAMAeJEbFitjzBhjzBFjTMIV80obY9YaYzYaY6KMMWXc840xZqgxZocxJs4YE5qS4QF/9GC5Olobv0stKhRS36/mqUm5gvrj8D7bsQAASt4Vq68l1f3XvI8kveM4TmlJb7qnJamepAfcP10lfeGRlAD+IUuOezVhxQ592rO55sQeUHjwA4pfNt12LADwezcsVo7jrJB04t+zJWVzv75T0kH360aSxjlJ1krKbozJ46mwAP4/43Kp++DJWjZ5hM5c+FtlazfRdwOetx0LAPzarT5j1UPSQGPMfkmDJL3qnp9X0v4r1kt0z/sPY0xX923EqKNHj95iDAAVmz6lmOhYRRS6S237DtPzDUN14eyftmMBgF+61WL1jKSejuPkk9RT0uibfQPHcb5yHCfccZzwXLly3WIMAJJ0b5ESWrQpUS81Laths2NVrWSQErdssB0LAPzOrRarDpJ+cL+eIqmM+/UBSfmuWC/IPQ9ACksfmEmDpq7V5I97KW7/KYWWKaelE4bYjgUAfuVWi9VBSVXdr2tI+tX9epak9u5vB5aT9IfjOIduMyOAm9D8xYHasGS2cmTJoJpte+qjZxrKuXzZdiwA8AvJGW5hoqQ1kh40xiQaYzpL6iLpY2PMJkn9lfQNQEmaK2mXpB2SRkp6NkVSA7iuhys+ovUJO9WkTH71HjFbzcoX1KkjibZjAYDPM47j2M6g8PBwJyoqynYMwOc4ly/rkx7N9Mqw6SqcK6N+mDJZxas8ajsWAKRpxphox3HCr7aMkdcBH2ZcLr049ActnjBUf5y9pDI1H9P3H/W0HQsAfBbFCvADVVs9r5ioDQopcKda9x6iHo+F6+K5s7ZjAYDPoVgBfuK+B0O0NP6AXmgUpk9nRqtGybw69Osm27EAwKdQrAA/kj4wk4bMiNKED15QzJ4/FBIaphWThtuOBQA+g2IF+KHWvYdo/aIZujNTgGq0fk6DuzdhSAYA8ACKFeCnild5VBvid6hRRD699Nl0tax4v04fO3jjDQEA10SxAvxYttxBmrpmjz569lFNW7dXZUsU1tZVc23HAoA0i2IF+Dnjcunl4TO1aPwnOnb6gsrUaKCpn7xiOxYApEkUKwCSpOqP91DM+rUKDsqq5i8OVK9m5XTp/DnbsQAgTaFYAfg/QcUitDz+gLrVL62Pp61TzVJ59duOeNuxACDNoFgB+IcMmbJo2OxYfft+N63fdUKhYSFaNe1L27EAIE2gWAG4qrZ9h2nt/KnKlCGdqrV4WkNfbMGQDABwAxQrANdUskZTRcVt1yMhefXCJ1PUpsoDOvP7EduxAMBrUawAXFf2PAU0fe0e9e9aT5NW71LZ4gW1fd1C27EAwCtRrADckCsgQK9+OVcLvh6ow6fOK7xqHU3/rK/tWADgdShWAJKtZvteil6zSg/lyaIm3QeoT6uKDMkAAFegWAG4KflLlNPKhEQ9VTdYH05ardqlg3Rk9xbbsQDAK1CsANy0jJmzacS8eH39zlNas+O4QkNKae3MMbZjAYB1FCsAt6zDmyO0Zu4kZUhnVKVpZ33+ShuGZADg1yhWAG5L6VotFB2/TbVL5FG3gRPUvvqDOnvymO1YAGAFxQrAbbvrvkKatWGf3n2ilr5bsUPlgwtox4bFtmMBQKqjWAHwCFdAgN4Y/ZPmjuqvxN/PKbxKLc36/E3bsQAgVVGsAHhU3c6vKnr1chXJnVmNur2n19tU1d8XL9iOBQCpgmIFwOMKlqqknxP268laxfT+hBWqFxKkY3u3244FACmOYgUgRQRmza6RP23WqDee0IptRxVaurjW//iN7VgAkKIoVgBSVOd3R2vVj+PlMkaVG3fUl33bMyQDAJ9FsQKQ4sLqtlH0pi2qUfwePT3gW3Wq+bD+OnXCdiwA8DiKFYBUkSNfEc2O2qe32tfQN0u3q0Lx/NoVs9x2LADwKIoVgFSTLn0Gvf3NYs356j3tOXZWYRWra+7IfrZjAYDHUKwApLpHuryu6FVLVTBnJtXv+obe6lCDIRkA+ASKFQAr7g+tqtWb96lD9aJ6d9xS1Q/Lp+P7d9iOBQC3hWIFwJo7st2tsYu2asSr7bR0yxGFlSqm6Pnf2Y4FALeMYgXAKuNy6an+4/TzzG902XFUsWFbjX6zs+1YAHBLKFYAvEJE/faK2bhZlR/MqSffG6MutYvr3OmTtmMBwE2hWAHwGjkLFNX82APq+3hljVq4RZWC82nPpp9txwKAZKNYAfAq6dJn0PvfrdDM4W/o18NnFFahqhaMHWA7FgAkC8UKgFd69Nl3Fb1yofJmD1S9J/rqvc61dfnSJduxAOC6KFYAvFaRiEit3bxXbaoU0ZtjFurRiPz6/eBu27EA4JooVgC8WqbsOTVu6TYN69VaP8UfUnjJh7Rx4WTbsQDgqihWALyecbnUbeAErZg2WucvXVb5R1rqm3efth0LAP6DYgUgzSjX6AnFxG5S+SI51PGtL/V0vRI6f+aU7VgA8H8oVgDSlNyFiumnjYnq3bKCvpyfoMrBQdoXv9Z2LACQRLECkAYFZAzUB9+v0g9DX9Uvh/5UWPmKWjRukO1YAECxApB2NX6+v6KWL9A92TKqTseX1b9LPYZkAGAVxQpAmla0bC2tjd+lFhUK6bVR89W4XEGdPLTXdiwAfopiBSDNy5LjXk1YsUOf9myuubEHFFGyqOKXTbcdC4AfolgB8AnG5VL3wZO1bPIInbnwt8rWbqLvBjxvOxYAP0OxAuBTKjZ9SjHRsYoodJfa9h2m5xqE6MLZP23HAuAnKFYAfM69RUpo0aZEvdS0rIbP2aiqJfIqccsG27EA+AGKFQCflD4wkwZNXaspg19WQuJphZYppyXjP7EdC4CPo1gB8GnNen6kDUvnKGfWDKrV/kV99ExDOZcv244FwEdRrAD4vIcq1NO6+J1qWraAeo+YrablCuiPw/tsxwLggyhWAPxC1pz3adKqXRrcvYlmRSUqokRRJSybaTsWAB9DsQLgN4zLpZ6fTtOSicN0+twlla3dWBM/7GE7FgAfQrEC4HeqtOymmOhohRa8U4/3+VQvNApnSAYAHkGxAuCX8jxQSkviDqjHY+EaOita1UsG6eC2WNuxAKRxFCsAfit9YCZ9Mn2Dvh/YU5v2n1JIeISWf/+Z7VgA0jCKFQC/17LXYK1fNEt3ZQpQ5OPd9fHzjRmSAcAtoVgBgKRilRtoffwONYrIp17DZqhFhUI6feyg7VgA0hiKFQC4ZcsdpKlr9uijZx/VD+v3qUxwYW1dNdd2LABpCMUKAK5gXC69PHymFo3/RCfOXFREjQaaPOgl27EApBEUKwC4iuqP91DMhnUqmS+bWr48WC81LauL587ajgXAy1GsAOAa8j4UpmVxiXquQYgG/7BekSWD9NuOeNuxAHgxihUAXEeGTFn02Y8xGt//OUXt+V2hYSH6eeoI27EAeCmKFQAkQ5tXP9Pa+VOVOUM6VW/5jD7t2ZwhGQD8B8UKAJKpZI2m2hC3XfVD8qrHkKlqXbmw/jz+m+1YALwIxQoAbkL2PAX0w9o96t+1nqas2aOywfdr29oFtmMB8BIUKwC4Sa6AAL365Vz99M0gHTl9XhHV6mnakN62YwHwAhQrALhFke1eUsy6NXo4TxY16/mRXmlRQZfOn7MdC4BFFCsAuA35ipfRioREPVOvpAZOWaNapfPq8K4E27EAWEKxAoDblDFzNn0+d5O+efdprd1xQqEhIVozY7TtWAAsoFgBgIe0f+MLrZ0/RYHpXara7EkN69WaIRkAP0OxAgAPKhXZTFFxv6hOyTx6/uPv1a5aUZ35/YjtWABSCcUKADzsrvsKaeb6fXrviTqasHKnygcX0q/rF9uOBSAVUKwAIAW4AgL0+uj5mjemvw6cPKfwKrU0c/gbtmMBSGEUKwBIQXU6vaqYNStV9N4seuy5furburL+vnjBdiwAKYRiBQAprEDJCloZv09dahfXgO9/Vt2QvDq65xfbsQCkAIoVAKSCwKzZ9dWCBI1+s7NWbjumsJASWv/jN7ZjAfAwihUApKIn3hml1bMnKJ3LqFLjjhrRpx1DMgA+hGIFAKkstE5rRW/aqsji9+iZD8erY+TDOnvymO1YADyAYgUAFtwdVFhzohP1Vvsa+nbZdlUoUVA7o5fajgXgNlGsAMASV0CA3v5mseaM7Kd9x/9SeKVIzR7xju1YAG4DxQoALKv35GuKXr1MhXJlUsNn3tab7aozJAOQRlGsAMALFCpdWasS9qlTjYf03vhlqh+WT8f377AdC8BNolgBgJe4I9vdGr1ws756raOWbjmisFLFFDV3vO1YAG4CxQoAvIhxudSl31j9PPMbXXYcVXy0nUa98YTtWACSiWIFAF4oon57xWzcrKoP5VKXfmPVuebD+uvUCduxANzADYuVMWaMMeaIMSbhX/OfN8b8YozZbIz56Ir5rxpjdhhjthlj6qREaADwBzkLFNW82ES99ngVjVn8iyqVKKA9m362HQvAdSTnitXXkupeOcMYU11SI0mlHMcpLmmQe34xSa0kFXdv87kxJp0nAwOAP0mXPoP6fbdcsz5/SzuPnFFYhaqaP3qA7VgAruGGxcpxnBWS/n39+RlJHziOc969zhH3/EaSvncc57zjOLsl7ZBUxoN5AcAvNXzmbUWtWKiguwL1yJN99W6nWrp86ZLtWAD+5VafsSoqqbIxZp0xZrkxJsI9P6+k/Vesl+ieBwC4TUUiIrUmYa/aVn1Ab329SA3D8+lE4k7bsQBc4VaLVYCkuyWVk/SypMnGGHMzb2CM6WqMiTLGRB09evQWYwCAf8mUPae+WfKLPn+ljRYm/KawUg8r9qdJtmMBcLvVYpUo6QcnyXpJlyXllHRAUr4r1gtyz/sPx3G+chwn3HGc8Fy5ct1iDADwP8bl0jMfjtfK6WN16W9HFeq30ti3u9qOBUC3XqxmSKouScaYopIySDomaZakVsaYjMaYQpIekLTeAzkBAP9StmFHxWyMV4UHcuiJd0bqqboldP7MKduxAL+WnOEWJkpaI+lBY0yiMaazpDGS7ncPwfC9pA7uq1ebJU2WtEXSfEndHMf5O+XiA4B/y1XwIS2ITVSfVhX11YIEVSoepL1xq23HAvyWcRzHdgaFh4c7UVFRtmMAQJo2c/gbav/S+0qfzmji5wNUq8MrtiMBPskYE+04TvjVljHyOgD4iEbd3lPUioXKkz2j6nTsrf5d6jEkA5DKKFYA4EMeKBOptQl71LpSYb02ar4eK1tAJw/ttR0L8BsUKwDwMZnvyq3xy7frs5daad7GgwovWVRxS6bZjgX4BYoVAPgg43LpuUETtXzKV/rrwmWVq9tM377fzXYswOdRrADAh1Vo0kUxsbEqc//dav/65+rWoLQunP3TdizAZ1GsAMDH3XN/sBZtOqBezcrp8zmbVCU4rxK3bLAdC/BJFCsA8AMBGQM1cMoaTRn8sjYfOK3QMuW0ZPwntmMBPodiBQB+pFnPj7Rh6RzlzJpBtdq/qI+eaSjn8mXbsQCfQbECAD/zUIV6Wp+wW83KFVTvEbPVtFwB/XF4n+1YgE+gWAGAH8qS4159//NODe7eRLOiEhVRoqgSls20HQtI8yhWAOCnjMulnp9O05KJw3T63CWVrd1YEz/sYTsWkKZRrADAz1Vp2U0x0dEKLXinHu/zqbo/GsaQDMAtolgBAJTngVJaEndAPR4L12c/xqh6ySAd3BZrOxaQ5lCsAACSpPSBmfTJ9A36fmBPbdp/SiHhEVo2cajtWECaQrECAPxDy16DtX7RLN2VKUA127ygj59vzJAMQDJRrAAA/1GscgOtj9+hxyLyq9ewGWpRoZBOHztoOxbg9ShWAICrypY7SFPW7NbAZxtp+vp9KhNcWFtXzbUdC/BqFCsAwDUZl0u9hs/Qou8+1YkzFxVRo4EmD3rJdizAa1GsAAA3VK11d8VsWKdS+bKp5cuD9WKTMrp47qztWIDXoVgBAJIl70NhWhqXqOcbhuqT6RsUWTJIh37dZDsW4FUoVgCAZMuQKYuGzorWdwO6K3rPSYWGhWnllM9txwK8BsUKAHDTHu/zqdb9NF1ZAwNUvWU3DenRjCEZAFGsAAC3KLhaI22I366GYUHq+ek0ta5cWH8e/812LMAqihUA4JbdeU9+/bBurz54ur6mrNmjssH365fV82zHAqyhWAEAbotxudT7i9n66ZtBOnr6vCKq19e0Ib1txwKsoFgBADwist1Lil63RsXzZlWznh/p5eblden8OduxgFRFsQIAeEy+4mW0PH6/nq1fSoOmrlWt0nl1eFeC7VhAqqFYAQA8KmPmbBo+e6PG9XtW63aeUGhIiNbMGG07FpAqKFYAgBTR7rXhWjNvigLTu1Sl6ZMa1qs1QzLA51GsAAApplRkM0XF/aK6pfLo+Y+/V7tqRXXm9yO2YwEphmIFAEhRd91XSDPX79N7T9TRhJU7VS64oH5dv9h2LCBFUKwAACnOFRCg10fP1/wxH+jgyfMKr1JLMz57zXYswOMoVgCAVFO7U2/FrFmpovdmUePu/dWnVUWGZIBPoVgBAFJVgZIVtDJ+n7rWCdaHk1arTkiQjuzeYjsW4BEUKwBAqgvMml1fzo/XmLe6aNWvxxUWUkrrfvzadizgtlGsAADWdHr7K62ePUEB6YwqN+6kEX3aMSQD0jSKFQDAqtA6rRW9aatqFr9Hz3w4Xh0jH9bZk8dsxwJuCcUKAGDd3UGFNTs6UW93jNS3y7arQomC2hm91HYs4KZRrAAAXsEVEKC3xi7SnJH9tO/4XwqvFKnZI96xHQu4KRQrAIBXqffka4pevUz3586shs+8rTfbVdffFy/YjgUkC8UKAOB1CpWurFUJ+/VE5EN6b/wyPRKaT8f377AdC7ghihUAwCsFZs2u0Yu2auTrnbT8lyMKLVVMUXPH244FXBfFCgDg1Z58b4x+nvmtJKnio+006o0nLCcCro1iBQDweuGPtFV0bIKqPZxbXfqNVeeaD+uvUydsxwL+g2IFAEgTchYoqrkx+/VG22oas/gXVQzOr90bV9qOBfwDxQoAkGakS59B7367VD9+8bZ2Hz2rsArVNHdkP9uxgP9DsQIApDkNnn5LUT8vVv4cd6hB1zf0dodIXb50yXYsgGIFAEibCodV1+r4PWpfvajeGbdEDcKCdCJxp+1Y8HMUKwBAmpUpe06NXbRVI15tp0WbDyus1MOKWTDRdiz4MYoVACBNMy6Xnuo/Tiunj9Wlvx1VaPC4xrz1pO1Y8FMUKwCATyjbsKNiNsarUtGc6vzuaHWtE6xzp0/ajgU/Q7ECAPiMXAUf0oKNB/Rqq0oa+dNmVQrOp71xq23Hgh+hWAEAfEq69BnUf+JKzRj2un49fEah5Svrp7Ef2o4FP0GxAgD4pEbd3lPUioW6L3tG1X2ij/p1rsuQDEhxFCsAgM96oEyk1ibs0eOVC+uNMQvUqEx+nTy013Ys+DCKFQDAp2W+K7e+XbZdw3q11vxNhxRWoqg2LZ5qOxZ8FMUKAODzjMulbgMnaPmUr3Tu4mWVq9tc4957xnYs+CCKFQDAb1Ro0kUxsbEqV+RudXhzhJ59pJTOnzllOxZ8CMUKAOBX7rk/WAs3HtDLzcvri3lxqhIcpP2b19uOBR9BsQIA+J2AjIH6aPJqTf3kFW099KdCy5bX4m8/th0LPoBiBQDwW017fKgNy+Ypd9aMqt2hlwY89QhDMuC2UKwAAH7twXJ1tC5hl1pUKKS+X81Tk3IF9cfhfbZjIY2iWAEA/F6WHPdqwoodGtKjmebEHlB48AOKXzbddiykQRQrAACUNCTDC59M0dJJX+jMhb9VtnYTfTfgeduxkMZQrAAAuEKlZk8rJjpWEYXuUtu+w/RcgxBdOPun7VhIIyhWAAD8y71FSmjRpkS92KSMhs/ZqGolg3Tgl2jbsZAGUKwAALiK9IGZ9PG0dZr8cS/F7T+l0IiyWjZxqO1Y8HIUKwAArqP5iwO1Ycls3Z05vWq2eUGDuj0m5/Jl27HgpShWAADcwMMVH9H6hJ1qXCa/Xv58ppqXL6TTxw7ajgUvRLECACAZsua8T5NX79ag5x7TjA37FFH8fm1ZOdt2LHgZihUAAMlkXC699Nl0LZ4wVL+fvaQyNR/V5EEv2Y4FL0KxAgDgJlVt9bxiozaoVL5savnyYPVsHKGL587ajgUvQLECAOAW3PdgiJbGJar7o2EaMiNKNUrm1aFfN9mOBcsoVgAA3KIMmbLo05lRmvDBC4rZ84dCw8K0csrntmPBIooVAAC3qXXvIVr303RlDQxQ9Zbd9MkLTRmSwU9RrAAA8IDgao20IX67GoYF6cWhP6hVpcIMyeCHKFYAAHjInffk1w/r9uqDp+tr6to9KluisH5ZPc92LKQiihUAAB5kXC71/mK2Fo4brGOnLyiien1N/eQV27GQSihWAACkgBpteyp63RoVz5tVzV8cqF7NyunS+XO2YyGFUawAAEgh+YqX0fL4/Xq2fil9PG2dapbKq8O7EmzHQgqiWAEAkIIyZs6m4bM3aly/Z7V+1wmFhoRo9Q8jbcdCCqFYAQCQCtq9Nlxr5k3RHRlcqtq8qz57qRVDMvggihUAAKmkVGQzRcVtV73S96n74ElqU+UBnfn9iO1Y8CCKFQAAqSh7ngKasW6v3n+yrr5ftUvlggtq+7qFtmPBQyhWAACkMldAgPqOnKcFX3+oQyfPK6JqHU3/rK/tWPAAihUAAJbU6vCKYtau0oN5sqhJ9wHq06oiQzKkcRQrAAAsyl+inFYmJOqpusH6cNJq1QkJ0pHdW2zHwi26YbEyxowxxhwxxvxn4A1jzEvGGMcYk9M9bYwxQ40xO4wxccaY0JQIDQCAL8mYOZtGzIvX2Le7avWvxxUaUkprZ46xHQu3IDlXrL6WVPffM40x+STVlrTvitn1JD3g/ukq6YvbjwgAgH/o+NaXWj3ne2VIZ1SlaWd9/kobhmRIY25YrBzHWSHpxFUWfSLpFUnOFfMaSRrnJFkrKbsxJo9HkgIA4AdCardUdPw21Qq+V90GTlCHGg/p7MljtmMhmW7pGStjTCNJBxzH2fSvRXkl7b9iOtE9DwAAJNNd9xXSj1H79U7Hmhq//FeVDy6gHRsW246FZLjpYmWMySSpr6Q3b2fHxpiuxpgoY0zU0aNHb+etAADwOa6AAL05dqHmjuqv/SfOKbxKLf34xdu2Y+EGbuWKVWFJhSRtMsbskRQkKcYYc6+kA5LyXbFukHvefziO85XjOOGO44TnypXrFmIAAOD76nZ+VdGrl6lw7sx69Nl39Hqbqvr74gXbsXANN12sHMeJdxwnt+M4BR3HKaik232hjuP8JmmWpPbubweWk/SH4ziHPBsZAAD/Uqh0Za1K2K/ONR/W+xNWqF5IkI7t3W47Fq4iOcMtTJS0RtKDxphEY0zn66w+V9IuSTskjZT0rEdSAgDg5wKzZteohVs08vVOWrHtqMJCgrVhzjjbsfAvxnGcG6+VwsLDw52oqCjbMQAASBOi53+npo930qFTF/XZK+3Vpd9YGRdjfqcWY0y04zjhV1vGUQAAII0Jq9tG0Zu2qHqx3HpqwDg9UauY/jp1tZGRkNooVgAApEE58hXRnOj9erN9dX29ZJsqFM+vXTHLbcfyexQrAADSqHTpM+idb5Zo9pfvaM+xswqvVENzR/azHcuvUawAAEjj6nd9U9Grlip/jjvUoOsbeqtDDYZksIRiBQCAD7g/tKrWbN6n9tWL6t1xS9UgPL9OJO60HcvvUKwAAPARd2S7W2MXbdWIV9tpyebDCiv1sGIWTLQdy69QrAAA8CHG5dJT/cdp5fSv9fdlRxUaPK4xbz1pO5bfoFgBAOCDyjTsoJiNm1X5wZzq/O5odaldXOdOn7Qdy+dRrAAA8FE5CxTV/NgD6vt4ZY1auEWVgvNpb9xq27F8GsUKAAAfli59Br3/3QrNHP6Gfj18RqHlK2vB2AG2Y/ksihUAAH7g0WffVfTKhcqbPVD1nuir9zrX1uVLl2zH8jkUKwAA/ESRiEit3bxXbaoU0ZtjFurRiPz6/eBu27F8CsUKAAA/kil7To1buk3DerXWT/GHFF7yIW1cONl2LJ9BsQIAwM8Yl0vdBk7Q8qmjdP7SZZV/pKW+efdp27F8AsUKAAA/Vf6xzoqJ3aTyRXKo41tf6ul6JXT+zCnbsdI0ihUAAH4sd6Fi+mljol5pUV5fzk9Q5eAg7YtfaztWmkWxAgDAzwVkDNSHk1Zr2pA++uXQnwotV1GLxg2yHStNolgBAABJUpMXBmjDsnm6J1tG1en4svp3qceQDDeJYgUAAP7Pg+XqaF3CLrWoUEivjZqvxuUK6uShvbZjpRkUKwAA8A9ZctyrCSt26NOezTU39oAiShZV3JJptmOlCRQrAADwH8blUvfBk7Vs8gidufC3ytVtpvH9n7Mdy+tRrAAAwDVVbPqUYqJjFVHoLrV7bbieaxCiC2f/tB3La1GsAADAdd1bpIQWbUrUS03LavicjapaIq8St2ywHcsrUawAAMANpQ/MpEFT12ryx72UkHhaYWXLa+mEIbZjeR2KFQAASLbmLw7U+iWzdXfm9KrZtqc+eqahnMuXbcfyGhQrAABwUx6u+IjWJ+xU07IF1HvEbDUrX1CnjiTajuUVKFYAAOCmZc15nyat2qWPn2+smRv2K6JEEW1eMct2LOsoVgAA4JYYl0svDv1BSyYO0x9nL6lMzcf0/Uc9bceyimIFAABuS5WW3RQTtUEhBe5U695D1OOxcF08d9Z2LCsoVgAA4Lbd92CIlsYf0AuNwvTpzGhVL5FXB7fF2o6V6ihWAADAI9IHZtKQGVGa+GEPxe79Q6HhEVoxabjtWKmKYgUAADyq1SufaP2iGbozU4BqtH5Og7s38ZshGShWAADA44pXeVQb4nfo0fAgvfTZdLWseL9OHztoO1aKo1gBAIAUkS13kKat3asPn26gaev2qkxwYW1dNdd2rBRFsQIAACnGuFx65YsftXDcYB3/84LK1GigqZ+8YjtWiqFYAQCAFFejbU/FrF+r4KCsav7iQPVqVk6Xzp+zHcvjKFYAACBVBBWL0PL4A+pWv7Q+nrZOkSXv02874m3H8iiKFQAASDUZMmXRsNmx+vb9btqw+3eFhoVo1bQvbcfyGIoVAABIdW37DtPa+VOVKUM6VWvxtIa+2MInhmSgWAEAACtK1miqqLjteiQkr174ZIraVHlAfx7/zXas20KxAgAA1mTPU0DT1+5R/671NGn1LpUrcb+2rV1gO9Yto1gBAACrXAEBevXLuVrw9UD99sd5RVSrp+mf9bUd65ZQrAAAgFeo2b6XYtau0kN5sqhJ9wHq3bJCmhuSgWIFAAC8Rv4S5bQyIVFP1yuhjyavUe3SQTq8K8F2rGSjWAEAAK+SMXM2fTE3Tl+/85TW7Diu0JAQrZkx2nasZKFYAQAAr9ThzRFaM3eSAtO7VLXZkxr+8uNePyQDxQoAAHit0rVaKCruF9UukUfPDZqo9tUf1NmTx2zHuiaKFQAA8Gp33VdIszbs03tP1NF3K3aofHAB7diw2Hasq6JYAQAAr+cKCNDro+dr3pj+Svz9nMKr1NKsz9+0Hes/KFYAACDNqNPpVUWvXq7CuTOrUbf39Hqbqvr74gXbsf4PxQoAAKQpBUtV0qqE/epc82G9P2GF6oUE6dje7bZjSaJYAQCANCgwa3aNWrhFo954Qiu2HVVo6eJa/+M3tmNRrAAAQNrV+d3RWvXjeLmMUeXGHTXy9U5W81CsAABAmhZWt42iN21RjeL36Nxff1nNEmB17wAAAB6QI18RzYlOlHHZvWZEsQIAAD7BFWC/1nArEAAAwEMoVgAAAB5CsQIAAPAQihUAAICHUKwAAAA8hGIFAADgIRQrAAAAD6FYAQAAeAjFCgAAwEMoVgAAAB5CsQIAAPAQihUAAICHUKwAAAA8hGIFAADgIRQrAAAAD6FYAQAAeAjFCgAAwEOM4zi2M8gYc1TS3lTYVU5Jx1JhP7g5HBfvxbHxThwX78Rx8V6ePjYFHMfJdbUFXlGsUosxJspxnHDbOfBPHBfvxbHxThwX78Rx8V6peWy4FQgAAOAhFCsAAAAP8bdi9ZXtALgqjov34th4J46Ld+K4eK9UOzZ+9YwVAABASvK3K1YAAAApxi+KlTGmrjFmmzFmhzGmj+08/soYk88Ys9QYs8UYs9kY84J7/t3GmIXGmF/dv++yndVfGWPSGWNijTGz3dOFjDHr3OfOJGNMBtsZ/Y0xJrsxZqox5hdjzFZjTHnOGe9gjOnp/rcswRgz0RgTyDljhzFmjDHmiDEm4Yp5Vz1PTJKh7mMUZ4wJ9WQWny9Wxph0koZLqiepmKTWxphidlP5rUuSXnIcp5ikcpK6uY9FH0mLHcd5QNJi9zTseEHS1iumP5T0ieM4RST9LqmzlVT+7VNJ8x3HeUhSKSUdH84Zy4wxeSV1lxTuOE6wpHSSWolzxpavJdX917xrnSf1JD3g/ukq6QtPBvH5YiWpjKQdjuPschzngqTvJTWynMkvOY5zyHGcGPfr00r6D0ReJR2Pb9yrfSPpMSsB/ZwxJkhSfUmj3NNGUg1JU92rcGxSmTHmTklVJI2WJMdxLjiOc1KcM94iQNIdxpgASZkkHRLnjBWO46yQdOJfs691njSSNM5JslZSdmNMHk9l8YdilVfS/iumE93zYJExpqCkEEnrJN3jOM4h96LfJN1jK5efGyLpFUmX3dM5JJ10HOeSe5pzJ/UVknRU0lj3LdpRxpjM4pyxznGcA5IGSdqnpEL1h6Rocc54k2udJynaC/yhWMHLGGOySJomqYfjOKeuXOYkfU2Vr6qmMmNMA0lHHMeJtp0F/xAgKVTSF47jhEg6o3/d9uOcscP9vE4jJZXf+yRl1n9vRcFLpOZ54g/F6oCkfFdMB7nnwQJjTHollarvHMf5wT378P8uw7p/H7GVz49VlPSoMWaPkm6X11DSsz3Z3bc5JM4dGxIlJTqOs849PVVJRYtzxr6aknY7jnPUcZyLkn5Q0nnEOeM9rnWepGgv8IditUHSA+5vamRQ0sOFsyxn8kvuZ3ZGS9rqOM7gKxbNktTB/bqDpJmpnc3fOY7zquM4QY7jFFTSObLEcZw2kpZKauZejWOTyhzH+U3SfmPMg+5ZkZK2iHPGG+yTVM4Yk8n9b9v/jg3njPe41nkyS1J797cDy0n644pbhrfNLwYINcY8oqTnR9JJGuM4zvt2E/knY0wlSSslxev/P8fTV0nPWU2WlF/SXkktHMf590OISCXGmGqSejmO08AYc7+SrmDdLSlWUlvHcc5bjOd3jDGllfSFggySdknqpKT/Ucw5Y5kx5h1JLZX0jedYSU8q6VkdzplUZoyZKKmapJySDkt6S9IMXeU8cRfhYUq6dXtWUifHcaI8lsUfihUAAEBq8IdbgQAAAKmCYgUAAOAhFCsAAAAPoVgBAAB4CMUKAADAQyhWAAAAHkKxAgAA8BCKFQAAgIf8Pxf6FciXGMG7AAAAAElFTkSuQmCC\n",
          "text/plain": "<Figure size 720x576 with 1 Axes>"
         },
         "metadata": {
          "needs_background": "light"
         },
         "output_type": "display_data"
        }
       ],
       "tabbable": null,
       "tooltip": null
      }
     },
     "4ca21aaa184e4adc867368410abd7580": {
      "model_module": "@jupyter-widgets/base",
      "model_module_version": "2.0.0",
      "model_name": "LayoutModel",
      "state": {
       "_model_module": "@jupyter-widgets/base",
       "_model_module_version": "2.0.0",
       "_model_name": "LayoutModel",
       "_view_count": null,
       "_view_module": "@jupyter-widgets/base",
       "_view_module_version": "2.0.0",
       "_view_name": "LayoutView",
       "align_content": null,
       "align_items": null,
       "align_self": null,
       "border_bottom": null,
       "border_left": null,
       "border_right": null,
       "border_top": null,
       "bottom": null,
       "display": null,
       "flex": null,
       "flex_flow": null,
       "grid_area": null,
       "grid_auto_columns": null,
       "grid_auto_flow": null,
       "grid_auto_rows": null,
       "grid_column": null,
       "grid_gap": null,
       "grid_row": null,
       "grid_template_areas": null,
       "grid_template_columns": null,
       "grid_template_rows": null,
       "height": null,
       "justify_content": null,
       "justify_items": null,
       "left": null,
       "margin": null,
       "max_height": null,
       "max_width": null,
       "min_height": null,
       "min_width": null,
       "object_fit": null,
       "object_position": null,
       "order": null,
       "overflow": null,
       "padding": null,
       "right": null,
       "top": null,
       "visibility": null,
       "width": null
      }
     },
     "556ecfd1cf454ab1922723a58dde9624": {
      "model_module": "@jupyter-widgets/output",
      "model_module_version": "1.0.0",
      "model_name": "OutputModel",
      "state": {
       "_dom_classes": [],
       "_model_module": "@jupyter-widgets/output",
       "_model_module_version": "1.0.0",
       "_model_name": "OutputModel",
       "_view_count": null,
       "_view_module": "@jupyter-widgets/output",
       "_view_module_version": "1.0.0",
       "_view_name": "OutputView",
       "layout": "IPY_MODEL_81218fc34dfd4d039db53e773ce3d1bc",
       "msg_id": "",
       "outputs": [
        {
         "data": {
          "image/png": "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\n",
          "text/plain": "<Figure size 720x576 with 1 Axes>"
         },
         "metadata": {
          "needs_background": "light"
         },
         "output_type": "display_data"
        }
       ],
       "tabbable": null,
       "tooltip": null
      }
     },
     "55a81b502483431b8381664c7067cc58": {
      "model_module": "@jupyter-widgets/controls",
      "model_module_version": "2.0.0",
      "model_name": "FloatSliderModel",
      "state": {
       "_dom_classes": [],
       "_model_module": "@jupyter-widgets/controls",
       "_model_module_version": "2.0.0",
       "_model_name": "FloatSliderModel",
       "_view_count": null,
       "_view_module": "@jupyter-widgets/controls",
       "_view_module_version": "2.0.0",
       "_view_name": "FloatSliderView",
       "behavior": "drag-tap",
       "continuous_update": true,
       "description": "t",
       "description_allow_html": false,
       "disabled": false,
       "layout": "IPY_MODEL_e14759d9719a4e52b9326d2bf432653b",
       "max": 1.0,
       "min": 0.0,
       "orientation": "horizontal",
       "readout": true,
       "readout_format": ".2f",
       "step": 0.1,
       "style": "IPY_MODEL_cbfd87f0de1143cf92318d52dde99282",
       "tabbable": null,
       "tooltip": null,
       "value": 0.3
      }
     },
     "7ceadef2588147bd9feed84fb6651557": {
      "model_module": "@jupyter-widgets/controls",
      "model_module_version": "2.0.0",
      "model_name": "SliderStyleModel",
      "state": {
       "_model_module": "@jupyter-widgets/controls",
       "_model_module_version": "2.0.0",
       "_model_name": "SliderStyleModel",
       "_view_count": null,
       "_view_module": "@jupyter-widgets/base",
       "_view_module_version": "2.0.0",
       "_view_name": "StyleView",
       "description_width": "",
       "handle_color": null
      }
     },
     "81218fc34dfd4d039db53e773ce3d1bc": {
      "model_module": "@jupyter-widgets/base",
      "model_module_version": "2.0.0",
      "model_name": "LayoutModel",
      "state": {
       "_model_module": "@jupyter-widgets/base",
       "_model_module_version": "2.0.0",
       "_model_name": "LayoutModel",
       "_view_count": null,
       "_view_module": "@jupyter-widgets/base",
       "_view_module_version": "2.0.0",
       "_view_name": "LayoutView",
       "align_content": null,
       "align_items": null,
       "align_self": null,
       "border_bottom": null,
       "border_left": null,
       "border_right": null,
       "border_top": null,
       "bottom": null,
       "display": null,
       "flex": null,
       "flex_flow": null,
       "grid_area": null,
       "grid_auto_columns": null,
       "grid_auto_flow": null,
       "grid_auto_rows": null,
       "grid_column": null,
       "grid_gap": null,
       "grid_row": null,
       "grid_template_areas": null,
       "grid_template_columns": null,
       "grid_template_rows": null,
       "height": null,
       "justify_content": null,
       "justify_items": null,
       "left": null,
       "margin": null,
       "max_height": null,
       "max_width": null,
       "min_height": null,
       "min_width": null,
       "object_fit": null,
       "object_position": null,
       "order": null,
       "overflow": null,
       "padding": null,
       "right": null,
       "top": null,
       "visibility": null,
       "width": null
      }
     },
     "93de1751db87447b8987c53669ef665e": {
      "model_module": "@jupyter-widgets/base",
      "model_module_version": "2.0.0",
      "model_name": "LayoutModel",
      "state": {
       "_model_module": "@jupyter-widgets/base",
       "_model_module_version": "2.0.0",
       "_model_name": "LayoutModel",
       "_view_count": null,
       "_view_module": "@jupyter-widgets/base",
       "_view_module_version": "2.0.0",
       "_view_name": "LayoutView",
       "align_content": null,
       "align_items": null,
       "align_self": null,
       "border_bottom": null,
       "border_left": null,
       "border_right": null,
       "border_top": null,
       "bottom": null,
       "display": null,
       "flex": null,
       "flex_flow": null,
       "grid_area": null,
       "grid_auto_columns": null,
       "grid_auto_flow": null,
       "grid_auto_rows": null,
       "grid_column": null,
       "grid_gap": null,
       "grid_row": null,
       "grid_template_areas": null,
       "grid_template_columns": null,
       "grid_template_rows": null,
       "height": null,
       "justify_content": null,
       "justify_items": null,
       "left": null,
       "margin": null,
       "max_height": null,
       "max_width": null,
       "min_height": null,
       "min_width": null,
       "object_fit": null,
       "object_position": null,
       "order": null,
       "overflow": null,
       "padding": null,
       "right": null,
       "top": null,
       "visibility": null,
       "width": null
      }
     },
     "acf91d556457487f8d809a9c2f5a662c": {
      "model_module": "@jupyter-widgets/base",
      "model_module_version": "2.0.0",
      "model_name": "LayoutModel",
      "state": {
       "_model_module": "@jupyter-widgets/base",
       "_model_module_version": "2.0.0",
       "_model_name": "LayoutModel",
       "_view_count": null,
       "_view_module": "@jupyter-widgets/base",
       "_view_module_version": "2.0.0",
       "_view_name": "LayoutView",
       "align_content": null,
       "align_items": null,
       "align_self": null,
       "border_bottom": null,
       "border_left": null,
       "border_right": null,
       "border_top": null,
       "bottom": null,
       "display": null,
       "flex": null,
       "flex_flow": null,
       "grid_area": null,
       "grid_auto_columns": null,
       "grid_auto_flow": null,
       "grid_auto_rows": null,
       "grid_column": null,
       "grid_gap": null,
       "grid_row": null,
       "grid_template_areas": null,
       "grid_template_columns": null,
       "grid_template_rows": null,
       "height": null,
       "justify_content": null,
       "justify_items": null,
       "left": null,
       "margin": null,
       "max_height": null,
       "max_width": null,
       "min_height": null,
       "min_width": null,
       "object_fit": null,
       "object_position": null,
       "order": null,
       "overflow": null,
       "padding": null,
       "right": null,
       "top": null,
       "visibility": null,
       "width": null
      }
     },
     "c17372c19ab843e1903588ffbeb76251": {
      "model_module": "@jupyter-widgets/controls",
      "model_module_version": "2.0.0",
      "model_name": "VBoxModel",
      "state": {
       "_dom_classes": [
        "widget-interact"
       ],
       "_model_module": "@jupyter-widgets/controls",
       "_model_module_version": "2.0.0",
       "_model_name": "VBoxModel",
       "_view_count": null,
       "_view_module": "@jupyter-widgets/controls",
       "_view_module_version": "2.0.0",
       "_view_name": "VBoxView",
       "box_style": "",
       "children": [
        "IPY_MODEL_55a81b502483431b8381664c7067cc58",
        "IPY_MODEL_43119e8dfecf4492a85969bd68d7a6c6"
       ],
       "layout": "IPY_MODEL_ded308fdeb8647a28b56c0212d8ba520",
       "tabbable": null,
       "tooltip": null
      }
     },
     "cbfd87f0de1143cf92318d52dde99282": {
      "model_module": "@jupyter-widgets/controls",
      "model_module_version": "2.0.0",
      "model_name": "SliderStyleModel",
      "state": {
       "_model_module": "@jupyter-widgets/controls",
       "_model_module_version": "2.0.0",
       "_model_name": "SliderStyleModel",
       "_view_count": null,
       "_view_module": "@jupyter-widgets/base",
       "_view_module_version": "2.0.0",
       "_view_name": "StyleView",
       "description_width": "",
       "handle_color": null
      }
     },
     "ce106cc2fb5744d3a3fe861810ee91e4": {
      "model_module": "@jupyter-widgets/controls",
      "model_module_version": "2.0.0",
      "model_name": "VBoxModel",
      "state": {
       "_dom_classes": [
        "widget-interact"
       ],
       "_model_module": "@jupyter-widgets/controls",
       "_model_module_version": "2.0.0",
       "_model_name": "VBoxModel",
       "_view_count": null,
       "_view_module": "@jupyter-widgets/controls",
       "_view_module_version": "2.0.0",
       "_view_name": "VBoxView",
       "box_style": "",
       "children": [
        "IPY_MODEL_f1b7d6d1a21b4295bb677b4cf0c72237",
        "IPY_MODEL_556ecfd1cf454ab1922723a58dde9624"
       ],
       "layout": "IPY_MODEL_93de1751db87447b8987c53669ef665e",
       "tabbable": null,
       "tooltip": null
      }
     },
     "ded308fdeb8647a28b56c0212d8ba520": {
      "model_module": "@jupyter-widgets/base",
      "model_module_version": "2.0.0",
      "model_name": "LayoutModel",
      "state": {
       "_model_module": "@jupyter-widgets/base",
       "_model_module_version": "2.0.0",
       "_model_name": "LayoutModel",
       "_view_count": null,
       "_view_module": "@jupyter-widgets/base",
       "_view_module_version": "2.0.0",
       "_view_name": "LayoutView",
       "align_content": null,
       "align_items": null,
       "align_self": null,
       "border_bottom": null,
       "border_left": null,
       "border_right": null,
       "border_top": null,
       "bottom": null,
       "display": null,
       "flex": null,
       "flex_flow": null,
       "grid_area": null,
       "grid_auto_columns": null,
       "grid_auto_flow": null,
       "grid_auto_rows": null,
       "grid_column": null,
       "grid_gap": null,
       "grid_row": null,
       "grid_template_areas": null,
       "grid_template_columns": null,
       "grid_template_rows": null,
       "height": null,
       "justify_content": null,
       "justify_items": null,
       "left": null,
       "margin": null,
       "max_height": null,
       "max_width": null,
       "min_height": null,
       "min_width": null,
       "object_fit": null,
       "object_position": null,
       "order": null,
       "overflow": null,
       "padding": null,
       "right": null,
       "top": null,
       "visibility": null,
       "width": null
      }
     },
     "e14759d9719a4e52b9326d2bf432653b": {
      "model_module": "@jupyter-widgets/base",
      "model_module_version": "2.0.0",
      "model_name": "LayoutModel",
      "state": {
       "_model_module": "@jupyter-widgets/base",
       "_model_module_version": "2.0.0",
       "_model_name": "LayoutModel",
       "_view_count": null,
       "_view_module": "@jupyter-widgets/base",
       "_view_module_version": "2.0.0",
       "_view_name": "LayoutView",
       "align_content": null,
       "align_items": null,
       "align_self": null,
       "border_bottom": null,
       "border_left": null,
       "border_right": null,
       "border_top": null,
       "bottom": null,
       "display": null,
       "flex": null,
       "flex_flow": null,
       "grid_area": null,
       "grid_auto_columns": null,
       "grid_auto_flow": null,
       "grid_auto_rows": null,
       "grid_column": null,
       "grid_gap": null,
       "grid_row": null,
       "grid_template_areas": null,
       "grid_template_columns": null,
       "grid_template_rows": null,
       "height": null,
       "justify_content": null,
       "justify_items": null,
       "left": null,
       "margin": null,
       "max_height": null,
       "max_width": null,
       "min_height": null,
       "min_width": null,
       "object_fit": null,
       "object_position": null,
       "order": null,
       "overflow": null,
       "padding": null,
       "right": null,
       "top": null,
       "visibility": null,
       "width": null
      }
     },
     "f1b7d6d1a21b4295bb677b4cf0c72237": {
      "model_module": "@jupyter-widgets/controls",
      "model_module_version": "2.0.0",
      "model_name": "FloatSliderModel",
      "state": {
       "_dom_classes": [],
       "_model_module": "@jupyter-widgets/controls",
       "_model_module_version": "2.0.0",
       "_model_name": "FloatSliderModel",
       "_view_count": null,
       "_view_module": "@jupyter-widgets/controls",
       "_view_module_version": "2.0.0",
       "_view_name": "FloatSliderView",
       "behavior": "drag-tap",
       "continuous_update": true,
       "description": "Go",
       "description_allow_html": false,
       "disabled": false,
       "layout": "IPY_MODEL_acf91d556457487f8d809a9c2f5a662c",
       "max": 110.0,
       "min": 0.0,
       "orientation": "horizontal",
       "readout": true,
       "readout_format": ".2f",
       "step": 0.1,
       "style": "IPY_MODEL_7ceadef2588147bd9feed84fb6651557",
       "tabbable": null,
       "tooltip": null,
       "value": 70.0
      }
     }
    },
    "version_major": 2,
    "version_minor": 0
   }
  }
 },
 "nbformat": 4,
 "nbformat_minor": 5
}