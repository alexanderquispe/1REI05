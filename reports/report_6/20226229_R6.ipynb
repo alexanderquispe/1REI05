{
 "cells": [
  {
   "cell_type": "markdown",
   "id": "bba0b385",
   "metadata": {},
   "source": [
    "## REPORTE Nº6:\n",
    "#### Alumno: Sonia Margarita Lecaros Jimenez / Código: 20226229\n",
    "#### Curso: Fundamentos de Macroeconomia - 1REI05"
   ]
  },
  {
   "cell_type": "markdown",
   "id": "3da0eb96",
   "metadata": {},
   "source": [
    "## PARTE 1\n",
    "\n",
    "The report for this week is Closing the gap, the effect of a targeted, tuition-free promise on college choices of high achieving, low-income students. \n",
    "The main focus of this report is to probe the increase of high-achieving, low-income students to selective colleges with the help of a scholarship. \n",
    "\n",
    "The author explains the gap in educational attainment in the past and how this gap is ncrease through the years. The difference between families with low income includes those in the bottom quartile and the families with an upper income from the top quartile and the opportunity to attend a university.\n",
    "\n",
    "They said part of the differences in academic preparation is family income. If the students enroll in a quality college, the possibility of enrolling in a quality university increases; this is part of why the majority of low-income, high-achieving students apply to zero-selective schools, even if the cost of tuition is lower, and with this, they can increase their future wages. \n",
    "\n",
    "The experiment was to create a scholarship named HAIL and was designed to make small changes in the student's decision-making. This scholarship covers the tuition and fees for 4 years if the student is admitted to the University of Michigan. The procedure was to send an invitation to two groups of 2000 low-income students and an email to the parents and principals of these students. \n",
    "\n",
    "After the experiment, they found an increase of almost double from 26 percent to 68 percent in the rate of application to the University, 4 percent of this group is conformed of students who would not have attended any college. The rest of the students would have attended a community college or less selective University. \n",
    "\n",
    "This scholarship removes all behavioral and administrative obstacles. It is beneficial for students because they don't need to prove, fill out any paperwork or go through any verification to qualify for the scholarship. \n",
    "\n",
    "For the authors, the principal mismatch in the process is the application choices rather than the schools' admissions decision; this is because the low-income students who never applied to a quality school generally applied to a lower selective school. \n",
    "\n",
    "The strength of this report is that it shows how the system works in the United States and how small things can change the students' behavior and choice and impact their lives. Still, the weakness is this experiment is a tiny scale and only can be applied in countries with an educational system working.\n",
    "\n"
   ]
  },
  {
   "cell_type": "code",
   "execution_count": null,
   "id": "f402f201",
   "metadata": {},
   "outputs": [],
   "source": []
  }
 ],
 "metadata": {
  "kernelspec": {
   "display_name": "Python 3 (ipykernel)",
   "language": "python",
   "name": "python3"
  },
  "language_info": {
   "codemirror_mode": {
    "name": "ipython",
    "version": 3
   },
   "file_extension": ".py",
   "mimetype": "text/x-python",
   "name": "python",
   "nbconvert_exporter": "python",
   "pygments_lexer": "ipython3",
   "version": "3.9.12"
  }
 },
 "nbformat": 4,
 "nbformat_minor": 5
}
