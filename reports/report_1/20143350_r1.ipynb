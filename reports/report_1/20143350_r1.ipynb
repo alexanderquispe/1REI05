{
 "cells": [
  {
   "cell_type": "markdown",
   "id": "fda0d49f",
   "metadata": {},
   "source": [
    "## REPORTE 1°:\n",
    "Nombre: Luis Felipe Acosta Zavaleta\n",
    "\n",
    "Código: 20143350"
   ]
  },
  {
   "cell_type": "markdown",
   "id": "71f40978",
   "metadata": {},
   "source": [
    "## PARTE 1: CÓDIGO"
   ]
  },
  {
   "cell_type": "code",
   "execution_count": 3,
   "id": "7d5e8ee4",
   "metadata": {},
   "outputs": [],
   "source": [
    "import matplotlib.pyplot as plt\n",
    "import numpy as np\n",
    "import sympy as sy\n",
    "from sympy import *\n",
    "import pandas as pd\n",
    "from causalgraphicalmodels import CausalGraphicalModel"
   ]
  },
  {
   "cell_type": "markdown",
   "id": "d6dc93d4",
   "metadata": {},
   "source": [
    "**1. Derive y explique la función de demanda de Consumo. Replique el gráfico siguiente:**"
   ]
  },
  {
   "cell_type": "markdown",
   "id": "61a67fe6",
   "metadata": {},
   "source": [
    "Las familias toman decisiones de gasto y ahorro. El Ingreso Agregado ($Y$) es igual a la suma de los salarios de los trabajadores y los beneficios de los propietarios del stock de capital. Parte de \"$Y$\" se entrega al Estado como tributación ($T$). Lo que queda se decide consumir y ahorrar. \n",
    "\n",
    "La tributación total es:\n",
    "\n",
    "$$T = tY$$\n",
    "\n",
    "Donde \"$t$\" es la tasa de impuestos o tributación promedio. El ingreso neto de tributación es el Ingreso Disponible, ya que supone que las transferencias (TR) son iguales a cero:\n",
    "\n",
    "$$Y^d = Y - T$$\n",
    "\n",
    "$$Y^d = (1-t)Y$$\n",
    "\n",
    "Parte de este ingreso disponible se utiliza para los gastos en consumo:\n",
    "\n",
    "$$C = C_o + bY^d$$\n",
    "\n",
    "Donde \"$C_o$\" es el nivel básico de consumo o consumo autónomo y \"$b$\" representa el cambio en el consumo por unidad de cambio en el ingreso disponible. Es conocida como *Propensión Marginal a Consumir* (PMgC). Esta propensión es mayor que cero y menor que uno, 0 < b < 1.\n",
    "\n",
    "**Fuente**: \n",
    "\n",
    "Jiménez, F. (2020). *Apuntes de Macroeconomía Intermedia*. Departamento de Economía."
   ]
  },
  {
   "cell_type": "code",
   "execution_count": 10,
   "id": "b3e4cc03",
   "metadata": {
    "scrolled": true
   },
   "outputs": [
    {
     "data": {
      "text/plain": [
       "array([ 0,  1,  2,  3,  4,  5,  6,  7,  8,  9, 10, 11, 12, 13, 14, 15, 16,\n",
       "       17, 18, 19, 20, 21, 22, 23, 24, 25, 26, 27, 28, 29, 30, 31, 32, 33,\n",
       "       34, 35, 36, 37, 38, 39, 40, 41, 42, 43, 44, 45, 46, 47, 48, 49, 50,\n",
       "       51, 52, 53, 54, 55, 56, 57, 58, 59, 60, 61, 62, 63, 64, 65, 66, 67,\n",
       "       68, 69, 70, 71, 72, 73, 74, 75, 76, 77, 78, 79, 80, 81, 82, 83, 84,\n",
       "       85, 86, 87, 88, 89, 90, 91, 92, 93, 94, 95, 96, 97, 98, 99])"
      ]
     },
     "execution_count": 10,
     "metadata": {},
     "output_type": "execute_result"
    }
   ],
   "source": [
    "#parámetros\n",
    "Yd_size = 100\n",
    "\n",
    "Co = 10 #consumo fijo\n",
    "b = 0.5 #propensión marginal a consumir \n",
    "\n",
    "Yd = np.arange(Yd_size)\n",
    "Yd #ingreso disponible"
   ]
  },
  {
   "cell_type": "code",
   "execution_count": 53,
   "id": "e1f8bcc0",
   "metadata": {},
   "outputs": [
    {
     "data": {
      "text/plain": [
       "array([10. , 10.5, 11. , 11.5, 12. , 12.5, 13. , 13.5, 14. , 14.5, 15. ,\n",
       "       15.5, 16. , 16.5, 17. , 17.5, 18. , 18.5, 19. , 19.5, 20. , 20.5,\n",
       "       21. , 21.5, 22. , 22.5, 23. , 23.5, 24. , 24.5, 25. , 25.5, 26. ,\n",
       "       26.5, 27. , 27.5, 28. , 28.5, 29. , 29.5, 30. , 30.5, 31. , 31.5,\n",
       "       32. , 32.5, 33. , 33.5, 34. , 34.5, 35. , 35.5, 36. , 36.5, 37. ,\n",
       "       37.5, 38. , 38.5, 39. , 39.5, 40. , 40.5, 41. , 41.5, 42. , 42.5,\n",
       "       43. , 43.5, 44. , 44.5, 45. , 45.5, 46. , 46.5, 47. , 47.5, 48. ,\n",
       "       48.5, 49. , 49.5, 50. , 50.5, 51. , 51.5, 52. , 52.5, 53. , 53.5,\n",
       "       54. , 54.5, 55. , 55.5, 56. , 56.5, 57. , 57.5, 58. , 58.5, 59. ,\n",
       "       59.5])"
      ]
     },
     "execution_count": 53,
     "metadata": {},
     "output_type": "execute_result"
    }
   ],
   "source": [
    "#ecuación\n",
    "def C (Co, b, Yd):\n",
    "    C = Co + (b*Yd) #gasto en consumo de las familias\n",
    "    return C\n",
    "C = C(Co, b, Yd)\n",
    "C"
   ]
  },
  {
   "cell_type": "code",
   "execution_count": 149,
   "id": "eeeea03f",
   "metadata": {},
   "outputs": [
    {
     "data": {
      "text/plain": [
       "Text(30, 15, '$\\\\Delta Y^d$')"
      ]
     },
     "execution_count": 149,
     "metadata": {},
     "output_type": "execute_result"
    },
    {
     "data": {
      "image/png": "[encoded data removed]",
      "text/plain": [
       "<Figure size 432x288 with 1 Axes>"
      ]
     },
     "metadata": {
      "needs_background": "light"
     },
     "output_type": "display_data"
    }
   ],
   "source": [
    "#gráfico\n",
    "plt.plot(Yd, C, color='green')\n",
    "plt.title(\"Gráfico 4.2 \\n Función de demanda de Consumo\")\n",
    "plt.xlabel(\"$Y^d$\") \n",
    "plt.ylabel(\"C\")\n",
    "plt.axvline(x=10,  ymin= 0, ymax= 0.6, linestyle = \"--\", color = \"grey\")\n",
    "plt.axhline(y=10, xmin= 0, xmax= 0.4, linestyle = \"--\", color = \"grey\")\n",
    "plt.axvline(x=20,  ymin= 0, ymax= 0.6, linestyle = \"--\", color = \"grey\")\n",
    "plt.axhline(y=20, xmin= 0, xmax= 0.4, linestyle = \"--\", color = \"grey\")\n",
    "plt.axvline(x=30,  ymin= 0, ymax= 0.6, linestyle = \"--\", color = \"grey\")\n",
    "plt.axhline(y=30, xmin= 0, xmax= 0.4, linestyle = \"--\", color = \"grey\")\n",
    "plt.axvline(x=40,  ymin= 0, ymax= 0.6, linestyle = \"--\", color = \"grey\")\n",
    "plt.axhline(y=40, xmin= 0, xmax= 0.4, linestyle = \"--\", color = \"grey\")\n",
    "plt.text(35,45, '$PMgC=\\frac{\\Delta  C}{\\Delta  Y}=b=0.5$', fontsize=15)\n",
    "plt.text(35,45, '$PMgC={\\Delta  C}/{\\Delta  Y}=b=0.5$', fontsize=15)\n",
    "plt.text(45,25, '$\\Delta C$', fontsize=15)\n",
    "plt.text(30,15, '$\\Delta Y^d$', fontsize=15)"
   ]
  },
  {
   "cell_type": "markdown",
   "id": "47181373",
   "metadata": {},
   "source": [
    "**2. Derive y explique la función de Inversión. Replique el gráfico siguiente:**"
   ]
  },
  {
   "cell_type": "markdown",
   "id": "0ca8643f",
   "metadata": {},
   "source": [
    "Los Gastos en Inversión ($I$) son gastos que aumentan el stock de capital y, en consecuencia, la producción potencial o a largo plazo de la economía. Incluyen:\n",
    "\n",
    "- La *inversión bruta fija* (compra e instalación de nueva maquinaria y equipo en las empresas, la construcción y compra de edificios nuevos).\n",
    "- La *variación de existencias* de las empresas. \n",
    "\n",
    "Además, la *Inversión bruta fija* incluye la reposición del capital gastado y obsoleto, así como la inversión que aumenta el stock de capital, denominada *Inversión neta*. \n",
    "\n",
    "El gasto de inversión se puede representar con una función que depende inversamente de la tasa de interés real \"$r$\" y donde \"$I_o$\" es el componente autónomo que depende de las expectativas de los inversionistas.\n",
    "\n",
    "$$I = I_o - hr$$\n",
    "\n",
    "**Fuente**: \n",
    "\n",
    "\n",
    "Jiménez, F. (2020). *Apuntes de Macroeconomía Intermedia*. Departamento de Economía."
   ]
  },
  {
   "cell_type": "code",
   "execution_count": 4,
   "id": "ab8efaf2",
   "metadata": {},
   "outputs": [
    {
     "data": {
      "text/plain": [
       "array([ 0,  1,  2,  3,  4,  5,  6,  7,  8,  9, 10, 11, 12, 13, 14, 15, 16,\n",
       "       17, 18, 19, 20, 21, 22, 23, 24, 25, 26, 27, 28, 29, 30, 31, 32, 33,\n",
       "       34, 35, 36, 37, 38, 39, 40, 41, 42, 43, 44, 45, 46, 47, 48, 49, 50,\n",
       "       51, 52, 53, 54, 55, 56, 57, 58, 59, 60, 61, 62, 63, 64, 65, 66, 67,\n",
       "       68, 69, 70, 71, 72, 73, 74, 75, 76, 77, 78, 79, 80, 81, 82, 83, 84,\n",
       "       85, 86, 87, 88, 89, 90, 91, 92, 93, 94, 95, 96, 97, 98, 99])"
      ]
     },
     "execution_count": 4,
     "metadata": {},
     "output_type": "execute_result"
    }
   ],
   "source": [
    "#Parámetros\n",
    "r_size = 100\n",
    "\n",
    "I_o=100\n",
    "h=0.5\n",
    "\n",
    "r = np.arange(r_size)\n",
    "r"
   ]
  },
  {
   "cell_type": "code",
   "execution_count": 5,
   "id": "dfceb012",
   "metadata": {},
   "outputs": [
    {
     "data": {
      "text/plain": [
       "array([100. ,  99.5,  99. ,  98.5,  98. ,  97.5,  97. ,  96.5,  96. ,\n",
       "        95.5,  95. ,  94.5,  94. ,  93.5,  93. ,  92.5,  92. ,  91.5,\n",
       "        91. ,  90.5,  90. ,  89.5,  89. ,  88.5,  88. ,  87.5,  87. ,\n",
       "        86.5,  86. ,  85.5,  85. ,  84.5,  84. ,  83.5,  83. ,  82.5,\n",
       "        82. ,  81.5,  81. ,  80.5,  80. ,  79.5,  79. ,  78.5,  78. ,\n",
       "        77.5,  77. ,  76.5,  76. ,  75.5,  75. ,  74.5,  74. ,  73.5,\n",
       "        73. ,  72.5,  72. ,  71.5,  71. ,  70.5,  70. ,  69.5,  69. ,\n",
       "        68.5,  68. ,  67.5,  67. ,  66.5,  66. ,  65.5,  65. ,  64.5,\n",
       "        64. ,  63.5,  63. ,  62.5,  62. ,  61.5,  61. ,  60.5,  60. ,\n",
       "        59.5,  59. ,  58.5,  58. ,  57.5,  57. ,  56.5,  56. ,  55.5,\n",
       "        55. ,  54.5,  54. ,  53.5,  53. ,  52.5,  52. ,  51.5,  51. ,\n",
       "        50.5])"
      ]
     },
     "execution_count": 5,
     "metadata": {},
     "output_type": "execute_result"
    }
   ],
   "source": [
    "#Ecuación\n",
    "def I (I_o, h, r):\n",
    "    I = I_o - (h*r)\n",
    "    return I\n",
    "I = I (I_o, h, r)\n",
    "I"
   ]
  },
  {
   "cell_type": "code",
   "execution_count": 26,
   "id": "1d9ad9e0",
   "metadata": {},
   "outputs": [
    {
     "data": {
      "text/plain": [
       "Text(60, 80, '$I = I_o - hr$')"
      ]
     },
     "execution_count": 26,
     "metadata": {},
     "output_type": "execute_result"
    },
    {
     "data": {
      "image/png": "[encoded data removed]",
      "text/plain": [
       "<Figure size 432x288 with 1 Axes>"
      ]
     },
     "metadata": {},
     "output_type": "display_data"
    }
   ],
   "source": [
    "#Gráfico\n",
    "plt.plot(r, I, color='blue')\n",
    "plt.title(\"$I = I_o - hr$ \\n \\n Gráfico 4.3 \\n Función de demanda de Inversión\")\n",
    "plt.xlabel(\"r\") \n",
    "plt.ylabel(\"I\")\n",
    "plt.xticks([])\n",
    "plt.yticks([])\n",
    "plt.text(60, 80, '$I = I_o - hr$', fontsize=15)"
   ]
  },
  {
   "cell_type": "markdown",
   "id": "f268efad",
   "metadata": {},
   "source": [
    "**3. ¿Cuáles son los supuestos del modelo Ingreso-Gasto Keynesiano?**"
   ]
  },
  {
   "cell_type": "markdown",
   "id": "09115a11",
   "metadata": {},
   "source": [
    "Los supuestos del modelo Ingreso-Gasto Keynesiano son:\n",
    "- El nivel de precios es fijo.\n",
    "- El nivel de producto se adapta a la demanda agregada ($DA$).\n",
    "- La tasa de interés ($r$) está determinada fuera del modelo (en el mercado monetario).\n",
    "- Es un modelo de corto plazo.\n",
    "\n",
    "**Fuente:**\n",
    "\n",
    "Jiménez, F. (2020). *Apuntes de Macroeconomía Intermedia*. Departamento de Economía."
   ]
  },
  {
   "cell_type": "markdown",
   "id": "5c6e38ad",
   "metadata": {},
   "source": [
    "**4. A partir de las siguientes ecuaciones de Ingreso-Gasto y la función de Demanda Agregada:**"
   ]
  },
  {
   "cell_type": "markdown",
   "id": "de2d6598",
   "metadata": {},
   "source": [
    "Función Consumo: $C = C_o + bY^d$\n",
    "\n",
    "Función Inversión: $I = I_o - hr$\n",
    "\n",
    "Regla Contracíclica del Gasto: $G = G_o - gY$\n",
    "\n",
    "Tributación: $T = tY$\n",
    "\n",
    "Exportaciones: $X = X_o$\n",
    "\n",
    "Importaciones: $M = mY^d$\n",
    "\n",
    "Gasto o Demanda Agregada: $DA = C + I + G + X - M$"
   ]
  },
  {
   "cell_type": "markdown",
   "id": "18700542",
   "metadata": {},
   "source": [
    "- **Encuentre el nivel de Ingreso de equilibrio $Y_e$:**"
   ]
  },
  {
   "cell_type": "markdown",
   "id": "1ef136b4",
   "metadata": {},
   "source": [
    "En equilibrio, el ingreso agregado *Y* debe ser igual a la demanda agregada *DA*. De la condición de equilibrio *Y=DA*, se obtiene la ecuación del ingreso o producto de equilibrio a corto plazo. \n",
    "\n",
    "$$Y = DA$$ \n",
    "\n",
    "$$Y = (C_o+I_o+G_o+X_o-hr) + (b-m)(1-t)Y$$\n",
    "\n",
    "$$Y-(b-m)(1-t)Y = C_o+I_o+G_o+X_o-hr$$\n",
    "\n",
    "$$[1-(b-m)(1-t)] Y = C_o+I_o+G_o+X_o-hr$$\n",
    "\n",
    "$$Y= \\frac{1}{1-(b-m)(1-t)}(C_o+I_o+G_o+X_o-hr)$$\n",
    "\n",
    "Si:\n",
    "\n",
    "$$k=\\frac{1}{1-(b-m)(1-t)}$$\n",
    "\n",
    "Donde: \n",
    "\n",
    "$k: multiplicador$ $keynesiano$\n",
    "\n",
    "$k>0$\n",
    "\n",
    "Entonces:\n",
    "\n",
    "$$Y_e = Y$$\n",
    "\n",
    "$$Y_e = k(C_o+I_o+G_o+X_o-hr)$$\n",
    "\n",
    "A corto plazo se supone (por ahora) que los precios son fijos y que la economía se encuentra por debajo de la producción de pleno empleo. También se puede decir que la oferta agregada es infinitamente elástica al nivel de precios dado. En estas condiciones, el producto e ingreso de equilibrio está determinado por la *DA* o sus componentes. El ajuste del mercado de bienes es por cantidades y no por precios.\n",
    "\n",
    "**Fuente**: \n",
    "\n",
    "Jiménez, F. (2020). *Apuntes de Macroeconomía Intermedia*. Departamento de Economía."
   ]
  },
  {
   "cell_type": "markdown",
   "id": "833468e2",
   "metadata": {},
   "source": [
    "- **Replique el siguiente gráfico con todas descripciones encima de las rectas.**"
   ]
  },
  {
   "cell_type": "code",
   "execution_count": 91,
   "id": "85fd204e",
   "metadata": {},
   "outputs": [],
   "source": [
    "#Parámetros\n",
    "\n",
    "Y_size = 100 \n",
    "\n",
    "Co = 35\n",
    "Io = 40\n",
    "Go = 70\n",
    "Xo = 2\n",
    "h = 0.7\n",
    "b = 0.8 # b > m\n",
    "m = 0.2\n",
    "t = 0.3\n",
    "r = 0.9\n",
    "\n",
    "Y = np.arange(Y_size)"
   ]
  },
  {
   "cell_type": "code",
   "execution_count": 92,
   "id": "877d2c39",
   "metadata": {},
   "outputs": [],
   "source": [
    "#Ecuación\n",
    "\n",
    "def DA_K(Co, Io, Go, Xo, h, r, b, m, t, Y):\n",
    "    DA_K = (Co + Io + Go + Xo - h*r) + ((b - m)*(1 - t)*Y)\n",
    "    return DA_K\n",
    "\n",
    "DA_IS_K = DA_K(Co, Io, Go, Xo, h, r, b, m, t, Y)"
   ]
  },
  {
   "cell_type": "code",
   "execution_count": 93,
   "id": "ca144694",
   "metadata": {},
   "outputs": [],
   "source": [
    "a = 2.5 \n",
    "\n",
    "def L_45(a, Y):\n",
    "    L_45 = a*Y\n",
    "    return L_45\n",
    "\n",
    "L_45 = L_45(a, Y)"
   ]
  },
  {
   "cell_type": "code",
   "execution_count": 204,
   "id": "6b018495",
   "metadata": {
    "scrolled": true
   },
   "outputs": [
    {
     "data": {
      "image/png": "[encoded data removed]",
      "text/plain": [
       "<Figure size 720x576 with 1 Axes>"
      ]
     },
     "metadata": {},
     "output_type": "display_data"
    }
   ],
   "source": [
    "# Gráfico\n",
    "\n",
    "y_max = np.max(DA_IS_K)\n",
    "fig, ax = plt.subplots(figsize=(10, 8))\n",
    "\n",
    "ax.plot(Y, DA_IS_K, label = \"DA\", color = \"#3D59AB\") \n",
    "ax.plot(Y, L_45, color = \"#404040\") \n",
    "\n",
    "ax.yaxis.set_major_locator(plt.NullLocator())   \n",
    "ax.xaxis.set_major_locator(plt.NullLocator())\n",
    "\n",
    "plt.axvline(x=70.5,  ymin= 0, ymax= 0.69, linestyle = \":\", color = \"grey\")\n",
    "plt.axhline(y=176, xmin= 0, xmax= 0.7, linestyle = \":\", color = \"grey\")\n",
    "\n",
    "plt.text(0, 180, '$DA^e$', fontsize = 11.5, color = 'black')\n",
    "plt.text(72, 0, '$Y^e$', fontsize = 12, color = 'black')\n",
    "plt.text(0, 152, '$α_o$', fontsize = 15, color = 'black')\n",
    "    \n",
    "plt.text(6, 4, '$45°$', fontsize = 11.5, color = 'black')\n",
    "plt.text(2.5, -3, '$◝$', fontsize = 30, color = '#404040')\n",
    "\n",
    "# Título y leyenda\n",
    "ax.set(title=\"Gráfico 4.6 \\n El ingreso de Equilibrio a Corto Plazo\", xlabel= r'Y', ylabel= r'DA')\n",
    "ax.legend() \n",
    "\n",
    "plt.show()"
   ]
  },
  {
   "cell_type": "code",
   "execution_count": null,
   "id": "7c78703c",
   "metadata": {},
   "outputs": [],
   "source": []
  },
  {
   "cell_type": "markdown",
   "id": "649c949a",
   "metadata": {},
   "source": [
    "**5. Estática comparativa en el modelo de Ingreso-Gasto keynesiano**"
   ]
  },
  {
   "cell_type": "markdown",
   "id": "85167fdb",
   "metadata": {},
   "source": [
    "- **Analice una Política Fiscal Expansiva con aumento del Gasto del Gobierno . El análisis debe ser intuitivo, matemático y gráfico.**"
   ]
  },
  {
   "cell_type": "code",
   "execution_count": null,
   "id": "c564d32e",
   "metadata": {},
   "outputs": [],
   "source": []
  },
  {
   "cell_type": "markdown",
   "id": "1ae7b0c6",
   "metadata": {},
   "source": [
    "- *Gráfico:*"
   ]
  },
  {
   "cell_type": "code",
   "execution_count": 173,
   "id": "2cf34523",
   "metadata": {},
   "outputs": [],
   "source": [
    "Y_size = 100 \n",
    "\n",
    "Co = 35\n",
    "Io = 40\n",
    "Go = 35\n",
    "Xo = 2\n",
    "h = 0.7\n",
    "b = 0.8\n",
    "m = 0.2\n",
    "t = 0.3\n",
    "r = 0.9\n",
    "\n",
    "Y = np.arange(Y_size)\n",
    "\n",
    "    # Ecuación \n",
    "def DA_K(Co, Io, Go, Xo, h, r, b, m, t, Y):\n",
    "    DA_K = (Co + Io + Go + Xo - h*r) + ((b - m)*(1 - t)*Y)\n",
    "    return DA_K\n",
    "\n",
    "DA_IS_K = DA_K(Co, Io, Go, Xo, h, r, b, m, t, Y)\n"
   ]
  },
  {
   "cell_type": "code",
   "execution_count": 174,
   "id": "34ae1354",
   "metadata": {},
   "outputs": [],
   "source": [
    "Go = 70\n",
    "\n",
    "# Generar la ecuación con el nuevo parámetro\n",
    "def DA_K(Co, Io, Go, Xo, h, r, b, m, t, Y):\n",
    "    DA_K = (Co + Io + Go + Xo - h*r) + ((b - m)*(1 - t)*Y)\n",
    "    return DA_K\n",
    "\n",
    "DA_G = DA_K(Co, Io, Go, Xo, h, r, b, m, t, Y)"
   ]
  },
  {
   "cell_type": "code",
   "execution_count": 188,
   "id": "de98bcb4",
   "metadata": {},
   "outputs": [
    {
     "data": {
      "image/png": "[encoded data removed]",
      "text/plain": [
       "<Figure size 720x576 with 1 Axes>"
      ]
     },
     "metadata": {
      "needs_background": "light"
     },
     "output_type": "display_data"
    }
   ],
   "source": [
    "# Gráfico\n",
    "y_max = np.max(DA_IS_K)\n",
    "fig, ax = plt.subplots(figsize=(10, 8))\n",
    "\n",
    "\n",
    "# Curvas a graficar\n",
    "ax.plot(Y, DA_IS_K, label = \"DA\", color = \"#EE7600\", linestyle = 'dashed') \n",
    "ax.plot(Y, DA_G, label = \"DA_G\", color = \"#3D59AB\")\n",
    "ax.plot(Y, L_45, color = \"#404040\") #línea de 45º\n",
    "\n",
    "# Lineas punteadas\n",
    "plt.axvline(x = 70.5, ymin= 0, ymax = 0.69, linestyle = \":\", color = \"grey\")\n",
    "plt.axhline(y = 176, xmin= 0, xmax = 0.7, linestyle = \":\", color = \"grey\")\n",
    "plt.axvline(x = 54,  ymin= 0, ymax = 0.54, linestyle = \":\", color = \"grey\")\n",
    "plt.axhline(y = 135, xmin= 0, xmax = 0.54, linestyle = \":\", color = \"grey\")\n",
    "\n",
    "# Texto agregado\n",
    "plt.text(0, 180, '$DA_G$', fontsize = 11.5, color = 'black')\n",
    "plt.text(0, 125, '$DA^e$', fontsize = 11.5, color = '#EE7600')\n",
    "plt.text(6, 4, '$45°$', fontsize = 11.5, color = 'black')\n",
    "plt.text(2.5, -3, '$◝$', fontsize = 30, color = '#404040')\n",
    "plt.text(72, 0, '$Y_G$', fontsize = 12, color = 'black')\n",
    "plt.text(56, 0, '$Y^e$', fontsize = 12, color = '#EE7600')\n",
    "plt.text(60, 45, '$→$', fontsize = 18, color = 'grey')\n",
    "plt.text(20, 140, '$↑$', fontsize = 18, color = 'grey')\n",
    "\n",
    "# Título y leyenda\n",
    "ax.set(title = \"Reducción del Gasto del Gobierno $(G_0)$\", xlabel = r'Y', ylabel = r'DA')\n",
    "ax.legend()\n",
    "\n",
    "plt.show()"
   ]
  },
  {
   "cell_type": "markdown",
   "id": "fbe1741c",
   "metadata": {},
   "source": [
    "- **Analice una Política fiscal expansiva con una reducción de la Tasa de Tributación. El análisis debe ser intuitivo, matemático y gráfico.**"
   ]
  },
  {
   "cell_type": "markdown",
   "id": "0f252c01",
   "metadata": {},
   "source": [
    "- *Gráfico:*"
   ]
  },
  {
   "cell_type": "code",
   "execution_count": 195,
   "id": "97c6673b",
   "metadata": {},
   "outputs": [],
   "source": [
    "Y_size = 100 \n",
    "\n",
    "Co = 35\n",
    "Io = 40\n",
    "Go = 35\n",
    "Xo = 2\n",
    "h = 0.7\n",
    "b = 0.8\n",
    "m = 0.2\n",
    "t = 0.4\n",
    "r = 0.9\n",
    "\n",
    "Y = np.arange(Y_size)\n",
    "\n",
    "    # Ecuación \n",
    "def DA_K(Co, Io, Go, Xo, h, r, b, m, t, Y):\n",
    "    DA_K = (Co + Io + Go + Xo - h*r) + ((b - m)*(1 - t)*Y)\n",
    "    return DA_K\n",
    "\n",
    "DA_IS_K = DA_K(Co, Io, Go, Xo, h, r, b, m, t, Y)"
   ]
  },
  {
   "cell_type": "code",
   "execution_count": 196,
   "id": "d26c4c26",
   "metadata": {},
   "outputs": [],
   "source": [
    "t = 0.2\n",
    "\n",
    "# Generar la ecuación con el nuevo parámetro\n",
    "def DA_K(Co, Io, Go, Xo, h, r, b, m, t, Y):\n",
    "    DA_K = (Co + Io + Go + Xo - h*r) + ((b - m)*(1 - t)*Y)\n",
    "    return DA_K\n",
    "\n",
    "DA_G = DA_K(Co, Io, Go, Xo, h, r, b, m, t, Y)"
   ]
  },
  {
   "cell_type": "code",
   "execution_count": 202,
   "id": "f3377807",
   "metadata": {},
   "outputs": [
    {
     "data": {
      "image/png": "[encoded data removed]",
      "text/plain": [
       "<Figure size 720x576 with 1 Axes>"
      ]
     },
     "metadata": {
      "needs_background": "light"
     },
     "output_type": "display_data"
    }
   ],
   "source": [
    "# Gráfico\n",
    "y_max = np.max(DA_IS_K)\n",
    "fig, ax = plt.subplots(figsize=(10, 8))\n",
    "\n",
    "\n",
    "# Curvas a graficar\n",
    "ax.plot(Y, DA_IS_K, label = \"DA\", color = \"#3D59AB\") \n",
    "ax.plot(Y, DA_G, label = \"DA_t\", color = \"#EE7600\", linestyle = 'dashed')\n",
    "ax.plot(Y, L_45, color = \"#404040\") #línea de 45º\n",
    "\n",
    "# Lineas punteadas\n",
    "plt.axvline(x = 70.5, ymin= 0, ymax = 0.69, linestyle = \":\", color = \"grey\")\n",
    "plt.axhline(y = 176, xmin= 0, xmax = 0.7, linestyle = \":\", color = \"grey\")\n",
    "plt.axvline(x = 54,  ymin= 0, ymax = 0.54, linestyle = \":\", color = \"grey\")\n",
    "plt.axhline(y = 135, xmin= 0, xmax = 0.54, linestyle = \":\", color = \"grey\")\n",
    "\n",
    "# Texto agregado\n",
    "plt.text(0, 180, '$DA_t$', fontsize = 11.5, color = 'black')\n",
    "plt.text(0, 125, '$DA^e$', fontsize = 11.5, color = '#EE7600')\n",
    "plt.text(6, 4, '$45°$', fontsize = 11.5, color = 'black')\n",
    "plt.text(2.5, -3, '$◝$', fontsize = 30, color = '#404040')\n",
    "plt.text(72, 0, '$Y_t$', fontsize = 12, color = 'black')\n",
    "plt.text(56, 0, '$Y^e$', fontsize = 12, color = '#EE7600')\n",
    "plt.text(60, 45, '$→$', fontsize = 18, color = 'grey')\n",
    "plt.text(20, 140, '$↑$', fontsize = 18, color = 'grey')\n",
    "\n",
    "# Título y leyenda\n",
    "ax.set(title = \"Reducción de la Tasa de Tributación\", xlabel = r'Y', ylabel = r'DA')\n",
    "ax.legend()\n",
    "\n",
    "plt.show()"
   ]
  },
  {
   "cell_type": "markdown",
   "id": "4f1e16c5",
   "metadata": {},
   "source": [
    "**6. Estática comparativa en el modelo de Ingreso-Gasto keynesiano con Regla Contracíclica.\n",
    "Ahora vamos a utilizar un modelo con regla contracíclica. Este tipo de política fiscal hace que los auges y las depresiones no sean muy pronunciados. Se establece como una regla consistente en una variación del Gasto (G) (La magnitud es exactamente igual que en 5) en sentido contrario a la variación del Producto, Y. Uilice las siguientes ecuaciones y responda.**"
   ]
  },
  {
   "cell_type": "markdown",
   "id": "960d2a58",
   "metadata": {},
   "source": [
    "Función Consumo: $C = C_o + bY^d$\n",
    "\n",
    "Función Inversión: $I = I_o - hr$\n",
    "\n",
    "Regla Contracíclica del Gasto: $G = G_o - gY$\n",
    "\n",
    "Tributación: $T = tY$\n",
    "\n",
    "Exportaciones: $X = X_o$\n",
    "\n",
    "Importaciones: $M = mY^d$\n",
    "\n",
    "Gasto o Demanda Agregada: $DA = C + I + G + X - M$"
   ]
  },
  {
   "cell_type": "markdown",
   "id": "ff11c0eb",
   "metadata": {},
   "source": [
    "- **Grafique la Funcion de demanda Agregada y la recta de 45 grados señalando los valores de intercepto y pendiente como en el apartado (4).**"
   ]
  },
  {
   "cell_type": "code",
   "execution_count": null,
   "id": "f0776f37",
   "metadata": {},
   "outputs": [],
   "source": []
  },
  {
   "cell_type": "markdown",
   "id": "d04eb1da",
   "metadata": {},
   "source": [
    "- **Encuentre el nivel de Ingreso de equilibrio $Y^e$**"
   ]
  },
  {
   "cell_type": "code",
   "execution_count": null,
   "id": "3d893d7b",
   "metadata": {},
   "outputs": [],
   "source": []
  },
  {
   "cell_type": "markdown",
   "id": "161f78b5",
   "metadata": {},
   "source": [
    "- **Analice una Política Fiscal Expansiva con aumento del Gasto del Gobierno ($\\Delta$ G > 0). El análisis debe ser intuitivo, matemático y gráfico.**"
   ]
  },
  {
   "cell_type": "code",
   "execution_count": null,
   "id": "4bb9380e",
   "metadata": {},
   "outputs": [],
   "source": []
  },
  {
   "cell_type": "markdown",
   "id": "5994fe07",
   "metadata": {},
   "source": [
    "- **¿Cuál es el papel que juega el parametro  en el multiplicador keynesiano?**"
   ]
  },
  {
   "cell_type": "code",
   "execution_count": null,
   "id": "9a1a5fe2",
   "metadata": {},
   "outputs": [],
   "source": []
  },
  {
   "cell_type": "markdown",
   "id": "3da4308f",
   "metadata": {},
   "source": [
    "- **¿El tamaño del efecto de la politica fiscal encontrado en 6 es el mismo que en el apartado 5?**"
   ]
  },
  {
   "cell_type": "code",
   "execution_count": null,
   "id": "e973aa50",
   "metadata": {},
   "outputs": [],
   "source": []
  },
  {
   "cell_type": "markdown",
   "id": "e5b03900",
   "metadata": {},
   "source": [
    "- **Analice una crisis mundial que reduce nuestras exportaciones ($\\Delta$ $X_o$ < 0). El análisis debe ser intuitivo, matemático y gráfico.**"
   ]
  },
  {
   "cell_type": "code",
   "execution_count": null,
   "id": "6964e2bf",
   "metadata": {},
   "outputs": [],
   "source": []
  },
  {
   "cell_type": "markdown",
   "id": "927d7f4a",
   "metadata": {},
   "source": [
    "## PARTE 2: REPORTE"
   ]
  },
  {
   "cell_type": "markdown",
   "id": "63c816f2",
   "metadata": {},
   "source": [
    "El artículo busca explicar las causas de la desaceleración económica que vivió el Perú en el período que va desde el 2013 al 2015 y evaluar las políticas fiscales y monetarias de las autoridades competentes (MEF y BCR, respectivamente) frente a esta. \n",
    "\n",
    "El artículo, analizando el período particular que va del 2013 al 2015, permite entender la dependencia que tiene la economía peruana de las exportaciones de materias primas (especialmente de las provenientes de la minería) y cómo sus auges y recesiones coinciden con un aumento o disminución del precio de estas, respectivamente. Asimismo, presenta de forma simple la política económica monetaria y fiscal que el gobierno implementa frente a las recesiones económicas, además de realizar un análisis y crítica de esta, pues la considera muy ortodoxa e, incluso, irreal (por ejemplo, las metas de inflación del BCR o la correlación de mayor o menor inversión pública con los auges y recesiones). Finalmente, otra fortaleza del artículo son las sugerencias que realiza para las políticas del MEF y BCR para el eventual gobierno de PPK. En otras palabras, Dancourt parece encontrar en las políticas monetarias y fiscales conservadoras medidas insuficientes para hacer frente a la coyuntura externa y aboga por flexibilizar las metas de inflación, bajar la tasa de interés y aumentar el gasto público. \n",
    "\n",
    "Sin embargo, si bien es un artículo de macroeconomía, hubiese sido interesante que el autor plantee problemas microeconómicos que podrían agravar el problema de la dependencia de la economía peruana de los precios internacionales de materias primas. Por ejemplo, la falta de competencia en el sistema bancario y financiero, la alta informalidad laboral, la composición de la actividad económica, etc. En otras palabras, presentar variables, aunque de diferente naturaleza, que expliquen la debilidad del Perú para enfrentar shocks externos. Otro punto débil es que no presenta evidencia comparada de otras economías ni datos sólidos que permitan justificar un cambio de política monetaria y fiscal. Incluir casos extisosos (o no) hubiese enriquecido el artículo.\n",
    "\n",
    "Por último, un primer paso específico para avanzar esta pregunta es situarnos en la coyuntura actual. Si bien hoy el Perú sigue siendo una economía dependiente a las fluctuaciones de los precios de las materias primas, cambios geopolíticos que generan eventos como la Guerra de Ucrania, el menor crecimiento de China y EEUU, la abundante liquidez producto de los programas de estímulo económico durante la pandemia, los problemas con las cadenas de suministro globales, etc. Por tanto, es indispensable cómo el MEF y el BCR deben pensar cómo hacer frente a este escenario global que afecta la economía peruana. Asimismo, el Perú se ha mostrado como un país con una institucionalidad débil donde, pese a que las políticas fiscales y monetarias se mantienen relativamente responsables, el crecimiento económico está estancado, la inflación no puede contenerse y la inversión privada se encuentra estancada. Por tanto, una línea de investigación importante sería determinar la medida en que nuestra debilidad institucional afecta la efectividad de las políticas macroeconómicas.\n"
   ]
  }
 ],
 "metadata": {
  "kernelspec": {
   "display_name": "Python 3 (ipykernel)",
   "language": "python",
   "name": "python3"
  },
  "language_info": {
   "codemirror_mode": {
    "name": "ipython",
    "version": 3
   },
   "file_extension": ".py",
   "mimetype": "text/x-python",
   "name": "python",
   "nbconvert_exporter": "python",
   "pygments_lexer": "ipython3",
   "version": "3.9.12"
  }
 },
 "nbformat": 4,
 "nbformat_minor": 5
}
