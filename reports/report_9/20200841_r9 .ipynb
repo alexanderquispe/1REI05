{
 "cells": [
  {
   "cell_type": "markdown",
   "id": "22e95abc",
   "metadata": {},
   "source": [
    "Gianfranco Polar"
   ]
  },
  {
   "cell_type": "markdown",
   "id": "10088670",
   "metadata": {},
   "source": [
    "20200841"
   ]
  },
  {
   "cell_type": "markdown",
   "id": "f239d33e",
   "metadata": {},
   "source": [
    "# Reporte 9"
   ]
  },
  {
   "cell_type": "markdown",
   "id": "c20d0668",
   "metadata": {},
   "source": [
    "El artículo “Social media and mental health”, escrito por Braghieri, Levy y Makarin, busca responder si realmente la masificación del uso de las redes sociales puede causar el deterioro de la salud mental entre jóvenes y adultos. Específicamente, los autores buscan demostrar si la introducción de Facebook en un grupo de jóvenes universitarios de Estados Unidos traería consigo consecuencias negativas en la salud mental, como problemas de depresión, ansiedad, desorden de bipolaridad, esquizofrenia, e incluso casos de suicidio. Con este objetivo, el artículo interpreta datos obtenidos de la encuesta National College Health Assessment (NCHA). Con los resultados, se emplea una regresión discontinua para el análisis de los datos obtenidos.\n",
    "\n",
    "En ese sentido, una de sus principales fortalezas es el uso de este tipo de regresión, que permite determinar los efectos causales de las intervenciones, como la intervención de Facebook a un grupo de estudiantes universitarios. El modelo de regresión discontinua permite comparar los resultados en el grupo antes y después de la intervención. Otra fortaleza es que la investigación considera la heterogeneidad de la población, pues existen otros factores causales que pueden causar el deterioro de la salud mental, como la carga y exigencia académica, el acceso a drogas, factores familiares, etc. La investigación también muestra algunas debilidades, como su incapacidad de contextualizar los resultados y explicar cómo es que las redes sociales impactan negativamente en la salud mental, más allá de simplemente interpretar lo obtenido en la regresión.\n",
    "\n",
    "La principal contribución del artículo es el uso del modelo de regresión discontinua para abordar la relación causal entre el uso de redes sociales y el deterioro de la salud mental entre los estudiantes universitarios. En ese sentido, un siguiente paso para avanzar en la investigación sería considerar otros factores sociales como la intervención de variables como el racismo, la xenofobia o la homofobia dentro de las redes sociales, lo cual deviene en casos de bullying cibernético y un consecuente deterioro de la salud mental. Al respecto, Shi et al. (2022) encontraron que existe una asociación estadísticamente significativa entre la pertenencia a un grupo étnico racializado y la experiencia personal de ser víctima de ciberbullying basado en características étnicas o raciales.\n"
   ]
  },
  {
   "cell_type": "markdown",
   "id": "2a4c984c",
   "metadata": {},
   "source": [
    "**Bibliografía**\n",
    "\n",
    "Shi, L., Zhang, D., Martin, E. et al. Racial Discrimination, Mental Health and Behavioral Health During the COVID-19 Pandemic: a National Survey in the United States. J GEN INTERN MED 37, 2496–2504 (2022). https://doi.org/10.1007/s11606-022-07540-2"
   ]
  }
 ],
 "metadata": {
  "kernelspec": {
   "display_name": "Python 3 (ipykernel)",
   "language": "python",
   "name": "python3"
  },
  "language_info": {
   "codemirror_mode": {
    "name": "ipython",
    "version": 3
   },
   "file_extension": ".py",
   "mimetype": "text/x-python",
   "name": "python",
   "nbconvert_exporter": "python",
   "pygments_lexer": "ipython3",
   "version": "3.9.12"
  }
 },
 "nbformat": 4,
 "nbformat_minor": 5
}
