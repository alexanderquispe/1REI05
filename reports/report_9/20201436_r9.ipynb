{
 "cells": [
  {
   "cell_type": "markdown",
   "id": "1928750c",
   "metadata": {},
   "source": [
    "Reporte:\n",
    "El documento realizado por Luca Braghieri, Levy y Alexey Makarin, se enfoca en aprovechar la introducción escalonada de Facebook en las universidades de EE. UU. para estimar el impacto de las redes sociales en la salud mental. Esta investigación llegó a conclusiones relevante tales como que el uso de Facebook aumentó los síntomas de mala salud mental en dichos universitarios. También, a los estudiantes que eran más propensos a padecer enfermedades mentales, la introducción de Facebook les provocó un aumento de los síntomas de depresión. Asimismo, la introducción de Facebook provocó un mayor uso de los servicios de salud mental. Así como también, tras la introducción de Facebook, los estudiantes tenían más probabilidades de que su rendimiento académico se vea afectado por una mala salud mental. De esta manera, se encontró que la introducción de Facebook en las universidades tuvo un efecto negativo en salud mental de estudiantes. Por ello, la pregunta del artículo, finalmente, sería ¿Cómo impacta las redes sociales en la salud mental? Puesto aprueba de manera específica a través del experimento natural único de la introducción escalonada de Facebook en las universidades estadounidenses.\n",
    "\n",
    "Es notorio que el presente artículo posee abundantes fortalezas, en este párrafo presentaremos solo un par.  Una de las principales fortalezas es la presencia de muestreo estratificado al agrupar a los estudiantes en subpoblaciones. En concreto este artículo dividió de esta manera a los estudiantes: estudiantes que viven fuera del campus y que, por tanto, tienen menos probabilidades de participar en la vida social dentro del campus; estudiantes que tienen redes sociales más débiles fuera del campus, según la medida de no pertenencia a una fraternidad o hermandad; estudiantes con un estatus socioeconómico más bajo, según la medida de la tarjeta de crédito o que trabajan a tiempo parcial además de estudiar; y los estudiantes que tienen sobrepeso. Lo cual, permitió reducir el error en las estimaciones y generar un índice de comparaciones sociales basado en las variables anteriores y como moderador adicional, un indicador que toma valor uno si un estudiante está por encima del valor de la mediana del índice de comparaciones sociales. Además, una fortaleza relevante es que este trabajo de investigación es capaz de ser una plantilla para explicar la conexión entre las redes sociales y la salud mental en otras sociedades puesto que las variables que afectan el ámbito de la salud mental en estudiantes de Estados Unidos son similares a la de estudiantes provenientes de otras sociedades. Otra de las principales fortalezas es el tema planteado en cuestión puesto que con ayuda de la metodología cuantitativa utilizada por los autores de este texto es reflejo de su preocupación por proporcionar cuadros estadísticos, los cuales están mostrados en la parte final del documento, brinda ayuda a en la organización, orden y entendimiento del mismo hacia el público en general. En contraste, las debilidades que se han podido percibir del artículo, a pesar de ser un artículo con pocos indicios de poseer debilidades es que no es capaz de asegurar otras causas que expliquen los efectos negativos del uso de las redes sociales de la salud mental, además de sugerir que los resultados se deben a que Facebook fomenta las comparaciones sociales desfavorables.\n",
    "\n",
    "Asimismo, es importante recalcar que la contribución de los autores en este texto es su aporte de preocupación por escribir y centrarse en un tema moderno tal como las redes sociales, el cual afecta a toda la población. Debido que, la tecnología está formando parte de la vida cotidiana de manera globalizada. Estos autores están siendo capaces incentivar acerca de la realización de más estudios en temas tan valiosos como la relación existente entre las redes sociales y la salud mental en estudiantes universitarios, lo cual brindaría ayuda a los estudiantes puesto que las conclusiones del presente documento contribuyen a la comprensión de los efectos negativos de las redes sociales en la salud mental debido a que, la sucesiva comparación que hacemos de nuestra vida con la que se nos muestra en las redes por parte de otros usuarios, puede originar sentimientos parecidos a la desesperación cuando vemos algo que queremos y no podemos conseguir. Lo cual, a largo plazo permitiría que los estudiantes y personas que hacen uso de las redes sociales tomen una mejor toma de decisiones respecto al uso de las redes sociales en el desenvolvimiento de su vida diaria.\n",
    "\n",
    "Una forma de avanzar en la pregunta de investigación, sería a través del cuestionamiento de ¿Qué papel han tenido las redes sociales durante la pandemia? Y ¿De qué manera han influido estas herramientas de comunicación en la salud mental de los adolescentes? Para responder estas dudas planteadas respecto a la relación de la salud mental, la pandemia y las redes sociales se encontró un artículo de investigación denominado “The impact of COVID-19 on adolescents' mental health and its relation with social media”, el cual se enfoca en explicar la repercusión de la pandemia en los jóvenes y en la influencia de los medios de comunicación en la percepción y, por tanto, en las emociones que estos hechos generan en la población. Este artículo demostró que la exposición (aunque sea de manera indirecta a través de los medios de comunicación y las redes sociales) a hechos estresantes como la pandemia de la COVID-19 puede predisponer a la aparición de desórdenes mentales. Además, de destacar que aquellos jóvenes con mayor conocimiento sobre el virus y las medidas de prevención, normalmente provenientes de entornos más acomodados, con acceso a información de calidad y nivel educativo adecuado para entenderla, presentaron síntomas depresivos con menor frecuencia.\n",
    "\n",
    "Bibliografía:\n",
    "Solanilla Salamero, E., Trucharte Álvarez, C., & Guerrero García, C. (2022). El impacto de la COVID-19 en la salud mental de los adolescentes y su relación con las redes sociales [The impact of COVID-19 on adolescents' mental health and its relation with social media]. Atencion primaria, 54(1), 102149. https://doi.org/10.1016/j.aprim.2021.102149\n",
    "\n",
    "\n"
   ]
  }
 ],
 "metadata": {
  "kernelspec": {
   "display_name": "Python 3 (ipykernel)",
   "language": "python",
   "name": "python3"
  },
  "language_info": {
   "codemirror_mode": {
    "name": "ipython",
    "version": 3
   },
   "file_extension": ".py",
   "mimetype": "text/x-python",
   "name": "python",
   "nbconvert_exporter": "python",
   "pygments_lexer": "ipython3",
   "version": "3.9.12"
  }
 },
 "nbformat": 4,
 "nbformat_minor": 5
}
