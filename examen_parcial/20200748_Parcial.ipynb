{
 "cells": [
  {
   "cell_type": "code",
   "execution_count": 1,
   "id": "a481f06a",
   "metadata": {},
   "outputs": [],
   "source": [
    "import ipywidgets as widgets\n",
    "import matplotlib.pyplot as plt\n",
    "import numpy as np\n",
    "import sympy as sy\n",
    "from sympy import *\n",
    "import pandas as pd\n",
    "#from causalgraphicalmodels import CausalGraphicalModel"
   ]
  },
  {
   "cell_type": "markdown",
   "id": "19223a31",
   "metadata": {},
   "source": [
    "ALUMNA: ANGELA RODRIGUEZ FERNANDEZ\n",
    "CODIGO: 20200748"
   ]
  },
  {
   "cell_type": "markdown",
   "id": "9bbeccdf",
   "metadata": {},
   "source": [
    "# PARTE TEÓRICA:"
   ]
  },
  {
   "cell_type": "markdown",
   "id": "3e082257",
   "metadata": {},
   "source": [
    "### (2 puntos) Defina el Multiplicador Keynesiano y dé un ejemplo de cómo influye este en el modelo Ingreso-Gasto Keynesiano.\n"
   ]
  },
  {
   "cell_type": "markdown",
   "id": "2f14aeed",
   "metadata": {},
   "source": [
    "Según Jimenez (2020, p. 55), \"un cambio en la magnitud de cualquiera de los componentes autónomos de la demanda  agregada genera un proceso multiplicador del ingreso hasta converger al nuevo ingreso y producto de equilibrio. Así, el aumento multiplicado el ingreso es resultado de los efectos directos e indirectos ocasionados por el aumento de cualquiera de los componentes autónomos de la demanda agregada\" .\n",
    "\n",
    "Un ejemplo sería cuando se reduce la $t$: Si se reduce la tasa promedio de impuestos o tasa impositiva, el multiplicador keynesiano aumenta de valor, pues el denominador del multiplicador se reduce, entonces, la DA aumenta. Por tanto, ahora Y<DA, por tanto Y tiene que aumentar. Asimismo, un aumento en la tasa de impuestos, reduce la pendiente de DA con lo cual la recta de la DA gira en el sentido de las agujas del reloj."
   ]
  },
  {
   "cell_type": "markdown",
   "id": "2391b8ae",
   "metadata": {},
   "source": [
    "### (2 puntos) Grafique y explique cúando sucede un exceso y déficit de demanda en el modelo Ingreso-Gasto. Señale las áreas donde ocurre cada caso. Explique cómo se converge al equilibrio a partir de estos dos escenarios.\n"
   ]
  },
  {
   "cell_type": "markdown",
   "id": "12c4befe",
   "metadata": {},
   "source": [
    "-Exceso de demanda: la demanda agregada es mayor que el nivel de producción. Este exceso de demanda que provoca una disminución de los inventarios y aumentos de la producción hasta llegar al equilibrio.\n",
    "\n",
    "-Deficit de demanda/exceso de producción: nivel de producción es mayor a la demanda agregada. Este deficit de demanda provoca un aumento de los inventarios y a disminuciones de la producción hasta llegar al equilibrio.\n",
    "\n"
   ]
  },
  {
   "cell_type": "markdown",
   "id": "68568f12",
   "metadata": {},
   "source": [
    "#### Gráfico de desequilibrios en el modelo Ingreso-Gasto"
   ]
  },
  {
   "cell_type": "code",
   "execution_count": 6,
   "id": "a8f5112d",
   "metadata": {},
   "outputs": [],
   "source": [
    "# Parámetros\n",
    "\n",
    "Y_size = 100 \n",
    "\n",
    "Co = 35\n",
    "Io = 40\n",
    "Go = 70\n",
    "Xo = 2\n",
    "h = 0.7\n",
    "b = 0.8\n",
    "m = 0.2\n",
    "t = 0.3\n",
    "\n",
    "Y = np.arange(Y_size)\n",
    "\n",
    "\n",
    "# Ecuación \n",
    "def r_IS(b, m, t, Co, Io, Go, Xo, h, Y):\n",
    "    r_IS = (Co + Io + Go + Xo - Y * (1-(b-m)*(1-t)))/h\n",
    "    return r_IS\n",
    "\n",
    "r = r_IS(b, m, t, Co, Io, Go, Xo, h, Y)"
   ]
  },
  {
   "cell_type": "code",
   "execution_count": 10,
   "id": "526e33aa",
   "metadata": {},
   "outputs": [
    {
     "data": {
      "image/png": "[encoded data removed]",
      "text/plain": [
       "<Figure size 720x576 with 1 Axes>"
      ]
     },
     "metadata": {},
     "output_type": "display_data"
    }
   ],
   "source": [
    "# Gráfico: Curva IS\n",
    "# Dimensiones del gráfico\n",
    "y_max = np.max(r)\n",
    "fig, ax = plt.subplots(figsize=(10, 8))\n",
    "ax.yaxis.set_major_locator(plt.NullLocator())   \n",
    "ax.xaxis.set_major_locator(plt.NullLocator())\n",
    "\n",
    "ax.plot(Y, r, label = \"IS\", color = \"#018ce9\") \n",
    "\n",
    "#Líneas punteadas\n",
    "ax.axvline(x = 70.5, ymin= 0, ymax = 0.45, linestyle = \":\", color = \"#add8e6\")\n",
    "ax.axvline(x = 54,  ymin= 0, ymax = 0.45, linestyle = \":\", color = \"#add8e6\")\n",
    "ax.axvline(x = 37,  ymin= 0, ymax = 0.45, linestyle = \":\", color = \"#add8e6\")\n",
    "plt.axhline(y = 165, xmin= 0, xmax = 0.693, linestyle = \":\", color = \"#add8e6\")\n",
    "\n",
    "#Títulos, ejes y leyenda\n",
    "ax.text(71, 128, '$Y_B$', fontsize = 12, color = 'black')\n",
    "ax.text(55, 128, '$Y_A$', fontsize = 12, color = 'black')\n",
    "ax.text(38, 128, '$Y_C$', fontsize = 12, color = 'black')\n",
    "ax.text(1, 167, '$r_A$', fontsize = 12, color = 'black')\n",
    "ax.text(71, 166, 'B', fontsize = 12, color = 'black')\n",
    "ax.text(55, 166, 'A', fontsize = 12, color = 'black')\n",
    "ax.text(38, 166, 'C', fontsize = 12, color = 'black')\n",
    "#Coordenadas de excesos\n",
    "ax.text(70, 180, '$ Deficit de Demanda $', fontsize = 12, color = 'black')\n",
    "ax.text(34, 150, '$ Exceso de Demanda $', fontsize = 12, color = 'black')\n",
    "\n",
    "ax.set(title = \"Desequilibrio en el modelo de Ingreso Gasto\", xlabel= 'Y', ylabel= 'r')\n",
    "ax.legend()\n",
    "\n",
    "plt.show()"
   ]
  },
  {
   "cell_type": "markdown",
   "id": "59a90b16",
   "metadata": {},
   "source": [
    "Todos los puntos de la Curva IS corresponden a pares ordenados (Y, r) que equilibran el mercado de bienes. Entonces, los puntos fuera de esta curva son de desequilibrio en el mercado o representan una situación en el que el ahorro y la inversión no son iguales.\n",
    "\n",
    "El punto $B$ representa un desequilibrio: la tasa de interés $(r)$ y la inversión $(I)$ permanecen constantes, pero los ingresos $(Y)$ son mayores, entonces el ahorro es mayor a la inversión $(I < S)$ ; por lo tanto, $AB$ a la derecha de la curva IS representa un deficit de demanda.\n",
    "\n",
    "El punto $C$ representa un desequilibrio: la tasa de interés $(r)$ y la inversión $(I)$ permanecen constantes, pero el ingreso $(Y)$ es menor, rntonces, el ahorro es menor a la inversión $(S < I)$ ; por lo tanto, $AC$ a la derecha de la curva IS representa un exceso de demanda."
   ]
  },
  {
   "cell_type": "markdown",
   "id": "5dc4e39b",
   "metadata": {},
   "source": [
    "### (2 puntos) ¿Cuáles son las herramientas de política fiscal y política monetaria? Dea un ejemplo para cada una de ellas dentro del contexto peruano. Coloque su fuente en caso sea necesario. (Solo necesita 1 para pol. Fiscal y 1 para Monetaria).\n"
   ]
  },
  {
   "cell_type": "markdown",
   "id": "297536ab",
   "metadata": {},
   "source": [
    "#### Instrumentos de política monetaria que puede utilizar el Banco Central"
   ]
  },
  {
   "cell_type": "markdown",
   "id": "2f11ef38",
   "metadata": {},
   "source": [
    "Como lo vimos en el reporte 3, en primer lugar, existe la oferta monetaria como instrumento de política. Mediante este tipo de políticas el Banco central realiza operaciones mediante la compra o venta de activos financieros o bonos a los bancos comerciales (Jiménez 2020, pp. 80). Cuando compran bonos del mercado para inyectarlos en la economía se le llama una política monetaria expansivas. Mediante esta política aumenta la oferta monetaria gracias al incremento de sus activos. Cuando venden bonos al mercado y retiran dinero de la economía se le llama una política monetaria contractiva. Mediante esta política se reduce la oferta monetaria debido a la disminución de la base monetaria.\n",
    " \n",
    "En segundo lugar, el coeficiente legal de encaje es también un instrumento de política. A través de una política monetaria expansiva, se disminuye la tasa de encaje al incrementar el dinero disponible de los bancos para realizar préstamos. Es decir, \"disminución de la tasa de encaje aumenta la posibilidad de creación de dinero bancario porque aumenta el multiplicador de dinero bancario; y, este aumento del dinero bancario implica un aumento de la oferta monetaria\" (Jiménez 2020, pp. 82). Lo contrario sucede con una política monetaria contractiva en el cuál aumenta el coeficiente de encaje y disminuye la oferta monetaria ya que los bancos aumentan su proporción de depósitos reduciendo así el multiplicador bancario.\n",
    " \n",
    "Y finalmente, está la tasa de interés (r) como instrumento de política. En este caso, el r se convierte en instrumento y la oferta monetaria se convierte en una variable endógena, es decir, la r se vuelve la variable referencial. Con una política monetaria expansiva se reduce la tasa de interés y por ende aumenta la oferta monetaria. Lo contrario sucede con una política monetaria contractiva ya que aumenta la tasa de interés y por ende la oferta monetaria. \n"
   ]
  },
  {
   "cell_type": "markdown",
   "id": "d91e39cd",
   "metadata": {},
   "source": [
    "Ejemplo: A inicios del 2022, el BCRP acordó elevar la tasa de interés de referencia en 50 pbs. a 3,00 por ciento, continuando con la normalización de la posición de política monetaria. Esto frente a la volatilidad que seguían mostrando los mercados financieros en un contexto de incertidumbre, de modo que la elevación de la tasa de referencia se realizó para atenuar tales volatilidades.\n",
    "\n",
    "Fuente: https://www.bcrp.gob.pe/docs/Transparencia/Notas-Informativas/2022/nota-informativa-2022-01-06-1.pdf\n"
   ]
  },
  {
   "cell_type": "markdown",
   "id": "0a53acc5",
   "metadata": {},
   "source": [
    "#### Instrumentos de política fiscal que puede utilizar el Banco Central"
   ]
  },
  {
   "cell_type": "markdown",
   "id": "3b976170",
   "metadata": {},
   "source": [
    "De acuerod a Jiménez (2020) el gobierno puede estabilizar las fluctuaciones del producto (Y) mediante la política fiscal utilizando t, G y/o TR. De otro lado, la función de impuestos puede actuar como un estabilizador automático de las fluctuaciones del producto. La tributación varía con el nivel del producto, morigerando sus fluctuaciones. En los periodos de auge la tributación aumenta, reduciendo el déficit o aumentando el superávit fiscal, con lo cual se reduce la demanda agregada y el nivel de producción.\n"
   ]
  },
  {
   "cell_type": "markdown",
   "id": "47e959b6",
   "metadata": {},
   "source": [
    "Por ejemplo, para apoyar a las empresas durante la pandemia, el Perú adoptó una política fiscal con medidas como la provisión de garantías de crédito, los préstamos al sector privado y la capitalización de fondos e instituciones financieras públicas. En particular, el programa “Reactiva Perú” otorgó garantías de crédito de hasta 16000 millones de dólares, a las que pudieron acceder empresas de todos los tamaños, desde microempresas hasta empresas grandes\n",
    " \n",
    "MEF. (2020). Medidas para mitigar la emergencia. Recuperado de: https://www.mef.gob.pe/planeconomicocovid19/soportehogares.html"
   ]
  },
  {
   "cell_type": "markdown",
   "id": "a4eefe90",
   "metadata": {},
   "source": [
    "### (2) Explique qué funciones del dinero respaldan el éxito de de Yape y Plin(Aplicativos moviles para intercambio de dinero).\n"
   ]
  },
  {
   "cell_type": "markdown",
   "id": "0b0c2694",
   "metadata": {},
   "source": [
    "Hay 4 funciones del dinero, pero son 3 las que nos pueden ayudar a explicar el éxito de Yape y Plin. El medio de intercambio nos dice que facilita el intercambio de bienes y servicios. Entonces, con estas aplicaciones logramos comprar bienes y servicios, logramos hacer las transacciones para estas comprars. Luego, el medio de pago nos dice que es el medio para cancelar deudas o servicios. Si lo entendemos como que Yape y Plin nos permiten realizar transacciones para pagar deudas o servicios como la renta, luz, agua, etc. si podría explicar el porque son utilizadas estas aplicaciones. Y finalmente, la reserva de valor que menciona que es un medio para mantener la riqueza. En este caso, estas aplicaciones son como billeteras virtuales donde almacenamos nuestro dinero. "
   ]
  },
  {
   "cell_type": "markdown",
   "id": "7452d493",
   "metadata": {},
   "source": [
    "### (3 puntos) Cuáles son las conclusiones principales del paper de Dancurt \"Inflation Targeting in Peru: The Reasons for the Success\""
   ]
  },
  {
   "cell_type": "markdown",
   "id": "ec77e230",
   "metadata": {},
   "source": [
    "Basandonos de la lección del 2008: el banco central debe reducir la tasa de interés y vender moneda extranjera en respuesta a shocks externos adversos; y el banco central debe subir la tasa de interés y comprar moneda extranjera en respuesta a choques externos favorables. Comprendemos también que para poder prevenir crisis bancarias, el banco central debe limitar el endeudamiento externo de los bancos comerciales para así también desdoralizar el crédito bancario. Asimismo, también plantean un tipo de política monetaria que incluya la regla de Taylor sobre el manejo de la tasa de interés que este dirigida al equilibrio interno, junto con un regla de intervención de flotación sucia para equilibrar el mercado externo, y así continuar con la capacidad de estabilizar niveles de precios y la actividad económica en general sin afecta a largo plazo la diversificación productiva de nuestra economía. "
   ]
  },
  {
   "cell_type": "markdown",
   "id": "02c6ac56",
   "metadata": {},
   "source": [
    "# Parte Práctica:"
   ]
  },
  {
   "cell_type": "markdown",
   "id": "4c843b5b",
   "metadata": {},
   "source": [
    "## Ejercicio 1: El modelo ingreso-gasto en una economía abierta"
   ]
  },
  {
   "cell_type": "markdown",
   "id": "d3f20cd1",
   "metadata": {},
   "source": [
    "### (2 puntos) Encuentre el Ingreso de Equilibrio  e identifique el multiplicador keynesiano."
   ]
  },
  {
   "cell_type": "markdown",
   "id": "e890ce90",
   "metadata": {},
   "source": [
    "$$ DA = C_0 + b(1-t)Y + I_0 - hr + G_0 + x_1Y* + x_2ε− m_1(1 − t)Y + m_2ε $$\n",
    "\n",
    "\n",
    "$$ DA = C_0 + I_0 +G_0 + [b(1 − t)− m_1(1 −t)]Y − hr + x_1Y∗ + (x_2 + m_2)ε $$\n",
    "\n",
    "\n",
    "$$ DA = w −hr + x_1Y∗ + (x_2 + m_2)ε_0 − (x_2 + m_2)ρr + (x_2 + m_2)ρr∗ + [(b− m_1) (1− t)]Y $$\n",
    "\n",
    "   $$ w = C_0 + I_0 + G_0 $$\n",
    "   \n",
    "   \n",
    "$$ DA = [𝑤 + x_1Y∗ + (x_2 + m_2)ε_0 + (x_2 + m_2)ρr∗ − (h + (x_2 + m_2)ρ)r] +[(b− m_1)(1− t)]Y $$"
   ]
  },
  {
   "cell_type": "markdown",
   "id": "0ce55b22",
   "metadata": {},
   "source": [
    "Para obtener el ingreso de Equilibrio tenemos que igualar Y = DA"
   ]
  },
  {
   "cell_type": "markdown",
   "id": "10432bf1",
   "metadata": {},
   "source": [
    "$$ Y = \\frac{1}{1-(b-m_1)(1− t)} [w + (x_2 + m_2)ε_0 + (x_2 + m_2)ρr∗ + x_1Y∗] - [\\frac{h+(x_2 + m_2)ρ)}{1-(b-m_1)(1− t)}]r $$"
   ]
  },
  {
   "cell_type": "markdown",
   "id": "d330b7f2",
   "metadata": {},
   "source": [
    "El multiplicador es: \n",
    "\n",
    "$$ \\frac{1}{1-(b-m_1)(1− t)} $$"
   ]
  },
  {
   "cell_type": "markdown",
   "id": "ca9257f5",
   "metadata": {},
   "source": [
    "### (2 puntos) Analice los efectos sobre la variable endógena  de una disminución del gasto fiscal . El análisis debe ser intuitivo, matemático y gráfico."
   ]
  },
  {
   "cell_type": "markdown",
   "id": "2b04b482",
   "metadata": {},
   "source": [
    "#### Intuitivo"
   ]
  },
  {
   "cell_type": "markdown",
   "id": "b997dec1",
   "metadata": {},
   "source": [
    "$$ Go↓ → G↓ → W → DA↓ → DA < Y → Y↓$$"
   ]
  },
  {
   "cell_type": "markdown",
   "id": "9784e765",
   "metadata": {},
   "source": [
    "Si disminuye el gasto fiscal, disminuye el gasto autónomo. Esto afecta W y por ende también a la demanda agregada y por eso disminuye. Se da un desequilibrio entre demanda y producción, entonces Y tiene que disminuir también"
   ]
  },
  {
   "cell_type": "markdown",
   "id": "6ca5a605",
   "metadata": {},
   "source": [
    "#### Matemático"
   ]
  },
  {
   "cell_type": "markdown",
   "id": "a91d67a1",
   "metadata": {},
   "source": [
    "$$ ∆Y = k (∆G_0) $$\n",
    "$$ ∆Y = (-)(+) $$\n",
    "$$ ∆Y < 0 $$"
   ]
  },
  {
   "cell_type": "markdown",
   "id": "1a7aface",
   "metadata": {},
   "source": [
    "#### Gráfico"
   ]
  },
  {
   "cell_type": "code",
   "execution_count": null,
   "id": "0cd892ef",
   "metadata": {},
   "outputs": [],
   "source": []
  },
  {
   "cell_type": "markdown",
   "id": "f3306661",
   "metadata": {},
   "source": [
    "### (2 puntos) Analice los efectos sobre la variable endógena  de un incremento del PBI mundial . El análisis debe ser intuitivo, matemático y gráfico."
   ]
  },
  {
   "cell_type": "markdown",
   "id": "10eea60e",
   "metadata": {},
   "source": [
    "#### Intuitivo"
   ]
  },
  {
   "cell_type": "code",
   "execution_count": null,
   "id": "b8122041",
   "metadata": {},
   "outputs": [],
   "source": []
  },
  {
   "cell_type": "markdown",
   "id": "8d4db90e",
   "metadata": {},
   "source": [
    "#### Matemático"
   ]
  },
  {
   "cell_type": "code",
   "execution_count": null,
   "id": "495c38a4",
   "metadata": {},
   "outputs": [],
   "source": []
  },
  {
   "cell_type": "markdown",
   "id": "74b3097f",
   "metadata": {},
   "source": [
    "#### Gráfico"
   ]
  },
  {
   "cell_type": "code",
   "execution_count": null,
   "id": "190350ba",
   "metadata": {},
   "outputs": [],
   "source": []
  },
  {
   "cell_type": "markdown",
   "id": "878804c1",
   "metadata": {},
   "source": [
    "## Ejercicio 2: Modelo de OA-DA y el nuevo esquema institucional de Política Monetaria, donde la tasa de interés de referencia  es usada como instrumento."
   ]
  },
  {
   "cell_type": "markdown",
   "id": "75f824c8",
   "metadata": {},
   "source": [
    "### (2 puntos) Encuentre las ecuaciones de equilibrio de Y^eq y P^eq "
   ]
  },
  {
   "cell_type": "markdown",
   "id": "72cd7602",
   "metadata": {},
   "source": [
    "- DA:\n",
    "\n",
    "$ IS: [1-b(1-t)]Y = C_0 + I_0 + G_0 - hr_0 $\n",
    "\n",
    "$ LM: M^s_0 - P = kY - jr_0 $"
   ]
  },
  {
   "cell_type": "markdown",
   "id": "91c069b7",
   "metadata": {},
   "source": [
    "- Oferta Agregada:\n",
    "\n",
    "$ P = P^e + θ(Y- Y') $"
   ]
  },
  {
   "cell_type": "markdown",
   "id": "da06f082",
   "metadata": {},
   "source": []
  },
  {
   "cell_type": "markdown",
   "id": "a3ba3789",
   "metadata": {},
   "source": [
    "### (3 puntos) Analice los efectos sobre las variables endógenas Y, P ante una subida de la tasa de interés de referencia r_0 . El análisis debe ser intuitivo, matemático y gráfico."
   ]
  },
  {
   "cell_type": "markdown",
   "id": "984ce52b",
   "metadata": {},
   "source": [
    "#### Intuitivo"
   ]
  },
  {
   "cell_type": "markdown",
   "id": "6a9305ec",
   "metadata": {},
   "source": [
    "#### Matemático"
   ]
  },
  {
   "cell_type": "markdown",
   "id": "4383ca93",
   "metadata": {},
   "source": [
    "#### Gráfico"
   ]
  },
  {
   "cell_type": "code",
   "execution_count": null,
   "id": "2f1c4727",
   "metadata": {},
   "outputs": [],
   "source": []
  }
 ],
 "metadata": {
  "kernelspec": {
   "display_name": "Python 3 (ipykernel)",
   "language": "python",
   "name": "python3"
  },
  "language_info": {
   "codemirror_mode": {
    "name": "ipython",
    "version": 3
   },
   "file_extension": ".py",
   "mimetype": "text/x-python",
   "name": "python",
   "nbconvert_exporter": "python",
   "pygments_lexer": "ipython3",
   "version": "3.9.12"
  }
 },
 "nbformat": 4,
 "nbformat_minor": 5
}
