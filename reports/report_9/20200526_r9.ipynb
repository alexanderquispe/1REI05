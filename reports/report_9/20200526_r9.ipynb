{
 "cells": [
  {
   "cell_type": "markdown",
   "id": "9cff1753",
   "metadata": {},
   "source": [
    "# Reporte 9\n",
    "\n",
    "## Lectura\n",
    "\n",
    "Estudiante: Claudia Katherine Milla Rojas"
   ]
  },
  {
   "cell_type": "markdown",
   "id": "5d1fec45",
   "metadata": {},
   "source": [
    "El presente artículo se basa en la premisa de que las redes sociales son un factor contribuyente importante y, así, afectan a la salud mental de las personas. De esta manera, a lo largo del texto se responderá a la siguiente pregunta de investigación: ¿La introducción escalonada de Facebook en las universidades de EEUU tiene algún impacto en la salud mental de los estudiantes? Para ello, los autores brindan aproximaciones cuasi-experimentales en base a dos conjuntos de datos: por un lado, las fechas en las que se comenzó a utilizar la red social en las universidades de EEUU y, por otro lado, las respuestas de los estudiantes a preguntas realizadas por la Evaluación Nacional de Salud Universitaria (NCHA). \n",
    "\n",
    "De esta forma, a lo largo del texto se pueden identificar múltiples fortalezas. En primer lugar, considero una de ellas el mismo hecho de estudiar la introducción de una red social como Facebook, ya que es la red social más utilizada a nivel mundial y ha sabido mantenerse en esa posición a lo largo del tiempo. De hecho, los mismos autores mencionan que muy pocos avances han logrado cambiar tan drásticamente la forma en que las personas se relacionan y pasan el tiempo, lo cual ha logrado Facebook. Sin embargo, no solo en ello radica su importancia, sino que también el hecho de estudiar la introducción escalonada de esta red social permite obtener estimaciones causales con respecto a la salud mental de los alumnos. En segundo lugar, otra fortaleza es el método empírico de la investigación, ya que permite a los autores descartar factores de confusión. En este sentido, se pueden identificar tres de estos factores que se han resuelto: las diferencias mismas entre las universidades, los cambios que afectan a los estudiantes de manera similar con el paso del tiempo, y las tendencias de salud mental en las universidades en los distintos momentos en que se introdujo Facebook. Finalmente, otra fortaleza es la verificación de robustez que los autores realizan. En este, demuestran que los resultados de su índice de baja salud mental no están determinados por otras variables u otras cosas como algún grupo de expansión de Facebook en específico. Para afrontar ello, los autores construyeron dos índices: índice de baja salud mental e índice ponderado de covarianza inversa. Con ello, construyeron más versiones del primer índice y, así, por cada uno excluían a un componente distinto al índice. Asimismo, emplearon el modelo Two Way Fixed-Effect (TWFE) y el de duración de la exposición en un grupo de datos específicos que no incluía a las universidades que pertenecían a los grupos de expansión de la red social. Además, al emplear una especificación que no se basa en la suposición de tendencias paralelas (que es requerido por el modelo de difference-in-difference empleado en la investigación) se hallan resultados cualitativamente similares. \n",
    "\n",
    "Como se ha mencionado, los autores emplean el modelo TWFE, que les permite identificar los elementos causales y eliminar los factores de confusión antes mencionados. Sin embargo, una posible debilidad del artículo se puede encontrar en el mismo modelo, ya que si bien es útil para su investigación también tiene limitaciones que ponen en duda su confiabilidad. De esta forma, los autores mencionan que este ofrece estimaciones consistentes solo bajo suposiciones sólidas sobre la homogeneidad en los efectos del tratamiento. No obstante, cabe resaltar que para abordar este problema mencionan que harán uso de los estimadores robustos introducidos por otros autores para replicar los resultados que obtengan. \n",
    "\n",
    "Por otro lado, las contribuciones del estudio radica en identificar y ahondar en variables de causa y efecto del presente experimento, con lo cual han logrado múltiples conclusiones relevantes. En primer lugar, se obtuvo que Facebook tuvo un impacto negativo en la salud mental de los estudiantes de una universidad. En segundo lugar, estos efectos negativos producidos por la red social se incrementan con la duración de la exposición al mismo. En tercer lugar, se halló que los efectos negativos en la salud mental de los estudiantes son de mayor incidencia en aquellos que son más susceptibles a las enfermedades mentales. En cuarto lugar, se observó que debido al agravamiento de la salud mental ciertos estudiantes sufrieron efectos secundarios negativos como un bajo rendimiento académico. En quinto lugar, se mostró que la introducción de esta red social tuvo un impacto en las creencias de los alumnos con respecto a la vida social y el comportamiento de sus compañeros. \n",
    "\n",
    "Asimismo, muy a parte de las conclusiones y/o hallazgos de la investigación, también se debe tener en cuenta que el presente artículo contribuye a la literatura académica. De hecho, se menciona que ha proporcionado la evidencia causal más completa sobre los efectos de las redes sociales en la salud mental. En este sentido, se observa que, en primer lugar, las variables de resultado de salud mental empleadas son más completas que en otras investigaciones experimentales. En segundo lugar, el análisis que emplean los autores es menos vulnerable a la demanda del experimentador. En tercer lugar, los autores realizan una investigación a largo plazo, por lo que pueden observar los efectos de Facebook mucho tiempo después de su introducción en las universidades. En cuarto lugar, el hecho de que se hayan enfocado en los adultos jóvenes es relevante, pues se considera que a esa edad es donde las personas toman decisiones importantes en su vida, pero también es la edad en la que se es más propenso a sufrir problemas de salud mental.\n",
    "\n",
    "Finalmente, el enfoque de la investigación permite recoger datos con los cuales se pueden construir más ideas y realizar más investigaciones. Como se ha mencionado, el presente texto es un aporte a la literatura económica sobre las causas y consecuencias del deterioro de la salud mental. Por ende, otros artículos podrían realizarse en la misma línea de investigación. Un ejemplo de ello, es el estudio de Paul y Moser (2009), el cual se enfocó en cómo las crisis de desempleo y recesiones económicas podrían afectar a la salud mental. Dentro de sus resultados, se halló que los desempleados eran quienes tenían mayores problemas a nivel psicológico. Es decir, el desempleo es traducido como una experiencia psicológica negativa, pues incluso puede afectar más profundamente e irrumpir en la sintomatología física y la mortalidad (Gerdtham y Johannesson, 2003). Otro ejemplo de investigación podría ser el de Donati et al.(2022), en el que los autores brindan evidencia cuasi-experimental sobre el impacto del internet de alta velocidad entre los adultos jóvenes en Italia. Con ello, observan que aquel factor tuvo un impacto negativo, pues incrementó los transtornos mentales. Finalmente, resulta interesante mencionar el estudio de Armona (2019), pues es similar al que los autores realizaron en esta investigación en el sentido en que también se basó en la introducción escalonada de Facebook en las universidades de EEUU. No obstante, nos plantea otra variable causal, pues se utiliza aquello para estudiar los resultados en el mercado laboral más de una década después. Es así, como estudios que también tengan base en la introducción escalonada de Facebook u otra red social pueden realizarse y, así, crear nuevas variables causales.\n",
    "\n"
   ]
  },
  {
   "cell_type": "markdown",
   "id": "badb894b",
   "metadata": {},
   "source": [
    "Bibliografía:\n",
    "\n",
    "- Paul, KI y K. Moser (2009). El desempleo perjudica la salud mental: metanálisis.\n",
    "\n",
    "- Gerdtham, Ulf-G. & Johannesson, Magnus, 2003. \"A note on the effect of unemployment on mortality,\" Journal of Health Economics, Elsevier, vol. 22(3), pages 505-518, May.\n",
    "\n",
    "- Donati, D., R. Durante, F. Sobbrio y D. Zejcirovic (2022). ¿Perdido en la red? internet de banda ancha y salud mental juvenil.\n",
    "\n",
    "- Armona, L. (2019). Efectos de las redes sociales en línea en los mercados laborales: evidencia de la entrada de Facebook en los campus universitarios. Disponible en SSRN 3381938.\n"
   ]
  },
  {
   "cell_type": "code",
   "execution_count": null,
   "id": "addfe405",
   "metadata": {},
   "outputs": [],
   "source": []
  }
 ],
 "metadata": {
  "kernelspec": {
   "display_name": "Python 3 (ipykernel)",
   "language": "python",
   "name": "python3"
  },
  "language_info": {
   "codemirror_mode": {
    "name": "ipython",
    "version": 3
   },
   "file_extension": ".py",
   "mimetype": "text/x-python",
   "name": "python",
   "nbconvert_exporter": "python",
   "pygments_lexer": "ipython3",
   "version": "3.9.12"
  }
 },
 "nbformat": 4,
 "nbformat_minor": 5
}
