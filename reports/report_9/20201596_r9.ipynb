{
 "cells": [
  {
   "cell_type": "markdown",
   "id": "c5f1d497",
   "metadata": {},
   "source": [
    "# Reporte 9\n"
   ]
  },
  {
   "cell_type": "code",
   "execution_count": 1,
   "id": "c15745de",
   "metadata": {},
   "outputs": [],
   "source": [
    "# 20201596 María Fernanda Carrillo"
   ]
  },
  {
   "cell_type": "markdown",
   "id": "73ed1727",
   "metadata": {},
   "source": [
    "La pregunta de investigación del artículo “Social Media and Mental Health” indaga respecto al impacto psicológico, particularmente enfocado en cómo es que la interacción dentro de estos espacios sociales mediante las redes sociales afecta degenerativamente a la salud mental de los adultos jóvenes usuarios de Facebook como hipótesis. Siendo que toma en cuenta en el estudio a estudiantes de 775 universidades que tuvieron acceso a Facebook antes de su lanzamiento al mercado, en contraposición con las respuestas de la encuesta de National Collegue Health Assesment (NCHA) sobre la salud mental. \n",
    "\n",
    "La mayor fortaleza de el artículo es su enfoque, ya que a diferencia de otros estudios a los cuales hace referencia como el de Armona, Molina o Bursztyn es que aporta al campo de las redes sociales en tanto trae a colación el tema del impacto negativo en la salud mental. Tema que prevalece hasta el día de hoy y se ha profundizado mucho más aún, así proveyendo un esquema y campo de acción sobre el cual las personas interesadas en generar cambios o concientización pueden actuar con muchísima más información. \n",
    "\n",
    "No obstante, es que se para efectos de campañas o iniciativas que luchen contra este fenómeno degenerativo a la salud de los adolescentes jóvenes es que se deben de especificar cuáles es que son las esferas particulares que traen mayor infelicidad a los estudiantes. Ello con el fin de poder tratarlas más adecuadamente, puesto que muchas veces es que este problema deriva de las comparaciones sociales desfavorables desde su perspectiva. Sin embargo, es que esta comparación puede venir desde diversos ámbitos, como el académico, social, físico o familiar que se muestra en las redes sociales; cada una de ellas con su propia manera de ser tratada por los estudiantes que se muestran más receptivos y desmotivados por ellos. \n",
    "\n",
    "Asimismo, es que aporta al campo en tanto, como mencionado es que brinda mayor luz sobre los efectos nocivos de las redes sociales, no obstante, es que deja en claro que estas no son inherentemente malas, sino que tienen efectos positivos que el estudio en cuestión no toma en cuenta. De la misma manera es que las variables referentes a los resultados de la salud mental de los jóvenes adultos son más comprensibles y detalladas que en los estudios anteriores referentes al tema. Y brinda una mayor comprensión y luz a estos resultados propios de la expansión del internet y las redes sociales y la socialización que nace de esta y los resultados que puede tener.  \n",
    "\n",
    "Y es el ‘paper’ escrito por Abjaude et alt. (2020) el cual no hace más que demostrar la hipótesis que ponen los autores sobre la mesa, pues considera que las publicaciones a las cuales los internautas interactúan no hacen más que “refuerzan el narcisismo, el nivel de vida, el consumo y el estado, por lo que han contribuido a una mayor prevalencia de diversos trastornos psiquiátricos, incluidos los síntomas depresivos, la ansiedad y la baja autoestima”. Así pues es que debido a la gran similitud que tienen estos ensayos es que podemos pensar que de hecho la mayor fuente de los problemas manifestados con la salud mental provienen de la comparación con otras personas dentro de la red también, o si es que acaso el declive psicológico de las personas se debe a la cantidad de sueño que pierden al estar conectados a internet, como lo expresa el siguiente artículo: “Redes sociales en internet, patrones de sueño y depresión” (Pérez et alt. 2012). La cual a largo plazo considera que la falta de sueño provocada por el tiempo invertido en las redes sociales hace posible una depresión dentro de los mismos usuarios y consecuente declive en su salud mental.\n",
    "\n",
    "\n",
    "Bibliografía:\n",
    "\n",
    "Abjaude et alt. 2020. ¿Cómo influyen las redes sociales en la salud mental? Consultado en: http://pepsic.bvsalud.org/scielo.php?script=sci_arttext&pid=S1806-69762020000100001&lng=pt&nrm=iso&tlng=es\n",
    "\n",
    "Pérez et alt. 2012. Redes sociales en internet, patrones de sueño y depresión. Consultado en https://www.redalyc.org/pdf/292/29224159005.pdf"
   ]
  }
 ],
 "metadata": {
  "kernelspec": {
   "display_name": "Python 3 (ipykernel)",
   "language": "python",
   "name": "python3"
  },
  "language_info": {
   "codemirror_mode": {
    "name": "ipython",
    "version": 3
   },
   "file_extension": ".py",
   "mimetype": "text/x-python",
   "name": "python",
   "nbconvert_exporter": "python",
   "pygments_lexer": "ipython3",
   "version": "3.9.13"
  }
 },
 "nbformat": 4,
 "nbformat_minor": 5
}
