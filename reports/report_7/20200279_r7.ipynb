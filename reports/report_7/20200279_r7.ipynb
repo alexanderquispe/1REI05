{
 "cells": [
  {
   "cell_type": "markdown",
   "id": "17076bff",
   "metadata": {},
   "source": [
    "# REPORTE 7"
   ]
  },
  {
   "cell_type": "markdown",
   "id": "ab540036",
   "metadata": {},
   "source": [
    "### Estudiante: Greysi Arrelucea Castañeda "
   ]
  },
  {
   "cell_type": "markdown",
   "id": "0cf7680f",
   "metadata": {},
   "source": [
    "## Lectura"
   ]
  },
  {
   "cell_type": "markdown",
   "id": "a905e3f8",
   "metadata": {},
   "source": [
    "La presente investigación busca examinar cómo la exposición a diferentes vecindarios afecta los resultados a largo plazo de niños menores de 18 años, en cuanto a sus ingresos económicos, niveles educativos y entornos familiares en su adultez. Para ello, se parte del experimento Moving to Opportunity (MTO) del Departamento de Vivienda y Desarrollo Urbano de Estados Unidos, el cual ofreció aleatoriamente vales de subsidio de vivienda a un subconjunto de familias que vivían en vecindarios de alta pobreza para que puedan mudarse a vecindarios de menor pobreza en la década de 1990. En este sentido, la principal pregunta de investigación de este estudio es ¿Cuáles son los efectos a largo plazo de mudarse a un área de menor pobreza en los niños menores de 18 años? Se plantean dos hipótesis principales: 1) Mudarse a un área de menor pobreza mejora los resultados económicos a largo plazo para los niños menores de 13 años y 2) las ganancias de mudarse a un área de menor pobreza disminuyen con la mayor edad del niño en el momento de la mudanza. \n",
    "\n",
    "El estudio utiliza un enfoque experimental que le brinda grandes fortalezas. En primer lugar, hace uso de la técnica de la aleatoriedad, pues el experimento MTO tuvo una muestra experimental de 4604 familias que fueron asignadas de manera aleatoria a alguno de los tres subgrupos: aquel que recibiría un bono con requisito de mudanza a un vecindario con una tasa de pobreza inferior, aquel que recibiría un bono de vivienda sin contingencias adicionales, y un grupo de control al que no se le ofreció ningún vale o asistencia por parte de MTO. Así, el aspecto de la aleatorización es muy relevante porque evita significativamente los sesgos en la investigación. Asimismo, se debe resaltar la utilización de un análisis de heterogeneidad, realizado para reducir la probabilidad de que los resultados de la investigación sean generados falsamente por pruebas de hipótesis múltiples. En efecto, usando pruebas F paramétricas y una prueba de permutación no paramétrica, se comprobó que los beneficios a largo plazo de la exposición de la niñez a vecindarios de menor pobreza son consistentes en todos los géneros, grupos raciales y ubicaciones geográficas. Por otro lado, se debe tener presente que la autoselección también puede generar un problema de sesgo; sin embargo, un punto fuerte del experimento es que hace uso de una variable instrumental para que el efecto causal del vecindario sobre el nivel de ingresos sea limpio y no esté influenciado por otras variables. Precisamente, el instrumentó es que la investigación, hace 20 años, asignó de manera aleatoria tickets que influenciaron en la elección del vecindario, los cuales, al mismo tiempo, influenciaron en el nivel de ingresos. Esta variable instrumental es independiente a las otras variables, por lo que permite comprobar de manera efectiva que hay causalidad en la relación y que los efectos no están sesgados. \n",
    "\n",
    "No obstante, el enfoque experimental del documento también presenta debilidades que no deben ser obviadas. Una de las limitaciones más importantes de los experimentos es su estandarización local, en este punto es necesario recalcar que este estudio se basó en cinco estados –Baltimore, Boston, Chicago, Nueva York y Los Ángeles– y que sus resultados fueron estadísticamente significativos, por lo que pueden extrapolarse a toda la población de la muestra. Sin embargo, sus resultados no son extrapolables a otros escenarios, como países europeos, asiáticos o latinoamericanos. Por otro lado, se demostró que cuando los niños son más grandes, el efecto de la mudanza es muy reducido y hasta adverso, de modo que no se puede generalizar que mudarse a un mejor vecindario siempre llevará a un alza en los ingresos. De hecho, se encontraron efectos nulos de la exposición sobre los adultos. Ligado al punto anterior, la investigación declara que una debilidad es que aún no se ha podido establecer una “edad crítica” de mudanza por el mismo hecho de que, a partir de los datos de MTO, no se pueden obtener estimaciones muy precisas de los efectos de exposición sobre el perfil de cada edad, debido a que las muestras de cada edad por separado son muy pequeñas. \n",
    "\n",
    "Por supuesto, esto no evita que la investigación brinde importantes contribuciones teóricas y prácticas. En primer lugar, es un estudio innovador en tanto se enfoca en los efectos a largo plazo, dado que evalúa los ingresos de los niños 20 años después de la mudanza, por medio de censos y declaraciones de impuestos federales. Cabe destacar que la investigación se beneficia del tiempo, pues el trabajo anterior del proyecto MTO no habría podido analizar este aspecto debido a que los niños del estudio sólo recientemente tienen la edad suficiente para ingresar al mercado laboral. Precisamente, estudios anteriores encontraron que los tratamientos MTO no tuvieron efectos significativos en los ingresos de los niños; sin embargo, estos estudios estuvieron marcados por las limitaciones de los datos pues midieron las ganancias de los niños a muy temprana edad. De este modo, el presente experimento demostró que los impactos en los ingresos generados por MTO emergen sólo después de que los niños completan la educación y comienzan a ingresar al mercado laboral. Por otra parte, este artículo complementa estudios anteriores sobre el desarrollo de la niñez, como por ejemplo los hallazgos de Chetty y Hendren (2015), que encontraron que las ganancias de mudarse disminuyen conforme la edad del niño es mayor al momento de la mudanza. También, a diferencia de trabajos anteriores, evidenció que los efectos continúan cuando la exposición a mejores vecindarios no se da desde los primeros años de la niñez (1-4 años), mostrando que estos efectos se generarán hasta aproximadamente los 13 años. \n",
    "\n",
    "Del mismo modo, la investigación hace destacables contribuciones en el plano práctico. En primer lugar, se mejoró las condiciones de vida de los niños que se mudaron, pues los resultados demuestran de manera consistente que el lugar donde se desarrolla la infancia tiene importantes efectos en el rendimiento futuro. Los niños que cambiaron de vecindario –particularmente aquellos menores de 13 años– a uno con mejores condiciones económicas, obtuvieron mejores ingresos, un mayor nivel de educación, menor probabilidad de divorcio y aumentaron la probabilidad de que sus futuras generaciones también gocen de estas mejoras en su calidad de vida. Así, se demostró que un vale experimental del tipo MTO que requiera que las familias se muden a mejores vecindarios y que esté dirigido a familias de bajos ingresos con niños pequeños, aumentará los ingresos totales de por vida de los niños. Esto es muy importante para el estado y constituye otra contribución práctica, pues los mayores salarios generan mayores impuestos a pagar, de modo que los ingresos fiscales obtenidos de estos niños compensarán el costo del programa para el gobierno. Esta información es valiosa al momento del diseño de políticas públicas y programas de vivienda, pues demuestra que la entrega de vales de subsidio de vivienda sin requerimientos de mudanza no provoca grandes efectos en los ingresos futuros de los niños y, además, evidencia el problema de poner familias en listas de espera para recibir un bono de vivienda, pues supone que muchas familias recién puedan mudarse cuando sus hijos ya han crecido demasiado. \n",
    "\n",
    "Finalmente, uno de los pasos a seguir para avanzar en el conocimiento de la investigación es evaluar si los efectos son mucho más fuertes cuando la mudanza se realiza en edades aún más tempranas, hipótesis que no ha podido ser respondida por este estudio, y para lo que se requiere una muestra más grande de cada grupo de niños por edad. Asimismo, un segundo paso a realizar es una evaluación más exhaustiva de los efectos indirectos de la mudanza en, por ejemplo, residentes anteriores de los vecindarios donde se trasladaron las familias, lo que incluye al desarrollo de los niños que ya vivían en ese vecindario, de modo que se pueda medir más precisamente los beneficios sociales adicionales que pueden provocar las políticas de tipo MTO. Por otro lado, Sánchez (2008) propone la unión de la familia, la escuela y el barrio como una unidad de análisis que puede explicar el comportamiento de los niños, el cual termina repercutiendo significativamente en sus resultados futuros. Finalmente, considero ineludible expresar la necesidad de adaptar este experimento a nuevos contextos no estadounidenses, de tal manera que se logre visibilizar el nivel de persistencia de los efectos estudiados en los niños de otras partes del mundo. \n"
   ]
  },
  {
   "cell_type": "markdown",
   "id": "8954c47c",
   "metadata": {},
   "source": [
    "### Bibliografía\n",
    "\n",
    "Sánchez, B. (2008). Familia, escuela y barrio: un contexto para la comprensión de la violencia escolar. Revista Colombiana de Educación, 55, pp. 108-124. Recuperado de: https://www.redalyc.org/pdf/4136/413635249006.pdf"
   ]
  },
  {
   "cell_type": "markdown",
   "id": "b6b77b2c",
   "metadata": {},
   "source": [
    "## Código \n",
    "Estudiantes: Greysi Arrelucea Castañeda (20200279, Roxana Rodriguez Pilco (20200373) y Angela Rodriguez Fernandez (20200748)\n"
   ]
  },
  {
   "cell_type": "code",
   "execution_count": 12,
   "id": "acc78eaf",
   "metadata": {},
   "outputs": [],
   "source": [
    "import numpy as np\n",
    "import pandas as pd\n",
    "import matplotlib.pyplot as plt\n",
    "import seaborn as sns, warnings\n",
    "import statsmodels.formula.api as smf\n",
    "warnings.filterwarnings('ignore')\n",
    "from causalgraphicalmodels import CausalGraphicalModel\n",
    "from cProfile import label\n",
    "%matplotlib inline\n",
    "import linearmodels.iv.model as lm\n",
    "from linearmodels.iv import IV2SLS\n",
    "import plotnine as p"
   ]
  },
  {
   "cell_type": "code",
   "execution_count": 13,
   "id": "bfd3f2ba",
   "metadata": {},
   "outputs": [],
   "source": [
    "from causalgraphicalmodels import CausalGraphicalModel\n",
    "import os\n",
    "#os.environ[\"PATH\"] += os.pathsep + 'C:/Program Files/Graphviz/bin/'\n",
    "import numpy as np \n",
    "import pandas as pd \n",
    "import statsmodels.api as sm \n",
    "import statsmodels.formula.api as smf \n",
    "from itertools import combinations \n",
    "#import plotnine as p\n",
    "import pyreadr\n",
    "import statsmodels.api as sm\n",
    "import statsmodels.formula.api as smf\n",
    "import linearmodels.iv.model as lm\n",
    "from linearmodels.iv import IV2SLS\n",
    "from statsmodels.iolib.summary2 import summary_col"
   ]
  },
  {
   "cell_type": "markdown",
   "id": "98a216df",
   "metadata": {},
   "source": [
    "## 1. Ploteo de Histogramas\n",
    "Deben plotear la distribución de las notas para los tres grupos (face-to-face, blended format y online lessons) de manera separada. "
   ]
  },
  {
   "cell_type": "code",
   "execution_count": 14,
   "id": "0f092c03",
   "metadata": {},
   "outputs": [
    {
     "name": "stdout",
     "output_type": "stream",
     "text": [
      "(323, 10)\n"
     ]
    },
    {
     "data": {
      "text/html": [
       "<div>\n",
       "<style scoped>\n",
       "    .dataframe tbody tr th:only-of-type {\n",
       "        vertical-align: middle;\n",
       "    }\n",
       "\n",
       "    .dataframe tbody tr th {\n",
       "        vertical-align: top;\n",
       "    }\n",
       "\n",
       "    .dataframe thead th {\n",
       "        text-align: right;\n",
       "    }\n",
       "</style>\n",
       "<table border=\"1\" class=\"dataframe\">\n",
       "  <thead>\n",
       "    <tr style=\"text-align: right;\">\n",
       "      <th></th>\n",
       "      <th>gender</th>\n",
       "      <th>asian</th>\n",
       "      <th>black</th>\n",
       "      <th>hawaiian</th>\n",
       "      <th>hispanic</th>\n",
       "      <th>unknown</th>\n",
       "      <th>white</th>\n",
       "      <th>format_ol</th>\n",
       "      <th>format_blended</th>\n",
       "      <th>falsexam</th>\n",
       "    </tr>\n",
       "  </thead>\n",
       "  <tbody>\n",
       "    <tr>\n",
       "      <th>0</th>\n",
       "      <td>0</td>\n",
       "      <td>0.0</td>\n",
       "      <td>0.0</td>\n",
       "      <td>0.0</td>\n",
       "      <td>0.0</td>\n",
       "      <td>0.0</td>\n",
       "      <td>1.0</td>\n",
       "      <td>0</td>\n",
       "      <td>0.0</td>\n",
       "      <td>63.29997</td>\n",
       "    </tr>\n",
       "    <tr>\n",
       "      <th>1</th>\n",
       "      <td>1</td>\n",
       "      <td>0.0</td>\n",
       "      <td>0.0</td>\n",
       "      <td>0.0</td>\n",
       "      <td>0.0</td>\n",
       "      <td>0.0</td>\n",
       "      <td>1.0</td>\n",
       "      <td>0</td>\n",
       "      <td>0.0</td>\n",
       "      <td>79.96000</td>\n",
       "    </tr>\n",
       "    <tr>\n",
       "      <th>2</th>\n",
       "      <td>1</td>\n",
       "      <td>0.0</td>\n",
       "      <td>0.0</td>\n",
       "      <td>0.0</td>\n",
       "      <td>0.0</td>\n",
       "      <td>0.0</td>\n",
       "      <td>1.0</td>\n",
       "      <td>0</td>\n",
       "      <td>1.0</td>\n",
       "      <td>83.37000</td>\n",
       "    </tr>\n",
       "    <tr>\n",
       "      <th>3</th>\n",
       "      <td>1</td>\n",
       "      <td>0.0</td>\n",
       "      <td>0.0</td>\n",
       "      <td>0.0</td>\n",
       "      <td>0.0</td>\n",
       "      <td>0.0</td>\n",
       "      <td>1.0</td>\n",
       "      <td>0</td>\n",
       "      <td>1.0</td>\n",
       "      <td>90.01994</td>\n",
       "    </tr>\n",
       "    <tr>\n",
       "      <th>4</th>\n",
       "      <td>1</td>\n",
       "      <td>0.0</td>\n",
       "      <td>0.0</td>\n",
       "      <td>0.0</td>\n",
       "      <td>0.0</td>\n",
       "      <td>0.0</td>\n",
       "      <td>1.0</td>\n",
       "      <td>1</td>\n",
       "      <td>0.0</td>\n",
       "      <td>83.30000</td>\n",
       "    </tr>\n",
       "  </tbody>\n",
       "</table>\n",
       "</div>"
      ],
      "text/plain": [
       "   gender  asian  black  hawaiian  hispanic  unknown  white  format_ol  \\\n",
       "0       0    0.0    0.0       0.0       0.0      0.0    1.0          0   \n",
       "1       1    0.0    0.0       0.0       0.0      0.0    1.0          0   \n",
       "2       1    0.0    0.0       0.0       0.0      0.0    1.0          0   \n",
       "3       1    0.0    0.0       0.0       0.0      0.0    1.0          0   \n",
       "4       1    0.0    0.0       0.0       0.0      0.0    1.0          1   \n",
       "\n",
       "   format_blended  falsexam  \n",
       "0             0.0  63.29997  \n",
       "1             0.0  79.96000  \n",
       "2             1.0  83.37000  \n",
       "3             1.0  90.01994  \n",
       "4             0.0  83.30000  "
      ]
     },
     "execution_count": 14,
     "metadata": {},
     "output_type": "execute_result"
    }
   ],
   "source": [
    "# Lee la data\n",
    "data = pd.read_csv('https://github.com/matheusfacure/python-causality-handbook/raw/master/causal-inference-for-the-brave-and-true/data/online_classroom.csv')\n",
    "print(data.shape)\n",
    "data.head()"
   ]
  },
  {
   "cell_type": "markdown",
   "id": "b153c123",
   "metadata": {},
   "source": [
    "Se crea una columna extra llamada \"class_format\" que especifique el grupo al que pertenecen los casos: online (clases virtuales), face-to-face (clases presenciales)  o blended lessons (modalidad híbrida)."
   ]
  },
  {
   "cell_type": "code",
   "execution_count": 15,
   "id": "f70b1c1b",
   "metadata": {},
   "outputs": [],
   "source": [
    "# creado una columna extra para clasificar\n",
    "data_2 = (data\n",
    " .assign(class_format = np.select(\n",
    "     [data[\"format_ol\"].astype(bool), data[\"format_blended\"].astype(bool)],\n",
    "     [\"online\", \"blended\"],\n",
    "     default=\"face_to_face\" #create a new variable\n",
    " ))) #group by the new variable (treatments)"
   ]
  },
  {
   "cell_type": "markdown",
   "id": "31bbc3ce",
   "metadata": {},
   "source": [
    "Se obtiene las variables dummies class_format_face_to_face, blended y online "
   ]
  },
  {
   "cell_type": "code",
   "execution_count": 16,
   "id": "bec9ac3e",
   "metadata": {},
   "outputs": [
    {
     "data": {
      "text/html": [
       "<div>\n",
       "<style scoped>\n",
       "    .dataframe tbody tr th:only-of-type {\n",
       "        vertical-align: middle;\n",
       "    }\n",
       "\n",
       "    .dataframe tbody tr th {\n",
       "        vertical-align: top;\n",
       "    }\n",
       "\n",
       "    .dataframe thead th {\n",
       "        text-align: right;\n",
       "    }\n",
       "</style>\n",
       "<table border=\"1\" class=\"dataframe\">\n",
       "  <thead>\n",
       "    <tr style=\"text-align: right;\">\n",
       "      <th></th>\n",
       "      <th>gender</th>\n",
       "      <th>asian</th>\n",
       "      <th>black</th>\n",
       "      <th>hawaiian</th>\n",
       "      <th>hispanic</th>\n",
       "      <th>unknown</th>\n",
       "      <th>white</th>\n",
       "      <th>format_ol</th>\n",
       "      <th>format_blended</th>\n",
       "      <th>falsexam</th>\n",
       "      <th>class_format_blended</th>\n",
       "      <th>class_format_face_to_face</th>\n",
       "      <th>class_format_online</th>\n",
       "    </tr>\n",
       "  </thead>\n",
       "  <tbody>\n",
       "    <tr>\n",
       "      <th>0</th>\n",
       "      <td>0</td>\n",
       "      <td>0.0</td>\n",
       "      <td>0.0</td>\n",
       "      <td>0.0</td>\n",
       "      <td>0.0</td>\n",
       "      <td>0.0</td>\n",
       "      <td>1.0</td>\n",
       "      <td>0</td>\n",
       "      <td>0.0</td>\n",
       "      <td>63.29997</td>\n",
       "      <td>0</td>\n",
       "      <td>1</td>\n",
       "      <td>0</td>\n",
       "    </tr>\n",
       "    <tr>\n",
       "      <th>1</th>\n",
       "      <td>1</td>\n",
       "      <td>0.0</td>\n",
       "      <td>0.0</td>\n",
       "      <td>0.0</td>\n",
       "      <td>0.0</td>\n",
       "      <td>0.0</td>\n",
       "      <td>1.0</td>\n",
       "      <td>0</td>\n",
       "      <td>0.0</td>\n",
       "      <td>79.96000</td>\n",
       "      <td>0</td>\n",
       "      <td>1</td>\n",
       "      <td>0</td>\n",
       "    </tr>\n",
       "    <tr>\n",
       "      <th>2</th>\n",
       "      <td>1</td>\n",
       "      <td>0.0</td>\n",
       "      <td>0.0</td>\n",
       "      <td>0.0</td>\n",
       "      <td>0.0</td>\n",
       "      <td>0.0</td>\n",
       "      <td>1.0</td>\n",
       "      <td>0</td>\n",
       "      <td>1.0</td>\n",
       "      <td>83.37000</td>\n",
       "      <td>1</td>\n",
       "      <td>0</td>\n",
       "      <td>0</td>\n",
       "    </tr>\n",
       "    <tr>\n",
       "      <th>3</th>\n",
       "      <td>1</td>\n",
       "      <td>0.0</td>\n",
       "      <td>0.0</td>\n",
       "      <td>0.0</td>\n",
       "      <td>0.0</td>\n",
       "      <td>0.0</td>\n",
       "      <td>1.0</td>\n",
       "      <td>0</td>\n",
       "      <td>1.0</td>\n",
       "      <td>90.01994</td>\n",
       "      <td>1</td>\n",
       "      <td>0</td>\n",
       "      <td>0</td>\n",
       "    </tr>\n",
       "    <tr>\n",
       "      <th>4</th>\n",
       "      <td>1</td>\n",
       "      <td>0.0</td>\n",
       "      <td>0.0</td>\n",
       "      <td>0.0</td>\n",
       "      <td>0.0</td>\n",
       "      <td>0.0</td>\n",
       "      <td>1.0</td>\n",
       "      <td>1</td>\n",
       "      <td>0.0</td>\n",
       "      <td>83.30000</td>\n",
       "      <td>0</td>\n",
       "      <td>0</td>\n",
       "      <td>1</td>\n",
       "    </tr>\n",
       "  </tbody>\n",
       "</table>\n",
       "</div>"
      ],
      "text/plain": [
       "   gender  asian  black  hawaiian  hispanic  unknown  white  format_ol  \\\n",
       "0       0    0.0    0.0       0.0       0.0      0.0    1.0          0   \n",
       "1       1    0.0    0.0       0.0       0.0      0.0    1.0          0   \n",
       "2       1    0.0    0.0       0.0       0.0      0.0    1.0          0   \n",
       "3       1    0.0    0.0       0.0       0.0      0.0    1.0          0   \n",
       "4       1    0.0    0.0       0.0       0.0      0.0    1.0          1   \n",
       "\n",
       "   format_blended  falsexam  class_format_blended  class_format_face_to_face  \\\n",
       "0             0.0  63.29997                     0                          1   \n",
       "1             0.0  79.96000                     0                          1   \n",
       "2             1.0  83.37000                     1                          0   \n",
       "3             1.0  90.01994                     1                          0   \n",
       "4             0.0  83.30000                     0                          0   \n",
       "\n",
       "   class_format_online  \n",
       "0                    0  \n",
       "1                    0  \n",
       "2                    0  \n",
       "3                    0  \n",
       "4                    1  "
      ]
     },
     "execution_count": 16,
     "metadata": {},
     "output_type": "execute_result"
    }
   ],
   "source": [
    "pd.get_dummies(data_2, columns=[\"class_format\"]).head()"
   ]
  },
  {
   "cell_type": "code",
   "execution_count": 27,
   "id": "9995aacf",
   "metadata": {},
   "outputs": [
    {
     "data": {
      "text/plain": [
       "<seaborn.axisgrid.FacetGrid at 0x7fccee47a4f0>"
      ]
     },
     "execution_count": 27,
     "metadata": {},
     "output_type": "execute_result"
    },
    {
     "data": {
      "image/png": "[encoded data removed]",
      "text/plain": [
       "<Figure size 1080x360 with 3 Axes>"
      ]
     },
     "metadata": {
      "needs_background": "light"
     },
     "output_type": "display_data"
    }
   ],
   "source": [
    "sns.displot(data_2, x=\"falsexam\", col=\"class_format\")"
   ]
  },
  {
   "cell_type": "code",
   "execution_count": 28,
   "id": "2b0aa8d4",
   "metadata": {},
   "outputs": [
    {
     "data": {
      "text/plain": [
       "Text(19.309791666666662, 0.5, 'Alumnos')"
      ]
     },
     "execution_count": 28,
     "metadata": {},
     "output_type": "execute_result"
    },
    {
     "data": {
      "image/png": "[encoded data removed]",
      "text/plain": [
       "<Figure size 458.625x360 with 1 Axes>"
      ]
     },
     "metadata": {
      "needs_background": "light"
     },
     "output_type": "display_data"
    }
   ],
   "source": [
    "sns.displot(data_2, x=\"falsexam\", hue=\"class_format\")  \n",
    "plt.title(\"Histograma de la distribución de notas\", fontsize=16)\n",
    "plt.xlabel(\"Distribución de notas\", fontsize=13)\n",
    "plt.ylabel(\"Alumnos\", fontsize=13)\n"
   ]
  },
  {
   "cell_type": "markdown",
   "id": "ddd73590",
   "metadata": {},
   "source": [
    "- Interpretación: \n",
    "\n",
    "Se obtiene los 3 histogramas traslapados y a simple vista se encuentran diferencias en la distribución de notas de los 3. Los que reciben clases en formato presencial o cara-a-cara tienen mayor frecuencia de estudiantes con una nota aproximada de entre 80 a 90, es decir notas altas. Los que reciben clases en formato híbrido obtuvieron en su mayoría notas más altas que los que reciben clases virtuales, pero menores a los que reciben clases presenciales. Solo los de formato virtual tienen estudiantes que obtuvieron notas muy bajas de entre 0 a 5, de acuerdo con su distribución de notas. Solo los que reciben clases en formato híbrido tienen una distribución de notas que va aproximadamente de 45 a 50. De modo que, generalmente, los estudiantes que reciben clases presenciales tienen una tendencia a recibir notas más altas, los que reciben clases en formato híbrido tienen notas promedio, que no son ni las más bajas ni las más altas y finalmente los que reciben clases en formato virtual tienen una tendencia de distribución a recibir notas bajas a comparación de sus compañeros de otras modalidades. "
   ]
  },
  {
   "cell_type": "markdown",
   "id": "83a37136",
   "metadata": {},
   "source": [
    "## 2. Estimador de diferencia de medias\n",
    "En base a los grupos face-to-face y online lessons se halla la diferencia de promedios de notas de ambos grupos. Para ello se sigue los siguientes pasos:"
   ]
  },
  {
   "cell_type": "markdown",
   "id": "2c77c0a3",
   "metadata": {},
   "source": [
    "### 2.1 Crear un nuevo dataset que contenga a los grupos face-to-face y online lessons"
   ]
  },
  {
   "cell_type": "code",
   "execution_count": 18,
   "id": "f1090402",
   "metadata": {},
   "outputs": [
    {
     "data": {
      "text/html": [
       "<div>\n",
       "<style scoped>\n",
       "    .dataframe tbody tr th:only-of-type {\n",
       "        vertical-align: middle;\n",
       "    }\n",
       "\n",
       "    .dataframe tbody tr th {\n",
       "        vertical-align: top;\n",
       "    }\n",
       "\n",
       "    .dataframe thead th {\n",
       "        text-align: right;\n",
       "    }\n",
       "</style>\n",
       "<table border=\"1\" class=\"dataframe\">\n",
       "  <thead>\n",
       "    <tr style=\"text-align: right;\">\n",
       "      <th></th>\n",
       "      <th>class_format</th>\n",
       "      <th>falsexam</th>\n",
       "    </tr>\n",
       "  </thead>\n",
       "  <tbody>\n",
       "    <tr>\n",
       "      <th>0</th>\n",
       "      <td>face_to_face</td>\n",
       "      <td>63.29997</td>\n",
       "    </tr>\n",
       "    <tr>\n",
       "      <th>1</th>\n",
       "      <td>face_to_face</td>\n",
       "      <td>79.96000</td>\n",
       "    </tr>\n",
       "    <tr>\n",
       "      <th>2</th>\n",
       "      <td>blended</td>\n",
       "      <td>83.37000</td>\n",
       "    </tr>\n",
       "    <tr>\n",
       "      <th>3</th>\n",
       "      <td>blended</td>\n",
       "      <td>90.01994</td>\n",
       "    </tr>\n",
       "    <tr>\n",
       "      <th>4</th>\n",
       "      <td>online</td>\n",
       "      <td>83.30000</td>\n",
       "    </tr>\n",
       "    <tr>\n",
       "      <th>5</th>\n",
       "      <td>online</td>\n",
       "      <td>88.34996</td>\n",
       "    </tr>\n",
       "    <tr>\n",
       "      <th>6</th>\n",
       "      <td>blended</td>\n",
       "      <td>78.40000</td>\n",
       "    </tr>\n",
       "    <tr>\n",
       "      <th>7</th>\n",
       "      <td>face_to_face</td>\n",
       "      <td>90.00000</td>\n",
       "    </tr>\n",
       "    <tr>\n",
       "      <th>8</th>\n",
       "      <td>face_to_face</td>\n",
       "      <td>88.31000</td>\n",
       "    </tr>\n",
       "    <tr>\n",
       "      <th>9</th>\n",
       "      <td>online</td>\n",
       "      <td>73.37000</td>\n",
       "    </tr>\n",
       "  </tbody>\n",
       "</table>\n",
       "</div>"
      ],
      "text/plain": [
       "   class_format  falsexam\n",
       "0  face_to_face  63.29997\n",
       "1  face_to_face  79.96000\n",
       "2       blended  83.37000\n",
       "3       blended  90.01994\n",
       "4        online  83.30000\n",
       "5        online  88.34996\n",
       "6       blended  78.40000\n",
       "7  face_to_face  90.00000\n",
       "8  face_to_face  88.31000\n",
       "9        online  73.37000"
      ]
     },
     "execution_count": 18,
     "metadata": {},
     "output_type": "execute_result"
    }
   ],
   "source": [
    "d_mean = data_2[['class_format','falsexam']]\n",
    "d_mean.head(10)"
   ]
  },
  {
   "cell_type": "markdown",
   "id": "5792b11b",
   "metadata": {},
   "source": [
    "- Se crea una lista llamada grupos_sep que contenga y separe a los valores que reciben clases presenciales (face-to-face) y a los que reciben clases virtuales (online)"
   ]
  },
  {
   "cell_type": "code",
   "execution_count": 19,
   "id": "e21357ca",
   "metadata": {},
   "outputs": [
    {
     "data": {
      "text/plain": [
       "['face_to_face', 'online']"
      ]
     },
     "execution_count": 19,
     "metadata": {},
     "output_type": "execute_result"
    }
   ],
   "source": [
    "grupos_sep=[\"face_to_face\", \"online\"] #\n",
    "grupos_sep"
   ]
  },
  {
   "cell_type": "markdown",
   "id": "b88d05ac",
   "metadata": {},
   "source": [
    "Se crea subset en base a d_mean y teniendo en cuenta que solo muestre los valores de estos 2 grupos: clases online y clases face-to-face. De modo que solo los valores de estos 2 grupos se toma en cuenta, mas no los de blended, que reciben clases en ambas modalidades."
   ]
  },
  {
   "cell_type": "code",
   "execution_count": 20,
   "id": "358e8994",
   "metadata": {},
   "outputs": [
    {
     "data": {
      "text/html": [
       "<div>\n",
       "<style scoped>\n",
       "    .dataframe tbody tr th:only-of-type {\n",
       "        vertical-align: middle;\n",
       "    }\n",
       "\n",
       "    .dataframe tbody tr th {\n",
       "        vertical-align: top;\n",
       "    }\n",
       "\n",
       "    .dataframe thead th {\n",
       "        text-align: right;\n",
       "    }\n",
       "</style>\n",
       "<table border=\"1\" class=\"dataframe\">\n",
       "  <thead>\n",
       "    <tr style=\"text-align: right;\">\n",
       "      <th></th>\n",
       "      <th>class_format</th>\n",
       "      <th>falsexam</th>\n",
       "    </tr>\n",
       "  </thead>\n",
       "  <tbody>\n",
       "    <tr>\n",
       "      <th>0</th>\n",
       "      <td>face_to_face</td>\n",
       "      <td>63.29997</td>\n",
       "    </tr>\n",
       "    <tr>\n",
       "      <th>1</th>\n",
       "      <td>face_to_face</td>\n",
       "      <td>79.96000</td>\n",
       "    </tr>\n",
       "    <tr>\n",
       "      <th>4</th>\n",
       "      <td>online</td>\n",
       "      <td>83.30000</td>\n",
       "    </tr>\n",
       "    <tr>\n",
       "      <th>5</th>\n",
       "      <td>online</td>\n",
       "      <td>88.34996</td>\n",
       "    </tr>\n",
       "    <tr>\n",
       "      <th>7</th>\n",
       "      <td>face_to_face</td>\n",
       "      <td>90.00000</td>\n",
       "    </tr>\n",
       "    <tr>\n",
       "      <th>...</th>\n",
       "      <td>...</td>\n",
       "      <td>...</td>\n",
       "    </tr>\n",
       "    <tr>\n",
       "      <th>316</th>\n",
       "      <td>face_to_face</td>\n",
       "      <td>91.65000</td>\n",
       "    </tr>\n",
       "    <tr>\n",
       "      <th>317</th>\n",
       "      <td>face_to_face</td>\n",
       "      <td>84.99000</td>\n",
       "    </tr>\n",
       "    <tr>\n",
       "      <th>319</th>\n",
       "      <td>online</td>\n",
       "      <td>70.05000</td>\n",
       "    </tr>\n",
       "    <tr>\n",
       "      <th>320</th>\n",
       "      <td>online</td>\n",
       "      <td>66.69000</td>\n",
       "    </tr>\n",
       "    <tr>\n",
       "      <th>321</th>\n",
       "      <td>online</td>\n",
       "      <td>83.29997</td>\n",
       "    </tr>\n",
       "  </tbody>\n",
       "</table>\n",
       "<p>214 rows × 2 columns</p>\n",
       "</div>"
      ],
      "text/plain": [
       "     class_format  falsexam\n",
       "0    face_to_face  63.29997\n",
       "1    face_to_face  79.96000\n",
       "4          online  83.30000\n",
       "5          online  88.34996\n",
       "7    face_to_face  90.00000\n",
       "..            ...       ...\n",
       "316  face_to_face  91.65000\n",
       "317  face_to_face  84.99000\n",
       "319        online  70.05000\n",
       "320        online  66.69000\n",
       "321        online  83.29997\n",
       "\n",
       "[214 rows x 2 columns]"
      ]
     },
     "execution_count": 20,
     "metadata": {},
     "output_type": "execute_result"
    }
   ],
   "source": [
    "D_MEAN = d_mean[d_mean['class_format'].isin(grupos_sep)]\n",
    "D_MEAN"
   ]
  },
  {
   "cell_type": "markdown",
   "id": "a2446d5c",
   "metadata": {},
   "source": [
    "### 2.2 Calcular el promedio de notas del grupo online lessons y face-to-face\n",
    "Se agrupa en base a las variables face-to-face y online y se calcula el promedio de notas obtenidas en el examen para cada grupo, los que reciben clases virtuales (online lessons) y los que reciben clases presenciales (face-to-face lessons)."
   ]
  },
  {
   "cell_type": "code",
   "execution_count": 21,
   "id": "a3577ee8",
   "metadata": {},
   "outputs": [
    {
     "data": {
      "text/html": [
       "<div>\n",
       "<style scoped>\n",
       "    .dataframe tbody tr th:only-of-type {\n",
       "        vertical-align: middle;\n",
       "    }\n",
       "\n",
       "    .dataframe tbody tr th {\n",
       "        vertical-align: top;\n",
       "    }\n",
       "\n",
       "    .dataframe thead th {\n",
       "        text-align: right;\n",
       "    }\n",
       "</style>\n",
       "<table border=\"1\" class=\"dataframe\">\n",
       "  <thead>\n",
       "    <tr style=\"text-align: right;\">\n",
       "      <th></th>\n",
       "      <th>falsexam</th>\n",
       "    </tr>\n",
       "    <tr>\n",
       "      <th>class_format</th>\n",
       "      <th></th>\n",
       "    </tr>\n",
       "  </thead>\n",
       "  <tbody>\n",
       "    <tr>\n",
       "      <th>face_to_face</th>\n",
       "      <td>78.547485</td>\n",
       "    </tr>\n",
       "    <tr>\n",
       "      <th>online</th>\n",
       "      <td>73.635263</td>\n",
       "    </tr>\n",
       "  </tbody>\n",
       "</table>\n",
       "</div>"
      ],
      "text/plain": [
       "               falsexam\n",
       "class_format           \n",
       "face_to_face  78.547485\n",
       "online        73.635263"
      ]
     },
     "execution_count": 21,
     "metadata": {},
     "output_type": "execute_result"
    }
   ],
   "source": [
    "D_MEAN.groupby([\"class_format\"]).mean()"
   ]
  },
  {
   "cell_type": "markdown",
   "id": "6d790f06",
   "metadata": {},
   "source": [
    "Se muestra el promedio de notas obtenidas por los casos pertenecientes a los grupos de clases virtuales y clases presenciales en un rango de 1 a 100. \n",
    "\n",
    "- El promedio de notas para el grupo que recibe clases presenciales (face-to-face lessons) es 78.547\n",
    "\n",
    "- El promedio de notas para el grupo que recibe clases virtuales (online lessons) es 73.635"
   ]
  },
  {
   "cell_type": "markdown",
   "id": "d28b01f9",
   "metadata": {},
   "source": [
    "### 2.3 Diferencia entre el promedio de notas del grupo online-lessons y el grupo face-to-face"
   ]
  },
  {
   "cell_type": "code",
   "execution_count": 22,
   "id": "9aa06974",
   "metadata": {},
   "outputs": [
    {
     "data": {
      "text/plain": [
       "4.912222"
      ]
     },
     "execution_count": 22,
     "metadata": {},
     "output_type": "execute_result"
    }
   ],
   "source": [
    "diferencia_en_medias = 78.547485 - 73.635263\n",
    "diferencia_en_medias"
   ]
  },
  {
   "cell_type": "markdown",
   "id": "7159e90d",
   "metadata": {},
   "source": [
    "La diferencia entre la media del grupo face to face y el grupo online es = 4.912222\n",
    "- Interpretación:\n",
    "\n",
    "Hay una diferencia de promedios de aproximadamente 4 puntos entre los estudiantes del grupo face-to-face lessons y los del grupo online lessons, ES DECIR, los estudiantes que recibieron clases presenciales obtuvieron una mayor nota en promedio que los estudiantes del grupo online lessons, los cuales recibian clases de manera virtual. En base a esto, puedo presumir que los estudiantes que recibieron clases presenciales quizas aprendieron más de las clases recibidas, las aprovecharon de mejor manera o tuvieron menos problemas con su proceso de aprendizaje a comparación de los estudiantes que recibieron clases virtuales, lo cual se muestra a partir de sus notas."
   ]
  },
  {
   "cell_type": "markdown",
   "id": "f96b96e3",
   "metadata": {},
   "source": [
    "## 3. Estimador de diferencia de medias mediante regresión lineal"
   ]
  },
  {
   "cell_type": "markdown",
   "id": "31804e50",
   "metadata": {},
   "source": [
    "Ahora van a utilizar una regresión lineal para encontrar lo mismo que en el apartado de arriba. Pueden seguir estos pasos"
   ]
  },
  {
   "cell_type": "markdown",
   "id": "754192d7",
   "metadata": {},
   "source": [
    "##### Luego deben realizar una regresion lineal donde Y = Las notas, T = Dummy creada para el tipo de clase."
   ]
  },
  {
   "cell_type": "markdown",
   "id": "5e9c2097",
   "metadata": {},
   "source": [
    "##### Esta regresion es de la siguente manera Y = beta_0 + beta_1*T + e. El valor que encuentren para beta_1 es el average treatment effect que debería ser igual al Difference-in-means estimator encontrado arriba."
   ]
  },
  {
   "cell_type": "markdown",
   "id": "f5d3b2a6",
   "metadata": {},
   "source": [
    "#### 3.1 Deben crear una variable dummy que tome el valor de 1 cuando el tipo de clase sea online y 0 cuando sea face to face."
   ]
  },
  {
   "cell_type": "code",
   "execution_count": 23,
   "id": "b69cd520",
   "metadata": {},
   "outputs": [],
   "source": [
    "reg = d_mean"
   ]
  },
  {
   "cell_type": "code",
   "execution_count": 24,
   "id": "aa46e49a",
   "metadata": {},
   "outputs": [],
   "source": [
    "grupos=[\"face_to_face\", \"online\"]"
   ]
  },
  {
   "cell_type": "markdown",
   "id": "eb0890b2",
   "metadata": {},
   "source": [
    "Se crea un dataset llamado REGRESIÓN que contenga a los valores de las modalidades presencial(face-to-face) y virtual (online)."
   ]
  },
  {
   "cell_type": "code",
   "execution_count": 25,
   "id": "2785683b",
   "metadata": {},
   "outputs": [],
   "source": [
    "REGRESION = reg[reg['class_format'].isin(grupos)]"
   ]
  },
  {
   "cell_type": "markdown",
   "id": "99146adb",
   "metadata": {},
   "source": [
    "Se realiza la regresión lineal donde Y = la distribución de notas del examen (falsexam) y T = formato de clase que contiene a modalidad presencial y virtual.\n",
    "Luego, se pide un resumen de la regresión que te muestre los principales datos entre ellos el valor del componente beta_1, el cual debe ser igual a la diferencia entre las medias de ambas modalidades."
   ]
  },
  {
   "cell_type": "code",
   "execution_count": 26,
   "id": "26f02225",
   "metadata": {},
   "outputs": [
    {
     "data": {
      "text/html": [
       "<table class=\"simpletable\">\n",
       "<caption>OLS Regression Results</caption>\n",
       "<tr>\n",
       "  <th>Dep. Variable:</th>        <td>falsexam</td>     <th>  R-squared:         </th> <td>   0.039</td>\n",
       "</tr>\n",
       "<tr>\n",
       "  <th>Model:</th>                   <td>OLS</td>       <th>  Adj. R-squared:    </th> <td>   0.034</td>\n",
       "</tr>\n",
       "<tr>\n",
       "  <th>Method:</th>             <td>Least Squares</td>  <th>  F-statistic:       </th> <td>   8.554</td>\n",
       "</tr>\n",
       "<tr>\n",
       "  <th>Date:</th>             <td>Tue, 08 Nov 2022</td> <th>  Prob (F-statistic):</th>  <td>0.00382</td>\n",
       "</tr>\n",
       "<tr>\n",
       "  <th>Time:</th>                 <td>16:44:06</td>     <th>  Log-Likelihood:    </th> <td> -837.85</td>\n",
       "</tr>\n",
       "<tr>\n",
       "  <th>No. Observations:</th>      <td>   214</td>      <th>  AIC:               </th> <td>   1680.</td>\n",
       "</tr>\n",
       "<tr>\n",
       "  <th>Df Residuals:</th>          <td>   212</td>      <th>  BIC:               </th> <td>   1686.</td>\n",
       "</tr>\n",
       "<tr>\n",
       "  <th>Df Model:</th>              <td>     1</td>      <th>                     </th>     <td> </td>   \n",
       "</tr>\n",
       "<tr>\n",
       "  <th>Covariance Type:</th>      <td>nonrobust</td>    <th>                     </th>     <td> </td>   \n",
       "</tr>\n",
       "</table>\n",
       "<table class=\"simpletable\">\n",
       "<tr>\n",
       "             <td></td>               <th>coef</th>     <th>std err</th>      <th>t</th>      <th>P>|t|</th>  <th>[0.025</th>    <th>0.975]</th>  \n",
       "</tr>\n",
       "<tr>\n",
       "  <th>Intercept</th>              <td>   78.5475</td> <td>    1.113</td> <td>   70.563</td> <td> 0.000</td> <td>   76.353</td> <td>   80.742</td>\n",
       "</tr>\n",
       "<tr>\n",
       "  <th>class_format[T.online]</th> <td>   -4.9122</td> <td>    1.680</td> <td>   -2.925</td> <td> 0.004</td> <td>   -8.223</td> <td>   -1.601</td>\n",
       "</tr>\n",
       "</table>\n",
       "<table class=\"simpletable\">\n",
       "<tr>\n",
       "  <th>Omnibus:</th>       <td>129.000</td> <th>  Durbin-Watson:     </th> <td>   2.091</td> \n",
       "</tr>\n",
       "<tr>\n",
       "  <th>Prob(Omnibus):</th> <td> 0.000</td>  <th>  Jarque-Bera (JB):  </th> <td>1179.385</td> \n",
       "</tr>\n",
       "<tr>\n",
       "  <th>Skew:</th>          <td>-2.179</td>  <th>  Prob(JB):          </th> <td>7.94e-257</td>\n",
       "</tr>\n",
       "<tr>\n",
       "  <th>Kurtosis:</th>      <td>13.643</td>  <th>  Cond. No.          </th> <td>    2.50</td> \n",
       "</tr>\n",
       "</table><br/><br/>Notes:<br/>[1] Standard Errors assume that the covariance matrix of the errors is correctly specified."
      ],
      "text/plain": [
       "<class 'statsmodels.iolib.summary.Summary'>\n",
       "\"\"\"\n",
       "                            OLS Regression Results                            \n",
       "==============================================================================\n",
       "Dep. Variable:               falsexam   R-squared:                       0.039\n",
       "Model:                            OLS   Adj. R-squared:                  0.034\n",
       "Method:                 Least Squares   F-statistic:                     8.554\n",
       "Date:                Tue, 08 Nov 2022   Prob (F-statistic):            0.00382\n",
       "Time:                        16:44:06   Log-Likelihood:                -837.85\n",
       "No. Observations:                 214   AIC:                             1680.\n",
       "Df Residuals:                     212   BIC:                             1686.\n",
       "Df Model:                           1                                         \n",
       "Covariance Type:            nonrobust                                         \n",
       "==========================================================================================\n",
       "                             coef    std err          t      P>|t|      [0.025      0.975]\n",
       "------------------------------------------------------------------------------------------\n",
       "Intercept                 78.5475      1.113     70.563      0.000      76.353      80.742\n",
       "class_format[T.online]    -4.9122      1.680     -2.925      0.004      -8.223      -1.601\n",
       "==============================================================================\n",
       "Omnibus:                      129.000   Durbin-Watson:                   2.091\n",
       "Prob(Omnibus):                  0.000   Jarque-Bera (JB):             1179.385\n",
       "Skew:                          -2.179   Prob(JB):                    7.94e-257\n",
       "Kurtosis:                      13.643   Cond. No.                         2.50\n",
       "==============================================================================\n",
       "\n",
       "Notes:\n",
       "[1] Standard Errors assume that the covariance matrix of the errors is correctly specified.\n",
       "\"\"\""
      ]
     },
     "execution_count": 26,
     "metadata": {},
     "output_type": "execute_result"
    }
   ],
   "source": [
    "#OLS\n",
    "ols_reg = sm.OLS.from_formula(\"falsexam ~ class_format\", \n",
    "              data = REGRESION).fit()\n",
    "\n",
    "ols_reg.summary()"
   ]
  },
  {
   "cell_type": "markdown",
   "id": "6caf0ba7",
   "metadata": {},
   "source": [
    "- Interpretación:\n",
    "Se confirma que el coeficiente de beta_1 (4.9122) es el mismo valor que se obtiene de la diferencia entre la media de notas de ambas modalidades. Además el p-value para la variable dummy es menor a 0.05, por tanto, esta variable es significativa para el modelo de regresión lineal. Por último, el R-squared o R-cuadrado te da un valor de 0.039 y en base a este valor se obtiene que el porcentaje de explicación que tiene el modelo para la variable dependiente Y=distribución de notas es muy bajo, pues solo es de 3.9%. De modo que, se recomienda agregar más variables al modelo, pues si bien la variable de formato de clase es significativa para explicar la variación en la distribución de notas, esta no es suficiente, Por ende, debe haber otras variables que también son relevantes para el modelo y en conjunto con la variable dummy elevarían el porcentaje de explicación del modelo de regresión lineal."
   ]
  }
 ],
 "metadata": {
  "kernelspec": {
   "display_name": "Python 3 (ipykernel)",
   "language": "python",
   "name": "python3"
  },
  "language_info": {
   "codemirror_mode": {
    "name": "ipython",
    "version": 3
   },
   "file_extension": ".py",
   "mimetype": "text/x-python",
   "name": "python",
   "nbconvert_exporter": "python",
   "pygments_lexer": "ipython3",
   "version": "3.9.12"
  }
 },
 "nbformat": 4,
 "nbformat_minor": 5
}
