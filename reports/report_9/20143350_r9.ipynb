{
 "cells": [
  {
   "cell_type": "markdown",
   "id": "7080293c",
   "metadata": {},
   "source": [
    "**Alumno**: Luis Felipe Acosta Zavaleta \n",
    "\n",
    "**Código**: 20143350"
   ]
  },
  {
   "cell_type": "markdown",
   "id": "d04541e3",
   "metadata": {},
   "source": [
    "La pregunta del artículo es si existe una relación causal entre el uso de Facebook por parte de los estudiantes universitarios y el deterioro de su salud mental o la aparición de problemas de salud mental, teniendo en cuenta la fecha exacta de la introducción  de dicha red social en 775 colegios estadounidenses (*cutoff* de la *random variable*). \n",
    "\n",
    "El artículo destaca por el análisis escalonado (mediante el modelo TWFE) de los efectos de Facebook sobre la salud mental de los estudiantes. De esa forma, considera las diferencias dentro de la muestra seleccionada. Si bien los autores señalan que puede existir un problema debido a que el modelo TWFE requiere de homogeneidad en los efectos del tratamiento, lo cual en principio no se cumplía, plantean la solución de usar estimadores robustos a fin de obtener estimadores consistentes.\n",
    "\n",
    "Además, tomando en cuenta datos de distintas universidades, examina en el tiempo los censos de pruebas de salud mental, con lo cual se puede ver el efecto del uso de redes sociales en la salud mental en un lapso de tiempo determinado. \n",
    "\n",
    "Asimismo, el trabajo usa la regresión discontinua para explorar los efectos causales la introducción de las redes sociales a las universidades (intervenciones). De esa forma, se puede hacer una comparación entre los grupos u observaciones \n",
    "\n",
    "El mismo artículo señala que su debilidad es no demostrar totalmente la causalidad, al existir otras variables relacionadas al auge del Internet y las redes sociales. Otra debilidad es la falta de definición del grupo de control al momento de estudiar el tratamiento y de control del uso (o no) de Facebook.\n",
    "\n",
    "La contribución del texto es demostrar que efectivamente existe un efecto importante en el deterioro de la salud mental de jóvenes y adolescentes a causa de las comparaciones sociales negativas o desfavorables entre los usuarios, toda vez que las publicaciones determinan estándares irreales que están lejos de la realidad. \n",
    "\n",
    "Un paso para seguir con la investigación es comparar el estudio del artículo con estudios transversales, longitudinales, cualitativos y revisiones sistemáticas de literatura (Karim et. al, 2020). Esto, debido a que variables importantes a tener en cuenta para determinar la afectación en la salud mental son el tiempo de exposición de las personas a las redes sociales y el nivel de actividad. No obstante, al comparar varios tipos de estudios, los resultados muestran diferencias considerables. Por tanto, determinar las causas de estas variaciones es fundamental para avanzar en la pregunta de investigación y determinar el impacto del uso de redes sociales en la salud mental.\n",
    "\n",
    "Asimismo, otro punto a tener en cuenta es incluir otras variables independientes, además de las horas dedicadas, cómo el tipo de actividad (lectura y visualización, blogs, publicaciones, mensajes, etc.) (Van den Berge, 2021). Al respecto, sería importante tener en cuenta la posible endogeneidad de la variable de tratamiento y corregir el sesgo de selección causado por factores de confusión no observados mediante métodos proporcionados (Van den Berge, 2021).\n",
    "\n",
    "**Referencia:**\n",
    "\n",
    "Karim F., Oyewande A., Abdalla L., Chaudhry Ehsanullah R., Khan S. (2020). *Social Media Use and Its Connection to Mental Health: A Systematic Review*. Cureus. 12(6).\n",
    "\n",
    "Van den Berge, E. (2021). *Causal Effects of Social Media Usage on Mental Health* [tesis de maestría]. "
   ]
  }
 ],
 "metadata": {
  "kernelspec": {
   "display_name": "Python 3 (ipykernel)",
   "language": "python",
   "name": "python3"
  },
  "language_info": {
   "codemirror_mode": {
    "name": "ipython",
    "version": 3
   },
   "file_extension": ".py",
   "mimetype": "text/x-python",
   "name": "python",
   "nbconvert_exporter": "python",
   "pygments_lexer": "ipython3",
   "version": "3.9.12"
  }
 },
 "nbformat": 4,
 "nbformat_minor": 5
}
