{
 "cells": [
  {
   "cell_type": "markdown",
   "id": "4c343064",
   "metadata": {},
   "source": [
    "# REPORTE 7"
   ]
  },
  {
   "cell_type": "markdown",
   "id": "9b0ff634",
   "metadata": {},
   "source": [
    "## LECTURA"
   ]
  },
  {
   "cell_type": "markdown",
   "id": "74fd08ca",
   "metadata": {},
   "source": [
    "Chetty, Hendren y Katz en The Effects of Exposure to Better Neighborhoods on Children: New Evidence from the Moving to Opportunity Experiment desarrollan su pregunta se investigación acerca de cual es el impacto de puede producir mudarse a vecindarios menos pobres respecto en los ingresos futuros durante la infancia. En este sentido, los autores se centran en aquellas personas que se mudaron a zonas menos pobres, específicamente durante la niñez. De la misma forma, establecen una relación directamente asociada con la edad de estas personas, de manera que el aumento de sus ingresos futuros era aun más significativo mientras más jóvenes eran.\n",
    "\n",
    "Por un lado, una de las fortalezas de este artículo es el uso del MTO, pues estudios anteriores a este no encontraron evidencia significativa sobre el impacto que produciría vivir en vecindarios menos pobres, respecto a los ingresos y empleos futuros. En este artículo, los autores revisan el experimento MTO y se enfocan en sus impactos a largo plazo en los niños que eran jóvenes cuando sus familias se mudaron a mejores barrios. Moving to Opportunity (MTO), un experimento del Departamento de Vivienda y Desarrollo Urbano de EE. UU. ofreció a una muestra seleccionada al azar de familias que viven en proyectos de vivienda de alta pobreza, vales de vivienda subsidiada para mudarse a barrios de menor pobreza en los 90. El MTO generó grandes diferencias en entornos de vecindario para familias comparables. De esta forma, el MTO brindó una oportunidad para evaluar los efectos causales de mejorar los entornos del vecindario para familias de bajos ingresos. Los autores incluyen en la metodología variables como asistencia a la universidad o la calidad universitaria, los ingresos del hogar, las características de los vecindarios en la edad adulta, la fertilidad e impuestos.\n",
    "\n",
    "Por otro lado, una debilidad encontrada es respecto a la data es que podría existir cierto sesgo, pues no se propone una edad especifica para señalar el límite de edad, respecto del estudio que están realizando, ya que solo se señala que mientras más jóvenes, hay un mayor impacto. Otra debilidad es que el estudio con el desarrollo de este experimento está planteado para hacerse en países que se encuentran mediana o altamente desarrollados, cuyos gobiernos tengan la capacidad de ofrecer subvenciones y ciertas facilidades. De este modo, el experimento no se puede desarrollar en todos los países.\n",
    "\n",
    "Este informe permite documentar la importancia de la infancia respecto a cambiar de zona para vivir, explicando las ganancias de mudarse a mejores áreas caen linealmente con la edad del niño en el momento de la mudanza. De esta manera, los autores muestran un modelo simple que presenta efectos de la exposición infantil al mudarse a un mejor entorno social. Así, permite recopilar mayor información sobre el entorno en la infancia y sus consecuencias en la edad adulta.\n",
    "\n",
    "Para avanzar la pregunta de investigación, se debería definir el rango de edad de la investigación. Como Massey y Rothwell mencionan en su investigación Geographic Effects on Intergenerational Income Mobility el lugar en donde una persona pasó los primeros 16 años de su vida son determinantes para los ingresos que la persona recibirá, aunque esa misma persona se mude varias veces después. En este sentido, los autores han determinado un rango de edad para su investigación, también han establecido que la concentración de la riqueza y la pobreza sigue en aumento."
   ]
  },
  {
   "cell_type": "markdown",
   "id": "75506c89",
   "metadata": {},
   "source": [
    "## CÓDIGO"
   ]
  },
  {
   "cell_type": "markdown",
   "id": "82eee38e",
   "metadata": {},
   "source": [
    "### Data"
   ]
  },
  {
   "cell_type": "code",
   "execution_count": 7,
   "id": "85a701e6",
   "metadata": {},
   "outputs": [],
   "source": [
    "import numpy as np \n",
    "import pandas as pd \n",
    "import statsmodels.api as sm \n",
    "import statsmodels.formula.api as smf \n",
    "from itertools import combinations \n",
    "import seaborn as sns\n",
    "from scipy import stats\n",
    "import matplotlib.pyplot as plt"
   ]
  },
  {
   "cell_type": "code",
   "execution_count": 8,
   "id": "7e4aefc6",
   "metadata": {},
   "outputs": [
    {
     "name": "stdout",
     "output_type": "stream",
     "text": [
      "(323, 10)\n"
     ]
    },
    {
     "data": {
      "text/html": [
       "<div>\n",
       "<style scoped>\n",
       "    .dataframe tbody tr th:only-of-type {\n",
       "        vertical-align: middle;\n",
       "    }\n",
       "\n",
       "    .dataframe tbody tr th {\n",
       "        vertical-align: top;\n",
       "    }\n",
       "\n",
       "    .dataframe thead th {\n",
       "        text-align: right;\n",
       "    }\n",
       "</style>\n",
       "<table border=\"1\" class=\"dataframe\">\n",
       "  <thead>\n",
       "    <tr style=\"text-align: right;\">\n",
       "      <th></th>\n",
       "      <th>gender</th>\n",
       "      <th>asian</th>\n",
       "      <th>black</th>\n",
       "      <th>hawaiian</th>\n",
       "      <th>hispanic</th>\n",
       "      <th>unknown</th>\n",
       "      <th>white</th>\n",
       "      <th>format_ol</th>\n",
       "      <th>format_blended</th>\n",
       "      <th>falsexam</th>\n",
       "    </tr>\n",
       "  </thead>\n",
       "  <tbody>\n",
       "    <tr>\n",
       "      <th>0</th>\n",
       "      <td>0</td>\n",
       "      <td>0.0</td>\n",
       "      <td>0.0</td>\n",
       "      <td>0.0</td>\n",
       "      <td>0.0</td>\n",
       "      <td>0.0</td>\n",
       "      <td>1.0</td>\n",
       "      <td>0</td>\n",
       "      <td>0.0</td>\n",
       "      <td>63.29997</td>\n",
       "    </tr>\n",
       "    <tr>\n",
       "      <th>1</th>\n",
       "      <td>1</td>\n",
       "      <td>0.0</td>\n",
       "      <td>0.0</td>\n",
       "      <td>0.0</td>\n",
       "      <td>0.0</td>\n",
       "      <td>0.0</td>\n",
       "      <td>1.0</td>\n",
       "      <td>0</td>\n",
       "      <td>0.0</td>\n",
       "      <td>79.96000</td>\n",
       "    </tr>\n",
       "    <tr>\n",
       "      <th>2</th>\n",
       "      <td>1</td>\n",
       "      <td>0.0</td>\n",
       "      <td>0.0</td>\n",
       "      <td>0.0</td>\n",
       "      <td>0.0</td>\n",
       "      <td>0.0</td>\n",
       "      <td>1.0</td>\n",
       "      <td>0</td>\n",
       "      <td>1.0</td>\n",
       "      <td>83.37000</td>\n",
       "    </tr>\n",
       "    <tr>\n",
       "      <th>3</th>\n",
       "      <td>1</td>\n",
       "      <td>0.0</td>\n",
       "      <td>0.0</td>\n",
       "      <td>0.0</td>\n",
       "      <td>0.0</td>\n",
       "      <td>0.0</td>\n",
       "      <td>1.0</td>\n",
       "      <td>0</td>\n",
       "      <td>1.0</td>\n",
       "      <td>90.01994</td>\n",
       "    </tr>\n",
       "    <tr>\n",
       "      <th>4</th>\n",
       "      <td>1</td>\n",
       "      <td>0.0</td>\n",
       "      <td>0.0</td>\n",
       "      <td>0.0</td>\n",
       "      <td>0.0</td>\n",
       "      <td>0.0</td>\n",
       "      <td>1.0</td>\n",
       "      <td>1</td>\n",
       "      <td>0.0</td>\n",
       "      <td>83.30000</td>\n",
       "    </tr>\n",
       "  </tbody>\n",
       "</table>\n",
       "</div>"
      ],
      "text/plain": [
       "   gender  asian  black  hawaiian  hispanic  unknown  white  format_ol  \\\n",
       "0       0    0.0    0.0       0.0       0.0      0.0    1.0          0   \n",
       "1       1    0.0    0.0       0.0       0.0      0.0    1.0          0   \n",
       "2       1    0.0    0.0       0.0       0.0      0.0    1.0          0   \n",
       "3       1    0.0    0.0       0.0       0.0      0.0    1.0          0   \n",
       "4       1    0.0    0.0       0.0       0.0      0.0    1.0          1   \n",
       "\n",
       "   format_blended  falsexam  \n",
       "0             0.0  63.29997  \n",
       "1             0.0  79.96000  \n",
       "2             1.0  83.37000  \n",
       "3             1.0  90.01994  \n",
       "4             0.0  83.30000  "
      ]
     },
     "execution_count": 8,
     "metadata": {},
     "output_type": "execute_result"
    }
   ],
   "source": [
    "data = pd.read_csv('https://github.com/matheusfacure/python-causality-handbook/raw/master/causal-inference-for-the-brave-and-true/data/online_classroom.csv')\n",
    "print(data.shape)\n",
    "data.head()"
   ]
  },
  {
   "cell_type": "code",
   "execution_count": 9,
   "id": "cae801a9",
   "metadata": {},
   "outputs": [
    {
     "data": {
      "text/html": [
       "<div>\n",
       "<style scoped>\n",
       "    .dataframe tbody tr th:only-of-type {\n",
       "        vertical-align: middle;\n",
       "    }\n",
       "\n",
       "    .dataframe tbody tr th {\n",
       "        vertical-align: top;\n",
       "    }\n",
       "\n",
       "    .dataframe thead th {\n",
       "        text-align: right;\n",
       "    }\n",
       "</style>\n",
       "<table border=\"1\" class=\"dataframe\">\n",
       "  <thead>\n",
       "    <tr style=\"text-align: right;\">\n",
       "      <th></th>\n",
       "      <th>gender</th>\n",
       "      <th>asian</th>\n",
       "      <th>black</th>\n",
       "      <th>hawaiian</th>\n",
       "      <th>hispanic</th>\n",
       "      <th>unknown</th>\n",
       "      <th>white</th>\n",
       "      <th>format_ol</th>\n",
       "      <th>format_blended</th>\n",
       "      <th>falsexam</th>\n",
       "    </tr>\n",
       "  </thead>\n",
       "  <tbody>\n",
       "    <tr>\n",
       "      <th>0</th>\n",
       "      <td>0</td>\n",
       "      <td>0.0</td>\n",
       "      <td>0.0</td>\n",
       "      <td>0.0</td>\n",
       "      <td>0.0</td>\n",
       "      <td>0.0</td>\n",
       "      <td>1.0</td>\n",
       "      <td>0</td>\n",
       "      <td>0.0</td>\n",
       "      <td>63.29997</td>\n",
       "    </tr>\n",
       "    <tr>\n",
       "      <th>1</th>\n",
       "      <td>1</td>\n",
       "      <td>0.0</td>\n",
       "      <td>0.0</td>\n",
       "      <td>0.0</td>\n",
       "      <td>0.0</td>\n",
       "      <td>0.0</td>\n",
       "      <td>1.0</td>\n",
       "      <td>0</td>\n",
       "      <td>0.0</td>\n",
       "      <td>79.96000</td>\n",
       "    </tr>\n",
       "    <tr>\n",
       "      <th>2</th>\n",
       "      <td>1</td>\n",
       "      <td>0.0</td>\n",
       "      <td>0.0</td>\n",
       "      <td>0.0</td>\n",
       "      <td>0.0</td>\n",
       "      <td>0.0</td>\n",
       "      <td>1.0</td>\n",
       "      <td>0</td>\n",
       "      <td>1.0</td>\n",
       "      <td>83.37000</td>\n",
       "    </tr>\n",
       "    <tr>\n",
       "      <th>3</th>\n",
       "      <td>1</td>\n",
       "      <td>0.0</td>\n",
       "      <td>0.0</td>\n",
       "      <td>0.0</td>\n",
       "      <td>0.0</td>\n",
       "      <td>0.0</td>\n",
       "      <td>1.0</td>\n",
       "      <td>0</td>\n",
       "      <td>1.0</td>\n",
       "      <td>90.01994</td>\n",
       "    </tr>\n",
       "    <tr>\n",
       "      <th>4</th>\n",
       "      <td>1</td>\n",
       "      <td>0.0</td>\n",
       "      <td>0.0</td>\n",
       "      <td>0.0</td>\n",
       "      <td>0.0</td>\n",
       "      <td>0.0</td>\n",
       "      <td>1.0</td>\n",
       "      <td>1</td>\n",
       "      <td>0.0</td>\n",
       "      <td>83.30000</td>\n",
       "    </tr>\n",
       "    <tr>\n",
       "      <th>...</th>\n",
       "      <td>...</td>\n",
       "      <td>...</td>\n",
       "      <td>...</td>\n",
       "      <td>...</td>\n",
       "      <td>...</td>\n",
       "      <td>...</td>\n",
       "      <td>...</td>\n",
       "      <td>...</td>\n",
       "      <td>...</td>\n",
       "      <td>...</td>\n",
       "    </tr>\n",
       "    <tr>\n",
       "      <th>318</th>\n",
       "      <td>0</td>\n",
       "      <td>0.0</td>\n",
       "      <td>0.0</td>\n",
       "      <td>0.0</td>\n",
       "      <td>0.0</td>\n",
       "      <td>0.0</td>\n",
       "      <td>1.0</td>\n",
       "      <td>0</td>\n",
       "      <td>1.0</td>\n",
       "      <td>68.36000</td>\n",
       "    </tr>\n",
       "    <tr>\n",
       "      <th>319</th>\n",
       "      <td>1</td>\n",
       "      <td>NaN</td>\n",
       "      <td>NaN</td>\n",
       "      <td>NaN</td>\n",
       "      <td>NaN</td>\n",
       "      <td>NaN</td>\n",
       "      <td>NaN</td>\n",
       "      <td>1</td>\n",
       "      <td>0.0</td>\n",
       "      <td>70.05000</td>\n",
       "    </tr>\n",
       "    <tr>\n",
       "      <th>320</th>\n",
       "      <td>0</td>\n",
       "      <td>NaN</td>\n",
       "      <td>NaN</td>\n",
       "      <td>NaN</td>\n",
       "      <td>NaN</td>\n",
       "      <td>NaN</td>\n",
       "      <td>NaN</td>\n",
       "      <td>1</td>\n",
       "      <td>0.0</td>\n",
       "      <td>66.69000</td>\n",
       "    </tr>\n",
       "    <tr>\n",
       "      <th>321</th>\n",
       "      <td>1</td>\n",
       "      <td>NaN</td>\n",
       "      <td>NaN</td>\n",
       "      <td>NaN</td>\n",
       "      <td>NaN</td>\n",
       "      <td>NaN</td>\n",
       "      <td>NaN</td>\n",
       "      <td>1</td>\n",
       "      <td>0.0</td>\n",
       "      <td>83.29997</td>\n",
       "    </tr>\n",
       "    <tr>\n",
       "      <th>322</th>\n",
       "      <td>1</td>\n",
       "      <td>0.0</td>\n",
       "      <td>0.0</td>\n",
       "      <td>0.0</td>\n",
       "      <td>0.0</td>\n",
       "      <td>0.0</td>\n",
       "      <td>1.0</td>\n",
       "      <td>0</td>\n",
       "      <td>1.0</td>\n",
       "      <td>96.68000</td>\n",
       "    </tr>\n",
       "  </tbody>\n",
       "</table>\n",
       "<p>323 rows × 10 columns</p>\n",
       "</div>"
      ],
      "text/plain": [
       "     gender  asian  black  hawaiian  hispanic  unknown  white  format_ol  \\\n",
       "0         0    0.0    0.0       0.0       0.0      0.0    1.0          0   \n",
       "1         1    0.0    0.0       0.0       0.0      0.0    1.0          0   \n",
       "2         1    0.0    0.0       0.0       0.0      0.0    1.0          0   \n",
       "3         1    0.0    0.0       0.0       0.0      0.0    1.0          0   \n",
       "4         1    0.0    0.0       0.0       0.0      0.0    1.0          1   \n",
       "..      ...    ...    ...       ...       ...      ...    ...        ...   \n",
       "318       0    0.0    0.0       0.0       0.0      0.0    1.0          0   \n",
       "319       1    NaN    NaN       NaN       NaN      NaN    NaN          1   \n",
       "320       0    NaN    NaN       NaN       NaN      NaN    NaN          1   \n",
       "321       1    NaN    NaN       NaN       NaN      NaN    NaN          1   \n",
       "322       1    0.0    0.0       0.0       0.0      0.0    1.0          0   \n",
       "\n",
       "     format_blended  falsexam  \n",
       "0               0.0  63.29997  \n",
       "1               0.0  79.96000  \n",
       "2               1.0  83.37000  \n",
       "3               1.0  90.01994  \n",
       "4               0.0  83.30000  \n",
       "..              ...       ...  \n",
       "318             1.0  68.36000  \n",
       "319             0.0  70.05000  \n",
       "320             0.0  66.69000  \n",
       "321             0.0  83.29997  \n",
       "322             1.0  96.68000  \n",
       "\n",
       "[323 rows x 10 columns]"
      ]
     },
     "execution_count": 9,
     "metadata": {},
     "output_type": "execute_result"
    }
   ],
   "source": [
    "data"
   ]
  },
  {
   "cell_type": "code",
   "execution_count": 15,
   "id": "538f2cec",
   "metadata": {},
   "outputs": [
    {
     "data": {
      "text/plain": [
       "<seaborn.axisgrid.FacetGrid at 0x15eab36fb20>"
      ]
     },
     "execution_count": 15,
     "metadata": {},
     "output_type": "execute_result"
    },
    {
     "data": {
      "image/png": "[encoded data removed]",
      "text/plain": [
       "<Figure size 360x360 with 1 Axes>"
      ]
     },
     "metadata": {
      "needs_background": "light"
     },
     "output_type": "display_data"
    }
   ],
   "source": [
    "sns.displot(data, x=\"falsexam\")"
   ]
  },
  {
   "cell_type": "code",
   "execution_count": 16,
   "id": "afa5419f",
   "metadata": {},
   "outputs": [],
   "source": [
    "# nueva columna\n",
    "datos = (data\n",
    " .assign(class_format = np.select(\n",
    "     [data[\"format_ol\"].astype(bool), data[\"format_blended\"].astype(bool)],\n",
    "     [\"online\", \"blended\"],\n",
    "     default=\"face_to_face\" #nueva variable\n",
    " ))) "
   ]
  },
  {
   "cell_type": "code",
   "execution_count": 17,
   "id": "e8a0b3a7",
   "metadata": {},
   "outputs": [
    {
     "data": {
      "text/html": [
       "<div>\n",
       "<style scoped>\n",
       "    .dataframe tbody tr th:only-of-type {\n",
       "        vertical-align: middle;\n",
       "    }\n",
       "\n",
       "    .dataframe tbody tr th {\n",
       "        vertical-align: top;\n",
       "    }\n",
       "\n",
       "    .dataframe thead th {\n",
       "        text-align: right;\n",
       "    }\n",
       "</style>\n",
       "<table border=\"1\" class=\"dataframe\">\n",
       "  <thead>\n",
       "    <tr style=\"text-align: right;\">\n",
       "      <th></th>\n",
       "      <th>gender</th>\n",
       "      <th>asian</th>\n",
       "      <th>black</th>\n",
       "      <th>hawaiian</th>\n",
       "      <th>hispanic</th>\n",
       "      <th>unknown</th>\n",
       "      <th>white</th>\n",
       "      <th>format_ol</th>\n",
       "      <th>format_blended</th>\n",
       "      <th>falsexam</th>\n",
       "      <th>class_format_blended</th>\n",
       "      <th>class_format_face_to_face</th>\n",
       "      <th>class_format_online</th>\n",
       "    </tr>\n",
       "  </thead>\n",
       "  <tbody>\n",
       "    <tr>\n",
       "      <th>0</th>\n",
       "      <td>0</td>\n",
       "      <td>0.0</td>\n",
       "      <td>0.0</td>\n",
       "      <td>0.0</td>\n",
       "      <td>0.0</td>\n",
       "      <td>0.0</td>\n",
       "      <td>1.0</td>\n",
       "      <td>0</td>\n",
       "      <td>0.0</td>\n",
       "      <td>63.29997</td>\n",
       "      <td>0</td>\n",
       "      <td>1</td>\n",
       "      <td>0</td>\n",
       "    </tr>\n",
       "    <tr>\n",
       "      <th>1</th>\n",
       "      <td>1</td>\n",
       "      <td>0.0</td>\n",
       "      <td>0.0</td>\n",
       "      <td>0.0</td>\n",
       "      <td>0.0</td>\n",
       "      <td>0.0</td>\n",
       "      <td>1.0</td>\n",
       "      <td>0</td>\n",
       "      <td>0.0</td>\n",
       "      <td>79.96000</td>\n",
       "      <td>0</td>\n",
       "      <td>1</td>\n",
       "      <td>0</td>\n",
       "    </tr>\n",
       "    <tr>\n",
       "      <th>2</th>\n",
       "      <td>1</td>\n",
       "      <td>0.0</td>\n",
       "      <td>0.0</td>\n",
       "      <td>0.0</td>\n",
       "      <td>0.0</td>\n",
       "      <td>0.0</td>\n",
       "      <td>1.0</td>\n",
       "      <td>0</td>\n",
       "      <td>1.0</td>\n",
       "      <td>83.37000</td>\n",
       "      <td>1</td>\n",
       "      <td>0</td>\n",
       "      <td>0</td>\n",
       "    </tr>\n",
       "    <tr>\n",
       "      <th>3</th>\n",
       "      <td>1</td>\n",
       "      <td>0.0</td>\n",
       "      <td>0.0</td>\n",
       "      <td>0.0</td>\n",
       "      <td>0.0</td>\n",
       "      <td>0.0</td>\n",
       "      <td>1.0</td>\n",
       "      <td>0</td>\n",
       "      <td>1.0</td>\n",
       "      <td>90.01994</td>\n",
       "      <td>1</td>\n",
       "      <td>0</td>\n",
       "      <td>0</td>\n",
       "    </tr>\n",
       "    <tr>\n",
       "      <th>4</th>\n",
       "      <td>1</td>\n",
       "      <td>0.0</td>\n",
       "      <td>0.0</td>\n",
       "      <td>0.0</td>\n",
       "      <td>0.0</td>\n",
       "      <td>0.0</td>\n",
       "      <td>1.0</td>\n",
       "      <td>1</td>\n",
       "      <td>0.0</td>\n",
       "      <td>83.30000</td>\n",
       "      <td>0</td>\n",
       "      <td>0</td>\n",
       "      <td>1</td>\n",
       "    </tr>\n",
       "  </tbody>\n",
       "</table>\n",
       "</div>"
      ],
      "text/plain": [
       "   gender  asian  black  hawaiian  hispanic  unknown  white  format_ol  \\\n",
       "0       0    0.0    0.0       0.0       0.0      0.0    1.0          0   \n",
       "1       1    0.0    0.0       0.0       0.0      0.0    1.0          0   \n",
       "2       1    0.0    0.0       0.0       0.0      0.0    1.0          0   \n",
       "3       1    0.0    0.0       0.0       0.0      0.0    1.0          0   \n",
       "4       1    0.0    0.0       0.0       0.0      0.0    1.0          1   \n",
       "\n",
       "   format_blended  falsexam  class_format_blended  class_format_face_to_face  \\\n",
       "0             0.0  63.29997                     0                          1   \n",
       "1             0.0  79.96000                     0                          1   \n",
       "2             1.0  83.37000                     1                          0   \n",
       "3             1.0  90.01994                     1                          0   \n",
       "4             0.0  83.30000                     0                          0   \n",
       "\n",
       "   class_format_online  \n",
       "0                    0  \n",
       "1                    0  \n",
       "2                    0  \n",
       "3                    0  \n",
       "4                    1  "
      ]
     },
     "execution_count": 17,
     "metadata": {},
     "output_type": "execute_result"
    }
   ],
   "source": [
    "pd.get_dummies(datos, columns=[\"class_format\"]).head()"
   ]
  },
  {
   "cell_type": "code",
   "execution_count": 19,
   "id": "b0bcd8f8",
   "metadata": {},
   "outputs": [
    {
     "data": {
      "text/plain": [
       "<seaborn.axisgrid.FacetGrid at 0x15ead0e8700>"
      ]
     },
     "execution_count": 19,
     "metadata": {},
     "output_type": "execute_result"
    },
    {
     "data": {
      "image/png": "[encoded data removed]",
      "text/plain": [
       "<Figure size 1080x360 with 3 Axes>"
      ]
     },
     "metadata": {
      "needs_background": "light"
     },
     "output_type": "display_data"
    }
   ],
   "source": [
    "sns.displot(datos, x=\"falsexam\", col=\"class_format\")"
   ]
  },
  {
   "cell_type": "code",
   "execution_count": 23,
   "id": "681f71d2",
   "metadata": {},
   "outputs": [
    {
     "data": {
      "text/plain": [
       "Text(19.309791666666662, 0.5, 'Estudiantes')"
      ]
     },
     "execution_count": 23,
     "metadata": {},
     "output_type": "execute_result"
    },
    {
     "data": {
      "image/png": "[encoded data removed]",
      "text/plain": [
       "<Figure size 458.625x360 with 1 Axes>"
      ]
     },
     "metadata": {
      "needs_background": "light"
     },
     "output_type": "display_data"
    }
   ],
   "source": [
    "sns.displot(datos, x=\"falsexam\", hue=\"class_format\")  \n",
    "plt.title(\"Histograma de la distribución de notas por grupo\", fontsize=16)\n",
    "plt.xlabel(\"Distribución de notas\", fontsize=12)\n",
    "plt.ylabel(\"Estudiantes\", fontsize=12)"
   ]
  },
  {
   "cell_type": "markdown",
   "id": "04cda694",
   "metadata": {},
   "source": [
    "#### Interpretación:\n",
    "Se puede evidenciar que existen diferencias en los 3 histogramas traslapados. El grupo online (virtual) posee los valores más bajos en la distribución de notas. En ese sentido, dichos valores oscilan entre 0 y 5, porlo que se podría afirmar que los valores de este grupo son en general los valores más bajos. Por su lado, el formato blended (mixto) presenta valores medios y cuyos estudiante presentan notas entre 45 y 50. El formato face to face (presencial), por otra parte, presenta los valores más altos, que van de 45 a más. En suma, se podría afirmar que los alumnos que asisten a clases presenciales son más proclives a sacar notas más altas, los alumnos que realizan sus clase de forma híbrida tienden a sacar notas medias y los alumnos que tienen clases virtuales suelen sacar las notas más bajas."
   ]
  }
 ],
 "metadata": {
  "kernelspec": {
   "display_name": "Python 3 (ipykernel)",
   "language": "python",
   "name": "python3"
  },
  "language_info": {
   "codemirror_mode": {
    "name": "ipython",
    "version": 3
   },
   "file_extension": ".py",
   "mimetype": "text/x-python",
   "name": "python",
   "nbconvert_exporter": "python",
   "pygments_lexer": "ipython3",
   "version": "3.9.12"
  }
 },
 "nbformat": 4,
 "nbformat_minor": 5
}
