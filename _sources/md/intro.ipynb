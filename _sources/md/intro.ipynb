{
 "cells": [
  {
   "cell_type": "markdown",
   "id": "0ae0c21b",
   "metadata": {},
   "source": [
    "# Fundamentals of Macroeconomics\n",
    "\n",
    "Clases del curso para la Especialidad de Relaciones Internacionales en la Pontificia Universidad Católica del Perú."
   ]
  }
 ],
 "metadata": {
  "jupytext": {
   "text_representation": {
    "extension": ".md",
    "format_name": "myst"
   }
  },
  "kernelspec": {
   "display_name": "Python 3",
   "language": "python",
   "name": "python3"
  },
  "language_info": {
   "codemirror_mode": {
    "name": "ipython",
    "version": 3
   },
   "file_extension": ".py",
   "mimetype": "text/x-python",
   "name": "python",
   "nbconvert_exporter": "python",
   "pygments_lexer": "ipython3",
   "version": "3.7.11"
  },
  "source_map": [
   10
  ]
 },
 "nbformat": 4,
 "nbformat_minor": 5
}