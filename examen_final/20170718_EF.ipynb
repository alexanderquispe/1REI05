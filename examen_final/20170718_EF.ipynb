{
  "nbformat": 4,
  "nbformat_minor": 0,
  "metadata": {
    "colab": {
      "provenance": []
    },
    "kernelspec": {
      "name": "python3",
      "display_name": "Python 3"
    },
    "language_info": {
      "name": "python"
    }
  },
  "cells": [
    {
      "cell_type": "markdown",
      "source": [
        "**PREGUNTA 2(3 puntos) Regression Discontinuity Design (RDD):**\n",
        "\n",
        "**Supongamos que estamos estudiando la eficacia de un programa de becas creado por el gobierno Peruano sobre las notas de los alumnos al final del primer semestre en la universidad. PRONABEC ha decidido que entregará becas a aquellos postulantes que tengan un promedio superior durante la secundaria igual a 16.** \n",
        "\n",
        "Para aplicar el método RDD es necesario considerar dos supuestos. El primero de ellos es la condición de exclusión, donde no hay otra discontinuidad alrededor del punto de corte. El segundo es respecto a la discontinuidad, en el que se busca que los resultados esperados aumenten a partir del tratamiento.\n",
        "\n",
        "Para poder encontrar el concepto causal de X→Y:\n",
        "\n",
        "Primero, analizamos la variable “Running Variable”, la cual determina si tú eres tratado o no (grupo de tratamiento o grupo de control). En este caso, X es el promedio de notas de los alumnos en secundaria.\n",
        "\n",
        "Segundo, en el caso del “Cutt off”, este determinará si eres tratado o control. Un valor de esta observación indicará quién es realmente tratado. En este caso es el un promedio mayor a 16; aquellos estudiantes que están por encima del punto de corte.\n",
        "\n",
        "Tercero, en el caso del “Bandwidth” evaluamos la diferencia de ratios de estudios. En este caso, evaluamos la diferencia entre el promedio de los alumnos después de medio año de haberse implementado la beca menos el medio año antes de implementarse la beca.\n",
        "\n",
        "A partir de la intuición, podemos argumentar que el efecto de la política de los estudiantes sería positivo; debido que el acceso a una beca les brindaría una educación gratuita que podría ser un incentivo para que los estudiantes decidan mejorar su rendimiento académico. En este sentido, sienten que su esfuerzo será recompensado.\n"
      ],
      "metadata": {
        "id": "UO560WUMfeVt"
      }
    },
    {
      "cell_type": "markdown",
      "source": [
        "**PREGUNTA 3(3 puntos) Difference in Difference (DiD):**\n",
        "\n",
        "**Supongamos que estamos interesados ​​en estudiar el impacto de la migración en la tasa de empleo en dos regiones del Perú en 2017-2018. Tenemos datos anuales sobre la tasa de empleo en Lima, que experimentó una afluencia significativa de inmigrantes en 2018, y Puno que no experimentó el ingreso de migrantes (2017 ninguna de las regiones experimentó afluencia de migrantes). Podemos usar un análisis DID para comparar el cambio en las tasas de empleo entre las dos regiones a lo largo del tiempo para ver si la migración tuvo algún efecto.**\n",
        "\n",
        "En nuestro modelo Difference in Difference identificamos que se trata de uan regresión causal donde la Migración es nuestra \"outcome\" y el empleo es nuestra variable. Los dos grandes bloques de datos son la distribución del empleo en los años, eavaluadas en las regiones de Lima (grupo tratamiento) y Puno (grupo control); durante el período 2017-2018.\n",
        "Nuestro supuesto fundamental es el paralelismo, donde as pendientes de los empleos en este año son iguales.\n",
        "\n",
        "Primero, respecto al supuesto de tendencia paralela, las tendencias previo al tratamiento deben ser paralelas en ambos grupos de control y tratamiento. Esto permite verificar que no sé estan considerando otras variables que pueden afectar a la tendencia. En este caso, antes de la migración se da una tendencia paralela, puesto que la migración venezolana en el año 2017 en ambasregiones, no se \"experimentó una influencia de los migrantes\".\n",
        "\n",
        "Segundo, mostramos la evolución de la variable durante un período de tiempo; identificar el factor que influye en la diferencia entre el grupo de tratamiento y el grupo de control.\n",
        "\n",
        "Tercero, al armar un esquema identificamos (X2-X1) - (Y2-Y1)\n",
        "\n",
        "En este caso, X es el grupo de tratamiento en \"Lima\" donde X1 es el grupo de tratamiento previo a la migración y X2 es después de la migración. Y es el grupo de control en \"Puno\" donde Y1 es el grupo de control previo a la migración y Y2 es después de la migración.\n",
        "\n",
        "Cuarto, la diferencia de estos promedios representa la diferencia causal que se sa entre los grupos propuestos.\n",
        "\n",
        "En este sentido, El efecto de la migración sobre la tasa de empleo sería en Lima es negativo debido a que la informalidad en el empleo ha aumentado debido al crecimiento del número de migrantes.\n",
        "\n"
      ],
      "metadata": {
        "id": "U4BJA2kc8UdL"
      }
    },
    {
      "cell_type": "markdown",
      "source": [
        "**PREGUNTA 4:**\n",
        "\n",
        "**4.1 Bell, A., Chetty, R., Jaravel, X., Petkova, N., & Van Reenen, J. (2019). Who becomes an inventor in America? Cuáles son las debilidades del enfoque del paper para responder su pregunta de investigación?**\n",
        "\n",
        "En el siguiente artículo “Who becomes an inventor in America? The importance of exposure to innovation”, los autores analizan cómo es que la falta de exposición a la innovación puede ayudar a explicar por qué los niños talentosos de las familias de bajos ingresos, minorías y mujeres tienen menos probabilidades de convertirse en inventores. A pesar de que, este trabajo cuente con tres análisis con diferentes metodologías, lo cual lo hace muy rico, hay puntos débiles que se deben reforzar. En primer lugar,  los resultados no brindan evidencia concluyente sobre el papel del entorno porque los puntajes de las pruebas son una medida imperfecta de la capacidad; sino refleja la capacidad de un niño para innovar, especialmente a edades tempranas, la capacidad aún podría representar una parte sustancial de las brechas de innovación. En segundo lugar, el análisis de los autores no proporciona una guía sobre qué programas específicos son más efectivos, pero sí ofrece una guía sobre cómo deben enfocarse: los programas de exposición dirigidos a mujeres, minorías y niños de familias de bajos ingresos que sobresalen en matemáticas y ciencias a edades tempranas maximicen su impacto en la innovación. En tercer lugar, se podría buscar otras variables relacionadas a la innovación, no solo las patentes ya que no toda innovación termina en patentes.\n",
        "\n",
        "**4.2 Dell, M. (2010). The persistent effects of Peru's mining mita. Econometrica, 78(6), 1863-1903, ¿Cuáles serían dos próximos pasos específicos para avanzar en su pregunta de investigación?**\n",
        "\n",
        "Un paso específico para avanzar en su pregunta de investigación, primero, sería la inclusión de otros aspectos fundamentales que puedan explicar los efectos de la mita en la calidad de vida de las localidades afectadas. Si bien, se ha explicado su influencia en el crecimiento infantil, debería de averiguarse sus efectos en el nivel de pobreza de las familias de las zonas que fueron explotadas. La presencia de la mita, hizo que en un aproximado de la séptima parte de población masculina se dedique forzosamente a esta actividad y el resto de pobladores dedicarse a actividades secundarias económicas. Los que fueron forzados no generaron un sueldo parecido a quienes no estuvieron forzados a laborar en las mitas, en tal sentido, se cimentaron diferenciar en la capital de ahorro familiar y condenar a determinadas familias a un estado de pobreza.  Segundo, debería de aplicarse el modelo encontrado a países que también pertenecieron como colonias a la Corona Española y tuvieron sistemas de labor forzado. En tal sentido, se evidenciaría si la presencia de estas instituciones realmente afectó de manera similar o existieron elementos paralelos que influenciaron en la construcción de las diferencias y no se han identificado en la presente investigación."
      ],
      "metadata": {
        "id": "1HWY4wAF4sES"
      }
    },
    {
      "cell_type": "markdown",
      "source": [
        "**PREGUNTA 4: CÓDIGO**"
      ],
      "metadata": {
        "id": "1zvUG0lR-4ze"
      }
    },
    {
      "cell_type": "code",
      "source": [
        "# pip install causalgraphicalmodels\n",
        "# pip install linearmodels\n",
        "\n",
        "import os\n",
        "import numpy as np \n",
        "import pandas as pd \n",
        "import statsmodels.api as sm \n",
        "import statsmodels.formula.api as smf \n",
        "from itertools import combinations \n",
        "import plotnine as p\n",
        "import statsmodels.api as sm\n",
        "import statsmodels.formula.api as smf\n",
        "from statsmodels.iolib.summary2 import summary_col\n",
        "import seaborn as sns"
      ],
      "metadata": {
        "id": "sJ4xbLln-yRr"
      },
      "execution_count": 2,
      "outputs": []
    },
    {
      "cell_type": "code",
      "source": [
        "# load data\n",
        "\n",
        "import ssl\n",
        "ssl._create_default_https_context = ssl._create_unverified_context\n",
        "\n",
        "def read_data(file): \n",
        "    return pd.read_stata(\"https://raw.github.com/scunning1975/mixtape/master/\" + file)\n",
        "\n",
        "card = read_data(\"card.dta\")\n",
        "card.head()\n",
        "\n",
        "sns.displot(card, x = \"educ\", col = \"nearc2\", color='red')"
      ],
      "metadata": {
        "colab": {
          "base_uri": "https://localhost:8080/",
          "height": 386
        },
        "id": "iHcbQfnx-Vd7",
        "outputId": "970109d8-6e65-4995-8f81-93b4030615e3"
      },
      "execution_count": 6,
      "outputs": [
        {
          "output_type": "execute_result",
          "data": {
            "text/plain": [
              "<seaborn.axisgrid.FacetGrid at 0x7f4c1bf865b0>"
            ]
          },
          "metadata": {},
          "execution_count": 6
        },
        {
          "output_type": "display_data",
          "data": {
            "text/plain": [
              "<Figure size 720x360 with 2 Axes>"
            ],
            "image/png": "[encoded data removed]"
          },
          "metadata": {
            "needs_background": "light"
          }
        }
      ]
    },
    {
      "cell_type": "code",
      "source": [
        "sns.displot(card, x = \"lwage\", col = \"nearc2\", color='green')"
      ],
      "metadata": {
        "colab": {
          "base_uri": "https://localhost:8080/",
          "height": 386
        },
        "id": "Cjlt4uEZC9WR",
        "outputId": "3fa95cc8-3adf-4264-ddcd-19bbf27c649f"
      },
      "execution_count": 7,
      "outputs": [
        {
          "output_type": "execute_result",
          "data": {
            "text/plain": [
              "<seaborn.axisgrid.FacetGrid at 0x7f4c1b1aefa0>"
            ]
          },
          "metadata": {},
          "execution_count": 7
        },
        {
          "output_type": "display_data",
          "data": {
            "text/plain": [
              "<Figure size 720x360 with 2 Axes>"
            ],
            "image/png": "[encoded data removed]"
          },
          "metadata": {
            "needs_background": "light"
          }
        }
      ]
    },
    {
      "cell_type": "code",
      "source": [
        "ols_reg = sm.OLS.from_formula(\"lwage ~ educ + exper + black + south + married + smsa\", \n",
        "              data = card).fit()\n",
        "\n",
        "ols_reg.summary()"
      ],
      "metadata": {
        "colab": {
          "base_uri": "https://localhost:8080/",
          "height": 549
        },
        "id": "8AaWtLNaGmCI",
        "outputId": "2dad6175-d711-476b-ab7c-5a9000f0e894"
      },
      "execution_count": 8,
      "outputs": [
        {
          "output_type": "execute_result",
          "data": {
            "text/plain": [
              "<class 'statsmodels.iolib.summary.Summary'>\n",
              "\"\"\"\n",
              "                            OLS Regression Results                            \n",
              "==============================================================================\n",
              "Dep. Variable:                  lwage   R-squared:                       0.305\n",
              "Model:                            OLS   Adj. R-squared:                  0.304\n",
              "Method:                 Least Squares   F-statistic:                     219.2\n",
              "Date:                Fri, 09 Dec 2022   Prob (F-statistic):          1.97e-232\n",
              "Time:                        22:56:10   Log-Likelihood:                -1273.9\n",
              "No. Observations:                3003   AIC:                             2562.\n",
              "Df Residuals:                    2996   BIC:                             2604.\n",
              "Df Model:                           6                                         \n",
              "Covariance Type:            nonrobust                                         \n",
              "==============================================================================\n",
              "                 coef    std err          t      P>|t|      [0.025      0.975]\n",
              "------------------------------------------------------------------------------\n",
              "Intercept      5.0633      0.064     79.437      0.000       4.938       5.188\n",
              "educ           0.0712      0.003     20.438      0.000       0.064       0.078\n",
              "exper          0.0342      0.002     15.422      0.000       0.030       0.038\n",
              "black         -0.1660      0.018     -9.426      0.000      -0.201      -0.131\n",
              "south         -0.1316      0.015     -8.788      0.000      -0.161      -0.102\n",
              "married       -0.0359      0.003    -10.547      0.000      -0.043      -0.029\n",
              "smsa           0.1758      0.015     11.372      0.000       0.145       0.206\n",
              "==============================================================================\n",
              "Omnibus:                       53.196   Durbin-Watson:                   1.858\n",
              "Prob(Omnibus):                  0.000   Jarque-Bera (JB):               69.430\n",
              "Skew:                          -0.231   Prob(JB):                     8.38e-16\n",
              "Kurtosis:                       3.584   Cond. No.                         154.\n",
              "==============================================================================\n",
              "\n",
              "Notes:\n",
              "[1] Standard Errors assume that the covariance matrix of the errors is correctly specified.\n",
              "\"\"\""
            ],
            "text/html": [
              "<table class=\"simpletable\">\n",
              "<caption>OLS Regression Results</caption>\n",
              "<tr>\n",
              "  <th>Dep. Variable:</th>          <td>lwage</td>      <th>  R-squared:         </th> <td>   0.305</td> \n",
              "</tr>\n",
              "<tr>\n",
              "  <th>Model:</th>                   <td>OLS</td>       <th>  Adj. R-squared:    </th> <td>   0.304</td> \n",
              "</tr>\n",
              "<tr>\n",
              "  <th>Method:</th>             <td>Least Squares</td>  <th>  F-statistic:       </th> <td>   219.2</td> \n",
              "</tr>\n",
              "<tr>\n",
              "  <th>Date:</th>             <td>Fri, 09 Dec 2022</td> <th>  Prob (F-statistic):</th> <td>1.97e-232</td>\n",
              "</tr>\n",
              "<tr>\n",
              "  <th>Time:</th>                 <td>22:56:10</td>     <th>  Log-Likelihood:    </th> <td> -1273.9</td> \n",
              "</tr>\n",
              "<tr>\n",
              "  <th>No. Observations:</th>      <td>  3003</td>      <th>  AIC:               </th> <td>   2562.</td> \n",
              "</tr>\n",
              "<tr>\n",
              "  <th>Df Residuals:</th>          <td>  2996</td>      <th>  BIC:               </th> <td>   2604.</td> \n",
              "</tr>\n",
              "<tr>\n",
              "  <th>Df Model:</th>              <td>     6</td>      <th>                     </th>     <td> </td>    \n",
              "</tr>\n",
              "<tr>\n",
              "  <th>Covariance Type:</th>      <td>nonrobust</td>    <th>                     </th>     <td> </td>    \n",
              "</tr>\n",
              "</table>\n",
              "<table class=\"simpletable\">\n",
              "<tr>\n",
              "      <td></td>         <th>coef</th>     <th>std err</th>      <th>t</th>      <th>P>|t|</th>  <th>[0.025</th>    <th>0.975]</th>  \n",
              "</tr>\n",
              "<tr>\n",
              "  <th>Intercept</th> <td>    5.0633</td> <td>    0.064</td> <td>   79.437</td> <td> 0.000</td> <td>    4.938</td> <td>    5.188</td>\n",
              "</tr>\n",
              "<tr>\n",
              "  <th>educ</th>      <td>    0.0712</td> <td>    0.003</td> <td>   20.438</td> <td> 0.000</td> <td>    0.064</td> <td>    0.078</td>\n",
              "</tr>\n",
              "<tr>\n",
              "  <th>exper</th>     <td>    0.0342</td> <td>    0.002</td> <td>   15.422</td> <td> 0.000</td> <td>    0.030</td> <td>    0.038</td>\n",
              "</tr>\n",
              "<tr>\n",
              "  <th>black</th>     <td>   -0.1660</td> <td>    0.018</td> <td>   -9.426</td> <td> 0.000</td> <td>   -0.201</td> <td>   -0.131</td>\n",
              "</tr>\n",
              "<tr>\n",
              "  <th>south</th>     <td>   -0.1316</td> <td>    0.015</td> <td>   -8.788</td> <td> 0.000</td> <td>   -0.161</td> <td>   -0.102</td>\n",
              "</tr>\n",
              "<tr>\n",
              "  <th>married</th>   <td>   -0.0359</td> <td>    0.003</td> <td>  -10.547</td> <td> 0.000</td> <td>   -0.043</td> <td>   -0.029</td>\n",
              "</tr>\n",
              "<tr>\n",
              "  <th>smsa</th>      <td>    0.1758</td> <td>    0.015</td> <td>   11.372</td> <td> 0.000</td> <td>    0.145</td> <td>    0.206</td>\n",
              "</tr>\n",
              "</table>\n",
              "<table class=\"simpletable\">\n",
              "<tr>\n",
              "  <th>Omnibus:</th>       <td>53.196</td> <th>  Durbin-Watson:     </th> <td>   1.858</td>\n",
              "</tr>\n",
              "<tr>\n",
              "  <th>Prob(Omnibus):</th> <td> 0.000</td> <th>  Jarque-Bera (JB):  </th> <td>  69.430</td>\n",
              "</tr>\n",
              "<tr>\n",
              "  <th>Skew:</th>          <td>-0.231</td> <th>  Prob(JB):          </th> <td>8.38e-16</td>\n",
              "</tr>\n",
              "<tr>\n",
              "  <th>Kurtosis:</th>      <td> 3.584</td> <th>  Cond. No.          </th> <td>    154.</td>\n",
              "</tr>\n",
              "</table><br/><br/>Notes:<br/>[1] Standard Errors assume that the covariance matrix of the errors is correctly specified."
            ]
          },
          "metadata": {},
          "execution_count": 8
        }
      ]
    }
  ]
}