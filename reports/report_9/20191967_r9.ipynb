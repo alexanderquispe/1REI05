{
 "cells": [
  {
   "cell_type": "markdown",
   "id": "b2b4741c",
   "metadata": {},
   "source": [
    "**Reporte 9**\n",
    "\n",
    "1. ¿Cuál es la pregunta de investigación del artículo?\n",
    "\n",
    "Según la siguiente cita: \"In this paper, we provide quasi- experimental estimates of the impact of social media on mental health\" (Braghieri, Levy, and Makarin, 2022), se puede plantear que los autores del artículo tuvieron como pregunta de investigación lo siguiente: ¿Cuáles son los impactos de las redes sociales, en específico de Facebook, sobre la salud mental de las personas en edad universitaria?\n",
    "\n",
    "2. ¿Cuáles son las fortalezas y debilidades del enfoque del documento para responder a esa pregunta?\n",
    "\n",
    "Una fortaleza que cabe destacar es el método que utilizan los investigadores para el tratamiento de la pregunta de investigación. En ese sentido, recurren al método (quasi)experimental de modo que, al introducir Facebook de forma escalonada en las universidades, se ha logrado establecer conclusiones certeras sobre el verdadero impacto de las redes sociales y su relación con la salud mental. De igual manera, el artículo tiene a su favor el hecho de que utiliza la encuesta National College Health Assessment (según se menciona, la encuesta más completa para asesorar la salud mental al momento en que Facebook estaba en expasión) como una de sus principales bases de datos. Así, la introdiucción escalonada de Facebook permitió a los autores obtener estimaciones causales sobre la intriducción de las redes sociales sobre la salud mental de los estudiantes, a la par que permitió descartar factores de confusión (diferencias específicas de las universidades, diferencias a lo largo del tiempo que afectan a todos los estudiantes de manera similar, y tendencias de salud mental que afectan a las universidades en diferentes grupos de expansión de Facebook de manera diferente, pero sin problemas) (Braghieri, Levy, and Makarin, 2022). Por otro lado, una debilidad de este enfoque podría ser la falta de consideración que toma a ciertas circunstacias asociadas al uso de redes sociales como Facebook. Por ejemplo: La mayor exposición al ciberacoso (el cual permite que sus ejecutores actúen bajo el anonimato y conmina a sus víctimas a sufrir sus consecuencias incluso desde el hogar), la mayor exposición a la procrastinación (debido a que Facebook, desde sus inicios, ha utilizado estrategias de retención de la atención de sus usuarios, por lo que estos podrían estar más expuestos a dejar de lado sus responsabilidades académicas).\n",
    "\n",
    "3. ¿Cómo avanza este documento el conocimiento sobre la pregunta, es decir, cuál es la contribución? (Si no puede encontrar ninguna contribución, pregúntese por qué el editor y los árbitros decidieron publicar el artículo).\n",
    "\n",
    "A pesar de lo anterior, el artículo logra establecer de manera concluyente que el impacto de las redes sociales, en específico Facebok, sobre la salud mental de estudiantes universitarios, es el siguiente. Principalmente, que la introducción de Facebook en las universidades tiene un impacto negativo sobre la salud mental de los estudiantes, debido a que incrementa la capacidad de los estudiantes para desarrollar comparaciones sociales que les son desfavorables. A su vez, concluye que este impacto negativo es aún mayor en estudiantes que, debido a sus características inmutables, son más propensos a desarrollar enfermedades mentales. Concluye que, del corto al mediano plazo, estos efectos negativos se incrementan a medida que aumenta la exposición a la plataforma. Finalmente, el artículo encuentra que los estudiantes reportaron haber sufrido algunos efectos secundarios negativos como resultado del empeoramiento de sus condiciones de salud mental (Braghieri, Levy, and Makarin, 2022).\n",
    "\n",
    "4. ¿Cuáles serían uno o dos próximos pasos específicos para avanzar en esta pregunta? (Lean otros artículos relacionados)\n",
    "\n",
    "En consonancia con lo anterior, se propone lo siguiente: El análisis del efecto de retención de la plataforma Facebook sobre la salud mental y el comportamiento de estudiantes universitarios. Al respecto, la literatura consultada concluyó que \"el 87.1% evidencian un nivel de adicción al Facebook moderado, indicándonos que los estudiantes tienden a presentar comportamientos adictivos. Sigue el nivel leve con un 11.5%. Un 0,9% correspondiente a 2 estudiantes presentan un nivel de adicción severa (Condori, Mamani, Mamani-Cachicatari, 2016). De esta manera, un próximo paso en la pregunta de investigación sería la determinación de los efectos de Facebook, y la adicción que este genera, sobre la salud mental de estudiantes universitarios.\n",
    "\n",
    "Bibliografía\n",
    "\n",
    "Luca Braghieri, Ro’ee Levy, and Alexey Makarin (2022). Social Media and Mental Health.\n",
    "\n",
    "Condori Huanca, Yuli Nélida; Mamani Coaquira, Karla Yosimy; Mamani-Cachicatari, Germán. "
   ]
  }
 ],
 "metadata": {
  "kernelspec": {
   "display_name": "Python 3 (ipykernel)",
   "language": "python",
   "name": "python3"
  },
  "language_info": {
   "codemirror_mode": {
    "name": "ipython",
    "version": 3
   },
   "file_extension": ".py",
   "mimetype": "text/x-python",
   "name": "python",
   "nbconvert_exporter": "python",
   "pygments_lexer": "ipython3",
   "version": "3.9.12"
  }
 },
 "nbformat": 4,
 "nbformat_minor": 5
}
