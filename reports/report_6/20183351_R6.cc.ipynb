{
 "cells": [
  {
   "cell_type": "markdown",
   "id": "fe29187a",
   "metadata": {},
   "source": [
    "## REPORTE 6"
   ]
  },
  {
   "cell_type": "markdown",
   "id": "68caf9f7",
   "metadata": {},
   "source": [
    "$CLAUDIA  -  CABREL$"
   ]
  },
  {
   "cell_type": "markdown",
   "id": "fbba8cfb",
   "metadata": {},
   "source": [
    "$20183351$"
   ]
  },
  {
   "cell_type": "markdown",
   "id": "e415c775",
   "metadata": {},
   "source": [
    "    ¿Cuál es la pregunta de investigación del artículo?\n",
    "    \n",
    "    ¿Cuáles son las fortalezas y debilidades del enfoque del documento para responder a esa pregunta?\n",
    "    \n",
    "    ¿Cómo avanza este documento el conocimiento sobre la pregunta, es decir, cuál es la contribución? (Si no puede encontrar ninguna contribución, pregúntese por qué el editor y los árbitros decidieron publicar el artículo).\n",
    "    \n",
    "    ¿Cuáles serían uno o dos próximos pasos específicos para avanzar en esta pregunta? (Lean otros artículos relacionados)"
   ]
  },
  {
   "attachments": {},
   "cell_type": "markdown",
   "id": "bf991283",
   "metadata": {},
   "source": [
    "    Respuesta:\n",
    "    La artículo en cuestión busca realizar un análisis a un grupo seleccionado de estudiantes, unos de bajos recursos y con la cualidad de mantener un alto rendimiento acádemico; y por otra parte, estudiantes con un mayor ingreso económico y un rendimiento acádemico regular. \n",
    "    A continuación se mencionarán las fortalezas y debilidades del texto presentado por el autor. En primer lugar, acerca de las fortalezas, se observa que hicieron uso, como parte de su análisis, de patrones de comportamiento que aportarían al trabajo como argumento para sustenar situaciones que se dan luego, como por ejemplo haber obtenido como resultado que, teniendo en cuental los patrones regionales, las áreas más afectadas eran las rurales. Asimismo, la ejemplificación fue de mucha ayuda debido a que al ser bastante descriptivo ayudó a una mayor comprensión de la teoría para los lectores. En segundo lugar, acerca de las debilidades, se observa que si bien se tomaron en consideración factores para evaluar la heterogeneidad, como lo es el sexo, la raza, logros académicos y desventajas económicas, no se tomó en consideración la influencia en los resultados del factor edad, por ejemplo; esto se considera una debilidad debido a que este es de gran importancia al momento de tomar una desición por parte de los alumnos respecto al periodo de tiempo que desea dedicarle a sus estudios (teniendo en consideración que un alumno de 20 años no tendrá la misma perspectiva de tiempo que uno de 40). También, se observó que los resultados obtenidos por aquellos alumnos que recibieron el parque del programa HAIL y no ingresaron no fueron utilizados dentro de los resultados.\n",
    "    Acerca de la contribución del autor en la pregunta de investigación y del tema en general, se logra captar que el autor logra enlazar la influencia de bajos ingresos, tanto desde la parte social como también en la parte estructural-jerárquica de la economía.\n",
    "    Finalmente, se agrega como recomendación que para el análisis del estudio realizado se debió haber agregado como una variable importante a tomar en consideración la vida personal de los estudiantes, en aspectos emcionales como de tareas; por ejemplo, si es que estos padecen de alguna condición médica que les impida poder continuar con sus estudios a pesar de haber tenido un buen rendimiento académico, o también si es que estos no tienen el tiempo para dedicarle a la unviersidad debido a que deben trabajar."
   ]
  }
 ],
 "metadata": {
  "kernelspec": {
   "display_name": "Python 3 (ipykernel)",
   "language": "python",
   "name": "python3"
  },
  "language_info": {
   "codemirror_mode": {
    "name": "ipython",
    "version": 3
   },
   "file_extension": ".py",
   "mimetype": "text/x-python",
   "name": "python",
   "nbconvert_exporter": "python",
   "pygments_lexer": "ipython3",
   "version": "3.9.12"
  }
 },
 "nbformat": 4,
 "nbformat_minor": 5
}
