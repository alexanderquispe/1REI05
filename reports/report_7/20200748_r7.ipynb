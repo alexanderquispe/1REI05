{
 "cells": [
  {
   "cell_type": "code",
   "execution_count": 1,
   "id": "4a2c26d3",
   "metadata": {},
   "outputs": [],
   "source": [
    "import numpy as np\n",
    "import pandas as pd\n",
    "import matplotlib.pyplot as plt\n",
    "import seaborn as sns, warnings\n",
    "import statsmodels.formula.api as smf\n",
    "warnings.filterwarnings('ignore')\n",
    "from causalgraphicalmodels import CausalGraphicalModel\n",
    "from cProfile import label\n",
    "%matplotlib inline\n",
    "import linearmodels.iv.model as lm\n",
    "from linearmodels.iv import IV2SLS\n",
    "import plotnine as p"
   ]
  },
  {
   "cell_type": "code",
   "execution_count": 2,
   "id": "dcc044d5",
   "metadata": {},
   "outputs": [],
   "source": [
    "from causalgraphicalmodels import CausalGraphicalModel\n",
    "import os\n",
    "#os.environ[\"PATH\"] += os.pathsep + 'C:/Program Files/Graphviz/bin/'\n",
    "import numpy as np \n",
    "import pandas as pd \n",
    "import statsmodels.api as sm \n",
    "import statsmodels.formula.api as smf \n",
    "from itertools import combinations \n",
    "#import plotnine as p\n",
    "import statsmodels.api as sm\n",
    "import statsmodels.formula.api as smf\n",
    "import linearmodels.iv.model as lm\n",
    "from linearmodels.iv import IV2SLS\n",
    "from statsmodels.iolib.summary2 import summary_col\n",
    "import pyreadr"
   ]
  },
  {
   "cell_type": "markdown",
   "id": "bbb5657c",
   "metadata": {},
   "source": [
    "# REPORTE 7:"
   ]
  },
  {
   "cell_type": "markdown",
   "id": "fbb29f3e",
   "metadata": {},
   "source": [
    "Trabajo conjunto con Roxana Rodríguez (20200373), Greysi Arrelucea (20200279) y María Fernanda Carrillo (20201596)"
   ]
  },
  {
   "cell_type": "markdown",
   "id": "cf2f5710",
   "metadata": {},
   "source": [
    "## Parte 1: Código"
   ]
  },
  {
   "cell_type": "markdown",
   "id": "3c89c137",
   "metadata": {},
   "source": [
    "## Ploteo de Histogramas"
   ]
  },
  {
   "cell_type": "markdown",
   "id": "4560496b",
   "metadata": {},
   "source": [
    "### Subiendo la data"
   ]
  },
  {
   "cell_type": "code",
   "execution_count": 3,
   "id": "6df15172",
   "metadata": {},
   "outputs": [
    {
     "name": "stdout",
     "output_type": "stream",
     "text": [
      "(323, 10)\n"
     ]
    },
    {
     "data": {
      "text/html": [
       "<div>\n",
       "<style scoped>\n",
       "    .dataframe tbody tr th:only-of-type {\n",
       "        vertical-align: middle;\n",
       "    }\n",
       "\n",
       "    .dataframe tbody tr th {\n",
       "        vertical-align: top;\n",
       "    }\n",
       "\n",
       "    .dataframe thead th {\n",
       "        text-align: right;\n",
       "    }\n",
       "</style>\n",
       "<table border=\"1\" class=\"dataframe\">\n",
       "  <thead>\n",
       "    <tr style=\"text-align: right;\">\n",
       "      <th></th>\n",
       "      <th>gender</th>\n",
       "      <th>asian</th>\n",
       "      <th>black</th>\n",
       "      <th>hawaiian</th>\n",
       "      <th>hispanic</th>\n",
       "      <th>unknown</th>\n",
       "      <th>white</th>\n",
       "      <th>format_ol</th>\n",
       "      <th>format_blended</th>\n",
       "      <th>falsexam</th>\n",
       "    </tr>\n",
       "  </thead>\n",
       "  <tbody>\n",
       "    <tr>\n",
       "      <th>0</th>\n",
       "      <td>0</td>\n",
       "      <td>0.0</td>\n",
       "      <td>0.0</td>\n",
       "      <td>0.0</td>\n",
       "      <td>0.0</td>\n",
       "      <td>0.0</td>\n",
       "      <td>1.0</td>\n",
       "      <td>0</td>\n",
       "      <td>0.0</td>\n",
       "      <td>63.29997</td>\n",
       "    </tr>\n",
       "    <tr>\n",
       "      <th>1</th>\n",
       "      <td>1</td>\n",
       "      <td>0.0</td>\n",
       "      <td>0.0</td>\n",
       "      <td>0.0</td>\n",
       "      <td>0.0</td>\n",
       "      <td>0.0</td>\n",
       "      <td>1.0</td>\n",
       "      <td>0</td>\n",
       "      <td>0.0</td>\n",
       "      <td>79.96000</td>\n",
       "    </tr>\n",
       "    <tr>\n",
       "      <th>2</th>\n",
       "      <td>1</td>\n",
       "      <td>0.0</td>\n",
       "      <td>0.0</td>\n",
       "      <td>0.0</td>\n",
       "      <td>0.0</td>\n",
       "      <td>0.0</td>\n",
       "      <td>1.0</td>\n",
       "      <td>0</td>\n",
       "      <td>1.0</td>\n",
       "      <td>83.37000</td>\n",
       "    </tr>\n",
       "    <tr>\n",
       "      <th>3</th>\n",
       "      <td>1</td>\n",
       "      <td>0.0</td>\n",
       "      <td>0.0</td>\n",
       "      <td>0.0</td>\n",
       "      <td>0.0</td>\n",
       "      <td>0.0</td>\n",
       "      <td>1.0</td>\n",
       "      <td>0</td>\n",
       "      <td>1.0</td>\n",
       "      <td>90.01994</td>\n",
       "    </tr>\n",
       "    <tr>\n",
       "      <th>4</th>\n",
       "      <td>1</td>\n",
       "      <td>0.0</td>\n",
       "      <td>0.0</td>\n",
       "      <td>0.0</td>\n",
       "      <td>0.0</td>\n",
       "      <td>0.0</td>\n",
       "      <td>1.0</td>\n",
       "      <td>1</td>\n",
       "      <td>0.0</td>\n",
       "      <td>83.30000</td>\n",
       "    </tr>\n",
       "  </tbody>\n",
       "</table>\n",
       "</div>"
      ],
      "text/plain": [
       "   gender  asian  black  hawaiian  hispanic  unknown  white  format_ol  \\\n",
       "0       0    0.0    0.0       0.0       0.0      0.0    1.0          0   \n",
       "1       1    0.0    0.0       0.0       0.0      0.0    1.0          0   \n",
       "2       1    0.0    0.0       0.0       0.0      0.0    1.0          0   \n",
       "3       1    0.0    0.0       0.0       0.0      0.0    1.0          0   \n",
       "4       1    0.0    0.0       0.0       0.0      0.0    1.0          1   \n",
       "\n",
       "   format_blended  falsexam  \n",
       "0             0.0  63.29997  \n",
       "1             0.0  79.96000  \n",
       "2             1.0  83.37000  \n",
       "3             1.0  90.01994  \n",
       "4             0.0  83.30000  "
      ]
     },
     "execution_count": 3,
     "metadata": {},
     "output_type": "execute_result"
    }
   ],
   "source": [
    "data = pd.read_csv('https://github.com/matheusfacure/python-causality-handbook/raw/master/causal-inference-for-the-brave-and-true/data/online_classroom.csv')\n",
    "print(data.shape)\n",
    "data.head()"
   ]
  },
  {
   "cell_type": "markdown",
   "id": "5791e7f0",
   "metadata": {},
   "source": [
    "#### Creación de la columna que identifica el tipo de clases:"
   ]
  },
  {
   "cell_type": "code",
   "execution_count": 8,
   "id": "4a202ef1",
   "metadata": {},
   "outputs": [],
   "source": [
    "# creado una columna extra para clasificar\n",
    "data_2 = (data\n",
    " .assign(class_format = np.select(\n",
    "     [data[\"format_ol\"].astype(bool), data[\"format_blended\"].astype(bool)],\n",
    "     [\"online\", \"blended\"],\n",
    "     default=\"face_to_face\" #create a new variable\n",
    " ))) #group by the new variable (treatments)"
   ]
  },
  {
   "cell_type": "code",
   "execution_count": 9,
   "id": "d7772ba8",
   "metadata": {
    "scrolled": false
   },
   "outputs": [
    {
     "data": {
      "text/html": [
       "<div>\n",
       "<style scoped>\n",
       "    .dataframe tbody tr th:only-of-type {\n",
       "        vertical-align: middle;\n",
       "    }\n",
       "\n",
       "    .dataframe tbody tr th {\n",
       "        vertical-align: top;\n",
       "    }\n",
       "\n",
       "    .dataframe thead th {\n",
       "        text-align: right;\n",
       "    }\n",
       "</style>\n",
       "<table border=\"1\" class=\"dataframe\">\n",
       "  <thead>\n",
       "    <tr style=\"text-align: right;\">\n",
       "      <th></th>\n",
       "      <th>gender</th>\n",
       "      <th>asian</th>\n",
       "      <th>black</th>\n",
       "      <th>hawaiian</th>\n",
       "      <th>hispanic</th>\n",
       "      <th>unknown</th>\n",
       "      <th>white</th>\n",
       "      <th>format_ol</th>\n",
       "      <th>format_blended</th>\n",
       "      <th>falsexam</th>\n",
       "      <th>class_format</th>\n",
       "    </tr>\n",
       "  </thead>\n",
       "  <tbody>\n",
       "    <tr>\n",
       "      <th>0</th>\n",
       "      <td>0</td>\n",
       "      <td>0.0</td>\n",
       "      <td>0.0</td>\n",
       "      <td>0.0</td>\n",
       "      <td>0.0</td>\n",
       "      <td>0.0</td>\n",
       "      <td>1.0</td>\n",
       "      <td>0</td>\n",
       "      <td>0.0</td>\n",
       "      <td>63.29997</td>\n",
       "      <td>face_to_face</td>\n",
       "    </tr>\n",
       "    <tr>\n",
       "      <th>1</th>\n",
       "      <td>1</td>\n",
       "      <td>0.0</td>\n",
       "      <td>0.0</td>\n",
       "      <td>0.0</td>\n",
       "      <td>0.0</td>\n",
       "      <td>0.0</td>\n",
       "      <td>1.0</td>\n",
       "      <td>0</td>\n",
       "      <td>0.0</td>\n",
       "      <td>79.96000</td>\n",
       "      <td>face_to_face</td>\n",
       "    </tr>\n",
       "    <tr>\n",
       "      <th>2</th>\n",
       "      <td>1</td>\n",
       "      <td>0.0</td>\n",
       "      <td>0.0</td>\n",
       "      <td>0.0</td>\n",
       "      <td>0.0</td>\n",
       "      <td>0.0</td>\n",
       "      <td>1.0</td>\n",
       "      <td>0</td>\n",
       "      <td>1.0</td>\n",
       "      <td>83.37000</td>\n",
       "      <td>blended</td>\n",
       "    </tr>\n",
       "    <tr>\n",
       "      <th>3</th>\n",
       "      <td>1</td>\n",
       "      <td>0.0</td>\n",
       "      <td>0.0</td>\n",
       "      <td>0.0</td>\n",
       "      <td>0.0</td>\n",
       "      <td>0.0</td>\n",
       "      <td>1.0</td>\n",
       "      <td>0</td>\n",
       "      <td>1.0</td>\n",
       "      <td>90.01994</td>\n",
       "      <td>blended</td>\n",
       "    </tr>\n",
       "    <tr>\n",
       "      <th>4</th>\n",
       "      <td>1</td>\n",
       "      <td>0.0</td>\n",
       "      <td>0.0</td>\n",
       "      <td>0.0</td>\n",
       "      <td>0.0</td>\n",
       "      <td>0.0</td>\n",
       "      <td>1.0</td>\n",
       "      <td>1</td>\n",
       "      <td>0.0</td>\n",
       "      <td>83.30000</td>\n",
       "      <td>online</td>\n",
       "    </tr>\n",
       "    <tr>\n",
       "      <th>...</th>\n",
       "      <td>...</td>\n",
       "      <td>...</td>\n",
       "      <td>...</td>\n",
       "      <td>...</td>\n",
       "      <td>...</td>\n",
       "      <td>...</td>\n",
       "      <td>...</td>\n",
       "      <td>...</td>\n",
       "      <td>...</td>\n",
       "      <td>...</td>\n",
       "      <td>...</td>\n",
       "    </tr>\n",
       "    <tr>\n",
       "      <th>318</th>\n",
       "      <td>0</td>\n",
       "      <td>0.0</td>\n",
       "      <td>0.0</td>\n",
       "      <td>0.0</td>\n",
       "      <td>0.0</td>\n",
       "      <td>0.0</td>\n",
       "      <td>1.0</td>\n",
       "      <td>0</td>\n",
       "      <td>1.0</td>\n",
       "      <td>68.36000</td>\n",
       "      <td>blended</td>\n",
       "    </tr>\n",
       "    <tr>\n",
       "      <th>319</th>\n",
       "      <td>1</td>\n",
       "      <td>NaN</td>\n",
       "      <td>NaN</td>\n",
       "      <td>NaN</td>\n",
       "      <td>NaN</td>\n",
       "      <td>NaN</td>\n",
       "      <td>NaN</td>\n",
       "      <td>1</td>\n",
       "      <td>0.0</td>\n",
       "      <td>70.05000</td>\n",
       "      <td>online</td>\n",
       "    </tr>\n",
       "    <tr>\n",
       "      <th>320</th>\n",
       "      <td>0</td>\n",
       "      <td>NaN</td>\n",
       "      <td>NaN</td>\n",
       "      <td>NaN</td>\n",
       "      <td>NaN</td>\n",
       "      <td>NaN</td>\n",
       "      <td>NaN</td>\n",
       "      <td>1</td>\n",
       "      <td>0.0</td>\n",
       "      <td>66.69000</td>\n",
       "      <td>online</td>\n",
       "    </tr>\n",
       "    <tr>\n",
       "      <th>321</th>\n",
       "      <td>1</td>\n",
       "      <td>NaN</td>\n",
       "      <td>NaN</td>\n",
       "      <td>NaN</td>\n",
       "      <td>NaN</td>\n",
       "      <td>NaN</td>\n",
       "      <td>NaN</td>\n",
       "      <td>1</td>\n",
       "      <td>0.0</td>\n",
       "      <td>83.29997</td>\n",
       "      <td>online</td>\n",
       "    </tr>\n",
       "    <tr>\n",
       "      <th>322</th>\n",
       "      <td>1</td>\n",
       "      <td>0.0</td>\n",
       "      <td>0.0</td>\n",
       "      <td>0.0</td>\n",
       "      <td>0.0</td>\n",
       "      <td>0.0</td>\n",
       "      <td>1.0</td>\n",
       "      <td>0</td>\n",
       "      <td>1.0</td>\n",
       "      <td>96.68000</td>\n",
       "      <td>blended</td>\n",
       "    </tr>\n",
       "  </tbody>\n",
       "</table>\n",
       "<p>323 rows × 11 columns</p>\n",
       "</div>"
      ],
      "text/plain": [
       "     gender  asian  black  hawaiian  hispanic  unknown  white  format_ol  \\\n",
       "0         0    0.0    0.0       0.0       0.0      0.0    1.0          0   \n",
       "1         1    0.0    0.0       0.0       0.0      0.0    1.0          0   \n",
       "2         1    0.0    0.0       0.0       0.0      0.0    1.0          0   \n",
       "3         1    0.0    0.0       0.0       0.0      0.0    1.0          0   \n",
       "4         1    0.0    0.0       0.0       0.0      0.0    1.0          1   \n",
       "..      ...    ...    ...       ...       ...      ...    ...        ...   \n",
       "318       0    0.0    0.0       0.0       0.0      0.0    1.0          0   \n",
       "319       1    NaN    NaN       NaN       NaN      NaN    NaN          1   \n",
       "320       0    NaN    NaN       NaN       NaN      NaN    NaN          1   \n",
       "321       1    NaN    NaN       NaN       NaN      NaN    NaN          1   \n",
       "322       1    0.0    0.0       0.0       0.0      0.0    1.0          0   \n",
       "\n",
       "     format_blended  falsexam  class_format  \n",
       "0               0.0  63.29997  face_to_face  \n",
       "1               0.0  79.96000  face_to_face  \n",
       "2               1.0  83.37000       blended  \n",
       "3               1.0  90.01994       blended  \n",
       "4               0.0  83.30000        online  \n",
       "..              ...       ...           ...  \n",
       "318             1.0  68.36000       blended  \n",
       "319             0.0  70.05000        online  \n",
       "320             0.0  66.69000        online  \n",
       "321             0.0  83.29997        online  \n",
       "322             1.0  96.68000       blended  \n",
       "\n",
       "[323 rows x 11 columns]"
      ]
     },
     "execution_count": 9,
     "metadata": {},
     "output_type": "execute_result"
    }
   ],
   "source": [
    "data_2"
   ]
  },
  {
   "cell_type": "markdown",
   "id": "c3f935ae",
   "metadata": {},
   "source": [
    "### Creación de los dummies"
   ]
  },
  {
   "cell_type": "code",
   "execution_count": 10,
   "id": "5aa39252",
   "metadata": {},
   "outputs": [
    {
     "data": {
      "text/html": [
       "<div>\n",
       "<style scoped>\n",
       "    .dataframe tbody tr th:only-of-type {\n",
       "        vertical-align: middle;\n",
       "    }\n",
       "\n",
       "    .dataframe tbody tr th {\n",
       "        vertical-align: top;\n",
       "    }\n",
       "\n",
       "    .dataframe thead th {\n",
       "        text-align: right;\n",
       "    }\n",
       "</style>\n",
       "<table border=\"1\" class=\"dataframe\">\n",
       "  <thead>\n",
       "    <tr style=\"text-align: right;\">\n",
       "      <th></th>\n",
       "      <th>gender</th>\n",
       "      <th>asian</th>\n",
       "      <th>black</th>\n",
       "      <th>hawaiian</th>\n",
       "      <th>hispanic</th>\n",
       "      <th>unknown</th>\n",
       "      <th>white</th>\n",
       "      <th>format_ol</th>\n",
       "      <th>format_blended</th>\n",
       "      <th>falsexam</th>\n",
       "      <th>class_format_blended</th>\n",
       "      <th>class_format_face_to_face</th>\n",
       "      <th>class_format_online</th>\n",
       "    </tr>\n",
       "  </thead>\n",
       "  <tbody>\n",
       "    <tr>\n",
       "      <th>0</th>\n",
       "      <td>0</td>\n",
       "      <td>0.0</td>\n",
       "      <td>0.0</td>\n",
       "      <td>0.0</td>\n",
       "      <td>0.0</td>\n",
       "      <td>0.0</td>\n",
       "      <td>1.0</td>\n",
       "      <td>0</td>\n",
       "      <td>0.0</td>\n",
       "      <td>63.29997</td>\n",
       "      <td>0</td>\n",
       "      <td>1</td>\n",
       "      <td>0</td>\n",
       "    </tr>\n",
       "    <tr>\n",
       "      <th>1</th>\n",
       "      <td>1</td>\n",
       "      <td>0.0</td>\n",
       "      <td>0.0</td>\n",
       "      <td>0.0</td>\n",
       "      <td>0.0</td>\n",
       "      <td>0.0</td>\n",
       "      <td>1.0</td>\n",
       "      <td>0</td>\n",
       "      <td>0.0</td>\n",
       "      <td>79.96000</td>\n",
       "      <td>0</td>\n",
       "      <td>1</td>\n",
       "      <td>0</td>\n",
       "    </tr>\n",
       "    <tr>\n",
       "      <th>2</th>\n",
       "      <td>1</td>\n",
       "      <td>0.0</td>\n",
       "      <td>0.0</td>\n",
       "      <td>0.0</td>\n",
       "      <td>0.0</td>\n",
       "      <td>0.0</td>\n",
       "      <td>1.0</td>\n",
       "      <td>0</td>\n",
       "      <td>1.0</td>\n",
       "      <td>83.37000</td>\n",
       "      <td>1</td>\n",
       "      <td>0</td>\n",
       "      <td>0</td>\n",
       "    </tr>\n",
       "    <tr>\n",
       "      <th>3</th>\n",
       "      <td>1</td>\n",
       "      <td>0.0</td>\n",
       "      <td>0.0</td>\n",
       "      <td>0.0</td>\n",
       "      <td>0.0</td>\n",
       "      <td>0.0</td>\n",
       "      <td>1.0</td>\n",
       "      <td>0</td>\n",
       "      <td>1.0</td>\n",
       "      <td>90.01994</td>\n",
       "      <td>1</td>\n",
       "      <td>0</td>\n",
       "      <td>0</td>\n",
       "    </tr>\n",
       "    <tr>\n",
       "      <th>4</th>\n",
       "      <td>1</td>\n",
       "      <td>0.0</td>\n",
       "      <td>0.0</td>\n",
       "      <td>0.0</td>\n",
       "      <td>0.0</td>\n",
       "      <td>0.0</td>\n",
       "      <td>1.0</td>\n",
       "      <td>1</td>\n",
       "      <td>0.0</td>\n",
       "      <td>83.30000</td>\n",
       "      <td>0</td>\n",
       "      <td>0</td>\n",
       "      <td>1</td>\n",
       "    </tr>\n",
       "  </tbody>\n",
       "</table>\n",
       "</div>"
      ],
      "text/plain": [
       "   gender  asian  black  hawaiian  hispanic  unknown  white  format_ol  \\\n",
       "0       0    0.0    0.0       0.0       0.0      0.0    1.0          0   \n",
       "1       1    0.0    0.0       0.0       0.0      0.0    1.0          0   \n",
       "2       1    0.0    0.0       0.0       0.0      0.0    1.0          0   \n",
       "3       1    0.0    0.0       0.0       0.0      0.0    1.0          0   \n",
       "4       1    0.0    0.0       0.0       0.0      0.0    1.0          1   \n",
       "\n",
       "   format_blended  falsexam  class_format_blended  class_format_face_to_face  \\\n",
       "0             0.0  63.29997                     0                          1   \n",
       "1             0.0  79.96000                     0                          1   \n",
       "2             1.0  83.37000                     1                          0   \n",
       "3             1.0  90.01994                     1                          0   \n",
       "4             0.0  83.30000                     0                          0   \n",
       "\n",
       "   class_format_online  \n",
       "0                    0  \n",
       "1                    0  \n",
       "2                    0  \n",
       "3                    0  \n",
       "4                    1  "
      ]
     },
     "execution_count": 10,
     "metadata": {},
     "output_type": "execute_result"
    }
   ],
   "source": [
    "pd.get_dummies(data_2, columns=[\"class_format\"]).head()"
   ]
  },
  {
   "cell_type": "markdown",
   "id": "06bc2200",
   "metadata": {},
   "source": [
    "### Creación del Histograma"
   ]
  },
  {
   "cell_type": "code",
   "execution_count": 13,
   "id": "b23a2ce6",
   "metadata": {},
   "outputs": [
    {
     "data": {
      "text/plain": [
       "Text(19.309791666666662, 0.5, 'Alumnos')"
      ]
     },
     "execution_count": 13,
     "metadata": {},
     "output_type": "execute_result"
    },
    {
     "data": {
      "image/png": "[encoded data removed]",
      "text/plain": [
       "<Figure size 458.625x360 with 1 Axes>"
      ]
     },
     "metadata": {
      "needs_background": "light"
     },
     "output_type": "display_data"
    }
   ],
   "source": [
    "sns.displot(data_2, x=\"falsexam\", hue=\"class_format\")  \n",
    "plt.title(\"Histograma de la Distribución de notas a partir de los tipos de clase\", fontsize=16)\n",
    "plt.xlabel(\"Distribución de notas\", fontsize=13)\n",
    "plt.ylabel(\"Alumnos\", fontsize=13)"
   ]
  },
  {
   "cell_type": "code",
   "execution_count": 24,
   "id": "e31647cf",
   "metadata": {},
   "outputs": [
    {
     "data": {
      "text/plain": [
       "<seaborn.axisgrid.FacetGrid at 0x292b21541c0>"
      ]
     },
     "execution_count": 24,
     "metadata": {},
     "output_type": "execute_result"
    },
    {
     "data": {
      "image/png": "[encoded data removed]",
      "text/plain": [
       "<Figure size 1080x360 with 3 Axes>"
      ]
     },
     "metadata": {
      "needs_background": "light"
     },
     "output_type": "display_data"
    }
   ],
   "source": [
    "sns.displot(data=data_2, x=\"falsexam\", col=\"class_format\")"
   ]
  },
  {
   "cell_type": "markdown",
   "id": "57208089",
   "metadata": {},
   "source": [
    "A partir de estos histogramas logramos apreciar que hay una diferencia en la distribución de la frecuencia del promedio de notas según el tipo de modalidad. En el grupo de clases presenciales hay menos distribución y presentan frecuencias más altas, en el grupo de clases híbridas hay mayor disperción y variación de las notas, pero todavía vemos altos picos en notas altas, y en el formato de clases online hay un poquito menos de disperción, pero si hay una menor frecuencia de notas altas e incluso hay datos atípicos. En este sentido, se podría concluir que los estudiantes que tienden a obtener notas más altas reciben clases presenciales, los estudiantes que tiende a obtener notas medianamente altas y medio son quienes reciben clases en el formato híbido, y los estudiantes que tienden a obtener notas con una distribución más baja en comparación con otros son quienes reciben clases online. "
   ]
  },
  {
   "cell_type": "markdown",
   "id": "05f901ec",
   "metadata": {},
   "source": [
    "## Difference-in-means estimator."
   ]
  },
  {
   "cell_type": "markdown",
   "id": "563a3d9c",
   "metadata": {},
   "source": [
    "Crear un nuevo dataset donde solo incluyan estos dos grupos\n",
    "Calculan el promedio del grupo online lessons\n",
    "Calculan el primdeio del grupo face-to-face\n",
    "Toman la diferencia entre el valor encontrado en 2 y el valor en 3."
   ]
  },
  {
   "cell_type": "markdown",
   "id": "6c35757f",
   "metadata": {},
   "source": [
    "### Crear un nuevo dataset donde solo incluyan estos dos grupos: face-to-face y online lessons"
   ]
  },
  {
   "cell_type": "code",
   "execution_count": 14,
   "id": "7ecfcb4f",
   "metadata": {},
   "outputs": [
    {
     "data": {
      "text/html": [
       "<div>\n",
       "<style scoped>\n",
       "    .dataframe tbody tr th:only-of-type {\n",
       "        vertical-align: middle;\n",
       "    }\n",
       "\n",
       "    .dataframe tbody tr th {\n",
       "        vertical-align: top;\n",
       "    }\n",
       "\n",
       "    .dataframe thead th {\n",
       "        text-align: right;\n",
       "    }\n",
       "</style>\n",
       "<table border=\"1\" class=\"dataframe\">\n",
       "  <thead>\n",
       "    <tr style=\"text-align: right;\">\n",
       "      <th></th>\n",
       "      <th>class_format</th>\n",
       "      <th>falsexam</th>\n",
       "    </tr>\n",
       "  </thead>\n",
       "  <tbody>\n",
       "    <tr>\n",
       "      <th>0</th>\n",
       "      <td>face_to_face</td>\n",
       "      <td>63.29997</td>\n",
       "    </tr>\n",
       "    <tr>\n",
       "      <th>1</th>\n",
       "      <td>face_to_face</td>\n",
       "      <td>79.96000</td>\n",
       "    </tr>\n",
       "    <tr>\n",
       "      <th>2</th>\n",
       "      <td>blended</td>\n",
       "      <td>83.37000</td>\n",
       "    </tr>\n",
       "    <tr>\n",
       "      <th>3</th>\n",
       "      <td>blended</td>\n",
       "      <td>90.01994</td>\n",
       "    </tr>\n",
       "    <tr>\n",
       "      <th>4</th>\n",
       "      <td>online</td>\n",
       "      <td>83.30000</td>\n",
       "    </tr>\n",
       "    <tr>\n",
       "      <th>5</th>\n",
       "      <td>online</td>\n",
       "      <td>88.34996</td>\n",
       "    </tr>\n",
       "    <tr>\n",
       "      <th>6</th>\n",
       "      <td>blended</td>\n",
       "      <td>78.40000</td>\n",
       "    </tr>\n",
       "    <tr>\n",
       "      <th>7</th>\n",
       "      <td>face_to_face</td>\n",
       "      <td>90.00000</td>\n",
       "    </tr>\n",
       "    <tr>\n",
       "      <th>8</th>\n",
       "      <td>face_to_face</td>\n",
       "      <td>88.31000</td>\n",
       "    </tr>\n",
       "    <tr>\n",
       "      <th>9</th>\n",
       "      <td>online</td>\n",
       "      <td>73.37000</td>\n",
       "    </tr>\n",
       "  </tbody>\n",
       "</table>\n",
       "</div>"
      ],
      "text/plain": [
       "   class_format  falsexam\n",
       "0  face_to_face  63.29997\n",
       "1  face_to_face  79.96000\n",
       "2       blended  83.37000\n",
       "3       blended  90.01994\n",
       "4        online  83.30000\n",
       "5        online  88.34996\n",
       "6       blended  78.40000\n",
       "7  face_to_face  90.00000\n",
       "8  face_to_face  88.31000\n",
       "9        online  73.37000"
      ]
     },
     "execution_count": 14,
     "metadata": {},
     "output_type": "execute_result"
    }
   ],
   "source": [
    "d_mean = data_2[['class_format','falsexam']]\n",
    "d_mean.head(10)"
   ]
  },
  {
   "cell_type": "markdown",
   "id": "258b1e52",
   "metadata": {},
   "source": [
    "#### Separar los grupos entre quienes reciben clases presenciales y aquellos que reciben clases virtuales"
   ]
  },
  {
   "cell_type": "code",
   "execution_count": 15,
   "id": "a266e062",
   "metadata": {},
   "outputs": [
    {
     "data": {
      "text/plain": [
       "['face_to_face', 'online']"
      ]
     },
     "execution_count": 15,
     "metadata": {},
     "output_type": "execute_result"
    }
   ],
   "source": [
    "grupos_div=[\"face_to_face\", \"online\"] #\n",
    "grupos_div"
   ]
  },
  {
   "cell_type": "markdown",
   "id": "1cb21be1",
   "metadata": {},
   "source": [
    "#### Crear nuevo subdata que solo tome en cuenta los valores de estos dos grupos "
   ]
  },
  {
   "cell_type": "code",
   "execution_count": 17,
   "id": "7e8ddb0b",
   "metadata": {},
   "outputs": [
    {
     "data": {
      "text/html": [
       "<div>\n",
       "<style scoped>\n",
       "    .dataframe tbody tr th:only-of-type {\n",
       "        vertical-align: middle;\n",
       "    }\n",
       "\n",
       "    .dataframe tbody tr th {\n",
       "        vertical-align: top;\n",
       "    }\n",
       "\n",
       "    .dataframe thead th {\n",
       "        text-align: right;\n",
       "    }\n",
       "</style>\n",
       "<table border=\"1\" class=\"dataframe\">\n",
       "  <thead>\n",
       "    <tr style=\"text-align: right;\">\n",
       "      <th></th>\n",
       "      <th>class_format</th>\n",
       "      <th>falsexam</th>\n",
       "    </tr>\n",
       "  </thead>\n",
       "  <tbody>\n",
       "    <tr>\n",
       "      <th>0</th>\n",
       "      <td>face_to_face</td>\n",
       "      <td>63.29997</td>\n",
       "    </tr>\n",
       "    <tr>\n",
       "      <th>1</th>\n",
       "      <td>face_to_face</td>\n",
       "      <td>79.96000</td>\n",
       "    </tr>\n",
       "    <tr>\n",
       "      <th>4</th>\n",
       "      <td>online</td>\n",
       "      <td>83.30000</td>\n",
       "    </tr>\n",
       "    <tr>\n",
       "      <th>5</th>\n",
       "      <td>online</td>\n",
       "      <td>88.34996</td>\n",
       "    </tr>\n",
       "    <tr>\n",
       "      <th>7</th>\n",
       "      <td>face_to_face</td>\n",
       "      <td>90.00000</td>\n",
       "    </tr>\n",
       "    <tr>\n",
       "      <th>...</th>\n",
       "      <td>...</td>\n",
       "      <td>...</td>\n",
       "    </tr>\n",
       "    <tr>\n",
       "      <th>316</th>\n",
       "      <td>face_to_face</td>\n",
       "      <td>91.65000</td>\n",
       "    </tr>\n",
       "    <tr>\n",
       "      <th>317</th>\n",
       "      <td>face_to_face</td>\n",
       "      <td>84.99000</td>\n",
       "    </tr>\n",
       "    <tr>\n",
       "      <th>319</th>\n",
       "      <td>online</td>\n",
       "      <td>70.05000</td>\n",
       "    </tr>\n",
       "    <tr>\n",
       "      <th>320</th>\n",
       "      <td>online</td>\n",
       "      <td>66.69000</td>\n",
       "    </tr>\n",
       "    <tr>\n",
       "      <th>321</th>\n",
       "      <td>online</td>\n",
       "      <td>83.29997</td>\n",
       "    </tr>\n",
       "  </tbody>\n",
       "</table>\n",
       "<p>214 rows × 2 columns</p>\n",
       "</div>"
      ],
      "text/plain": [
       "     class_format  falsexam\n",
       "0    face_to_face  63.29997\n",
       "1    face_to_face  79.96000\n",
       "4          online  83.30000\n",
       "5          online  88.34996\n",
       "7    face_to_face  90.00000\n",
       "..            ...       ...\n",
       "316  face_to_face  91.65000\n",
       "317  face_to_face  84.99000\n",
       "319        online  70.05000\n",
       "320        online  66.69000\n",
       "321        online  83.29997\n",
       "\n",
       "[214 rows x 2 columns]"
      ]
     },
     "execution_count": 17,
     "metadata": {},
     "output_type": "execute_result"
    }
   ],
   "source": [
    "D_MEAN = d_mean[d_mean['class_format'].isin(grupos_div)]\n",
    "D_MEAN"
   ]
  },
  {
   "cell_type": "markdown",
   "id": "31dd5f18",
   "metadata": {},
   "source": [
    "### Calcular el promedio de las notas del face-to-face clases y los online lessons"
   ]
  },
  {
   "cell_type": "code",
   "execution_count": 18,
   "id": "1a8f301e",
   "metadata": {},
   "outputs": [
    {
     "data": {
      "text/html": [
       "<div>\n",
       "<style scoped>\n",
       "    .dataframe tbody tr th:only-of-type {\n",
       "        vertical-align: middle;\n",
       "    }\n",
       "\n",
       "    .dataframe tbody tr th {\n",
       "        vertical-align: top;\n",
       "    }\n",
       "\n",
       "    .dataframe thead th {\n",
       "        text-align: right;\n",
       "    }\n",
       "</style>\n",
       "<table border=\"1\" class=\"dataframe\">\n",
       "  <thead>\n",
       "    <tr style=\"text-align: right;\">\n",
       "      <th></th>\n",
       "      <th>falsexam</th>\n",
       "    </tr>\n",
       "    <tr>\n",
       "      <th>class_format</th>\n",
       "      <th></th>\n",
       "    </tr>\n",
       "  </thead>\n",
       "  <tbody>\n",
       "    <tr>\n",
       "      <th>face_to_face</th>\n",
       "      <td>78.547485</td>\n",
       "    </tr>\n",
       "    <tr>\n",
       "      <th>online</th>\n",
       "      <td>73.635263</td>\n",
       "    </tr>\n",
       "  </tbody>\n",
       "</table>\n",
       "</div>"
      ],
      "text/plain": [
       "               falsexam\n",
       "class_format           \n",
       "face_to_face  78.547485\n",
       "online        73.635263"
      ]
     },
     "execution_count": 18,
     "metadata": {},
     "output_type": "execute_result"
    }
   ],
   "source": [
    "D_MEAN.groupby([\"class_format\"]).mean()"
   ]
  },
  {
   "cell_type": "markdown",
   "id": "56432723",
   "metadata": {},
   "source": [
    "A partir de estos datos, se obserba que el promedio de las notas de aquellos que llevaron clases presenciales (face-to-face clases) es 78.54, Mientras que el promedio de las notas de aquellos que llevaron clases online es 73,63. En este caso, parece ser que quines recibieron clases presenciales se desempeñaron mejor y por ende se podría decir que existe una correlación entre este tipo de formato de clase y el desempeño académico plasmado en las notas"
   ]
  },
  {
   "cell_type": "markdown",
   "id": "0ec070c3",
   "metadata": {},
   "source": [
    "### Diferencia de promedios del grupo online lessons y del grupo face-to-face"
   ]
  },
  {
   "cell_type": "code",
   "execution_count": 19,
   "id": "0d4a3539",
   "metadata": {},
   "outputs": [
    {
     "data": {
      "text/plain": [
       "4.912222"
      ]
     },
     "execution_count": 19,
     "metadata": {},
     "output_type": "execute_result"
    }
   ],
   "source": [
    "diferencia_de_medias = 78.547485 - 73.635263\n",
    "diferencia_de_medias"
   ]
  },
  {
   "cell_type": "markdown",
   "id": "684e4e56",
   "metadata": {},
   "source": [
    "Hay una diferencia de alrededor de 4 puntos entre la media de las notas de aquellos chicos que llevaban clases presenciales y aquellos que llevaron las clases online. En este caso, aquellos que tomaron el curso presenciales obtuvieron un mejor rendimiento y por ende se podría decir que lograron entender mejor los contenidos del curso. "
   ]
  },
  {
   "cell_type": "markdown",
   "id": "ea31aabd",
   "metadata": {},
   "source": [
    "## Difference-in-means estimator via linear regression "
   ]
  },
  {
   "cell_type": "markdown",
   "id": "44176940",
   "metadata": {},
   "source": [
    "Deben crear una variable dummy que tome el valor de 1 cuando el tipo de clase sea online y 0 cuando sea face to face.\n",
    "Luego deben realizar una regresion lineal donde Y = Las notas, T = Dummy creada para el tipo de clase.\n",
    "Esta regresion es de la siguente manera Y = beta_0 + beta_1*T + e. El valor que encuentren para beta_1 es el average treatment effect que debería ser igual al Difference-in-means estimator encontrado arriba."
   ]
  },
  {
   "cell_type": "markdown",
   "id": "5a3c54c3",
   "metadata": {},
   "source": [
    "#### Crear dummy"
   ]
  },
  {
   "cell_type": "code",
   "execution_count": 20,
   "id": "a86d9eae",
   "metadata": {},
   "outputs": [],
   "source": [
    "reg = d_mean"
   ]
  },
  {
   "cell_type": "code",
   "execution_count": 21,
   "id": "f347a2b7",
   "metadata": {},
   "outputs": [],
   "source": [
    "grupos=[\"face_to_face\", \"online\"]"
   ]
  },
  {
   "cell_type": "markdown",
   "id": "e457ef4e",
   "metadata": {},
   "source": [
    "#### Crear un nuevo dataset que contenga  los valores de estos grupos"
   ]
  },
  {
   "cell_type": "code",
   "execution_count": 22,
   "id": "ac732b86",
   "metadata": {},
   "outputs": [],
   "source": [
    "REGRESION = reg[reg['class_format'].isin(grupos)]"
   ]
  },
  {
   "cell_type": "markdown",
   "id": "c1535a74",
   "metadata": {},
   "source": [
    "#### Regresión lineal con que contiene la modalidad presencial y virtual + Resumen  de los principales datos del valor del componenete beta_1"
   ]
  },
  {
   "cell_type": "code",
   "execution_count": 23,
   "id": "39f1c894",
   "metadata": {},
   "outputs": [
    {
     "data": {
      "text/html": [
       "<table class=\"simpletable\">\n",
       "<caption>OLS Regression Results</caption>\n",
       "<tr>\n",
       "  <th>Dep. Variable:</th>        <td>falsexam</td>     <th>  R-squared:         </th> <td>   0.039</td>\n",
       "</tr>\n",
       "<tr>\n",
       "  <th>Model:</th>                   <td>OLS</td>       <th>  Adj. R-squared:    </th> <td>   0.034</td>\n",
       "</tr>\n",
       "<tr>\n",
       "  <th>Method:</th>             <td>Least Squares</td>  <th>  F-statistic:       </th> <td>   8.554</td>\n",
       "</tr>\n",
       "<tr>\n",
       "  <th>Date:</th>             <td>Tue, 08 Nov 2022</td> <th>  Prob (F-statistic):</th>  <td>0.00382</td>\n",
       "</tr>\n",
       "<tr>\n",
       "  <th>Time:</th>                 <td>16:39:23</td>     <th>  Log-Likelihood:    </th> <td> -837.85</td>\n",
       "</tr>\n",
       "<tr>\n",
       "  <th>No. Observations:</th>      <td>   214</td>      <th>  AIC:               </th> <td>   1680.</td>\n",
       "</tr>\n",
       "<tr>\n",
       "  <th>Df Residuals:</th>          <td>   212</td>      <th>  BIC:               </th> <td>   1686.</td>\n",
       "</tr>\n",
       "<tr>\n",
       "  <th>Df Model:</th>              <td>     1</td>      <th>                     </th>     <td> </td>   \n",
       "</tr>\n",
       "<tr>\n",
       "  <th>Covariance Type:</th>      <td>nonrobust</td>    <th>                     </th>     <td> </td>   \n",
       "</tr>\n",
       "</table>\n",
       "<table class=\"simpletable\">\n",
       "<tr>\n",
       "             <td></td>               <th>coef</th>     <th>std err</th>      <th>t</th>      <th>P>|t|</th>  <th>[0.025</th>    <th>0.975]</th>  \n",
       "</tr>\n",
       "<tr>\n",
       "  <th>Intercept</th>              <td>   78.5475</td> <td>    1.113</td> <td>   70.563</td> <td> 0.000</td> <td>   76.353</td> <td>   80.742</td>\n",
       "</tr>\n",
       "<tr>\n",
       "  <th>class_format[T.online]</th> <td>   -4.9122</td> <td>    1.680</td> <td>   -2.925</td> <td> 0.004</td> <td>   -8.223</td> <td>   -1.601</td>\n",
       "</tr>\n",
       "</table>\n",
       "<table class=\"simpletable\">\n",
       "<tr>\n",
       "  <th>Omnibus:</th>       <td>129.000</td> <th>  Durbin-Watson:     </th> <td>   2.091</td> \n",
       "</tr>\n",
       "<tr>\n",
       "  <th>Prob(Omnibus):</th> <td> 0.000</td>  <th>  Jarque-Bera (JB):  </th> <td>1179.385</td> \n",
       "</tr>\n",
       "<tr>\n",
       "  <th>Skew:</th>          <td>-2.179</td>  <th>  Prob(JB):          </th> <td>7.94e-257</td>\n",
       "</tr>\n",
       "<tr>\n",
       "  <th>Kurtosis:</th>      <td>13.643</td>  <th>  Cond. No.          </th> <td>    2.50</td> \n",
       "</tr>\n",
       "</table><br/><br/>Notes:<br/>[1] Standard Errors assume that the covariance matrix of the errors is correctly specified."
      ],
      "text/plain": [
       "<class 'statsmodels.iolib.summary.Summary'>\n",
       "\"\"\"\n",
       "                            OLS Regression Results                            \n",
       "==============================================================================\n",
       "Dep. Variable:               falsexam   R-squared:                       0.039\n",
       "Model:                            OLS   Adj. R-squared:                  0.034\n",
       "Method:                 Least Squares   F-statistic:                     8.554\n",
       "Date:                Tue, 08 Nov 2022   Prob (F-statistic):            0.00382\n",
       "Time:                        16:39:23   Log-Likelihood:                -837.85\n",
       "No. Observations:                 214   AIC:                             1680.\n",
       "Df Residuals:                     212   BIC:                             1686.\n",
       "Df Model:                           1                                         \n",
       "Covariance Type:            nonrobust                                         \n",
       "==========================================================================================\n",
       "                             coef    std err          t      P>|t|      [0.025      0.975]\n",
       "------------------------------------------------------------------------------------------\n",
       "Intercept                 78.5475      1.113     70.563      0.000      76.353      80.742\n",
       "class_format[T.online]    -4.9122      1.680     -2.925      0.004      -8.223      -1.601\n",
       "==============================================================================\n",
       "Omnibus:                      129.000   Durbin-Watson:                   2.091\n",
       "Prob(Omnibus):                  0.000   Jarque-Bera (JB):             1179.385\n",
       "Skew:                          -2.179   Prob(JB):                    7.94e-257\n",
       "Kurtosis:                      13.643   Cond. No.                         2.50\n",
       "==============================================================================\n",
       "\n",
       "Notes:\n",
       "[1] Standard Errors assume that the covariance matrix of the errors is correctly specified.\n",
       "\"\"\""
      ]
     },
     "execution_count": 23,
     "metadata": {},
     "output_type": "execute_result"
    }
   ],
   "source": [
    "#OLS\n",
    "ols_reg = sm.OLS.from_formula(\"falsexam ~ class_format\", \n",
    "              data = REGRESION).fit()\n",
    "\n",
    "ols_reg.summary()"
   ]
  },
  {
   "cell_type": "markdown",
   "id": "e3223f8f",
   "metadata": {},
   "source": [
    "A partir de lo realizado, se confirma que  el coeficiente beta_1 tiene el mismo valor que la diferencia entre la media de notas de la modalidad presencial y virtual: 4.9122. Si analizamos el resto de la regresión podemos observar que la dummy es significativa ya que su p-value es menor a 0,05. No obstante, el R2 no es muy alto y por ende el modelo no explica en gran medida la distribución de notas. "
   ]
  },
  {
   "cell_type": "markdown",
   "id": "baec3b23",
   "metadata": {},
   "source": [
    "## Parte 2: Reporte"
   ]
  },
  {
   "cell_type": "markdown",
   "id": "71970e02",
   "metadata": {},
   "source": [
    "La pregunta de investigación del artículo es: ¿Cuáles son los efectos (positivos y/o negativos) de exponer a los niños que viven en zonas de alta pobreza a un mejor vecindario? Esta investigación toma como base un anterior experimento, Moving to Opportunity (MTO), que se enfocó en el efecto de mudar a familias de alta pobreza a zonas con menor niveles de pobreza, pero ahora se enfocan que se produjo en los niños para ver si los entornos del vecindario juegan un rol importante en el éxito económico, los estudios, la salud, etc. Asimismo, los investigadores buscan saber si las ganancias de mudarse a un área de menor pobreza disminuyen con la edad de un niño en el momento de la mudanza, es decir, saber que tan importante es la variable edad en este experimento. "
   ]
  },
  {
   "cell_type": "markdown",
   "id": "94b4359b",
   "metadata": {},
   "source": [
    "Una fortaleza es el uso de datos fiscales que les permitió seguir y rastrear a los adultos del MTO. A comparación con anteriores investigaciones sobre los tratamientos MTO, se basaban solo en datos de registros del seguro estatal de IU y encuestas. Por esta razón, los hallazgos ahora encontrados sobre los efectos de la exposición infantil a mejores vecindarios no fueron evidentes en estudios anteriores porque no tenían datos adecuados a largo plazo para observar la aparición de los impactos de MTO en los ingresos y otros resultados en la edad adulta para los niños que se mudaron a edades tempranas. Asimismo, al darle la debida importancia a la heterogeneidad, que nos permite evidenciar posibles diferencias entre los efectos calculados de la intervención que de aquellos que se esperan de variaciones aleatorias, se logra confirmar que los beneficios a largo plazo de la exposición infantil a vecindarios en mejores condiciones son sólidos a través de todos los géneros, grupos raciales y ubicaciones geográficas. Otro aspecto importante es como analizaron la mejora de condiciones de vida de los niños a su adultez a partir de una multiplicidad de variables como ingresos individuales, ingresos del hogar, asistencia y calidad universitaria, estatus marital y fertilidad, e impuestos pagados, y así comprarlos con los resultados previamente obtenidos del estudio anterior. "
   ]
  },
  {
   "cell_type": "markdown",
   "id": "d3667562",
   "metadata": {},
   "source": [
    "Una debilidad sería que a pesar de que se señala que encontraron que hay mayores ventajas a largo plazo para los niños pequeños que se mudan y hay efectos contrarios cuando los niños son mayores (aunque tampoco son tan significativos), no hay evidencia clara que señale una ‘edad crítica’ para cuando ya no es beneficioso cambiar de vecindario. Esto se debe a los pequeños tamaños de muestra en cada edad infantil, y por ende dificulta establecer un análisis delimitado que luego se pueda aplicar a políticas públicas. De la misma manera, la capacidad del experimento para identificar los efectos causales de la exposición está limitada por el hecho de que el experimento MTO solo ofrece vales aleatorios; es decir, no se aleatorizó la edad a la que los niños se movían, lo que podría correlacionarse con otros factores no observables. Asimismo, es importante señalar que el diseño del experimento MTO no permite distinguir las diferencias en los efectos de la disrupción, tanto si se dieron por la edad de la mudanza o si esta se fue acompañada por el efecto de exposición. Esto dificulta señalar si efectivamente la exposición en la infancia a un mejor ambiente tiene un efecto causal en los resultados a largo plazo, aunque esto no significa que los resultados encontrados no demuestran que un cambio de ambiente a temprana edad es muy beneficioso. "
   ]
  },
  {
   "cell_type": "markdown",
   "id": "35d8f161",
   "metadata": {},
   "source": [
    "Esta investigación aporta a los antiguos estudios y tema de investigación en tanto logran reconfirmar que efectivamente la exposición a entornos vecindarios mejorados en adultos no genera un gran impacto, no obstante, sí tienen resultados en niños, es decir, que los efectos del vecindario operan principalmente a través de efectos de desarrollo durante la infancia en lugar de efectos contextuales derivados del desajuste espacial u otras fuerzas. Todo se logra mediante un modelo simple con efectos lineales de exposición infantil junto con un costo fijo de interrupción. Así se encuentra una relación causal entre vivir en barrios menos pobres, y éxitos educativos y económicos a largo plazo. Gracias a los resultados de esta investigación se concluye que es mejor enfocarse en integrar a familias desfavorecidas con niños pequeños en comunidades ingresos no muy bajas (mixtos) para así reducir a largo plazo la pobreza generacional."
   ]
  },
  {
   "cell_type": "markdown",
   "id": "28d345f1",
   "metadata": {},
   "source": [
    "Continuando con este tema de investigación Stal y Zuberi (2010) comparan el programa MTO y Bjilmermeet de los Países Bajos para señalar que ambos proyectos revelan los efectos de vivir en vecindarios negativos y como las políticas de ‘desconcentración’ de la pobreza pueden ayudar en mejorar el comportamiento, disposiciones y bienestar de los niños. Sin embargo, también señalan que para que las políticas de reubicación tengan un verdadero efecto se debe tomar en cuenta los contextos específicos de estos grupos (raciales y género) para aumentar los beneficios. Del mismo modo, Lundquist y Massey (2008) reafirman que cambios en el entorno y características de un vecindario tienen un efecto en los jóvenes que puede ser tanto positivo como negativo, pero que va depender de ciertas condiciones. Los efectos dependerán de cuando se dio la mudanza y las características del vecindario, de la interacción entre la duración de la exposición, los efectos de interrupción de la movilidad y las diferencias específicas de la etapa de desarrollo en la vulnerabilidad al mecanismo operativo del efecto de vecindad dado. "
   ]
  },
  {
   "cell_type": "markdown",
   "id": "f58cb56c",
   "metadata": {},
   "source": [
    "BIBLIOGRAFÍA:\n",
    "\n",
    "Clampet-Lundquist, S., & Massey, D. S. (2008). Neighborhood effects on economic self-sufficiency: A reconsideration of the Moving to Opportunity experiment. American Journal of Sociology, 114(1), 107-143.\n",
    "https://www.journals.uchicago.edu/doi/abs/10.1086/588740\n",
    "\n",
    "Stal, G. Y., & Zuberi, D. M. (2010). Ending the cycle of poverty through socio-economic integration: A comparison of Moving to Opportunity (MTO) in the United States and the Bijlmermeer Revival Project in the Netherlands. Cities, 27(1), 3-12.\n",
    "https://www.sciencedirect.com/science/article/abs/pii/S0264275109001115"
   ]
  }
 ],
 "metadata": {
  "kernelspec": {
   "display_name": "Python 3 (ipykernel)",
   "language": "python",
   "name": "python3"
  },
  "language_info": {
   "codemirror_mode": {
    "name": "ipython",
    "version": 3
   },
   "file_extension": ".py",
   "mimetype": "text/x-python",
   "name": "python",
   "nbconvert_exporter": "python",
   "pygments_lexer": "ipython3",
   "version": "3.9.12"
  }
 },
 "nbformat": 4,
 "nbformat_minor": 5
}
