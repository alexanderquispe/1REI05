{
 "cells": [
  {
   "cell_type": "markdown",
   "id": "a09b0176",
   "metadata": {},
   "source": [
    "## Dynarski, S., Libassi, C. J., Michelmore, K., & Owen, S. (2018). Closing the gap: The effect of a targeted, tuition-free promise on college choices of high-achieving, low-income students (No. w25349). National Bureau of Economic Research."
   ]
  },
  {
   "cell_type": "markdown",
   "id": "921d0bb0",
   "metadata": {},
   "source": [
    "- Julia Millen Massa Coronel 20196415 (#311)"
   ]
  },
  {
   "cell_type": "markdown",
   "id": "5d7c3498",
   "metadata": {},
   "source": [
    "En el artículo se realiza un ensayo aleatorio con grupos de control con el objetivo de responder a la pregunta de ¿si las comunicaciones personalizadas y específicas, que reemplazan , pero no aumentan la ayuda financiera, pueden alterar las decisiones universitarias de los estudiantes con bajos ingresos? Esta prgunta se enmarca en el contexto observado por los investigadores: los estudiantes de bajos ingresos y alto rendimiento académico asisten a universidades selectivas en porcentaje muy inferiores a los de sus compañeros con mejores ingresos económicos. \n",
    "\n",
    "Entre las fortalezas del artículo para responder a la pregunta encuentro que su revisión de la literatura es bastante precisa.Primero nos explica de por qué resulta fundamental saber la respuesta a la pregunta de investigación: \"asistir a una universidad de mayor calidad aumenta tanto los logros educativos como los ingresos (Hoekstra 2009; Zimmerman 2014; Dillon y Smith 2018), la subrepresentación de los estudiantes de bajos ingresos en las universidades selectivas probablemente exacerba la desigualdad educativa y de ingresos\". En ese sentido, entender por qué se da esta subrepresentación de estudiantes de bajos ingresos es con el objetivo de disminuir la desigualdad educativa y los ingresos. No obstante, entre las debilidades observadas están las que los investigadores, lamentablemente, no lograron controlar: \"los compañeros que asisten a las escuelas tratadas con el programa HAIL y que vieron a sus compañeros recibir estas ofertas, pero que no las recibieron ellos mismos, pueden verse desanimados a la hora de solicitar la admisión en la Universidad de Michigan\". Esto debido a que pueden considerar que no son buen material para dicha universidad, así que mejor ni lo intentan. Otra factor que no controlan es lo que pasa con los estudiantes que a pesar de haber recibido el paquete, no lograron ingresar. Lo quieran o no, eso afecta emocionalmente a los estudiantes y afecta su autoestima, incluso el mismo autor se pregunta si habrían estado mejor si no hubieran presentado su solicitud que si la hubieran presentado y sido rechazados. \n",
    "\n",
    "Entre las contribuciones podemos considerar los resultados obtenidos de dicha investigación. Por un lado, se confirma el planteamiento conductivo de que las personas se abstienen de realizar tareas que impliquen muchos obstaculos: \"una intervención de bajo coste que elimine los obstáculos administrativos y de comportamiento puede alterar profundamente las decisiones de los estudiantes\". Así mismo, vemos que la forma en cómo se les presentó la oferta a los estudiantes \"aumentó sustancialmente las tasas de solicitud (68% frente al 26%) y de matriculación (27% frente al 12%)\". En ese sentido,las comunicaciones personalizadas y específicas, que replantean pero no aumentan la ayuda financiera, pueden alterar las decisiones universitarias de los estudiantes con bajos ingresos. Es decir, se confirma que la incertidumbre, el sesgo del presente y la aversión a las pérdidas tienen una gran importancia en las decisiones universitarias de los estudiantes.\n",
    "\n",
    "Finalmente, el artículo se centra en que una intervención de bajo costo y poco contacto puede afectar fuertemente la solicitud y la inscripción de los estudiantes en universidades selectivas. Vemos que eso contrasta con la conclusión de Carrell y Sacerdote (2017), según la cual solo las intervenciones de alto nivel de contacto pueden tener grandes efectos en la decisión de los estudiantes de solicitar y asistir a la universidad. Así que faltaría investigar cómo afecta una intervención de alto costo en las decisiones de los estudiantes de solicitar y asistir a la universidad. Vimos que una de las estrategias del experimento era no mencionar nada de la situación socioeconómica de los estudiantes en el paquete de información, sino centrarse en sus resultados académicos. En ese sentido, no es concluyente que una fuerte ayuda económica afecte positivamente a dichos resutlados. Sería bueno investigarlo. "
   ]
  },
  {
   "cell_type": "code",
   "execution_count": null,
   "id": "42559077",
   "metadata": {},
   "outputs": [],
   "source": []
  }
 ],
 "metadata": {
  "kernelspec": {
   "display_name": "Python 3 (ipykernel)",
   "language": "python",
   "name": "python3"
  },
  "language_info": {
   "codemirror_mode": {
    "name": "ipython",
    "version": 3
   },
   "file_extension": ".py",
   "mimetype": "text/x-python",
   "name": "python",
   "nbconvert_exporter": "python",
   "pygments_lexer": "ipython3",
   "version": "3.9.12"
  }
 },
 "nbformat": 4,
 "nbformat_minor": 5
}
