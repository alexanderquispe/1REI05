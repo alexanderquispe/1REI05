{
 "cells": [
  {
   "cell_type": "markdown",
   "id": "2cb0ace8",
   "metadata": {},
   "source": [
    "### REPORTE 6"
   ]
  },
  {
   "cell_type": "markdown",
   "id": "27cfe25f",
   "metadata": {},
   "source": [
    "Nombre: Jahaira Rodríguez Orué\n",
    "Código: 20201405\n",
    "\n",
    "Closing the gap: The effect of a targeted, tuition-free promise on college choices of high-achieving, low-income students -Dynarski, Libassi, Michelmore & Owen (2018).\n",
    "\n",
    "Esta lectura presentada nos habla de la educación superior en Michigan, explica específicamente cierto patrón que se ha podido notar en los estudiantes que poseen bajos ingresos y pocos recursos, pero cuentan con un alto rendimiento. Los estudiantes que tienen bajos ingresos son los estudiantes que logran tener un buen rendimiento académico tienen menos acceso a las universidades que los estudiantes que sí se encuentran con una mayor estabilidad económica, teniendo el mismo desempeño . Si tomamos en cuenta lo mencionado anteriormente , la pregunta de investigación seria: Por que los estudiantes con menores ingresos económicos tienen pocas oportunidades o probabilidad de que no logren ingresar a las universidades de calidad, a diferencia de los alumnos que si cuentan con ingresos económicos, si ambas clases cuentan con el mismo desempeño académico? \n",
    "\n",
    "Para resolver esta pregunta, se propuso un estudio en donde se ofrecía una beca subvencionada por la Universidad de Michigan: HAIL, la cual se ofrecerá  a distintos estudiantes con un alto rendimiento académico y bajos recursos, para ver el efecto en que tendrá en los alumnos. Los autores lograron identificar a estos estudiantes de alto rendimiento a través de los datos administrativos y en base al GPA y el SAT de sus institutos. Una desventaja fue que , para el otro factor de análisis (que sean estudiantes con bajos ingresos), los investigadores no tenían los datos sobre la renta de los familiares.Sin embargo , se logró resolver este obstáculo usando datos acerca la calificación para el programa federal de almuerzos subvencionados. Entonces podemos concluir que la debilidad mas grande del texto se encuentra en el tamaño de su estudio. Y la ventaja de esta lectura es que cuenta con una solidez analizar las brechas presentes entre estudiantes de distintos niveles socioeconómicos. Por otro lado en el articulo se menciona que el problema y su relación con la brecha salarial, es decir, una oferta directa a los estudiantes de bajos ingresos puede afectar el porcentaje de solicitudes y de matrículas de los estudiantes. Se puede considerar que en el texto se le agrega una dimensión extra a la problemática la cual esta definida por el lado económico con resultados satisfactorios.n \n",
    "\n",
    "Un factor importante es que se podría tomar en cuenta como es que estos estudiantes se desarrollan en otros aspectos y no solo en lo académico, sino en actividades extras, como por ejemplo la práctica de algún deporte que represente a la universidad, o también siendo parte de la banda u orquesta. Porque es importante tomar en cuenta las habilidades de cada estudiantes, y también notar cómo es que ese rendimiento académico no baja aún realizando estas actividades extras. \n"
   ]
  },
  {
   "cell_type": "code",
   "execution_count": null,
   "id": "9d58a401",
   "metadata": {},
   "outputs": [],
   "source": []
  }
 ],
 "metadata": {
  "kernelspec": {
   "display_name": "Python 3 (ipykernel)",
   "language": "python",
   "name": "python3"
  },
  "language_info": {
   "codemirror_mode": {
    "name": "ipython",
    "version": 3
   },
   "file_extension": ".py",
   "mimetype": "text/x-python",
   "name": "python",
   "nbconvert_exporter": "python",
   "pygments_lexer": "ipython3",
   "version": "3.9.12"
  }
 },
 "nbformat": 4,
 "nbformat_minor": 5
}
