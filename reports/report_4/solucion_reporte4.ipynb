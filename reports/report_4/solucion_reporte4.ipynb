{
 "cells": [
  {
   "cell_type": "code",
   "execution_count": 1,
   "id": "60dd494d",
   "metadata": {},
   "outputs": [],
   "source": [
    "%matplotlib widget\n",
    "%matplotlib inline\n",
    "import ipywidgets as widgets\n",
    "import matplotlib.pyplot as plt\n",
    "import numpy as np\n",
    "import sympy as sy\n",
    "from sympy import *\n",
    "import pandas as pd\n",
    "#from causalgraphicalmodels import CausalGraphicalModel"
   ]
  },
  {
   "cell_type": "markdown",
   "id": "be6d3b6a",
   "metadata": {},
   "source": [
    "## Solución reporte 4:"
   ]
  },
  {
   "cell_type": "markdown",
   "id": "8c778de2",
   "metadata": {},
   "source": [
    "### Parte 1: "
   ]
  },
  {
   "cell_type": "markdown",
   "id": "df4b7875",
   "metadata": {},
   "source": [
    "### 1. A partir del siguiente sistema de ecuaciones que representan el modelo IS-LM"
   ]
  },
  {
   "cell_type": "markdown",
   "id": "833c6f45",
   "metadata": {},
   "source": [
    "#### 1.1 Encuentre las ecuaciones de Ingreso $(Y^e)$ y tasa de interes $(r^e)$ de equilibrio (escriba paso a paso la derivacion de estas ecuaciones)."
   ]
  },
  {
   "cell_type": "markdown",
   "id": "54807a86",
   "metadata": {},
   "source": [
    "Por un lado, considerando la ecuación de la curva IS\n",
    "\n",
    "$$ r = \\frac{B_o}{h} - \\frac{B_1}{h}Y $$\n",
    "\n",
    "- Donde $ B_0 = C_o + I_o + G_o + X_o $ y $ B_1 = 1 - (b - m)(1 - t) $"
   ]
  },
  {
   "cell_type": "markdown",
   "id": "4e18b18d",
   "metadata": {},
   "source": [
    "Y, por otro lado, la ecuación de la curva LM:\n",
    "\n",
    "$$  r = -\\frac{1}{j}\\frac{Mo^s}{P_o} + \\frac{k}{j}Y $$"
   ]
  },
  {
   "cell_type": "markdown",
   "id": "6de2e763",
   "metadata": {},
   "source": [
    "Podemos igualar, sustituir o reducir ambas ecuaciones para encontrar el nivel de Ingresos equilibrio $(Y^e)$ y la tasa de interés de equilibrio $(r^e)$:\n",
    "\n",
    "$$ -\\frac{1}{j}\\frac{Mo^s}{P_o} + \\frac{k}{j}Y = \\frac{B_o}{h} - \\frac{B_1}{h}Y $$\n",
    "\n",
    "- Ingreso de equilibrio:\n",
    "\n",
    "$$ Y^e = \\frac{j B_o}{k h + j B_1} + (\\frac{h}{k h + j B_1})\\frac{Ms_o}{P_o} $$\n",
    "\n",
    "- Tasa de interés de equilibrio:\n",
    "\n",
    "$$ r^e = \\frac{kB_o}{kh + jB_1} - (\\frac{B_1}{kh + jB_1})\\frac{Ms_o}{P_o} $$\n",
    "\n",
    "Estas dos ecuaciones representan el modelo IS-LM"
   ]
  },
  {
   "cell_type": "markdown",
   "id": "c948136c",
   "metadata": {},
   "source": [
    "#### 1.2 Grafique el equilibrio simultáneo en los mercados de bienes y de dinero."
   ]
  },
  {
   "cell_type": "code",
   "execution_count": 5,
   "id": "386e443d",
   "metadata": {},
   "outputs": [],
   "source": [
    "#--------------------------------------------------\n",
    "    # Curva IS\n",
    "\n",
    "# Parámetros\n",
    "\n",
    "Y_size = 100 \n",
    "\n",
    "Co = 35\n",
    "Io = 40\n",
    "Go = 50\n",
    "Xo = 2\n",
    "h = 0.8\n",
    "b = 0.5\n",
    "m = 0.4\n",
    "t = 0.8\n",
    "\n",
    "Y = np.arange(Y_size)\n",
    "\n",
    "\n",
    "# Ecuación \n",
    "def r_IS(b, m, t, Co, Io, Go, Xo, h, Y):\n",
    "    r_IS = (Co + Io + Go + Xo - Y * (1-(b-m)*(1-t)))/h\n",
    "    return r_IS\n",
    "\n",
    "r = r_IS(b, m, t, Co, Io, Go, Xo, h, Y)\n",
    "\n",
    "\n",
    "#--------------------------------------------------\n",
    "    # Curva LM \n",
    "\n",
    "# Parámetros\n",
    "\n",
    "Y_size = 100\n",
    "\n",
    "k = 2\n",
    "j = 1                \n",
    "Ms = 200             \n",
    "P  = 20               \n",
    "\n",
    "Y = np.arange(Y_size)\n",
    "\n",
    "# Ecuación\n",
    "\n",
    "def i_LM(k, j, Ms, P, Y):\n",
    "    i_LM = (-Ms/P)/j + k/j*Y\n",
    "    return i_LM\n",
    "\n",
    "i = i_LM( k, j, Ms, P, Y)"
   ]
  },
  {
   "cell_type": "code",
   "execution_count": 6,
   "id": "0275de68",
   "metadata": {},
   "outputs": [
    {
     "data": {
      "image/png": "[encoded data removed]",
      "text/plain": [
       "<Figure size 720x576 with 1 Axes>"
      ]
     },
     "metadata": {},
     "output_type": "display_data"
    }
   ],
   "source": [
    "    # Gráfico del modelo IS-LM\n",
    "\n",
    "# Dimensiones del gráfico\n",
    "y_max = np.max(i)\n",
    "fig, ax = plt.subplots(figsize=(10, 8))\n",
    "\n",
    "# Curvas a graficar\n",
    "ax.plot(Y, r, label = \"IS\", color = \"C1\") #IS\n",
    "ax.plot(Y, i, label=\"LM\", color = \"C0\")  #LM\n",
    "\n",
    "# Eliminar las cantidades de los ejes\n",
    "ax.yaxis.set_major_locator(plt.NullLocator())   \n",
    "ax.xaxis.set_major_locator(plt.NullLocator())\n",
    "\n",
    "# Texto y figuras agregadas\n",
    "plt.axvline(x=51.5,  ymin= 0, ymax= 0.52, linestyle = \":\", color = \"black\")\n",
    "plt.axhline(y=93, xmin= 0, xmax= 0.52, linestyle = \":\", color = \"black\")\n",
    "plt.text(49,100, '$E_0$', fontsize = 14, color = 'black')\n",
    "plt.text(0,100, '$r_0$', fontsize = 12, color = 'black')\n",
    "plt.text(53,-10, '$Y_0$', fontsize = 12, color = 'black')\n",
    "\n",
    "# Título, ejes y leyenda\n",
    "ax.set(title=\"Equilibrio modelo IS-LM\", xlabel= r'Y', ylabel= r'r')\n",
    "ax.legend()\n",
    "\n",
    "plt.show()"
   ]
  },
  {
   "cell_type": "code",
   "execution_count": 7,
   "id": "a50f7c60",
   "metadata": {},
   "outputs": [],
   "source": [
    "# Beta_0 y beta_1\n",
    "beta_0 = (Co + Io + Go + Xo)\n",
    "beta_1 = ( 1-(b-m)*(1-t) )\n",
    "\n",
    "# Producto de equilibrio y la tasa de interes de equilibrio en el modelo IS-LM\n",
    "Y_eq = (k*beta_0)/(k*h + j*beta_1) - ( beta_1 / (k*h + j*beta_1) )*(Ms/P)\n",
    "r_eq = (j*beta_0)/(k*h + j*beta_1) + ( h / (k*h + j*beta_1) )*(Ms/P)\n"
   ]
  },
  {
   "cell_type": "markdown",
   "id": "cd363450",
   "metadata": {},
   "source": [
    "### 2. Estática comparativa:"
   ]
  },
  {
   "cell_type": "markdown",
   "id": "0d4e3643",
   "metadata": {},
   "source": [
    "#### 2.1. Analice los efectos sobre las variables endógenas Y, r de una disminución del gasto fiscal $(∆G_0 < 0)$ . El análisis debe ser intuitivo, matemático y gráfico."
   ]
  },
  {
   "cell_type": "markdown",
   "id": "e65c11f7",
   "metadata": {},
   "source": [
    "- Matemática:"
   ]
  },
  {
   "cell_type": "code",
   "execution_count": 62,
   "id": "57259b29",
   "metadata": {},
   "outputs": [],
   "source": [
    "# nombrar variables como símbolos\n",
    "Co, Io, Go, Xo, h, r, b, m, t, beta_0, beta_1  = symbols('Co Io Go Xo h r b m t beta_0, beta_1')\n",
    "\n",
    "# nombrar variables como símbolos\n",
    "k, j, Ms, P, Y = symbols('k j Ms P Y')\n",
    "\n",
    "# Beta_0 y beta_1\n",
    "beta_0 = (Co + Io + Go + Xo)\n",
    "beta_1 = ( 1-(b-m)*(1-t) )\n",
    "\n",
    "# Producto de equilibrio y la tasa de interes de equilibrio en el modelo IS-LM\n",
    "r_eq = (k*beta_0)/(k*h + j*beta_1) - ( beta_1 / (k*h + j*beta_1) )*(Ms/P)\n",
    "Y_eq = (j*beta_0)/(k*h + j*beta_1) + ( h / (k*h + j*beta_1) )*(Ms/P)\n"
   ]
  },
  {
   "cell_type": "code",
   "execution_count": 63,
   "id": "d00ab515",
   "metadata": {},
   "outputs": [
    {
     "name": "stdout",
     "output_type": "stream",
     "text": [
      "El Diferencial del Producto con respecto al diferencial del gasto autónomo =  j/(h*k + j*(-(1 - t)*(b - m) + 1))\n"
     ]
    }
   ],
   "source": [
    "df_Y_eq_Go = diff(Y_eq, Go)\n",
    "print(\"El Diferencial del Producto con respecto al diferencial del gasto autónomo = \", df_Y_eq_Go)  # este diferencial es positivo\n"
   ]
  },
  {
   "cell_type": "markdown",
   "id": "6045ce96",
   "metadata": {},
   "source": [
    "¿$∆Y$ sabiendo que $∆G_0 < 0$?\n",
    "\n",
    "$$ \\frac{∆Y}{∆G_0} = \\frac{j}{(h*k + j*(-(1 - t)*(b - m) + 1))} $$\n",
    "\n",
    "$$ \\frac{∆Y}{(-)} = (+) $$\n",
    "\n",
    "$$ ∆Y < 0 $$"
   ]
  },
  {
   "cell_type": "code",
   "execution_count": 64,
   "id": "8b132ecb",
   "metadata": {},
   "outputs": [
    {
     "name": "stdout",
     "output_type": "stream",
     "text": [
      "El Diferencial de la tasa de interés con respecto al diferencial del gasto autónomo =  k/(h*k + j*(-(1 - t)*(b - m) + 1))\n"
     ]
    }
   ],
   "source": [
    "df_r_eq_Go = diff(r_eq, Go)\n",
    "print(\"El Diferencial de la tasa de interés con respecto al diferencial del gasto autónomo = \", df_r_eq_Go)  # este diferencial es positivo\n"
   ]
  },
  {
   "cell_type": "markdown",
   "id": "3dc638e6",
   "metadata": {},
   "source": [
    "¿$∆r$ sabiendo que $∆G_0 < 0$?\n",
    "\n",
    "$$ \\frac{∆r}{∆G_0} = \\frac{k}{(h*k + j*(-(1 - t)*(b - m) + 1))} $$\n",
    "\n",
    "$$ \\frac{∆r}{(-)} = (+) $$\n",
    "\n",
    "$$ ∆r < 0 $$"
   ]
  },
  {
   "cell_type": "markdown",
   "id": "01b9bd5c",
   "metadata": {},
   "source": [
    "- Intuición:"
   ]
  },
  {
   "cell_type": "markdown",
   "id": "6dbee8de",
   "metadata": {},
   "source": [
    "$$ Go↓ → DA↓ → DA < Y → Y↓ $$\n",
    "\n",
    "$$ Y↓ → M^d↓ → M^d < M^s → r↓ $$"
   ]
  },
  {
   "cell_type": "markdown",
   "id": "f1d10371",
   "metadata": {},
   "source": [
    "- Gráfico:"
   ]
  },
  {
   "cell_type": "code",
   "execution_count": 12,
   "id": "72161da6",
   "metadata": {},
   "outputs": [],
   "source": [
    "#1--------------------------------------------------\n",
    "    # Curva IS ORIGINAL\n",
    "\n",
    "# Parámetros\n",
    "\n",
    "Y_size = 100 \n",
    "\n",
    "Co = 35\n",
    "Io = 40\n",
    "Go = 50\n",
    "Xo = 2\n",
    "h = 0.8\n",
    "b = 0.5\n",
    "m = 0.4\n",
    "t = 0.8\n",
    "\n",
    "Y = np.arange(Y_size)\n",
    "\n",
    "\n",
    "# Ecuación \n",
    "def r_IS(b, m, t, Co, Io, Go, Xo, h, Y):\n",
    "    r_IS = (Co + Io + Go + Xo - Y * (1-(b-m)*(1-t)))/h\n",
    "    return r_IS\n",
    "\n",
    "r = r_IS(b, m, t, Co, Io, Go, Xo, h, Y)\n",
    "\n",
    "\n",
    "#2--------------------------------------------------\n",
    "    # Curva LM ORIGINAL\n",
    "\n",
    "# Parámetros\n",
    "\n",
    "Y_size = 100\n",
    "\n",
    "k = 2\n",
    "j = 1                \n",
    "Ms = 200             \n",
    "P  = 20               \n",
    "\n",
    "Y = np.arange(Y_size)\n",
    "\n",
    "# Ecuación\n",
    "\n",
    "def i_LM( k, j, Ms, P, Y):\n",
    "    i_LM = (-Ms/P)/j + k/j*Y\n",
    "    return i_LM\n",
    "\n",
    "i = i_LM( k, j, Ms, P, Y)"
   ]
  },
  {
   "cell_type": "code",
   "execution_count": 13,
   "id": "7feb4ed9",
   "metadata": {},
   "outputs": [],
   "source": [
    "#--------------------------------------------------\n",
    "    # NUEVA curva IS: reducción Gasto de Gobienro (Go)\n",
    "    \n",
    "# Definir SOLO el parámetro cambiado\n",
    "Go = 25\n",
    "\n",
    "# Generar la ecuación con el nuevo parámetro\n",
    "def r_IS(b, m, t, Co, Io, Go, Xo, h, Y):\n",
    "    r_IS = (Co + Io + Go + Xo - Y * (1-(b-m)*(1-t)))/h\n",
    "    return r_IS\n",
    "\n",
    "r_G = r_IS(b, m, t, Co, Io, Go, Xo, h, Y)"
   ]
  },
  {
   "cell_type": "code",
   "execution_count": 60,
   "id": "52aaaf9c",
   "metadata": {},
   "outputs": [
    {
     "data": {
      "image/png": "[encoded data removed]",
      "text/plain": [
       "<Figure size 720x576 with 1 Axes>"
      ]
     },
     "metadata": {
      "needs_background": "light"
     },
     "output_type": "display_data"
    }
   ],
   "source": [
    "# Gráfico\n",
    "\n",
    "# Dimensiones del gráfico\n",
    "y_max = np.max(i)\n",
    "fig, ax = plt.subplots(figsize=(10, 8))\n",
    "\n",
    "# Curvas a graficar\n",
    "ax.plot(Y, r, label = \"IS_(G_0)\", color = \"C1\") #IS_orginal\n",
    "ax.plot(Y, r_G, label = \"IS_(G_1)\", color = \"C1\", linestyle = 'dashed') #IS_modificada\n",
    "\n",
    "ax.plot(Y, i, label=\"LM\", color = \"C0\")  #LM_original\n",
    "\n",
    "# Texto y figuras agregadas\n",
    "plt.axvline(x=52,  ymin= 0, ymax= 0.53, linestyle = \":\", color = \"grey\")\n",
    "plt.axhline(y=94, xmin= 0, xmax= 0.53, linestyle = \":\", color = \"grey\")\n",
    "\n",
    "plt.axvline(x=43,  ymin= 0, ymax= 0.44, linestyle = \":\", color = \"grey\")\n",
    "plt.axhline(y=75, xmin= 0, xmax= 0.44, linestyle = \":\", color = \"grey\")\n",
    "\n",
    "plt.text(38,60, '$E_1$', fontsize = 14, color = 'black')\n",
    "plt.text(50,100, '$E_0$', fontsize = 14, color = 'black')\n",
    "plt.text(-1,100, '$r_0$', fontsize = 12, color = 'black')\n",
    "plt.text(-1,80, '$r_1$', fontsize = 12, color = 'C1')\n",
    "plt.text(47,-10, '$Y_0$', fontsize = 12, color = 'black')\n",
    "plt.text(38,-10, '$Y_1$', fontsize = 12, color = 'C1')\n",
    "\n",
    "plt.text(69, 52, '←', fontsize=15, color='grey')\n",
    "plt.text(46, 15, '←', fontsize=15, color='grey')\n",
    "plt.text(10, 82, '↓', fontsize=15, color='grey')\n",
    "\n",
    "# Título, ejes y leyenda\n",
    "ax.set(title=\"Disminución en el Gasto de Gobierno\", xlabel= r'Y', ylabel= r'r')\n",
    "ax.legend()\n",
    "\n",
    "plt.show()\n"
   ]
  },
  {
   "cell_type": "markdown",
   "id": "a0df220c",
   "metadata": {},
   "source": [
    "#### 2.2. Analice los efectos sobre las variables endógenas Y, r de una disminución masa monetaria $(∆M^s < 0)$ . El análisis debe ser intuitivo, matemático y gráfico."
   ]
  },
  {
   "cell_type": "markdown",
   "id": "94aa10ba",
   "metadata": {},
   "source": [
    "- Matemática:"
   ]
  },
  {
   "cell_type": "code",
   "execution_count": 105,
   "id": "c4a45a16",
   "metadata": {},
   "outputs": [],
   "source": [
    "# nombrar variables como símbolos\n",
    "Co, Io, Go, Xo, h, r, b, m, t, beta_0, beta_1  = symbols('Co Io Go Xo h r b m t beta_0, beta_1')\n",
    "\n",
    "# nombrar variables como símbolos\n",
    "k, j, Ms, P, Y = symbols('k j Ms P Y')\n",
    "\n",
    "# Beta_0 y beta_1\n",
    "beta_0 = (Co + Io + Go + Xo)\n",
    "beta_1 = ( 1-(b-m)*(1-t) )\n",
    "\n",
    "# Producto de equilibrio y la tasa de interes de equilibrio en el modelo IS-LM\n",
    "r_eq = (k*beta_0)/(k*h + j*beta_1) - ( beta_1 / (k*h + j*beta_1) )*(Ms/P)\n",
    "Y_eq = (j*beta_0)/(k*h + j*beta_1) + ( h / (k*h + j*beta_1) )*(Ms/P)\n"
   ]
  },
  {
   "cell_type": "code",
   "execution_count": 106,
   "id": "003e6078",
   "metadata": {},
   "outputs": [
    {
     "name": "stdout",
     "output_type": "stream",
     "text": [
      "El Diferencial del Producto con respecto al diferencial de la masa monetaria =  h/(P*(h*k + j*(-(1 - t)*(b - m) + 1)))\n"
     ]
    }
   ],
   "source": [
    "df_Y_eq_Ms = diff(Y_eq, Ms)\n",
    "print(\"El Diferencial del Producto con respecto al diferencial de la masa monetaria = \", df_Y_eq_Ms)  # este diferencial es positivo\n"
   ]
  },
  {
   "cell_type": "markdown",
   "id": "65c3701c",
   "metadata": {},
   "source": [
    "¿$∆Y$ sabiendo que $∆M^s < 0$?\n",
    "\n",
    "$$ \\frac{∆Y}{∆M^s} = \\frac{h}{(P*(h*k + j*(-(1 - t)*(b - m) + 1)))} $$\n",
    "\n",
    "$$ \\frac{∆Y}{(-)} = (+) $$\n",
    "\n",
    "$$ ∆Y < 0 $$"
   ]
  },
  {
   "cell_type": "code",
   "execution_count": 107,
   "id": "cd2e4017",
   "metadata": {},
   "outputs": [
    {
     "name": "stdout",
     "output_type": "stream",
     "text": [
      "El Diferencial de la tasa de interés con respecto al diferencial de la masa monetaria =  -(-(1 - t)*(b - m) + 1)/(P*(h*k + j*(-(1 - t)*(b - m) + 1)))\n"
     ]
    }
   ],
   "source": [
    "df_r_eq_Ms = diff(r_eq, Ms)\n",
    "print(\"El Diferencial de la tasa de interés con respecto al diferencial de la masa monetaria = \", df_r_eq_Ms)  # este diferencial es negativo\n"
   ]
  },
  {
   "cell_type": "markdown",
   "id": "012e3272",
   "metadata": {},
   "source": [
    "¿$∆r$ sabiendo que $∆M^s < 0$?\n",
    "\n",
    "$$ \\frac{∆r}{∆M^s} = \\frac{-(-(1 - t)*(b - m) + 1)}{(P*(h*k + j*(-(1 - t)*(b - m) + 1)))} $$\n",
    "\n",
    "$$ \\frac{∆r}{(-)} = (-) $$\n",
    "\n",
    "$$ ∆r > 0 $$"
   ]
  },
  {
   "cell_type": "markdown",
   "id": "58844ac4",
   "metadata": {},
   "source": [
    "- Intuición:\n",
    "\n",
    "$$ M^s ↓ → M^s < M^d → r↑ $$\n",
    "$$ r↑ → I↓ → DA↓ → DA < Y → Y↓ $$"
   ]
  },
  {
   "cell_type": "markdown",
   "id": "ad3c9bca",
   "metadata": {},
   "source": [
    "- Gráfico:"
   ]
  },
  {
   "cell_type": "code",
   "execution_count": 72,
   "id": "1ec82b6a",
   "metadata": {},
   "outputs": [],
   "source": [
    "#1--------------------------------------------------\n",
    "    # Curva IS ORIGINAL\n",
    "\n",
    "# Parámetros\n",
    "\n",
    "Y_size = 100 \n",
    "\n",
    "Co = 35\n",
    "Io = 40\n",
    "Go = 50\n",
    "Xo = 2\n",
    "h = 0.8\n",
    "b = 0.5\n",
    "m = 0.4\n",
    "t = 0.8\n",
    "\n",
    "Y = np.arange(Y_size)\n",
    "\n",
    "\n",
    "# Ecuación \n",
    "def r_IS(b, m, t, Co, Io, Go, Xo, h, Y):\n",
    "    r_IS = (Co + Io + Go + Xo - Y * (1-(b-m)*(1-t)))/h\n",
    "    return r_IS\n",
    "\n",
    "r = r_IS(b, m, t, Co, Io, Go, Xo, h, Y)\n",
    "\n",
    "\n",
    "#2--------------------------------------------------\n",
    "    # Curva LM ORIGINAL\n",
    "\n",
    "# Parámetros\n",
    "\n",
    "Y_size = 100\n",
    "\n",
    "k = 2\n",
    "j = 1                \n",
    "Ms = 700             \n",
    "P  = 20               \n",
    "\n",
    "Y = np.arange(Y_size)\n",
    "\n",
    "# Ecuación\n",
    "\n",
    "def i_LM( k, j, Ms, P, Y):\n",
    "    i_LM = (-Ms/P)/j + k/j*Y\n",
    "    return i_LM\n",
    "\n",
    "i = i_LM( k, j, Ms, P, Y)"
   ]
  },
  {
   "cell_type": "code",
   "execution_count": 73,
   "id": "c6438aa1",
   "metadata": {},
   "outputs": [],
   "source": [
    "# Definir SOLO el parámetro cambiado\n",
    "Ms = 200\n",
    "\n",
    "# Generar nueva curva LM con la variacion del Ms\n",
    "def i_LM_Ms( k, j, Ms, P, Y):\n",
    "    i_LM = (-Ms/P)/j + k/j*Y\n",
    "    return i_LM\n",
    "\n",
    "i_Ms = i_LM_Ms( k, j, Ms, P, Y)"
   ]
  },
  {
   "cell_type": "code",
   "execution_count": 104,
   "id": "506f133a",
   "metadata": {},
   "outputs": [
    {
     "data": {
      "image/png": "[encoded data removed]",
      "text/plain": [
       "<Figure size 720x576 with 1 Axes>"
      ]
     },
     "metadata": {
      "needs_background": "light"
     },
     "output_type": "display_data"
    }
   ],
   "source": [
    "# Dimensiones del gráfico\n",
    "y_max = np.max(i)\n",
    "fig, ax = plt.subplots(figsize=(10, 8))\n",
    "\n",
    "# Curvas a graficar\n",
    "ax.plot(Y, r, label = \"IS\", color = \"C1\") #IS_orginal\n",
    "ax.plot(Y, i, label=\"LM_(MS_0)\", color = \"C0\")  #LM_original\n",
    "\n",
    "ax.plot(Y, i_Ms, label=\"LM_(MS_1)\", color = \"C0\", linestyle = 'dashed')  #LM_modificada\n",
    "\n",
    "# Lineas de equilibrio_0 \n",
    "plt.axvline(x=60,  ymin= 0, ymax= 0.53, linestyle = \":\", color = \"grey\")\n",
    "plt.axhline(y=85, xmin= 0, xmax= 0.6, linestyle = \":\", color = \"grey\")\n",
    "\n",
    "# Lineas de equilibrio_1 \n",
    "plt.axvline(x=52,  ymin= 0, ymax= 0.57, linestyle = \":\", color = \"grey\")\n",
    "plt.axhline(y=94, xmin= 0, xmax= 0.53, linestyle = \":\", color = \"grey\")\n",
    "\n",
    "# Textos ploteados\n",
    "plt.text(58,92, '$E_0$', fontsize = 14, color = 'black')\n",
    "plt.text(50,101, '$E_1$', fontsize = 14, color = 'black')\n",
    "plt.text(-1,75, '$r_0$', fontsize = 12, color = 'black')\n",
    "plt.text(62,-40, '$Y_0$', fontsize = 12, color = 'black')\n",
    "plt.text(-1,100, '$r_1$', fontsize = 12, color = '#3D59AB')\n",
    "plt.text(53,-40, '$Y_1$', fontsize = 12, color = '#3D59AB')\n",
    "\n",
    "plt.text(69, 115, '←', fontsize=15, color='grey')\n",
    "plt.text(55, 15, '←', fontsize=15, color='grey')\n",
    "plt.text(10, 87, '↑', fontsize=15, color='grey')\n",
    "\n",
    "# Título, ejes y leyenda\n",
    "ax.set(title=\"Efecto de una disminución de la masa monetaria\", xlabel= r'Y', ylabel= r'r')\n",
    "ax.legend()\n",
    "\n",
    "plt.show()"
   ]
  },
  {
   "cell_type": "markdown",
   "id": "0acabb8d",
   "metadata": {},
   "source": [
    "#### 2.3. Analice los efectos sobre las variables endógenas Y, r de un incremento de la tasa de impuestos $(∆t > 0)$ . El análisis debe ser intuitivo, matemático y gráfico."
   ]
  },
  {
   "cell_type": "markdown",
   "id": "3c58ddcf",
   "metadata": {},
   "source": [
    "- Matemática:"
   ]
  },
  {
   "cell_type": "code",
   "execution_count": 108,
   "id": "3851fa7b",
   "metadata": {},
   "outputs": [],
   "source": [
    "# nombrar variables como símbolos\n",
    "Co, Io, Go, Xo, h, r, b, m, t, beta_0, beta_1  = symbols('Co Io Go Xo h r b m t beta_0, beta_1')\n",
    "\n",
    "# nombrar variables como símbolos\n",
    "k, j, Ms, P, Y = symbols('k j Ms P Y')\n",
    "\n",
    "# Beta_0 y beta_1\n",
    "beta_0 = (Co + Io + Go + Xo)\n",
    "beta_1 = ( 1-(b-m)*(1-t) )\n",
    "\n",
    "# Producto de equilibrio y la tasa de interes de equilibrio en el modelo IS-LM\n",
    "r_eq = (k*beta_0)/(k*h + j*beta_1) - ( beta_1 / (k*h + j*beta_1) )*(Ms/P)\n",
    "Y_eq = (j*beta_0)/(k*h + j*beta_1) + ( h / (k*h + j*beta_1) )*(Ms/P)\n"
   ]
  },
  {
   "cell_type": "code",
   "execution_count": 110,
   "id": "32b8df1b",
   "metadata": {},
   "outputs": [
    {
     "name": "stdout",
     "output_type": "stream",
     "text": [
      "El Diferencial del Producto con respecto al diferencial de la tasa impositiva =  -Ms*h*j*(b - m)/(P*(h*k + j*(-(1 - t)*(b - m) + 1))**2) - j**2*(b - m)*(Co + Go + Io + Xo)/(h*k + j*(-(1 - t)*(b - m) + 1))**2\n"
     ]
    }
   ],
   "source": [
    "df_Y_eq_t = diff(Y_eq, t)\n",
    "print(\"El Diferencial del Producto con respecto al diferencial de la tasa impositiva = \", df_Y_eq_t)\n"
   ]
  },
  {
   "cell_type": "markdown",
   "id": "c38fc2ff",
   "metadata": {},
   "source": [
    "¿$∆Y$ sabiendo que $∆t > 0$?\n",
    "\n",
    "$$ \\frac{∆Y}{∆t} = (-) $$\n",
    "\n",
    "$$ \\frac{∆Y}{(+)} = (-) $$\n",
    "\n",
    "$$ ∆Y < 0 $$"
   ]
  },
  {
   "cell_type": "code",
   "execution_count": 111,
   "id": "82644035",
   "metadata": {},
   "outputs": [
    {
     "name": "stdout",
     "output_type": "stream",
     "text": [
      "El Diferencial de la tasa de interés con respecto al diferencial de la tasa impositiva =  Ms*j*(b - m)*(-(1 - t)*(b - m) + 1)/(P*(h*k + j*(-(1 - t)*(b - m) + 1))**2) - Ms*(b - m)/(P*(h*k + j*(-(1 - t)*(b - m) + 1))) - j*k*(b - m)*(Co + Go + Io + Xo)/(h*k + j*(-(1 - t)*(b - m) + 1))**2\n"
     ]
    }
   ],
   "source": [
    "df_r_eq_t = diff(r_eq, t)\n",
    "print(\"El Diferencial de la tasa de interés con respecto al diferencial de la tasa impositiva = \", df_r_eq_t)\n"
   ]
  },
  {
   "cell_type": "markdown",
   "id": "0095fbd9",
   "metadata": {},
   "source": [
    "¿$∆r$ sabiendo que $∆t > 0$?\n",
    "\n",
    "$$ \\frac{∆r}{∆t} = (-) $$\n",
    "\n",
    "$$ \\frac{∆r}{(+)} = (-) $$\n",
    "\n",
    "$$ ∆r < 0 $$"
   ]
  },
  {
   "cell_type": "markdown",
   "id": "c338327e",
   "metadata": {},
   "source": [
    "- Intuición:\n",
    "\n",
    "$$ t↑ → DA↓ → DA < Y → Y↓$$\n",
    "\n",
    "$$ Y↓ → M^d↓ → M^d < M^s → r↓ $$"
   ]
  },
  {
   "cell_type": "markdown",
   "id": "b24385e9",
   "metadata": {},
   "source": [
    "- Gráfico:"
   ]
  },
  {
   "cell_type": "code",
   "execution_count": 135,
   "id": "c4fea455",
   "metadata": {},
   "outputs": [],
   "source": [
    "#1--------------------------------------------------\n",
    "    # Curva IS ORIGINAL\n",
    "\n",
    "# Parámetros\n",
    "\n",
    "Y_size = 100 \n",
    "\n",
    "Co = 35\n",
    "Io = 40\n",
    "Go = 50\n",
    "Xo = 2\n",
    "h = 0.8\n",
    "b = 0.5\n",
    "m = 0.4\n",
    "t = 0.1\n",
    "\n",
    "Y = np.arange(Y_size)\n",
    "\n",
    "\n",
    "# Ecuación \n",
    "def r_IS(b, m, t, Co, Io, Go, Xo, h, Y):\n",
    "    r_IS = (Co + Io + Go + Xo - Y * (1-(b-m)*(1-t)))/h\n",
    "    return r_IS\n",
    "\n",
    "r = r_IS(b, m, t, Co, Io, Go, Xo, h, Y)\n",
    "\n",
    "\n",
    "#2--------------------------------------------------\n",
    "    # Curva LM ORIGINAL\n",
    "\n",
    "# Parámetros\n",
    "\n",
    "Y_size = 100\n",
    "\n",
    "k = 2\n",
    "j = 1                \n",
    "Ms = 200             \n",
    "P  = 20               \n",
    "\n",
    "Y = np.arange(Y_size)\n",
    "\n",
    "# Ecuación\n",
    "\n",
    "def i_LM( k, j, Ms, P, Y):\n",
    "    i_LM = (-Ms/P)/j + k/j*Y\n",
    "    return i_LM\n",
    "\n",
    "i = i_LM( k, j, Ms, P, Y)"
   ]
  },
  {
   "cell_type": "code",
   "execution_count": 136,
   "id": "16bf4908",
   "metadata": {},
   "outputs": [],
   "source": [
    "#--------------------------------------------------\n",
    "    # NUEVA curva IS: \n",
    "    \n",
    "# Definir SOLO el parámetro cambiado\n",
    "t = 3\n",
    "\n",
    "# Generar la ecuación con el nuevo parámetro\n",
    "def r_IS(b, m, t, Co, Io, Go, Xo, h, Y):\n",
    "    r_IS = (Co + Io + Go + Xo - Y * (1-(b-m)*(1-t)))/h\n",
    "    return r_IS\n",
    "\n",
    "r_t = r_IS(b, m, t, Co, Io, Go, Xo, h, Y)"
   ]
  },
  {
   "cell_type": "code",
   "execution_count": 160,
   "id": "b62b53fa",
   "metadata": {},
   "outputs": [
    {
     "data": {
      "image/png": "[encoded data removed]",
      "text/plain": [
       "<Figure size 720x576 with 1 Axes>"
      ]
     },
     "metadata": {
      "needs_background": "light"
     },
     "output_type": "display_data"
    }
   ],
   "source": [
    "# Gráfico\n",
    "\n",
    "# Dimensiones del gráfico\n",
    "y_max = np.max(i)\n",
    "fig, ax = plt.subplots(figsize=(10, 8))\n",
    "\n",
    "# Curvas a graficar\n",
    "ax.plot(Y, r, label = \"IS_(G_0)\", color = \"C1\") #IS_orginal\n",
    "ax.plot(Y, r_t, label = \"IS_(G_1)\", color = \"C1\", linestyle = 'dashed') #IS_modificada\n",
    "\n",
    "ax.plot(Y, i, label=\"LM\", color = \"C0\")  #LM_original\n",
    "\n",
    "# Texto y figuras agregadas\n",
    "plt.axvline(x=48,  ymin= 0, ymax= 0.48, linestyle = \":\", color = \"grey\")\n",
    "plt.axhline(y=86, xmin= 0, xmax= 0.48, linestyle = \":\", color = \"grey\")\n",
    "\n",
    "plt.axvline(x=54,  ymin= 0, ymax= 0.54, linestyle = \":\", color = \"grey\")\n",
    "plt.axhline(y=98, xmin= 0, xmax= 0.54, linestyle = \":\", color = \"grey\")\n",
    "\n",
    "plt.text(43,70, '$E_1$', fontsize = 14, color = 'black')\n",
    "plt.text(52,103, '$E_0$', fontsize = 14, color = 'black')\n",
    "plt.text(-1,101, '$r_0$', fontsize = 12, color = 'black')\n",
    "plt.text(-1,79, '$r_1$', fontsize = 12, color = 'C1')\n",
    "plt.text(55,-10, '$Y_0$', fontsize = 12, color = 'black')\n",
    "plt.text(44,-10, '$Y_1$', fontsize = 12, color = 'C1')\n",
    "\n",
    "plt.text(69, 61, '←', fontsize=15, color='grey')\n",
    "plt.text(49, 15, '←', fontsize=15, color='grey')\n",
    "plt.text(10, 89, '↓', fontsize=15, color='grey')\n",
    "\n",
    "# Título, ejes y leyenda\n",
    "ax.set(title=\"Aumento en la Tasa Impositiva\", xlabel= r'Y', ylabel= r'r')\n",
    "ax.legend()\n",
    "\n",
    "plt.show()"
   ]
  },
  {
   "cell_type": "markdown",
   "id": "13237822",
   "metadata": {},
   "source": [
    "### Parte 2: Puntos extra "
   ]
  },
  {
   "cell_type": "markdown",
   "id": "eed27be1",
   "metadata": {},
   "source": [
    "### 1. A partir del siguiente sistema de ecuaciones que representan el modelo IS-LM"
   ]
  },
  {
   "cell_type": "markdown",
   "id": "61f69c22",
   "metadata": {},
   "source": [
    "#### 1.1 Encuentre las ecuaciones de Ingreso $(Y^e)$ y tasa de interes $(r^e)$ de equilibrio (escriba paso a paso la derivacion de estas ecuaciones)."
   ]
  },
  {
   "cell_type": "markdown",
   "id": "07f56ab6",
   "metadata": {},
   "source": [
    "- Curva IS:\n",
    "\n",
    "A partir de la nueva identidad Ingreso-Gasto: $ Y = C + I + G $\n",
    "\n",
    "$$ Y = C_0 + bY^d + I_0 - hr + G_0$$\n",
    "\n",
    "$$ Y = C_0 + I_0 + G_0 - hr + b(1-t)Y $$\n",
    "\n",
    "$$ hr = C_0 + I_0 + G_0 + b(1-t)Y - Y $$\n",
    "\n",
    "$$ hr = C_0 + I_0 + G_0 - Y(1- b(1-t)) $$\n",
    "\n",
    "La ecuación de la curva IS es:\n",
    "\n",
    "$$ r = \\frac{C_0 + I_0 + G_0}{h} - \\frac{1- b(1-t)}{h}Y $$\n",
    "\n",
    "$$ r = \\frac{B_0}{h} - \\frac{B_1}{h}Y $$\n",
    "\n",
    "Donde $B_0 = C_0 + I_0 + G_0 $ y $ B_1 = 1- b(1-t) $"
   ]
  },
  {
   "cell_type": "markdown",
   "id": "25c17280",
   "metadata": {},
   "source": [
    "- Curva LM:\n",
    "\n",
    "$$ \\frac{M^s_0}{P_0} = kY - j(r + π^e) $$"
   ]
  },
  {
   "cell_type": "markdown",
   "id": "e843810b",
   "metadata": {},
   "source": [
    "$$ j(r + π^e) = kY - \\frac{M^s_0}{P_0} $$\n",
    "\n",
    "$$ r + π^e = - \\frac{M^s_0}{jP_0} + \\frac{kY}{j} $$\n",
    "\n",
    "La ecuación de la curva LM es:\n",
    "\n",
    "$$ r = - \\frac{M^s_0}{jP_0} + \\frac{k}{j}Y - π^e $$"
   ]
  },
  {
   "cell_type": "markdown",
   "id": "baf89ac6",
   "metadata": {},
   "source": [
    "- Equilibrio modelo IS-LM:\n",
    "\n",
    "Para hallar $Y^e$:"
   ]
  },
  {
   "cell_type": "markdown",
   "id": "bd384b20",
   "metadata": {},
   "source": [
    "$$ \\frac{B_0}{h} - \\frac{B_1}{h}Y = - \\frac{M^s_0}{jP_0} + \\frac{k}{j}Y - π^e $$\n"
   ]
  },
  {
   "cell_type": "markdown",
   "id": "ff820db0",
   "metadata": {},
   "source": [
    "$$ \\frac{B_0}{h} + \\frac{M^s_0}{jP_0} + π^e = \\frac{k}{j}Y + \\frac{B_1}{h}Y $$"
   ]
  },
  {
   "cell_type": "markdown",
   "id": "c7445a85",
   "metadata": {},
   "source": [
    "$$ Y(\\frac{k}{j} + \\frac{B_1}{h}) = \\frac{B_0}{h} + \\frac{M^s_0}{jP_0} + π^e $$"
   ]
  },
  {
   "cell_type": "markdown",
   "id": "56e2ea9f",
   "metadata": {},
   "source": [
    "$$ Y(\\frac{hk + jB_1}{jh}) = \\frac{B_0}{h} + \\frac{M^s_0}{jP_0} + π^e $$"
   ]
  },
  {
   "cell_type": "markdown",
   "id": "9aca514f",
   "metadata": {},
   "source": [
    "$$ Y^e = \\frac{jB_0}{kh + jB_1} + \\frac{M_0^s}{P_0} \\frac{h}{kh + jB_1} + \\frac{jh}{kh + jB_1} π^e $$"
   ]
  },
  {
   "cell_type": "markdown",
   "id": "8e381ac0",
   "metadata": {},
   "source": [
    "Para hallar $r^e$:"
   ]
  },
  {
   "cell_type": "markdown",
   "id": "d7c0a9da",
   "metadata": {},
   "source": [
    "$$ r^e = - \\frac{Ms_o}{P_o} (\\frac{B_1}{kh + jB_1}) + \\frac{kB_o}{kh + jB_1} - \\frac{B_1}{kh + jB_1} π^e $$\n"
   ]
  },
  {
   "cell_type": "markdown",
   "id": "60f75589",
   "metadata": {},
   "source": [
    "#### 1.2 Grafique el equilibrio simultáneo en los mercados de bienes y de dinero."
   ]
  },
  {
   "cell_type": "code",
   "execution_count": 161,
   "id": "f16dc878",
   "metadata": {},
   "outputs": [],
   "source": [
    "#--------------------------------------------------\n",
    "    # Curva IS\n",
    "\n",
    "# Parámetros\n",
    "\n",
    "Y_size = 100 \n",
    "\n",
    "Co = 35\n",
    "Io = 40\n",
    "Go = 50\n",
    "h = 0.8\n",
    "b = 0.5\n",
    "t = 0.8\n",
    "\n",
    "Y = np.arange(Y_size)\n",
    "\n",
    "\n",
    "# Ecuación \n",
    "def r_IS_2(b, t, Co, Io, Go, h, Y):\n",
    "    r_IS_2 = (Co + Io + Go - Y * (1-b*(1-t)))/h\n",
    "    return r_IS_2\n",
    "\n",
    "r_2 = r_IS_2(b, t, Co, Io, Go, h, Y)\n",
    "\n",
    "\n",
    "#--------------------------------------------------\n",
    "    # Curva LM \n",
    "\n",
    "# Parámetros\n",
    "\n",
    "Y_size = 100\n",
    "\n",
    "k = 2\n",
    "j = 1                \n",
    "Ms = 200             \n",
    "P  = 20\n",
    "π = 4\n",
    "\n",
    "Y = np.arange(Y_size)\n",
    "\n",
    "# Ecuación\n",
    "\n",
    "def i_LM_2(k, j, Ms, P, Y, π):\n",
    "    i_LM_2 = (-Ms/P)/j + k/j*Y - π\n",
    "    return i_LM_2\n",
    "\n",
    "i_2 = i_LM_2( k, j, Ms, P, Y, π)"
   ]
  },
  {
   "cell_type": "code",
   "execution_count": 172,
   "id": "3b43c762",
   "metadata": {},
   "outputs": [
    {
     "data": {
      "image/png": "[encoded data removed]",
      "text/plain": [
       "<Figure size 720x576 with 1 Axes>"
      ]
     },
     "metadata": {},
     "output_type": "display_data"
    }
   ],
   "source": [
    "    # Gráfico del modelo IS-LM\n",
    "\n",
    "# Dimensiones del gráfico\n",
    "y_max = np.max(i)\n",
    "fig, ax = plt.subplots(figsize=(10, 8))\n",
    "\n",
    "# Curvas a graficar\n",
    "ax.plot(Y, r_2, label = \"IS\", color = \"C1\") #IS\n",
    "ax.plot(Y, i_2, label=\"LM\", color = \"C0\")  #LM\n",
    "\n",
    "# Eliminar las cantidades de los ejes\n",
    "ax.yaxis.set_major_locator(plt.NullLocator())   \n",
    "ax.xaxis.set_major_locator(plt.NullLocator())\n",
    "\n",
    "# Texto y figuras agregadas\n",
    "plt.axvline(x=55,  ymin= 0, ymax= 0.54, linestyle = \":\", color = \"black\")\n",
    "plt.axhline(y=94, xmin= 0, xmax= 0.55, linestyle = \":\", color = \"black\")\n",
    "plt.text(53,102, '$E_0$', fontsize = 14, color = 'black')\n",
    "plt.text(0,100, '$r_0$', fontsize = 12, color = 'black')\n",
    "plt.text(56,-15, '$Y_0$', fontsize = 12, color = 'black')\n",
    "\n",
    "# Título, ejes y leyenda\n",
    "ax.set(title=\"Equilibrio modelo IS-LM\", xlabel= r'Y', ylabel= r'r')\n",
    "ax.legend()\n",
    "\n",
    "plt.show()"
   ]
  },
  {
   "cell_type": "code",
   "execution_count": 214,
   "id": "1156ba9e",
   "metadata": {},
   "outputs": [],
   "source": [
    "# nombrar variables como símbolos\n",
    "Co, Io, Go, h, r, b, t, beta_0, beta_1  = symbols('Co, Io, Go, h, r, b, t, beta_0, beta_1')\n",
    "\n",
    "# nombrar variables como símbolos\n",
    "k, j, Ms, P, Y, π = symbols('k j Ms P Y π')\n",
    "\n",
    "# Beta_0 y beta_1\n",
    "beta_0 = (Co + Io + Go)\n",
    "beta_1 = (1 - b*(1-t))\n",
    "\n",
    "# Producto de equilibrio y la tasa de interes de equilibrio en el modelo IS-LM\n",
    "r_eq = -(Ms/P)*(beta_1/(k*h+j*beta_1)) + ((k*beta_0)/k*h+j*beta_1) - ((beta_1*π)/k*h+j*beta_1)\n",
    "Y_eq = ((j*beta_0)/(k*h+j*beta_1)) + (Ms/P)*(h/(k*h+j*beta_1)) + (j*h*π/(k*h+j*beta_1))"
   ]
  },
  {
   "cell_type": "markdown",
   "id": "727ca8e7",
   "metadata": {},
   "source": [
    "### 2. Estática comparativa:"
   ]
  },
  {
   "cell_type": "markdown",
   "id": "dd96db54",
   "metadata": {},
   "source": [
    "#### 2.1. Analice los efectos sobre las variables endógenas Y, r de una disminución de los Precios $(∆P_0 < 0)$. El análisis debe ser intuitivo, matemático y gráfico."
   ]
  },
  {
   "cell_type": "markdown",
   "id": "c740fc20",
   "metadata": {},
   "source": [
    "- Matemática:"
   ]
  },
  {
   "cell_type": "code",
   "execution_count": 215,
   "id": "5d19e55c",
   "metadata": {},
   "outputs": [],
   "source": [
    "# nombrar variables como símbolos\n",
    "Co, Io, Go, h, r, b, t, beta_0, beta_1  = symbols('Co, Io, Go, h, r, b, t, beta_0, beta_1')\n",
    "\n",
    "# nombrar variables como símbolos\n",
    "k, j, Ms, P, Y, π = symbols('k j Ms P Y π')\n",
    "\n",
    "# Beta_0 y beta_1\n",
    "beta_0 = (Co + Io + Go)\n",
    "beta_1 = (1 - b*(1-t))\n",
    "\n",
    "# Producto de equilibrio y la tasa de interes de equilibrio en el modelo IS-LM\n",
    "r_eq = -(Ms/P)*(beta_1/(k*h+j*beta_1)) + ((k*beta_0)/k*h+j*beta_1) - ((beta_1*π)/k*h+j*beta_1)\n",
    "Y_eq = ((j*beta_0)/(k*h+j*beta_1)) + (Ms/P)*(h/(k*h+j*beta_1)) + (j*h*π/(k*h+j*beta_1))\n"
   ]
  },
  {
   "cell_type": "code",
   "execution_count": 216,
   "id": "b9548220",
   "metadata": {},
   "outputs": [
    {
     "name": "stdout",
     "output_type": "stream",
     "text": [
      "El Diferencial del Producto con respecto al diferencial del nivel de precios =  -Ms*h/(P**2*(h*k + j*(-b*(1 - t) + 1)))\n"
     ]
    }
   ],
   "source": [
    "df_Y_eq_P = diff(Y_eq, P)\n",
    "print(\"El Diferencial del Producto con respecto al diferencial del nivel de precios = \", df_Y_eq_P)\n"
   ]
  },
  {
   "cell_type": "markdown",
   "id": "37b5b33d",
   "metadata": {},
   "source": [
    "¿$∆Y$ sabiendo que $∆P < 0$?\n",
    "\n",
    "$$ \\frac{∆Y}{∆P} = (-) $$\n",
    "\n",
    "$$ \\frac{∆Y}{(-)} = (-) $$\n",
    "\n",
    "$$ ∆Y > 0 $$"
   ]
  },
  {
   "cell_type": "code",
   "execution_count": 217,
   "id": "1c861896",
   "metadata": {},
   "outputs": [
    {
     "name": "stdout",
     "output_type": "stream",
     "text": [
      "El Diferencial de la tasa de interés con respecto al diferencial del nivel de precios =  Ms*(-b*(1 - t) + 1)/(P**2*(h*k + j*(-b*(1 - t) + 1)))\n"
     ]
    }
   ],
   "source": [
    "df_r_eq_P = diff(r_eq, P)\n",
    "print(\"El Diferencial de la tasa de interés con respecto al diferencial del nivel de precios = \", df_r_eq_P)\n"
   ]
  },
  {
   "cell_type": "markdown",
   "id": "0fbdaa70",
   "metadata": {},
   "source": [
    "¿$∆r$ sabiendo que $∆P < 0$?\n",
    "\n",
    "$$ \\frac{∆r}{∆P} = (+) $$\n",
    "\n",
    "$$ \\frac{∆r}{(-)} = (+) $$\n",
    "\n",
    "$$ ∆r < 0 $$"
   ]
  },
  {
   "cell_type": "markdown",
   "id": "1d453899",
   "metadata": {},
   "source": [
    "- Intuición:\n",
    "\n",
    "$$ P↓ → M^s↑ → M^s > M^d → r↓ $$\n",
    "\n",
    "$$ r↓ → I↑ → DA↑ → DA > Y → Y↑ $$"
   ]
  },
  {
   "cell_type": "code",
   "execution_count": 182,
   "id": "ef5a2d0e",
   "metadata": {},
   "outputs": [],
   "source": [
    "#--------------------------------------------------\n",
    "    # Curva IS\n",
    "\n",
    "# Parámetros\n",
    "\n",
    "Y_size = 100 \n",
    "\n",
    "Co = 35\n",
    "Io = 40\n",
    "Go = 50\n",
    "h = 0.8\n",
    "b = 0.5\n",
    "t = 0.8\n",
    "\n",
    "Y = np.arange(Y_size)\n",
    "\n",
    "\n",
    "# Ecuación \n",
    "def r_IS_2(b, t, Co, Io, Go, h, Y):\n",
    "    r_IS_2 = (Co + Io + Go - Y * (1-b*(1-t)))/h\n",
    "    return r_IS_2\n",
    "\n",
    "r_2 = r_IS_2(b, t, Co, Io, Go, h, Y)\n",
    "\n",
    "\n",
    "#--------------------------------------------------\n",
    "    # Curva LM \n",
    "\n",
    "# Parámetros\n",
    "\n",
    "Y_size = 100\n",
    "\n",
    "k = 2\n",
    "j = 1                \n",
    "Ms = 200             \n",
    "P  = 20\n",
    "π = 4\n",
    "\n",
    "Y = np.arange(Y_size)\n",
    "\n",
    "# Ecuación\n",
    "\n",
    "def i_LM_2(k, j, Ms, P, Y, π):\n",
    "    i_LM_2 = (-Ms/P)/j + k/j*Y - π\n",
    "    return i_LM_2\n",
    "\n",
    "i_2 = i_LM_2( k, j, Ms, P, Y, π)\n",
    "\n",
    "\n",
    "#--------------------------------------------------\n",
    "    # Nueva curva LM \n",
    "    \n",
    "P = 5\n",
    "\n",
    "# Ecuación\n",
    "\n",
    "def i_LM_2(k, j, Ms, P, Y, π):\n",
    "    i_LM_2 = (-Ms/P)/j + k/j*Y - π\n",
    "    return i_LM_2\n",
    "\n",
    "i_2_P = i_LM_2( k, j, Ms, P, Y, π)"
   ]
  },
  {
   "cell_type": "code",
   "execution_count": 213,
   "id": "28971332",
   "metadata": {},
   "outputs": [
    {
     "data": {
      "image/png": "[encoded data removed]",
      "text/plain": [
       "<Figure size 720x576 with 1 Axes>"
      ]
     },
     "metadata": {},
     "output_type": "display_data"
    }
   ],
   "source": [
    "    # Gráfico del modelo IS-LM\n",
    "\n",
    "# Dimensiones del gráfico\n",
    "y_max = np.max(i)\n",
    "fig, ax = plt.subplots(figsize=(10, 8))\n",
    "\n",
    "# Curvas a graficar\n",
    "ax.plot(Y, r_2, label = \"IS\", color = \"C1\") #IS\n",
    "ax.plot(Y, i_2, label=\"LM\", color = \"C0\")  #LM\n",
    "ax.plot(Y, i_2_P, label=\"LM\", color = \"C0\", linestyle ='dashed')  #LM\n",
    "\n",
    "# Eliminar las cantidades de los ejes\n",
    "ax.yaxis.set_major_locator(plt.NullLocator())   \n",
    "ax.xaxis.set_major_locator(plt.NullLocator())\n",
    "\n",
    "# Texto y figuras agregadas\n",
    "plt.axvline(x=55,  ymin= 0, ymax= 0.6, linestyle = \":\", color = \"black\")\n",
    "plt.axhline(y=94, xmin= 0, xmax= 0.55, linestyle = \":\", color = \"black\")\n",
    "plt.text(53,102, '$E_0$', fontsize = 14, color = 'black')\n",
    "plt.text(0,100, '$r_0$', fontsize = 12, color = 'black')\n",
    "plt.text(56,-45, '$Y_0$', fontsize = 12, color = 'black')\n",
    "\n",
    "plt.axvline(x=64.5,  ymin= 0, ymax= 0.56, linestyle = \":\", color = \"black\")\n",
    "plt.axhline(y=85, xmin= 0, xmax= 0.64, linestyle = \":\", color = \"black\")\n",
    "plt.text(62,90, '$E_1$', fontsize = 14, color = 'C0')\n",
    "plt.text(0,75, '$r_1$', fontsize = 12, color = 'C0')\n",
    "plt.text(66,-45, '$Y_1$', fontsize = 12, color = 'C0')\n",
    "\n",
    "# Título, ejes y leyenda\n",
    "ax.set(title=\"Disminución del Precio\", xlabel= r'Y', ylabel= r'r')\n",
    "ax.legend()\n",
    "\n",
    "plt.show()"
   ]
  },
  {
   "cell_type": "markdown",
   "id": "d46a52e8",
   "metadata": {},
   "source": [
    "#### 2.2 Analice los efectos sobre las variables endógenas Y, r de una disminución de la inflación esperada $(∆π < 0)$. El análisis debe ser intuitivo, matemático y gráfico."
   ]
  },
  {
   "cell_type": "markdown",
   "id": "47628310",
   "metadata": {},
   "source": [
    "- Matemática:"
   ]
  },
  {
   "cell_type": "code",
   "execution_count": 254,
   "id": "09a58635",
   "metadata": {},
   "outputs": [],
   "source": [
    "# nombrar variables como símbolos\n",
    "Co, Io, Go, h, r, b, t, beta_0, beta_1  = symbols('Co, Io, Go, h, r, b, t, beta_0, beta_1')\n",
    "\n",
    "# nombrar variables como símbolos\n",
    "k, j, Ms, P, Y, π = symbols('k j Ms P Y π')\n",
    "\n",
    "# Beta_0 y beta_1\n",
    "beta_0 = (Co + Io + Go)\n",
    "beta_1 = (1 - b*(1-t))\n",
    "\n",
    "# Producto de equilibrio y la tasa de interes de equilibrio en el modelo IS-LM\n",
    "r_eq = -(Ms/P)*(beta_1/(k*h+j*beta_1)) + ((k*beta_0)/k*h+j*beta_1) - ((beta_1*π)/k*h+j*beta_1)\n",
    "Y_eq = ((j*beta_0)/(k*h+j*beta_1)) + (Ms/P)*(h/(k*h+j*beta_1)) + (j*h*π/(k*h+j*beta_1))\n"
   ]
  },
  {
   "cell_type": "code",
   "execution_count": 255,
   "id": "cc081429",
   "metadata": {},
   "outputs": [
    {
     "name": "stdout",
     "output_type": "stream",
     "text": [
      "El Diferencial del Producto con respecto al diferencial del nivel de inflación =  h*j/(h*k + j*(-b*(1 - t) + 1))\n"
     ]
    }
   ],
   "source": [
    "df_Y_eq_π = diff(Y_eq, π)\n",
    "print(\"El Diferencial del Producto con respecto al diferencial del nivel de inflación = \", df_Y_eq_π)\n"
   ]
  },
  {
   "cell_type": "markdown",
   "id": "3f57b46e",
   "metadata": {},
   "source": [
    "¿$∆Y$ sabiendo que $∆π < 0$?\n",
    "\n",
    "$$ \\frac{∆Y}{∆π} = (+) $$\n",
    "\n",
    "$$ \\frac{∆Y}{(-)} = (+) $$\n",
    "\n",
    "$$ ∆Y < 0 $$"
   ]
  },
  {
   "cell_type": "code",
   "execution_count": 256,
   "id": "2d8e913a",
   "metadata": {},
   "outputs": [
    {
     "name": "stdout",
     "output_type": "stream",
     "text": [
      "El Diferencial de la tasa de interés con respecto al diferencial del nivel de inflación =  -h*(-b*(1 - t) + 1)/k\n"
     ]
    }
   ],
   "source": [
    "df_r_eq_π = diff(r_eq, π)\n",
    "print(\"El Diferencial de la tasa de interés con respecto al diferencial del nivel de inflación = \", df_r_eq_π)\n"
   ]
  },
  {
   "cell_type": "markdown",
   "id": "0dd7bb3c",
   "metadata": {},
   "source": [
    "¿$∆r$ sabiendo que $∆π < 0$?\n",
    "\n",
    "$$ \\frac{∆r}{∆π} = (-) $$\n",
    "\n",
    "$$ \\frac{∆r}{(-)} = (-) $$\n",
    "\n",
    "$$ ∆r > 0 $$"
   ]
  },
  {
   "cell_type": "markdown",
   "id": "c0c0e604",
   "metadata": {},
   "source": [
    "- Intuición:\n",
    "\n",
    "$$ π↓ → r↑ $$\n",
    "\n",
    "$$ r↑ → I↓ → DA↓ → DA < Y → Y↓ $$"
   ]
  },
  {
   "cell_type": "code",
   "execution_count": 224,
   "id": "760e5e56",
   "metadata": {},
   "outputs": [],
   "source": [
    "#--------------------------------------------------\n",
    "    # Curva IS\n",
    "\n",
    "# Parámetros\n",
    "\n",
    "Y_size = 100 \n",
    "\n",
    "Co = 35\n",
    "Io = 40\n",
    "Go = 50\n",
    "h = 0.8\n",
    "b = 0.5\n",
    "t = 0.8\n",
    "\n",
    "Y = np.arange(Y_size)\n",
    "\n",
    "\n",
    "# Ecuación \n",
    "def r_IS_2(b, t, Co, Io, Go, h, Y):\n",
    "    r_IS_2 = (Co + Io + Go - Y * (1-b*(1-t)))/h\n",
    "    return r_IS_2\n",
    "\n",
    "r_2 = r_IS_2(b, t, Co, Io, Go, h, Y)\n",
    "\n",
    "\n",
    "#--------------------------------------------------\n",
    "    # Curva LM \n",
    "\n",
    "# Parámetros\n",
    "\n",
    "Y_size = 100\n",
    "\n",
    "k = 2\n",
    "j = 1                \n",
    "Ms = 200             \n",
    "P  = 20\n",
    "π = 20\n",
    "\n",
    "Y = np.arange(Y_size)\n",
    "\n",
    "# Ecuación\n",
    "\n",
    "def i_LM_2(k, j, Ms, P, Y, π):\n",
    "    i_LM_2 = (-Ms/P)/j + k/j*Y - π\n",
    "    return i_LM_2\n",
    "\n",
    "i_2 = i_LM_2( k, j, Ms, P, Y, π)\n",
    "\n",
    "\n",
    "#--------------------------------------------------\n",
    "    # Nueva curva LM \n",
    "    \n",
    "π = 2\n",
    "\n",
    "# Ecuación\n",
    "\n",
    "def i_LM_2(k, j, Ms, P, Y, π):\n",
    "    i_LM_2 = (-Ms/P)/j + k/j*Y - π\n",
    "    return i_LM_2\n",
    "\n",
    "i_2_π = i_LM_2( k, j, Ms, P, Y, π)"
   ]
  },
  {
   "cell_type": "code",
   "execution_count": 253,
   "id": "ff602a8d",
   "metadata": {},
   "outputs": [
    {
     "data": {
      "image/png": "[encoded data removed]",
      "text/plain": [
       "<Figure size 720x576 with 1 Axes>"
      ]
     },
     "metadata": {},
     "output_type": "display_data"
    }
   ],
   "source": [
    "    # Gráfico del modelo IS-LM\n",
    "\n",
    "# Dimensiones del gráfico\n",
    "y_max = np.max(i)\n",
    "fig, ax = plt.subplots(figsize=(10, 8))\n",
    "\n",
    "# Curvas a graficar\n",
    "ax.plot(Y, r_2, label = \"IS\", color = \"C1\") #IS\n",
    "ax.plot(Y, i_2, label=\"LM\", color = \"C0\")  #LM\n",
    "ax.plot(Y, i_2_π, label=\"LM\", color = \"C0\", linestyle ='dashed')  #LM\n",
    "\n",
    "# Eliminar las cantidades de los ejes\n",
    "ax.yaxis.set_major_locator(plt.NullLocator())   \n",
    "ax.xaxis.set_major_locator(plt.NullLocator())\n",
    "\n",
    "# Texto y figuras agregadas\n",
    "plt.axvline(x=54,  ymin= 0, ymax= 0.57, linestyle = \":\", color = \"black\")\n",
    "plt.axhline(y=95, xmin= 0, xmax= 0.54, linestyle = \":\", color = \"black\")\n",
    "plt.text(52,103, '$E_1$', fontsize = 14, color = 'C0')\n",
    "plt.text(0,100, '$r_1$', fontsize = 12, color = 'C0')\n",
    "plt.text(50,-35, '$Y_1$', fontsize = 12, color = 'C0')\n",
    "\n",
    "plt.axvline(x=60,  ymin= 0, ymax= 0.55, linestyle = \":\", color = \"black\")\n",
    "plt.axhline(y=89, xmin= 0, xmax= 0.6, linestyle = \":\", color = \"black\")\n",
    "plt.text(58,95, '$E_0$', fontsize = 14, color = 'black')\n",
    "plt.text(0,80, '$r_0$', fontsize = 12, color = 'black')\n",
    "plt.text(56,-35, '$Y_0$', fontsize = 12, color = 'black')\n",
    "\n",
    "# Título, ejes y leyenda\n",
    "ax.set(title=\"Disminución de la inflación esperada\", xlabel= r'Y', ylabel= r'r')\n",
    "ax.legend()\n",
    "\n",
    "plt.show()"
   ]
  }
 ],
 "metadata": {
  "kernelspec": {
   "display_name": "Python 3 (ipykernel)",
   "language": "python",
   "name": "python3"
  },
  "language_info": {
   "codemirror_mode": {
    "name": "ipython",
    "version": 3
   },
   "file_extension": ".py",
   "mimetype": "text/x-python",
   "name": "python",
   "nbconvert_exporter": "python",
   "pygments_lexer": "ipython3",
   "version": "3.9.7"
  }
 },
 "nbformat": 4,
 "nbformat_minor": 5
}
