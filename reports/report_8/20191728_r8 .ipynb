{
 "cells": [
  {
   "cell_type": "markdown",
   "id": "b823d830",
   "metadata": {},
   "source": [
    "# Reporte 8   "
   ]
  },
  {
   "cell_type": "markdown",
   "id": "ff6e503d",
   "metadata": {},
   "source": [
    "# Bruno Merino"
   ]
  },
  {
   "cell_type": "markdown",
   "id": "74ac76d2",
   "metadata": {},
   "source": [
    "El articulo busca explicar como la mita, trabajo minero forzoso, afectó a la economía peruana durante 1577 hasta inicios de 1800. Afectando al ingreso económico en los hogares, hábitos de consumo, entre otros.\n",
    "\n",
    "Entre las fortalezas que se pueden encontrar en el artículo, se puede destacar la inclusión de información relevante de la época como la participación en los mercados, tenencia de tierras y bienes públicos; análisis comparativos en relación a los efectos de la mita en otros lugares de Latinoamérica; el uso de gráficos para explicar la variación de la mita y sus efectos; entre otros.\n",
    "\n",
    "Por otro lado, entre las debilidades del artículo, considero que, al ser un repaso histórico de los efectos de la mita, se concentra en hechos pasados sin darle una relevancia real o aporte sustancial al sistema económico actual. Otra debilidad seria que no se profundizo en provincias en especifico ni se dio una comparación entre ellas para observas la magnitud real o efectos comunes que se daban debido a la mita.\n",
    "\n",
    "En cuanto a la contribución del documento, considero que se busca mostrar la influencia de la mita y como esta de alguna manera ha persistido a través de su impacto en la tenencia de la tierra y la provisión de bienes públicos.\n",
    "\n",
    "Algunos pasos siguientes que se podrían considerar pertinentes serian la comparación histórica de lugares en los que se haya dado la mita a través de documentación recopilada de artículos de la época de las colonias e inicios de la republica.\n"
   ]
  },
  {
   "cell_type": "code",
   "execution_count": 2,
   "id": "62bcf685",
   "metadata": {},
   "outputs": [
    {
     "name": "stdout",
     "output_type": "stream",
     "text": [
      "Requirement already satisfied: linearmodels in c:\\users\\catono\\documents\\anaconda\\lib\\site-packages (4.27)Note: you may need to restart the kernel to use updated packages.\n",
      "Requirement already satisfied: numpy>=1.16 in c:\\users\\catono\\documents\\anaconda\\lib\\site-packages (from linearmodels) (1.20.3)\n",
      "Requirement already satisfied: setuptools-scm<7.0.0,>=6.4.2 in c:\\users\\catono\\documents\\anaconda\\lib\\site-packages (from linearmodels) (6.4.2)\n",
      "Requirement already satisfied: property-cached>=1.6.3 in c:\\users\\catono\\documents\\anaconda\\lib\\site-packages (from linearmodels) (1.6.4)\n",
      "Requirement already satisfied: mypy-extensions>=0.4 in c:\\users\\catono\\documents\\anaconda\\lib\\site-packages (from linearmodels) (0.4.3)\n",
      "Requirement already satisfied: formulaic~=0.3.2 in c:\\users\\catono\\documents\\anaconda\\lib\\site-packages (from linearmodels) (0.3.4)\n",
      "Requirement already satisfied: scipy>=1.2 in c:\\users\\catono\\documents\\anaconda\\lib\\site-packages (from linearmodels) (1.7.1)\n",
      "\n",
      "Requirement already satisfied: pyhdfe>=0.1 in c:\\users\\catono\\documents\\anaconda\\lib\\site-packages (from linearmodels) (0.1.0)\n",
      "Requirement already satisfied: pandas>=0.24 in c:\\users\\catono\\documents\\anaconda\\lib\\site-packages (from linearmodels) (1.3.4)\n",
      "Requirement already satisfied: Cython>=0.29.21 in c:\\users\\catono\\documents\\anaconda\\lib\\site-packages (from linearmodels) (0.29.24)\n",
      "Requirement already satisfied: statsmodels>=0.11 in c:\\users\\catono\\documents\\anaconda\\lib\\site-packages (from linearmodels) (0.12.2)\n",
      "Requirement already satisfied: astor>=0.8 in c:\\users\\catono\\documents\\anaconda\\lib\\site-packages (from formulaic~=0.3.2->linearmodels) (0.8.1)\n",
      "Requirement already satisfied: wrapt>=1.0 in c:\\users\\catono\\documents\\anaconda\\lib\\site-packages (from formulaic~=0.3.2->linearmodels) (1.12.1)\n",
      "Requirement already satisfied: interface-meta<2.0.0,>=1.2.0 in c:\\users\\catono\\documents\\anaconda\\lib\\site-packages (from formulaic~=0.3.2->linearmodels) (1.3.0)\n",
      "Requirement already satisfied: python-dateutil>=2.7.3 in c:\\users\\catono\\documents\\anaconda\\lib\\site-packages (from pandas>=0.24->linearmodels) (2.8.2)\n",
      "Requirement already satisfied: pytz>=2017.3 in c:\\users\\catono\\documents\\anaconda\\lib\\site-packages (from pandas>=0.24->linearmodels) (2021.3)\n",
      "Requirement already satisfied: six>=1.5 in c:\\users\\catono\\documents\\anaconda\\lib\\site-packages (from python-dateutil>=2.7.3->pandas>=0.24->linearmodels) (1.16.0)\n",
      "Requirement already satisfied: tomli>=1.0.0 in c:\\users\\catono\\documents\\anaconda\\lib\\site-packages (from setuptools-scm<7.0.0,>=6.4.2->linearmodels) (2.0.1)\n",
      "Requirement already satisfied: setuptools in c:\\users\\catono\\documents\\anaconda\\lib\\site-packages (from setuptools-scm<7.0.0,>=6.4.2->linearmodels) (58.0.4)\n",
      "Requirement already satisfied: packaging>=20.0 in c:\\users\\catono\\documents\\anaconda\\lib\\site-packages (from setuptools-scm<7.0.0,>=6.4.2->linearmodels) (21.0)\n",
      "Requirement already satisfied: pyparsing>=2.0.2 in c:\\users\\catono\\documents\\anaconda\\lib\\site-packages (from packaging>=20.0->setuptools-scm<7.0.0,>=6.4.2->linearmodels) (3.0.4)\n",
      "Requirement already satisfied: patsy>=0.5 in c:\\users\\catono\\documents\\anaconda\\lib\\site-packages (from statsmodels>=0.11->linearmodels) (0.5.2)\n"
     ]
    }
   ],
   "source": [
    "pip install linearmodels"
   ]
  },
  {
   "cell_type": "code",
   "execution_count": 3,
   "id": "b061808e",
   "metadata": {},
   "outputs": [
    {
     "name": "stdout",
     "output_type": "stream",
     "text": [
      "Collecting causalgraphicalmodels\n",
      "  Downloading causalgraphicalmodels-0.0.4-py3-none-any.whl (11 kB)\n",
      "Requirement already satisfied: networkx in c:\\users\\catono\\documents\\anaconda\\lib\\site-packages (from causalgraphicalmodels) (2.6.3)\n",
      "Collecting graphviz\n",
      "  Downloading graphviz-0.20.1-py3-none-any.whl (47 kB)\n",
      "Requirement already satisfied: pandas in c:\\users\\catono\\documents\\anaconda\\lib\\site-packages (from causalgraphicalmodels) (1.3.4)\n",
      "Requirement already satisfied: numpy in c:\\users\\catono\\documents\\anaconda\\lib\\site-packages (from causalgraphicalmodels) (1.20.3)\n",
      "Requirement already satisfied: python-dateutil>=2.7.3 in c:\\users\\catono\\documents\\anaconda\\lib\\site-packages (from pandas->causalgraphicalmodels) (2.8.2)\n",
      "Requirement already satisfied: pytz>=2017.3 in c:\\users\\catono\\documents\\anaconda\\lib\\site-packages (from pandas->causalgraphicalmodels) (2021.3)\n",
      "Requirement already satisfied: six>=1.5 in c:\\users\\catono\\documents\\anaconda\\lib\\site-packages (from python-dateutil>=2.7.3->pandas->causalgraphicalmodels) (1.16.0)\n",
      "Installing collected packages: graphviz, causalgraphicalmodels\n",
      "Successfully installed causalgraphicalmodels-0.0.4 graphviz-0.20.1\n",
      "Note: you may need to restart the kernel to use updated packages.\n"
     ]
    }
   ],
   "source": [
    "pip install causalgraphicalmodels"
   ]
  },
  {
   "cell_type": "code",
   "execution_count": 50,
   "id": "d3ea48aa",
   "metadata": {},
   "outputs": [],
   "source": [
    "# pip install causalgraphicalmodels\n",
    "# pip install linearmodels\n",
    "\n",
    "from causalgraphicalmodels import CausalGraphicalModel\n",
    "import os\n",
    "import numpy as np \n",
    "import pandas as pd \n",
    "import statsmodels.api as sm \n",
    "import statsmodels.formula.api as smf \n",
    "from itertools import combinations \n",
    "import statsmodels.api as sm\n",
    "import statsmodels.formula.api as smf\n",
    "import linearmodels.iv.model as lm\n",
    "from linearmodels.iv import IV2SLS\n",
    "from statsmodels.iolib.summary2 import summary_col\n",
    "import seaborn as sns"
   ]
  },
  {
   "cell_type": "code",
   "execution_count": 52,
   "id": "3cf28e32",
   "metadata": {},
   "outputs": [
    {
     "data": {
      "text/html": [
       "<div>\n",
       "<style scoped>\n",
       "    .dataframe tbody tr th:only-of-type {\n",
       "        vertical-align: middle;\n",
       "    }\n",
       "\n",
       "    .dataframe tbody tr th {\n",
       "        vertical-align: top;\n",
       "    }\n",
       "\n",
       "    .dataframe thead th {\n",
       "        text-align: right;\n",
       "    }\n",
       "</style>\n",
       "<table border=\"1\" class=\"dataframe\">\n",
       "  <thead>\n",
       "    <tr style=\"text-align: right;\">\n",
       "      <th></th>\n",
       "      <th>id</th>\n",
       "      <th>nearc2</th>\n",
       "      <th>nearc4</th>\n",
       "      <th>educ</th>\n",
       "      <th>age</th>\n",
       "      <th>fatheduc</th>\n",
       "      <th>motheduc</th>\n",
       "      <th>weight</th>\n",
       "      <th>momdad14</th>\n",
       "      <th>sinmom14</th>\n",
       "      <th>...</th>\n",
       "      <th>KWW</th>\n",
       "      <th>IQ</th>\n",
       "      <th>married</th>\n",
       "      <th>libcrd14</th>\n",
       "      <th>exper</th>\n",
       "      <th>lwage</th>\n",
       "      <th>expersq</th>\n",
       "      <th>u_lwage</th>\n",
       "      <th>lwage_hat</th>\n",
       "      <th>u_educ</th>\n",
       "    </tr>\n",
       "  </thead>\n",
       "  <tbody>\n",
       "    <tr>\n",
       "      <th>0</th>\n",
       "      <td>2.0</td>\n",
       "      <td>0.0</td>\n",
       "      <td>0.0</td>\n",
       "      <td>7.0</td>\n",
       "      <td>29.0</td>\n",
       "      <td>NaN</td>\n",
       "      <td>NaN</td>\n",
       "      <td>158413.0</td>\n",
       "      <td>1.0</td>\n",
       "      <td>0.0</td>\n",
       "      <td>...</td>\n",
       "      <td>15.0</td>\n",
       "      <td>NaN</td>\n",
       "      <td>1.0</td>\n",
       "      <td>0.0</td>\n",
       "      <td>16.0</td>\n",
       "      <td>6.306275</td>\n",
       "      <td>256.0</td>\n",
       "      <td>0.198047</td>\n",
       "      <td>6.108228</td>\n",
       "      <td>-3.067539</td>\n",
       "    </tr>\n",
       "    <tr>\n",
       "      <th>1</th>\n",
       "      <td>3.0</td>\n",
       "      <td>0.0</td>\n",
       "      <td>0.0</td>\n",
       "      <td>12.0</td>\n",
       "      <td>27.0</td>\n",
       "      <td>8.0</td>\n",
       "      <td>8.0</td>\n",
       "      <td>380166.0</td>\n",
       "      <td>1.0</td>\n",
       "      <td>0.0</td>\n",
       "      <td>...</td>\n",
       "      <td>35.0</td>\n",
       "      <td>93.0</td>\n",
       "      <td>1.0</td>\n",
       "      <td>1.0</td>\n",
       "      <td>9.0</td>\n",
       "      <td>6.175867</td>\n",
       "      <td>81.0</td>\n",
       "      <td>-0.211160</td>\n",
       "      <td>6.387027</td>\n",
       "      <td>-1.727562</td>\n",
       "    </tr>\n",
       "    <tr>\n",
       "      <th>2</th>\n",
       "      <td>4.0</td>\n",
       "      <td>0.0</td>\n",
       "      <td>0.0</td>\n",
       "      <td>12.0</td>\n",
       "      <td>34.0</td>\n",
       "      <td>14.0</td>\n",
       "      <td>12.0</td>\n",
       "      <td>367470.0</td>\n",
       "      <td>1.0</td>\n",
       "      <td>0.0</td>\n",
       "      <td>...</td>\n",
       "      <td>42.0</td>\n",
       "      <td>103.0</td>\n",
       "      <td>1.0</td>\n",
       "      <td>1.0</td>\n",
       "      <td>16.0</td>\n",
       "      <td>6.580639</td>\n",
       "      <td>256.0</td>\n",
       "      <td>0.204719</td>\n",
       "      <td>6.375920</td>\n",
       "      <td>1.012975</td>\n",
       "    </tr>\n",
       "    <tr>\n",
       "      <th>3</th>\n",
       "      <td>5.0</td>\n",
       "      <td>1.0</td>\n",
       "      <td>1.0</td>\n",
       "      <td>11.0</td>\n",
       "      <td>27.0</td>\n",
       "      <td>11.0</td>\n",
       "      <td>12.0</td>\n",
       "      <td>380166.0</td>\n",
       "      <td>1.0</td>\n",
       "      <td>0.0</td>\n",
       "      <td>...</td>\n",
       "      <td>25.0</td>\n",
       "      <td>88.0</td>\n",
       "      <td>1.0</td>\n",
       "      <td>1.0</td>\n",
       "      <td>10.0</td>\n",
       "      <td>5.521461</td>\n",
       "      <td>100.0</td>\n",
       "      <td>-0.967905</td>\n",
       "      <td>6.489366</td>\n",
       "      <td>-2.253536</td>\n",
       "    </tr>\n",
       "    <tr>\n",
       "      <th>4</th>\n",
       "      <td>6.0</td>\n",
       "      <td>1.0</td>\n",
       "      <td>1.0</td>\n",
       "      <td>12.0</td>\n",
       "      <td>34.0</td>\n",
       "      <td>8.0</td>\n",
       "      <td>7.0</td>\n",
       "      <td>367470.0</td>\n",
       "      <td>1.0</td>\n",
       "      <td>0.0</td>\n",
       "      <td>...</td>\n",
       "      <td>34.0</td>\n",
       "      <td>108.0</td>\n",
       "      <td>1.0</td>\n",
       "      <td>0.0</td>\n",
       "      <td>16.0</td>\n",
       "      <td>6.591674</td>\n",
       "      <td>256.0</td>\n",
       "      <td>0.125173</td>\n",
       "      <td>6.466501</td>\n",
       "      <td>1.090437</td>\n",
       "    </tr>\n",
       "  </tbody>\n",
       "</table>\n",
       "<p>5 rows × 37 columns</p>\n",
       "</div>"
      ],
      "text/plain": [
       "    id  nearc2  nearc4  educ   age  fatheduc  motheduc    weight  momdad14  \\\n",
       "0  2.0     0.0     0.0   7.0  29.0       NaN       NaN  158413.0       1.0   \n",
       "1  3.0     0.0     0.0  12.0  27.0       8.0       8.0  380166.0       1.0   \n",
       "2  4.0     0.0     0.0  12.0  34.0      14.0      12.0  367470.0       1.0   \n",
       "3  5.0     1.0     1.0  11.0  27.0      11.0      12.0  380166.0       1.0   \n",
       "4  6.0     1.0     1.0  12.0  34.0       8.0       7.0  367470.0       1.0   \n",
       "\n",
       "   sinmom14  ...   KWW     IQ  married  libcrd14  exper     lwage  expersq  \\\n",
       "0       0.0  ...  15.0    NaN      1.0       0.0   16.0  6.306275    256.0   \n",
       "1       0.0  ...  35.0   93.0      1.0       1.0    9.0  6.175867     81.0   \n",
       "2       0.0  ...  42.0  103.0      1.0       1.0   16.0  6.580639    256.0   \n",
       "3       0.0  ...  25.0   88.0      1.0       1.0   10.0  5.521461    100.0   \n",
       "4       0.0  ...  34.0  108.0      1.0       0.0   16.0  6.591674    256.0   \n",
       "\n",
       "    u_lwage  lwage_hat    u_educ  \n",
       "0  0.198047   6.108228 -3.067539  \n",
       "1 -0.211160   6.387027 -1.727562  \n",
       "2  0.204719   6.375920  1.012975  \n",
       "3 -0.967905   6.489366 -2.253536  \n",
       "4  0.125173   6.466501  1.090437  \n",
       "\n",
       "[5 rows x 37 columns]"
      ]
     },
     "execution_count": 52,
     "metadata": {},
     "output_type": "execute_result"
    }
   ],
   "source": [
    "# load data\n",
    "\n",
    "import ssl\n",
    "ssl._create_default_https_context = ssl._create_unverified_context\n",
    "\n",
    "def read_data(file): \n",
    "    return pd.read_stata(\"https://raw.github.com/scunning1975/mixtape/master/\" + file)\n",
    "\n",
    "card = read_data(\"card.dta\")\n",
    "card.head()"
   ]
  },
  {
   "cell_type": "code",
   "execution_count": null,
   "id": "63aad5a6",
   "metadata": {},
   "outputs": [],
   "source": []
  },
  {
   "cell_type": "markdown",
   "id": "5cdba98e",
   "metadata": {},
   "source": [
    "<h1>1) Para esta primera sección deben darle una leida a The Effect Book principalmente al capitulo de Instrumental Variables.<h1>"
   ]
  },
  {
   "cell_type": "markdown",
   "id": "799316df",
   "metadata": {},
   "source": [
    "* **Explique en qué consiste el supuesto de \"Relevance\"**"
   ]
  },
  {
   "cell_type": "markdown",
   "id": "329c5cda",
   "metadata": {},
   "source": [
    "* Se trata de la relación que hay entre X y Z. Cuánto explica Z de X. Entonces debemos estar seguros de que la relación entre Z y X sea fuerte, mientras haya más relación, más podemos estar seguros de la suposición de relevancia. Esta relevancia se puede verificar por el tamaño de la covarianza de (Z, X). Si la Cov(Z, X) es muy pequeño, entonces Z es un instrumento débil para X"
   ]
  },
  {
   "cell_type": "markdown",
   "id": "55ea7b96",
   "metadata": {},
   "source": [
    "* **Explique en qué consiste el supuesto de \"Validity\"**"
   ]
  },
  {
   "cell_type": "markdown",
   "id": "909db5c0",
   "metadata": {},
   "source": [
    "* Se trata de la suposición de que el instrumento que explica X, Z, no tienen puertas traseras abiertas propias. Esto quiere decir, que la el instrumento Z, solo debe tener una puerta abierta hacia X, para que así se pueda explicar Y. no importa que haya una variable que regrese a X, el problema es cuando regresa a Z. Por lo que es importante cerrar estas puertas que van de Z a otras variables y que estas expliquen Y de diferentes formas."
   ]
  },
  {
   "cell_type": "markdown",
   "id": "2b1d9331",
   "metadata": {},
   "source": [
    "<h1>2) Ploteo Histogramas<h1>"
   ]
  },
  {
   "cell_type": "markdown",
   "id": "f7f2e06d",
   "metadata": {},
   "source": [
    "* **a) Grafique dos histogramas para la variable años de educación educ para cuando nearc4 == 1, y cuando nearc4 == 0. Compare y describa los patrones que encuentra.**"
   ]
  },
  {
   "cell_type": "code",
   "execution_count": 53,
   "id": "573ad3ee",
   "metadata": {},
   "outputs": [],
   "source": [
    "#Realizamos una copia de la base de datos para no perder la fuente principal"
   ]
  },
  {
   "cell_type": "code",
   "execution_count": 54,
   "id": "6587f018",
   "metadata": {},
   "outputs": [],
   "source": [
    "card2=card"
   ]
  },
  {
   "cell_type": "code",
   "execution_count": 55,
   "id": "f053bb21",
   "metadata": {},
   "outputs": [
    {
     "data": {
      "text/html": [
       "<div>\n",
       "<style scoped>\n",
       "    .dataframe tbody tr th:only-of-type {\n",
       "        vertical-align: middle;\n",
       "    }\n",
       "\n",
       "    .dataframe tbody tr th {\n",
       "        vertical-align: top;\n",
       "    }\n",
       "\n",
       "    .dataframe thead th {\n",
       "        text-align: right;\n",
       "    }\n",
       "</style>\n",
       "<table border=\"1\" class=\"dataframe\">\n",
       "  <thead>\n",
       "    <tr style=\"text-align: right;\">\n",
       "      <th></th>\n",
       "      <th>educ</th>\n",
       "      <th>nearc4</th>\n",
       "    </tr>\n",
       "  </thead>\n",
       "  <tbody>\n",
       "    <tr>\n",
       "      <th>0</th>\n",
       "      <td>7.0</td>\n",
       "      <td>0.0</td>\n",
       "    </tr>\n",
       "    <tr>\n",
       "      <th>1</th>\n",
       "      <td>12.0</td>\n",
       "      <td>0.0</td>\n",
       "    </tr>\n",
       "    <tr>\n",
       "      <th>2</th>\n",
       "      <td>12.0</td>\n",
       "      <td>0.0</td>\n",
       "    </tr>\n",
       "    <tr>\n",
       "      <th>3</th>\n",
       "      <td>11.0</td>\n",
       "      <td>1.0</td>\n",
       "    </tr>\n",
       "    <tr>\n",
       "      <th>4</th>\n",
       "      <td>12.0</td>\n",
       "      <td>1.0</td>\n",
       "    </tr>\n",
       "    <tr>\n",
       "      <th>...</th>\n",
       "      <td>...</td>\n",
       "      <td>...</td>\n",
       "    </tr>\n",
       "    <tr>\n",
       "      <th>3005</th>\n",
       "      <td>12.0</td>\n",
       "      <td>1.0</td>\n",
       "    </tr>\n",
       "    <tr>\n",
       "      <th>3006</th>\n",
       "      <td>13.0</td>\n",
       "      <td>1.0</td>\n",
       "    </tr>\n",
       "    <tr>\n",
       "      <th>3007</th>\n",
       "      <td>12.0</td>\n",
       "      <td>1.0</td>\n",
       "    </tr>\n",
       "    <tr>\n",
       "      <th>3008</th>\n",
       "      <td>12.0</td>\n",
       "      <td>1.0</td>\n",
       "    </tr>\n",
       "    <tr>\n",
       "      <th>3009</th>\n",
       "      <td>13.0</td>\n",
       "      <td>1.0</td>\n",
       "    </tr>\n",
       "  </tbody>\n",
       "</table>\n",
       "<p>3010 rows × 2 columns</p>\n",
       "</div>"
      ],
      "text/plain": [
       "      educ  nearc4\n",
       "0      7.0     0.0\n",
       "1     12.0     0.0\n",
       "2     12.0     0.0\n",
       "3     11.0     1.0\n",
       "4     12.0     1.0\n",
       "...    ...     ...\n",
       "3005  12.0     1.0\n",
       "3006  13.0     1.0\n",
       "3007  12.0     1.0\n",
       "3008  12.0     1.0\n",
       "3009  13.0     1.0\n",
       "\n",
       "[3010 rows x 2 columns]"
      ]
     },
     "execution_count": 55,
     "metadata": {},
     "output_type": "execute_result"
    }
   ],
   "source": [
    "#Ajustamos las columnas para las variables a analizar\n",
    "card3 = card2[['educ','nearc4']]\n",
    "card3\n"
   ]
  },
  {
   "cell_type": "code",
   "execution_count": 56,
   "id": "cb9adbb3",
   "metadata": {},
   "outputs": [
    {
     "data": {
      "text/html": [
       "<div>\n",
       "<style scoped>\n",
       "    .dataframe tbody tr th:only-of-type {\n",
       "        vertical-align: middle;\n",
       "    }\n",
       "\n",
       "    .dataframe tbody tr th {\n",
       "        vertical-align: top;\n",
       "    }\n",
       "\n",
       "    .dataframe thead th {\n",
       "        text-align: right;\n",
       "    }\n",
       "</style>\n",
       "<table border=\"1\" class=\"dataframe\">\n",
       "  <thead>\n",
       "    <tr style=\"text-align: right;\">\n",
       "      <th></th>\n",
       "      <th>educ</th>\n",
       "      <th>nearc4</th>\n",
       "      <th>nearc4_char</th>\n",
       "    </tr>\n",
       "  </thead>\n",
       "  <tbody>\n",
       "    <tr>\n",
       "      <th>0</th>\n",
       "      <td>7.0</td>\n",
       "      <td>0.0</td>\n",
       "      <td>N_college</td>\n",
       "    </tr>\n",
       "    <tr>\n",
       "      <th>1</th>\n",
       "      <td>12.0</td>\n",
       "      <td>0.0</td>\n",
       "      <td>N_college</td>\n",
       "    </tr>\n",
       "    <tr>\n",
       "      <th>2</th>\n",
       "      <td>12.0</td>\n",
       "      <td>0.0</td>\n",
       "      <td>N_college</td>\n",
       "    </tr>\n",
       "    <tr>\n",
       "      <th>3</th>\n",
       "      <td>11.0</td>\n",
       "      <td>1.0</td>\n",
       "      <td>college</td>\n",
       "    </tr>\n",
       "    <tr>\n",
       "      <th>4</th>\n",
       "      <td>12.0</td>\n",
       "      <td>1.0</td>\n",
       "      <td>college</td>\n",
       "    </tr>\n",
       "    <tr>\n",
       "      <th>...</th>\n",
       "      <td>...</td>\n",
       "      <td>...</td>\n",
       "      <td>...</td>\n",
       "    </tr>\n",
       "    <tr>\n",
       "      <th>3005</th>\n",
       "      <td>12.0</td>\n",
       "      <td>1.0</td>\n",
       "      <td>college</td>\n",
       "    </tr>\n",
       "    <tr>\n",
       "      <th>3006</th>\n",
       "      <td>13.0</td>\n",
       "      <td>1.0</td>\n",
       "      <td>college</td>\n",
       "    </tr>\n",
       "    <tr>\n",
       "      <th>3007</th>\n",
       "      <td>12.0</td>\n",
       "      <td>1.0</td>\n",
       "      <td>college</td>\n",
       "    </tr>\n",
       "    <tr>\n",
       "      <th>3008</th>\n",
       "      <td>12.0</td>\n",
       "      <td>1.0</td>\n",
       "      <td>college</td>\n",
       "    </tr>\n",
       "    <tr>\n",
       "      <th>3009</th>\n",
       "      <td>13.0</td>\n",
       "      <td>1.0</td>\n",
       "      <td>college</td>\n",
       "    </tr>\n",
       "  </tbody>\n",
       "</table>\n",
       "<p>3010 rows × 3 columns</p>\n",
       "</div>"
      ],
      "text/plain": [
       "      educ  nearc4 nearc4_char\n",
       "0      7.0     0.0   N_college\n",
       "1     12.0     0.0   N_college\n",
       "2     12.0     0.0   N_college\n",
       "3     11.0     1.0     college\n",
       "4     12.0     1.0     college\n",
       "...    ...     ...         ...\n",
       "3005  12.0     1.0     college\n",
       "3006  13.0     1.0     college\n",
       "3007  12.0     1.0     college\n",
       "3008  12.0     1.0     college\n",
       "3009  13.0     1.0     college\n",
       "\n",
       "[3010 rows x 3 columns]"
      ]
     },
     "execution_count": 56,
     "metadata": {},
     "output_type": "execute_result"
    }
   ],
   "source": [
    "#Como sabemos segun la lectura la variable nearc4 se relaciona a la exitencia de colegios \n",
    "#\"0.0=N_college\"\n",
    "#\"1.0=college\"\n",
    "\n",
    "card4 = (card3\n",
    " .assign(nearc4_char = np.select(\n",
    "     [card3[\"nearc4\"].astype(bool), card3[\"educ\"].astype(bool)],\n",
    "     [\"college\", \"N_college\"]\n",
    " ))) \n",
    "card4"
   ]
  },
  {
   "cell_type": "code",
   "execution_count": 57,
   "id": "702eaa34",
   "metadata": {},
   "outputs": [
    {
     "data": {
      "text/html": [
       "<div>\n",
       "<style scoped>\n",
       "    .dataframe tbody tr th:only-of-type {\n",
       "        vertical-align: middle;\n",
       "    }\n",
       "\n",
       "    .dataframe tbody tr th {\n",
       "        vertical-align: top;\n",
       "    }\n",
       "\n",
       "    .dataframe thead th {\n",
       "        text-align: right;\n",
       "    }\n",
       "</style>\n",
       "<table border=\"1\" class=\"dataframe\">\n",
       "  <thead>\n",
       "    <tr style=\"text-align: right;\">\n",
       "      <th></th>\n",
       "      <th>educ</th>\n",
       "      <th>nearc4_char</th>\n",
       "    </tr>\n",
       "  </thead>\n",
       "  <tbody>\n",
       "    <tr>\n",
       "      <th>0</th>\n",
       "      <td>7.0</td>\n",
       "      <td>N_college</td>\n",
       "    </tr>\n",
       "    <tr>\n",
       "      <th>1</th>\n",
       "      <td>12.0</td>\n",
       "      <td>N_college</td>\n",
       "    </tr>\n",
       "    <tr>\n",
       "      <th>2</th>\n",
       "      <td>12.0</td>\n",
       "      <td>N_college</td>\n",
       "    </tr>\n",
       "    <tr>\n",
       "      <th>3</th>\n",
       "      <td>11.0</td>\n",
       "      <td>college</td>\n",
       "    </tr>\n",
       "    <tr>\n",
       "      <th>4</th>\n",
       "      <td>12.0</td>\n",
       "      <td>college</td>\n",
       "    </tr>\n",
       "    <tr>\n",
       "      <th>...</th>\n",
       "      <td>...</td>\n",
       "      <td>...</td>\n",
       "    </tr>\n",
       "    <tr>\n",
       "      <th>3005</th>\n",
       "      <td>12.0</td>\n",
       "      <td>college</td>\n",
       "    </tr>\n",
       "    <tr>\n",
       "      <th>3006</th>\n",
       "      <td>13.0</td>\n",
       "      <td>college</td>\n",
       "    </tr>\n",
       "    <tr>\n",
       "      <th>3007</th>\n",
       "      <td>12.0</td>\n",
       "      <td>college</td>\n",
       "    </tr>\n",
       "    <tr>\n",
       "      <th>3008</th>\n",
       "      <td>12.0</td>\n",
       "      <td>college</td>\n",
       "    </tr>\n",
       "    <tr>\n",
       "      <th>3009</th>\n",
       "      <td>13.0</td>\n",
       "      <td>college</td>\n",
       "    </tr>\n",
       "  </tbody>\n",
       "</table>\n",
       "<p>3010 rows × 2 columns</p>\n",
       "</div>"
      ],
      "text/plain": [
       "      educ nearc4_char\n",
       "0      7.0   N_college\n",
       "1     12.0   N_college\n",
       "2     12.0   N_college\n",
       "3     11.0     college\n",
       "4     12.0     college\n",
       "...    ...         ...\n",
       "3005  12.0     college\n",
       "3006  13.0     college\n",
       "3007  12.0     college\n",
       "3008  12.0     college\n",
       "3009  13.0     college\n",
       "\n",
       "[3010 rows x 2 columns]"
      ]
     },
     "execution_count": 57,
     "metadata": {},
     "output_type": "execute_result"
    }
   ],
   "source": [
    "#agrupamos nuevamente para realizar la realcion de educaion entre la ausencia de colegio y su existencia.\n",
    "card5 = card4[['educ','nearc4_char']]\n",
    "card5"
   ]
  },
  {
   "cell_type": "markdown",
   "id": "9c414a71",
   "metadata": {},
   "source": [
    "<h1>Ploteo Histograma relacion educ y nearc4==0<h1>"
   ]
  },
  {
   "cell_type": "code",
   "execution_count": 66,
   "id": "b8485388",
   "metadata": {},
   "outputs": [
    {
     "data": {
      "text/html": [
       "<div>\n",
       "<style scoped>\n",
       "    .dataframe tbody tr th:only-of-type {\n",
       "        vertical-align: middle;\n",
       "    }\n",
       "\n",
       "    .dataframe tbody tr th {\n",
       "        vertical-align: top;\n",
       "    }\n",
       "\n",
       "    .dataframe thead th {\n",
       "        text-align: right;\n",
       "    }\n",
       "</style>\n",
       "<table border=\"1\" class=\"dataframe\">\n",
       "  <thead>\n",
       "    <tr style=\"text-align: right;\">\n",
       "      <th></th>\n",
       "      <th>educ</th>\n",
       "      <th>nearc4_char</th>\n",
       "    </tr>\n",
       "  </thead>\n",
       "  <tbody>\n",
       "    <tr>\n",
       "      <th>0</th>\n",
       "      <td>7.0</td>\n",
       "      <td>N_college</td>\n",
       "    </tr>\n",
       "    <tr>\n",
       "      <th>1</th>\n",
       "      <td>12.0</td>\n",
       "      <td>N_college</td>\n",
       "    </tr>\n",
       "    <tr>\n",
       "      <th>2</th>\n",
       "      <td>12.0</td>\n",
       "      <td>N_college</td>\n",
       "    </tr>\n",
       "    <tr>\n",
       "      <th>295</th>\n",
       "      <td>12.0</td>\n",
       "      <td>N_college</td>\n",
       "    </tr>\n",
       "    <tr>\n",
       "      <th>296</th>\n",
       "      <td>12.0</td>\n",
       "      <td>N_college</td>\n",
       "    </tr>\n",
       "    <tr>\n",
       "      <th>...</th>\n",
       "      <td>...</td>\n",
       "      <td>...</td>\n",
       "    </tr>\n",
       "    <tr>\n",
       "      <th>2992</th>\n",
       "      <td>12.0</td>\n",
       "      <td>N_college</td>\n",
       "    </tr>\n",
       "    <tr>\n",
       "      <th>2993</th>\n",
       "      <td>12.0</td>\n",
       "      <td>N_college</td>\n",
       "    </tr>\n",
       "    <tr>\n",
       "      <th>2994</th>\n",
       "      <td>14.0</td>\n",
       "      <td>N_college</td>\n",
       "    </tr>\n",
       "    <tr>\n",
       "      <th>2995</th>\n",
       "      <td>10.0</td>\n",
       "      <td>N_college</td>\n",
       "    </tr>\n",
       "    <tr>\n",
       "      <th>2996</th>\n",
       "      <td>14.0</td>\n",
       "      <td>N_college</td>\n",
       "    </tr>\n",
       "  </tbody>\n",
       "</table>\n",
       "<p>957 rows × 2 columns</p>\n",
       "</div>"
      ],
      "text/plain": [
       "      educ nearc4_char\n",
       "0      7.0   N_college\n",
       "1     12.0   N_college\n",
       "2     12.0   N_college\n",
       "295   12.0   N_college\n",
       "296   12.0   N_college\n",
       "...    ...         ...\n",
       "2992  12.0   N_college\n",
       "2993  12.0   N_college\n",
       "2994  14.0   N_college\n",
       "2995  10.0   N_college\n",
       "2996  14.0   N_college\n",
       "\n",
       "[957 rows x 2 columns]"
      ]
     },
     "execution_count": 66,
     "metadata": {},
     "output_type": "execute_result"
    }
   ],
   "source": [
    "\n",
    "Groups = [\"N_college\"]\n",
    "DIM = card5[card5['nearc4_char'].isin(Groups)]\n",
    "DIM"
   ]
  },
  {
   "cell_type": "code",
   "execution_count": 76,
   "id": "f1662dd5",
   "metadata": {},
   "outputs": [
    {
     "data": {
      "text/plain": [
       "<seaborn.axisgrid.FacetGrid at 0x1cf1b044820>"
      ]
     },
     "execution_count": 76,
     "metadata": {},
     "output_type": "execute_result"
    },
    {
     "data": {
      "image/png": "[encoded data removed]",
      "text/plain": [
       "<Figure size 444.375x360 with 1 Axes>"
      ]
     },
     "metadata": {
      "needs_background": "light"
     },
     "output_type": "display_data"
    }
   ],
   "source": [
    "sns.displot(DIM, x=\"educ\", hue= \"nearc4_char\")"
   ]
  },
  {
   "cell_type": "markdown",
   "id": "0850f5ed",
   "metadata": {},
   "source": [
    "<h1>Ploteo Histograma relacion educ y nearc4==1<h1>"
   ]
  },
  {
   "cell_type": "code",
   "execution_count": 60,
   "id": "1b6332b2",
   "metadata": {},
   "outputs": [
    {
     "data": {
      "text/html": [
       "<div>\n",
       "<style scoped>\n",
       "    .dataframe tbody tr th:only-of-type {\n",
       "        vertical-align: middle;\n",
       "    }\n",
       "\n",
       "    .dataframe tbody tr th {\n",
       "        vertical-align: top;\n",
       "    }\n",
       "\n",
       "    .dataframe thead th {\n",
       "        text-align: right;\n",
       "    }\n",
       "</style>\n",
       "<table border=\"1\" class=\"dataframe\">\n",
       "  <thead>\n",
       "    <tr style=\"text-align: right;\">\n",
       "      <th></th>\n",
       "      <th>educ</th>\n",
       "      <th>nearc4_char</th>\n",
       "    </tr>\n",
       "  </thead>\n",
       "  <tbody>\n",
       "    <tr>\n",
       "      <th>3</th>\n",
       "      <td>11.0</td>\n",
       "      <td>college</td>\n",
       "    </tr>\n",
       "    <tr>\n",
       "      <th>4</th>\n",
       "      <td>12.0</td>\n",
       "      <td>college</td>\n",
       "    </tr>\n",
       "    <tr>\n",
       "      <th>5</th>\n",
       "      <td>12.0</td>\n",
       "      <td>college</td>\n",
       "    </tr>\n",
       "    <tr>\n",
       "      <th>6</th>\n",
       "      <td>18.0</td>\n",
       "      <td>college</td>\n",
       "    </tr>\n",
       "    <tr>\n",
       "      <th>7</th>\n",
       "      <td>14.0</td>\n",
       "      <td>college</td>\n",
       "    </tr>\n",
       "    <tr>\n",
       "      <th>...</th>\n",
       "      <td>...</td>\n",
       "      <td>...</td>\n",
       "    </tr>\n",
       "    <tr>\n",
       "      <th>3005</th>\n",
       "      <td>12.0</td>\n",
       "      <td>college</td>\n",
       "    </tr>\n",
       "    <tr>\n",
       "      <th>3006</th>\n",
       "      <td>13.0</td>\n",
       "      <td>college</td>\n",
       "    </tr>\n",
       "    <tr>\n",
       "      <th>3007</th>\n",
       "      <td>12.0</td>\n",
       "      <td>college</td>\n",
       "    </tr>\n",
       "    <tr>\n",
       "      <th>3008</th>\n",
       "      <td>12.0</td>\n",
       "      <td>college</td>\n",
       "    </tr>\n",
       "    <tr>\n",
       "      <th>3009</th>\n",
       "      <td>13.0</td>\n",
       "      <td>college</td>\n",
       "    </tr>\n",
       "  </tbody>\n",
       "</table>\n",
       "<p>2053 rows × 2 columns</p>\n",
       "</div>"
      ],
      "text/plain": [
       "      educ nearc4_char\n",
       "3     11.0     college\n",
       "4     12.0     college\n",
       "5     12.0     college\n",
       "6     18.0     college\n",
       "7     14.0     college\n",
       "...    ...         ...\n",
       "3005  12.0     college\n",
       "3006  13.0     college\n",
       "3007  12.0     college\n",
       "3008  12.0     college\n",
       "3009  13.0     college\n",
       "\n",
       "[2053 rows x 2 columns]"
      ]
     },
     "execution_count": 60,
     "metadata": {},
     "output_type": "execute_result"
    }
   ],
   "source": [
    "\n",
    "Groups = [\"college\"]\n",
    "DIM = card5[card5['nearc4_char'].isin(Groups)]\n",
    "DIM"
   ]
  },
  {
   "cell_type": "code",
   "execution_count": 61,
   "id": "2fc42b53",
   "metadata": {},
   "outputs": [
    {
     "data": {
      "text/plain": [
       "<seaborn.axisgrid.FacetGrid at 0x1cf17c79460>"
      ]
     },
     "execution_count": 61,
     "metadata": {},
     "output_type": "execute_result"
    },
    {
     "data": {
      "image/png": "[encoded data removed]",
      "text/plain": [
       "<Figure size 431.875x360 with 1 Axes>"
      ]
     },
     "metadata": {
      "needs_background": "light"
     },
     "output_type": "display_data"
    }
   ],
   "source": [
    "sns.displot(DIM, x=\"educ\", hue= \"nearc4_char\")"
   ]
  },
  {
   "cell_type": "code",
   "execution_count": 62,
   "id": "b735a75a",
   "metadata": {},
   "outputs": [],
   "source": [
    "#ploteo de ambas graficas en comparacion"
   ]
  },
  {
   "cell_type": "code",
   "execution_count": 63,
   "id": "9579edf0",
   "metadata": {},
   "outputs": [
    {
     "data": {
      "text/plain": [
       "<seaborn.axisgrid.FacetGrid at 0x1cf17e9bb80>"
      ]
     },
     "execution_count": 63,
     "metadata": {},
     "output_type": "execute_result"
    },
    {
     "data": {
      "image/png": "[encoded data removed]",
      "text/plain": [
       "<Figure size 444.375x360 with 1 Axes>"
      ]
     },
     "metadata": {
      "needs_background": "light"
     },
     "output_type": "display_data"
    }
   ],
   "source": [
    "sns.displot(card5, x=\"educ\", hue=\"nearc4_char\", multiple=\"dodge\")"
   ]
  },
  {
   "cell_type": "markdown",
   "id": "6f7e4002",
   "metadata": {},
   "source": [
    "* **interpretación**"
   ]
  },
  {
   "cell_type": "markdown",
   "id": "3d7c8eb6",
   "metadata": {},
   "source": [
    "*  Siendo nearc4 la presencia de colegios o no, se espera que la presencia de colegios aumente los años de educación en más cantidad de personas. Efectivamente, como se ve en los histogramas, cuando la Dummy nearc4 = 1, la cantidad de personas con más años de educación casi de duplican. Por ejemplo, en las personas con 12 años de educación pasan de 350 a más de 600 personas aproximadamente. Esto se puede ver en la similitud que hay en la forma de los histogramas; sin embargo, en las personas con menos de 10 años de educación, la presencia de un colegio o no se hace menos determinante en comparación con los demás años de educación, pues la cantidad de años de educación es casi la misma con nerac4 =1 o =0."
   ]
  },
  {
   "cell_type": "markdown",
   "id": "3d16d74e",
   "metadata": {},
   "source": [
    "* **b) Grafique dos histogramas para la variable años del logaritmos de los ingresos lwage para cuando nearc4 == 1, y cuando nearc4 == 0. Compare y describa los patrones que encuentra.**"
   ]
  },
  {
   "cell_type": "code",
   "execution_count": 19,
   "id": "ca59c66d",
   "metadata": {},
   "outputs": [],
   "source": [
    "data2=card"
   ]
  },
  {
   "cell_type": "code",
   "execution_count": 22,
   "id": "7587df45",
   "metadata": {},
   "outputs": [
    {
     "data": {
      "text/html": [
       "<div>\n",
       "<style scoped>\n",
       "    .dataframe tbody tr th:only-of-type {\n",
       "        vertical-align: middle;\n",
       "    }\n",
       "\n",
       "    .dataframe tbody tr th {\n",
       "        vertical-align: top;\n",
       "    }\n",
       "\n",
       "    .dataframe thead th {\n",
       "        text-align: right;\n",
       "    }\n",
       "</style>\n",
       "<table border=\"1\" class=\"dataframe\">\n",
       "  <thead>\n",
       "    <tr style=\"text-align: right;\">\n",
       "      <th></th>\n",
       "      <th>lwage</th>\n",
       "      <th>nearc4</th>\n",
       "    </tr>\n",
       "  </thead>\n",
       "  <tbody>\n",
       "    <tr>\n",
       "      <th>0</th>\n",
       "      <td>6.306275</td>\n",
       "      <td>0.0</td>\n",
       "    </tr>\n",
       "    <tr>\n",
       "      <th>1</th>\n",
       "      <td>6.175867</td>\n",
       "      <td>0.0</td>\n",
       "    </tr>\n",
       "    <tr>\n",
       "      <th>2</th>\n",
       "      <td>6.580639</td>\n",
       "      <td>0.0</td>\n",
       "    </tr>\n",
       "    <tr>\n",
       "      <th>3</th>\n",
       "      <td>5.521461</td>\n",
       "      <td>1.0</td>\n",
       "    </tr>\n",
       "    <tr>\n",
       "      <th>4</th>\n",
       "      <td>6.591674</td>\n",
       "      <td>1.0</td>\n",
       "    </tr>\n",
       "    <tr>\n",
       "      <th>...</th>\n",
       "      <td>...</td>\n",
       "      <td>...</td>\n",
       "    </tr>\n",
       "    <tr>\n",
       "      <th>3005</th>\n",
       "      <td>5.814130</td>\n",
       "      <td>1.0</td>\n",
       "    </tr>\n",
       "    <tr>\n",
       "      <th>3006</th>\n",
       "      <td>6.175867</td>\n",
       "      <td>1.0</td>\n",
       "    </tr>\n",
       "    <tr>\n",
       "      <th>3007</th>\n",
       "      <td>6.214608</td>\n",
       "      <td>1.0</td>\n",
       "    </tr>\n",
       "    <tr>\n",
       "      <th>3008</th>\n",
       "      <td>6.569481</td>\n",
       "      <td>1.0</td>\n",
       "    </tr>\n",
       "    <tr>\n",
       "      <th>3009</th>\n",
       "      <td>6.263398</td>\n",
       "      <td>1.0</td>\n",
       "    </tr>\n",
       "  </tbody>\n",
       "</table>\n",
       "<p>3010 rows × 2 columns</p>\n",
       "</div>"
      ],
      "text/plain": [
       "         lwage  nearc4\n",
       "0     6.306275     0.0\n",
       "1     6.175867     0.0\n",
       "2     6.580639     0.0\n",
       "3     5.521461     1.0\n",
       "4     6.591674     1.0\n",
       "...        ...     ...\n",
       "3005  5.814130     1.0\n",
       "3006  6.175867     1.0\n",
       "3007  6.214608     1.0\n",
       "3008  6.569481     1.0\n",
       "3009  6.263398     1.0\n",
       "\n",
       "[3010 rows x 2 columns]"
      ]
     },
     "execution_count": 22,
     "metadata": {},
     "output_type": "execute_result"
    }
   ],
   "source": [
    "data3 = data2[['lwage','nearc4']]\n",
    "data3"
   ]
  },
  {
   "cell_type": "code",
   "execution_count": 24,
   "id": "75bc5151",
   "metadata": {},
   "outputs": [
    {
     "data": {
      "text/html": [
       "<div>\n",
       "<style scoped>\n",
       "    .dataframe tbody tr th:only-of-type {\n",
       "        vertical-align: middle;\n",
       "    }\n",
       "\n",
       "    .dataframe tbody tr th {\n",
       "        vertical-align: top;\n",
       "    }\n",
       "\n",
       "    .dataframe thead th {\n",
       "        text-align: right;\n",
       "    }\n",
       "</style>\n",
       "<table border=\"1\" class=\"dataframe\">\n",
       "  <thead>\n",
       "    <tr style=\"text-align: right;\">\n",
       "      <th></th>\n",
       "      <th>lwage</th>\n",
       "      <th>nearc4</th>\n",
       "      <th>nearc4_char</th>\n",
       "    </tr>\n",
       "  </thead>\n",
       "  <tbody>\n",
       "    <tr>\n",
       "      <th>0</th>\n",
       "      <td>6.306275</td>\n",
       "      <td>0.0</td>\n",
       "      <td>N_college</td>\n",
       "    </tr>\n",
       "    <tr>\n",
       "      <th>1</th>\n",
       "      <td>6.175867</td>\n",
       "      <td>0.0</td>\n",
       "      <td>N_college</td>\n",
       "    </tr>\n",
       "    <tr>\n",
       "      <th>2</th>\n",
       "      <td>6.580639</td>\n",
       "      <td>0.0</td>\n",
       "      <td>N_college</td>\n",
       "    </tr>\n",
       "    <tr>\n",
       "      <th>3</th>\n",
       "      <td>5.521461</td>\n",
       "      <td>1.0</td>\n",
       "      <td>college</td>\n",
       "    </tr>\n",
       "    <tr>\n",
       "      <th>4</th>\n",
       "      <td>6.591674</td>\n",
       "      <td>1.0</td>\n",
       "      <td>college</td>\n",
       "    </tr>\n",
       "    <tr>\n",
       "      <th>...</th>\n",
       "      <td>...</td>\n",
       "      <td>...</td>\n",
       "      <td>...</td>\n",
       "    </tr>\n",
       "    <tr>\n",
       "      <th>3005</th>\n",
       "      <td>5.814130</td>\n",
       "      <td>1.0</td>\n",
       "      <td>college</td>\n",
       "    </tr>\n",
       "    <tr>\n",
       "      <th>3006</th>\n",
       "      <td>6.175867</td>\n",
       "      <td>1.0</td>\n",
       "      <td>college</td>\n",
       "    </tr>\n",
       "    <tr>\n",
       "      <th>3007</th>\n",
       "      <td>6.214608</td>\n",
       "      <td>1.0</td>\n",
       "      <td>college</td>\n",
       "    </tr>\n",
       "    <tr>\n",
       "      <th>3008</th>\n",
       "      <td>6.569481</td>\n",
       "      <td>1.0</td>\n",
       "      <td>college</td>\n",
       "    </tr>\n",
       "    <tr>\n",
       "      <th>3009</th>\n",
       "      <td>6.263398</td>\n",
       "      <td>1.0</td>\n",
       "      <td>college</td>\n",
       "    </tr>\n",
       "  </tbody>\n",
       "</table>\n",
       "<p>3010 rows × 3 columns</p>\n",
       "</div>"
      ],
      "text/plain": [
       "         lwage  nearc4 nearc4_char\n",
       "0     6.306275     0.0   N_college\n",
       "1     6.175867     0.0   N_college\n",
       "2     6.580639     0.0   N_college\n",
       "3     5.521461     1.0     college\n",
       "4     6.591674     1.0     college\n",
       "...        ...     ...         ...\n",
       "3005  5.814130     1.0     college\n",
       "3006  6.175867     1.0     college\n",
       "3007  6.214608     1.0     college\n",
       "3008  6.569481     1.0     college\n",
       "3009  6.263398     1.0     college\n",
       "\n",
       "[3010 rows x 3 columns]"
      ]
     },
     "execution_count": 24,
     "metadata": {},
     "output_type": "execute_result"
    }
   ],
   "source": [
    "data4 = (data3\n",
    " .assign(nearc4_char = np.select(\n",
    "     [data3[\"nearc4\"].astype(bool),  data3[\"lwage\"].astype(bool)],\n",
    "     [\"college\", \"N_college\"]\n",
    " ))) \n",
    "data4"
   ]
  },
  {
   "cell_type": "code",
   "execution_count": 25,
   "id": "101b1316",
   "metadata": {},
   "outputs": [
    {
     "data": {
      "text/html": [
       "<div>\n",
       "<style scoped>\n",
       "    .dataframe tbody tr th:only-of-type {\n",
       "        vertical-align: middle;\n",
       "    }\n",
       "\n",
       "    .dataframe tbody tr th {\n",
       "        vertical-align: top;\n",
       "    }\n",
       "\n",
       "    .dataframe thead th {\n",
       "        text-align: right;\n",
       "    }\n",
       "</style>\n",
       "<table border=\"1\" class=\"dataframe\">\n",
       "  <thead>\n",
       "    <tr style=\"text-align: right;\">\n",
       "      <th></th>\n",
       "      <th>lwage</th>\n",
       "      <th>nearc4_char</th>\n",
       "    </tr>\n",
       "  </thead>\n",
       "  <tbody>\n",
       "    <tr>\n",
       "      <th>0</th>\n",
       "      <td>6.306275</td>\n",
       "      <td>N_college</td>\n",
       "    </tr>\n",
       "    <tr>\n",
       "      <th>1</th>\n",
       "      <td>6.175867</td>\n",
       "      <td>N_college</td>\n",
       "    </tr>\n",
       "    <tr>\n",
       "      <th>2</th>\n",
       "      <td>6.580639</td>\n",
       "      <td>N_college</td>\n",
       "    </tr>\n",
       "    <tr>\n",
       "      <th>3</th>\n",
       "      <td>5.521461</td>\n",
       "      <td>college</td>\n",
       "    </tr>\n",
       "    <tr>\n",
       "      <th>4</th>\n",
       "      <td>6.591674</td>\n",
       "      <td>college</td>\n",
       "    </tr>\n",
       "    <tr>\n",
       "      <th>...</th>\n",
       "      <td>...</td>\n",
       "      <td>...</td>\n",
       "    </tr>\n",
       "    <tr>\n",
       "      <th>3005</th>\n",
       "      <td>5.814130</td>\n",
       "      <td>college</td>\n",
       "    </tr>\n",
       "    <tr>\n",
       "      <th>3006</th>\n",
       "      <td>6.175867</td>\n",
       "      <td>college</td>\n",
       "    </tr>\n",
       "    <tr>\n",
       "      <th>3007</th>\n",
       "      <td>6.214608</td>\n",
       "      <td>college</td>\n",
       "    </tr>\n",
       "    <tr>\n",
       "      <th>3008</th>\n",
       "      <td>6.569481</td>\n",
       "      <td>college</td>\n",
       "    </tr>\n",
       "    <tr>\n",
       "      <th>3009</th>\n",
       "      <td>6.263398</td>\n",
       "      <td>college</td>\n",
       "    </tr>\n",
       "  </tbody>\n",
       "</table>\n",
       "<p>3010 rows × 2 columns</p>\n",
       "</div>"
      ],
      "text/plain": [
       "         lwage nearc4_char\n",
       "0     6.306275   N_college\n",
       "1     6.175867   N_college\n",
       "2     6.580639   N_college\n",
       "3     5.521461     college\n",
       "4     6.591674     college\n",
       "...        ...         ...\n",
       "3005  5.814130     college\n",
       "3006  6.175867     college\n",
       "3007  6.214608     college\n",
       "3008  6.569481     college\n",
       "3009  6.263398     college\n",
       "\n",
       "[3010 rows x 2 columns]"
      ]
     },
     "execution_count": 25,
     "metadata": {},
     "output_type": "execute_result"
    }
   ],
   "source": [
    "data5 = data4[['lwage','nearc4_char']]\n",
    "data5"
   ]
  },
  {
   "cell_type": "markdown",
   "id": "a61536a1",
   "metadata": {},
   "source": [
    "<h1>Ploteo Histograma relacion lwage y nearc4==0<h1>"
   ]
  },
  {
   "cell_type": "code",
   "execution_count": 26,
   "id": "5d19e792",
   "metadata": {},
   "outputs": [
    {
     "data": {
      "text/html": [
       "<div>\n",
       "<style scoped>\n",
       "    .dataframe tbody tr th:only-of-type {\n",
       "        vertical-align: middle;\n",
       "    }\n",
       "\n",
       "    .dataframe tbody tr th {\n",
       "        vertical-align: top;\n",
       "    }\n",
       "\n",
       "    .dataframe thead th {\n",
       "        text-align: right;\n",
       "    }\n",
       "</style>\n",
       "<table border=\"1\" class=\"dataframe\">\n",
       "  <thead>\n",
       "    <tr style=\"text-align: right;\">\n",
       "      <th></th>\n",
       "      <th>lwage</th>\n",
       "      <th>nearc4_char</th>\n",
       "    </tr>\n",
       "  </thead>\n",
       "  <tbody>\n",
       "    <tr>\n",
       "      <th>0</th>\n",
       "      <td>6.306275</td>\n",
       "      <td>N_college</td>\n",
       "    </tr>\n",
       "    <tr>\n",
       "      <th>1</th>\n",
       "      <td>6.175867</td>\n",
       "      <td>N_college</td>\n",
       "    </tr>\n",
       "    <tr>\n",
       "      <th>2</th>\n",
       "      <td>6.580639</td>\n",
       "      <td>N_college</td>\n",
       "    </tr>\n",
       "    <tr>\n",
       "      <th>295</th>\n",
       "      <td>5.899898</td>\n",
       "      <td>N_college</td>\n",
       "    </tr>\n",
       "    <tr>\n",
       "      <th>296</th>\n",
       "      <td>6.700731</td>\n",
       "      <td>N_college</td>\n",
       "    </tr>\n",
       "    <tr>\n",
       "      <th>...</th>\n",
       "      <td>...</td>\n",
       "      <td>...</td>\n",
       "    </tr>\n",
       "    <tr>\n",
       "      <th>2992</th>\n",
       "      <td>6.109248</td>\n",
       "      <td>N_college</td>\n",
       "    </tr>\n",
       "    <tr>\n",
       "      <th>2993</th>\n",
       "      <td>5.572154</td>\n",
       "      <td>N_college</td>\n",
       "    </tr>\n",
       "    <tr>\n",
       "      <th>2994</th>\n",
       "      <td>6.068426</td>\n",
       "      <td>N_college</td>\n",
       "    </tr>\n",
       "    <tr>\n",
       "      <th>2995</th>\n",
       "      <td>5.257495</td>\n",
       "      <td>N_college</td>\n",
       "    </tr>\n",
       "    <tr>\n",
       "      <th>2996</th>\n",
       "      <td>6.720220</td>\n",
       "      <td>N_college</td>\n",
       "    </tr>\n",
       "  </tbody>\n",
       "</table>\n",
       "<p>957 rows × 2 columns</p>\n",
       "</div>"
      ],
      "text/plain": [
       "         lwage nearc4_char\n",
       "0     6.306275   N_college\n",
       "1     6.175867   N_college\n",
       "2     6.580639   N_college\n",
       "295   5.899898   N_college\n",
       "296   6.700731   N_college\n",
       "...        ...         ...\n",
       "2992  6.109248   N_college\n",
       "2993  5.572154   N_college\n",
       "2994  6.068426   N_college\n",
       "2995  5.257495   N_college\n",
       "2996  6.720220   N_college\n",
       "\n",
       "[957 rows x 2 columns]"
      ]
     },
     "execution_count": 26,
     "metadata": {},
     "output_type": "execute_result"
    }
   ],
   "source": [
    "\n",
    "Groups = [\"N_college\"]\n",
    "DIM = data5[data5['nearc4_char'].isin(Groups)]\n",
    "DIM"
   ]
  },
  {
   "cell_type": "code",
   "execution_count": 27,
   "id": "a1acb234",
   "metadata": {},
   "outputs": [
    {
     "data": {
      "text/plain": [
       "<seaborn.axisgrid.FacetGrid at 0x1cf1679ea30>"
      ]
     },
     "execution_count": 27,
     "metadata": {},
     "output_type": "execute_result"
    },
    {
     "data": {
      "image/png": "[encoded data removed]",
      "text/plain": [
       "<Figure size 444.375x360 with 1 Axes>"
      ]
     },
     "metadata": {
      "needs_background": "light"
     },
     "output_type": "display_data"
    }
   ],
   "source": [
    "sns.displot(DIM, x=\"lwage\", hue= \"nearc4_char\")"
   ]
  },
  {
   "cell_type": "markdown",
   "id": "a9cdd77d",
   "metadata": {},
   "source": [
    "<h1>Ploteo Histograma relacion lwage y nearc4==1<h1>"
   ]
  },
  {
   "cell_type": "code",
   "execution_count": 29,
   "id": "b9cf8ce1",
   "metadata": {},
   "outputs": [
    {
     "data": {
      "text/html": [
       "<div>\n",
       "<style scoped>\n",
       "    .dataframe tbody tr th:only-of-type {\n",
       "        vertical-align: middle;\n",
       "    }\n",
       "\n",
       "    .dataframe tbody tr th {\n",
       "        vertical-align: top;\n",
       "    }\n",
       "\n",
       "    .dataframe thead th {\n",
       "        text-align: right;\n",
       "    }\n",
       "</style>\n",
       "<table border=\"1\" class=\"dataframe\">\n",
       "  <thead>\n",
       "    <tr style=\"text-align: right;\">\n",
       "      <th></th>\n",
       "      <th>lwage</th>\n",
       "      <th>nearc4_char</th>\n",
       "    </tr>\n",
       "  </thead>\n",
       "  <tbody>\n",
       "    <tr>\n",
       "      <th>3</th>\n",
       "      <td>5.521461</td>\n",
       "      <td>college</td>\n",
       "    </tr>\n",
       "    <tr>\n",
       "      <th>4</th>\n",
       "      <td>6.591674</td>\n",
       "      <td>college</td>\n",
       "    </tr>\n",
       "    <tr>\n",
       "      <th>5</th>\n",
       "      <td>6.214608</td>\n",
       "      <td>college</td>\n",
       "    </tr>\n",
       "    <tr>\n",
       "      <th>6</th>\n",
       "      <td>6.336826</td>\n",
       "      <td>college</td>\n",
       "    </tr>\n",
       "    <tr>\n",
       "      <th>7</th>\n",
       "      <td>6.410175</td>\n",
       "      <td>college</td>\n",
       "    </tr>\n",
       "    <tr>\n",
       "      <th>...</th>\n",
       "      <td>...</td>\n",
       "      <td>...</td>\n",
       "    </tr>\n",
       "    <tr>\n",
       "      <th>3005</th>\n",
       "      <td>5.814130</td>\n",
       "      <td>college</td>\n",
       "    </tr>\n",
       "    <tr>\n",
       "      <th>3006</th>\n",
       "      <td>6.175867</td>\n",
       "      <td>college</td>\n",
       "    </tr>\n",
       "    <tr>\n",
       "      <th>3007</th>\n",
       "      <td>6.214608</td>\n",
       "      <td>college</td>\n",
       "    </tr>\n",
       "    <tr>\n",
       "      <th>3008</th>\n",
       "      <td>6.569481</td>\n",
       "      <td>college</td>\n",
       "    </tr>\n",
       "    <tr>\n",
       "      <th>3009</th>\n",
       "      <td>6.263398</td>\n",
       "      <td>college</td>\n",
       "    </tr>\n",
       "  </tbody>\n",
       "</table>\n",
       "<p>2053 rows × 2 columns</p>\n",
       "</div>"
      ],
      "text/plain": [
       "         lwage nearc4_char\n",
       "3     5.521461     college\n",
       "4     6.591674     college\n",
       "5     6.214608     college\n",
       "6     6.336826     college\n",
       "7     6.410175     college\n",
       "...        ...         ...\n",
       "3005  5.814130     college\n",
       "3006  6.175867     college\n",
       "3007  6.214608     college\n",
       "3008  6.569481     college\n",
       "3009  6.263398     college\n",
       "\n",
       "[2053 rows x 2 columns]"
      ]
     },
     "execution_count": 29,
     "metadata": {},
     "output_type": "execute_result"
    }
   ],
   "source": [
    "\n",
    "Groups = [\"college\"]\n",
    "DIM = data5[data5['nearc4_char'].isin(Groups)]\n",
    "DIM"
   ]
  },
  {
   "cell_type": "code",
   "execution_count": 30,
   "id": "365eefd3",
   "metadata": {},
   "outputs": [
    {
     "data": {
      "text/plain": [
       "<seaborn.axisgrid.FacetGrid at 0x1cf17976d30>"
      ]
     },
     "execution_count": 30,
     "metadata": {},
     "output_type": "execute_result"
    },
    {
     "data": {
      "image/png": "[encoded data removed]",
      "text/plain": [
       "<Figure size 431.875x360 with 1 Axes>"
      ]
     },
     "metadata": {
      "needs_background": "light"
     },
     "output_type": "display_data"
    }
   ],
   "source": [
    "sns.displot(DIM, x=\"lwage\", hue= \"nearc4_char\")"
   ]
  },
  {
   "cell_type": "code",
   "execution_count": null,
   "id": "467645ae",
   "metadata": {},
   "outputs": [],
   "source": []
  },
  {
   "cell_type": "code",
   "execution_count": 32,
   "id": "d5e3d938",
   "metadata": {},
   "outputs": [
    {
     "data": {
      "text/plain": [
       "<seaborn.axisgrid.FacetGrid at 0x1cf17d5fc70>"
      ]
     },
     "execution_count": 32,
     "metadata": {},
     "output_type": "execute_result"
    },
    {
     "data": {
      "image/png": "[encoded data removed]",
      "text/plain": [
       "<Figure size 444.375x360 with 1 Axes>"
      ]
     },
     "metadata": {
      "needs_background": "light"
     },
     "output_type": "display_data"
    }
   ],
   "source": [
    "sns.displot(data5, x=\"lwage\", hue=\"nearc4_char\", multiple=\"dodge\")"
   ]
  },
  {
   "cell_type": "markdown",
   "id": "01a07255",
   "metadata": {},
   "source": [
    "* **interpretacion**"
   ]
  },
  {
   "cell_type": "markdown",
   "id": "f07c7714",
   "metadata": {},
   "source": [
    "* Del mismo modo que para el caso de educación, es esperable que la presencia de colegios haga que el logaritmo de los salarios aumente, pues se puede ver en los histogramas que cuando nearc4 = 1, el logaritmo del salario aumenta más del doble respecto a cuando nearc4 = 0. Sin embargo, cuando el logaritmo del salario es menor o igual a 5.5, la influencia de colegios no es tan fuerte, pues incluso llega a ser mayor el logaritmo del salario cuando nearc4 = 0, en algunos casos."
   ]
  },
  {
   "cell_type": "markdown",
   "id": "3cb47ff1",
   "metadata": {},
   "source": [
    "<h1>3) Regresiones<h1>"
   ]
  },
  {
   "cell_type": "markdown",
   "id": "edd50619",
   "metadata": {},
   "source": [
    "* **1) una regresion lineal del tipo \"lwage ~ educ + exper + black + south + married + smsa\", y expliquen los resultados que encuentran.**"
   ]
  },
  {
   "cell_type": "code",
   "execution_count": 42,
   "id": "0e1038ab",
   "metadata": {},
   "outputs": [
    {
     "data": {
      "text/html": [
       "<table class=\"simpletable\">\n",
       "<caption>OLS Regression Results</caption>\n",
       "<tr>\n",
       "  <th>Dep. Variable:</th>          <td>lwage</td>      <th>  R-squared:         </th> <td>   0.305</td> \n",
       "</tr>\n",
       "<tr>\n",
       "  <th>Model:</th>                   <td>OLS</td>       <th>  Adj. R-squared:    </th> <td>   0.303</td> \n",
       "</tr>\n",
       "<tr>\n",
       "  <th>Method:</th>             <td>Least Squares</td>  <th>  F-statistic:       </th> <td>   219.1</td> \n",
       "</tr>\n",
       "<tr>\n",
       "  <th>Date:</th>             <td>Fri, 11 Nov 2022</td> <th>  Prob (F-statistic):</th> <td>1.69e-232</td>\n",
       "</tr>\n",
       "<tr>\n",
       "  <th>Time:</th>                 <td>19:11:52</td>     <th>  Log-Likelihood:    </th> <td> -1278.7</td> \n",
       "</tr>\n",
       "<tr>\n",
       "  <th>No. Observations:</th>      <td>  3010</td>      <th>  AIC:               </th> <td>   2571.</td> \n",
       "</tr>\n",
       "<tr>\n",
       "  <th>Df Residuals:</th>          <td>  3003</td>      <th>  BIC:               </th> <td>   2613.</td> \n",
       "</tr>\n",
       "<tr>\n",
       "  <th>Df Model:</th>              <td>     6</td>      <th>                     </th>     <td> </td>    \n",
       "</tr>\n",
       "<tr>\n",
       "  <th>Covariance Type:</th>      <td>nonrobust</td>    <th>                     </th>     <td> </td>    \n",
       "</tr>\n",
       "</table>\n",
       "<table class=\"simpletable\">\n",
       "<tr>\n",
       "      <td></td>         <th>coef</th>     <th>std err</th>      <th>t</th>      <th>P>|t|</th>  <th>[0.025</th>    <th>0.975]</th>  \n",
       "</tr>\n",
       "<tr>\n",
       "  <th>Intercept</th> <td>    5.0642</td> <td>    0.064</td> <td>   79.594</td> <td> 0.000</td> <td>    4.939</td> <td>    5.189</td>\n",
       "</tr>\n",
       "<tr>\n",
       "  <th>educ</th>      <td>    0.0711</td> <td>    0.003</td> <td>   20.439</td> <td> 0.000</td> <td>    0.064</td> <td>    0.078</td>\n",
       "</tr>\n",
       "<tr>\n",
       "  <th>exper</th>     <td>    0.0342</td> <td>    0.002</td> <td>   15.459</td> <td> 0.000</td> <td>    0.030</td> <td>    0.039</td>\n",
       "</tr>\n",
       "<tr>\n",
       "  <th>black</th>     <td>   -0.1654</td> <td>    0.018</td> <td>   -9.408</td> <td> 0.000</td> <td>   -0.200</td> <td>   -0.131</td>\n",
       "</tr>\n",
       "<tr>\n",
       "  <th>south</th>     <td>   -0.1325</td> <td>    0.015</td> <td>   -8.855</td> <td> 0.000</td> <td>   -0.162</td> <td>   -0.103</td>\n",
       "</tr>\n",
       "<tr>\n",
       "  <th>married</th>   <td>   -0.0358</td> <td>    0.003</td> <td>  -10.542</td> <td> 0.000</td> <td>   -0.042</td> <td>   -0.029</td>\n",
       "</tr>\n",
       "<tr>\n",
       "  <th>smsa</th>      <td>    0.1751</td> <td>    0.015</td> <td>   11.338</td> <td> 0.000</td> <td>    0.145</td> <td>    0.205</td>\n",
       "</tr>\n",
       "</table>\n",
       "<table class=\"simpletable\">\n",
       "<tr>\n",
       "  <th>Omnibus:</th>       <td>52.534</td> <th>  Durbin-Watson:     </th> <td>   1.853</td>\n",
       "</tr>\n",
       "<tr>\n",
       "  <th>Prob(Omnibus):</th> <td> 0.000</td> <th>  Jarque-Bera (JB):  </th> <td>  68.142</td>\n",
       "</tr>\n",
       "<tr>\n",
       "  <th>Skew:</th>          <td>-0.231</td> <th>  Prob(JB):          </th> <td>1.60e-15</td>\n",
       "</tr>\n",
       "<tr>\n",
       "  <th>Kurtosis:</th>      <td> 3.575</td> <th>  Cond. No.          </th> <td>    154.</td>\n",
       "</tr>\n",
       "</table><br/><br/>Notes:<br/>[1] Standard Errors assume that the covariance matrix of the errors is correctly specified."
      ],
      "text/plain": [
       "<class 'statsmodels.iolib.summary.Summary'>\n",
       "\"\"\"\n",
       "                            OLS Regression Results                            \n",
       "==============================================================================\n",
       "Dep. Variable:                  lwage   R-squared:                       0.305\n",
       "Model:                            OLS   Adj. R-squared:                  0.303\n",
       "Method:                 Least Squares   F-statistic:                     219.1\n",
       "Date:                Fri, 11 Nov 2022   Prob (F-statistic):          1.69e-232\n",
       "Time:                        19:11:52   Log-Likelihood:                -1278.7\n",
       "No. Observations:                3010   AIC:                             2571.\n",
       "Df Residuals:                    3003   BIC:                             2613.\n",
       "Df Model:                           6                                         \n",
       "Covariance Type:            nonrobust                                         \n",
       "==============================================================================\n",
       "                 coef    std err          t      P>|t|      [0.025      0.975]\n",
       "------------------------------------------------------------------------------\n",
       "Intercept      5.0642      0.064     79.594      0.000       4.939       5.189\n",
       "educ           0.0711      0.003     20.439      0.000       0.064       0.078\n",
       "exper          0.0342      0.002     15.459      0.000       0.030       0.039\n",
       "black         -0.1654      0.018     -9.408      0.000      -0.200      -0.131\n",
       "south         -0.1325      0.015     -8.855      0.000      -0.162      -0.103\n",
       "married       -0.0358      0.003    -10.542      0.000      -0.042      -0.029\n",
       "smsa           0.1751      0.015     11.338      0.000       0.145       0.205\n",
       "==============================================================================\n",
       "Omnibus:                       52.534   Durbin-Watson:                   1.853\n",
       "Prob(Omnibus):                  0.000   Jarque-Bera (JB):               68.142\n",
       "Skew:                          -0.231   Prob(JB):                     1.60e-15\n",
       "Kurtosis:                       3.575   Cond. No.                         154.\n",
       "==============================================================================\n",
       "\n",
       "Notes:\n",
       "[1] Standard Errors assume that the covariance matrix of the errors is correctly specified.\n",
       "\"\"\""
      ]
     },
     "execution_count": 42,
     "metadata": {},
     "output_type": "execute_result"
    }
   ],
   "source": [
    "#OLS\n",
    "ols_reg = sm.OLS.from_formula(\"lwage ~ educ + exper + black + south + married + smsa\", \n",
    "              data = card).fit()\n",
    "\n",
    "ols_reg.summary()"
   ]
  },
  {
   "cell_type": "markdown",
   "id": "6b852489",
   "metadata": {},
   "source": [
    "* **Interpretacion**"
   ]
  },
  {
   "cell_type": "markdown",
   "id": "e952f1d6",
   "metadata": {},
   "source": [
    "* La regresión del salario versus las variables de: educación, experiencia, Dummy de afro-decendencia, Dummy de región sur, Dummy de casado y smsa. Muestran que el intercepto de la variable endógena \"Logaritmo del Salario\" es 5.06 unidades logarítmicas. Por otro lado, por cada unidad adicional de cada variable, la variable endógena aumenta menos de 0.2 unidades logarítmicas. Además, si quitamos el logaritmo de la variable endógena se puede observar otro intercepto y otra relación entre las demás variables versus el \"Salario\""
   ]
  },
  {
   "cell_type": "markdown",
   "id": "37c6c93f",
   "metadata": {},
   "source": [
    "* **2) Corran una regresion de tipo IV(usando el paquete IV2SLS) donde van a instrumentalizar la variable educ con nearc2 . La regressión debería tener una forma de este tipo \"lwage ~ 1 + exper + black + south + married + smsa + [educ ~ nearc4 ]\". Compare los resultados encontrados en la regresión de arriba. Cambió el coeficiente relacionado a educ , por qué?**"
   ]
  },
  {
   "cell_type": "code",
   "execution_count": 44,
   "id": "9f642254",
   "metadata": {},
   "outputs": [],
   "source": [
    "# There are null values in the dataset, we will fill them with 0\n",
    "card['married'] = card['married'].fillna(0)"
   ]
  },
  {
   "cell_type": "code",
   "execution_count": 45,
   "id": "29be3332",
   "metadata": {},
   "outputs": [
    {
     "data": {
      "text/html": [
       "<table class=\"simpletable\">\n",
       "<caption>IV-2SLS Estimation Summary</caption>\n",
       "<tr>\n",
       "  <th>Dep. Variable:</th>          <td>lwage</td>      <th>  R-squared:         </th> <td>0.2428</td> \n",
       "</tr>\n",
       "<tr>\n",
       "  <th>Estimator:</th>             <td>IV-2SLS</td>     <th>  Adj. R-squared:    </th> <td>0.2413</td> \n",
       "</tr>\n",
       "<tr>\n",
       "  <th>No. Observations:</th>       <td>3010</td>       <th>  F-statistic:       </th> <td>884.54</td> \n",
       "</tr>\n",
       "<tr>\n",
       "  <th>Date:</th>             <td>Fri, Nov 11 2022</td> <th>  P-value (F-stat)   </th> <td>0.0000</td> \n",
       "</tr>\n",
       "<tr>\n",
       "  <th>Time:</th>                 <td>19:13:54</td>     <th>  Distribution:      </th> <td>chi2(6)</td>\n",
       "</tr>\n",
       "<tr>\n",
       "  <th>Cov. Estimator:</th>        <td>robust</td>      <th>                     </th>    <td></td>    \n",
       "</tr>\n",
       "<tr>\n",
       "  <th></th>                          <td></td>         <th>                     </th>    <td></td>    \n",
       "</tr>\n",
       "</table>\n",
       "<table class=\"simpletable\">\n",
       "<caption>Parameter Estimates</caption>\n",
       "<tr>\n",
       "      <td></td>      <th>Parameter</th> <th>Std. Err.</th> <th>T-stat</th>  <th>P-value</th> <th>Lower CI</th> <th>Upper CI</th>\n",
       "</tr>\n",
       "<tr>\n",
       "  <th>Intercept</th>  <td>4.0998</td>    <td>0.8209</td>   <td>4.9942</td>  <td>0.0000</td>   <td>2.4909</td>   <td>5.7088</td> \n",
       "</tr>\n",
       "<tr>\n",
       "  <th>black</th>      <td>-0.1110</td>   <td>0.0493</td>   <td>-2.2504</td> <td>0.0244</td>   <td>-0.2076</td>  <td>-0.0143</td>\n",
       "</tr>\n",
       "<tr>\n",
       "  <th>exper</th>      <td>0.0571</td>    <td>0.0195</td>   <td>2.9262</td>  <td>0.0034</td>   <td>0.0189</td>   <td>0.0953</td> \n",
       "</tr>\n",
       "<tr>\n",
       "  <th>married</th>    <td>-0.0318</td>   <td>0.0050</td>   <td>-6.3846</td> <td>0.0000</td>   <td>-0.0415</td>  <td>-0.0220</td>\n",
       "</tr>\n",
       "<tr>\n",
       "  <th>smsa</th>       <td>0.1448</td>    <td>0.0302</td>   <td>4.8025</td>  <td>0.0000</td>   <td>0.0857</td>   <td>0.2039</td> \n",
       "</tr>\n",
       "<tr>\n",
       "  <th>south</th>      <td>-0.1128</td>   <td>0.0228</td>   <td>-4.9550</td> <td>0.0000</td>   <td>-0.1574</td>  <td>-0.0682</td>\n",
       "</tr>\n",
       "<tr>\n",
       "  <th>educ</th>       <td>0.1279</td>    <td>0.0484</td>   <td>2.6438</td>  <td>0.0082</td>   <td>0.0331</td>   <td>0.2227</td> \n",
       "</tr>\n",
       "</table><br/><br/>Endogenous: educ<br/>Instruments: nearc4<br/>Robust Covariance (Heteroskedastic)<br/>Debiased: False"
      ],
      "text/plain": [
       "<class 'linearmodels.compat.statsmodels.Summary'>\n",
       "\"\"\"\n",
       "                          IV-2SLS Estimation Summary                          \n",
       "==============================================================================\n",
       "Dep. Variable:                  lwage   R-squared:                      0.2428\n",
       "Estimator:                    IV-2SLS   Adj. R-squared:                 0.2413\n",
       "No. Observations:                3010   F-statistic:                    884.54\n",
       "Date:                Fri, Nov 11 2022   P-value (F-stat)                0.0000\n",
       "Time:                        19:13:54   Distribution:                  chi2(6)\n",
       "Cov. Estimator:                robust                                         \n",
       "                                                                              \n",
       "                             Parameter Estimates                              \n",
       "==============================================================================\n",
       "            Parameter  Std. Err.     T-stat    P-value    Lower CI    Upper CI\n",
       "------------------------------------------------------------------------------\n",
       "Intercept      4.0998     0.8209     4.9942     0.0000      2.4909      5.7088\n",
       "black         -0.1110     0.0493    -2.2504     0.0244     -0.2076     -0.0143\n",
       "exper          0.0571     0.0195     2.9262     0.0034      0.0189      0.0953\n",
       "married       -0.0318     0.0050    -6.3846     0.0000     -0.0415     -0.0220\n",
       "smsa           0.1448     0.0302     4.8025     0.0000      0.0857      0.2039\n",
       "south         -0.1128     0.0228    -4.9550     0.0000     -0.1574     -0.0682\n",
       "educ           0.1279     0.0484     2.6438     0.0082      0.0331      0.2227\n",
       "==============================================================================\n",
       "\n",
       "Endogenous: educ\n",
       "Instruments: nearc4\n",
       "Robust Covariance (Heteroskedastic)\n",
       "Debiased: False\n",
       "\"\"\""
      ]
     },
     "execution_count": 45,
     "metadata": {},
     "output_type": "execute_result"
    }
   ],
   "source": [
    "#2SLS\n",
    "iv_reg = IV2SLS.from_formula(\"lwage ~  1 + exper + black + south + married + smsa + [educ ~ nearc4]\", card).fit()\n",
    "iv_reg.summary"
   ]
  },
  {
   "cell_type": "code",
   "execution_count": 46,
   "id": "6b6acb4e",
   "metadata": {},
   "outputs": [
    {
     "data": {
      "text/html": [
       "<table class=\"simpletable\">\n",
       "<caption>IV-2SLS Estimation Summary</caption>\n",
       "<tr>\n",
       "  <th>Dep. Variable:</th>          <td>lwage</td>      <th>  R-squared:         </th> <td>-1.3114</td>\n",
       "</tr>\n",
       "<tr>\n",
       "  <th>Estimator:</th>             <td>IV-2SLS</td>     <th>  Adj. R-squared:    </th> <td>-1.3160</td>\n",
       "</tr>\n",
       "<tr>\n",
       "  <th>No. Observations:</th>       <td>3010</td>       <th>  F-statistic:       </th> <td>289.62</td> \n",
       "</tr>\n",
       "<tr>\n",
       "  <th>Date:</th>             <td>Fri, Nov 11 2022</td> <th>  P-value (F-stat)   </th> <td>0.0000</td> \n",
       "</tr>\n",
       "<tr>\n",
       "  <th>Time:</th>                 <td>19:13:57</td>     <th>  Distribution:      </th> <td>chi2(6)</td>\n",
       "</tr>\n",
       "<tr>\n",
       "  <th>Cov. Estimator:</th>        <td>robust</td>      <th>                     </th>    <td></td>    \n",
       "</tr>\n",
       "<tr>\n",
       "  <th></th>                          <td></td>         <th>                     </th>    <td></td>    \n",
       "</tr>\n",
       "</table>\n",
       "<table class=\"simpletable\">\n",
       "<caption>Parameter Estimates</caption>\n",
       "<tr>\n",
       "      <td></td>      <th>Parameter</th> <th>Std. Err.</th> <th>T-stat</th>  <th>P-value</th> <th>Lower CI</th> <th>Upper CI</th>\n",
       "</tr>\n",
       "<tr>\n",
       "  <th>Intercept</th>  <td>0.1276</td>    <td>3.1412</td>   <td>0.0406</td>  <td>0.9676</td>   <td>-6.0290</td>  <td>6.2843</td> \n",
       "</tr>\n",
       "<tr>\n",
       "  <th>black</th>      <td>0.1134</td>    <td>0.1816</td>   <td>0.6244</td>  <td>0.5324</td>   <td>-0.2425</td>  <td>0.4692</td> \n",
       "</tr>\n",
       "<tr>\n",
       "  <th>exper</th>      <td>0.1515</td>    <td>0.0747</td>   <td>2.0274</td>  <td>0.0426</td>   <td>0.0050</td>   <td>0.2980</td> \n",
       "</tr>\n",
       "<tr>\n",
       "  <th>married</th>    <td>-0.0151</td>   <td>0.0147</td>   <td>-1.0258</td> <td>0.3050</td>   <td>-0.0438</td>  <td>0.0137</td> \n",
       "</tr>\n",
       "<tr>\n",
       "  <th>smsa</th>       <td>0.0201</td>    <td>0.1030</td>   <td>0.1949</td>  <td>0.8455</td>   <td>-0.1819</td>  <td>0.2220</td> \n",
       "</tr>\n",
       "<tr>\n",
       "  <th>south</th>      <td>-0.0319</td>   <td>0.0692</td>   <td>-0.4603</td> <td>0.6453</td>   <td>-0.1675</td>  <td>0.1038</td> \n",
       "</tr>\n",
       "<tr>\n",
       "  <th>educ</th>       <td>0.3618</td>    <td>0.1849</td>   <td>1.9562</td>  <td>0.0504</td>   <td>-0.0007</td>  <td>0.7243</td> \n",
       "</tr>\n",
       "</table><br/><br/>Endogenous: educ<br/>Instruments: nearc2<br/>Robust Covariance (Heteroskedastic)<br/>Debiased: False"
      ],
      "text/plain": [
       "<class 'linearmodels.compat.statsmodels.Summary'>\n",
       "\"\"\"\n",
       "                          IV-2SLS Estimation Summary                          \n",
       "==============================================================================\n",
       "Dep. Variable:                  lwage   R-squared:                     -1.3114\n",
       "Estimator:                    IV-2SLS   Adj. R-squared:                -1.3160\n",
       "No. Observations:                3010   F-statistic:                    289.62\n",
       "Date:                Fri, Nov 11 2022   P-value (F-stat)                0.0000\n",
       "Time:                        19:13:57   Distribution:                  chi2(6)\n",
       "Cov. Estimator:                robust                                         \n",
       "                                                                              \n",
       "                             Parameter Estimates                              \n",
       "==============================================================================\n",
       "            Parameter  Std. Err.     T-stat    P-value    Lower CI    Upper CI\n",
       "------------------------------------------------------------------------------\n",
       "Intercept      0.1276     3.1412     0.0406     0.9676     -6.0290      6.2843\n",
       "black          0.1134     0.1816     0.6244     0.5324     -0.2425      0.4692\n",
       "exper          0.1515     0.0747     2.0274     0.0426      0.0050      0.2980\n",
       "married       -0.0151     0.0147    -1.0258     0.3050     -0.0438      0.0137\n",
       "smsa           0.0201     0.1030     0.1949     0.8455     -0.1819      0.2220\n",
       "south         -0.0319     0.0692    -0.4603     0.6453     -0.1675      0.1038\n",
       "educ           0.3618     0.1849     1.9562     0.0504     -0.0007      0.7243\n",
       "==============================================================================\n",
       "\n",
       "Endogenous: educ\n",
       "Instruments: nearc2\n",
       "Robust Covariance (Heteroskedastic)\n",
       "Debiased: False\n",
       "\"\"\""
      ]
     },
     "execution_count": 46,
     "metadata": {},
     "output_type": "execute_result"
    }
   ],
   "source": [
    "#2SLS\n",
    "iv_reg = IV2SLS.from_formula(\"lwage ~  1 + exper + black + south + married + smsa + [educ ~ nearc2]\", card).fit()\n",
    "iv_reg.summary"
   ]
  },
  {
   "cell_type": "markdown",
   "id": "4c8ce4ac",
   "metadata": {},
   "source": [
    "* **interpretacion**"
   ]
  },
  {
   "cell_type": "markdown",
   "id": "5ad7a8bf",
   "metadata": {},
   "source": [
    "* Comparando ambas regresiones podemos ver que el intercepto ha disminuido considerablemente. Por ejemplo, la Dammy black se hace positiva, lo que quiere decir que si black=1 el intercepto sería mayor, es decir mayor salario.\n",
    "* Respecto al coeficiente relacionando con la variable educ pasó de 0.1279 a 0.3618: esto quiere decir que, en la segunda regresión, por un año más de educación las unidades logarítmicas del salario aumentan más.\n",
    "* Sin embargo el P-value no es significativo"
   ]
  },
  {
   "cell_type": "code",
   "execution_count": null,
   "id": "d1d61396",
   "metadata": {},
   "outputs": [],
   "source": []
  },
  {
   "cell_type": "code",
   "execution_count": null,
   "id": "9f00722a",
   "metadata": {},
   "outputs": [],
   "source": []
  }
 ],
 "metadata": {
  "kernelspec": {
   "display_name": "Python 3 (ipykernel)",
   "language": "python",
   "name": "python3"
  },
  "language_info": {
   "codemirror_mode": {
    "name": "ipython",
    "version": 3
   },
   "file_extension": ".py",
   "mimetype": "text/x-python",
   "name": "python",
   "nbconvert_exporter": "python",
   "pygments_lexer": "ipython3",
   "version": "3.9.12"
  }
 },
 "nbformat": 4,
 "nbformat_minor": 5
}
