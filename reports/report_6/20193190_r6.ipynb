{
 "cells": [
  {
   "cell_type": "markdown",
   "id": "f1fa74d4",
   "metadata": {},
   "source": [
    "# REPORTE Nº6:\n",
    "\n",
    "**Nombre: Samantha González Paredes**\n",
    "\n",
    "**Código: 20193190**\n",
    "\n",
    "**Report de lectura**\n",
    "\n",
    "### Closing the gap: The effect of a targeted, tuition-free promise on college choices of high-achieving, low-income students -Dynarski, Libassi, Michelmore & Owen (2018).\n",
    "\n",
    "La lectura gira en torno a un aspecto de la de educación superior en Michigan para explicar un patrón que se ha evidenciado en los estudiantes de bajos ingresos y alto rendimiento: estos asisten a universidades selectivas a tasas mucho más bajas que aquellos de rendimiento e ingresos altos, a pesar de tratarse de alumnos con logros académicos similares. Así, el texto destaca la existencia de brechas sustanciales en la postulación e inscripción a universidades de calidad a la que asisten los estudiantes de bajos y altos ingresos con buen desempeño académico, brechas que han ido aumentando cada vez más con el paso de los años. Teniendo ello como contexto inicial, la pregunta que se busca responder en el texto es ¿por qué los alumnos con mayores ingresos económicos tienen mayor probabilidad de ingresar a universidades seleccionadas a comparación de aquellos alumnos con ingresos menores, a pesar de tener el mismo desempeño académico?\n",
    "\n",
    "El documento avanza en la pregunta de investigación argumentando que la manera en la que se ejecutan y presentan ciertas políticas universitarias tienen un efecto en la toma de decisión y accionar de los estudiantes de alto rendimiento y bajos ingresos. Esto se desarrolla a través de la aplicación de un experimento controlado que consistía en aplicar una nueva política de comunicación del otorgamiento de la beca HAIL, que cuenta con ciertas características particulares (pero no se trataba de incrementar el monto de la beca, sino de testear si el hacer una publicidad específica sobre el tipo de financiamiento al que los alumnos pueden acceder produce un cambio en su decisión de postular o no a universidades seleccionadas). La manera en la que lo realizaron fue enviando a un grupo aleatorio una carta con la información de la ayuda financiera de la Universidad de Michigan, pero destacando la promesa de que no incurrirían en mayores gastos económicos y de que no tendrían complicaciones en llenar formularios tediosos; mientras que al otro grupo se le envió la información que normalmente se entregaba. \n",
    "\n",
    "Respecto a las características de la información que se destacaba de la beca en la carta enviada al grupo de tratamiento: en primer lugar, se enfatizaba en que esta tenía una garantía de cuatro años (que reduce la incertidumbre de los costos universitarios futuros al convertir la posibilidad de ayuda futura en una certeza presente); en segundo lugar, destacaban que la oferta es incondicional (los estudiantes no tienen que completar papeleos o pasar por verificaciones engorrosas para optar por la beca); en tercer lugar, acentuaban que la beca proporciona una garantía temprana e incondicional de matricula gratuita (que asegura una garantía de precio en el momento de la decisión de la solicitud). Todas estas cualidades fueron sustentadas en evidencias encontradas en investigaciones previas que indican que colocar a los estudiantes en todas esas situaciones influye en su comportamiento.\n",
    "Entonces, con la intención de identificar si el hecho de dar mucha más información a los alumnos con pocos ingresos incrementa sus probabilidades de postulación, los autores establecen una relación causal entre la política de comunicación de apoyo financiero universitario y la cantidad de postulantes de bajos recursos pero alto rendimiento académico a universidades seleccionadas.\n",
    "\n",
    "Quizás, la principal fortaleza de este texto es que, al enfocar el estudio en la manera en que se realizan las ofertas de becas o admisión a una universidad (centrándose en el efecto de las promesas enfocadas y de no tener que pasar por el proceso de matrícula), se logra identificar qué otros factores contribuyen a explicar la brecha educativa existente. Es decir, se entiende que ello no solo se produce por sesgos de comportamiento y factores personales, sino que también hay otros componentes que influyen en las decisiones universitarias de los estudiantes, como la aversión a la pérdida, y la complejidad y alto grado de incertidumbre del proceso de admisión y ayudas que ofrecen las universidades (sobre todo aquellas de mayor calidad educativa).\n",
    "Otra fortaleza del texto se nota en el propio experimento controlado y a gran escala realizado, el cual sirvió para probar el compromiso temprano de matrícula gratuita en una universidad insignia de prestigio sin necesidad de aumentar el monto de las ayudas, sino solo garantizando a los estudiantes que cualificarían después de la admisión; garantía otorgada desde antes de la solicitud de la misma beca de ayuda económica. \n",
    "\n",
    "Los resultados del grupo de tratamiento mostraron que el cambio en la manera de presentar la oferta aumentó sustancialmente la aplicación a dicha universidad (de un 26% al 68%) y las tasas de inscripción (del 12% al 27%). Sin embargo, el texto también muestra algunas debilidades. Por un lado, una de ellas tiene que ver con que la randomización del experimento no fuera por alumno, sino por colegio. Es decir, la información modificada se envió de manera grupal a todos los alumnos de colegios seleccionados al azar, y el otro grupo de colegios recibió la información regular; pero no se realizó una división individual, sino grupal, lo cual podría permitir que otras variables influyan en el resultado de postular o no a una universidad de prestigio. Por otro lado, también se identifica como debilidad el que, para obtener los mismos resultados, solo se puede realizar en esa población. Es decir, no se puede extrapolar dicho experimento a otras poblaciones. \n",
    "\n",
    "Para lo que los autores proponen, se pueden identificar algunos pasos a seguir a través del texto de Murra-Anton (2022), en el que se propone un modelo que también estudia la admisión a la universidad entre grupos heterogéneos, pero este no se centra en la política de comunicación de las mismas, como el caso anterior, sino en el tipo de políticas de ayuda financiera y de admisiones obligatorias (si eligen políticas que sean obligatorias, no vinculantes o no anticipadas) que brindan las universidades. Así, presenta otras políticas internas de las universidades que constituyen un factor relevante para enriquecer y complementar el experimento previamente presentado. Además, se podría considerar el enfoque propuesto por Arslan (2021), centrado en la existencia de mecanismos de aceptación diferida cuando existen incentivos en las listas realizadas por estudiantes sobre las universidades que consideran accesibles para ellos. Así, muestra que los estudiantes construyen sus listas estratégicamente de acuerdo con sus posibilidades de admisión y los resultados de admisión de años anteriores; siendo esta percepción personal de cada estudiante otro de los factores a considerar en cuanto a la postulación a universidades. \n",
    "\n",
    "\n",
    "**Bibliografía:**\n",
    "\n",
    "Arslan, H. A. (2021). Preference estimation in centralized college admissions from reported lists. Empirical Economics, 61(5), 2865–2911. https://doi-org.ezproxybib.pucp.edu.pe/10.1007/s00181-020-01974-5\n",
    "\n",
    "Dynarski, S., Libassi, C. J., Michelmore, K., & Owen, S. (2018). Closing the gap: The effect of a targeted, tuition-free promise on college choices of high-achieving, low-income students (No. w25349). National Bureau of Economic Research.\n",
    "\n",
    "Murra-Anton, Z. (2022). Financial aid and early admissions at selective need-blind colleges. Economic Theory, 74(3), 833–870. https://doi-org.ezproxybib.pucp.edu.pe/10.1007/s00199-021-01379-0 "
   ]
  }
 ],
 "metadata": {
  "kernelspec": {
   "display_name": "Python 3 (ipykernel)",
   "language": "python",
   "name": "python3"
  },
  "language_info": {
   "codemirror_mode": {
    "name": "ipython",
    "version": 3
   },
   "file_extension": ".py",
   "mimetype": "text/x-python",
   "name": "python",
   "nbconvert_exporter": "python",
   "pygments_lexer": "ipython3",
   "version": "3.9.12"
  }
 },
 "nbformat": 4,
 "nbformat_minor": 5
}
