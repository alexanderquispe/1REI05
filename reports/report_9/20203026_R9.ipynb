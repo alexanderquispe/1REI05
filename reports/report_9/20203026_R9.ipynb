{
 "cells": [
  {
   "cell_type": "markdown",
   "id": "e495c629",
   "metadata": {},
   "source": [
    "# REPORTE 9"
   ]
  },
  {
   "cell_type": "markdown",
   "id": "f2af37fd",
   "metadata": {},
   "source": [
    "#### Belén Herrada Ruiz  20203026"
   ]
  },
  {
   "cell_type": "markdown",
   "id": "e7e632e3",
   "metadata": {},
   "source": [
    "## Social Media and Mental health - Braghieri, Levy y Makarin"
   ]
  },
  {
   "cell_type": "markdown",
   "id": "df2889d1",
   "metadata": {},
   "source": [
    "La investigación “Social Media and Mental Health”, realizada por Braghieri, Levy y Makarin, abarca las problemáticas que su mismo título tiene, la salud mental y las redes sociales. Específicamente, aborda las preocupaciones con respecto al potencial efecto negativo de las redes sociales en la salud y su predominancia ahora en Estados Unidos, debido a que la difusión de las redes sociales coincidió con un empeoramiento de las coincidencias de salud mental entre los adolescentes y adultos jóvenes en dicho países. Asimismo, se encontró que luego de la aparición de, concretamente,  Facebook era más probable que los estudiantes reportaran impedimentos en el rendimiento académico. Ante esto, se puede identificar que la pregunta de investigación es ¿La expansión de redes sociales, como Facebook, genera un efecto deteriorante en la salud mental de jóvenes universitarios?\n",
    "\n",
    "Asimismo, se ha podido identificar ciertas fortalezas a lo largo del documento. Por un lado, la  delimitación de la investigación a una población en específico, esto relacionado a que la aparición y desarrollo de Facebook se da en primera instancia en el ámbito universitario, lo cual se relaciona las bases de datos utilizadas, las cuales responden de manera directa con los objetivos que se busca responder a través de la regresión discontinua. La primera, que responde a un conjunto de datos especifica las fechas en que se introdujo Facebook en 775 universidades de EE. UU y, la segunda, una encuentra sobre el universo de respuestas a diecisiete oleadas consecutivas de la Evaluación Nacional de Salud Universitaria (NCHA). Por otro lado, se puede identificar también como fortaleza el hecho que se explica el impacto que tiene la salud mental en diferentes ámbitos, dando así relevancia a la investigación a realizar; además, también se brinda un “background” detallado en relación a la expansión de de Facebook. No obstante, una de las debilidades identificadas en la investigación es la misma limitación que se da con el componente de estudio de Facebook, ya que a pesar de que la publicación ha sido el presente año, las estimaciones no pueden hablar de otras redes sociales y el efecto que pudo haber tenido la masificación de estas luego de la aparición de Facebook. \n",
    "\n",
    "El avance que realiza esta investigación es en establecer un relación discontinua entre la salud mental y las redes sociales, de manera específica que se da un efecto negativo que se produjo la introducción de facebook en jóvenes universitarios con respecto a su deterioro de la salud mental; de igual manera, proporciona estimaciones “casi experimentales” de dicho impacto mediante el aprovechamiento de un experimento natural único al no haber un grupo de control, determinando su hipótesis como verdadera.\n",
    "\n",
    "Por último, uno de los próximos pasos dentro de la investigación puede realizarse en relación en la añadidura de un contexto en específico, como la pandemia de COVID 19, y cómo está ha virtualizado y fomentado la virtualidad. En este sentido, se podría establecer el grado del efecto negativo sobre la salud mental o la variación de esta durante la pandemia, tal cómo ya ha sido abordado desde una perspectiva netamente correlacionada entre la pandemia y la salud mental por Jeff Huarcaya, quien indica que hubo un incremento constante de problema psicológico como ansiedad, depresión o estrés. \n",
    "\n",
    "\n",
    "Bibliografía \n",
    "Huarcaya-Victoria, JeffConsideraciones sobre la salud mental en la pandemia de COVID-19. Revista Peruana de Medicina Experimental y Salud Pública [online]. 2020, v. 37, n. 2 [Accedido 21 Noviembre 2022] , pp. 327-334. Disponible en: <https://doi.org/10.17843/rpmesp.2020.372.5419>. Epub 28 Ago 2020. ISSN 1726-4642. https://doi.org/10.17843/rpmesp.2020.372.5419.\n"
   ]
  },
  {
   "cell_type": "code",
   "execution_count": null,
   "id": "9815f865",
   "metadata": {},
   "outputs": [],
   "source": []
  }
 ],
 "metadata": {
  "kernelspec": {
   "display_name": "Python 3 (ipykernel)",
   "language": "python",
   "name": "python3"
  },
  "language_info": {
   "codemirror_mode": {
    "name": "ipython",
    "version": 3
   },
   "file_extension": ".py",
   "mimetype": "text/x-python",
   "name": "python",
   "nbconvert_exporter": "python",
   "pygments_lexer": "ipython3",
   "version": "3.9.12"
  }
 },
 "nbformat": 4,
 "nbformat_minor": 5
}
