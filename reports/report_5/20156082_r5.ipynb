{
 "cells": [
  {
   "cell_type": "markdown",
   "id": "558c94b0",
   "metadata": {},
   "source": [
    "# REPORTE 5\n",
    "\n",
    "## LECTURA"
   ]
  },
  {
   "cell_type": "markdown",
   "id": "06a2fbf3",
   "metadata": {},
   "source": [
    "Metas de inflación en Perú: las razones del éxito - Oscar Dancourt (2015)\n",
    "\n",
    "En el marco del desarrollo macroeconómico de la economía en el Perú a principios del 2000, se destaca el desempeño del banco central peruano (Banco Central de Reserva del Perú), pues tomó dos decisiones muy importantes para la economía peruana. Estas dos decisiones fueron la implementación de un sistema de metas de inflación y la acumulación de grandes reservas de divisas. En este sentido, Dancourt (2015), en su artículo Metas de inflación en Perú: las razones del éxito, aborda la pregunta de investigación acerca de cómo se utilizaron las políticas monetarias en el Perú durante el periodo 2002 a 2013.\n",
    "\n",
    "A lo largo del artículo, el autor discute el uso y el impacto acerca de los principales instrumentos de la política monetaria en el contexto de un sistema económico que es regido por los bancos. Tales instrumentos son la tasa de interés de referencia, el coeficiente de encaje en moneda local y extranjera y la intervención esterilizada en el mercado de dividas. \n",
    "\n",
    "Dancourt desarrolla una estructura que facilita la comprensión del artículo económico, de modo que presenta gráficos que muestran la inflación, los tipos de cambio, los créditos, la deuda externa, entre otros. Asimismo, desarrolla ecuaciones de funciones como la de Taylor. En este sentido, el autor se enfoca en dos de los canales por los cuales la política monetaria influye en la actividad económica y el nivel de precios.\n",
    "\n",
    "Por un lado, se centra en el canal del crédito. El autor sugiere que el principal canal de impacto de la política monetaria en el sector real de la economía es el canal de préstamo bancario o también llamado crédito. Así, el autor expone que ha habido una evolución en cuanto a el crédito bancario local en moneda extranjera. No obstante, añade que para prevenir crisis financieras es necesario que el banco central limite el endeudamiento externo de los bancos comerciales, de manera que se desdolarice el crédito bancario. \n",
    "\n",
    "Por otro lado, el autor se enfoca en el canal del tipo de cambio. Explica las características particulares que ha tenido la intervención del banco central en el mercado cambiario durante 2002 a 2013 ante choques externos. El instrumento principal no es el tipo de cambio en sí, sino la compraventa esterilizada de dólares. Asimismo, señala que una regla de intervención cambiaria simétrica permite evitar las caídas en el tipo de cambio real, mientras se cumple con la meta de inflación. De esta forma, una política combinada de intervención del tipo de cambio, dirigida al equilibrio interno y externo, podría estabilizar los niveles de precios y la actividad económica sin liquidar recursos productivos de largo plazo.\n",
    "\n",
    "Las dos decisiones importantes mencionadas al principio, respecto al sistema de metas de inflación con una tasa de interés de referencia y la acumulación de reserva de divisas suficiente han contribuido en mantener la estabilidad en términos macroeconómicos en contextos favorables o desfavorables en periodos más cortos. Sin embargo, la pandemia y la situación política actual ha dejado un panorama parcialmente incierto. En este sentido, como lo señala Vega (2008), el papel del BCRP ha sido fundamental para contrarrestar la crisis. Por tanto, el próximo paso par avanzar en la pregunta de investigación sería extender el periodo de estudio de estas políticas, incluyendo el periodo de pandemia, de modo que se pueda probar su efectividad en tiempos más prolongados de crisis. "
   ]
  },
  {
   "cell_type": "markdown",
   "id": "892400f8",
   "metadata": {},
   "source": [
    "## CÓDIGO"
   ]
  },
  {
   "cell_type": "code",
   "execution_count": 3,
   "id": "1d3a3dbf",
   "metadata": {},
   "outputs": [],
   "source": [
    "import ipywidgets as widgets\n",
    "import matplotlib.pyplot as plt\n",
    "import numpy as np\n",
    "import sympy as sy\n",
    "from sympy import *\n",
    "import pandas as pd\n",
    "import numpy as np\n",
    "import random\n",
    "import math\n",
    "import sklearn\n",
    "import scipy as sp\n",
    "import networkx\n",
    "import statsmodels.api as sm\n",
    "import statsmodels.formula.api as smf\n",
    "from statsmodels.iolib.summary2 import summary_col\n",
    "from causalgraphicalmodels import CausalGraphicalModel"
   ]
  },
  {
   "cell_type": "markdown",
   "id": "2401738a",
   "metadata": {},
   "source": [
    "### Modelo DA - OA"
   ]
  },
  {
   "cell_type": "markdown",
   "id": "e4d2688d",
   "metadata": {},
   "source": [
    "#### Demanda Agregada:\n",
    "\n",
    "##### IS: $ [1 - (b - m)(1 - t)]Y = C_0 + G_0 + I_0 - hr  $\n",
    "\n",
    "##### LM: $ \\frac{M^s_o}{P_o} = kY - jr $"
   ]
  },
  {
   "cell_type": "markdown",
   "id": "b6c9a572",
   "metadata": {},
   "source": [
    "#### Oferta Agregada:\n",
    "\n",
    "$ P = P^e + θ(Y - \\bar{Y}) $\n",
    "\n",
    "- Donde $ \\bar{Y} = Y_f $\n",
    "- Donde $(P)$ is the nivel de precios, $(P^e)$ el precio esperado y $\\bar{Y}$ el producto potencial."
   ]
  },
  {
   "cell_type": "markdown",
   "id": "972f0ca4",
   "metadata": {},
   "source": [
    "#### 1. Ecuación de Ingreso de equilibrio DA-OA $(Y_e)$"
   ]
  },
  {
   "cell_type": "markdown",
   "id": "838e1520",
   "metadata": {},
   "source": [
    "Considerando la ecuación de la demanda agregada $(DA)$:\n",
    "\n",
    "$$  P = \\frac{h M^s_o + jB_o}{h} - \\frac{jB_1 + hk}{h}Y $$\n",
    "\n",
    "Y la ecuación de la oferta agregada $(OA)$:\n",
    "\n",
    "$$ P = P^e + θ(Y - \\bar{Y}) $$ "
   ]
  },
  {
   "cell_type": "markdown",
   "id": "90e2a8b1",
   "metadata": {},
   "source": [
    "- Para hallar $Y^e$ igualamos ambas ecuaciones:\n",
    "\n",
    "$$ \\frac{h M^s_o + jB_o}{h} - \\frac{jB_1 + hk}{h}Y = P^e + θ(Y - \\bar{Y}) $$\n",
    "\n",
    "$$ \\frac{h M^s_o + jB_o}{h} - \\frac{jB_1 + hk}{h}Y = P^e + θY - θ \\bar{Y} $$"
   ]
  },
  {
   "cell_type": "markdown",
   "id": "a448fddd",
   "metadata": {},
   "source": [
    "$$ Y^e = [\\frac{1}{θ + \\frac{jB_1 + hk}{h}}] *  (\\frac{h M^s_o + jB_o}{h} - P^e + θ\\bar{Y}) $$"
   ]
  },
  {
   "cell_type": "markdown",
   "id": "cbb8dd99",
   "metadata": {},
   "source": [
    "#### 2. Ecuación de $(P^e)$  de equilibrio DA-OA $(P^e_q)$"
   ]
  },
  {
   "cell_type": "markdown",
   "id": "112b5eed",
   "metadata": {},
   "source": [
    "- Donde $P^e_q$ representa el $(P^e)$  de equilibrio\n",
    "- Para hallar $(P^e_q)$, despejamos la ecuación de $OA$ en función de Y:\n",
    "\n",
    "$$ P^e_q = P^e + θ(Y^e - \\bar{Y}) $$ \n",
    "\n",
    "$$ P^e_q = P^e + θ([\\frac{1}{θ + \\frac{jB_1 + hk}{h}}] * (\\frac{h M^s_o + jB_o}{h} - P^e + θ\\bar{Y}) - \\bar{Y}) $$ "
   ]
  },
  {
   "cell_type": "markdown",
   "id": "52cdf065",
   "metadata": {},
   "source": [
    "#### 3. Ecuación de Tasa de interés de equilibrio DA-OA $(r^e_q)$"
   ]
  },
  {
   "cell_type": "markdown",
   "id": "4e1734bd",
   "metadata": {},
   "source": [
    "- Tasa de interés de equilibrio $(r_e)$:\n",
    "\n",
    "$ r^e = \\frac{kB_o}{kh + jB_1} - (\\frac{B_1}{kh + jB_1})\\frac{M^s_o}{P} $\n",
    "\n",
    "Se modifica la oferta monetaria $\\frac{M^s_o}{P}$ ---> $M^s_o - P$"
   ]
  },
  {
   "cell_type": "markdown",
   "id": "1ea20ffa",
   "metadata": {},
   "source": [
    "Entonces: $$ r^e = \\frac{kB_o}{kh + jB_1} - (\\frac{B_1}{kh + jB_1}) * M^s_o - P $$"
   ]
  },
  {
   "cell_type": "markdown",
   "id": "945d6731",
   "metadata": {},
   "source": [
    "- Tasa de interés de equilibrio en DA-OA $(r^e_q)$:\n",
    "  \n",
    "  Donde $r^e_q$ representa el $(r^e)$  de equilibrio"
   ]
  },
  {
   "cell_type": "markdown",
   "id": "247e2497",
   "metadata": {},
   "source": [
    "$$ r^e_q = [\\frac{kB_o}{kh + jB_1} - (\\frac{B_1}{kh + jB_1})] * [M^s_o - P^e_q] $$"
   ]
  },
  {
   "cell_type": "markdown",
   "id": "599b085c",
   "metadata": {},
   "source": [
    "$$ r^e_q = [\\frac{kB_o}{kh + jB_1} - (\\frac{B_1}{kh + jB_1})] * [M^s_o - (P^e + θ([\\frac{1}{θ + \\frac{jB_1 + hk}{h}}] * (\\frac{h M^s_o + jB_o}{h} - P^e + θ\\bar{Y}) - \\bar{Y}))] $$"
   ]
  },
  {
   "cell_type": "markdown",
   "id": "5ce072f9",
   "metadata": {},
   "source": [
    "### Gráfico del equilibrio simultáneo en el modelo DA-OA"
   ]
  },
  {
   "cell_type": "code",
   "execution_count": 4,
   "id": "6c5be3ee",
   "metadata": {},
   "outputs": [],
   "source": [
    "# DA\n",
    "    \n",
    "# Parámetros\n",
    "\n",
    "Y_size = 100 \n",
    "\n",
    "Co = 35\n",
    "Io = 40\n",
    "Go = 50\n",
    "Xo = 4\n",
    "h = 0.8\n",
    "b = 0.4\n",
    "m = 0.5\n",
    "t = 0.8\n",
    "\n",
    "k = 2\n",
    "j = 1                \n",
    "Ms = 200             \n",
    "P  = 8  \n",
    "\n",
    "Y = np.arange(Y_size)\n",
    "\n",
    "\n",
    "# Ecuación\n",
    "\n",
    "B0 = Co + Io + Go + Xo\n",
    "B1 = 1 - (b-m)*(1-t)\n",
    "\n",
    "def P_AD(h, Ms, j, B0, B1, k, Y):\n",
    "    P_AD = ((h*Ms + j*B0)/h) - (Y*(j*B1 + h*k)/h)\n",
    "    return P_AD\n",
    "\n",
    "P_AD = P_AD(h, Ms, j, B0, B1, k, Y)\n",
    "\n",
    "\n",
    "#2--------------------------\n",
    "    # Oferta Agregada\n",
    "    \n",
    "# Parámetros\n",
    "\n",
    "Y_size = 100\n",
    "\n",
    "Pe = 100 \n",
    "θ = 3\n",
    "_Y = 20   \n",
    "\n",
    "Y = np.arange(Y_size)\n",
    "\n",
    "\n",
    "# Ecuación\n",
    "\n",
    "def P_AS(Pe, _Y, Y, θ):\n",
    "    P_AS = Pe + θ*(Y-_Y)\n",
    "    return P_AS\n",
    "\n",
    "P_AS = P_AS(Pe, _Y, Y, θ)"
   ]
  },
  {
   "cell_type": "code",
   "execution_count": 5,
   "id": "b283fba0",
   "metadata": {},
   "outputs": [
    {
     "data": {
      "text/plain": [
       "(193.58565737051794, 51.19521912350598)"
      ]
     },
     "execution_count": 5,
     "metadata": {},
     "output_type": "execute_result"
    }
   ],
   "source": [
    "# función line_intersection\n",
    "def line_intersection(line1, line2):\n",
    "    xdiff = (line1[0][0] - line1[1][0], line2[0][0] - line2[1][0])\n",
    "    ydiff = (line1[0][1] - line1[1][1], line2[0][1] - line2[1][1])\n",
    "\n",
    "    def det(a, b):\n",
    "        return a[0] * b[1] - a[1] * b[0]\n",
    "\n",
    "    div = det(xdiff, ydiff)\n",
    "    if div == 0:\n",
    "       raise Exception('lines do not intersect')\n",
    "\n",
    "    d = (det(*line1), det(*line2))\n",
    "    x = det(d, xdiff) / div\n",
    "    y = det(d, ydiff) / div\n",
    "    return x, y\n",
    "\n",
    "    # coordenadas de las curvas (x,y)\n",
    "A = [P_AD[0], Y[0]] # DA, coordenada inicio\n",
    "B = [P_AD[-1], Y[-1]] # DA, coordenada fin\n",
    "\n",
    "C = [P_AS[0], Y[0]] # L_45, coordenada inicio\n",
    "D = [P_AS[-1], Y[-1]] # L_45, coordenada fin\n",
    "\n",
    "    # creación de intersección\n",
    "\n",
    "intersec = line_intersection((A, B), (C, D))\n",
    "intersec # (y,x)"
   ]
  },
  {
   "cell_type": "code",
   "execution_count": 7,
   "id": "49252b26",
   "metadata": {},
   "outputs": [
    {
     "data": {
      "image/png": "[encoded data removed]",
      "text/plain": [
       "<Figure size 720x576 with 1 Axes>"
      ]
     },
     "metadata": {},
     "output_type": "display_data"
    }
   ],
   "source": [
    " # Gráfico del modelo DA-OA\n",
    "\n",
    "# Dimensiones del gráfico\n",
    "y_max = np.max(P)\n",
    "fig, ax = plt.subplots(figsize=(10, 8))\n",
    "\n",
    "# Curvas a graficar \n",
    "ax.plot(Y, P_AD, label = \"DA\", color = \"violet\") #DA\n",
    "ax.plot(Y, P_AS, label = \"OA\", color = \"orange\") #OA\n",
    "\n",
    "# Líneas punteadas\n",
    "plt.axhline(y=intersec[0], xmin= 0, xmax= 0.5, linestyle = \":\", color = \"red\")\n",
    "plt.axvline(x=intersec[1],  ymin= 0, ymax= 0.49, linestyle = \":\", color = \"red\")\n",
    "\n",
    "# Texto agregado\n",
    "plt.text(0, 200, '$P_0$', fontsize = 12, color = 'black')\n",
    "plt.text(53, 25, '$Y_0$', fontsize = 12, color = 'black')\n",
    "plt.text(50, 202, '$E_0$', fontsize = 12, color = 'black')\n",
    "\n",
    "\n",
    "# Eliminar valores de ejes\n",
    "ax.yaxis.set_major_locator(plt.NullLocator())   \n",
    "ax.xaxis.set_major_locator(plt.NullLocator())\n",
    "\n",
    "# Título, ejes y leyenda\n",
    "ax.set(title=\"DA-OA\", xlabel='Y', ylabel='P')\n",
    "ax.legend()\n",
    "\n",
    "plt.show()"
   ]
  },
  {
   "cell_type": "markdown",
   "id": "9940b4ab",
   "metadata": {},
   "source": [
    "### Estática comparativa"
   ]
  },
  {
   "cell_type": "markdown",
   "id": "f36829fe",
   "metadata": {},
   "source": [
    "##### 1. Analice los efectos sobre las variables endógenas Y, P y r de una disminución del gasto fiscal. . "
   ]
  },
  {
   "cell_type": "markdown",
   "id": "3e7c1d63",
   "metadata": {},
   "source": [
    "- Intuición:\n",
    "\n",
    "Modelo DA-OA: \n",
    "\n",
    "$$ Y↓ → P↓ $$\n",
    "\n",
    "Modelo IS-LM: \n",
    "$$ G_o↓ → DA↓ → DA < Y → Y↓ $$\n",
    "$$ Y↓ → M^d↓ → M^d↓ → DA < M^s → r↓ $$"
   ]
  },
  {
   "cell_type": "markdown",
   "id": "a03132a6",
   "metadata": {},
   "source": [
    "Matemática:"
   ]
  },
  {
   "cell_type": "code",
   "execution_count": 9,
   "id": "4e6c6b18",
   "metadata": {},
   "outputs": [],
   "source": [
    "# nombrar variables como símbolos\n",
    "Co, Io, Go, Xo, h, r, b, m, t, beta_0, beta_1  = symbols('Co Io Go Xo h r b m t beta_0, beta_1')\n",
    "\n",
    "# nombrar variables como símbolos\n",
    "k, j, Ms, P, Y = symbols('k j Ms P Y')\n",
    "\n",
    "# OA\n",
    "Pe, _Y, Y, θ = symbols('Pe, _Y, Y, θ')\n",
    "\n",
    "# Beta_0 y beta_1\n",
    "beta_0 = (Co + Io + Go + Xo)\n",
    "beta_1 = ( 1-(b-m)*(1-t) )\n",
    "\n",
    "# Y de equilibrio\n",
    "Y_eq = (k*beta_0)/(k*h + j*beta_1) - ( beta_1 / (k*h + j*beta_1) )*(Ms/P)\n",
    "Y_eq = ( (1)/(θ + ( (j*beta_1+h*k)/h) ) )*( ( (h*Ms+j*beta_0)/h ) - Pe + θ*_Y )\n",
    "\n",
    "# r de equilibrio\n",
    "r_eq = (j*beta_0)/(k*h + j*beta_1) + ( h / (k*h + j*beta_1) )*(Ms/P)\n",
    "\n",
    "# P equilibrio\n",
    "P_eq = Pe + θ*(Y_eq - _Y)"
   ]
  },
  {
   "cell_type": "code",
   "execution_count": 10,
   "id": "cc40cfde",
   "metadata": {},
   "outputs": [
    {
     "name": "stdout",
     "output_type": "stream",
     "text": [
      "El Diferencial de Y con respecto al diferencial de Go =  j/(h*(θ + (h*k + j*(-(1 - t)*(b - m) + 1))/h))\n"
     ]
    }
   ],
   "source": [
    "# Y\n",
    "df_Y_eq_Go = diff(Y_eq, Go)\n",
    "print(\"El Diferencial de Y con respecto al diferencial de Go = \", df_Y_eq_Go)"
   ]
  },
  {
   "cell_type": "code",
   "execution_count": 11,
   "id": "448fa4bb",
   "metadata": {},
   "outputs": [
    {
     "name": "stdout",
     "output_type": "stream",
     "text": [
      "El Diferencial de r con respecto al diferencial de Go =  j/(h*k + j*(-(1 - t)*(b - m) + 1))\n"
     ]
    }
   ],
   "source": [
    "# r\n",
    "df_r_eq_Go = diff(r_eq, Go)\n",
    "print(\"El Diferencial de r con respecto al diferencial de Go = \", df_r_eq_Go)"
   ]
  },
  {
   "cell_type": "code",
   "execution_count": 12,
   "id": "3364095b",
   "metadata": {},
   "outputs": [
    {
     "name": "stdout",
     "output_type": "stream",
     "text": [
      "El Diferencial de P con respecto al diferencial de Go =  j*θ/(h*(θ + (h*k + j*(-(1 - t)*(b - m) + 1))/h))\n"
     ]
    }
   ],
   "source": [
    "# P\n",
    "df_P_eq_Go = diff(P_eq, Go)\n",
    "print(\"El Diferencial de P con respecto al diferencial de Go = \", df_P_eq_Go)"
   ]
  },
  {
   "cell_type": "markdown",
   "id": "fe2808b4",
   "metadata": {},
   "source": [
    "#### Gráfico"
   ]
  },
  {
   "cell_type": "code",
   "execution_count": 13,
   "id": "70691f7d",
   "metadata": {},
   "outputs": [],
   "source": [
    "# DA\n",
    "\n",
    "\n",
    "# Curva IS ORIGINAL\n",
    "\n",
    "# Parámetros\n",
    "\n",
    "Y_size = 100 \n",
    "\n",
    "Co = 35\n",
    "Io = 40\n",
    "Go = 50\n",
    "Xo = 2\n",
    "h = 0.8\n",
    "b = 0.4\n",
    "m = 0.5\n",
    "t = 0.8\n",
    "\n",
    "Y = np.arange(Y_size)\n",
    "\n",
    "\n",
    "# Ecuación \n",
    "def r_IS(b, m, t, Co, Io, Go, Xo, h, Y):\n",
    "    r_IS = (Co + Io + Go + Xo - Y * (1-(b-m)*(1-t)))/h\n",
    "    return r_IS\n",
    "\n",
    "r = r_IS(b, m, t, Co, Io, Go, Xo, h, Y)\n",
    "\n",
    "\n",
    "\n",
    "\n",
    "# Curva LM ORIGINAL\n",
    "\n",
    "# Parámetros\n",
    "\n",
    "Y_size = 100\n",
    "\n",
    "k = 2\n",
    "j = 1                \n",
    "Ms = 200             \n",
    "P  = 8           \n",
    "\n",
    "Y = np.arange(Y_size)\n",
    "\n",
    "# Ecuación\n",
    "\n",
    "def i_LM( k, j, Ms, P, Y):\n",
    "    i_LM = (-Ms/P)/j + k/j*Y\n",
    "    return i_LM\n",
    "\n",
    "i = i_LM( k, j, Ms, P, Y)\n",
    "\n",
    "#--------------------------------------------------\n",
    "    # NUEVA curva IS: disminucion en el gasto público (Go)\n",
    "\n",
    "# Definir SOLO el parámetro cambiado\n",
    "Go = 40\n",
    "\n",
    "# Generar la ecuación con el nuevo parámetro\n",
    "def r_IS_Go(b, m, t, Co, Io, Go, Xo, h, Y):\n",
    "    r_IS = (Co + Io + Go + Xo - Y * (1-(b-m)*(1-t)))/h\n",
    "    return r_IS\n",
    "\n",
    "r_Go = r_IS_Go(b, m, t, Co, Io, Go, Xo, h, Y)"
   ]
  },
  {
   "cell_type": "code",
   "execution_count": 14,
   "id": "8eceaaa9",
   "metadata": {},
   "outputs": [],
   "source": [
    "# Demanda Agregada ORGINAL\n",
    "    \n",
    "# Parámetros\n",
    "\n",
    "Y_size = 100 \n",
    "\n",
    "Co = 35\n",
    "Io = 40\n",
    "Go = 50\n",
    "Xo = 2\n",
    "h = 0.8\n",
    "b = 0.4\n",
    "m = 0.5\n",
    "t = 0.8\n",
    "\n",
    "k = 2\n",
    "j = 1                \n",
    "Ms = 200             \n",
    "P  = 8  \n",
    "\n",
    "Y = np.arange(Y_size)\n",
    "\n",
    "\n",
    "# Ecuación\n",
    "\n",
    "B0 = Co + Io + Go + Xo\n",
    "B1 = 1 - (b-m)*(1-t)\n",
    "\n",
    "def P_AD(h, Ms, j, B0, B1, k, Y):\n",
    "    P_AD = ((h*Ms + j*B0)/h) - (Y*(j*B1 + h*k)/h)\n",
    "    return P_AD\n",
    "\n",
    "P_AD = P_AD(h, Ms, j, B0, B1, k, Y)\n",
    "\n",
    "\n",
    "# Oferta Agregada ORIGINAL\n",
    "    \n",
    "# Parámetros\n",
    "\n",
    "Y_size = 100\n",
    "\n",
    "Pe = 70\n",
    "θ = 3\n",
    "_Y = 20  \n",
    "\n",
    "\n",
    "Y = np.arange(Y_size)\n",
    "\n",
    "# Ecuación\n",
    "\n",
    "def P_AS(Pe, _Y, Y, θ):\n",
    "    P_AS = Pe + θ*(Y-_Y)\n",
    "    return P_AS\n",
    "\n",
    "P_AS = P_AS(Pe, _Y, Y, θ)\n",
    "\n",
    "\n",
    "\n",
    "\n",
    "\n",
    "# NUEVA Oferta Agregada\n",
    "\n",
    "# Definir SOLO el parámetro cambiado\n",
    "\n",
    "Go = 32\n",
    "\n",
    "# Generar la ecuación con el nuevo parámetro\n",
    "\n",
    "B0 = Co + Io + Go + Xo\n",
    "B1 = 1 - (b-m)*(1-t)\n",
    "\n",
    "def P_AD_Go(h, Ms, j, B0, B1, k, Y):\n",
    "    P_AD = ((h*Ms + j*B0)/h) - (Y*(j*B1 + h*k)/h)\n",
    "    return P_AD\n",
    "\n",
    "P_Go =P_AD_Go(h, Ms, j, B0, B1, k, Y)"
   ]
  },
  {
   "cell_type": "code",
   "execution_count": 16,
   "id": "7ba02fa7",
   "metadata": {},
   "outputs": [
    {
     "data": {
      "text/plain": [
       "<function matplotlib.pyplot.show(close=None, block=None)>"
      ]
     },
     "execution_count": 16,
     "metadata": {},
     "output_type": "execute_result"
    },
    {
     "data": {
      "image/png": "[encoded data removed]",
      "text/plain": [
       "<Figure size 576x1152 with 2 Axes>"
      ]
     },
     "metadata": {
      "needs_background": "light"
     },
     "output_type": "display_data"
    }
   ],
   "source": [
    "# Graficos\n",
    "fig, (ax1, ax2) = plt.subplots(2, figsize=(8, 16)) \n",
    "\n",
    "# G1: IS-LM\n",
    "    \n",
    "ax1.plot(Y, i, label = \"LM\", color = \"Gold\") #LM\n",
    "ax1.plot(Y, r, label=\"IS\", color = \"Blue\")  #IS\n",
    "ax1.plot(Y, r_Go, label=\"IS_Go\", color = \"Green\", linestyle ='dashed')  #IS_Go\n",
    "\n",
    "\n",
    "ax1.axvline(x=52.5,  ymin= 0, ymax= 0.53, linestyle = \":\", color = \"grey\")\n",
    "ax1.axvline(x=58,  ymin= 0, ymax= 0.58, linestyle = \":\", color = \"grey\")\n",
    "ax1.axhline(y=80,  xmin= 0, xmax= 0.52, linestyle = \":\", color = \"grey\")\n",
    "ax1.axhline(y=90,  xmin= 0, xmax= 0.58, linestyle = \":\", color = \"grey\")\n",
    "\n",
    "ax1.text(50, 85, '↙', fontsize=15, color='grey')\n",
    "ax1.text(54, -20, '←', fontsize=15, color='grey')\n",
    "ax1.text(0, 82, '↓', fontsize=15, color='grey')\n",
    "ax1.text(58, -25, '$Y_0$', fontsize=12, color='black')\n",
    "ax1.text(45, -25, '$Y_1$', fontsize=12, color='C0')\n",
    "ax1.text(0, 95, '$r_0$', fontsize=12, color='black')\n",
    "ax1.text(0, 75, '$r_1$', fontsize=12, color='C0')\n",
    "\n",
    "\n",
    "ax1.set(title=\"Disminución en el Gasto Fiscal\", xlabel= r'Y', ylabel= r'r')\n",
    "ax1.legend()\n",
    "\n",
    "\n",
    "#G2:\n",
    "\n",
    "ax2.plot(Y, P_AS, label = \"AS\", color = \"orange\") #OA\n",
    "ax2.plot(Y, P_AD, label = \"AD\", color = \"purple\") #DA\n",
    "ax2.plot(Y, P_Go, label = \"AD_Go\", color = \"red\", linestyle = 'dashed') #DA_Go\n",
    "\n",
    "ax2.axvline(x=52,  ymin= 0, ymax= 1, linestyle = \":\", color = \"grey\")\n",
    "ax2.axvline(x=57,  ymin= 0, ymax= 1, linestyle = \":\", color = \"grey\")\n",
    "ax2.axhline(y=181,  xmin= 0, xmax= 0.58, linestyle = \":\", color = \"grey\")\n",
    "ax2.axhline(y=166,  xmin= 0, xmax= 0.52, linestyle = \":\", color = \"grey\")\n",
    "\n",
    "ax2.text(53, 10, '←', fontsize=15, color='grey')\n",
    "ax2.text(55, 160, '↙', fontsize=15, color='grey')\n",
    "ax2.text(0, 169, '↓', fontsize=15, color='grey')\n",
    "\n",
    "ax2.text(58, 0, '$Y_0$', fontsize=12, color='black')\n",
    "ax2.text(45, 0, '$Y_1$', fontsize=12, color='C8')\n",
    "ax2.text(0, 190, '$P_0$', fontsize=12, color='black')\n",
    "ax2.text(0, 150, '$P_1$', fontsize=12, color='C8')\n",
    "\n",
    "ax2.set(xlabel= r'Y', ylabel= r'P')\n",
    "ax2.legend()\n",
    "\n",
    "plt.show"
   ]
  },
  {
   "cell_type": "markdown",
   "id": "dd0afc3e",
   "metadata": {},
   "source": [
    "##### 2. Analice los efectos sobre las variables endógenas Y, P y r de una disminución de la masa monetaria. "
   ]
  },
  {
   "cell_type": "markdown",
   "id": "cab3d89f",
   "metadata": {},
   "source": [
    "Matemática:"
   ]
  },
  {
   "cell_type": "code",
   "execution_count": 17,
   "id": "219513cc",
   "metadata": {},
   "outputs": [],
   "source": [
    "# nombrar variables como símbolos\n",
    "Co, Io, Go, Xo, h, r, b, m, t, beta_0, beta_1  = symbols('Co Io Go Xo h r b m t beta_0, beta_1')\n",
    "\n",
    "# nombrar variables como símbolos\n",
    "k, j, Ms, P, Y = symbols('k j Ms P Y')\n",
    "\n",
    "# Beta_0 y beta_1\n",
    "beta_0 = (Co + Io + Go + Xo)\n",
    "beta_1 = ( 1-(b-m)*(1-t) )\n",
    "\n",
    "# Producto de equilibrio y la tasa de interes de equilibrio en el modelo IS-LM\n",
    "Y_eq = (k*beta_0)/(k*h + j*beta_1) - ( beta_1 / (k*h + j*beta_1) )*(Ms/P)\n",
    "r_eq = (j*beta_0)/(k*h + j*beta_1) + ( h / (k*h + j*beta_1) )*(Ms/P)"
   ]
  },
  {
   "cell_type": "code",
   "execution_count": 18,
   "id": "3a8c4fde",
   "metadata": {},
   "outputs": [
    {
     "name": "stdout",
     "output_type": "stream",
     "text": [
      "El Diferencial del Producto con respecto al diferencial de la masa monetaria =  -(-(1 - t)*(b - m) + 1)/(P*(h*k + j*(-(1 - t)*(b - m) + 1)))\n"
     ]
    }
   ],
   "source": [
    "df_Y_eq_Ms = diff(Y_eq, Ms)\n",
    "print(\"El Diferencial del Producto con respecto al diferencial de la masa monetaria = \", df_Y_eq_Ms)"
   ]
  },
  {
   "cell_type": "code",
   "execution_count": 19,
   "id": "b522e417",
   "metadata": {},
   "outputs": [
    {
     "name": "stdout",
     "output_type": "stream",
     "text": [
      "El Diferencial de la tasa de interes con respecto al diferencial de precios =  h/(P*(h*k + j*(-(1 - t)*(b - m) + 1)))\n"
     ]
    }
   ],
   "source": [
    "df_r_eq_Ms = diff(r_eq, Ms)\n",
    "print(\"El Diferencial de la tasa de interes con respecto al diferencial de precios = \", df_r_eq_Ms)"
   ]
  },
  {
   "cell_type": "markdown",
   "id": "5e04aea5",
   "metadata": {},
   "source": [
    "Modelo Da-OA"
   ]
  },
  {
   "cell_type": "code",
   "execution_count": 20,
   "id": "0e8e8a9e",
   "metadata": {},
   "outputs": [],
   "source": [
    "# nombrar variables como símbolos\n",
    "h, Ms, j, beta_0, beta_1, k, Y, Pe, _Y, θ  = symbols('h, Ms, j, beta_0, beta_1, k, Y, Pe, _Y, θ ')\n",
    "\n",
    "# Beta_0 y beta_1\n",
    "beta_0 = (Co + Io + Go + Xo)\n",
    "beta_1 = ( 1-(b-m)*(1-t) )\n",
    "\n",
    "# Producto de equilibrio y la tasa de interes de equilibrio en el modelo IS-LM\n",
    "Y_eq = (((h*Ms+j*beta_0)/h) - (Pe + θ*_Y))/(θ - ((j*beta_1+h*r)/h))\n",
    "P_eq = ((h*Ms+j*beta_0)/h) - (((j*beta_1+h*r)/h)*((P-Pe-θ*_Y)/θ))\n"
   ]
  },
  {
   "cell_type": "code",
   "execution_count": 21,
   "id": "30dbc6f4",
   "metadata": {},
   "outputs": [
    {
     "name": "stdout",
     "output_type": "stream",
     "text": [
      "El Diferencial del Producto con respecto al diferencial de la masa monetaria =  1/(θ - (h*r + j*(-(1 - t)*(b - m) + 1))/h)\n"
     ]
    }
   ],
   "source": [
    "df_Y_eq_Ms = diff(Y_eq, Ms)\n",
    "print(\"El Diferencial del Producto con respecto al diferencial de la masa monetaria = \", df_Y_eq_Ms)"
   ]
  },
  {
   "cell_type": "code",
   "execution_count": 22,
   "id": "d94495ed",
   "metadata": {},
   "outputs": [
    {
     "name": "stdout",
     "output_type": "stream",
     "text": [
      "El Diferencial del nivel de precios con respecto al diferencial del precio esperado =  1\n"
     ]
    }
   ],
   "source": [
    "df_P_eq_Ms = diff(P_eq, Ms)\n",
    "print(\"El Diferencial del nivel de precios con respecto al diferencial del precio esperado = \", df_P_eq_Ms)\n"
   ]
  },
  {
   "cell_type": "code",
   "execution_count": 23,
   "id": "5eec70ca",
   "metadata": {},
   "outputs": [],
   "source": [
    "# IS-LM\n",
    "\n",
    "#1--------------------------------------------------\n",
    "    # Curva IS ORIGINAL\n",
    "\n",
    "# Parámetros\n",
    "\n",
    "Y_size = 100 \n",
    "\n",
    "Co = 35\n",
    "Io = 40\n",
    "Go = 50\n",
    "Xo = 2\n",
    "h = 0.8\n",
    "b = 0.5\n",
    "m = 0.4\n",
    "t = 0.8\n",
    "\n",
    "Y = np.arange(Y_size)\n",
    "\n",
    "\n",
    "# Ecuación \n",
    "def r_IS(b, m, t, Co, Io, Go, Xo, h, Y):\n",
    "    r_IS = (Co + Io + Go + Xo - Y * (1-(b-m)*(1-t)))/h\n",
    "    return r_IS\n",
    "\n",
    "r = r_IS(b, m, t, Co, Io, Go, Xo, h, Y)\n",
    "\n",
    "\n",
    "#2--------------------------------------------------\n",
    "    # Curva LM ORIGINAL\n",
    "\n",
    "# Parámetros\n",
    "\n",
    "Y_size = 100\n",
    "\n",
    "k = 2\n",
    "j = 1                \n",
    "Ms = 200             \n",
    "P  = 8           \n",
    "\n",
    "Y = np.arange(Y_size)\n",
    "\n",
    "# Ecuación\n",
    "\n",
    "def i_LM( k, j, Ms, P, Y):\n",
    "    i_LM = (-Ms/P)/j + k/j*Y\n",
    "    return i_LM\n",
    "\n",
    "i = i_LM( k, j, Ms, P, Y)\n",
    "\n",
    "#--------------------------------------------------\n",
    "    # NUEVA curva LM: incremento en la Masa Monetaria (Ms)\n",
    "\n",
    "# Definir SOLO el parámetro cambiado\n",
    "Ms = -100\n",
    "\n",
    "# Generar la ecuación con el nuevo parámetro\n",
    "def i_LM_Ms( k, j, Ms, P, Y):\n",
    "    i_LM = (-Ms/P)/j + k/j*Y\n",
    "    return i_LM\n",
    "\n",
    "i_Ms = i_LM_Ms( k, j, Ms, P, Y)"
   ]
  },
  {
   "cell_type": "code",
   "execution_count": 24,
   "id": "9ace6142",
   "metadata": {},
   "outputs": [],
   "source": [
    "#DA-OA\n",
    "\n",
    "#1--------------------------\n",
    "    # Demanda Agregada ORGINAL\n",
    "    \n",
    "# Parámetros\n",
    "\n",
    "Y_size = 100 \n",
    "\n",
    "Co = 35\n",
    "Io = 40\n",
    "Go = 50\n",
    "Xo = 2\n",
    "h = 0.8\n",
    "b = 0.5\n",
    "m = 0.4\n",
    "t = 0.8\n",
    "\n",
    "k = 2\n",
    "j = 1                \n",
    "Ms = 200             \n",
    "P  = 8  \n",
    "\n",
    "Y = np.arange(Y_size)\n",
    "\n",
    "\n",
    "# Ecuación\n",
    "\n",
    "B0 = Co + Io + Go + Xo\n",
    "B1 = 1 - (b-m)*(1-t)\n",
    "\n",
    "def P_AD(h, Ms, j, B0, B1, k, Y):\n",
    "    P_AD = ((h*Ms + j*B0)/h) - (Y*(j*B1 + h*k)/h)\n",
    "    return P_AD\n",
    "\n",
    "P_AD = P_AD(h, Ms, j, B0, B1, k, Y)\n",
    "\n",
    "#--------------------------------------------------\n",
    "    # NUEVA Demanda Agregada\n",
    "\n",
    "# Definir SOLO el parámetro cambiado\n",
    "\n",
    "Ms = 125\n",
    "\n",
    "# Generar la ecuación con el nuevo parámetro\n",
    "\n",
    "def P_AD_Ms(h, Ms, j, B0, B1, k, Y):\n",
    "    P_AD = ((h*Ms + j*B0)/h) - (Y*(j*B1 + h*k)/h)\n",
    "    return P_AD\n",
    "\n",
    "P_Ms = P_AD_Ms(h, Ms, j, B0, B1, k, Y)\n",
    "\n",
    "\n",
    "#2--------------------------\n",
    "    # Oferta Agregada ORIGINAL\n",
    "    \n",
    "# Parámetros\n",
    "\n",
    "Y_size = 100\n",
    "\n",
    "Pe = 70\n",
    "θ = 3\n",
    "_Y = 20  \n",
    "\n",
    "Y = np.arange(Y_size)\n",
    "\n",
    "# Ecuación\n",
    "\n",
    "def P_AS(Pe, _Y, Y, θ):\n",
    "    P_AS = Pe + θ*(Y-_Y)\n",
    "    return P_AS\n",
    "\n",
    "P_AS = P_AS(Pe, _Y, Y, θ)"
   ]
  },
  {
   "cell_type": "code",
   "execution_count": 26,
   "id": "4a0d5d5c",
   "metadata": {},
   "outputs": [
    {
     "data": {
      "text/plain": [
       "<function matplotlib.pyplot.show(close=None, block=None)>"
      ]
     },
     "execution_count": 26,
     "metadata": {},
     "output_type": "execute_result"
    },
    {
     "data": {
      "image/png": "[encoded data removed]",
      "text/plain": [
       "<Figure size 576x1152 with 2 Axes>"
      ]
     },
     "metadata": {
      "needs_background": "light"
     },
     "output_type": "display_data"
    }
   ],
   "source": [
    "# Dos gráficos en un solo cuadro\n",
    "fig, (ax1, ax2) = plt.subplots(2, figsize=(8, 16)) \n",
    "\n",
    "#---------------------------------\n",
    "    # Gráfico 1: IS-LM\n",
    "    \n",
    "ax1.plot(Y, r, label = \"IS\", color = \"red\") #IS\n",
    "ax1.plot(Y, i, label=\"LM\", color = \"blue\")  #LM\n",
    "ax1.plot(Y, i_Ms, label=\"LM_Ms\", color = \"C0\", linestyle ='dashed')  #LM\n",
    "\n",
    "ax1.axvline(x=45,  ymin= 0, ymax= 1, linestyle = \":\", color = \"grey\")\n",
    "ax1.axvline(x=57,  ymin= 0, ymax= 1, linestyle = \":\", color = \"grey\")\n",
    "ax1.axhline(y=88.9,  xmin= 0, xmax= 0.56, linestyle = \":\", color = \"grey\")\n",
    "ax1.axhline(y=104,  xmin= 0, xmax= 0.46, linestyle = \":\", color = \"grey\")\n",
    "\n",
    "ax1.text(50, 110, '∆$M_s$', fontsize=12, color='black')\n",
    "ax1.text(50, 102, '←', fontsize=15, color='grey')\n",
    "ax1.text(50, 10, '←', fontsize=15, color='grey')\n",
    "ax1.text(0, 94, '↑', fontsize=15, color='grey')\n",
    "ax1.text(60, 15, '$Y_0$', fontsize=12, color='black')\n",
    "ax1.text(40, 15, '$Y_1$', fontsize=12, color='C0')\n",
    "ax1.text(0, 80, '$r_0$', fontsize=12, color='black')\n",
    "ax1.text(0, 105, '$r_1$', fontsize=12, color='C0')\n",
    "\n",
    "\n",
    "ax1.set(title=\"Efectos de un descenso en la masa monetaria\", xlabel= r'Y', ylabel= r'r')\n",
    "ax1.legend()\n",
    "\n",
    "\n",
    "#---------------------------------\n",
    "    # Gráfico 2: DA-OA\n",
    "\n",
    "ax2.plot(Y, P_AD, label = \"AD\", color = \"Orange\") #DA\n",
    "ax2.plot(Y, P_Ms, label = \"AD_Ms\", color = \"purple\", linestyle = 'dashed') #DA_Ms\n",
    "ax2.plot(Y, P_AS, label = \"AS\", color = \"green\") #OA\n",
    "\n",
    "ax2.axvline(x=44,  ymin= 0, ymax= 1, linestyle = \":\", color = \"grey\")\n",
    "ax2.axvline(x=56,  ymin= 0, ymax= 1, linestyle = \":\", color = \"grey\")\n",
    "ax2.axhline(y=140.5,  xmin= 0, xmax= 0.45, linestyle = \":\", color = \"grey\")\n",
    "ax2.axhline(y=178,  xmin= 0, xmax= 0.56, linestyle = \":\", color = \"grey\")\n",
    "\n",
    "ax2.text(48, 0, '←', fontsize=15, color='grey')\n",
    "ax2.text(36, 210, '∆$M_s$', fontsize=12, color='black')\n",
    "ax2.text(36, 200, '←', fontsize=15, color='grey')\n",
    "ax2.text(0, 155, '↓', fontsize=15, color='grey')\n",
    "\n",
    "ax2.text(58, 0, '$Y_0$', fontsize=12, color='black')\n",
    "ax2.text(40, 0, '$Y_1$', fontsize=12, color='C4')\n",
    "ax2.text(0, 190, '$P_0$', fontsize=12, color='black')\n",
    "ax2.text(0, 125, '$P_1$', fontsize=12, color='C4')\n",
    "\n",
    "ax2.set(xlabel= r'Y', ylabel= r'P')\n",
    "ax2.legend()\n",
    "\n",
    "plt.show"
   ]
  },
  {
   "cell_type": "code",
   "execution_count": null,
   "id": "4169cb99",
   "metadata": {},
   "outputs": [],
   "source": []
  }
 ],
 "metadata": {
  "kernelspec": {
   "display_name": "Python 3 (ipykernel)",
   "language": "python",
   "name": "python3"
  },
  "language_info": {
   "codemirror_mode": {
    "name": "ipython",
    "version": 3
   },
   "file_extension": ".py",
   "mimetype": "text/x-python",
   "name": "python",
   "nbconvert_exporter": "python",
   "pygments_lexer": "ipython3",
   "version": "3.9.12"
  }
 },
 "nbformat": 4,
 "nbformat_minor": 5
}
