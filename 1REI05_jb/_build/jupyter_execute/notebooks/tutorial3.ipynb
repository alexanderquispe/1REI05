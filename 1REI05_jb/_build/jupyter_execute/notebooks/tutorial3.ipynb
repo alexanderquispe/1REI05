{
 "cells": [
  {
   "cell_type": "code",
   "execution_count": 1,
   "id": "11336223",
   "metadata": {},
   "outputs": [],
   "source": [
    "# %matplotlib widget\n",
    "%matplotlib inline\n",
    "import ipywidgets as widgets\n",
    "import matplotlib.pyplot as plt\n",
    "import numpy as np\n",
    "import sympy as sy\n",
    "import pandas as pd\n",
    "# from causalgraphicalmodels import CausalGraphicalModel\n",
    "import warnings\n",
    "warnings.filterwarnings('ignore')"
   ]
  },
  {
   "cell_type": "markdown",
   "id": "68765d25",
   "metadata": {},
   "source": [
    "## 2. La curva IS (Inversión-Ahorro)"
   ]
  },
  {
   "cell_type": "markdown",
   "id": "df5cd31b",
   "metadata": {},
   "source": [
    "### 2.1. Derivación de la curva IS"
   ]
  },
  {
   "cell_type": "markdown",
   "id": "1ff077a5",
   "metadata": {},
   "source": [
    "La curva IS se deriva de la igualdad entre el ingreso $(Y)$ y la demanda agregada $(DA)$:\n",
    "\n",
    "$$ Y = C + I + G + X - M $$\n"
   ]
  },
  {
   "cell_type": "markdown",
   "id": "1608c4c8",
   "metadata": {},
   "source": [
    "Considerando que: \n",
    "\n",
    "$$ C = C_0 + bY^d $$\n",
    "\n",
    "$$ I = I_0 - hr $$\n",
    "\n",
    "$$ G = G_0 $$\n",
    "\n",
    "$$ T = tY $$\n",
    "\n",
    "$$ X = X_0 $$\n",
    "\n",
    "$$ M = mY^d $$"
   ]
  },
  {
   "cell_type": "markdown",
   "id": "6eab21f8",
   "metadata": {},
   "source": [
    "Para llegar al equilibrio Ahorro-Inversión, debemos restar la tributación $(T)$ de ambos miembros de la igualdad.\n",
    "\n",
    "$$ Y - T = C + I - T + G + X - M $$\n",
    "\n",
    "$$ Y^d = C + I - T + G + X - M $$"
   ]
  },
  {
   "cell_type": "markdown",
   "id": "b71918ec",
   "metadata": {},
   "source": [
    "Esta igualdad se puede reescribir de la siguiente forma:\n",
    "\n",
    "$$ (Y^d - C) + (T - G) + (M - X) = I $$"
   ]
  },
  {
   "cell_type": "markdown",
   "id": "3fd40fb3",
   "metadata": {},
   "source": [
    "Las tres partes de la derecha constituyen los tres componentes del ahorro total $ (S) $: ahorro privado $ (S_p) $, ahorro del gobierno $ (S_g) $ y ahorro externo $ (S_e) $:\n",
    "\n",
    "$$ S = S_p + S_g + S_e $$\n"
   ]
  },
  {
   "cell_type": "markdown",
   "id": "7fba9888",
   "metadata": {},
   "source": [
    "Entonces, el ahorro total es igual a la inversión\n",
    "\n",
    "$$ S_p + S_g + S_e = I $$\n",
    "\n",
    "$$ S(Y) = I(r) $$"
   ]
  },
  {
   "cell_type": "markdown",
   "id": "4606c2f3",
   "metadata": {},
   "source": [
    "Haciendo reemplazos se obtiene que:\n",
    "\n",
    "$$ S_p + S_g + S_e = I_0 - hr $$\n",
    "\n",
    "$$ (Y^d - C_0 - bY^d) + (T - G_0) + (mY^d - X_0) = I_0 - hr $$"
   ]
  },
  {
   "cell_type": "markdown",
   "id": "91a9c2b7",
   "metadata": {},
   "source": [
    "Considerando las observaciones anteriores sobre los componentes de la condición de equilibrio $(Y)$:\n",
    "\n",
    "$$ [1 - (b - m)(1 - t)]Y - (C_0 + G_0 + X_0) = I_0 - hr $$"
   ]
  },
  {
   "cell_type": "markdown",
   "id": "edd51d43",
   "metadata": {},
   "source": [
    "La curva IS se puede expresar con una ecuación donde la tasa de interés es una función del ingreso:\n",
    "\n",
    "$$ hr = (C_0 + G_0 + I_0 + X_0) - (1 - (b - m)(1 - t))Y $$\n",
    "\n",
    "$$ r = \\frac{1}{h}(C_0 + G_0 + I_0 + X_0) - \\frac{1 - (b - m)(1 - t)}{h}Y $$"
   ]
  },
  {
   "cell_type": "markdown",
   "id": "3a84309d",
   "metadata": {},
   "source": [
    "Y puede simplificarse en:\n",
    "\n",
    "$$ r = \\frac{B_0}{h} - \\frac{B_1}{h}Y $$\n",
    "\n",
    "Donde $ B_0 = C_0 + G_0 + I_0 + X_0  $ es el intercepto y $  B_1 = 1 - (b - m)(1 - t) $ es la pendiente."
   ]
  },
  {
   "cell_type": "markdown",
   "id": "428dd716",
   "metadata": {},
   "source": [
    "Y la curva IS se grafica de la siguiente manera:"
   ]
  },
  {
   "cell_type": "code",
   "execution_count": 2,
   "id": "ae972723",
   "metadata": {},
   "outputs": [],
   "source": [
    "# Parámetros\n",
    "\n",
    "Y_size = 100 \n",
    "\n",
    "Co = 35\n",
    "Io = 40\n",
    "Go = 70\n",
    "Xo = 2\n",
    "h = 0.7\n",
    "b = 0.8\n",
    "m = 0.2\n",
    "t = 0.3\n",
    "\n",
    "Y = np.arange(Y_size)\n",
    "\n",
    "\n",
    "# Ecuación \n",
    "def r_IS(b, m, t, Co, Io, Go, Xo, h, Y):\n",
    "    r_IS = (Co + Io + Go + Xo - Y * (1-(b-m)*(1-t)))/h\n",
    "    return r_IS\n",
    "\n",
    "r = r_IS(b, m, t, Co, Io, Go, Xo, h, Y)"
   ]
  },
  {
   "cell_type": "code",
   "execution_count": 3,
   "id": "37d2a8e1",
   "metadata": {},
   "outputs": [
    {
     "data": {
      "image/png": "[encoded data removed]",
      "text/plain": [
       "<Figure size 720x576 with 1 Axes>"
      ]
     },
     "metadata": {
      "filenames": {
       "image/png": "C:\\Users\\sandr\\Dropbox\\PUCP\\1REI05\\1REI05_jb\\_build\\jupyter_execute\\notebooks\\tutorial3_15_0.png"
      }
     },
     "output_type": "display_data"
    }
   ],
   "source": [
    "# Gráfico de la curva IS\n",
    "\n",
    "# Dimensiones del gráfico\n",
    "y_max = np.max(r)\n",
    "fig, ax = plt.subplots(figsize=(10, 8))\n",
    "\n",
    "# Curvas a graficar\n",
    "ax.plot(Y, r, label = \"IS\", color = \"#8B0A50\") #Demanda agregada\n",
    "\n",
    "# Eliminar las cantidades de los ejes\n",
    "ax.yaxis.set_major_locator(plt.NullLocator())   \n",
    "ax.xaxis.set_major_locator(plt.NullLocator())\n",
    "\n",
    "# Título, ejes y leyenda\n",
    "ax.set(title = \"Curva IS\", xlabel= 'Y', ylabel= 'r')\n",
    "ax.legend()\n",
    "\n",
    "plt.show()\n"
   ]
  },
  {
   "cell_type": "markdown",
   "id": "4cef3dd0",
   "metadata": {},
   "source": [
    "### 2.2. Derivación de la curva IS a partir de la Demanda Agregada"
   ]
  },
  {
   "cell_type": "markdown",
   "id": "daf8ed96",
   "metadata": {},
   "source": [
    "Recordemos la ecuación del ingreso de equilibrio a corto plazo que fue obtenida a partir del equilibrio $(Y = DA)$:\n",
    "\n",
    "$$ Y = \\frac{1}{1 - (b - m)(1 - t)} (C_0 + I_0 + G_0 + X_0 - hr) $$"
   ]
  },
  {
   "cell_type": "markdown",
   "id": "26d1f7b7",
   "metadata": {},
   "source": [
    "Esta ecuación, después de algunas operaciones, puede expresarse en función de la tasa de interés $(r)$:\n",
    "\n",
    "$$ r = \\frac{1}{h}(C_0 + G_0 + I_0 + X_0) - \\frac{1 - (b - m)(1 - t)}{h}Y $$"
   ]
  },
  {
   "cell_type": "markdown",
   "id": "77ba4e79",
   "metadata": {},
   "source": [
    "Entonces, la curva IS puede ser simplificada de la siguiente manera:\n",
    "\n",
    "$$ r = \\frac{B_0}{h} - \\frac{B_1}{h}Y $$\n",
    "\n",
    "Donde $ B_0 = C_0 + G_0 + I_0 + X_0  $ y $  B_1 = 1 - (b - m)(1 - t) $"
   ]
  },
  {
   "cell_type": "markdown",
   "id": "56f896e7",
   "metadata": {},
   "source": [
    "Para la derivación gráfica, se tiene que recordar la ecuación de la Demanda Agregada $(DA)$:"
   ]
  },
  {
   "cell_type": "markdown",
   "id": "e3f0edb7",
   "metadata": {},
   "source": [
    "- **Demanda Agregada**:"
   ]
  },
  {
   "cell_type": "code",
   "execution_count": 4,
   "id": "146f5aeb",
   "metadata": {},
   "outputs": [],
   "source": [
    "# Parámetros\n",
    "\n",
    "Y_size = 100 \n",
    "\n",
    "Co = 35\n",
    "Io = 40\n",
    "Go = 70\n",
    "Xo = 2\n",
    "h = 0.7\n",
    "b = 0.8\n",
    "m = 0.2\n",
    "t = 0.3\n",
    "r = 0.9\n",
    "\n",
    "Y = np.arange(Y_size)\n",
    "\n",
    "# Ecuación de la curva del ingreso de equilibrio\n",
    "\n",
    "def DA_K(Co, Io, Go, Xo, h, r, b, m, t, Y):\n",
    "    DA_K = (Co + Io + Go + Xo - h*r) + ((b - m)*(1 - t)*Y)\n",
    "    return DA_K\n",
    "\n",
    "DA_IS_K = DA_K(Co, Io, Go, Xo, h, r, b, m, t, Y)\n",
    "\n",
    "#--------------------------------------------------\n",
    "# Recta de 45°\n",
    "\n",
    "a = 2.5 \n",
    "\n",
    "def L_45(a, Y):\n",
    "    L_45 = a*Y\n",
    "    return L_45\n",
    "\n",
    "L_45 = L_45(a, Y)\n",
    "\n",
    "#--------------------------------------------------\n",
    "# Segunda curva de ingreso de equilibrio\n",
    "\n",
    "    # Definir cualquier parámetro autónomo\n",
    "Go = 35\n",
    "\n",
    "# Generar la ecuación con el nuevo parámetro\n",
    "def DA_K(Co, Io, Go, Xo, h, r, b, m, t, Y):\n",
    "    DA_K = (Co + Io + Go + Xo - h*r) + ((b - m)*(1 - t)*Y)\n",
    "    return DA_K\n",
    "\n",
    "DA_G = DA_K(Co, Io, Go, Xo, h, r, b, m, t, Y)\n"
   ]
  },
  {
   "cell_type": "markdown",
   "id": "69b217a9",
   "metadata": {},
   "source": [
    "**- Curva IS**:"
   ]
  },
  {
   "cell_type": "code",
   "execution_count": 5,
   "id": "4447eff9",
   "metadata": {},
   "outputs": [],
   "source": [
    "# Parámetros\n",
    "\n",
    "Y_size = 100 \n",
    "\n",
    "Co = 35\n",
    "Io = 40\n",
    "Go = 70\n",
    "Xo = 2\n",
    "h = 0.7\n",
    "b = 0.8\n",
    "m = 0.2\n",
    "t = 0.3\n",
    "\n",
    "Y = np.arange(Y_size)\n",
    "\n",
    "\n",
    "# Ecuación \n",
    "def r_IS(b, m, t, Co, Io, Go, Xo, h, Y):\n",
    "    r_IS = (Co + Io + Go + Xo - Y * (1-(b-m)*(1-t)))/h\n",
    "    return r_IS\n",
    "\n",
    "r = r_IS(b, m, t, Co, Io, Go, Xo, h, Y)"
   ]
  },
  {
   "cell_type": "code",
   "execution_count": 6,
   "id": "d1ae7d14",
   "metadata": {},
   "outputs": [
    {
     "data": {
      "image/png": "[encoded data removed]",
      "text/plain": [
       "<Figure size 576x1152 with 2 Axes>"
      ]
     },
     "metadata": {
      "filenames": {
       "image/png": "C:\\Users\\sandr\\Dropbox\\PUCP\\1REI05\\1REI05_jb\\_build\\jupyter_execute\\notebooks\\tutorial3_25_0.png"
      }
     },
     "output_type": "display_data"
    }
   ],
   "source": [
    "# Gráfico de la derivación de la curva IS a partir de la igualdad (DA = Y)\n",
    "\n",
    "    # Dos gráficos en un solo cuadro (ax1 para el primero y ax2 para el segundo)\n",
    "fig, (ax1, ax2) = plt.subplots(2, figsize=(8, 16)) \n",
    "\n",
    "#---------------------------------\n",
    "    # Gráfico 1: ingreso de Equilibrio\n",
    "ax1.yaxis.set_major_locator(plt.NullLocator())   \n",
    "ax1.xaxis.set_major_locator(plt.NullLocator())\n",
    "\n",
    "ax1.plot(Y, DA_IS_K, label = \"DA_0\", color = \"C0\") \n",
    "ax1.plot(Y, DA_G, label = \"DA_1\", color = \"C0\") \n",
    "ax1.plot(Y, L_45, color = \"#404040\") \n",
    "\n",
    "ax1.axvline(x = 70.5, ymin= 0, ymax = 0.69, linestyle = \":\", color = \"grey\")\n",
    "ax1.axvline(x = 54,  ymin= 0, ymax = 0.54, linestyle = \":\", color = \"grey\")\n",
    "\n",
    "ax1.text(6, 4, '$45°$', fontsize = 11.5, color = 'black')\n",
    "ax1.text(2.5, -3, '$◝$', fontsize = 30, color = 'black')\n",
    "ax1.text(72, 0, '$Y_0$', fontsize = 12, color = 'black')\n",
    "ax1.text(56, 0, '$Y_1$', fontsize = 12, color = 'black')\n",
    "ax1.text(67, 185, 'E_0', fontsize = 12, color = 'black')\n",
    "ax1.text(50, 142, 'E_1', fontsize = 12, color = 'black')\n",
    "\n",
    "ax1.set(title = \"Derivación de la curva IS a partir del equilibrio $Y=DA$\", xlabel = r'Y', ylabel = r'DA')\n",
    "ax1.legend()\n",
    "\n",
    "#---------------------------------\n",
    "    # Gráfico 2: Curva IS\n",
    "\n",
    "ax2.yaxis.set_major_locator(plt.NullLocator())   \n",
    "ax2.xaxis.set_major_locator(plt.NullLocator())\n",
    "\n",
    "ax2.plot(Y, r, label = \"IS\", color = \"C1\") \n",
    "\n",
    "ax2.axvline(x = 70.5, ymin= 0, ymax = 1, linestyle = \":\", color = \"grey\")\n",
    "ax2.axvline(x = 54,  ymin= 0, ymax = 1, linestyle = \":\", color = \"grey\")\n",
    "plt.axhline(y = 151.5, xmin= 0, xmax = 0.7, linestyle = \":\", color = \"grey\")\n",
    "plt.axhline(y = 165, xmin= 0, xmax = 0.55, linestyle = \":\", color = \"grey\")\n",
    "\n",
    "ax2.text(72, 128, '$Y_0$', fontsize = 12, color = 'black')\n",
    "ax2.text(56, 128, '$Y_1$', fontsize = 12, color = 'black')\n",
    "ax2.text(1, 153, '$r_0$', fontsize = 12, color = 'black')\n",
    "ax2.text(1, 167, '$r_1$', fontsize = 12, color = 'black')\n",
    "ax2.text(72, 152, 'E_0', fontsize = 12, color = 'black')\n",
    "ax2.text(55, 166, 'E_1', fontsize = 12, color = 'black')\n",
    "\n",
    "ax2.legend()\n",
    "\n",
    "plt.show()"
   ]
  },
  {
   "cell_type": "markdown",
   "id": "cf4919f0",
   "metadata": {},
   "source": [
    "### 2.3. Estática comparativa en la curva IS"
   ]
  },
  {
   "cell_type": "markdown",
   "id": "ebe0aec9",
   "metadata": {},
   "source": [
    "#### 2.3.1. Disminución en el Gasto de Gobierno $(G_0)$:"
   ]
  },
  {
   "cell_type": "code",
   "execution_count": 7,
   "id": "09020fbe",
   "metadata": {},
   "outputs": [],
   "source": [
    "#--------------------------------------------------\n",
    "    # Curva IS ORIGINAL\n",
    "\n",
    "# Parámetros\n",
    "\n",
    "Y_size = 100 \n",
    "\n",
    "Co = 35\n",
    "Io = 40\n",
    "Go = 70\n",
    "Xo = 2\n",
    "h = 0.7\n",
    "b = 0.8\n",
    "m = 0.2\n",
    "t = 0.3\n",
    "\n",
    "Y = np.arange(Y_size)\n",
    "\n",
    "\n",
    "# Ecuación \n",
    "def r_IS(b, m, t, Co, Io, Go, Xo, h, Y):\n",
    "    r_IS = (Co + Io + Go + Xo - Y * (1-(b-m)*(1-t)))/h\n",
    "    return r_IS\n",
    "\n",
    "r = r_IS(b, m, t, Co, Io, Go, Xo, h, Y)\n",
    "\n",
    "\n",
    "#--------------------------------------------------\n",
    "    # NUEVA curva IS\n",
    "    \n",
    "# Definir SOLO el parámetro cambiado\n",
    "Go = 60\n",
    "\n",
    "# Generar la ecuación con el nuevo parámetro\n",
    "def r_IS(b, m, t, Co, Io, Go, Xo, h, Y):\n",
    "    r_IS = (Co + Io + Go + Xo - Y * (1-(b-m)*(1-t)))/h\n",
    "    return r_IS\n",
    "\n",
    "r_G = r_IS(b, m, t, Co, Io, Go, Xo, h, Y)\n"
   ]
  },
  {
   "cell_type": "code",
   "execution_count": 8,
   "id": "b21be21d",
   "metadata": {},
   "outputs": [
    {
     "data": {
      "image/png": "[encoded data removed]",
      "text/plain": [
       "<Figure size 720x576 with 1 Axes>"
      ]
     },
     "metadata": {
      "filenames": {
       "image/png": "C:\\Users\\sandr\\Dropbox\\PUCP\\1REI05\\1REI05_jb\\_build\\jupyter_execute\\notebooks\\tutorial3_29_0.png"
      },
      "needs_background": "light"
     },
     "output_type": "display_data"
    }
   ],
   "source": [
    "    # Gráfico\n",
    "\n",
    "# Dimensiones del gráfico\n",
    "y_max = np.max(r)\n",
    "fig, ax = plt.subplots(figsize=(10, 8))\n",
    "\n",
    "# Curvas a graficar\n",
    "ax.plot(Y, r, label = \"IS\", color = \"black\") #IS orginal\n",
    "ax.plot(Y, r_G, label = \"IS_G\", color = \"C1\", linestyle = 'dashed') #Nueva IS\n",
    "\n",
    "# Texto agregado\n",
    "plt.text(47, 162, '∆Go', fontsize=12, color='black')\n",
    "plt.text(49, 159, '←', fontsize=15, color='grey')\n",
    "\n",
    "# Título, ejes y leyenda\n",
    "ax.set(title = \"Incremento en el Gasto de Gobierno $(G_0)$\", xlabel= 'Y', ylabel= 'r')\n",
    "ax.legend()\n",
    "\n",
    "plt.show()"
   ]
  },
  {
   "cell_type": "code",
   "execution_count": 9,
   "id": "6628cfa3",
   "metadata": {},
   "outputs": [
    {
     "data": {
      "application/vnd.jupyter.widget-view+json": {
       "model_id": "0b71797767184e97909f6a1f482b1c6b",
       "version_major": 2,
       "version_minor": 0
      },
      "text/plain": [
       "interactive(children=(FloatSlider(value=70.0, description='Go', max=110.0), Output()), _dom_classes=('widget-i…"
      ]
     },
     "metadata": {},
     "output_type": "display_data"
    },
    {
     "data": {
      "text/plain": [
       "<function __main__.r_IS_1(Go)>"
      ]
     },
     "execution_count": 9,
     "metadata": {},
     "output_type": "execute_result"
    }
   ],
   "source": [
    "# Gráfico con movimiento\n",
    "\n",
    "# Parámetros\n",
    "\n",
    "Y_size = 100 \n",
    "\n",
    "Co = 35\n",
    "Io = 40\n",
    "Go = 70\n",
    "Xo = 2\n",
    "h = 0.7\n",
    "b = 0.8\n",
    "m = 0.2\n",
    "t = 0.3\n",
    "\n",
    "Y = np.arange(Y_size)\n",
    "\n",
    "def r_IS(b, m, t, Co, Io, Go, Xo, h, Y): # ecuación original\n",
    "    r_IS = (Co + Io + Go + Xo - Y * (1-(b-m)*(1-t)))/h\n",
    "    return r_IS\n",
    "\n",
    "r_G = r_IS(b, m, t, Co, Io, Go, Xo, h, Y)\n",
    "\n",
    "\n",
    "    # Definir ecuación y gráfico para el parámetro específico\n",
    "def r_IS_1(Go):\n",
    "    r_IS_1 = (Co + Io + Go + Xo - Y * (1-(b-m)*(1-t)))/h  \n",
    "    \n",
    "    # gráfico\n",
    "    plt.subplots(figsize=(10, 8))\n",
    "    plt.plot(r_IS_1, label = \"IS\", color = \"C1\") # Curva IS orginal\n",
    "    plt.plot(r_G, label = \"IS_Go\", color = \"black\") # Curva IS con movimiento\n",
    "    plt.title('Gasto de Gobierno')\n",
    "    plt.legend()    \n",
    "    \n",
    "    # crear gráfico con movimiento/control\n",
    "Go_slide = widgets.FloatSlider(value = 70, min = 0, max = 110)  #widgets.FloatSlider(valor_inicial, min, max)\n",
    "widgets.interact(r_IS_1, Go = Go_slide) #widgets.interact(nombre_función, parámetro = parámetro:_con_mov)\n"
   ]
  },
  {
   "cell_type": "markdown",
   "id": "3037c64b",
   "metadata": {},
   "source": [
    "#### 2.3.2. Incremento en la tasa impositiva $(t)$:"
   ]
  },
  {
   "cell_type": "code",
   "execution_count": 10,
   "id": "0af6ac43",
   "metadata": {},
   "outputs": [],
   "source": [
    "#--------------------------------------------------\n",
    "    # Curva IS ORIGINAL\n",
    "\n",
    "# Parámetros\n",
    "\n",
    "Y_size = 100 \n",
    "\n",
    "Co = 35\n",
    "Io = 40\n",
    "Go = 70\n",
    "Xo = 2\n",
    "h = 0.7\n",
    "b = 0.8\n",
    "m = 0.2\n",
    "t = 0.3\n",
    "\n",
    "Y = np.arange(Y_size)\n",
    "\n",
    "\n",
    "# Ecuación \n",
    "def r_IS(b, m, t, Co, Io, Go, Xo, h, Y):\n",
    "    r_IS = (Co + Io + Go + Xo - Y * (1-(b-m)*(1-t)))/h\n",
    "    return r_IS\n",
    "\n",
    "r = r_IS(b, m, t, Co, Io, Go, Xo, h, Y)\n",
    "\n",
    "\n",
    "#--------------------------------------------------\n",
    "    # NUEVA curva IS\n",
    "    \n",
    "# Definir SOLO el parámetro cambiado\n",
    "t = 0.7\n",
    "\n",
    "# Generar la ecuación con el nuevo parámetro\n",
    "def r_IS(b, m, t, Co, Io, Go, Xo, h, Y):\n",
    "    r_IS = (Co + Io + Go + Xo - Y * (1-(b-m)*(1-t)))/h\n",
    "    return r_IS\n",
    "\n",
    "r_t = r_IS(b, m, t, Co, Io, Go, Xo, h, Y)\n"
   ]
  },
  {
   "cell_type": "code",
   "execution_count": 11,
   "id": "3df39f20",
   "metadata": {},
   "outputs": [
    {
     "data": {
      "image/png": "[encoded data removed]",
      "text/plain": [
       "<Figure size 720x576 with 1 Axes>"
      ]
     },
     "metadata": {
      "filenames": {
       "image/png": "C:\\Users\\sandr\\Dropbox\\PUCP\\1REI05\\1REI05_jb\\_build\\jupyter_execute\\notebooks\\tutorial3_33_0.png"
      },
      "needs_background": "light"
     },
     "output_type": "display_data"
    }
   ],
   "source": [
    "    # Gráfico\n",
    "\n",
    "# Dimensiones del gráfico\n",
    "y_max = np.max(r)\n",
    "fig, ax = plt.subplots(figsize=(10, 8))\n",
    "\n",
    "# Curvas a graficar\n",
    "ax.plot(Y, r, label = \"IS\", color = \"black\") #IS orginal\n",
    "ax.plot(Y, r_t, label = \"IS_t\", color = \"C1\", linestyle = 'dashed') #Nueva IS\n",
    "\n",
    "# Texto agregado\n",
    "plt.text(47, 162, '∆t', fontsize=12, color='black')\n",
    "plt.text(47, 158, '←', fontsize=15, color='grey')\n",
    "\n",
    "# Título, ejes y leyenda\n",
    "ax.set(title = \"Incremento en la Tasa de Interés $(t)$\", xlabel= 'Y', ylabel= 'r')\n",
    "ax.legend()\n",
    "\n",
    "plt.show()"
   ]
  },
  {
   "cell_type": "code",
   "execution_count": 12,
   "id": "171984dd",
   "metadata": {},
   "outputs": [
    {
     "data": {
      "application/vnd.jupyter.widget-view+json": {
       "model_id": "edd5b99e3c8a44d6827496f37e865009",
       "version_major": 2,
       "version_minor": 0
      },
      "text/plain": [
       "interactive(children=(FloatSlider(value=0.3, description='t', max=1.0), Output()), _dom_classes=('widget-inter…"
      ]
     },
     "metadata": {},
     "output_type": "display_data"
    },
    {
     "data": {
      "text/plain": [
       "<function __main__.r_IS_1(t)>"
      ]
     },
     "execution_count": 12,
     "metadata": {},
     "output_type": "execute_result"
    }
   ],
   "source": [
    "# Gráfico con movimiento\n",
    "\n",
    "# Parámetros\n",
    "\n",
    "Y_size = 100 \n",
    "\n",
    "Co = 35\n",
    "Io = 40\n",
    "Go = 70\n",
    "Xo = 2\n",
    "h = 0.7\n",
    "b = 0.8\n",
    "m = 0.2\n",
    "t = 0.3\n",
    "\n",
    "Y = np.arange(Y_size)\n",
    "\n",
    "def r_IS(b, m, t, Co, Io, Go, Xo, h, Y): # ecuación original\n",
    "    r_IS = (Co + Io + Go + Xo - Y * (1-(b-m)*(1-t)))/h\n",
    "    return r_IS\n",
    "\n",
    "r_t = r_IS(b, m, t, Co, Io, Go, Xo, h, Y)\n",
    "\n",
    "    # Definir ecuación y gráfico para el parámetro específico\n",
    "def r_IS_1(t):\n",
    "    r_IS_1 = (Co + Io + Go + Xo - Y * (1-(b-m)*(1-t)))/h  \n",
    "    \n",
    "    # gráfico\n",
    "    plt.subplots(figsize=(10, 8))\n",
    "    plt.plot(r_IS_1, label = \"IS\", color = \"C1\") # Curva IS orginal\n",
    "    plt.plot(r_t, label = \"IS_t\", color = \"black\") # Curva IS con movimiento\n",
    "    plt.title('Tasa de Interés $(t)$')\n",
    "    plt.legend()    \n",
    "    \n",
    "    # crear gráfico con movimiento/control\n",
    "t_slide = widgets.FloatSlider(value = 0.3, min = 0, max = 1)  #widgets.FloatSlider(valor_inicial, min, max)\n",
    "widgets.interact(r_IS_1, t = t_slide) #widgets.interact(nombre_función, parámetro = parámetro:_con_mov)\n"
   ]
  }
 ],
 "metadata": {
  "kernelspec": {
   "display_name": "Python 3 (ipykernel)",
   "language": "python",
   "name": "python3"
  },
  "language_info": {
   "codemirror_mode": {
    "name": "ipython",
    "version": 3
   },
   "file_extension": ".py",
   "mimetype": "text/x-python",
   "name": "python",
   "nbconvert_exporter": "python",
   "pygments_lexer": "ipython3",
   "version": "3.7.11"
  },
  "widgets": {
   "application/vnd.jupyter.widget-state+json": {
    "state": {
     "031bded6352f4ff6aaf03c374a1a3519": {
      "model_module": "@jupyter-widgets/controls",
      "model_module_version": "1.5.0",
      "model_name": "FloatSliderModel",
      "state": {
       "_dom_classes": [],
       "_model_module": "@jupyter-widgets/controls",
       "_model_module_version": "1.5.0",
       "_model_name": "FloatSliderModel",
       "_view_count": null,
       "_view_module": "@jupyter-widgets/controls",
       "_view_module_version": "1.5.0",
       "_view_name": "FloatSliderView",
       "continuous_update": true,
       "description": "t",
       "description_tooltip": null,
       "disabled": false,
       "layout": "IPY_MODEL_34ca0afa996b41a39c5a9908e30de9e5",
       "max": 1.0,
       "min": 0.0,
       "orientation": "horizontal",
       "readout": true,
       "readout_format": ".2f",
       "step": 0.1,
       "style": "IPY_MODEL_65ccc658a743402fa0a27ccbc8a7e624",
       "value": 0.3
      }
     },
     "0b71797767184e97909f6a1f482b1c6b": {
      "model_module": "@jupyter-widgets/controls",
      "model_module_version": "1.5.0",
      "model_name": "VBoxModel",
      "state": {
       "_dom_classes": [
        "widget-interact"
       ],
       "_model_module": "@jupyter-widgets/controls",
       "_model_module_version": "1.5.0",
       "_model_name": "VBoxModel",
       "_view_count": null,
       "_view_module": "@jupyter-widgets/controls",
       "_view_module_version": "1.5.0",
       "_view_name": "VBoxView",
       "box_style": "",
       "children": [
        "IPY_MODEL_48e6e3c4a4d746fcbc0a8b73b61d9c1c",
        "IPY_MODEL_2114023b5661417693e3fee721632641"
       ],
       "layout": "IPY_MODEL_69570c56b1844e9c8b27aa1b9ef844d4"
      }
     },
     "2114023b5661417693e3fee721632641": {
      "model_module": "@jupyter-widgets/output",
      "model_module_version": "1.0.0",
      "model_name": "OutputModel",
      "state": {
       "_dom_classes": [],
       "_model_module": "@jupyter-widgets/output",
       "_model_module_version": "1.0.0",
       "_model_name": "OutputModel",
       "_view_count": null,
       "_view_module": "@jupyter-widgets/output",
       "_view_module_version": "1.0.0",
       "_view_name": "OutputView",
       "layout": "IPY_MODEL_3a082e818f3c4da6a738370b499a64f8",
       "msg_id": "",
       "outputs": [
        {
         "data": {
          "image/png": "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\n",
          "text/plain": "<Figure size 720x576 with 1 Axes>"
         },
         "metadata": {
          "needs_background": "light"
         },
         "output_type": "display_data"
        }
       ]
      }
     },
     "34ca0afa996b41a39c5a9908e30de9e5": {
      "model_module": "@jupyter-widgets/base",
      "model_module_version": "1.2.0",
      "model_name": "LayoutModel",
      "state": {
       "_model_module": "@jupyter-widgets/base",
       "_model_module_version": "1.2.0",
       "_model_name": "LayoutModel",
       "_view_count": null,
       "_view_module": "@jupyter-widgets/base",
       "_view_module_version": "1.2.0",
       "_view_name": "LayoutView",
       "align_content": null,
       "align_items": null,
       "align_self": null,
       "border": null,
       "bottom": null,
       "display": null,
       "flex": null,
       "flex_flow": null,
       "grid_area": null,
       "grid_auto_columns": null,
       "grid_auto_flow": null,
       "grid_auto_rows": null,
       "grid_column": null,
       "grid_gap": null,
       "grid_row": null,
       "grid_template_areas": null,
       "grid_template_columns": null,
       "grid_template_rows": null,
       "height": null,
       "justify_content": null,
       "justify_items": null,
       "left": null,
       "margin": null,
       "max_height": null,
       "max_width": null,
       "min_height": null,
       "min_width": null,
       "object_fit": null,
       "object_position": null,
       "order": null,
       "overflow": null,
       "overflow_x": null,
       "overflow_y": null,
       "padding": null,
       "right": null,
       "top": null,
       "visibility": null,
       "width": null
      }
     },
     "3a082e818f3c4da6a738370b499a64f8": {
      "model_module": "@jupyter-widgets/base",
      "model_module_version": "1.2.0",
      "model_name": "LayoutModel",
      "state": {
       "_model_module": "@jupyter-widgets/base",
       "_model_module_version": "1.2.0",
       "_model_name": "LayoutModel",
       "_view_count": null,
       "_view_module": "@jupyter-widgets/base",
       "_view_module_version": "1.2.0",
       "_view_name": "LayoutView",
       "align_content": null,
       "align_items": null,
       "align_self": null,
       "border": null,
       "bottom": null,
       "display": null,
       "flex": null,
       "flex_flow": null,
       "grid_area": null,
       "grid_auto_columns": null,
       "grid_auto_flow": null,
       "grid_auto_rows": null,
       "grid_column": null,
       "grid_gap": null,
       "grid_row": null,
       "grid_template_areas": null,
       "grid_template_columns": null,
       "grid_template_rows": null,
       "height": null,
       "justify_content": null,
       "justify_items": null,
       "left": null,
       "margin": null,
       "max_height": null,
       "max_width": null,
       "min_height": null,
       "min_width": null,
       "object_fit": null,
       "object_position": null,
       "order": null,
       "overflow": null,
       "overflow_x": null,
       "overflow_y": null,
       "padding": null,
       "right": null,
       "top": null,
       "visibility": null,
       "width": null
      }
     },
     "48e6e3c4a4d746fcbc0a8b73b61d9c1c": {
      "model_module": "@jupyter-widgets/controls",
      "model_module_version": "1.5.0",
      "model_name": "FloatSliderModel",
      "state": {
       "_dom_classes": [],
       "_model_module": "@jupyter-widgets/controls",
       "_model_module_version": "1.5.0",
       "_model_name": "FloatSliderModel",
       "_view_count": null,
       "_view_module": "@jupyter-widgets/controls",
       "_view_module_version": "1.5.0",
       "_view_name": "FloatSliderView",
       "continuous_update": true,
       "description": "Go",
       "description_tooltip": null,
       "disabled": false,
       "layout": "IPY_MODEL_ba160e5f0c4b49fba789b450e9712dfe",
       "max": 110.0,
       "min": 0.0,
       "orientation": "horizontal",
       "readout": true,
       "readout_format": ".2f",
       "step": 0.1,
       "style": "IPY_MODEL_d61b43db72e74346bc1c28dfed4b3ad1",
       "value": 70.0
      }
     },
     "65ccc658a743402fa0a27ccbc8a7e624": {
      "model_module": "@jupyter-widgets/controls",
      "model_module_version": "1.5.0",
      "model_name": "SliderStyleModel",
      "state": {
       "_model_module": "@jupyter-widgets/controls",
       "_model_module_version": "1.5.0",
       "_model_name": "SliderStyleModel",
       "_view_count": null,
       "_view_module": "@jupyter-widgets/base",
       "_view_module_version": "1.2.0",
       "_view_name": "StyleView",
       "description_width": "",
       "handle_color": null
      }
     },
     "69570c56b1844e9c8b27aa1b9ef844d4": {
      "model_module": "@jupyter-widgets/base",
      "model_module_version": "1.2.0",
      "model_name": "LayoutModel",
      "state": {
       "_model_module": "@jupyter-widgets/base",
       "_model_module_version": "1.2.0",
       "_model_name": "LayoutModel",
       "_view_count": null,
       "_view_module": "@jupyter-widgets/base",
       "_view_module_version": "1.2.0",
       "_view_name": "LayoutView",
       "align_content": null,
       "align_items": null,
       "align_self": null,
       "border": null,
       "bottom": null,
       "display": null,
       "flex": null,
       "flex_flow": null,
       "grid_area": null,
       "grid_auto_columns": null,
       "grid_auto_flow": null,
       "grid_auto_rows": null,
       "grid_column": null,
       "grid_gap": null,
       "grid_row": null,
       "grid_template_areas": null,
       "grid_template_columns": null,
       "grid_template_rows": null,
       "height": null,
       "justify_content": null,
       "justify_items": null,
       "left": null,
       "margin": null,
       "max_height": null,
       "max_width": null,
       "min_height": null,
       "min_width": null,
       "object_fit": null,
       "object_position": null,
       "order": null,
       "overflow": null,
       "overflow_x": null,
       "overflow_y": null,
       "padding": null,
       "right": null,
       "top": null,
       "visibility": null,
       "width": null
      }
     },
     "af4c54a129c44b36a9bf9e23b8129fba": {
      "model_module": "@jupyter-widgets/base",
      "model_module_version": "1.2.0",
      "model_name": "LayoutModel",
      "state": {
       "_model_module": "@jupyter-widgets/base",
       "_model_module_version": "1.2.0",
       "_model_name": "LayoutModel",
       "_view_count": null,
       "_view_module": "@jupyter-widgets/base",
       "_view_module_version": "1.2.0",
       "_view_name": "LayoutView",
       "align_content": null,
       "align_items": null,
       "align_self": null,
       "border": null,
       "bottom": null,
       "display": null,
       "flex": null,
       "flex_flow": null,
       "grid_area": null,
       "grid_auto_columns": null,
       "grid_auto_flow": null,
       "grid_auto_rows": null,
       "grid_column": null,
       "grid_gap": null,
       "grid_row": null,
       "grid_template_areas": null,
       "grid_template_columns": null,
       "grid_template_rows": null,
       "height": null,
       "justify_content": null,
       "justify_items": null,
       "left": null,
       "margin": null,
       "max_height": null,
       "max_width": null,
       "min_height": null,
       "min_width": null,
       "object_fit": null,
       "object_position": null,
       "order": null,
       "overflow": null,
       "overflow_x": null,
       "overflow_y": null,
       "padding": null,
       "right": null,
       "top": null,
       "visibility": null,
       "width": null
      }
     },
     "ba160e5f0c4b49fba789b450e9712dfe": {
      "model_module": "@jupyter-widgets/base",
      "model_module_version": "1.2.0",
      "model_name": "LayoutModel",
      "state": {
       "_model_module": "@jupyter-widgets/base",
       "_model_module_version": "1.2.0",
       "_model_name": "LayoutModel",
       "_view_count": null,
       "_view_module": "@jupyter-widgets/base",
       "_view_module_version": "1.2.0",
       "_view_name": "LayoutView",
       "align_content": null,
       "align_items": null,
       "align_self": null,
       "border": null,
       "bottom": null,
       "display": null,
       "flex": null,
       "flex_flow": null,
       "grid_area": null,
       "grid_auto_columns": null,
       "grid_auto_flow": null,
       "grid_auto_rows": null,
       "grid_column": null,
       "grid_gap": null,
       "grid_row": null,
       "grid_template_areas": null,
       "grid_template_columns": null,
       "grid_template_rows": null,
       "height": null,
       "justify_content": null,
       "justify_items": null,
       "left": null,
       "margin": null,
       "max_height": null,
       "max_width": null,
       "min_height": null,
       "min_width": null,
       "object_fit": null,
       "object_position": null,
       "order": null,
       "overflow": null,
       "overflow_x": null,
       "overflow_y": null,
       "padding": null,
       "right": null,
       "top": null,
       "visibility": null,
       "width": null
      }
     },
     "c3f26c2feae140bb95837d51fbb7cd0d": {
      "model_module": "@jupyter-widgets/base",
      "model_module_version": "1.2.0",
      "model_name": "LayoutModel",
      "state": {
       "_model_module": "@jupyter-widgets/base",
       "_model_module_version": "1.2.0",
       "_model_name": "LayoutModel",
       "_view_count": null,
       "_view_module": "@jupyter-widgets/base",
       "_view_module_version": "1.2.0",
       "_view_name": "LayoutView",
       "align_content": null,
       "align_items": null,
       "align_self": null,
       "border": null,
       "bottom": null,
       "display": null,
       "flex": null,
       "flex_flow": null,
       "grid_area": null,
       "grid_auto_columns": null,
       "grid_auto_flow": null,
       "grid_auto_rows": null,
       "grid_column": null,
       "grid_gap": null,
       "grid_row": null,
       "grid_template_areas": null,
       "grid_template_columns": null,
       "grid_template_rows": null,
       "height": null,
       "justify_content": null,
       "justify_items": null,
       "left": null,
       "margin": null,
       "max_height": null,
       "max_width": null,
       "min_height": null,
       "min_width": null,
       "object_fit": null,
       "object_position": null,
       "order": null,
       "overflow": null,
       "overflow_x": null,
       "overflow_y": null,
       "padding": null,
       "right": null,
       "top": null,
       "visibility": null,
       "width": null
      }
     },
     "d61b43db72e74346bc1c28dfed4b3ad1": {
      "model_module": "@jupyter-widgets/controls",
      "model_module_version": "1.5.0",
      "model_name": "SliderStyleModel",
      "state": {
       "_model_module": "@jupyter-widgets/controls",
       "_model_module_version": "1.5.0",
       "_model_name": "SliderStyleModel",
       "_view_count": null,
       "_view_module": "@jupyter-widgets/base",
       "_view_module_version": "1.2.0",
       "_view_name": "StyleView",
       "description_width": "",
       "handle_color": null
      }
     },
     "e21e160555724abd97370a02a4dc5a44": {
      "model_module": "@jupyter-widgets/output",
      "model_module_version": "1.0.0",
      "model_name": "OutputModel",
      "state": {
       "_dom_classes": [],
       "_model_module": "@jupyter-widgets/output",
       "_model_module_version": "1.0.0",
       "_model_name": "OutputModel",
       "_view_count": null,
       "_view_module": "@jupyter-widgets/output",
       "_view_module_version": "1.0.0",
       "_view_name": "OutputView",
       "layout": "IPY_MODEL_af4c54a129c44b36a9bf9e23b8129fba",
       "msg_id": "",
       "outputs": [
        {
         "data": {
          "image/png": "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\n",
          "text/plain": "<Figure size 720x576 with 1 Axes>"
         },
         "metadata": {
          "needs_background": "light"
         },
         "output_type": "display_data"
        }
       ]
      }
     },
     "edd5b99e3c8a44d6827496f37e865009": {
      "model_module": "@jupyter-widgets/controls",
      "model_module_version": "1.5.0",
      "model_name": "VBoxModel",
      "state": {
       "_dom_classes": [
        "widget-interact"
       ],
       "_model_module": "@jupyter-widgets/controls",
       "_model_module_version": "1.5.0",
       "_model_name": "VBoxModel",
       "_view_count": null,
       "_view_module": "@jupyter-widgets/controls",
       "_view_module_version": "1.5.0",
       "_view_name": "VBoxView",
       "box_style": "",
       "children": [
        "IPY_MODEL_031bded6352f4ff6aaf03c374a1a3519",
        "IPY_MODEL_e21e160555724abd97370a02a4dc5a44"
       ],
       "layout": "IPY_MODEL_c3f26c2feae140bb95837d51fbb7cd0d"
      }
     }
    },
    "version_major": 2,
    "version_minor": 0
   }
  }
 },
 "nbformat": 4,
 "nbformat_minor": 5
}