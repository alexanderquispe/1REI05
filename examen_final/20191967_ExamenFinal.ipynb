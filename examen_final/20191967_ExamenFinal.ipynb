{
 "cells": [
  {
   "cell_type": "markdown",
   "id": "54db128b",
   "metadata": {},
   "source": [
    "Examen Final\n",
    "\n",
    "Pregunta 1\n",
    "\n",
    "- Indetifique todos los elementos necesarios para implementar un enfoque de IV en este ejemplo.   \n",
    "\n",
    "Para implementar un enfoque variables instrumentales en este caso se debe, en primer lugar, establecer una variable de tratamiento (X), luego la variable de resultados (Y) y, finalmente, una variable instrumental (Z). Para este caso, la variable de tratamiento sería la educación, la variable de resultados sería el ingreso, y la variable instrumental sería el número de horas que la persona utilizó para ver televisión cuando era niño. En segundo lugar, se debe verificar el cumplimiento de los supuestos de validez y relevancia para la variable instrumental. Para el primero, se debe verificar que la variable instrumental esté relacionada a la de tratamiento, para el segundo, se debe cumpli con que el resultado (Y) esté influenciado por el tratamiento y no por variables externas Finalmente la validez sostiene que el instrumento (Z) debe tener propias puertas traseras abiertas, donde el resultado está influenciado por el tratamiento y no por variables externas.\n",
    "\n",
    "- Explique el procedimiento para encontrar el efecto causal en este escenario. Puede utilizar ecuaciones.\n",
    "\n",
    "Para encontrar el efecto causal en este caso, se debe, en primer lugar, determinar el número de horas que la persona utilizó para ver televisión cuando era niño. \n",
    "\n",
    "\n",
    "Pregunta 2\n",
    "\n",
    "- Identifique todos los elementos necesarios para implementar un RDD en este ejemplo.\n",
    "\n",
    "Para implementar un diseño de regresión de discontinuidad en este caso se debe, en primer lugar, establecer una variable “runnin”, la cual nos servirá para determinar si es que cada caso pertenece al grupo de control o al de tratamiento. Para ello, el ejemplo otorga un límite a partir del cual se recibe o no el tratamiento (también llamado “cuttoff”), el cual se trata de haber obtenido un promedio superior durante la secundaria igual a 16. Hasta aquí, se tendría que los postulantes que se encuentren por debajo del límite pasarán a ser el grupo de control, mientras que aquellos que se encuentren por encima del límite pasarán a ser el grupo de tratamiento, en otras palabras, los que recibirán la beca. Por último, se debe establecer el “Bandwidth (h)”, el cual estará determinado en función del grupo de control, el grupo de tratamiento, y el desempeño de los candidatos durante hacia el final del primer semestre de universidad.\n",
    "\n",
    "- Explique el procedimiento para encontrar el efecto causal en este escenario. Puede utilizar ecuaciones.\n",
    "\n",
    "Para encontrar el efecto causal en este ejemplo se debe, en primer lugar, establecer el punto de corte de la variable “running”, para este caso, sería el hecho de tener un promedio superior durante la secundaria igual a 16. Luego, se debe elegir el diseño a seguir. En principio, se descarta el uso de un diseño nítido para un ejemplo que pertenece al ámbito de las ciencias sociales, ya que podría registrarse casos en los que haya solapamiento. De esta manera, se debe optar por un diseño en el que el salto sea mayor a 0 y menor que 1, en otras palabras, el diseño borroso.\n",
    "\n",
    "- ¿El efecto de la política sobre el rendimiento de los estudiantes sería positivo o negativo (solo necesitan usar su intuición)? Argumente si los resultados serian causales o solamente de correlación.\n",
    "\n",
    "En primer lugar, se tiene que el efecto de esta política sobre el rendimiento académico de los postulantes será positivo, pues sirve de incentivo para que los estudiantes capacitados procuren un alto promedio durante la secundaria y el primer semestre universitario. A su vez, la política tendrá un efecto positivo sobre los postulantes que reciben la beca, ya que estos pueden concentrar sus esfuerzos en el ámbito académico, mientras que, en ausencia de esta política, estos estudiantes capacitados tendrían que recurrir al trabajo para cubrir gastos académicos, lo cual afectaría su rendimiento. En segundo lugar, se tiene que los resultados corresponden a una correlación causal entre la obtención de una beca y el rendimiento académico, ya que la primera estará condicionada por una variabilidad aleatoria que coloca a los postulantes por debajo, encima o cerca del límite establecido (tener un promedio superior durante la secundaria igual a 16).\n",
    "\n",
    "\n",
    "Pregunta 4\n",
    "\n",
    "- Lectura: “Who becomes an inventor?”\n",
    "\n",
    "Pregunta de investigación: ¿Qué factores son los que determinan quién se convierte en inventor y los tipos de innovaciones que se persiguen?\n",
    "\n",
    "Limitaciones: El artículo se encuentra limitado en la extensión de su análisis, ya que se centra en la determinación del impacto de las condiciones en las que las personas se desarrollan (sexo, ingresos de los padres, raza, et.) sin desarrollar mayor consideración por el efecto de los programas difundidos por iniciativa pública o privada, los cuales pueden tener también un efecto significativo sobre el hecho de que una persona termine desarrollando innovaciones. En este sentido, Tharpe, Leachman y Saenz (2020) han desarrollado una evaluación sobre las medidas que los Estados podrían llevar a cabo para mejorar la proyección de las personas de convertirse en inventoras. De esta manera, concluyen que los Estados pueden: \"Priorizar el aprendizaje de alta calidad para todos los niños desde el nacimiento hasta la adolescencia [...] Reforzar la seguridad económica de las familias para que más personas puedan buscar la innovación [...] Aprovechar los colegios y universidades para fortalecer y diversificar las redes locales de innovación [...] Fomentar redes profesionales, comunidades y escuelas más diversas [...] Buscar otras políticas que eliminen las barreras para las mujeres, las personas de color y otras personas que con demasiada frecuencia se pasan por alto\" (Tharpe, Leachman y Saenz, 2020). Por último, el artículo tiende a dejar de lado el análisis sobre los factores que determinan los tipos de innovación se persiguen. En este punto, valdría la pena realizar una mayor indagación sobre si el factor género influye sobre el área de innovación que las personas van a llevar a cabo. En otras palabras, analizar si es que existen brechas de género para el desarrollo de innovaciones en materia de ingeniería o ciencia y tecnología.\n",
    "\n",
    "- Lectura “The persistent effects of Peru’s mining mita”\n",
    "\n",
    "Pregunta de investigación: ¿Cuáles son los efectos a largo plazo de la mita en el desarrollo de las regiones en que se aplicó?\n",
    "\n",
    "Dos pasos adicionales: Un paso adicional para complementar esta preguntar sería el análisis de cómo estos efectos económicos generados por instituciones históricas como la mita han repercutido también en la estructura social de las regiones en que fueron aplicadas. A este respecto, autores como Norby M. Andrade (1997) establecen que, en el ande Boliviano, la institución de la mita fue el principio de enormes transformaciones en las bases de la reproducción social de la comunidad indígena. A modo de ejemplo, el autor comenta que uno de los mayores problemas que debían enfrentar los “Capitanes” era el ausentismo de los indios, lo cual los obligaba a invertir recursos en su búsqueda o en la contratación de nuevos indios, pero, sobre todo, este ausentismo afectaba a los indios que se quedaban en la mina, ya que se les imponía más horas y más días de trabajo. Así, se podría ahondar en la pregunta de investigación mediante el análisis del efecto de la mita sobre la composición social de las comunidades indígenas, y de cómo esta ha obligado a muchos indígenas a romper permanente los lazos con su comunidad de origen. Un segundo paso adicional sería la comparación entre los efectos a largo plazo en función del distrito en el que la mita fue aplicada. A este respecto, la literatura consultada hace énfasis en el caso de la mita de Potosí, ya que esta, al contar con las condiciones climáticas más extremas, generaba una alta mortalidad y explotación laboral sobre los trabajadores de la mita. En ese sentido, la respuesta a la pregunta de investigación se puede ver complementada por un análisis comparado entre los distritos en los que la mita generó mayores efectos adversos sobre los trabajadores, a fin de determinar cómo estos se han traducido en la actualidad.\n",
    "\n",
    "~\n",
    "\n",
    "Bibliografía\n",
    "\n",
    "Norby M. (1997). La mita en los andes bolivianos de la provincia colonial de Omasuyos en el siglo XVII. Estudios Latinoamericanos.\n",
    "\n",
    "Tharpe, Leachman & Saenz (2020). Tapping More People’s Capacity to Innovate Can Help States Thrive. Center on Budget and Policy Priorities. https://www.cbpp.org/research/state-budget-and-tax/tapping-more-peoples-capacity-to-innovate-can-help-states-thrive\n",
    "\n"
   ]
  },
  {
   "cell_type": "code",
   "execution_count": null,
   "id": "dd86c458",
   "metadata": {},
   "outputs": [],
   "source": [
    "#Pregunta 5\n",
    "\n",
    "from causalgraphicalmodels import CausalGraphicalModel\n",
    "import os\n",
    "import numpy as np \n",
    "import matplotlib.pyplot as plt\n",
    "import pandas as pd \n",
    "import statsmodels.api as sm \n",
    "import statsmodels.formula.api as smf \n",
    "from itertools import combinations \n",
    "import plotnine as p\n",
    "import statsmodels.api as sm\n",
    "import statsmodels.formula.api as smf\n",
    "import linearmodels.iv.model as lm\n",
    "from linearmodels.iv import IV2SLS\n",
    "from statsmodels.iolib.summary2 import summary_col\n",
    "import seaborn as sns"
   ]
  },
  {
   "cell_type": "code",
   "execution_count": null,
   "id": "ded660fd",
   "metadata": {},
   "outputs": [],
   "source": [
    "# load data\n",
    "\n",
    "import ssl\n",
    "ssl._create_default_https_context = ssl._create_unverified_context\n",
    "\n",
    "def read_data(file): \n",
    "    return pd.read_stata(\"https://raw.github.com/scunning1975/mixtape/master/\" + file)\n",
    "\n",
    "card = read_data(\"card.dta\")\n",
    "card.head()"
   ]
  },
  {
   "cell_type": "code",
   "execution_count": null,
   "id": "9d425925",
   "metadata": {},
   "outputs": [],
   "source": [
    "sns.displot(card, x = \"educ\", col = \"nearc2\")"
   ]
  },
  {
   "cell_type": "code",
   "execution_count": null,
   "id": "9b2a15e1",
   "metadata": {},
   "outputs": [],
   "source": [
    "sns.displot(card, x = \"lwage\", col = \"nearc2\")"
   ]
  },
  {
   "cell_type": "code",
   "execution_count": null,
   "id": "1418724d",
   "metadata": {},
   "outputs": [],
   "source": []
  }
 ],
 "metadata": {
  "kernelspec": {
   "display_name": "Python 3 (ipykernel)",
   "language": "python",
   "name": "python3"
  },
  "language_info": {
   "codemirror_mode": {
    "name": "ipython",
    "version": 3
   },
   "file_extension": ".py",
   "mimetype": "text/x-python",
   "name": "python",
   "nbconvert_exporter": "python",
   "pygments_lexer": "ipython3",
   "version": "3.9.12"
  }
 },
 "nbformat": 4,
 "nbformat_minor": 5
}
