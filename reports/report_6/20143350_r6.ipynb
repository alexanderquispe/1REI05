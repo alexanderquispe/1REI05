{
 "cells": [
  {
   "cell_type": "markdown",
   "id": "771d13ee",
   "metadata": {},
   "source": [
    "# Lectura"
   ]
  },
  {
   "cell_type": "markdown",
   "id": "c3454f32",
   "metadata": {},
   "source": [
    "La pregunta de investigación del artículo es si las comunicaciones dirigidas y personalizadas, que reformulan, pero no aumentan la ayuda financiera, pueden alterar las decisiones relacionadas a la universidad de los estudiantes de ingresos bajos, toda vez que existen grandes brechas entre los estudiantes de alto rendimiento de ingresos bajos y de ingresos altos en cuanto a la matrícula en la universidad y la calidad de las universidades a las que van (sobre todo en las universidades más selectivas), pese a las ventajas significativas y los costos relativamente moderados. "
   ]
  },
  {
   "cell_type": "markdown",
   "id": "86b54e42",
   "metadata": {},
   "source": [
    "El artículo tiene dos fortalezas: la revisión de literatura previa y el uso del ensayo controlado aleatorio.\n",
    "\n",
    "En ese sentido, la primera fortaleza es relevante porque permite tomar en cuenta las conclusiones de otros autores sobre el problema planteado. Por ejemplo, toma en cuenta que de acuerdo a Hoxby y Avery (2012) y Dillon y Smith (2017), el factor clave para explicar las referidas brechas no son las decisiones de admisión, sino la elección del estudiante de aplicar a la universidad. Asimismo, considera que, en base a evidencia empírica, Avery y Kane (2004), Dynarski y Scott-Clayton (2006) y Oreopoulos y Dunn (2013) concluyen que los estudiantes de alto rendimiento de bajos recursos no escogen asistir a las mejores universidades porque no están informados y que brindarles información sobre los costos y beneficios de la universidad podría hacer una diferencia en sus decisiones. Finalmente, explican la perspectiva de la economía conductual para explicar el comportamiento de los estudiantes de alto rendimiento de ingresos a fin de señalar que la mayoría de estudiantes universitarios estudian cerca de sus casas.\n",
    "\n",
    "La segunda fortaleza, el diseño del ensayo, toma en consideración la literatura previa y usa datos relacionados a las universidades en Michigan (categoría de selectividad de Barron, costo promedio anual para estudiantes del Estado, ratio de graduación y salario medio después de asistir). En ese sentido, tomando en cuenta teoría, los autores establecen criterios para seleccionar la población objetivo (estudiantes de alto rendimiento de bajos ingresos en Michigan). Además, los autores son claros para explicar la metodología del ensayo que consiste en aleatorización (la división de la población objetivo en dos grupos), intervención (el envío de cartas personalizadas con información relacionada a las becas y ayudas financieras a los padres y directores de los estudiantes elegidos) y la estrategia empírica (la evaluación de la beca HAIL en la postulación, admisión y la inscripción y la persistencia en la Universidad de Michigan y la división de la población objetivo en subgrupos para analizar la heterogeneidad en el efecto del tratamiento).\n",
    "\n",
    "La debilidad del artículo es que su poder explicativo es limitado y sus conclusiones no son generalizables más allá de la población objetivo, pues si bien sus conclusiones respaldan a la teoría previa, el experimento se llevó a cabo únicamente respecto a los estudiantes de alto rendimiento y bajos recursos en Michigan. Por tanto, sus conclusiones no pueden extrapolarse al Perú ni a otros países o estados de los Estados Unidos diferentes a Michigan. Especialmente, las conclusiones de los autores pierden mucha fuerza fuera de los Estados Unidos, toda vez que aspectos como el sistema universitario y la disponibilidad de becas son temas cualitativos que deben ser tenidos en cuenta al diseñar un ensayo.\n"
   ]
  },
  {
   "cell_type": "markdown",
   "id": "a05f5a84",
   "metadata": {},
   "source": [
    "El artículo hace una contribución toda vez que a través del ensayo controlado aleatorio demuestra empíricamente que los estudiantes de las escuelas tratadas (es decir, aquellas a cuyos estudiantes se les envió cartas) tenían muchas más posibilidades de obtener la admisión y matricularse en la Universidad de Michigan, pues los autores encontraron que la tasa de matriculación de los estudiantes de las escuelas de control era del 12%, mientras que en las escuelas de tratamiento era del 27%. En otras palabras, demuestra que el brindar información mediante las comunicaciones dirigidas y personalizadas, que reformulan, pero no aumentan la ayuda financiera, sí alteran las decisiones relacionadas a la universidad de los estudiantes de ingresos bajos sobre la postulación y matrícula."
   ]
  },
  {
   "cell_type": "markdown",
   "id": "ae5ffcf5",
   "metadata": {},
   "source": [
    "Un siguiente paso para avanzar en la pregunta de investigación es implementar políticas públicas para otorgar información a los estudiantes de alto rendimiento y bajos ingresos y luego evaluar el efecto de esta política en relación a sus postulaciones y matrículas en las universidades (Madrian and Shea 2001; Pallais 2015; Herd and Moynihan 2018; Marx and Turner 2019).\n",
    "\n",
    "Otro paso para avanzar es determinar en qué medida la información de los potenciales gastos reales proyectados durante los años de estudios de los estudiantes de alto rendimiento y bajos ingresos incentiva o no la postulación y matrícula de estos en universidades de prestigio, tomando en cuenta que muchos miembros de las familias de pocos ingresos deben contribuir con la economía familiar y necesitan uno o dos trabajos, tienen mayores responsabilidades familiares porque no pueden contratar personal para el cuidado de los miembros de la familia o los quehaceres, etcétera (Erwin y otros, 2021). Al respecto, si las becas y ayudas económicas son insuficientes, conciliar las demandas de la vida universitaria con los gastos que el estudiante debe cubrir podría resultar problemático y desincentivar la postulación y matrícula a universidades de prestigio.\n",
    "\n",
    "Por último, el ensayo podría ser adaptado al contexto peruano y replicado teniendo en cuenta las particularidades de nuestro sistema de educación superior. Por ejemplo, la mayor empleabilidad de los egresados de las universidades privadas, un número reducido de becas, etc."
   ]
  },
  {
   "cell_type": "markdown",
   "id": "90e1860b",
   "metadata": {},
   "source": [
    "**Referencias**:\n",
    "\n",
    "Erwin, C., Binder, M., Miller, C., & Krause, K. (2021). *Performance-Based Aid, Enhanced Advising, and the Income Gap in College Graduation: Evidence From a Randomized Controlled Trial*. Educational Evaluation and Policy Analysis, 43(1), 134–153.\n",
    "\n",
    "Madrian, B. y Shea, D. (2001). *The Power of suggestion: Inertia in 401(k) participation and\n",
    "savings behavior*. Quarterly Journal of Economics, 116(4), 1149–1187."
   ]
  }
 ],
 "metadata": {
  "kernelspec": {
   "display_name": "Python 3 (ipykernel)",
   "language": "python",
   "name": "python3"
  },
  "language_info": {
   "codemirror_mode": {
    "name": "ipython",
    "version": 3
   },
   "file_extension": ".py",
   "mimetype": "text/x-python",
   "name": "python",
   "nbconvert_exporter": "python",
   "pygments_lexer": "ipython3",
   "version": "3.9.12"
  }
 },
 "nbformat": 4,
 "nbformat_minor": 5
}
