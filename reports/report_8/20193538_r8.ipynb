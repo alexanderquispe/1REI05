{
 "cells": [
  {
   "cell_type": "markdown",
   "id": "023aa7a5",
   "metadata": {},
   "source": [
    "# Reporte 8\n",
    "\n",
    "**MariaJose Murillo**\n",
    "**20193538**\n",
    "\n",
    "## Lectura:\n",
    "\n",
    "El articulo “Los efectos persistentes de la mita minera en el Perú” nos traslada al periodo del virreinato, en donde minas como las de Potosí o las de Huancavelica, las cuales contaban con grandes depósitos de plata y mercurio, eran explotadas por una séptima parte de la población masculina adulta de los pueblos indígenas (lo cual se denominaba mita). No obstante, las autoridades españolas solo exigieron cumplir con la mita a un determinado conjunto de distritos para asi no correr el riesgo de tener excesivos costos administrativos o diezmar a la población, eligiéndolos bajo dos criterios, por un lado, a aquellos distritos mas cercanos a estas minas (para no tener mayores costos de coerción y pago de viajes), y por otro, que estos lugares estén en zonas altas, ya que se tenia la creencia que solo estas personas podían sobrevivir al duro trabajo físico de las minas, las cuales se encontraban a mas de cuatro mil metros de altura. Ante ello, la pregunta de investigación es ¿Cuáles son los impactos de largo plazo de la mita minera instituida por el gobierno español en el Perú en 1573 y abolido en 1812?, además de eso, luego de examinar los estándares de vida contemporáneos, utilizar datos y la aproximación RD, desea profundizar la investigación de los canales de persistencia. Con el fin de responder ambas cuestiones, se plantea la hipótesis de que la presencia de largo plazo de grandes terratenientes en los distritos donde no hubo mita facilito un sistema de tenencia de la tierra estable que alentó la provisión de bienes públicos, sin embargo, estos disfrutaron de títulos mas seguros sobre sus propiedades, aumentando las probabilidades que esos distritos recibieran mayores retornos de la inversión en bienes públicos\n",
    "\n",
    "\n",
    "El articulo presenta múltiples fortalezas como por ejemplo apoyarse en múltiples autores para sustentar su teoría, como por ejemplo a Jacobson y Bustamante para apoyar que en distritos donde hubo la mita se pudieron contra procesos como la confiscación de tierras asi como bandolerismo, asi como tomar los ejemplos mas conocidos en cuanto a minas en Perú, en el caso de la mina de Huancavelica esta es conocida por ser uno de los pilares de la minera colonial, no por producir oro o plata, si no por producir azogue, el cual era necesario para refinar los demás minerales. Otra fortaleza son los demás de los canales de persistencia, siendo el mas sorprendente el del impacto académico en zonas en donde la mita estuvo y desapareció hace mas de 150 años, especialmente en la variable de Alfabetización, demostrando como acciones del pasado pueden repercutir en la actualidad y afectar a la población a pesar que esta no sea la misma y este expuesta a la modernidad y nuevas costumbres.\n",
    "Entre sus debilidades, se puede encontrar la falta de profundización en la Bolivia actual (pudiendo obtener datos de las instituciones bolivianas en vez de establecerlo todo en INEI - MINEDU), especialmente porque la mita abarco ese territorio también por que la mina de Potosí se encuentra allí, pudiendo dinamizar la discusión en estos dos estados en el presente trabajo. Otro punto en donde le falto profundizar es en la relación entre la falta de deseos de los distritos sujetos a la mita en de participar en la economía publica y Sendero Luminoso, ya que se menciona que los intentos de este grupo por reducir la participación en los mercados no fueron populares pero nunca indica un porque o trata de relacionarlo con el tema principal de forma clara, dejando con más dudas con respuestas de la posible relación de una práctica colonial y un grupo subversivo que marcó un antes y después en la historia peruana.\n",
    "\n",
    "\n",
    "Para llegar al resultado, se midió el nivel de vida empleado dos conjuntos de datos independientes georreferenciados a nivel distrital, el primer conjunto esta conformado por datos acerca del consumo doméstico obtenido del INEI, el cual reflejara la capacidad productiva mientras que el segundo conjunto son los datos de un micro censo realizado por MINEDU que registra las tallas de los escolares de seis a nueve años en la región, donde los que se encuentran debajo del promedio requerido por la Organización Mundial de la Salud se asumen como infantes con retraso en el crecimiento por la desnutrición, lo cual esta relacionado a un bajo nivel de vida  producto de la mita.\n",
    "Para obtener una variable de control con respecto a las características geográficas, se calculó la altitud de cada distrito. Como respuesta a la pregunta, la autora recurre a los canales de persistencia, específicamente en tres: tenencia de la tierra, bienes públicos y la participación en el mercado. Acerca del primero, menciona que la Corona española, al desmantelar al sistema de encomiendas en el Perú abrió la posibilidad de manipular las tenencias de tierras a favor de políticas publicas como lo fue la mita. Del segundo, indica que hay evidencia que la mita disminuyo el acceso a la educación pero que no afecto las redes viales locales. Del tercero, se encontró que “los efectos de la mita persisten en parte a través de un impacto económico significativo sobre la participación en el mercado agrícola, aunque es difícil establecer la magnitud precisa de este impacto dadas las características de los datos y la mecánica de la RD” \n",
    "Estos resultados contradicen la hipótesis de Engarman y Solokoff sobre que la desigualdad histórica en el acceso a la tierra es la causa fundamental en el largo plazo del escaso crecimiento de América Latina en donde a los grandes terratenientes en Latinoamérica son los pequeños agricultores seguros y libres porque no es un escenario histórico que aplique para Perú e incluso para otros lugares de Latinoamérica,  ya que algunas estructuras ya estaban establecidas desde antes que comenzará la elite terrateniente.\n",
    "\n",
    "\n",
    "Los pasos específicos que propone la autora es el estudio de como el Estado puede ser utilizado para dar forma a interacciones económicas para apreciar de manera mas eficaz la desigualdad en el acceso a la tierra. Sin embargo, también se puede avanzar en la investigación de otros canales, como el propuesto por Rendon, 2021, donde establece una relación entre la mita en la mina de Huancavelica y el despoblamiento debido a las reubicaciones y normativa tales como “la implantación del tribual del santo oficio de la inquisición, el monopolio del azogue, la devastación de las familias incas cusqueñas, y la composición y venta de las tierras vacas y realengas” impuestas por el virrey Toledo. \n",
    "Otro paso podría ser establecer una comparación entre el caso de la minera de Potosí – Huancavelica con los de otros países, por ejemplo, México, en donde se desarrollo el virreinato de Nueva España, donde también se reclutaban personas de poblaciones cercanas para trabajar en las minas, a quienes se les trasladaba a “rancherías, pequeñas poblaciones que se convirtieron en centros que sirvieron para abastecer toda el área minera” (Commons, 1989), convirtiendo a esa zona en una de las fuentes de ingresos mas importantes para la Corona, produciendo hasta 27 000 000 en pesos \n",
    "Finalmente, otro paso sería enfocarnos en el contexto social, ya que las comunidades quechuas no fueron las únicas afectadas por la invasión española. Morong (2006) explica que la mita “ya había asumido cierta importancia en función de los requerimientos que la economía colonial les imponía a las comunidades indígenas de Tarapacá”, obligando a los aimaras a trabajar en las minas argentinas de Huantajaya además de imponerles el pago de tributos. Ante la explotación, los familiares de los mitayos los acompañaban a las minas, poniendo en riesgo sus parcelas e incluso su posición en la comunidad, lo que, a largo plazo, quebró la sociedad indígena al no contar con suficientes varones adultos, esta baja demográfica, sumada a la dispersión territorial y al mal cuidado de la tierra, trajo miseria a los indígenas Sibaya y, por consiguiente, su desaparición en la zona de Tarapacá  \n",
    "\n",
    "\n",
    "**Referencias:**\n",
    "- Commons, A. (1989) La mineria en Nueva España en el siglo XVIII https://www.scielo.org.mx/pdf/igeo/n19/n19a6.pdf\n",
    "- Morong, G. (2006) El desierto y la miseria: indios y tributación en el sur peruano (Sibaya, 1822) http://dev.scielo.org.pe/scielo.php?script=sci_arttext&pid=S0254-92122006000100006\n",
    "- Rendon, S (2021) La mita minera de Huancavelica y el despoblamiento durante los siglos XVI-XVIII. El caso de la provincia de Chumbivilcas, Perú https://www.scielo.org.mx/scielo.php?script=sci_arttext&pid=S1405-74252020000400155"
   ]
  },
  {
   "cell_type": "code",
   "execution_count": 24,
   "id": "cf9027f2",
   "metadata": {},
   "outputs": [],
   "source": [
    "from causalgraphicalmodels import CausalGraphicalModel\n",
    "import os\n",
    "import numpy as np \n",
    "import pandas as pd \n",
    "import statsmodels.api as sm \n",
    "import statsmodels.formula.api as smf \n",
    "from itertools import combinations \n",
    "import statsmodels.api as sm\n",
    "import statsmodels.formula.api as smf\n",
    "from statsmodels.iolib.summary2 import summary_col\n",
    "import seaborn as sns\n",
    "import ipywidgets as widgets\n",
    "import matplotlib.pyplot as plt\n",
    "import numpy as np\n",
    "import sympy as sy\n",
    "import pandas as pd\n",
    "from causalgraphicalmodels import CausalGraphicalModel\n",
    "import plotnine as p\n",
    "import linearmodels.iv.model as lm\n",
    "from linearmodels.iv import IV2SLS"
   ]
  },
  {
   "cell_type": "markdown",
   "id": "bd68d2dd",
   "metadata": {},
   "source": [
    "## Codigo\n",
    "## 1. Instrumental Variables\n",
    "#### - En que consiste el supuesto de \"Relevance\"?\n",
    "\n",
    "*Relevancia* es uno de los supuestos que tenemos que satisfacer para que las variables instrumentales funcionen.Consiste en que para que el instrumento \"Z\" tenga relevancia, este debe afectar en X, en donde cuanto mas fuerte sea esta covariacion, mas confianza se tendra en la suposicion de relevancia, si es que esto no sucede, entonces significara que el instrumento Z es debil y la estimacion no funcionaria\n",
    "\n",
    "\n",
    "#### - En que consiste el supuesto de \"Validity\"?\n",
    "\n",
    "*Validez* es la supocision de que el instrumento \"Z\" es una variable que no tiene backdoors abiertas propias, en otras palabras, cualquier camino entre el instrumento \"Z\" y el resultado \"Y\" debe pasar por el tratamiento \"X\" (osea que Z debe explicar a Y a travez de X) o estar cerrado. Si el instrumento \"Z\" tiene backdoors abiertas a otras variables (Z→A→Y), significa que hay un problema de validez\n",
    "\n",
    "\n",
    "## 2. Ploteo de Histogramas\n",
    "Tomando en cuenta que la variable $nearc4$ representa si existe un college en el county debe realizar los siguientes ploteos de histogramas.\n"
   ]
  },
  {
   "cell_type": "code",
   "execution_count": 2,
   "id": "afb8b9b5",
   "metadata": {},
   "outputs": [],
   "source": [
    "# load data\n",
    "\n",
    "import ssl\n",
    "ssl._create_default_https_context = ssl._create_unverified_context\n",
    "\n",
    "def read_data(file): \n",
    "    return pd.read_stata(\"https://raw.github.com/scunning1975/mixtape/master/\" + file)"
   ]
  },
  {
   "cell_type": "code",
   "execution_count": 3,
   "id": "a69c451e",
   "metadata": {
    "scrolled": true
   },
   "outputs": [
    {
     "data": {
      "text/html": [
       "<div>\n",
       "<style scoped>\n",
       "    .dataframe tbody tr th:only-of-type {\n",
       "        vertical-align: middle;\n",
       "    }\n",
       "\n",
       "    .dataframe tbody tr th {\n",
       "        vertical-align: top;\n",
       "    }\n",
       "\n",
       "    .dataframe thead th {\n",
       "        text-align: right;\n",
       "    }\n",
       "</style>\n",
       "<table border=\"1\" class=\"dataframe\">\n",
       "  <thead>\n",
       "    <tr style=\"text-align: right;\">\n",
       "      <th></th>\n",
       "      <th>id</th>\n",
       "      <th>nearc2</th>\n",
       "      <th>nearc4</th>\n",
       "      <th>educ</th>\n",
       "      <th>age</th>\n",
       "      <th>fatheduc</th>\n",
       "      <th>motheduc</th>\n",
       "      <th>weight</th>\n",
       "      <th>momdad14</th>\n",
       "      <th>sinmom14</th>\n",
       "      <th>...</th>\n",
       "      <th>KWW</th>\n",
       "      <th>IQ</th>\n",
       "      <th>married</th>\n",
       "      <th>libcrd14</th>\n",
       "      <th>exper</th>\n",
       "      <th>lwage</th>\n",
       "      <th>expersq</th>\n",
       "      <th>u_lwage</th>\n",
       "      <th>lwage_hat</th>\n",
       "      <th>u_educ</th>\n",
       "    </tr>\n",
       "  </thead>\n",
       "  <tbody>\n",
       "    <tr>\n",
       "      <th>0</th>\n",
       "      <td>2.0</td>\n",
       "      <td>0.0</td>\n",
       "      <td>0.0</td>\n",
       "      <td>7.0</td>\n",
       "      <td>29.0</td>\n",
       "      <td>NaN</td>\n",
       "      <td>NaN</td>\n",
       "      <td>158413.0</td>\n",
       "      <td>1.0</td>\n",
       "      <td>0.0</td>\n",
       "      <td>...</td>\n",
       "      <td>15.0</td>\n",
       "      <td>NaN</td>\n",
       "      <td>1.0</td>\n",
       "      <td>0.0</td>\n",
       "      <td>16.0</td>\n",
       "      <td>6.306275</td>\n",
       "      <td>256.0</td>\n",
       "      <td>0.198047</td>\n",
       "      <td>6.108228</td>\n",
       "      <td>-3.067539</td>\n",
       "    </tr>\n",
       "    <tr>\n",
       "      <th>1</th>\n",
       "      <td>3.0</td>\n",
       "      <td>0.0</td>\n",
       "      <td>0.0</td>\n",
       "      <td>12.0</td>\n",
       "      <td>27.0</td>\n",
       "      <td>8.0</td>\n",
       "      <td>8.0</td>\n",
       "      <td>380166.0</td>\n",
       "      <td>1.0</td>\n",
       "      <td>0.0</td>\n",
       "      <td>...</td>\n",
       "      <td>35.0</td>\n",
       "      <td>93.0</td>\n",
       "      <td>1.0</td>\n",
       "      <td>1.0</td>\n",
       "      <td>9.0</td>\n",
       "      <td>6.175867</td>\n",
       "      <td>81.0</td>\n",
       "      <td>-0.211160</td>\n",
       "      <td>6.387027</td>\n",
       "      <td>-1.727562</td>\n",
       "    </tr>\n",
       "    <tr>\n",
       "      <th>2</th>\n",
       "      <td>4.0</td>\n",
       "      <td>0.0</td>\n",
       "      <td>0.0</td>\n",
       "      <td>12.0</td>\n",
       "      <td>34.0</td>\n",
       "      <td>14.0</td>\n",
       "      <td>12.0</td>\n",
       "      <td>367470.0</td>\n",
       "      <td>1.0</td>\n",
       "      <td>0.0</td>\n",
       "      <td>...</td>\n",
       "      <td>42.0</td>\n",
       "      <td>103.0</td>\n",
       "      <td>1.0</td>\n",
       "      <td>1.0</td>\n",
       "      <td>16.0</td>\n",
       "      <td>6.580639</td>\n",
       "      <td>256.0</td>\n",
       "      <td>0.204719</td>\n",
       "      <td>6.375920</td>\n",
       "      <td>1.012975</td>\n",
       "    </tr>\n",
       "    <tr>\n",
       "      <th>3</th>\n",
       "      <td>5.0</td>\n",
       "      <td>1.0</td>\n",
       "      <td>1.0</td>\n",
       "      <td>11.0</td>\n",
       "      <td>27.0</td>\n",
       "      <td>11.0</td>\n",
       "      <td>12.0</td>\n",
       "      <td>380166.0</td>\n",
       "      <td>1.0</td>\n",
       "      <td>0.0</td>\n",
       "      <td>...</td>\n",
       "      <td>25.0</td>\n",
       "      <td>88.0</td>\n",
       "      <td>1.0</td>\n",
       "      <td>1.0</td>\n",
       "      <td>10.0</td>\n",
       "      <td>5.521461</td>\n",
       "      <td>100.0</td>\n",
       "      <td>-0.967905</td>\n",
       "      <td>6.489366</td>\n",
       "      <td>-2.253536</td>\n",
       "    </tr>\n",
       "    <tr>\n",
       "      <th>4</th>\n",
       "      <td>6.0</td>\n",
       "      <td>1.0</td>\n",
       "      <td>1.0</td>\n",
       "      <td>12.0</td>\n",
       "      <td>34.0</td>\n",
       "      <td>8.0</td>\n",
       "      <td>7.0</td>\n",
       "      <td>367470.0</td>\n",
       "      <td>1.0</td>\n",
       "      <td>0.0</td>\n",
       "      <td>...</td>\n",
       "      <td>34.0</td>\n",
       "      <td>108.0</td>\n",
       "      <td>1.0</td>\n",
       "      <td>0.0</td>\n",
       "      <td>16.0</td>\n",
       "      <td>6.591674</td>\n",
       "      <td>256.0</td>\n",
       "      <td>0.125173</td>\n",
       "      <td>6.466501</td>\n",
       "      <td>1.090437</td>\n",
       "    </tr>\n",
       "  </tbody>\n",
       "</table>\n",
       "<p>5 rows × 37 columns</p>\n",
       "</div>"
      ],
      "text/plain": [
       "    id  nearc2  nearc4  educ   age  fatheduc  motheduc    weight  momdad14  \\\n",
       "0  2.0     0.0     0.0   7.0  29.0       NaN       NaN  158413.0       1.0   \n",
       "1  3.0     0.0     0.0  12.0  27.0       8.0       8.0  380166.0       1.0   \n",
       "2  4.0     0.0     0.0  12.0  34.0      14.0      12.0  367470.0       1.0   \n",
       "3  5.0     1.0     1.0  11.0  27.0      11.0      12.0  380166.0       1.0   \n",
       "4  6.0     1.0     1.0  12.0  34.0       8.0       7.0  367470.0       1.0   \n",
       "\n",
       "   sinmom14  ...   KWW     IQ  married  libcrd14  exper     lwage  expersq  \\\n",
       "0       0.0  ...  15.0    NaN      1.0       0.0   16.0  6.306275    256.0   \n",
       "1       0.0  ...  35.0   93.0      1.0       1.0    9.0  6.175867     81.0   \n",
       "2       0.0  ...  42.0  103.0      1.0       1.0   16.0  6.580639    256.0   \n",
       "3       0.0  ...  25.0   88.0      1.0       1.0   10.0  5.521461    100.0   \n",
       "4       0.0  ...  34.0  108.0      1.0       0.0   16.0  6.591674    256.0   \n",
       "\n",
       "    u_lwage  lwage_hat    u_educ  \n",
       "0  0.198047   6.108228 -3.067539  \n",
       "1 -0.211160   6.387027 -1.727562  \n",
       "2  0.204719   6.375920  1.012975  \n",
       "3 -0.967905   6.489366 -2.253536  \n",
       "4  0.125173   6.466501  1.090437  \n",
       "\n",
       "[5 rows x 37 columns]"
      ]
     },
     "execution_count": 3,
     "metadata": {},
     "output_type": "execute_result"
    }
   ],
   "source": [
    "repo8 = read_data(\"card.dta\")\n",
    "repo8.head()"
   ]
  },
  {
   "cell_type": "markdown",
   "id": "23d710c1",
   "metadata": {},
   "source": [
    "### 2.1 Grafique dos histogramas para la variable años de educación educ para cuando nearc4 == 1, y cuando nearc4 == 0. Compare y describa los patrones que encuentra."
   ]
  },
  {
   "cell_type": "code",
   "execution_count": 9,
   "id": "513059e3",
   "metadata": {},
   "outputs": [
    {
     "data": {
      "text/plain": [
       "<seaborn.axisgrid.FacetGrid at 0x197fd2dc310>"
      ]
     },
     "execution_count": 9,
     "metadata": {},
     "output_type": "execute_result"
    },
    {
     "data": {
      "image/png": "[encoded data removed]",
      "text/plain": [
       "<Figure size 720x360 with 2 Axes>"
      ]
     },
     "metadata": {
      "needs_background": "light"
     },
     "output_type": "display_data"
    }
   ],
   "source": [
    "sns.displot(repo8, x=\"educ\", col = \"nearc4\", color=\"darkred\")"
   ]
  },
  {
   "cell_type": "code",
   "execution_count": 27,
   "id": "bcec978e",
   "metadata": {},
   "outputs": [
    {
     "data": {
      "text/plain": [
       "<seaborn.axisgrid.FacetGrid at 0x197ff8b0910>"
      ]
     },
     "execution_count": 27,
     "metadata": {},
     "output_type": "execute_result"
    },
    {
     "data": {
      "image/png": "[encoded data removed]",
      "text/plain": [
       "<Figure size 412x360 with 1 Axes>"
      ]
     },
     "metadata": {
      "needs_background": "light"
     },
     "output_type": "display_data"
    }
   ],
   "source": [
    "sns.displot(repo8, x=\"educ\", hue=\"nearc4\", multiple=\"stack\")"
   ]
  },
  {
   "cell_type": "markdown",
   "id": "1a37aa07",
   "metadata": {},
   "source": [
    "#### INTERPRETACION: \n",
    "\n",
    "En los siguientes graficos se puede apreciar que los estudiantes quienes cuentan con un centro educativo cercano (grupo de tratamiento) y quienes no (grupo de control). La primera diferencia que se encuentra es en el grupo de 12 años, en donde ademas se empieza a aumentar la cantidad de personas que acceden a educacion, lo cual es comprensible considerando que es en esos años donde comenzara su formacion academica secundaria que sera un factor clave para el ingreso a la universidad, lo cual nos lleva a revisar a los estudiantes de 17 años, donde tambien hay diferencia entre ambos grupos, dandonos a entender que quienes tienen un centro educativo (en este caso, universidad) cerca, tienes mas posibilidades de acceder a la educacion superior a diferencia de quienes no, lo cual se podria explicar si tomamos en cuenta los costos en transporte, alimentacion y vivienda"
   ]
  },
  {
   "cell_type": "markdown",
   "id": "9f8336c6",
   "metadata": {},
   "source": [
    "### 2.2 Grafique dos histogramas para la variable años del logaritmos de los ingresos lwage para cuando nearc4 == 1, y cuando nearc4 == 0. Compare y describa los patrones que encuentra."
   ]
  },
  {
   "cell_type": "code",
   "execution_count": 20,
   "id": "539f3da5",
   "metadata": {},
   "outputs": [
    {
     "data": {
      "text/plain": [
       "<seaborn.axisgrid.FacetGrid at 0x197fd9279d0>"
      ]
     },
     "execution_count": 20,
     "metadata": {},
     "output_type": "execute_result"
    },
    {
     "data": {
      "image/png": "[encoded data removed]",
      "text/plain": [
       "<Figure size 720x360 with 2 Axes>"
      ]
     },
     "metadata": {
      "needs_background": "light"
     },
     "output_type": "display_data"
    }
   ],
   "source": [
    "sns.displot(repo8, x=\"lwage\", col = \"nearc4\", color=\"darkolivegreen\")"
   ]
  },
  {
   "cell_type": "code",
   "execution_count": 28,
   "id": "d16f12eb",
   "metadata": {},
   "outputs": [
    {
     "data": {
      "text/plain": [
       "<seaborn.axisgrid.FacetGrid at 0x197ff96e430>"
      ]
     },
     "execution_count": 28,
     "metadata": {},
     "output_type": "execute_result"
    },
    {
     "data": {
      "image/png": "[encoded data removed]",
      "text/plain": [
       "<Figure size 412x360 with 1 Axes>"
      ]
     },
     "metadata": {
      "needs_background": "light"
     },
     "output_type": "display_data"
    }
   ],
   "source": [
    "sns.displot(repo8, x=\"lwage\", hue=\"nearc4\", multiple=\"stack\")"
   ]
  },
  {
   "cell_type": "markdown",
   "id": "2f4bbf22",
   "metadata": {},
   "source": [
    "#### INTERPRETACION: \n",
    "\n",
    "En el ultimo grafico se puede ver con mucho mas claridad la diferencia entre ambos grupos, indicandonos que los estudiantes que viven cerca de una universidad perciben mas ingresos de quienes no lo hacen, en donde los salarios aumentan aproximadamente el doble. Esta informacion, complementada con la del anterior ejercicio, puede deberse a que aquellos estudiantes que no viven cerca a una universidad no pueden concluir sus estudios (recordando los gastos mencionados como vivienda, transporte, alimentacion, etc) debido a problemas economicos e incluso emocionales como estres al estar expuesto a la carga academica y economica a la vez. No obstante, para confirmas estas hipotesis se necesitaria una investigacion a profundidad."
   ]
  },
  {
   "cell_type": "markdown",
   "id": "9e140274",
   "metadata": {},
   "source": [
    "## 3. Regresiones\n",
    "### 3.1 Corran una regresion lineal del tipo \"lwage ~ educ + exper + black + south + married + smsa\", y expliquen los resultados que encuentran."
   ]
  },
  {
   "cell_type": "code",
   "execution_count": 21,
   "id": "4066e29d",
   "metadata": {},
   "outputs": [
    {
     "data": {
      "text/html": [
       "<table class=\"simpletable\">\n",
       "<caption>OLS Regression Results</caption>\n",
       "<tr>\n",
       "  <th>Dep. Variable:</th>          <td>lwage</td>      <th>  R-squared:         </th> <td>   0.305</td> \n",
       "</tr>\n",
       "<tr>\n",
       "  <th>Model:</th>                   <td>OLS</td>       <th>  Adj. R-squared:    </th> <td>   0.304</td> \n",
       "</tr>\n",
       "<tr>\n",
       "  <th>Method:</th>             <td>Least Squares</td>  <th>  F-statistic:       </th> <td>   219.2</td> \n",
       "</tr>\n",
       "<tr>\n",
       "  <th>Date:</th>             <td>Sun, 13 Nov 2022</td> <th>  Prob (F-statistic):</th> <td>1.97e-232</td>\n",
       "</tr>\n",
       "<tr>\n",
       "  <th>Time:</th>                 <td>15:46:37</td>     <th>  Log-Likelihood:    </th> <td> -1273.9</td> \n",
       "</tr>\n",
       "<tr>\n",
       "  <th>No. Observations:</th>      <td>  3003</td>      <th>  AIC:               </th> <td>   2562.</td> \n",
       "</tr>\n",
       "<tr>\n",
       "  <th>Df Residuals:</th>          <td>  2996</td>      <th>  BIC:               </th> <td>   2604.</td> \n",
       "</tr>\n",
       "<tr>\n",
       "  <th>Df Model:</th>              <td>     6</td>      <th>                     </th>     <td> </td>    \n",
       "</tr>\n",
       "<tr>\n",
       "  <th>Covariance Type:</th>      <td>nonrobust</td>    <th>                     </th>     <td> </td>    \n",
       "</tr>\n",
       "</table>\n",
       "<table class=\"simpletable\">\n",
       "<tr>\n",
       "      <td></td>         <th>coef</th>     <th>std err</th>      <th>t</th>      <th>P>|t|</th>  <th>[0.025</th>    <th>0.975]</th>  \n",
       "</tr>\n",
       "<tr>\n",
       "  <th>Intercept</th> <td>    5.0633</td> <td>    0.064</td> <td>   79.437</td> <td> 0.000</td> <td>    4.938</td> <td>    5.188</td>\n",
       "</tr>\n",
       "<tr>\n",
       "  <th>educ</th>      <td>    0.0712</td> <td>    0.003</td> <td>   20.438</td> <td> 0.000</td> <td>    0.064</td> <td>    0.078</td>\n",
       "</tr>\n",
       "<tr>\n",
       "  <th>exper</th>     <td>    0.0342</td> <td>    0.002</td> <td>   15.422</td> <td> 0.000</td> <td>    0.030</td> <td>    0.038</td>\n",
       "</tr>\n",
       "<tr>\n",
       "  <th>black</th>     <td>   -0.1660</td> <td>    0.018</td> <td>   -9.426</td> <td> 0.000</td> <td>   -0.201</td> <td>   -0.131</td>\n",
       "</tr>\n",
       "<tr>\n",
       "  <th>south</th>     <td>   -0.1316</td> <td>    0.015</td> <td>   -8.788</td> <td> 0.000</td> <td>   -0.161</td> <td>   -0.102</td>\n",
       "</tr>\n",
       "<tr>\n",
       "  <th>married</th>   <td>   -0.0359</td> <td>    0.003</td> <td>  -10.547</td> <td> 0.000</td> <td>   -0.043</td> <td>   -0.029</td>\n",
       "</tr>\n",
       "<tr>\n",
       "  <th>smsa</th>      <td>    0.1758</td> <td>    0.015</td> <td>   11.372</td> <td> 0.000</td> <td>    0.145</td> <td>    0.206</td>\n",
       "</tr>\n",
       "</table>\n",
       "<table class=\"simpletable\">\n",
       "<tr>\n",
       "  <th>Omnibus:</th>       <td>53.196</td> <th>  Durbin-Watson:     </th> <td>   1.858</td>\n",
       "</tr>\n",
       "<tr>\n",
       "  <th>Prob(Omnibus):</th> <td> 0.000</td> <th>  Jarque-Bera (JB):  </th> <td>  69.430</td>\n",
       "</tr>\n",
       "<tr>\n",
       "  <th>Skew:</th>          <td>-0.231</td> <th>  Prob(JB):          </th> <td>8.38e-16</td>\n",
       "</tr>\n",
       "<tr>\n",
       "  <th>Kurtosis:</th>      <td> 3.584</td> <th>  Cond. No.          </th> <td>    154.</td>\n",
       "</tr>\n",
       "</table><br/><br/>Notes:<br/>[1] Standard Errors assume that the covariance matrix of the errors is correctly specified."
      ],
      "text/plain": [
       "<class 'statsmodels.iolib.summary.Summary'>\n",
       "\"\"\"\n",
       "                            OLS Regression Results                            \n",
       "==============================================================================\n",
       "Dep. Variable:                  lwage   R-squared:                       0.305\n",
       "Model:                            OLS   Adj. R-squared:                  0.304\n",
       "Method:                 Least Squares   F-statistic:                     219.2\n",
       "Date:                Sun, 13 Nov 2022   Prob (F-statistic):          1.97e-232\n",
       "Time:                        15:46:37   Log-Likelihood:                -1273.9\n",
       "No. Observations:                3003   AIC:                             2562.\n",
       "Df Residuals:                    2996   BIC:                             2604.\n",
       "Df Model:                           6                                         \n",
       "Covariance Type:            nonrobust                                         \n",
       "==============================================================================\n",
       "                 coef    std err          t      P>|t|      [0.025      0.975]\n",
       "------------------------------------------------------------------------------\n",
       "Intercept      5.0633      0.064     79.437      0.000       4.938       5.188\n",
       "educ           0.0712      0.003     20.438      0.000       0.064       0.078\n",
       "exper          0.0342      0.002     15.422      0.000       0.030       0.038\n",
       "black         -0.1660      0.018     -9.426      0.000      -0.201      -0.131\n",
       "south         -0.1316      0.015     -8.788      0.000      -0.161      -0.102\n",
       "married       -0.0359      0.003    -10.547      0.000      -0.043      -0.029\n",
       "smsa           0.1758      0.015     11.372      0.000       0.145       0.206\n",
       "==============================================================================\n",
       "Omnibus:                       53.196   Durbin-Watson:                   1.858\n",
       "Prob(Omnibus):                  0.000   Jarque-Bera (JB):               69.430\n",
       "Skew:                          -0.231   Prob(JB):                     8.38e-16\n",
       "Kurtosis:                       3.584   Cond. No.                         154.\n",
       "==============================================================================\n",
       "\n",
       "Notes:\n",
       "[1] Standard Errors assume that the covariance matrix of the errors is correctly specified.\n",
       "\"\"\""
      ]
     },
     "execution_count": 21,
     "metadata": {},
     "output_type": "execute_result"
    }
   ],
   "source": [
    "#OLS\n",
    "ols_reg = sm.OLS.from_formula(\"lwage ~ educ + exper + black + south + married + smsa\", \n",
    "              data = repo8).fit()\n",
    "\n",
    "ols_reg.summary()"
   ]
  },
  {
   "cell_type": "markdown",
   "id": "41db4cc3",
   "metadata": {},
   "source": [
    "#### INTERPRETACION\n",
    "\n",
    "A partir de las cifras mostradas podemos concluir que las variables son estadisticamente significativas dado que los p-value encontrados son inferiores a 0.05, lo que tambien nos indicaria la existencia de una correlacion.\n",
    "Ademas de ello, que los años adicionales de educacion son proporcionales al niveles de ingreso (aumentando en 0.0712 unidades por cada año). Otro dato es que si la persona es afrodescendiente, los ingresos le seran inversamente proporcionales (disminuyendo 0.16), y se espera que se disminuya aun mas si la persona reside en el sur, disminuyendo 13%, y aun mas si esta casada, lo que reduce su ingreso en 3%"
   ]
  },
  {
   "cell_type": "markdown",
   "id": "08a80c88",
   "metadata": {},
   "source": [
    "### 3.2 Corran una regresion de tipo IV(usando el paquete IV2SLS) donde van a instrumentalizar la variable educ con nearc2. La regressión debería tener una forma de este tipo $lwage ~ 1 + exper + black + south + married + smsa + [educ ~ nearc4 ]$"
   ]
  },
  {
   "cell_type": "code",
   "execution_count": 29,
   "id": "352cffeb",
   "metadata": {},
   "outputs": [],
   "source": [
    "repo8['married'] = repo8['married'].fillna(0)"
   ]
  },
  {
   "cell_type": "code",
   "execution_count": 30,
   "id": "c56a4110",
   "metadata": {},
   "outputs": [
    {
     "data": {
      "text/html": [
       "<table class=\"simpletable\">\n",
       "<caption>IV-2SLS Estimation Summary</caption>\n",
       "<tr>\n",
       "  <th>Dep. Variable:</th>          <td>lwage</td>      <th>  R-squared:         </th> <td>-1.3114</td>\n",
       "</tr>\n",
       "<tr>\n",
       "  <th>Estimator:</th>             <td>IV-2SLS</td>     <th>  Adj. R-squared:    </th> <td>-1.3160</td>\n",
       "</tr>\n",
       "<tr>\n",
       "  <th>No. Observations:</th>       <td>3010</td>       <th>  F-statistic:       </th> <td>289.62</td> \n",
       "</tr>\n",
       "<tr>\n",
       "  <th>Date:</th>             <td>Sun, Nov 13 2022</td> <th>  P-value (F-stat)   </th> <td>0.0000</td> \n",
       "</tr>\n",
       "<tr>\n",
       "  <th>Time:</th>                 <td>17:05:13</td>     <th>  Distribution:      </th> <td>chi2(6)</td>\n",
       "</tr>\n",
       "<tr>\n",
       "  <th>Cov. Estimator:</th>        <td>robust</td>      <th>                     </th>    <td></td>    \n",
       "</tr>\n",
       "<tr>\n",
       "  <th></th>                          <td></td>         <th>                     </th>    <td></td>    \n",
       "</tr>\n",
       "</table>\n",
       "<table class=\"simpletable\">\n",
       "<caption>Parameter Estimates</caption>\n",
       "<tr>\n",
       "      <td></td>      <th>Parameter</th> <th>Std. Err.</th> <th>T-stat</th>  <th>P-value</th> <th>Lower CI</th> <th>Upper CI</th>\n",
       "</tr>\n",
       "<tr>\n",
       "  <th>Intercept</th>  <td>0.1276</td>    <td>3.1412</td>   <td>0.0406</td>  <td>0.9676</td>   <td>-6.0290</td>  <td>6.2843</td> \n",
       "</tr>\n",
       "<tr>\n",
       "  <th>black</th>      <td>0.1134</td>    <td>0.1816</td>   <td>0.6244</td>  <td>0.5324</td>   <td>-0.2425</td>  <td>0.4692</td> \n",
       "</tr>\n",
       "<tr>\n",
       "  <th>exper</th>      <td>0.1515</td>    <td>0.0747</td>   <td>2.0274</td>  <td>0.0426</td>   <td>0.0050</td>   <td>0.2980</td> \n",
       "</tr>\n",
       "<tr>\n",
       "  <th>married</th>    <td>-0.0151</td>   <td>0.0147</td>   <td>-1.0258</td> <td>0.3050</td>   <td>-0.0438</td>  <td>0.0137</td> \n",
       "</tr>\n",
       "<tr>\n",
       "  <th>smsa</th>       <td>0.0201</td>    <td>0.1030</td>   <td>0.1949</td>  <td>0.8455</td>   <td>-0.1819</td>  <td>0.2220</td> \n",
       "</tr>\n",
       "<tr>\n",
       "  <th>south</th>      <td>-0.0319</td>   <td>0.0692</td>   <td>-0.4603</td> <td>0.6453</td>   <td>-0.1675</td>  <td>0.1038</td> \n",
       "</tr>\n",
       "<tr>\n",
       "  <th>educ</th>       <td>0.3618</td>    <td>0.1849</td>   <td>1.9562</td>  <td>0.0504</td>   <td>-0.0007</td>  <td>0.7243</td> \n",
       "</tr>\n",
       "</table><br/><br/>Endogenous: educ<br/>Instruments: nearc2<br/>Robust Covariance (Heteroskedastic)<br/>Debiased: False"
      ],
      "text/plain": [
       "<class 'linearmodels.compat.statsmodels.Summary'>\n",
       "\"\"\"\n",
       "                          IV-2SLS Estimation Summary                          \n",
       "==============================================================================\n",
       "Dep. Variable:                  lwage   R-squared:                     -1.3114\n",
       "Estimator:                    IV-2SLS   Adj. R-squared:                -1.3160\n",
       "No. Observations:                3010   F-statistic:                    289.62\n",
       "Date:                Sun, Nov 13 2022   P-value (F-stat)                0.0000\n",
       "Time:                        17:05:13   Distribution:                  chi2(6)\n",
       "Cov. Estimator:                robust                                         \n",
       "                                                                              \n",
       "                             Parameter Estimates                              \n",
       "==============================================================================\n",
       "            Parameter  Std. Err.     T-stat    P-value    Lower CI    Upper CI\n",
       "------------------------------------------------------------------------------\n",
       "Intercept      0.1276     3.1412     0.0406     0.9676     -6.0290      6.2843\n",
       "black          0.1134     0.1816     0.6244     0.5324     -0.2425      0.4692\n",
       "exper          0.1515     0.0747     2.0274     0.0426      0.0050      0.2980\n",
       "married       -0.0151     0.0147    -1.0258     0.3050     -0.0438      0.0137\n",
       "smsa           0.0201     0.1030     0.1949     0.8455     -0.1819      0.2220\n",
       "south         -0.0319     0.0692    -0.4603     0.6453     -0.1675      0.1038\n",
       "educ           0.3618     0.1849     1.9562     0.0504     -0.0007      0.7243\n",
       "==============================================================================\n",
       "\n",
       "Endogenous: educ\n",
       "Instruments: nearc2\n",
       "Robust Covariance (Heteroskedastic)\n",
       "Debiased: False\n",
       "\"\"\""
      ]
     },
     "execution_count": 30,
     "metadata": {},
     "output_type": "execute_result"
    }
   ],
   "source": [
    "#2SLS\n",
    "iv_reg = IV2SLS.from_formula(\"lwage ~  1 + exper + black + south + married + smsa + [educ ~ nearc2 ]\", repo8).fit()\n",
    "iv_reg.summary"
   ]
  },
  {
   "cell_type": "markdown",
   "id": "9195887c",
   "metadata": {},
   "source": [
    "#### INTERPRETACION:\n",
    "\n",
    "Tomando en cuenta las cifras, la unica variable estadisticamente significativa es *exper* (años de experiencia), puesto que,a diferencia de las demas, es la unica que tiene un p-value inferior a 0.05. Comparando esta tabla con la anterior, podemos apreciar que la variable educacion a aumentado, dando como resultado que el nivel de ingresos de los estudiantes aumenta un 36% (0.3618) por cada año de estudios. Asi mismo, que el instrumental es fuerte dado que el F-statistic supera enormemente a 15"
   ]
  },
  {
   "cell_type": "code",
   "execution_count": null,
   "id": "93ed94c0",
   "metadata": {},
   "outputs": [],
   "source": []
  }
 ],
 "metadata": {
  "kernelspec": {
   "display_name": "Python 3 (ipykernel)",
   "language": "python",
   "name": "python3"
  },
  "language_info": {
   "codemirror_mode": {
    "name": "ipython",
    "version": 3
   },
   "file_extension": ".py",
   "mimetype": "text/x-python",
   "name": "python",
   "nbconvert_exporter": "python",
   "pygments_lexer": "ipython3",
   "version": "3.9.12"
  }
 },
 "nbformat": 4,
 "nbformat_minor": 5
}
