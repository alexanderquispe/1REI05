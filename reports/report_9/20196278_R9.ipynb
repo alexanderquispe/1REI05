{
 "cells": [
  {
   "cell_type": "markdown",
   "id": "371b44a9",
   "metadata": {},
   "source": [
    "$$REPORT_Nº9:$$\n",
    "\n",
    "$$Name: Santiago Alberto Vera Quispe $$\n",
    "\n",
    "$$Code: 20196278$$"
   ]
  },
  {
   "cell_type": "markdown",
   "id": "d6cc0ed9",
   "metadata": {},
   "source": [
    "TEXTO: \n",
    "La hipótesis del texto es que la difusión de las redes sociales empeoran la salud mental en los adolescentes y  adultos de EEUU. Facebook, como principal objeto de estudio, es analizado en al influencia para el incremento de los síntomas de la pobreza mental y la salud especialmente en la depresión en las últimas dos décadas. El autor, así, presenta un experimento cuasi-experimental que se basa en dos datas. La primera, es la data de Facebook que logró tener de 775 US college. La segunda se refiere al NCHA: el asesoramiento de la salud del colegio a nivel nacional. La data se recoge de las universidades que tuvieron la introducción de facebook disruptivamente. Esta disrupción permite ver efectos causales de estimación empírica que impide sesgos particulares de cada universidad, tiempos diferentes, tendencias de salud. \n",
    "\n",
    "El artículo presenta sus hallazgos en la introducción de facebook y sus efectos negativos sobre la salud del estudiante en el índice de mala salud mental de NCHA, ya que que afectó la desviación estándar de estimador y el estimado de depresión clínica de PFQ-9: 2 puntos porcentuales de bases del 25%. Así vemos que la depresión incrementa en 24 puntos porcentuales producto de las redes. La susceptibilidad a la mala salud mental se incrementa con las redes, a corto y mediano plazo, al mimo tiempo que  se ven efectos en los estudiantes al momento de expresar este malestar. \n",
    "\n",
    "Estos hallazgos se ven reflejados en patrones desfavorables de los estudiantes al participar en actividades sociales, ya que, por un lado, las redes permiten que sean mayormente excluidos y, por otro lado, permite formar las creencias de nueva vida social rezagadas y relacionadas al alcohol.  \n",
    "\n",
    "El texto continúa su análisis y reconoce sus limitaciones en extrapolar estos resultados a todas las redes sociales. Adicionalmente, los autoinformes de salud mental no se liberan de estar sesgados y, finalmente, este estudio es local para una población demográfica joven-adulta específica. Así mismo, el mismo autor reconoce su contribución a la literatura que trabajaron este mismo tema.\n",
    "\n",
    "En primer lugar, este sería un estudio más integral y detallado en relación a las nuevas enfermedades mentales y es medido en un bienestar más objetivo. En segundo lugar, el estudio es menos propenso a ser sesgado por los individuos en cuestión, y además este es un estudio de mediano a largo plazo. En tercer lugar, este estudio se concentra en la población adulto joven en la que el estudio de su bienestar es primordial en sus vidas. Así mismo, resalta las evidencias sobre las deficiencias en el rendimiento académico y brinda luces para poder establecer experimentos empíricos que miden los efectos de la expansión de la plataforma en la participación en protestas sociales, crímenes de odio, entre otros efectos.  \n",
    "\n",
    "El argumento que da relevancia al artículo es su formulación de la estructura para poder generar un modelo y limpiar la data, y, de esta manera, hallar un efecto causal. En primer lugar, presenta antecedentes que  evalúan cómo esta salud mental afecta el rendimiento del estudiante. Con fuentes de la OMS, se dan resultados alarmantes para las últimas dos décadas. Estas nuevas enfermedades mentales surgen en paralelo a las redes como Facebook. El autor presenta una revisión histórica de cómo Facebook se creó y de qué manera esta plataforma estuvo en un principio relegada a un público objetivo. Para el 2006, la cifras de visitas y usuarios era de crecimiento alarmante.  \n",
    "\n",
    "En segundo lugar, presenta fuentes que se recogen de Wayback Machine , donde se recuperan los primeros ingresos a esta plataforma de los estudiantes universitarios. Se reconstruyó una base de datos de fechas tentativas y su expansión de la plataforma en ellas. Así mismo, en relación a la base de datos de la salud universitaria, se evaluó en los datos de salud universitaria nacional. del NCHA. que toma en consideración las variables de drogas, alcohol, conductas sexuales, preguntas sobre salud mental, entre otras cosas. Para evaluar los efectos reales de la introducción de facebook, se recogen a los estudiantes solo de tiempo completo. \n",
    "\n",
    "En tercer lugar, y de manera principal, se presenta la estrategia empírica y de qué manera se genera una base de variables estandarizadas y validadas en cada pregunta sobre la salud mental. Para revertir los sesgos de una correlación simple, el autor opta por beneficiarse de la implementación de facebook de manera escalonada en el 2004 y 2006. Se genera una estrategia  del análisis cuasi-experimental: así se descartan varias preocupaciones de sesgos. Es el modelo de TWFE, como efecto fijo bidireccional, el que se usa finalmente. \n",
    "\n",
    "En cierto lugar, presenta resultados estables y significativos en los efectos del lugar fijo de la universidad y su expansión en tendencias de tiempo lineal. El análisis encuentra el impacto de la salud mental en un 22% de pérdida de trabajo. Así mismo para la depresión son un 25%, para la ansiedad son un 16% y para el caso de la bulimia son mínimos. Se encontró además, que los síntomas de salud mental mala derivan en acudir a servicios de salud mental mala. En estos hallazgos se presenta el problema de heterogeneidades que presenta la dificultad para saber de qué manera estos estudiantes optan por tomar servicios relacionados a la depresión. En su solución se da un estimador LASSO que permite predecir esta susceptibilidad. Este estimador de predicción da una medida que predice una fuerte reacción en tener mala salud y la susceptibilidad de asistir al centro. Esta es una dimensión de heterogeneidad que el estudio tiene en cuenta y lo limpia correctamente. Así mismo, el autor genera un modelo de estimación muestral que puede medir el efecto a mediano plazo a lo largo de 5 semestres, que, finalmente concluyen en apoyar la propuesta inicial.  \n",
    "\n",
    "Como conclusiones el autor brinda que la atención a estos problemas de salud sobre los trastornos de ansiedad, depresión , trastornos alimenticios, estrés o dificultades para dormir son afectados por las redes, y, en ese sentido, afectan el rendimiento académico. Paralelamente, presenta mecanismos de comportamiento afectados por las redes que, a su vez, afectan las relaciones sociales en su interacción, un uso disruptivo del internet como método de desfocalización del estudiante, entre otros. El estudio es efectivo al analizar y predecir que en el futuro con la inserción de nuevas formas de comunicarse, nuevos y mejorados medios en los que las familias y amigos estarán más interconectados, la salud mental será importante. No obstante, podría continuar su análisis en agregar la variable de “aceleración”, ya que una de las variables que caracterizan al tiempo contemporáneo es precisamente su carácter acelerativo que finalmente, afecta a los usuarios de estas redes en su salud mental. \n"
   ]
  },
  {
   "cell_type": "code",
   "execution_count": null,
   "id": "5fa6096b",
   "metadata": {},
   "outputs": [],
   "source": []
  }
 ],
 "metadata": {
  "kernelspec": {
   "display_name": "Python 3 (ipykernel)",
   "language": "python",
   "name": "python3"
  },
  "language_info": {
   "codemirror_mode": {
    "name": "ipython",
    "version": 3
   },
   "file_extension": ".py",
   "mimetype": "text/x-python",
   "name": "python",
   "nbconvert_exporter": "python",
   "pygments_lexer": "ipython3",
   "version": "3.9.12"
  }
 },
 "nbformat": 4,
 "nbformat_minor": 5
}
