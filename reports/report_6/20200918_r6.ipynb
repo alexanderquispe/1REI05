{
 "cells": [
  {
   "cell_type": "markdown",
   "id": "8115e088",
   "metadata": {},
   "source": [
    "Camila Durand 20200918"
   ]
  },
  {
   "cell_type": "markdown",
   "id": "0b64ca58",
   "metadata": {},
   "source": [
    "## REPORTE 6"
   ]
  },
  {
   "cell_type": "markdown",
   "id": "fd316434",
   "metadata": {},
   "source": [
    "El texto analizado trata de examinar las brechas en la elección de universidades entre los estudiantes de bajos ingresos y sus pares de mayores ingresos, teniendo como muestra Michigan. Ello con el propósito de puntualizar cómo los estudiantes de bajos ingresos y alto rendimiento no ingresan a las mejores universidades debido a que nunca postularon. Esta realidad tiene una implicación lógica a los bajos ingresos de dichas personas , sin embargo el estudio recalca que no es únicamente ello, pues hay universidades como la de Michigan que ofrecen múltiples facilidades económicas. Por tanto el presente artículo busca examinar la influencia que tiene la comunicación directa y personalizada en la postulación de estudiantes de bajos ingresos y altos rendimiento en una población de casi 2 mil estudiantes que asistieron a una escuela pública. A esta muestra se les envió paquetes y folletos a ellos y sus padres, para animarlos a postular y garantizar sus 4 años de matrícula y cuotas académicas. La intervención hecha por este proyecto no aumentaba la ayuda, sino solo vilibizaba la subvención ya ofrecida, pero aun así hizo que las tasas de solicitud e inscripción incrementaran.\n",
    "\n",
    "Las fortalezas del presente artículo es que no solo se basa en supuestos, sino que realiza una experimentación exacta con un población y muestra objetiva. De esta manera puede analizar el efecto directo que tiene la comunicación directa y personalizada hacia los posibles postulantes. Asimismo, el análisis que realiza de la literatura previa permite ahondar en otros factores, examinar demográficamente a la población de manera adecuada y tener una mayor amplitud en la perspectiva de los efectos que produce la iniciativa.Sin embargo una de las deficiencias del estudio es que se enfoca únicamente en la universidad de Michigan que más allá de las facilidades económicas que ofrece, representa una oferta obstante diferente a las universidades de ib league. Asimismo, hubiera sido posible profundizar sobre la aversión a la deuda de los estudiantes de bajos ingresos mencionada por los autores o tratar de poner en difusión la posibilidad de que los estudiantes bien preparados no asistieron a la universidad.\n",
    "\n",
    "Los autores avanzan sobre la pregunta inicial, incluso complejizando un poco más notando que existen brechas sustanciales en la inscripción universitaria y la calidad de la universidad entre los estudiantes bien preparados. Asimismo pudo entender de mejor manera el comportamiento de los estudiantes en materia de la elección de universidades selectas y cómo postular a la del estudio evitó que consideran otra más o como la entrega de información es más efectiva cuando se entrega en el momento de toma de decisiones. Los resultados mostraron que la intervención de bajo costo de esta comunicación directa y personalizada que elimine los obstáculos administrativos y de comportamiento puede alterar profundamente las opciones de los estudiantes. demostrando como acciones pequeñas y de bajo costo pueden tener grandes impactos en políticas. Asimismo el evaluar cuestiones como  la distancia geográfica de la universidad, la falta de compañeros que consideran escuelas selectivas o logro académico, permite establecer variables de control más clara y poder analizar de manera directa el efecto de la variable analizada. En síntesis el estudio permite plantear cierto índice y estimar una regresión que predice la asistencia a una universidad altamente competitiva. \n",
    "\n",
    "Finalmente creo que se podría seguir con la examinación  de como el mínimo cambio en políticas puede generar innumerables efectos, particularmente en el plano educativo y en naciones latinoamericanas como la peruana con serias deficiencias educativas. Basándonos en estudios como el de Yamada y viendo como el cambio en ciertas políticas públicas podría impactar el acceso a educación superior y con ello al empleo. También sería interesante comparar el efecto que tiene este tipo de acercamiento directo y personalizado en países latinoamericanos donde el plano social y cultural es completamente diferente. Y finalmente comparar el impacto de dichas políticas públicas contrastado con aquellos países donde la educación superior es gratuita, pero siguen percibiendo brechas de acceso con el propósito de entender cuáles son las variables que intervienen más allá de los costos, como la brecha digital analizada por Lloyd.\n",
    "\n",
    "Yamada, G. (Ed.). (2021). Educación superior y empleo en el Perú: una brecha persistente. Universidad del Pacífico.\n",
    "\n",
    "Lloyd, M. W. (2020). Desigualdades educativas y la brecha digital en tiempos de COVID-19.\n"
   ]
  },
  {
   "cell_type": "code",
   "execution_count": null,
   "id": "ced0fb28",
   "metadata": {},
   "outputs": [],
   "source": []
  }
 ],
 "metadata": {
  "kernelspec": {
   "display_name": "Python 3 (ipykernel)",
   "language": "python",
   "name": "python3"
  },
  "language_info": {
   "codemirror_mode": {
    "name": "ipython",
    "version": 3
   },
   "file_extension": ".py",
   "mimetype": "text/x-python",
   "name": "python",
   "nbconvert_exporter": "python",
   "pygments_lexer": "ipython3",
   "version": "3.9.12"
  }
 },
 "nbformat": 4,
 "nbformat_minor": 5
}
