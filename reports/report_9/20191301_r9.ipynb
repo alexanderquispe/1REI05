{
 "cells": [
  {
   "attachments": {},
   "cell_type": "markdown",
   "id": "05e1c725",
   "metadata": {},
   "source": [
    "# REPORTE\n",
    "\n",
    "*Ingry Benel Vilca - 20191301*\n",
    "\n",
    "\n",
    "El presente artículo \"Social Media and Mental Health\" se centra en desarrollar si la difusión de las redes sociales tiene relación directa con el empeoramiento de la salud mental entre adolescentes y adultos jóvenes en EE.UU.; formulando como pregunta de investigación: ¿La difusión de las redes sociales, tales como Facebook, genera un impacto negativo en la salud mental de adolescentes y adultos jóvenes de EE.UU.?. La investigación permitió conocer que la expansión de las redes sociales provocó un aumento del 9% en la depresión y un aumento del 12% en el trastorno de ansiedad generalizada.\n",
    "\n",
    "Una de las principales fortalezas del artículo, es que basa su estudios en dos dimensiones: la universidad a la cual asisten los estudiantes y el estudiante realizó la encuesta antes o después de la introducción de Facebook en las universidades estadounidenses. Asimismo, el uso de fuente de datos en este artículo es relevante debido a que hace uso de la Evaluación Nacional de Salud Universitaria (NCHA); la encuesta más completa sobre la salud mental y física de los estudiantes disponible en el momento de la expansión de Facebook. Esta indaga en los datos demográficos, salud mental, salud física, el uso de alcohol y drogas y conductas sexuales.\n",
    "\n",
    "Por otro lado, una de las principales debilidades que se observa en la investigación, más que nada por el contexto actual en el que existen otras redes sociales más populares entre adolescentes y adultos jóvenes, resulta el que se enfoque en Facebook, la cual si bien fue popular en su momento, actualmente, su uso ya no es tan significativo como Instagram o Twitter. Asimismo, los resultados del artículo deben ser analizados de manera cautelosa debido a que sus estimaciones son locales; es decir basado en los estudiantes universitarios. Por lo que aún es necesario que en próximas investigaciones se estime el efecto de las redes sociales en otros grupos demográficos.\n",
    "\n",
    "Por consiguiente, la contribución del artículo es que evidencia la relación discontinua entre el impacto de las redes sociales, Facebook, en la salud mental de los estudiantes universitarios. Esto logra conseguirlo a través de las comparaciones sociales desfavorables que sienten ciertos estudiantes respecto a sus compañeros, como los estudiantes que no viven dentro del campus, los estudiantes niveles socioeconómicos bajos o aquellos que no pertenecen a hermandades o fraternidades. Por lo que es más probable que se sientan o sean excluidos de las diversidades actividades universitarias o sientan que no pertenezcan a un grupo establecido. Además, estos resultados pueden servir como punto de comparación de como las redes sociales afecten a adultos y adolescentes.\n",
    "\n",
    "Los siguientes para contribuir en la investigación del tema es considerar la relevancia de  cualquier conocimiento que pueda proporcionar información valiosa respecto al impacto de las redes sociales en la salud mental; debido a que los datos experimentales para las futuras investigaciones son muy reducidos o escasos. Además, las empresas de redes sociales, legisladores y ciertas organizaciones sobre la salud mental ; deben tomar un rol importante y seguir trabajando para reducir o aliviar los efectos dañinos para el bienestar mental de los estudiantes y otros grupos demográficos."
   ]
  },
  {
   "cell_type": "code",
   "execution_count": null,
   "id": "0abab7d4",
   "metadata": {},
   "outputs": [],
   "source": []
  }
 ],
 "metadata": {
  "kernelspec": {
   "display_name": "Python 3 (ipykernel)",
   "language": "python",
   "name": "python3"
  },
  "language_info": {
   "codemirror_mode": {
    "name": "ipython",
    "version": 3
   },
   "file_extension": ".py",
   "mimetype": "text/x-python",
   "name": "python",
   "nbconvert_exporter": "python",
   "pygments_lexer": "ipython3",
   "version": "3.9.12"
  }
 },
 "nbformat": 4,
 "nbformat_minor": 5
}
