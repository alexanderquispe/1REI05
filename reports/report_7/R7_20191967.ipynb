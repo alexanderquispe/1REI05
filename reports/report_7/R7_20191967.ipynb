{
 "cells": [
  {
   "cell_type": "markdown",
   "id": "4456869d",
   "metadata": {},
   "source": [
    "## **Reporte 7**\n",
    "\n",
    "1. ¿Cuál es la pregunta de investigación del artículo?\n",
    "\n",
    "La pregunta de investigación del artículo es: ¿Cuáles son y qué extensión tienen los efectos a largo plazo del experimento \"Moving to Oportunity\"?\n",
    "\n",
    "2. ¿Cuáles son las fortalezas y debilidades del enfoque del documento para responder a esa pregunta?\n",
    "\n",
    "Una fortaleza del artículo es que este tiene la ventaja de haber analizado el efecto a largo plazo de una medida. Así, pudo llegar a determinar los rangos de edad para los que el efecto de vivir en un mejor vecindario tendrá mayor significancia, y para qué rangos de edad, el hecho de vivir en un mejor lugar no tendrá repercusión alguna. A su vez, este enfoque permitió al experimento llegar a la conclusión de que, para aquellos participantes menores a 13 años al momento de la mudanzanda, los efectos positivos de haberse mudado a un mejor lugar serán replicados y aumentados en sus hijos y futuras generaciones. Sin embargo, este tipo de enfoque podría caer en una generalización errónea: que todo intento de relocalización tendrá siempre resultados positivos duraderos en las personas menores a 13 años al momento de la mudanza. Cabría preguntarse si, en países con mayor desigualdad, discriminación o clasismo, el hecho de vivir en un lugar mejor podría involucrar actitudes de hostigamiento hacia los niños recién mudados. Al mismo tiempo, cabría evaluar los sistemas de apoyo provistos por comunidades que, en reconocimiento de su precariedad y limitaciones, deciden llevar a cabo de manera conjunta; de esta manera, sería propicio determinar si los beneficios de vivir en un mejor vecindario, desprovistos de la ayuda comunitaria, podrían llegar a exeder las limitaciones. \n",
    "\n",
    "3. ¿Cómo avanza este documento el conocimiento sobre la pregunta, es decir, cuál es la contribución? (Si no puede encontrar ninguna contribución, pregúntese por qué el editor y los árbitros decidieron publicar el artículo).\n",
    "\n",
    "Como se mencionó en la anterior pregunta, este documento aporta respuestas de suma relevancia para la pregunta de investigación planteada. En primer lugar, logra establecer que, para los niños menores a 13 años al momento de la relocaclización, los efectos son múltiples: Mayores ingresos, mayor oportunidad de ingresar a la universidad, menor posibilidad de quedar en condición de padres solteros. A su vez, el documento encuentra que, para este rango de edad, algunos de los beneficios suelen replicarse en la siguiente generación. Por otro lado, el documento encuentra que, para los niños mayores a 13 años, los efectos son negativos, mientras que, para los padres y adultos, hay poca diferencia en cuanto al salario percibido luego de la mudanza. De esta manera, se concluye de manera certera que los beneficios de este experimento se limitan al desarrollo de la persona, y que estos van decreciendo a medida que la persona se va haciendo mayor.\n",
    "\n",
    "4. ¿Cuáles serían uno o dos próximos pasos específicos para avanzar en esta pregunta? (Lean otros artículos relacionados)\n",
    "\n",
    "Como mencionó el artículo, uno de los próximos pasos a seguir sería el de evaluar si los efectos del experimento serían aún mayores en niños de 0 a 3 años (grupo que, según los autores, no fue evaluado por el experimento). De esta manera, se podría aportar una mayor solidez a las concluciones establecidas: en caso los beneficios sean, efectivamente, mayores en cuanto menor sea la persona al momento de la mudanza. A su vez, cabría analizar con mayor detalle si la etnia a la cual pertenece la persona podría tener mayores implicancias sobre el efecto de mudarse a un mejor lugar. Como mencionaron D. Cutler y E. Glaeser en \"Are Ghettos Good or Bad?\", la presencia de espacios donde las minorías pueden congregarse permite que estos puedan proteger sus negocios emergentes de la competencia presentada por las empresas de la raza de mayor extensión en el territorio.\n",
    "\n",
    "Bibliografía\n",
    "\n",
    "Cutler, David M. and Edward L. Glaeser. 1997. “Are Ghettos Good or Bad?” Quarterly Journal of Economics, 112 (3): 827–72.\n",
    "\n",
    "Raj Chetty, Nathaniel Hendren, and Lawrence F. 2015. \"The Effects of Exposure to Better Neighborhoods on Children: New Evidence from the Moving to Opportunity Experiment\". Katz Harvard University and NBER.\n"
   ]
  }
 ],
 "metadata": {
  "kernelspec": {
   "display_name": "Python 3 (ipykernel)",
   "language": "python",
   "name": "python3"
  },
  "language_info": {
   "codemirror_mode": {
    "name": "ipython",
    "version": 3
   },
   "file_extension": ".py",
   "mimetype": "text/x-python",
   "name": "python",
   "nbconvert_exporter": "python",
   "pygments_lexer": "ipython3",
   "version": "3.9.12"
  }
 },
 "nbformat": 4,
 "nbformat_minor": 5
}
