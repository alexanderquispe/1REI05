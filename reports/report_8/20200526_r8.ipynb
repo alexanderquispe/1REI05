{
 "cells": [
  {
   "cell_type": "code",
   "execution_count": 1,
   "id": "f95320f1",
   "metadata": {},
   "outputs": [
    {
     "name": "stdout",
     "output_type": "stream",
     "text": [
      "Collecting linearmodels\n",
      "  Downloading linearmodels-4.27-cp39-cp39-win_amd64.whl (1.6 MB)\n",
      "Collecting setuptools-scm<7.0.0,>=6.4.2\n",
      "  Downloading setuptools_scm-6.4.2-py3-none-any.whl (37 kB)\n",
      "Collecting property-cached>=1.6.3\n",
      "  Downloading property_cached-1.6.4-py2.py3-none-any.whl (7.8 kB)\n",
      "Requirement already satisfied: scipy>=1.2 in d:\\anaconda\\lib\\site-packages (from linearmodels) (1.7.3)\n",
      "Requirement already satisfied: numpy>=1.16 in d:\\anaconda\\lib\\site-packages (from linearmodels) (1.21.5)\n",
      "Requirement already satisfied: statsmodels>=0.11 in d:\\anaconda\\lib\\site-packages (from linearmodels) (0.13.2)\n",
      "Collecting pyhdfe>=0.1\n",
      "  Downloading pyhdfe-0.1.0-py3-none-any.whl (18 kB)\n",
      "Collecting formulaic~=0.3.2\n",
      "  Downloading formulaic-0.3.4-py3-none-any.whl (68 kB)\n",
      "Requirement already satisfied: Cython>=0.29.21 in d:\\anaconda\\lib\\site-packages (from linearmodels) (0.29.28)\n",
      "Requirement already satisfied: pandas>=0.24 in d:\\anaconda\\lib\\site-packages (from linearmodels) (1.4.2)\n",
      "Requirement already satisfied: mypy-extensions>=0.4 in d:\\anaconda\\lib\\site-packages (from linearmodels) (0.4.3)\n",
      "Requirement already satisfied: wrapt>=1.0 in d:\\anaconda\\lib\\site-packages (from formulaic~=0.3.2->linearmodels) (1.12.1)\n",
      "Collecting interface-meta<2.0.0,>=1.2.0\n",
      "  Downloading interface_meta-1.3.0-py3-none-any.whl (14 kB)\n",
      "Collecting astor>=0.8\n",
      "  Downloading astor-0.8.1-py2.py3-none-any.whl (27 kB)\n",
      "Requirement already satisfied: python-dateutil>=2.8.1 in d:\\anaconda\\lib\\site-packages (from pandas>=0.24->linearmodels) (2.8.2)\n",
      "Requirement already satisfied: pytz>=2020.1 in d:\\anaconda\\lib\\site-packages (from pandas>=0.24->linearmodels) (2021.3)\n",
      "Requirement already satisfied: six>=1.5 in d:\\anaconda\\lib\\site-packages (from python-dateutil>=2.8.1->pandas>=0.24->linearmodels) (1.16.0)\n",
      "Requirement already satisfied: packaging>=20.0 in d:\\anaconda\\lib\\site-packages (from setuptools-scm<7.0.0,>=6.4.2->linearmodels) (21.3)\n",
      "Requirement already satisfied: setuptools in d:\\anaconda\\lib\\site-packages (from setuptools-scm<7.0.0,>=6.4.2->linearmodels) (61.2.0)\n",
      "Requirement already satisfied: tomli>=1.0.0 in d:\\anaconda\\lib\\site-packages (from setuptools-scm<7.0.0,>=6.4.2->linearmodels) (1.2.2)\n",
      "Requirement already satisfied: pyparsing!=3.0.5,>=2.0.2 in d:\\anaconda\\lib\\site-packages (from packaging>=20.0->setuptools-scm<7.0.0,>=6.4.2->linearmodels) (3.0.4)\n",
      "Requirement already satisfied: patsy>=0.5.2 in d:\\anaconda\\lib\\site-packages (from statsmodels>=0.11->linearmodels) (0.5.2)\n",
      "Installing collected packages: interface-meta, astor, setuptools-scm, pyhdfe, property-cached, formulaic, linearmodels\n",
      "Successfully installed astor-0.8.1 formulaic-0.3.4 interface-meta-1.3.0 linearmodels-4.27 property-cached-1.6.4 pyhdfe-0.1.0 setuptools-scm-6.4.2\n",
      "Note: you may need to restart the kernel to use updated packages.\n"
     ]
    }
   ],
   "source": [
    "pip install linearmodels"
   ]
  },
  {
   "cell_type": "code",
   "execution_count": 2,
   "id": "e9bc7bc3",
   "metadata": {},
   "outputs": [
    {
     "name": "stdout",
     "output_type": "stream",
     "text": [
      "Requirement already satisfied: seaborn in d:\\anaconda\\lib\\site-packages (0.11.2)\n",
      "Requirement already satisfied: matplotlib>=2.2 in d:\\anaconda\\lib\\site-packages (from seaborn) (3.5.1)\n",
      "Requirement already satisfied: scipy>=1.0 in d:\\anaconda\\lib\\site-packages (from seaborn) (1.7.3)\n",
      "Requirement already satisfied: pandas>=0.23 in d:\\anaconda\\lib\\site-packages (from seaborn) (1.4.2)\n",
      "Requirement already satisfied: numpy>=1.15 in d:\\anaconda\\lib\\site-packages (from seaborn) (1.21.5)\n",
      "Requirement already satisfied: pyparsing>=2.2.1 in d:\\anaconda\\lib\\site-packages (from matplotlib>=2.2->seaborn) (3.0.4)\n",
      "Requirement already satisfied: fonttools>=4.22.0 in d:\\anaconda\\lib\\site-packages (from matplotlib>=2.2->seaborn) (4.25.0)\n",
      "Requirement already satisfied: packaging>=20.0 in d:\\anaconda\\lib\\site-packages (from matplotlib>=2.2->seaborn) (21.3)\n",
      "Requirement already satisfied: kiwisolver>=1.0.1 in d:\\anaconda\\lib\\site-packages (from matplotlib>=2.2->seaborn) (1.3.2)\n",
      "Requirement already satisfied: python-dateutil>=2.7 in d:\\anaconda\\lib\\site-packages (from matplotlib>=2.2->seaborn) (2.8.2)\n",
      "Requirement already satisfied: cycler>=0.10 in d:\\anaconda\\lib\\site-packages (from matplotlib>=2.2->seaborn) (0.11.0)\n",
      "Requirement already satisfied: pillow>=6.2.0 in d:\\anaconda\\lib\\site-packages (from matplotlib>=2.2->seaborn) (9.0.1)\n",
      "Requirement already satisfied: pytz>=2020.1 in d:\\anaconda\\lib\\site-packages (from pandas>=0.23->seaborn) (2021.3)\n",
      "Requirement already satisfied: six>=1.5 in d:\\anaconda\\lib\\site-packages (from python-dateutil>=2.7->matplotlib>=2.2->seaborn) (1.16.0)\n",
      "Note: you may need to restart the kernel to use updated packages.\n"
     ]
    }
   ],
   "source": [
    "pip install seaborn"
   ]
  },
  {
   "cell_type": "code",
   "execution_count": 4,
   "id": "82d30109",
   "metadata": {},
   "outputs": [
    {
     "name": "stdout",
     "output_type": "stream",
     "text": [
      "Collecting plotnine\n",
      "  Downloading plotnine-0.10.1-py3-none-any.whl (1.2 MB)\n",
      "Requirement already satisfied: pandas>=1.3.5 in d:\\anaconda\\lib\\site-packages (from plotnine) (1.4.2)\n",
      "Collecting mizani>=0.8.1\n",
      "  Downloading mizani-0.8.1-py3-none-any.whl (64 kB)\n",
      "Requirement already satisfied: patsy>=0.5.1 in d:\\anaconda\\lib\\site-packages (from plotnine) (0.5.2)\n",
      "Requirement already satisfied: numpy>=1.19.0 in d:\\anaconda\\lib\\site-packages (from plotnine) (1.21.5)\n",
      "Requirement already satisfied: matplotlib>=3.5.0 in d:\\anaconda\\lib\\site-packages (from plotnine) (3.5.1)\n",
      "Requirement already satisfied: scipy>=1.5.0 in d:\\anaconda\\lib\\site-packages (from plotnine) (1.7.3)\n",
      "Requirement already satisfied: statsmodels>=0.13.2 in d:\\anaconda\\lib\\site-packages (from plotnine) (0.13.2)\n",
      "Requirement already satisfied: pillow>=6.2.0 in d:\\anaconda\\lib\\site-packages (from matplotlib>=3.5.0->plotnine) (9.0.1)\n",
      "Requirement already satisfied: cycler>=0.10 in d:\\anaconda\\lib\\site-packages (from matplotlib>=3.5.0->plotnine) (0.11.0)\n",
      "Requirement already satisfied: fonttools>=4.22.0 in d:\\anaconda\\lib\\site-packages (from matplotlib>=3.5.0->plotnine) (4.25.0)\n",
      "Requirement already satisfied: python-dateutil>=2.7 in d:\\anaconda\\lib\\site-packages (from matplotlib>=3.5.0->plotnine) (2.8.2)\n",
      "Requirement already satisfied: pyparsing>=2.2.1 in d:\\anaconda\\lib\\site-packages (from matplotlib>=3.5.0->plotnine) (3.0.4)\n",
      "Requirement already satisfied: kiwisolver>=1.0.1 in d:\\anaconda\\lib\\site-packages (from matplotlib>=3.5.0->plotnine) (1.3.2)\n",
      "Requirement already satisfied: packaging>=20.0 in d:\\anaconda\\lib\\site-packages (from matplotlib>=3.5.0->plotnine) (21.3)\n",
      "Collecting tzdata\n",
      "  Downloading tzdata-2022.6-py2.py3-none-any.whl (338 kB)\n",
      "Collecting palettable\n",
      "  Downloading palettable-3.3.0-py2.py3-none-any.whl (111 kB)\n",
      "Requirement already satisfied: pytz>=2020.1 in d:\\anaconda\\lib\\site-packages (from pandas>=1.3.5->plotnine) (2021.3)\n",
      "Requirement already satisfied: six in d:\\anaconda\\lib\\site-packages (from patsy>=0.5.1->plotnine) (1.16.0)\n",
      "Installing collected packages: tzdata, palettable, mizani, plotnine\n",
      "Successfully installed mizani-0.8.1 palettable-3.3.0 plotnine-0.10.1 tzdata-2022.6\n",
      "Note: you may need to restart the kernel to use updated packages.\n"
     ]
    }
   ],
   "source": [
    "pip install plotnine"
   ]
  },
  {
   "cell_type": "code",
   "execution_count": 55,
   "id": "c38674f5",
   "metadata": {},
   "outputs": [],
   "source": [
    "# pip install causalgraphicalmodels\n",
    "# pip install linearmodels\n",
    "\n",
    "from causalgraphicalmodels import CausalGraphicalModel\n",
    "import os\n",
    "import numpy as np \n",
    "import pandas as pd \n",
    "import statsmodels.api as sm \n",
    "import statsmodels.formula.api as smf \n",
    "from itertools import combinations \n",
    "import plotnine as p\n",
    "import statsmodels.api as sm\n",
    "import statsmodels.formula.api as smf\n",
    "import linearmodels.iv.model as lm\n",
    "from linearmodels.iv import IV2SLS\n",
    "from statsmodels.iolib.summary2 import summary_col\n",
    "import seaborn as sns"
   ]
  },
  {
   "cell_type": "markdown",
   "id": "bb477bd0",
   "metadata": {},
   "source": [
    "# Reporte 8\n",
    "\n",
    "Claudia Katherine Milla Rojas\n",
    "\n",
    "## Lectura\n",
    "\n",
    "El presente artículo de Melissa Dell estudia los impactos a largo plazo de la mita minera, un sistema de trabajo obligatorio llevado a cabo en 1573 por los españoles en el Perú. De esta forma, el texto responde a la siguiente pregunta de investigación: ¿Cuáles son los impactos que la mita minera pudo tener a largo plazo en el desarrollo económico peruano y cómo ello afectó a los actuales niveles de vida? \n",
    "\n",
    "Es así como a lo largo del texto se identifican múltiples fortalezas. En primer lugar, la delimitación espacial de la investigación. En este sentido, observamos que se concentra específicamente en la zona que atraviesa la cordillera de los Andes al sur del Perú. Con ello, la autora identifica que la asignación a la mita es diferente por cada distrito y emplea dos criterios para ello: la altitud y la distancia a las minas de Potosí. Con ello, a modo de contribución, observa que los distritos que no tuvieron mita fueron los más alejados de los centros mineros. La hipótesis planteada es que la creación de un sistema estable de tenencia de la tierra, que a su vez fomentó la provisión de bienes públicos, fue posible por la presencia a largo plazo de grandes terratenientes en los distritos que no tuvieron mita. Asimismo, para determinar los controles de las características geográficas exógenas la autora obtuvo la pendiente ponderada media y la altitud ponderada media de la zona de cada distrito. \n",
    "\n",
    "En segundo lugar, otra fortaleza es que la autora le da importancia a otros factores que podrían haber afectado en la asignación a la mita. Por ende, menciona que la regresión discontinua que se empleó requirió de dos supuestos, y para evaluar su plausibilidad se analizaron características como la altitud, la fertilidad del suelo, la etnicidad entre otros factores.\n",
    "\n",
    "En tercer lugar, resulta de gran utilidad la inclusión de una aproximación de regresión discontinua (RD), lo cual es un método cuasi-experimental que permite evaluar efectos causales, en este caso el impacto de la mita. Así, menciona que el límite de la mita genera una discontinuidad multidimensional, lo cual no es usualmente analizado en la regresión discontinua. Por ende, es interesante la forma en que se debe analizar y especificar el polinomio RD. Asimismo, al momento de su análisis la autora presenta otras fortalezas como el uso de fórmulas matemáticas y la explicación de las mismas, así como de las variables presentadas. En efecto, deja en claro a qué se refiere cada variable (si es una variable de interés, un vector, una variable demográfica, etc) y la relación entre ellas, lo cual hace el texto entendible para el lector. Cabe destacar que también se emplean diversos gráficos y cuadros que evidencian los datos a trabajar y, en algunos casos, los resultados. Un ejemplo de ello son los gráficos del punto 2, los cuales muestran los resultados obtenidos de la longitud y latitud, cada uno con sus respectivas leyendas y medidas.\n",
    "\n",
    "De igual forma, otra fortaleza sería la revisión histórica que realiza, pues supone una base de datos específicos y, por ende, una bibliografía exhaustiva de documentos históricos. En este caso, se utilizan datos sobre la mita minera, el imperio español y el Perú, lo cual incluso contribuye a las investigaciones sobre nuestro país. En base a ello, una de sus conclusiones es que la forma en la que se utiliza al Estado para dar forma a las interacciones a nivel económico puede ser un punto de partida para modelar el crecimiento a largo plazo de América Latina. Esto debido a que se observó un vínculo positivo entre el desarrollo económico actual y las haciendas históricas. De hecho, esto incluso es una contribución a la academia, puesto a que refuta la hipótesis tradicional que menciona que no se ha podido dar un crecimiento de latinoamérica debido a la desigualdad histórica en el acceso a la tierra. Con respecto a los datos utilizados, estos fueron recogidos de distintos censos nacionales, así como de investigaciones y proyectos (SRTM, Enaho, INEI, MINEDU, etc).  \n",
    "\n",
    "Por otro lado, es posible identificar otras contribuciones del artículo en base a sus hallazgos. En este sentido, la autora no solo realiza una revisión histórica, sino que utiliza estos datos junto con la aproximación RD para investigar los canales de la mita que persisten y afectan al desarrollo económico actual. De esta forma, se identificaron tres canales principales. Primero, se observó que las haciendas, en su mayoría, tuvieron un desarrollo geográficamente alejado de la mita. Segundo, se encontró que los distritos que estuvieron sujetos a la mita en la actualidad tienen un nivel menor de educación y aún no se les incluye del todo en la red de carreteras. Tercero, se determinó que el aumento de la persistencia de la agricultura de subsistencia es uno de los efectos a largo plazo de la mita. En otras palabras, se pudo observar que utilizó la variación exógena en la asignación de la mita para reconocer los canales mediante los que influye en el desarrollo económico contemporáneo y, así, responder a la pregunta de investigación.\n",
    "\n",
    "Asimismo, el artículo ofrece evidencia microeconómica al fijar un vínculo entre los resultados económicos actuales y las instituciones históricas a partir del uso de datos agregados. A su vez, estos datos refuerzan la hipótesis de que las instituciones extractivas históricas tienen impacto en el crecimiento económico a largo plazo. La aproximación de regresión discontinua junto a los datos de encuestas de hogares concluyeron que un efecto de largo plazo de la mita reduce actualmente el consumo doméstico en aproximadamente 25% en los distritos que estuvieron sujetos a la mita. Por ejemplo, en base al microcenso del MINEDU respecto al tamaño de los escolares, Dell menciona que la mita eleva el retraso en el crecimiento infantil en aproximadamente 6 puntos porcentuales. Esto debido a que consideró “con retraso de crecimiento” a aquellos niños que midan más de dos desviaciones estándar menos que la mediana apta para su edad (en base a los datos de referencia de la OMS). Sin embargo, se observa que este censo sólo analiza a los niños matriculados en los colegios con respecto a las tallas, por lo que considero aquello como una debilidad del texto. Al crear un vínculo entre el retraso del crecimiento y la desnutrición se está dejando de lado a los niños más pobres, quienes no tienen el dinero suficiente para inscribirse en una institución educativa y, por ende, tendrían incluso menos ingresos para una canasta básica de alimentos.\n",
    "\n",
    "Finalmente, otros estudios en la misma línea de investigación podrían basarse en el desarrollo de modelos generales de evolución institucional y la manera en que estas restricciones se ven influenciadas por las fuerzas que promueven el cambio. No obstante, también podrían investigarse acontecimientos del pasado que puedan haber tenido un impacto en la vida actual de las personas. Un claro ejemplo de ello es el estudio de Paola Sulca (2019), quien en su estudio titulado “¿Pueden los shocks idiosincráticos explicar la demanda por seguros en el Perú?” se encargó de identificar si la experiencia previa de los shocks idiosincráticos pasados impactó de alguna forma en la tenencia de seguros en el caso peruano. Así, halló conclusiones tales como que la clase de seguro afectado dependía del shock que se había experimentado.\n"
   ]
  },
  {
   "cell_type": "markdown",
   "id": "c10bbebe",
   "metadata": {},
   "source": [
    "## Código"
   ]
  },
  {
   "cell_type": "markdown",
   "id": "5c7809fb",
   "metadata": {},
   "source": [
    "### Variables Instrumentales"
   ]
  },
  {
   "cell_type": "markdown",
   "id": "9367a3e2",
   "metadata": {},
   "source": [
    "1. Para esta primera sección deben darle una leida a The Effect Book principalmente al capitulo de Instrumental Variables.\n",
    "\n",
    "- Explique en qué consiste el supuesto de \"Relevance\"\n",
    "- Explique en qué consiste el supuesto de \"Validity\"\n",
    "\n",
    "Ambos supuestos son necesarios para que las variables instrumentales funcionen. Por un lado, el supuesto de relevancia del instrumento consiste en que la variable $X$ debe tener una relación con el instrumento $Z$, ya que de no ser así las variables instrumentales no funcionan puesto a que en las variables instrumentales se usa la parte $X$ (el tratamiento) que es explicada por $Z$ (el instrumento). De esta forma, se entiende que habrá más confianza en la suposición de relevancia mientras más fuerte sea la relación entre $X$ y $Z$, pero también saltará menos la estimación de una muestra a otra. \n",
    "\n",
    "Por otro lado, el supuesto de la validez del instrumento consiste en la suposición de que el instrumento $Z$ es una variable que no tiene puertas abiertas propias, ya que si cualquier procedimiento que se realice entre el instrumento $Z$ y el resultado $Y$ debe pasar por el tratamiento $X$. Por ende, se le considera como el supuesto más tenso de los dos. De manera intuitiva, se podría entender de la siguiente manera:\n",
    "$$ Z → X → Y$$\n",
    "$$ Z → X ← A → Y $$\n",
    "$$ Z ← C → X ← D → Y $$\n",
    "\n",
    "\n",
    "\n"
   ]
  },
  {
   "cell_type": "markdown",
   "id": "cb6ee441",
   "metadata": {},
   "source": [
    "### Ploteo de Histogramas"
   ]
  },
  {
   "cell_type": "markdown",
   "id": "bcf56ff2",
   "metadata": {},
   "source": [
    "2. Tomando en cuenta que la variable nearc4 representa si existe un college en el county debe realizar los siguientes ploteos de histogramas.\n",
    "\n",
    "- Grafique dos histogramas para la variable años de educación educ para cuando nearc4 == 1, y cuando nearc4 == 0. Compare y describa los patrones que encuentra.\n"
   ]
  },
  {
   "cell_type": "code",
   "execution_count": 68,
   "id": "c297b806",
   "metadata": {
    "scrolled": true
   },
   "outputs": [
    {
     "data": {
      "text/html": [
       "<div>\n",
       "<style scoped>\n",
       "    .dataframe tbody tr th:only-of-type {\n",
       "        vertical-align: middle;\n",
       "    }\n",
       "\n",
       "    .dataframe tbody tr th {\n",
       "        vertical-align: top;\n",
       "    }\n",
       "\n",
       "    .dataframe thead th {\n",
       "        text-align: right;\n",
       "    }\n",
       "</style>\n",
       "<table border=\"1\" class=\"dataframe\">\n",
       "  <thead>\n",
       "    <tr style=\"text-align: right;\">\n",
       "      <th></th>\n",
       "      <th>id</th>\n",
       "      <th>nearc2</th>\n",
       "      <th>nearc4</th>\n",
       "      <th>educ</th>\n",
       "      <th>age</th>\n",
       "      <th>fatheduc</th>\n",
       "      <th>motheduc</th>\n",
       "      <th>weight</th>\n",
       "      <th>momdad14</th>\n",
       "      <th>sinmom14</th>\n",
       "      <th>...</th>\n",
       "      <th>KWW</th>\n",
       "      <th>IQ</th>\n",
       "      <th>married</th>\n",
       "      <th>libcrd14</th>\n",
       "      <th>exper</th>\n",
       "      <th>lwage</th>\n",
       "      <th>expersq</th>\n",
       "      <th>u_lwage</th>\n",
       "      <th>lwage_hat</th>\n",
       "      <th>u_educ</th>\n",
       "    </tr>\n",
       "  </thead>\n",
       "  <tbody>\n",
       "    <tr>\n",
       "      <th>0</th>\n",
       "      <td>2.0</td>\n",
       "      <td>0.0</td>\n",
       "      <td>0.0</td>\n",
       "      <td>7.0</td>\n",
       "      <td>29.0</td>\n",
       "      <td>NaN</td>\n",
       "      <td>NaN</td>\n",
       "      <td>158413.0</td>\n",
       "      <td>1.0</td>\n",
       "      <td>0.0</td>\n",
       "      <td>...</td>\n",
       "      <td>15.0</td>\n",
       "      <td>NaN</td>\n",
       "      <td>1.0</td>\n",
       "      <td>0.0</td>\n",
       "      <td>16.0</td>\n",
       "      <td>6.306275</td>\n",
       "      <td>256.0</td>\n",
       "      <td>0.198047</td>\n",
       "      <td>6.108228</td>\n",
       "      <td>-3.067539</td>\n",
       "    </tr>\n",
       "    <tr>\n",
       "      <th>1</th>\n",
       "      <td>3.0</td>\n",
       "      <td>0.0</td>\n",
       "      <td>0.0</td>\n",
       "      <td>12.0</td>\n",
       "      <td>27.0</td>\n",
       "      <td>8.0</td>\n",
       "      <td>8.0</td>\n",
       "      <td>380166.0</td>\n",
       "      <td>1.0</td>\n",
       "      <td>0.0</td>\n",
       "      <td>...</td>\n",
       "      <td>35.0</td>\n",
       "      <td>93.0</td>\n",
       "      <td>1.0</td>\n",
       "      <td>1.0</td>\n",
       "      <td>9.0</td>\n",
       "      <td>6.175867</td>\n",
       "      <td>81.0</td>\n",
       "      <td>-0.211160</td>\n",
       "      <td>6.387027</td>\n",
       "      <td>-1.727562</td>\n",
       "    </tr>\n",
       "    <tr>\n",
       "      <th>2</th>\n",
       "      <td>4.0</td>\n",
       "      <td>0.0</td>\n",
       "      <td>0.0</td>\n",
       "      <td>12.0</td>\n",
       "      <td>34.0</td>\n",
       "      <td>14.0</td>\n",
       "      <td>12.0</td>\n",
       "      <td>367470.0</td>\n",
       "      <td>1.0</td>\n",
       "      <td>0.0</td>\n",
       "      <td>...</td>\n",
       "      <td>42.0</td>\n",
       "      <td>103.0</td>\n",
       "      <td>1.0</td>\n",
       "      <td>1.0</td>\n",
       "      <td>16.0</td>\n",
       "      <td>6.580639</td>\n",
       "      <td>256.0</td>\n",
       "      <td>0.204719</td>\n",
       "      <td>6.375920</td>\n",
       "      <td>1.012975</td>\n",
       "    </tr>\n",
       "    <tr>\n",
       "      <th>3</th>\n",
       "      <td>5.0</td>\n",
       "      <td>1.0</td>\n",
       "      <td>1.0</td>\n",
       "      <td>11.0</td>\n",
       "      <td>27.0</td>\n",
       "      <td>11.0</td>\n",
       "      <td>12.0</td>\n",
       "      <td>380166.0</td>\n",
       "      <td>1.0</td>\n",
       "      <td>0.0</td>\n",
       "      <td>...</td>\n",
       "      <td>25.0</td>\n",
       "      <td>88.0</td>\n",
       "      <td>1.0</td>\n",
       "      <td>1.0</td>\n",
       "      <td>10.0</td>\n",
       "      <td>5.521461</td>\n",
       "      <td>100.0</td>\n",
       "      <td>-0.967905</td>\n",
       "      <td>6.489366</td>\n",
       "      <td>-2.253536</td>\n",
       "    </tr>\n",
       "    <tr>\n",
       "      <th>4</th>\n",
       "      <td>6.0</td>\n",
       "      <td>1.0</td>\n",
       "      <td>1.0</td>\n",
       "      <td>12.0</td>\n",
       "      <td>34.0</td>\n",
       "      <td>8.0</td>\n",
       "      <td>7.0</td>\n",
       "      <td>367470.0</td>\n",
       "      <td>1.0</td>\n",
       "      <td>0.0</td>\n",
       "      <td>...</td>\n",
       "      <td>34.0</td>\n",
       "      <td>108.0</td>\n",
       "      <td>1.0</td>\n",
       "      <td>0.0</td>\n",
       "      <td>16.0</td>\n",
       "      <td>6.591674</td>\n",
       "      <td>256.0</td>\n",
       "      <td>0.125173</td>\n",
       "      <td>6.466501</td>\n",
       "      <td>1.090437</td>\n",
       "    </tr>\n",
       "  </tbody>\n",
       "</table>\n",
       "<p>5 rows × 37 columns</p>\n",
       "</div>"
      ],
      "text/plain": [
       "    id  nearc2  nearc4  educ   age  fatheduc  motheduc    weight  momdad14  \\\n",
       "0  2.0     0.0     0.0   7.0  29.0       NaN       NaN  158413.0       1.0   \n",
       "1  3.0     0.0     0.0  12.0  27.0       8.0       8.0  380166.0       1.0   \n",
       "2  4.0     0.0     0.0  12.0  34.0      14.0      12.0  367470.0       1.0   \n",
       "3  5.0     1.0     1.0  11.0  27.0      11.0      12.0  380166.0       1.0   \n",
       "4  6.0     1.0     1.0  12.0  34.0       8.0       7.0  367470.0       1.0   \n",
       "\n",
       "   sinmom14  ...   KWW     IQ  married  libcrd14  exper     lwage  expersq  \\\n",
       "0       0.0  ...  15.0    NaN      1.0       0.0   16.0  6.306275    256.0   \n",
       "1       0.0  ...  35.0   93.0      1.0       1.0    9.0  6.175867     81.0   \n",
       "2       0.0  ...  42.0  103.0      1.0       1.0   16.0  6.580639    256.0   \n",
       "3       0.0  ...  25.0   88.0      1.0       1.0   10.0  5.521461    100.0   \n",
       "4       0.0  ...  34.0  108.0      1.0       0.0   16.0  6.591674    256.0   \n",
       "\n",
       "    u_lwage  lwage_hat    u_educ  \n",
       "0  0.198047   6.108228 -3.067539  \n",
       "1 -0.211160   6.387027 -1.727562  \n",
       "2  0.204719   6.375920  1.012975  \n",
       "3 -0.967905   6.489366 -2.253536  \n",
       "4  0.125173   6.466501  1.090437  \n",
       "\n",
       "[5 rows x 37 columns]"
      ]
     },
     "execution_count": 68,
     "metadata": {},
     "output_type": "execute_result"
    }
   ],
   "source": [
    "# load data\n",
    "\n",
    "import ssl\n",
    "ssl._create_default_https_context = ssl._create_unverified_context\n",
    "\n",
    "def read_data(file): \n",
    "    return pd.read_stata(\"https://raw.github.com/scunning1975/mixtape/master/\" + file)\n",
    "\n",
    "data = read_data(\"card.dta\")\n",
    "data.head()"
   ]
  },
  {
   "cell_type": "code",
   "execution_count": 83,
   "id": "275102f3",
   "metadata": {
    "scrolled": true
   },
   "outputs": [
    {
     "data": {
      "text/plain": [
       "<seaborn.axisgrid.FacetGrid at 0x15865034ca0>"
      ]
     },
     "execution_count": 83,
     "metadata": {},
     "output_type": "execute_result"
    },
    {
     "data": {
      "image/png": "[encoded data removed]",
      "text/plain": [
       "<Figure size 720x360 with 2 Axes>"
      ]
     },
     "metadata": {
      "needs_background": "light"
     },
     "output_type": "display_data"
    }
   ],
   "source": [
    "sns.displot(data, x = \"educ\", col = \"nearc4\")"
   ]
  },
  {
   "cell_type": "markdown",
   "id": "10301d23",
   "metadata": {},
   "source": [
    "Interpretación: Se puede observar que los valores que toma la variable de educación van de 2.5 a 17.5. Asimismo, teniendo en cuenta que la variable nearc4 se refiere a qué tan próximo los hombres vive de la universidad, el valor de 0 representa a quienes viven lejos y el 1 a quienes viven cerca. Por ende, se entiende que las personas que viven lejos han tenido un menor nivel de educación en comparación a quienes viven más cercanos a universidades."
   ]
  },
  {
   "cell_type": "markdown",
   "id": "edeb6862",
   "metadata": {},
   "source": [
    "- Grafique dos histogramas para la variable años del logaritmos de los ingresos lwage para cuando nearc4 == 1, y cuando nearc4 == 0. Compare y describa los patrones que encuentra."
   ]
  },
  {
   "cell_type": "code",
   "execution_count": 84,
   "id": "5fd3e441",
   "metadata": {
    "scrolled": true
   },
   "outputs": [
    {
     "data": {
      "text/plain": [
       "<seaborn.axisgrid.FacetGrid at 0x15865e26eb0>"
      ]
     },
     "execution_count": 84,
     "metadata": {},
     "output_type": "execute_result"
    },
    {
     "data": {
      "image/png": "[encoded data removed]",
      "text/plain": [
       "<Figure size 720x360 with 2 Axes>"
      ]
     },
     "metadata": {
      "needs_background": "light"
     },
     "output_type": "display_data"
    }
   ],
   "source": [
    "sns.displot(data, x = \"lwage\", col = \"nearc4\")"
   ]
  },
  {
   "cell_type": "markdown",
   "id": "a5b77a6a",
   "metadata": {},
   "source": [
    "Interpretación: Se puede observar que los valores que toma el logaritmo del salario van de 4.5 a 7.5. Por ende, basándonos en la misma lógica anteriormente descrita, se entiende que las personas que viven más lejos de las universidades (cuando nearc4 es 0) tienen ingresos menores en comparación a quienes viven más cerca (cuando nearc4 es 1).\n"
   ]
  },
  {
   "cell_type": "markdown",
   "id": "8a0e967f",
   "metadata": {},
   "source": [
    "### Regresiones"
   ]
  },
  {
   "cell_type": "markdown",
   "id": "6d63529c",
   "metadata": {},
   "source": [
    "3. Ahora van a replicar las regresiones que hicimos en clase pero el instrumento Z ya no será nearc4 sino nearc2 .\n",
    "\n",
    "- Corran una regresion lineal del tipo \"lwage ~ educ + exper + black + south + married + smsa\", y expliquen los resultados que encuentran."
   ]
  },
  {
   "cell_type": "code",
   "execution_count": 86,
   "id": "3101dea7",
   "metadata": {
    "scrolled": false
   },
   "outputs": [
    {
     "data": {
      "text/html": [
       "<table class=\"simpletable\">\n",
       "<caption>OLS Regression Results</caption>\n",
       "<tr>\n",
       "  <th>Dep. Variable:</th>          <td>lwage</td>      <th>  R-squared:         </th> <td>   0.305</td> \n",
       "</tr>\n",
       "<tr>\n",
       "  <th>Model:</th>                   <td>OLS</td>       <th>  Adj. R-squared:    </th> <td>   0.304</td> \n",
       "</tr>\n",
       "<tr>\n",
       "  <th>Method:</th>             <td>Least Squares</td>  <th>  F-statistic:       </th> <td>   219.2</td> \n",
       "</tr>\n",
       "<tr>\n",
       "  <th>Date:</th>             <td>Wed, 09 Nov 2022</td> <th>  Prob (F-statistic):</th> <td>1.97e-232</td>\n",
       "</tr>\n",
       "<tr>\n",
       "  <th>Time:</th>                 <td>15:46:44</td>     <th>  Log-Likelihood:    </th> <td> -1273.9</td> \n",
       "</tr>\n",
       "<tr>\n",
       "  <th>No. Observations:</th>      <td>  3003</td>      <th>  AIC:               </th> <td>   2562.</td> \n",
       "</tr>\n",
       "<tr>\n",
       "  <th>Df Residuals:</th>          <td>  2996</td>      <th>  BIC:               </th> <td>   2604.</td> \n",
       "</tr>\n",
       "<tr>\n",
       "  <th>Df Model:</th>              <td>     6</td>      <th>                     </th>     <td> </td>    \n",
       "</tr>\n",
       "<tr>\n",
       "  <th>Covariance Type:</th>      <td>nonrobust</td>    <th>                     </th>     <td> </td>    \n",
       "</tr>\n",
       "</table>\n",
       "<table class=\"simpletable\">\n",
       "<tr>\n",
       "      <td></td>         <th>coef</th>     <th>std err</th>      <th>t</th>      <th>P>|t|</th>  <th>[0.025</th>    <th>0.975]</th>  \n",
       "</tr>\n",
       "<tr>\n",
       "  <th>Intercept</th> <td>    5.0633</td> <td>    0.064</td> <td>   79.437</td> <td> 0.000</td> <td>    4.938</td> <td>    5.188</td>\n",
       "</tr>\n",
       "<tr>\n",
       "  <th>educ</th>      <td>    0.0712</td> <td>    0.003</td> <td>   20.438</td> <td> 0.000</td> <td>    0.064</td> <td>    0.078</td>\n",
       "</tr>\n",
       "<tr>\n",
       "  <th>exper</th>     <td>    0.0342</td> <td>    0.002</td> <td>   15.422</td> <td> 0.000</td> <td>    0.030</td> <td>    0.038</td>\n",
       "</tr>\n",
       "<tr>\n",
       "  <th>black</th>     <td>   -0.1660</td> <td>    0.018</td> <td>   -9.426</td> <td> 0.000</td> <td>   -0.201</td> <td>   -0.131</td>\n",
       "</tr>\n",
       "<tr>\n",
       "  <th>south</th>     <td>   -0.1316</td> <td>    0.015</td> <td>   -8.788</td> <td> 0.000</td> <td>   -0.161</td> <td>   -0.102</td>\n",
       "</tr>\n",
       "<tr>\n",
       "  <th>married</th>   <td>   -0.0359</td> <td>    0.003</td> <td>  -10.547</td> <td> 0.000</td> <td>   -0.043</td> <td>   -0.029</td>\n",
       "</tr>\n",
       "<tr>\n",
       "  <th>smsa</th>      <td>    0.1758</td> <td>    0.015</td> <td>   11.372</td> <td> 0.000</td> <td>    0.145</td> <td>    0.206</td>\n",
       "</tr>\n",
       "</table>\n",
       "<table class=\"simpletable\">\n",
       "<tr>\n",
       "  <th>Omnibus:</th>       <td>53.196</td> <th>  Durbin-Watson:     </th> <td>   1.858</td>\n",
       "</tr>\n",
       "<tr>\n",
       "  <th>Prob(Omnibus):</th> <td> 0.000</td> <th>  Jarque-Bera (JB):  </th> <td>  69.430</td>\n",
       "</tr>\n",
       "<tr>\n",
       "  <th>Skew:</th>          <td>-0.231</td> <th>  Prob(JB):          </th> <td>8.38e-16</td>\n",
       "</tr>\n",
       "<tr>\n",
       "  <th>Kurtosis:</th>      <td> 3.584</td> <th>  Cond. No.          </th> <td>    154.</td>\n",
       "</tr>\n",
       "</table><br/><br/>Notes:<br/>[1] Standard Errors assume that the covariance matrix of the errors is correctly specified."
      ],
      "text/plain": [
       "<class 'statsmodels.iolib.summary.Summary'>\n",
       "\"\"\"\n",
       "                            OLS Regression Results                            \n",
       "==============================================================================\n",
       "Dep. Variable:                  lwage   R-squared:                       0.305\n",
       "Model:                            OLS   Adj. R-squared:                  0.304\n",
       "Method:                 Least Squares   F-statistic:                     219.2\n",
       "Date:                Wed, 09 Nov 2022   Prob (F-statistic):          1.97e-232\n",
       "Time:                        15:46:44   Log-Likelihood:                -1273.9\n",
       "No. Observations:                3003   AIC:                             2562.\n",
       "Df Residuals:                    2996   BIC:                             2604.\n",
       "Df Model:                           6                                         \n",
       "Covariance Type:            nonrobust                                         \n",
       "==============================================================================\n",
       "                 coef    std err          t      P>|t|      [0.025      0.975]\n",
       "------------------------------------------------------------------------------\n",
       "Intercept      5.0633      0.064     79.437      0.000       4.938       5.188\n",
       "educ           0.0712      0.003     20.438      0.000       0.064       0.078\n",
       "exper          0.0342      0.002     15.422      0.000       0.030       0.038\n",
       "black         -0.1660      0.018     -9.426      0.000      -0.201      -0.131\n",
       "south         -0.1316      0.015     -8.788      0.000      -0.161      -0.102\n",
       "married       -0.0359      0.003    -10.547      0.000      -0.043      -0.029\n",
       "smsa           0.1758      0.015     11.372      0.000       0.145       0.206\n",
       "==============================================================================\n",
       "Omnibus:                       53.196   Durbin-Watson:                   1.858\n",
       "Prob(Omnibus):                  0.000   Jarque-Bera (JB):               69.430\n",
       "Skew:                          -0.231   Prob(JB):                     8.38e-16\n",
       "Kurtosis:                       3.584   Cond. No.                         154.\n",
       "==============================================================================\n",
       "\n",
       "Notes:\n",
       "[1] Standard Errors assume that the covariance matrix of the errors is correctly specified.\n",
       "\"\"\""
      ]
     },
     "execution_count": 86,
     "metadata": {},
     "output_type": "execute_result"
    }
   ],
   "source": [
    "#OLS\n",
    "ols_reg = sm.OLS.from_formula(\"lwage ~ educ + exper + black + south + married + smsa\", \n",
    "              data = data).fit()\n",
    "\n",
    "ols_reg.summary()"
   ]
  },
  {
   "cell_type": "markdown",
   "id": "714a095c",
   "metadata": {},
   "source": [
    "Interpretación: Se puede observar que, en términos de correlación, todas las variables son estadísticamente significativas, ya que el p-value es menor a 0.05. Asimismo, con respecto a el coeficiente relacionado a educación se obtiene que un año extra de educación me origina 0.07 veces unidades logaritmicas de salario. "
   ]
  },
  {
   "cell_type": "markdown",
   "id": "ab7b350e",
   "metadata": {},
   "source": [
    "- Corran una regresion de tipo IV(usando el paquete IV2SLS) donde van a instrumentalizar la variable educ con nearc2 . La regressión debería tener una forma de este tipo \"lwage ~ 1 + exper + black + south + married + smsa + [educ ~ nearc4 ]\". Compare los resultados encontrados en la regresión de arriba. Cambió el coeficiente relacionado a educ , ¿por qué?"
   ]
  },
  {
   "cell_type": "code",
   "execution_count": 88,
   "id": "0829d77b",
   "metadata": {},
   "outputs": [
    {
     "name": "stderr",
     "output_type": "stream",
     "text": [
      "D:\\Anaconda\\lib\\site-packages\\linearmodels\\iv\\model.py:543: MissingValueWarning: \n",
      "Inputs contain missing values. Dropping rows with missing observations.\n"
     ]
    },
    {
     "data": {
      "text/html": [
       "<table class=\"simpletable\">\n",
       "<caption>IV-2SLS Estimation Summary</caption>\n",
       "<tr>\n",
       "  <th>Dep. Variable:</th>          <td>lwage</td>      <th>  R-squared:         </th> <td>-1.2536</td>\n",
       "</tr>\n",
       "<tr>\n",
       "  <th>Estimator:</th>             <td>IV-2SLS</td>     <th>  Adj. R-squared:    </th> <td>-1.2581</td>\n",
       "</tr>\n",
       "<tr>\n",
       "  <th>No. Observations:</th>       <td>3003</td>       <th>  F-statistic:       </th> <td>296.29</td> \n",
       "</tr>\n",
       "<tr>\n",
       "  <th>Date:</th>             <td>Wed, Nov 09 2022</td> <th>  P-value (F-stat)   </th> <td>0.0000</td> \n",
       "</tr>\n",
       "<tr>\n",
       "  <th>Time:</th>                 <td>15:47:55</td>     <th>  Distribution:      </th> <td>chi2(6)</td>\n",
       "</tr>\n",
       "<tr>\n",
       "  <th>Cov. Estimator:</th>        <td>robust</td>      <th>                     </th>    <td></td>    \n",
       "</tr>\n",
       "<tr>\n",
       "  <th></th>                          <td></td>         <th>                     </th>    <td></td>    \n",
       "</tr>\n",
       "</table>\n",
       "<table class=\"simpletable\">\n",
       "<caption>Parameter Estimates</caption>\n",
       "<tr>\n",
       "      <td></td>      <th>Parameter</th> <th>Std. Err.</th> <th>T-stat</th>  <th>P-value</th> <th>Lower CI</th> <th>Upper CI</th>\n",
       "</tr>\n",
       "<tr>\n",
       "  <th>Intercept</th>  <td>0.2107</td>    <td>3.1235</td>   <td>0.0675</td>  <td>0.9462</td>   <td>-5.9112</td>  <td>6.3327</td> \n",
       "</tr>\n",
       "<tr>\n",
       "  <th>black</th>      <td>0.1051</td>    <td>0.1786</td>   <td>0.5888</td>  <td>0.5560</td>   <td>-0.2449</td>  <td>0.4552</td> \n",
       "</tr>\n",
       "<tr>\n",
       "  <th>exper</th>      <td>0.1496</td>    <td>0.0744</td>   <td>2.0111</td>  <td>0.0443</td>   <td>0.0038</td>   <td>0.2954</td> \n",
       "</tr>\n",
       "<tr>\n",
       "  <th>married</th>    <td>-0.0149</td>   <td>0.0149</td>   <td>-0.9965</td> <td>0.3190</td>   <td>-0.0442</td>  <td>0.0144</td> \n",
       "</tr>\n",
       "<tr>\n",
       "  <th>smsa</th>       <td>0.0245</td>    <td>0.1018</td>   <td>0.2410</td>  <td>0.8095</td>   <td>-0.1749</td>  <td>0.2240</td> \n",
       "</tr>\n",
       "<tr>\n",
       "  <th>south</th>      <td>-0.0325</td>   <td>0.0689</td>   <td>-0.4719</td> <td>0.6370</td>   <td>-0.1675</td>  <td>0.1025</td> \n",
       "</tr>\n",
       "<tr>\n",
       "  <th>educ</th>       <td>0.3566</td>    <td>0.1837</td>   <td>1.9410</td>  <td>0.0523</td>   <td>-0.0035</td>  <td>0.7167</td> \n",
       "</tr>\n",
       "</table><br/><br/>Endogenous: educ<br/>Instruments: nearc2<br/>Robust Covariance (Heteroskedastic)<br/>Debiased: False"
      ],
      "text/plain": [
       "<class 'linearmodels.compat.statsmodels.Summary'>\n",
       "\"\"\"\n",
       "                          IV-2SLS Estimation Summary                          \n",
       "==============================================================================\n",
       "Dep. Variable:                  lwage   R-squared:                     -1.2536\n",
       "Estimator:                    IV-2SLS   Adj. R-squared:                -1.2581\n",
       "No. Observations:                3003   F-statistic:                    296.29\n",
       "Date:                Wed, Nov 09 2022   P-value (F-stat)                0.0000\n",
       "Time:                        15:47:55   Distribution:                  chi2(6)\n",
       "Cov. Estimator:                robust                                         \n",
       "                                                                              \n",
       "                             Parameter Estimates                              \n",
       "==============================================================================\n",
       "            Parameter  Std. Err.     T-stat    P-value    Lower CI    Upper CI\n",
       "------------------------------------------------------------------------------\n",
       "Intercept      0.2107     3.1235     0.0675     0.9462     -5.9112      6.3327\n",
       "black          0.1051     0.1786     0.5888     0.5560     -0.2449      0.4552\n",
       "exper          0.1496     0.0744     2.0111     0.0443      0.0038      0.2954\n",
       "married       -0.0149     0.0149    -0.9965     0.3190     -0.0442      0.0144\n",
       "smsa           0.0245     0.1018     0.2410     0.8095     -0.1749      0.2240\n",
       "south         -0.0325     0.0689    -0.4719     0.6370     -0.1675      0.1025\n",
       "educ           0.3566     0.1837     1.9410     0.0523     -0.0035      0.7167\n",
       "==============================================================================\n",
       "\n",
       "Endogenous: educ\n",
       "Instruments: nearc2\n",
       "Robust Covariance (Heteroskedastic)\n",
       "Debiased: False\n",
       "\"\"\""
      ]
     },
     "execution_count": 88,
     "metadata": {},
     "output_type": "execute_result"
    }
   ],
   "source": [
    "#2SLS\n",
    "iv_reg = IV2SLS.from_formula(\"lwage ~  1 + exper + black + south + married + smsa + [educ ~ nearc2 ]\", data).fit()\n",
    "iv_reg.summary"
   ]
  },
  {
   "cell_type": "markdown",
   "id": "a44d1f09",
   "metadata": {},
   "source": [
    "Interpretación: \n",
    "\n",
    "En la regresión de tipo OLS, se pudo observar al coeficiente relacionado a educ con un valor de 0.0712, mientras que en la regresión de tipo 2SLS se pudo obtener el mismo coeficiente con un valor de 0.3566. Es decir, se puede evidenciar un aumento del coeficiente con la regresión de tipo de 2SLS. Asimismo, a diferencia del primer caso (OLS), en el segundo (2SLS) se observa que no es estadisticamente significativo, pues el p-value es mayor a 0.05. En efecto, tiene un valor de 0.0523. \n",
    "\n",
    "En conclusión, utilizando el instrumento hemos encontrado que el efecto que tiene la educación sobre los salarios es mucho más grande. Este se incrementó debido a que hemos instrumentalizado a la variable educación por la distancia a la que vivimos de la universidad. De esta forma, utilizando un instrumento podemos limpiar el problema de endogeneidad que se presenta en la variable \"educación\" y, a partir de ello, descubrir la relación causal que existe en la educación sobre el nivel de los salarios. En este caso, se ha demostrado que el coeficiente es alrededor de 400% más grande.\n",
    "\n"
   ]
  },
  {
   "cell_type": "code",
   "execution_count": null,
   "id": "ce6f0fb5",
   "metadata": {},
   "outputs": [],
   "source": []
  }
 ],
 "metadata": {
  "kernelspec": {
   "display_name": "Python 3 (ipykernel)",
   "language": "python",
   "name": "python3"
  },
  "language_info": {
   "codemirror_mode": {
    "name": "ipython",
    "version": 3
   },
   "file_extension": ".py",
   "mimetype": "text/x-python",
   "name": "python",
   "nbconvert_exporter": "python",
   "pygments_lexer": "ipython3",
   "version": "3.9.12"
  }
 },
 "nbformat": 4,
 "nbformat_minor": 5
}
