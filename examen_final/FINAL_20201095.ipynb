{
 "cells": [
  {
   "cell_type": "markdown",
   "id": "a84f7763",
   "metadata": {},
   "source": [
    "## EXAMEN FINAL\n",
    "### SOFIA DAGER\n",
    "### 20201095"
   ]
  },
  {
   "cell_type": "code",
   "execution_count": 8,
   "id": "449fa236",
   "metadata": {},
   "outputs": [],
   "source": [
    "from causalgraphicalmodels import CausalGraphicalModel\n",
    "import os\n",
    "import numpy as np \n",
    "import pandas as pd \n",
    "import statsmodels.api as sm \n",
    "import statsmodels.formula.api as smf \n",
    "from itertools import combinations \n",
    "import plotnine as p\n",
    "import statsmodels.api as sm\n",
    "import statsmodels.formula.api as smf\n",
    "import linearmodels.iv.model as lm\n",
    "from linearmodels.iv import IV2SLS\n",
    "from statsmodels.iolib.summary2 import summary_col\n",
    "import seaborn as sns\n"
   ]
  },
  {
   "cell_type": "markdown",
   "id": "7e63eae5",
   "metadata": {},
   "source": [
    "### PARTE 1: TEORÍA"
   ]
  },
  {
   "cell_type": "markdown",
   "id": "3f615ffa",
   "metadata": {},
   "source": [
    "### 1. (3 puntos) Instrumental Variables (IV)\n",
    "\n",
    "Suponga que estamos interesados en estudiar la relación entre educación (X) y el nivel de ingresos (Y).\n",
    "Un investigador propone utilizar como variable instrumental (Z) el numero de horas que una persona utilizó para ver televisión cuando era niño.\n",
    "\n",
    "**a) Indetifique todos los elementos necesarios para implementar un enfoque de IV en este ejemplo.**\n",
    "\n",
    "* Para poder implementar un enfoque IV en este ejemplo se necesitan los siguientes elementos:\n",
    "  - Z no está correlacionada con el error del modelo: C(Z,e) = 0\n",
    "  - Z está correlacionada con la variable endógena C(Z; X) ≠ 0\n",
    "  - se debe satisfacer la relevancia y la exclusión. \n",
    "* Necesitamos tener las variables X, Y y Z que ya nos han sido entregadas y verificar con la ayuda de lo expuesto anteriomente, si es que la variable Z será válida y puede usarse. \n",
    "\n",
    "**b) Explique el procedimiento para encontrar el efecto causal en este escenario. Puede utilizar ecuaciones**\n",
    "\n",
    "* Recordemos el backdoor pathway. Hay un pathway de $Z$ a $Y$ a través de $X$. Si $Z$ varía entonces vemos que $Y$ varía pero solo porque $X$ varió. Debido al efecto de causalidad $Y$ va a cambiar y en ese momento, la correlación se convierte en causalidad. Por lo tanto, con las variables que tenemos, vemos que $Z$ que es el número de horas que utilizó para ver televisión una persona cuando era niño y $X$ que es la educación tienen una relación y también causalidad.\n",
    "* A través de la intuición podemos decir que a más horas que un niño ve televisión, menos horas estará estudiando. Y al estudiar menos, puede haber una correlación con el nivel de ingresos. Esto que hemos visto con la intuición, se demuestra con lo mencionado anteriormente y con esta ecuación: $X$ and $Y$: $X \\leftarrow U \\rightarrow Y$.\n",
    "* $Z$ está correlacionada con $X$ y por su correlación con esta también se ve correlacionada con $Y$. \n",
    "\n",
    "**c) ¿El efecto de la educación sobre el nivel de ingresos es positivo o negativo? Argumente si los resultados serian causales o solamente de correlación**\n",
    "* El efecto de la educación sobre el nivel de ingresos es positivo. Vemos que a más estudio habrá más ingresos y también podemos decir que la relación del numero de horas que vio televisión y los ingresos tienen un efecto negativo e inverso. A más horas de televisión, menos ingresos. Esto de menos ingresos lo sabemos debido a que sabemos que $Z$ e $Y$ están correlacionadas por el backdoor path de $X$ \n",
    "\n",
    "\n",
    "\n",
    "\n"
   ]
  },
  {
   "cell_type": "markdown",
   "id": "7ee966a3",
   "metadata": {},
   "source": [
    "### 2. (3 puntos) Regression Discontinuity Design (RDD)\n",
    "\n",
    "Supongamos que estamos estudiando la eficacia de un programa de becas creado por el gobierno Peruano sobre las notas de los alumnos al final del primer semestre en la universidad. PRONABEC ha decidido que entregará becas a aquellos postulantes que tengan un promedio superior durante la secundaria igual a 16 .\n",
    "\n",
    "**a) Indetifique todos los elementos necesarios para implementar un RDD en este ejemplo.**\n",
    "\n",
    "* Necesitamos los siguientes elementos \n",
    "    - Execution variable ($X$): variable que determina si recibe o no el tratamiento \n",
    "    - Corte ($c_0$): Es el límite de la variable donde se determina si recibe el tratamiento o no. Los que están detrás del corte son los que no recibieron y los que estan a su derecha son los que si recibieron el tratamiento. \n",
    "    - Treatment ($D$): Representa si recibió el tratamiento (1) or no (0)\n",
    "\n",
    "\n",
    "**b) Explique el procedimiento para encontrar el efecto causal en este escenario. Puede utilizar ecuaciones.**\n",
    "\n",
    "* Primero deben filtrarse las notas de todos los alumnos y establecer el límite que en este caso es 16 de promedio de nota de secuendaria. En este caso usamos en Sharp design porque tenemos un limite establecido. Una vez que se implementa el modelo podemos hacer el estimado. \n",
    "\n",
    "*ECUACIÓN SHARP DESIGN*\n",
    "$$\n",
    "D_i =\n",
    "   \\begin{cases} 1\n",
    "       \\text{si} & X_i\\geq{c_0}\n",
    "       \\\\ 0\n",
    "       \\text{ if } & X_i < c_0\n",
    "   \\end{cases}\n",
    "$$\n",
    "\n",
    "\n",
    "**c) ¿El efecto de la politica sobre el rendimiento de los estudiantes sería positivo o negativo (solo necesitan usar su intuición)? Argumente si los resultados serian causales o solamente de correlación .**\n",
    "\n",
    "* El efecto de la política sobre el rendimiento de los estudiantes es positivo. Pues vemos que estudiantes de bajos recursos tendrán la oportunidad de acceder a una beca si es que el promedio de su escolaridad en secundaria es de 16 o más. Esto motiva a los estudiantes que no tienen los recursos para ir a la universidad. Puede haber una correlación, pero vemos claramente causalidad. Un alumno que tiene interés de ir a la universidad y que sabe que obtendrá una beca por tener una nota en específico, se esforzará más por obtener tener notas y así poder conseguirla. \n"
   ]
  },
  {
   "cell_type": "markdown",
   "id": "b6400e3e",
   "metadata": {},
   "source": [
    "### 3. (3 puntos) Difference in Difference (DiD)\n",
    "\n",
    "Supongamos que estamos interesados en estudiar el impacto de la migración en la tasa de empleo en dos regiones del Perú en 2017-2018. Tenemos datos anuales sobre la tasa de empleo en Lima, que experimentó una afluencia significativa de inmigrantes en 2018, y Puno que no experimentó el ingreso de migrantes (2017 ninguna de las regiones experimentó afluencia de migrantes). Podemos usar un análisis DID para comparar el cambio en las tasas de empleo entre las dos regiones a lo largo del tiempo para ver si la migración tuvo algún efecto.\n",
    "\n",
    "**a) Indetifique todos los elementos necesarios para implementar un DiD en este ejemplo.**\n",
    "\n",
    "* El DID nos ayuda a estimar el efecto del tratamiento comparando las situaciones pre tratamiento y post tratamiento en los resultados del grupo de tratamiento y el grupo de control. \n",
    "* El supuesto más importante es \"el Parallel Trend Assumption\" el cual se basa en que nada cambia en el mismo momento. O sea, si el tratamiento no hubiese sucedido, la brecha entre ambas variables seguiría igual. \n",
    "* Necesitamos al pre grupo de control y al pre grupo de tratamiento; y al post  grupo de control y al post grupo de tratamiento. \n",
    "\n",
    "**b) Explique el procedimiento para encontrar el efecto causal en este escenario. Puede utilizar ecuaciones.**\n",
    "\n",
    "* Tenemos la siguiente ecuación:\n",
    "\n",
    "$$\n",
    "\\widehat{\\delta}^{2\\times 2}_{kU} = \\bigg ( \\overline{y}_k^{-post(k)} - \\overline{y}_k^{-pre(k)} \\bigg ) - \\bigg ( \\overline{y}_U^{-post(k)} - \\overline{y}_U^{-pre(k)} \\bigg )\n",
    "$$\n",
    "\n",
    "* Con esa ecuación tenemos la comparación de cómo se ha dado el tratamiento en ambos grupos y podemos ver las diferencias del mismo. \n",
    "\n",
    "**c) ¿El efecto de la migración sobre la tasa de empleo sería positivo o negativo (solo necesitan usar su intuición)? Argumente si los resultados serian causales o solamente de correlación .**\n",
    "\n",
    "* El efecto de migración sobre la tasa de empleo es positivo pues a más migración habrá más empleos. Esto se debe ver de la siguiente manera: la mayoría de los migrantes están buscando una mejor vida y mejores oportunidades y muchas veces llegan a un nuevo lugar sin nada. Es por eso que muchas veces toman empleos que las personas que residen y tienen una vida en el lugar no toman y la tasa de empleo sube. Por ejemplo, muchos migrantes latinos en norteamérica son los que toman trabajos de limpieza porque no mucha de la población norteamericana los desea tomar, eso no significa que \"quiten trabajo\""
   ]
  },
  {
   "cell_type": "markdown",
   "id": "eb2f095f",
   "metadata": {},
   "source": [
    "### 4. (3 puntos) Lecturas\n",
    "\n",
    "Bell, A., Chetty, R., Jaravel, X., Petkova, N., & Van Reenen, J. (2019). Who becomes an inventor in America? The importance of exposure to innovation. The Quarterly Journal of Economics, 134(2), 647-713., **¿Cuáles son las debilidades del enfoque del paper para responder su pregunta de investigación?**\n",
    "\n",
    "* Las principales debilidades del paper al igual que muchos vistos en el ciclo es que se muestra el experimento y se muestran los datos, pero esto no se hace a manera de testimonio o de caso. Es decir, si en el paper los autores incluyeran testimonios de inventores en los que estos comenten por ejemplo que el ambiente en el que crecieron los ayudó, que sus modelos (padres, compañeros de trabajo, vecinos) fueron inventores y que eso ayudó o los interesó a introducirse a ese campo, ayudaría a darle mpas legitimidad al artículo de parte de los lectores. Por otro lado, sería interesante implementar los resultados en gráficos comparativos. Es decir, mostrar la variable y luego mostrar un gráfico que demuestre que esta efectivamente influyó en que un niño más tarde se convierta en un inventor. \n",
    "\n",
    "Dell, M. (2010). The persistent effects of Peru's mining mita. Econometrica, 78(6), 1863-1903, **¿Cuáles serían dos próximos pasos específicos para avanzar en su pregunta de investigación?** \n",
    "\n",
    "* Los siguientes pasos para avanzar en la pregunta de investigación podrían ser seguir investigando las variables presentadas y así poder mostrar las consecuencias de la mita, tal vez hasta hoy en día. Por otro lado, para verlo desde una perspectiva más económica, el Estado podría encargarse de llevar a cabo una investigación para darse cuenta si por ejemplo, los ancentros de las personas que viven en extrema pobreza hoy en día fueron víctimas de la mita y así encontrar una razón para esa pobreza y poder implementar medidas que sean de desarrollo y progreso para el país. \n",
    "\n",
    "\n"
   ]
  },
  {
   "cell_type": "markdown",
   "id": "37026fa9",
   "metadata": {},
   "source": [
    "### PARTE 2: CÓDIGO"
   ]
  },
  {
   "cell_type": "markdown",
   "id": "5f0ab3c8",
   "metadata": {},
   "source": [
    "### 5. (4 puntos) Código\n",
    "\n",
    "#### Ploteo de Histogramas\n",
    "\n",
    "\n"
   ]
  },
  {
   "cell_type": "code",
   "execution_count": 6,
   "id": "cd112220",
   "metadata": {
    "scrolled": true
   },
   "outputs": [
    {
     "data": {
      "text/html": [
       "<div>\n",
       "<style scoped>\n",
       "    .dataframe tbody tr th:only-of-type {\n",
       "        vertical-align: middle;\n",
       "    }\n",
       "\n",
       "    .dataframe tbody tr th {\n",
       "        vertical-align: top;\n",
       "    }\n",
       "\n",
       "    .dataframe thead th {\n",
       "        text-align: right;\n",
       "    }\n",
       "</style>\n",
       "<table border=\"1\" class=\"dataframe\">\n",
       "  <thead>\n",
       "    <tr style=\"text-align: right;\">\n",
       "      <th></th>\n",
       "      <th>id</th>\n",
       "      <th>nearc2</th>\n",
       "      <th>nearc4</th>\n",
       "      <th>educ</th>\n",
       "      <th>age</th>\n",
       "      <th>fatheduc</th>\n",
       "      <th>motheduc</th>\n",
       "      <th>weight</th>\n",
       "      <th>momdad14</th>\n",
       "      <th>sinmom14</th>\n",
       "      <th>...</th>\n",
       "      <th>KWW</th>\n",
       "      <th>IQ</th>\n",
       "      <th>married</th>\n",
       "      <th>libcrd14</th>\n",
       "      <th>exper</th>\n",
       "      <th>lwage</th>\n",
       "      <th>expersq</th>\n",
       "      <th>u_lwage</th>\n",
       "      <th>lwage_hat</th>\n",
       "      <th>u_educ</th>\n",
       "    </tr>\n",
       "  </thead>\n",
       "  <tbody>\n",
       "    <tr>\n",
       "      <th>0</th>\n",
       "      <td>2.0</td>\n",
       "      <td>0.0</td>\n",
       "      <td>0.0</td>\n",
       "      <td>7.0</td>\n",
       "      <td>29.0</td>\n",
       "      <td>NaN</td>\n",
       "      <td>NaN</td>\n",
       "      <td>158413.0</td>\n",
       "      <td>1.0</td>\n",
       "      <td>0.0</td>\n",
       "      <td>...</td>\n",
       "      <td>15.0</td>\n",
       "      <td>NaN</td>\n",
       "      <td>1.0</td>\n",
       "      <td>0.0</td>\n",
       "      <td>16.0</td>\n",
       "      <td>6.306275</td>\n",
       "      <td>256.0</td>\n",
       "      <td>0.198047</td>\n",
       "      <td>6.108228</td>\n",
       "      <td>-3.067539</td>\n",
       "    </tr>\n",
       "    <tr>\n",
       "      <th>1</th>\n",
       "      <td>3.0</td>\n",
       "      <td>0.0</td>\n",
       "      <td>0.0</td>\n",
       "      <td>12.0</td>\n",
       "      <td>27.0</td>\n",
       "      <td>8.0</td>\n",
       "      <td>8.0</td>\n",
       "      <td>380166.0</td>\n",
       "      <td>1.0</td>\n",
       "      <td>0.0</td>\n",
       "      <td>...</td>\n",
       "      <td>35.0</td>\n",
       "      <td>93.0</td>\n",
       "      <td>1.0</td>\n",
       "      <td>1.0</td>\n",
       "      <td>9.0</td>\n",
       "      <td>6.175867</td>\n",
       "      <td>81.0</td>\n",
       "      <td>-0.211160</td>\n",
       "      <td>6.387027</td>\n",
       "      <td>-1.727562</td>\n",
       "    </tr>\n",
       "    <tr>\n",
       "      <th>2</th>\n",
       "      <td>4.0</td>\n",
       "      <td>0.0</td>\n",
       "      <td>0.0</td>\n",
       "      <td>12.0</td>\n",
       "      <td>34.0</td>\n",
       "      <td>14.0</td>\n",
       "      <td>12.0</td>\n",
       "      <td>367470.0</td>\n",
       "      <td>1.0</td>\n",
       "      <td>0.0</td>\n",
       "      <td>...</td>\n",
       "      <td>42.0</td>\n",
       "      <td>103.0</td>\n",
       "      <td>1.0</td>\n",
       "      <td>1.0</td>\n",
       "      <td>16.0</td>\n",
       "      <td>6.580639</td>\n",
       "      <td>256.0</td>\n",
       "      <td>0.204719</td>\n",
       "      <td>6.375920</td>\n",
       "      <td>1.012975</td>\n",
       "    </tr>\n",
       "    <tr>\n",
       "      <th>3</th>\n",
       "      <td>5.0</td>\n",
       "      <td>1.0</td>\n",
       "      <td>1.0</td>\n",
       "      <td>11.0</td>\n",
       "      <td>27.0</td>\n",
       "      <td>11.0</td>\n",
       "      <td>12.0</td>\n",
       "      <td>380166.0</td>\n",
       "      <td>1.0</td>\n",
       "      <td>0.0</td>\n",
       "      <td>...</td>\n",
       "      <td>25.0</td>\n",
       "      <td>88.0</td>\n",
       "      <td>1.0</td>\n",
       "      <td>1.0</td>\n",
       "      <td>10.0</td>\n",
       "      <td>5.521461</td>\n",
       "      <td>100.0</td>\n",
       "      <td>-0.967905</td>\n",
       "      <td>6.489366</td>\n",
       "      <td>-2.253536</td>\n",
       "    </tr>\n",
       "    <tr>\n",
       "      <th>4</th>\n",
       "      <td>6.0</td>\n",
       "      <td>1.0</td>\n",
       "      <td>1.0</td>\n",
       "      <td>12.0</td>\n",
       "      <td>34.0</td>\n",
       "      <td>8.0</td>\n",
       "      <td>7.0</td>\n",
       "      <td>367470.0</td>\n",
       "      <td>1.0</td>\n",
       "      <td>0.0</td>\n",
       "      <td>...</td>\n",
       "      <td>34.0</td>\n",
       "      <td>108.0</td>\n",
       "      <td>1.0</td>\n",
       "      <td>0.0</td>\n",
       "      <td>16.0</td>\n",
       "      <td>6.591674</td>\n",
       "      <td>256.0</td>\n",
       "      <td>0.125173</td>\n",
       "      <td>6.466501</td>\n",
       "      <td>1.090437</td>\n",
       "    </tr>\n",
       "  </tbody>\n",
       "</table>\n",
       "<p>5 rows × 37 columns</p>\n",
       "</div>"
      ],
      "text/plain": [
       "    id  nearc2  nearc4  educ   age  fatheduc  motheduc    weight  momdad14  \\\n",
       "0  2.0     0.0     0.0   7.0  29.0       NaN       NaN  158413.0       1.0   \n",
       "1  3.0     0.0     0.0  12.0  27.0       8.0       8.0  380166.0       1.0   \n",
       "2  4.0     0.0     0.0  12.0  34.0      14.0      12.0  367470.0       1.0   \n",
       "3  5.0     1.0     1.0  11.0  27.0      11.0      12.0  380166.0       1.0   \n",
       "4  6.0     1.0     1.0  12.0  34.0       8.0       7.0  367470.0       1.0   \n",
       "\n",
       "   sinmom14  ...   KWW     IQ  married  libcrd14  exper     lwage  expersq  \\\n",
       "0       0.0  ...  15.0    NaN      1.0       0.0   16.0  6.306275    256.0   \n",
       "1       0.0  ...  35.0   93.0      1.0       1.0    9.0  6.175867     81.0   \n",
       "2       0.0  ...  42.0  103.0      1.0       1.0   16.0  6.580639    256.0   \n",
       "3       0.0  ...  25.0   88.0      1.0       1.0   10.0  5.521461    100.0   \n",
       "4       0.0  ...  34.0  108.0      1.0       0.0   16.0  6.591674    256.0   \n",
       "\n",
       "    u_lwage  lwage_hat    u_educ  \n",
       "0  0.198047   6.108228 -3.067539  \n",
       "1 -0.211160   6.387027 -1.727562  \n",
       "2  0.204719   6.375920  1.012975  \n",
       "3 -0.967905   6.489366 -2.253536  \n",
       "4  0.125173   6.466501  1.090437  \n",
       "\n",
       "[5 rows x 37 columns]"
      ]
     },
     "execution_count": 6,
     "metadata": {},
     "output_type": "execute_result"
    }
   ],
   "source": [
    "# load data\n",
    "\n",
    "import ssl\n",
    "ssl._create_default_https_context = ssl._create_unverified_context\n",
    "\n",
    "def read_data(file): \n",
    "    return pd.read_stata(\"https://raw.github.com/scunning1975/mixtape/master/\" + file)\n",
    "\n",
    "card = read_data(\"card.dta\")\n",
    "card.head()"
   ]
  },
  {
   "cell_type": "code",
   "execution_count": 10,
   "id": "8e52975b",
   "metadata": {},
   "outputs": [
    {
     "data": {
      "text/plain": [
       "<seaborn.axisgrid.FacetGrid at 0x7f8307174400>"
      ]
     },
     "execution_count": 10,
     "metadata": {},
     "output_type": "execute_result"
    },
    {
     "data": {
      "image/png": "[encoded data removed]",
      "text/plain": [
       "<Figure size 720x360 with 2 Axes>"
      ]
     },
     "metadata": {
      "needs_background": "light"
     },
     "output_type": "display_data"
    }
   ],
   "source": [
    "sns.displot(card, x = \"educ\", col = \"nearc2\")"
   ]
  },
  {
   "cell_type": "markdown",
   "id": "16d8354f",
   "metadata": {},
   "source": [
    "A través de estos gráficos podemos observar que el hecho de vivir cerca de una universidad de 2 años sí tiene efecto en la educación. Pues vemos que mientras más personas vivan cerca de un college de 2 años, más años estarán estudiando. "
   ]
  },
  {
   "cell_type": "code",
   "execution_count": 12,
   "id": "232f2e99",
   "metadata": {},
   "outputs": [
    {
     "data": {
      "text/plain": [
       "<seaborn.axisgrid.FacetGrid at 0x7f83075a3a60>"
      ]
     },
     "execution_count": 12,
     "metadata": {},
     "output_type": "execute_result"
    },
    {
     "data": {
      "image/png": "[encoded data removed]",
      "text/plain": [
       "<Figure size 720x360 with 2 Axes>"
      ]
     },
     "metadata": {
      "needs_background": "light"
     },
     "output_type": "display_data"
    }
   ],
   "source": [
    "sns.displot(card, x = \"lwage\", col = \"nearc2\")"
   ]
  },
  {
   "cell_type": "markdown",
   "id": "9fe2ce89",
   "metadata": {},
   "source": [
    "Se ve una distribución de datos normal. Vemos que la mayoría de datos se ven concentrado en el centro del gráfico. Por lo tanto, no podemos inferir que por vivir cerca de un college de 2 años se vaya a tener más ingresos económicos. Algo más que se puede observar es que tenemos datos muy altos y datos muy bajos. En cada gráfico se ve que hay una gran diferencia en ingresos económicos, gente con muchos ingresos y gente con pocos ingresos"
   ]
  },
  {
   "cell_type": "markdown",
   "id": "66b74258",
   "metadata": {},
   "source": [
    "### Regresiones\n",
    "#### REGRESIÓN LINEAL MULTIPLE\n"
   ]
  },
  {
   "cell_type": "code",
   "execution_count": 13,
   "id": "704d21f6",
   "metadata": {},
   "outputs": [
    {
     "data": {
      "text/html": [
       "<table class=\"simpletable\">\n",
       "<caption>OLS Regression Results</caption>\n",
       "<tr>\n",
       "  <th>Dep. Variable:</th>          <td>lwage</td>      <th>  R-squared:         </th> <td>   0.305</td> \n",
       "</tr>\n",
       "<tr>\n",
       "  <th>Model:</th>                   <td>OLS</td>       <th>  Adj. R-squared:    </th> <td>   0.304</td> \n",
       "</tr>\n",
       "<tr>\n",
       "  <th>Method:</th>             <td>Least Squares</td>  <th>  F-statistic:       </th> <td>   219.2</td> \n",
       "</tr>\n",
       "<tr>\n",
       "  <th>Date:</th>             <td>Fri, 09 Dec 2022</td> <th>  Prob (F-statistic):</th> <td>1.97e-232</td>\n",
       "</tr>\n",
       "<tr>\n",
       "  <th>Time:</th>                 <td>16:44:57</td>     <th>  Log-Likelihood:    </th> <td> -1273.9</td> \n",
       "</tr>\n",
       "<tr>\n",
       "  <th>No. Observations:</th>      <td>  3003</td>      <th>  AIC:               </th> <td>   2562.</td> \n",
       "</tr>\n",
       "<tr>\n",
       "  <th>Df Residuals:</th>          <td>  2996</td>      <th>  BIC:               </th> <td>   2604.</td> \n",
       "</tr>\n",
       "<tr>\n",
       "  <th>Df Model:</th>              <td>     6</td>      <th>                     </th>     <td> </td>    \n",
       "</tr>\n",
       "<tr>\n",
       "  <th>Covariance Type:</th>      <td>nonrobust</td>    <th>                     </th>     <td> </td>    \n",
       "</tr>\n",
       "</table>\n",
       "<table class=\"simpletable\">\n",
       "<tr>\n",
       "      <td></td>         <th>coef</th>     <th>std err</th>      <th>t</th>      <th>P>|t|</th>  <th>[0.025</th>    <th>0.975]</th>  \n",
       "</tr>\n",
       "<tr>\n",
       "  <th>Intercept</th> <td>    5.0633</td> <td>    0.064</td> <td>   79.437</td> <td> 0.000</td> <td>    4.938</td> <td>    5.188</td>\n",
       "</tr>\n",
       "<tr>\n",
       "  <th>educ</th>      <td>    0.0712</td> <td>    0.003</td> <td>   20.438</td> <td> 0.000</td> <td>    0.064</td> <td>    0.078</td>\n",
       "</tr>\n",
       "<tr>\n",
       "  <th>exper</th>     <td>    0.0342</td> <td>    0.002</td> <td>   15.422</td> <td> 0.000</td> <td>    0.030</td> <td>    0.038</td>\n",
       "</tr>\n",
       "<tr>\n",
       "  <th>black</th>     <td>   -0.1660</td> <td>    0.018</td> <td>   -9.426</td> <td> 0.000</td> <td>   -0.201</td> <td>   -0.131</td>\n",
       "</tr>\n",
       "<tr>\n",
       "  <th>south</th>     <td>   -0.1316</td> <td>    0.015</td> <td>   -8.788</td> <td> 0.000</td> <td>   -0.161</td> <td>   -0.102</td>\n",
       "</tr>\n",
       "<tr>\n",
       "  <th>married</th>   <td>   -0.0359</td> <td>    0.003</td> <td>  -10.547</td> <td> 0.000</td> <td>   -0.043</td> <td>   -0.029</td>\n",
       "</tr>\n",
       "<tr>\n",
       "  <th>smsa</th>      <td>    0.1758</td> <td>    0.015</td> <td>   11.372</td> <td> 0.000</td> <td>    0.145</td> <td>    0.206</td>\n",
       "</tr>\n",
       "</table>\n",
       "<table class=\"simpletable\">\n",
       "<tr>\n",
       "  <th>Omnibus:</th>       <td>53.196</td> <th>  Durbin-Watson:     </th> <td>   1.858</td>\n",
       "</tr>\n",
       "<tr>\n",
       "  <th>Prob(Omnibus):</th> <td> 0.000</td> <th>  Jarque-Bera (JB):  </th> <td>  69.430</td>\n",
       "</tr>\n",
       "<tr>\n",
       "  <th>Skew:</th>          <td>-0.231</td> <th>  Prob(JB):          </th> <td>8.38e-16</td>\n",
       "</tr>\n",
       "<tr>\n",
       "  <th>Kurtosis:</th>      <td> 3.584</td> <th>  Cond. No.          </th> <td>    154.</td>\n",
       "</tr>\n",
       "</table><br/><br/>Notes:<br/>[1] Standard Errors assume that the covariance matrix of the errors is correctly specified."
      ],
      "text/plain": [
       "<class 'statsmodels.iolib.summary.Summary'>\n",
       "\"\"\"\n",
       "                            OLS Regression Results                            \n",
       "==============================================================================\n",
       "Dep. Variable:                  lwage   R-squared:                       0.305\n",
       "Model:                            OLS   Adj. R-squared:                  0.304\n",
       "Method:                 Least Squares   F-statistic:                     219.2\n",
       "Date:                Fri, 09 Dec 2022   Prob (F-statistic):          1.97e-232\n",
       "Time:                        16:44:57   Log-Likelihood:                -1273.9\n",
       "No. Observations:                3003   AIC:                             2562.\n",
       "Df Residuals:                    2996   BIC:                             2604.\n",
       "Df Model:                           6                                         \n",
       "Covariance Type:            nonrobust                                         \n",
       "==============================================================================\n",
       "                 coef    std err          t      P>|t|      [0.025      0.975]\n",
       "------------------------------------------------------------------------------\n",
       "Intercept      5.0633      0.064     79.437      0.000       4.938       5.188\n",
       "educ           0.0712      0.003     20.438      0.000       0.064       0.078\n",
       "exper          0.0342      0.002     15.422      0.000       0.030       0.038\n",
       "black         -0.1660      0.018     -9.426      0.000      -0.201      -0.131\n",
       "south         -0.1316      0.015     -8.788      0.000      -0.161      -0.102\n",
       "married       -0.0359      0.003    -10.547      0.000      -0.043      -0.029\n",
       "smsa           0.1758      0.015     11.372      0.000       0.145       0.206\n",
       "==============================================================================\n",
       "Omnibus:                       53.196   Durbin-Watson:                   1.858\n",
       "Prob(Omnibus):                  0.000   Jarque-Bera (JB):               69.430\n",
       "Skew:                          -0.231   Prob(JB):                     8.38e-16\n",
       "Kurtosis:                       3.584   Cond. No.                         154.\n",
       "==============================================================================\n",
       "\n",
       "Notes:\n",
       "[1] Standard Errors assume that the covariance matrix of the errors is correctly specified.\n",
       "\"\"\""
      ]
     },
     "execution_count": 13,
     "metadata": {},
     "output_type": "execute_result"
    }
   ],
   "source": [
    "ols_reg = sm.OLS.from_formula(\"lwage ~ educ + exper + black + south + married + smsa\", \n",
    "              data = card).fit()\n",
    "\n",
    "ols_reg.summary()"
   ]
  },
  {
   "cell_type": "markdown",
   "id": "8946ead5",
   "metadata": {},
   "source": [
    "Con esta regresión lineal multiple podemos ver que la mayoría de nuestros valores tienen un P-value menor a 0.05 y por lo tanto, podemos afirmar que son significativas para nuestro modelo.\n",
    "\n",
    "Al ver el R cuadrado ajustado, vemos que el modelo explica a un 30%. Un nivel explicativo mediano. \n",
    "\n",
    "La ecuación del modelo sería: 5.0633 + (0.0712 + 0.0342 - 0.1660 - 0.1316 - 0.0359 + 0.1758) * X"
   ]
  },
  {
   "cell_type": "markdown",
   "id": "94f0f867",
   "metadata": {},
   "source": [
    "#### REGRESIÓN IV "
   ]
  },
  {
   "cell_type": "code",
   "execution_count": 14,
   "id": "23f209b8",
   "metadata": {},
   "outputs": [
    {
     "data": {
      "text/html": [
       "<table class=\"simpletable\">\n",
       "<caption>IV-2SLS Estimation Summary</caption>\n",
       "<tr>\n",
       "  <th>Dep. Variable:</th>          <td>lwage</td>      <th>  R-squared:         </th> <td>-1.3114</td>\n",
       "</tr>\n",
       "<tr>\n",
       "  <th>Estimator:</th>             <td>IV-2SLS</td>     <th>  Adj. R-squared:    </th> <td>-1.3160</td>\n",
       "</tr>\n",
       "<tr>\n",
       "  <th>No. Observations:</th>       <td>3010</td>       <th>  F-statistic:       </th> <td>289.62</td> \n",
       "</tr>\n",
       "<tr>\n",
       "  <th>Date:</th>             <td>Fri, Dec 09 2022</td> <th>  P-value (F-stat)   </th> <td>0.0000</td> \n",
       "</tr>\n",
       "<tr>\n",
       "  <th>Time:</th>                 <td>16:52:57</td>     <th>  Distribution:      </th> <td>chi2(6)</td>\n",
       "</tr>\n",
       "<tr>\n",
       "  <th>Cov. Estimator:</th>        <td>robust</td>      <th>                     </th>    <td></td>    \n",
       "</tr>\n",
       "<tr>\n",
       "  <th></th>                          <td></td>         <th>                     </th>    <td></td>    \n",
       "</tr>\n",
       "</table>\n",
       "<table class=\"simpletable\">\n",
       "<caption>Parameter Estimates</caption>\n",
       "<tr>\n",
       "      <td></td>      <th>Parameter</th> <th>Std. Err.</th> <th>T-stat</th>  <th>P-value</th> <th>Lower CI</th> <th>Upper CI</th>\n",
       "</tr>\n",
       "<tr>\n",
       "  <th>Intercept</th>  <td>0.1276</td>    <td>3.1412</td>   <td>0.0406</td>  <td>0.9676</td>   <td>-6.0290</td>  <td>6.2843</td> \n",
       "</tr>\n",
       "<tr>\n",
       "  <th>black</th>      <td>0.1134</td>    <td>0.1816</td>   <td>0.6244</td>  <td>0.5324</td>   <td>-0.2425</td>  <td>0.4692</td> \n",
       "</tr>\n",
       "<tr>\n",
       "  <th>exper</th>      <td>0.1515</td>    <td>0.0747</td>   <td>2.0274</td>  <td>0.0426</td>   <td>0.0050</td>   <td>0.2980</td> \n",
       "</tr>\n",
       "<tr>\n",
       "  <th>married</th>    <td>-0.0151</td>   <td>0.0147</td>   <td>-1.0258</td> <td>0.3050</td>   <td>-0.0438</td>  <td>0.0137</td> \n",
       "</tr>\n",
       "<tr>\n",
       "  <th>smsa</th>       <td>0.0201</td>    <td>0.1030</td>   <td>0.1949</td>  <td>0.8455</td>   <td>-0.1819</td>  <td>0.2220</td> \n",
       "</tr>\n",
       "<tr>\n",
       "  <th>south</th>      <td>-0.0319</td>   <td>0.0692</td>   <td>-0.4603</td> <td>0.6453</td>   <td>-0.1675</td>  <td>0.1038</td> \n",
       "</tr>\n",
       "<tr>\n",
       "  <th>educ</th>       <td>0.3618</td>    <td>0.1849</td>   <td>1.9562</td>  <td>0.0504</td>   <td>-0.0007</td>  <td>0.7243</td> \n",
       "</tr>\n",
       "</table><br/><br/>Endogenous: educ<br/>Instruments: nearc2<br/>Robust Covariance (Heteroskedastic)<br/>Debiased: False"
      ],
      "text/plain": [
       "<class 'linearmodels.compat.statsmodels.Summary'>\n",
       "\"\"\"\n",
       "                          IV-2SLS Estimation Summary                          \n",
       "==============================================================================\n",
       "Dep. Variable:                  lwage   R-squared:                     -1.3114\n",
       "Estimator:                    IV-2SLS   Adj. R-squared:                -1.3160\n",
       "No. Observations:                3010   F-statistic:                    289.62\n",
       "Date:                Fri, Dec 09 2022   P-value (F-stat)                0.0000\n",
       "Time:                        16:52:57   Distribution:                  chi2(6)\n",
       "Cov. Estimator:                robust                                         \n",
       "                                                                              \n",
       "                             Parameter Estimates                              \n",
       "==============================================================================\n",
       "            Parameter  Std. Err.     T-stat    P-value    Lower CI    Upper CI\n",
       "------------------------------------------------------------------------------\n",
       "Intercept      0.1276     3.1412     0.0406     0.9676     -6.0290      6.2843\n",
       "black          0.1134     0.1816     0.6244     0.5324     -0.2425      0.4692\n",
       "exper          0.1515     0.0747     2.0274     0.0426      0.0050      0.2980\n",
       "married       -0.0151     0.0147    -1.0258     0.3050     -0.0438      0.0137\n",
       "smsa           0.0201     0.1030     0.1949     0.8455     -0.1819      0.2220\n",
       "south         -0.0319     0.0692    -0.4603     0.6453     -0.1675      0.1038\n",
       "educ           0.3618     0.1849     1.9562     0.0504     -0.0007      0.7243\n",
       "==============================================================================\n",
       "\n",
       "Endogenous: educ\n",
       "Instruments: nearc2\n",
       "Robust Covariance (Heteroskedastic)\n",
       "Debiased: False\n",
       "\"\"\""
      ]
     },
     "execution_count": 14,
     "metadata": {},
     "output_type": "execute_result"
    }
   ],
   "source": [
    "card['married'] = card['married'].fillna(0) \n",
    "\n",
    "iv_reg = IV2SLS.from_formula(\"lwage ~ 1 + exper + black + south + married + smsa + [educ ~ nearc2]\", card).fit()\n",
    "iv_reg.summary"
   ]
  },
  {
   "cell_type": "markdown",
   "id": "c270ef02",
   "metadata": {},
   "source": [
    "En este caso vemos al P-value de la mayoría de los valores mayor a 0.05 por lo que no son significativos para el modelo. Además, al ver el R cuadrado ajustado, vemos que es negativo, por lo tanto no tiene nivel explicativo. \n",
    "\n",
    "\n"
   ]
  },
  {
   "cell_type": "code",
   "execution_count": null,
   "id": "16119d96",
   "metadata": {},
   "outputs": [],
   "source": []
  }
 ],
 "metadata": {
  "kernelspec": {
   "display_name": "Python 3 (ipykernel)",
   "language": "python",
   "name": "python3"
  },
  "language_info": {
   "codemirror_mode": {
    "name": "ipython",
    "version": 3
   },
   "file_extension": ".py",
   "mimetype": "text/x-python",
   "name": "python",
   "nbconvert_exporter": "python",
   "pygments_lexer": "ipython3",
   "version": "3.9.12"
  }
 },
 "nbformat": 4,
 "nbformat_minor": 5
}
