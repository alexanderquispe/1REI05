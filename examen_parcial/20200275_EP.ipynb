{
 "cells": [
  {
   "cell_type": "markdown",
   "id": "664361a9",
   "metadata": {},
   "source": [
    " ## Examen Parcial \n",
    " \n",
    " - Nombre: Mayeli Charra Huaman\n",
    " - Código: 20200275\n",
    " \n",
    " ### Teoría\n",
    " \n",
    " - Defina el Multiplicador Keynesiano y dé un ejemplo de cómo influye este en el modelo Ingreso-Gasto Keynesiano.\n",
    " \n",
    " El multiplicador keynesiano representa en cuánto se va a incrementar el producto ante un incremento de una variable. Es decir, un cambio en la magnitud de cualquiera de los componentes autonomos de la demanda agregada, que afecta al ingreso hasta un nuevo ingreso y producto de equilibrio. \n",
    " \n",
    "\n",
    " - Grafique y explique cúando sucede un exceso y déficit de demanda en el modelo Ingreso-Gasto. Señale las áreas donde ocurre cada caso. Explique cómo se converge al equilibrio a partir de estos dos escenarios.\n",
    " \n",
    " \n",
    " Cuando sucede un exceso de demanda en el modelo IS se da en el caso que aumentan los componentes autonomos como consumo, exportaciones y gastos fiscales.\n",
    " \n",
    " Por otro lado, cuando sucede un déficit en el modelo IS es cuando la demanda agregada disminuye. \n",
    " \n",
    " Ocurre un cambio el Y\n",
    " \n",
    " Se converge el equilibrio cuando el producto se adapta a la demanda. De manera que, si hay un exceso de demanda la producción también debe aumentar y si hay un deficit, esta debe disminuir. \n",
    " \n",
    " "
   ]
  },
  {
   "cell_type": "code",
   "execution_count": 26,
   "id": "038c1a1c",
   "metadata": {},
   "outputs": [
    {
     "data": {
      "text/plain": [
       "[<matplotlib.lines.Line2D at 0x20b549a0af0>]"
      ]
     },
     "execution_count": 26,
     "metadata": {},
     "output_type": "execute_result"
    },
    {
     "data": {
      "image/png": "[encoded data removed]",
      "text/plain": [
       "<Figure size 720x720 with 1 Axes>"
      ]
     },
     "metadata": {
      "needs_background": "light"
     },
     "output_type": "display_data"
    }
   ],
   "source": [
    "Y_size = 100 \n",
    "\n",
    "Co = 35\n",
    "Io = 40\n",
    "Go = 70\n",
    "Xo = 2\n",
    "h = 0.7\n",
    "b = 0.8 \n",
    "m = 0.2\n",
    "t = 0.3\n",
    "r = 0.9\n",
    "\n",
    "Y = np.arange(Y_size)\n",
    "\n",
    "# Ecuación de la curva del ingreso de equilibrio\n",
    "\n",
    "def DA_K(Co, Io, Go, Xo, h, r, b, m, t, Y):\n",
    "    DA_K = (Co + Io + Go + Xo - h*r) + ((b - m)*(1 - t)*Y)\n",
    "    return DA_K\n",
    "\n",
    "DA_IS_K = DA_K(Co, Io, Go, Xo, h, r, b, m, t, Y)\n",
    "\n",
    "cam = 2.5 \n",
    "\n",
    "def L_45(cam, Y):\n",
    "    L_45 = cam*Y\n",
    "    return L_45\n",
    "\n",
    "L_45 = L_45(cam, Y)\n",
    "\n",
    "y_max = np.max(DA_IS_K)\n",
    "fig, ax = plt.subplots(figsize=(10, 10))\n",
    "\n",
    "ax.plot(Y, DA_IS_K, label = \"DA\", color = \"black\") \n",
    "ax.plot(Y, L_45, color = \"black\") \n",
    "\n",
    "\n"
   ]
  },
  {
   "cell_type": "markdown",
   "id": "fd05e196",
   "metadata": {},
   "source": [
    "\n",
    " - ¿Cuáles son las herramientas de política fiscal y política monetaria? Dea un ejemplo para cada una de ellas dentro del contexto peruano. Coloque su fuente en caso sea necesario. (Solo necesita 1 para pol. Fiscal y 1 para Monetaria).\n",
    " \n",
    " Dentro del contexto peruano según el Banco Central de Reserva del Perú (BCRP) la poltica fiscal peruana sigue un esquema de reglas consolidad, que obliga al gobierno a fijar sus niveles de gasto no financiero consistente con una guía estructural a largo plazo. Además, según Velarde  Rodriguez (1992b) citado en el paper \"The Case of Peru\" Martinelli y Vega (2018) sostienen que entre las politicas fiscales: la prohibición de nuevos procesos de contrataión, es decir medidas de austeridad fiscal, la eliminación de las exenciones del IVA, los impuestos especiales y los aranceles. Además entre la politica monetaria: reducción de los requisitos de reservas bancarias para aliviar represión finaciera  se permiten los dépositos en moneda extranera en los bancos nacionales. \n",
    " \n",
    " https://www.bcrp.gob.pe/docs/Publicaciones/Revista-Moneda/moneda-167/moneda-167-08.pdf\n",
    " \n",
    " - Explique qué funciones del dinero respaldan el éxito de de Yape y Plin(Aplicativos moviles para intercambio de dinero).\n",
    " \n",
    " Aplicativos como Yape y Plin respaldan su éxito en cuanto a su capacidad para cumplir funciones del dinero como: \n",
    "  - Medio que facilitia el intercambio de bienes y servicios. \n",
    "  - Medio para cancelar deudas o servicios adquiridos. \n",
    "  - Medio para mantener riqueza. \n",
    "  - Sirve como una medida aceptada para expresar el medio de las mercancias, las magnitudes de deudas, balances de empresas, etc. \n",
    "        \n",
    "- Cuáles son las conclusiones principales del paper de Dancurt \"Inflation Targeting in Peru: The Reasons for the Success\"\n",
    "\n",
    " En el articulo Dancourt (2015) concluye que el Banco Central Perú tomo grandes decisiones entre los años 2002-2013 sobre implementar un sistema de objetivos de inflación y por otra parte la acumulación de suficientes reservas de divisas que le ha permitido preservar en parte la estabilidad macroeconómica. Además, que de la crisis de 2008-2009 se sabe que el banco central debe reducir el tipo de interés y vender divisas de moneda extranjera en respuesta a choques externos. También que queda por saber si este esquema de politica monetaria puede ser favorable en un choque externo de mayor duración. Además, si este puede operar sin la tasa de interés de referencia como principal instrumento del banco central.  \n",
    "        \n",
    " "
   ]
  },
  {
   "cell_type": "markdown",
   "id": "22b6c986",
   "metadata": {},
   "source": [
    "### Ejercicio 1 :  El modelo ingreso-gasto en una economía abierta"
   ]
  },
  {
   "cell_type": "markdown",
   "id": "4827c418",
   "metadata": {},
   "source": [
    "1.  Encuentre el Ingreso de Equilibrio $(Y^e)$  e identifique el multiplicador keynesiano.\n",
    "\n",
    "Apartir de la DA se obtiene: \n",
    "    \n",
    "$$ DA = C_o + b(1-t)Y + I_0 -hr +G_o+x_1Y* + x_2ε - m_1(1-t)Y + m_2ε $$\n",
    "\n",
    "$$ DA = C_0 + I_0 +G_0 + [b(1-t) - m_1(1-t)] Y -hr+x_1Y* +(x_2 + m_2)ε $$\n",
    "\n",
    "$$ DA = w −hr + x_1Y∗ + (x_2 + m_2)ε_0 − (x_2 + m_2)ρr + (x2 + m_2)ρr∗ + [(b− m_1)(1− t)]Y   $$\n",
    "\n",
    "Donde: \n",
    "\n",
    "$$ w= C_0 + I_0 + G_0 $$\n",
    "\n",
    "$$ DA = [w+x_1Y* + (x_2+m_2)ε_0 + (x_2 + m_2)ρr* - (h+ (x_2+m_2)p)r] + [(b-m_1(1-t))] Y  $$\n",
    "\n",
    "$$ DA = α_0 + α_1Y $$\n",
    "\n",
    "\n",
    "Ahora, el ingreso de equilibrio se obtiene considerando la condición de equilibrio $Y^e = DA:$\n",
    "\n",
    "$$ Y = w - [h+ (x_2 + m_2)p]r + x_1Y*+ (x_2 + m_2)ρr* + [(b-m_1)(1-t)]Y $$\n",
    "\n",
    "\n",
    "\n",
    "$$ Y = \\frac{1}{1 - (b - m_1)(1 - t)} [w + (x_2 + m_2)ε_0 + (x_2 + m_2)pr* + x_1Y*]- [\\frac{h + (x_2 + m_2)p)}{1 - (b - m_1)(1 - t)}]r  $$\n",
    "\n",
    "\n",
    "Donde el multiplador keynesiano es: \n",
    "\n",
    "$$ \\frac{1}{1 - (b - m_1)(1 - t)} $$\n",
    "\n",
    "2. Analice los efectos sobre la variable endógena $Y$  de una disminución del gasto fiscal ($ΔG_0<0$) . El análisis debe ser intuitivo, matemático y gráfico.\n",
    "\n",
    "- Intuitivo: \n",
    "\n",
    " $$ ↓Go → ↓DA → DA > Y → ↓Y $$ \n",
    " \n",
    " Si el gasto fiscal disminuye sucede que la Demanda Agregada también cae, porque el sector que depende del gasto del gobierno reduce su participación en la economia de consumo. Por tanto también cae el producto. \n",
    " \n",
    "- Matematicamente: \n",
    " \n",
    " $$ ΔG_0 <0 → ¿ΔY? $$ \n",
    " \n",
    " Considerando el multiplicador keynesiano \n",
    " $$ \\frac{1}{1 - (b - m_1)(1 - t)}   $$ \n",
    " \n",
    " Sabiendo que $∆G_0 < 0 $ y que $k > 0$, la multiplicación de un número negativo con otro positivo dará un negativo:\n",
    "\n",
    "$$ ∆Y = (+)(-) $$\n",
    "$$ ∆Y < 0 $$\n",
    " \n",
    "- Gráficamente: \n",
    " \n",
    " \n",
    " "
   ]
  },
  {
   "cell_type": "code",
   "execution_count": 14,
   "id": "3a7ff12a",
   "metadata": {},
   "outputs": [],
   "source": [
    "import numpy as np\n",
    "import sympy as sy\n",
    "from sympy import *\n",
    "import pandas as pd"
   ]
  },
  {
   "cell_type": "code",
   "execution_count": 21,
   "id": "0d9c1ca9",
   "metadata": {},
   "outputs": [],
   "source": [
    "import ipywidgets as widgets\n",
    "import matplotlib.pyplot as plt"
   ]
  },
  {
   "cell_type": "code",
   "execution_count": 22,
   "id": "524c5541",
   "metadata": {},
   "outputs": [],
   "source": [
    "# Curva de ingreso de equilibrio Original \n",
    "\n",
    "    #Parámetros\n",
    "    \n",
    "Y_size = 100 \n",
    "\n",
    "Co = 35\n",
    "Io = 40\n",
    "Go = 95\n",
    "Xo = 2\n",
    "h = 0.7\n",
    "b = 0.8\n",
    "m = 0.2\n",
    "t = 0.3\n",
    "r = 0.9\n",
    "\n",
    "Y = np.arange(Y_size)\n",
    "\n",
    "    # Ecuación \n",
    "def DA_K(Co, Io, Go, Xo, h, r, b, m, t, Y):\n",
    "    DA_K = (Co + Io + Go + Xo - h*r) + ((b - m)*(1 - t)*Y)\n",
    "    return DA_K\n",
    "\n",
    "DA_IS_K = DA_K(Co, Io, Go, Xo, h, r, b, m, t, Y)\n",
    "\n",
    "\n",
    "#--------------------------------------------------\n",
    "# NUEVA curva de ingreso de equilibrio\n",
    "\n",
    "    # Definir SOLO el parámetro cambiado\n",
    "Go = 70\n",
    "\n",
    "# Generar la ecuación con el nuevo parámetro\n",
    "def DA_K(Co, Io, Go, Xo, h, r, b, m, t, Y):\n",
    "    DA_K = (Co + Io + Go + Xo - h*r) + ((b - m)*(1 - t)*Y)\n",
    "    return DA_K\n",
    "\n",
    "DA_G = DA_K(Co, Io, Go, Xo, h, r, b, m, t, Y)"
   ]
  },
  {
   "cell_type": "code",
   "execution_count": 23,
   "id": "de23b5d9",
   "metadata": {},
   "outputs": [
    {
     "ename": "NameError",
     "evalue": "name 'L_45' is not defined",
     "output_type": "error",
     "traceback": [
      "\u001b[1;31m---------------------------------------------------------------------------\u001b[0m",
      "\u001b[1;31mNameError\u001b[0m                                 Traceback (most recent call last)",
      "Input \u001b[1;32mIn [23]\u001b[0m, in \u001b[0;36m<cell line: 9>\u001b[1;34m()\u001b[0m\n\u001b[0;32m      7\u001b[0m ax\u001b[38;5;241m.\u001b[39mplot(Y, DA_IS_K, label \u001b[38;5;241m=\u001b[39m \u001b[38;5;124m\"\u001b[39m\u001b[38;5;124mDA\u001b[39m\u001b[38;5;124m\"\u001b[39m, color \u001b[38;5;241m=\u001b[39m \u001b[38;5;124m\"\u001b[39m\u001b[38;5;124m#404040\u001b[39m\u001b[38;5;124m\"\u001b[39m) \u001b[38;5;66;03m#curva ORIGINAL\u001b[39;00m\n\u001b[0;32m      8\u001b[0m ax\u001b[38;5;241m.\u001b[39mplot(Y, DA_G, label \u001b[38;5;241m=\u001b[39m \u001b[38;5;124m\"\u001b[39m\u001b[38;5;124mDA_G\u001b[39m\u001b[38;5;124m\"\u001b[39m, color \u001b[38;5;241m=\u001b[39m \u001b[38;5;124m\"\u001b[39m\u001b[38;5;124m#6A0888\u001b[39m\u001b[38;5;124m\"\u001b[39m, linestyle \u001b[38;5;241m=\u001b[39m \u001b[38;5;124m'\u001b[39m\u001b[38;5;124mdashed\u001b[39m\u001b[38;5;124m'\u001b[39m) \u001b[38;5;66;03m#NUEVA curva\u001b[39;00m\n\u001b[1;32m----> 9\u001b[0m ax\u001b[38;5;241m.\u001b[39mplot(Y, \u001b[43mL_45\u001b[49m, color \u001b[38;5;241m=\u001b[39m \u001b[38;5;124m\"\u001b[39m\u001b[38;5;124m#404040\u001b[39m\u001b[38;5;124m\"\u001b[39m) \u001b[38;5;66;03m#línea de 45º\u001b[39;00m\n\u001b[0;32m     11\u001b[0m \u001b[38;5;66;03m# Lineas punteadas\u001b[39;00m\n\u001b[0;32m     12\u001b[0m plt\u001b[38;5;241m.\u001b[39maxvline(x \u001b[38;5;241m=\u001b[39m \u001b[38;5;241m70\u001b[39m, ymin\u001b[38;5;241m=\u001b[39m \u001b[38;5;241m0\u001b[39m, ymax \u001b[38;5;241m=\u001b[39m \u001b[38;5;241m0.69\u001b[39m, linestyle \u001b[38;5;241m=\u001b[39m \u001b[38;5;124m\"\u001b[39m\u001b[38;5;124m:\u001b[39m\u001b[38;5;124m\"\u001b[39m, color \u001b[38;5;241m=\u001b[39m \u001b[38;5;124m\"\u001b[39m\u001b[38;5;124mgrey\u001b[39m\u001b[38;5;124m\"\u001b[39m)\n",
      "\u001b[1;31mNameError\u001b[0m: name 'L_45' is not defined"
     ]
    },
    {
     "data": {
      "image/png": "[encoded data removed]",
      "text/plain": [
       "<Figure size 720x576 with 1 Axes>"
      ]
     },
     "metadata": {
      "needs_background": "light"
     },
     "output_type": "display_data"
    }
   ],
   "source": [
    "# Gráfico\n",
    "y_max = np.max(DA_IS_K)\n",
    "fig, ax = plt.subplots(figsize=(10, 8))\n",
    "\n",
    "\n",
    "# Curvas a graficar\n",
    "ax.plot(Y, DA_IS_K, label = \"DA\", color = \"#404040\") #curva ORIGINAL\n",
    "ax.plot(Y, DA_G, label = \"DA_G\", color = \"#6A0888\", linestyle = 'dashed') #NUEVA curva\n",
    "ax.plot(Y, L_45, color = \"#404040\") #línea de 45º\n",
    "\n",
    "# Lineas punteadas\n",
    "plt.axvline(x = 70, ymin= 0, ymax = 0.69, linestyle = \":\", color = \"grey\")\n",
    "plt.axhline(y = 175, xmin= 0, xmax = 0.70, linestyle = \":\", color = \"grey\")\n",
    "plt.axvline(x = 79,  ymin= 0, ymax = 0.80, linestyle = \":\", color = \"grey\")\n",
    "plt.axhline(y = 206, xmin= 0, xmax = 0.80, linestyle = \":\", color = \"grey\")\n",
    "\n",
    "# Texto agregado\n",
    "plt.text(0, 190, '$DA_G$', fontsize = 11.5, color = '#6A0888')\n",
    "plt.text(0, 125, '$DA^e$', fontsize = 11.5, color = 'black')\n",
    "plt.text(6, 4, '$45°$', fontsize = 11.5, color = 'black')\n",
    "plt.text(2.5, -3, '$◝$', fontsize = 30, color = '#404040')\n",
    "plt.text(70, 0, '$Y^e$', fontsize = 12, color = 'black')\n",
    "plt.text(85, 0, '$Y_G$', fontsize = 12, color = '#6A0888')\n",
    "plt.text(70, 45, '$→$', fontsize = 18, color = 'grey')\n",
    "plt.text(20, 165, '$↑$', fontsize = 18, color = 'grey')\n",
    "\n",
    "# Título y leyenda\n",
    "ax.set(title = \"Disminución del Gasto Fiscal $(G_0)$\", xlabel = r'Y', ylabel = r'DA')\n",
    "ax.legend()\n",
    "\n",
    "plt.show()"
   ]
  },
  {
   "cell_type": "markdown",
   "id": "69f4f124",
   "metadata": {},
   "source": [
    "3. Analice los efectos sobre la variable endógena $Y$  de un incremento del PBI mundial . El análisis debe ser intuitivo, matemático y gráfico. $ΔY^*>0$"
   ]
  },
  {
   "cell_type": "markdown",
   "id": "022bc0bc",
   "metadata": {},
   "source": [
    "\n",
    "- Intuitivo: \n",
    "\n",
    " $$ ↑Y* → ↑X → ↑DA → DA > Y → ↑Y $$ \n",
    " \n",
    " Si se da un incremento el PBI mundial la Demanda Agregada también aumenta, pesyo uqe las exportaciones también estaran en augue. Por lo tanto también sube el producto. \n",
    " \n",
    "- Matematicamente: \n",
    " \n",
    " $$ ΔY* > 0 → ¿ΔY? $$ \n",
    " \n",
    " Considerando el multiplicador keynesiano \n",
    " $$ \\frac{1}{1 - (b - m_1)(1 - t)}   $$ \n",
    " \n",
    " Sabiendo que $∆Y* > 0 $ y que $k > 0$, la multiplicación de un número positivo con otro positivo dará un positivo:\n",
    "\n",
    "$$ ∆Y = (+)(+) $$\n",
    "$$ ∆Y > 0 $$\n",
    " \n",
    "- Gráficamente: "
   ]
  },
  {
   "cell_type": "code",
   "execution_count": 24,
   "id": "a78d6da5",
   "metadata": {},
   "outputs": [],
   "source": [
    "# Curva de ingreso de equilibrio Original \n",
    "\n",
    "    #Parámetros\n",
    "    \n",
    "Y_size = 100 \n",
    "\n",
    "Co = 35\n",
    "Io = 40\n",
    "Go = 70\n",
    "Xo = 10\n",
    "h = 0.7\n",
    "b = 0.8\n",
    "m = 0.2\n",
    "t = 0.3\n",
    "r = 0.9\n",
    "\n",
    "Y = np.arange(Y_size)\n",
    "\n",
    "    # Ecuación \n",
    "def DA_K(Co, Io, Go, Xo, h, r, b, m, t, Y):\n",
    "    DA_K = (Co + Io + Go + Xo - h*r) + ((b - m)*(1 - t)*Y)\n",
    "    return DA_K\n",
    "\n",
    "DA_IS_K = DA_K(Co, Io, Go, Xo, h, r, b, m, t, Y)\n",
    "\n",
    "\n",
    "#--------------------------------------------------\n",
    "# NUEVA curva de ingreso de equilibrio\n",
    "\n",
    "    # Definir SOLO el parámetro cambiado\n",
    "Xo = 50\n",
    "\n",
    "# Generar la ecuación con el nuevo parámetro\n",
    "def DA_K(Co, Io, Go, Xo, h, r, b, m, t, Y):\n",
    "    DA_K = (Co + Io + Go + Xo - h*r) + ((b - m)*(1 - t)*Y)\n",
    "    return DA_K\n",
    "\n",
    "DA_G = DA_K(Co, Io, Go, Xo, h, r, b, m, t, Y)"
   ]
  },
  {
   "cell_type": "code",
   "execution_count": 25,
   "id": "b7538ac0",
   "metadata": {},
   "outputs": [
    {
     "ename": "NameError",
     "evalue": "name 'L_45' is not defined",
     "output_type": "error",
     "traceback": [
      "\u001b[1;31m---------------------------------------------------------------------------\u001b[0m",
      "\u001b[1;31mNameError\u001b[0m                                 Traceback (most recent call last)",
      "Input \u001b[1;32mIn [25]\u001b[0m, in \u001b[0;36m<cell line: 9>\u001b[1;34m()\u001b[0m\n\u001b[0;32m      7\u001b[0m ax\u001b[38;5;241m.\u001b[39mplot(Y, DA_IS_K, label \u001b[38;5;241m=\u001b[39m \u001b[38;5;124m\"\u001b[39m\u001b[38;5;124mDA\u001b[39m\u001b[38;5;124m\"\u001b[39m, color \u001b[38;5;241m=\u001b[39m \u001b[38;5;124m\"\u001b[39m\u001b[38;5;124m#404040\u001b[39m\u001b[38;5;124m\"\u001b[39m) \u001b[38;5;66;03m#curva ORIGINAL\u001b[39;00m\n\u001b[0;32m      8\u001b[0m ax\u001b[38;5;241m.\u001b[39mplot(Y, DA_G, label \u001b[38;5;241m=\u001b[39m \u001b[38;5;124m\"\u001b[39m\u001b[38;5;124mDA_G\u001b[39m\u001b[38;5;124m\"\u001b[39m, color \u001b[38;5;241m=\u001b[39m \u001b[38;5;124m\"\u001b[39m\u001b[38;5;124m#6A0888\u001b[39m\u001b[38;5;124m\"\u001b[39m, linestyle \u001b[38;5;241m=\u001b[39m \u001b[38;5;124m'\u001b[39m\u001b[38;5;124mdashed\u001b[39m\u001b[38;5;124m'\u001b[39m) \u001b[38;5;66;03m#NUEVA curva\u001b[39;00m\n\u001b[1;32m----> 9\u001b[0m ax\u001b[38;5;241m.\u001b[39mplot(Y, \u001b[43mL_45\u001b[49m, color \u001b[38;5;241m=\u001b[39m \u001b[38;5;124m\"\u001b[39m\u001b[38;5;124m#404040\u001b[39m\u001b[38;5;124m\"\u001b[39m) \u001b[38;5;66;03m#línea de 45º\u001b[39;00m\n\u001b[0;32m     11\u001b[0m \u001b[38;5;66;03m# Lineas punteadas\u001b[39;00m\n\u001b[0;32m     12\u001b[0m plt\u001b[38;5;241m.\u001b[39maxvline(x \u001b[38;5;241m=\u001b[39m \u001b[38;5;241m70\u001b[39m, ymin\u001b[38;5;241m=\u001b[39m \u001b[38;5;241m0\u001b[39m, ymax \u001b[38;5;241m=\u001b[39m \u001b[38;5;241m0.69\u001b[39m, linestyle \u001b[38;5;241m=\u001b[39m \u001b[38;5;124m\"\u001b[39m\u001b[38;5;124m:\u001b[39m\u001b[38;5;124m\"\u001b[39m, color \u001b[38;5;241m=\u001b[39m \u001b[38;5;124m\"\u001b[39m\u001b[38;5;124mgrey\u001b[39m\u001b[38;5;124m\"\u001b[39m)\n",
      "\u001b[1;31mNameError\u001b[0m: name 'L_45' is not defined"
     ]
    },
    {
     "data": {
      "image/png": "[encoded data removed]",
      "text/plain": [
       "<Figure size 720x576 with 1 Axes>"
      ]
     },
     "metadata": {
      "needs_background": "light"
     },
     "output_type": "display_data"
    }
   ],
   "source": [
    "# Gráfico\n",
    "y_max = np.max(DA_IS_K)\n",
    "fig, ax = plt.subplots(figsize=(10, 8))\n",
    "\n",
    "\n",
    "# Curvas a graficar\n",
    "ax.plot(Y, DA_IS_K, label = \"DA\", color = \"#404040\") #curva ORIGINAL\n",
    "ax.plot(Y, DA_G, label = \"DA_G\", color = \"#6A0888\", linestyle = 'dashed') #NUEVA curva\n",
    "ax.plot(Y, L_45, color = \"#404040\") #línea de 45º\n",
    "\n",
    "# Lineas punteadas\n",
    "plt.axvline(x = 70, ymin= 0, ymax = 0.69, linestyle = \":\", color = \"grey\")\n",
    "plt.axhline(y = 175, xmin= 0, xmax = 0.70, linestyle = \":\", color = \"grey\")\n",
    "plt.axvline(x = 79,  ymin= 0, ymax = 0.80, linestyle = \":\", color = \"grey\")\n",
    "plt.axhline(y = 206, xmin= 0, xmax = 0.80, linestyle = \":\", color = \"grey\")\n",
    "\n",
    "# Texto agregado\n",
    "plt.text(0, 190, '$DA_G$', fontsize = 11.5, color = '#6A0888')\n",
    "plt.text(0, 125, '$DA^e$', fontsize = 11.5, color = 'black')\n",
    "plt.text(6, 4, '$45°$', fontsize = 11.5, color = 'black')\n",
    "plt.text(2.5, -3, '$◝$', fontsize = 30, color = '#404040')\n",
    "plt.text(70, 0, '$Y^e$', fontsize = 12, color = 'black')\n",
    "plt.text(85, 0, '$Y_G$', fontsize = 12, color = '#6A0888')\n",
    "plt.text(70, 45, '$→$', fontsize = 18, color = 'grey')\n",
    "plt.text(20, 165, '$↑$', fontsize = 18, color = 'grey')\n",
    "\n",
    "# Título y leyenda\n",
    "ax.set(title = \"Aumento del PBI MUNDIAL $Y*$\", xlabel = r'Y', ylabel = r'DA')\n",
    "ax.legend()\n",
    "\n",
    "plt.show()"
   ]
  },
  {
   "cell_type": "markdown",
   "id": "a6a5669e",
   "metadata": {},
   "source": [
    "### Ejercicio 2 : Modelo de OA-DA y el nuevo esquema institucional de Política Monetaria, donde la tasa de interés de referencia  es usada como instrumento."
   ]
  },
  {
   "cell_type": "markdown",
   "id": "defefc82",
   "metadata": {},
   "source": [
    "Consideramos la ecuación de la demanda agregada $(DA)$:\n",
    "\n",
    "$$  P = \\frac{h Mo^s + jB_o}{h} - \\frac{jB_1 + hk}{h}Y $$\n",
    "\n",
    "Y la ecuación de la oferta agregada $(OA)$:\n",
    "\n",
    "$$ P = P^e + θ(Y - \\bar{Y}) $$ \n",
    "\n",
    "- Para hallar $Y^e$ igualamos ambas ecuaciones:\n",
    "\n",
    "$$ \\frac{h Mo^s + jB_o}{h} - \\frac{jB_1 + hk}{h}Y = P^e + θ(Y - \\bar{Y}) $$\n",
    "\n",
    "$$ Y^eq_da_oa = (\\frac{h Mo^s + jB_o}{h} - P^e + θ\\bar{Y}) : (θ - \\frac{jB_1 + hk}{h}) $$\n",
    "\n",
    "- Para hallamos P^e, despejamos la ecuación de $OA$ en función de Y:\n",
    "\n",
    "$$ P = P^e + θ(Y - \\bar{Y}) $$ \n",
    "\n",
    "$$ Y = \\frac{P - P^e - θ\\bar{Y}}{θ} $$\n",
    "\n",
    "Y reemplazamos $Y$ en la ecuación de $DA$:\n",
    "\n",
    "$$ P^eq_da_oa = (\\frac{h Mo^s + jB_o}{h} - \\frac{jB_1 + hk}{h}) * (\\frac{P - P^e - θ\\bar{Y}}{θ}) $$"
   ]
  },
  {
   "cell_type": "code",
   "execution_count": null,
   "id": "50aa5b84",
   "metadata": {},
   "outputs": [],
   "source": []
  }
 ],
 "metadata": {
  "kernelspec": {
   "display_name": "Python 3 (ipykernel)",
   "language": "python",
   "name": "python3"
  },
  "language_info": {
   "codemirror_mode": {
    "name": "ipython",
    "version": 3
   },
   "file_extension": ".py",
   "mimetype": "text/x-python",
   "name": "python",
   "nbconvert_exporter": "python",
   "pygments_lexer": "ipython3",
   "version": "3.9.12"
  }
 },
 "nbformat": 4,
 "nbformat_minor": 5
}
