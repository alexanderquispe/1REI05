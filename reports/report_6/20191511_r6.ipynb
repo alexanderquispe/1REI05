{
 "cells": [
  {
   "cell_type": "markdown",
   "id": "ab818643",
   "metadata": {},
   "source": [
    "                                                         CONTROL 6"
   ]
  },
  {
   "cell_type": "markdown",
   "id": "da50ab41",
   "metadata": {},
   "source": [
    "CONTROL DE LECTURA\n",
    "----"
   ]
  },
  {
   "cell_type": "markdown",
   "id": "d7b5e72d",
   "metadata": {},
   "source": [
    "\n",
    "El texto se titula “Cerrar la brecha: el efecto de una promesa enfocada y sin matrículas en las matrículas en las opciones universitarias de estudiantes de alto rendimiento” en sus siglas en inglés “Closing the gap: The effect of the target,  tuition-free promise on college choice of high-achieving, low-income students” de los autores Susan Dynarski, economista estadounidense que es profesora en Harvard Graduate School of Education y es investigadora económica , Cj Libassi es asistente de investigación en CCRC y estudiantes de doctorado y becario PEAR en economía y educación en Teachers College de la Universidad de Columbia , Katherine Michelmore es profesora asociada de política públicas en la Escuela de Políticas Públicas Gerald R. Ford en la Universidad de Michigan y Stephanie Owen, que es profesora asistente en el Departamento de Economía de Colby College. Es por ello que consideramos que la pregunta de investigación es ¿Cómo sé puede explicar las brechas de elección entre estudiantes de bajo estatus económico  y alto rendimiento académico para el  ingreso para universidad  de Michigan?\n",
    "\n",
    "Dentro de las ventajas del artículo podemos destacar la excelencia académica del trabajo tanto por el desarrollo como producto y por los autores que pusieron su trabajo, ahora de manera particular y refieriendose al contenido del trabajo, el trabajo presenta una correcta narración acompañado a una buena explicación de los gráficos, ambos elementos se complementan correctamente, además la manera que esta ordenado el trabajo ( Antecedentes, Lecciones de literatura e intervenciones previas, datos, muestras y aleatorias, intervenciones, estrategia empírica, resultados, efectos de bienestar y consecuencias imprevista, conclusiones) permite al lector poder informarse correctamente del tema, de la hipótesis y comprender lo planteado por los autores. Por otro lado, rescatar los elementos usado para hallar los resultados en donde se separa en una evidencia de conocimiento de Hail de la actividad del sitio web, solicitud, admisión e inscripción en la Universidad de Michigan, aislamiento y desconexión, alcance de la desventaja económica,  titulos académicos y entre las caracteristicas adicionales de los Estudiante, elementos que son importantes resaltar y comprender porque han sido usado para hallar la respuesta. En debilidades no presenta ninguna fuerte o distintiva, pero quizás mencionar que el espacio de estudio es muy limitado, en este caso la Universidad de Michigan; sin embargo, es comprensible pensar el porque se ha escogido la universidad como muestra pues se puede conseguir más precisas y concreta.\n",
    "\n",
    "Dicho artículo ha podido contribuir a una manera significativa a la manera ingeniosa de poder conectar los dos casos planteados como son los estudiantes de bajo estatus económicos y alto rendimiento, que si bien pueden tener varias ideas generalizadas que son casos diferentes, es todo lo contrario, encuentran muchas semejanzas en el contexto universitario, lo que lo hace novedoso y original a su manera. Es un trabajo educativo y calificativo. \n",
    "\n",
    "Si bien, el presente trabajo avanza de una manera significativa en buscar respuestas a la pregunta de investigación desarrollada, si bien el trabajo no presenta debilidades fuertes y se encuentran planteamientos claros, existen otros puntos en donde la investigación podría mejorar; por ejemplo, la investigación no solo centrada en la Universidad de Michigan, si no en un campo más grande. Un ejemplo de ello es el trabajo realizado por Caroline Hoxby y Sarah Tuner llamado “What High Achieving Low-Income Students Know About College Options” (2015), en donde se visualiza el mismo estudio de variables para poder entender las brechas de dichos grupos en las elecciones de universidades bajo el proyecto ECO, proyecto especializado en probar hipótesis planteadas entre estudiantes de bajos ingresos y alto rendimiento, en conclusión del trabajo muestra que “la Información sobre el costo neto adaptada a las circunstancias de una familia e información destacada sobre las características de la universidad cambia la forma en que los estudiantes evalúan las universidades en la etapa de solicitud en última instancia, resultando en un conjunto más sólido de opciones universitarias” ( Hoxby y Turner, 2015), como vemos en las elecciones de universidades  varían de las circunstancias en las evaluaciones personales junto a sus factor.\n",
    "\n",
    "\n",
    "Bibliografía\n",
    "\n",
    "Hoxby, C. & Turner, S. (2015). What High-Achieving Low-Income Students Know About College Options. https://economics.virginia.edu/sites/economics.virginia.edu/files/admin/ppHoxby_Turner.pdf\n",
    "\n",
    "\n"
   ]
  }
 ],
 "metadata": {
  "kernelspec": {
   "display_name": "Python 3 (ipykernel)",
   "language": "python",
   "name": "python3"
  },
  "language_info": {
   "codemirror_mode": {
    "name": "ipython",
    "version": 3
   },
   "file_extension": ".py",
   "mimetype": "text/x-python",
   "name": "python",
   "nbconvert_exporter": "python",
   "pygments_lexer": "ipython3",
   "version": "3.9.12"
  }
 },
 "nbformat": 4,
 "nbformat_minor": 5
}
