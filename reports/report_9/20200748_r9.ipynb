{
 "cells": [
  {
   "cell_type": "markdown",
   "id": "9ca3eeb9",
   "metadata": {},
   "source": [
    "# Reporte 9:"
   ]
  },
  {
   "cell_type": "markdown",
   "id": "32d9ab8e",
   "metadata": {},
   "source": [
    "La pregunta de investigación de este artículo es: ¿Cuál ha sido el impacto de la introducción escalonada de Facebook en las universidades estadounidense sobre la salud mental de sus estudiantes? La hipótesis popular por parte de los investigadores ha sido que la expansión y difusión de las redes sociales ha tenido un efecto importante en el deterioro progresivo de la salud mental de los jóvenes adolescentes y adultos. Este trabajo reafirma esta hipótesis mediante una estrategia empírica generalizada de diferencia-en-diferencias que analiza la universidad a la que asiste un estudiante y si el estudiante realizó la encuesta antes o después de la introducción de Facebook en su instituto de estudios. Así mismo también compara la diferencia de antes y después en los resultados entre los estudiantes en las universidades donde se introdujo Facebook y los estudiantes en las universidades que no cambiaron su estado de Facebook entre los dos períodos. "
   ]
  },
  {
   "cell_type": "markdown",
   "id": "80444194",
   "metadata": {},
   "source": [
    "Una fortaleza importante de esta investigación es su caso de análisis. Cuando se piensa en el impacto de Facebook, y de las redes sociales en general en los adolescentes y jóvenes se suelen enfocar en espacios temporales en los cuáles las redes sociales ya crecieron y se establecieron en la vida social. Sin embargo, en este estudio se analiza la expansión temprana de Facebook en universidades estadounidenses para así investigar los efectos del uso de las redes sociales en la salud mental de los estudiantes. Este caso en particular junto con la estrategia de análisis proporciona una fuente de variación cuasiexperimental en la exposición a las redes sociales que permite acércanos aun más a la identificación de una relación causal.  Asimismo, mediante la estrategia empírica generalizada de diferencia-en-diferencias se logra descartar varios factores de confusión como diferencias específicas de la universidad fijadas en el tiempo, las diferencias a lo largo del tiempo que afectan a todos los estudiantes de manera similar, y, lo más importante, junto con una especificación que se fija en la variación en la duración de exposición logramos apreciar que no se basan las suposiciones de tendencias paralelas de nivel universitario de referencia para la identificación. De igual modo, el modelo de efectos fijos bidireccionales (TWFE) permitió descartar preocupaciones que de otro modo pudieron afectar las capacidades de interpretar los resultados como causales como diferencias invariantes en el tiempo en la salud mental entre las universidades o que los resultados fueron impulsados por los resultados de salud mental que evolucionan con el tiempo de una manera que es común entre los estudiantes de diferentes universidades. "
   ]
  },
  {
   "cell_type": "markdown",
   "id": "50a3cec9",
   "metadata": {},
   "source": [
    "Sin embargo, a pesar de estas fortalezas, también hay que tomar en cuenta sus debilidades. Respecto a los resultados, no se puede concluir que, a partir de las estimaciones, se puede hablar directamente de los efectos de las funciones de las redes sociales ni tampoco se puede confiar al 100% los autoinformes ya que pueden sufrir de errores de medición debido al sesgo de recuerdo, la falta de incentivos y las preocupaciones de imagen social. Asimismo, sería bueno adentrar mucho más en el efecto similar en la salud mental de otros grupos demográficos ya sea de distintos grupos de edad, etnicidad, religión, etc. De la misma manera, se señala que en la construcción del indicador de tratamiento no se tomó en cuenta si los encuestados fueron o no tratados cuando el semestre en el que realizó la encuesta coincide con el semestre en el que Facebook se implementó en su universidad. Esto se debe a la imposibilidad del momento de poder determinarlo, pero igual es importante mencionarlo. A pesar de que se ha mencionado los beneficios del modelo TWFE y las estrategias de análisis, estas igual presentan ciertas limitaciones que deben ser tomadas en cuenta. Las regresiones basadas en TWFE ofrecen estimaciones consistentes solo bajo suposiciones relativamente fuertes sobre la homogeneidad en los efectos del tratamiento. A pesar de que se abordó la preocupación de la confiabilidad de este estimador utilizando estimadores robustos que ofrecían estimaciones consistentes incluso en presencia de efectos de tratamiento heterogéneos a lo largo del tiempo y / o unidades tratadas, esto no quita que se basa fuertemente en suposiciones fuertes planteados por los autores. Estas mismas suposiciones están respaldadas por análisis preliminares, pero sería mejor realizar análisis más rigurosos de estas suposiciones y el efecto que tienen en ciertos resultados como fue en el caso de la explicación de duración de exposición de Facebook y las tendencias de salud mental a largo plazo. "
   ]
  },
  {
   "cell_type": "markdown",
   "id": "09b2f412",
   "metadata": {},
   "source": [
    "La contribución de este estudio es que reconfirma las hipótesis de que las redes sociales tienen un impacto negativo en la salud mental y que desempeñan un rol en el incremento de problemas mentales en jóvenes y adolescentes en los últimos años. Además, contribuye a las investigaciones de este tema al proporcionar la evidencia causal más completa hasta esa fecha sobre los efectos de las redes sociales en la salud mental, gracias a su estrategia de análisis y su caso particular de análisis. Aporta con una recopilación y estructuración de variables de resultados de salud mental más completas y detalladas que artículos experimentales anteriores, sus estimaciones capital efectos de equilibrio general respecto a las redes sociales, y se puede estimar efectos a largo plazo, incluso luego de la introducción de Facebook en las universidades. Asimismo, presenta heterogeneidad en sus resultados al analizar el impacto de Facebook en grupos más selectos como las mujeres, los hispanohablantes, etc. En general, este estudio contribuye al señalar que el lanzamiento de Facebook en las universidades aumentó el síntoma de mala salud mental, especialmente depresión; identificó que estudiantes más susceptibles a enfermedades mentales son más probables de que Facebook los conduzca a una mayor utilización de servicios de salud; y demostró que la probabilidad de deficiencias en el rendimiento académico aumenta como resultado de una mala salud mental resultado del uso de Facebook. "
   ]
  },
  {
   "cell_type": "markdown",
   "id": "dd2b8c86",
   "metadata": {},
   "source": [
    "Finalmente, algunas maneras de avanzar esta pregunta y, en general, el tema del impacto negativo de las redes sociales en los jóvenes sería, según autores Simoncic et al. (2014), analizar a mayor profundidad la asociación entre el uso de Facebook y los síntomas depresivos a partir de factores individuales como la personalidad y sexo.  De acuerdo a ellos, existe una relación compleja entre ambas variables según el sexo y la personalidad ya que, por ejemplo, mujeres con neuroticismo alto usualmente presentan síntomas depresivos más bajos en comparación de otras mujeres jóvenes. Asimismo, de acuerdo a McCrory et al. (2020), sería interesante analizar más a fondo como distintos tipos de redes sociales, visuales como Instagram y Snapchat o textuales como WhatsApp y Twitter, producen distintos efectos en la salud mental de la juventud. A esto se le puede añadir el estudio del tipo de contenido al cuál son expuesto los estudiantes, así como la duración de la exposición. "
   ]
  },
  {
   "cell_type": "markdown",
   "id": "82dc1b30",
   "metadata": {},
   "source": [
    "Bibliografía:\n",
    "\n",
    "McCrory, A., Best, P., & Maddock, A. (2020). The relationship between highly visual social media and young people’s mental health: A scoping review. Children and Youth Services Review, 115, 105053.\n",
    "\n",
    "Simoncic, T. E., Kuhlman, K. R., Vargas, I., Houchins, S., & Lopez-Duran, N. L. (2014). Facebook use and depressive symptomatology: Investigating the role of neuroticism and extraversion in youth. Computers in Human Behavior, 40, 1-5."
   ]
  }
 ],
 "metadata": {
  "kernelspec": {
   "display_name": "Python 3 (ipykernel)",
   "language": "python",
   "name": "python3"
  },
  "language_info": {
   "codemirror_mode": {
    "name": "ipython",
    "version": 3
   },
   "file_extension": ".py",
   "mimetype": "text/x-python",
   "name": "python",
   "nbconvert_exporter": "python",
   "pygments_lexer": "ipython3",
   "version": "3.9.12"
  }
 },
 "nbformat": 4,
 "nbformat_minor": 5
}
