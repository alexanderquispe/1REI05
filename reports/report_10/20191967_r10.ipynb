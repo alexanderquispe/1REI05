{
 "cells": [
  {
   "cell_type": "markdown",
   "id": "aebda03e",
   "metadata": {},
   "source": [
    "**Reporte 10**\n",
    "\n",
    "1. ¿Cuál es la pregunta de investigación del artículo?\n",
    "\n",
    "A partir de la siguiente cita: \"Our results point to a different channel – exposure to innovation during childhood – as a critical factor that determines who becomes an inventor and the types of innovations they pursue.\" (Bell, Chetty, Jaravel, Petkova, y Van Reenen, (2017), se sugiere que la pregunta de investigación del artículo estaría formulada de la siguiente manera: ¿Qué factores son los que determinan quién se convierte en inventor y los tipos de innovaciones que se persiguen?\n",
    "\n",
    "2. ¿Cuáles son las fortalezas y debilidades del enfoque del documento para responder a esa pregunta?\n",
    "\n",
    "Una fortaleza del artículo viene determinada por su aproximación metodológica, ya que los resultados y conclusiones han sido formulados sobre la base de una investigación que recopila información de 1.2 millones de inventores a lo largo de 18 años. De esta manera, desarrolla una investigación de amplia base que logra establecer conclusiones de alta fiabilidad como respuesta a la pregunta de investigación planteada. Al mismo tiempo, la amplitud de los datos recopilados permite al artículo desarrollar una diferenciación fundamental entre los efectos de la habilidad innata y los del ambiente en que la persona se desarrolla durante la infancia. Por otro lado, el artículo se encuentra limitado en la extensión de su análisis ya que, como bien reconoce, se centra en el análisis del impacto de las condiciones en las que las personas se desarrollan (sexo, ingresos de los padres, raza, et.) sin desarrollar mayor consideración por el efecto de los programas difundidos como iniciativa pública o privada: los cuales pueden tener también un efecto significativo sobre el hecho de que una persona termine desarrollando innovaciones.\n",
    "\n",
    "3. ¿Cómo avanza este documento el conocimiento sobre la pregunta, es decir, cuál es la contribución? (Si no puede encontrar ninguna contribución, pregúntese por qué el editor y los árbitros decidieron publicar el artículo).\n",
    "\n",
    "El artículo tiene a su favor el contribuir de manera significativa a la literatura sobre cómo las proyecciones de éxito en los niños vienen determinadas por sus entornos (\"our findings contribute to the growing literature on how children’s prospects for success are shaped by their environments\"). De igual manera, establece de forma concluyente que la exposición a innovación durante la infancia es el factor más importante al momento de determinar quiénes se convierten en inventores y qué tipos de innovaciones perseguirán. De manera análoga, concluye que los niños talentosos provenientes de familias de bajos recursos, minorías y mujeres tendrán menores probabilidades de convertirse en inventores (la falta de exposición a innovaciones). Finalmente, el aríticulo sugiere que los programas de exposición a la innovación deben ser canalizados a los niños sobresalientes matemáticas y ciencias que pertenezcan a estas últimas categorías demográficas.\n",
    "\n",
    "4. ¿Cuáles serían uno o dos próximos pasos específicos para avanzar en esta pregunta? (Lean otros artículos relacionados)\n",
    "\n",
    "Por su parte, Tharpe, Leachman y Saenz (2020) han desarrollado la evaluación sobre una serie de medidas que los Estados podrían llevar a cabo para mejorar la proyección de las personas de convertirse en inventoras. De esta manera, concluyen que los Estados pueden: \"Priorizar el aprendizaje de alta calidad para todos los niños desde el nacimiento hasta la adolescencia [...] Reforzar la seguridad económica de las familias para que más personas puedan buscar la innovación [...] Aprovechar los colegios y universidades para fortalecer y diversificar las redes locales de innovación [...] Fomentar redes profesionales, comunidades y escuelas más diversas [...] Buscar otras políticas que eliminen las barreras para las mujeres, las personas de color y otras personas que con demasiada frecuencia se pasan por alto\" (Tharpe, Leachman y Saenz, 2020).\n",
    "\n",
    "Bibliografía:\n",
    "\n",
    "Bell, Chetty, Jaravel, Petkova, & Van Reenen (2017). Who Becomes an Inventor in America? The Importance of Exposure to Innovation. NATIONAL BUREAU OF ECONOMIC RESEARCH.\n",
    "\n",
    "Tharpe, Leachman & Saenz (2020). Tapping More People’s Capacity to Innovate Can Help States Thrive. Center on Budget and Policy Priorities. https://www.cbpp.org/research/state-budget-and-tax/tapping-more-peoples-capacity-to-innovate-can-help-states-thrive\n",
    "\n",
    "Regresión discontinua\n",
    "\n",
    "1. Explique de manera muy breve y resumida en qué consiste una regresión discontinua.\n",
    "\n",
    "Para la regresión discontinua, se tiene una variable de tratamiento \"T\", y dos resultados potenciales \"Y0\" e \"Y1\". De esta manera, el tratamiento será cero cuando \"R\" se encuentre por debajo de un umbral determinado \"c\", y será uno cuando se encuentre por encima de este.\n",
    "\n",
    "2. Detalle un ejemplo en la vida real en donde podría emplear una regresión discontinua.\n",
    "\n",
    "Un ejemplo en el que se podría emplear la regresión discontinua es la evaluación del impacto de las campañas de vacunas sobre el número de inmunizaciones de rutina atendidos por los servicios de salud. \n",
    "\n",
    "3. Explique el diseño Sharp Desing y comente un ejemplo en la vida real en donde podría aplicarlo (sea lo más detallado posible).\n",
    "\n",
    "El sharp desing, por su parte, implica la comparación del resultado cuando \"R\" se encuentra justo por encima, o justo por debajo del umbral \"c\", para así determinar el efecto de tratamiento en el umbral. Para este diseño, la probabilidad de obtener el tratamiento va de cero a uno en el umbral. Para este caso un ejemplo apropiado sería el planteado por Dell (2009), quien propone que la presencia de instituciones coloniales extractivas en la economía afecta de manera determinante (y positiva) al eventual desarrollo económico."
   ]
  }
 ],
 "metadata": {
  "kernelspec": {
   "display_name": "Python 3 (ipykernel)",
   "language": "python",
   "name": "python3"
  },
  "language_info": {
   "codemirror_mode": {
    "name": "ipython",
    "version": 3
   },
   "file_extension": ".py",
   "mimetype": "text/x-python",
   "name": "python",
   "nbconvert_exporter": "python",
   "pygments_lexer": "ipython3",
   "version": "3.9.12"
  }
 },
 "nbformat": 4,
 "nbformat_minor": 5
}
