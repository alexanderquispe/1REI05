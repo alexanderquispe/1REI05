{
 "cells": [
  {
   "cell_type": "markdown",
   "id": "d9f10665",
   "metadata": {},
   "source": [
    "R9_20192304\n",
    "Ariana Sato\n"
   ]
  },
  {
   "cell_type": "markdown",
   "id": "cc4156f7",
   "metadata": {},
   "source": [
    "El artículo llamado Las Redes Sociales y la salud mental está centrado en la población estadounidense, pero no se aleja de la realidad de todas las personas del mundo entero. El objetivo de los autores es proporcionar estimaciones causi experimentales sobre el impacto de las redes sociales en la salud mental a través de un experimento natural denominado “la introducción escalonada de Facebook en las universidades estadounidenses. \n",
    "\n",
    "Dentro del paper se muestran fortalezas tales como el uso de la combinación de datos sobre salud mental de los estudiantes estadounidenses durante los años de expansión de una de las redes sociales más famosas como Facebook y una estrategia empírica de diferencias generalizadas. También puedo considerar como fortaleza, el empleo de los conjuntos de datos que especifican fechas en las que Facebook fue introducido en las universidades de USA y data sobre las respuestas en las encuestas en la Evaluación Nacional de Salud mental Universitaria sobre salud mental y física de los estudiantes. Por último, el uso de gráficos en donde se exploran diferentes efectos en el desarrollo académico de los estudiantes, nos ayuda a entender mejor el fenómeno que se explica, ya que las evidencias son importantes para las pruebas de comparaciones dentro del estudio. No obstante, dentro de la investigación se encuentra como debilidad una falta de pruebas causales. Además, considero que puede existir sesgos en la investigación al no tener en cuenta el uso de otras redes sociales y otros problemas que interfieren en la salud mental de los jóvenes.\n",
    "\n",
    "A manera de contribución, el artículo presenta descubrimientos y respuestas que son interesantes para futuras investigación e incluso concientización. Por ejemplo, se observó que, tras la introducción de Facebook, los estudiantes tenían más probabilidades en donde su rendimiento académico se veía afectado por una mala salud mental en donde informaban que les traía consecuencias negativas en su desarrollo psicológico.  El artículo contribuye a una literatura existente que aprovecha la expansión de las plataformas para estudiar los efectos de los medios sociales en una variedad de resultados.\n",
    "\n",
    "Finalmente, estos descubrimientos pueden avanzar tras conocer   los resultados  donde se responde la hipótesis de que los medios sociales podrían ser en parte responsables deterioro de la salud mental de los adolescentes y los jóvenes. En la literatura existente encontramos que varios autores coinciden en ello y no solo en contextos universitarios, sino también desde la niñez y durante escenarios distintos. Barrón(2021 ) coincide con que las redes sociales han permitido que se desarrollen las relaciones interpersonales y de alguna forma tiene sus beneficios, sin embargo, las vivencias en redes sociales del estudiante universitario  tiene un efecto en la salud psicoemocional no precisamente positiva.  Por ejemplo, las “fake news” están fabricadas para provocar un impacto emocional en el usuario y ello al tener como objetivo brindar desinformación, ocasionan sentimientos como frustración, ira y ansiedad, claramente esto afecta la salud mental. (Abjaude, 2021;pp:2). Además, no solo causaría problemas de ese tipo sino que los adolescentes pueden desarrollar trastornos que dañen su autoestima debido al contenido al que se exponen y al ciberacoso. \n",
    "\n"
   ]
  }
 ],
 "metadata": {
  "kernelspec": {
   "display_name": "Python 3 (ipykernel)",
   "language": "python",
   "name": "python3"
  },
  "language_info": {
   "codemirror_mode": {
    "name": "ipython",
    "version": 3
   },
   "file_extension": ".py",
   "mimetype": "text/x-python",
   "name": "python",
   "nbconvert_exporter": "python",
   "pygments_lexer": "ipython3",
   "version": "3.9.12"
  }
 },
 "nbformat": 4,
 "nbformat_minor": 5
}
