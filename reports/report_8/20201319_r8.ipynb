{
  "nbformat": 4,
  "nbformat_minor": 0,
  "metadata": {
    "colab": {
      "provenance": []
    },
    "kernelspec": {
      "name": "python3",
      "display_name": "Python 3"
    },
    "language_info": {
      "name": "python"
    }
  },
  "cells": [
    {
      "cell_type": "markdown",
      "source": [
        "\n",
        "# REPORTE 8\n",
        "\n",
        "**Nombre**: Alessandra Marcela Marocho Pacheco \n",
        "\n",
        "**Código**: 20201319 \n"
      ],
      "metadata": {
        "id": "b8KD8NIjNbGJ"
      }
    },
    {
      "cell_type": "markdown",
      "source": [
        "### **LECTURA**\n",
        "\n",
        "El artículo desarrollado por Dell se concentra en el análisis sobre el impacto que tuvo la mita dentro de las sociedades peruanas en las que se desarrolló durante 1573 y 1812. De acuerdo con la investigación realizada, esta forma de trabajo forzada tuvo distintos efectos principalmente sobre aspectos económicos, y han condicionado la calidad de vida de las personas pertenecientes a estas comunidades en la actualidad. Por ejemplo, la prevalencia de una agricultura de subsistencia o la presencia de estas comunidades en los mercados es evaluada entre aquellos distritos dónde funciono la mita. En base de estudios sobre la influencia de instituciones extractivas históricas sobre la prosperidad económica, el trabajo evalúa si este sistema puede explicar los estándares de vida de estas zonas, a pesar de haber finalizado hace más de 200 años.\n",
        "\n",
        " \n",
        "\n",
        "Entre las fortalezas del trabajo, podemos identificar la manera en los datos de la ENAHO y del censo del MINEDU son analizados dentro de las zonas de estudio de la mita y, cómo se utilizan en la aproximación de regresión discontinua. Por medio de su aplicación, la autora señala cómo la mita produce un efecto sobre el consumo doméstico. Se evidencia cómo, debido a la mita, esta muestra una disminución de 25 puntos porcentuales en la actualidad. Por su parte, el retraso en el crecimiento infantil también logra ser analizado, dando como resultado un incremento en 6 puntos porcentuales. Asimismo, el empleo de los canales de persistencia para demostrar los efectos en la tenencia de tierra, los bienes públicos y la participación en el mercado termina siendo ilustrativo. En primer lugar, logra demostrar cómo el acceso a las tierras entre aquellas zonas que formaron parte de la mita y no es diferenciado. Esto logra ser explicado por la falta de titulación sobre las tierras por parte del Estado, luego de haber abolido tal sistema. Igualmente, los años de educación también presentan un efecto negativo de 0.2 años en las zonas dentro del área de estudio, y la construcción de carreteras regionales, con una disminución de las mismas.  \n",
        "\n",
        " \n",
        "\n",
        "Frente a ello, la principal contribución de esta investigación se concentra en la articulación de las variables previamente mencionadas para demostrar el efecto que puede presentar una institución histórica sobre una región.  Gracias a los resultados obtenidos, la autora nos permite reafirmar la teoría previamente mencionada y comprender cómo ciertas regiones cuentan con más limitaciones para ser prósperas económicamente. El desarrollo de la mita presenta hasta la actualidad consecuencias que agravan la calidad de vida de estas comunidades, tales como su participación en el mercado, el desarrollo de las poblaciones más jóvenes y su nivel de educación. De igual manera, la inclusión de estas zonas en la actualidad resulta ser más complicada que los distritos aledaños, puesto que la ausencia de infraestructura vial determina que vivan en zonas poco accesibles. Finalmente, también nos permite comprender la desigualdad del acceso a la tierra, y cómo esta fue determinada por aquellas clases terratenientes con influencia sobre el Estado."
      ],
      "metadata": {
        "id": "A-ufOa59NnKz"
      }
    },
    {
      "cell_type": "markdown",
      "source": [],
      "metadata": {
        "id": "BO_cJdo0SQgq"
      }
    },
    {
      "cell_type": "markdown",
      "source": [
        "##**CÓDIGO**\n",
        "### **Instrumental Variables**\n",
        "\n",
        "**El supuesto de Relevance**\n",
        "\n",
        "De acuerdo con el supuesto de Relevancia, se espera que, al usar variables instrumentales, (X) el tratamiento sea explicado por el instrumento (Z). \n",
        "\n",
        "**El supuesto de Validity**\n",
        "\n",
        "De acuerdo con el supuesto de validez, se espera que el camino entre el resultado Y y el instrumento Z siempre pase por el tratamiento X. Debido a ello, se espera que el resto de las puertas se mantengan cerradas. "
      ],
      "metadata": {
        "id": "vXw9rWMaNwL9"
      }
    },
    {
      "cell_type": "markdown",
      "source": [
        "### **Ploteo de Histogramas**\n",
        "\n",
        "\n"
      ],
      "metadata": {
        "id": "7jykZhqVQWHU"
      }
    },
    {
      "cell_type": "code",
      "source": [
        "pip install linearmodels"
      ],
      "metadata": {
        "id": "dUIhW1icQPHp",
        "colab": {
          "base_uri": "https://localhost:8080/"
        },
        "outputId": "c5200983-cce4-4740-a42a-bb814e2de89c"
      },
      "execution_count": 12,
      "outputs": [
        {
          "output_type": "stream",
          "name": "stdout",
          "text": [
            "Looking in indexes: https://pypi.org/simple, https://us-python.pkg.dev/colab-wheels/public/simple/\n",
            "Collecting linearmodels\n",
            "  Downloading linearmodels-4.25-cp37-cp37m-manylinux_2_17_x86_64.manylinux2014_x86_64.whl (1.5 MB)\n",
            "\u001b[K     |████████████████████████████████| 1.5 MB 4.9 MB/s \n",
            "\u001b[?25hRequirement already satisfied: numpy>=1.16 in /usr/local/lib/python3.7/dist-packages (from linearmodels) (1.21.6)\n",
            "Collecting mypy-extensions>=0.4\n",
            "  Downloading mypy_extensions-0.4.3-py2.py3-none-any.whl (4.5 kB)\n",
            "Collecting pyhdfe>=0.1\n",
            "  Downloading pyhdfe-0.1.1-py3-none-any.whl (18 kB)\n",
            "Requirement already satisfied: pandas>=0.24 in /usr/local/lib/python3.7/dist-packages (from linearmodels) (1.3.5)\n",
            "Requirement already satisfied: scipy>=1.2 in /usr/local/lib/python3.7/dist-packages (from linearmodels) (1.7.3)\n",
            "Collecting property-cached>=1.6.3\n",
            "  Downloading property_cached-1.6.4-py2.py3-none-any.whl (7.8 kB)\n",
            "Requirement already satisfied: Cython>=0.29.21 in /usr/local/lib/python3.7/dist-packages (from linearmodels) (0.29.32)\n",
            "Requirement already satisfied: statsmodels>=0.11 in /usr/local/lib/python3.7/dist-packages (from linearmodels) (0.12.2)\n",
            "Collecting formulaic\n",
            "  Downloading formulaic-0.5.2-py3-none-any.whl (77 kB)\n",
            "\u001b[K     |████████████████████████████████| 77 kB 5.4 MB/s \n",
            "\u001b[?25hRequirement already satisfied: patsy in /usr/local/lib/python3.7/dist-packages (from linearmodels) (0.5.3)\n",
            "Requirement already satisfied: python-dateutil>=2.7.3 in /usr/local/lib/python3.7/dist-packages (from pandas>=0.24->linearmodels) (2.8.2)\n",
            "Requirement already satisfied: pytz>=2017.3 in /usr/local/lib/python3.7/dist-packages (from pandas>=0.24->linearmodels) (2022.6)\n",
            "Requirement already satisfied: six>=1.5 in /usr/local/lib/python3.7/dist-packages (from python-dateutil>=2.7.3->pandas>=0.24->linearmodels) (1.15.0)\n",
            "Collecting typing-extensions>=4.2.0\n",
            "  Downloading typing_extensions-4.4.0-py3-none-any.whl (26 kB)\n",
            "Requirement already satisfied: wrapt>=1.0 in /usr/local/lib/python3.7/dist-packages (from formulaic->linearmodels) (1.14.1)\n",
            "Requirement already satisfied: cached-property>=1.3.0 in /usr/local/lib/python3.7/dist-packages (from formulaic->linearmodels) (1.5.2)\n",
            "Requirement already satisfied: astor>=0.8 in /usr/local/lib/python3.7/dist-packages (from formulaic->linearmodels) (0.8.1)\n",
            "Collecting interface-meta>=1.2.0\n",
            "  Downloading interface_meta-1.3.0-py3-none-any.whl (14 kB)\n",
            "Collecting graphlib-backport>=1.0.0\n",
            "  Downloading graphlib_backport-1.0.3-py3-none-any.whl (5.1 kB)\n",
            "Installing collected packages: typing-extensions, interface-meta, graphlib-backport, pyhdfe, property-cached, mypy-extensions, formulaic, linearmodels\n",
            "  Attempting uninstall: typing-extensions\n",
            "    Found existing installation: typing-extensions 4.1.1\n",
            "    Uninstalling typing-extensions-4.1.1:\n",
            "      Successfully uninstalled typing-extensions-4.1.1\n",
            "\u001b[31mERROR: pip's dependency resolver does not currently take into account all the packages that are installed. This behaviour is the source of the following dependency conflicts.\n",
            "thinc 8.1.5 requires typing-extensions<4.2.0,>=3.7.4.1; python_version < \"3.8\", but you have typing-extensions 4.4.0 which is incompatible.\n",
            "spacy 3.4.2 requires typing-extensions<4.2.0,>=3.7.4; python_version < \"3.8\", but you have typing-extensions 4.4.0 which is incompatible.\n",
            "confection 0.0.3 requires typing-extensions<4.2.0,>=3.7.4.1; python_version < \"3.8\", but you have typing-extensions 4.4.0 which is incompatible.\u001b[0m\n",
            "Successfully installed formulaic-0.5.2 graphlib-backport-1.0.3 interface-meta-1.3.0 linearmodels-4.25 mypy-extensions-0.4.3 property-cached-1.6.4 pyhdfe-0.1.1 typing-extensions-4.4.0\n"
          ]
        }
      ]
    },
    {
      "cell_type": "code",
      "source": [
        "import os\n",
        "import numpy as np \n",
        "import pandas as pd \n",
        "import statsmodels.api as sm \n",
        "import statsmodels.formula.api as smf \n",
        "from itertools import combinations \n",
        "import plotnine as p\n",
        "import statsmodels.api as sm\n",
        "import statsmodels.formula.api as smf\n",
        "import linearmodels.iv.model as lm\n",
        "from linearmodels.iv import IV2SLS\n",
        "from statsmodels.iolib.summary2 import summary_col\n",
        "import seaborn as sns"
      ],
      "metadata": {
        "id": "kFTy3noxWRlv"
      },
      "execution_count": 14,
      "outputs": []
    },
    {
      "cell_type": "code",
      "source": [
        "import ssl\n",
        "ssl._create_default_https_context = ssl._create_unverified_context\n",
        "\n",
        "def read_data(file): \n",
        "    return pd.read_stata(\"https://raw.github.com/scunning1975/mixtape/master/\" + file)\n",
        "\n",
        "card = read_data(\"card.dta\")\n",
        "card.head()"
      ],
      "metadata": {
        "colab": {
          "base_uri": "https://localhost:8080/",
          "height": 235
        },
        "id": "YvElePvMWpnx",
        "outputId": "3653a1ad-24fa-470d-db71-7c4bf596de0a"
      },
      "execution_count": 15,
      "outputs": [
        {
          "output_type": "execute_result",
          "data": {
            "text/plain": [
              "    id  nearc2  nearc4  educ   age  fatheduc  motheduc    weight  momdad14  \\\n",
              "0  2.0     0.0     0.0   7.0  29.0       NaN       NaN  158413.0       1.0   \n",
              "1  3.0     0.0     0.0  12.0  27.0       8.0       8.0  380166.0       1.0   \n",
              "2  4.0     0.0     0.0  12.0  34.0      14.0      12.0  367470.0       1.0   \n",
              "3  5.0     1.0     1.0  11.0  27.0      11.0      12.0  380166.0       1.0   \n",
              "4  6.0     1.0     1.0  12.0  34.0       8.0       7.0  367470.0       1.0   \n",
              "\n",
              "   sinmom14  ...   KWW     IQ  married  libcrd14  exper     lwage  expersq  \\\n",
              "0       0.0  ...  15.0    NaN      1.0       0.0   16.0  6.306275    256.0   \n",
              "1       0.0  ...  35.0   93.0      1.0       1.0    9.0  6.175867     81.0   \n",
              "2       0.0  ...  42.0  103.0      1.0       1.0   16.0  6.580639    256.0   \n",
              "3       0.0  ...  25.0   88.0      1.0       1.0   10.0  5.521461    100.0   \n",
              "4       0.0  ...  34.0  108.0      1.0       0.0   16.0  6.591674    256.0   \n",
              "\n",
              "    u_lwage  lwage_hat    u_educ  \n",
              "0  0.198047   6.108228 -3.067539  \n",
              "1 -0.211160   6.387027 -1.727562  \n",
              "2  0.204719   6.375920  1.012975  \n",
              "3 -0.967905   6.489366 -2.253536  \n",
              "4  0.125173   6.466501  1.090437  \n",
              "\n",
              "[5 rows x 37 columns]"
            ],
            "text/html": [
              "\n",
              "  <div id=\"df-6ef5b1fe-372f-4660-b9e2-bfb551c211cc\">\n",
              "    <div class=\"colab-df-container\">\n",
              "      <div>\n",
              "<style scoped>\n",
              "    .dataframe tbody tr th:only-of-type {\n",
              "        vertical-align: middle;\n",
              "    }\n",
              "\n",
              "    .dataframe tbody tr th {\n",
              "        vertical-align: top;\n",
              "    }\n",
              "\n",
              "    .dataframe thead th {\n",
              "        text-align: right;\n",
              "    }\n",
              "</style>\n",
              "<table border=\"1\" class=\"dataframe\">\n",
              "  <thead>\n",
              "    <tr style=\"text-align: right;\">\n",
              "      <th></th>\n",
              "      <th>id</th>\n",
              "      <th>nearc2</th>\n",
              "      <th>nearc4</th>\n",
              "      <th>educ</th>\n",
              "      <th>age</th>\n",
              "      <th>fatheduc</th>\n",
              "      <th>motheduc</th>\n",
              "      <th>weight</th>\n",
              "      <th>momdad14</th>\n",
              "      <th>sinmom14</th>\n",
              "      <th>...</th>\n",
              "      <th>KWW</th>\n",
              "      <th>IQ</th>\n",
              "      <th>married</th>\n",
              "      <th>libcrd14</th>\n",
              "      <th>exper</th>\n",
              "      <th>lwage</th>\n",
              "      <th>expersq</th>\n",
              "      <th>u_lwage</th>\n",
              "      <th>lwage_hat</th>\n",
              "      <th>u_educ</th>\n",
              "    </tr>\n",
              "  </thead>\n",
              "  <tbody>\n",
              "    <tr>\n",
              "      <th>0</th>\n",
              "      <td>2.0</td>\n",
              "      <td>0.0</td>\n",
              "      <td>0.0</td>\n",
              "      <td>7.0</td>\n",
              "      <td>29.0</td>\n",
              "      <td>NaN</td>\n",
              "      <td>NaN</td>\n",
              "      <td>158413.0</td>\n",
              "      <td>1.0</td>\n",
              "      <td>0.0</td>\n",
              "      <td>...</td>\n",
              "      <td>15.0</td>\n",
              "      <td>NaN</td>\n",
              "      <td>1.0</td>\n",
              "      <td>0.0</td>\n",
              "      <td>16.0</td>\n",
              "      <td>6.306275</td>\n",
              "      <td>256.0</td>\n",
              "      <td>0.198047</td>\n",
              "      <td>6.108228</td>\n",
              "      <td>-3.067539</td>\n",
              "    </tr>\n",
              "    <tr>\n",
              "      <th>1</th>\n",
              "      <td>3.0</td>\n",
              "      <td>0.0</td>\n",
              "      <td>0.0</td>\n",
              "      <td>12.0</td>\n",
              "      <td>27.0</td>\n",
              "      <td>8.0</td>\n",
              "      <td>8.0</td>\n",
              "      <td>380166.0</td>\n",
              "      <td>1.0</td>\n",
              "      <td>0.0</td>\n",
              "      <td>...</td>\n",
              "      <td>35.0</td>\n",
              "      <td>93.0</td>\n",
              "      <td>1.0</td>\n",
              "      <td>1.0</td>\n",
              "      <td>9.0</td>\n",
              "      <td>6.175867</td>\n",
              "      <td>81.0</td>\n",
              "      <td>-0.211160</td>\n",
              "      <td>6.387027</td>\n",
              "      <td>-1.727562</td>\n",
              "    </tr>\n",
              "    <tr>\n",
              "      <th>2</th>\n",
              "      <td>4.0</td>\n",
              "      <td>0.0</td>\n",
              "      <td>0.0</td>\n",
              "      <td>12.0</td>\n",
              "      <td>34.0</td>\n",
              "      <td>14.0</td>\n",
              "      <td>12.0</td>\n",
              "      <td>367470.0</td>\n",
              "      <td>1.0</td>\n",
              "      <td>0.0</td>\n",
              "      <td>...</td>\n",
              "      <td>42.0</td>\n",
              "      <td>103.0</td>\n",
              "      <td>1.0</td>\n",
              "      <td>1.0</td>\n",
              "      <td>16.0</td>\n",
              "      <td>6.580639</td>\n",
              "      <td>256.0</td>\n",
              "      <td>0.204719</td>\n",
              "      <td>6.375920</td>\n",
              "      <td>1.012975</td>\n",
              "    </tr>\n",
              "    <tr>\n",
              "      <th>3</th>\n",
              "      <td>5.0</td>\n",
              "      <td>1.0</td>\n",
              "      <td>1.0</td>\n",
              "      <td>11.0</td>\n",
              "      <td>27.0</td>\n",
              "      <td>11.0</td>\n",
              "      <td>12.0</td>\n",
              "      <td>380166.0</td>\n",
              "      <td>1.0</td>\n",
              "      <td>0.0</td>\n",
              "      <td>...</td>\n",
              "      <td>25.0</td>\n",
              "      <td>88.0</td>\n",
              "      <td>1.0</td>\n",
              "      <td>1.0</td>\n",
              "      <td>10.0</td>\n",
              "      <td>5.521461</td>\n",
              "      <td>100.0</td>\n",
              "      <td>-0.967905</td>\n",
              "      <td>6.489366</td>\n",
              "      <td>-2.253536</td>\n",
              "    </tr>\n",
              "    <tr>\n",
              "      <th>4</th>\n",
              "      <td>6.0</td>\n",
              "      <td>1.0</td>\n",
              "      <td>1.0</td>\n",
              "      <td>12.0</td>\n",
              "      <td>34.0</td>\n",
              "      <td>8.0</td>\n",
              "      <td>7.0</td>\n",
              "      <td>367470.0</td>\n",
              "      <td>1.0</td>\n",
              "      <td>0.0</td>\n",
              "      <td>...</td>\n",
              "      <td>34.0</td>\n",
              "      <td>108.0</td>\n",
              "      <td>1.0</td>\n",
              "      <td>0.0</td>\n",
              "      <td>16.0</td>\n",
              "      <td>6.591674</td>\n",
              "      <td>256.0</td>\n",
              "      <td>0.125173</td>\n",
              "      <td>6.466501</td>\n",
              "      <td>1.090437</td>\n",
              "    </tr>\n",
              "  </tbody>\n",
              "</table>\n",
              "<p>5 rows × 37 columns</p>\n",
              "</div>\n",
              "      <button class=\"colab-df-convert\" onclick=\"convertToInteractive('df-6ef5b1fe-372f-4660-b9e2-bfb551c211cc')\"\n",
              "              title=\"Convert this dataframe to an interactive table.\"\n",
              "              style=\"display:none;\">\n",
              "        \n",
              "  <svg xmlns=\"http://www.w3.org/2000/svg\" height=\"24px\"viewBox=\"0 0 24 24\"\n",
              "       width=\"24px\">\n",
              "    <path d=\"M0 0h24v24H0V0z\" fill=\"none\"/>\n",
              "    <path d=\"M18.56 5.44l.94 2.06.94-2.06 2.06-.94-2.06-.94-.94-2.06-.94 2.06-2.06.94zm-11 1L8.5 8.5l.94-2.06 2.06-.94-2.06-.94L8.5 2.5l-.94 2.06-2.06.94zm10 10l.94 2.06.94-2.06 2.06-.94-2.06-.94-.94-2.06-.94 2.06-2.06.94z\"/><path d=\"M17.41 7.96l-1.37-1.37c-.4-.4-.92-.59-1.43-.59-.52 0-1.04.2-1.43.59L10.3 9.45l-7.72 7.72c-.78.78-.78 2.05 0 2.83L4 21.41c.39.39.9.59 1.41.59.51 0 1.02-.2 1.41-.59l7.78-7.78 2.81-2.81c.8-.78.8-2.07 0-2.86zM5.41 20L4 18.59l7.72-7.72 1.47 1.35L5.41 20z\"/>\n",
              "  </svg>\n",
              "      </button>\n",
              "      \n",
              "  <style>\n",
              "    .colab-df-container {\n",
              "      display:flex;\n",
              "      flex-wrap:wrap;\n",
              "      gap: 12px;\n",
              "    }\n",
              "\n",
              "    .colab-df-convert {\n",
              "      background-color: #E8F0FE;\n",
              "      border: none;\n",
              "      border-radius: 50%;\n",
              "      cursor: pointer;\n",
              "      display: none;\n",
              "      fill: #1967D2;\n",
              "      height: 32px;\n",
              "      padding: 0 0 0 0;\n",
              "      width: 32px;\n",
              "    }\n",
              "\n",
              "    .colab-df-convert:hover {\n",
              "      background-color: #E2EBFA;\n",
              "      box-shadow: 0px 1px 2px rgba(60, 64, 67, 0.3), 0px 1px 3px 1px rgba(60, 64, 67, 0.15);\n",
              "      fill: #174EA6;\n",
              "    }\n",
              "\n",
              "    [theme=dark] .colab-df-convert {\n",
              "      background-color: #3B4455;\n",
              "      fill: #D2E3FC;\n",
              "    }\n",
              "\n",
              "    [theme=dark] .colab-df-convert:hover {\n",
              "      background-color: #434B5C;\n",
              "      box-shadow: 0px 1px 3px 1px rgba(0, 0, 0, 0.15);\n",
              "      filter: drop-shadow(0px 1px 2px rgba(0, 0, 0, 0.3));\n",
              "      fill: #FFFFFF;\n",
              "    }\n",
              "  </style>\n",
              "\n",
              "      <script>\n",
              "        const buttonEl =\n",
              "          document.querySelector('#df-6ef5b1fe-372f-4660-b9e2-bfb551c211cc button.colab-df-convert');\n",
              "        buttonEl.style.display =\n",
              "          google.colab.kernel.accessAllowed ? 'block' : 'none';\n",
              "\n",
              "        async function convertToInteractive(key) {\n",
              "          const element = document.querySelector('#df-6ef5b1fe-372f-4660-b9e2-bfb551c211cc');\n",
              "          const dataTable =\n",
              "            await google.colab.kernel.invokeFunction('convertToInteractive',\n",
              "                                                     [key], {});\n",
              "          if (!dataTable) return;\n",
              "\n",
              "          const docLinkHtml = 'Like what you see? Visit the ' +\n",
              "            '<a target=\"_blank\" href=https://colab.research.google.com/notebooks/data_table.ipynb>data table notebook</a>'\n",
              "            + ' to learn more about interactive tables.';\n",
              "          element.innerHTML = '';\n",
              "          dataTable['output_type'] = 'display_data';\n",
              "          await google.colab.output.renderOutput(dataTable, element);\n",
              "          const docLink = document.createElement('div');\n",
              "          docLink.innerHTML = docLinkHtml;\n",
              "          element.appendChild(docLink);\n",
              "        }\n",
              "      </script>\n",
              "    </div>\n",
              "  </div>\n",
              "  "
            ]
          },
          "metadata": {},
          "execution_count": 15
        }
      ]
    },
    {
      "cell_type": "code",
      "source": [
        "sns.displot(card, x=\"educ\",col=\"nearc4\", hue = \"nearc4\")"
      ],
      "metadata": {
        "colab": {
          "base_uri": "https://localhost:8080/",
          "height": 386
        },
        "id": "nw8CkhetWvqK",
        "outputId": "70be6eba-dd6a-48e0-952f-49ff0acfad84"
      },
      "execution_count": 18,
      "outputs": [
        {
          "output_type": "execute_result",
          "data": {
            "text/plain": [
              "<seaborn.axisgrid.FacetGrid at 0x7fd74579b590>"
            ]
          },
          "metadata": {},
          "execution_count": 18
        },
        {
          "output_type": "display_data",
          "data": {
            "text/plain": [
              "<Figure size 771.875x360 with 2 Axes>"
            ],
            "image/png": "[encoded data removed]"
          },
          "metadata": {
            "needs_background": "light"
          }
        }
      ]
    },
    {
      "cell_type": "code",
      "source": [
        "sns.displot(card, x=\"educ\", hue = \"nearc4\", element=\"step\")"
      ],
      "metadata": {
        "colab": {
          "base_uri": "https://localhost:8080/",
          "height": 386
        },
        "id": "D2CqddMlX2gz",
        "outputId": "3bf5ae22-c3d5-4318-ec67-6b23179acde7"
      },
      "execution_count": 24,
      "outputs": [
        {
          "output_type": "execute_result",
          "data": {
            "text/plain": [
              "<seaborn.axisgrid.FacetGrid at 0x7fd71becc7d0>"
            ]
          },
          "metadata": {},
          "execution_count": 24
        },
        {
          "output_type": "display_data",
          "data": {
            "text/plain": [
              "<Figure size 411.875x360 with 1 Axes>"
            ],
            "image/png": "[encoded data removed]"
          },
          "metadata": {
            "needs_background": "light"
          }
        }
      ]
    },
    {
      "cell_type": "markdown",
      "source": [
        "**INTERPRETACIÓN:**\n",
        "\n",
        "Por medio del presente histograma podemos distinguir que, ante la presencia de un college, los años que una persona puede dedicar a la educación se incrementan. Hasta los 10 años de educación hay una cantidad similar de observaciones para cuando la variable nearc4 es igual a 0 o 1. \n",
        "\n",
        "Sin embargo, al llegar a los 12.5 años de educación, el tiempo dedicado a la educación puede ser influenciado porque la variable nearc4 sea igual a 1. Vemos una mayor concentración de datos en esta medida y, posteriormente, mantendrá esa superioridad de datos frente a los casos que representan la ausencia de un college. "
      ],
      "metadata": {
        "id": "oPTjLeU3oT4d"
      }
    },
    {
      "cell_type": "code",
      "source": [
        "sns.displot(card, x=\"lwage\",col=\"nearc4\", hue = \"nearc4\")"
      ],
      "metadata": {
        "colab": {
          "base_uri": "https://localhost:8080/",
          "height": 386
        },
        "id": "rGwkEf5PYHuy",
        "outputId": "bea48445-22fa-41ee-8a53-a97b4e6d12b6"
      },
      "execution_count": 19,
      "outputs": [
        {
          "output_type": "execute_result",
          "data": {
            "text/plain": [
              "<seaborn.axisgrid.FacetGrid at 0x7fd71c2d7dd0>"
            ]
          },
          "metadata": {},
          "execution_count": 19
        },
        {
          "output_type": "display_data",
          "data": {
            "text/plain": [
              "<Figure size 771.875x360 with 2 Axes>"
            ],
            "image/png": "[encoded data removed]"
          },
          "metadata": {
            "needs_background": "light"
          }
        }
      ]
    },
    {
      "cell_type": "code",
      "source": [
        "sns.displot(card, x=\"lwage\", hue = \"nearc4\", element=\"step\")"
      ],
      "metadata": {
        "colab": {
          "base_uri": "https://localhost:8080/",
          "height": 386
        },
        "id": "veTUpAO0qFJb",
        "outputId": "c4ed4f98-9020-4cf8-f8cd-85640b23b141"
      },
      "execution_count": 25,
      "outputs": [
        {
          "output_type": "execute_result",
          "data": {
            "text/plain": [
              "<seaborn.axisgrid.FacetGrid at 0x7fd71bdeeb90>"
            ]
          },
          "metadata": {},
          "execution_count": 25
        },
        {
          "output_type": "display_data",
          "data": {
            "text/plain": [
              "<Figure size 411.875x360 with 1 Axes>"
            ],
            "image/png": "[encoded data removed]"
          },
          "metadata": {
            "needs_background": "light"
          }
        }
      ]
    },
    {
      "cell_type": "markdown",
      "source": [
        "**INTERPRETACIÓN**\n",
        "\n",
        "Por medio del presente gráfico, podemos notar que la presencia de un college cerca puede tiene relación en que un mayor número de encuestados tendrán ingresos elevados. Los datos de la variable nearc4 == 1 se encuentran mayoritariamente entre 6.5 y 7. Es posible notar la diferencia frente a aquellos que componen la variable nearc4 == 0 en cantidad, puesto que son una menor proporción. \n",
        "\n",
        "Además, se puede distinguir un mayor grado de dispersión entre aquellos que conforman la variable nearc4 igual 1, mientras que para aquellos que no había un college cerca, los datos no presentan tanta diferencia. "
      ],
      "metadata": {
        "id": "nYOYYP9BqIza"
      }
    },
    {
      "cell_type": "markdown",
      "source": [
        "###**Regresiones**"
      ],
      "metadata": {
        "id": "akDqhY6uSozE"
      }
    },
    {
      "cell_type": "code",
      "source": [
        "ols_reg = sm.OLS.from_formula(\"lwage ~ educ + exper + black + south + married + smsa\", \n",
        "              data = card).fit()\n",
        "\n",
        "ols_reg.summary()"
      ],
      "metadata": {
        "id": "XNSCGwvXS0Ej",
        "colab": {
          "base_uri": "https://localhost:8080/",
          "height": 550
        },
        "outputId": "231e1181-c5e8-4eaa-8b7b-48a8f7df9052"
      },
      "execution_count": 20,
      "outputs": [
        {
          "output_type": "execute_result",
          "data": {
            "text/plain": [
              "<class 'statsmodels.iolib.summary.Summary'>\n",
              "\"\"\"\n",
              "                            OLS Regression Results                            \n",
              "==============================================================================\n",
              "Dep. Variable:                  lwage   R-squared:                       0.305\n",
              "Model:                            OLS   Adj. R-squared:                  0.304\n",
              "Method:                 Least Squares   F-statistic:                     219.2\n",
              "Date:                Sun, 13 Nov 2022   Prob (F-statistic):          1.97e-232\n",
              "Time:                        19:07:01   Log-Likelihood:                -1273.9\n",
              "No. Observations:                3003   AIC:                             2562.\n",
              "Df Residuals:                    2996   BIC:                             2604.\n",
              "Df Model:                           6                                         \n",
              "Covariance Type:            nonrobust                                         \n",
              "==============================================================================\n",
              "                 coef    std err          t      P>|t|      [0.025      0.975]\n",
              "------------------------------------------------------------------------------\n",
              "Intercept      5.0633      0.064     79.437      0.000       4.938       5.188\n",
              "educ           0.0712      0.003     20.438      0.000       0.064       0.078\n",
              "exper          0.0342      0.002     15.422      0.000       0.030       0.038\n",
              "black         -0.1660      0.018     -9.426      0.000      -0.201      -0.131\n",
              "south         -0.1316      0.015     -8.788      0.000      -0.161      -0.102\n",
              "married       -0.0359      0.003    -10.547      0.000      -0.043      -0.029\n",
              "smsa           0.1758      0.015     11.372      0.000       0.145       0.206\n",
              "==============================================================================\n",
              "Omnibus:                       53.196   Durbin-Watson:                   1.858\n",
              "Prob(Omnibus):                  0.000   Jarque-Bera (JB):               69.430\n",
              "Skew:                          -0.231   Prob(JB):                     8.38e-16\n",
              "Kurtosis:                       3.584   Cond. No.                         154.\n",
              "==============================================================================\n",
              "\n",
              "Notes:\n",
              "[1] Standard Errors assume that the covariance matrix of the errors is correctly specified.\n",
              "\"\"\""
            ],
            "text/html": [
              "<table class=\"simpletable\">\n",
              "<caption>OLS Regression Results</caption>\n",
              "<tr>\n",
              "  <th>Dep. Variable:</th>          <td>lwage</td>      <th>  R-squared:         </th> <td>   0.305</td> \n",
              "</tr>\n",
              "<tr>\n",
              "  <th>Model:</th>                   <td>OLS</td>       <th>  Adj. R-squared:    </th> <td>   0.304</td> \n",
              "</tr>\n",
              "<tr>\n",
              "  <th>Method:</th>             <td>Least Squares</td>  <th>  F-statistic:       </th> <td>   219.2</td> \n",
              "</tr>\n",
              "<tr>\n",
              "  <th>Date:</th>             <td>Sun, 13 Nov 2022</td> <th>  Prob (F-statistic):</th> <td>1.97e-232</td>\n",
              "</tr>\n",
              "<tr>\n",
              "  <th>Time:</th>                 <td>19:07:01</td>     <th>  Log-Likelihood:    </th> <td> -1273.9</td> \n",
              "</tr>\n",
              "<tr>\n",
              "  <th>No. Observations:</th>      <td>  3003</td>      <th>  AIC:               </th> <td>   2562.</td> \n",
              "</tr>\n",
              "<tr>\n",
              "  <th>Df Residuals:</th>          <td>  2996</td>      <th>  BIC:               </th> <td>   2604.</td> \n",
              "</tr>\n",
              "<tr>\n",
              "  <th>Df Model:</th>              <td>     6</td>      <th>                     </th>     <td> </td>    \n",
              "</tr>\n",
              "<tr>\n",
              "  <th>Covariance Type:</th>      <td>nonrobust</td>    <th>                     </th>     <td> </td>    \n",
              "</tr>\n",
              "</table>\n",
              "<table class=\"simpletable\">\n",
              "<tr>\n",
              "      <td></td>         <th>coef</th>     <th>std err</th>      <th>t</th>      <th>P>|t|</th>  <th>[0.025</th>    <th>0.975]</th>  \n",
              "</tr>\n",
              "<tr>\n",
              "  <th>Intercept</th> <td>    5.0633</td> <td>    0.064</td> <td>   79.437</td> <td> 0.000</td> <td>    4.938</td> <td>    5.188</td>\n",
              "</tr>\n",
              "<tr>\n",
              "  <th>educ</th>      <td>    0.0712</td> <td>    0.003</td> <td>   20.438</td> <td> 0.000</td> <td>    0.064</td> <td>    0.078</td>\n",
              "</tr>\n",
              "<tr>\n",
              "  <th>exper</th>     <td>    0.0342</td> <td>    0.002</td> <td>   15.422</td> <td> 0.000</td> <td>    0.030</td> <td>    0.038</td>\n",
              "</tr>\n",
              "<tr>\n",
              "  <th>black</th>     <td>   -0.1660</td> <td>    0.018</td> <td>   -9.426</td> <td> 0.000</td> <td>   -0.201</td> <td>   -0.131</td>\n",
              "</tr>\n",
              "<tr>\n",
              "  <th>south</th>     <td>   -0.1316</td> <td>    0.015</td> <td>   -8.788</td> <td> 0.000</td> <td>   -0.161</td> <td>   -0.102</td>\n",
              "</tr>\n",
              "<tr>\n",
              "  <th>married</th>   <td>   -0.0359</td> <td>    0.003</td> <td>  -10.547</td> <td> 0.000</td> <td>   -0.043</td> <td>   -0.029</td>\n",
              "</tr>\n",
              "<tr>\n",
              "  <th>smsa</th>      <td>    0.1758</td> <td>    0.015</td> <td>   11.372</td> <td> 0.000</td> <td>    0.145</td> <td>    0.206</td>\n",
              "</tr>\n",
              "</table>\n",
              "<table class=\"simpletable\">\n",
              "<tr>\n",
              "  <th>Omnibus:</th>       <td>53.196</td> <th>  Durbin-Watson:     </th> <td>   1.858</td>\n",
              "</tr>\n",
              "<tr>\n",
              "  <th>Prob(Omnibus):</th> <td> 0.000</td> <th>  Jarque-Bera (JB):  </th> <td>  69.430</td>\n",
              "</tr>\n",
              "<tr>\n",
              "  <th>Skew:</th>          <td>-0.231</td> <th>  Prob(JB):          </th> <td>8.38e-16</td>\n",
              "</tr>\n",
              "<tr>\n",
              "  <th>Kurtosis:</th>      <td> 3.584</td> <th>  Cond. No.          </th> <td>    154.</td>\n",
              "</tr>\n",
              "</table><br/><br/>Notes:<br/>[1] Standard Errors assume that the covariance matrix of the errors is correctly specified."
            ]
          },
          "metadata": {},
          "execution_count": 20
        }
      ]
    },
    {
      "cell_type": "markdown",
      "source": [
        "En primer lugar, si observamos el F - estadístico podemos determinar que el modelo propuesto es válido. De acuerdo con el R ajustado, cuenta con un 30.4% de predictibilidad. Asimismo, el p - value de cada una de las variables nos indica que aportan al modelo, puesto que no son superiores a 0.05. \n",
        "\n",
        "Podemos distinguir que, por ejemplo, por cada año más de educación los ingresos se incrementan en 7.12%. Asimismo, podemos ver que la variable married tiene un efecto inverso -3.59% sobre la variable dependiente. "
      ],
      "metadata": {
        "id": "18tdMnMuwvsq"
      }
    },
    {
      "cell_type": "code",
      "source": [
        "card['married'] = card['married'].fillna(0)"
      ],
      "metadata": {
        "id": "QlI2RVPWZOYN"
      },
      "execution_count": 22,
      "outputs": []
    },
    {
      "cell_type": "code",
      "source": [
        "iv_reg = IV2SLS.from_formula( \"lwage ~ 1 + exper + black + south + married + smsa + [educ ~ nearc4 ]\", card).fit()\n",
        "iv_reg.summary"
      ],
      "metadata": {
        "colab": {
          "base_uri": "https://localhost:8080/",
          "height": 457
        },
        "id": "ropTnPhDY2e6",
        "outputId": "4e82191b-64e5-4a97-829e-4b99a8e21d6e"
      },
      "execution_count": 23,
      "outputs": [
        {
          "output_type": "execute_result",
          "data": {
            "text/plain": [
              "<class 'linearmodels.compat.statsmodels.Summary'>\n",
              "\"\"\"\n",
              "                          IV-2SLS Estimation Summary                          \n",
              "==============================================================================\n",
              "Dep. Variable:                  lwage   R-squared:                      0.2428\n",
              "Estimator:                    IV-2SLS   Adj. R-squared:                 0.2413\n",
              "No. Observations:                3010   F-statistic:                    884.54\n",
              "Date:                Sun, Nov 13 2022   P-value (F-stat)                0.0000\n",
              "Time:                        19:08:58   Distribution:                  chi2(6)\n",
              "Cov. Estimator:                robust                                         \n",
              "                                                                              \n",
              "                             Parameter Estimates                              \n",
              "==============================================================================\n",
              "            Parameter  Std. Err.     T-stat    P-value    Lower CI    Upper CI\n",
              "------------------------------------------------------------------------------\n",
              "Intercept      4.0998     0.8209     4.9942     0.0000      2.4909      5.7088\n",
              "black         -0.1110     0.0493    -2.2504     0.0244     -0.2076     -0.0143\n",
              "exper          0.0571     0.0195     2.9262     0.0034      0.0189      0.0953\n",
              "married       -0.0318     0.0050    -6.3846     0.0000     -0.0415     -0.0220\n",
              "smsa           0.1448     0.0302     4.8025     0.0000      0.0857      0.2039\n",
              "south         -0.1128     0.0228    -4.9550     0.0000     -0.1574     -0.0682\n",
              "educ           0.1279     0.0484     2.6438     0.0082      0.0331      0.2227\n",
              "==============================================================================\n",
              "\n",
              "Endogenous: educ\n",
              "Instruments: nearc4\n",
              "Robust Covariance (Heteroskedastic)\n",
              "Debiased: False\n",
              "\"\"\""
            ],
            "text/html": [
              "<table class=\"simpletable\">\n",
              "<caption>IV-2SLS Estimation Summary</caption>\n",
              "<tr>\n",
              "  <th>Dep. Variable:</th>          <td>lwage</td>      <th>  R-squared:         </th> <td>0.2428</td> \n",
              "</tr>\n",
              "<tr>\n",
              "  <th>Estimator:</th>             <td>IV-2SLS</td>     <th>  Adj. R-squared:    </th> <td>0.2413</td> \n",
              "</tr>\n",
              "<tr>\n",
              "  <th>No. Observations:</th>       <td>3010</td>       <th>  F-statistic:       </th> <td>884.54</td> \n",
              "</tr>\n",
              "<tr>\n",
              "  <th>Date:</th>             <td>Sun, Nov 13 2022</td> <th>  P-value (F-stat)   </th> <td>0.0000</td> \n",
              "</tr>\n",
              "<tr>\n",
              "  <th>Time:</th>                 <td>19:08:58</td>     <th>  Distribution:      </th> <td>chi2(6)</td>\n",
              "</tr>\n",
              "<tr>\n",
              "  <th>Cov. Estimator:</th>        <td>robust</td>      <th>                     </th>    <td></td>    \n",
              "</tr>\n",
              "<tr>\n",
              "  <th></th>                          <td></td>         <th>                     </th>    <td></td>    \n",
              "</tr>\n",
              "</table>\n",
              "<table class=\"simpletable\">\n",
              "<caption>Parameter Estimates</caption>\n",
              "<tr>\n",
              "      <td></td>      <th>Parameter</th> <th>Std. Err.</th> <th>T-stat</th>  <th>P-value</th> <th>Lower CI</th> <th>Upper CI</th>\n",
              "</tr>\n",
              "<tr>\n",
              "  <th>Intercept</th>  <td>4.0998</td>    <td>0.8209</td>   <td>4.9942</td>  <td>0.0000</td>   <td>2.4909</td>   <td>5.7088</td> \n",
              "</tr>\n",
              "<tr>\n",
              "  <th>black</th>      <td>-0.1110</td>   <td>0.0493</td>   <td>-2.2504</td> <td>0.0244</td>   <td>-0.2076</td>  <td>-0.0143</td>\n",
              "</tr>\n",
              "<tr>\n",
              "  <th>exper</th>      <td>0.0571</td>    <td>0.0195</td>   <td>2.9262</td>  <td>0.0034</td>   <td>0.0189</td>   <td>0.0953</td> \n",
              "</tr>\n",
              "<tr>\n",
              "  <th>married</th>    <td>-0.0318</td>   <td>0.0050</td>   <td>-6.3846</td> <td>0.0000</td>   <td>-0.0415</td>  <td>-0.0220</td>\n",
              "</tr>\n",
              "<tr>\n",
              "  <th>smsa</th>       <td>0.1448</td>    <td>0.0302</td>   <td>4.8025</td>  <td>0.0000</td>   <td>0.0857</td>   <td>0.2039</td> \n",
              "</tr>\n",
              "<tr>\n",
              "  <th>south</th>      <td>-0.1128</td>   <td>0.0228</td>   <td>-4.9550</td> <td>0.0000</td>   <td>-0.1574</td>  <td>-0.0682</td>\n",
              "</tr>\n",
              "<tr>\n",
              "  <th>educ</th>       <td>0.1279</td>    <td>0.0484</td>   <td>2.6438</td>  <td>0.0082</td>   <td>0.0331</td>   <td>0.2227</td> \n",
              "</tr>\n",
              "</table><br/><br/>Endogenous: educ<br/>Instruments: nearc4<br/>Robust Covariance (Heteroskedastic)<br/>Debiased: False"
            ]
          },
          "metadata": {},
          "execution_count": 23
        }
      ]
    },
    {
      "cell_type": "markdown",
      "source": [
        "Al instrumentalizar la variable de años de educación con la variable nearc4, podemos notar que con cada año adicional de educación, el salario se incrementa en 12.7 puntos porcentuales. \n",
        "\n",
        "Presenta una diferencia frente al resultado obtenido en el anterior modelo para edu, que era igual 7.12 puntos porcentuales. Esta diferencia puede ser entendida por medio de una reducción de sesgos\n"
      ],
      "metadata": {
        "id": "xl73EqjYzfYX"
      }
    }
  ]
}