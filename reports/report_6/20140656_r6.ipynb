{
 "cells": [
  {
   "cell_type": "markdown",
   "id": "6595255b",
   "metadata": {},
   "source": [
    "# Parte 1: Reporte\n",
    "\n",
    "El artículo muestra que el porcentaje de los estudiantes de alto rendimiento y bajos ingresos que estudian en universidades selectivas es menor a los estudiantes con altos ingresos y con rendimiento similar. Tras el experimento, se demuestra que la incertidumbre, el sesgo del presente y la aversión a las pérdidas tienen una gran importancia en las decisiones universitarias de los estudiantes. En este grupo de estudiantes de alto rendimiento, los que tienen bajos ingresos solicitan ser admitidos en universidades cero selectivas a pesar de que hacer lo contrario; es decir, ir a universidades selectivas, probablemente reduciría sus costes, aumentaría sus posibilidades de obtener un título universitario e incrementar sus salarios a futuro. \n",
    "\n",
    "Las fortalezas del artículo, es que muestra que los patrones observados, como el sesgo de presente, el exceso de confianza en la rutina o los impagos, y la aversión al endeudamiento, son directamente para el grupo de estudiantes que presentan escasez económica. Es por ello, que a los estudiantes mediante la “Beca HAIL (High Achieving Involved Leader)\" se quiere entregar una oportunidad fácil de poder postularse para adquirirla, en donde los estudiantes matriculados en las escuelas públicas de Michigan, que cumplan con los requisitos podrían optar por adquirir la beca. La probabilidad de solicitar plaza en la Universidad de Michigan se duplicó con creces, pasando de 26% a 68% entre los estudiantes a los que se les ofreció el tratamiento. Este experimento fue favorable, ya que el porcentaje de matriculación en una universidad selectiva se duplicó con creces, pasando de 13% a 28%, lo cual aumentó el número de matriculaciones en la Universidad de Michigan. Otro punto importante, es lo que demuestra la economía conductual, pues podemos entender el por qué los estudiantes de bajos ingresos y alto rendimiento ingresan a universidades selectivas en porcentajes más inferiores al otro grupo de estudiantes de mayores ingresos, demostrando que las personas en general suelen tener preferencia inconsistente en el tiempo, centrándose solo en las consecuencias o situaciones del presente, actuando de forma incoherente pues olvidar sus objetivos para el futuro, dándole a su vez, demasiada importancia a los costes y beneficios a un tiempo de corto plazo. Y bien, la “Beca HAIL”, ayudó a los estudiantes de bajos ingresos económicos, los cuales se encuentran aislados por vivir en una zona rural, a tener más probabilidades pese a la distancia geográfica, de poder postular a la beca. Sin embargo, el artículo no tiene una investigación completa, pues existen más factores por los que un estudiante elige o no una universidad selectiva, ya que no todos aspiran a lo mismo, o tienen las mismas oportunidades, y no solo se habla económicamente, sino social o emocionalmente. Asimismo, debe existir total transparencia en el proceso, lo cual no se evidencia, pues existe corrupción, y muchas veces las becas son entregadas a personas que realmente no lo necesitan, disminuyendo de esa manera, las opciones que podrían tener el sector que sí necesita la beca. \n",
    "\n",
    "Si bien el texto demuestra que mediante programa de becas, las opciones de estudio para un mejor futuro al sector de bajos recursos económicos ayuda en gran parte, debe aún profundizar en los factores por los que aún existe una parte que no quiere o no puede aplicar a las becas. Un paso sería, realizar un estudio desde factores personales hasta características institucionales de los desertores (Vries, León, Romero, Francisco & Saldaña, 2011). Entre estos estudios, se demuestra que algunos de los factores serían el bajo promedio en el bachillerato, el estado civil y la necesidad de los estudiantes en combinar los estudios con la actividad laboral, y estos son solo algunos de los miles de casos que existen. Por tanto, se debería seguir un estudio que profundice los motivos y verdaderas razones por la que los estudiantes de bajos ingresos no continúan con los estudios o no pueden acceder desde un inicio a estos programas de becas. \n",
    "\n",
    "\n",
    "Vries, Wietse de, León Arenas, Patricia, Romero Muñoz, José Francisco, & Hernández Saldaña, Ignacio. (2011). ¿Desertores o decepcionados? Distintas causas para abandonar los estudios universitarios. Revista de la educación superior, 40(160), 29-49. Recuperado el 27 de octubre:  http://www.scielo.org.mx/scielo.php?script=sci_arttext&pid=S0185-27602011000400002&lng=es&tlng=es.\n",
    "\n"
   ]
  },
  {
   "cell_type": "code",
   "execution_count": null,
   "id": "85075f4e",
   "metadata": {},
   "outputs": [],
   "source": []
  }
 ],
 "metadata": {
  "kernelspec": {
   "display_name": "Python 3 (ipykernel)",
   "language": "python",
   "name": "python3"
  },
  "language_info": {
   "codemirror_mode": {
    "name": "ipython",
    "version": 3
   },
   "file_extension": ".py",
   "mimetype": "text/x-python",
   "name": "python",
   "nbconvert_exporter": "python",
   "pygments_lexer": "ipython3",
   "version": "3.9.12"
  }
 },
 "nbformat": 4,
 "nbformat_minor": 5
}
