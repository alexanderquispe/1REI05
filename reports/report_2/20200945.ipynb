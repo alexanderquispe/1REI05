{
 "cells": [
  {
   "cell_type": "markdown",
   "id": "a320420b",
   "metadata": {},
   "source": [
    "El presente artículo aborda los factores que influenciaron la inflación crónica del Perú en el periodo de 1970-1980 y la posterior hiperinflación hasta el año 1990. Los autores Martinelly y Mason, explican los eventos históricos de la época contemporánea en el país desde la mirada de la Macroeconomía, es decir, con un enfoque en la política monetaria y fiscal del Banco Central y los gobiernos de turno, respectivamente. Para cumplir con el objetivo, en el texto se realizan dos tipos de “ejercicios” analíticos: el primero es un  ejercicio de contabilidad de crecimiento, en el cual se identifican los componentes en el PBI de los trabajadores; el segundo es un ejercicio de contabilidad fiscal, en el que se identifican las fuentes de financiamiento del gobierno (impuestos inflacionarios y acumulación de deuda externa).\n",
    " \n",
    "El enfoque utilizado por parte de los autores relaciona directamente la historia con la economía, lo que permite tener una comprensión global de las crisis vividas en el país. Esto se debe a que, además del aspecto económico, se tiene una noción de la crisis social y política del periodo estudiado. Esa sería la contribución y fortaleza principal del artículo, pues permite al lector establecer una relación lógica entre dichos aspectos, como sucede en la realidad. De este modo, no se genera un sesgo en el análisis, que únicamente toma en consideración lo económico, lo político o lo social, y, por el contrario, integra dichas perspectivas, siempre con un énfasis en lo económico. Esto permite introducir en la discusión elementos como la calidad de las decisiones políticas, los rasgos del gobierno o eventos extraordinarios que, finalmente, tienen un efecto real en la economía, como ciencia social que es.\n",
    " \n",
    "Por otra parte, con relación a las críticas se podrían identificar dos. En primer lugar, los autores al explicar los efectos de la inflación y la superinflación no son muy específicos. Si bien el objetivo del texto era abordar los factores causales de las crisis inflacionarias, hubiera sido pertinente ser más claros con las repercusiones de estos fenómenos en la vida de los ciudadanos. Especialmente, si desde el inicio de la investigación se habla del “aprendizaje social”  como incentivo del cambio de régimen en la década de 1990. El profundizar en las consecuencias permitiría comprender mejor la magnitud de la hiperinflación en el Perú y el porqué de la respuesta de la gente.\n",
    " \n",
    "En segundo lugar, hubiera sido interesante hacer mayor énfasis en la influencia del factor internacional. Por ejemplo, hubiera sido pertinente tomar en consideración los efectos que las sugerencias del FMI tuvieron en el periodo de Belaúnde. Si bien estas fueron pensadas como mecanismo para mejorar la economía peruana, finalmente, el recorte del gasto público y fiscal no fue muy exitoso y en años posteriores, surgió una crisis de deuda externa.\n",
    " \n",
    "Para finalizar, probablemente se deban mencionar otros caminos que diferentes autores tomaron para responder a la interrogante, por ejemplo, Guevara habla de la importancia del BCR y el control de la política monetaria para el control de la inflacón. Diferente al énfasis en política fiscal que hace el presente autor.\n"
   ]
  }
 ],
 "metadata": {
  "kernelspec": {
   "display_name": "Python 3 (ipykernel)",
   "language": "python",
   "name": "python3"
  },
  "language_info": {
   "codemirror_mode": {
    "name": "ipython",
    "version": 3
   },
   "file_extension": ".py",
   "mimetype": "text/x-python",
   "name": "python",
   "nbconvert_exporter": "python",
   "pygments_lexer": "ipython3",
   "version": "3.9.12"
  }
 },
 "nbformat": 4,
 "nbformat_minor": 5
}
