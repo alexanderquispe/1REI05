{
 "cells": [
  {
   "cell_type": "markdown",
   "id": "6000d8d1",
   "metadata": {},
   "source": [
    "## Solucionario reporte 8:"
   ]
  },
  {
   "cell_type": "code",
   "execution_count": 1,
   "id": "5c45c3e6",
   "metadata": {},
   "outputs": [],
   "source": [
    "from causalgraphicalmodels import CausalGraphicalModel\n",
    "import os\n",
    "import numpy as np \n",
    "import matplotlib.pyplot as plt\n",
    "import pandas as pd \n",
    "import statsmodels.api as sm \n",
    "import statsmodels.formula.api as smf \n",
    "from itertools import combinations \n",
    "import plotnine as p\n",
    "import statsmodels.api as sm\n",
    "import statsmodels.formula.api as smf\n",
    "import linearmodels.iv.model as lm\n",
    "from linearmodels.iv import IV2SLS\n",
    "from statsmodels.iolib.summary2 import summary_col\n",
    "import seaborn as sns"
   ]
  },
  {
   "cell_type": "markdown",
   "id": "a4b46105",
   "metadata": {},
   "source": [
    "### 1. Ploteo de histogramas"
   ]
  },
  {
   "cell_type": "code",
   "execution_count": 2,
   "id": "f6c111fe",
   "metadata": {},
   "outputs": [
    {
     "data": {
      "text/html": [
       "<div>\n",
       "<style scoped>\n",
       "    .dataframe tbody tr th:only-of-type {\n",
       "        vertical-align: middle;\n",
       "    }\n",
       "\n",
       "    .dataframe tbody tr th {\n",
       "        vertical-align: top;\n",
       "    }\n",
       "\n",
       "    .dataframe thead th {\n",
       "        text-align: right;\n",
       "    }\n",
       "</style>\n",
       "<table border=\"1\" class=\"dataframe\">\n",
       "  <thead>\n",
       "    <tr style=\"text-align: right;\">\n",
       "      <th></th>\n",
       "      <th>id</th>\n",
       "      <th>nearc2</th>\n",
       "      <th>nearc4</th>\n",
       "      <th>educ</th>\n",
       "      <th>age</th>\n",
       "      <th>fatheduc</th>\n",
       "      <th>motheduc</th>\n",
       "      <th>weight</th>\n",
       "      <th>momdad14</th>\n",
       "      <th>sinmom14</th>\n",
       "      <th>...</th>\n",
       "      <th>KWW</th>\n",
       "      <th>IQ</th>\n",
       "      <th>married</th>\n",
       "      <th>libcrd14</th>\n",
       "      <th>exper</th>\n",
       "      <th>lwage</th>\n",
       "      <th>expersq</th>\n",
       "      <th>u_lwage</th>\n",
       "      <th>lwage_hat</th>\n",
       "      <th>u_educ</th>\n",
       "    </tr>\n",
       "  </thead>\n",
       "  <tbody>\n",
       "    <tr>\n",
       "      <th>0</th>\n",
       "      <td>2.0</td>\n",
       "      <td>0.0</td>\n",
       "      <td>0.0</td>\n",
       "      <td>7.0</td>\n",
       "      <td>29.0</td>\n",
       "      <td>NaN</td>\n",
       "      <td>NaN</td>\n",
       "      <td>158413.0</td>\n",
       "      <td>1.0</td>\n",
       "      <td>0.0</td>\n",
       "      <td>...</td>\n",
       "      <td>15.0</td>\n",
       "      <td>NaN</td>\n",
       "      <td>1.0</td>\n",
       "      <td>0.0</td>\n",
       "      <td>16.0</td>\n",
       "      <td>6.306275</td>\n",
       "      <td>256.0</td>\n",
       "      <td>0.198047</td>\n",
       "      <td>6.108228</td>\n",
       "      <td>-3.067539</td>\n",
       "    </tr>\n",
       "    <tr>\n",
       "      <th>1</th>\n",
       "      <td>3.0</td>\n",
       "      <td>0.0</td>\n",
       "      <td>0.0</td>\n",
       "      <td>12.0</td>\n",
       "      <td>27.0</td>\n",
       "      <td>8.0</td>\n",
       "      <td>8.0</td>\n",
       "      <td>380166.0</td>\n",
       "      <td>1.0</td>\n",
       "      <td>0.0</td>\n",
       "      <td>...</td>\n",
       "      <td>35.0</td>\n",
       "      <td>93.0</td>\n",
       "      <td>1.0</td>\n",
       "      <td>1.0</td>\n",
       "      <td>9.0</td>\n",
       "      <td>6.175867</td>\n",
       "      <td>81.0</td>\n",
       "      <td>-0.211160</td>\n",
       "      <td>6.387027</td>\n",
       "      <td>-1.727562</td>\n",
       "    </tr>\n",
       "    <tr>\n",
       "      <th>2</th>\n",
       "      <td>4.0</td>\n",
       "      <td>0.0</td>\n",
       "      <td>0.0</td>\n",
       "      <td>12.0</td>\n",
       "      <td>34.0</td>\n",
       "      <td>14.0</td>\n",
       "      <td>12.0</td>\n",
       "      <td>367470.0</td>\n",
       "      <td>1.0</td>\n",
       "      <td>0.0</td>\n",
       "      <td>...</td>\n",
       "      <td>42.0</td>\n",
       "      <td>103.0</td>\n",
       "      <td>1.0</td>\n",
       "      <td>1.0</td>\n",
       "      <td>16.0</td>\n",
       "      <td>6.580639</td>\n",
       "      <td>256.0</td>\n",
       "      <td>0.204719</td>\n",
       "      <td>6.375920</td>\n",
       "      <td>1.012975</td>\n",
       "    </tr>\n",
       "    <tr>\n",
       "      <th>3</th>\n",
       "      <td>5.0</td>\n",
       "      <td>1.0</td>\n",
       "      <td>1.0</td>\n",
       "      <td>11.0</td>\n",
       "      <td>27.0</td>\n",
       "      <td>11.0</td>\n",
       "      <td>12.0</td>\n",
       "      <td>380166.0</td>\n",
       "      <td>1.0</td>\n",
       "      <td>0.0</td>\n",
       "      <td>...</td>\n",
       "      <td>25.0</td>\n",
       "      <td>88.0</td>\n",
       "      <td>1.0</td>\n",
       "      <td>1.0</td>\n",
       "      <td>10.0</td>\n",
       "      <td>5.521461</td>\n",
       "      <td>100.0</td>\n",
       "      <td>-0.967905</td>\n",
       "      <td>6.489366</td>\n",
       "      <td>-2.253536</td>\n",
       "    </tr>\n",
       "    <tr>\n",
       "      <th>4</th>\n",
       "      <td>6.0</td>\n",
       "      <td>1.0</td>\n",
       "      <td>1.0</td>\n",
       "      <td>12.0</td>\n",
       "      <td>34.0</td>\n",
       "      <td>8.0</td>\n",
       "      <td>7.0</td>\n",
       "      <td>367470.0</td>\n",
       "      <td>1.0</td>\n",
       "      <td>0.0</td>\n",
       "      <td>...</td>\n",
       "      <td>34.0</td>\n",
       "      <td>108.0</td>\n",
       "      <td>1.0</td>\n",
       "      <td>0.0</td>\n",
       "      <td>16.0</td>\n",
       "      <td>6.591674</td>\n",
       "      <td>256.0</td>\n",
       "      <td>0.125173</td>\n",
       "      <td>6.466501</td>\n",
       "      <td>1.090437</td>\n",
       "    </tr>\n",
       "  </tbody>\n",
       "</table>\n",
       "<p>5 rows × 37 columns</p>\n",
       "</div>"
      ],
      "text/plain": [
       "    id  nearc2  nearc4  educ   age  fatheduc  motheduc    weight  momdad14  \\\n",
       "0  2.0     0.0     0.0   7.0  29.0       NaN       NaN  158413.0       1.0   \n",
       "1  3.0     0.0     0.0  12.0  27.0       8.0       8.0  380166.0       1.0   \n",
       "2  4.0     0.0     0.0  12.0  34.0      14.0      12.0  367470.0       1.0   \n",
       "3  5.0     1.0     1.0  11.0  27.0      11.0      12.0  380166.0       1.0   \n",
       "4  6.0     1.0     1.0  12.0  34.0       8.0       7.0  367470.0       1.0   \n",
       "\n",
       "   sinmom14  ...   KWW     IQ  married  libcrd14  exper     lwage  expersq  \\\n",
       "0       0.0  ...  15.0    NaN      1.0       0.0   16.0  6.306275    256.0   \n",
       "1       0.0  ...  35.0   93.0      1.0       1.0    9.0  6.175867     81.0   \n",
       "2       0.0  ...  42.0  103.0      1.0       1.0   16.0  6.580639    256.0   \n",
       "3       0.0  ...  25.0   88.0      1.0       1.0   10.0  5.521461    100.0   \n",
       "4       0.0  ...  34.0  108.0      1.0       0.0   16.0  6.591674    256.0   \n",
       "\n",
       "    u_lwage  lwage_hat    u_educ  \n",
       "0  0.198047   6.108228 -3.067539  \n",
       "1 -0.211160   6.387027 -1.727562  \n",
       "2  0.204719   6.375920  1.012975  \n",
       "3 -0.967905   6.489366 -2.253536  \n",
       "4  0.125173   6.466501  1.090437  \n",
       "\n",
       "[5 rows x 37 columns]"
      ]
     },
     "execution_count": 2,
     "metadata": {},
     "output_type": "execute_result"
    }
   ],
   "source": [
    "# load data\n",
    "\n",
    "import ssl\n",
    "ssl._create_default_https_context = ssl._create_unverified_context\n",
    "\n",
    "def read_data(file): \n",
    "    return pd.read_stata(\"https://raw.github.com/scunning1975/mixtape/master/\" + file)\n",
    "\n",
    "card = read_data(\"card.dta\")\n",
    "card.head()\n"
   ]
  },
  {
   "cell_type": "markdown",
   "id": "4edf3ce9",
   "metadata": {},
   "source": [
    "#### 1.1 Grafique dos histogramas para la variable años de educación $educ$ para cuando $nearc4 == 1$, y cuando $nearc4 == 0$. Compare y describa los patrones que encuentra."
   ]
  },
  {
   "cell_type": "code",
   "execution_count": 3,
   "id": "b4e33093",
   "metadata": {},
   "outputs": [
    {
     "data": {
      "text/plain": [
       "<seaborn.axisgrid.FacetGrid at 0x7fd66ee07460>"
      ]
     },
     "execution_count": 3,
     "metadata": {},
     "output_type": "execute_result"
    },
    {
     "data": {
      "image/png": "[encoded data removed]",
      "text/plain": [
       "<Figure size 720x360 with 2 Axes>"
      ]
     },
     "metadata": {
      "needs_background": "light"
     },
     "output_type": "display_data"
    }
   ],
   "source": [
    "sns.displot(card, x = \"educ\", col = \"nearc4\")\n"
   ]
  },
  {
   "cell_type": "markdown",
   "id": "80b73f10",
   "metadata": {},
   "source": [
    "- *Patrones*: Se observa que la variable \"vivir cerca a la universidad\" sí tiene un efecto en los años de educación de las personas. A nivel de este estudio, se puede concluir que vivir cerca a alguna universidad aumenta el promedio de años de educación recibida. "
   ]
  },
  {
   "cell_type": "markdown",
   "id": "d8184e10",
   "metadata": {},
   "source": [
    "#### 1.2 Grafique dos histogramas para la variable años del logaritmos de los ingresos $lwage$ para cuando $nearc4 == 1$, y cuando $nearc4 == 0$. Compare y describa los patrones que encuentra."
   ]
  },
  {
   "cell_type": "code",
   "execution_count": 8,
   "id": "82d5c4d7",
   "metadata": {},
   "outputs": [
    {
     "data": {
      "text/plain": [
       "<seaborn.axisgrid.FacetGrid at 0x7f86f27ca040>"
      ]
     },
     "execution_count": 8,
     "metadata": {},
     "output_type": "execute_result"
    },
    {
     "data": {
      "image/png": "[encoded data removed]",
      "text/plain": [
       "<Figure size 720x360 with 2 Axes>"
      ]
     },
     "metadata": {
      "needs_background": "light"
     },
     "output_type": "display_data"
    }
   ],
   "source": [
    "sns.displot(card, x = \"lwage\", col = \"nearc4\")\n"
   ]
  },
  {
   "cell_type": "markdown",
   "id": "a7a4967f",
   "metadata": {},
   "source": [
    "- *Patrones*: Se observa una distribuación normal, es decir con concentración de datos en los valores medios de los ingresos económicos, tanto en el grupo de personas que vive cerca a la universidad como en el que no. Si bien se advierte una diferencia en la cantidad de personas pertenecientes a cada grupo, en ambos casos no se observa una gran cantidad de personas con ingresos muy bajos o muy altos."
   ]
  },
  {
   "cell_type": "markdown",
   "id": "c4747a5a",
   "metadata": {},
   "source": [
    "### 2. Regresiones"
   ]
  },
  {
   "cell_type": "markdown",
   "id": "708a758b",
   "metadata": {},
   "source": [
    "#### 2.1 Regresión lineal:"
   ]
  },
  {
   "cell_type": "code",
   "execution_count": 5,
   "id": "32cd6f25",
   "metadata": {},
   "outputs": [
    {
     "data": {
      "text/html": [
       "<table class=\"simpletable\">\n",
       "<caption>OLS Regression Results</caption>\n",
       "<tr>\n",
       "  <th>Dep. Variable:</th>          <td>lwage</td>      <th>  R-squared:         </th> <td>   0.305</td> \n",
       "</tr>\n",
       "<tr>\n",
       "  <th>Model:</th>                   <td>OLS</td>       <th>  Adj. R-squared:    </th> <td>   0.304</td> \n",
       "</tr>\n",
       "<tr>\n",
       "  <th>Method:</th>             <td>Least Squares</td>  <th>  F-statistic:       </th> <td>   219.2</td> \n",
       "</tr>\n",
       "<tr>\n",
       "  <th>Date:</th>             <td>Fri, 25 Nov 2022</td> <th>  Prob (F-statistic):</th> <td>1.97e-232</td>\n",
       "</tr>\n",
       "<tr>\n",
       "  <th>Time:</th>                 <td>13:33:35</td>     <th>  Log-Likelihood:    </th> <td> -1273.9</td> \n",
       "</tr>\n",
       "<tr>\n",
       "  <th>No. Observations:</th>      <td>  3003</td>      <th>  AIC:               </th> <td>   2562.</td> \n",
       "</tr>\n",
       "<tr>\n",
       "  <th>Df Residuals:</th>          <td>  2996</td>      <th>  BIC:               </th> <td>   2604.</td> \n",
       "</tr>\n",
       "<tr>\n",
       "  <th>Df Model:</th>              <td>     6</td>      <th>                     </th>     <td> </td>    \n",
       "</tr>\n",
       "<tr>\n",
       "  <th>Covariance Type:</th>      <td>nonrobust</td>    <th>                     </th>     <td> </td>    \n",
       "</tr>\n",
       "</table>\n",
       "<table class=\"simpletable\">\n",
       "<tr>\n",
       "      <td></td>         <th>coef</th>     <th>std err</th>      <th>t</th>      <th>P>|t|</th>  <th>[0.025</th>    <th>0.975]</th>  \n",
       "</tr>\n",
       "<tr>\n",
       "  <th>Intercept</th> <td>    5.0633</td> <td>    0.064</td> <td>   79.437</td> <td> 0.000</td> <td>    4.938</td> <td>    5.188</td>\n",
       "</tr>\n",
       "<tr>\n",
       "  <th>educ</th>      <td>    0.0712</td> <td>    0.003</td> <td>   20.438</td> <td> 0.000</td> <td>    0.064</td> <td>    0.078</td>\n",
       "</tr>\n",
       "<tr>\n",
       "  <th>exper</th>     <td>    0.0342</td> <td>    0.002</td> <td>   15.422</td> <td> 0.000</td> <td>    0.030</td> <td>    0.038</td>\n",
       "</tr>\n",
       "<tr>\n",
       "  <th>black</th>     <td>   -0.1660</td> <td>    0.018</td> <td>   -9.426</td> <td> 0.000</td> <td>   -0.201</td> <td>   -0.131</td>\n",
       "</tr>\n",
       "<tr>\n",
       "  <th>south</th>     <td>   -0.1316</td> <td>    0.015</td> <td>   -8.788</td> <td> 0.000</td> <td>   -0.161</td> <td>   -0.102</td>\n",
       "</tr>\n",
       "<tr>\n",
       "  <th>married</th>   <td>   -0.0359</td> <td>    0.003</td> <td>  -10.547</td> <td> 0.000</td> <td>   -0.043</td> <td>   -0.029</td>\n",
       "</tr>\n",
       "<tr>\n",
       "  <th>smsa</th>      <td>    0.1758</td> <td>    0.015</td> <td>   11.372</td> <td> 0.000</td> <td>    0.145</td> <td>    0.206</td>\n",
       "</tr>\n",
       "</table>\n",
       "<table class=\"simpletable\">\n",
       "<tr>\n",
       "  <th>Omnibus:</th>       <td>53.196</td> <th>  Durbin-Watson:     </th> <td>   1.858</td>\n",
       "</tr>\n",
       "<tr>\n",
       "  <th>Prob(Omnibus):</th> <td> 0.000</td> <th>  Jarque-Bera (JB):  </th> <td>  69.430</td>\n",
       "</tr>\n",
       "<tr>\n",
       "  <th>Skew:</th>          <td>-0.231</td> <th>  Prob(JB):          </th> <td>8.38e-16</td>\n",
       "</tr>\n",
       "<tr>\n",
       "  <th>Kurtosis:</th>      <td> 3.584</td> <th>  Cond. No.          </th> <td>    154.</td>\n",
       "</tr>\n",
       "</table><br/><br/>Notes:<br/>[1] Standard Errors assume that the covariance matrix of the errors is correctly specified."
      ],
      "text/plain": [
       "<class 'statsmodels.iolib.summary.Summary'>\n",
       "\"\"\"\n",
       "                            OLS Regression Results                            \n",
       "==============================================================================\n",
       "Dep. Variable:                  lwage   R-squared:                       0.305\n",
       "Model:                            OLS   Adj. R-squared:                  0.304\n",
       "Method:                 Least Squares   F-statistic:                     219.2\n",
       "Date:                Fri, 25 Nov 2022   Prob (F-statistic):          1.97e-232\n",
       "Time:                        13:33:35   Log-Likelihood:                -1273.9\n",
       "No. Observations:                3003   AIC:                             2562.\n",
       "Df Residuals:                    2996   BIC:                             2604.\n",
       "Df Model:                           6                                         \n",
       "Covariance Type:            nonrobust                                         \n",
       "==============================================================================\n",
       "                 coef    std err          t      P>|t|      [0.025      0.975]\n",
       "------------------------------------------------------------------------------\n",
       "Intercept      5.0633      0.064     79.437      0.000       4.938       5.188\n",
       "educ           0.0712      0.003     20.438      0.000       0.064       0.078\n",
       "exper          0.0342      0.002     15.422      0.000       0.030       0.038\n",
       "black         -0.1660      0.018     -9.426      0.000      -0.201      -0.131\n",
       "south         -0.1316      0.015     -8.788      0.000      -0.161      -0.102\n",
       "married       -0.0359      0.003    -10.547      0.000      -0.043      -0.029\n",
       "smsa           0.1758      0.015     11.372      0.000       0.145       0.206\n",
       "==============================================================================\n",
       "Omnibus:                       53.196   Durbin-Watson:                   1.858\n",
       "Prob(Omnibus):                  0.000   Jarque-Bera (JB):               69.430\n",
       "Skew:                          -0.231   Prob(JB):                     8.38e-16\n",
       "Kurtosis:                       3.584   Cond. No.                         154.\n",
       "==============================================================================\n",
       "\n",
       "Notes:\n",
       "[1] Standard Errors assume that the covariance matrix of the errors is correctly specified.\n",
       "\"\"\""
      ]
     },
     "execution_count": 5,
     "metadata": {},
     "output_type": "execute_result"
    }
   ],
   "source": [
    "ols_reg = sm.OLS.from_formula(\"lwage ~ educ + exper + black + south + married + smsa\", \n",
    "              data = card).fit()\n",
    "\n",
    "ols_reg.summary()\n"
   ]
  },
  {
   "cell_type": "markdown",
   "id": "e73f177c",
   "metadata": {},
   "source": [
    "- **Interpretación**: Considerando que todas las variables tienen un p-valor menor a 0.05 y que son significativas, se puede concluir lo siguiente:\n",
    "\n",
    "    - Por cada año adicional de educación, se espera que el nivel de ingreso aumente en 0.07 unidades logaritmicas. \n",
    "    - Por cada año adicional de experiencia laboral, se espera que el nivel de ingresos aumente en 0.03 unidades logaritimicas. \n",
    "    - Si se trata de una persona afroamericana, se espera que el nivel de ingresos disminuya en 0.16 unidades logaritmicas . \n",
    "    - Si la persona vive en el sur, se espera que el nivel de ingresos disminuya en 0.13 unidades logarítmicas. \n",
    "    - Si se trata de una persona casada, se espera que el nivel de ingresos disminuya en 0.03 unidades logarítimas. \n",
    "    - Si la persona vive en SMSA, se espera que el nivel de ingresos aumente en 0.17 unidades logarítmicas."
   ]
  },
  {
   "cell_type": "markdown",
   "id": "4c8e6dcc",
   "metadata": {},
   "source": [
    "#### 2.2 Regresión IV: instrumentalizar $educ$ y $nearc2$"
   ]
  },
  {
   "cell_type": "code",
   "execution_count": 6,
   "id": "32998b93",
   "metadata": {},
   "outputs": [],
   "source": [
    "card['married'] = card['married'].fillna(0) \n"
   ]
  },
  {
   "cell_type": "code",
   "execution_count": 7,
   "id": "1d86ce0e",
   "metadata": {},
   "outputs": [
    {
     "data": {
      "text/html": [
       "<table class=\"simpletable\">\n",
       "<caption>IV-2SLS Estimation Summary</caption>\n",
       "<tr>\n",
       "  <th>Dep. Variable:</th>          <td>lwage</td>      <th>  R-squared:         </th> <td>-1.3114</td>\n",
       "</tr>\n",
       "<tr>\n",
       "  <th>Estimator:</th>             <td>IV-2SLS</td>     <th>  Adj. R-squared:    </th> <td>-1.3160</td>\n",
       "</tr>\n",
       "<tr>\n",
       "  <th>No. Observations:</th>       <td>3010</td>       <th>  F-statistic:       </th> <td>289.62</td> \n",
       "</tr>\n",
       "<tr>\n",
       "  <th>Date:</th>             <td>Fri, Nov 25 2022</td> <th>  P-value (F-stat)   </th> <td>0.0000</td> \n",
       "</tr>\n",
       "<tr>\n",
       "  <th>Time:</th>                 <td>13:35:08</td>     <th>  Distribution:      </th> <td>chi2(6)</td>\n",
       "</tr>\n",
       "<tr>\n",
       "  <th>Cov. Estimator:</th>        <td>robust</td>      <th>                     </th>    <td></td>    \n",
       "</tr>\n",
       "<tr>\n",
       "  <th></th>                          <td></td>         <th>                     </th>    <td></td>    \n",
       "</tr>\n",
       "</table>\n",
       "<table class=\"simpletable\">\n",
       "<caption>Parameter Estimates</caption>\n",
       "<tr>\n",
       "      <td></td>      <th>Parameter</th> <th>Std. Err.</th> <th>T-stat</th>  <th>P-value</th> <th>Lower CI</th> <th>Upper CI</th>\n",
       "</tr>\n",
       "<tr>\n",
       "  <th>Intercept</th>  <td>0.1276</td>    <td>3.1412</td>   <td>0.0406</td>  <td>0.9676</td>   <td>-6.0290</td>  <td>6.2843</td> \n",
       "</tr>\n",
       "<tr>\n",
       "  <th>black</th>      <td>0.1134</td>    <td>0.1816</td>   <td>0.6244</td>  <td>0.5324</td>   <td>-0.2425</td>  <td>0.4692</td> \n",
       "</tr>\n",
       "<tr>\n",
       "  <th>exper</th>      <td>0.1515</td>    <td>0.0747</td>   <td>2.0274</td>  <td>0.0426</td>   <td>0.0050</td>   <td>0.2980</td> \n",
       "</tr>\n",
       "<tr>\n",
       "  <th>married</th>    <td>-0.0151</td>   <td>0.0147</td>   <td>-1.0258</td> <td>0.3050</td>   <td>-0.0438</td>  <td>0.0137</td> \n",
       "</tr>\n",
       "<tr>\n",
       "  <th>smsa</th>       <td>0.0201</td>    <td>0.1030</td>   <td>0.1949</td>  <td>0.8455</td>   <td>-0.1819</td>  <td>0.2220</td> \n",
       "</tr>\n",
       "<tr>\n",
       "  <th>south</th>      <td>-0.0319</td>   <td>0.0692</td>   <td>-0.4603</td> <td>0.6453</td>   <td>-0.1675</td>  <td>0.1038</td> \n",
       "</tr>\n",
       "<tr>\n",
       "  <th>educ</th>       <td>0.3618</td>    <td>0.1849</td>   <td>1.9562</td>  <td>0.0504</td>   <td>-0.0007</td>  <td>0.7243</td> \n",
       "</tr>\n",
       "</table><br/><br/>Endogenous: educ<br/>Instruments: nearc2<br/>Robust Covariance (Heteroskedastic)<br/>Debiased: False"
      ],
      "text/plain": [
       "<class 'linearmodels.compat.statsmodels.Summary'>\n",
       "\"\"\"\n",
       "                          IV-2SLS Estimation Summary                          \n",
       "==============================================================================\n",
       "Dep. Variable:                  lwage   R-squared:                     -1.3114\n",
       "Estimator:                    IV-2SLS   Adj. R-squared:                -1.3160\n",
       "No. Observations:                3010   F-statistic:                    289.62\n",
       "Date:                Fri, Nov 25 2022   P-value (F-stat)                0.0000\n",
       "Time:                        13:35:08   Distribution:                  chi2(6)\n",
       "Cov. Estimator:                robust                                         \n",
       "                                                                              \n",
       "                             Parameter Estimates                              \n",
       "==============================================================================\n",
       "            Parameter  Std. Err.     T-stat    P-value    Lower CI    Upper CI\n",
       "------------------------------------------------------------------------------\n",
       "Intercept      0.1276     3.1412     0.0406     0.9676     -6.0290      6.2843\n",
       "black          0.1134     0.1816     0.6244     0.5324     -0.2425      0.4692\n",
       "exper          0.1515     0.0747     2.0274     0.0426      0.0050      0.2980\n",
       "married       -0.0151     0.0147    -1.0258     0.3050     -0.0438      0.0137\n",
       "smsa           0.0201     0.1030     0.1949     0.8455     -0.1819      0.2220\n",
       "south         -0.0319     0.0692    -0.4603     0.6453     -0.1675      0.1038\n",
       "educ           0.3618     0.1849     1.9562     0.0504     -0.0007      0.7243\n",
       "==============================================================================\n",
       "\n",
       "Endogenous: educ\n",
       "Instruments: nearc2\n",
       "Robust Covariance (Heteroskedastic)\n",
       "Debiased: False\n",
       "\"\"\""
      ]
     },
     "execution_count": 7,
     "metadata": {},
     "output_type": "execute_result"
    }
   ],
   "source": [
    "iv_reg = IV2SLS.from_formula(\"lwage ~ 1 + exper + black + south + married + smsa + [educ ~ nearc2]\", card).fit()\n",
    "iv_reg.summary\n"
   ]
  },
  {
   "cell_type": "markdown",
   "id": "2a48c683",
   "metadata": {},
   "source": [
    "- *Comparación*: En general, se observa que cada año adicional de escolaridad genera que los ingresos de los encuestados aumenten en aproximadamente 7,1%. Por otra parte, con respecto a la instrumentalización de variables, se observa que el coeficiente de la variable educación es mucho mayor que el encontrado en la regresión lineal: alrededor de un 75% mayor. Asimismo, dado que el F-statistic excede a 15, no se advierte un problema de instrumento débil. De esta manera, el rendimiento de la educación asociado con esta estimación 2SLS es 0,127; es decir, por cada año adicional de educación se espera que los ingresos aumenten en un 12,7%."
   ]
  }
 ],
 "metadata": {
  "kernelspec": {
   "display_name": "Python 3 (ipykernel)",
   "language": "python",
   "name": "python3"
  },
  "language_info": {
   "codemirror_mode": {
    "name": "ipython",
    "version": 3
   },
   "file_extension": ".py",
   "mimetype": "text/x-python",
   "name": "python",
   "nbconvert_exporter": "python",
   "pygments_lexer": "ipython3",
   "version": "3.9.7"
  }
 },
 "nbformat": 4,
 "nbformat_minor": 5
}
