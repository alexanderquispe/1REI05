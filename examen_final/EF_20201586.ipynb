{
  "nbformat": 4,
  "nbformat_minor": 0,
  "metadata": {
    "colab": {
      "provenance": []
    },
    "kernelspec": {
      "name": "python3",
      "display_name": "Python 3"
    },
    "language_info": {
      "name": "python"
    }
  },
  "cells": [
    {
      "cell_type": "code",
      "source": [
        "pip install causalgraphicalmodels"
      ],
      "metadata": {
        "colab": {
          "base_uri": "https://localhost:8080/"
        },
        "id": "dyYebYgxY4wy",
        "outputId": "e508c6e2-3d71-4810-a4a7-324c418ae7dc"
      },
      "execution_count": 2,
      "outputs": [
        {
          "output_type": "stream",
          "name": "stdout",
          "text": [
            "Looking in indexes: https://pypi.org/simple, https://us-python.pkg.dev/colab-wheels/public/simple/\n",
            "Collecting causalgraphicalmodels\n",
            "  Downloading causalgraphicalmodels-0.0.4-py3-none-any.whl (11 kB)\n",
            "Requirement already satisfied: networkx in /usr/local/lib/python3.8/dist-packages (from causalgraphicalmodels) (2.8.8)\n",
            "Requirement already satisfied: numpy in /usr/local/lib/python3.8/dist-packages (from causalgraphicalmodels) (1.21.6)\n",
            "Requirement already satisfied: graphviz in /usr/local/lib/python3.8/dist-packages (from causalgraphicalmodels) (0.10.1)\n",
            "Requirement already satisfied: pandas in /usr/local/lib/python3.8/dist-packages (from causalgraphicalmodels) (1.3.5)\n",
            "Requirement already satisfied: python-dateutil>=2.7.3 in /usr/local/lib/python3.8/dist-packages (from pandas->causalgraphicalmodels) (2.8.2)\n",
            "Requirement already satisfied: pytz>=2017.3 in /usr/local/lib/python3.8/dist-packages (from pandas->causalgraphicalmodels) (2022.6)\n",
            "Requirement already satisfied: six>=1.5 in /usr/local/lib/python3.8/dist-packages (from python-dateutil>=2.7.3->pandas->causalgraphicalmodels) (1.15.0)\n",
            "Installing collected packages: causalgraphicalmodels\n",
            "Successfully installed causalgraphicalmodels-0.0.4\n"
          ]
        }
      ]
    },
    {
      "cell_type": "code",
      "source": [
        "pip install pyreadr"
      ],
      "metadata": {
        "colab": {
          "base_uri": "https://localhost:8080/"
        },
        "id": "r4D9UUzxZUUv",
        "outputId": "f2e90bc3-aa22-4edc-99c8-12d148ecab34"
      },
      "execution_count": 8,
      "outputs": [
        {
          "output_type": "stream",
          "name": "stdout",
          "text": [
            "Looking in indexes: https://pypi.org/simple, https://us-python.pkg.dev/colab-wheels/public/simple/\n",
            "Collecting pyreadr\n",
            "  Downloading pyreadr-0.4.7-cp38-cp38-manylinux_2_17_x86_64.manylinux2014_x86_64.whl (364 kB)\n",
            "\u001b[K     |████████████████████████████████| 364 kB 4.0 MB/s \n",
            "\u001b[?25hRequirement already satisfied: pandas>=1.2.0 in /usr/local/lib/python3.8/dist-packages (from pyreadr) (1.3.5)\n",
            "Requirement already satisfied: python-dateutil>=2.7.3 in /usr/local/lib/python3.8/dist-packages (from pandas>=1.2.0->pyreadr) (2.8.2)\n",
            "Requirement already satisfied: pytz>=2017.3 in /usr/local/lib/python3.8/dist-packages (from pandas>=1.2.0->pyreadr) (2022.6)\n",
            "Requirement already satisfied: numpy>=1.17.3 in /usr/local/lib/python3.8/dist-packages (from pandas>=1.2.0->pyreadr) (1.21.6)\n",
            "Requirement already satisfied: six>=1.5 in /usr/local/lib/python3.8/dist-packages (from python-dateutil>=2.7.3->pandas>=1.2.0->pyreadr) (1.15.0)\n",
            "Installing collected packages: pyreadr\n",
            "Successfully installed pyreadr-0.4.7\n"
          ]
        }
      ]
    },
    {
      "cell_type": "code",
      "source": [
        "pip install linearmodels"
      ],
      "metadata": {
        "colab": {
          "base_uri": "https://localhost:8080/"
        },
        "id": "fKajIa3e7pVN",
        "outputId": "975475f6-3358-44be-b809-16e26c415348"
      },
      "execution_count": 20,
      "outputs": [
        {
          "output_type": "stream",
          "name": "stdout",
          "text": [
            "Looking in indexes: https://pypi.org/simple, https://us-python.pkg.dev/colab-wheels/public/simple/\n",
            "Collecting linearmodels\n",
            "  Downloading linearmodels-4.27-cp38-cp38-manylinux_2_17_x86_64.manylinux2014_x86_64.whl (1.5 MB)\n",
            "\u001b[K     |████████████████████████████████| 1.5 MB 4.2 MB/s \n",
            "\u001b[?25hCollecting formulaic~=0.3.2\n",
            "  Downloading formulaic-0.3.4-py3-none-any.whl (68 kB)\n",
            "\u001b[K     |████████████████████████████████| 68 kB 6.4 MB/s \n",
            "\u001b[?25hRequirement already satisfied: statsmodels>=0.11 in /usr/local/lib/python3.8/dist-packages (from linearmodels) (0.12.2)\n",
            "Requirement already satisfied: numpy>=1.16 in /usr/local/lib/python3.8/dist-packages (from linearmodels) (1.21.6)\n",
            "Collecting property-cached>=1.6.3\n",
            "  Downloading property_cached-1.6.4-py2.py3-none-any.whl (7.8 kB)\n",
            "Collecting mypy-extensions>=0.4\n",
            "  Downloading mypy_extensions-0.4.3-py2.py3-none-any.whl (4.5 kB)\n",
            "Requirement already satisfied: Cython>=0.29.21 in /usr/local/lib/python3.8/dist-packages (from linearmodels) (0.29.32)\n",
            "Collecting setuptools-scm<7.0.0,>=6.4.2\n",
            "  Downloading setuptools_scm-6.4.2-py3-none-any.whl (37 kB)\n",
            "Collecting pyhdfe>=0.1\n",
            "  Downloading pyhdfe-0.1.1-py3-none-any.whl (18 kB)\n",
            "Requirement already satisfied: pandas>=0.24 in /usr/local/lib/python3.8/dist-packages (from linearmodels) (1.3.5)\n",
            "Requirement already satisfied: scipy>=1.2 in /usr/local/lib/python3.8/dist-packages (from linearmodels) (1.7.3)\n",
            "Requirement already satisfied: wrapt>=1.0 in /usr/local/lib/python3.8/dist-packages (from formulaic~=0.3.2->linearmodels) (1.14.1)\n",
            "Collecting interface-meta<2.0.0,>=1.2.0\n",
            "  Downloading interface_meta-1.3.0-py3-none-any.whl (14 kB)\n",
            "Requirement already satisfied: astor>=0.8 in /usr/local/lib/python3.8/dist-packages (from formulaic~=0.3.2->linearmodels) (0.8.1)\n",
            "Requirement already satisfied: pytz>=2017.3 in /usr/local/lib/python3.8/dist-packages (from pandas>=0.24->linearmodels) (2022.6)\n",
            "Requirement already satisfied: python-dateutil>=2.7.3 in /usr/local/lib/python3.8/dist-packages (from pandas>=0.24->linearmodels) (2.8.2)\n",
            "Requirement already satisfied: six>=1.5 in /usr/local/lib/python3.8/dist-packages (from python-dateutil>=2.7.3->pandas>=0.24->linearmodels) (1.15.0)\n",
            "Requirement already satisfied: tomli>=1.0.0 in /usr/local/lib/python3.8/dist-packages (from setuptools-scm<7.0.0,>=6.4.2->linearmodels) (2.0.1)\n",
            "Requirement already satisfied: packaging>=20.0 in /usr/local/lib/python3.8/dist-packages (from setuptools-scm<7.0.0,>=6.4.2->linearmodels) (21.3)\n",
            "Requirement already satisfied: setuptools in /usr/local/lib/python3.8/dist-packages (from setuptools-scm<7.0.0,>=6.4.2->linearmodels) (57.4.0)\n",
            "Requirement already satisfied: pyparsing!=3.0.5,>=2.0.2 in /usr/local/lib/python3.8/dist-packages (from packaging>=20.0->setuptools-scm<7.0.0,>=6.4.2->linearmodels) (3.0.9)\n",
            "Requirement already satisfied: patsy>=0.5 in /usr/local/lib/python3.8/dist-packages (from statsmodels>=0.11->linearmodels) (0.5.3)\n",
            "Installing collected packages: interface-meta, setuptools-scm, pyhdfe, property-cached, mypy-extensions, formulaic, linearmodels\n",
            "Successfully installed formulaic-0.3.4 interface-meta-1.3.0 linearmodels-4.27 mypy-extensions-0.4.3 property-cached-1.6.4 pyhdfe-0.1.1 setuptools-scm-6.4.2\n"
          ]
        }
      ]
    },
    {
      "cell_type": "code",
      "execution_count": 22,
      "metadata": {
        "id": "eVWfky79YO-_"
      },
      "outputs": [],
      "source": [
        "import numpy as np\n",
        "import pandas as pd\n",
        "import matplotlib.pyplot as plt\n",
        "import seaborn as sns, warnings\n",
        "import statsmodels.formula.api as smf\n",
        "warnings.filterwarnings('ignore')\n",
        "from causalgraphicalmodels import CausalGraphicalModel\n",
        "from cProfile import label\n",
        "%matplotlib inline\n",
        "import linearmodels.iv.model as lm\n",
        "from linearmodels.iv import IV2SLS\n",
        "import plotnine as p\n",
        "import os\n",
        "#os.environ[\"PATH\"] += os.pathsep + 'C:/Program Files/Graphviz/bin/'\n",
        "import statsmodels.api as sm  \n",
        "from itertools import combinations \n",
        "import plotnine as p\n",
        "from statsmodels.iolib.summary2 import summary_col\n",
        "import pyreadr\n"
      ]
    },
    {
      "cell_type": "markdown",
      "source": [
        "# Pregunta 1: Instrumental Variables (IV)\n",
        "\n",
        "## Identifique todos los elementos necesarios para implementar un enfoque de IV.\n",
        "\n",
        "El método de Variables Instrumentales permite estimar el efecto de una variable de interés sobre la variable dependiente a partir de un instrumento que juegue el rol de dicha variable de interés sin tener el problema de endogeneidad. Dicho instrumento o variable instrumental no pertenece en sí a la ecuación explicativa, se correlaciona con las variables endógenas y condicionada a las otras variables. En este sentido, al usar la asignación aleatoria al tratamiento en lugar del tratamiento del mundo real, dicho método se emplea en casos donde tenemos un problema de sesgo o no podemos identificar limpiamente el efecto de una variable causal sobre otra.\n",
        "\n",
        "En este caso, en principio, el número de horas que una persona usa para ver televisión de niño (Z) es un instrumento válido para la variable educación (X). Sin embargo, para sostener dicha afirmación, se comprobarán los dos supuestos fundamentales para implementar un enfoque de IV.\n",
        "\n",
        "\n",
        "#### El supuesto de relevancia:\n",
        "\n",
        "Este supuesto implica que el instrumento está correlacionado con la variable educación (es decir, tiene una correlación distinta a 0) ya sea positiva o negativamente y, por ende, explica algo de la variabilidad de (X). La relevancia nos permite ver los supuestos de identificación y uso de variables instrumentales de manera más segura para así saber que 'z' (el instrumento) realmente se relaciona con 'x' (el tratamiento). De esta manera, se busca que las variables instrumentales funcionen para evitar problemas de endogeneidad: que la variable independiente se correlacione con el término de error en una regresión. En este caso, el supuesto de relevancia es fácil de probar puesto que la correlación entre nuestra variable instrumental y educación es algo intuible y debería ser alta: la cantidad de tiempo que un niño pasa viendo la TV es excluyente con la cantidad de tiempo o esfuerzo que le puede dedicar a sus estudios. \n",
        "\n",
        "#### El supuesto de validez: \n",
        "\n",
        "Este supuesto implica que cualquier camino entre el instrumento y el resultado debe pasar por el tratamiento o cerrarse, trasladando la responsabilidad de cerrar todos los posibles backdoors hacia el instrumento. Introspectivamente, parece que se cumple la condición de exogeneidad del instrumento en tanto que el instrumento (Z) tiene una correlación de cero con el nivel de ingresos (Y). Es decir, no tiene efecto parcial en dicha variable y no debería estar correlacionada con alguna otra variable omitida. Ello dado que, de manera directa, parece poco lógico demostrar que existieran variables omitidas (ya sea por no ser observables o medibles) que, a través de la cantidad de horas que una persona vió televisión durante su infancia, puedan afectar el nivel de ingresos. En la práctica, dicha cantidad de horas no es un criterio que se tome en cuenta para asignar un salario. \n",
        "\n",
        "## Explique el procedimiento para encontrar el efecto causal en este escenario. Puede usar ecuaciones. \n",
        "\n",
        "\n",
        "Lo que buscamos es la relación \"Z →  X →  Y\" y que el procedimiento se realice de manera aislada para evitar la presencia de variables omitidas o sesgos de manera que se pueda identificar el efecto causal \"X → y\". Para ello, se utilizó una variable instrumental (número de horas que una persona utilizó para ver televisión cuando era niño) de manera que podeamos identificar una relación causal entre educación → nivel de ingresos. Como ya se comprobó previamente, se cumplen los dos supuestos fundamentales y, por ende, se puede afirmar que existe una correlación entre el instumento y educación \"Z →  X\" y que no hay correlación alguna entre el instrumento y el nivel de ingresos \"Z →  Y\". Por ende, se afirma que no hay ninguna conexión con U (error o variable omitida) que afecte a Z o X o Y. \n",
        "\n",
        "\n",
        "## ¿El efecto de la educación sobre el nivel de ingresos es positivo o negativo? Argumente si los resultados serian causales o solamente de correlación\n",
        "\n",
        "De manera intuitiva, el efecto de la educación sobre el nivel de ingresos es positivo en tanto que, aparentemente, el gasto en educación es una forma de inversión de capital humano. Particularmente, de capital académico e intelectual a nivel personal. En este sentido, dado que el nivel de ingreso suele estar relacionado con la complejidad de las funciones requeridas en un determinado puesto del proceso productivo, los individuos con mayor educación que puedan alcanzar dichos puestos con requisitos altos tenderán a obtener un mayor ingreso. Sin embargo, para sostener que esta relación es causal, debemos aislar la co-variación entre el tratamiento y el resultado que se debe al tratamiento y eliminar por completo la variación producto de posibles backdoors (factores externos no medibles u observables que puedan influir).\n",
        "\n",
        "Por ende, en caso se corra un modelo de regresión lineal, existe la posibilidad de que se presente un problema de endogeneidad o de sesgo por variables omitidas en la relación entre variables planteadas. En este sentido, si bien se podría llegar a identificar una correlación, no sería posible afirmar que ello sea una relación causal (pueden haber otros factores detrás que están explicando la correlación). Sin embargo, a partir de una regresión empleando la variable instrumental planteada en este ejercicio, es posible hablar de inferencias causales. Ello dado que se usa el concepto de experimentos aleatorios controlados y, por ende, solucionan el problema de endogeneidad y el sesgo por variables omitidas. Así, sólo aislando de esa manera todos los demás efectos que podrían estar causando o afectando la variable dependiente, es posible afirmar que ello es en efecto una relación causal entre las variables planteadas (educación -> nivel de ingresos). \n",
        "\n",
        "\n",
        "# Pregunta 2: Regression Discontinuity Design (RDD)\n",
        "\n",
        "## Indetifique todos los elementos necesarios para implementar un RDD en este ejemplo.\n",
        "\n",
        "La regresión discontinua (RDD) es un diseño cuasi-experimental que nos permite poder realizar inferencias causales en ausencia de la aleatorización al determinar los efectos causales de intervenciones mediante la asignación de un punto de corte/umbral por encima o por debajo del asignado. En este caso, se investiga la entrega de becas para estudiantes a partir de la asignación de un valor de corte: tener un promedio superior durante la secundaria igual a 16. Existen tres elementos necesarios para implementar un RDD:\n",
        "\n",
        "#### Running Variable:\n",
        "\n",
        "Primero, debemos ver el tipo de variable que vamos a estudiar, la cual se denomina running variable. En este caso, la variable de ejecución es el promedio final en secundaria de los alumnos en tanto que esta determina si un estudiante recibirá la beca. \n",
        "\n",
        "#### Cut off: \n",
        "\n",
        "Segundo, debemos tener un cut off o punto de corte. En este caso, este punto de corte determinará si se pertenece al grupo de tratamiento (es decir, si se recibe la beca) o no: si se tiene un promedio igual o superior a 16 son candidatos para recibir la beca; caso contrario, no son tomados en cuenta.\n",
        "\n",
        "#### Bandwidth: \n",
        "\n",
        "Tercero, debemos tener el bandwidth o ancho de la banda,  el cual es el intervalo de elementos que vamos a estudiar y que se desea considerar comparable. En este caso, se podría pensar que los estudiantes con promedios cercanos a 16 son similares. Sin embargo, va a depender del investigador y de la distancia entre los promedios dado que pueden haber personas que se encuentren más lejos del promedio asignado o haber mayor variación por razones distintas al punto de corte. \n",
        "\n",
        "#### Además\n",
        "\n",
        "Se comprueba la continuidad de la variable de ejecución en tanto que toda discontinuidad implica necesariamente alguna causa. Asimismo, la regla de asignación del punto de corte resulta objetiva y no manipulada dado que esta fue propuesta con tiempo de anticipación por el PRONABEC. \n",
        "\n",
        "## Explique el procedimiento para encontrar el efecto causal en este escenario. Puede utilizar ecuaciones.\n",
        "\n",
        "El efecto de tratamiento del RDD que nos permitirá encontrar el efecto causal se dará en tanto cuanto varía el valor determinado en función de nuestro punto de corte, es decir, cuanto cambia  el otorgamiento de becas en función del promedio. Posteriormente, tendríamos dos grupos: tratamiento, que son aquellos que cumplen con la condición; y control, aquellos que no cumplen con la condición. Finalmente, se estima el efecto del tratamiento restando la media del grupo de tratamiento con la media del grupo de control. De este ejercicio se puede encontrar el efecto causal. \n",
        "\n",
        "\n",
        "\n",
        "## ¿El efecto de la politica sobre el rendimiento de los estudiantes sería positivo o negativo (solo necesitan usar su intuición)? Argumente si los resultados serian causales o solamente de correlación.\n",
        "\n",
        "Intuitívamente, las becas suelen cubrir la totalidad o parte de los gastos de los estudios de los alumnos que las obtienen. Asimismo, estas suelen ser condicionadas a una renovación anual o por ciclo (es decir, en base a tu rendimiento pueden quitartela o no). En este setido, las becas funcionan como un claro incentivo para los estudiantes para enfocarse de manera prioritaria en sus estudios, lo cual debería repercutir y evidenciarse de manera positiva en su rendimiento de calificaciones. \n",
        "\n",
        "En este caso, dado que la exposición de interés (grupo de control) se asigna según el valor de una variable aleatoria continua si esta variable cae por encima o por debajo de un determinado valor umbral (en este caso 16), este método es capaz de determinar la relación causal de cambios en esta variable sobre la variable dependiente que es recibir una beca del Pronabec, todo ello a pesar de la ausencia de aleatorización.\n",
        "\n",
        "# Pregunta 3: Difference in Difference (DiD)\n",
        "\n",
        "## Identifique todos los elementos necesarios para implementar un DiD en este ejemplo. \n",
        "\n",
        "El método de diferencias en diferencias (Dif-Dif) es un método de identificación cuasi-experimental temprana empleado para estimar efectos causales entre dos periodos de tiempo de dos grupos (tratamiento y control), incluso en situaciones donde no sea posible aleatorizar. El planteamiento de este método requiere observar dos grupos de individuos (o entidades) en al menos dos momentos distintos del tiempo, siendo uno de esos dos grupos afectado por un cambio, cuyo efecto causal se pretende estimar.\n",
        "\n",
        "En este caso, nos permite comparar los cambios en el tiempo en la variable de interés (impacto de la migración en la tasa de empleo), lo que nos permitirá detectar un efecto sobre el mismo tratamiento y el outcome final entre Lima y Puno en dos periodos distintos y así comprobar si la migración tuvo algún efecto. En este sentido, existen un supuesto elemental que debe cumplirse para implementar este método: \n",
        "\n",
        "#### El supuesto de las tendencias paralelas\n",
        "\n",
        "Este supuesto plantea que el grupo de control debe aproximarse o ser paralelo a la tendencia del resultado del grupo de tratamiento. De esta manera, el tratamiento no es endógeno. En este caso, la evolución de la tendencia previa del outcome principal en el grupo de tratamiento (Lima con la afluencia de inmigrante en 2018) y el grupo de control (Puno sin la afluencia de inmigrantes en 2018) deben ser paralelos. En este caso, dicho requisito se cumple en tanto que durante el periodo previo a 2018 ambas regiones no experimentaron la afluencia de inmigrantes. \n",
        "\n",
        "## Explique el procedimiento para encontrar el efecto causal en este escenario. Puede utilizar ecuaciones.\n",
        "\n",
        "Primero, se debe realizar una doble diferencia en conjunto entre las regiones en los dos periodos analizados:  \n",
        "\n",
        "$ (Lima 2018 - Lima 2017) - (Puno 2018 - Puno 2017). $\n",
        "\n",
        "De esta manera, se puede realizar una comparación entre la tasa de desempleo en periodos de afluencia de inmigrantes (2018) y aquellos sin afluencia (2017) para así comprobar algún efecto sobre la tasa de desempleo. \n",
        "\n",
        "Posteriormente, para encontrar el verdadero efecto causal, se debe tomar dicha diferencia de la variación entre el grupo de tratamiento (Lima) y el grupo de control (Puno) y sacar un promedio de los efectos sobre ambos grupos. \n",
        "\n",
        "## ¿El efecto de la migración sobre la tasa de empleo sería positivo o negativo (solo necesitan usar su intuición)? Argumente si los resultados serian causales o solamente de correlación .\n",
        "\n",
        "De manera intuitíva, el efecto de la migración sobre la tasa de empleo tiende a ser positivo: a mayor migración, menor desempleo. Esto dado que los migrantes suelen decidir emprender dicho viaje en búsqueda de mejores oportunidades de vida, razón por la cual suelen estar dispuestos a trabajar en una gran variedad de empleos. Asimismo, dado que las condiciones de vida en los países o lugares de destino suelen ser mejores (países de condiciones de vida o nivel de ingresos más altos), los migrantes están dispuestos a aceptar con mayor facilidad trabajos que no aceptarían en su país de orígen. Finalmente, un gran sector de los migrantes con grados académicos suelen ser grupos atractivos para empresas o Estados desarrollados que necesitan empleados calificados, razón por la cual suelen conseguir empleo relativamente rápido y facil. \n",
        "\n",
        "Dado que el presente caso analiza dos momentos distintos del tiempo en ambas regiones, siendo uno de esos dos grupos afectado por un cambio, y los compara, es posible hablar de la estimación de un efecto causal. En suma, el presente método permite realizar inferencias causales. "
      ],
      "metadata": {
        "id": "mk4IAB9NagwG"
      }
    },
    {
      "cell_type": "markdown",
      "source": [
        "# Pregunta 4: Lecturas"
      ],
      "metadata": {
        "id": "UcjKb0zPzOov"
      }
    },
    {
      "cell_type": "markdown",
      "source": [
        "\n",
        "\n",
        "# ¿Cuáles son las debilidades del enfoque del paper para responder su pregunta de investigación?\n",
        "\n",
        "- Bell, A., Chetty, R., Jaravel, X., Petkova, N., & Van Reenen, J. (2019). Who becomes an inventor in America? The importance of exposure to innovation. The Quarterly Journal of Economics, 134(2), 647-713. \n",
        "\n",
        "Respecto a las debilidades de la investigación planteada por Bell y otros para responder su pregunta de investigación, se plantea lo siguiente: \n",
        "\n",
        "En primer lugar, se puede indentificar que la investigación no toma en cuenta factores intelectuales para evidenciar la propensión de convertirse en un inventor. Si bien es evidente que los factores estructurales juegan un rol importante, no se debe dejar de lado un enfoque en las capacidades y el nivel cognitivo o intelectual de los jóvenes. Asimismo, factores como el nivel educativo familiar o el apoyo de los padres (desde económico hasta sociocognitivo o afectivo) son variables que pueden estar relacionadas y deben ser tomadas en cuenta en el análisis. \n",
        "\n",
        "En segundo lugar, la investigación no incluye registros suficientes de distritos escolares diversos, sino que únicamente se concentra en el área de New York. Si bien es comprensible dicha limitación geográfica en tanto es la ciudad con mayor cantidad poblacional de EEUU, resultaría interesante contrastar dichos hallazgos con otras zonas de gran índice poblacional como Arizona o California. \n",
        "\n",
        "Finalmente, otra debilidad es que los hallazgos no brindan evidencia concluyente sobre el papel del entorno dado que, como se debate ámpliamente en los ámbitos pedagógicos, los puntajes de las pruebas no permiten una medición perfecta o siquiera completa de la capacidad de un estudiante. En este sentido, la capacidad para innovar puede no ser detectada a edades tempranas y por ende no es impulsada. \n",
        "\n",
        "\n",
        "# ¿Cuáles serían dos próximos pasos específicos para avanzar en su pregunta de investigación?\n",
        "\n",
        "\n",
        "- Dell, M. (2010). The persistent effects of Peru's mining mita. Econometrica, 78(6), 1863-1903. \n",
        "\n",
        "Respecto a las debilidades de la investigación planteada por Dell para responder su pregunta de investigación, se plantea lo siguiente: \n",
        "\n",
        "En primer lugar, se debe tomar en consideración los límites del enfoque de regresión discontinua. Es probable que no se haya tomado en cuenta la presencia de variables influyentes e incluso significativas pero no observables. Como reconoce la autora, es muy difícil conseguir las georreferencias precisas ya que son de confidencialidad y porque muchos de los datos necesarios para investigar los efectos a largo plazo de la mita no ofrecen tamaños muestrales muy grandes para emplear técnicas no paramétricas.\n",
        "\n",
        "En segundo lugar, resulta muy probable que, dada la naturaleza de las fuentes y a pesar de la gran cantidad de información recabada, existe un problema de sesgo de selección (es información oficial y por tanto probablemente parcializada), escacez de información relevante y patrones de herencia, lo cuál sería fundamental para avanzar la investigación sobre el impacto de la mita en la actualidad.\n",
        "\n",
        "Finalmente, si bien las técnicas no paramétricas tienen la ventaja de no depender de supuestos de forma funcional, los requisitos de información que plantean son particularmente elevados en el contexto geográfico de una regresión discontinua. Por ende, dadas las restricciones de confidencialidad, ninguno de los micro conjuntos de datos peruanos disponibles posee acceso. Asimismo, muchos de los conjuntos de datos necesarios para investigar los posibles efectos a largo plazo de la mita no ofrecen tamaños muestrales lo suficientemente grandes como para emplear técnicas no paramétricas. Por ende, la escasez de información y los complejos patrones de herencia, que pudieran vincular en términos históricos la migración selectiva con el presente, desafortunadamente, implican una investigación de considerable mayor alcance que la planteada por Dell."
      ],
      "metadata": {
        "id": "iHuWDP_L0eO-"
      }
    },
    {
      "cell_type": "code",
      "source": [
        "  "
      ],
      "metadata": {
        "id": "MvKtxsTofeIV"
      },
      "execution_count": null,
      "outputs": []
    },
    {
      "cell_type": "code",
      "source": [
        " #load data\n",
        "\n",
        "import ssl\n",
        "ssl._create_default_https_context = ssl._create_unverified_context\n",
        "\n",
        "def read_data(file): \n",
        "    return pd.read_stata(\"https://raw.github.com/scunning1975/mixtape/master/\" + file)\n",
        "\n",
        "card = read_data(\"card.dta\")\n",
        "card.head()\n"
      ],
      "metadata": {
        "colab": {
          "base_uri": "https://localhost:8080/",
          "height": 300
        },
        "id": "IvTyGnXi8-Qc",
        "outputId": "0f93199a-c591-4fda-b894-5684202977a3"
      },
      "execution_count": 24,
      "outputs": [
        {
          "output_type": "execute_result",
          "data": {
            "text/plain": [
              "    id  nearc2  nearc4  educ   age  fatheduc  motheduc    weight  momdad14  \\\n",
              "0  2.0     0.0     0.0   7.0  29.0       NaN       NaN  158413.0       1.0   \n",
              "1  3.0     0.0     0.0  12.0  27.0       8.0       8.0  380166.0       1.0   \n",
              "2  4.0     0.0     0.0  12.0  34.0      14.0      12.0  367470.0       1.0   \n",
              "3  5.0     1.0     1.0  11.0  27.0      11.0      12.0  380166.0       1.0   \n",
              "4  6.0     1.0     1.0  12.0  34.0       8.0       7.0  367470.0       1.0   \n",
              "\n",
              "   sinmom14  ...   KWW     IQ  married  libcrd14  exper     lwage  expersq  \\\n",
              "0       0.0  ...  15.0    NaN      1.0       0.0   16.0  6.306275    256.0   \n",
              "1       0.0  ...  35.0   93.0      1.0       1.0    9.0  6.175867     81.0   \n",
              "2       0.0  ...  42.0  103.0      1.0       1.0   16.0  6.580639    256.0   \n",
              "3       0.0  ...  25.0   88.0      1.0       1.0   10.0  5.521461    100.0   \n",
              "4       0.0  ...  34.0  108.0      1.0       0.0   16.0  6.591674    256.0   \n",
              "\n",
              "    u_lwage  lwage_hat    u_educ  \n",
              "0  0.198047   6.108228 -3.067539  \n",
              "1 -0.211160   6.387027 -1.727562  \n",
              "2  0.204719   6.375920  1.012975  \n",
              "3 -0.967905   6.489366 -2.253536  \n",
              "4  0.125173   6.466501  1.090437  \n",
              "\n",
              "[5 rows x 37 columns]"
            ],
            "text/html": [
              "\n",
              "  <div id=\"df-a11bc878-06cd-4c24-b8a0-85bef94b0500\">\n",
              "    <div class=\"colab-df-container\">\n",
              "      <div>\n",
              "<style scoped>\n",
              "    .dataframe tbody tr th:only-of-type {\n",
              "        vertical-align: middle;\n",
              "    }\n",
              "\n",
              "    .dataframe tbody tr th {\n",
              "        vertical-align: top;\n",
              "    }\n",
              "\n",
              "    .dataframe thead th {\n",
              "        text-align: right;\n",
              "    }\n",
              "</style>\n",
              "<table border=\"1\" class=\"dataframe\">\n",
              "  <thead>\n",
              "    <tr style=\"text-align: right;\">\n",
              "      <th></th>\n",
              "      <th>id</th>\n",
              "      <th>nearc2</th>\n",
              "      <th>nearc4</th>\n",
              "      <th>educ</th>\n",
              "      <th>age</th>\n",
              "      <th>fatheduc</th>\n",
              "      <th>motheduc</th>\n",
              "      <th>weight</th>\n",
              "      <th>momdad14</th>\n",
              "      <th>sinmom14</th>\n",
              "      <th>...</th>\n",
              "      <th>KWW</th>\n",
              "      <th>IQ</th>\n",
              "      <th>married</th>\n",
              "      <th>libcrd14</th>\n",
              "      <th>exper</th>\n",
              "      <th>lwage</th>\n",
              "      <th>expersq</th>\n",
              "      <th>u_lwage</th>\n",
              "      <th>lwage_hat</th>\n",
              "      <th>u_educ</th>\n",
              "    </tr>\n",
              "  </thead>\n",
              "  <tbody>\n",
              "    <tr>\n",
              "      <th>0</th>\n",
              "      <td>2.0</td>\n",
              "      <td>0.0</td>\n",
              "      <td>0.0</td>\n",
              "      <td>7.0</td>\n",
              "      <td>29.0</td>\n",
              "      <td>NaN</td>\n",
              "      <td>NaN</td>\n",
              "      <td>158413.0</td>\n",
              "      <td>1.0</td>\n",
              "      <td>0.0</td>\n",
              "      <td>...</td>\n",
              "      <td>15.0</td>\n",
              "      <td>NaN</td>\n",
              "      <td>1.0</td>\n",
              "      <td>0.0</td>\n",
              "      <td>16.0</td>\n",
              "      <td>6.306275</td>\n",
              "      <td>256.0</td>\n",
              "      <td>0.198047</td>\n",
              "      <td>6.108228</td>\n",
              "      <td>-3.067539</td>\n",
              "    </tr>\n",
              "    <tr>\n",
              "      <th>1</th>\n",
              "      <td>3.0</td>\n",
              "      <td>0.0</td>\n",
              "      <td>0.0</td>\n",
              "      <td>12.0</td>\n",
              "      <td>27.0</td>\n",
              "      <td>8.0</td>\n",
              "      <td>8.0</td>\n",
              "      <td>380166.0</td>\n",
              "      <td>1.0</td>\n",
              "      <td>0.0</td>\n",
              "      <td>...</td>\n",
              "      <td>35.0</td>\n",
              "      <td>93.0</td>\n",
              "      <td>1.0</td>\n",
              "      <td>1.0</td>\n",
              "      <td>9.0</td>\n",
              "      <td>6.175867</td>\n",
              "      <td>81.0</td>\n",
              "      <td>-0.211160</td>\n",
              "      <td>6.387027</td>\n",
              "      <td>-1.727562</td>\n",
              "    </tr>\n",
              "    <tr>\n",
              "      <th>2</th>\n",
              "      <td>4.0</td>\n",
              "      <td>0.0</td>\n",
              "      <td>0.0</td>\n",
              "      <td>12.0</td>\n",
              "      <td>34.0</td>\n",
              "      <td>14.0</td>\n",
              "      <td>12.0</td>\n",
              "      <td>367470.0</td>\n",
              "      <td>1.0</td>\n",
              "      <td>0.0</td>\n",
              "      <td>...</td>\n",
              "      <td>42.0</td>\n",
              "      <td>103.0</td>\n",
              "      <td>1.0</td>\n",
              "      <td>1.0</td>\n",
              "      <td>16.0</td>\n",
              "      <td>6.580639</td>\n",
              "      <td>256.0</td>\n",
              "      <td>0.204719</td>\n",
              "      <td>6.375920</td>\n",
              "      <td>1.012975</td>\n",
              "    </tr>\n",
              "    <tr>\n",
              "      <th>3</th>\n",
              "      <td>5.0</td>\n",
              "      <td>1.0</td>\n",
              "      <td>1.0</td>\n",
              "      <td>11.0</td>\n",
              "      <td>27.0</td>\n",
              "      <td>11.0</td>\n",
              "      <td>12.0</td>\n",
              "      <td>380166.0</td>\n",
              "      <td>1.0</td>\n",
              "      <td>0.0</td>\n",
              "      <td>...</td>\n",
              "      <td>25.0</td>\n",
              "      <td>88.0</td>\n",
              "      <td>1.0</td>\n",
              "      <td>1.0</td>\n",
              "      <td>10.0</td>\n",
              "      <td>5.521461</td>\n",
              "      <td>100.0</td>\n",
              "      <td>-0.967905</td>\n",
              "      <td>6.489366</td>\n",
              "      <td>-2.253536</td>\n",
              "    </tr>\n",
              "    <tr>\n",
              "      <th>4</th>\n",
              "      <td>6.0</td>\n",
              "      <td>1.0</td>\n",
              "      <td>1.0</td>\n",
              "      <td>12.0</td>\n",
              "      <td>34.0</td>\n",
              "      <td>8.0</td>\n",
              "      <td>7.0</td>\n",
              "      <td>367470.0</td>\n",
              "      <td>1.0</td>\n",
              "      <td>0.0</td>\n",
              "      <td>...</td>\n",
              "      <td>34.0</td>\n",
              "      <td>108.0</td>\n",
              "      <td>1.0</td>\n",
              "      <td>0.0</td>\n",
              "      <td>16.0</td>\n",
              "      <td>6.591674</td>\n",
              "      <td>256.0</td>\n",
              "      <td>0.125173</td>\n",
              "      <td>6.466501</td>\n",
              "      <td>1.090437</td>\n",
              "    </tr>\n",
              "  </tbody>\n",
              "</table>\n",
              "<p>5 rows × 37 columns</p>\n",
              "</div>\n",
              "      <button class=\"colab-df-convert\" onclick=\"convertToInteractive('df-a11bc878-06cd-4c24-b8a0-85bef94b0500')\"\n",
              "              title=\"Convert this dataframe to an interactive table.\"\n",
              "              style=\"display:none;\">\n",
              "        \n",
              "  <svg xmlns=\"http://www.w3.org/2000/svg\" height=\"24px\"viewBox=\"0 0 24 24\"\n",
              "       width=\"24px\">\n",
              "    <path d=\"M0 0h24v24H0V0z\" fill=\"none\"/>\n",
              "    <path d=\"M18.56 5.44l.94 2.06.94-2.06 2.06-.94-2.06-.94-.94-2.06-.94 2.06-2.06.94zm-11 1L8.5 8.5l.94-2.06 2.06-.94-2.06-.94L8.5 2.5l-.94 2.06-2.06.94zm10 10l.94 2.06.94-2.06 2.06-.94-2.06-.94-.94-2.06-.94 2.06-2.06.94z\"/><path d=\"M17.41 7.96l-1.37-1.37c-.4-.4-.92-.59-1.43-.59-.52 0-1.04.2-1.43.59L10.3 9.45l-7.72 7.72c-.78.78-.78 2.05 0 2.83L4 21.41c.39.39.9.59 1.41.59.51 0 1.02-.2 1.41-.59l7.78-7.78 2.81-2.81c.8-.78.8-2.07 0-2.86zM5.41 20L4 18.59l7.72-7.72 1.47 1.35L5.41 20z\"/>\n",
              "  </svg>\n",
              "      </button>\n",
              "      \n",
              "  <style>\n",
              "    .colab-df-container {\n",
              "      display:flex;\n",
              "      flex-wrap:wrap;\n",
              "      gap: 12px;\n",
              "    }\n",
              "\n",
              "    .colab-df-convert {\n",
              "      background-color: #E8F0FE;\n",
              "      border: none;\n",
              "      border-radius: 50%;\n",
              "      cursor: pointer;\n",
              "      display: none;\n",
              "      fill: #1967D2;\n",
              "      height: 32px;\n",
              "      padding: 0 0 0 0;\n",
              "      width: 32px;\n",
              "    }\n",
              "\n",
              "    .colab-df-convert:hover {\n",
              "      background-color: #E2EBFA;\n",
              "      box-shadow: 0px 1px 2px rgba(60, 64, 67, 0.3), 0px 1px 3px 1px rgba(60, 64, 67, 0.15);\n",
              "      fill: #174EA6;\n",
              "    }\n",
              "\n",
              "    [theme=dark] .colab-df-convert {\n",
              "      background-color: #3B4455;\n",
              "      fill: #D2E3FC;\n",
              "    }\n",
              "\n",
              "    [theme=dark] .colab-df-convert:hover {\n",
              "      background-color: #434B5C;\n",
              "      box-shadow: 0px 1px 3px 1px rgba(0, 0, 0, 0.15);\n",
              "      filter: drop-shadow(0px 1px 2px rgba(0, 0, 0, 0.3));\n",
              "      fill: #FFFFFF;\n",
              "    }\n",
              "  </style>\n",
              "\n",
              "      <script>\n",
              "        const buttonEl =\n",
              "          document.querySelector('#df-a11bc878-06cd-4c24-b8a0-85bef94b0500 button.colab-df-convert');\n",
              "        buttonEl.style.display =\n",
              "          google.colab.kernel.accessAllowed ? 'block' : 'none';\n",
              "\n",
              "        async function convertToInteractive(key) {\n",
              "          const element = document.querySelector('#df-a11bc878-06cd-4c24-b8a0-85bef94b0500');\n",
              "          const dataTable =\n",
              "            await google.colab.kernel.invokeFunction('convertToInteractive',\n",
              "                                                     [key], {});\n",
              "          if (!dataTable) return;\n",
              "\n",
              "          const docLinkHtml = 'Like what you see? Visit the ' +\n",
              "            '<a target=\"_blank\" href=https://colab.research.google.com/notebooks/data_table.ipynb>data table notebook</a>'\n",
              "            + ' to learn more about interactive tables.';\n",
              "          element.innerHTML = '';\n",
              "          dataTable['output_type'] = 'display_data';\n",
              "          await google.colab.output.renderOutput(dataTable, element);\n",
              "          const docLink = document.createElement('div');\n",
              "          docLink.innerHTML = docLinkHtml;\n",
              "          element.appendChild(docLink);\n",
              "        }\n",
              "      </script>\n",
              "    </div>\n",
              "  </div>\n",
              "  "
            ]
          },
          "metadata": {},
          "execution_count": 24
        }
      ]
    },
    {
      "cell_type": "markdown",
      "source": [
        "# Ploteo de Histogramas\n",
        "\n",
        "## Grafique dos histogramas para la variable años de educación educ para cuando nearc2 == 1, y cuando nearc2 == 0. Compare y describa los patrones que encuentra."
      ],
      "metadata": {
        "id": "rXnZ3Fv4D9cD"
      }
    },
    {
      "cell_type": "code",
      "source": [
        "sns.displot(card, x=\"educ\", col = \"nearc2\", color=\"blue\")\n"
      ],
      "metadata": {
        "colab": {
          "base_uri": "https://localhost:8080/",
          "height": 386
        },
        "id": "PNSKFZoqEHJe",
        "outputId": "e47dfae5-5f42-4637-eb99-478ee164f692"
      },
      "execution_count": 33,
      "outputs": [
        {
          "output_type": "execute_result",
          "data": {
            "text/plain": [
              "<seaborn.axisgrid.FacetGrid at 0x7ff7f043ec40>"
            ]
          },
          "metadata": {},
          "execution_count": 33
        },
        {
          "output_type": "display_data",
          "data": {
            "text/plain": [
              "<Figure size 720x360 with 2 Axes>"
            ],
            "image/png": "[encoded data removed]"
          },
          "metadata": {
            "needs_background": "light"
          }
        }
      ]
    },
    {
      "cell_type": "markdown",
      "source": [
        "Como se puede evidenciar en los graficos, existen dos grupos: los estudiantes quienes cuentan con un centro educativo cercano por 4 años (grupo de tratamiento) y quienes no (grupo de control). La gran diferencia que se encuentra es en el grupo de 12 años, en donde ademas se empieza a aumentar la cantidad de personas que acceden a educacion.\n"
      ],
      "metadata": {
        "id": "h9c3v_6OGJJu"
      }
    },
    {
      "cell_type": "markdown",
      "source": [
        "## Grafique dos histogramas para la variable logaritmos de los ingresos lwage para cuando nearc2 == 1, y cuando nearc2 == 0. Compare y describa los patrones que encuentra."
      ],
      "metadata": {
        "id": "NM7tlMvMETcy"
      }
    },
    {
      "cell_type": "code",
      "source": [
        "sns.displot(card, x=\"lwage\", col = \"nearc2\", color=\"red\")"
      ],
      "metadata": {
        "colab": {
          "base_uri": "https://localhost:8080/",
          "height": 386
        },
        "id": "m14ffty7EVYO",
        "outputId": "42aa2af7-2f6d-4101-b45b-b9c26543d751"
      },
      "execution_count": 34,
      "outputs": [
        {
          "output_type": "execute_result",
          "data": {
            "text/plain": [
              "<seaborn.axisgrid.FacetGrid at 0x7ff7f017d2b0>"
            ]
          },
          "metadata": {},
          "execution_count": 34
        },
        {
          "output_type": "display_data",
          "data": {
            "text/plain": [
              "<Figure size 720x360 with 2 Axes>"
            ],
            "image/png": "[encoded data removed]"
          },
          "metadata": {
            "needs_background": "light"
          }
        }
      ]
    },
    {
      "cell_type": "markdown",
      "source": [
        "En estos gráficos se puede ver con mucho mas claridad la diferencia entre ambos grupos, indicandonos que los estudiantes que viven cerca de una universidad perciben mas ingresos y los salarios aumentan aproximadamente el doble. En este sentido, siguiendo lo planteado anteriormente, esta diferencia puede deberse a que aquellos estudiantes que no viven cerca a una universidad no pueden concluir sus estudios por problemas como los gastos mencionados como vivienda, transporte, alimentacion, etc o incluso debido a situaciones emocionales como estres al estar expuesto a la carga academica y economica a la vez.\n",
        " \n"
      ],
      "metadata": {
        "id": "BoKqWcNCGf73"
      }
    },
    {
      "cell_type": "markdown",
      "source": [
        "# Regresiones: \n",
        "\n",
        "## Corran una regresion lineal del tipo \"lwage ~ educ + exper + black + south + married + smsa\", y expliquen los resultados que encuentran."
      ],
      "metadata": {
        "id": "uFcaCRcD9LBA"
      }
    },
    {
      "cell_type": "code",
      "source": [
        "\n",
        "ols_reg = sm.OLS.from_formula(\"lwage ~ educ + exper + black + south + married + smsa\", \n",
        "              data = card).fit()\n",
        "\n",
        "ols_reg.summary()\n"
      ],
      "metadata": {
        "colab": {
          "base_uri": "https://localhost:8080/",
          "height": 558
        },
        "id": "QDADQPq4AQyf",
        "outputId": "ab40bae8-205a-4f00-b703-b1eb79fd5875"
      },
      "execution_count": 28,
      "outputs": [
        {
          "output_type": "execute_result",
          "data": {
            "text/plain": [
              "<class 'statsmodels.iolib.summary.Summary'>\n",
              "\"\"\"\n",
              "                            OLS Regression Results                            \n",
              "==============================================================================\n",
              "Dep. Variable:                  lwage   R-squared:                       0.305\n",
              "Model:                            OLS   Adj. R-squared:                  0.304\n",
              "Method:                 Least Squares   F-statistic:                     219.2\n",
              "Date:                Fri, 09 Dec 2022   Prob (F-statistic):          1.97e-232\n",
              "Time:                        22:28:37   Log-Likelihood:                -1273.9\n",
              "No. Observations:                3003   AIC:                             2562.\n",
              "Df Residuals:                    2996   BIC:                             2604.\n",
              "Df Model:                           6                                         \n",
              "Covariance Type:            nonrobust                                         \n",
              "==============================================================================\n",
              "                 coef    std err          t      P>|t|      [0.025      0.975]\n",
              "------------------------------------------------------------------------------\n",
              "Intercept      5.0633      0.064     79.437      0.000       4.938       5.188\n",
              "educ           0.0712      0.003     20.438      0.000       0.064       0.078\n",
              "exper          0.0342      0.002     15.422      0.000       0.030       0.038\n",
              "black         -0.1660      0.018     -9.426      0.000      -0.201      -0.131\n",
              "south         -0.1316      0.015     -8.788      0.000      -0.161      -0.102\n",
              "married       -0.0359      0.003    -10.547      0.000      -0.043      -0.029\n",
              "smsa           0.1758      0.015     11.372      0.000       0.145       0.206\n",
              "==============================================================================\n",
              "Omnibus:                       53.196   Durbin-Watson:                   1.858\n",
              "Prob(Omnibus):                  0.000   Jarque-Bera (JB):               69.430\n",
              "Skew:                          -0.231   Prob(JB):                     8.38e-16\n",
              "Kurtosis:                       3.584   Cond. No.                         154.\n",
              "==============================================================================\n",
              "\n",
              "Notes:\n",
              "[1] Standard Errors assume that the covariance matrix of the errors is correctly specified.\n",
              "\"\"\""
            ],
            "text/html": [
              "<table class=\"simpletable\">\n",
              "<caption>OLS Regression Results</caption>\n",
              "<tr>\n",
              "  <th>Dep. Variable:</th>          <td>lwage</td>      <th>  R-squared:         </th> <td>   0.305</td> \n",
              "</tr>\n",
              "<tr>\n",
              "  <th>Model:</th>                   <td>OLS</td>       <th>  Adj. R-squared:    </th> <td>   0.304</td> \n",
              "</tr>\n",
              "<tr>\n",
              "  <th>Method:</th>             <td>Least Squares</td>  <th>  F-statistic:       </th> <td>   219.2</td> \n",
              "</tr>\n",
              "<tr>\n",
              "  <th>Date:</th>             <td>Fri, 09 Dec 2022</td> <th>  Prob (F-statistic):</th> <td>1.97e-232</td>\n",
              "</tr>\n",
              "<tr>\n",
              "  <th>Time:</th>                 <td>22:28:37</td>     <th>  Log-Likelihood:    </th> <td> -1273.9</td> \n",
              "</tr>\n",
              "<tr>\n",
              "  <th>No. Observations:</th>      <td>  3003</td>      <th>  AIC:               </th> <td>   2562.</td> \n",
              "</tr>\n",
              "<tr>\n",
              "  <th>Df Residuals:</th>          <td>  2996</td>      <th>  BIC:               </th> <td>   2604.</td> \n",
              "</tr>\n",
              "<tr>\n",
              "  <th>Df Model:</th>              <td>     6</td>      <th>                     </th>     <td> </td>    \n",
              "</tr>\n",
              "<tr>\n",
              "  <th>Covariance Type:</th>      <td>nonrobust</td>    <th>                     </th>     <td> </td>    \n",
              "</tr>\n",
              "</table>\n",
              "<table class=\"simpletable\">\n",
              "<tr>\n",
              "      <td></td>         <th>coef</th>     <th>std err</th>      <th>t</th>      <th>P>|t|</th>  <th>[0.025</th>    <th>0.975]</th>  \n",
              "</tr>\n",
              "<tr>\n",
              "  <th>Intercept</th> <td>    5.0633</td> <td>    0.064</td> <td>   79.437</td> <td> 0.000</td> <td>    4.938</td> <td>    5.188</td>\n",
              "</tr>\n",
              "<tr>\n",
              "  <th>educ</th>      <td>    0.0712</td> <td>    0.003</td> <td>   20.438</td> <td> 0.000</td> <td>    0.064</td> <td>    0.078</td>\n",
              "</tr>\n",
              "<tr>\n",
              "  <th>exper</th>     <td>    0.0342</td> <td>    0.002</td> <td>   15.422</td> <td> 0.000</td> <td>    0.030</td> <td>    0.038</td>\n",
              "</tr>\n",
              "<tr>\n",
              "  <th>black</th>     <td>   -0.1660</td> <td>    0.018</td> <td>   -9.426</td> <td> 0.000</td> <td>   -0.201</td> <td>   -0.131</td>\n",
              "</tr>\n",
              "<tr>\n",
              "  <th>south</th>     <td>   -0.1316</td> <td>    0.015</td> <td>   -8.788</td> <td> 0.000</td> <td>   -0.161</td> <td>   -0.102</td>\n",
              "</tr>\n",
              "<tr>\n",
              "  <th>married</th>   <td>   -0.0359</td> <td>    0.003</td> <td>  -10.547</td> <td> 0.000</td> <td>   -0.043</td> <td>   -0.029</td>\n",
              "</tr>\n",
              "<tr>\n",
              "  <th>smsa</th>      <td>    0.1758</td> <td>    0.015</td> <td>   11.372</td> <td> 0.000</td> <td>    0.145</td> <td>    0.206</td>\n",
              "</tr>\n",
              "</table>\n",
              "<table class=\"simpletable\">\n",
              "<tr>\n",
              "  <th>Omnibus:</th>       <td>53.196</td> <th>  Durbin-Watson:     </th> <td>   1.858</td>\n",
              "</tr>\n",
              "<tr>\n",
              "  <th>Prob(Omnibus):</th> <td> 0.000</td> <th>  Jarque-Bera (JB):  </th> <td>  69.430</td>\n",
              "</tr>\n",
              "<tr>\n",
              "  <th>Skew:</th>          <td>-0.231</td> <th>  Prob(JB):          </th> <td>8.38e-16</td>\n",
              "</tr>\n",
              "<tr>\n",
              "  <th>Kurtosis:</th>      <td> 3.584</td> <th>  Cond. No.          </th> <td>    154.</td>\n",
              "</tr>\n",
              "</table><br/><br/>Notes:<br/>[1] Standard Errors assume that the covariance matrix of the errors is correctly specified."
            ]
          },
          "metadata": {},
          "execution_count": 28
        }
      ]
    },
    {
      "cell_type": "markdown",
      "source": [
        "### Interpretación: \n",
        "\n",
        "Considerando que todas las variables tienen un p-valor menor a 0.05 y que son significativas, se puede concluir lo siguiente:\n",
        "\n",
        "- Por cada año adicional de educación, se espera que el nivel de ingreso aumente en 0.071 unidades logaritmicas. En otras palabras, por cada año adicional de educación, aumenta el ingreso de los encuestados en un 7.1%.\n",
        "- Por cada año adicional de experiencia laboral, se espera que el nivel de ingresos aumente en 0.03 unidades logaritimicas.\n",
        "- De tratarse de una persona afroamericana, se espera que el nivel de ingresos disminuya en 0.16 unidades logaritmicas .\n",
        "- De tratarse de una persona que vive en el sur, se espera que el nivel de ingresos disminuya en 0.13 unidades logarítmicas.\n",
        "- De tratarse de una persona casada, se espera que el nivel de ingresos disminuya en 0.03 unidades logarítimas.\n",
        "- De tratarse de una persona que vive en SMSA, se espera que el nivel de ingresos aumente en 0.17 unidades logarítmicas."
      ],
      "metadata": {
        "id": "QQ83kE3g-Lu8"
      }
    },
    {
      "cell_type": "markdown",
      "source": [
        "## Corran una regresion de tipo IV(usando el paquete IV2SLS) donde van a instrumentalizar la variable educ con nearc2. Compare los resultados encontrados usando IV2SLS con la primera regresión. ¿Cambió el coeficiente relacionado a educ? ¿por qué?"
      ],
      "metadata": {
        "id": "A8ZClm22-tgS"
      }
    },
    {
      "cell_type": "code",
      "source": [
        "card['married'] = card['married'].fillna(0)  #There are null values in the dataset, we will fill them with 0\n"
      ],
      "metadata": {
        "id": "yso-FxWFAWM6"
      },
      "execution_count": 29,
      "outputs": []
    },
    {
      "cell_type": "code",
      "source": [
        "iv_reg = IV2SLS.from_formula(\"lwage ~ 1 + exper + black + south + married + smsa + [educ ~ nearc2]\", card).fit()\n",
        "iv_reg.summary"
      ],
      "metadata": {
        "colab": {
          "base_uri": "https://localhost:8080/",
          "height": 463
        },
        "id": "8Nd65nP9Aa-k",
        "outputId": "5e0ee228-04bc-4d36-a024-303801a06118"
      },
      "execution_count": 30,
      "outputs": [
        {
          "output_type": "execute_result",
          "data": {
            "text/plain": [
              "<class 'linearmodels.compat.statsmodels.Summary'>\n",
              "\"\"\"\n",
              "                          IV-2SLS Estimation Summary                          \n",
              "==============================================================================\n",
              "Dep. Variable:                  lwage   R-squared:                     -1.3114\n",
              "Estimator:                    IV-2SLS   Adj. R-squared:                -1.3160\n",
              "No. Observations:                3010   F-statistic:                    289.62\n",
              "Date:                Fri, Dec 09 2022   P-value (F-stat)                0.0000\n",
              "Time:                        22:29:28   Distribution:                  chi2(6)\n",
              "Cov. Estimator:                robust                                         \n",
              "                                                                              \n",
              "                             Parameter Estimates                              \n",
              "==============================================================================\n",
              "            Parameter  Std. Err.     T-stat    P-value    Lower CI    Upper CI\n",
              "------------------------------------------------------------------------------\n",
              "Intercept      0.1276     3.1412     0.0406     0.9676     -6.0290      6.2843\n",
              "black          0.1134     0.1816     0.6244     0.5324     -0.2425      0.4692\n",
              "exper          0.1515     0.0747     2.0274     0.0426      0.0050      0.2980\n",
              "married       -0.0151     0.0147    -1.0258     0.3050     -0.0438      0.0137\n",
              "smsa           0.0201     0.1030     0.1949     0.8455     -0.1819      0.2220\n",
              "south         -0.0319     0.0692    -0.4603     0.6453     -0.1675      0.1038\n",
              "educ           0.3618     0.1849     1.9562     0.0504     -0.0007      0.7243\n",
              "==============================================================================\n",
              "\n",
              "Endogenous: educ\n",
              "Instruments: nearc2\n",
              "Robust Covariance (Heteroskedastic)\n",
              "Debiased: False\n",
              "\"\"\""
            ],
            "text/html": [
              "<table class=\"simpletable\">\n",
              "<caption>IV-2SLS Estimation Summary</caption>\n",
              "<tr>\n",
              "  <th>Dep. Variable:</th>          <td>lwage</td>      <th>  R-squared:         </th> <td>-1.3114</td>\n",
              "</tr>\n",
              "<tr>\n",
              "  <th>Estimator:</th>             <td>IV-2SLS</td>     <th>  Adj. R-squared:    </th> <td>-1.3160</td>\n",
              "</tr>\n",
              "<tr>\n",
              "  <th>No. Observations:</th>       <td>3010</td>       <th>  F-statistic:       </th> <td>289.62</td> \n",
              "</tr>\n",
              "<tr>\n",
              "  <th>Date:</th>             <td>Fri, Dec 09 2022</td> <th>  P-value (F-stat)   </th> <td>0.0000</td> \n",
              "</tr>\n",
              "<tr>\n",
              "  <th>Time:</th>                 <td>22:29:28</td>     <th>  Distribution:      </th> <td>chi2(6)</td>\n",
              "</tr>\n",
              "<tr>\n",
              "  <th>Cov. Estimator:</th>        <td>robust</td>      <th>                     </th>    <td></td>    \n",
              "</tr>\n",
              "<tr>\n",
              "  <th></th>                          <td></td>         <th>                     </th>    <td></td>    \n",
              "</tr>\n",
              "</table>\n",
              "<table class=\"simpletable\">\n",
              "<caption>Parameter Estimates</caption>\n",
              "<tr>\n",
              "      <td></td>      <th>Parameter</th> <th>Std. Err.</th> <th>T-stat</th>  <th>P-value</th> <th>Lower CI</th> <th>Upper CI</th>\n",
              "</tr>\n",
              "<tr>\n",
              "  <th>Intercept</th>  <td>0.1276</td>    <td>3.1412</td>   <td>0.0406</td>  <td>0.9676</td>   <td>-6.0290</td>  <td>6.2843</td> \n",
              "</tr>\n",
              "<tr>\n",
              "  <th>black</th>      <td>0.1134</td>    <td>0.1816</td>   <td>0.6244</td>  <td>0.5324</td>   <td>-0.2425</td>  <td>0.4692</td> \n",
              "</tr>\n",
              "<tr>\n",
              "  <th>exper</th>      <td>0.1515</td>    <td>0.0747</td>   <td>2.0274</td>  <td>0.0426</td>   <td>0.0050</td>   <td>0.2980</td> \n",
              "</tr>\n",
              "<tr>\n",
              "  <th>married</th>    <td>-0.0151</td>   <td>0.0147</td>   <td>-1.0258</td> <td>0.3050</td>   <td>-0.0438</td>  <td>0.0137</td> \n",
              "</tr>\n",
              "<tr>\n",
              "  <th>smsa</th>       <td>0.0201</td>    <td>0.1030</td>   <td>0.1949</td>  <td>0.8455</td>   <td>-0.1819</td>  <td>0.2220</td> \n",
              "</tr>\n",
              "<tr>\n",
              "  <th>south</th>      <td>-0.0319</td>   <td>0.0692</td>   <td>-0.4603</td> <td>0.6453</td>   <td>-0.1675</td>  <td>0.1038</td> \n",
              "</tr>\n",
              "<tr>\n",
              "  <th>educ</th>       <td>0.3618</td>    <td>0.1849</td>   <td>1.9562</td>  <td>0.0504</td>   <td>-0.0007</td>  <td>0.7243</td> \n",
              "</tr>\n",
              "</table><br/><br/>Endogenous: educ<br/>Instruments: nearc2<br/>Robust Covariance (Heteroskedastic)<br/>Debiased: False"
            ]
          },
          "metadata": {},
          "execution_count": 30
        }
      ]
    },
    {
      "cell_type": "markdown",
      "source": [
        "### Interpretación: \n",
        "\n",
        "En el segundo modelo se ha instrumentalizado la regresión lineal con las variables años de educación junto con la cercanía de institutos educativos superiores de 2 años. Como se observa, no todas las variables son significativas, a excepción de la variable años de experiencia. \n",
        "\n",
        "Asimismo, el modelo presenta un r ajustado negativo que señala que es neutral frente a la introducción de variable adicionales. Asimismo, el F statistic excede 15, lo cual sugiere que no tenemos un problema de instrumento débil.\n",
        "\n",
        "## Comparación: \n",
        "\n",
        "En general, por cada año adicional de estudios, los ingresos de los estudiantes aumenta aproximadamente un 36%. De acuerdo a esto, podemos decir que encontramos un mayor aumento del ingreso en este modelo en comparación con el OSL anterior.  Por otra parte, con respecto a la instrumentalización de variables, se observa que el coeficiente de la variable educación es mucho mayor que el encontrado en la regresión lineal: alrededor de un 75% mayor. Asimismo, dado que el F-statistic excede a 15, no se advierte un problema de instrumento débil. De esta manera, el rendimiento de la educación asociado con esta estimación 2SLS es 0,127; es decir, por cada año adicional de educación se espera que los ingresos aumenten en un 12,7%.\n",
        "\n",
        "En suma, el cambio de coeficiente de la variable años de educación (educ) está relacionado con la introducción e instrumentalización de la variable instituto educativo superior de 2 años (nearc2) presente en el modelo. Se confirma entonces que la presencia de universidades o institutos superiores cerca al lugar de residencia si juegan un papel importante en la continuación de los estudios."
      ],
      "metadata": {
        "id": "-vWsL-SjAizx"
      }
    },
    {
      "cell_type": "code",
      "source": [],
      "metadata": {
        "id": "T_v2MyJADxzz"
      },
      "execution_count": null,
      "outputs": []
    }
  ]
}