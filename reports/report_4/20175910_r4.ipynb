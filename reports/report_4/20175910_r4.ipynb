{
 "cells": [
  {
   "cell_type": "markdown",
   "id": "3b6c35fe",
   "metadata": {},
   "source": [
    "## lectura parte 1 "
   ]
  },
  {
   "cell_type": "markdown",
   "id": "f40104a2",
   "metadata": {},
   "source": [
    "\n",
    "En el artículo desarrollado por Mendoza, se ha desarrollado cómo la inclusión de un mercado de bonos a largo plazo en el modelo IS-LM nos permite evidenciar las cuestiones de política monetaria no convencionales realizadas por el FED luego de la crisis internacional de 2008-2009. En este sentido, se detalla cómo a partir de la introducción de tasas de interés a corto plazo (y no desde la oferta monetaria), así como la introducción de bonos de largo plazo. \n",
    "\n",
    "Entonces, se busca interpretar cuáles son los efectos en las variables endógenas (como los bonos de corto plazo), al haber variaciones en variables exógenas como los bonos de largo plazo. Entonces, podemos determinar cómo los choques de cambios en políticas fiscales, etc., pueden afectar en el equilibrio de producción, la tasa de interés de largo plazo y el nivel de precios (la demanda agregada, en su conjunto). Para ello, se utilizan modelos antiguos, como el keynesiano, de Hicks, entre otros, que permiten evaluar los efectos de la crisis con un buen grado de predictibilidad. \n",
    "\n",
    "Para ello, además, el autor desarrolla el modelo IS-LM-BB, donde BB representa el nuevo modelo de equilibrio con la introducción de bonos de largo plazo. Entonces, a través de la incorporación de la ecuación de la oferta agregada (y también demanda agregada), se evalúan los impactos de las políticas macroeconómicas previamente descritas, tanto convencionales como no convencionales. La pregunta del artículo, finalmente, sería ¿Cómo el uso de bonos de largo plazo en el modelo IS-LM puede permitir evidenciar efectos en políticas monetarias no convencionales realizadas por la FED luego de la crisis internacional del 2008-2009 con el uso de modelos macroeconómicos antiguos?\n",
    "\n",
    "Entonces, una de las principales fortalezas es la capacidad de sintetizar un artículo extenso en uno tan corto, pues la capacidad de extraer apropiadamente conocimiento sobre la pregunta del artículo es la conexión del mercado de bonos de largo plazo con el modelo donde se habla de permitir la discusión de las políticas monetaria no convencionales aplicadas por el FED en la crisis de 2008 al 2009. El modelo antes mencionado también aumenta la oferta y la demanda agregada.\n",
    "\n",
    "Asimismo, el autor señala que la combinación de este se puede utilizar para analizar los efectos sobre las variables endógenas del modelo, como los efectos de la política monetaria tradicional y no convencional. Además, la incorporación de modelos generales para explicar situaciones y problemáticas en contextos más actuales ayuda a los lectores a entender y analizar de una manera más eficiente las crisis contemporáneas a trasvés de modelos tradicionales, clásicos. No obstante, todos los ejemplos y aplicaciones del autor quedan en un contexto estrictamente teórico, pues a pesar que recomienda involucrar al mercado de bonos a largo plazo, respalda su decisión argumentando que, en teoría, comprar bonos a largo plazo debería reducir las tasas de interés a largo plazo a través de tres canales.\n",
    "\n",
    "La integración de mercados que propone Mendoza nos brinda un aporte interesante e importante, porque de esta manera es mucho más conciso y comprensible el impacto de la política monetaria anormal durante la crisis internacional de 2008 al 2009, y por lo tanto modelos más  antiguos, como el modelo keynesiano, en el que la sumatoria de lo doméstico, lo corporativo y lo estatal es el factor más importante de la economía, el cual puede responder a estrategias macroeconómicas modernas al complementarse con otros instrumentos.\n",
    "\n",
    "Una forma de avanzar en la pregunta de investigación, entonces, sería a través del cuestionamiento de si el uso de dichas políticas monetarias en modelos no convencionales, con el uso de herramientas antiguas, podrían ayudar a elaborar modelos que puedan ayudarnos a anticipar crisis actuales, y que puedan ayudarnos a afrontar una recesión actual de forma efectiva. Es decir, sería conveniente desarrollar un análisis en donde se pueda comparar tanto los modelos modernos en paralelo con los métodos antiguos. \n",
    "\n"
   ]
  },
  {
   "cell_type": "markdown",
   "id": "6ddf928b",
   "metadata": {},
   "source": [
    "# Código parte 2"
   ]
  },
  {
   "cell_type": "markdown",
   "id": "54405187",
   "metadata": {},
   "source": [
    "## Elaborado Con Maria Alenjandra Boceta Palomino 20201436"
   ]
  },
  {
   "cell_type": "code",
   "execution_count": 7,
   "id": "5197d5ed",
   "metadata": {},
   "outputs": [],
   "source": [
    "import ipywidgets as widgets\n",
    "import matplotlib.pyplot as plt\n",
    "import numpy as np\n",
    "import sympy as sy\n",
    "from sympy import *\n",
    "import pandas as pd\n",
    "#from causalgraphicalmodels import CausalGraphicalModel"
   ]
  },
  {
   "cell_type": "markdown",
   "id": "433ab4be",
   "metadata": {},
   "source": [
    "1 A partir del siguiente sistema de ecuaciones que representan el modelo IS-LM:"
   ]
  },
  {
   "cell_type": "markdown",
   "id": "1defac0e",
   "metadata": {},
   "source": [
    "1.1 Encuentre las ecuaciones de Ingreso (Y^e) y tasa de interes (r^e) de equilibrio(Escriba paso a paso la derivacion de estas ecuaciones)."
   ]
  },
  {
   "cell_type": "markdown",
   "id": "ba0c8109",
   "metadata": {},
   "source": [
    "Sabemos de las curvas IS-LM:"
   ]
  },
  {
   "cell_type": "markdown",
   "id": "4c513637",
   "metadata": {},
   "source": [
    "$B_0=Co+Io+Go+Xo$"
   ]
  },
  {
   "cell_type": "markdown",
   "id": "15def95d",
   "metadata": {},
   "source": [
    "$B_1=1-(b-m)(1-t)$"
   ]
  },
  {
   "cell_type": "markdown",
   "id": "8cf9fe47",
   "metadata": {},
   "source": [
    "IS:\n",
    "$$ r =(Co+Io+Xo)/h-((1-(b-m)*(1-t) ) / h)*Y $$"
   ]
  },
  {
   "cell_type": "markdown",
   "id": "0aac522a",
   "metadata": {},
   "source": [
    "   $$r=(B_0/h)-(B_1*Y/h)$$"
   ]
  },
  {
   "cell_type": "markdown",
   "id": "640794c6",
   "metadata": {},
   "source": [
    "LM:\n",
    "    $$r = - (1/j)*(Ms/P) + (k/j)*Y$$"
   ]
  },
  {
   "cell_type": "markdown",
   "id": "a1f386b0",
   "metadata": {},
   "source": [
    "$$r=(-1*M_0/J*P)+(k*Y/J)$$"
   ]
  },
  {
   "cell_type": "markdown",
   "id": "0cf60d9d",
   "metadata": {},
   "source": [
    " Luego, $IS=LM$:\n",
    "        $$(Co+Io+Xo)/h-((1-(b-m)*(1-t) ) / h)*Y=- (1/j)*(Ms/P) + (k/j)*Y$$"
   ]
  },
  {
   "cell_type": "markdown",
   "id": "591a8aa7",
   "metadata": {},
   "source": [
    "$$- (1/j)*(Ms/P) + (k/j)*Y=(-1*M_0/J*P)+(k*Y/J)$$"
   ]
  },
  {
   "cell_type": "markdown",
   "id": "a78c0420",
   "metadata": {},
   "source": [
    "Factorizando Y de la igualdad:\n"
   ]
  },
  {
   "cell_type": "markdown",
   "id": "52221299",
   "metadata": {},
   "source": [
    "Ingreso de equilibrio:\n",
    "$$Y^e = \\frac{j B_o}{k h + j B_1} + (\\frac{h}{k h + j B_1})\\frac{Ms_o}{P_o}$$"
   ]
  },
  {
   "cell_type": "markdown",
   "id": "e1a536ba",
   "metadata": {},
   "source": [
    "Tasa de interés de equilibrio: \n",
    "$$r^e = \\frac{kB_o}{kh + jB_1} - (\\frac{B_1}{kh + jB_1})\\frac{Ms_o}{P_o}$$"
   ]
  },
  {
   "cell_type": "markdown",
   "id": "5b3974fb",
   "metadata": {},
   "source": [
    "1.2 Grafique el equilibrio simultáneo en los mercados de bienes y de dinero."
   ]
  },
  {
   "cell_type": "code",
   "execution_count": 10,
   "id": "d858c827",
   "metadata": {},
   "outputs": [],
   "source": [
    "#--------------------------------------------------\n",
    "    # Curva IS\n",
    "\n",
    "# Parámetros\n",
    "\n",
    "Y_size = 100 \n",
    "\n",
    "Co = 35\n",
    "Io = 40\n",
    "Go = 50\n",
    "Xo = 2\n",
    "h = 0.8\n",
    "b = 0.4\n",
    "m = 0.5\n",
    "t = 0.8\n",
    "\n",
    "Y = np.arange(Y_size)\n",
    "\n",
    "\n",
    "# Ecuación \n",
    "def r_IS(b, m, t, Co, Io, Go, Xo, h, Y):\n",
    "    r_IS = (Co + Io + Go + Xo)/h - ( ( 1-(b-m)*(1-t) ) / h)*Y  \n",
    "    return r_IS\n",
    "\n",
    "r_is = r_IS(b, m, t, Co, Io, Go, Xo, h, Y)\n",
    "\n",
    "\n",
    "#--------------------------------------------------\n",
    "    # Curva LM \n",
    "\n",
    "# Parámetros\n",
    "\n",
    "Y_size = 100\n",
    "\n",
    "k = 2.2\n",
    "j = 1.3                \n",
    "Ms = 250            \n",
    "P  = 22              \n",
    "\n",
    "Y = np.arange(Y_size)\n",
    "\n",
    "# Ecuación\n",
    "\n",
    "def r_LM(k, j, Ms, P, Y):\n",
    "    r_LM = - (1/j)*(Ms/P) + (k/j)*Y\n",
    "    return r_LM\n",
    "\n",
    "r_lm = r_LM( k, j, Ms, P, Y)"
   ]
  },
  {
   "cell_type": "code",
   "execution_count": 11,
   "id": "1c4a11f5",
   "metadata": {},
   "outputs": [
    {
     "data": {
      "image/png": "[encoded data removed]",
      "text/plain": [
       "<Figure size 720x576 with 1 Axes>"
      ]
     },
     "metadata": {},
     "output_type": "display_data"
    }
   ],
   "source": [
    "# Gráfico del modelo IS-LM\n",
    "\n",
    "# Dimensiones del gráfico\n",
    "y_max = np.max(r_lm)\n",
    "fig, ax = plt.subplots(figsize=(10, 8))\n",
    "\n",
    "# Curvas a graficar\n",
    "# Curva IS\n",
    "ax.plot(Y, r_is, label = \"IS\", color = \"C9\") #IS\n",
    "# Curva LM\n",
    "ax.plot(Y, r_lm, label=\"LM\", color = \"C6\")  #LM\n",
    "\n",
    "# Eliminar las cantidades de los ejes\n",
    "ax.yaxis.set_major_locator(plt.NullLocator())   \n",
    "ax.xaxis.set_major_locator(plt.NullLocator())\n",
    "\n",
    "# Texto y figuras agregadas\n",
    "# Graficar la linea horizontal - r\n",
    "plt.axvline(x=56.5,  ymin= 0, ymax= 0.56, linestyle = \":\", color = \"black\")\n",
    "# Grafica la linea vertical - Y\n",
    "plt.axhline(y=87, xmin= 0, xmax= 0.56, linestyle = \":\", color = \"black\")\n",
    "\n",
    "# Plotear los textos \n",
    "plt.text(54.5,97, '$E_0$', fontsize = 14, color = 'black')\n",
    "plt.text(0,95, '$r_0$', fontsize = 12, color = 'black')\n",
    "plt.text(58,-10, '$Y_0$', fontsize = 12, color = 'black')\n",
    "\n",
    "# Título, ejes y leyenda\n",
    "ax.set(title=\"Equilibrio simultáneo en los mercados de bienes y de dinero\", xlabel= r'Y', ylabel= r'r')\n",
    "ax.legend()\n",
    "\n",
    "plt.show()"
   ]
  },
  {
   "cell_type": "markdown",
   "id": "6be0e1ca",
   "metadata": {},
   "source": [
    "2 Estática comparativa"
   ]
  },
  {
   "cell_type": "markdown",
   "id": "f8b548f1",
   "metadata": {},
   "source": [
    "2.1 Analice los efectos sobre las variables endógenas Y, r de una disminución del gasto fiscal $( △G_o<0)$ . El análisis debe ser intuitivo, matemático y gráfico."
   ]
  },
  {
   "cell_type": "markdown",
   "id": "c9198984",
   "metadata": {},
   "source": [
    "**Análisis intuitivo**"
   ]
  },
  {
   "cell_type": "markdown",
   "id": "e51c3fc2",
   "metadata": {},
   "source": [
    "Una Política Fiscal reductiva, en donde haya una disminución del G_0, generará en el mercado de bienes:\n",
    "$$Go↓ → DA↓ → DA<Y → Y↓$$"
   ]
  },
  {
   "cell_type": "markdown",
   "id": "08c957c9",
   "metadata": {},
   "source": [
    "La repercusión en el mercado de dinero: \n",
    "    $$Y↓ → Md↓ → Md<Ms → r↓$$"
   ]
  },
  {
   "cell_type": "markdown",
   "id": "4ff2c124",
   "metadata": {},
   "source": [
    "**Análsis matemático** "
   ]
  },
  {
   "cell_type": "code",
   "execution_count": 15,
   "id": "f2c79cd0",
   "metadata": {},
   "outputs": [],
   "source": [
    "# nombrar variables como símbolos\n",
    "Co, Io, Go, Xo, h, r, b, m, t, beta_0, beta_1  = symbols('Co Io Go Xo h r b m t beta_0, beta_1')\n",
    "\n",
    "# nombrar variables como símbolos\n",
    "k, j, Ms, P, Y = symbols('k j Ms P Y')\n",
    "\n",
    "# Beta_0 y beta_1\n",
    "beta_0 = (Co + Io + Go + Xo)\n",
    "beta_1 = ( 1-(b-m)*(1-t) )\n",
    "\n",
    "# Producto de equilibrio y la tasa de interes de equilibrio en el modelo IS-LM\n",
    "r_eq = (k*beta_0)/(k*h + j*beta_1) - ( beta_1 / (k*h + j*beta_1) )*(Ms/P)\n",
    "Y_eq = (j*beta_0)/(k*h + j*beta_1) + ( h / (k*h + j*beta_1) )*(Ms/P)"
   ]
  },
  {
   "cell_type": "code",
   "execution_count": 16,
   "id": "0525e6b7",
   "metadata": {},
   "outputs": [
    {
     "name": "stdout",
     "output_type": "stream",
     "text": [
      "El Diferencial del Producto con respecto al diferencial del gasto autonomo =  j/(h*k + j*(-(1 - t)*(b - m) + 1))\n"
     ]
    }
   ],
   "source": [
    "df_Y_eq_Go = diff(Y_eq, Go)\n",
    "print(\"El Diferencial del Producto con respecto al diferencial del gasto autonomo = \", df_Y_eq_Go)  # este diferencial es positivo"
   ]
  },
  {
   "cell_type": "code",
   "execution_count": 17,
   "id": "36c7ed99",
   "metadata": {},
   "outputs": [
    {
     "name": "stdout",
     "output_type": "stream",
     "text": [
      "El Diferencial de la tasa de interes con respecto al diferencial del gasto autonomo =  k/(h*k + j*(-(1 - t)*(b - m) + 1))\n"
     ]
    }
   ],
   "source": [
    "df_r_eq_Go = diff(r_eq, Go)\n",
    "print(\"El Diferencial de la tasa de interes con respecto al diferencial del gasto autonomo = \", df_r_eq_Go)  # este diferencial es positivo"
   ]
  },
  {
   "cell_type": "markdown",
   "id": "0f5b240d",
   "metadata": {},
   "source": [
    "**Análisis gráfico**"
   ]
  },
  {
   "cell_type": "code",
   "execution_count": 203,
   "id": "3c2772fa",
   "metadata": {},
   "outputs": [],
   "source": [
    "#1--------------------------------------------------\n",
    "    # Curva IS ORIGINAL\n",
    "\n",
    "# Parámetros\n",
    "\n",
    "Y_size = 100 \n",
    "\n",
    "Co = 35\n",
    "Io = 40\n",
    "Go = 50\n",
    "Xo = 2\n",
    "h = 0.8\n",
    "b = 0.4\n",
    "m = 0.5\n",
    "t = 0.8\n",
    "\n",
    "Y = np.arange(Y_size)\n",
    "\n",
    "\n",
    "# Ecuación \n",
    "def r_IS(b, m, t, Co, Io, Go, Xo, h, Y):\n",
    "    r_IS = (Co + Io + Go + Xo - Y * (1-(b-m)*(1-t)))/h\n",
    "    return r_IS\n",
    "\n",
    "r = r_IS(b, m, t, Co, Io, Go, Xo, h, Y)\n",
    "\n",
    "\n",
    "#2--------------------------------------------------\n",
    "    # Curva LM ORIGINAL\n",
    "\n",
    "# Parámetros\n",
    "\n",
    "Y_size = 100\n",
    "\n",
    "k = 2\n",
    "j = 1                \n",
    "Ms = 200             \n",
    "P  = 20               \n",
    "\n",
    "Y = np.arange(Y_size)\n",
    "\n",
    "# Ecuación\n",
    "\n",
    "def i_LM( k, j, Ms, P, Y):\n",
    "    i_LM = (-Ms/P)/j + k/j*Y\n",
    "    return i_LM\n",
    "\n",
    "i = i_LM( k, j, Ms, P, Y)"
   ]
  },
  {
   "cell_type": "code",
   "execution_count": 204,
   "id": "fef1342a",
   "metadata": {},
   "outputs": [],
   "source": [
    "#--------------------------------------------------\n",
    "    # NUEVA curva IS: reducción Gasto de Gobienro (Go)\n",
    "    \n",
    "# Definir SOLO el parámetro cambiado\n",
    "Go = 30\n",
    "\n",
    "# Generar la ecuación con el nuevo parámetro\n",
    "def r_IS(b, m, t, Co, Io, Go, Xo, h, Y):\n",
    "    r_IS = (Co + Io + Go + Xo - Y * (1-(b-m)*(1-t)))/h\n",
    "    return r_IS\n",
    "\n",
    "r_G = r_IS(b, m, t, Co, Io, Go, Xo, h, Y)"
   ]
  },
  {
   "cell_type": "code",
   "execution_count": 205,
   "id": "dbf5fa13",
   "metadata": {},
   "outputs": [
    {
     "data": {
      "image/png": "[encoded data removed]",
      "text/plain": [
       "<Figure size 720x576 with 1 Axes>"
      ]
     },
     "metadata": {
      "needs_background": "light"
     },
     "output_type": "display_data"
    }
   ],
   "source": [
    "# Gráfico\n",
    "\n",
    "# Dimensiones del gráfico\n",
    "y_max = np.max(i)\n",
    "fig, ax = plt.subplots(figsize=(10, 8))\n",
    "\n",
    "# Curvas a graficar\n",
    "ax.plot(Y, r, label = \"IS_(G_0)\", color = \"C2\") #IS_orginal\n",
    "ax.plot(Y, r_G, label = \"IS_(G_1)\", color = \"C2\", linestyle = 'dashed') #IS_modificada\n",
    "\n",
    "ax.plot(Y, i, label=\"LM\", color = \"C9\")  #LM_original\n",
    "\n",
    "# Texto y figuras agregadas\n",
    "plt.axvline(x=51.5,  ymin= 0, ymax= 0.57, linestyle = \":\", color = \"grey\")\n",
    "plt.axhline(y=93, xmin= 0, xmax= 0.52, linestyle = \":\", color = \"grey\")\n",
    "\n",
    "plt.axvline(x=44,  ymin= 0, ymax= 0.45, linestyle = \":\", color = \"grey\")\n",
    "plt.axhline(y=77.5, xmin= 0, xmax= 0.45, linestyle = \":\", color = \"grey\")\n",
    "plt.text(40,80, '$E_1$', fontsize = 14, color = 'black')\n",
    "\n",
    "plt.text(49,100, '$E_0$', fontsize = 14, color = 'black')\n",
    "plt.text(-1,96, '$r_0$', fontsize = 12, color = 'black')\n",
    "plt.text(-1,80, '$r_1$', fontsize = 12, color = 'black')\n",
    "plt.text(51,-37, '$Y_0$', fontsize = 12, color = 'black')\n",
    "#plt.text(50,52, '$E_1$', fontsize = 14, color = '#3D59AB')\n",
    "#plt.text(-1,72, '$r_1$', fontsize = 12, color = '#3D59AB')\n",
    "plt.text(43,-37, '$Y_1$', fontsize = 12, color = '#3D59AB')\n",
    "\n",
    "#plt.text(69, 115, '→', fontsize=15, color='grey')\n",
    "#plt.text(69, 52, '←', fontsize=15, color='grey')\n",
    "\n",
    "# Título, ejes y leyenda\n",
    "ax.set(title=\"Politica Fiscal Reductiva\", xlabel= r'Y', ylabel= r'r')\n",
    "ax.legend()\n",
    "\n",
    "plt.show()"
   ]
  },
  {
   "cell_type": "markdown",
   "id": "e1ba537c",
   "metadata": {},
   "source": [
    "2.2 Analice los efectos sobre las variables endógenas Y, r de una disminución de la masa monetaria $( △M^s<0)$ . El análisis debe ser intuitivo, matemático y gráfico."
   ]
  },
  {
   "cell_type": "markdown",
   "id": "f5d2e2d6",
   "metadata": {},
   "source": [
    "**Análisis intuitivo**"
   ]
  },
  {
   "cell_type": "markdown",
   "id": "36b56e73",
   "metadata": {},
   "source": [
    "Mercado de dinero:\n",
    "    $$Ms↓ → M^o↓ → M^o < M^d → r↑$$"
   ]
  },
  {
   "cell_type": "markdown",
   "id": "5b45fd0f",
   "metadata": {},
   "source": [
    "Mercado de bienes:\n",
    "    $$r↑ → I↓ → DA<Y → Y↓$$"
   ]
  },
  {
   "cell_type": "markdown",
   "id": "6323bd28",
   "metadata": {},
   "source": [
    "**Análisis matemático**"
   ]
  },
  {
   "cell_type": "code",
   "execution_count": 22,
   "id": "1939a647",
   "metadata": {},
   "outputs": [],
   "source": [
    "# nombrar variables como símbolos\n",
    "Co, Io, Go, Xo, h, r, b, m, t, beta_0, beta_1  = symbols('Co Io Go Xo h r b m t beta_0, beta_1')\n",
    "\n",
    "# nombrar variables como símbolos\n",
    "k, j, Ms, P, Y = symbols('k j Ms P Y')\n",
    "\n",
    "# Beta_0 y beta_1\n",
    "beta_0 = (Co + Io + Go + Xo)\n",
    "beta_1 = ( 1-(b-m)*(1-t) )\n",
    "\n",
    "# Producto de equilibrio y la tasa de interes de equilibrio en el modelo IS-LM\n",
    "Y_eq = (k*beta_0)/(k*h + j*beta_1) - ( beta_1 / (k*h + j*beta_1) )*(Ms/P)\n",
    "r_eq = (j*beta_0)/(k*h + j*beta_1) + ( h / (k*h + j*beta_1) )*(Ms/P)"
   ]
  },
  {
   "cell_type": "code",
   "execution_count": 23,
   "id": "65259db1",
   "metadata": {},
   "outputs": [
    {
     "name": "stdout",
     "output_type": "stream",
     "text": [
      "El Diferencial de la tasa de interes con respecto al diferencial de la masa monetaria =  h/(P*(h*k + j*(-(1 - t)*(b - m) + 1)))\n"
     ]
    }
   ],
   "source": [
    "df_r_eq_Ms = diff(r_eq, Ms)\n",
    "print(\"El Diferencial de la tasa de interes con respecto al diferencial de la masa monetaria = \", df_r_eq_Ms)  # este diferencial es positivo"
   ]
  },
  {
   "cell_type": "code",
   "execution_count": 24,
   "id": "a696a10a",
   "metadata": {},
   "outputs": [
    {
     "name": "stdout",
     "output_type": "stream",
     "text": [
      "El Diferencial del producto con respecto al diferencial de la masa monetaria =  -(-(1 - t)*(b - m) + 1)/(P*(h*k + j*(-(1 - t)*(b - m) + 1)))\n"
     ]
    }
   ],
   "source": [
    "df_Y_eq_Ms = diff(Y_eq, Ms)\n",
    "print(\"El Diferencial del producto con respecto al diferencial de la masa monetaria = \", df_Y_eq_Ms)  # este diferencial es positivo"
   ]
  },
  {
   "cell_type": "markdown",
   "id": "0b90e157",
   "metadata": {},
   "source": [
    "**Análisis gráfico**"
   ]
  },
  {
   "cell_type": "code",
   "execution_count": 206,
   "id": "3791a38a",
   "metadata": {},
   "outputs": [],
   "source": [
    "#1--------------------------------------------------\n",
    "    # Curva IS ORIGINAL\n",
    "\n",
    "# Parámetros\n",
    "\n",
    "Y_size = 100 \n",
    "\n",
    "Co = 35\n",
    "Io = 40\n",
    "Go = 50\n",
    "Xo = 2\n",
    "h = 0.8\n",
    "b = 0.4\n",
    "m = 0.5\n",
    "t = 0.8\n",
    "\n",
    "Y = np.arange(Y_size)\n",
    "\n",
    "\n",
    "# Ecuación \n",
    "def r_IS(b, m, t, Co, Io, Go, Xo, h, Y):\n",
    "    r_IS = (Co + Io + Go + Xo - Y * (1-(b-m)*(1-t)))/h\n",
    "    return r_IS\n",
    "\n",
    "r = r_IS(b, m, t, Co, Io, Go, Xo, h, Y)\n",
    "\n",
    "\n",
    "#2--------------------------------------------------\n",
    "    # Curva LM ORIGINAL\n",
    "\n",
    "# Parámetros\n",
    "\n",
    "Y_size = 100\n",
    "\n",
    "k = 2\n",
    "j = 1                \n",
    "Ms = 700        \n",
    "P  = 20               \n",
    "\n",
    "Y = np.arange(Y_size)\n",
    "\n",
    "# Ecuación\n",
    "\n",
    "def i_LM( k, j, Ms, P, Y):\n",
    "    i_LM = (-Ms/P)/j + k/j*Y\n",
    "    return i_LM\n",
    "\n",
    "i = i_LM( k, j, Ms, P, Y)"
   ]
  },
  {
   "cell_type": "code",
   "execution_count": 207,
   "id": "19f19fc6",
   "metadata": {},
   "outputs": [],
   "source": [
    "# Reducción de Ms\n",
    "Ms = 200\n",
    "\n",
    "# Generar nueva curva LM con la variacion del Ms\n",
    "def i_LM_Ms( k, j, Ms, P, Y):\n",
    "    i_LM = (-Ms/P)/j + k/j*Y\n",
    "    return i_LM\n",
    "\n",
    "i_Ms = i_LM_Ms( k, j, Ms, P, Y)"
   ]
  },
  {
   "cell_type": "code",
   "execution_count": 208,
   "id": "7a22cf4a",
   "metadata": {},
   "outputs": [
    {
     "data": {
      "image/png": "[encoded data removed]",
      "text/plain": [
       "<Figure size 720x576 with 1 Axes>"
      ]
     },
     "metadata": {
      "needs_background": "light"
     },
     "output_type": "display_data"
    }
   ],
   "source": [
    "# Gráfico\n",
    "\n",
    "# Dimensiones del gráfico\n",
    "y_max = np.max(i)\n",
    "fig, ax = plt.subplots(figsize=(10, 8))\n",
    "\n",
    "# Curvas a graficar\n",
    "ax.plot(Y, r, label = \"IS\", color = \"C9\") #IS_orginal\n",
    "ax.plot(Y, i, label=\"LM_(MS_0)\", color = \"C2\")  #LM_original\n",
    "\n",
    "ax.plot(Y, i_Ms, label=\"LM_(MS_1)\", color = \"C2\", linestyle = 'dashed')  #LM_modificada\n",
    "\n",
    "# Lineas de equilibrio_0 \n",
    "plt.axvline(x=51.5,  ymin= 0, ymax= 0.57, linestyle = \":\", color = \"grey\")\n",
    "plt.axhline(y=93, xmin= 0, xmax= 0.52, linestyle = \":\", color = \"grey\")\n",
    "\n",
    "# Lineas de equilibrio_1 \n",
    "plt.axvline(x=60,  ymin= 0, ymax= 0.55, linestyle = \":\", color = \"grey\")\n",
    "plt.axhline(y=85, xmin= 0, xmax= 0.6, linestyle = \":\", color = \"grey\")\n",
    "plt.text(62,82, '$E_0$', fontsize = 14, color = 'black')\n",
    "\n",
    "#plt.axhline(y=68, xmin= 0, xmax= 0.52, linestyle = \":\", color = \"grey\")\n",
    "\n",
    "# Textos ploteados\n",
    "plt.text(49,100, '$E_1$', fontsize = 14, color = 'black')\n",
    "plt.text(-1,78, '$r_0$', fontsize = 12, color = 'black')\n",
    "plt.text(-1,97, '$r_1$', fontsize = 12, color = 'black')\n",
    "plt.text(59,-40, '$Y_0$', fontsize = 12, color = 'black')\n",
    "plt.text(50,-40, '$Y_1$', fontsize = 12, color = 'black')\n",
    "#plt.text(50,52, '$E_1$', fontsize = 14, color = '#3D59AB')\n",
    "#plt.text(-1,72, '$r_1$', fontsize = 12, color = '#3D59AB')\n",
    "#plt.text(47,-40, '$Y_1$', fontsize = 12, color = '#3D59AB')\n",
    "\n",
    "#plt.text(69, 115, '→', fontsize=15, color='grey')\n",
    "#plt.text(69, 52, '←', fontsize=15, color='grey')\n",
    "\n",
    "# Título, ejes y leyenda\n",
    "ax.set(title=\"Efecto de un incremento de la masa monetaria\", xlabel= r'Y', ylabel= r'r')\n",
    "ax.legend()\n",
    "\n",
    "plt.show()"
   ]
  },
  {
   "cell_type": "markdown",
   "id": "263f6e07",
   "metadata": {},
   "source": [
    "2.3 Analice los efectos sobre las variables endógenas Y, r de un incremento de la tasa de impuestos $( △t>0)$ . El análisis debe ser intuitivo, matemático y gráfico"
   ]
  },
  {
   "cell_type": "markdown",
   "id": "5994a162",
   "metadata": {},
   "source": [
    "**Análisis intuitivo**"
   ]
  },
  {
   "cell_type": "markdown",
   "id": "5ff222a0",
   "metadata": {},
   "source": [
    "Mercado de dinero:\n",
    "$$t↑→DA↑→DA>Y→Y↑$$"
   ]
  },
  {
   "cell_type": "markdown",
   "id": "b0fff09f",
   "metadata": {},
   "source": [
    "Mercado de precios:\n",
    "    $$Y↑→Md↑→Md>Ms→r↑$$"
   ]
  },
  {
   "cell_type": "markdown",
   "id": "c0b88e8f",
   "metadata": {},
   "source": [
    "**Análisis matemático**"
   ]
  },
  {
   "cell_type": "code",
   "execution_count": 37,
   "id": "c5fd325b",
   "metadata": {},
   "outputs": [],
   "source": [
    "# nombrar variables como símbolos\n",
    "Co, Io, Go, Xo, h, r, b, m, t, beta_0, beta_1  = symbols('Co Io Go Xo h r b m t beta_0, beta_1')\n",
    "\n",
    "# nombrar variables como símbolos\n",
    "k, j, Ms, P, Y = symbols('k j Ms P Y')\n",
    "\n",
    "\n",
    "# Beta_0 y beta_1\n",
    "beta_0 = (Co + Io + Go + Xo)\n",
    "beta_1 = ( 1-(b-m)*(1-t) )\n",
    "\n",
    "# Producto de equilibrio y la tasa de interes de equilibrio en el modelo IS-LM\n",
    "Y_eq = (k*beta_0)/(k*h + j*beta_1) - ( beta_1 / (k*h + j*beta_1) )*(Ms/P)\n",
    "r_eq = (j*beta_0)/(k*h + j*beta_1) + ( h / (k*h + j*beta_1) )*(Ms/P)"
   ]
  },
  {
   "cell_type": "code",
   "execution_count": 38,
   "id": "7c94daf1",
   "metadata": {},
   "outputs": [
    {
     "name": "stdout",
     "output_type": "stream",
     "text": [
      "El Diferencial de la tasa de interes con respecto al diferencial de la tasa de impuestos =  -Ms*h*j*(b - m)/(P*(h*k + j*(-(1 - t)*(b - m) + 1))**2) - j**2*(b - m)*(Co + Go + Io + Xo)/(h*k + j*(-(1 - t)*(b - m) + 1))**2\n"
     ]
    }
   ],
   "source": [
    "df_r_eq_t = diff(r_eq, t)\n",
    "print(\"El Diferencial de la tasa de interes con respecto al diferencial de la tasa de impuestos = \", df_r_eq_t)  # este diferencial es positivo"
   ]
  },
  {
   "cell_type": "code",
   "execution_count": 32,
   "id": "fbec1722",
   "metadata": {},
   "outputs": [
    {
     "name": "stdout",
     "output_type": "stream",
     "text": [
      "El Diferencial del producto con respecto al diferencial de la tasa de impuestos =  Ms*j*(b - m)*(-(1 - t)*(b - m) + 1)/(P*(h*k + j*(-(1 - t)*(b - m) + 1))**2) - Ms*(b - m)/(P*(h*k + j*(-(1 - t)*(b - m) + 1))) - j*k*(b - m)*(Co + Go + Io + Xo)/(h*k + j*(-(1 - t)*(b - m) + 1))**2\n"
     ]
    }
   ],
   "source": [
    "df_Y_eq_t = diff(Y_eq, t)\n",
    "print(\"El Diferencial del producto con respecto al diferencial de la tasa de impuestos = \", df_Y_eq_t)  # este diferencial es positivo"
   ]
  },
  {
   "cell_type": "markdown",
   "id": "88f08578",
   "metadata": {},
   "source": [
    "**Análisis gráfico**"
   ]
  },
  {
   "cell_type": "code",
   "execution_count": 209,
   "id": "d92e7814",
   "metadata": {},
   "outputs": [],
   "source": [
    "#1--------------------------------------------------\n",
    "    # Curva IS ORIGINAL\n",
    "\n",
    "# Parámetros\n",
    "\n",
    "Y_size = 100 \n",
    "\n",
    "Co = 35\n",
    "Io = 40\n",
    "Go = 50\n",
    "Xo = 2\n",
    "h = 0.8\n",
    "b = 0.4\n",
    "m = 0.5\n",
    "t = 0.2\n",
    "\n",
    "Y = np.arange(Y_size)\n",
    "\n",
    "\n",
    "# Ecuación \n",
    "def r_IS(b, m, t, Co, Io, Go, Xo, h, Y):\n",
    "    r_IS = (Co + Io + Go + Xo - Y * (1-(b-m)*(1-t)))/h\n",
    "    return r_IS\n",
    "\n",
    "r = r_IS(b, m, t, Co, Io, Go, Xo, h, Y)\n",
    "\n",
    "\n",
    "#2--------------------------------------------------\n",
    "    # Curva LM ORIGINAL\n",
    "\n",
    "# Parámetros\n",
    "\n",
    "Y_size = 100\n",
    "\n",
    "k = 2\n",
    "j = 1                \n",
    "Ms = 200             \n",
    "P  = 20               \n",
    "\n",
    "Y = np.arange(Y_size)\n",
    "\n",
    "# Ecuación\n",
    "\n",
    "def i_LM( k, j, Ms, P, Y):\n",
    "    i_LM = (-Ms/P)/j + k/j*Y\n",
    "    return i_LM\n",
    "\n",
    "i = i_LM( k, j, Ms, P, Y)"
   ]
  },
  {
   "cell_type": "code",
   "execution_count": 210,
   "id": "3cf1e9fc",
   "metadata": {},
   "outputs": [],
   "source": [
    "#--------------------------------------------------\n",
    "    # NUEVA curva IS: reducción Gasto de Gobienro (Go)\n",
    "    \n",
    "# Definir SOLO el parámetro cambiado\n",
    "t = 5\n",
    "\n",
    "# Generar la ecuación con el nuevo parámetro\n",
    "def r_IS(b, m, t, Co, Io, Go, Xo, h, Y):\n",
    "    r_IS = (Co + Io + Go + Xo - Y * (1-(b-m)*(1-t)))/h\n",
    "    return r_IS\n",
    "\n",
    "r_G = r_IS(b, m, t, Co, Io, Go, Xo, h, Y)"
   ]
  },
  {
   "cell_type": "code",
   "execution_count": 211,
   "id": "720e965d",
   "metadata": {},
   "outputs": [
    {
     "data": {
      "image/png": "[encoded data removed]",
      "text/plain": [
       "<Figure size 720x576 with 1 Axes>"
      ]
     },
     "metadata": {
      "needs_background": "light"
     },
     "output_type": "display_data"
    }
   ],
   "source": [
    "# Gráfico\n",
    "\n",
    "# Dimensiones del gráfico\n",
    "y_max = np.max(i)\n",
    "fig, ax = plt.subplots(figsize=(10, 8))\n",
    "\n",
    "# Curvas a graficar\n",
    "ax.plot(Y, r, label = \"IS_(G_0)\", color = \"C1\") #IS_orginal\n",
    "ax.plot(Y, r_G, label = \"IS_(G_1)\", color = \"C1\", linestyle = 'dashed') #IS_modificada\n",
    "\n",
    "ax.plot(Y, i, label=\"LM\", color = \"C0\")  #LM_original\n",
    "\n",
    "# Texto y figuras agregadas\n",
    "plt.axvline(x=50.7,  ymin= 0, ymax= 0.51, linestyle = \":\", color = \"grey\")\n",
    "plt.axhline(y=90.8, xmin= 0, xmax= 0.51, linestyle = \":\", color = \"grey\")\n",
    "\n",
    "plt.axvline(x=61.8,  ymin= 0, ymax= 0.61, linestyle = \":\", color = \"grey\")\n",
    "plt.axhline(y=113, xmin= 0, xmax= 0.6, linestyle = \":\", color = \"grey\")\n",
    "plt.text(60,120, '$E_1$', fontsize = 14, color = 'black')\n",
    "\n",
    "plt.text(49,98, '$E_0$', fontsize = 14, color = 'black')\n",
    "plt.text(-8,90, '$r_0$', fontsize = 12, color = 'black')\n",
    "plt.text(-8,112, '$r_1$', fontsize = 12, color = 'black')\n",
    "plt.text(50,-40, '$Y_0$', fontsize = 12, color = 'black')\n",
    "#plt.text(50,52, '$E_1$', fontsize = 14, color = '#3D59AB')\n",
    "#plt.text(-1,72, '$r_1$', fontsize = 12, color = '#3D59AB')\n",
    "plt.text(62,-40, '$Y_1$', fontsize = 12, color = 'black')\n",
    "\n",
    "#plt.text(69, 115, '→', fontsize=15, color='grey')\n",
    "#plt.text(69, 52, '←', fontsize=15, color='grey')\n",
    "\n",
    "# Título, ejes y leyenda\n",
    "ax.set(title=\"Incremento en la tasa de impuestos\", xlabel= r'Y', ylabel= r'r')\n",
    "ax.legend()\n",
    "\n",
    "plt.show()"
   ]
  },
  {
   "cell_type": "code",
   "execution_count": null,
   "id": "95f7a887",
   "metadata": {},
   "outputs": [],
   "source": []
  },
  {
   "cell_type": "code",
   "execution_count": null,
   "id": "0769c357",
   "metadata": {},
   "outputs": [],
   "source": []
  },
  {
   "cell_type": "code",
   "execution_count": null,
   "id": "7012713d",
   "metadata": {},
   "outputs": [],
   "source": []
  }
 ],
 "metadata": {
  "kernelspec": {
   "display_name": "Python 3 (ipykernel)",
   "language": "python",
   "name": "python3"
  },
  "language_info": {
   "codemirror_mode": {
    "name": "ipython",
    "version": 3
   },
   "file_extension": ".py",
   "mimetype": "text/x-python",
   "name": "python",
   "nbconvert_exporter": "python",
   "pygments_lexer": "ipython3",
   "version": "3.9.12"
  }
 },
 "nbformat": 4,
 "nbformat_minor": 5
}
