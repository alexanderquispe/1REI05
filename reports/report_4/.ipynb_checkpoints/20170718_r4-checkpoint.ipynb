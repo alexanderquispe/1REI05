{
 "cells": [
  {
   "cell_type": "markdown",
   "id": "aede3539",
   "metadata": {},
   "source": [
    "PARTE I: REPORTE DE LA LECTURA\n",
    "\n",
    "El siguiente artículo “Demanda y oferta agregada en presencia de políticas monetarias no convencionales” nos muestra como los viejos modelos y viejos métodos son todavía muy útiles para tratar los problemas macroeconómicos contemporáneos. En este contexto, el objetivo del artículo es modelar la política monetaria no convencional, incorporando las innovaciones de la política monetaria dentro del modelo estándar de demanda y oferta agregada en una economía cerrada con el objetivo de contrarrestar las secuelas de la crisis internacional durante el período 2008-2009. En este modelo, la Reserva Federal (Fed) se encarga de administrar la tasa de interés de corto plazo y no la oferta monetaria. Asimismo, para analizar el impacto de la flexibilización cuantitativa dentro del mercado de bienes, de dinero y de bonos de corto plazo, se añade un mercado de bonos de largo plazo en el presente modelo. De tal manera, la pregunta de investigación que se busca responder es cómo los cambios dentro de este modelo nos permiten discutir las cuestiones de política monetaria no convencionales o estudiar los efectos de las políticas macroeconómicas convencionales y no convencionales.\n",
    "\n",
    "En este sentido, la fortaleza del artículo es que nos muestra la estructura interna del modelo, la descripción de la demanda agregada con el modelo IS-LM-BB que considera tres mercados financieros: el mercado de dinero, el de bonos a largo plazo y el de bonos a corto plazo; donde por la Ley de Walras prescindimos de este último. Asimismo, el artículo menciona a la oferta agregada con pendiente positiva donde un aumento de la producción conlleva a un aumento del nivel de precios; también analiza la demanda y oferta agregada para discutir los efectos de las variables endógenas en las políticas monetarios convencionales y no convencionales en el corto plazo, en el equilibrio estacionacionario y en el tránsito hacia el equilibrio estacionario. Además, nos presenta la demanda y oferta agregada con expectativas racionales, la cual es muy útil para los efectos de políticas fiscales y monetarias anticipadas o no anticipadas, donde  los efectos de las anticipadas tienen efectos nulos sobre la producción mientras que las inesperadas si tienen efectos sobre el nivel de actividad económica. Por otro, se mencionan también los efectos de las políticas macroeconómicas y los choques de oferta como: los efectos del mayor gasto público, los efectos de una menor tasa de interés de corto plazo, los efectos de la mayor compra de bonos de largo plazo y los efectos de una contracción del producto potencial; todos ellos respecto a los efectos en el corto plazo, en el tránsito al equilibrio estacionario, en el equilibrio estacionario y los efectos con expectativas racionales, cuando la política es anticipada. \n",
    "Por otro lado, una debilidad que el artículo menciona es que los viejos modelos como el de Keynes, Hicks o Tobin y el viejo método de estáticas comparativas se han convertido en herramientas pasadas u obsoletas para muchos. Sin embargo, se espera que con lo demostrado a lo largo del texto se vuelvan a tomar en cuenta ya que pueden ser muy útiles para responder a preguntas macroeconómicas contemporáneas. Esto es debido a que en muchos aspectos, explican de manera más eficiente los eventos complejos reportados por la crisis 2008-2009 mejor que los modelos y métodos actuales.\n",
    "\n",
    "La contribución del artículo es evidenciar cómo es que estos viejos modelos nos permiten responder a las cuestiones macroeconómicas actuales aún mejor que los modelos modernos que se usan en la actualidad. De esta manera, si al aparato sencillo del modelo IS-LM-BB el cual se desprende de la demanda agregada de esta economía cerrada que estamos estudiando, se le agrega una ecuación de la oferta agregada, se puede construir un modelo para estudiar los efectos de las políticas macroeconómicas convencionales o no convencionales; y la influencia de los choques de oferta sobre la producción, el nivel de precios, la tasa de interés de largo plazo y la cantidad de dinero. En este sentido, observamos que en un aumento del gasto público, en el corto plazo o primer período, eleva la demanda y por tanto la producción. En el largo plazo este efecto de la producción reduce la demanda de bonos incrementando la tasa de interés de largo plazo; en el mercado de dinero, incrementa la compra de bonos de corto plazo en poder del banco central y la brecha del producto se amplía lo que conduce a la elevación del nivel de precios.\n",
    "Por un lado, una disminución de la tasa de interés a corto plazo conlleva, en el nuevo equilibrio estacionario, que la tasa de interés a largo plazo y la producción  regresen a su nivel inicial; mientras que los bonos a corto plazo y el nivel de precios aumentan. Además, respecto a los efectos de una mayor compra de bonos a largo plazo, la dinámica continua hasta que la economía alcance un nuevo equilibrio estacionario, con el mismo nivel de producción, la misma tasa de interés de largo plazo, el mismo volumen de bonos de corto plazo y un mayor nivel de precios. Por otro lado, antes los efectos de la reducción del producto potencial, la convergencia de las variables es asintótica, la producción  continua su descenso luego de la caída inicial hasta situarse en su nivel potencial más bajo. La tasa de interés de largo plazo se eleva, el nivel de precios también continúa elevándose; asimismo, el volumen de bonos de corto plazo se reduce. Además, en presencia de choques oferta,  mientras que el nivel de precios se eleva, la producción se reduce, produciendo el fenómeno conocido como estanflación.\n",
    "\n",
    "Finalmente, cabe preguntarse de qué manera los instrumentos no convencionales de la política monetaria pueden surgir como alternativa para estimular el crédito y, en definitiva, la economía. En este sentido, según López (2020) cuando se habla de instrumentos  no convencionales se hace referencia a la estrategia de colocar los tipos de interés de referencia en niveles extremadamente bajos, el redimensionamiento de las operaciones de préstamos a la banca, los preanuncios monetarios o “forward guidance” y los programas de compra de activos financieros. Estos instrumentos pueden servir para solucionar problemas planteados por la coyuntura Covid-19 ya que presentan desafíos similares a la crisis 2007-2008. La aplicación de los instrumentos monetarios no convencionales, pudiera ser una efectiva alternativa para destrabar la trasmisión de la política monetaria al mercado de crédito. Más aún, considerando que en varios países los tipos de interés se encuentran en niveles excepcionalmente bajos. Sin embargo, la experiencia aprendida de los países avanzados indica que la aplicación de estos instrumentos monetarios no convencionales exige ciertas condiciones de base que no necesariamente aplican a todas las economías de la región, como un contexto de muy bajas tasas de interés, expectativas de inflación ancladas o mercados de renta fija profundos.\n"
   ]
  },
  {
   "cell_type": "code",
   "execution_count": 1,
   "id": "22b8d946",
   "metadata": {},
   "outputs": [],
   "source": [
    "#Antes de pasar a la parte de códigos en Python, procederemos a instalar las librerías correspondientes\n",
    "\n",
    "import ipywidgets as widgets\n",
    "import matplotlib.pyplot as plt\n",
    "import numpy as np\n",
    "import sympy as sy\n",
    "from sympy import *\n",
    "import pandas as pd\n",
    "from causalgraphicalmodels import CausalGraphicalModel"
   ]
  },
  {
   "cell_type": "markdown",
   "id": "ce2c135b",
   "metadata": {},
   "source": [
    "PARTE II: CÓDIGO EN PYTHON\n",
    "\n",
    "Ejercicio1: A partir del siguiente sistema de ecuaciones que representan el modelo IS-LM\n",
    "\n",
    "a) Encuentre las ecuaciones de Ingreso  y tasa de interes  de equilibrio(Escriba paso a paso la derivacion de estas ecuaciones).\n",
    "\n",
    "\n",
    "El equilibrio en el modelo IS-LM:\n",
    "\n",
    "\n",
    "Por un lado, considerando la ecuación de la curva IS\n",
    "\n",
    "$$ r = \\frac{B_o}{h} - \\frac{B_1}{h}Y $$\n",
    "\n",
    "- Donde $ B_0 = C_o + I_o + G_o + X_o $ y $ B_1 = 1 - (b - m)(1 - t) $\n",
    "\n",
    "\n",
    "Y, por otro lado, la ecuación de la curva LM:\n",
    "\n",
    "$$  r = -\\frac{1}{j}\\frac{Mo^s}{P_o} + \\frac{k}{j}Y $$\n",
    "\n",
    "\n",
    "Podemos igualar, sustituir o reducir ambas ecuaciones para encontrar el nivel de Ingresos equilibrio $(Y^e)$ y la tasa de interés de equilibrio $(r^e)$:\n",
    "\n",
    "$$ -\\frac{1}{j}\\frac{Mo^s}{P_o} + \\frac{k}{j}Y = \\frac{B_o}{h} - \\frac{B_1}{h}Y $$\n",
    "\n",
    "- Ingreso de equilibrio:\n",
    "\n",
    "$$ Y^e = \\frac{j B_o}{k h + j B_1} + (\\frac{h}{k h + j B_1})\\frac{Ms_o}{P_o} $$\n",
    "\n",
    "- Tasa de interés de equilibrio:\n",
    "\n",
    "$$ r^e = \\frac{kB_o}{kh + jB_1} - (\\frac{B_1}{kh + jB_1})\\frac{Ms_o}{P_o} $$\n",
    "\n",
    "Estas dos ecuaciones representan el modelo IS-LM\n",
    "\n",
    "\n",
    "b) Grafique el equilibrio simultáneo en los mercados de bienes y de dinero.\n"
   ]
  },
  {
   "cell_type": "code",
   "execution_count": 2,
   "id": "0894bf78",
   "metadata": {},
   "outputs": [],
   "source": [
    "#--------------------------------------------------\n",
    "    # Curva IS\n",
    "\n",
    "# Parámetros\n",
    "\n",
    "Y_size = 100 \n",
    "\n",
    "Co = 40\n",
    "Io = 45\n",
    "Go = 55\n",
    "Xo = 2\n",
    "h = 0.85\n",
    "b = 0.45\n",
    "m = 0.35\n",
    "t = 0.85\n",
    "\n",
    "Y = np.arange(Y_size)\n",
    "\n",
    "\n",
    "# Ecuación \n",
    "def r_IS(b, m, t, Co, Io, Go, Xo, h, Y):\n",
    "    r_IS = (Co + Io + Go + Xo)/h - ( ( 1-(b-m)*(1-t) ) / h)*Y  \n",
    "    return r_IS\n",
    "\n",
    "r_is = r_IS(b, m, t, Co, Io, Go, Xo, h, Y)\n",
    "\n",
    "\n",
    "#--------------------------------------------------\n",
    "    # Curva LM \n",
    "\n",
    "# Parámetros\n",
    "\n",
    "Y_size = 100\n",
    "\n",
    "k = 2\n",
    "j = 1                \n",
    "Ms = 180             \n",
    "P  = 18               \n",
    "\n",
    "Y = np.arange(Y_size)\n",
    "\n",
    "# Ecuación\n",
    "\n",
    "def r_LM(k, j, Ms, P, Y):\n",
    "    r_LM = - (1/j)*(Ms/P) + (k/j)*Y\n",
    "    return r_LM\n",
    "\n",
    "r_lm = r_LM( k, j, Ms, P, Y)"
   ]
  },
  {
   "cell_type": "code",
   "execution_count": 3,
   "id": "3dc652cb",
   "metadata": {},
   "outputs": [
    {
     "data": {
      "image/png": "[encoded data removed]",
      "text/plain": [
       "<Figure size 720x576 with 1 Axes>"
      ]
     },
     "metadata": {},
     "output_type": "display_data"
    }
   ],
   "source": [
    "# Gráfico del modelo IS-LM\n",
    "\n",
    "# Dimensiones del gráfico\n",
    "y_max = np.max(r_lm)\n",
    "fig, ax = plt.subplots(figsize=(10, 8))\n",
    "\n",
    "# Curvas a graficar\n",
    "# Curva IS\n",
    "ax.plot(Y, r_is, label = \"IS\", color = \"C1\") #IS\n",
    "# Curva LM\n",
    "ax.plot(Y, r_lm, label=\"LM\", color = \"C0\")  #LM\n",
    "\n",
    "# Eliminar las cantidades de los ejes\n",
    "ax.yaxis.set_major_locator(plt.NullLocator())   \n",
    "ax.xaxis.set_major_locator(plt.NullLocator())\n",
    "\n",
    "# Texto y figuras agregadas\n",
    "# Graficar la linea horizontal - r\n",
    "plt.axvline(x=56,  ymin= 0, ymax= 0.56, linestyle = \":\", color = \"black\")\n",
    "# Grafica la linea vertical - Y\n",
    "plt.axhline(y=101.5, xmin= 0, xmax= 0.56, linestyle = \":\", color = \"black\")\n",
    "\n",
    "# Plotear los textos \n",
    "plt.text(53,108, '$E_0$', fontsize = 14, color = 'black')\n",
    "plt.text(0,106, '$r_0$', fontsize = 12, color = 'black')\n",
    "plt.text(57,-10, '$Y_0$', fontsize = 12, color = 'black')\n",
    "\n",
    "# Título, ejes y leyenda\n",
    "ax.set(title=\"IS-LM Model\", xlabel= r'Y', ylabel= r'r')\n",
    "ax.legend()\n",
    "\n",
    "plt.show()"
   ]
  },
  {
   "cell_type": "markdown",
   "id": "40245f4e",
   "metadata": {},
   "source": [
    "Encontramos las ecuaciones de equilibrio:"
   ]
  },
  {
   "cell_type": "code",
   "execution_count": 4,
   "id": "b418afcd",
   "metadata": {},
   "outputs": [],
   "source": [
    "# Beta_0 y beta_1\n",
    "beta_0 = (Co + Io + Go + Xo)\n",
    "beta_1 = ( 1-(b-m)*(1-t) )\n",
    "\n",
    "# Producto de equilibrio y la tasa de interes de equilibrio en el modelo IS-LM\n",
    "Y_eq = (k*beta_0)/(k*h + j*beta_1) - ( beta_1 / (k*h + j*beta_1) )*(Ms/P)\n",
    "r_eq = (j*beta_0)/(k*h + j*beta_1) + ( h / (k*h + j*beta_1) )*(Ms/P)"
   ]
  },
  {
   "cell_type": "markdown",
   "id": "228d8934",
   "metadata": {},
   "source": [
    "Ejercicio2: Estática comparativa.\n",
    "\n",
    "-Analice los efectos sobre las variables endógenas Y, r de una disminución del gasto fiscal. . El análisis debe ser intuitivo, matemático y gráfico.\n",
    "\n",
    "-Analice los efectos sobre las variables endógenas Y, r de una disminución de la masa monetaria. . El análisis debe ser intuitivo, matemático y gráfico.\n",
    "\n",
    "-Analice los efectos sobre las variables endógenas Y, r de un incremento de la tasa de impuestos. . El análisis debe ser intuitivo, matemático y gráfico.\n"
   ]
  },
  {
   "cell_type": "markdown",
   "id": "646296b8",
   "metadata": {},
   "source": [
    "a) Disminución del gasto fiscal:\n",
    "\n",
    "Intuición:\n",
    " - Mercado de Bienes\n",
    "$$ Go↓ → DA↓ → DA<Y → Y↓ $$ \n",
    "- Mercado de dinero\n",
    "$$ Y↓ → Md↓ → Md<Ms → r↓ $$ \n",
    "\n",
    "\n",
    "Matemática:"
   ]
  },
  {
   "cell_type": "code",
   "execution_count": 5,
   "id": "2183adcf",
   "metadata": {},
   "outputs": [],
   "source": [
    "# nombrar variables como símbolos\n",
    "Co, Io, Go, Xo, h, r, b, m, t, beta_0, beta_1  = symbols('Co Io Go Xo h r b m t beta_0, beta_1')\n",
    "\n",
    "# nombrar variables como símbolos\n",
    "k, j, Ms, P, Y = symbols('k j Ms P Y')\n",
    "\n",
    "# Beta_0 y beta_1\n",
    "beta_0 = (Co + Io - Go + Xo)\n",
    "beta_1 = ( 1-(b-m)*(1-t) )\n",
    "\n",
    "# Producto de equilibrio y la tasa de interes de equilibrio en el modelo IS-LM\n",
    "Y_eq = (k*beta_0)/(k*h + j*beta_1) - ( beta_1 / (k*h + j*beta_1) )*(Ms/P)\n",
    "r_eq = (j*beta_0)/(k*h + j*beta_1) + ( h / (k*h + j*beta_1) )*(Ms/P)"
   ]
  },
  {
   "cell_type": "code",
   "execution_count": 6,
   "id": "051287e1",
   "metadata": {},
   "outputs": [
    {
     "name": "stdout",
     "output_type": "stream",
     "text": [
      "El Diferencial del Producto con respecto al diferencial del gasto autonomo =  -k/(h*k + j*(-(1 - t)*(b - m) + 1))\n"
     ]
    }
   ],
   "source": [
    "df_Y_eq_Go = diff(Y_eq, Go)\n",
    "print(\"El Diferencial del Producto con respecto al diferencial del gasto autonomo = \", df_Y_eq_Go)# este diferencial es positivo"
   ]
  },
  {
   "cell_type": "markdown",
   "id": "e076eb60",
   "metadata": {},
   "source": [
    "¿$∆Y$ sabiendo que $∆G_0 < 0$?\n",
    "\n",
    "$$ \\frac{∆Y}{∆G_0} = \\frac{j}{(h*k + j*(-(1 - t)*(b - m) + 1))} $$\n",
    "\n",
    "$$ \\frac{∆Y}{(-)} = (+) $$\n",
    "\n",
    "$$ ∆Y < 0 $$"
   ]
  },
  {
   "cell_type": "code",
   "execution_count": 8,
   "id": "a92e999e",
   "metadata": {},
   "outputs": [
    {
     "name": "stdout",
     "output_type": "stream",
     "text": [
      "El Diferencial de la tasa de interes con respecto al diferencial del gasto autonomo =  -j/(h*k + j*(-(1 - t)*(b - m) + 1))\n"
     ]
    }
   ],
   "source": [
    "df_r_eq_Go = diff(r_eq, Go)\n",
    "print(\"El Diferencial de la tasa de interes con respecto al diferencial del gasto autonomo = \", df_r_eq_Go)\n",
    "# este diferencial es positivo"
   ]
  },
  {
   "cell_type": "markdown",
   "id": "9be17eac",
   "metadata": {},
   "source": [
    "¿$∆r$ sabiendo que $∆G_0 < 0$?\n",
    "\n",
    "$$ \\frac{∆r}{∆G_0} = \\frac{k}{(h*k + j*(-(1 - t)*(b - m) + 1))} $$\n",
    "\n",
    "$$ \\frac{∆r}{(-)} = (+) $$\n",
    "\n",
    "$$ ∆r < 0 $$"
   ]
  },
  {
   "cell_type": "markdown",
   "id": "a0be8966",
   "metadata": {},
   "source": [
    "- Intuición:\n",
    "\n",
    "$$ Go↓ → DA↓ → DA < Y → Y↓ $$\n",
    "\n",
    "$$ Y↓ → M^d↓ → M^d < M^s → r↓ $$\n",
    "\n",
    "- Gráfico:"
   ]
  },
  {
   "cell_type": "code",
   "execution_count": 41,
   "id": "aaac6db0",
   "metadata": {},
   "outputs": [],
   "source": [
    "#1--------------------------------------------------\n",
    "    # Curva IS ORIGINAL\n",
    "\n",
    "# Parámetros\n",
    "\n",
    "Y_size = 100 \n",
    "\n",
    "Co = 40\n",
    "Io = 45\n",
    "Go = 55\n",
    "Xo = 2\n",
    "h = 0.85\n",
    "b = 0.45\n",
    "m = 0.35\n",
    "t = 0.85\n",
    "\n",
    "Y = np.arange(Y_size)\n",
    "\n",
    "\n",
    "# Ecuación \n",
    "def r_IS(b, m, t, Co, Io, Go, Xo, h, Y):\n",
    "    r_IS = (Co + Io + Go + Xo - Y * (1-(b-m)*(1-t)))/h\n",
    "    return r_IS\n",
    "\n",
    "r = r_IS(b, m, t, Co, Io, Go, Xo, h, Y)\n",
    "\n",
    "\n",
    "#2--------------------------------------------------\n",
    "    # Curva LM ORIGINAL\n",
    "\n",
    "# Parámetros\n",
    "\n",
    "Y_size = 100\n",
    "\n",
    "k = 2\n",
    "j = 1                \n",
    "Ms = 180             \n",
    "P  = 18               \n",
    "\n",
    "Y = np.arange(Y_size)\n",
    "\n",
    "# Ecuación\n",
    "\n",
    "def i_LM( k, j, Ms, P, Y):\n",
    "    i_LM = (-Ms/P)/j + k/j*Y\n",
    "    return i_LM\n",
    "\n",
    "i = i_LM( k, j, Ms, P, Y)"
   ]
  },
  {
   "cell_type": "code",
   "execution_count": 42,
   "id": "307e01bc",
   "metadata": {},
   "outputs": [],
   "source": [
    "#--------------------------------------------------\n",
    "    # NUEVA curva IS: reducción Gasto de Gobienro (Go)\n",
    "    \n",
    "# Definir SOLO el parámetro cambiado\n",
    "Go = 25\n",
    "\n",
    "# Generar la ecuación con el nuevo parámetro\n",
    "def r_IS(b, m, t, Co, Io, Go, Xo, h, Y):\n",
    "    r_IS = (Co + Io + Go + Xo - Y * (1-(b-m)*(1-t)))/h\n",
    "    return r_IS\n",
    "\n",
    "r_G = r_IS(b, m, t, Co, Io, Go, Xo, h, Y)"
   ]
  },
  {
   "cell_type": "code",
   "execution_count": 66,
   "id": "511a5821",
   "metadata": {},
   "outputs": [
    {
     "data": {
      "image/png": "[encoded data removed]",
      "text/plain": [
       "<Figure size 720x576 with 1 Axes>"
      ]
     },
     "metadata": {
      "needs_background": "light"
     },
     "output_type": "display_data"
    }
   ],
   "source": [
    "# Gráfico\n",
    "\n",
    "# Dimensiones del gráfico\n",
    "y_max = np.max(i)\n",
    "fig, ax = plt.subplots(figsize=(10, 8))\n",
    "\n",
    "# Curvas a graficar\n",
    "ax.plot(Y, r, label = \"IS_(G_0)\", color = \"green\") #IS_orginal\n",
    "ax.plot(Y, r_G, label = \"IS_(G_1)\", color = \"green\", linestyle = 'dashed') #IS_modificada\n",
    "\n",
    "ax.plot(Y, i, label=\"LM\", color = \"C0\")  #LM_original\n",
    "\n",
    "# Texto y figuras agregadas\n",
    "plt.axvline(x=45,  ymin= 0, ymax= 0.45, linestyle = \":\", color = \"grey\")\n",
    "plt.axhline(y=80, xmin= 0, xmax= 0.45, linestyle = \":\", color = \"grey\")\n",
    "\n",
    "plt.axvline(x=56,  ymin= 0, ymax= 0.56, linestyle = \":\", color = \"grey\")\n",
    "plt.axhline(y=102.5, xmin= 0, xmax= 0.56, linestyle = \":\", color = \"grey\")\n",
    "plt.text(60,49, '$E_1$', fontsize = 14, color = 'black')\n",
    "\n",
    "plt.text(55,110, '$E_0$', fontsize = 14, color = 'black')\n",
    "plt.text(-1,110, '$r_0$', fontsize = 12, color = 'black')\n",
    "plt.text(53,-40, '$Y_0$', fontsize = 12, color = 'black')\n",
    "plt.text(43,86, '$E_1$', fontsize = 14, color = '#3D59AB')\n",
    "plt.text(-1,85, '$r_1$', fontsize = 12, color = '#3D59AB')\n",
    "plt.text(47,-40, '$Y_1$', fontsize = 12, color = '#3D59AB')\n",
    "\n",
    "#plt.text(69, 115, '→', fontsize=15, color='grey')\n",
    "#plt.text(69, 52, '←', fontsize=15, color='grey')\n",
    "\n",
    "# Título, ejes y leyenda\n",
    "ax.set(title=\"Politica Fiscal Contractiva\", xlabel= r'Y', ylabel= r'r')\n",
    "ax.legend()\n",
    "\n",
    "plt.show()"
   ]
  },
  {
   "cell_type": "markdown",
   "id": "8806527e",
   "metadata": {},
   "source": [
    "b) Disminución de la masa monetaria:\n",
    "\n",
    "Intuición:\n",
    "\n",
    "- Mercado de dinero\n",
    "$$ Ms↓ → M^o↓ → M^o < M^d → r↑ $$\n",
    "\n",
    "- Mercado de Bienes\n",
    "$$ r↑ → I↓ → DA<Y → Y↓ $$ "
   ]
  },
  {
   "cell_type": "markdown",
   "id": "28c02451",
   "metadata": {},
   "source": [
    "Matemática:"
   ]
  },
  {
   "cell_type": "code",
   "execution_count": 9,
   "id": "8445b1e2",
   "metadata": {},
   "outputs": [],
   "source": [
    "# nombrar variables como símbolos\n",
    "Co, Io, Go, Xo, h, r, b, m, t, beta_0, beta_1  = symbols('Co Io Go Xo h r b m t beta_0, beta_1')\n",
    "\n",
    "# nombrar variables como símbolos\n",
    "k, j, Ms, P, Y = symbols('k j Ms P Y')\n",
    "\n",
    "# Beta_0 y beta_1\n",
    "beta_0 = (Co + Io + Go + Xo)\n",
    "beta_1 = ( 1-(b-m)*(1-t) )\n",
    "\n",
    "# Producto de equilibrio y la tasa de interes de equilibrio en el modelo IS-LM\n",
    "Y_eq = (k*beta_0)/(k*h + j*beta_1) - ( beta_1 / (k*h + j*beta_1) )*(Ms/P)\n",
    "r_eq = (j*beta_0)/(k*h + j*beta_1) + ( h / (k*h + j*beta_1) )*(Ms/P)"
   ]
  },
  {
   "cell_type": "code",
   "execution_count": 10,
   "id": "e397e996",
   "metadata": {},
   "outputs": [
    {
     "name": "stdout",
     "output_type": "stream",
     "text": [
      "El Diferencial de la tasa de interes con respecto al diferencial de la masa monetaria =  h/(P*(h*k + j*(-(1 - t)*(b - m) + 1)))\n"
     ]
    }
   ],
   "source": [
    "df_r_eq_Ms = diff(r_eq, Ms)\n",
    "print(\"El Diferencial de la tasa de interes con respecto al diferencial de la masa monetaria = \", df_r_eq_Ms)  \n",
    "# este diferencial es positivo"
   ]
  },
  {
   "cell_type": "markdown",
   "id": "9fab6466",
   "metadata": {},
   "source": [
    "¿$∆Y$ sabiendo que $∆M^s < 0$?\n",
    "\n",
    "$$ \\frac{∆Y}{∆M^s} = \\frac{h}{(P*(h*k + j*(-(1 - t)*(b - m) + 1)))} $$\n",
    "\n",
    "$$ \\frac{∆Y}{(-)} = (+) $$\n",
    "\n",
    "$$ ∆Y < 0 $$"
   ]
  },
  {
   "cell_type": "code",
   "execution_count": 11,
   "id": "3504dc30",
   "metadata": {},
   "outputs": [
    {
     "name": "stdout",
     "output_type": "stream",
     "text": [
      "El Diferencial del producto con respecto al diferencial de la masa monetaria =  -(-(1 - t)*(b - m) + 1)/(P*(h*k + j*(-(1 - t)*(b - m) + 1)))\n"
     ]
    }
   ],
   "source": [
    "df_Y_eq_Ms = diff(Y_eq, Ms)\n",
    "print(\"El Diferencial del producto con respecto al diferencial de la masa monetaria = \", df_Y_eq_Ms)  \n",
    "# este diferencial es positivo"
   ]
  },
  {
   "cell_type": "markdown",
   "id": "073a7470",
   "metadata": {},
   "source": [
    "¿$∆r$ sabiendo que $∆M^s < 0$?\n",
    "\n",
    "$$ \\frac{∆r}{∆M^s} = \\frac{-(-(1 - t)*(b - m) + 1)}{(P*(h*k + j*(-(1 - t)*(b - m) + 1)))} $$\n",
    "\n",
    "$$ \\frac{∆r}{(-)} = (-) $$\n",
    "\n",
    "$$ ∆r > 0 $$\n",
    "\n",
    "- Gráfico:"
   ]
  },
  {
   "cell_type": "code",
   "execution_count": 12,
   "id": "8dc8b474",
   "metadata": {},
   "outputs": [],
   "source": [
    "#1--------------------------------------------------\n",
    "    # Curva IS ORIGINAL\n",
    "\n",
    "# Parámetros\n",
    "\n",
    "Y_size = 100 \n",
    "\n",
    "Co = 40\n",
    "Io = 45\n",
    "Go = 55\n",
    "Xo = 2\n",
    "h = 0.85\n",
    "b = 0.45\n",
    "m = 0.35\n",
    "t = 0.85\n",
    "\n",
    "Y = np.arange(Y_size)\n",
    "\n",
    "\n",
    "# Ecuación \n",
    "def r_IS(b, m, t, Co, Io, Go, Xo, h, Y):\n",
    "    r_IS = (Co + Io + Go + Xo - Y * (1-(b-m)*(1-t)))/h\n",
    "    return r_IS\n",
    "\n",
    "r = r_IS(b, m, t, Co, Io, Go, Xo, h, Y)\n",
    "\n",
    "\n",
    "#2--------------------------------------------------\n",
    "    # Curva LM ORIGINAL\n",
    "\n",
    "# Parámetros\n",
    "\n",
    "Y_size = 100\n",
    "\n",
    "k = 2\n",
    "j = 1                \n",
    "Ms = 480             \n",
    "P  = 18               \n",
    "\n",
    "Y = np.arange(Y_size)\n",
    "\n",
    "# Ecuación\n",
    "\n",
    "def i_LM( k, j, Ms, P, Y):\n",
    "    i_LM = (-Ms/P)/j + k/j*Y\n",
    "    return i_LM\n",
    "\n",
    "i = i_LM( k, j, Ms, P, Y)"
   ]
  },
  {
   "cell_type": "code",
   "execution_count": 13,
   "id": "aa7cad6b",
   "metadata": {},
   "outputs": [],
   "source": [
    "# Definir SOLO el parámetro cambiado\n",
    "Ms = 120\n",
    "\n",
    "# Generar nueva curva LM con la variacion del Ms\n",
    "def i_LM_Ms( k, j, Ms, P, Y):\n",
    "    i_LM = (-Ms/P)/j + k/j*Y\n",
    "    return i_LM\n",
    "\n",
    "i_Ms = i_LM_Ms( k, j, Ms, P, Y)"
   ]
  },
  {
   "cell_type": "code",
   "execution_count": 14,
   "id": "a61ba2dc",
   "metadata": {},
   "outputs": [
    {
     "data": {
      "image/png": "[encoded data removed]",
      "text/plain": [
       "<Figure size 720x576 with 1 Axes>"
      ]
     },
     "metadata": {
      "needs_background": "light"
     },
     "output_type": "display_data"
    }
   ],
   "source": [
    "# Gráfico\n",
    "\n",
    "# Dimensiones del gráfico\n",
    "y_max = np.max(i)\n",
    "fig, ax = plt.subplots(figsize=(10, 8))\n",
    "\n",
    "# Curvas a graficar\n",
    "ax.plot(Y, r, label = \"IS\", color = \"C1\") #IS_orginal\n",
    "ax.plot(Y, i, label=\"LM_(MS_0)\", color = \"C0\")  #LM_original\n",
    "\n",
    "ax.plot(Y, i_Ms, label=\"LM_(MS_1)\", color = \"C0\", linestyle = 'dashed')  #LM_modificada\n",
    "\n",
    "# Lineas de equilibrio_0 \n",
    "plt.axvline(x=54.5,  ymin= 0, ymax= 0.585, linestyle = \":\", color = \"grey\")\n",
    "plt.axhline(y=103.5, xmin= 0, xmax= 0.55, linestyle = \":\", color = \"grey\")\n",
    "\n",
    "# Lineas de equilibrio_1 \n",
    "plt.axvline(x=61.5,  ymin= 0, ymax= 0.56, linestyle = \":\", color = \"grey\")\n",
    "plt.axhline(y=95, xmin= 0, xmax= 0.615, linestyle = \":\", color = \"grey\")\n",
    "plt.text(62,87, '$E_1$', fontsize = 14, color = 'black')\n",
    "\n",
    "#plt.axhline(y=68, xmin= 0, xmax= 0.52, linestyle = \":\", color = \"grey\")\n",
    "\n",
    "# Textos ploteados\n",
    "plt.text(62,87, '$E_0$', fontsize = 14, color = 'black')\n",
    "plt.text(-1,100, '$r_0$', fontsize = 12, color = 'black')\n",
    "plt.text(53,-40, '$Y_0$', fontsize = 12, color = 'black')\n",
    "plt.text(52,110, '$E_1$', fontsize = 14, color = '#3D59AB')\n",
    "#plt.text(-1,72, '$r_1$', fontsize = 12, color = '#3D59AB')\n",
    "#plt.text(47,-40, '$Y_1$', fontsize = 12, color = '#3D59AB')\n",
    "\n",
    "#plt.text(69, 115, '→', fontsize=15, color='grey')\n",
    "#plt.text(69, 52, '←', fontsize=15, color='grey')\n",
    "\n",
    "# Título, ejes y leyenda\n",
    "ax.set(title=\"Efecto de un incremento de la masa monetaria\", xlabel= r'Y', ylabel= r'r')\n",
    "ax.legend()\n",
    "\n",
    "plt.show()"
   ]
  },
  {
   "cell_type": "markdown",
   "id": "8321b20b",
   "metadata": {},
   "source": [
    "c) Incremento de la tasa de impuestos:\n",
    "\n",
    "- Intuición:\n",
    "\n",
    "$$ t↑ → DA↓ → DA < Y → Y↓$$\n",
    "\n",
    "$$ Y↓ → M^d↓ → M^d < M^s → r↓ $$\n",
    "\n"
   ]
  },
  {
   "cell_type": "markdown",
   "id": "14c01e1b",
   "metadata": {},
   "source": [
    "- Matemática:"
   ]
  },
  {
   "cell_type": "code",
   "execution_count": 15,
   "id": "c5a8aeb9",
   "metadata": {},
   "outputs": [],
   "source": [
    "# nombrar variables como símbolos\n",
    "Co, Io, Go, Xo, h, r, b, m, t, beta_0, beta_1  = symbols('Co Io Go Xo h r b m t beta_0, beta_1')\n",
    "\n",
    "# nombrar variables como símbolos\n",
    "k, j, Ms, P, Y = symbols('k j Ms P Y')\n",
    "\n",
    "# Beta_0 y beta_1\n",
    "beta_0 = (Co + Io + Go + Xo)\n",
    "beta_1 = ( 1-(b-m)*(1-t) )\n",
    "\n",
    "# Producto de equilibrio y la tasa de interes de equilibrio en el modelo IS-LM\n",
    "r_eq = (k*beta_0)/(k*h + j*beta_1) - ( beta_1 / (k*h + j*beta_1) )*(Ms/P)\n",
    "Y_eq = (j*beta_0)/(k*h + j*beta_1) + ( h / (k*h + j*beta_1) )*(Ms/P)\n"
   ]
  },
  {
   "cell_type": "code",
   "execution_count": 16,
   "id": "8ce23b0b",
   "metadata": {},
   "outputs": [
    {
     "name": "stdout",
     "output_type": "stream",
     "text": [
      "El Diferencial del Producto con respecto al diferencial de la tasa impositiva =  -Ms*h*j*(b - m)/(P*(h*k + j*(-(1 - t)*(b - m) + 1))**2) - j**2*(b - m)*(Co + Go + Io + Xo)/(h*k + j*(-(1 - t)*(b - m) + 1))**2\n"
     ]
    }
   ],
   "source": [
    "df_Y_eq_t = diff(Y_eq, t)\n",
    "print(\"El Diferencial del Producto con respecto al diferencial de la tasa impositiva = \", df_Y_eq_t)\n"
   ]
  },
  {
   "cell_type": "markdown",
   "id": "002d3652",
   "metadata": {},
   "source": [
    "¿$∆Y$ sabiendo que $∆t > 0$?\n",
    "\n",
    "$$ \\frac{∆Y}{∆t} = (-) $$\n",
    "\n",
    "$$ \\frac{∆Y}{(+)} = (-) $$\n",
    "\n",
    "$$ ∆Y < 0 $$"
   ]
  },
  {
   "cell_type": "code",
   "execution_count": 17,
   "id": "6e5e816a",
   "metadata": {},
   "outputs": [
    {
     "name": "stdout",
     "output_type": "stream",
     "text": [
      "El Diferencial de la tasa de interés con respecto al diferencial de la tasa impositiva =  Ms*j*(b - m)*(-(1 - t)*(b - m) + 1)/(P*(h*k + j*(-(1 - t)*(b - m) + 1))**2) - Ms*(b - m)/(P*(h*k + j*(-(1 - t)*(b - m) + 1))) - j*k*(b - m)*(Co + Go + Io + Xo)/(h*k + j*(-(1 - t)*(b - m) + 1))**2\n"
     ]
    }
   ],
   "source": [
    "df_r_eq_t = diff(r_eq, t)\n",
    "print(\"El Diferencial de la tasa de interés con respecto al diferencial de la tasa impositiva = \", df_r_eq_t)"
   ]
  },
  {
   "cell_type": "markdown",
   "id": "2c331c08",
   "metadata": {},
   "source": [
    "¿$∆r$ sabiendo que $∆t > 0$?\n",
    "\n",
    "$$ \\frac{∆r}{∆t} = (-) $$\n",
    "\n",
    "$$ \\frac{∆r}{(+)} = (-) $$\n",
    "\n",
    "$$ ∆r < 0 $$\n",
    "\n",
    "- Gráfico:"
   ]
  },
  {
   "cell_type": "code",
   "execution_count": 18,
   "id": "537d96d7",
   "metadata": {},
   "outputs": [],
   "source": [
    "#1--------------------------------------------------\n",
    "    # Curva IS ORIGINAL\n",
    "\n",
    "# Parámetros\n",
    "\n",
    "Y_size = 100 \n",
    "\n",
    "Co = 35\n",
    "Io = 40\n",
    "Go = 50\n",
    "Xo = 2\n",
    "h = 0.8\n",
    "b = 0.5\n",
    "m = 0.4\n",
    "t = 0.1\n",
    "\n",
    "Y = np.arange(Y_size)\n",
    "\n",
    "\n",
    "# Ecuación \n",
    "def r_IS(b, m, t, Co, Io, Go, Xo, h, Y):\n",
    "    r_IS = (Co + Io + Go + Xo - Y * (1-(b-m)*(1-t)))/h\n",
    "    return r_IS\n",
    "\n",
    "r = r_IS(b, m, t, Co, Io, Go, Xo, h, Y)\n",
    "\n",
    "\n",
    "#2--------------------------------------------------\n",
    "    # Curva LM ORIGINAL\n",
    "\n",
    "# Parámetros\n",
    "\n",
    "Y_size = 100\n",
    "\n",
    "k = 2\n",
    "j = 1                \n",
    "Ms = 200             \n",
    "P  = 20               \n",
    "\n",
    "Y = np.arange(Y_size)\n",
    "\n",
    "# Ecuación\n",
    "\n",
    "def i_LM( k, j, Ms, P, Y):\n",
    "    i_LM = (-Ms/P)/j + k/j*Y\n",
    "    return i_LM\n",
    "\n",
    "i = i_LM( k, j, Ms, P, Y)"
   ]
  },
  {
   "cell_type": "code",
   "execution_count": 19,
   "id": "f05ac562",
   "metadata": {},
   "outputs": [],
   "source": [
    "#--------------------------------------------------\n",
    "    # NUEVA curva IS: \n",
    "    \n",
    "# Definir SOLO el parámetro cambiado\n",
    "t = 3\n",
    "\n",
    "# Generar la ecuación con el nuevo parámetro\n",
    "def r_IS(b, m, t, Co, Io, Go, Xo, h, Y):\n",
    "    r_IS = (Co + Io + Go + Xo - Y * (1-(b-m)*(1-t)))/h\n",
    "    return r_IS\n",
    "\n",
    "r_t = r_IS(b, m, t, Co, Io, Go, Xo, h, Y)"
   ]
  },
  {
   "cell_type": "code",
   "execution_count": 20,
   "id": "3b77d35b",
   "metadata": {},
   "outputs": [
    {
     "data": {
      "image/png": "[encoded data removed]",
      "text/plain": [
       "<Figure size 720x576 with 1 Axes>"
      ]
     },
     "metadata": {
      "needs_background": "light"
     },
     "output_type": "display_data"
    }
   ],
   "source": [
    "# Gráfico\n",
    "\n",
    "# Dimensiones del gráfico\n",
    "y_max = np.max(i)\n",
    "fig, ax = plt.subplots(figsize=(10, 8))\n",
    "\n",
    "# Curvas a graficar\n",
    "ax.plot(Y, r, label = \"IS_(G_0)\", color = \"C1\") #IS_orginal\n",
    "ax.plot(Y, r_t, label = \"IS_(G_1)\", color = \"C1\", linestyle = 'dashed') #IS_modificada\n",
    "\n",
    "ax.plot(Y, i, label=\"LM\", color = \"C0\")  #LM_original\n",
    "\n",
    "# Texto y figuras agregadas\n",
    "plt.axvline(x=48,  ymin= 0, ymax= 0.48, linestyle = \":\", color = \"grey\")\n",
    "plt.axhline(y=86, xmin= 0, xmax= 0.48, linestyle = \":\", color = \"grey\")\n",
    "\n",
    "plt.axvline(x=54,  ymin= 0, ymax= 0.54, linestyle = \":\", color = \"grey\")\n",
    "plt.axhline(y=98, xmin= 0, xmax= 0.54, linestyle = \":\", color = \"grey\")\n",
    "\n",
    "plt.text(43,70, '$E_1$', fontsize = 14, color = 'black')\n",
    "plt.text(52,103, '$E_0$', fontsize = 14, color = 'black')\n",
    "plt.text(-1,101, '$r_0$', fontsize = 12, color = 'black')\n",
    "plt.text(-1,79, '$r_1$', fontsize = 12, color = 'C1')\n",
    "plt.text(55,-10, '$Y_0$', fontsize = 12, color = 'black')\n",
    "plt.text(44,-10, '$Y_1$', fontsize = 12, color = 'C1')\n",
    "\n",
    "plt.text(69, 61, '←', fontsize=15, color='grey')\n",
    "plt.text(49, 15, '←', fontsize=15, color='grey')\n",
    "plt.text(10, 89, '↓', fontsize=15, color='grey')\n",
    "\n",
    "# Título, ejes y leyenda\n",
    "ax.set(title=\"Aumento en la Tasa Impositiva\", xlabel= r'Y', ylabel= r'r')\n",
    "ax.legend()\n",
    "\n",
    "plt.show()\n"
   ]
  },
  {
   "cell_type": "markdown",
   "id": "c2edf98d",
   "metadata": {},
   "source": [
    "### Parte 2: Puntos extra \n",
    "\n",
    "### 1. A partir del siguiente sistema de ecuaciones que representan el modelo IS-LM\n",
    "\n",
    "#### 1.1 Encuentre las ecuaciones de Ingreso $(Y^e)$ y tasa de interes $(r^e)$ de equilibrio (escriba paso a paso la derivacion de estas ecuaciones).\n",
    "\n",
    "- Curva IS:\n",
    "\n",
    "A partir de la nueva identidad Ingreso-Gasto: $ Y = C + I + G $\n",
    "\n",
    "$$ Y = C_0 + bY^d + I_0 - hr + G_0$$\n",
    "\n",
    "$$ Y = C_0 + I_0 + G_0 - hr + b(1-t)Y $$\n",
    "\n",
    "$$ hr = C_0 + I_0 + G_0 + b(1-t)Y - Y $$\n",
    "\n",
    "$$ hr = C_0 + I_0 + G_0 - Y(1- b(1-t)) $$\n",
    "\n",
    "La ecuación de la curva IS es:\n",
    "\n",
    "$$ r = \\frac{C_0 + I_0 + G_0}{h} - \\frac{1- b(1-t)}{h}Y $$\n",
    "\n",
    "$$ r = \\frac{B_0}{h} - \\frac{B_1}{h}Y $$\n",
    "\n",
    "Donde $B_0 = C_0 + I_0 + G_0 $ y $ B_1 = 1- b(1-t) $\n",
    "\n",
    "- Curva LM:\n",
    "\n",
    "$$ \\frac{M^s_0}{P_0} = kY - j(r + π^e) $$\n",
    "\n",
    "$$ j(r + π^e) = kY - \\frac{M^s_0}{P_0} $$\n",
    "\n",
    "$$ r + π^e = - \\frac{M^s_0}{jP_0} + \\frac{kY}{j} $$\n",
    "\n",
    "La ecuación de la curva LM es:\n",
    "\n",
    "$$ r = - \\frac{M^s_0}{jP_0} + \\frac{k}{j}Y - π^e $$\n",
    "\n",
    "- Equilibrio modelo IS-LM:\n",
    "\n",
    "Para hallar $Y^e$:\n",
    "\n",
    "$$ \\frac{B_0}{h} - \\frac{B_1}{h}Y = - \\frac{M^s_0}{jP_0} + \\frac{k}{j}Y - π^e $$\n",
    "\n",
    "$$ \\frac{B_0}{h} + \\frac{M^s_0}{jP_0} + π^e = \\frac{k}{j}Y + \\frac{B_1}{h}Y $$\n",
    "\n",
    "$$ Y(\\frac{k}{j} + \\frac{B_1}{h}) = \\frac{B_0}{h} + \\frac{M^s_0}{jP_0} + π^e $$\n",
    "\n",
    "$$ Y(\\frac{hk + jB_1}{jh}) = \\frac{B_0}{h} + \\frac{M^s_0}{jP_0} + π^e $$\n",
    "\n",
    "$$ Y^e = \\frac{jB_0}{kh + jB_1} + \\frac{M_0^s}{P_0} \\frac{h}{kh + jB_1} + \\frac{jh}{kh + jB_1} π^e $$\n",
    "\n",
    "Para hallar $r^e$:\n",
    "\n",
    "$$ r^e = - \\frac{Ms_o}{P_o} (\\frac{B_1}{kh + jB_1}) + \\frac{kB_o}{kh + jB_1} - \\frac{B_1}{kh + jB_1} π^e $$\n"
   ]
  },
  {
   "cell_type": "markdown",
   "id": "ce018ff3",
   "metadata": {},
   "source": [
    "#### 1.2 Grafique el equilibrio simultáneo en los mercados de bienes y de dinero."
   ]
  },
  {
   "cell_type": "code",
   "execution_count": 21,
   "id": "748a68c3",
   "metadata": {},
   "outputs": [],
   "source": [
    "#--------------------------------------------------\n",
    "    # Curva IS\n",
    "\n",
    "# Parámetros\n",
    "\n",
    "Y_size = 100 \n",
    "\n",
    "Co = 35\n",
    "Io = 40\n",
    "Go = 50\n",
    "h = 0.8\n",
    "b = 0.5\n",
    "t = 0.8\n",
    "\n",
    "Y = np.arange(Y_size)\n",
    "\n",
    "\n",
    "# Ecuación \n",
    "def r_IS_2(b, t, Co, Io, Go, h, Y):\n",
    "    r_IS_2 = (Co + Io + Go - Y * (1-b*(1-t)))/h\n",
    "    return r_IS_2\n",
    "\n",
    "r_2 = r_IS_2(b, t, Co, Io, Go, h, Y)\n",
    "\n",
    "\n",
    "#--------------------------------------------------\n",
    "    # Curva LM \n",
    "\n",
    "# Parámetros\n",
    "\n",
    "Y_size = 100\n",
    "\n",
    "k = 2\n",
    "j = 1                \n",
    "Ms = 200             \n",
    "P  = 20\n",
    "π = 4\n",
    "\n",
    "Y = np.arange(Y_size)\n",
    "\n",
    "# Ecuación\n",
    "\n",
    "def i_LM_2(k, j, Ms, P, Y, π):\n",
    "    i_LM_2 = (-Ms/P)/j + k/j*Y - π\n",
    "    return i_LM_2\n",
    "\n",
    "i_2 = i_LM_2( k, j, Ms, P, Y, π)\n"
   ]
  },
  {
   "cell_type": "code",
   "execution_count": 22,
   "id": "4ae4c1e3",
   "metadata": {},
   "outputs": [
    {
     "data": {
      "image/png": "[encoded data removed]",
      "text/plain": [
       "<Figure size 720x576 with 1 Axes>"
      ]
     },
     "metadata": {},
     "output_type": "display_data"
    }
   ],
   "source": [
    "# Gráfico del modelo IS-LM\n",
    "\n",
    "# Dimensiones del gráfico\n",
    "y_max = np.max(i)\n",
    "fig, ax = plt.subplots(figsize=(10, 8))\n",
    "\n",
    "# Curvas a graficar\n",
    "ax.plot(Y, r_2, label = \"IS\", color = \"C1\") #IS\n",
    "ax.plot(Y, i_2, label=\"LM\", color = \"C0\")  #LM\n",
    "\n",
    "# Eliminar las cantidades de los ejes\n",
    "ax.yaxis.set_major_locator(plt.NullLocator())   \n",
    "ax.xaxis.set_major_locator(plt.NullLocator())\n",
    "\n",
    "# Texto y figuras agregadas\n",
    "plt.axvline(x=55,  ymin= 0, ymax= 0.54, linestyle = \":\", color = \"black\")\n",
    "plt.axhline(y=94, xmin= 0, xmax= 0.55, linestyle = \":\", color = \"black\")\n",
    "plt.text(53,102, '$E_0$', fontsize = 14, color = 'black')\n",
    "plt.text(0,100, '$r_0$', fontsize = 12, color = 'black')\n",
    "plt.text(56,-15, '$Y_0$', fontsize = 12, color = 'black')\n",
    "\n",
    "# Título, ejes y leyenda\n",
    "ax.set(title=\"Equilibrio modelo IS-LM\", xlabel= r'Y', ylabel= r'r')\n",
    "ax.legend()\n",
    "\n",
    "plt.show()\n",
    "\n"
   ]
  },
  {
   "cell_type": "code",
   "execution_count": 23,
   "id": "3b8e7f28",
   "metadata": {},
   "outputs": [],
   "source": [
    "# nombrar variables como símbolos\n",
    "Co, Io, Go, h, r, b, t, beta_0, beta_1  = symbols('Co, Io, Go, h, r, b, t, beta_0, beta_1')\n",
    "\n",
    "# nombrar variables como símbolos\n",
    "k, j, Ms, P, Y, π = symbols('k j Ms P Y π')\n",
    "\n",
    "# Beta_0 y beta_1\n",
    "beta_0 = (Co + Io + Go)\n",
    "beta_1 = (1 - b*(1-t))\n",
    "\n",
    "# Producto de equilibrio y la tasa de interes de equilibrio en el modelo IS-LM\n",
    "r_eq = -(Ms/P)*(beta_1/(k*h+j*beta_1)) + ((k*beta_0)/k*h+j*beta_1) - ((beta_1*π)/k*h+j*beta_1)\n",
    "Y_eq = ((j*beta_0)/(k*h+j*beta_1)) + (Ms/P)*(h/(k*h+j*beta_1)) + (j*h*π/(k*h+j*beta_1))\n",
    "\n"
   ]
  },
  {
   "cell_type": "markdown",
   "id": "e88b0783",
   "metadata": {},
   "source": [
    "### 2. Estática comparativa:\n",
    "\n",
    "#### 2.1. Analice los efectos sobre las variables endógenas Y, r de una disminución de los Precios $(∆P_0 < 0)$. El análisis debe ser intuitivo, matemático y gráfico.\n",
    "\n",
    "- Matemática:"
   ]
  },
  {
   "cell_type": "code",
   "execution_count": 24,
   "id": "be029992",
   "metadata": {},
   "outputs": [],
   "source": [
    "# nombrar variables como símbolos\n",
    "Co, Io, Go, h, r, b, t, beta_0, beta_1  = symbols('Co, Io, Go, h, r, b, t, beta_0, beta_1')\n",
    "\n",
    "# nombrar variables como símbolos\n",
    "k, j, Ms, P, Y, π = symbols('k j Ms P Y π')\n",
    "\n",
    "# Beta_0 y beta_1\n",
    "beta_0 = (Co + Io + Go)\n",
    "beta_1 = (1 - b*(1-t))\n",
    "\n",
    "# Producto de equilibrio y la tasa de interes de equilibrio en el modelo IS-LM\n",
    "r_eq = -(Ms/P)*(beta_1/(k*h+j*beta_1)) + ((k*beta_0)/k*h+j*beta_1) - ((beta_1*π)/k*h+j*beta_1)\n",
    "Y_eq = ((j*beta_0)/(k*h+j*beta_1)) + (Ms/P)*(h/(k*h+j*beta_1)) + (j*h*π/(k*h+j*beta_1))\n"
   ]
  },
  {
   "cell_type": "code",
   "execution_count": 25,
   "id": "3917b56f",
   "metadata": {},
   "outputs": [
    {
     "name": "stdout",
     "output_type": "stream",
     "text": [
      "El Diferencial del Producto con respecto al diferencial del nivel de precios =  -Ms*h/(P**2*(h*k + j*(-b*(1 - t) + 1)))\n"
     ]
    }
   ],
   "source": [
    "df_Y_eq_P = diff(Y_eq, P)\n",
    "print(\"El Diferencial del Producto con respecto al diferencial del nivel de precios = \", df_Y_eq_P)\n"
   ]
  },
  {
   "cell_type": "markdown",
   "id": "4657a373",
   "metadata": {},
   "source": [
    "¿$∆Y$ sabiendo que $∆P < 0$?\n",
    "\n",
    "$$ \\frac{∆Y}{∆P} = (-) $$\n",
    "\n",
    "$$ \\frac{∆Y}{(-)} = (-) $$\n",
    "\n",
    "$$ ∆Y > 0 $$"
   ]
  },
  {
   "cell_type": "code",
   "execution_count": 26,
   "id": "a3ae3e34",
   "metadata": {},
   "outputs": [
    {
     "name": "stdout",
     "output_type": "stream",
     "text": [
      "El Diferencial de la tasa de interés con respecto al diferencial del nivel de precios =  Ms*(-b*(1 - t) + 1)/(P**2*(h*k + j*(-b*(1 - t) + 1)))\n"
     ]
    }
   ],
   "source": [
    "df_r_eq_P = diff(r_eq, P)\n",
    "print(\"El Diferencial de la tasa de interés con respecto al diferencial del nivel de precios = \", df_r_eq_P)\n"
   ]
  },
  {
   "cell_type": "markdown",
   "id": "c4f301de",
   "metadata": {},
   "source": [
    "¿$∆r$ sabiendo que $∆P < 0$?\n",
    "\n",
    "$$ \\frac{∆r}{∆P} = (+) $$\n",
    "\n",
    "$$ \\frac{∆r}{(-)} = (+) $$\n",
    "\n",
    "$$ ∆r < 0 $$\n",
    "\n",
    "- Intuición:\n",
    "\n",
    "$$ P↓ → M^s↑ → M^s > M^d → r↓ $$\n",
    "\n",
    "$$ r↓ → I↑ → DA↑ → DA > Y → Y↑ $$"
   ]
  },
  {
   "cell_type": "code",
   "execution_count": 27,
   "id": "bcb9a1c9",
   "metadata": {},
   "outputs": [],
   "source": [
    "#--------------------------------------------------\n",
    "    # Curva IS\n",
    "\n",
    "# Parámetros\n",
    "\n",
    "Y_size = 100 \n",
    "\n",
    "Co = 35\n",
    "Io = 40\n",
    "Go = 50\n",
    "h = 0.8\n",
    "b = 0.5\n",
    "t = 0.8\n",
    "\n",
    "Y = np.arange(Y_size)\n",
    "\n",
    "\n",
    "# Ecuación \n",
    "def r_IS_2(b, t, Co, Io, Go, h, Y):\n",
    "    r_IS_2 = (Co + Io + Go - Y * (1-b*(1-t)))/h\n",
    "    return r_IS_2\n",
    "\n",
    "r_2 = r_IS_2(b, t, Co, Io, Go, h, Y)\n",
    "\n",
    "\n",
    "#--------------------------------------------------\n",
    "    # Curva LM \n",
    "\n",
    "# Parámetros\n",
    "\n",
    "Y_size = 100\n",
    "\n",
    "k = 2\n",
    "j = 1                \n",
    "Ms = 200             \n",
    "P  = 20\n",
    "π = 4\n",
    "\n",
    "Y = np.arange(Y_size)\n",
    "\n",
    "# Ecuación\n",
    "\n",
    "def i_LM_2(k, j, Ms, P, Y, π):\n",
    "    i_LM_2 = (-Ms/P)/j + k/j*Y - π\n",
    "    return i_LM_2\n",
    "\n",
    "i_2 = i_LM_2( k, j, Ms, P, Y, π)\n",
    "\n",
    "\n",
    "#--------------------------------------------------\n",
    "    # Nueva curva LM \n",
    "    \n",
    "P = 5\n",
    "\n",
    "# Ecuación\n",
    "\n",
    "def i_LM_2(k, j, Ms, P, Y, π):\n",
    "    i_LM_2 = (-Ms/P)/j + k/j*Y - π\n",
    "    return i_LM_2\n",
    "\n",
    "i_2_P = i_LM_2( k, j, Ms, P, Y, π)\n"
   ]
  },
  {
   "cell_type": "code",
   "execution_count": 28,
   "id": "6f86ef09",
   "metadata": {},
   "outputs": [
    {
     "data": {
      "image/png": "[encoded data removed]",
      "text/plain": [
       "<Figure size 720x576 with 1 Axes>"
      ]
     },
     "metadata": {},
     "output_type": "display_data"
    }
   ],
   "source": [
    "# Gráfico del modelo IS-LM\n",
    "\n",
    "# Dimensiones del gráfico\n",
    "y_max = np.max(i)\n",
    "fig, ax = plt.subplots(figsize=(10, 8))\n",
    "\n",
    "# Curvas a graficar\n",
    "ax.plot(Y, r_2, label = \"IS\", color = \"C1\") #IS\n",
    "ax.plot(Y, i_2, label=\"LM\", color = \"C0\")  #LM\n",
    "ax.plot(Y, i_2_P, label=\"LM\", color = \"C0\", linestyle ='dashed')  #LM\n",
    "\n",
    "# Eliminar las cantidades de los ejes\n",
    "ax.yaxis.set_major_locator(plt.NullLocator())   \n",
    "ax.xaxis.set_major_locator(plt.NullLocator())\n",
    "\n",
    "# Texto y figuras agregadas\n",
    "plt.axvline(x=55,  ymin= 0, ymax= 0.6, linestyle = \":\", color = \"black\")\n",
    "plt.axhline(y=94, xmin= 0, xmax= 0.55, linestyle = \":\", color = \"black\")\n",
    "plt.text(53,102, '$E_0$', fontsize = 14, color = 'black')\n",
    "plt.text(0,100, '$r_0$', fontsize = 12, color = 'black')\n",
    "plt.text(56,-45, '$Y_0$', fontsize = 12, color = 'black')\n",
    "\n",
    "plt.axvline(x=64.5,  ymin= 0, ymax= 0.56, linestyle = \":\", color = \"black\")\n",
    "plt.axhline(y=85, xmin= 0, xmax= 0.64, linestyle = \":\", color = \"black\")\n",
    "plt.text(62,90, '$E_1$', fontsize = 14, color = 'C0')\n",
    "plt.text(0,75, '$r_1$', fontsize = 12, color = 'C0')\n",
    "plt.text(66,-45, '$Y_1$', fontsize = 12, color = 'C0')\n",
    "\n",
    "# Título, ejes y leyenda\n",
    "ax.set(title=\"Disminución del Precio\", xlabel= r'Y', ylabel= r'r')\n",
    "ax.legend()\n",
    "\n",
    "plt.show()\n"
   ]
  },
  {
   "cell_type": "markdown",
   "id": "696af4ee",
   "metadata": {},
   "source": [
    "#### 2.2 Analice los efectos sobre las variables endógenas Y, r de una disminución de la inflación esperada $(∆π < 0)$. El análisis debe ser intuitivo, matemático y gráfico.\n",
    "\n",
    "- Matemática:"
   ]
  },
  {
   "cell_type": "code",
   "execution_count": 29,
   "id": "5bd00a35",
   "metadata": {},
   "outputs": [],
   "source": [
    "# nombrar variables como símbolos\n",
    "Co, Io, Go, h, r, b, t, beta_0, beta_1  = symbols('Co, Io, Go, h, r, b, t, beta_0, beta_1')\n",
    "\n",
    "# nombrar variables como símbolos\n",
    "k, j, Ms, P, Y, π = symbols('k j Ms P Y π')\n",
    "\n",
    "# Beta_0 y beta_1\n",
    "beta_0 = (Co + Io + Go)\n",
    "beta_1 = (1 - b*(1-t))\n",
    "\n",
    "# Producto de equilibrio y la tasa de interes de equilibrio en el modelo IS-LM\n",
    "r_eq = -(Ms/P)*(beta_1/(k*h+j*beta_1)) + ((k*beta_0)/k*h+j*beta_1) - ((beta_1*π)/k*h+j*beta_1)\n",
    "Y_eq = ((j*beta_0)/(k*h+j*beta_1)) + (Ms/P)*(h/(k*h+j*beta_1)) + (j*h*π/(k*h+j*beta_1))\n",
    "\n"
   ]
  },
  {
   "cell_type": "code",
   "execution_count": 30,
   "id": "daf643a8",
   "metadata": {},
   "outputs": [
    {
     "name": "stdout",
     "output_type": "stream",
     "text": [
      "El Diferencial del Producto con respecto al diferencial del nivel de inflación =  h*j/(h*k + j*(-b*(1 - t) + 1))\n"
     ]
    }
   ],
   "source": [
    "df_Y_eq_π = diff(Y_eq, π)\n",
    "print(\"El Diferencial del Producto con respecto al diferencial del nivel de inflación = \", df_Y_eq_π)\n",
    "\n"
   ]
  },
  {
   "cell_type": "markdown",
   "id": "0ac45fd3",
   "metadata": {},
   "source": [
    "¿$∆Y$ sabiendo que $∆π < 0$?\n",
    "\n",
    "$$ \\frac{∆Y}{∆π} = (+) $$\n",
    "\n",
    "$$ \\frac{∆Y}{(-)} = (+) $$\n",
    "\n",
    "$$ ∆Y < 0 $$"
   ]
  },
  {
   "cell_type": "code",
   "execution_count": 31,
   "id": "6a4c7d2b",
   "metadata": {},
   "outputs": [
    {
     "name": "stdout",
     "output_type": "stream",
     "text": [
      "El Diferencial de la tasa de interés con respecto al diferencial del nivel de inflación =  -h*(-b*(1 - t) + 1)/k\n"
     ]
    }
   ],
   "source": [
    "df_r_eq_π = diff(r_eq, π)\n",
    "print(\"El Diferencial de la tasa de interés con respecto al diferencial del nivel de inflación = \", df_r_eq_π)\n",
    "\n"
   ]
  },
  {
   "cell_type": "markdown",
   "id": "38bc9d34",
   "metadata": {},
   "source": [
    "¿$∆r$ sabiendo que $∆π < 0$?\n",
    "\n",
    "$$ \\frac{∆r}{∆π} = (-) $$\n",
    "\n",
    "$$ \\frac{∆r}{(-)} = (-) $$\n",
    "\n",
    "$$ ∆r > 0 $$\n",
    "\n",
    "- Intuición:\n",
    "\n",
    "$$ π↓ → r↑ $$\n",
    "\n",
    "$$ r↑ → I↓ → DA↓ → DA < Y → Y↓ $$"
   ]
  },
  {
   "cell_type": "code",
   "execution_count": 32,
   "id": "155eb13c",
   "metadata": {},
   "outputs": [],
   "source": [
    "#--------------------------------------------------\n",
    "    # Curva IS\n",
    "\n",
    "# Parámetros\n",
    "\n",
    "Y_size = 100 \n",
    "\n",
    "Co = 35\n",
    "Io = 40\n",
    "Go = 50\n",
    "h = 0.8\n",
    "b = 0.5\n",
    "t = 0.8\n",
    "\n",
    "Y = np.arange(Y_size)\n",
    "\n",
    "\n",
    "# Ecuación \n",
    "def r_IS_2(b, t, Co, Io, Go, h, Y):\n",
    "    r_IS_2 = (Co + Io + Go - Y * (1-b*(1-t)))/h\n",
    "    return r_IS_2\n",
    "\n",
    "r_2 = r_IS_2(b, t, Co, Io, Go, h, Y)\n",
    "\n",
    "\n",
    "#--------------------------------------------------\n",
    "    # Curva LM \n",
    "\n",
    "# Parámetros\n",
    "\n",
    "Y_size = 100\n",
    "\n",
    "k = 2\n",
    "j = 1                \n",
    "Ms = 200             \n",
    "P  = 20\n",
    "π = 20\n",
    "\n",
    "Y = np.arange(Y_size)\n",
    "\n",
    "# Ecuación\n",
    "\n",
    "def i_LM_2(k, j, Ms, P, Y, π):\n",
    "    i_LM_2 = (-Ms/P)/j + k/j*Y - π\n",
    "    return i_LM_2\n",
    "\n",
    "i_2 = i_LM_2( k, j, Ms, P, Y, π)\n",
    "\n",
    "\n",
    "#--------------------------------------------------\n",
    "    # Nueva curva LM \n",
    "    \n",
    "π = 2\n",
    "\n",
    "# Ecuación\n",
    "\n",
    "def i_LM_2(k, j, Ms, P, Y, π):\n",
    "    i_LM_2 = (-Ms/P)/j + k/j*Y - π\n",
    "    return i_LM_2\n",
    "\n",
    "i_2_π = i_LM_2( k, j, Ms, P, Y, π)\n"
   ]
  },
  {
   "cell_type": "code",
   "execution_count": 33,
   "id": "dff3c6d7",
   "metadata": {},
   "outputs": [
    {
     "data": {
      "image/png": "[encoded data removed]",
      "text/plain": [
       "<Figure size 720x576 with 1 Axes>"
      ]
     },
     "metadata": {},
     "output_type": "display_data"
    }
   ],
   "source": [
    "# Gráfico del modelo IS-LM\n",
    "\n",
    "# Dimensiones del gráfico\n",
    "y_max = np.max(i)\n",
    "fig, ax = plt.subplots(figsize=(10, 8))\n",
    "\n",
    "# Curvas a graficar\n",
    "ax.plot(Y, r_2, label = \"IS\", color = \"C1\") #IS\n",
    "ax.plot(Y, i_2, label=\"LM\", color = \"C0\")  #LM\n",
    "ax.plot(Y, i_2_π, label=\"LM\", color = \"C0\", linestyle ='dashed')  #LM\n",
    "\n",
    "# Eliminar las cantidades de los ejes\n",
    "ax.yaxis.set_major_locator(plt.NullLocator())   \n",
    "ax.xaxis.set_major_locator(plt.NullLocator())\n",
    "\n",
    "# Texto y figuras agregadas\n",
    "plt.axvline(x=54,  ymin= 0, ymax= 0.57, linestyle = \":\", color = \"black\")\n",
    "plt.axhline(y=95, xmin= 0, xmax= 0.54, linestyle = \":\", color = \"black\")\n",
    "plt.text(52,103, '$E_1$', fontsize = 14, color = 'C0')\n",
    "plt.text(0,100, '$r_1$', fontsize = 12, color = 'C0')\n",
    "plt.text(50,-35, '$Y_1$', fontsize = 12, color = 'C0')\n",
    "\n",
    "plt.axvline(x=60,  ymin= 0, ymax= 0.55, linestyle = \":\", color = \"black\")\n",
    "plt.axhline(y=89, xmin= 0, xmax= 0.6, linestyle = \":\", color = \"black\")\n",
    "plt.text(58,95, '$E_0$', fontsize = 14, color = 'black')\n",
    "plt.text(0,80, '$r_0$', fontsize = 12, color = 'black')\n",
    "plt.text(56,-35, '$Y_0$', fontsize = 12, color = 'black')\n",
    "\n",
    "# Título, ejes y leyenda\n",
    "ax.set(title=\"Disminución de la inflación esperada\", xlabel= r'Y', ylabel= r'r')\n",
    "ax.legend()\n",
    "\n",
    "plt.show()"
   ]
  }
 ],
 "metadata": {
  "kernelspec": {
   "display_name": "Python 3 (ipykernel)",
   "language": "python",
   "name": "python3"
  },
  "language_info": {
   "codemirror_mode": {
    "name": "ipython",
    "version": 3
   },
   "file_extension": ".py",
   "mimetype": "text/x-python",
   "name": "python",
   "nbconvert_exporter": "python",
   "pygments_lexer": "ipython3",
   "version": "3.9.12"
  }
 },
 "nbformat": 4,
 "nbformat_minor": 5
}
