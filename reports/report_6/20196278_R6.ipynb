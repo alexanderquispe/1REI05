{
 "cells": [
  {
   "cell_type": "markdown",
   "id": "8858c339",
   "metadata": {},
   "source": [
    "$$REPORT_Nº6:$$\n",
    "\n",
    "$$Name: Santiago Alberto Vera Quispe $$\n",
    "\n",
    "$$Code: 20196278$$\n"
   ]
  },
  {
   "cell_type": "markdown",
   "id": "e4771f04",
   "metadata": {},
   "source": [
    "Texto:\n",
    "\n",
    "El autor presenta la pregunta de investigación, en primer lugar, ante la literatura concerniente a la inconsistencia de postulación de los estudiantes a Universidades de elite en relación a sus ingresos bajos. En su revisión de autores previos que trabajaron el tema, el autor concluye que la incertidumbre, la pérdida y el sesgo actual en los estudiantes afectan a los resultados de inscripción. Su explicación de la realidad es que, en general, según los autores que han trabajado esta problemática antes, los estudiantes, en igualdad de condiciones de capacidades, del primer cuartil de “low income”, en relación al cuarto cuartil de los “high income”, no solo aplican en menor cuantía, sino que terminan en menor cuantía la carrera que los de altos ingresos. No obstante, en su revisión también menciona que la falta de información no es la única variable que causa este fenómeno en los estadiante, sino que el costo evaluado en “short term”, que tna lejano queda a universidad, aversión a la pérdida o deuda, e incluso la identidad de un grupo. Como bien resumen: “when there are too many factors people tend to resort to mental shortcuts to simplify the decision”.\n",
    "\n",
    "Así, el gran aporte de este texto es precisamente evaluar una de estas variables, controlarla y ver su influencia en la toma de decisión.  La variable evaluada será la de la intervención en la medida en que se establece un parámetro o método de randomización para realizar un experimento controlado en la zona de Detroit  en 262 colegios con la variable controlada tratada y 267 de control normal. A todos los participante se les evaluado en su rendimiento académico igual y su nivel económico diferenciado. El tratamiento de los estudiantes de bajos recursos, o low incomes, reciben un personally- addressed packets con especificaciones del apoyo económico que la Universidad de Michigan está ofreciendo que los potenciales aplicantes pueden recibir. El mensaje es personalizado colorido y claro sobre el pago total, y, adicionalmente, reducen el desinterés de inscripción producido por el trámite, o fill out the forms, que los estudiantes también enfrentan en el proceso.  Así vemos que la variable información la presenta correctamente controlada.\n",
    "\n",
    "El artículo continúa en su extensión de comprender esta variable controlada en el experimento en relación a tres formas de influencias: en la aplicación a la universidad, en la admisión a la universidad y en la inscripción.  Así en sus conclusiones porcentuales, este experimento revela que en la forma de aplicación, los estudiantes tratados con la información específica tienden a un 42 puntos porcentuales más de los que no fueron tratados a aplicar a la universidad. Así mismo, sucede con la admisión de los tratados y los de inscritos.  Igualmente, el estudio comenta que las variables del género, raza, “academic achievement”, y desventajas económicas son tratadas paralelamente, pero no las cuentan en este experimento. No obstante, el estudio si logra evaluar las variables que pueden intervenir como lo es la región y urbanización: “southeast, west central Upper Peninsula, suburb, city and town or rural”. Esta variable de aislamiento del estudiante al aplicar a la universidad de Michigan también es concordante con la información antes concluida y reconocen que este aislamiento también afecta a la decisión de los estudiantes negativamente. \n",
    "\n",
    "El artículo comenta, posteriormente, que los mecanismos de situación económica, cuya base está en el almuerzo de la cafetería; los mecanismo de calificación, en las que todos tienen el mismo proceso de evaluación; y mecanismo de características de los estudiantes como la raza o grupo etnico, comprueban que, si bien hay algunas concordancias, no son significativos al analizar la variable de “información” que se usó en el experimento. Este pequeño análisis colabora con eliminar patrones de este mecanismo que podrían afectar al experimento, ya que en cada uno de estos mecanismos se comprueba su relación con la variable en estudio. Así, decimos que la intervención de la información tratada tiene una relación causal con la decisión del estudiante al aplicar a la universidad.\n",
    "\n",
    "Finalmente, uno de los más grandes aportes a la investigación sobre el tema es dejar a discusión a a la intervención de nuevos análisis que se enfoque en evaluar, ya no la relación entre la información intervenida y la decisión de los estudiantes, sino de qué manera esta información intervenida, posteriormente, a estudiantes de otras Universidades de élite. En los grupos control, si bien hubo casos extraños de no ingreso a ninguna universidad, no se encontró divergencias en relación a si existía conexión entre las variables: así no existiría una influencia positiva o negativa. Adicional a esta nueva pregunta de investigación, el texto propone otra: si existe relación entre la información tratada y el abandono de la carrera. Su respuesta tentativa es que existen ciertos puntos porcentuales que indicarían que el incentivo de la información tratado si colabora con continuar la carrera, pero por la falta de información al respecto sólo podrían hablar de los primeros años de estudio. Así mismo, indican que  preguntarse por si esta información tratada desanimaron a otros estudiantes, lo que se concluye en que no, ya que no existe una base teórica directa entre amables variables: “the sign of any spillover effect is theoretically ambiguous”.   \n"
   ]
  },
  {
   "cell_type": "code",
   "execution_count": null,
   "id": "7d573c64",
   "metadata": {},
   "outputs": [],
   "source": []
  }
 ],
 "metadata": {
  "kernelspec": {
   "display_name": "Python 3 (ipykernel)",
   "language": "python",
   "name": "python3"
  },
  "language_info": {
   "codemirror_mode": {
    "name": "ipython",
    "version": 3
   },
   "file_extension": ".py",
   "mimetype": "text/x-python",
   "name": "python",
   "nbconvert_exporter": "python",
   "pygments_lexer": "ipython3",
   "version": "3.9.12"
  }
 },
 "nbformat": 4,
 "nbformat_minor": 5
}
