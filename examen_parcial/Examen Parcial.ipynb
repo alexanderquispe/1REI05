{
 "cells": [
  {
   "cell_type": "markdown",
   "id": "7bd1e1db",
   "metadata": {},
   "source": [
    "# $$Aisha Martínez - Examen Parcial$$\n",
    "## $$202018554$$"
   ]
  },
  {
   "cell_type": "markdown",
   "id": "f31f8bcd",
   "metadata": {},
   "source": [
    "### Parte Teoría"
   ]
  },
  {
   "cell_type": "markdown",
   "id": "d321325a",
   "metadata": {},
   "source": [
    "#### 1. Defina el Multiplicador Keynesiano y dé un ejemplo de cómo influye este en el modelo Ingreso-Gasto Keynesiano.\n"
   ]
  },
  {
   "cell_type": "markdown",
   "id": "e5be94e3",
   "metadata": {},
   "source": [
    "El multiplicador Keynesiano se define en el texto “Apuntes de macroeconomía intermedia” de Félix Jiménez como el “cambio en la magnitud de cualquiera de los componentes autónomos de la demanda agregada (que conforman el intercepto)”. Asimismo, el autor también menciona que el producto de este es generar “un proceso multiplicador del ingreso hasta converger al nuevo ingreso y producto de equilibrio”, de esta forma “el aumento multiplicado del ingreso es resultado de los efectos directos e indirectos ocasionados por el aumento de cualquiera de los componentes autónomos de la demanda agregada”. Esto puede afectar en el modelo Ingreso-Gasto Keynesiano debido a que se comprende que el precio es fijo y el producto varía de acuerdo a los cambios en la demanda al ser dependiente de estos; por lo tanto, por ejemplo (ejemplo brindado en la misma bibliografía anteriormente citada), si un gobierno incrementa su gasto e impuesto en una misma magnitud para mantener el presupuesto equilibrado, el ingreso aumentará en la misma magnitud que el incremento del gasto (Jiménez 2020: 65)."
   ]
  },
  {
   "cell_type": "markdown",
   "id": "763478ea",
   "metadata": {},
   "source": [
    "#### 2. Grafique y explique cúando sucede un exceso y déficit de demanda en el modelo Ingreso-Gasto. Señale las áreas donde ocurre cada caso. Explique cómo se converge al equilibrio a partir de estos dos escenarios.\n"
   ]
  },
  {
   "cell_type": "code",
   "execution_count": 3,
   "id": "d7699701",
   "metadata": {},
   "outputs": [],
   "source": [
    "import matplotlib.pyplot as plt\n",
    "import numpy as np\n",
    "import sympy as sy"
   ]
  },
  {
   "cell_type": "code",
   "execution_count": 4,
   "id": "affa09da",
   "metadata": {},
   "outputs": [],
   "source": [
    "Y_size = 100\n",
    "\n",
    "C0 = 20   \n",
    "I0 = 10  \n",
    "G0 = 40   \n",
    "X0 = 2   \n",
    "b = 0.4 \n",
    "m = 0.2   \n",
    "t = 0.4   \n",
    "h = 1     \n",
    "r = 0.6  \n",
    "\n",
    "\n",
    "α_0 = C0 + I0 + G0 + X0 - (h*r)\n",
    "α_1 = (b-m)*(1-t)\n",
    "\n",
    "Y = np.arange(Y_size)"
   ]
  },
  {
   "cell_type": "code",
   "execution_count": 5,
   "id": "79781b03",
   "metadata": {},
   "outputs": [],
   "source": [
    "def DA(α_0, α_1, Y):\n",
    "    DA = α_0 + (α_1*Y)\n",
    "    return DA\n",
    "\n",
    "DA = DA(α_0, α_1, Y)\n",
    "\n",
    "Y_size = 100\n",
    "\n",
    "a = 1    \n",
    "\n",
    "Y = np.arange(Y_size)\n",
    "\n",
    "def Y_45(a, Y):\n",
    "    Y_45 = a*Y\n",
    "    return Y_45\n",
    "\n",
    "Y_45 = Y_45(a, Y)"
   ]
  },
  {
   "cell_type": "code",
   "execution_count": 7,
   "id": "11fc1ab8",
   "metadata": {
    "scrolled": false
   },
   "outputs": [
    {
     "data": {
      "image/png": "[encoded data removed]",
      "text/plain": [
       "<Figure size 720x576 with 1 Axes>"
      ]
     },
     "metadata": {
      "needs_background": "light"
     },
     "output_type": "display_data"
    }
   ],
   "source": [
    "y_max = np.max(DA)\n",
    "\n",
    "fig, ax = plt.subplots(figsize=(10, 8))\n",
    "ax.set(title=\"MODELO INGRESO-GASTO\", xlabel= 'Y', ylabel= 'DA')\n",
    "ax.plot(Y, DA, label = \"$DA = α_0 + (α_1*Y)$\", color = \"PINK\", lw = 2) \n",
    "ax.plot(Y, Y_45, label = \"Y_45°\", color = \"RED\") \n",
    "\n",
    "plt.axvline(x=81.2,  ymin= 0, ymax= 0.80, linestyle = \":\", color = \"magenta\")\n",
    "plt.axhline(y=81.2, xmin= 0, xmax= 0.80, linestyle = \":\", color = \"magenta\")\n",
    "plt.plot(81.2, 81.2, marker=\"o\", color=\"purple\", label = \"Eo\")\n",
    "plt.plot(70.2, 80.2, marker=\"o\", color=\"purple\", label = \"L\")\n",
    "plt.plot(94, 81.8, marker=\"o\", color=\"purple\", label = \"H\")\n",
    "\n",
    "plt.text(80, -15, '$Y^e$', fontsize = 16, color = 'purple')\n",
    "plt.text(-15, 80, '$DA^e$', fontsize = 16, color = 'purple')\n",
    "plt.text(79, 83, 'Eo', fontsize = 14, color = 'purple')\n",
    "plt.text(70, 85, 'L', fontsize = 14, color = 'purple')\n",
    "plt.text(94, 84, 'H', fontsize = 14, color = 'purple')\n",
    "\n",
    "ax.legend()\n",
    "plt.show()"
   ]
  },
  {
   "cell_type": "markdown",
   "id": "057a6c7a",
   "metadata": {},
   "source": [
    "El punto E0 representa el equilibrio del modelo de Ingreso-Gasto, pues se cumple la condición de equilibrio Y = DA. En el caso de que se dé un exceso de demanda, la consecuencia será que las empresas deberán incrementar el nivel de producción al mismo nivel en el que aumentó la demanda para llegar al punto E0 de equilibrio. En caso contrario, si se da un déficit de la demanda, se actuará de manera contraria, es decir, se buscará igualmente llegar al punto E0 de equilibrio, pero esta vez mediante la reducción de su nivel de producción."
   ]
  },
  {
   "cell_type": "markdown",
   "id": "aeafba19",
   "metadata": {},
   "source": [
    "#### 3. ¿Cuáles son las herramientas de política fiscal y política monetaria? Dea un ejemplo para cada una de ellas dentro del contexto peruano. Coloque su fuente en caso sea necesario. (Solo necesita 1 para pol. Fiscal y 1 para Monetaria).\n"
   ]
  },
  {
   "cell_type": "markdown",
   "id": "14a34a02",
   "metadata": {},
   "source": [
    "Según el portal del ministerio de economía y finanzas, las herramientas de la política fiscal son “la administración y aplicación de instrumentos discreciones para modificar los parámetros de los ingresos, gastos y financiamiento del sector público”. Por otra parte, las herramientas utilizadas por la política monetaria son “utilizar la cantidad de dinero como variable de control para asegurar y mantener la estabilidad económica” y esto se logra mediante el uso de “mecanismos como la variación del tipo de interés y participación en el mercado del dinero”."
   ]
  },
  {
   "cell_type": "markdown",
   "id": "5c540048",
   "metadata": {},
   "source": [
    "#### 4. Explique qué funciones del dinero respaldan el éxito de de Yape y Plin(Aplicativos moviles para intercambio de dinero).\n"
   ]
  },
  {
   "cell_type": "markdown",
   "id": "c6b120ce",
   "metadata": {},
   "source": [
    "Como se menciona en el capítulo 6 de “Elementos de teoría y política macroeconómica para una economía abierta”, ‘Dinero y equilibrio en el mercado de dinero’, de Félix Jiménez, existen cuatro principales funciones en la economía. En primer lugar, nos presenta la unidad de cuenta y patrón de precios. En esta se comprende que “el dinero como unidad de cuenta disminuye los costos de transacción, pues reduce el número de precios existentes en la economía y facilita la realización de las transacciones”. Como se puede observar, tanto Yape como Plin han podido cumplir precisamente con esta primera función de la economía debido a su papel principal de aplicativo para el intercambio de dinero mediante transacciones. En segundo lugar, el autor nos presenta la segunda función del dinero: el dinero como medio de intercambio. En esta función se nos presenta que el uso de este como medio de cambio “promueve la eficiencia económica” debido a que eliminar muchos de los costos involucrados en el intercambio de bienes y servicios. En este caso, Yape y Plin nos permite que los costos de transacción no sean tan altos debido a la economía monetaria en la que coexisten. Por otro lado, se incluye “Medio de pago” como otra función del dinero. En esta, el autor nos comenta que se cumple esta función cuando “el dinero entra al circuito del crédito y sirve para liquidar o cancelar deudas”. Por último, se entiende que en Yape y Plin se logra la función del depósito o reserva del valor. Esto se debe a que estas aplicaciones sirven para guardar “poder adquisitivo o capacidad de compra a lo largo del tiempo”. Por las funciones anteriormente presentadas, se puede afirmar que Yape y Plin han tenido éxito en sus aplicaciones debido al cumplimiento de este proceso que le permite tener una mayor liquidez y funcionar como medios de transacciones."
   ]
  },
  {
   "cell_type": "markdown",
   "id": "9429f6e1",
   "metadata": {},
   "source": [
    "#### 5. Cuáles son las conclusiones principales del paper de Dancurt \"Inflation Targeting in Peru: The Reasons for the Success\"\n"
   ]
  },
  {
   "cell_type": "markdown",
   "id": "0e3c3189",
   "metadata": {},
   "source": [
    "Se puede observar que en el texto de Dancourt, “Inflation targetin in Peru: the reasons for the success”, se presentan sus principales 3 conclusiones. En primer lugar, se habla acerca del buen papel ejercido por parte del Banco Central de Reserva del Perú durante los años del 2002 al 2013. Esto se debe a las correctas políticas monetarias implementadas, como por ejemplo mantener la inflación en un mismo rango usualmente bajo y un crecimiento del PBI, esto con el objetivo de obtener un mejor desempeño macroeconómico. Por otra parte, nos comenta acerca del canal de crédito y de tipo de cambio; primero, con el ajuste de la tasa de interés en la banca comercial privada y el desarrollo de bonos públicos se logró una expansión del crédito; segundo, se redujo el crédito en divisas y se aumentó este en la moneda nacional debido al impacto generado por la crisis financiera dada durante los años 2008-2009. Por último, Dancourt sintetiza finalmente que para haber logrado mantener la estabilidad en el tipo de cambio se tuvo que acumular reservas de capital extranjero."
   ]
  }
 ],
 "metadata": {
  "kernelspec": {
   "display_name": "Python 3 (ipykernel)",
   "language": "python",
   "name": "python3"
  },
  "language_info": {
   "codemirror_mode": {
    "name": "ipython",
    "version": 3
   },
   "file_extension": ".py",
   "mimetype": "text/x-python",
   "name": "python",
   "nbconvert_exporter": "python",
   "pygments_lexer": "ipython3",
   "version": "3.9.12"
  }
 },
 "nbformat": 4,
 "nbformat_minor": 5
}
