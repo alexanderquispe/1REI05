{
 "cells": [
  {
   "cell_type": "markdown",
   "id": "982775b0",
   "metadata": {},
   "source": [
    "# REPORTE 9"
   ]
  },
  {
   "cell_type": "markdown",
   "id": "6df7e3c6",
   "metadata": {},
   "source": [
    "- Julia Millen Massa Coronel 20196415"
   ]
  },
  {
   "cell_type": "markdown",
   "id": "a3821e44",
   "metadata": {},
   "source": [
    "El paper mediante estimaciones cuasi experimentales busca identificar el impacto causal de las redes sociales en la salud mental utilizando un experimento natural único: la introducción escalonada de Facebook en las universidades estadounidenses.\n",
    "\n",
    "Entre las fortalezas que encuentro en el artículo son las comparaciones y extrapolaciones con sus resultados a otras situaciones de la realidad; por ejemplo, se menciona que el impacto de la introducción de Facebook a cualquier universidad tuvo como resultado en la salud mental el mismo efecto de la perdida de empleo en 22%. Sumado a eso, vemos que no sesga la investigación al solo analizar a los estudiantes que se unieron a Facebook, sino que también analiza a los estudiantes que no se unieron a la plataforma y a sus compañeros que sí lo hicieron. Eso ayuda a ver el contraste en los resultados de manera mucho más clara. Finalmete, vemos como casi en la mitad del paper se plantea que quizas los resultados podrían verse afectados si es que los colegios que pertenecen a diferentes grupos de expansión de Facebook estuvieran en diferentes tendencias de salud mental; no obstante, el autor se encarga de desagregar la información y plantear una solución a este problema. \n",
    "\n",
    "Las contribuciones de este artículo pueden ser las siguientes: trabajo proporciona estimaciones cuasi experimentales de las redes sociales en la salud mental aprovechando un experimento natural único: la introducción escalonada de Face-book en las universidades de Estados Unidos a mediados de la década de 2000. Además, se presentan una serie de pruebas adicionales que sugieren que los resultados son coherentes con que Facebook aumenta la capacidad de los estudiantes para realizar comparaciones sociales desfavorables. Sumado a eso entre los resultados se encuentra que las condiciones que parecen más afectadas son la depresión y los trastornos relacionados con la ansiedad, mientras que las estimaciones puntuales sobre la anorexia y la bulimia son cercanas a cero y que se encontraron pruebas sugestivas de que la introducción de Facebook en la universidad podría haber aumentado el grado de aceptación de la depresión por parte de los estudiantes. Finalmente, los resultados arrojaron que la implantación de Facebook en una universidad aumentó los síntomas de mala salud mental, especialmente la depresión. También descubrimos que, entre los estudiantes que se preveía que eran más propensos a padecer enfermedades mentales, la introducción de Facebook provocó un mayor uso de los servicios de salud mental. Por último, observamos que, tras la introducción de Facebook, los estudiantes eran más propensos a decir que experimentaban un deterioro del rendimiento académico como consecuencia de una mala salud mental. Todo esto se debe, de acuerdo a los resultados, a que Facebook tiende a fomentar las comparaciones sociales desfavorables. \n",
    "\n",
    "Para avanzar en la pregunta, la investigaciones futuras deberían comprobar si los medios sociales tienen un efecto similar en la salud mental de otros grupos demográficos, no solo de universitarios. Estodebido a que se sabe que la universidad tiende a generar muchos de los transtornos mentales mencionados lineas arriba sin \"ayuda de Facebook\". \n",
    "\n"
   ]
  },
  {
   "cell_type": "code",
   "execution_count": null,
   "id": "d6b8ef30",
   "metadata": {},
   "outputs": [],
   "source": []
  }
 ],
 "metadata": {
  "kernelspec": {
   "display_name": "Python 3 (ipykernel)",
   "language": "python",
   "name": "python3"
  },
  "language_info": {
   "codemirror_mode": {
    "name": "ipython",
    "version": 3
   },
   "file_extension": ".py",
   "mimetype": "text/x-python",
   "name": "python",
   "nbconvert_exporter": "python",
   "pygments_lexer": "ipython3",
   "version": "3.9.12"
  }
 },
 "nbformat": 4,
 "nbformat_minor": 5
}
