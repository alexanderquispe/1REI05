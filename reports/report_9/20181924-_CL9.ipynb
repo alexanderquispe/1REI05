{
 "cells": [
  {
   "cell_type": "markdown",
   "id": "8594ed87",
   "metadata": {},
   "source": [
    "El paper de los autores Brahieri, Levy y Makarin busca brindar estimaciones por medio de la experimentación de un fenómeno “natural” sobre el impacto que puede tener las redes sociales en la salud mental. De esta manera, dicho fenómeno será la paulatina introducción de la red social “Facebook” de los estudiantes universitarios en Estados Unidos. Así, se busca establecer si es que existe alguna relación entre la propagación y uso de Facebook en las universidades, síntomas vinculados a problemas mentales, síntomas vinculados a la depresión, peor rendimiento académico y peor desenvolvimiento social. En ese sentido, la pregunta de investigación debería ser ¿Cuál es el impacto que ha tenido las redes sociales como Facebook en la salud mental de los estudiantes universitarios en EEUU? Lo cual podría complementarse con preguntas secundarias como ¿De qué manera afecta dichas redes sociales como Facebook en el rendimiento académico de estos estudiantes? O ¿Existe alguna relación entre el consumo de estas redes y síntomas de depresión. "
   ]
  },
  {
   "cell_type": "markdown",
   "id": "781aeeba",
   "metadata": {},
   "source": [
    "Una de las fortalezas que tiene esta investigación es que cuenta con una gran data construidas en base a numerosas encuestas que le permite sustentar su hipótesis de la pregunta central, que alega que un mayor uso de redes sociales facilita el deterioro de la salud mental y el desarrollo de enfermedades como la depresión. Asimismo, un acierto del paper es la metodología empleada en el análisis y el trabajo de esta misma data. Pues los autores formulan constantemente hipótesis y la testean para lograr ubicar patrones, correlaciones y poder establecer relaciones de causalidad. Así, como la creación de indicadores para agrupar variables en específicas que responden a hallazgos específicos. Como la relación del consumo de Facebook, con el grupo de síntomas de la depresión, con el grupo vinculado al rendimiento académico y la relación con otras variables como el sexo o la edad. Sin embargo, una observación que se le debe hacer a esta investigación es que si bien el análisis hecho a partir del consumo de Facebook en 2022 es válido, esta misma red social no sea probablemente la más representativa dentro de la población de universitarios de EEUU. Ya que si lo comparamos con otras redes sociales más usadas como Tik Tok, Instagram o Snapchat, Facebook no parece liderar el consumo en este rubro."
   ]
  },
  {
   "cell_type": "markdown",
   "id": "147292d4",
   "metadata": {},
   "source": [
    "Por otro lado, una de las contribuciones más significativas de este paper es que aborda e intenta visibilizar una problemática tan urgente como el deterioro de la salud mental en los estudiantes universitarios. Lo cual se hace particularmente más urgente tras la pandemia del covid 19, y los elevados índices de depresión. Así el texto, contribuye en la respuesta a la disyuntiva principal en la medida que logra establecer y demostrar empírica y científicamente una relación de causalidad entre el consumo de Facebook, y el deterioro mental y académico de los alumnos; por medio de un análisis y comparación irrefutable entre el grupo experimental y el grupo de control. Lo cual sienta las bases para que se sigan investigando más relaciones entre el uso de estas redes sociales –las cuales son de los mercados más consumidos a nivel mundial-  y la salud mental, sobretodo del grupo etario que más lo consume. "
   ]
  },
  {
   "cell_type": "markdown",
   "id": "27f3d2ed",
   "metadata": {},
   "source": [
    "En ese sentido, el siguiente paso que se debería tomar para seguir desarrollando esta pregunta sería realizar un análisis similar con redes sociales más usadas como Tik Tok, Instagram, Snapchat, Whatsapp. Pues estas presentan diferencias y variables distintas entre sí como el tiempo de uso, la dinámica de consumo –videos cortos vs historias vs chats- que serían muy interesantes de investigar, tal como lo hace el artículo publicado en la “National Library of Medicine” por Fazida. Por último, también sería interesante emular dicho experimento en otras regiones similares a EEUU como Canadá o Australia,  o diferentes como Japón, India o Brasil, para bien comparar o contrastar los resultados obtenidos; similar a como lo hace Tseng en el mismo repositorio “National Library  of Medicine\n",
    "\n",
    "Links:\t\n",
    "\n",
    "https://www.ncbi.nlm.nih.gov/pmc/articles/PMC7364393/\n",
    "\n",
    "https://pubmed.ncbi.nlm.nih.gov/11322408/\n"
   ]
  },
  {
   "cell_type": "code",
   "execution_count": null,
   "id": "6af1829f",
   "metadata": {},
   "outputs": [],
   "source": []
  },
  {
   "cell_type": "code",
   "execution_count": null,
   "id": "4a1b0c5d",
   "metadata": {},
   "outputs": [],
   "source": []
  },
  {
   "cell_type": "code",
   "execution_count": null,
   "id": "aaac53d3",
   "metadata": {},
   "outputs": [],
   "source": []
  },
  {
   "cell_type": "code",
   "execution_count": null,
   "id": "84d26476",
   "metadata": {},
   "outputs": [],
   "source": []
  },
  {
   "cell_type": "code",
   "execution_count": null,
   "id": "e7340ba1",
   "metadata": {},
   "outputs": [],
   "source": []
  },
  {
   "cell_type": "code",
   "execution_count": null,
   "id": "9fc9b2c8",
   "metadata": {},
   "outputs": [],
   "source": []
  },
  {
   "cell_type": "code",
   "execution_count": null,
   "id": "c0063d0e",
   "metadata": {},
   "outputs": [],
   "source": []
  },
  {
   "cell_type": "code",
   "execution_count": null,
   "id": "9f9e3a79",
   "metadata": {},
   "outputs": [],
   "source": []
  },
  {
   "cell_type": "code",
   "execution_count": null,
   "id": "6c206ae6",
   "metadata": {},
   "outputs": [],
   "source": []
  },
  {
   "cell_type": "code",
   "execution_count": null,
   "id": "f32b62ce",
   "metadata": {},
   "outputs": [],
   "source": []
  },
  {
   "cell_type": "code",
   "execution_count": null,
   "id": "848ddc92",
   "metadata": {},
   "outputs": [],
   "source": []
  },
  {
   "cell_type": "code",
   "execution_count": null,
   "id": "3a9cb27a",
   "metadata": {},
   "outputs": [],
   "source": []
  }
 ],
 "metadata": {
  "kernelspec": {
   "display_name": "Python 3 (ipykernel)",
   "language": "python",
   "name": "python3"
  },
  "language_info": {
   "codemirror_mode": {
    "name": "ipython",
    "version": 3
   },
   "file_extension": ".py",
   "mimetype": "text/x-python",
   "name": "python",
   "nbconvert_exporter": "python",
   "pygments_lexer": "ipython3",
   "version": "3.9.12"
  }
 },
 "nbformat": 4,
 "nbformat_minor": 5
}
