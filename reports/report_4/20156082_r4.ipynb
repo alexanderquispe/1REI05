{
 "cells": [
  {
   "cell_type": "code",
   "execution_count": 2,
   "id": "52dc6e90",
   "metadata": {},
   "outputs": [],
   "source": [
    "import matplotlib.pyplot as plt\n",
    "import numpy as np\n",
    "import sympy as sy\n",
    "import pandas as pd\n",
    "import numpy as np\n",
    "import random\n",
    "import math\n",
    "import sklearn\n",
    "import scipy as sp\n",
    "import networkx\n",
    "import statsmodels.api as sm\n",
    "import statsmodels.formula.api as smf\n",
    "from statsmodels.iolib.summary2 import summary_col\n",
    "from causalgraphicalmodels import CausalGraphicalModel\n",
    "import ipywidgets as widgets\n",
    "from sympy import *"
   ]
  },
  {
   "cell_type": "markdown",
   "id": "1c454fce",
   "metadata": {},
   "source": [
    "# LECTURA\n",
    "## Demanda y oferta agregada en presencia de políticas monetarias no convencionales - Mendoza (2015)"
   ]
  },
  {
   "cell_type": "markdown",
   "id": "fee76d49",
   "metadata": {},
   "source": [
    "La crisis internacional del 2008 y 2009 generó un cambio en la política monetaria estadounidense. Ello se efectuó mediante la Reserva Federal (Fed), la cual es el principal instrumento de política monetaria del banco central de Estados Unidos. Mendoza (2021) en su artículo Demanda y oferta agregada en presencia de políticas monetarias no convencionales abordan la pregunta de investigación acerca de cómo los modelos y métodos convencionales pueden ser útiles para responder a preguntas macroeconómicas actuales.\n",
    "\n",
    "A lo largo del artículo, el autor explica el desarrollo de las políticas monetarias de la Fed no convencionales puestas en marcha a partir de la crisis internacional. Así, se señala a los modelos Keynesianos de mercado de bienes y también incluye el mercado de bonos para explicar y comprender el despliegue de dichas políticas de la Fed. De este modo, el autor propone la modelación de dichas políticas adoptando una opción teórica más tradicional con el modelo de Keynes, de Hicks y de Tobin\n",
    "El autor desarrolla una estructura que facilita la comprensión del artículo económico, de modo que presenta gráficos en los que compara los resultados para ambos sectores y modelos, y también desarrolla ecuaciones de funciones. Por un lado, el autor explica cómo se construye la demanda agregada de la economía, con el manejo de la Fed de un mercado de bono con una tasa de interés a corto plazo, que es añadida a los valores comprados de largo plazo. Luego, explica que esta demanda agregada conjugada con una curva de oferta agregada convencional da como resultado un modelo macroeconómico del que se pueden determinar los valores de tasa de interés de largo plazo, el equilibrio de la producción y el nivel de precios.\n",
    "\n",
    "Por otro lado, a partir de lo desarrollado en la primera parte, se puede explicar los distintos efectos sobre las variables endógenas tanto del modelo de política monetaria convencional, con el movimiento de la de interés de corto plazo, como en las políticas no convencionales, como compras de bono de largo plazo.\n",
    "\n",
    "De esta manera, el autor revaloriza los modelos IS, LM y BB del modelo keynesiano, al explicar que de estos se desprende la demanda agregada y se le agrega una ecuación de la oferta agregada. Esto permite que se pueda construir un modelo que permita estudiar los efectos de las políticas macroeconómicas convencionales y no convencionales. Tal y como se señala en el artículo, la Fed pasó a ser un “creador de modelos de última instancia”, según el International Monetary Found (2013). Con ello, esta es una forma de demostrar que estos modelos pueden explicar mejor ciertas situaciones de crisis que otros métodos más modernos.\n",
    "\n",
    "Finalmente, es importante considerar que estas políticas monetarias convencionales nos orientan favorablemente en situaciones de crisis. Sin embargo, como lo sugieren Tenjo y Uribe (2009), sería pertinente que se pueda refinar el marco institucional nacional con políticas más afines y/o un plan, de acuerdo a cada contexto. Prevenir los riesgos y garantizar la estabilidad económica no solo se encuentra dentro de los márgenes de la política monetaria, sino que su efecto trasciende a otras áreas."
   ]
  },
  {
   "cell_type": "markdown",
   "id": "9f8f5a0a",
   "metadata": {},
   "source": [
    "# CÓDIGO\n",
    "\n",
    "## Modelo IS-LM\n",
    "\n",
    "### Función que representa la curva IS"
   ]
  },
  {
   "cell_type": "markdown",
   "id": "450c063c",
   "metadata": {},
   "source": [
    "Primero, la ecuación de la curva IS\n",
    "\n",
    "$$ r = \\frac{B_o}{h} - \\frac{B_1}{h}Y $$\n",
    "\n",
    "- Donde $ B_0 = C_o + I_o + G_o + X_o $ y $ B_1 = 1 - (b - m)(1 - t) $"
   ]
  },
  {
   "cell_type": "markdown",
   "id": "b3b044aa",
   "metadata": {},
   "source": [
    "Segundo, la ecuación de la curva LM:\n",
    "\n",
    "$$  r = -\\frac{1}{j}\\frac{Mo^s}{P_o} + \\frac{k}{j}Y $$"
   ]
  },
  {
   "cell_type": "markdown",
   "id": "43a344c4",
   "metadata": {},
   "source": [
    "Son dos ecuaciones sumultáneas. Todos los parámetros son posititvos. La propensión marginal a consumir está entre 0 y 1: $ 0<b<1 $"
   ]
  },
  {
   "cell_type": "markdown",
   "id": "95bbe977",
   "metadata": {},
   "source": [
    "Podemos igualar, sustituir o reducir ambas ecuaciones para encontrar el nivel de Ingresos equilibrio $(Y^e)$ y la tasa de interés de equilibrio $(r^e)$:\n",
    "\n",
    "$$ -\\frac{1}{j}\\frac{Mo^s}{P_o} + \\frac{k}{j}Y = \\frac{B_o}{h} - \\frac{B_1}{h}Y $$\n",
    "\n",
    "- Ingreso de equilibrio:\n",
    "\n",
    "$$ Y^e = \\frac{j B_o}{k h + j B_1} + (\\frac{h}{k h + j B_1})\\frac{Ms_o}{P_o} $$\n",
    "\n",
    "- Tasa de interés de equilibrio:\n",
    "\n",
    "$$ r^e = \\frac{kB_o}{kh + jB_1} - (\\frac{B_1}{kh + jB_1})\\frac{Ms_o}{P_o} $$\n",
    "\n",
    "Estas dos ecuaciones representan el modelo IS-LM"
   ]
  },
  {
   "cell_type": "markdown",
   "id": "f8ade0c9",
   "metadata": {},
   "source": [
    "### Gráfico del equilibrio simultáneo en los mercados de bienes y de dinero."
   ]
  },
  {
   "cell_type": "code",
   "execution_count": 12,
   "id": "68a07527",
   "metadata": {},
   "outputs": [],
   "source": [
    "#--------------------------------------------------\n",
    "    # Curva IS\n",
    "\n",
    "# Parámetros\n",
    "\n",
    "Y_size = 100 \n",
    "\n",
    "Co = 35\n",
    "Io = 40\n",
    "Go = 50\n",
    "Xo = 2\n",
    "h = 0.8\n",
    "b = 0.4\n",
    "m = 0.5\n",
    "t = 0.8\n",
    "\n",
    "Y = np.arange(Y_size)\n",
    "\n",
    "\n",
    "# Ecuación \n",
    "def r_IS(b, m, t, Co, Io, Go, Xo, h, Y):\n",
    "    r_IS = (Co + Io + Go + Xo)/h - ( ( 1-(b-m)*(1-t) ) / h)*Y  \n",
    "    return r_IS\n",
    "\n",
    "r_is = r_IS(b, m, t, Co, Io, Go, Xo, h, Y)\n",
    "\n",
    "\n",
    "#--------------------------------------------------\n",
    "    # Curva LM \n",
    "\n",
    "# Parámetros\n",
    "\n",
    "Y_size = 100\n",
    "\n",
    "k = 2\n",
    "j = 1                \n",
    "Ms = 200             \n",
    "P  = 20               \n",
    "\n",
    "Y = np.arange(Y_size)\n",
    "\n",
    "# Ecuación\n",
    "\n",
    "def r_LM(k, j, Ms, P, Y):\n",
    "    r_LM = - (1/j)*(Ms/P) + (k/j)*Y\n",
    "    return r_LM\n",
    "\n",
    "r_lm = r_LM( k, j, Ms, P, Y)"
   ]
  },
  {
   "cell_type": "code",
   "execution_count": 13,
   "id": "64c185f3",
   "metadata": {},
   "outputs": [
    {
     "data": {
      "image/png": "[encoded data removed]",
      "text/plain": [
       "<Figure size 720x576 with 1 Axes>"
      ]
     },
     "metadata": {},
     "output_type": "display_data"
    }
   ],
   "source": [
    "# Gráfico del modelo IS-LM\n",
    "\n",
    "# Dimensiones del gráfico\n",
    "y_max = np.max(r_lm)\n",
    "fig, ax = plt.subplots(figsize=(10, 8))\n",
    "\n",
    "# Curvas a graficar\n",
    "# Curva IS\n",
    "ax.plot(Y, r_is, label = \"IS\", color = \"purple\") #IS\n",
    "# Curva LM\n",
    "ax.plot(Y, r_lm, label=\"LM\", color = \"gold\")  #LM\n",
    "\n",
    "# Eliminar las cantidades de los ejes\n",
    "ax.yaxis.set_major_locator(plt.NullLocator())   \n",
    "ax.xaxis.set_major_locator(plt.NullLocator())\n",
    "\n",
    "# Texto y figuras agregadas\n",
    "# Graficar la linea horizontal - r\n",
    "plt.axvline(x=51.5,  ymin= 0, ymax= 0.52, linestyle = \":\", color = \"black\")\n",
    "# Grafica la linea vertical - Y\n",
    "plt.axhline(y=93, xmin= 0, xmax= 0.52, linestyle = \":\", color = \"black\")\n",
    "\n",
    "# Plotear los textos \n",
    "plt.text(49,100, '$E_0$', fontsize = 14, color = 'black')\n",
    "plt.text(0,100, '$r_0$', fontsize = 12, color = 'black')\n",
    "plt.text(53,-10, '$Y_0$', fontsize = 12, color = 'black')\n",
    "\n",
    "# Título, ejes y leyenda\n",
    "ax.set(title=\"IS-LM Model\", xlabel= r'Y', ylabel= r'r')\n",
    "ax.legend()\n",
    "\n",
    "plt.show()"
   ]
  },
  {
   "cell_type": "markdown",
   "id": "9004b2c3",
   "metadata": {},
   "source": [
    "## Estática comparativa"
   ]
  },
  {
   "cell_type": "markdown",
   "id": "dc19afdb",
   "metadata": {},
   "source": [
    "Analice los efectos sobre las variables endógenas Y, r de una disminución del gasto fiscal. $ (ΔG_o<0) $. El análisis debe ser intuitivo, matemático y gráfico"
   ]
  },
  {
   "cell_type": "markdown",
   "id": "22e25503",
   "metadata": {},
   "source": [
    "Si $$ΔGo<0$$\n",
    "- Mercado de Bienes\n",
    "$$ Go ↓ → DA↓ → DA<Y → Y↓, entonces DA = Y $$ \n",
    "- Mercado de dinero\n",
    "$$ Y↓ → Md↓ → Md<Ms → r↓, entonces Md = Ms $$ "
   ]
  },
  {
   "cell_type": "markdown",
   "id": "da0c2ebc",
   "metadata": {},
   "source": [
    "Análisis matemático:\n",
    "\n",
    "$$ Y^e = \\frac{j}{k h + j B_1}ΔGo<0 $$\n",
    "\n",
    "- Tasa de interés de equilibrio:\n",
    "\n",
    "$$ r^e = \\frac{k}{kh + jB_1}ΔGo<0 $$\n"
   ]
  },
  {
   "cell_type": "markdown",
   "id": "68a81761",
   "metadata": {},
   "source": [
    "### Gráfico"
   ]
  },
  {
   "cell_type": "code",
   "execution_count": 17,
   "id": "ff23dd31",
   "metadata": {},
   "outputs": [],
   "source": [
    "# Curva IS ORIGINAL\n",
    "\n",
    "# Parámetros\n",
    "\n",
    "Y_size = 100 \n",
    "\n",
    "Co = 35\n",
    "Io = 40\n",
    "Go = 50\n",
    "Xo = 2\n",
    "h = 0.8\n",
    "b = 0.4\n",
    "m = 0.5\n",
    "t = 0.8\n",
    "\n",
    "Y = np.arange(Y_size)\n",
    "\n",
    "\n",
    "# Ecuación \n",
    "def r_IS(b, m, t, Co, Io, Go, Xo, h, Y):\n",
    "    r_IS = (Co + Io + Go + Xo - Y * (1-(b-m)*(1-t)))/h\n",
    "    return r_IS\n",
    "\n",
    "r = r_IS(b, m, t, Co, Io, Go, Xo, h, Y)\n",
    "\n",
    "\n",
    "#2--------------------------------------------------\n",
    "    # Curva LM ORIGINAL\n",
    "\n",
    "# Parámetros\n",
    "\n",
    "Y_size = 100\n",
    "\n",
    "k = 2\n",
    "j = 1                \n",
    "Ms = 200             \n",
    "P  = 20               \n",
    "\n",
    "Y = np.arange(Y_size)\n",
    "\n",
    "# Ecuación\n",
    "\n",
    "def i_LM( k, j, Ms, P, Y):\n",
    "    i_LM = (-Ms/P)/j + k/j*Y\n",
    "    return i_LM\n",
    "\n",
    "i = i_LM( k, j, Ms, P, Y)"
   ]
  },
  {
   "cell_type": "code",
   "execution_count": 18,
   "id": "f0621477",
   "metadata": {},
   "outputs": [],
   "source": [
    "# NUEVA curva IS: reducción Gasto Fiscal de Gobienro (Go)\n",
    "    \n",
    "# Definir parámetro cambiado\n",
    "Go = 10\n",
    "\n",
    "# Generar la ecuación con el nuevo parámetro\n",
    "def r_IS(b, m, t, Co, Io, Go, Xo, h, Y):\n",
    "    r_IS = (Co + Io + Go + Xo - Y * (1-(b-m)*(1-t)))/h\n",
    "    return r_IS\n",
    "\n",
    "r_G = r_IS(b, m, t, Co, Io, Go, Xo, h, Y)"
   ]
  },
  {
   "cell_type": "code",
   "execution_count": 19,
   "id": "563e7e8a",
   "metadata": {},
   "outputs": [
    {
     "data": {
      "image/png": "[encoded data removed]",
      "text/plain": [
       "<Figure size 720x576 with 1 Axes>"
      ]
     },
     "metadata": {
      "needs_background": "light"
     },
     "output_type": "display_data"
    }
   ],
   "source": [
    "# Gráfico\n",
    "\n",
    "# Dimensiones del gráfico\n",
    "y_max = np.max(i)\n",
    "fig, ax = plt.subplots(figsize=(10, 8))\n",
    "\n",
    "# Curvas a graficar\n",
    "ax.plot(Y, r, label = \"IS_(G_0)\", color = \"orange\") #IS_orginal\n",
    "ax.plot(Y, r_G, label = \"IS_(G_1)\", color = \"purple\", linestyle = 'dashed') #IS_modificada\n",
    "\n",
    "ax.plot(Y, i, label=\"LM\", color = \"brown\")  #LM_original\n",
    "\n",
    "# Texto y figuras agregadas\n",
    "plt.axvline(x=36,  ymin= 0, ymax= 0.40, linestyle = \":\", color = \"grey\")\n",
    "plt.axhline(y=61, xmin= 0, xmax= 0.38, linestyle = \":\", color = \"grey\")\n",
    "\n",
    "plt.axvline(x=52,  ymin= 0, ymax= 0.53, linestyle = \":\", color = \"grey\")\n",
    "plt.axhline(y=95, xmin= 0, xmax= 0.53, linestyle = \":\", color = \"grey\")\n",
    "plt.text(50,100, '$E_1$', fontsize = 14, color = 'black')\n",
    "\n",
    "plt.text(38,70, '$E_0$', fontsize = 14, color = 'black')\n",
    "plt.text(-1,100, '$r_0$', fontsize = 12, color = 'black')\n",
    "plt.text(53,-40, '$Y_0$', fontsize = 12, color = 'black')\n",
    "#plt.text(50,52, '$E_1$', fontsize = 14, color = '#3D59AB')\n",
    "#plt.text(-1,72, '$r_1$', fontsize = 12, color = '#3D59AB')\n",
    "plt.text(47,-40, '$Y_1$', fontsize = 12, color = '#3D59AB')\n",
    "\n",
    "#plt.text(69, 115, '→', fontsize=15, color='grey')\n",
    "#plt.text(69, 52, '←', fontsize=15, color='grey')\n",
    "\n",
    "# Título, ejes y leyenda\n",
    "ax.set(title=\"Disminución del gasto fiscal\", xlabel= r'Y', ylabel= r'r')\n",
    "ax.legend()\n",
    "\n",
    "plt.show()"
   ]
  },
  {
   "cell_type": "code",
   "execution_count": null,
   "id": "2dfba73a",
   "metadata": {},
   "outputs": [],
   "source": []
  }
 ],
 "metadata": {
  "kernelspec": {
   "display_name": "Python 3 (ipykernel)",
   "language": "python",
   "name": "python3"
  },
  "language_info": {
   "codemirror_mode": {
    "name": "ipython",
    "version": 3
   },
   "file_extension": ".py",
   "mimetype": "text/x-python",
   "name": "python",
   "nbconvert_exporter": "python",
   "pygments_lexer": "ipython3",
   "version": "3.9.12"
  }
 },
 "nbformat": 4,
 "nbformat_minor": 5
}
