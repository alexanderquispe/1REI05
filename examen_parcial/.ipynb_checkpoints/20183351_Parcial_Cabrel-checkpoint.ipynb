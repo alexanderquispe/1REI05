{
 "cells": [
  {
   "cell_type": "markdown",
   "id": "2f2bca24",
   "metadata": {},
   "source": [
    "# $$EXAMEN - PARCIAL$$"
   ]
  },
  {
   "cell_type": "markdown",
   "id": "8d3a2e53",
   "metadata": {},
   "source": [
    "## $Claudia - Cabrel$\n",
    "\n",
    "## $20183351$"
   ]
  },
  {
   "cell_type": "markdown",
   "id": "4c1d9ba5",
   "metadata": {},
   "source": [
    "## Teoría (11 puntos)"
   ]
  },
  {
   "cell_type": "markdown",
   "id": "3d9d5cbc",
   "metadata": {},
   "source": [
    "### 1. (2 puntos) Defina el Multiplicador Keynesiano y dé un ejemplo de cómo influye este en el modelo Ingreso-Gasto Keynesiano."
   ]
  },
  {
   "cell_type": "markdown",
   "id": "e3d50acc",
   "metadata": {},
   "source": [
    "    La definición de el Multiplicador Keynesiano se refiere al cambio de los componentes de la demanda agregada (DA) que conforma el intercepto; a su vez, el aumento multiplicado del ingreso es un resultado de los efectos directos e indirectos que se dan por el aumento de los componentes propios de la demanda agregada; asimismo, este es un. modelo que influey en el modelo Ingreso-Gasto Keynesiano."
   ]
  },
  {
   "cell_type": "markdown",
   "id": "8788ae7b",
   "metadata": {},
   "source": [
    "### 2. (2 puntos) Grafique y explique cúando sucede un exceso y déficit de demanda en el modelo Ingreso-Gasto. Señale las áreas donde ocurre cada caso. Explique cómo se converge al equilibrio a partir de estos dos escenarios."
   ]
  },
  {
   "cell_type": "code",
   "execution_count": 32,
   "id": "68489f63",
   "metadata": {},
   "outputs": [],
   "source": [
    "import matplotlib.pyplot as plt\n",
    "import numpy as np\n",
    "import sympy as sy"
   ]
  },
  {
   "cell_type": "code",
   "execution_count": 33,
   "id": "0e4a03c3",
   "metadata": {},
   "outputs": [],
   "source": [
    "Y_size = 100\n",
    "\n",
    "C0 = 20   \n",
    "I0 = 10  \n",
    "G0 = 40   \n",
    "X0 = 2   \n",
    "b = 0.4 \n",
    "m = 0.2   \n",
    "t = 0.4   \n",
    "h = 1     \n",
    "r = 0.6  \n",
    "\n",
    "\n",
    "α_0 = C0 + I0 + G0 + X0 - (h*r)\n",
    "α_1 = (b-m)*(1-t)\n",
    "\n",
    "Y = np.arange(Y_size)"
   ]
  },
  {
   "cell_type": "code",
   "execution_count": 34,
   "id": "90eaaba2",
   "metadata": {},
   "outputs": [],
   "source": [
    "def DA(α_0, α_1, Y):\n",
    "    DA = α_0 + (α_1*Y)\n",
    "    return DA\n",
    "\n",
    "DA = DA(α_0, α_1, Y)\n",
    "\n",
    "Y_size = 100\n",
    "\n",
    "a = 1    \n",
    "\n",
    "Y = np.arange(Y_size)\n",
    "\n",
    "def Y_45(a, Y):\n",
    "    Y_45 = a*Y\n",
    "    return Y_45\n",
    "\n",
    "Y_45 = Y_45(a, Y)"
   ]
  },
  {
   "cell_type": "code",
   "execution_count": 41,
   "id": "f2d250ee",
   "metadata": {},
   "outputs": [
    {
     "data": {
      "image/png": "[encoded data removed]",
      "text/plain": [
       "<Figure size 720x576 with 1 Axes>"
      ]
     },
     "metadata": {
      "needs_background": "light"
     },
     "output_type": "display_data"
    }
   ],
   "source": [
    "y_max = np.max(DA)\n",
    "\n",
    "fig, ax = plt.subplots(figsize=(10, 8))\n",
    "ax.set(title=\"MODELO INGRESO-GASTO\", xlabel= 'Y', ylabel= 'DA')\n",
    "ax.plot(Y, DA, label = \"$DA = α_0 + (α_1*Y)$\", color = \"ORANGE\", lw = 2) \n",
    "ax.plot(Y, Y_45, label = \"Y_45°\", color = \"PINK\") \n",
    "\n",
    "plt.axvline(x=81.2,  ymin= 0, ymax= 0.80, linestyle = \":\", color = \"gray\")\n",
    "plt.axhline(y=81.2, xmin= 0, xmax= 0.80, linestyle = \":\", color = \"gray\")\n",
    "plt.plot(81.2, 81.2, marker=\"o\", color=\"black\", label = \"Eo\")\n",
    "plt.plot(70.2, 80.2, marker=\"o\", color=\"black\", label = \"L\")\n",
    "plt.plot(94, 81.8, marker=\"o\", color=\"black\", label = \"H\")\n",
    "\n",
    "plt.text(80, -15, '$Y^e$', fontsize = 16, color = 'black')\n",
    "plt.text(-15, 80, '$DA^e$', fontsize = 16, color = 'black')\n",
    "plt.text(79, 83, 'Eo', fontsize = 14, color = 'black')\n",
    "plt.text(70, 85, 'L', fontsize = 14, color = 'black')\n",
    "plt.text(94, 84, 'H', fontsize = 14, color = 'black')\n",
    "\n",
    "ax.legend()\n",
    "plt.show()"
   ]
  },
  {
   "cell_type": "markdown",
   "id": "4f1bc007",
   "metadata": {},
   "source": [
    "    El punto E0 representa el equilibrio del modelo de Ingreso-Gasto. Es en este punto donde todo lo demandado en la economía es igual a todo lo producido. Es decir, se cumple la condición de equilibrio Y = DA. Sin embargo, pueden ocurrir situaciones donde la demanda puede ser mayor o menor que el producto (situaciones de exceso o déficit). Igualmente, el modelo es estable porque hay convergencia hacia el punto E0 (el equilibrio). \n",
    "\n",
    "    En el caso de un exceso de demanda, lo que sucede es que los inventarios de las empresas son menores a la cantidad demanda por el mercado y, por tanto, estas deciden incrementar la producción en un monto similar al que aumentó la demanda. \n",
    "    - ↑DA --> Y < DA -->↑Y\n",
    "    - En el gráfico, el punto L representa cuando la demanda agregada es mayor que el nivel de producción. Tras el déficit de producción, las empresas hacen aumentos de su producción hasta llegar al equilibrio E0.\n",
    "\n",
    "    En el caso de un déficit de demanda, esto se debe a que los inventarios de las empresas con mayores que las cantidades demandas por el mercado, es decir, hay un déficit de demanda. Las empresas deciden reducir su producción hasta que se iguale a la cantidad demanda en la economía.\n",
    "    - ↓DA --> Y>DA --> ↓Y\n",
    "    - En el gráfico, el punto H representa cuando la demanda agregada es menor que el nivel de producción. Tras el exceso de producción, las empresas hacen reducciones de su producción hasta llegar al equilibrio E0."
   ]
  },
  {
   "cell_type": "markdown",
   "id": "6d3086d4",
   "metadata": {},
   "source": [
    "### 3. (2 puntos) ¿Cuáles son las herramientas de política fiscal y política monetaria? Dea un ejemplo para cada una de ellas dentro del contexto peruano. Coloque su fuente en caso sea necesario. (Solo necesita 1 para pol. Fiscal y 1 para Monetaria)."
   ]
  },
  {
   "cell_type": "markdown",
   "id": "756ad4de",
   "metadata": {},
   "source": [
    "    Las herramientas de la política fiscal son un conjunto de acciones gubernamentales en donde se utilizan instrumentos discrecionales para modificar ingresos y gastos. Por otro lado, una política fiscal se refuere a una herramnienta para el gasto público."
   ]
  },
  {
   "cell_type": "markdown",
   "id": "d9192942",
   "metadata": {},
   "source": [
    "### 4. (2) Explique qué funciones del dinero respaldan el éxito de de Yape y Plin(Aplicativos moviles para intercambio de dinero)."
   ]
  },
  {
   "cell_type": "markdown",
   "id": "20557bbf",
   "metadata": {},
   "source": [
    "    En el texto, el autor Jiménez, menciona que la economía tiene 4 funciones. La primera sostiene que es la unidad de cuenta y patrón de precios, en donde las aplicaciones Yape y Plin resaltan su función como aplicaciones capaces de generar intercambios de dinero por medio de sus transacciones, así como el autor menciona que el dinero puede disminuir los costos de transacción, debido a que reduce el número de precios existentes en la economía, facilitando las transacciones. Asimismo, Yape y Plin cumplen con la segunda función del dinero, que seria basicamente la concepción del dinero como medio de intercambio, lo cual propone una eficiencia económica, ya que gracias a estas aplicaciones que no tienen un cobro extra por hacer transacciones de dinero, eliminan propiamente estos costos de los intercambios de bienes y servicios. En cuanto a la tercera función que el autor menciona que sería que el dinero sirve para cancelar deudas, estos aplicativos sirven para poder utilizarse como medios de pagos de varios locales o establecimientos. Finalmente, la cuarta funcón sería la del depósito y la conservación del dinero, ya que Yape y Plin funcionan como aplicaciones que derivan de cuentas bancarias, donde, tal cual como dice el autor, el poder adquisitivo es decir el dinero, sirve para que pueda guardarse. En conclusión, estas aplicaciones han facilitado en gran medida las funciones principales que el dinero tiene y hasta el día de hoy han logrado en buena medida que más personas puedan utilizarlos gracias a su funcionalidad."
   ]
  },
  {
   "cell_type": "markdown",
   "id": "17abe8fc",
   "metadata": {},
   "source": [
    "### 5.(3 puntos) Cuáles son las conclusiones principales del paper de Dancurt \"Inflation Targeting in Peru: The Reasons for the Success\""
   ]
  },
  {
   "cell_type": "markdown",
   "id": "33f31282",
   "metadata": {},
   "source": [
    "    En el artículo en de Oscar Dancourt, el autor concluye que la política monetaria por parte del Banco Central de Reserva del Perú generó un buen desempeño macroeconómico en nuestro país durante la década de 2002-2013. Es decir, se mantuvo una baja inflación, alto crecimiento del PBI y se impidieron recesiones severas. Esto proviene del análisis de los, según el autor,  dos canales más importantes e influyentes en la actividad económica y el nivel de precios: el canal de crédito y el canal de tipo de cambio. Por otro lado, tenemos el canal de crédito en donde diferentes medidas que impactan en la oferta y demanda del credito son el coeficiente de encaje, el ajuste de la tasa de interés y el desarrollo del mercado local de bonos públicos. FInalmente, el autor sostiene que para poder mantener cierta estabilidad en el tipo de cambio, fue necesario acumular reservas de divisas. Sin embargo, las políticas monetarias del BCR pudieron tener un mejor manejo. Y finalmente, el \"desdolarizar\" el crédito es una medida viable para el control de la caída del dolar."
   ]
  },
  {
   "cell_type": "markdown",
   "id": "60faff58",
   "metadata": {},
   "source": [
    "## Ejercicio 2 (5 puntos). Modelo de OA-DA y el nuevo esquema institucional de Política Monetaria, donde la tasa de interés de referencia $ r_0 $ es usada como instrumento."
   ]
  },
  {
   "cell_type": "markdown",
   "id": "88ef7d70",
   "metadata": {},
   "source": [
    "Utilice las siguientes ecuaciones\n",
    "\n",
    "    Demnanda Agregada\n",
    "    \n",
    "$$ IS:[1-b(1-t)]Y=C_0+I_0+G_0-hr_0$$\n",
    "\n",
    "$$LM: {M_0^s}-{P}=kY-jr_o $$\n",
    "    \n",
    "    Oferta Agregadda\n",
    "    \n",
    "$$ P=P^e+θ(Y-\\bar{Y})$$"
   ]
  },
  {
   "cell_type": "markdown",
   "id": "e2412e0a",
   "metadata": {},
   "source": [
    "### (2 puntos) Encuentre las ecuaciones de equilibrio de $ Y^{eq\\_da\\_oa}$, $P^{eq}$"
   ]
  },
  {
   "cell_type": "markdown",
   "id": "9583fe2b",
   "metadata": {},
   "source": [
    "$ IS: [1-b(1-t)]Y= C_o + I_o + G_o -hr_0$\n",
    "\n",
    "$ IS: \\beta_1Y=\\beta_0-hr_0$\n",
    "\n",
    "$ IS: r_0= \\frac{\\beta_0}{h}-\\frac{\\beta_1}{h}Y  $\n",
    "\n",
    "En ese sentido, tenemos como consiguiente:\n",
    "\n",
    "$ \\beta_0 = C_o + I_o + G_o $ y $ \\beta_1 = 1 - (b)(1 - t) $\n",
    "\n",
    "$ LM: M_0^s-P=kY-jr_0$\n",
    "\n",
    "\n",
    "Y siguiendo esa linea, reemplazamos($r$)\n",
    "Lo que nos da la ecuacón ($DA$) \n",
    "\n",
    "$ M_0^s-P=kY-j\\frac{\\beta_0}{h}+j\\frac{\\beta_1}{h}Y $\n",
    "\n",
    "$ P=M_0^s+j\\frac{\\beta_0}{h}-j\\frac{\\beta_1}{h}Y -kY$\n",
    "\n",
    "$P=\\frac{hM_0^s+j\\beta_0}{h}-\\frac{j\\beta_1+hk}{h}Y$"
   ]
  },
  {
   "cell_type": "markdown",
   "id": "8270dcc8",
   "metadata": {},
   "source": [
    "En cuanto a la Oferta Agregada\n",
    "\n",
    "$ P=P^e+θ(Y-\\bar{Y})$\n",
    "\n",
    "\n",
    "Finalmente para hallar $ Y^{eq\\_da\\_oa}$ tenemos:\n",
    "\n",
    "$\\frac{h Mo^s + jB_o}{h} - \\frac{jB_1 + hk}{h}Y = P^e + θ(Y - \\bar{Y})$\n",
    "\n",
    "$Y^{eq\\_da\\_oa} = [ \\frac{1}{(θ + \\frac{jB_1 + hk}{h})} ]*[(\\frac{h Mo^s + jB_o}{h} - P^e + θ\\bar{Y})]$\n",
    "\n",
    "\n",
    " Y para $P^{eq}$ reemplazamos $ Y^{eq}$ de la oferta agregada\n",
    "\n",
    "$P^{eq\\_da\\_oa} = P^e + θ( Y^{eq\\_da\\_oa} - \\bar{Y} )$\n",
    "\n",
    "$P^{eq\\_da\\_oa} = P^e + θ( [ \\frac{1}{(θ + \\frac{jB_1 + hk}{h})} ]*[(\\frac{h Mo^s + jB_o}{h} - P^e + θ\\bar{Y})] - \\bar{Y} )$"
   ]
  },
  {
   "cell_type": "markdown",
   "id": "dbc196d1",
   "metadata": {},
   "source": [
    "### (3 puntos) Analice los efectos sobre las variables endógenas Y, P ante una subida de la tasa de interés de referencia $ r_0 $. $(Δr_o > 0)$. El análisis debe ser intuitivo, matemático y gráfico."
   ]
  },
  {
   "cell_type": "code",
   "execution_count": null,
   "id": "d17dcdee",
   "metadata": {},
   "outputs": [],
   "source": []
  }
 ],
 "metadata": {
  "kernelspec": {
   "display_name": "Python 3 (ipykernel)",
   "language": "python",
   "name": "python3"
  },
  "language_info": {
   "codemirror_mode": {
    "name": "ipython",
    "version": 3
   },
   "file_extension": ".py",
   "mimetype": "text/x-python",
   "name": "python",
   "nbconvert_exporter": "python",
   "pygments_lexer": "ipython3",
   "version": "3.9.12"
  }
 },
 "nbformat": 4,
 "nbformat_minor": 5
}
