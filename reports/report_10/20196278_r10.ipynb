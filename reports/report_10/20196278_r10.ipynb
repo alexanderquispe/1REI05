{
  "nbformat": 4,
  "nbformat_minor": 0,
  "metadata": {
    "colab": {
      "provenance": []
    },
    "kernelspec": {
      "name": "python3",
      "display_name": "Python 3"
    },
    "language_info": {
      "name": "python"
    }
  },
  "cells": [
    {
      "cell_type": "markdown",
      "source": [
        "$$REPORT_Nº10:$$\n",
        "\n",
        "$$Name: Santiago Alberto Vera Quispe $$\n",
        "\n",
        "$$Code: 20196278$$"
      ],
      "metadata": {
        "id": "t7xP-UUgaV9H"
      }
    },
    {
      "cell_type": "markdown",
      "source": [
        "TEXTO\n",
        "El trabajo se inspira en la innovación por sus influencias en el crecimiento económico. Para ello, la habilidad y el ambiente son principales, analizados desde variables que se agregan en el nacimiento y características demográficas como raza, género padres, etc. El ingreso de la familia. Así, decimos, que muchos inventores no son explotados en el sentido de que son minorías,  mujeres y pobres que no son expuestos a las condiciones. Es estudiar a esto individuos determinando los factores para el sector de innovadores. Se usan los datos de los impuestos por las patentes y la información federal EEUU del  1996-2004 de 12 millones de inventores desde su niñez hasta su adultez en la habilidad y el ambiente. \n",
        "\n",
        "Lo evaluamos en sus variables sociodemográficas, así los resultados indican que si tienes habilidad pero tu ambiente de desarrollo de pequeño reduce tus oportunidades para innovar, sin eliminar el factor de amabilidad heredada. Los test de pequeños no son buenos para medir la habilidad heredada. Los parámetros son específicos en las ganancias de los padres, la tecnología de manejo, el ambiente correcto  y el género son variables para medir. El propio auto mencía que el trabajo, colabora con la literatura para escoger carrera, para ver de qué manera, el ambiente de exposición es determinante para la innovación, y cómo finalmente, la innovación se da.  \n",
        "\n",
        "En el uso de la data, esto menciona que se realizó un estudio de la innovación desde las patentes en las que estas definirán a un inventor que se inscribieron en 1996-2014, e incluso que intentara hacerlo. La patente se clasificaría en lo que sería lo una ratio de éxito de cantidad de patentes tecnológicas y lo evaluaron en la localización en la que se desarrollaba este inventor desde la base de datos de (USPTO). A esta data de localidad de la patente se le realizó con la data de Death Master file que indicaría los datos básicos, de ciudad, país, etc. Adicionalmente, para el estudio del ambiente y el grado académico se adiciona la variable de datos de estudiantes de colegios públicos por distrito en New york city New York City (NYC) con la que obtenido los resultados para analizar (scores).\n",
        "\n",
        "El artículo avanza en su investigación y es riguroso al definir sus variables estadísticas en Incone como la forma de medir la ganancia individual reportada en los pagos al gobierno y ganancia no reportadas. Así mismo está el Parente income, como la ganancia también en pagos de impuestos en relación a los beneficios que poseían con un nivel de ingresos. College attendance, es otra variable para poder verificar intergeneracional cuáles son los efectos de la exposición diferente académica y, en la misma línea, se presenta la variable de Scores como información que los test brindan para  ver el rendimiento académico de los niños. Estas variables se presentan en un Summary estadísticas. \n",
        "\n",
        "El fuerte del artículo está en la propuesta de las brechas que generan la situación del nacimiento: en parental income, race and gender. Asimismo, para evaluar de qué ́ manera en estas tres secciones de análisis se puede ver una influencia de la innovación entendida como hereditaria. En relación a la primera variable en cuestión, las probabilidades de convertir en un inventor crece a medida que los ingresos de los padres lo hacen: se trata de una taza que es 10 veces más que la tasa de inventores con padres debajo del ingreso medio. Aumentan en un 22% en el percentil 95. A estos se le agrega que la innovación por la ganancia de los padres en diferentes edades no afecta a la relación. Es decir, no importa a qué edad el padre haya tenido el ingreso superior.\n",
        "\n",
        " En relación a la segunda variable en cuestión, la raza o tenicida, evaluados en los pagos de impuestos y en los test académicos en los hispánicos, no hispanicos, negros, blancos, negros y asiaticos. Se ven diferencias entre estos grupos; no obstante, pueden ser afectadas por el ingreso de los padres, en cuyo caso hay que limpiar la data: únicamente se logra decir que a través del Low income o bajo ingreso de los padres que explicaría la innovación. \n",
        "\n",
        "En relación a la tercera variable en cuestión, gender, se evalúa las diferencia del género a través de los taz pays y test scores; no obstante, el autor menciona que lo beneficiosos del modelo es que permite ver la diferencia de tasas de innovación incluso para otros poblaciones intergeneracionales.  Así se presentan la brecha a lo largo del tiempo que explican también la variable de género. Por un lado vemos un primer momento en el que el 7% de los inventores en 1940  eran mujeres; pero para 1980 subió a ser 18%. vemos un incremento pero también vemos que continua esta reducida esta brecha. \n",
        "\n",
        "En todas estás áreas, el autor también calcula de qué manera la forma de habilidad, analizada en los test scores de los colegios podrían significar que la habilidad heredada para la innovación explican estas brechas, mencionadas. Incluso en un ajuste bondadoso para este modelo, la herencia en las tres variables resulta ser muy menor: es decir no tiene un efecto directo. Así la diferencia en habilidades, no logra explicar la diferencia en innovación. \n",
        "\n",
        "En la misma línea, continuando el trabajo, el texto propone que en realidad, existen otros elementos ambientales, del entorno, de crecimiento del menor. Estos sería específico al mencionar que tanto en la calidad de educación que los padres les brindan a sus hijos, y los trabajadores de los padres que brindan imágenes los hijos: serían grandes formas de pensar que el ambiente es el gran detonante de la innovación: exposure effect. Si los padres de alguna manera han generado patentes en una cierta materia, los niños tenderán a invocar, pero no necesariamente en la misma temática de patente: la exposición a la tecnología permite evidenciar ello. Estos resultados son consistentes también con la influencias de los coworkers de los padres y los vecindarios que en su conjunto generan un ambiente de propensión a la innovación. \n",
        "\n",
        "En conclusión, el autor es enfático en señalar que las características de raza, género y parental income son variables de gran importancia que afectan los resultados de innovación y que la herencia de habilidad no posee un rol importante. El artículo es efectivo e innovador al poder generar comparaciones en las variables mencionadas intergeneracionalmente. Esto le permite establecer patrones de causalidad.  Así, podríamos decidir que el artículo podría avanzar en no solo limitarse a tres variables para explicar la innovación sino que puede extrapolar a nuevas variables. \n"
      ],
      "metadata": {
        "id": "N9NFJmrNaV_x"
      }
    },
    {
      "cell_type": "code",
      "source": [
        "import numpy as np\n",
        "import pandas as pd\n",
        "import matplotlib.pyplot as plt\n",
        "import seaborn as sns, warnings\n",
        "import statsmodels.formula.api as smf\n",
        "warnings.filterwarnings('ignore')"
      ],
      "metadata": {
        "id": "RUhSAhGuaWVW"
      },
      "execution_count": 1,
      "outputs": []
    },
    {
      "cell_type": "code",
      "source": [
        "pip install causalgraphicalmodels"
      ],
      "metadata": {
        "colab": {
          "base_uri": "https://localhost:8080/"
        },
        "id": "A6jsZ7haaWX1",
        "outputId": "45478dda-18ca-4ecd-917b-f2aa76c41646"
      },
      "execution_count": 2,
      "outputs": [
        {
          "output_type": "stream",
          "name": "stdout",
          "text": [
            "Looking in indexes: https://pypi.org/simple, https://us-python.pkg.dev/colab-wheels/public/simple/\n",
            "Collecting causalgraphicalmodels\n",
            "  Downloading causalgraphicalmodels-0.0.4-py3-none-any.whl (11 kB)\n",
            "Requirement already satisfied: graphviz in /usr/local/lib/python3.8/dist-packages (from causalgraphicalmodels) (0.10.1)\n",
            "Requirement already satisfied: pandas in /usr/local/lib/python3.8/dist-packages (from causalgraphicalmodels) (1.3.5)\n",
            "Requirement already satisfied: numpy in /usr/local/lib/python3.8/dist-packages (from causalgraphicalmodels) (1.21.6)\n",
            "Requirement already satisfied: networkx in /usr/local/lib/python3.8/dist-packages (from causalgraphicalmodels) (2.6.3)\n",
            "Requirement already satisfied: python-dateutil>=2.7.3 in /usr/local/lib/python3.8/dist-packages (from pandas->causalgraphicalmodels) (2.8.2)\n",
            "Requirement already satisfied: pytz>=2017.3 in /usr/local/lib/python3.8/dist-packages (from pandas->causalgraphicalmodels) (2022.6)\n",
            "Requirement already satisfied: six>=1.5 in /usr/local/lib/python3.8/dist-packages (from python-dateutil>=2.7.3->pandas->causalgraphicalmodels) (1.15.0)\n",
            "Installing collected packages: causalgraphicalmodels\n",
            "Successfully installed causalgraphicalmodels-0.0.4\n"
          ]
        }
      ]
    },
    {
      "cell_type": "code",
      "source": [
        "from causalgraphicalmodels import CausalGraphicalModel"
      ],
      "metadata": {
        "id": "GTP6hJDhaWan"
      },
      "execution_count": 3,
      "outputs": []
    },
    {
      "cell_type": "code",
      "source": [
        "from cProfile import label"
      ],
      "metadata": {
        "id": "d4ewVzwcaWet"
      },
      "execution_count": 4,
      "outputs": []
    },
    {
      "cell_type": "code",
      "source": [
        "%matplotlib inline"
      ],
      "metadata": {
        "id": "nJYIun8KhEY2"
      },
      "execution_count": 5,
      "outputs": []
    },
    {
      "cell_type": "code",
      "source": [],
      "metadata": {
        "id": "rmY_-FK9hR-C"
      },
      "execution_count": null,
      "outputs": []
    },
    {
      "cell_type": "markdown",
      "source": [
        "\n",
        "Explique de manera muy breve y resumida en qué consiste una regresión discontinua\n",
        "- \n",
        "\n",
        "Detalle un ejemplo en la vida real en donde podría emplear una regresión discontinua.\n",
        "- \n",
        "Explique el diseño Sharp Desing y comente un ejemplo en la vida real en donde podría aplicarlo (sea lo más detallado posible).\n",
        "- "
      ],
      "metadata": {
        "id": "MXfyNYm2vf9P"
      }
    }
  ]
}