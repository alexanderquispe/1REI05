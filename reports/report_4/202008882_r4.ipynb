{
 "cells": [
  {
   "cell_type": "markdown",
   "id": "da539f87",
   "metadata": {},
   "source": [
    "Franco Hurtado Aguilar - 20200882\n"
   ]
  },
  {
   "cell_type": "markdown",
   "id": "9ce35149",
   "metadata": {},
   "source": [
    "# Parte 1: Reporte"
   ]
  },
  {
   "cell_type": "markdown",
   "id": "8ed2c3cf",
   "metadata": {},
   "source": [
    "Este trabajo aborda el contexto de la crisis económica que se dio en los años 2008-2009, que tuvieron fuertes consecuencias a nivel mundial, y para el caso del artículo, en Estados Unidos uno de los efectos de este suceso fue que las tasas de interés de corto plazo alcanzaran niveles muy cercanos a 0%. Esto sería denominado como una trampa de liquidez, donde la demanda de dinero se vuelve perfectamente elástica. Ante esta situación, la Reserva Federal decide trazar la trayectoria de la tasa de interés a corto plazo e implementar un plan de flexibilización cuantitativa, una herramienta no convencional de política monetaria para aumentar la oferta monetaria a través de la compra de bonos de largo plazo. Mendoza, entonces, procederá a construir un modelo de oferta y demanda agregada, incluyendo la implementación de herramientas de política monetaria no convencional como las que se utilizaron en el caso descrito. Con esto el autor intenta contestar cuál sería la eficacia de distintas políticas monetarias, tanto las convencionales como el mover la trayectoria de la tasa de interés, así como las no convencionales.\n",
    "El principal aporte de este artículo al conocimiento acerca de esta pregunta sería la aproximación keynesiana que propone al momento de desarrollar el modelo. Tomando en cuenta que el autor señala que la mayoría de trabajos que han estudiado la política no convencional de la Reserva Federal han utilizado modelos dinámicos y estocásticos, al partir de un modelo keynesiano, demostraría la eficacia que mantiene una opción teórica tradicional, expandiéndola y modificándola para conseguir resultados favorables. Considero que este elemento también sería una fortaleza que presenta el trabajo estudiado, ya que, a parte de la singular aproximación del autor, permite que sea entendido por una mayor cantidad de lectores, siendo las teorías clásicas como el keynesianismo mayormente estudiadas en diversas instancias académicas.\n",
    "El modelo construido y mostrado en este artículo es bastante efectivo y consigue demostrar los efectos de diversas políticas macroeconómicas en la economía, así como el de otros eventos como las variaciones en la oferta, producción, precios, entre otros. Sin embargo, aunque se haya centrado la motivación de esta investigación en el funcionamiento de la flexibilización cuantitativa, el artículo podría profundizar más en explicar su impacto en el proceso de recuperación durante la crisis de 2008-2009, así como sus fundamentos, efectos a nivel mundial y principales críticas.\n",
    "A modo de ejemplo, el trabajo de Caldentey aborda los efectos de esta medida, explicando que a pesar de que haya conseguido tener un efecto positivo en el desempeño del mercado internacional de bonos, no tuvo impacto directo en la liquidez y presentó un desafío contra la estabilidad financiera, debido a que reforzó el papel de la industria de gestión de activos dentro del mercado financiero (2018: 167).\n",
    "\n",
    "Bibliografía:\n",
    "\n",
    "Caldentey, E. P. (2018). Impacto de la política de flexibilización cuantitativa en la liquidez mundial y la estabilidad financiera. Estudios sobre financierización en América Latina, 141.\n",
    "\n",
    "https://www.researchgate.net/profile/Esteban-Caldentey-2/publication/325205768_Libro_Estudios_sobre_la_financierizacion_en_America_Latina/links/5afdbcf4458515e9a523e342/Libro-Estudios-sobre-la-financierizacion-en-America-Latina.pdf#page=142\n"
   ]
  },
  {
   "cell_type": "markdown",
   "id": "a9113066",
   "metadata": {},
   "source": [
    "# Parte 2: Código"
   ]
  },
  {
   "cell_type": "markdown",
   "id": "52a5238b",
   "metadata": {},
   "source": [
    "### 1.1 Encuentre las ecuaciones de Ingreso  y tasa de interes  de equilibrio(Escriba paso a paso la derivacion de estas ecuaciones)."
   ]
  },
  {
   "cell_type": "markdown",
   "id": "d58e4a3e",
   "metadata": {},
   "source": [
    "Teniendo en cuenta por un lado la ecuación de la recta IS:"
   ]
  },
  {
   "cell_type": "markdown",
   "id": "e9095d5d",
   "metadata": {},
   "source": [
    "$$ r = \\frac{B_0}{h} - \\frac{B_1}{h}Y $$\n",
    "\n",
    "\n",
    "Donde: $ B_0 = C_0 + I_0 + G_0 + X_0 $  y  $ B_1 = 1 - (b − m)(1 − t). $"
   ]
  },
  {
   "cell_type": "markdown",
   "id": "8c796a75",
   "metadata": {},
   "source": [
    "Y por otro la de la recta LM:"
   ]
  },
  {
   "cell_type": "markdown",
   "id": "e273abb1",
   "metadata": {},
   "source": [
    "$$ r=-\\frac{1}{j}\\frac{M_0^s}{P_0}+\\frac{k}{j}Y $$"
   ]
  },
  {
   "cell_type": "markdown",
   "id": "71e83c3e",
   "metadata": {},
   "source": [
    "Podemos igualar ambas ecuaciones para poder hallar el nivel de ingresos de equilibrio $ (Y^e) $ y luego sustituir el valor de Y hallado para conseguir la tasa de interés de equilibrio $ (r^e) $."
   ]
  },
  {
   "cell_type": "markdown",
   "id": "388657b1",
   "metadata": {},
   "source": [
    "$$ \\frac{B_0}{h} - \\frac{B_1}{h}Y=-\\frac{1}{j}\\frac{M_0^s}{P_0}+\\frac{k}{j}Y $$"
   ]
  },
  {
   "cell_type": "markdown",
   "id": "ebee4bc4",
   "metadata": {},
   "source": [
    "Nuestro nivel de ingresos de equilibrio para el modelo IS-LM sería el siguiente:"
   ]
  },
  {
   "cell_type": "markdown",
   "id": "825101a7",
   "metadata": {},
   "source": [
    "$$ Y^e= \\frac{jB_0}{kh+jB_1}+(\\frac{h}{kh+jB_1})\\frac{M_0^s}{P_0} $$"
   ]
  },
  {
   "cell_type": "markdown",
   "id": "0bbd9c87",
   "metadata": {},
   "source": [
    "Reemplazando el valor de $ (Y^e) $ en una de las ecuaciones de las rectas podemos obtener la tasa de interés de equilibrio."
   ]
  },
  {
   "cell_type": "markdown",
   "id": "0288b6c5",
   "metadata": {},
   "source": [
    "$$ r^e=-\\frac{1}{j}\\frac{M_0^s}{P_0}+\\frac{k}{j}(\\frac{jB_0}{kh+jB_1}+(\\frac{h}{kh+jB_1})\\frac{M_0^s}{P_0}) $$"
   ]
  },
  {
   "cell_type": "markdown",
   "id": "ccd0953d",
   "metadata": {},
   "source": [
    "La tasa de interés de equilibrio para el modelo IS-LM sería el siguiente:"
   ]
  },
  {
   "cell_type": "markdown",
   "id": "6d2c0b2b",
   "metadata": {},
   "source": [
    "$$ r^e=\\frac{kB_0}{kh+jB_1}-(\\frac{B_1}{kh+jB_1})\\frac{M_0^s}{P_0} $$"
   ]
  },
  {
   "cell_type": "markdown",
   "id": "50683320",
   "metadata": {},
   "source": [
    "### 1.2 Grafique el equilibrio simultáneo en los mercados de bienes y de dinero."
   ]
  },
  {
   "cell_type": "code",
   "execution_count": 1,
   "id": "0fad5293",
   "metadata": {},
   "outputs": [],
   "source": [
    "%matplotlib widget\n",
    "%matplotlib inline\n",
    "import ipywidgets as widgets\n",
    "import matplotlib.pyplot as plt\n",
    "import numpy as np\n",
    "import sympy as sy\n",
    "from sympy import *\n",
    "import pandas as pd\n",
    "from causalgraphicalmodels import CausalGraphicalModel"
   ]
  },
  {
   "cell_type": "code",
   "execution_count": 2,
   "id": "90493d47",
   "metadata": {},
   "outputs": [],
   "source": [
    "  # Curva IS\n",
    "\n",
    "# Parámetros\n",
    "\n",
    "Y_size = 100 \n",
    "\n",
    "Co = 25\n",
    "Io = 50\n",
    "Go = 40\n",
    "Xo = 2.5\n",
    "h = 0.7\n",
    "b = 0.8\n",
    "m = 0.3\n",
    "t = 0.6\n",
    "\n",
    "Y = np.arange(Y_size)\n",
    "\n",
    "\n",
    "# Ecuación \n",
    "def r_IS(b, m, t, Co, Io, Go, Xo, h, Y):\n",
    "    r_IS = (Co + Io + Go + Xo)/h - ( ( 1-(b-m)*(1-t) ) / h)*Y  \n",
    "    return r_IS\n",
    "\n",
    "r_is = r_IS(b, m, t, Co, Io, Go, Xo, h, Y)\n",
    "\n",
    "\n",
    "#--------------------------------------------------\n",
    "    # Curva LM \n",
    "\n",
    "# Parámetros\n",
    "\n",
    "Y_size = 100\n",
    "\n",
    "k = 1.5\n",
    "j = 1.2                \n",
    "Ms = 300             \n",
    "P  = 25               \n",
    "\n",
    "Y = np.arange(Y_size)\n",
    "\n",
    "# Ecuación\n",
    "\n",
    "def r_LM(k, j, Ms, P, Y):\n",
    "    r_LM = - (1/j)*(Ms/P) + (k/j)*Y\n",
    "    return r_LM\n",
    "\n",
    "r_lm = r_LM( k, j, Ms, P, Y)"
   ]
  },
  {
   "cell_type": "code",
   "execution_count": 24,
   "id": "f6519509",
   "metadata": {},
   "outputs": [
    {
     "data": {
      "image/png": "[encoded data removed]",
      "text/plain": [
       "<Figure size 720x576 with 1 Axes>"
      ]
     },
     "metadata": {},
     "output_type": "display_data"
    }
   ],
   "source": [
    "# Gráfico del modelo IS-LM\n",
    "\n",
    "# Dimensiones del gráfico\n",
    "y_max = np.max(r_lm)\n",
    "fig, ax = plt.subplots(figsize=(10, 8))\n",
    "\n",
    "# Curvas a graficar\n",
    "# Curva IS\n",
    "ax.plot(Y, r_is, label = \"IS\", color = \"C6\") #IS\n",
    "# Curva LM\n",
    "ax.plot(Y, r_lm, label=\"LM\", color = \"C4\")  #LM\n",
    "\n",
    "# Eliminar las cantidades de los ejes\n",
    "ax.yaxis.set_major_locator(plt.NullLocator())   \n",
    "ax.xaxis.set_major_locator(plt.NullLocator())\n",
    "\n",
    "# Texto y figuras agregadas\n",
    "# Graficar la linea horizontal - r\n",
    "plt.axvline(x=74,  ymin= 0, ymax= 0.52, linestyle = \":\", color = \"black\")\n",
    "# Grafica la linea vertical - Y\n",
    "plt.axhline(y=82.5, xmin= 0, xmax= 0.72, linestyle = \":\", color = \"black\")\n",
    "\n",
    "# Plotear los textos \n",
    "plt.text(74,83, '$E_0$', fontsize = 14, color = 'black')\n",
    "plt.text(0,83, '$r_0$', fontsize = 12, color = 'black')\n",
    "plt.text(74,-10, '$Y_0$', fontsize = 12, color = 'black')\n",
    "\n",
    "# Título, ejes y leyenda\n",
    "ax.set(title=\"IS-LM Model\", xlabel= r'Y', ylabel= r'r')\n",
    "ax.legend()\n",
    "\n",
    "plt.show()"
   ]
  },
  {
   "cell_type": "markdown",
   "id": "147d8619",
   "metadata": {},
   "source": [
    "## 2. Estática comparativa"
   ]
  },
  {
   "cell_type": "markdown",
   "id": "6758f7d5",
   "metadata": {},
   "source": [
    "### 2.1 Analice los efectos sobre las variables endógenas Y, r de una disminución del gasto fiscal $(ΔG_0<0)$ . El análisis debe ser intuitivo, matemático y gráfico."
   ]
  },
  {
   "cell_type": "markdown",
   "id": "b73b4638",
   "metadata": {},
   "source": [
    "Intuitivo:\n",
    "    \n",
    "Una política fiscal contractiva $(ΔG_0<0)$, al formar parte de la recta de la demanda agregada dentro del mercado de bienes, causará que esta se desplace negativamente. Esto causará que el nivel de ingresos $(Y)$ disminuya para el nuevo equilibrio en el mercado de bienes. Dentro del mercado de dinero, al haberse disminuido el nivel de ingresos $(Y)$, al ser un componente de la recta de la demanda de dinero, esta se desplazará negativamente. Para volver al punto de equilibrio entre demanda y oferta, la tasa de interés de equilibrio $(r)$ disminuirá. Por tanto, ante una disminución del gasto fiscal, en el modelo IS-LM, la tasa de interés de equilibrio y el nivel de ingresos de equilibrio disminuirán."
   ]
  },
  {
   "cell_type": "markdown",
   "id": "241cc1de",
   "metadata": {},
   "source": [
    "- Mercado de bienes"
   ]
  },
  {
   "cell_type": "markdown",
   "id": "5c1db3ad",
   "metadata": {},
   "source": [
    "$$ G_0↓→DA↓→DA<Y→Y↓ $$"
   ]
  },
  {
   "cell_type": "markdown",
   "id": "71d43986",
   "metadata": {},
   "source": [
    "- Mercado de dinero"
   ]
  },
  {
   "cell_type": "markdown",
   "id": "c201ac63",
   "metadata": {},
   "source": [
    "$$ Y↓→Md↓→Md<Ms→r↓ $$"
   ]
  },
  {
   "cell_type": "markdown",
   "id": "db2a51b9",
   "metadata": {},
   "source": [
    "Matemático:"
   ]
  },
  {
   "cell_type": "markdown",
   "id": "c5cca89b",
   "metadata": {},
   "source": [
    "$$  ΔY=\\dfrac{j(C_0+I_0+ΔG_0+X_0)}{B_1j+kh}+\\dfrac{h}{B_1j+kh}\\dfrac{M_0^s}{P_0}  $$\n",
    "\n",
    "\n",
    "$$  ΔY=\\dfrac{jΔG_0}{B_1j+kh}  $$\n",
    "\n",
    "\n",
    "$$  \\dfrac{ΔY}{ΔG_0}=\\dfrac{j}{B_1j+kh}<0  $$\n",
    "\n",
    "\n",
    "$$  Δr=\\dfrac{k(C_0+I_0+ΔG_0+X_0)}{hk+jB_1}-\\dfrac{B_1}{hk+jB_1}\\dfrac{M_0^s}{P_0}  $$\n",
    "\n",
    "\n",
    "$$  Δr=\\dfrac{kΔG_0}{hk+jB_1}  $$\n",
    "\n",
    "\n",
    "$$  \\dfrac{Δr}{ΔG_0}=\\dfrac{k}{h+jB_1}<0  $$"
   ]
  },
  {
   "cell_type": "markdown",
   "id": "944b8de8",
   "metadata": {},
   "source": [
    "Demostración gráfica:"
   ]
  },
  {
   "cell_type": "code",
   "execution_count": 31,
   "id": "d9ce8c79",
   "metadata": {},
   "outputs": [],
   "source": [
    " # Curva IS ORIGINAL\n",
    "\n",
    "# Parámetros\n",
    "\n",
    "Y_size = 100 \n",
    "\n",
    "Co = 25\n",
    "Io = 50\n",
    "Go = 40\n",
    "Xo = 2.5\n",
    "h = 0.7\n",
    "b = 0.8\n",
    "m = 0.3\n",
    "t = 0.6\n",
    "\n",
    "Y = np.arange(Y_size)\n",
    "\n",
    "\n",
    "# Ecuación \n",
    "def r_IS(b, m, t, Co, Io, Go, Xo, h, Y):\n",
    "    r_IS = (Co + Io + Go + Xo - Y * (1-(b-m)*(1-t)))/h\n",
    "    return r_IS\n",
    "\n",
    "r = r_IS(b, m, t, Co, Io, Go, Xo, h, Y)\n",
    "\n",
    "\n",
    "#2--------------------------------------------------\n",
    "    # Curva LM ORIGINAL\n",
    "\n",
    "# Parámetros\n",
    "\n",
    "Y_size = 100\n",
    "\n",
    "k = 1.5\n",
    "j = 1.2                \n",
    "Ms = 300             \n",
    "P  = 25             \n",
    "\n",
    "Y = np.arange(Y_size)\n",
    "\n",
    "# Ecuación\n",
    "\n",
    "def i_LM( k, j, Ms, P, Y):\n",
    "    i_LM = (-Ms/P)/j + k/j*Y\n",
    "    return i_LM\n",
    "\n",
    "i = i_LM( k, j, Ms, P, Y)"
   ]
  },
  {
   "cell_type": "code",
   "execution_count": 44,
   "id": "95ba144b",
   "metadata": {},
   "outputs": [],
   "source": [
    "    # NUEVA curva IS: reducción Gasto de Gobierno (Go)\n",
    "    \n",
    "# Definir SOLO el parámetro cambiado\n",
    "Go = 20\n",
    "\n",
    "# Generar la ecuación con el nuevo parámetro\n",
    "def r_IS(b, m, t, Co, Io, Go, Xo, h, Y):\n",
    "     r_IS = (Co + Io + Go + Xo - Y * (1-(b-m)*(1-t)))/h\n",
    "     return r_IS\n",
    "\n",
    "r_G = r_IS(b, m, t, Co, Io, Go, Xo, h, Y)"
   ]
  },
  {
   "cell_type": "code",
   "execution_count": 74,
   "id": "ced7f443",
   "metadata": {},
   "outputs": [
    {
     "data": {
      "image/png": "[encoded data removed]",
      "text/plain": [
       "<Figure size 720x576 with 1 Axes>"
      ]
     },
     "metadata": {
      "needs_background": "light"
     },
     "output_type": "display_data"
    }
   ],
   "source": [
    "# Gráfico\n",
    "\n",
    "# Dimensiones del gráfico\n",
    "y_max = np.max(i)\n",
    "fig, ax = plt.subplots(figsize=(10, 8))\n",
    "\n",
    "# Curvas a graficar\n",
    "ax.plot(Y, r, label = \"IS_(G_0)\", color = \"#FF5733\") #IS_orginal\n",
    "ax.plot(Y, r_G, label = \"IS_(G_1)\", color = \"#33FF7A\", linestyle = 'dashed') #IS_modificada\n",
    "\n",
    "ax.plot(Y, i, label=\"LM\", color = \"C0\")  #LM_original\n",
    "\n",
    "# Texto y figuras agregadas\n",
    "plt.axvline(x=74,  ymin= 0, ymax= 0.52, linestyle = \":\", color = \"black\")\n",
    "plt.axhline(y=82.5, xmin= 0, xmax= 0.72, linestyle = \":\", color = \"black\")\n",
    "\n",
    "plt.axvline(x=62.5,  ymin= 0, ymax= 0.445, linestyle = \":\", color = \"black\")\n",
    "plt.axhline(y=67.5, xmin= 0, xmax= 0.62, linestyle = \":\", color = \"black\")\n",
    "plt.text(74,82.5, '$E_0$', fontsize = 14, color = 'black')\n",
    "\n",
    "plt.text(62.5,67.5, '$E_1$', fontsize = 14, color = 'black')\n",
    "plt.text(-1,82.5, '$r_0$', fontsize = 12, color = 'black')\n",
    "plt.text(75,-10, '$Y_0$', fontsize = 12, color = 'black')\n",
    "plt.text(-1,67.5, '$r_1$', fontsize = 12, color = 'black')\n",
    "plt.text(63,-10, '$Y_1$', fontsize = 12, color = 'black')\n",
    "\n",
    "# Título, ejes y leyenda\n",
    "ax.set(title=\"Politica Fiscal Contractiva\", xlabel= r'Y', ylabel= r'r')\n",
    "ax.legend()\n",
    "\n",
    "plt.show()"
   ]
  },
  {
   "cell_type": "markdown",
   "id": "6b2be2a8",
   "metadata": {},
   "source": [
    "### 2.2 Analice los efectos sobre las variables endógenas Y, r de una disminución de la masa monetaria $(ΔM^s<0)$ . El análisis debe ser intuitivo, matemático y gráfico."
   ]
  },
  {
   "cell_type": "markdown",
   "id": "b2bbc353",
   "metadata": {},
   "source": [
    "Intuitivo:"
   ]
  },
  {
   "cell_type": "markdown",
   "id": "ddac185a",
   "metadata": {},
   "source": [
    "Una política monetaria contractiva $(ΔM^s<0)$ causará que la oferta real de dinero $(M^o)$ disminuya dentro del mercado de dinero. Para volver al equilibrio entre oferta y demanda de dinero, la tasa de interés de equilibrio aumentará. El efecto del aumento en la tasa de interés dentro del mercado de bienes será que el gasto en inversión disminuya, lo que hará que la demanda agregada sea menor que el nivel de ingresos, y por tanto este valor se reducirá para regresar al equilibrio."
   ]
  },
  {
   "cell_type": "markdown",
   "id": "e35a85bf",
   "metadata": {},
   "source": [
    "- Mercado de dinero:"
   ]
  },
  {
   "cell_type": "markdown",
   "id": "a74c6105",
   "metadata": {},
   "source": [
    "$$ M^s↓→M^o↓→M^o<M^d→r↑ $$"
   ]
  },
  {
   "cell_type": "markdown",
   "id": "9c27d6ed",
   "metadata": {},
   "source": [
    "- Mercado de bienes:"
   ]
  },
  {
   "cell_type": "markdown",
   "id": "8d8333b8",
   "metadata": {},
   "source": [
    "$$ r↑→I↓→DA<Y→Y↓ $$"
   ]
  },
  {
   "cell_type": "markdown",
   "id": "9bb29516",
   "metadata": {},
   "source": [
    "Matemático:"
   ]
  },
  {
   "cell_type": "markdown",
   "id": "05806208",
   "metadata": {},
   "source": [
    "$$  ΔY=\\dfrac{jB_0}{B_1j+kh}+\\dfrac{h}{B_1j+kh}*\\dfrac{ΔM_0^s}{P_0}  $$\n",
    "\n",
    "\n",
    "$$  ΔY=\\dfrac{h}{B_1jkh}\\dfrac{ΔM_0^s}{P_0}  $$\n",
    "\n",
    "\n",
    "$$  \\dfrac{ΔY}{ΔM_0^s}=\\dfrac{h}{(B_1j+kh)P_0}<0  $$\n",
    "\n",
    "\n",
    "$$  Δr=\\dfrac{kB_0}{hk+jB_1}-\\dfrac{B_1}{hk+jB_1}\\dfrac{ΔM_0^s}{P_0}  $$\n",
    "\n",
    "\n",
    "$$  Δr=-\\dfrac{B_1}{hk+jB_1}\\dfrac{ΔM_0^s}{P_0}  $$\n",
    "\n",
    "\n",
    "$$  \\dfrac{Δr}{ΔM_0^s}=-\\dfrac{B_1}{(hk+jB_1)P_0}>0  $$"
   ]
  },
  {
   "cell_type": "markdown",
   "id": "5ab108c0",
   "metadata": {},
   "source": [
    "Demostración gráfica:"
   ]
  },
  {
   "cell_type": "code",
   "execution_count": 75,
   "id": "b0af1845",
   "metadata": {},
   "outputs": [],
   "source": [
    "# Curva IS ORIGINAL\n",
    "\n",
    "# Parámetros\n",
    "\n",
    "Y_size = 100 \n",
    "\n",
    "Co = 25\n",
    "Io = 50\n",
    "Go = 40\n",
    "Xo = 2.5\n",
    "h = 0.7\n",
    "b = 0.8\n",
    "m = 0.3\n",
    "t = 0.6\n",
    "\n",
    "Y = np.arange(Y_size)\n",
    "\n",
    "\n",
    "# Ecuación \n",
    "def r_IS(b, m, t, Co, Io, Go, Xo, h, Y):\n",
    "    r_IS = (Co + Io + Go + Xo - Y * (1-(b-m)*(1-t)))/h\n",
    "    return r_IS\n",
    "\n",
    "r = r_IS(b, m, t, Co, Io, Go, Xo, h, Y)\n",
    "\n",
    "\n",
    "#2--------------------------------------------------\n",
    "    # Curva LM ORIGINAL\n",
    "\n",
    "# Parámetros\n",
    "\n",
    "Y_size = 100\n",
    "\n",
    "k = 1.5\n",
    "j = 1.2                \n",
    "Ms = 300             \n",
    "P  = 25              \n",
    "\n",
    "Y = np.arange(Y_size)\n",
    "\n",
    "# Ecuación\n",
    "\n",
    "def i_LM( k, j, Ms, P, Y):\n",
    "    i_LM = (-Ms/P)/j + k/j*Y\n",
    "    return i_LM\n",
    "\n",
    "i = i_LM( k, j, Ms, P, Y)"
   ]
  },
  {
   "cell_type": "code",
   "execution_count": 76,
   "id": "66bbae1f",
   "metadata": {},
   "outputs": [],
   "source": [
    "# Definir SOLO el parámetro cambiado\n",
    "Ms = 100\n",
    "\n",
    "# Generar nueva curva LM con la variacion del Ms\n",
    "def i_LM_Ms( k, j, Ms, P, Y):\n",
    "    i_LM = (-Ms/P)/j + k/j*Y\n",
    "    return i_LM\n",
    "\n",
    "i_Ms = i_LM_Ms( k, j, Ms, P, Y)"
   ]
  },
  {
   "cell_type": "code",
   "execution_count": 102,
   "id": "70144ef3",
   "metadata": {},
   "outputs": [
    {
     "data": {
      "image/png": "[encoded data removed]",
      "text/plain": [
       "<Figure size 720x576 with 1 Axes>"
      ]
     },
     "metadata": {
      "needs_background": "light"
     },
     "output_type": "display_data"
    }
   ],
   "source": [
    "# Gráfico\n",
    "\n",
    "# Dimensiones del gráfico\n",
    "y_max = np.max(i)\n",
    "fig, ax = plt.subplots(figsize=(10, 8))\n",
    "\n",
    "# Curvas a graficar\n",
    "ax.plot(Y, r, label = \"IS\", color = \"#4C33FF\") #IS_orginal\n",
    "ax.plot(Y, i, label=\"LM_(MS_0)\", color = \"#33FFAC\")  #LM_original\n",
    "\n",
    "ax.plot(Y, i_Ms, label=\"LM_(MS_1)\", color = \"#FF33CA\", linestyle = 'dashed')  #LM_modificada\n",
    "\n",
    "# Lineas de equilibrio_0 \n",
    "plt.axvline(x=74,  ymin= 0, ymax= 0.52, linestyle = \":\", color = \"black\")\n",
    "plt.axhline(y=82.5, xmin= 0, xmax= 0.72, linestyle = \":\", color = \"black\")\n",
    "\n",
    "# Lineas de equilibrio_1 \n",
    "plt.axvline(x=71.5,  ymin= 0, ymax= 0.53, linestyle = \":\", color = \"black\")\n",
    "plt.axhline(y=86, xmin= 0, xmax= 0.70, linestyle = \":\", color = \"black\")\n",
    "plt.text(70,87, '$E_1$', fontsize = 14, color = 'black')\n",
    "\n",
    "# Textos ploteados\n",
    "plt.text(75,82, '$E_0$', fontsize = 14, color = 'black')\n",
    "plt.text(-1,78, '$r_0$', fontsize = 12, color = 'black')\n",
    "plt.text(75,-10, '$Y_0$', fontsize = 12, color = 'black')\n",
    "plt.text(-1,87, '$r_1$', fontsize = 12, color = 'black')\n",
    "plt.text(68,-10, '$Y_1$', fontsize = 12, color = 'black')\n",
    "\n",
    "# Título, ejes y leyenda\n",
    "ax.set(title=\"Efecto de una disminución de la masa monetaria\", xlabel= r'Y', ylabel= r'r')\n",
    "ax.legend()\n",
    "\n",
    "plt.show()\n"
   ]
  },
  {
   "cell_type": "markdown",
   "id": "71f45f34",
   "metadata": {},
   "source": [
    "### 2.3 Analice los efectos sobre las variables endógenas Y, r de un incremento de la tasa de impuestos $(Δt>0)$ . El análisis debe ser intuitivo, matemático y gráfico."
   ]
  },
  {
   "cell_type": "markdown",
   "id": "7c94346d",
   "metadata": {},
   "source": [
    "Intuitivo:"
   ]
  },
  {
   "cell_type": "markdown",
   "id": "2ebd7b1e",
   "metadata": {},
   "source": [
    "Si la tasa de impuestos aumenta $(Δt>0)$, al encontrarse este componente en la pendiente de la curva de la demanda agregada, causará que esta se empine negativamente. Esto, para el mercado de bienes, implicará que el nivel de ingresos disminuya para volver al equilibrio. En el mercado de dinero, una disminución en en nivel de ingresos causará que el nivel de demanda disminuya, y para regresar al equilibrio con la oferta de dinero, la tasa de interés de equilibrio tendrá disminuir."
   ]
  },
  {
   "cell_type": "markdown",
   "id": "b01225d1",
   "metadata": {},
   "source": [
    "- Mercado de bienes:"
   ]
  },
  {
   "cell_type": "markdown",
   "id": "ea387293",
   "metadata": {},
   "source": [
    "$$ t↑→DA↓→DA<Y→Y↓ $$"
   ]
  },
  {
   "cell_type": "markdown",
   "id": "1f084d21",
   "metadata": {},
   "source": [
    "- Mercado de dinero:"
   ]
  },
  {
   "cell_type": "markdown",
   "id": "466e4ad0",
   "metadata": {},
   "source": [
    "$$ Y↓→Md↓→Md<Ms→r↓ $$"
   ]
  },
  {
   "cell_type": "markdown",
   "id": "ed93d06b",
   "metadata": {},
   "source": [
    "Matemático:"
   ]
  },
  {
   "cell_type": "markdown",
   "id": "a2ea9e10",
   "metadata": {},
   "source": [
    "$$  ΔY=\\dfrac{jB_0+h}{j-jb+jm+(jb-jm)Δt+kh}*\\dfrac{M_0^s}{P_0}<0  $$\n",
    "\n",
    "\n",
    "$$  Δr=\\dfrac{kB_0}{hk+j-jb+jm+(jb-jm)Δt}-\\dfrac{(1-b+m+(b-m)Δt)}{hk+j-jb+jm+(jb-jm)Δt}\\dfrac{M_0^s}{P_0}<0  $$\n"
   ]
  },
  {
   "cell_type": "markdown",
   "id": "d95883bd",
   "metadata": {},
   "source": [
    "Demostración gráfica:"
   ]
  },
  {
   "cell_type": "code",
   "execution_count": 103,
   "id": "e4a581aa",
   "metadata": {},
   "outputs": [],
   "source": [
    "# Curva IS ORIGINAL\n",
    "\n",
    "# Parámetros\n",
    "\n",
    "Y_size = 100 \n",
    "\n",
    "Co = 25\n",
    "Io = 50\n",
    "Go = 40\n",
    "Xo = 2.5\n",
    "h = 0.7\n",
    "b = 0.8\n",
    "m = 0.3\n",
    "t = 0.6\n",
    "\n",
    "Y = np.arange(Y_size)\n",
    "\n",
    "\n",
    "# Ecuación \n",
    "def r_IS(b, m, t, Co, Io, Go, Xo, h, Y):\n",
    "    r_IS = (Co + Io + Go + Xo - Y * (1-(b-m)*(1-t)))/h\n",
    "    return r_IS\n",
    "\n",
    "r = r_IS(b, m, t, Co, Io, Go, Xo, h, Y)\n",
    "\n",
    "\n",
    "#2--------------------------------------------------\n",
    "    # Curva LM ORIGINAL\n",
    "\n",
    "# Parámetros\n",
    "\n",
    "Y_size = 100\n",
    "\n",
    "k = 1.5\n",
    "j = 1.2                \n",
    "Ms = 300             \n",
    "P  = 25             \n",
    "\n",
    "Y = np.arange(Y_size)\n",
    "\n",
    "# Ecuación\n",
    "\n",
    "def i_LM( k, j, Ms, P, Y):\n",
    "    i_LM = (-Ms/P)/j + k/j*Y\n",
    "    return i_LM\n",
    "\n",
    "i = i_LM( k, j, Ms, P, Y)"
   ]
  },
  {
   "cell_type": "code",
   "execution_count": 105,
   "id": "22d9488c",
   "metadata": {},
   "outputs": [],
   "source": [
    "   # NUEVA curva IS: incremento de la tasa de impuestos (t)\n",
    "    \n",
    "# Definir SOLO el parámetro cambiado\n",
    "t = 0.9\n",
    "\n",
    "# Generar la ecuación con el nuevo parámetro\n",
    "def r_IS(b, m, t, Co, Io, Go, Xo, h, Y):\n",
    "     r_IS = (Co + Io + Go + Xo - Y * (1-(b-m)*(1-t)))/h\n",
    "     return r_IS\n",
    "\n",
    "r_t = r_IS(b, m, t, Co, Io, Go, Xo, h, Y)"
   ]
  },
  {
   "cell_type": "code",
   "execution_count": 123,
   "id": "53fd2e8d",
   "metadata": {},
   "outputs": [
    {
     "data": {
      "image/png": "[encoded data removed]",
      "text/plain": [
       "<Figure size 720x576 with 1 Axes>"
      ]
     },
     "metadata": {
      "needs_background": "light"
     },
     "output_type": "display_data"
    }
   ],
   "source": [
    "# Gráfico\n",
    "\n",
    "# Dimensiones del gráfico\n",
    "y_max = np.max(i)\n",
    "fig, ax = plt.subplots(figsize=(10, 8))\n",
    "\n",
    "# Curvas a graficar\n",
    "ax.plot(Y, r, label = \"IS_(t_0)\", color = \"#33FFF6\") #IS_orginal\n",
    "ax.plot(Y, r_t, label = \"IS_(t_1)\", color = \"#FFF633\", linestyle = 'dashed') #IS_modificada\n",
    "\n",
    "ax.plot(Y, i, label=\"LM\", color = \"#FF33CE\")  #LM_original\n",
    "\n",
    "# Texto y figuras agregadas\n",
    "plt.axvline(x=74.5,  ymin= 0, ymax= 0.52, linestyle = \":\", color = \"black\")\n",
    "plt.axhline(y=82.5, xmin= 0, xmax= 0.72, linestyle = \":\", color = \"black\")\n",
    "\n",
    "plt.axvline(x=68,  ymin= 0, ymax= 0.48, linestyle = \":\", color = \"black\")\n",
    "plt.axhline(y=74.5, xmin= 0, xmax= 0.67, linestyle = \":\", color = \"black\")\n",
    "plt.text(74,82.5, '$E_0$', fontsize = 14, color = 'black')\n",
    "\n",
    "plt.text(68,75, '$E_1$', fontsize = 14, color = 'black')\n",
    "plt.text(-1,82.5, '$r_0$', fontsize = 12, color = 'black')\n",
    "plt.text(75,-10, '$Y_0$', fontsize = 12, color = 'black')\n",
    "plt.text(-1,67.5, '$r_1$', fontsize = 12, color = 'black')\n",
    "plt.text(63,-10, '$Y_1$', fontsize = 12, color = 'black')\n",
    "\n",
    "# Título, ejes y leyenda\n",
    "ax.set(title=\"Efecto de un incremento de la tasa de impuestos\", xlabel= r'Y', ylabel= r'r')\n",
    "ax.legend()\n",
    "\n",
    "plt.show()"
   ]
  },
  {
   "cell_type": "code",
   "execution_count": null,
   "id": "83ecd9fe",
   "metadata": {},
   "outputs": [],
   "source": []
  }
 ],
 "metadata": {
  "kernelspec": {
   "display_name": "Python 3 (ipykernel)",
   "language": "python",
   "name": "python3"
  },
  "language_info": {
   "codemirror_mode": {
    "name": "ipython",
    "version": 3
   },
   "file_extension": ".py",
   "mimetype": "text/x-python",
   "name": "python",
   "nbconvert_exporter": "python",
   "pygments_lexer": "ipython3",
   "version": "3.9.12"
  }
 },
 "nbformat": 4,
 "nbformat_minor": 5
}
