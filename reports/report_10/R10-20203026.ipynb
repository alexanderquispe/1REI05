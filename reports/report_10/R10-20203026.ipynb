{
 "cells": [
  {
   "cell_type": "code",
   "execution_count": 1,
   "id": "9623ec05",
   "metadata": {},
   "outputs": [],
   "source": [
    "import numpy as np\n",
    "import pandas as pd\n",
    "import matplotlib.pyplot as plt\n",
    "import seaborn as sns, warnings\n",
    "import statsmodels.formula.api as smf\n",
    "warnings.filterwarnings('ignore')\n",
    "from causalgraphicalmodels import CausalGraphicalModel\n",
    "from cProfile import label\n",
    "%matplotlib inline"
   ]
  },
  {
   "cell_type": "markdown",
   "id": "e73cb8d0",
   "metadata": {},
   "source": [
    "# Reporte 10\n",
    "\n",
    "### Belén Herrada Ruiz - 20203026\n",
    "\n",
    "###  Parte 1\n",
    "\n",
    "#### Ensayo: (2019). Who becomes an inventor in America? The importance of exposure to innovation. The Quarterly Journal of Economics - Bell, A., Chetty, R., Jaravel, X., Petkova, N., & Van Reenen, J. "
   ]
  },
  {
   "cell_type": "markdown",
   "id": "1d060cfd",
   "metadata": {},
   "source": [
    "La investigación realizada por Bell, Chetty, Jaravel, Petkovan y Van Reenen titulada ‘Who becomes an inventor in America? The importance of exposure to innovation’ que plantea cómo problemática a abordar la brecha de producción de inventos, específicamente caracterizan los factores que determinan quien se convierte en un inventor en los Estados Unidos. Esto debido a la importancia de la innovación para el crecimiento económico. Así, lograron presentar evidencia en los factores, que lo ocasionan al rastrear la vida de los inventores del país norteamericano desde su nacimiento a la adultez, y sus dimensiones  a través del ingreso de los padres, la “raza” y el género. Por tanto se puede identificar que la pregunta de investigación es ¿por qué la innovación varía tanto según las características al nacer? Este análisis de búsqueda del efecto causal tiene un enfoque en relación al papel que la capacidad inventiva de “naturaleza” frente al entorno a la “crianza”. \n",
    "\n",
    "Dentro de la investigación se han encontrado múltiples fortalezas. Por un lado, el enfoque de la investigación abarca diversas aristas sociales al momento de plantear posibles respuestas de investigación, ya que revelan una valorización a factores sociales como se ejemplifica al mencionar que sus estimaciones indican que si las mujeres, énfasis en la disparidad de género, estuviesen expuestas a mujeres inventoras como los hombres a los hombres inventores en su niñez, la actual brecha de género en innovación puede reducirse a la mitad. Esto demuestra el impacto que tiene una de las dimensiones analizadas. Asimismo, otra fortaleza es la línea de seguimiento de investigaciones previas, demostrando la consistencia de los efectos causales evidenciados, como los efectos de la exposición del vecindarios sobre ingresos, la asistencia a la universidad entre otros, lo cual se evidencia en lo hallado con respecto a que los niños de familias de bajos ingresos, las minorías  tienen menos probabilidades de tener tal exposición a través de sus familias y vecindarios, lo que ayuda a explicar por qué tienen índices de innovación significativamente más bajos en general. Por otro lado, ante estos análisis sociales se puede identificar que se tiene presente detrás de la investigación el reconocimiento de la existencia del privilegio de ciertos grupos que determinan el acceso y posibilidad de generar innovación. En cambio, una de las debilidades encontradas dentro del documento es la falta de orientación directa y clara sobre políticas específicas para aumentar la exposición a la innovación, carencia que es admitida por los mismos autores. \n",
    "\n",
    "De igual manera, con respectos a los aportes realizados a partir del documento es primero, con respecto a la literatura relacionada, porque genera una contribución a esta a partir de los resultados encontrados. Concretamente a la literatura de elección de carrera, ya que lograron separar los efectos de la exposición causal de los efectos de la selección e identificar los factores que afecta su elección, como el efecto causal de la exposición infantil y presenta datos completos y estadísticas disponibles públicamente sobre los orígenes y las carreras de los inventores en los Estados Unidos. Además, con sus resultados se pueden plantear que la posibilidad de que los costos de bienestar de las distorsiones en la asignación de talento puedan ser incluso mayores de lo previsto por otros modelos como  el de Hsieh.\n",
    "\n",
    "Por último, uno de los siguientes pasos específicos en la investigación se puede dar en la extrapolación de la problemática a América Latina. La brecha de innovación, que por los autores fue centrada en EE UU, a través de la investigación propongo que se analicen las mismas dimensiones consideradas en el documento de Bell et. all para responder si estas se reconfiguran en un contexto lationamericano. Para esto, instituciones como la CEPAL, en Capital de riesgo e innovación en América Latica (2008),  ya ha considerado factores que apoyan el proceso de producción y su relación métodos productivos en un contexto de rezago de la región en dicha materia. \n",
    "\n",
    "http://hdl.handle.net/11362/11287\n"
   ]
  },
  {
   "cell_type": "markdown",
   "id": "1836045b",
   "metadata": {},
   "source": [
    "### Parte 2 \n",
    "\n",
    "(a) La regresión discontinua es un diseño cuasi-experimental que permtie realizar una deducción en ausentia de la aletoriedad. Asimismo es una forma de identificado causal ante un experimetno natural; es decir utiliza data historica , como una intervención que escapa del individuo, y se le aplica metodología moderna. Así, logra explicar de una forma explicativa el efecto histórico de largo plazo de outcomes a través de un método que utilizan cortes hechos por ley o diseño.\n",
    "\n",
    "(b) Un caso que podría ejemplificar la utilización de la regresión discontinua se plantería en relación al terremoto de 2007 en Ica.  Especificamente si se busca analizar el efecto de este en la reubicación urbana de la población menor de edad al momento del desastre natural tras la destrucción de Pisco.\n",
    "\n",
    "(c)El sharp desing es un tipo de regresión discontiua para la construcción de modelos con el objetivo de identificar efectos causales de algun tratamiento. El cambio discontinuo en la probabilidad de ser parte del grupo de traamiento pasa de 0 a 1 en discontinuidad para asignar el tratamiento siguiendo una regla deterministas. Por lo que para que se inicie el tratamiento de la variable debe cruzar el umbral. Entonces, el sharp dising ocurre cuando la variable de asignación determina completamente la participación en el grupo de tratamietno a partir del punto de corte por lo que un ejemplo sería la implementación de una ley de salud por parte del gobierno, la cual beneficia especificamente a los mayores de 25 años. Así, el grupo de control sería los menores de 25 años y el punto de corte sería 25 años. Apartir de esto se podría medir la efectivdad de dicha ley con respecto. "
   ]
  },
  {
   "cell_type": "markdown",
   "id": "35132141",
   "metadata": {},
   "source": [
    "### Parte 3"
   ]
  },
  {
   "cell_type": "markdown",
   "id": "2785e4cb",
   "metadata": {},
   "source": [
    "#### 3.1"
   ]
  },
  {
   "cell_type": "code",
   "execution_count": 17,
   "id": "23f1d9bd",
   "metadata": {},
   "outputs": [],
   "source": [
    "dat = pd.DataFrame({'x': np.random.normal(50, 25, 1000)}) #50 siendo promedio y 25 varianza, puede elegir cualquier numero\n",
    "dat.loc[dat.x<0, 'x'] = 0 #ubicar las observaciones que x sea menor a 0\n",
    "dat = dat[dat.x<100]\n",
    "dat['D'] = 0 #generar una columna igual a 0\n",
    "# Cutoff\n",
    "dat.loc[dat.x>50, 'D'] = 1 #para todas las observaciones que su valor sea por encima del 50, la variable de tratamiento sea = 1\n",
    "# Simulated Y - se va a crear la variable Y, se generá la ecuasión\n",
    "dat['y'] = 15 + 22*dat.D + 2.5 * dat.x + np.random.normal(0, 20, dat.shape[0])\n",
    "# Not Treatment: los no tratados, de la columna D que son 0\n",
    "dat_0 = dat[dat.D == 0]\n",
    "# Treatment\n",
    "dat_1 = dat[dat.D == 1]"
   ]
  },
  {
   "cell_type": "code",
   "execution_count": 13,
   "id": "d70494c0",
   "metadata": {},
   "outputs": [
    {
     "data": {
      "text/html": [
       "<div>\n",
       "<style scoped>\n",
       "    .dataframe tbody tr th:only-of-type {\n",
       "        vertical-align: middle;\n",
       "    }\n",
       "\n",
       "    .dataframe tbody tr th {\n",
       "        vertical-align: top;\n",
       "    }\n",
       "\n",
       "    .dataframe thead th {\n",
       "        text-align: right;\n",
       "    }\n",
       "</style>\n",
       "<table border=\"1\" class=\"dataframe\">\n",
       "  <thead>\n",
       "    <tr style=\"text-align: right;\">\n",
       "      <th></th>\n",
       "      <th>x</th>\n",
       "    </tr>\n",
       "  </thead>\n",
       "  <tbody>\n",
       "    <tr>\n",
       "      <th>0</th>\n",
       "      <td>68.263640</td>\n",
       "    </tr>\n",
       "    <tr>\n",
       "      <th>1</th>\n",
       "      <td>47.924012</td>\n",
       "    </tr>\n",
       "    <tr>\n",
       "      <th>2</th>\n",
       "      <td>30.555317</td>\n",
       "    </tr>\n",
       "    <tr>\n",
       "      <th>3</th>\n",
       "      <td>58.261786</td>\n",
       "    </tr>\n",
       "    <tr>\n",
       "      <th>4</th>\n",
       "      <td>24.515660</td>\n",
       "    </tr>\n",
       "    <tr>\n",
       "      <th>...</th>\n",
       "      <td>...</td>\n",
       "    </tr>\n",
       "    <tr>\n",
       "      <th>995</th>\n",
       "      <td>53.305283</td>\n",
       "    </tr>\n",
       "    <tr>\n",
       "      <th>996</th>\n",
       "      <td>61.454734</td>\n",
       "    </tr>\n",
       "    <tr>\n",
       "      <th>997</th>\n",
       "      <td>95.325144</td>\n",
       "    </tr>\n",
       "    <tr>\n",
       "      <th>998</th>\n",
       "      <td>43.801551</td>\n",
       "    </tr>\n",
       "    <tr>\n",
       "      <th>999</th>\n",
       "      <td>38.023297</td>\n",
       "    </tr>\n",
       "  </tbody>\n",
       "</table>\n",
       "<p>1000 rows × 1 columns</p>\n",
       "</div>"
      ],
      "text/plain": [
       "             x\n",
       "0    68.263640\n",
       "1    47.924012\n",
       "2    30.555317\n",
       "3    58.261786\n",
       "4    24.515660\n",
       "..         ...\n",
       "995  53.305283\n",
       "996  61.454734\n",
       "997  95.325144\n",
       "998  43.801551\n",
       "999  38.023297\n",
       "\n",
       "[1000 rows x 1 columns]"
      ]
     },
     "execution_count": 13,
     "metadata": {},
     "output_type": "execute_result"
    }
   ],
   "source": [
    "dat = pd.DataFrame({'x': np.random.normal(50, 25, 1000)})\n",
    "dat"
   ]
  },
  {
   "cell_type": "code",
   "execution_count": 9,
   "id": "cdfd916c",
   "metadata": {},
   "outputs": [
    {
     "data": {
      "image/png": "[encoded data removed]",
      "text/plain": [
       "<Figure size 432x288 with 1 Axes>"
      ]
     },
     "metadata": {
      "needs_background": "light"
     },
     "output_type": "display_data"
    }
   ],
   "source": [
    "#Plotear grafico\n",
    "\n",
    "# Colors \n",
    "treat_c = \"#568A9B\" # Treatment\n",
    "n_treat = \"#A10728\" # Not treatment\n",
    "# Plot\n",
    "plt.scatter(\"x\", \"y\", data = dat_0, color = n_treat, alpha= .7, s = 7, label = \"Not treatment\") #controles\n",
    "plt.scatter(\"x\", \"y\", data = dat_1, color = treat_c, alpha= .7, s = 7, label = \"Treatment\")\n",
    "plt.axvline(50, color = \"black\", linestyle = \"-.\", label = r\"$c_0$: Cutoff\") \n",
    "\n",
    "plt.legend(); \n",
    "\n",
    "def y_hat_lin(da_ta, x = \"x\", y = \"y\"): #predicción\n",
    "    yhat = smf.ols(f\"{y} ~ {x}\", data = da_ta).fit().predict()\n",
    "    da_ta[\"yhat\"] = yhat\n",
    "    da_ta.sort_values('yhat', inplace = True)\n",
    "    return da_ta\n",
    "\n",
    "data_y0 = y_hat_lin(dat_0)\n",
    "data_y1 = y_hat_lin(dat_1)\n",
    "\n",
    "plt.scatter(\"x\", \"y\", data = dat_0, color = n_treat, alpha= .2, s = 7, label = \"Not treatment\")\n",
    "plt.scatter(\"x\", \"y\", data = dat_1, color = treat_c, alpha= .2, s = 7, label = \"Treatment\")\n",
    "plt.axvline(50, color = \"black\", linestyle = \"-.\", label = r\"$c_0$: Cutoff\")\n",
    "\n",
    "plt.plot(\"x\", \"yhat\", data = data_y0, color = n_treat, lw = 3)\n",
    "plt.plot(\"x\", \"yhat\", data = data_y1, color = treat_c, lw = 3);\n",
    "\n"
   ]
  },
  {
   "cell_type": "code",
   "execution_count": 10,
   "id": "f8fa2ac7",
   "metadata": {},
   "outputs": [
    {
     "name": "stdout",
     "output_type": "stream",
     "text": [
      "Effect: 24.04\n"
     ]
    }
   ],
   "source": [
    "eff = min(data_y1.yhat) - max(data_y0.yhat) #de las rectascreadsa\n",
    "eff = round(eff,  2)\n",
    "print(\"Effect:\", f\"{eff}\")"
   ]
  },
  {
   "cell_type": "code",
   "execution_count": 16,
   "id": "ca10a84a",
   "metadata": {},
   "outputs": [
    {
     "data": {
      "text/html": [
       "<table class=\"simpletable\">\n",
       "<caption>OLS Regression Results</caption>\n",
       "<tr>\n",
       "  <th>Dep. Variable:</th>            <td>y</td>        <th>  R-squared:         </th> <td>   0.703</td> \n",
       "</tr>\n",
       "<tr>\n",
       "  <th>Model:</th>                   <td>OLS</td>       <th>  Adj. R-squared:    </th> <td>   0.702</td> \n",
       "</tr>\n",
       "<tr>\n",
       "  <th>Method:</th>             <td>Least Squares</td>  <th>  F-statistic:       </th> <td>   2304.</td> \n",
       "</tr>\n",
       "<tr>\n",
       "  <th>Date:</th>             <td>Mon, 28 Nov 2022</td> <th>  Prob (F-statistic):</th> <td>4.78e-259</td>\n",
       "</tr>\n",
       "<tr>\n",
       "  <th>Time:</th>                 <td>17:25:49</td>     <th>  Log-Likelihood:    </th> <td> -4931.4</td> \n",
       "</tr>\n",
       "<tr>\n",
       "  <th>No. Observations:</th>      <td>   977</td>      <th>  AIC:               </th> <td>   9867.</td> \n",
       "</tr>\n",
       "<tr>\n",
       "  <th>Df Residuals:</th>          <td>   975</td>      <th>  BIC:               </th> <td>   9877.</td> \n",
       "</tr>\n",
       "<tr>\n",
       "  <th>Df Model:</th>              <td>     1</td>      <th>                     </th>     <td> </td>    \n",
       "</tr>\n",
       "<tr>\n",
       "  <th>Covariance Type:</th>      <td>nonrobust</td>    <th>                     </th>     <td> </td>    \n",
       "</tr>\n",
       "</table>\n",
       "<table class=\"simpletable\">\n",
       "<tr>\n",
       "      <td></td>         <th>coef</th>     <th>std err</th>      <th>t</th>      <th>P>|t|</th>  <th>[0.025</th>    <th>0.975]</th>  \n",
       "</tr>\n",
       "<tr>\n",
       "  <th>Intercept</th> <td>   90.9936</td> <td>    1.700</td> <td>   53.540</td> <td> 0.000</td> <td>   87.658</td> <td>   94.329</td>\n",
       "</tr>\n",
       "<tr>\n",
       "  <th>D</th>         <td>  115.7926</td> <td>    2.412</td> <td>   48.003</td> <td> 0.000</td> <td>  111.059</td> <td>  120.526</td>\n",
       "</tr>\n",
       "</table>\n",
       "<table class=\"simpletable\">\n",
       "<tr>\n",
       "  <th>Omnibus:</th>       <td> 5.554</td> <th>  Durbin-Watson:     </th> <td>   1.937</td>\n",
       "</tr>\n",
       "<tr>\n",
       "  <th>Prob(Omnibus):</th> <td> 0.062</td> <th>  Jarque-Bera (JB):  </th> <td>   4.250</td>\n",
       "</tr>\n",
       "<tr>\n",
       "  <th>Skew:</th>          <td>-0.025</td> <th>  Prob(JB):          </th> <td>   0.119</td>\n",
       "</tr>\n",
       "<tr>\n",
       "  <th>Kurtosis:</th>      <td> 2.681</td> <th>  Cond. No.          </th> <td>    2.61</td>\n",
       "</tr>\n",
       "</table><br/><br/>Notes:<br/>[1] Standard Errors assume that the covariance matrix of the errors is correctly specified."
      ],
      "text/plain": [
       "<class 'statsmodels.iolib.summary.Summary'>\n",
       "\"\"\"\n",
       "                            OLS Regression Results                            \n",
       "==============================================================================\n",
       "Dep. Variable:                      y   R-squared:                       0.703\n",
       "Model:                            OLS   Adj. R-squared:                  0.702\n",
       "Method:                 Least Squares   F-statistic:                     2304.\n",
       "Date:                Mon, 28 Nov 2022   Prob (F-statistic):          4.78e-259\n",
       "Time:                        17:25:49   Log-Likelihood:                -4931.4\n",
       "No. Observations:                 977   AIC:                             9867.\n",
       "Df Residuals:                     975   BIC:                             9877.\n",
       "Df Model:                           1                                         \n",
       "Covariance Type:            nonrobust                                         \n",
       "==============================================================================\n",
       "                 coef    std err          t      P>|t|      [0.025      0.975]\n",
       "------------------------------------------------------------------------------\n",
       "Intercept     90.9936      1.700     53.540      0.000      87.658      94.329\n",
       "D            115.7926      2.412     48.003      0.000     111.059     120.526\n",
       "==============================================================================\n",
       "Omnibus:                        5.554   Durbin-Watson:                   1.937\n",
       "Prob(Omnibus):                  0.062   Jarque-Bera (JB):                4.250\n",
       "Skew:                          -0.025   Prob(JB):                        0.119\n",
       "Kurtosis:                       2.681   Cond. No.                         2.61\n",
       "==============================================================================\n",
       "\n",
       "Notes:\n",
       "[1] Standard Errors assume that the covariance matrix of the errors is correctly specified.\n",
       "\"\"\""
      ]
     },
     "execution_count": 16,
     "metadata": {},
     "output_type": "execute_result"
    }
   ],
   "source": [
    "#Construcción del modelo \n",
    "\n",
    "outcome = \"y\"\n",
    "treatment = \"D\"\n",
    "\n",
    "fml = outcome + \"~\" + treatment\n",
    "ols = smf.ols (\"y ~ D\", dat )\n",
    "ols.fit().summary()"
   ]
  },
  {
   "cell_type": "markdown",
   "id": "d65b2843",
   "metadata": {},
   "source": [
    "El intercepto del modelo nos muestra un valor de 90 unidades logaritmicas. Se puede inferir a través de modelo, que la variable D tiene un coeficiente positivo, por lo que mientras Y aumente, la varible D aumentará en 115 unidades logaritmicas. "
   ]
  },
  {
   "cell_type": "markdown",
   "id": "a035f08b",
   "metadata": {},
   "source": [
    "#### 3.2"
   ]
  },
  {
   "cell_type": "code",
   "execution_count": 24,
   "id": "625c333b",
   "metadata": {},
   "outputs": [],
   "source": [
    "dat = pd.DataFrame({'x': np.random.normal(50, 25, 1000)}) #50 siendo promedio y 25 varianza, puede elegir cualquier numero\n",
    "dat.loc[dat.x<0, 'x'] = 0 #ubicar las observaciones que x sea menor a 0\n",
    "dat = dat[dat.x<100]\n",
    "dat['D'] = 0 #generar una columna igual a 0\n",
    "# Cutoff\n",
    "dat.loc[dat.x>50, 'D'] = 1 #para todas las observaciones que su valor sea por encima del 50, la variable de tratamiento sea = 1\n",
    "# Simulated Y - se va a crear la variable Y, se generá la ecuasión\n",
    "dat['y'] = 12 + 60*dat.D + 1.3 * dat.x + np.random.normal(0, 20, dat.shape[0])\n",
    "# Not Treatment: los no tratados, de la columna D que son 0\n",
    "dat_0 = dat[dat.D == 0]\n",
    "# Treatment\n",
    "dat_1 = dat[dat.D == 1]"
   ]
  },
  {
   "cell_type": "code",
   "execution_count": 19,
   "id": "6e7d9486",
   "metadata": {},
   "outputs": [
    {
     "data": {
      "text/html": [
       "<div>\n",
       "<style scoped>\n",
       "    .dataframe tbody tr th:only-of-type {\n",
       "        vertical-align: middle;\n",
       "    }\n",
       "\n",
       "    .dataframe tbody tr th {\n",
       "        vertical-align: top;\n",
       "    }\n",
       "\n",
       "    .dataframe thead th {\n",
       "        text-align: right;\n",
       "    }\n",
       "</style>\n",
       "<table border=\"1\" class=\"dataframe\">\n",
       "  <thead>\n",
       "    <tr style=\"text-align: right;\">\n",
       "      <th></th>\n",
       "      <th>x</th>\n",
       "    </tr>\n",
       "  </thead>\n",
       "  <tbody>\n",
       "    <tr>\n",
       "      <th>0</th>\n",
       "      <td>49.533719</td>\n",
       "    </tr>\n",
       "    <tr>\n",
       "      <th>1</th>\n",
       "      <td>23.702092</td>\n",
       "    </tr>\n",
       "    <tr>\n",
       "      <th>2</th>\n",
       "      <td>57.622330</td>\n",
       "    </tr>\n",
       "    <tr>\n",
       "      <th>3</th>\n",
       "      <td>68.165364</td>\n",
       "    </tr>\n",
       "    <tr>\n",
       "      <th>4</th>\n",
       "      <td>84.934905</td>\n",
       "    </tr>\n",
       "    <tr>\n",
       "      <th>...</th>\n",
       "      <td>...</td>\n",
       "    </tr>\n",
       "    <tr>\n",
       "      <th>995</th>\n",
       "      <td>54.645522</td>\n",
       "    </tr>\n",
       "    <tr>\n",
       "      <th>996</th>\n",
       "      <td>41.521333</td>\n",
       "    </tr>\n",
       "    <tr>\n",
       "      <th>997</th>\n",
       "      <td>36.412130</td>\n",
       "    </tr>\n",
       "    <tr>\n",
       "      <th>998</th>\n",
       "      <td>24.771022</td>\n",
       "    </tr>\n",
       "    <tr>\n",
       "      <th>999</th>\n",
       "      <td>1.085583</td>\n",
       "    </tr>\n",
       "  </tbody>\n",
       "</table>\n",
       "<p>1000 rows × 1 columns</p>\n",
       "</div>"
      ],
      "text/plain": [
       "             x\n",
       "0    49.533719\n",
       "1    23.702092\n",
       "2    57.622330\n",
       "3    68.165364\n",
       "4    84.934905\n",
       "..         ...\n",
       "995  54.645522\n",
       "996  41.521333\n",
       "997  36.412130\n",
       "998  24.771022\n",
       "999   1.085583\n",
       "\n",
       "[1000 rows x 1 columns]"
      ]
     },
     "execution_count": 19,
     "metadata": {},
     "output_type": "execute_result"
    }
   ],
   "source": [
    "dat = pd.DataFrame({'x': np.random.normal(50, 25, 1000)})\n",
    "dat"
   ]
  },
  {
   "cell_type": "code",
   "execution_count": 21,
   "id": "4fe1e115",
   "metadata": {},
   "outputs": [
    {
     "data": {
      "image/png": "[encoded data removed]",
      "text/plain": [
       "<Figure size 432x288 with 1 Axes>"
      ]
     },
     "metadata": {
      "needs_background": "light"
     },
     "output_type": "display_data"
    }
   ],
   "source": [
    "#Plotear grafico\n",
    "\n",
    "# Colors \n",
    "treat_c = \"#568A9B\" # Treatment\n",
    "n_treat = \"#A10728\" # Not treatment\n",
    "# Plot\n",
    "plt.scatter(\"x\", \"y\", data = dat_0, color = n_treat, alpha= .7, s = 7, label = \"Not treatment\") #controles\n",
    "plt.scatter(\"x\", \"y\", data = dat_1, color = treat_c, alpha= .7, s = 7, label = \"Treatment\")\n",
    "plt.axvline(50, color = \"black\", linestyle = \"-.\", label = r\"$c_0$: Cutoff\") \n",
    "\n",
    "plt.legend(); \n",
    "\n",
    "def y_hat_lin(da_ta, x = \"x\", y = \"y\"): #predicción\n",
    "    yhat = smf.ols(f\"{y} ~ {x}\", data = da_ta).fit().predict()\n",
    "    da_ta[\"yhat\"] = yhat\n",
    "    da_ta.sort_values('yhat', inplace = True)\n",
    "    return da_ta\n",
    "\n",
    "data_y0 = y_hat_lin(dat_0)\n",
    "data_y1 = y_hat_lin(dat_1)\n",
    "\n",
    "plt.scatter(\"x\", \"y\", data = dat_0, color = n_treat, alpha= .2, s = 7, label = \"Not treatment\")\n",
    "plt.scatter(\"x\", \"y\", data = dat_1, color = treat_c, alpha= .2, s = 7, label = \"Treatment\")\n",
    "plt.axvline(50, color = \"black\", linestyle = \"-.\", label = r\"$c_0$: Cutoff\")\n",
    "\n",
    "plt.plot(\"x\", \"yhat\", data = data_y0, color = n_treat, lw = 3)\n",
    "plt.plot(\"x\", \"yhat\", data = data_y1, color = treat_c, lw = 3);"
   ]
  },
  {
   "cell_type": "code",
   "execution_count": 22,
   "id": "a359796c",
   "metadata": {},
   "outputs": [
    {
     "name": "stdout",
     "output_type": "stream",
     "text": [
      "Effect: 60.82\n"
     ]
    }
   ],
   "source": [
    "eff = min(data_y1.yhat) - max(data_y0.yhat) #de las rectascreadsa\n",
    "eff = round(eff,  2)\n",
    "print(\"Effect:\", f\"{eff}\")"
   ]
  },
  {
   "cell_type": "code",
   "execution_count": 25,
   "id": "44f02cba",
   "metadata": {},
   "outputs": [
    {
     "data": {
      "text/html": [
       "<table class=\"simpletable\">\n",
       "<caption>OLS Regression Results</caption>\n",
       "<tr>\n",
       "  <th>Dep. Variable:</th>            <td>y</td>        <th>  R-squared:         </th> <td>   0.815</td>\n",
       "</tr>\n",
       "<tr>\n",
       "  <th>Model:</th>                   <td>OLS</td>       <th>  Adj. R-squared:    </th> <td>   0.815</td>\n",
       "</tr>\n",
       "<tr>\n",
       "  <th>Method:</th>             <td>Least Squares</td>  <th>  F-statistic:       </th> <td>   4257.</td>\n",
       "</tr>\n",
       "<tr>\n",
       "  <th>Date:</th>             <td>Mon, 28 Nov 2022</td> <th>  Prob (F-statistic):</th>  <td>  0.00</td> \n",
       "</tr>\n",
       "<tr>\n",
       "  <th>Time:</th>                 <td>18:08:37</td>     <th>  Log-Likelihood:    </th> <td> -4535.6</td>\n",
       "</tr>\n",
       "<tr>\n",
       "  <th>No. Observations:</th>      <td>   970</td>      <th>  AIC:               </th> <td>   9075.</td>\n",
       "</tr>\n",
       "<tr>\n",
       "  <th>Df Residuals:</th>          <td>   968</td>      <th>  BIC:               </th> <td>   9085.</td>\n",
       "</tr>\n",
       "<tr>\n",
       "  <th>Df Model:</th>              <td>     1</td>      <th>                     </th>     <td> </td>   \n",
       "</tr>\n",
       "<tr>\n",
       "  <th>Covariance Type:</th>      <td>nonrobust</td>    <th>                     </th>     <td> </td>   \n",
       "</tr>\n",
       "</table>\n",
       "<table class=\"simpletable\">\n",
       "<tr>\n",
       "      <td></td>         <th>coef</th>     <th>std err</th>      <th>t</th>      <th>P>|t|</th>  <th>[0.025</th>    <th>0.975]</th>  \n",
       "</tr>\n",
       "<tr>\n",
       "  <th>Intercept</th> <td>   53.3299</td> <td>    1.188</td> <td>   44.899</td> <td> 0.000</td> <td>   50.999</td> <td>   55.661</td>\n",
       "</tr>\n",
       "<tr>\n",
       "  <th>D</th>         <td>  108.9218</td> <td>    1.669</td> <td>   65.243</td> <td> 0.000</td> <td>  105.646</td> <td>  112.198</td>\n",
       "</tr>\n",
       "</table>\n",
       "<table class=\"simpletable\">\n",
       "<tr>\n",
       "  <th>Omnibus:</th>       <td> 2.989</td> <th>  Durbin-Watson:     </th> <td>   2.100</td>\n",
       "</tr>\n",
       "<tr>\n",
       "  <th>Prob(Omnibus):</th> <td> 0.224</td> <th>  Jarque-Bera (JB):  </th> <td>   2.575</td>\n",
       "</tr>\n",
       "<tr>\n",
       "  <th>Skew:</th>          <td>-0.023</td> <th>  Prob(JB):          </th> <td>   0.276</td>\n",
       "</tr>\n",
       "<tr>\n",
       "  <th>Kurtosis:</th>      <td> 2.752</td> <th>  Cond. No.          </th> <td>    2.63</td>\n",
       "</tr>\n",
       "</table><br/><br/>Notes:<br/>[1] Standard Errors assume that the covariance matrix of the errors is correctly specified."
      ],
      "text/plain": [
       "<class 'statsmodels.iolib.summary.Summary'>\n",
       "\"\"\"\n",
       "                            OLS Regression Results                            \n",
       "==============================================================================\n",
       "Dep. Variable:                      y   R-squared:                       0.815\n",
       "Model:                            OLS   Adj. R-squared:                  0.815\n",
       "Method:                 Least Squares   F-statistic:                     4257.\n",
       "Date:                Mon, 28 Nov 2022   Prob (F-statistic):               0.00\n",
       "Time:                        18:08:37   Log-Likelihood:                -4535.6\n",
       "No. Observations:                 970   AIC:                             9075.\n",
       "Df Residuals:                     968   BIC:                             9085.\n",
       "Df Model:                           1                                         \n",
       "Covariance Type:            nonrobust                                         \n",
       "==============================================================================\n",
       "                 coef    std err          t      P>|t|      [0.025      0.975]\n",
       "------------------------------------------------------------------------------\n",
       "Intercept     53.3299      1.188     44.899      0.000      50.999      55.661\n",
       "D            108.9218      1.669     65.243      0.000     105.646     112.198\n",
       "==============================================================================\n",
       "Omnibus:                        2.989   Durbin-Watson:                   2.100\n",
       "Prob(Omnibus):                  0.224   Jarque-Bera (JB):                2.575\n",
       "Skew:                          -0.023   Prob(JB):                        0.276\n",
       "Kurtosis:                       2.752   Cond. No.                         2.63\n",
       "==============================================================================\n",
       "\n",
       "Notes:\n",
       "[1] Standard Errors assume that the covariance matrix of the errors is correctly specified.\n",
       "\"\"\""
      ]
     },
     "execution_count": 25,
     "metadata": {},
     "output_type": "execute_result"
    }
   ],
   "source": [
    "#Construcción del segundo modelo \n",
    "\n",
    "outcome = \"y\"\n",
    "treatment = \"D\"\n",
    "\n",
    "fml = outcome + \"~\" + treatment\n",
    "ols = smf.ols (\"y ~ D\", dat )\n",
    "ols.fit().summary()"
   ]
  },
  {
   "cell_type": "markdown",
   "id": "8eee89af",
   "metadata": {},
   "source": [
    "El intercepto del modelo nos muestra un valor de 53 unidades logaritmicas. Se puede inferir a través de modelo, que la variable D tiene un coeficiente positivo, por lo que mientras Y aumente, la varible D aumentará en 108 unidades logaritmicas. La variación de valores evidencia a comparacíón del primer modelo creado una disminución en unidades logaritmicas de D en este segundo modelo. "
   ]
  },
  {
   "cell_type": "markdown",
   "id": "1d2d7f88",
   "metadata": {},
   "source": [
    "### Parte 4"
   ]
  },
  {
   "cell_type": "code",
   "execution_count": 45,
   "id": "0a59ab94",
   "metadata": {},
   "outputs": [],
   "source": [
    "## Random data\n",
    "dat = pd.DataFrame({'x': np.random.normal(50, 25, 1000)})\n",
    "dat.loc[dat.x<0, 'x'] = 0\n",
    "dat = dat[dat.x<100]\n",
    "dat['D'] = 0\n",
    "# Cutoff\n",
    "dat.loc[dat.x>50, 'D'] = 1\n",
    "# Simulated Y\n",
    "dat['y'] = 25 + 40*dat.D + 1.5 * dat.x + np.random.normal(0, 20, dat.shape[0])\n",
    "# Not Treatment\n",
    "dat_0 = dat[dat.D == 0]\n",
    "# Treatment\n",
    "dat_1 = dat[dat.D == 1]"
   ]
  },
  {
   "cell_type": "code",
   "execution_count": 46,
   "id": "e5c3f246",
   "metadata": {},
   "outputs": [
    {
     "data": {
      "text/html": [
       "<div>\n",
       "<style scoped>\n",
       "    .dataframe tbody tr th:only-of-type {\n",
       "        vertical-align: middle;\n",
       "    }\n",
       "\n",
       "    .dataframe tbody tr th {\n",
       "        vertical-align: top;\n",
       "    }\n",
       "\n",
       "    .dataframe thead th {\n",
       "        text-align: right;\n",
       "    }\n",
       "</style>\n",
       "<table border=\"1\" class=\"dataframe\">\n",
       "  <thead>\n",
       "    <tr style=\"text-align: right;\">\n",
       "      <th></th>\n",
       "      <th>x</th>\n",
       "    </tr>\n",
       "  </thead>\n",
       "  <tbody>\n",
       "    <tr>\n",
       "      <th>0</th>\n",
       "      <td>104.029765</td>\n",
       "    </tr>\n",
       "    <tr>\n",
       "      <th>1</th>\n",
       "      <td>33.293779</td>\n",
       "    </tr>\n",
       "    <tr>\n",
       "      <th>2</th>\n",
       "      <td>62.783295</td>\n",
       "    </tr>\n",
       "    <tr>\n",
       "      <th>3</th>\n",
       "      <td>48.446488</td>\n",
       "    </tr>\n",
       "    <tr>\n",
       "      <th>4</th>\n",
       "      <td>31.761284</td>\n",
       "    </tr>\n",
       "    <tr>\n",
       "      <th>...</th>\n",
       "      <td>...</td>\n",
       "    </tr>\n",
       "    <tr>\n",
       "      <th>995</th>\n",
       "      <td>20.193127</td>\n",
       "    </tr>\n",
       "    <tr>\n",
       "      <th>996</th>\n",
       "      <td>79.501756</td>\n",
       "    </tr>\n",
       "    <tr>\n",
       "      <th>997</th>\n",
       "      <td>24.468928</td>\n",
       "    </tr>\n",
       "    <tr>\n",
       "      <th>998</th>\n",
       "      <td>83.963620</td>\n",
       "    </tr>\n",
       "    <tr>\n",
       "      <th>999</th>\n",
       "      <td>63.579845</td>\n",
       "    </tr>\n",
       "  </tbody>\n",
       "</table>\n",
       "<p>1000 rows × 1 columns</p>\n",
       "</div>"
      ],
      "text/plain": [
       "              x\n",
       "0    104.029765\n",
       "1     33.293779\n",
       "2     62.783295\n",
       "3     48.446488\n",
       "4     31.761284\n",
       "..          ...\n",
       "995   20.193127\n",
       "996   79.501756\n",
       "997   24.468928\n",
       "998   83.963620\n",
       "999   63.579845\n",
       "\n",
       "[1000 rows x 1 columns]"
      ]
     },
     "execution_count": 46,
     "metadata": {},
     "output_type": "execute_result"
    }
   ],
   "source": [
    "dat = pd.DataFrame({'x': np.random.normal(50, 25, 1000)})\n",
    "dat"
   ]
  },
  {
   "cell_type": "code",
   "execution_count": 47,
   "id": "efdd1d06",
   "metadata": {},
   "outputs": [
    {
     "data": {
      "image/png": "[encoded data removed]",
      "text/plain": [
       "<Figure size 432x288 with 1 Axes>"
      ]
     },
     "metadata": {
      "needs_background": "light"
     },
     "output_type": "display_data"
    }
   ],
   "source": [
    "#Plotear grafico\n",
    "\n",
    "# Colors \n",
    "treat_c = \"#568A9B\" # Treatment\n",
    "n_treat = \"#A10728\" # Not treatment\n",
    "# Plot\n",
    "plt.scatter(\"x\", \"y\", data = dat_0, color = n_treat, alpha= .7, s = 7, label = \"Not treatment\") #controles\n",
    "plt.scatter(\"x\", \"y\", data = dat_1, color = treat_c, alpha= .7, s = 7, label = \"Treatment\")\n",
    "plt.axvline(50, color = \"black\", linestyle = \"-.\", label = r\"$c_0$: Cutoff\") \n",
    "\n",
    "\n",
    "def y_hat_lin(da_ta, x = \"x\", y = \"y\"): #predicción\n",
    "    yhat = smf.ols(f\"{y} ~ {x}\", data = da_ta).fit().predict()\n",
    "    da_ta[\"yhat\"] = yhat\n",
    "    da_ta.sort_values('yhat', inplace = True)\n",
    "    return da_ta\n",
    "\n",
    "data_y0 = y_hat_lin(dat_0)\n",
    "data_y1 = y_hat_lin(dat_1)\n",
    "\n",
    "plt.scatter(\"x\", \"y\", data = dat_0, color = n_treat, alpha= .2, s = 7, label = \"Not treatment\")\n",
    "plt.scatter(\"x\", \"y\", data = dat_1, color = treat_c, alpha= .2, s = 7, label = \"Treatment\")\n",
    "plt.axvline(50, color = \"black\", linestyle = \"-.\", label = r\"$c_0$: Cutoff\")\n",
    "\n",
    "plt.plot(\"x\", \"yhat\", data = data_y0, color = n_treat, lw = 3)\n",
    "plt.plot(\"x\", \"yhat\", data = data_y1, color = treat_c, lw = 3);"
   ]
  },
  {
   "cell_type": "code",
   "execution_count": 48,
   "id": "4d8cbff3",
   "metadata": {},
   "outputs": [
    {
     "name": "stdout",
     "output_type": "stream",
     "text": [
      "Effect: 38.69\n"
     ]
    },
    {
     "data": {
      "image/png": "[encoded data removed]",
      "text/plain": [
       "<Figure size 432x288 with 1 Axes>"
      ]
     },
     "metadata": {
      "needs_background": "light"
     },
     "output_type": "display_data"
    }
   ],
   "source": [
    "eff = min(data_y1.yhat) - max(data_y0.yhat)\n",
    "eff = round(eff,  2)\n",
    "print(\"Effect:\", f\"{eff}\")\n",
    "\n",
    "plt.scatter(\"x\", \"y\", data = dat_0, color = n_treat, alpha= .03, s = 7, label = \"Not treatment\")\n",
    "plt.scatter(\"x\", \"y\", data = dat_1, color = treat_c, alpha= .03, s = 7, label = \"Treatment\")\n",
    "plt.axvline(50, color = \"black\", linestyle = \"-.\", label = r\"$c_0$: Cutoff\")\n",
    "\n",
    "plt.plot(\"x\", \"yhat\", data = data_y0, color = n_treat, lw = 3)\n",
    "plt.plot(\"x\", \"yhat\", data = data_y1, color = treat_c, lw = 3)\n",
    "plt.axvline(50, color = \"black\", linestyle = \"-.\", label = r\"$c_0$: Cutoff\", lw = 1)\n",
    "plt.annotate(f\"{eff}\", xy = (51, eff + 76))\n",
    "plt.annotate(\"\", xy = (51, max(data_y0.yhat)), xytext = (51, min(data_y1.yhat)), \n",
    "            arrowprops=dict(arrowstyle=\"<->\",\n",
    "                            connectionstyle=\"arc3\"));"
   ]
  }
 ],
 "metadata": {
  "kernelspec": {
   "display_name": "Python 3 (ipykernel)",
   "language": "python",
   "name": "python3"
  },
  "language_info": {
   "codemirror_mode": {
    "name": "ipython",
    "version": 3
   },
   "file_extension": ".py",
   "mimetype": "text/x-python",
   "name": "python",
   "nbconvert_exporter": "python",
   "pygments_lexer": "ipython3",
   "version": "3.9.12"
  }
 },
 "nbformat": 4,
 "nbformat_minor": 5
}
