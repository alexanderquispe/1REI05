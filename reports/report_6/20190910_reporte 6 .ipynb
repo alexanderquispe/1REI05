{
 "cells": [
  {
   "cell_type": "markdown",
   "id": "204e09c2",
   "metadata": {},
   "source": [
    "THE EFFECT OF A TARGETED, TUITION-FREE PROMISE ON COLLEGE CHOICES OF HIGH-ACHIEVING, LOW-INCOME STUDENTS \n",
    "\n",
    "\n",
    "Alumna: Dana Aneliz Rodriguez Sandi 20190910\n",
    "\n",
    "\n",
    "El artículo muestra evidencia sobre la diferencia porcentual que existe entre  los estudiantes de alto rendimiento y bajos ingresos que estudian en universidades y los estudiantes con altos ingresos y con rendimiento similar, siendo este mayor.  A través del experimento , se demuestra que la incertidumbre, el sesgo del presente y la aversión a las pérdidas son fundamentales  en las decisiones universitarias de los estudiantes. En este grupo de estudiantes de alto rendimiento, los que tienen bajos ingresos  suelen solicitar admisión en universidades menos selectivas ser admitidos en universidades cero selectivas a pesar de que hacer lo contrario; es decir, ir a universidades selectivas,  tendría efectos positivos a largo plazo. \n",
    "\n",
    "\n",
    "Este artículo presenta fortalezas como evidenciar la transversalidad del  sesgo de presente, es decir como  no salir de una zona de confort y la aversión al endeudamiento puede influenciar las decisiones del grupo de estudiantes que presentan escasez económica. Es por ello, que se hace un experimento en Michigan en  donde  a los estudiantes mediante una beca llamada  “Beca HAIL “ (High Achieving Involved Leader),  se les ofrece la oportunidad de poder postularse a universidades de alto rango. El número de plazas a solicitadas en la Universidad de Michigan se duplicó con creces, pasando de 26% a 68% entre los estudiantes a los que se les ofreció esta beca. Este experimento fue favorable, ya que el porcentaje de matriculas en una universidad selectiva se aumentó de manera considerable. Sin embargo, el artículo no indaga más allá en otros factores que podrían influenciar como el “background” cultural, pues no se trata de solo una diferencia material sino social y cultural que desembocan en distintos condicionamientos emocionales que influyen al momento de elegir el tipo de universidad. \n",
    "\n",
    "\n",
    "Un aporte fundamental del texto es el rol de la economía conductual, el cual  viene a ser la esencia del texto. A lo largo de este, se nos  invita a analizar el por qué el porcentaje de  estudiantes de bajos ingresos y alto rendimiento que  ingresan a universidades selectivas es inferior al otro grupo de estudiantes de mayores ingresos. Se demuestra que no hay que subestimar cuán importante es para los estudiantes su situación a corto plazo, pues priorizan las consecuencias o situaciones del presente. Se actúa de forma incoherente para evitar todo el estrés y ansiedad que estar en una universidad selectiva sin los fondos asegurados generaría a corto plazo.\n",
    "\n",
    "\n",
    "Considero que esta investigación se podría ramificar y estudiarse desde los diversos grupos poblacionales vulnerables, clasificados no solo por condición socioeconómica. Uno de estos grupos podría ser la población inmigrante ya sea legal o ilegal, quienes componen un buen porcentaje de los estudiantes de bajos recursos. Hay ciertas características del condicionamiento emocional a la vez que el condicionamiento legal de adolescentes de familias indocumentadas que  influencian las decisiones y esto se explica mejor en “Undocumented Students in Higher Education” del New American Economy, 2021.\n",
    "https://www.presidentsimmigrationalliance.org/wp-content/uploads/2020/04/2020-04-16-NAE-PA-Report-Undocumented-Students-in-Higher-Education.pdf\n",
    "\n"
   ]
  }
 ],
 "metadata": {
  "kernelspec": {
   "display_name": "Python 3 (ipykernel)",
   "language": "python",
   "name": "python3"
  },
  "language_info": {
   "codemirror_mode": {
    "name": "ipython",
    "version": 3
   },
   "file_extension": ".py",
   "mimetype": "text/x-python",
   "name": "python",
   "nbconvert_exporter": "python",
   "pygments_lexer": "ipython3",
   "version": "3.9.12"
  }
 },
 "nbformat": 4,
 "nbformat_minor": 5
}
