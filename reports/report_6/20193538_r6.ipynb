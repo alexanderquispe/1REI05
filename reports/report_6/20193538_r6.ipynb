{
 "cells": [
  {
   "cell_type": "markdown",
   "id": "3624a328",
   "metadata": {},
   "source": [
    "# Reporte 6\n",
    "\n",
    "**MariaJose Murillo Q**\n",
    "\n",
    "**20193538**\n",
    "\n",
    "## Lectura\n",
    "El articulo “El efecto de una promesa enfocada y sin matrícula en las opciones universitarias de estudiantes de alto rendimiento y bajos ingresos” empieza puntualizando el aumento de las brechas existentes entre estudiantes de altos y bajos ingresos, donde los segundos, aunque comparten las mismas capacidades académicas que los primeros, no ingresan a las mejores universidades no porque fueran rechazados, si no porque nunca han aplicado. Si bien las universidades más selectivas ofrecen ayuda a estudiantes de bajos ingresos, reduciendo los costos hasta hacerlos más baratos incluso que las universidades menos selectivas (como por ejemplo la Universidad de Michigan que ofrece los criterios HAIL, GPA y ACT y es la opción más barata en cuanto a universidades selectivas, contando con tasas de graduación y salarios altos luego del egreso), estas siguen sin ser elegidas por ellos. Es por ello que los autores se plantean la pregunta: ***¿Puede la comunicación personalizada y dirigida a replantear (pero no aumentar la ayuda financiera) alterar las decisiones universitarias de los estudiantes de bajos ingresos?***. Para responderla, se lleva a cabo un ensayo con una población de aproximadamente 2 mil estudiantes de alto rendimiento y bajos ingresos (en o debajo de la línea de pobreza) en todo el estado de Michigan de distintos grupos raciales que hayan asistido a una escuela pública, a quienes enviaban paquetes o folletos animando a los estudiantes a solicitar la admisión garantizando cuatro años de matrícula y cuotas académicas asi como correos a sus padres.\n",
    "\n",
    "\n",
    "El articulo tiene múltiples fortalezas entre las que destacan tomar como referencia una universidad que destaca por su calidad asi como su bajo costo, la cual la hace accesible a más personas como minorías étnicas (blancos, afrodescendientes, hispanos, asiáticos, etc.) y sociales. Asi mismo, el uso del método empírico para responder la pregunta planteada, donde en conjunto con la Universidad de Michigan enviaron paquetes, folletos, correos tanto a estudiantes de bajos ingresos y alto rendimiento de todo el estado como a sus padres para alentar la postulación, lo cual, además de ser una forma de tener contacto directo con la población a estudiar, alienta a los estudiantes a tener estudios superiores. Entre sus debilidades, considero que los autores hubieran podido profundizar acerca del porque los estudiantes de bajos recursos no postulan. Si bien indica que es porque no están informados sobre los costos y beneficios de la universidad a largo plazo y exhiben preferencias inconsistentes en cuanto a sus objetivos y que los estudiantes de bajos ingresos “parecen tener aversión a la deuda”, no profundiza en ese aspecto, especialmente si tenemos en cuenta que las becas ofrecidas por la Universidad de Michigan los ayudaran durante casi toda la carrera universitaria.\n",
    "\n",
    "\n",
    "Entre los resultados de esta investigación se encontró que si los estudiantes aplican o no a universidades selectivas puede depender de la zona geográfica en donde viven, por ejemplo, hay más probabilidad que los que vivan en áreas urbanas con mayor concentración (como Detroit y Ann Arbor) soliciten la admisión que los de las áreas rurales (como West Central y Upper Península) asi como en las regiones centro-oeste que en las del sudeste. En otras palabras “El impacto del tratamiento en los estudiantes de las zonas más rurales del estado, asi como lugares más alejados de la Universidad de Michigan es consistente con el tratamiento que compensa el aislamiento de los estudiantes”. Sumado a ello, se esperaba que los estudiantes de hogares con menos ingresos tuvieran más interés en aplicar, sin embargo, no sucedió. Las hipótesis en las que los autores pudieron acertar fueron en “Títulos académicos”, donde los estudiantes con promedios mayores a los de los demás eran aquellos quienes se matriculaban ya que tenían mas probabilidades de ganar la admisión, asi como “características adicionales”, donde los estudiantes asiáticos, hispanos y afrodescendientes, al vivir en zonas urbanas, también tenían mas probabilidades de postularse a comparación de los blancos, que vivían en zonas rurales. Como respuesta a la pregunta, los autores indican que “una intervención de bajo costo y poco contacto puede afectar fuertemente la aplicación de los estudiantes y matricula en universidades selectivas” donde “sistema basado en matrículas altas y ayudas altas para estudiantes de bajos ingresos puede no ser tan efectivo como un régimen de matrícula gratuita si el primero requiere tiempo y esfuerzo para conocer el costo neto”\n",
    "\n",
    "\n",
    "Uno de los pasos para avanzar en la pregunta podría ser hacer el mismo estudio pero esta vez en el estado de California, el cual presenta el mayor número de migrantes de Estados Unidos especialmente de los hispanos, quienes según la CNN, se convirtió oficialmente en el grupo racial o étnico más grande del estado, representando un 39.4% de toda la población californiana, además de ello, por dos razones fundamentales, la primera es porque la Universidad de California (UC) ofrece “Blue and Gold Opportunity Plan”, que son ayudas financieras si el ingreso familiar es inferior a 80,000 dolares al año, donde se cubren gastos educativos como matricula, cuotas, vivienda, transporte, etc. Y en segundo lugar porque este año, California esta ejecutando el Middle Class Scholarship 2.0, donde gracias a una inversión de 632 millones de dólares, condonara deudas académicas para estudiantes de UC y Cal State (Zinshteyn, 2022). El propósito es ver si con todos estos beneficios, los cuales son mayores a los de Michigan, influyen de la misma manera en la decisión de los estudiantes de bajos recursos en postular a una universidad selectiva.Otro paso que se podría seguir es hacer un estudio reflexionando acerca de la necesidad de una educación superior gratuita en los Estados Unidos, el cual, a pesar de ser un país rico, presenta los más altos índices de pobreza en donde “40 millones de estadounidenses viven debajo de la línea oficial de pobreza”, una nula red de proteccion social hacia minorías (migrantes, negros, etc.) y vasta desigualdad de ingresos. Según la BBC, a pesar de que se implementaron programas de bienestar social que permitieron reducir esta cifra, no se ha logrado lo suficiente. Ello, sumado a los descensos en las inscripciones universitarias en estados como Nuevo México y el fracaso de una mejora en los planes de inscripción universidades como las de Texas, Michigan o California (Holtermann, 2022) ha reflejado la necesidad de impulsar la educación gratuita, liberando a los estudiantes de costosas deudas luego de egresar y atrayendo a estudiantes de bajos recursos.\n",
    "\n",
    "\n",
    "\n",
    "**REFERENCIAS:** \n",
    "- CNN (2022) _Los porcentajes de razas o etnias en Estados Unidos: es más diverso y multirracial que nunca_ https://cnnespanol.cnn.com/2022/05/16/porcentajes-razas-etnias-estados-unidos-diverso-multirracial-mapa-orix/\n",
    "\n",
    "- University of California (s.f.) Admissions: Blue and Gold Opportunity Plan https://admission.universityofcalifornia.edu/tuition-financial-aid/types-of-aid/blue-and-gold-opportunity-plan.html \n",
    "\n",
    "- Zinshteyn, M (abril, 2022) _Universidad libre de deudas: California está a punto de invertir 632 millones de dólares para ayudar a 360,000 estudiantes a reducir su deuda universitaria_ https://calmatters.org/calmatters-en-espanol/2022/04/universidad-libre-de-deudas-california-esta-a-punto-de-invertir-632-millones-para-ayudar-a-360000-estudiantes-a-reducir-su-deuda-universitaria/\n",
    "\n",
    "- BBC (julio, 2020) _Por qué Estados Unidos tiene niveles de pobreza altos pese a los miles de millones que invierte en combatirla_ https://www.bbc.com/mundo/noticias-internacional-53440439 \n",
    "\n",
    "- Holtermann, P (mayo, 2022) _Student Opinion: Should College Be Free? https://www.nytimes.com/2022/05/19/learning/free-college.html \n"
   ]
  }
 ],
 "metadata": {
  "kernelspec": {
   "display_name": "Python 3 (ipykernel)",
   "language": "python",
   "name": "python3"
  },
  "language_info": {
   "codemirror_mode": {
    "name": "ipython",
    "version": 3
   },
   "file_extension": ".py",
   "mimetype": "text/x-python",
   "name": "python",
   "nbconvert_exporter": "python",
   "pygments_lexer": "ipython3",
   "version": "3.9.12"
  }
 },
 "nbformat": 4,
 "nbformat_minor": 5
}
