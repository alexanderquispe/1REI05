{
 "cells": [
  {
   "cell_type": "markdown",
   "id": "0645b18a",
   "metadata": {},
   "source": [
    "# Joaquin del Castillo Ugarte\n",
    "\n",
    "# Reporte 9"
   ]
  },
  {
   "cell_type": "markdown",
   "id": "7f448cda",
   "metadata": {},
   "source": [
    "Desde el origen de la red social “Facebook” en 2004 y su futura expansión en 2006, se han registrado un mayor número de casos de depresión en estudiantes universitarios. En base a ello el paper “Social Media and menta health” a través del método de diferencias en diferencias trata de responder la siguiente pregunta de investigación: ¿Existe relación entre el uso de Facebook con el auge de los problemas de salud mental en los estudiantes universitarios de Estados Unidos?\n",
    "\n",
    "Ahora bien, sobre las fortalezas podemos identificar, en primer lugar, la introducción escalonada de los efectos de Facebook, es aquí donde entra el método propuesto por el paper (diferencias en diferencias), este usa dos variables: en primer lugar, usa data de diversas universidades. En segundo lugar, evalúa los sensos en la prueba de salud mental. Ambas variables son estudiadas en el tiempo, con lo cual proporciona un resultado progresivo del efecto del uso de las redes sociales (en este caso Facebook) en la salud mental del joven estudiante. Este método es muy útil porque da resultados más fiables, pues por ejemplo si no se hubiera seguido dicha metodología muy probablemente se hubiera caído en errores como tomar a dos estudiantes de universidades diferentes como la misma unidad de análisis, lo cual no es cierto, pues puede que uno de ellos haya estudiado en una universidad más exigente, por lo cual las variaciones en su nivel de salud mental podrían no estar ligadas tanto al uso o no de Facebook sino a la exigencia de la universidad. \n",
    "\n",
    "Asimismo, otra ventaja que se percibe es que el paper no solo trata de probar a través de métodos experimentales la causalidad entre el aumento de los problemas mentales y el uso de redes sociales, sino que esboza una hipótesis que podría explicarla. En este sentido el autor menciona que ello se podría deber a las comparaciones sociales que incentiva el uso de redes sociales, en las cuales las personas que se perciban más desfavorecidas tenderían a presentar un mayor número de problemas, en este sentido una persona que perciba que el resto de sus compañeros van a fiestas o reuniones y esta no, pues muy probablemente podría afectarle. No obstante, el autor también menciona, lo cual también podría considerarse como una ventaja, que si bien las redes sociales pueden provocar este tipo de daños, no es que sean negativas per se, pues también aportan una infinidad de ventajas como la comunicación con gente alejada de nosotros en segundos, lo cual de otra forma sería practicamente imposible. \n",
    "\n",
    "Por otro lado, úna debilidad que percibo es que si bien el método puede ser útil, este no termina de demostrar la causalidad completamente, lo cual en el mismo artículo lo señalan. Ello se debe a que si bien es cierto que hay un auge en los casos de enfermedades mentales con la aparición de Facebook, ello se puede deber también al auge de otros medios virtuales como el auge de portales de noticias o el incremento también que empezaron a tener los videojuegos, etc., por tanto esta relación para que sea totalmente fiable debe demostrar por qué es que estas otras variables que también experimentaron un crecimiento notorio en el periodo de nacimiento de Facebook no pueden explicar el crecimiento de las enfermedades mentales, lo cual daría mucha más validez a la relación causal del uso de redes sociales con el auge de las enfermedades mentales. \n",
    "\n",
    "Ahora bien, el aporte a la academia de este paper es significativo. En primer lugar, porque a diferencia de otros papers aumenta la confiabilidad de la relación causal entre el aumento de casos de enfermedades causales con el aumento del uso de redes sociales. Ello lo hace justamente, con la diferenciación a la universidad en la cual se estudiaba y con los resultados progresivos en la prueba de salud mental, ello en el periodo de nacimiento y crecimiento de Facebook. De esta forma finalmente se comprueba que hay muchas probabilidades de que efectivamente exista una relación causal. Este aporte es muy significativo porque permite al Estado ver que las enfermedades mentales, una problemática muy importante en la actualidad, están en parte explicadas por el uso de las redes sociales, lo cual le permite al Estado evaluar las razones que provocan esta razón causal y en base a ello idear formas de combatirlo. Sobre este mismo punto el paper es muy útil, porque además brinda una posible explicación de la relación causal, la cual se explica por las comparaciones sociales que surgen a raíz del uso de redes sociales, por ejemplo, ver que conocidos comparten espacios donde no se está incluido. Finalmente, este aporte es significativo, pues las enfermedades mentales, según el paper, estan relacionadas a mayores tasas de suicidios, delincuencia, bajo rendimiento \n",
    "académico, etc., por lo cual es sumamente importante que se conozca esta posible causa. \n",
    "\n",
    "Finalmente, sobre los avances que se pueden hacer en función del paper se identifica en primer lugar la diferencia en el efecto de la salud mental a nivel de etnias. Es decir, si bien el paper analiza la relación causal entre redes sociales y enfermedades mentales, lo ha hecho de forma muy general, ahora en base a esa premisa se podría indagar si existen diferencias en el nivel de afectación dependiendo del grupo social al que pertenezcan, por ejemplo, comparando el efecto en negros, blancos, latinos, etc. Sobre este punto Ansion (2007) postula que la gente latinoamericana y afrodescendiente suelen mayormente excluidos de reuniones sociales u otras actividades universitarias. Por tanto, sobre este punto y en base a la hipótesis de la razón de la relación causal que brinda el autor (se debe a que evidencia las diferencias sociales), es que se puede hiptetizar que el efecto de las redes sociales fue mucho mayor en la gente afrodescendiente y latina en Estados Unidos, que la gente blanca. \n",
    "\n",
    "Ahora bien, otro avance que podría seguirse es el efecto de las redes sociales en jovenes universitarios estadounidenses en el rendimiento académico. Si bien el texto menciona que estaban relacionadas, no lo profundiza, por ello sería interesante que haya un paper que se encargue de evaluar esa relación. Sobre este punto Espinoza (2018) postula que el efecto es grande, debido a que las redes sociales están creadas en un lenguaje de programación el cual las vuelve adictivas, lo cual genera que se gasten las horas que podrían ser destinadas al estudio en este tipo de aplicaciones. \n",
    "\n",
    "Finalmente, seria ver interesante ver el efecto de las redes sociales en otras zonas del mundo, por ejemplo, en el caso peruano. Sobre este punto Baños Chaparro (2020) menciona que en el caso de las universidades privadas se ha detectado que los estudiantes que presentan un mayor acceso a más redes sociales son los que suelen tener peor rendimiento académico a la vez que problemas relacionados con la depresión. Sobre este mismo punto Cejas (2014) menciona que en el caso Argentino según encuestas de uso de redes sociales se ha detectado que los estudiantes de universidades privadas con una mayor cantidad de horas suelen presentar mayores problemas mentales al igual que notas menores. Este estudio según este autor debería ser reforzado con un estudio posterior sobre el caso de los estudiantes de universidades públicas. \n",
    "\n",
    "Bibliografía: \n",
    "\n",
    "Baños-Chaparro,J. (2020). Uso de Redes Sociales y Sintomatología Depresiva en Estudiantes Universitarios.\n",
    "\n",
    "Ansion, R. (2007). Racismo, discriminación y acciones afirmativas: herramientas conceptuales.\n",
    "\n",
    "Cejas, M. (2014). Uso y abuso de las redes sociales en Argentina.\n",
    "\n",
    "Espinoza (2018). Las redes sociales.\n"
   ]
  },
  {
   "cell_type": "code",
   "execution_count": null,
   "id": "281f5d24",
   "metadata": {},
   "outputs": [],
   "source": []
  }
 ],
 "metadata": {
  "kernelspec": {
   "display_name": "Python 3 (ipykernel)",
   "language": "python",
   "name": "python3"
  },
  "language_info": {
   "codemirror_mode": {
    "name": "ipython",
    "version": 3
   },
   "file_extension": ".py",
   "mimetype": "text/x-python",
   "name": "python",
   "nbconvert_exporter": "python",
   "pygments_lexer": "ipython3",
   "version": "3.9.12"
  }
 },
 "nbformat": 4,
 "nbformat_minor": 5
}
