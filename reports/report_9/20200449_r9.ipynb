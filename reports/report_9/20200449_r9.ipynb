{
 "cells": [
  {
   "cell_type": "markdown",
   "id": "796b6dcf",
   "metadata": {},
   "source": [
    "# REPORTE 9"
   ]
  },
  {
   "cell_type": "markdown",
   "id": "203130e2",
   "metadata": {},
   "source": [
    "Nombre: Héctor Delgado Alfaro\n",
    "\n",
    "Código: 20200449"
   ]
  },
  {
   "cell_type": "markdown",
   "id": "740af73a",
   "metadata": {},
   "source": [
    "El paper presentado tiene bajo título “Redes sociales y Salud Mental” el cual busca encontrar una relación causal entre las redes sociales y el incremento de estudiantes con enfermedades mentales como depresión, ansiedad, desorden de bipolaridad, esquizofrenia. Los autores hacen énfasis en la página de “Facebook” que en un inicio tenía un público netamente universitario en universidades reconocidas de Estados Unidos. En ese sentido, los autores tienen la pregunta de investigación sobre ¿Cuál es la relación entre la aparición de redes sociales como Facebook y el incrementos de enfermedades mentales en jóvenes universitarios de EEUU?\n",
    "\n",
    "Una de las fortalezas de este artículo para responder a esta pregunta es la separación de datas de manera clara y la delimitación para abordar esta data. Una segunda fortaleza fue el modelo de regresión discontinua utilizada que permite incluir la fecha en la que Facebook  fue introducido a los jóvenes como punto separatorio. Otra fortaleza que identifico es el buen contenido teórico previo que los autores explican respecto a la historia de facebook, salud mental o la brecha entre las universidades en EEUU y las condiciones a las que se pueden enfrentar los jóvenes universitarios en cada una de ellas. Una debilidad del paper es que solo expone los datos sin tener en cuenta la comparación entre universidades que no son parte de esta “elite” que sí fue expuesta a facebook ya que quizás esto pueda funcionar como una variable de control. \n",
    "\n",
    "Los resultados arrojan que las redes sociales afectan negativamente en la salud mental de los jóvenes universitarios de EEUU. El paper  avanza en el conocimiento sobre la pregunta ya que pone como caso los inicios de una de las redes sociales más importantes y pioneras en la materia la cual es Facebook utilizando, por ejemplo, encuestas de salud mental y trabajado en las distintas realidades de diversas universidades en EEUU. Así mismo, la contribución de los autores también recae en que puede servir como base para estudiar el desarrollo y evolución de las redes sociales en fenómenos más recientes como el cyberbullying.\n",
    "\n",
    "Los siguientes pasos para avanzar en esta investigación sería modernizar la red social a analizar ya que Facebook quizás ha quedado un poco de lado por los más jóvenes. Así mismo, se debería incluir el rol e importancia de las empresas e “influencers” como agentes de cambio al efecto negativo de las redes sociales en la salud mental. Autores como Abjaude y Pereira (2020) mencionan que: “las empresas e influenciadores también deben contribuir a reducir este problema utilizando las redes sociales como herramientas para producir contenido que realmente agregue valor, difunda información de calidad y acerque a las personas.” (p.1) es por ello que se deben incluir dentro de futuras investigaciones.\n"
   ]
  },
  {
   "cell_type": "markdown",
   "id": "29432260",
   "metadata": {},
   "source": [
    "bibliografria:\n",
    "    \n",
    "    Abjaude, Samir Antonio Rodrigues, Pereira, Lucas Borges, Zanetti, Maria Olívia Barboza, & Pereira, Leonardo Régis Leira. (2020). ¿Cómo influyen las redes sociales en la salud mental?. SMAD. Revista eletrônica saúde mental álcool e drogas, 16(1), 1-3. https://dx.doi.org/10.11606/issn.1806-6976.smad.2020.0089"
   ]
  },
  {
   "cell_type": "code",
   "execution_count": null,
   "id": "b145cb67",
   "metadata": {},
   "outputs": [],
   "source": []
  }
 ],
 "metadata": {
  "kernelspec": {
   "display_name": "Python 3 (ipykernel)",
   "language": "python",
   "name": "python3"
  },
  "language_info": {
   "codemirror_mode": {
    "name": "ipython",
    "version": 3
   },
   "file_extension": ".py",
   "mimetype": "text/x-python",
   "name": "python",
   "nbconvert_exporter": "python",
   "pygments_lexer": "ipython3",
   "version": "3.9.12"
  }
 },
 "nbformat": 4,
 "nbformat_minor": 5
}
