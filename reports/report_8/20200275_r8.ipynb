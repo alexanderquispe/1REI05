{
  "cells": [
    {
      "cell_type": "markdown",
      "id": "50a0b4ac",
      "metadata": {
        "id": "50a0b4ac"
      },
      "source": [
        "# Reporte 8: \n",
        "   ### Nombre: Mayeli Charra Huaman \n",
        "   ### Código: 20200275\n",
        "    "
      ]
    },
    {
      "cell_type": "markdown",
      "id": "38dfbcf5",
      "metadata": {
        "id": "38dfbcf5"
      },
      "source": [
        "## Parte 1: Reporte\n",
        "En el  artículo \"Los efectos persistentes de la mita minera en el Perú\" Melisa Dell (2010) busca responder a la pregunta: ¿De qué manera la influencia de la mita entre 1573-1812 ha persisitido en los actuales distritos donde tuvo vigencia? A lo que plantea la hipótesis de que la influencia persiste a través de sus impactos sobre la tenencia de la tierra y el aprovisionamiento de bienes públicos. En base al método de regresión discontinua, esta autora estudia los efectos a largo plazo de la mita minera y compara su efecto en distritos con similar longitud y latitud en los Andes. Sus hallazgos muestran que los que estuvieron vinculados a la mita minera siglos atrás tienen hoy un menor consumo doméstico, están menos integrados al mercado y a la red de carreteras y sus pobladores son más propensos a ser agricultores de subsistencia. \n",
        "\n",
        "Entre las fortalezas del artículo tenemos que analiza las instituciones históricas para explicar el subdesarrollo contemporáneo y el impacto en los resultados económicos para explorar la variación centrada en los canales de persistencia.  Además, estudia la variación exógena de la mita para identificar cómo influye en los canales del desarrollo económico. También, que usa datos como la tenencia de la tierra, los bienes públicos y la participación en el mercado como canales en los que puede medir los efectos que persisten de la mita. Por último, el análisis que ocupa la investigación permite medir en qué grado la mita persiste  a través de la aplicación matemática del uso de la regresión discontinua. \n",
        "\n",
        "Por otro lado, en cuanto a las debilidades, la investigación podría considerar las reformas que se dieron y el contexto de la actualidad de forma que su estudió no se vea afectado por alguna variable que no sea explicado por la continuidad no sólo de la mita sino otros fenómenos relacionados a forzar este modo de trabajo como la mita a un sector de la población en específico.  Asimismo, que los resultados en las diferencias en los estándares de vida pueden verse influidos por como las tasas diferenciales de migración de los distritos sometidos por la mita y los que no. \n",
        "\n",
        "\n",
        "La contribución del artículo en cuánto a los resultados se resume en que encontró que el efecto de mita a largo plazo disminuye el consumo doméstico e impacta sobre el retraso en el crecimiento.  Además, contribuye con la búsqueda de causas que expliquen la persistente desigualdad económica abarcando un período amplio de tiempo. De forma que los datos que emplea la investigación para examinar los canales de persistencia a través de dos modelos políticos como el Imperio Español y de la República del Perú. En cuanto a los hallazgos en los tres canales de persistencia se tiene que sobre la Tenencia de la tierra y sistemas de trabajo que las haciendas aislaron a los campesino de las instituciones extractivas de la sociedad colonial por lo que se evidencia un gran impacto de la mita sobre la concentración de haciendas. Pero que luego de la Reforma Agraria en la zona de la minería solo el 9% recibió tierras.  En cuánto a los bienes públicos encontró que hay evidencia que la mita históricamente disminuyó el acceso a la educación y que existen diferencias significativas en las redes viales regionales. De forma que la contribución es que se plantea que la data de grandes terratenientes ha condicionado que exista un sistema que alentó el aprovisionamiento de bienes públicos. \n",
        "\n",
        "De modo que se encuentre un avance en la pregunta de investigación, se puede tomar otros factores que inciden en la problemática, pues como se menciona en [Manrique, H., & Sanborn, C. (2021)](https://repositorio.up.edu.pe/handle/11354/2898) en su revisión bibliografica otros factores que explican la desigualdad no surgen necesariamente desde la mita si no que las puede explicar la actual economía de exportación minera, problemas específicos del Estado para mantener su liderazgo en el sector como las políticas estatistas que habían afectado a la capacidad exportadora como de transformación. Por otro lado, los impactos de la privatización y la nueva dinámica. A su vez, el modelo de desarrollo basado en la informalidad que repercute en actividades ilegales que incrementan la desigualdad persistente en la zona. \n",
        "Para finalizar otro artículo avanza en el asunto de la migración, un factor más actual y cómo afecta en la persistencia de la desigualdad en  [Loayza, N., & Rigolini, J. (2016)](https://www.sciencedirect.com/science/article/abs/pii/S0305750X16000462) donde concluye que este efecto en la desigualdad de la minería se explica, en primer lugar, por los inmigrantes mejor formados que requiere y atrae la actividad minera y, en segundo lugar, por los puestos de trabajo que obtienen algunos nativos de la comunidad en industrias y servicios relacionados con la minería. El impacto desigualador de la minería, tanto entre distritos como dentro de ellos, puede ayudar a explicar el descontento social con la minería en Perú, a pesar de sus enormes ingresos.\n",
        "\n",
        "Referencias: \n",
        "Dell, M. (2010). The persistent effects of Peru's mining mita. Econometrica, 78(6), 1863-1903\n",
        "\n",
        "Manrique, H., & Sanborn, C. (2021). La minería en el Perú: balance y perspectivas de cinco décadas de investigación. Universidad del Pacífico.\n",
        "\n",
        "Loayza, N., & Rigolini, J. (2016). The local impact of mining on poverty and inequality: evidence from the commodity boom in Peru. World development, 84, 219-234.\n",
        "\n"
      ]
    },
    {
      "cell_type": "markdown",
      "id": "3887b543",
      "metadata": {
        "id": "3887b543"
      },
      "source": [
        "## Parte 2: Código en Python\n",
        "#### Código hecho por Karen Arevalo y Mayeli Charra\n",
        "\n",
        "\n",
        "### Instrumental Variables\n",
        "\n",
        "Para esta primera sección deben darle una leida a The Effect Book principalmente al capitulo de Instrumental Variables.\n",
        "1. Explique en qué consiste el supuesto de \"Relevance\"\n",
        "- Relevance es un supuesto que debemos satisfacer para que las variables instrumentales funcionen.  implica que dado que queremos utilizar al instrumento (Z) para representar a nuestra variable de interés (X), dichas variables deben estar fuertemente correlacionadas.\n",
        "\n",
        "\n",
        "2. Explique en qué consiste el supuesto de \"Validity\"\n",
        "- Validity consiste en suponer que el instrumental Z s una variable que no tiene alguna puert trasera por si mismo. Es decir, que Z puede ser razonablemente excluido del modelo luego que la relación Z → X este incluida. "
      ]
    },
    {
      "cell_type": "code",
      "execution_count": 9,
      "id": "62ec43b8",
      "metadata": {
        "colab": {
          "base_uri": "https://localhost:8080/",
          "height": 283
        },
        "id": "62ec43b8",
        "outputId": "b2632528-70bc-44a8-d2f6-8a5530bc5b6b"
      },
      "outputs": [
        {
          "output_type": "execute_result",
          "data": {
            "text/plain": [
              "<graphviz.dot.Digraph at 0x7ff85439cc50>"
            ],
            "image/svg+xml": "<?xml version=\"1.0\" encoding=\"UTF-8\" standalone=\"no\"?>\n<!DOCTYPE svg PUBLIC \"-//W3C//DTD SVG 1.1//EN\"\n \"http://www.w3.org/Graphics/SVG/1.1/DTD/svg11.dtd\">\n<!-- Generated by graphviz version 2.40.1 (20161225.0304)\n -->\n<!-- Title: %3 Pages: 1 -->\n<svg width=\"142pt\" height=\"196pt\"\n viewBox=\"0.00 0.00 142.00 196.00\" xmlns=\"http://www.w3.org/2000/svg\" xmlns:xlink=\"http://www.w3.org/1999/xlink\">\n<g id=\"graph0\" class=\"graph\" transform=\"scale(1 1) rotate(0) translate(4 192)\">\n<title>%3</title>\n<polygon fill=\"#ffffff\" stroke=\"transparent\" points=\"-4,4 -4,-192 138,-192 138,4 -4,4\"/>\n<!-- Y -->\n<g id=\"node1\" class=\"node\">\n<title>Y</title>\n<ellipse fill=\"none\" stroke=\"#000000\" cx=\"54\" cy=\"-18\" rx=\"27\" ry=\"18\"/>\n<text text-anchor=\"middle\" x=\"54\" y=\"-14.3\" font-family=\"Times,serif\" font-size=\"14.00\" fill=\"#000000\">Y</text>\n</g>\n<!-- D -->\n<g id=\"node2\" class=\"node\">\n<title>D</title>\n<ellipse fill=\"none\" stroke=\"#000000\" cx=\"82\" cy=\"-90\" rx=\"27\" ry=\"18\"/>\n<text text-anchor=\"middle\" x=\"82\" y=\"-86.3\" font-family=\"Times,serif\" font-size=\"14.00\" fill=\"#000000\">D</text>\n</g>\n<!-- D&#45;&gt;Y -->\n<g id=\"edge1\" class=\"edge\">\n<title>D&#45;&gt;Y</title>\n<path fill=\"none\" stroke=\"#000000\" d=\"M75.222,-72.5708C72.0128,-64.3187 68.1065,-54.2738 64.5242,-45.0623\"/>\n<polygon fill=\"#000000\" stroke=\"#000000\" points=\"67.6992,-43.5697 60.8126,-35.5182 61.1752,-46.1069 67.6992,-43.5697\"/>\n</g>\n<!-- U -->\n<g id=\"node3\" class=\"node\">\n<title>U</title>\n<ellipse fill=\"none\" stroke=\"#000000\" cx=\"27\" cy=\"-166\" rx=\"27\" ry=\"18\"/>\n<text text-anchor=\"middle\" x=\"27\" y=\"-162.3\" font-family=\"Times,serif\" font-size=\"14.00\" fill=\"#000000\">U</text>\n</g>\n<!-- U&#45;&gt;Y -->\n<g id=\"edge3\" class=\"edge\">\n<title>U&#45;&gt;Y</title>\n<path fill=\"none\" stroke=\"#000000\" d=\"M30.3107,-147.8523C34.926,-122.5539 43.3397,-76.4342 48.7976,-46.5167\"/>\n<polygon fill=\"#000000\" stroke=\"#000000\" points=\"52.3106,-46.762 50.6622,-36.2961 45.4242,-45.5056 52.3106,-46.762\"/>\n</g>\n<!-- U&#45;&gt;D -->\n<g id=\"edge2\" class=\"edge\">\n<title>U&#45;&gt;D</title>\n<path fill=\"none\" stroke=\"#000000\" d=\"M38.9342,-149.5091C46.2856,-139.3508 55.8499,-126.1346 64.0974,-114.7382\"/>\n<polygon fill=\"#000000\" stroke=\"#000000\" points=\"67.0618,-116.6118 70.0891,-106.4587 61.391,-112.5079 67.0618,-116.6118\"/>\n</g>\n<!-- Z -->\n<g id=\"node4\" class=\"node\">\n<title>Z</title>\n<ellipse fill=\"none\" stroke=\"#000000\" cx=\"103\" cy=\"-166\" rx=\"27\" ry=\"18\"/>\n<ellipse fill=\"none\" stroke=\"#000000\" cx=\"103\" cy=\"-166\" rx=\"31\" ry=\"22\"/>\n<text text-anchor=\"middle\" x=\"103\" y=\"-162.3\" font-family=\"Times,serif\" font-size=\"14.00\" fill=\"#000000\">Z</text>\n</g>\n<!-- Z&#45;&gt;D -->\n<g id=\"edge4\" class=\"edge\">\n<title>Z&#45;&gt;D</title>\n<path fill=\"none\" stroke=\"#000000\" d=\"M96.9259,-144.0177C94.6622,-135.8252 92.0626,-126.417 89.6738,-117.7718\"/>\n<polygon fill=\"#000000\" stroke=\"#000000\" points=\"93.0362,-116.7989 86.9992,-108.0923 86.289,-118.6633 93.0362,-116.7989\"/>\n</g>\n</g>\n</svg>\n"
          },
          "metadata": {},
          "execution_count": 9
        }
      ],
      "source": [
        "iv = CausalGraphicalModel(nodes = [\"Z\",\"D\",\"Y\",\"U\"],\n",
        "                          edges = [(\"Z\",\"D\"),\n",
        "                                   (\"D\",\"Y\"),\n",
        "                                  (\"U\",\"D\"),\n",
        "                                  (\"U\",\"Y\")])\n",
        "iv = iv.do('Z')\n",
        "iv.draw()\n",
        "\n",
        "#Z: queda definido como instrumento\n",
        "#D: variable a ser instrumentalizada (endogeneidad)"
      ]
    },
    {
      "cell_type": "markdown",
      "id": "458bd2c1",
      "metadata": {
        "id": "458bd2c1"
      },
      "source": [
        "### Ploteo de Histogramas\n",
        "\n",
        "Tomando en cuenta que la variable nearc4 representa si existe un college en el county debe realizar los siguientes ploteos de histogramas.\n",
        "\n",
        "- Grafique dos histogramas para la variable años de educación educ para cuando nearc4 == 1, y cuando nearc4 == 0. Compare y describa los patrones que encuentra.\n"
      ]
    },
    {
      "cell_type": "code",
      "execution_count": 12,
      "id": "7c28f3e2",
      "metadata": {
        "id": "7c28f3e2"
      },
      "outputs": [],
      "source": [
        "from causalgraphicalmodels import CausalGraphicalModel\n",
        "import os\n",
        "import numpy as np \n",
        "import pandas as pd \n",
        "import statsmodels.api as sm \n",
        "import statsmodels.formula.api as smf \n",
        "from itertools import combinations \n",
        "import plotnine as p\n",
        "import statsmodels.api as sm\n",
        "import statsmodels.formula.api as smf\n",
        "import linearmodels.iv.model as lm\n",
        "from linearmodels.iv import IV2SLS\n",
        "from statsmodels.iolib.summary2 import summary_col\n",
        "import seaborn as sns\n",
        "import ipywidgets as widgets\n",
        "import matplotlib.pyplot as plt\n",
        "from sympy import *\n",
        "import sklearn\n",
        "import networkx\n",
        "import seaborn as sb "
      ]
    },
    {
      "cell_type": "code",
      "execution_count": 10,
      "id": "a01bd6b7",
      "metadata": {
        "scrolled": true,
        "colab": {
          "base_uri": "https://localhost:8080/",
          "height": 236
        },
        "id": "a01bd6b7",
        "outputId": "bc684748-cc29-45f9-9877-493b0bfddba7"
      },
      "outputs": [
        {
          "output_type": "execute_result",
          "data": {
            "text/plain": [
              "    id  nearc2  nearc4  educ   age  fatheduc  motheduc    weight  momdad14  \\\n",
              "0  2.0     0.0     0.0   7.0  29.0       NaN       NaN  158413.0       1.0   \n",
              "1  3.0     0.0     0.0  12.0  27.0       8.0       8.0  380166.0       1.0   \n",
              "2  4.0     0.0     0.0  12.0  34.0      14.0      12.0  367470.0       1.0   \n",
              "3  5.0     1.0     1.0  11.0  27.0      11.0      12.0  380166.0       1.0   \n",
              "4  6.0     1.0     1.0  12.0  34.0       8.0       7.0  367470.0       1.0   \n",
              "\n",
              "   sinmom14  ...   KWW     IQ  married  libcrd14  exper     lwage  expersq  \\\n",
              "0       0.0  ...  15.0    NaN      1.0       0.0   16.0  6.306275    256.0   \n",
              "1       0.0  ...  35.0   93.0      1.0       1.0    9.0  6.175867     81.0   \n",
              "2       0.0  ...  42.0  103.0      1.0       1.0   16.0  6.580639    256.0   \n",
              "3       0.0  ...  25.0   88.0      1.0       1.0   10.0  5.521461    100.0   \n",
              "4       0.0  ...  34.0  108.0      1.0       0.0   16.0  6.591674    256.0   \n",
              "\n",
              "    u_lwage  lwage_hat    u_educ  \n",
              "0  0.198047   6.108228 -3.067539  \n",
              "1 -0.211160   6.387027 -1.727562  \n",
              "2  0.204719   6.375920  1.012975  \n",
              "3 -0.967905   6.489366 -2.253536  \n",
              "4  0.125173   6.466501  1.090437  \n",
              "\n",
              "[5 rows x 37 columns]"
            ],
            "text/html": [
              "\n",
              "  <div id=\"df-8f22e34e-739a-4190-bcab-345a96db299a\">\n",
              "    <div class=\"colab-df-container\">\n",
              "      <div>\n",
              "<style scoped>\n",
              "    .dataframe tbody tr th:only-of-type {\n",
              "        vertical-align: middle;\n",
              "    }\n",
              "\n",
              "    .dataframe tbody tr th {\n",
              "        vertical-align: top;\n",
              "    }\n",
              "\n",
              "    .dataframe thead th {\n",
              "        text-align: right;\n",
              "    }\n",
              "</style>\n",
              "<table border=\"1\" class=\"dataframe\">\n",
              "  <thead>\n",
              "    <tr style=\"text-align: right;\">\n",
              "      <th></th>\n",
              "      <th>id</th>\n",
              "      <th>nearc2</th>\n",
              "      <th>nearc4</th>\n",
              "      <th>educ</th>\n",
              "      <th>age</th>\n",
              "      <th>fatheduc</th>\n",
              "      <th>motheduc</th>\n",
              "      <th>weight</th>\n",
              "      <th>momdad14</th>\n",
              "      <th>sinmom14</th>\n",
              "      <th>...</th>\n",
              "      <th>KWW</th>\n",
              "      <th>IQ</th>\n",
              "      <th>married</th>\n",
              "      <th>libcrd14</th>\n",
              "      <th>exper</th>\n",
              "      <th>lwage</th>\n",
              "      <th>expersq</th>\n",
              "      <th>u_lwage</th>\n",
              "      <th>lwage_hat</th>\n",
              "      <th>u_educ</th>\n",
              "    </tr>\n",
              "  </thead>\n",
              "  <tbody>\n",
              "    <tr>\n",
              "      <th>0</th>\n",
              "      <td>2.0</td>\n",
              "      <td>0.0</td>\n",
              "      <td>0.0</td>\n",
              "      <td>7.0</td>\n",
              "      <td>29.0</td>\n",
              "      <td>NaN</td>\n",
              "      <td>NaN</td>\n",
              "      <td>158413.0</td>\n",
              "      <td>1.0</td>\n",
              "      <td>0.0</td>\n",
              "      <td>...</td>\n",
              "      <td>15.0</td>\n",
              "      <td>NaN</td>\n",
              "      <td>1.0</td>\n",
              "      <td>0.0</td>\n",
              "      <td>16.0</td>\n",
              "      <td>6.306275</td>\n",
              "      <td>256.0</td>\n",
              "      <td>0.198047</td>\n",
              "      <td>6.108228</td>\n",
              "      <td>-3.067539</td>\n",
              "    </tr>\n",
              "    <tr>\n",
              "      <th>1</th>\n",
              "      <td>3.0</td>\n",
              "      <td>0.0</td>\n",
              "      <td>0.0</td>\n",
              "      <td>12.0</td>\n",
              "      <td>27.0</td>\n",
              "      <td>8.0</td>\n",
              "      <td>8.0</td>\n",
              "      <td>380166.0</td>\n",
              "      <td>1.0</td>\n",
              "      <td>0.0</td>\n",
              "      <td>...</td>\n",
              "      <td>35.0</td>\n",
              "      <td>93.0</td>\n",
              "      <td>1.0</td>\n",
              "      <td>1.0</td>\n",
              "      <td>9.0</td>\n",
              "      <td>6.175867</td>\n",
              "      <td>81.0</td>\n",
              "      <td>-0.211160</td>\n",
              "      <td>6.387027</td>\n",
              "      <td>-1.727562</td>\n",
              "    </tr>\n",
              "    <tr>\n",
              "      <th>2</th>\n",
              "      <td>4.0</td>\n",
              "      <td>0.0</td>\n",
              "      <td>0.0</td>\n",
              "      <td>12.0</td>\n",
              "      <td>34.0</td>\n",
              "      <td>14.0</td>\n",
              "      <td>12.0</td>\n",
              "      <td>367470.0</td>\n",
              "      <td>1.0</td>\n",
              "      <td>0.0</td>\n",
              "      <td>...</td>\n",
              "      <td>42.0</td>\n",
              "      <td>103.0</td>\n",
              "      <td>1.0</td>\n",
              "      <td>1.0</td>\n",
              "      <td>16.0</td>\n",
              "      <td>6.580639</td>\n",
              "      <td>256.0</td>\n",
              "      <td>0.204719</td>\n",
              "      <td>6.375920</td>\n",
              "      <td>1.012975</td>\n",
              "    </tr>\n",
              "    <tr>\n",
              "      <th>3</th>\n",
              "      <td>5.0</td>\n",
              "      <td>1.0</td>\n",
              "      <td>1.0</td>\n",
              "      <td>11.0</td>\n",
              "      <td>27.0</td>\n",
              "      <td>11.0</td>\n",
              "      <td>12.0</td>\n",
              "      <td>380166.0</td>\n",
              "      <td>1.0</td>\n",
              "      <td>0.0</td>\n",
              "      <td>...</td>\n",
              "      <td>25.0</td>\n",
              "      <td>88.0</td>\n",
              "      <td>1.0</td>\n",
              "      <td>1.0</td>\n",
              "      <td>10.0</td>\n",
              "      <td>5.521461</td>\n",
              "      <td>100.0</td>\n",
              "      <td>-0.967905</td>\n",
              "      <td>6.489366</td>\n",
              "      <td>-2.253536</td>\n",
              "    </tr>\n",
              "    <tr>\n",
              "      <th>4</th>\n",
              "      <td>6.0</td>\n",
              "      <td>1.0</td>\n",
              "      <td>1.0</td>\n",
              "      <td>12.0</td>\n",
              "      <td>34.0</td>\n",
              "      <td>8.0</td>\n",
              "      <td>7.0</td>\n",
              "      <td>367470.0</td>\n",
              "      <td>1.0</td>\n",
              "      <td>0.0</td>\n",
              "      <td>...</td>\n",
              "      <td>34.0</td>\n",
              "      <td>108.0</td>\n",
              "      <td>1.0</td>\n",
              "      <td>0.0</td>\n",
              "      <td>16.0</td>\n",
              "      <td>6.591674</td>\n",
              "      <td>256.0</td>\n",
              "      <td>0.125173</td>\n",
              "      <td>6.466501</td>\n",
              "      <td>1.090437</td>\n",
              "    </tr>\n",
              "  </tbody>\n",
              "</table>\n",
              "<p>5 rows × 37 columns</p>\n",
              "</div>\n",
              "      <button class=\"colab-df-convert\" onclick=\"convertToInteractive('df-8f22e34e-739a-4190-bcab-345a96db299a')\"\n",
              "              title=\"Convert this dataframe to an interactive table.\"\n",
              "              style=\"display:none;\">\n",
              "        \n",
              "  <svg xmlns=\"http://www.w3.org/2000/svg\" height=\"24px\"viewBox=\"0 0 24 24\"\n",
              "       width=\"24px\">\n",
              "    <path d=\"M0 0h24v24H0V0z\" fill=\"none\"/>\n",
              "    <path d=\"M18.56 5.44l.94 2.06.94-2.06 2.06-.94-2.06-.94-.94-2.06-.94 2.06-2.06.94zm-11 1L8.5 8.5l.94-2.06 2.06-.94-2.06-.94L8.5 2.5l-.94 2.06-2.06.94zm10 10l.94 2.06.94-2.06 2.06-.94-2.06-.94-.94-2.06-.94 2.06-2.06.94z\"/><path d=\"M17.41 7.96l-1.37-1.37c-.4-.4-.92-.59-1.43-.59-.52 0-1.04.2-1.43.59L10.3 9.45l-7.72 7.72c-.78.78-.78 2.05 0 2.83L4 21.41c.39.39.9.59 1.41.59.51 0 1.02-.2 1.41-.59l7.78-7.78 2.81-2.81c.8-.78.8-2.07 0-2.86zM5.41 20L4 18.59l7.72-7.72 1.47 1.35L5.41 20z\"/>\n",
              "  </svg>\n",
              "      </button>\n",
              "      \n",
              "  <style>\n",
              "    .colab-df-container {\n",
              "      display:flex;\n",
              "      flex-wrap:wrap;\n",
              "      gap: 12px;\n",
              "    }\n",
              "\n",
              "    .colab-df-convert {\n",
              "      background-color: #E8F0FE;\n",
              "      border: none;\n",
              "      border-radius: 50%;\n",
              "      cursor: pointer;\n",
              "      display: none;\n",
              "      fill: #1967D2;\n",
              "      height: 32px;\n",
              "      padding: 0 0 0 0;\n",
              "      width: 32px;\n",
              "    }\n",
              "\n",
              "    .colab-df-convert:hover {\n",
              "      background-color: #E2EBFA;\n",
              "      box-shadow: 0px 1px 2px rgba(60, 64, 67, 0.3), 0px 1px 3px 1px rgba(60, 64, 67, 0.15);\n",
              "      fill: #174EA6;\n",
              "    }\n",
              "\n",
              "    [theme=dark] .colab-df-convert {\n",
              "      background-color: #3B4455;\n",
              "      fill: #D2E3FC;\n",
              "    }\n",
              "\n",
              "    [theme=dark] .colab-df-convert:hover {\n",
              "      background-color: #434B5C;\n",
              "      box-shadow: 0px 1px 3px 1px rgba(0, 0, 0, 0.15);\n",
              "      filter: drop-shadow(0px 1px 2px rgba(0, 0, 0, 0.3));\n",
              "      fill: #FFFFFF;\n",
              "    }\n",
              "  </style>\n",
              "\n",
              "      <script>\n",
              "        const buttonEl =\n",
              "          document.querySelector('#df-8f22e34e-739a-4190-bcab-345a96db299a button.colab-df-convert');\n",
              "        buttonEl.style.display =\n",
              "          google.colab.kernel.accessAllowed ? 'block' : 'none';\n",
              "\n",
              "        async function convertToInteractive(key) {\n",
              "          const element = document.querySelector('#df-8f22e34e-739a-4190-bcab-345a96db299a');\n",
              "          const dataTable =\n",
              "            await google.colab.kernel.invokeFunction('convertToInteractive',\n",
              "                                                     [key], {});\n",
              "          if (!dataTable) return;\n",
              "\n",
              "          const docLinkHtml = 'Like what you see? Visit the ' +\n",
              "            '<a target=\"_blank\" href=https://colab.research.google.com/notebooks/data_table.ipynb>data table notebook</a>'\n",
              "            + ' to learn more about interactive tables.';\n",
              "          element.innerHTML = '';\n",
              "          dataTable['output_type'] = 'display_data';\n",
              "          await google.colab.output.renderOutput(dataTable, element);\n",
              "          const docLink = document.createElement('div');\n",
              "          docLink.innerHTML = docLinkHtml;\n",
              "          element.appendChild(docLink);\n",
              "        }\n",
              "      </script>\n",
              "    </div>\n",
              "  </div>\n",
              "  "
            ]
          },
          "metadata": {},
          "execution_count": 10
        }
      ],
      "source": [
        "# Cargamos la data\n",
        "\n",
        "import ssl\n",
        "ssl._create_default_https_context = ssl._create_unverified_context\n",
        "\n",
        "def read_data(file): \n",
        "    return pd.read_stata(\"https://raw.github.com/scunning1975/mixtape/master/\" + file)\n",
        "\n",
        "card = read_data(\"card.dta\")\n",
        "card.head()"
      ]
    },
    {
      "cell_type": "code",
      "execution_count": 13,
      "id": "cb81d8d7",
      "metadata": {
        "colab": {
          "base_uri": "https://localhost:8080/",
          "height": 369
        },
        "id": "cb81d8d7",
        "outputId": "696c8c40-360d-47ae-c6fe-35879766d454"
      },
      "outputs": [
        {
          "output_type": "display_data",
          "data": {
            "text/plain": [
              "<Figure size 720x360 with 2 Axes>"
            ],
            "image/png": "[encoded data removed]"
          },
          "metadata": {
            "needs_background": "light"
          }
        }
      ],
      "source": [
        "sns.displot(card, x=\"educ\", col=\"nearc4\")\n",
        "plt.show()"
      ]
    },
    {
      "cell_type": "markdown",
      "id": "84c7579c",
      "metadata": {
        "id": "84c7579c"
      },
      "source": [
        "- Grafique dos histogramas para la variable años del logaritmos de los ingresos lwage para cuando nearc4 == 1, y cuando nearc4 == 0. Compare y describa los patrones que encuentra."
      ]
    },
    {
      "cell_type": "code",
      "execution_count": 14,
      "id": "bd3916de",
      "metadata": {
        "colab": {
          "base_uri": "https://localhost:8080/",
          "height": 369
        },
        "id": "bd3916de",
        "outputId": "a956ce59-aa9d-4ef8-dd87-bc3980192aa6"
      },
      "outputs": [
        {
          "output_type": "display_data",
          "data": {
            "text/plain": [
              "<Figure size 720x360 with 2 Axes>"
            ],
            "image/png": "[encoded data removed]"
          },
          "metadata": {
            "needs_background": "light"
          }
        }
      ],
      "source": [
        "sns.displot(card, x=\"lwage\", col=\"nearc4\")\n",
        "plt.show()"
      ]
    },
    {
      "cell_type": "markdown",
      "id": "5986b336",
      "metadata": {
        "id": "5986b336"
      },
      "source": [
        "Comparación: Por un lado, se puede observar que para la variable educ, cuando nearc4 es igual a 1, la cantidad de personas a partir de los 12 años de educación aumenta a >600. Las diferencias entre nearc4 = 0 y nearc4=1 son de casi el doble en los gráficos. También podemos observar qye antes de los 10 años de educación, la variable nearc4 no tiene tanta cantidad en relación a los años de educación. Finalmente, podemos notar que (independientemente de que la variable nearc4 = 0 o =1) el pico más alto suele estar cuando las personas llegan a los 12 años de educación.\n",
        "\n",
        "Por otro lado, para la variable lwge, cuando la variable nearc4 = 1, la cantidad del número de personas con respecto a sus salarios aumenta considerablemente en casi el doble, con respecto a cuando nearc4=0. Finalmente, se puede apreciar que la distribución en ambos gráficos en un poco disitinta, en tanto la distribución de cuando nearc4=1 es más para la derecha."
      ]
    },
    {
      "cell_type": "markdown",
      "id": "50aa3cec",
      "metadata": {
        "id": "50aa3cec"
      },
      "source": [
        "### Regresiones\n",
        "\n",
        "Ahora van a replicar las regresiones que hicimos en clase pero el instrumento Z ya no será nearc4 sino nearc2. \n",
        "\n",
        "- Corran una regresion lineal del tipo \"lwage ~ educ + exper + black + south + married + smsa\", y expliquen los resultados que encuentran."
      ]
    },
    {
      "cell_type": "code",
      "execution_count": 15,
      "id": "85a9cc9b",
      "metadata": {
        "colab": {
          "base_uri": "https://localhost:8080/",
          "height": 558
        },
        "id": "85a9cc9b",
        "outputId": "ef49bb32-1fd4-4d01-b6d5-99e9735a20dc"
      },
      "outputs": [
        {
          "output_type": "execute_result",
          "data": {
            "text/plain": [
              "<class 'statsmodels.iolib.summary.Summary'>\n",
              "\"\"\"\n",
              "                            OLS Regression Results                            \n",
              "==============================================================================\n",
              "Dep. Variable:                  lwage   R-squared:                       0.305\n",
              "Model:                            OLS   Adj. R-squared:                  0.304\n",
              "Method:                 Least Squares   F-statistic:                     219.2\n",
              "Date:                Sun, 13 Nov 2022   Prob (F-statistic):          1.97e-232\n",
              "Time:                        16:51:37   Log-Likelihood:                -1273.9\n",
              "No. Observations:                3003   AIC:                             2562.\n",
              "Df Residuals:                    2996   BIC:                             2604.\n",
              "Df Model:                           6                                         \n",
              "Covariance Type:            nonrobust                                         \n",
              "==============================================================================\n",
              "                 coef    std err          t      P>|t|      [0.025      0.975]\n",
              "------------------------------------------------------------------------------\n",
              "Intercept      5.0633      0.064     79.437      0.000       4.938       5.188\n",
              "educ           0.0712      0.003     20.438      0.000       0.064       0.078\n",
              "exper          0.0342      0.002     15.422      0.000       0.030       0.038\n",
              "black         -0.1660      0.018     -9.426      0.000      -0.201      -0.131\n",
              "south         -0.1316      0.015     -8.788      0.000      -0.161      -0.102\n",
              "married       -0.0359      0.003    -10.547      0.000      -0.043      -0.029\n",
              "smsa           0.1758      0.015     11.372      0.000       0.145       0.206\n",
              "==============================================================================\n",
              "Omnibus:                       53.196   Durbin-Watson:                   1.858\n",
              "Prob(Omnibus):                  0.000   Jarque-Bera (JB):               69.430\n",
              "Skew:                          -0.231   Prob(JB):                     8.38e-16\n",
              "Kurtosis:                       3.584   Cond. No.                         154.\n",
              "==============================================================================\n",
              "\n",
              "Notes:\n",
              "[1] Standard Errors assume that the covariance matrix of the errors is correctly specified.\n",
              "\"\"\""
            ],
            "text/html": [
              "<table class=\"simpletable\">\n",
              "<caption>OLS Regression Results</caption>\n",
              "<tr>\n",
              "  <th>Dep. Variable:</th>          <td>lwage</td>      <th>  R-squared:         </th> <td>   0.305</td> \n",
              "</tr>\n",
              "<tr>\n",
              "  <th>Model:</th>                   <td>OLS</td>       <th>  Adj. R-squared:    </th> <td>   0.304</td> \n",
              "</tr>\n",
              "<tr>\n",
              "  <th>Method:</th>             <td>Least Squares</td>  <th>  F-statistic:       </th> <td>   219.2</td> \n",
              "</tr>\n",
              "<tr>\n",
              "  <th>Date:</th>             <td>Sun, 13 Nov 2022</td> <th>  Prob (F-statistic):</th> <td>1.97e-232</td>\n",
              "</tr>\n",
              "<tr>\n",
              "  <th>Time:</th>                 <td>16:51:37</td>     <th>  Log-Likelihood:    </th> <td> -1273.9</td> \n",
              "</tr>\n",
              "<tr>\n",
              "  <th>No. Observations:</th>      <td>  3003</td>      <th>  AIC:               </th> <td>   2562.</td> \n",
              "</tr>\n",
              "<tr>\n",
              "  <th>Df Residuals:</th>          <td>  2996</td>      <th>  BIC:               </th> <td>   2604.</td> \n",
              "</tr>\n",
              "<tr>\n",
              "  <th>Df Model:</th>              <td>     6</td>      <th>                     </th>     <td> </td>    \n",
              "</tr>\n",
              "<tr>\n",
              "  <th>Covariance Type:</th>      <td>nonrobust</td>    <th>                     </th>     <td> </td>    \n",
              "</tr>\n",
              "</table>\n",
              "<table class=\"simpletable\">\n",
              "<tr>\n",
              "      <td></td>         <th>coef</th>     <th>std err</th>      <th>t</th>      <th>P>|t|</th>  <th>[0.025</th>    <th>0.975]</th>  \n",
              "</tr>\n",
              "<tr>\n",
              "  <th>Intercept</th> <td>    5.0633</td> <td>    0.064</td> <td>   79.437</td> <td> 0.000</td> <td>    4.938</td> <td>    5.188</td>\n",
              "</tr>\n",
              "<tr>\n",
              "  <th>educ</th>      <td>    0.0712</td> <td>    0.003</td> <td>   20.438</td> <td> 0.000</td> <td>    0.064</td> <td>    0.078</td>\n",
              "</tr>\n",
              "<tr>\n",
              "  <th>exper</th>     <td>    0.0342</td> <td>    0.002</td> <td>   15.422</td> <td> 0.000</td> <td>    0.030</td> <td>    0.038</td>\n",
              "</tr>\n",
              "<tr>\n",
              "  <th>black</th>     <td>   -0.1660</td> <td>    0.018</td> <td>   -9.426</td> <td> 0.000</td> <td>   -0.201</td> <td>   -0.131</td>\n",
              "</tr>\n",
              "<tr>\n",
              "  <th>south</th>     <td>   -0.1316</td> <td>    0.015</td> <td>   -8.788</td> <td> 0.000</td> <td>   -0.161</td> <td>   -0.102</td>\n",
              "</tr>\n",
              "<tr>\n",
              "  <th>married</th>   <td>   -0.0359</td> <td>    0.003</td> <td>  -10.547</td> <td> 0.000</td> <td>   -0.043</td> <td>   -0.029</td>\n",
              "</tr>\n",
              "<tr>\n",
              "  <th>smsa</th>      <td>    0.1758</td> <td>    0.015</td> <td>   11.372</td> <td> 0.000</td> <td>    0.145</td> <td>    0.206</td>\n",
              "</tr>\n",
              "</table>\n",
              "<table class=\"simpletable\">\n",
              "<tr>\n",
              "  <th>Omnibus:</th>       <td>53.196</td> <th>  Durbin-Watson:     </th> <td>   1.858</td>\n",
              "</tr>\n",
              "<tr>\n",
              "  <th>Prob(Omnibus):</th> <td> 0.000</td> <th>  Jarque-Bera (JB):  </th> <td>  69.430</td>\n",
              "</tr>\n",
              "<tr>\n",
              "  <th>Skew:</th>          <td>-0.231</td> <th>  Prob(JB):          </th> <td>8.38e-16</td>\n",
              "</tr>\n",
              "<tr>\n",
              "  <th>Kurtosis:</th>      <td> 3.584</td> <th>  Cond. No.          </th> <td>    154.</td>\n",
              "</tr>\n",
              "</table><br/><br/>Notes:<br/>[1] Standard Errors assume that the covariance matrix of the errors is correctly specified."
            ]
          },
          "metadata": {},
          "execution_count": 15
        }
      ],
      "source": [
        "ols_reg = sm.OLS.from_formula(\"lwage ~ educ + exper + black + south + married + smsa\",data=card).fit()\n",
        "\n",
        "ols_reg.summary()"
      ]
    },
    {
      "cell_type": "markdown",
      "id": "ae3b7995",
      "metadata": {
        "id": "ae3b7995"
      },
      "source": [
        "A partir de los resultados, se tiene que todas las variable son estadisticamente significativo, es decir hay una correlación revisando todos los p.value estos son inferiores a 0.05. Ademas se puede decir que por cada año que aumenta la educación el salario mejora en 0.0712 unidades. "
      ]
    },
    {
      "cell_type": "markdown",
      "id": "66b5c591",
      "metadata": {
        "id": "66b5c591"
      },
      "source": [
        "- Corran una regresion de tipo IV(usando el paquete IV2SLS) donde van a instrumentalizar la variable educ con nearc2 . La regressión debería tener una forma de este tipo \"lwage ~ 1 + exper + black + south + married + smsa + [educ ~ nearc4 ]\". Compare los resultados encontrados en la regresión de arriba. Cambió el coeficiente relacionado a educ , por qué?"
      ]
    },
    {
      "cell_type": "code",
      "execution_count": 16,
      "id": "9df4fdc3",
      "metadata": {
        "id": "9df4fdc3"
      },
      "outputs": [],
      "source": [
        "# There are null values in the dataset, we will fill them with 0\n",
        "card['married'] = card['married'].fillna(0)"
      ]
    },
    {
      "cell_type": "code",
      "execution_count": 17,
      "id": "1346a943",
      "metadata": {
        "colab": {
          "base_uri": "https://localhost:8080/",
          "height": 463
        },
        "id": "1346a943",
        "outputId": "cc0cef56-9f72-46af-b26e-7f341939abce"
      },
      "outputs": [
        {
          "output_type": "execute_result",
          "data": {
            "text/plain": [
              "<class 'linearmodels.compat.statsmodels.Summary'>\n",
              "\"\"\"\n",
              "                          IV-2SLS Estimation Summary                          \n",
              "==============================================================================\n",
              "Dep. Variable:                  lwage   R-squared:                     -1.3114\n",
              "Estimator:                    IV-2SLS   Adj. R-squared:                -1.3160\n",
              "No. Observations:                3010   F-statistic:                    289.62\n",
              "Date:                Sun, Nov 13 2022   P-value (F-stat)                0.0000\n",
              "Time:                        16:51:44   Distribution:                  chi2(6)\n",
              "Cov. Estimator:                robust                                         \n",
              "                                                                              \n",
              "                             Parameter Estimates                              \n",
              "==============================================================================\n",
              "            Parameter  Std. Err.     T-stat    P-value    Lower CI    Upper CI\n",
              "------------------------------------------------------------------------------\n",
              "Intercept      0.1276     3.1412     0.0406     0.9676     -6.0290      6.2843\n",
              "black          0.1134     0.1816     0.6244     0.5324     -0.2425      0.4692\n",
              "exper          0.1515     0.0747     2.0274     0.0426      0.0050      0.2980\n",
              "married       -0.0151     0.0147    -1.0258     0.3050     -0.0438      0.0137\n",
              "smsa           0.0201     0.1030     0.1949     0.8455     -0.1819      0.2220\n",
              "south         -0.0319     0.0692    -0.4603     0.6453     -0.1675      0.1038\n",
              "educ           0.3618     0.1849     1.9562     0.0504     -0.0007      0.7243\n",
              "==============================================================================\n",
              "\n",
              "Endogenous: educ\n",
              "Instruments: nearc2\n",
              "Robust Covariance (Heteroskedastic)\n",
              "Debiased: False\n",
              "\"\"\""
            ],
            "text/html": [
              "<table class=\"simpletable\">\n",
              "<caption>IV-2SLS Estimation Summary</caption>\n",
              "<tr>\n",
              "  <th>Dep. Variable:</th>          <td>lwage</td>      <th>  R-squared:         </th> <td>-1.3114</td>\n",
              "</tr>\n",
              "<tr>\n",
              "  <th>Estimator:</th>             <td>IV-2SLS</td>     <th>  Adj. R-squared:    </th> <td>-1.3160</td>\n",
              "</tr>\n",
              "<tr>\n",
              "  <th>No. Observations:</th>       <td>3010</td>       <th>  F-statistic:       </th> <td>289.62</td> \n",
              "</tr>\n",
              "<tr>\n",
              "  <th>Date:</th>             <td>Sun, Nov 13 2022</td> <th>  P-value (F-stat)   </th> <td>0.0000</td> \n",
              "</tr>\n",
              "<tr>\n",
              "  <th>Time:</th>                 <td>16:51:44</td>     <th>  Distribution:      </th> <td>chi2(6)</td>\n",
              "</tr>\n",
              "<tr>\n",
              "  <th>Cov. Estimator:</th>        <td>robust</td>      <th>                     </th>    <td></td>    \n",
              "</tr>\n",
              "<tr>\n",
              "  <th></th>                          <td></td>         <th>                     </th>    <td></td>    \n",
              "</tr>\n",
              "</table>\n",
              "<table class=\"simpletable\">\n",
              "<caption>Parameter Estimates</caption>\n",
              "<tr>\n",
              "      <td></td>      <th>Parameter</th> <th>Std. Err.</th> <th>T-stat</th>  <th>P-value</th> <th>Lower CI</th> <th>Upper CI</th>\n",
              "</tr>\n",
              "<tr>\n",
              "  <th>Intercept</th>  <td>0.1276</td>    <td>3.1412</td>   <td>0.0406</td>  <td>0.9676</td>   <td>-6.0290</td>  <td>6.2843</td> \n",
              "</tr>\n",
              "<tr>\n",
              "  <th>black</th>      <td>0.1134</td>    <td>0.1816</td>   <td>0.6244</td>  <td>0.5324</td>   <td>-0.2425</td>  <td>0.4692</td> \n",
              "</tr>\n",
              "<tr>\n",
              "  <th>exper</th>      <td>0.1515</td>    <td>0.0747</td>   <td>2.0274</td>  <td>0.0426</td>   <td>0.0050</td>   <td>0.2980</td> \n",
              "</tr>\n",
              "<tr>\n",
              "  <th>married</th>    <td>-0.0151</td>   <td>0.0147</td>   <td>-1.0258</td> <td>0.3050</td>   <td>-0.0438</td>  <td>0.0137</td> \n",
              "</tr>\n",
              "<tr>\n",
              "  <th>smsa</th>       <td>0.0201</td>    <td>0.1030</td>   <td>0.1949</td>  <td>0.8455</td>   <td>-0.1819</td>  <td>0.2220</td> \n",
              "</tr>\n",
              "<tr>\n",
              "  <th>south</th>      <td>-0.0319</td>   <td>0.0692</td>   <td>-0.4603</td> <td>0.6453</td>   <td>-0.1675</td>  <td>0.1038</td> \n",
              "</tr>\n",
              "<tr>\n",
              "  <th>educ</th>       <td>0.3618</td>    <td>0.1849</td>   <td>1.9562</td>  <td>0.0504</td>   <td>-0.0007</td>  <td>0.7243</td> \n",
              "</tr>\n",
              "</table><br/><br/>Endogenous: educ<br/>Instruments: nearc2<br/>Robust Covariance (Heteroskedastic)<br/>Debiased: False"
            ]
          },
          "metadata": {},
          "execution_count": 17
        }
      ],
      "source": [
        "#2SLS\n",
        "iv_reg = IV2SLS.from_formula(\"lwage ~  1 + exper + black + south + married + smsa + [educ ~ nearc2 ]\", card).fit()\n",
        "iv_reg.summary"
      ]
    },
    {
      "cell_type": "markdown",
      "id": "fe2dd881",
      "metadata": {
        "id": "fe2dd881"
      },
      "source": [
        "Se obtiene un coefiente de 0.3618 a diferencia del 0.0712 de la regresión OLS, es decir aumenta. Sin embargo, revisando el p-value esta variable es mayor a 0.05 siendo de 0.0504 mientras en la regresión OLS esta es menor y cumple con ser estadisticamente significativa. De forma que, aumenta pero no es significativo y este cambio se debe en parte al usar el instrumental la cercanía en la que se vive (nearc2) para explicar la educacción y de esa forma el salario. Por otro lado, evaluando el estadístico F excede 15 y sugiere que no tenemos el porblema de un instrumental débil. "
      ]
    }
  ],
  "metadata": {
    "kernelspec": {
      "display_name": "Python 3 (ipykernel)",
      "language": "python",
      "name": "python3"
    },
    "language_info": {
      "codemirror_mode": {
        "name": "ipython",
        "version": 3
      },
      "file_extension": ".py",
      "mimetype": "text/x-python",
      "name": "python",
      "nbconvert_exporter": "python",
      "pygments_lexer": "ipython3",
      "version": "3.9.12"
    },
    "colab": {
      "provenance": []
    }
  },
  "nbformat": 4,
  "nbformat_minor": 5
}