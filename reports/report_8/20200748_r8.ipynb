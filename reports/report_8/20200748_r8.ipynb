{
 "cells": [
  {
   "cell_type": "markdown",
   "id": "b48a444a",
   "metadata": {},
   "source": [
    "# REPORTE 8:"
   ]
  },
  {
   "cell_type": "code",
   "execution_count": 1,
   "id": "e29ef582",
   "metadata": {},
   "outputs": [],
   "source": [
    "import numpy as np\n",
    "import pandas as pd\n",
    "import matplotlib.pyplot as plt\n",
    "import seaborn as sns, warnings\n",
    "import statsmodels.formula.api as smf\n",
    "warnings.filterwarnings('ignore')\n",
    "from causalgraphicalmodels import CausalGraphicalModel\n",
    "from cProfile import label\n",
    "%matplotlib inline\n",
    "import linearmodels.iv.model as lm\n",
    "from linearmodels.iv import IV2SLS\n",
    "import plotnine as p\n",
    "from causalgraphicalmodels import CausalGraphicalModel\n",
    "import os\n",
    "#os.environ[\"PATH\"] += os.pathsep + 'C:/Program Files/Graphviz/bin/'\n",
    "import numpy as np \n",
    "import pandas as pd \n",
    "import statsmodels.api as sm \n",
    "import statsmodels.formula.api as smf \n",
    "from itertools import combinations \n",
    "#import plotnine as p\n",
    "import statsmodels.api as sm\n",
    "import statsmodels.formula.api as smf\n",
    "import linearmodels.iv.model as lm\n",
    "from linearmodels.iv import IV2SLS\n",
    "from statsmodels.iolib.summary2 import summary_col\n",
    "import pyreadr"
   ]
  },
  {
   "cell_type": "markdown",
   "id": "5a33c54e",
   "metadata": {},
   "source": [
    "Trabajo conjunto con Roxana Rodríguez (20200373) y Greysi Arrelucea (20200279)"
   ]
  },
  {
   "cell_type": "markdown",
   "id": "6a59efb1",
   "metadata": {},
   "source": [
    "## Parte 1: Código"
   ]
  },
  {
   "cell_type": "markdown",
   "id": "6b35940f",
   "metadata": {},
   "source": [
    "## Instrumental Variables"
   ]
  },
  {
   "cell_type": "markdown",
   "id": "31b0a639",
   "metadata": {},
   "source": [
    "#### 1.1) Explique en qué consiste el supuesto de \"Relevance\""
   ]
  },
  {
   "cell_type": "markdown",
   "id": "45b58c27",
   "metadata": {},
   "source": [
    "La relevancia es importante porque  nos permite ver los supuesto de identifiación y uso de variables instrumentale de manera más segura pra así saber que 'z' (el instrumento) realmente se relaciona con 'x' (el tratamiento). De esta manera, se busca que las variables instrumentales si funcionene al buscar evitar a la endogeneidad (D),  que la variable independiente se correlaciona con el término de error en una regresión. Es así como la relevancia mira la relación entre 'x' y 'z' y vea cuán fuerte es. Cuanto más fuerte sea, más confianza tendrá en la suposición de relevancia y menos saltará la estimación de una muestra a otra."
   ]
  },
  {
   "cell_type": "markdown",
   "id": "e530b09c",
   "metadata": {},
   "source": [
    "#### 1.2) Explique en qué consiste el supuesto de \"Validity\""
   ]
  },
  {
   "cell_type": "markdown",
   "id": "cd882631",
   "metadata": {},
   "source": [
    "La validez se entiende en tanto cualquier ruta entre el instrumento Z y el resultado Y debe pasar por el tratamiento X o cerrarse para ser válido la suposición. Sin embargo, la validez también se la reconoce por 'restricción de exclusión' porque es una suposición de que Z puede excluirse razonablemente del modelo de Y después de que se incluye la ruta Z → X. Entonces, para que la suposición de validez se cumpla para Z, necesitamos cerrar tanto Z ← B →Y  camino como el camino veamos Z → A → Y. Si podemos controlar tanto como A y B , todo está bien. En este sentido, la validez es la suposición de que el instrumento 'z' es una variable que 'no tiene puertas traseras abiertas propias'."
   ]
  },
  {
   "cell_type": "markdown",
   "id": "0eb713c8",
   "metadata": {},
   "source": [
    "## Ploteo de Histogramas"
   ]
  },
  {
   "cell_type": "markdown",
   "id": "290dca25",
   "metadata": {},
   "source": [
    "#### 2.1) Grafique dos histogramas para la variable años de educación \"educ\" para cuando nearc4 == 1, y cuando nearc4 == 0. Compare y describa los patrones que encuentra."
   ]
  },
  {
   "cell_type": "code",
   "execution_count": 2,
   "id": "75840439",
   "metadata": {},
   "outputs": [
    {
     "data": {
      "text/html": [
       "<div>\n",
       "<style scoped>\n",
       "    .dataframe tbody tr th:only-of-type {\n",
       "        vertical-align: middle;\n",
       "    }\n",
       "\n",
       "    .dataframe tbody tr th {\n",
       "        vertical-align: top;\n",
       "    }\n",
       "\n",
       "    .dataframe thead th {\n",
       "        text-align: right;\n",
       "    }\n",
       "</style>\n",
       "<table border=\"1\" class=\"dataframe\">\n",
       "  <thead>\n",
       "    <tr style=\"text-align: right;\">\n",
       "      <th></th>\n",
       "      <th>id</th>\n",
       "      <th>nearc2</th>\n",
       "      <th>nearc4</th>\n",
       "      <th>educ</th>\n",
       "      <th>age</th>\n",
       "      <th>fatheduc</th>\n",
       "      <th>motheduc</th>\n",
       "      <th>weight</th>\n",
       "      <th>momdad14</th>\n",
       "      <th>sinmom14</th>\n",
       "      <th>...</th>\n",
       "      <th>KWW</th>\n",
       "      <th>IQ</th>\n",
       "      <th>married</th>\n",
       "      <th>libcrd14</th>\n",
       "      <th>exper</th>\n",
       "      <th>lwage</th>\n",
       "      <th>expersq</th>\n",
       "      <th>u_lwage</th>\n",
       "      <th>lwage_hat</th>\n",
       "      <th>u_educ</th>\n",
       "    </tr>\n",
       "  </thead>\n",
       "  <tbody>\n",
       "    <tr>\n",
       "      <th>0</th>\n",
       "      <td>2.0</td>\n",
       "      <td>0.0</td>\n",
       "      <td>0.0</td>\n",
       "      <td>7.0</td>\n",
       "      <td>29.0</td>\n",
       "      <td>NaN</td>\n",
       "      <td>NaN</td>\n",
       "      <td>158413.0</td>\n",
       "      <td>1.0</td>\n",
       "      <td>0.0</td>\n",
       "      <td>...</td>\n",
       "      <td>15.0</td>\n",
       "      <td>NaN</td>\n",
       "      <td>1.0</td>\n",
       "      <td>0.0</td>\n",
       "      <td>16.0</td>\n",
       "      <td>6.306275</td>\n",
       "      <td>256.0</td>\n",
       "      <td>0.198047</td>\n",
       "      <td>6.108228</td>\n",
       "      <td>-3.067539</td>\n",
       "    </tr>\n",
       "    <tr>\n",
       "      <th>1</th>\n",
       "      <td>3.0</td>\n",
       "      <td>0.0</td>\n",
       "      <td>0.0</td>\n",
       "      <td>12.0</td>\n",
       "      <td>27.0</td>\n",
       "      <td>8.0</td>\n",
       "      <td>8.0</td>\n",
       "      <td>380166.0</td>\n",
       "      <td>1.0</td>\n",
       "      <td>0.0</td>\n",
       "      <td>...</td>\n",
       "      <td>35.0</td>\n",
       "      <td>93.0</td>\n",
       "      <td>1.0</td>\n",
       "      <td>1.0</td>\n",
       "      <td>9.0</td>\n",
       "      <td>6.175867</td>\n",
       "      <td>81.0</td>\n",
       "      <td>-0.211160</td>\n",
       "      <td>6.387027</td>\n",
       "      <td>-1.727562</td>\n",
       "    </tr>\n",
       "    <tr>\n",
       "      <th>2</th>\n",
       "      <td>4.0</td>\n",
       "      <td>0.0</td>\n",
       "      <td>0.0</td>\n",
       "      <td>12.0</td>\n",
       "      <td>34.0</td>\n",
       "      <td>14.0</td>\n",
       "      <td>12.0</td>\n",
       "      <td>367470.0</td>\n",
       "      <td>1.0</td>\n",
       "      <td>0.0</td>\n",
       "      <td>...</td>\n",
       "      <td>42.0</td>\n",
       "      <td>103.0</td>\n",
       "      <td>1.0</td>\n",
       "      <td>1.0</td>\n",
       "      <td>16.0</td>\n",
       "      <td>6.580639</td>\n",
       "      <td>256.0</td>\n",
       "      <td>0.204719</td>\n",
       "      <td>6.375920</td>\n",
       "      <td>1.012975</td>\n",
       "    </tr>\n",
       "    <tr>\n",
       "      <th>3</th>\n",
       "      <td>5.0</td>\n",
       "      <td>1.0</td>\n",
       "      <td>1.0</td>\n",
       "      <td>11.0</td>\n",
       "      <td>27.0</td>\n",
       "      <td>11.0</td>\n",
       "      <td>12.0</td>\n",
       "      <td>380166.0</td>\n",
       "      <td>1.0</td>\n",
       "      <td>0.0</td>\n",
       "      <td>...</td>\n",
       "      <td>25.0</td>\n",
       "      <td>88.0</td>\n",
       "      <td>1.0</td>\n",
       "      <td>1.0</td>\n",
       "      <td>10.0</td>\n",
       "      <td>5.521461</td>\n",
       "      <td>100.0</td>\n",
       "      <td>-0.967905</td>\n",
       "      <td>6.489366</td>\n",
       "      <td>-2.253536</td>\n",
       "    </tr>\n",
       "    <tr>\n",
       "      <th>4</th>\n",
       "      <td>6.0</td>\n",
       "      <td>1.0</td>\n",
       "      <td>1.0</td>\n",
       "      <td>12.0</td>\n",
       "      <td>34.0</td>\n",
       "      <td>8.0</td>\n",
       "      <td>7.0</td>\n",
       "      <td>367470.0</td>\n",
       "      <td>1.0</td>\n",
       "      <td>0.0</td>\n",
       "      <td>...</td>\n",
       "      <td>34.0</td>\n",
       "      <td>108.0</td>\n",
       "      <td>1.0</td>\n",
       "      <td>0.0</td>\n",
       "      <td>16.0</td>\n",
       "      <td>6.591674</td>\n",
       "      <td>256.0</td>\n",
       "      <td>0.125173</td>\n",
       "      <td>6.466501</td>\n",
       "      <td>1.090437</td>\n",
       "    </tr>\n",
       "  </tbody>\n",
       "</table>\n",
       "<p>5 rows × 37 columns</p>\n",
       "</div>"
      ],
      "text/plain": [
       "    id  nearc2  nearc4  educ   age  fatheduc  motheduc    weight  momdad14  \\\n",
       "0  2.0     0.0     0.0   7.0  29.0       NaN       NaN  158413.0       1.0   \n",
       "1  3.0     0.0     0.0  12.0  27.0       8.0       8.0  380166.0       1.0   \n",
       "2  4.0     0.0     0.0  12.0  34.0      14.0      12.0  367470.0       1.0   \n",
       "3  5.0     1.0     1.0  11.0  27.0      11.0      12.0  380166.0       1.0   \n",
       "4  6.0     1.0     1.0  12.0  34.0       8.0       7.0  367470.0       1.0   \n",
       "\n",
       "   sinmom14  ...   KWW     IQ  married  libcrd14  exper     lwage  expersq  \\\n",
       "0       0.0  ...  15.0    NaN      1.0       0.0   16.0  6.306275    256.0   \n",
       "1       0.0  ...  35.0   93.0      1.0       1.0    9.0  6.175867     81.0   \n",
       "2       0.0  ...  42.0  103.0      1.0       1.0   16.0  6.580639    256.0   \n",
       "3       0.0  ...  25.0   88.0      1.0       1.0   10.0  5.521461    100.0   \n",
       "4       0.0  ...  34.0  108.0      1.0       0.0   16.0  6.591674    256.0   \n",
       "\n",
       "    u_lwage  lwage_hat    u_educ  \n",
       "0  0.198047   6.108228 -3.067539  \n",
       "1 -0.211160   6.387027 -1.727562  \n",
       "2  0.204719   6.375920  1.012975  \n",
       "3 -0.967905   6.489366 -2.253536  \n",
       "4  0.125173   6.466501  1.090437  \n",
       "\n",
       "[5 rows x 37 columns]"
      ]
     },
     "execution_count": 2,
     "metadata": {},
     "output_type": "execute_result"
    }
   ],
   "source": [
    "# se carga la data\n",
    "import ssl\n",
    "ssl._create_default_https_context = ssl._create_unverified_context\n",
    "\n",
    "def read_data(file): \n",
    "    return pd.read_stata(\"https://raw.github.com/scunning1975/mixtape/master/\" + file)\n",
    "\n",
    "card = read_data(\"card.dta\")\n",
    "card.head()"
   ]
  },
  {
   "cell_type": "markdown",
   "id": "a84874eb",
   "metadata": {},
   "source": [
    "- Histogramas separados de la variable educ (años de eduación) a partir de la variable nearc4(si existe o no una institución de educación superior) cuando es ==0 o ==1 "
   ]
  },
  {
   "cell_type": "code",
   "execution_count": 3,
   "id": "dc9f00f4",
   "metadata": {
    "scrolled": true
   },
   "outputs": [
    {
     "data": {
      "text/plain": [
       "<seaborn.axisgrid.FacetGrid at 0x2091e2e2280>"
      ]
     },
     "execution_count": 3,
     "metadata": {},
     "output_type": "execute_result"
    },
    {
     "data": {
      "image/png": "[encoded data removed]",
      "text/plain": [
       "<Figure size 720x360 with 2 Axes>"
      ]
     },
     "metadata": {
      "needs_background": "light"
     },
     "output_type": "display_data"
    }
   ],
   "source": [
    "sns.displot(card, x=\"educ\", col=\"nearc4\", color='lightblue') "
   ]
  },
  {
   "cell_type": "code",
   "execution_count": 4,
   "id": "29571fbe",
   "metadata": {},
   "outputs": [
    {
     "data": {
      "text/plain": [
       "Text(8.557222222222222, 0.5, 'Frecuencia')"
      ]
     },
     "execution_count": 4,
     "metadata": {},
     "output_type": "execute_result"
    },
    {
     "data": {
      "image/png": "[encoded data removed]",
      "text/plain": [
       "<Figure size 412x360 with 1 Axes>"
      ]
     },
     "metadata": {
      "needs_background": "light"
     },
     "output_type": "display_data"
    }
   ],
   "source": [
    "sns.displot(card, x=\"educ\", hue=\"nearc4\")  \n",
    "plt.title(\"Histograma de los años de educación\", fontsize=16)\n",
    "plt.xlabel(\"Años de educación\", fontsize=13)\n",
    "plt.ylabel(\"Frecuencia\", fontsize=13)"
   ]
  },
  {
   "cell_type": "markdown",
   "id": "f8bbd88e",
   "metadata": {},
   "source": [
    "- Interpretación\n",
    "\n",
    "De los gráficos observados, se puede evidenciar que la proximidad de una institución de educación superior está correlacionado con el aumento de años de educación, es decir, se podría decir que la presencia de universidades de 4 años aumentan la probabilidad de ir a la universidad y continuar los estudios superiores. Mientras que la no presencia cercana de institutos superiores de educación no presenta una tan fuerte correlación si la comparamos con la situación anterior. Por ejemplo, aunque cuando los años de educación son alrededor de 12.5 años, ambos casos, presencia o no presencia de universidad, están presentes, pero la probabilidad de continuar sus estudios aumenta mucho más cuando si hay una universidad cerca a su lugar de residencia. Al analizar la tendencia y distribución, podemos decir que mientras haya universidades de 4 años de estudios cerca al lugar de residencia, la probabilidad de estudiar o continuar con estudios superiores aumenta considerablemente. Esto puede darse porque al tener un instituto educativo superior cerca a su residencia no tienen que gastar en transporte público, alimento o alquilers, etc. "
   ]
  },
  {
   "cell_type": "markdown",
   "id": "cd626ba0",
   "metadata": {},
   "source": [
    "#### 2.2) Grafique dos histogramas para la variable años del logaritmos de los ingresos \"lwage\" (logaritmo de ingresos) para cuando nearc4 == 1, y cuando nearc4 == 0. Compare y describa los patrones que encuentra."
   ]
  },
  {
   "cell_type": "markdown",
   "id": "3f80a613",
   "metadata": {},
   "source": [
    "- Histogramas separados de la variable lwage (logaritmos de los ingresos) a partir de la variable nearc4(si existe o no una institución de educación superior o no) cuando es ==0 o ==1 "
   ]
  },
  {
   "cell_type": "code",
   "execution_count": 5,
   "id": "3d8f1edb",
   "metadata": {},
   "outputs": [
    {
     "data": {
      "text/plain": [
       "<seaborn.axisgrid.FacetGrid at 0x2092490f580>"
      ]
     },
     "execution_count": 5,
     "metadata": {},
     "output_type": "execute_result"
    },
    {
     "data": {
      "image/png": "[encoded data removed]",
      "text/plain": [
       "<Figure size 720x360 with 2 Axes>"
      ]
     },
     "metadata": {
      "needs_background": "light"
     },
     "output_type": "display_data"
    }
   ],
   "source": [
    "sns.displot(card, x=\"lwage\", col=\"nearc4\", color='blue') "
   ]
  },
  {
   "cell_type": "code",
   "execution_count": 8,
   "id": "aa733f8e",
   "metadata": {},
   "outputs": [
    {
     "data": {
      "text/plain": [
       "Text(8.557222222222222, 0.5, 'Frecuencia')"
      ]
     },
     "execution_count": 8,
     "metadata": {},
     "output_type": "execute_result"
    },
    {
     "data": {
      "image/png": "[encoded data removed]",
      "text/plain": [
       "<Figure size 412x360 with 1 Axes>"
      ]
     },
     "metadata": {
      "needs_background": "light"
     },
     "output_type": "display_data"
    }
   ],
   "source": [
    "sns.displot(card, x=\"lwage\", hue=\"nearc4\", color='blue') \n",
    "plt.title(\"Histograma del logaritmo de Ingresos\", fontsize=16)\n",
    "plt.xlabel(\"Ingresos\", fontsize=13)\n",
    "plt.ylabel(\"Frecuencia\", fontsize=13)"
   ]
  },
  {
   "cell_type": "markdown",
   "id": "bd253b45",
   "metadata": {},
   "source": [
    "- Interpretación:\n",
    "\n",
    "A partir de estos gráficos podemos saber si la proximidad a una univerisadad de 4 años de estudios tiene efecto o se correlaciona con el logaritmo de los ingresos. En ambos casos, tanto cuando hay y no hay universidades, presentan una distribución normal que nos señala que existe una distribución simétrica entre los datos. Sin embargo, a pesar de esto, el impacto de la presencia cercana de estas instituciones superiores en los logaritmos de ingreso son más visibles y significativos. Desde el punto 5.5 a 7.0 se aprecia como cuanto más aumenta el ingreso, más aumenta también la presencia de universidades. Existe una diferencia significativa entre ambos casos y parece ser que la presencia de universidades si tiene un efecto/relación significativa sobre el logaritmo de ingresos. "
   ]
  },
  {
   "cell_type": "markdown",
   "id": "d4628b87",
   "metadata": {},
   "source": [
    "### 3. Regresiones"
   ]
  },
  {
   "cell_type": "markdown",
   "id": "49aa172c",
   "metadata": {},
   "source": [
    "#### 3.1) Corran una regresion lineal del tipo \"lwage ~ educ + exper + black + south + married + smsa\", y expliquen los resultados que encuentran."
   ]
  },
  {
   "cell_type": "code",
   "execution_count": 9,
   "id": "b9aabacc",
   "metadata": {},
   "outputs": [
    {
     "data": {
      "text/html": [
       "<table class=\"simpletable\">\n",
       "<caption>OLS Regression Results</caption>\n",
       "<tr>\n",
       "  <th>Dep. Variable:</th>          <td>lwage</td>      <th>  R-squared:         </th> <td>   0.305</td> \n",
       "</tr>\n",
       "<tr>\n",
       "  <th>Model:</th>                   <td>OLS</td>       <th>  Adj. R-squared:    </th> <td>   0.304</td> \n",
       "</tr>\n",
       "<tr>\n",
       "  <th>Method:</th>             <td>Least Squares</td>  <th>  F-statistic:       </th> <td>   219.2</td> \n",
       "</tr>\n",
       "<tr>\n",
       "  <th>Date:</th>             <td>Sun, 13 Nov 2022</td> <th>  Prob (F-statistic):</th> <td>1.97e-232</td>\n",
       "</tr>\n",
       "<tr>\n",
       "  <th>Time:</th>                 <td>14:50:50</td>     <th>  Log-Likelihood:    </th> <td> -1273.9</td> \n",
       "</tr>\n",
       "<tr>\n",
       "  <th>No. Observations:</th>      <td>  3003</td>      <th>  AIC:               </th> <td>   2562.</td> \n",
       "</tr>\n",
       "<tr>\n",
       "  <th>Df Residuals:</th>          <td>  2996</td>      <th>  BIC:               </th> <td>   2604.</td> \n",
       "</tr>\n",
       "<tr>\n",
       "  <th>Df Model:</th>              <td>     6</td>      <th>                     </th>     <td> </td>    \n",
       "</tr>\n",
       "<tr>\n",
       "  <th>Covariance Type:</th>      <td>nonrobust</td>    <th>                     </th>     <td> </td>    \n",
       "</tr>\n",
       "</table>\n",
       "<table class=\"simpletable\">\n",
       "<tr>\n",
       "      <td></td>         <th>coef</th>     <th>std err</th>      <th>t</th>      <th>P>|t|</th>  <th>[0.025</th>    <th>0.975]</th>  \n",
       "</tr>\n",
       "<tr>\n",
       "  <th>Intercept</th> <td>    5.0633</td> <td>    0.064</td> <td>   79.437</td> <td> 0.000</td> <td>    4.938</td> <td>    5.188</td>\n",
       "</tr>\n",
       "<tr>\n",
       "  <th>educ</th>      <td>    0.0712</td> <td>    0.003</td> <td>   20.438</td> <td> 0.000</td> <td>    0.064</td> <td>    0.078</td>\n",
       "</tr>\n",
       "<tr>\n",
       "  <th>exper</th>     <td>    0.0342</td> <td>    0.002</td> <td>   15.422</td> <td> 0.000</td> <td>    0.030</td> <td>    0.038</td>\n",
       "</tr>\n",
       "<tr>\n",
       "  <th>black</th>     <td>   -0.1660</td> <td>    0.018</td> <td>   -9.426</td> <td> 0.000</td> <td>   -0.201</td> <td>   -0.131</td>\n",
       "</tr>\n",
       "<tr>\n",
       "  <th>south</th>     <td>   -0.1316</td> <td>    0.015</td> <td>   -8.788</td> <td> 0.000</td> <td>   -0.161</td> <td>   -0.102</td>\n",
       "</tr>\n",
       "<tr>\n",
       "  <th>married</th>   <td>   -0.0359</td> <td>    0.003</td> <td>  -10.547</td> <td> 0.000</td> <td>   -0.043</td> <td>   -0.029</td>\n",
       "</tr>\n",
       "<tr>\n",
       "  <th>smsa</th>      <td>    0.1758</td> <td>    0.015</td> <td>   11.372</td> <td> 0.000</td> <td>    0.145</td> <td>    0.206</td>\n",
       "</tr>\n",
       "</table>\n",
       "<table class=\"simpletable\">\n",
       "<tr>\n",
       "  <th>Omnibus:</th>       <td>53.196</td> <th>  Durbin-Watson:     </th> <td>   1.858</td>\n",
       "</tr>\n",
       "<tr>\n",
       "  <th>Prob(Omnibus):</th> <td> 0.000</td> <th>  Jarque-Bera (JB):  </th> <td>  69.430</td>\n",
       "</tr>\n",
       "<tr>\n",
       "  <th>Skew:</th>          <td>-0.231</td> <th>  Prob(JB):          </th> <td>8.38e-16</td>\n",
       "</tr>\n",
       "<tr>\n",
       "  <th>Kurtosis:</th>      <td> 3.584</td> <th>  Cond. No.          </th> <td>    154.</td>\n",
       "</tr>\n",
       "</table><br/><br/>Notes:<br/>[1] Standard Errors assume that the covariance matrix of the errors is correctly specified."
      ],
      "text/plain": [
       "<class 'statsmodels.iolib.summary.Summary'>\n",
       "\"\"\"\n",
       "                            OLS Regression Results                            \n",
       "==============================================================================\n",
       "Dep. Variable:                  lwage   R-squared:                       0.305\n",
       "Model:                            OLS   Adj. R-squared:                  0.304\n",
       "Method:                 Least Squares   F-statistic:                     219.2\n",
       "Date:                Sun, 13 Nov 2022   Prob (F-statistic):          1.97e-232\n",
       "Time:                        14:50:50   Log-Likelihood:                -1273.9\n",
       "No. Observations:                3003   AIC:                             2562.\n",
       "Df Residuals:                    2996   BIC:                             2604.\n",
       "Df Model:                           6                                         \n",
       "Covariance Type:            nonrobust                                         \n",
       "==============================================================================\n",
       "                 coef    std err          t      P>|t|      [0.025      0.975]\n",
       "------------------------------------------------------------------------------\n",
       "Intercept      5.0633      0.064     79.437      0.000       4.938       5.188\n",
       "educ           0.0712      0.003     20.438      0.000       0.064       0.078\n",
       "exper          0.0342      0.002     15.422      0.000       0.030       0.038\n",
       "black         -0.1660      0.018     -9.426      0.000      -0.201      -0.131\n",
       "south         -0.1316      0.015     -8.788      0.000      -0.161      -0.102\n",
       "married       -0.0359      0.003    -10.547      0.000      -0.043      -0.029\n",
       "smsa           0.1758      0.015     11.372      0.000       0.145       0.206\n",
       "==============================================================================\n",
       "Omnibus:                       53.196   Durbin-Watson:                   1.858\n",
       "Prob(Omnibus):                  0.000   Jarque-Bera (JB):               69.430\n",
       "Skew:                          -0.231   Prob(JB):                     8.38e-16\n",
       "Kurtosis:                       3.584   Cond. No.                         154.\n",
       "==============================================================================\n",
       "\n",
       "Notes:\n",
       "[1] Standard Errors assume that the covariance matrix of the errors is correctly specified.\n",
       "\"\"\""
      ]
     },
     "execution_count": 9,
     "metadata": {},
     "output_type": "execute_result"
    }
   ],
   "source": [
    "#OLS\n",
    "ols_reg = sm.OLS.from_formula(\"lwage ~ educ + exper + black + south + married + smsa\", \n",
    "              data = card).fit()\n",
    "\n",
    "ols_reg.summary()"
   ]
  },
  {
   "cell_type": "markdown",
   "id": "9b3c758f",
   "metadata": {},
   "source": [
    "- Explicación de resultados:\n",
    "\n",
    "En este modelo no está presente ni la varible nearc4 ni nearc2, así que estamos analizando un modelo que busca saber la correlación de otras variables sobre el aumento y/o disminución de la variable logaritmo de ingresos. Todas las variables son significativas ya que su p-value es menor a 0,05, pero el R2 del modelo nos indicia que este modelo explica en un 30.5% la variabilidad del resultado/de la variable dependiente (logaritmos del ingreso), y por ende no es un modelo muy fuerte. Si nos enfocamos en la variable años de educación podemos ver que por cada aumento de los años de educación, aumenta el ingreso de los encuestados en un 7.1%."
   ]
  },
  {
   "cell_type": "code",
   "execution_count": 10,
   "id": "f2ac3180",
   "metadata": {},
   "outputs": [],
   "source": [
    "#Al haber valores invalidos se rellenan con otros datos (0).\n",
    "card['married'] = card['married'].fillna(0)"
   ]
  },
  {
   "cell_type": "markdown",
   "id": "58d0fa69",
   "metadata": {},
   "source": [
    "#### 3.2) Corran una regresion de tipo IV(usando el paquete IV2SLS) donde van a instrumentalizar la variable educ con nearc2 .\n",
    "La regressión debería tener una forma de este tipo \"lwage ~ 1 + exper + black + south + married + smsa + [educ ~ nearc2]\"."
   ]
  },
  {
   "cell_type": "code",
   "execution_count": 11,
   "id": "91caa983",
   "metadata": {},
   "outputs": [
    {
     "data": {
      "text/html": [
       "<table class=\"simpletable\">\n",
       "<caption>IV-2SLS Estimation Summary</caption>\n",
       "<tr>\n",
       "  <th>Dep. Variable:</th>          <td>lwage</td>      <th>  R-squared:         </th> <td>-1.3114</td>\n",
       "</tr>\n",
       "<tr>\n",
       "  <th>Estimator:</th>             <td>IV-2SLS</td>     <th>  Adj. R-squared:    </th> <td>-1.3160</td>\n",
       "</tr>\n",
       "<tr>\n",
       "  <th>No. Observations:</th>       <td>3010</td>       <th>  F-statistic:       </th> <td>289.62</td> \n",
       "</tr>\n",
       "<tr>\n",
       "  <th>Date:</th>             <td>Sun, Nov 13 2022</td> <th>  P-value (F-stat)   </th> <td>0.0000</td> \n",
       "</tr>\n",
       "<tr>\n",
       "  <th>Time:</th>                 <td>14:51:52</td>     <th>  Distribution:      </th> <td>chi2(6)</td>\n",
       "</tr>\n",
       "<tr>\n",
       "  <th>Cov. Estimator:</th>        <td>robust</td>      <th>                     </th>    <td></td>    \n",
       "</tr>\n",
       "<tr>\n",
       "  <th></th>                          <td></td>         <th>                     </th>    <td></td>    \n",
       "</tr>\n",
       "</table>\n",
       "<table class=\"simpletable\">\n",
       "<caption>Parameter Estimates</caption>\n",
       "<tr>\n",
       "      <td></td>      <th>Parameter</th> <th>Std. Err.</th> <th>T-stat</th>  <th>P-value</th> <th>Lower CI</th> <th>Upper CI</th>\n",
       "</tr>\n",
       "<tr>\n",
       "  <th>Intercept</th>  <td>0.1276</td>    <td>3.1412</td>   <td>0.0406</td>  <td>0.9676</td>   <td>-6.0290</td>  <td>6.2843</td> \n",
       "</tr>\n",
       "<tr>\n",
       "  <th>black</th>      <td>0.1134</td>    <td>0.1816</td>   <td>0.6244</td>  <td>0.5324</td>   <td>-0.2425</td>  <td>0.4692</td> \n",
       "</tr>\n",
       "<tr>\n",
       "  <th>exper</th>      <td>0.1515</td>    <td>0.0747</td>   <td>2.0274</td>  <td>0.0426</td>   <td>0.0050</td>   <td>0.2980</td> \n",
       "</tr>\n",
       "<tr>\n",
       "  <th>married</th>    <td>-0.0151</td>   <td>0.0147</td>   <td>-1.0258</td> <td>0.3050</td>   <td>-0.0438</td>  <td>0.0137</td> \n",
       "</tr>\n",
       "<tr>\n",
       "  <th>smsa</th>       <td>0.0201</td>    <td>0.1030</td>   <td>0.1949</td>  <td>0.8455</td>   <td>-0.1819</td>  <td>0.2220</td> \n",
       "</tr>\n",
       "<tr>\n",
       "  <th>south</th>      <td>-0.0319</td>   <td>0.0692</td>   <td>-0.4603</td> <td>0.6453</td>   <td>-0.1675</td>  <td>0.1038</td> \n",
       "</tr>\n",
       "<tr>\n",
       "  <th>educ</th>       <td>0.3618</td>    <td>0.1849</td>   <td>1.9562</td>  <td>0.0504</td>   <td>-0.0007</td>  <td>0.7243</td> \n",
       "</tr>\n",
       "</table><br/><br/>Endogenous: educ<br/>Instruments: nearc2<br/>Robust Covariance (Heteroskedastic)<br/>Debiased: False"
      ],
      "text/plain": [
       "<class 'linearmodels.compat.statsmodels.Summary'>\n",
       "\"\"\"\n",
       "                          IV-2SLS Estimation Summary                          \n",
       "==============================================================================\n",
       "Dep. Variable:                  lwage   R-squared:                     -1.3114\n",
       "Estimator:                    IV-2SLS   Adj. R-squared:                -1.3160\n",
       "No. Observations:                3010   F-statistic:                    289.62\n",
       "Date:                Sun, Nov 13 2022   P-value (F-stat)                0.0000\n",
       "Time:                        14:51:52   Distribution:                  chi2(6)\n",
       "Cov. Estimator:                robust                                         \n",
       "                                                                              \n",
       "                             Parameter Estimates                              \n",
       "==============================================================================\n",
       "            Parameter  Std. Err.     T-stat    P-value    Lower CI    Upper CI\n",
       "------------------------------------------------------------------------------\n",
       "Intercept      0.1276     3.1412     0.0406     0.9676     -6.0290      6.2843\n",
       "black          0.1134     0.1816     0.6244     0.5324     -0.2425      0.4692\n",
       "exper          0.1515     0.0747     2.0274     0.0426      0.0050      0.2980\n",
       "married       -0.0151     0.0147    -1.0258     0.3050     -0.0438      0.0137\n",
       "smsa           0.0201     0.1030     0.1949     0.8455     -0.1819      0.2220\n",
       "south         -0.0319     0.0692    -0.4603     0.6453     -0.1675      0.1038\n",
       "educ           0.3618     0.1849     1.9562     0.0504     -0.0007      0.7243\n",
       "==============================================================================\n",
       "\n",
       "Endogenous: educ\n",
       "Instruments: nearc2\n",
       "Robust Covariance (Heteroskedastic)\n",
       "Debiased: False\n",
       "\"\"\""
      ]
     },
     "execution_count": 11,
     "metadata": {},
     "output_type": "execute_result"
    }
   ],
   "source": [
    "#IV2SLS\n",
    "iv_reg = IV2SLS.from_formula(\"lwage ~  1 + exper + black + south + married + smsa + [educ ~ nearc2 ]\", card).fit()\n",
    "iv_reg.summary"
   ]
  },
  {
   "cell_type": "markdown",
   "id": "8ba461ec",
   "metadata": {},
   "source": [
    "- Interpretación: \n",
    "\n",
    "En este modelo se ha instrumentalizado la regresión lineal con las variables años de educación junto con la cercanía de institutos educativos superiores de 2 años. Podemos observar ahora que no todas las variables son significativas, solo las variables años de experiencia y años de educación (es 0,0504, pero lo tomaremos en cuenta). Por cada año adicional de estudios, los ingresos de los estudiantes aumenta aproximadamente un 36%. De acuerdo a esto, podemos decir que encontramos un mayor aumento del ingreso en este modelo en comparación con el OSL. El modelo presenta un r ajustado negativo que señala que es neutral frente a la introducción de variable adicionales. Asimismo, el F statistic excede 15, lo cual sugiere que no tenemos un problema de instrumento débil. "
   ]
  },
  {
   "cell_type": "markdown",
   "id": "f3998ad9",
   "metadata": {},
   "source": [
    "- Compare los resultados encontrados en la regresión de arriba. Cambió el coeficiente relacionado a educ , por qué?\n",
    "\n",
    "Entonces, el cambio de coeficiente de la variable años de educación (educ) está relacionado con la introducción e instrumentalización de la variable instituto educativo superior de 2 años (nearc2) presente en el modelo. Se confirma entonces que la presencia de universidades o institutos superiores cerca al lugar de residencia si juegan un papel importante en la continuación de los estudios. "
   ]
  },
  {
   "cell_type": "markdown",
   "id": "d73611de",
   "metadata": {},
   "source": [
    "## Parte 2: Reporte"
   ]
  },
  {
   "cell_type": "markdown",
   "id": "9cb8d03f",
   "metadata": {},
   "source": [
    "La pregunta de investigación es: ¿Cómo afectó la asignación de la mita en el desarrollo económico contemporáneo peruano? Asimismo, a través de este análisis se busca identificar como la mita minera impactó los canales de la tenencia de la tierra, la participación en el mercado y los bienes públicos. Este estudio se realiza mediante una regresión discontinua que analiza estos efectos a largo plazo, y plantea la hipótesis de que los efectos de largo plazo disminuyeron el consumo doméstico en cerca del 25% e incrementan el retraso del crecimiento de los niños en unos seis puntos porcentuales."
   ]
  },
  {
   "cell_type": "markdown",
   "id": "8245c6b5",
   "metadata": {},
   "source": [
    "Una fortaleza de este estudio es que, a diferencia de otros estudios que han buscado encontrar el impacto de la historia sobre resultados económicos contemporáneos, se han centrado en los canales de persistencia. En específico, y como ha sido mencionado anteriormente, se centraron en la tenencia de la tierra, los bienes públicos y la participación en le mercado para medir el efecto de la mita minera. Asimismo, esta decisión y el resto del estudio emplearon datos del imperio español y de la República del Perú lo cuál permitió un análisis más cualitativo, más histórico y global. De la misma manera, otra fortaleza es el enfoque de regresión discontinua (RD) para evaluar los efectos de largo plazo de la mita que permitieron hacer un corte para asignar un determinado marco de asignación y así estimar el correcto efecto en una determinada zona, en este caso la cordillera de los Andes en el sur del Perú. Asimismo, esto se complementa con una adaptación del enfoque a uno semiparamétrico que permite limitar la muestra a distritos ubicados dentro de los 50 kilómetros del límite de la mita. Esto es importante porque permite un análisis más focalizado que la aleatorización no permitiría, así como identificar efectos causales sin que esto se vea afectado por la discontinuidad en la implementación del tratamiento/análisis en las zonas no tomadas en cuenta. "
   ]
  },
  {
   "cell_type": "markdown",
   "id": "8cf2d99a",
   "metadata": {},
   "source": [
    "A pesar de los beneficios de utilizar este enfoque, debido a los requisitos de información necesario para una RD, es muy difícil conseguir las georreferencias precisas ya que son de confidencialidad y porque muchos de los datos necesarios para investigar los efectos a largo plazo de la mita no ofrecen tamaños muestrales muy grandes para emplear técnicas no paramétricas. Asimismo, a pesar de la gran cantidad de información adquirida y comparada entre los datos del imperio español y la República, aun así hubo escasez de información y patrones de herencia lo cuál sería fundamental para avanzar la investigación sobre el impacto de la mita en la actualidad. Otra debilidad de este estudio y específicamente sobre el enfoque es que es posible que no se hayan tomado en cuenta ciertas características no observables que hayan influenciado el impacto de la mita en el desarrollo económico ya que desde el inicio delimita una muestra de estudio y esto podría llevar a un sesgo de selección, así como incapacidad de poder ver el impacto en aquellas zonas más lejanas, fueras del umbral seleccionado. "
   ]
  },
  {
   "cell_type": "markdown",
   "id": "1822c99e",
   "metadata": {},
   "source": [
    "En todo caso, este estudio contribuye a los estudios que respaldan la hipótesis acerca de cómo las instituciones extractivas históricas influyen en la prosperidad económica a largo plazo, es decir, existe una relación causal entre las instituciones históricas y los resultados económicos contemporáneos a partir del uso de datos agregados. Asimismo, logra, mediante esta vinculación positiva, contra refutar con la conocida hipótesis de que la gran desigualdad histórica en el acceso a la tierra es la causa fundamental en el largo plazo del escaso crecimiento de América Latina. En el caso peruano, los distritos no sujetos a la mita tuvieron propiedades más grandes que pudieron haber sido distribuidas a los pequeños propietarios durante la Reforma Agraria. En este sentido, el acceso a la tierra no es la principal causa en el largo plazo del escaso crecimiento de América Latina. Más bien, con este estudio se logró evidenciar que los grandes terratenientes, sin la intención de promover la prosperidad económica, les ofrecieron a los individuos una coartada frente a la explotación de un Estado altamente extractivo y garantizaron bienes públicos. Esto significa que las restricciones respecto a como el Estado puede ser utilizado para moldear las interacciones económicas es un mejor punto de partida que la desigualdad en el acceso a la tierra para modelar la trayectoria del crecimiento de largo plazo de Latinoamérica."
   ]
  },
  {
   "cell_type": "markdown",
   "id": "f655345e",
   "metadata": {},
   "source": [
    "Finalmente, los principales pasos a seguir en este tema de investigación sería continuar estudiando el impacto de las instituciones junto con otras variables en el desarrollo actual de la población. Por ejemplo, algunos estudios toman en cuenta tanto la variable de instituciones históricas en conjunto con el capital humano. Acemoglu et al. (2014) se enfocan en diferencias históricamente determinadas en el capital humano y controlamos el efecto de las instituciones históricas, el impacto de las instituciones en el desarrollo a largo plazo es sólido, mientras que las estimaciones del efecto del capital humano se reducen mucho y se vuelven consistentes con las estimaciones micro. En este sentido, las dotaciones del capital humano de los colonizadores han sido importante en el desarrollo de instituciones posteriores. Por otro lado, algunos hacen mayor énfasis en específicos tipos de instituciones como es en el caso del estudio de Robinson (2016). Él señala que la persistencia del subdesarrollo económico en Colombia es consecuencia de facetas extractivas de las instituciones políticas y económicas que han perdurado en el tiempo debido a la creación de un Estado débil e inefectivo debido a estructuras coloniales de poder y poderosas fuerzas actuales de las élites que mantienen esta dinámica. Por esta razón, sería interesante analizar también en el Perú, ya no solo las estructuras pasadas que todavía tienen un impacto en la actualidad, sino las fuerzas que permiten su continuo efecto. "
   ]
  },
  {
   "cell_type": "markdown",
   "id": "1617345d",
   "metadata": {},
   "source": [
    "BIBLIOGRAFÍA:\n",
    "\n",
    "Acemoglu, D., Gallego, F. A., & Robinson, J. A. (2014). Institutions, human capital, and development. Annu. Rev. Econ., 6(1), 875-912.\n",
    "Robinson, J. A. (2015). The misery in Colombia. Desarrollo y sociedad, (76), 9-90.\n"
   ]
  }
 ],
 "metadata": {
  "kernelspec": {
   "display_name": "Python 3 (ipykernel)",
   "language": "python",
   "name": "python3"
  },
  "language_info": {
   "codemirror_mode": {
    "name": "ipython",
    "version": 3
   },
   "file_extension": ".py",
   "mimetype": "text/x-python",
   "name": "python",
   "nbconvert_exporter": "python",
   "pygments_lexer": "ipython3",
   "version": "3.9.12"
  }
 },
 "nbformat": 4,
 "nbformat_minor": 5
}
