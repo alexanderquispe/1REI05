{
 "cells": [
  {
   "cell_type": "markdown",
   "id": "42ed593d",
   "metadata": {},
   "source": [
    "# REPORTE 9\n",
    "\n",
    "## Alexander Du-Bois Arana\n",
    "\n",
    "## Código: 20200323"
   ]
  },
  {
   "cell_type": "markdown",
   "id": "312e17cd",
   "metadata": {},
   "source": [
    "### Lectura"
   ]
  },
  {
   "cell_type": "markdown",
   "id": "6a0addb9",
   "metadata": {},
   "source": [
    "La lectura de Braghieri et al. busca responder a la pregunta de ¿cuál es el impacto que tienen las redes sociales en la salud mental? En este caso, los investigadores realizan un quasi experimento por medio de un diseño de investigación de experimento natural, que fue la introducción de Facebook en las universidades de EEUU. Por medio de este estímulo, los investigadores utilizan la encuesta de Evaluación de Salud en Universidades Nacionales (NCHA), y comparan el nivel de salud mental de aquellos alumnos a tiempo completo de pregrado entre 2000 y 2008 según dos grupos: aquellos que tomaron la encuesta antes de la llegada de Facebook a su universidad; y aquellos que la tomaron luego de que Facebook se haya introducido. El estudio permite entonces entender cuál fue el impacto de la introdución de esta red social en los alumnos universitarios, y comprobar si existe un efecto causal entre estas dos situaciones.\n",
    "\n",
    "Este experimento tiene diferentes fortalezas. En primer lugar, un punto fuerte es el diseño de \"generalized difference-in-differences\". Esto significa que se toman en cuenta dos dimensiones de variación para encontrar el efecto causal del estímulo en casos muy parecidos. Estas dos dimensiones son la universidad a la que atienden los alumnos, y la segunda dimensión es si se tomó la encuesta antes o después de la introducción de Facebook a su universidad. Este diseño permite controlar algunos factores, como la exigencia variada de las universidades, las diferencias económicas de los alumnos o el momento distinto de la introducción de Facebook. Asimismo, otro punto a favor de la investigación es el hecho que toma como explicación alternativa el tiempo de exposición a Facebook, creando una ecuación que le permite comparar la cantidad de semestres que el alumno ha estado expuesto a Facebook. Esto permite evidenciar que efectivamente, aquellos alumnos que tuvieron más semestres de exposición a Facebook tienen una percepción más negativa de su salud mental. En general, estar expuesto po 5 semestres genera un incremento del 32% de que el alumno sea diagnosticado con depresión. Por lo tanto, el trabajo no solo advierte de los problemas que el surgimiento de esta red social tuvo, sino que advierte acerca de la magnitud de su impacto a largo plazo.\n",
    "\n",
    "Por otro lado, una desventaja del experimento es que y se analiza la diferencia entre aquellos que tomaron la encuesta antes y después de la introducción de Facebook. Esto permite observar las diferencias en salud mental entre estos dos grupos, pero no se lleva a cabo un seguimiento individual, y el cambio en la salud mental de los alumnos luego de la instroducción de Facebook. Sería interesante poder realizar dos encuestas, una antes y otra después de la exposición a la red social, para no solo evidenciar si existe un impacto, sino en qué medida se da este impacto, y en relación a que factores y cómo puede este variar entre diferentes alumnos. Asimismo, el experimento no puede controlar que aquellos alumnos que están en sus semestres finales presenten mayores niveles de estrés, lo que podría confundirse con un efecto causal del uso de Facebook. Mientras los años pasan, no solo Facebook se usa más frecuentemente, sino que esos mismos alumnos tienen mayores responsabilidades, y el efecto de ambos hechos podría confundirse. El uso de una variable instrumental permitiría que estos posibles sesgos o puntos ciegos se tomen en cuenta y se analicen los resultados finales en base únicamente al efecto de las redes sociales, y no de factores secundarios paralelos. Además, otro punto débil es el uso de la propia encueste NCHA. Esta encuesta no es un examen de salud mental especializado, sino un formulario de salud a nivel general, que se realiza de manera independiente por cada alumno, es decir, es un reporte propio de cada alumno, y no un diagnóstico médico. Por lo tanto, lo que sienta un alumno puede ser mucho más grave o leve de lo que él o ella haya colocado en su encuesta, ya que esta no fue hecha con un especialista que permita diagnosticar todo el caso.\n",
    "\n",
    "El avance que esta investigación logra realizar es considerable. Principalmente, este trabajo permite comprobar la hipótesis de que las redes sociales han tenido un impacto negativo en la salud mental y que han aumentado las enfermedades mentales entre adolescentes y adultos jóvenes desde su aparición. Luego de crear el índice de mala salud mental, los resultados del experimento demostraron que luego de la introducción de Facebook, este índice aumentó en 0.085 unidades de desviación estándar. Esto permitió evidenciar también que los casos de depresión en las universidades encuestadas aumentaron en 24% luego de la introducción de la red social. Asimismo, estos efectos aumentan a medida que aumenta el uso y la exposición a esta red social, y como consecuencia, el rendimiento académico de los alumnos también se ve afectado. Todo esto se deba a que Facebook genera que los alumnos se involucren en comparaciones sociales, donde se minimizan frente a sus colegas, y como consecuencia, enfatizan sus diferencias con ellos, y cambian sus percepciones acerca de ellos mismos, comúnmente por algunas más negativas. El trabajo permite así generar una evidencia causal comprensiva acerca de los efectos de las redes sociales en la salud mental, y reflexiona también acerca de las consecuencias de las redes sociales en las esferas académicas, sociales, políticas y económicas.\n",
    "\n",
    "Para seguir explorando esta área de investigación, se podrían realizar estudios acerca de los efectos de otras redes sociales en alumnos universitarios, por ejemplo Twitter o Instagram, que a diferencia de Facebook, tienen otros enfoques. Por ejemplo, el trabajo de de Mello (2022), analiza los efectos de Twitter en las decisiones de la opinión pública, y demuestra que el uso de Twitter para discutir acerca de política, periodismo, etc, genera peores niveles de salud mental y mayor polarización. Asimismo, creo que sería interesante evaluar los efectos de las redes sociales en alumnos de colegio, y analizar también, por medio de experimentos a largo plazo, como esta exposición los afecta luego en la universidad. Otros trabajos ya se están realizando con enfoques muy interesantes. Por ejemplo, Golin (2022) analiza el efecto de la exposición a internet en la salud mental de los adultos, y encuentra que esta exposición lleva a la decadencia de la salud mental de las mujeres, sobre todo entre los 17 y 30 años, pero no de los hombres. Por lo tanto, la brecha de género se expande también a los efectos negativos del acceso a internet. \n",
    "\n",
    "Bibliografía:\n",
    "\n",
    "- Braghieri, L., Levy, R. E., & Makarin, A. (2022). Social media and mental health. American Economic Review, 112(11), 3660-93.\n",
    "\n",
    "- de Mello, V. O., Cheung, F., & Inzlicht, M. (2022). Twitter use in the everyday life: Exploring how Twitter use predicts well-being, polarization, and sense of belonging.\n",
    "\n",
    "- Golin, M. (2022). The effect of broadband internet on the gender gap in mental health: Evidence from germany. Health Economics, 31, 6-21."
   ]
  }
 ],
 "metadata": {
  "kernelspec": {
   "display_name": "Python 3 (ipykernel)",
   "language": "python",
   "name": "python3"
  },
  "language_info": {
   "codemirror_mode": {
    "name": "ipython",
    "version": 3
   },
   "file_extension": ".py",
   "mimetype": "text/x-python",
   "name": "python",
   "nbconvert_exporter": "python",
   "pygments_lexer": "ipython3",
   "version": "3.9.12"
  }
 },
 "nbformat": 4,
 "nbformat_minor": 5
}
