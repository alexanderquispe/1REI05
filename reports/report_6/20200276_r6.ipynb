{
 "cells": [
  {
   "cell_type": "markdown",
   "id": "d8c5473d",
   "metadata": {
    "id": "d8c5473d"
   },
   "source": [
    "# Reporte 6: \n",
    "   ### Nombre: Karen Arevalo Calle 20200276"
   ]
  },
  {
   "cell_type": "markdown",
   "id": "2e3cfb55",
   "metadata": {
    "id": "2e3cfb55"
   },
   "source": [
    "## Lectura de Dynarski, S., Libassi, C. J., Michelmore, K., & Owen, S. (2018). Closing the gap: The effect of a targeted, tuition-free promise on college choices of high-achieving, low-income students (No. w25349). National Bureau of Economic Research."
   ]
  },
  {
   "cell_type": "markdown",
   "id": "d5f2f2bd",
   "metadata": {
    "id": "d5f2f2bd"
   },
   "source": [
    "Los autores desarrollan esta investigación ante la problemática de la enorme brecha en el nivel educativo entre estudiantes de bajos y altos recursos. Observando así que la mayoría de los estudiantes de alto rendimiento y con bajos ingresos, no aplican a universidades prestigiosas. Desde la economía, las decisiones de los estudiantes se desvían del modelo clásico pues se manifiestan patrones como sesgos, dependencia rutinaria y adversión al endeudamiento. Ante ello los autores utilizan un ensayo aleatorio controlado para determinar ¿en qué medida las comunicaciones dirigidas y personalizadas a alumnos con alto rendimiento (y bajos ingreos) puede alterar sus decisiones universitarias?.\n",
    "\n",
    "Para responder a esta cuestión, por medio de la \"Beca HAIL\", se alentaba a este grupo de estudiantes para aplicar a la Universidad de Michigan con la promesa de cubrir los gastos de matrícula y cuotas académicas. La población objetivo eran estudiantes de alto rendimiento académico y bajos ingresos económicos de Michigan. Los autores pudieron identificar estos estudiantes de alto rendimiento a travpes de datos administrativos y en base al GPA y el SAT de sus institutos. Un punto negativo fue que, para el otro factor de análisis (que sean estudiantescon bajos ingresos), los investigadores no contaban con datos sobre la renta de sus familias. No obstante, pudieron resolver este obstáculo empleando datos sobre la calificación para el programa federal de almuerzos subvencionados. \n",
    "\n",
    "Otra característica de esta muestra fue la aleatorización, el autor hace esto porque tiene la hipótesis de que los efectos del tratamiento se extienden dentro de las escuelas, lo que (en el caso de la aleatorización dentro de la escuela) atenuaría los efectos estimados hacia cero. Por otro lado, considerando la pregunta inicial sobre cómo afectarían comunicaciones dirigidas y personalizadas, los autores establecieron un grupo de control y un grupo de tratamiento (los alumnos de este último grupo recibieron en sus domicilios paquetes que contenían una carta del presidente de la Universidad de Michigan que elogiaba sus logros académicos y garantizaba cuatro años de matrícula y cuotas si el estudiante era aceptado).\n",
    "\n",
    "El hallazgo principal de este experimento, fue que una intervención con costos menores, que elimina los obstáculos administrativos y de comportamiento, puede alterar significativamente la decisión de los estudiantes. Los resultados mostraron que las tasas de solicitud y matrícula en la Universidad aumentaron y la probabilidad de que estos estudiantes se matricularan se duplicó. Esto fue un punto fuerte; sin embargo, una debilidad fue que la Beca HAIL no necesariamente impulsó qa estos estudiantes a buscar otras oportunidades de beca o a buscar otras universidades igual de prestigiosas como Harvard o Berkley.\n",
    "\n",
    "Entonces, puede decirse que el hecho de que los estudiantes hayan reaccionado positivamente a la beca fue porque esta les provee \"garantía temprana\". Es decir, la beca no solo les beneficiaba económicamente, sino también les ahorraba tiempo de aplicar a una. La mayor contribución entonces sería que se demostró que el cambio de decisión de un grupo de personas puede estar liderado por el uso de \"atajos\" ante decisiones complejas o difíciles. \n",
    "\n",
    "La misma pregunta que se planteó en un principio: ¿en qué medida las comunicaciones dirigidas y personalizadas a alumnos con alto rendimiento (y bajos ingreos) puede alterar sus decisiones universitarias? puede ser explorada desde otros autores, e incluso, trasladarse al escenario regional. Si tomamos como ejemplo los COAR (Colegios de Alto Rendimiento) podemos encontrar que estos programas buscan contribuir principalmente al desarrollo de alumnos de alto rendimiento y bajos ingresos. [Alcázar y Balarin (2021)](http://www.grade.org.pe/wp-content/uploads/Evaluaci%C3%B3n-del-dise%C3%B1o-e-implementaci%C3%B3n-de-los-Colegios-de-Alto-Rendimiento-COAR-informe-final-1-1.pdf) muestran que existe mayores postulaciones a estos colegios cuando se realizan charlas y se envía información personalizada a padres y alumnos a través de las \"Charlas sobre el PUA (Proceso Único de Admisión)\". Además, existe mayor motivación para postular cuando padres y estudiantes tienen conocimiento de los gastos económicos que cubren los COAR (residencia, alimentación, vestuario, elementos de aseo y otros). Sumado el interés hacia las oportunidades universitarias que los estudiantes pueden tener con los Programas de Bachillerato Internacional (IB), la oferta de postulación a los COAR resulta prometedora. Finalmente, [Hatrick y Paniagua (2021)](https://scioteca.caf.com/bitstream/handle/123456789/1701/Evaluaci%C3%B3n%20de%20impacto%20del%20Modelo%20de%20Servicio%20Educativo%20para%20estudiantes%20de%20alto%20desempe%C3%B1o%20implementado%20a%20trav%C3%A9s%20de%20los%20Colegios%20de%20Alto%20Rendimiento-COAR.pdf?sequence=1&isAllowed=y) señalan que, quienes usualmente tienen la oportunidad de contar con programas internacionales prestigiosos como el Programa de IB, son estudiantes con mayores ingresos económicos familiares. "
   ]
  },
  {
   "cell_type": "code",
   "execution_count": null,
   "id": "92545ebe",
   "metadata": {},
   "outputs": [],
   "source": []
  }
 ],
 "metadata": {
  "colab": {
   "provenance": []
  },
  "kernelspec": {
   "display_name": "Python 3 (ipykernel)",
   "language": "python",
   "name": "python3"
  },
  "language_info": {
   "codemirror_mode": {
    "name": "ipython",
    "version": 3
   },
   "file_extension": ".py",
   "mimetype": "text/x-python",
   "name": "python",
   "nbconvert_exporter": "python",
   "pygments_lexer": "ipython3",
   "version": "3.9.12"
  }
 },
 "nbformat": 4,
 "nbformat_minor": 5
}
