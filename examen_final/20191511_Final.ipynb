{
 "cells": [
  {
   "cell_type": "code",
   "execution_count": 11,
   "id": "6ac7c682",
   "metadata": {},
   "outputs": [
    {
     "name": "stdout",
     "output_type": "stream",
     "text": [
      "Collecting causalgraphicalmodels\n",
      "  Downloading causalgraphicalmodels-0.0.4-py3-none-any.whl (11 kB)\n",
      "Requirement already satisfied: numpy in c:\\users\\claudia\\anaconda3\\lib\\site-packages (from causalgraphicalmodels) (1.21.5)\n",
      "Collecting graphviz\n",
      "  Downloading graphviz-0.20.1-py3-none-any.whl (47 kB)\n",
      "Requirement already satisfied: networkx in c:\\users\\claudia\\anaconda3\\lib\\site-packages (from causalgraphicalmodels) (2.7.1)\n",
      "Requirement already satisfied: pandas in c:\\users\\claudia\\anaconda3\\lib\\site-packages (from causalgraphicalmodels) (1.4.2)\n",
      "Requirement already satisfied: python-dateutil>=2.8.1 in c:\\users\\claudia\\anaconda3\\lib\\site-packages (from pandas->causalgraphicalmodels) (2.8.2)\n",
      "Requirement already satisfied: pytz>=2020.1 in c:\\users\\claudia\\anaconda3\\lib\\site-packages (from pandas->causalgraphicalmodels) (2021.3)\n",
      "Requirement already satisfied: six>=1.5 in c:\\users\\claudia\\anaconda3\\lib\\site-packages (from python-dateutil>=2.8.1->pandas->causalgraphicalmodels) (1.16.0)\n",
      "Installing collected packages: graphviz, causalgraphicalmodels\n",
      "Successfully installed causalgraphicalmodels-0.0.4 graphviz-0.20.1\n",
      "Note: you may need to restart the kernel to use updated packages.\n"
     ]
    }
   ],
   "source": [
    "pip install causalgraphicalmodels\n"
   ]
  },
  {
   "cell_type": "code",
   "execution_count": 18,
   "id": "735fea1b",
   "metadata": {},
   "outputs": [
    {
     "ename": "ModuleNotFoundError",
     "evalue": "No module named 'plotnine'",
     "output_type": "error",
     "traceback": [
      "\u001b[1;31m---------------------------------------------------------------------------\u001b[0m",
      "\u001b[1;31mModuleNotFoundError\u001b[0m                       Traceback (most recent call last)",
      "Input \u001b[1;32mIn [18]\u001b[0m, in \u001b[0;36m<cell line: 18>\u001b[1;34m()\u001b[0m\n\u001b[0;32m     16\u001b[0m \u001b[38;5;28;01mimport\u001b[39;00m \u001b[38;5;21;01mpandas\u001b[39;00m \u001b[38;5;28;01mas\u001b[39;00m \u001b[38;5;21;01mpd\u001b[39;00m\n\u001b[0;32m     17\u001b[0m \u001b[38;5;28;01mfrom\u001b[39;00m \u001b[38;5;21;01mcausalgraphicalmodels\u001b[39;00m \u001b[38;5;28;01mimport\u001b[39;00m CausalGraphicalModel\n\u001b[1;32m---> 18\u001b[0m \u001b[38;5;28;01mimport\u001b[39;00m \u001b[38;5;21;01mplotnine\u001b[39;00m \u001b[38;5;28;01mas\u001b[39;00m \u001b[38;5;21;01mp\u001b[39;00m\n\u001b[0;32m     19\u001b[0m \u001b[38;5;28;01mimport\u001b[39;00m \u001b[38;5;21;01mlinearmodels\u001b[39;00m\u001b[38;5;21;01m.\u001b[39;00m\u001b[38;5;21;01miv\u001b[39;00m\u001b[38;5;21;01m.\u001b[39;00m\u001b[38;5;21;01mmodel\u001b[39;00m \u001b[38;5;28;01mas\u001b[39;00m \u001b[38;5;21;01mlm\u001b[39;00m\n\u001b[0;32m     20\u001b[0m \u001b[38;5;28;01mfrom\u001b[39;00m \u001b[38;5;21;01mlinearmodels\u001b[39;00m\u001b[38;5;21;01m.\u001b[39;00m\u001b[38;5;21;01miv\u001b[39;00m \u001b[38;5;28;01mimport\u001b[39;00m IV2SLS\n",
      "\u001b[1;31mModuleNotFoundError\u001b[0m: No module named 'plotnine'"
     ]
    }
   ],
   "source": [
    "from causalgraphicalmodels import CausalGraphicalModel\n",
    "import os\n",
    "import numpy as np \n",
    "import pandas as pd \n",
    "import statsmodels.api as sm \n",
    "import statsmodels.formula.api as smf \n",
    "from itertools import combinations \n",
    "import statsmodels.api as sm\n",
    "import statsmodels.formula.api as smf\n",
    "from statsmodels.iolib.summary2 import summary_col\n",
    "import seaborn as sns\n",
    "import ipywidgets as widgets\n",
    "import matplotlib.pyplot as plt\n",
    "import numpy as np\n",
    "import sympy as sy\n",
    "import pandas as pd\n",
    "from causalgraphicalmodels import CausalGraphicalModel\n",
    "import plotnine as p\n",
    "import linearmodels.iv.model as lm\n",
    "from linearmodels.iv import IV2SLS"
   ]
  },
  {
   "cell_type": "code",
   "execution_count": 36,
   "id": "6ac10752",
   "metadata": {},
   "outputs": [],
   "source": [
    "from linearmodels.iv import IV2SLS"
   ]
  },
  {
   "cell_type": "markdown",
   "id": "728dd71b",
   "metadata": {},
   "source": [
    "                                                  FINAL          "
   ]
  },
  {
   "cell_type": "markdown",
   "id": "c83a3bc1",
   "metadata": {},
   "source": [
    "Nombre: Claudia Zevallos\n",
    "\n",
    "Código: 20191511"
   ]
  },
  {
   "cell_type": "markdown",
   "id": "320a6df4",
   "metadata": {},
   "source": [
    "Instrumental Variables (IV)\n",
    "---"
   ]
  },
  {
   "cell_type": "markdown",
   "id": "e6c3592d",
   "metadata": {},
   "source": [
    "Suponga que estamos interesados en estudiar la relación entre educación(X) y el nivel de ingresos(Y).\n",
    "Un investigador propone utilizar como variable instrumental(Z) el numero de horas que una persona utilizó para ver televisión cuando era niño."
   ]
  },
  {
   "cell_type": "markdown",
   "id": "db5b0c5e",
   "metadata": {},
   "source": [
    "a)Identifique todos los elementos necesarios para implementar un enfoque de IV en este ejemplo.\n"
   ]
  },
  {
   "attachments": {},
   "cell_type": "markdown",
   "id": "b8136091",
   "metadata": {},
   "source": [
    "El método de IV o de Variables instrumentales sirve para poder explicar o dar una estimación según las variables explicativas cuando este se relaciona con el valor de error dentro de la regresión. Para entender ello mejor, pensemos en nuestra fórmula DAG *\n",
    "$$Z -> D -> Y$$\n",
    "\t\n",
    "El efecto causal de la variable independiente  que aplica sobre y es afectado por una tercera variable que es Z, afectado sobre X. Ahora direccionando a nuestro caso, el investigador plantea que existe un efecto causal en el nivel de ingresos (y) según educación (D), pero reconoce que hay variables que pueden afectar a la educación, en este caso el propone para el modelo añadir el número de horas que la persona vio televisión cuando era niño (Z), lo cual lo consideramos válido y posible explicar mediante este modelo. Por otra parte existe dos elemente que son necesario para considerar IV; en primer lugar Z debe estar  correlacionado con las variables explicativas endógenas, lo cual es cierto y en segundo lugar, debe existir una diferencia entre la variable de Z y la variable D en el intento de expliación, lo cual si es notable. Además, para poder pensar si este es un buena variable instrumental (Z)  y si debemos considerarlo en nuestro modelo, es pensar en una condición hipoteticamente necesaria que pueda satisfacer la restricción de exclusión es que las personas se sientan confundidas o tontas cuando menciona a la variable instrumental con la variable DS y el resultado. Digamos que esta manera podemos confirmar si es una buena varianles intrumental y en realidad, sí tiene sentido. \n"
   ]
  },
  {
   "cell_type": "markdown",
   "id": "f6c583d2",
   "metadata": {},
   "source": [
    "b)Explique el procedimiento para encontrar el efecto causal en este escenario. Puede utilizar ecuaciones"
   ]
  },
  {
   "cell_type": "markdown",
   "id": "dd5c21c1",
   "metadata": {},
   "source": [
    "$$ Y_{i} = \\alpha + \\delta S_{i} + \\gamma X_{i} + \\epsilon_{i} $$\n",
    "\n"
   ]
  },
  {
   "cell_type": "markdown",
   "id": "3cc5f480",
   "metadata": {},
   "source": [
    "c)¿El efecto de la educación sobre el nivel de ingresos es positivo o negativo? Argumente si los resultados serian causales o solamente de correlación"
   ]
  },
  {
   "cell_type": "code",
   "execution_count": null,
   "id": "9b7befb3",
   "metadata": {},
   "outputs": [],
   "source": []
  },
  {
   "cell_type": "markdown",
   "id": "7ebc7d66",
   "metadata": {},
   "source": [
    " Regression Discontinuity Design (RDD)\n",
    " ---"
   ]
  },
  {
   "cell_type": "markdown",
   "id": "a7fcac04",
   "metadata": {},
   "source": [
    "Supongamos que estamos estudiando la eficacia de un programa de becas creado por el gobierno Peruano sobre las notas de los alumnos al final del primer semestre en la universidad. PRONABEC ha decidido que entregará becas a aquellos postulantes que tengan un promedio superior durante la secundaria igual a 16 ."
   ]
  },
  {
   "cell_type": "markdown",
   "id": "583c504d",
   "metadata": {},
   "source": [
    "a)Indetifique todos los elementos necesarios para implementar un RDD en este ejemplo."
   ]
  },
  {
   "cell_type": "markdown",
   "id": "c7f7dc1a",
   "metadata": {},
   "source": [
    "El modelo de RDD o de diseño de regresión dsicontinua es un modelo que busca investigar los efectos causales mediante las un valor asignado , son formas de manejar el sesgo de la extrapolación de la manera más limpia posible. Algunos de los elementos que poseee es el runing variables que es la variable que determinar cual es el grupo de control y el grupo de tratamiento, en este caso quienes tienen un promedio superior o inferior a 16 en la Beca PRONABEC, otro elementro es el punto de corte que a se determina desde que punto se empieza a observar en cada grupo y por ultimo, Bond Widht que es el nivel de lejania o cernaía de cada punto, este será representado bajo una cantidad numnerica.\n",
    "\n"
   ]
  },
  {
   "cell_type": "markdown",
   "id": "fec23212",
   "metadata": {},
   "source": [
    "b)Explique el procedimiento para encontrar el efecto causal en este escenario. Puede utilizar ecuaciones."
   ]
  },
  {
   "cell_type": "markdown",
   "id": "479d8821",
   "metadata": {},
   "source": [
    "El proccedimiento para poder encontrar el efecto causar es en primer luagr encontrar el punto de corte de la 'variable en ejecución'; en segundo lugar, se buscará encoger un adecuado modelo con alfinalidad que pueda aplicar los puntos de cortes juntos con los puntoss de delimitación, esto servira para encontrar la cantidad de distancia entre ambos grupos. De este momento trataremos de aberiguar el salto entre ambos grupos para poder comparar. \n"
   ]
  },
  {
   "cell_type": "markdown",
   "id": "e4a10e49",
   "metadata": {},
   "source": [
    "c) ¿El efecto de la politica sobre el rendimiento de los estudiantes sería positivo o negativo (solo necesitan usar su intuición)? Argumente si los resultados serian causales o solamente de correlación ."
   ]
  },
  {
   "cell_type": "code",
   "execution_count": null,
   "id": "9ba7c2c5",
   "metadata": {},
   "outputs": [],
   "source": []
  },
  {
   "cell_type": "markdown",
   "id": "edbcd3ee",
   "metadata": {},
   "source": [
    " Difference in Difference (DiD)\n",
    " ----"
   ]
  },
  {
   "cell_type": "markdown",
   "id": "0b49b7ad",
   "metadata": {},
   "source": [
    "Supongamos que estamos interesados en estudiar el impacto de la migración en la tasa de empleo en dos regiones del Perú en 2017-2018. Tenemos datos anuales sobre la tasa de empleo en Lima, que experimentó una afluencia significativa de inmigrantes en 2018, y Puno que no experimentó el ingreso de migrantes (2017 ninguna de las regiones experimentó afluencia de migrantes). Podemos usar un análisis DID para comparar el cambio en las tasas de empleo entre las dos regiones a lo largo del tiempo para ver si la migración tuvo algún efecto."
   ]
  },
  {
   "cell_type": "markdown",
   "id": "51a85475",
   "metadata": {},
   "source": [
    "a) Indetifique todos los elementos necesarios para implementar un DiD en este ejemplo."
   ]
  },
  {
   "cell_type": "code",
   "execution_count": null,
   "id": "01ba8833",
   "metadata": {},
   "outputs": [],
   "source": [
    "E"
   ]
  },
  {
   "cell_type": "markdown",
   "id": "c58173e8",
   "metadata": {},
   "source": [
    "b)Explique el procedimiento para encontrar el efecto causal en este escenario. Puede utilizar ecuaciones."
   ]
  },
  {
   "cell_type": "code",
   "execution_count": null,
   "id": "9bc4f269",
   "metadata": {},
   "outputs": [],
   "source": [
    "\n",
    "Elija el punto de corte de la 'variable en ejecución'\n",
    "Elija el modelo correcto y prediga los valores cercanos al límite\n",
    "Estimar el “salto” en el “corte"
   ]
  },
  {
   "cell_type": "markdown",
   "id": "a44ac435",
   "metadata": {},
   "source": [
    "c) ¿El efecto de la migración sobre la tasa de empleo sería positivo o negativo (solo necesitan usar su intuición)? Argumente si los resultados serian causales o solamente de correlación ."
   ]
  },
  {
   "cell_type": "code",
   "execution_count": null,
   "id": "1f0ae217",
   "metadata": {},
   "outputs": [],
   "source": []
  },
  {
   "cell_type": "markdown",
   "id": "0c9d2d7b",
   "metadata": {},
   "source": [
    " Lecturas\n",
    " ---"
   ]
  },
  {
   "cell_type": "markdown",
   "id": "f059c62d",
   "metadata": {},
   "source": [
    "a) Bell, A., Chetty, R., Jaravel, X., Petkova, N., & Van Reenen, J. (2019). Who becomes an inventor in America? The importance of exposure to innovation. The Quarterly Journal of Economics, 134(2), 647-713., ¿Cuáles son las debilidades del enfoque del paper para responder su pregunta de investigación?"
   ]
  },
  {
   "cell_type": "markdown",
   "id": "f456d490",
   "metadata": {},
   "source": [
    "En cuanto a debilidades, no se encuentra puntos de clivajes;  sin embargo,  un punto por destacar es que parte matemática, en otras palabras,  la formula no se encuentre tan bien explicada o puede llegar a perderse su relavanción mientras continúas con el texto. Por otra parte, algo por añadir es aumentar a otros lugares de investigación, pensando en otra otras regiones dentro de Estados Unidos que quizas cuenten con niveles de diferencia o brecha economica y sociales bastantes amplias y con capacidad de poseer data efectivapara el analisis, además, sería interesante, aunque el texto no se dirige a ello a excepción de una pequeña aclaración, que detallaran como podemos ayudar a los niños, niñas, personas vulverables y mujeres para que puedan crear o fomentar un espacio clave para el desarrollo de la capacidad de innovar. \n",
    "\n"
   ]
  },
  {
   "cell_type": "markdown",
   "id": "14101ebf",
   "metadata": {},
   "source": [
    "b) Dell, M. (2010). The persistent effects of Peru's mining mita. Econometrica, 78(6), 1863-1903, ¿Cuáles serían dos próximos pasos específicos para avanzar en su pregunta de investigación?"
   ]
  },
  {
   "cell_type": "markdown",
   "id": "689e6568",
   "metadata": {},
   "source": []
  },
  {
   "cell_type": "markdown",
   "id": "8dad5850",
   "metadata": {},
   "source": [
    "Código\n",
    "---"
   ]
  },
  {
   "cell_type": "markdown",
   "id": "28b27a58",
   "metadata": {},
   "source": [
    "Ploteo de Histogramas\n",
    "Tienen que trabajar con la misma data de educacion que utilicé en la clase_11. En este documento encontrarán una descripción detallada de todas las variables en el dataset.\n",
    "\n",
    "Tomando en cuenta que la variable nearc2 representa si existe un college en el county debe realizar los siguientes ploteos de histogramas"
   ]
  },
  {
   "cell_type": "markdown",
   "id": "67c2e0fa",
   "metadata": {},
   "source": [
    "Primero descargamos data\n"
   ]
  },
  {
   "cell_type": "code",
   "execution_count": 14,
   "id": "88df91db",
   "metadata": {},
   "outputs": [
    {
     "data": {
      "text/html": [
       "<div>\n",
       "<style scoped>\n",
       "    .dataframe tbody tr th:only-of-type {\n",
       "        vertical-align: middle;\n",
       "    }\n",
       "\n",
       "    .dataframe tbody tr th {\n",
       "        vertical-align: top;\n",
       "    }\n",
       "\n",
       "    .dataframe thead th {\n",
       "        text-align: right;\n",
       "    }\n",
       "</style>\n",
       "<table border=\"1\" class=\"dataframe\">\n",
       "  <thead>\n",
       "    <tr style=\"text-align: right;\">\n",
       "      <th></th>\n",
       "      <th>id</th>\n",
       "      <th>nearc2</th>\n",
       "      <th>nearc4</th>\n",
       "      <th>educ</th>\n",
       "      <th>age</th>\n",
       "      <th>fatheduc</th>\n",
       "      <th>motheduc</th>\n",
       "      <th>weight</th>\n",
       "      <th>momdad14</th>\n",
       "      <th>sinmom14</th>\n",
       "      <th>...</th>\n",
       "      <th>KWW</th>\n",
       "      <th>IQ</th>\n",
       "      <th>married</th>\n",
       "      <th>libcrd14</th>\n",
       "      <th>exper</th>\n",
       "      <th>lwage</th>\n",
       "      <th>expersq</th>\n",
       "      <th>u_lwage</th>\n",
       "      <th>lwage_hat</th>\n",
       "      <th>u_educ</th>\n",
       "    </tr>\n",
       "  </thead>\n",
       "  <tbody>\n",
       "    <tr>\n",
       "      <th>0</th>\n",
       "      <td>2.0</td>\n",
       "      <td>0.0</td>\n",
       "      <td>0.0</td>\n",
       "      <td>7.0</td>\n",
       "      <td>29.0</td>\n",
       "      <td>NaN</td>\n",
       "      <td>NaN</td>\n",
       "      <td>158413.0</td>\n",
       "      <td>1.0</td>\n",
       "      <td>0.0</td>\n",
       "      <td>...</td>\n",
       "      <td>15.0</td>\n",
       "      <td>NaN</td>\n",
       "      <td>1.0</td>\n",
       "      <td>0.0</td>\n",
       "      <td>16.0</td>\n",
       "      <td>6.306275</td>\n",
       "      <td>256.0</td>\n",
       "      <td>0.198047</td>\n",
       "      <td>6.108228</td>\n",
       "      <td>-3.067539</td>\n",
       "    </tr>\n",
       "    <tr>\n",
       "      <th>1</th>\n",
       "      <td>3.0</td>\n",
       "      <td>0.0</td>\n",
       "      <td>0.0</td>\n",
       "      <td>12.0</td>\n",
       "      <td>27.0</td>\n",
       "      <td>8.0</td>\n",
       "      <td>8.0</td>\n",
       "      <td>380166.0</td>\n",
       "      <td>1.0</td>\n",
       "      <td>0.0</td>\n",
       "      <td>...</td>\n",
       "      <td>35.0</td>\n",
       "      <td>93.0</td>\n",
       "      <td>1.0</td>\n",
       "      <td>1.0</td>\n",
       "      <td>9.0</td>\n",
       "      <td>6.175867</td>\n",
       "      <td>81.0</td>\n",
       "      <td>-0.211160</td>\n",
       "      <td>6.387027</td>\n",
       "      <td>-1.727562</td>\n",
       "    </tr>\n",
       "    <tr>\n",
       "      <th>2</th>\n",
       "      <td>4.0</td>\n",
       "      <td>0.0</td>\n",
       "      <td>0.0</td>\n",
       "      <td>12.0</td>\n",
       "      <td>34.0</td>\n",
       "      <td>14.0</td>\n",
       "      <td>12.0</td>\n",
       "      <td>367470.0</td>\n",
       "      <td>1.0</td>\n",
       "      <td>0.0</td>\n",
       "      <td>...</td>\n",
       "      <td>42.0</td>\n",
       "      <td>103.0</td>\n",
       "      <td>1.0</td>\n",
       "      <td>1.0</td>\n",
       "      <td>16.0</td>\n",
       "      <td>6.580639</td>\n",
       "      <td>256.0</td>\n",
       "      <td>0.204719</td>\n",
       "      <td>6.375920</td>\n",
       "      <td>1.012975</td>\n",
       "    </tr>\n",
       "    <tr>\n",
       "      <th>3</th>\n",
       "      <td>5.0</td>\n",
       "      <td>1.0</td>\n",
       "      <td>1.0</td>\n",
       "      <td>11.0</td>\n",
       "      <td>27.0</td>\n",
       "      <td>11.0</td>\n",
       "      <td>12.0</td>\n",
       "      <td>380166.0</td>\n",
       "      <td>1.0</td>\n",
       "      <td>0.0</td>\n",
       "      <td>...</td>\n",
       "      <td>25.0</td>\n",
       "      <td>88.0</td>\n",
       "      <td>1.0</td>\n",
       "      <td>1.0</td>\n",
       "      <td>10.0</td>\n",
       "      <td>5.521461</td>\n",
       "      <td>100.0</td>\n",
       "      <td>-0.967905</td>\n",
       "      <td>6.489366</td>\n",
       "      <td>-2.253536</td>\n",
       "    </tr>\n",
       "    <tr>\n",
       "      <th>4</th>\n",
       "      <td>6.0</td>\n",
       "      <td>1.0</td>\n",
       "      <td>1.0</td>\n",
       "      <td>12.0</td>\n",
       "      <td>34.0</td>\n",
       "      <td>8.0</td>\n",
       "      <td>7.0</td>\n",
       "      <td>367470.0</td>\n",
       "      <td>1.0</td>\n",
       "      <td>0.0</td>\n",
       "      <td>...</td>\n",
       "      <td>34.0</td>\n",
       "      <td>108.0</td>\n",
       "      <td>1.0</td>\n",
       "      <td>0.0</td>\n",
       "      <td>16.0</td>\n",
       "      <td>6.591674</td>\n",
       "      <td>256.0</td>\n",
       "      <td>0.125173</td>\n",
       "      <td>6.466501</td>\n",
       "      <td>1.090437</td>\n",
       "    </tr>\n",
       "  </tbody>\n",
       "</table>\n",
       "<p>5 rows × 37 columns</p>\n",
       "</div>"
      ],
      "text/plain": [
       "    id  nearc2  nearc4  educ   age  fatheduc  motheduc    weight  momdad14  \\\n",
       "0  2.0     0.0     0.0   7.0  29.0       NaN       NaN  158413.0       1.0   \n",
       "1  3.0     0.0     0.0  12.0  27.0       8.0       8.0  380166.0       1.0   \n",
       "2  4.0     0.0     0.0  12.0  34.0      14.0      12.0  367470.0       1.0   \n",
       "3  5.0     1.0     1.0  11.0  27.0      11.0      12.0  380166.0       1.0   \n",
       "4  6.0     1.0     1.0  12.0  34.0       8.0       7.0  367470.0       1.0   \n",
       "\n",
       "   sinmom14  ...   KWW     IQ  married  libcrd14  exper     lwage  expersq  \\\n",
       "0       0.0  ...  15.0    NaN      1.0       0.0   16.0  6.306275    256.0   \n",
       "1       0.0  ...  35.0   93.0      1.0       1.0    9.0  6.175867     81.0   \n",
       "2       0.0  ...  42.0  103.0      1.0       1.0   16.0  6.580639    256.0   \n",
       "3       0.0  ...  25.0   88.0      1.0       1.0   10.0  5.521461    100.0   \n",
       "4       0.0  ...  34.0  108.0      1.0       0.0   16.0  6.591674    256.0   \n",
       "\n",
       "    u_lwage  lwage_hat    u_educ  \n",
       "0  0.198047   6.108228 -3.067539  \n",
       "1 -0.211160   6.387027 -1.727562  \n",
       "2  0.204719   6.375920  1.012975  \n",
       "3 -0.967905   6.489366 -2.253536  \n",
       "4  0.125173   6.466501  1.090437  \n",
       "\n",
       "[5 rows x 37 columns]"
      ]
     },
     "execution_count": 14,
     "metadata": {},
     "output_type": "execute_result"
    }
   ],
   "source": [
    "\n",
    "import ssl\n",
    "ssl._create_default_https_context = ssl._create_unverified_context\n",
    "\n",
    "def read_data(file): \n",
    "    return pd.read_stata(\"https://raw.github.com/scunning1975/mixtape/master/\" + file)\n",
    "\n",
    "card = read_data(\"card.dta\")\n",
    "card.head()"
   ]
  },
  {
   "cell_type": "markdown",
   "id": "54fa56ca",
   "metadata": {},
   "source": [
    "a) Grafique dos histogramas para la variable años de educación educ para cuando nearc2 == 1, y cuando nearc2 == 0. Compare y describa los patrones que encuentra."
   ]
  },
  {
   "cell_type": "code",
   "execution_count": 22,
   "id": "4ceb5e39",
   "metadata": {},
   "outputs": [
    {
     "data": {
      "text/plain": [
       "<seaborn.axisgrid.FacetGrid at 0x21390f2e970>"
      ]
     },
     "execution_count": 22,
     "metadata": {},
     "output_type": "execute_result"
    },
    {
     "data": {
      "image/png": "[encoded data removed]",
      "text/plain": [
       "<Figure size 720x360 with 2 Axes>"
      ]
     },
     "metadata": {
      "needs_background": "light"
     },
     "output_type": "display_data"
    }
   ],
   "source": [
    "\n",
    "sns.displot(card, x = \"educ\", col = \"nearc2\", color = \"#E73A69\")\n"
   ]
  },
  {
   "cell_type": "markdown",
   "id": "31a8f7e7",
   "metadata": {},
   "source": [
    "Ahora comparamos los gráficos"
   ]
  },
  {
   "cell_type": "code",
   "execution_count": 23,
   "id": "12152eca",
   "metadata": {},
   "outputs": [
    {
     "data": {
      "text/plain": [
       "<seaborn.axisgrid.FacetGrid at 0x2138fc003a0>"
      ]
     },
     "execution_count": 23,
     "metadata": {},
     "output_type": "execute_result"
    },
    {
     "data": {
      "image/png": "[encoded data removed]",
      "text/plain": [
       "<Figure size 412x360 with 1 Axes>"
      ]
     },
     "metadata": {
      "needs_background": "light"
     },
     "output_type": "display_data"
    }
   ],
   "source": [
    "sns.displot(card , x=\"educ\", hue=\"nearc2\", multiple=\"stack\")"
   ]
  },
  {
   "cell_type": "code",
   "execution_count": 24,
   "id": "2567fd43",
   "metadata": {},
   "outputs": [
    {
     "data": {
      "text/plain": [
       "<seaborn.axisgrid.FacetGrid at 0x2139123f8b0>"
      ]
     },
     "execution_count": 24,
     "metadata": {},
     "output_type": "execute_result"
    },
    {
     "data": {
      "image/png": "[encoded data removed]",
      "text/plain": [
       "<Figure size 412x360 with 1 Axes>"
      ]
     },
     "metadata": {
      "needs_background": "light"
     },
     "output_type": "display_data"
    }
   ],
   "source": [
    "sns.displot(card , x=\"educ\", hue=\"nearc2\", multiple=\"dodge\")"
   ]
  },
  {
   "cell_type": "markdown",
   "id": "d3da52d2",
   "metadata": {},
   "source": [
    "Interpretación: Dentro de los siguientes dos gráficos se ha planteado estudiar a los estudiantes y su acceso a los centros educativos universitarios según la educacion, para ello se han dividido en dos grupo, el grupo de tratamiento que estaba bajo influencia de la variables, en este caso,  sí estaba influenciado por el centro educativo más cercano, el lado opuesto es el grupo de control, quienes no están influenciado por la variables y, en este caso, no poseen un centro educativo cercano. Los resultados son esperados. El grupo de tratamiento empieza la educacion bastante temoprano de edad a los 12 años aproximadamente a comparación que del grupo de control que si bien tiene también su pico a los 12 años, la diferencia de cantidad entre ambos grupos es muy notoria, esto se puede tratar de explicar por la cercanía a los centro univeritarios promueven a la educación, pues este será la puerta para poder alcanzar un nivel universitario. Vemos que también esta diferencia se encuentra bastante marcada en los años sigueinte, especialmente a una edad en donde está proximo la edadd para entrar a las universidades, quizas esto pueda ser por las dificultades de tener la universidad a distancia. \n",
    "\n",
    "\n"
   ]
  },
  {
   "cell_type": "markdown",
   "id": "e107c846",
   "metadata": {},
   "source": [
    "b) Grafique dos histogramas para la variable logaritmos de los ingresos lwage para cuando nearc2 == 1, y cuando nearc2 == 0. Compare y describa los patrones que encuentra."
   ]
  },
  {
   "cell_type": "code",
   "execution_count": 26,
   "id": "87b79ba2",
   "metadata": {},
   "outputs": [
    {
     "data": {
      "text/plain": [
       "<seaborn.axisgrid.FacetGrid at 0x21391187f70>"
      ]
     },
     "execution_count": 26,
     "metadata": {},
     "output_type": "execute_result"
    },
    {
     "data": {
      "image/png": "[encoded data removed]",
      "text/plain": [
       "<Figure size 720x360 with 2 Axes>"
      ]
     },
     "metadata": {
      "needs_background": "light"
     },
     "output_type": "display_data"
    }
   ],
   "source": [
    "sns.displot(card, x = \"lwage\", col = \"nearc2\", color = \"#3AE776\")"
   ]
  },
  {
   "cell_type": "markdown",
   "id": "0cafe11b",
   "metadata": {},
   "source": [
    "Ahora comparamos los gráficos"
   ]
  },
  {
   "cell_type": "code",
   "execution_count": 27,
   "id": "5f12a6a5",
   "metadata": {},
   "outputs": [
    {
     "data": {
      "text/plain": [
       "<seaborn.axisgrid.FacetGrid at 0x213923e8730>"
      ]
     },
     "execution_count": 27,
     "metadata": {},
     "output_type": "execute_result"
    },
    {
     "data": {
      "image/png": "[encoded data removed]",
      "text/plain": [
       "<Figure size 412x360 with 1 Axes>"
      ]
     },
     "metadata": {
      "needs_background": "light"
     },
     "output_type": "display_data"
    }
   ],
   "source": [
    "sns.displot(card , x=\"lwage\", hue=\"nearc2\", multiple=\"stack\")"
   ]
  },
  {
   "cell_type": "code",
   "execution_count": 28,
   "id": "366d2c33",
   "metadata": {},
   "outputs": [
    {
     "data": {
      "text/plain": [
       "<seaborn.axisgrid.FacetGrid at 0x213912d8850>"
      ]
     },
     "execution_count": 28,
     "metadata": {},
     "output_type": "execute_result"
    },
    {
     "data": {
      "image/png": "[encoded data removed]",
      "text/plain": [
       "<Figure size 412x360 with 1 Axes>"
      ]
     },
     "metadata": {
      "needs_background": "light"
     },
     "output_type": "display_data"
    }
   ],
   "source": [
    "sns.displot(card , x=\"lwage\", hue=\"nearc2\", multiple=\"dodge\")"
   ]
  },
  {
   "cell_type": "markdown",
   "id": "e06d631a",
   "metadata": {},
   "source": [
    "Interpretación: Dentro de los siguientes dos gráficos se ha planteado estudiar a los estudiantes y su acceso a los centros educativos universitarios según la cantidad de ingresos, para ello se han dividido en dos grupo, el grupo de tratamiento que estaba bajo influencia de la variables, en este caso,  sí estaba influenciado por el centro educativo más cercano, el lado opuesto es el grupo de control, quienes no están influenciado por la variables y, en este caso, no poseen un centro educativo cercano. Los resultados son esperados de cierta manera, como se esperaba, de manera general,  el grupo de tratamiento , quienes tienen la universidad más cerca, presentan mayor cantidad de ingresos, justificado de cierta manera, que las universidades están presentes en areas urbanas o areas de alcance posible; sin embargo, los graficos no muestran una constacia clara, por lo que necesatariamos mejores datos para llegar  aun amejor interpretación \n",
    "\n",
    " "
   ]
  },
  {
   "cell_type": "markdown",
   "id": "d6780533",
   "metadata": {},
   "source": [
    "Regresiones"
   ]
  },
  {
   "cell_type": "markdown",
   "id": "63e2bb5f",
   "metadata": {},
   "source": [
    "a) Corran una regresion lineal del tipo \"lwage ~ educ + exper + black + south + married + smsa\", y expliquen los resultados que encuentran."
   ]
  },
  {
   "cell_type": "code",
   "execution_count": 29,
   "id": "ecfddb2f",
   "metadata": {},
   "outputs": [
    {
     "data": {
      "text/html": [
       "<table class=\"simpletable\">\n",
       "<caption>OLS Regression Results</caption>\n",
       "<tr>\n",
       "  <th>Dep. Variable:</th>          <td>lwage</td>      <th>  R-squared:         </th> <td>   0.305</td> \n",
       "</tr>\n",
       "<tr>\n",
       "  <th>Model:</th>                   <td>OLS</td>       <th>  Adj. R-squared:    </th> <td>   0.304</td> \n",
       "</tr>\n",
       "<tr>\n",
       "  <th>Method:</th>             <td>Least Squares</td>  <th>  F-statistic:       </th> <td>   219.2</td> \n",
       "</tr>\n",
       "<tr>\n",
       "  <th>Date:</th>             <td>Fri, 09 Dec 2022</td> <th>  Prob (F-statistic):</th> <td>1.97e-232</td>\n",
       "</tr>\n",
       "<tr>\n",
       "  <th>Time:</th>                 <td>15:40:57</td>     <th>  Log-Likelihood:    </th> <td> -1273.9</td> \n",
       "</tr>\n",
       "<tr>\n",
       "  <th>No. Observations:</th>      <td>  3003</td>      <th>  AIC:               </th> <td>   2562.</td> \n",
       "</tr>\n",
       "<tr>\n",
       "  <th>Df Residuals:</th>          <td>  2996</td>      <th>  BIC:               </th> <td>   2604.</td> \n",
       "</tr>\n",
       "<tr>\n",
       "  <th>Df Model:</th>              <td>     6</td>      <th>                     </th>     <td> </td>    \n",
       "</tr>\n",
       "<tr>\n",
       "  <th>Covariance Type:</th>      <td>nonrobust</td>    <th>                     </th>     <td> </td>    \n",
       "</tr>\n",
       "</table>\n",
       "<table class=\"simpletable\">\n",
       "<tr>\n",
       "      <td></td>         <th>coef</th>     <th>std err</th>      <th>t</th>      <th>P>|t|</th>  <th>[0.025</th>    <th>0.975]</th>  \n",
       "</tr>\n",
       "<tr>\n",
       "  <th>Intercept</th> <td>    5.0633</td> <td>    0.064</td> <td>   79.437</td> <td> 0.000</td> <td>    4.938</td> <td>    5.188</td>\n",
       "</tr>\n",
       "<tr>\n",
       "  <th>educ</th>      <td>    0.0712</td> <td>    0.003</td> <td>   20.438</td> <td> 0.000</td> <td>    0.064</td> <td>    0.078</td>\n",
       "</tr>\n",
       "<tr>\n",
       "  <th>exper</th>     <td>    0.0342</td> <td>    0.002</td> <td>   15.422</td> <td> 0.000</td> <td>    0.030</td> <td>    0.038</td>\n",
       "</tr>\n",
       "<tr>\n",
       "  <th>black</th>     <td>   -0.1660</td> <td>    0.018</td> <td>   -9.426</td> <td> 0.000</td> <td>   -0.201</td> <td>   -0.131</td>\n",
       "</tr>\n",
       "<tr>\n",
       "  <th>south</th>     <td>   -0.1316</td> <td>    0.015</td> <td>   -8.788</td> <td> 0.000</td> <td>   -0.161</td> <td>   -0.102</td>\n",
       "</tr>\n",
       "<tr>\n",
       "  <th>married</th>   <td>   -0.0359</td> <td>    0.003</td> <td>  -10.547</td> <td> 0.000</td> <td>   -0.043</td> <td>   -0.029</td>\n",
       "</tr>\n",
       "<tr>\n",
       "  <th>smsa</th>      <td>    0.1758</td> <td>    0.015</td> <td>   11.372</td> <td> 0.000</td> <td>    0.145</td> <td>    0.206</td>\n",
       "</tr>\n",
       "</table>\n",
       "<table class=\"simpletable\">\n",
       "<tr>\n",
       "  <th>Omnibus:</th>       <td>53.196</td> <th>  Durbin-Watson:     </th> <td>   1.858</td>\n",
       "</tr>\n",
       "<tr>\n",
       "  <th>Prob(Omnibus):</th> <td> 0.000</td> <th>  Jarque-Bera (JB):  </th> <td>  69.430</td>\n",
       "</tr>\n",
       "<tr>\n",
       "  <th>Skew:</th>          <td>-0.231</td> <th>  Prob(JB):          </th> <td>8.38e-16</td>\n",
       "</tr>\n",
       "<tr>\n",
       "  <th>Kurtosis:</th>      <td> 3.584</td> <th>  Cond. No.          </th> <td>    154.</td>\n",
       "</tr>\n",
       "</table><br/><br/>Notes:<br/>[1] Standard Errors assume that the covariance matrix of the errors is correctly specified."
      ],
      "text/plain": [
       "<class 'statsmodels.iolib.summary.Summary'>\n",
       "\"\"\"\n",
       "                            OLS Regression Results                            \n",
       "==============================================================================\n",
       "Dep. Variable:                  lwage   R-squared:                       0.305\n",
       "Model:                            OLS   Adj. R-squared:                  0.304\n",
       "Method:                 Least Squares   F-statistic:                     219.2\n",
       "Date:                Fri, 09 Dec 2022   Prob (F-statistic):          1.97e-232\n",
       "Time:                        15:40:57   Log-Likelihood:                -1273.9\n",
       "No. Observations:                3003   AIC:                             2562.\n",
       "Df Residuals:                    2996   BIC:                             2604.\n",
       "Df Model:                           6                                         \n",
       "Covariance Type:            nonrobust                                         \n",
       "==============================================================================\n",
       "                 coef    std err          t      P>|t|      [0.025      0.975]\n",
       "------------------------------------------------------------------------------\n",
       "Intercept      5.0633      0.064     79.437      0.000       4.938       5.188\n",
       "educ           0.0712      0.003     20.438      0.000       0.064       0.078\n",
       "exper          0.0342      0.002     15.422      0.000       0.030       0.038\n",
       "black         -0.1660      0.018     -9.426      0.000      -0.201      -0.131\n",
       "south         -0.1316      0.015     -8.788      0.000      -0.161      -0.102\n",
       "married       -0.0359      0.003    -10.547      0.000      -0.043      -0.029\n",
       "smsa           0.1758      0.015     11.372      0.000       0.145       0.206\n",
       "==============================================================================\n",
       "Omnibus:                       53.196   Durbin-Watson:                   1.858\n",
       "Prob(Omnibus):                  0.000   Jarque-Bera (JB):               69.430\n",
       "Skew:                          -0.231   Prob(JB):                     8.38e-16\n",
       "Kurtosis:                       3.584   Cond. No.                         154.\n",
       "==============================================================================\n",
       "\n",
       "Notes:\n",
       "[1] Standard Errors assume that the covariance matrix of the errors is correctly specified.\n",
       "\"\"\""
      ]
     },
     "execution_count": 29,
     "metadata": {},
     "output_type": "execute_result"
    }
   ],
   "source": [
    "\n",
    "lineal_reg = sm.OLS.from_formula(\"lwage ~ educ + exper + black + south + married + smsa\", \n",
    "              data = card).fit()\n",
    "\n",
    "lineal_reg.summary()"
   ]
  },
  {
   "cell_type": "markdown",
   "id": "9c9e765a",
   "metadata": {},
   "source": [
    "El presente modelo  presenta que el presente modelo  que son variables estadisticamente significativas con un 95% de confianza puesto que el p value es menor a 0.05; por lo que se rechaza hipotesis nula donde se rechaza el modelo y se acepta como un modelo explicativo. Por otra parte, tambien vemos que hay niveles de correlación, aunque algunas son de dirección positiva y negativa, todas coinciden en que nos débiles o poco influyente. Analizando variable por varible vemos que en el OLS, la variable positiva directamente proporcional  que mejor aporta  es educación con un 0.07; por otra parte, los estudiantes afrodescendientes son de variable negativa  indirectamente proporcial que mejor explica con un -0.17. \n"
   ]
  },
  {
   "cell_type": "markdown",
   "id": "1888bfbd",
   "metadata": {},
   "source": [
    "b) Corran una regresion de tipo IV(usando el paquete IV2SLS) donde van a instrumentalizar la variable educ con nearc2 .\n",
    "Compare los resultados encontrados usando IV2SLS con la primera regresión. ¿Cambió el coeficiente relacionado a educ , por qué?"
   ]
  },
  {
   "cell_type": "code",
   "execution_count": 34,
   "id": "cc2458f4",
   "metadata": {},
   "outputs": [],
   "source": [
    "\n",
    "card['married'] = card['married'].fillna(0) "
   ]
  },
  {
   "cell_type": "code",
   "execution_count": 37,
   "id": "471fdab0",
   "metadata": {},
   "outputs": [
    {
     "data": {
      "text/html": [
       "<table class=\"simpletable\">\n",
       "<caption>IV-2SLS Estimation Summary</caption>\n",
       "<tr>\n",
       "  <th>Dep. Variable:</th>          <td>lwage</td>      <th>  R-squared:         </th> <td>-1.3114</td>\n",
       "</tr>\n",
       "<tr>\n",
       "  <th>Estimator:</th>             <td>IV-2SLS</td>     <th>  Adj. R-squared:    </th> <td>-1.3160</td>\n",
       "</tr>\n",
       "<tr>\n",
       "  <th>No. Observations:</th>       <td>3010</td>       <th>  F-statistic:       </th> <td>289.62</td> \n",
       "</tr>\n",
       "<tr>\n",
       "  <th>Date:</th>             <td>Fri, Dec 09 2022</td> <th>  P-value (F-stat)   </th> <td>0.0000</td> \n",
       "</tr>\n",
       "<tr>\n",
       "  <th>Time:</th>                 <td>15:45:11</td>     <th>  Distribution:      </th> <td>chi2(6)</td>\n",
       "</tr>\n",
       "<tr>\n",
       "  <th>Cov. Estimator:</th>        <td>robust</td>      <th>                     </th>    <td></td>    \n",
       "</tr>\n",
       "<tr>\n",
       "  <th></th>                          <td></td>         <th>                     </th>    <td></td>    \n",
       "</tr>\n",
       "</table>\n",
       "<table class=\"simpletable\">\n",
       "<caption>Parameter Estimates</caption>\n",
       "<tr>\n",
       "      <td></td>      <th>Parameter</th> <th>Std. Err.</th> <th>T-stat</th>  <th>P-value</th> <th>Lower CI</th> <th>Upper CI</th>\n",
       "</tr>\n",
       "<tr>\n",
       "  <th>Intercept</th>  <td>0.1276</td>    <td>3.1412</td>   <td>0.0406</td>  <td>0.9676</td>   <td>-6.0290</td>  <td>6.2843</td> \n",
       "</tr>\n",
       "<tr>\n",
       "  <th>black</th>      <td>0.1134</td>    <td>0.1816</td>   <td>0.6244</td>  <td>0.5324</td>   <td>-0.2425</td>  <td>0.4692</td> \n",
       "</tr>\n",
       "<tr>\n",
       "  <th>exper</th>      <td>0.1515</td>    <td>0.0747</td>   <td>2.0274</td>  <td>0.0426</td>   <td>0.0050</td>   <td>0.2980</td> \n",
       "</tr>\n",
       "<tr>\n",
       "  <th>married</th>    <td>-0.0151</td>   <td>0.0147</td>   <td>-1.0258</td> <td>0.3050</td>   <td>-0.0438</td>  <td>0.0137</td> \n",
       "</tr>\n",
       "<tr>\n",
       "  <th>smsa</th>       <td>0.0201</td>    <td>0.1030</td>   <td>0.1949</td>  <td>0.8455</td>   <td>-0.1819</td>  <td>0.2220</td> \n",
       "</tr>\n",
       "<tr>\n",
       "  <th>south</th>      <td>-0.0319</td>   <td>0.0692</td>   <td>-0.4603</td> <td>0.6453</td>   <td>-0.1675</td>  <td>0.1038</td> \n",
       "</tr>\n",
       "<tr>\n",
       "  <th>educ</th>       <td>0.3618</td>    <td>0.1849</td>   <td>1.9562</td>  <td>0.0504</td>   <td>-0.0007</td>  <td>0.7243</td> \n",
       "</tr>\n",
       "</table><br/><br/>Endogenous: educ<br/>Instruments: nearc2<br/>Robust Covariance (Heteroskedastic)<br/>Debiased: False"
      ],
      "text/plain": [
       "<class 'linearmodels.compat.statsmodels.Summary'>\n",
       "\"\"\"\n",
       "                          IV-2SLS Estimation Summary                          \n",
       "==============================================================================\n",
       "Dep. Variable:                  lwage   R-squared:                     -1.3114\n",
       "Estimator:                    IV-2SLS   Adj. R-squared:                -1.3160\n",
       "No. Observations:                3010   F-statistic:                    289.62\n",
       "Date:                Fri, Dec 09 2022   P-value (F-stat)                0.0000\n",
       "Time:                        15:45:11   Distribution:                  chi2(6)\n",
       "Cov. Estimator:                robust                                         \n",
       "                                                                              \n",
       "                             Parameter Estimates                              \n",
       "==============================================================================\n",
       "            Parameter  Std. Err.     T-stat    P-value    Lower CI    Upper CI\n",
       "------------------------------------------------------------------------------\n",
       "Intercept      0.1276     3.1412     0.0406     0.9676     -6.0290      6.2843\n",
       "black          0.1134     0.1816     0.6244     0.5324     -0.2425      0.4692\n",
       "exper          0.1515     0.0747     2.0274     0.0426      0.0050      0.2980\n",
       "married       -0.0151     0.0147    -1.0258     0.3050     -0.0438      0.0137\n",
       "smsa           0.0201     0.1030     0.1949     0.8455     -0.1819      0.2220\n",
       "south         -0.0319     0.0692    -0.4603     0.6453     -0.1675      0.1038\n",
       "educ           0.3618     0.1849     1.9562     0.0504     -0.0007      0.7243\n",
       "==============================================================================\n",
       "\n",
       "Endogenous: educ\n",
       "Instruments: nearc2\n",
       "Robust Covariance (Heteroskedastic)\n",
       "Debiased: False\n",
       "\"\"\""
      ]
     },
     "execution_count": 37,
     "metadata": {},
     "output_type": "execute_result"
    }
   ],
   "source": [
    "\n",
    "iv_reg = IV2SLS.from_formula(\"lwage ~ 1 + exper + black + south + married + smsa + [educ ~ nearc2]\", card).fit()\n",
    "iv_reg.summary\n"
   ]
  },
  {
   "cell_type": "markdown",
   "id": "77e0e0f3",
   "metadata": {},
   "source": [
    "Interpretación\n",
    "\n",
    "El presente modelo presenta diferencias muy claras con respecto a OLS, si bien se acepta el modelo  tiene un p value menor a 0.05 y se acepta que es un modelo estadisticamente significamente con un 95 % de confianza, vemos que solo la experiencia y educacion son las que unbicas variables que tienen un p value menor a 0.05, osea que pueden considerarse dentro del modelo; por otra parte, el modelo de explicación es negativo con un -131% de explicación, osea casi nada relevante. Entonces, a compración del otro modelo, OLS puede ser un mejor modelo explicativo que este. \n",
    "\n"
   ]
  }
 ],
 "metadata": {
  "kernelspec": {
   "display_name": "Python 3 (ipykernel)",
   "language": "python",
   "name": "python3"
  },
  "language_info": {
   "codemirror_mode": {
    "name": "ipython",
    "version": 3
   },
   "file_extension": ".py",
   "mimetype": "text/x-python",
   "name": "python",
   "nbconvert_exporter": "python",
   "pygments_lexer": "ipython3",
   "version": "3.9.12"
  }
 },
 "nbformat": 4,
 "nbformat_minor": 5
}
