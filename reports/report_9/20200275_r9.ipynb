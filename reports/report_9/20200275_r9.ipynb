{
  "cells": [
    {
      "cell_type": "markdown",
      "id": "d8c5473d",
      "metadata": {
        "id": "d8c5473d"
      },
      "source": [
        "# Reporte 9: \n",
        "   ### Nombre: Mayeli Charra 20200275"
      ]
    },
    {
      "cell_type": "markdown",
      "source": [
        "En el artículo “Redes Sociales y Salud Mental” Braghieri, L., Levy, R. E., & Makarin, A. (2022) se plantean la pregunta: ¿De qué manera la introducción de Facebook en las universidades a mediados de los años 2000 tuvo impacto en la salud mental de los estudiantes en los EEUU? De manera que sostienen la hipótesis que la introducción de Facebook tuvo un impacto negativo en la salud mental y deterioro de la misma, así como una disminución en el rendimiento académico en los estudiantes universitarios.  \n",
        "\n",
        "El artículo presenta una diversidad de fortalezas, en cuanto a sus recursos de datos estos son relevantes para la investigación como el acceso a Facebook en las diversas universidades y la encuesta administrada por la American College Health Association (ACHA) la cual contiene diversas preguntas relacionadas a la salud y bienestar de los estudiantes. En cuanto a salud mental se toman en cuenta respuestas a síntomas así como la asistencia a servicios de salud. Donde, se pone en énfasis que para el diagnóstico de muchos desordenes en salud mental incluyendo la depresión recaen en la autopercepción de los pacientes. Por otro lado, en cuanto a las debilidades encontradas en cuanto a la base de datos es que no se puede determinar si un encuestado fue tratado cuando el semestre en el que se realizó la encuesta coincide con el semestre en el que Facebook se introdujo en esa universidad, no se tiene en cuenta tal observación. Asimismo, que podía verse afectada por las tendencias en cuanto a salud mental preexistentes en universidades más selectivas con respecto a las que no. \n",
        "\n",
        "Además en cuanto a la estrategia empírica se tiene como fortaleza que los autores para identificar el impacto causal de los medios, usaron una estrategia que compara la diferencia antes-después en los resultados entre los estudiantes de las universidades que se introdujo Facebook y los estudiantes de las universidades que no cambiaron su estado entre los dos periodos. Es así que, los modelos de efectos fijos de dos vías (TWFE) les permitió a los autores descartar problemas que afectaron la capacidad de interpretar los resultados como causales.  De manera que se descarta problemas relacionados a la diferencia de la salud mental existente entre las universidades y que los resultado se deban a la evolución de la salud mental a lo largo del tiempo de una manera común entre los estudiantes de las distintas universidades. Pero los límites que se presentan es que falta medir directamente los efectos sobre las calificaciones y no solo en el rendimiento asi como no se tomo en cuenta otras áreas de la salud de los estudiantes y que puedan existir efectos positivos. A pesar de ello, es importante reconocer que los autores trabajaron para encontrar soluciones a las debilidades halladas, algunos de los cabos sueltos se pueden trabajar en próximas investigaciones.\n",
        "\n",
        "Este artículo contribuye a la literatura sobre el tema proporcionando la evidencia más comprensiva a la fecha en los efectos de las redes sociales y salud mental. De forma que entre los hallazgos se tiene que la introducción de Facebook en una universidad tuvo un impacto negativo en la salud mental de los estudiantes. Donde la estimación puntual recoge el efecto directo para el grupo de estudiantes que se unieron a Facebook como el efecto indirecto en los estudiantes que no pero si sus compañeros. La introducción de Facebook aumentó en dos puntos porcentuales la fracción de estudiantes que según las escalas canónicas de salud mental clasificarían como depresivos o con trastorno de ansiedad generalizada. A largo plazo, la proporción de estudiantes que sufrieron depresión grave al menos una vez en el último año aumenta un 24% entre 2000 y 2019.  Además, se encontró que las mujeres utilizan las redes sociales con más frecuencia y que los efectos son más fuertes en los blancos no hispanos y un menor efecto en los estudiantes internacionales, los más jóvenes  y los de primer año. También, se observa que los efectos negativos empeoran cuanto más tiempo se exponen a Facebook. Es así que su principal contribución del artículo es conocer de qué manera estar expuesto a Facebook afecta a la salud mental y ser propenso a ser diagnosticado lo cual afecta al desempeño académico y el desarrollo de los estudiantes. \n",
        "\n",
        "Para cerrar, algunos puntos en los que articulo podría ahondar es respecto a comparar lo encontrado con otras redes sociales como la siguiente investigación realizada sobre la plataforma Tiktok, además de definirse en otro grupo etario lo que resultaría interesante comparar respecto al anterior artículo cuyo grupo de investigación eran estudiantes de pregrado a inicios de la introducción de Facebook de modo que se pueda determinar si los efectos redundan. Agater, A. M. A. (2022) analiza que debido a los modernos algoritmos de TikTok, no existe bibliografía sobre el impacto del nuevo fenómeno de explosión de TikTok, que permite a cualquiera obtener una gran cantidad de atención e interacción en un corto período. Este estudio pretende descubrir los posibles efectos de los vídeos virales de TikTok en la salud mental de sus creadores de la Generación Z. Por otra parte el artículo se centró en el impacto en la comunidad universitaria, sin embargo cuando se atravesó la pandemia el aislamiento era inevitable, entonces sería interesante explorar las diferencias en los resultados tomando en cuenta este factor que también deteriora en gran medida la salud mental. De forma que el objetivo de Peters, D. (2022) en cuanto a explorar la relación entre el consumo de vídeos de medios sociales autotrascendencia  y los sentimientos de soledad y desconexión social atribuidos al aislamiento social puede resultar un siguiente paso. \n",
        "\n",
        "Referencias: \n",
        "Agater, A. M. A. (2022). So many views: The influence of TikTok “blow-ups” on the mental health of Gen Z creators (Bachelor's thesis, University of Twente). http://essay.utwente.nl/91480/\n",
        "\n",
        "Braghieri, L., Levy, R. E., & Makarin, A. (2022). Social media and mental health. American Economic Review, 112(11), 3660-93.\n",
        "\n",
        "Peters, D. (2022). Searching for the Good Vibes: Examining the Relationship Between Self-transcendent Social Media and Social Isolation (Doctoral dissertation, Syracuse University). https://www.proquest.com/openview/41f6288e07f424efa43c147ab224ede8/1?pq-origsite=gscholar&cbl=18750&diss=y\n",
        "\n",
        "\n"
      ],
      "metadata": {
        "id": "2VR6rfELVZ1t"
      },
      "id": "2VR6rfELVZ1t"
    }
  ],
  "metadata": {
    "colab": {
      "provenance": []
    },
    "kernelspec": {
      "display_name": "Python 3 (ipykernel)",
      "language": "python",
      "name": "python3"
    },
    "language_info": {
      "codemirror_mode": {
        "name": "ipython",
        "version": 3
      },
      "file_extension": ".py",
      "mimetype": "text/x-python",
      "name": "python",
      "nbconvert_exporter": "python",
      "pygments_lexer": "ipython3",
      "version": "3.9.12"
    }
  },
  "nbformat": 4,
  "nbformat_minor": 5
}