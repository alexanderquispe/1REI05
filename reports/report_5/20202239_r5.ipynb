{
 "cells": [
  {
   "cell_type": "code",
   "execution_count": 1,
   "id": "2db23095",
   "metadata": {},
   "outputs": [],
   "source": [
    "import matplotlib.pyplot as plt\n",
    "import numpy as np\n",
    "import sympy as sy\n",
    "import pandas as pd\n",
    "import numpy as np\n",
    "import random\n",
    "import math\n",
    "import sklearn\n",
    "import scipy as sp\n",
    "import networkx\n",
    "import statsmodels.api as sm\n",
    "import statsmodels.formula.api as smf\n",
    "from statsmodels.iolib.summary2 import summary_col\n",
    "from causalgraphicalmodels import CausalGraphicalModel\n",
    "import ipywidgets as widgets\n",
    "from sympy import *"
   ]
  },
  {
   "cell_type": "markdown",
   "id": "de54fa2c",
   "metadata": {},
   "source": [
    "# Reporte 5:\n",
    "\n",
    "#### Nombre: Valeria Yesquén\n",
    "#### Código: 20202239\n",
    "\n",
    "## Ensayo\n",
    "\n",
    "En el presente artículo, Dancourt plantea la revisión de una serie de instrumentos de política monetaria, como la tasa referencial de interés, los requerimientos obligatorios de reservas, y la intervención esterilizada en el mercado de divisas; empleados durante el periodo de 2002 a 2013, por el Banco Central de Reserva del Perú. En ese sentido, el autor examina que, con los mismos, el banco construyó un sistema de inflación objetivo y un plan para acumular reservas suficientes de divisas, lo cual, tal como el autor busca demostrar, le permitió al BCRP preservar una estabilidad macroeconómica frente a shocks externos o internacionales con efectos adversos y/o favorables. \n",
    "\n",
    "Siguiendo esa línea, la principal fortaleza del artículo es que explora y explica cada uno de estos instrumentos de política monetaria, demostrando cómo, por ejemplo, la reducción de la tasa referencial de interés puede ayudar a mitigar los efectos de un shock externo adverso de demanda; cómo, el aumentar los requerimientos obligatorios de reservas a los bancos privados, puede ayudar a controlar una posible crisis bancaria por una excesiva dolarización de esta entidades; o cómo, la venta de divisas durante un shock externo negativo puede aliviar la tasa de cambio y ayudar, en conjunto a estabilizar el nivel de precios y el empleo. De esa forma, el autor, llevando su análisis a un plano más real, sostiene que esto fue lo que ayudó a que en la crisis de 2008 y 2009, el flujo de la economía mantuviera cierta estabilidad. Además, demuestra, por medio de datos gráficos y análiticos la efectividad de las medidas tomadas respecto a los instrumentos antes mencionados. \n",
    "\n",
    "Sin embargo, una debilidad que se le puede plantear al enfoque del documento, y algo que se reconoce en el mismo artículo, es que hay ciertas acciones realizadas por el BCRP que el enfoque no termina de explicar. Una de sus limitaciones es que no logra explicar las razones por las que los bancos centrales de los países suelen adquirir o acumular divisas a diferentes ritmos, durante diferentes periodos de tiempos, frente a situaciones o shocks externos determinados, pues en un momento, el autor sostenie que, en su mayoría de veces, la compra de divisas no está determinada por la magnitud de la reducción de la tasa de cambio. Asimismo, se reconoce que el acceso a la información o datos sobre la intervención en divisas no suele estar disponible públicamente para los países emergentes, por lo que el análisis o aplicación de estas medidas puede volverse algo complicado o no premeditado con tiempo. \n",
    "\n",
    "No obstante, el análisis del autor resulta especialmente importante porque contribuye a estructurar una especie de \"prescripción\" que se puede seguir, de ese periodo en adelante, pues a pesar de las dificultades que presenta el enfoque, las medidas utilizadas han resultado efectivas para responder frente a shocks externos, especialmente, aquellos con efectos adversos. Entonces, se puede decir que el autor, con su análisis y revisión de las medidas implementadas por el BCRP durante el periodo establecido, logra identificar una serie de pasos o combinación de medidas efectivas, ordenadas, que pueden ser útiles al momento de combatir recesiones económicas generadas por inestabilidades en la economía internacional. \n",
    "\n",
    "Finalmente, esta línea de investigación puede, por un lado, según Cermeño y otros (2016), continuar aplicando el enfóque y análisis de estos instrumentos a solo un campo específico del sistema, en este caso, los bancos privados del Perú. De esa manera, se puede plantear ver los efectos, de manera más específica, que tuvieron medidas como reducir la tasa de interes referencial o aumentar los requerimientos de reservas obligatorias, sobre estas entidades bancarias durante el periodo de 2003 a 2010. En este caso, los autores se enfocan principalmente en el análisis de los seis bancos más importantes del país, estableciendo así un análisis del efecto de dichas medidas sobre una muestra significativa. Por otro lado, Libman (2018) plantea la utilización de este enfóque a nivel más regional, de manera que, plantea un análisis de los instrumentos y el esequema de objetivos de inflación a nivel de América Latina. En este caso, el autor plantea una comparación entre los diversos que efectos que ha tenido la aplicación de algunas de estas medidas en los Bancos Centrales de países como Perú, Chile, Colombia, México y Brasil. De esa manera, se puede decir que el análisis puede, en primera instancia, especificar su enfóque, centrándose solo en los efectos sobre algunas entidades del sistema, como los bancos; o, en segunda instancia, ampliar su mirada y plantear un análisis más grande, a nivel regional. \n",
    "\n",
    "\n",
    "#### Referencias Adicionales:\n",
    "- Cermeño, R., Dancourt, O., Ganiko, G., & Mendoza, W. (2016). Tasas de interés activas y política monetaria en el Perú. Un análisis con datos de bancos individuales. Economía, 39(78), 95-118.\n",
    "\n",
    "- Libman, E. (2018). Política monetaria y cambiaria asimétrica en países latinoamericanos que usan metas de inflación. Revista CEPAL. "
   ]
  },
  {
   "attachments": {
    "image.png": {
     "image/png": "[encoded data removed]"
    }
   },
   "cell_type": "markdown",
   "id": "4eb65da6",
   "metadata": {},
   "source": [
    "## Código\n",
    "\n",
    "### A partir del siguiente sistema de ecuaciones que representan el modelo DA-OA\n",
    "\n",
    "![image.png](attachment:image.png)\n",
    "\n",
    "#### - Encuentre las ecuaciones de Ingreso $(Y^e)$, tasa de interés $(r^e)$, $(P^e_q)$ de equilibrio (escriba paso a paso la derivación de estas ecuaciones).\n",
    "\n",
    "##### Ingreso de equilibrio \n",
    "\n",
    "Primero es necesario hallar la función de la demanda agregada, derivándola de las ecuaciones de la IS y la LM, donde se eliminará \"r\" y, despejará P. \n",
    "\n",
    "Teniendo en cuenta, por un lado, la curva IS:\n",
    "\n",
    "$$ r = \\frac{β_0}{h} - \\frac{β_1}{h}Y $$\n",
    "\n",
    "donde:\n",
    "\n",
    "- $β_0 = C_0 + I_0 + G_0 + X_0$\n",
    "- $β_1 = 1 - (b - m)(1 - t)$\n",
    "\n",
    "Y, por otro lado, la curva LM:\n",
    "\n",
    "$$ r = -\\frac{1}{j}\\frac{M_o}{P} + \\frac{k}{j}Y $$\n",
    "\n",
    "\n",
    "Se igualan ambas ecuaciones y se despeja en función de $P$:\n",
    "\n",
    "$$ \\frac{β_0}{h} - \\frac{β_1}{h}Y = -\\frac{1}{j}\\frac{M_o}{P} + \\frac{k}{j}Y $$\n",
    "\n",
    "\n",
    "$$ j(β_0) - j(β_1)Y = h(k)Y - h\\frac{M_o}{P} $$\n",
    "\n",
    "$$ h\\frac{M_o}{P} = - j(β_0) + (kh + jβ_1)Y $$\n",
    "\n",
    "$$ P = \\frac{h(M_o)}{- j(β_0) + (kh + jβ_1)Y} $$\n",
    "\n",
    "Sin embargo, se debe considerar un \"nuevo\" modelo para la curva de oferta monetaria, de manera que, se pueda obtener una recta en lugar de una hipérbole:\n",
    "\n",
    "$$ M_s = M_o - P $$\n",
    "\n",
    "De esa manera, el equilibrio en el mercado monetario estará dado por:\n",
    "\n",
    "$$ M_o - P = kY - jr $$\n",
    "\n",
    "Se despeja $r$ y se tiene una nueva curva LM:\n",
    "\n",
    "$$ jr = kY - M_o + P $$\n",
    "\n",
    "$$ r = \\frac{kY}{j} - \\frac{M_o}{j} + \\frac{P}{j} $$\n",
    "\n",
    "Entonces, se iguala con la curva IS, la cual no cambia y se vuelve a despejar en función de P, así se obtiene la ecuación de la Demanda Agregada $(DA)$:\n",
    "\n",
    "$$ \\frac{β_0}{h} - \\frac{β_1}{h}Y = \\frac{kY}{j} - \\frac{M_o}{j} + \\frac{P}{j} $$\n",
    "\n",
    "$$ (β_0)j - (β_1)jY = kYh - M_oh + Ph $$\n",
    "\n",
    "$$  P = \\frac{h Mo^s + jB_o}{h} - \\frac{jB_1 + hk}{h}Y $$\n",
    "\n",
    "Luego, se halla la función de la Oferta Agregada $(OG)$en el corto plazo:\n",
    "\n",
    "$$ P = P^e + θ(Y - \\bar{Y}) $$ \n",
    "\n",
    "donde:\n",
    "\n",
    "- $P$: nivel de precios\n",
    "- $P^e$: precio esperado\n",
    "- $\\bar{Y}$: producto potencial\n",
    "\n",
    "Y se tiene en cuenta que, en el corto plazo, el producto $(Y)$ puede ser menor o mayor a su nivel de largo plazo $(\\bar{Y})$. \n",
    "\n",
    "En ese sentido, para encontrar el Ingreso de equilibrio $(Y^e)$ se deben igualar ambas ecuaciones, la de la Demanda y Oferta Agregada:\n",
    "\n",
    "$$ P^e + θY - \\bar{Y}θ = \\frac{hMo^s + jB_o}{h} - \\frac{jB_1 + hk}{h}Y $$\n",
    "\n",
    "Posteriormente, se despeja en función de Y:\n",
    "\n",
    "$$ θY + \\frac{jB_1 + hk}{h}Y = \\frac{hMo^s + jB_o}{h} - P^e + \\bar{Y}θ $$ \n",
    "\n",
    "$$ Y(θ + \\frac{jB_1 + hk}{h}) = \\frac{hMo^s + jB_o}{h} - P^e + \\bar{Y}θ $$\n",
    "\n",
    "$$ Y^e = \\frac{1}{θ + \\frac{jB_1 + hk}{h}}(\\frac{h Mo^s + jB_o}{h} - P^e + θ\\bar{Y}) $$"
   ]
  },
  {
   "cell_type": "markdown",
   "id": "a9f053b0",
   "metadata": {},
   "source": [
    "##### Tasa de interés de equilibrio\n",
    "\n",
    "Para hallar la tasa de interés de equilibrio, primero se deben despejar las funciones de la curva IS y la curva LM, en función de Y:\n",
    "\n",
    "   - Curva IS:\n",
    "   \n",
    "   $$ r = \\frac{β_0}{h} - \\frac{β_1}{h}Y $$\n",
    "   \n",
    "   $$ rh = β_0 - β_1Y $$\n",
    "   \n",
    "   $$ β_1Y = β_0 - rh $$\n",
    "   \n",
    "   $$ Y = \\frac{β_0 - rh}{β_1} $$\n",
    "   \n",
    "   - Curva LM: considerando $M_s = M_o - P$\n",
    "   \n",
    "   $$ r = \\frac{kY}{j} - \\frac{M_o}{j} + \\frac{P}{j} $$\n",
    "   \n",
    "   $$ rj = kY - M_o + P $$\n",
    "   \n",
    "   $$ rj + M_o - P = kY $$\n",
    "   \n",
    "   $$ Y = \\frac{rj}{k} + \\frac{M_o}{k} - \\frac{P}{k} $$\n",
    "   \n",
    "Entonces, se igualan ambas ecuaciones y se despeja $r$, para hallar la tasa de interés de equilibrio:\n",
    "\n",
    "$$ \\frac{β_0 - rh}{β_1} = \\frac{rj}{k} + \\frac{M_o}{k} - \\frac{P}{k} $$ \n",
    "\n",
    "$$ β_0k - rhk = rβ_1j + β_1(M_o) - P(β_1) $$\n",
    "\n",
    "$$ β_0k - β_1(M_o - P) = r(β_1j + hk) $$\n",
    "\n",
    "$$ r^e = \\frac{β_0k}{β_1j + hk} - \\frac{β_1(M_o - P)}{β_1j + hk} $$\n"
   ]
  },
  {
   "cell_type": "markdown",
   "id": "e6069561",
   "metadata": {},
   "source": [
    "#### Precio de equilibrio\n",
    "\n",
    "En este caso, para hallar el precio de equilibrio, solo hace falta reemplazar el ingreso de equilibrio $(Y^e)$ en la función de la oferta agregada:\n",
    "\n",
    "$$ P_q^e = P^e + θ(Y - \\bar{Y}) $$\n",
    "\n",
    "$$ P_q^e = P^e + θ(Y_q^e - \\bar{Y}) $$\n",
    "\n",
    "$$ P_q^e = P^e + θ(\\frac{1}{θ + \\frac{jB_1 + hk}{h}}(\\frac{h Mo^s + jB_o}{h} - P^e + θ\\bar{Y} - \\bar{Y}) $$"
   ]
  },
  {
   "cell_type": "markdown",
   "id": "cb29ceca",
   "metadata": {},
   "source": [
    "#### - Grafique el equilibrio simultáneo en el modelo DA-OA."
   ]
  },
  {
   "cell_type": "code",
   "execution_count": 2,
   "id": "a3fb7604",
   "metadata": {},
   "outputs": [],
   "source": [
    "#1--------------------------\n",
    "    # Demanda Agregada\n",
    "    \n",
    "# Parámetros\n",
    "\n",
    "Y_size = 100 \n",
    "\n",
    "Co = 35\n",
    "Io = 40\n",
    "Go = 50\n",
    "Xo = 2\n",
    "h = 0.8\n",
    "b = 0.4\n",
    "m = 0.5\n",
    "t = 0.8\n",
    "\n",
    "k = 2\n",
    "j = 1                \n",
    "Ms = 200             \n",
    "P  = 8  \n",
    "\n",
    "Y = np.arange(Y_size)\n",
    "\n",
    "\n",
    "# Ecuación\n",
    "\n",
    "B0 = Co + Io + Go + Xo\n",
    "B1 = 1 - (b-m)*(1-t)\n",
    "\n",
    "def P_AD(h, Ms, j, B0, B1, k, Y):\n",
    "    P_AD = ((h*Ms + j*B0)/h) - (Y*(j*B1 + h*k)/h)\n",
    "    return P_AD\n",
    "\n",
    "P_AD = P_AD(h, Ms, j, B0, B1, k, Y)\n",
    "\n",
    "\n",
    "#2--------------------------\n",
    "    # Oferta Agregada\n",
    "    \n",
    "# Parámetros\n",
    "\n",
    "Y_size = 100\n",
    "\n",
    "Pe = 100 \n",
    "θ = 3\n",
    "_Y = 20   \n",
    "\n",
    "Y = np.arange(Y_size)\n",
    "\n",
    "\n",
    "# Ecuación\n",
    "\n",
    "def P_AS(Pe, _Y, Y, θ):\n",
    "    P_AS = Pe + θ*(Y-_Y)\n",
    "    return P_AS\n",
    "\n",
    "P_AS = P_AS(Pe, _Y, Y, θ)"
   ]
  },
  {
   "cell_type": "code",
   "execution_count": 3,
   "id": "a163d2de",
   "metadata": {},
   "outputs": [
    {
     "data": {
      "text/plain": [
       "(192.39043824701196, 50.79681274900399)"
      ]
     },
     "execution_count": 3,
     "metadata": {},
     "output_type": "execute_result"
    }
   ],
   "source": [
    "# líneas punteadas autómaticas\n",
    "\n",
    "    # definir la función line_intersection\n",
    "def line_intersection(line1, line2):\n",
    "    xdiff = (line1[0][0] - line1[1][0], line2[0][0] - line2[1][0])\n",
    "    ydiff = (line1[0][1] - line1[1][1], line2[0][1] - line2[1][1])\n",
    "\n",
    "    def det(a, b):\n",
    "        return a[0] * b[1] - a[1] * b[0]\n",
    "\n",
    "    div = det(xdiff, ydiff)\n",
    "    if div == 0:\n",
    "       raise Exception('lines do not intersect')\n",
    "\n",
    "    d = (det(*line1), det(*line2))\n",
    "    x = det(d, xdiff) / div\n",
    "    y = det(d, ydiff) / div\n",
    "    return x, y\n",
    "\n",
    "    # coordenadas de las curvas (x,y)\n",
    "A = [P_AD[0], Y[0]] # DA, coordenada inicio\n",
    "B = [P_AD[-1], Y[-1]] # DA, coordenada fin\n",
    "\n",
    "C = [P_AS[0], Y[0]] # L_45, coordenada inicio\n",
    "D = [P_AS[-1], Y[-1]] # L_45, coordenada fin\n",
    "\n",
    "    # creación de intersección\n",
    "\n",
    "intersec = line_intersection((A, B), (C, D))\n",
    "intersec # (y,x)"
   ]
  },
  {
   "cell_type": "code",
   "execution_count": 4,
   "id": "f6360699",
   "metadata": {},
   "outputs": [
    {
     "data": {
      "image/png": "[encoded data removed]",
      "text/plain": [
       "<Figure size 720x576 with 1 Axes>"
      ]
     },
     "metadata": {},
     "output_type": "display_data"
    }
   ],
   "source": [
    "# Gráfico del modelo DA-OA\n",
    "\n",
    "# Dimensiones del gráfico\n",
    "y_max = np.max(P)\n",
    "fig, ax = plt.subplots(figsize=(10, 8))\n",
    "\n",
    "# Curvas a graficar \n",
    "ax.plot(Y, P_AD, label = \"DA\", color = \"#8A2BE2\") #DA\n",
    "ax.plot(Y, P_AS, label = \"OA\", color = \"#7FFF00\") #OA\n",
    "\n",
    "# Líneas punteadas\n",
    "plt.axhline(y=intersec[0], xmin= 0, xmax= 0.5, linestyle = \":\", color = \"#8B7355\")\n",
    "plt.axvline(x=intersec[1],  ymin= 0, ymax= 0.49, linestyle = \":\", color = \"#8B7355\")\n",
    "\n",
    "# Texto agregado\n",
    "plt.text(0, 200, '$P_0$', fontsize = 12, color = 'black')\n",
    "plt.text(53, 25, '$Y_0$', fontsize = 12, color = 'black')\n",
    "plt.text(50, 202, '$E_0$', fontsize = 12, color = 'black')\n",
    "\n",
    "\n",
    "# Eliminar valores de ejes\n",
    "ax.yaxis.set_major_locator(plt.NullLocator())   \n",
    "ax.xaxis.set_major_locator(plt.NullLocator())\n",
    "\n",
    "# Título, ejes y leyenda\n",
    "ax.set(title=\"DA-OA\", xlabel= r'Y', ylabel= r'P')\n",
    "ax.legend()\n",
    "\n",
    "plt.show()"
   ]
  },
  {
   "cell_type": "markdown",
   "id": "4186fac9",
   "metadata": {},
   "source": [
    "### Estática Comparativa\n",
    "\n",
    "#### - Analice los efectos sobre las variables endógenas P y r de una disminución del gasto fiscal $(∆G_0 < 0)$. El análisis debe ser intuitivo, matemático y gráfico. En una figura, se debe que usar los ejes r e Y (modelo IS-LM), y en la otra, los ejes P y r (modelo DA-OA)."
   ]
  },
  {
   "cell_type": "markdown",
   "id": "1f2a7533",
   "metadata": {},
   "source": [
    "##### Análisis intuitivo\n",
    "\n",
    "- Modelo IS-LM:\n",
    "    Una disminución del Gasto Fiscal genera una caída en la Demanda Agregada, por ende, se genera un desequilibrio, donde el nivel de producción resulta mayor a la demanda agregada. Por ende, para regresar al equilibrio $(DA = Y)$, el nivel de producción debe ajustarse a la demanda y disminuir también.\n",
    "    \n",
    "    $$ G_o↓ → DA↓ → DA < Y → Y↓ $$\n",
    "    \n",
    "    Esta disminución del nivel de producción genera una caída de la demanda de dinero $(Md = kY - jr)$. Esto genera un desequilibrio, debido a que, la oferta de dinero no se altera, por ende, la demanda resulta menor a la oferta. Entonces, para regresar al equilibrio $(Md = Ms)$, se debe ajustar la tasa de interés, de modo que esta debe bajar, para así poder estabilizar la demanda:\n",
    "    \n",
    "    $$ Y↓ → Md↓ → Md < Ms → r↓ $$\n",
    "    \n",
    "- Modelo DA-OA\n",
    "    La disminución en el nivel de producción genera que el nivel de precios también se contraiga:\n",
    "    \n",
    "    $$ Y↓ → θ(Y - \\bar{Y})↓ → P↓ $$"
   ]
  },
  {
   "cell_type": "markdown",
   "id": "41e7ae7c",
   "metadata": {},
   "source": [
    "##### Análisis matemático\n",
    "- Modelo IS-LM"
   ]
  },
  {
   "cell_type": "code",
   "execution_count": 10,
   "id": "7067a43f",
   "metadata": {},
   "outputs": [],
   "source": [
    "# nombrar variables como símbolos\n",
    "Co, Io, Go, Xo, h, r, b, m, t, beta_0, beta_1  = symbols('Co Io Go Xo h r b m t beta_0, beta_1')\n",
    "\n",
    "# nombrar variables como símbolos\n",
    "k, j, Ms, P, Y = symbols('k j Ms P Y')\n",
    "\n",
    "# Beta_0 y beta_1\n",
    "beta_0 = (Co + Io + Go + Xo)\n",
    "beta_1 = ( 1-(b-m)*(1-t) )\n",
    "\n",
    "# Producto de equilibrio y la tasa de interes de equilibrio en el modelo IS-LM\n",
    "r_eq = (k*beta_0)/(k*h + j*beta_1) - ( beta_1 / (k*h + j*beta_1) )*(Ms/P)\n",
    "Y_eq = (j*beta_0)/(k*h + j*beta_1) + ( h / (k*h + j*beta_1) )*(Ms/P)\n"
   ]
  },
  {
   "cell_type": "code",
   "execution_count": 11,
   "id": "edc34b44",
   "metadata": {},
   "outputs": [
    {
     "data": {
      "text/latex": [
       "$\\displaystyle \\frac{j}{h k + j \\left(- \\left(1 - t\\right) \\left(b - m\\right) + 1\\right)}$"
      ],
      "text/plain": [
       "j/(h*k + j*(-(1 - t)*(b - m) + 1))"
      ]
     },
     "execution_count": 11,
     "metadata": {},
     "output_type": "execute_result"
    }
   ],
   "source": [
    "df_Y_eq_Go = diff(Y_eq, Go)\n",
    "df_Y_eq_Go"
   ]
  },
  {
   "cell_type": "markdown",
   "id": "4dce6cf2",
   "metadata": {},
   "source": [
    "$$ \\frac{∆Y_q^e}{∆G_o} = \\frac{j}{hk + j(-(1-t)(b-m)+1} $$\n",
    "\n",
    "\n",
    "$$ \\frac{∆Y_q^e}{(-)} = (+) $$\n",
    "\n",
    "\n",
    "$$ ∆Y_q^e = (+)(-) $$\n",
    "\n",
    "$$ ∆Y_q^e = (-) $$\n",
    "\n",
    "$$ ∆Y_q^e < 0 $$"
   ]
  },
  {
   "cell_type": "code",
   "execution_count": 12,
   "id": "521c3043",
   "metadata": {},
   "outputs": [
    {
     "data": {
      "text/latex": [
       "$\\displaystyle \\frac{k}{h k + j \\left(- \\left(1 - t\\right) \\left(b - m\\right) + 1\\right)}$"
      ],
      "text/plain": [
       "k/(h*k + j*(-(1 - t)*(b - m) + 1))"
      ]
     },
     "execution_count": 12,
     "metadata": {},
     "output_type": "execute_result"
    }
   ],
   "source": [
    "df_r_eq_Go = diff(r_eq, Go)\n",
    "df_r_eq_Go"
   ]
  },
  {
   "cell_type": "markdown",
   "id": "bbfab884",
   "metadata": {},
   "source": [
    "$$ \\frac{∆r_q^e}{∆G_o} = \\frac{k}{hk + j(-(1-t)(b-m)+1} $$\n",
    "\n",
    "\n",
    "$$ \\frac{∆r_q^e}{(-)} = (+) $$\n",
    "\n",
    "\n",
    "$$ ∆r_q^e = (+)(-) $$\n",
    "\n",
    "$$ ∆r_q^e = (-) $$\n",
    "\n",
    "$$ ∆r_q^e < 0 $$"
   ]
  },
  {
   "cell_type": "markdown",
   "id": "400829a6",
   "metadata": {},
   "source": [
    "- Modelo DA-OA"
   ]
  },
  {
   "cell_type": "code",
   "execution_count": 13,
   "id": "b77782de",
   "metadata": {},
   "outputs": [],
   "source": [
    "# nombrar variables como símbolos\n",
    "h, Ms, j, beta_0, beta_1, k, Y, Pe, _Y, θ  = symbols('h, Ms, j, beta_0, beta_1, k, Y, Pe, _Y, θ ')\n",
    "\n",
    "# Beta_0 y beta_1\n",
    "beta_0 = (Co + Io + Go + Xo)\n",
    "beta_1 = ( 1-(b-m)*(1-t) )\n",
    "\n",
    "# Producto de equilibrio y la tasa de interes de equilibrio en el modelo IS-LM\n",
    "Y_eq = (((h*Ms+j*beta_0)/h) - (Pe + θ*_Y))/(θ - ((j*beta_1+h*r)/h))\n",
    "P_eq = ((h*Ms+j*beta_0)/h) - (((j*beta_1+h*r)/h)*((P-Pe-θ*_Y)/θ))"
   ]
  },
  {
   "cell_type": "code",
   "execution_count": 14,
   "id": "7e2386b9",
   "metadata": {},
   "outputs": [
    {
     "data": {
      "text/latex": [
       "$\\displaystyle \\frac{j}{h \\left(θ - \\frac{h r + j \\left(- \\left(1 - t\\right) \\left(b - m\\right) + 1\\right)}{h}\\right)}$"
      ],
      "text/plain": [
       "j/(h*(θ - (h*r + j*(-(1 - t)*(b - m) + 1))/h))"
      ]
     },
     "execution_count": 14,
     "metadata": {},
     "output_type": "execute_result"
    }
   ],
   "source": [
    "df_Y_eq_Go = diff(Y_eq, Go)\n",
    "df_Y_eq_Go"
   ]
  },
  {
   "cell_type": "markdown",
   "id": "e4a2b95d",
   "metadata": {},
   "source": [
    "$$ \\frac{∆Y_q^e}{∆G_o} = \\frac{j}{h(θ - \\frac{hr + j(-(1-t)(b-m)+1}{h})} $$\n",
    "\n",
    "\n",
    "$$ \\frac{∆Y_q^e}{(-)} = (+) $$\n",
    "\n",
    "\n",
    "$$ ∆Y_q^e = (+)(-) $$\n",
    "\n",
    "$$ ∆Y_q^e = (-) $$\n",
    "\n",
    "$$ ∆Y_q^e < 0 $$"
   ]
  },
  {
   "cell_type": "code",
   "execution_count": 15,
   "id": "4b5f2b6c",
   "metadata": {},
   "outputs": [
    {
     "data": {
      "text/latex": [
       "$\\displaystyle \\frac{j}{h}$"
      ],
      "text/plain": [
       "j/h"
      ]
     },
     "execution_count": 15,
     "metadata": {},
     "output_type": "execute_result"
    }
   ],
   "source": [
    "df_P_eq_Go = diff(P_eq, Go)\n",
    "df_P_eq_Go"
   ]
  },
  {
   "cell_type": "markdown",
   "id": "3d81f8de",
   "metadata": {},
   "source": [
    "$$ \\frac{∆P_q^e}{∆G_o} = \\frac{j}{h} $$\n",
    "\n",
    "\n",
    "$$ \\frac{∆P_q^e}{(-)} = (+) $$\n",
    "\n",
    "\n",
    "$$ ∆P_q^e = (+)(-) $$\n",
    "\n",
    "$$ ∆P_q^e = (-) $$\n",
    "\n",
    "$$ ∆P_q^e < 0 $$"
   ]
  },
  {
   "cell_type": "markdown",
   "id": "6829541a",
   "metadata": {},
   "source": [
    "##### Análisis gráfico"
   ]
  },
  {
   "cell_type": "code",
   "execution_count": 2,
   "id": "f2b1aa86",
   "metadata": {},
   "outputs": [],
   "source": [
    "# IS-LM\n",
    "\n",
    "#1--------------------------------------------------\n",
    "    # Curva IS ORIGINAL\n",
    "\n",
    "# Parámetros\n",
    "\n",
    "Y_size = 100 \n",
    "\n",
    "Co = 35\n",
    "Io = 40\n",
    "Go = 50\n",
    "Xo = 2\n",
    "h = 0.8\n",
    "b = 0.4\n",
    "m = 0.5\n",
    "t = 0.8\n",
    "\n",
    "Y = np.arange(Y_size)\n",
    "\n",
    "\n",
    "# Ecuación \n",
    "def r_IS(b, m, t, Co, Io, Go, Xo, h, Y):\n",
    "    r_IS = (Co + Io + Go + Xo - Y * (1-(b-m)*(1-t)))/h\n",
    "    return r_IS\n",
    "\n",
    "r = r_IS(b, m, t, Co, Io, Go, Xo, h, Y)\n",
    "\n",
    "\n",
    "#2--------------------------------------------------\n",
    "    # Curva LM ORIGINAL\n",
    "\n",
    "# Parámetros\n",
    "\n",
    "Y_size = 100\n",
    "\n",
    "k = 2\n",
    "j = 1                \n",
    "Ms = 200             \n",
    "P  = 8           \n",
    "\n",
    "Y = np.arange(Y_size)\n",
    "\n",
    "# Ecuación\n",
    "\n",
    "def i_LM( k, j, Ms, P, Y):\n",
    "    i_LM = (-Ms/P)/j + k/j*Y\n",
    "    return i_LM\n",
    "\n",
    "i = i_LM( k, j, Ms, P, Y)\n",
    "\n",
    "#--------------------------------------------------\n",
    "    # NUEVA curva IS: dismonución del gasto fiscal (Go)\n",
    "\n",
    "# Definir SOLO el parámetro cambiado\n",
    "Go = 25\n",
    "\n",
    "# Generar la ecuación con el nuevo parámetro\n",
    "def r_IS(b, m, t, Co, Io, Go, Xo, h, Y):\n",
    "    r_IS = (Co + Io + Go + Xo - Y * (1-(b-m)*(1-t)))/h\n",
    "    return r_IS\n",
    "\n",
    "r_Go = r_IS(b, m, t, Co, Io, Go, Xo, h, Y)"
   ]
  },
  {
   "cell_type": "code",
   "execution_count": 3,
   "id": "ff768440",
   "metadata": {},
   "outputs": [
    {
     "data": {
      "text/plain": [
       "(87.21374045801527, 56.10687022900763)"
      ]
     },
     "execution_count": 3,
     "metadata": {},
     "output_type": "execute_result"
    }
   ],
   "source": [
    "# líneas punteadas autómaticas\n",
    "\n",
    "    # definir la función line_intersection\n",
    "def line_intersection(line1, line2):\n",
    "    xdiff = (line1[0][0] - line1[1][0], line2[0][0] - line2[1][0])\n",
    "    ydiff = (line1[0][1] - line1[1][1], line2[0][1] - line2[1][1])\n",
    "\n",
    "    def det(a, b):\n",
    "        return a[0] * b[1] - a[1] * b[0]\n",
    "\n",
    "    div = det(xdiff, ydiff)\n",
    "    if div == 0:\n",
    "       raise Exception('lines do not intersect')\n",
    "\n",
    "    d = (det(*line1), det(*line2))\n",
    "    x = det(d, xdiff) / div\n",
    "    y = det(d, ydiff) / div\n",
    "    return x, y\n",
    "\n",
    "    # coordenadas de las curvas (x,y)\n",
    "A = [r[0], Y[0]] \n",
    "B = [r[-1], Y[-1]] \n",
    "\n",
    "C = [i[0], Y[0]] \n",
    "D = [i[-1], Y[-1]] \n",
    "\n",
    "E = [r_Go[0], Y[0]]\n",
    "F = [r_Go[-1], Y[-1]] \n",
    "\n",
    "    # creación de intersección\n",
    "\n",
    "intersec = line_intersection((A, B), (C, D))\n",
    "intersec # (y,x)\n"
   ]
  },
  {
   "cell_type": "code",
   "execution_count": 4,
   "id": "1cef08e2",
   "metadata": {},
   "outputs": [
    {
     "data": {
      "text/plain": [
       "(68.1297709923664, 46.5648854961832)"
      ]
     },
     "execution_count": 4,
     "metadata": {},
     "output_type": "execute_result"
    }
   ],
   "source": [
    "intersec2 = line_intersection((E, F), (C, D))\n",
    "intersec2"
   ]
  },
  {
   "cell_type": "code",
   "execution_count": 5,
   "id": "da8345a4",
   "metadata": {},
   "outputs": [
    {
     "data": {
      "image/png": "[encoded data removed]",
      "text/plain": [
       "<Figure size 720x576 with 1 Axes>"
      ]
     },
     "metadata": {
      "needs_background": "light"
     },
     "output_type": "display_data"
    }
   ],
   "source": [
    "y_max = np.max(i)\n",
    "fig, ax = plt.subplots(figsize=(10, 8))\n",
    "#---------------------------------\n",
    "    # Gráfico 1: IS-LM\n",
    "    \n",
    "ax.plot(Y, r, label = \"IS\", color = \"#6495ED\") #IS\n",
    "ax.plot(Y, i, label=\"LM\", color = \"#FF1493\")  #LM\n",
    "ax.plot(Y, r_Go, label=\"IS_Go\", color = \"#6495ED\", linestyle ='dashed')  #IS\n",
    "\n",
    "ax.axvline(x=intersec[1],  ymin= 0, ymax= 0.57, linestyle = \":\", color = \"grey\")\n",
    "ax.axvline(x=intersec2[1],  ymin= 0, ymax= 0.48, linestyle = \":\", color = \"grey\")\n",
    "ax.axhline(y=intersec2[0],  xmin= 0, xmax= 0.48, linestyle = \":\", color = \"grey\")\n",
    "ax.axhline(y=intersec[0],  xmin= 0, xmax= 0.56, linestyle = \":\", color = \"grey\")\n",
    "\n",
    "ax.text(51, 0, '←', fontsize=15, color='grey')\n",
    "ax.text(10, 77, '↓', fontsize=15, color='grey')\n",
    "ax.text(58, -25, '$Y_0$', fontsize=12, color='black')\n",
    "ax.text(48, -25, '$Y_1$', fontsize=12, color='C0')\n",
    "ax.text(0, 89, '$r_0$', fontsize=12, color='black')\n",
    "ax.text(0, 70, '$r_1$', fontsize=12, color='C0')\n",
    "\n",
    "\n",
    "ax.set(title=\"Efectos de una disminución del Gasto fiscal\", xlabel= r'Y', ylabel= r'r')\n",
    "ax.legend()\n",
    "\n",
    "plt.show()"
   ]
  },
  {
   "cell_type": "code",
   "execution_count": 6,
   "id": "b5e86229",
   "metadata": {},
   "outputs": [],
   "source": [
    "#DA-OA\n",
    "\n",
    "#1--------------------------\n",
    "    # Demanda Agregada ORGINAL\n",
    "    \n",
    "# Parámetros\n",
    "\n",
    "Y_size = 100 \n",
    "\n",
    "Co = 35\n",
    "Io = 40\n",
    "Go = 50\n",
    "Xo = 2\n",
    "h = 0.8\n",
    "b = 0.4\n",
    "m = 0.5\n",
    "t = 0.8\n",
    "\n",
    "k = 2\n",
    "j = 1                \n",
    "Ms = 200             \n",
    "P  = 8  \n",
    "\n",
    "Y = np.arange(Y_size)\n",
    "\n",
    "\n",
    "# Ecuación\n",
    "\n",
    "B0 = Co + Io + Go + Xo\n",
    "B1 = 1 - (b-m)*(1-t)\n",
    "\n",
    "def P_AD(h, Ms, j, B0, B1, k, Y):\n",
    "    P_AD = ((h*Ms + j*B0)/h) - (Y*(j*B1 + h*k)/h)\n",
    "    return P_AD\n",
    "\n",
    "P_AD = P_AD(h, Ms, j, B0, B1, k, Y)\n",
    "\n",
    "#--------------------------------------------------\n",
    "    # NUEVA Demanda Agregada\n",
    "\n",
    "# Definir SOLO el parámetro cambiado\n",
    "\n",
    "Go = 25\n",
    "\n",
    "B0 = Co + Io + Go + Xo\n",
    "\n",
    "# Generar la ecuación con el nuevo parámetro\n",
    "\n",
    "def P_AD_Go(h, Ms, j, B0, B1, k, Y):\n",
    "    P_AD = ((h*Ms + j*B0)/h) - (Y*(j*B1 + h*k)/h)\n",
    "    return P_AD\n",
    "\n",
    "P_Go = P_AD_Go(h, Ms, j, B0, B1, k, Y)\n",
    "\n",
    "\n",
    "#2--------------------------\n",
    "    # Oferta Agregada ORIGINAL\n",
    "    \n",
    "# Parámetros\n",
    "\n",
    "Y_size = 100\n",
    "\n",
    "Pe = 70\n",
    "θ = 3\n",
    "_Y = 20  \n",
    "\n",
    "Y = np.arange(Y_size)\n",
    "\n",
    "# Ecuación\n",
    "\n",
    "def P_AS(Pe, _Y, Y, θ):\n",
    "    P_AS = Pe + θ*(Y-_Y)\n",
    "    return P_AS\n",
    "\n",
    "P_AS = P_AS(Pe, _Y, Y, θ)"
   ]
  },
  {
   "cell_type": "code",
   "execution_count": 7,
   "id": "e5b2e5b1",
   "metadata": {},
   "outputs": [
    {
     "data": {
      "text/plain": [
       "(176.73306772908367, 55.57768924302789)"
      ]
     },
     "execution_count": 7,
     "metadata": {},
     "output_type": "execute_result"
    }
   ],
   "source": [
    "# líneas punteadas autómaticas\n",
    "\n",
    "    # definir la función line_intersection\n",
    "def line_intersection(line1, line2):\n",
    "    xdiff = (line1[0][0] - line1[1][0], line2[0][0] - line2[1][0])\n",
    "    ydiff = (line1[0][1] - line1[1][1], line2[0][1] - line2[1][1])\n",
    "\n",
    "    def det(a, b):\n",
    "        return a[0] * b[1] - a[1] * b[0]\n",
    "\n",
    "    div = det(xdiff, ydiff)\n",
    "    if div == 0:\n",
    "       raise Exception('lines do not intersect')\n",
    "\n",
    "    d = (det(*line1), det(*line2))\n",
    "    x = det(d, xdiff) / div\n",
    "    y = det(d, ydiff) / div\n",
    "    return x, y\n",
    "\n",
    "    # coordenadas de las curvas (x,y)\n",
    "G = [P_AD[0], Y[0]] \n",
    "H = [P_AD[-1], Y[-1]] \n",
    "\n",
    "I = [P_Go[0], Y[0]] \n",
    "J = [P_Go[-1], Y[-1]] \n",
    "\n",
    "K = [P_AS[0], Y[0]]\n",
    "L = [P_AS[-1], Y[-1]] \n",
    "\n",
    "    # creación de intersección\n",
    "\n",
    "intersec = line_intersection((G, H), (K, L))\n",
    "intersec # (y,x)\n"
   ]
  },
  {
   "cell_type": "code",
   "execution_count": 8,
   "id": "9b124117",
   "metadata": {},
   "outputs": [
    {
     "data": {
      "text/plain": [
       "(161.79282868525897, 50.59760956175299)"
      ]
     },
     "execution_count": 8,
     "metadata": {},
     "output_type": "execute_result"
    }
   ],
   "source": [
    "intersec2 = line_intersection((I, J), (K, L))\n",
    "intersec2"
   ]
  },
  {
   "cell_type": "code",
   "execution_count": 9,
   "id": "d0c723ac",
   "metadata": {},
   "outputs": [
    {
     "data": {
      "image/png": "[encoded data removed]",
      "text/plain": [
       "<Figure size 720x576 with 1 Axes>"
      ]
     },
     "metadata": {},
     "output_type": "display_data"
    }
   ],
   "source": [
    "    # Gráfico del modelo DA-OA\n",
    "\n",
    "# Dimensiones del gráfico\n",
    "\n",
    "y_max = np.max(P_AD)\n",
    "fig, ax = plt.subplots(figsize=(10, 8))\n",
    "\n",
    "# Curvas a graficar \n",
    "ax.plot(Y, P_AD, label = \"AD\", color = \"#00C957\") #DA\n",
    "ax.plot(Y, P_AS, label = \"AS\", color = \"#9400D3\") #OA\n",
    "ax.plot(Y, P_Go, label = \"AD_Go\", color = \"#00C957\", linestyle = 'dashed') #OA_Pe\n",
    "\n",
    "ax.axvline(x=intersec[1],  ymin= 0, ymax= 0.49, linestyle = \":\", color = \"grey\")\n",
    "ax.axvline(x=intersec2[1],  ymin= 0, ymax= 0.45, linestyle = \":\", color = \"grey\")\n",
    "ax.axhline(y=intersec2[0],  xmin= 0, xmax= 0.5, linestyle = \":\", color = \"grey\")\n",
    "ax.axhline(y=intersec[0],  xmin= 0, xmax= 0.56, linestyle = \":\", color = \"grey\")\n",
    "\n",
    "ax.text(52, 30, '←', fontsize=15, color='grey')\n",
    "ax.text(36, 215, '←', fontsize=15, color='grey')\n",
    "ax.text(35, 225, '∆$G_o$', fontsize=12, color='black')\n",
    "ax.text(0, 164, '↓', fontsize=15, color='grey')\n",
    "\n",
    "ax.text(56, 0, '$Y_0$', fontsize=12, color='black')\n",
    "ax.text(47, 0, '$Y_1$', fontsize=12, color='C4')\n",
    "ax.text(0, 185, '$P_0$', fontsize=12, color='black')\n",
    "ax.text(0, 145, '$P_1$', fontsize=12, color='C4')\n",
    "\n",
    "# Eliminar valores de ejes\n",
    "ax.yaxis.set_major_locator(plt.NullLocator())   \n",
    "ax.xaxis.set_major_locator(plt.NullLocator())\n",
    "\n",
    "# Título, ejes y leyenda\n",
    "ax.set(title=\"Efectos de una disminución del Gasto fiscal\", xlabel= r'Y', ylabel= r'P')\n",
    "ax.legend()\n",
    "\n",
    "plt.show()"
   ]
  },
  {
   "cell_type": "markdown",
   "id": "d92663ee",
   "metadata": {},
   "source": [
    "#### - Analice los efectos sobre las variables endógenas P y r de una disminución de la masa monetaria $(∆M^s < 0)$ . El análisis debe ser intuitivo, matemático y gráfico. En una figura, se debe que usar los ejes r e Y (modelo IS-LM), y en la otra, los ejes P y r (modelo DA-OA)."
   ]
  },
  {
   "cell_type": "markdown",
   "id": "4699f73e",
   "metadata": {},
   "source": [
    "###### Análisis intuitivo\n",
    "- Modelo IS-LM:\n",
    "    En este caso, si la masa monetaria disminuye, también lo hace la oferta, lo que genera un desequilibrio en el mercado de dinero, pues al no haber cambios en la demanda, esta se supone que se mantiene. Entonces, para regresar al nivel de equilibrio se debe subir la tasa de interés:\n",
    "    \n",
    "    $$ Ms↓ → Mo↓ → Mo < Md → r↑ $$\n",
    "    \n",
    "    Al subir la tasa de interés, la inversión baja, debido a su relación inversamente proporcional, por lo tanto, la demanda agregada baja. Esto genera un desequilibrio, pues esta resulta menor al nivel del producto. Entonces, para regresar al equilibrio el nivel de producción se debe ajustarse y por lo tanto, bajar. \n",
    "    \n",
    "    $$ r↑ → I↓ → DA↓ → DA < Y → Y↓ $$\n",
    "    \n",
    "- Modelo DA-OA:\n",
    "    Al bajar el nivel de producción, afecta a la oferta agregada, lo cual genera que el nivel de precios se contraiga:\n",
    "    \n",
    "    $$ Y↓ → θ(Y-\\bar{Y})↓ → P↓ $$"
   ]
  },
  {
   "cell_type": "markdown",
   "id": "757b56b9",
   "metadata": {},
   "source": [
    "##### Análisis matemático\n",
    "- Modelo IS-LM"
   ]
  },
  {
   "cell_type": "code",
   "execution_count": 16,
   "id": "c6343284",
   "metadata": {},
   "outputs": [],
   "source": [
    "# nombrar variables como símbolos\n",
    "Co, Io, Go, Xo, h, r, b, m, t, beta_0, beta_1  = symbols('Co Io Go Xo h r b m t beta_0, beta_1')\n",
    "\n",
    "# nombrar variables como símbolos\n",
    "k, j, Ms, P, Y = symbols('k j Ms P Y')\n",
    "\n",
    "# Beta_0 y beta_1\n",
    "beta_0 = (Co + Io + Go + Xo)\n",
    "beta_1 = ( 1-(b-m)*(1-t) )\n",
    "\n",
    "# Producto de equilibrio y la tasa de interes de equilibrio en el modelo IS-LM\n",
    "r_eq = (k*beta_0)/(k*h + j*beta_1) - ( beta_1 / (k*h + j*beta_1) )*(Ms/P)\n",
    "Y_eq = (j*beta_0)/(k*h + j*beta_1) + ( h / (k*h + j*beta_1) )*(Ms/P)"
   ]
  },
  {
   "cell_type": "code",
   "execution_count": 17,
   "id": "ea5e8c88",
   "metadata": {},
   "outputs": [
    {
     "data": {
      "text/latex": [
       "$\\displaystyle \\frac{h}{P \\left(h k + j \\left(- \\left(1 - t\\right) \\left(b - m\\right) + 1\\right)\\right)}$"
      ],
      "text/plain": [
       "h/(P*(h*k + j*(-(1 - t)*(b - m) + 1)))"
      ]
     },
     "execution_count": 17,
     "metadata": {},
     "output_type": "execute_result"
    }
   ],
   "source": [
    "df_Y_eq_Ms = diff(Y_eq, Ms)\n",
    "df_Y_eq_Ms"
   ]
  },
  {
   "cell_type": "markdown",
   "id": "a1c83d07",
   "metadata": {},
   "source": [
    "$$ \\frac{∆Y_q^e}{∆Ms} = \\frac{h}{P(hk + j(-(1-t)(b-m)+1)} $$\n",
    "\n",
    "\n",
    "$$ \\frac{∆Y_q^e}{(-)} = (+) $$\n",
    "\n",
    "\n",
    "$$ ∆Y_q^e = (+)(-) $$\n",
    "\n",
    "$$ ∆Y_q^e = (-) $$\n",
    "\n",
    "$$ ∆Y_q^e < 0 $$"
   ]
  },
  {
   "cell_type": "code",
   "execution_count": 18,
   "id": "cb6696a6",
   "metadata": {},
   "outputs": [
    {
     "data": {
      "text/latex": [
       "$\\displaystyle - \\frac{- \\left(1 - t\\right) \\left(b - m\\right) + 1}{P \\left(h k + j \\left(- \\left(1 - t\\right) \\left(b - m\\right) + 1\\right)\\right)}$"
      ],
      "text/plain": [
       "-(-(1 - t)*(b - m) + 1)/(P*(h*k + j*(-(1 - t)*(b - m) + 1)))"
      ]
     },
     "execution_count": 18,
     "metadata": {},
     "output_type": "execute_result"
    }
   ],
   "source": [
    "df_r_eq_Ms = diff(r_eq, Ms)\n",
    "df_r_eq_Ms"
   ]
  },
  {
   "cell_type": "markdown",
   "id": "772aa495",
   "metadata": {},
   "source": [
    "$$ \\frac{∆r_q^e}{∆Ms} = - \\frac{- (1-t)(b-m)+1}{P(hk + j(-(1-t)(b-m)+1))} $$\n",
    "\n",
    "\n",
    "$$ \\frac{∆r_q^e}{(-)} = (-) $$\n",
    "\n",
    "\n",
    "$$ ∆r_q^e = (-)(-) $$\n",
    "\n",
    "$$ ∆r_q^e = (+) $$\n",
    "\n",
    "$$ ∆r_q^e > 0 $$"
   ]
  },
  {
   "cell_type": "markdown",
   "id": "2b03e6ab",
   "metadata": {},
   "source": [
    "- Modelo DA-OA"
   ]
  },
  {
   "cell_type": "code",
   "execution_count": 19,
   "id": "e7fad6d6",
   "metadata": {},
   "outputs": [],
   "source": [
    "# nombrar variables como símbolos\n",
    "h, Ms, j, beta_0, beta_1, k, Y, Pe, _Y, θ  = symbols('h, Ms, j, beta_0, beta_1, k, Y, Pe, _Y, θ ')\n",
    "\n",
    "# Beta_0 y beta_1\n",
    "beta_0 = (Co + Io + Go + Xo)\n",
    "beta_1 = ( 1-(b-m)*(1-t) )\n",
    "\n",
    "# Producto de equilibrio y la tasa de interes de equilibrio en el modelo IS-LM\n",
    "Y_eq = (((h*Ms+j*beta_0)/h) - Pe + θ*_Y)/(θ + ((j*beta_1+h*r)/h))\n",
    "P_eq = ((h*Ms+j*beta_0)/h) - (((j*beta_1+h*r)/h)*((P-Pe-θ*_Y)/θ))"
   ]
  },
  {
   "cell_type": "code",
   "execution_count": 20,
   "id": "e79514d6",
   "metadata": {},
   "outputs": [
    {
     "data": {
      "text/latex": [
       "$\\displaystyle \\frac{1}{θ + \\frac{h r + j \\left(- \\left(1 - t\\right) \\left(b - m\\right) + 1\\right)}{h}}$"
      ],
      "text/plain": [
       "1/(θ + (h*r + j*(-(1 - t)*(b - m) + 1))/h)"
      ]
     },
     "execution_count": 20,
     "metadata": {},
     "output_type": "execute_result"
    }
   ],
   "source": [
    "df_Y_eq_Ms = diff(Y_eq, Ms)\n",
    "df_Y_eq_Ms"
   ]
  },
  {
   "cell_type": "markdown",
   "id": "8c012248",
   "metadata": {},
   "source": [
    "$$ \\frac{∆Y_q^e}{∆Ms} = \\frac{1}{θ + \\frac{hr + j(-(1-t)(b-m)+1}{h})} $$\n",
    "\n",
    "\n",
    "$$ \\frac{∆Y_q^e}{(-)} = (+) $$\n",
    "\n",
    "\n",
    "$$ ∆Y_q^e = (+)(-) $$\n",
    "\n",
    "$$ ∆Y_q^e = (-) $$\n",
    "\n",
    "$$ ∆Y_q^e < 0 $$"
   ]
  },
  {
   "cell_type": "code",
   "execution_count": 21,
   "id": "a1b42ee3",
   "metadata": {},
   "outputs": [
    {
     "data": {
      "text/latex": [
       "$\\displaystyle 1$"
      ],
      "text/plain": [
       "1"
      ]
     },
     "execution_count": 21,
     "metadata": {},
     "output_type": "execute_result"
    }
   ],
   "source": [
    "df_P_eq_Ms = diff(P_eq, Ms)\n",
    "df_P_eq_Ms"
   ]
  },
  {
   "cell_type": "markdown",
   "id": "0a09ea86",
   "metadata": {},
   "source": [
    "$$ \\frac{∆P_q^e}{∆Ms} = 1 $$\n",
    "\n",
    "\n",
    "$$ \\frac{∆P_q^e}{(-)} = (+) $$\n",
    "\n",
    "\n",
    "$$ ∆P_q^e = (+)(-) $$\n",
    "\n",
    "$$ ∆P_q^e = (-) $$\n",
    "\n",
    "$$ ∆P_q^e < 0 $$"
   ]
  },
  {
   "cell_type": "markdown",
   "id": "9f2111f9",
   "metadata": {},
   "source": [
    "##### Análisis gráfico"
   ]
  },
  {
   "cell_type": "code",
   "execution_count": 22,
   "id": "09340272",
   "metadata": {},
   "outputs": [],
   "source": [
    "#DA-OA\n",
    "\n",
    "#1--------------------------\n",
    "    # Demanda Agregada ORGINAL\n",
    "    \n",
    "# Parámetros\n",
    "\n",
    "Y_size = 100 \n",
    "\n",
    "Co = 35\n",
    "Io = 40\n",
    "Go = 50\n",
    "Xo = 2\n",
    "h = 0.8\n",
    "b = 0.4\n",
    "m = 0.5\n",
    "t = 0.8\n",
    "\n",
    "k = 2\n",
    "j = 1                \n",
    "Ms = 275             \n",
    "P  = 8  \n",
    "\n",
    "Y = np.arange(Y_size)\n",
    "\n",
    "\n",
    "# Ecuación\n",
    "\n",
    "B0 = Co + Io + Go + Xo\n",
    "B1 = 1 - (b-m)*(1-t)\n",
    "\n",
    "def P_AD(h, Ms, j, B0, B1, k, Y):\n",
    "    P_AD = ((h*Ms + j*B0)/h) - (Y*(j*B1 + h*k)/h)\n",
    "    return P_AD\n",
    "\n",
    "P_AD = P_AD(h, Ms, j, B0, B1, k, Y)\n",
    "\n",
    "#--------------------------------------------------\n",
    "    # NUEVA Demanda Agregada\n",
    "\n",
    "# Definir SOLO el parámetro cambiado\n",
    "\n",
    "Ms = 200\n",
    "\n",
    "# Generar la ecuación con el nuevo parámetro\n",
    "\n",
    "def P_AD_Ms(h, Ms, j, B0, B1, k, Y):\n",
    "    P_AD = ((h*Ms + j*B0)/h) - (Y*(j*B1 + h*k)/h)\n",
    "    return P_AD\n",
    "\n",
    "P_Ms = P_AD_Ms(h, Ms, j, B0, B1, k, Y)\n",
    "\n",
    "\n",
    "#2--------------------------\n",
    "    # Oferta Agregada ORIGINAL\n",
    "    \n",
    "# Parámetros\n",
    "\n",
    "Y_size = 100\n",
    "\n",
    "Pe = 70\n",
    "θ = 3\n",
    "_Y = 20  \n",
    "\n",
    "Y = np.arange(Y_size)\n",
    "\n",
    "# Ecuación\n",
    "\n",
    "def P_AS(Pe, _Y, Y, θ):\n",
    "    P_AS = Pe + θ*(Y-_Y)\n",
    "    return P_AS\n",
    "\n",
    "P_AS = P_AS(Pe, _Y, Y, θ)"
   ]
  },
  {
   "cell_type": "code",
   "execution_count": 23,
   "id": "30a5733d",
   "metadata": {},
   "outputs": [],
   "source": [
    "# IS-LM\n",
    "\n",
    "#1--------------------------------------------------\n",
    "    # Curva IS ORIGINAL\n",
    "\n",
    "# Parámetros\n",
    "\n",
    "Y_size = 100 \n",
    "\n",
    "Co = 35\n",
    "Io = 40\n",
    "Go = 50\n",
    "Xo = 2\n",
    "h = 0.8\n",
    "b = 0.4\n",
    "m = 0.5\n",
    "t = 0.8\n",
    "\n",
    "Y = np.arange(Y_size)\n",
    "\n",
    "\n",
    "# Ecuación \n",
    "def r_IS(b, m, t, Co, Io, Go, Xo, h, Y):\n",
    "    r_IS = (Co + Io + Go + Xo - Y * (1-(b-m)*(1-t)))/h\n",
    "    return r_IS\n",
    "\n",
    "r = r_IS(b, m, t, Co, Io, Go, Xo, h, Y)\n",
    "\n",
    "\n",
    "#2--------------------------------------------------\n",
    "    # Curva LM ORIGINAL\n",
    "\n",
    "# Parámetros\n",
    "\n",
    "Y_size = 100\n",
    "\n",
    "k = 2\n",
    "j = 1                \n",
    "Ms = 500             \n",
    "P  = 8           \n",
    "\n",
    "Y = np.arange(Y_size)\n",
    "\n",
    "# Ecuación\n",
    "\n",
    "def i_LM( k, j, Ms, P, Y):\n",
    "    i_LM = (-Ms/P)/j + k/j*Y\n",
    "    return i_LM\n",
    "\n",
    "i = i_LM( k, j, Ms, P, Y)\n",
    "\n",
    "#--------------------------------------------------\n",
    "    # NUEVA curva LM: incremento en la Masa Monetaria (Ms)\n",
    "\n",
    "# Definir SOLO el parámetro cambiado\n",
    "Ms = 200\n",
    "\n",
    "# Generar la ecuación con el nuevo parámetro\n",
    "def i_LM_Ms( k, j, Ms, P, Y):\n",
    "    i_LM = (-Ms/P)/j + k/j*Y\n",
    "    return i_LM\n",
    "\n",
    "i_Ms = i_LM_Ms( k, j, Ms, P, Y)"
   ]
  },
  {
   "cell_type": "code",
   "execution_count": 24,
   "id": "52a793d2",
   "metadata": {},
   "outputs": [
    {
     "data": {
      "text/plain": [
       "<function matplotlib.pyplot.show(close=None, block=None)>"
      ]
     },
     "execution_count": 24,
     "metadata": {},
     "output_type": "execute_result"
    },
    {
     "data": {
      "image/png": "[encoded data removed]",
      "text/plain": [
       "<Figure size 576x1152 with 2 Axes>"
      ]
     },
     "metadata": {
      "needs_background": "light"
     },
     "output_type": "display_data"
    }
   ],
   "source": [
    "# Dos gráficos en un solo cuadro\n",
    "fig, (ax1, ax2) = plt.subplots(2, figsize=(8, 16)) \n",
    "\n",
    "#---------------------------------\n",
    "    # Gráfico 1: IS-LM\n",
    "    \n",
    "ax1.plot(Y, r, label = \"IS\", color = \"#FF4040\") #IS\n",
    "ax1.plot(Y, i, label=\"LM\", color = \"#0000FF\")  #LM\n",
    "ax1.plot(Y, i_Ms, label=\"LM_Ms\", color = \"#0000FF\", linestyle ='dashed')  #LM\n",
    "\n",
    "ax1.axvline(x=67.5,  ymin= 0, ymax= 1, linestyle = \":\", color = \"grey\")\n",
    "ax1.axvline(x=56,  ymin= 0, ymax= 1, linestyle = \":\", color = \"grey\")\n",
    "ax1.axhline(y=72,  xmin= 0, xmax= 0.66, linestyle = \":\", color = \"grey\")\n",
    "ax1.axhline(y=87,  xmin= 0, xmax= 0.56, linestyle = \":\", color = \"grey\")\n",
    "\n",
    "ax1.text(75, 110, '∆$M_s$', fontsize=12, color='black')\n",
    "ax1.text(76, 102, '←', fontsize=15, color='grey')\n",
    "ax1.text(60, -60, '←', fontsize=15, color='grey')\n",
    "ax1.text(0, 77, '↑', fontsize=15, color='grey')\n",
    "ax1.text(50, -65, '$Y_1$', fontsize=12, color='black')\n",
    "ax1.text(70, -65, '$Y_0$', fontsize=12, color='C0')\n",
    "ax1.text(0, 91, '$r_1$', fontsize=12, color='black')\n",
    "ax1.text(0, 63, '$r_0$', fontsize=12, color='C0')\n",
    "\n",
    "\n",
    "ax1.set(title=\"Efectos de una reducción en la masa monetaria\", xlabel= r'Y', ylabel= r'r')\n",
    "ax1.legend()\n",
    "\n",
    "\n",
    "#---------------------------------\n",
    "    # Gráfico 2: DA-OA\n",
    "\n",
    "ax2.plot(Y, P_AD, label = \"AD\", color = \"#FF1493\") #DA\n",
    "ax2.plot(Y, P_Ms, label = \"AD_Ms\", color = \"#FF1493\", linestyle = 'dashed') #DA_Ms\n",
    "ax2.plot(Y, P_AS, label = \"AS\", color = \"#00CED1\") #OA\n",
    "\n",
    "ax2.axvline(x=67.5,  ymin= 0, ymax= 1, linestyle = \":\", color = \"grey\")\n",
    "ax2.axvline(x=56,  ymin= 0, ymax= 1, linestyle = \":\", color = \"grey\")\n",
    "ax2.axhline(y=213,  xmin= 0, xmax= 0.67, linestyle = \":\", color = \"grey\")\n",
    "ax2.axhline(y=175,  xmin= 0, xmax= 0.56, linestyle = \":\", color = \"grey\")\n",
    "\n",
    "ax2.text(60, 30, '←', fontsize=15, color='grey')\n",
    "ax2.text(36, 260, '←', fontsize=15, color='grey')\n",
    "ax2.text(35, 272, '∆$M_s$', fontsize=12, color='black')\n",
    "ax2.text(0, 187, '↓', fontsize=15, color='grey')\n",
    "\n",
    "ax2.text(58, 0, '$Y_1$', fontsize=12, color='black')\n",
    "ax2.text(70, 0, '$Y_0$', fontsize=12, color='C4')\n",
    "ax2.text(0, 158, '$P_1$', fontsize=12, color='black')\n",
    "ax2.text(0, 220, '$P_0$', fontsize=12, color='C4')\n",
    "\n",
    "ax2.set(xlabel= r'Y', ylabel= r'P')\n",
    "ax2.legend()\n",
    "\n",
    "plt.show"
   ]
  },
  {
   "cell_type": "markdown",
   "id": "303f8f1a",
   "metadata": {},
   "source": [
    "#### - Analice los efectos sobre las variables endógenas P y r de un incremento de la tasa de impuestos $(∆t > 0)$. El análisis debe ser intuitivo, matemático y gráfico. En una figura, se debe que usar los ejes r e Y (modelo IS-LM), y en la otra, los ejes P y r (modelo DA-OA)."
   ]
  },
  {
   "cell_type": "markdown",
   "id": "32572b22",
   "metadata": {},
   "source": [
    "##### Análisis intuitivo\n",
    "\n",
    "- Modelo IS-LM\n",
    "    En este caso el aumento de la tasa impositiva genera una reducción de la demanda agregada, debido a su relación inversamente proporcional, porque reduce el ingreso disponible de las familias para consumir. Al bajar el consumo, baja la demanda agregada. Esto genera un desequilibrio, pues el nivel de produciión se posiciona por encima de la demanda. Entonces, para regresar al equilibrio, se debe ajustar el nivel de producción, lo que implica que este se reduzca:\n",
    "    \n",
    "    $$ t↑ → C↓ → DA↓ → DA < Y → Y↓ $$\n",
    "    \n",
    "    Asimismo, una disminución del ingreso genera que la demanda de dinero se reduzca, y como la oferta de dinero se mantiene, se produce un desequilibrio, pues la oferta es mayor a la demanda. Entonces, para regresar al equilibrio se propone que la tasa de interés se reduzca:\n",
    "    \n",
    "    $$ Y↓ → M_d↓ → M_d < M_S → r↓ $$\n",
    "    \n",
    "    \n",
    "- Modelo DA-OA\n",
    "    Esta reducción del nivel de producción, nuevamente, afecta a la oferta agregada, por lo tanto, el nivel de precios se reduce:\n",
    "    \n",
    "    $$ Y↓ → θ(Y-\\bar{Y})↓ → P↓ $$"
   ]
  },
  {
   "cell_type": "markdown",
   "id": "4baf727b",
   "metadata": {},
   "source": [
    "##### Análisis matemático\n",
    "- Modelo IS-LM"
   ]
  },
  {
   "cell_type": "code",
   "execution_count": 25,
   "id": "03759e06",
   "metadata": {},
   "outputs": [],
   "source": [
    "# nombrar variables como símbolos\n",
    "Co, Io, Go, Xo, h, r, b, m, t, beta_0, beta_1  = symbols('Co Io Go Xo h r b m t beta_0, beta_1')\n",
    "\n",
    "# nombrar variables como símbolos\n",
    "k, j, Ms, P, Y = symbols('k j Ms P Y')\n",
    "\n",
    "# Beta_0 y beta_1\n",
    "beta_0 = (Co + Io + Go + Xo)\n",
    "beta_1 = ( 1-(b-m)*(1-t) )\n",
    "\n",
    "# Producto de equilibrio y la tasa de interes de equilibrio en el modelo IS-LM\n",
    "r_eq = (k*beta_0)/(k*h + j*beta_1) - ( beta_1 / (k*h + j*beta_1) )*(Ms/P)\n",
    "Y_eq = (j*beta_0)/(k*h + j*beta_1) + ( h / (k*h + j*beta_1) )*(Ms/P)"
   ]
  },
  {
   "cell_type": "code",
   "execution_count": 26,
   "id": "c4d35d58",
   "metadata": {},
   "outputs": [
    {
     "data": {
      "text/latex": [
       "$\\displaystyle - \\frac{Ms h j \\left(b - m\\right)}{P \\left(h k + j \\left(- \\left(1 - t\\right) \\left(b - m\\right) + 1\\right)\\right)^{2}} - \\frac{j^{2} \\left(b - m\\right) \\left(Co + Go + Io + Xo\\right)}{\\left(h k + j \\left(- \\left(1 - t\\right) \\left(b - m\\right) + 1\\right)\\right)^{2}}$"
      ],
      "text/plain": [
       "-Ms*h*j*(b - m)/(P*(h*k + j*(-(1 - t)*(b - m) + 1))**2) - j**2*(b - m)*(Co + Go + Io + Xo)/(h*k + j*(-(1 - t)*(b - m) + 1))**2"
      ]
     },
     "execution_count": 26,
     "metadata": {},
     "output_type": "execute_result"
    }
   ],
   "source": [
    "# Diferencia para el nivel de producción de equilibrio:\n",
    "df_Y_eq_t = diff(Y_eq, t)\n",
    "df_Y_eq_t"
   ]
  },
  {
   "cell_type": "markdown",
   "id": "19c2b30c",
   "metadata": {},
   "source": [
    "$$ \\frac{∆Y_q^e}{∆t} = - \\frac{M_shj(b - m)}{P(hk + j(- (1 - t)(b - m) + 1))^2} - \\frac{j^2(b - m)(C_0 + G_0 + I_0 + X_0)}{(hk + j(- (1 - t)(b - m) + 1))^2} $$\n",
    "\n",
    "\n",
    "$$ \\frac{∆Y_q^e}{(+)} = (-) $$\n",
    "\n",
    "\n",
    "$$ ∆Y_q^e = (-)(+) $$\n",
    "\n",
    "$$ ∆Y_q^e = (-) $$\n",
    "\n",
    "$$ ∆Y_q^e < 0 $$"
   ]
  },
  {
   "cell_type": "code",
   "execution_count": 27,
   "id": "1cb6641b",
   "metadata": {},
   "outputs": [
    {
     "data": {
      "text/latex": [
       "$\\displaystyle \\frac{Ms j \\left(b - m\\right) \\left(- \\left(1 - t\\right) \\left(b - m\\right) + 1\\right)}{P \\left(h k + j \\left(- \\left(1 - t\\right) \\left(b - m\\right) + 1\\right)\\right)^{2}} - \\frac{Ms \\left(b - m\\right)}{P \\left(h k + j \\left(- \\left(1 - t\\right) \\left(b - m\\right) + 1\\right)\\right)} - \\frac{j k \\left(b - m\\right) \\left(Co + Go + Io + Xo\\right)}{\\left(h k + j \\left(- \\left(1 - t\\right) \\left(b - m\\right) + 1\\right)\\right)^{2}}$"
      ],
      "text/plain": [
       "Ms*j*(b - m)*(-(1 - t)*(b - m) + 1)/(P*(h*k + j*(-(1 - t)*(b - m) + 1))**2) - Ms*(b - m)/(P*(h*k + j*(-(1 - t)*(b - m) + 1))) - j*k*(b - m)*(Co + Go + Io + Xo)/(h*k + j*(-(1 - t)*(b - m) + 1))**2"
      ]
     },
     "execution_count": 27,
     "metadata": {},
     "output_type": "execute_result"
    }
   ],
   "source": [
    "df_r_eq_t = diff(r_eq, t)\n",
    "df_r_eq_t"
   ]
  },
  {
   "cell_type": "markdown",
   "id": "832400e1",
   "metadata": {},
   "source": [
    "$$ \\frac{∆r_q^e}{∆t} = \\frac{M_sj(b - m)(-(1 - t)(b - m) + 1)}{P(hk + j(- (1 - t)(b - m) + 1))^2} - \\frac{M_s(b - m)}{P(hk + j(- (1 - t)(b - m) + 1))} - \\frac{jk(b - m)(C_0 + G_0 + I_0 + X_0)}{(hk + j(- (1 - t)(b - m) + 1))^2} $$\n",
    "\n",
    "\n",
    "\n",
    "$$ \\frac{∆r_q^e}{(+)} = (+)(-)(+) $$\n",
    "\n",
    "\n",
    "$$ ∆r_q^e = (-)(+) $$\n",
    "\n",
    "$$ ∆r_q^e = (-) $$\n",
    "\n",
    "$$ ∆r_q^e < 0 $$"
   ]
  },
  {
   "cell_type": "markdown",
   "id": "55a4fa7c",
   "metadata": {},
   "source": [
    "- Modelo DA-OA"
   ]
  },
  {
   "cell_type": "code",
   "execution_count": 28,
   "id": "2e544ce8",
   "metadata": {},
   "outputs": [],
   "source": [
    "# nombrar variables como símbolos\n",
    "h, Ms, j, beta_0, beta_1, k, Y, Pe, _Y, θ  = symbols('h, Ms, j, beta_0, beta_1, k, Y, Pe, _Y, θ ')\n",
    "\n",
    "# Beta_0 y beta_1\n",
    "beta_0 = (Co + Io + Go + Xo)\n",
    "beta_1 = ( 1-(b-m)*(1-t) )\n",
    "\n",
    "# Producto de equilibrio y la tasa de interes de equilibrio en el modelo IS-LM\n",
    "Y_eq = (((h*Ms+j*beta_0)/h) - Pe + θ*_Y)/(θ + ((j*beta_1+h*r)/h))\n",
    "P_eq = ((h*Ms+j*beta_0)/h) - (((j*beta_1+h*r)/h)*((P-Pe-θ*_Y)/θ))"
   ]
  },
  {
   "cell_type": "code",
   "execution_count": 29,
   "id": "955ffeb0",
   "metadata": {},
   "outputs": [
    {
     "data": {
      "text/latex": [
       "$\\displaystyle - \\frac{j \\left(b - m\\right) \\left(- Pe + _Y θ + \\frac{Ms h + j \\left(Co + Go + Io + Xo\\right)}{h}\\right)}{h \\left(θ + \\frac{h r + j \\left(- \\left(1 - t\\right) \\left(b - m\\right) + 1\\right)}{h}\\right)^{2}}$"
      ],
      "text/plain": [
       "-j*(b - m)*(-Pe + _Y*θ + (Ms*h + j*(Co + Go + Io + Xo))/h)/(h*(θ + (h*r + j*(-(1 - t)*(b - m) + 1))/h)**2)"
      ]
     },
     "execution_count": 29,
     "metadata": {},
     "output_type": "execute_result"
    }
   ],
   "source": [
    "# Diferencia para el nivel de producción de equilibrio:\n",
    "df_Y_eq_t = diff(Y_eq, t)\n",
    "df_Y_eq_t"
   ]
  },
  {
   "cell_type": "markdown",
   "id": "f050411e",
   "metadata": {},
   "source": [
    "$$ \\frac{∆Y_q^e}{∆t} = - \\frac{j(b - m)(-Pe+_Yθ+\\frac{M_sh(C_0 + G_0 + I_0 + X_0)}{h})}{h(θ + \\frac{hk + j(- (1 - t)(b - m) + 1}{h})^2} $$\n",
    "\n",
    "\n",
    "\n",
    "$$ \\frac{∆Y_q^e}{(+)} = (-) $$\n",
    "\n",
    "\n",
    "$$ ∆Y_q^e = (+)(-) $$\n",
    "\n",
    "$$ ∆Y_q^e = (-) $$\n",
    "\n",
    "$$ ∆Y_q^e < 0 $$"
   ]
  },
  {
   "cell_type": "code",
   "execution_count": 30,
   "id": "70ca30d6",
   "metadata": {},
   "outputs": [
    {
     "data": {
      "text/latex": [
       "$\\displaystyle - \\frac{j \\left(b - m\\right) \\left(P - Pe - _Y θ\\right)}{h θ}$"
      ],
      "text/plain": [
       "-j*(b - m)*(P - Pe - _Y*θ)/(h*θ)"
      ]
     },
     "execution_count": 30,
     "metadata": {},
     "output_type": "execute_result"
    }
   ],
   "source": [
    "df_P_eq_t = diff(P_eq, t)\n",
    "df_P_eq_t"
   ]
  },
  {
   "cell_type": "markdown",
   "id": "65c5f337",
   "metadata": {},
   "source": [
    "$$ \\frac{∆P_q^e}{∆t} = - \\frac{j(b - m)(P - Pe - _Yθ)}{hθ} $$\n",
    "\n",
    "\n",
    "$$ \\frac{∆P_q^e}{(+)} = (-) $$\n",
    "\n",
    "\n",
    "$$ ∆P_q^e = (+)(-) $$\n",
    "\n",
    "$$ ∆P_q^e = (-) $$\n",
    "\n",
    "$$ ∆P_q^e < 0 $$"
   ]
  },
  {
   "cell_type": "markdown",
   "id": "c25f5f86",
   "metadata": {},
   "source": [
    "##### Análisis gráfico"
   ]
  },
  {
   "cell_type": "code",
   "execution_count": 31,
   "id": "0cb1153c",
   "metadata": {},
   "outputs": [],
   "source": [
    "#1--------------------------------------------------\n",
    "    # Curva IS ORIGINAL\n",
    "\n",
    "# Parámetros\n",
    "\n",
    "Y_size = 100 \n",
    "\n",
    "Co = 35\n",
    "Io = 40\n",
    "Go = 50\n",
    "Xo = 2\n",
    "h = 0.8\n",
    "b = 0.5\n",
    "m = 0.4\n",
    "t = 0.1\n",
    "\n",
    "Y = np.arange(Y_size)\n",
    "\n",
    "\n",
    "# Ecuación \n",
    "def r_IS(b, m, t, Co, Io, Go, Xo, h, Y):\n",
    "    r_IS = (Co + Io + Go + Xo - Y * (1-(b-m)*(1-t)))/h\n",
    "    return r_IS\n",
    "\n",
    "r_t = r_IS(b, m, t, Co, Io, Go, Xo, h, Y)\n",
    "\n",
    "\n",
    "#2--------------------------------------------------\n",
    "    # Curva LM ORIGINAL\n",
    "\n",
    "# Parámetros\n",
    "\n",
    "Y_size = 100\n",
    "\n",
    "k = 2\n",
    "j = 1                \n",
    "Ms = 200             \n",
    "P  = 20               \n",
    "\n",
    "Y = np.arange(Y_size)\n",
    "\n",
    "# Ecuación\n",
    "\n",
    "def i_LM( k, j, Ms, P, Y):\n",
    "    i_LM = (-Ms/P)/j + k/j*Y\n",
    "    return i_LM\n",
    "\n",
    "i_t = i_LM( k, j, Ms, P, Y)"
   ]
  },
  {
   "cell_type": "code",
   "execution_count": 32,
   "id": "32d2a8a5",
   "metadata": {},
   "outputs": [],
   "source": [
    "#--------------------------------------------------\n",
    "    # NUEVA curva IS: \n",
    "    \n",
    "# Definir SOLO el parámetro cambiado\n",
    "t = 3\n",
    "\n",
    "# Generar la ecuación con el nuevo parámetro\n",
    "def r_IS(b, m, t, Co, Io, Go, Xo, h, Y):\n",
    "    r_IS = (Co + Io + Go + Xo - Y * (1-(b-m)*(1-t)))/h\n",
    "    return r_IS\n",
    "\n",
    "r_t1 = r_IS(b, m, t, Co, Io, Go, Xo, h, Y)"
   ]
  },
  {
   "cell_type": "code",
   "execution_count": 33,
   "id": "d8a8667f",
   "metadata": {},
   "outputs": [
    {
     "data": {
      "image/png": "[encoded data removed]",
      "text/plain": [
       "<Figure size 720x576 with 1 Axes>"
      ]
     },
     "metadata": {
      "needs_background": "light"
     },
     "output_type": "display_data"
    }
   ],
   "source": [
    "# Gráfico\n",
    "\n",
    "# Dimensiones del gráfico\n",
    "y_max = np.max(i_t)\n",
    "fig, ax = plt.subplots(figsize=(10, 8))\n",
    "\n",
    "# Curvas a graficar\n",
    "ax.plot(Y, r_t, label = \"IS_(t_0)\", color = \"#7FFF00\") #IS_orginal\n",
    "ax.plot(Y, r_t1, label = \"IS_(t_1)\", color = \"#7FFF00\", linestyle = 'dashed') #IS_modificada\n",
    "\n",
    "ax.plot(Y, i_t, label=\"LM\", color = \"#6495ED\")  #LM_original\n",
    "\n",
    "# Texto y figuras agregadas\n",
    "plt.axvline(x=48,  ymin= 0, ymax= 0.48, linestyle = \":\", color = \"grey\")\n",
    "plt.axhline(y=86, xmin= 0, xmax= 0.48, linestyle = \":\", color = \"grey\")\n",
    "\n",
    "plt.axvline(x=54,  ymin= 0, ymax= 0.54, linestyle = \":\", color = \"grey\")\n",
    "plt.axhline(y=98, xmin= 0, xmax= 0.54, linestyle = \":\", color = \"grey\")\n",
    "\n",
    "plt.text(43,70, '$E_1$', fontsize = 14, color = 'black')\n",
    "plt.text(52,103, '$E_0$', fontsize = 14, color = 'black')\n",
    "plt.text(-1,101, '$r_0$', fontsize = 12, color = 'black')\n",
    "plt.text(-1,79, '$r_1$', fontsize = 12, color = 'grey')\n",
    "plt.text(55,-10, '$Y_0$', fontsize = 12, color = 'black')\n",
    "plt.text(44,-10, '$Y_1$', fontsize = 12, color = 'grey')\n",
    "\n",
    "plt.text(49, 15, '←', fontsize=15, color='grey')\n",
    "plt.text(10, 89, '↓', fontsize=15, color='grey')\n",
    "\n",
    "# Título, ejes y leyenda\n",
    "ax.set(title=\"Aumento en la Tasa Impositiva\", xlabel= r'Y', ylabel= r'r')\n",
    "ax.legend()\n",
    "\n",
    "plt.show()"
   ]
  },
  {
   "cell_type": "code",
   "execution_count": 34,
   "id": "cc831ac6",
   "metadata": {},
   "outputs": [],
   "source": [
    "#DA-OA\n",
    "\n",
    "#1--------------------------\n",
    "    # Demanda Agregada ORGINAL\n",
    "    \n",
    "# Parámetros\n",
    "\n",
    "Y_size = 100 \n",
    "\n",
    "Co = 35\n",
    "Io = 40\n",
    "Go = 50\n",
    "Xo = 2\n",
    "h = 0.8\n",
    "b = 0.4\n",
    "m = 0.5\n",
    "t = 0.1\n",
    "\n",
    "k = 2\n",
    "j = 1                \n",
    "Ms = 200             \n",
    "P  = 8  \n",
    "\n",
    "Y = np.arange(Y_size)\n",
    "\n",
    "\n",
    "# Ecuación\n",
    "\n",
    "B0 = Co + Io + Go + Xo\n",
    "B1 = 1 - (b-m)*(1-t)\n",
    "\n",
    "def P_AD(h, Ms, j, B0, B1, k, Y):\n",
    "    P_AD = ((h*Ms + j*B0)/h) - (Y*(j*B1 + h*k)/h)\n",
    "    return P_AD\n",
    "\n",
    "P_AD_t = P_AD(h, Ms, j, B0, B1, k, Y)\n",
    "\n",
    "\n",
    "#2--------------------------\n",
    "    # Oferta Agregada ORIGINAL\n",
    "    \n",
    "# Parámetros\n",
    "\n",
    "Y_size = 100\n",
    "\n",
    "Pe = 70\n",
    "θ = 3\n",
    "_Y = 20  \n",
    "\n",
    "Y = np.arange(Y_size)\n",
    "\n",
    "# Ecuación\n",
    "\n",
    "def P_AS(Pe, _Y, Y, θ):\n",
    "    P_AS = Pe + θ*(Y-_Y)\n",
    "    return P_AS\n",
    "\n",
    "P_AS_t = P_AS(Pe, _Y, Y, θ)"
   ]
  },
  {
   "cell_type": "code",
   "execution_count": 35,
   "id": "dfca6698",
   "metadata": {},
   "outputs": [],
   "source": [
    "#--------------------------------------------------\n",
    "    # NUEVA Demanda Agregada\n",
    "\n",
    "# Definir SOLO el parámetro cambiado\n",
    "\n",
    "t = 5\n",
    "\n",
    "B1 = 1 - (b-m)*(1-t)\n",
    "\n",
    "# Generar la ecuación con el nuevo parámetro\n",
    "\n",
    "def P_AD(h, Ms, j, B0, B1, k, Y):\n",
    "    P_AD = ((h*Ms + j*B0)/h) - (Y*(j*B1 + h*k)/h)\n",
    "    return P_AD\n",
    "\n",
    "P_AD_t1 = P_AD(h, Ms, j, B0, B1, k, Y)"
   ]
  },
  {
   "cell_type": "code",
   "execution_count": 36,
   "id": "913f5848",
   "metadata": {},
   "outputs": [
    {
     "data": {
      "image/png": "[encoded data removed]",
      "text/plain": [
       "<Figure size 720x576 with 1 Axes>"
      ]
     },
     "metadata": {
      "needs_background": "light"
     },
     "output_type": "display_data"
    }
   ],
   "source": [
    "# Gráfico\n",
    "\n",
    "# Dimensiones del gráfico\n",
    "y_max = np.max(P_AS_t)\n",
    "fig, ax = plt.subplots(figsize=(10, 8))\n",
    "\n",
    "# Curvas a graficar\n",
    "ax.plot(Y, P_AD_t1, label = \"DA_(t_0)\", color = \"#E9967A\") \n",
    "ax.plot(Y, P_AD_t, label = \"DA_(t_1)\", color = \"#E9967A\", linestyle = 'dashed')\n",
    "\n",
    "ax.plot(Y, P_AS_t, label=\"OA\", color = \"#98F5FF\")  \n",
    "\n",
    "# Texto y figuras agregadas\n",
    "plt.axvline(x=55,  ymin= 0, ymax= 0.48, linestyle = \":\", color = \"grey\")\n",
    "plt.axhline(y=175, xmin= 0, xmax= 0.55, linestyle = \":\", color = \"grey\")\n",
    "\n",
    "plt.axvline(x=61,  ymin= 0, ymax= 0.52, linestyle = \":\", color = \"grey\")\n",
    "plt.axhline(y=193, xmin= 0, xmax= 0.6, linestyle = \":\", color = \"grey\")\n",
    "\n",
    "plt.text(52,150, '$E_1$', fontsize = 14, color = 'black')\n",
    "plt.text(60,200, '$E_0$', fontsize = 14, color = 'black')\n",
    "plt.text(-1,200, '$P_0$', fontsize = 12, color = 'black')\n",
    "plt.text(-1,158, '$P_1$', fontsize = 12, color = 'grey')\n",
    "plt.text(63,0, '$Y_0$', fontsize = 12, color = 'black')\n",
    "plt.text(56, 0, '$Y_1$', fontsize = 12, color = 'grey')\n",
    "\n",
    "plt.text(57, 55, '←', fontsize=15, color='grey')\n",
    "plt.text(10, 179, '↓', fontsize=15, color='grey')\n",
    "\n",
    "# Título, ejes y leyenda\n",
    "ax.set(title=\"Aumento en la Tasa Impositiva\", xlabel= r'Y', ylabel= r'P')\n",
    "ax.legend()\n",
    "\n",
    "plt.show()"
   ]
  }
 ],
 "metadata": {
  "kernelspec": {
   "display_name": "Python 3 (ipykernel)",
   "language": "python",
   "name": "python3"
  },
  "language_info": {
   "codemirror_mode": {
    "name": "ipython",
    "version": 3
   },
   "file_extension": ".py",
   "mimetype": "text/x-python",
   "name": "python",
   "nbconvert_exporter": "python",
   "pygments_lexer": "ipython3",
   "version": "3.9.12"
  }
 },
 "nbformat": 4,
 "nbformat_minor": 5
}
