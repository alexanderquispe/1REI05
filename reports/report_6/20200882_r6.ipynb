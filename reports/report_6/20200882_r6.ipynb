{
 "cells": [
  {
   "cell_type": "markdown",
   "id": "44a8f686",
   "metadata": {},
   "source": [
    "Franco Hurtado Aguilar - 20200882"
   ]
  },
  {
   "cell_type": "markdown",
   "id": "3f3c1b79",
   "metadata": {},
   "source": [
    "# Reporte:\n",
    "\n",
    "La problemática que atrajo la atención de los autores fue la brecha en logros académicos entre estudiantes de altos y bajos ingresos, que se ha visto incrementada en la última década. Resaltan que, dentro de los estudiantes de bajos ingresos, incluso los de alto rendimiento no ingresaban a universidades selectivas, a pesar de que esto implicaría mayores beneficios a lo largo y después de su vida universitaria. Sin embargo, no es el único factor que les interesó, ya que estudiaron patrones de comportamiento, como el sesgo de actualidad, la dependencia en la rutina, el querer evitar deudas y evitar decisiones complejas. Por ejemplo, si los trámites administrativos que se necesiten realizar resultan muy complejos o engorrosos, la probabilidad de que el estudiante aplicara se ve reducida. Por lo tanto, los autores realizan un experimento para probar si una comunicación personalizada acerca de una beca para estudiantes de altos rendimientos tendría algún efecto en su elección de universidad. \n",
    "\n",
    "\n",
    "Para realizar esta prueba los autores deciden mensajear a una cantidad de alumnos de bajos recursos y altos rendimientos, alentándolos para ingresar a una universidad selectiva, con la promesa de matrícula y mensualidades gratis en caso sean aceptados. Asimismo, los estudiantes tienen esta beca garantizada, por lo que no tendrían que hacer algún papeleo o atravesar trámites o certificaciones extra. Las fortalezas que presenta esta aproximación es que les brinda a los estudiantes información clara y oportunidades fáciles de acceder, por lo que es más esperable una variación en su decisión en cuanto a elegir una universidad. Pensaron no solo en la ayuda económica sino también en la accesibilidad a esta. Sin embargo, es posible que puedan considerar más factores que determinen la elección de una universidad selectiva o el estudiar en alguna, teniendo en cuenta las mayores dificultades que atraviesan los estudiantes de bajos recursos. Además, puede que este experimento no pueda reflejar cómo las universidades quisieran administrar su programa de becas y es posible que no sea aplicable en un contexto real.\n",
    "\n",
    "\n",
    "El hecho de que consideren un factor diferente al apoyo en la matrícula y cuotas, como los patrones de comportamiento es un avance significativo en el estudio de esta problemática, considerando que se obtuvieron mejores resultados que otras pruebas de similar índole pero que no abarcaron este factor. En otras palabras, añaden una dimensión extra a esta problemática que está generalmente definida por el lado económico con resultados satisfactorios.\n",
    "\n",
    "\n",
    "Finalmente, un factor que podrían haber incluido en la investigación son los costos de vida que implican el tomar parte de una vida universitaria, considerando que los estudiantes de menos recursos atraviesan mayores dificultades. Seda Ozekicioglu (2017) realiza un estudio acerca del impacto y factores del costo vida de los estudiantes universitarios, y afirma que “a pesar de que los estudiantes puedan pasar los exámenes universitarios, muchos de estos tienen dificultades para cubrir los nuevos gastos que se les presenta y en muchos casos tienen que retirarse de la universidad” (2017: 161). \n",
    "\n",
    "Bibliografía:\n",
    "\n",
    "\n",
    "Ozekicioglu, S. (2017). Students’ Economic Backgrounds in Meeting Living Costs of Higher Education: A Regression Analysis. International Journal of Economics and Financial Issues, 7(3), 161-165.\n"
   ]
  }
 ],
 "metadata": {
  "kernelspec": {
   "display_name": "Python 3 (ipykernel)",
   "language": "python",
   "name": "python3"
  },
  "language_info": {
   "codemirror_mode": {
    "name": "ipython",
    "version": 3
   },
   "file_extension": ".py",
   "mimetype": "text/x-python",
   "name": "python",
   "nbconvert_exporter": "python",
   "pygments_lexer": "ipython3",
   "version": "3.9.12"
  }
 },
 "nbformat": 4,
 "nbformat_minor": 5
}
