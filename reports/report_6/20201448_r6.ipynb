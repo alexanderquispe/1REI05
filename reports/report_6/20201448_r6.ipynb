{
 "cells": [
  {
   "cell_type": "markdown",
   "id": "c6162bcc",
   "metadata": {},
   "source": [
    "# Reporte 6\n"
   ]
  },
  {
   "cell_type": "markdown",
   "id": "05e9bf9e",
   "metadata": {},
   "source": [
    "## Nombre: Joaquín Alfredo del Castillo Ugarte\n"
   ]
  },
  {
   "cell_type": "markdown",
   "id": "f5403001",
   "metadata": {},
   "source": [
    "## Reporte de lectura "
   ]
  },
  {
   "cell_type": "markdown",
   "id": "41b9bc7b",
   "metadata": {},
   "source": [
    "La lectura comienza señalando una problemática que es la poca participación en el proceso de postulación a las universidades más prestigiosas de los estudiantes más sobresalientes con bajos recursos. En ese sentido, el autor señala que es un tema para investigar, pues pese a que muchos de estos estudiantes presentan las notas suficientes como para intentar postular a las universidades más prestigiosas de EEUU no lo hacen y en vez de ello prefieren postular a universidades de estándares más normales, a pesar que las universidades prestigiosas presentan programas de ayuda social muy generosos y además que a largo plazo ofrecen mayores probabilidades de conseguir trabajo y percibir más ingresos. En base a esta breve introducción el autor plantea la siguiente pregunta de investigación: ¿Se puede entender la poca tasa de postulación de estudiantes brillantes de bajos recursos a las universidades más prestigiosas en función de la desinformación de estos programas de ayuda social?\n",
    "\n",
    "Las fortalezas de este paper para responder a esta pregunta, son en primer lugar, el diseño del estudio. Pues, escogieron dos grupos: uno de control, que iba a recibir la misma información que usualmente se da a todos los estudiantes. En segundo lugar, un grupo de tratamiento, que en este caso iba a recibir una invitación del presidente de la universidad de Michigan, el cual los incentivaba a postular, además que les comentaba que si lograban pasar el examen iban a recibir apoyo económico por parte de la universidad. Sobre este punto, otra fortaleza, es que se esforzaron para que esta invitación sea leída por los miembros del grupo de tratamiento colocando, por ejemplo, colores llamativos con la intención que los estudiantes no obvien esta carta. \n",
    "\n",
    "Por otro lado, otra fortaleza, es que preveyeron muchos supuestos los cuales podrían estar distorsionando el experimento, por ejemplo, evaluar si esta carta estaba afectando la cantidad de alumnos de bajos recursos que postulaban a otras instituciones prestigiosas, lo cual finalmente se comprobó que no sucedía. Además, también que no solo se centraron en evaluar si generaba una mayor participación en el proceso de selección de los estudiantes con bajos recursos, sino que también lo vieron por zonas geográficas, vieron por ejemplo, si había un cambio significativo de estudiantes del campo que postulaban, frente a lo cual vieron que efectivamente había un crecimiento sustancial de porcentaje de estudiantes del campo que participaban en el proceso de selección, en contraste al grupo de control. Finalmente, otra fortaleza es que siguieron el método de la aleatorización, es decir que para escoger tanto a su grupo de tratamiento como de control, no fue una selección premeditada, sino aleatoria, cuestión que permite dar mucha más validez a la investigación. \n",
    "\n",
    "Por otro lado, las debilidades del artículo son en primer lugar, que solo se centran en estudiar una universidad: la Universidad de Michigan. En mi opinión, sería oportuno estudiar más casos de otras universidades para ver si este crecimiento en la postulación de estudiantes de bajos recursos crece de la misma manera. Además, considero que el no controlar qué pasaba con los estudiantes que recibieron la carta y no ingresaron fue una desventaja, pues no es lo mismo no pasar una prueba cuando se recibe información común y corriente a cuando no se pasa una prueba pero siendo motivado a darla por las autoridades de la universidad, además de saber que si logras pasar podrías recibir ayuda económica. Claramente, el daño psicológico en la segunda opción es mucho mayor, pues el darte ese incentivo a postular claramente genera ilusión en los estudiantes, por lo tanto, en mi opinión, este grupo podría tender en el futuro a no postular nuevamente, por tanto para ver si este experimento generaba efectos colaterales en los estudiantes era importante ver si ello efectivamente pasaba o no. \n",
    "\n",
    "Ahora bien, la principal contribución que encuentro es que efectivamente, en base al estudio de caso llegaron a la conclusión de que efectivamente hay un claro incremento de estudiantes de bajos recursos que asisten a la universidad de Michigan (universidad de alto prestigio) en el grupo en el cual los estudiantes recibieron la invitación a participar y además donde les informaron que en caso pasen se les iba a apoyar económicamente. En ese sentido, si bien no se puede aseverar al 100% que hay una relación de causalidad, este experimento ayuda a ver de que si existe una relación entre la desinformación de los estudiantes de bajos recursos sobre las oportunidades de estudio que ofrecen las universidades de alto prestigio y la baja tasa de postulación de ellos a este tipo de universidades. En ese sentido, al evidenciar esta problemática permite que las universidades de alto prestigio vean que es de vital importancia mejorar las formas de comunicación de las becas que pueden obtener los estudiantes brillantes de bajos recursos en caso logren pasar la prueba. \n",
    "\n",
    "Finalmente, sería interesante ver el mismo estudio en otras universidades prestigiosas de Estados Unidos, tal como es el caso de la Universidad de Columbia que se encuentra ubicada en Nueva York. Esta casa de estudios según Kamerman (1992) cuenta históricamente con un prestigioso sistema de apoyo social, el cual no solo se encarga de brindar becas de estudio sino también de realizar distintas obras sociales. En ese sentido, ver y estudiar si una mejora en la comunicación de información relevante a estudiantes de bajos recursos sobre las oportunidades que ofrece esta universidad permite que la tasa de postulación se incremente, sería muy interesante e importante para reforzar estudio de este paper. \n",
    "\n",
    "Por otro lado, Benavides y otros (2015) comentan que un factor muy presente en las universidades de EEUU más prestigiosas es la discriminación, en base al color de piel y nivel socioeconómico. En ese sentido, este factor podría también afectar a la hora en que los estudiantes brillantes de estratos más bajos no deseen postular a las universidades más prestigiosas. En ese sentido, el diario El País (2018), describió una grave crisis que atravesó la universidad de Harvard, justamente a raíz de identificarse casos de discriminación hacia los estudiantes de tez oscura y también hacia los estudiantes con menor capacidad adquisitiva. Entonces, en un estudio futuro, sería interesante ver si este factor influye en que los estudiantes no deseen postular a este tipo de universidades. \n",
    "\n",
    "Finalmente, sería interesante ver si los resultados de este experimento se repiten en otros países, como el Perú. Por ejemplo, se podría evaluar si tras un aumento y mejora en la comunicación de la PUCP a los estudiantes de quinto secundaria destacados de bajos recursos sobre las diversas becas que tienen como la Beca Fe y Alegría, mejora o no su tasa de postulación. En ese sentido, según Aquino (2022), en el presente año más de 2500 estudiantes de bajos recursos lograron acceder a una beca de la PUCP, pues de otra forma muchos de ellos no podrían costear sus estudios. Por tanto, la pregunta sería si este número podría crecer si estas becas ganan una visibilidad mayor, mediante, por ejemplo, envío personalizado de una carta a los estudiantes más calificados, tal como sucedió en el artículo estudiado. \n",
    "\n",
    "\n",
    "Bibliografía: \n",
    "\n",
    "Kamerman. S. (1992). La escuela de Trabajo Social de la Universidad de Columbia: una escuela urbana e internacional para graduados en Trabajo Social. page: 269-282. Universidad Complutense: Madrid. \n",
    "\n",
    "Benavides, M., León, J., Haag, F., & Cueva, S. (2015). Expansión y diversificación de la educación superior universitaria, y su relación con la desigualdad y la segregación. (Documento de Trabajo, 78). Lima: GRADE Group for the Analysis of Development.\n",
    " \n",
    "Aquino, Y. (2022). Más de 2,000 estudiantes PUCP acceden a diversas becas que reconocen su esfuerzo. \n",
    "\n",
    "El País. (2018). El Departamento de Justicia de EE UU acusa a Harvard de discriminación racial. Fecha de consulta: 30 de octubre del 2022. Recuperado de: \n",
    "\n",
    "https://elpais.com/internacional/2018/08/30/actualidad/1535643096_262491.html\n",
    "\n"
   ]
  }
 ],
 "metadata": {
  "kernelspec": {
   "display_name": "Python 3 (ipykernel)",
   "language": "python",
   "name": "python3"
  },
  "language_info": {
   "codemirror_mode": {
    "name": "ipython",
    "version": 3
   },
   "file_extension": ".py",
   "mimetype": "text/x-python",
   "name": "python",
   "nbconvert_exporter": "python",
   "pygments_lexer": "ipython3",
   "version": "3.9.12"
  }
 },
 "nbformat": 4,
 "nbformat_minor": 5
}
