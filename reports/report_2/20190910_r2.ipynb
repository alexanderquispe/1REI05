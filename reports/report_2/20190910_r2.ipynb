{
 "cells": [
  {
   "cell_type": "markdown",
   "id": "c6065858",
   "metadata": {},
   "source": [
    "\n",
    "<h1>Reporte 2</h1>\n",
    "\n",
    "\n",
    "alumnas: Dana Aneliz Rodriguez Sandi (20190910)\n",
    "Elia Alessandra Rosell Poma (20140685) (Python)\n",
    "\n",
    "\n",
    "\n",
    "\n",
    "La historia monetaria y fiscal de Perú en el periodo 1960-2017\n",
    "\n",
    "Para esta investigación, se toman en cuenta dos períodos marcados por la desconfianza en el manejo del mercado peruano: tanto el del régimen autoritario de Velasco (1968 -1975) como  el gobierno de alan Garcia (1985-1990), y un periodo de estabilización desde la llegada al poder de Fujimori en 1990.\n",
    "\n",
    "\n",
    "Es un intento de comprender la política monetaria y las decisiones surgidas en torno a esta. El artículo no solo explica el surgimiento de la inflación y las políticas equivocadas, sino que no deja de lado la importancia que tiene la autonomía del BCRP y la ausencia de intervencionismo estatal. Además, se  menciona el impacto de factores como  la prudencia fiscal y la presencia de funcionarios calificados y su relación con  la estabilidad macroeconómica peruana.\n",
    "\n",
    "\n",
    "Se evidencia un tinte monetarista en la publicación  del Instituto Becker Friedman y la Universidad de Chicago. La política monetaria y la apertura de mercados son dos componentes del gobierno de Fujimori que los autores destacan. Consideran que a esto se debe este  período de estabilidad económica clave para la historia del Perú. Las reformas políticas son presentadas como una receta contra la inflación y la caída de la productividad.\n",
    "\n",
    "\n",
    "\n",
    "La fortaleza de este documento académico es que pretende mostrar diferentes procesos mediante los cuales se calcula la data económica y los efectos de las políticas  fiscales y monetarias, con fórmulas detalladas y gráficos que las complementan y facilitan su entendimiento. Incluso estas se  pueden utilizar con otras variables.\n",
    "\n",
    "\n",
    "Los autores emplean el término “aprendizaje social” , para hacer referencia a las elecciones en donde fue electo Fujimori, señalando que su triunfo electoral fue por la mala experiencia de los electores peruanos con  gobiernos con gran control estatal de la economía, ya que él la liberalizó.  Esto vincula la economía con otras disciplinas de las ciencias sociales más androcentristas destacando la importancia de los individuos. \n",
    "\n",
    "\n",
    " Sin embargo,una debilidad del documento sería el hecho de que  que los ciudadanos no votaron por Fujimori  debido a su plan económico, pues no presentó ideas claras en este campo, sino  que su victoria fue precisamente por la promoción de ideas económicas menos extremistas.\n",
    "\n",
    "\n",
    "Otra debilidad, sería el contexto político y social durante la década de 1990 y parte de la década de 1980, ya que  los datos que se utilizan en el documento, no son necesariamente confiables. Se sabe que durante periodos de autoritarismo como en su caso, el estado apela a tener una imagen de fortaleza y estabilidad.\n",
    "\n",
    "\n",
    "Dentro de las contribuciones del  documento es que se puede disponer de indicadores y datos históricos que revelan el contexto económico que vivió el Perú durante el siglo pasado, lo cual permite  corroborar ciertos datos con otros y con diferentes contextos históricos y, además, se puede contrastar con la realidad económica de los países vecinos y el resto del mundo  para realizar comparaciones que aporten a la disciplina.\n",
    "\n",
    "\n",
    "Por otro lado, Martinelli y Vega van más allá que la mayoría de académicos y rastrean los orígenes de la inflación desde el  primer gobierno de Belaúnde. Se resalta la excesiva intervención estatal del gobierno Velasco como  causa de la caída de la productividad económica y que generó inflación inflación, pero  también se reconocen las razones por las que era necesario un cambio.\n",
    "\n",
    "\n",
    "El Perú depende de las exportaciones y en el contexto del documento, los precios internacionales cobran aún mayor relevancia, pues por el modelo económico era más alta la dependencia . Un paso que podría complementar la información dada, sería especificar las acciones que se deberían tomar en caso de que haya una caída de estos precios. Por otro lado, una interesante línea de investigación podría ser  revisar el impacto de las disputas políticas internas  en la macroeconomía peruana, es factible ya que se puede encontrar diversos ejemplos de periodos de crisis política en la historia peruana.\n",
    "\n",
    "\n",
    "\n",
    "\n"
   ]
  },
  {
   "cell_type": "code",
   "execution_count": null,
   "id": "f6ab7708",
   "metadata": {},
   "outputs": [],
   "source": []
  },
  {
   "cell_type": "code",
   "execution_count": null,
   "id": "d1074006",
   "metadata": {},
   "outputs": [],
   "source": []
  },
  {
   "cell_type": "code",
   "execution_count": null,
   "id": "33ec3500",
   "metadata": {},
   "outputs": [],
   "source": []
  },
  {
   "cell_type": "code",
   "execution_count": null,
   "id": "01b841b7",
   "metadata": {},
   "outputs": [],
   "source": []
  },
  {
   "cell_type": "code",
   "execution_count": null,
   "id": "75ca04e9",
   "metadata": {},
   "outputs": [],
   "source": []
  },
  {
   "cell_type": "code",
   "execution_count": 18,
   "id": "92c9b9e4",
   "metadata": {},
   "outputs": [
    {
     "ename": "ModuleNotFoundError",
     "evalue": "No module named 'causalgraphicalmodels'",
     "output_type": "error",
     "traceback": [
      "\u001b[1;31m---------------------------------------------------------------------------\u001b[0m",
      "\u001b[1;31mModuleNotFoundError\u001b[0m                       Traceback (most recent call last)",
      "Input \u001b[1;32mIn [18]\u001b[0m, in \u001b[0;36m<cell line: 6>\u001b[1;34m()\u001b[0m\n\u001b[0;32m      4\u001b[0m \u001b[38;5;28;01mimport\u001b[39;00m \u001b[38;5;21;01msympy\u001b[39;00m \u001b[38;5;28;01mas\u001b[39;00m \u001b[38;5;21;01msy\u001b[39;00m\n\u001b[0;32m      5\u001b[0m \u001b[38;5;28;01mimport\u001b[39;00m \u001b[38;5;21;01mpandas\u001b[39;00m \u001b[38;5;28;01mas\u001b[39;00m \u001b[38;5;21;01mpd\u001b[39;00m\n\u001b[1;32m----> 6\u001b[0m \u001b[38;5;28;01mfrom\u001b[39;00m \u001b[38;5;21;01mcausalgraphicalmodels\u001b[39;00m \u001b[38;5;28;01mimport\u001b[39;00m CausalGraphicalModel\n",
      "\u001b[1;31mModuleNotFoundError\u001b[0m: No module named 'causalgraphicalmodels'"
     ]
    }
   ],
   "source": [
    "\n",
    "import ipywidgets as widgets\n",
    "import matplotlib.pyplot as plt\n",
    "import numpy as np\n",
    "import sympy as sy\n",
    "import pandas as pd\n",
    "from causalgraphicalmodels import CausalGraphicalModel\n",
    "\n"
   ]
  },
  {
   "cell_type": "markdown",
   "id": "c992a2eb",
   "metadata": {},
   "source": [
    "<h1>Código en Python</h1>"
   ]
  },
  {
   "cell_type": "markdown",
   "id": "bf0aacec",
   "metadata": {},
   "source": [
    "<h1>a. El Modelo Ingreso-Gasto: la Curva IS</h1>"
   ]
  },
  {
   "cell_type": "markdown",
   "id": "8ec313e9",
   "metadata": {},
   "source": [
    "* **Utilizando las ecuaciones derive paso a paso la curva IS matemáticamente (a partir de la condición de equilibrio Y = DA).**"
   ]
  },
  {
   "cell_type": "markdown",
   "id": "3ff08a6f",
   "metadata": {},
   "source": [
    "$$Y=C+I+G+X-M$$"
   ]
  },
  {
   "cell_type": "markdown",
   "id": "044f2af7",
   "metadata": {},
   "source": [
    "$$ Y=C_0+b*Y^d+I_0-h*r+G_0+X_0-m*Y^d $$"
   ]
  },
  {
   "cell_type": "markdown",
   "id": "4ae9cdf6",
   "metadata": {},
   "source": [
    "$$ Y^d=Y-T=(1-t)Y $$"
   ]
  },
  {
   "cell_type": "markdown",
   "id": "0b323b7a",
   "metadata": {},
   "source": [
    "$$ Y=C_0+b*(1-t)*Y+I_0-h*r+G_0+X_0-m*(1-t)*Y $$"
   ]
  },
  {
   "cell_type": "markdown",
   "id": "f6fbb975",
   "metadata": {},
   "source": [
    "* Despejo “r”:"
   ]
  },
  {
   "cell_type": "markdown",
   "id": "dae9e399",
   "metadata": {},
   "source": [
    "$$ Y*(1-(1-t)*(b-m)))=C_0+I_0+G_0+X_0-h*r  $$"
   ]
  },
  {
   "cell_type": "markdown",
   "id": "4275ba75",
   "metadata": {},
   "source": [
    "$$ \\dfrac{(C_0+I_0+G_0+X_0)}{h}- \\dfrac{Y*(1-(1-t)*(b-m))}{h}=r      →IS $$"
   ]
  },
  {
   "cell_type": "markdown",
   "id": "8488e7fd",
   "metadata": {},
   "source": [
    "* **Utilizando la función de equilibrio IS donde r está en función de Y, encuentre △r/△Y.**"
   ]
  },
  {
   "cell_type": "markdown",
   "id": "9e1fa98f",
   "metadata": {},
   "source": [
    "* △r/△Y = Pendiente de la IS "
   ]
  },
  {
   "cell_type": "markdown",
   "id": "243d30de",
   "metadata": {},
   "source": [
    "$$ △r=-△Y* \\dfrac{(1-(1-t)*(b-m))}{h} $$"
   ]
  },
  {
   "cell_type": "markdown",
   "id": "d07f3fb3",
   "metadata": {},
   "source": [
    "$$  \\dfrac{△r}{△Y}=-(\\dfrac{1-(1-t)*(b-m)}{h}) $$"
   ]
  },
  {
   "cell_type": "markdown",
   "id": "28dd3398",
   "metadata": {},
   "source": [
    "* **Lea la sección 4.4 del material de enseñanza y explique cómo se deriva la curva IS a partir del equilibrio Y=DA y grafique lo siguiente:**"
   ]
  },
  {
   "cell_type": "code",
   "execution_count": null,
   "id": "b180e90e",
   "metadata": {},
   "outputs": [],
   "source": [
    "# Valores de Parametros\n",
    "Y_size = 100 \n",
    "\n",
    "Co = 15\n",
    "Io = 18\n",
    "Go = 28\n",
    "Xo = 5\n",
    "h = 0.8\n",
    "b = 0.5\n",
    "m = 0.3\n",
    "t = 0.3\n",
    "r = 8.2\n",
    "\n",
    "Y = np.arange(Y_size)\n",
    "\n",
    "# Ecuación de la curva del ingreso de equilibrio\n",
    "\n",
    "def DA(Co, Io, Go, Xo, h, r, b, m, t, Y):\n",
    "    DA= (Co+b*(1-t)*Y+Io-h*r+Go+Xo-m*(1-t)*Y)\n",
    "    return DA\n",
    "\n",
    "DA_0= DA(Co, Io, Go, Xo, h, r, b, m, t, Y)\n"
   ]
  },
  {
   "cell_type": "code",
   "execution_count": null,
   "id": "9c88cdb2",
   "metadata": {},
   "outputs": [],
   "source": [
    "#--------------------------------------------------\n",
    "# Recta de 45°\n",
    "\n",
    "def L_45(Y):\n",
    "    L_45 = Y\n",
    "    return L_45\n",
    "\n",
    "L_45 = L_45(Y)"
   ]
  },
  {
   "cell_type": "code",
   "execution_count": null,
   "id": "6bcfdbe9",
   "metadata": {},
   "outputs": [],
   "source": [
    "#--------------------------------------------------\n",
    "# Segunda curva de ingreso de equilibrio\n",
    "\n",
    "    # Definir cualquier parámetro autónomo\n",
    "r= 0.1\n",
    "# Generar la ecuación con el nuevo parámetro\n",
    "\n",
    "def DA(Co, Io, Go, Xo, h, r, b, m, t, Y):\n",
    "    DA= (Co+b*(1-t)*Y+Io-h*r+Go+Xo-m*(1-t)*Y)\n",
    "    return DA\n",
    "\n",
    "DA_1= DA(Co, Io, Go, Xo, h, r, b, m, t, Y)"
   ]
  },
  {
   "cell_type": "code",
   "execution_count": null,
   "id": "62e70459",
   "metadata": {},
   "outputs": [],
   "source": [
    "# Parámetros\n",
    "\n",
    "Y_size = 100 \n",
    "\n",
    "Co = 15\n",
    "Io = 18\n",
    "Go = 28\n",
    "Xo = 5\n",
    "h = 0.8\n",
    "b = 0.5\n",
    "m = 0.3\n",
    "t = 0.3\n",
    "\n",
    "Y = np.arange(Y_size)\n",
    "\n",
    "\n",
    "# Ecuación \n",
    "def r_IS(b, m, t, Co, Io, Go, Xo, h, Y):\n",
    "    r_IS = ((Co+Io+Go+Xo)/h-Y*((1-(1-t)*(b-m))/h))\n",
    "    return r_IS\n",
    "\n",
    "IS_0 = r_IS(b, m, t, Co, Io, Go, Xo, h, Y)"
   ]
  },
  {
   "cell_type": "code",
   "execution_count": null,
   "id": "8e8358d8",
   "metadata": {},
   "outputs": [],
   "source": [
    "# Gráfico de la derivación de la curva IS a partir de la igualdad (DA = Y)\n",
    "\n",
    "    # Dos gráficos en un solo cuadro (ax1 para el primero y ax2 para el segundo)\n",
    "fig, (ax1, ax2) = plt.subplots(2, figsize=(8, 16)) \n",
    "\n",
    "#---------------------------------\n",
    "    # Gráfico 1: ingreso de Equilibrio\n",
    "ax1.yaxis.set_major_locator(plt.NullLocator())   \n",
    "ax1.xaxis.set_major_locator(plt.NullLocator())\n",
    "\n",
    "ax1.plot(Y, DA_1, label = \"DA_1\", linestyle = \":\", color = \"blue\") \n",
    "ax1.plot(Y, DA_0, label = \"DA_0\", color = \"blue\") \n",
    "ax1.plot(Y, L_45, color = \"black\") \n",
    "\n",
    "ax1.axvline(x = 76.65, ymin= 0, ymax = 0.76, linestyle = \":\", color = \"grey\")\n",
    "ax1.axvline(x = 69.12,  ymin= 0, ymax = 0.69, linestyle = \":\", color = \"grey\")\n",
    "\n",
    "ax1.text(4, 2, '$45°$', fontsize = 11.5, color = 'black')\n",
    "ax1.text(2, -3, '$◝$', fontsize = 30, color = 'black')\n",
    "ax1.text(76.65, 0, '$Y1$', fontsize = 12, color = 'black')\n",
    "ax1.text(69.12, 0, '$Y0$', fontsize = 12, color = 'black')\n",
    "ax1.text(76.65, 80, 'E1', fontsize = 12, color = 'black')\n",
    "ax1.text(69.12, 72, 'E0', fontsize = 12, color = 'black')\n",
    "\n",
    "ax1.set(title = \"Derivación de la curva IS a partir del equilibrio $Y=DA$\", xlabel = r'Y', ylabel = r'DA')\n",
    "ax1.legend()\n",
    "\n",
    "\n",
    "#---------------------------------\n",
    "    # Gráfico 2: Curva IS\n",
    "\n",
    "ax2.yaxis.set_major_locator(plt.NullLocator())   \n",
    "ax2.xaxis.set_major_locator(plt.NullLocator())\n",
    "\n",
    "ax2.plot(Y, IS_0, label = \"IS\", color = \"C1\") \n",
    "\n",
    "ax2.axvline(x = 76.65, ymin= 0, ymax = 1, linestyle = \":\", color = \"grey\")\n",
    "ax2.axvline(x = 69.12,  ymin= 0, ymax = 1, linestyle = \":\", color = \"grey\")\n",
    "plt.axhline(y = 0.1, xmin= 0, xmax = 0.7665, linestyle = \":\", color = \"grey\")\n",
    "plt.axhline(y = 8.2, xmin= 0, xmax = 0.6912, linestyle = \":\", color = \"grey\")\n",
    "\n",
    "ax2.text(76.65, -32, '$Y1$', fontsize = 12, color = 'black')\n",
    "ax2.text(69.12, -32, '$Y0$', fontsize = 12, color = 'black')\n",
    "ax2.text(-10, 8.2, '$r_0$', fontsize = 12, color = 'black')\n",
    "ax2.text(-10, 0.1, '$r_1$', fontsize = 12, color = 'black')\n",
    "ax2.text(76.65, 0.8, 'E1', fontsize = 12, color = 'black')\n",
    "ax2.text(69.12, 10.2, 'E0', fontsize = 12, color = 'black')\n",
    "\n",
    "ax2.legend()\n",
    "\n",
    "plt.show()"
   ]
  },
  {
   "cell_type": "markdown",
   "id": "5696b38d",
   "metadata": {},
   "source": [
    "* Dada la recta de demanda agregada (DA), se traza una recta de 45° que parte del origen. Esta recta se cruza con la recta de la DA y nos da un equilibrio E_0 que lo conforman el Y de equilibrio, Y_0, y el r de equilibrio, r_0. \n",
    "* Si se produce una reducción de la tasa de interés, r_1<r_0 se eleva el intercepto de la DA; disminuyendo a su vez la producción Y_1>Y_0; pasando así a un nuevo punto de equilibrio E_1.\n",
    "* Por lo tanto, el tramo de E_0 a E_1 se le conoce como la curva IS, la cual representa al equilibrio del mercado de bienes\n"
   ]
  },
  {
   "cell_type": "markdown",
   "id": "45847fea",
   "metadata": {},
   "source": [
    "<h1>b. La Curva IS o el equilibrio Ahorro- Inversión</h1>"
   ]
  },
  {
   "cell_type": "markdown",
   "id": "bc36246d",
   "metadata": {},
   "source": [
    "* **Derive la ecuación de IS a partir de la igualdad Ahorro-Inversión y grafique la curva IS de equilibrio en el Mercado de Bienes.**"
   ]
  },
  {
   "cell_type": "markdown",
   "id": "b4486b66",
   "metadata": {},
   "source": [
    "* Ahorro total (ahorro privado + ahorro del gobierno + ahorro externo) = Inversión (I)"
   ]
  },
  {
   "cell_type": "markdown",
   "id": "a17f7a5b",
   "metadata": {},
   "source": [
    "$$ S=I_0-h*r $$"
   ]
  },
  {
   "cell_type": "markdown",
   "id": "ccfb07d7",
   "metadata": {},
   "source": [
    "$$ S_p+S_g+S_e=I_0-h*r  $$"
   ]
  },
  {
   "cell_type": "markdown",
   "id": "14378bda",
   "metadata": {},
   "source": [
    "$$ (Y^d-C_0-b*Y^d )+(T-G_0 )+(m*Y^d-X_0 )=I_0-h*r $$"
   ]
  },
  {
   "cell_type": "markdown",
   "id": "541c9416",
   "metadata": {},
   "source": [
    "$$ Y^d*(1-b+m)+T-G_0-C_0-X_0=I_0-h*r $$"
   ]
  },
  {
   "cell_type": "markdown",
   "id": "c525f773",
   "metadata": {},
   "source": [
    "$$ Y^d=Y-T=(1-t)Y $$"
   ]
  },
  {
   "cell_type": "markdown",
   "id": "1bbb9c8b",
   "metadata": {},
   "source": [
    "$$ Y*(1-t)*(1-b+m)+t*Y-G_0-C_0-X_0=I_o-h*r $$"
   ]
  },
  {
   "cell_type": "markdown",
   "id": "b0faa5ee",
   "metadata": {},
   "source": [
    "$$ Y*(t+(1-t)*(1-b+m))-G_0-C_0-X_0-I_0=-h*r  $$"
   ]
  },
  {
   "cell_type": "markdown",
   "id": "bbf283ad",
   "metadata": {},
   "source": [
    "$$ Y*(t+(1-t)-(1-t)*b+(1-t)*m)-G_0-C_0-X_0-I_0=-h*r $$"
   ]
  },
  {
   "cell_type": "markdown",
   "id": "6f27cdbe",
   "metadata": {},
   "source": [
    "$$ Y*(1-(1-t)*(m-b))-G_0-C_0-X_0-I_0=-h*r $$"
   ]
  },
  {
   "cell_type": "markdown",
   "id": "6235f407",
   "metadata": {},
   "source": [
    "$$ G_0+C_0+X_0+I_0-Y*(1-(1-t)*(m-b))=h*r $$"
   ]
  },
  {
   "cell_type": "markdown",
   "id": "a74d9fba",
   "metadata": {},
   "source": [
    "$$ \\dfrac{(G_0+C_0+X_0+I_0)}{h}- \\dfrac{(1-(1-t)*(m-b))}{h}*Y=r $$"
   ]
  },
  {
   "cell_type": "code",
   "execution_count": 3,
   "id": "e4a1442d",
   "metadata": {},
   "outputs": [],
   "source": [
    "# Gráfico 3: Curva IS\n",
    "Y_size = 100 \n",
    "\n",
    "Co = 15\n",
    "Io = 18\n",
    "Go = 28\n",
    "Xo = 5\n",
    "h = 0.8\n",
    "b = 0.5\n",
    "m = 0.3\n",
    "t = 0.3\n",
    "\n",
    "Y = np.arange(Y_size)\n",
    "\n",
    "\n",
    "# Ecuación \n",
    "def r_IS(b, m, t, Co, Io, Go, Xo, h, Y):\n",
    "    r_IS = ((Co+Io+Go+Xo)/h-Y*((1-(1-t)*(b-m))/h))\n",
    "    return r_IS\n",
    "\n",
    "IS = r_IS(b, m, t, Co, Io, Go, Xo, h, Y)"
   ]
  },
  {
   "cell_type": "code",
   "execution_count": 4,
   "id": "bc51e7c9",
   "metadata": {},
   "outputs": [
    {
     "data": {
      "image/png": "[encoded data removed]",
      "text/plain": [
       "<Figure size 720x576 with 1 Axes>"
      ]
     },
     "metadata": {},
     "output_type": "display_data"
    }
   ],
   "source": [
    "# Gráfico 3: Curva IS\n",
    "   \n",
    "\n",
    "fig, ax = plt.subplots(figsize=(10, 8))\n",
    "ax.set(title=\"LA CURVA IS DE EQUILIBRIO EN EL MERCADO DE BIENES\", xlabel=r'Y', ylabel=r'r')\n",
    "\n",
    "ax.text(100, -20, '$IS$', fontsize = 12, color = 'black')\n",
    "\n",
    "ax.plot(IS, \"k-\")\n",
    "ax.yaxis.set_major_locator(plt.NullLocator())   \n",
    "ax.xaxis.set_major_locator(plt.NullLocator())                                     \n",
    "plt.show()\n",
    "\n",
    "\n"
   ]
  },
  {
   "cell_type": "markdown",
   "id": "7bf3a2a4",
   "metadata": {},
   "source": [
    "<h1>c. Desequilibrios en el mercado de bienes</h1>"
   ]
  },
  {
   "cell_type": "markdown",
   "id": "88887f97",
   "metadata": {},
   "source": [
    "* **Grafique las áreas de exceso de oferta o exceso de demanda en el mercado de bienes. Explique por qué estos puntos están fuera de los puntos de equilibrio en el mercado de bienes.**"
   ]
  },
  {
   "cell_type": "code",
   "execution_count": 5,
   "id": "943328b2",
   "metadata": {},
   "outputs": [],
   "source": [
    "# Gráfico 4: Curva IS\n",
    "Y_size = 100 \n",
    "\n",
    "Co = 15\n",
    "Io = 18\n",
    "Go = 28\n",
    "Xo = 5\n",
    "h = 0.8\n",
    "b = 0.5\n",
    "m = 0.3\n",
    "t = 0.3\n",
    "\n",
    "Y = np.arange(Y_size)\n",
    "\n",
    "\n",
    "# Ecuación \n",
    "def r_IS(b, m, t, Co, Io, Go, Xo, h, Y):\n",
    "    r_IS = ((Co+Io+Go+Xo)/h-Y*((1-(1-t)*(b-m))/h))\n",
    "    return r_IS\n",
    "\n",
    "IS = r_IS(b, m, t, Co, Io, Go, Xo, h, Y)"
   ]
  },
  {
   "cell_type": "code",
   "execution_count": 6,
   "id": "9605d5ff",
   "metadata": {},
   "outputs": [
    {
     "data": {
      "image/png": "[encoded data removed]",
      "text/plain": [
       "<Figure size 720x576 with 1 Axes>"
      ]
     },
     "metadata": {},
     "output_type": "display_data"
    }
   ],
   "source": [
    "# Gráfico 4: Curva IS\n",
    "   \n",
    "\n",
    "fig, ax = plt.subplots(figsize=(10, 8))\n",
    "ax.set(title=\"LA CURVA IS DE EQUILIBRIO EN EL MERCADO DE BIENES\", xlabel=r'Y', ylabel=r'r')\n",
    "\n",
    "ax.text(100, -20, '$IS$', fontsize = 12, color = 'black')\n",
    "ax.text(45, 34.13, '$A$', fontsize = 12, color = 'black')\n",
    "ax.text(15, 34.13, '$C$', fontsize = 12, color = 'black')\n",
    "ax.text(75, 34.13, '$B$', fontsize = 12, color = 'black')\n",
    "ax.text(-10, 34.13, '$r_A$', fontsize = 12, color = 'black')\n",
    "ax.text(18, 15, 'Exceso de Demanda', fontsize = 12, color = 'black')\n",
    "ax.text(55, 50, 'Exceso de Oferta', fontsize = 12, color = 'black')\n",
    "\n",
    "\n",
    "\n",
    "ax.axvline(x = 45, ymin= 0, ymax = 0.55, linestyle = \":\", color = \"grey\")\n",
    "ax.axvline(x = 75, ymin= 0, ymax = 0.55, linestyle = \":\", color = \"grey\")\n",
    "ax.axvline(x = 15, ymin= 0, ymax = 0.55, linestyle = \":\", color = \"grey\")\n",
    "plt.axhline(y = 34.13, xmin= 0, xmax = 0.75, linestyle = \":\", color = \"grey\")\n",
    "\n",
    "ax.plot(IS, \"k-\")\n",
    "ax.yaxis.set_major_locator(plt.NullLocator())   \n",
    "ax.xaxis.set_major_locator(plt.NullLocator())                                     \n",
    "plt.show()"
   ]
  },
  {
   "cell_type": "markdown",
   "id": "b09fd754",
   "metadata": {},
   "source": [
    "* Estos puntos están fuera de los puntos de equilibrio, ya que los puntos de equilibrio se encuentran dentro de la curva IS. Por lo que si existe un punto a la derecha de la curva IS este sería exceso de oferta y al lado izquierdo sería exceso de demanda."
   ]
  },
  {
   "cell_type": "markdown",
   "id": "10e8771e",
   "metadata": {},
   "source": [
    "<h1>d. Movimientos de la curva IS</h1>"
   ]
  },
  {
   "cell_type": "markdown",
   "id": "6dc1d7c9",
   "metadata": {},
   "source": [
    "$$ β_0=intercepto $$"
   ]
  },
  {
   "cell_type": "markdown",
   "id": "c9389d57",
   "metadata": {},
   "source": [
    "$$ β_1=pendiente $$"
   ]
  },
  {
   "cell_type": "markdown",
   "id": "d9c5b41c",
   "metadata": {},
   "source": [
    "* **Analice una Política Fiscal Contractiva con caída del Gasto del Gobierno (△G<0). El análisis debe ser intuitivo y gráfico.**\n"
   ]
  },
  {
   "cell_type": "code",
   "execution_count": 19,
   "id": "af7bc177",
   "metadata": {},
   "outputs": [],
   "source": [
    "# Gráfico 5: Curva IS\n",
    "Y_size = 100 \n",
    "\n",
    "Co = 15\n",
    "Io = 18\n",
    "Go = 28\n",
    "Xo = 5\n",
    "h = 0.8\n",
    "b = 0.5\n",
    "m = 0.3\n",
    "t = 0.3\n",
    "r = 8.2\n",
    "\n",
    "Y = np.arange(Y_size)\n",
    "\n",
    "# Ecuación de la curva del ingreso de equilibrio\n",
    "\n",
    "def IS_5(Co, Io, Go, Xo, h, r, b, m, t, Y):\n",
    "    IS_5= ((Co+Io+Go+Xo)/h-Y*((1-(1-t)*(b-m))/h))\n",
    "    return IS_5\n",
    "\n",
    "IS_G= IS_5(Co, Io, Go, Xo, h, r, b, m, t, Y)"
   ]
  },
  {
   "cell_type": "code",
   "execution_count": 20,
   "id": "e04e4c66",
   "metadata": {},
   "outputs": [],
   "source": [
    "# Gráfico 6: Curva IS\n",
    "\n",
    "Go=10\n",
    "\n",
    "def IS_6(Co, Io, Go, Xo, h, r, b, m, t, Y):\n",
    "    IS_6= ((Co+Io+Go+Xo)/h-Y*((1-(1-t)*(b-m))/h))\n",
    "    return IS_6\n",
    "\n",
    "IS_G2= IS_6(Co, Io, Go, Xo, h, r, b, m, t, Y)"
   ]
  },
  {
   "cell_type": "code",
   "execution_count": 21,
   "id": "daf630bb",
   "metadata": {},
   "outputs": [
    {
     "name": "stderr",
     "output_type": "stream",
     "text": [
      "C:\\Users\\danar\\AppData\\Local\\Temp\\ipykernel_20508\\1164320834.py:9: UserWarning: color is redundantly defined by the 'color' keyword argument and the fmt string \"k-\" (-> color='k'). The keyword argument will take precedence.\n",
      "  ax.plot(IS_G, \"k-\", color = 'blue',Label=\"IS\")\n"
     ]
    },
    {
     "ename": "AttributeError",
     "evalue": "'Line2D' object has no property 'Label'",
     "output_type": "error",
     "traceback": [
      "\u001b[1;31m---------------------------------------------------------------------------\u001b[0m",
      "\u001b[1;31mAttributeError\u001b[0m                            Traceback (most recent call last)",
      "Input \u001b[1;32mIn [21]\u001b[0m, in \u001b[0;36m<cell line: 9>\u001b[1;34m()\u001b[0m\n\u001b[0;32m      6\u001b[0m ax\u001b[38;5;241m.\u001b[39mtext(\u001b[38;5;241m100\u001b[39m, \u001b[38;5;241m-\u001b[39m\u001b[38;5;241m20\u001b[39m, \u001b[38;5;124m'\u001b[39m\u001b[38;5;124m$IS$\u001b[39m\u001b[38;5;124m'\u001b[39m, fontsize \u001b[38;5;241m=\u001b[39m \u001b[38;5;241m12\u001b[39m, color \u001b[38;5;241m=\u001b[39m \u001b[38;5;124m'\u001b[39m\u001b[38;5;124mblack\u001b[39m\u001b[38;5;124m'\u001b[39m)\n\u001b[0;32m      7\u001b[0m ax\u001b[38;5;241m.\u001b[39mtext(\u001b[38;5;241m100\u001b[39m, \u001b[38;5;241m-\u001b[39m\u001b[38;5;241m40\u001b[39m, \u001b[38;5;124m'\u001b[39m\u001b[38;5;124m$IS_1$\u001b[39m\u001b[38;5;124m'\u001b[39m, fontsize \u001b[38;5;241m=\u001b[39m \u001b[38;5;241m12\u001b[39m, color \u001b[38;5;241m=\u001b[39m \u001b[38;5;124m'\u001b[39m\u001b[38;5;124mblack\u001b[39m\u001b[38;5;124m'\u001b[39m)\n\u001b[1;32m----> 9\u001b[0m \u001b[43max\u001b[49m\u001b[38;5;241;43m.\u001b[39;49m\u001b[43mplot\u001b[49m\u001b[43m(\u001b[49m\u001b[43mIS_G\u001b[49m\u001b[43m,\u001b[49m\u001b[43m \u001b[49m\u001b[38;5;124;43m\"\u001b[39;49m\u001b[38;5;124;43mk-\u001b[39;49m\u001b[38;5;124;43m\"\u001b[39;49m\u001b[43m,\u001b[49m\u001b[43m \u001b[49m\u001b[43mcolor\u001b[49m\u001b[43m \u001b[49m\u001b[38;5;241;43m=\u001b[39;49m\u001b[43m \u001b[49m\u001b[38;5;124;43m'\u001b[39;49m\u001b[38;5;124;43mblue\u001b[39;49m\u001b[38;5;124;43m'\u001b[39;49m\u001b[43m,\u001b[49m\u001b[43mLabel\u001b[49m\u001b[38;5;241;43m=\u001b[39;49m\u001b[38;5;124;43m\"\u001b[39;49m\u001b[38;5;124;43mIS\u001b[39;49m\u001b[38;5;124;43m\"\u001b[39;49m\u001b[43m)\u001b[49m\n\u001b[0;32m     10\u001b[0m ax\u001b[38;5;241m.\u001b[39mplot(IS_G2, \u001b[38;5;124m\"\u001b[39m\u001b[38;5;124mb-\u001b[39m\u001b[38;5;124m\"\u001b[39m, color \u001b[38;5;241m=\u001b[39m \u001b[38;5;124m'\u001b[39m\u001b[38;5;124mred\u001b[39m\u001b[38;5;124m'\u001b[39m,linestyle\u001b[38;5;241m=\u001b[39m\u001b[38;5;124m'\u001b[39m\u001b[38;5;124m:\u001b[39m\u001b[38;5;124m'\u001b[39m,Label\u001b[38;5;241m=\u001b[39m\u001b[38;5;124m\"\u001b[39m\u001b[38;5;124mIS_1\u001b[39m\u001b[38;5;124m\"\u001b[39m)\n\u001b[0;32m     11\u001b[0m ax\u001b[38;5;241m.\u001b[39myaxis\u001b[38;5;241m.\u001b[39mset_major_locator(plt\u001b[38;5;241m.\u001b[39mNullLocator())   \u001b[38;5;66;03m# Hide ticks\u001b[39;00m\n",
      "File \u001b[1;32m~\\anaconda3\\lib\\site-packages\\matplotlib\\axes\\_axes.py:1632\u001b[0m, in \u001b[0;36mAxes.plot\u001b[1;34m(self, scalex, scaley, data, *args, **kwargs)\u001b[0m\n\u001b[0;32m   1390\u001b[0m \u001b[38;5;124;03m\"\"\"\u001b[39;00m\n\u001b[0;32m   1391\u001b[0m \u001b[38;5;124;03mPlot y versus x as lines and/or markers.\u001b[39;00m\n\u001b[0;32m   1392\u001b[0m \n\u001b[1;32m   (...)\u001b[0m\n\u001b[0;32m   1629\u001b[0m \u001b[38;5;124;03m(``'green'``) or hex strings (``'#008000'``).\u001b[39;00m\n\u001b[0;32m   1630\u001b[0m \u001b[38;5;124;03m\"\"\"\u001b[39;00m\n\u001b[0;32m   1631\u001b[0m kwargs \u001b[38;5;241m=\u001b[39m cbook\u001b[38;5;241m.\u001b[39mnormalize_kwargs(kwargs, mlines\u001b[38;5;241m.\u001b[39mLine2D)\n\u001b[1;32m-> 1632\u001b[0m lines \u001b[38;5;241m=\u001b[39m [\u001b[38;5;241m*\u001b[39m\u001b[38;5;28mself\u001b[39m\u001b[38;5;241m.\u001b[39m_get_lines(\u001b[38;5;241m*\u001b[39margs, data\u001b[38;5;241m=\u001b[39mdata, \u001b[38;5;241m*\u001b[39m\u001b[38;5;241m*\u001b[39mkwargs)]\n\u001b[0;32m   1633\u001b[0m \u001b[38;5;28;01mfor\u001b[39;00m line \u001b[38;5;129;01min\u001b[39;00m lines:\n\u001b[0;32m   1634\u001b[0m     \u001b[38;5;28mself\u001b[39m\u001b[38;5;241m.\u001b[39madd_line(line)\n",
      "File \u001b[1;32m~\\anaconda3\\lib\\site-packages\\matplotlib\\axes\\_base.py:312\u001b[0m, in \u001b[0;36m_process_plot_var_args.__call__\u001b[1;34m(self, data, *args, **kwargs)\u001b[0m\n\u001b[0;32m    310\u001b[0m     this \u001b[38;5;241m+\u001b[39m\u001b[38;5;241m=\u001b[39m args[\u001b[38;5;241m0\u001b[39m],\n\u001b[0;32m    311\u001b[0m     args \u001b[38;5;241m=\u001b[39m args[\u001b[38;5;241m1\u001b[39m:]\n\u001b[1;32m--> 312\u001b[0m \u001b[38;5;28;01myield from\u001b[39;00m \u001b[38;5;28;43mself\u001b[39;49m\u001b[38;5;241;43m.\u001b[39;49m\u001b[43m_plot_args\u001b[49m\u001b[43m(\u001b[49m\u001b[43mthis\u001b[49m\u001b[43m,\u001b[49m\u001b[43m \u001b[49m\u001b[43mkwargs\u001b[49m\u001b[43m)\u001b[49m\n",
      "File \u001b[1;32m~\\anaconda3\\lib\\site-packages\\matplotlib\\axes\\_base.py:538\u001b[0m, in \u001b[0;36m_process_plot_var_args._plot_args\u001b[1;34m(self, tup, kwargs, return_kwargs)\u001b[0m\n\u001b[0;32m    536\u001b[0m     \u001b[38;5;28;01mreturn\u001b[39;00m \u001b[38;5;28mlist\u001b[39m(result)\n\u001b[0;32m    537\u001b[0m \u001b[38;5;28;01melse\u001b[39;00m:\n\u001b[1;32m--> 538\u001b[0m     \u001b[38;5;28;01mreturn\u001b[39;00m [l[\u001b[38;5;241m0\u001b[39m] \u001b[38;5;28;01mfor\u001b[39;00m l \u001b[38;5;129;01min\u001b[39;00m result]\n",
      "File \u001b[1;32m~\\anaconda3\\lib\\site-packages\\matplotlib\\axes\\_base.py:538\u001b[0m, in \u001b[0;36m<listcomp>\u001b[1;34m(.0)\u001b[0m\n\u001b[0;32m    536\u001b[0m     \u001b[38;5;28;01mreturn\u001b[39;00m \u001b[38;5;28mlist\u001b[39m(result)\n\u001b[0;32m    537\u001b[0m \u001b[38;5;28;01melse\u001b[39;00m:\n\u001b[1;32m--> 538\u001b[0m     \u001b[38;5;28;01mreturn\u001b[39;00m [l[\u001b[38;5;241m0\u001b[39m] \u001b[38;5;28;01mfor\u001b[39;00m l \u001b[38;5;129;01min\u001b[39;00m result]\n",
      "File \u001b[1;32m~\\anaconda3\\lib\\site-packages\\matplotlib\\axes\\_base.py:531\u001b[0m, in \u001b[0;36m<genexpr>\u001b[1;34m(.0)\u001b[0m\n\u001b[0;32m    528\u001b[0m \u001b[38;5;28;01melse\u001b[39;00m:\n\u001b[0;32m    529\u001b[0m     labels \u001b[38;5;241m=\u001b[39m [label] \u001b[38;5;241m*\u001b[39m n_datasets\n\u001b[1;32m--> 531\u001b[0m result \u001b[38;5;241m=\u001b[39m (\u001b[43mmake_artist\u001b[49m\u001b[43m(\u001b[49m\u001b[43mx\u001b[49m\u001b[43m[\u001b[49m\u001b[43m:\u001b[49m\u001b[43m,\u001b[49m\u001b[43m \u001b[49m\u001b[43mj\u001b[49m\u001b[43m \u001b[49m\u001b[38;5;241;43m%\u001b[39;49m\u001b[43m \u001b[49m\u001b[43mncx\u001b[49m\u001b[43m]\u001b[49m\u001b[43m,\u001b[49m\u001b[43m \u001b[49m\u001b[43my\u001b[49m\u001b[43m[\u001b[49m\u001b[43m:\u001b[49m\u001b[43m,\u001b[49m\u001b[43m \u001b[49m\u001b[43mj\u001b[49m\u001b[43m \u001b[49m\u001b[38;5;241;43m%\u001b[39;49m\u001b[43m \u001b[49m\u001b[43mncy\u001b[49m\u001b[43m]\u001b[49m\u001b[43m,\u001b[49m\u001b[43m \u001b[49m\u001b[43mkw\u001b[49m\u001b[43m,\u001b[49m\n\u001b[0;32m    532\u001b[0m \u001b[43m                      \u001b[49m\u001b[43m{\u001b[49m\u001b[38;5;241;43m*\u001b[39;49m\u001b[38;5;241;43m*\u001b[39;49m\u001b[43mkwargs\u001b[49m\u001b[43m,\u001b[49m\u001b[43m \u001b[49m\u001b[38;5;124;43m'\u001b[39;49m\u001b[38;5;124;43mlabel\u001b[39;49m\u001b[38;5;124;43m'\u001b[39;49m\u001b[43m:\u001b[49m\u001b[43m \u001b[49m\u001b[43mlabel\u001b[49m\u001b[43m}\u001b[49m\u001b[43m)\u001b[49m\n\u001b[0;32m    533\u001b[0m           \u001b[38;5;28;01mfor\u001b[39;00m j, label \u001b[38;5;129;01min\u001b[39;00m \u001b[38;5;28menumerate\u001b[39m(labels))\n\u001b[0;32m    535\u001b[0m \u001b[38;5;28;01mif\u001b[39;00m return_kwargs:\n\u001b[0;32m    536\u001b[0m     \u001b[38;5;28;01mreturn\u001b[39;00m \u001b[38;5;28mlist\u001b[39m(result)\n",
      "File \u001b[1;32m~\\anaconda3\\lib\\site-packages\\matplotlib\\axes\\_base.py:351\u001b[0m, in \u001b[0;36m_process_plot_var_args._makeline\u001b[1;34m(self, x, y, kw, kwargs)\u001b[0m\n\u001b[0;32m    349\u001b[0m default_dict \u001b[38;5;241m=\u001b[39m \u001b[38;5;28mself\u001b[39m\u001b[38;5;241m.\u001b[39m_getdefaults(\u001b[38;5;28mset\u001b[39m(), kw)\n\u001b[0;32m    350\u001b[0m \u001b[38;5;28mself\u001b[39m\u001b[38;5;241m.\u001b[39m_setdefaults(default_dict, kw)\n\u001b[1;32m--> 351\u001b[0m seg \u001b[38;5;241m=\u001b[39m mlines\u001b[38;5;241m.\u001b[39mLine2D(x, y, \u001b[38;5;241m*\u001b[39m\u001b[38;5;241m*\u001b[39mkw)\n\u001b[0;32m    352\u001b[0m \u001b[38;5;28;01mreturn\u001b[39;00m seg, kw\n",
      "File \u001b[1;32m~\\anaconda3\\lib\\site-packages\\matplotlib\\lines.py:393\u001b[0m, in \u001b[0;36mLine2D.__init__\u001b[1;34m(self, xdata, ydata, linewidth, linestyle, color, marker, markersize, markeredgewidth, markeredgecolor, markerfacecolor, markerfacecoloralt, fillstyle, antialiased, dash_capstyle, solid_capstyle, dash_joinstyle, solid_joinstyle, pickradius, drawstyle, markevery, **kwargs)\u001b[0m\n\u001b[0;32m    389\u001b[0m \u001b[38;5;28mself\u001b[39m\u001b[38;5;241m.\u001b[39mset_markeredgewidth(markeredgewidth)\n\u001b[0;32m    391\u001b[0m \u001b[38;5;66;03m# update kwargs before updating data to give the caller a\u001b[39;00m\n\u001b[0;32m    392\u001b[0m \u001b[38;5;66;03m# chance to init axes (and hence unit support)\u001b[39;00m\n\u001b[1;32m--> 393\u001b[0m \u001b[38;5;28;43mself\u001b[39;49m\u001b[38;5;241;43m.\u001b[39;49m\u001b[43mupdate\u001b[49m\u001b[43m(\u001b[49m\u001b[43mkwargs\u001b[49m\u001b[43m)\u001b[49m\n\u001b[0;32m    394\u001b[0m \u001b[38;5;28mself\u001b[39m\u001b[38;5;241m.\u001b[39mpickradius \u001b[38;5;241m=\u001b[39m pickradius\n\u001b[0;32m    395\u001b[0m \u001b[38;5;28mself\u001b[39m\u001b[38;5;241m.\u001b[39mind_offset \u001b[38;5;241m=\u001b[39m \u001b[38;5;241m0\u001b[39m\n",
      "File \u001b[1;32m~\\anaconda3\\lib\\site-packages\\matplotlib\\artist.py:1064\u001b[0m, in \u001b[0;36mArtist.update\u001b[1;34m(self, props)\u001b[0m\n\u001b[0;32m   1062\u001b[0m             func \u001b[38;5;241m=\u001b[39m \u001b[38;5;28mgetattr\u001b[39m(\u001b[38;5;28mself\u001b[39m, \u001b[38;5;124mf\u001b[39m\u001b[38;5;124m\"\u001b[39m\u001b[38;5;124mset_\u001b[39m\u001b[38;5;132;01m{\u001b[39;00mk\u001b[38;5;132;01m}\u001b[39;00m\u001b[38;5;124m\"\u001b[39m, \u001b[38;5;28;01mNone\u001b[39;00m)\n\u001b[0;32m   1063\u001b[0m             \u001b[38;5;28;01mif\u001b[39;00m \u001b[38;5;129;01mnot\u001b[39;00m callable(func):\n\u001b[1;32m-> 1064\u001b[0m                 \u001b[38;5;28;01mraise\u001b[39;00m \u001b[38;5;167;01mAttributeError\u001b[39;00m(\u001b[38;5;124mf\u001b[39m\u001b[38;5;124m\"\u001b[39m\u001b[38;5;132;01m{\u001b[39;00m\u001b[38;5;28mtype\u001b[39m(\u001b[38;5;28mself\u001b[39m)\u001b[38;5;241m.\u001b[39m\u001b[38;5;18m__name__\u001b[39m\u001b[38;5;132;01m!r}\u001b[39;00m\u001b[38;5;124m object \u001b[39m\u001b[38;5;124m\"\u001b[39m\n\u001b[0;32m   1065\u001b[0m                                      \u001b[38;5;124mf\u001b[39m\u001b[38;5;124m\"\u001b[39m\u001b[38;5;124mhas no property \u001b[39m\u001b[38;5;132;01m{\u001b[39;00mk\u001b[38;5;132;01m!r}\u001b[39;00m\u001b[38;5;124m\"\u001b[39m)\n\u001b[0;32m   1066\u001b[0m             ret\u001b[38;5;241m.\u001b[39mappend(func(v))\n\u001b[0;32m   1067\u001b[0m \u001b[38;5;28;01mif\u001b[39;00m ret:\n",
      "\u001b[1;31mAttributeError\u001b[0m: 'Line2D' object has no property 'Label'"
     ]
    },
    {
     "data": {
      "image/png": "[encoded data removed]",
      "text/plain": [
       "<Figure size 720x576 with 1 Axes>"
      ]
     },
     "metadata": {
      "needs_background": "light"
     },
     "output_type": "display_data"
    }
   ],
   "source": [
    "\n",
    "fig, ax = plt.subplots(figsize=(10, 8))\n",
    "ax.set(title=\"EFECTOS DEL AUMENTO DEL GASTO DE GOBIERNO\", xlabel=r'Y', ylabel=r'r')\n",
    "\n",
    "ax.plot(IS_G, label = \"IS\", color = \"C0\") \n",
    "ax.plot(IS_G2, label = \"IS_1\", linestyle=':', color = \"C3\") \n",
    "ax.text(100, -20, '$IS$', fontsize = 12, color = 'black')\n",
    "ax.text(100, -40, '$IS_1$', fontsize = 12, color = 'black')\n",
    "\n",
    "ax.plot(IS_G, \"k-\", color = 'blue',Label=\"IS\")\n",
    "ax.plot(IS_G2, \"b-\", color = 'red',linestyle=':',Label=\"IS_1\")\n",
    "ax.yaxis.set_major_locator(plt.NullLocator())   # Hide ticks\n",
    "ax.xaxis.set_major_locator(plt.NullLocator())   # Hide ticks\n",
    "       \n",
    "plt.legend()        \n",
    "plt.show()"
   ]
  },
  {
   "cell_type": "markdown",
   "id": "5528770f",
   "metadata": {},
   "source": [
    "$$ G↓→β_0↓ $$"
   ]
  },
  {
   "cell_type": "markdown",
   "id": "d90825e1",
   "metadata": {},
   "source": [
    "$$ \tG↓→DA↓→DA<Y→Y↓ $$"
   ]
  },
  {
   "cell_type": "markdown",
   "id": "a9af48ac",
   "metadata": {},
   "source": [
    "* De forma intuitiva, se obtiene:\n",
    "* La caída del Gasto del Gobierno, disminuye la demanda agregada de bienes \n",
    "* generando así un déficit de demanda que da lugar a un desplazamiento de la curva IS hacia la izquierda.\n",
    "\n"
   ]
  },
  {
   "cell_type": "markdown",
   "id": "9ba939b4",
   "metadata": {},
   "source": [
    "* **Analice una Política Fiscal Expansiva con una caída de la Tasa de Impuestos (△t<0). El análisis debe ser intuitivo y gráfico.**\n"
   ]
  },
  {
   "cell_type": "code",
   "execution_count": 28,
   "id": "a3e3ddf3",
   "metadata": {},
   "outputs": [],
   "source": [
    "# Gráfico 7: Curva IS\n",
    "Y_size = 100 \n",
    "\n",
    "Co = 15\n",
    "Io = 18\n",
    "Go = 28\n",
    "Xo = 5\n",
    "h = 0.8\n",
    "b = 0.5\n",
    "m = 0.3\n",
    "t = 0.7\n",
    "r = 8.2\n",
    "\n",
    "Y = np.arange(Y_size)\n",
    "\n",
    "# Ecuación de la curva del ingreso de equilibrio\n",
    "\n",
    "def IS_7(Co, Io, Go, Xo, h, r, b, m, t, Y):\n",
    "    IS_7= ((Co+Io+Go+Xo)/h-Y*((1-(1-t)*(b-m))/h))\n",
    "    return IS_7\n",
    "\n",
    "IS_t= IS_7(Co, Io, Go, Xo, h, r, b, m, t, Y)"
   ]
  },
  {
   "cell_type": "code",
   "execution_count": 23,
   "id": "c20b650c",
   "metadata": {},
   "outputs": [],
   "source": [
    "# Gráfico 8: Curva IS\n",
    "\n",
    "t = 0.07\n",
    "\n",
    "def IS_8(Co, Io, Go, Xo, h, r, b, m, t, Y):\n",
    "    IS_8= ((Co+Io+Go+Xo)/h-Y*((1-(1-t)*(b-m))/h))\n",
    "    return IS_8\n",
    "\n",
    "IS_t2= IS_8(Co, Io, Go, Xo, h, r, b, m, t, Y)"
   ]
  },
  {
   "cell_type": "code",
   "execution_count": 24,
   "id": "9b0879da",
   "metadata": {},
   "outputs": [
    {
     "name": "stderr",
     "output_type": "stream",
     "text": [
      "C:\\Users\\danar\\AppData\\Local\\Temp\\ipykernel_20508\\2688485635.py:9: UserWarning: color is redundantly defined by the 'color' keyword argument and the fmt string \"k-\" (-> color='k'). The keyword argument will take precedence.\n",
      "  ax.plot(IS_t, \"k-\", color = 'blue',Label=\"IS\")\n"
     ]
    },
    {
     "ename": "AttributeError",
     "evalue": "'Line2D' object has no property 'Label'",
     "output_type": "error",
     "traceback": [
      "\u001b[1;31m---------------------------------------------------------------------------\u001b[0m",
      "\u001b[1;31mAttributeError\u001b[0m                            Traceback (most recent call last)",
      "Input \u001b[1;32mIn [24]\u001b[0m, in \u001b[0;36m<cell line: 9>\u001b[1;34m()\u001b[0m\n\u001b[0;32m      6\u001b[0m ax\u001b[38;5;241m.\u001b[39mtext(\u001b[38;5;241m100\u001b[39m, \u001b[38;5;241m-\u001b[39m\u001b[38;5;241m35\u001b[39m, \u001b[38;5;124m'\u001b[39m\u001b[38;5;124m$IS$\u001b[39m\u001b[38;5;124m'\u001b[39m, fontsize \u001b[38;5;241m=\u001b[39m \u001b[38;5;241m12\u001b[39m, color \u001b[38;5;241m=\u001b[39m \u001b[38;5;124m'\u001b[39m\u001b[38;5;124mblack\u001b[39m\u001b[38;5;124m'\u001b[39m)\n\u001b[0;32m      7\u001b[0m ax\u001b[38;5;241m.\u001b[39mtext(\u001b[38;5;241m100\u001b[39m, \u001b[38;5;241m-\u001b[39m\u001b[38;5;241m20\u001b[39m, \u001b[38;5;124m'\u001b[39m\u001b[38;5;124m$IS_1$\u001b[39m\u001b[38;5;124m'\u001b[39m, fontsize \u001b[38;5;241m=\u001b[39m \u001b[38;5;241m12\u001b[39m, color \u001b[38;5;241m=\u001b[39m \u001b[38;5;124m'\u001b[39m\u001b[38;5;124mblack\u001b[39m\u001b[38;5;124m'\u001b[39m)\n\u001b[1;32m----> 9\u001b[0m \u001b[43max\u001b[49m\u001b[38;5;241;43m.\u001b[39;49m\u001b[43mplot\u001b[49m\u001b[43m(\u001b[49m\u001b[43mIS_t\u001b[49m\u001b[43m,\u001b[49m\u001b[43m \u001b[49m\u001b[38;5;124;43m\"\u001b[39;49m\u001b[38;5;124;43mk-\u001b[39;49m\u001b[38;5;124;43m\"\u001b[39;49m\u001b[43m,\u001b[49m\u001b[43m \u001b[49m\u001b[43mcolor\u001b[49m\u001b[43m \u001b[49m\u001b[38;5;241;43m=\u001b[39;49m\u001b[43m \u001b[49m\u001b[38;5;124;43m'\u001b[39;49m\u001b[38;5;124;43mblue\u001b[39;49m\u001b[38;5;124;43m'\u001b[39;49m\u001b[43m,\u001b[49m\u001b[43mLabel\u001b[49m\u001b[38;5;241;43m=\u001b[39;49m\u001b[38;5;124;43m\"\u001b[39;49m\u001b[38;5;124;43mIS\u001b[39;49m\u001b[38;5;124;43m\"\u001b[39;49m\u001b[43m)\u001b[49m\n\u001b[0;32m     10\u001b[0m ax\u001b[38;5;241m.\u001b[39mplot(IS_t2, \u001b[38;5;124m\"\u001b[39m\u001b[38;5;124mb-\u001b[39m\u001b[38;5;124m\"\u001b[39m, color \u001b[38;5;241m=\u001b[39m \u001b[38;5;124m'\u001b[39m\u001b[38;5;124mred\u001b[39m\u001b[38;5;124m'\u001b[39m,linestyle\u001b[38;5;241m=\u001b[39m\u001b[38;5;124m'\u001b[39m\u001b[38;5;124m:\u001b[39m\u001b[38;5;124m'\u001b[39m,Label\u001b[38;5;241m=\u001b[39m\u001b[38;5;124m\"\u001b[39m\u001b[38;5;124mIS_1\u001b[39m\u001b[38;5;124m\"\u001b[39m)\n\u001b[0;32m     11\u001b[0m ax\u001b[38;5;241m.\u001b[39myaxis\u001b[38;5;241m.\u001b[39mset_major_locator(plt\u001b[38;5;241m.\u001b[39mNullLocator())   \u001b[38;5;66;03m# Hide ticks\u001b[39;00m\n",
      "File \u001b[1;32m~\\anaconda3\\lib\\site-packages\\matplotlib\\axes\\_axes.py:1632\u001b[0m, in \u001b[0;36mAxes.plot\u001b[1;34m(self, scalex, scaley, data, *args, **kwargs)\u001b[0m\n\u001b[0;32m   1390\u001b[0m \u001b[38;5;124;03m\"\"\"\u001b[39;00m\n\u001b[0;32m   1391\u001b[0m \u001b[38;5;124;03mPlot y versus x as lines and/or markers.\u001b[39;00m\n\u001b[0;32m   1392\u001b[0m \n\u001b[1;32m   (...)\u001b[0m\n\u001b[0;32m   1629\u001b[0m \u001b[38;5;124;03m(``'green'``) or hex strings (``'#008000'``).\u001b[39;00m\n\u001b[0;32m   1630\u001b[0m \u001b[38;5;124;03m\"\"\"\u001b[39;00m\n\u001b[0;32m   1631\u001b[0m kwargs \u001b[38;5;241m=\u001b[39m cbook\u001b[38;5;241m.\u001b[39mnormalize_kwargs(kwargs, mlines\u001b[38;5;241m.\u001b[39mLine2D)\n\u001b[1;32m-> 1632\u001b[0m lines \u001b[38;5;241m=\u001b[39m [\u001b[38;5;241m*\u001b[39m\u001b[38;5;28mself\u001b[39m\u001b[38;5;241m.\u001b[39m_get_lines(\u001b[38;5;241m*\u001b[39margs, data\u001b[38;5;241m=\u001b[39mdata, \u001b[38;5;241m*\u001b[39m\u001b[38;5;241m*\u001b[39mkwargs)]\n\u001b[0;32m   1633\u001b[0m \u001b[38;5;28;01mfor\u001b[39;00m line \u001b[38;5;129;01min\u001b[39;00m lines:\n\u001b[0;32m   1634\u001b[0m     \u001b[38;5;28mself\u001b[39m\u001b[38;5;241m.\u001b[39madd_line(line)\n",
      "File \u001b[1;32m~\\anaconda3\\lib\\site-packages\\matplotlib\\axes\\_base.py:312\u001b[0m, in \u001b[0;36m_process_plot_var_args.__call__\u001b[1;34m(self, data, *args, **kwargs)\u001b[0m\n\u001b[0;32m    310\u001b[0m     this \u001b[38;5;241m+\u001b[39m\u001b[38;5;241m=\u001b[39m args[\u001b[38;5;241m0\u001b[39m],\n\u001b[0;32m    311\u001b[0m     args \u001b[38;5;241m=\u001b[39m args[\u001b[38;5;241m1\u001b[39m:]\n\u001b[1;32m--> 312\u001b[0m \u001b[38;5;28;01myield from\u001b[39;00m \u001b[38;5;28;43mself\u001b[39;49m\u001b[38;5;241;43m.\u001b[39;49m\u001b[43m_plot_args\u001b[49m\u001b[43m(\u001b[49m\u001b[43mthis\u001b[49m\u001b[43m,\u001b[49m\u001b[43m \u001b[49m\u001b[43mkwargs\u001b[49m\u001b[43m)\u001b[49m\n",
      "File \u001b[1;32m~\\anaconda3\\lib\\site-packages\\matplotlib\\axes\\_base.py:538\u001b[0m, in \u001b[0;36m_process_plot_var_args._plot_args\u001b[1;34m(self, tup, kwargs, return_kwargs)\u001b[0m\n\u001b[0;32m    536\u001b[0m     \u001b[38;5;28;01mreturn\u001b[39;00m \u001b[38;5;28mlist\u001b[39m(result)\n\u001b[0;32m    537\u001b[0m \u001b[38;5;28;01melse\u001b[39;00m:\n\u001b[1;32m--> 538\u001b[0m     \u001b[38;5;28;01mreturn\u001b[39;00m [l[\u001b[38;5;241m0\u001b[39m] \u001b[38;5;28;01mfor\u001b[39;00m l \u001b[38;5;129;01min\u001b[39;00m result]\n",
      "File \u001b[1;32m~\\anaconda3\\lib\\site-packages\\matplotlib\\axes\\_base.py:538\u001b[0m, in \u001b[0;36m<listcomp>\u001b[1;34m(.0)\u001b[0m\n\u001b[0;32m    536\u001b[0m     \u001b[38;5;28;01mreturn\u001b[39;00m \u001b[38;5;28mlist\u001b[39m(result)\n\u001b[0;32m    537\u001b[0m \u001b[38;5;28;01melse\u001b[39;00m:\n\u001b[1;32m--> 538\u001b[0m     \u001b[38;5;28;01mreturn\u001b[39;00m [l[\u001b[38;5;241m0\u001b[39m] \u001b[38;5;28;01mfor\u001b[39;00m l \u001b[38;5;129;01min\u001b[39;00m result]\n",
      "File \u001b[1;32m~\\anaconda3\\lib\\site-packages\\matplotlib\\axes\\_base.py:531\u001b[0m, in \u001b[0;36m<genexpr>\u001b[1;34m(.0)\u001b[0m\n\u001b[0;32m    528\u001b[0m \u001b[38;5;28;01melse\u001b[39;00m:\n\u001b[0;32m    529\u001b[0m     labels \u001b[38;5;241m=\u001b[39m [label] \u001b[38;5;241m*\u001b[39m n_datasets\n\u001b[1;32m--> 531\u001b[0m result \u001b[38;5;241m=\u001b[39m (\u001b[43mmake_artist\u001b[49m\u001b[43m(\u001b[49m\u001b[43mx\u001b[49m\u001b[43m[\u001b[49m\u001b[43m:\u001b[49m\u001b[43m,\u001b[49m\u001b[43m \u001b[49m\u001b[43mj\u001b[49m\u001b[43m \u001b[49m\u001b[38;5;241;43m%\u001b[39;49m\u001b[43m \u001b[49m\u001b[43mncx\u001b[49m\u001b[43m]\u001b[49m\u001b[43m,\u001b[49m\u001b[43m \u001b[49m\u001b[43my\u001b[49m\u001b[43m[\u001b[49m\u001b[43m:\u001b[49m\u001b[43m,\u001b[49m\u001b[43m \u001b[49m\u001b[43mj\u001b[49m\u001b[43m \u001b[49m\u001b[38;5;241;43m%\u001b[39;49m\u001b[43m \u001b[49m\u001b[43mncy\u001b[49m\u001b[43m]\u001b[49m\u001b[43m,\u001b[49m\u001b[43m \u001b[49m\u001b[43mkw\u001b[49m\u001b[43m,\u001b[49m\n\u001b[0;32m    532\u001b[0m \u001b[43m                      \u001b[49m\u001b[43m{\u001b[49m\u001b[38;5;241;43m*\u001b[39;49m\u001b[38;5;241;43m*\u001b[39;49m\u001b[43mkwargs\u001b[49m\u001b[43m,\u001b[49m\u001b[43m \u001b[49m\u001b[38;5;124;43m'\u001b[39;49m\u001b[38;5;124;43mlabel\u001b[39;49m\u001b[38;5;124;43m'\u001b[39;49m\u001b[43m:\u001b[49m\u001b[43m \u001b[49m\u001b[43mlabel\u001b[49m\u001b[43m}\u001b[49m\u001b[43m)\u001b[49m\n\u001b[0;32m    533\u001b[0m           \u001b[38;5;28;01mfor\u001b[39;00m j, label \u001b[38;5;129;01min\u001b[39;00m \u001b[38;5;28menumerate\u001b[39m(labels))\n\u001b[0;32m    535\u001b[0m \u001b[38;5;28;01mif\u001b[39;00m return_kwargs:\n\u001b[0;32m    536\u001b[0m     \u001b[38;5;28;01mreturn\u001b[39;00m \u001b[38;5;28mlist\u001b[39m(result)\n",
      "File \u001b[1;32m~\\anaconda3\\lib\\site-packages\\matplotlib\\axes\\_base.py:351\u001b[0m, in \u001b[0;36m_process_plot_var_args._makeline\u001b[1;34m(self, x, y, kw, kwargs)\u001b[0m\n\u001b[0;32m    349\u001b[0m default_dict \u001b[38;5;241m=\u001b[39m \u001b[38;5;28mself\u001b[39m\u001b[38;5;241m.\u001b[39m_getdefaults(\u001b[38;5;28mset\u001b[39m(), kw)\n\u001b[0;32m    350\u001b[0m \u001b[38;5;28mself\u001b[39m\u001b[38;5;241m.\u001b[39m_setdefaults(default_dict, kw)\n\u001b[1;32m--> 351\u001b[0m seg \u001b[38;5;241m=\u001b[39m mlines\u001b[38;5;241m.\u001b[39mLine2D(x, y, \u001b[38;5;241m*\u001b[39m\u001b[38;5;241m*\u001b[39mkw)\n\u001b[0;32m    352\u001b[0m \u001b[38;5;28;01mreturn\u001b[39;00m seg, kw\n",
      "File \u001b[1;32m~\\anaconda3\\lib\\site-packages\\matplotlib\\lines.py:393\u001b[0m, in \u001b[0;36mLine2D.__init__\u001b[1;34m(self, xdata, ydata, linewidth, linestyle, color, marker, markersize, markeredgewidth, markeredgecolor, markerfacecolor, markerfacecoloralt, fillstyle, antialiased, dash_capstyle, solid_capstyle, dash_joinstyle, solid_joinstyle, pickradius, drawstyle, markevery, **kwargs)\u001b[0m\n\u001b[0;32m    389\u001b[0m \u001b[38;5;28mself\u001b[39m\u001b[38;5;241m.\u001b[39mset_markeredgewidth(markeredgewidth)\n\u001b[0;32m    391\u001b[0m \u001b[38;5;66;03m# update kwargs before updating data to give the caller a\u001b[39;00m\n\u001b[0;32m    392\u001b[0m \u001b[38;5;66;03m# chance to init axes (and hence unit support)\u001b[39;00m\n\u001b[1;32m--> 393\u001b[0m \u001b[38;5;28;43mself\u001b[39;49m\u001b[38;5;241;43m.\u001b[39;49m\u001b[43mupdate\u001b[49m\u001b[43m(\u001b[49m\u001b[43mkwargs\u001b[49m\u001b[43m)\u001b[49m\n\u001b[0;32m    394\u001b[0m \u001b[38;5;28mself\u001b[39m\u001b[38;5;241m.\u001b[39mpickradius \u001b[38;5;241m=\u001b[39m pickradius\n\u001b[0;32m    395\u001b[0m \u001b[38;5;28mself\u001b[39m\u001b[38;5;241m.\u001b[39mind_offset \u001b[38;5;241m=\u001b[39m \u001b[38;5;241m0\u001b[39m\n",
      "File \u001b[1;32m~\\anaconda3\\lib\\site-packages\\matplotlib\\artist.py:1064\u001b[0m, in \u001b[0;36mArtist.update\u001b[1;34m(self, props)\u001b[0m\n\u001b[0;32m   1062\u001b[0m             func \u001b[38;5;241m=\u001b[39m \u001b[38;5;28mgetattr\u001b[39m(\u001b[38;5;28mself\u001b[39m, \u001b[38;5;124mf\u001b[39m\u001b[38;5;124m\"\u001b[39m\u001b[38;5;124mset_\u001b[39m\u001b[38;5;132;01m{\u001b[39;00mk\u001b[38;5;132;01m}\u001b[39;00m\u001b[38;5;124m\"\u001b[39m, \u001b[38;5;28;01mNone\u001b[39;00m)\n\u001b[0;32m   1063\u001b[0m             \u001b[38;5;28;01mif\u001b[39;00m \u001b[38;5;129;01mnot\u001b[39;00m callable(func):\n\u001b[1;32m-> 1064\u001b[0m                 \u001b[38;5;28;01mraise\u001b[39;00m \u001b[38;5;167;01mAttributeError\u001b[39;00m(\u001b[38;5;124mf\u001b[39m\u001b[38;5;124m\"\u001b[39m\u001b[38;5;132;01m{\u001b[39;00m\u001b[38;5;28mtype\u001b[39m(\u001b[38;5;28mself\u001b[39m)\u001b[38;5;241m.\u001b[39m\u001b[38;5;18m__name__\u001b[39m\u001b[38;5;132;01m!r}\u001b[39;00m\u001b[38;5;124m object \u001b[39m\u001b[38;5;124m\"\u001b[39m\n\u001b[0;32m   1065\u001b[0m                                      \u001b[38;5;124mf\u001b[39m\u001b[38;5;124m\"\u001b[39m\u001b[38;5;124mhas no property \u001b[39m\u001b[38;5;132;01m{\u001b[39;00mk\u001b[38;5;132;01m!r}\u001b[39;00m\u001b[38;5;124m\"\u001b[39m)\n\u001b[0;32m   1066\u001b[0m             ret\u001b[38;5;241m.\u001b[39mappend(func(v))\n\u001b[0;32m   1067\u001b[0m \u001b[38;5;28;01mif\u001b[39;00m ret:\n",
      "\u001b[1;31mAttributeError\u001b[0m: 'Line2D' object has no property 'Label'"
     ]
    },
    {
     "data": {
      "image/png": "[encoded data removed]",
      "text/plain": [
       "<Figure size 720x576 with 1 Axes>"
      ]
     },
     "metadata": {
      "needs_background": "light"
     },
     "output_type": "display_data"
    }
   ],
   "source": [
    "fig, ax = plt.subplots(figsize=(10, 8))\n",
    "ax.set(title=\"EFECTOS DE UN AUMENTO EN LA TASA DE IMPUESTOS\", xlabel=r'Y', ylabel=r'r')\n",
    "\n",
    "ax.plot(IS_t, label = \"IS\", color = \"C0\") \n",
    "ax.plot(IS_t2, label = \"IS_1\", linestyle=':', color = \"C3\") \n",
    "ax.text(100, -35, '$IS$', fontsize = 12, color = 'black')\n",
    "ax.text(100, -20, '$IS_1$', fontsize = 12, color = 'black')\n",
    "\n",
    "ax.plot(IS_t, \"k-\", color = 'blue',Label=\"IS\")\n",
    "ax.plot(IS_t2, \"b-\", color = 'red',linestyle=':',Label=\"IS_1\")\n",
    "ax.yaxis.set_major_locator(plt.NullLocator())   # Hide ticks\n",
    "ax.xaxis.set_major_locator(plt.NullLocator())   # Hide ticks\n",
    "       \n",
    "plt.legend()        \n",
    "plt.show()"
   ]
  },
  {
   "cell_type": "markdown",
   "id": "2e3e76e0",
   "metadata": {},
   "source": [
    "\n",
    "\n",
    "$$ \tt↓→β_1↑ $$\n",
    "\n",
    "$$ t↓→(1-t)*Y↑→Y^d↑→C↑→DA↑→DA>Y→Y↑ $$ "
   ]
  },
  {
   "cell_type": "markdown",
   "id": "0ba3dd52",
   "metadata": {},
   "source": [
    "\n",
    "* De forma intuitiva, se obtiene:\n",
    "\n",
    "* Los cambios en los parámetros “b”, “m” y “t” modifican la pendiente de la curva IS. Si se adopta una política fiscal restrictiva disminuyendo la tasa de tributación, la pendiente de la IS disminuye, provocando un movimiento en el sentido opuesto al de las agujas del reloj.\n",
    "\n"
   ]
  },
  {
   "cell_type": "markdown",
   "id": "a23fd60a",
   "metadata": {},
   "source": [
    "* **Analice una caída de la Propensión Marginal a Consumir (△b<0). El análisis debe ser intuitivo y gráfico.**"
   ]
  },
  {
   "cell_type": "code",
   "execution_count": 25,
   "id": "14c526d2",
   "metadata": {},
   "outputs": [],
   "source": [
    "# Gráfico 9: Curva IS\n",
    "Y_size = 100 \n",
    "\n",
    "Co = 15\n",
    "Io = 18\n",
    "Go = 28\n",
    "Xo = 5\n",
    "h = 0.8\n",
    "b = 0.5\n",
    "m = 0.3\n",
    "t = 0.3\n",
    "r = 8.2\n",
    "\n",
    "Y = np.arange(Y_size)\n",
    "\n",
    "# Ecuación de la curva del ingreso de equilibrio\n",
    "\n",
    "def IS_9(Co, Io, Go, Xo, h, r, b, m, t, Y):\n",
    "    IS_9= ((Co+Io+Go+Xo)/h-Y*((1-(1-t)*(b-m))/h))\n",
    "    return IS_9\n",
    "\n",
    "IS_b= IS_9(Co, Io, Go, Xo, h, r, b, m, t, Y)"
   ]
  },
  {
   "cell_type": "code",
   "execution_count": 26,
   "id": "cfe46ff2",
   "metadata": {},
   "outputs": [],
   "source": [
    "# Gráfico 10: Curva IS\n",
    "\n",
    "b=0.03\n",
    "\n",
    "def IS_10(Co, Io, Go, Xo, h, r, b, m, t, Y):\n",
    "    IS_10= ((Co+Io+Go+Xo)/h-Y*((1-(1-t)*(b-m))/h))\n",
    "    return IS_10\n",
    "\n",
    "IS_b2= IS_10(Co, Io, Go, Xo, h, r, b, m, t, Y)"
   ]
  },
  {
   "cell_type": "code",
   "execution_count": 27,
   "id": "17cf585d",
   "metadata": {},
   "outputs": [
    {
     "name": "stderr",
     "output_type": "stream",
     "text": [
      "C:\\Users\\danar\\AppData\\Local\\Temp\\ipykernel_20508\\397190725.py:9: UserWarning: color is redundantly defined by the 'color' keyword argument and the fmt string \"k-\" (-> color='k'). The keyword argument will take precedence.\n",
      "  ax.plot(IS_b, \"k-\", color = 'blue',Label=\"IS\")\n"
     ]
    },
    {
     "ename": "AttributeError",
     "evalue": "'Line2D' object has no property 'Label'",
     "output_type": "error",
     "traceback": [
      "\u001b[1;31m---------------------------------------------------------------------------\u001b[0m",
      "\u001b[1;31mAttributeError\u001b[0m                            Traceback (most recent call last)",
      "Input \u001b[1;32mIn [27]\u001b[0m, in \u001b[0;36m<cell line: 9>\u001b[1;34m()\u001b[0m\n\u001b[0;32m      6\u001b[0m ax\u001b[38;5;241m.\u001b[39mtext(\u001b[38;5;241m100\u001b[39m, \u001b[38;5;241m-\u001b[39m\u001b[38;5;241m20\u001b[39m, \u001b[38;5;124m'\u001b[39m\u001b[38;5;124m$IS$\u001b[39m\u001b[38;5;124m'\u001b[39m, fontsize \u001b[38;5;241m=\u001b[39m \u001b[38;5;241m12\u001b[39m, color \u001b[38;5;241m=\u001b[39m \u001b[38;5;124m'\u001b[39m\u001b[38;5;124mblack\u001b[39m\u001b[38;5;124m'\u001b[39m)\n\u001b[0;32m      7\u001b[0m ax\u001b[38;5;241m.\u001b[39mtext(\u001b[38;5;241m100\u001b[39m, \u001b[38;5;241m-\u001b[39m\u001b[38;5;241m60\u001b[39m, \u001b[38;5;124m'\u001b[39m\u001b[38;5;124m$IS_1$\u001b[39m\u001b[38;5;124m'\u001b[39m, fontsize \u001b[38;5;241m=\u001b[39m \u001b[38;5;241m12\u001b[39m, color \u001b[38;5;241m=\u001b[39m \u001b[38;5;124m'\u001b[39m\u001b[38;5;124mblack\u001b[39m\u001b[38;5;124m'\u001b[39m)\n\u001b[1;32m----> 9\u001b[0m \u001b[43max\u001b[49m\u001b[38;5;241;43m.\u001b[39;49m\u001b[43mplot\u001b[49m\u001b[43m(\u001b[49m\u001b[43mIS_b\u001b[49m\u001b[43m,\u001b[49m\u001b[43m \u001b[49m\u001b[38;5;124;43m\"\u001b[39;49m\u001b[38;5;124;43mk-\u001b[39;49m\u001b[38;5;124;43m\"\u001b[39;49m\u001b[43m,\u001b[49m\u001b[43m \u001b[49m\u001b[43mcolor\u001b[49m\u001b[43m \u001b[49m\u001b[38;5;241;43m=\u001b[39;49m\u001b[43m \u001b[49m\u001b[38;5;124;43m'\u001b[39;49m\u001b[38;5;124;43mblue\u001b[39;49m\u001b[38;5;124;43m'\u001b[39;49m\u001b[43m,\u001b[49m\u001b[43mLabel\u001b[49m\u001b[38;5;241;43m=\u001b[39;49m\u001b[38;5;124;43m\"\u001b[39;49m\u001b[38;5;124;43mIS\u001b[39;49m\u001b[38;5;124;43m\"\u001b[39;49m\u001b[43m)\u001b[49m\n\u001b[0;32m     10\u001b[0m ax\u001b[38;5;241m.\u001b[39mplot(IS_b2, \u001b[38;5;124m\"\u001b[39m\u001b[38;5;124mb-\u001b[39m\u001b[38;5;124m\"\u001b[39m, color \u001b[38;5;241m=\u001b[39m \u001b[38;5;124m'\u001b[39m\u001b[38;5;124mred\u001b[39m\u001b[38;5;124m'\u001b[39m,linestyle\u001b[38;5;241m=\u001b[39m\u001b[38;5;124m'\u001b[39m\u001b[38;5;124m:\u001b[39m\u001b[38;5;124m'\u001b[39m,Label\u001b[38;5;241m=\u001b[39m\u001b[38;5;124m\"\u001b[39m\u001b[38;5;124mIS_1\u001b[39m\u001b[38;5;124m\"\u001b[39m)\n\u001b[0;32m     11\u001b[0m ax\u001b[38;5;241m.\u001b[39myaxis\u001b[38;5;241m.\u001b[39mset_major_locator(plt\u001b[38;5;241m.\u001b[39mNullLocator())   \u001b[38;5;66;03m# Hide ticks\u001b[39;00m\n",
      "File \u001b[1;32m~\\anaconda3\\lib\\site-packages\\matplotlib\\axes\\_axes.py:1632\u001b[0m, in \u001b[0;36mAxes.plot\u001b[1;34m(self, scalex, scaley, data, *args, **kwargs)\u001b[0m\n\u001b[0;32m   1390\u001b[0m \u001b[38;5;124;03m\"\"\"\u001b[39;00m\n\u001b[0;32m   1391\u001b[0m \u001b[38;5;124;03mPlot y versus x as lines and/or markers.\u001b[39;00m\n\u001b[0;32m   1392\u001b[0m \n\u001b[1;32m   (...)\u001b[0m\n\u001b[0;32m   1629\u001b[0m \u001b[38;5;124;03m(``'green'``) or hex strings (``'#008000'``).\u001b[39;00m\n\u001b[0;32m   1630\u001b[0m \u001b[38;5;124;03m\"\"\"\u001b[39;00m\n\u001b[0;32m   1631\u001b[0m kwargs \u001b[38;5;241m=\u001b[39m cbook\u001b[38;5;241m.\u001b[39mnormalize_kwargs(kwargs, mlines\u001b[38;5;241m.\u001b[39mLine2D)\n\u001b[1;32m-> 1632\u001b[0m lines \u001b[38;5;241m=\u001b[39m [\u001b[38;5;241m*\u001b[39m\u001b[38;5;28mself\u001b[39m\u001b[38;5;241m.\u001b[39m_get_lines(\u001b[38;5;241m*\u001b[39margs, data\u001b[38;5;241m=\u001b[39mdata, \u001b[38;5;241m*\u001b[39m\u001b[38;5;241m*\u001b[39mkwargs)]\n\u001b[0;32m   1633\u001b[0m \u001b[38;5;28;01mfor\u001b[39;00m line \u001b[38;5;129;01min\u001b[39;00m lines:\n\u001b[0;32m   1634\u001b[0m     \u001b[38;5;28mself\u001b[39m\u001b[38;5;241m.\u001b[39madd_line(line)\n",
      "File \u001b[1;32m~\\anaconda3\\lib\\site-packages\\matplotlib\\axes\\_base.py:312\u001b[0m, in \u001b[0;36m_process_plot_var_args.__call__\u001b[1;34m(self, data, *args, **kwargs)\u001b[0m\n\u001b[0;32m    310\u001b[0m     this \u001b[38;5;241m+\u001b[39m\u001b[38;5;241m=\u001b[39m args[\u001b[38;5;241m0\u001b[39m],\n\u001b[0;32m    311\u001b[0m     args \u001b[38;5;241m=\u001b[39m args[\u001b[38;5;241m1\u001b[39m:]\n\u001b[1;32m--> 312\u001b[0m \u001b[38;5;28;01myield from\u001b[39;00m \u001b[38;5;28;43mself\u001b[39;49m\u001b[38;5;241;43m.\u001b[39;49m\u001b[43m_plot_args\u001b[49m\u001b[43m(\u001b[49m\u001b[43mthis\u001b[49m\u001b[43m,\u001b[49m\u001b[43m \u001b[49m\u001b[43mkwargs\u001b[49m\u001b[43m)\u001b[49m\n",
      "File \u001b[1;32m~\\anaconda3\\lib\\site-packages\\matplotlib\\axes\\_base.py:538\u001b[0m, in \u001b[0;36m_process_plot_var_args._plot_args\u001b[1;34m(self, tup, kwargs, return_kwargs)\u001b[0m\n\u001b[0;32m    536\u001b[0m     \u001b[38;5;28;01mreturn\u001b[39;00m \u001b[38;5;28mlist\u001b[39m(result)\n\u001b[0;32m    537\u001b[0m \u001b[38;5;28;01melse\u001b[39;00m:\n\u001b[1;32m--> 538\u001b[0m     \u001b[38;5;28;01mreturn\u001b[39;00m [l[\u001b[38;5;241m0\u001b[39m] \u001b[38;5;28;01mfor\u001b[39;00m l \u001b[38;5;129;01min\u001b[39;00m result]\n",
      "File \u001b[1;32m~\\anaconda3\\lib\\site-packages\\matplotlib\\axes\\_base.py:538\u001b[0m, in \u001b[0;36m<listcomp>\u001b[1;34m(.0)\u001b[0m\n\u001b[0;32m    536\u001b[0m     \u001b[38;5;28;01mreturn\u001b[39;00m \u001b[38;5;28mlist\u001b[39m(result)\n\u001b[0;32m    537\u001b[0m \u001b[38;5;28;01melse\u001b[39;00m:\n\u001b[1;32m--> 538\u001b[0m     \u001b[38;5;28;01mreturn\u001b[39;00m [l[\u001b[38;5;241m0\u001b[39m] \u001b[38;5;28;01mfor\u001b[39;00m l \u001b[38;5;129;01min\u001b[39;00m result]\n",
      "File \u001b[1;32m~\\anaconda3\\lib\\site-packages\\matplotlib\\axes\\_base.py:531\u001b[0m, in \u001b[0;36m<genexpr>\u001b[1;34m(.0)\u001b[0m\n\u001b[0;32m    528\u001b[0m \u001b[38;5;28;01melse\u001b[39;00m:\n\u001b[0;32m    529\u001b[0m     labels \u001b[38;5;241m=\u001b[39m [label] \u001b[38;5;241m*\u001b[39m n_datasets\n\u001b[1;32m--> 531\u001b[0m result \u001b[38;5;241m=\u001b[39m (\u001b[43mmake_artist\u001b[49m\u001b[43m(\u001b[49m\u001b[43mx\u001b[49m\u001b[43m[\u001b[49m\u001b[43m:\u001b[49m\u001b[43m,\u001b[49m\u001b[43m \u001b[49m\u001b[43mj\u001b[49m\u001b[43m \u001b[49m\u001b[38;5;241;43m%\u001b[39;49m\u001b[43m \u001b[49m\u001b[43mncx\u001b[49m\u001b[43m]\u001b[49m\u001b[43m,\u001b[49m\u001b[43m \u001b[49m\u001b[43my\u001b[49m\u001b[43m[\u001b[49m\u001b[43m:\u001b[49m\u001b[43m,\u001b[49m\u001b[43m \u001b[49m\u001b[43mj\u001b[49m\u001b[43m \u001b[49m\u001b[38;5;241;43m%\u001b[39;49m\u001b[43m \u001b[49m\u001b[43mncy\u001b[49m\u001b[43m]\u001b[49m\u001b[43m,\u001b[49m\u001b[43m \u001b[49m\u001b[43mkw\u001b[49m\u001b[43m,\u001b[49m\n\u001b[0;32m    532\u001b[0m \u001b[43m                      \u001b[49m\u001b[43m{\u001b[49m\u001b[38;5;241;43m*\u001b[39;49m\u001b[38;5;241;43m*\u001b[39;49m\u001b[43mkwargs\u001b[49m\u001b[43m,\u001b[49m\u001b[43m \u001b[49m\u001b[38;5;124;43m'\u001b[39;49m\u001b[38;5;124;43mlabel\u001b[39;49m\u001b[38;5;124;43m'\u001b[39;49m\u001b[43m:\u001b[49m\u001b[43m \u001b[49m\u001b[43mlabel\u001b[49m\u001b[43m}\u001b[49m\u001b[43m)\u001b[49m\n\u001b[0;32m    533\u001b[0m           \u001b[38;5;28;01mfor\u001b[39;00m j, label \u001b[38;5;129;01min\u001b[39;00m \u001b[38;5;28menumerate\u001b[39m(labels))\n\u001b[0;32m    535\u001b[0m \u001b[38;5;28;01mif\u001b[39;00m return_kwargs:\n\u001b[0;32m    536\u001b[0m     \u001b[38;5;28;01mreturn\u001b[39;00m \u001b[38;5;28mlist\u001b[39m(result)\n",
      "File \u001b[1;32m~\\anaconda3\\lib\\site-packages\\matplotlib\\axes\\_base.py:351\u001b[0m, in \u001b[0;36m_process_plot_var_args._makeline\u001b[1;34m(self, x, y, kw, kwargs)\u001b[0m\n\u001b[0;32m    349\u001b[0m default_dict \u001b[38;5;241m=\u001b[39m \u001b[38;5;28mself\u001b[39m\u001b[38;5;241m.\u001b[39m_getdefaults(\u001b[38;5;28mset\u001b[39m(), kw)\n\u001b[0;32m    350\u001b[0m \u001b[38;5;28mself\u001b[39m\u001b[38;5;241m.\u001b[39m_setdefaults(default_dict, kw)\n\u001b[1;32m--> 351\u001b[0m seg \u001b[38;5;241m=\u001b[39m mlines\u001b[38;5;241m.\u001b[39mLine2D(x, y, \u001b[38;5;241m*\u001b[39m\u001b[38;5;241m*\u001b[39mkw)\n\u001b[0;32m    352\u001b[0m \u001b[38;5;28;01mreturn\u001b[39;00m seg, kw\n",
      "File \u001b[1;32m~\\anaconda3\\lib\\site-packages\\matplotlib\\lines.py:393\u001b[0m, in \u001b[0;36mLine2D.__init__\u001b[1;34m(self, xdata, ydata, linewidth, linestyle, color, marker, markersize, markeredgewidth, markeredgecolor, markerfacecolor, markerfacecoloralt, fillstyle, antialiased, dash_capstyle, solid_capstyle, dash_joinstyle, solid_joinstyle, pickradius, drawstyle, markevery, **kwargs)\u001b[0m\n\u001b[0;32m    389\u001b[0m \u001b[38;5;28mself\u001b[39m\u001b[38;5;241m.\u001b[39mset_markeredgewidth(markeredgewidth)\n\u001b[0;32m    391\u001b[0m \u001b[38;5;66;03m# update kwargs before updating data to give the caller a\u001b[39;00m\n\u001b[0;32m    392\u001b[0m \u001b[38;5;66;03m# chance to init axes (and hence unit support)\u001b[39;00m\n\u001b[1;32m--> 393\u001b[0m \u001b[38;5;28;43mself\u001b[39;49m\u001b[38;5;241;43m.\u001b[39;49m\u001b[43mupdate\u001b[49m\u001b[43m(\u001b[49m\u001b[43mkwargs\u001b[49m\u001b[43m)\u001b[49m\n\u001b[0;32m    394\u001b[0m \u001b[38;5;28mself\u001b[39m\u001b[38;5;241m.\u001b[39mpickradius \u001b[38;5;241m=\u001b[39m pickradius\n\u001b[0;32m    395\u001b[0m \u001b[38;5;28mself\u001b[39m\u001b[38;5;241m.\u001b[39mind_offset \u001b[38;5;241m=\u001b[39m \u001b[38;5;241m0\u001b[39m\n",
      "File \u001b[1;32m~\\anaconda3\\lib\\site-packages\\matplotlib\\artist.py:1064\u001b[0m, in \u001b[0;36mArtist.update\u001b[1;34m(self, props)\u001b[0m\n\u001b[0;32m   1062\u001b[0m             func \u001b[38;5;241m=\u001b[39m \u001b[38;5;28mgetattr\u001b[39m(\u001b[38;5;28mself\u001b[39m, \u001b[38;5;124mf\u001b[39m\u001b[38;5;124m\"\u001b[39m\u001b[38;5;124mset_\u001b[39m\u001b[38;5;132;01m{\u001b[39;00mk\u001b[38;5;132;01m}\u001b[39;00m\u001b[38;5;124m\"\u001b[39m, \u001b[38;5;28;01mNone\u001b[39;00m)\n\u001b[0;32m   1063\u001b[0m             \u001b[38;5;28;01mif\u001b[39;00m \u001b[38;5;129;01mnot\u001b[39;00m callable(func):\n\u001b[1;32m-> 1064\u001b[0m                 \u001b[38;5;28;01mraise\u001b[39;00m \u001b[38;5;167;01mAttributeError\u001b[39;00m(\u001b[38;5;124mf\u001b[39m\u001b[38;5;124m\"\u001b[39m\u001b[38;5;132;01m{\u001b[39;00m\u001b[38;5;28mtype\u001b[39m(\u001b[38;5;28mself\u001b[39m)\u001b[38;5;241m.\u001b[39m\u001b[38;5;18m__name__\u001b[39m\u001b[38;5;132;01m!r}\u001b[39;00m\u001b[38;5;124m object \u001b[39m\u001b[38;5;124m\"\u001b[39m\n\u001b[0;32m   1065\u001b[0m                                      \u001b[38;5;124mf\u001b[39m\u001b[38;5;124m\"\u001b[39m\u001b[38;5;124mhas no property \u001b[39m\u001b[38;5;132;01m{\u001b[39;00mk\u001b[38;5;132;01m!r}\u001b[39;00m\u001b[38;5;124m\"\u001b[39m)\n\u001b[0;32m   1066\u001b[0m             ret\u001b[38;5;241m.\u001b[39mappend(func(v))\n\u001b[0;32m   1067\u001b[0m \u001b[38;5;28;01mif\u001b[39;00m ret:\n",
      "\u001b[1;31mAttributeError\u001b[0m: 'Line2D' object has no property 'Label'"
     ]
    },
    {
     "data": {
      "image/png": "[encoded data removed]",
      "text/plain": [
       "<Figure size 720x576 with 1 Axes>"
      ]
     },
     "metadata": {
      "needs_background": "light"
     },
     "output_type": "display_data"
    }
   ],
   "source": [
    "fig, ax = plt.subplots(figsize=(10, 8))\n",
    "ax.set(title=\"EFECTOS DE UN AUMENTO EN LA PMgC \", xlabel=r'Y', ylabel=r'r')\n",
    "\n",
    "ax.plot(IS_b, label = \"IS\", color = \"C0\") \n",
    "ax.plot(IS_b2, label = \"IS_1\", linestyle=':', color = \"C3\") \n",
    "ax.text(100, -20, '$IS$', fontsize = 12, color = 'black')\n",
    "ax.text(100, -60, '$IS_1$', fontsize = 12, color = 'black')\n",
    "\n",
    "ax.plot(IS_b, \"k-\", color = 'blue',Label=\"IS\")\n",
    "ax.plot(IS_b2, \"b-\", color = 'red',linestyle=':',Label=\"IS_1\")\n",
    "ax.yaxis.set_major_locator(plt.NullLocator())   # Hide ticks\n",
    "ax.xaxis.set_major_locator(plt.NullLocator())   # Hide ticks\n",
    "       \n",
    "plt.legend()        \n",
    "plt.show()"
   ]
  },
  {
   "cell_type": "markdown",
   "id": "34b2ff43",
   "metadata": {},
   "source": [
    "$$ \tb↓→β_1↑ $$"
   ]
  },
  {
   "cell_type": "markdown",
   "id": "a1788528",
   "metadata": {},
   "source": [
    "$$ \tb↓→C↓→DA↓→DA<Y→Y↓ $$"
   ]
  },
  {
   "cell_type": "markdown",
   "id": "f54753cd",
   "metadata": {},
   "source": [
    "* De forma intuitiva, se obtiene:\n",
    "* Los cambios en la propensión marginal a importar “m”, tienen efectos en la pendiente de la curva IS parecidos a los provocados por los cambios en la tasa de tributación “t”: cuando disminuye (aumenta) “m”, la pendiente de la curva IS se disminuye (aumenta). Por el contrario, la disminución de la propensión marginal a consumir, “b”, disminuye el tamaño del multiplicador, disminuye la pendiente de la DA y aumenta la pendiente de la curva IS. Esta gira en sentido de las agujas del reloj.\n"
   ]
  },
  {
   "cell_type": "code",
   "execution_count": null,
   "id": "2353a44b",
   "metadata": {},
   "outputs": [],
   "source": []
  }
 ],
 "metadata": {
  "kernelspec": {
   "display_name": "Python 3.9.12 ('base')",
   "language": "python",
   "name": "python3"
  },
  "language_info": {
   "codemirror_mode": {
    "name": "ipython",
    "version": 3
   },
   "file_extension": ".py",
   "mimetype": "text/x-python",
   "name": "python",
   "nbconvert_exporter": "python",
   "pygments_lexer": "ipython3",
   "version": "3.9.12"
  },
  "vscode": {
   "interpreter": {
    "hash": "f7b16fa5ee2054b8d9377f7a850c16f5362a24a8ceaec030a7d8df63b245563f"
   }
  }
 },
 "nbformat": 4,
 "nbformat_minor": 5
}
