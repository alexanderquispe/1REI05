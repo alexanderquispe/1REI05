{
 "cells": [
  {
   "cell_type": "markdown",
   "id": "cdaf0436",
   "metadata": {},
   "source": [
    "                                                       REPORTE 9"
   ]
  },
  {
   "cell_type": "markdown",
   "id": "f6f1ef4d",
   "metadata": {},
   "source": [
    "CONTROL DE LECTURA\n",
    "--"
   ]
  },
  {
   "cell_type": "markdown",
   "id": "b23362e8",
   "metadata": {},
   "source": [
    "El presente artículo de titulado “Social Media and Mental Health” o, traducido al español “Redes Sociales y Salud Mental” representan un estudio sobre en base a la hipótesis en donde la Red Social principal como Facebook  sería uno de los principales motivos de deterioro de la salud mental en los adolescente y jóvenes en los Estados Unidos. El presente artículo fue escrito en el 2021 por los siguientes investigadores, Luca Braghieri, miembro del Departamento de Ciencias de la Decisión en la Universidad de Bocconi ;  Roee Levy, miembro de la Escuela de Economía Eitam Berglas de la Universidad de Tel Aviv junto a Alexey Makarin que es miembro del Instituto de Tecnología de Massachusetts, de la Escuela de Administración Sloan, del Instituto Einaudi de Economía y Finanzas y el Centro de Investigación de Política Económica. Ante lo previamente mencionado, la pregunta de investigación que se va a desarrollar sería la siguiente: ¿ Es posible que la red social Facebook pueda tener responsabilidad en el deterioro de la salud mental entre adolescentes y jóvenes? \n",
    "\n",
    "\n",
    "Dentro de las fortalezas encontramos, en primer lugar, que el texto plantea un tema interesante en cuanto a lograr llamar la atención del lector, la investigación de las redes sociales en este mundo interconectado y la importancia de la prioridad de la salud mental  son puntos atrayentes para resaltar una investigación. Por otra parte el tema parece ser bien trabajado por los autores de la investigación, conociendo su línea de trabajo, nos podemos dar cuenta de la calidad de trabajo presentado. Ahora, enfocándose en el desarrollo del trabajo, podemos acertar que tiene muy en claro los objetivos en cada parte del trabajo para encontrar respuesta a la pregunta, además el uso de gráficos facilita la comprensión.\n",
    "\n",
    "En cuanto a debilidades, el trabajo quizás no esté tan conectado con un propósito económico, sino como probabilidades o experimentos sociales, si bien no es negativo, hace que necesitemos otro enfoque para ver como se resuelve la pregunta de investigación; por otra parte, considero que una debilidad es  que los datos se concentran en años pasado y no en datos más actuales para poder comprobar la hipótesis, como tener en cuenta las nuevas redes sociales o el evento de la pandemia del COVID-19.\n",
    "\n",
    "Dicha investigación contribuye en un aporte  a  la investigación sobre la salud mental de los adolescente y jóvenes en general, da un aporte que comprueba que la plena existencia de las redes sociales  puede significar una desventajas para los jóvenes del día de hoy, su aporte es que tras la hipótesis confirmada, podemos encontrar medidas para contrarrestar  el deterioro de la salud mental. \n",
    "\n",
    "Los próximos avances que podemos  encontrar son dos pasos claves para mejorar la pregunta. En primer lugar, uniéndose a una de las debilidades mencionadas anteriormente, sería interesante si podemos colocar el presente análisis bajo un contexto más reciente y, en este caso, del COVID-19. Un ejemplo de ello es dentro de la Revista de Investigación de Ciencias Sociales y Humanidades que hace un análisis  del exceso de uso de la redes sociales en los temas de pandemia, en su palabra es mencionan que “Las redes ya formaban parte de nuestras vidas, pero la necesidad de comunicarse en medio del confinamiento provocó el exceso de ellas llegando a traer consecuencias además de las que causó la enfermedad…Los adolescentes como se sabe siempre usaron las redes, pero al verse confinados generaron una gran necesidad de usarlas incluso en sus estudios, puesto que fue una forma empleada para la enseñanza. Esto por su parte se convirtió en adicción en muchos casos” ( Barragán y Ochoa, 2021). Por otra parte, se debería avanzar en buscar soluciones para contrarrestar los efectos negativos de las redes sociales, en general, en la salud mental, tal como un trabajo de García en un Trabajo  Fin de Grado, “o. Por eso, se debería impulsar desde la educación un uso saludable de las redes sociales, para que solo nos beneficie y nos ayude y, por tanto, que nunca nos perjudique” (2020).\n"
   ]
  }
 ],
 "metadata": {
  "kernelspec": {
   "display_name": "Python 3 (ipykernel)",
   "language": "python",
   "name": "python3"
  },
  "language_info": {
   "codemirror_mode": {
    "name": "ipython",
    "version": 3
   },
   "file_extension": ".py",
   "mimetype": "text/x-python",
   "name": "python",
   "nbconvert_exporter": "python",
   "pygments_lexer": "ipython3",
   "version": "3.9.12"
  }
 },
 "nbformat": 4,
 "nbformat_minor": 5
}
