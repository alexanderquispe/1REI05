{
  "nbformat": 4,
  "nbformat_minor": 0,
  "metadata": {
    "colab": {
      "provenance": []
    },
    "kernelspec": {
      "name": "python3",
      "display_name": "Python 3"
    },
    "language_info": {
      "name": "python"
    }
  },
  "cells": [
    {
      "cell_type": "markdown",
      "source": [
        "PARTE I: REPORTE DE LA LECTURA\n",
        "\n",
        "El siguiente artículo “The Effects of Exposure to Better Neighborhoods on Children: New Evidence from the Moving to Opportunity Experiment” buscar responder dos hipótesis; la primera es respecto a que mudarse a un área de menor pobreza mejora los resultados económicos a largo plazo para los niños que eran pequeños en el momento de la asignación aleatoria (AR) y la segunda, es respecto a que las ganancias de mudarse a un área de menor pobreza disminuyen con la edad del niño. En este sentido, el gobierno estadounidense ha ofrecido una variedad de programas de asistencia para la vivienda a los hogares de bajos ingresos. A través del experimento Moving to Opportunity (MTO) ofreció cupones de vivienda subsidiada a un subconjunto seleccionado al azar de familias que vivían en proyectos de vivienda de alta pobreza para mudarse a vecindarios de menor pobreza. Por consiguiente, las familias se distribuyen aleatoriamente en tres grupos; el grupo experimental, al que se le ofreció un bono de vivienda protegida que vino con el requisito de mudarse a un tramo censal con tasa inferior al 10%; el grupo de la Sección 8, al cual se le ofreció una vivienda subvencionada al bono sin contingencias adicionales; y el grupo de control, al que no se le ofreció bono.\n",
        "En este sentido, la fortaleza del artículo es que propone centrarse en los impactos a largo plazo del experimento MTO en niños que eran pequeños cuando sus familias se mudaron a mejores vecindarios; vinculando los datos MTO a los datos fiscales. Por ejemplo, los datos fiscales hace referencia a la información sobre las características individuales y del hogar o la información anual sobre el vecindario residencial para cada participante de MTO; mientras que los datos fiscales hace referencia a los ingresos, asistencia a la universidad, calidad de la universidad, estado civil y fertilidad, características del vecindario en la edad adulta o la declaración de impuestos e impuestos pagados. Asimismo, las pruebas de equilibrio y estadísticas resumidas nos muestran que prácticamente no hay margen de deserción diferencial entre los tres modelos de tratamiento; y las familias que participaron en MTO estaban bastante desfavorecidas económicamente. \n",
        "Por otra lado, la debilidad del artículo, es que el diseño experimental MTO no se puede utilizar para establecer de manera concluyente que la exposición infantil a un entorno mejor o de menor pobreza, tiene un efecto causal en los resultados a largo plazo. Esto es debido a que el experimento MTO solo ofrece cupones aleatorios; no aleatoriza a la edad en la que los niños se mudaron, lo que podría estar correlacionado con otros factores no observables. Asimismo, las edades a las que se mueven los niños están perfectamente correlacionadas con su longitud de exposición a un vecindario de menor pobreza; y los efectos del tratamiento para familias con niños pequeños versus niños mayores podrían diferir porque el conjunto de familias que acogieron el bono y las zonas a las que se trasladaron pueden varios entre los dos grupos (el grupo experimental y el grupo de la sección 8).\n",
        "La contribución del artículo, como ya se ha mencionado anteriormente, es que propone un nuevo análisis de los impactos del MTO en los resultados a largo plazo de los niños. De tal modo, se encontraron pruebas sólidas de que los niños que pasaron a niveles de pobreza más bajos cuando eran jóvenes (menos de 13 años) tienen más probabilidades de asistir a la universidad y tienen sustancialmente mayores ingresos en la edad adulta; en contraste, tuvo efectos negativos en los jóvenes mayores. Asimismo, los resultados sugieren que una fracción sustancial de la variación sistemática en los resultados económicos entre las áreas documentadas en estudios observacionales que intentan controlar los efectos de la selección pueden explicarse por efectos causales de los vecindarios. Además, los efectos en los resultados a corto y mediano plazo de los niños no están completamente alineados con los resultados a largo plazo; primero, los efectos positivos de los tratamientos MTO resurgen en la edad adulta, medido por los ingresos y logros universitarios; segundo, no se encontraron diferencias significativas de género en los efectos MTO en los resultados de los niños en la edad adulta; tercero, se encontraron impactos algo negativos a largo plazo en los jóvenes mayores (de 13 a 18), pero se mostraron impactos iniciales positivos en términos de menor delincuencia y problemas de comportamientos para estos niños en los primeros tres años después de la AR.\n",
        "En conclusión, aunque queda mucho trabajo por realizar, los resultados de este estudio demuestran que ofrecer vivienda a familias de bajos recursos mediante bonos y asistencia para mudar a vecindarios de menor pobreza; presenta beneficios sustanciales para las propias familias y para los contribuyentes. En este sentido, según Liebman (2016) en su artículo´”Evaluating the Impact of Moving to Opportunity in the United States” a pesar que dirigir los bonos de vivienda subvencionados específicamente a las familias de bajos ingresos con niños pequeños puede reducir la resistencia intergeneracional de la pobreza e incluso ahorrar dinero al gobierno; esta no es una solución integral. Sin embargo, afirma que si bien el MTO comenzó hace veinte años, la importancia de este asunto no hace más que crecer; esto es debido a que en las últimas décadas, la segregación de los ingresos residenciales ha aumentado considerablemente en Estados Unidos. Los ciudadanos se autodeterminan cada vez más en función de los ingresos y la riqueza. Si se mantiene la tendencia a la concentración de la pobreza, cada vez más niños pobres crecerán en barrios que merman su felicidad y su salud, y les darán menos oportunidades de triunfar como adultos.\n"
      ],
      "metadata": {
        "id": "EHLsaBOZMZGn"
      }
    },
    {
      "cell_type": "markdown",
      "source": [
        "PARTE II: CÓDIGO\n",
        "\n",
        "Colaboradores:\n",
        "\n",
        "DANIEL CUBEÑAS (20170718)\n",
        "INGRY BERNEL (20191301)"
      ],
      "metadata": {
        "id": "T0RSO4_PRKx6"
      }
    },
    {
      "cell_type": "code",
      "source": [
        "#Antes de pasar a la parte de códigos en Python, procederemos a instalar las librerías correspondientes\n",
        "\n",
        "import numpy as np \n",
        "import pandas as pd \n",
        "import statsmodels.api as sm \n",
        "import statsmodels.formula.api as smf \n",
        "from itertools import combinations \n",
        "import plotnine as p"
      ],
      "metadata": {
        "id": "tPu57BrEMam3"
      },
      "execution_count": 2,
      "outputs": []
    },
    {
      "cell_type": "code",
      "source": [
        "import pandas as pd\n",
        "import numpy as np\n",
        "from scipy import stats\n",
        "from scipy.stats import norm\n",
        "import statsmodels.api as sm\n",
        "import matplotlib\n",
        "import string\n",
        "import warnings\n",
        "warnings.filterwarnings('ignore')"
      ],
      "metadata": {
        "id": "kjSytBloNcXO"
      },
      "execution_count": 3,
      "outputs": []
    },
    {
      "cell_type": "code",
      "source": [
        "import seaborn as sns\n",
        "sns.set_theme(style=\"darkgrid\")\n",
        "import matplotlib.pyplot as plt"
      ],
      "metadata": {
        "id": "a1OO8p0TNgkh"
      },
      "execution_count": 4,
      "outputs": []
    },
    {
      "cell_type": "code",
      "source": [
        "pip install causalgraphicalmodels"
      ],
      "metadata": {
        "colab": {
          "base_uri": "https://localhost:8080/"
        },
        "id": "d6pN4BwqNsuG",
        "outputId": "64e2391e-eea4-4426-dca2-048c1f51c9d0"
      },
      "execution_count": 5,
      "outputs": [
        {
          "output_type": "stream",
          "name": "stdout",
          "text": [
            "Looking in indexes: https://pypi.org/simple, https://us-python.pkg.dev/colab-wheels/public/simple/\n",
            "Collecting causalgraphicalmodels\n",
            "  Downloading causalgraphicalmodels-0.0.4-py3-none-any.whl (11 kB)\n",
            "Requirement already satisfied: pandas in /usr/local/lib/python3.7/dist-packages (from causalgraphicalmodels) (1.3.5)\n",
            "Requirement already satisfied: graphviz in /usr/local/lib/python3.7/dist-packages (from causalgraphicalmodels) (0.10.1)\n",
            "Requirement already satisfied: networkx in /usr/local/lib/python3.7/dist-packages (from causalgraphicalmodels) (2.6.3)\n",
            "Requirement already satisfied: numpy in /usr/local/lib/python3.7/dist-packages (from causalgraphicalmodels) (1.21.6)\n",
            "Requirement already satisfied: python-dateutil>=2.7.3 in /usr/local/lib/python3.7/dist-packages (from pandas->causalgraphicalmodels) (2.8.2)\n",
            "Requirement already satisfied: pytz>=2017.3 in /usr/local/lib/python3.7/dist-packages (from pandas->causalgraphicalmodels) (2022.6)\n",
            "Requirement already satisfied: six>=1.5 in /usr/local/lib/python3.7/dist-packages (from python-dateutil>=2.7.3->pandas->causalgraphicalmodels) (1.15.0)\n",
            "Installing collected packages: causalgraphicalmodels\n",
            "Successfully installed causalgraphicalmodels-0.0.4\n"
          ]
        }
      ]
    },
    {
      "cell_type": "code",
      "source": [
        "data = pd.read_csv('https://github.com/matheusfacure/python-causality-handbook/raw/master/causal-inference-for-the-brave-and-true/data/online_classroom.csv')"
      ],
      "metadata": {
        "id": "PunNDKHnOHWq"
      },
      "execution_count": 8,
      "outputs": []
    },
    {
      "cell_type": "code",
      "source": [
        "print(data.shape)\n",
        "data.head()"
      ],
      "metadata": {
        "colab": {
          "base_uri": "https://localhost:8080/",
          "height": 223
        },
        "id": "Sb04LgOAONzB",
        "outputId": "a09750e5-e51f-46f8-b37a-33ae6e85811d"
      },
      "execution_count": 9,
      "outputs": [
        {
          "output_type": "stream",
          "name": "stdout",
          "text": [
            "(323, 10)\n"
          ]
        },
        {
          "output_type": "execute_result",
          "data": {
            "text/plain": [
              "   gender  asian  black  hawaiian  hispanic  unknown  white  format_ol  \\\n",
              "0       0    0.0    0.0       0.0       0.0      0.0    1.0          0   \n",
              "1       1    0.0    0.0       0.0       0.0      0.0    1.0          0   \n",
              "2       1    0.0    0.0       0.0       0.0      0.0    1.0          0   \n",
              "3       1    0.0    0.0       0.0       0.0      0.0    1.0          0   \n",
              "4       1    0.0    0.0       0.0       0.0      0.0    1.0          1   \n",
              "\n",
              "   format_blended  falsexam  \n",
              "0             0.0  63.29997  \n",
              "1             0.0  79.96000  \n",
              "2             1.0  83.37000  \n",
              "3             1.0  90.01994  \n",
              "4             0.0  83.30000  "
            ],
            "text/html": [
              "\n",
              "  <div id=\"df-0d353993-73d4-4e3e-b92b-b026262570a2\">\n",
              "    <div class=\"colab-df-container\">\n",
              "      <div>\n",
              "<style scoped>\n",
              "    .dataframe tbody tr th:only-of-type {\n",
              "        vertical-align: middle;\n",
              "    }\n",
              "\n",
              "    .dataframe tbody tr th {\n",
              "        vertical-align: top;\n",
              "    }\n",
              "\n",
              "    .dataframe thead th {\n",
              "        text-align: right;\n",
              "    }\n",
              "</style>\n",
              "<table border=\"1\" class=\"dataframe\">\n",
              "  <thead>\n",
              "    <tr style=\"text-align: right;\">\n",
              "      <th></th>\n",
              "      <th>gender</th>\n",
              "      <th>asian</th>\n",
              "      <th>black</th>\n",
              "      <th>hawaiian</th>\n",
              "      <th>hispanic</th>\n",
              "      <th>unknown</th>\n",
              "      <th>white</th>\n",
              "      <th>format_ol</th>\n",
              "      <th>format_blended</th>\n",
              "      <th>falsexam</th>\n",
              "    </tr>\n",
              "  </thead>\n",
              "  <tbody>\n",
              "    <tr>\n",
              "      <th>0</th>\n",
              "      <td>0</td>\n",
              "      <td>0.0</td>\n",
              "      <td>0.0</td>\n",
              "      <td>0.0</td>\n",
              "      <td>0.0</td>\n",
              "      <td>0.0</td>\n",
              "      <td>1.0</td>\n",
              "      <td>0</td>\n",
              "      <td>0.0</td>\n",
              "      <td>63.29997</td>\n",
              "    </tr>\n",
              "    <tr>\n",
              "      <th>1</th>\n",
              "      <td>1</td>\n",
              "      <td>0.0</td>\n",
              "      <td>0.0</td>\n",
              "      <td>0.0</td>\n",
              "      <td>0.0</td>\n",
              "      <td>0.0</td>\n",
              "      <td>1.0</td>\n",
              "      <td>0</td>\n",
              "      <td>0.0</td>\n",
              "      <td>79.96000</td>\n",
              "    </tr>\n",
              "    <tr>\n",
              "      <th>2</th>\n",
              "      <td>1</td>\n",
              "      <td>0.0</td>\n",
              "      <td>0.0</td>\n",
              "      <td>0.0</td>\n",
              "      <td>0.0</td>\n",
              "      <td>0.0</td>\n",
              "      <td>1.0</td>\n",
              "      <td>0</td>\n",
              "      <td>1.0</td>\n",
              "      <td>83.37000</td>\n",
              "    </tr>\n",
              "    <tr>\n",
              "      <th>3</th>\n",
              "      <td>1</td>\n",
              "      <td>0.0</td>\n",
              "      <td>0.0</td>\n",
              "      <td>0.0</td>\n",
              "      <td>0.0</td>\n",
              "      <td>0.0</td>\n",
              "      <td>1.0</td>\n",
              "      <td>0</td>\n",
              "      <td>1.0</td>\n",
              "      <td>90.01994</td>\n",
              "    </tr>\n",
              "    <tr>\n",
              "      <th>4</th>\n",
              "      <td>1</td>\n",
              "      <td>0.0</td>\n",
              "      <td>0.0</td>\n",
              "      <td>0.0</td>\n",
              "      <td>0.0</td>\n",
              "      <td>0.0</td>\n",
              "      <td>1.0</td>\n",
              "      <td>1</td>\n",
              "      <td>0.0</td>\n",
              "      <td>83.30000</td>\n",
              "    </tr>\n",
              "  </tbody>\n",
              "</table>\n",
              "</div>\n",
              "      <button class=\"colab-df-convert\" onclick=\"convertToInteractive('df-0d353993-73d4-4e3e-b92b-b026262570a2')\"\n",
              "              title=\"Convert this dataframe to an interactive table.\"\n",
              "              style=\"display:none;\">\n",
              "        \n",
              "  <svg xmlns=\"http://www.w3.org/2000/svg\" height=\"24px\"viewBox=\"0 0 24 24\"\n",
              "       width=\"24px\">\n",
              "    <path d=\"M0 0h24v24H0V0z\" fill=\"none\"/>\n",
              "    <path d=\"M18.56 5.44l.94 2.06.94-2.06 2.06-.94-2.06-.94-.94-2.06-.94 2.06-2.06.94zm-11 1L8.5 8.5l.94-2.06 2.06-.94-2.06-.94L8.5 2.5l-.94 2.06-2.06.94zm10 10l.94 2.06.94-2.06 2.06-.94-2.06-.94-.94-2.06-.94 2.06-2.06.94z\"/><path d=\"M17.41 7.96l-1.37-1.37c-.4-.4-.92-.59-1.43-.59-.52 0-1.04.2-1.43.59L10.3 9.45l-7.72 7.72c-.78.78-.78 2.05 0 2.83L4 21.41c.39.39.9.59 1.41.59.51 0 1.02-.2 1.41-.59l7.78-7.78 2.81-2.81c.8-.78.8-2.07 0-2.86zM5.41 20L4 18.59l7.72-7.72 1.47 1.35L5.41 20z\"/>\n",
              "  </svg>\n",
              "      </button>\n",
              "      \n",
              "  <style>\n",
              "    .colab-df-container {\n",
              "      display:flex;\n",
              "      flex-wrap:wrap;\n",
              "      gap: 12px;\n",
              "    }\n",
              "\n",
              "    .colab-df-convert {\n",
              "      background-color: #E8F0FE;\n",
              "      border: none;\n",
              "      border-radius: 50%;\n",
              "      cursor: pointer;\n",
              "      display: none;\n",
              "      fill: #1967D2;\n",
              "      height: 32px;\n",
              "      padding: 0 0 0 0;\n",
              "      width: 32px;\n",
              "    }\n",
              "\n",
              "    .colab-df-convert:hover {\n",
              "      background-color: #E2EBFA;\n",
              "      box-shadow: 0px 1px 2px rgba(60, 64, 67, 0.3), 0px 1px 3px 1px rgba(60, 64, 67, 0.15);\n",
              "      fill: #174EA6;\n",
              "    }\n",
              "\n",
              "    [theme=dark] .colab-df-convert {\n",
              "      background-color: #3B4455;\n",
              "      fill: #D2E3FC;\n",
              "    }\n",
              "\n",
              "    [theme=dark] .colab-df-convert:hover {\n",
              "      background-color: #434B5C;\n",
              "      box-shadow: 0px 1px 3px 1px rgba(0, 0, 0, 0.15);\n",
              "      filter: drop-shadow(0px 1px 2px rgba(0, 0, 0, 0.3));\n",
              "      fill: #FFFFFF;\n",
              "    }\n",
              "  </style>\n",
              "\n",
              "      <script>\n",
              "        const buttonEl =\n",
              "          document.querySelector('#df-0d353993-73d4-4e3e-b92b-b026262570a2 button.colab-df-convert');\n",
              "        buttonEl.style.display =\n",
              "          google.colab.kernel.accessAllowed ? 'block' : 'none';\n",
              "\n",
              "        async function convertToInteractive(key) {\n",
              "          const element = document.querySelector('#df-0d353993-73d4-4e3e-b92b-b026262570a2');\n",
              "          const dataTable =\n",
              "            await google.colab.kernel.invokeFunction('convertToInteractive',\n",
              "                                                     [key], {});\n",
              "          if (!dataTable) return;\n",
              "\n",
              "          const docLinkHtml = 'Like what you see? Visit the ' +\n",
              "            '<a target=\"_blank\" href=https://colab.research.google.com/notebooks/data_table.ipynb>data table notebook</a>'\n",
              "            + ' to learn more about interactive tables.';\n",
              "          element.innerHTML = '';\n",
              "          dataTable['output_type'] = 'display_data';\n",
              "          await google.colab.output.renderOutput(dataTable, element);\n",
              "          const docLink = document.createElement('div');\n",
              "          docLink.innerHTML = docLinkHtml;\n",
              "          element.appendChild(docLink);\n",
              "        }\n",
              "      </script>\n",
              "    </div>\n",
              "  </div>\n",
              "  "
            ]
          },
          "metadata": {},
          "execution_count": 9
        }
      ]
    },
    {
      "cell_type": "code",
      "source": [
        "# creado una columna extra para clasificar\n",
        "data_2 = (data\n",
        " .assign(class_format = np.select(\n",
        "     [data[\"format_ol\"].astype(bool), data[\"format_blended\"].astype(bool)],\n",
        "     [\"online\", \"blended\"],\n",
        "     default=\"face_to_face\" #create a new variable\n",
        " ))) #group by the new variable (treatments)"
      ],
      "metadata": {
        "id": "0iv_RGhXOPog"
      },
      "execution_count": 10,
      "outputs": []
    },
    {
      "cell_type": "code",
      "source": [
        "data_2"
      ],
      "metadata": {
        "colab": {
          "base_uri": "https://localhost:8080/",
          "height": 424
        },
        "id": "vzN4Lbn1Oa5c",
        "outputId": "6087ad9f-2606-4988-ba98-904862d93094"
      },
      "execution_count": 11,
      "outputs": [
        {
          "output_type": "execute_result",
          "data": {
            "text/plain": [
              "     gender  asian  black  hawaiian  hispanic  unknown  white  format_ol  \\\n",
              "0         0    0.0    0.0       0.0       0.0      0.0    1.0          0   \n",
              "1         1    0.0    0.0       0.0       0.0      0.0    1.0          0   \n",
              "2         1    0.0    0.0       0.0       0.0      0.0    1.0          0   \n",
              "3         1    0.0    0.0       0.0       0.0      0.0    1.0          0   \n",
              "4         1    0.0    0.0       0.0       0.0      0.0    1.0          1   \n",
              "..      ...    ...    ...       ...       ...      ...    ...        ...   \n",
              "318       0    0.0    0.0       0.0       0.0      0.0    1.0          0   \n",
              "319       1    NaN    NaN       NaN       NaN      NaN    NaN          1   \n",
              "320       0    NaN    NaN       NaN       NaN      NaN    NaN          1   \n",
              "321       1    NaN    NaN       NaN       NaN      NaN    NaN          1   \n",
              "322       1    0.0    0.0       0.0       0.0      0.0    1.0          0   \n",
              "\n",
              "     format_blended  falsexam  class_format  \n",
              "0               0.0  63.29997  face_to_face  \n",
              "1               0.0  79.96000  face_to_face  \n",
              "2               1.0  83.37000       blended  \n",
              "3               1.0  90.01994       blended  \n",
              "4               0.0  83.30000        online  \n",
              "..              ...       ...           ...  \n",
              "318             1.0  68.36000       blended  \n",
              "319             0.0  70.05000        online  \n",
              "320             0.0  66.69000        online  \n",
              "321             0.0  83.29997        online  \n",
              "322             1.0  96.68000       blended  \n",
              "\n",
              "[323 rows x 11 columns]"
            ],
            "text/html": [
              "\n",
              "  <div id=\"df-f79f956d-155e-4999-870f-4faccefa9e82\">\n",
              "    <div class=\"colab-df-container\">\n",
              "      <div>\n",
              "<style scoped>\n",
              "    .dataframe tbody tr th:only-of-type {\n",
              "        vertical-align: middle;\n",
              "    }\n",
              "\n",
              "    .dataframe tbody tr th {\n",
              "        vertical-align: top;\n",
              "    }\n",
              "\n",
              "    .dataframe thead th {\n",
              "        text-align: right;\n",
              "    }\n",
              "</style>\n",
              "<table border=\"1\" class=\"dataframe\">\n",
              "  <thead>\n",
              "    <tr style=\"text-align: right;\">\n",
              "      <th></th>\n",
              "      <th>gender</th>\n",
              "      <th>asian</th>\n",
              "      <th>black</th>\n",
              "      <th>hawaiian</th>\n",
              "      <th>hispanic</th>\n",
              "      <th>unknown</th>\n",
              "      <th>white</th>\n",
              "      <th>format_ol</th>\n",
              "      <th>format_blended</th>\n",
              "      <th>falsexam</th>\n",
              "      <th>class_format</th>\n",
              "    </tr>\n",
              "  </thead>\n",
              "  <tbody>\n",
              "    <tr>\n",
              "      <th>0</th>\n",
              "      <td>0</td>\n",
              "      <td>0.0</td>\n",
              "      <td>0.0</td>\n",
              "      <td>0.0</td>\n",
              "      <td>0.0</td>\n",
              "      <td>0.0</td>\n",
              "      <td>1.0</td>\n",
              "      <td>0</td>\n",
              "      <td>0.0</td>\n",
              "      <td>63.29997</td>\n",
              "      <td>face_to_face</td>\n",
              "    </tr>\n",
              "    <tr>\n",
              "      <th>1</th>\n",
              "      <td>1</td>\n",
              "      <td>0.0</td>\n",
              "      <td>0.0</td>\n",
              "      <td>0.0</td>\n",
              "      <td>0.0</td>\n",
              "      <td>0.0</td>\n",
              "      <td>1.0</td>\n",
              "      <td>0</td>\n",
              "      <td>0.0</td>\n",
              "      <td>79.96000</td>\n",
              "      <td>face_to_face</td>\n",
              "    </tr>\n",
              "    <tr>\n",
              "      <th>2</th>\n",
              "      <td>1</td>\n",
              "      <td>0.0</td>\n",
              "      <td>0.0</td>\n",
              "      <td>0.0</td>\n",
              "      <td>0.0</td>\n",
              "      <td>0.0</td>\n",
              "      <td>1.0</td>\n",
              "      <td>0</td>\n",
              "      <td>1.0</td>\n",
              "      <td>83.37000</td>\n",
              "      <td>blended</td>\n",
              "    </tr>\n",
              "    <tr>\n",
              "      <th>3</th>\n",
              "      <td>1</td>\n",
              "      <td>0.0</td>\n",
              "      <td>0.0</td>\n",
              "      <td>0.0</td>\n",
              "      <td>0.0</td>\n",
              "      <td>0.0</td>\n",
              "      <td>1.0</td>\n",
              "      <td>0</td>\n",
              "      <td>1.0</td>\n",
              "      <td>90.01994</td>\n",
              "      <td>blended</td>\n",
              "    </tr>\n",
              "    <tr>\n",
              "      <th>4</th>\n",
              "      <td>1</td>\n",
              "      <td>0.0</td>\n",
              "      <td>0.0</td>\n",
              "      <td>0.0</td>\n",
              "      <td>0.0</td>\n",
              "      <td>0.0</td>\n",
              "      <td>1.0</td>\n",
              "      <td>1</td>\n",
              "      <td>0.0</td>\n",
              "      <td>83.30000</td>\n",
              "      <td>online</td>\n",
              "    </tr>\n",
              "    <tr>\n",
              "      <th>...</th>\n",
              "      <td>...</td>\n",
              "      <td>...</td>\n",
              "      <td>...</td>\n",
              "      <td>...</td>\n",
              "      <td>...</td>\n",
              "      <td>...</td>\n",
              "      <td>...</td>\n",
              "      <td>...</td>\n",
              "      <td>...</td>\n",
              "      <td>...</td>\n",
              "      <td>...</td>\n",
              "    </tr>\n",
              "    <tr>\n",
              "      <th>318</th>\n",
              "      <td>0</td>\n",
              "      <td>0.0</td>\n",
              "      <td>0.0</td>\n",
              "      <td>0.0</td>\n",
              "      <td>0.0</td>\n",
              "      <td>0.0</td>\n",
              "      <td>1.0</td>\n",
              "      <td>0</td>\n",
              "      <td>1.0</td>\n",
              "      <td>68.36000</td>\n",
              "      <td>blended</td>\n",
              "    </tr>\n",
              "    <tr>\n",
              "      <th>319</th>\n",
              "      <td>1</td>\n",
              "      <td>NaN</td>\n",
              "      <td>NaN</td>\n",
              "      <td>NaN</td>\n",
              "      <td>NaN</td>\n",
              "      <td>NaN</td>\n",
              "      <td>NaN</td>\n",
              "      <td>1</td>\n",
              "      <td>0.0</td>\n",
              "      <td>70.05000</td>\n",
              "      <td>online</td>\n",
              "    </tr>\n",
              "    <tr>\n",
              "      <th>320</th>\n",
              "      <td>0</td>\n",
              "      <td>NaN</td>\n",
              "      <td>NaN</td>\n",
              "      <td>NaN</td>\n",
              "      <td>NaN</td>\n",
              "      <td>NaN</td>\n",
              "      <td>NaN</td>\n",
              "      <td>1</td>\n",
              "      <td>0.0</td>\n",
              "      <td>66.69000</td>\n",
              "      <td>online</td>\n",
              "    </tr>\n",
              "    <tr>\n",
              "      <th>321</th>\n",
              "      <td>1</td>\n",
              "      <td>NaN</td>\n",
              "      <td>NaN</td>\n",
              "      <td>NaN</td>\n",
              "      <td>NaN</td>\n",
              "      <td>NaN</td>\n",
              "      <td>NaN</td>\n",
              "      <td>1</td>\n",
              "      <td>0.0</td>\n",
              "      <td>83.29997</td>\n",
              "      <td>online</td>\n",
              "    </tr>\n",
              "    <tr>\n",
              "      <th>322</th>\n",
              "      <td>1</td>\n",
              "      <td>0.0</td>\n",
              "      <td>0.0</td>\n",
              "      <td>0.0</td>\n",
              "      <td>0.0</td>\n",
              "      <td>0.0</td>\n",
              "      <td>1.0</td>\n",
              "      <td>0</td>\n",
              "      <td>1.0</td>\n",
              "      <td>96.68000</td>\n",
              "      <td>blended</td>\n",
              "    </tr>\n",
              "  </tbody>\n",
              "</table>\n",
              "<p>323 rows × 11 columns</p>\n",
              "</div>\n",
              "      <button class=\"colab-df-convert\" onclick=\"convertToInteractive('df-f79f956d-155e-4999-870f-4faccefa9e82')\"\n",
              "              title=\"Convert this dataframe to an interactive table.\"\n",
              "              style=\"display:none;\">\n",
              "        \n",
              "  <svg xmlns=\"http://www.w3.org/2000/svg\" height=\"24px\"viewBox=\"0 0 24 24\"\n",
              "       width=\"24px\">\n",
              "    <path d=\"M0 0h24v24H0V0z\" fill=\"none\"/>\n",
              "    <path d=\"M18.56 5.44l.94 2.06.94-2.06 2.06-.94-2.06-.94-.94-2.06-.94 2.06-2.06.94zm-11 1L8.5 8.5l.94-2.06 2.06-.94-2.06-.94L8.5 2.5l-.94 2.06-2.06.94zm10 10l.94 2.06.94-2.06 2.06-.94-2.06-.94-.94-2.06-.94 2.06-2.06.94z\"/><path d=\"M17.41 7.96l-1.37-1.37c-.4-.4-.92-.59-1.43-.59-.52 0-1.04.2-1.43.59L10.3 9.45l-7.72 7.72c-.78.78-.78 2.05 0 2.83L4 21.41c.39.39.9.59 1.41.59.51 0 1.02-.2 1.41-.59l7.78-7.78 2.81-2.81c.8-.78.8-2.07 0-2.86zM5.41 20L4 18.59l7.72-7.72 1.47 1.35L5.41 20z\"/>\n",
              "  </svg>\n",
              "      </button>\n",
              "      \n",
              "  <style>\n",
              "    .colab-df-container {\n",
              "      display:flex;\n",
              "      flex-wrap:wrap;\n",
              "      gap: 12px;\n",
              "    }\n",
              "\n",
              "    .colab-df-convert {\n",
              "      background-color: #E8F0FE;\n",
              "      border: none;\n",
              "      border-radius: 50%;\n",
              "      cursor: pointer;\n",
              "      display: none;\n",
              "      fill: #1967D2;\n",
              "      height: 32px;\n",
              "      padding: 0 0 0 0;\n",
              "      width: 32px;\n",
              "    }\n",
              "\n",
              "    .colab-df-convert:hover {\n",
              "      background-color: #E2EBFA;\n",
              "      box-shadow: 0px 1px 2px rgba(60, 64, 67, 0.3), 0px 1px 3px 1px rgba(60, 64, 67, 0.15);\n",
              "      fill: #174EA6;\n",
              "    }\n",
              "\n",
              "    [theme=dark] .colab-df-convert {\n",
              "      background-color: #3B4455;\n",
              "      fill: #D2E3FC;\n",
              "    }\n",
              "\n",
              "    [theme=dark] .colab-df-convert:hover {\n",
              "      background-color: #434B5C;\n",
              "      box-shadow: 0px 1px 3px 1px rgba(0, 0, 0, 0.15);\n",
              "      filter: drop-shadow(0px 1px 2px rgba(0, 0, 0, 0.3));\n",
              "      fill: #FFFFFF;\n",
              "    }\n",
              "  </style>\n",
              "\n",
              "      <script>\n",
              "        const buttonEl =\n",
              "          document.querySelector('#df-f79f956d-155e-4999-870f-4faccefa9e82 button.colab-df-convert');\n",
              "        buttonEl.style.display =\n",
              "          google.colab.kernel.accessAllowed ? 'block' : 'none';\n",
              "\n",
              "        async function convertToInteractive(key) {\n",
              "          const element = document.querySelector('#df-f79f956d-155e-4999-870f-4faccefa9e82');\n",
              "          const dataTable =\n",
              "            await google.colab.kernel.invokeFunction('convertToInteractive',\n",
              "                                                     [key], {});\n",
              "          if (!dataTable) return;\n",
              "\n",
              "          const docLinkHtml = 'Like what you see? Visit the ' +\n",
              "            '<a target=\"_blank\" href=https://colab.research.google.com/notebooks/data_table.ipynb>data table notebook</a>'\n",
              "            + ' to learn more about interactive tables.';\n",
              "          element.innerHTML = '';\n",
              "          dataTable['output_type'] = 'display_data';\n",
              "          await google.colab.output.renderOutput(dataTable, element);\n",
              "          const docLink = document.createElement('div');\n",
              "          docLink.innerHTML = docLinkHtml;\n",
              "          element.appendChild(docLink);\n",
              "        }\n",
              "      </script>\n",
              "    </div>\n",
              "  </div>\n",
              "  "
            ]
          },
          "metadata": {},
          "execution_count": 11
        }
      ]
    },
    {
      "cell_type": "code",
      "source": [
        "data_2.groupby([\"class_format\"]).mean() #get the exam's mean"
      ],
      "metadata": {
        "colab": {
          "base_uri": "https://localhost:8080/",
          "height": 175
        },
        "id": "ZvQ24y3fRzHZ",
        "outputId": "0407fbc9-aea9-4bd0-fc43-6d326ac079c7"
      },
      "execution_count": 23,
      "outputs": [
        {
          "output_type": "execute_result",
          "data": {
            "text/plain": [
              "                gender     asian     black  hawaiian  hispanic   unknown  \\\n",
              "class_format                                                               \n",
              "blended       0.550459  0.217949  0.102564  0.025641  0.012821  0.012821   \n",
              "face_to_face  0.633333  0.202020  0.070707  0.000000  0.010101  0.000000   \n",
              "online        0.542553  0.228571  0.028571  0.014286  0.028571  0.000000   \n",
              "\n",
              "                 white  format_ol  format_blended   falsexam  \n",
              "class_format                                                  \n",
              "blended       0.628205        0.0             1.0  77.093731  \n",
              "face_to_face  0.717172        0.0             0.0  78.547485  \n",
              "online        0.700000        1.0             0.0  73.635263  "
            ],
            "text/html": [
              "\n",
              "  <div id=\"df-6ca1aa7b-9a6e-4838-9d52-0072870daea9\">\n",
              "    <div class=\"colab-df-container\">\n",
              "      <div>\n",
              "<style scoped>\n",
              "    .dataframe tbody tr th:only-of-type {\n",
              "        vertical-align: middle;\n",
              "    }\n",
              "\n",
              "    .dataframe tbody tr th {\n",
              "        vertical-align: top;\n",
              "    }\n",
              "\n",
              "    .dataframe thead th {\n",
              "        text-align: right;\n",
              "    }\n",
              "</style>\n",
              "<table border=\"1\" class=\"dataframe\">\n",
              "  <thead>\n",
              "    <tr style=\"text-align: right;\">\n",
              "      <th></th>\n",
              "      <th>gender</th>\n",
              "      <th>asian</th>\n",
              "      <th>black</th>\n",
              "      <th>hawaiian</th>\n",
              "      <th>hispanic</th>\n",
              "      <th>unknown</th>\n",
              "      <th>white</th>\n",
              "      <th>format_ol</th>\n",
              "      <th>format_blended</th>\n",
              "      <th>falsexam</th>\n",
              "    </tr>\n",
              "    <tr>\n",
              "      <th>class_format</th>\n",
              "      <th></th>\n",
              "      <th></th>\n",
              "      <th></th>\n",
              "      <th></th>\n",
              "      <th></th>\n",
              "      <th></th>\n",
              "      <th></th>\n",
              "      <th></th>\n",
              "      <th></th>\n",
              "      <th></th>\n",
              "    </tr>\n",
              "  </thead>\n",
              "  <tbody>\n",
              "    <tr>\n",
              "      <th>blended</th>\n",
              "      <td>0.550459</td>\n",
              "      <td>0.217949</td>\n",
              "      <td>0.102564</td>\n",
              "      <td>0.025641</td>\n",
              "      <td>0.012821</td>\n",
              "      <td>0.012821</td>\n",
              "      <td>0.628205</td>\n",
              "      <td>0.0</td>\n",
              "      <td>1.0</td>\n",
              "      <td>77.093731</td>\n",
              "    </tr>\n",
              "    <tr>\n",
              "      <th>face_to_face</th>\n",
              "      <td>0.633333</td>\n",
              "      <td>0.202020</td>\n",
              "      <td>0.070707</td>\n",
              "      <td>0.000000</td>\n",
              "      <td>0.010101</td>\n",
              "      <td>0.000000</td>\n",
              "      <td>0.717172</td>\n",
              "      <td>0.0</td>\n",
              "      <td>0.0</td>\n",
              "      <td>78.547485</td>\n",
              "    </tr>\n",
              "    <tr>\n",
              "      <th>online</th>\n",
              "      <td>0.542553</td>\n",
              "      <td>0.228571</td>\n",
              "      <td>0.028571</td>\n",
              "      <td>0.014286</td>\n",
              "      <td>0.028571</td>\n",
              "      <td>0.000000</td>\n",
              "      <td>0.700000</td>\n",
              "      <td>1.0</td>\n",
              "      <td>0.0</td>\n",
              "      <td>73.635263</td>\n",
              "    </tr>\n",
              "  </tbody>\n",
              "</table>\n",
              "</div>\n",
              "      <button class=\"colab-df-convert\" onclick=\"convertToInteractive('df-6ca1aa7b-9a6e-4838-9d52-0072870daea9')\"\n",
              "              title=\"Convert this dataframe to an interactive table.\"\n",
              "              style=\"display:none;\">\n",
              "        \n",
              "  <svg xmlns=\"http://www.w3.org/2000/svg\" height=\"24px\"viewBox=\"0 0 24 24\"\n",
              "       width=\"24px\">\n",
              "    <path d=\"M0 0h24v24H0V0z\" fill=\"none\"/>\n",
              "    <path d=\"M18.56 5.44l.94 2.06.94-2.06 2.06-.94-2.06-.94-.94-2.06-.94 2.06-2.06.94zm-11 1L8.5 8.5l.94-2.06 2.06-.94-2.06-.94L8.5 2.5l-.94 2.06-2.06.94zm10 10l.94 2.06.94-2.06 2.06-.94-2.06-.94-.94-2.06-.94 2.06-2.06.94z\"/><path d=\"M17.41 7.96l-1.37-1.37c-.4-.4-.92-.59-1.43-.59-.52 0-1.04.2-1.43.59L10.3 9.45l-7.72 7.72c-.78.78-.78 2.05 0 2.83L4 21.41c.39.39.9.59 1.41.59.51 0 1.02-.2 1.41-.59l7.78-7.78 2.81-2.81c.8-.78.8-2.07 0-2.86zM5.41 20L4 18.59l7.72-7.72 1.47 1.35L5.41 20z\"/>\n",
              "  </svg>\n",
              "      </button>\n",
              "      \n",
              "  <style>\n",
              "    .colab-df-container {\n",
              "      display:flex;\n",
              "      flex-wrap:wrap;\n",
              "      gap: 12px;\n",
              "    }\n",
              "\n",
              "    .colab-df-convert {\n",
              "      background-color: #E8F0FE;\n",
              "      border: none;\n",
              "      border-radius: 50%;\n",
              "      cursor: pointer;\n",
              "      display: none;\n",
              "      fill: #1967D2;\n",
              "      height: 32px;\n",
              "      padding: 0 0 0 0;\n",
              "      width: 32px;\n",
              "    }\n",
              "\n",
              "    .colab-df-convert:hover {\n",
              "      background-color: #E2EBFA;\n",
              "      box-shadow: 0px 1px 2px rgba(60, 64, 67, 0.3), 0px 1px 3px 1px rgba(60, 64, 67, 0.15);\n",
              "      fill: #174EA6;\n",
              "    }\n",
              "\n",
              "    [theme=dark] .colab-df-convert {\n",
              "      background-color: #3B4455;\n",
              "      fill: #D2E3FC;\n",
              "    }\n",
              "\n",
              "    [theme=dark] .colab-df-convert:hover {\n",
              "      background-color: #434B5C;\n",
              "      box-shadow: 0px 1px 3px 1px rgba(0, 0, 0, 0.15);\n",
              "      filter: drop-shadow(0px 1px 2px rgba(0, 0, 0, 0.3));\n",
              "      fill: #FFFFFF;\n",
              "    }\n",
              "  </style>\n",
              "\n",
              "      <script>\n",
              "        const buttonEl =\n",
              "          document.querySelector('#df-6ca1aa7b-9a6e-4838-9d52-0072870daea9 button.colab-df-convert');\n",
              "        buttonEl.style.display =\n",
              "          google.colab.kernel.accessAllowed ? 'block' : 'none';\n",
              "\n",
              "        async function convertToInteractive(key) {\n",
              "          const element = document.querySelector('#df-6ca1aa7b-9a6e-4838-9d52-0072870daea9');\n",
              "          const dataTable =\n",
              "            await google.colab.kernel.invokeFunction('convertToInteractive',\n",
              "                                                     [key], {});\n",
              "          if (!dataTable) return;\n",
              "\n",
              "          const docLinkHtml = 'Like what you see? Visit the ' +\n",
              "            '<a target=\"_blank\" href=https://colab.research.google.com/notebooks/data_table.ipynb>data table notebook</a>'\n",
              "            + ' to learn more about interactive tables.';\n",
              "          element.innerHTML = '';\n",
              "          dataTable['output_type'] = 'display_data';\n",
              "          await google.colab.output.renderOutput(dataTable, element);\n",
              "          const docLink = document.createElement('div');\n",
              "          docLink.innerHTML = docLinkHtml;\n",
              "          element.appendChild(docLink);\n",
              "        }\n",
              "      </script>\n",
              "    </div>\n",
              "  </div>\n",
              "  "
            ]
          },
          "metadata": {},
          "execution_count": 23
        }
      ]
    },
    {
      "cell_type": "code",
      "source": [
        "#Ploteamos un histograma que compare las tres modalides de estudio (grupal)\n",
        "sns.displot(data_2, x=\"falsexam\",hue=\"class_format\", element = \"step\")\n",
        "\n",
        "plt.title(\"Notas de acuerdo a la modalidad de estudio\", fontsize=14)\n",
        "plt.xlabel(\"$Notas$\", fontsize=16)"
      ],
      "metadata": {
        "colab": {
          "base_uri": "https://localhost:8080/",
          "height": 402
        },
        "id": "YospJdhJOeMF",
        "outputId": "aca2fe0e-417c-4659-d88a-4b9fc61bb226"
      },
      "execution_count": 18,
      "outputs": [
        {
          "output_type": "execute_result",
          "data": {
            "text/plain": [
              "Text(0.5, 8.95999999999998, '$Notas$')"
            ]
          },
          "metadata": {},
          "execution_count": 18
        },
        {
          "output_type": "display_data",
          "data": {
            "text/plain": [
              "<Figure size 469.225x360 with 1 Axes>"
            ],
            "image/png": "[encoded data removed]"
          },
          "metadata": {}
        }
      ]
    },
    {
      "cell_type": "markdown",
      "source": [
        "A partir de los histrogramas ploteados, podemos concluir que el promedio de notas de los alumnos que asistieron a clases presenciales (face to face = 78.54) es mayor a la de los alumnos que tomaron clases virtuales (online = 73.63) y a los alumnos que tomas clases híbridas; es decir, presenciales y virtuales a la vez (blended = 77.09). En este sentido, en el histograma grupal, donde aparecen las tres variables, se puede observar esta afirmación: las clases virtuales ocasionan mejores notas en los estudiantes."
      ],
      "metadata": {
        "id": "Bg_Ja8oIUa6G"
      }
    },
    {
      "cell_type": "code",
      "source": [
        "#Histogrmas por modalidades de estudio (por se parado)\n",
        "sns.displot(data=data_2, x=\"falsexam\", col=\"class_format\", shrink=0.8)"
      ],
      "metadata": {
        "colab": {
          "base_uri": "https://localhost:8080/",
          "height": 382
        },
        "id": "M6HLewD3T6U_",
        "outputId": "f6db7bb0-063a-4393-a6af-1ba1cf6d9c10"
      },
      "execution_count": 24,
      "outputs": [
        {
          "output_type": "execute_result",
          "data": {
            "text/plain": [
              "<seaborn.axisgrid.FacetGrid at 0x7faf318fe990>"
            ]
          },
          "metadata": {},
          "execution_count": 24
        },
        {
          "output_type": "display_data",
          "data": {
            "text/plain": [
              "<Figure size 1080x360 with 3 Axes>"
            ],
            "image/png": "[encoded data removed]"
          },
          "metadata": {}
        }
      ]
    },
    {
      "cell_type": "markdown",
      "source": [
        "Difference-in-means estimator."
      ],
      "metadata": {
        "id": "txOCip26Uj4C"
      }
    },
    {
      "cell_type": "code",
      "source": [
        "#Creación de listas\n",
        "class_format = [\"face_to_face\",\"online\"]\n",
        "format_ol= [0.0,1.0]\n",
        "format_face_to_face= [1.0,0.0]\n",
        "falsexam= [78.547485,73.635263]\n"
      ],
      "metadata": {
        "id": "l2NoEK4zUjXL"
      },
      "execution_count": 26,
      "outputs": []
    },
    {
      "cell_type": "code",
      "source": [
        "# generar un diccionario\n",
        "grades = {\"Class_format\": class_format, \"Format_ol\":format_ol, \"Format_face_to_face\":format_face_to_face, \"Falsexam\":falsexam}\n",
        "grades"
      ],
      "metadata": {
        "colab": {
          "base_uri": "https://localhost:8080/"
        },
        "id": "RHzw9a1CVmAx",
        "outputId": "ff7c080d-92bf-4c59-9556-092ea45b04f5"
      },
      "execution_count": 27,
      "outputs": [
        {
          "output_type": "execute_result",
          "data": {
            "text/plain": [
              "{'Class_format': ['face_to_face', 'online'],\n",
              " 'Format_ol': [0.0, 1.0],\n",
              " 'Format_face_to_face': [1.0, 0.0],\n",
              " 'Falsexam': [78.547485, 73.635263]}"
            ]
          },
          "metadata": {},
          "execution_count": 27
        }
      ]
    },
    {
      "cell_type": "code",
      "source": [
        "data_3 = pd.DataFrame(grades) # nombre_data = pd.DataFrame(diccionario)\n",
        "data_3"
      ],
      "metadata": {
        "colab": {
          "base_uri": "https://localhost:8080/",
          "height": 112
        },
        "id": "NQY8YO9BV6sa",
        "outputId": "713fbcf4-b4c3-4d9c-8796-4988b8d85a90"
      },
      "execution_count": 28,
      "outputs": [
        {
          "output_type": "execute_result",
          "data": {
            "text/plain": [
              "   Class_format  Format_ol  Format_face_to_face   Falsexam\n",
              "0  face_to_face        0.0                  1.0  78.547485\n",
              "1        online        1.0                  0.0  73.635263"
            ],
            "text/html": [
              "\n",
              "  <div id=\"df-2f0b3412-5762-4caf-b801-596df8844016\">\n",
              "    <div class=\"colab-df-container\">\n",
              "      <div>\n",
              "<style scoped>\n",
              "    .dataframe tbody tr th:only-of-type {\n",
              "        vertical-align: middle;\n",
              "    }\n",
              "\n",
              "    .dataframe tbody tr th {\n",
              "        vertical-align: top;\n",
              "    }\n",
              "\n",
              "    .dataframe thead th {\n",
              "        text-align: right;\n",
              "    }\n",
              "</style>\n",
              "<table border=\"1\" class=\"dataframe\">\n",
              "  <thead>\n",
              "    <tr style=\"text-align: right;\">\n",
              "      <th></th>\n",
              "      <th>Class_format</th>\n",
              "      <th>Format_ol</th>\n",
              "      <th>Format_face_to_face</th>\n",
              "      <th>Falsexam</th>\n",
              "    </tr>\n",
              "  </thead>\n",
              "  <tbody>\n",
              "    <tr>\n",
              "      <th>0</th>\n",
              "      <td>face_to_face</td>\n",
              "      <td>0.0</td>\n",
              "      <td>1.0</td>\n",
              "      <td>78.547485</td>\n",
              "    </tr>\n",
              "    <tr>\n",
              "      <th>1</th>\n",
              "      <td>online</td>\n",
              "      <td>1.0</td>\n",
              "      <td>0.0</td>\n",
              "      <td>73.635263</td>\n",
              "    </tr>\n",
              "  </tbody>\n",
              "</table>\n",
              "</div>\n",
              "      <button class=\"colab-df-convert\" onclick=\"convertToInteractive('df-2f0b3412-5762-4caf-b801-596df8844016')\"\n",
              "              title=\"Convert this dataframe to an interactive table.\"\n",
              "              style=\"display:none;\">\n",
              "        \n",
              "  <svg xmlns=\"http://www.w3.org/2000/svg\" height=\"24px\"viewBox=\"0 0 24 24\"\n",
              "       width=\"24px\">\n",
              "    <path d=\"M0 0h24v24H0V0z\" fill=\"none\"/>\n",
              "    <path d=\"M18.56 5.44l.94 2.06.94-2.06 2.06-.94-2.06-.94-.94-2.06-.94 2.06-2.06.94zm-11 1L8.5 8.5l.94-2.06 2.06-.94-2.06-.94L8.5 2.5l-.94 2.06-2.06.94zm10 10l.94 2.06.94-2.06 2.06-.94-2.06-.94-.94-2.06-.94 2.06-2.06.94z\"/><path d=\"M17.41 7.96l-1.37-1.37c-.4-.4-.92-.59-1.43-.59-.52 0-1.04.2-1.43.59L10.3 9.45l-7.72 7.72c-.78.78-.78 2.05 0 2.83L4 21.41c.39.39.9.59 1.41.59.51 0 1.02-.2 1.41-.59l7.78-7.78 2.81-2.81c.8-.78.8-2.07 0-2.86zM5.41 20L4 18.59l7.72-7.72 1.47 1.35L5.41 20z\"/>\n",
              "  </svg>\n",
              "      </button>\n",
              "      \n",
              "  <style>\n",
              "    .colab-df-container {\n",
              "      display:flex;\n",
              "      flex-wrap:wrap;\n",
              "      gap: 12px;\n",
              "    }\n",
              "\n",
              "    .colab-df-convert {\n",
              "      background-color: #E8F0FE;\n",
              "      border: none;\n",
              "      border-radius: 50%;\n",
              "      cursor: pointer;\n",
              "      display: none;\n",
              "      fill: #1967D2;\n",
              "      height: 32px;\n",
              "      padding: 0 0 0 0;\n",
              "      width: 32px;\n",
              "    }\n",
              "\n",
              "    .colab-df-convert:hover {\n",
              "      background-color: #E2EBFA;\n",
              "      box-shadow: 0px 1px 2px rgba(60, 64, 67, 0.3), 0px 1px 3px 1px rgba(60, 64, 67, 0.15);\n",
              "      fill: #174EA6;\n",
              "    }\n",
              "\n",
              "    [theme=dark] .colab-df-convert {\n",
              "      background-color: #3B4455;\n",
              "      fill: #D2E3FC;\n",
              "    }\n",
              "\n",
              "    [theme=dark] .colab-df-convert:hover {\n",
              "      background-color: #434B5C;\n",
              "      box-shadow: 0px 1px 3px 1px rgba(0, 0, 0, 0.15);\n",
              "      filter: drop-shadow(0px 1px 2px rgba(0, 0, 0, 0.3));\n",
              "      fill: #FFFFFF;\n",
              "    }\n",
              "  </style>\n",
              "\n",
              "      <script>\n",
              "        const buttonEl =\n",
              "          document.querySelector('#df-2f0b3412-5762-4caf-b801-596df8844016 button.colab-df-convert');\n",
              "        buttonEl.style.display =\n",
              "          google.colab.kernel.accessAllowed ? 'block' : 'none';\n",
              "\n",
              "        async function convertToInteractive(key) {\n",
              "          const element = document.querySelector('#df-2f0b3412-5762-4caf-b801-596df8844016');\n",
              "          const dataTable =\n",
              "            await google.colab.kernel.invokeFunction('convertToInteractive',\n",
              "                                                     [key], {});\n",
              "          if (!dataTable) return;\n",
              "\n",
              "          const docLinkHtml = 'Like what you see? Visit the ' +\n",
              "            '<a target=\"_blank\" href=https://colab.research.google.com/notebooks/data_table.ipynb>data table notebook</a>'\n",
              "            + ' to learn more about interactive tables.';\n",
              "          element.innerHTML = '';\n",
              "          dataTable['output_type'] = 'display_data';\n",
              "          await google.colab.output.renderOutput(dataTable, element);\n",
              "          const docLink = document.createElement('div');\n",
              "          docLink.innerHTML = docLinkHtml;\n",
              "          element.appendChild(docLink);\n",
              "        }\n",
              "      </script>\n",
              "    </div>\n",
              "  </div>\n",
              "  "
            ]
          },
          "metadata": {},
          "execution_count": 28
        }
      ]
    },
    {
      "cell_type": "code",
      "source": [
        "# Y(1)- Y(0) = ATE Average Treatment Effect - Causal \n",
        "# Y(1) -> online, Y(0) -> face_to_face\n",
        "73.635263 - 78.547485"
      ],
      "metadata": {
        "colab": {
          "base_uri": "https://localhost:8080/"
        },
        "id": "EySKQgQ0WRv5",
        "outputId": "323a1663-5524-4fac-d266-f06c6fa6c598"
      },
      "execution_count": 29,
      "outputs": [
        {
          "output_type": "execute_result",
          "data": {
            "text/plain": [
              "-4.912222"
            ]
          },
          "metadata": {},
          "execution_count": 29
        }
      ]
    },
    {
      "cell_type": "markdown",
      "source": [
        "¿Cuál es su interpretación del resultado encontrado?\n",
        "\n",
        "Podemos ver que las clases presenciales obtienen una puntuación media de 78,54, mientras que los cursos en línea obtienen una puntuación media de 73,63. No son tan buenas noticias para los defensores del aprendizaje en línea. Así, el TCA de una clase en línea es de -4,91. Esto significa que las clases en línea hacen que los estudiantes rindan unos 5 puntos menos, de media."
      ],
      "metadata": {
        "id": "6KGSOU1HWg8e"
      }
    },
    {
      "cell_type": "markdown",
      "source": [
        "**Difference-in-means estimator via linear regression**\n",
        "\n"
      ],
      "metadata": {
        "id": "Zs67Y8gVW3JU"
      }
    },
    {
      "cell_type": "code",
      "source": [
        "result = smf.ols('falsexam ~ format_ol', data=data).fit()\n",
        "result.summary().tables[1]"
      ],
      "metadata": {
        "colab": {
          "base_uri": "https://localhost:8080/",
          "height": 81
        },
        "id": "EYnsWd12ZZ6y",
        "outputId": "e5e36de6-302f-4804-dfd5-4232d97550de"
      },
      "execution_count": 30,
      "outputs": [
        {
          "output_type": "execute_result",
          "data": {
            "text/plain": [
              "<class 'statsmodels.iolib.table.SimpleTable'>"
            ],
            "text/html": [
              "<table class=\"simpletable\">\n",
              "<tr>\n",
              "      <td></td>         <th>coef</th>     <th>std err</th>      <th>t</th>      <th>P>|t|</th>  <th>[0.025</th>    <th>0.975]</th>  \n",
              "</tr>\n",
              "<tr>\n",
              "  <th>Intercept</th> <td>   77.8555</td> <td>    0.762</td> <td>  102.235</td> <td> 0.000</td> <td>   76.357</td> <td>   79.354</td>\n",
              "</tr>\n",
              "<tr>\n",
              "  <th>format_ol</th> <td>   -4.2203</td> <td>    1.412</td> <td>   -2.990</td> <td> 0.003</td> <td>   -6.998</td> <td>   -1.443</td>\n",
              "</tr>\n",
              "</table>"
            ]
          },
          "metadata": {},
          "execution_count": 30
        }
      ]
    },
    {
      "cell_type": "code",
      "source": [
        "(data\n",
        " .groupby(\"format_ol\")\n",
        " [\"falsexam\"]\n",
        " .mean())"
      ],
      "metadata": {
        "colab": {
          "base_uri": "https://localhost:8080/"
        },
        "id": "4suCoZWqZbsk",
        "outputId": "52c937b2-281f-40a1-9725-3929c7d963cb"
      },
      "execution_count": 31,
      "outputs": [
        {
          "output_type": "execute_result",
          "data": {
            "text/plain": [
              "format_ol\n",
              "0    77.855523\n",
              "1    73.635263\n",
              "Name: falsexam, dtype: float64"
            ]
          },
          "metadata": {},
          "execution_count": 31
        }
      ]
    },
    {
      "cell_type": "markdown",
      "source": [
        "Se realiza una regresión lineal, considerando  Y = Las notas, T = Dummy creada para el tipo de clase.\n",
        "\n",
        "Y = beta_0 + beta_1*T + e. \n",
        "\n",
        "El valor que encuentren para beta_1 es el average treatment effect que debería ser igual al Difference-in-means estimator encontrado arriba."
      ],
      "metadata": {
        "id": "mr4OpAqXZoKb"
      }
    },
    {
      "cell_type": "code",
      "source": [
        "X = data[[\"format_ol\"]].assign(intercep=1)\n",
        "y = data[\"falsexam\"]\n",
        "\n",
        "def regress(y, X): \n",
        "    return np.linalg.inv(X.T.dot(X)).dot(X.T.dot(y))\n",
        "\n",
        "beta = regress(y, X)\n",
        "beta"
      ],
      "metadata": {
        "colab": {
          "base_uri": "https://localhost:8080/"
        },
        "id": "r7JegC95Z8lb",
        "outputId": "f9c5a1e0-ba49-4193-acd3-737c12303f0f"
      },
      "execution_count": 32,
      "outputs": [
        {
          "output_type": "execute_result",
          "data": {
            "text/plain": [
              "array([-4.22026036, 77.85552345])"
            ]
          },
          "metadata": {},
          "execution_count": 32
        }
      ]
    },
    {
      "cell_type": "code",
      "source": [
        "from os import killpg\n",
        "Resultado_1 = data[\"falsexam\"].cov(data[\"format_ol\"]) / data[\"format_ol\"].var()\n",
        "Resultado_1"
      ],
      "metadata": {
        "colab": {
          "base_uri": "https://localhost:8080/"
        },
        "id": "22dI6WZKaSge",
        "outputId": "f3e741cf-aa7c-40cb-fd54-141e5557bd2c"
      },
      "execution_count": 35,
      "outputs": [
        {
          "output_type": "execute_result",
          "data": {
            "text/plain": [
              "-4.220260364675276"
            ]
          },
          "metadata": {},
          "execution_count": 35
        }
      ]
    },
    {
      "cell_type": "code",
      "source": [
        "e = y - X.dot(beta)\n",
        "print(\"Orthogonality imply that the dot product is zero:\", np.dot(e, X))\n",
        "X[[\"format_ol\"]].assign(e=e).corr()"
      ],
      "metadata": {
        "colab": {
          "base_uri": "https://localhost:8080/",
          "height": 129
        },
        "id": "zdC4WSTvaqEG",
        "outputId": "ca795902-baf7-47dc-be72-5336f8a44384"
      },
      "execution_count": 36,
      "outputs": [
        {
          "output_type": "stream",
          "name": "stdout",
          "text": [
            "Orthogonality imply that the dot product is zero: [2.16004992e-12 5.88329385e-12]\n"
          ]
        },
        {
          "output_type": "execute_result",
          "data": {
            "text/plain": [
              "              format_ol             e\n",
              "format_ol  1.000000e+00  2.977210e-16\n",
              "e          2.977210e-16  1.000000e+00"
            ],
            "text/html": [
              "\n",
              "  <div id=\"df-b0abcd85-83bd-4ba7-a4d4-12b755fae4f3\">\n",
              "    <div class=\"colab-df-container\">\n",
              "      <div>\n",
              "<style scoped>\n",
              "    .dataframe tbody tr th:only-of-type {\n",
              "        vertical-align: middle;\n",
              "    }\n",
              "\n",
              "    .dataframe tbody tr th {\n",
              "        vertical-align: top;\n",
              "    }\n",
              "\n",
              "    .dataframe thead th {\n",
              "        text-align: right;\n",
              "    }\n",
              "</style>\n",
              "<table border=\"1\" class=\"dataframe\">\n",
              "  <thead>\n",
              "    <tr style=\"text-align: right;\">\n",
              "      <th></th>\n",
              "      <th>format_ol</th>\n",
              "      <th>e</th>\n",
              "    </tr>\n",
              "  </thead>\n",
              "  <tbody>\n",
              "    <tr>\n",
              "      <th>format_ol</th>\n",
              "      <td>1.000000e+00</td>\n",
              "      <td>2.977210e-16</td>\n",
              "    </tr>\n",
              "    <tr>\n",
              "      <th>e</th>\n",
              "      <td>2.977210e-16</td>\n",
              "      <td>1.000000e+00</td>\n",
              "    </tr>\n",
              "  </tbody>\n",
              "</table>\n",
              "</div>\n",
              "      <button class=\"colab-df-convert\" onclick=\"convertToInteractive('df-b0abcd85-83bd-4ba7-a4d4-12b755fae4f3')\"\n",
              "              title=\"Convert this dataframe to an interactive table.\"\n",
              "              style=\"display:none;\">\n",
              "        \n",
              "  <svg xmlns=\"http://www.w3.org/2000/svg\" height=\"24px\"viewBox=\"0 0 24 24\"\n",
              "       width=\"24px\">\n",
              "    <path d=\"M0 0h24v24H0V0z\" fill=\"none\"/>\n",
              "    <path d=\"M18.56 5.44l.94 2.06.94-2.06 2.06-.94-2.06-.94-.94-2.06-.94 2.06-2.06.94zm-11 1L8.5 8.5l.94-2.06 2.06-.94-2.06-.94L8.5 2.5l-.94 2.06-2.06.94zm10 10l.94 2.06.94-2.06 2.06-.94-2.06-.94-.94-2.06-.94 2.06-2.06.94z\"/><path d=\"M17.41 7.96l-1.37-1.37c-.4-.4-.92-.59-1.43-.59-.52 0-1.04.2-1.43.59L10.3 9.45l-7.72 7.72c-.78.78-.78 2.05 0 2.83L4 21.41c.39.39.9.59 1.41.59.51 0 1.02-.2 1.41-.59l7.78-7.78 2.81-2.81c.8-.78.8-2.07 0-2.86zM5.41 20L4 18.59l7.72-7.72 1.47 1.35L5.41 20z\"/>\n",
              "  </svg>\n",
              "      </button>\n",
              "      \n",
              "  <style>\n",
              "    .colab-df-container {\n",
              "      display:flex;\n",
              "      flex-wrap:wrap;\n",
              "      gap: 12px;\n",
              "    }\n",
              "\n",
              "    .colab-df-convert {\n",
              "      background-color: #E8F0FE;\n",
              "      border: none;\n",
              "      border-radius: 50%;\n",
              "      cursor: pointer;\n",
              "      display: none;\n",
              "      fill: #1967D2;\n",
              "      height: 32px;\n",
              "      padding: 0 0 0 0;\n",
              "      width: 32px;\n",
              "    }\n",
              "\n",
              "    .colab-df-convert:hover {\n",
              "      background-color: #E2EBFA;\n",
              "      box-shadow: 0px 1px 2px rgba(60, 64, 67, 0.3), 0px 1px 3px 1px rgba(60, 64, 67, 0.15);\n",
              "      fill: #174EA6;\n",
              "    }\n",
              "\n",
              "    [theme=dark] .colab-df-convert {\n",
              "      background-color: #3B4455;\n",
              "      fill: #D2E3FC;\n",
              "    }\n",
              "\n",
              "    [theme=dark] .colab-df-convert:hover {\n",
              "      background-color: #434B5C;\n",
              "      box-shadow: 0px 1px 3px 1px rgba(0, 0, 0, 0.15);\n",
              "      filter: drop-shadow(0px 1px 2px rgba(0, 0, 0, 0.3));\n",
              "      fill: #FFFFFF;\n",
              "    }\n",
              "  </style>\n",
              "\n",
              "      <script>\n",
              "        const buttonEl =\n",
              "          document.querySelector('#df-b0abcd85-83bd-4ba7-a4d4-12b755fae4f3 button.colab-df-convert');\n",
              "        buttonEl.style.display =\n",
              "          google.colab.kernel.accessAllowed ? 'block' : 'none';\n",
              "\n",
              "        async function convertToInteractive(key) {\n",
              "          const element = document.querySelector('#df-b0abcd85-83bd-4ba7-a4d4-12b755fae4f3');\n",
              "          const dataTable =\n",
              "            await google.colab.kernel.invokeFunction('convertToInteractive',\n",
              "                                                     [key], {});\n",
              "          if (!dataTable) return;\n",
              "\n",
              "          const docLinkHtml = 'Like what you see? Visit the ' +\n",
              "            '<a target=\"_blank\" href=https://colab.research.google.com/notebooks/data_table.ipynb>data table notebook</a>'\n",
              "            + ' to learn more about interactive tables.';\n",
              "          element.innerHTML = '';\n",
              "          dataTable['output_type'] = 'display_data';\n",
              "          await google.colab.output.renderOutput(dataTable, element);\n",
              "          const docLink = document.createElement('div');\n",
              "          docLink.innerHTML = docLinkHtml;\n",
              "          element.appendChild(docLink);\n",
              "        }\n",
              "      </script>\n",
              "    </div>\n",
              "  </div>\n",
              "  "
            ]
          },
          "metadata": {},
          "execution_count": 36
        }
      ]
    },
    {
      "cell_type": "markdown",
      "source": [
        "En este caso, la regresión lineal nos sirve para para aproximar la relación de dependencia entre una variable dependiente Y, m variables independientes X. En este caso,  querer estimar el impacto causal de una variable T en un resultado Y; las notas y la variable dummy. Las variables tiende a ser auxiliares, incluso si los incluimos en el modelo. Añadir otras variables puede ayudarnos a estimar el efecto causal del tratamiento."
      ],
      "metadata": {
        "id": "d17qVDt3bcRC"
      }
    }
  ]
}