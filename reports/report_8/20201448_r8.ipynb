{
 "cells": [
  {
   "cell_type": "markdown",
   "id": "d9d79feb",
   "metadata": {},
   "source": [
    "# Joaquin del Castillo Ugarte"
   ]
  },
  {
   "cell_type": "markdown",
   "id": "9121baf4",
   "metadata": {},
   "source": [
    "## Reporte de lectura:"
   ]
  },
  {
   "cell_type": "markdown",
   "id": "fe6a9282",
   "metadata": {},
   "source": [
    "El presente artículo titulado como “Los efectos persistentes de la mita minera en el Perú”, toma como base temporal a la época del virreinato. En este periodo se practicaba la mita, la cual consistía en trabajos forzados en las zonas Andinas (Perú y Bolivia). Los distritos en los cuales se impartía esta practica estaban obligados a brindar aproximadamente un séptimo de los hombres de su comunidad. No obstante, esta práctica solía practicarse en distritos cercanos a las minerias (para ahorrar gastos de transporte) y también en las zonas altas (había la creencia de que la gente que vivía en zonas altas tenía mayor fortaleza física). En base a esta pequeña introducción, la pregunta de investigación es ¿cúales son los efectos de largo plazo de la mita en las comunidades en donde se practicó? \n",
    "\n",
    "Ahora bien, las fortalezas de este trabajo son en primer lugar la correcta implementación de la regresión discontinua. Pues el autor comenta que tomó las previsiones para la correcta implementación de dicha regresión, la cual para ser efectiva necesita que todos sus factores, fuera del tratamiento, varíen moderadamente. Por esta razón, el autor comenta que solo se centró en la zona de la cordillera de los Andes en el sur peruano, pues esta tiene una altitud, distribución étnica, entre otros aspectos muy similares. Por otra parte, datos como la tributación local tampoco presentan mayores cambios. \n",
    "\n",
    "En segundo lugar, que sigue una estructura clara al momento de presentar su investigación, pues primero introduce con lenguaje sencillo qué vamos a encontrar en su texto, describiendo en parte a la mita y sus consecuencias y también esbozando su hipotesis sobre lo que encontraríamos en los resultados, diciendo, por ejemplo, que en zonas donde no se practicó la mita, hubo un mayor número de terratenientes, los cuales facilitaron la construcción de obras públicas, lo cual favoreció a todo el pueblo. Posteriomente, presenta la investigación y finalmente las conclusiones finales. Esta estructura y lenguaje simple seguido en el texto permite a todo tipo de lector poder comprender en todo momento el objetivo y el mensaje del paper. Finalmente, el apoyarse en literatura del tema es otra gran fortaleza, pues permite a sus resultados ganar una mayor validez, al estar respaldados por los estudios de otros autores. \n",
    "\n",
    "Por otro lado, como debilidad se puede identificar su falta de profundización del caso de la mita en Bolivia, pues si bien se concluye que la falta de hacendados en la zonas de mita generó que no haya una mayor realización de obras públicas en esas zonas, en consecuencia de que los hacendados tenían conexiones políticas para movilizar ese tipo de obras, ello podría ser diferente en el caso de Bolivia. Por ello estudiar y sacar conclusiones de este caso también hubiera sido importante. \n",
    "\n",
    "Ahora bien, el aporte que da a la academia es muy importante, pues introduce una posible causa de la desigualdad y pobreza de algunas zonas del país. En base al estudio de condiciones históricas distintas, como lo es la participación de la mita. En base a ello, el autor concluye que las zonas que participaron de la mita tienen en promedio niveles de educación más bajos, mayores tasas de desnutrición, menor conexiones comerciales por falta de vias de acceso como de carreteras, etc. Ello se debe, según el autor, a una falta de consolidación de los terratenientes, los cuales históricamente han sido vistos como una condición o variable que marcan la desigualdad y pobreza de las masas. No obstante, en este estudio el autor explica que contrario a ese pensamiento los hacendados debido a su deseo de maximizar beneficios y productividad utilizaron su presencia en la política peruana para la realización de obras públicas en estas zonas, lo cual permitió construcción de por ejemplo carreteras, lo cual finalmente, permitió a las masas beneficiarse. En este sentido su enfoque en cómo las instituciones generan o explican las consecuencias a largo plazo de las comunidades, nos ayuda a ver cómo es que la mita a perjudicado a los grupos sociales que participaron de esta. \n",
    "\n",
    "Finalmente, sobre los futuros pasos de investigación, en primer lugar podría ser hacer un estudio comparado entre los efectos de los distritos que solían pagar su mita en la mina de Potosí y los distritos que lo hacían en la mina de Huancavelica. Ello con la intención de ver cual de las dos mitas generaron mayores daños a largo plazo en los distritos que la pagaban. En base a ese resultados por ejemplo, se podrían estudiar los efectos causales que explicarían dicha variación en los efectos negativos, los cuales, por ejemplo, se podrían deber a la zona en donde se encuentran ubicadas, la mina Potosí en en Altiplano de Bolivia. Mientras, que la minera de Huancavelica en la Cordillera en Perú o también se puede deber a las condiciones laborales, las cuales cambiaban en las distintas zonas en donde se realizaba la mita. En ese sentido Zagalsky (2014), menciona que la minera Potosí debido a su clima extremo, según el autor el más terrible de la región, sumado a las condiciones laborales extremadamente deplorables, generaron tasas de mortalidad muy elevadas, en comparación a las demás zonas en donde se realizaba la mita. En ese sentido se podría inferir que las zonas que participaron de la mita en Potosí fueron más afectadas que las que participaron en la mita de Huancavelica. No obstante, tendría que comprobarse mediante un estudio extenso. \n",
    "\n",
    "Por otro lado, sería interesante comparar los resultados de la mita (realizada en Perú y Bolivia), con otros trabajos mineros realizados en otras zonas del virreinato español, por ejemplo, en la Nueva Granada. En ese sentido según Orche y Puche (2000), en la Nueva Granada al no tener tantos recursos ni infraestructura minera como en Perú y Bolivia, ello generó que no haya un grado de institucionalización grande como el caso de la mita en Perú, no obstante, igualmente la extracción del oro fue de vital importancia. En base a ello podría decirse que a pesar de que la extracción de minerales fue importante, al no haber un alto grado de institucionalización como la mita, podría traducirse en peores tratos en el caso de Perú y Bolivia, lo cual a largo plazo se podría haber traducido en peores condiciones de vida en los distritos de estos países que participaron de la mita, en comparación con los distritos que participaron del trabajo de extracción de minerales en los actuales países que conformaron Nueva Granada. \n",
    "\n",
    "\n",
    "Bibliografía: \n",
    "\n",
    "Orche. E y Puche. O. (2000). Los asentamientos mineros en la minería aurífera de Nueva Granada durante la época colonial. Instituto Geológico y Minero de España. pp. 415-422.\n",
    "\n",
    "Zagalsky, Paula C. (2014). THE POTOSÍ MITA: AN UNCHANGED COLONIAL IMPOSITION WITHIN A CONTEXT OF MULTIPLE TRANSFORMATIONS (16th AND 17th CENTURIES; CHARCAS, VICEROYALTY OF PERU. Chungará (Arica), 46(3), 375-395.\n",
    "\n",
    "\n"
   ]
  },
  {
   "cell_type": "markdown",
   "id": "eac0370e",
   "metadata": {},
   "source": [
    "## Codigo: "
   ]
  },
  {
   "cell_type": "markdown",
   "id": "6546a52a",
   "metadata": {},
   "source": [
    "Hecho por: \n",
    "    \n",
    "- Joaquin Alfredo del Castillo Ugarte \n",
    "\n",
    "- Sebastian Elias Torres Tapia"
   ]
  },
  {
   "cell_type": "code",
   "execution_count": 8,
   "id": "c74eabda",
   "metadata": {},
   "outputs": [],
   "source": [
    "from causalgraphicalmodels import CausalGraphicalModel\n",
    "import os\n",
    "import numpy as np \n",
    "import pandas as pd \n",
    "import statsmodels.api as sm \n",
    "import statsmodels.formula.api as smf \n",
    "from itertools import combinations \n",
    "import statsmodels.api as sm\n",
    "import statsmodels.formula.api as smf\n",
    "import linearmodels.iv.model as lm\n",
    "from linearmodels.iv import IV2SLS\n",
    "from statsmodels.iolib.summary2 import summary_col\n",
    "import seaborn as sns\n",
    "import ipywidgets as widgets\n",
    "import matplotlib.pyplot as plt\n",
    "import numpy as np\n",
    "import sympy as sy\n",
    "import pandas as pd\n",
    "from causalgraphicalmodels import CausalGraphicalModel\n",
    "import plotnine as p"
   ]
  },
  {
   "cell_type": "markdown",
   "id": "d10d533f",
   "metadata": {},
   "source": [
    "## Conceptos: "
   ]
  },
  {
   "cell_type": "markdown",
   "id": "a47c74a1",
   "metadata": {},
   "source": [
    "Relevancia: Significa que para que el instrumento (Z) sea relevante debe de afectar (relacionarse) con la variable a explicar. De lo contrario, la variable de instrumento no será relevante. Mientras mayor sea la covariación entre Z con X, más confianza se puede tener en el concepto de relevancia. \n",
    "\n",
    "Validez: El supuesto de validez, también llamado de “restricción de exclusión”, implica que el instrumento es una variable que no tiene backdoors abiertas de manera que, cualquier ruta (path) entre el instrumento y el resultado debe pasar por el tratamiento o cerrarse. En este supuesto es importante recordar que las variables instrumentales no eximen la necesidad de identificar y cerrar las backdoor sino que trasladan dicha responsabilidad al instrumento.\n"
   ]
  },
  {
   "cell_type": "markdown",
   "id": "b5349398",
   "metadata": {},
   "source": [
    "## Pregunta 1:"
   ]
  },
  {
   "cell_type": "code",
   "execution_count": 2,
   "id": "fed7abcc",
   "metadata": {
    "scrolled": true
   },
   "outputs": [
    {
     "data": {
      "text/html": [
       "<div>\n",
       "<style scoped>\n",
       "    .dataframe tbody tr th:only-of-type {\n",
       "        vertical-align: middle;\n",
       "    }\n",
       "\n",
       "    .dataframe tbody tr th {\n",
       "        vertical-align: top;\n",
       "    }\n",
       "\n",
       "    .dataframe thead th {\n",
       "        text-align: right;\n",
       "    }\n",
       "</style>\n",
       "<table border=\"1\" class=\"dataframe\">\n",
       "  <thead>\n",
       "    <tr style=\"text-align: right;\">\n",
       "      <th></th>\n",
       "      <th>id</th>\n",
       "      <th>nearc2</th>\n",
       "      <th>nearc4</th>\n",
       "      <th>educ</th>\n",
       "      <th>age</th>\n",
       "      <th>fatheduc</th>\n",
       "      <th>motheduc</th>\n",
       "      <th>weight</th>\n",
       "      <th>momdad14</th>\n",
       "      <th>sinmom14</th>\n",
       "      <th>...</th>\n",
       "      <th>KWW</th>\n",
       "      <th>IQ</th>\n",
       "      <th>married</th>\n",
       "      <th>libcrd14</th>\n",
       "      <th>exper</th>\n",
       "      <th>lwage</th>\n",
       "      <th>expersq</th>\n",
       "      <th>u_lwage</th>\n",
       "      <th>lwage_hat</th>\n",
       "      <th>u_educ</th>\n",
       "    </tr>\n",
       "  </thead>\n",
       "  <tbody>\n",
       "    <tr>\n",
       "      <th>0</th>\n",
       "      <td>2.0</td>\n",
       "      <td>0.0</td>\n",
       "      <td>0.0</td>\n",
       "      <td>7.0</td>\n",
       "      <td>29.0</td>\n",
       "      <td>NaN</td>\n",
       "      <td>NaN</td>\n",
       "      <td>158413.0</td>\n",
       "      <td>1.0</td>\n",
       "      <td>0.0</td>\n",
       "      <td>...</td>\n",
       "      <td>15.0</td>\n",
       "      <td>NaN</td>\n",
       "      <td>1.0</td>\n",
       "      <td>0.0</td>\n",
       "      <td>16.0</td>\n",
       "      <td>6.306275</td>\n",
       "      <td>256.0</td>\n",
       "      <td>0.198047</td>\n",
       "      <td>6.108228</td>\n",
       "      <td>-3.067539</td>\n",
       "    </tr>\n",
       "    <tr>\n",
       "      <th>1</th>\n",
       "      <td>3.0</td>\n",
       "      <td>0.0</td>\n",
       "      <td>0.0</td>\n",
       "      <td>12.0</td>\n",
       "      <td>27.0</td>\n",
       "      <td>8.0</td>\n",
       "      <td>8.0</td>\n",
       "      <td>380166.0</td>\n",
       "      <td>1.0</td>\n",
       "      <td>0.0</td>\n",
       "      <td>...</td>\n",
       "      <td>35.0</td>\n",
       "      <td>93.0</td>\n",
       "      <td>1.0</td>\n",
       "      <td>1.0</td>\n",
       "      <td>9.0</td>\n",
       "      <td>6.175867</td>\n",
       "      <td>81.0</td>\n",
       "      <td>-0.211160</td>\n",
       "      <td>6.387027</td>\n",
       "      <td>-1.727562</td>\n",
       "    </tr>\n",
       "    <tr>\n",
       "      <th>2</th>\n",
       "      <td>4.0</td>\n",
       "      <td>0.0</td>\n",
       "      <td>0.0</td>\n",
       "      <td>12.0</td>\n",
       "      <td>34.0</td>\n",
       "      <td>14.0</td>\n",
       "      <td>12.0</td>\n",
       "      <td>367470.0</td>\n",
       "      <td>1.0</td>\n",
       "      <td>0.0</td>\n",
       "      <td>...</td>\n",
       "      <td>42.0</td>\n",
       "      <td>103.0</td>\n",
       "      <td>1.0</td>\n",
       "      <td>1.0</td>\n",
       "      <td>16.0</td>\n",
       "      <td>6.580639</td>\n",
       "      <td>256.0</td>\n",
       "      <td>0.204719</td>\n",
       "      <td>6.375920</td>\n",
       "      <td>1.012975</td>\n",
       "    </tr>\n",
       "    <tr>\n",
       "      <th>3</th>\n",
       "      <td>5.0</td>\n",
       "      <td>1.0</td>\n",
       "      <td>1.0</td>\n",
       "      <td>11.0</td>\n",
       "      <td>27.0</td>\n",
       "      <td>11.0</td>\n",
       "      <td>12.0</td>\n",
       "      <td>380166.0</td>\n",
       "      <td>1.0</td>\n",
       "      <td>0.0</td>\n",
       "      <td>...</td>\n",
       "      <td>25.0</td>\n",
       "      <td>88.0</td>\n",
       "      <td>1.0</td>\n",
       "      <td>1.0</td>\n",
       "      <td>10.0</td>\n",
       "      <td>5.521461</td>\n",
       "      <td>100.0</td>\n",
       "      <td>-0.967905</td>\n",
       "      <td>6.489366</td>\n",
       "      <td>-2.253536</td>\n",
       "    </tr>\n",
       "    <tr>\n",
       "      <th>4</th>\n",
       "      <td>6.0</td>\n",
       "      <td>1.0</td>\n",
       "      <td>1.0</td>\n",
       "      <td>12.0</td>\n",
       "      <td>34.0</td>\n",
       "      <td>8.0</td>\n",
       "      <td>7.0</td>\n",
       "      <td>367470.0</td>\n",
       "      <td>1.0</td>\n",
       "      <td>0.0</td>\n",
       "      <td>...</td>\n",
       "      <td>34.0</td>\n",
       "      <td>108.0</td>\n",
       "      <td>1.0</td>\n",
       "      <td>0.0</td>\n",
       "      <td>16.0</td>\n",
       "      <td>6.591674</td>\n",
       "      <td>256.0</td>\n",
       "      <td>0.125173</td>\n",
       "      <td>6.466501</td>\n",
       "      <td>1.090437</td>\n",
       "    </tr>\n",
       "  </tbody>\n",
       "</table>\n",
       "<p>5 rows × 37 columns</p>\n",
       "</div>"
      ],
      "text/plain": [
       "    id  nearc2  nearc4  educ   age  fatheduc  motheduc    weight  momdad14  \\\n",
       "0  2.0     0.0     0.0   7.0  29.0       NaN       NaN  158413.0       1.0   \n",
       "1  3.0     0.0     0.0  12.0  27.0       8.0       8.0  380166.0       1.0   \n",
       "2  4.0     0.0     0.0  12.0  34.0      14.0      12.0  367470.0       1.0   \n",
       "3  5.0     1.0     1.0  11.0  27.0      11.0      12.0  380166.0       1.0   \n",
       "4  6.0     1.0     1.0  12.0  34.0       8.0       7.0  367470.0       1.0   \n",
       "\n",
       "   sinmom14  ...   KWW     IQ  married  libcrd14  exper     lwage  expersq  \\\n",
       "0       0.0  ...  15.0    NaN      1.0       0.0   16.0  6.306275    256.0   \n",
       "1       0.0  ...  35.0   93.0      1.0       1.0    9.0  6.175867     81.0   \n",
       "2       0.0  ...  42.0  103.0      1.0       1.0   16.0  6.580639    256.0   \n",
       "3       0.0  ...  25.0   88.0      1.0       1.0   10.0  5.521461    100.0   \n",
       "4       0.0  ...  34.0  108.0      1.0       0.0   16.0  6.591674    256.0   \n",
       "\n",
       "    u_lwage  lwage_hat    u_educ  \n",
       "0  0.198047   6.108228 -3.067539  \n",
       "1 -0.211160   6.387027 -1.727562  \n",
       "2  0.204719   6.375920  1.012975  \n",
       "3 -0.967905   6.489366 -2.253536  \n",
       "4  0.125173   6.466501  1.090437  \n",
       "\n",
       "[5 rows x 37 columns]"
      ]
     },
     "execution_count": 2,
     "metadata": {},
     "output_type": "execute_result"
    }
   ],
   "source": [
    "# load data\n",
    "\n",
    "import ssl\n",
    "ssl._create_default_https_context = ssl._create_unverified_context\n",
    "\n",
    "def read_data(file): \n",
    "    return pd.read_stata(\"https://raw.github.com/scunning1975/mixtape/master/\" + file)\n",
    "\n",
    "card = read_data(\"card.dta\")\n",
    "card.head()"
   ]
  },
  {
   "cell_type": "markdown",
   "id": "df4c6d7b",
   "metadata": {},
   "source": [
    "### Pregunta 1.1: "
   ]
  },
  {
   "cell_type": "code",
   "execution_count": 3,
   "id": "564c3fb7",
   "metadata": {},
   "outputs": [
    {
     "data": {
      "text/plain": [
       "<seaborn.axisgrid.FacetGrid at 0x28e62fe4100>"
      ]
     },
     "execution_count": 3,
     "metadata": {},
     "output_type": "execute_result"
    },
    {
     "data": {
      "image/png": "[encoded data removed]",
      "text/plain": [
       "<Figure size 720x360 with 2 Axes>"
      ]
     },
     "metadata": {
      "needs_background": "light"
     },
     "output_type": "display_data"
    }
   ],
   "source": [
    "sns.displot(card, x=\"educ\", col = \"nearc4\")"
   ]
  },
  {
   "cell_type": "markdown",
   "id": "b03ea7af",
   "metadata": {},
   "source": [
    "Interpretación: \n",
    "\n",
    "En primer lugar, se puede ver que la muestra de alumnos que tienen una universidad en su condado es mayor que la muestra en donde los alumnos no cuentan con una universidad en su condado. Ahora bien, a simple vista parecería que proporcionalmente en ambos grupos de estudio se ve una concurrencia similar en la movilidad de las barras. No obstante, sí existen algunas pequeñas vairaciones, por ejemplo, en el caso de 18 años de estudio sí se puede ver una diferencia importante cuando existe universidad en el condado. Ello puede significar que en el grupo de tratamiento es más probable llegar a los años finales de educación universitaria, en comparación con el grupo de control, ello se puede deber a que al haber una universidad en la localidad de los estudiantes no deben gastar en transporte, en mudanza o en otro tipo de requerimiento que signifique asistir a una universidad lejana, aunque esta variable parece no ser del todo definitiva, pues ambos histogramas presentan una gran similitud."
   ]
  },
  {
   "cell_type": "markdown",
   "id": "ebf91f78",
   "metadata": {},
   "source": [
    "### Pregunta 1.2: "
   ]
  },
  {
   "cell_type": "code",
   "execution_count": 4,
   "id": "132acb35",
   "metadata": {},
   "outputs": [
    {
     "data": {
      "text/plain": [
       "<seaborn.axisgrid.FacetGrid at 0x28e6ee414c0>"
      ]
     },
     "execution_count": 4,
     "metadata": {},
     "output_type": "execute_result"
    },
    {
     "data": {
      "image/png": "[encoded data removed]",
      "text/plain": [
       "<Figure size 720x360 with 2 Axes>"
      ]
     },
     "metadata": {
      "needs_background": "light"
     },
     "output_type": "display_data"
    }
   ],
   "source": [
    "sns.displot(card, x=\"lwage\", col = \"nearc4\")"
   ]
  },
  {
   "cell_type": "markdown",
   "id": "b5d392f7",
   "metadata": {},
   "source": [
    "Interpretación: \n",
    "\n",
    "Ahora bien, en el caso de logaritmo de ingreso en la mayor parte del histograma presentan una distribución similar a excepción de los datos cercanos a 6.5, pues estos son mayores en el caso del grupo de tratamiento. Ello puede indicar que sí puede existir una diferencia en el caso de los estudiantes que viven cerca o no de una universidad, en donde los primeros perciben más ingresos. Ello se puede deber a que al presentar ligeras diferencias en favor del grupo de tratamiento con respecto a los años de estudio en una universidad, ello se terminó reflejando ligeramente en la percepción de ingresos, aunque como se comentó estas diferencias son pequeñas como para dar una conclusión fija sobre si los ingresos y los años de estudio varían en función de si existe o no una universidad en la localidad. \n"
   ]
  },
  {
   "cell_type": "markdown",
   "id": "235f9b95",
   "metadata": {},
   "source": [
    "## Pregunta 2:"
   ]
  },
  {
   "cell_type": "markdown",
   "id": "4613b0ca",
   "metadata": {},
   "source": [
    "### Pregunta 2.1: "
   ]
  },
  {
   "cell_type": "code",
   "execution_count": 5,
   "id": "ba0bed34",
   "metadata": {},
   "outputs": [
    {
     "data": {
      "text/html": [
       "<table class=\"simpletable\">\n",
       "<caption>OLS Regression Results</caption>\n",
       "<tr>\n",
       "  <th>Dep. Variable:</th>          <td>lwage</td>      <th>  R-squared:         </th> <td>   0.305</td> \n",
       "</tr>\n",
       "<tr>\n",
       "  <th>Model:</th>                   <td>OLS</td>       <th>  Adj. R-squared:    </th> <td>   0.304</td> \n",
       "</tr>\n",
       "<tr>\n",
       "  <th>Method:</th>             <td>Least Squares</td>  <th>  F-statistic:       </th> <td>   219.2</td> \n",
       "</tr>\n",
       "<tr>\n",
       "  <th>Date:</th>             <td>Sat, 12 Nov 2022</td> <th>  Prob (F-statistic):</th> <td>1.97e-232</td>\n",
       "</tr>\n",
       "<tr>\n",
       "  <th>Time:</th>                 <td>21:35:57</td>     <th>  Log-Likelihood:    </th> <td> -1273.9</td> \n",
       "</tr>\n",
       "<tr>\n",
       "  <th>No. Observations:</th>      <td>  3003</td>      <th>  AIC:               </th> <td>   2562.</td> \n",
       "</tr>\n",
       "<tr>\n",
       "  <th>Df Residuals:</th>          <td>  2996</td>      <th>  BIC:               </th> <td>   2604.</td> \n",
       "</tr>\n",
       "<tr>\n",
       "  <th>Df Model:</th>              <td>     6</td>      <th>                     </th>     <td> </td>    \n",
       "</tr>\n",
       "<tr>\n",
       "  <th>Covariance Type:</th>      <td>nonrobust</td>    <th>                     </th>     <td> </td>    \n",
       "</tr>\n",
       "</table>\n",
       "<table class=\"simpletable\">\n",
       "<tr>\n",
       "      <td></td>         <th>coef</th>     <th>std err</th>      <th>t</th>      <th>P>|t|</th>  <th>[0.025</th>    <th>0.975]</th>  \n",
       "</tr>\n",
       "<tr>\n",
       "  <th>Intercept</th> <td>    5.0633</td> <td>    0.064</td> <td>   79.437</td> <td> 0.000</td> <td>    4.938</td> <td>    5.188</td>\n",
       "</tr>\n",
       "<tr>\n",
       "  <th>educ</th>      <td>    0.0712</td> <td>    0.003</td> <td>   20.438</td> <td> 0.000</td> <td>    0.064</td> <td>    0.078</td>\n",
       "</tr>\n",
       "<tr>\n",
       "  <th>exper</th>     <td>    0.0342</td> <td>    0.002</td> <td>   15.422</td> <td> 0.000</td> <td>    0.030</td> <td>    0.038</td>\n",
       "</tr>\n",
       "<tr>\n",
       "  <th>black</th>     <td>   -0.1660</td> <td>    0.018</td> <td>   -9.426</td> <td> 0.000</td> <td>   -0.201</td> <td>   -0.131</td>\n",
       "</tr>\n",
       "<tr>\n",
       "  <th>south</th>     <td>   -0.1316</td> <td>    0.015</td> <td>   -8.788</td> <td> 0.000</td> <td>   -0.161</td> <td>   -0.102</td>\n",
       "</tr>\n",
       "<tr>\n",
       "  <th>married</th>   <td>   -0.0359</td> <td>    0.003</td> <td>  -10.547</td> <td> 0.000</td> <td>   -0.043</td> <td>   -0.029</td>\n",
       "</tr>\n",
       "<tr>\n",
       "  <th>smsa</th>      <td>    0.1758</td> <td>    0.015</td> <td>   11.372</td> <td> 0.000</td> <td>    0.145</td> <td>    0.206</td>\n",
       "</tr>\n",
       "</table>\n",
       "<table class=\"simpletable\">\n",
       "<tr>\n",
       "  <th>Omnibus:</th>       <td>53.196</td> <th>  Durbin-Watson:     </th> <td>   1.858</td>\n",
       "</tr>\n",
       "<tr>\n",
       "  <th>Prob(Omnibus):</th> <td> 0.000</td> <th>  Jarque-Bera (JB):  </th> <td>  69.430</td>\n",
       "</tr>\n",
       "<tr>\n",
       "  <th>Skew:</th>          <td>-0.231</td> <th>  Prob(JB):          </th> <td>8.38e-16</td>\n",
       "</tr>\n",
       "<tr>\n",
       "  <th>Kurtosis:</th>      <td> 3.584</td> <th>  Cond. No.          </th> <td>    154.</td>\n",
       "</tr>\n",
       "</table><br/><br/>Notes:<br/>[1] Standard Errors assume that the covariance matrix of the errors is correctly specified."
      ],
      "text/plain": [
       "<class 'statsmodels.iolib.summary.Summary'>\n",
       "\"\"\"\n",
       "                            OLS Regression Results                            \n",
       "==============================================================================\n",
       "Dep. Variable:                  lwage   R-squared:                       0.305\n",
       "Model:                            OLS   Adj. R-squared:                  0.304\n",
       "Method:                 Least Squares   F-statistic:                     219.2\n",
       "Date:                Sat, 12 Nov 2022   Prob (F-statistic):          1.97e-232\n",
       "Time:                        21:35:57   Log-Likelihood:                -1273.9\n",
       "No. Observations:                3003   AIC:                             2562.\n",
       "Df Residuals:                    2996   BIC:                             2604.\n",
       "Df Model:                           6                                         \n",
       "Covariance Type:            nonrobust                                         \n",
       "==============================================================================\n",
       "                 coef    std err          t      P>|t|      [0.025      0.975]\n",
       "------------------------------------------------------------------------------\n",
       "Intercept      5.0633      0.064     79.437      0.000       4.938       5.188\n",
       "educ           0.0712      0.003     20.438      0.000       0.064       0.078\n",
       "exper          0.0342      0.002     15.422      0.000       0.030       0.038\n",
       "black         -0.1660      0.018     -9.426      0.000      -0.201      -0.131\n",
       "south         -0.1316      0.015     -8.788      0.000      -0.161      -0.102\n",
       "married       -0.0359      0.003    -10.547      0.000      -0.043      -0.029\n",
       "smsa           0.1758      0.015     11.372      0.000       0.145       0.206\n",
       "==============================================================================\n",
       "Omnibus:                       53.196   Durbin-Watson:                   1.858\n",
       "Prob(Omnibus):                  0.000   Jarque-Bera (JB):               69.430\n",
       "Skew:                          -0.231   Prob(JB):                     8.38e-16\n",
       "Kurtosis:                       3.584   Cond. No.                         154.\n",
       "==============================================================================\n",
       "\n",
       "Notes:\n",
       "[1] Standard Errors assume that the covariance matrix of the errors is correctly specified.\n",
       "\"\"\""
      ]
     },
     "execution_count": 5,
     "metadata": {},
     "output_type": "execute_result"
    }
   ],
   "source": [
    "#OLS\n",
    "ols_reg = sm.OLS.from_formula(\"lwage ~ educ + exper + black + south + married + smsa\", \n",
    "              data = card).fit()\n",
    "\n",
    "ols_reg.summary()"
   ]
  },
  {
   "cell_type": "markdown",
   "id": "6eb8c140",
   "metadata": {},
   "source": [
    "Interpretación: \n",
    "\n",
    "OLS: El modelo de regresión es significativo (F-statistic fuerte) y explica en un 30.4 porciento la variabilidad de la variable dependiente ingreso (expresada de manera logaritmica). Asimismo, a partir de los coeficientes, observamos que: por cada año adicional de educación, el nivel de ingreso aumentaría en 0.07 unidades logaritmicas. En segundo lugar, por cada año adicional de experiencia laboral, el nivel de ingresos aumentaría en 0.03 unidades logaritimicas. En tercer lugar, si el individuo es afroamericano, el nivel de ingresos se espera que disminuya en 0.16 unidades logaritmicas. En quinto lugar, en caso el individuo viva en el sur, se espera que el nivel de ingresos disminuya en 0.13 unidades logarítmicas. En quinto lugar, de tener el estado civil de casado o casada, se espera que el nivel de ingresos disminuya en 0.03 unidades logarítimas. Finalmente, en caso viva en SMSA, se espera que el nivel de ingresos aumente en 0.17 unidades logarítmicas. En todos los casos anteriores, las variables en cuestión son significativas dado que tienen un p-value menor a 0.05."
   ]
  },
  {
   "cell_type": "markdown",
   "id": "184bca15",
   "metadata": {},
   "source": [
    "### Pregunta 2.2: "
   ]
  },
  {
   "cell_type": "code",
   "execution_count": 6,
   "id": "3ae88240",
   "metadata": {},
   "outputs": [],
   "source": [
    "#Dado que hay valores nulos en el dataset, se les rellenará con 0\n",
    "card['married'] = card['married'].fillna(0)"
   ]
  },
  {
   "cell_type": "code",
   "execution_count": 7,
   "id": "a2509d9e",
   "metadata": {},
   "outputs": [
    {
     "data": {
      "text/html": [
       "<table class=\"simpletable\">\n",
       "<caption>IV-2SLS Estimation Summary</caption>\n",
       "<tr>\n",
       "  <th>Dep. Variable:</th>          <td>lwage</td>      <th>  R-squared:         </th> <td>-1.3114</td>\n",
       "</tr>\n",
       "<tr>\n",
       "  <th>Estimator:</th>             <td>IV-2SLS</td>     <th>  Adj. R-squared:    </th> <td>-1.3160</td>\n",
       "</tr>\n",
       "<tr>\n",
       "  <th>No. Observations:</th>       <td>3010</td>       <th>  F-statistic:       </th> <td>289.62</td> \n",
       "</tr>\n",
       "<tr>\n",
       "  <th>Date:</th>             <td>Sat, Nov 12 2022</td> <th>  P-value (F-stat)   </th> <td>0.0000</td> \n",
       "</tr>\n",
       "<tr>\n",
       "  <th>Time:</th>                 <td>21:36:42</td>     <th>  Distribution:      </th> <td>chi2(6)</td>\n",
       "</tr>\n",
       "<tr>\n",
       "  <th>Cov. Estimator:</th>        <td>robust</td>      <th>                     </th>    <td></td>    \n",
       "</tr>\n",
       "<tr>\n",
       "  <th></th>                          <td></td>         <th>                     </th>    <td></td>    \n",
       "</tr>\n",
       "</table>\n",
       "<table class=\"simpletable\">\n",
       "<caption>Parameter Estimates</caption>\n",
       "<tr>\n",
       "      <td></td>      <th>Parameter</th> <th>Std. Err.</th> <th>T-stat</th>  <th>P-value</th> <th>Lower CI</th> <th>Upper CI</th>\n",
       "</tr>\n",
       "<tr>\n",
       "  <th>Intercept</th>  <td>0.1276</td>    <td>3.1412</td>   <td>0.0406</td>  <td>0.9676</td>   <td>-6.0290</td>  <td>6.2843</td> \n",
       "</tr>\n",
       "<tr>\n",
       "  <th>black</th>      <td>0.1134</td>    <td>0.1816</td>   <td>0.6244</td>  <td>0.5324</td>   <td>-0.2425</td>  <td>0.4692</td> \n",
       "</tr>\n",
       "<tr>\n",
       "  <th>exper</th>      <td>0.1515</td>    <td>0.0747</td>   <td>2.0274</td>  <td>0.0426</td>   <td>0.0050</td>   <td>0.2980</td> \n",
       "</tr>\n",
       "<tr>\n",
       "  <th>married</th>    <td>-0.0151</td>   <td>0.0147</td>   <td>-1.0258</td> <td>0.3050</td>   <td>-0.0438</td>  <td>0.0137</td> \n",
       "</tr>\n",
       "<tr>\n",
       "  <th>smsa</th>       <td>0.0201</td>    <td>0.1030</td>   <td>0.1949</td>  <td>0.8455</td>   <td>-0.1819</td>  <td>0.2220</td> \n",
       "</tr>\n",
       "<tr>\n",
       "  <th>south</th>      <td>-0.0319</td>   <td>0.0692</td>   <td>-0.4603</td> <td>0.6453</td>   <td>-0.1675</td>  <td>0.1038</td> \n",
       "</tr>\n",
       "<tr>\n",
       "  <th>educ</th>       <td>0.3618</td>    <td>0.1849</td>   <td>1.9562</td>  <td>0.0504</td>   <td>-0.0007</td>  <td>0.7243</td> \n",
       "</tr>\n",
       "</table><br/><br/>Endogenous: educ<br/>Instruments: nearc2<br/>Robust Covariance (Heteroskedastic)<br/>Debiased: False"
      ],
      "text/plain": [
       "<class 'linearmodels.compat.statsmodels.Summary'>\n",
       "\"\"\"\n",
       "                          IV-2SLS Estimation Summary                          \n",
       "==============================================================================\n",
       "Dep. Variable:                  lwage   R-squared:                     -1.3114\n",
       "Estimator:                    IV-2SLS   Adj. R-squared:                -1.3160\n",
       "No. Observations:                3010   F-statistic:                    289.62\n",
       "Date:                Sat, Nov 12 2022   P-value (F-stat)                0.0000\n",
       "Time:                        21:36:42   Distribution:                  chi2(6)\n",
       "Cov. Estimator:                robust                                         \n",
       "                                                                              \n",
       "                             Parameter Estimates                              \n",
       "==============================================================================\n",
       "            Parameter  Std. Err.     T-stat    P-value    Lower CI    Upper CI\n",
       "------------------------------------------------------------------------------\n",
       "Intercept      0.1276     3.1412     0.0406     0.9676     -6.0290      6.2843\n",
       "black          0.1134     0.1816     0.6244     0.5324     -0.2425      0.4692\n",
       "exper          0.1515     0.0747     2.0274     0.0426      0.0050      0.2980\n",
       "married       -0.0151     0.0147    -1.0258     0.3050     -0.0438      0.0137\n",
       "smsa           0.0201     0.1030     0.1949     0.8455     -0.1819      0.2220\n",
       "south         -0.0319     0.0692    -0.4603     0.6453     -0.1675      0.1038\n",
       "educ           0.3618     0.1849     1.9562     0.0504     -0.0007      0.7243\n",
       "==============================================================================\n",
       "\n",
       "Endogenous: educ\n",
       "Instruments: nearc2\n",
       "Robust Covariance (Heteroskedastic)\n",
       "Debiased: False\n",
       "\"\"\""
      ]
     },
     "execution_count": 7,
     "metadata": {},
     "output_type": "execute_result"
    }
   ],
   "source": [
    "#2SLS\n",
    "iv_reg = IV2SLS.from_formula(\"lwage ~  1 + exper + black + south + married + smsa + [educ ~ nearc2 ]\", card).fit()\n",
    "iv_reg.summary"
   ]
  },
  {
   "cell_type": "markdown",
   "id": "79900ec1",
   "metadata": {},
   "source": [
    "Interpretación:\n",
    "\n",
    "En primer lugar, dado el F-statistic (excede a 15), no presentamos un problema de un instrumento debil. En segundo lugar, en este modelo, se está instrumentalizando la regresión lineal con la variable de años de educación junto con la cercanía de institutos educativos superiores de 2 años. La primera diferencia que podemos notar es que, salvo la variable de años de experiencia, todas las variables ya no son significativas para el modelo (p-value mayor a 0.05). Por cada año adicional de estudios, el nivel de ingresos de los estudiantes aumenta en un 36%. Ello significaría que el nivel de ingresos real (de este modelo) sería mayor al planteado por el anterior (OSL)."
   ]
  }
 ],
 "metadata": {
  "kernelspec": {
   "display_name": "Python 3 (ipykernel)",
   "language": "python",
   "name": "python3"
  },
  "language_info": {
   "codemirror_mode": {
    "name": "ipython",
    "version": 3
   },
   "file_extension": ".py",
   "mimetype": "text/x-python",
   "name": "python",
   "nbconvert_exporter": "python",
   "pygments_lexer": "ipython3",
   "version": "3.9.12"
  }
 },
 "nbformat": 4,
 "nbformat_minor": 5
}
