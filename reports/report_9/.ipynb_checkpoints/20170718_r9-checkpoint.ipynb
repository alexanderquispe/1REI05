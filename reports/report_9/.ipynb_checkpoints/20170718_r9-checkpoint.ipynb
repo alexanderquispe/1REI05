{
 "cells": [
  {
   "cell_type": "markdown",
   "metadata": {
    "id": "vXm5ld4JnUL7"
   },
   "source": [
    "PARTE I: REPORTE DE LA LECTURA\n",
    "\n",
    "En el siguiente artículo “Social Media and Mental Health” , los autores analizan cómo el uso de las redes sociales puede ser riesgoso para la salud mental. De esta manera, el artículo proporciona estimaciones cuasi experimentales del impacto de las redes sociales en la salud mental aprovechando el siguiente experimento: la introducción escalonada de Facebook en las universidades estadounidenses a mediados de la década de 2000; provocando un aumento del 9 % en la depresión y un aumento del 12 % en el trastorno de ansiedad generalizada entre los estudiantes. Por consiguiente, el artículo plantea la hipótesis de que las redes sociales han generado un impacto negativo en la salud mental; esta va de la mano con las ideas planteadas por otros autores en diversos artículos, las cuales desempeñan un papel en el aumento de la enfermedad mental entre adolescentes y adultos jóvenes.\n",
    "\n",
    "En este sentido, la fortaleza del artículo, es que el análisis de los autores se basa en un diseño de investigación de diferencias en diferencias generalizadas, donde uno de las dimensiones de variación es la universidad a la que asiste un estudiantes y la otra dimensión es si el estudiante realizó la encuesta antes o después de la introducción de Facebook en las universidades. Asimismo, la estrategia empírica le permite descartar factores como las diferencias específicas de las universidades fijadas en el tiempo o las diferencias a lo largo del tiempo que afectan a todos los estudiantes de manera similar. Además, los resultados de la investigación son comparados con una depresión clínicamente validada: la PHQ-9, una medida que evalúa la presencia de síntomas depresivos basados en los criterios del DSM-IV. De igual manera, es importante resaltar la importancia de las fuentes de datos, en la cual, aparte de hacer uso de las fechas en las que Facebook se introdujo en 775 universidades de Estados Unidos, también hace uso de la Evaluación Nacional de Salud Universitaria (NCHA), la cual indaga sobre datos demográficos, salud física y mental, uso de alcohol y drogas, conductas sexuales y percepciones de estas conductas. \n",
    "\n",
    "Por otro lado, las debilidad del artículo es que los resultados presentados en el artículo deben ser interpretados de manera cautelosa por varios motivos. Esto se debe a que las estimaciones no pueden hablar directamente de los efectos de las funciones de las redes sociales, no pueden hablar directamente sobre la posibilidad de que años de experiencia con la plataforma puedan enseñar a los usuarios formas de mitigar los efectos negativos sobre la salud mental. Asimismo, los autoinformes aún pueden verse afectados por el error de medición a causa del sesgo de recuerdo, falta de incentivos y preocupaciones de imagen social. Además, las estimaciones que se presentan en la investigación son locales para estudiantes universitarios; aún es necesario que las investigaciones futuras puedan probar si es que las redes sociales tienen un efecto similar en la salud de otros grupos demográficos. \n",
    "\n",
    "La contribución del artículo es que estima el impacto de las redes sociales en la salud mental de los estudiantes pertenecientes a las universidades donde se introdujo Facebook; mostrando como evidencia las comparaciones sociales desfavorables como el principal mecanismo; además de que  van de la mano de la hipótesis de que las redes sociales podrían afectar en parte la salud mental entre adultos y adolescentes. En este sentido, los resultados de la investigación evidenciaron que a corto y mediano plazo, los efectos negativos de Facebook en la salud mental aumentan con la duración de la exposición a la plataforma. Estos efectos son particularmente pronunciados para los estudiantes que ya se ven a sí mismos en comparación desfavorable con sus compañeros, como los estudiantes que viven fuera del campus y, por lo tanto, es más probable que sean excluidos de las actividades sociales en el campus, los estudiantes de nivel socioeconómico más bajo y estudiantes que no pertenecen a fraternidades.\n",
    "\n",
    "Finalmente, si bien es cierto que los autores se preocupan por delimitar el alcance de su estudio, debido a que el uso de las redes sociales puede brindarle beneficios como la conexión con diversos grupos sociales o una mayor oferta en productos que superan los costos; es indispensable que a partir de ello, que las empresas de redes sociales y legisladores sigan trabajando para aliviar los efectos potencialmente dañinos sobre el bienestar mental. Como menciona Dylan Walsh, en su artículo titulado “Estudio: el uso de las redes sociales está relacionado con el deterioro de la salud mental”, publicado en Management Sloan School; el autor menciona lo siguiente: “Cuando comencé a investigar realmente las tendencias de deterioro de la salud mental entre los adultos jóvenes, me di cuenta de lo realmente mala que es la situación, y eso me quedó grabado. Cualquier conocimiento que este documento u otros puedan ofrecer sobre lo que hay detrás de esta tendencia será muy valioso para la sociedad” (Wash, 2022). Esto quiere decir que aunque el estudio pertenece a un período específico, la escasez de datos experimentales sobre cómo las redes sociales afectan a sus usuarios significa que cualquier evidencia causal que podamos proporcionar es valiosa.\n"
   ]
  }
 ],
 "metadata": {
  "colab": {
   "provenance": []
  },
  "kernelspec": {
   "display_name": "Python 3 (ipykernel)",
   "language": "python",
   "name": "python3"
  },
  "language_info": {
   "codemirror_mode": {
    "name": "ipython",
    "version": 3
   },
   "file_extension": ".py",
   "mimetype": "text/x-python",
   "name": "python",
   "nbconvert_exporter": "python",
   "pygments_lexer": "ipython3",
   "version": "3.9.12"
  }
 },
 "nbformat": 4,
 "nbformat_minor": 1
}
