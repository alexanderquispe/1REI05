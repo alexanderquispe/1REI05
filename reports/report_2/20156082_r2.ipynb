{
 "cells": [
  {
   "cell_type": "markdown",
   "id": "9f4fc955",
   "metadata": {},
   "source": [
    "## Reporte 2"
   ]
  },
  {
   "cell_type": "markdown",
   "id": "9da16f53",
   "metadata": {},
   "source": [
    "The Monetary and Fiscal History of Peru, 1960-2017 - Martinelli &Vega (2018)"
   ]
  },
  {
   "cell_type": "markdown",
   "id": "0c8bff8f",
   "metadata": {},
   "source": [
    "Martinelli y Vega (2018) en La historia monetaria y fiscal del Perú, 1960 – 2017 exponen la pregunta de investigación acerca de cómo se desarrollaron las dificultades fiscales en el país durante ese periodo de tiempo. De esa manera, a lo largo del artículo los autores buscan explicar el contexto político y social, y las características que tuvo dicho proceso para transitar del periodo de alta inflación desde el año 1960 hacia la estabilización a partir del año 1990, así como las políticas monetarias que se efectuaron a partir de esa fecha.\n",
    "\n",
    "Los autores desarrollan una estructura que facilita la comprensión del artículo económico.  En primer lugar, los autores desarrollan la información acompañándola con ejercicios explicativos, haciendo uso de fórmulas y explicándolas a detalle. De esta manera, nos muestran que la baja producción puede ser causada por la variación en los precios en el mercado internacional. Esta baja productividad provoca una disminución o pérdida generalizada de la actividad económica, lo que, a su vez, genera un impacto directo o indirecto en el PIB. Además, en el texto se hace hincapié que las políticas económicas internas efectuadas contribuyeron al avance de los problemas económicos. \n",
    "\n",
    "En segundo lugar, los autores hacen uso de gráficos para ilustrar y sustentar la información proporcionada, puesto que se ha empleado bases de datos Los gráficos incluyen variables como PIB, tasa de cambio, déficit fiscal e inflación, así como los años estudiados en este artículo. De esta manera, los gráficos permiten comparar las variaciones ocurridas entre los años de 1970 y 2017. Asimismo, las tablas mostradas son de gran relevancia para organizar la información y los detalles acerca de las principales medidas en las políticas de estabilización de los gobiernos, para así hacer frente al problema de la inflación. De esta manera, muestran los intentos de estabilización principalmente de los años de 1985 en el primer gobierno de García y 1990 durante el gobierno de Fujimori. En este sentido, la agenda incluyó cambios, principalmente, con respecto al control de precios, las tasas de cambio y la deuda externa.\n",
    "\n",
    "Por último, este artículo ha demostrado una parte de nuestra historia económica reciente, la cual es de gran relevancia para no repetir los errores que nos sumergieron en el caos. De este modo, los autores nos llevan a través de los experimentos políticos radicales que se dieron en los distintos gobiernos desde 1960 magnificaron los problemas económicos del país hasta la actualidad. Así, señalan que los cambios se han dado hacia un aprendizaje social, el cual se traduce en el apoyo popular a mantener la estabilidad macroeconómica. Esto mediante un banco central y un ministerio que gocen de cierta autonomía, así como la presencia de autoridades competentes.\n",
    "\n",
    "Como es sabido y se ha señalado en el artículo, las variaciones en el sistema financiero internacional, la inflación y el decrecimiento del PIB generan mayor devaluación cambiaria. Tal y como lo explica Guevara en Política Monetaria del Banco Central: Una Perspectiva Histórica, el rol del Banco Central ha sido fundamental para evitar una mayor fluctuación de los tipos de cambio, pues ha participado como comprador y vendedor, estabilizando así las fuerzas del mercado. Si bien, Martinelli y Vega han mencionado que la autonomía del Banco Central es parte de las reformas económicas que han mantenido la estabilidad actual, se considera que no se ha hecho mayor énfasis en ello. Por esta razón, se debe considerar ampliar aun más la información acerca de la gran importancia del Banco Central en la economía y, por ende, de su autonomía de las políticas fiscales. "
   ]
  }
 ],
 "metadata": {
  "kernelspec": {
   "display_name": "Python 3 (ipykernel)",
   "language": "python",
   "name": "python3"
  },
  "language_info": {
   "codemirror_mode": {
    "name": "ipython",
    "version": 3
   },
   "file_extension": ".py",
   "mimetype": "text/x-python",
   "name": "python",
   "nbconvert_exporter": "python",
   "pygments_lexer": "ipython3",
   "version": "3.9.12"
  }
 },
 "nbformat": 4,
 "nbformat_minor": 5
}
