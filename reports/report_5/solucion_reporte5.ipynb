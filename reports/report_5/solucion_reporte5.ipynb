{
 "cells": [
  {
   "cell_type": "code",
   "execution_count": 1,
   "id": "2bf1f93f",
   "metadata": {},
   "outputs": [],
   "source": [
    "%matplotlib widget\n",
    "%matplotlib inline\n",
    "import ipywidgets as widgets\n",
    "import matplotlib.pyplot as plt\n",
    "import numpy as np\n",
    "import sympy as sy\n",
    "from sympy import *\n",
    "import pandas as pd\n",
    "#from causalgraphicalmodels import CausalGraphicalModel"
   ]
  },
  {
   "cell_type": "markdown",
   "id": "44f1adbd",
   "metadata": {},
   "source": [
    "## Solución reporte 5:"
   ]
  },
  {
   "cell_type": "markdown",
   "id": "89339e36",
   "metadata": {},
   "source": [
    "### 1. A partir del siguiente sistema de ecuaciones que representan el modelo DA-OA"
   ]
  },
  {
   "cell_type": "markdown",
   "id": "2d99e3b4",
   "metadata": {},
   "source": [
    "#### 1.1 Encuentre las ecuaciones de Ingreso $(Y^e)$, tasa de interés $(r)$ y precio $(P^e)$ de equilibrio (escriba paso a paso la derivacion de estas ecuaciones)."
   ]
  },
  {
   "cell_type": "markdown",
   "id": "fa703e5c",
   "metadata": {},
   "source": [
    "#### Demanda Agregada $(DA)$:"
   ]
  },
  {
   "cell_type": "markdown",
   "id": "f1cb3dde",
   "metadata": {},
   "source": [
    "Matemáticamente, la forma de la función de demanda agregada se puede obtener de las ecuaciones de la IS y la LM, eliminando “r” y despejando P. Para efectuar esta operación se supondrá que P no está dado."
   ]
  },
  {
   "cell_type": "markdown",
   "id": "b6514fca",
   "metadata": {},
   "source": [
    "Considernado, por un lado, la Curva IS:\n",
    "\n",
    "$$ r = \\frac{B_o}{h} - \\frac{B_1}{h}Y $$\n",
    "\n",
    "Donde $ B_0 = C_o + I_o + G_o + X_o $ y $ B_1 = 1 - (b - m)(1 - t)$"
   ]
  },
  {
   "cell_type": "markdown",
   "id": "2ffe09c7",
   "metadata": {},
   "source": [
    "Y, por otro, la ecuación de la LM\n",
    "\n",
    "$$  r = -\\frac{1}{j}\\frac{Mo^s}{P} + \\frac{k}{j}Y $$"
   ]
  },
  {
   "cell_type": "markdown",
   "id": "debba1dc",
   "metadata": {},
   "source": [
    "Eliminando “r” y despejando P, se obtiene:\n",
    "\n",
    "$$  P = -\\frac{h Mo^s}{-j B_o + (jB_1 + hk)Y} $$\n",
    "\n",
    "O, en función del nivel de ingresos $(Y)$:\n",
    "\n",
    "$$  Y = \\frac{jB_o}{jB_1 + hk} + (\\frac{hMo^s}{jB_1 + hk})\\frac{1}{P} $$\n"
   ]
  },
  {
   "cell_type": "markdown",
   "id": "d476748b",
   "metadata": {},
   "source": [
    "Ahora bien, considernado la ecuación de equilibrio en el mercado monetario\n",
    "\n",
    "$$ Mo^s - P = kY - jr $$\n",
    "\n",
    "Se reemplaza $(r)$, y se obtiene la ecuación de la demanda agregada $(DA)$\n",
    "\n",
    "$$  P = \\frac{h Mo^s + jB_o}{h} - \\frac{jB_1 + hk}{h}Y $$\n"
   ]
  },
  {
   "cell_type": "markdown",
   "id": "ce385aee",
   "metadata": {},
   "source": [
    "#### Oferta Agregada $(OA)$:"
   ]
  },
  {
   "cell_type": "markdown",
   "id": "b3937f70",
   "metadata": {},
   "source": [
    "El corto plazo es un periodo en el cual el producto $(Y)$ se ubica por debajo o por encima de su nivel de largo plazo o Producto Potencial $(\\bar{Y})$.\n",
    "\n",
    "Entonces, curva de $OA$ de corto plazo se puede representar con la siguiente ecuación:\n",
    "\n",
    "$$ P = P^e + θ(Y - \\bar{Y}) $$ \n",
    "\n",
    "- Donde $(P)$ is the nivel de precios, $(P^e)$ el precio esperado y $\\bar{Y}$ el producto potencial."
   ]
  },
  {
   "cell_type": "markdown",
   "id": "705ee274",
   "metadata": {},
   "source": [
    "#### Ecuaciones de equilibrio DA-OA:"
   ]
  },
  {
   "cell_type": "markdown",
   "id": "57c0ac5d",
   "metadata": {},
   "source": [
    "Considerando la ecuación de la demanda agregada $(DA)$:\n",
    "\n",
    "$$  P = \\frac{h Mo^s + jB_o}{h} - \\frac{jB_1 + hk}{h}Y \\ ...(1)$$ \n",
    "\n",
    "Y la ecuación de la oferta agregada $(OA)$:\n",
    "\n",
    "$$ P = P^e + θ(Y - \\bar{Y}) \\ ...(2)$$ "
   ]
  },
  {
   "cell_type": "markdown",
   "id": "67e5e02c",
   "metadata": {},
   "source": [
    "- Para hallar $Y^{eq\\_da\\_oa}$ igualamos ecuaciones 1 y 2:\n",
    "\n",
    "$$ \\frac{h Mo^s + jB_o}{h} - \\frac{jB_1 + hk}{h}Y = P^e + θ(Y - \\bar{Y}) $$\n",
    "\n",
    "$$ Y^{eq\\_da\\_oa} = [ \\frac{1}{(θ + \\frac{jB_1 + hk}{h})} ]*[(\\frac{h Mo^s + jB_o}{h} - P^e + θ\\bar{Y})]$$"
   ]
  },
  {
   "cell_type": "markdown",
   "id": "a1da2950",
   "metadata": {},
   "source": [
    "- Para encontrar $P^{eq}$ solamente reemplazamos $Y^{eq}$ en la ecuación de oferta agregada\n",
    "\n",
    "$$ P^{eq\\_da\\_oa} = P^e + θ( Y^{eq\\_da\\_oa} - \\bar{Y} ) $$ \n",
    "\n",
    "$$ P^{eq\\_da\\_oa} = P^e + θ( [ \\frac{1}{(θ + \\frac{jB_1 + hk}{h})} ]*[(\\frac{h Mo^s + jB_o}{h} - P^e + θ\\bar{Y})] - \\bar{Y} ) $$ \n",
    "\n",
    "\n",
    "<!-- - Para hallar P^e, despejamos la ecuación de $OA$ en función de Y:\n",
    "\n",
    "$$ P = P^e + θ(Y - \\bar{Y}) $$ \n",
    "\n",
    "$$ Y = \\frac{P - P^e - θ\\bar{Y}}{θ} $$\n",
    "\n",
    "Y reemplazamos $Y$ en la ecuación de $DA$:\n",
    "\n",
    "$$ P^e = (\\frac{h Mo^s + jB_o}{h} - \\frac{jB_1 + hk}{h}) * (\\frac{P - P^e - θ\\bar{Y}}{θ}) $$ -->"
   ]
  },
  {
   "cell_type": "markdown",
   "id": "77494a25",
   "metadata": {},
   "source": [
    "- Para encontrar $r^{eq\\_da\\_oa}$ solamente reemplazamos $P^{eq\\_da\\_oa}$ en la ecuación de tasa de interés de equilibrio del modelo IS-LM. \n",
    "\n",
    "- Tasa de interés de equilibrio:\n",
    "\n",
    "$$ r^{eq\\_is\\_lm} = \\frac{kB_o}{kh + jB_1} - (\\frac{B_1}{kh + jB_1})*(Ms_o - P)$$\n",
    "\n",
    "- Tasa de interés de equilibrio en DA-OA\n",
    "$$ r^{eq\\_is\\_lm} = \\frac{kB_o}{kh + jB_1} - (\\frac{B_1}{kh + jB_1})*(Ms_o - P^{eq\\_da\\_oa})$$\n",
    "\n",
    "$$ r^{eq\\_da\\_oa} = \\frac{kB_o}{kh + jB_1} - (\\frac{B_1}{kh + jB_1})*(Ms_o - P^e + θ( [ \\frac{1}{(θ + \\frac{jB_1 + hk}{h})} ]*[(\\frac{h Mo^s + jB_o}{h} - P^e + θ\\bar{Y})] - \\bar{Y} ) ) $$\n"
   ]
  },
  {
   "cell_type": "markdown",
   "id": "eddc4ff1",
   "metadata": {},
   "source": [
    "Entonces, las ecuaciones de equilibrio del Modelo DA-OA son:\n",
    "\n",
    "1. $$ Y^{eq\\_da\\_oa} = [ \\frac{1}{(θ + \\frac{jB_1 + hk}{h})} ]*[(\\frac{h Mo^s + jB_o}{h} - P^e + θ\\bar{Y})]$$\n",
    "\n",
    "2. $$ r^{eq\\_da\\_oa} = \\frac{kB_o}{kh + jB_1} - (\\frac{B_1}{kh + jB_1})*(Ms_o - P^e + θ( [ \\frac{1}{(θ + \\frac{jB_1 + hk}{h})} ]*\\\\\n",
    "[(\\frac{h Mo^s + jB_o}{h} - P^e + θ\\bar{Y})] - \\bar{Y} ) ) $$\n",
    "\n",
    "3. $$ P^{eq\\_da\\_oa} = P^e + θ( [ \\frac{1}{(θ + \\frac{jB_1 + hk}{h})} ]*[(\\frac{h Mo^s + jB_o}{h} - P^e + θ\\bar{Y})] - \\bar{Y} ) $$ \n"
   ]
  },
  {
   "cell_type": "markdown",
   "id": "b162dea5",
   "metadata": {},
   "source": [
    "#### 1.2 Grafique el equilibrio simultáneo en los mercados de bienes y de dinero."
   ]
  },
  {
   "cell_type": "code",
   "execution_count": 2,
   "id": "d7d4afa7",
   "metadata": {},
   "outputs": [],
   "source": [
    "#1--------------------------\n",
    "    # Demanda Agregada\n",
    "    \n",
    "# Parámetros\n",
    "\n",
    "Y_size = 100 \n",
    "\n",
    "Co = 35\n",
    "Io = 40\n",
    "Go = 50\n",
    "Xo = 2\n",
    "h = 0.8\n",
    "b = 0.5\n",
    "m = 0.4\n",
    "t = 0.8\n",
    "\n",
    "k = 2\n",
    "j = 1                \n",
    "Ms = 200             \n",
    "P  = 8  \n",
    "\n",
    "Y = np.arange(Y_size)\n",
    "\n",
    "\n",
    "# Ecuación\n",
    "\n",
    "B0 = Co + Io + Go + Xo\n",
    "B1 = 1 - (b-m)*(1-t)\n",
    "\n",
    "def P_AD(h, Ms, j, B0, B1, k, Y):\n",
    "    P_AD = ((h*Ms + j*B0)/h) - (Y*(j*B1 + h*k)/h)\n",
    "    return P_AD\n",
    "\n",
    "P_AD = P_AD(h, Ms, j, B0, B1, k, Y)\n",
    "\n",
    "\n",
    "#2--------------------------\n",
    "    # Oferta Agregada\n",
    "    \n",
    "# Parámetros\n",
    "\n",
    "Y_size = 100\n",
    "\n",
    "Pe = 100 \n",
    "θ = 3\n",
    "_Y = 20   \n",
    "\n",
    "Y = np.arange(Y_size)\n",
    "\n",
    "\n",
    "# Ecuación\n",
    "\n",
    "def P_AS(Pe, _Y, Y, θ):\n",
    "    P_AS = Pe + θ*(Y-_Y)\n",
    "    return P_AS\n",
    "\n",
    "P_AS = P_AS(Pe, _Y, Y, θ)"
   ]
  },
  {
   "cell_type": "code",
   "execution_count": 3,
   "id": "f9506e29",
   "metadata": {},
   "outputs": [
    {
     "data": {
      "text/plain": [
       "(193.6144578313253, 51.204819277108435)"
      ]
     },
     "execution_count": 3,
     "metadata": {},
     "output_type": "execute_result"
    }
   ],
   "source": [
    "# líneas punteadas autómaticas\n",
    "\n",
    "    # definir la función line_intersection\n",
    "def line_intersection(line1, line2):\n",
    "    xdiff = (line1[0][0] - line1[1][0], line2[0][0] - line2[1][0])\n",
    "    ydiff = (line1[0][1] - line1[1][1], line2[0][1] - line2[1][1])\n",
    "\n",
    "    def det(a, b):\n",
    "        return a[0] * b[1] - a[1] * b[0]\n",
    "\n",
    "    div = det(xdiff, ydiff)\n",
    "    if div == 0:\n",
    "       raise Exception('lines do not intersect')\n",
    "\n",
    "    d = (det(*line1), det(*line2))\n",
    "    x = det(d, xdiff) / div\n",
    "    y = det(d, ydiff) / div\n",
    "    return x, y\n",
    "\n",
    "    # coordenadas de las curvas (x,y)\n",
    "A = [P_AD[0], Y[0]] # DA, coordenada inicio\n",
    "B = [P_AD[-1], Y[-1]] # DA, coordenada fin\n",
    "\n",
    "C = [P_AS[0], Y[0]] # L_45, coordenada inicio\n",
    "D = [P_AS[-1], Y[-1]] # L_45, coordenada fin\n",
    "\n",
    "    # creación de intersección\n",
    "\n",
    "intersec = line_intersection((A, B), (C, D))\n",
    "intersec # (y,x)"
   ]
  },
  {
   "cell_type": "code",
   "execution_count": 4,
   "id": "c80313be",
   "metadata": {},
   "outputs": [
    {
     "data": {
      "image/png": "[encoded data removed]",
      "text/plain": [
       "<Figure size 720x576 with 1 Axes>"
      ]
     },
     "metadata": {},
     "output_type": "display_data"
    }
   ],
   "source": [
    "    # Gráfico del modelo DA-OA\n",
    "\n",
    "# Dimensiones del gráfico\n",
    "y_max = np.max(P)\n",
    "fig, ax = plt.subplots(figsize=(10, 8))\n",
    "\n",
    "# Curvas a graficar \n",
    "ax.plot(Y, P_AD, label = \"DA\", color = \"C4\") #DA\n",
    "ax.plot(Y, P_AS, label = \"OA\", color = \"C8\") #OA\n",
    "\n",
    "# Líneas punteadas\n",
    "plt.axhline(y=intersec[0], xmin= 0, xmax= 0.51, linestyle = \":\", color = \"grey\")\n",
    "plt.axvline(x=intersec[1],  ymin= 0, ymax= 0.49, linestyle = \":\", color = \"grey\")\n",
    "\n",
    "# Texto agregado\n",
    "plt.text(0, 200, '$P_0$', fontsize = 12, color = 'black')\n",
    "plt.text(53, 25, '$Y_0$', fontsize = 12, color = 'black')\n",
    "plt.text(50, 202, '$E_0$', fontsize = 12, color = 'black')\n",
    "\n",
    "\n",
    "# Eliminar valores de ejes\n",
    "ax.yaxis.set_major_locator(plt.NullLocator())   \n",
    "ax.xaxis.set_major_locator(plt.NullLocator())\n",
    "\n",
    "# Título, ejes y leyenda\n",
    "ax.set(title=\"DA-OA\", xlabel= r'Y', ylabel= r'P')\n",
    "ax.legend()\n",
    "\n",
    "plt.show()"
   ]
  },
  {
   "cell_type": "code",
   "execution_count": 5,
   "id": "7c9d282a",
   "metadata": {},
   "outputs": [],
   "source": [
    "# nombrar variables como símbolos de IS\n",
    "Co, Io, Go, Xo, h, r, b, m, t, beta_0, beta_1  = symbols('Co Io Go Xo h r b m t beta_0, beta_1')\n",
    "\n",
    "# nombrar variables como símbolos de LM \n",
    "k, j, Ms, P, Y = symbols('k j Ms P Y')\n",
    "\n",
    "# nombrar variables como símbolos para curva de oferta agregada\n",
    "Pe, _Y, Y, θ = symbols('Pe, _Y, Y, θ')\n",
    "\n",
    "# Beta_0 y beta_1\n",
    "beta_0 = (Co + Io + Go + Xo)\n",
    "beta_1 = ( 1-(b-m)*(1-t) )\n",
    "\n",
    "# Producto de equilibrio en el modelo DA-OA\n",
    "Y_eq = ( (1)/(θ + ( (j*beta_1+h*k)/h) ) )*( ( (h*Ms+j*beta_0)/h ) - Pe + θ*_Y )\n",
    "\n",
    "# Precio de equilibrio en el modelo DA-OA \n",
    "P_eq = Pe + θ*(Y_eq - _Y)\n",
    "\n",
    "# Tasa de interés de equilibrio en el modelo DA-OA\n",
    "r_eq = (j*beta_0)/(k*h + j*beta_1) + ( h / (k*h + j*beta_1) )*(Ms - P_eq)\n",
    "#((h*Ms+j*beta_0)/h) - ((j*beta_1+h*r)/h)*((P-Pe-θ*_Y)/θ)\n"
   ]
  },
  {
   "cell_type": "markdown",
   "id": "491d20bd",
   "metadata": {},
   "source": [
    "### 2. Estática comparativa:"
   ]
  },
  {
   "cell_type": "markdown",
   "id": "a27a5d5a",
   "metadata": {},
   "source": [
    "#### 2.1. Analice los efectos sobre las variables endógenas $Y$, $P$ y $r$ de una disminución del gasto fiscal $(∆G_0 < 0)$. El análisis debe ser intuitivo, matemático y gráfico. En una figura, se debe que usar los ejes $r$ e $Y$ (modelo IS-LM), y en la otra, los ejes $P$ y $r$ (modelo DA-OA)"
   ]
  },
  {
   "cell_type": "markdown",
   "id": "ed0a96fb",
   "metadata": {},
   "source": [
    "- Matemática:"
   ]
  },
  {
   "cell_type": "code",
   "execution_count": 6,
   "id": "e9945ec6",
   "metadata": {},
   "outputs": [],
   "source": [
    "# nombrar variables como símbolos de IS\n",
    "Co, Io, Go, Xo, h, r, b, m, t, beta_0, beta_1  = symbols('Co Io Go Xo h r b m t beta_0, beta_1')\n",
    "\n",
    "# nombrar variables como símbolos de LM \n",
    "k, j, Ms, P, Y = symbols('k j Ms P Y')\n",
    "\n",
    "# nombrar variables como símbolos para curva de oferta agregada\n",
    "Pe, _Y, Y, θ = symbols('Pe, _Y, Y, θ')\n",
    "\n",
    "# Beta_0 y beta_1\n",
    "beta_0 = (Co + Io + Go + Xo)\n",
    "beta_1 = ( 1-(b-m)*(1-t) )\n",
    "\n",
    "# Producto de equilibrio en el modelo DA-OA\n",
    "Y_eq = ( (1)/(θ + ( (j*beta_1+h*k)/h) ) )*( ( (h*Ms+j*beta_0)/h ) - Pe + θ*_Y )\n",
    "\n",
    "# Precio de equilibrio en el modelo DA-OA \n",
    "P_eq = Pe + θ*(Y_eq - _Y)\n",
    "\n",
    "# Tasa de interés de equilibrio en el modelo DA-OA\n",
    "r_eq = (j*beta_0)/(k*h + j*beta_1) + ( h / (k*h + j*beta_1) )*(Ms - P_eq)\n",
    "#((h*Ms+j*beta_0)/h) - ((j*beta_1+h*r)/h)*((P-Pe-θ*_Y)/θ)\n"
   ]
  },
  {
   "cell_type": "code",
   "execution_count": 7,
   "id": "3ae9bab2",
   "metadata": {
    "scrolled": true
   },
   "outputs": [
    {
     "name": "stdout",
     "output_type": "stream",
     "text": [
      "El Diferencial del Producto con respecto al diferencial del gasto de gobierno =  j/(h*(θ + (h*k + j*(-(1 - t)*(b - m) + 1))/h))\n"
     ]
    }
   ],
   "source": [
    "df_Y_eq_Go = diff(Y_eq, Go)\n",
    "print(\"El Diferencial del Producto con respecto al diferencial del gasto de gobierno = \", df_Y_eq_Go)\n"
   ]
  },
  {
   "cell_type": "markdown",
   "id": "f5bd137c",
   "metadata": {},
   "source": [
    "¿$∆Y$ sabiendo que $∆G_0 < 0$?\n",
    "\n",
    "$$ \\frac{∆Y}{∆G_0} = (+) $$\n",
    "\n",
    "$$ \\frac{∆Y}{(-)} = (+) $$\n",
    "\n",
    "$$ ∆Y < 0 $$"
   ]
  },
  {
   "cell_type": "code",
   "execution_count": 8,
   "id": "2542eb92",
   "metadata": {},
   "outputs": [
    {
     "name": "stdout",
     "output_type": "stream",
     "text": [
      "El Diferencial del nivel de precios con respecto al diferencial del gasto de gobierno =  j*θ/(h*(θ + (h*k + j*(-(1 - t)*(b - m) + 1))/h))\n"
     ]
    }
   ],
   "source": [
    "df_P_eq_Go = diff(P_eq, Go)\n",
    "print(\"El Diferencial del nivel de precios con respecto al diferencial del gasto de gobierno = \", df_P_eq_Go)\n"
   ]
  },
  {
   "cell_type": "markdown",
   "id": "fbf0a63e",
   "metadata": {},
   "source": [
    "¿$∆P$ sabiendo que $∆G_0 < 0$?\n",
    "\n",
    "$$ \\frac{∆P}{∆G_0} = (+) $$\n",
    "\n",
    "$$ \\frac{∆P}{(-)} = (+) $$\n",
    "\n",
    "$$ ∆P < 0 $$"
   ]
  },
  {
   "cell_type": "code",
   "execution_count": 9,
   "id": "cb2eaaa7",
   "metadata": {},
   "outputs": [
    {
     "name": "stdout",
     "output_type": "stream",
     "text": [
      "El Diferencial de la tasa de interes con respecto al diferencial del gasto de gobierno =  -j*θ/((θ + (h*k + j*(-(1 - t)*(b - m) + 1))/h)*(h*k + j*(-(1 - t)*(b - m) + 1))) + j/(h*k + j*(-(1 - t)*(b - m) + 1))\n"
     ]
    }
   ],
   "source": [
    "df_r_eq_Go = diff(r_eq, Go)\n",
    "print(\"El Diferencial de la tasa de interes con respecto al diferencial del gasto de gobierno = \", df_r_eq_Go)\n"
   ]
  },
  {
   "cell_type": "markdown",
   "id": "b456c683",
   "metadata": {},
   "source": [
    "¿$∆r$ sabiendo que $∆G_0 < 0$?\n",
    "\n",
    "$$ \\frac{∆r}{∆G_0} = (+) $$\n",
    "\n",
    "$$ \\frac{∆r}{(-)} = (+) $$\n",
    "\n",
    "$$ ∆r < 0 $$"
   ]
  },
  {
   "cell_type": "markdown",
   "id": "1cf7577b",
   "metadata": {},
   "source": [
    "- Intuición:\n",
    "\n",
    "Modelo IS-LM: \n",
    "\n",
    "$$ G_o↓ → DA↓ → DA < Y → Y↓ $$\n",
    "\n",
    "$$ Y↓ → M^d↓ → M^d < M^s → r↓ $$\n",
    "\n",
    "Modelo DA-OA: \n",
    "\n",
    "$$ Y↓ → θ(Y-\\bar{Y})↓ → P↓ $$\n"
   ]
  },
  {
   "cell_type": "code",
   "execution_count": 10,
   "id": "aa884b33",
   "metadata": {},
   "outputs": [],
   "source": [
    "#1--------------------------------------------------\n",
    "    # Curva IS ORIGINAL\n",
    "\n",
    "# Parámetros\n",
    "\n",
    "Y_size = 100 \n",
    "\n",
    "Co = 35\n",
    "Io = 40\n",
    "Go = 50\n",
    "Xo = 2\n",
    "h = 0.8\n",
    "b = 0.4\n",
    "m = 0.5\n",
    "t = 0.8\n",
    "\n",
    "Y = np.arange(Y_size)\n",
    "\n",
    "\n",
    "# Ecuación \n",
    "def r_IS(b, m, t, Co, Io, Go, Xo, h, Y):\n",
    "    r_IS = (Co + Io + Go + Xo - Y * (1-(b-m)*(1-t)))/h\n",
    "    return r_IS\n",
    "\n",
    "r = r_IS(b, m, t, Co, Io, Go, Xo, h, Y)\n",
    "\n",
    "#--------------------------------------------------\n",
    "    # NUEVA curva IS: disminución en el Gasto (Go)\n",
    "\n",
    "# Definir SOLO el parámetro cambiado\n",
    "Go = 35\n",
    "\n",
    "# Generar la ecuación con el nuevo parámetro\n",
    "def r_IS_Go(b, m, t, Co, Io, Go, Xo, h, Y):\n",
    "    r_IS = (Co + Io + Go + Xo - Y * (1-(b-m)*(1-t)))/h\n",
    "    return r_IS\n",
    "\n",
    "r_Go = r_IS_Go(b, m, t, Co, Io, Go, Xo, h, Y)\n",
    "\n",
    "\n",
    "#2--------------------------------------------------\n",
    "    # Curva LM ORIGINAL\n",
    "\n",
    "# Parámetros\n",
    "\n",
    "Y_size = 100\n",
    "\n",
    "k = 2\n",
    "j = 1                \n",
    "Ms = 200             \n",
    "P  = 8           \n",
    "\n",
    "Y = np.arange(Y_size)\n",
    "\n",
    "# Ecuación\n",
    "\n",
    "def i_LM( k, j, Ms, P, Y):\n",
    "    i_LM = (-Ms/P)/j + k/j*Y\n",
    "    return i_LM\n",
    "\n",
    "i = i_LM( k, j, Ms, P, Y)\n"
   ]
  },
  {
   "cell_type": "code",
   "execution_count": 11,
   "id": "7d79794b",
   "metadata": {},
   "outputs": [],
   "source": [
    "#1--------------------------\n",
    "    # Demanda Agregada ORGINAL\n",
    "    \n",
    "# Parámetros\n",
    "\n",
    "Y_size = 100 \n",
    "\n",
    "Co = 35\n",
    "Io = 40\n",
    "Go = 50\n",
    "Xo = 2\n",
    "h = 0.8\n",
    "b = 0.5\n",
    "m = 0.4\n",
    "t = 0.8\n",
    "\n",
    "k = 2\n",
    "j = 1                \n",
    "Ms = 200             \n",
    "P  = 8  \n",
    "\n",
    "Y = np.arange(Y_size)\n",
    "\n",
    "\n",
    "# Ecuación\n",
    "\n",
    "B0 = Co + Io + Go + Xo\n",
    "B1 = 1 - (b-m)*(1-t)\n",
    "\n",
    "def P_AD(h, Ms, j, B0, B1, k, Y):\n",
    "    P_AD = ((h*Ms + j*B0)/h) - (Y*(j*B1 + h*k)/h)\n",
    "    return P_AD\n",
    "\n",
    "P_AD = P_AD(h, Ms, j, B0, B1, k, Y)\n",
    "\n",
    "#--------------------------------------------------\n",
    "    # NUEVA Demanda Agregada\n",
    "\n",
    "# Definir SOLO el parámetro cambiado\n",
    "\n",
    "Go = 20\n",
    "\n",
    "# Generar la ecuación con el nuevo parámetro\n",
    "\n",
    "B0 = Co + Io + Go + Xo\n",
    "B1 = 1 - (b-m)*(1-t)\n",
    "\n",
    "def P_AD_G(h, Ms, j, B0, B1, k, Y):\n",
    "    P_AD = ((h*Ms + j*B0)/h) - (Y*(j*B1 + h*k)/h)\n",
    "    return P_AD\n",
    "\n",
    "P_AD_G = P_AD_G(h, Ms, j, B0, B1, k, Y)\n",
    "\n",
    "\n",
    "#2--------------------------\n",
    "    # Oferta Agregada ORIGINAL\n",
    "    \n",
    "# Parámetros\n",
    "\n",
    "Y_size = 100\n",
    "\n",
    "Pe = 70\n",
    "θ = 3\n",
    "_Y = 20  \n",
    "\n",
    "Y = np.arange(Y_size)\n",
    "\n",
    "# Ecuación\n",
    "\n",
    "def P_AS(Pe, _Y, Y, θ):\n",
    "    P_AS = Pe + θ*(Y-_Y)\n",
    "    return P_AS\n",
    "\n",
    "P_AS = P_AS(Pe, _Y, Y, θ)\n"
   ]
  },
  {
   "cell_type": "code",
   "execution_count": 13,
   "id": "df57e48e",
   "metadata": {},
   "outputs": [],
   "source": [
    "# líneas punteadas autómaticas\n",
    "\n",
    "    # definir la función line_intersection\n",
    "def line_intersection(line1, line2):\n",
    "    xdiff = (line1[0][0] - line1[1][0], line2[0][0] - line2[1][0])\n",
    "    ydiff = (line1[0][1] - line1[1][1], line2[0][1] - line2[1][1])\n",
    "\n",
    "    def det(a, b):\n",
    "        return a[0] * b[1] - a[1] * b[0]\n",
    "\n",
    "    div = det(xdiff, ydiff)\n",
    "    if div == 0:\n",
    "       raise Exception('lines do not intersect')\n",
    "\n",
    "    d = (det(*line1), det(*line2))\n",
    "    x = det(d, xdiff) / div\n",
    "    y = det(d, ydiff) / div\n",
    "    return x, y"
   ]
  },
  {
   "cell_type": "code",
   "execution_count": 14,
   "id": "2b6df48c",
   "metadata": {},
   "outputs": [
    {
     "data": {
      "text/plain": [
       "(87.21374045801527, 56.10687022900763)"
      ]
     },
     "execution_count": 14,
     "metadata": {},
     "output_type": "execute_result"
    }
   ],
   "source": [
    "    # Intersección IS-LM original\n",
    "A = [r[0], Y[0]] \n",
    "B = [r[-1], Y[-1]] \n",
    "\n",
    "C = [i[0], Y[0]] \n",
    "D = [i[-1], Y[-1]] \n",
    "\n",
    "    # creación de intersección\n",
    "intersec_ISLM = line_intersection((A, B), (C, D))\n",
    "intersec_ISLM # (y,x)"
   ]
  },
  {
   "cell_type": "code",
   "execution_count": 22,
   "id": "1b100620",
   "metadata": {},
   "outputs": [
    {
     "data": {
      "text/plain": [
       "(75.76335877862596, 50.38167938931297)"
      ]
     },
     "execution_count": 22,
     "metadata": {},
     "output_type": "execute_result"
    }
   ],
   "source": [
    "    # Intersección IS nueva - LM \n",
    "A = [r_Go[0], Y[0]] \n",
    "B = [r_Go[-1], Y[-1]] \n",
    "\n",
    "C = [i[0], Y[0]] \n",
    "D = [i[-1], Y[-1]] \n",
    "\n",
    "    # creación de intersección\n",
    "intersec_ISLM_Go = line_intersection((A, B), (C, D))\n",
    "intersec_ISLM_Go # (y,x)"
   ]
  },
  {
   "cell_type": "code",
   "execution_count": 19,
   "id": "92ba16bb",
   "metadata": {},
   "outputs": [
    {
     "data": {
      "text/plain": [
       "(178.0722891566265, 56.02409638554217)"
      ]
     },
     "execution_count": 19,
     "metadata": {},
     "output_type": "execute_result"
    }
   ],
   "source": [
    "    # Intersección DA-OA original\n",
    "A = [P_AD[0], Y[0]] \n",
    "B = [P_AD[-1], Y[-1]] \n",
    "\n",
    "C = [P_AS[0], Y[0]] \n",
    "D = [P_AS[-1], Y[-1]] \n",
    "\n",
    "    # creación de intersección\n",
    "intersec_DAOA = line_intersection((A, B), (C, D))\n",
    "intersec_DAOA # (y,x)"
   ]
  },
  {
   "cell_type": "code",
   "execution_count": 24,
   "id": "e2232350",
   "metadata": {},
   "outputs": [
    {
     "data": {
      "text/plain": [
       "(160.0, 50.0)"
      ]
     },
     "execution_count": 24,
     "metadata": {},
     "output_type": "execute_result"
    }
   ],
   "source": [
    "    # Intersección DA nueva - OA original\n",
    "A = [P_AD_G[0], Y[0]] \n",
    "B = [P_AD_G[-1], Y[-1]] \n",
    "\n",
    "C = [P_AS[0], Y[0]] \n",
    "D = [P_AS[-1], Y[-1]] \n",
    "\n",
    "    # creación de intersección\n",
    "intersec_DAOA_Go = line_intersection((A, B), (C, D))\n",
    "intersec_DAOA_Go # (y,x)"
   ]
  },
  {
   "cell_type": "code",
   "execution_count": 25,
   "id": "3d400250",
   "metadata": {
    "scrolled": false
   },
   "outputs": [
    {
     "data": {
      "text/plain": [
       "<function matplotlib.pyplot.show(close=None, block=None)>"
      ]
     },
     "execution_count": 25,
     "metadata": {},
     "output_type": "execute_result"
    },
    {
     "data": {
      "image/png": "[encoded data removed]",
      "text/plain": [
       "<Figure size 576x1152 with 2 Axes>"
      ]
     },
     "metadata": {
      "needs_background": "light"
     },
     "output_type": "display_data"
    }
   ],
   "source": [
    "# Dos gráficos en un solo cuadro\n",
    "fig, (ax1, ax2) = plt.subplots(2, figsize=(8, 16)) \n",
    "\n",
    "#---------------------------------\n",
    "    # Gráfico 1: IS-LM\n",
    "    \n",
    "ax1.plot(Y, r, label = \"IS\", color = \"C1\") #IS\n",
    "ax1.plot(Y, r_Go, label=\"IS_Go\", color = \"C1\", linestyle ='dashed')  #IS\n",
    "ax1.plot(Y, i, label=\"LM\", color = \"C0\")  #LM\n",
    "\n",
    "ax1.axvline(x=intersec_ISLM[1],  ymin= 0, ymax= 0.56, linestyle = \":\", color = \"grey\")\n",
    "ax1.axhline(y=intersec_ISLM[0],  xmin= 0, xmax= 0.56, linestyle = \":\", color = \"grey\")\n",
    "\n",
    "ax1.axvline(x=intersec_ISLM_Go[1],  ymin= 0, ymax= 0.5, linestyle = \":\", color = \"grey\")\n",
    "ax1.axhline(y=intersec_ISLM_Go[0],  xmin= 0, xmax= 0.5, linestyle = \":\", color = \"grey\")\n",
    "\n",
    "ax1.text(25, 112, '←', fontsize=15, color='grey')\n",
    "ax1.text(51, -20, '←', fontsize=15, color='grey')\n",
    "ax1.text(0, 79, '↓', fontsize=15, color='grey')\n",
    "ax1.text(58, -25, '$Y_0$', fontsize=12, color='black')\n",
    "ax1.text(45, -25, '$Y_1$', fontsize=12, color='C1')\n",
    "ax1.text(0, 68, '$r_1$', fontsize=12, color='C1')\n",
    "ax1.text(0, 92, '$r_0$', fontsize=12, color='black')\n",
    "\n",
    "\n",
    "ax1.set(title=\"Efectos de una disminución en el Gasto de Gobierno\", xlabel= r'Y', ylabel= r'r')\n",
    "ax1.legend()\n",
    "\n",
    "\n",
    "#---------------------------------\n",
    "    # Gráfico 2:\n",
    "\n",
    "ax2.plot(Y, P_AD, label = \"AD\", color = \"C4\") #DA\n",
    "ax2.plot(Y, P_AD_G, label = \"AD_Go\", color = \"C4\", linestyle = 'dashed') #DA_Go\n",
    "ax2.plot(Y, P_AS, label = \"AS\", color = \"C8\") #OA\n",
    "\n",
    "ax2.axhline(y=intersec_DAOA[0],  xmin= 0, xmax= 0.56, linestyle = \":\", color = \"grey\")\n",
    "ax2.axvline(x=intersec_DAOA[1],  ymin= 0, ymax= 1, linestyle = \":\", color = \"grey\")\n",
    "\n",
    "ax2.axhline(y=intersec_DAOA_Go[0],  xmin= 0, xmax= 0.5, linestyle = \":\", color = \"grey\")\n",
    "ax2.axvline(x=intersec_DAOA_Go[1],  ymin= 0, ymax= 1, linestyle = \":\", color = \"grey\")\n",
    "\n",
    "ax2.text(51, 10, '←', fontsize=15, color='grey')\n",
    "ax2.text(33, 220, '←', fontsize=15, color='grey')\n",
    "ax2.text(0, 163, '↓', fontsize=15, color='grey')\n",
    "\n",
    "ax2.text(58, 0, '$Y_0$', fontsize=12, color='black')\n",
    "ax2.text(45, 0, '$Y_1$', fontsize=12, color='C8')\n",
    "ax2.text(0, 140, '$P_1$', fontsize=12, color='C8')\n",
    "ax2.text(0, 185, '$P_0$', fontsize=12, color='black')\n",
    "\n",
    "ax2.set(xlabel= r'Y', ylabel= r'P')\n",
    "ax2.legend()\n",
    "\n",
    "plt.show"
   ]
  },
  {
   "cell_type": "markdown",
   "id": "9339641f",
   "metadata": {},
   "source": [
    "#### 2.2. Analice los efectos sobre las variables endógenas $Y$, $P$ y $r$ de una disminución del gasto fiscal $(∆M^s < 0)$. El análisis debe ser intuitivo, matemático y gráfico. En una figura, se debe que usar los ejes $r$ e $Y$ (modelo IS-LM), y en la otra, los ejes $P$ y $r$ (modelo DA-OA)"
   ]
  },
  {
   "cell_type": "markdown",
   "id": "27c940f8",
   "metadata": {},
   "source": [
    "- Matemática:"
   ]
  },
  {
   "cell_type": "code",
   "execution_count": 27,
   "id": "c576e255",
   "metadata": {},
   "outputs": [],
   "source": [
    "# nombrar variables como símbolos de IS\n",
    "Co, Io, Go, Xo, h, r, b, m, t, beta_0, beta_1  = symbols('Co Io Go Xo h r b m t beta_0, beta_1')\n",
    "\n",
    "# nombrar variables como símbolos de LM \n",
    "k, j, Ms, P, Y = symbols('k j Ms P Y')\n",
    "\n",
    "# nombrar variables como símbolos para curva de oferta agregada\n",
    "Pe, _Y, Y, θ = symbols('Pe, _Y, Y, θ')\n",
    "\n",
    "# Beta_0 y beta_1\n",
    "beta_0 = (Co + Io + Go + Xo)\n",
    "beta_1 = ( 1-(b-m)*(1-t) )\n",
    "\n",
    "# Producto de equilibrio en el modelo DA-OA\n",
    "Y_eq = ( (1)/(θ + ( (j*beta_1+h*k)/h) ) )*( ( (h*Ms+j*beta_0)/h ) - Pe + θ*_Y )\n",
    "\n",
    "# Precio de equilibrio en el modelo DA-OA \n",
    "P_eq = Pe + θ*(Y_eq - _Y)\n",
    "\n",
    "# Tasa de interés de equilibrio en el modelo DA-OA\n",
    "r_eq = (j*beta_0)/(k*h + j*beta_1) + ( h / (k*h + j*beta_1) )*(Ms - P_eq)\n",
    "#((h*Ms+j*beta_0)/h) - ((j*beta_1+h*r)/h)*((P-Pe-θ*_Y)/θ)\n"
   ]
  },
  {
   "cell_type": "code",
   "execution_count": 28,
   "id": "a9c74db4",
   "metadata": {
    "scrolled": true
   },
   "outputs": [
    {
     "name": "stdout",
     "output_type": "stream",
     "text": [
      "El Diferencial del Producto con respecto al diferencial de la masa monetaria =  1/(θ + (h*k + j*(-(1 - t)*(b - m) + 1))/h)\n"
     ]
    }
   ],
   "source": [
    "df_Y_eq_Ms = diff(Y_eq, Ms)\n",
    "print(\"El Diferencial del Producto con respecto al diferencial de la masa monetaria = \", df_Y_eq_Ms)\n"
   ]
  },
  {
   "cell_type": "markdown",
   "id": "5a9093f6",
   "metadata": {},
   "source": [
    "¿$∆Y$ sabiendo que $∆M^s < 0$?\n",
    "\n",
    "$$ \\frac{∆Y}{∆M^s} = (+) $$\n",
    "\n",
    "$$ \\frac{∆Y}{(-)} = (+) $$\n",
    "\n",
    "$$ ∆Y < 0 $$"
   ]
  },
  {
   "cell_type": "code",
   "execution_count": 29,
   "id": "cf56fdbe",
   "metadata": {},
   "outputs": [
    {
     "name": "stdout",
     "output_type": "stream",
     "text": [
      "El Diferencial del nivel de precios con respecto al diferencial de la masa monetaria =  θ/(θ + (h*k + j*(-(1 - t)*(b - m) + 1))/h)\n"
     ]
    }
   ],
   "source": [
    "df_P_eq_Ms = diff(P_eq, Ms)\n",
    "print(\"El Diferencial del nivel de precios con respecto al diferencial de la masa monetaria = \", df_P_eq_Ms)\n"
   ]
  },
  {
   "cell_type": "markdown",
   "id": "a704c376",
   "metadata": {},
   "source": [
    "¿$∆P$ sabiendo que $∆M^s < 0$?\n",
    "\n",
    "$$ \\frac{∆P}{∆M^s} = (+) $$\n",
    "\n",
    "$$ \\frac{∆P}{(-)} = (+) $$\n",
    "\n",
    "$$ ∆P < 0 $$"
   ]
  },
  {
   "cell_type": "code",
   "execution_count": 30,
   "id": "4bd7a79b",
   "metadata": {},
   "outputs": [
    {
     "name": "stdout",
     "output_type": "stream",
     "text": [
      "El Diferencial de la tasa de interes con respecto al diferencial de la masa monetaria =  h*(-θ/(θ + (h*k + j*(-(1 - t)*(b - m) + 1))/h) + 1)/(h*k + j*(-(1 - t)*(b - m) + 1))\n"
     ]
    }
   ],
   "source": [
    "df_r_eq_Ms = diff(r_eq, Ms)\n",
    "print(\"El Diferencial de la tasa de interes con respecto al diferencial de la masa monetaria = \", df_r_eq_Ms)\n"
   ]
  },
  {
   "cell_type": "markdown",
   "id": "e217380c",
   "metadata": {},
   "source": [
    "¿$∆r$ sabiendo que $∆M^s < 0$?\n",
    "\n",
    "$$ \\frac{∆r}{∆M^s} = (+) $$\n",
    "\n",
    "$$ \\frac{∆r}{(-)} = (-) $$\n",
    "\n",
    "$$ ∆r > 0 $$"
   ]
  },
  {
   "cell_type": "markdown",
   "id": "1cf7577b",
   "metadata": {},
   "source": [
    "- Intuición:\n",
    "\n",
    "Modelo IS-LM: \n",
    "\n",
    "$$ M^s↓ → M^s < M^d → r↑ $$\n",
    "$$ r↑ → I↓ → DA↓ → DA > Y → Y↓ $$\n",
    "\n",
    "Modelo DA-OA: \n",
    "\n",
    "$$ Y↓ → θ(Y-\\bar{Y})↓ → P↓$$\n"
   ]
  },
  {
   "cell_type": "code",
   "execution_count": 35,
   "id": "7478e414",
   "metadata": {},
   "outputs": [],
   "source": [
    "#1--------------------------------------------------\n",
    "    # Curva IS ORIGINAL\n",
    "\n",
    "# Parámetros\n",
    "\n",
    "Y_size = 100 \n",
    "\n",
    "Co = 35\n",
    "Io = 40\n",
    "Go = 50\n",
    "Xo = 2\n",
    "h = 0.8\n",
    "b = 0.4\n",
    "m = 0.5\n",
    "t = 0.8\n",
    "\n",
    "Y = np.arange(Y_size)\n",
    "\n",
    "\n",
    "# Ecuación \n",
    "def r_IS(b, m, t, Co, Io, Go, Xo, h, Y):\n",
    "    r_IS = (Co + Io + Go + Xo - Y * (1-(b-m)*(1-t)))/h\n",
    "    return r_IS\n",
    "\n",
    "r = r_IS(b, m, t, Co, Io, Go, Xo, h, Y)\n",
    "\n",
    "\n",
    "#2--------------------------------------------------\n",
    "    # Curva LM ORIGINAL\n",
    "\n",
    "# Parámetros\n",
    "\n",
    "Y_size = 100\n",
    "\n",
    "k = 2\n",
    "j = 1                \n",
    "Ms = 200             \n",
    "P  = 8           \n",
    "\n",
    "Y = np.arange(Y_size)\n",
    "\n",
    "# Ecuación\n",
    "\n",
    "def i_LM( k, j, Ms, P, Y):\n",
    "    i_LM = (-Ms/P)/j + k/j*Y\n",
    "    return i_LM\n",
    "\n",
    "i = i_LM( k, j, Ms, P, Y)\n",
    "\n",
    "#--------------------------------------------------\n",
    "    # NUEVA curva IS: disminución en el Gasto (Go)\n",
    "\n",
    "# Definir SOLO el parámetro cambiado\n",
    "Ms = 50\n",
    "\n",
    "# Generar la ecuación con el nuevo parámetro\n",
    "def i_LM_Ms( k, j, Ms, P, Y):\n",
    "    i_LM = (-Ms/P)/j + k/j*Y\n",
    "    return i_LM\n",
    "\n",
    "i_Ms = i_LM_Ms( k, j, Ms, P, Y)\n"
   ]
  },
  {
   "cell_type": "code",
   "execution_count": 36,
   "id": "ac1cb3da",
   "metadata": {},
   "outputs": [],
   "source": [
    "#1--------------------------\n",
    "    # Demanda Agregada ORGINAL\n",
    "    \n",
    "# Parámetros\n",
    "\n",
    "Y_size = 100 \n",
    "\n",
    "Co = 35\n",
    "Io = 40\n",
    "Go = 50\n",
    "Xo = 2\n",
    "h = 0.8\n",
    "b = 0.5\n",
    "m = 0.4\n",
    "t = 0.8\n",
    "\n",
    "k = 2\n",
    "j = 1                \n",
    "Ms = 200             \n",
    "P  = 8  \n",
    "\n",
    "Y = np.arange(Y_size)\n",
    "\n",
    "\n",
    "# Ecuación\n",
    "\n",
    "B0 = Co + Io + Go + Xo\n",
    "B1 = 1 - (b-m)*(1-t)\n",
    "\n",
    "def P_AD(h, Ms, j, B0, B1, k, Y):\n",
    "    P_AD = ((h*Ms + j*B0)/h) - (Y*(j*B1 + h*k)/h)\n",
    "    return P_AD\n",
    "\n",
    "P_AD = P_AD(h, Ms, j, B0, B1, k, Y)\n",
    "\n",
    "#--------------------------------------------------\n",
    "    # NUEVA Demanda Agregada\n",
    "\n",
    "# Definir SOLO el parámetro cambiado\n",
    "\n",
    "Ms = 165\n",
    "\n",
    "# Generar la ecuación con el nuevo parámetro\n",
    "\n",
    "B0 = Co + Io + Go + Xo\n",
    "B1 = 1 - (b-m)*(1-t)\n",
    "\n",
    "def P_AD_Ms(h, Ms, j, B0, B1, k, Y):\n",
    "    P_AD = ((h*Ms + j*B0)/h) - (Y*(j*B1 + h*k)/h)\n",
    "    return P_AD\n",
    "\n",
    "P_AD_Ms = P_AD_Ms(h, Ms, j, B0, B1, k, Y)\n",
    "\n",
    "\n",
    "#2--------------------------\n",
    "    # Oferta Agregada ORIGINAL\n",
    "    \n",
    "# Parámetros\n",
    "\n",
    "Y_size = 100\n",
    "\n",
    "Pe = 70\n",
    "θ = 3\n",
    "_Y = 20  \n",
    "\n",
    "Y = np.arange(Y_size)\n",
    "\n",
    "# Ecuación\n",
    "\n",
    "def P_AS(Pe, _Y, Y, θ):\n",
    "    P_AS = Pe + θ*(Y-_Y)\n",
    "    return P_AS\n",
    "\n",
    "P_AS = P_AS(Pe, _Y, Y, θ)\n"
   ]
  },
  {
   "cell_type": "code",
   "execution_count": 37,
   "id": "b5f08141",
   "metadata": {},
   "outputs": [],
   "source": [
    "# líneas punteadas autómaticas\n",
    "\n",
    "    # definir la función line_intersection\n",
    "def line_intersection(line1, line2):\n",
    "    xdiff = (line1[0][0] - line1[1][0], line2[0][0] - line2[1][0])\n",
    "    ydiff = (line1[0][1] - line1[1][1], line2[0][1] - line2[1][1])\n",
    "\n",
    "    def det(a, b):\n",
    "        return a[0] * b[1] - a[1] * b[0]\n",
    "\n",
    "    div = det(xdiff, ydiff)\n",
    "    if div == 0:\n",
    "       raise Exception('lines do not intersect')\n",
    "\n",
    "    d = (det(*line1), det(*line2))\n",
    "    x = det(d, xdiff) / div\n",
    "    y = det(d, ydiff) / div\n",
    "    return x, y"
   ]
  },
  {
   "cell_type": "code",
   "execution_count": 38,
   "id": "87700e70",
   "metadata": {},
   "outputs": [
    {
     "data": {
      "text/plain": [
       "(87.21374045801527, 56.10687022900763)"
      ]
     },
     "execution_count": 38,
     "metadata": {},
     "output_type": "execute_result"
    }
   ],
   "source": [
    "    # Intersección IS-LM original\n",
    "A = [r[0], Y[0]] \n",
    "B = [r[-1], Y[-1]] \n",
    "\n",
    "C = [i[0], Y[0]] \n",
    "D = [i[-1], Y[-1]] \n",
    "\n",
    "    # creación de intersección\n",
    "intersec_ISLM = line_intersection((A, B), (C, D))\n",
    "intersec_ISLM # (y,x)"
   ]
  },
  {
   "cell_type": "code",
   "execution_count": 39,
   "id": "bf76ce11",
   "metadata": {},
   "outputs": [
    {
     "data": {
      "text/plain": [
       "(94.51335877862596, 50.38167938931297)"
      ]
     },
     "execution_count": 39,
     "metadata": {},
     "output_type": "execute_result"
    }
   ],
   "source": [
    "    # Intersección IS - LM nueva\n",
    "A = [r[0], Y[0]] \n",
    "B = [r[-1], Y[-1]] \n",
    "\n",
    "C = [i_Ms[0], Y[0]] \n",
    "D = [i_Ms[-1], Y[-1]] \n",
    "\n",
    "    # creación de intersección\n",
    "intersec_ISLM_Ms = line_intersection((A, B), (C, D))\n",
    "intersec_ISLM_Ms # (y,x)"
   ]
  },
  {
   "cell_type": "code",
   "execution_count": 42,
   "id": "57d98b69",
   "metadata": {},
   "outputs": [
    {
     "data": {
      "text/plain": [
       "(178.0722891566265, 56.02409638554217)"
      ]
     },
     "execution_count": 42,
     "metadata": {},
     "output_type": "execute_result"
    }
   ],
   "source": [
    "    # Intersección DA-OA original\n",
    "A = [P_AD[0], Y[0]] \n",
    "B = [P_AD[-1], Y[-1]] \n",
    "\n",
    "C = [P_AS[0], Y[0]] \n",
    "D = [P_AS[-1], Y[-1]] \n",
    "\n",
    "    # creación de intersección\n",
    "intersec_DAOA = line_intersection((A, B), (C, D))\n",
    "intersec_DAOA # (y,x)"
   ]
  },
  {
   "cell_type": "code",
   "execution_count": 44,
   "id": "bfbbfd59",
   "metadata": {},
   "outputs": [
    {
     "data": {
      "text/plain": [
       "(161.20481927710844, 50.40160642570281)"
      ]
     },
     "execution_count": 44,
     "metadata": {},
     "output_type": "execute_result"
    }
   ],
   "source": [
    "    # Intersección DA nueva - OA original\n",
    "A = [P_AD_Ms[0], Y[0]] \n",
    "B = [P_AD_Ms[-1], Y[-1]] \n",
    "\n",
    "C = [P_AS[0], Y[0]] \n",
    "D = [P_AS[-1], Y[-1]] \n",
    "\n",
    "    # creación de intersección\n",
    "intersec_DAOA_Ms = line_intersection((A, B), (C, D))\n",
    "intersec_DAOA_Ms # (y,x)"
   ]
  },
  {
   "cell_type": "code",
   "execution_count": 45,
   "id": "71240586",
   "metadata": {
    "scrolled": false
   },
   "outputs": [
    {
     "data": {
      "text/plain": [
       "<function matplotlib.pyplot.show(close=None, block=None)>"
      ]
     },
     "execution_count": 45,
     "metadata": {},
     "output_type": "execute_result"
    },
    {
     "data": {
      "image/png": "[encoded data removed]",
      "text/plain": [
       "<Figure size 576x1152 with 2 Axes>"
      ]
     },
     "metadata": {
      "needs_background": "light"
     },
     "output_type": "display_data"
    }
   ],
   "source": [
    "# Dos gráficos en un solo cuadro\n",
    "fig, (ax1, ax2) = plt.subplots(2, figsize=(8, 16)) \n",
    "\n",
    "#---------------------------------\n",
    "    # Gráfico 1: IS-LM\n",
    "    \n",
    "ax1.plot(Y, r, label = \"IS\", color = \"C1\") #IS\n",
    "ax1.plot(Y, i, label=\"LM\", color = \"C0\")  #LM\n",
    "ax1.plot(Y, i_Ms, label=\"LM_GMs\", color = \"C0\", linestyle ='dashed')  #LM_Ms\n",
    "\n",
    "ax1.axhline(y=intersec_ISLM_Ms[0],  xmin= 0, xmax= 0.5, linestyle = \":\", color = \"grey\")\n",
    "ax1.axvline(x=intersec_ISLM_Ms[1],  ymin= 0, ymax= 0.55, linestyle = \":\", color = \"grey\")\n",
    "\n",
    "ax1.axhline(y=intersec_ISLM[0],  xmin= 0, xmax= 0.56, linestyle = \":\", color = \"grey\")\n",
    "ax1.axvline(x=intersec_ISLM[1],  ymin= 0, ymax= 0.52, linestyle = \":\", color = \"grey\")\n",
    "\n",
    "ax1.text(64, 112, '←', fontsize=15, color='grey')\n",
    "ax1.text(51, -20, '←', fontsize=15, color='grey')\n",
    "ax1.text(0, 87, '↑', fontsize=15, color='grey')\n",
    "ax1.text(58, -25, '$Y_0$', fontsize=12, color='black')\n",
    "ax1.text(45, -25, '$Y_1$', fontsize=12, color='C0')\n",
    "ax1.text(0, 75, '$r_0$', fontsize=12, color='black')\n",
    "ax1.text(0, 100, '$r_1$', fontsize=12, color='C0')\n",
    "\n",
    "\n",
    "ax1.set(title=\"Efectos de una disminución en el Gasto de Gobierno\", xlabel= r'Y', ylabel= r'r')\n",
    "ax1.legend()\n",
    "\n",
    "\n",
    "#---------------------------------\n",
    "    # Gráfico 2:\n",
    "\n",
    "ax2.plot(Y, P_AD, label = \"AD\", color = \"C4\") #DA\n",
    "ax2.plot(Y, P_AD_Ms, label = \"AD_Ms\", color = \"C4\", linestyle = 'dashed') #DA_Go\n",
    "\n",
    "ax2.plot(Y, P_AS, label = \"AS\", color = \"C8\") #OA\n",
    "\n",
    "ax2.axhline(y=intersec_DAOA[0],  xmin= 0, xmax= 0.56, linestyle = \":\", color = \"grey\")\n",
    "ax2.axvline(x=intersec_DAOA[1],  ymin= 0, ymax= 1, linestyle = \":\", color = \"grey\")\n",
    "\n",
    "ax2.axhline(y=intersec_DAOA_Ms[0],  xmin= 0, xmax= 0.5, linestyle = \":\", color = \"grey\")\n",
    "ax2.axvline(x=intersec_DAOA_Ms[1],  ymin= 0, ymax= 1, linestyle = \":\", color = \"grey\")\n",
    "\n",
    "ax2.text(51, 10, '←', fontsize=15, color='grey')\n",
    "ax2.text(33, 220, '←', fontsize=15, color='grey')\n",
    "ax2.text(0, 163, '↓', fontsize=15, color='grey')\n",
    "\n",
    "ax2.text(58, 0, '$Y_0$', fontsize=12, color='black')\n",
    "ax2.text(45, 0, '$Y_1$', fontsize=12, color='C8')\n",
    "ax2.text(0, 140, '$P_1$', fontsize=12, color='C8')\n",
    "ax2.text(0, 185, '$P_0$', fontsize=12, color='black')\n",
    "\n",
    "ax2.set(xlabel= r'Y', ylabel= r'P')\n",
    "ax2.legend()\n",
    "\n",
    "plt.show"
   ]
  },
  {
   "cell_type": "markdown",
   "id": "a27a5d5a",
   "metadata": {},
   "source": [
    "#### 2.3. Analice los efectos sobre las variables endógenas Y, P y r de un incremento de la tasa de impuestos $(∆t > 0)$. El análisis debe ser intuitivo, matemático y gráfico. En una figura, se debe que usar los ejes r e Y (modelo IS-LM), y en la otra, los ejes P, Y (modelo DA-OA)."
   ]
  },
  {
   "cell_type": "markdown",
   "id": "ed0a96fb",
   "metadata": {},
   "source": [
    "- Matemática:"
   ]
  },
  {
   "cell_type": "code",
   "execution_count": 46,
   "id": "c576e255",
   "metadata": {},
   "outputs": [],
   "source": [
    "# nombrar variables como símbolos de IS\n",
    "Co, Io, Go, Xo, h, r, b, m, t, beta_0, beta_1  = symbols('Co Io Go Xo h r b m t beta_0, beta_1')\n",
    "\n",
    "# nombrar variables como símbolos de LM \n",
    "k, j, Ms, P, Y = symbols('k j Ms P Y')\n",
    "\n",
    "# nombrar variables como símbolos para curva de oferta agregada\n",
    "Pe, _Y, Y, θ = symbols('Pe, _Y, Y, θ')\n",
    "\n",
    "# Beta_0 y beta_1\n",
    "beta_0 = (Co + Io + Go + Xo)\n",
    "beta_1 = ( 1-(b-m)*(1-t) )\n",
    "\n",
    "# Producto de equilibrio en el modelo DA-OA\n",
    "Y_eq = ( (1)/(θ + ( (j*beta_1+h*k)/h) ) )*( ( (h*Ms+j*beta_0)/h ) - Pe + θ*_Y )\n",
    "\n",
    "# Precio de equilibrio en el modelo DA-OA \n",
    "P_eq = Pe + θ*(Y_eq - _Y)\n",
    "\n",
    "# Tasa de interés de equilibrio en el modelo DA-OA\n",
    "r_eq = (j*beta_0)/(k*h + j*beta_1) + ( h / (k*h + j*beta_1) )*(Ms - P_eq)\n",
    "#((h*Ms+j*beta_0)/h) - ((j*beta_1+h*r)/h)*((P-Pe-θ*_Y)/θ)\n"
   ]
  },
  {
   "cell_type": "code",
   "execution_count": 47,
   "id": "3ae9bab2",
   "metadata": {
    "scrolled": true
   },
   "outputs": [
    {
     "name": "stdout",
     "output_type": "stream",
     "text": [
      "El Diferencial del Producto con respecto al diferencial de la tasa impositiva =  -j*(b - m)*(-Pe + _Y*θ + (Ms*h + j*(Co + Go + Io + Xo))/h)/(h*(θ + (h*k + j*(-(1 - t)*(b - m) + 1))/h)**2)\n"
     ]
    }
   ],
   "source": [
    "df_Y_eq_t = diff(Y_eq, t)\n",
    "print(\"El Diferencial del Producto con respecto al diferencial de la tasa impositiva = \", df_Y_eq_t)\n"
   ]
  },
  {
   "cell_type": "markdown",
   "id": "2838d392",
   "metadata": {},
   "source": [
    "¿$∆Y$ sabiendo que $∆t > 0$?\n",
    "\n",
    "$$ \\frac{∆Y}{∆t} = (-) $$\n",
    "\n",
    "$$ \\frac{∆Y}{(+)} = (-) $$\n",
    "\n",
    "$$ ∆Y < 0 $$"
   ]
  },
  {
   "cell_type": "code",
   "execution_count": 48,
   "id": "cb2eaaa7",
   "metadata": {},
   "outputs": [
    {
     "name": "stdout",
     "output_type": "stream",
     "text": [
      "El Diferencial de la tasa de interes con respecto al diferencial de la tasa impositiva =  -h*j*(b - m)*(Ms - Pe - θ*(-_Y + (-Pe + _Y*θ + (Ms*h + j*(Co + Go + Io + Xo))/h)/(θ + (h*k + j*(-(1 - t)*(b - m) + 1))/h)))/(h*k + j*(-(1 - t)*(b - m) + 1))**2 - j**2*(b - m)*(Co + Go + Io + Xo)/(h*k + j*(-(1 - t)*(b - m) + 1))**2 + j*θ*(b - m)*(-Pe + _Y*θ + (Ms*h + j*(Co + Go + Io + Xo))/h)/((θ + (h*k + j*(-(1 - t)*(b - m) + 1))/h)**2*(h*k + j*(-(1 - t)*(b - m) + 1)))\n"
     ]
    }
   ],
   "source": [
    "df_r_eq_t = diff(r_eq, t)\n",
    "print(\"El Diferencial de la tasa de interes con respecto al diferencial de la tasa impositiva = \", df_r_eq_t)\n"
   ]
  },
  {
   "cell_type": "markdown",
   "id": "3396d89e",
   "metadata": {},
   "source": [
    "¿$∆r$ sabiendo que $∆t > 0$?\n",
    "\n",
    "$$ \\frac{∆r}{∆t} = (-) $$\n",
    "\n",
    "$$ \\frac{∆r}{(+)} = (-) $$\n",
    "\n",
    "$$ ∆r < 0 $$"
   ]
  },
  {
   "cell_type": "code",
   "execution_count": 49,
   "id": "2542eb92",
   "metadata": {},
   "outputs": [
    {
     "name": "stdout",
     "output_type": "stream",
     "text": [
      "El Diferencial del nivel de precios con respecto al diferencial de la tasa impositva =  -j*θ*(b - m)*(-Pe + _Y*θ + (Ms*h + j*(Co + Go + Io + Xo))/h)/(h*(θ + (h*k + j*(-(1 - t)*(b - m) + 1))/h)**2)\n"
     ]
    }
   ],
   "source": [
    "df_P_eq_t = diff(P_eq, t)\n",
    "print(\"El Diferencial del nivel de precios con respecto al diferencial de la tasa impositva = \", df_P_eq_t)\n"
   ]
  },
  {
   "cell_type": "markdown",
   "id": "f5bd137c",
   "metadata": {},
   "source": [
    "¿$∆P$ sabiendo que $∆t > 0$?\n",
    "\n",
    "$$ \\frac{∆P}{∆t} = (+) $$\n",
    "\n",
    "$$ \\frac{∆P}{(-)} = (+) $$\n",
    "\n",
    "$$ ∆P < 0 $$"
   ]
  },
  {
   "cell_type": "markdown",
   "id": "1cf7577b",
   "metadata": {},
   "source": [
    "- Intuición:\n",
    "\n",
    "Modelo IS-LM: \n",
    "\n",
    "$$ t↑ → DA↓ → DA < Y → Y↓$$\n",
    "\n",
    "$$ Y↓ → M^d↓ → M^d < M^s → r↓ $$\n",
    "\n",
    "Modelo DA-OA: \n",
    "\n",
    "$$ Y↓ → θ(Y-\\bar{Y})↓ → P↓$$\n"
   ]
  },
  {
   "cell_type": "code",
   "execution_count": 50,
   "id": "588ea739",
   "metadata": {},
   "outputs": [],
   "source": [
    "#1--------------------------------------------------\n",
    "    # Curva IS ORIGINAL\n",
    "\n",
    "# Parámetros\n",
    "\n",
    "Y_size = 100 \n",
    "\n",
    "Co = 35\n",
    "Io = 40\n",
    "Go = 50\n",
    "Xo = 2\n",
    "h = 0.8\n",
    "b = 0.5\n",
    "m = 0.4\n",
    "t = 0.1\n",
    "\n",
    "Y = np.arange(Y_size)\n",
    "\n",
    "\n",
    "# Ecuación \n",
    "def r_IS(b, m, t, Co, Io, Go, Xo, h, Y):\n",
    "    r_IS = (Co + Io + Go + Xo - Y * (1-(b-m)*(1-t)))/h\n",
    "    return r_IS\n",
    "\n",
    "r = r_IS(b, m, t, Co, Io, Go, Xo, h, Y)\n",
    "\n",
    "#--------------------------------------------------\n",
    "    # NUEVA curva IS: \n",
    "    \n",
    "# Definir SOLO el parámetro cambiado\n",
    "t = 3\n",
    "\n",
    "# Generar la ecuación con el nuevo parámetro\n",
    "def r_IS_t(b, m, t, Co, Io, Go, Xo, h, Y):\n",
    "    r_IS = (Co + Io + Go + Xo - Y * (1-(b-m)*(1-t)))/h\n",
    "    return r_IS\n",
    "\n",
    "r_t = r_IS_t(b, m, t, Co, Io, Go, Xo, h, Y)\n",
    "\n",
    "\n",
    "#2--------------------------------------------------\n",
    "    # Curva LM ORIGINAL\n",
    "\n",
    "# Parámetros\n",
    "\n",
    "Y_size = 100\n",
    "\n",
    "k = 2\n",
    "j = 1                \n",
    "Ms = 200             \n",
    "P  = 20               \n",
    "\n",
    "Y = np.arange(Y_size)\n",
    "\n",
    "# Ecuación\n",
    "\n",
    "def i_LM( k, j, Ms, P, Y):\n",
    "    i_LM = (-Ms/P)/j + k/j*Y\n",
    "    return i_LM\n",
    "\n",
    "i = i_LM( k, j, Ms, P, Y)\n",
    "\n"
   ]
  },
  {
   "cell_type": "code",
   "execution_count": 51,
   "id": "94bbcdef",
   "metadata": {},
   "outputs": [],
   "source": [
    "#1--------------------------\n",
    "    # Demanda Agregada ORGINAL\n",
    "    \n",
    "# Parámetros\n",
    "\n",
    "Y_size = 100 \n",
    "\n",
    "Co = 35\n",
    "Io = 40\n",
    "Go = 50\n",
    "Xo = 2\n",
    "h = 0.8\n",
    "b = 0.5\n",
    "m = 0.4\n",
    "t = 3\n",
    "\n",
    "k = 2\n",
    "j = 1                \n",
    "Ms = 200             \n",
    "P  = 8  \n",
    "\n",
    "Y = np.arange(Y_size)\n",
    "\n",
    "\n",
    "# Ecuación\n",
    "\n",
    "B0 = Co + Io + Go + Xo\n",
    "B1 = 1 - (b-m)*(1-t)\n",
    "\n",
    "def P_AD(h, Ms, j, B0, B1, k, Y):\n",
    "    P_AD = ((h*Ms + j*B0)/h) - (Y*(j*B1 + h*k)/h)\n",
    "    return P_AD\n",
    "\n",
    "P_AD = P_AD(h, Ms, j, B0, B1, k, Y)\n",
    "\n",
    "#--------------------------------------------------\n",
    "    # NUEVA Demanda Agregada\n",
    "\n",
    "# Definir SOLO el parámetro cambiado\n",
    "\n",
    "t = 9\n",
    "\n",
    "# Generar la ecuación con el nuevo parámetro\n",
    "\n",
    "B0 = Co + Io + Go + Xo\n",
    "B1 = 1 - (b-m)*(1-t)\n",
    "\n",
    "def P_AD_t(h, Ms, j, B0, B1, k, Y):\n",
    "    P_AD = ((h*Ms + j*B0)/h) - (Y*(j*B1 + h*k)/h)\n",
    "    return P_AD\n",
    "\n",
    "P_AD_t = P_AD_t(h, Ms, j, B0, B1, k, Y)\n",
    "\n",
    "\n",
    "#2--------------------------\n",
    "    # Oferta Agregada ORIGINAL\n",
    "    \n",
    "# Parámetros\n",
    "\n",
    "Y_size = 100\n",
    "\n",
    "Pe = 70\n",
    "θ = 3\n",
    "_Y = 20  \n",
    "\n",
    "Y = np.arange(Y_size)\n",
    "\n",
    "# Ecuación\n",
    "\n",
    "def P_AS(Pe, _Y, Y, θ):\n",
    "    P_AS = Pe + θ*(Y-_Y)\n",
    "    return P_AS\n",
    "\n",
    "P_AS = P_AS(Pe, _Y, Y, θ)\n"
   ]
  },
  {
   "cell_type": "code",
   "execution_count": 52,
   "id": "0f3857fe",
   "metadata": {},
   "outputs": [],
   "source": [
    "# líneas punteadas autómaticas\n",
    "\n",
    "    # definir la función line_intersection\n",
    "def line_intersection(line1, line2):\n",
    "    xdiff = (line1[0][0] - line1[1][0], line2[0][0] - line2[1][0])\n",
    "    ydiff = (line1[0][1] - line1[1][1], line2[0][1] - line2[1][1])\n",
    "\n",
    "    def det(a, b):\n",
    "        return a[0] * b[1] - a[1] * b[0]\n",
    "\n",
    "    div = det(xdiff, ydiff)\n",
    "    if div == 0:\n",
    "       raise Exception('lines do not intersect')\n",
    "\n",
    "    d = (det(*line1), det(*line2))\n",
    "    x = det(d, xdiff) / div\n",
    "    y = det(d, ydiff) / div\n",
    "    return x, y"
   ]
  },
  {
   "cell_type": "code",
   "execution_count": 53,
   "id": "dd50554c",
   "metadata": {},
   "outputs": [
    {
     "data": {
      "text/plain": [
       "(97.56972111553785, 53.78486055776892)"
      ]
     },
     "execution_count": 53,
     "metadata": {},
     "output_type": "execute_result"
    }
   ],
   "source": [
    "    # Intersección IS-LM original\n",
    "A = [r[0], Y[0]] \n",
    "B = [r[-1], Y[-1]] \n",
    "\n",
    "C = [i[0], Y[0]] \n",
    "D = [i[-1], Y[-1]] \n",
    "\n",
    "    # creación de intersección\n",
    "intersec_ISLM = line_intersection((A, B), (C, D))\n",
    "intersec_ISLM # (y,x)"
   ]
  },
  {
   "cell_type": "code",
   "execution_count": 55,
   "id": "20f32208",
   "metadata": {},
   "outputs": [
    {
     "data": {
      "text/plain": [
       "(86.42857142857143, 48.214285714285715)"
      ]
     },
     "execution_count": 55,
     "metadata": {},
     "output_type": "execute_result"
    }
   ],
   "source": [
    "    # Intersección IS - LM nueva\n",
    "A = [r_t[0], Y[0]] \n",
    "B = [r_t[-1], Y[-1]] \n",
    "\n",
    "C = [i[0], Y[0]] \n",
    "D = [i[-1], Y[-1]] \n",
    "\n",
    "    # creación de intersección\n",
    "intersec_ISLM_t = line_intersection((A, B), (C, D))\n",
    "intersec_ISLM_t # (y,x)"
   ]
  },
  {
   "cell_type": "code",
   "execution_count": 57,
   "id": "51a1b4ce",
   "metadata": {},
   "outputs": [
    {
     "data": {
      "text/plain": [
       "(170.96153846153848, 53.65384615384616)"
      ]
     },
     "execution_count": 57,
     "metadata": {},
     "output_type": "execute_result"
    }
   ],
   "source": [
    "    # Intersección DA-OA original\n",
    "A = [P_AD[0], Y[0]] \n",
    "B = [P_AD[-1], Y[-1]] \n",
    "\n",
    "C = [P_AS[0], Y[0]] \n",
    "D = [P_AS[-1], Y[-1]] \n",
    "\n",
    "    # creación de intersección\n",
    "intersec_DAOA = line_intersection((A, B), (C, D))\n",
    "intersec_DAOA # (y,x)"
   ]
  },
  {
   "cell_type": "code",
   "execution_count": 59,
   "id": "2cc47ae9",
   "metadata": {},
   "outputs": [
    {
     "data": {
      "text/plain": [
       "(154.31034482758622, 48.10344827586207)"
      ]
     },
     "execution_count": 59,
     "metadata": {},
     "output_type": "execute_result"
    }
   ],
   "source": [
    "    # Intersección DA nueva - OA original\n",
    "A = [P_AD_t[0], Y[0]] \n",
    "B = [P_AD_t[-1], Y[-1]] \n",
    "\n",
    "C = [P_AS[0], Y[0]] \n",
    "D = [P_AS[-1], Y[-1]] \n",
    "\n",
    "    # creación de intersección\n",
    "intersec_DAOA_t = line_intersection((A, B), (C, D))\n",
    "intersec_DAOA_t # (y,x)"
   ]
  },
  {
   "cell_type": "code",
   "execution_count": 60,
   "id": "adfc8225",
   "metadata": {
    "scrolled": false
   },
   "outputs": [
    {
     "data": {
      "text/plain": [
       "<function matplotlib.pyplot.show(close=None, block=None)>"
      ]
     },
     "execution_count": 60,
     "metadata": {},
     "output_type": "execute_result"
    },
    {
     "data": {
      "image/png": "[encoded data removed]",
      "text/plain": [
       "<Figure size 576x1152 with 2 Axes>"
      ]
     },
     "metadata": {
      "needs_background": "light"
     },
     "output_type": "display_data"
    }
   ],
   "source": [
    "# Dos gráficos en un solo cuadro\n",
    "fig, (ax1, ax2) = plt.subplots(2, figsize=(8, 16)) \n",
    "\n",
    "#---------------------------------\n",
    "    # Gráfico 1: IS-LM\n",
    "    \n",
    "ax1.plot(Y, r, label = \"IS\", color = \"C1\") #IS\n",
    "ax1.plot(Y, r_t, label = \"IS\", color = \"C1\", linestyle = 'dashed') #IS_t\n",
    "ax1.plot(Y, i, label=\"LM\", color = \"C0\")  #LM\n",
    "\n",
    "\n",
    "ax1.axhline(y=intersec_ISLM[0],  xmin= 0, xmax= 0.55, linestyle = \":\", color = \"grey\")\n",
    "ax1.axvline(x=intersec_ISLM[1],  ymin= 0, ymax= 0.54, linestyle = \":\", color = \"grey\")\n",
    "\n",
    "ax1.axhline(y=intersec_ISLM_t[0],  xmin= 0, xmax= 0.48, linestyle = \":\", color = \"grey\")\n",
    "ax1.axvline(x=intersec_ISLM_t[1],  ymin= 0, ymax= 0.48, linestyle = \":\", color = \"grey\")\n",
    "\n",
    "ax1.text(64, 70, '←', fontsize=15, color='grey')\n",
    "ax1.text(49, -15, '←', fontsize=15, color='grey')\n",
    "ax1.text(0, 89, '↓', fontsize=15, color='grey')\n",
    "ax1.text(58, -15, '$Y_0$', fontsize=12, color='black')\n",
    "ax1.text(42, -15, '$Y_1$', fontsize=12, color='C1')\n",
    "ax1.text(0, 75, '$r_1$', fontsize=12, color='C1')\n",
    "ax1.text(0, 100, '$r_0$', fontsize=12, color='black')\n",
    "\n",
    "\n",
    "ax1.set(title=\"Efectos de una disminución en el Gasto de Gobierno\", xlabel= r'Y', ylabel= r'r')\n",
    "ax1.legend()\n",
    "\n",
    "\n",
    "#---------------------------------\n",
    "    # Gráfico 2:\n",
    "\n",
    "ax2.plot(Y, P_AD, label = \"AD\", color = \"C4\") #DA\n",
    "ax2.plot(Y, P_AD_t, label = \"AD_Ms\", color = \"C4\", linestyle = 'dashed') #DA_Go\n",
    "\n",
    "ax2.plot(Y, P_AS, label = \"AS\", color = \"C8\") #OA\n",
    "\n",
    "ax2.axhline(y=intersec_DAOA[0],  xmin= 0, xmax= 0.54, linestyle = \":\", color = \"grey\")\n",
    "ax2.axvline(x=intersec_DAOA[1],  ymin= 0, ymax= 1, linestyle = \":\", color = \"grey\")\n",
    "\n",
    "ax2.axhline(y=intersec_DAOA_t[0],  xmin= 0, xmax= 0.49, linestyle = \":\", color = \"grey\")\n",
    "ax2.axvline(x=intersec_DAOA_t[1],  ymin= 0, ymax= 1, linestyle = \":\", color = \"grey\")\n",
    "\n",
    "ax2.text(49, 10, '←', fontsize=15, color='grey')\n",
    "ax2.text(72, 70, '←', fontsize=15, color='grey')\n",
    "ax2.text(0, 157, '↓', fontsize=15, color='grey')\n",
    "\n",
    "ax2.text(55, 0, '$Y_0$', fontsize=12, color='black')\n",
    "ax2.text(43, 0, '$Y_1$', fontsize=12, color='C4')\n",
    "ax2.text(0, 135, '$P_1$', fontsize=12, color='C4')\n",
    "ax2.text(0, 183, '$P_0$', fontsize=12, color='black')\n",
    "\n",
    "ax2.set(xlabel= r'Y', ylabel= r'P')\n",
    "ax2.legend()\n",
    "\n",
    "plt.show\n"
   ]
  }
 ],
 "metadata": {
  "kernelspec": {
   "display_name": "Python 3 (ipykernel)",
   "language": "python",
   "name": "python3"
  },
  "language_info": {
   "codemirror_mode": {
    "name": "ipython",
    "version": 3
   },
   "file_extension": ".py",
   "mimetype": "text/x-python",
   "name": "python",
   "nbconvert_exporter": "python",
   "pygments_lexer": "ipython3",
   "version": "3.9.7"
  }
 },
 "nbformat": 4,
 "nbformat_minor": 5
}
