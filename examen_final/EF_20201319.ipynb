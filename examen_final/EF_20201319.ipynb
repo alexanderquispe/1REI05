{
  "nbformat": 4,
  "nbformat_minor": 0,
  "metadata": {
    "colab": {
      "provenance": []
    },
    "kernelspec": {
      "name": "python3",
      "display_name": "Python 3"
    },
    "language_info": {
      "name": "python"
    }
  },
  "cells": [
    {
      "cell_type": "markdown",
      "source": [
        "# **EXAMEN FINAL**\n",
        "\n",
        "Nombre: Alessandra Marcela Marocho Pacheco \n",
        "\n",
        "Código: 20201319"
      ],
      "metadata": {
        "id": "-snoUjcUdxYH"
      }
    },
    {
      "cell_type": "markdown",
      "source": [
        "## Instrumental Variables (IV)\n",
        "**Identifique todos los elementos necesarios para implementar un enfoque de IV en este ejemplo.**\n",
        "\n",
        "En función del ejemplo, podemos identificar como nuestra variable de interés al nivel de ingresos, nuestra variable independiente a la educación y, finalmente, la variable instrumental al número de horas que una persona miró televisión cuando era niño. \n",
        "\n",
        "**Explique el procedimiento para encontrar el efecto causal en este escenario. Puede utilizar ecuaciones**\n",
        "\n",
        "\n",
        "**¿El efecto de la educación sobre el nivel de ingresos es positivo o negativo? Argumente si los resultados serian causales o solamente de correlación**\n",
        "\n",
        "El efecto de la educación sobre el nivel de ingresos debería ser positivo, puesto que sería esperable a un mayor nivel de educación pueda contar con un nivel de ingresos más alto. No obstante, este podría tratarse de un caso de correlación y no de causalidad, puesto que el nivel de salarios de una persona podría encontrarse definido por otra variable omitida que explique que, a pesar de los años de educación mantenidos, no muestre una relación directa con su nivel de ingresos. \n",
        "\n",
        "## **Regression Discontinuity Design** \n",
        "**Identifique todos los elementos necesarios para implementar un RDD en este ejemplo.**\n",
        "\n",
        "Debemos considerar los siguientes elementos:\n",
        "\n",
        " - El **running variable** serían las notas obtenidas por los estudiantes durante su primer semestre de universidad. \n",
        "\n",
        "- La **variable dependiente** serían los  promedios obtenidos por los alumnos durante la secundaria, entre los que se encontrarían los postulantes a la beca por haber obtenido un promedio mayor a 16.   \n",
        "\n",
        "- El **bandwith** contendría a aquellos estudiantes que obtuvieron en la secundaria calificaciones cercanas a 16. Por ejemplo, entre 15 y 17.\n",
        "\n",
        "- El **cutoff** o umbral sería el promedio 16 durante la secundaria, puesto que ello definiría quiénes podrían ser postulantes a la beca y quiénes no.\n",
        "\n",
        "**Explique el procedimiento para encontrar el efecto causal en este escenario. Puede utilizar ecuaciones.**\n",
        "\n",
        "Para hallar el efecto causal, debemos observar la diferencia de notas durante el primer semestre de la universidad entre el grupo de tratamiento (aquellos estudiantes que obtuvieron un promedio igual o mayor a 16 en la secundaria y fueron elegibles para la beca) y las notas del resto de estudiantes. Para calcular el efecto debemos observar la distancia que se presenten los puntos de corte de ambos grupos a lo largo del punto de corte. \n",
        "\n",
        "**¿El efecto de la politica sobre el rendimiento de los estudiantes sería positivo o negativo (solo necesitan usar su intuición)? Argumente si los resultados serian causales o solamente de correlación.**\n",
        "\n",
        "Se puede esperar que el efecto sea positivo, puesto que la política estuvo direccionada hacia estudiantes que mostraban ser capaces de obtener notas elevadas y la beca podría haber sido un incentivo durante su etapa universitaria. \n",
        "\n",
        "No obstante, los resultados del ejemplo deberían ser considerados como de correlación, puesto que, entre los motivos por los que un estudiante obtiene determinadas notas durante su vida universitaria podrían estar relacionado con otros factores. \n",
        "\n",
        "Asimismo, el efecto de la política se podría comprender más por medio de la correlación, puesto que, al emplear un promedio de notas para definir a estudiantes elegibles para una beca no necesariamente concentras a todos los estudiantes con buenas capacidades de aprendizaje. Sus notas pueden ser influenciadas por muchos más factores que su inteligencia y, las notas que obtengan en la universidad podrían mostrar una variación, especialmente entre los estudiantes ubicados en el bandwith. \n",
        "\n",
        "\n",
        "## Difference in Difference (DiD)\n",
        "**Identifique todos los elementos necesarios para implementar un DiD en este ejemplo.**\n",
        "\n",
        "Con respecto al ejemplo, podemos identificar como variable de tratamiento ($T$) a la tasa de empleo en Lima y, nuestra variable de control ($C$) como la tasa de empleo en Puno. \n",
        "\n",
        "Además, se define un punto en el tiempo por medio del cual se buscará hacer una comparación entre las dos tasas de empleo. En función del ejemplo, este será el año 2018, puesto que en ese entonces se ve un incremento en la tasa migratoria dentro de la ciudad de Lima. Es decir, la tasa de empleo en Lima durante 2017 será el periodo anterior del grupo de tratamiento y la tasa de empleo en Lima 2018, será un periodo posterior del grupo de tratamiento. \n",
        "\n",
        "Asimismo, la tasa de empleo en Puno durante 2017 será el periodo anterior del grupo de control y la tasa de emppleo en Puno durante 2018 será el periodo posterior del grupo de control.\n",
        "\n",
        "**Explique el procedimiento para encontrar el efecto causal en este escenario. Puede utilizar ecuaciones.**\n",
        "\n",
        "En primer lugar, realizamos el gráfico correspondiente al experimento DiD y observamos que se cumpla el principio de tendencia paralela. En este identificamos los puntos claves de los grupos de tratamiento ($T$) y control ($C$)en los dos periodos de tiempo señalado. \n",
        "\n",
        "Para conocer el impacto que tuvo la migración en la tasa de empleo se debe realizar una diferencia entre las tendencias entre el incremento visualizado en la tendencia en Lima y cuál habría sido su contrafactual. \n",
        "\n",
        "Por medio de una ecuación se puede expresar de la siguiente manera: \n",
        "\n",
        "$$TE = (T^1-T^0)-(C^1-C^0)$$\n",
        "\n",
        "**¿El efecto de la migración sobre la tasa de empleo sería positivo o negativo (solo necesitan usar su intuición)? Argumente si los resultados serian causales o solamente de correlación.**\n",
        "\n",
        "En primer lugar, el efecto debería ser positivo, puesto que dentro de una región, en este caso Lima, se concentraría un mayor número de personas con capacidad de desenvolverse en el rubro laboral. En este caso, se podría afirmar que si hay una relación causal, puesto que, de visualizarse un incremento en la pendiente del grupo de tratamiento, está podría explicarse mayoritariamente por el incremento de la tasa migratoria en Lima. "
      ],
      "metadata": {
        "id": "ZJgJnC3LeElv"
      }
    },
    {
      "cell_type": "markdown",
      "source": [
        "## **Lectura**\n",
        "**¿Cuáles son las debilidades del enfoque del paper para responder su pregunta de investigación?**\n",
        "\n",
        "Si bien el paper señalado encuentra evidencia de que existen factores durante la infancia que motivan a una persona a desenvolverse como inventor durante su vida adulta, este también debería tomar en cuenta que una afirmación como tal podría ser limitante. \n",
        "\n",
        "Los primeros años de vida son determinantes para que los niños logren un desarrollo adecuado. No obstante, la introducción de nuevos factores además del entorno familiar y sus propias capacidades intelectuales, deberían ser abordados.\n",
        "\n",
        "**¿Cuáles serían dos próximos pasos específicos para avanzar en su pregunta de investigación?**\n",
        " \n",
        "Por medio de la investigación propuesta se llega a la conclusión de que, ciertas zonas que se vieron obligadas a realizar trabajos forzados como la mita, han mantenido una menor tendencia de crecimiento en la actualidad. \n",
        "\n",
        "Uno de los pasos para continuar con la investigación propuesta, podría conocer si en la actualidad hay otros patrones, además de los históricos, que expliquen el bajo crecimiento ecónomico en las zonas que se desarrollo la mita. Además, determinar si ha habido programas de desarrollo promovidos por el Estados o el interés por parte de las autoridades para promover el desarrollo en estas zonas a diferencia de otras en las que no se desarrollo la mita también podría ayudarnos a explicar el desarrollo en estas zonas geográficas. "
      ],
      "metadata": {
        "id": "mikjLAA83Cgc"
      }
    },
    {
      "cell_type": "markdown",
      "source": [
        "## **Código**\n"
      ],
      "metadata": {
        "id": "z77UGjMNeq9z"
      }
    },
    {
      "cell_type": "code",
      "execution_count": 19,
      "metadata": {
        "id": "18fYLF2Wdu7D",
        "colab": {
          "base_uri": "https://localhost:8080/"
        },
        "outputId": "2da3f22a-b0e3-49c4-e80e-3d72ac522925"
      },
      "outputs": [
        {
          "output_type": "stream",
          "name": "stdout",
          "text": [
            "Looking in indexes: https://pypi.org/simple, https://us-python.pkg.dev/colab-wheels/public/simple/\n",
            "Requirement already satisfied: linearmodels in /usr/local/lib/python3.8/dist-packages (4.27)\n",
            "Requirement already satisfied: mypy-extensions>=0.4 in /usr/local/lib/python3.8/dist-packages (from linearmodels) (0.4.3)\n",
            "Requirement already satisfied: property-cached>=1.6.3 in /usr/local/lib/python3.8/dist-packages (from linearmodels) (1.6.4)\n",
            "Requirement already satisfied: scipy>=1.2 in /usr/local/lib/python3.8/dist-packages (from linearmodels) (1.7.3)\n",
            "Requirement already satisfied: Cython>=0.29.21 in /usr/local/lib/python3.8/dist-packages (from linearmodels) (0.29.32)\n",
            "Requirement already satisfied: setuptools-scm<7.0.0,>=6.4.2 in /usr/local/lib/python3.8/dist-packages (from linearmodels) (6.4.2)\n",
            "Requirement already satisfied: numpy>=1.16 in /usr/local/lib/python3.8/dist-packages (from linearmodels) (1.21.6)\n",
            "Requirement already satisfied: statsmodels>=0.11 in /usr/local/lib/python3.8/dist-packages (from linearmodels) (0.12.2)\n",
            "Requirement already satisfied: pandas>=0.24 in /usr/local/lib/python3.8/dist-packages (from linearmodels) (1.3.5)\n",
            "Requirement already satisfied: formulaic~=0.3.2 in /usr/local/lib/python3.8/dist-packages (from linearmodels) (0.3.4)\n",
            "Requirement already satisfied: pyhdfe>=0.1 in /usr/local/lib/python3.8/dist-packages (from linearmodels) (0.1.1)\n",
            "Requirement already satisfied: interface-meta<2.0.0,>=1.2.0 in /usr/local/lib/python3.8/dist-packages (from formulaic~=0.3.2->linearmodels) (1.3.0)\n",
            "Requirement already satisfied: astor>=0.8 in /usr/local/lib/python3.8/dist-packages (from formulaic~=0.3.2->linearmodels) (0.8.1)\n",
            "Requirement already satisfied: wrapt>=1.0 in /usr/local/lib/python3.8/dist-packages (from formulaic~=0.3.2->linearmodels) (1.14.1)\n",
            "Requirement already satisfied: python-dateutil>=2.7.3 in /usr/local/lib/python3.8/dist-packages (from pandas>=0.24->linearmodels) (2.8.2)\n",
            "Requirement already satisfied: pytz>=2017.3 in /usr/local/lib/python3.8/dist-packages (from pandas>=0.24->linearmodels) (2022.6)\n",
            "Requirement already satisfied: six>=1.5 in /usr/local/lib/python3.8/dist-packages (from python-dateutil>=2.7.3->pandas>=0.24->linearmodels) (1.15.0)\n",
            "Requirement already satisfied: packaging>=20.0 in /usr/local/lib/python3.8/dist-packages (from setuptools-scm<7.0.0,>=6.4.2->linearmodels) (21.3)\n",
            "Requirement already satisfied: setuptools in /usr/local/lib/python3.8/dist-packages (from setuptools-scm<7.0.0,>=6.4.2->linearmodels) (57.4.0)\n",
            "Requirement already satisfied: tomli>=1.0.0 in /usr/local/lib/python3.8/dist-packages (from setuptools-scm<7.0.0,>=6.4.2->linearmodels) (2.0.1)\n",
            "Requirement already satisfied: pyparsing!=3.0.5,>=2.0.2 in /usr/local/lib/python3.8/dist-packages (from packaging>=20.0->setuptools-scm<7.0.0,>=6.4.2->linearmodels) (3.0.9)\n",
            "Requirement already satisfied: patsy>=0.5 in /usr/local/lib/python3.8/dist-packages (from statsmodels>=0.11->linearmodels) (0.5.3)\n"
          ]
        }
      ],
      "source": [
        "pip install linearmodels"
      ]
    },
    {
      "cell_type": "code",
      "source": [
        "import os\n",
        "import numpy as np \n",
        "import pandas as pd \n",
        "import statsmodels.api as sm \n",
        "import statsmodels.formula.api as smf \n",
        "from itertools import combinations \n",
        "import plotnine as p\n",
        "import statsmodels.api as sm\n",
        "import statsmodels.formula.api as smf\n",
        "import linearmodels.iv.model as lm\n",
        "from linearmodels.iv import IV2SLS\n",
        "from statsmodels.iolib.summary2 import summary_col\n",
        "import seaborn as sns"
      ],
      "metadata": {
        "id": "wnVFAa_EfJ0V"
      },
      "execution_count": 20,
      "outputs": []
    },
    {
      "cell_type": "code",
      "source": [
        "import ssl\n",
        "ssl._create_default_https_context = ssl._create_unverified_context\n",
        "\n",
        "def read_data(file): \n",
        "    return pd.read_stata(\"https://raw.github.com/scunning1975/mixtape/master/\" + file)\n",
        "\n",
        "card = read_data(\"card.dta\")\n",
        "card.head()"
      ],
      "metadata": {
        "colab": {
          "base_uri": "https://localhost:8080/",
          "height": 235
        },
        "id": "XiVtOzuRfQYI",
        "outputId": "5f00cb98-01ec-4b49-9cc7-ad5cc3caad7e"
      },
      "execution_count": 21,
      "outputs": [
        {
          "output_type": "execute_result",
          "data": {
            "text/plain": [
              "    id  nearc2  nearc4  educ   age  fatheduc  motheduc    weight  momdad14  \\\n",
              "0  2.0     0.0     0.0   7.0  29.0       NaN       NaN  158413.0       1.0   \n",
              "1  3.0     0.0     0.0  12.0  27.0       8.0       8.0  380166.0       1.0   \n",
              "2  4.0     0.0     0.0  12.0  34.0      14.0      12.0  367470.0       1.0   \n",
              "3  5.0     1.0     1.0  11.0  27.0      11.0      12.0  380166.0       1.0   \n",
              "4  6.0     1.0     1.0  12.0  34.0       8.0       7.0  367470.0       1.0   \n",
              "\n",
              "   sinmom14  ...   KWW     IQ  married  libcrd14  exper     lwage  expersq  \\\n",
              "0       0.0  ...  15.0    NaN      1.0       0.0   16.0  6.306275    256.0   \n",
              "1       0.0  ...  35.0   93.0      1.0       1.0    9.0  6.175867     81.0   \n",
              "2       0.0  ...  42.0  103.0      1.0       1.0   16.0  6.580639    256.0   \n",
              "3       0.0  ...  25.0   88.0      1.0       1.0   10.0  5.521461    100.0   \n",
              "4       0.0  ...  34.0  108.0      1.0       0.0   16.0  6.591674    256.0   \n",
              "\n",
              "    u_lwage  lwage_hat    u_educ  \n",
              "0  0.198047   6.108228 -3.067539  \n",
              "1 -0.211160   6.387027 -1.727562  \n",
              "2  0.204719   6.375920  1.012975  \n",
              "3 -0.967905   6.489366 -2.253536  \n",
              "4  0.125173   6.466501  1.090437  \n",
              "\n",
              "[5 rows x 37 columns]"
            ],
            "text/html": [
              "\n",
              "  <div id=\"df-ca8439e4-16b9-4621-91ec-ba77ab9f1111\">\n",
              "    <div class=\"colab-df-container\">\n",
              "      <div>\n",
              "<style scoped>\n",
              "    .dataframe tbody tr th:only-of-type {\n",
              "        vertical-align: middle;\n",
              "    }\n",
              "\n",
              "    .dataframe tbody tr th {\n",
              "        vertical-align: top;\n",
              "    }\n",
              "\n",
              "    .dataframe thead th {\n",
              "        text-align: right;\n",
              "    }\n",
              "</style>\n",
              "<table border=\"1\" class=\"dataframe\">\n",
              "  <thead>\n",
              "    <tr style=\"text-align: right;\">\n",
              "      <th></th>\n",
              "      <th>id</th>\n",
              "      <th>nearc2</th>\n",
              "      <th>nearc4</th>\n",
              "      <th>educ</th>\n",
              "      <th>age</th>\n",
              "      <th>fatheduc</th>\n",
              "      <th>motheduc</th>\n",
              "      <th>weight</th>\n",
              "      <th>momdad14</th>\n",
              "      <th>sinmom14</th>\n",
              "      <th>...</th>\n",
              "      <th>KWW</th>\n",
              "      <th>IQ</th>\n",
              "      <th>married</th>\n",
              "      <th>libcrd14</th>\n",
              "      <th>exper</th>\n",
              "      <th>lwage</th>\n",
              "      <th>expersq</th>\n",
              "      <th>u_lwage</th>\n",
              "      <th>lwage_hat</th>\n",
              "      <th>u_educ</th>\n",
              "    </tr>\n",
              "  </thead>\n",
              "  <tbody>\n",
              "    <tr>\n",
              "      <th>0</th>\n",
              "      <td>2.0</td>\n",
              "      <td>0.0</td>\n",
              "      <td>0.0</td>\n",
              "      <td>7.0</td>\n",
              "      <td>29.0</td>\n",
              "      <td>NaN</td>\n",
              "      <td>NaN</td>\n",
              "      <td>158413.0</td>\n",
              "      <td>1.0</td>\n",
              "      <td>0.0</td>\n",
              "      <td>...</td>\n",
              "      <td>15.0</td>\n",
              "      <td>NaN</td>\n",
              "      <td>1.0</td>\n",
              "      <td>0.0</td>\n",
              "      <td>16.0</td>\n",
              "      <td>6.306275</td>\n",
              "      <td>256.0</td>\n",
              "      <td>0.198047</td>\n",
              "      <td>6.108228</td>\n",
              "      <td>-3.067539</td>\n",
              "    </tr>\n",
              "    <tr>\n",
              "      <th>1</th>\n",
              "      <td>3.0</td>\n",
              "      <td>0.0</td>\n",
              "      <td>0.0</td>\n",
              "      <td>12.0</td>\n",
              "      <td>27.0</td>\n",
              "      <td>8.0</td>\n",
              "      <td>8.0</td>\n",
              "      <td>380166.0</td>\n",
              "      <td>1.0</td>\n",
              "      <td>0.0</td>\n",
              "      <td>...</td>\n",
              "      <td>35.0</td>\n",
              "      <td>93.0</td>\n",
              "      <td>1.0</td>\n",
              "      <td>1.0</td>\n",
              "      <td>9.0</td>\n",
              "      <td>6.175867</td>\n",
              "      <td>81.0</td>\n",
              "      <td>-0.211160</td>\n",
              "      <td>6.387027</td>\n",
              "      <td>-1.727562</td>\n",
              "    </tr>\n",
              "    <tr>\n",
              "      <th>2</th>\n",
              "      <td>4.0</td>\n",
              "      <td>0.0</td>\n",
              "      <td>0.0</td>\n",
              "      <td>12.0</td>\n",
              "      <td>34.0</td>\n",
              "      <td>14.0</td>\n",
              "      <td>12.0</td>\n",
              "      <td>367470.0</td>\n",
              "      <td>1.0</td>\n",
              "      <td>0.0</td>\n",
              "      <td>...</td>\n",
              "      <td>42.0</td>\n",
              "      <td>103.0</td>\n",
              "      <td>1.0</td>\n",
              "      <td>1.0</td>\n",
              "      <td>16.0</td>\n",
              "      <td>6.580639</td>\n",
              "      <td>256.0</td>\n",
              "      <td>0.204719</td>\n",
              "      <td>6.375920</td>\n",
              "      <td>1.012975</td>\n",
              "    </tr>\n",
              "    <tr>\n",
              "      <th>3</th>\n",
              "      <td>5.0</td>\n",
              "      <td>1.0</td>\n",
              "      <td>1.0</td>\n",
              "      <td>11.0</td>\n",
              "      <td>27.0</td>\n",
              "      <td>11.0</td>\n",
              "      <td>12.0</td>\n",
              "      <td>380166.0</td>\n",
              "      <td>1.0</td>\n",
              "      <td>0.0</td>\n",
              "      <td>...</td>\n",
              "      <td>25.0</td>\n",
              "      <td>88.0</td>\n",
              "      <td>1.0</td>\n",
              "      <td>1.0</td>\n",
              "      <td>10.0</td>\n",
              "      <td>5.521461</td>\n",
              "      <td>100.0</td>\n",
              "      <td>-0.967905</td>\n",
              "      <td>6.489366</td>\n",
              "      <td>-2.253536</td>\n",
              "    </tr>\n",
              "    <tr>\n",
              "      <th>4</th>\n",
              "      <td>6.0</td>\n",
              "      <td>1.0</td>\n",
              "      <td>1.0</td>\n",
              "      <td>12.0</td>\n",
              "      <td>34.0</td>\n",
              "      <td>8.0</td>\n",
              "      <td>7.0</td>\n",
              "      <td>367470.0</td>\n",
              "      <td>1.0</td>\n",
              "      <td>0.0</td>\n",
              "      <td>...</td>\n",
              "      <td>34.0</td>\n",
              "      <td>108.0</td>\n",
              "      <td>1.0</td>\n",
              "      <td>0.0</td>\n",
              "      <td>16.0</td>\n",
              "      <td>6.591674</td>\n",
              "      <td>256.0</td>\n",
              "      <td>0.125173</td>\n",
              "      <td>6.466501</td>\n",
              "      <td>1.090437</td>\n",
              "    </tr>\n",
              "  </tbody>\n",
              "</table>\n",
              "<p>5 rows × 37 columns</p>\n",
              "</div>\n",
              "      <button class=\"colab-df-convert\" onclick=\"convertToInteractive('df-ca8439e4-16b9-4621-91ec-ba77ab9f1111')\"\n",
              "              title=\"Convert this dataframe to an interactive table.\"\n",
              "              style=\"display:none;\">\n",
              "        \n",
              "  <svg xmlns=\"http://www.w3.org/2000/svg\" height=\"24px\"viewBox=\"0 0 24 24\"\n",
              "       width=\"24px\">\n",
              "    <path d=\"M0 0h24v24H0V0z\" fill=\"none\"/>\n",
              "    <path d=\"M18.56 5.44l.94 2.06.94-2.06 2.06-.94-2.06-.94-.94-2.06-.94 2.06-2.06.94zm-11 1L8.5 8.5l.94-2.06 2.06-.94-2.06-.94L8.5 2.5l-.94 2.06-2.06.94zm10 10l.94 2.06.94-2.06 2.06-.94-2.06-.94-.94-2.06-.94 2.06-2.06.94z\"/><path d=\"M17.41 7.96l-1.37-1.37c-.4-.4-.92-.59-1.43-.59-.52 0-1.04.2-1.43.59L10.3 9.45l-7.72 7.72c-.78.78-.78 2.05 0 2.83L4 21.41c.39.39.9.59 1.41.59.51 0 1.02-.2 1.41-.59l7.78-7.78 2.81-2.81c.8-.78.8-2.07 0-2.86zM5.41 20L4 18.59l7.72-7.72 1.47 1.35L5.41 20z\"/>\n",
              "  </svg>\n",
              "      </button>\n",
              "      \n",
              "  <style>\n",
              "    .colab-df-container {\n",
              "      display:flex;\n",
              "      flex-wrap:wrap;\n",
              "      gap: 12px;\n",
              "    }\n",
              "\n",
              "    .colab-df-convert {\n",
              "      background-color: #E8F0FE;\n",
              "      border: none;\n",
              "      border-radius: 50%;\n",
              "      cursor: pointer;\n",
              "      display: none;\n",
              "      fill: #1967D2;\n",
              "      height: 32px;\n",
              "      padding: 0 0 0 0;\n",
              "      width: 32px;\n",
              "    }\n",
              "\n",
              "    .colab-df-convert:hover {\n",
              "      background-color: #E2EBFA;\n",
              "      box-shadow: 0px 1px 2px rgba(60, 64, 67, 0.3), 0px 1px 3px 1px rgba(60, 64, 67, 0.15);\n",
              "      fill: #174EA6;\n",
              "    }\n",
              "\n",
              "    [theme=dark] .colab-df-convert {\n",
              "      background-color: #3B4455;\n",
              "      fill: #D2E3FC;\n",
              "    }\n",
              "\n",
              "    [theme=dark] .colab-df-convert:hover {\n",
              "      background-color: #434B5C;\n",
              "      box-shadow: 0px 1px 3px 1px rgba(0, 0, 0, 0.15);\n",
              "      filter: drop-shadow(0px 1px 2px rgba(0, 0, 0, 0.3));\n",
              "      fill: #FFFFFF;\n",
              "    }\n",
              "  </style>\n",
              "\n",
              "      <script>\n",
              "        const buttonEl =\n",
              "          document.querySelector('#df-ca8439e4-16b9-4621-91ec-ba77ab9f1111 button.colab-df-convert');\n",
              "        buttonEl.style.display =\n",
              "          google.colab.kernel.accessAllowed ? 'block' : 'none';\n",
              "\n",
              "        async function convertToInteractive(key) {\n",
              "          const element = document.querySelector('#df-ca8439e4-16b9-4621-91ec-ba77ab9f1111');\n",
              "          const dataTable =\n",
              "            await google.colab.kernel.invokeFunction('convertToInteractive',\n",
              "                                                     [key], {});\n",
              "          if (!dataTable) return;\n",
              "\n",
              "          const docLinkHtml = 'Like what you see? Visit the ' +\n",
              "            '<a target=\"_blank\" href=https://colab.research.google.com/notebooks/data_table.ipynb>data table notebook</a>'\n",
              "            + ' to learn more about interactive tables.';\n",
              "          element.innerHTML = '';\n",
              "          dataTable['output_type'] = 'display_data';\n",
              "          await google.colab.output.renderOutput(dataTable, element);\n",
              "          const docLink = document.createElement('div');\n",
              "          docLink.innerHTML = docLinkHtml;\n",
              "          element.appendChild(docLink);\n",
              "        }\n",
              "      </script>\n",
              "    </div>\n",
              "  </div>\n",
              "  "
            ]
          },
          "metadata": {},
          "execution_count": 21
        }
      ]
    },
    {
      "cell_type": "markdown",
      "source": [
        "**Histogramas**"
      ],
      "metadata": {
        "id": "kjTmcY1KfUfa"
      }
    },
    {
      "cell_type": "code",
      "source": [
        "sns.displot(card, x=\"educ\",col=\"nearc2\", hue = \"nearc2\")"
      ],
      "metadata": {
        "colab": {
          "base_uri": "https://localhost:8080/",
          "height": 386
        },
        "id": "PV2PabJZfUKU",
        "outputId": "becccd29-f22d-4995-8e35-b39ac713412a"
      },
      "execution_count": 22,
      "outputs": [
        {
          "output_type": "execute_result",
          "data": {
            "text/plain": [
              "<seaborn.axisgrid.FacetGrid at 0x7fa8fde634c0>"
            ]
          },
          "metadata": {},
          "execution_count": 22
        },
        {
          "output_type": "display_data",
          "data": {
            "text/plain": [
              "<Figure size 771.875x360 with 2 Axes>"
            ],
            "image/png": "[encoded data removed]"
          },
          "metadata": {
            "needs_background": "light"
          }
        }
      ]
    },
    {
      "cell_type": "code",
      "source": [
        "sns.displot(card, x=\"educ\", hue = \"nearc2\", element=\"step\")"
      ],
      "metadata": {
        "colab": {
          "base_uri": "https://localhost:8080/",
          "height": 386
        },
        "id": "hL7-4x_x6BdE",
        "outputId": "5842de8f-0b61-4258-e7f0-46b50ad506b5"
      },
      "execution_count": 27,
      "outputs": [
        {
          "output_type": "execute_result",
          "data": {
            "text/plain": [
              "<seaborn.axisgrid.FacetGrid at 0x7fa8fdc5f8e0>"
            ]
          },
          "metadata": {},
          "execution_count": 27
        },
        {
          "output_type": "display_data",
          "data": {
            "text/plain": [
              "<Figure size 411.875x360 with 1 Axes>"
            ],
            "image/png": "[encoded data removed]"
          },
          "metadata": {
            "needs_background": "light"
          }
        }
      ]
    },
    {
      "cell_type": "markdown",
      "source": [
        "Los histogramas presentados mantienen una tendencia bastante similar, puesto que la concentración de datos alrededor de cada uno de los años de educación es bastante similar cuando existe la presencia de una universidad de 2 años cerca de su condado y cuando no. Asimismo, podemos observar que, ante la ausencia de la universidad (nearc2 == 0) hay una concentración de datos alrededor de los 12.5 años, indicándonos que muchas personas dejan de estudiar con ese rango de educación.  \n",
        "\n",
        "Por otro lado, se distingue que, en el segundo histograma, si bien hay una concentración de datos bastante similar que con el primero, estos no muestran una dispersión tan similar y se mantiene más homogéneo que el primero, no demostrando un cierto efecto ante la presencia de una universidad de 2 años en el condado. "
      ],
      "metadata": {
        "id": "yostW3TK47Ff"
      }
    },
    {
      "cell_type": "code",
      "source": [
        "sns.displot(card, x=\"lwage\",col=\"nearc2\", hue = \"nearc2\")"
      ],
      "metadata": {
        "colab": {
          "base_uri": "https://localhost:8080/",
          "height": 386
        },
        "id": "d-7q7hFefiZ6",
        "outputId": "853a6f31-1347-442e-b975-5b6577ef30c9"
      },
      "execution_count": 23,
      "outputs": [
        {
          "output_type": "execute_result",
          "data": {
            "text/plain": [
              "<seaborn.axisgrid.FacetGrid at 0x7fa8fd8c7be0>"
            ]
          },
          "metadata": {},
          "execution_count": 23
        },
        {
          "output_type": "display_data",
          "data": {
            "text/plain": [
              "<Figure size 771.875x360 with 2 Axes>"
            ],
            "image/png": "[encoded data removed]"
          },
          "metadata": {
            "needs_background": "light"
          }
        }
      ]
    },
    {
      "cell_type": "code",
      "source": [
        "sns.displot(card, x=\"lwage\", hue = \"nearc2\", element=\"step\")"
      ],
      "metadata": {
        "colab": {
          "base_uri": "https://localhost:8080/",
          "height": 386
        },
        "id": "33o_b7Ad9JH8",
        "outputId": "8f8136c8-0da3-4b8f-ce61-9eaefdd2380e"
      },
      "execution_count": 29,
      "outputs": [
        {
          "output_type": "execute_result",
          "data": {
            "text/plain": [
              "<seaborn.axisgrid.FacetGrid at 0x7fa8fd899610>"
            ]
          },
          "metadata": {},
          "execution_count": 29
        },
        {
          "output_type": "display_data",
          "data": {
            "text/plain": [
              "<Figure size 411.875x360 with 1 Axes>"
            ],
            "image/png": "[encoded data removed]"
          },
          "metadata": {
            "needs_background": "light"
          }
        }
      ]
    },
    {
      "cell_type": "markdown",
      "source": [
        "Por otra parte, por medio de los histogramas es posible diferenciar que los logaritmos de ingresos mantienen una concentración alrededor de 5.5 y 6.5 ante la ausencia de una universidad. \n",
        "\n",
        "No obstante, el segundo histograma nos muestra que su mayor concentración de datos se encuentran alrededor de 6.5 y 7, aunque no con el mismo nivel de conteo que el primer histograma. \n",
        "\n",
        "\n",
        "\n"
      ],
      "metadata": {
        "id": "h049WTwo894n"
      }
    },
    {
      "cell_type": "markdown",
      "source": [
        "### **Regresiones**"
      ],
      "metadata": {
        "id": "RpUDBXP7fsSP"
      }
    },
    {
      "cell_type": "code",
      "source": [
        "ols_reg = sm.OLS.from_formula(\"lwage ~ educ + exper + black + south + married + smsa\", \n",
        "              data = card).fit()\n",
        "\n",
        "ols_reg.summary()"
      ],
      "metadata": {
        "colab": {
          "base_uri": "https://localhost:8080/",
          "height": 550
        },
        "id": "OBuptpwrfwBk",
        "outputId": "5043e8b3-0677-492f-91ad-368da7ea8916"
      },
      "execution_count": 24,
      "outputs": [
        {
          "output_type": "execute_result",
          "data": {
            "text/plain": [
              "<class 'statsmodels.iolib.summary.Summary'>\n",
              "\"\"\"\n",
              "                            OLS Regression Results                            \n",
              "==============================================================================\n",
              "Dep. Variable:                  lwage   R-squared:                       0.305\n",
              "Model:                            OLS   Adj. R-squared:                  0.304\n",
              "Method:                 Least Squares   F-statistic:                     219.2\n",
              "Date:                Fri, 09 Dec 2022   Prob (F-statistic):          1.97e-232\n",
              "Time:                        20:51:13   Log-Likelihood:                -1273.9\n",
              "No. Observations:                3003   AIC:                             2562.\n",
              "Df Residuals:                    2996   BIC:                             2604.\n",
              "Df Model:                           6                                         \n",
              "Covariance Type:            nonrobust                                         \n",
              "==============================================================================\n",
              "                 coef    std err          t      P>|t|      [0.025      0.975]\n",
              "------------------------------------------------------------------------------\n",
              "Intercept      5.0633      0.064     79.437      0.000       4.938       5.188\n",
              "educ           0.0712      0.003     20.438      0.000       0.064       0.078\n",
              "exper          0.0342      0.002     15.422      0.000       0.030       0.038\n",
              "black         -0.1660      0.018     -9.426      0.000      -0.201      -0.131\n",
              "south         -0.1316      0.015     -8.788      0.000      -0.161      -0.102\n",
              "married       -0.0359      0.003    -10.547      0.000      -0.043      -0.029\n",
              "smsa           0.1758      0.015     11.372      0.000       0.145       0.206\n",
              "==============================================================================\n",
              "Omnibus:                       53.196   Durbin-Watson:                   1.858\n",
              "Prob(Omnibus):                  0.000   Jarque-Bera (JB):               69.430\n",
              "Skew:                          -0.231   Prob(JB):                     8.38e-16\n",
              "Kurtosis:                       3.584   Cond. No.                         154.\n",
              "==============================================================================\n",
              "\n",
              "Notes:\n",
              "[1] Standard Errors assume that the covariance matrix of the errors is correctly specified.\n",
              "\"\"\""
            ],
            "text/html": [
              "<table class=\"simpletable\">\n",
              "<caption>OLS Regression Results</caption>\n",
              "<tr>\n",
              "  <th>Dep. Variable:</th>          <td>lwage</td>      <th>  R-squared:         </th> <td>   0.305</td> \n",
              "</tr>\n",
              "<tr>\n",
              "  <th>Model:</th>                   <td>OLS</td>       <th>  Adj. R-squared:    </th> <td>   0.304</td> \n",
              "</tr>\n",
              "<tr>\n",
              "  <th>Method:</th>             <td>Least Squares</td>  <th>  F-statistic:       </th> <td>   219.2</td> \n",
              "</tr>\n",
              "<tr>\n",
              "  <th>Date:</th>             <td>Fri, 09 Dec 2022</td> <th>  Prob (F-statistic):</th> <td>1.97e-232</td>\n",
              "</tr>\n",
              "<tr>\n",
              "  <th>Time:</th>                 <td>20:51:13</td>     <th>  Log-Likelihood:    </th> <td> -1273.9</td> \n",
              "</tr>\n",
              "<tr>\n",
              "  <th>No. Observations:</th>      <td>  3003</td>      <th>  AIC:               </th> <td>   2562.</td> \n",
              "</tr>\n",
              "<tr>\n",
              "  <th>Df Residuals:</th>          <td>  2996</td>      <th>  BIC:               </th> <td>   2604.</td> \n",
              "</tr>\n",
              "<tr>\n",
              "  <th>Df Model:</th>              <td>     6</td>      <th>                     </th>     <td> </td>    \n",
              "</tr>\n",
              "<tr>\n",
              "  <th>Covariance Type:</th>      <td>nonrobust</td>    <th>                     </th>     <td> </td>    \n",
              "</tr>\n",
              "</table>\n",
              "<table class=\"simpletable\">\n",
              "<tr>\n",
              "      <td></td>         <th>coef</th>     <th>std err</th>      <th>t</th>      <th>P>|t|</th>  <th>[0.025</th>    <th>0.975]</th>  \n",
              "</tr>\n",
              "<tr>\n",
              "  <th>Intercept</th> <td>    5.0633</td> <td>    0.064</td> <td>   79.437</td> <td> 0.000</td> <td>    4.938</td> <td>    5.188</td>\n",
              "</tr>\n",
              "<tr>\n",
              "  <th>educ</th>      <td>    0.0712</td> <td>    0.003</td> <td>   20.438</td> <td> 0.000</td> <td>    0.064</td> <td>    0.078</td>\n",
              "</tr>\n",
              "<tr>\n",
              "  <th>exper</th>     <td>    0.0342</td> <td>    0.002</td> <td>   15.422</td> <td> 0.000</td> <td>    0.030</td> <td>    0.038</td>\n",
              "</tr>\n",
              "<tr>\n",
              "  <th>black</th>     <td>   -0.1660</td> <td>    0.018</td> <td>   -9.426</td> <td> 0.000</td> <td>   -0.201</td> <td>   -0.131</td>\n",
              "</tr>\n",
              "<tr>\n",
              "  <th>south</th>     <td>   -0.1316</td> <td>    0.015</td> <td>   -8.788</td> <td> 0.000</td> <td>   -0.161</td> <td>   -0.102</td>\n",
              "</tr>\n",
              "<tr>\n",
              "  <th>married</th>   <td>   -0.0359</td> <td>    0.003</td> <td>  -10.547</td> <td> 0.000</td> <td>   -0.043</td> <td>   -0.029</td>\n",
              "</tr>\n",
              "<tr>\n",
              "  <th>smsa</th>      <td>    0.1758</td> <td>    0.015</td> <td>   11.372</td> <td> 0.000</td> <td>    0.145</td> <td>    0.206</td>\n",
              "</tr>\n",
              "</table>\n",
              "<table class=\"simpletable\">\n",
              "<tr>\n",
              "  <th>Omnibus:</th>       <td>53.196</td> <th>  Durbin-Watson:     </th> <td>   1.858</td>\n",
              "</tr>\n",
              "<tr>\n",
              "  <th>Prob(Omnibus):</th> <td> 0.000</td> <th>  Jarque-Bera (JB):  </th> <td>  69.430</td>\n",
              "</tr>\n",
              "<tr>\n",
              "  <th>Skew:</th>          <td>-0.231</td> <th>  Prob(JB):          </th> <td>8.38e-16</td>\n",
              "</tr>\n",
              "<tr>\n",
              "  <th>Kurtosis:</th>      <td> 3.584</td> <th>  Cond. No.          </th> <td>    154.</td>\n",
              "</tr>\n",
              "</table><br/><br/>Notes:<br/>[1] Standard Errors assume that the covariance matrix of the errors is correctly specified."
            ]
          },
          "metadata": {},
          "execution_count": 24
        }
      ]
    },
    {
      "cell_type": "markdown",
      "source": [
        "**Resultados**\n",
        "\n",
        "La regresión lineal elaborada se trata de un modelo que cuenta con una predictibilidad del 30,4%, de acuerdo con el R ajustado. Asimismo, todas las variables independientes utilizadas aportan al modelo. Entre los resultados importantes presentados por la regresión se puede considerar que, por cada año adicional de educación, los ingresos de las personas se incrementan alrededor de un 7.12%. Asimismo, variables denominadas como black, south and married tienen un efecto negativo sobre la tasa de ingresos. "
      ],
      "metadata": {
        "id": "_06VuKlMgILH"
      }
    },
    {
      "cell_type": "code",
      "source": [
        "card['married'] = card['married'].fillna(0)"
      ],
      "metadata": {
        "id": "fj20_uFLgkXl"
      },
      "execution_count": 25,
      "outputs": []
    },
    {
      "cell_type": "code",
      "source": [
        "iv_reg = IV2SLS.from_formula( \"lwage ~ 1 + exper + black + south + married + smsa + [educ ~ nearc2 ]\", card).fit()\n",
        "iv_reg.summary"
      ],
      "metadata": {
        "colab": {
          "base_uri": "https://localhost:8080/",
          "height": 457
        },
        "id": "Az5Xv4AMgJq6",
        "outputId": "0d62e66b-24d4-4781-9397-416f40a527c0"
      },
      "execution_count": 26,
      "outputs": [
        {
          "output_type": "execute_result",
          "data": {
            "text/plain": [
              "<class 'linearmodels.compat.statsmodels.Summary'>\n",
              "\"\"\"\n",
              "                          IV-2SLS Estimation Summary                          \n",
              "==============================================================================\n",
              "Dep. Variable:                  lwage   R-squared:                     -1.3114\n",
              "Estimator:                    IV-2SLS   Adj. R-squared:                -1.3160\n",
              "No. Observations:                3010   F-statistic:                    289.62\n",
              "Date:                Fri, Dec 09 2022   P-value (F-stat)                0.0000\n",
              "Time:                        20:51:13   Distribution:                  chi2(6)\n",
              "Cov. Estimator:                robust                                         \n",
              "                                                                              \n",
              "                             Parameter Estimates                              \n",
              "==============================================================================\n",
              "            Parameter  Std. Err.     T-stat    P-value    Lower CI    Upper CI\n",
              "------------------------------------------------------------------------------\n",
              "Intercept      0.1276     3.1412     0.0406     0.9676     -6.0290      6.2843\n",
              "black          0.1134     0.1816     0.6244     0.5324     -0.2425      0.4692\n",
              "exper          0.1515     0.0747     2.0274     0.0426      0.0050      0.2980\n",
              "married       -0.0151     0.0147    -1.0258     0.3050     -0.0438      0.0137\n",
              "smsa           0.0201     0.1030     0.1949     0.8455     -0.1819      0.2220\n",
              "south         -0.0319     0.0692    -0.4603     0.6453     -0.1675      0.1038\n",
              "educ           0.3618     0.1849     1.9562     0.0504     -0.0007      0.7243\n",
              "==============================================================================\n",
              "\n",
              "Endogenous: educ\n",
              "Instruments: nearc2\n",
              "Robust Covariance (Heteroskedastic)\n",
              "Debiased: False\n",
              "\"\"\""
            ],
            "text/html": [
              "<table class=\"simpletable\">\n",
              "<caption>IV-2SLS Estimation Summary</caption>\n",
              "<tr>\n",
              "  <th>Dep. Variable:</th>          <td>lwage</td>      <th>  R-squared:         </th> <td>-1.3114</td>\n",
              "</tr>\n",
              "<tr>\n",
              "  <th>Estimator:</th>             <td>IV-2SLS</td>     <th>  Adj. R-squared:    </th> <td>-1.3160</td>\n",
              "</tr>\n",
              "<tr>\n",
              "  <th>No. Observations:</th>       <td>3010</td>       <th>  F-statistic:       </th> <td>289.62</td> \n",
              "</tr>\n",
              "<tr>\n",
              "  <th>Date:</th>             <td>Fri, Dec 09 2022</td> <th>  P-value (F-stat)   </th> <td>0.0000</td> \n",
              "</tr>\n",
              "<tr>\n",
              "  <th>Time:</th>                 <td>20:51:13</td>     <th>  Distribution:      </th> <td>chi2(6)</td>\n",
              "</tr>\n",
              "<tr>\n",
              "  <th>Cov. Estimator:</th>        <td>robust</td>      <th>                     </th>    <td></td>    \n",
              "</tr>\n",
              "<tr>\n",
              "  <th></th>                          <td></td>         <th>                     </th>    <td></td>    \n",
              "</tr>\n",
              "</table>\n",
              "<table class=\"simpletable\">\n",
              "<caption>Parameter Estimates</caption>\n",
              "<tr>\n",
              "      <td></td>      <th>Parameter</th> <th>Std. Err.</th> <th>T-stat</th>  <th>P-value</th> <th>Lower CI</th> <th>Upper CI</th>\n",
              "</tr>\n",
              "<tr>\n",
              "  <th>Intercept</th>  <td>0.1276</td>    <td>3.1412</td>   <td>0.0406</td>  <td>0.9676</td>   <td>-6.0290</td>  <td>6.2843</td> \n",
              "</tr>\n",
              "<tr>\n",
              "  <th>black</th>      <td>0.1134</td>    <td>0.1816</td>   <td>0.6244</td>  <td>0.5324</td>   <td>-0.2425</td>  <td>0.4692</td> \n",
              "</tr>\n",
              "<tr>\n",
              "  <th>exper</th>      <td>0.1515</td>    <td>0.0747</td>   <td>2.0274</td>  <td>0.0426</td>   <td>0.0050</td>   <td>0.2980</td> \n",
              "</tr>\n",
              "<tr>\n",
              "  <th>married</th>    <td>-0.0151</td>   <td>0.0147</td>   <td>-1.0258</td> <td>0.3050</td>   <td>-0.0438</td>  <td>0.0137</td> \n",
              "</tr>\n",
              "<tr>\n",
              "  <th>smsa</th>       <td>0.0201</td>    <td>0.1030</td>   <td>0.1949</td>  <td>0.8455</td>   <td>-0.1819</td>  <td>0.2220</td> \n",
              "</tr>\n",
              "<tr>\n",
              "  <th>south</th>      <td>-0.0319</td>   <td>0.0692</td>   <td>-0.4603</td> <td>0.6453</td>   <td>-0.1675</td>  <td>0.1038</td> \n",
              "</tr>\n",
              "<tr>\n",
              "  <th>educ</th>       <td>0.3618</td>    <td>0.1849</td>   <td>1.9562</td>  <td>0.0504</td>   <td>-0.0007</td>  <td>0.7243</td> \n",
              "</tr>\n",
              "</table><br/><br/>Endogenous: educ<br/>Instruments: nearc2<br/>Robust Covariance (Heteroskedastic)<br/>Debiased: False"
            ]
          },
          "metadata": {},
          "execution_count": 26
        }
      ]
    },
    {
      "cell_type": "markdown",
      "source": [
        "**Resultados**\n",
        "\n",
        "Con la introducción de la variable nearc2 como instrumental dentro del modelo es posible denotar un cambio con los resultados anteriores. Se observa que, con respecto a la variable educación, ahora con cada año adicional de educación, la tasa de ingresos se incrementa un 36.18%, y no 7.12%. \n",
        "\n",
        "Es decir, al considerar a la existencia de una universidad de dos años cerca del condado, se puede estimar mejor cuál es el efecto de la educación sobre los ingresos de las personas consideradas en el estudio. \n"
      ],
      "metadata": {
        "id": "9spDqvB5gpNn"
      }
    }
  ]
}