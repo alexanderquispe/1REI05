{
 "cells": [
  {
   "cell_type": "markdown",
   "id": "24451bad",
   "metadata": {},
   "source": [
    "# Reporte 8"
   ]
  },
  {
   "cell_type": "markdown",
   "id": "e926b982",
   "metadata": {},
   "source": [
    "Este estudio utiliza la regresión discontinua para examinar los impactos a largo plazo de la mita, un sistema extensivo de trabajo minero forzoso vigente en Perú y Bolivia entre 1573 y 1812. Dicho trabajo forzoso fue establecido por los españoles en la época del Virreinato del Perú, obligando a trabajar a varones en las minas cercanas (como la de Potosí  o Huancavelica). Históricamente, los distritos de mita tenían menos latifundistas y un menor nivel educativo. En la actualidad, están menos integrados en las redes de carreteras y sus residentes tienen muchas más probabilidades de ser agricultores de subsistencia. Entonces, teniendo ello en consideración, la pregunta de investigación del artículo es ¿cuáles son los efectos a largo plazo que tiene la mita, vigente en Perú y Bolivia entre 1573 y 1812, en la actualidad? Como concluirá el autor más adelante, los resultados indican que el efecto de la mita disminuye el consumo de los hogares en alrededor de un 25% y aumenta la prevalencia del retraso en el crecimiento de los niños en alrededor de 6 puntos porcentuales en los distritos sometidos en la actualidad\n",
    "\n",
    "En primer lugar, una fortaleza es que la autora utiliza un modelo de regresión discontinua (RD), donde, la cual le permitirá abordar la correlación entre su variable de tratamiento, los factores y la variable dependiente. En este, la autora delimita la extensión geográfica de su estudio, enfocándose en la cordillera de los Andes en el sur de Perú donde la altitud, la distribución étnica y otros factores son estadísticamente idénticos. Esta fortaleza además le permite poder utilizar los datos del Imperio español y de la República peruana para rastrear los canales de persistencia institucional. Asimismo, el autor utiliza diversas fuentes de literatura, en donde realiza un revisión histórica y crítica, en donde evalúa los resultados e impactos de la mita, pero también hace uso de data, para poder sustentar sus hipótesis de forma empírica. \n",
    "\n",
    "Respecto a las debilidades, como indica la autora al inicio, es que la encuesta realizada a los hogares determinados brinda poca información para la estimación de modelos flexibles. Sin embargo, la magnitud del efecto mita es robusta a una serie de especificaciones alternativas. Además, parte de la data corresponde a estudios bastante antiguos, por lo que existe que suma cierto grado de incertidumbre en los resultados.\n",
    "\n",
    "En suma, la investigación en cuestión resulta ser un avance respecto a investigaciones previas sobre la mita minera en los resultados puesto que logra confirmar a través de resultados la hipótesis presentada al principio acerca de que las instituciones extractivas históricas influyen en la prosperidad económica a largo plazo. Esta comprobación, a diferencia de otras planteadas previamente, se establece a través de un modelo de regresión (de forma empírica), mientras que otras hipótesis previas respecto a los efectos de la mita se sostenían en datos históricos.  Asimismo, la metodología empleada permitió mostrar los principales resultados obtenidos a partir de la réplica. Cuyos resultados explican que el impacto de la mita minera en la era colonial, ha tenido efectos negativos a largo plazo sobre el consumo en los hogares y en el crecimiento de niños y niñas. Asimismo, analiza los canales de persistencia a través de los cuales la mita produjo los efectos antes mencionados.\n",
    "\n",
    "Entonces, los siguientes pasos para seguir en la investigación podrían ser utilizar los mismos datos que la autora ya ha desarrollado para poder plantear más hipótesis. Es decir, trata de ver otros efectos que puede haber tenido la mita utilizando diferentes factores de correlación. Además, al haber sido la mita establecida en gran parte de los sectores donde los españoles obligaron al trabajo forzado, se propondría realizar un estudio similar en diferentes países de la región, para poder comparar los resultados obtenidos y verificar si los impactos han sido similares o no. En caso los resultados no seas similares, se podría plantear qué factores delimitaron que el impacto sea mayor o menor. "
   ]
  },
  {
   "cell_type": "markdown",
   "id": "b4e61404",
   "metadata": {},
   "source": [
    "**CÓDIGO**"
   ]
  },
  {
   "cell_type": "markdown",
   "id": "8e064d69",
   "metadata": {},
   "source": [
    "Realizado con Alejandra Boceta Palomino"
   ]
  },
  {
   "cell_type": "markdown",
   "id": "8db8f910",
   "metadata": {},
   "source": [
    "**Instrumental Variables**"
   ]
  },
  {
   "cell_type": "markdown",
   "id": "30ee2c8c",
   "metadata": {},
   "source": [
    "*Supuesto de Relevancia:* El instrumento (\"Z\"), debe podere explicar parte del tratamiento (\"X\"). Entonces, cuanto más fuerte sea la correlación entre \"Z\" y \"X\", más confianza tendrá en la suposición de relevancia y menos saltará la estimación de una muestra a otra. \n",
    "\n",
    "Entonces, también se debe mencionar que las variables instrumentales buscan responder para cada Z-movimiento explicado en Z, cuánto Z-movimiento explicado en Y. O, en otras palabras, $Cov(Z,Y)/Cov(Z,X)$"
   ]
  },
  {
   "cell_type": "markdown",
   "id": "05827f3f",
   "metadata": {},
   "source": [
    ".\n",
    "\n",
    "*Supuesto de Validez:*La validez es la suposición de que el instrumento es una variable que no tiene puertas traseras abiertas propias.  Es decir, cualquier camino entre el instrumento $Z$ el resultado $Y$ debe pasar por el tratamiento $X$ o estar cerrado. En otras palabras, es una suposición de que $Z$ puede ser razonablemente excluida del modelo $Y$ después de que la ruta $Z\\rightarrow X$ está incluida."
   ]
  },
  {
   "cell_type": "code",
   "execution_count": 5,
   "id": "05a8bf13",
   "metadata": {},
   "outputs": [
    {
     "name": "stdout",
     "output_type": "stream",
     "text": [
      "Requirement already satisfied: linearmodels in d:\\anaconda\\lib\\site-packages (4.27)\n",
      "Requirement already satisfied: setuptools-scm<7.0.0,>=6.4.2 in d:\\anaconda\\lib\\site-packages (from linearmodels) (6.4.2)\n",
      "Requirement already satisfied: formulaic~=0.3.2 in d:\\anaconda\\lib\\site-packages (from linearmodels) (0.3.4)\n",
      "Requirement already satisfied: scipy>=1.2 in d:\\anaconda\\lib\\site-packages (from linearmodels) (1.7.3)\n",
      "Requirement already satisfied: pyhdfe>=0.1 in d:\\anaconda\\lib\\site-packages (from linearmodels) (0.1.1)\n",
      "Requirement already satisfied: pandas>=0.24 in d:\\anaconda\\lib\\site-packages (from linearmodels) (1.4.2)\n",
      "Requirement already satisfied: Cython>=0.29.21 in d:\\anaconda\\lib\\site-packages (from linearmodels) (0.29.28)\n",
      "Requirement already satisfied: statsmodels>=0.11 in d:\\anaconda\\lib\\site-packages (from linearmodels) (0.13.2)\n",
      "Requirement already satisfied: numpy>=1.16 in d:\\anaconda\\lib\\site-packages (from linearmodels) (1.21.5)\n",
      "Requirement already satisfied: property-cached>=1.6.3 in d:\\anaconda\\lib\\site-packages (from linearmodels) (1.6.4)\n",
      "Requirement already satisfied: mypy-extensions>=0.4 in d:\\anaconda\\lib\\site-packages (from linearmodels) (0.4.3)\n",
      "Requirement already satisfied: interface-meta<2.0.0,>=1.2.0 in d:\\anaconda\\lib\\site-packages (from formulaic~=0.3.2->linearmodels) (1.3.0)\n",
      "Requirement already satisfied: wrapt>=1.0 in d:\\anaconda\\lib\\site-packages (from formulaic~=0.3.2->linearmodels) (1.12.1)\n",
      "Requirement already satisfied: astor>=0.8 in d:\\anaconda\\lib\\site-packages (from formulaic~=0.3.2->linearmodels) (0.8.1)\n",
      "Requirement already satisfied: pytz>=2020.1 in d:\\anaconda\\lib\\site-packages (from pandas>=0.24->linearmodels) (2021.3)\n",
      "Requirement already satisfied: python-dateutil>=2.8.1 in d:\\anaconda\\lib\\site-packages (from pandas>=0.24->linearmodels) (2.8.2)\n",
      "Requirement already satisfied: six>=1.5 in d:\\anaconda\\lib\\site-packages (from python-dateutil>=2.8.1->pandas>=0.24->linearmodels) (1.16.0)\n",
      "Requirement already satisfied: setuptools in d:\\anaconda\\lib\\site-packages (from setuptools-scm<7.0.0,>=6.4.2->linearmodels) (61.2.0)\n",
      "Requirement already satisfied: packaging>=20.0 in d:\\anaconda\\lib\\site-packages (from setuptools-scm<7.0.0,>=6.4.2->linearmodels) (21.3)\n",
      "Requirement already satisfied: tomli>=1.0.0 in d:\\anaconda\\lib\\site-packages (from setuptools-scm<7.0.0,>=6.4.2->linearmodels) (1.2.2)\n",
      "Requirement already satisfied: pyparsing!=3.0.5,>=2.0.2 in d:\\anaconda\\lib\\site-packages (from packaging>=20.0->setuptools-scm<7.0.0,>=6.4.2->linearmodels) (3.0.4)\n",
      "Requirement already satisfied: patsy>=0.5.2 in d:\\anaconda\\lib\\site-packages (from statsmodels>=0.11->linearmodels) (0.5.2)\n",
      "Note: you may need to restart the kernel to use updated packages.\n"
     ]
    }
   ],
   "source": [
    "pip install linearmodels"
   ]
  },
  {
   "cell_type": "code",
   "execution_count": 6,
   "id": "cd3cdcb2",
   "metadata": {},
   "outputs": [
    {
     "name": "stdout",
     "output_type": "stream",
     "text": [
      "Requirement already satisfied: seaborn in d:\\anaconda\\lib\\site-packages (0.11.2)\n",
      "Requirement already satisfied: pandas>=0.23 in d:\\anaconda\\lib\\site-packages (from seaborn) (1.4.2)\n",
      "Requirement already satisfied: numpy>=1.15 in d:\\anaconda\\lib\\site-packages (from seaborn) (1.21.5)\n",
      "Requirement already satisfied: scipy>=1.0 in d:\\anaconda\\lib\\site-packages (from seaborn) (1.7.3)\n",
      "Requirement already satisfied: matplotlib>=2.2 in d:\\anaconda\\lib\\site-packages (from seaborn) (3.5.1)\n",
      "Requirement already satisfied: cycler>=0.10 in d:\\anaconda\\lib\\site-packages (from matplotlib>=2.2->seaborn) (0.11.0)\n",
      "Requirement already satisfied: kiwisolver>=1.0.1 in d:\\anaconda\\lib\\site-packages (from matplotlib>=2.2->seaborn) (1.3.2)\n",
      "Requirement already satisfied: pillow>=6.2.0 in d:\\anaconda\\lib\\site-packages (from matplotlib>=2.2->seaborn) (9.0.1)\n",
      "Requirement already satisfied: packaging>=20.0 in d:\\anaconda\\lib\\site-packages (from matplotlib>=2.2->seaborn) (21.3)\n",
      "Requirement already satisfied: pyparsing>=2.2.1 in d:\\anaconda\\lib\\site-packages (from matplotlib>=2.2->seaborn) (3.0.4)\n",
      "Requirement already satisfied: python-dateutil>=2.7 in d:\\anaconda\\lib\\site-packages (from matplotlib>=2.2->seaborn) (2.8.2)\n",
      "Requirement already satisfied: fonttools>=4.22.0 in d:\\anaconda\\lib\\site-packages (from matplotlib>=2.2->seaborn) (4.25.0)\n",
      "Requirement already satisfied: pytz>=2020.1 in d:\\anaconda\\lib\\site-packages (from pandas>=0.23->seaborn) (2021.3)\n",
      "Requirement already satisfied: six>=1.5 in d:\\anaconda\\lib\\site-packages (from python-dateutil>=2.7->matplotlib>=2.2->seaborn) (1.16.0)\n",
      "Note: you may need to restart the kernel to use updated packages.\n"
     ]
    }
   ],
   "source": [
    "pip install seaborn"
   ]
  },
  {
   "cell_type": "code",
   "execution_count": 8,
   "id": "4ebdedcb",
   "metadata": {},
   "outputs": [],
   "source": [
    "# pip install causalgraphicalmodels\n",
    "# pip install linearmodels\n",
    "\n",
    "from causalgraphicalmodels import CausalGraphicalModel\n",
    "import os\n",
    "import numpy as np \n",
    "import pandas as pd \n",
    "import statsmodels.api as sm \n",
    "import statsmodels.formula.api as smf \n",
    "from itertools import combinations \n",
    "import plotnine as p\n",
    "import statsmodels.api as sm\n",
    "import statsmodels.formula.api as smf\n",
    "import linearmodels.iv.model as lm\n",
    "from linearmodels.iv import IV2SLS\n",
    "from statsmodels.iolib.summary2 import summary_col\n",
    "import seaborn as sns"
   ]
  },
  {
   "cell_type": "markdown",
   "id": "b6db829f",
   "metadata": {},
   "source": [
    "**Ploteo de Histogramas**"
   ]
  },
  {
   "cell_type": "markdown",
   "id": "b2201f59",
   "metadata": {},
   "source": [
    "Tomando en cuenta que la variable $nearc4$ representa si existe un college en el county debe realizar los siguientes ploteos de histogramas."
   ]
  },
  {
   "cell_type": "markdown",
   "id": "97b2a212",
   "metadata": {},
   "source": [
    "- Grafique dos histogramas para la variable años de educación educ para cuando nearc4 == 1, y cuando nearc4 == 0. Compare y describa los patrones que encuentra.\n"
   ]
  },
  {
   "cell_type": "code",
   "execution_count": 9,
   "id": "b502e86c",
   "metadata": {},
   "outputs": [
    {
     "data": {
      "text/html": [
       "<div>\n",
       "<style scoped>\n",
       "    .dataframe tbody tr th:only-of-type {\n",
       "        vertical-align: middle;\n",
       "    }\n",
       "\n",
       "    .dataframe tbody tr th {\n",
       "        vertical-align: top;\n",
       "    }\n",
       "\n",
       "    .dataframe thead th {\n",
       "        text-align: right;\n",
       "    }\n",
       "</style>\n",
       "<table border=\"1\" class=\"dataframe\">\n",
       "  <thead>\n",
       "    <tr style=\"text-align: right;\">\n",
       "      <th></th>\n",
       "      <th>id</th>\n",
       "      <th>nearc2</th>\n",
       "      <th>nearc4</th>\n",
       "      <th>educ</th>\n",
       "      <th>age</th>\n",
       "      <th>fatheduc</th>\n",
       "      <th>motheduc</th>\n",
       "      <th>weight</th>\n",
       "      <th>momdad14</th>\n",
       "      <th>sinmom14</th>\n",
       "      <th>...</th>\n",
       "      <th>KWW</th>\n",
       "      <th>IQ</th>\n",
       "      <th>married</th>\n",
       "      <th>libcrd14</th>\n",
       "      <th>exper</th>\n",
       "      <th>lwage</th>\n",
       "      <th>expersq</th>\n",
       "      <th>u_lwage</th>\n",
       "      <th>lwage_hat</th>\n",
       "      <th>u_educ</th>\n",
       "    </tr>\n",
       "  </thead>\n",
       "  <tbody>\n",
       "    <tr>\n",
       "      <th>0</th>\n",
       "      <td>2.0</td>\n",
       "      <td>0.0</td>\n",
       "      <td>0.0</td>\n",
       "      <td>7.0</td>\n",
       "      <td>29.0</td>\n",
       "      <td>NaN</td>\n",
       "      <td>NaN</td>\n",
       "      <td>158413.0</td>\n",
       "      <td>1.0</td>\n",
       "      <td>0.0</td>\n",
       "      <td>...</td>\n",
       "      <td>15.0</td>\n",
       "      <td>NaN</td>\n",
       "      <td>1.0</td>\n",
       "      <td>0.0</td>\n",
       "      <td>16.0</td>\n",
       "      <td>6.306275</td>\n",
       "      <td>256.0</td>\n",
       "      <td>0.198047</td>\n",
       "      <td>6.108228</td>\n",
       "      <td>-3.067539</td>\n",
       "    </tr>\n",
       "    <tr>\n",
       "      <th>1</th>\n",
       "      <td>3.0</td>\n",
       "      <td>0.0</td>\n",
       "      <td>0.0</td>\n",
       "      <td>12.0</td>\n",
       "      <td>27.0</td>\n",
       "      <td>8.0</td>\n",
       "      <td>8.0</td>\n",
       "      <td>380166.0</td>\n",
       "      <td>1.0</td>\n",
       "      <td>0.0</td>\n",
       "      <td>...</td>\n",
       "      <td>35.0</td>\n",
       "      <td>93.0</td>\n",
       "      <td>1.0</td>\n",
       "      <td>1.0</td>\n",
       "      <td>9.0</td>\n",
       "      <td>6.175867</td>\n",
       "      <td>81.0</td>\n",
       "      <td>-0.211160</td>\n",
       "      <td>6.387027</td>\n",
       "      <td>-1.727562</td>\n",
       "    </tr>\n",
       "    <tr>\n",
       "      <th>2</th>\n",
       "      <td>4.0</td>\n",
       "      <td>0.0</td>\n",
       "      <td>0.0</td>\n",
       "      <td>12.0</td>\n",
       "      <td>34.0</td>\n",
       "      <td>14.0</td>\n",
       "      <td>12.0</td>\n",
       "      <td>367470.0</td>\n",
       "      <td>1.0</td>\n",
       "      <td>0.0</td>\n",
       "      <td>...</td>\n",
       "      <td>42.0</td>\n",
       "      <td>103.0</td>\n",
       "      <td>1.0</td>\n",
       "      <td>1.0</td>\n",
       "      <td>16.0</td>\n",
       "      <td>6.580639</td>\n",
       "      <td>256.0</td>\n",
       "      <td>0.204719</td>\n",
       "      <td>6.375920</td>\n",
       "      <td>1.012975</td>\n",
       "    </tr>\n",
       "    <tr>\n",
       "      <th>3</th>\n",
       "      <td>5.0</td>\n",
       "      <td>1.0</td>\n",
       "      <td>1.0</td>\n",
       "      <td>11.0</td>\n",
       "      <td>27.0</td>\n",
       "      <td>11.0</td>\n",
       "      <td>12.0</td>\n",
       "      <td>380166.0</td>\n",
       "      <td>1.0</td>\n",
       "      <td>0.0</td>\n",
       "      <td>...</td>\n",
       "      <td>25.0</td>\n",
       "      <td>88.0</td>\n",
       "      <td>1.0</td>\n",
       "      <td>1.0</td>\n",
       "      <td>10.0</td>\n",
       "      <td>5.521461</td>\n",
       "      <td>100.0</td>\n",
       "      <td>-0.967905</td>\n",
       "      <td>6.489366</td>\n",
       "      <td>-2.253536</td>\n",
       "    </tr>\n",
       "    <tr>\n",
       "      <th>4</th>\n",
       "      <td>6.0</td>\n",
       "      <td>1.0</td>\n",
       "      <td>1.0</td>\n",
       "      <td>12.0</td>\n",
       "      <td>34.0</td>\n",
       "      <td>8.0</td>\n",
       "      <td>7.0</td>\n",
       "      <td>367470.0</td>\n",
       "      <td>1.0</td>\n",
       "      <td>0.0</td>\n",
       "      <td>...</td>\n",
       "      <td>34.0</td>\n",
       "      <td>108.0</td>\n",
       "      <td>1.0</td>\n",
       "      <td>0.0</td>\n",
       "      <td>16.0</td>\n",
       "      <td>6.591674</td>\n",
       "      <td>256.0</td>\n",
       "      <td>0.125173</td>\n",
       "      <td>6.466501</td>\n",
       "      <td>1.090437</td>\n",
       "    </tr>\n",
       "  </tbody>\n",
       "</table>\n",
       "<p>5 rows × 37 columns</p>\n",
       "</div>"
      ],
      "text/plain": [
       "    id  nearc2  nearc4  educ   age  fatheduc  motheduc    weight  momdad14  \\\n",
       "0  2.0     0.0     0.0   7.0  29.0       NaN       NaN  158413.0       1.0   \n",
       "1  3.0     0.0     0.0  12.0  27.0       8.0       8.0  380166.0       1.0   \n",
       "2  4.0     0.0     0.0  12.0  34.0      14.0      12.0  367470.0       1.0   \n",
       "3  5.0     1.0     1.0  11.0  27.0      11.0      12.0  380166.0       1.0   \n",
       "4  6.0     1.0     1.0  12.0  34.0       8.0       7.0  367470.0       1.0   \n",
       "\n",
       "   sinmom14  ...   KWW     IQ  married  libcrd14  exper     lwage  expersq  \\\n",
       "0       0.0  ...  15.0    NaN      1.0       0.0   16.0  6.306275    256.0   \n",
       "1       0.0  ...  35.0   93.0      1.0       1.0    9.0  6.175867     81.0   \n",
       "2       0.0  ...  42.0  103.0      1.0       1.0   16.0  6.580639    256.0   \n",
       "3       0.0  ...  25.0   88.0      1.0       1.0   10.0  5.521461    100.0   \n",
       "4       0.0  ...  34.0  108.0      1.0       0.0   16.0  6.591674    256.0   \n",
       "\n",
       "    u_lwage  lwage_hat    u_educ  \n",
       "0  0.198047   6.108228 -3.067539  \n",
       "1 -0.211160   6.387027 -1.727562  \n",
       "2  0.204719   6.375920  1.012975  \n",
       "3 -0.967905   6.489366 -2.253536  \n",
       "4  0.125173   6.466501  1.090437  \n",
       "\n",
       "[5 rows x 37 columns]"
      ]
     },
     "execution_count": 9,
     "metadata": {},
     "output_type": "execute_result"
    }
   ],
   "source": [
    "# load data\n",
    "\n",
    "import ssl\n",
    "ssl._create_default_https_context = ssl._create_unverified_context\n",
    "\n",
    "def read_data(file): \n",
    "    return pd.read_stata(\"https://raw.github.com/scunning1975/mixtape/master/\" + file)\n",
    "\n",
    "card = read_data(\"card.dta\")\n",
    "card.head()"
   ]
  },
  {
   "cell_type": "code",
   "execution_count": 10,
   "id": "5797f205",
   "metadata": {},
   "outputs": [
    {
     "data": {
      "text/html": [
       "<div>\n",
       "<style scoped>\n",
       "    .dataframe tbody tr th:only-of-type {\n",
       "        vertical-align: middle;\n",
       "    }\n",
       "\n",
       "    .dataframe tbody tr th {\n",
       "        vertical-align: top;\n",
       "    }\n",
       "\n",
       "    .dataframe thead th {\n",
       "        text-align: right;\n",
       "    }\n",
       "</style>\n",
       "<table border=\"1\" class=\"dataframe\">\n",
       "  <thead>\n",
       "    <tr style=\"text-align: right;\">\n",
       "      <th></th>\n",
       "      <th>id</th>\n",
       "      <th>nearc2</th>\n",
       "      <th>educ</th>\n",
       "      <th>age</th>\n",
       "      <th>fatheduc</th>\n",
       "      <th>motheduc</th>\n",
       "      <th>weight</th>\n",
       "      <th>momdad14</th>\n",
       "      <th>sinmom14</th>\n",
       "      <th>step14</th>\n",
       "      <th>...</th>\n",
       "      <th>KWW</th>\n",
       "      <th>IQ</th>\n",
       "      <th>married</th>\n",
       "      <th>libcrd14</th>\n",
       "      <th>exper</th>\n",
       "      <th>lwage</th>\n",
       "      <th>expersq</th>\n",
       "      <th>u_lwage</th>\n",
       "      <th>lwage_hat</th>\n",
       "      <th>u_educ</th>\n",
       "    </tr>\n",
       "    <tr>\n",
       "      <th>nearc4</th>\n",
       "      <th></th>\n",
       "      <th></th>\n",
       "      <th></th>\n",
       "      <th></th>\n",
       "      <th></th>\n",
       "      <th></th>\n",
       "      <th></th>\n",
       "      <th></th>\n",
       "      <th></th>\n",
       "      <th></th>\n",
       "      <th></th>\n",
       "      <th></th>\n",
       "      <th></th>\n",
       "      <th></th>\n",
       "      <th></th>\n",
       "      <th></th>\n",
       "      <th></th>\n",
       "      <th></th>\n",
       "      <th></th>\n",
       "      <th></th>\n",
       "      <th></th>\n",
       "    </tr>\n",
       "  </thead>\n",
       "  <tbody>\n",
       "    <tr>\n",
       "      <th>0.0</th>\n",
       "      <td>3489.990479</td>\n",
       "      <td>0.354232</td>\n",
       "      <td>12.698014</td>\n",
       "      <td>27.927900</td>\n",
       "      <td>9.221606</td>\n",
       "      <td>9.939687</td>\n",
       "      <td>297838.62500</td>\n",
       "      <td>0.788924</td>\n",
       "      <td>0.095089</td>\n",
       "      <td>0.040752</td>\n",
       "      <td>...</td>\n",
       "      <td>31.515345</td>\n",
       "      <td>100.610649</td>\n",
       "      <td>2.222689</td>\n",
       "      <td>0.549634</td>\n",
       "      <td>9.229885</td>\n",
       "      <td>6.155494</td>\n",
       "      <td>103.509926</td>\n",
       "      <td>-0.021442</td>\n",
       "      <td>6.176936</td>\n",
       "      <td>-0.163051</td>\n",
       "    </tr>\n",
       "    <tr>\n",
       "      <th>1.0</th>\n",
       "      <td>2158.374512</td>\n",
       "      <td>0.481247</td>\n",
       "      <td>13.527034</td>\n",
       "      <td>28.208963</td>\n",
       "      <td>10.356696</td>\n",
       "      <td>10.533370</td>\n",
       "      <td>332068.21875</td>\n",
       "      <td>0.789576</td>\n",
       "      <td>0.103264</td>\n",
       "      <td>0.037993</td>\n",
       "      <td>...</td>\n",
       "      <td>34.489098</td>\n",
       "      <td>103.206848</td>\n",
       "      <td>2.294003</td>\n",
       "      <td>0.732843</td>\n",
       "      <td>8.681929</td>\n",
       "      <td>6.311401</td>\n",
       "      <td>91.882126</td>\n",
       "      <td>0.009995</td>\n",
       "      <td>6.301406</td>\n",
       "      <td>0.076006</td>\n",
       "    </tr>\n",
       "  </tbody>\n",
       "</table>\n",
       "<p>2 rows × 36 columns</p>\n",
       "</div>"
      ],
      "text/plain": [
       "                 id    nearc2       educ        age   fatheduc   motheduc  \\\n",
       "nearc4                                                                      \n",
       "0.0     3489.990479  0.354232  12.698014  27.927900   9.221606   9.939687   \n",
       "1.0     2158.374512  0.481247  13.527034  28.208963  10.356696  10.533370   \n",
       "\n",
       "              weight  momdad14  sinmom14    step14  ...        KWW  \\\n",
       "nearc4                                              ...              \n",
       "0.0     297838.62500  0.788924  0.095089  0.040752  ...  31.515345   \n",
       "1.0     332068.21875  0.789576  0.103264  0.037993  ...  34.489098   \n",
       "\n",
       "                IQ   married  libcrd14     exper     lwage     expersq  \\\n",
       "nearc4                                                                   \n",
       "0.0     100.610649  2.222689  0.549634  9.229885  6.155494  103.509926   \n",
       "1.0     103.206848  2.294003  0.732843  8.681929  6.311401   91.882126   \n",
       "\n",
       "         u_lwage  lwage_hat    u_educ  \n",
       "nearc4                                 \n",
       "0.0    -0.021442   6.176936 -0.163051  \n",
       "1.0     0.009995   6.301406  0.076006  \n",
       "\n",
       "[2 rows x 36 columns]"
      ]
     },
     "execution_count": 10,
     "metadata": {},
     "output_type": "execute_result"
    }
   ],
   "source": [
    "card.groupby([\"nearc4\"]).mean()"
   ]
  },
  {
   "cell_type": "markdown",
   "id": "d24fb2de",
   "metadata": {},
   "source": [
    "Primer gráfico de Histogramas:"
   ]
  },
  {
   "cell_type": "code",
   "execution_count": 13,
   "id": "c4c5c4f5",
   "metadata": {},
   "outputs": [
    {
     "data": {
      "text/plain": [
       "<seaborn.axisgrid.FacetGrid at 0x18ec2b99c40>"
      ]
     },
     "execution_count": 13,
     "metadata": {},
     "output_type": "execute_result"
    },
    {
     "data": {
      "image/png": "[encoded data removed]",
      "text/plain": [
       "<Figure size 720x360 with 2 Axes>"
      ]
     },
     "metadata": {
      "needs_background": "light"
     },
     "output_type": "display_data"
    }
   ],
   "source": [
    "sns.displot(card, x=\"educ\", col=\"nearc4\")"
   ]
  },
  {
   "cell_type": "markdown",
   "id": "1fbb0012",
   "metadata": {},
   "source": [
    "Segundo gráfico de Histogramas para hacer la comparación: "
   ]
  },
  {
   "cell_type": "code",
   "execution_count": 17,
   "id": "962681e2",
   "metadata": {},
   "outputs": [
    {
     "data": {
      "text/html": [
       "<div>\n",
       "<style scoped>\n",
       "    .dataframe tbody tr th:only-of-type {\n",
       "        vertical-align: middle;\n",
       "    }\n",
       "\n",
       "    .dataframe tbody tr th {\n",
       "        vertical-align: top;\n",
       "    }\n",
       "\n",
       "    .dataframe thead th {\n",
       "        text-align: right;\n",
       "    }\n",
       "</style>\n",
       "<table border=\"1\" class=\"dataframe\">\n",
       "  <thead>\n",
       "    <tr style=\"text-align: right;\">\n",
       "      <th></th>\n",
       "      <th>id</th>\n",
       "      <th>nearc2</th>\n",
       "      <th>educ</th>\n",
       "      <th>age</th>\n",
       "      <th>fatheduc</th>\n",
       "      <th>motheduc</th>\n",
       "      <th>weight</th>\n",
       "      <th>momdad14</th>\n",
       "      <th>sinmom14</th>\n",
       "      <th>step14</th>\n",
       "      <th>...</th>\n",
       "      <th>KWW</th>\n",
       "      <th>IQ</th>\n",
       "      <th>married</th>\n",
       "      <th>libcrd14</th>\n",
       "      <th>exper</th>\n",
       "      <th>lwage</th>\n",
       "      <th>expersq</th>\n",
       "      <th>u_lwage</th>\n",
       "      <th>lwage_hat</th>\n",
       "      <th>u_educ</th>\n",
       "    </tr>\n",
       "    <tr>\n",
       "      <th>nearc4</th>\n",
       "      <th></th>\n",
       "      <th></th>\n",
       "      <th></th>\n",
       "      <th></th>\n",
       "      <th></th>\n",
       "      <th></th>\n",
       "      <th></th>\n",
       "      <th></th>\n",
       "      <th></th>\n",
       "      <th></th>\n",
       "      <th></th>\n",
       "      <th></th>\n",
       "      <th></th>\n",
       "      <th></th>\n",
       "      <th></th>\n",
       "      <th></th>\n",
       "      <th></th>\n",
       "      <th></th>\n",
       "      <th></th>\n",
       "      <th></th>\n",
       "      <th></th>\n",
       "    </tr>\n",
       "  </thead>\n",
       "  <tbody>\n",
       "    <tr>\n",
       "      <th>0.0</th>\n",
       "      <td>3489.990479</td>\n",
       "      <td>0.354232</td>\n",
       "      <td>12.698014</td>\n",
       "      <td>27.927900</td>\n",
       "      <td>9.221606</td>\n",
       "      <td>9.939687</td>\n",
       "      <td>297838.62500</td>\n",
       "      <td>0.788924</td>\n",
       "      <td>0.095089</td>\n",
       "      <td>0.040752</td>\n",
       "      <td>...</td>\n",
       "      <td>31.515345</td>\n",
       "      <td>100.610649</td>\n",
       "      <td>2.222689</td>\n",
       "      <td>0.549634</td>\n",
       "      <td>9.229885</td>\n",
       "      <td>6.155494</td>\n",
       "      <td>103.509926</td>\n",
       "      <td>-0.021442</td>\n",
       "      <td>6.176936</td>\n",
       "      <td>-0.163051</td>\n",
       "    </tr>\n",
       "    <tr>\n",
       "      <th>1.0</th>\n",
       "      <td>2158.374512</td>\n",
       "      <td>0.481247</td>\n",
       "      <td>13.527034</td>\n",
       "      <td>28.208963</td>\n",
       "      <td>10.356696</td>\n",
       "      <td>10.533370</td>\n",
       "      <td>332068.21875</td>\n",
       "      <td>0.789576</td>\n",
       "      <td>0.103264</td>\n",
       "      <td>0.037993</td>\n",
       "      <td>...</td>\n",
       "      <td>34.489098</td>\n",
       "      <td>103.206848</td>\n",
       "      <td>2.294003</td>\n",
       "      <td>0.732843</td>\n",
       "      <td>8.681929</td>\n",
       "      <td>6.311401</td>\n",
       "      <td>91.882126</td>\n",
       "      <td>0.009995</td>\n",
       "      <td>6.301406</td>\n",
       "      <td>0.076006</td>\n",
       "    </tr>\n",
       "  </tbody>\n",
       "</table>\n",
       "<p>2 rows × 36 columns</p>\n",
       "</div>"
      ],
      "text/plain": [
       "                 id    nearc2       educ        age   fatheduc   motheduc  \\\n",
       "nearc4                                                                      \n",
       "0.0     3489.990479  0.354232  12.698014  27.927900   9.221606   9.939687   \n",
       "1.0     2158.374512  0.481247  13.527034  28.208963  10.356696  10.533370   \n",
       "\n",
       "              weight  momdad14  sinmom14    step14  ...        KWW  \\\n",
       "nearc4                                              ...              \n",
       "0.0     297838.62500  0.788924  0.095089  0.040752  ...  31.515345   \n",
       "1.0     332068.21875  0.789576  0.103264  0.037993  ...  34.489098   \n",
       "\n",
       "                IQ   married  libcrd14     exper     lwage     expersq  \\\n",
       "nearc4                                                                   \n",
       "0.0     100.610649  2.222689  0.549634  9.229885  6.155494  103.509926   \n",
       "1.0     103.206848  2.294003  0.732843  8.681929  6.311401   91.882126   \n",
       "\n",
       "         u_lwage  lwage_hat    u_educ  \n",
       "nearc4                                 \n",
       "0.0    -0.021442   6.176936 -0.163051  \n",
       "1.0     0.009995   6.301406  0.076006  \n",
       "\n",
       "[2 rows x 36 columns]"
      ]
     },
     "execution_count": 17,
     "metadata": {},
     "output_type": "execute_result"
    },
    {
     "data": {
      "image/png": "[encoded data removed]",
      "text/plain": [
       "<Figure size 412x360 with 1 Axes>"
      ]
     },
     "metadata": {
      "needs_background": "light"
     },
     "output_type": "display_data"
    }
   ],
   "source": [
    "sns.displot(card, x=\"educ\", hue=\"nearc4\", kind=\"kde\", fill=True)\n",
    "card.groupby([\"nearc4\"]).mean() #get the nearc4's mean"
   ]
  },
  {
   "cell_type": "markdown",
   "id": "23b5a4f8",
   "metadata": {},
   "source": [
    "En los histogramas se puede ver que cuando nearc4 es igual 1 (o sea que sí existe un college en el county), la cantidad de personas que llegan a más años de educación aumenta a más del doble a partir de los 12 años de educación.\n",
    "\n",
    "Sin embargo, antes de los 10 años de eduación, la variable nearc4 no es tan fuerte respecto a los años de educación de las personas, ya que ambos gráficos siguen una tedencia similar antes de 10 años de educación. \n",
    "\n",
    "Asimismo, se puede apreciar que la mayoría de las personas llegan a los 12 años de educación, en donde tenemos un pico para nearc4 igual a 0 o igual a 1.\n",
    "\n",
    "Asimismo, el área del gráfico naranja (que representa a nearc4==0), es mucho mayor, por lo que la cantidad de personas con dicha condición y que poseen más años de educación es mucho mayor. \n",
    "\n",
    "Asimismo, evidenciamos dos picos, donde con condiciones de nearc=4 y nearc=1, se alcanza la mayor densidad de personas con 12 años de educacuón, pero también en 16 años, donde se presenta otro pico de alta densidad. "
   ]
  },
  {
   "cell_type": "markdown",
   "id": "c9a36b13",
   "metadata": {},
   "source": [
    "- Grafique dos histogramas para la variable años del logaritmos de los ingresos lwage para cuando nearc4 == 1, y cuando nearc4 == 0. Compare y describa los patrones que encuentra."
   ]
  },
  {
   "cell_type": "markdown",
   "id": "f692f43f",
   "metadata": {},
   "source": [
    "Primer gráfico de histogramas:"
   ]
  },
  {
   "cell_type": "code",
   "execution_count": 20,
   "id": "6c1a49a0",
   "metadata": {},
   "outputs": [
    {
     "data": {
      "text/plain": [
       "<seaborn.axisgrid.FacetGrid at 0x18ec4a99fd0>"
      ]
     },
     "execution_count": 20,
     "metadata": {},
     "output_type": "execute_result"
    },
    {
     "data": {
      "image/png": "[encoded data removed]",
      "text/plain": [
       "<Figure size 720x360 with 2 Axes>"
      ]
     },
     "metadata": {
      "needs_background": "light"
     },
     "output_type": "display_data"
    }
   ],
   "source": [
    "sns.displot(card, x=\"lwage\", col=\"nearc4\")"
   ]
  },
  {
   "cell_type": "markdown",
   "id": "5ba6d3cb",
   "metadata": {},
   "source": [
    "Segundo gráfico de Histogramas para hacer la comparación: "
   ]
  },
  {
   "cell_type": "code",
   "execution_count": 21,
   "id": "67ffa7ac",
   "metadata": {},
   "outputs": [
    {
     "data": {
      "text/html": [
       "<div>\n",
       "<style scoped>\n",
       "    .dataframe tbody tr th:only-of-type {\n",
       "        vertical-align: middle;\n",
       "    }\n",
       "\n",
       "    .dataframe tbody tr th {\n",
       "        vertical-align: top;\n",
       "    }\n",
       "\n",
       "    .dataframe thead th {\n",
       "        text-align: right;\n",
       "    }\n",
       "</style>\n",
       "<table border=\"1\" class=\"dataframe\">\n",
       "  <thead>\n",
       "    <tr style=\"text-align: right;\">\n",
       "      <th></th>\n",
       "      <th>id</th>\n",
       "      <th>nearc2</th>\n",
       "      <th>educ</th>\n",
       "      <th>age</th>\n",
       "      <th>fatheduc</th>\n",
       "      <th>motheduc</th>\n",
       "      <th>weight</th>\n",
       "      <th>momdad14</th>\n",
       "      <th>sinmom14</th>\n",
       "      <th>step14</th>\n",
       "      <th>...</th>\n",
       "      <th>KWW</th>\n",
       "      <th>IQ</th>\n",
       "      <th>married</th>\n",
       "      <th>libcrd14</th>\n",
       "      <th>exper</th>\n",
       "      <th>lwage</th>\n",
       "      <th>expersq</th>\n",
       "      <th>u_lwage</th>\n",
       "      <th>lwage_hat</th>\n",
       "      <th>u_educ</th>\n",
       "    </tr>\n",
       "    <tr>\n",
       "      <th>nearc4</th>\n",
       "      <th></th>\n",
       "      <th></th>\n",
       "      <th></th>\n",
       "      <th></th>\n",
       "      <th></th>\n",
       "      <th></th>\n",
       "      <th></th>\n",
       "      <th></th>\n",
       "      <th></th>\n",
       "      <th></th>\n",
       "      <th></th>\n",
       "      <th></th>\n",
       "      <th></th>\n",
       "      <th></th>\n",
       "      <th></th>\n",
       "      <th></th>\n",
       "      <th></th>\n",
       "      <th></th>\n",
       "      <th></th>\n",
       "      <th></th>\n",
       "      <th></th>\n",
       "    </tr>\n",
       "  </thead>\n",
       "  <tbody>\n",
       "    <tr>\n",
       "      <th>0.0</th>\n",
       "      <td>3489.990479</td>\n",
       "      <td>0.354232</td>\n",
       "      <td>12.698014</td>\n",
       "      <td>27.927900</td>\n",
       "      <td>9.221606</td>\n",
       "      <td>9.939687</td>\n",
       "      <td>297838.62500</td>\n",
       "      <td>0.788924</td>\n",
       "      <td>0.095089</td>\n",
       "      <td>0.040752</td>\n",
       "      <td>...</td>\n",
       "      <td>31.515345</td>\n",
       "      <td>100.610649</td>\n",
       "      <td>2.222689</td>\n",
       "      <td>0.549634</td>\n",
       "      <td>9.229885</td>\n",
       "      <td>6.155494</td>\n",
       "      <td>103.509926</td>\n",
       "      <td>-0.021442</td>\n",
       "      <td>6.176936</td>\n",
       "      <td>-0.163051</td>\n",
       "    </tr>\n",
       "    <tr>\n",
       "      <th>1.0</th>\n",
       "      <td>2158.374512</td>\n",
       "      <td>0.481247</td>\n",
       "      <td>13.527034</td>\n",
       "      <td>28.208963</td>\n",
       "      <td>10.356696</td>\n",
       "      <td>10.533370</td>\n",
       "      <td>332068.21875</td>\n",
       "      <td>0.789576</td>\n",
       "      <td>0.103264</td>\n",
       "      <td>0.037993</td>\n",
       "      <td>...</td>\n",
       "      <td>34.489098</td>\n",
       "      <td>103.206848</td>\n",
       "      <td>2.294003</td>\n",
       "      <td>0.732843</td>\n",
       "      <td>8.681929</td>\n",
       "      <td>6.311401</td>\n",
       "      <td>91.882126</td>\n",
       "      <td>0.009995</td>\n",
       "      <td>6.301406</td>\n",
       "      <td>0.076006</td>\n",
       "    </tr>\n",
       "  </tbody>\n",
       "</table>\n",
       "<p>2 rows × 36 columns</p>\n",
       "</div>"
      ],
      "text/plain": [
       "                 id    nearc2       educ        age   fatheduc   motheduc  \\\n",
       "nearc4                                                                      \n",
       "0.0     3489.990479  0.354232  12.698014  27.927900   9.221606   9.939687   \n",
       "1.0     2158.374512  0.481247  13.527034  28.208963  10.356696  10.533370   \n",
       "\n",
       "              weight  momdad14  sinmom14    step14  ...        KWW  \\\n",
       "nearc4                                              ...              \n",
       "0.0     297838.62500  0.788924  0.095089  0.040752  ...  31.515345   \n",
       "1.0     332068.21875  0.789576  0.103264  0.037993  ...  34.489098   \n",
       "\n",
       "                IQ   married  libcrd14     exper     lwage     expersq  \\\n",
       "nearc4                                                                   \n",
       "0.0     100.610649  2.222689  0.549634  9.229885  6.155494  103.509926   \n",
       "1.0     103.206848  2.294003  0.732843  8.681929  6.311401   91.882126   \n",
       "\n",
       "         u_lwage  lwage_hat    u_educ  \n",
       "nearc4                                 \n",
       "0.0    -0.021442   6.176936 -0.163051  \n",
       "1.0     0.009995   6.301406  0.076006  \n",
       "\n",
       "[2 rows x 36 columns]"
      ]
     },
     "execution_count": 21,
     "metadata": {},
     "output_type": "execute_result"
    },
    {
     "data": {
      "image/png": "[encoded data removed]",
      "text/plain": [
       "<Figure size 412x360 with 1 Axes>"
      ]
     },
     "metadata": {
      "needs_background": "light"
     },
     "output_type": "display_data"
    }
   ],
   "source": [
    "sns.displot(card, x=\"lwage\", hue=\"nearc4\", kind=\"kde\", fill=True)\n",
    "card.groupby([\"nearc4\"]).mean() #get the nearc4's mean"
   ]
  },
  {
   "cell_type": "markdown",
   "id": "bbd12be4",
   "metadata": {},
   "source": [
    "En los histogramas se puede ver que cuando nearc4 es igual a 1 ((o sea que sí existe un college en el county)), la cantidad de personas que tienen un salario alto es más del doble, respecto a cuando nearc4 es igual a 0\n",
    "\n",
    "Además, la población con condición nearc4=1, poseen una población mayor al tener una área mayor. Es decir, el área naranja es mucho más grande que el área azul (con nearc4=0). \n",
    "\n",
    "\n",
    "Asimismo, se puede ver una distribución más simétroca a las personas con nearc4 igual a 0.\n",
    "\n",
    "por otro lado, cuando nearc4 es igual a 1, la distribución de la cantidad de personas es más dispareja, hay una mayor concentración en la mitad de la tabla (hasta antes que el logaritmo sea menor a 6.5). \n"
   ]
  },
  {
   "cell_type": "markdown",
   "id": "ba142021",
   "metadata": {},
   "source": [
    "**Regresiones**"
   ]
  },
  {
   "cell_type": "markdown",
   "id": "0677e0b6",
   "metadata": {},
   "source": [
    "3. Ahora van a replicar las regresiones que hicimos en clase pero el instrumento Z ya no será ***nearc4*** sino ***nearc2*** ."
   ]
  },
  {
   "cell_type": "markdown",
   "id": "b73f5bf9",
   "metadata": {},
   "source": [
    "- Corran una regresion lineal del tipo \"lwage ~ educ + exper + black + south + married + smsa\", y expliquen los resultados que encuentran."
   ]
  },
  {
   "cell_type": "code",
   "execution_count": 44,
   "id": "3e3e85b0",
   "metadata": {},
   "outputs": [
    {
     "data": {
      "text/html": [
       "<table class=\"simpletable\">\n",
       "<caption>OLS Regression Results</caption>\n",
       "<tr>\n",
       "  <th>Dep. Variable:</th>          <td>lwage</td>      <th>  R-squared:         </th> <td>   0.305</td> \n",
       "</tr>\n",
       "<tr>\n",
       "  <th>Model:</th>                   <td>OLS</td>       <th>  Adj. R-squared:    </th> <td>   0.303</td> \n",
       "</tr>\n",
       "<tr>\n",
       "  <th>Method:</th>             <td>Least Squares</td>  <th>  F-statistic:       </th> <td>   219.1</td> \n",
       "</tr>\n",
       "<tr>\n",
       "  <th>Date:</th>             <td>Sun, 13 Nov 2022</td> <th>  Prob (F-statistic):</th> <td>1.69e-232</td>\n",
       "</tr>\n",
       "<tr>\n",
       "  <th>Time:</th>                 <td>15:03:42</td>     <th>  Log-Likelihood:    </th> <td> -1278.7</td> \n",
       "</tr>\n",
       "<tr>\n",
       "  <th>No. Observations:</th>      <td>  3010</td>      <th>  AIC:               </th> <td>   2571.</td> \n",
       "</tr>\n",
       "<tr>\n",
       "  <th>Df Residuals:</th>          <td>  3003</td>      <th>  BIC:               </th> <td>   2613.</td> \n",
       "</tr>\n",
       "<tr>\n",
       "  <th>Df Model:</th>              <td>     6</td>      <th>                     </th>     <td> </td>    \n",
       "</tr>\n",
       "<tr>\n",
       "  <th>Covariance Type:</th>      <td>nonrobust</td>    <th>                     </th>     <td> </td>    \n",
       "</tr>\n",
       "</table>\n",
       "<table class=\"simpletable\">\n",
       "<tr>\n",
       "      <td></td>         <th>coef</th>     <th>std err</th>      <th>t</th>      <th>P>|t|</th>  <th>[0.025</th>    <th>0.975]</th>  \n",
       "</tr>\n",
       "<tr>\n",
       "  <th>Intercept</th> <td>    5.0642</td> <td>    0.064</td> <td>   79.594</td> <td> 0.000</td> <td>    4.939</td> <td>    5.189</td>\n",
       "</tr>\n",
       "<tr>\n",
       "  <th>educ</th>      <td>    0.0711</td> <td>    0.003</td> <td>   20.439</td> <td> 0.000</td> <td>    0.064</td> <td>    0.078</td>\n",
       "</tr>\n",
       "<tr>\n",
       "  <th>exper</th>     <td>    0.0342</td> <td>    0.002</td> <td>   15.459</td> <td> 0.000</td> <td>    0.030</td> <td>    0.039</td>\n",
       "</tr>\n",
       "<tr>\n",
       "  <th>black</th>     <td>   -0.1654</td> <td>    0.018</td> <td>   -9.408</td> <td> 0.000</td> <td>   -0.200</td> <td>   -0.131</td>\n",
       "</tr>\n",
       "<tr>\n",
       "  <th>south</th>     <td>   -0.1325</td> <td>    0.015</td> <td>   -8.855</td> <td> 0.000</td> <td>   -0.162</td> <td>   -0.103</td>\n",
       "</tr>\n",
       "<tr>\n",
       "  <th>married</th>   <td>   -0.0358</td> <td>    0.003</td> <td>  -10.542</td> <td> 0.000</td> <td>   -0.042</td> <td>   -0.029</td>\n",
       "</tr>\n",
       "<tr>\n",
       "  <th>smsa</th>      <td>    0.1751</td> <td>    0.015</td> <td>   11.338</td> <td> 0.000</td> <td>    0.145</td> <td>    0.205</td>\n",
       "</tr>\n",
       "</table>\n",
       "<table class=\"simpletable\">\n",
       "<tr>\n",
       "  <th>Omnibus:</th>       <td>52.534</td> <th>  Durbin-Watson:     </th> <td>   1.853</td>\n",
       "</tr>\n",
       "<tr>\n",
       "  <th>Prob(Omnibus):</th> <td> 0.000</td> <th>  Jarque-Bera (JB):  </th> <td>  68.142</td>\n",
       "</tr>\n",
       "<tr>\n",
       "  <th>Skew:</th>          <td>-0.231</td> <th>  Prob(JB):          </th> <td>1.60e-15</td>\n",
       "</tr>\n",
       "<tr>\n",
       "  <th>Kurtosis:</th>      <td> 3.575</td> <th>  Cond. No.          </th> <td>    154.</td>\n",
       "</tr>\n",
       "</table><br/><br/>Notes:<br/>[1] Standard Errors assume that the covariance matrix of the errors is correctly specified."
      ],
      "text/plain": [
       "<class 'statsmodels.iolib.summary.Summary'>\n",
       "\"\"\"\n",
       "                            OLS Regression Results                            \n",
       "==============================================================================\n",
       "Dep. Variable:                  lwage   R-squared:                       0.305\n",
       "Model:                            OLS   Adj. R-squared:                  0.303\n",
       "Method:                 Least Squares   F-statistic:                     219.1\n",
       "Date:                Sun, 13 Nov 2022   Prob (F-statistic):          1.69e-232\n",
       "Time:                        15:03:42   Log-Likelihood:                -1278.7\n",
       "No. Observations:                3010   AIC:                             2571.\n",
       "Df Residuals:                    3003   BIC:                             2613.\n",
       "Df Model:                           6                                         \n",
       "Covariance Type:            nonrobust                                         \n",
       "==============================================================================\n",
       "                 coef    std err          t      P>|t|      [0.025      0.975]\n",
       "------------------------------------------------------------------------------\n",
       "Intercept      5.0642      0.064     79.594      0.000       4.939       5.189\n",
       "educ           0.0711      0.003     20.439      0.000       0.064       0.078\n",
       "exper          0.0342      0.002     15.459      0.000       0.030       0.039\n",
       "black         -0.1654      0.018     -9.408      0.000      -0.200      -0.131\n",
       "south         -0.1325      0.015     -8.855      0.000      -0.162      -0.103\n",
       "married       -0.0358      0.003    -10.542      0.000      -0.042      -0.029\n",
       "smsa           0.1751      0.015     11.338      0.000       0.145       0.205\n",
       "==============================================================================\n",
       "Omnibus:                       52.534   Durbin-Watson:                   1.853\n",
       "Prob(Omnibus):                  0.000   Jarque-Bera (JB):               68.142\n",
       "Skew:                          -0.231   Prob(JB):                     1.60e-15\n",
       "Kurtosis:                       3.575   Cond. No.                         154.\n",
       "==============================================================================\n",
       "\n",
       "Notes:\n",
       "[1] Standard Errors assume that the covariance matrix of the errors is correctly specified.\n",
       "\"\"\""
      ]
     },
     "execution_count": 44,
     "metadata": {},
     "output_type": "execute_result"
    }
   ],
   "source": [
    "#OLS\n",
    "ols_reg = sm.OLS.from_formula(\"lwage ~ educ + exper + black + south + married + smsa\", \n",
    "              data = card).fit()\n",
    "\n",
    "ols_reg.summary()"
   ]
  },
  {
   "cell_type": "code",
   "execution_count": 52,
   "id": "e6a43cc8",
   "metadata": {},
   "outputs": [
    {
     "name": "stdout",
     "output_type": "stream",
     "text": [
      "Coeficientes de la regresión lineal\n",
      "Intercept    5.064222\n",
      "educ         0.071124\n",
      "exper        0.034176\n",
      "black       -0.165436\n",
      "south       -0.132467\n",
      "married     -0.035803\n",
      "smsa         0.175092\n",
      "dtype: float64\n"
     ]
    }
   ],
   "source": [
    "# Coeficientes de la regresión lineal\n",
    "print(\"Coeficientes de la regresión lineal\")\n",
    "print(ols_reg.params)"
   ]
  },
  {
   "cell_type": "code",
   "execution_count": 45,
   "id": "98f1a088",
   "metadata": {},
   "outputs": [],
   "source": [
    "# There are null values in the dataset, we will fill them with 0\n",
    "card['married'] = card['married'].fillna(0)"
   ]
  },
  {
   "cell_type": "code",
   "execution_count": 46,
   "id": "c85b335c",
   "metadata": {},
   "outputs": [
    {
     "data": {
      "text/plain": [
       "<AxesSubplot:xlabel='nearc2', ylabel='Count'>"
      ]
     },
     "execution_count": 46,
     "metadata": {},
     "output_type": "execute_result"
    },
    {
     "data": {
      "image/png": "[encoded data removed]",
      "text/plain": [
       "<Figure size 432x288 with 1 Axes>"
      ]
     },
     "metadata": {
      "needs_background": "light"
     },
     "output_type": "display_data"
    }
   ],
   "source": [
    "sns.histplot(data=card, x=\"nearc2\")"
   ]
  },
  {
   "cell_type": "markdown",
   "id": "da7aac0f",
   "metadata": {},
   "source": [
    "- Corran una regresion de tipo IV(usando el paquete IV2SLS) donde van a instrumentalizar la variable educ con ***nearc2*** .\n",
    "La regressión debería tener una forma de este tipo **\"lwage ~ 1 + exper + black + south + married + smsa + [educ ~ nearc4 ]\"**.\n",
    "Compare los resultados encontrados en la regresión de arriba. Cambió el coeficiente relacionado a ***educ*** , por qué?"
   ]
  },
  {
   "cell_type": "code",
   "execution_count": 47,
   "id": "576b6e17",
   "metadata": {},
   "outputs": [
    {
     "data": {
      "text/html": [
       "<table class=\"simpletable\">\n",
       "<caption>IV-2SLS Estimation Summary</caption>\n",
       "<tr>\n",
       "  <th>Dep. Variable:</th>          <td>lwage</td>      <th>  R-squared:         </th> <td>-1.3114</td>\n",
       "</tr>\n",
       "<tr>\n",
       "  <th>Estimator:</th>             <td>IV-2SLS</td>     <th>  Adj. R-squared:    </th> <td>-1.3160</td>\n",
       "</tr>\n",
       "<tr>\n",
       "  <th>No. Observations:</th>       <td>3010</td>       <th>  F-statistic:       </th> <td>289.62</td> \n",
       "</tr>\n",
       "<tr>\n",
       "  <th>Date:</th>             <td>Sun, Nov 13 2022</td> <th>  P-value (F-stat)   </th> <td>0.0000</td> \n",
       "</tr>\n",
       "<tr>\n",
       "  <th>Time:</th>                 <td>15:03:43</td>     <th>  Distribution:      </th> <td>chi2(6)</td>\n",
       "</tr>\n",
       "<tr>\n",
       "  <th>Cov. Estimator:</th>        <td>robust</td>      <th>                     </th>    <td></td>    \n",
       "</tr>\n",
       "<tr>\n",
       "  <th></th>                          <td></td>         <th>                     </th>    <td></td>    \n",
       "</tr>\n",
       "</table>\n",
       "<table class=\"simpletable\">\n",
       "<caption>Parameter Estimates</caption>\n",
       "<tr>\n",
       "      <td></td>      <th>Parameter</th> <th>Std. Err.</th> <th>T-stat</th>  <th>P-value</th> <th>Lower CI</th> <th>Upper CI</th>\n",
       "</tr>\n",
       "<tr>\n",
       "  <th>Intercept</th>  <td>0.1276</td>    <td>3.1412</td>   <td>0.0406</td>  <td>0.9676</td>   <td>-6.0290</td>  <td>6.2843</td> \n",
       "</tr>\n",
       "<tr>\n",
       "  <th>black</th>      <td>0.1134</td>    <td>0.1816</td>   <td>0.6244</td>  <td>0.5324</td>   <td>-0.2425</td>  <td>0.4692</td> \n",
       "</tr>\n",
       "<tr>\n",
       "  <th>exper</th>      <td>0.1515</td>    <td>0.0747</td>   <td>2.0274</td>  <td>0.0426</td>   <td>0.0050</td>   <td>0.2980</td> \n",
       "</tr>\n",
       "<tr>\n",
       "  <th>married</th>    <td>-0.0151</td>   <td>0.0147</td>   <td>-1.0258</td> <td>0.3050</td>   <td>-0.0438</td>  <td>0.0137</td> \n",
       "</tr>\n",
       "<tr>\n",
       "  <th>smsa</th>       <td>0.0201</td>    <td>0.1030</td>   <td>0.1949</td>  <td>0.8455</td>   <td>-0.1819</td>  <td>0.2220</td> \n",
       "</tr>\n",
       "<tr>\n",
       "  <th>south</th>      <td>-0.0319</td>   <td>0.0692</td>   <td>-0.4603</td> <td>0.6453</td>   <td>-0.1675</td>  <td>0.1038</td> \n",
       "</tr>\n",
       "<tr>\n",
       "  <th>educ</th>       <td>0.3618</td>    <td>0.1849</td>   <td>1.9562</td>  <td>0.0504</td>   <td>-0.0007</td>  <td>0.7243</td> \n",
       "</tr>\n",
       "</table><br/><br/>Endogenous: educ<br/>Instruments: nearc2<br/>Robust Covariance (Heteroskedastic)<br/>Debiased: False"
      ],
      "text/plain": [
       "<class 'linearmodels.compat.statsmodels.Summary'>\n",
       "\"\"\"\n",
       "                          IV-2SLS Estimation Summary                          \n",
       "==============================================================================\n",
       "Dep. Variable:                  lwage   R-squared:                     -1.3114\n",
       "Estimator:                    IV-2SLS   Adj. R-squared:                -1.3160\n",
       "No. Observations:                3010   F-statistic:                    289.62\n",
       "Date:                Sun, Nov 13 2022   P-value (F-stat)                0.0000\n",
       "Time:                        15:03:43   Distribution:                  chi2(6)\n",
       "Cov. Estimator:                robust                                         \n",
       "                                                                              \n",
       "                             Parameter Estimates                              \n",
       "==============================================================================\n",
       "            Parameter  Std. Err.     T-stat    P-value    Lower CI    Upper CI\n",
       "------------------------------------------------------------------------------\n",
       "Intercept      0.1276     3.1412     0.0406     0.9676     -6.0290      6.2843\n",
       "black          0.1134     0.1816     0.6244     0.5324     -0.2425      0.4692\n",
       "exper          0.1515     0.0747     2.0274     0.0426      0.0050      0.2980\n",
       "married       -0.0151     0.0147    -1.0258     0.3050     -0.0438      0.0137\n",
       "smsa           0.0201     0.1030     0.1949     0.8455     -0.1819      0.2220\n",
       "south         -0.0319     0.0692    -0.4603     0.6453     -0.1675      0.1038\n",
       "educ           0.3618     0.1849     1.9562     0.0504     -0.0007      0.7243\n",
       "==============================================================================\n",
       "\n",
       "Endogenous: educ\n",
       "Instruments: nearc2\n",
       "Robust Covariance (Heteroskedastic)\n",
       "Debiased: False\n",
       "\"\"\""
      ]
     },
     "execution_count": 47,
     "metadata": {},
     "output_type": "execute_result"
    }
   ],
   "source": [
    "#2SLS\n",
    "iv_reg = IV2SLS.from_formula(\"lwage ~  1 + exper + black + south + married + smsa + [educ ~ nearc2 ]\", card).fit()\n",
    "iv_reg.summary"
   ]
  },
  {
   "cell_type": "code",
   "execution_count": 53,
   "id": "9aab25ff",
   "metadata": {},
   "outputs": [
    {
     "name": "stdout",
     "output_type": "stream",
     "text": [
      "Coeficientes de la regresión de tipo IV\n",
      "Intercept    0.127624\n",
      "black        0.113361\n",
      "exper        0.151502\n",
      "married     -0.015058\n",
      "smsa         0.020083\n",
      "south       -0.031859\n",
      "educ         0.361797\n",
      "Name: parameter, dtype: float64\n"
     ]
    }
   ],
   "source": [
    "# Coeficientes de la regresión de tipo IV\n",
    "print(\"Coeficientes de la regresión de tipo IV\")\n",
    "print(iv_reg.params)"
   ]
  },
  {
   "cell_type": "markdown",
   "id": "1fe3a218",
   "metadata": {},
   "source": [
    "***Conclusión***:\n",
    "\n",
    "- En primer lugar, se presentan los resultados de la prueba OLS. Por cada año adicional de escolarización, los ingresos de los encuestados aumentan aproximadamente un 7,1%. \n",
    "\n",
    " **Luego de instrumentalizar la variable \"educ\", se corre una regresion de tipo IV(usando el paquete IV2SLS):***\n",
    "\n",
    "- A continuación, estimamos los 2SLS. Aquí encontramos un rendimiento de la escolarización mucho mayor que el que habíamos encontrado utilizando OLS. El estadístico F es superior a 15, lo que sugiere que no tenemos un problema de instrumento débil. El rendimiento de la escolarización asociado a esta estimación 2SLS es de 0,361, es decir, por cada año adicional de escolarización, los ingresos aumentan un 36,1%.\n",
    "\n",
    "- Finalmente, el cambio del coeficiente se debe a la instrumentalización de la variable $educ$\n",
    "- Asimismo, se enumeran otras covariables en casos sea necesario estudiarlas también.\n"
   ]
  },
  {
   "cell_type": "code",
   "execution_count": null,
   "id": "7bbc067f",
   "metadata": {},
   "outputs": [],
   "source": []
  }
 ],
 "metadata": {
  "kernelspec": {
   "display_name": "Python 3 (ipykernel)",
   "language": "python",
   "name": "python3"
  },
  "language_info": {
   "codemirror_mode": {
    "name": "ipython",
    "version": 3
   },
   "file_extension": ".py",
   "mimetype": "text/x-python",
   "name": "python",
   "nbconvert_exporter": "python",
   "pygments_lexer": "ipython3",
   "version": "3.9.12"
  }
 },
 "nbformat": 4,
 "nbformat_minor": 5
}
