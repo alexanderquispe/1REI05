{
 "cells": [
  {
   "cell_type": "markdown",
   "id": "b3f04bc0",
   "metadata": {},
   "source": [
    "# REPORTE 8"
   ]
  },
  {
   "cell_type": "markdown",
   "id": "64c33274",
   "metadata": {},
   "source": [
    "### Estudiante: Greysi Arrelucea Castañeda "
   ]
  },
  {
   "cell_type": "markdown",
   "id": "913f14df",
   "metadata": {},
   "source": [
    "## Lectura"
   ]
  },
  {
   "cell_type": "markdown",
   "id": "c4136367",
   "metadata": {},
   "source": [
    "En el presente artículo, se analizan los impactos a largo plazo de la mita minera colonial en el desarrollo económico de ciertas regiones del Perú. La mita fue un sistema de trabajo forzado establecido durante el periodo colonial que obligó a más de doscientas comunidades indígenas a enviar parte de su población masculina adulta a trabajar en las minas de plata de Potosí y en las de mercurio de Huancavelica. A pesar de haber sido abolida en 1812, la investigación demuestra que la mita ha tenido una importante influencia en el desarrollo económico contemporáneo de los distritos que fueron sometidos a ella. En este sentido, se plantea la siguiente pregunta de investigación: ¿Cuáles son los impactos a largo plazo de la mita minera sobre el desarrollo económico contemporáneo de los distritos peruanos que estuvieron sometidos a ella? Para responder esta interrogante, el estudio identifica tres canales principales de persistencia mediante los que la mita ha influido en el desarrollo económico contemporáneo: la tenencia de la tierra, los bienes públicos y la participación en el mercado.\n",
    "\n",
    "La investigación utiliza un enfoque de regresión discontinua (RD) para evaluar los efectos a largo plazo de la mita. Se selecciona este enfoque debido a que la población enviada a trabajar en las minas variaba en función de la región: aquellas dentro del límite de las minas enviaban gran cantidad de personas, mientras que las comunidades fuera del límite estaban eximidas de esta obligación. De este modo, la regresión discontinua se realiza con el límite entre la región sometida a la mita y la no sometida, para formar una discontinuidad multidimensional en el espacio longitud-latitud. Para que el diseño RD tenga validez, la autora resalta que todos los factores deben variar moderadamente en el límite de la mita, por lo que decidió centrar la investigación en la zona que transecta la cordillera de los Andes en el sur del Perú. Una fortaleza de ello es que constituye una innovación frente a los umbrales unidimensionales tradicionalmente analizados en las regresiones discontinuas, permitiendo el tratamiento de la mita como una función determinada y discontinua de las covariables longitud y latitud. Además, otra ventaja es la posibilidad de la elaboración de gráficos de dispersión tridimensionales por cada uno de los distritos analizados, logrando una mejor visualización y comprensión de las regiones geográficas que fueron impactadas por la mita minera. Por otro lado, este enfoque tiene una limitación marcada por la naturaleza de los datos de los que se dispone. Para la realización de una regresión discontinua no paramétrica se requiere de una georreferenciación muy precisa, como por ejemplo las coordenadas o dirección de longitud-latitud de cada una de las observaciones. Sin embargo, ninguno de los conjuntos de datos peruanos disponibles cuenta con esta información, además que algunos de ellos no cuentan con tamaños muestrales lo suficientemente grandes como para emplear técnicas no paramétricas. A pesar de ello, se debe destacar que el estudio aborda esta limitación proponiendo un enfoque RD semiparamétrico que reduce la muestra a los distritos ubicados dentro de los 50 km del límite de la mita. De esta manera, logra identificar los efectos causales y los canales de persistencia: se comprobó que las grandes haciendas no se pudieron desarrollar en las zonas sometidas a la mita, lo cual tuvo efectos negativos a largo plazo en tales lugares; asimismo, se encontró evidencia econométrica de que un efecto-mita fue la disminución del nivel educativo y una menor integración a la red de carreteras, y finalmente se identificó la prevalencia de la agricultura de subsistencia en las zonas influenciadas por la mita.\n",
    "\n",
    "Ciertamente, el presente estudio tiene una gran contribución a nivel teórico y práctico. En primer lugar, constituye una importante innovación pues, aunque muchos estudios han defendido el papel de las instituciones históricas –como la mita– para explicar resultados económicos actuales, ninguno se había centrado en los canales de persistencia por los que se desarrollaba tal influencia. Además de esta innovación, el artículo también repiensa la tradicional hipótesis de que la desigualdad histórica en el acceso a la tierra es la causante del escaso crecimiento económico en América Latina, encontrando que, en el caso peruano, hay una relación positiva entre las haciendas históricas y el desarrollo económico contemporáneo. En efecto, se demostró que las haciendas garantizaron bienes públicos y, aunque sin intención, permitieron aislar a los campesinos de las instituciones extractivas del Estado. De este modo, la investigación conforma el punto de partida para repensar una teoría del crecimiento económico a largo plazo en el contexto latinoamericano. Por ende, este documento tiene una contribución ineludible en tanto brinda evidencia microeconómica consistente para respaldar la hipótesis de que las instituciones históricas influyen en la prosperidad económica a largo plazo. En el plano de la práctica, la investigación estudiada contribuye con el diseño de políticas públicas focalizadas, que permitan concentrar una mayor cantidad de ayuda económica y proyectos de modernización en las zonas que históricamente estuvieron influenciadas por la mita, dado que se ha demostrado los problemas específicos y la situación de desventaja general en la que se encuentran con respecto a aquellas que no tuvieron que someterse a esta institución. \n",
    "\n",
    "Finalmente, un primer paso para avanzar en esta pregunta es seguir la recomendación de la autora: se necesitan más modelos generales de evolución institucional basados en investigaciones de carácter empírico que muestren la forma en que pueden cambiar a partir de fuerzas externas. Por otro lado, según Vargas y Gonzáles (2018), un paso importante es la identificación de aquellas características compartidas por las instituciones históricas que influencian en el desarrollo económico actual, permitiendo distinguirlas de otras entidades que no logran tener una mayor repercusión. Por último, tomando en cuenta que la investigación no pudo abordar a detalle el caso de Bolivia, donde también se aplicó la mita, considero que sería muy provechoso profundizar en su influencia en las comunidades bolivianas e, incluso, en otras regiones latinoamericanas que estuvieron bajo esta institución, de modo que se pueda evaluar si efectivamente los impactos de la mita son similares o contrastantes con los encontrados en el Perú.\n",
    "\n",
    "### Bibliografía\n",
    "Vargas, D. y Gonzáles, J. (2018). El efecto de las instituciones en el crecimiento económico de América Latina. Perfiles Latinoamericanos, 26(51), 329-349. Recuperado de: https://www.scielo.org.mx/pdf/perlat/v26n51/0188-7653-perlat-26-51-329.pdf\n"
   ]
  },
  {
   "cell_type": "markdown",
   "id": "8c14e9bc",
   "metadata": {},
   "source": [
    "## Código \n",
    "\n",
    "Greysi Arrelucea 20200279 - Roxana Rodriguez 20200373 "
   ]
  },
  {
   "cell_type": "code",
   "execution_count": 1,
   "id": "4c73f581",
   "metadata": {},
   "outputs": [],
   "source": [
    "from causalgraphicalmodels import CausalGraphicalModel\n",
    "import matplotlib.pyplot as plt\n",
    "import os\n",
    "import numpy as np \n",
    "import pandas as pd \n",
    "import statsmodels.api as sm \n",
    "import statsmodels.formula.api as smf \n",
    "from itertools import combinations \n",
    "import plotnine as p\n",
    "import statsmodels.api as sm\n",
    "import statsmodels.formula.api as smf\n",
    "import linearmodels.iv.model as lm\n",
    "from linearmodels.iv import IV2SLS\n",
    "from statsmodels.iolib.summary2 import summary_col\n",
    "import seaborn as sns"
   ]
  },
  {
   "cell_type": "markdown",
   "id": "aa96a0b0",
   "metadata": {},
   "source": [
    "### 1. Variables instrumentales\n",
    "Para que las variables instrumentales trabajen, se debe satisfacer principalmente 2 supuestos: el suspuesto de relevancia y el de validez del instrumento."
   ]
  },
  {
   "cell_type": "markdown",
   "id": "fb9f4f5b",
   "metadata": {},
   "source": [
    "#### 1.1) Explique en qué consiste el supuesto de \"Relevance\"\n",
    "\n",
    "La relevancia nos permite ver los supuesto de identificación y uso de variables instrumentales de manera más certera, para así saber que 'Z' (instrumento) se relaciona realmente con 'X' ( tratamiento). De modo que, se busca que la variable instrumental Z si funcione y se evite la endogeneidad(D):la variable independiente se correlaciona con el de error en una regresión. La relevancia evalúa la relación entre parte de la variable independiente'X' y la variable instrumental 'Z' y ve cuán fuerte es, es decir, si la variable 'Z' logra explicar en parte o totalmente la variable independiente X. Cuanto más fuerte sea esta relación, más confianza habrá en  el supuesto de relevancia y menos saltará la estimación de una muestra a otra."
   ]
  },
  {
   "cell_type": "markdown",
   "id": "b852bd0e",
   "metadata": {},
   "source": [
    "#### 1.2) Explique en qué consiste el supuesto de \"Validity\"\n",
    "\n",
    "El supuesto de validez implica que cualquier ruta entre el instrumento Z y el resultado Y (variable dependiente) debe pasar con anterioridad por la variable independiente o el tratamiento X o en todo caso cerrarse para que la suposición sea válida. La validez es también llamada una restricción de exclusión porque supone que el instrumento Z puede ser excluido razonablemente del modelo de Y luego de que la ruta  Z → X sea incluida. \n",
    "Por ejemplo, para que el supuesto de validez se cumpla para la variable instrumental Z, se necesita cerrar tanto la ruta Z ← B →Y como la ruta Z → A → Y. Entonces, si se puede controlar las variables A y B , entonces el supuesto se cumple."
   ]
  },
  {
   "cell_type": "markdown",
   "id": "3f4cd326",
   "metadata": {},
   "source": [
    "### 2. Ploteo de Histogramas"
   ]
  },
  {
   "cell_type": "markdown",
   "id": "40197f2c",
   "metadata": {},
   "source": [
    "#### 2.1) Grafique dos histogramas para la variable años de educación \"educ\" para cuando nearc4 == 1, y cuando nearc4 == 0. Compare y describa los patrones que encuentra."
   ]
  },
  {
   "cell_type": "code",
   "execution_count": 2,
   "id": "117e6c56",
   "metadata": {},
   "outputs": [
    {
     "data": {
      "text/html": [
       "<div>\n",
       "<style scoped>\n",
       "    .dataframe tbody tr th:only-of-type {\n",
       "        vertical-align: middle;\n",
       "    }\n",
       "\n",
       "    .dataframe tbody tr th {\n",
       "        vertical-align: top;\n",
       "    }\n",
       "\n",
       "    .dataframe thead th {\n",
       "        text-align: right;\n",
       "    }\n",
       "</style>\n",
       "<table border=\"1\" class=\"dataframe\">\n",
       "  <thead>\n",
       "    <tr style=\"text-align: right;\">\n",
       "      <th></th>\n",
       "      <th>id</th>\n",
       "      <th>nearc2</th>\n",
       "      <th>nearc4</th>\n",
       "      <th>educ</th>\n",
       "      <th>age</th>\n",
       "      <th>fatheduc</th>\n",
       "      <th>motheduc</th>\n",
       "      <th>weight</th>\n",
       "      <th>momdad14</th>\n",
       "      <th>sinmom14</th>\n",
       "      <th>...</th>\n",
       "      <th>KWW</th>\n",
       "      <th>IQ</th>\n",
       "      <th>married</th>\n",
       "      <th>libcrd14</th>\n",
       "      <th>exper</th>\n",
       "      <th>lwage</th>\n",
       "      <th>expersq</th>\n",
       "      <th>u_lwage</th>\n",
       "      <th>lwage_hat</th>\n",
       "      <th>u_educ</th>\n",
       "    </tr>\n",
       "  </thead>\n",
       "  <tbody>\n",
       "    <tr>\n",
       "      <th>0</th>\n",
       "      <td>2.0</td>\n",
       "      <td>0.0</td>\n",
       "      <td>0.0</td>\n",
       "      <td>7.0</td>\n",
       "      <td>29.0</td>\n",
       "      <td>NaN</td>\n",
       "      <td>NaN</td>\n",
       "      <td>158413.0</td>\n",
       "      <td>1.0</td>\n",
       "      <td>0.0</td>\n",
       "      <td>...</td>\n",
       "      <td>15.0</td>\n",
       "      <td>NaN</td>\n",
       "      <td>1.0</td>\n",
       "      <td>0.0</td>\n",
       "      <td>16.0</td>\n",
       "      <td>6.306275</td>\n",
       "      <td>256.0</td>\n",
       "      <td>0.198047</td>\n",
       "      <td>6.108228</td>\n",
       "      <td>-3.067539</td>\n",
       "    </tr>\n",
       "    <tr>\n",
       "      <th>1</th>\n",
       "      <td>3.0</td>\n",
       "      <td>0.0</td>\n",
       "      <td>0.0</td>\n",
       "      <td>12.0</td>\n",
       "      <td>27.0</td>\n",
       "      <td>8.0</td>\n",
       "      <td>8.0</td>\n",
       "      <td>380166.0</td>\n",
       "      <td>1.0</td>\n",
       "      <td>0.0</td>\n",
       "      <td>...</td>\n",
       "      <td>35.0</td>\n",
       "      <td>93.0</td>\n",
       "      <td>1.0</td>\n",
       "      <td>1.0</td>\n",
       "      <td>9.0</td>\n",
       "      <td>6.175867</td>\n",
       "      <td>81.0</td>\n",
       "      <td>-0.211160</td>\n",
       "      <td>6.387027</td>\n",
       "      <td>-1.727562</td>\n",
       "    </tr>\n",
       "    <tr>\n",
       "      <th>2</th>\n",
       "      <td>4.0</td>\n",
       "      <td>0.0</td>\n",
       "      <td>0.0</td>\n",
       "      <td>12.0</td>\n",
       "      <td>34.0</td>\n",
       "      <td>14.0</td>\n",
       "      <td>12.0</td>\n",
       "      <td>367470.0</td>\n",
       "      <td>1.0</td>\n",
       "      <td>0.0</td>\n",
       "      <td>...</td>\n",
       "      <td>42.0</td>\n",
       "      <td>103.0</td>\n",
       "      <td>1.0</td>\n",
       "      <td>1.0</td>\n",
       "      <td>16.0</td>\n",
       "      <td>6.580639</td>\n",
       "      <td>256.0</td>\n",
       "      <td>0.204719</td>\n",
       "      <td>6.375920</td>\n",
       "      <td>1.012975</td>\n",
       "    </tr>\n",
       "    <tr>\n",
       "      <th>3</th>\n",
       "      <td>5.0</td>\n",
       "      <td>1.0</td>\n",
       "      <td>1.0</td>\n",
       "      <td>11.0</td>\n",
       "      <td>27.0</td>\n",
       "      <td>11.0</td>\n",
       "      <td>12.0</td>\n",
       "      <td>380166.0</td>\n",
       "      <td>1.0</td>\n",
       "      <td>0.0</td>\n",
       "      <td>...</td>\n",
       "      <td>25.0</td>\n",
       "      <td>88.0</td>\n",
       "      <td>1.0</td>\n",
       "      <td>1.0</td>\n",
       "      <td>10.0</td>\n",
       "      <td>5.521461</td>\n",
       "      <td>100.0</td>\n",
       "      <td>-0.967905</td>\n",
       "      <td>6.489366</td>\n",
       "      <td>-2.253536</td>\n",
       "    </tr>\n",
       "    <tr>\n",
       "      <th>4</th>\n",
       "      <td>6.0</td>\n",
       "      <td>1.0</td>\n",
       "      <td>1.0</td>\n",
       "      <td>12.0</td>\n",
       "      <td>34.0</td>\n",
       "      <td>8.0</td>\n",
       "      <td>7.0</td>\n",
       "      <td>367470.0</td>\n",
       "      <td>1.0</td>\n",
       "      <td>0.0</td>\n",
       "      <td>...</td>\n",
       "      <td>34.0</td>\n",
       "      <td>108.0</td>\n",
       "      <td>1.0</td>\n",
       "      <td>0.0</td>\n",
       "      <td>16.0</td>\n",
       "      <td>6.591674</td>\n",
       "      <td>256.0</td>\n",
       "      <td>0.125173</td>\n",
       "      <td>6.466501</td>\n",
       "      <td>1.090437</td>\n",
       "    </tr>\n",
       "  </tbody>\n",
       "</table>\n",
       "<p>5 rows × 37 columns</p>\n",
       "</div>"
      ],
      "text/plain": [
       "    id  nearc2  nearc4  educ   age  fatheduc  motheduc    weight  momdad14  \\\n",
       "0  2.0     0.0     0.0   7.0  29.0       NaN       NaN  158413.0       1.0   \n",
       "1  3.0     0.0     0.0  12.0  27.0       8.0       8.0  380166.0       1.0   \n",
       "2  4.0     0.0     0.0  12.0  34.0      14.0      12.0  367470.0       1.0   \n",
       "3  5.0     1.0     1.0  11.0  27.0      11.0      12.0  380166.0       1.0   \n",
       "4  6.0     1.0     1.0  12.0  34.0       8.0       7.0  367470.0       1.0   \n",
       "\n",
       "   sinmom14  ...   KWW     IQ  married  libcrd14  exper     lwage  expersq  \\\n",
       "0       0.0  ...  15.0    NaN      1.0       0.0   16.0  6.306275    256.0   \n",
       "1       0.0  ...  35.0   93.0      1.0       1.0    9.0  6.175867     81.0   \n",
       "2       0.0  ...  42.0  103.0      1.0       1.0   16.0  6.580639    256.0   \n",
       "3       0.0  ...  25.0   88.0      1.0       1.0   10.0  5.521461    100.0   \n",
       "4       0.0  ...  34.0  108.0      1.0       0.0   16.0  6.591674    256.0   \n",
       "\n",
       "    u_lwage  lwage_hat    u_educ  \n",
       "0  0.198047   6.108228 -3.067539  \n",
       "1 -0.211160   6.387027 -1.727562  \n",
       "2  0.204719   6.375920  1.012975  \n",
       "3 -0.967905   6.489366 -2.253536  \n",
       "4  0.125173   6.466501  1.090437  \n",
       "\n",
       "[5 rows x 37 columns]"
      ]
     },
     "execution_count": 2,
     "metadata": {},
     "output_type": "execute_result"
    }
   ],
   "source": [
    "# se carga la data\n",
    "import ssl\n",
    "ssl._create_default_https_context = ssl._create_unverified_context\n",
    "\n",
    "def read_data(file): \n",
    "    return pd.read_stata(\"https://raw.github.com/scunning1975/mixtape/master/\" + file)\n",
    "\n",
    "card = read_data(\"card.dta\")\n",
    "card.head()"
   ]
  },
  {
   "cell_type": "markdown",
   "id": "253e1245",
   "metadata": {},
   "source": [
    "- Histogramas separados de la variable educ (años de eduación) a partir de la variable nearc4(si no existe (0) o existe (1) una universidad de 4 años en el condado)"
   ]
  },
  {
   "cell_type": "code",
   "execution_count": 3,
   "id": "5f2ca85e",
   "metadata": {},
   "outputs": [
    {
     "data": {
      "text/plain": [
       "<seaborn.axisgrid.FacetGrid at 0x7f8049e4d2e0>"
      ]
     },
     "execution_count": 3,
     "metadata": {},
     "output_type": "execute_result"
    },
    {
     "data": {
      "image/png": "[encoded data removed]",
      "text/plain": [
       "<Figure size 720x360 with 2 Axes>"
      ]
     },
     "metadata": {
      "needs_background": "light"
     },
     "output_type": "display_data"
    }
   ],
   "source": [
    "sns.displot(card, x=\"educ\", col=\"nearc4\", color='pink') "
   ]
  },
  {
   "cell_type": "markdown",
   "id": "93598b4f",
   "metadata": {},
   "source": [
    "- Histogramas traslapados"
   ]
  },
  {
   "cell_type": "code",
   "execution_count": 4,
   "id": "0dd75a68",
   "metadata": {},
   "outputs": [
    {
     "data": {
      "text/plain": [
       "Text(8.557222222222222, 0.5, 'Frecuencia')"
      ]
     },
     "execution_count": 4,
     "metadata": {},
     "output_type": "execute_result"
    },
    {
     "data": {
      "image/png": "[encoded data removed]",
      "text/plain": [
       "<Figure size 412x360 with 1 Axes>"
      ]
     },
     "metadata": {
      "needs_background": "light"
     },
     "output_type": "display_data"
    }
   ],
   "source": [
    "sns.displot(card, x=\"educ\", hue=\"nearc4\")  \n",
    "plt.title(\"Histograma de distribución de los años de educación\", fontsize=16)\n",
    "plt.xlabel(\"Años de educación\", fontsize=13)\n",
    "plt.ylabel(\"Frecuencia\", fontsize=13)"
   ]
  },
  {
   "cell_type": "markdown",
   "id": "4e29523a",
   "metadata": {},
   "source": [
    "- Interpretación\n",
    "\n",
    "A partir de los histogramas, por un lado se puede analizar que la la proximidad de una institución de educación superior se correlaciona con el aumento de años de educación. Incluso, se podría decir que la presencia de universidades de 4 años en el condado de la población que conforma la muestra aumenta la posibilidad de asistir a la universidad y obtener estudios superiores. Por otro lado, la ausencia de una institución de educación superior de 4 años cercana al condado no muestra una relación fuerte a comparación con la situación donde estas si están cercanas al condado. \n",
    "\n",
    "En EE.UU, la educación empieza a los 4 años y termina a los 18 años donde se preparan para postular a la universidad, son aproximadamente 13 años de educación inicial, primaria y secundaria hasta antes de empezar educación superior. Se evidencia que cuando hay instituciones de educación superior de 4 años cerca del condado de la muestra, estos tienen mayores probabilidades de alcanzar un mayor nivel de educación y continuar estudios superiores. Mediante la tendencia y distribución podemos decir que este efecto de los centros de educacion superior de 4 años cercanos al condado en las probabilidades de mayor nivel de educación se muestra a partir de los 10 años de educación en adelante. Entre los 7.5 años de educación y los 10 años, se evidencia una neutralidad, pues tanto habiendo universidades de 4 años cercanas como no, el nivel de educación de la muestra es el mismo. Finalmente, los valores atípicos son pocos y se relacionan con pocos años de educación y la no proximidad de universidades con programas 4 años a los hogares."
   ]
  },
  {
   "cell_type": "markdown",
   "id": "2e5fa7d7",
   "metadata": {},
   "source": [
    "#### 2.2) Grafique dos histogramas para la variable años del logaritmos de los ingresos \"lwage\" para cuando nearc4 == 1, y cuando nearc4 == 0. Compare y describa los patrones que encuentra."
   ]
  },
  {
   "cell_type": "markdown",
   "id": "ef7789d3",
   "metadata": {},
   "source": [
    "- Histogramas separados de la variable lwage (logaritmo de los ingresos) a partir de la variable nearc4(si no existe (0) o existe (1) una universidad de 4 años en el condado) "
   ]
  },
  {
   "cell_type": "code",
   "execution_count": 5,
   "id": "f2be7f91",
   "metadata": {},
   "outputs": [
    {
     "data": {
      "text/plain": [
       "<seaborn.axisgrid.FacetGrid at 0x7f804a617760>"
      ]
     },
     "execution_count": 5,
     "metadata": {},
     "output_type": "execute_result"
    },
    {
     "data": {
      "image/png": "[encoded data removed]",
      "text/plain": [
       "<Figure size 720x360 with 2 Axes>"
      ]
     },
     "metadata": {
      "needs_background": "light"
     },
     "output_type": "display_data"
    }
   ],
   "source": [
    "sns.displot(card, x=\"lwage\", col=\"nearc4\", color='pink')"
   ]
  },
  {
   "cell_type": "markdown",
   "id": "28ca7ac1",
   "metadata": {},
   "source": [
    "- Histogramas traslapados"
   ]
  },
  {
   "cell_type": "code",
   "execution_count": 6,
   "id": "39073a2c",
   "metadata": {},
   "outputs": [
    {
     "data": {
      "text/plain": [
       "Text(8.557222222222222, 0.5, 'Frecuencia')"
      ]
     },
     "execution_count": 6,
     "metadata": {},
     "output_type": "execute_result"
    },
    {
     "data": {
      "image/png": "[encoded data removed]",
      "text/plain": [
       "<Figure size 412x360 with 1 Axes>"
      ]
     },
     "metadata": {
      "needs_background": "light"
     },
     "output_type": "display_data"
    }
   ],
   "source": [
    "sns.displot(card, x=\"lwage\", hue=\"nearc4\") \n",
    "plt.title(\"Histograma de distribución en el logaritmo de ingresos\", fontsize=16)\n",
    "plt.xlabel(\"Logaritmo de ingresos\", fontsize=13)\n",
    "plt.ylabel(\"Frecuencia\", fontsize=13)"
   ]
  },
  {
   "cell_type": "markdown",
   "id": "3535615a",
   "metadata": {},
   "source": [
    "- Interpretación:\n",
    "\n",
    "Se puede observar que la cercanía a un centro de estudios superiores con programas de 4 años de estudio tiene alguna relación con el logaritmo de ingresos de la muestra. Se evidencia que hay una distribución normal tanto en los casos cuando hay universidades con programas de 4 años cercanas al condado como cuando no las hay, lo que implica que existe una distribución simétrica de datos. \n",
    "\n",
    "Se muestra que la existencia de universidades con programas de 4 años en las cercanías del condado tiene un impacto visible, significativo y directo en los logaritmos de ingresos de la muestra. Estos se ven mayormente a partir de los 6 años de educación donde se muestra como aumenta los logaritmos de ingresos en el caso de universidades con programas de 4 años en las proximidades del hogar. La presencia de universidades con programas de 4 años en las proximidades del condado tiene un efecto significativo y directo sobre el logaritmo de ingresos."
   ]
  },
  {
   "cell_type": "markdown",
   "id": "ddfdb780",
   "metadata": {},
   "source": [
    "### 3. Regresiones"
   ]
  },
  {
   "cell_type": "markdown",
   "id": "59c321a5",
   "metadata": {},
   "source": [
    "Ahora se realizan regresiones teniendo como instrumento Z a nearc2 (presencia (1) o no (0) de centros de estudios superiores con programas de 2 años de estudios)."
   ]
  },
  {
   "cell_type": "markdown",
   "id": "84798513",
   "metadata": {},
   "source": [
    "#### 3.1) Corran una regresion lineal del tipo \"lwage ~ educ + exper + black + south + married + smsa\", y expliquen los resultados que encuentran."
   ]
  },
  {
   "cell_type": "code",
   "execution_count": 7,
   "id": "836453d2",
   "metadata": {},
   "outputs": [
    {
     "data": {
      "text/html": [
       "<table class=\"simpletable\">\n",
       "<caption>OLS Regression Results</caption>\n",
       "<tr>\n",
       "  <th>Dep. Variable:</th>          <td>lwage</td>      <th>  R-squared:         </th> <td>   0.305</td> \n",
       "</tr>\n",
       "<tr>\n",
       "  <th>Model:</th>                   <td>OLS</td>       <th>  Adj. R-squared:    </th> <td>   0.304</td> \n",
       "</tr>\n",
       "<tr>\n",
       "  <th>Method:</th>             <td>Least Squares</td>  <th>  F-statistic:       </th> <td>   219.2</td> \n",
       "</tr>\n",
       "<tr>\n",
       "  <th>Date:</th>             <td>Sun, 13 Nov 2022</td> <th>  Prob (F-statistic):</th> <td>1.97e-232</td>\n",
       "</tr>\n",
       "<tr>\n",
       "  <th>Time:</th>                 <td>17:14:58</td>     <th>  Log-Likelihood:    </th> <td> -1273.9</td> \n",
       "</tr>\n",
       "<tr>\n",
       "  <th>No. Observations:</th>      <td>  3003</td>      <th>  AIC:               </th> <td>   2562.</td> \n",
       "</tr>\n",
       "<tr>\n",
       "  <th>Df Residuals:</th>          <td>  2996</td>      <th>  BIC:               </th> <td>   2604.</td> \n",
       "</tr>\n",
       "<tr>\n",
       "  <th>Df Model:</th>              <td>     6</td>      <th>                     </th>     <td> </td>    \n",
       "</tr>\n",
       "<tr>\n",
       "  <th>Covariance Type:</th>      <td>nonrobust</td>    <th>                     </th>     <td> </td>    \n",
       "</tr>\n",
       "</table>\n",
       "<table class=\"simpletable\">\n",
       "<tr>\n",
       "      <td></td>         <th>coef</th>     <th>std err</th>      <th>t</th>      <th>P>|t|</th>  <th>[0.025</th>    <th>0.975]</th>  \n",
       "</tr>\n",
       "<tr>\n",
       "  <th>Intercept</th> <td>    5.0633</td> <td>    0.064</td> <td>   79.437</td> <td> 0.000</td> <td>    4.938</td> <td>    5.188</td>\n",
       "</tr>\n",
       "<tr>\n",
       "  <th>educ</th>      <td>    0.0712</td> <td>    0.003</td> <td>   20.438</td> <td> 0.000</td> <td>    0.064</td> <td>    0.078</td>\n",
       "</tr>\n",
       "<tr>\n",
       "  <th>exper</th>     <td>    0.0342</td> <td>    0.002</td> <td>   15.422</td> <td> 0.000</td> <td>    0.030</td> <td>    0.038</td>\n",
       "</tr>\n",
       "<tr>\n",
       "  <th>black</th>     <td>   -0.1660</td> <td>    0.018</td> <td>   -9.426</td> <td> 0.000</td> <td>   -0.201</td> <td>   -0.131</td>\n",
       "</tr>\n",
       "<tr>\n",
       "  <th>south</th>     <td>   -0.1316</td> <td>    0.015</td> <td>   -8.788</td> <td> 0.000</td> <td>   -0.161</td> <td>   -0.102</td>\n",
       "</tr>\n",
       "<tr>\n",
       "  <th>married</th>   <td>   -0.0359</td> <td>    0.003</td> <td>  -10.547</td> <td> 0.000</td> <td>   -0.043</td> <td>   -0.029</td>\n",
       "</tr>\n",
       "<tr>\n",
       "  <th>smsa</th>      <td>    0.1758</td> <td>    0.015</td> <td>   11.372</td> <td> 0.000</td> <td>    0.145</td> <td>    0.206</td>\n",
       "</tr>\n",
       "</table>\n",
       "<table class=\"simpletable\">\n",
       "<tr>\n",
       "  <th>Omnibus:</th>       <td>53.196</td> <th>  Durbin-Watson:     </th> <td>   1.858</td>\n",
       "</tr>\n",
       "<tr>\n",
       "  <th>Prob(Omnibus):</th> <td> 0.000</td> <th>  Jarque-Bera (JB):  </th> <td>  69.430</td>\n",
       "</tr>\n",
       "<tr>\n",
       "  <th>Skew:</th>          <td>-0.231</td> <th>  Prob(JB):          </th> <td>8.38e-16</td>\n",
       "</tr>\n",
       "<tr>\n",
       "  <th>Kurtosis:</th>      <td> 3.584</td> <th>  Cond. No.          </th> <td>    154.</td>\n",
       "</tr>\n",
       "</table><br/><br/>Notes:<br/>[1] Standard Errors assume that the covariance matrix of the errors is correctly specified."
      ],
      "text/plain": [
       "<class 'statsmodels.iolib.summary.Summary'>\n",
       "\"\"\"\n",
       "                            OLS Regression Results                            \n",
       "==============================================================================\n",
       "Dep. Variable:                  lwage   R-squared:                       0.305\n",
       "Model:                            OLS   Adj. R-squared:                  0.304\n",
       "Method:                 Least Squares   F-statistic:                     219.2\n",
       "Date:                Sun, 13 Nov 2022   Prob (F-statistic):          1.97e-232\n",
       "Time:                        17:14:58   Log-Likelihood:                -1273.9\n",
       "No. Observations:                3003   AIC:                             2562.\n",
       "Df Residuals:                    2996   BIC:                             2604.\n",
       "Df Model:                           6                                         \n",
       "Covariance Type:            nonrobust                                         \n",
       "==============================================================================\n",
       "                 coef    std err          t      P>|t|      [0.025      0.975]\n",
       "------------------------------------------------------------------------------\n",
       "Intercept      5.0633      0.064     79.437      0.000       4.938       5.188\n",
       "educ           0.0712      0.003     20.438      0.000       0.064       0.078\n",
       "exper          0.0342      0.002     15.422      0.000       0.030       0.038\n",
       "black         -0.1660      0.018     -9.426      0.000      -0.201      -0.131\n",
       "south         -0.1316      0.015     -8.788      0.000      -0.161      -0.102\n",
       "married       -0.0359      0.003    -10.547      0.000      -0.043      -0.029\n",
       "smsa           0.1758      0.015     11.372      0.000       0.145       0.206\n",
       "==============================================================================\n",
       "Omnibus:                       53.196   Durbin-Watson:                   1.858\n",
       "Prob(Omnibus):                  0.000   Jarque-Bera (JB):               69.430\n",
       "Skew:                          -0.231   Prob(JB):                     8.38e-16\n",
       "Kurtosis:                       3.584   Cond. No.                         154.\n",
       "==============================================================================\n",
       "\n",
       "Notes:\n",
       "[1] Standard Errors assume that the covariance matrix of the errors is correctly specified.\n",
       "\"\"\""
      ]
     },
     "execution_count": 7,
     "metadata": {},
     "output_type": "execute_result"
    }
   ],
   "source": [
    "#OLS\n",
    "ols_reg = sm.OLS.from_formula(\"lwage ~ educ + exper + black + south + married + smsa\", \n",
    "              data = card).fit()\n",
    "\n",
    "ols_reg.summary()"
   ]
  },
  {
   "cell_type": "markdown",
   "id": "6ea7f1d7",
   "metadata": {},
   "source": [
    "- Explicación de resultados:\n",
    "\n",
    "En este modelo de regresión se busca encontrar si existe una correlación entre el logaritmo de ingresos (lwage) y las variables independientes (años de educación[educ], experiencia [exper], raza negra [black], si es del sur o no[south], casado o no[married] y la variable [smsa]). No se considera a las variables nearc4 ni nearc2. Como todas las variables cuentan con un p-value menor a 0.05, todas son significativas para el modelo. El R2(r-square) indica que el modelo explica en 30% la variabilidad de la variable dependiente(logaritmos de ingresos), por ende, el modelo no es tan fuerte, ya que no sobrepasa el 50%. El coeficiente [educ] nos indica que por cada aumento de los años de educación, los ingresos de los encuestados aumentan en 7.1%."
   ]
  },
  {
   "cell_type": "markdown",
   "id": "49dffc0e",
   "metadata": {},
   "source": [
    "- Al haber valores invalidos en la variable married,esto se rellenan con ceros para que no afecte el resultado del modelo de regresión."
   ]
  },
  {
   "cell_type": "code",
   "execution_count": 8,
   "id": "4c2c7b59",
   "metadata": {},
   "outputs": [],
   "source": [
    "card['married'] = card['married'].fillna(0)"
   ]
  },
  {
   "cell_type": "markdown",
   "id": "7252543d",
   "metadata": {},
   "source": [
    "#### 3.2) Corran una regresion de tipo IV(usando el paquete IV2SLS) donde van a instrumentalizar la variable educ con nearc2 .\n",
    "La regresión debería tener una forma de este tipo \"lwage ~ 1 + exper + black + south + married + smsa + [educ ~ nearc2]\"."
   ]
  },
  {
   "cell_type": "code",
   "execution_count": 9,
   "id": "fc7c3f22",
   "metadata": {},
   "outputs": [
    {
     "data": {
      "text/html": [
       "<table class=\"simpletable\">\n",
       "<caption>IV-2SLS Estimation Summary</caption>\n",
       "<tr>\n",
       "  <th>Dep. Variable:</th>          <td>lwage</td>      <th>  R-squared:         </th> <td>-1.3114</td>\n",
       "</tr>\n",
       "<tr>\n",
       "  <th>Estimator:</th>             <td>IV-2SLS</td>     <th>  Adj. R-squared:    </th> <td>-1.3160</td>\n",
       "</tr>\n",
       "<tr>\n",
       "  <th>No. Observations:</th>       <td>3010</td>       <th>  F-statistic:       </th> <td>289.62</td> \n",
       "</tr>\n",
       "<tr>\n",
       "  <th>Date:</th>             <td>Sun, Nov 13 2022</td> <th>  P-value (F-stat)   </th> <td>0.0000</td> \n",
       "</tr>\n",
       "<tr>\n",
       "  <th>Time:</th>                 <td>17:16:35</td>     <th>  Distribution:      </th> <td>chi2(6)</td>\n",
       "</tr>\n",
       "<tr>\n",
       "  <th>Cov. Estimator:</th>        <td>robust</td>      <th>                     </th>    <td></td>    \n",
       "</tr>\n",
       "<tr>\n",
       "  <th></th>                          <td></td>         <th>                     </th>    <td></td>    \n",
       "</tr>\n",
       "</table>\n",
       "<table class=\"simpletable\">\n",
       "<caption>Parameter Estimates</caption>\n",
       "<tr>\n",
       "      <td></td>      <th>Parameter</th> <th>Std. Err.</th> <th>T-stat</th>  <th>P-value</th> <th>Lower CI</th> <th>Upper CI</th>\n",
       "</tr>\n",
       "<tr>\n",
       "  <th>Intercept</th>  <td>0.1276</td>    <td>3.1412</td>   <td>0.0406</td>  <td>0.9676</td>   <td>-6.0290</td>  <td>6.2843</td> \n",
       "</tr>\n",
       "<tr>\n",
       "  <th>black</th>      <td>0.1134</td>    <td>0.1816</td>   <td>0.6244</td>  <td>0.5324</td>   <td>-0.2425</td>  <td>0.4692</td> \n",
       "</tr>\n",
       "<tr>\n",
       "  <th>exper</th>      <td>0.1515</td>    <td>0.0747</td>   <td>2.0274</td>  <td>0.0426</td>   <td>0.0050</td>   <td>0.2980</td> \n",
       "</tr>\n",
       "<tr>\n",
       "  <th>married</th>    <td>-0.0151</td>   <td>0.0147</td>   <td>-1.0258</td> <td>0.3050</td>   <td>-0.0438</td>  <td>0.0137</td> \n",
       "</tr>\n",
       "<tr>\n",
       "  <th>smsa</th>       <td>0.0201</td>    <td>0.1030</td>   <td>0.1949</td>  <td>0.8455</td>   <td>-0.1819</td>  <td>0.2220</td> \n",
       "</tr>\n",
       "<tr>\n",
       "  <th>south</th>      <td>-0.0319</td>   <td>0.0692</td>   <td>-0.4603</td> <td>0.6453</td>   <td>-0.1675</td>  <td>0.1038</td> \n",
       "</tr>\n",
       "<tr>\n",
       "  <th>educ</th>       <td>0.3618</td>    <td>0.1849</td>   <td>1.9562</td>  <td>0.0504</td>   <td>-0.0007</td>  <td>0.7243</td> \n",
       "</tr>\n",
       "</table><br/><br/>Endogenous: educ<br/>Instruments: nearc2<br/>Robust Covariance (Heteroskedastic)<br/>Debiased: False"
      ],
      "text/plain": [
       "<class 'linearmodels.compat.statsmodels.Summary'>\n",
       "\"\"\"\n",
       "                          IV-2SLS Estimation Summary                          \n",
       "==============================================================================\n",
       "Dep. Variable:                  lwage   R-squared:                     -1.3114\n",
       "Estimator:                    IV-2SLS   Adj. R-squared:                -1.3160\n",
       "No. Observations:                3010   F-statistic:                    289.62\n",
       "Date:                Sun, Nov 13 2022   P-value (F-stat)                0.0000\n",
       "Time:                        17:16:35   Distribution:                  chi2(6)\n",
       "Cov. Estimator:                robust                                         \n",
       "                                                                              \n",
       "                             Parameter Estimates                              \n",
       "==============================================================================\n",
       "            Parameter  Std. Err.     T-stat    P-value    Lower CI    Upper CI\n",
       "------------------------------------------------------------------------------\n",
       "Intercept      0.1276     3.1412     0.0406     0.9676     -6.0290      6.2843\n",
       "black          0.1134     0.1816     0.6244     0.5324     -0.2425      0.4692\n",
       "exper          0.1515     0.0747     2.0274     0.0426      0.0050      0.2980\n",
       "married       -0.0151     0.0147    -1.0258     0.3050     -0.0438      0.0137\n",
       "smsa           0.0201     0.1030     0.1949     0.8455     -0.1819      0.2220\n",
       "south         -0.0319     0.0692    -0.4603     0.6453     -0.1675      0.1038\n",
       "educ           0.3618     0.1849     1.9562     0.0504     -0.0007      0.7243\n",
       "==============================================================================\n",
       "\n",
       "Endogenous: educ\n",
       "Instruments: nearc2\n",
       "Robust Covariance (Heteroskedastic)\n",
       "Debiased: False\n",
       "\"\"\""
      ]
     },
     "execution_count": 9,
     "metadata": {},
     "output_type": "execute_result"
    }
   ],
   "source": [
    "#IV2SLS\n",
    "iv_reg = IV2SLS.from_formula(\"lwage ~  1 + exper + black + south + married + smsa + [educ ~ nearc2]\", card).fit()\n",
    "iv_reg.summary"
   ]
  },
  {
   "cell_type": "markdown",
   "id": "967c40ab",
   "metadata": {},
   "source": [
    "- Explicación:\n",
    "\n",
    "El nuevo modelo de regresión lineal utiliza como instrumento (Z) a la variable nearc2 (la presencia o no de centros de estudios superiores con programas de 2 años) y busca encontrar que esta tiene un efecto en la variable años de educación (educ=X) y mediante X esta tiene un efecto en el resultado (logaritmos de ingresos=Y). No todas las variables son significativas a diferencia del modelo de regresión anterior, pues solo las variables experiencia y años de educación (como presenta un p.value redondeado de 0.05 aun lo consideraremos) lo son.Por cada año más de estudios, los ingresos de las personas de la muestra aumentan en un 36%.  En este sentido, se puede decir que se encuentra un mayor aumento del logaritmo de ingresos al instrumentalizar el modelo de regresión en comparación con el modelo de regresión OSL. El modelo presenta un r ajustado negativo que indica la neutralidad ante la introducción de variables adicionales y el F-statistic tiene un exceso de 15, por tanto,se señala que el instrumento no se considera débil. "
   ]
  },
  {
   "cell_type": "markdown",
   "id": "06463785",
   "metadata": {},
   "source": [
    "##### Compare los resultados encontrados en la regresión de arriba. ¿Cambió el coeficiente relacionado a educ, por qué?\n",
    "\n",
    "Tanto el modelo instrumentalizado (de tipo IV) en base a la variable instrumental nearc2 como el que no presenta ninguna variable instrumental (OSL) evidencia un cambio en el coeficiente de la variable años de educación (educ), lo que posiblemente está relacionado con la introducción del instrumento nearc2 (presencia (==1) o no(==0) de un centro de educación superior con programas de 2 años de estudios cerca al condado) en el modelo 2 (regresión de tipo IV). Entonces, la presencia de centros de estudios superiores con programas de 2 años cerca a la residencia de la muestra cumple un rol importante en la continuación de estudios superiores, en los años de educación y en el logaritmo de ingresos."
   ]
  }
 ],
 "metadata": {
  "kernelspec": {
   "display_name": "Python 3 (ipykernel)",
   "language": "python",
   "name": "python3"
  },
  "language_info": {
   "codemirror_mode": {
    "name": "ipython",
    "version": 3
   },
   "file_extension": ".py",
   "mimetype": "text/x-python",
   "name": "python",
   "nbconvert_exporter": "python",
   "pygments_lexer": "ipython3",
   "version": "3.9.12"
  }
 },
 "nbformat": 4,
 "nbformat_minor": 5
}
