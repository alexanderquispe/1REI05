{
 "cells": [
  {
   "cell_type": "markdown",
   "id": "61b6e6a4",
   "metadata": {},
   "source": [
    "<h1>Lecturas<h1>\n",
    "\n",
    "\n",
    "\n"
   ]
  },
  {
   "cell_type": "markdown",
   "id": "8843e176",
   "metadata": {},
   "source": [
    "Primera pregunta de lectura\n",
    "Los factores que determinan el papel del ingenio (naturaleza) en la relación con el entorno (educación), utilizando probabilidades según características de nacimiento, raza y parte socioeconómica de nacimiento de la familia. Surge la siguiente pregunta Qué factores o características nos permiten identificar a las personas que son susceptibles de desarrollar una alta creatividad.Una pequeña omisión es que las opiniones expresadas en este artículo son las de los autores únicamente y no reflejan necesariamente las opiniones de USA. o los Institutos Nacionales de Salud, que serán de gran ayuda con la investigación. Además, tener más información sobre la ubicación de las escuelas revelará factores adicionales porque las oportunidades en áreas más densamente pobladas no son las mismas para todos. Además, podrán agregar alimentos, acceder a internet, lo que desarrollará sus habilidades de búsqueda; y el acceso a la tecnología, ya que permite que florezca la creatividad. También puede ser muy útil poder usar los datos y compararlos con datos de otros países si se necesita un estudio más amplio.\n",
    "\n",
    "segunda pregunta de lectura\n",
    "Una deficiencia señalada es que su estudio podría refinarse centrándose en los patrones generales de desarrollo institucional y cómo los eventos actuales están afectando las áreas clave que deben explorarse. Bueno, el hecho de que todo haya sido utilizado para combatir o resolver un problema no significa que todavía sea útil hoy en día cuando el contexto es diferente, simplemente significa que hay otros factores que influyen en la estructura del cuerpo. Si bien este documento ayuda a aprender un poco más sobre la población hispana en general y su impacto en ella, aún existe la necesidad de explorar la evolución de la población y el impacto de las políticas mineras durante muchos siglos. De igual forma, es recomendable realizar y profundizar investigaciones tanto en Perú como en Bolivia, pues recordemos que estos dos países están íntimamente ligados a un mito que impregna la mayor parte de sus territorios.\n",
    "\n"
   ]
  },
  {
   "cell_type": "markdown",
   "id": "70f10fe4",
   "metadata": {},
   "source": [
    "<h1>Pregunta1<h1>"
   ]
  },
  {
   "cell_type": "markdown",
   "id": "3d228df0",
   "metadata": {},
   "source": [
    "* **Indetifique todos los elementos necesarios para implementar un enfoque de IV en este ejemplo.**"
   ]
  },
  {
   "cell_type": "markdown",
   "id": "5e81b984",
   "metadata": {},
   "source": [
    "* \tExogeneidad: en este caso, el instrumento Z no tendría que relacionarse con el error del modelo regresionado para que el estimador no salga sesgado.\n",
    "* \tRelevancia: la covarianza entre X y Z diferente de 0. Es decir que tiene que haber un resultado alto o relevante en la covarianza del instrumento y la variable explicativa"
   ]
  },
  {
   "cell_type": "markdown",
   "id": "291d8f8b",
   "metadata": {},
   "source": [
    "* **Explique el procedimiento para encontrar el efecto causal en este escenario. Puede utilizar ecuaciones**"
   ]
  },
  {
   "cell_type": "markdown",
   "id": "1c4f56af",
   "metadata": {},
   "source": [
    "\tSi regresionamos el modelo usando la variable instrumental, podremos obtener el estadístico F de esta regresión. Y si este resultado es mayor que 10 se cumple la regla de oro y por lo tanto el instrumento utilizado tiene una relación causal."
   ]
  },
  {
   "cell_type": "markdown",
   "id": "0fc77521",
   "metadata": {},
   "source": [
    "* **¿El efecto de la educación sobre el nivel de ingresos es positivo o negativo? Argumente si los resultados serian causales o solamente de correlación**"
   ]
  },
  {
   "cell_type": "markdown",
   "id": "0050a5b6",
   "metadata": {},
   "source": [
    " \tSe puede suponer que la educación tiene un efecto positivo sobre el nivel de ingresos, pues con la data disponible se puede observar que mientras hay un mayor salario también hay un mayor nivel de educación. Por lo tanto, los resultado causales y de correlación tendrían que cumplirse. "
   ]
  },
  {
   "cell_type": "markdown",
   "id": "827b9430",
   "metadata": {},
   "source": [
    "<h1>Pregunta2<h1>"
   ]
  },
  {
   "cell_type": "markdown",
   "id": "39e497e4",
   "metadata": {},
   "source": [
    "* **Indetifique todos los elementos necesarios para implementar un RDD en este ejemplo.**"
   ]
  },
  {
   "cell_type": "markdown",
   "id": "767c4663",
   "metadata": {},
   "source": [
    "\tEl primero elemento es el Running Variable, este determina si un grupo es o no de control o de tratamiento. Luego con el elemento Cut off, el cual es una observación del Running Variable, este elemento determinará también, a través de la observación, si se trata de un grupo de control o de tratamiento. Finalmente, Bond Width es un elemento que determinará qué tan lejos o cerca se está de la discontinuidad. Es decir, un intervalo."
   ]
  },
  {
   "cell_type": "markdown",
   "id": "9aff5876",
   "metadata": {},
   "source": [
    "* **Explique el procedimiento para encontrar el efecto causal en este escenario. Puede utilizar ecuaciones.**"
   ]
  },
  {
   "cell_type": "markdown",
   "id": "e863d74a",
   "metadata": {},
   "source": [
    "\tPara encontrar el efecto causal en este escenario se tendría que encontrar el promedio de las notas de los estudiantes sin becas y compararlo con el promedio de las notas de los estudiantes con becas. Partiendo del cut off el cual es la aplicación de las becas en los alumnos con promedio superior durante la secundaria igual a 16."
   ]
  },
  {
   "cell_type": "markdown",
   "id": "6b801a4b",
   "metadata": {},
   "source": [
    "* **¿El efecto de la politica sobre el rendimiento de los estudiantes sería positivo o negativo (solo necesitan usar su intuición)? Argumente si los resultados serian causales o solamente de correlación .**"
   ]
  },
  {
   "cell_type": "markdown",
   "id": "7383ae17",
   "metadata": {},
   "source": [
    "\tDebido a que la muestra escogida para dar la beca tiene un sesgo, el cual se debe a la falta de aleatoriedad. El efecto de la política aplicada sobre el rendimiento de los estudiantes en el primer semestre de la universidad sería positivo. En este sentido, no habría una relación de causalidad, debido al sesgo; sin embargo, si habrá una correlación alta. "
   ]
  },
  {
   "cell_type": "markdown",
   "id": "754d3ed5",
   "metadata": {},
   "source": [
    "<h1>Pregunta3<h1>"
   ]
  },
  {
   "cell_type": "markdown",
   "id": "c9eb9036",
   "metadata": {},
   "source": [
    "* **Indetifique todos los elementos necesarios para implementar un DiD en este ejemplo.**"
   ]
  },
  {
   "cell_type": "markdown",
   "id": "82af1271",
   "metadata": {},
   "source": [
    "\tEl primer elemento es la identificación de los grupos (tratamiento y control), segundo se identifica el año, día, mes, etc. donde se aplica la política, tercero se debe cumplir que haya un efecto en el grupo de tratamiento y que no haya efecto en el grupo de control. Y cuarto se debe cumplir que ambos grupos deben tener las mismas pendientes antes de la aplicación de la política."
   ]
  },
  {
   "cell_type": "markdown",
   "id": "85e873fc",
   "metadata": {},
   "source": [
    "* **Explique el procedimiento para encontrar el efecto causal en este escenario. Puede utilizar ecuaciones.**"
   ]
  },
  {
   "cell_type": "markdown",
   "id": "934ef4a2",
   "metadata": {},
   "source": [
    " \tPara encontrar el efecto causal se debe seguir la siguiente ecuación:"
   ]
  },
  {
   "cell_type": "markdown",
   "id": "ad66fcd3",
   "metadata": {},
   "source": [
    "##TE=[(Z_(después política)^tratamiento-Z_(antes política)^tratamiento )-(Z_(después política)^control-Z_(antes política)^control )"
   ]
  },
  {
   "cell_type": "markdown",
   "id": "43e71601",
   "metadata": {},
   "source": [
    "* **¿El efecto de la migración sobre la tasa de empleo sería positivo o negativo (solo necesitan usar su intuición)? Argumente si los resultados serian causales o solamente de correlación .**"
   ]
  },
  {
   "cell_type": "markdown",
   "id": "e083c103",
   "metadata": {},
   "source": [
    "\tEs esperable que una alta migración genere una caída en la tasa de empleo, pues aumentaría la demanda. En este sentido, los resultados serían causales y de correlación debido a la aleatoriedad de la situación, la cual tiene características de un experimento natural. "
   ]
  },
  {
   "cell_type": "code",
   "execution_count": null,
   "id": "d931f670",
   "metadata": {},
   "outputs": [],
   "source": []
  },
  {
   "cell_type": "code",
   "execution_count": null,
   "id": "ce9f9a05",
   "metadata": {},
   "outputs": [],
   "source": []
  },
  {
   "cell_type": "code",
   "execution_count": 1,
   "id": "e6d8c99d",
   "metadata": {},
   "outputs": [
    {
     "name": "stdout",
     "output_type": "stream",
     "text": [
      "Requirement already satisfied: linearmodels in c:\\users\\catono\\documents\\anaconda\\lib\\site-packages (4.27)\n",
      "Requirement already satisfied: numpy>=1.16 in c:\\users\\catono\\documents\\anaconda\\lib\\site-packages (from linearmodels) (1.20.3)\n",
      "Requirement already satisfied: scipy>=1.2 in c:\\users\\catono\\documents\\anaconda\\lib\\site-packages (from linearmodels) (1.7.1)\n",
      "Requirement already satisfied: pandas>=0.24 in c:\\users\\catono\\documents\\anaconda\\lib\\site-packages (from linearmodels) (1.3.4)\n",
      "Requirement already satisfied: property-cached>=1.6.3 in c:\\users\\catono\\documents\\anaconda\\lib\\site-packages (from linearmodels) (1.6.4)\n",
      "Requirement already satisfied: statsmodels>=0.11 in c:\\users\\catono\\documents\\anaconda\\lib\\site-packages (from linearmodels) (0.12.2)\n",
      "Requirement already satisfied: mypy-extensions>=0.4 in c:\\users\\catono\\documents\\anaconda\\lib\\site-packages (from linearmodels) (0.4.3)\n",
      "Requirement already satisfied: Cython>=0.29.21 in c:\\users\\catono\\documents\\anaconda\\lib\\site-packages (from linearmodels) (0.29.24)\n",
      "Requirement already satisfied: setuptools-scm<7.0.0,>=6.4.2 in c:\\users\\catono\\documents\\anaconda\\lib\\site-packages (from linearmodels) (6.4.2)\n",
      "Requirement already satisfied: pyhdfe>=0.1 in c:\\users\\catono\\documents\\anaconda\\lib\\site-packages (from linearmodels) (0.1.0)\n",
      "Requirement already satisfied: formulaic~=0.3.2 in c:\\users\\catono\\documents\\anaconda\\lib\\site-packages (from linearmodels) (0.3.4)\n",
      "Requirement already satisfied: interface-meta<2.0.0,>=1.2.0 in c:\\users\\catono\\documents\\anaconda\\lib\\site-packages (from formulaic~=0.3.2->linearmodels) (1.3.0)\n",
      "Requirement already satisfied: wrapt>=1.0 in c:\\users\\catono\\documents\\anaconda\\lib\\site-packages (from formulaic~=0.3.2->linearmodels) (1.12.1)\n",
      "Requirement already satisfied: astor>=0.8 in c:\\users\\catono\\documents\\anaconda\\lib\\site-packages (from formulaic~=0.3.2->linearmodels) (0.8.1)\n",
      "Requirement already satisfied: python-dateutil>=2.7.3 in c:\\users\\catono\\documents\\anaconda\\lib\\site-packages (from pandas>=0.24->linearmodels) (2.8.2)\n",
      "Requirement already satisfied: pytz>=2017.3 in c:\\users\\catono\\documents\\anaconda\\lib\\site-packages (from pandas>=0.24->linearmodels) (2021.3)\n",
      "Requirement already satisfied: six>=1.5 in c:\\users\\catono\\documents\\anaconda\\lib\\site-packages (from python-dateutil>=2.7.3->pandas>=0.24->linearmodels) (1.16.0)\n",
      "Requirement already satisfied: packaging>=20.0 in c:\\users\\catono\\documents\\anaconda\\lib\\site-packages (from setuptools-scm<7.0.0,>=6.4.2->linearmodels) (21.0)\n",
      "Requirement already satisfied: tomli>=1.0.0 in c:\\users\\catono\\documents\\anaconda\\lib\\site-packages (from setuptools-scm<7.0.0,>=6.4.2->linearmodels) (2.0.1)\n",
      "Requirement already satisfied: setuptools in c:\\users\\catono\\documents\\anaconda\\lib\\site-packages (from setuptools-scm<7.0.0,>=6.4.2->linearmodels) (58.0.4)\n",
      "Requirement already satisfied: pyparsing>=2.0.2 in c:\\users\\catono\\documents\\anaconda\\lib\\site-packages (from packaging>=20.0->setuptools-scm<7.0.0,>=6.4.2->linearmodels) (3.0.4)\n",
      "Requirement already satisfied: patsy>=0.5 in c:\\users\\catono\\documents\\anaconda\\lib\\site-packages (from statsmodels>=0.11->linearmodels) (0.5.2)\n",
      "Note: you may need to restart the kernel to use updated packages.\n"
     ]
    }
   ],
   "source": [
    "pip install linearmodels"
   ]
  },
  {
   "cell_type": "code",
   "execution_count": 2,
   "id": "e7c5e416",
   "metadata": {},
   "outputs": [
    {
     "name": "stdout",
     "output_type": "stream",
     "text": [
      "Requirement already satisfied: seaborn in c:\\users\\catono\\documents\\anaconda\\lib\\site-packages (0.11.2)\n",
      "Requirement already satisfied: scipy>=1.0 in c:\\users\\catono\\documents\\anaconda\\lib\\site-packages (from seaborn) (1.7.1)\n",
      "Requirement already satisfied: numpy>=1.15 in c:\\users\\catono\\documents\\anaconda\\lib\\site-packages (from seaborn) (1.20.3)\n",
      "Requirement already satisfied: pandas>=0.23 in c:\\users\\catono\\documents\\anaconda\\lib\\site-packages (from seaborn) (1.3.4)\n",
      "Requirement already satisfied: matplotlib>=2.2 in c:\\users\\catono\\documents\\anaconda\\lib\\site-packages (from seaborn) (3.4.3)\n",
      "Requirement already satisfied: python-dateutil>=2.7 in c:\\users\\catono\\documents\\anaconda\\lib\\site-packages (from matplotlib>=2.2->seaborn) (2.8.2)\n",
      "Requirement already satisfied: pillow>=6.2.0 in c:\\users\\catono\\documents\\anaconda\\lib\\site-packages (from matplotlib>=2.2->seaborn) (8.4.0)\n",
      "Requirement already satisfied: kiwisolver>=1.0.1 in c:\\users\\catono\\documents\\anaconda\\lib\\site-packages (from matplotlib>=2.2->seaborn) (1.3.1)\n",
      "Requirement already satisfied: cycler>=0.10 in c:\\users\\catono\\documents\\anaconda\\lib\\site-packages (from matplotlib>=2.2->seaborn) (0.10.0)\n",
      "Requirement already satisfied: pyparsing>=2.2.1 in c:\\users\\catono\\documents\\anaconda\\lib\\site-packages (from matplotlib>=2.2->seaborn) (3.0.4)\n",
      "Requirement already satisfied: six in c:\\users\\catono\\documents\\anaconda\\lib\\site-packages (from cycler>=0.10->matplotlib>=2.2->seaborn) (1.16.0)\n",
      "Requirement already satisfied: pytz>=2017.3 in c:\\users\\catono\\documents\\anaconda\\lib\\site-packages (from pandas>=0.23->seaborn) (2021.3)\n",
      "Note: you may need to restart the kernel to use updated packages.\n"
     ]
    }
   ],
   "source": [
    "pip install seaborn"
   ]
  },
  {
   "cell_type": "code",
   "execution_count": 6,
   "id": "3744ebc1",
   "metadata": {},
   "outputs": [],
   "source": [
    "# pip install causalgraphicalmodels\n",
    "# pip install linearmodels\n",
    "\n",
    "from causalgraphicalmodels import CausalGraphicalModel\n",
    "import os\n",
    "import numpy as np \n",
    "import pandas as pd \n",
    "import statsmodels.api as sm \n",
    "import statsmodels.formula.api as smf \n",
    "from itertools import combinations \n",
    "import statsmodels.api as sm\n",
    "import statsmodels.formula.api as smf\n",
    "import linearmodels.iv.model as lm\n",
    "from linearmodels.iv import IV2SLS\n",
    "from statsmodels.iolib.summary2 import summary_col\n",
    "import seaborn as sns\n"
   ]
  },
  {
   "cell_type": "code",
   "execution_count": 7,
   "id": "e3499de2",
   "metadata": {},
   "outputs": [
    {
     "data": {
      "text/html": [
       "<div>\n",
       "<style scoped>\n",
       "    .dataframe tbody tr th:only-of-type {\n",
       "        vertical-align: middle;\n",
       "    }\n",
       "\n",
       "    .dataframe tbody tr th {\n",
       "        vertical-align: top;\n",
       "    }\n",
       "\n",
       "    .dataframe thead th {\n",
       "        text-align: right;\n",
       "    }\n",
       "</style>\n",
       "<table border=\"1\" class=\"dataframe\">\n",
       "  <thead>\n",
       "    <tr style=\"text-align: right;\">\n",
       "      <th></th>\n",
       "      <th>id</th>\n",
       "      <th>nearc2</th>\n",
       "      <th>nearc4</th>\n",
       "      <th>educ</th>\n",
       "      <th>age</th>\n",
       "      <th>fatheduc</th>\n",
       "      <th>motheduc</th>\n",
       "      <th>weight</th>\n",
       "      <th>momdad14</th>\n",
       "      <th>sinmom14</th>\n",
       "      <th>...</th>\n",
       "      <th>KWW</th>\n",
       "      <th>IQ</th>\n",
       "      <th>married</th>\n",
       "      <th>libcrd14</th>\n",
       "      <th>exper</th>\n",
       "      <th>lwage</th>\n",
       "      <th>expersq</th>\n",
       "      <th>u_lwage</th>\n",
       "      <th>lwage_hat</th>\n",
       "      <th>u_educ</th>\n",
       "    </tr>\n",
       "  </thead>\n",
       "  <tbody>\n",
       "    <tr>\n",
       "      <th>0</th>\n",
       "      <td>2.0</td>\n",
       "      <td>0.0</td>\n",
       "      <td>0.0</td>\n",
       "      <td>7.0</td>\n",
       "      <td>29.0</td>\n",
       "      <td>NaN</td>\n",
       "      <td>NaN</td>\n",
       "      <td>158413.0</td>\n",
       "      <td>1.0</td>\n",
       "      <td>0.0</td>\n",
       "      <td>...</td>\n",
       "      <td>15.0</td>\n",
       "      <td>NaN</td>\n",
       "      <td>1.0</td>\n",
       "      <td>0.0</td>\n",
       "      <td>16.0</td>\n",
       "      <td>6.306275</td>\n",
       "      <td>256.0</td>\n",
       "      <td>0.198047</td>\n",
       "      <td>6.108228</td>\n",
       "      <td>-3.067539</td>\n",
       "    </tr>\n",
       "    <tr>\n",
       "      <th>1</th>\n",
       "      <td>3.0</td>\n",
       "      <td>0.0</td>\n",
       "      <td>0.0</td>\n",
       "      <td>12.0</td>\n",
       "      <td>27.0</td>\n",
       "      <td>8.0</td>\n",
       "      <td>8.0</td>\n",
       "      <td>380166.0</td>\n",
       "      <td>1.0</td>\n",
       "      <td>0.0</td>\n",
       "      <td>...</td>\n",
       "      <td>35.0</td>\n",
       "      <td>93.0</td>\n",
       "      <td>1.0</td>\n",
       "      <td>1.0</td>\n",
       "      <td>9.0</td>\n",
       "      <td>6.175867</td>\n",
       "      <td>81.0</td>\n",
       "      <td>-0.211160</td>\n",
       "      <td>6.387027</td>\n",
       "      <td>-1.727562</td>\n",
       "    </tr>\n",
       "    <tr>\n",
       "      <th>2</th>\n",
       "      <td>4.0</td>\n",
       "      <td>0.0</td>\n",
       "      <td>0.0</td>\n",
       "      <td>12.0</td>\n",
       "      <td>34.0</td>\n",
       "      <td>14.0</td>\n",
       "      <td>12.0</td>\n",
       "      <td>367470.0</td>\n",
       "      <td>1.0</td>\n",
       "      <td>0.0</td>\n",
       "      <td>...</td>\n",
       "      <td>42.0</td>\n",
       "      <td>103.0</td>\n",
       "      <td>1.0</td>\n",
       "      <td>1.0</td>\n",
       "      <td>16.0</td>\n",
       "      <td>6.580639</td>\n",
       "      <td>256.0</td>\n",
       "      <td>0.204719</td>\n",
       "      <td>6.375920</td>\n",
       "      <td>1.012975</td>\n",
       "    </tr>\n",
       "    <tr>\n",
       "      <th>3</th>\n",
       "      <td>5.0</td>\n",
       "      <td>1.0</td>\n",
       "      <td>1.0</td>\n",
       "      <td>11.0</td>\n",
       "      <td>27.0</td>\n",
       "      <td>11.0</td>\n",
       "      <td>12.0</td>\n",
       "      <td>380166.0</td>\n",
       "      <td>1.0</td>\n",
       "      <td>0.0</td>\n",
       "      <td>...</td>\n",
       "      <td>25.0</td>\n",
       "      <td>88.0</td>\n",
       "      <td>1.0</td>\n",
       "      <td>1.0</td>\n",
       "      <td>10.0</td>\n",
       "      <td>5.521461</td>\n",
       "      <td>100.0</td>\n",
       "      <td>-0.967905</td>\n",
       "      <td>6.489366</td>\n",
       "      <td>-2.253536</td>\n",
       "    </tr>\n",
       "    <tr>\n",
       "      <th>4</th>\n",
       "      <td>6.0</td>\n",
       "      <td>1.0</td>\n",
       "      <td>1.0</td>\n",
       "      <td>12.0</td>\n",
       "      <td>34.0</td>\n",
       "      <td>8.0</td>\n",
       "      <td>7.0</td>\n",
       "      <td>367470.0</td>\n",
       "      <td>1.0</td>\n",
       "      <td>0.0</td>\n",
       "      <td>...</td>\n",
       "      <td>34.0</td>\n",
       "      <td>108.0</td>\n",
       "      <td>1.0</td>\n",
       "      <td>0.0</td>\n",
       "      <td>16.0</td>\n",
       "      <td>6.591674</td>\n",
       "      <td>256.0</td>\n",
       "      <td>0.125173</td>\n",
       "      <td>6.466501</td>\n",
       "      <td>1.090437</td>\n",
       "    </tr>\n",
       "  </tbody>\n",
       "</table>\n",
       "<p>5 rows × 37 columns</p>\n",
       "</div>"
      ],
      "text/plain": [
       "    id  nearc2  nearc4  educ   age  fatheduc  motheduc    weight  momdad14  \\\n",
       "0  2.0     0.0     0.0   7.0  29.0       NaN       NaN  158413.0       1.0   \n",
       "1  3.0     0.0     0.0  12.0  27.0       8.0       8.0  380166.0       1.0   \n",
       "2  4.0     0.0     0.0  12.0  34.0      14.0      12.0  367470.0       1.0   \n",
       "3  5.0     1.0     1.0  11.0  27.0      11.0      12.0  380166.0       1.0   \n",
       "4  6.0     1.0     1.0  12.0  34.0       8.0       7.0  367470.0       1.0   \n",
       "\n",
       "   sinmom14  ...   KWW     IQ  married  libcrd14  exper     lwage  expersq  \\\n",
       "0       0.0  ...  15.0    NaN      1.0       0.0   16.0  6.306275    256.0   \n",
       "1       0.0  ...  35.0   93.0      1.0       1.0    9.0  6.175867     81.0   \n",
       "2       0.0  ...  42.0  103.0      1.0       1.0   16.0  6.580639    256.0   \n",
       "3       0.0  ...  25.0   88.0      1.0       1.0   10.0  5.521461    100.0   \n",
       "4       0.0  ...  34.0  108.0      1.0       0.0   16.0  6.591674    256.0   \n",
       "\n",
       "    u_lwage  lwage_hat    u_educ  \n",
       "0  0.198047   6.108228 -3.067539  \n",
       "1 -0.211160   6.387027 -1.727562  \n",
       "2  0.204719   6.375920  1.012975  \n",
       "3 -0.967905   6.489366 -2.253536  \n",
       "4  0.125173   6.466501  1.090437  \n",
       "\n",
       "[5 rows x 37 columns]"
      ]
     },
     "execution_count": 7,
     "metadata": {},
     "output_type": "execute_result"
    }
   ],
   "source": [
    "# load data\n",
    "\n",
    "import ssl\n",
    "ssl._create_default_https_context = ssl._create_unverified_context\n",
    "\n",
    "def read_data(file): \n",
    "    return pd.read_stata(\"https://raw.github.com/scunning1975/mixtape/master/\" + file)\n",
    "\n",
    "card = read_data(\"card.dta\")\n",
    "card.head()"
   ]
  },
  {
   "cell_type": "markdown",
   "id": "b7a5ec35",
   "metadata": {},
   "source": [
    "<h1> Ploteo de Histograma<h1>"
   ]
  },
  {
   "cell_type": "code",
   "execution_count": 8,
   "id": "ddd9d750",
   "metadata": {},
   "outputs": [
    {
     "data": {
      "text/html": [
       "<div>\n",
       "<style scoped>\n",
       "    .dataframe tbody tr th:only-of-type {\n",
       "        vertical-align: middle;\n",
       "    }\n",
       "\n",
       "    .dataframe tbody tr th {\n",
       "        vertical-align: top;\n",
       "    }\n",
       "\n",
       "    .dataframe thead th {\n",
       "        text-align: right;\n",
       "    }\n",
       "</style>\n",
       "<table border=\"1\" class=\"dataframe\">\n",
       "  <thead>\n",
       "    <tr style=\"text-align: right;\">\n",
       "      <th></th>\n",
       "      <th>educ</th>\n",
       "      <th>nearc2</th>\n",
       "    </tr>\n",
       "  </thead>\n",
       "  <tbody>\n",
       "    <tr>\n",
       "      <th>0</th>\n",
       "      <td>7.0</td>\n",
       "      <td>0.0</td>\n",
       "    </tr>\n",
       "    <tr>\n",
       "      <th>1</th>\n",
       "      <td>12.0</td>\n",
       "      <td>0.0</td>\n",
       "    </tr>\n",
       "    <tr>\n",
       "      <th>2</th>\n",
       "      <td>12.0</td>\n",
       "      <td>0.0</td>\n",
       "    </tr>\n",
       "    <tr>\n",
       "      <th>3</th>\n",
       "      <td>11.0</td>\n",
       "      <td>1.0</td>\n",
       "    </tr>\n",
       "    <tr>\n",
       "      <th>4</th>\n",
       "      <td>12.0</td>\n",
       "      <td>1.0</td>\n",
       "    </tr>\n",
       "    <tr>\n",
       "      <th>...</th>\n",
       "      <td>...</td>\n",
       "      <td>...</td>\n",
       "    </tr>\n",
       "    <tr>\n",
       "      <th>3005</th>\n",
       "      <td>12.0</td>\n",
       "      <td>0.0</td>\n",
       "    </tr>\n",
       "    <tr>\n",
       "      <th>3006</th>\n",
       "      <td>13.0</td>\n",
       "      <td>0.0</td>\n",
       "    </tr>\n",
       "    <tr>\n",
       "      <th>3007</th>\n",
       "      <td>12.0</td>\n",
       "      <td>0.0</td>\n",
       "    </tr>\n",
       "    <tr>\n",
       "      <th>3008</th>\n",
       "      <td>12.0</td>\n",
       "      <td>0.0</td>\n",
       "    </tr>\n",
       "    <tr>\n",
       "      <th>3009</th>\n",
       "      <td>13.0</td>\n",
       "      <td>0.0</td>\n",
       "    </tr>\n",
       "  </tbody>\n",
       "</table>\n",
       "<p>3010 rows × 2 columns</p>\n",
       "</div>"
      ],
      "text/plain": [
       "      educ  nearc2\n",
       "0      7.0     0.0\n",
       "1     12.0     0.0\n",
       "2     12.0     0.0\n",
       "3     11.0     1.0\n",
       "4     12.0     1.0\n",
       "...    ...     ...\n",
       "3005  12.0     0.0\n",
       "3006  13.0     0.0\n",
       "3007  12.0     0.0\n",
       "3008  12.0     0.0\n",
       "3009  13.0     0.0\n",
       "\n",
       "[3010 rows x 2 columns]"
      ]
     },
     "execution_count": 8,
     "metadata": {},
     "output_type": "execute_result"
    }
   ],
   "source": [
    "#Analizamos la comparacion entre educacion y nearc2\n",
    "card_educ = card[['educ','nearc2']]\n",
    "card_educ"
   ]
  },
  {
   "cell_type": "code",
   "execution_count": 40,
   "id": "6df66886",
   "metadata": {},
   "outputs": [
    {
     "data": {
      "text/html": [
       "<div>\n",
       "<style scoped>\n",
       "    .dataframe tbody tr th:only-of-type {\n",
       "        vertical-align: middle;\n",
       "    }\n",
       "\n",
       "    .dataframe tbody tr th {\n",
       "        vertical-align: top;\n",
       "    }\n",
       "\n",
       "    .dataframe thead th {\n",
       "        text-align: right;\n",
       "    }\n",
       "</style>\n",
       "<table border=\"1\" class=\"dataframe\">\n",
       "  <thead>\n",
       "    <tr style=\"text-align: right;\">\n",
       "      <th></th>\n",
       "      <th>educ</th>\n",
       "      <th>nearc2</th>\n",
       "      <th>caracterNearc2</th>\n",
       "    </tr>\n",
       "  </thead>\n",
       "  <tbody>\n",
       "    <tr>\n",
       "      <th>0</th>\n",
       "      <td>7.0</td>\n",
       "      <td>0.0</td>\n",
       "      <td>N_school</td>\n",
       "    </tr>\n",
       "    <tr>\n",
       "      <th>1</th>\n",
       "      <td>12.0</td>\n",
       "      <td>0.0</td>\n",
       "      <td>N_school</td>\n",
       "    </tr>\n",
       "    <tr>\n",
       "      <th>2</th>\n",
       "      <td>12.0</td>\n",
       "      <td>0.0</td>\n",
       "      <td>N_school</td>\n",
       "    </tr>\n",
       "    <tr>\n",
       "      <th>3</th>\n",
       "      <td>11.0</td>\n",
       "      <td>1.0</td>\n",
       "      <td>school</td>\n",
       "    </tr>\n",
       "    <tr>\n",
       "      <th>4</th>\n",
       "      <td>12.0</td>\n",
       "      <td>1.0</td>\n",
       "      <td>school</td>\n",
       "    </tr>\n",
       "    <tr>\n",
       "      <th>...</th>\n",
       "      <td>...</td>\n",
       "      <td>...</td>\n",
       "      <td>...</td>\n",
       "    </tr>\n",
       "    <tr>\n",
       "      <th>3005</th>\n",
       "      <td>12.0</td>\n",
       "      <td>0.0</td>\n",
       "      <td>N_school</td>\n",
       "    </tr>\n",
       "    <tr>\n",
       "      <th>3006</th>\n",
       "      <td>13.0</td>\n",
       "      <td>0.0</td>\n",
       "      <td>N_school</td>\n",
       "    </tr>\n",
       "    <tr>\n",
       "      <th>3007</th>\n",
       "      <td>12.0</td>\n",
       "      <td>0.0</td>\n",
       "      <td>N_school</td>\n",
       "    </tr>\n",
       "    <tr>\n",
       "      <th>3008</th>\n",
       "      <td>12.0</td>\n",
       "      <td>0.0</td>\n",
       "      <td>N_school</td>\n",
       "    </tr>\n",
       "    <tr>\n",
       "      <th>3009</th>\n",
       "      <td>13.0</td>\n",
       "      <td>0.0</td>\n",
       "      <td>N_school</td>\n",
       "    </tr>\n",
       "  </tbody>\n",
       "</table>\n",
       "<p>3010 rows × 3 columns</p>\n",
       "</div>"
      ],
      "text/plain": [
       "      educ  nearc2 caracterNearc2\n",
       "0      7.0     0.0       N_school\n",
       "1     12.0     0.0       N_school\n",
       "2     12.0     0.0       N_school\n",
       "3     11.0     1.0         school\n",
       "4     12.0     1.0         school\n",
       "...    ...     ...            ...\n",
       "3005  12.0     0.0       N_school\n",
       "3006  13.0     0.0       N_school\n",
       "3007  12.0     0.0       N_school\n",
       "3008  12.0     0.0       N_school\n",
       "3009  13.0     0.0       N_school\n",
       "\n",
       "[3010 rows x 3 columns]"
      ]
     },
     "execution_count": 40,
     "metadata": {},
     "output_type": "execute_result"
    }
   ],
   "source": [
    "#estructura de agrupacion variables nearc2_char para los school y N_school\n",
    "card_educ2 = (card_educ\n",
    " .assign(caracterNearc2 = np.select(\n",
    "     [card_educ[\"nearc2\"].astype(bool), card_educ[\"educ\"].astype(bool)],\n",
    "     [\"school\", \"N_school\"]\n",
    " ))) \n",
    "card_educ2"
   ]
  },
  {
   "cell_type": "code",
   "execution_count": 41,
   "id": "bfc005bf",
   "metadata": {},
   "outputs": [
    {
     "data": {
      "text/html": [
       "<div>\n",
       "<style scoped>\n",
       "    .dataframe tbody tr th:only-of-type {\n",
       "        vertical-align: middle;\n",
       "    }\n",
       "\n",
       "    .dataframe tbody tr th {\n",
       "        vertical-align: top;\n",
       "    }\n",
       "\n",
       "    .dataframe thead th {\n",
       "        text-align: right;\n",
       "    }\n",
       "</style>\n",
       "<table border=\"1\" class=\"dataframe\">\n",
       "  <thead>\n",
       "    <tr style=\"text-align: right;\">\n",
       "      <th></th>\n",
       "      <th>educ</th>\n",
       "      <th>caracterNearc2</th>\n",
       "    </tr>\n",
       "  </thead>\n",
       "  <tbody>\n",
       "    <tr>\n",
       "      <th>0</th>\n",
       "      <td>7.0</td>\n",
       "      <td>N_school</td>\n",
       "    </tr>\n",
       "    <tr>\n",
       "      <th>1</th>\n",
       "      <td>12.0</td>\n",
       "      <td>N_school</td>\n",
       "    </tr>\n",
       "    <tr>\n",
       "      <th>2</th>\n",
       "      <td>12.0</td>\n",
       "      <td>N_school</td>\n",
       "    </tr>\n",
       "    <tr>\n",
       "      <th>3</th>\n",
       "      <td>11.0</td>\n",
       "      <td>school</td>\n",
       "    </tr>\n",
       "    <tr>\n",
       "      <th>4</th>\n",
       "      <td>12.0</td>\n",
       "      <td>school</td>\n",
       "    </tr>\n",
       "    <tr>\n",
       "      <th>...</th>\n",
       "      <td>...</td>\n",
       "      <td>...</td>\n",
       "    </tr>\n",
       "    <tr>\n",
       "      <th>3005</th>\n",
       "      <td>12.0</td>\n",
       "      <td>N_school</td>\n",
       "    </tr>\n",
       "    <tr>\n",
       "      <th>3006</th>\n",
       "      <td>13.0</td>\n",
       "      <td>N_school</td>\n",
       "    </tr>\n",
       "    <tr>\n",
       "      <th>3007</th>\n",
       "      <td>12.0</td>\n",
       "      <td>N_school</td>\n",
       "    </tr>\n",
       "    <tr>\n",
       "      <th>3008</th>\n",
       "      <td>12.0</td>\n",
       "      <td>N_school</td>\n",
       "    </tr>\n",
       "    <tr>\n",
       "      <th>3009</th>\n",
       "      <td>13.0</td>\n",
       "      <td>N_school</td>\n",
       "    </tr>\n",
       "  </tbody>\n",
       "</table>\n",
       "<p>3010 rows × 2 columns</p>\n",
       "</div>"
      ],
      "text/plain": [
       "      educ caracterNearc2\n",
       "0      7.0       N_school\n",
       "1     12.0       N_school\n",
       "2     12.0       N_school\n",
       "3     11.0         school\n",
       "4     12.0         school\n",
       "...    ...            ...\n",
       "3005  12.0       N_school\n",
       "3006  13.0       N_school\n",
       "3007  12.0       N_school\n",
       "3008  12.0       N_school\n",
       "3009  13.0       N_school\n",
       "\n",
       "[3010 rows x 2 columns]"
      ]
     },
     "execution_count": 41,
     "metadata": {},
     "output_type": "execute_result"
    }
   ],
   "source": [
    "card_educ3 = card_educ2[['educ','caracterNearc2']]\n",
    "card_educ3"
   ]
  },
  {
   "cell_type": "markdown",
   "id": "555761bd",
   "metadata": {},
   "source": [
    "<h1>Grafique dos histogramas para la variable años de educación educ para cuando nearc2 == 1, y cuando nearc2 == 0. Compare y describa los patrones que encuentra.<h1>"
   ]
  },
  {
   "cell_type": "markdown",
   "id": "39e9b699",
   "metadata": {},
   "source": [
    "* **cuando nearc2==0**"
   ]
  },
  {
   "cell_type": "code",
   "execution_count": 42,
   "id": "7ab79c5f",
   "metadata": {},
   "outputs": [
    {
     "data": {
      "text/html": [
       "<div>\n",
       "<style scoped>\n",
       "    .dataframe tbody tr th:only-of-type {\n",
       "        vertical-align: middle;\n",
       "    }\n",
       "\n",
       "    .dataframe tbody tr th {\n",
       "        vertical-align: top;\n",
       "    }\n",
       "\n",
       "    .dataframe thead th {\n",
       "        text-align: right;\n",
       "    }\n",
       "</style>\n",
       "<table border=\"1\" class=\"dataframe\">\n",
       "  <thead>\n",
       "    <tr style=\"text-align: right;\">\n",
       "      <th></th>\n",
       "      <th>educ</th>\n",
       "      <th>caracterNearc2</th>\n",
       "    </tr>\n",
       "  </thead>\n",
       "  <tbody>\n",
       "    <tr>\n",
       "      <th>0</th>\n",
       "      <td>7.0</td>\n",
       "      <td>N_school</td>\n",
       "    </tr>\n",
       "    <tr>\n",
       "      <th>1</th>\n",
       "      <td>12.0</td>\n",
       "      <td>N_school</td>\n",
       "    </tr>\n",
       "    <tr>\n",
       "      <th>2</th>\n",
       "      <td>12.0</td>\n",
       "      <td>N_school</td>\n",
       "    </tr>\n",
       "    <tr>\n",
       "      <th>23</th>\n",
       "      <td>12.0</td>\n",
       "      <td>N_school</td>\n",
       "    </tr>\n",
       "    <tr>\n",
       "      <th>24</th>\n",
       "      <td>12.0</td>\n",
       "      <td>N_school</td>\n",
       "    </tr>\n",
       "    <tr>\n",
       "      <th>...</th>\n",
       "      <td>...</td>\n",
       "      <td>...</td>\n",
       "    </tr>\n",
       "    <tr>\n",
       "      <th>3005</th>\n",
       "      <td>12.0</td>\n",
       "      <td>N_school</td>\n",
       "    </tr>\n",
       "    <tr>\n",
       "      <th>3006</th>\n",
       "      <td>13.0</td>\n",
       "      <td>N_school</td>\n",
       "    </tr>\n",
       "    <tr>\n",
       "      <th>3007</th>\n",
       "      <td>12.0</td>\n",
       "      <td>N_school</td>\n",
       "    </tr>\n",
       "    <tr>\n",
       "      <th>3008</th>\n",
       "      <td>12.0</td>\n",
       "      <td>N_school</td>\n",
       "    </tr>\n",
       "    <tr>\n",
       "      <th>3009</th>\n",
       "      <td>13.0</td>\n",
       "      <td>N_school</td>\n",
       "    </tr>\n",
       "  </tbody>\n",
       "</table>\n",
       "<p>1683 rows × 2 columns</p>\n",
       "</div>"
      ],
      "text/plain": [
       "      educ caracterNearc2\n",
       "0      7.0       N_school\n",
       "1     12.0       N_school\n",
       "2     12.0       N_school\n",
       "23    12.0       N_school\n",
       "24    12.0       N_school\n",
       "...    ...            ...\n",
       "3005  12.0       N_school\n",
       "3006  13.0       N_school\n",
       "3007  12.0       N_school\n",
       "3008  12.0       N_school\n",
       "3009  13.0       N_school\n",
       "\n",
       "[1683 rows x 2 columns]"
      ]
     },
     "execution_count": 42,
     "metadata": {},
     "output_type": "execute_result"
    }
   ],
   "source": [
    "Groups = [\"N_school\"]\n",
    "COMP = card_educ3[card_educ3['caracterNearc2'].isin(Groups)]\n",
    "COMP"
   ]
  },
  {
   "cell_type": "code",
   "execution_count": 43,
   "id": "ffc04b5d",
   "metadata": {},
   "outputs": [
    {
     "data": {
      "text/plain": [
       "<seaborn.axisgrid.FacetGrid at 0x215bb247520>"
      ]
     },
     "execution_count": 43,
     "metadata": {},
     "output_type": "execute_result"
    },
    {
     "data": {
      "image/png": "[encoded data removed]",
      "text/plain": [
       "<Figure size 445x360 with 1 Axes>"
      ]
     },
     "metadata": {
      "needs_background": "light"
     },
     "output_type": "display_data"
    }
   ],
   "source": [
    "sns.displot(COMP, x=\"educ\", hue= \"caracterNearc2\")"
   ]
  },
  {
   "cell_type": "markdown",
   "id": "a05b9cad",
   "metadata": {},
   "source": [
    "* **cuando nearc2==1**"
   ]
  },
  {
   "cell_type": "code",
   "execution_count": 44,
   "id": "1c478049",
   "metadata": {},
   "outputs": [
    {
     "data": {
      "text/html": [
       "<div>\n",
       "<style scoped>\n",
       "    .dataframe tbody tr th:only-of-type {\n",
       "        vertical-align: middle;\n",
       "    }\n",
       "\n",
       "    .dataframe tbody tr th {\n",
       "        vertical-align: top;\n",
       "    }\n",
       "\n",
       "    .dataframe thead th {\n",
       "        text-align: right;\n",
       "    }\n",
       "</style>\n",
       "<table border=\"1\" class=\"dataframe\">\n",
       "  <thead>\n",
       "    <tr style=\"text-align: right;\">\n",
       "      <th></th>\n",
       "      <th>educ</th>\n",
       "      <th>caracterNearc2</th>\n",
       "    </tr>\n",
       "  </thead>\n",
       "  <tbody>\n",
       "    <tr>\n",
       "      <th>3</th>\n",
       "      <td>11.0</td>\n",
       "      <td>school</td>\n",
       "    </tr>\n",
       "    <tr>\n",
       "      <th>4</th>\n",
       "      <td>12.0</td>\n",
       "      <td>school</td>\n",
       "    </tr>\n",
       "    <tr>\n",
       "      <th>5</th>\n",
       "      <td>12.0</td>\n",
       "      <td>school</td>\n",
       "    </tr>\n",
       "    <tr>\n",
       "      <th>6</th>\n",
       "      <td>18.0</td>\n",
       "      <td>school</td>\n",
       "    </tr>\n",
       "    <tr>\n",
       "      <th>7</th>\n",
       "      <td>14.0</td>\n",
       "      <td>school</td>\n",
       "    </tr>\n",
       "    <tr>\n",
       "      <th>...</th>\n",
       "      <td>...</td>\n",
       "      <td>...</td>\n",
       "    </tr>\n",
       "    <tr>\n",
       "      <th>2899</th>\n",
       "      <td>10.0</td>\n",
       "      <td>school</td>\n",
       "    </tr>\n",
       "    <tr>\n",
       "      <th>2900</th>\n",
       "      <td>4.0</td>\n",
       "      <td>school</td>\n",
       "    </tr>\n",
       "    <tr>\n",
       "      <th>2901</th>\n",
       "      <td>8.0</td>\n",
       "      <td>school</td>\n",
       "    </tr>\n",
       "    <tr>\n",
       "      <th>2902</th>\n",
       "      <td>10.0</td>\n",
       "      <td>school</td>\n",
       "    </tr>\n",
       "    <tr>\n",
       "      <th>2903</th>\n",
       "      <td>12.0</td>\n",
       "      <td>school</td>\n",
       "    </tr>\n",
       "  </tbody>\n",
       "</table>\n",
       "<p>1327 rows × 2 columns</p>\n",
       "</div>"
      ],
      "text/plain": [
       "      educ caracterNearc2\n",
       "3     11.0         school\n",
       "4     12.0         school\n",
       "5     12.0         school\n",
       "6     18.0         school\n",
       "7     14.0         school\n",
       "...    ...            ...\n",
       "2899  10.0         school\n",
       "2900   4.0         school\n",
       "2901   8.0         school\n",
       "2902  10.0         school\n",
       "2903  12.0         school\n",
       "\n",
       "[1327 rows x 2 columns]"
      ]
     },
     "execution_count": 44,
     "metadata": {},
     "output_type": "execute_result"
    }
   ],
   "source": [
    "Groups = [\"school\"]\n",
    "COMP2 = card_educ3[card_educ3['caracterNearc2'].isin(Groups)]\n",
    "COMP2"
   ]
  },
  {
   "cell_type": "code",
   "execution_count": 45,
   "id": "45c8eae6",
   "metadata": {},
   "outputs": [
    {
     "data": {
      "text/plain": [
       "<seaborn.axisgrid.FacetGrid at 0x215bb0b40d0>"
      ]
     },
     "execution_count": 45,
     "metadata": {},
     "output_type": "execute_result"
    },
    {
     "data": {
      "image/png": "[encoded data removed]",
      "text/plain": [
       "<Figure size 445x360 with 1 Axes>"
      ]
     },
     "metadata": {
      "needs_background": "light"
     },
     "output_type": "display_data"
    }
   ],
   "source": [
    "sns.displot(COMP2, x=\"educ\", hue= \"caracterNearc2\")"
   ]
  },
  {
   "cell_type": "markdown",
   "id": "41debfca",
   "metadata": {},
   "source": [
    "**Conclusion**"
   ]
  },
  {
   "cell_type": "markdown",
   "id": "beafa653",
   "metadata": {},
   "source": [
    "* En los histogramas se puede ver que cuando nearc2 es igual 1, la cantidad de personas que llegan a más años de educación aumenta a más del doble a partir de los 12 años de educación. Sin embargo, antes de los 10 años de eduación, la variable nearc2 no es tan fuerte respecto a los años de educación de las personas. Asimismo, se puede apreciar que la mayoría de las personas llegan a los 12 años de educación, independientemente de si la Dummy nearc2 es igual a 0 o igual a 1."
   ]
  },
  {
   "cell_type": "markdown",
   "id": "2e490b0c",
   "metadata": {},
   "source": [
    "<h1> logaritmos de los ingresos<h1>"
   ]
  },
  {
   "cell_type": "code",
   "execution_count": 15,
   "id": "61f43af0",
   "metadata": {},
   "outputs": [
    {
     "data": {
      "text/html": [
       "<div>\n",
       "<style scoped>\n",
       "    .dataframe tbody tr th:only-of-type {\n",
       "        vertical-align: middle;\n",
       "    }\n",
       "\n",
       "    .dataframe tbody tr th {\n",
       "        vertical-align: top;\n",
       "    }\n",
       "\n",
       "    .dataframe thead th {\n",
       "        text-align: right;\n",
       "    }\n",
       "</style>\n",
       "<table border=\"1\" class=\"dataframe\">\n",
       "  <thead>\n",
       "    <tr style=\"text-align: right;\">\n",
       "      <th></th>\n",
       "      <th>lwage</th>\n",
       "      <th>nearc2</th>\n",
       "    </tr>\n",
       "  </thead>\n",
       "  <tbody>\n",
       "    <tr>\n",
       "      <th>0</th>\n",
       "      <td>6.306275</td>\n",
       "      <td>0.0</td>\n",
       "    </tr>\n",
       "    <tr>\n",
       "      <th>1</th>\n",
       "      <td>6.175867</td>\n",
       "      <td>0.0</td>\n",
       "    </tr>\n",
       "    <tr>\n",
       "      <th>2</th>\n",
       "      <td>6.580639</td>\n",
       "      <td>0.0</td>\n",
       "    </tr>\n",
       "    <tr>\n",
       "      <th>3</th>\n",
       "      <td>5.521461</td>\n",
       "      <td>1.0</td>\n",
       "    </tr>\n",
       "    <tr>\n",
       "      <th>4</th>\n",
       "      <td>6.591674</td>\n",
       "      <td>1.0</td>\n",
       "    </tr>\n",
       "    <tr>\n",
       "      <th>...</th>\n",
       "      <td>...</td>\n",
       "      <td>...</td>\n",
       "    </tr>\n",
       "    <tr>\n",
       "      <th>3005</th>\n",
       "      <td>5.814130</td>\n",
       "      <td>0.0</td>\n",
       "    </tr>\n",
       "    <tr>\n",
       "      <th>3006</th>\n",
       "      <td>6.175867</td>\n",
       "      <td>0.0</td>\n",
       "    </tr>\n",
       "    <tr>\n",
       "      <th>3007</th>\n",
       "      <td>6.214608</td>\n",
       "      <td>0.0</td>\n",
       "    </tr>\n",
       "    <tr>\n",
       "      <th>3008</th>\n",
       "      <td>6.569481</td>\n",
       "      <td>0.0</td>\n",
       "    </tr>\n",
       "    <tr>\n",
       "      <th>3009</th>\n",
       "      <td>6.263398</td>\n",
       "      <td>0.0</td>\n",
       "    </tr>\n",
       "  </tbody>\n",
       "</table>\n",
       "<p>3010 rows × 2 columns</p>\n",
       "</div>"
      ],
      "text/plain": [
       "         lwage  nearc2\n",
       "0     6.306275     0.0\n",
       "1     6.175867     0.0\n",
       "2     6.580639     0.0\n",
       "3     5.521461     1.0\n",
       "4     6.591674     1.0\n",
       "...        ...     ...\n",
       "3005  5.814130     0.0\n",
       "3006  6.175867     0.0\n",
       "3007  6.214608     0.0\n",
       "3008  6.569481     0.0\n",
       "3009  6.263398     0.0\n",
       "\n",
       "[3010 rows x 2 columns]"
      ]
     },
     "execution_count": 15,
     "metadata": {},
     "output_type": "execute_result"
    }
   ],
   "source": [
    "#Analizamos la comparacion entre lwage y nearc2\n",
    "card_lwage = card[['lwage','nearc2']]\n",
    "card_lwage"
   ]
  },
  {
   "cell_type": "code",
   "execution_count": 46,
   "id": "d08cea69",
   "metadata": {},
   "outputs": [
    {
     "data": {
      "text/html": [
       "<div>\n",
       "<style scoped>\n",
       "    .dataframe tbody tr th:only-of-type {\n",
       "        vertical-align: middle;\n",
       "    }\n",
       "\n",
       "    .dataframe tbody tr th {\n",
       "        vertical-align: top;\n",
       "    }\n",
       "\n",
       "    .dataframe thead th {\n",
       "        text-align: right;\n",
       "    }\n",
       "</style>\n",
       "<table border=\"1\" class=\"dataframe\">\n",
       "  <thead>\n",
       "    <tr style=\"text-align: right;\">\n",
       "      <th></th>\n",
       "      <th>lwage</th>\n",
       "      <th>nearc2</th>\n",
       "      <th>caracterNearc2</th>\n",
       "    </tr>\n",
       "  </thead>\n",
       "  <tbody>\n",
       "    <tr>\n",
       "      <th>0</th>\n",
       "      <td>6.306275</td>\n",
       "      <td>0.0</td>\n",
       "      <td>N_school</td>\n",
       "    </tr>\n",
       "    <tr>\n",
       "      <th>1</th>\n",
       "      <td>6.175867</td>\n",
       "      <td>0.0</td>\n",
       "      <td>N_school</td>\n",
       "    </tr>\n",
       "    <tr>\n",
       "      <th>2</th>\n",
       "      <td>6.580639</td>\n",
       "      <td>0.0</td>\n",
       "      <td>N_school</td>\n",
       "    </tr>\n",
       "    <tr>\n",
       "      <th>3</th>\n",
       "      <td>5.521461</td>\n",
       "      <td>1.0</td>\n",
       "      <td>school</td>\n",
       "    </tr>\n",
       "    <tr>\n",
       "      <th>4</th>\n",
       "      <td>6.591674</td>\n",
       "      <td>1.0</td>\n",
       "      <td>school</td>\n",
       "    </tr>\n",
       "    <tr>\n",
       "      <th>...</th>\n",
       "      <td>...</td>\n",
       "      <td>...</td>\n",
       "      <td>...</td>\n",
       "    </tr>\n",
       "    <tr>\n",
       "      <th>3005</th>\n",
       "      <td>5.814130</td>\n",
       "      <td>0.0</td>\n",
       "      <td>N_school</td>\n",
       "    </tr>\n",
       "    <tr>\n",
       "      <th>3006</th>\n",
       "      <td>6.175867</td>\n",
       "      <td>0.0</td>\n",
       "      <td>N_school</td>\n",
       "    </tr>\n",
       "    <tr>\n",
       "      <th>3007</th>\n",
       "      <td>6.214608</td>\n",
       "      <td>0.0</td>\n",
       "      <td>N_school</td>\n",
       "    </tr>\n",
       "    <tr>\n",
       "      <th>3008</th>\n",
       "      <td>6.569481</td>\n",
       "      <td>0.0</td>\n",
       "      <td>N_school</td>\n",
       "    </tr>\n",
       "    <tr>\n",
       "      <th>3009</th>\n",
       "      <td>6.263398</td>\n",
       "      <td>0.0</td>\n",
       "      <td>N_school</td>\n",
       "    </tr>\n",
       "  </tbody>\n",
       "</table>\n",
       "<p>3010 rows × 3 columns</p>\n",
       "</div>"
      ],
      "text/plain": [
       "         lwage  nearc2 caracterNearc2\n",
       "0     6.306275     0.0       N_school\n",
       "1     6.175867     0.0       N_school\n",
       "2     6.580639     0.0       N_school\n",
       "3     5.521461     1.0         school\n",
       "4     6.591674     1.0         school\n",
       "...        ...     ...            ...\n",
       "3005  5.814130     0.0       N_school\n",
       "3006  6.175867     0.0       N_school\n",
       "3007  6.214608     0.0       N_school\n",
       "3008  6.569481     0.0       N_school\n",
       "3009  6.263398     0.0       N_school\n",
       "\n",
       "[3010 rows x 3 columns]"
      ]
     },
     "execution_count": 46,
     "metadata": {},
     "output_type": "execute_result"
    }
   ],
   "source": [
    "#estructura de agrupacion variables nearc2_char para los school y N_school\"\n",
    "\n",
    "card_lwage2 = (card_lwage\n",
    " .assign(caracterNearc2 = np.select(\n",
    "     [card_lwage[\"nearc2\"].astype(bool), card_lwage[\"lwage\"].astype(bool)],\n",
    "     [\"school\", \"N_school\"]\n",
    " ))) \n",
    "card_lwage2"
   ]
  },
  {
   "cell_type": "code",
   "execution_count": 47,
   "id": "d6526a8b",
   "metadata": {},
   "outputs": [
    {
     "data": {
      "text/html": [
       "<div>\n",
       "<style scoped>\n",
       "    .dataframe tbody tr th:only-of-type {\n",
       "        vertical-align: middle;\n",
       "    }\n",
       "\n",
       "    .dataframe tbody tr th {\n",
       "        vertical-align: top;\n",
       "    }\n",
       "\n",
       "    .dataframe thead th {\n",
       "        text-align: right;\n",
       "    }\n",
       "</style>\n",
       "<table border=\"1\" class=\"dataframe\">\n",
       "  <thead>\n",
       "    <tr style=\"text-align: right;\">\n",
       "      <th></th>\n",
       "      <th>lwage</th>\n",
       "      <th>caracterNearc2</th>\n",
       "    </tr>\n",
       "  </thead>\n",
       "  <tbody>\n",
       "    <tr>\n",
       "      <th>0</th>\n",
       "      <td>6.306275</td>\n",
       "      <td>N_school</td>\n",
       "    </tr>\n",
       "    <tr>\n",
       "      <th>1</th>\n",
       "      <td>6.175867</td>\n",
       "      <td>N_school</td>\n",
       "    </tr>\n",
       "    <tr>\n",
       "      <th>2</th>\n",
       "      <td>6.580639</td>\n",
       "      <td>N_school</td>\n",
       "    </tr>\n",
       "    <tr>\n",
       "      <th>3</th>\n",
       "      <td>5.521461</td>\n",
       "      <td>school</td>\n",
       "    </tr>\n",
       "    <tr>\n",
       "      <th>4</th>\n",
       "      <td>6.591674</td>\n",
       "      <td>school</td>\n",
       "    </tr>\n",
       "    <tr>\n",
       "      <th>...</th>\n",
       "      <td>...</td>\n",
       "      <td>...</td>\n",
       "    </tr>\n",
       "    <tr>\n",
       "      <th>3005</th>\n",
       "      <td>5.814130</td>\n",
       "      <td>N_school</td>\n",
       "    </tr>\n",
       "    <tr>\n",
       "      <th>3006</th>\n",
       "      <td>6.175867</td>\n",
       "      <td>N_school</td>\n",
       "    </tr>\n",
       "    <tr>\n",
       "      <th>3007</th>\n",
       "      <td>6.214608</td>\n",
       "      <td>N_school</td>\n",
       "    </tr>\n",
       "    <tr>\n",
       "      <th>3008</th>\n",
       "      <td>6.569481</td>\n",
       "      <td>N_school</td>\n",
       "    </tr>\n",
       "    <tr>\n",
       "      <th>3009</th>\n",
       "      <td>6.263398</td>\n",
       "      <td>N_school</td>\n",
       "    </tr>\n",
       "  </tbody>\n",
       "</table>\n",
       "<p>3010 rows × 2 columns</p>\n",
       "</div>"
      ],
      "text/plain": [
       "         lwage caracterNearc2\n",
       "0     6.306275       N_school\n",
       "1     6.175867       N_school\n",
       "2     6.580639       N_school\n",
       "3     5.521461         school\n",
       "4     6.591674         school\n",
       "...        ...            ...\n",
       "3005  5.814130       N_school\n",
       "3006  6.175867       N_school\n",
       "3007  6.214608       N_school\n",
       "3008  6.569481       N_school\n",
       "3009  6.263398       N_school\n",
       "\n",
       "[3010 rows x 2 columns]"
      ]
     },
     "execution_count": 47,
     "metadata": {},
     "output_type": "execute_result"
    }
   ],
   "source": [
    "#agrupacion entre nearc2_char y lwage\n",
    "card_lwage3 = card_lwage2[['lwage','caracterNearc2']]\n",
    "card_lwage3"
   ]
  },
  {
   "cell_type": "markdown",
   "id": "af71517f",
   "metadata": {},
   "source": [
    "<h1> Grafique dos histogramas para la variable logaritmos de los ingresos lwage para cuando nearc2 == 1, y cuando nearc2 == 0. Compare y describa los patrones que encuentra.<h1>"
   ]
  },
  {
   "cell_type": "markdown",
   "id": "4db0059d",
   "metadata": {},
   "source": [
    "**cuando nearc2==0**"
   ]
  },
  {
   "cell_type": "code",
   "execution_count": 48,
   "id": "c44f11a4",
   "metadata": {},
   "outputs": [
    {
     "data": {
      "text/html": [
       "<div>\n",
       "<style scoped>\n",
       "    .dataframe tbody tr th:only-of-type {\n",
       "        vertical-align: middle;\n",
       "    }\n",
       "\n",
       "    .dataframe tbody tr th {\n",
       "        vertical-align: top;\n",
       "    }\n",
       "\n",
       "    .dataframe thead th {\n",
       "        text-align: right;\n",
       "    }\n",
       "</style>\n",
       "<table border=\"1\" class=\"dataframe\">\n",
       "  <thead>\n",
       "    <tr style=\"text-align: right;\">\n",
       "      <th></th>\n",
       "      <th>lwage</th>\n",
       "      <th>caracterNearc2</th>\n",
       "    </tr>\n",
       "  </thead>\n",
       "  <tbody>\n",
       "    <tr>\n",
       "      <th>0</th>\n",
       "      <td>6.306275</td>\n",
       "      <td>N_school</td>\n",
       "    </tr>\n",
       "    <tr>\n",
       "      <th>1</th>\n",
       "      <td>6.175867</td>\n",
       "      <td>N_school</td>\n",
       "    </tr>\n",
       "    <tr>\n",
       "      <th>2</th>\n",
       "      <td>6.580639</td>\n",
       "      <td>N_school</td>\n",
       "    </tr>\n",
       "    <tr>\n",
       "      <th>23</th>\n",
       "      <td>6.403574</td>\n",
       "      <td>N_school</td>\n",
       "    </tr>\n",
       "    <tr>\n",
       "      <th>24</th>\n",
       "      <td>6.541030</td>\n",
       "      <td>N_school</td>\n",
       "    </tr>\n",
       "    <tr>\n",
       "      <th>...</th>\n",
       "      <td>...</td>\n",
       "      <td>...</td>\n",
       "    </tr>\n",
       "    <tr>\n",
       "      <th>3005</th>\n",
       "      <td>5.814130</td>\n",
       "      <td>N_school</td>\n",
       "    </tr>\n",
       "    <tr>\n",
       "      <th>3006</th>\n",
       "      <td>6.175867</td>\n",
       "      <td>N_school</td>\n",
       "    </tr>\n",
       "    <tr>\n",
       "      <th>3007</th>\n",
       "      <td>6.214608</td>\n",
       "      <td>N_school</td>\n",
       "    </tr>\n",
       "    <tr>\n",
       "      <th>3008</th>\n",
       "      <td>6.569481</td>\n",
       "      <td>N_school</td>\n",
       "    </tr>\n",
       "    <tr>\n",
       "      <th>3009</th>\n",
       "      <td>6.263398</td>\n",
       "      <td>N_school</td>\n",
       "    </tr>\n",
       "  </tbody>\n",
       "</table>\n",
       "<p>1683 rows × 2 columns</p>\n",
       "</div>"
      ],
      "text/plain": [
       "         lwage caracterNearc2\n",
       "0     6.306275       N_school\n",
       "1     6.175867       N_school\n",
       "2     6.580639       N_school\n",
       "23    6.403574       N_school\n",
       "24    6.541030       N_school\n",
       "...        ...            ...\n",
       "3005  5.814130       N_school\n",
       "3006  6.175867       N_school\n",
       "3007  6.214608       N_school\n",
       "3008  6.569481       N_school\n",
       "3009  6.263398       N_school\n",
       "\n",
       "[1683 rows x 2 columns]"
      ]
     },
     "execution_count": 48,
     "metadata": {},
     "output_type": "execute_result"
    }
   ],
   "source": [
    "Groups = [\"N_school\"]\n",
    "COMP3 = card_lwage3[card_lwage3['caracterNearc2'].isin(Groups)]\n",
    "COMP3"
   ]
  },
  {
   "cell_type": "code",
   "execution_count": 49,
   "id": "32e0ffb3",
   "metadata": {},
   "outputs": [
    {
     "data": {
      "text/plain": [
       "<seaborn.axisgrid.FacetGrid at 0x215bc4fdf40>"
      ]
     },
     "execution_count": 49,
     "metadata": {},
     "output_type": "execute_result"
    },
    {
     "data": {
      "image/png": "[encoded data removed]",
      "text/plain": [
       "<Figure size 445x360 with 1 Axes>"
      ]
     },
     "metadata": {
      "needs_background": "light"
     },
     "output_type": "display_data"
    }
   ],
   "source": [
    "sns.displot(COMP3, x=\"lwage\", hue= \"caracterNearc2\")"
   ]
  },
  {
   "cell_type": "markdown",
   "id": "72c34034",
   "metadata": {},
   "source": [
    "**cuando nearc2==1**"
   ]
  },
  {
   "cell_type": "code",
   "execution_count": 50,
   "id": "a7245e90",
   "metadata": {},
   "outputs": [
    {
     "data": {
      "text/html": [
       "<div>\n",
       "<style scoped>\n",
       "    .dataframe tbody tr th:only-of-type {\n",
       "        vertical-align: middle;\n",
       "    }\n",
       "\n",
       "    .dataframe tbody tr th {\n",
       "        vertical-align: top;\n",
       "    }\n",
       "\n",
       "    .dataframe thead th {\n",
       "        text-align: right;\n",
       "    }\n",
       "</style>\n",
       "<table border=\"1\" class=\"dataframe\">\n",
       "  <thead>\n",
       "    <tr style=\"text-align: right;\">\n",
       "      <th></th>\n",
       "      <th>lwage</th>\n",
       "      <th>caracterNearc2</th>\n",
       "    </tr>\n",
       "  </thead>\n",
       "  <tbody>\n",
       "    <tr>\n",
       "      <th>3</th>\n",
       "      <td>5.521461</td>\n",
       "      <td>school</td>\n",
       "    </tr>\n",
       "    <tr>\n",
       "      <th>4</th>\n",
       "      <td>6.591674</td>\n",
       "      <td>school</td>\n",
       "    </tr>\n",
       "    <tr>\n",
       "      <th>5</th>\n",
       "      <td>6.214608</td>\n",
       "      <td>school</td>\n",
       "    </tr>\n",
       "    <tr>\n",
       "      <th>6</th>\n",
       "      <td>6.336826</td>\n",
       "      <td>school</td>\n",
       "    </tr>\n",
       "    <tr>\n",
       "      <th>7</th>\n",
       "      <td>6.410175</td>\n",
       "      <td>school</td>\n",
       "    </tr>\n",
       "    <tr>\n",
       "      <th>...</th>\n",
       "      <td>...</td>\n",
       "      <td>...</td>\n",
       "    </tr>\n",
       "    <tr>\n",
       "      <th>2899</th>\n",
       "      <td>5.669881</td>\n",
       "      <td>school</td>\n",
       "    </tr>\n",
       "    <tr>\n",
       "      <th>2900</th>\n",
       "      <td>5.521461</td>\n",
       "      <td>school</td>\n",
       "    </tr>\n",
       "    <tr>\n",
       "      <th>2901</th>\n",
       "      <td>6.725034</td>\n",
       "      <td>school</td>\n",
       "    </tr>\n",
       "    <tr>\n",
       "      <th>2902</th>\n",
       "      <td>6.075346</td>\n",
       "      <td>school</td>\n",
       "    </tr>\n",
       "    <tr>\n",
       "      <th>2903</th>\n",
       "      <td>5.808143</td>\n",
       "      <td>school</td>\n",
       "    </tr>\n",
       "  </tbody>\n",
       "</table>\n",
       "<p>1327 rows × 2 columns</p>\n",
       "</div>"
      ],
      "text/plain": [
       "         lwage caracterNearc2\n",
       "3     5.521461         school\n",
       "4     6.591674         school\n",
       "5     6.214608         school\n",
       "6     6.336826         school\n",
       "7     6.410175         school\n",
       "...        ...            ...\n",
       "2899  5.669881         school\n",
       "2900  5.521461         school\n",
       "2901  6.725034         school\n",
       "2902  6.075346         school\n",
       "2903  5.808143         school\n",
       "\n",
       "[1327 rows x 2 columns]"
      ]
     },
     "execution_count": 50,
     "metadata": {},
     "output_type": "execute_result"
    }
   ],
   "source": [
    "Groups = [\"school\"]\n",
    "COMP4 = card_lwage3[card_lwage3['caracterNearc2'].isin(Groups)]\n",
    "COMP4"
   ]
  },
  {
   "cell_type": "code",
   "execution_count": 51,
   "id": "f3c2ce2b",
   "metadata": {},
   "outputs": [
    {
     "data": {
      "text/plain": [
       "<seaborn.axisgrid.FacetGrid at 0x215bc517040>"
      ]
     },
     "execution_count": 51,
     "metadata": {},
     "output_type": "execute_result"
    },
    {
     "data": {
      "image/png": "[encoded data removed]",
      "text/plain": [
       "<Figure size 445x360 with 1 Axes>"
      ]
     },
     "metadata": {
      "needs_background": "light"
     },
     "output_type": "display_data"
    }
   ],
   "source": [
    "sns.displot(COMP4, x=\"lwage\", hue= \"caracterNearc2\")"
   ]
  },
  {
   "cell_type": "markdown",
   "id": "fa3eb3db",
   "metadata": {},
   "source": [
    "**Conclusion**"
   ]
  },
  {
   "cell_type": "markdown",
   "id": "e7ca5211",
   "metadata": {},
   "source": [
    "* En los histogramas se puede ver que cuando nearc2 es igual a 1, la cantidad de personas que tienen un salario alto es más del doble, respecto a cuando nearc2 es igual a 0. Además, mientras el salario aumenta cada vez más, la cantidad de personas cuando nearc2 es igual a 0 es casi 0. Asimismo, se puede ver una distribución más pareja a las personas con nearc2 igual a 0; por otro lado, cuando nearc2 es igual a 1, la distribución de la cantidad de personas es más dispareja, hay una mayor concentración en la mitad de la tabla, cuando el logaritmo del salario es igual a 6.5"
   ]
  },
  {
   "cell_type": "markdown",
   "id": "c74bf1f7",
   "metadata": {},
   "source": [
    "<h1> Regresiones <h1>"
   ]
  },
  {
   "cell_type": "markdown",
   "id": "6f533309",
   "metadata": {},
   "source": [
    "* **Corran una regresion lineal del tipo \"lwage ~ educ + exper + black + south + married + smsa\", y expliquen los resultados que encuentran.**"
   ]
  },
  {
   "cell_type": "code",
   "execution_count": 37,
   "id": "38f14bae",
   "metadata": {},
   "outputs": [
    {
     "data": {
      "text/html": [
       "<table class=\"simpletable\">\n",
       "<caption>OLS Regression Results</caption>\n",
       "<tr>\n",
       "  <th>Dep. Variable:</th>          <td>lwage</td>      <th>  R-squared:         </th> <td>   0.305</td> \n",
       "</tr>\n",
       "<tr>\n",
       "  <th>Model:</th>                   <td>OLS</td>       <th>  Adj. R-squared:    </th> <td>   0.303</td> \n",
       "</tr>\n",
       "<tr>\n",
       "  <th>Method:</th>             <td>Least Squares</td>  <th>  F-statistic:       </th> <td>   219.1</td> \n",
       "</tr>\n",
       "<tr>\n",
       "  <th>Date:</th>             <td>Fri, 09 Dec 2022</td> <th>  Prob (F-statistic):</th> <td>1.69e-232</td>\n",
       "</tr>\n",
       "<tr>\n",
       "  <th>Time:</th>                 <td>16:35:23</td>     <th>  Log-Likelihood:    </th> <td> -1278.7</td> \n",
       "</tr>\n",
       "<tr>\n",
       "  <th>No. Observations:</th>      <td>  3010</td>      <th>  AIC:               </th> <td>   2571.</td> \n",
       "</tr>\n",
       "<tr>\n",
       "  <th>Df Residuals:</th>          <td>  3003</td>      <th>  BIC:               </th> <td>   2613.</td> \n",
       "</tr>\n",
       "<tr>\n",
       "  <th>Df Model:</th>              <td>     6</td>      <th>                     </th>     <td> </td>    \n",
       "</tr>\n",
       "<tr>\n",
       "  <th>Covariance Type:</th>      <td>nonrobust</td>    <th>                     </th>     <td> </td>    \n",
       "</tr>\n",
       "</table>\n",
       "<table class=\"simpletable\">\n",
       "<tr>\n",
       "      <td></td>         <th>coef</th>     <th>std err</th>      <th>t</th>      <th>P>|t|</th>  <th>[0.025</th>    <th>0.975]</th>  \n",
       "</tr>\n",
       "<tr>\n",
       "  <th>Intercept</th> <td>    5.0642</td> <td>    0.064</td> <td>   79.594</td> <td> 0.000</td> <td>    4.939</td> <td>    5.189</td>\n",
       "</tr>\n",
       "<tr>\n",
       "  <th>educ</th>      <td>    0.0711</td> <td>    0.003</td> <td>   20.439</td> <td> 0.000</td> <td>    0.064</td> <td>    0.078</td>\n",
       "</tr>\n",
       "<tr>\n",
       "  <th>exper</th>     <td>    0.0342</td> <td>    0.002</td> <td>   15.459</td> <td> 0.000</td> <td>    0.030</td> <td>    0.039</td>\n",
       "</tr>\n",
       "<tr>\n",
       "  <th>black</th>     <td>   -0.1654</td> <td>    0.018</td> <td>   -9.408</td> <td> 0.000</td> <td>   -0.200</td> <td>   -0.131</td>\n",
       "</tr>\n",
       "<tr>\n",
       "  <th>south</th>     <td>   -0.1325</td> <td>    0.015</td> <td>   -8.855</td> <td> 0.000</td> <td>   -0.162</td> <td>   -0.103</td>\n",
       "</tr>\n",
       "<tr>\n",
       "  <th>married</th>   <td>   -0.0358</td> <td>    0.003</td> <td>  -10.542</td> <td> 0.000</td> <td>   -0.042</td> <td>   -0.029</td>\n",
       "</tr>\n",
       "<tr>\n",
       "  <th>smsa</th>      <td>    0.1751</td> <td>    0.015</td> <td>   11.338</td> <td> 0.000</td> <td>    0.145</td> <td>    0.205</td>\n",
       "</tr>\n",
       "</table>\n",
       "<table class=\"simpletable\">\n",
       "<tr>\n",
       "  <th>Omnibus:</th>       <td>52.534</td> <th>  Durbin-Watson:     </th> <td>   1.853</td>\n",
       "</tr>\n",
       "<tr>\n",
       "  <th>Prob(Omnibus):</th> <td> 0.000</td> <th>  Jarque-Bera (JB):  </th> <td>  68.142</td>\n",
       "</tr>\n",
       "<tr>\n",
       "  <th>Skew:</th>          <td>-0.231</td> <th>  Prob(JB):          </th> <td>1.60e-15</td>\n",
       "</tr>\n",
       "<tr>\n",
       "  <th>Kurtosis:</th>      <td> 3.575</td> <th>  Cond. No.          </th> <td>    154.</td>\n",
       "</tr>\n",
       "</table><br/><br/>Notes:<br/>[1] Standard Errors assume that the covariance matrix of the errors is correctly specified."
      ],
      "text/plain": [
       "<class 'statsmodels.iolib.summary.Summary'>\n",
       "\"\"\"\n",
       "                            OLS Regression Results                            \n",
       "==============================================================================\n",
       "Dep. Variable:                  lwage   R-squared:                       0.305\n",
       "Model:                            OLS   Adj. R-squared:                  0.303\n",
       "Method:                 Least Squares   F-statistic:                     219.1\n",
       "Date:                Fri, 09 Dec 2022   Prob (F-statistic):          1.69e-232\n",
       "Time:                        16:35:23   Log-Likelihood:                -1278.7\n",
       "No. Observations:                3010   AIC:                             2571.\n",
       "Df Residuals:                    3003   BIC:                             2613.\n",
       "Df Model:                           6                                         \n",
       "Covariance Type:            nonrobust                                         \n",
       "==============================================================================\n",
       "                 coef    std err          t      P>|t|      [0.025      0.975]\n",
       "------------------------------------------------------------------------------\n",
       "Intercept      5.0642      0.064     79.594      0.000       4.939       5.189\n",
       "educ           0.0711      0.003     20.439      0.000       0.064       0.078\n",
       "exper          0.0342      0.002     15.459      0.000       0.030       0.039\n",
       "black         -0.1654      0.018     -9.408      0.000      -0.200      -0.131\n",
       "south         -0.1325      0.015     -8.855      0.000      -0.162      -0.103\n",
       "married       -0.0358      0.003    -10.542      0.000      -0.042      -0.029\n",
       "smsa           0.1751      0.015     11.338      0.000       0.145       0.205\n",
       "==============================================================================\n",
       "Omnibus:                       52.534   Durbin-Watson:                   1.853\n",
       "Prob(Omnibus):                  0.000   Jarque-Bera (JB):               68.142\n",
       "Skew:                          -0.231   Prob(JB):                     1.60e-15\n",
       "Kurtosis:                       3.575   Cond. No.                         154.\n",
       "==============================================================================\n",
       "\n",
       "Notes:\n",
       "[1] Standard Errors assume that the covariance matrix of the errors is correctly specified.\n",
       "\"\"\""
      ]
     },
     "execution_count": 37,
     "metadata": {},
     "output_type": "execute_result"
    }
   ],
   "source": [
    "#OLS\n",
    "ols_reg = sm.OLS.from_formula(\"lwage ~ educ + exper + black + south + married + smsa\", \n",
    "              data = card).fit()\n",
    "\n",
    "ols_reg.summary()"
   ]
  },
  {
   "cell_type": "markdown",
   "id": "7bac87f0",
   "metadata": {},
   "source": [
    "**Conclusion**"
   ]
  },
  {
   "cell_type": "markdown",
   "id": "b2d11125",
   "metadata": {},
   "source": [
    "* La variable endógena “logaritmo del salario” es regresionada con las variables educ, exp, black, sur, married, smsa. Esta regresión muestra que el intercepto de la variable “logaritmo del salario” es 5.06 unidades logarítmicas. Asimismo, las variables educ, exper y smsa tienen coeficiente positivo, por lo que mientras mayor sean estas variables o la Dummy sea 1, el intercepto aumentará. Mientras que para las demás variables, su coeficiente es negativo."
   ]
  },
  {
   "cell_type": "markdown",
   "id": "8904eadb",
   "metadata": {},
   "source": [
    "* **Corran una regresion de tipo IV(usando el paquete IV2SLS) donde van a instrumentalizar la variable educ con nearc2. Compare los resultados encontrados usando IV2SLS con la primera regresión. ¿Cambió el coeficiente relacionado a educ , por qué?**"
   ]
  },
  {
   "cell_type": "code",
   "execution_count": 38,
   "id": "5c4ecec1",
   "metadata": {},
   "outputs": [],
   "source": [
    "# There are null values in the dataset, we will fill them with 0\n",
    "card['married'] = card['married'].fillna(0)"
   ]
  },
  {
   "cell_type": "code",
   "execution_count": 39,
   "id": "1b0c567e",
   "metadata": {},
   "outputs": [
    {
     "data": {
      "text/html": [
       "<table class=\"simpletable\">\n",
       "<caption>IV-2SLS Estimation Summary</caption>\n",
       "<tr>\n",
       "  <th>Dep. Variable:</th>          <td>lwage</td>      <th>  R-squared:         </th> <td>-1.3114</td>\n",
       "</tr>\n",
       "<tr>\n",
       "  <th>Estimator:</th>             <td>IV-2SLS</td>     <th>  Adj. R-squared:    </th> <td>-1.3160</td>\n",
       "</tr>\n",
       "<tr>\n",
       "  <th>No. Observations:</th>       <td>3010</td>       <th>  F-statistic:       </th> <td>289.62</td> \n",
       "</tr>\n",
       "<tr>\n",
       "  <th>Date:</th>             <td>Fri, Dec 09 2022</td> <th>  P-value (F-stat)   </th> <td>0.0000</td> \n",
       "</tr>\n",
       "<tr>\n",
       "  <th>Time:</th>                 <td>16:35:28</td>     <th>  Distribution:      </th> <td>chi2(6)</td>\n",
       "</tr>\n",
       "<tr>\n",
       "  <th>Cov. Estimator:</th>        <td>robust</td>      <th>                     </th>    <td></td>    \n",
       "</tr>\n",
       "<tr>\n",
       "  <th></th>                          <td></td>         <th>                     </th>    <td></td>    \n",
       "</tr>\n",
       "</table>\n",
       "<table class=\"simpletable\">\n",
       "<caption>Parameter Estimates</caption>\n",
       "<tr>\n",
       "      <td></td>      <th>Parameter</th> <th>Std. Err.</th> <th>T-stat</th>  <th>P-value</th> <th>Lower CI</th> <th>Upper CI</th>\n",
       "</tr>\n",
       "<tr>\n",
       "  <th>Intercept</th>  <td>0.1276</td>    <td>3.1412</td>   <td>0.0406</td>  <td>0.9676</td>   <td>-6.0290</td>  <td>6.2843</td> \n",
       "</tr>\n",
       "<tr>\n",
       "  <th>black</th>      <td>0.1134</td>    <td>0.1816</td>   <td>0.6244</td>  <td>0.5324</td>   <td>-0.2425</td>  <td>0.4692</td> \n",
       "</tr>\n",
       "<tr>\n",
       "  <th>exper</th>      <td>0.1515</td>    <td>0.0747</td>   <td>2.0274</td>  <td>0.0426</td>   <td>0.0050</td>   <td>0.2980</td> \n",
       "</tr>\n",
       "<tr>\n",
       "  <th>married</th>    <td>-0.0151</td>   <td>0.0147</td>   <td>-1.0258</td> <td>0.3050</td>   <td>-0.0438</td>  <td>0.0137</td> \n",
       "</tr>\n",
       "<tr>\n",
       "  <th>smsa</th>       <td>0.0201</td>    <td>0.1030</td>   <td>0.1949</td>  <td>0.8455</td>   <td>-0.1819</td>  <td>0.2220</td> \n",
       "</tr>\n",
       "<tr>\n",
       "  <th>south</th>      <td>-0.0319</td>   <td>0.0692</td>   <td>-0.4603</td> <td>0.6453</td>   <td>-0.1675</td>  <td>0.1038</td> \n",
       "</tr>\n",
       "<tr>\n",
       "  <th>educ</th>       <td>0.3618</td>    <td>0.1849</td>   <td>1.9562</td>  <td>0.0504</td>   <td>-0.0007</td>  <td>0.7243</td> \n",
       "</tr>\n",
       "</table><br/><br/>Endogenous: educ<br/>Instruments: nearc2<br/>Robust Covariance (Heteroskedastic)<br/>Debiased: False"
      ],
      "text/plain": [
       "<class 'linearmodels.compat.statsmodels.Summary'>\n",
       "\"\"\"\n",
       "                          IV-2SLS Estimation Summary                          \n",
       "==============================================================================\n",
       "Dep. Variable:                  lwage   R-squared:                     -1.3114\n",
       "Estimator:                    IV-2SLS   Adj. R-squared:                -1.3160\n",
       "No. Observations:                3010   F-statistic:                    289.62\n",
       "Date:                Fri, Dec 09 2022   P-value (F-stat)                0.0000\n",
       "Time:                        16:35:28   Distribution:                  chi2(6)\n",
       "Cov. Estimator:                robust                                         \n",
       "                                                                              \n",
       "                             Parameter Estimates                              \n",
       "==============================================================================\n",
       "            Parameter  Std. Err.     T-stat    P-value    Lower CI    Upper CI\n",
       "------------------------------------------------------------------------------\n",
       "Intercept      0.1276     3.1412     0.0406     0.9676     -6.0290      6.2843\n",
       "black          0.1134     0.1816     0.6244     0.5324     -0.2425      0.4692\n",
       "exper          0.1515     0.0747     2.0274     0.0426      0.0050      0.2980\n",
       "married       -0.0151     0.0147    -1.0258     0.3050     -0.0438      0.0137\n",
       "smsa           0.0201     0.1030     0.1949     0.8455     -0.1819      0.2220\n",
       "south         -0.0319     0.0692    -0.4603     0.6453     -0.1675      0.1038\n",
       "educ           0.3618     0.1849     1.9562     0.0504     -0.0007      0.7243\n",
       "==============================================================================\n",
       "\n",
       "Endogenous: educ\n",
       "Instruments: nearc2\n",
       "Robust Covariance (Heteroskedastic)\n",
       "Debiased: False\n",
       "\"\"\""
      ]
     },
     "execution_count": 39,
     "metadata": {},
     "output_type": "execute_result"
    }
   ],
   "source": [
    "#2SLS\n",
    "iv_reg = IV2SLS.from_formula(\"lwage ~  1 + exper + black + south + married + smsa + [educ ~ nearc2]\", card).fit()\n",
    "iv_reg.summary"
   ]
  },
  {
   "cell_type": "markdown",
   "id": "d0fe0963",
   "metadata": {},
   "source": [
    "**Conclusion**"
   ]
  },
  {
   "cell_type": "markdown",
   "id": "bd3042b4",
   "metadata": {},
   "source": [
    "* La primera regresión respecto a la segunda, donde se ha colocado a nearc4 como instrumento en lugar de nearc2, se puede apreciar que ha disminuido 4 veces aproximadamente el intercepto. Asimismo, algunos coeficientes de las variables exógenas cambian de positivo a negativo o viceversa, como “black”.\n",
    "\n",
    "* El coeficiente de la variable educ se triplicó aproximadamente, pasando de 0.1279 a 0.3618. lo que quiere decir que la variable educ se hace más relevante en la segunda regresión. Es decir que por un año más de educación, el aumento del salario será mayor, en comparación con la primera regresión.\n",
    "\n",
    "* El P-value no es significativo, pues es mayor que 0.05."
   ]
  },
  {
   "cell_type": "code",
   "execution_count": null,
   "id": "242cb5de",
   "metadata": {},
   "outputs": [],
   "source": []
  }
 ],
 "metadata": {
  "kernelspec": {
   "display_name": "Python 3 (ipykernel)",
   "language": "python",
   "name": "python3"
  },
  "language_info": {
   "codemirror_mode": {
    "name": "ipython",
    "version": 3
   },
   "file_extension": ".py",
   "mimetype": "text/x-python",
   "name": "python",
   "nbconvert_exporter": "python",
   "pygments_lexer": "ipython3",
   "version": "3.9.7"
  }
 },
 "nbformat": 4,
 "nbformat_minor": 5
}
