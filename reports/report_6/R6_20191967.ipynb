{
 "cells": [
  {
   "cell_type": "markdown",
   "id": "806c8d04",
   "metadata": {},
   "source": [
    "## **Reporte 6**\n",
    "\n",
    "1. ¿Cuál es la pregunta de investigación del artículo?\n",
    "\n",
    "La pregunta de investigación presentada por el artículo es ¿pueden las comunicaciones dirigidas y personalizadas, que reformulan pero no aumentan la ayuda financiera, alterar las decisiones universitarias de los estudiantes de bajos ingresos?, tal como lo sugiere la siguiente cita: \"We use a randomized, controlled trial to test whether targeted, personalized communications, which reframe but do not increase financial aid, can alter the college decisions of low-income students\".\n",
    "\n",
    "2. ¿Cuáles son las fortalezas y debilidades del enfoque del documento para responder a esa pregunta?\n",
    "\n",
    "Una de las fortalezas del artículo es su enfoque metodológico (en gran medida cuantitativo), pues mediante la intervención de las comunicaciones dirigidas a los estudiantes se logró obtener resultados estadísticos que permiten un mayor entendimiento del efecto real sobre las decisiones de los estudiantes al momento de aplicar a las instituciones de educación superior. Sin embargo, una de las debilidades podría ser la poca representatividad de estos datos estadísticos, ya que fueron obtenidos a partir de una investigación enfocada a un número reducido de universidades en un solo estado (Michigan). De esta manera, se podría argumentar que, si bien las conclusiones plantean que una intervención de bajo costo puede afectar siginificativamente la aplicación de estudiantes a universidades selectivas, también es cierto que estas fueron determinadas a partir del caso de una ubiversidad, y que esta modificación en los patrones de comportamiento de los estudiantes podría no repetirse en otros contextos, universidades o estados.\n",
    "\n",
    "3. ¿Cómo avanza este documento el conocimiento sobre la pregunta, es decir, cuál es la contribución? (Si no puede encontrar ninguna contribución, pregúntese por qué el editor y los árbitros decidieron publicar el artículo).\n",
    "\n",
    "Como se mencionó en la anterior respuesta, el artículo contribuye a la pregunta al determinar que la intervención de bajo costo puede afectar en gran medida la solicitud y la inscripción de los estudiantes en las universidades seleccionadas. Además, la intervención alejó a los estudiantes de las universidades de dos años y menos selectivas de cuatro años. Así, redujo la brecha de asistir a una institución considerada “selectiva” o superior, y eliminó la brecha de ingresos para asistir a una institución considerada “muy selectiva” o superior.\n",
    "\n",
    "4. ¿Cuáles serían uno o dos próximos pasos específicos para avanzar en esta pregunta? (Lean otros artículos relacionados)\n",
    "\n",
    "Un paso siguiente para el avance de esta pregunta sería investigar si la intervención en las comunicaciones para los estudiantes afectará también su retención en la universidad. A este respecto, Sánchez et al determinan que son otros factores, y no el económico, los que determinan el grado de retención de los estudiantes universitarios.\n",
    "\n",
    "Bibliografía:\n",
    "\n",
    "Closing the Gap: The Effect of a Targeted, Tuition-Free Promise on College Choices of High-Achieving, Low-Income Students\n",
    "Susan Dynarski, C.J. Libassi, Katherine Michelmore, and Stephanie Owen\n",
    "\n",
    "Factores sociodemográficos que inciden en la retención de ingresantes a la universidad: un estudio exploratorio en la Licenciatura en Psicología de la Universidad Nacional de Córdoba (UNC)\n",
    "Revista Educación, vol. 46, núm. 2, pp. 1-27, 2022\n",
    "Universidad de Costa Rica"
   ]
  },
  {
   "cell_type": "code",
   "execution_count": null,
   "id": "8a886203",
   "metadata": {},
   "outputs": [],
   "source": []
  }
 ],
 "metadata": {
  "kernelspec": {
   "display_name": "Python 3 (ipykernel)",
   "language": "python",
   "name": "python3"
  },
  "language_info": {
   "codemirror_mode": {
    "name": "ipython",
    "version": 3
   },
   "file_extension": ".py",
   "mimetype": "text/x-python",
   "name": "python",
   "nbconvert_exporter": "python",
   "pygments_lexer": "ipython3",
   "version": "3.9.12"
  }
 },
 "nbformat": 4,
 "nbformat_minor": 5
}
