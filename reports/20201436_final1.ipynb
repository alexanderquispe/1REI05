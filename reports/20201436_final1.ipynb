{
 "cells": [
  {
   "cell_type": "markdown",
   "id": "93f63d7f",
   "metadata": {},
   "source": [
    "FINAL:"
   ]
  },
  {
   "cell_type": "markdown",
   "id": "70e13b6b",
   "metadata": {},
   "source": [
    "PARTE TEÓRICA:\n",
    "    "
   ]
  },
  {
   "cell_type": "markdown",
   "id": "7bc6e7d5",
   "metadata": {},
   "source": [
    "1. (3 puntos) Instrumental Variables (IV)\n",
    "Suponga que estamos interesados en estudiar la relación entre educación(X) y el nivel de ingresos(Y).\n",
    "Un investigador propone utilizar como variable instrumental(Z) el numero de horas que una persona utilizó para ver televisión cuando era niño.\n",
    "\n",
    "•\tIndetifique todos los elementos necesarios para implementar un enfoque de IV en este ejemplo.\n",
    "\n",
    "El método de variables instrumentales es un procedimiento de estimación en los que los regresores están correlacionados con las perturbaciones del modelo, endógenos. En esto, los métodos habituales de estimación basados en mínimos cuadrados son inconsistentes y, por lo tanto, se necesita utilizar un procedimiento alternativo basado en la utilización de variables con información similar a la contenida en los regresores endógenos pero no correlacionadas con el término de perturbación, que son las variables instrumentales o instrumentos.Para entender el estimador de variables instrumentales, es útil empezar con un DAG que muestra una cadena de efectos causales que contiene toda la información necesaria para entender la estrategia de variables instrumentales. Es importante mencionar que una variable instrumental es una tercera variable introducida en el análisis de regresión que se encuentra correlacionada con la variable predictora, mas no correlacionada con la variable de respuesta. Cuando se hace uso de esta variable, se estima el verdadero efecto causal que alguna variable predictora tiene sobre una variable de respuesta. Para estimar el parámetro, evitando el sesgo de endogeneidad, una posibilidad es buscar una variable instrumento para la educación que cumpla las siguientes condiciones: Que esté incorrelacionada con la perturbación ui del modelo. Lo cual, exigiría que la variable instrumento estuviera incorrelacionada con la destreza individual. Si no se cumple esta condición el estimador por variables instrumentales no sería consistente y habría un sesgo de endogeneidad que no disminuiría al aumentar el tamaño muestral. Que tenga una correlación alta con el regresor endógeno con la variable educación. La eficiencia del estimador por variables instrumentales está directamente relacionada con la correlación entre ambas variables.\n",
    "\n",
    "\n",
    "•\tExplique el procedimiento para encontrar el efecto causal en este escenario. Puede utilizar ecuaciones\n",
    "\n",
    "Para entender el estimador de variables instrumentales, se puede iniciar con un DAG que muestre una cadena de efectos causales que contenga toda la información necesaria para entender la estrategia de variables instrumentales. \n",
    "\n",
    "•\t¿El efecto de la educación sobre el nivel de ingresos es positivo o negativo? Argumente si los resultados serian causales o solamente de correlación\n",
    "\n",
    "Para empezar, introduciré una explicación de definicio de causalidad y correlación. Es relevante tener en cuenta la frase “correlación no implica causalidad”. Al explicar el significado más simple de causalidad se refiere a una palabra que usada para establecer una relación entre una causa y un efecto. Mientras que, La correlación se basaría en la relación que se establece es de simple correspondencia o similitud, no de origen. La correlación examina la relación entre dos variables. Sin embargo, observar que dos variables se mueven conjuntamente no significa necesariamente que una variable sea la causa de la otra. Esto se relaciona con la frase con la que empezamos al inicio: \"correlación no implica causalidad\".  Las correlaciones entre variables nos muestran que hay un patrón en los datos, que las variables tienden a moverse conjuntamente. Sin embargo, por sí mismas, las correlaciones no nos muestran si los datos se mueven juntos porque una variable causa la otra. Es posible encontrar una correlación fiable y estadísticamente significativa entre dos variables que en realidad no tienen ninguna relación causal. A menudo esto se debe a que ambas variables están asociadas a una variable causal diferente, que tiende a darse junto a los datos que estamos midiendo. Entonces, tras esta aclaración de conceptos, se puede responder que el efecto de la educación en el nivel de ingresos es positivo, puesto que en diversos estudios se ha corroborado que un mayor nivel de educación provoca un mayor nivel de ingresos. Entonces, alguien que ha terminado sus estudios universitarios tiene más posibilidades de obtener mayores ingresos que una persona sin dichos estudios. Eso implicaría la existencia de una correlación positiva entre ambas variables. Asimismo,la relación es potencialmente causal, puesto que la variable educación genera un efecto causal directo en el nivel de ingresos sin la necesidad de una tercera variable que participe en dicho proceso. Por lo tanto, es necesario el uso de técnicas  estadíticas y de diseño de estudios para encontrar evidencias de relaciones causales.\n",
    "\n",
    "\n",
    "2. (3 puntos) Regression Discontinuity Design (RDD)\n",
    "Supongamos que estamos estudiando la eficacia de un programa de becas creado por el gobierno Peruano sobre las notas de los alumnos al final del primer semestre en la universidad. PRONABEC ha decidido que entregará becas a aquellos postulantes que tengan un promedio superior durante la secundaria igual a 16 .\n",
    "\n",
    "•\tIndetifique todos los elementos necesarios para implementar un RDD en este ejemplo.\n",
    "\n",
    "Para empezar, se mencionará una breve explicación sobre el diseño de discontinuidad de regresión (RDD), el cual posee la capacidad para eliminar de manera convincente el sesgo de selección. Lo cual, se debe al hecho de que sus suposiciones de identificación subyacentes son más fáciles de aceptar y evaluar. Haciendo impotente el sesgo de selección, el procedimiento es capaz de recuperar los efectos de tratamiento promedio para una subpoblación dada de unidades. El método se basa en una idea simple e intuitiva. Tras esta pequeña introducción se puede empezar a explicar que, si es que se halla al lado izquierdo el valor crítico o sea Z, intervienen o no. Por lo cual, los sujetos del lado izquierdo del umbral Z deberían parecerse a los de la derecha. De esta forma, la derecha sería un contrafactual de la izquierda. Por lo tanto, los supuestos vendrían a ser que el umbral Z se considera como arbitrario, mientras que los regresores X, tanto que el error es u se aprecian parecidos tanto a la izquierda como la derecha del umbral. Por consiguiente, el contraste de ambos grupos refiriéndonos al tratamiento como el control, dicho contraste sería un estimador de impacto del tratamiento en torno al punto de corte. Así, el parámetro que ha sido estimado por la RDD conforma un efecto del tratamiento que se enfoca en los sujetos en torno al umbral. \n",
    "\n",
    "•\tExplique el procedimiento para encontrar el efecto causal en este escenario. Puede utilizar ecuaciones.\n",
    "\n",
    "La validez de un RDD no requiere que la regla de asignación sea arbitraria. Sólo requiere que sea conocida, precisa y libre de manipulación. Se conoce que la continuidad es la carencia de tratamientos simultáneos en el corte. Por ello, la hipótesis nula sería la continuidad y la presencia de alguna discontinuidad se referiría a alguna causa puesto que la tendencia la existencia de la tendencia que las cosas cambien de manera gradual es lo que se ha llegado a esperar de la naturaleza. Por tanto, el efecto causal promedio para esta subpoblación sería: 𝑋→ 𝑍𝑖 en el límite. Lo cual se logra debido al punto de corte que es el único punto en el cual los individuos de tratamiento y control se superponen en el límite.\n",
    "\n",
    "•\t¿El efecto de la politica sobre el rendimiento de los estudiantes sería positivo o negativo (solo necesitan usar su intuición)? Argumente si los resultados serian causales o solamente de correlación .\n",
    "\n",
    "Considero a la política como positiva para dichos alumnos que puedan acceder al beneficio. Puesto que, existirá una correlación positiva causada por el efecto que provoca tal política. Asimismo, es importante recalcar que los resultados se conciben como causales, ya que hay un contrafactual para los alumnos sin recibir la beca, lo cual implica un cambio en la línea de continuidad. Hay existencia de un efecto causal en 𝑋→𝑍𝑖. Puesto que sin la intervención, entonces, no se daría de forma similar, debido a que la discontinuidad implica una causa.\n",
    "\n",
    "\n",
    "3. (3 puntos) Difference in Difference (DiD)\n",
    "Supongamos que estamos interesados en estudiar el impacto de la migración en la tasa de empleo en dos regiones del Perú en 2017-2018. Tenemos datos anuales sobre la tasa de empleo en Lima, que experimentó una afluencia significativa de inmigrantes en 2018, y Puno que no experimentó el ingreso de migrantes (2017 ninguna de las regiones experimentó afluencia de migrantes). Podemos usar un análisis DID para comparar el cambio en las tasas de empleo entre las dos regiones a lo largo del tiempo para ver si la migración tuvo algún efecto.\n",
    "\n",
    "•\tIndetifique todos los elementos necesarios para implementar un DiD en este ejemplo.\n",
    "\n",
    "El planteamiento del método de diferencias en diferencias (Diff-in-Diff) requiere observar dos grupos de individuos (o entidades) en al menos dos momentos distintos del tiempo, siendo uno de esos dos grupos afectado por un cambio, cuyo efecto causal se pretende estimar. El diseño de diferencias en diferencias es una estrategia de identificación cuasi-experimental temprana para estimar los efectos causales que precede al experimento aleatorio en aproximadamente ochenta y cinco años.  Esta metodología consiste en aplicar una doble diferencia, es decir busca comparar los cambios en el tiempo en la variable de interés entre el grupo de tratamiento y el grupo de control.\n",
    "Para que esta metodología tenga validez no se requiere que los grupos de tratamiento y de control sean similares entre sí en sus características observables. El método de DD depende de que se cumplan algunos supuestos clave para poder interpretar este cálculo como el efecto de la intervención de manera válida. El principal supuesto de DD es el de tendencias paralelas. Entonces, en el método de diferencias en diferencias la condición necesaria para evaluar el impacto, es el denominado supuesto de tendencias paralelas. Mediante este supuesto se asume que, en ausencia de tratamiento, los dos grupos hubiesen seguido la misma trayectoria en los resultados de interés. \n",
    "\n",
    "•\tExplique el procedimiento para encontrar el efecto causal en este escenario. Puede utilizar ecuaciones.\n",
    "\n",
    "\n",
    "•\t¿El efecto de la migración sobre la tasa de empleo sería positivo o negativo (solo necesitan usar su intuición)? Argumente si los resultados serian causales o solamente de correlación .\n",
    "\n",
    "Para empezar, es relevante tener en cuenta la frase “correlación no implica causalidad”. Al explicar el significado más simple de causalidad se refiere a una palabra que usada para establecer una relación entre una causa y un efecto. Mientras que, La correlación se basaría en la relación que se establece es de simple correspondencia o similitud, no de origen. La correlación examina la relación entre dos variables. Sin embargo, observar que dos variables se mueven conjuntamente no significa necesariamente que una variable sea la causa de la otra. Esto se relaciona con la frase con la que empezamos al inicio: \"correlación no implica causalidad\".  Las correlaciones entre variables nos muestran que hay un patrón en los datos, que las variables tienden a moverse conjuntamente. Sin embargo, por sí mismas, las correlaciones no nos muestran si los datos se mueven juntos porque una variable causa la otra. Es posible encontrar una correlación fiable y estadísticamente significativa entre dos variables que en realidad no tienen ninguna relación causal. A menudo esto se debe a que ambas variables están asociadas a una variable causal diferente, que tiende a darse junto a los datos que estamos midiendo.\n",
    "\n",
    "4. (3 puntos) Lecturas\n",
    "•\tBell, A., Chetty, R., Jaravel, X., Petkova, N., & Van Reenen, J. (2019). Who becomes an inventor in America? The importance of exposure to innovation. The Quarterly Journal of Economics, 134(2), 647-713., ¿Cuáles son las debilidades del enfoque del paper para responder su pregunta de investigación?\n",
    "\n",
    "Para empezar, al analizar las diferencias entre quiénes se volvieron inventores y quiénes no, en función del ingreso de los padres, la raza y etnicidad y el género. Los autores Bell, Chetty, Jaravel, Petkova, y Van Reenen encuentran que estos no son factores causales que explican que alguien se convierta o no en inventor, puesto que, las diferencias entre estos grupos a partir de solo estas variables no son significativas. Tras ello, se encuentra que quienes se vuelven inventores usualmente patentan la misma clase de tecnología a la que fueron expuestos, ya sea la que produjeron sus padres, compañeros de trabajo de sus padres o la dominante en la zona en la que vivieron. Si bien la exposición a innovaciones determina la clase de tecnología que patentará un inventor, no implica que quien está expuesto a innovaciones va a volverse o no un inventor. Se llega a la conclusión que la exposición a innovación tiene impactos sustanciales en el tipo de innovación que realizarán los niños y también, en si estos se vuelven o no inventores. Sin embargo, las debilidades del enfoque del paper, se puede señalar que son: por un lado, la centralización en el caso de EEUU reduciéndolo solo a la ciudad de Nueva York. Debido a que una variable explicativa relevante podría ser comparar los índices de innovación con otros países y encontrar explicaciones respecto a la diferencia. Mientras que, por otro lado, se puede identificar como una debilidad que se ignoren factores intelectuales para evidenciar la propensión a volverse inventor. Puesto que, es verdad que los factores estructurales son altamente importante, aunque también sería nutritivo para responder su pregunta de investigación, conocer las capacidades de los adolescentes, así como también, su nivel intelectual para llevar a cabo estos planes futuros, e incluso, el nivel educativo de los padres y su propio rendimiento, que también pueden tener un papel importante.\n",
    "\n",
    "\n",
    "•\tDell, M. (2010). The persistent effects of Peru's mining mita. Econometrica, 78(6), 1863-1903, ¿Cuáles serían dos próximos pasos específicos para avanzar en su pregunta de investigación?\n",
    "\n",
    "Resultaría significante, por un lado, ahondar más en los efectos de la educación. Es decir, que se profundice sobre el impacto de la mita minera en el bien público de la educación. Por ejemplo, en el caso de Siancas-Flores (2019), que propone que debería plantearse este análisis en futuras investigaciones, pero analizándolo desde la perspectiva de las pruebas que el Ministerio de Educación toma hoy en día, como la ECE con pruebas internacionales como la prueba PISA y comparando estos resultados, cautivando así el verdadero efecto de la mita sobre la educación. Cabe resaltar que “ECE” es una evaluación censal de estudiantes, tomada por lo general cuando se cursan el segundo grado de primaria y secundaria, a escuelas públicas y privadas. Mientras que, “PISA” es un estudio a nivel mundial que mide el rendimiento académico en matemáticas, ciencias y lectura, a la edad de 15 años.  Por otro lado, resultaría relevante profundizar en las consecuencias de la mita tomando en cuenta este trabajo centrado en Perú y comparándolo con otras zonas donde se vivió el virreinato español tal como es el caso del virreinato de Santafé o Nuevo Reino de Granada que fue una de las unidades territoriales en las que la Corona española dividió sus territorios en América, en la Nueva Granada al no tener tantos recursos mineros provocó que no haya un grado de institucionalización grande como la mita en Perú, aún así la extracción del oro fue relevante. Sería importante para avanzar en la pregunta de investigación si las variables que condicionaron a peores consecuencias en Perú, es debido al alto de nivel de institución minera, a comparación del virreinato de Nueva Granada.  \n",
    "Bibliografía: Siancas, D. (2019). Análisis de los efectos persistentes de la mita minera en el Perú: Una revisión del trabajo de Dell (2010) (Trabajo de Suficiencia Profesional para optar el título de Economista). Universidad de Piura. Facultad de Ciencias Económicas y Empresariales. Programa Académico de Economía. Piura, Perú."
   ]
  },
  {
   "cell_type": "code",
   "execution_count": null,
   "id": "37475b64",
   "metadata": {},
   "outputs": [],
   "source": []
  },
  {
   "cell_type": "markdown",
   "id": "db8bee41",
   "metadata": {},
   "source": [
    "PARTE PRÁCTICA:"
   ]
  },
  {
   "cell_type": "code",
   "execution_count": 24,
   "id": "4ebdedcb",
   "metadata": {},
   "outputs": [
    {
     "name": "stdout",
     "output_type": "stream",
     "text": [
      "Requirement already satisfied: causalgraphicalmodels in c:\\users\\dell\\downloads\\macroeco\\lib\\site-packages (0.0.4)\n",
      "Requirement already satisfied: numpy in c:\\users\\dell\\downloads\\macroeco\\lib\\site-packages (from causalgraphicalmodels) (1.21.5)\n",
      "Requirement already satisfied: networkx in c:\\users\\dell\\downloads\\macroeco\\lib\\site-packages (from causalgraphicalmodels) (2.7.1)\n",
      "Requirement already satisfied: graphviz in c:\\users\\dell\\downloads\\macroeco\\lib\\site-packages (from causalgraphicalmodels) (0.18)\n",
      "Requirement already satisfied: pandas in c:\\users\\dell\\downloads\\macroeco\\lib\\site-packages (from causalgraphicalmodels) (1.4.2)\n",
      "Requirement already satisfied: python-dateutil>=2.8.1 in c:\\users\\dell\\downloads\\macroeco\\lib\\site-packages (from pandas->causalgraphicalmodels) (2.8.2)\n",
      "Requirement already satisfied: pytz>=2020.1 in c:\\users\\dell\\downloads\\macroeco\\lib\\site-packages (from pandas->causalgraphicalmodels) (2021.3)\n",
      "Requirement already satisfied: six>=1.5 in c:\\users\\dell\\downloads\\macroeco\\lib\\site-packages (from python-dateutil>=2.8.1->pandas->causalgraphicalmodels) (1.16.0)\n",
      "Note: you may need to restart the kernel to use updated packages.\n"
     ]
    }
   ],
   "source": [
    "pip install causalgraphicalmodels"
   ]
  },
  {
   "cell_type": "code",
   "execution_count": 25,
   "id": "820c80db",
   "metadata": {},
   "outputs": [
    {
     "name": "stdout",
     "output_type": "stream",
     "text": [
      "Requirement already satisfied: linearmodels in c:\\users\\dell\\downloads\\macroeco\\lib\\site-packages (4.27)\n",
      "Requirement already satisfied: numpy>=1.16 in c:\\users\\dell\\downloads\\macroeco\\lib\\site-packages (from linearmodels) (1.21.5)\n",
      "Requirement already satisfied: setuptools-scm<7.0.0,>=6.4.2 in c:\\users\\dell\\downloads\\macroeco\\lib\\site-packages (from linearmodels) (6.4.2)\n",
      "Requirement already satisfied: mypy-extensions>=0.4 in c:\\users\\dell\\downloads\\macroeco\\lib\\site-packages (from linearmodels) (0.4.3)\n",
      "Requirement already satisfied: scipy>=1.2 in c:\\users\\dell\\downloads\\macroeco\\lib\\site-packages (from linearmodels) (1.7.3)\n",
      "Requirement already satisfied: Cython>=0.29.21 in c:\\users\\dell\\downloads\\macroeco\\lib\\site-packages (from linearmodels) (0.29.28)\n",
      "Requirement already satisfied: pyhdfe>=0.1 in c:\\users\\dell\\downloads\\macroeco\\lib\\site-packages (from linearmodels) (0.1.1)\n",
      "Requirement already satisfied: formulaic~=0.3.2 in c:\\users\\dell\\downloads\\macroeco\\lib\\site-packages (from linearmodels) (0.3.4)\n",
      "Requirement already satisfied: statsmodels>=0.11 in c:\\users\\dell\\downloads\\macroeco\\lib\\site-packages (from linearmodels) (0.13.2)\n",
      "Requirement already satisfied: pandas>=0.24 in c:\\users\\dell\\downloads\\macroeco\\lib\\site-packages (from linearmodels) (1.4.2)\n",
      "Requirement already satisfied: property-cached>=1.6.3 in c:\\users\\dell\\downloads\\macroeco\\lib\\site-packages (from linearmodels) (1.6.4)\n",
      "Requirement already satisfied: interface-meta<2.0.0,>=1.2.0 in c:\\users\\dell\\downloads\\macroeco\\lib\\site-packages (from formulaic~=0.3.2->linearmodels) (1.3.0)\n",
      "Requirement already satisfied: astor>=0.8 in c:\\users\\dell\\downloads\\macroeco\\lib\\site-packages (from formulaic~=0.3.2->linearmodels) (0.8.1)\n",
      "Requirement already satisfied: wrapt>=1.0 in c:\\users\\dell\\downloads\\macroeco\\lib\\site-packages (from formulaic~=0.3.2->linearmodels) (1.12.1)\n",
      "Requirement already satisfied: python-dateutil>=2.8.1 in c:\\users\\dell\\downloads\\macroeco\\lib\\site-packages (from pandas>=0.24->linearmodels) (2.8.2)\n",
      "Requirement already satisfied: pytz>=2020.1 in c:\\users\\dell\\downloads\\macroeco\\lib\\site-packages (from pandas>=0.24->linearmodels) (2021.3)\n",
      "Requirement already satisfied: six>=1.5 in c:\\users\\dell\\downloads\\macroeco\\lib\\site-packages (from python-dateutil>=2.8.1->pandas>=0.24->linearmodels) (1.16.0)\n",
      "Requirement already satisfied: packaging>=20.0 in c:\\users\\dell\\downloads\\macroeco\\lib\\site-packages (from setuptools-scm<7.0.0,>=6.4.2->linearmodels) (21.3)\n",
      "Requirement already satisfied: tomli>=1.0.0 in c:\\users\\dell\\downloads\\macroeco\\lib\\site-packages (from setuptools-scm<7.0.0,>=6.4.2->linearmodels) (1.2.2)\n",
      "Requirement already satisfied: setuptools in c:\\users\\dell\\downloads\\macroeco\\lib\\site-packages (from setuptools-scm<7.0.0,>=6.4.2->linearmodels) (61.2.0)\n",
      "Requirement already satisfied: pyparsing!=3.0.5,>=2.0.2 in c:\\users\\dell\\downloads\\macroeco\\lib\\site-packages (from packaging>=20.0->setuptools-scm<7.0.0,>=6.4.2->linearmodels) (3.0.4)\n",
      "Requirement already satisfied: patsy>=0.5.2 in c:\\users\\dell\\downloads\\macroeco\\lib\\site-packages (from statsmodels>=0.11->linearmodels) (0.5.2)\n",
      "Note: you may need to restart the kernel to use updated packages.\n"
     ]
    }
   ],
   "source": [
    " pip install linearmodels"
   ]
  },
  {
   "cell_type": "code",
   "execution_count": 28,
   "id": "f8c6080e",
   "metadata": {},
   "outputs": [],
   "source": [
    "# pip install causalgraphicalmodels\n",
    "# pip install linearmodels\n",
    "\n",
    "from causalgraphicalmodels import CausalGraphicalModel\n",
    "import os\n",
    "import numpy as np \n",
    "import pandas as pd \n",
    "import statsmodels.api as sm \n",
    "import statsmodels.formula.api as smf \n",
    "from itertools import combinations \n",
    "import statsmodels.api as sm\n",
    "import statsmodels.formula.api as smf\n",
    "import linearmodels.iv.model as lm\n",
    "from linearmodels.iv import IV2SLS\n",
    "from statsmodels.iolib.summary2 import summary_col\n",
    "import seaborn as sns"
   ]
  },
  {
   "cell_type": "markdown",
   "id": "b6db829f",
   "metadata": {},
   "source": [
    "**Ploteo de Histogramas**"
   ]
  },
  {
   "cell_type": "markdown",
   "id": "b2201f59",
   "metadata": {},
   "source": [
    "Tomando en cuenta que la variable $nearc2$ representa si existe un college en el county debe realizar los siguientes ploteos de histogramas."
   ]
  },
  {
   "cell_type": "markdown",
   "id": "97b2a212",
   "metadata": {},
   "source": [
    "- Grafique dos histogramas para la variable años de educación educ para cuando nearc2 == 1, y cuando nearc2 == 0. Compare y describa los patrones que encuentra.\n"
   ]
  },
  {
   "cell_type": "code",
   "execution_count": 29,
   "id": "b502e86c",
   "metadata": {},
   "outputs": [
    {
     "data": {
      "text/html": [
       "<div>\n",
       "<style scoped>\n",
       "    .dataframe tbody tr th:only-of-type {\n",
       "        vertical-align: middle;\n",
       "    }\n",
       "\n",
       "    .dataframe tbody tr th {\n",
       "        vertical-align: top;\n",
       "    }\n",
       "\n",
       "    .dataframe thead th {\n",
       "        text-align: right;\n",
       "    }\n",
       "</style>\n",
       "<table border=\"1\" class=\"dataframe\">\n",
       "  <thead>\n",
       "    <tr style=\"text-align: right;\">\n",
       "      <th></th>\n",
       "      <th>id</th>\n",
       "      <th>nearc2</th>\n",
       "      <th>nearc4</th>\n",
       "      <th>educ</th>\n",
       "      <th>age</th>\n",
       "      <th>fatheduc</th>\n",
       "      <th>motheduc</th>\n",
       "      <th>weight</th>\n",
       "      <th>momdad14</th>\n",
       "      <th>sinmom14</th>\n",
       "      <th>...</th>\n",
       "      <th>KWW</th>\n",
       "      <th>IQ</th>\n",
       "      <th>married</th>\n",
       "      <th>libcrd14</th>\n",
       "      <th>exper</th>\n",
       "      <th>lwage</th>\n",
       "      <th>expersq</th>\n",
       "      <th>u_lwage</th>\n",
       "      <th>lwage_hat</th>\n",
       "      <th>u_educ</th>\n",
       "    </tr>\n",
       "  </thead>\n",
       "  <tbody>\n",
       "    <tr>\n",
       "      <th>0</th>\n",
       "      <td>2.0</td>\n",
       "      <td>0.0</td>\n",
       "      <td>0.0</td>\n",
       "      <td>7.0</td>\n",
       "      <td>29.0</td>\n",
       "      <td>NaN</td>\n",
       "      <td>NaN</td>\n",
       "      <td>158413.0</td>\n",
       "      <td>1.0</td>\n",
       "      <td>0.0</td>\n",
       "      <td>...</td>\n",
       "      <td>15.0</td>\n",
       "      <td>NaN</td>\n",
       "      <td>1.0</td>\n",
       "      <td>0.0</td>\n",
       "      <td>16.0</td>\n",
       "      <td>6.306275</td>\n",
       "      <td>256.0</td>\n",
       "      <td>0.198047</td>\n",
       "      <td>6.108228</td>\n",
       "      <td>-3.067539</td>\n",
       "    </tr>\n",
       "    <tr>\n",
       "      <th>1</th>\n",
       "      <td>3.0</td>\n",
       "      <td>0.0</td>\n",
       "      <td>0.0</td>\n",
       "      <td>12.0</td>\n",
       "      <td>27.0</td>\n",
       "      <td>8.0</td>\n",
       "      <td>8.0</td>\n",
       "      <td>380166.0</td>\n",
       "      <td>1.0</td>\n",
       "      <td>0.0</td>\n",
       "      <td>...</td>\n",
       "      <td>35.0</td>\n",
       "      <td>93.0</td>\n",
       "      <td>1.0</td>\n",
       "      <td>1.0</td>\n",
       "      <td>9.0</td>\n",
       "      <td>6.175867</td>\n",
       "      <td>81.0</td>\n",
       "      <td>-0.211160</td>\n",
       "      <td>6.387027</td>\n",
       "      <td>-1.727562</td>\n",
       "    </tr>\n",
       "    <tr>\n",
       "      <th>2</th>\n",
       "      <td>4.0</td>\n",
       "      <td>0.0</td>\n",
       "      <td>0.0</td>\n",
       "      <td>12.0</td>\n",
       "      <td>34.0</td>\n",
       "      <td>14.0</td>\n",
       "      <td>12.0</td>\n",
       "      <td>367470.0</td>\n",
       "      <td>1.0</td>\n",
       "      <td>0.0</td>\n",
       "      <td>...</td>\n",
       "      <td>42.0</td>\n",
       "      <td>103.0</td>\n",
       "      <td>1.0</td>\n",
       "      <td>1.0</td>\n",
       "      <td>16.0</td>\n",
       "      <td>6.580639</td>\n",
       "      <td>256.0</td>\n",
       "      <td>0.204719</td>\n",
       "      <td>6.375920</td>\n",
       "      <td>1.012975</td>\n",
       "    </tr>\n",
       "    <tr>\n",
       "      <th>3</th>\n",
       "      <td>5.0</td>\n",
       "      <td>1.0</td>\n",
       "      <td>1.0</td>\n",
       "      <td>11.0</td>\n",
       "      <td>27.0</td>\n",
       "      <td>11.0</td>\n",
       "      <td>12.0</td>\n",
       "      <td>380166.0</td>\n",
       "      <td>1.0</td>\n",
       "      <td>0.0</td>\n",
       "      <td>...</td>\n",
       "      <td>25.0</td>\n",
       "      <td>88.0</td>\n",
       "      <td>1.0</td>\n",
       "      <td>1.0</td>\n",
       "      <td>10.0</td>\n",
       "      <td>5.521461</td>\n",
       "      <td>100.0</td>\n",
       "      <td>-0.967905</td>\n",
       "      <td>6.489366</td>\n",
       "      <td>-2.253536</td>\n",
       "    </tr>\n",
       "    <tr>\n",
       "      <th>4</th>\n",
       "      <td>6.0</td>\n",
       "      <td>1.0</td>\n",
       "      <td>1.0</td>\n",
       "      <td>12.0</td>\n",
       "      <td>34.0</td>\n",
       "      <td>8.0</td>\n",
       "      <td>7.0</td>\n",
       "      <td>367470.0</td>\n",
       "      <td>1.0</td>\n",
       "      <td>0.0</td>\n",
       "      <td>...</td>\n",
       "      <td>34.0</td>\n",
       "      <td>108.0</td>\n",
       "      <td>1.0</td>\n",
       "      <td>0.0</td>\n",
       "      <td>16.0</td>\n",
       "      <td>6.591674</td>\n",
       "      <td>256.0</td>\n",
       "      <td>0.125173</td>\n",
       "      <td>6.466501</td>\n",
       "      <td>1.090437</td>\n",
       "    </tr>\n",
       "  </tbody>\n",
       "</table>\n",
       "<p>5 rows × 37 columns</p>\n",
       "</div>"
      ],
      "text/plain": [
       "    id  nearc2  nearc4  educ   age  fatheduc  motheduc    weight  momdad14  \\\n",
       "0  2.0     0.0     0.0   7.0  29.0       NaN       NaN  158413.0       1.0   \n",
       "1  3.0     0.0     0.0  12.0  27.0       8.0       8.0  380166.0       1.0   \n",
       "2  4.0     0.0     0.0  12.0  34.0      14.0      12.0  367470.0       1.0   \n",
       "3  5.0     1.0     1.0  11.0  27.0      11.0      12.0  380166.0       1.0   \n",
       "4  6.0     1.0     1.0  12.0  34.0       8.0       7.0  367470.0       1.0   \n",
       "\n",
       "   sinmom14  ...   KWW     IQ  married  libcrd14  exper     lwage  expersq  \\\n",
       "0       0.0  ...  15.0    NaN      1.0       0.0   16.0  6.306275    256.0   \n",
       "1       0.0  ...  35.0   93.0      1.0       1.0    9.0  6.175867     81.0   \n",
       "2       0.0  ...  42.0  103.0      1.0       1.0   16.0  6.580639    256.0   \n",
       "3       0.0  ...  25.0   88.0      1.0       1.0   10.0  5.521461    100.0   \n",
       "4       0.0  ...  34.0  108.0      1.0       0.0   16.0  6.591674    256.0   \n",
       "\n",
       "    u_lwage  lwage_hat    u_educ  \n",
       "0  0.198047   6.108228 -3.067539  \n",
       "1 -0.211160   6.387027 -1.727562  \n",
       "2  0.204719   6.375920  1.012975  \n",
       "3 -0.967905   6.489366 -2.253536  \n",
       "4  0.125173   6.466501  1.090437  \n",
       "\n",
       "[5 rows x 37 columns]"
      ]
     },
     "execution_count": 29,
     "metadata": {},
     "output_type": "execute_result"
    }
   ],
   "source": [
    "# load data\n",
    "\n",
    "import ssl\n",
    "ssl._create_default_https_context = ssl._create_unverified_context\n",
    "\n",
    "def read_data(file): \n",
    "    return pd.read_stata(\"https://raw.github.com/scunning1975/mixtape/master/\" + file)\n",
    "\n",
    "card = read_data(\"card.dta\")\n",
    "card.head()"
   ]
  },
  {
   "cell_type": "code",
   "execution_count": 30,
   "id": "5797f205",
   "metadata": {},
   "outputs": [
    {
     "data": {
      "text/html": [
       "<div>\n",
       "<style scoped>\n",
       "    .dataframe tbody tr th:only-of-type {\n",
       "        vertical-align: middle;\n",
       "    }\n",
       "\n",
       "    .dataframe tbody tr th {\n",
       "        vertical-align: top;\n",
       "    }\n",
       "\n",
       "    .dataframe thead th {\n",
       "        text-align: right;\n",
       "    }\n",
       "</style>\n",
       "<table border=\"1\" class=\"dataframe\">\n",
       "  <thead>\n",
       "    <tr style=\"text-align: right;\">\n",
       "      <th></th>\n",
       "      <th>id</th>\n",
       "      <th>nearc4</th>\n",
       "      <th>educ</th>\n",
       "      <th>age</th>\n",
       "      <th>fatheduc</th>\n",
       "      <th>motheduc</th>\n",
       "      <th>weight</th>\n",
       "      <th>momdad14</th>\n",
       "      <th>sinmom14</th>\n",
       "      <th>step14</th>\n",
       "      <th>...</th>\n",
       "      <th>KWW</th>\n",
       "      <th>IQ</th>\n",
       "      <th>married</th>\n",
       "      <th>libcrd14</th>\n",
       "      <th>exper</th>\n",
       "      <th>lwage</th>\n",
       "      <th>expersq</th>\n",
       "      <th>u_lwage</th>\n",
       "      <th>lwage_hat</th>\n",
       "      <th>u_educ</th>\n",
       "    </tr>\n",
       "    <tr>\n",
       "      <th>nearc2</th>\n",
       "      <th></th>\n",
       "      <th></th>\n",
       "      <th></th>\n",
       "      <th></th>\n",
       "      <th></th>\n",
       "      <th></th>\n",
       "      <th></th>\n",
       "      <th></th>\n",
       "      <th></th>\n",
       "      <th></th>\n",
       "      <th></th>\n",
       "      <th></th>\n",
       "      <th></th>\n",
       "      <th></th>\n",
       "      <th></th>\n",
       "      <th></th>\n",
       "      <th></th>\n",
       "      <th></th>\n",
       "      <th></th>\n",
       "      <th></th>\n",
       "      <th></th>\n",
       "    </tr>\n",
       "  </thead>\n",
       "  <tbody>\n",
       "    <tr>\n",
       "      <th>0.0</th>\n",
       "      <td>2710.649414</td>\n",
       "      <td>0.632799</td>\n",
       "      <td>13.150921</td>\n",
       "      <td>28.032681</td>\n",
       "      <td>9.672573</td>\n",
       "      <td>10.168910</td>\n",
       "      <td>317627.875</td>\n",
       "      <td>0.787285</td>\n",
       "      <td>0.101010</td>\n",
       "      <td>0.039810</td>\n",
       "      <td>...</td>\n",
       "      <td>33.151535</td>\n",
       "      <td>102.025826</td>\n",
       "      <td>2.161002</td>\n",
       "      <td>0.646989</td>\n",
       "      <td>8.881759</td>\n",
       "      <td>6.223202</td>\n",
       "      <td>96.004753</td>\n",
       "      <td>-0.013301</td>\n",
       "      <td>6.236503</td>\n",
       "      <td>-0.045370</td>\n",
       "    </tr>\n",
       "    <tr>\n",
       "      <th>1.0</th>\n",
       "      <td>2418.267578</td>\n",
       "      <td>0.744537</td>\n",
       "      <td>13.406179</td>\n",
       "      <td>28.229841</td>\n",
       "      <td>10.423679</td>\n",
       "      <td>10.575577</td>\n",
       "      <td>325697.000</td>\n",
       "      <td>0.792012</td>\n",
       "      <td>0.100226</td>\n",
       "      <td>0.037679</td>\n",
       "      <td>...</td>\n",
       "      <td>34.038460</td>\n",
       "      <td>102.957359</td>\n",
       "      <td>2.411011</td>\n",
       "      <td>0.709091</td>\n",
       "      <td>8.823663</td>\n",
       "      <td>6.310825</td>\n",
       "      <td>95.039185</td>\n",
       "      <td>0.016870</td>\n",
       "      <td>6.293956</td>\n",
       "      <td>0.057542</td>\n",
       "    </tr>\n",
       "  </tbody>\n",
       "</table>\n",
       "<p>2 rows × 36 columns</p>\n",
       "</div>"
      ],
      "text/plain": [
       "                 id    nearc4       educ        age   fatheduc   motheduc  \\\n",
       "nearc2                                                                      \n",
       "0.0     2710.649414  0.632799  13.150921  28.032681   9.672573  10.168910   \n",
       "1.0     2418.267578  0.744537  13.406179  28.229841  10.423679  10.575577   \n",
       "\n",
       "            weight  momdad14  sinmom14    step14  ...        KWW          IQ  \\\n",
       "nearc2                                            ...                          \n",
       "0.0     317627.875  0.787285  0.101010  0.039810  ...  33.151535  102.025826   \n",
       "1.0     325697.000  0.792012  0.100226  0.037679  ...  34.038460  102.957359   \n",
       "\n",
       "         married  libcrd14     exper     lwage    expersq   u_lwage  \\\n",
       "nearc2                                                                \n",
       "0.0     2.161002  0.646989  8.881759  6.223202  96.004753 -0.013301   \n",
       "1.0     2.411011  0.709091  8.823663  6.310825  95.039185  0.016870   \n",
       "\n",
       "        lwage_hat    u_educ  \n",
       "nearc2                       \n",
       "0.0      6.236503 -0.045370  \n",
       "1.0      6.293956  0.057542  \n",
       "\n",
       "[2 rows x 36 columns]"
      ]
     },
     "execution_count": 30,
     "metadata": {},
     "output_type": "execute_result"
    }
   ],
   "source": [
    "card.groupby([\"nearc2\"]).mean()"
   ]
  },
  {
   "cell_type": "markdown",
   "id": "d24fb2de",
   "metadata": {},
   "source": [
    "Primer gráfico de Histogramas:"
   ]
  },
  {
   "cell_type": "code",
   "execution_count": 31,
   "id": "c4c5c4f5",
   "metadata": {},
   "outputs": [
    {
     "data": {
      "text/plain": [
       "<seaborn.axisgrid.FacetGrid at 0x1fc4e27e790>"
      ]
     },
     "execution_count": 31,
     "metadata": {},
     "output_type": "execute_result"
    },
    {
     "data": {
      "image/png": "[encoded data removed]",
      "text/plain": [
       "<Figure size 720x360 with 2 Axes>"
      ]
     },
     "metadata": {
      "needs_background": "light"
     },
     "output_type": "display_data"
    }
   ],
   "source": [
    "sns.displot(card, x=\"educ\", col=\"nearc2\")"
   ]
  },
  {
   "cell_type": "markdown",
   "id": "1fbb0012",
   "metadata": {},
   "source": [
    "Segundo gráfico de Histogramas para hacer la comparación: "
   ]
  },
  {
   "cell_type": "code",
   "execution_count": 32,
   "id": "962681e2",
   "metadata": {},
   "outputs": [
    {
     "data": {
      "text/html": [
       "<div>\n",
       "<style scoped>\n",
       "    .dataframe tbody tr th:only-of-type {\n",
       "        vertical-align: middle;\n",
       "    }\n",
       "\n",
       "    .dataframe tbody tr th {\n",
       "        vertical-align: top;\n",
       "    }\n",
       "\n",
       "    .dataframe thead th {\n",
       "        text-align: right;\n",
       "    }\n",
       "</style>\n",
       "<table border=\"1\" class=\"dataframe\">\n",
       "  <thead>\n",
       "    <tr style=\"text-align: right;\">\n",
       "      <th></th>\n",
       "      <th>id</th>\n",
       "      <th>nearc4</th>\n",
       "      <th>educ</th>\n",
       "      <th>age</th>\n",
       "      <th>fatheduc</th>\n",
       "      <th>motheduc</th>\n",
       "      <th>weight</th>\n",
       "      <th>momdad14</th>\n",
       "      <th>sinmom14</th>\n",
       "      <th>step14</th>\n",
       "      <th>...</th>\n",
       "      <th>KWW</th>\n",
       "      <th>IQ</th>\n",
       "      <th>married</th>\n",
       "      <th>libcrd14</th>\n",
       "      <th>exper</th>\n",
       "      <th>lwage</th>\n",
       "      <th>expersq</th>\n",
       "      <th>u_lwage</th>\n",
       "      <th>lwage_hat</th>\n",
       "      <th>u_educ</th>\n",
       "    </tr>\n",
       "    <tr>\n",
       "      <th>nearc2</th>\n",
       "      <th></th>\n",
       "      <th></th>\n",
       "      <th></th>\n",
       "      <th></th>\n",
       "      <th></th>\n",
       "      <th></th>\n",
       "      <th></th>\n",
       "      <th></th>\n",
       "      <th></th>\n",
       "      <th></th>\n",
       "      <th></th>\n",
       "      <th></th>\n",
       "      <th></th>\n",
       "      <th></th>\n",
       "      <th></th>\n",
       "      <th></th>\n",
       "      <th></th>\n",
       "      <th></th>\n",
       "      <th></th>\n",
       "      <th></th>\n",
       "      <th></th>\n",
       "    </tr>\n",
       "  </thead>\n",
       "  <tbody>\n",
       "    <tr>\n",
       "      <th>0.0</th>\n",
       "      <td>2710.649414</td>\n",
       "      <td>0.632799</td>\n",
       "      <td>13.150921</td>\n",
       "      <td>28.032681</td>\n",
       "      <td>9.672573</td>\n",
       "      <td>10.168910</td>\n",
       "      <td>317627.875</td>\n",
       "      <td>0.787285</td>\n",
       "      <td>0.101010</td>\n",
       "      <td>0.039810</td>\n",
       "      <td>...</td>\n",
       "      <td>33.151535</td>\n",
       "      <td>102.025826</td>\n",
       "      <td>2.161002</td>\n",
       "      <td>0.646989</td>\n",
       "      <td>8.881759</td>\n",
       "      <td>6.223202</td>\n",
       "      <td>96.004753</td>\n",
       "      <td>-0.013301</td>\n",
       "      <td>6.236503</td>\n",
       "      <td>-0.045370</td>\n",
       "    </tr>\n",
       "    <tr>\n",
       "      <th>1.0</th>\n",
       "      <td>2418.267578</td>\n",
       "      <td>0.744537</td>\n",
       "      <td>13.406179</td>\n",
       "      <td>28.229841</td>\n",
       "      <td>10.423679</td>\n",
       "      <td>10.575577</td>\n",
       "      <td>325697.000</td>\n",
       "      <td>0.792012</td>\n",
       "      <td>0.100226</td>\n",
       "      <td>0.037679</td>\n",
       "      <td>...</td>\n",
       "      <td>34.038460</td>\n",
       "      <td>102.957359</td>\n",
       "      <td>2.411011</td>\n",
       "      <td>0.709091</td>\n",
       "      <td>8.823663</td>\n",
       "      <td>6.310825</td>\n",
       "      <td>95.039185</td>\n",
       "      <td>0.016870</td>\n",
       "      <td>6.293956</td>\n",
       "      <td>0.057542</td>\n",
       "    </tr>\n",
       "  </tbody>\n",
       "</table>\n",
       "<p>2 rows × 36 columns</p>\n",
       "</div>"
      ],
      "text/plain": [
       "                 id    nearc4       educ        age   fatheduc   motheduc  \\\n",
       "nearc2                                                                      \n",
       "0.0     2710.649414  0.632799  13.150921  28.032681   9.672573  10.168910   \n",
       "1.0     2418.267578  0.744537  13.406179  28.229841  10.423679  10.575577   \n",
       "\n",
       "            weight  momdad14  sinmom14    step14  ...        KWW          IQ  \\\n",
       "nearc2                                            ...                          \n",
       "0.0     317627.875  0.787285  0.101010  0.039810  ...  33.151535  102.025826   \n",
       "1.0     325697.000  0.792012  0.100226  0.037679  ...  34.038460  102.957359   \n",
       "\n",
       "         married  libcrd14     exper     lwage    expersq   u_lwage  \\\n",
       "nearc2                                                                \n",
       "0.0     2.161002  0.646989  8.881759  6.223202  96.004753 -0.013301   \n",
       "1.0     2.411011  0.709091  8.823663  6.310825  95.039185  0.016870   \n",
       "\n",
       "        lwage_hat    u_educ  \n",
       "nearc2                       \n",
       "0.0      6.236503 -0.045370  \n",
       "1.0      6.293956  0.057542  \n",
       "\n",
       "[2 rows x 36 columns]"
      ]
     },
     "execution_count": 32,
     "metadata": {},
     "output_type": "execute_result"
    },
    {
     "data": {
      "image/png": "[encoded data removed]",
      "text/plain": [
       "<Figure size 412x360 with 1 Axes>"
      ]
     },
     "metadata": {
      "needs_background": "light"
     },
     "output_type": "display_data"
    }
   ],
   "source": [
    "sns.displot(card, x=\"educ\", hue=\"nearc2\", kind=\"kde\", fill=True)\n",
    "card.groupby([\"nearc2\"]).mean() #get the nearc2's mean"
   ]
  },
  {
   "cell_type": "markdown",
   "id": "23b5a4f8",
   "metadata": {},
   "source": [
    "En los histogramas se puede ver que cuando nearc2 es igual 1 (o sea que sí existe un college en el county), la cantidad de personas que llegan a más años de educación aumenta a más del doble a partir de los 12 años de educación.\n",
    "\n",
    "Sin embargo, antes de los 10 años de eduación, la variable nearc2 no es tan fuerte respecto a los años de educación de las personas, ya que ambos gráficos siguen una tedencia similar antes de 10 años de educación. \n",
    "\n",
    "Asimismo, se puede apreciar que la mayoría de las personas llegan a los 12 años de educación, en donde tenemos un pico para nearc2 igual a 0 o igual a 1.\n",
    "\n",
    "Asimismo, el área del gráfico naranja (que representa a nearc2==0), es mucho mayor, por lo que la cantidad de personas con dicha condición y que poseen más años de educación es mucho mayor. \n",
    "\n",
    "Asimismo, evidenciamos dos picos, donde con condiciones de educ=12, se alcanza la mayor densidad de personas, pero también en 16 años, donde se presenta otro pico de alta densidad. "
   ]
  },
  {
   "cell_type": "markdown",
   "id": "c9a36b13",
   "metadata": {},
   "source": [
    "- Grafique dos histogramas para la variable años del logaritmos de los ingresos lwage para cuando nearc2 == 1, y cuando nearc2 == 0. Compare y describa los patrones que encuentra."
   ]
  },
  {
   "cell_type": "markdown",
   "id": "f692f43f",
   "metadata": {},
   "source": [
    "Primer gráfico de histogramas:"
   ]
  },
  {
   "cell_type": "code",
   "execution_count": 33,
   "id": "6c1a49a0",
   "metadata": {},
   "outputs": [
    {
     "data": {
      "text/plain": [
       "<seaborn.axisgrid.FacetGrid at 0x1fc535dbca0>"
      ]
     },
     "execution_count": 33,
     "metadata": {},
     "output_type": "execute_result"
    },
    {
     "data": {
      "image/png": "[encoded data removed]",
      "text/plain": [
       "<Figure size 720x360 with 2 Axes>"
      ]
     },
     "metadata": {
      "needs_background": "light"
     },
     "output_type": "display_data"
    }
   ],
   "source": [
    "sns.displot(card, x=\"lwage\", col=\"nearc2\")"
   ]
  },
  {
   "cell_type": "markdown",
   "id": "5ba6d3cb",
   "metadata": {},
   "source": [
    "Segundo gráfico de Histogramas para hacer la comparación: "
   ]
  },
  {
   "cell_type": "code",
   "execution_count": 34,
   "id": "67ffa7ac",
   "metadata": {},
   "outputs": [
    {
     "data": {
      "text/html": [
       "<div>\n",
       "<style scoped>\n",
       "    .dataframe tbody tr th:only-of-type {\n",
       "        vertical-align: middle;\n",
       "    }\n",
       "\n",
       "    .dataframe tbody tr th {\n",
       "        vertical-align: top;\n",
       "    }\n",
       "\n",
       "    .dataframe thead th {\n",
       "        text-align: right;\n",
       "    }\n",
       "</style>\n",
       "<table border=\"1\" class=\"dataframe\">\n",
       "  <thead>\n",
       "    <tr style=\"text-align: right;\">\n",
       "      <th></th>\n",
       "      <th>id</th>\n",
       "      <th>nearc2</th>\n",
       "      <th>educ</th>\n",
       "      <th>age</th>\n",
       "      <th>fatheduc</th>\n",
       "      <th>motheduc</th>\n",
       "      <th>weight</th>\n",
       "      <th>momdad14</th>\n",
       "      <th>sinmom14</th>\n",
       "      <th>step14</th>\n",
       "      <th>...</th>\n",
       "      <th>KWW</th>\n",
       "      <th>IQ</th>\n",
       "      <th>married</th>\n",
       "      <th>libcrd14</th>\n",
       "      <th>exper</th>\n",
       "      <th>lwage</th>\n",
       "      <th>expersq</th>\n",
       "      <th>u_lwage</th>\n",
       "      <th>lwage_hat</th>\n",
       "      <th>u_educ</th>\n",
       "    </tr>\n",
       "    <tr>\n",
       "      <th>nearc4</th>\n",
       "      <th></th>\n",
       "      <th></th>\n",
       "      <th></th>\n",
       "      <th></th>\n",
       "      <th></th>\n",
       "      <th></th>\n",
       "      <th></th>\n",
       "      <th></th>\n",
       "      <th></th>\n",
       "      <th></th>\n",
       "      <th></th>\n",
       "      <th></th>\n",
       "      <th></th>\n",
       "      <th></th>\n",
       "      <th></th>\n",
       "      <th></th>\n",
       "      <th></th>\n",
       "      <th></th>\n",
       "      <th></th>\n",
       "      <th></th>\n",
       "      <th></th>\n",
       "    </tr>\n",
       "  </thead>\n",
       "  <tbody>\n",
       "    <tr>\n",
       "      <th>0.0</th>\n",
       "      <td>3489.990479</td>\n",
       "      <td>0.354232</td>\n",
       "      <td>12.698014</td>\n",
       "      <td>27.927900</td>\n",
       "      <td>9.221606</td>\n",
       "      <td>9.939687</td>\n",
       "      <td>297838.62500</td>\n",
       "      <td>0.788924</td>\n",
       "      <td>0.095089</td>\n",
       "      <td>0.040752</td>\n",
       "      <td>...</td>\n",
       "      <td>31.515345</td>\n",
       "      <td>100.610649</td>\n",
       "      <td>2.222689</td>\n",
       "      <td>0.549634</td>\n",
       "      <td>9.229885</td>\n",
       "      <td>6.155494</td>\n",
       "      <td>103.509926</td>\n",
       "      <td>-0.021442</td>\n",
       "      <td>6.176936</td>\n",
       "      <td>-0.163051</td>\n",
       "    </tr>\n",
       "    <tr>\n",
       "      <th>1.0</th>\n",
       "      <td>2158.374512</td>\n",
       "      <td>0.481247</td>\n",
       "      <td>13.527034</td>\n",
       "      <td>28.208963</td>\n",
       "      <td>10.356696</td>\n",
       "      <td>10.533370</td>\n",
       "      <td>332068.21875</td>\n",
       "      <td>0.789576</td>\n",
       "      <td>0.103264</td>\n",
       "      <td>0.037993</td>\n",
       "      <td>...</td>\n",
       "      <td>34.489098</td>\n",
       "      <td>103.206848</td>\n",
       "      <td>2.294003</td>\n",
       "      <td>0.732843</td>\n",
       "      <td>8.681929</td>\n",
       "      <td>6.311401</td>\n",
       "      <td>91.882126</td>\n",
       "      <td>0.009995</td>\n",
       "      <td>6.301406</td>\n",
       "      <td>0.076006</td>\n",
       "    </tr>\n",
       "  </tbody>\n",
       "</table>\n",
       "<p>2 rows × 36 columns</p>\n",
       "</div>"
      ],
      "text/plain": [
       "                 id    nearc2       educ        age   fatheduc   motheduc  \\\n",
       "nearc4                                                                      \n",
       "0.0     3489.990479  0.354232  12.698014  27.927900   9.221606   9.939687   \n",
       "1.0     2158.374512  0.481247  13.527034  28.208963  10.356696  10.533370   \n",
       "\n",
       "              weight  momdad14  sinmom14    step14  ...        KWW  \\\n",
       "nearc4                                              ...              \n",
       "0.0     297838.62500  0.788924  0.095089  0.040752  ...  31.515345   \n",
       "1.0     332068.21875  0.789576  0.103264  0.037993  ...  34.489098   \n",
       "\n",
       "                IQ   married  libcrd14     exper     lwage     expersq  \\\n",
       "nearc4                                                                   \n",
       "0.0     100.610649  2.222689  0.549634  9.229885  6.155494  103.509926   \n",
       "1.0     103.206848  2.294003  0.732843  8.681929  6.311401   91.882126   \n",
       "\n",
       "         u_lwage  lwage_hat    u_educ  \n",
       "nearc4                                 \n",
       "0.0    -0.021442   6.176936 -0.163051  \n",
       "1.0     0.009995   6.301406  0.076006  \n",
       "\n",
       "[2 rows x 36 columns]"
      ]
     },
     "execution_count": 34,
     "metadata": {},
     "output_type": "execute_result"
    },
    {
     "data": {
      "image/png": "[encoded data removed]",
      "text/plain": [
       "<Figure size 412x360 with 1 Axes>"
      ]
     },
     "metadata": {
      "needs_background": "light"
     },
     "output_type": "display_data"
    }
   ],
   "source": [
    "sns.displot(card, x=\"lwage\", hue=\"nearc2\", kind=\"kde\", fill=True)\n",
    "card.groupby([\"nearc2\"]).mean() #get the nearc2's mean"
   ]
  },
  {
   "cell_type": "markdown",
   "id": "bbd12be4",
   "metadata": {},
   "source": [
    "En los histogramas se puede ver que cuando nearc2 es igual a 1 ((o sea que sí existe un college en el county)), la cantidad de personas que tienen un salario alto es más del doble, respecto a cuando nearc2 es igual a 0\n",
    "\n",
    "Además, la población con condición nearc2=1, poseen una población mayor al tener una área mayor. Es decir, el área naranja es mucho más grande que el área azul (con nearc2=0). \n",
    "\n",
    "\n",
    "Asimismo, se puede ver una distribución más simétroca a las personas con nearc2 igual a 0.\n",
    "\n",
    "por otro lado, cuando nearc2 es igual a 1, la distribución de la cantidad de personas es más dispareja, hay una mayor concentración en la mitad de la tabla (hasta antes que el logaritmo sea menor a 6.5). \n"
   ]
  },
  {
   "cell_type": "markdown",
   "id": "ba142021",
   "metadata": {},
   "source": [
    "**Regresiones**"
   ]
  },
  {
   "cell_type": "markdown",
   "id": "b73f5bf9",
   "metadata": {},
   "source": [
    "- Corran una regresion lineal del tipo \"lwage ~ educ + exper + black + south + married + smsa\", y expliquen los resultados que encuentran."
   ]
  },
  {
   "cell_type": "code",
   "execution_count": 35,
   "id": "3e3e85b0",
   "metadata": {},
   "outputs": [
    {
     "data": {
      "text/html": [
       "<table class=\"simpletable\">\n",
       "<caption>OLS Regression Results</caption>\n",
       "<tr>\n",
       "  <th>Dep. Variable:</th>          <td>lwage</td>      <th>  R-squared:         </th> <td>   0.305</td> \n",
       "</tr>\n",
       "<tr>\n",
       "  <th>Model:</th>                   <td>OLS</td>       <th>  Adj. R-squared:    </th> <td>   0.304</td> \n",
       "</tr>\n",
       "<tr>\n",
       "  <th>Method:</th>             <td>Least Squares</td>  <th>  F-statistic:       </th> <td>   219.2</td> \n",
       "</tr>\n",
       "<tr>\n",
       "  <th>Date:</th>             <td>Fri, 09 Dec 2022</td> <th>  Prob (F-statistic):</th> <td>1.97e-232</td>\n",
       "</tr>\n",
       "<tr>\n",
       "  <th>Time:</th>                 <td>16:37:26</td>     <th>  Log-Likelihood:    </th> <td> -1273.9</td> \n",
       "</tr>\n",
       "<tr>\n",
       "  <th>No. Observations:</th>      <td>  3003</td>      <th>  AIC:               </th> <td>   2562.</td> \n",
       "</tr>\n",
       "<tr>\n",
       "  <th>Df Residuals:</th>          <td>  2996</td>      <th>  BIC:               </th> <td>   2604.</td> \n",
       "</tr>\n",
       "<tr>\n",
       "  <th>Df Model:</th>              <td>     6</td>      <th>                     </th>     <td> </td>    \n",
       "</tr>\n",
       "<tr>\n",
       "  <th>Covariance Type:</th>      <td>nonrobust</td>    <th>                     </th>     <td> </td>    \n",
       "</tr>\n",
       "</table>\n",
       "<table class=\"simpletable\">\n",
       "<tr>\n",
       "      <td></td>         <th>coef</th>     <th>std err</th>      <th>t</th>      <th>P>|t|</th>  <th>[0.025</th>    <th>0.975]</th>  \n",
       "</tr>\n",
       "<tr>\n",
       "  <th>Intercept</th> <td>    5.0633</td> <td>    0.064</td> <td>   79.437</td> <td> 0.000</td> <td>    4.938</td> <td>    5.188</td>\n",
       "</tr>\n",
       "<tr>\n",
       "  <th>educ</th>      <td>    0.0712</td> <td>    0.003</td> <td>   20.438</td> <td> 0.000</td> <td>    0.064</td> <td>    0.078</td>\n",
       "</tr>\n",
       "<tr>\n",
       "  <th>exper</th>     <td>    0.0342</td> <td>    0.002</td> <td>   15.422</td> <td> 0.000</td> <td>    0.030</td> <td>    0.038</td>\n",
       "</tr>\n",
       "<tr>\n",
       "  <th>black</th>     <td>   -0.1660</td> <td>    0.018</td> <td>   -9.426</td> <td> 0.000</td> <td>   -0.201</td> <td>   -0.131</td>\n",
       "</tr>\n",
       "<tr>\n",
       "  <th>south</th>     <td>   -0.1316</td> <td>    0.015</td> <td>   -8.788</td> <td> 0.000</td> <td>   -0.161</td> <td>   -0.102</td>\n",
       "</tr>\n",
       "<tr>\n",
       "  <th>married</th>   <td>   -0.0359</td> <td>    0.003</td> <td>  -10.547</td> <td> 0.000</td> <td>   -0.043</td> <td>   -0.029</td>\n",
       "</tr>\n",
       "<tr>\n",
       "  <th>smsa</th>      <td>    0.1758</td> <td>    0.015</td> <td>   11.372</td> <td> 0.000</td> <td>    0.145</td> <td>    0.206</td>\n",
       "</tr>\n",
       "</table>\n",
       "<table class=\"simpletable\">\n",
       "<tr>\n",
       "  <th>Omnibus:</th>       <td>53.196</td> <th>  Durbin-Watson:     </th> <td>   1.858</td>\n",
       "</tr>\n",
       "<tr>\n",
       "  <th>Prob(Omnibus):</th> <td> 0.000</td> <th>  Jarque-Bera (JB):  </th> <td>  69.430</td>\n",
       "</tr>\n",
       "<tr>\n",
       "  <th>Skew:</th>          <td>-0.231</td> <th>  Prob(JB):          </th> <td>8.38e-16</td>\n",
       "</tr>\n",
       "<tr>\n",
       "  <th>Kurtosis:</th>      <td> 3.584</td> <th>  Cond. No.          </th> <td>    154.</td>\n",
       "</tr>\n",
       "</table><br/><br/>Notes:<br/>[1] Standard Errors assume that the covariance matrix of the errors is correctly specified."
      ],
      "text/plain": [
       "<class 'statsmodels.iolib.summary.Summary'>\n",
       "\"\"\"\n",
       "                            OLS Regression Results                            \n",
       "==============================================================================\n",
       "Dep. Variable:                  lwage   R-squared:                       0.305\n",
       "Model:                            OLS   Adj. R-squared:                  0.304\n",
       "Method:                 Least Squares   F-statistic:                     219.2\n",
       "Date:                Fri, 09 Dec 2022   Prob (F-statistic):          1.97e-232\n",
       "Time:                        16:37:26   Log-Likelihood:                -1273.9\n",
       "No. Observations:                3003   AIC:                             2562.\n",
       "Df Residuals:                    2996   BIC:                             2604.\n",
       "Df Model:                           6                                         \n",
       "Covariance Type:            nonrobust                                         \n",
       "==============================================================================\n",
       "                 coef    std err          t      P>|t|      [0.025      0.975]\n",
       "------------------------------------------------------------------------------\n",
       "Intercept      5.0633      0.064     79.437      0.000       4.938       5.188\n",
       "educ           0.0712      0.003     20.438      0.000       0.064       0.078\n",
       "exper          0.0342      0.002     15.422      0.000       0.030       0.038\n",
       "black         -0.1660      0.018     -9.426      0.000      -0.201      -0.131\n",
       "south         -0.1316      0.015     -8.788      0.000      -0.161      -0.102\n",
       "married       -0.0359      0.003    -10.547      0.000      -0.043      -0.029\n",
       "smsa           0.1758      0.015     11.372      0.000       0.145       0.206\n",
       "==============================================================================\n",
       "Omnibus:                       53.196   Durbin-Watson:                   1.858\n",
       "Prob(Omnibus):                  0.000   Jarque-Bera (JB):               69.430\n",
       "Skew:                          -0.231   Prob(JB):                     8.38e-16\n",
       "Kurtosis:                       3.584   Cond. No.                         154.\n",
       "==============================================================================\n",
       "\n",
       "Notes:\n",
       "[1] Standard Errors assume that the covariance matrix of the errors is correctly specified.\n",
       "\"\"\""
      ]
     },
     "execution_count": 35,
     "metadata": {},
     "output_type": "execute_result"
    }
   ],
   "source": [
    "#OLS\n",
    "ols_reg = sm.OLS.from_formula(\"lwage ~ educ + exper + black + south + married + smsa\", \n",
    "              data = card).fit()\n",
    "\n",
    "ols_reg.summary()"
   ]
  },
  {
   "cell_type": "code",
   "execution_count": 36,
   "id": "e6a43cc8",
   "metadata": {},
   "outputs": [
    {
     "name": "stdout",
     "output_type": "stream",
     "text": [
      "Coeficientes de la regresión lineal\n",
      "Intercept    5.063317\n",
      "educ         0.071173\n",
      "exper        0.034152\n",
      "black       -0.166027\n",
      "south       -0.131552\n",
      "married     -0.035871\n",
      "smsa         0.175787\n",
      "dtype: float64\n"
     ]
    }
   ],
   "source": [
    "# Coeficientes de la regresión lineal\n",
    "print(\"Coeficientes de la regresión lineal\")\n",
    "print(ols_reg.params)"
   ]
  },
  {
   "cell_type": "code",
   "execution_count": 37,
   "id": "98f1a088",
   "metadata": {},
   "outputs": [],
   "source": [
    "# There are null values in the dataset, we will fill them with 0\n",
    "card['married'] = card['married'].fillna(0)"
   ]
  },
  {
   "cell_type": "code",
   "execution_count": 38,
   "id": "c85b335c",
   "metadata": {},
   "outputs": [
    {
     "data": {
      "text/plain": [
       "<AxesSubplot:xlabel='nearc2', ylabel='Count'>"
      ]
     },
     "execution_count": 38,
     "metadata": {},
     "output_type": "execute_result"
    },
    {
     "data": {
      "image/png": "[encoded data removed]",
      "text/plain": [
       "<Figure size 432x288 with 1 Axes>"
      ]
     },
     "metadata": {
      "needs_background": "light"
     },
     "output_type": "display_data"
    }
   ],
   "source": [
    "sns.histplot(data=card, x=\"nearc2\")"
   ]
  },
  {
   "cell_type": "markdown",
   "id": "126c3478",
   "metadata": {},
   "source": [
    "- Hablar de resultados de la primera regresión OJOOOO"
   ]
  },
  {
   "cell_type": "markdown",
   "id": "da7aac0f",
   "metadata": {},
   "source": [
    "Regresiones\n",
    "\n",
    "\n",
    "Corran una regresion lineal del tipo \"lwage ~ educ + exper + black + south + married + smsa\", y expliquen los resultados que encuentran.\n",
    "Corran una regresion de tipo IV(usando el paquete IV2SLS) donde van a instrumentalizar la variable educ con nearc2 .\n",
    "Compare los resultados encontrados usando IV2SLS con la primera regresión. ¿Cambió el coeficiente relacionado a educ , por qué?\n"
   ]
  },
  {
   "cell_type": "code",
   "execution_count": 39,
   "id": "576b6e17",
   "metadata": {},
   "outputs": [
    {
     "data": {
      "text/html": [
       "<table class=\"simpletable\">\n",
       "<caption>IV-2SLS Estimation Summary</caption>\n",
       "<tr>\n",
       "  <th>Dep. Variable:</th>          <td>lwage</td>      <th>  R-squared:         </th> <td>-1.3114</td>\n",
       "</tr>\n",
       "<tr>\n",
       "  <th>Estimator:</th>             <td>IV-2SLS</td>     <th>  Adj. R-squared:    </th> <td>-1.3160</td>\n",
       "</tr>\n",
       "<tr>\n",
       "  <th>No. Observations:</th>       <td>3010</td>       <th>  F-statistic:       </th> <td>289.62</td> \n",
       "</tr>\n",
       "<tr>\n",
       "  <th>Date:</th>             <td>Fri, Dec 09 2022</td> <th>  P-value (F-stat)   </th> <td>0.0000</td> \n",
       "</tr>\n",
       "<tr>\n",
       "  <th>Time:</th>                 <td>16:37:29</td>     <th>  Distribution:      </th> <td>chi2(6)</td>\n",
       "</tr>\n",
       "<tr>\n",
       "  <th>Cov. Estimator:</th>        <td>robust</td>      <th>                     </th>    <td></td>    \n",
       "</tr>\n",
       "<tr>\n",
       "  <th></th>                          <td></td>         <th>                     </th>    <td></td>    \n",
       "</tr>\n",
       "</table>\n",
       "<table class=\"simpletable\">\n",
       "<caption>Parameter Estimates</caption>\n",
       "<tr>\n",
       "      <td></td>      <th>Parameter</th> <th>Std. Err.</th> <th>T-stat</th>  <th>P-value</th> <th>Lower CI</th> <th>Upper CI</th>\n",
       "</tr>\n",
       "<tr>\n",
       "  <th>Intercept</th>  <td>0.1276</td>    <td>3.1412</td>   <td>0.0406</td>  <td>0.9676</td>   <td>-6.0290</td>  <td>6.2843</td> \n",
       "</tr>\n",
       "<tr>\n",
       "  <th>black</th>      <td>0.1134</td>    <td>0.1816</td>   <td>0.6244</td>  <td>0.5324</td>   <td>-0.2425</td>  <td>0.4692</td> \n",
       "</tr>\n",
       "<tr>\n",
       "  <th>exper</th>      <td>0.1515</td>    <td>0.0747</td>   <td>2.0274</td>  <td>0.0426</td>   <td>0.0050</td>   <td>0.2980</td> \n",
       "</tr>\n",
       "<tr>\n",
       "  <th>married</th>    <td>-0.0151</td>   <td>0.0147</td>   <td>-1.0258</td> <td>0.3050</td>   <td>-0.0438</td>  <td>0.0137</td> \n",
       "</tr>\n",
       "<tr>\n",
       "  <th>smsa</th>       <td>0.0201</td>    <td>0.1030</td>   <td>0.1949</td>  <td>0.8455</td>   <td>-0.1819</td>  <td>0.2220</td> \n",
       "</tr>\n",
       "<tr>\n",
       "  <th>south</th>      <td>-0.0319</td>   <td>0.0692</td>   <td>-0.4603</td> <td>0.6453</td>   <td>-0.1675</td>  <td>0.1038</td> \n",
       "</tr>\n",
       "<tr>\n",
       "  <th>educ</th>       <td>0.3618</td>    <td>0.1849</td>   <td>1.9562</td>  <td>0.0504</td>   <td>-0.0007</td>  <td>0.7243</td> \n",
       "</tr>\n",
       "</table><br/><br/>Endogenous: educ<br/>Instruments: nearc2<br/>Robust Covariance (Heteroskedastic)<br/>Debiased: False"
      ],
      "text/plain": [
       "<class 'linearmodels.compat.statsmodels.Summary'>\n",
       "\"\"\"\n",
       "                          IV-2SLS Estimation Summary                          \n",
       "==============================================================================\n",
       "Dep. Variable:                  lwage   R-squared:                     -1.3114\n",
       "Estimator:                    IV-2SLS   Adj. R-squared:                -1.3160\n",
       "No. Observations:                3010   F-statistic:                    289.62\n",
       "Date:                Fri, Dec 09 2022   P-value (F-stat)                0.0000\n",
       "Time:                        16:37:29   Distribution:                  chi2(6)\n",
       "Cov. Estimator:                robust                                         \n",
       "                                                                              \n",
       "                             Parameter Estimates                              \n",
       "==============================================================================\n",
       "            Parameter  Std. Err.     T-stat    P-value    Lower CI    Upper CI\n",
       "------------------------------------------------------------------------------\n",
       "Intercept      0.1276     3.1412     0.0406     0.9676     -6.0290      6.2843\n",
       "black          0.1134     0.1816     0.6244     0.5324     -0.2425      0.4692\n",
       "exper          0.1515     0.0747     2.0274     0.0426      0.0050      0.2980\n",
       "married       -0.0151     0.0147    -1.0258     0.3050     -0.0438      0.0137\n",
       "smsa           0.0201     0.1030     0.1949     0.8455     -0.1819      0.2220\n",
       "south         -0.0319     0.0692    -0.4603     0.6453     -0.1675      0.1038\n",
       "educ           0.3618     0.1849     1.9562     0.0504     -0.0007      0.7243\n",
       "==============================================================================\n",
       "\n",
       "Endogenous: educ\n",
       "Instruments: nearc2\n",
       "Robust Covariance (Heteroskedastic)\n",
       "Debiased: False\n",
       "\"\"\""
      ]
     },
     "execution_count": 39,
     "metadata": {},
     "output_type": "execute_result"
    }
   ],
   "source": [
    "#2SLS\n",
    "iv_reg = IV2SLS.from_formula(\"lwage ~ 1 + exper + black + south + married + smsa + [educ ~ nearc2]\", card).fit()\n",
    "iv_reg.summary"
   ]
  },
  {
   "cell_type": "code",
   "execution_count": 40,
   "id": "9aab25ff",
   "metadata": {},
   "outputs": [
    {
     "name": "stdout",
     "output_type": "stream",
     "text": [
      "Coeficientes de la regresión de tipo IV\n",
      "Intercept    0.127624\n",
      "black        0.113361\n",
      "exper        0.151502\n",
      "married     -0.015058\n",
      "smsa         0.020083\n",
      "south       -0.031859\n",
      "educ         0.361797\n",
      "Name: parameter, dtype: float64\n"
     ]
    }
   ],
   "source": [
    "# Coeficientes de la regresión de tipo IV\n",
    "print(\"Coeficientes de la regresión de tipo IV\")\n",
    "print(iv_reg.params)"
   ]
  },
  {
   "cell_type": "markdown",
   "id": "1fe3a218",
   "metadata": {},
   "source": [
    "***Conclusión***:\n",
    "\n",
    "- En primer lugar, se presentan los resultados de la prueba OLS. Por cada año adicional de escolarización, los ingresos de los encuestados aumentan aproximadamente un 7,1%. \n",
    "\n",
    " **Luego de instrumentalizar la variable \"educ\", se corre una regresion de tipo IV(usando el paquete IV2SLS):***\n",
    "\n",
    "- A continuación, estimamos los 2SLS. Aquí encontramos un rendimiento de la escolarización mucho mayor que el que habíamos encontrado utilizando OLS. El estadístico F es superior a 15, lo que sugiere que no tenemos un problema de instrumento débil. El rendimiento de la escolarización asociado a esta estimación 2SLS es de 0,361, es decir, por cada año adicional de escolarización, los ingresos aumentan un 36,1%.\n",
    "\n",
    "- Finalmente, el cambio del coeficiente se debe a la instrumentalización de la variable $educ$\n",
    "- Asimismo, se enumeran otras covariables en casos sea necesario estudiarlas también.\n"
   ]
  },
  {
   "cell_type": "code",
   "execution_count": null,
   "id": "7bbc067f",
   "metadata": {},
   "outputs": [],
   "source": []
  },
  {
   "cell_type": "code",
   "execution_count": null,
   "id": "06872f65",
   "metadata": {},
   "outputs": [],
   "source": []
  },
  {
   "cell_type": "code",
   "execution_count": null,
   "id": "6d8aa3f4",
   "metadata": {},
   "outputs": [],
   "source": []
  },
  {
   "cell_type": "code",
   "execution_count": null,
   "id": "c35fc756",
   "metadata": {},
   "outputs": [],
   "source": []
  },
  {
   "cell_type": "code",
   "execution_count": null,
   "id": "db7d9522",
   "metadata": {},
   "outputs": [],
   "source": []
  },
  {
   "cell_type": "code",
   "execution_count": null,
   "id": "a3039b29",
   "metadata": {},
   "outputs": [],
   "source": []
  },
  {
   "cell_type": "code",
   "execution_count": null,
   "id": "e9cab57e",
   "metadata": {},
   "outputs": [],
   "source": []
  },
  {
   "cell_type": "code",
   "execution_count": null,
   "id": "2bb1bc4f",
   "metadata": {},
   "outputs": [],
   "source": []
  },
  {
   "cell_type": "code",
   "execution_count": null,
   "id": "d06f5fb7",
   "metadata": {},
   "outputs": [],
   "source": []
  },
  {
   "cell_type": "code",
   "execution_count": null,
   "id": "e7512a86",
   "metadata": {},
   "outputs": [],
   "source": []
  }
 ],
 "metadata": {
  "kernelspec": {
   "display_name": "Python 3 (ipykernel)",
   "language": "python",
   "name": "python3"
  },
  "language_info": {
   "codemirror_mode": {
    "name": "ipython",
    "version": 3
   },
   "file_extension": ".py",
   "mimetype": "text/x-python",
   "name": "python",
   "nbconvert_exporter": "python",
   "pygments_lexer": "ipython3",
   "version": "3.9.12"
  }
 },
 "nbformat": 4,
 "nbformat_minor": 5
}
