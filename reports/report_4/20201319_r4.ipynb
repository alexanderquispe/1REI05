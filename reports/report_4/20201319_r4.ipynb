{
 "cells": [
  {
   "cell_type": "markdown",
   "id": "a6ccfafb",
   "metadata": {},
   "source": [
    "# REPORTE 4"
   ]
  },
  {
   "cell_type": "markdown",
   "id": "5ffecc66",
   "metadata": {},
   "source": [
    "**Nombre:** Alessandra Marcela Marocho Pacheco\n",
    "\n",
    "**Código:** 20201319"
   ]
  },
  {
   "cell_type": "code",
   "execution_count": 290,
   "id": "77b51a4a",
   "metadata": {},
   "outputs": [],
   "source": [
    "import ipywidgets as widgets\n",
    "import matplotlib.pyplot as plt\n",
    "import numpy as np\n",
    "import sympy as sy\n",
    "from sympy import *\n",
    "import pandas as pd"
   ]
  },
  {
   "cell_type": "markdown",
   "id": "054a5e35",
   "metadata": {},
   "source": [
    "## PRIMERA PARTE"
   ]
  },
  {
   "cell_type": "markdown",
   "id": "8c8d832a",
   "metadata": {},
   "source": [
    "### LECTURA\n",
    "El presente artículo introduce una propuesta por la cual se busca modelar con el empleo de modelos macroeconómicos tradicionales, tales como los propuestos por Keynes o Tobin, una política monetaria no convencional. Mendoza empieza describiendo cuáles fueron los cambios acontecidos dentro de la política monetaria de la Reserva Federal de Estados Unidos (Fed) durante la crisis de 2008. Frente a lo señalado, el autor propone la utilización de modelos macroeconómicos, tales como el modelo IS-LM, y adicionarle el mercado de bonos a largo plazo para reflejar la política emprendida por el Fed después del abandono de su principal instrumento: la tasa de interés de referencia.\n",
    "\n",
    "\n",
    "El empleo del modelo IS – LM y la inclusión del mercado de bonos a largo plazo en el mismo es una de las principales fortalezas de la lectura. Mendoza logra demostrar de esta manera que los mercados de deuda a largo plazo pueden ser, acompañados de la sencillez del modelo keynesiano de base, instrumentos que nos permiten contar con una mejor comprensión acerca del panorama económico actual. En consecuencia, prueba que un modelo macroeconómico antiguo aún puede ser efectivo para explicar eventos modernos. Además de ello, también resulta interesante observar cómo, por medio del modelo propuesto, se le adicionan expectativas para racionales para intentar predecir el futuro. Finalmente, otra de las fortalezas del modelo propuesto por Mendoza es la posibilidad de discutir acerca de los efectos ante, por ejemplo, un mayor gasto público, una mayor compra de bonos a largo plazo o la reducción del producto potencial. Mendoza nos ofrece, por medio de sus simulaciones, una imagen detallada de los resultados que se pueden obtener dentro de los mercados considerados en su modelo.\n",
    "\n",
    "\n",
    "Por otro lado, el principal aporte del artículo se concentra en el empleo de modelos macroeconómicos tradicionales para explicar situaciones económicas actuales. El artículo lograr simular de manera muy clara la política desarrollada por la Fed durante de la crisis económica de 2008. A pesar encontrarnos en un mundo distinto en el que estos fueron desarrollados, Mendoza argumenta que los modelos macroeconómicos antiguos tienen la capacidad para simular escenarios actuales de manera más efectiva frente a modelos modernos. Debido a ello, la publicación de este artículo también alienta a considerar la utilización de estos modelos sencillos para realizar simulaciones sobre escenarios económicos actuales, con la incorporación de distintos instrumentos de política monetaria, como es el caso del mercado de bonos a largo plazo. Este artículo sirve como sustento para demostrar la eficacia de los modelos macroeconómicos en la actualidad. "
   ]
  },
  {
   "cell_type": "markdown",
   "id": "4d928622",
   "metadata": {},
   "source": [
    "## SEGUNDA PARTE  "
   ]
  },
  {
   "cell_type": "markdown",
   "id": "5ce4b322",
   "metadata": {},
   "source": [
    "### Modelo IS-LM\n",
    "\n",
    "Teniendo en cuenta la ecuación de la curva IS:\n",
    "\n",
    "$$ r = \\frac {B_o} {h} - \\frac {B_1} {h} Y$$\n",
    "\n",
    "Compuesta por: \n",
    "\n",
    "$$B_o = C_o + I_o + G_o + X_o$$\n",
    "\n",
    "$$B_1 = 1 -(b-m)(1-t)$$\n",
    "\n",
    "Y, por su parte, la ecuación de la curva LM:\n",
    "\n",
    "$$ r = - \\frac {M^s_o} {Pj} + \\frac {k} {j} Y  $$\n",
    "\n",
    "Se halla el nivel de Ingresos equilibrio $(Y^e)$ y la tasa de interés de equilibrio $(r^e)$ al igualarlas:\n",
    "\n",
    "$$ \\frac {B_o} {h} - \\frac {B_1} {h} Y = - \\frac {M^s_o} {Pj} + \\frac {k} {j} Y $$\n",
    "\n",
    "Y se representan de la siguiente manera:\n",
    "\n",
    "$$Y^e = \\frac {jB_o}{kh + jB_1} + (\\frac {h}{kh + jB_1}) \\frac {M^s_o}{P_o}$$\n",
    "\n",
    "$$r^e = \\frac {kB_o}{kh + jB_1} - (\\frac {B_1}{kh + jB_1}) \\frac {M^s_o}{P_o} $$"
   ]
  },
  {
   "cell_type": "code",
   "execution_count": 277,
   "id": "1c23e1f1",
   "metadata": {},
   "outputs": [],
   "source": [
    " # Curva IS\n",
    "\n",
    "# Parámetros\n",
    "\n",
    "Y_size = 100 \n",
    "\n",
    "Co = 40\n",
    "Io = 50\n",
    "Go = 60\n",
    "Xo = 3\n",
    "h = 0.7\n",
    "b = 0.5\n",
    "m = 0.7\n",
    "t = 0.6\n",
    "\n",
    "Y = np.arange(Y_size)\n",
    "\n",
    "\n",
    "# Ecuación \n",
    "def r_IS(b, m, t, Co, Io, Go, Xo, h, Y):\n",
    "    r_IS = (Co + Io + Go + Xo)/h - ( ( 1-(b-m)*(1-t) ) / h)*Y  \n",
    "    return r_IS\n",
    "\n",
    "r_is = r_IS(b, m, t, Co, Io, Go, Xo, h, Y)\n",
    "\n",
    " # Curva LM \n",
    "\n",
    "# Parámetros\n",
    "\n",
    "Y_size = 100\n",
    "\n",
    "k = 6\n",
    "j = 2                \n",
    "Ms = 300             \n",
    "P  = 25\n",
    "\n",
    "Y = np.arange(Y_size)\n",
    "\n",
    "# Ecuación\n",
    "\n",
    "def r_LM(k, j, Ms, P, Y):\n",
    "    r_LM = - (1/j)*(Ms/P) + (k/j)*Y\n",
    "    return r_LM\n",
    "\n",
    "r_lm = r_LM( k, j, Ms, P, Y)\n"
   ]
  },
  {
   "cell_type": "code",
   "execution_count": 36,
   "id": "74b535c1",
   "metadata": {
    "scrolled": false
   },
   "outputs": [
    {
     "data": {
      "image/png": "[encoded data removed]",
      "text/plain": [
       "<Figure size 720x576 with 1 Axes>"
      ]
     },
     "metadata": {},
     "output_type": "display_data"
    }
   ],
   "source": [
    "# Dimensiones del gráfico\n",
    "y_max = np.max(r_lm)\n",
    "fig, ax = plt.subplots(figsize=(10, 8))\n",
    "\n",
    "# Curvas a graficar\n",
    "# Curva IS\n",
    "ax.plot(Y, r_is, label = \"IS\", color = \"#9FA8E8\") #IS\n",
    "# Curva LM\n",
    "ax.plot(Y, r_lm, label=\"LM\", color = \"#9FE3E8\")  #LM\n",
    "\n",
    "# Eliminar las cantidades de los ejes\n",
    "ax.yaxis.set_major_locator(plt.NullLocator())   \n",
    "ax.xaxis.set_major_locator(plt.NullLocator())\n",
    "\n",
    "# Texto y figuras agregadas\n",
    "plt.axvline(x=49.5,  ymin= 0, ymax= 0.5, linestyle = \":\", color = \"black\")\n",
    "plt.axhline(y=142, xmin= 0, xmax= 0.5, linestyle = \":\", color = \"black\")\n",
    "\n",
    "# Plotear los textos \n",
    "plt.text(48,152, '$E_0$', fontsize = 14, color = 'black')\n",
    "plt.text(0,150, '$r_0$', fontsize = 12, color = 'black')\n",
    "plt.text(53,-10, '$Y_0$', fontsize = 12, color = 'black')\n",
    "\n",
    "# Título, ejes y leyenda\n",
    "ax.set(title=\"Modelo IS-LM\", xlabel= r'Y', ylabel= r'r')\n",
    "ax.legend()\n",
    "\n",
    "plt.show()"
   ]
  },
  {
   "cell_type": "markdown",
   "id": "04cabdb9",
   "metadata": {},
   "source": [
    "## Estática comparativa"
   ]
  },
  {
   "cell_type": "markdown",
   "id": "e6153069",
   "metadata": {},
   "source": [
    "**Analice los efectos sobre las variables endógenas Y, r de una disminución del gasto fiscal $(∆G_o<0)$**\n",
    "\n",
    "**1. Intuición**\n",
    "\n",
    "Mercado de bienes: \n",
    "$$G_o↓→DA↓→DA<Y→Y↓$$\n",
    "\n",
    "Mercado de dinero:\n",
    "$$Y↓→M^d↓→M^d<M^s→M^s↓→M^d=M^s$$\n",
    "\n",
    "**2. Matemática**"
   ]
  },
  {
   "cell_type": "code",
   "execution_count": 299,
   "id": "dee596d2",
   "metadata": {},
   "outputs": [],
   "source": [
    "# nombrar variables como símbolos\n",
    "Co, Io, Go, Xo, h, r, b, m, t, beta_0, beta_1  = symbols('Co Io Go Xo h r b m t beta_0, beta_1')\n",
    "\n",
    "# nombrar variables como símbolos\n",
    "k, j, Ms, P, Y = symbols('k j Ms P Y')\n",
    "\n",
    "# Beta_0 y beta_1\n",
    "beta_0 = (Co + Io + Go + Xo)\n",
    "beta_1 = ( 1-(b-m)*(1-t) )\n",
    "\n",
    "# Producto de equilibrio y la tasa de interes de equilibrio en el modelo IS-LM\n",
    "r_eq = (k*beta_0)/(k*h + j*beta_1) - ( beta_1 / (k*h + j*beta_1) )*(Ms/P)\n",
    "Y_eq = (j*beta_0)/(k*h + j*beta_1) + ( h / (k*h + j*beta_1) )*(Ms/P)"
   ]
  },
  {
   "cell_type": "code",
   "execution_count": 279,
   "id": "a95b645c",
   "metadata": {},
   "outputs": [
    {
     "name": "stdout",
     "output_type": "stream",
     "text": [
      "Diferencial del Producto con respecto al diferencial del gasto autónomo =  j/(h*k + j*(-(1 - t)*(b - m) + 1))\n"
     ]
    }
   ],
   "source": [
    "df_Y_eq_Go = diff(Y_eq, Go)\n",
    "print(\"Diferencial del Producto con respecto al diferencial del gasto autónomo = \", df_Y_eq_Go)  "
   ]
  },
  {
   "cell_type": "code",
   "execution_count": 300,
   "id": "20f3decf",
   "metadata": {},
   "outputs": [
    {
     "data": {
      "text/latex": [
       "$\\displaystyle \\frac{j}{h k + j \\left(- \\left(1 - t\\right) \\left(b - m\\right) + 1\\right)}$"
      ],
      "text/plain": [
       "j/(h*k + j*(-(1 - t)*(b - m) + 1))"
      ]
     },
     "execution_count": 300,
     "metadata": {},
     "output_type": "execute_result"
    }
   ],
   "source": [
    "df_Y_eq_Go"
   ]
  },
  {
   "cell_type": "code",
   "execution_count": 280,
   "id": "6f7fb274",
   "metadata": {},
   "outputs": [
    {
     "name": "stdout",
     "output_type": "stream",
     "text": [
      "Diferencial de la tasa de interes con respecto al diferencial del gasto autónomo =  k/(h*k + j*(-(1 - t)*(b - m) + 1))\n"
     ]
    }
   ],
   "source": [
    "df_r_eq_Go = diff(r_eq, Go)\n",
    "print(\"Diferencial de la tasa de interes con respecto al diferencial del gasto autónomo = \", df_r_eq_Go)  "
   ]
  },
  {
   "cell_type": "code",
   "execution_count": 301,
   "id": "1b42c7ae",
   "metadata": {},
   "outputs": [
    {
     "data": {
      "text/latex": [
       "$\\displaystyle \\frac{k}{h k + j \\left(- \\left(1 - t\\right) \\left(b - m\\right) + 1\\right)}$"
      ],
      "text/plain": [
       "k/(h*k + j*(-(1 - t)*(b - m) + 1))"
      ]
     },
     "execution_count": 301,
     "metadata": {},
     "output_type": "execute_result"
    }
   ],
   "source": [
    "df_r_eq_Go "
   ]
  },
  {
   "cell_type": "markdown",
   "id": "5591f7a5",
   "metadata": {},
   "source": [
    "**3.Gráfico**"
   ]
  },
  {
   "cell_type": "code",
   "execution_count": 282,
   "id": "da6b87db",
   "metadata": {},
   "outputs": [],
   "source": [
    "# Curva IS ORIGINAL\n",
    "\n",
    "# Parámetros\n",
    "\n",
    "Y_size = 100 \n",
    "\n",
    "Co = 40\n",
    "Io = 50\n",
    "Go = 60\n",
    "Xo = 3\n",
    "h = 0.7\n",
    "b = 0.5\n",
    "m = 0.7\n",
    "t = 0.6\n",
    "\n",
    "Y = np.arange(Y_size)\n",
    "\n",
    "\n",
    "# Ecuación \n",
    "def r_IS(b, m, t, Co, Io, Go, Xo, h, Y):\n",
    "    r_IS = (Co + Io + Go + Xo - Y * (1-(b-m)*(1-t)))/h\n",
    "    return r_IS\n",
    "\n",
    "r = r_IS(b, m, t, Co, Io, Go, Xo, h, Y)\n",
    "# Curva LM ORIGINAL\n",
    "\n",
    "# Parámetros\n",
    "\n",
    "Y_size = 100\n",
    "\n",
    "k = 6\n",
    "j = 2                \n",
    "Ms = 300             \n",
    "P  = 25            \n",
    "\n",
    "Y = np.arange(Y_size)\n",
    "\n",
    "# Ecuación\n",
    "\n",
    "def i_LM( k, j, Ms, P, Y):\n",
    "    i_LM = (-Ms/P)/j + k/j*Y\n",
    "    return i_LM\n",
    "\n",
    "i = i_LM( k, j, Ms, P, Y)\n",
    "\n",
    "# NUEVA curva IS: reducción Gasto de Gobienro (Go)\n",
    "    \n",
    "# Definir SOLO el parámetro cambiado\n",
    "Go = 30\n",
    "\n",
    "# Generar la ecuación con el nuevo parámetro\n",
    "def r_IS(b, m, t, Co, Io, Go, Xo, h, Y):\n",
    "    r_IS = (Co + Io + Go + Xo - Y * (1-(b-m)*(1-t)))/h\n",
    "    return r_IS\n",
    "\n",
    "r_G = r_IS(b, m, t, Co, Io, Go, Xo, h, Y)"
   ]
  },
  {
   "cell_type": "code",
   "execution_count": 283,
   "id": "d7607957",
   "metadata": {},
   "outputs": [
    {
     "data": {
      "image/png": "[encoded data removed]",
      "text/plain": [
       "<Figure size 720x576 with 1 Axes>"
      ]
     },
     "metadata": {
      "needs_background": "light"
     },
     "output_type": "display_data"
    }
   ],
   "source": [
    "# Dimensiones del gráfico\n",
    "y_max = np.max(i)\n",
    "fig, ax = plt.subplots(figsize=(10, 8))\n",
    "\n",
    "# Curvas a graficar\n",
    "ax.plot(Y, r, label = \"IS_(G_0)\", color = \"#9FA8E8\") #IS_orginal\n",
    "ax.plot(Y, r_G, label = \"IS_(G_1)\", color = \"#9FA8E8\", linestyle = 'dashed') #IS_modificada\n",
    "\n",
    "ax.plot(Y, i, label=\"LM\", color = \"#9FE3E8\")  #LM_original\n",
    "\n",
    "# Texto y figuras agregadas\n",
    "plt.axvline(x=40,  ymin= 0, ymax= 0.42, linestyle = \":\", color = \"grey\")\n",
    "plt.axhline(y=114, xmin= 0, xmax= 0.41, linestyle = \":\", color = \"grey\")\n",
    "\n",
    "plt.axvline(x=49,  ymin= 0, ymax= 0.5, linestyle = \":\", color = \"grey\")\n",
    "plt.axhline(y=142, xmin= 0, xmax= 0.5, linestyle = \":\", color = \"grey\")\n",
    "\n",
    "plt.text(47,151, '$E_0$', fontsize = 14, color = 'black')\n",
    "plt.text(38,120, '$E_1$', fontsize = 14, color = 'black')\n",
    "plt.text(-1,150, '$r_0$', fontsize = 12, color = 'black')\n",
    "plt.text(50,0, '$Y_0$', fontsize = 12, color = 'black')\n",
    "#plt.text(50,52, '$E_1$', fontsize = 14, color = '#3D59AB')\n",
    "plt.text(-1,120, '$r_1$', fontsize = 12, color = 'black')\n",
    "plt.text(42,0, '$Y_1$', fontsize = 12, color = 'black')\n",
    "\n",
    "plt.text(20, 125, '↓', fontsize=15, color='grey')\n",
    "plt.text(43, 52, '←', fontsize=15, color='grey')\n",
    "\n",
    "# Título, ejes y leyenda\n",
    "ax.set(title=\"Disminución del gasto fiscal $(∆G_o<0)$\", xlabel= r'Y', ylabel= r'r')\n",
    "ax.legend()\n",
    "\n",
    "plt.show()"
   ]
  },
  {
   "cell_type": "markdown",
   "id": "7dabf34b",
   "metadata": {},
   "source": [
    "**Analice los efectos sobre las variables endógenas Y, r de una disminución de la masa monetaria $(∆M^s<0)$**\n",
    "\n",
    "**1. Intuición**\n",
    "\n",
    "Mercado de dinero: \n",
    "$$M^s↓ → M^s<M^d → r↑$$\n",
    "\n",
    "Mercado de bienes: \n",
    "$$r↑ → I↓ → DA<Y → Y↓$$\n",
    "\n",
    "**2. Matemática**"
   ]
  },
  {
   "cell_type": "code",
   "execution_count": 295,
   "id": "c8db2f55",
   "metadata": {},
   "outputs": [],
   "source": [
    "# nombrar variables como símbolos\n",
    "Co, Io, Go, Xo, h, r, b, m, t, beta_0, beta_1  = symbols('Co Io Go Xo h r b m t beta_0, beta_1')\n",
    "\n",
    "# nombrar variables como símbolos\n",
    "k, j, Ms, P, Y = symbols('k j Ms P Y')\n",
    "\n",
    "# Beta_0 y beta_1\n",
    "beta_0 = (Co + Io + Go + Xo)\n",
    "beta_1 = ( 1-(b-m)*(1-t) )\n",
    "\n",
    "# Producto de equilibrio y la tasa de interes de equilibrio en el modelo IS-LM\n",
    "Y_eq = (k*beta_0)/(k*h + j*beta_1) - ( beta_1 / (k*h + j*beta_1) )*(Ms/P)\n",
    "r_eq = (j*beta_0)/(k*h + j*beta_1) + ( h / (k*h + j*beta_1) )*(Ms/P)"
   ]
  },
  {
   "cell_type": "code",
   "execution_count": 101,
   "id": "79ce061f",
   "metadata": {},
   "outputs": [
    {
     "name": "stdout",
     "output_type": "stream",
     "text": [
      "El Diferencial de la tasa de interes con respecto al diferencial de la masa monetaria =  h/(P*(h*k + j*(-(1 - t)*(b - m) + 1)))\n"
     ]
    }
   ],
   "source": [
    "df_r_eq_Ms = diff(r_eq, Ms)\n",
    "print(\"El Diferencial de la tasa de interes con respecto al diferencial de la masa monetaria = \", df_r_eq_Ms)  \n",
    "# este diferencial es negativo"
   ]
  },
  {
   "cell_type": "code",
   "execution_count": 296,
   "id": "7d98aa81",
   "metadata": {},
   "outputs": [
    {
     "data": {
      "text/latex": [
       "$\\displaystyle \\frac{h}{P \\left(h k + j \\left(- \\left(1 - t\\right) \\left(b - m\\right) + 1\\right)\\right)}$"
      ],
      "text/plain": [
       "h/(P*(h*k + j*(-(1 - t)*(b - m) + 1)))"
      ]
     },
     "execution_count": 296,
     "metadata": {},
     "output_type": "execute_result"
    }
   ],
   "source": [
    "df_r_eq_Ms"
   ]
  },
  {
   "cell_type": "code",
   "execution_count": 297,
   "id": "2a4f5f54",
   "metadata": {},
   "outputs": [
    {
     "name": "stdout",
     "output_type": "stream",
     "text": [
      "El Diferencial del producto con respecto al diferencial de la masa monetaria =  -(-(1 - t)*(b - m) + 1)/(P*(h*k + j*(-(1 - t)*(b - m) + 1)))\n"
     ]
    }
   ],
   "source": [
    "df_Y_eq_Ms = diff(Y_eq, Ms)\n",
    "print(\"El Diferencial del producto con respecto al diferencial de la masa monetaria = \", df_Y_eq_Ms)  \n",
    "# este diferencial es negativo"
   ]
  },
  {
   "cell_type": "code",
   "execution_count": 298,
   "id": "85483659",
   "metadata": {},
   "outputs": [
    {
     "data": {
      "text/latex": [
       "$\\displaystyle - \\frac{- \\left(1 - t\\right) \\left(b - m\\right) + 1}{P \\left(h k + j \\left(- \\left(1 - t\\right) \\left(b - m\\right) + 1\\right)\\right)}$"
      ],
      "text/plain": [
       "-(-(1 - t)*(b - m) + 1)/(P*(h*k + j*(-(1 - t)*(b - m) + 1)))"
      ]
     },
     "execution_count": 298,
     "metadata": {},
     "output_type": "execute_result"
    }
   ],
   "source": [
    "df_Y_eq_Ms"
   ]
  },
  {
   "cell_type": "markdown",
   "id": "ff7ec788",
   "metadata": {},
   "source": [
    "**3. Gráfico**"
   ]
  },
  {
   "cell_type": "code",
   "execution_count": 285,
   "id": "9c29ddba",
   "metadata": {},
   "outputs": [],
   "source": [
    "# Curva IS ORIGINAL\n",
    "\n",
    "# Parámetros\n",
    "\n",
    "Y_size = 100 \n",
    "\n",
    "Co = 40\n",
    "Io = 50\n",
    "Go = 60\n",
    "Xo = 3\n",
    "h = 0.7\n",
    "b = 0.5\n",
    "m = 0.7\n",
    "t = 0.6\n",
    "\n",
    "Y = np.arange(Y_size)\n",
    "\n",
    "\n",
    "# Ecuación \n",
    "def r_IS(b, m, t, Co, Io, Go, Xo, h, Y):\n",
    "    r_IS = (Co + Io + Go + Xo - Y * (1-(b-m)*(1-t)))/h\n",
    "    return r_IS\n",
    "\n",
    "r = r_IS(b, m, t, Co, Io, Go, Xo, h, Y)\n",
    "\n",
    "\n",
    "#2--------------------------------------------------\n",
    "    # Curva LM ORIGINAL\n",
    "\n",
    "# Parámetros\n",
    "\n",
    "Y_size = 100\n",
    "\n",
    "k = 2\n",
    "j = 1                \n",
    "Ms = 600             \n",
    "P  = 20                            \n",
    "\n",
    "Y = np.arange(Y_size)\n",
    "\n",
    "# Ecuación\n",
    "\n",
    "def i_LM( k, j, Ms, P, Y):\n",
    "    i_LM = (-Ms/P)/j + k/j*Y\n",
    "    return i_LM\n",
    "\n",
    "i = i_LM( k, j, Ms, P, Y)\n",
    "\n",
    "# Definir SOLO el parámetro cambiado\n",
    "Ms = 200\n",
    "\n",
    "# Generar nueva curva LM con la variacion del Ms\n",
    "def i_LM_Ms( k, j, Ms, P, Y):\n",
    "    i_LM = (-Ms/P)/j + k/j*Y\n",
    "    return i_LM\n",
    "\n",
    "i_Ms = i_LM_Ms( k, j, Ms, P, Y)\n"
   ]
  },
  {
   "cell_type": "code",
   "execution_count": 286,
   "id": "d50e371b",
   "metadata": {},
   "outputs": [
    {
     "data": {
      "image/png": "[encoded data removed]",
      "text/plain": [
       "<Figure size 720x576 with 1 Axes>"
      ]
     },
     "metadata": {
      "needs_background": "light"
     },
     "output_type": "display_data"
    }
   ],
   "source": [
    "# Dimensiones del gráfico\n",
    "y_max = np.max(i)\n",
    "fig, ax = plt.subplots(figsize=(10, 8))\n",
    "\n",
    "# Curvas a graficar\n",
    "ax.plot(Y, r, label = \"IS\", color = \"#9FA8E8\") #IS_orginal\n",
    "ax.plot(Y, i, label=\"LM_(MS_0)\", color = \"#9FE3E8\")  #LM_original\n",
    "\n",
    "ax.plot(Y, i_Ms, label=\"LM_(MS_1)\", color = \"#9FE3E8\", linestyle = 'dashed')  #LM_modificada\n",
    "\n",
    "# Lineas de equilibrio_0 \n",
    "plt.axvline(x=64,  ymin= 0, ymax= 0.59, linestyle = \":\", color = \"grey\")\n",
    "plt.axhline(y=120, xmin= 0, xmax= 0.64, linestyle = \":\", color = \"grey\")\n",
    "\n",
    "# Lineas de equilibrio_1 \n",
    "plt.axvline(x=70,  ymin= 0, ymax= 0.55, linestyle = \":\", color = \"grey\")\n",
    "plt.axhline(y=110, xmin= 0, xmax= 0.69, linestyle = \":\", color = \"grey\")\n",
    "\n",
    "# Textos ploteados\n",
    "plt.text(69,116, '$E_0$', fontsize = 14, color = 'black')\n",
    "plt.text(63,126, '$E_1$', fontsize = 14, color = 'black')\n",
    "plt.text(-1,113, '$r_0$', fontsize = 12, color = 'black')\n",
    "plt.text(72,-30, '$Y_0$', fontsize = 12, color = 'black')\n",
    "#plt.text(50,52, '$E_1$', fontsize = 14, color = '#3D59AB')\n",
    "plt.text(-1,125, '$r_1$', fontsize = 12, color = 'black')\n",
    "plt.text(65,-30, '$Y_1$', fontsize = 12, color = 'black')\n",
    "\n",
    "#plt.text(69, 115, '→', fontsize=15, color='grey')\n",
    "#plt.text(69, 52, '←', fontsize=15, color='grey')\n",
    "\n",
    "# Título, ejes y leyenda\n",
    "ax.set(title=\"Disminución de la masa monetaria $(∆M^s<0)$\", xlabel= r'Y', ylabel= r'r')\n",
    "ax.legend()\n",
    "\n",
    "plt.show()"
   ]
  },
  {
   "cell_type": "markdown",
   "id": "3d03ed7f",
   "metadata": {},
   "source": [
    "**Analice los efectos sobre las variables endógenas Y, r de un incremento de la tasa de impuestos $(∆t>0)$.**\n",
    "\n",
    "**1. Intuición**\n",
    "\n",
    "Mercado de bienes: \n",
    "$$ t↑ → DA↓ → DA>Y → Y↓ $$\n",
    "\n",
    "Mercado de dinero:\n",
    "$$ Y↓ → M^d↓→ M^d<M^s → M^s↓ → r↓ $$\n",
    "\n",
    "**2. Matemática**\n"
   ]
  },
  {
   "cell_type": "code",
   "execution_count": 291,
   "id": "2e1e0b08",
   "metadata": {},
   "outputs": [],
   "source": [
    "# nombrar variables como símbolos\n",
    "Co, Io, Go, Xo, h, r, b, m, t, beta_0, beta_1  = symbols('Co Io Go Xo h r b m t beta_0, beta_1')\n",
    "\n",
    "# nombrar variables como símbolos\n",
    "k, j, Ms, P, Y = symbols('k j Ms P Y')\n",
    "\n",
    "# Beta_0 y beta_1\n",
    "beta_0 = (Co + Io + Go + Xo)\n",
    "beta_1 = ( 1-(b-m)*(1-t) )\n",
    "\n",
    "# Producto de equilibrio y la tasa de interes de equilibrio en el modelo IS-LM\n",
    "Y_eq = (k*beta_0)/(k*h + j*beta_1) - ( beta_1 / (k*h + j*beta_1) )*(Ms/P)\n",
    "r_eq = (j*beta_0)/(k*h + j*beta_1) + ( h / (k*h + j*beta_1) )*(Ms/P)"
   ]
  },
  {
   "cell_type": "code",
   "execution_count": 292,
   "id": "3a4ae616",
   "metadata": {},
   "outputs": [
    {
     "name": "stdout",
     "output_type": "stream",
     "text": [
      "El Diferencial de la tasa de interés con respecto al diferencial de la tasa impositiva =  -Ms*h*j*(b - m)/(P*(h*k + j*(-(1 - t)*(b - m) + 1))**2) - j**2*(b - m)*(Co + Go + Io + Xo)/(h*k + j*(-(1 - t)*(b - m) + 1))**2\n"
     ]
    }
   ],
   "source": [
    "df_r_eq_t = diff(r_eq, t)\n",
    "print(\"El Diferencial de la tasa de interés con respecto al diferencial de la tasa impositiva = \", df_r_eq_t)  \n",
    "# este diferencial es positivo"
   ]
  },
  {
   "cell_type": "code",
   "execution_count": 293,
   "id": "dfde71bb",
   "metadata": {},
   "outputs": [
    {
     "data": {
      "text/latex": [
       "$\\displaystyle - \\frac{Ms h j \\left(b - m\\right)}{P \\left(h k + j \\left(- \\left(1 - t\\right) \\left(b - m\\right) + 1\\right)\\right)^{2}} - \\frac{j^{2} \\left(b - m\\right) \\left(Co + Go + Io + Xo\\right)}{\\left(h k + j \\left(- \\left(1 - t\\right) \\left(b - m\\right) + 1\\right)\\right)^{2}}$"
      ],
      "text/plain": [
       "-Ms*h*j*(b - m)/(P*(h*k + j*(-(1 - t)*(b - m) + 1))**2) - j**2*(b - m)*(Co + Go + Io + Xo)/(h*k + j*(-(1 - t)*(b - m) + 1))**2"
      ]
     },
     "execution_count": 293,
     "metadata": {},
     "output_type": "execute_result"
    }
   ],
   "source": [
    "df_r_eq_t"
   ]
  },
  {
   "cell_type": "markdown",
   "id": "37a5b051",
   "metadata": {},
   "source": [
    "Considerando el diferencial de la tasa de interés con respecto al de la tasa impositiva: \n",
    "\n",
    "$$\\frac{∆r}{∆t} = −\\frac {𝑀𝑠ℎ𝑗(𝑏−𝑚)}{𝑃(ℎ𝑘+𝑗(−(1−𝑡)(𝑏−𝑚)+1))2}−\\frac{𝑗2(𝑏−𝑚)(𝐶𝑜+𝐺𝑜+𝐼𝑜+𝑋𝑜)}{(ℎ𝑘+𝑗(−(1−𝑡)(𝑏−𝑚)+1))2} $$\n",
    "\n",
    "Considerando la ley de signos: \n",
    "\n",
    "$$\\frac{∆r}{∆t} = - \\frac{(+)}{(+)} - \\frac {(+)}{(+)} $$\n",
    "\n",
    "$$\\frac{∆r}{∆t} = (-)(+)(-)(+) $$\n"
   ]
  },
  {
   "cell_type": "code",
   "execution_count": 240,
   "id": "ea13a685",
   "metadata": {},
   "outputs": [
    {
     "name": "stdout",
     "output_type": "stream",
     "text": [
      "El Diferencial del producto con respecto al diferencial de la tasa impositiva =  Ms*j*(b - m)*(-(1 - t)*(b - m) + 1)/(P*(h*k + j*(-(1 - t)*(b - m) + 1))**2) - Ms*(b - m)/(P*(h*k + j*(-(1 - t)*(b - m) + 1))) - j*k*(b - m)*(Co + Go + Io + Xo)/(h*k + j*(-(1 - t)*(b - m) + 1))**2\n"
     ]
    }
   ],
   "source": [
    "df_Y_eq_t = diff(Y_eq, t)\n",
    "print(\"El Diferencial del producto con respecto al diferencial de la tasa impositiva = \", df_Y_eq_t)  \n",
    "# este diferencial es positivo"
   ]
  },
  {
   "cell_type": "code",
   "execution_count": 294,
   "id": "e4146490",
   "metadata": {},
   "outputs": [
    {
     "data": {
      "text/latex": [
       "$\\displaystyle \\frac{Ms j \\left(b - m\\right) \\left(- \\left(1 - t\\right) \\left(b - m\\right) + 1\\right)}{P \\left(h k + j \\left(- \\left(1 - t\\right) \\left(b - m\\right) + 1\\right)\\right)^{2}} - \\frac{Ms \\left(b - m\\right)}{P \\left(h k + j \\left(- \\left(1 - t\\right) \\left(b - m\\right) + 1\\right)\\right)} - \\frac{j k \\left(b - m\\right) \\left(Co + Go + Io + Xo\\right)}{\\left(h k + j \\left(- \\left(1 - t\\right) \\left(b - m\\right) + 1\\right)\\right)^{2}}$"
      ],
      "text/plain": [
       "Ms*j*(b - m)*(-(1 - t)*(b - m) + 1)/(P*(h*k + j*(-(1 - t)*(b - m) + 1))**2) - Ms*(b - m)/(P*(h*k + j*(-(1 - t)*(b - m) + 1))) - j*k*(b - m)*(Co + Go + Io + Xo)/(h*k + j*(-(1 - t)*(b - m) + 1))**2"
      ]
     },
     "execution_count": 294,
     "metadata": {},
     "output_type": "execute_result"
    }
   ],
   "source": [
    "df_Y_eq_t"
   ]
  },
  {
   "cell_type": "markdown",
   "id": "13718d5c",
   "metadata": {},
   "source": [
    "**3. Gráfico**"
   ]
  },
  {
   "cell_type": "code",
   "execution_count": 287,
   "id": "a0d42c0c",
   "metadata": {},
   "outputs": [],
   "source": [
    "# Curva IS ORIGINAL\n",
    "\n",
    "# Parámetros\n",
    "\n",
    "Y_size = 100 \n",
    "\n",
    "Co = 40\n",
    "Io = 50\n",
    "Go = 60\n",
    "Xo = 3\n",
    "h = 0.7\n",
    "b = 0.7\n",
    "m = 0.2\n",
    "t = 0.2\n",
    "\n",
    "Y = np.arange(Y_size)\n",
    "\n",
    "# Ecuación \n",
    "def r_IS(b, m, t, Co, Io, Go, Xo, h, Y):\n",
    "    r_IS = (Co + Io + Go + Xo - Y * (1-(b-m)*(1-t)))/h\n",
    "    return r_IS\n",
    "\n",
    "r = r_IS(b, m, t, Co, Io, Go, Xo, h, Y)\n",
    "# Curva LM ORIGINAL\n",
    "\n",
    "# Parámetros\n",
    "\n",
    "Y_size = 100\n",
    "\n",
    "k = 6\n",
    "j = 2                \n",
    "Ms = 300             \n",
    "P  = 25            \n",
    "\n",
    "Y = np.arange(Y_size)\n",
    "\n",
    "# Ecuación\n",
    "\n",
    "def i_LM( k, j, Ms, P, Y):\n",
    "    i_LM = (-Ms/P)/j + k/j*Y\n",
    "    return i_LM\n",
    "\n",
    "i = i_LM( k, j, Ms, P, Y)\n",
    "\n",
    "# NUEVA curva IS: reducción Gasto de Gobienro (Go)\n",
    "    \n",
    "# Definir SOLO el parámetro cambiado\n",
    "\n",
    "t = 0.9\n",
    "\n",
    "# Generar la ecuación con el nuevo parámetro\n",
    "def r_IS(b, m, t, Co, Io, Go, Xo, h, Y):\n",
    "    r_IS = (Co + Io + Go + Xo - Y * (1-(b-m)*(1-t)))/h\n",
    "    return r_IS\n",
    "\n",
    "r_t = r_IS(b, m, t, Co, Io, Go, Xo, h, Y)"
   ]
  },
  {
   "cell_type": "code",
   "execution_count": 288,
   "id": "e41bdfcd",
   "metadata": {},
   "outputs": [
    {
     "data": {
      "image/png": "[encoded data removed]",
      "text/plain": [
       "<Figure size 720x576 with 1 Axes>"
      ]
     },
     "metadata": {
      "needs_background": "light"
     },
     "output_type": "display_data"
    }
   ],
   "source": [
    "# Dimensiones del gráfico\n",
    "y_max = np.max(i)\n",
    "fig, ax = plt.subplots(figsize=(10, 8))\n",
    "\n",
    "# Curvas a graficar\n",
    "ax.plot(Y, r, label = \"IS_(t_0)\", color = \"#9FA8E8\") #IS_orginal\n",
    "ax.plot(Y, r_t, label = \"IS_(t_1)\", color = \"#9FA8E8\", linestyle = 'dashed') #IS_modificada\n",
    "\n",
    "ax.plot(Y, i, label= \"LM\" , color = \"#9FE3E8\")  #LM_original\n",
    "\n",
    "# Texto y figuras agregadas\n",
    "plt.axvline(x=52,  ymin= 0, ymax= 0.52, linestyle = \":\", color = \"grey\")\n",
    "plt.axhline(y=149, xmin= 0, xmax= 0.52, linestyle = \":\", color = \"grey\")\n",
    "\n",
    "plt.axvline(x=58,  ymin= 0, ymax= 0.58, linestyle = \":\", color = \"grey\")\n",
    "plt.axhline(y=170, xmin= 0, xmax= 0.58, linestyle = \":\", color = \"grey\")\n",
    "\n",
    "plt.text(56,175, '$E_0$', fontsize = 14, color = 'black')\n",
    "plt.text(50,155, '$E_1$', fontsize = 14, color = 'black')\n",
    "plt.text(-1,175, '$r_0$', fontsize = 12, color = 'black')\n",
    "plt.text(60,0, '$Y_0$', fontsize = 12, color = 'black')\n",
    "plt.text(-1,155, '$r_1$', fontsize = 12, color = 'black')\n",
    "plt.text(53,0, '$Y_1$', fontsize = 12, color = 'black')\n",
    "\n",
    "plt.text(20, 155, '↓', fontsize=15, color='grey')\n",
    "plt.text(53, 52, '←', fontsize=15, color='grey')\n",
    "\n",
    "# Título, ejes y leyenda\n",
    "ax.set(title=\"Incremento de la tasa impositiva $(∆t_o>0)$\", xlabel= r'Y', ylabel= r'r')\n",
    "ax.legend()\n",
    "\n",
    "plt.show()"
   ]
  }
 ],
 "metadata": {
  "kernelspec": {
   "display_name": "Python 3 (ipykernel)",
   "language": "python",
   "name": "python3"
  },
  "language_info": {
   "codemirror_mode": {
    "name": "ipython",
    "version": 3
   },
   "file_extension": ".py",
   "mimetype": "text/x-python",
   "name": "python",
   "nbconvert_exporter": "python",
   "pygments_lexer": "ipython3",
   "version": "3.9.12"
  }
 },
 "nbformat": 4,
 "nbformat_minor": 5
}
