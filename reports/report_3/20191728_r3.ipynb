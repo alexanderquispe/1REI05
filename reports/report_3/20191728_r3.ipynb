{
 "cells": [
  {
   "cell_type": "markdown",
   "id": "5152467e",
   "metadata": {},
   "source": [
    "<h1>REPORTE3\n",
    "    Bruno Merino\n",
    "    20191728"
   ]
  },
  {
   "cell_type": "markdown",
   "id": "1c869b71",
   "metadata": {},
   "source": [
    "El artículo “La Macroeconomía de la cuarentena: Un modelo de dos sectores” busca explicar el efecto de la cuarentena en el sistema económico del país y sus medios de recuperación.  Asi, la pregunta de investigación es ¿Cómo afecto la pandemia al sistema macroeconómico peruano, a sus diferentes sectores, la relación entre estos y como se va reactivando y recuperando la economía? Las fortalezas del enfoque de este documento son el uso de gráficos de interpretación para explicar el fenómeno de manera practica y concisa, además de explicaciones detallas de como afectó a cada sector, la interrelación entre ellos y como los planes de reactivación han ido teniendo un efecto positivo en la economía peruana. Entre las debilidades del enfoque, podemos encontrarlo un poco difícil de comprender con la cantidad de elementos y fórmulas matemáticas que usa para la explicación; sobre todo si es una lectura apta para todo público y no solo para economistas. La contribución de este articulo y el como avanza para responder a la pregunta de investigación, se basa en un sistema de problema-efecto-solución, explicando detalladamente cada uno de ellos para mostrar y facilitar el entendimiento de lo que genera un fenómeno tan atípico como una pandemia en la economía de un país. Los siguientes pasos a seguir para profundizar en el tema seria investigar como afecto la pandemia a América del Sur como región y como las grandes potencias productoras de material médico y fármacos se beneficiaron de la pandemia. "
   ]
  },
  {
   "cell_type": "code",
   "execution_count": null,
   "id": "68f4ab50",
   "metadata": {},
   "outputs": [],
   "source": []
  },
  {
   "cell_type": "markdown",
   "id": "4731e0b6",
   "metadata": {},
   "source": [
    "* **1. Explique cuáles son los intrumentos de política monetaria que puede utilizar el Banco Central.**"
   ]
  },
  {
   "cell_type": "markdown",
   "id": "28e946d9",
   "metadata": {},
   "source": [
    "* \tIncremento de oferta de dinero o masa monetaria, con el fin de aumentar la demanda agregada dado que se reduce la tasa de interés. O viceversa para disminuir la demanda agregada.\n",
    "* \tCoeficiente legal de encaje: es el aumento o la disminución de la cantidad de dinero que tienen los bancos para el crédito. Por tanto, un aumento de la oferta monetaria.\n",
    "* Aumento o disminución la tasa de interés de referencia, con el fin de aumentar la cantidad de dinero prestada a bancos. Por tanto, tiene un efecto directamente proporcional en la base monetaria y la oferta monetaria."
   ]
  },
  {
   "cell_type": "markdown",
   "id": "5884a11f",
   "metadata": {},
   "source": [
    "* **2. Derive la oferta real de dinero y explique cada uno de sus componentes.**"
   ]
  },
  {
   "cell_type": "markdown",
   "id": "87913880",
   "metadata": {},
   "source": [
    "$$\\dfrac{M^s}{P}=\\dfrac{M_0^s}{P}$$"
   ]
  },
  {
   "cell_type": "markdown",
   "id": "52b73a7a",
   "metadata": {},
   "source": [
    "$$ M^s:oferta nominal de dinero,exógena $$"
   ]
  },
  {
   "cell_type": "markdown",
   "id": "6f052da0",
   "metadata": {},
   "source": [
    "$$ P:nivel general de precios de la economía $$"
   ]
  },
  {
   "cell_type": "markdown",
   "id": "e8cc2145",
   "metadata": {},
   "source": [
    "* **3. Derive la demanda real de dinero. Explique qué papel cumplen los parametros \"k\" y \"j\"**"
   ]
  },
  {
   "cell_type": "markdown",
   "id": "8563e590",
   "metadata": {},
   "source": [
    "$$ L_1=k*Y $$\n",
    "\n",
    "$$ L_2=-j*i $$\n",
    "\n",
    "$$ L=L_1+L_2 $$\n",
    "\n",
    "$$ L=k*Y-j*i $$\n",
    "\n",
    "$$ k:sensibilidad ante cambios en el ingreso \"Y\"  $$\n",
    "\n",
    "$$ j:sensibilidad ante cambio en la tasa de interés nominal $$"
   ]
  },
  {
   "cell_type": "markdown",
   "id": "fca9ada4",
   "metadata": {},
   "source": [
    "* **4.Asumiendo que no hay inflación podemos asumir que . Escriba en terminos reales la eucacion de equilibrio en el mercado de dinero.**\n"
   ]
  },
  {
   "cell_type": "markdown",
   "id": "6a319715",
   "metadata": {},
   "source": [
    "$$ oferta real de dinero=demanda real de dinero $$\n",
    "\n",
    "$$ \\dfrac{M^s}{P}=k*Y-j*i $$\n",
    "\n",
    "$$ M^s=P*(k*Y-j*i) $$\n",
    "\n",
    "$$ r=i $$\n",
    "\n",
    "$$ M^s=P*(k*Y-j*r) $$"
   ]
  },
  {
   "cell_type": "markdown",
   "id": "edc94e20",
   "metadata": {},
   "source": [
    "* **5. Grafique el equilibrio en el mercado de dinero.**"
   ]
  },
  {
   "cell_type": "code",
   "execution_count": 2,
   "id": "06384017",
   "metadata": {},
   "outputs": [
    {
     "ename": "NameError",
     "evalue": "name 'rs' is not defined",
     "output_type": "error",
     "traceback": [
      "\u001b[1;31m---------------------------------------------------------------------------\u001b[0m",
      "\u001b[1;31mNameError\u001b[0m                                 Traceback (most recent call last)",
      "Input \u001b[1;32mIn [2]\u001b[0m, in \u001b[0;36m<cell line: 18>\u001b[1;34m()\u001b[0m\n\u001b[0;32m     15\u001b[0m     M\u001b[38;5;241m=\u001b[39m (k\u001b[38;5;241m*\u001b[39mY\u001b[38;5;241m-\u001b[39mj\u001b[38;5;241m*\u001b[39mr)\n\u001b[0;32m     16\u001b[0m     \u001b[38;5;28;01mreturn\u001b[39;00m M\n\u001b[1;32m---> 18\u001b[0m M\u001b[38;5;241m=\u001b[39m M(k, Y, j, \u001b[43mrs\u001b[49m)\n\u001b[0;32m     20\u001b[0m y_max \u001b[38;5;241m=\u001b[39m np\u001b[38;5;241m.\u001b[39mmax(q)\n\u001b[0;32m     22\u001b[0m v \u001b[38;5;241m=\u001b[39m [\u001b[38;5;241m0\u001b[39m, x_max, \u001b[38;5;241m0\u001b[39m, y_max]                        \n",
      "\u001b[1;31mNameError\u001b[0m: name 'rs' is not defined"
     ]
    }
   ],
   "source": [
    "import numpy as np               \n",
    "import matplotlib.pyplot as plt \n",
    "\n",
    "# Parametros\n",
    "Y_size = 100\n",
    "k=2\n",
    "Y=15\n",
    "j=0.3\n",
    "# Arrays\n",
    "r = np.arange(Y_size)  \n",
    "\n",
    "\n",
    "def M(k, Y, j, rs):\n",
    "    ##M=M_s/p\n",
    "    M= (k*Y-j*r)\n",
    "    return M\n",
    "\n",
    "M= M(k, Y, j, rs)\n",
    "\n",
    "y_max = np.max(q)\n",
    "\n",
    "v = [0, x_max, 0, y_max]                        \n",
    "fig, ax = plt.subplots(figsize=(10, 8))\n",
    "ax.set(title=\"EQUILIBRIO DEL MERCADO DEL DINERO\", xlabel=r'$M^s_o/p$', ylabel=r'r')\n",
    "ax.plot(M, \"k-\",color= 'skyblue',Label=\"M\")\n",
    "plt.plot(50,15, marker=\"o\", color=\"black\")\n",
    "plt.axvline(x=50,  ymin= 0, ymax= 100, color = \"black\")\n",
    "plt.axhline(y=15, xmin= 0, xmax= 0.50, linestyle = \":\", color = \"black\")\n",
    "  \n",
    "ax.legend()\n",
    "plt.show()"
   ]
  },
  {
   "cell_type": "markdown",
   "id": "1b9bc6b5",
   "metadata": {},
   "source": [
    "$$ \\dfrac{M^s}{P}=k*Y-j*r $$\n",
    "\n",
    "$$ \\dfrac{M^s}{P}=\\dfrac{M_0^s}{P} $$"
   ]
  },
  {
   "cell_type": "markdown",
   "id": "d384db77",
   "metadata": {},
   "source": [
    "<h1>Efectos dentro dentro del Mercado de Dinero (Enfocarse en la demanda y oferta de dinero, siguiendo el grafico en 5)"
   ]
  },
  {
   "cell_type": "markdown",
   "id": "460214a6",
   "metadata": {},
   "source": [
    "* **Explique y grafique qué sucede en el mercado de dinero si △Y<0.**"
   ]
  },
  {
   "cell_type": "code",
   "execution_count": 3,
   "id": "5a6cbb88",
   "metadata": {},
   "outputs": [
    {
     "ename": "NameError",
     "evalue": "name 'rs' is not defined",
     "output_type": "error",
     "traceback": [
      "\u001b[1;31m---------------------------------------------------------------------------\u001b[0m",
      "\u001b[1;31mNameError\u001b[0m                                 Traceback (most recent call last)",
      "Input \u001b[1;32mIn [3]\u001b[0m, in \u001b[0;36m<cell line: 18>\u001b[1;34m()\u001b[0m\n\u001b[0;32m     15\u001b[0m     M\u001b[38;5;241m=\u001b[39m (k\u001b[38;5;241m*\u001b[39mY\u001b[38;5;241m-\u001b[39mj\u001b[38;5;241m*\u001b[39mr)\n\u001b[0;32m     16\u001b[0m     \u001b[38;5;28;01mreturn\u001b[39;00m M\n\u001b[1;32m---> 18\u001b[0m M\u001b[38;5;241m=\u001b[39m M(k, Y, j, \u001b[43mrs\u001b[49m)\n\u001b[0;32m     20\u001b[0m \u001b[38;5;66;03m# Parametros 2\u001b[39;00m\n\u001b[0;32m     22\u001b[0m Y_size \u001b[38;5;241m=\u001b[39m \u001b[38;5;241m100\u001b[39m\n",
      "\u001b[1;31mNameError\u001b[0m: name 'rs' is not defined"
     ]
    }
   ],
   "source": [
    "import numpy as np               \n",
    "import matplotlib.pyplot as plt \n",
    "\n",
    "# Parametros\n",
    "Y_size = 100\n",
    "k=2\n",
    "Y=15\n",
    "j=0.2\n",
    "# Arrays\n",
    "r = np.arange(Y_size)  \n",
    "\n",
    "\n",
    "def M(k, Y, j, rs):\n",
    "    ##M=M_s/p\n",
    "    M= (k*Y-j*r)\n",
    "    return M\n",
    "\n",
    "M= M(k, Y, j, rs)\n",
    "\n",
    "# Parametros 2\n",
    "\n",
    "Y_size = 100\n",
    "k=2\n",
    "Y=10\n",
    "j=0.2\n",
    "# Arrays\n",
    "r = np.arange(Y_size)  \n",
    "\n",
    "\n",
    "def M_1(k, Y, j, rs):\n",
    "    M_1= (k*Y-j*r)\n",
    "    return M_1\n",
    "M_1= M_1(k, Y, j, rs)\n",
    "\n",
    "#grafico\n",
    "\n",
    "y_max = np.max(q)\n",
    "\n",
    "v = [0, x_max, 0, y_max]                        \n",
    "fig, ax = plt.subplots(figsize=(10, 8))\n",
    "ax.set(title=\"EFECTO DE UNA DISMINUCION DEL INGRESO\", xlabel=r'$M^s_o/p$', ylabel=r'r')\n",
    "ax.plot(M, \"k-\",color= 'skyblue',Label=\"M\")\n",
    "ax.plot(M_1, \"k-\",color= 'skyblue', linestyle = \":\" ,Label=\"M\")\n",
    "\n",
    "\n",
    "plt.axvline(x=50,  ymin= 0, ymax= 100, color = \"black\")\n",
    "plt.axhline(y=20, xmin= 0, xmax= 0.50, linestyle = \":\", color = \"black\")\n",
    "plt.axhline(y=10, xmin= 0, xmax= 0.50, linestyle = \":\", color = \"black\")\n",
    "\n",
    "ax.text(-5, 21, '$r^e_1$', fontsize = 12, color = 'black')\n",
    "ax.text(-5, 11, '$r^e_0$', fontsize = 12, color = 'black')\n",
    "  \n",
    "ax.legend()\n",
    "plt.show()"
   ]
  },
  {
   "cell_type": "markdown",
   "id": "a3124485",
   "metadata": {},
   "source": [
    "\t∆Y<0"
   ]
  },
  {
   "cell_type": "markdown",
   "id": "ba07c3ac",
   "metadata": {},
   "source": [
    "$$ \\dfrac{M^s}{P}=k*∆Y-j*∆r $$"
   ]
  },
  {
   "cell_type": "markdown",
   "id": "9de090b6",
   "metadata": {},
   "source": [
    "$$ ∆r=\\dfrac{k}{j}*∆Y<0 $$"
   ]
  },
  {
   "cell_type": "markdown",
   "id": "599ff399",
   "metadata": {},
   "source": [
    "* **Explique y grafique qué sucede en el mercado de dinero si △k<0**"
   ]
  },
  {
   "cell_type": "code",
   "execution_count": 4,
   "id": "9439a382",
   "metadata": {},
   "outputs": [
    {
     "ename": "NameError",
     "evalue": "name 'rs' is not defined",
     "output_type": "error",
     "traceback": [
      "\u001b[1;31m---------------------------------------------------------------------------\u001b[0m",
      "\u001b[1;31mNameError\u001b[0m                                 Traceback (most recent call last)",
      "Input \u001b[1;32mIn [4]\u001b[0m, in \u001b[0;36m<cell line: 18>\u001b[1;34m()\u001b[0m\n\u001b[0;32m     15\u001b[0m     M\u001b[38;5;241m=\u001b[39m (k\u001b[38;5;241m*\u001b[39mY\u001b[38;5;241m-\u001b[39mj\u001b[38;5;241m*\u001b[39mr)\n\u001b[0;32m     16\u001b[0m     \u001b[38;5;28;01mreturn\u001b[39;00m M\n\u001b[1;32m---> 18\u001b[0m M\u001b[38;5;241m=\u001b[39m M(k, Y, j, \u001b[43mrs\u001b[49m)\n\u001b[0;32m     20\u001b[0m \u001b[38;5;66;03m# Parametros 2\u001b[39;00m\n\u001b[0;32m     22\u001b[0m Y_size \u001b[38;5;241m=\u001b[39m \u001b[38;5;241m100\u001b[39m\n",
      "\u001b[1;31mNameError\u001b[0m: name 'rs' is not defined"
     ]
    }
   ],
   "source": [
    "import numpy as np               \n",
    "import matplotlib.pyplot as plt \n",
    "\n",
    "# Parametros\n",
    "Y_size = 100\n",
    "k=2\n",
    "Y=15\n",
    "j=0.2\n",
    "# Arrays\n",
    "r = np.arange(Y_size)  \n",
    "\n",
    "\n",
    "def M(k, Y, j, rs):\n",
    "    ##M=M_s/p\n",
    "    M= (k*Y-j*r)\n",
    "    return M\n",
    "\n",
    "M= M(k, Y, j, rs)\n",
    "\n",
    "# Parametros 2\n",
    "\n",
    "Y_size = 100\n",
    "k=1.34\n",
    "Y=15\n",
    "j=0.2\n",
    "# Arrays\n",
    "r = np.arange(Y_size)  \n",
    "\n",
    "\n",
    "def M_1(k, Y, j, rs):\n",
    "    M_1= (k*Y-j*r)\n",
    "    return M_1\n",
    "M_1= M_1(k, Y, j, rs)\n",
    "\n",
    "#grafico\n",
    "\n",
    "y_max = np.max(q)\n",
    "\n",
    "v = [0, x_max, 0, y_max]                        \n",
    "fig, ax = plt.subplots(figsize=(10, 8))\n",
    "ax.set(title=\"EFECTO DE LA DISMINUCION EN LA SENSIBILIDA EN LA DEMANDA DE DINERO\", xlabel=r'$M^s_o/p$', ylabel=r'r')\n",
    "ax.plot(M, \"k-\",color= 'skyblue',Label=\"M\")\n",
    "ax.plot(M_1, \"k-\",color= 'skyblue', linestyle = \":\" ,Label=\"M\")\n",
    "\n",
    "\n",
    "plt.axvline(x=50,  ymin= 0, ymax= 100, color = \"black\")\n",
    "plt.axhline(y=20, xmin= 0, xmax= 0.50, linestyle = \":\", color = \"black\")\n",
    "plt.axhline(y=10, xmin= 0, xmax= 0.50, linestyle = \":\", color = \"black\")\n",
    "\n",
    "ax.text(-5, 21, '$r^e_1$', fontsize = 12, color = 'black')\n",
    "ax.text(-5, 11, '$r^e_0$', fontsize = 12, color = 'black')\n",
    "  \n",
    "ax.legend()\n",
    "plt.show()"
   ]
  },
  {
   "cell_type": "markdown",
   "id": "40f61e2a",
   "metadata": {},
   "source": [
    "∆k<0"
   ]
  },
  {
   "cell_type": "markdown",
   "id": "7f4fd620",
   "metadata": {},
   "source": [
    "$$ \\dfrac{M^s}{P}=∆k*Y-j*∆r $$\n",
    "\n",
    "$$ ∆r=\\dfrac{Y}{J}*∆k<0 $$"
   ]
  },
  {
   "cell_type": "markdown",
   "id": "d43c6dca",
   "metadata": {},
   "source": [
    "* **Explique y grafique qué sucede en el mercado de dinero si △Ms<0.**"
   ]
  },
  {
   "cell_type": "code",
   "execution_count": 5,
   "id": "ac0dc34a",
   "metadata": {},
   "outputs": [
    {
     "ename": "NameError",
     "evalue": "name 'rs' is not defined",
     "output_type": "error",
     "traceback": [
      "\u001b[1;31m---------------------------------------------------------------------------\u001b[0m",
      "\u001b[1;31mNameError\u001b[0m                                 Traceback (most recent call last)",
      "Input \u001b[1;32mIn [5]\u001b[0m, in \u001b[0;36m<cell line: 18>\u001b[1;34m()\u001b[0m\n\u001b[0;32m     15\u001b[0m     M\u001b[38;5;241m=\u001b[39m (k\u001b[38;5;241m*\u001b[39mY\u001b[38;5;241m-\u001b[39mj\u001b[38;5;241m*\u001b[39mr)\n\u001b[0;32m     16\u001b[0m     \u001b[38;5;28;01mreturn\u001b[39;00m M\n\u001b[1;32m---> 18\u001b[0m M\u001b[38;5;241m=\u001b[39m M(k, Y, j, \u001b[43mrs\u001b[49m)\n\u001b[0;32m     20\u001b[0m y_max \u001b[38;5;241m=\u001b[39m np\u001b[38;5;241m.\u001b[39mmax(q)\n\u001b[0;32m     22\u001b[0m v \u001b[38;5;241m=\u001b[39m [\u001b[38;5;241m0\u001b[39m, x_max, \u001b[38;5;241m0\u001b[39m, y_max]                        \n",
      "\u001b[1;31mNameError\u001b[0m: name 'rs' is not defined"
     ]
    }
   ],
   "source": [
    "import numpy as np               \n",
    "import matplotlib.pyplot as plt \n",
    "\n",
    "# Parametros\n",
    "Y_size = 100\n",
    "k=2\n",
    "Y=15\n",
    "j=0.3\n",
    "# Arrays\n",
    "r = np.arange(Y_size)  \n",
    "\n",
    "\n",
    "def M(k, Y, j, rs):\n",
    "    ##M=M_s/p\n",
    "    M= (k*Y-j*r)\n",
    "    return M\n",
    "\n",
    "M= M(k, Y, j, rs)\n",
    "\n",
    "y_max = np.max(q)\n",
    "\n",
    "v = [0, x_max, 0, y_max]                        \n",
    "fig, ax = plt.subplots(figsize=(10, 8))\n",
    "ax.set(title=\"EFECTO DE UNA DISMINUCION EN LA OFERTA DEL DINERO\", xlabel=r'$M^s_o/p$', ylabel=r'r')\n",
    "ax.plot(M, \"k-\",color= 'skyblue',Label=\"M\")\n",
    "plt.plot(50,15, marker=\"o\", color=\"black\")\n",
    "plt.plot(25,22.5, marker=\"o\", color=\"black\")\n",
    "plt.axvline(x=50,  ymin= 0, ymax= 100, color = \"black\")\n",
    "plt.axvline(x=25,  ymin= 0, ymax= 100, linestyle = \":\", color = \"black\")\n",
    "plt.axhline(y=15, xmin= 0, xmax= 0.50, linestyle = \":\", color = \"black\")\n",
    "plt.axhline(y=22.5, xmin= 0, xmax= 0.27, linestyle = \":\", color = \"black\")\n",
    "\n",
    "ax.text(-5, 23, '$r^e_1$', fontsize = 12, color = 'black')\n",
    "ax.text(-5, 16, '$r^e_0$', fontsize = 12, color = 'black')\n",
    "\n",
    "ax.text(50, 0, '$M^s_0$', fontsize = 12, color = 'black')\n",
    "ax.text(25, 0, '$M^s_1$', fontsize = 12, color = 'black')\n",
    "  \n",
    "ax.legend()\n",
    "plt.show()"
   ]
  },
  {
   "cell_type": "markdown",
   "id": "dc9cd2f6",
   "metadata": {},
   "source": [
    "∆M^s<0"
   ]
  },
  {
   "cell_type": "markdown",
   "id": "a0c665fc",
   "metadata": {},
   "source": [
    "$$ \\dfrac{∆M^s}{P}=k*Y-j*∆r $$\n",
    "$$ ∆r=\\dfrac{-1}{j*p}*∆M^s>0 $$"
   ]
  },
  {
   "cell_type": "markdown",
   "id": "59280743",
   "metadata": {},
   "source": [
    "<h1>Curva LM"
   ]
  },
  {
   "cell_type": "markdown",
   "id": "f9175e34",
   "metadata": {},
   "source": [
    "* **Derive paso a paso la curva LM matemáticamente (a partir del equilibrio en el Mercado Monetario) y grafique.**"
   ]
  },
  {
   "cell_type": "code",
   "execution_count": 6,
   "id": "34929b97",
   "metadata": {},
   "outputs": [
    {
     "name": "stderr",
     "output_type": "stream",
     "text": [
      "C:\\Users\\USUARIO\\AppData\\Local\\Temp\\ipykernel_12992\\2122103162.py:27: UserWarning: color is redundantly defined by the 'color' keyword argument and the fmt string \"b-\" (-> color='b'). The keyword argument will take precedence.\n",
      "  ax.plot(Y, LM, \"b-\", label=\"LM\", color = 'blue')\n"
     ]
    },
    {
     "data": {
      "image/png": "[encoded data removed]",
      "text/plain": [
       "<Figure size 720x576 with 1 Axes>"
      ]
     },
     "metadata": {},
     "output_type": "display_data"
    }
   ],
   "source": [
    "import numpy as np               \n",
    "import matplotlib.pyplot as plt \n",
    "import sympy as sy\n",
    "\n",
    "# Parameters\n",
    "Y_size = 100\n",
    "K = 7              \n",
    "J = 7            \n",
    "Ms = 1000        \n",
    "P  = 5              \n",
    "# Arrays\n",
    "Y = np.arange(Y_size)  \n",
    "\n",
    "\n",
    "def i_LM(K, J, Ms, P, Y):\n",
    "    i_LM = ((-Ms/P)/J + K/J*Y)\n",
    "    return i_LM\n",
    "\n",
    "LM = i_LM(K, J, Ms, P, Y)\n",
    "LM\n",
    "\n",
    "y_max = np.max(LM)\n",
    "\n",
    "v = [0, Y_size, 0, y_max]                       \n",
    "fig, ax = plt.subplots(figsize=(10, 8))\n",
    "ax.set(title=\"CURVA LM\", xlabel=r'Y', ylabel=r'r')\n",
    "ax.plot(Y, LM, \"b-\", label=\"LM\", color = 'blue')\n",
    "\n",
    "ax.yaxis.set_major_locator(plt.NullLocator())   \n",
    "ax.xaxis.set_major_locator(plt.NullLocator())   \n",
    "ax.legend()\n",
    "plt.show()"
   ]
  },
  {
   "cell_type": "markdown",
   "id": "55ce4fb8",
   "metadata": {},
   "source": [
    "1.\tDado el equilibrio:"
   ]
  },
  {
   "cell_type": "markdown",
   "id": "44349eb2",
   "metadata": {},
   "source": [
    "$$ M_0^s=P_0*(k*Y-j*r) $$\n",
    "\n",
    "$$ →Despejo r:  $$\n",
    "\n",
    "$$ \\dfrac{M_0^s}{P_0} =k*Y-j*r $$\n",
    "\n",
    "$$ j*r=k*Y-\\dfrac{M_0^s}{P_0} $$\n",
    "\n",
    "$$ r=\\dfrac{k}{j}*Y-\\dfrac{M_0^s}{p_0*j} $$\n"
   ]
  },
  {
   "cell_type": "markdown",
   "id": "8a50f734",
   "metadata": {},
   "source": [
    "* **¿Cuál es el efecto de una disminución en la Masa Monetaria △Ms<0 ? Explica usando la intuición y gráficos.**"
   ]
  },
  {
   "cell_type": "code",
   "execution_count": 7,
   "id": "e026a6ac",
   "metadata": {},
   "outputs": [
    {
     "name": "stderr",
     "output_type": "stream",
     "text": [
      "C:\\Users\\USUARIO\\AppData\\Local\\Temp\\ipykernel_12992\\2820825908.py:45: UserWarning: color is redundantly defined by the 'color' keyword argument and the fmt string \"b-\" (-> color='b'). The keyword argument will take precedence.\n",
      "  ax.plot(Y, LM, \"b-\", label=\"LM\", color = 'blue')\n",
      "C:\\Users\\USUARIO\\AppData\\Local\\Temp\\ipykernel_12992\\2820825908.py:46: UserWarning: linestyle is redundantly defined by the 'linestyle' keyword argument and the fmt string \"b-\" (-> linestyle='-'). The keyword argument will take precedence.\n",
      "  ax.plot(Y, LM1, \"b-\", label=\"LM1\", linestyle = \":\", color = 'blue')\n",
      "C:\\Users\\USUARIO\\AppData\\Local\\Temp\\ipykernel_12992\\2820825908.py:46: UserWarning: color is redundantly defined by the 'color' keyword argument and the fmt string \"b-\" (-> color='b'). The keyword argument will take precedence.\n",
      "  ax.plot(Y, LM1, \"b-\", label=\"LM1\", linestyle = \":\", color = 'blue')\n"
     ]
    },
    {
     "data": {
      "image/png": "[encoded data removed]",
      "text/plain": [
       "<Figure size 720x576 with 1 Axes>"
      ]
     },
     "metadata": {},
     "output_type": "display_data"
    }
   ],
   "source": [
    "import numpy as np               \n",
    "import matplotlib.pyplot as plt \n",
    "import sympy as sy\n",
    "\n",
    "# Parameters\n",
    "Y_size = 100\n",
    "K = 7              \n",
    "J = 7            \n",
    "Ms = 1000        \n",
    "P  = 5              \n",
    "# Arrays\n",
    "Y = np.arange(Y_size)  \n",
    "\n",
    "\n",
    "def i_LM(K, J, Ms, P, Y):\n",
    "    i_LM = ((-Ms/P)/J + K/J*Y)\n",
    "    return i_LM\n",
    "\n",
    "LM = i_LM(K, J, Ms, P, Y)\n",
    "LM\n",
    "\n",
    "\n",
    "# Parametros 2\n",
    "Y_size = 100\n",
    "K = 7              \n",
    "J = 7            \n",
    "Ms = 100       \n",
    "P  = 5              \n",
    "# Arrays\n",
    "Y = np.arange(Y_size)  \n",
    "\n",
    "\n",
    "def i_LM(K, J, Ms, P, Y):\n",
    "    i_LM = ((-Ms/P)/J + K/J*Y)\n",
    "    return i_LM\n",
    "\n",
    "LM1 = i_LM(K, J, Ms, P, Y)\n",
    "LM1\n",
    "\n",
    "y_max = np.max(LM)\n",
    "\n",
    "v = [0, Y_size, 0, y_max]                       \n",
    "fig, ax = plt.subplots(figsize=(10, 8))\n",
    "ax.set(title=\"EFECTO DE UNA DISMINUCION EN LA OFERTA DEL DINERO \", xlabel=r'Y', ylabel=r'r')\n",
    "ax.plot(Y, LM, \"b-\", label=\"LM\", color = 'blue')\n",
    "ax.plot(Y, LM1, \"b-\", label=\"LM1\", linestyle = \":\", color = 'blue')\n",
    "\n",
    "ax.yaxis.set_major_locator(plt.NullLocator())   \n",
    "ax.xaxis.set_major_locator(plt.NullLocator())   \n",
    "ax.legend()\n",
    "plt.show()"
   ]
  },
  {
   "cell_type": "markdown",
   "id": "0c78ca55",
   "metadata": {},
   "source": [
    "\t∆M^2<0"
   ]
  },
  {
   "cell_type": "markdown",
   "id": "e6ba331a",
   "metadata": {},
   "source": [
    "* M^s↓→M^s<M^o→M^o↓→Y↓ "
   ]
  },
  {
   "cell_type": "markdown",
   "id": "61d8388c",
   "metadata": {},
   "source": [
    "* **¿Cuál es el efecto de un aumento en k△K>0 ? Explica usando intuición y gráficos.**"
   ]
  },
  {
   "cell_type": "code",
   "execution_count": 8,
   "id": "547ab3cb",
   "metadata": {},
   "outputs": [
    {
     "name": "stderr",
     "output_type": "stream",
     "text": [
      "C:\\Users\\USUARIO\\AppData\\Local\\Temp\\ipykernel_12992\\1640671866.py:45: UserWarning: color is redundantly defined by the 'color' keyword argument and the fmt string \"b-\" (-> color='b'). The keyword argument will take precedence.\n",
      "  ax.plot(Y, LM, \"b-\", label=\"LM\", color = 'blue')\n",
      "C:\\Users\\USUARIO\\AppData\\Local\\Temp\\ipykernel_12992\\1640671866.py:46: UserWarning: linestyle is redundantly defined by the 'linestyle' keyword argument and the fmt string \"b-\" (-> linestyle='-'). The keyword argument will take precedence.\n",
      "  ax.plot(Y, LM1, \"b-\", label=\"LM1\", linestyle = \":\", color = 'blue')\n",
      "C:\\Users\\USUARIO\\AppData\\Local\\Temp\\ipykernel_12992\\1640671866.py:46: UserWarning: color is redundantly defined by the 'color' keyword argument and the fmt string \"b-\" (-> color='b'). The keyword argument will take precedence.\n",
      "  ax.plot(Y, LM1, \"b-\", label=\"LM1\", linestyle = \":\", color = 'blue')\n"
     ]
    },
    {
     "data": {
      "image/png": "[encoded data removed]",
      "text/plain": [
       "<Figure size 720x576 with 1 Axes>"
      ]
     },
     "metadata": {},
     "output_type": "display_data"
    }
   ],
   "source": [
    "import numpy as np               \n",
    "import matplotlib.pyplot as plt \n",
    "import sympy as sy\n",
    "\n",
    "# Parameters\n",
    "Y_size = 100\n",
    "K = 7              \n",
    "J = 7            \n",
    "Ms = 1000        \n",
    "P  = 5              \n",
    "# Arrays\n",
    "Y = np.arange(Y_size)  \n",
    "\n",
    "\n",
    "def i_LM(K, J, Ms, P, Y):\n",
    "    i_LM = ((-Ms/P)/J + K/J*Y)\n",
    "    return i_LM\n",
    "\n",
    "LM = i_LM(K, J, Ms, P, Y)\n",
    "LM\n",
    "\n",
    "\n",
    "# Parametros 2\n",
    "Y_size = 100\n",
    "K = 10            \n",
    "J = 7            \n",
    "Ms = 100       \n",
    "P  = 5              \n",
    "# Arrays\n",
    "Y = np.arange(Y_size)  \n",
    "\n",
    "\n",
    "def i_LM(K, J, Ms, P, Y):\n",
    "    i_LM = ((-Ms/P)/J + K/J*Y)\n",
    "    return i_LM\n",
    "\n",
    "LM1 = i_LM(K, J, Ms, P, Y)\n",
    "LM1\n",
    "\n",
    "y_max = np.max(LM)\n",
    "\n",
    "v = [0, Y_size, 0, y_max]                       \n",
    "fig, ax = plt.subplots(figsize=(10, 8))\n",
    "ax.set(title=\"EFECTO DEL AUMENTO EN LA SENSIBILIDA EN LA DEMANDA DE DINERO\", xlabel=r'Y', ylabel=r'r')\n",
    "ax.plot(Y, LM, \"b-\", label=\"LM\", color = 'blue')\n",
    "ax.plot(Y, LM1, \"b-\", label=\"LM1\", linestyle = \":\", color = 'blue')\n",
    "\n",
    "ax.yaxis.set_major_locator(plt.NullLocator())   \n",
    "ax.xaxis.set_major_locator(plt.NullLocator())   \n",
    "ax.legend()\n",
    "plt.show()"
   ]
  },
  {
   "cell_type": "markdown",
   "id": "a5e1459e",
   "metadata": {},
   "source": [
    "∆k>0"
   ]
  },
  {
   "cell_type": "markdown",
   "id": "ffdfc15d",
   "metadata": {},
   "source": [
    "* k↑→M^o↑→M^o>M^s→M^s↑→Y↑  "
   ]
  },
  {
   "cell_type": "code",
   "execution_count": null,
   "id": "f837269c",
   "metadata": {},
   "outputs": [],
   "source": []
  }
 ],
 "metadata": {
  "kernelspec": {
   "display_name": "Python 3 (ipykernel)",
   "language": "python",
   "name": "python3"
  },
  "language_info": {
   "codemirror_mode": {
    "name": "ipython",
    "version": 3
   },
   "file_extension": ".py",
   "mimetype": "text/x-python",
   "name": "python",
   "nbconvert_exporter": "python",
   "pygments_lexer": "ipython3",
   "version": "3.9.12"
  }
 },
 "nbformat": 4,
 "nbformat_minor": 5
}
