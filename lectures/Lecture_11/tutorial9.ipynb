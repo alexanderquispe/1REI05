{
  "cells": [
    {
      "cell_type": "code",
      "source": [
        "pip install linearmodels"
      ],
      "metadata": {
        "id": "T3xYauY1tJ37",
        "outputId": "d1fe6915-c4d4-4106-becf-96964a7f3ded",
        "colab": {
          "base_uri": "https://localhost:8080/"
        }
      },
      "id": "T3xYauY1tJ37",
      "execution_count": 10,
      "outputs": [
        {
          "output_type": "stream",
          "name": "stdout",
          "text": [
            "Looking in indexes: https://pypi.org/simple, https://us-python.pkg.dev/colab-wheels/public/simple/\n",
            "Requirement already satisfied: linearmodels in /usr/local/lib/python3.7/dist-packages (4.25)\n",
            "Requirement already satisfied: property-cached>=1.6.3 in /usr/local/lib/python3.7/dist-packages (from linearmodels) (1.6.4)\n",
            "Requirement already satisfied: numpy>=1.16 in /usr/local/lib/python3.7/dist-packages (from linearmodels) (1.21.6)\n",
            "Requirement already satisfied: formulaic in /usr/local/lib/python3.7/dist-packages (from linearmodels) (0.5.2)\n",
            "Requirement already satisfied: mypy-extensions>=0.4 in /usr/local/lib/python3.7/dist-packages (from linearmodels) (0.4.3)\n",
            "Requirement already satisfied: statsmodels>=0.11 in /usr/local/lib/python3.7/dist-packages (from linearmodels) (0.12.2)\n",
            "Requirement already satisfied: pyhdfe>=0.1 in /usr/local/lib/python3.7/dist-packages (from linearmodels) (0.1.0)\n",
            "Requirement already satisfied: pandas>=0.24 in /usr/local/lib/python3.7/dist-packages (from linearmodels) (1.3.5)\n",
            "Requirement already satisfied: patsy in /usr/local/lib/python3.7/dist-packages (from linearmodels) (0.5.3)\n",
            "Requirement already satisfied: Cython>=0.29.21 in /usr/local/lib/python3.7/dist-packages (from linearmodels) (0.29.32)\n",
            "Requirement already satisfied: scipy>=1.2 in /usr/local/lib/python3.7/dist-packages (from linearmodels) (1.7.3)\n",
            "Requirement already satisfied: pytz>=2017.3 in /usr/local/lib/python3.7/dist-packages (from pandas>=0.24->linearmodels) (2022.5)\n",
            "Requirement already satisfied: python-dateutil>=2.7.3 in /usr/local/lib/python3.7/dist-packages (from pandas>=0.24->linearmodels) (2.8.2)\n",
            "Requirement already satisfied: six>=1.5 in /usr/local/lib/python3.7/dist-packages (from python-dateutil>=2.7.3->pandas>=0.24->linearmodels) (1.15.0)\n",
            "Requirement already satisfied: wrapt>=1.0 in /usr/local/lib/python3.7/dist-packages (from formulaic->linearmodels) (1.14.1)\n",
            "Requirement already satisfied: cached-property>=1.3.0 in /usr/local/lib/python3.7/dist-packages (from formulaic->linearmodels) (1.5.2)\n",
            "Requirement already satisfied: astor>=0.8 in /usr/local/lib/python3.7/dist-packages (from formulaic->linearmodels) (0.8.1)\n",
            "Requirement already satisfied: typing-extensions>=4.2.0 in /usr/local/lib/python3.7/dist-packages (from formulaic->linearmodels) (4.4.0)\n",
            "Requirement already satisfied: interface-meta>=1.2.0 in /usr/local/lib/python3.7/dist-packages (from formulaic->linearmodels) (1.3.0)\n",
            "Requirement already satisfied: graphlib-backport>=1.0.0 in /usr/local/lib/python3.7/dist-packages (from formulaic->linearmodels) (1.0.3)\n"
          ]
        }
      ]
    },
    {
      "cell_type": "code",
      "source": [
        "pip install seaborn"
      ],
      "metadata": {
        "id": "cN2heavXtMr4",
        "outputId": "574d772a-1f17-476e-a2b2-9c28c86878bc",
        "colab": {
          "base_uri": "https://localhost:8080/"
        }
      },
      "id": "cN2heavXtMr4",
      "execution_count": 22,
      "outputs": [
        {
          "output_type": "stream",
          "name": "stdout",
          "text": [
            "Looking in indexes: https://pypi.org/simple, https://us-python.pkg.dev/colab-wheels/public/simple/\n",
            "Requirement already satisfied: seaborn in /usr/local/lib/python3.7/dist-packages (0.11.2)\n",
            "Requirement already satisfied: numpy>=1.15 in /usr/local/lib/python3.7/dist-packages (from seaborn) (1.21.6)\n",
            "Requirement already satisfied: scipy>=1.0 in /usr/local/lib/python3.7/dist-packages (from seaborn) (1.7.3)\n",
            "Requirement already satisfied: pandas>=0.23 in /usr/local/lib/python3.7/dist-packages (from seaborn) (1.3.5)\n",
            "Requirement already satisfied: matplotlib>=2.2 in /usr/local/lib/python3.7/dist-packages (from seaborn) (3.2.2)\n",
            "Requirement already satisfied: pyparsing!=2.0.4,!=2.1.2,!=2.1.6,>=2.0.1 in /usr/local/lib/python3.7/dist-packages (from matplotlib>=2.2->seaborn) (3.0.9)\n",
            "Requirement already satisfied: python-dateutil>=2.1 in /usr/local/lib/python3.7/dist-packages (from matplotlib>=2.2->seaborn) (2.8.2)\n",
            "Requirement already satisfied: kiwisolver>=1.0.1 in /usr/local/lib/python3.7/dist-packages (from matplotlib>=2.2->seaborn) (1.4.4)\n",
            "Requirement already satisfied: cycler>=0.10 in /usr/local/lib/python3.7/dist-packages (from matplotlib>=2.2->seaborn) (0.11.0)\n",
            "Requirement already satisfied: typing-extensions in /usr/local/lib/python3.7/dist-packages (from kiwisolver>=1.0.1->matplotlib>=2.2->seaborn) (4.4.0)\n",
            "Requirement already satisfied: pytz>=2017.3 in /usr/local/lib/python3.7/dist-packages (from pandas>=0.23->seaborn) (2022.5)\n",
            "Requirement already satisfied: six>=1.5 in /usr/local/lib/python3.7/dist-packages (from python-dateutil>=2.1->matplotlib>=2.2->seaborn) (1.15.0)\n"
          ]
        }
      ]
    },
    {
      "cell_type": "code",
      "execution_count": 23,
      "id": "1d690b71",
      "metadata": {
        "id": "1d690b71"
      },
      "outputs": [],
      "source": [
        "# pip install causalgraphicalmodels\n",
        "# pip install linearmodels\n",
        "\n",
        "from causalgraphicalmodels import CausalGraphicalModel\n",
        "import os\n",
        "import numpy as np \n",
        "import pandas as pd \n",
        "import statsmodels.api as sm \n",
        "import statsmodels.formula.api as smf \n",
        "from itertools import combinations \n",
        "import plotnine as p\n",
        "import statsmodels.api as sm\n",
        "import statsmodels.formula.api as smf\n",
        "import linearmodels.iv.model as lm\n",
        "from linearmodels.iv import IV2SLS\n",
        "from statsmodels.iolib.summary2 import summary_col\n",
        "import seaborn as sns"
      ]
    },
    {
      "cell_type": "markdown",
      "id": "c3796c52",
      "metadata": {
        "id": "c3796c52"
      },
      "source": [
        "# Instrumental Variables (IV)"
      ]
    },
    {
      "cell_type": "markdown",
      "id": "1835585c",
      "metadata": {
        "id": "1835585c"
      },
      "source": [
        "## Intuition of Instrumental Variables\n",
        "\n",
        "### Canonical IV Dag"
      ]
    },
    {
      "cell_type": "markdown",
      "id": "55f0024a",
      "metadata": {
        "id": "55f0024a"
      },
      "source": [
        "To understand the instrumental variables estimator, it is helpful to start with a DAG that shows a chain of causal effects that contains all the information needed to understand the instrumental variables strategy. \n",
        "\n",
        "First, notice the backdoor path between $D$ and $Y$: $D \\leftarrow U \\rightarrow Y$. Furthermore, note that $U$ is unobserved by the econometrician, which causes the backdoor path to remain open. If we have this kind of selection on unobservables, then there does not exist a conditioning strategy that will satisfy the backdoor criterion (in our data). But, before we throw up our arms, let’s look at how $Z$ operates through these pathways."
      ]
    },
    {
      "cell_type": "code",
      "execution_count": 12,
      "id": "6f6011cc",
      "metadata": {
        "id": "6f6011cc",
        "outputId": "7a7540f2-8a26-40ed-c03f-5fb0b9a7bf5a",
        "colab": {
          "base_uri": "https://localhost:8080/",
          "height": 283
        }
      },
      "outputs": [
        {
          "output_type": "execute_result",
          "data": {
            "text/plain": [
              "<graphviz.dot.Digraph at 0x7fcdd80a6a50>"
            ],
            "image/svg+xml": "<?xml version=\"1.0\" encoding=\"UTF-8\" standalone=\"no\"?>\n<!DOCTYPE svg PUBLIC \"-//W3C//DTD SVG 1.1//EN\"\n \"http://www.w3.org/Graphics/SVG/1.1/DTD/svg11.dtd\">\n<!-- Generated by graphviz version 2.40.1 (20161225.0304)\n -->\n<!-- Title: %3 Pages: 1 -->\n<svg width=\"142pt\" height=\"196pt\"\n viewBox=\"0.00 0.00 142.00 196.00\" xmlns=\"http://www.w3.org/2000/svg\" xmlns:xlink=\"http://www.w3.org/1999/xlink\">\n<g id=\"graph0\" class=\"graph\" transform=\"scale(1 1) rotate(0) translate(4 192)\">\n<title>%3</title>\n<polygon fill=\"#ffffff\" stroke=\"transparent\" points=\"-4,4 -4,-192 138,-192 138,4 -4,4\"/>\n<!-- Y -->\n<g id=\"node1\" class=\"node\">\n<title>Y</title>\n<ellipse fill=\"none\" stroke=\"#000000\" cx=\"54\" cy=\"-18\" rx=\"27\" ry=\"18\"/>\n<text text-anchor=\"middle\" x=\"54\" y=\"-14.3\" font-family=\"Times,serif\" font-size=\"14.00\" fill=\"#000000\">Y</text>\n</g>\n<!-- Z -->\n<g id=\"node2\" class=\"node\">\n<title>Z</title>\n<ellipse fill=\"none\" stroke=\"#000000\" cx=\"103\" cy=\"-166\" rx=\"27\" ry=\"18\"/>\n<ellipse fill=\"none\" stroke=\"#000000\" cx=\"103\" cy=\"-166\" rx=\"31\" ry=\"22\"/>\n<text text-anchor=\"middle\" x=\"103\" y=\"-162.3\" font-family=\"Times,serif\" font-size=\"14.00\" fill=\"#000000\">Z</text>\n</g>\n<!-- D -->\n<g id=\"node4\" class=\"node\">\n<title>D</title>\n<ellipse fill=\"none\" stroke=\"#000000\" cx=\"82\" cy=\"-90\" rx=\"27\" ry=\"18\"/>\n<text text-anchor=\"middle\" x=\"82\" y=\"-86.3\" font-family=\"Times,serif\" font-size=\"14.00\" fill=\"#000000\">D</text>\n</g>\n<!-- Z&#45;&gt;D -->\n<g id=\"edge1\" class=\"edge\">\n<title>Z&#45;&gt;D</title>\n<path fill=\"none\" stroke=\"#000000\" d=\"M96.9259,-144.0177C94.6622,-135.8252 92.0626,-126.417 89.6738,-117.7718\"/>\n<polygon fill=\"#000000\" stroke=\"#000000\" points=\"93.0362,-116.7989 86.9992,-108.0923 86.289,-118.6633 93.0362,-116.7989\"/>\n</g>\n<!-- U -->\n<g id=\"node3\" class=\"node\">\n<title>U</title>\n<ellipse fill=\"none\" stroke=\"#000000\" cx=\"27\" cy=\"-166\" rx=\"27\" ry=\"18\"/>\n<text text-anchor=\"middle\" x=\"27\" y=\"-162.3\" font-family=\"Times,serif\" font-size=\"14.00\" fill=\"#000000\">U</text>\n</g>\n<!-- U&#45;&gt;Y -->\n<g id=\"edge3\" class=\"edge\">\n<title>U&#45;&gt;Y</title>\n<path fill=\"none\" stroke=\"#000000\" d=\"M30.3107,-147.8523C34.926,-122.5539 43.3397,-76.4342 48.7976,-46.5167\"/>\n<polygon fill=\"#000000\" stroke=\"#000000\" points=\"52.3106,-46.762 50.6622,-36.2961 45.4242,-45.5056 52.3106,-46.762\"/>\n</g>\n<!-- U&#45;&gt;D -->\n<g id=\"edge2\" class=\"edge\">\n<title>U&#45;&gt;D</title>\n<path fill=\"none\" stroke=\"#000000\" d=\"M38.9342,-149.5091C46.2856,-139.3508 55.8499,-126.1346 64.0974,-114.7382\"/>\n<polygon fill=\"#000000\" stroke=\"#000000\" points=\"67.0618,-116.6118 70.0891,-106.4587 61.391,-112.5079 67.0618,-116.6118\"/>\n</g>\n<!-- D&#45;&gt;Y -->\n<g id=\"edge4\" class=\"edge\">\n<title>D&#45;&gt;Y</title>\n<path fill=\"none\" stroke=\"#000000\" d=\"M75.222,-72.5708C72.0128,-64.3187 68.1065,-54.2738 64.5242,-45.0623\"/>\n<polygon fill=\"#000000\" stroke=\"#000000\" points=\"67.6992,-43.5697 60.8126,-35.5182 61.1752,-46.1069 67.6992,-43.5697\"/>\n</g>\n</g>\n</svg>\n"
          },
          "metadata": {},
          "execution_count": 12
        }
      ],
      "source": [
        "iv = CausalGraphicalModel(nodes = [\"Z\",\"D\",\"Y\",\"U\"],\n",
        "                          edges = [(\"Z\",\"D\"),\n",
        "                                   (\"D\",\"Y\"),\n",
        "                                  (\"U\",\"D\"),\n",
        "                                  (\"U\",\"Y\")])\n",
        "iv = iv.do('Z')\n",
        "iv.draw()"
      ]
    },
    {
      "cell_type": "markdown",
      "id": "22fb66a3",
      "metadata": {
        "id": "22fb66a3"
      },
      "source": [
        "First, there is a mediated pathway from $Z$ to $Y$ via $D$. When $Z$ varies, $D$ varies, which causes $Y$ to change. But, even though $Y$ is varying when $Z$ varies, notice that $Y$ is only varying **because** $D$ has varied. You sometimes hear people describe this as the “only through” assumption. That is, $Z$ affects $Y$ “**only through**” $D$.\n",
        "\n",
        "Imagine this for a moment though. Imagine $D$ consists of people making choices. Sometimes these choices affect $Y$, and sometimes these choices are merely correlated with changes in $Y$ due to unobserved changes in $U$. But along comes some shock, $Z$, which induces some but not all of the people in $D$ to make different decisions. What will happen?\n",
        "\n",
        "Well, for one, when those people’s decisions change, $Y$ will change too, because of the causal effect. But all of the correlation between $D$ and $Y$ in that situation will reflect the causal effect. The reason is that $D$ is a collider along the backdoor path between $Z$ and $Y$.\n",
        "\n",
        "Moving along, notice that we drew the DAG such that $Z$ is independent of $U$. You can see this because $D$ is a collider along the $Z \\rightarrow D \\leftarrow U$ path, which implies that $Z$ and $U$ are independent. This is called the “exclusion restriction,” which we will discuss in more detail later. But briefly, the IV estimator assumes that $Z$ is independent of the variables that determine $Y$ except for $D$.\n",
        "\n",
        "Second, $Z$ is correlated with $D$, and because of its correlation with $D$ (and $D$’s effect on $Y$), $Z$ is correlated with $Y$ but only through its effect on $D$. This relationship between $Z$ and $D$ is called the “first stage” because of the two-stage least squares estimator, which is a kind of IV estimator. The reason it is only correlated with $Y$ via $D$ is because $D$ is a collider along the path $Z \\rightarrow D \\leftarrow U \\rightarrow Y$."
      ]
    },
    {
      "cell_type": "markdown",
      "id": "369c42e0",
      "metadata": {
        "id": "369c42e0"
      },
      "source": [
        "## Applications\n",
        "\n",
        "### College in the county\n",
        "\n",
        "We will look at the returns to schooling since it is such a historically popular topic for causal questions in labor. In this application, we will simply estimate a 2SLS model, calculate the first-stage *F statistic*, and compare the 2SLS results with the OLS results.\n",
        "\n",
        "The data comes from the NLS Young Men Cohort of the National Longitudinal Survey. This data began in 1966 with 5,525 men aged 14–24 and continued to follow up with them through 1981. These data come from 1966, the baseline survey, and there are a number of questions related to local labor-markets. One of them is whether the respondent lives in the same county as a 4-year (and a 2-year) college.\n",
        "\n",
        "Card (1995) is interested in estimating the following regression equation:\n",
        "\n",
        "$$ Y_{i} = \\alpha + \\delta S_{i} + \\gamma X_{i} + \\epsilon_{i} $$\n",
        "\n",
        "where $Y$ is log earnings, $S$ is years of schooling, $X$ is a matrix of exogenous covariates, and $\\epsilon$ is an error term that contains, among other things, unobserved ability. Under the assumption that  $\\epsilon$ contains ability, and ability is correlated with schooling, then $C(S, \\epsilon) \\neq 0$ and therefore schooling is biased. Card (1995) proposes therefore an instrumental variables strategy whereby he will instrument for schooling with the college-in-the-county dummy variable.\n",
        "\n",
        "It is worth asking ourselves why the presence of a 4-year college in one’s county would increase schooling. The main reason I can think of is that the presence of the 4-year college increases the likelihood of going to college by lowering the costs, since the student can live at home. This therefore means that we are selecting on a group of compliers whose behavior is affected by the variable. Some kids, in other words, will always go to college regardless of whether a college is in their county, and some will never go despite the presence of the nearby college. But there may exist a group of compliers who go to college only because their county has a college, and if I’m right that this is primarily picking up people going because they can attend while living at home, then it’s necessarily people at some margin who attend only because college became slightly cheaper. This is, in other words, a group of people who are liquidity constrained. And if we believe the returns to schooling for this group are different from those of the always-takers, then our estimates may not represent the ATE. Rather, they would represent the LATE. But in this case, that might actually be an interesting parameter since it gets at the issue of lowering costs of attendance for poorer families."
      ]
    },
    {
      "cell_type": "code",
      "execution_count": 13,
      "id": "c862dc8c",
      "metadata": {
        "id": "c862dc8c",
        "outputId": "10b860c0-6630-456e-e86d-a5630053d645",
        "colab": {
          "base_uri": "https://localhost:8080/",
          "height": 235
        }
      },
      "outputs": [
        {
          "output_type": "execute_result",
          "data": {
            "text/plain": [
              "    id  nearc2  nearc4  educ   age  fatheduc  motheduc    weight  momdad14  \\\n",
              "0  2.0     0.0     0.0   7.0  29.0       NaN       NaN  158413.0       1.0   \n",
              "1  3.0     0.0     0.0  12.0  27.0       8.0       8.0  380166.0       1.0   \n",
              "2  4.0     0.0     0.0  12.0  34.0      14.0      12.0  367470.0       1.0   \n",
              "3  5.0     1.0     1.0  11.0  27.0      11.0      12.0  380166.0       1.0   \n",
              "4  6.0     1.0     1.0  12.0  34.0       8.0       7.0  367470.0       1.0   \n",
              "\n",
              "   sinmom14  ...   KWW     IQ  married  libcrd14  exper     lwage  expersq  \\\n",
              "0       0.0  ...  15.0    NaN      1.0       0.0   16.0  6.306275    256.0   \n",
              "1       0.0  ...  35.0   93.0      1.0       1.0    9.0  6.175867     81.0   \n",
              "2       0.0  ...  42.0  103.0      1.0       1.0   16.0  6.580639    256.0   \n",
              "3       0.0  ...  25.0   88.0      1.0       1.0   10.0  5.521461    100.0   \n",
              "4       0.0  ...  34.0  108.0      1.0       0.0   16.0  6.591674    256.0   \n",
              "\n",
              "    u_lwage  lwage_hat    u_educ  \n",
              "0  0.198047   6.108228 -3.067539  \n",
              "1 -0.211160   6.387027 -1.727562  \n",
              "2  0.204719   6.375920  1.012975  \n",
              "3 -0.967905   6.489366 -2.253536  \n",
              "4  0.125173   6.466501  1.090437  \n",
              "\n",
              "[5 rows x 37 columns]"
            ],
            "text/html": [
              "\n",
              "  <div id=\"df-87078952-29c1-425e-9d89-3fd23e842d92\">\n",
              "    <div class=\"colab-df-container\">\n",
              "      <div>\n",
              "<style scoped>\n",
              "    .dataframe tbody tr th:only-of-type {\n",
              "        vertical-align: middle;\n",
              "    }\n",
              "\n",
              "    .dataframe tbody tr th {\n",
              "        vertical-align: top;\n",
              "    }\n",
              "\n",
              "    .dataframe thead th {\n",
              "        text-align: right;\n",
              "    }\n",
              "</style>\n",
              "<table border=\"1\" class=\"dataframe\">\n",
              "  <thead>\n",
              "    <tr style=\"text-align: right;\">\n",
              "      <th></th>\n",
              "      <th>id</th>\n",
              "      <th>nearc2</th>\n",
              "      <th>nearc4</th>\n",
              "      <th>educ</th>\n",
              "      <th>age</th>\n",
              "      <th>fatheduc</th>\n",
              "      <th>motheduc</th>\n",
              "      <th>weight</th>\n",
              "      <th>momdad14</th>\n",
              "      <th>sinmom14</th>\n",
              "      <th>...</th>\n",
              "      <th>KWW</th>\n",
              "      <th>IQ</th>\n",
              "      <th>married</th>\n",
              "      <th>libcrd14</th>\n",
              "      <th>exper</th>\n",
              "      <th>lwage</th>\n",
              "      <th>expersq</th>\n",
              "      <th>u_lwage</th>\n",
              "      <th>lwage_hat</th>\n",
              "      <th>u_educ</th>\n",
              "    </tr>\n",
              "  </thead>\n",
              "  <tbody>\n",
              "    <tr>\n",
              "      <th>0</th>\n",
              "      <td>2.0</td>\n",
              "      <td>0.0</td>\n",
              "      <td>0.0</td>\n",
              "      <td>7.0</td>\n",
              "      <td>29.0</td>\n",
              "      <td>NaN</td>\n",
              "      <td>NaN</td>\n",
              "      <td>158413.0</td>\n",
              "      <td>1.0</td>\n",
              "      <td>0.0</td>\n",
              "      <td>...</td>\n",
              "      <td>15.0</td>\n",
              "      <td>NaN</td>\n",
              "      <td>1.0</td>\n",
              "      <td>0.0</td>\n",
              "      <td>16.0</td>\n",
              "      <td>6.306275</td>\n",
              "      <td>256.0</td>\n",
              "      <td>0.198047</td>\n",
              "      <td>6.108228</td>\n",
              "      <td>-3.067539</td>\n",
              "    </tr>\n",
              "    <tr>\n",
              "      <th>1</th>\n",
              "      <td>3.0</td>\n",
              "      <td>0.0</td>\n",
              "      <td>0.0</td>\n",
              "      <td>12.0</td>\n",
              "      <td>27.0</td>\n",
              "      <td>8.0</td>\n",
              "      <td>8.0</td>\n",
              "      <td>380166.0</td>\n",
              "      <td>1.0</td>\n",
              "      <td>0.0</td>\n",
              "      <td>...</td>\n",
              "      <td>35.0</td>\n",
              "      <td>93.0</td>\n",
              "      <td>1.0</td>\n",
              "      <td>1.0</td>\n",
              "      <td>9.0</td>\n",
              "      <td>6.175867</td>\n",
              "      <td>81.0</td>\n",
              "      <td>-0.211160</td>\n",
              "      <td>6.387027</td>\n",
              "      <td>-1.727562</td>\n",
              "    </tr>\n",
              "    <tr>\n",
              "      <th>2</th>\n",
              "      <td>4.0</td>\n",
              "      <td>0.0</td>\n",
              "      <td>0.0</td>\n",
              "      <td>12.0</td>\n",
              "      <td>34.0</td>\n",
              "      <td>14.0</td>\n",
              "      <td>12.0</td>\n",
              "      <td>367470.0</td>\n",
              "      <td>1.0</td>\n",
              "      <td>0.0</td>\n",
              "      <td>...</td>\n",
              "      <td>42.0</td>\n",
              "      <td>103.0</td>\n",
              "      <td>1.0</td>\n",
              "      <td>1.0</td>\n",
              "      <td>16.0</td>\n",
              "      <td>6.580639</td>\n",
              "      <td>256.0</td>\n",
              "      <td>0.204719</td>\n",
              "      <td>6.375920</td>\n",
              "      <td>1.012975</td>\n",
              "    </tr>\n",
              "    <tr>\n",
              "      <th>3</th>\n",
              "      <td>5.0</td>\n",
              "      <td>1.0</td>\n",
              "      <td>1.0</td>\n",
              "      <td>11.0</td>\n",
              "      <td>27.0</td>\n",
              "      <td>11.0</td>\n",
              "      <td>12.0</td>\n",
              "      <td>380166.0</td>\n",
              "      <td>1.0</td>\n",
              "      <td>0.0</td>\n",
              "      <td>...</td>\n",
              "      <td>25.0</td>\n",
              "      <td>88.0</td>\n",
              "      <td>1.0</td>\n",
              "      <td>1.0</td>\n",
              "      <td>10.0</td>\n",
              "      <td>5.521461</td>\n",
              "      <td>100.0</td>\n",
              "      <td>-0.967905</td>\n",
              "      <td>6.489366</td>\n",
              "      <td>-2.253536</td>\n",
              "    </tr>\n",
              "    <tr>\n",
              "      <th>4</th>\n",
              "      <td>6.0</td>\n",
              "      <td>1.0</td>\n",
              "      <td>1.0</td>\n",
              "      <td>12.0</td>\n",
              "      <td>34.0</td>\n",
              "      <td>8.0</td>\n",
              "      <td>7.0</td>\n",
              "      <td>367470.0</td>\n",
              "      <td>1.0</td>\n",
              "      <td>0.0</td>\n",
              "      <td>...</td>\n",
              "      <td>34.0</td>\n",
              "      <td>108.0</td>\n",
              "      <td>1.0</td>\n",
              "      <td>0.0</td>\n",
              "      <td>16.0</td>\n",
              "      <td>6.591674</td>\n",
              "      <td>256.0</td>\n",
              "      <td>0.125173</td>\n",
              "      <td>6.466501</td>\n",
              "      <td>1.090437</td>\n",
              "    </tr>\n",
              "  </tbody>\n",
              "</table>\n",
              "<p>5 rows × 37 columns</p>\n",
              "</div>\n",
              "      <button class=\"colab-df-convert\" onclick=\"convertToInteractive('df-87078952-29c1-425e-9d89-3fd23e842d92')\"\n",
              "              title=\"Convert this dataframe to an interactive table.\"\n",
              "              style=\"display:none;\">\n",
              "        \n",
              "  <svg xmlns=\"http://www.w3.org/2000/svg\" height=\"24px\"viewBox=\"0 0 24 24\"\n",
              "       width=\"24px\">\n",
              "    <path d=\"M0 0h24v24H0V0z\" fill=\"none\"/>\n",
              "    <path d=\"M18.56 5.44l.94 2.06.94-2.06 2.06-.94-2.06-.94-.94-2.06-.94 2.06-2.06.94zm-11 1L8.5 8.5l.94-2.06 2.06-.94-2.06-.94L8.5 2.5l-.94 2.06-2.06.94zm10 10l.94 2.06.94-2.06 2.06-.94-2.06-.94-.94-2.06-.94 2.06-2.06.94z\"/><path d=\"M17.41 7.96l-1.37-1.37c-.4-.4-.92-.59-1.43-.59-.52 0-1.04.2-1.43.59L10.3 9.45l-7.72 7.72c-.78.78-.78 2.05 0 2.83L4 21.41c.39.39.9.59 1.41.59.51 0 1.02-.2 1.41-.59l7.78-7.78 2.81-2.81c.8-.78.8-2.07 0-2.86zM5.41 20L4 18.59l7.72-7.72 1.47 1.35L5.41 20z\"/>\n",
              "  </svg>\n",
              "      </button>\n",
              "      \n",
              "  <style>\n",
              "    .colab-df-container {\n",
              "      display:flex;\n",
              "      flex-wrap:wrap;\n",
              "      gap: 12px;\n",
              "    }\n",
              "\n",
              "    .colab-df-convert {\n",
              "      background-color: #E8F0FE;\n",
              "      border: none;\n",
              "      border-radius: 50%;\n",
              "      cursor: pointer;\n",
              "      display: none;\n",
              "      fill: #1967D2;\n",
              "      height: 32px;\n",
              "      padding: 0 0 0 0;\n",
              "      width: 32px;\n",
              "    }\n",
              "\n",
              "    .colab-df-convert:hover {\n",
              "      background-color: #E2EBFA;\n",
              "      box-shadow: 0px 1px 2px rgba(60, 64, 67, 0.3), 0px 1px 3px 1px rgba(60, 64, 67, 0.15);\n",
              "      fill: #174EA6;\n",
              "    }\n",
              "\n",
              "    [theme=dark] .colab-df-convert {\n",
              "      background-color: #3B4455;\n",
              "      fill: #D2E3FC;\n",
              "    }\n",
              "\n",
              "    [theme=dark] .colab-df-convert:hover {\n",
              "      background-color: #434B5C;\n",
              "      box-shadow: 0px 1px 3px 1px rgba(0, 0, 0, 0.15);\n",
              "      filter: drop-shadow(0px 1px 2px rgba(0, 0, 0, 0.3));\n",
              "      fill: #FFFFFF;\n",
              "    }\n",
              "  </style>\n",
              "\n",
              "      <script>\n",
              "        const buttonEl =\n",
              "          document.querySelector('#df-87078952-29c1-425e-9d89-3fd23e842d92 button.colab-df-convert');\n",
              "        buttonEl.style.display =\n",
              "          google.colab.kernel.accessAllowed ? 'block' : 'none';\n",
              "\n",
              "        async function convertToInteractive(key) {\n",
              "          const element = document.querySelector('#df-87078952-29c1-425e-9d89-3fd23e842d92');\n",
              "          const dataTable =\n",
              "            await google.colab.kernel.invokeFunction('convertToInteractive',\n",
              "                                                     [key], {});\n",
              "          if (!dataTable) return;\n",
              "\n",
              "          const docLinkHtml = 'Like what you see? Visit the ' +\n",
              "            '<a target=\"_blank\" href=https://colab.research.google.com/notebooks/data_table.ipynb>data table notebook</a>'\n",
              "            + ' to learn more about interactive tables.';\n",
              "          element.innerHTML = '';\n",
              "          dataTable['output_type'] = 'display_data';\n",
              "          await google.colab.output.renderOutput(dataTable, element);\n",
              "          const docLink = document.createElement('div');\n",
              "          docLink.innerHTML = docLinkHtml;\n",
              "          element.appendChild(docLink);\n",
              "        }\n",
              "      </script>\n",
              "    </div>\n",
              "  </div>\n",
              "  "
            ]
          },
          "metadata": {},
          "execution_count": 13
        }
      ],
      "source": [
        "# load data\n",
        "\n",
        "import ssl\n",
        "ssl._create_default_https_context = ssl._create_unverified_context\n",
        "\n",
        "def read_data(file): \n",
        "    return pd.read_stata(\"https://raw.github.com/scunning1975/mixtape/master/\" + file)\n",
        "\n",
        "card = read_data(\"card.dta\")\n",
        "card.head()"
      ]
    },
    {
      "cell_type": "code",
      "source": [
        "sns.histplot(data=card, x=\"lwage\")"
      ],
      "metadata": {
        "id": "5ZD5DfUgunlV",
        "outputId": "7a374b39-eefa-437a-c8aa-28aab8183cb2",
        "colab": {
          "base_uri": "https://localhost:8080/",
          "height": 296
        }
      },
      "id": "5ZD5DfUgunlV",
      "execution_count": 26,
      "outputs": [
        {
          "output_type": "execute_result",
          "data": {
            "text/plain": [
              "<matplotlib.axes._subplots.AxesSubplot at 0x7fcdd740d510>"
            ]
          },
          "metadata": {},
          "execution_count": 26
        },
        {
          "output_type": "display_data",
          "data": {
            "text/plain": [
              "<Figure size 432x288 with 1 Axes>"
            ],
            "image/png": "[encoded data removed]"
          },
          "metadata": {
            "needs_background": "light"
          }
        }
      ]
    },
    {
      "cell_type": "code",
      "execution_count": 21,
      "id": "8f19070e",
      "metadata": {
        "id": "8f19070e",
        "outputId": "f6efada9-06cb-409e-a8de-cb0045d81c9a",
        "colab": {
          "base_uri": "https://localhost:8080/",
          "height": 549
        }
      },
      "outputs": [
        {
          "output_type": "execute_result",
          "data": {
            "text/plain": [
              "<class 'statsmodels.iolib.summary.Summary'>\n",
              "\"\"\"\n",
              "                            OLS Regression Results                            \n",
              "==============================================================================\n",
              "Dep. Variable:                  lwage   R-squared:                       0.305\n",
              "Model:                            OLS   Adj. R-squared:                  0.304\n",
              "Method:                 Least Squares   F-statistic:                     219.2\n",
              "Date:                Fri, 04 Nov 2022   Prob (F-statistic):          1.97e-232\n",
              "Time:                        22:30:01   Log-Likelihood:                -1273.9\n",
              "No. Observations:                3003   AIC:                             2562.\n",
              "Df Residuals:                    2996   BIC:                             2604.\n",
              "Df Model:                           6                                         \n",
              "Covariance Type:            nonrobust                                         \n",
              "==============================================================================\n",
              "                 coef    std err          t      P>|t|      [0.025      0.975]\n",
              "------------------------------------------------------------------------------\n",
              "Intercept      5.0633      0.064     79.437      0.000       4.938       5.188\n",
              "educ           0.0712      0.003     20.438      0.000       0.064       0.078\n",
              "exper          0.0342      0.002     15.422      0.000       0.030       0.038\n",
              "black         -0.1660      0.018     -9.426      0.000      -0.201      -0.131\n",
              "south         -0.1316      0.015     -8.788      0.000      -0.161      -0.102\n",
              "married       -0.0359      0.003    -10.547      0.000      -0.043      -0.029\n",
              "smsa           0.1758      0.015     11.372      0.000       0.145       0.206\n",
              "==============================================================================\n",
              "Omnibus:                       53.196   Durbin-Watson:                   1.858\n",
              "Prob(Omnibus):                  0.000   Jarque-Bera (JB):               69.430\n",
              "Skew:                          -0.231   Prob(JB):                     8.38e-16\n",
              "Kurtosis:                       3.584   Cond. No.                         154.\n",
              "==============================================================================\n",
              "\n",
              "Notes:\n",
              "[1] Standard Errors assume that the covariance matrix of the errors is correctly specified.\n",
              "\"\"\""
            ],
            "text/html": [
              "<table class=\"simpletable\">\n",
              "<caption>OLS Regression Results</caption>\n",
              "<tr>\n",
              "  <th>Dep. Variable:</th>          <td>lwage</td>      <th>  R-squared:         </th> <td>   0.305</td> \n",
              "</tr>\n",
              "<tr>\n",
              "  <th>Model:</th>                   <td>OLS</td>       <th>  Adj. R-squared:    </th> <td>   0.304</td> \n",
              "</tr>\n",
              "<tr>\n",
              "  <th>Method:</th>             <td>Least Squares</td>  <th>  F-statistic:       </th> <td>   219.2</td> \n",
              "</tr>\n",
              "<tr>\n",
              "  <th>Date:</th>             <td>Fri, 04 Nov 2022</td> <th>  Prob (F-statistic):</th> <td>1.97e-232</td>\n",
              "</tr>\n",
              "<tr>\n",
              "  <th>Time:</th>                 <td>22:30:01</td>     <th>  Log-Likelihood:    </th> <td> -1273.9</td> \n",
              "</tr>\n",
              "<tr>\n",
              "  <th>No. Observations:</th>      <td>  3003</td>      <th>  AIC:               </th> <td>   2562.</td> \n",
              "</tr>\n",
              "<tr>\n",
              "  <th>Df Residuals:</th>          <td>  2996</td>      <th>  BIC:               </th> <td>   2604.</td> \n",
              "</tr>\n",
              "<tr>\n",
              "  <th>Df Model:</th>              <td>     6</td>      <th>                     </th>     <td> </td>    \n",
              "</tr>\n",
              "<tr>\n",
              "  <th>Covariance Type:</th>      <td>nonrobust</td>    <th>                     </th>     <td> </td>    \n",
              "</tr>\n",
              "</table>\n",
              "<table class=\"simpletable\">\n",
              "<tr>\n",
              "      <td></td>         <th>coef</th>     <th>std err</th>      <th>t</th>      <th>P>|t|</th>  <th>[0.025</th>    <th>0.975]</th>  \n",
              "</tr>\n",
              "<tr>\n",
              "  <th>Intercept</th> <td>    5.0633</td> <td>    0.064</td> <td>   79.437</td> <td> 0.000</td> <td>    4.938</td> <td>    5.188</td>\n",
              "</tr>\n",
              "<tr>\n",
              "  <th>educ</th>      <td>    0.0712</td> <td>    0.003</td> <td>   20.438</td> <td> 0.000</td> <td>    0.064</td> <td>    0.078</td>\n",
              "</tr>\n",
              "<tr>\n",
              "  <th>exper</th>     <td>    0.0342</td> <td>    0.002</td> <td>   15.422</td> <td> 0.000</td> <td>    0.030</td> <td>    0.038</td>\n",
              "</tr>\n",
              "<tr>\n",
              "  <th>black</th>     <td>   -0.1660</td> <td>    0.018</td> <td>   -9.426</td> <td> 0.000</td> <td>   -0.201</td> <td>   -0.131</td>\n",
              "</tr>\n",
              "<tr>\n",
              "  <th>south</th>     <td>   -0.1316</td> <td>    0.015</td> <td>   -8.788</td> <td> 0.000</td> <td>   -0.161</td> <td>   -0.102</td>\n",
              "</tr>\n",
              "<tr>\n",
              "  <th>married</th>   <td>   -0.0359</td> <td>    0.003</td> <td>  -10.547</td> <td> 0.000</td> <td>   -0.043</td> <td>   -0.029</td>\n",
              "</tr>\n",
              "<tr>\n",
              "  <th>smsa</th>      <td>    0.1758</td> <td>    0.015</td> <td>   11.372</td> <td> 0.000</td> <td>    0.145</td> <td>    0.206</td>\n",
              "</tr>\n",
              "</table>\n",
              "<table class=\"simpletable\">\n",
              "<tr>\n",
              "  <th>Omnibus:</th>       <td>53.196</td> <th>  Durbin-Watson:     </th> <td>   1.858</td>\n",
              "</tr>\n",
              "<tr>\n",
              "  <th>Prob(Omnibus):</th> <td> 0.000</td> <th>  Jarque-Bera (JB):  </th> <td>  69.430</td>\n",
              "</tr>\n",
              "<tr>\n",
              "  <th>Skew:</th>          <td>-0.231</td> <th>  Prob(JB):          </th> <td>8.38e-16</td>\n",
              "</tr>\n",
              "<tr>\n",
              "  <th>Kurtosis:</th>      <td> 3.584</td> <th>  Cond. No.          </th> <td>    154.</td>\n",
              "</tr>\n",
              "</table><br/><br/>Notes:<br/>[1] Standard Errors assume that the covariance matrix of the errors is correctly specified."
            ]
          },
          "metadata": {},
          "execution_count": 21
        }
      ],
      "source": [
        "#OLS\n",
        "ols_reg = sm.OLS.from_formula(\"lwage ~ educ + exper + black + south + married + smsa\", \n",
        "              data = card).fit()\n",
        "\n",
        "ols_reg.summary()"
      ]
    },
    {
      "cell_type": "code",
      "execution_count": 27,
      "id": "08d684c3",
      "metadata": {
        "id": "08d684c3"
      },
      "outputs": [],
      "source": [
        "# There are null values in the dataset, we will fill them with 0\n",
        "card['married'] = card['married'].fillna(0)"
      ]
    },
    {
      "cell_type": "code",
      "source": [
        "sns.histplot(data=card, x=\"nearc4\")"
      ],
      "metadata": {
        "id": "o_pzeUopx9ys",
        "outputId": "63f06ba9-7ef3-4cd3-ef55-c2be4220c844",
        "colab": {
          "base_uri": "https://localhost:8080/",
          "height": 296
        }
      },
      "id": "o_pzeUopx9ys",
      "execution_count": 28,
      "outputs": [
        {
          "output_type": "execute_result",
          "data": {
            "text/plain": [
              "<matplotlib.axes._subplots.AxesSubplot at 0x7fcdd7206a90>"
            ]
          },
          "metadata": {},
          "execution_count": 28
        },
        {
          "output_type": "display_data",
          "data": {
            "text/plain": [
              "<Figure size 432x288 with 1 Axes>"
            ],
            "image/png": "[encoded data removed]"
          },
          "metadata": {
            "needs_background": "light"
          }
        }
      ]
    },
    {
      "cell_type": "code",
      "execution_count": 29,
      "id": "5d4ff07c",
      "metadata": {
        "id": "5d4ff07c",
        "outputId": "32e78f4b-0def-4f53-876b-f8bc5498e306",
        "colab": {
          "base_uri": "https://localhost:8080/",
          "height": 456
        }
      },
      "outputs": [
        {
          "output_type": "execute_result",
          "data": {
            "text/plain": [
              "<class 'linearmodels.compat.statsmodels.Summary'>\n",
              "\"\"\"\n",
              "                          IV-2SLS Estimation Summary                          \n",
              "==============================================================================\n",
              "Dep. Variable:                  lwage   R-squared:                      0.2428\n",
              "Estimator:                    IV-2SLS   Adj. R-squared:                 0.2413\n",
              "No. Observations:                3010   F-statistic:                    884.54\n",
              "Date:                Fri, Nov 04 2022   P-value (F-stat)                0.0000\n",
              "Time:                        22:36:27   Distribution:                  chi2(6)\n",
              "Cov. Estimator:                robust                                         \n",
              "                                                                              \n",
              "                             Parameter Estimates                              \n",
              "==============================================================================\n",
              "            Parameter  Std. Err.     T-stat    P-value    Lower CI    Upper CI\n",
              "------------------------------------------------------------------------------\n",
              "Intercept      4.0998     0.8209     4.9942     0.0000      2.4909      5.7088\n",
              "black         -0.1110     0.0493    -2.2504     0.0244     -0.2076     -0.0143\n",
              "exper          0.0571     0.0195     2.9262     0.0034      0.0189      0.0953\n",
              "married       -0.0318     0.0050    -6.3846     0.0000     -0.0415     -0.0220\n",
              "smsa           0.1448     0.0302     4.8025     0.0000      0.0857      0.2039\n",
              "south         -0.1128     0.0228    -4.9550     0.0000     -0.1574     -0.0682\n",
              "educ           0.1279     0.0484     2.6438     0.0082      0.0331      0.2227\n",
              "==============================================================================\n",
              "\n",
              "Endogenous: educ\n",
              "Instruments: nearc4\n",
              "Robust Covariance (Heteroskedastic)\n",
              "Debiased: False\n",
              "\"\"\""
            ],
            "text/html": [
              "<table class=\"simpletable\">\n",
              "<caption>IV-2SLS Estimation Summary</caption>\n",
              "<tr>\n",
              "  <th>Dep. Variable:</th>          <td>lwage</td>      <th>  R-squared:         </th> <td>0.2428</td> \n",
              "</tr>\n",
              "<tr>\n",
              "  <th>Estimator:</th>             <td>IV-2SLS</td>     <th>  Adj. R-squared:    </th> <td>0.2413</td> \n",
              "</tr>\n",
              "<tr>\n",
              "  <th>No. Observations:</th>       <td>3010</td>       <th>  F-statistic:       </th> <td>884.54</td> \n",
              "</tr>\n",
              "<tr>\n",
              "  <th>Date:</th>             <td>Fri, Nov 04 2022</td> <th>  P-value (F-stat)   </th> <td>0.0000</td> \n",
              "</tr>\n",
              "<tr>\n",
              "  <th>Time:</th>                 <td>22:36:27</td>     <th>  Distribution:      </th> <td>chi2(6)</td>\n",
              "</tr>\n",
              "<tr>\n",
              "  <th>Cov. Estimator:</th>        <td>robust</td>      <th>                     </th>    <td></td>    \n",
              "</tr>\n",
              "<tr>\n",
              "  <th></th>                          <td></td>         <th>                     </th>    <td></td>    \n",
              "</tr>\n",
              "</table>\n",
              "<table class=\"simpletable\">\n",
              "<caption>Parameter Estimates</caption>\n",
              "<tr>\n",
              "      <td></td>      <th>Parameter</th> <th>Std. Err.</th> <th>T-stat</th>  <th>P-value</th> <th>Lower CI</th> <th>Upper CI</th>\n",
              "</tr>\n",
              "<tr>\n",
              "  <th>Intercept</th>  <td>4.0998</td>    <td>0.8209</td>   <td>4.9942</td>  <td>0.0000</td>   <td>2.4909</td>   <td>5.7088</td> \n",
              "</tr>\n",
              "<tr>\n",
              "  <th>black</th>      <td>-0.1110</td>   <td>0.0493</td>   <td>-2.2504</td> <td>0.0244</td>   <td>-0.2076</td>  <td>-0.0143</td>\n",
              "</tr>\n",
              "<tr>\n",
              "  <th>exper</th>      <td>0.0571</td>    <td>0.0195</td>   <td>2.9262</td>  <td>0.0034</td>   <td>0.0189</td>   <td>0.0953</td> \n",
              "</tr>\n",
              "<tr>\n",
              "  <th>married</th>    <td>-0.0318</td>   <td>0.0050</td>   <td>-6.3846</td> <td>0.0000</td>   <td>-0.0415</td>  <td>-0.0220</td>\n",
              "</tr>\n",
              "<tr>\n",
              "  <th>smsa</th>       <td>0.1448</td>    <td>0.0302</td>   <td>4.8025</td>  <td>0.0000</td>   <td>0.0857</td>   <td>0.2039</td> \n",
              "</tr>\n",
              "<tr>\n",
              "  <th>south</th>      <td>-0.1128</td>   <td>0.0228</td>   <td>-4.9550</td> <td>0.0000</td>   <td>-0.1574</td>  <td>-0.0682</td>\n",
              "</tr>\n",
              "<tr>\n",
              "  <th>educ</th>       <td>0.1279</td>    <td>0.0484</td>   <td>2.6438</td>  <td>0.0082</td>   <td>0.0331</td>   <td>0.2227</td> \n",
              "</tr>\n",
              "</table><br/><br/>Endogenous: educ<br/>Instruments: nearc4<br/>Robust Covariance (Heteroskedastic)<br/>Debiased: False"
            ]
          },
          "metadata": {},
          "execution_count": 29
        }
      ],
      "source": [
        "#2SLS\n",
        "iv_reg = IV2SLS.from_formula(\"lwage ~  1 + exper + black + south + married + smsa + [educ ~ nearc4 ]\", card).fit()\n",
        "iv_reg.summary"
      ]
    },
    {
      "cell_type": "markdown",
      "id": "95243ffd",
      "metadata": {
        "id": "95243ffd"
      },
      "source": [
        "First, we report our OLS results. For every one year additional of schooling, respondents’ earnings increase by approximately 7.1%. Next we estimated 2SLS. Here we find a much larger return to schooling than we had found using OLS—around 75% larger in fact. The F statistic exceeds 15, suggesting we don’t have a weak instrument problem. The return to schooling associated with this 2SLS estimate is 0.127—that is, for every additional year of schooling, earnings increase by 12.7%. Other covariates are listed if you’re interested in studying them as well."
      ]
    },
    {
      "cell_type": "markdown",
      "source": [],
      "metadata": {
        "id": "G0R-mXqmzQlH"
      },
      "id": "G0R-mXqmzQlH"
    }
  ],
  "metadata": {
    "kernelspec": {
      "display_name": "Python 3 (ipykernel)",
      "language": "python",
      "name": "python3"
    },
    "language_info": {
      "codemirror_mode": {
        "name": "ipython",
        "version": 3
      },
      "file_extension": ".py",
      "mimetype": "text/x-python",
      "name": "python",
      "nbconvert_exporter": "python",
      "pygments_lexer": "ipython3",
      "version": "3.7.11"
    },
    "colab": {
      "provenance": []
    }
  },
  "nbformat": 4,
  "nbformat_minor": 5
}