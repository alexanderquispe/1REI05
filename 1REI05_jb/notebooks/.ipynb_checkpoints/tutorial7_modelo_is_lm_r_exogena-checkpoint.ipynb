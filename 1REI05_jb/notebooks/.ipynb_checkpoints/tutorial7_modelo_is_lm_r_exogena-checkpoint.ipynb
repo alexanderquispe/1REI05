{
 "cells": [
  {
   "cell_type": "code",
   "execution_count": 1,
   "id": "46672567",
   "metadata": {},
   "outputs": [],
   "source": [
    "%matplotlib widget\n",
    "%matplotlib inline\n",
    "import ipywidgets as widgets\n",
    "import matplotlib.pyplot as plt\n",
    "import numpy as np\n",
    "import sympy as sy\n",
    "from sympy import *\n",
    "import pandas as pd\n",
    "#from causalgraphicalmodels import CausalGraphicalModel\n",
    "from IPython.display import Image\n",
    "import warnings\n",
    "warnings.filterwarnings('ignore')"
   ]
  },
  {
   "cell_type": "markdown",
   "id": "966ab756",
   "metadata": {},
   "source": [
    "# 6. Modelo IS-LM con Tasa de Interés Exógena $(r)$ fijada por el Banco Central:"
   ]
  },
  {
   "cell_type": "markdown",
   "id": "0a8fbfc7",
   "metadata": {},
   "source": [
    "## 6.1. Ecuaciones"
   ]
  },
  {
   "cell_type": "markdown",
   "id": "15b239da",
   "metadata": {},
   "source": [
    "- Ecuación de la IS: \n",
    "\n",
    "Partiendo de:\n",
    "\n",
    "$$ Y = C + I + G + X - M $$\n",
    "\n",
    "donde\n",
    "\n",
    "$$ C = C_0 + b(1-t)Y $$\n",
    "\n",
    "$$ I = I_0 - hr $$\n",
    "\n",
    "$$ G = G_0 $$\n",
    "\n",
    "$$ X = X_0 $$\n",
    "\n",
    "$$ M = mY $$\n",
    "\n",
    "Reemplazando:\n",
    "\n",
    "$$ Y = C_0 + b(1-t)Y + I_0 - hr + G_0 + X_0 - mY $$\n",
    "\n",
    "La ecuación de la IS es en función de $Y$ es:\n",
    "\n",
    "$$ Y = \\frac{1}{1 - (b - m)(1 - t)} (C_o + I_o + G_o + X_o - hr) $$\n",
    "\n",
    "o,\n",
    "\n",
    "$$ Y = \\frac{1}{B_1} (B_0) $$\n",
    "\n",
    "Donde $ B_0 = C_o + I_o + G_o + X_o - hr $ y $ B_1 = 1 - (b - m)(1 - t) $"
   ]
  },
  {
   "cell_type": "markdown",
   "id": "8cfb5c38",
   "metadata": {},
   "source": [
    "- Ecuación de la LM:\n",
    "\n",
    "$$ \\frac{M_o^s}{P_0} = kY - jr $$\n",
    "\n",
    "Ahora $M^s$ es la variable endogena, por eso escribimos la LM En función de $(M^s)$:\n",
    "\n",
    "$$ M^s = P_0(kY - jr) $$"
   ]
  },
  {
   "cell_type": "markdown",
   "id": "a72d0f6d",
   "metadata": {},
   "source": [
    "## 6.2. Equilibrio IS-LM con $r$ exógena"
   ]
  },
  {
   "cell_type": "markdown",
   "id": "6de2e763",
   "metadata": {},
   "source": [
    "- Ingreso de equilibrio: es igual a la ecuación de la IS\n",
    "\n",
    "$$ Y^e = \\frac{1}{1 - (b - m)(1 - t)} (C_o + I_o + G_o + X_o - hr) $$\n",
    "\n",
    "- Masa monetaria: reemplazamos $Y$ en $M_s$:\n",
    "\n",
    "$$ M^e_s = P_0(kY - jr) $$\n",
    "\n",
    "$$ M^e_s = (\\frac{B_0}{B_1})P_0k - P_0jr $$\n",
    "\n",
    "\n",
    "$$ M^e_s = P_0k(\\frac{1}{1 - (b - m)(1 - t)} (C_o + I_o + G_o + X_o - hr)) - P_0jr $$"
   ]
  },
  {
   "cell_type": "markdown",
   "id": "26cc4b65",
   "metadata": {},
   "source": [
    "## 6.3. Curva IS"
   ]
  },
  {
   "cell_type": "code",
   "execution_count": null,
   "id": "d2bfaf11",
   "metadata": {},
   "outputs": [],
   "source": [
    "#--------------------------------------------------\n",
    "\n",
    "# Curva IS\n",
    "\n",
    "r_size = 100 \n",
    "\n",
    "Co = 13\n",
    "b = 0.7\n",
    "t = 0.25\n",
    "Io = 6.4\n",
    "Go = 5\n",
    "h = 0.3\n",
    "Xo = 2\n",
    "m = 0.4\n",
    "\n",
    "r = np.arange(r_size)\n",
    "\n",
    "# Ecuación\n",
    "\n",
    "def IS_CB(Co, b, t, Io, h, Xo, m, Go):\n",
    "    IS_CB = (1/(1 - (b - m)*(1 - t)))*(Co + Io + Go + Xo - h*r)\n",
    "    return IS_CB\n",
    "\n",
    "IS_CB = IS_CB(Co, b, t, Io, h, Xo, m, Go)"
   ]
  },
  {
   "cell_type": "markdown",
   "id": "ac683a3f",
   "metadata": {},
   "source": [
    "## 6.4.Curva LM"
   ]
  },
  {
   "cell_type": "code",
   "execution_count": 22,
   "id": "633b6c92",
   "metadata": {},
   "outputs": [],
   "source": [
    "#--------------------------------------------------\n",
    "# Curva LM\n",
    "    \n",
    "# Parámetros\n",
    "\n",
    "Y_size = 100\n",
    "\n",
    "P = 3.5\n",
    "k = 1.76\n",
    "j = 3\n",
    "r = 15\n",
    "\n",
    "Y = np.arange(Y_size)\n",
    "\n",
    "# Ecuación\n",
    "\n",
    "def LM_CB(Y, P, k, j, r):\n",
    "    LM_CB = P*(k*Y - j*r)\n",
    "    return LM_CB\n",
    "\n",
    "LM_CB = LM_CB(Y, P, k, j, r)"
   ]
  },
  {
   "cell_type": "markdown",
   "id": "990746ce",
   "metadata": {},
   "source": [
    "## 6.5. Funcion para encontrar el cruce de rectas"
   ]
  },
  {
   "cell_type": "code",
   "execution_count": 23,
   "id": "75438035",
   "metadata": {},
   "outputs": [],
   "source": [
    "# líneas punteadas autómaticas\n",
    "\n",
    "    # definir la función line_intersection\n",
    "def line_intersection(line1, line2):\n",
    "    xdiff = (line1[0][0] - line1[1][0], line2[0][0] - line2[1][0])\n",
    "    ydiff = (line1[0][1] - line1[1][1], line2[0][1] - line2[1][1])\n",
    "\n",
    "    def det(a, b):\n",
    "        return a[0] * b[1] - a[1] * b[0]\n",
    "\n",
    "    div = det(xdiff, ydiff)\n",
    "    if div == 0:\n",
    "       raise Exception('lines do not intersect')\n",
    "\n",
    "    d = (det(*line1), det(*line2))\n",
    "    x = det(d, xdiff) / div\n",
    "    y = det(d, ydiff) / div\n",
    "    return x, y\n"
   ]
  },
  {
   "cell_type": "markdown",
   "id": "502bc188",
   "metadata": {},
   "source": [
    "### Encontrar puntos de cruce"
   ]
  },
  {
   "cell_type": "code",
   "execution_count": 26,
   "id": "cfb0c26b",
   "metadata": {},
   "outputs": [
    {
     "data": {
      "text/plain": [
       "(15.000000000000002, 49.25)"
      ]
     },
     "execution_count": 26,
     "metadata": {},
     "output_type": "execute_result"
    }
   ],
   "source": [
    "r_ec = np.full((100), 15)\n",
    "\n",
    "# coordenadas de las curvas (x,y)\n",
    "A = [IS_CB[0], Y[0]] # DA, coordenada inicio\n",
    "B = [IS_CB[-1], Y[-1]] # DA, coordenada fin\n",
    "\n",
    "C = [r_ec[0], Y[0]] # L_45, coordenada inicio\n",
    "D = [r_ec[-1], Y[-1]] # L_45, coordenada fin\n",
    "\n",
    "# creación de intersección\n",
    "\n",
    "intersec_1 = line_intersection((A, B), (C, D))\n",
    "intersec_1 # (y,x)"
   ]
  },
  {
   "cell_type": "markdown",
   "id": "09620870",
   "metadata": {},
   "source": [
    "## 6.6. Gráfico del modelo IS-LM-PM"
   ]
  },
  {
   "cell_type": "code",
   "execution_count": 27,
   "id": "e418d478",
   "metadata": {},
   "outputs": [
    {
     "data": {
      "image/png": "[encoded data removed]",
      "text/plain": [
       "<Figure size 720x576 with 1 Axes>"
      ]
     },
     "metadata": {},
     "output_type": "display_data"
    }
   ],
   "source": [
    "# Gráfico del modelo IS-PM\n",
    "\n",
    "# Dimensiones del gráfico\n",
    "y_max = np.max(Y)\n",
    "fig, ax = plt.subplots(figsize=(10, 8))\n",
    "\n",
    "# Curvas a graficar\n",
    "ax.plot(IS_CB, label = \"IS\", color = \"C1\") #IS\n",
    "ax.plot(r_ec, color = \"red\", label =\"PM\") #r: tasa de interés\n",
    "\n",
    "plt.axvline(intersec_1[1], ymin= 0, ymax= 1, linestyle = \":\", color = \"grey\")\n",
    "plt.axline((intersec_1[1], intersec_1[0]), slope=0.25, color=\"C0\", label = 'LM')\n",
    "\n",
    "ax.yaxis.set_major_locator(plt.NullLocator())   \n",
    "ax.xaxis.set_major_locator(plt.NullLocator())\n",
    "\n",
    "ax.text(0, 16, '$r_0$', fontsize = 13, color = 'black')\n",
    "ax.text(51, -5, '$Y_0$', fontsize = 13, color = 'black')\n",
    "ax.text(48, 16.5, '$E_0$', fontsize = 13, color = 'black')\n",
    "\n",
    "ax.set(title=\"IS-LM con r exógena\", xlabel= 'Y', ylabel= 'r')\n",
    "ax.legend()\n",
    "\n",
    "plt.show()\n"
   ]
  },
  {
   "cell_type": "markdown",
   "id": "a8827c79",
   "metadata": {},
   "source": [
    "## 6.7. Estática comparativa"
   ]
  },
  {
   "cell_type": "code",
   "execution_count": 29,
   "id": "6e249e3d",
   "metadata": {},
   "outputs": [],
   "source": [
    "# nombrar variables como símbolos\n",
    "Co, Io, Go, Xo, h, b, m, t, P, k, j, r, beta_0, beta_1 = symbols('Co, Io, Go, Xo, h, b, m, t, P, k, j, r, beta_0, beta_1')\n",
    "\n",
    "# # Beta_0 y beta_1\n",
    "# beta_0 = (Co + Io + Go + Xo - h*r)\n",
    "# beta_1 = (1-(b-m)*(1-t))\n",
    "\n",
    "# Producto de equilibrio y la tasa de interes de equilibrio en el modelo IS-LM\n",
    "Y_eq = (Co + Io + Go + Xo - h*r/(1-(b-m)*(1-t)))\n",
    "Ms_eq = (Co + Io + Go + Xo - h*r/(1-(b-m)*(1-t)))*(P*k) - (P*j*r)"
   ]
  },
  {
   "cell_type": "markdown",
   "id": "5edb56da",
   "metadata": {},
   "source": [
    "### 6.7.1. Incremento tasa de interés $(r)$"
   ]
  },
  {
   "cell_type": "markdown",
   "id": "4b8e48b5",
   "metadata": {},
   "source": [
    "- Matemática:"
   ]
  },
  {
   "cell_type": "code",
   "execution_count": 30,
   "id": "2d5ca099",
   "metadata": {},
   "outputs": [
    {
     "name": "stdout",
     "output_type": "stream",
     "text": [
      "El Diferencial del Producto con respecto al diferencial de la tasa de interés =  -h/(-(1 - t)*(b - m) + 1)\n"
     ]
    }
   ],
   "source": [
    "df_Y_eq_r = diff(Y_eq, r)\n",
    "print(\"El Diferencial del Producto con respecto al diferencial de la tasa de interés = \", df_Y_eq_r)\n",
    "\n"
   ]
  },
  {
   "cell_type": "markdown",
   "id": "437c9191",
   "metadata": {},
   "source": [
    "¿$∆Y$ sabiendo que $∆r > 0$?\n",
    "\n",
    "$$ \\frac{∆Y}{∆r} = (-) $$\n",
    "\n",
    "$$ \\frac{∆Y}{(+)} = (-) $$\n",
    "\n",
    "$$ ∆Y = (-) $$\n",
    "\n"
   ]
  },
  {
   "cell_type": "code",
   "execution_count": 31,
   "id": "1888c1c3",
   "metadata": {},
   "outputs": [
    {
     "name": "stdout",
     "output_type": "stream",
     "text": [
      "El Diferencial de la Masa Monetaria con respecto al diferencial de la tasa de interés =  -P*h*k/(-(1 - t)*(b - m) + 1) - P*j\n"
     ]
    }
   ],
   "source": [
    "df_Ms_eq_r = diff(Ms_eq, r)\n",
    "print(\"El Diferencial de la Masa Monetaria con respecto al diferencial de la tasa de interés = \", df_Ms_eq_r)\n"
   ]
  },
  {
   "cell_type": "markdown",
   "id": "1bf1efb8",
   "metadata": {},
   "source": [
    "¿$∆M^s$ sabiendo que $∆r > 0$?\n",
    "\n",
    "$$ \\frac{∆M^s}{∆r} = (-) $$\n",
    "\n",
    "$$ \\frac{∆M^s}{(+)} = (-) $$\n",
    "\n",
    "$$ ∆M^s = (-) $$\n",
    "\n"
   ]
  },
  {
   "cell_type": "markdown",
   "id": "e0ea6f9f",
   "metadata": {},
   "source": [
    "- Intuición:"
   ]
  },
  {
   "cell_type": "markdown",
   "id": "675aec29",
   "metadata": {},
   "source": [
    "$$ r↑ → I↓ → DA↓ → DA < Y → Y↓ $$\n",
    "\n",
    "$$ r↑ → M^d<M^s → M^s↓ $$\n"
   ]
  },
  {
   "cell_type": "markdown",
   "id": "e3b5aecd",
   "metadata": {},
   "source": [
    "- Gráfico:"
   ]
  },
  {
   "cell_type": "code",
   "execution_count": 32,
   "id": "ed8ffff8",
   "metadata": {},
   "outputs": [],
   "source": [
    "#--------------------------------------------------\n",
    "    # Curva IS\n",
    "\n",
    "r_size = 100 \n",
    "\n",
    "Co = 13\n",
    "b = 0.7\n",
    "t = 0.25\n",
    "Io = 6.4\n",
    "Go = 5\n",
    "h = 0.3\n",
    "Xo = 2\n",
    "m = 0.4\n",
    "\n",
    "r = np.arange(r_size)\n",
    "\n",
    "# Ecuación\n",
    "\n",
    "def IS_CB(Co, b, t, Io, h, Xo, m, Go):\n",
    "    IS_CB = (1/(1 - (b - m)*(1 - t)))*(Co + Io + Go + Xo - h*r)\n",
    "    return IS_CB\n",
    "\n",
    "IS_CB = IS_CB(Co, b, t, Io, h, Xo, m, Go)\n",
    "\n",
    "\n",
    "#--------------------------------------------------\n",
    "    # Curva LM\n",
    "    \n",
    "# Parámetros\n",
    "\n",
    "Y_size = 100\n",
    "\n",
    "P = 3.5\n",
    "k = 1.76\n",
    "j = 3\n",
    "r = 15\n",
    "\n",
    "Y = np.arange(Y_size)\n",
    "\n",
    "# Ecuación\n",
    "\n",
    "def LM_CB(Y, P, k, j, r):\n",
    "    LM_CB = P*(k*Y - j*r)\n",
    "    return LM_CB\n",
    "\n",
    "LM_CB = LM_CB(Y, P, k, j, r)\n",
    "\n",
    "#---------------------------------------------------\n",
    "    # Nueva LM\n",
    "\n",
    "r = 20 \n",
    "\n",
    "def LM_CB_2(Y, P, k, j, r):\n",
    "    LM_CB_2 = P*(k*Y - j*r)\n",
    "    return LM_CB_2\n",
    "\n",
    "LM_CB_2 = LM_CB_2(Y, P, k, j, r)"
   ]
  },
  {
   "cell_type": "code",
   "execution_count": 33,
   "id": "63139465",
   "metadata": {},
   "outputs": [
    {
     "data": {
      "text/plain": [
       "(15.000000000000002, 49.25)"
      ]
     },
     "execution_count": 33,
     "metadata": {},
     "output_type": "execute_result"
    }
   ],
   "source": [
    "r_ec = np.full((100), 15)\n",
    "\n",
    "    # coordenadas de las curvas (x,y)\n",
    "A = [IS_CB[0], Y[0]] # DA, coordenada inicio\n",
    "B = [IS_CB[-1], Y[-1]] # DA, coordenada fin\n",
    "\n",
    "C = [r_ec[0], Y[0]] # L_45, coordenada inicio\n",
    "D = [r_ec[-1], Y[-1]] # L_45, coordenada fin\n",
    "\n",
    "    # creación de intersección\n",
    "\n",
    "intersec_1 = line_intersection((A, B), (C, D))\n",
    "intersec_1 # (y,x)"
   ]
  },
  {
   "cell_type": "code",
   "execution_count": 34,
   "id": "3adbb600",
   "metadata": {},
   "outputs": [
    {
     "data": {
      "text/plain": [
       "(20.0, 36.333333333333336)"
      ]
     },
     "execution_count": 34,
     "metadata": {},
     "output_type": "execute_result"
    }
   ],
   "source": [
    "r_ec_2 = np.full((100), 20)\n",
    "\n",
    "    # coordenadas de las curvas (x,y)\n",
    "A = [IS_CB[0], Y[0]] # DA, coordenada inicio\n",
    "B = [IS_CB[-1], Y[-1]] # DA, coordenada fin\n",
    "\n",
    "C = [r_ec_2[0], Y[0]] # L_45, coordenada inicio\n",
    "D = [r_ec_2[-1], Y[-1]] # L_45, coordenada fin\n",
    "\n",
    "    # creación de intersección\n",
    "\n",
    "intersec_2 = line_intersection((A, B), (C, D))\n",
    "intersec_2 # (y,x)"
   ]
  },
  {
   "cell_type": "code",
   "execution_count": 35,
   "id": "f88dbc0f",
   "metadata": {},
   "outputs": [
    {
     "data": {
      "image/png": "[encoded data removed]",
      "text/plain": [
       "<Figure size 720x576 with 1 Axes>"
      ]
     },
     "metadata": {
      "needs_background": "light"
     },
     "output_type": "display_data"
    }
   ],
   "source": [
    "    # Gráfico del modelo IS-PM\n",
    "\n",
    "# Dimensiones del gráfico\n",
    "y_max = np.max(Y)\n",
    "fig, ax = plt.subplots(figsize=(10, 8))\n",
    "\n",
    "# Curvas a graficar\n",
    "ax.plot(IS_CB, label = \"IS\", color = \"C1\") #IS\n",
    "ax.plot(r_ec, color = \"red\", label =\"PM\") #r: tasa de interés\n",
    "ax.plot(r_ec_2, color = \"red\", label =\"PM_2\", linestyle = 'dashed') #r: tasa de interés\n",
    "\n",
    "plt.axline((intersec_1[1], intersec_1[0]), slope=0.25, color=\"C0\", label = 'LM')\n",
    "plt.axline((intersec_2[1], intersec_2[0]), slope=0.25, color=\"C0\", label = 'LM_2', linestyle = 'dashed')\n",
    "\n",
    "plt.axvline(x=intersec_1[1], ymin= 0, ymax= 1, linestyle = \":\", color = \"grey\")\n",
    "plt.axvline(x=intersec_2[1], ymin= 0, ymax= 1, linestyle = \":\", color = \"grey\")\n",
    "\n",
    "ax.text(0, 16, '$r_0$', fontsize = 13, color = 'black')\n",
    "ax.text(51, -5, '$Y_0$', fontsize = 13, color = 'black')\n",
    "ax.text(48, 16.5, '$E_0$', fontsize = 13, color = 'black')\n",
    "\n",
    "ax.text(0, 21, '$r_1$', fontsize = 13, color = 'red')\n",
    "ax.text(40, -5, '$Y_1$', fontsize = 13, color = 'red')\n",
    "ax.text(35, 22, '$E_1$', fontsize = 13, color = 'red')\n",
    "\n",
    "ax.set(title=\"Incremento de la tasa de interés en el plano $(Y, r)$\", xlabel= 'Y', ylabel= 'r')\n",
    "ax.legend()\n",
    "\n",
    "plt.show()\n"
   ]
  },
  {
   "cell_type": "code",
   "execution_count": 38,
   "id": "cc41c17f",
   "metadata": {},
   "outputs": [],
   "source": [
    "#     # Gráfico del modelo IS-PM\n",
    "\n",
    "# # Dimensiones del gráfico\n",
    "# y_max = np.max(Y)\n",
    "# fig, ax = plt.subplots(figsize=(10, 8))\n",
    "\n",
    "# # Curvas a graficar\n",
    "# ax.plot(LM_CB, label = \"LM\", color = \"C0\") #LM\n",
    "# plt.axvline(x=intersec_1[1], ymin= 0, ymax= 1, color = \"C8\", label = 'YY')\n",
    "# plt.axvline(x=intersec_2[1], ymin= 0, ymax= 1, color = \"C8\", label = 'YY_t', linestyle = 'dashed')\n",
    "\n",
    "# plt.axhline(y=145, xmin= 0, xmax= 0.5, color = \"grey\", linestyle = ':')\n",
    "# plt.axhline(y=65, xmin= 0, xmax= 0.38, color = \"grey\", linestyle = ':')\n",
    "\n",
    "# ax.text(0, 160, '$m_0^s$', fontsize = 13, color = 'black')\n",
    "# ax.text(51, -155, '$Y_0$', fontsize = 13, color = 'black')\n",
    "\n",
    "# ax.text(0, 75, '$m_1^s$', fontsize = 13, color = 'C8')\n",
    "# ax.text(38, -155, '$Y_1$', fontsize = 13, color = 'C8')\n",
    "\n",
    "# ax.yaxis.set_major_locator(plt.NullLocator())   \n",
    "# ax.xaxis.set_major_locator(plt.NullLocator())\n",
    "\n",
    "# ax.set(title=\"Incremento de la tasa de interés en el plano $(Y, m)$\", xlabel= 'Y', ylabel= '$m^s$')\n",
    "# ax.legend()\n",
    "\n",
    "# plt.show()"
   ]
  },
  {
   "cell_type": "code",
   "execution_count": 39,
   "id": "72bc0ccd",
   "metadata": {},
   "outputs": [],
   "source": [
    "# # Dos gráficos en un solo cuadro\n",
    "# fig, (ax1, ax2) = plt.subplots(2, figsize=(8, 16)) \n",
    "\n",
    "# #---------------------------------\n",
    "#     # IS_PM\n",
    "\n",
    "# # Curvas a graficar\n",
    "# ax1.plot(IS_CB, label = \"IS\", color = \"C1\") #IS\n",
    "# ax1.plot(r_ec, color = \"red\", label =\"PM\") #r: tasa de interés\n",
    "# ax1.plot(r_ec_2, color = \"red\", label =\"PM_2\", linestyle = 'dashed') #r: tasa de interés\n",
    "\n",
    "# ax1.axline((intersec_1[1], intersec_1[0]), slope=0.25, color=\"C0\", label = 'LM')\n",
    "# ax1.axline((intersec_2[1], intersec_2[0]), slope=0.25, color=\"C0\", label = 'LM_2', linestyle = 'dashed')\n",
    "\n",
    "# ax1.axvline(x=intersec_1[1], ymin= 0, ymax= 1, linestyle = \":\", color = \"grey\")\n",
    "# ax1.axvline(x=intersec_2[1], ymin= 0, ymax= 1, linestyle = \":\", color = \"grey\")\n",
    "\n",
    "# ax1.text(0, 16, '$r_0$', fontsize = 13, color = 'black')\n",
    "# ax1.text(51, -5, '$Y_0$', fontsize = 13, color = 'black')\n",
    "# ax1.text(48, 16.5, '$E_0$', fontsize = 13, color = 'black')\n",
    "\n",
    "# ax1.text(0, 21, '$r_1$', fontsize = 13, color = 'red')\n",
    "# ax1.text(40, -5, '$Y_1$', fontsize = 13, color = 'red')\n",
    "# ax1.text(35, 22, '$E_1$', fontsize = 13, color = 'red')\n",
    "\n",
    "# ax1.set(title=\"Incremento de la tasa de interés $(r)$\", xlabel= 'Y', ylabel= 'r')\n",
    "# ax1.legend()\n",
    "\n",
    "\n",
    "# #---------------------------------\n",
    "#     # YY-MM\n",
    "    \n",
    "# ax2.plot(LM_CB, label = \"LM\", color = \"C0\") #LM\n",
    "# ax2.axvline(x=intersec_1[1], ymin= 0, ymax= 1, color = \"C8\", label = 'YY')\n",
    "# ax2.axvline(x=intersec_2[1], ymin= 0, ymax= 1, color = \"C8\", label = 'YY_t', linestyle = 'dashed')\n",
    "\n",
    "# ax2.axhline(y=145, xmin= 0, xmax= 0.5, color = \"grey\", linestyle = ':')\n",
    "# ax2.axhline(y=65, xmin= 0, xmax= 0.38, color = \"grey\", linestyle = ':')\n",
    "\n",
    "# ax2.text(0, 160, '$m_0^s$', fontsize = 13, color = 'black')\n",
    "# ax2.text(51, -155, '$Y_0$', fontsize = 13, color = 'black')\n",
    "\n",
    "# ax2.text(0, 75, '$m_1^s$', fontsize = 13, color = 'C8')\n",
    "# ax2.text(38, -155, '$Y_1$', fontsize = 13, color = 'C8')\n",
    "\n",
    "# ax2.set(xlabel= 'Y', ylabel= '$m^s$')\n",
    "# ax2.legend()\n",
    "\n",
    "# plt.show()\n"
   ]
  },
  {
   "cell_type": "code",
   "execution_count": 40,
   "id": "35f296ff",
   "metadata": {},
   "outputs": [],
   "source": [
    "# #--------------------------------------------------\n",
    "#     # Curva LM\n",
    "    \n",
    "# # Parámetros\n",
    "\n",
    "# Y_size = 100\n",
    "\n",
    "# P = 3.5\n",
    "# k = 1.76\n",
    "# j = 3\n",
    "# r = 15\n",
    "\n",
    "# Y = np.arange(Y_size)\n",
    "\n",
    "# # Ecuación\n",
    "\n",
    "# def LM_CB(Y, P, k, j, r):\n",
    "#     LM_CB = P*(k*Y - j*r)\n",
    "#     return LM_CB\n",
    "\n",
    "# LM_CB = LM_CB(Y, P, k, j, r)"
   ]
  },
  {
   "cell_type": "code",
   "execution_count": 41,
   "id": "f1c8fc4c",
   "metadata": {},
   "outputs": [],
   "source": [
    "#     # Gráfico del modelo IS-PM\n",
    "\n",
    "# # Dimensiones del gráfico\n",
    "# y_max = np.max(Y)\n",
    "# fig, ax = plt.subplots(figsize=(10, 8))\n",
    "\n",
    "# # Curvas a graficar\n",
    "# ax.plot(LM_CB, label = \"LM\", color = \"C0\") #IS\n",
    "# plt.axvline(x=intersec_1[1], ymin= 0, ymax= 1, color = \"C8\", label = 'YY')\n",
    "\n",
    "# plt.axhline(y=145, xmin= 0, xmax= 0.5, color = \"grey\", linestyle = ':')\n",
    "\n",
    "# ax.text(0, 160, '$m_0^s$', fontsize = 13, color = 'black')\n",
    "# ax.text(51, -155, '$Y_0$', fontsize = 13, color = 'black')\n",
    "# ax.text(45, 160, '$E_0$', fontsize = 13, color = 'black')\n",
    "\n",
    "# ax.yaxis.set_major_locator(plt.NullLocator())   \n",
    "# ax.xaxis.set_major_locator(plt.NullLocator())\n",
    "\n",
    "# ax.set(title=\"IS-LM con tasa de interés $(r)$ exógena en el plano $(Y, m)$\", xlabel= 'Y', ylabel= '$m^s$')\n",
    "# ax.legend()\n",
    "\n",
    "# plt.show()\n"
   ]
  },
  {
   "cell_type": "code",
   "execution_count": 42,
   "id": "955725e2",
   "metadata": {},
   "outputs": [],
   "source": [
    "# # Dos gráficos en un solo cuadro\n",
    "# fig, (ax1, ax2) = plt.subplots(2, figsize=(8, 16)) \n",
    "\n",
    "# #---------------------------------\n",
    "#     # IS_PM\n",
    "\n",
    "# # Curvas a graficar\n",
    "# ax1.plot(IS_CB, label = \"IS\", color = \"C1\") #IS\n",
    "# ax1.plot(r_ec, color = \"red\", label =\"PM\") #r: tasa de interés\n",
    "\n",
    "# ax1.axvline(intersec_1[1], ymin= 0, ymax= 1, linestyle = \":\", color = \"grey\")\n",
    "# ax1.axline((intersec_1[1], intersec_1[0]), slope=0.25, color=\"C0\", label = 'LM')\n",
    "\n",
    "# ax1.yaxis.set_major_locator(plt.NullLocator())   \n",
    "# ax1.xaxis.set_major_locator(plt.NullLocator())\n",
    "\n",
    "# ax1.text(0, 16, '$r_0$', fontsize = 13, color = 'black')\n",
    "# ax1.text(51, -5, '$Y_0$', fontsize = 13, color = 'black')\n",
    "# ax1.text(48, 16.5, '$E_0$', fontsize = 13, color = 'black')\n",
    "\n",
    "# ax1.set(title=\"IS-LM con r exógena\", xlabel= 'Y', ylabel= 'r')\n",
    "# ax1.legend()\n",
    "\n",
    "\n",
    "# #---------------------------------\n",
    "#     # YY-MM\n",
    "    \n",
    "# ax2.plot(LM_CB, label = \"MM\", color = \"C0\") #IS\n",
    "# ax2.axvline(x=intersec_1[1], ymin= 0, ymax= 1, color = \"C8\", label = 'YY')\n",
    "\n",
    "# ax2.axhline(y=145, xmin= 0, xmax= 0.5, color = \"grey\", linestyle = ':')\n",
    "\n",
    "# ax1.yaxis.set_major_locator(plt.NullLocator())   \n",
    "# ax1.xaxis.set_major_locator(plt.NullLocator())\n",
    "\n",
    "# ax2.text(0, 160, '$m_0^s$', fontsize = 13, color = 'black')\n",
    "# ax2.text(51, -155, '$Y_0$', fontsize = 13, color = 'black')\n",
    "\n",
    "# ax2.set(xlabel= 'Y', ylabel= 'm')\n",
    "# ax2.legend()\n",
    "\n",
    "# plt.show()\n"
   ]
  },
  {
   "cell_type": "code",
   "execution_count": 43,
   "id": "a9c3cbd2",
   "metadata": {},
   "outputs": [],
   "source": [
    "# # nombrar variables como símbolos\n",
    "# Co, Io, Go, Xo, h, b, m, t, P, k, j, r, beta_0, beta_1 = symbols('Co, Io, Go, Xo, h, b, m, t, P, k, j, r, beta_0, beta_1')\n",
    "\n",
    "# # # Beta_0 y beta_1\n",
    "# # beta_0 = (Co + Io + Go + Xo - h*r)\n",
    "# # beta_1 = (1-(b-m)*(1-t))\n",
    "\n",
    "# # Producto de equilibrio y la tasa de interes de equilibrio en el modelo IS-LM\n",
    "# Y_eq = (Co + Io + Go + Xo - h*r/(1-(b-m)*(1-t)))\n",
    "# Ms_eq = (Co + Io + Go + Xo - h*r/(1-(b-m)*(1-t)))*(P*k) - (P*j*r)\n"
   ]
  }
 ],
 "metadata": {
  "kernelspec": {
   "display_name": "Python 3 (ipykernel)",
   "language": "python",
   "name": "python3"
  },
  "language_info": {
   "codemirror_mode": {
    "name": "ipython",
    "version": 3
   },
   "file_extension": ".py",
   "mimetype": "text/x-python",
   "name": "python",
   "nbconvert_exporter": "python",
   "pygments_lexer": "ipython3",
   "version": "3.9.7"
  }
 },
 "nbformat": 4,
 "nbformat_minor": 5
}
