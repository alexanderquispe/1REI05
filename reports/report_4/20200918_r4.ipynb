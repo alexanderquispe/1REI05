{
 "cells": [
  {
   "cell_type": "markdown",
   "id": "275fdf0c",
   "metadata": {},
   "source": [
    "# REPORTE 4"
   ]
  },
  {
   "cell_type": "markdown",
   "id": "37c733af",
   "metadata": {},
   "source": [
    "Camila Durand- 20200918 Con Luciana Sarmiento- 20202422 "
   ]
  },
  {
   "cell_type": "code",
   "execution_count": 2,
   "id": "8036eacc",
   "metadata": {},
   "outputs": [],
   "source": [
    "import numpy as np\n",
    "import pandas as pd\n",
    "import matplotlib.pyplot as plt\n",
    "from causalgraphicalmodels import CausalGraphicalModel"
   ]
  },
  {
   "cell_type": "code",
   "execution_count": 3,
   "id": "eb842e34",
   "metadata": {},
   "outputs": [],
   "source": [
    "import matplotlib.pyplot as plt\n",
    "import sympy as sy\n",
    "import math\n",
    "import sklearn\n",
    "from sympy import *"
   ]
  },
  {
   "cell_type": "code",
   "execution_count": 4,
   "id": "430df889",
   "metadata": {},
   "outputs": [],
   "source": [
    "import scipy as sp\n",
    "import networkx\n",
    "import ipywidgets as widgets\n",
    "import statsmodels.api as sm\n",
    "import statsmodels.formula.api as smf\n",
    "from statsmodels.iolib.summary2 import summary_col"
   ]
  },
  {
   "cell_type": "markdown",
   "id": "78744826",
   "metadata": {},
   "source": [
    "### REPORTE DE LA LECTURA"
   ]
  },
  {
   "cell_type": "markdown",
   "id": "ecb0eb26",
   "metadata": {},
   "source": [
    "Mendoza en el presente texto busca demostrar cómo los métodos tradicionales, optando particularmente por la opción teórica de keynes, siguen siendo sumamente útiles para los problemas macroeconómicos contemporáneos además de modelar la política monetaria no convencional, extendiendo el modelo estándar de demanda y oferta agregada de economía cerrada para incorporar las innovaciones de la política monetaria. El autor señala como antes de la crisis económica de 2008-2009 el principal instrumento de estados unidos en materia de política monetaria era la tasa de interés y cómo a raíz de la crisis se optó por dos instrumentos de política no convencionales: el anuncio sobre la trayectoria futura de la tasa de interés de corto plazo y la intervención  directa en el mercado de bonos de largo plazo. Esta situación de usar instrumentos no convencionales ya había sido prevista por Keynes. Para examinar esta situación y sus efectos el texto ejemplifica un modelo en el que la Fed administra la tasa  de interés de corto plazo, no la oferta monetaria, la cual es endógena y además añade un mercado de bonos de largo plazo al modelo IS-LM, en el que solo existe un mercado de bonos de corto plazo. \n",
    "\n",
    "El modelo ofrecido por Mendoza es de suma utilidad pues gracias a el esposible discutir los efectos sobre las variables endógenas de la política fiscal y de los choques adversos de oferta. Con ello, el texto sigue un enfoque particularizado en analizar la estructura del modelo y pautar su reacción ante diferentes sucesos, lo cual permite entender de manera clara la predictibilidad macroeconómica sugerida por el autor. Otra de las ventajas del texto es su carácter sumamente explicativo, pues no se limita a explicar los sucesos sino el cómo se llega allí y la composición de las variables, de manera intuitiva, matemática y gráfica. Sin embargo,  también posee características a mejorar en futuras investigaciones  como el abordar los modelos contemporáneos, su fortalezas y debilidades para contrastarlo con  los modelos tradicionales que usa en su análisis.\n",
    "\n",
    "La contribución de Mendoza es clara, pues permite entender cómo los métodos y modelos antiguos siguen ayudando a la comprensión de los problemas macroeconómicos más preocupantes de nuestro tiempo. El modelo que elabora genera una gran amplitud de entendimiento al respecto de la expansión cuantitativa. Asimismo el enfoque explicativo usado en el texto permite que personas sin mucho conocimiento económico pueda entender las políticas monetarias no convencionales y sus efectos a través de un lenguaje sencillo. Y al ser un modelo teórico tan bien explicado puede ser aplicado por muchos analistas como punto de referencia en un futuro cercano. \n",
    "\n",
    "Para seguir adelante con lo ya investigado por Mendoza resulta clave ver la aplicación de este modelo en contextos más actuales y realidades más cercanas como la peruana durante los últimos años, tomando en cuenta los préstamos y depósitos bancarios más comunes en los mercados financieros de la región como señala Manuelito. Asimismo sería oportuno seguir profundizando en la flexibilización cuantitativa y ver de manera directa la aplicación de instrumentos no convencionales en economías con características similares como Macas y Zhangallimbay lo hicieron sobre Ecuador.\n",
    "\n",
    "\n",
    "Manuelito, S. (2014). Los mercados financieros en América Latina y el financiamiento de la inversión: hechos estilizados y propuestas para una estrategia de desarrollo. Recuperado 24 de septiembre de 2022, de https://repositorio.cepal.org/handle/11362/5337\n",
    "\n",
    "MACAS, G. O., & ZHANGALLIMBAY, D. J. (2019). Evaluación de impacto de los instrumentos de política monetaria no convencional en la liquidez de la economía: la experiencia ecuatoriana. Espacios, 40, 28. "
   ]
  },
  {
   "cell_type": "markdown",
   "id": "c363546b",
   "metadata": {},
   "source": [
    "### CODIGO EN PYTHON"
   ]
  },
  {
   "cell_type": "markdown",
   "id": "6c7c908e",
   "metadata": {},
   "source": [
    "Encuentre las ecuaciones de Ingreso $(Y^e)$  y tasa de interes $(r^e)$ de equilibrio(Escriba paso a paso la derivacion de estas ecuaciones)."
   ]
  },
  {
   "cell_type": "markdown",
   "id": "f1c56bb9",
   "metadata": {},
   "source": [
    "Se tiene a la función IS:\n",
    "$$r = \\frac{β_o}{h} - \\frac{β_1}{h}Y$$\n",
    "\n",
    "donde: \n",
    "\n",
    "$$β_o = C_o - I_o + G_o + X_o$$    \n",
    "$$y$$    \n",
    "$$β_1 = 1 - (b - m)(1 - t)$$\n",
    "\n",
    "Además, se tiene a la función LM:\n",
    "$$r = - \\frac{1}{j} \\frac{M_o^s}{P_o} + \\frac{k}{j}Y$$"
   ]
  },
  {
   "cell_type": "markdown",
   "id": "2458edb7",
   "metadata": {},
   "source": [
    "##### Derivación de la ecuación de $Y^e$\n",
    "Como se tiene r en los dos modelos, entonces igualamos:\n",
    "\n",
    "$$\\frac{β_o}{h} - \\frac{β_1}{h}Y = - \\frac{1}{j} \\frac{M_o^s}{P_o} + \\frac{k}{j}Y$$\n",
    "\n",
    "$$\\frac{k}{j}Y + \\frac{β_1}{h}Y = \\frac{β_o}{h}+\\frac{1}{j}\\frac{M_0^s}{P_0}$$\n",
    "\n",
    "$$Y(\\frac{k}{j} + \\frac{β_1}{h}) = \\frac{β_o}{h}+\\frac{1}{j}\\frac{M_0^s}{P_0}$$\n",
    "\n",
    "$$Y(P_0kh+jβ_1P_0) = β_ojP_o+M_0^sh$$\n",
    "\n",
    "Despejamos Y:\n",
    "\n",
    "$$Y^e = \\frac{jβ_oP_0+M_0^sh}{P_0kh+β_1jP_0}$$\n",
    "\n",
    "$$Y^e = \\frac{jβ_oP_0}{P_0kh+β_1jP_0}+\\frac{M_0^sh}{P_0kh+β_1jP_0}$$\n",
    "\n",
    "$$Y^e = \\frac{P_0(jβ_o)}{P_0(kh+β_1j)}+\\frac{M_0^sh}{P_0(kh+β_1j)}$$\n",
    "\n",
    "Para que la ecuación sea útil en nuestro modelo, la acomodamos:\n",
    "\n",
    "$$Y^e = \\frac{jβ_o}{kh+jB_1}+(\\frac{h}{kh+jβ_1})\\frac{M_0^s}{P_0}$$"
   ]
  },
  {
   "cell_type": "markdown",
   "id": "cbc5b5ed",
   "metadata": {},
   "source": [
    "##### Derivación de la ecuación de interés $r^e$\n",
    "Como ya se tiene Y^e, entonces reemplazamos en la ecuación de r:\n",
    "$$ r = \\frac{B_0}{h} - \\frac{B_1}{h}Y$$\n",
    "\n",
    "$$ r^e = \\frac{B_0}{h} - \\frac{B_1}{h}Y^e$$\n",
    "\n",
    "$$ r^e = \\frac{B_0}{h} - \\frac{B_1}{h} [\\frac{jB_0}{kh+jB_1}+(\\frac{h}{kh+jB_1})\\frac{M_0^s}{P_0}]$$\n",
    "\n",
    "$$ r^e = \\frac{B_0}{h} - \\frac{jB_0B_1}{h(kh+jB_1)} + \\frac{B_1}{h}(\\frac{h}{kh+jB_1})\\frac{M_0^s}{P_0}$$\n",
    "\n",
    "$$ r^e = \\frac{B_0P_0(kh+jB_1)-jB_0B_1P_0+hB_1M_0^s}{hP_o(kh+jB_1)}$$\n",
    "\n",
    "$$ r^e = \\frac{khB_0P_0+jB_0B_1P_0-jB_0B_1P_0+hB_1M_0^s}{hP_0(kh+jB_1)}$$\n",
    "\n",
    "$$ r^e = \\frac{khB_0P_0+hB_1M_0^s}{hP_0(kh+jB_1)}$$\n",
    "\n",
    "$$ r^e = \\frac{khB_0P_0}{hP_0(kh+jB_1)}+\\frac{hB_1M_0^s}{hP_0(kh+jB_1)}$$\n",
    "\n",
    "Para que la ecuación sea útil en nuestro modelo, la acodamos:\n",
    "\n",
    "$$r^e = \\frac{kB_0}{kh + jB_1} - (\\frac{B_1}{kh + jB_1})\\frac{M^s_0}{P_0}$$"
   ]
  },
  {
   "cell_type": "markdown",
   "id": "a3b4f865",
   "metadata": {},
   "source": [
    "Grafique el equilibrio simultáneo en los mercados de bienes y de dinero."
   ]
  },
  {
   "cell_type": "code",
   "execution_count": 5,
   "id": "89a36dbd",
   "metadata": {},
   "outputs": [],
   "source": [
    " # Curva IS\n",
    "\n",
    "# Parámetros\n",
    "\n",
    "Y_size = 100 \n",
    "\n",
    "Co = 35\n",
    "Io = 40\n",
    "Go = 50\n",
    "Xo = 2\n",
    "h = 0.8\n",
    "b = 0.4\n",
    "m = 0.5\n",
    "t = 0.8\n",
    "\n",
    "Y = np.arange(Y_size)\n",
    "\n",
    "\n",
    "# Ecuación \n",
    "def r_IS(b, m, t, Co, Io, Go, Xo, h, Y):\n",
    "    r_IS = (Co + Io + Go + Xo)/h - ( ( 1-(b-m)*(1-t) ) / h)*Y  \n",
    "    return r_IS\n",
    "\n",
    "r_is = r_IS(b, m, t, Co, Io, Go, Xo, h, Y)\n",
    "\n",
    "\n",
    "#--------------------------------------------------\n",
    "    # Curva LM \n",
    "\n",
    "# Parámetros\n",
    "\n",
    "Y_size = 100\n",
    "\n",
    "k = 2\n",
    "j = 1                \n",
    "Ms = 200             \n",
    "P  = 20               \n",
    "\n",
    "Y = np.arange(Y_size)\n",
    "\n",
    "# Ecuación\n",
    "\n",
    "def r_LM(k, j, Ms, P, Y):\n",
    "    r_LM = - (1/j)*(Ms/P) + (k/j)*Y\n",
    "    return r_LM\n",
    "\n",
    "r_lm = r_LM( k, j, Ms, P, Y)"
   ]
  },
  {
   "cell_type": "code",
   "execution_count": 6,
   "id": "6bc6b929",
   "metadata": {},
   "outputs": [
    {
     "data": {
      "image/png": "[encoded data removed]",
      "text/plain": [
       "<Figure size 720x576 with 1 Axes>"
      ]
     },
     "metadata": {},
     "output_type": "display_data"
    }
   ],
   "source": [
    "# Gráfico del modelo IS-LM\n",
    "\n",
    "# Dimensiones del gráfico\n",
    "y_max = np.max(r_lm)\n",
    "fig, ax = plt.subplots(figsize=(10, 8))\n",
    "\n",
    "# Curvas a graficar\n",
    "# Curva IS\n",
    "ax.plot(Y, r_is, label = \"IS\", color = \"#A1C298\") #IS\n",
    "# Curva LM\n",
    "ax.plot(Y, r_lm, label=\"LM\", color = \"#FA7070\")  #LM\n",
    "\n",
    "# Eliminar las cantidades de los ejes\n",
    "ax.yaxis.set_major_locator(plt.NullLocator())   \n",
    "ax.xaxis.set_major_locator(plt.NullLocator())\n",
    "\n",
    "# Texto y figuras agregadas\n",
    "# Graficar la linea horizontal - r\n",
    "plt.axvline(x=51.5,  ymin= 0, ymax= 0.52, linestyle = \":\", color = \"#FFAE6D\")\n",
    "# Grafica la linea vertical - Y\n",
    "plt.axhline(y=93, xmin= 0, xmax= 0.52, linestyle = \":\", color = \"#FFAE6D\")\n",
    "\n",
    "# Plotear los textos \n",
    "plt.text(49,100, '$E_0$', fontsize = 14, color = '#E3C770')\n",
    "plt.text(0,100, '$r_0$', fontsize = 12, color = '#E3C770')\n",
    "plt.text(53,-10, '$Y_0$', fontsize = 12, color = '#E3C770')\n",
    "\n",
    "# Título, ejes y leyenda\n",
    "ax.set(title=\"Modelo IS-LM\", xlabel= r'Y', ylabel= r'r')\n",
    "ax.legend()\n",
    "\n",
    "plt.show()"
   ]
  },
  {
   "cell_type": "markdown",
   "id": "e6517aee",
   "metadata": {},
   "source": [
    "#### Estatica comparativa"
   ]
  },
  {
   "cell_type": "markdown",
   "id": "cb8efe36",
   "metadata": {},
   "source": [
    "Analice los efectos sobre las variables endógenas Y, r de una disminución del gasto fiscal. $∆Go<0$ . El análisis debe ser intuitivo, matemático y gráfico."
   ]
  },
  {
   "cell_type": "markdown",
   "id": "d7ed38cb",
   "metadata": {},
   "source": [
    "##### Intuitivamente: \n",
    "Mercado de Bienes : \n",
    "$$G_o↓ → DA↓ → DA < Y → Y↓$$\n",
    "\n",
    "Mercado de dinero\n",
    "$$Y↓ → M_d↓ → M_d < M_s → r↓$$"
   ]
  },
  {
   "cell_type": "markdown",
   "id": "068cf19b",
   "metadata": {},
   "source": [
    "##### Análisis matemático: "
   ]
  },
  {
   "cell_type": "code",
   "execution_count": 14,
   "id": "f52780cc",
   "metadata": {},
   "outputs": [],
   "source": [
    "# Se nombra a las variables como símbolos\n",
    "Co, Io, Go, Xo, h, r, b, m, t, beta_0, beta_1  = symbols('Co Io Go Xo h r b m t beta_0, beta_1')\n",
    "\n",
    "# Se nombra a las variables como símbolos\n",
    "k, j, Ms, P, Y = symbols('k j Ms P Y')\n",
    "\n",
    "# Se especifica qué son Beta_0 y beta_1\n",
    "beta_0 = (Co + Io + Go + Xo)\n",
    "beta_1 = ( 1-(b-m)*(1-t) )\n",
    "\n",
    "# Se pone a las ecuaciones del producto de equilibrio y la tasa de interes de equilibrio en el modelo IS-LM\n",
    "Y_eq = (k*beta_0)/(k*h + j*beta_1) - ( beta_1 / (k*h + j*beta_1) )*(Ms/P)\n",
    "r_eq = (j*beta_0)/(k*h + j*beta_1) + ( h / (k*h + j*beta_1) )*(Ms/P)"
   ]
  },
  {
   "cell_type": "code",
   "execution_count": 15,
   "id": "49f5788c",
   "metadata": {},
   "outputs": [
    {
     "name": "stdout",
     "output_type": "stream",
     "text": [
      "El Diferencial del Producto con respecto al diferencial del gasto autonomo =  k/(h*k + j*(-(1 - t)*(b - m) + 1))\n"
     ]
    }
   ],
   "source": [
    "df_Y_eq_Go = diff(Y_eq, Go)\n",
    "print(\"El Diferencial del Producto con respecto al diferencial del gasto autonomo = \", df_Y_eq_Go)"
   ]
  },
  {
   "cell_type": "code",
   "execution_count": 16,
   "id": "60d7b23b",
   "metadata": {},
   "outputs": [
    {
     "name": "stdout",
     "output_type": "stream",
     "text": [
      "El Diferencial de la tasa de interes con respecto al diferencial del gasto autonomo =  j/(h*k + j*(-(1 - t)*(b - m) + 1))\n"
     ]
    }
   ],
   "source": [
    "df_r_eq_Go = diff(r_eq, Go)\n",
    "print(\"El Diferencial de la tasa de interes con respecto al diferencial del gasto autonomo = \", df_r_eq_Go)"
   ]
  },
  {
   "cell_type": "markdown",
   "id": "937b3ade",
   "metadata": {},
   "source": [
    "##### Graficando:"
   ]
  },
  {
   "cell_type": "code",
   "execution_count": 10,
   "id": "52adef15",
   "metadata": {},
   "outputs": [],
   "source": [
    "#1--------------------------------------------------\n",
    "    # Curva IS ORIGINAL\n",
    "\n",
    "# Parámetros\n",
    "\n",
    "Y_size = 100 \n",
    "\n",
    "Co = 35\n",
    "Io = 40\n",
    "Go = 60\n",
    "Xo = 2\n",
    "h = 0.8\n",
    "b = 0.4\n",
    "m = 0.5\n",
    "t = 0.8\n",
    "\n",
    "Y = np.arange(Y_size)\n",
    "\n",
    "\n",
    "# Ecuación \n",
    "def r_IS(b, m, t, Co, Io, Go, Xo, h, Y):\n",
    "    r_IS = (Co + Io + Go + Xo - Y * (1-(b-m)*(1-t)))/h\n",
    "    return r_IS\n",
    "\n",
    "r = r_IS(b, m, t, Co, Io, Go, Xo, h, Y)\n",
    "\n",
    "\n",
    "#2--------------------------------------------------\n",
    "    # Curva LM ORIGINAL\n",
    "\n",
    "# Parámetros\n",
    "\n",
    "Y_size = 100\n",
    "\n",
    "k = 2\n",
    "j = 1                \n",
    "Ms = 200             \n",
    "P  = 20               \n",
    "\n",
    "Y = np.arange(Y_size)\n",
    "\n",
    "# Ecuación\n",
    "\n",
    "def i_LM( k, j, Ms, P, Y):\n",
    "    i_LM = (-Ms/P)/j + k/j*Y\n",
    "    return i_LM\n",
    "\n",
    "i = i_LM( k, j, Ms, P, Y)"
   ]
  },
  {
   "cell_type": "code",
   "execution_count": 11,
   "id": "caf1d3af",
   "metadata": {},
   "outputs": [],
   "source": [
    " # NUEVA curva IS: reducción Gasto de Gobierno (Go)\n",
    "    \n",
    "# Definir SOLO el parámetro cambiado\n",
    "Go = 20\n",
    "\n",
    "# Generar la ecuación con el nuevo parámetro\n",
    "def r_IS(b, m, t, Co, Io, Go, Xo, h, Y):\n",
    "    r_IS = (Co + Io + Go + Xo - Y * (1-(b-m)*(1-t)))/h\n",
    "    return r_IS\n",
    "\n",
    "r_G = r_IS(b, m, t, Co, Io, Go, Xo, h, Y)"
   ]
  },
  {
   "cell_type": "code",
   "execution_count": 12,
   "id": "023d64dd",
   "metadata": {},
   "outputs": [
    {
     "data": {
      "image/png": "[encoded data removed]",
      "text/plain": [
       "<Figure size 720x576 with 1 Axes>"
      ]
     },
     "metadata": {
      "needs_background": "light"
     },
     "output_type": "display_data"
    }
   ],
   "source": [
    "# Gráfico\n",
    "\n",
    "# Dimensiones del gráfico\n",
    "y_max = np.max(i)\n",
    "fig, ax = plt.subplots(figsize=(10, 8))\n",
    "\n",
    "# Curvas a graficar\n",
    "ax.plot(Y, r, label = \"IS_(G_0)\", color = \"#9C2C77\") #IS_orginal\n",
    "ax.plot(Y, r_G, label = \"IS_(G_1)\", color = \"#9C2C77\", linestyle = 'dashed') #IS_modificada\n",
    "\n",
    "ax.plot(Y, i, label=\"LM\", color = \"#CD104D\")  #LM_original\n",
    "\n",
    "# Texto y figuras agregadas\n",
    "plt.axvline(x=40,  ymin= 0, ymax= 0.42, linestyle = \":\", color = \"grey\")\n",
    "plt.axhline(y=70, xmin= 0, xmax= 0.40, linestyle = \":\", color = \"grey\")\n",
    "\n",
    "plt.axvline(x=55.5,  ymin= 0, ymax= 0.55, linestyle = \":\", color = \"grey\")\n",
    "plt.axhline(y=100, xmin= 0, xmax= 0.55, linestyle = \":\", color = \"grey\")\n",
    "\n",
    "plt.text(60,100, '$IS G_O$', fontsize = 14, color = 'black')\n",
    "plt.text(45,70, '$IS G_1$', fontsize = 14, color = 'black')\n",
    "\n",
    "plt.text(-1,102, '$r_0$', fontsize = 12, color = '#FD841F')\n",
    "plt.text(-1,72, '$r_1$', fontsize = 12, color = '#FD841F')\n",
    "plt.text(55.5,-5, '$Y_0$', fontsize = 12, color = '#FD841F')\n",
    "#plt.text(50,52, '$E_1$', fontsize = 14, color = '#3D59AB')\n",
    "plt.text(40,-5, '$Y_1$', fontsize = 12, color = '#FD841F')\n",
    "\n",
    "plt.text(65, 60, '↙', fontsize=25, color='#FD841F')\n",
    "\n",
    "# Título, ejes y leyenda\n",
    "ax.set(title=\"Politica Fiscal Contractiva\", xlabel= r'Y', ylabel= r'r')\n",
    "ax.legend()\n",
    "\n",
    "plt.show()"
   ]
  },
  {
   "cell_type": "markdown",
   "id": "d6b30e29",
   "metadata": {},
   "source": [
    "Analice los efectos sobre las variables endógenas Y, r de una disminución de la masa monetaria.$∆M^s<0$ . El análisis debe ser intuitivo, matemático y gráfico."
   ]
  },
  {
   "cell_type": "markdown",
   "id": "0ad54fff",
   "metadata": {},
   "source": [
    "**Intuitivamente**\n",
    "- Mercado de dinero\n",
    "$$ Ms↓ → M^o↓ → M^o < M^d → r↑ $$\n",
    "\n",
    "- Mercado de Bienes\n",
    "$$ r↑ → I↓ → DA<Y → Y↓ $$ "
   ]
  },
  {
   "cell_type": "markdown",
   "id": "dfc28994",
   "metadata": {},
   "source": [
    "**Matematicamente**"
   ]
  },
  {
   "cell_type": "code",
   "execution_count": 4,
   "id": "3c2ae0c1",
   "metadata": {},
   "outputs": [],
   "source": [
    "# nombrar variables como símbolos\n",
    "Co, Io, Go, Xo, h, r, b, m, t, beta_0, beta_1  = symbols('Co Io Go Xo h r b m t beta_0, beta_1')\n",
    "\n",
    "# nombrar variables como símbolos\n",
    "k, j, Ms, P, Y = symbols('k j Ms P Y')\n",
    "\n",
    "# Beta_0 y beta_1\n",
    "beta_0 = (Co + Io + Go + Xo)\n",
    "beta_1 = ( 1-(b-m)*(1-t) )\n",
    "\n",
    "# Producto de equilibrio y la tasa de interes de equilibrio en el modelo IS-LM\n",
    "Y_eq = (k*beta_0)/(k*h + j*beta_1) - ( beta_1 / (k*h + j*beta_1) )*(Ms/P)\n",
    "r_eq = (j*beta_0)/(k*h + j*beta_1) + ( h / (k*h + j*beta_1) )*(Ms/P)"
   ]
  },
  {
   "cell_type": "code",
   "execution_count": 5,
   "id": "b402f700",
   "metadata": {},
   "outputs": [
    {
     "name": "stdout",
     "output_type": "stream",
     "text": [
      "El Diferencial de la tasa de interes con respecto al diferencial de la masa monetaria =  h/(P*(h*k + j*(-(1 - t)*(b - m) + 1)))\n"
     ]
    }
   ],
   "source": [
    "df_r_eq_Ms = diff(r_eq, Ms)\n",
    "print(\"El Diferencial de la tasa de interes con respecto al diferencial de la masa monetaria = \", df_r_eq_Ms) "
   ]
  },
  {
   "cell_type": "code",
   "execution_count": 6,
   "id": "4599c615",
   "metadata": {},
   "outputs": [
    {
     "name": "stdout",
     "output_type": "stream",
     "text": [
      "El Diferencial del producto con respecto al diferencial de la masa monetaria =  -(-(1 - t)*(b - m) + 1)/(P*(h*k + j*(-(1 - t)*(b - m) + 1)))\n"
     ]
    }
   ],
   "source": [
    "df_Y_eq_Ms = diff(Y_eq, Ms)\n",
    "print(\"El Diferencial del producto con respecto al diferencial de la masa monetaria = \", df_Y_eq_Ms)  "
   ]
  },
  {
   "cell_type": "markdown",
   "id": "d81a2618",
   "metadata": {},
   "source": [
    "El diferencial del Gasto autónomo (ΔG_o) afecta tanto a la Curva IS como a la curva LM y es una política fiscal contractiva.\n",
    "\n",
    "El diferencial del Gasto autónomo (ΔG_o) afecta tanto a la Curva IS como a la curva LM y es una política fiscal contractiva. En este sentido, lo que muestran las ecuaciones es que $Y_e$ y r son negativas por lo que la curva IS se desplazará a la izquierda."
   ]
  },
  {
   "cell_type": "markdown",
   "id": "cb9e0044",
   "metadata": {},
   "source": [
    "**graficando**"
   ]
  },
  {
   "cell_type": "code",
   "execution_count": 7,
   "id": "283aa082",
   "metadata": {},
   "outputs": [],
   "source": [
    "# Curva IS ORIGINAL\n",
    "\n",
    "# Parámetros\n",
    "\n",
    "Y_size = 100 \n",
    "\n",
    "Co = 35\n",
    "Io = 40\n",
    "Go = 50\n",
    "Xo = 2\n",
    "h = 0.8\n",
    "b = 0.4\n",
    "m = 0.5\n",
    "t = 0.8\n",
    "\n",
    "Y = np.arange(Y_size)\n",
    "\n",
    "\n",
    "# Ecuación \n",
    "def r_IS(b, m, t, Co, Io, Go, Xo, h, Y):\n",
    "    r_IS = (Co + Io + Go + Xo - Y * (1-(b-m)*(1-t)))/h\n",
    "    return r_IS\n",
    "\n",
    "r = r_IS(b, m, t, Co, Io, Go, Xo, h, Y)\n",
    "\n",
    "\n",
    "#2--------------------------------------------------\n",
    "    # Curva LM ORIGINAL\n",
    "\n",
    "# Parámetros\n",
    "\n",
    "Y_size = 100\n",
    "\n",
    "k = 2\n",
    "j = 1                \n",
    "Ms = 500             \n",
    "P  = 20               \n",
    "\n",
    "Y = np.arange(Y_size)\n",
    "\n",
    "# Ecuación\n",
    "\n",
    "def i_LM( k, j, Ms, P, Y):\n",
    "    i_LM = (-Ms/P)/j + k/j*Y\n",
    "    return i_LM\n",
    "\n",
    "i = i_LM( k, j, Ms, P, Y)"
   ]
  },
  {
   "cell_type": "code",
   "execution_count": 8,
   "id": "b47edada",
   "metadata": {},
   "outputs": [],
   "source": [
    "# Definir SOLO el parámetro cambiado\n",
    "Ms = 200\n",
    "\n",
    "# Generar nueva curva LM con la variacion del Ms\n",
    "def i_LM_Ms( k, j, Ms, P, Y):\n",
    "    i_LM = (-Ms/P)/j + k/j*Y\n",
    "    return i_LM\n",
    "\n",
    "i_Ms = i_LM_Ms( k, j, Ms, P, Y)"
   ]
  },
  {
   "cell_type": "code",
   "execution_count": 9,
   "id": "8c8adf4f",
   "metadata": {},
   "outputs": [
    {
     "data": {
      "image/png": "[encoded data removed]",
      "text/plain": [
       "<Figure size 720x576 with 1 Axes>"
      ]
     },
     "metadata": {
      "needs_background": "light"
     },
     "output_type": "display_data"
    }
   ],
   "source": [
    "# Gráfico\n",
    "\n",
    "# Dimensiones del gráfico\n",
    "y_max = np.max(i)\n",
    "fig, ax = plt.subplots(figsize=(10, 8))\n",
    "\n",
    "# Curvas a graficar\n",
    "ax.plot(Y, r, label = \"IS\", color = \"C1\") #IS_orginal\n",
    "ax.plot(Y, i, label=\"LM_(MS_0)\", color = \"C0\")  #LM_original\n",
    "\n",
    "ax.plot(Y, i_Ms, label=\"LM_(MS_1)\", color = \"C0\", linestyle = 'dashed')  #LM_modificada\n",
    "\n",
    "# Lineas de equilibrio_0 \n",
    "plt.axvline(x=51.5,  ymin= 0, ymax= 0.57, linestyle = \":\", color = \"grey\")\n",
    "plt.axhline(y=93, xmin= 0, xmax= 0.52, linestyle = \":\", color = \"grey\")\n",
    "\n",
    "# Lineas de equilibrio_1 \n",
    "plt.axvline(x=56,  ymin= 0, ymax= 0.55, linestyle = \":\", color = \"grey\")\n",
    "plt.axhline(y=85, xmin= 0, xmax= 0.6, linestyle = \":\", color = \"grey\")\n",
    "plt.text(58,87, '$E_0$', fontsize = 14, color = 'black')\n",
    "\n",
    "#plt.axhline(y=68, xmin= 0, xmax= 0.52, linestyle = \":\", color = \"grey\")\n",
    "\n",
    "# Textos ploteados\n",
    "plt.text(49,100, '$E_1$', fontsize = 14, color = 'black')\n",
    "plt.text(-1,80, '$r_0$', fontsize = 12, color = 'black')\n",
    "plt.text(53,-40, '$Y_0$', fontsize = 12, color = 'black')\n",
    "#plt.text(50,52, '$E_1$', fontsize = 14, color = '#3D59AB')\n",
    "#plt.text(-1,72, '$r_1$', fontsize = 12, color = '#3D59AB')\n",
    "#plt.text(47,-40, '$Y_1$', fontsize = 12, color = '#3D59AB')\n",
    "\n",
    "#plt.text(69, 115, '→', fontsize=15, color='grey')\n",
    "#plt.text(69, 52, '←', fontsize=15, color='grey')\n",
    "\n",
    "# Título, ejes y leyenda\n",
    "ax.set(title=\"Efecto de una disminucion de la masa monetaria\", xlabel= r'Y', ylabel= r'r')\n",
    "ax.legend()\n",
    "\n",
    "plt.show()"
   ]
  },
  {
   "cell_type": "markdown",
   "id": "2b5bdc9c",
   "metadata": {},
   "source": [
    "Analice los efectos sobre las variables endógenas Y, r de un incremento de la tasa de impuestos. $∆t>0$ . El análisis debe ser intuitivo, matemático y gráfico."
   ]
  },
  {
   "cell_type": "markdown",
   "id": "0dea8119",
   "metadata": {},
   "source": [
    "**Intuitivamente**\n",
    "\n",
    "- Mercado de Bienes\n",
    "$$ t↑ → Co↓ → DA↑ → DA<Y → Y↓ $$ \n",
    "\n",
    "- Mercado de dinero\n",
    "$$ Y↓ → M_d↓ → M_d < M_s → r↓  $$ \n"
   ]
  },
  {
   "cell_type": "markdown",
   "id": "ef9e4fd8",
   "metadata": {},
   "source": [
    "**MATEMATICAMENTE**"
   ]
  },
  {
   "cell_type": "code",
   "execution_count": 17,
   "id": "efee7f7d",
   "metadata": {},
   "outputs": [],
   "source": [
    "# nombrar variables como símbolos\n",
    "Co, Io, Go, Xo, h, r, b, m, t, beta_0, beta_1  = symbols('Co Io Go Xo h r b m t beta_0, beta_1')\n",
    "\n",
    "# nombrar variables como símbolos\n",
    "k, j, Ms, P, Y = symbols('k j Ms P Y')\n",
    "\n",
    "# Beta_0 y beta_1\n",
    "beta_0 = (Co + Io + Go + Xo)\n",
    "beta_1 = ( 1-(b-m)*(1-t) )\n",
    "\n",
    "# Producto de equilibrio y la tasa de interes de equilibrio en el modelo IS-LM\n",
    "Y_eq = (k*beta_0)/(k*h + j*beta_1) - ( beta_1 / (k*h + j*beta_1) )*(Ms/P)\n",
    "r_eq = (j*beta_0)/(k*h + j*beta_1) + ( h / (k*h + j*beta_1) )*(Ms/P)"
   ]
  },
  {
   "cell_type": "code",
   "execution_count": 18,
   "id": "d8d339c8",
   "metadata": {},
   "outputs": [
    {
     "name": "stdout",
     "output_type": "stream",
     "text": [
      "El Diferencial de la tasa de interés con respecto al diferencial de la tasa impositiva =  -Ms*h*j*(b - m)/(P*(h*k + j*(-(1 - t)*(b - m) + 1))**2) - j**2*(b - m)*(Co + Go + Io + Xo)/(h*k + j*(-(1 - t)*(b - m) + 1))**2\n"
     ]
    }
   ],
   "source": [
    "df_r_eq_t = diff(r_eq, t)\n",
    "print(\"El Diferencial de la tasa de interés con respecto al diferencial de la tasa impositiva = \", df_r_eq_t)"
   ]
  },
  {
   "cell_type": "code",
   "execution_count": 19,
   "id": "b98def25",
   "metadata": {},
   "outputs": [
    {
     "name": "stdout",
     "output_type": "stream",
     "text": [
      "El Diferencial del producto con respecto al diferencial de la tasa impositiva =  Ms*j*(b - m)*(-(1 - t)*(b - m) + 1)/(P*(h*k + j*(-(1 - t)*(b - m) + 1))**2) - Ms*(b - m)/(P*(h*k + j*(-(1 - t)*(b - m) + 1))) - j*k*(b - m)*(Co + Go + Io + Xo)/(h*k + j*(-(1 - t)*(b - m) + 1))**2\n"
     ]
    }
   ],
   "source": [
    "df_Y_eq_t = diff(Y_eq, t)\n",
    "print(\"El Diferencial del producto con respecto al diferencial de la tasa impositiva = \", df_Y_eq_t)"
   ]
  },
  {
   "cell_type": "markdown",
   "id": "0138b11d",
   "metadata": {},
   "source": [
    "**GRAFICO**"
   ]
  },
  {
   "cell_type": "code",
   "execution_count": 13,
   "id": "9cc2c942",
   "metadata": {},
   "outputs": [],
   "source": [
    "# Curva IS ORIGINAL\n",
    "\n",
    "# Parámetros\n",
    "\n",
    "Y_size = 100 \n",
    "\n",
    "Co = 35\n",
    "Io = 40\n",
    "Go = 50\n",
    "Xo = 2\n",
    "h = 0.8\n",
    "b = 0.5\n",
    "m = 0.4\n",
    "t = 0.8\n",
    "\n",
    "Y = np.arange(Y_size)\n",
    "\n",
    "\n",
    "# Ecuación \n",
    "def r_IS(b, m, t, Co, Io, Go, Xo, h, Y):\n",
    "    r_IS = (Co + Io + Go + Xo - Y * (1-(b-m)*(1-t)))/h\n",
    "    return r_IS\n",
    "\n",
    "r = r_IS(b, m, t, Co, Io, Go, Xo, h, Y)\n",
    "\n",
    "\n",
    "#2--------------------------------------------------\n",
    "    # Curva LM ORIGINAL\n",
    "\n",
    "# Parámetros\n",
    "\n",
    "Y_size = 100\n",
    "\n",
    "k = 2\n",
    "j = 1                \n",
    "Ms = 500             \n",
    "P  = 20               \n",
    "\n",
    "Y = np.arange(Y_size)\n",
    "\n",
    "# Ecuación\n",
    "\n",
    "def i_LM( k, j, Ms, P, Y):\n",
    "    i_LM = (-Ms/P)/j + k/j*Y\n",
    "    return i_LM\n",
    "\n",
    "i = i_LM( k, j, Ms, P, Y)"
   ]
  },
  {
   "cell_type": "code",
   "execution_count": 14,
   "id": "ae7e9d93",
   "metadata": {},
   "outputs": [],
   "source": [
    "# Definir SOLO el parámetro cambiado\n",
    "t = 3\n",
    "\n",
    "# Generar nueva curva IS con la variacion del t\n",
    "def r_IS_t(b, m, t, Co, Io, Go, Xo, h, Y):\n",
    "    r_IS = (Co + Io + Go + Xo - Y * (1-(b-m)*(1-t)))/h\n",
    "    return r_IS\n",
    "\n",
    "r_t = r_IS_t (b, m, t, Co, Io, Go, Xo, h, Y)"
   ]
  },
  {
   "cell_type": "code",
   "execution_count": 25,
   "id": "253f2ab4",
   "metadata": {},
   "outputs": [
    {
     "data": {
      "image/png": "[encoded data removed]",
      "text/plain": [
       "<Figure size 720x576 with 1 Axes>"
      ]
     },
     "metadata": {
      "needs_background": "light"
     },
     "output_type": "display_data"
    }
   ],
   "source": [
    "# Gráfico\n",
    "\n",
    "# Dimensiones del gráfico\n",
    "y_max = np.max(i)\n",
    "fig, ax = plt.subplots(figsize=(10, 8))\n",
    "\n",
    "# Curvas a graficar\n",
    "ax.plot(Y, r, label = \"IS\", color = \"C1\") #IS_orginal\n",
    "ax.plot(Y, i, label=\"LM_(MS_0)\", color = \"C0\")  #LM_original\n",
    "\n",
    "ax.plot(Y, r_t, label=\"IS_(t_1)\", color = \"C1\", linestyle = 'dashed')  #LM_modificada\n",
    "\n",
    "# Lineas de equilibrio_0 \n",
    "plt.axvline(x=53,  ymin= 0, ymax= 0.55, linestyle = \":\", color = \"grey\")\n",
    "plt.axhline(y=80, xmin= 0, xmax= 0.55, linestyle = \":\", color = \"grey\")\n",
    "\n",
    "# Lineas de equilibrio_1 \n",
    "plt.axvline(x=57,  ymin= 0, ymax= 0.57, linestyle = \":\", color = \"grey\")\n",
    "plt.axhline(y=90, xmin= 0, xmax= 0.55, linestyle = \":\", color = \"grey\")\n",
    "plt.text(54,87, '$E_0$', fontsize = 14, color = 'black')\n",
    "\n",
    "#plt.axhline(y=68, xmin= 0, xmax= 0.52, linestyle = \":\", color = \"grey\")\n",
    "\n",
    "# Textos ploteados\n",
    "plt.text(48,75, '$E_1$', fontsize = 14, color = 'black')\n",
    "plt.text(-1,92, '$r_0$', fontsize = 12, color = 'black')\n",
    "plt.text(55,-40, '$Y_0$', fontsize = 12, color = 'black')\n",
    "#plt.text(50,52, '$E_1$', fontsize = 14, color = '#3D59AB')\n",
    "#plt.text(-1,72, '$r_1$', fontsize = 12, color = '#3D59AB')\n",
    "#plt.text(47,-40, '$Y_1$', fontsize = 12, color = '#3D59AB')\n",
    "\n",
    "#plt.text(69, 115, '→', fontsize=15, color='grey')\n",
    "#plt.text(69, 52, '←', fontsize=15, color='grey')\n",
    "\n",
    "# Título, ejes y leyenda\n",
    "ax.set(title=\"Efecto de un incremento de la tasa de impuestos\", xlabel= r'Y', ylabel= r'r')\n",
    "ax.legend()\n",
    "\n",
    "plt.show()"
   ]
  },
  {
   "cell_type": "code",
   "execution_count": null,
   "id": "7816dfae",
   "metadata": {},
   "outputs": [],
   "source": []
  }
 ],
 "metadata": {
  "kernelspec": {
   "display_name": "Python 3 (ipykernel)",
   "language": "python",
   "name": "python3"
  },
  "language_info": {
   "codemirror_mode": {
    "name": "ipython",
    "version": 3
   },
   "file_extension": ".py",
   "mimetype": "text/x-python",
   "name": "python",
   "nbconvert_exporter": "python",
   "pygments_lexer": "ipython3",
   "version": "3.9.12"
  }
 },
 "nbformat": 4,
 "nbformat_minor": 5
}
