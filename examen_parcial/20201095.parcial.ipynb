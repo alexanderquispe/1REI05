{
 "cells": [
  {
   "cell_type": "code",
   "execution_count": 14,
   "id": "c0118509",
   "metadata": {},
   "outputs": [],
   "source": [
    "import ipywidgets as widgets\n",
    "import matplotlib.pyplot as plt\n",
    "import numpy as np\n",
    "import sympy as sy\n",
    "from sympy import *\n",
    "import pandas as pd\n",
    "from causalgraphicalmodels import CausalGraphicalModel"
   ]
  },
  {
   "cell_type": "markdown",
   "id": "b93982b6",
   "metadata": {},
   "source": [
    "## EXAMEN PARCIAL\n",
    "### Sofia Dager Tamayo\n",
    "### 20201095\n"
   ]
  },
  {
   "cell_type": "markdown",
   "id": "b4515381",
   "metadata": {},
   "source": [
    "### PARTE 1: TEORÍA\n"
   ]
  },
  {
   "cell_type": "markdown",
   "id": "f879f69b",
   "metadata": {},
   "source": [
    "#### Pregunta 1\n",
    "El multiplicador keynesiano es el resultado de una ecuacición en la cual alguno de las variables que tienen que el producto y la DA se han visto alterados. Por eso, se le utiliza para regresar al equilibrio. Influye en la curva IS, ya que es lo que se utiliza para regresar al equilibrio entre la demanda agregada y el producto. \n",
    "\n",
    "#### Pregunta 2\n",
    "Un exceso de demanda puede darse en una política fiscal expansiva en la disminución de la tasa impositiva. En este caso la demanda aumenta porque, al bajar los intereses, las familias tienen más dinero para consumir. A más dinero para cosumir, hay más demanda para los productos. Esto causa un desequilibrio porque lo más probable es que la oferta no sea capaz de cubrir todas las necesidades de los demandantes. En este caso, los productores y vendedores tendrán que aumentar la cantidad de productos para equilibrar la demanda, además es probable que suban los precios. Un caso en el que la demanda cae en déficit puede ser el caso contrario. Si la tasa de impuestos aumenta, habrá menos dinero y si esto sucede, la demanda también disminuye. Los ofertantes probablemente tendrán que bajar el precio para poder seguir vendiendo sus productos. \n",
    "\n",
    "#### Pregunta 3\n",
    "Las herramientas de política fiscal son el aumento en el gasto de gobierno o disminución de la tasa de impuestos. La primera, sirve para equilibrar, ya que, al aumentar el gasto de gobierno, también aumenta la demanda agregada. En la segunda, aumenta el producto porque al haber más dinero la gente tiene más oportunidad de compra. Un ejemplo sería la disminución de impuestos al final del año 2022. Si esto sucediera, entonces las familias tendrán más dinero para comprar. Al ser cerca de navidad, más personas comprarán más y los ofertantes aprovecharán en aumentar los precios. \n",
    "\n",
    "Mientras que las de política monetaria la política expansiva es el efecto de un aumento en la cantidad de dinero. Esto genera una exceso de oferta y por lo tanto, la curva LM debe desplazarse hacia la derecha donde hay exceso de oferta. Un ejemplo de exceso de oferta puede ser que en navidad del 2022 hayan demasiados árboles a la venta. Al esto ocurrir, los vendedores y productores tendrán mucho producto y poca demanda hacia este. Una solución podría ser la baja de precios y así se atraerá a más consumidores. \n",
    "\n",
    "#### Pregunta 4\n",
    "Las billeteras digitales cumplen 2 de los motivos planteados por la demanda de dinero. Primero, aplicativos como Yape y Plin permiten la transacción de dinero lo cual genera demanda. Luego, se demanda dinero debido al segundo motivo que corresponde al pago de deudas, la precaución. Estas dos variables son proporcionales entre sí.\n",
    "\n",
    "#### Pregunta 5\n",
    "Lo que hace Dancourt en su texto es tratar de explicar la importancia y además decisiones del BCRP. Trata explicar las acciones del mismo durante épocas de reseción y de incertidumbre económica para el país. Para esto utiliza gráficos, diferentes modelos económicos y explica las fórmulas presentadas en el texto. Del texto se puede concluir que el BCRP ha ayudado mucho al país con sus decisiones épocas de recesión y que ha implementado las medidas necesarias para ayudar al Perú en épocas de crisis. Pues la inflación se ha controlado y no ha crecido de manera exponencial, así mismo, el crecimiento por año del Perú está mejorando cada vez más (podemos excluir pandemia)"
   ]
  },
  {
   "cell_type": "markdown",
   "id": "501f4550",
   "metadata": {},
   "source": [
    "### PARTE 1: PRÁCTICA"
   ]
  },
  {
   "cell_type": "markdown",
   "id": "3e47a3cb",
   "metadata": {},
   "source": [
    "### EJERCICIO 1\n",
    "#### 1. Ingreso de Equilibrio\n",
    "Ecuación de la curva IS: \n",
    "\n",
    "\n",
    "$$ Y = C + I + G + X - M $$\n",
    "\n",
    "Cuando\n",
    "\n",
    "$$ C = C_0 + b(1-t)Y $$\n",
    "\n",
    "$$ I = I_0 - hr $$\n",
    "\n",
    "$$ G = G_0 $$\n",
    "\n",
    "$$ X = X_0 $$\n",
    "\n",
    "$$ M = mY $$\n",
    "\n",
    "Si se reemplaza entonces:\n",
    "\n",
    "$$ Y = C_0 + b(1-t)Y + I_0 - hr + G_0 + X_0 - mY $$\n",
    "\n",
    "La ecuación de la curva IS es en función de $Y$ es:\n",
    "\n",
    "$$ Y = \\frac{1}{1 - (b - m)(1 - t)} (C_o + I_o + G_o + X_o - hr) $$\n",
    "\n",
    "simplificando:\n",
    "\n",
    "$$ Y = \\frac{1}{B_1} (B_0) $$\n",
    "\n",
    "Donde $ B_0 = C_o + I_o + G_o + X_o - hr $ y $ B_1 = 1 - (b - m)(1 - t) $"
   ]
  },
  {
   "cell_type": "markdown",
   "id": "c03f35c6",
   "metadata": {},
   "source": [
    "Ecuación de la curva LM\n",
    "$$ \\frac{M_o^s}{P_0} = kY - jr $$\n",
    "\n",
    "Ahora $M^s$ se convierte en variable endogena, se escribe LM En función de $(M^s)$:\n",
    "\n",
    "$$ M^s = P_0(kY - jr) $$"
   ]
  },
  {
   "cell_type": "markdown",
   "id": "8d9ad64b",
   "metadata": {},
   "source": [
    "**Para hallar el equilibrio con r**\n",
    "\n",
    "Ingreso de equilibrio: igual a la ecuación de la IS\n",
    "\n",
    "$$ Y^e = \\frac{1}{1 - (b - m)(1 - t)} (C_o + I_o + G_o + X_o - hr) $$\n"
   ]
  },
  {
   "cell_type": "markdown",
   "id": "b8d343c5",
   "metadata": {},
   "source": [
    "$$ K = \\frac{1}{1 - (b - m)(1 - t)} $$\n",
    "\n",
    "Este es el mutiplicador Keynesiano\n",
    "         "
   ]
  },
  {
   "cell_type": "markdown",
   "id": "25b56656",
   "metadata": {},
   "source": [
    "#### 2. Disminución del Gasto Fiscal"
   ]
  },
  {
   "cell_type": "markdown",
   "id": "e8750e90",
   "metadata": {},
   "source": [
    "- **Intuición**\n",
    "$$ Y^e = \\frac{1}{1 - (b - m)(1 - t)} (C_o + I_o - G_o + X_o - hr) $$\n",
    "\n",
    "$$ Go↓ → DA↓ → DA<Y → Y↓ $$ \n",
    "\n",
    "Si el gasto fiscal disminuye, entonces se pierde el equilibrio. Al suceder esto la demanda agregada también baja y por lo tanto también lo hace el producto\n",
    "\n"
   ]
  },
  {
   "cell_type": "markdown",
   "id": "d400c882",
   "metadata": {},
   "source": [
    "- **Matemática**"
   ]
  },
  {
   "cell_type": "code",
   "execution_count": 39,
   "id": "16a0701e",
   "metadata": {},
   "outputs": [],
   "source": [
    "# Beta_0 y beta_1\n",
    "beta_0 = (Co + Io + Go + Xo)\n",
    "beta_1 = ( 1-(b-m)*(1-t) )\n",
    "\n",
    "\n",
    "\n",
    "# simbolos\n",
    "Co, Io, Go, Xo, h, r, b, m, t, beta_0, beta_1  = symbols('Co Io Go Xo h r b m t beta_0, beta_1')\n",
    "\n",
    "# nombrar variables como símbolos\n",
    "k, j, Ms, P, Y = symbols('k j Ms P Y')\n",
    "\n",
    "# Beta_0 y beta_1\n",
    "beta_0 = (Co + Io + Go + Xo)\n",
    "beta_1 = ( 1-(b-m)*(1-t) )\n",
    "\n",
    "# Producto de equilibrio y la tasa de interes de equilibrio en el modelo IS-LM\n",
    "Y_eq = (k*beta_0)/(k*h + j*beta_1) - ( beta_1 / (k*h + j*beta_1) )*(Ms/P)\n",
    "r_eq = (j*beta_0)/(k*h + j*beta_1) + ( h / (k*h + j*beta_1) )*(Ms/P)"
   ]
  },
  {
   "cell_type": "code",
   "execution_count": 40,
   "id": "8a2ad8e4",
   "metadata": {},
   "outputs": [
    {
     "name": "stdout",
     "output_type": "stream",
     "text": [
      "El Diferencial del Producto con respecto al diferencial del gasto autonomo =  k/(h*k + j*(-(1 - t)*(b - m) + 1))\n"
     ]
    }
   ],
   "source": [
    "df_Y_eq_Go = diff(Y_eq, Go)\n",
    "print(\"El Diferencial del Producto con respecto al diferencial del gasto autonomo = \", df_Y_eq_Go)  # este diferencial es positivo"
   ]
  },
  {
   "cell_type": "code",
   "execution_count": 41,
   "id": "44bed4ba",
   "metadata": {},
   "outputs": [],
   "source": [
    "## GRAFICO\n",
    "    # Curva IS ORIGINAL\n",
    "\n",
    "# Parámetros\n",
    "\n",
    "Y_size = 100 \n",
    "\n",
    "Co = 40\n",
    "Io = 50\n",
    "Go = 100\n",
    "Xo = 1\n",
    "h = 0.5\n",
    "b = 0.8\n",
    "m = 0.2\n",
    "t = 0.4\n",
    "\n",
    "Y = np.arange(Y_size)\n",
    "\n",
    "\n",
    "# Ecuación \n",
    "def r_IS(b, m, t, Co, Io, Go, Xo, h, Y):\n",
    "    r_IS = (Co + Io + Go + Xo - Y * (1-(b-m)*(1-t)))/h\n",
    "    return r_IS\n",
    "\n",
    "r = r_IS(b, m, t, Co, Io, Go, Xo, h, Y)\n",
    "\n",
    "\n",
    "#--------------------------------------------------\n",
    "    # NUEVA curva IS\n",
    "    \n",
    "# Definir SOLO el parámetro cambiado\n",
    "Go = 70\n",
    "\n",
    "# Generar la ecuación con el nuevo parámetro\n",
    "def r_IS(b, m, t, Co, Io, Go, Xo, h, Y):\n",
    "    r_IS = (Co + Io + Go + Xo - Y * (1-(b-m)*(1-t)))/h\n",
    "    return r_IS\n",
    "\n",
    "r_G = r_IS(b, m, t, Co, Io, Go, Xo, h, Y)\n"
   ]
  },
  {
   "cell_type": "code",
   "execution_count": 42,
   "id": "c5f8c023",
   "metadata": {},
   "outputs": [
    {
     "data": {
      "image/png": "[encoded data removed]",
      "text/plain": [
       "<Figure size 720x576 with 1 Axes>"
      ]
     },
     "metadata": {
      "needs_background": "light"
     },
     "output_type": "display_data"
    }
   ],
   "source": [
    "    # Gráfico\n",
    "\n",
    "# Dimensiones del gráfico\n",
    "y_max = np.max(r)\n",
    "fig, ax = plt.subplots(figsize=(10, 8))\n",
    "\n",
    "# Curvas a graficar\n",
    "ax.plot(Y, r, label = \"IS\", color = \"black\") #IS orginal\n",
    "ax.plot(Y, r_G, label = \"IS_G\", color = \"C6\", linestyle = 'dashed') #Nueva IS\n",
    "\n",
    "# Texto agregado\n",
    "plt.text(47, 162, '∆Go', fontsize=12, color='black')\n",
    "plt.text(49, 159, '←', fontsize=15, color='grey')\n",
    "\n",
    "# Título, ejes y leyenda\n",
    "ax.set(title = \"Disminución en el Gasto Fiscal $(G_0)$\", xlabel= 'Y', ylabel= 'r')\n",
    "ax.legend()\n",
    "\n",
    "plt.show()"
   ]
  },
  {
   "cell_type": "markdown",
   "id": "d6780f35",
   "metadata": {},
   "source": [
    "- **Aumento del PBI mundial**\n",
    "\n",
    "Si el PBI mundial aumenta, habrán más empleos y menos pobreza. Lo que sucedería en las ecuaciones que hemos visto \n",
    "\n",
    "$Y^*$ = PBI Mundial\n",
    "\n",
    "$$Y^*↑ → Y↑$$\n",
    "\n",
    "Al aumentar el PBI mundial, aumentará el producto interno y la economía se verá muy beneficiada. Esto sucede porque hay más empleo y por lo tanto más contribuyentes a la economía nacional. "
   ]
  },
  {
   "cell_type": "markdown",
   "id": "3725d583",
   "metadata": {},
   "source": [
    "### EJERCICIO 2"
   ]
  },
  {
   "cell_type": "markdown",
   "id": "e8c5c161",
   "metadata": {},
   "source": [
    "**1. Ecuaciones de equilibrio**\n",
    "\n",
    "Tomando en cuenta la demanda agregada $(DA)$:\n",
    "\n",
    "$$  P = \\frac{h Mo^s + jB_o}{h} - \\frac{jB_1 + hk}{h}Y $$\n",
    "\n",
    "Y la ecuación de la oferta agregada $(OA)$:\n",
    "\n",
    "$$ P = P^e + θ(Y - \\bar{Y}) $$ \n",
    "\n",
    "para hallar $Y^e$ se deben de igualar las dos ecuaciones\n",
    "\n",
    "$$ \\frac{h Mo^s + jB_o}{h} - \\frac{jB_1 + hk}{h}Y = P^e + θ(Y - \\bar{Y}) $$\n",
    "\n",
    "$$ Y^e = (\\frac{h Mo^s + jB_o}{h} - P^e + θ\\bar{Y}) : (θ - \\frac{jB_1 + hk}{h}) $$\n",
    "\n",
    "\n",
    "para hallar $P^e$, despejar $OA$ en función de Y:\n",
    "\n",
    "$$ P = P^e + θ(Y - \\bar{Y}) $$ \n",
    "\n",
    "$$ Y = \\frac{P - P^e - θ\\bar{Y}}{θ} $$\n",
    "\n",
    "al reemplazar $Y$ en la ecuación de $DA$:\n",
    "\n",
    "$$ P^e = (\\frac{h Mo^s + jB_o}{h} - \\frac{jB_1 + hk}{h}) * (\\frac{P - P^e - θ\\bar{Y}}{θ}) $$\n",
    "\n"
   ]
  },
  {
   "cell_type": "markdown",
   "id": "8e623b58",
   "metadata": {},
   "source": [
    "**2. Aumento de la tasa de interés**\n",
    "\n",
    "$$r↑ → Y↓ → Y < DA$$\n",
    "\n",
    "Al subir la tasa de interés disminuye el producto porque las personas tienen menos dinero para gastar. Esto hace que haya un desequilibrio en la economía\n",
    "\n"
   ]
  },
  {
   "cell_type": "code",
   "execution_count": 43,
   "id": "d4c8f4f3",
   "metadata": {},
   "outputs": [],
   "source": [
    "# nombrar variables como símbolos\n",
    "Co, Io, Go, Xo, h, r, b, m, t, beta_0, beta_1  = symbols('Co Io Go Xo h r b m t beta_0, beta_1')\n",
    "\n",
    "# nombrar variables como símbolos\n",
    "k, j, Ms, P, Y = symbols('k j Ms P Y')\n",
    "\n",
    "# Beta_0 y beta_1\n",
    "beta_0 = (Co + Io + Go + Xo)\n",
    "beta_1 = ( 1-(b-m)*(1-t) )\n",
    "\n",
    "# Producto de equilibrio y la tasa de interes de equilibrio en el modelo IS-LM\n",
    "Y_eq = (k*beta_0)/(k*h + j*beta_1) - ( beta_1 / (k*h + j*beta_1) )*(Ms/P)\n",
    "r_eq = (j*beta_0)/(k*h + j*beta_1) + ( h / (k*h + j*beta_1) )*(Ms/P)\n"
   ]
  },
  {
   "cell_type": "code",
   "execution_count": 44,
   "id": "97086fce",
   "metadata": {},
   "outputs": [
    {
     "name": "stdout",
     "output_type": "stream",
     "text": [
      "El Diferencial del Producto con respecto al diferencial de la tasa de interés = 0\n"
     ]
    }
   ],
   "source": [
    "df_Y_eq_r = diff(Y_eq, r)\n",
    "print(\"El Diferencial del Producto con respecto al diferencial de la tasa de interés =\" , df_Y_eq_r)\n",
    "\n"
   ]
  },
  {
   "cell_type": "code",
   "execution_count": 45,
   "id": "8c277c69",
   "metadata": {},
   "outputs": [],
   "source": [
    "#1--------------------------\n",
    "    # Demanda Agregada ORGINAL\n",
    "    \n",
    "# Parámetros\n",
    "\n",
    "Y_size = 100 \n",
    "\n",
    "Co = 35\n",
    "Io = 40\n",
    "Go = 50\n",
    "Xo = 2\n",
    "h = 0.8\n",
    "b = 0.4\n",
    "m = 0.5\n",
    "t = 0.8\n",
    "r = 0.3\n",
    "\n",
    "k = 2\n",
    "j = 1                \n",
    "Ms = 200             \n",
    "P  = 8  \n",
    "\n",
    "Y = np.arange(Y_size)\n",
    "\n",
    "\n",
    "# Ecuación\n",
    "\n",
    "B0 = Co + Io + Go + Xo\n",
    "B1 = 1 - (b-m)*(1-t)\n",
    "\n",
    "def P_AD(h, Ms, j, B0, B1, k, Y):\n",
    "    P_AD = ((h*Ms + j*B0)/h) - (Y*(j*B1 + h*k)/h)\n",
    "    return P_AD\n",
    "\n",
    "P_AD = P_AD(h, Ms, j, B0, B1, k, Y)\n",
    "\n",
    "\n",
    "#2--------------------------\n",
    "    # Oferta Agregada ORIGINAL\n",
    "    \n",
    "# Parámetros\n",
    "\n",
    "Y_size = 100\n",
    "\n",
    "Pe = 70\n",
    "θ = 3\n",
    "_Y = 20  \n",
    "\n",
    "Y = np.arange(Y_size)\n",
    "\n",
    "# Ecuación\n",
    "\n",
    "def P_AS(r, _Y, Y, θ):\n",
    "    P_AS = r + θ*(Y-_Y)\n",
    "    return P_AS\n",
    "\n",
    "P_AS = P_AS(r, _Y, Y, θ)\n",
    "\n",
    "\n",
    "#--------------------------------------------------\n",
    "    # NUEVA Oferta Agregada\n",
    "\n",
    "# Definir SOLO el parámetro cambiado\n",
    "\n",
    "r = 0.9\n",
    "\n",
    "# Generar la ecuación con el nuevo parámetro\n",
    "\n",
    "def P_AS_Pe(Pe, _Y, Y, θ):\n",
    "    P_AS = Pe + θ*(Y-_Y)\n",
    "    return P_AS\n",
    "\n",
    "P_r = P_AS_Pe(Pe, _Y, Y, θ)"
   ]
  },
  {
   "cell_type": "code",
   "execution_count": 46,
   "id": "cca2bbb6",
   "metadata": {},
   "outputs": [
    {
     "data": {
      "image/png": "[encoded data removed]",
      "text/plain": [
       "<Figure size 720x576 with 1 Axes>"
      ]
     },
     "metadata": {},
     "output_type": "display_data"
    }
   ],
   "source": [
    " # Gráfico del modelo DA-OA\n",
    "\n",
    "# Dimensiones del gráfico\n",
    "\n",
    "y_max = np.max(P)\n",
    "fig, ax = plt.subplots(figsize=(10, 8))\n",
    "\n",
    "# Curvas a graficar \n",
    "ax.plot(Y, P_AD, label = \"AD\", color = \"C4\") #DA\n",
    "ax.plot(Y, P_AS, label = \"AS\", color = \"C0\") #OA\n",
    "ax.plot(Y, P_r, label = \"AS_r\", color = \"C5\", linestyle = 'dashed') #OA_r\n",
    "\n",
    "# Eliminar valores de ejes\n",
    "ax.yaxis.set_major_locator(plt.NullLocator())   \n",
    "ax.xaxis.set_major_locator(plt.NullLocator())\n",
    "\n",
    "# Título, ejes y leyenda\n",
    "ax.set(title=\"AD-AS\", xlabel= r'Y', ylabel= r'P')\n",
    "ax.legend()\n",
    "\n",
    "plt.show()"
   ]
  },
  {
   "cell_type": "code",
   "execution_count": null,
   "id": "fd2d260c",
   "metadata": {},
   "outputs": [],
   "source": []
  },
  {
   "cell_type": "code",
   "execution_count": null,
   "id": "c36f99ce",
   "metadata": {},
   "outputs": [],
   "source": []
  }
 ],
 "metadata": {
  "kernelspec": {
   "display_name": "Python 3 (ipykernel)",
   "language": "python",
   "name": "python3"
  },
  "language_info": {
   "codemirror_mode": {
    "name": "ipython",
    "version": 3
   },
   "file_extension": ".py",
   "mimetype": "text/x-python",
   "name": "python",
   "nbconvert_exporter": "python",
   "pygments_lexer": "ipython3",
   "version": "3.9.12"
  }
 },
 "nbformat": 4,
 "nbformat_minor": 5
}
